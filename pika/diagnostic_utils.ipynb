{
    "cells": [
        {
            "cell_type": "code",
            "execution_count": null,
            "metadata": {},
            "outputs": [],
            "source": [
                "\"\"\"\n",
                "Diagnostic utilities\n",
                "\"\"\"\n",
                "\n",
                "import functools\n",
                "import sys\n",
                "import traceback\n"
            ]
        },
        {
            "cell_type": "markdown",
            "metadata": {},
            "source": []
        },
        {
            "cell_type": "code",
            "execution_count": null,
            "metadata": {},
            "outputs": [],
            "source": [
                "def create_log_exception_decorator(logger):\n",
                "    \"\"\"Create a decorator that logs and reraises any exceptions that escape\n",
                "    the decorated function\n",
                "\n",
                "    :param logging.Logger logger:\n",
                "    :returns: the decorator\n",
                "    :rtype: callable\n",
                "\n",
                "    Usage example\n",
                "\n",
                "    import logging\n",
                "\n",
                "    from pika.diagnostics_utils import create_log_exception_decorator\n",
                "\n",
                "    _log_exception = create_log_exception_decorator(logging.getLogger(__name__))\n",
                "\n",
                "    @_log_exception\n",
                "    def my_func_or_method():\n",
                "        raise Exception('Oops!')\n",
                "\n",
                "    \"\"\"\n",
                "\n",
                "    def log_exception(func):\n",
                "        \"\"\"The decorator returned by the parent function\n",
                "\n",
                "        :param func: function to be wrapped\n",
                "        :returns: the function wrapper\n",
                "        :rtype: callable\n",
                "        \"\"\"\n",
                "\n",
                "        @functools.wraps(func)\n",
                "        def log_exception_func_wrap(*args, **kwargs):\n",
                "            \"\"\"The wrapper function returned by the decorator. Invokes the\n",
                "            function with the given args/kwargs and returns the function's\n",
                "            return value. If the function exits with an exception, logs the\n",
                "            exception traceback and re-raises the\n",
                "\n",
                "            :param args: positional args passed to wrapped function\n",
                "            :param kwargs: keyword args passed to wrapped function\n",
                "            :returns: whatever the wrapped function returns\n",
                "            :rtype: object\n",
                "            \"\"\"\n",
                "            try:\n",
                "                return func(*args, **kwargs)\n",
                "            except:\n",
                "                logger.exception(\n",
                "                    \"Wrapped func exited with exception. Caller's stack:\\n%s\",\n",
                "                    \"\".join(traceback.format_exception(*sys.exc_info())),\n",
                "                )\n",
                "                raise\n",
                "\n",
                "        return log_exception_func_wrap\n",
                "\n",
                "    return log_exception\n",
                "\n"
            ]
        },
        {
            "cell_type": "markdown",
            "metadata": {},
            "source": []
        }
    ],
    "metadata": {
        "language_info": {
            "name": "python"
        }
    },
    "nbformat": 4,
    "nbformat_minor": 2
}