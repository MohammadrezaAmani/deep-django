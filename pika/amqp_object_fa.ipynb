{
    "cells": [
        {
            "cell_type": "code",
            "execution_count": null,
            "metadata": {},
            "outputs": [],
            "source": [
                "\"\"\"Base classes that are extended by low level AMQP frames and higher level\n",
                "AMQP classes and methods.\n",
                "\n",
                "\"\"\"\n"
            ]
        },
        {
            "cell_type": "markdown",
            "metadata": {},
            "source": []
        },
        {
            "cell_type": "code",
            "execution_count": null,
            "metadata": {},
            "outputs": [],
            "source": [
                "class AMQPObject(object):\n",
                "    \"\"\"Base object that is extended by AMQP low level frames and AMQP classes\n",
                "    and methods.\n",
                "\n",
                "    \"\"\"\n",
                "\n",
                "    NAME = \"AMQPObject\"\n",
                "    INDEX = None\n",
                "\n",
                "    def __repr__(self):\n",
                "        items = list()\n",
                "        for key, value in self.__dict__.items():\n",
                "            if getattr(self.__class__, key, None) != value:\n",
                "                items.append(\"%s=%s\" % (key, value))\n",
                "        if not items:\n",
                "            return \"<%s>\" % self.NAME\n",
                "        return \"<%s(%s)>\" % (self.NAME, sorted(items))\n",
                "\n",
                "    def __eq__(self, other):\n",
                "        if other is not None:\n",
                "            return self.__dict__ == other.__dict__\n",
                "        else:\n",
                "            return False\n"
            ]
        },
        {
            "cell_type": "markdown",
            "metadata": {},
            "source": []
        },
        {
            "cell_type": "code",
            "execution_count": null,
            "metadata": {},
            "outputs": [],
            "source": [
                "class Class(AMQPObject):\n",
                "    \"\"\"Is extended by AMQP classes\"\"\"\n",
                "\n",
                "    NAME = \"Unextended Class\"\n"
            ]
        },
        {
            "cell_type": "markdown",
            "metadata": {},
            "source": []
        },
        {
            "cell_type": "code",
            "execution_count": null,
            "metadata": {},
            "outputs": [],
            "source": [
                "class Method(AMQPObject):\n",
                "    \"\"\"Is extended by AMQP methods\"\"\"\n",
                "\n",
                "    NAME = \"Unextended Method\"\n",
                "    synchronous = False\n",
                "\n",
                "    def _set_content(self, properties, body):\n",
                "        \"\"\"If the method is a content frame, set the properties and body to\n",
                "        be carried as attributes of the class.\n",
                "\n",
                "        :param pika.frame.Properties properties: AMQP Basic Properties\n",
                "        :param bytes body: The message body\n",
                "\n",
                "        \"\"\"\n",
                "        self._properties = properties  # pylint: disable=W0201\n",
                "        self._body = body  # pylint: disable=W0201\n",
                "\n",
                "    def get_properties(self):\n",
                "        \"\"\"Return the properties if they are set.\n",
                "\n",
                "        :rtype: pika.frame.Properties\n",
                "\n",
                "        \"\"\"\n",
                "        return self._properties\n",
                "\n",
                "    def get_body(self):\n",
                "        \"\"\"Return the message body if it is set.\n",
                "\n",
                "        :rtype: str|unicode\n",
                "\n",
                "        \"\"\"\n",
                "        return self._body\n"
            ]
        },
        {
            "cell_type": "markdown",
            "metadata": {},
            "source": []
        },
        {
            "cell_type": "code",
            "execution_count": null,
            "metadata": {},
            "outputs": [],
            "source": [
                "class Properties(AMQPObject):\n",
                "    \"\"\"Class to encompass message properties (AMQP Basic.Properties)\"\"\"\n",
                "\n",
                "    NAME = \"Unextended Properties\"\n",
                "\n"
            ]
        },
        {
            "cell_type": "markdown",
            "metadata": {},
            "source": []
        }
    ],
    "metadata": {
        "language_info": {
            "name": "python"
        }
    },
    "nbformat": 4,
    "nbformat_minor": 2
}