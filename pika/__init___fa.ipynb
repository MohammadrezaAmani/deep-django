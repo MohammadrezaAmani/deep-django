{
    "cells": [
        {
            "cell_type": "code",
            "execution_count": null,
            "metadata": {},
            "outputs": [],
            "source": [
                "__version__ = \"1.3.2\"\n",
                "\n",
                "import logging\n",
                "\n",
                "# Add NullHandler before importing Pika modules to prevent logging warnings\n",
                "logging.getLogger(__name__).addHandler(logging.NullHandler())\n",
                "\n",
                "# pylint: disable=C0413\n",
                "\n",
                "\n"
            ]
        },
        {
            "cell_type": "markdown",
            "metadata": {},
            "source": []
        }
    ],
    "metadata": {
        "language_info": {
            "name": "python"
        }
    },
    "nbformat": 4,
    "nbformat_minor": 2
}