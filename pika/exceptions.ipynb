{
    "cells": [
        {
            "cell_type": "code",
            "execution_count": null,
            "metadata": {},
            "outputs": [],
            "source": [
                "\"\"\"Pika specific exceptions\"\"\"\n",
                "# pylint: disable=C0111,E1136\n"
            ]
        },
        {
            "cell_type": "markdown",
            "metadata": {},
            "source": []
        },
        {
            "cell_type": "code",
            "execution_count": null,
            "metadata": {},
            "outputs": [],
            "source": [
                "class AMQPError(Exception):\n",
                "    def __repr__(self):\n",
                "        return \"%s: An unspecified AMQP error has occurred; %s\" % (\n",
                "            self.__class__.__name__,\n",
                "            self.args,\n",
                "        )\n"
            ]
        },
        {
            "cell_type": "markdown",
            "metadata": {},
            "source": []
        },
        {
            "cell_type": "code",
            "execution_count": null,
            "metadata": {},
            "outputs": [],
            "source": [
                "class AMQPConnectionError(AMQPError):\n",
                "    def __repr__(self):\n",
                "        if len(self.args) == 2:\n",
                "            return \"{}: ({}) {}\".format(\n",
                "                self.__class__.__name__, self.args[0], self.args[1]\n",
                "            )\n",
                "        else:\n",
                "            return \"{}: {}\".format(self.__class__.__name__, self.args)\n"
            ]
        },
        {
            "cell_type": "markdown",
            "metadata": {},
            "source": []
        },
        {
            "cell_type": "code",
            "execution_count": null,
            "metadata": {},
            "outputs": [],
            "source": [
                "class ConnectionOpenAborted(AMQPConnectionError):\n",
                "    \"\"\"Client closed connection while opening.\"\"\"\n"
            ]
        },
        {
            "cell_type": "markdown",
            "metadata": {},
            "source": []
        },
        {
            "cell_type": "code",
            "execution_count": null,
            "metadata": {},
            "outputs": [],
            "source": [
                "class StreamLostError(AMQPConnectionError):\n",
                "    \"\"\"Stream (TCP) connection lost.\"\"\"\n"
            ]
        },
        {
            "cell_type": "markdown",
            "metadata": {},
            "source": []
        },
        {
            "cell_type": "code",
            "execution_count": null,
            "metadata": {},
            "outputs": [],
            "source": [
                "class IncompatibleProtocolError(AMQPConnectionError):\n",
                "    def __repr__(self):\n",
                "        return \"%s: The protocol returned by the server is not supported: %s\" % (\n",
                "            self.__class__.__name__,\n",
                "            self.args,\n",
                "        )\n"
            ]
        },
        {
            "cell_type": "markdown",
            "metadata": {},
            "source": []
        },
        {
            "cell_type": "code",
            "execution_count": null,
            "metadata": {},
            "outputs": [],
            "source": [
                "class AuthenticationError(AMQPConnectionError):\n",
                "    def __repr__(self):\n",
                "        return (\n",
                "            \"%s: Server and client could not negotiate use of the %s \"\n",
                "            \"authentication mechanism\" % (self.__class__.__name__, self.args[0])\n",
                "        )\n"
            ]
        },
        {
            "cell_type": "markdown",
            "metadata": {},
            "source": []
        },
        {
            "cell_type": "code",
            "execution_count": null,
            "metadata": {},
            "outputs": [],
            "source": [
                "class ProbableAuthenticationError(AMQPConnectionError):\n",
                "    def __repr__(self):\n",
                "        return (\n",
                "            \"%s: Client was disconnected at a connection stage indicating a \"\n",
                "            \"probable authentication error: %s\"\n",
                "            % (\n",
                "                self.__class__.__name__,\n",
                "                self.args,\n",
                "            )\n",
                "        )\n"
            ]
        },
        {
            "cell_type": "markdown",
            "metadata": {},
            "source": []
        },
        {
            "cell_type": "code",
            "execution_count": null,
            "metadata": {},
            "outputs": [],
            "source": [
                "class ProbableAccessDeniedError(AMQPConnectionError):\n",
                "    def __repr__(self):\n",
                "        return (\n",
                "            \"%s: Client was disconnected at a connection stage indicating a \"\n",
                "            \"probable denial of access to the specified virtual host: %s\"\n",
                "            % (\n",
                "                self.__class__.__name__,\n",
                "                self.args,\n",
                "            )\n",
                "        )\n"
            ]
        },
        {
            "cell_type": "markdown",
            "metadata": {},
            "source": []
        },
        {
            "cell_type": "code",
            "execution_count": null,
            "metadata": {},
            "outputs": [],
            "source": [
                "class NoFreeChannels(AMQPConnectionError):\n",
                "    def __repr__(self):\n",
                "        return \"%s: The connection has run out of free channels\" % (\n",
                "            self.__class__.__name__\n",
                "        )\n"
            ]
        },
        {
            "cell_type": "markdown",
            "metadata": {},
            "source": []
        },
        {
            "cell_type": "code",
            "execution_count": null,
            "metadata": {},
            "outputs": [],
            "source": [
                "class ConnectionWrongStateError(AMQPConnectionError):\n",
                "    \"\"\"Connection is in wrong state for the requested operation.\"\"\"\n",
                "\n",
                "    def __repr__(self):\n",
                "        if self.args:\n",
                "            return super(ConnectionWrongStateError, self).__repr__()\n",
                "        else:\n",
                "            return (\n",
                "                \"%s: The connection is in wrong state for the requested \"\n",
                "                \"operation.\" % self.__class__.__name__\n",
                "            )\n"
            ]
        },
        {
            "cell_type": "markdown",
            "metadata": {},
            "source": []
        },
        {
            "cell_type": "code",
            "execution_count": null,
            "metadata": {},
            "outputs": [],
            "source": [
                "class ConnectionClosed(AMQPConnectionError):\n",
                "    def __init__(self, reply_code, reply_text):\n",
                "        \"\"\"\n",
                "\n",
                "        :param int reply_code: reply-code that was used in user's or broker's\n",
                "            `Connection.Close` method. NEW in v1.0.0\n",
                "        :param str reply_text: reply-text that was used in user's or broker's\n",
                "            `Connection.Close` method. Human-readable string corresponding to\n",
                "            `reply_code`. NEW in v1.0.0\n",
                "        \"\"\"\n",
                "        super(ConnectionClosed, self).__init__(int(reply_code), str(reply_text))\n",
                "\n",
                "    def __repr__(self):\n",
                "        return \"{}: ({}) {!r}\".format(\n",
                "            self.__class__.__name__, self.reply_code, self.reply_text\n",
                "        )\n",
                "\n",
                "    @property\n",
                "    def reply_code(self):\n",
                "        \"\"\"NEW in v1.0.0\n",
                "        :rtype: int\n",
                "\n",
                "        \"\"\"\n",
                "        return self.args[0]\n",
                "\n",
                "    @property\n",
                "    def reply_text(self):\n",
                "        \"\"\"NEW in v1.0.0\n",
                "        :rtype: str\n",
                "\n",
                "        \"\"\"\n",
                "        return self.args[1]\n"
            ]
        },
        {
            "cell_type": "markdown",
            "metadata": {},
            "source": []
        },
        {
            "cell_type": "code",
            "execution_count": null,
            "metadata": {},
            "outputs": [],
            "source": [
                "class ConnectionClosedByBroker(ConnectionClosed):\n",
                "    \"\"\"Connection.Close from broker.\"\"\"\n"
            ]
        },
        {
            "cell_type": "markdown",
            "metadata": {},
            "source": []
        },
        {
            "cell_type": "code",
            "execution_count": null,
            "metadata": {},
            "outputs": [],
            "source": [
                "class ConnectionClosedByClient(ConnectionClosed):\n",
                "    \"\"\"Connection was closed at request of Pika client.\"\"\"\n"
            ]
        },
        {
            "cell_type": "markdown",
            "metadata": {},
            "source": []
        },
        {
            "cell_type": "code",
            "execution_count": null,
            "metadata": {},
            "outputs": [],
            "source": [
                "class ConnectionBlockedTimeout(AMQPConnectionError):\n",
                "    \"\"\"RabbitMQ-specific: timed out waiting for connection.unblocked.\"\"\"\n"
            ]
        },
        {
            "cell_type": "markdown",
            "metadata": {},
            "source": []
        },
        {
            "cell_type": "code",
            "execution_count": null,
            "metadata": {},
            "outputs": [],
            "source": [
                "class AMQPHeartbeatTimeout(AMQPConnectionError):\n",
                "    \"\"\"Connection was dropped as result of heartbeat timeout.\"\"\"\n"
            ]
        },
        {
            "cell_type": "markdown",
            "metadata": {},
            "source": []
        },
        {
            "cell_type": "code",
            "execution_count": null,
            "metadata": {},
            "outputs": [],
            "source": [
                "class AMQPChannelError(AMQPError):\n",
                "    def __repr__(self):\n",
                "        return \"{}: {!r}\".format(self.__class__.__name__, self.args)\n"
            ]
        },
        {
            "cell_type": "markdown",
            "metadata": {},
            "source": []
        },
        {
            "cell_type": "code",
            "execution_count": null,
            "metadata": {},
            "outputs": [],
            "source": [
                "class ChannelWrongStateError(AMQPChannelError):\n",
                "    \"\"\"Channel is in wrong state for the requested operation.\"\"\"\n"
            ]
        },
        {
            "cell_type": "markdown",
            "metadata": {},
            "source": []
        },
        {
            "cell_type": "code",
            "execution_count": null,
            "metadata": {},
            "outputs": [],
            "source": [
                "class ChannelClosed(AMQPChannelError):\n",
                "    \"\"\"The channel closed by client or by broker\"\"\"\n",
                "\n",
                "    def __init__(self, reply_code, reply_text):\n",
                "        \"\"\"\n",
                "\n",
                "        :param int reply_code: reply-code that was used in user's or broker's\n",
                "            `Channel.Close` method. One of the AMQP-defined Channel Errors.\n",
                "            NEW in v1.0.0\n",
                "        :param str reply_text: reply-text that was used in user's or broker's\n",
                "            `Channel.Close` method. Human-readable string corresponding to\n",
                "            `reply_code`;\n",
                "            NEW in v1.0.0\n",
                "\n",
                "        \"\"\"\n",
                "        super(ChannelClosed, self).__init__(int(reply_code), str(reply_text))\n",
                "\n",
                "    def __repr__(self):\n",
                "        return \"{}: ({}) {!r}\".format(\n",
                "            self.__class__.__name__, self.reply_code, self.reply_text\n",
                "        )\n",
                "\n",
                "    @property\n",
                "    def reply_code(self):\n",
                "        \"\"\"NEW in v1.0.0\n",
                "        :rtype: int\n",
                "\n",
                "        \"\"\"\n",
                "        return self.args[0]\n",
                "\n",
                "    @property\n",
                "    def reply_text(self):\n",
                "        \"\"\"NEW in v1.0.0\n",
                "        :rtype: str\n",
                "\n",
                "        \"\"\"\n",
                "        return self.args[1]\n"
            ]
        },
        {
            "cell_type": "markdown",
            "metadata": {},
            "source": []
        },
        {
            "cell_type": "code",
            "execution_count": null,
            "metadata": {},
            "outputs": [],
            "source": [
                "class ChannelClosedByBroker(ChannelClosed):\n",
                "    \"\"\"`Channel.Close` from broker; may be passed as reason to channel's\n",
                "    on-closed callback of non-blocking connection adapters or raised by\n",
                "    `BlockingConnection`.\n",
                "\n",
                "    NEW in v1.0.0\n",
                "    \"\"\"\n"
            ]
        },
        {
            "cell_type": "markdown",
            "metadata": {},
            "source": []
        },
        {
            "cell_type": "code",
            "execution_count": null,
            "metadata": {},
            "outputs": [],
            "source": [
                "class ChannelClosedByClient(ChannelClosed):\n",
                "    \"\"\"Channel closed by client upon receipt of `Channel.CloseOk`; may be passed\n",
                "    as reason to channel's on-closed callback of non-blocking connection\n",
                "    adapters, but not raised by `BlockingConnection`.\n",
                "\n",
                "    NEW in v1.0.0\n",
                "    \"\"\"\n"
            ]
        },
        {
            "cell_type": "markdown",
            "metadata": {},
            "source": []
        },
        {
            "cell_type": "code",
            "execution_count": null,
            "metadata": {},
            "outputs": [],
            "source": [
                "class DuplicateConsumerTag(AMQPChannelError):\n",
                "    def __repr__(self):\n",
                "        return (\n",
                "            \"%s: The consumer tag specified already exists for this \"\n",
                "            \"channel: %s\" % (self.__class__.__name__, self.args[0])\n",
                "        )\n"
            ]
        },
        {
            "cell_type": "markdown",
            "metadata": {},
            "source": []
        },
        {
            "cell_type": "code",
            "execution_count": null,
            "metadata": {},
            "outputs": [],
            "source": [
                "class ConsumerCancelled(AMQPChannelError):\n",
                "    def __repr__(self):\n",
                "        return \"%s: Server cancelled consumer\" % self.__class__.__name__\n"
            ]
        },
        {
            "cell_type": "markdown",
            "metadata": {},
            "source": []
        },
        {
            "cell_type": "code",
            "execution_count": null,
            "metadata": {},
            "outputs": [],
            "source": [
                "class UnroutableError(AMQPChannelError):\n",
                "    \"\"\"Exception containing one or more unroutable messages returned by broker\n",
                "    via Basic.Return.\n",
                "\n",
                "    Used by BlockingChannel.\n",
                "\n",
                "    In publisher-acknowledgements mode, this is raised upon receipt of Basic.Ack\n",
                "    from broker; in the event of Basic.Nack from broker, `NackError` is raised\n",
                "    instead\n",
                "    \"\"\"\n",
                "\n",
                "    def __init__(self, messages):\n",
                "        \"\"\"\n",
                "        :param sequence(blocking_connection.ReturnedMessage) messages: Sequence\n",
                "            of returned unroutable messages\n",
                "        \"\"\"\n",
                "        super(UnroutableError, self).__init__(\n",
                "            \"%s unroutable message(s) returned\" % (len(messages))\n",
                "        )\n",
                "\n",
                "        self.messages = messages\n",
                "\n",
                "    def __repr__(self):\n",
                "        return \"%s: %i unroutable messages returned by broker\" % (\n",
                "            self.__class__.__name__,\n",
                "            len(self.messages),\n",
                "        )\n"
            ]
        },
        {
            "cell_type": "markdown",
            "metadata": {},
            "source": []
        },
        {
            "cell_type": "code",
            "execution_count": null,
            "metadata": {},
            "outputs": [],
            "source": [
                "class NackError(AMQPChannelError):\n",
                "    \"\"\"This exception is raised when a message published in\n",
                "    publisher-acknowledgements mode is Nack'ed by the broker.\n",
                "\n",
                "    Used by BlockingChannel.\n",
                "    \"\"\"\n",
                "\n",
                "    def __init__(self, messages):\n",
                "        \"\"\"\n",
                "        :param sequence(blocking_connection.ReturnedMessage) messages: Sequence\n",
                "            of returned unroutable messages\n",
                "        \"\"\"\n",
                "        super(NackError, self).__init__(\"%s message(s) NACKed\" % (len(messages)))\n",
                "\n",
                "        self.messages = messages\n",
                "\n",
                "    def __repr__(self):\n",
                "        return \"%s: %i unroutable messages returned by broker\" % (\n",
                "            self.__class__.__name__,\n",
                "            len(self.messages),\n",
                "        )\n"
            ]
        },
        {
            "cell_type": "markdown",
            "metadata": {},
            "source": []
        },
        {
            "cell_type": "code",
            "execution_count": null,
            "metadata": {},
            "outputs": [],
            "source": [
                "class InvalidChannelNumber(AMQPError):\n",
                "    def __repr__(self):\n",
                "        return \"%s: An invalid channel number has been specified: %s\" % (\n",
                "            self.__class__.__name__,\n",
                "            self.args[0],\n",
                "        )\n"
            ]
        },
        {
            "cell_type": "markdown",
            "metadata": {},
            "source": []
        },
        {
            "cell_type": "code",
            "execution_count": null,
            "metadata": {},
            "outputs": [],
            "source": [
                "class ProtocolSyntaxError(AMQPError):\n",
                "    def __repr__(self):\n",
                "        return \"%s: An unspecified protocol syntax error occurred\" % (\n",
                "            self.__class__.__name__\n",
                "        )\n"
            ]
        },
        {
            "cell_type": "markdown",
            "metadata": {},
            "source": []
        },
        {
            "cell_type": "code",
            "execution_count": null,
            "metadata": {},
            "outputs": [],
            "source": [
                "class UnexpectedFrameError(ProtocolSyntaxError):\n",
                "    def __repr__(self):\n",
                "        return \"%s: Received a frame out of sequence: %r\" % (\n",
                "            self.__class__.__name__,\n",
                "            self.args[0],\n",
                "        )\n"
            ]
        },
        {
            "cell_type": "markdown",
            "metadata": {},
            "source": []
        },
        {
            "cell_type": "code",
            "execution_count": null,
            "metadata": {},
            "outputs": [],
            "source": [
                "class ProtocolVersionMismatch(ProtocolSyntaxError):\n",
                "    def __repr__(self):\n",
                "        return \"%s: Protocol versions did not match: %r vs %r\" % (\n",
                "            self.__class__.__name__,\n",
                "            self.args[0],\n",
                "            self.args[1],\n",
                "        )\n"
            ]
        },
        {
            "cell_type": "markdown",
            "metadata": {},
            "source": []
        },
        {
            "cell_type": "code",
            "execution_count": null,
            "metadata": {},
            "outputs": [],
            "source": [
                "class BodyTooLongError(ProtocolSyntaxError):\n",
                "    def __repr__(self):\n",
                "        return (\n",
                "            \"%s: Received too many bytes for a message delivery: \"\n",
                "            \"Received %i, expected %i\"\n",
                "            % (self.__class__.__name__, self.args[0], self.args[1])\n",
                "        )\n"
            ]
        },
        {
            "cell_type": "markdown",
            "metadata": {},
            "source": []
        },
        {
            "cell_type": "code",
            "execution_count": null,
            "metadata": {},
            "outputs": [],
            "source": [
                "class InvalidFrameError(ProtocolSyntaxError):\n",
                "    def __repr__(self):\n",
                "        return \"%s: Invalid frame received: %r\" % (\n",
                "            self.__class__.__name__,\n",
                "            self.args[0],\n",
                "        )\n"
            ]
        },
        {
            "cell_type": "markdown",
            "metadata": {},
            "source": []
        },
        {
            "cell_type": "code",
            "execution_count": null,
            "metadata": {},
            "outputs": [],
            "source": [
                "class InvalidFieldTypeException(ProtocolSyntaxError):\n",
                "    def __repr__(self):\n",
                "        return \"%s: Unsupported field kind %s\" % (self.__class__.__name__, self.args[0])\n"
            ]
        },
        {
            "cell_type": "markdown",
            "metadata": {},
            "source": []
        },
        {
            "cell_type": "code",
            "execution_count": null,
            "metadata": {},
            "outputs": [],
            "source": [
                "class UnsupportedAMQPFieldException(ProtocolSyntaxError):\n",
                "    def __repr__(self):\n",
                "        return \"%s: Unsupported field kind %s\" % (\n",
                "            self.__class__.__name__,\n",
                "            type(self.args[1]),\n",
                "        )\n"
            ]
        },
        {
            "cell_type": "markdown",
            "metadata": {},
            "source": []
        },
        {
            "cell_type": "code",
            "execution_count": null,
            "metadata": {},
            "outputs": [],
            "source": [
                "class MethodNotImplemented(AMQPError):\n",
                "    pass\n"
            ]
        },
        {
            "cell_type": "markdown",
            "metadata": {},
            "source": []
        },
        {
            "cell_type": "code",
            "execution_count": null,
            "metadata": {},
            "outputs": [],
            "source": [
                "class ChannelError(Exception):\n",
                "    def __repr__(self):\n",
                "        return \"%s: An unspecified error occurred with the Channel\" % (\n",
                "            self.__class__.__name__\n",
                "        )\n"
            ]
        },
        {
            "cell_type": "markdown",
            "metadata": {},
            "source": []
        },
        {
            "cell_type": "code",
            "execution_count": null,
            "metadata": {},
            "outputs": [],
            "source": [
                "class ReentrancyError(Exception):\n",
                "    \"\"\"The requested operation would result in unsupported recursion or\n",
                "    reentrancy.\n",
                "\n",
                "    Used by BlockingConnection/BlockingChannel\n",
                "\n",
                "    \"\"\"\n"
            ]
        },
        {
            "cell_type": "markdown",
            "metadata": {},
            "source": []
        },
        {
            "cell_type": "code",
            "execution_count": null,
            "metadata": {},
            "outputs": [],
            "source": [
                "class ShortStringTooLong(AMQPError):\n",
                "    def __repr__(self):\n",
                "        return \"%s: AMQP Short String can contain up to 255 bytes: \" \"%.300s\" % (\n",
                "            self.__class__.__name__,\n",
                "            self.args[0],\n",
                "        )\n"
            ]
        },
        {
            "cell_type": "markdown",
            "metadata": {},
            "source": []
        },
        {
            "cell_type": "code",
            "execution_count": null,
            "metadata": {},
            "outputs": [],
            "source": [
                "class DuplicateGetOkCallback(ChannelError):\n",
                "    def __repr__(self):\n",
                "        return (\n",
                "            \"%s: basic_get can only be called again after the callback for \"\n",
                "            \"the previous basic_get is executed\" % self.__class__.__name__\n",
                "        )\n",
                "\n"
            ]
        },
        {
            "cell_type": "markdown",
            "metadata": {},
            "source": []
        }
    ],
    "metadata": {
        "language_info": {
            "name": "python"
        }
    },
    "nbformat": 4,
    "nbformat_minor": 2
}