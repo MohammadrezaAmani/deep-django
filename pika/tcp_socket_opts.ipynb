{
    "cells": [
        {
            "cell_type": "code",
            "execution_count": null,
            "metadata": {},
            "outputs": [],
            "source": [
                "# pylint: disable=C0111\n",
                "\n",
                "import logging\n",
                "import socket\n",
                "\n",
                "import pika.compat\n",
                "\n",
                "LOGGER = logging.getLogger(__name__)\n",
                "\n",
                "_SUPPORTED_TCP_OPTIONS = {}\n",
                "\n",
                "try:\n",
                "    _SUPPORTED_TCP_OPTIONS[\"TCP_USER_TIMEOUT\"] = socket.TCP_USER_TIMEOUT\n",
                "except AttributeError:\n",
                "    if pika.compat.LINUX_VERSION and pika.compat.LINUX_VERSION >= (2, 6, 37):\n",
                "        # this is not the timeout value, but the number corresponding\n",
                "        # to the constant in tcp.h\n",
                "        # https://github.com/torvalds/linux/blob/master/include/uapi/linux/tcp.h#\n",
                "        # #define TCP_USER_TIMEOUT\t18\t/* How long for loss retry before timeout */\n",
                "        _SUPPORTED_TCP_OPTIONS[\"TCP_USER_TIMEOUT\"] = 18\n",
                "\n",
                "try:\n",
                "    _SUPPORTED_TCP_OPTIONS[\"TCP_KEEPIDLE\"] = socket.TCP_KEEPIDLE\n",
                "    _SUPPORTED_TCP_OPTIONS[\"TCP_KEEPCNT\"] = socket.TCP_KEEPCNT\n",
                "    _SUPPORTED_TCP_OPTIONS[\"TCP_KEEPINTVL\"] = socket.TCP_KEEPINTVL\n",
                "except AttributeError:\n",
                "    pass\n"
            ]
        },
        {
            "cell_type": "markdown",
            "metadata": {},
            "source": []
        },
        {
            "cell_type": "code",
            "execution_count": null,
            "metadata": {},
            "outputs": [],
            "source": [
                "def socket_requires_keepalive(tcp_options):\n",
                "    return (\n",
                "        \"TCP_KEEPIDLE\" in tcp_options\n",
                "        or \"TCP_KEEPCNT\" in tcp_options\n",
                "        or \"TCP_KEEPINTVL\" in tcp_options\n",
                "    )\n"
            ]
        },
        {
            "cell_type": "markdown",
            "metadata": {},
            "source": []
        },
        {
            "cell_type": "code",
            "execution_count": null,
            "metadata": {},
            "outputs": [],
            "source": [
                "def set_sock_opts(tcp_options, sock):\n",
                "    if not tcp_options:\n",
                "        return\n",
                "\n",
                "    if socket_requires_keepalive(tcp_options):\n",
                "        sock.setsockopt(socket.SOL_SOCKET, socket.SO_KEEPALIVE, 1)\n",
                "\n",
                "    for key, value in tcp_options.items():\n",
                "        option = _SUPPORTED_TCP_OPTIONS.get(key)\n",
                "        if option:\n",
                "            sock.setsockopt(pika.compat.SOL_TCP, option, value)\n",
                "        else:\n",
                "            LOGGER.warning(\"Unsupported TCP option %s:%s\", key, value)\n",
                "\n"
            ]
        },
        {
            "cell_type": "markdown",
            "metadata": {},
            "source": []
        }
    ],
    "metadata": {
        "language_info": {
            "name": "python"
        }
    },
    "nbformat": 4,
    "nbformat_minor": 2
}