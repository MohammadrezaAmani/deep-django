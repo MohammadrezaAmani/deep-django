{
    "cells": [
        {
            "cell_type": "code",
            "execution_count": null,
            "metadata": {},
            "outputs": [],
            "source": [
                "try:\n",
                "    from enum import StrEnum  # available from Python 3.11\n",
                "\n",
                "    class ExchangeType(StrEnum):\n",
                "        direct = \"direct\"\n",
                "        fanout = \"fanout\"\n",
                "        headers = \"headers\"\n",
                "        topic = \"topic\"\n",
                "\n",
                "except ImportError:\n",
                "    from enum import Enum\n",
                "\n",
                "    class ExchangeType(str, Enum):\n",
                "        direct = \"direct\"\n",
                "        fanout = \"fanout\"\n",
                "        headers = \"headers\"\n",
                "        topic = \"topic\"\n",
                "\n"
            ]
        },
        {
            "cell_type": "markdown",
            "metadata": {},
            "source": []
        }
    ],
    "metadata": {
        "language_info": {
            "name": "python"
        }
    },
    "nbformat": 4,
    "nbformat_minor": 2
}