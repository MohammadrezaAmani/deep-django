{
    "cells": [
        {
            "cell_type": "code",
            "execution_count": null,
            "metadata": {},
            "outputs": [],
            "source": [
                "\"\"\"\n",
                "Connection Adapters\n",
                "===================\n",
                "\n",
                "Pika provides multiple adapters to connect to RabbitMQ:\n",
                "\n",
                "- adapters.asyncio_connection.AsyncioConnection: Native Python3 AsyncIO use\n",
                "- adapters.blocking_connection.BlockingConnection: Enables blocking,\n",
                "  synchronous operation on top of library for simple uses.\n",
                "- adapters.gevent_connection.GeventConnection: Connection adapter for use with\n",
                "  Gevent.\n",
                "- adapters.select_connection.SelectConnection: A native event based connection\n",
                "  adapter that implements select, kqueue, poll and epoll.\n",
                "- adapters.tornado_connection.TornadoConnection: Connection adapter for use\n",
                "  with the Tornado web framework.\n",
                "- adapters.twisted_connection.TwistedProtocolConnection: Connection adapter for\n",
                "  use with the Twisted framework\n",
                "\n",
                "\"\"\"\n",
                "\n"
            ]
        },
        {
            "cell_type": "markdown",
            "metadata": {},
            "source": []
        }
    ],
    "metadata": {
        "language_info": {
            "name": "python"
        }
    },
    "nbformat": 4,
    "nbformat_minor": 2
}