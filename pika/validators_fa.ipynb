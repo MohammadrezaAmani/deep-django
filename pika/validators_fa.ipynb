{
    "cells": [
        {
            "cell_type": "code",
            "execution_count": null,
            "metadata": {},
            "outputs": [],
            "source": [
                "\"\"\"\n",
                "Common validation functions\n",
                "\"\"\"\n",
                "\n",
                "from pika.compat import basestring\n"
            ]
        },
        {
            "cell_type": "markdown",
            "metadata": {},
            "source": []
        },
        {
            "cell_type": "code",
            "execution_count": null,
            "metadata": {},
            "outputs": [],
            "source": [
                "def require_string(value, value_name):\n",
                "    \"\"\"Require that value is a string\n",
                "\n",
                "    :raises: TypeError\n",
                "\n",
                "    \"\"\"\n",
                "    if not isinstance(value, basestring):\n",
                "        raise TypeError(\n",
                "            \"%s must be a str or unicode str, but got %r\"\n",
                "            % (\n",
                "                value_name,\n",
                "                value,\n",
                "            )\n",
                "        )\n"
            ]
        },
        {
            "cell_type": "markdown",
            "metadata": {},
            "source": []
        },
        {
            "cell_type": "code",
            "execution_count": null,
            "metadata": {},
            "outputs": [],
            "source": [
                "def require_callback(callback, callback_name=\"callback\"):\n",
                "    \"\"\"Require that callback is callable and is not None\n",
                "\n",
                "    :raises: TypeError\n",
                "\n",
                "    \"\"\"\n",
                "    if not callable(callback):\n",
                "        raise TypeError(\n",
                "            \"callback %s must be callable, but got %r\"\n",
                "            % (\n",
                "                callback_name,\n",
                "                callback,\n",
                "            )\n",
                "        )\n"
            ]
        },
        {
            "cell_type": "markdown",
            "metadata": {},
            "source": []
        },
        {
            "cell_type": "code",
            "execution_count": null,
            "metadata": {},
            "outputs": [],
            "source": [
                "def rpc_completion_callback(callback):\n",
                "    \"\"\"Verify callback is callable if not None\n",
                "\n",
                "    :returns: boolean indicating nowait\n",
                "    :rtype: bool\n",
                "    :raises: TypeError\n",
                "\n",
                "    \"\"\"\n",
                "    if callback is None:\n",
                "        # No callback means we will not expect a response\n",
                "        # i.e. nowait=True\n",
                "        return True\n",
                "\n",
                "    if callable(callback):\n",
                "        # nowait=False\n",
                "        return False\n",
                "    else:\n",
                "        raise TypeError(\"completion callback must be callable if not None\")\n"
            ]
        },
        {
            "cell_type": "markdown",
            "metadata": {},
            "source": []
        },
        {
            "cell_type": "code",
            "execution_count": null,
            "metadata": {},
            "outputs": [],
            "source": [
                "def zero_or_greater(name, value):\n",
                "    \"\"\"Verify that value is zero or greater. If not, 'name'\n",
                "    will be used in error message\n",
                "\n",
                "    :raises: ValueError\n",
                "\n",
                "    \"\"\"\n",
                "    if int(value) < 0:\n",
                "        errmsg = \"{} must be >= 0, but got {}\".format(name, value)\n",
                "        raise ValueError(errmsg)\n",
                "\n"
            ]
        },
        {
            "cell_type": "markdown",
            "metadata": {},
            "source": []
        }
    ],
    "metadata": {
        "language_info": {
            "name": "python"
        }
    },
    "nbformat": 4,
    "nbformat_minor": 2
}