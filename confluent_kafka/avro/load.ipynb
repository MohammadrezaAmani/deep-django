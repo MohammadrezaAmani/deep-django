{
 "cells": [
  {
   "cell_type": "code",
   "execution_count": null,
   "metadata": {},
   "outputs": [],
   "source": [
    "#!/usr/bin/env python\n",
    "#\n",
    "# Copyright 2017 Confluent Inc.\n",
    "#\n",
    "# Licensed under the Apache License, Version 2.0 (the \"License\");\n",
    "# you may not use this file except in compliance with the License.\n",
    "# You may obtain a copy of the License at\n",
    "#\n",
    "# http://www.apache.org/licenses/LICENSE-2.0\n",
    "#\n",
    "# Unless required by applicable law or agreed to in writing, software\n",
    "# distributed under the License is distributed on an \"AS IS\" BASIS,\n",
    "# WITHOUT WARRANTIES OR CONDITIONS OF ANY KIND, either express or implied.\n",
    "# See the License for the specific language governing permissions and\n",
    "# limitations under the License.\n",
    "#"
   ]
  },
  {
   "cell_type": "markdown",
   "metadata": {},
   "source": []
  },
  {
   "cell_type": "code",
   "execution_count": null,
   "metadata": {},
   "outputs": [],
   "source": [
    "from confluent_kafka.avro.error import ClientError"
   ]
  },
  {
   "cell_type": "markdown",
   "metadata": {},
   "source": []
  },
  {
   "cell_type": "code",
   "execution_count": null,
   "metadata": {},
   "outputs": [],
   "source": [
    "def loads(schema_str):\n",
    "    \"\"\"Parse a schema given a schema string\"\"\"\n",
    "    try:\n",
    "        return schema.parse(schema_str)\n",
    "    except SchemaParseException as e:\n",
    "        raise ClientError(\"Schema parse failed: %s\" % (str(e)))"
   ]
  },
  {
   "cell_type": "markdown",
   "metadata": {},
   "source": []
  },
  {
   "cell_type": "code",
   "execution_count": null,
   "metadata": {},
   "outputs": [],
   "source": [
    "def load(fp):\n",
    "    \"\"\"Parse a schema from a file path\"\"\"\n",
    "    with open(fp) as f:\n",
    "        return loads(f.read())"
   ]
  },
  {
   "cell_type": "markdown",
   "metadata": {},
   "source": []
  },
  {
   "cell_type": "code",
   "execution_count": null,
   "metadata": {},
   "outputs": [],
   "source": [
    "# avro.schema.RecordSchema and avro.schema.PrimitiveSchema classes are not hashable. Hence defining them explicitly as\n",
    "# a quick fix\n",
    "def _hash_func(self):\n",
    "    return hash(str(self))"
   ]
  },
  {
   "cell_type": "markdown",
   "metadata": {},
   "source": []
  },
  {
   "cell_type": "code",
   "execution_count": null,
   "metadata": {},
   "outputs": [],
   "source": [
    "try:\n",
    "    from avro import schema\n",
    "\n",
    "    try:\n",
    "        # avro >= 1.11.0\n",
    "        from avro.errors import SchemaParseException\n",
    "    except ImportError:\n",
    "        # avro < 1.11.0\n",
    "        from avro.schema import SchemaParseException\n",
    "\n",
    "    schema.RecordSchema.__hash__ = _hash_func\n",
    "    schema.PrimitiveSchema.__hash__ = _hash_func\n",
    "    schema.UnionSchema.__hash__ = _hash_func\n",
    "\n",
    "except ImportError:\n",
    "    schema = None"
   ]
  },
  {
   "cell_type": "markdown",
   "metadata": {},
   "source": []
  }
 ],
 "metadata": {
  "language_info": {
   "name": "python"
  }
 },
 "nbformat": 4,
 "nbformat_minor": 2
}