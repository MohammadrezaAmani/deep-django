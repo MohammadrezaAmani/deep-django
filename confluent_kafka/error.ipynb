{
 "cells": [
  {
   "cell_type": "code",
   "execution_count": null,
   "metadata": {},
   "outputs": [],
   "source": [
    "#!/usr/bin/env python\n",
    "# -*- coding: utf-8 -*-\n",
    "#\n",
    "# Copyright 2020 Confluent Inc.\n",
    "#\n",
    "# Licensed under the Apache License, Version 2.0 (the \"License\");\n",
    "# you may not use this file except in compliance with the License.\n",
    "# You may obtain a copy of the License at\n",
    "#\n",
    "# http://www.apache.org/licenses/LICENSE-2.0\n",
    "#\n",
    "# Unless required by applicable law or agreed to in writing, software\n",
    "# distributed under the License is distributed on an \"AS IS\" BASIS,\n",
    "# WITHOUT WARRANTIES OR CONDITIONS OF ANY KIND, either express or implied.\n",
    "# See the License for the specific language governing permissions and\n",
    "# limitations under the License.\n",
    "#\n",
    "from confluent_kafka.cimpl import KafkaError, KafkaException\n",
    "from confluent_kafka.serialization import SerializationError"
   ]
  },
  {
   "cell_type": "markdown",
   "metadata": {},
   "source": []
  },
  {
   "cell_type": "code",
   "execution_count": null,
   "metadata": {},
   "outputs": [],
   "source": [
    "class _KafkaClientError(KafkaException):\n",
    "    \"\"\"\n",
    "    Wraps all errors encountered by a Kafka Client\n",
    "\n",
    "    Args:\n",
    "        kafka_error (KafkaError): KafkaError instance.\n",
    "\n",
    "        exception(Exception, optional): The original exception\n",
    "\n",
    "        kafka_message (Message, optional): The Kafka Message returned\n",
    "        by the broker.\n",
    "    \"\"\"\n",
    "\n",
    "    def __init__(self, kafka_error, exception=None, kafka_message=None):\n",
    "        super(_KafkaClientError, self).__init__(kafka_error)\n",
    "        self.exception = exception\n",
    "        self.kafka_message = kafka_message\n",
    "\n",
    "    @property\n",
    "    def code(self):\n",
    "        return self.args[0].code()\n",
    "\n",
    "    @property\n",
    "    def name(self):\n",
    "        return self.args[0].name()"
   ]
  },
  {
   "cell_type": "markdown",
   "metadata": {},
   "source": []
  },
  {
   "cell_type": "code",
   "execution_count": null,
   "metadata": {},
   "outputs": [],
   "source": [
    "class ConsumeError(_KafkaClientError):\n",
    "    \"\"\"\n",
    "    Wraps all errors encountered during the consumption of a message.\n",
    "\n",
    "    Note:\n",
    "        In the event of a serialization error the original message\n",
    "        contents may be retrieved from the ``kafka_message`` attribute.\n",
    "\n",
    "    Args:\n",
    "        kafka_error (KafkaError): KafkaError instance.\n",
    "\n",
    "        exception(Exception, optional): The original exception\n",
    "\n",
    "        kafka_message (Message, optional): The Kafka Message\n",
    "        returned by the broker.\n",
    "\n",
    "    \"\"\"\n",
    "\n",
    "    def __init__(self, kafka_error, exception=None, kafka_message=None):\n",
    "        super(ConsumeError, self).__init__(kafka_error, exception, kafka_message)"
   ]
  },
  {
   "cell_type": "markdown",
   "metadata": {},
   "source": []
  },
  {
   "cell_type": "code",
   "execution_count": null,
   "metadata": {},
   "outputs": [],
   "source": [
    "class KeyDeserializationError(ConsumeError, SerializationError):\n",
    "    \"\"\"\n",
    "    Wraps all errors encountered during the deserialization of a Kafka\n",
    "    Message's key.\n",
    "\n",
    "    Args:\n",
    "        exception(Exception, optional): The original exception\n",
    "\n",
    "        kafka_message (Message, optional): The Kafka Message returned\n",
    "        by the broker.\n",
    "\n",
    "    \"\"\"\n",
    "\n",
    "    def __init__(self, exception=None, kafka_message=None):\n",
    "        super(KeyDeserializationError, self).__init__(\n",
    "            KafkaError(KafkaError._KEY_DESERIALIZATION, str(exception)),\n",
    "            exception=exception,\n",
    "            kafka_message=kafka_message,\n",
    "        )"
   ]
  },
  {
   "cell_type": "markdown",
   "metadata": {},
   "source": []
  },
  {
   "cell_type": "code",
   "execution_count": null,
   "metadata": {},
   "outputs": [],
   "source": [
    "class ValueDeserializationError(ConsumeError, SerializationError):\n",
    "    \"\"\"\n",
    "    Wraps all errors encountered during the deserialization of a Kafka\n",
    "    Message's value.\n",
    "\n",
    "    Args:\n",
    "        exception(Exception, optional): The original exception\n",
    "\n",
    "        kafka_message (Message, optional): The Kafka Message returned\n",
    "        by the broker.\n",
    "\n",
    "    \"\"\"\n",
    "\n",
    "    def __init__(self, exception=None, kafka_message=None):\n",
    "        super(ValueDeserializationError, self).__init__(\n",
    "            KafkaError(KafkaError._VALUE_DESERIALIZATION, str(exception)),\n",
    "            exception=exception,\n",
    "            kafka_message=kafka_message,\n",
    "        )"
   ]
  },
  {
   "cell_type": "markdown",
   "metadata": {},
   "source": []
  },
  {
   "cell_type": "code",
   "execution_count": null,
   "metadata": {},
   "outputs": [],
   "source": [
    "class ProduceError(_KafkaClientError):\n",
    "    \"\"\"\n",
    "    Wraps all errors encountered when Producing messages.\n",
    "\n",
    "    Args:\n",
    "        kafka_error (KafkaError): KafkaError instance.\n",
    "\n",
    "        exception(Exception, optional): The original exception.\n",
    "    \"\"\"\n",
    "\n",
    "    def __init__(self, kafka_error, exception=None):\n",
    "        super(ProduceError, self).__init__(kafka_error, exception, None)"
   ]
  },
  {
   "cell_type": "markdown",
   "metadata": {},
   "source": []
  },
  {
   "cell_type": "code",
   "execution_count": null,
   "metadata": {},
   "outputs": [],
   "source": [
    "class KeySerializationError(ProduceError, SerializationError):\n",
    "    \"\"\"\n",
    "    Wraps all errors encountered during the serialization of a Message key.\n",
    "\n",
    "    Args:\n",
    "        exception (Exception): The exception that occurred during serialization.\n",
    "    \"\"\"\n",
    "\n",
    "    def __init__(self, exception=None):\n",
    "        super(KeySerializationError, self).__init__(\n",
    "            KafkaError(KafkaError._KEY_SERIALIZATION, str(exception)),\n",
    "            exception=exception,\n",
    "        )"
   ]
  },
  {
   "cell_type": "markdown",
   "metadata": {},
   "source": []
  },
  {
   "cell_type": "code",
   "execution_count": null,
   "metadata": {},
   "outputs": [],
   "source": [
    "class ValueSerializationError(ProduceError, SerializationError):\n",
    "    \"\"\"\n",
    "    Wraps all errors encountered during the serialization of a Message value.\n",
    "\n",
    "    Args:\n",
    "        exception (Exception): The exception that occurred during serialization.\n",
    "    \"\"\"\n",
    "\n",
    "    def __init__(self, exception=None):\n",
    "        super(ValueSerializationError, self).__init__(\n",
    "            KafkaError(KafkaError._VALUE_SERIALIZATION, str(exception)),\n",
    "            exception=exception,\n",
    "        )"
   ]
  },
  {
   "cell_type": "markdown",
   "metadata": {},
   "source": []
  }
 ],
 "metadata": {
  "language_info": {
   "name": "python"
  }
 },
 "nbformat": 4,
 "nbformat_minor": 2
}