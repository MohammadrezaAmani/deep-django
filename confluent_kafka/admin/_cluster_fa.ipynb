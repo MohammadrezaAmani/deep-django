{
 "cells": [
  {
   "cell_type": "code",
   "execution_count": null,
   "metadata": {},
   "outputs": [],
   "source": [
    "# Copyright 2022 Confluent Inc.\n",
    "#\n",
    "# Licensed under the Apache License, Version 2.0 (the \"License\");\n",
    "# you may not use this file except in compliance with the License.\n",
    "# You may obtain a copy of the License at\n",
    "#\n",
    "# http://www.apache.org/licenses/LICENSE-2.0\n",
    "#\n",
    "# Unless required by applicable law or agreed to in writing, software\n",
    "# distributed under the License is distributed on an \"AS IS\" BASIS,\n",
    "# WITHOUT WARRANTIES OR CONDITIONS OF ANY KIND, either express or implied.\n",
    "# See the License for the specific language governing permissions and\n",
    "# limitations under the License."
   ]
  },
  {
   "cell_type": "markdown",
   "metadata": {},
   "source": []
  },
  {
   "cell_type": "code",
   "execution_count": null,
   "metadata": {},
   "outputs": [],
   "source": [
    "from .._util import ConversionUtil\n",
    "from ._acl import AclOperation"
   ]
  },
  {
   "cell_type": "markdown",
   "metadata": {},
   "source": []
  },
  {
   "cell_type": "code",
   "execution_count": null,
   "metadata": {},
   "outputs": [],
   "source": [
    "class DescribeClusterResult:\n",
    "    \"\"\"\n",
    "    Represents cluster description information used in describe cluster operation.\n",
    "    Used by :meth:`AdminClient.describe_cluster`.\n",
    "\n",
    "    Parameters\n",
    "    ----------\n",
    "    controller : Node\n",
    "        The current controller in the cluster.\n",
    "    nodes : list(Node)\n",
    "        Information about each node in the cluster.\n",
    "    cluster_id : str\n",
    "        The current cluster id in the cluster.\n",
    "    authorized_operations: list(AclOperation)\n",
    "        AclOperations allowed for the cluster.\n",
    "    \"\"\"\n",
    "\n",
    "    def __init__(self, controller, nodes, cluster_id=None, authorized_operations=None):\n",
    "        self.cluster_id = cluster_id\n",
    "        self.controller = controller\n",
    "        self.nodes = nodes\n",
    "        self.authorized_operations = None\n",
    "        if authorized_operations:\n",
    "            self.authorized_operations = []\n",
    "            for op in authorized_operations:\n",
    "                self.authorized_operations.append(\n",
    "                    ConversionUtil.convert_to_enum(op, AclOperation)\n",
    "                )"
   ]
  },
  {
   "cell_type": "markdown",
   "metadata": {},
   "source": []
  }
 ],
 "metadata": {
  "language_info": {
   "name": "python"
  }
 },
 "nbformat": 4,
 "nbformat_minor": 2
}