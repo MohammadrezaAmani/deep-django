{
 "cells": [
  {
   "cell_type": "code",
   "execution_count": null,
   "metadata": {},
   "outputs": [],
   "source": [
    "# Copyright 2023 Confluent Inc.\n",
    "#\n",
    "# Licensed under the Apache License, Version 2.0 (the \"License\");\n",
    "# you may not use this file except in compliance with the License.\n",
    "# You may obtain a copy of the License at\n",
    "#\n",
    "# http://www.apache.org/licenses/LICENSE-2.0\n",
    "#\n",
    "# Unless required by applicable law or agreed to in writing, software\n",
    "# distributed under the License is distributed on an \"AS IS\" BASIS,\n",
    "# WITHOUT WARRANTIES OR CONDITIONS OF ANY KIND, either express or implied.\n",
    "# See the License for the specific language governing permissions and\n",
    "# limitations under the License.\n",
    "\n",
    "from enum import Enum\n",
    "\n",
    "from .. import cimpl"
   ]
  },
  {
   "cell_type": "markdown",
   "metadata": {},
   "source": []
  },
  {
   "cell_type": "code",
   "execution_count": null,
   "metadata": {},
   "outputs": [],
   "source": [
    "class ScramMechanism(Enum):\n",
    "    \"\"\"\n",
    "    Enumerates SASL/SCRAM mechanisms.\n",
    "    \"\"\"\n",
    "\n",
    "    UNKNOWN = cimpl.SCRAM_MECHANISM_UNKNOWN  #: Unknown SASL/SCRAM mechanism\n",
    "    SCRAM_SHA_256 = cimpl.SCRAM_MECHANISM_SHA_256  #: SCRAM-SHA-256 mechanism\n",
    "    SCRAM_SHA_512 = cimpl.SCRAM_MECHANISM_SHA_512  #: SCRAM-SHA-512 mechanism\n",
    "\n",
    "    def __lt__(self, other):\n",
    "        if self.__class__ != other.__class__:\n",
    "            return NotImplemented\n",
    "        return self.value < other.value"
   ]
  },
  {
   "cell_type": "markdown",
   "metadata": {},
   "source": []
  },
  {
   "cell_type": "code",
   "execution_count": null,
   "metadata": {},
   "outputs": [],
   "source": [
    "class ScramCredentialInfo:\n",
    "    \"\"\"\n",
    "    Contains mechanism and iterations for a\n",
    "    SASL/SCRAM credential associated with a user.\n",
    "\n",
    "    Parameters\n",
    "    ----------\n",
    "    mechanism: ScramMechanism\n",
    "        SASL/SCRAM mechanism.\n",
    "    iterations: int\n",
    "        Positive number of iterations used when creating the credential.\n",
    "    \"\"\"\n",
    "\n",
    "    def __init__(self, mechanism, iterations):\n",
    "        self.mechanism = mechanism\n",
    "        self.iterations = iterations"
   ]
  },
  {
   "cell_type": "markdown",
   "metadata": {},
   "source": []
  },
  {
   "cell_type": "code",
   "execution_count": null,
   "metadata": {},
   "outputs": [],
   "source": [
    "class UserScramCredentialsDescription:\n",
    "    \"\"\"\n",
    "    Represent all SASL/SCRAM credentials\n",
    "    associated with a user that can be retrieved.\n",
    "\n",
    "    Parameters\n",
    "    ----------\n",
    "    user: str\n",
    "        The user name.\n",
    "    scram_credential_infos: list(ScramCredentialInfo)\n",
    "        SASL/SCRAM credential representations for the user.\n",
    "    \"\"\"\n",
    "\n",
    "    def __init__(self, user, scram_credential_infos):\n",
    "        self.user = user\n",
    "        self.scram_credential_infos = scram_credential_infos"
   ]
  },
  {
   "cell_type": "markdown",
   "metadata": {},
   "source": []
  },
  {
   "cell_type": "code",
   "execution_count": null,
   "metadata": {},
   "outputs": [],
   "source": [
    "class UserScramCredentialAlteration:\n",
    "    \"\"\"\n",
    "    Base class for SCRAM credential alterations.\n",
    "\n",
    "    Parameters\n",
    "    ----------\n",
    "    user: str\n",
    "        The user name.\n",
    "    \"\"\"\n",
    "\n",
    "    def __init__(self, user: str):\n",
    "        self.user = user"
   ]
  },
  {
   "cell_type": "markdown",
   "metadata": {},
   "source": []
  },
  {
   "cell_type": "code",
   "execution_count": null,
   "metadata": {},
   "outputs": [],
   "source": [
    "class UserScramCredentialUpsertion(UserScramCredentialAlteration):\n",
    "    \"\"\"\n",
    "    A request to update/insert a SASL/SCRAM credential for a user.\n",
    "\n",
    "    Parameters\n",
    "    ----------\n",
    "    user: str\n",
    "        The user name.\n",
    "    scram_credential_info: ScramCredentialInfo\n",
    "        The mechanism and iterations.\n",
    "    password: bytes\n",
    "        Password to HMAC before storage.\n",
    "    salt: bytes\n",
    "        Salt to use. Will be generated randomly if None. (optional)\n",
    "    \"\"\"\n",
    "\n",
    "    def __init__(self, user, scram_credential_info, password, salt=None):\n",
    "        super(UserScramCredentialUpsertion, self).__init__(user)\n",
    "        self.scram_credential_info = scram_credential_info\n",
    "        self.password = password\n",
    "        self.salt = salt"
   ]
  },
  {
   "cell_type": "markdown",
   "metadata": {},
   "source": []
  },
  {
   "cell_type": "code",
   "execution_count": null,
   "metadata": {},
   "outputs": [],
   "source": [
    "class UserScramCredentialDeletion(UserScramCredentialAlteration):\n",
    "    \"\"\"\n",
    "    A request to delete a SASL/SCRAM credential for a user.\n",
    "\n",
    "    Parameters\n",
    "    ----------\n",
    "    user: str\n",
    "        The user name.\n",
    "    mechanism: ScramMechanism\n",
    "        SASL/SCRAM mechanism.\n",
    "    \"\"\"\n",
    "\n",
    "    def __init__(self, user, mechanism):\n",
    "        super(UserScramCredentialDeletion, self).__init__(user)\n",
    "        self.mechanism = mechanism"
   ]
  },
  {
   "cell_type": "markdown",
   "metadata": {},
   "source": []
  }
 ],
 "metadata": {
  "language_info": {
   "name": "python"
  }
 },
 "nbformat": 4,
 "nbformat_minor": 2
}