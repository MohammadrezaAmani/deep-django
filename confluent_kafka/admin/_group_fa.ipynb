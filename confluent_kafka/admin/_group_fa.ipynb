{
 "cells": [
  {
   "cell_type": "code",
   "execution_count": null,
   "metadata": {},
   "outputs": [],
   "source": [
    "# Copyright 2022 Confluent Inc.\n",
    "#\n",
    "# Licensed under the Apache License, Version 2.0 (the \"License\");\n",
    "# you may not use this file except in compliance with the License.\n",
    "# You may obtain a copy of the License at\n",
    "#\n",
    "# http://www.apache.org/licenses/LICENSE-2.0\n",
    "#\n",
    "# Unless required by applicable law or agreed to in writing, software\n",
    "# distributed under the License is distributed on an \"AS IS\" BASIS,\n",
    "# WITHOUT WARRANTIES OR CONDITIONS OF ANY KIND, either express or implied.\n",
    "# See the License for the specific language governing permissions and\n",
    "# limitations under the License."
   ]
  },
  {
   "cell_type": "markdown",
   "metadata": {},
   "source": []
  },
  {
   "cell_type": "code",
   "execution_count": null,
   "metadata": {},
   "outputs": [],
   "source": [
    "from .._model import ConsumerGroupState\n",
    "from .._util import ConversionUtil\n",
    "from ._acl import AclOperation"
   ]
  },
  {
   "cell_type": "markdown",
   "metadata": {},
   "source": []
  },
  {
   "cell_type": "code",
   "execution_count": null,
   "metadata": {},
   "outputs": [],
   "source": [
    "class ConsumerGroupListing:\n",
    "    \"\"\"\n",
    "    Represents consumer group listing information for a group used in list consumer group operation.\n",
    "    Used by :class:`ListConsumerGroupsResult`.\n",
    "\n",
    "    Parameters\n",
    "    ----------\n",
    "    group_id : str\n",
    "        The consumer group id.\n",
    "    is_simple_consumer_group : bool\n",
    "        Whether a consumer group is simple or not.\n",
    "    state : ConsumerGroupState\n",
    "        Current state of the consumer group.\n",
    "    \"\"\"\n",
    "\n",
    "    def __init__(self, group_id, is_simple_consumer_group, state=None):\n",
    "        self.group_id = group_id\n",
    "        self.is_simple_consumer_group = is_simple_consumer_group\n",
    "        if state is not None:\n",
    "            self.state = ConversionUtil.convert_to_enum(state, ConsumerGroupState)"
   ]
  },
  {
   "cell_type": "markdown",
   "metadata": {},
   "source": []
  },
  {
   "cell_type": "code",
   "execution_count": null,
   "metadata": {},
   "outputs": [],
   "source": [
    "class ListConsumerGroupsResult:\n",
    "    \"\"\"\n",
    "    Represents result of List Consumer Group operation.\n",
    "    Used by :meth:`AdminClient.list_consumer_groups`.\n",
    "\n",
    "    Parameters\n",
    "    ----------\n",
    "    valid : list(ConsumerGroupListing)\n",
    "        List of successful consumer group listing responses.\n",
    "    errors : list(KafkaException)\n",
    "        List of errors encountered during the operation, if any.\n",
    "    \"\"\"\n",
    "\n",
    "    def __init__(self, valid=None, errors=None):\n",
    "        self.valid = valid\n",
    "        self.errors = errors"
   ]
  },
  {
   "cell_type": "markdown",
   "metadata": {},
   "source": []
  },
  {
   "cell_type": "code",
   "execution_count": null,
   "metadata": {},
   "outputs": [],
   "source": [
    "class MemberAssignment:\n",
    "    \"\"\"\n",
    "    Represents member assignment information.\n",
    "    Used by :class:`MemberDescription`.\n",
    "\n",
    "    Parameters\n",
    "    ----------\n",
    "    topic_partitions : list(TopicPartition)\n",
    "        The topic partitions assigned to a group member.\n",
    "    \"\"\"\n",
    "\n",
    "    def __init__(self, topic_partitions=[]):\n",
    "        self.topic_partitions = topic_partitions\n",
    "        if self.topic_partitions is None:\n",
    "            self.topic_partitions = []"
   ]
  },
  {
   "cell_type": "markdown",
   "metadata": {},
   "source": []
  },
  {
   "cell_type": "code",
   "execution_count": null,
   "metadata": {},
   "outputs": [],
   "source": [
    "class MemberDescription:\n",
    "    \"\"\"\n",
    "    Represents member information.\n",
    "    Used by :class:`ConsumerGroupDescription`.\n",
    "\n",
    "    Parameters\n",
    "    ----------\n",
    "    member_id : str\n",
    "        The consumer id of the group member.\n",
    "    client_id : str\n",
    "        The client id of the group member.\n",
    "    host: str\n",
    "        The host where the group member is running.\n",
    "    assignment: MemberAssignment\n",
    "        The assignment of the group member\n",
    "    group_instance_id : str\n",
    "        The instance id of the group member.\n",
    "    \"\"\"\n",
    "\n",
    "    def __init__(self, member_id, client_id, host, assignment, group_instance_id=None):\n",
    "        self.member_id = member_id\n",
    "        self.client_id = client_id\n",
    "        self.host = host\n",
    "        self.assignment = assignment\n",
    "        self.group_instance_id = group_instance_id"
   ]
  },
  {
   "cell_type": "markdown",
   "metadata": {},
   "source": []
  },
  {
   "cell_type": "code",
   "execution_count": null,
   "metadata": {},
   "outputs": [],
   "source": [
    "class ConsumerGroupDescription:\n",
    "    \"\"\"\n",
    "    Represents consumer group description information for a group used in describe consumer group operation.\n",
    "    Used by :meth:`AdminClient.describe_consumer_groups`.\n",
    "\n",
    "    Parameters\n",
    "    ----------\n",
    "    group_id : str\n",
    "        The consumer group id.\n",
    "    is_simple_consumer_group : bool\n",
    "        Whether a consumer group is simple or not.\n",
    "    members: list(MemberDescription)\n",
    "        Description of the members of the consumer group.\n",
    "    partition_assignor: str\n",
    "        Partition assignor.\n",
    "    state : ConsumerGroupState\n",
    "        Current state of the consumer group.\n",
    "    coordinator: Node\n",
    "        Consumer group coordinator.\n",
    "    authorized_operations: list(AclOperation)\n",
    "        AclOperations allowed for the consumer group.\n",
    "    \"\"\"\n",
    "\n",
    "    def __init__(\n",
    "        self,\n",
    "        group_id,\n",
    "        is_simple_consumer_group,\n",
    "        members,\n",
    "        partition_assignor,\n",
    "        state,\n",
    "        coordinator,\n",
    "        authorized_operations=None,\n",
    "    ):\n",
    "        self.group_id = group_id\n",
    "        self.is_simple_consumer_group = is_simple_consumer_group\n",
    "        self.members = members\n",
    "        self.authorized_operations = None\n",
    "        if authorized_operations:\n",
    "            self.authorized_operations = []\n",
    "            for op in authorized_operations:\n",
    "                self.authorized_operations.append(\n",
    "                    ConversionUtil.convert_to_enum(op, AclOperation)\n",
    "                )\n",
    "\n",
    "        self.partition_assignor = partition_assignor\n",
    "        if state is not None:\n",
    "            self.state = ConversionUtil.convert_to_enum(state, ConsumerGroupState)\n",
    "        self.coordinator = coordinator"
   ]
  },
  {
   "cell_type": "markdown",
   "metadata": {},
   "source": []
  }
 ],
 "metadata": {
  "language_info": {
   "name": "python"
  }
 },
 "nbformat": 4,
 "nbformat_minor": 2
}