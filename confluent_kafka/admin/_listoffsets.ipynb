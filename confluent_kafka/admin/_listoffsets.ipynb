{
 "cells": [
  {
   "cell_type": "code",
   "execution_count": null,
   "metadata": {},
   "outputs": [],
   "source": [
    "# Copyright 2023 Confluent Inc.\n",
    "#\n",
    "# Licensed under the Apache License, Version 2.0 (the \"License\");\n",
    "# you may not use this file except in compliance with the License.\n",
    "# You may obtain a copy of the License at\n",
    "#\n",
    "# http://www.apache.org/licenses/LICENSE-2.0\n",
    "#\n",
    "# Unless required by applicable law or agreed to in writing, software\n",
    "# distributed under the License is distributed on an \"AS IS\" BASIS,\n",
    "# WITHOUT WARRANTIES OR CONDITIONS OF ANY KIND, either express or implied.\n",
    "# See the License for the specific language governing permissions and\n",
    "# limitations under the License.\n",
    "\n",
    "from abc import ABC, abstractmethod\n",
    "\n",
    "from .. import cimpl"
   ]
  },
  {
   "cell_type": "markdown",
   "metadata": {},
   "source": []
  },
  {
   "cell_type": "code",
   "execution_count": null,
   "metadata": {},
   "outputs": [],
   "source": [
    "class OffsetSpec(ABC):\n",
    "    \"\"\"\n",
    "    Used in `AdminClient.list_offsets` to specify the desired offsets\n",
    "    of the partition being queried.\n",
    "    \"\"\"\n",
    "\n",
    "    _values = {}\n",
    "\n",
    "    @property\n",
    "    @abstractmethod\n",
    "    def _value(self):\n",
    "        pass\n",
    "\n",
    "    @classmethod\n",
    "    def _fill_values(cls):\n",
    "        cls._max_timestamp = MaxTimestampSpec()\n",
    "        cls._earliest = EarliestSpec()\n",
    "        cls._latest = LatestSpec()\n",
    "        cls._values.update(\n",
    "            {\n",
    "                cimpl.OFFSET_SPEC_MAX_TIMESTAMP: cls._max_timestamp,\n",
    "                cimpl.OFFSET_SPEC_EARLIEST: cls._earliest,\n",
    "                cimpl.OFFSET_SPEC_LATEST: cls._latest,\n",
    "            }\n",
    "        )\n",
    "\n",
    "    @classmethod\n",
    "    def earliest(cls):\n",
    "        return cls._earliest\n",
    "\n",
    "    @classmethod\n",
    "    def latest(cls):\n",
    "        return cls._latest\n",
    "\n",
    "    @classmethod\n",
    "    def max_timestamp(cls):\n",
    "        return cls._max_timestamp\n",
    "\n",
    "    @classmethod\n",
    "    def for_timestamp(cls, timestamp):\n",
    "        return TimestampSpec(timestamp)\n",
    "\n",
    "    def __new__(cls, index):\n",
    "        # Trying to instantiate returns one of the subclasses.\n",
    "        # Subclasses can be instantiated but aren't accessible externally.\n",
    "        if index < 0:\n",
    "            return cls._values[index]\n",
    "        else:\n",
    "            return cls.for_timestamp(index)\n",
    "\n",
    "    def __lt__(self, other):\n",
    "        if not isinstance(other, OffsetSpec):\n",
    "            return NotImplemented\n",
    "        return self._value < other._value"
   ]
  },
  {
   "cell_type": "markdown",
   "metadata": {},
   "source": []
  },
  {
   "cell_type": "code",
   "execution_count": null,
   "metadata": {},
   "outputs": [],
   "source": [
    "class TimestampSpec(OffsetSpec):\n",
    "    \"\"\"\n",
    "    Used in a `AdminClient.list_offsets` call to retrieve the earliest offset\n",
    "    whose timestamp is greater than or equal to the given timestamp in the\n",
    "    corresponding partition.\n",
    "\n",
    "    Parameters\n",
    "    ----------\n",
    "    timestamp: int\n",
    "        timestamp in milliseconds.\n",
    "    \"\"\"\n",
    "\n",
    "    @property\n",
    "    def _value(self):\n",
    "        return self.timestamp\n",
    "\n",
    "    def __new__(cls, _):\n",
    "        return object.__new__(cls)\n",
    "\n",
    "    def __init__(self, timestamp):\n",
    "        self.timestamp = timestamp"
   ]
  },
  {
   "cell_type": "markdown",
   "metadata": {},
   "source": []
  },
  {
   "cell_type": "code",
   "execution_count": null,
   "metadata": {},
   "outputs": [],
   "source": [
    "class MaxTimestampSpec(OffsetSpec):\n",
    "    \"\"\"\n",
    "    Used in a `AdminClient.list_offsets` call to retrieve the offset with the\n",
    "    largest timestamp, that could not correspond to the latest one as timestamps\n",
    "    can be specified client-side.\n",
    "    \"\"\"\n",
    "\n",
    "    def __new__(cls):\n",
    "        return object.__new__(cls)\n",
    "\n",
    "    @property\n",
    "    def _value(self):\n",
    "        return cimpl.OFFSET_SPEC_MAX_TIMESTAMP"
   ]
  },
  {
   "cell_type": "markdown",
   "metadata": {},
   "source": []
  },
  {
   "cell_type": "code",
   "execution_count": null,
   "metadata": {},
   "outputs": [],
   "source": [
    "class LatestSpec(OffsetSpec):\n",
    "    \"\"\"\n",
    "    Used in a `AdminClient.list_offsets` call to retrieve the queried partition latest offset.\n",
    "    \"\"\"\n",
    "\n",
    "    def __new__(cls):\n",
    "        return object.__new__(cls)\n",
    "\n",
    "    @property\n",
    "    def _value(self):\n",
    "        return cimpl.OFFSET_SPEC_LATEST"
   ]
  },
  {
   "cell_type": "markdown",
   "metadata": {},
   "source": []
  },
  {
   "cell_type": "code",
   "execution_count": null,
   "metadata": {},
   "outputs": [],
   "source": [
    "class EarliestSpec(OffsetSpec):\n",
    "    \"\"\"\n",
    "    Used in a `AdminClient.list_offsets` call to retrieve the queried partition earliest offset.\n",
    "    \"\"\"\n",
    "\n",
    "    def __new__(cls):\n",
    "        return object.__new__(cls)\n",
    "\n",
    "    @property\n",
    "    def _value(self):\n",
    "        return cimpl.OFFSET_SPEC_EARLIEST"
   ]
  },
  {
   "cell_type": "markdown",
   "metadata": {},
   "source": []
  },
  {
   "cell_type": "code",
   "execution_count": null,
   "metadata": {},
   "outputs": [],
   "source": [
    "OffsetSpec._fill_values()"
   ]
  },
  {
   "cell_type": "markdown",
   "metadata": {},
   "source": []
  },
  {
   "cell_type": "code",
   "execution_count": null,
   "metadata": {},
   "outputs": [],
   "source": [
    "class ListOffsetsResultInfo:\n",
    "    \"\"\"\n",
    "    ListOffsetsResultInfo\n",
    "    Result of a `AdminClient.list_offsets` call associated to a partition.\n",
    "\n",
    "    Parameters\n",
    "    ----------\n",
    "    offset: int\n",
    "        The offset returned by the list_offsets call.\n",
    "    timestamp: int\n",
    "        The timestamp in milliseconds corresponding to the offset.\n",
    "        Not available (-1) when querying for the earliest or the latest offsets.\n",
    "    leader_epoch: int\n",
    "        The leader epoch corresponding to the offset (optional).\n",
    "    \"\"\"\n",
    "\n",
    "    def __init__(self, offset, timestamp, leader_epoch):\n",
    "        self.offset = offset\n",
    "        self.timestamp = timestamp\n",
    "        self.leader_epoch = leader_epoch\n",
    "        if self.leader_epoch < 0:\n",
    "            self.leader_epoch = None"
   ]
  },
  {
   "cell_type": "markdown",
   "metadata": {},
   "source": []
  }
 ],
 "metadata": {
  "language_info": {
   "name": "python"
  }
 },
 "nbformat": 4,
 "nbformat_minor": 2
}