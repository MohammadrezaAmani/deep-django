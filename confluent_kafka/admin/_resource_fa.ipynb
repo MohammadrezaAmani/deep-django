{
 "cells": [
  {
   "cell_type": "code",
   "execution_count": null,
   "metadata": {},
   "outputs": [],
   "source": [
    "# Copyright 2022 Confluent Inc.\n",
    "#\n",
    "# Licensed under the Apache License, Version 2.0 (the \"License\");\n",
    "# you may not use this file except in compliance with the License.\n",
    "# You may obtain a copy of the License at\n",
    "#\n",
    "# http://www.apache.org/licenses/LICENSE-2.0\n",
    "#\n",
    "# Unless required by applicable law or agreed to in writing, software\n",
    "# distributed under the License is distributed on an \"AS IS\" BASIS,\n",
    "# WITHOUT WARRANTIES OR CONDITIONS OF ANY KIND, either express or implied.\n",
    "# See the License for the specific language governing permissions and\n",
    "# limitations under the License.\n",
    "\n",
    "from enum import Enum\n",
    "\n",
    "from .. import cimpl as _cimpl"
   ]
  },
  {
   "cell_type": "markdown",
   "metadata": {},
   "source": []
  },
  {
   "cell_type": "code",
   "execution_count": null,
   "metadata": {},
   "outputs": [],
   "source": [
    "class ResourceType(Enum):\n",
    "    \"\"\"\n",
    "    Enumerates the different types of Kafka resources.\n",
    "    \"\"\"\n",
    "\n",
    "    UNKNOWN = _cimpl.RESOURCE_UNKNOWN  #: Resource type is not known or not set.\n",
    "    ANY = _cimpl.RESOURCE_ANY  #: Match any resource, used for lookups.\n",
    "    TOPIC = _cimpl.RESOURCE_TOPIC  #: Topic resource. Resource name is topic name.\n",
    "    GROUP = _cimpl.RESOURCE_GROUP  #: Group resource. Resource name is group.id.\n",
    "    BROKER = _cimpl.RESOURCE_BROKER  #: Broker resource. Resource name is broker id.\n",
    "\n",
    "    def __lt__(self, other):\n",
    "        if self.__class__ != other.__class__:\n",
    "            return NotImplemented\n",
    "        return self.value < other.value"
   ]
  },
  {
   "cell_type": "markdown",
   "metadata": {},
   "source": []
  },
  {
   "cell_type": "code",
   "execution_count": null,
   "metadata": {},
   "outputs": [],
   "source": [
    "class ResourcePatternType(Enum):\n",
    "    \"\"\"\n",
    "    Enumerates the different types of Kafka resource patterns.\n",
    "    \"\"\"\n",
    "\n",
    "    UNKNOWN = (\n",
    "        _cimpl.RESOURCE_PATTERN_UNKNOWN\n",
    "    )  #: Resource pattern type is not known or not set.\n",
    "    ANY = _cimpl.RESOURCE_PATTERN_ANY  #: Match any resource, used for lookups.\n",
    "    MATCH = _cimpl.RESOURCE_PATTERN_MATCH  #: Match: will perform pattern matching\n",
    "    LITERAL = _cimpl.RESOURCE_PATTERN_LITERAL  #: Literal: A literal resource name\n",
    "    PREFIXED = _cimpl.RESOURCE_PATTERN_PREFIXED  #: Prefixed: A prefixed resource name\n",
    "\n",
    "    def __lt__(self, other):\n",
    "        if self.__class__ != other.__class__:\n",
    "            return NotImplemented\n",
    "        return self.value < other.value"
   ]
  },
  {
   "cell_type": "markdown",
   "metadata": {},
   "source": []
  }
 ],
 "metadata": {
  "language_info": {
   "name": "python"
  }
 },
 "nbformat": 4,
 "nbformat_minor": 2
}