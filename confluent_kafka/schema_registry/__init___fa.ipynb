{
 "cells": [
  {
   "cell_type": "code",
   "execution_count": null,
   "metadata": {},
   "outputs": [],
   "source": [
    "#!/usr/bin/env python\n",
    "# -*- coding: utf-8 -*-\n",
    "#\n",
    "# Copyright 2020 Confluent Inc.\n",
    "#\n",
    "# Licensed under the Apache License, Version 2.0 (the \"License\");\n",
    "# you may not use this file except in compliance with the License.\n",
    "# You may obtain a copy of the License at\n",
    "#\n",
    "# http://www.apache.org/licenses/LICENSE-2.0\n",
    "#\n",
    "# Unless required by applicable law or agreed to in writing, software\n",
    "# distributed under the License is distributed on an \"AS IS\" BASIS,\n",
    "# WITHOUT WARRANTIES OR CONDITIONS OF ANY KIND, either express or implied.\n",
    "# See the License for the specific language governing permissions and\n",
    "# limitations under the License.\n",
    "#\n",
    "from .schema_registry_client import (\n",
    "    RegisteredSchema,\n",
    "    Schema,\n",
    "    SchemaReference,\n",
    "    SchemaRegistryClient,\n",
    "    SchemaRegistryError,\n",
    ")\n",
    "\n",
    "_MAGIC_BYTE = 0\n",
    "\n",
    "__all__ = [\n",
    "    \"RegisteredSchema\",\n",
    "    \"Schema\",\n",
    "    \"SchemaRegistryClient\",\n",
    "    \"SchemaRegistryError\",\n",
    "    \"SchemaReference\",\n",
    "    \"topic_subject_name_strategy\",\n",
    "    \"topic_record_subject_name_strategy\",\n",
    "    \"record_subject_name_strategy\",\n",
    "]"
   ]
  },
  {
   "cell_type": "markdown",
   "metadata": {},
   "source": []
  },
  {
   "cell_type": "code",
   "execution_count": null,
   "metadata": {},
   "outputs": [],
   "source": [
    "def topic_subject_name_strategy(ctx, record_name):\n",
    "    \"\"\"\n",
    "    Constructs a subject name in the form of {topic}-key|value.\n",
    "\n",
    "    Args:\n",
    "        ctx (SerializationContext): Metadata pertaining to the serialization\n",
    "            operation.\n",
    "\n",
    "        record_name (str): Record name.\n",
    "\n",
    "    \"\"\"\n",
    "    return ctx.topic + \"-\" + ctx.field"
   ]
  },
  {
   "cell_type": "markdown",
   "metadata": {},
   "source": []
  },
  {
   "cell_type": "code",
   "execution_count": null,
   "metadata": {},
   "outputs": [],
   "source": [
    "def topic_record_subject_name_strategy(ctx, record_name):\n",
    "    \"\"\"\n",
    "    Constructs a subject name in the form of {topic}-{record_name}.\n",
    "\n",
    "    Args:\n",
    "        ctx (SerializationContext): Metadata pertaining to the serialization\n",
    "            operation.\n",
    "\n",
    "        record_name (str): Record name.\n",
    "\n",
    "    \"\"\"\n",
    "    return ctx.topic + \"-\" + record_name"
   ]
  },
  {
   "cell_type": "markdown",
   "metadata": {},
   "source": []
  },
  {
   "cell_type": "code",
   "execution_count": null,
   "metadata": {},
   "outputs": [],
   "source": [
    "def record_subject_name_strategy(ctx, record_name):\n",
    "    \"\"\"\n",
    "    Constructs a subject name in the form of {record_name}.\n",
    "\n",
    "    Args:\n",
    "        ctx (SerializationContext): Metadata pertaining to the serialization\n",
    "            operation.\n",
    "\n",
    "        record_name (str): Record name.\n",
    "\n",
    "    \"\"\"\n",
    "    return record_name"
   ]
  },
  {
   "cell_type": "markdown",
   "metadata": {},
   "source": []
  },
  {
   "cell_type": "code",
   "execution_count": null,
   "metadata": {},
   "outputs": [],
   "source": [
    "def reference_subject_name_strategy(ctx, schema_ref):\n",
    "    \"\"\"\n",
    "    Constructs a subject reference name in the form of {reference name}.\n",
    "\n",
    "    Args:\n",
    "        ctx (SerializationContext): Metadata pertaining to the serialization\n",
    "            operation.\n",
    "\n",
    "        schema_ref (SchemaReference): SchemaReference instance.\n",
    "\n",
    "    \"\"\"\n",
    "    return schema_ref.name"
   ]
  },
  {
   "cell_type": "markdown",
   "metadata": {},
   "source": []
  }
 ],
 "metadata": {
  "language_info": {
   "name": "python"
  }
 },
 "nbformat": 4,
 "nbformat_minor": 2
}