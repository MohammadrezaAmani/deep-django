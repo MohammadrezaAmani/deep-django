{
 "cells": [
  {
   "cell_type": "code",
   "execution_count": null,
   "metadata": {},
   "outputs": [],
   "source": [
    "#!/usr/bin/env python\n",
    "# -*- coding: utf-8 -*-\n",
    "#\n",
    "# Copyright 2020 Confluent Inc.\n",
    "#\n",
    "# Licensed under the Apache License, Version 2.0 (the \"License\");\n",
    "# you may not use this file except in compliance with the License.\n",
    "# You may obtain a copy of the License at\n",
    "#\n",
    "# http://www.apache.org/licenses/LICENSE-2.0\n",
    "#\n",
    "# Unless required by applicable law or agreed to in writing, software\n",
    "# distributed under the License is distributed on an \"AS IS\" BASIS,\n",
    "# WITHOUT WARRANTIES OR CONDITIONS OF ANY KIND, either express or implied.\n",
    "# See the License for the specific language governing permissions and\n",
    "# limitations under the License.\n",
    "#\n",
    "try:\n",
    "    from fastavro.schema import SchemaParseException, UnknownType\n",
    "except ImportError:\n",
    "    pass\n",
    "\n",
    "__all__ = [\"SchemaRegistryError\", \"SchemaParseException\", \"UnknownType\"]"
   ]
  },
  {
   "cell_type": "markdown",
   "metadata": {},
   "source": []
  },
  {
   "cell_type": "code",
   "execution_count": null,
   "metadata": {},
   "outputs": [],
   "source": [
    "class SchemaRegistryError(Exception):\n",
    "    \"\"\"\n",
    "    Represents an error returned by the Confluent Schema Registry\n",
    "\n",
    "    Args:\n",
    "        http_status_code (int): HTTP status code\n",
    "\n",
    "        error_code (int): Schema Registry error code; -1 represents an unknown\n",
    "            error.\n",
    "\n",
    "        error_message (str): Description of the error\n",
    "\n",
    "    See Also:\n",
    "        `API Error Reference <https://docs.confluent.io/current/schema-registry/develop/api.html#errors>`_\n",
    "\n",
    "    \"\"\"  # noqa: E501\n",
    "\n",
    "    UNKNOWN = -1\n",
    "\n",
    "    def __init__(self, http_status_code, error_code, error_message):\n",
    "        self.http_status_code = http_status_code\n",
    "        self.error_code = error_code\n",
    "        self.error_message = error_message\n",
    "\n",
    "    def __repr__(self):\n",
    "        return str(self)\n",
    "\n",
    "    def __str__(self):\n",
    "        return \"{} (HTTP status code {}, SR code {})\".format(\n",
    "            self.error_message, self.http_status_code, self.error_code\n",
    "        )"
   ]
  },
  {
   "cell_type": "markdown",
   "metadata": {},
   "source": []
  }
 ],
 "metadata": {
  "language_info": {
   "name": "python"
  }
 },
 "nbformat": 4,
 "nbformat_minor": 2
}