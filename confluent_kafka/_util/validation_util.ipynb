{
 "cells": [
  {
   "cell_type": "code",
   "execution_count": null,
   "metadata": {},
   "outputs": [],
   "source": [
    "# Copyright 2022 Confluent Inc.\n",
    "#\n",
    "# Licensed under the Apache License, Version 2.0 (the \"License\");\n",
    "# you may not use this file except in compliance with the License.\n",
    "# You may obtain a copy of the License at\n",
    "#\n",
    "# http://www.apache.org/licenses/LICENSE-2.0\n",
    "#\n",
    "# Unless required by applicable law or agreed to in writing, software\n",
    "# distributed under the License is distributed on an \"AS IS\" BASIS,\n",
    "# WITHOUT WARRANTIES OR CONDITIONS OF ANY KIND, either express or implied.\n",
    "# See the License for the specific language governing permissions and\n",
    "# limitations under the License.\n",
    "\n",
    "from ..cimpl import KafkaError\n",
    "\n",
    "try:\n",
    "    string_type = basestring\n",
    "except NameError:\n",
    "    string_type = str"
   ]
  },
  {
   "cell_type": "markdown",
   "metadata": {},
   "source": []
  },
  {
   "cell_type": "code",
   "execution_count": null,
   "metadata": {},
   "outputs": [],
   "source": [
    "class ValidationUtil:\n",
    "    @staticmethod\n",
    "    def check_multiple_not_none(obj, vars_to_check):\n",
    "        for param in vars_to_check:\n",
    "            ValidationUtil.check_not_none(obj, param)\n",
    "\n",
    "    @staticmethod\n",
    "    def check_not_none(obj, param):\n",
    "        if getattr(obj, param) is None:\n",
    "            raise ValueError(\"Expected %s to be not None\" % (param,))\n",
    "\n",
    "    @staticmethod\n",
    "    def check_multiple_is_string(obj, vars_to_check):\n",
    "        for param in vars_to_check:\n",
    "            ValidationUtil.check_is_string(obj, param)\n",
    "\n",
    "    @staticmethod\n",
    "    def check_is_string(obj, param):\n",
    "        param_value = getattr(obj, param)\n",
    "        if param_value is not None and not isinstance(param_value, string_type):\n",
    "            raise TypeError(\"Expected %s to be a string\" % (param,))\n",
    "\n",
    "    @staticmethod\n",
    "    def check_kafka_errors(errors):\n",
    "        if not isinstance(errors, list):\n",
    "            raise TypeError(\"errors should be None or a list\")\n",
    "        for error in errors:\n",
    "            if not isinstance(error, KafkaError):\n",
    "                raise TypeError(\"Expected list of KafkaError\")\n",
    "\n",
    "    @staticmethod\n",
    "    def check_kafka_error(error):\n",
    "        if not isinstance(error, KafkaError):\n",
    "            raise TypeError(\"Expected error to be a KafkaError\")"
   ]
  },
  {
   "cell_type": "markdown",
   "metadata": {},
   "source": []
  }
 ],
 "metadata": {
  "language_info": {
   "name": "python"
  }
 },
 "nbformat": 4,
 "nbformat_minor": 2
}