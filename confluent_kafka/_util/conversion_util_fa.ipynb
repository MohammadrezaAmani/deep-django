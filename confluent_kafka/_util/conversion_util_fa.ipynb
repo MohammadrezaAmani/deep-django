{
 "cells": [
  {
   "cell_type": "code",
   "execution_count": null,
   "metadata": {},
   "outputs": [],
   "source": [
    "# Copyright 2022 Confluent Inc.\n",
    "#\n",
    "# Licensed under the Apache License, Version 2.0 (the \"License\");\n",
    "# you may not use this file except in compliance with the License.\n",
    "# You may obtain a copy of the License at\n",
    "#\n",
    "# http://www.apache.org/licenses/LICENSE-2.0\n",
    "#\n",
    "# Unless required by applicable law or agreed to in writing, software\n",
    "# distributed under the License is distributed on an \"AS IS\" BASIS,\n",
    "# WITHOUT WARRANTIES OR CONDITIONS OF ANY KIND, either express or implied.\n",
    "# See the License for the specific language governing permissions and\n",
    "# limitations under the License.\n",
    "\n",
    "from enum import Enum"
   ]
  },
  {
   "cell_type": "markdown",
   "metadata": {},
   "source": []
  },
  {
   "cell_type": "code",
   "execution_count": null,
   "metadata": {},
   "outputs": [],
   "source": [
    "class ConversionUtil:\n",
    "    @staticmethod\n",
    "    def convert_to_enum(val, enum_clazz):\n",
    "        if type(enum_clazz) is not type(Enum):\n",
    "            raise TypeError(\"'enum_clazz' must be of type Enum\")\n",
    "\n",
    "        if isinstance(val, str):\n",
    "            # Allow it to be specified as case-insensitive string, for convenience.\n",
    "            try:\n",
    "                val = enum_clazz[val.upper()]\n",
    "            except KeyError:\n",
    "                raise ValueError(\n",
    "                    'Unknown value \"%s\": should be a %s' % (val, enum_clazz.__name__)\n",
    "                )\n",
    "\n",
    "        elif isinstance(val, int):\n",
    "            # The C-code passes restype as an int, convert to enum.\n",
    "            val = enum_clazz(val)\n",
    "\n",
    "        elif not isinstance(val, enum_clazz):\n",
    "            raise TypeError(\n",
    "                'Unknown value \"%s\": should be a %s' % (val, enum_clazz.__name__)\n",
    "            )\n",
    "\n",
    "        return val"
   ]
  },
  {
   "cell_type": "markdown",
   "metadata": {},
   "source": []
  }
 ],
 "metadata": {
  "language_info": {
   "name": "python"
  }
 },
 "nbformat": 4,
 "nbformat_minor": 2
}