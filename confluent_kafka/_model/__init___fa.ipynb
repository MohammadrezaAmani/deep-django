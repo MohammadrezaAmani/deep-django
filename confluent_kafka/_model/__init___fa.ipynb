{
 "cells": [
  {
   "cell_type": "code",
   "execution_count": null,
   "metadata": {},
   "outputs": [],
   "source": [
    "# Copyright 2022 Confluent Inc.\n",
    "#\n",
    "# Licensed under the Apache License, Version 2.0 (the \"License\");\n",
    "# you may not use this file except in compliance with the License.\n",
    "# You may obtain a copy of the License at\n",
    "#\n",
    "# http://www.apache.org/licenses/LICENSE-2.0\n",
    "#\n",
    "# Unless required by applicable law or agreed to in writing, software\n",
    "# distributed under the License is distributed on an \"AS IS\" BASIS,\n",
    "# WITHOUT WARRANTIES OR CONDITIONS OF ANY KIND, either express or implied.\n",
    "# See the License for the specific language governing permissions and\n",
    "# limitations under the License.\n",
    "\n",
    "from enum import Enum\n",
    "\n",
    "from .. import cimpl"
   ]
  },
  {
   "cell_type": "markdown",
   "metadata": {},
   "source": []
  },
  {
   "cell_type": "code",
   "execution_count": null,
   "metadata": {},
   "outputs": [],
   "source": [
    "class Node:\n",
    "    \"\"\"\n",
    "    Represents node information.\n",
    "    Used by :class:`ConsumerGroupDescription`\n",
    "\n",
    "    Parameters\n",
    "    ----------\n",
    "    id: int\n",
    "        The node id of this node.\n",
    "    id_string:\n",
    "        String representation of the node id.\n",
    "    host:\n",
    "        The host name for this node.\n",
    "    port: int\n",
    "        The port for this node.\n",
    "    rack: str\n",
    "        The rack for this node.\n",
    "    \"\"\"\n",
    "\n",
    "    def __init__(self, id, host, port, rack=None):\n",
    "        self.id = id\n",
    "        self.id_string = str(id)\n",
    "        self.host = host\n",
    "        self.port = port\n",
    "        self.rack = rack\n",
    "\n",
    "    def __str__(self):\n",
    "        return f\"({self.id}) {self.host}:{self.port} {f'(Rack - {self.rack})' if self.rack else ''}\""
   ]
  },
  {
   "cell_type": "markdown",
   "metadata": {},
   "source": []
  },
  {
   "cell_type": "code",
   "execution_count": null,
   "metadata": {},
   "outputs": [],
   "source": [
    "class ConsumerGroupTopicPartitions:\n",
    "    \"\"\"\n",
    "    Represents consumer group and its topic partition information.\n",
    "    Used by :meth:`AdminClient.list_consumer_group_offsets` and\n",
    "    :meth:`AdminClient.alter_consumer_group_offsets`.\n",
    "\n",
    "    Parameters\n",
    "    ----------\n",
    "    group_id: str\n",
    "        Id of the consumer group.\n",
    "    topic_partitions: list(TopicPartition)\n",
    "        List of topic partitions information.\n",
    "    \"\"\"\n",
    "\n",
    "    def __init__(self, group_id, topic_partitions=None):\n",
    "        self.group_id = group_id\n",
    "        self.topic_partitions = topic_partitions"
   ]
  },
  {
   "cell_type": "markdown",
   "metadata": {},
   "source": []
  },
  {
   "cell_type": "code",
   "execution_count": null,
   "metadata": {},
   "outputs": [],
   "source": [
    "class ConsumerGroupState(Enum):\n",
    "    \"\"\"\n",
    "    Enumerates the different types of Consumer Group State.\n",
    "\n",
    "    Note that the state :py:attr:`UNKOWN` (typo one) is deprecated and will be removed in\n",
    "    future major release. Use :py:attr:`UNKNOWN` instead.\n",
    "    \"\"\"\n",
    "\n",
    "    #: State is not known or not set\n",
    "    UNKNOWN = cimpl.CONSUMER_GROUP_STATE_UNKNOWN\n",
    "    #: .. deprecated:: 2.3.0\n",
    "    #:\n",
    "    #:    Use :py:attr:`UNKNOWN` instead.\n",
    "    UNKOWN = UNKNOWN\n",
    "    #: Preparing rebalance for the consumer group.\n",
    "    PREPARING_REBALANCING = cimpl.CONSUMER_GROUP_STATE_PREPARING_REBALANCE\n",
    "    #: Consumer Group is completing rebalancing.\n",
    "    COMPLETING_REBALANCING = cimpl.CONSUMER_GROUP_STATE_COMPLETING_REBALANCE\n",
    "    #: Consumer Group is stable.\n",
    "    STABLE = cimpl.CONSUMER_GROUP_STATE_STABLE\n",
    "    #: Consumer Group is dead.\n",
    "    DEAD = cimpl.CONSUMER_GROUP_STATE_DEAD\n",
    "    #: Consumer Group is empty.\n",
    "    EMPTY = cimpl.CONSUMER_GROUP_STATE_EMPTY\n",
    "\n",
    "    def __lt__(self, other):\n",
    "        if self.__class__ != other.__class__:\n",
    "            return NotImplemented\n",
    "        return self.value < other.value"
   ]
  },
  {
   "cell_type": "markdown",
   "metadata": {},
   "source": []
  },
  {
   "cell_type": "code",
   "execution_count": null,
   "metadata": {},
   "outputs": [],
   "source": [
    "class TopicCollection:\n",
    "    \"\"\"\n",
    "    Represents collection of topics in the form of different identifiers\n",
    "    for the topic.\n",
    "\n",
    "    Parameters\n",
    "    ----------\n",
    "    topic_names: list(str)\n",
    "        List of topic names.\n",
    "    \"\"\"\n",
    "\n",
    "    def __init__(self, topic_names):\n",
    "        self.topic_names = topic_names"
   ]
  },
  {
   "cell_type": "markdown",
   "metadata": {},
   "source": []
  },
  {
   "cell_type": "code",
   "execution_count": null,
   "metadata": {},
   "outputs": [],
   "source": [
    "class TopicPartitionInfo:\n",
    "    \"\"\"\n",
    "    Represents partition information.\n",
    "    Used by :class:`TopicDescription`.\n",
    "\n",
    "    Parameters\n",
    "    ----------\n",
    "    id : int\n",
    "        Id of the partition.\n",
    "    leader : Node\n",
    "        Leader broker for the partition.\n",
    "    replicas: list(Node)\n",
    "        Replica brokers for the partition.\n",
    "    isr: list(Node)\n",
    "        In-Sync-Replica brokers for the partition.\n",
    "    \"\"\"\n",
    "\n",
    "    def __init__(self, id, leader, replicas, isr):\n",
    "        self.id = id\n",
    "        self.leader = leader\n",
    "        self.replicas = replicas\n",
    "        self.isr = isr"
   ]
  },
  {
   "cell_type": "markdown",
   "metadata": {},
   "source": []
  },
  {
   "cell_type": "code",
   "execution_count": null,
   "metadata": {},
   "outputs": [],
   "source": [
    "class IsolationLevel(Enum):\n",
    "    \"\"\"\n",
    "    Enum for Kafka isolation levels.\n",
    "\n",
    "    Values:\n",
    "    -------\n",
    "    \"\"\"\n",
    "\n",
    "    READ_UNCOMMITTED = (\n",
    "        cimpl.ISOLATION_LEVEL_READ_UNCOMMITTED\n",
    "    )  #: Receive all the offsets.\n",
    "    READ_COMMITTED = (\n",
    "        cimpl.ISOLATION_LEVEL_READ_COMMITTED\n",
    "    )  #: Skip offsets belonging to an aborted transaction.\n",
    "\n",
    "    def __lt__(self, other):\n",
    "        if self.__class__ != other.__class__:\n",
    "            return NotImplemented\n",
    "        return self.value < other.value"
   ]
  },
  {
   "cell_type": "markdown",
   "metadata": {},
   "source": []
  }
 ],
 "metadata": {
  "language_info": {
   "name": "python"
  }
 },
 "nbformat": 4,
 "nbformat_minor": 2
}