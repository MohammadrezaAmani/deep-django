{
 "cells": [
  {
   "cell_type": "code",
   "execution_count": null,
   "metadata": {},
   "outputs": [],
   "source": [
    "\"\"\"The ``celery events`` program.\"\"\"\n",
    "import sys\n",
    "from functools import partial\n",
    "\n",
    "import click\n",
    "\n",
    "from celery.bin.base import (\n",
    "    LOG_LEVEL,\n",
    "    CeleryDaemonCommand,\n",
    "    CeleryOption,\n",
    "    handle_preload_options,\n",
    ")\n",
    "from celery.platforms import detached, set_process_title, strargv"
   ]
  },
  {
   "cell_type": "markdown",
   "metadata": {},
   "source": []
  },
  {
   "cell_type": "code",
   "execution_count": null,
   "metadata": {},
   "outputs": [],
   "source": [
    "def _set_process_status(prog, info=\"\"):\n",
    "    prog = \"{}:{}\".format(\"celery events\", prog)\n",
    "    info = f\"{info} {strargv(sys.argv)}\"\n",
    "    return set_process_title(prog, info=info)"
   ]
  },
  {
   "cell_type": "markdown",
   "metadata": {},
   "source": []
  },
  {
   "cell_type": "code",
   "execution_count": null,
   "metadata": {},
   "outputs": [],
   "source": [
    "def _run_evdump(app):\n",
    "    from celery.events.dumper import evdump\n",
    "\n",
    "    _set_process_status(\"dump\")\n",
    "    return evdump(app=app)"
   ]
  },
  {
   "cell_type": "markdown",
   "metadata": {},
   "source": []
  },
  {
   "cell_type": "code",
   "execution_count": null,
   "metadata": {},
   "outputs": [],
   "source": [
    "def _run_evcam(\n",
    "    camera,\n",
    "    app,\n",
    "    logfile=None,\n",
    "    pidfile=None,\n",
    "    uid=None,\n",
    "    gid=None,\n",
    "    umask=None,\n",
    "    workdir=None,\n",
    "    detach=False,\n",
    "    **kwargs,\n",
    "):\n",
    "    from celery.events.snapshot import evcam\n",
    "\n",
    "    _set_process_status(\"cam\")\n",
    "    kwargs[\"app\"] = app\n",
    "    cam = partial(evcam, camera, logfile=logfile, pidfile=pidfile, **kwargs)\n",
    "\n",
    "    if detach:\n",
    "        with detached(logfile, pidfile, uid, gid, umask, workdir):\n",
    "            return cam()\n",
    "    else:\n",
    "        return cam()"
   ]
  },
  {
   "cell_type": "markdown",
   "metadata": {},
   "source": []
  },
  {
   "cell_type": "code",
   "execution_count": null,
   "metadata": {},
   "outputs": [],
   "source": [
    "def _run_evtop(app):\n",
    "    try:\n",
    "        from celery.events.cursesmon import evtop\n",
    "\n",
    "        _set_process_status(\"top\")\n",
    "        return evtop(app=app)\n",
    "    except ModuleNotFoundError as e:\n",
    "        if e.name == \"_curses\":\n",
    "            # TODO: Improve this error message\n",
    "            raise click.UsageError(\"The curses module is required for this command.\")"
   ]
  },
  {
   "cell_type": "markdown",
   "metadata": {},
   "source": []
  },
  {
   "cell_type": "code",
   "execution_count": null,
   "metadata": {},
   "outputs": [],
   "source": [
    "@click.command(cls=CeleryDaemonCommand)\n",
    "@click.option(\"-d\", \"--dump\", cls=CeleryOption, is_flag=True, help_group=\"Dumper\")\n",
    "@click.option(\"-c\", \"--camera\", cls=CeleryOption, help_group=\"Snapshot\")\n",
    "@click.option(\"-d\", \"--detach\", cls=CeleryOption, is_flag=True, help_group=\"Snapshot\")\n",
    "@click.option(\n",
    "    \"-F\",\n",
    "    \"--frequency\",\n",
    "    \"--freq\",\n",
    "    type=float,\n",
    "    default=1.0,\n",
    "    cls=CeleryOption,\n",
    "    help_group=\"Snapshot\",\n",
    ")\n",
    "@click.option(\"-r\", \"--maxrate\", cls=CeleryOption, help_group=\"Snapshot\")\n",
    "@click.option(\n",
    "    \"-l\",\n",
    "    \"--loglevel\",\n",
    "    default=\"WARNING\",\n",
    "    cls=CeleryOption,\n",
    "    type=LOG_LEVEL,\n",
    "    help_group=\"Snapshot\",\n",
    "    help=\"Logging level.\",\n",
    ")\n",
    "@click.pass_context\n",
    "@handle_preload_options\n",
    "def events(ctx, dump, camera, detach, frequency, maxrate, loglevel, **kwargs):\n",
    "    \"\"\"Event-stream utilities.\"\"\"\n",
    "    app = ctx.obj.app\n",
    "    if dump:\n",
    "        return _run_evdump(app)\n",
    "\n",
    "    if camera:\n",
    "        return _run_evcam(\n",
    "            camera,\n",
    "            app=app,\n",
    "            freq=frequency,\n",
    "            maxrate=maxrate,\n",
    "            loglevel=loglevel,\n",
    "            detach=detach,\n",
    "            **kwargs,\n",
    "        )\n",
    "\n",
    "    return _run_evtop(app)"
   ]
  },
  {
   "cell_type": "markdown",
   "metadata": {},
   "source": []
  }
 ],
 "metadata": {
  "language_info": {
   "name": "python"
  }
 },
 "nbformat": 4,
 "nbformat_minor": 2
}