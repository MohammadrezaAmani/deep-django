{
 "cells": [
  {
   "cell_type": "code",
   "execution_count": null,
   "metadata": {},
   "outputs": [],
   "source": [
    "\"\"\"The ``celery list bindings`` command, used to inspect queue bindings.\"\"\"\n",
    "import click\n",
    "\n",
    "from celery.bin.base import CeleryCommand, handle_preload_options"
   ]
  },
  {
   "cell_type": "markdown",
   "metadata": {},
   "source": []
  },
  {
   "cell_type": "code",
   "execution_count": null,
   "metadata": {},
   "outputs": [],
   "source": [
    "@click.group(name=\"list\")\n",
    "@click.pass_context\n",
    "@handle_preload_options\n",
    "def list_(ctx):\n",
    "    \"\"\"Get info from broker.\n",
    "\n",
    "    Note:\n",
    "\n",
    "        For RabbitMQ the management plugin is required.\n",
    "    \"\"\""
   ]
  },
  {
   "cell_type": "markdown",
   "metadata": {},
   "source": []
  },
  {
   "cell_type": "code",
   "execution_count": null,
   "metadata": {},
   "outputs": [],
   "source": [
    "@list_.command(cls=CeleryCommand)\n",
    "@click.pass_context\n",
    "def bindings(ctx):\n",
    "    \"\"\"Inspect queue bindings.\"\"\"\n",
    "    # TODO: Consider using a table formatter for this command.\n",
    "    app = ctx.obj.app\n",
    "    with app.connection() as conn:\n",
    "        app.amqp.TaskConsumer(conn).declare()\n",
    "\n",
    "        try:\n",
    "            bindings = conn.manager.get_bindings()\n",
    "        except NotImplementedError:\n",
    "            raise click.UsageError(\"Your transport cannot list bindings.\")\n",
    "\n",
    "        def fmt(q, e, r):\n",
    "            ctx.obj.echo(f\"{q:<28} {e:<28} {r}\")\n",
    "\n",
    "        fmt(\"Queue\", \"Exchange\", \"Routing Key\")\n",
    "        fmt(\"-\" * 16, \"-\" * 16, \"-\" * 16)\n",
    "        for b in bindings:\n",
    "            fmt(b[\"destination\"], b[\"source\"], b[\"routing_key\"])"
   ]
  },
  {
   "cell_type": "markdown",
   "metadata": {},
   "source": []
  }
 ],
 "metadata": {
  "language_info": {
   "name": "python"
  }
 },
 "nbformat": 4,
 "nbformat_minor": 2
}