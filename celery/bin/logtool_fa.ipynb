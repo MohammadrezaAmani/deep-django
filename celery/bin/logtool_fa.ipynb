{
 "cells": [
  {
   "cell_type": "code",
   "execution_count": null,
   "metadata": {},
   "outputs": [],
   "source": [
    "\"\"\"The ``celery logtool`` command.\"\"\"\n",
    "import re\n",
    "from collections import Counter\n",
    "from fileinput import FileInput\n",
    "\n",
    "import click\n",
    "\n",
    "from celery.bin.base import CeleryCommand, handle_preload_options\n",
    "\n",
    "__all__ = (\"logtool\",)\n",
    "\n",
    "RE_LOG_START = re.compile(r\"^\\[\\d\\d\\d\\d\\-\\d\\d-\\d\\d \")\n",
    "RE_TASK_RECEIVED = re.compile(r\".+?\\] Received\")\n",
    "RE_TASK_READY = re.compile(r\".+?\\] Task\")\n",
    "RE_TASK_INFO = re.compile(r\".+?([\\w\\.]+)\\[(.+?)\\].+\")\n",
    "RE_TASK_RESULT = re.compile(r\".+?[\\w\\.]+\\[.+?\\] (.+)\")\n",
    "\n",
    "REPORT_FORMAT = \"\"\"\n",
    "Report\n",
    "======\n",
    "Task total: {task[total]}\n",
    "Task errors: {task[errors]}\n",
    "Task success: {task[succeeded]}\n",
    "Task completed: {task[completed]}\n",
    "Tasks\n",
    "=====\n",
    "{task[types].format}\n",
    "\"\"\""
   ]
  },
  {
   "cell_type": "markdown",
   "metadata": {},
   "source": []
  },
  {
   "cell_type": "code",
   "execution_count": null,
   "metadata": {},
   "outputs": [],
   "source": [
    "class _task_counts(list):\n",
    "    @property\n",
    "    def format(self):\n",
    "        return \"\\n\".join(\"{}: {}\".format(*i) for i in self)"
   ]
  },
  {
   "cell_type": "markdown",
   "metadata": {},
   "source": []
  },
  {
   "cell_type": "code",
   "execution_count": null,
   "metadata": {},
   "outputs": [],
   "source": [
    "def task_info(line):\n",
    "    m = RE_TASK_INFO.match(line)\n",
    "    return m.groups()"
   ]
  },
  {
   "cell_type": "markdown",
   "metadata": {},
   "source": []
  },
  {
   "cell_type": "code",
   "execution_count": null,
   "metadata": {},
   "outputs": [],
   "source": [
    "class Audit:\n",
    "    def __init__(self, on_task_error=None, on_trace=None, on_debug=None):\n",
    "        self.ids = set()\n",
    "        self.names = {}\n",
    "        self.results = {}\n",
    "        self.ready = set()\n",
    "        self.task_types = Counter()\n",
    "        self.task_errors = 0\n",
    "        self.on_task_error = on_task_error\n",
    "        self.on_trace = on_trace\n",
    "        self.on_debug = on_debug\n",
    "        self.prev_line = None\n",
    "\n",
    "    def run(self, files):\n",
    "        for line in FileInput(files):\n",
    "            self.feed(line)\n",
    "        return self\n",
    "\n",
    "    def task_received(self, line, task_name, task_id):\n",
    "        self.names[task_id] = task_name\n",
    "        self.ids.add(task_id)\n",
    "        self.task_types[task_name] += 1\n",
    "\n",
    "    def task_ready(self, line, task_name, task_id, result):\n",
    "        self.ready.add(task_id)\n",
    "        self.results[task_id] = result\n",
    "        if \"succeeded\" not in result:\n",
    "            self.task_error(line, task_name, task_id, result)\n",
    "\n",
    "    def task_error(self, line, task_name, task_id, result):\n",
    "        self.task_errors += 1\n",
    "        if self.on_task_error:\n",
    "            self.on_task_error(line, task_name, task_id, result)\n",
    "\n",
    "    def feed(self, line):\n",
    "        if RE_LOG_START.match(line):\n",
    "            if RE_TASK_RECEIVED.match(line):\n",
    "                task_name, task_id = task_info(line)\n",
    "                self.task_received(line, task_name, task_id)\n",
    "            elif RE_TASK_READY.match(line):\n",
    "                task_name, task_id = task_info(line)\n",
    "                result = RE_TASK_RESULT.match(line)\n",
    "                if result:\n",
    "                    (result,) = result.groups()\n",
    "                self.task_ready(line, task_name, task_id, result)\n",
    "            else:\n",
    "                if self.on_debug:\n",
    "                    self.on_debug(line)\n",
    "            self.prev_line = line\n",
    "        else:\n",
    "            if self.on_trace:\n",
    "                self.on_trace(\"\\n\".join(filter(None, [self.prev_line, line])))\n",
    "            self.prev_line = None\n",
    "\n",
    "    def incomplete_tasks(self):\n",
    "        return self.ids ^ self.ready\n",
    "\n",
    "    def report(self):\n",
    "        return {\n",
    "            \"task\": {\n",
    "                \"types\": _task_counts(self.task_types.most_common()),\n",
    "                \"total\": len(self.ids),\n",
    "                \"errors\": self.task_errors,\n",
    "                \"completed\": len(self.ready),\n",
    "                \"succeeded\": len(self.ready) - self.task_errors,\n",
    "            }\n",
    "        }"
   ]
  },
  {
   "cell_type": "markdown",
   "metadata": {},
   "source": []
  },
  {
   "cell_type": "code",
   "execution_count": null,
   "metadata": {},
   "outputs": [],
   "source": [
    "@click.group()\n",
    "@click.pass_context\n",
    "@handle_preload_options\n",
    "def logtool(ctx):\n",
    "    \"\"\"The ``celery logtool`` command.\"\"\""
   ]
  },
  {
   "cell_type": "markdown",
   "metadata": {},
   "source": []
  },
  {
   "cell_type": "code",
   "execution_count": null,
   "metadata": {},
   "outputs": [],
   "source": [
    "@logtool.command(cls=CeleryCommand)\n",
    "@click.argument(\"files\", nargs=-1)\n",
    "@click.pass_context\n",
    "def stats(ctx, files):\n",
    "    ctx.obj.echo(REPORT_FORMAT.format(**Audit().run(files).report()))"
   ]
  },
  {
   "cell_type": "markdown",
   "metadata": {},
   "source": []
  },
  {
   "cell_type": "code",
   "execution_count": null,
   "metadata": {},
   "outputs": [],
   "source": [
    "@logtool.command(cls=CeleryCommand)\n",
    "@click.argument(\"files\", nargs=-1)\n",
    "@click.pass_context\n",
    "def traces(ctx, files):\n",
    "    Audit(on_trace=ctx.obj.echo).run(files)"
   ]
  },
  {
   "cell_type": "markdown",
   "metadata": {},
   "source": []
  },
  {
   "cell_type": "code",
   "execution_count": null,
   "metadata": {},
   "outputs": [],
   "source": [
    "@logtool.command(cls=CeleryCommand)\n",
    "@click.argument(\"files\", nargs=-1)\n",
    "@click.pass_context\n",
    "def errors(ctx, files):\n",
    "    Audit(on_task_error=lambda line, *_: ctx.obj.echo(line)).run(files)"
   ]
  },
  {
   "cell_type": "markdown",
   "metadata": {},
   "source": []
  },
  {
   "cell_type": "code",
   "execution_count": null,
   "metadata": {},
   "outputs": [],
   "source": [
    "@logtool.command(cls=CeleryCommand)\n",
    "@click.argument(\"files\", nargs=-1)\n",
    "@click.pass_context\n",
    "def incomplete(ctx, files):\n",
    "    audit = Audit()\n",
    "    audit.run(files)\n",
    "    for task_id in audit.incomplete_tasks():\n",
    "        ctx.obj.echo(f\"Did not complete: {task_id}\")"
   ]
  },
  {
   "cell_type": "markdown",
   "metadata": {},
   "source": []
  },
  {
   "cell_type": "code",
   "execution_count": null,
   "metadata": {},
   "outputs": [],
   "source": [
    "@logtool.command(cls=CeleryCommand)\n",
    "@click.argument(\"files\", nargs=-1)\n",
    "@click.pass_context\n",
    "def debug(ctx, files):\n",
    "    Audit(on_debug=ctx.obj.echo).run(files)"
   ]
  },
  {
   "cell_type": "markdown",
   "metadata": {},
   "source": []
  }
 ],
 "metadata": {
  "language_info": {
   "name": "python"
  }
 },
 "nbformat": 4,
 "nbformat_minor": 2
}