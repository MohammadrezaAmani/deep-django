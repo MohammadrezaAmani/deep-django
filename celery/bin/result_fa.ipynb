{
 "cells": [
  {
   "cell_type": "code",
   "execution_count": null,
   "metadata": {},
   "outputs": [],
   "source": [
    "\"\"\"The ``celery result`` program, used to inspect task results.\"\"\"\n",
    "import click\n",
    "\n",
    "from celery.bin.base import CeleryCommand, CeleryOption, handle_preload_options"
   ]
  },
  {
   "cell_type": "markdown",
   "metadata": {},
   "source": []
  },
  {
   "cell_type": "code",
   "execution_count": null,
   "metadata": {},
   "outputs": [],
   "source": [
    "@click.command(cls=CeleryCommand)\n",
    "@click.argument(\"task_id\")\n",
    "@click.option(\n",
    "    \"-t\",\n",
    "    \"--task\",\n",
    "    cls=CeleryOption,\n",
    "    help_group=\"Result Options\",\n",
    "    help=\"Name of task (if custom backend).\",\n",
    ")\n",
    "@click.option(\n",
    "    \"--traceback\",\n",
    "    cls=CeleryOption,\n",
    "    is_flag=True,\n",
    "    help_group=\"Result Options\",\n",
    "    help=\"Show traceback instead.\",\n",
    ")\n",
    "@click.pass_context\n",
    "@handle_preload_options\n",
    "def result(ctx, task_id, task, traceback):\n",
    "    \"\"\"Print the return value for a given task id.\"\"\"\n",
    "    app = ctx.obj.app\n",
    "\n",
    "    result_cls = app.tasks[task].AsyncResult if task else app.AsyncResult\n",
    "    task_result = result_cls(task_id)\n",
    "    value = task_result.traceback if traceback else task_result.get()\n",
    "\n",
    "    # TODO: Prettify result\n",
    "    ctx.obj.echo(value)"
   ]
  },
  {
   "cell_type": "markdown",
   "metadata": {},
   "source": []
  }
 ],
 "metadata": {
  "language_info": {
   "name": "python"
  }
 },
 "nbformat": 4,
 "nbformat_minor": 2
}