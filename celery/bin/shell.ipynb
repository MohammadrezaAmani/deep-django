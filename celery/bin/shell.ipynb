{
 "cells": [
  {
   "cell_type": "code",
   "execution_count": null,
   "metadata": {},
   "outputs": [],
   "source": [
    "\"\"\"The ``celery shell`` program, used to start a REPL.\"\"\"\n",
    "\n",
    "import os\n",
    "import sys\n",
    "from importlib import import_module\n",
    "\n",
    "import click\n",
    "\n",
    "from celery.bin.base import CeleryCommand, CeleryOption, handle_preload_options"
   ]
  },
  {
   "cell_type": "markdown",
   "metadata": {},
   "source": []
  },
  {
   "cell_type": "code",
   "execution_count": null,
   "metadata": {},
   "outputs": [],
   "source": [
    "def _invoke_fallback_shell(locals):\n",
    "    import code\n",
    "\n",
    "    try:\n",
    "        import readline\n",
    "    except ImportError:\n",
    "        pass\n",
    "    else:\n",
    "        import rlcompleter\n",
    "\n",
    "        readline.set_completer(rlcompleter.Completer(locals).complete)\n",
    "        readline.parse_and_bind(\"tab:complete\")\n",
    "    code.interact(local=locals)"
   ]
  },
  {
   "cell_type": "markdown",
   "metadata": {},
   "source": []
  },
  {
   "cell_type": "code",
   "execution_count": null,
   "metadata": {},
   "outputs": [],
   "source": [
    "def _invoke_bpython_shell(locals):\n",
    "    import bpython\n",
    "\n",
    "    bpython.embed(locals)"
   ]
  },
  {
   "cell_type": "markdown",
   "metadata": {},
   "source": []
  },
  {
   "cell_type": "code",
   "execution_count": null,
   "metadata": {},
   "outputs": [],
   "source": [
    "def _invoke_ipython_shell(locals):\n",
    "    for ip in (_ipython, _ipython_pre_10, _ipython_terminal, _ipython_010, _no_ipython):\n",
    "        try:\n",
    "            return ip(locals)\n",
    "        except ImportError:\n",
    "            pass"
   ]
  },
  {
   "cell_type": "markdown",
   "metadata": {},
   "source": []
  },
  {
   "cell_type": "code",
   "execution_count": null,
   "metadata": {},
   "outputs": [],
   "source": [
    "def _ipython(locals):\n",
    "    from IPython import start_ipython\n",
    "\n",
    "    start_ipython(argv=[], user_ns=locals)"
   ]
  },
  {
   "cell_type": "markdown",
   "metadata": {},
   "source": []
  },
  {
   "cell_type": "code",
   "execution_count": null,
   "metadata": {},
   "outputs": [],
   "source": [
    "def _ipython_pre_10(locals):  # pragma: no cover\n",
    "    from IPython.frontend.terminal.ipapp import TerminalIPythonApp\n",
    "\n",
    "    app = TerminalIPythonApp.instance()\n",
    "    app.initialize(argv=[])\n",
    "    app.shell.user_ns.update(locals)\n",
    "    app.start()"
   ]
  },
  {
   "cell_type": "markdown",
   "metadata": {},
   "source": []
  },
  {
   "cell_type": "code",
   "execution_count": null,
   "metadata": {},
   "outputs": [],
   "source": [
    "def _ipython_terminal(locals):  # pragma: no cover\n",
    "    from IPython.terminal import embed\n",
    "\n",
    "    embed.TerminalInteractiveShell(user_ns=locals).mainloop()"
   ]
  },
  {
   "cell_type": "markdown",
   "metadata": {},
   "source": []
  },
  {
   "cell_type": "code",
   "execution_count": null,
   "metadata": {},
   "outputs": [],
   "source": [
    "def _ipython_010(locals):  # pragma: no cover\n",
    "    from IPython.Shell import IPShell\n",
    "\n",
    "    IPShell(argv=[], user_ns=locals).mainloop()"
   ]
  },
  {
   "cell_type": "markdown",
   "metadata": {},
   "source": []
  },
  {
   "cell_type": "code",
   "execution_count": null,
   "metadata": {},
   "outputs": [],
   "source": [
    "def _no_ipython(self):  # pragma: no cover\n",
    "    raise ImportError(\"no suitable ipython found\")"
   ]
  },
  {
   "cell_type": "markdown",
   "metadata": {},
   "source": []
  },
  {
   "cell_type": "code",
   "execution_count": null,
   "metadata": {},
   "outputs": [],
   "source": [
    "def _invoke_default_shell(locals):\n",
    "    try:\n",
    "        import IPython  # noqa\n",
    "    except ImportError:\n",
    "        try:\n",
    "            import bpython  # noqa\n",
    "        except ImportError:\n",
    "            _invoke_fallback_shell(locals)\n",
    "        else:\n",
    "            _invoke_bpython_shell(locals)\n",
    "    else:\n",
    "        _invoke_ipython_shell(locals)"
   ]
  },
  {
   "cell_type": "markdown",
   "metadata": {},
   "source": []
  },
  {
   "cell_type": "code",
   "execution_count": null,
   "metadata": {},
   "outputs": [],
   "source": [
    "@click.command(cls=CeleryCommand, context_settings={\"allow_extra_args\": True})\n",
    "@click.option(\n",
    "    \"-I\",\n",
    "    \"--ipython\",\n",
    "    is_flag=True,\n",
    "    cls=CeleryOption,\n",
    "    help_group=\"Shell Options\",\n",
    "    help=\"Force IPython.\",\n",
    ")\n",
    "@click.option(\n",
    "    \"-B\",\n",
    "    \"--bpython\",\n",
    "    is_flag=True,\n",
    "    cls=CeleryOption,\n",
    "    help_group=\"Shell Options\",\n",
    "    help=\"Force bpython.\",\n",
    ")\n",
    "@click.option(\n",
    "    \"--python\",\n",
    "    is_flag=True,\n",
    "    cls=CeleryOption,\n",
    "    help_group=\"Shell Options\",\n",
    "    help=\"Force default Python shell.\",\n",
    ")\n",
    "@click.option(\n",
    "    \"-T\",\n",
    "    \"--without-tasks\",\n",
    "    is_flag=True,\n",
    "    cls=CeleryOption,\n",
    "    help_group=\"Shell Options\",\n",
    "    help=\"Don't add tasks to locals.\",\n",
    ")\n",
    "@click.option(\n",
    "    \"--eventlet\",\n",
    "    is_flag=True,\n",
    "    cls=CeleryOption,\n",
    "    help_group=\"Shell Options\",\n",
    "    help=\"Use eventlet.\",\n",
    ")\n",
    "@click.option(\n",
    "    \"--gevent\",\n",
    "    is_flag=True,\n",
    "    cls=CeleryOption,\n",
    "    help_group=\"Shell Options\",\n",
    "    help=\"Use gevent.\",\n",
    ")\n",
    "@click.pass_context\n",
    "@handle_preload_options\n",
    "def shell(\n",
    "    ctx,\n",
    "    ipython=False,\n",
    "    bpython=False,\n",
    "    python=False,\n",
    "    without_tasks=False,\n",
    "    eventlet=False,\n",
    "    gevent=False,\n",
    "    **kwargs,\n",
    "):\n",
    "    \"\"\"Start shell session with convenient access to celery symbols.\n",
    "\n",
    "    The following symbols will be added to the main globals:\n",
    "    - ``celery``:  the current application.\n",
    "    - ``chord``, ``group``, ``chain``, ``chunks``,\n",
    "      ``xmap``, ``xstarmap`` ``subtask``, ``Task``\n",
    "    - all registered tasks.\n",
    "    \"\"\"\n",
    "    sys.path.insert(0, os.getcwd())\n",
    "    if eventlet:\n",
    "        import_module(\"celery.concurrency.eventlet\")\n",
    "    if gevent:\n",
    "        import_module(\"celery.concurrency.gevent\")\n",
    "    import celery\n",
    "\n",
    "    app = ctx.obj.app\n",
    "    app.loader.import_default_modules()\n",
    "\n",
    "    # pylint: disable=attribute-defined-outside-init\n",
    "    locals = {\n",
    "        \"app\": app,\n",
    "        \"celery\": app,\n",
    "        \"Task\": celery.Task,\n",
    "        \"chord\": celery.chord,\n",
    "        \"group\": celery.group,\n",
    "        \"chain\": celery.chain,\n",
    "        \"chunks\": celery.chunks,\n",
    "        \"xmap\": celery.xmap,\n",
    "        \"xstarmap\": celery.xstarmap,\n",
    "        \"subtask\": celery.subtask,\n",
    "        \"signature\": celery.signature,\n",
    "    }\n",
    "\n",
    "    if not without_tasks:\n",
    "        locals.update(\n",
    "            {\n",
    "                task.__name__: task\n",
    "                for task in app.tasks.values()\n",
    "                if not task.name.startswith(\"celery.\")\n",
    "            }\n",
    "        )\n",
    "\n",
    "    if python:\n",
    "        _invoke_fallback_shell(locals)\n",
    "    elif bpython:\n",
    "        try:\n",
    "            _invoke_bpython_shell(locals)\n",
    "        except ImportError:\n",
    "            ctx.obj.echo(f\"{ctx.obj.ERROR}: bpython is not installed\")\n",
    "    elif ipython:\n",
    "        try:\n",
    "            _invoke_ipython_shell(locals)\n",
    "        except ImportError as e:\n",
    "            ctx.obj.echo(f\"{ctx.obj.ERROR}: {e}\")\n",
    "    _invoke_default_shell(locals)"
   ]
  },
  {
   "cell_type": "markdown",
   "metadata": {},
   "source": []
  }
 ],
 "metadata": {
  "language_info": {
   "name": "python"
  }
 },
 "nbformat": 4,
 "nbformat_minor": 2
}