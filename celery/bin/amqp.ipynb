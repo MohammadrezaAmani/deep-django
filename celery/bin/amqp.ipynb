{
 "cells": [
  {
   "cell_type": "code",
   "execution_count": null,
   "metadata": {},
   "outputs": [],
   "source": [
    "\"\"\"AMQP 0.9.1 REPL.\"\"\"\n",
    "\n",
    "import pprint\n",
    "\n",
    "import click\n",
    "from amqp import Connection, Message\n",
    "from click_repl import register_repl\n",
    "\n",
    "__all__ = (\"amqp\",)\n",
    "\n",
    "from celery.bin.base import handle_preload_options"
   ]
  },
  {
   "cell_type": "markdown",
   "metadata": {},
   "source": []
  },
  {
   "cell_type": "code",
   "execution_count": null,
   "metadata": {},
   "outputs": [],
   "source": [
    "def dump_message(message):\n",
    "    if message is None:\n",
    "        return \"No messages in queue. basic.publish something.\"\n",
    "    return {\n",
    "        \"body\": message.body,\n",
    "        \"properties\": message.properties,\n",
    "        \"delivery_info\": message.delivery_info,\n",
    "    }"
   ]
  },
  {
   "cell_type": "markdown",
   "metadata": {},
   "source": []
  },
  {
   "cell_type": "code",
   "execution_count": null,
   "metadata": {},
   "outputs": [],
   "source": [
    "class AMQPContext:\n",
    "    def __init__(self, cli_context):\n",
    "        self.cli_context = cli_context\n",
    "        self.connection = self.cli_context.app.connection()\n",
    "        self.channel = None\n",
    "        self.reconnect()\n",
    "\n",
    "    @property\n",
    "    def app(self):\n",
    "        return self.cli_context.app\n",
    "\n",
    "    def respond(self, retval):\n",
    "        if isinstance(retval, str):\n",
    "            self.cli_context.echo(retval)\n",
    "        else:\n",
    "            self.cli_context.echo(pprint.pformat(retval))\n",
    "\n",
    "    def echo_error(self, exception):\n",
    "        self.cli_context.error(f\"{self.cli_context.ERROR}: {exception}\")\n",
    "\n",
    "    def echo_ok(self):\n",
    "        self.cli_context.echo(self.cli_context.OK)\n",
    "\n",
    "    def reconnect(self):\n",
    "        if self.connection:\n",
    "            self.connection.close()\n",
    "        else:\n",
    "            self.connection = self.cli_context.app.connection()\n",
    "\n",
    "        self.cli_context.echo(f\"-> connecting to {self.connection.as_uri()}.\")\n",
    "        try:\n",
    "            self.connection.connect()\n",
    "        except (ConnectionRefusedError, ConnectionResetError) as e:\n",
    "            self.echo_error(e)\n",
    "        else:\n",
    "            self.cli_context.secho(\"-> connected.\", fg=\"green\", bold=True)\n",
    "            self.channel = self.connection.default_channel"
   ]
  },
  {
   "cell_type": "markdown",
   "metadata": {},
   "source": []
  },
  {
   "cell_type": "code",
   "execution_count": null,
   "metadata": {},
   "outputs": [],
   "source": [
    "@click.group(invoke_without_command=True)\n",
    "@click.pass_context\n",
    "@handle_preload_options\n",
    "def amqp(ctx):\n",
    "    \"\"\"AMQP Administration Shell.\n",
    "\n",
    "    Also works for non-AMQP transports (but not ones that\n",
    "    store declarations in memory).\n",
    "    \"\"\"\n",
    "    if not isinstance(ctx.obj, AMQPContext):\n",
    "        ctx.obj = AMQPContext(ctx.obj)"
   ]
  },
  {
   "cell_type": "markdown",
   "metadata": {},
   "source": []
  },
  {
   "cell_type": "code",
   "execution_count": null,
   "metadata": {},
   "outputs": [],
   "source": [
    "@amqp.command(name=\"exchange.declare\")\n",
    "@click.argument(\"exchange\", type=str)\n",
    "@click.argument(\"type\", type=str)\n",
    "@click.argument(\"passive\", type=bool, default=False)\n",
    "@click.argument(\"durable\", type=bool, default=False)\n",
    "@click.argument(\"auto_delete\", type=bool, default=False)\n",
    "@click.pass_obj\n",
    "def exchange_declare(amqp_context, exchange, type, passive, durable, auto_delete):\n",
    "    if amqp_context.channel is None:\n",
    "        amqp_context.echo_error(\"Not connected to broker. Please retry...\")\n",
    "        amqp_context.reconnect()\n",
    "    else:\n",
    "        try:\n",
    "            amqp_context.channel.exchange_declare(\n",
    "                exchange=exchange,\n",
    "                type=type,\n",
    "                passive=passive,\n",
    "                durable=durable,\n",
    "                auto_delete=auto_delete,\n",
    "            )\n",
    "        except Exception as e:\n",
    "            amqp_context.echo_error(e)\n",
    "            amqp_context.reconnect()\n",
    "        else:\n",
    "            amqp_context.echo_ok()"
   ]
  },
  {
   "cell_type": "markdown",
   "metadata": {},
   "source": []
  },
  {
   "cell_type": "code",
   "execution_count": null,
   "metadata": {},
   "outputs": [],
   "source": [
    "@amqp.command(name=\"exchange.delete\")\n",
    "@click.argument(\"exchange\", type=str)\n",
    "@click.argument(\"if_unused\", type=bool)\n",
    "@click.pass_obj\n",
    "def exchange_delete(amqp_context, exchange, if_unused):\n",
    "    if amqp_context.channel is None:\n",
    "        amqp_context.echo_error(\"Not connected to broker. Please retry...\")\n",
    "        amqp_context.reconnect()\n",
    "    else:\n",
    "        try:\n",
    "            amqp_context.channel.exchange_delete(exchange=exchange, if_unused=if_unused)\n",
    "        except Exception as e:\n",
    "            amqp_context.echo_error(e)\n",
    "            amqp_context.reconnect()\n",
    "        else:\n",
    "            amqp_context.echo_ok()"
   ]
  },
  {
   "cell_type": "markdown",
   "metadata": {},
   "source": []
  },
  {
   "cell_type": "code",
   "execution_count": null,
   "metadata": {},
   "outputs": [],
   "source": [
    "@amqp.command(name=\"queue.bind\")\n",
    "@click.argument(\"queue\", type=str)\n",
    "@click.argument(\"exchange\", type=str)\n",
    "@click.argument(\"routing_key\", type=str)\n",
    "@click.pass_obj\n",
    "def queue_bind(amqp_context, queue, exchange, routing_key):\n",
    "    if amqp_context.channel is None:\n",
    "        amqp_context.echo_error(\"Not connected to broker. Please retry...\")\n",
    "        amqp_context.reconnect()\n",
    "    else:\n",
    "        try:\n",
    "            amqp_context.channel.queue_bind(\n",
    "                queue=queue, exchange=exchange, routing_key=routing_key\n",
    "            )\n",
    "        except Exception as e:\n",
    "            amqp_context.echo_error(e)\n",
    "            amqp_context.reconnect()\n",
    "        else:\n",
    "            amqp_context.echo_ok()"
   ]
  },
  {
   "cell_type": "markdown",
   "metadata": {},
   "source": []
  },
  {
   "cell_type": "code",
   "execution_count": null,
   "metadata": {},
   "outputs": [],
   "source": [
    "@amqp.command(name=\"queue.declare\")\n",
    "@click.argument(\"queue\", type=str)\n",
    "@click.argument(\"passive\", type=bool, default=False)\n",
    "@click.argument(\"durable\", type=bool, default=False)\n",
    "@click.argument(\"auto_delete\", type=bool, default=False)\n",
    "@click.pass_obj\n",
    "def queue_declare(amqp_context, queue, passive, durable, auto_delete):\n",
    "    if amqp_context.channel is None:\n",
    "        amqp_context.echo_error(\"Not connected to broker. Please retry...\")\n",
    "        amqp_context.reconnect()\n",
    "    else:\n",
    "        try:\n",
    "            retval = amqp_context.channel.queue_declare(\n",
    "                queue=queue, passive=passive, durable=durable, auto_delete=auto_delete\n",
    "            )\n",
    "        except Exception as e:\n",
    "            amqp_context.echo_error(e)\n",
    "            amqp_context.reconnect()\n",
    "        else:\n",
    "            amqp_context.cli_context.secho(\n",
    "                \"queue:{} messages:{} consumers:{}\".format(*retval),\n",
    "                fg=\"cyan\",\n",
    "                bold=True,\n",
    "            )\n",
    "            amqp_context.echo_ok()"
   ]
  },
  {
   "cell_type": "markdown",
   "metadata": {},
   "source": []
  },
  {
   "cell_type": "code",
   "execution_count": null,
   "metadata": {},
   "outputs": [],
   "source": [
    "@amqp.command(name=\"queue.delete\")\n",
    "@click.argument(\"queue\", type=str)\n",
    "@click.argument(\"if_unused\", type=bool, default=False)\n",
    "@click.argument(\"if_empty\", type=bool, default=False)\n",
    "@click.pass_obj\n",
    "def queue_delete(amqp_context, queue, if_unused, if_empty):\n",
    "    if amqp_context.channel is None:\n",
    "        amqp_context.echo_error(\"Not connected to broker. Please retry...\")\n",
    "        amqp_context.reconnect()\n",
    "    else:\n",
    "        try:\n",
    "            retval = amqp_context.channel.queue_delete(\n",
    "                queue=queue, if_unused=if_unused, if_empty=if_empty\n",
    "            )\n",
    "        except Exception as e:\n",
    "            amqp_context.echo_error(e)\n",
    "            amqp_context.reconnect()\n",
    "        else:\n",
    "            amqp_context.cli_context.secho(\n",
    "                f\"{retval} messages deleted.\", fg=\"cyan\", bold=True\n",
    "            )\n",
    "            amqp_context.echo_ok()"
   ]
  },
  {
   "cell_type": "markdown",
   "metadata": {},
   "source": []
  },
  {
   "cell_type": "code",
   "execution_count": null,
   "metadata": {},
   "outputs": [],
   "source": [
    "@amqp.command(name=\"queue.purge\")\n",
    "@click.argument(\"queue\", type=str)\n",
    "@click.pass_obj\n",
    "def queue_purge(amqp_context, queue):\n",
    "    if amqp_context.channel is None:\n",
    "        amqp_context.echo_error(\"Not connected to broker. Please retry...\")\n",
    "        amqp_context.reconnect()\n",
    "    else:\n",
    "        try:\n",
    "            retval = amqp_context.channel.queue_purge(queue=queue)\n",
    "        except Exception as e:\n",
    "            amqp_context.echo_error(e)\n",
    "            amqp_context.reconnect()\n",
    "        else:\n",
    "            amqp_context.cli_context.secho(\n",
    "                f\"{retval} messages deleted.\", fg=\"cyan\", bold=True\n",
    "            )\n",
    "            amqp_context.echo_ok()"
   ]
  },
  {
   "cell_type": "markdown",
   "metadata": {},
   "source": []
  },
  {
   "cell_type": "code",
   "execution_count": null,
   "metadata": {},
   "outputs": [],
   "source": [
    "@amqp.command(name=\"basic.get\")\n",
    "@click.argument(\"queue\", type=str)\n",
    "@click.argument(\"no_ack\", type=bool, default=False)\n",
    "@click.pass_obj\n",
    "def basic_get(amqp_context, queue, no_ack):\n",
    "    if amqp_context.channel is None:\n",
    "        amqp_context.echo_error(\"Not connected to broker. Please retry...\")\n",
    "        amqp_context.reconnect()\n",
    "    else:\n",
    "        try:\n",
    "            message = amqp_context.channel.basic_get(queue, no_ack=no_ack)\n",
    "        except Exception as e:\n",
    "            amqp_context.echo_error(e)\n",
    "            amqp_context.reconnect()\n",
    "        else:\n",
    "            amqp_context.respond(dump_message(message))\n",
    "            amqp_context.echo_ok()"
   ]
  },
  {
   "cell_type": "markdown",
   "metadata": {},
   "source": []
  },
  {
   "cell_type": "code",
   "execution_count": null,
   "metadata": {},
   "outputs": [],
   "source": [
    "@amqp.command(name=\"basic.publish\")\n",
    "@click.argument(\"msg\", type=str)\n",
    "@click.argument(\"exchange\", type=str)\n",
    "@click.argument(\"routing_key\", type=str)\n",
    "@click.argument(\"mandatory\", type=bool, default=False)\n",
    "@click.argument(\"immediate\", type=bool, default=False)\n",
    "@click.pass_obj\n",
    "def basic_publish(amqp_context, msg, exchange, routing_key, mandatory, immediate):\n",
    "    if amqp_context.channel is None:\n",
    "        amqp_context.echo_error(\"Not connected to broker. Please retry...\")\n",
    "        amqp_context.reconnect()\n",
    "    else:\n",
    "        # XXX Hack to fix Issue #2013\n",
    "        if isinstance(amqp_context.connection.connection, Connection):\n",
    "            msg = Message(msg)\n",
    "        try:\n",
    "            amqp_context.channel.basic_publish(\n",
    "                msg,\n",
    "                exchange=exchange,\n",
    "                routing_key=routing_key,\n",
    "                mandatory=mandatory,\n",
    "                immediate=immediate,\n",
    "            )\n",
    "        except Exception as e:\n",
    "            amqp_context.echo_error(e)\n",
    "            amqp_context.reconnect()\n",
    "        else:\n",
    "            amqp_context.echo_ok()"
   ]
  },
  {
   "cell_type": "markdown",
   "metadata": {},
   "source": []
  },
  {
   "cell_type": "code",
   "execution_count": null,
   "metadata": {},
   "outputs": [],
   "source": [
    "@amqp.command(name=\"basic.ack\")\n",
    "@click.argument(\"delivery_tag\", type=int)\n",
    "@click.pass_obj\n",
    "def basic_ack(amqp_context, delivery_tag):\n",
    "    if amqp_context.channel is None:\n",
    "        amqp_context.echo_error(\"Not connected to broker. Please retry...\")\n",
    "        amqp_context.reconnect()\n",
    "    else:\n",
    "        try:\n",
    "            amqp_context.channel.basic_ack(delivery_tag)\n",
    "        except Exception as e:\n",
    "            amqp_context.echo_error(e)\n",
    "            amqp_context.reconnect()\n",
    "        else:\n",
    "            amqp_context.echo_ok()"
   ]
  },
  {
   "cell_type": "markdown",
   "metadata": {},
   "source": []
  },
  {
   "cell_type": "code",
   "execution_count": null,
   "metadata": {},
   "outputs": [],
   "source": [
    "register_repl(amqp)"
   ]
  },
  {
   "cell_type": "markdown",
   "metadata": {},
   "source": []
  }
 ],
 "metadata": {
  "language_info": {
   "name": "python"
  }
 },
 "nbformat": 4,
 "nbformat_minor": 2
}