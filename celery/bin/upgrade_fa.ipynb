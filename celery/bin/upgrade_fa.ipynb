{
 "cells": [
  {
   "cell_type": "code",
   "execution_count": null,
   "metadata": {},
   "outputs": [],
   "source": [
    "\"\"\"The ``celery upgrade`` command, used to upgrade from previous versions.\"\"\"\n",
    "import codecs\n",
    "import sys\n",
    "\n",
    "import click\n",
    "\n",
    "from celery.app import defaults\n",
    "from celery.bin.base import CeleryCommand, CeleryOption, handle_preload_options\n",
    "from celery.utils.functional import pass1"
   ]
  },
  {
   "cell_type": "markdown",
   "metadata": {},
   "source": []
  },
  {
   "cell_type": "code",
   "execution_count": null,
   "metadata": {},
   "outputs": [],
   "source": [
    "@click.group()\n",
    "@click.pass_context\n",
    "@handle_preload_options\n",
    "def upgrade(ctx):\n",
    "    \"\"\"Perform upgrade between versions.\"\"\""
   ]
  },
  {
   "cell_type": "markdown",
   "metadata": {},
   "source": []
  },
  {
   "cell_type": "code",
   "execution_count": null,
   "metadata": {},
   "outputs": [],
   "source": [
    "def _slurp(filename):\n",
    "    # TODO: Handle case when file does not exist\n",
    "    with codecs.open(filename, \"r\", \"utf-8\") as read_fh:\n",
    "        return [line for line in read_fh]"
   ]
  },
  {
   "cell_type": "markdown",
   "metadata": {},
   "source": []
  },
  {
   "cell_type": "code",
   "execution_count": null,
   "metadata": {},
   "outputs": [],
   "source": [
    "def _compat_key(key, namespace=\"CELERY\"):\n",
    "    key = key.upper()\n",
    "    if not key.startswith(namespace):\n",
    "        key = \"_\".join([namespace, key])\n",
    "    return key"
   ]
  },
  {
   "cell_type": "markdown",
   "metadata": {},
   "source": []
  },
  {
   "cell_type": "code",
   "execution_count": null,
   "metadata": {},
   "outputs": [],
   "source": [
    "def _backup(filename, suffix=\".orig\"):\n",
    "    lines = []\n",
    "    backup_filename = \"\".join([filename, suffix])\n",
    "    print(f\"writing backup to {backup_filename}...\", file=sys.stderr)\n",
    "    with codecs.open(filename, \"r\", \"utf-8\") as read_fh:\n",
    "        with codecs.open(backup_filename, \"w\", \"utf-8\") as backup_fh:\n",
    "            for line in read_fh:\n",
    "                backup_fh.write(line)\n",
    "                lines.append(line)\n",
    "    return lines"
   ]
  },
  {
   "cell_type": "markdown",
   "metadata": {},
   "source": []
  },
  {
   "cell_type": "code",
   "execution_count": null,
   "metadata": {},
   "outputs": [],
   "source": [
    "def _to_new_key(line, keyfilter=pass1, source=defaults._TO_NEW_KEY):\n",
    "    # sort by length to avoid, for example, broker_transport overriding\n",
    "    # broker_transport_options.\n",
    "    for old_key in reversed(sorted(source, key=lambda x: len(x))):\n",
    "        new_line = line.replace(old_key, keyfilter(source[old_key]))\n",
    "        if line != new_line and \"CELERY_CELERY\" not in new_line:\n",
    "            return 1, new_line  # only one match per line.\n",
    "    return 0, line"
   ]
  },
  {
   "cell_type": "markdown",
   "metadata": {},
   "source": []
  },
  {
   "cell_type": "code",
   "execution_count": null,
   "metadata": {},
   "outputs": [],
   "source": [
    "@upgrade.command(cls=CeleryCommand)\n",
    "@click.argument(\"filename\")\n",
    "@click.option(\n",
    "    \"--django\",\n",
    "    cls=CeleryOption,\n",
    "    is_flag=True,\n",
    "    help_group=\"Upgrading Options\",\n",
    "    help=\"Upgrade Django project.\",\n",
    ")\n",
    "@click.option(\n",
    "    \"--compat\",\n",
    "    cls=CeleryOption,\n",
    "    is_flag=True,\n",
    "    help_group=\"Upgrading Options\",\n",
    "    help=\"Maintain backwards compatibility.\",\n",
    ")\n",
    "@click.option(\n",
    "    \"--no-backup\",\n",
    "    cls=CeleryOption,\n",
    "    is_flag=True,\n",
    "    help_group=\"Upgrading Options\",\n",
    "    help=\"Don't backup original files.\",\n",
    ")\n",
    "def settings(filename, django, compat, no_backup):\n",
    "    \"\"\"Migrate settings from Celery 3.x to Celery 4.x.\"\"\"\n",
    "    lines = _slurp(filename)\n",
    "    keyfilter = _compat_key if django or compat else pass1\n",
    "    print(f\"processing {filename}...\", file=sys.stderr)\n",
    "    # gives list of tuples: ``(did_change, line_contents)``\n",
    "    new_lines = [_to_new_key(line, keyfilter) for line in lines]\n",
    "    if any(n[0] for n in new_lines):  # did have changes\n",
    "        if not no_backup:\n",
    "            _backup(filename)\n",
    "        with codecs.open(filename, \"w\", \"utf-8\") as write_fh:\n",
    "            for _, line in new_lines:\n",
    "                write_fh.write(line)\n",
    "        print(\"Changes to your setting have been made!\", file=sys.stdout)\n",
    "    else:\n",
    "        print(\"Does not seem to require any changes :-)\", file=sys.stdout)"
   ]
  },
  {
   "cell_type": "markdown",
   "metadata": {},
   "source": []
  }
 ],
 "metadata": {
  "language_info": {
   "name": "python"
  }
 },
 "nbformat": 4,
 "nbformat_minor": 2
}