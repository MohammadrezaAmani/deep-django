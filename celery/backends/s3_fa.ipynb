{
 "cells": [
  {
   "cell_type": "code",
   "execution_count": null,
   "metadata": {},
   "outputs": [],
   "source": [
    "\"\"\"s3 result store backend.\"\"\"\n",
    "\n",
    "from kombu.utils.encoding import bytes_to_str\n",
    "\n",
    "from celery.exceptions import ImproperlyConfigured\n",
    "\n",
    "from .base import KeyValueStoreBackend\n",
    "\n",
    "try:\n",
    "    import boto3\n",
    "    import botocore\n",
    "except ImportError:\n",
    "    boto3 = None\n",
    "    botocore = None"
   ]
  },
  {
   "cell_type": "markdown",
   "metadata": {},
   "source": []
  },
  {
   "cell_type": "code",
   "execution_count": null,
   "metadata": {},
   "outputs": [],
   "source": [
    "__all__ = (\"S3Backend\",)"
   ]
  },
  {
   "cell_type": "markdown",
   "metadata": {},
   "source": []
  },
  {
   "cell_type": "code",
   "execution_count": null,
   "metadata": {},
   "outputs": [],
   "source": [
    "class S3Backend(KeyValueStoreBackend):\n",
    "    \"\"\"An S3 task result store.\n",
    "\n",
    "    Raises:\n",
    "        celery.exceptions.ImproperlyConfigured:\n",
    "            if module :pypi:`boto3` is not available,\n",
    "            if the :setting:`aws_access_key_id` or\n",
    "            setting:`aws_secret_access_key` are not set,\n",
    "            or it the :setting:`bucket` is not set.\n",
    "    \"\"\"\n",
    "\n",
    "    def __init__(self, **kwargs):\n",
    "        super().__init__(**kwargs)\n",
    "\n",
    "        if not boto3 or not botocore:\n",
    "            raise ImproperlyConfigured(\"You must install boto3\" \"to use s3 backend\")\n",
    "        conf = self.app.conf\n",
    "\n",
    "        self.endpoint_url = conf.get(\"s3_endpoint_url\", None)\n",
    "        self.aws_region = conf.get(\"s3_region\", None)\n",
    "\n",
    "        self.aws_access_key_id = conf.get(\"s3_access_key_id\", None)\n",
    "        self.aws_secret_access_key = conf.get(\"s3_secret_access_key\", None)\n",
    "\n",
    "        self.bucket_name = conf.get(\"s3_bucket\", None)\n",
    "        if not self.bucket_name:\n",
    "            raise ImproperlyConfigured(\"Missing bucket name\")\n",
    "\n",
    "        self.base_path = conf.get(\"s3_base_path\", None)\n",
    "\n",
    "        self._s3_resource = self._connect_to_s3()\n",
    "\n",
    "    def _get_s3_object(self, key):\n",
    "        key_bucket_path = self.base_path + key if self.base_path else key\n",
    "        return self._s3_resource.Object(self.bucket_name, key_bucket_path)\n",
    "\n",
    "    def get(self, key):\n",
    "        key = bytes_to_str(key)\n",
    "        s3_object = self._get_s3_object(key)\n",
    "        try:\n",
    "            s3_object.load()\n",
    "            data = s3_object.get()[\"Body\"].read()\n",
    "            return data if self.content_encoding == \"binary\" else data.decode(\"utf-8\")\n",
    "        except botocore.exceptions.ClientError as error:\n",
    "            if error.response[\"Error\"][\"Code\"] == \"404\":\n",
    "                return None\n",
    "            raise error\n",
    "\n",
    "    def set(self, key, value):\n",
    "        key = bytes_to_str(key)\n",
    "        s3_object = self._get_s3_object(key)\n",
    "        s3_object.put(Body=value)\n",
    "\n",
    "    def delete(self, key):\n",
    "        key = bytes_to_str(key)\n",
    "        s3_object = self._get_s3_object(key)\n",
    "        s3_object.delete()\n",
    "\n",
    "    def _connect_to_s3(self):\n",
    "        session = boto3.Session(\n",
    "            aws_access_key_id=self.aws_access_key_id,\n",
    "            aws_secret_access_key=self.aws_secret_access_key,\n",
    "            region_name=self.aws_region,\n",
    "        )\n",
    "        if session.get_credentials() is None:\n",
    "            raise ImproperlyConfigured(\"Missing aws s3 creds\")\n",
    "        return session.resource(\"s3\", endpoint_url=self.endpoint_url)"
   ]
  },
  {
   "cell_type": "markdown",
   "metadata": {},
   "source": []
  }
 ],
 "metadata": {
  "language_info": {
   "name": "python"
  }
 },
 "nbformat": 4,
 "nbformat_minor": 2
}