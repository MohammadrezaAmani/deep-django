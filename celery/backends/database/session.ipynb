{
 "cells": [
  {
   "cell_type": "code",
   "execution_count": null,
   "metadata": {},
   "outputs": [],
   "source": [
    "\"\"\"SQLAlchemy session.\"\"\"\n",
    "import time\n",
    "\n",
    "from kombu.utils.compat import register_after_fork\n",
    "from sqlalchemy import create_engine\n",
    "from sqlalchemy.exc import DatabaseError\n",
    "from sqlalchemy.orm import sessionmaker\n",
    "from sqlalchemy.pool import NullPool\n",
    "\n",
    "from celery.utils.time import get_exponential_backoff_interval\n",
    "\n",
    "try:\n",
    "    from sqlalchemy.orm import declarative_base\n",
    "except ImportError:\n",
    "    # TODO: Remove this once we drop support for SQLAlchemy < 1.4.\n",
    "    from sqlalchemy.ext.declarative import declarative_base\n",
    "\n",
    "ResultModelBase = declarative_base()\n",
    "\n",
    "__all__ = (\"SessionManager\",)\n",
    "\n",
    "PREPARE_MODELS_MAX_RETRIES = 10"
   ]
  },
  {
   "cell_type": "markdown",
   "metadata": {},
   "source": []
  },
  {
   "cell_type": "code",
   "execution_count": null,
   "metadata": {},
   "outputs": [],
   "source": [
    "def _after_fork_cleanup_session(session):\n",
    "    session._after_fork()"
   ]
  },
  {
   "cell_type": "markdown",
   "metadata": {},
   "source": []
  },
  {
   "cell_type": "code",
   "execution_count": null,
   "metadata": {},
   "outputs": [],
   "source": [
    "class SessionManager:\n",
    "    \"\"\"Manage SQLAlchemy sessions.\"\"\"\n",
    "\n",
    "    def __init__(self):\n",
    "        self._engines = {}\n",
    "        self._sessions = {}\n",
    "        self.forked = False\n",
    "        self.prepared = False\n",
    "        if register_after_fork is not None:\n",
    "            register_after_fork(self, _after_fork_cleanup_session)\n",
    "\n",
    "    def _after_fork(self):\n",
    "        self.forked = True\n",
    "\n",
    "    def get_engine(self, dburi, **kwargs):\n",
    "        if self.forked:\n",
    "            try:\n",
    "                return self._engines[dburi]\n",
    "            except KeyError:\n",
    "                engine = self._engines[dburi] = create_engine(dburi, **kwargs)\n",
    "                return engine\n",
    "        else:\n",
    "            kwargs = {k: v for k, v in kwargs.items() if not k.startswith(\"pool\")}\n",
    "            return create_engine(dburi, poolclass=NullPool, **kwargs)\n",
    "\n",
    "    def create_session(self, dburi, short_lived_sessions=False, **kwargs):\n",
    "        engine = self.get_engine(dburi, **kwargs)\n",
    "        if self.forked:\n",
    "            if short_lived_sessions or dburi not in self._sessions:\n",
    "                self._sessions[dburi] = sessionmaker(bind=engine)\n",
    "            return engine, self._sessions[dburi]\n",
    "        return engine, sessionmaker(bind=engine)\n",
    "\n",
    "    def prepare_models(self, engine):\n",
    "        if not self.prepared:\n",
    "            # SQLAlchemy will check if the items exist before trying to\n",
    "            # create them, which is a race condition. If it raises an error\n",
    "            # in one iteration, the next may pass all the existence checks\n",
    "            # and the call will succeed.\n",
    "            retries = 0\n",
    "            while True:\n",
    "                try:\n",
    "                    ResultModelBase.metadata.create_all(engine)\n",
    "                except DatabaseError:\n",
    "                    if retries < PREPARE_MODELS_MAX_RETRIES:\n",
    "                        sleep_amount_ms = get_exponential_backoff_interval(\n",
    "                            10, retries, 1000, True\n",
    "                        )\n",
    "                        time.sleep(sleep_amount_ms / 1000)\n",
    "                        retries += 1\n",
    "                    else:\n",
    "                        raise\n",
    "                else:\n",
    "                    break\n",
    "            self.prepared = True\n",
    "\n",
    "    def session_factory(self, dburi, **kwargs):\n",
    "        engine, session = self.create_session(dburi, **kwargs)\n",
    "        self.prepare_models(engine)\n",
    "        return session()"
   ]
  },
  {
   "cell_type": "markdown",
   "metadata": {},
   "source": []
  }
 ],
 "metadata": {
  "language_info": {
   "name": "python"
  }
 },
 "nbformat": 4,
 "nbformat_minor": 2
}