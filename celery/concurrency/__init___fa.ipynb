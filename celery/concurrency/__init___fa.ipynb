{
 "cells": [
  {
   "cell_type": "code",
   "execution_count": null,
   "metadata": {},
   "outputs": [],
   "source": [
    "\"\"\"Pool implementation abstract factory, and alias definitions.\"\"\"\n",
    "import os\n",
    "\n",
    "# Import from kombu directly as it's used\n",
    "# early in the import stage, where celery.utils loads\n",
    "# too much (e.g., for eventlet patching)\n",
    "from kombu.utils.imports import symbol_by_name\n",
    "\n",
    "__all__ = (\n",
    "    \"get_implementation\",\n",
    "    \"get_available_pool_names\",\n",
    ")\n",
    "\n",
    "ALIASES = {\n",
    "    \"prefork\": \"celery.concurrency.prefork:TaskPool\",\n",
    "    \"eventlet\": \"celery.concurrency.eventlet:TaskPool\",\n",
    "    \"gevent\": \"celery.concurrency.gevent:TaskPool\",\n",
    "    \"solo\": \"celery.concurrency.solo:TaskPool\",\n",
    "    \"processes\": \"celery.concurrency.prefork:TaskPool\",  # XXX compat alias\n",
    "}\n",
    "\n",
    "try:\n",
    "    import concurrent.futures  # noqa\n",
    "except ImportError:\n",
    "    pass\n",
    "else:\n",
    "    ALIASES[\"threads\"] = \"celery.concurrency.thread:TaskPool\"\n",
    "#\n",
    "# Allow for an out-of-tree worker pool implementation. This is used as follows:\n",
    "#\n",
    "#   - Set the environment variable CELERY_CUSTOM_WORKER_POOL to the name of\n",
    "#     an implementation of :class:`celery.concurrency.base.BasePool` in the\n",
    "#     standard Celery format of \"package:class\".\n",
    "#   - Select this pool using '--pool custom'.\n",
    "#\n",
    "try:\n",
    "    custom = os.environ.get(\"CELERY_CUSTOM_WORKER_POOL\")\n",
    "except KeyError:\n",
    "    pass\n",
    "else:\n",
    "    ALIASES[\"custom\"] = custom"
   ]
  },
  {
   "cell_type": "markdown",
   "metadata": {},
   "source": []
  },
  {
   "cell_type": "code",
   "execution_count": null,
   "metadata": {},
   "outputs": [],
   "source": [
    "def get_implementation(cls):\n",
    "    \"\"\"Return pool implementation by name.\"\"\"\n",
    "    return symbol_by_name(cls, ALIASES)"
   ]
  },
  {
   "cell_type": "markdown",
   "metadata": {},
   "source": []
  },
  {
   "cell_type": "code",
   "execution_count": null,
   "metadata": {},
   "outputs": [],
   "source": [
    "def get_available_pool_names():\n",
    "    \"\"\"Return all available pool type names.\"\"\"\n",
    "    return tuple(ALIASES.keys())"
   ]
  },
  {
   "cell_type": "markdown",
   "metadata": {},
   "source": []
  }
 ],
 "metadata": {
  "language_info": {
   "name": "python"
  }
 },
 "nbformat": 4,
 "nbformat_minor": 2
}