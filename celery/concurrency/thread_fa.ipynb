{
 "cells": [
  {
   "cell_type": "code",
   "execution_count": null,
   "metadata": {},
   "outputs": [],
   "source": [
    "\"\"\"Thread execution pool.\"\"\"\n",
    "from __future__ import annotations\n",
    "\n",
    "from concurrent.futures import Future, ThreadPoolExecutor, wait\n",
    "from typing import TYPE_CHECKING, Any, Callable\n",
    "\n",
    "from .base import BasePool, apply_target\n",
    "\n",
    "__all__ = (\"TaskPool\",)\n",
    "\n",
    "if TYPE_CHECKING:\n",
    "    from typing import TypedDict\n",
    "\n",
    "    PoolInfo = TypedDict(\"PoolInfo\", {\"max-concurrency\": int, \"threads\": int})\n",
    "\n",
    "    # `TargetFunction` should be a Protocol that represents fast_trace_task and\n",
    "    # trace_task_ret.\n",
    "    TargetFunction = Callable[..., Any]"
   ]
  },
  {
   "cell_type": "markdown",
   "metadata": {},
   "source": []
  },
  {
   "cell_type": "code",
   "execution_count": null,
   "metadata": {},
   "outputs": [],
   "source": [
    "class ApplyResult:\n",
    "    def __init__(self, future: Future) -> None:\n",
    "        self.f = future\n",
    "        self.get = self.f.result\n",
    "\n",
    "    def wait(self, timeout: float | None = None) -> None:\n",
    "        wait([self.f], timeout)"
   ]
  },
  {
   "cell_type": "markdown",
   "metadata": {},
   "source": []
  },
  {
   "cell_type": "code",
   "execution_count": null,
   "metadata": {},
   "outputs": [],
   "source": [
    "class TaskPool(BasePool):\n",
    "    \"\"\"Thread Task Pool.\"\"\"\n",
    "\n",
    "    limit: int\n",
    "\n",
    "    body_can_be_buffer = True\n",
    "    signal_safe = False\n",
    "\n",
    "    def __init__(self, *args: Any, **kwargs: Any) -> None:\n",
    "        super().__init__(*args, **kwargs)\n",
    "        self.executor = ThreadPoolExecutor(max_workers=self.limit)\n",
    "\n",
    "    def on_stop(self) -> None:\n",
    "        self.executor.shutdown()\n",
    "        super().on_stop()\n",
    "\n",
    "    def on_apply(\n",
    "        self,\n",
    "        target: TargetFunction,\n",
    "        args: tuple[Any, ...] | None = None,\n",
    "        kwargs: dict[str, Any] | None = None,\n",
    "        callback: Callable[..., Any] | None = None,\n",
    "        accept_callback: Callable[..., Any] | None = None,\n",
    "        **_: Any,\n",
    "    ) -> ApplyResult:\n",
    "        f = self.executor.submit(\n",
    "            apply_target, target, args, kwargs, callback, accept_callback\n",
    "        )\n",
    "        return ApplyResult(f)\n",
    "\n",
    "    def _get_info(self) -> PoolInfo:\n",
    "        info = super()._get_info()\n",
    "        info.update(\n",
    "            {\"max-concurrency\": self.limit, \"threads\": len(self.executor._threads)}\n",
    "        )\n",
    "        return info"
   ]
  },
  {
   "cell_type": "markdown",
   "metadata": {},
   "source": []
  }
 ],
 "metadata": {
  "language_info": {
   "name": "python"
  }
 },
 "nbformat": 4,
 "nbformat_minor": 2
}