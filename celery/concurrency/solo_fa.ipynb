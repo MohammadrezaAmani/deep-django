{
 "cells": [
  {
   "cell_type": "code",
   "execution_count": null,
   "metadata": {},
   "outputs": [],
   "source": [
    "\"\"\"Single-threaded execution pool.\"\"\"\n",
    "import os\n",
    "\n",
    "from celery import signals\n",
    "\n",
    "from .base import BasePool, apply_target\n",
    "\n",
    "__all__ = (\"TaskPool\",)"
   ]
  },
  {
   "cell_type": "markdown",
   "metadata": {},
   "source": []
  },
  {
   "cell_type": "code",
   "execution_count": null,
   "metadata": {},
   "outputs": [],
   "source": [
    "class TaskPool(BasePool):\n",
    "    \"\"\"Solo task pool (blocking, inline, fast).\"\"\"\n",
    "\n",
    "    body_can_be_buffer = True\n",
    "\n",
    "    def __init__(self, *args, **kwargs):\n",
    "        super().__init__(*args, **kwargs)\n",
    "        self.on_apply = apply_target\n",
    "        self.limit = 1\n",
    "        signals.worker_process_init.send(sender=None)\n",
    "\n",
    "    def _get_info(self):\n",
    "        info = super()._get_info()\n",
    "        info.update(\n",
    "            {\n",
    "                \"max-concurrency\": 1,\n",
    "                \"processes\": [os.getpid()],\n",
    "                \"max-tasks-per-child\": None,\n",
    "                \"put-guarded-by-semaphore\": True,\n",
    "                \"timeouts\": (),\n",
    "            }\n",
    "        )\n",
    "        return info"
   ]
  },
  {
   "cell_type": "markdown",
   "metadata": {},
   "source": []
  }
 ],
 "metadata": {
  "language_info": {
   "name": "python"
  }
 },
 "nbformat": 4,
 "nbformat_minor": 2
}