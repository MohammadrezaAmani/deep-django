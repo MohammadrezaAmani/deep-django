{
 "cells": [
  {
   "cell_type": "code",
   "execution_count": null,
   "metadata": {},
   "outputs": [],
   "source": [
    "\"\"\"Celery error types.\n",
    "\n",
    "Error Hierarchy\n",
    "===============\n",
    "\n",
    "- :exc:`Exception`\n",
    "    - :exc:`celery.exceptions.CeleryError`\n",
    "        - :exc:`~celery.exceptions.ImproperlyConfigured`\n",
    "        - :exc:`~celery.exceptions.SecurityError`\n",
    "        - :exc:`~celery.exceptions.TaskPredicate`\n",
    "            - :exc:`~celery.exceptions.Ignore`\n",
    "            - :exc:`~celery.exceptions.Reject`\n",
    "            - :exc:`~celery.exceptions.Retry`\n",
    "        - :exc:`~celery.exceptions.TaskError`\n",
    "            - :exc:`~celery.exceptions.QueueNotFound`\n",
    "            - :exc:`~celery.exceptions.IncompleteStream`\n",
    "            - :exc:`~celery.exceptions.NotRegistered`\n",
    "            - :exc:`~celery.exceptions.AlreadyRegistered`\n",
    "            - :exc:`~celery.exceptions.TimeoutError`\n",
    "            - :exc:`~celery.exceptions.MaxRetriesExceededError`\n",
    "            - :exc:`~celery.exceptions.TaskRevokedError`\n",
    "            - :exc:`~celery.exceptions.InvalidTaskError`\n",
    "            - :exc:`~celery.exceptions.ChordError`\n",
    "        - :exc:`~celery.exceptions.BackendError`\n",
    "            - :exc:`~celery.exceptions.BackendGetMetaError`\n",
    "            - :exc:`~celery.exceptions.BackendStoreError`\n",
    "    - :class:`kombu.exceptions.KombuError`\n",
    "        - :exc:`~celery.exceptions.OperationalError`\n",
    "\n",
    "            Raised when a transport connection error occurs while\n",
    "            sending a message (be it a task, remote control command error).\n",
    "\n",
    "            .. note::\n",
    "                This exception does not inherit from\n",
    "                :exc:`~celery.exceptions.CeleryError`.\n",
    "    - **billiard errors** (prefork pool)\n",
    "        - :exc:`~celery.exceptions.SoftTimeLimitExceeded`\n",
    "        - :exc:`~celery.exceptions.TimeLimitExceeded`\n",
    "        - :exc:`~celery.exceptions.WorkerLostError`\n",
    "        - :exc:`~celery.exceptions.Terminated`\n",
    "- :class:`UserWarning`\n",
    "    - :class:`~celery.exceptions.CeleryWarning`\n",
    "        - :class:`~celery.exceptions.AlwaysEagerIgnored`\n",
    "        - :class:`~celery.exceptions.DuplicateNodenameWarning`\n",
    "        - :class:`~celery.exceptions.FixupWarning`\n",
    "        - :class:`~celery.exceptions.NotConfigured`\n",
    "        - :class:`~celery.exceptions.SecurityWarning`\n",
    "- :exc:`BaseException`\n",
    "    - :exc:`SystemExit`\n",
    "        - :exc:`~celery.exceptions.WorkerTerminate`\n",
    "        - :exc:`~celery.exceptions.WorkerShutdown`\n",
    "\"\"\"\n",
    "\n",
    "import numbers\n",
    "\n",
    "from billiard.exceptions import (\n",
    "    SoftTimeLimitExceeded,\n",
    "    Terminated,\n",
    "    TimeLimitExceeded,\n",
    "    WorkerLostError,\n",
    ")\n",
    "from click import ClickException\n",
    "from kombu.exceptions import OperationalError\n",
    "\n",
    "__all__ = (\n",
    "    \"reraise\",\n",
    "    # Warnings\n",
    "    \"CeleryWarning\",\n",
    "    \"AlwaysEagerIgnored\",\n",
    "    \"DuplicateNodenameWarning\",\n",
    "    \"FixupWarning\",\n",
    "    \"NotConfigured\",\n",
    "    \"SecurityWarning\",\n",
    "    # Core errors\n",
    "    \"CeleryError\",\n",
    "    \"ImproperlyConfigured\",\n",
    "    \"SecurityError\",\n",
    "    # Kombu (messaging) errors.\n",
    "    \"OperationalError\",\n",
    "    # Task semi-predicates\n",
    "    \"TaskPredicate\",\n",
    "    \"Ignore\",\n",
    "    \"Reject\",\n",
    "    \"Retry\",\n",
    "    # Task related errors.\n",
    "    \"TaskError\",\n",
    "    \"QueueNotFound\",\n",
    "    \"IncompleteStream\",\n",
    "    \"NotRegistered\",\n",
    "    \"AlreadyRegistered\",\n",
    "    \"TimeoutError\",\n",
    "    \"MaxRetriesExceededError\",\n",
    "    \"TaskRevokedError\",\n",
    "    \"InvalidTaskError\",\n",
    "    \"ChordError\",\n",
    "    # Backend related errors.\n",
    "    \"BackendError\",\n",
    "    \"BackendGetMetaError\",\n",
    "    \"BackendStoreError\",\n",
    "    # Billiard task errors.\n",
    "    \"SoftTimeLimitExceeded\",\n",
    "    \"TimeLimitExceeded\",\n",
    "    \"WorkerLostError\",\n",
    "    \"Terminated\",\n",
    "    # Deprecation warnings (forcing Python to emit them).\n",
    "    \"CPendingDeprecationWarning\",\n",
    "    \"CDeprecationWarning\",\n",
    "    # Worker shutdown semi-predicates (inherits from SystemExit).\n",
    "    \"WorkerShutdown\",\n",
    "    \"WorkerTerminate\",\n",
    "    \"CeleryCommandException\",\n",
    ")\n",
    "\n",
    "from celery.utils.serialization import get_pickleable_exception\n",
    "\n",
    "UNREGISTERED_FMT = \"\"\"\\\n",
    "Task of kind {0} never registered, please make sure it's imported.\\\n",
    "\"\"\""
   ]
  },
  {
   "cell_type": "markdown",
   "metadata": {},
   "source": []
  },
  {
   "cell_type": "code",
   "execution_count": null,
   "metadata": {},
   "outputs": [],
   "source": [
    "def reraise(tp, value, tb=None):\n",
    "    \"\"\"Reraise exception.\"\"\"\n",
    "    if value.__traceback__ is not tb:\n",
    "        raise value.with_traceback(tb)\n",
    "    raise value"
   ]
  },
  {
   "cell_type": "markdown",
   "metadata": {},
   "source": []
  },
  {
   "cell_type": "code",
   "execution_count": null,
   "metadata": {},
   "outputs": [],
   "source": [
    "class CeleryWarning(UserWarning):\n",
    "    \"\"\"Base class for all Celery warnings.\"\"\""
   ]
  },
  {
   "cell_type": "markdown",
   "metadata": {},
   "source": []
  },
  {
   "cell_type": "code",
   "execution_count": null,
   "metadata": {},
   "outputs": [],
   "source": [
    "class AlwaysEagerIgnored(CeleryWarning):\n",
    "    \"\"\"send_task ignores :setting:`task_always_eager` option.\"\"\""
   ]
  },
  {
   "cell_type": "markdown",
   "metadata": {},
   "source": []
  },
  {
   "cell_type": "code",
   "execution_count": null,
   "metadata": {},
   "outputs": [],
   "source": [
    "class DuplicateNodenameWarning(CeleryWarning):\n",
    "    \"\"\"Multiple workers are using the same nodename.\"\"\""
   ]
  },
  {
   "cell_type": "markdown",
   "metadata": {},
   "source": []
  },
  {
   "cell_type": "code",
   "execution_count": null,
   "metadata": {},
   "outputs": [],
   "source": [
    "class FixupWarning(CeleryWarning):\n",
    "    \"\"\"Fixup related warning.\"\"\""
   ]
  },
  {
   "cell_type": "markdown",
   "metadata": {},
   "source": []
  },
  {
   "cell_type": "code",
   "execution_count": null,
   "metadata": {},
   "outputs": [],
   "source": [
    "class NotConfigured(CeleryWarning):\n",
    "    \"\"\"Celery hasn't been configured, as no config module has been found.\"\"\""
   ]
  },
  {
   "cell_type": "markdown",
   "metadata": {},
   "source": []
  },
  {
   "cell_type": "code",
   "execution_count": null,
   "metadata": {},
   "outputs": [],
   "source": [
    "class SecurityWarning(CeleryWarning):\n",
    "    \"\"\"Potential security issue found.\"\"\""
   ]
  },
  {
   "cell_type": "markdown",
   "metadata": {},
   "source": []
  },
  {
   "cell_type": "code",
   "execution_count": null,
   "metadata": {},
   "outputs": [],
   "source": [
    "class CeleryError(Exception):\n",
    "    \"\"\"Base class for all Celery errors.\"\"\""
   ]
  },
  {
   "cell_type": "markdown",
   "metadata": {},
   "source": []
  },
  {
   "cell_type": "code",
   "execution_count": null,
   "metadata": {},
   "outputs": [],
   "source": [
    "class TaskPredicate(CeleryError):\n",
    "    \"\"\"Base class for task-related semi-predicates.\"\"\""
   ]
  },
  {
   "cell_type": "markdown",
   "metadata": {},
   "source": []
  },
  {
   "cell_type": "code",
   "execution_count": null,
   "metadata": {},
   "outputs": [],
   "source": [
    "class Retry(TaskPredicate):\n",
    "    \"\"\"The task is to be retried later.\"\"\"\n",
    "\n",
    "    #: Optional message describing context of retry.\n",
    "    message = None\n",
    "\n",
    "    #: Exception (if any) that caused the retry to happen.\n",
    "    exc = None\n",
    "\n",
    "    #: Time of retry (ETA), either :class:`numbers.Real` or\n",
    "    #: :class:`~datetime.datetime`.\n",
    "    when = None\n",
    "\n",
    "    def __init__(\n",
    "        self, message=None, exc=None, when=None, is_eager=False, sig=None, **kwargs\n",
    "    ):\n",
    "        from kombu.utils.encoding import safe_repr\n",
    "\n",
    "        self.message = message\n",
    "        if isinstance(exc, str):\n",
    "            self.exc, self.excs = None, exc\n",
    "        else:\n",
    "            self.exc, self.excs = (\n",
    "                get_pickleable_exception(exc),\n",
    "                safe_repr(exc) if exc else None,\n",
    "            )\n",
    "        self.when = when\n",
    "        self.is_eager = is_eager\n",
    "        self.sig = sig\n",
    "        super().__init__(self, exc, when, **kwargs)\n",
    "\n",
    "    def humanize(self):\n",
    "        if isinstance(self.when, numbers.Number):\n",
    "            return f\"in {self.when}s\"\n",
    "        return f\"at {self.when}\"\n",
    "\n",
    "    def __str__(self):\n",
    "        if self.message:\n",
    "            return self.message\n",
    "        if self.excs:\n",
    "            return f\"Retry {self.humanize()}: {self.excs}\"\n",
    "        return f\"Retry {self.humanize()}\"\n",
    "\n",
    "    def __reduce__(self):\n",
    "        return self.__class__, (self.message, self.exc, self.when)"
   ]
  },
  {
   "cell_type": "markdown",
   "metadata": {},
   "source": []
  },
  {
   "cell_type": "code",
   "execution_count": null,
   "metadata": {},
   "outputs": [],
   "source": [
    "RetryTaskError = Retry  # XXX compat"
   ]
  },
  {
   "cell_type": "markdown",
   "metadata": {},
   "source": []
  },
  {
   "cell_type": "code",
   "execution_count": null,
   "metadata": {},
   "outputs": [],
   "source": [
    "class Ignore(TaskPredicate):\n",
    "    \"\"\"A task can raise this to ignore doing state updates.\"\"\""
   ]
  },
  {
   "cell_type": "markdown",
   "metadata": {},
   "source": []
  },
  {
   "cell_type": "code",
   "execution_count": null,
   "metadata": {},
   "outputs": [],
   "source": [
    "class Reject(TaskPredicate):\n",
    "    \"\"\"A task can raise this if it wants to reject/re-queue the message.\"\"\"\n",
    "\n",
    "    def __init__(self, reason=None, requeue=False):\n",
    "        self.reason = reason\n",
    "        self.requeue = requeue\n",
    "        super().__init__(reason, requeue)\n",
    "\n",
    "    def __repr__(self):\n",
    "        return f\"reject requeue={self.requeue}: {self.reason}\""
   ]
  },
  {
   "cell_type": "markdown",
   "metadata": {},
   "source": []
  },
  {
   "cell_type": "code",
   "execution_count": null,
   "metadata": {},
   "outputs": [],
   "source": [
    "class ImproperlyConfigured(CeleryError):\n",
    "    \"\"\"Celery is somehow improperly configured.\"\"\""
   ]
  },
  {
   "cell_type": "markdown",
   "metadata": {},
   "source": []
  },
  {
   "cell_type": "code",
   "execution_count": null,
   "metadata": {},
   "outputs": [],
   "source": [
    "class SecurityError(CeleryError):\n",
    "    \"\"\"Security related exception.\"\"\""
   ]
  },
  {
   "cell_type": "markdown",
   "metadata": {},
   "source": []
  },
  {
   "cell_type": "code",
   "execution_count": null,
   "metadata": {},
   "outputs": [],
   "source": [
    "class TaskError(CeleryError):\n",
    "    \"\"\"Task related errors.\"\"\""
   ]
  },
  {
   "cell_type": "markdown",
   "metadata": {},
   "source": []
  },
  {
   "cell_type": "code",
   "execution_count": null,
   "metadata": {},
   "outputs": [],
   "source": [
    "class QueueNotFound(KeyError, TaskError):\n",
    "    \"\"\"Task routed to a queue not in ``conf.queues``.\"\"\""
   ]
  },
  {
   "cell_type": "markdown",
   "metadata": {},
   "source": []
  },
  {
   "cell_type": "code",
   "execution_count": null,
   "metadata": {},
   "outputs": [],
   "source": [
    "class IncompleteStream(TaskError):\n",
    "    \"\"\"Found the end of a stream of data, but the data isn't complete.\"\"\""
   ]
  },
  {
   "cell_type": "markdown",
   "metadata": {},
   "source": []
  },
  {
   "cell_type": "code",
   "execution_count": null,
   "metadata": {},
   "outputs": [],
   "source": [
    "class NotRegistered(KeyError, TaskError):\n",
    "    \"\"\"The task is not registered.\"\"\"\n",
    "\n",
    "    def __repr__(self):\n",
    "        return UNREGISTERED_FMT.format(self)"
   ]
  },
  {
   "cell_type": "markdown",
   "metadata": {},
   "source": []
  },
  {
   "cell_type": "code",
   "execution_count": null,
   "metadata": {},
   "outputs": [],
   "source": [
    "class AlreadyRegistered(TaskError):\n",
    "    \"\"\"The task is already registered.\"\"\"\n",
    "\n",
    "    # XXX Unused"
   ]
  },
  {
   "cell_type": "markdown",
   "metadata": {},
   "source": []
  },
  {
   "cell_type": "code",
   "execution_count": null,
   "metadata": {},
   "outputs": [],
   "source": [
    "class TimeoutError(TaskError):\n",
    "    \"\"\"The operation timed out.\"\"\""
   ]
  },
  {
   "cell_type": "markdown",
   "metadata": {},
   "source": []
  },
  {
   "cell_type": "code",
   "execution_count": null,
   "metadata": {},
   "outputs": [],
   "source": [
    "class MaxRetriesExceededError(TaskError):\n",
    "    \"\"\"The tasks max restart limit has been exceeded.\"\"\"\n",
    "\n",
    "    def __init__(self, *args, **kwargs):\n",
    "        self.task_args = kwargs.pop(\"task_args\", [])\n",
    "        self.task_kwargs = kwargs.pop(\"task_kwargs\", dict())\n",
    "        super().__init__(*args, **kwargs)"
   ]
  },
  {
   "cell_type": "markdown",
   "metadata": {},
   "source": []
  },
  {
   "cell_type": "code",
   "execution_count": null,
   "metadata": {},
   "outputs": [],
   "source": [
    "class TaskRevokedError(TaskError):\n",
    "    \"\"\"The task has been revoked, so no result available.\"\"\""
   ]
  },
  {
   "cell_type": "markdown",
   "metadata": {},
   "source": []
  },
  {
   "cell_type": "code",
   "execution_count": null,
   "metadata": {},
   "outputs": [],
   "source": [
    "class InvalidTaskError(TaskError):\n",
    "    \"\"\"The task has invalid data or ain't properly constructed.\"\"\""
   ]
  },
  {
   "cell_type": "markdown",
   "metadata": {},
   "source": []
  },
  {
   "cell_type": "code",
   "execution_count": null,
   "metadata": {},
   "outputs": [],
   "source": [
    "class ChordError(TaskError):\n",
    "    \"\"\"A task part of the chord raised an exception.\"\"\""
   ]
  },
  {
   "cell_type": "markdown",
   "metadata": {},
   "source": []
  },
  {
   "cell_type": "code",
   "execution_count": null,
   "metadata": {},
   "outputs": [],
   "source": [
    "class CPendingDeprecationWarning(PendingDeprecationWarning):\n",
    "    \"\"\"Warning of pending deprecation.\"\"\""
   ]
  },
  {
   "cell_type": "markdown",
   "metadata": {},
   "source": []
  },
  {
   "cell_type": "code",
   "execution_count": null,
   "metadata": {},
   "outputs": [],
   "source": [
    "class CDeprecationWarning(DeprecationWarning):\n",
    "    \"\"\"Warning of deprecation.\"\"\""
   ]
  },
  {
   "cell_type": "markdown",
   "metadata": {},
   "source": []
  },
  {
   "cell_type": "code",
   "execution_count": null,
   "metadata": {},
   "outputs": [],
   "source": [
    "class WorkerTerminate(SystemExit):\n",
    "    \"\"\"Signals that the worker should terminate immediately.\"\"\""
   ]
  },
  {
   "cell_type": "markdown",
   "metadata": {},
   "source": []
  },
  {
   "cell_type": "code",
   "execution_count": null,
   "metadata": {},
   "outputs": [],
   "source": [
    "SystemTerminate = WorkerTerminate  # XXX compat"
   ]
  },
  {
   "cell_type": "markdown",
   "metadata": {},
   "source": []
  },
  {
   "cell_type": "code",
   "execution_count": null,
   "metadata": {},
   "outputs": [],
   "source": [
    "class WorkerShutdown(SystemExit):\n",
    "    \"\"\"Signals that the worker should perform a warm shutdown.\"\"\""
   ]
  },
  {
   "cell_type": "markdown",
   "metadata": {},
   "source": []
  },
  {
   "cell_type": "code",
   "execution_count": null,
   "metadata": {},
   "outputs": [],
   "source": [
    "class BackendError(Exception):\n",
    "    \"\"\"An issue writing or reading to/from the backend.\"\"\""
   ]
  },
  {
   "cell_type": "markdown",
   "metadata": {},
   "source": []
  },
  {
   "cell_type": "code",
   "execution_count": null,
   "metadata": {},
   "outputs": [],
   "source": [
    "class BackendGetMetaError(BackendError):\n",
    "    \"\"\"An issue reading from the backend.\"\"\"\n",
    "\n",
    "    def __init__(self, *args, **kwargs):\n",
    "        self.task_id = kwargs.get(\"task_id\", \"\")\n",
    "\n",
    "    def __repr__(self):\n",
    "        return super().__repr__() + \" task_id:\" + self.task_id"
   ]
  },
  {
   "cell_type": "markdown",
   "metadata": {},
   "source": []
  },
  {
   "cell_type": "code",
   "execution_count": null,
   "metadata": {},
   "outputs": [],
   "source": [
    "class BackendStoreError(BackendError):\n",
    "    \"\"\"An issue writing to the backend.\"\"\"\n",
    "\n",
    "    def __init__(self, *args, **kwargs):\n",
    "        self.state = kwargs.get(\"state\", \"\")\n",
    "        self.task_id = kwargs.get(\"task_id\", \"\")\n",
    "\n",
    "    def __repr__(self):\n",
    "        return super().__repr__() + \" state:\" + self.state + \" task_id:\" + self.task_id"
   ]
  },
  {
   "cell_type": "markdown",
   "metadata": {},
   "source": []
  },
  {
   "cell_type": "code",
   "execution_count": null,
   "metadata": {},
   "outputs": [],
   "source": [
    "class CeleryCommandException(ClickException):\n",
    "    \"\"\"A general command exception which stores an exit code.\"\"\"\n",
    "\n",
    "    def __init__(self, message, exit_code):\n",
    "        super().__init__(message=message)\n",
    "        self.exit_code = exit_code"
   ]
  },
  {
   "cell_type": "markdown",
   "metadata": {},
   "source": []
  }
 ],
 "metadata": {
  "language_info": {
   "name": "python"
  }
 },
 "nbformat": 4,
 "nbformat_minor": 2
}