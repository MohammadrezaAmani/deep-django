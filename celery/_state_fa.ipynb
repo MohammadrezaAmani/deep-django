{
 "cells": [
  {
   "cell_type": "code",
   "execution_count": null,
   "metadata": {},
   "outputs": [],
   "source": [
    "\"\"\"Internal state.\n",
    "\n",
    "This is an internal module containing thread state\n",
    "like the ``current_app``, and ``current_task``.\n",
    "\n",
    "This module shouldn't be used directly.\n",
    "\"\"\"\n",
    "\n",
    "import os\n",
    "import sys\n",
    "import threading\n",
    "import weakref\n",
    "\n",
    "from celery.local import Proxy\n",
    "from celery.utils.threads import LocalStack\n",
    "\n",
    "__all__ = (\n",
    "    \"set_default_app\",\n",
    "    \"get_current_app\",\n",
    "    \"get_current_task\",\n",
    "    \"get_current_worker_task\",\n",
    "    \"current_app\",\n",
    "    \"current_task\",\n",
    "    \"connect_on_app_finalize\",\n",
    ")\n",
    "\n",
    "#: Global default app used when no current app.\n",
    "default_app = None\n",
    "\n",
    "#: Function returning the app provided or the default app if none.\n",
    "#:\n",
    "#: The environment variable :envvar:`CELERY_TRACE_APP` is used to\n",
    "#: trace app leaks.  When enabled an exception is raised if there\n",
    "#: is no active app.\n",
    "app_or_default = None\n",
    "\n",
    "#: List of all app instances (weakrefs), mustn't be used directly.\n",
    "_apps = weakref.WeakSet()\n",
    "\n",
    "#: Global set of functions to call whenever a new app is finalized.\n",
    "#: Shared tasks, and built-in tasks are created by adding callbacks here.\n",
    "_on_app_finalizers = set()\n",
    "\n",
    "_task_join_will_block = False"
   ]
  },
  {
   "cell_type": "markdown",
   "metadata": {},
   "source": []
  },
  {
   "cell_type": "code",
   "execution_count": null,
   "metadata": {},
   "outputs": [],
   "source": [
    "def connect_on_app_finalize(callback):\n",
    "    \"\"\"Connect callback to be called when any app is finalized.\"\"\"\n",
    "    _on_app_finalizers.add(callback)\n",
    "    return callback"
   ]
  },
  {
   "cell_type": "markdown",
   "metadata": {},
   "source": []
  },
  {
   "cell_type": "code",
   "execution_count": null,
   "metadata": {},
   "outputs": [],
   "source": [
    "def _announce_app_finalized(app):\n",
    "    callbacks = set(_on_app_finalizers)\n",
    "    for callback in callbacks:\n",
    "        callback(app)"
   ]
  },
  {
   "cell_type": "markdown",
   "metadata": {},
   "source": []
  },
  {
   "cell_type": "code",
   "execution_count": null,
   "metadata": {},
   "outputs": [],
   "source": [
    "def _set_task_join_will_block(blocks):\n",
    "    global _task_join_will_block\n",
    "    _task_join_will_block = blocks"
   ]
  },
  {
   "cell_type": "markdown",
   "metadata": {},
   "source": []
  },
  {
   "cell_type": "code",
   "execution_count": null,
   "metadata": {},
   "outputs": [],
   "source": [
    "def task_join_will_block():\n",
    "    return _task_join_will_block"
   ]
  },
  {
   "cell_type": "markdown",
   "metadata": {},
   "source": []
  },
  {
   "cell_type": "code",
   "execution_count": null,
   "metadata": {},
   "outputs": [],
   "source": [
    "class _TLS(threading.local):\n",
    "    #: Apps with the :attr:`~celery.app.base.BaseApp.set_as_current` attribute\n",
    "    #: sets this, so it will always contain the last instantiated app,\n",
    "    #: and is the default app returned by :func:`app_or_default`.\n",
    "    current_app = None"
   ]
  },
  {
   "cell_type": "markdown",
   "metadata": {},
   "source": []
  },
  {
   "cell_type": "code",
   "execution_count": null,
   "metadata": {},
   "outputs": [],
   "source": [
    "_tls = _TLS()\n",
    "\n",
    "_task_stack = LocalStack()"
   ]
  },
  {
   "cell_type": "markdown",
   "metadata": {},
   "source": []
  },
  {
   "cell_type": "code",
   "execution_count": null,
   "metadata": {},
   "outputs": [],
   "source": [
    "#: Function used to push a task to the thread local stack\n",
    "#: keeping track of the currently executing task.\n",
    "#: You must remember to pop the task after.\n",
    "push_current_task = _task_stack.push\n",
    "\n",
    "#: Function used to pop a task from the thread local stack\n",
    "#: keeping track of the currently executing task.\n",
    "pop_current_task = _task_stack.pop"
   ]
  },
  {
   "cell_type": "markdown",
   "metadata": {},
   "source": []
  },
  {
   "cell_type": "code",
   "execution_count": null,
   "metadata": {},
   "outputs": [],
   "source": [
    "def set_default_app(app):\n",
    "    \"\"\"Set default app.\"\"\"\n",
    "    global default_app\n",
    "    default_app = app"
   ]
  },
  {
   "cell_type": "markdown",
   "metadata": {},
   "source": []
  },
  {
   "cell_type": "code",
   "execution_count": null,
   "metadata": {},
   "outputs": [],
   "source": [
    "def _get_current_app():\n",
    "    if default_app is None:\n",
    "        #: creates the global fallback app instance.\n",
    "        from celery.app.base import Celery\n",
    "\n",
    "        set_default_app(\n",
    "            Celery(\n",
    "                \"default\",\n",
    "                fixups=[],\n",
    "                set_as_current=False,\n",
    "                loader=os.environ.get(\"CELERY_LOADER\") or \"default\",\n",
    "            )\n",
    "        )\n",
    "    return _tls.current_app or default_app"
   ]
  },
  {
   "cell_type": "markdown",
   "metadata": {},
   "source": []
  },
  {
   "cell_type": "code",
   "execution_count": null,
   "metadata": {},
   "outputs": [],
   "source": [
    "def _set_current_app(app):\n",
    "    _tls.current_app = app"
   ]
  },
  {
   "cell_type": "markdown",
   "metadata": {},
   "source": []
  },
  {
   "cell_type": "code",
   "execution_count": null,
   "metadata": {},
   "outputs": [],
   "source": [
    "if os.environ.get(\"C_STRICT_APP\"):  # pragma: no cover\n",
    "\n",
    "    def get_current_app():\n",
    "        \"\"\"Return the current app.\"\"\"\n",
    "        raise RuntimeError(\"USES CURRENT APP\")\n",
    "\n",
    "elif os.environ.get(\"C_WARN_APP\"):  # pragma: no cover\n",
    "\n",
    "    def get_current_app():\n",
    "        import traceback\n",
    "\n",
    "        print(\"-- USES CURRENT_APP\", file=sys.stderr)  # +\n",
    "        traceback.print_stack(file=sys.stderr)\n",
    "        return _get_current_app()\n",
    "\n",
    "else:\n",
    "    get_current_app = _get_current_app"
   ]
  },
  {
   "cell_type": "markdown",
   "metadata": {},
   "source": []
  },
  {
   "cell_type": "code",
   "execution_count": null,
   "metadata": {},
   "outputs": [],
   "source": [
    "def get_current_task():\n",
    "    \"\"\"Currently executing task.\"\"\"\n",
    "    return _task_stack.top"
   ]
  },
  {
   "cell_type": "markdown",
   "metadata": {},
   "source": []
  },
  {
   "cell_type": "code",
   "execution_count": null,
   "metadata": {},
   "outputs": [],
   "source": [
    "def get_current_worker_task():\n",
    "    \"\"\"Currently executing task, that was applied by the worker.\n",
    "\n",
    "    This is used to differentiate between the actual task\n",
    "    executed by the worker and any task that was called within\n",
    "    a task (using ``task.__call__`` or ``task.apply``)\n",
    "    \"\"\"\n",
    "    for task in reversed(_task_stack.stack):\n",
    "        if not task.request.called_directly:\n",
    "            return task"
   ]
  },
  {
   "cell_type": "markdown",
   "metadata": {},
   "source": []
  },
  {
   "cell_type": "code",
   "execution_count": null,
   "metadata": {},
   "outputs": [],
   "source": [
    "#: Proxy to current app.\n",
    "current_app = Proxy(get_current_app)\n",
    "\n",
    "#: Proxy to current task.\n",
    "current_task = Proxy(get_current_task)"
   ]
  },
  {
   "cell_type": "markdown",
   "metadata": {},
   "source": []
  },
  {
   "cell_type": "code",
   "execution_count": null,
   "metadata": {},
   "outputs": [],
   "source": [
    "def _register_app(app):\n",
    "    _apps.add(app)"
   ]
  },
  {
   "cell_type": "markdown",
   "metadata": {},
   "source": []
  },
  {
   "cell_type": "code",
   "execution_count": null,
   "metadata": {},
   "outputs": [],
   "source": [
    "def _deregister_app(app):\n",
    "    _apps.discard(app)"
   ]
  },
  {
   "cell_type": "markdown",
   "metadata": {},
   "source": []
  },
  {
   "cell_type": "code",
   "execution_count": null,
   "metadata": {},
   "outputs": [],
   "source": [
    "def _get_active_apps():\n",
    "    return _apps"
   ]
  },
  {
   "cell_type": "markdown",
   "metadata": {},
   "source": []
  },
  {
   "cell_type": "code",
   "execution_count": null,
   "metadata": {},
   "outputs": [],
   "source": [
    "def _app_or_default(app=None):\n",
    "    if app is None:\n",
    "        return get_current_app()\n",
    "    return app"
   ]
  },
  {
   "cell_type": "markdown",
   "metadata": {},
   "source": []
  },
  {
   "cell_type": "code",
   "execution_count": null,
   "metadata": {},
   "outputs": [],
   "source": [
    "def _app_or_default_trace(app=None):  # pragma: no cover\n",
    "    from traceback import print_stack\n",
    "\n",
    "    try:\n",
    "        from billiard.process import current_process\n",
    "    except ImportError:\n",
    "        current_process = None\n",
    "    if app is None:\n",
    "        if getattr(_tls, \"current_app\", None):\n",
    "            print(\"-- RETURNING TO CURRENT APP --\")  # +\n",
    "            print_stack()\n",
    "            return _tls.current_app\n",
    "        if not current_process or current_process()._name == \"MainProcess\":\n",
    "            raise Exception(\"DEFAULT APP\")\n",
    "        print(\"-- RETURNING TO DEFAULT APP --\")  # +\n",
    "        print_stack()\n",
    "        return default_app\n",
    "    return app"
   ]
  },
  {
   "cell_type": "markdown",
   "metadata": {},
   "source": []
  },
  {
   "cell_type": "code",
   "execution_count": null,
   "metadata": {},
   "outputs": [],
   "source": [
    "def enable_trace():\n",
    "    \"\"\"Enable tracing of app instances.\"\"\"\n",
    "    global app_or_default\n",
    "    app_or_default = _app_or_default_trace"
   ]
  },
  {
   "cell_type": "markdown",
   "metadata": {},
   "source": []
  },
  {
   "cell_type": "code",
   "execution_count": null,
   "metadata": {},
   "outputs": [],
   "source": [
    "def disable_trace():\n",
    "    \"\"\"Disable tracing of app instances.\"\"\"\n",
    "    global app_or_default\n",
    "    app_or_default = _app_or_default"
   ]
  },
  {
   "cell_type": "markdown",
   "metadata": {},
   "source": []
  },
  {
   "cell_type": "code",
   "execution_count": null,
   "metadata": {},
   "outputs": [],
   "source": [
    "if os.environ.get(\"CELERY_TRACE_APP\"):  # pragma: no cover\n",
    "    enable_trace()\n",
    "else:\n",
    "    disable_trace()"
   ]
  },
  {
   "cell_type": "markdown",
   "metadata": {},
   "source": []
  }
 ],
 "metadata": {
  "language_info": {
   "name": "python"
  }
 },
 "nbformat": 4,
 "nbformat_minor": 2
}