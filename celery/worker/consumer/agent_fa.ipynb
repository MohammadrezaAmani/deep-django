{
 "cells": [
  {
   "cell_type": "code",
   "execution_count": null,
   "metadata": {},
   "outputs": [],
   "source": [
    "\"\"\"Celery + :pypi:`cell` integration.\"\"\"\n",
    "from celery import bootsteps\n",
    "\n",
    "from .connection import Connection\n",
    "\n",
    "__all__ = (\"Agent\",)"
   ]
  },
  {
   "cell_type": "markdown",
   "metadata": {},
   "source": []
  },
  {
   "cell_type": "code",
   "execution_count": null,
   "metadata": {},
   "outputs": [],
   "source": [
    "class Agent(bootsteps.StartStopStep):\n",
    "    \"\"\"Agent starts :pypi:`cell` actors.\"\"\"\n",
    "\n",
    "    conditional = True\n",
    "    requires = (Connection,)\n",
    "\n",
    "    def __init__(self, c, **kwargs):\n",
    "        self.agent_cls = self.enabled = c.app.conf.worker_agent\n",
    "        super().__init__(c, **kwargs)\n",
    "\n",
    "    def create(self, c):\n",
    "        agent = c.agent = self.instantiate(self.agent_cls, c.connection)\n",
    "        return agent"
   ]
  },
  {
   "cell_type": "markdown",
   "metadata": {},
   "source": []
  }
 ],
 "metadata": {
  "language_info": {
   "name": "python"
  }
 },
 "nbformat": 4,
 "nbformat_minor": 2
}