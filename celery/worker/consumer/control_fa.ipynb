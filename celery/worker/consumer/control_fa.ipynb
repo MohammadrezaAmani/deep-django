{
 "cells": [
  {
   "cell_type": "code",
   "execution_count": null,
   "metadata": {},
   "outputs": [],
   "source": [
    "\"\"\"Worker Remote Control Bootstep.\n",
    "\n",
    "``Control`` -> :mod:`celery.worker.pidbox` -> :mod:`kombu.pidbox`.\n",
    "\n",
    "The actual commands are implemented in :mod:`celery.worker.control`.\n",
    "\"\"\"\n",
    "from celery import bootsteps\n",
    "from celery.utils.log import get_logger\n",
    "from celery.worker import pidbox\n",
    "\n",
    "from .tasks import Tasks\n",
    "\n",
    "__all__ = (\"Control\",)\n",
    "\n",
    "logger = get_logger(__name__)"
   ]
  },
  {
   "cell_type": "markdown",
   "metadata": {},
   "source": []
  },
  {
   "cell_type": "code",
   "execution_count": null,
   "metadata": {},
   "outputs": [],
   "source": [
    "class Control(bootsteps.StartStopStep):\n",
    "    \"\"\"Remote control command service.\"\"\"\n",
    "\n",
    "    requires = (Tasks,)\n",
    "\n",
    "    def __init__(self, c, **kwargs):\n",
    "        self.is_green = c.pool is not None and c.pool.is_green\n",
    "        self.box = (pidbox.gPidbox if self.is_green else pidbox.Pidbox)(c)\n",
    "        self.start = self.box.start\n",
    "        self.stop = self.box.stop\n",
    "        self.shutdown = self.box.shutdown\n",
    "        super().__init__(c, **kwargs)\n",
    "\n",
    "    def include_if(self, c):\n",
    "        return (\n",
    "            c.app.conf.worker_enable_remote_control\n",
    "            and c.conninfo.supports_exchange_type(\"fanout\")\n",
    "        )"
   ]
  },
  {
   "cell_type": "markdown",
   "metadata": {},
   "source": []
  }
 ],
 "metadata": {
  "language_info": {
   "name": "python"
  }
 },
 "nbformat": 4,
 "nbformat_minor": 2
}