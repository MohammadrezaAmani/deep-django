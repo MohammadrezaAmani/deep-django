{
 "cells": [
  {
   "cell_type": "code",
   "execution_count": null,
   "metadata": {},
   "outputs": [],
   "source": [
    "\"\"\"Worker Task Consumer Bootstep.\"\"\"\n",
    "from kombu.common import QoS, ignore_errors\n",
    "\n",
    "from celery import bootsteps\n",
    "from celery.utils.log import get_logger\n",
    "\n",
    "from .mingle import Mingle\n",
    "\n",
    "__all__ = (\"Tasks\",)\n",
    "\n",
    "logger = get_logger(__name__)\n",
    "debug = logger.debug"
   ]
  },
  {
   "cell_type": "markdown",
   "metadata": {},
   "source": []
  },
  {
   "cell_type": "code",
   "execution_count": null,
   "metadata": {},
   "outputs": [],
   "source": [
    "class Tasks(bootsteps.StartStopStep):\n",
    "    \"\"\"Bootstep starting the task message consumer.\"\"\"\n",
    "\n",
    "    requires = (Mingle,)\n",
    "\n",
    "    def __init__(self, c, **kwargs):\n",
    "        c.task_consumer = c.qos = None\n",
    "        super().__init__(c, **kwargs)\n",
    "\n",
    "    def start(self, c):\n",
    "        \"\"\"Start task consumer.\"\"\"\n",
    "        c.update_strategies()\n",
    "\n",
    "        # - RabbitMQ 3.3 completely redefines how basic_qos works...\n",
    "        # This will detect if the new qos semantics is in effect,\n",
    "        # and if so make sure the 'apply_global' flag is set on qos updates.\n",
    "        qos_global = not c.connection.qos_semantics_matches_spec\n",
    "\n",
    "        # set initial prefetch count\n",
    "        c.connection.default_channel.basic_qos(\n",
    "            0,\n",
    "            c.initial_prefetch_count,\n",
    "            qos_global,\n",
    "        )\n",
    "\n",
    "        c.task_consumer = c.app.amqp.TaskConsumer(\n",
    "            c.connection,\n",
    "            on_decode_error=c.on_decode_error,\n",
    "        )\n",
    "\n",
    "        def set_prefetch_count(prefetch_count):\n",
    "            return c.task_consumer.qos(\n",
    "                prefetch_count=prefetch_count,\n",
    "                apply_global=qos_global,\n",
    "            )\n",
    "\n",
    "        c.qos = QoS(set_prefetch_count, c.initial_prefetch_count)\n",
    "\n",
    "    def stop(self, c):\n",
    "        \"\"\"Stop task consumer.\"\"\"\n",
    "        if c.task_consumer:\n",
    "            debug(\"Canceling task consumer...\")\n",
    "            ignore_errors(c, c.task_consumer.cancel)\n",
    "\n",
    "    def shutdown(self, c):\n",
    "        \"\"\"Shutdown task consumer.\"\"\"\n",
    "        if c.task_consumer:\n",
    "            self.stop(c)\n",
    "            debug(\"Closing consumer channel...\")\n",
    "            ignore_errors(c, c.task_consumer.close)\n",
    "            c.task_consumer = None\n",
    "\n",
    "    def info(self, c):\n",
    "        \"\"\"Return task consumer info.\"\"\"\n",
    "        return {\"prefetch_count\": c.qos.value if c.qos else \"N/A\"}"
   ]
  },
  {
   "cell_type": "markdown",
   "metadata": {},
   "source": []
  }
 ],
 "metadata": {
  "language_info": {
   "name": "python"
  }
 },
 "nbformat": 4,
 "nbformat_minor": 2
}