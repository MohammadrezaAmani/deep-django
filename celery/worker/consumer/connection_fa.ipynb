{
 "cells": [
  {
   "cell_type": "code",
   "execution_count": null,
   "metadata": {},
   "outputs": [],
   "source": [
    "\"\"\"Consumer Broker Connection Bootstep.\"\"\"\n",
    "from kombu.common import ignore_errors\n",
    "\n",
    "from celery import bootsteps\n",
    "from celery.utils.log import get_logger\n",
    "\n",
    "__all__ = (\"Connection\",)\n",
    "\n",
    "logger = get_logger(__name__)\n",
    "info = logger.info"
   ]
  },
  {
   "cell_type": "markdown",
   "metadata": {},
   "source": []
  },
  {
   "cell_type": "code",
   "execution_count": null,
   "metadata": {},
   "outputs": [],
   "source": [
    "class Connection(bootsteps.StartStopStep):\n",
    "    \"\"\"Service managing the consumer broker connection.\"\"\"\n",
    "\n",
    "    def __init__(self, c, **kwargs):\n",
    "        c.connection = None\n",
    "        super().__init__(c, **kwargs)\n",
    "\n",
    "    def start(self, c):\n",
    "        c.connection = c.connect()\n",
    "        info(\"Connected to %s\", c.connection.as_uri())\n",
    "\n",
    "    def shutdown(self, c):\n",
    "        # We must set self.connection to None here, so\n",
    "        # that the green pidbox thread exits.\n",
    "        connection, c.connection = c.connection, None\n",
    "        if connection:\n",
    "            ignore_errors(connection, connection.close)\n",
    "\n",
    "    def info(self, c):\n",
    "        params = \"N/A\"\n",
    "        if c.connection:\n",
    "            params = c.connection.info()\n",
    "            params.pop(\"password\", None)  # don't send password.\n",
    "        return {\"broker\": params}"
   ]
  },
  {
   "cell_type": "markdown",
   "metadata": {},
   "source": []
  }
 ],
 "metadata": {
  "language_info": {
   "name": "python"
  }
 },
 "nbformat": 4,
 "nbformat_minor": 2
}