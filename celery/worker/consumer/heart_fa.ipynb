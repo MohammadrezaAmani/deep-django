{
 "cells": [
  {
   "cell_type": "code",
   "execution_count": null,
   "metadata": {},
   "outputs": [],
   "source": [
    "\"\"\"Worker Event Heartbeat Bootstep.\"\"\"\n",
    "from celery import bootsteps\n",
    "from celery.worker import heartbeat\n",
    "\n",
    "from .events import Events\n",
    "\n",
    "__all__ = (\"Heart\",)"
   ]
  },
  {
   "cell_type": "markdown",
   "metadata": {},
   "source": []
  },
  {
   "cell_type": "code",
   "execution_count": null,
   "metadata": {},
   "outputs": [],
   "source": [
    "class Heart(bootsteps.StartStopStep):\n",
    "    \"\"\"Bootstep sending event heartbeats.\n",
    "\n",
    "    This service sends a ``worker-heartbeat`` message every n seconds.\n",
    "\n",
    "    Note:\n",
    "        Not to be confused with AMQP protocol level heartbeats.\n",
    "    \"\"\"\n",
    "\n",
    "    requires = (Events,)\n",
    "\n",
    "    def __init__(self, c, without_heartbeat=False, heartbeat_interval=None, **kwargs):\n",
    "        self.enabled = not without_heartbeat\n",
    "        self.heartbeat_interval = heartbeat_interval\n",
    "        c.heart = None\n",
    "        super().__init__(c, **kwargs)\n",
    "\n",
    "    def start(self, c):\n",
    "        c.heart = heartbeat.Heart(\n",
    "            c.timer,\n",
    "            c.event_dispatcher,\n",
    "            self.heartbeat_interval,\n",
    "        )\n",
    "        c.heart.start()\n",
    "\n",
    "    def stop(self, c):\n",
    "        c.heart = c.heart and c.heart.stop()\n",
    "\n",
    "    shutdown = stop"
   ]
  },
  {
   "cell_type": "markdown",
   "metadata": {},
   "source": []
  }
 ],
 "metadata": {
  "language_info": {
   "name": "python"
  }
 },
 "nbformat": 4,
 "nbformat_minor": 2
}