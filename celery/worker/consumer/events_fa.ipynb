{
 "cells": [
  {
   "cell_type": "code",
   "execution_count": null,
   "metadata": {},
   "outputs": [],
   "source": [
    "\"\"\"Worker Event Dispatcher Bootstep.\n",
    "\n",
    "``Events`` -> :class:`celery.events.EventDispatcher`.\n",
    "\"\"\"\n",
    "from kombu.common import ignore_errors\n",
    "\n",
    "from celery import bootsteps\n",
    "\n",
    "from .connection import Connection\n",
    "\n",
    "__all__ = (\"Events\",)"
   ]
  },
  {
   "cell_type": "markdown",
   "metadata": {},
   "source": []
  },
  {
   "cell_type": "code",
   "execution_count": null,
   "metadata": {},
   "outputs": [],
   "source": [
    "class Events(bootsteps.StartStopStep):\n",
    "    \"\"\"Service used for sending monitoring events.\"\"\"\n",
    "\n",
    "    requires = (Connection,)\n",
    "\n",
    "    def __init__(\n",
    "        self,\n",
    "        c,\n",
    "        task_events=True,\n",
    "        without_heartbeat=False,\n",
    "        without_gossip=False,\n",
    "        **kwargs\n",
    "    ):\n",
    "        self.groups = None if task_events else [\"worker\"]\n",
    "        self.send_events = task_events or not without_gossip or not without_heartbeat\n",
    "        self.enabled = self.send_events\n",
    "        c.event_dispatcher = None\n",
    "        super().__init__(c, **kwargs)\n",
    "\n",
    "    def start(self, c):\n",
    "        # flush events sent while connection was down.\n",
    "        prev = self._close(c)\n",
    "        dis = c.event_dispatcher = c.app.events.Dispatcher(\n",
    "            c.connection_for_write(),\n",
    "            hostname=c.hostname,\n",
    "            enabled=self.send_events,\n",
    "            groups=self.groups,\n",
    "            # we currently only buffer events when the event loop is enabled\n",
    "            # XXX This excludes eventlet/gevent, which should actually buffer.\n",
    "            buffer_group=[\"task\"] if c.hub else None,\n",
    "            on_send_buffered=c.on_send_event_buffered if c.hub else None,\n",
    "        )\n",
    "        if prev:\n",
    "            dis.extend_buffer(prev)\n",
    "            dis.flush()\n",
    "\n",
    "    def stop(self, c):\n",
    "        pass\n",
    "\n",
    "    def _close(self, c):\n",
    "        if c.event_dispatcher:\n",
    "            dispatcher = c.event_dispatcher\n",
    "            # remember changes from remote control commands:\n",
    "            self.groups = dispatcher.groups\n",
    "\n",
    "            # close custom connection\n",
    "            if dispatcher.connection:\n",
    "                ignore_errors(c, dispatcher.connection.close)\n",
    "            ignore_errors(c, dispatcher.close)\n",
    "            c.event_dispatcher = None\n",
    "            return dispatcher\n",
    "\n",
    "    def shutdown(self, c):\n",
    "        self._close(c)"
   ]
  },
  {
   "cell_type": "markdown",
   "metadata": {},
   "source": []
  }
 ],
 "metadata": {
  "language_info": {
   "name": "python"
  }
 },
 "nbformat": 4,
 "nbformat_minor": 2
}