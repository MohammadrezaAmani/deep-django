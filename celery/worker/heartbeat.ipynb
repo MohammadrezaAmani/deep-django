{
 "cells": [
  {
   "cell_type": "code",
   "execution_count": null,
   "metadata": {},
   "outputs": [],
   "source": [
    "\"\"\"Heartbeat service.\n",
    "\n",
    "This is the internal thread responsible for sending heartbeat events\n",
    "at regular intervals (may not be an actual thread).\n",
    "\"\"\"\n",
    "from celery.signals import heartbeat_sent\n",
    "from celery.utils.sysinfo import load_average\n",
    "\n",
    "from .state import SOFTWARE_INFO, active_requests, all_total_count\n",
    "\n",
    "__all__ = (\"Heart\",)"
   ]
  },
  {
   "cell_type": "markdown",
   "metadata": {},
   "source": []
  },
  {
   "cell_type": "code",
   "execution_count": null,
   "metadata": {},
   "outputs": [],
   "source": [
    "class Heart:\n",
    "    \"\"\"Timer sending heartbeats at regular intervals.\n",
    "\n",
    "    Arguments:\n",
    "        timer (kombu.asynchronous.timer.Timer): Timer to use.\n",
    "        eventer (celery.events.EventDispatcher): Event dispatcher\n",
    "            to use.\n",
    "        interval (float): Time in seconds between sending\n",
    "            heartbeats.  Default is 2 seconds.\n",
    "    \"\"\"\n",
    "\n",
    "    def __init__(self, timer, eventer, interval=None):\n",
    "        self.timer = timer\n",
    "        self.eventer = eventer\n",
    "        self.interval = float(interval or 2.0)\n",
    "        self.tref = None\n",
    "\n",
    "        # Make event dispatcher start/stop us when enabled/disabled.\n",
    "        self.eventer.on_enabled.add(self.start)\n",
    "        self.eventer.on_disabled.add(self.stop)\n",
    "\n",
    "        # Only send heartbeat_sent signal if it has receivers.\n",
    "        self._send_sent_signal = (\n",
    "            heartbeat_sent.send if heartbeat_sent.receivers else None\n",
    "        )\n",
    "\n",
    "    def _send(self, event, retry=True):\n",
    "        if self._send_sent_signal is not None:\n",
    "            self._send_sent_signal(sender=self)\n",
    "        return self.eventer.send(\n",
    "            event,\n",
    "            freq=self.interval,\n",
    "            active=len(active_requests),\n",
    "            processed=all_total_count[0],\n",
    "            loadavg=load_average(),\n",
    "            retry=retry,\n",
    "            **SOFTWARE_INFO\n",
    "        )\n",
    "\n",
    "    def start(self):\n",
    "        if self.eventer.enabled:\n",
    "            self._send(\"worker-online\")\n",
    "            self.tref = self.timer.call_repeatedly(\n",
    "                self.interval,\n",
    "                self._send,\n",
    "                (\"worker-heartbeat\",),\n",
    "            )\n",
    "\n",
    "    def stop(self):\n",
    "        if self.tref is not None:\n",
    "            self.timer.cancel(self.tref)\n",
    "            self.tref = None\n",
    "        if self.eventer.enabled:\n",
    "            self._send(\"worker-offline\", retry=False)"
   ]
  },
  {
   "cell_type": "markdown",
   "metadata": {},
   "source": []
  }
 ],
 "metadata": {
  "language_info": {
   "name": "python"
  }
 },
 "nbformat": 4,
 "nbformat_minor": 2
}