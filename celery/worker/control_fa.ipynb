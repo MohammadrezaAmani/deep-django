{
 "cells": [
  {
   "cell_type": "code",
   "execution_count": null,
   "metadata": {},
   "outputs": [],
   "source": [
    "\"\"\"Worker remote control command implementations.\"\"\"\n",
    "import io\n",
    "import tempfile\n",
    "from collections import UserDict, defaultdict, namedtuple\n",
    "\n",
    "from billiard.common import TERM_SIGNAME\n",
    "from kombu.utils.encoding import safe_repr\n",
    "\n",
    "from celery.exceptions import WorkerShutdown\n",
    "from celery.platforms import signals as _signals\n",
    "from celery.utils.functional import maybe_list\n",
    "from celery.utils.log import get_logger\n",
    "from celery.utils.serialization import jsonify, strtobool\n",
    "from celery.utils.time import rate\n",
    "\n",
    "from . import state as worker_state\n",
    "from .request import Request\n",
    "\n",
    "__all__ = (\"Panel\",)\n",
    "\n",
    "DEFAULT_TASK_INFO_ITEMS = (\"exchange\", \"routing_key\", \"rate_limit\")\n",
    "logger = get_logger(__name__)\n",
    "\n",
    "controller_info_t = namedtuple(\n",
    "    \"controller_info_t\",\n",
    "    [\n",
    "        \"alias\",\n",
    "        \"type\",\n",
    "        \"visible\",\n",
    "        \"default_timeout\",\n",
    "        \"help\",\n",
    "        \"signature\",\n",
    "        \"args\",\n",
    "        \"variadic\",\n",
    "    ],\n",
    ")"
   ]
  },
  {
   "cell_type": "markdown",
   "metadata": {},
   "source": []
  },
  {
   "cell_type": "code",
   "execution_count": null,
   "metadata": {},
   "outputs": [],
   "source": [
    "def ok(value):\n",
    "    return {\"ok\": value}"
   ]
  },
  {
   "cell_type": "markdown",
   "metadata": {},
   "source": []
  },
  {
   "cell_type": "code",
   "execution_count": null,
   "metadata": {},
   "outputs": [],
   "source": [
    "def nok(value):\n",
    "    return {\"error\": value}"
   ]
  },
  {
   "cell_type": "markdown",
   "metadata": {},
   "source": []
  },
  {
   "cell_type": "code",
   "execution_count": null,
   "metadata": {},
   "outputs": [],
   "source": [
    "class Panel(UserDict):\n",
    "    \"\"\"Global registry of remote control commands.\"\"\"\n",
    "\n",
    "    data = {}  # global dict.\n",
    "    meta = {}  # -\"-\n",
    "\n",
    "    @classmethod\n",
    "    def register(cls, *args, **kwargs):\n",
    "        if args:\n",
    "            return cls._register(**kwargs)(*args)\n",
    "        return cls._register(**kwargs)\n",
    "\n",
    "    @classmethod\n",
    "    def _register(\n",
    "        cls,\n",
    "        name=None,\n",
    "        alias=None,\n",
    "        type=\"control\",\n",
    "        visible=True,\n",
    "        default_timeout=1.0,\n",
    "        help=None,\n",
    "        signature=None,\n",
    "        args=None,\n",
    "        variadic=None,\n",
    "    ):\n",
    "        def _inner(fun):\n",
    "            control_name = name or fun.__name__\n",
    "            _help = help or (fun.__doc__ or \"\").strip().split(\"\\n\")[0]\n",
    "            cls.data[control_name] = fun\n",
    "            cls.meta[control_name] = controller_info_t(\n",
    "                alias, type, visible, default_timeout, _help, signature, args, variadic\n",
    "            )\n",
    "            if alias:\n",
    "                cls.data[alias] = fun\n",
    "            return fun\n",
    "\n",
    "        return _inner"
   ]
  },
  {
   "cell_type": "markdown",
   "metadata": {},
   "source": []
  },
  {
   "cell_type": "code",
   "execution_count": null,
   "metadata": {},
   "outputs": [],
   "source": [
    "def control_command(**kwargs):\n",
    "    return Panel.register(type=\"control\", **kwargs)"
   ]
  },
  {
   "cell_type": "markdown",
   "metadata": {},
   "source": []
  },
  {
   "cell_type": "code",
   "execution_count": null,
   "metadata": {},
   "outputs": [],
   "source": [
    "def inspect_command(**kwargs):\n",
    "    return Panel.register(type=\"inspect\", **kwargs)"
   ]
  },
  {
   "cell_type": "markdown",
   "metadata": {},
   "source": []
  },
  {
   "cell_type": "code",
   "execution_count": null,
   "metadata": {},
   "outputs": [],
   "source": [
    "# -- App"
   ]
  },
  {
   "cell_type": "markdown",
   "metadata": {},
   "source": []
  },
  {
   "cell_type": "code",
   "execution_count": null,
   "metadata": {},
   "outputs": [],
   "source": [
    "@inspect_command()\n",
    "def report(state):\n",
    "    \"\"\"Information about Celery installation for bug reports.\"\"\"\n",
    "    return ok(state.app.bugreport())"
   ]
  },
  {
   "cell_type": "markdown",
   "metadata": {},
   "source": []
  },
  {
   "cell_type": "code",
   "execution_count": null,
   "metadata": {},
   "outputs": [],
   "source": [
    "@inspect_command(\n",
    "    alias=\"dump_conf\",  # XXX < backwards compatible\n",
    "    signature=\"[include_defaults=False]\",\n",
    "    args=[(\"with_defaults\", strtobool)],\n",
    ")\n",
    "def conf(state, with_defaults=False, **kwargs):\n",
    "    \"\"\"List configuration.\"\"\"\n",
    "    return jsonify(\n",
    "        state.app.conf.table(with_defaults=with_defaults),\n",
    "        keyfilter=_wanted_config_key,\n",
    "        unknown_type_filter=safe_repr,\n",
    "    )"
   ]
  },
  {
   "cell_type": "markdown",
   "metadata": {},
   "source": []
  },
  {
   "cell_type": "code",
   "execution_count": null,
   "metadata": {},
   "outputs": [],
   "source": [
    "def _wanted_config_key(key):\n",
    "    return isinstance(key, str) and not key.startswith(\"__\")"
   ]
  },
  {
   "cell_type": "markdown",
   "metadata": {},
   "source": []
  },
  {
   "cell_type": "code",
   "execution_count": null,
   "metadata": {},
   "outputs": [],
   "source": [
    "# -- Task"
   ]
  },
  {
   "cell_type": "markdown",
   "metadata": {},
   "source": []
  },
  {
   "cell_type": "code",
   "execution_count": null,
   "metadata": {},
   "outputs": [],
   "source": [
    "@inspect_command(\n",
    "    variadic=\"ids\",\n",
    "    signature=\"[id1 [id2 [... [idN]]]]\",\n",
    ")\n",
    "def query_task(state, ids, **kwargs):\n",
    "    \"\"\"Query for task information by id.\"\"\"\n",
    "    return {\n",
    "        req.id: (_state_of_task(req), req.info())\n",
    "        for req in _find_requests_by_id(maybe_list(ids))\n",
    "    }"
   ]
  },
  {
   "cell_type": "markdown",
   "metadata": {},
   "source": []
  },
  {
   "cell_type": "code",
   "execution_count": null,
   "metadata": {},
   "outputs": [],
   "source": [
    "def _find_requests_by_id(ids, get_request=worker_state.requests.__getitem__):\n",
    "    for task_id in ids:\n",
    "        try:\n",
    "            yield get_request(task_id)\n",
    "        except KeyError:\n",
    "            pass"
   ]
  },
  {
   "cell_type": "markdown",
   "metadata": {},
   "source": []
  },
  {
   "cell_type": "code",
   "execution_count": null,
   "metadata": {},
   "outputs": [],
   "source": [
    "def _state_of_task(\n",
    "    request,\n",
    "    is_active=worker_state.active_requests.__contains__,\n",
    "    is_reserved=worker_state.reserved_requests.__contains__,\n",
    "):\n",
    "    if is_active(request):\n",
    "        return \"active\"\n",
    "    elif is_reserved(request):\n",
    "        return \"reserved\"\n",
    "    return \"ready\""
   ]
  },
  {
   "cell_type": "markdown",
   "metadata": {},
   "source": []
  },
  {
   "cell_type": "code",
   "execution_count": null,
   "metadata": {},
   "outputs": [],
   "source": [
    "@control_command(\n",
    "    variadic=\"task_id\",\n",
    "    signature=\"[id1 [id2 [... [idN]]]]\",\n",
    ")\n",
    "def revoke(state, task_id, terminate=False, signal=None, **kwargs):\n",
    "    \"\"\"Revoke task by task id (or list of ids).\n",
    "\n",
    "    Keyword Arguments:\n",
    "        terminate (bool): Also terminate the process if the task is active.\n",
    "        signal (str): Name of signal to use for terminate (e.g., ``KILL``).\n",
    "    \"\"\"\n",
    "    # pylint: disable=redefined-outer-name\n",
    "    # XXX Note that this redefines `terminate`:\n",
    "    #     Outside of this scope that is a function.\n",
    "    # supports list argument since 3.1\n",
    "    task_ids, task_id = set(maybe_list(task_id) or []), None\n",
    "    task_ids = _revoke(state, task_ids, terminate, signal, **kwargs)\n",
    "    if isinstance(task_ids, dict) and \"ok\" in task_ids:\n",
    "        return task_ids\n",
    "    return ok(f\"tasks {task_ids} flagged as revoked\")"
   ]
  },
  {
   "cell_type": "markdown",
   "metadata": {},
   "source": []
  },
  {
   "cell_type": "code",
   "execution_count": null,
   "metadata": {},
   "outputs": [],
   "source": [
    "@control_command(\n",
    "    variadic=\"headers\",\n",
    "    signature=\"[key1=value1 [key2=value2 [... [keyN=valueN]]]]\",\n",
    ")\n",
    "def revoke_by_stamped_headers(state, headers, terminate=False, signal=None, **kwargs):\n",
    "    \"\"\"Revoke task by header (or list of headers).\n",
    "\n",
    "    Keyword Arguments:\n",
    "        headers(dictionary): Dictionary that contains stamping scheme name as keys and stamps as values.\n",
    "                             If headers is a list, it will be converted to a dictionary.\n",
    "        terminate (bool): Also terminate the process if the task is active.\n",
    "        signal (str): Name of signal to use for terminate (e.g., ``KILL``).\n",
    "    Sample headers input:\n",
    "        {'mtask_id': [id1, id2, id3]}\n",
    "    \"\"\"\n",
    "    # pylint: disable=redefined-outer-name\n",
    "    # XXX Note that this redefines `terminate`:\n",
    "    #     Outside of this scope that is a function.\n",
    "    # supports list argument since 3.1\n",
    "    signum = _signals.signum(signal or TERM_SIGNAME)\n",
    "\n",
    "    if isinstance(headers, list):\n",
    "        headers = {h.split(\"=\")[0]: h.split(\"=\")[1] for h in headers}\n",
    "\n",
    "    for header, stamps in headers.items():\n",
    "        updated_stamps = maybe_list(\n",
    "            worker_state.revoked_stamps.get(header) or []\n",
    "        ) + list(maybe_list(stamps))\n",
    "        worker_state.revoked_stamps[header] = updated_stamps\n",
    "\n",
    "    if not terminate:\n",
    "        return ok(f\"headers {headers} flagged as revoked, but not terminated\")\n",
    "\n",
    "    active_requests = list(worker_state.active_requests)\n",
    "\n",
    "    terminated_scheme_to_stamps_mapping = defaultdict(set)\n",
    "\n",
    "    # Terminate all running tasks of matching headers\n",
    "    # Go through all active requests, and check if one of the\n",
    "    # requests has a stamped header that matches the given headers to revoke\n",
    "\n",
    "    for req in active_requests:\n",
    "        # Check stamps exist\n",
    "        if hasattr(req, \"stamps\") and req.stamps:\n",
    "            # if so, check if any stamps match a revoked stamp\n",
    "            for expected_header_key, expected_header_value in headers.items():\n",
    "                if expected_header_key in req.stamps:\n",
    "                    expected_header_value = maybe_list(expected_header_value)\n",
    "                    actual_header = maybe_list(req.stamps[expected_header_key])\n",
    "                    matching_stamps_for_request = set(actual_header) & set(\n",
    "                        expected_header_value\n",
    "                    )\n",
    "                    # Check any possible match regardless if the stamps are a sequence or not\n",
    "                    if matching_stamps_for_request:\n",
    "                        terminated_scheme_to_stamps_mapping[expected_header_key].update(\n",
    "                            matching_stamps_for_request\n",
    "                        )\n",
    "                        req.terminate(state.consumer.pool, signal=signum)\n",
    "\n",
    "    if not terminated_scheme_to_stamps_mapping:\n",
    "        return ok(f\"headers {headers} were not terminated\")\n",
    "    return ok(f\"headers {terminated_scheme_to_stamps_mapping} revoked\")"
   ]
  },
  {
   "cell_type": "markdown",
   "metadata": {},
   "source": []
  },
  {
   "cell_type": "code",
   "execution_count": null,
   "metadata": {},
   "outputs": [],
   "source": [
    "def _revoke(state, task_ids, terminate=False, signal=None, **kwargs):\n",
    "    size = len(task_ids)\n",
    "    terminated = set()\n",
    "\n",
    "    worker_state.revoked.update(task_ids)\n",
    "    if terminate:\n",
    "        signum = _signals.signum(signal or TERM_SIGNAME)\n",
    "        for request in _find_requests_by_id(task_ids):\n",
    "            if request.id not in terminated:\n",
    "                terminated.add(request.id)\n",
    "                logger.info(\"Terminating %s (%s)\", request.id, signum)\n",
    "                request.terminate(state.consumer.pool, signal=signum)\n",
    "                if len(terminated) >= size:\n",
    "                    break\n",
    "\n",
    "        if not terminated:\n",
    "            return ok(\"terminate: tasks unknown\")\n",
    "        return ok(\"terminate: {}\".format(\", \".join(terminated)))\n",
    "\n",
    "    idstr = \", \".join(task_ids)\n",
    "    logger.info(\"Tasks flagged as revoked: %s\", idstr)\n",
    "    return task_ids"
   ]
  },
  {
   "cell_type": "markdown",
   "metadata": {},
   "source": []
  },
  {
   "cell_type": "code",
   "execution_count": null,
   "metadata": {},
   "outputs": [],
   "source": [
    "@control_command(\n",
    "    variadic=\"task_id\",\n",
    "    args=[(\"signal\", str)],\n",
    "    signature=\"<signal> [id1 [id2 [... [idN]]]]\",\n",
    ")\n",
    "def terminate(state, signal, task_id, **kwargs):\n",
    "    \"\"\"Terminate task by task id (or list of ids).\"\"\"\n",
    "    return revoke(state, task_id, terminate=True, signal=signal)"
   ]
  },
  {
   "cell_type": "markdown",
   "metadata": {},
   "source": []
  },
  {
   "cell_type": "code",
   "execution_count": null,
   "metadata": {},
   "outputs": [],
   "source": [
    "@control_command(\n",
    "    args=[(\"task_name\", str), (\"rate_limit\", str)],\n",
    "    signature=\"<task_name> <rate_limit (e.g., 5/s | 5/m | 5/h)>\",\n",
    ")\n",
    "def rate_limit(state, task_name, rate_limit, **kwargs):\n",
    "    \"\"\"Tell worker(s) to modify the rate limit for a task by type.\n",
    "\n",
    "    See Also:\n",
    "        :attr:`celery.app.task.Task.rate_limit`.\n",
    "\n",
    "    Arguments:\n",
    "        task_name (str): Type of task to set rate limit for.\n",
    "        rate_limit (int, str): New rate limit.\n",
    "    \"\"\"\n",
    "    # pylint: disable=redefined-outer-name\n",
    "    # XXX Note that this redefines `terminate`:\n",
    "    #     Outside of this scope that is a function.\n",
    "    try:\n",
    "        rate(rate_limit)\n",
    "    except ValueError as exc:\n",
    "        return nok(f\"Invalid rate limit string: {exc!r}\")\n",
    "\n",
    "    try:\n",
    "        state.app.tasks[task_name].rate_limit = rate_limit\n",
    "    except KeyError:\n",
    "        logger.error(\"Rate limit attempt for unknown task %s\", task_name, exc_info=True)\n",
    "        return nok(\"unknown task\")\n",
    "\n",
    "    state.consumer.reset_rate_limits()\n",
    "\n",
    "    if not rate_limit:\n",
    "        logger.info(\"Rate limits disabled for tasks of type %s\", task_name)\n",
    "        return ok(\"rate limit disabled successfully\")\n",
    "\n",
    "    logger.info(\"New rate limit for tasks of type %s: %s.\", task_name, rate_limit)\n",
    "    return ok(\"new rate limit set successfully\")"
   ]
  },
  {
   "cell_type": "markdown",
   "metadata": {},
   "source": []
  },
  {
   "cell_type": "code",
   "execution_count": null,
   "metadata": {},
   "outputs": [],
   "source": [
    "@control_command(\n",
    "    args=[(\"task_name\", str), (\"soft\", float), (\"hard\", float)],\n",
    "    signature=\"<task_name> <soft_secs> [hard_secs]\",\n",
    ")\n",
    "def time_limit(state, task_name=None, hard=None, soft=None, **kwargs):\n",
    "    \"\"\"Tell worker(s) to modify the time limit for task by type.\n",
    "\n",
    "    Arguments:\n",
    "        task_name (str): Name of task to change.\n",
    "        hard (float): Hard time limit.\n",
    "        soft (float): Soft time limit.\n",
    "    \"\"\"\n",
    "    try:\n",
    "        task = state.app.tasks[task_name]\n",
    "    except KeyError:\n",
    "        logger.error(\n",
    "            \"Change time limit attempt for unknown task %s\", task_name, exc_info=True\n",
    "        )\n",
    "        return nok(\"unknown task\")\n",
    "\n",
    "    task.soft_time_limit = soft\n",
    "    task.time_limit = hard\n",
    "\n",
    "    logger.info(\n",
    "        \"New time limits for tasks of type %s: soft=%s hard=%s\", task_name, soft, hard\n",
    "    )\n",
    "    return ok(\"time limits set successfully\")"
   ]
  },
  {
   "cell_type": "markdown",
   "metadata": {},
   "source": []
  },
  {
   "cell_type": "code",
   "execution_count": null,
   "metadata": {},
   "outputs": [],
   "source": [
    "# -- Events"
   ]
  },
  {
   "cell_type": "markdown",
   "metadata": {},
   "source": []
  },
  {
   "cell_type": "code",
   "execution_count": null,
   "metadata": {},
   "outputs": [],
   "source": [
    "@inspect_command()\n",
    "def clock(state, **kwargs):\n",
    "    \"\"\"Get current logical clock value.\"\"\"\n",
    "    return {\"clock\": state.app.clock.value}"
   ]
  },
  {
   "cell_type": "markdown",
   "metadata": {},
   "source": []
  },
  {
   "cell_type": "code",
   "execution_count": null,
   "metadata": {},
   "outputs": [],
   "source": [
    "@control_command()\n",
    "def election(state, id, topic, action=None, **kwargs):\n",
    "    \"\"\"Hold election.\n",
    "\n",
    "    Arguments:\n",
    "        id (str): Unique election id.\n",
    "        topic (str): Election topic.\n",
    "        action (str): Action to take for elected actor.\n",
    "    \"\"\"\n",
    "    if state.consumer.gossip:\n",
    "        state.consumer.gossip.election(id, topic, action)"
   ]
  },
  {
   "cell_type": "markdown",
   "metadata": {},
   "source": []
  },
  {
   "cell_type": "code",
   "execution_count": null,
   "metadata": {},
   "outputs": [],
   "source": [
    "@control_command()\n",
    "def enable_events(state):\n",
    "    \"\"\"Tell worker(s) to send task-related events.\"\"\"\n",
    "    dispatcher = state.consumer.event_dispatcher\n",
    "    if dispatcher.groups and \"task\" not in dispatcher.groups:\n",
    "        dispatcher.groups.add(\"task\")\n",
    "        logger.info(\"Events of group {task} enabled by remote.\")\n",
    "        return ok(\"task events enabled\")\n",
    "    return ok(\"task events already enabled\")"
   ]
  },
  {
   "cell_type": "markdown",
   "metadata": {},
   "source": []
  },
  {
   "cell_type": "code",
   "execution_count": null,
   "metadata": {},
   "outputs": [],
   "source": [
    "@control_command()\n",
    "def disable_events(state):\n",
    "    \"\"\"Tell worker(s) to stop sending task-related events.\"\"\"\n",
    "    dispatcher = state.consumer.event_dispatcher\n",
    "    if \"task\" in dispatcher.groups:\n",
    "        dispatcher.groups.discard(\"task\")\n",
    "        logger.info(\"Events of group {task} disabled by remote.\")\n",
    "        return ok(\"task events disabled\")\n",
    "    return ok(\"task events already disabled\")"
   ]
  },
  {
   "cell_type": "markdown",
   "metadata": {},
   "source": []
  },
  {
   "cell_type": "code",
   "execution_count": null,
   "metadata": {},
   "outputs": [],
   "source": [
    "@control_command()\n",
    "def heartbeat(state):\n",
    "    \"\"\"Tell worker(s) to send event heartbeat immediately.\"\"\"\n",
    "    logger.debug(\"Heartbeat requested by remote.\")\n",
    "    dispatcher = state.consumer.event_dispatcher\n",
    "    dispatcher.send(\"worker-heartbeat\", freq=5, **worker_state.SOFTWARE_INFO)"
   ]
  },
  {
   "cell_type": "markdown",
   "metadata": {},
   "source": []
  },
  {
   "cell_type": "code",
   "execution_count": null,
   "metadata": {},
   "outputs": [],
   "source": [
    "# -- Worker"
   ]
  },
  {
   "cell_type": "markdown",
   "metadata": {},
   "source": []
  },
  {
   "cell_type": "code",
   "execution_count": null,
   "metadata": {},
   "outputs": [],
   "source": [
    "@inspect_command(visible=False)\n",
    "def hello(state, from_node, revoked=None, **kwargs):\n",
    "    \"\"\"Request mingle sync-data.\"\"\"\n",
    "    # pylint: disable=redefined-outer-name\n",
    "    # XXX Note that this redefines `revoked`:\n",
    "    #     Outside of this scope that is a function.\n",
    "    if from_node != state.hostname:\n",
    "        logger.info(\"sync with %s\", from_node)\n",
    "        if revoked:\n",
    "            worker_state.revoked.update(revoked)\n",
    "        # Do not send expired items to the other worker.\n",
    "        worker_state.revoked.purge()\n",
    "        return {\n",
    "            \"revoked\": worker_state.revoked._data,\n",
    "            \"clock\": state.app.clock.forward(),\n",
    "        }"
   ]
  },
  {
   "cell_type": "markdown",
   "metadata": {},
   "source": []
  },
  {
   "cell_type": "code",
   "execution_count": null,
   "metadata": {},
   "outputs": [],
   "source": [
    "@inspect_command(default_timeout=0.2)\n",
    "def ping(state, **kwargs):\n",
    "    \"\"\"Ping worker(s).\"\"\"\n",
    "    return ok(\"pong\")"
   ]
  },
  {
   "cell_type": "markdown",
   "metadata": {},
   "source": []
  },
  {
   "cell_type": "code",
   "execution_count": null,
   "metadata": {},
   "outputs": [],
   "source": [
    "@inspect_command()\n",
    "def stats(state, **kwargs):\n",
    "    \"\"\"Request worker statistics/information.\"\"\"\n",
    "    return state.consumer.controller.stats()"
   ]
  },
  {
   "cell_type": "markdown",
   "metadata": {},
   "source": []
  },
  {
   "cell_type": "code",
   "execution_count": null,
   "metadata": {},
   "outputs": [],
   "source": [
    "@inspect_command(alias=\"dump_schedule\")\n",
    "def scheduled(state, **kwargs):\n",
    "    \"\"\"List of currently scheduled ETA/countdown tasks.\"\"\"\n",
    "    return list(_iter_schedule_requests(state.consumer.timer))"
   ]
  },
  {
   "cell_type": "markdown",
   "metadata": {},
   "source": []
  },
  {
   "cell_type": "code",
   "execution_count": null,
   "metadata": {},
   "outputs": [],
   "source": [
    "def _iter_schedule_requests(timer):\n",
    "    for waiting in timer.schedule.queue:\n",
    "        try:\n",
    "            arg0 = waiting.entry.args[0]\n",
    "        except (IndexError, TypeError):\n",
    "            continue\n",
    "        else:\n",
    "            if isinstance(arg0, Request):\n",
    "                yield {\n",
    "                    \"eta\": arg0.eta.isoformat() if arg0.eta else None,\n",
    "                    \"priority\": waiting.priority,\n",
    "                    \"request\": arg0.info(),\n",
    "                }"
   ]
  },
  {
   "cell_type": "markdown",
   "metadata": {},
   "source": []
  },
  {
   "cell_type": "code",
   "execution_count": null,
   "metadata": {},
   "outputs": [],
   "source": [
    "@inspect_command(alias=\"dump_reserved\")\n",
    "def reserved(state, **kwargs):\n",
    "    \"\"\"List of currently reserved tasks, not including scheduled/active.\"\"\"\n",
    "    reserved_tasks = state.tset(worker_state.reserved_requests) - state.tset(\n",
    "        worker_state.active_requests\n",
    "    )\n",
    "    if not reserved_tasks:\n",
    "        return []\n",
    "    return [request.info() for request in reserved_tasks]"
   ]
  },
  {
   "cell_type": "markdown",
   "metadata": {},
   "source": []
  },
  {
   "cell_type": "code",
   "execution_count": null,
   "metadata": {},
   "outputs": [],
   "source": [
    "@inspect_command(alias=\"dump_active\")\n",
    "def active(state, safe=False, **kwargs):\n",
    "    \"\"\"List of tasks currently being executed.\"\"\"\n",
    "    return [\n",
    "        request.info(safe=safe) for request in state.tset(worker_state.active_requests)\n",
    "    ]"
   ]
  },
  {
   "cell_type": "markdown",
   "metadata": {},
   "source": []
  },
  {
   "cell_type": "code",
   "execution_count": null,
   "metadata": {},
   "outputs": [],
   "source": [
    "@inspect_command(alias=\"dump_revoked\")\n",
    "def revoked(state, **kwargs):\n",
    "    \"\"\"List of revoked task-ids.\"\"\"\n",
    "    return list(worker_state.revoked)"
   ]
  },
  {
   "cell_type": "markdown",
   "metadata": {},
   "source": []
  },
  {
   "cell_type": "code",
   "execution_count": null,
   "metadata": {},
   "outputs": [],
   "source": [
    "@inspect_command(\n",
    "    alias=\"dump_tasks\",\n",
    "    variadic=\"taskinfoitems\",\n",
    "    signature=\"[attr1 [attr2 [... [attrN]]]]\",\n",
    ")\n",
    "def registered(state, taskinfoitems=None, builtins=False, **kwargs):\n",
    "    \"\"\"List of registered tasks.\n",
    "\n",
    "    Arguments:\n",
    "        taskinfoitems (Sequence[str]): List of task attributes to include.\n",
    "            Defaults to ``exchange,routing_key,rate_limit``.\n",
    "        builtins (bool): Also include built-in tasks.\n",
    "    \"\"\"\n",
    "    reg = state.app.tasks\n",
    "    taskinfoitems = taskinfoitems or DEFAULT_TASK_INFO_ITEMS\n",
    "\n",
    "    tasks = (\n",
    "        reg if builtins else (task for task in reg if not task.startswith(\"celery.\"))\n",
    "    )\n",
    "\n",
    "    def _extract_info(task):\n",
    "        fields = {\n",
    "            field: str(getattr(task, field, None))\n",
    "            for field in taskinfoitems\n",
    "            if getattr(task, field, None) is not None\n",
    "        }\n",
    "        if fields:\n",
    "            info = [\"=\".join(f) for f in fields.items()]\n",
    "            return \"{} [{}]\".format(task.name, \" \".join(info))\n",
    "        return task.name\n",
    "\n",
    "    return [_extract_info(reg[task]) for task in sorted(tasks)]"
   ]
  },
  {
   "cell_type": "markdown",
   "metadata": {},
   "source": []
  },
  {
   "cell_type": "code",
   "execution_count": null,
   "metadata": {},
   "outputs": [],
   "source": [
    "# -- Debugging"
   ]
  },
  {
   "cell_type": "markdown",
   "metadata": {},
   "source": []
  },
  {
   "cell_type": "code",
   "execution_count": null,
   "metadata": {},
   "outputs": [],
   "source": [
    "@inspect_command(\n",
    "    default_timeout=60.0,\n",
    "    args=[(\"type\", str), (\"num\", int), (\"max_depth\", int)],\n",
    "    signature=\"[object_type=Request] [num=200 [max_depth=10]]\",\n",
    ")\n",
    "def objgraph(state, num=200, max_depth=10, type=\"Request\"):  # pragma: no cover\n",
    "    \"\"\"Create graph of uncollected objects (memory-leak debugging).\n",
    "\n",
    "    Arguments:\n",
    "        num (int): Max number of objects to graph.\n",
    "        max_depth (int): Traverse at most n levels deep.\n",
    "        type (str): Name of object to graph.  Default is ``\"Request\"``.\n",
    "    \"\"\"\n",
    "    try:\n",
    "        import objgraph as _objgraph\n",
    "    except ImportError:\n",
    "        raise ImportError(\"Requires the objgraph library\")\n",
    "    logger.info(\"Dumping graph for type %r\", type)\n",
    "    with tempfile.NamedTemporaryFile(prefix=\"cobjg\", suffix=\".png\", delete=False) as fh:\n",
    "        objects = _objgraph.by_type(type)[:num]\n",
    "        _objgraph.show_backrefs(\n",
    "            objects,\n",
    "            max_depth=max_depth,\n",
    "            highlight=lambda v: v in objects,\n",
    "            filename=fh.name,\n",
    "        )\n",
    "        return {\"filename\": fh.name}"
   ]
  },
  {
   "cell_type": "markdown",
   "metadata": {},
   "source": []
  },
  {
   "cell_type": "code",
   "execution_count": null,
   "metadata": {},
   "outputs": [],
   "source": [
    "@inspect_command()\n",
    "def memsample(state, **kwargs):\n",
    "    \"\"\"Sample current RSS memory usage.\"\"\"\n",
    "    from celery.utils.debug import sample_mem\n",
    "\n",
    "    return sample_mem()"
   ]
  },
  {
   "cell_type": "markdown",
   "metadata": {},
   "source": []
  },
  {
   "cell_type": "code",
   "execution_count": null,
   "metadata": {},
   "outputs": [],
   "source": [
    "@inspect_command(\n",
    "    args=[(\"samples\", int)],\n",
    "    signature=\"[n_samples=10]\",\n",
    ")\n",
    "def memdump(state, samples=10, **kwargs):  # pragma: no cover\n",
    "    \"\"\"Dump statistics of previous memsample requests.\"\"\"\n",
    "    from celery.utils import debug\n",
    "\n",
    "    out = io.StringIO()\n",
    "    debug.memdump(file=out)\n",
    "    return out.getvalue()"
   ]
  },
  {
   "cell_type": "markdown",
   "metadata": {},
   "source": []
  },
  {
   "cell_type": "code",
   "execution_count": null,
   "metadata": {},
   "outputs": [],
   "source": [
    "# -- Pool"
   ]
  },
  {
   "cell_type": "markdown",
   "metadata": {},
   "source": []
  },
  {
   "cell_type": "code",
   "execution_count": null,
   "metadata": {},
   "outputs": [],
   "source": [
    "@control_command(\n",
    "    args=[(\"n\", int)],\n",
    "    signature=\"[N=1]\",\n",
    ")\n",
    "def pool_grow(state, n=1, **kwargs):\n",
    "    \"\"\"Grow pool by n processes/threads.\"\"\"\n",
    "    if state.consumer.controller.autoscaler:\n",
    "        return nok(\n",
    "            \"pool_grow is not supported with autoscale. Adjust autoscale range instead.\"\n",
    "        )\n",
    "    else:\n",
    "        state.consumer.pool.grow(n)\n",
    "        state.consumer._update_prefetch_count(n)\n",
    "    return ok(\"pool will grow\")"
   ]
  },
  {
   "cell_type": "markdown",
   "metadata": {},
   "source": []
  },
  {
   "cell_type": "code",
   "execution_count": null,
   "metadata": {},
   "outputs": [],
   "source": [
    "@control_command(\n",
    "    args=[(\"n\", int)],\n",
    "    signature=\"[N=1]\",\n",
    ")\n",
    "def pool_shrink(state, n=1, **kwargs):\n",
    "    \"\"\"Shrink pool by n processes/threads.\"\"\"\n",
    "    if state.consumer.controller.autoscaler:\n",
    "        return nok(\n",
    "            \"pool_shrink is not supported with autoscale. Adjust autoscale range instead.\"\n",
    "        )\n",
    "    else:\n",
    "        state.consumer.pool.shrink(n)\n",
    "        state.consumer._update_prefetch_count(-n)\n",
    "    return ok(\"pool will shrink\")"
   ]
  },
  {
   "cell_type": "markdown",
   "metadata": {},
   "source": []
  },
  {
   "cell_type": "code",
   "execution_count": null,
   "metadata": {},
   "outputs": [],
   "source": [
    "@control_command()\n",
    "def pool_restart(state, modules=None, reload=False, reloader=None, **kwargs):\n",
    "    \"\"\"Restart execution pool.\"\"\"\n",
    "    if state.app.conf.worker_pool_restarts:\n",
    "        state.consumer.controller.reload(modules, reload, reloader=reloader)\n",
    "        return ok(\"reload started\")\n",
    "    else:\n",
    "        raise ValueError(\"Pool restarts not enabled\")"
   ]
  },
  {
   "cell_type": "markdown",
   "metadata": {},
   "source": []
  },
  {
   "cell_type": "code",
   "execution_count": null,
   "metadata": {},
   "outputs": [],
   "source": [
    "@control_command(\n",
    "    args=[(\"max\", int), (\"min\", int)],\n",
    "    signature=\"[max [min]]\",\n",
    ")\n",
    "def autoscale(state, max=None, min=None):\n",
    "    \"\"\"Modify autoscale settings.\"\"\"\n",
    "    autoscaler = state.consumer.controller.autoscaler\n",
    "    if autoscaler:\n",
    "        max_, min_ = autoscaler.update(max, min)\n",
    "        return ok(f\"autoscale now max={max_} min={min_}\")\n",
    "    raise ValueError(\"Autoscale not enabled\")"
   ]
  },
  {
   "cell_type": "markdown",
   "metadata": {},
   "source": []
  },
  {
   "cell_type": "code",
   "execution_count": null,
   "metadata": {},
   "outputs": [],
   "source": [
    "@control_command()\n",
    "def shutdown(state, msg=\"Got shutdown from remote\", **kwargs):\n",
    "    \"\"\"Shutdown worker(s).\"\"\"\n",
    "    logger.warning(msg)\n",
    "    raise WorkerShutdown(0)"
   ]
  },
  {
   "cell_type": "markdown",
   "metadata": {},
   "source": []
  },
  {
   "cell_type": "code",
   "execution_count": null,
   "metadata": {},
   "outputs": [],
   "source": [
    "# -- Queues"
   ]
  },
  {
   "cell_type": "markdown",
   "metadata": {},
   "source": []
  },
  {
   "cell_type": "code",
   "execution_count": null,
   "metadata": {},
   "outputs": [],
   "source": [
    "@control_command(\n",
    "    args=[\n",
    "        (\"queue\", str),\n",
    "        (\"exchange\", str),\n",
    "        (\"exchange_type\", str),\n",
    "        (\"routing_key\", str),\n",
    "    ],\n",
    "    signature=\"<queue> [exchange [type [routing_key]]]\",\n",
    ")\n",
    "def add_consumer(\n",
    "    state, queue, exchange=None, exchange_type=None, routing_key=None, **options\n",
    "):\n",
    "    \"\"\"Tell worker(s) to consume from task queue by name.\"\"\"\n",
    "    state.consumer.call_soon(\n",
    "        state.consumer.add_task_queue,\n",
    "        queue,\n",
    "        exchange,\n",
    "        exchange_type or \"direct\",\n",
    "        routing_key,\n",
    "        **options,\n",
    "    )\n",
    "    return ok(f\"add consumer {queue}\")"
   ]
  },
  {
   "cell_type": "markdown",
   "metadata": {},
   "source": []
  },
  {
   "cell_type": "code",
   "execution_count": null,
   "metadata": {},
   "outputs": [],
   "source": [
    "@control_command(\n",
    "    args=[(\"queue\", str)],\n",
    "    signature=\"<queue>\",\n",
    ")\n",
    "def cancel_consumer(state, queue, **_):\n",
    "    \"\"\"Tell worker(s) to stop consuming from task queue by name.\"\"\"\n",
    "    state.consumer.call_soon(\n",
    "        state.consumer.cancel_task_queue,\n",
    "        queue,\n",
    "    )\n",
    "    return ok(f\"no longer consuming from {queue}\")"
   ]
  },
  {
   "cell_type": "markdown",
   "metadata": {},
   "source": []
  },
  {
   "cell_type": "code",
   "execution_count": null,
   "metadata": {},
   "outputs": [],
   "source": [
    "@inspect_command()\n",
    "def active_queues(state):\n",
    "    \"\"\"List the task queues a worker is currently consuming from.\"\"\"\n",
    "    if state.consumer.task_consumer:\n",
    "        return [\n",
    "            dict(queue.as_dict(recurse=True))\n",
    "            for queue in state.consumer.task_consumer.queues\n",
    "        ]\n",
    "    return []"
   ]
  },
  {
   "cell_type": "markdown",
   "metadata": {},
   "source": []
  }
 ],
 "metadata": {
  "language_info": {
   "name": "python"
  }
 },
 "nbformat": 4,
 "nbformat_minor": 2
}