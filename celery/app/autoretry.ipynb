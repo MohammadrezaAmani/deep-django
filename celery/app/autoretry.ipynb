{
 "cells": [
  {
   "cell_type": "code",
   "execution_count": null,
   "metadata": {},
   "outputs": [],
   "source": [
    "\"\"\"Tasks auto-retry functionality.\"\"\"\n",
    "from vine.utils import wraps\n",
    "\n",
    "from celery.exceptions import Ignore, Retry\n",
    "from celery.utils.time import get_exponential_backoff_interval"
   ]
  },
  {
   "cell_type": "markdown",
   "metadata": {},
   "source": []
  },
  {
   "cell_type": "code",
   "execution_count": null,
   "metadata": {},
   "outputs": [],
   "source": [
    "def add_autoretry_behaviour(task, **options):\n",
    "    \"\"\"Wrap task's `run` method with auto-retry functionality.\"\"\"\n",
    "    autoretry_for = tuple(\n",
    "        options.get(\"autoretry_for\", getattr(task, \"autoretry_for\", ()))\n",
    "    )\n",
    "    dont_autoretry_for = tuple(\n",
    "        options.get(\"dont_autoretry_for\", getattr(task, \"dont_autoretry_for\", ()))\n",
    "    )\n",
    "    retry_kwargs = options.get(\"retry_kwargs\", getattr(task, \"retry_kwargs\", {}))\n",
    "    retry_backoff = float(\n",
    "        options.get(\"retry_backoff\", getattr(task, \"retry_backoff\", False))\n",
    "    )\n",
    "    retry_backoff_max = int(\n",
    "        options.get(\"retry_backoff_max\", getattr(task, \"retry_backoff_max\", 600))\n",
    "    )\n",
    "    retry_jitter = options.get(\"retry_jitter\", getattr(task, \"retry_jitter\", True))\n",
    "\n",
    "    if autoretry_for and not hasattr(task, \"_orig_run\"):\n",
    "\n",
    "        @wraps(task.run)\n",
    "        def run(*args, **kwargs):\n",
    "            try:\n",
    "                return task._orig_run(*args, **kwargs)\n",
    "            except Ignore:\n",
    "                # If Ignore signal occurs task shouldn't be retried,\n",
    "                # even if it suits autoretry_for list\n",
    "                raise\n",
    "            except Retry:\n",
    "                raise\n",
    "            except dont_autoretry_for:\n",
    "                raise\n",
    "            except autoretry_for as exc:\n",
    "                if retry_backoff:\n",
    "                    retry_kwargs[\"countdown\"] = get_exponential_backoff_interval(\n",
    "                        factor=int(max(1.0, retry_backoff)),\n",
    "                        retries=task.request.retries,\n",
    "                        maximum=retry_backoff_max,\n",
    "                        full_jitter=retry_jitter,\n",
    "                    )\n",
    "                # Override max_retries\n",
    "                if hasattr(task, \"override_max_retries\"):\n",
    "                    retry_kwargs[\"max_retries\"] = getattr(\n",
    "                        task, \"override_max_retries\", task.max_retries\n",
    "                    )\n",
    "                ret = task.retry(exc=exc, **retry_kwargs)\n",
    "                # Stop propagation\n",
    "                if hasattr(task, \"override_max_retries\"):\n",
    "                    delattr(task, \"override_max_retries\")\n",
    "                raise ret\n",
    "\n",
    "        task._orig_run, task.run = task.run, run"
   ]
  },
  {
   "cell_type": "markdown",
   "metadata": {},
   "source": []
  }
 ],
 "metadata": {
  "language_info": {
   "name": "python"
  }
 },
 "nbformat": 4,
 "nbformat_minor": 2
}