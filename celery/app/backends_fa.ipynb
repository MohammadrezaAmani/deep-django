{
 "cells": [
  {
   "cell_type": "code",
   "execution_count": null,
   "metadata": {},
   "outputs": [],
   "source": [
    "\"\"\"Backend selection.\"\"\"\n",
    "import sys\n",
    "import types\n",
    "\n",
    "from celery._state import current_app\n",
    "from celery.exceptions import ImproperlyConfigured, reraise\n",
    "from celery.utils.imports import load_extension_class_names, symbol_by_name\n",
    "\n",
    "__all__ = (\"by_name\", \"by_url\")\n",
    "\n",
    "UNKNOWN_BACKEND = \"\"\"\n",
    "Unknown result backend: {0!r}.  Did you spell that correctly? ({1!r})\n",
    "\"\"\"\n",
    "\n",
    "BACKEND_ALIASES = {\n",
    "    \"rpc\": \"celery.backends.rpc.RPCBackend\",\n",
    "    \"cache\": \"celery.backends.cache:CacheBackend\",\n",
    "    \"redis\": \"celery.backends.redis:RedisBackend\",\n",
    "    \"rediss\": \"celery.backends.redis:RedisBackend\",\n",
    "    \"sentinel\": \"celery.backends.redis:SentinelBackend\",\n",
    "    \"mongodb\": \"celery.backends.mongodb:MongoBackend\",\n",
    "    \"db\": \"celery.backends.database:DatabaseBackend\",\n",
    "    \"database\": \"celery.backends.database:DatabaseBackend\",\n",
    "    \"elasticsearch\": \"celery.backends.elasticsearch:ElasticsearchBackend\",\n",
    "    \"cassandra\": \"celery.backends.cassandra:CassandraBackend\",\n",
    "    \"couchbase\": \"celery.backends.couchbase:CouchbaseBackend\",\n",
    "    \"couchdb\": \"celery.backends.couchdb:CouchBackend\",\n",
    "    \"cosmosdbsql\": \"celery.backends.cosmosdbsql:CosmosDBSQLBackend\",\n",
    "    \"riak\": \"celery.backends.riak:RiakBackend\",\n",
    "    \"file\": \"celery.backends.filesystem:FilesystemBackend\",\n",
    "    \"disabled\": \"celery.backends.base:DisabledBackend\",\n",
    "    \"consul\": \"celery.backends.consul:ConsulBackend\",\n",
    "    \"dynamodb\": \"celery.backends.dynamodb:DynamoDBBackend\",\n",
    "    \"azureblockblob\": \"celery.backends.azureblockblob:AzureBlockBlobBackend\",\n",
    "    \"arangodb\": \"celery.backends.arangodb:ArangoDbBackend\",\n",
    "    \"s3\": \"celery.backends.s3:S3Backend\",\n",
    "    \"gs\": \"celery.backends.gcs:GCSBackend\",\n",
    "}"
   ]
  },
  {
   "cell_type": "markdown",
   "metadata": {},
   "source": []
  },
  {
   "cell_type": "code",
   "execution_count": null,
   "metadata": {},
   "outputs": [],
   "source": [
    "def by_name(backend=None, loader=None, extension_namespace=\"celery.result_backends\"):\n",
    "    \"\"\"Get backend class by name/alias.\"\"\"\n",
    "    backend = backend or \"disabled\"\n",
    "    loader = loader or current_app.loader\n",
    "    aliases = dict(BACKEND_ALIASES, **loader.override_backends)\n",
    "    aliases.update(load_extension_class_names(extension_namespace))\n",
    "    try:\n",
    "        cls = symbol_by_name(backend, aliases)\n",
    "    except ValueError as exc:\n",
    "        reraise(\n",
    "            ImproperlyConfigured,\n",
    "            ImproperlyConfigured(UNKNOWN_BACKEND.strip().format(backend, exc)),\n",
    "            sys.exc_info()[2],\n",
    "        )\n",
    "    if isinstance(cls, types.ModuleType):\n",
    "        raise ImproperlyConfigured(\n",
    "            UNKNOWN_BACKEND.strip().format(\n",
    "                backend, \"is a Python module, not a backend class.\"\n",
    "            )\n",
    "        )\n",
    "    return cls"
   ]
  },
  {
   "cell_type": "markdown",
   "metadata": {},
   "source": []
  },
  {
   "cell_type": "code",
   "execution_count": null,
   "metadata": {},
   "outputs": [],
   "source": [
    "def by_url(backend=None, loader=None):\n",
    "    \"\"\"Get backend class by URL.\"\"\"\n",
    "    url = None\n",
    "    if backend and \"://\" in backend:\n",
    "        url = backend\n",
    "        scheme, _, _ = url.partition(\"://\")\n",
    "        if \"+\" in scheme:\n",
    "            backend, url = url.split(\"+\", 1)\n",
    "        else:\n",
    "            backend = scheme\n",
    "    return by_name(backend, loader), url"
   ]
  },
  {
   "cell_type": "markdown",
   "metadata": {},
   "source": []
  }
 ],
 "metadata": {
  "language_info": {
   "name": "python"
  }
 },
 "nbformat": 4,
 "nbformat_minor": 2
}