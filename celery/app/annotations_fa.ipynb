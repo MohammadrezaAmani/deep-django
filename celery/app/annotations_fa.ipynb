{
 "cells": [
  {
   "cell_type": "code",
   "execution_count": null,
   "metadata": {},
   "outputs": [],
   "source": [
    "\"\"\"Task Annotations.\n",
    "\n",
    "Annotations is a nice term for monkey-patching task classes\n",
    "in the configuration.\n",
    "\n",
    "This prepares and performs the annotations in the\n",
    ":setting:`task_annotations` setting.\n",
    "\"\"\"\n",
    "from celery.utils.functional import firstmethod, mlazy\n",
    "from celery.utils.imports import instantiate\n",
    "\n",
    "_first_match = firstmethod(\"annotate\")\n",
    "_first_match_any = firstmethod(\"annotate_any\")\n",
    "\n",
    "__all__ = (\"MapAnnotation\", \"prepare\", \"resolve_all\")"
   ]
  },
  {
   "cell_type": "markdown",
   "metadata": {},
   "source": []
  },
  {
   "cell_type": "code",
   "execution_count": null,
   "metadata": {},
   "outputs": [],
   "source": [
    "class MapAnnotation(dict):\n",
    "    \"\"\"Annotation map: task_name => attributes.\"\"\"\n",
    "\n",
    "    def annotate_any(self):\n",
    "        try:\n",
    "            return dict(self[\"*\"])\n",
    "        except KeyError:\n",
    "            pass\n",
    "\n",
    "    def annotate(self, task):\n",
    "        try:\n",
    "            return dict(self[task.name])\n",
    "        except KeyError:\n",
    "            pass"
   ]
  },
  {
   "cell_type": "markdown",
   "metadata": {},
   "source": []
  },
  {
   "cell_type": "code",
   "execution_count": null,
   "metadata": {},
   "outputs": [],
   "source": [
    "def prepare(annotations):\n",
    "    \"\"\"Expand the :setting:`task_annotations` setting.\"\"\"\n",
    "\n",
    "    def expand_annotation(annotation):\n",
    "        if isinstance(annotation, dict):\n",
    "            return MapAnnotation(annotation)\n",
    "        elif isinstance(annotation, str):\n",
    "            return mlazy(instantiate, annotation)\n",
    "        return annotation\n",
    "\n",
    "    if annotations is None:\n",
    "        return ()\n",
    "    elif not isinstance(annotations, (list, tuple)):\n",
    "        annotations = (annotations,)\n",
    "    return [expand_annotation(anno) for anno in annotations]"
   ]
  },
  {
   "cell_type": "markdown",
   "metadata": {},
   "source": []
  },
  {
   "cell_type": "code",
   "execution_count": null,
   "metadata": {},
   "outputs": [],
   "source": [
    "def resolve_all(anno, task):\n",
    "    \"\"\"Resolve all pending annotations.\"\"\"\n",
    "    return (x for x in (_first_match(anno, task), _first_match_any(anno)) if x)"
   ]
  },
  {
   "cell_type": "markdown",
   "metadata": {},
   "source": []
  }
 ],
 "metadata": {
  "language_info": {
   "name": "python"
  }
 },
 "nbformat": 4,
 "nbformat_minor": 2
}