{
 "cells": [
  {
   "cell_type": "code",
   "execution_count": null,
   "metadata": {},
   "outputs": [],
   "source": [
    "\"\"\"Celery Application.\"\"\"\n",
    "from celery import _state\n",
    "from celery._state import (\n",
    "    app_or_default,\n",
    "    disable_trace,\n",
    "    enable_trace,\n",
    "    pop_current_task,\n",
    "    push_current_task,\n",
    ")\n",
    "from celery.local import Proxy\n",
    "\n",
    "from .base import Celery\n",
    "from .utils import AppPickler\n",
    "\n",
    "__all__ = (\n",
    "    \"Celery\",\n",
    "    \"AppPickler\",\n",
    "    \"app_or_default\",\n",
    "    \"default_app\",\n",
    "    \"bugreport\",\n",
    "    \"enable_trace\",\n",
    "    \"disable_trace\",\n",
    "    \"shared_task\",\n",
    "    \"push_current_task\",\n",
    "    \"pop_current_task\",\n",
    ")\n",
    "\n",
    "#: Proxy always returning the app set as default.\n",
    "default_app = Proxy(lambda: _state.default_app)"
   ]
  },
  {
   "cell_type": "markdown",
   "metadata": {},
   "source": []
  },
  {
   "cell_type": "code",
   "execution_count": null,
   "metadata": {},
   "outputs": [],
   "source": [
    "def bugreport(app=None):\n",
    "    \"\"\"Return information useful in bug reports.\"\"\"\n",
    "    return (app or _state.get_current_app()).bugreport()"
   ]
  },
  {
   "cell_type": "markdown",
   "metadata": {},
   "source": []
  },
  {
   "cell_type": "code",
   "execution_count": null,
   "metadata": {},
   "outputs": [],
   "source": [
    "def shared_task(*args, **kwargs):\n",
    "    \"\"\"Create shared task (decorator).\n",
    "\n",
    "    This can be used by library authors to create tasks that'll work\n",
    "    for any app environment.\n",
    "\n",
    "    Returns:\n",
    "        ~celery.local.Proxy: A proxy that always takes the task from the\n",
    "        current apps task registry.\n",
    "\n",
    "    Example:\n",
    "\n",
    "        >>> from celery import Celery, shared_task\n",
    "        >>> @shared_task\n",
    "        ... def add(x, y):\n",
    "        ...     return x + y\n",
    "        ...\n",
    "        >>> app1 = Celery(broker='amqp://')\n",
    "        >>> add.app is app1\n",
    "        True\n",
    "        >>> app2 = Celery(broker='redis://')\n",
    "        >>> add.app is app2\n",
    "        True\n",
    "    \"\"\"\n",
    "\n",
    "    def create_shared_task(**options):\n",
    "        def __inner(fun):\n",
    "            name = options.get(\"name\")\n",
    "            # Set as shared task so that unfinalized apps,\n",
    "            # and future apps will register a copy of this task.\n",
    "            _state.connect_on_app_finalize(\n",
    "                lambda app: app._task_from_fun(fun, **options)\n",
    "            )\n",
    "\n",
    "            # Force all finalized apps to take this task as well.\n",
    "            for app in _state._get_active_apps():\n",
    "                if app.finalized:\n",
    "                    with app._finalize_mutex:\n",
    "                        app._task_from_fun(fun, **options)\n",
    "\n",
    "            # Return a proxy that always gets the task from the current\n",
    "            # apps task registry.\n",
    "            def task_by_cons():\n",
    "                app = _state.get_current_app()\n",
    "                return app.tasks[\n",
    "                    name or app.gen_task_name(fun.__name__, fun.__module__)\n",
    "                ]\n",
    "\n",
    "            return Proxy(task_by_cons)\n",
    "\n",
    "        return __inner\n",
    "\n",
    "    if len(args) == 1 and callable(args[0]):\n",
    "        return create_shared_task(**kwargs)(args[0])\n",
    "    return create_shared_task(*args, **kwargs)"
   ]
  },
  {
   "cell_type": "markdown",
   "metadata": {},
   "source": []
  }
 ],
 "metadata": {
  "language_info": {
   "name": "python"
  }
 },
 "nbformat": 4,
 "nbformat_minor": 2
}