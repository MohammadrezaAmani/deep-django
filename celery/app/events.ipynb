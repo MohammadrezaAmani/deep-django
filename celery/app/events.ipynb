{
 "cells": [
  {
   "cell_type": "code",
   "execution_count": null,
   "metadata": {},
   "outputs": [],
   "source": [
    "\"\"\"Implementation for the app.events shortcuts.\"\"\"\n",
    "from contextlib import contextmanager\n",
    "\n",
    "from kombu.utils.objects import cached_property"
   ]
  },
  {
   "cell_type": "markdown",
   "metadata": {},
   "source": []
  },
  {
   "cell_type": "code",
   "execution_count": null,
   "metadata": {},
   "outputs": [],
   "source": [
    "class Events:\n",
    "    \"\"\"Implements app.events.\"\"\"\n",
    "\n",
    "    receiver_cls = \"celery.events.receiver:EventReceiver\"\n",
    "    dispatcher_cls = \"celery.events.dispatcher:EventDispatcher\"\n",
    "    state_cls = \"celery.events.state:State\"\n",
    "\n",
    "    def __init__(self, app=None):\n",
    "        self.app = app\n",
    "\n",
    "    @cached_property\n",
    "    def Receiver(self):\n",
    "        return self.app.subclass_with_self(self.receiver_cls, reverse=\"events.Receiver\")\n",
    "\n",
    "    @cached_property\n",
    "    def Dispatcher(self):\n",
    "        return self.app.subclass_with_self(\n",
    "            self.dispatcher_cls, reverse=\"events.Dispatcher\"\n",
    "        )\n",
    "\n",
    "    @cached_property\n",
    "    def State(self):\n",
    "        return self.app.subclass_with_self(self.state_cls, reverse=\"events.State\")\n",
    "\n",
    "    @contextmanager\n",
    "    def default_dispatcher(\n",
    "        self, hostname=None, enabled=True, buffer_while_offline=False\n",
    "    ):\n",
    "        with self.app.amqp.producer_pool.acquire(block=True) as prod:\n",
    "            # pylint: disable=too-many-function-args\n",
    "            # This is a property pylint...\n",
    "            with self.Dispatcher(\n",
    "                prod.connection, hostname, enabled, prod.channel, buffer_while_offline\n",
    "            ) as d:\n",
    "                yield d"
   ]
  },
  {
   "cell_type": "markdown",
   "metadata": {},
   "source": []
  }
 ],
 "metadata": {
  "language_info": {
   "name": "python"
  }
 },
 "nbformat": 4,
 "nbformat_minor": 2
}