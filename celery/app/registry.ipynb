{
 "cells": [
  {
   "cell_type": "code",
   "execution_count": null,
   "metadata": {},
   "outputs": [],
   "source": [
    "\"\"\"Registry of available tasks.\"\"\"\n",
    "import inspect\n",
    "from importlib import import_module\n",
    "\n",
    "from celery._state import get_current_app\n",
    "from celery.app.autoretry import add_autoretry_behaviour\n",
    "from celery.exceptions import InvalidTaskError, NotRegistered\n",
    "\n",
    "__all__ = (\"TaskRegistry\",)"
   ]
  },
  {
   "cell_type": "markdown",
   "metadata": {},
   "source": []
  },
  {
   "cell_type": "code",
   "execution_count": null,
   "metadata": {},
   "outputs": [],
   "source": [
    "class TaskRegistry(dict):\n",
    "    \"\"\"Map of registered tasks.\"\"\"\n",
    "\n",
    "    NotRegistered = NotRegistered\n",
    "\n",
    "    def __missing__(self, key):\n",
    "        raise self.NotRegistered(key)\n",
    "\n",
    "    def register(self, task):\n",
    "        \"\"\"Register a task in the task registry.\n",
    "\n",
    "        The task will be automatically instantiated if not already an\n",
    "        instance. Name must be configured prior to registration.\n",
    "        \"\"\"\n",
    "        if task.name is None:\n",
    "            raise InvalidTaskError(\n",
    "                \"Task class {!r} must specify .name attribute\".format(\n",
    "                    type(task).__name__\n",
    "                )\n",
    "            )\n",
    "        task = inspect.isclass(task) and task() or task\n",
    "        add_autoretry_behaviour(task)\n",
    "        self[task.name] = task\n",
    "\n",
    "    def unregister(self, name):\n",
    "        \"\"\"Unregister task by name.\n",
    "\n",
    "        Arguments:\n",
    "            name (str): name of the task to unregister, or a\n",
    "                :class:`celery.app.task.Task` with a valid `name` attribute.\n",
    "\n",
    "        Raises:\n",
    "            celery.exceptions.NotRegistered: if the task is not registered.\n",
    "        \"\"\"\n",
    "        try:\n",
    "            self.pop(getattr(name, \"name\", name))\n",
    "        except KeyError:\n",
    "            raise self.NotRegistered(name)\n",
    "\n",
    "    # -- these methods are irrelevant now and will be removed in 4.0\n",
    "    def regular(self):\n",
    "        return self.filter_types(\"regular\")\n",
    "\n",
    "    def periodic(self):\n",
    "        return self.filter_types(\"periodic\")\n",
    "\n",
    "    def filter_types(self, type):\n",
    "        return {\n",
    "            name: task\n",
    "            for name, task in self.items()\n",
    "            if getattr(task, \"type\", \"regular\") == type\n",
    "        }"
   ]
  },
  {
   "cell_type": "markdown",
   "metadata": {},
   "source": []
  },
  {
   "cell_type": "code",
   "execution_count": null,
   "metadata": {},
   "outputs": [],
   "source": [
    "def _unpickle_task(name):\n",
    "    return get_current_app().tasks[name]"
   ]
  },
  {
   "cell_type": "markdown",
   "metadata": {},
   "source": []
  },
  {
   "cell_type": "code",
   "execution_count": null,
   "metadata": {},
   "outputs": [],
   "source": [
    "def _unpickle_task_v2(name, module=None):\n",
    "    if module:\n",
    "        import_module(module)\n",
    "    return get_current_app().tasks[name]"
   ]
  },
  {
   "cell_type": "markdown",
   "metadata": {},
   "source": []
  }
 ],
 "metadata": {
  "language_info": {
   "name": "python"
  }
 },
 "nbformat": 4,
 "nbformat_minor": 2
}