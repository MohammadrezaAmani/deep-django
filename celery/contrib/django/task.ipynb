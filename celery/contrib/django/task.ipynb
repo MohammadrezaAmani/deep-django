{
 "cells": [
  {
   "cell_type": "code",
   "execution_count": null,
   "metadata": {},
   "outputs": [],
   "source": [
    "import functools\n",
    "\n",
    "from django.db import transaction\n",
    "\n",
    "from celery.app.task import Task"
   ]
  },
  {
   "cell_type": "markdown",
   "metadata": {},
   "source": []
  },
  {
   "cell_type": "code",
   "execution_count": null,
   "metadata": {},
   "outputs": [],
   "source": [
    "class DjangoTask(Task):\n",
    "    \"\"\"\n",
    "    Extend the base :class:`~celery.app.task.Task` for Django.\n",
    "\n",
    "    Provide a nicer API to trigger tasks at the end of the DB transaction.\n",
    "    \"\"\"\n",
    "\n",
    "    def delay_on_commit(self, *args, **kwargs):\n",
    "        \"\"\"Call :meth:`~celery.app.task.Task.delay` with Django's ``on_commit()``.\"\"\"\n",
    "        return transaction.on_commit(functools.partial(self.delay, *args, **kwargs))\n",
    "\n",
    "    def apply_async_on_commit(self, *args, **kwargs):\n",
    "        \"\"\"Call :meth:`~celery.app.task.Task.apply_async` with Django's ``on_commit()``.\"\"\"\n",
    "        return transaction.on_commit(\n",
    "            functools.partial(self.apply_async, *args, **kwargs)\n",
    "        )"
   ]
  },
  {
   "cell_type": "markdown",
   "metadata": {},
   "source": []
  }
 ],
 "metadata": {
  "language_info": {
   "name": "python"
  }
 },
 "nbformat": 4,
 "nbformat_minor": 2
}