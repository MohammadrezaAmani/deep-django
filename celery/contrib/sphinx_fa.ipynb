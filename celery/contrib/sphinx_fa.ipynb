{
 "cells": [
  {
   "cell_type": "code",
   "execution_count": null,
   "metadata": {},
   "outputs": [],
   "source": [
    "\"\"\"Sphinx documentation plugin used to document tasks.\n",
    "\n",
    "Introduction\n",
    "============\n",
    "\n",
    "Usage\n",
    "-----\n",
    "\n",
    "The Celery extension for Sphinx requires Sphinx 2.0 or later.\n",
    "\n",
    "Add the extension to your :file:`docs/conf.py` configuration module:\n",
    "\n",
    ".. code-block:: python\n",
    "\n",
    "    extensions = (...,\n",
    "                  'celery.contrib.sphinx')\n",
    "\n",
    "If you'd like to change the prefix for tasks in reference documentation\n",
    "then you can change the ``celery_task_prefix`` configuration value:\n",
    "\n",
    ".. code-block:: python\n",
    "\n",
    "    celery_task_prefix = '(task)'  # < default\n",
    "\n",
    "With the extension installed `autodoc` will automatically find\n",
    "task decorated objects (e.g. when using the automodule directive)\n",
    "and generate the correct (as well as add a ``(task)`` prefix),\n",
    "and you can also refer to the tasks using `:task:proj.tasks.add`\n",
    "syntax.\n",
    "\n",
    "Use ``.. autotask::`` to alternatively manually document a task.\n",
    "\"\"\"\n",
    "from inspect import signature\n",
    "\n",
    "from docutils import nodes\n",
    "from sphinx.domains.python import PyFunction\n",
    "from sphinx.ext.autodoc import FunctionDocumenter\n",
    "\n",
    "from celery.app.task import BaseTask"
   ]
  },
  {
   "cell_type": "markdown",
   "metadata": {},
   "source": []
  },
  {
   "cell_type": "code",
   "execution_count": null,
   "metadata": {},
   "outputs": [],
   "source": [
    "class TaskDocumenter(FunctionDocumenter):\n",
    "    \"\"\"Document task definitions.\"\"\"\n",
    "\n",
    "    objtype = \"task\"\n",
    "    member_order = 11\n",
    "\n",
    "    @classmethod\n",
    "    def can_document_member(cls, member, membername, isattr, parent):\n",
    "        return isinstance(member, BaseTask) and getattr(member, \"__wrapped__\")\n",
    "\n",
    "    def format_args(self):\n",
    "        wrapped = getattr(self.object, \"__wrapped__\", None)\n",
    "        if wrapped is not None:\n",
    "            sig = signature(wrapped)\n",
    "            if \"self\" in sig.parameters or \"cls\" in sig.parameters:\n",
    "                sig = sig.replace(parameters=list(sig.parameters.values())[1:])\n",
    "            return str(sig)\n",
    "        return \"\"\n",
    "\n",
    "    def document_members(self, all_members=False):\n",
    "        pass\n",
    "\n",
    "    def check_module(self):\n",
    "        # Normally checks if *self.object* is really defined in the module\n",
    "        # given by *self.modname*. But since functions decorated with the @task\n",
    "        # decorator are instances living in the celery.local, we have to check\n",
    "        # the wrapped function instead.\n",
    "        wrapped = getattr(self.object, \"__wrapped__\", None)\n",
    "        if wrapped and getattr(wrapped, \"__module__\") == self.modname:\n",
    "            return True\n",
    "        return super().check_module()"
   ]
  },
  {
   "cell_type": "markdown",
   "metadata": {},
   "source": []
  },
  {
   "cell_type": "code",
   "execution_count": null,
   "metadata": {},
   "outputs": [],
   "source": [
    "class TaskDirective(PyFunction):\n",
    "    \"\"\"Sphinx task directive.\"\"\"\n",
    "\n",
    "    def get_signature_prefix(self, sig):\n",
    "        return [nodes.Text(self.env.config.celery_task_prefix)]"
   ]
  },
  {
   "cell_type": "markdown",
   "metadata": {},
   "source": []
  },
  {
   "cell_type": "code",
   "execution_count": null,
   "metadata": {},
   "outputs": [],
   "source": [
    "def autodoc_skip_member_handler(app, what, name, obj, skip, options):\n",
    "    \"\"\"Handler for autodoc-skip-member event.\"\"\"\n",
    "    # Celery tasks created with the @task decorator have the property\n",
    "    # that *obj.__doc__* and *obj.__class__.__doc__* are equal, which\n",
    "    # trips up the logic in sphinx.ext.autodoc that is supposed to\n",
    "    # suppress repetition of class documentation in an instance of the\n",
    "    # class. This overrides that behavior.\n",
    "    if isinstance(obj, BaseTask) and getattr(obj, \"__wrapped__\"):\n",
    "        if skip:\n",
    "            return False\n",
    "    return None"
   ]
  },
  {
   "cell_type": "markdown",
   "metadata": {},
   "source": []
  },
  {
   "cell_type": "code",
   "execution_count": null,
   "metadata": {},
   "outputs": [],
   "source": [
    "def setup(app):\n",
    "    \"\"\"Setup Sphinx extension.\"\"\"\n",
    "    app.setup_extension(\"sphinx.ext.autodoc\")\n",
    "    app.add_autodocumenter(TaskDocumenter)\n",
    "    app.add_directive_to_domain(\"py\", \"task\", TaskDirective)\n",
    "    app.add_config_value(\"celery_task_prefix\", \"(task)\", True)\n",
    "    app.connect(\"autodoc-skip-member\", autodoc_skip_member_handler)\n",
    "\n",
    "    return {\"parallel_read_safe\": True}"
   ]
  },
  {
   "cell_type": "markdown",
   "metadata": {},
   "source": []
  }
 ],
 "metadata": {
  "language_info": {
   "name": "python"
  }
 },
 "nbformat": 4,
 "nbformat_minor": 2
}