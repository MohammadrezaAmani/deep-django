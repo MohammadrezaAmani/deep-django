{
 "cells": [
  {
   "cell_type": "code",
   "execution_count": null,
   "metadata": {},
   "outputs": [],
   "source": [
    "\"\"\"Fixtures and testing utilities for :pypi:`pytest <pytest>`.\"\"\"\n",
    "import os\n",
    "from contextlib import contextmanager\n",
    "from typing import TYPE_CHECKING, Any, Mapping, Sequence, Union  # noqa\n",
    "\n",
    "import pytest\n",
    "\n",
    "if TYPE_CHECKING:\n",
    "    from celery import Celery\n",
    "\n",
    "    from ..worker import WorkController\n",
    "else:\n",
    "    Celery = WorkController = object"
   ]
  },
  {
   "cell_type": "markdown",
   "metadata": {},
   "source": []
  },
  {
   "cell_type": "code",
   "execution_count": null,
   "metadata": {},
   "outputs": [],
   "source": [
    "NO_WORKER = os.environ.get(\"NO_WORKER\")\n",
    "\n",
    "# pylint: disable=redefined-outer-name\n",
    "# Well, they're called fixtures...."
   ]
  },
  {
   "cell_type": "markdown",
   "metadata": {},
   "source": []
  },
  {
   "cell_type": "code",
   "execution_count": null,
   "metadata": {},
   "outputs": [],
   "source": [
    "def pytest_configure(config):\n",
    "    \"\"\"Register additional pytest configuration.\"\"\"\n",
    "    # add the pytest.mark.celery() marker registration to the pytest.ini [markers] section\n",
    "    # this prevents pytest 4.5 and newer from issuing a warning about an unknown marker\n",
    "    # and shows helpful marker documentation when running pytest --markers.\n",
    "    config.addinivalue_line(\n",
    "        \"markers\", \"celery(**overrides): override celery configuration for a test case\"\n",
    "    )"
   ]
  },
  {
   "cell_type": "markdown",
   "metadata": {},
   "source": []
  },
  {
   "cell_type": "code",
   "execution_count": null,
   "metadata": {},
   "outputs": [],
   "source": [
    "@contextmanager\n",
    "def _create_app(enable_logging=False, use_trap=False, parameters=None, **config):\n",
    "    # type: (Any, Any, Any, **Any) -> Celery\n",
    "    \"\"\"Utility context used to setup Celery app for pytest fixtures.\"\"\"\n",
    "\n",
    "    from .testing.app import TestApp, setup_default_app\n",
    "\n",
    "    parameters = {} if not parameters else parameters\n",
    "    test_app = TestApp(\n",
    "        set_as_current=False, enable_logging=enable_logging, config=config, **parameters\n",
    "    )\n",
    "    with setup_default_app(test_app, use_trap=use_trap):\n",
    "        yield test_app"
   ]
  },
  {
   "cell_type": "markdown",
   "metadata": {},
   "source": []
  },
  {
   "cell_type": "code",
   "execution_count": null,
   "metadata": {},
   "outputs": [],
   "source": [
    "@pytest.fixture(scope=\"session\")\n",
    "def use_celery_app_trap():\n",
    "    # type: () -> bool\n",
    "    \"\"\"You can override this fixture to enable the app trap.\n",
    "\n",
    "    The app trap raises an exception whenever something attempts\n",
    "    to use the current or default apps.\n",
    "    \"\"\"\n",
    "    return False"
   ]
  },
  {
   "cell_type": "markdown",
   "metadata": {},
   "source": []
  },
  {
   "cell_type": "code",
   "execution_count": null,
   "metadata": {},
   "outputs": [],
   "source": [
    "@pytest.fixture(scope=\"session\")\n",
    "def celery_session_app(\n",
    "    request,\n",
    "    celery_config,\n",
    "    celery_parameters,\n",
    "    celery_enable_logging,\n",
    "    use_celery_app_trap,\n",
    "):\n",
    "    # type: (Any, Any, Any, Any, Any) -> Celery\n",
    "    \"\"\"Session Fixture: Return app for session fixtures.\"\"\"\n",
    "    mark = request.node.get_closest_marker(\"celery\")\n",
    "    config = dict(celery_config, **mark.kwargs if mark else {})\n",
    "    with _create_app(\n",
    "        enable_logging=celery_enable_logging,\n",
    "        use_trap=use_celery_app_trap,\n",
    "        parameters=celery_parameters,\n",
    "        **config\n",
    "    ) as app:\n",
    "        if not use_celery_app_trap:\n",
    "            app.set_default()\n",
    "            app.set_current()\n",
    "        yield app"
   ]
  },
  {
   "cell_type": "markdown",
   "metadata": {},
   "source": []
  },
  {
   "cell_type": "code",
   "execution_count": null,
   "metadata": {},
   "outputs": [],
   "source": [
    "@pytest.fixture(scope=\"session\")\n",
    "def celery_session_worker(\n",
    "    request,  # type: Any\n",
    "    celery_session_app,  # type: Celery\n",
    "    celery_includes,  # type: Sequence[str]\n",
    "    celery_class_tasks,  # type: str\n",
    "    celery_worker_pool,  # type: Any\n",
    "    celery_worker_parameters,  # type: Mapping[str, Any]\n",
    "):\n",
    "    # type: (...) -> WorkController\n",
    "    \"\"\"Session Fixture: Start worker that lives throughout test suite.\"\"\"\n",
    "    from .testing import worker\n",
    "\n",
    "    if not NO_WORKER:\n",
    "        for module in celery_includes:\n",
    "            celery_session_app.loader.import_task_module(module)\n",
    "        for class_task in celery_class_tasks:\n",
    "            celery_session_app.register_task(class_task)\n",
    "        with worker.start_worker(\n",
    "            celery_session_app, pool=celery_worker_pool, **celery_worker_parameters\n",
    "        ) as w:\n",
    "            yield w"
   ]
  },
  {
   "cell_type": "markdown",
   "metadata": {},
   "source": []
  },
  {
   "cell_type": "code",
   "execution_count": null,
   "metadata": {},
   "outputs": [],
   "source": [
    "@pytest.fixture(scope=\"session\")\n",
    "def celery_enable_logging():\n",
    "    # type: () -> bool\n",
    "    \"\"\"You can override this fixture to enable logging.\"\"\"\n",
    "    return False"
   ]
  },
  {
   "cell_type": "markdown",
   "metadata": {},
   "source": []
  },
  {
   "cell_type": "code",
   "execution_count": null,
   "metadata": {},
   "outputs": [],
   "source": [
    "@pytest.fixture(scope=\"session\")\n",
    "def celery_includes():\n",
    "    # type: () -> Sequence[str]\n",
    "    \"\"\"You can override this include modules when a worker start.\n",
    "\n",
    "    You can have this return a list of module names to import,\n",
    "    these can be task modules, modules registering signals, and so on.\n",
    "    \"\"\"\n",
    "    return ()"
   ]
  },
  {
   "cell_type": "markdown",
   "metadata": {},
   "source": []
  },
  {
   "cell_type": "code",
   "execution_count": null,
   "metadata": {},
   "outputs": [],
   "source": [
    "@pytest.fixture(scope=\"session\")\n",
    "def celery_worker_pool():\n",
    "    # type: () -> Union[str, Any]\n",
    "    \"\"\"You can override this fixture to set the worker pool.\n",
    "\n",
    "    The \"solo\" pool is used by default, but you can set this to\n",
    "    return e.g. \"prefork\".\n",
    "    \"\"\"\n",
    "    return \"solo\""
   ]
  },
  {
   "cell_type": "markdown",
   "metadata": {},
   "source": []
  },
  {
   "cell_type": "code",
   "execution_count": null,
   "metadata": {},
   "outputs": [],
   "source": [
    "@pytest.fixture(scope=\"session\")\n",
    "def celery_config():\n",
    "    # type: () -> Mapping[str, Any]\n",
    "    \"\"\"Redefine this fixture to configure the test Celery app.\n",
    "\n",
    "    The config returned by your fixture will then be used\n",
    "    to configure the :func:`celery_app` fixture.\n",
    "    \"\"\"\n",
    "    return {}"
   ]
  },
  {
   "cell_type": "markdown",
   "metadata": {},
   "source": []
  },
  {
   "cell_type": "code",
   "execution_count": null,
   "metadata": {},
   "outputs": [],
   "source": [
    "@pytest.fixture(scope=\"session\")\n",
    "def celery_parameters():\n",
    "    # type: () -> Mapping[str, Any]\n",
    "    \"\"\"Redefine this fixture to change the init parameters of test Celery app.\n",
    "\n",
    "    The dict returned by your fixture will then be used\n",
    "    as parameters when instantiating :class:`~celery.Celery`.\n",
    "    \"\"\"\n",
    "    return {}"
   ]
  },
  {
   "cell_type": "markdown",
   "metadata": {},
   "source": []
  },
  {
   "cell_type": "code",
   "execution_count": null,
   "metadata": {},
   "outputs": [],
   "source": [
    "@pytest.fixture(scope=\"session\")\n",
    "def celery_worker_parameters():\n",
    "    # type: () -> Mapping[str, Any]\n",
    "    \"\"\"Redefine this fixture to change the init parameters of Celery workers.\n",
    "\n",
    "    This can be used e. g. to define queues the worker will consume tasks from.\n",
    "\n",
    "    The dict returned by your fixture will then be used\n",
    "    as parameters when instantiating :class:`~celery.worker.WorkController`.\n",
    "    \"\"\"\n",
    "    return {}"
   ]
  },
  {
   "cell_type": "markdown",
   "metadata": {},
   "source": []
  },
  {
   "cell_type": "code",
   "execution_count": null,
   "metadata": {},
   "outputs": [],
   "source": [
    "@pytest.fixture()\n",
    "def celery_app(\n",
    "    request,\n",
    "    celery_config,\n",
    "    celery_parameters,\n",
    "    celery_enable_logging,\n",
    "    use_celery_app_trap,\n",
    "):\n",
    "    \"\"\"Fixture creating a Celery application instance.\"\"\"\n",
    "    mark = request.node.get_closest_marker(\"celery\")\n",
    "    config = dict(celery_config, **mark.kwargs if mark else {})\n",
    "    with _create_app(\n",
    "        enable_logging=celery_enable_logging,\n",
    "        use_trap=use_celery_app_trap,\n",
    "        parameters=celery_parameters,\n",
    "        **config\n",
    "    ) as app:\n",
    "        yield app"
   ]
  },
  {
   "cell_type": "markdown",
   "metadata": {},
   "source": []
  },
  {
   "cell_type": "code",
   "execution_count": null,
   "metadata": {},
   "outputs": [],
   "source": [
    "@pytest.fixture(scope=\"session\")\n",
    "def celery_class_tasks():\n",
    "    \"\"\"Redefine this fixture to register tasks with the test Celery app.\"\"\"\n",
    "    return []"
   ]
  },
  {
   "cell_type": "markdown",
   "metadata": {},
   "source": []
  },
  {
   "cell_type": "code",
   "execution_count": null,
   "metadata": {},
   "outputs": [],
   "source": [
    "@pytest.fixture()\n",
    "def celery_worker(\n",
    "    request, celery_app, celery_includes, celery_worker_pool, celery_worker_parameters\n",
    "):\n",
    "    # type: (Any, Celery, Sequence[str], str, Any) -> WorkController\n",
    "    \"\"\"Fixture: Start worker in a thread, stop it when the test returns.\"\"\"\n",
    "    from .testing import worker\n",
    "\n",
    "    if not NO_WORKER:\n",
    "        for module in celery_includes:\n",
    "            celery_app.loader.import_task_module(module)\n",
    "        with worker.start_worker(\n",
    "            celery_app, pool=celery_worker_pool, **celery_worker_parameters\n",
    "        ) as w:\n",
    "            yield w"
   ]
  },
  {
   "cell_type": "markdown",
   "metadata": {},
   "source": []
  },
  {
   "cell_type": "code",
   "execution_count": null,
   "metadata": {},
   "outputs": [],
   "source": [
    "@pytest.fixture()\n",
    "def depends_on_current_app(celery_app):\n",
    "    \"\"\"Fixture that sets app as current.\"\"\"\n",
    "    celery_app.set_current()"
   ]
  },
  {
   "cell_type": "markdown",
   "metadata": {},
   "source": []
  }
 ],
 "metadata": {
  "language_info": {
   "name": "python"
  }
 },
 "nbformat": 4,
 "nbformat_minor": 2
}