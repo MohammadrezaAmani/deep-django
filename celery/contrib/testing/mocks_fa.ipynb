{
 "cells": [
  {
   "cell_type": "code",
   "execution_count": null,
   "metadata": {},
   "outputs": [],
   "source": [
    "\"\"\"Useful mocks for unit testing.\"\"\"\n",
    "import numbers\n",
    "from datetime import datetime, timedelta\n",
    "from typing import Any, Mapping, Sequence  # noqa\n",
    "from unittest.mock import Mock\n",
    "\n",
    "from celery import Celery  # noqa\n",
    "from celery.canvas import Signature  # noqa"
   ]
  },
  {
   "cell_type": "markdown",
   "metadata": {},
   "source": []
  },
  {
   "cell_type": "code",
   "execution_count": null,
   "metadata": {},
   "outputs": [],
   "source": [
    "def TaskMessage(\n",
    "    name,  # type: str\n",
    "    id=None,  # type: str\n",
    "    args=(),  # type: Sequence\n",
    "    kwargs=None,  # type: Mapping\n",
    "    callbacks=None,  # type: Sequence[Signature]\n",
    "    errbacks=None,  # type: Sequence[Signature]\n",
    "    chain=None,  # type: Sequence[Signature]\n",
    "    shadow=None,  # type: str\n",
    "    utc=None,  # type: bool\n",
    "    **options,  # type: Any\n",
    "):\n",
    "    # type: (...) -> Any\n",
    "    \"\"\"Create task message in protocol 2 format.\"\"\"\n",
    "    kwargs = {} if not kwargs else kwargs\n",
    "    from kombu.serialization import dumps\n",
    "\n",
    "    from celery import uuid\n",
    "\n",
    "    id = id or uuid()\n",
    "    message = Mock(name=f\"TaskMessage-{id}\")\n",
    "    message.headers = {\n",
    "        \"id\": id,\n",
    "        \"task\": name,\n",
    "        \"shadow\": shadow,\n",
    "    }\n",
    "    embed = {\"callbacks\": callbacks, \"errbacks\": errbacks, \"chain\": chain}\n",
    "    message.headers.update(options)\n",
    "    message.content_type, message.content_encoding, message.body = dumps(\n",
    "        (args, kwargs, embed),\n",
    "        serializer=\"json\",\n",
    "    )\n",
    "    message.payload = (args, kwargs, embed)\n",
    "    return message"
   ]
  },
  {
   "cell_type": "markdown",
   "metadata": {},
   "source": []
  },
  {
   "cell_type": "code",
   "execution_count": null,
   "metadata": {},
   "outputs": [],
   "source": [
    "def TaskMessage1(\n",
    "    name,  # type: str\n",
    "    id=None,  # type: str\n",
    "    args=(),  # type: Sequence\n",
    "    kwargs=None,  # type: Mapping\n",
    "    callbacks=None,  # type: Sequence[Signature]\n",
    "    errbacks=None,  # type: Sequence[Signature]\n",
    "    chain=None,  # type: Sequence[Signature]\n",
    "    **options,  # type: Any\n",
    "):\n",
    "    # type: (...) -> Any\n",
    "    \"\"\"Create task message in protocol 1 format.\"\"\"\n",
    "    kwargs = {} if not kwargs else kwargs\n",
    "    from kombu.serialization import dumps\n",
    "\n",
    "    from celery import uuid\n",
    "\n",
    "    id = id or uuid()\n",
    "    message = Mock(name=f\"TaskMessage-{id}\")\n",
    "    message.headers = {}\n",
    "    message.payload = {\n",
    "        \"task\": name,\n",
    "        \"id\": id,\n",
    "        \"args\": args,\n",
    "        \"kwargs\": kwargs,\n",
    "        \"callbacks\": callbacks,\n",
    "        \"errbacks\": errbacks,\n",
    "    }\n",
    "    message.payload.update(options)\n",
    "    message.content_type, message.content_encoding, message.body = dumps(\n",
    "        message.payload,\n",
    "    )\n",
    "    return message"
   ]
  },
  {
   "cell_type": "markdown",
   "metadata": {},
   "source": []
  },
  {
   "cell_type": "code",
   "execution_count": null,
   "metadata": {},
   "outputs": [],
   "source": [
    "def task_message_from_sig(app, sig, utc=True, TaskMessage=TaskMessage):\n",
    "    # type: (Celery, Signature, bool, Any) -> Any\n",
    "    \"\"\"Create task message from :class:`celery.Signature`.\n",
    "\n",
    "    Example:\n",
    "        >>> m = task_message_from_sig(app, add.s(2, 2))\n",
    "        >>> amqp_client.basic_publish(m, exchange='ex', routing_key='rkey')\n",
    "    \"\"\"\n",
    "    sig.freeze()\n",
    "    callbacks = sig.options.pop(\"link\", None)\n",
    "    errbacks = sig.options.pop(\"link_error\", None)\n",
    "    countdown = sig.options.pop(\"countdown\", None)\n",
    "    if countdown:\n",
    "        eta = app.now() + timedelta(seconds=countdown)\n",
    "    else:\n",
    "        eta = sig.options.pop(\"eta\", None)\n",
    "    if eta and isinstance(eta, datetime):\n",
    "        eta = eta.isoformat()\n",
    "    expires = sig.options.pop(\"expires\", None)\n",
    "    if expires and isinstance(expires, numbers.Real):\n",
    "        expires = app.now() + timedelta(seconds=expires)\n",
    "    if expires and isinstance(expires, datetime):\n",
    "        expires = expires.isoformat()\n",
    "    return TaskMessage(\n",
    "        sig.task,\n",
    "        id=sig.id,\n",
    "        args=sig.args,\n",
    "        kwargs=sig.kwargs,\n",
    "        callbacks=[dict(s) for s in callbacks] if callbacks else None,\n",
    "        errbacks=[dict(s) for s in errbacks] if errbacks else None,\n",
    "        eta=eta,\n",
    "        expires=expires,\n",
    "        utc=utc,\n",
    "        **sig.options,\n",
    "    )"
   ]
  },
  {
   "cell_type": "markdown",
   "metadata": {},
   "source": []
  },
  {
   "cell_type": "code",
   "execution_count": null,
   "metadata": {},
   "outputs": [],
   "source": [
    "class _ContextMock(Mock):\n",
    "    \"\"\"Dummy class implementing __enter__ and __exit__.\n",
    "\n",
    "    The :keyword:`with` statement requires these to be implemented\n",
    "    in the class, not just the instance.\n",
    "    \"\"\"\n",
    "\n",
    "    def __enter__(self):\n",
    "        return self\n",
    "\n",
    "    def __exit__(self, *exc_info):\n",
    "        pass"
   ]
  },
  {
   "cell_type": "markdown",
   "metadata": {},
   "source": []
  },
  {
   "cell_type": "code",
   "execution_count": null,
   "metadata": {},
   "outputs": [],
   "source": [
    "def ContextMock(*args, **kwargs):\n",
    "    \"\"\"Mock that mocks :keyword:`with` statement contexts.\"\"\"\n",
    "    obj = _ContextMock(*args, **kwargs)\n",
    "    obj.attach_mock(_ContextMock(), \"__enter__\")\n",
    "    obj.attach_mock(_ContextMock(), \"__exit__\")\n",
    "    obj.__enter__.return_value = obj\n",
    "    # if __exit__ return a value the exception is ignored,\n",
    "    # so it must return None here.\n",
    "    obj.__exit__.return_value = None\n",
    "    return obj"
   ]
  },
  {
   "cell_type": "markdown",
   "metadata": {},
   "source": []
  }
 ],
 "metadata": {
  "language_info": {
   "name": "python"
  }
 },
 "nbformat": 4,
 "nbformat_minor": 2
}