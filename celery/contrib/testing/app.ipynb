{
 "cells": [
  {
   "cell_type": "code",
   "execution_count": null,
   "metadata": {},
   "outputs": [],
   "source": [
    "\"\"\"Create Celery app instances used for testing.\"\"\"\n",
    "import weakref\n",
    "from contextlib import contextmanager\n",
    "from copy import deepcopy\n",
    "\n",
    "from kombu.utils.imports import symbol_by_name\n",
    "\n",
    "from celery import Celery, _state\n",
    "\n",
    "#: Contains the default configuration values for the test app.\n",
    "DEFAULT_TEST_CONFIG = {\n",
    "    \"worker_hijack_root_logger\": False,\n",
    "    \"worker_log_color\": False,\n",
    "    \"accept_content\": {\"json\"},\n",
    "    \"enable_utc\": True,\n",
    "    \"timezone\": \"UTC\",\n",
    "    \"broker_url\": \"memory://\",\n",
    "    \"result_backend\": \"cache+memory://\",\n",
    "    \"broker_heartbeat\": 0,\n",
    "}"
   ]
  },
  {
   "cell_type": "markdown",
   "metadata": {},
   "source": []
  },
  {
   "cell_type": "code",
   "execution_count": null,
   "metadata": {},
   "outputs": [],
   "source": [
    "class Trap:\n",
    "    \"\"\"Trap that pretends to be an app but raises an exception instead.\n",
    "\n",
    "    This to protect from code that does not properly pass app instances,\n",
    "    then falls back to the current_app.\n",
    "    \"\"\"\n",
    "\n",
    "    def __getattr__(self, name):\n",
    "        # Workaround to allow unittest.mock to patch this object\n",
    "        # in Python 3.8 and above.\n",
    "        if name == \"_is_coroutine\" or name == \"__func__\":\n",
    "            return None\n",
    "        print(name)\n",
    "        raise RuntimeError(\"Test depends on current_app\")"
   ]
  },
  {
   "cell_type": "markdown",
   "metadata": {},
   "source": []
  },
  {
   "cell_type": "code",
   "execution_count": null,
   "metadata": {},
   "outputs": [],
   "source": [
    "class UnitLogging(symbol_by_name(Celery.log_cls)):\n",
    "    \"\"\"Sets up logging for the test application.\"\"\"\n",
    "\n",
    "    def __init__(self, *args, **kwargs):\n",
    "        super().__init__(*args, **kwargs)\n",
    "        self.already_setup = True"
   ]
  },
  {
   "cell_type": "markdown",
   "metadata": {},
   "source": []
  },
  {
   "cell_type": "code",
   "execution_count": null,
   "metadata": {},
   "outputs": [],
   "source": [
    "def TestApp(\n",
    "    name=None,\n",
    "    config=None,\n",
    "    enable_logging=False,\n",
    "    set_as_current=False,\n",
    "    log=UnitLogging,\n",
    "    backend=None,\n",
    "    broker=None,\n",
    "    **kwargs\n",
    "):\n",
    "    \"\"\"App used for testing.\"\"\"\n",
    "    from . import tasks  # noqa\n",
    "\n",
    "    config = dict(deepcopy(DEFAULT_TEST_CONFIG), **config or {})\n",
    "    if broker is not None:\n",
    "        config.pop(\"broker_url\", None)\n",
    "    if backend is not None:\n",
    "        config.pop(\"result_backend\", None)\n",
    "    log = None if enable_logging else log\n",
    "    test_app = Celery(\n",
    "        name or \"celery.tests\",\n",
    "        set_as_current=set_as_current,\n",
    "        log=log,\n",
    "        broker=broker,\n",
    "        backend=backend,\n",
    "        **kwargs\n",
    "    )\n",
    "    test_app.add_defaults(config)\n",
    "    return test_app"
   ]
  },
  {
   "cell_type": "markdown",
   "metadata": {},
   "source": []
  },
  {
   "cell_type": "code",
   "execution_count": null,
   "metadata": {},
   "outputs": [],
   "source": [
    "@contextmanager\n",
    "def set_trap(app):\n",
    "    \"\"\"Contextmanager that installs the trap app.\n",
    "\n",
    "    The trap means that anything trying to use the current or default app\n",
    "    will raise an exception.\n",
    "    \"\"\"\n",
    "    trap = Trap()\n",
    "    prev_tls = _state._tls\n",
    "    _state.set_default_app(trap)\n",
    "\n",
    "    class NonTLS:\n",
    "        current_app = trap\n",
    "\n",
    "    _state._tls = NonTLS()\n",
    "\n",
    "    try:\n",
    "        yield\n",
    "    finally:\n",
    "        _state._tls = prev_tls"
   ]
  },
  {
   "cell_type": "markdown",
   "metadata": {},
   "source": []
  },
  {
   "cell_type": "code",
   "execution_count": null,
   "metadata": {},
   "outputs": [],
   "source": [
    "@contextmanager\n",
    "def setup_default_app(app, use_trap=False):\n",
    "    \"\"\"Setup default app for testing.\n",
    "\n",
    "    Ensures state is clean after the test returns.\n",
    "    \"\"\"\n",
    "    prev_current_app = _state.get_current_app()\n",
    "    prev_default_app = _state.default_app\n",
    "    prev_finalizers = set(_state._on_app_finalizers)\n",
    "    prev_apps = weakref.WeakSet(_state._apps)\n",
    "\n",
    "    try:\n",
    "        if use_trap:\n",
    "            with set_trap(app):\n",
    "                yield\n",
    "        else:\n",
    "            yield\n",
    "    finally:\n",
    "        _state.set_default_app(prev_default_app)\n",
    "        _state._tls.current_app = prev_current_app\n",
    "        if app is not prev_current_app:\n",
    "            app.close()\n",
    "        _state._on_app_finalizers = prev_finalizers\n",
    "        _state._apps = prev_apps"
   ]
  },
  {
   "cell_type": "markdown",
   "metadata": {},
   "source": []
  }
 ],
 "metadata": {
  "language_info": {
   "name": "python"
  }
 },
 "nbformat": 4,
 "nbformat_minor": 2
}