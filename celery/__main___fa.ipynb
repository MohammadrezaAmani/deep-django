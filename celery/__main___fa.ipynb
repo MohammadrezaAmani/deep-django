{
 "cells": [
  {
   "cell_type": "code",
   "execution_count": null,
   "metadata": {},
   "outputs": [],
   "source": [
    "\"\"\"Entry-point for the :program:`celery` umbrella command.\"\"\"\n",
    "\n",
    "import sys\n",
    "\n",
    "from . import maybe_patch_concurrency\n",
    "\n",
    "__all__ = (\"main\",)"
   ]
  },
  {
   "cell_type": "markdown",
   "metadata": {},
   "source": []
  },
  {
   "cell_type": "code",
   "execution_count": null,
   "metadata": {},
   "outputs": [],
   "source": [
    "def main() -> None:\n",
    "    \"\"\"Entrypoint to the ``celery`` umbrella command.\"\"\"\n",
    "    if \"multi\" not in sys.argv:\n",
    "        maybe_patch_concurrency()\n",
    "    from celery.bin.celery import main as _main\n",
    "\n",
    "    sys.exit(_main())"
   ]
  },
  {
   "cell_type": "markdown",
   "metadata": {},
   "source": []
  },
  {
   "cell_type": "code",
   "execution_count": null,
   "metadata": {},
   "outputs": [],
   "source": [
    "if __name__ == \"__main__\":  # pragma: no cover\n",
    "    main()"
   ]
  },
  {
   "cell_type": "markdown",
   "metadata": {},
   "source": []
  }
 ],
 "metadata": {
  "language_info": {
   "name": "python"
  }
 },
 "nbformat": 4,
 "nbformat_minor": 2
}