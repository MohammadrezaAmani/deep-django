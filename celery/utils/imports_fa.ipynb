{
 "cells": [
  {
   "cell_type": "code",
   "execution_count": null,
   "metadata": {},
   "outputs": [],
   "source": [
    "\"\"\"Utilities related to importing modules and symbols by name.\"\"\"\n",
    "import os\n",
    "import sys\n",
    "import warnings\n",
    "from contextlib import contextmanager\n",
    "from importlib import import_module, reload\n",
    "\n",
    "try:\n",
    "    from importlib.metadata import entry_points\n",
    "except ImportError:\n",
    "    from importlib_metadata import entry_points\n",
    "\n",
    "from kombu.utils.imports import symbol_by_name\n",
    "\n",
    "#: Billiard sets this when execv is enabled.\n",
    "#: We use it to find out the name of the original ``__main__``\n",
    "#: module, so that we can properly rewrite the name of the\n",
    "#: task to be that of ``App.main``.\n",
    "MP_MAIN_FILE = os.environ.get(\"MP_MAIN_FILE\")\n",
    "\n",
    "__all__ = (\n",
    "    \"NotAPackage\",\n",
    "    \"qualname\",\n",
    "    \"instantiate\",\n",
    "    \"symbol_by_name\",\n",
    "    \"cwd_in_path\",\n",
    "    \"find_module\",\n",
    "    \"import_from_cwd\",\n",
    "    \"reload_from_cwd\",\n",
    "    \"module_file\",\n",
    "    \"gen_task_name\",\n",
    ")"
   ]
  },
  {
   "cell_type": "markdown",
   "metadata": {},
   "source": []
  },
  {
   "cell_type": "code",
   "execution_count": null,
   "metadata": {},
   "outputs": [],
   "source": [
    "class NotAPackage(Exception):\n",
    "    \"\"\"Raised when importing a package, but it's not a package.\"\"\""
   ]
  },
  {
   "cell_type": "markdown",
   "metadata": {},
   "source": []
  },
  {
   "cell_type": "code",
   "execution_count": null,
   "metadata": {},
   "outputs": [],
   "source": [
    "def qualname(obj):\n",
    "    \"\"\"Return object name.\"\"\"\n",
    "    if not hasattr(obj, \"__name__\") and hasattr(obj, \"__class__\"):\n",
    "        obj = obj.__class__\n",
    "    q = getattr(obj, \"__qualname__\", None)\n",
    "    if \".\" not in q:\n",
    "        q = \".\".join((obj.__module__, q))\n",
    "    return q"
   ]
  },
  {
   "cell_type": "markdown",
   "metadata": {},
   "source": []
  },
  {
   "cell_type": "code",
   "execution_count": null,
   "metadata": {},
   "outputs": [],
   "source": [
    "def instantiate(name, *args, **kwargs):\n",
    "    \"\"\"Instantiate class by name.\n",
    "\n",
    "    See Also:\n",
    "        :func:`symbol_by_name`.\n",
    "    \"\"\"\n",
    "    return symbol_by_name(name)(*args, **kwargs)"
   ]
  },
  {
   "cell_type": "markdown",
   "metadata": {},
   "source": []
  },
  {
   "cell_type": "code",
   "execution_count": null,
   "metadata": {},
   "outputs": [],
   "source": [
    "@contextmanager\n",
    "def cwd_in_path():\n",
    "    \"\"\"Context adding the current working directory to sys.path.\"\"\"\n",
    "    try:\n",
    "        cwd = os.getcwd()\n",
    "    except FileNotFoundError:\n",
    "        cwd = None\n",
    "    if not cwd:\n",
    "        yield\n",
    "    elif cwd in sys.path:\n",
    "        yield\n",
    "    else:\n",
    "        sys.path.insert(0, cwd)\n",
    "        try:\n",
    "            yield cwd\n",
    "        finally:\n",
    "            try:\n",
    "                sys.path.remove(cwd)\n",
    "            except ValueError:  # pragma: no cover\n",
    "                pass"
   ]
  },
  {
   "cell_type": "markdown",
   "metadata": {},
   "source": []
  },
  {
   "cell_type": "code",
   "execution_count": null,
   "metadata": {},
   "outputs": [],
   "source": [
    "def find_module(module, path=None, imp=None):\n",
    "    \"\"\"Version of :func:`imp.find_module` supporting dots.\"\"\"\n",
    "    if imp is None:\n",
    "        imp = import_module\n",
    "    with cwd_in_path():\n",
    "        try:\n",
    "            return imp(module)\n",
    "        except ImportError:\n",
    "            # Raise a more specific error if the problem is that one of the\n",
    "            # dot-separated segments of the module name is not a package.\n",
    "            if \".\" in module:\n",
    "                parts = module.split(\".\")\n",
    "                for i, part in enumerate(parts[:-1]):\n",
    "                    package = \".\".join(parts[: i + 1])\n",
    "                    try:\n",
    "                        mpart = imp(package)\n",
    "                    except ImportError:\n",
    "                        # Break out and re-raise the original ImportError\n",
    "                        # instead.\n",
    "                        break\n",
    "                    try:\n",
    "                        mpart.__path__\n",
    "                    except AttributeError:\n",
    "                        raise NotAPackage(package)\n",
    "            raise"
   ]
  },
  {
   "cell_type": "markdown",
   "metadata": {},
   "source": []
  },
  {
   "cell_type": "code",
   "execution_count": null,
   "metadata": {},
   "outputs": [],
   "source": [
    "def import_from_cwd(module, imp=None, package=None):\n",
    "    \"\"\"Import module, temporarily including modules in the current directory.\n",
    "\n",
    "    Modules located in the current directory has\n",
    "    precedence over modules located in `sys.path`.\n",
    "    \"\"\"\n",
    "    if imp is None:\n",
    "        imp = import_module\n",
    "    with cwd_in_path():\n",
    "        return imp(module, package=package)"
   ]
  },
  {
   "cell_type": "markdown",
   "metadata": {},
   "source": []
  },
  {
   "cell_type": "code",
   "execution_count": null,
   "metadata": {},
   "outputs": [],
   "source": [
    "def reload_from_cwd(module, reloader=None):\n",
    "    \"\"\"Reload module (ensuring that CWD is in sys.path).\"\"\"\n",
    "    if reloader is None:\n",
    "        reloader = reload\n",
    "    with cwd_in_path():\n",
    "        return reloader(module)"
   ]
  },
  {
   "cell_type": "markdown",
   "metadata": {},
   "source": []
  },
  {
   "cell_type": "code",
   "execution_count": null,
   "metadata": {},
   "outputs": [],
   "source": [
    "def module_file(module):\n",
    "    \"\"\"Return the correct original file name of a module.\"\"\"\n",
    "    name = module.__file__\n",
    "    return name[:-1] if name.endswith(\".pyc\") else name"
   ]
  },
  {
   "cell_type": "markdown",
   "metadata": {},
   "source": []
  },
  {
   "cell_type": "code",
   "execution_count": null,
   "metadata": {},
   "outputs": [],
   "source": [
    "def gen_task_name(app, name, module_name):\n",
    "    \"\"\"Generate task name from name/module pair.\"\"\"\n",
    "    module_name = module_name or \"__main__\"\n",
    "    try:\n",
    "        module = sys.modules[module_name]\n",
    "    except KeyError:\n",
    "        # Fix for manage.py shell_plus (Issue #366)\n",
    "        module = None\n",
    "\n",
    "    if module is not None:\n",
    "        module_name = module.__name__\n",
    "        # - If the task module is used as the __main__ script\n",
    "        # - we need to rewrite the module part of the task name\n",
    "        # - to match App.main.\n",
    "        if MP_MAIN_FILE and module.__file__ == MP_MAIN_FILE:\n",
    "            # - see comment about :envvar:`MP_MAIN_FILE` above.\n",
    "            module_name = \"__main__\"\n",
    "    if module_name == \"__main__\" and app.main:\n",
    "        return \".\".join([app.main, name])\n",
    "    return \".\".join(p for p in (module_name, name) if p)"
   ]
  },
  {
   "cell_type": "markdown",
   "metadata": {},
   "source": []
  },
  {
   "cell_type": "code",
   "execution_count": null,
   "metadata": {},
   "outputs": [],
   "source": [
    "def load_extension_class_names(namespace):\n",
    "    if sys.version_info >= (3, 10):\n",
    "        _entry_points = entry_points(group=namespace)\n",
    "    else:\n",
    "        try:\n",
    "            _entry_points = entry_points().get(namespace, [])\n",
    "        except AttributeError:\n",
    "            _entry_points = entry_points().select(group=namespace)\n",
    "    for ep in _entry_points:\n",
    "        yield ep.name, ep.value"
   ]
  },
  {
   "cell_type": "markdown",
   "metadata": {},
   "source": []
  },
  {
   "cell_type": "code",
   "execution_count": null,
   "metadata": {},
   "outputs": [],
   "source": [
    "def load_extension_classes(namespace):\n",
    "    for name, class_name in load_extension_class_names(namespace):\n",
    "        try:\n",
    "            cls = symbol_by_name(class_name)\n",
    "        except (ImportError, SyntaxError) as exc:\n",
    "            warnings.warn(f\"Cannot load {namespace} extension {class_name!r}: {exc!r}\")\n",
    "        else:\n",
    "            yield name, cls"
   ]
  },
  {
   "cell_type": "markdown",
   "metadata": {},
   "source": []
  }
 ],
 "metadata": {
  "language_info": {
   "name": "python"
  }
 },
 "nbformat": 4,
 "nbformat_minor": 2
}