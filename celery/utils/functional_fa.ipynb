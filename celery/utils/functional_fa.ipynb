{
 "cells": [
  {
   "cell_type": "code",
   "execution_count": null,
   "metadata": {},
   "outputs": [],
   "source": [
    "\"\"\"Functional-style utilities.\"\"\"\n",
    "import inspect\n",
    "from collections import UserList\n",
    "from functools import partial\n",
    "from itertools import islice, tee, zip_longest\n",
    "from typing import Any, Callable\n",
    "\n",
    "from kombu.utils.functional import (\n",
    "    LRUCache,\n",
    "    dictfilter,\n",
    "    is_list,\n",
    "    lazy,\n",
    "    maybe_evaluate,\n",
    "    maybe_list,\n",
    "    memoize,\n",
    ")\n",
    "from vine import promise\n",
    "\n",
    "from celery.utils.log import get_logger\n",
    "\n",
    "logger = get_logger(__name__)\n",
    "\n",
    "__all__ = (\n",
    "    \"LRUCache\",\n",
    "    \"is_list\",\n",
    "    \"maybe_list\",\n",
    "    \"memoize\",\n",
    "    \"mlazy\",\n",
    "    \"noop\",\n",
    "    \"first\",\n",
    "    \"firstmethod\",\n",
    "    \"chunks\",\n",
    "    \"padlist\",\n",
    "    \"mattrgetter\",\n",
    "    \"uniq\",\n",
    "    \"regen\",\n",
    "    \"dictfilter\",\n",
    "    \"lazy\",\n",
    "    \"maybe_evaluate\",\n",
    "    \"head_from_fun\",\n",
    "    \"maybe\",\n",
    "    \"fun_accepts_kwargs\",\n",
    ")\n",
    "\n",
    "FUNHEAD_TEMPLATE = \"\"\"\n",
    "def {fun_name}({fun_args}):\n",
    "    return {fun_value}\n",
    "\"\"\""
   ]
  },
  {
   "cell_type": "markdown",
   "metadata": {},
   "source": []
  },
  {
   "cell_type": "code",
   "execution_count": null,
   "metadata": {},
   "outputs": [],
   "source": [
    "class DummyContext:\n",
    "    def __enter__(self):\n",
    "        return self\n",
    "\n",
    "    def __exit__(self, *exc_info):\n",
    "        pass"
   ]
  },
  {
   "cell_type": "markdown",
   "metadata": {},
   "source": []
  },
  {
   "cell_type": "code",
   "execution_count": null,
   "metadata": {},
   "outputs": [],
   "source": [
    "class mlazy(lazy):\n",
    "    \"\"\"Memoized lazy evaluation.\n",
    "\n",
    "    The function is only evaluated once, every subsequent access\n",
    "    will return the same value.\n",
    "    \"\"\"\n",
    "\n",
    "    #: Set to :const:`True` after the object has been evaluated.\n",
    "    evaluated = False\n",
    "    _value = None\n",
    "\n",
    "    def evaluate(self):\n",
    "        if not self.evaluated:\n",
    "            self._value = super().evaluate()\n",
    "            self.evaluated = True\n",
    "        return self._value"
   ]
  },
  {
   "cell_type": "markdown",
   "metadata": {},
   "source": []
  },
  {
   "cell_type": "code",
   "execution_count": null,
   "metadata": {},
   "outputs": [],
   "source": [
    "def noop(*args, **kwargs):\n",
    "    \"\"\"No operation.\n",
    "\n",
    "    Takes any arguments/keyword arguments and does nothing.\n",
    "    \"\"\""
   ]
  },
  {
   "cell_type": "markdown",
   "metadata": {},
   "source": []
  },
  {
   "cell_type": "code",
   "execution_count": null,
   "metadata": {},
   "outputs": [],
   "source": [
    "def pass1(arg, *args, **kwargs):\n",
    "    \"\"\"Return the first positional argument.\"\"\"\n",
    "    return arg"
   ]
  },
  {
   "cell_type": "markdown",
   "metadata": {},
   "source": []
  },
  {
   "cell_type": "code",
   "execution_count": null,
   "metadata": {},
   "outputs": [],
   "source": [
    "def evaluate_promises(it):\n",
    "    for value in it:\n",
    "        if isinstance(value, promise):\n",
    "            value = value()\n",
    "        yield value"
   ]
  },
  {
   "cell_type": "markdown",
   "metadata": {},
   "source": []
  },
  {
   "cell_type": "code",
   "execution_count": null,
   "metadata": {},
   "outputs": [],
   "source": [
    "def first(predicate, it):\n",
    "    \"\"\"Return the first element in ``it`` that ``predicate`` accepts.\n",
    "\n",
    "    If ``predicate`` is None it will return the first item that's not\n",
    "    :const:`None`.\n",
    "    \"\"\"\n",
    "    return next(\n",
    "        (\n",
    "            v\n",
    "            for v in evaluate_promises(it)\n",
    "            if (predicate(v) if predicate is not None else v is not None)\n",
    "        ),\n",
    "        None,\n",
    "    )"
   ]
  },
  {
   "cell_type": "markdown",
   "metadata": {},
   "source": []
  },
  {
   "cell_type": "code",
   "execution_count": null,
   "metadata": {},
   "outputs": [],
   "source": [
    "def firstmethod(method, on_call=None):\n",
    "    \"\"\"Multiple dispatch.\n",
    "\n",
    "    Return a function that with a list of instances,\n",
    "    finds the first instance that gives a value for the given method.\n",
    "\n",
    "    The list can also contain lazy instances\n",
    "    (:class:`~kombu.utils.functional.lazy`.)\n",
    "    \"\"\"\n",
    "\n",
    "    def _matcher(it, *args, **kwargs):\n",
    "        for obj in it:\n",
    "            try:\n",
    "                meth = getattr(maybe_evaluate(obj), method)\n",
    "                reply = (\n",
    "                    on_call(meth, *args, **kwargs) if on_call else meth(*args, **kwargs)\n",
    "                )\n",
    "            except AttributeError:\n",
    "                pass\n",
    "            else:\n",
    "                if reply is not None:\n",
    "                    return reply\n",
    "\n",
    "    return _matcher"
   ]
  },
  {
   "cell_type": "markdown",
   "metadata": {},
   "source": []
  },
  {
   "cell_type": "code",
   "execution_count": null,
   "metadata": {},
   "outputs": [],
   "source": [
    "def chunks(it, n):\n",
    "    \"\"\"Split an iterator into chunks with `n` elements each.\n",
    "\n",
    "    Warning:\n",
    "        ``it`` must be an actual iterator, if you pass this a\n",
    "        concrete sequence will get you repeating elements.\n",
    "\n",
    "        So ``chunks(iter(range(1000)), 10)`` is fine, but\n",
    "        ``chunks(range(1000), 10)`` is not.\n",
    "\n",
    "    Example:\n",
    "        # n == 2\n",
    "        >>> x = chunks(iter([0, 1, 2, 3, 4, 5, 6, 7, 8, 9, 10]), 2)\n",
    "        >>> list(x)\n",
    "        [[0, 1], [2, 3], [4, 5], [6, 7], [8, 9], [10]]\n",
    "\n",
    "        # n == 3\n",
    "        >>> x = chunks(iter([0, 1, 2, 3, 4, 5, 6, 7, 8, 9, 10]), 3)\n",
    "        >>> list(x)\n",
    "        [[0, 1, 2], [3, 4, 5], [6, 7, 8], [9, 10]]\n",
    "    \"\"\"\n",
    "    for item in it:\n",
    "        yield [item] + list(islice(it, n - 1))"
   ]
  },
  {
   "cell_type": "markdown",
   "metadata": {},
   "source": []
  },
  {
   "cell_type": "code",
   "execution_count": null,
   "metadata": {},
   "outputs": [],
   "source": [
    "def padlist(container, size, default=None):\n",
    "    \"\"\"Pad list with default elements.\n",
    "\n",
    "    Example:\n",
    "        >>> first, last, city = padlist(['George', 'Costanza', 'NYC'], 3)\n",
    "        ('George', 'Costanza', 'NYC')\n",
    "        >>> first, last, city = padlist(['George', 'Costanza'], 3)\n",
    "        ('George', 'Costanza', None)\n",
    "        >>> first, last, city, planet = padlist(\n",
    "        ...     ['George', 'Costanza', 'NYC'], 4, default='Earth',\n",
    "        ... )\n",
    "        ('George', 'Costanza', 'NYC', 'Earth')\n",
    "    \"\"\"\n",
    "    return list(container)[:size] + [default] * (size - len(container))"
   ]
  },
  {
   "cell_type": "markdown",
   "metadata": {},
   "source": []
  },
  {
   "cell_type": "code",
   "execution_count": null,
   "metadata": {},
   "outputs": [],
   "source": [
    "def mattrgetter(*attrs):\n",
    "    \"\"\"Get attributes, ignoring attribute errors.\n",
    "\n",
    "    Like :func:`operator.itemgetter` but return :const:`None` on missing\n",
    "    attributes instead of raising :exc:`AttributeError`.\n",
    "    \"\"\"\n",
    "    return lambda obj: {attr: getattr(obj, attr, None) for attr in attrs}"
   ]
  },
  {
   "cell_type": "markdown",
   "metadata": {},
   "source": []
  },
  {
   "cell_type": "code",
   "execution_count": null,
   "metadata": {},
   "outputs": [],
   "source": [
    "def uniq(it):\n",
    "    \"\"\"Return all unique elements in ``it``, preserving order.\"\"\"\n",
    "    seen = set()\n",
    "    return (seen.add(obj) or obj for obj in it if obj not in seen)"
   ]
  },
  {
   "cell_type": "markdown",
   "metadata": {},
   "source": []
  },
  {
   "cell_type": "code",
   "execution_count": null,
   "metadata": {},
   "outputs": [],
   "source": [
    "def lookahead(it):\n",
    "    \"\"\"Yield pairs of (current, next) items in `it`.\n",
    "\n",
    "    `next` is None if `current` is the last item.\n",
    "    Example:\n",
    "        >>> list(lookahead(x for x in range(6)))\n",
    "        [(0, 1), (1, 2), (2, 3), (3, 4), (4, 5), (5, None)]\n",
    "    \"\"\"\n",
    "    a, b = tee(it)\n",
    "    next(b, None)\n",
    "    return zip_longest(a, b)"
   ]
  },
  {
   "cell_type": "markdown",
   "metadata": {},
   "source": []
  },
  {
   "cell_type": "code",
   "execution_count": null,
   "metadata": {},
   "outputs": [],
   "source": [
    "def regen(it):\n",
    "    \"\"\"Convert iterator to an object that can be consumed multiple times.\n",
    "\n",
    "    ``Regen`` takes any iterable, and if the object is an\n",
    "    generator it will cache the evaluated list on first access,\n",
    "    so that the generator can be \"consumed\" multiple times.\n",
    "    \"\"\"\n",
    "    if isinstance(it, (list, tuple)):\n",
    "        return it\n",
    "    return _regen(it)"
   ]
  },
  {
   "cell_type": "markdown",
   "metadata": {},
   "source": []
  },
  {
   "cell_type": "code",
   "execution_count": null,
   "metadata": {},
   "outputs": [],
   "source": [
    "class _regen(UserList, list):\n",
    "    # must be subclass of list so that json can encode.\n",
    "\n",
    "    def __init__(self, it):\n",
    "        # pylint: disable=super-init-not-called\n",
    "        # UserList creates a new list and sets .data, so we don't\n",
    "        # want to call init here.\n",
    "        self.__it = it\n",
    "        self.__consumed = []\n",
    "        self.__done = False\n",
    "\n",
    "    def __reduce__(self):\n",
    "        return list, (self.data,)\n",
    "\n",
    "    def map(self, func):\n",
    "        self.__consumed = [func(el) for el in self.__consumed]\n",
    "        self.__it = map(func, self.__it)\n",
    "\n",
    "    def __length_hint__(self):\n",
    "        return self.__it.__length_hint__()\n",
    "\n",
    "    def __lookahead_consume(self, limit=None):\n",
    "        if not self.__done and (limit is None or limit > 0):\n",
    "            it = iter(self.__it)\n",
    "            try:\n",
    "                now = next(it)\n",
    "            except StopIteration:\n",
    "                return\n",
    "            self.__consumed.append(now)\n",
    "            # Maintain a single look-ahead to ensure we set `__done` when the\n",
    "            # underlying iterator gets exhausted\n",
    "            while not self.__done:\n",
    "                try:\n",
    "                    next_ = next(it)\n",
    "                    self.__consumed.append(next_)\n",
    "                except StopIteration:\n",
    "                    self.__done = True\n",
    "                    break\n",
    "                finally:\n",
    "                    yield now\n",
    "                now = next_\n",
    "                # We can break out when `limit` is exhausted\n",
    "                if limit is not None:\n",
    "                    limit -= 1\n",
    "                    if limit <= 0:\n",
    "                        break\n",
    "\n",
    "    def __iter__(self):\n",
    "        yield from self.__consumed\n",
    "        yield from self.__lookahead_consume()\n",
    "\n",
    "    def __getitem__(self, index):\n",
    "        if index < 0:\n",
    "            return self.data[index]\n",
    "        # Consume elements up to the desired index prior to attempting to\n",
    "        # access it from within `__consumed`\n",
    "        consume_count = index - len(self.__consumed) + 1\n",
    "        for _ in self.__lookahead_consume(limit=consume_count):\n",
    "            pass\n",
    "        return self.__consumed[index]\n",
    "\n",
    "    def __bool__(self):\n",
    "        if len(self.__consumed):\n",
    "            return True\n",
    "\n",
    "        try:\n",
    "            next(iter(self))\n",
    "        except StopIteration:\n",
    "            return False\n",
    "        else:\n",
    "            return True\n",
    "\n",
    "    @property\n",
    "    def data(self):\n",
    "        if not self.__done:\n",
    "            self.__consumed.extend(self.__it)\n",
    "            self.__done = True\n",
    "        return self.__consumed\n",
    "\n",
    "    def __repr__(self):\n",
    "        return \"<{}: [{}{}]>\".format(\n",
    "            self.__class__.__name__,\n",
    "            \", \".join(repr(e) for e in self.__consumed),\n",
    "            \"...\" if not self.__done else \"\",\n",
    "        )"
   ]
  },
  {
   "cell_type": "markdown",
   "metadata": {},
   "source": []
  },
  {
   "cell_type": "code",
   "execution_count": null,
   "metadata": {},
   "outputs": [],
   "source": [
    "def _argsfromspec(spec, replace_defaults=True):\n",
    "    if spec.defaults:\n",
    "        split = len(spec.defaults)\n",
    "        defaults = (\n",
    "            list(range(len(spec.defaults))) if replace_defaults else spec.defaults\n",
    "        )\n",
    "        positional = spec.args[:-split]\n",
    "        optional = list(zip(spec.args[-split:], defaults))\n",
    "    else:\n",
    "        positional, optional = spec.args, []\n",
    "\n",
    "    varargs = spec.varargs\n",
    "    varkw = spec.varkw\n",
    "    if spec.kwonlydefaults:\n",
    "        kwonlyargs = set(spec.kwonlyargs) - set(spec.kwonlydefaults.keys())\n",
    "        if replace_defaults:\n",
    "            kwonlyargs_optional = [\n",
    "                (kw, i) for i, kw in enumerate(spec.kwonlydefaults.keys())\n",
    "            ]\n",
    "        else:\n",
    "            kwonlyargs_optional = list(spec.kwonlydefaults.items())\n",
    "    else:\n",
    "        kwonlyargs, kwonlyargs_optional = spec.kwonlyargs, []\n",
    "\n",
    "    return \", \".join(\n",
    "        filter(\n",
    "            None,\n",
    "            [\n",
    "                \", \".join(positional),\n",
    "                \", \".join(f\"{k}={v}\" for k, v in optional),\n",
    "                f\"*{varargs}\" if varargs else None,\n",
    "                \"*\" if (kwonlyargs or kwonlyargs_optional) and not varargs else None,\n",
    "                \", \".join(kwonlyargs) if kwonlyargs else None,\n",
    "                \", \".join(f'{k}=\"{v}\"' for k, v in kwonlyargs_optional),\n",
    "                f\"**{varkw}\" if varkw else None,\n",
    "            ],\n",
    "        )\n",
    "    )"
   ]
  },
  {
   "cell_type": "markdown",
   "metadata": {},
   "source": []
  },
  {
   "cell_type": "code",
   "execution_count": null,
   "metadata": {},
   "outputs": [],
   "source": [
    "def head_from_fun(fun: Callable[..., Any], bound: bool = False) -> str:\n",
    "    \"\"\"Generate signature function from actual function.\"\"\"\n",
    "    # we could use inspect.Signature here, but that implementation\n",
    "    # is very slow since it implements the argument checking\n",
    "    # in pure-Python.  Instead we use exec to create a new function\n",
    "    # with an empty body, meaning it has the same performance as\n",
    "    # as just calling a function.\n",
    "    is_function = inspect.isfunction(fun)\n",
    "    is_callable = callable(fun)\n",
    "    is_cython = fun.__class__.__name__ == \"cython_function_or_method\"\n",
    "    is_method = inspect.ismethod(fun)\n",
    "\n",
    "    if not is_function and is_callable and not is_method and not is_cython:\n",
    "        name, fun = fun.__class__.__name__, fun.__call__\n",
    "    else:\n",
    "        name = fun.__name__\n",
    "    definition = FUNHEAD_TEMPLATE.format(\n",
    "        fun_name=name,\n",
    "        fun_args=_argsfromspec(inspect.getfullargspec(fun)),\n",
    "        fun_value=1,\n",
    "    )\n",
    "    logger.debug(definition)\n",
    "    namespace = {\"__name__\": fun.__module__}\n",
    "    # pylint: disable=exec-used\n",
    "    # Tasks are rarely, if ever, created at runtime - exec here is fine.\n",
    "    exec(definition, namespace)\n",
    "    result = namespace[name]\n",
    "    result._source = definition\n",
    "    if bound:\n",
    "        return partial(result, object())\n",
    "    return result"
   ]
  },
  {
   "cell_type": "markdown",
   "metadata": {},
   "source": []
  },
  {
   "cell_type": "code",
   "execution_count": null,
   "metadata": {},
   "outputs": [],
   "source": [
    "def arity_greater(fun, n):\n",
    "    argspec = inspect.getfullargspec(fun)\n",
    "    return argspec.varargs or len(argspec.args) > n"
   ]
  },
  {
   "cell_type": "markdown",
   "metadata": {},
   "source": []
  },
  {
   "cell_type": "code",
   "execution_count": null,
   "metadata": {},
   "outputs": [],
   "source": [
    "def fun_takes_argument(name, fun, position=None):\n",
    "    spec = inspect.getfullargspec(fun)\n",
    "    return (\n",
    "        spec.varkw\n",
    "        or spec.varargs\n",
    "        or (len(spec.args) >= position if position else name in spec.args)\n",
    "    )"
   ]
  },
  {
   "cell_type": "markdown",
   "metadata": {},
   "source": []
  },
  {
   "cell_type": "code",
   "execution_count": null,
   "metadata": {},
   "outputs": [],
   "source": [
    "def fun_accepts_kwargs(fun):\n",
    "    \"\"\"Return true if function accepts arbitrary keyword arguments.\"\"\"\n",
    "    return any(\n",
    "        p for p in inspect.signature(fun).parameters.values() if p.kind == p.VAR_KEYWORD\n",
    "    )"
   ]
  },
  {
   "cell_type": "markdown",
   "metadata": {},
   "source": []
  },
  {
   "cell_type": "code",
   "execution_count": null,
   "metadata": {},
   "outputs": [],
   "source": [
    "def maybe(typ, val):\n",
    "    \"\"\"Call typ on value if val is defined.\"\"\"\n",
    "    return typ(val) if val is not None else val"
   ]
  },
  {
   "cell_type": "markdown",
   "metadata": {},
   "source": []
  },
  {
   "cell_type": "code",
   "execution_count": null,
   "metadata": {},
   "outputs": [],
   "source": [
    "def seq_concat_item(seq, item):\n",
    "    \"\"\"Return copy of sequence seq with item added.\n",
    "\n",
    "    Returns:\n",
    "        Sequence: if seq is a tuple, the result will be a tuple,\n",
    "           otherwise it depends on the implementation of ``__add__``.\n",
    "    \"\"\"\n",
    "    return seq + (item,) if isinstance(seq, tuple) else seq + [item]"
   ]
  },
  {
   "cell_type": "markdown",
   "metadata": {},
   "source": []
  },
  {
   "cell_type": "code",
   "execution_count": null,
   "metadata": {},
   "outputs": [],
   "source": [
    "def seq_concat_seq(a, b):\n",
    "    \"\"\"Concatenate two sequences: ``a + b``.\n",
    "\n",
    "    Returns:\n",
    "        Sequence: The return value will depend on the largest sequence\n",
    "            - if b is larger and is a tuple, the return value will be a tuple.\n",
    "            - if a is larger and is a list, the return value will be a list,\n",
    "    \"\"\"\n",
    "    # find the type of the largest sequence\n",
    "    prefer = type(max([a, b], key=len))\n",
    "    # convert the smallest list to the type of the largest sequence.\n",
    "    if not isinstance(a, prefer):\n",
    "        a = prefer(a)\n",
    "    if not isinstance(b, prefer):\n",
    "        b = prefer(b)\n",
    "    return a + b"
   ]
  },
  {
   "cell_type": "markdown",
   "metadata": {},
   "source": []
  },
  {
   "cell_type": "code",
   "execution_count": null,
   "metadata": {},
   "outputs": [],
   "source": [
    "def is_numeric_value(value):\n",
    "    return isinstance(value, (int, float)) and not isinstance(value, bool)"
   ]
  },
  {
   "cell_type": "markdown",
   "metadata": {},
   "source": []
  }
 ],
 "metadata": {
  "language_info": {
   "name": "python"
  }
 },
 "nbformat": 4,
 "nbformat_minor": 2
}