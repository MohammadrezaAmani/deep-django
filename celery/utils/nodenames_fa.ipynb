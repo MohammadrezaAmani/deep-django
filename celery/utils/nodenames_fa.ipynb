{
 "cells": [
  {
   "cell_type": "code",
   "execution_count": null,
   "metadata": {},
   "outputs": [],
   "source": [
    "\"\"\"Worker name utilities.\"\"\"\n",
    "from __future__ import annotations\n",
    "\n",
    "import os\n",
    "import socket\n",
    "from functools import partial\n",
    "\n",
    "from kombu.entity import Exchange, Queue\n",
    "\n",
    "from .functional import memoize\n",
    "from .text import simple_format\n",
    "\n",
    "#: Exchange for worker direct queues.\n",
    "WORKER_DIRECT_EXCHANGE = Exchange(\"C.dq2\")\n",
    "\n",
    "#: Format for worker direct queue names.\n",
    "WORKER_DIRECT_QUEUE_FORMAT = \"{hostname}.dq2\"\n",
    "\n",
    "#: Separator for worker node name and hostname.\n",
    "NODENAME_SEP = \"@\"\n",
    "\n",
    "NODENAME_DEFAULT = \"celery\"\n",
    "\n",
    "gethostname = memoize(1, Cache=dict)(socket.gethostname)\n",
    "\n",
    "__all__ = (\n",
    "    \"worker_direct\",\n",
    "    \"gethostname\",\n",
    "    \"nodename\",\n",
    "    \"anon_nodename\",\n",
    "    \"nodesplit\",\n",
    "    \"default_nodename\",\n",
    "    \"node_format\",\n",
    "    \"host_format\",\n",
    ")"
   ]
  },
  {
   "cell_type": "markdown",
   "metadata": {},
   "source": []
  },
  {
   "cell_type": "code",
   "execution_count": null,
   "metadata": {},
   "outputs": [],
   "source": [
    "def worker_direct(hostname: str | Queue) -> Queue:\n",
    "    \"\"\"Return the :class:`kombu.Queue` being a direct route to a worker.\n",
    "\n",
    "    Arguments:\n",
    "        hostname (str, ~kombu.Queue): The fully qualified node name of\n",
    "            a worker (e.g., ``w1@example.com``).  If passed a\n",
    "            :class:`kombu.Queue` instance it will simply return\n",
    "            that instead.\n",
    "    \"\"\"\n",
    "    if isinstance(hostname, Queue):\n",
    "        return hostname\n",
    "    return Queue(\n",
    "        WORKER_DIRECT_QUEUE_FORMAT.format(hostname=hostname),\n",
    "        WORKER_DIRECT_EXCHANGE,\n",
    "        hostname,\n",
    "    )"
   ]
  },
  {
   "cell_type": "markdown",
   "metadata": {},
   "source": []
  },
  {
   "cell_type": "code",
   "execution_count": null,
   "metadata": {},
   "outputs": [],
   "source": [
    "def nodename(name: str, hostname: str) -> str:\n",
    "    \"\"\"Create node name from name/hostname pair.\"\"\"\n",
    "    return NODENAME_SEP.join((name, hostname))"
   ]
  },
  {
   "cell_type": "markdown",
   "metadata": {},
   "source": []
  },
  {
   "cell_type": "code",
   "execution_count": null,
   "metadata": {},
   "outputs": [],
   "source": [
    "def anon_nodename(hostname: str | None = None, prefix: str = \"gen\") -> str:\n",
    "    \"\"\"Return the nodename for this process (not a worker).\n",
    "\n",
    "    This is used for e.g. the origin task message field.\n",
    "    \"\"\"\n",
    "    return nodename(\"\".join([prefix, str(os.getpid())]), hostname or gethostname())"
   ]
  },
  {
   "cell_type": "markdown",
   "metadata": {},
   "source": []
  },
  {
   "cell_type": "code",
   "execution_count": null,
   "metadata": {},
   "outputs": [],
   "source": [
    "def nodesplit(name: str) -> tuple[None, str] | list[str]:\n",
    "    \"\"\"Split node name into tuple of name/hostname.\"\"\"\n",
    "    parts = name.split(NODENAME_SEP, 1)\n",
    "    if len(parts) == 1:\n",
    "        return None, parts[0]\n",
    "    return parts"
   ]
  },
  {
   "cell_type": "markdown",
   "metadata": {},
   "source": []
  },
  {
   "cell_type": "code",
   "execution_count": null,
   "metadata": {},
   "outputs": [],
   "source": [
    "def default_nodename(hostname: str) -> str:\n",
    "    \"\"\"Return the default nodename for this process.\"\"\"\n",
    "    name, host = nodesplit(hostname or \"\")\n",
    "    return nodename(name or NODENAME_DEFAULT, host or gethostname())"
   ]
  },
  {
   "cell_type": "markdown",
   "metadata": {},
   "source": []
  },
  {
   "cell_type": "code",
   "execution_count": null,
   "metadata": {},
   "outputs": [],
   "source": [
    "def node_format(s: str, name: str, **extra: dict) -> str:\n",
    "    \"\"\"Format worker node name (name@host.com).\"\"\"\n",
    "    shortname, host = nodesplit(name)\n",
    "    return host_format(s, host, shortname or NODENAME_DEFAULT, p=name, **extra)"
   ]
  },
  {
   "cell_type": "markdown",
   "metadata": {},
   "source": []
  },
  {
   "cell_type": "code",
   "execution_count": null,
   "metadata": {},
   "outputs": [],
   "source": [
    "def _fmt_process_index(prefix: str = \"\", default: str = \"0\") -> str:\n",
    "    from .log import current_process_index\n",
    "\n",
    "    index = current_process_index()\n",
    "    return f\"{prefix}{index}\" if index else default"
   ]
  },
  {
   "cell_type": "markdown",
   "metadata": {},
   "source": []
  },
  {
   "cell_type": "code",
   "execution_count": null,
   "metadata": {},
   "outputs": [],
   "source": [
    "_fmt_process_index_with_prefix = partial(_fmt_process_index, \"-\", \"\")"
   ]
  },
  {
   "cell_type": "markdown",
   "metadata": {},
   "source": []
  },
  {
   "cell_type": "code",
   "execution_count": null,
   "metadata": {},
   "outputs": [],
   "source": [
    "def host_format(\n",
    "    s: str, host: str | None = None, name: str | None = None, **extra: dict\n",
    ") -> str:\n",
    "    \"\"\"Format host %x abbreviations.\"\"\"\n",
    "    host = host or gethostname()\n",
    "    hname, _, domain = host.partition(\".\")\n",
    "    name = name or hname\n",
    "    keys = dict(\n",
    "        {\n",
    "            \"h\": host,\n",
    "            \"n\": name,\n",
    "            \"d\": domain,\n",
    "            \"i\": _fmt_process_index,\n",
    "            \"I\": _fmt_process_index_with_prefix,\n",
    "        },\n",
    "        **extra,\n",
    "    )\n",
    "    return simple_format(s, keys)"
   ]
  },
  {
   "cell_type": "markdown",
   "metadata": {},
   "source": []
  }
 ],
 "metadata": {
  "language_info": {
   "name": "python"
  }
 },
 "nbformat": 4,
 "nbformat_minor": 2
}