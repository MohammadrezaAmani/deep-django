{
 "cells": [
  {
   "cell_type": "code",
   "execution_count": null,
   "metadata": {},
   "outputs": [],
   "source": [
    "\"\"\"Utility functions.\n",
    "\n",
    "Don't import from here directly anymore, as these are only\n",
    "here for backwards compatibility.\n",
    "\"\"\"\n",
    "from kombu.utils.objects import cached_property\n",
    "from kombu.utils.uuid import uuid\n",
    "\n",
    "from .functional import chunks, memoize, noop\n",
    "from .imports import gen_task_name, import_from_cwd, instantiate\n",
    "from .imports import qualname as get_full_cls_name\n",
    "from .imports import symbol_by_name as get_cls_by_name\n",
    "\n",
    "# ------------------------------------------------------------------------ #\n",
    "# > XXX Compat\n",
    "from .log import LOG_LEVELS\n",
    "from .nodenames import nodename, nodesplit, worker_direct\n",
    "\n",
    "gen_unique_id = uuid\n",
    "\n",
    "__all__ = (\n",
    "    \"LOG_LEVELS\",\n",
    "    \"cached_property\",\n",
    "    \"chunks\",\n",
    "    \"gen_task_name\",\n",
    "    \"gen_task_name\",\n",
    "    \"gen_unique_id\",\n",
    "    \"get_cls_by_name\",\n",
    "    \"get_full_cls_name\",\n",
    "    \"import_from_cwd\",\n",
    "    \"instantiate\",\n",
    "    \"memoize\",\n",
    "    \"nodename\",\n",
    "    \"nodesplit\",\n",
    "    \"noop\",\n",
    "    \"uuid\",\n",
    "    \"worker_direct\",\n",
    ")"
   ]
  },
  {
   "cell_type": "markdown",
   "metadata": {},
   "source": []
  }
 ],
 "metadata": {
  "language_info": {
   "name": "python"
  }
 },
 "nbformat": 4,
 "nbformat_minor": 2
}