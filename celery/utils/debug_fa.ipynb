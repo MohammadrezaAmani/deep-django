{
 "cells": [
  {
   "cell_type": "code",
   "execution_count": null,
   "metadata": {},
   "outputs": [],
   "source": [
    "\"\"\"Utilities for debugging memory usage, blocking calls, etc.\"\"\"\n",
    "import os\n",
    "import sys\n",
    "import traceback\n",
    "from contextlib import contextmanager\n",
    "from functools import partial\n",
    "from pprint import pprint\n",
    "\n",
    "from celery.platforms import signals\n",
    "from celery.utils.text import WhateverIO\n",
    "\n",
    "try:\n",
    "    from psutil import Process\n",
    "except ImportError:\n",
    "    Process = None\n",
    "\n",
    "__all__ = (\n",
    "    \"blockdetection\",\n",
    "    \"sample_mem\",\n",
    "    \"memdump\",\n",
    "    \"sample\",\n",
    "    \"humanbytes\",\n",
    "    \"mem_rss\",\n",
    "    \"ps\",\n",
    "    \"cry\",\n",
    ")\n",
    "\n",
    "UNITS = (\n",
    "    (2**40.0, \"TB\"),\n",
    "    (2**30.0, \"GB\"),\n",
    "    (2**20.0, \"MB\"),\n",
    "    (2**10.0, \"KB\"),\n",
    "    (0.0, \"b\"),\n",
    ")\n",
    "\n",
    "_process = None\n",
    "_mem_sample = []"
   ]
  },
  {
   "cell_type": "markdown",
   "metadata": {},
   "source": []
  },
  {
   "cell_type": "code",
   "execution_count": null,
   "metadata": {},
   "outputs": [],
   "source": [
    "def _on_blocking(signum, frame):\n",
    "    import inspect\n",
    "\n",
    "    raise RuntimeError(\n",
    "        f\"Blocking detection timed-out at: {inspect.getframeinfo(frame)}\"\n",
    "    )"
   ]
  },
  {
   "cell_type": "markdown",
   "metadata": {},
   "source": []
  },
  {
   "cell_type": "code",
   "execution_count": null,
   "metadata": {},
   "outputs": [],
   "source": [
    "@contextmanager\n",
    "def blockdetection(timeout):\n",
    "    \"\"\"Context that raises an exception if process is blocking.\n",
    "\n",
    "    Uses ``SIGALRM`` to detect blocking functions.\n",
    "    \"\"\"\n",
    "    if not timeout:\n",
    "        yield\n",
    "    else:\n",
    "        old_handler = signals[\"ALRM\"]\n",
    "        old_handler = None if old_handler == _on_blocking else old_handler\n",
    "\n",
    "        signals[\"ALRM\"] = _on_blocking\n",
    "\n",
    "        try:\n",
    "            yield signals.arm_alarm(timeout)\n",
    "        finally:\n",
    "            if old_handler:\n",
    "                signals[\"ALRM\"] = old_handler\n",
    "            signals.reset_alarm()"
   ]
  },
  {
   "cell_type": "markdown",
   "metadata": {},
   "source": []
  },
  {
   "cell_type": "code",
   "execution_count": null,
   "metadata": {},
   "outputs": [],
   "source": [
    "def sample_mem():\n",
    "    \"\"\"Sample RSS memory usage.\n",
    "\n",
    "    Statistics can then be output by calling :func:`memdump`.\n",
    "    \"\"\"\n",
    "    current_rss = mem_rss()\n",
    "    _mem_sample.append(current_rss)\n",
    "    return current_rss"
   ]
  },
  {
   "cell_type": "markdown",
   "metadata": {},
   "source": []
  },
  {
   "cell_type": "code",
   "execution_count": null,
   "metadata": {},
   "outputs": [],
   "source": [
    "def _memdump(samples=10):  # pragma: no cover\n",
    "    S = _mem_sample\n",
    "    prev = list(S) if len(S) <= samples else sample(S, samples)\n",
    "    _mem_sample[:] = []\n",
    "    import gc\n",
    "\n",
    "    gc.collect()\n",
    "    after_collect = mem_rss()\n",
    "    return prev, after_collect"
   ]
  },
  {
   "cell_type": "markdown",
   "metadata": {},
   "source": []
  },
  {
   "cell_type": "code",
   "execution_count": null,
   "metadata": {},
   "outputs": [],
   "source": [
    "def memdump(samples=10, file=None):  # pragma: no cover\n",
    "    \"\"\"Dump memory statistics.\n",
    "\n",
    "    Will print a sample of all RSS memory samples added by\n",
    "    calling :func:`sample_mem`, and in addition print\n",
    "    used RSS memory after :func:`gc.collect`.\n",
    "    \"\"\"\n",
    "    say = partial(print, file=file)\n",
    "    if ps() is None:\n",
    "        say(\"- rss: (psutil not installed).\")\n",
    "        return\n",
    "    prev, after_collect = _memdump(samples)\n",
    "    if prev:\n",
    "        say(\"- rss (sample):\")\n",
    "        for mem in prev:\n",
    "            say(f\"-    > {mem},\")\n",
    "    say(f\"- rss (end): {after_collect}.\")"
   ]
  },
  {
   "cell_type": "markdown",
   "metadata": {},
   "source": []
  },
  {
   "cell_type": "code",
   "execution_count": null,
   "metadata": {},
   "outputs": [],
   "source": [
    "def sample(x, n, k=0):\n",
    "    \"\"\"Given a list `x` a sample of length ``n`` of that list is returned.\n",
    "\n",
    "    For example, if `n` is 10, and `x` has 100 items, a list of every tenth.\n",
    "    item is returned.\n",
    "\n",
    "    ``k`` can be used as offset.\n",
    "    \"\"\"\n",
    "    j = len(x) // n\n",
    "    for _ in range(n):\n",
    "        try:\n",
    "            yield x[k]\n",
    "        except IndexError:\n",
    "            break\n",
    "        k += j"
   ]
  },
  {
   "cell_type": "markdown",
   "metadata": {},
   "source": []
  },
  {
   "cell_type": "code",
   "execution_count": null,
   "metadata": {},
   "outputs": [],
   "source": [
    "def hfloat(f, p=5):\n",
    "    \"\"\"Convert float to value suitable for humans.\n",
    "\n",
    "    Arguments:\n",
    "        f (float): The floating point number.\n",
    "        p (int): Floating point precision (default is 5).\n",
    "    \"\"\"\n",
    "    i = int(f)\n",
    "    return i if i == f else \"{0:.{p}}\".format(f, p=p)"
   ]
  },
  {
   "cell_type": "markdown",
   "metadata": {},
   "source": []
  },
  {
   "cell_type": "code",
   "execution_count": null,
   "metadata": {},
   "outputs": [],
   "source": [
    "def humanbytes(s):\n",
    "    \"\"\"Convert bytes to human-readable form (e.g., KB, MB).\"\"\"\n",
    "    return next(\n",
    "        f\"{hfloat(s / div if div else s)}{unit}\" for div, unit in UNITS if s >= div\n",
    "    )"
   ]
  },
  {
   "cell_type": "markdown",
   "metadata": {},
   "source": []
  },
  {
   "cell_type": "code",
   "execution_count": null,
   "metadata": {},
   "outputs": [],
   "source": [
    "def mem_rss():\n",
    "    \"\"\"Return RSS memory usage as a humanized string.\"\"\"\n",
    "    p = ps()\n",
    "    if p is not None:\n",
    "        return humanbytes(_process_memory_info(p).rss)"
   ]
  },
  {
   "cell_type": "markdown",
   "metadata": {},
   "source": []
  },
  {
   "cell_type": "code",
   "execution_count": null,
   "metadata": {},
   "outputs": [],
   "source": [
    "def ps():  # pragma: no cover\n",
    "    \"\"\"Return the global :class:`psutil.Process` instance.\n",
    "\n",
    "    Note:\n",
    "        Returns :const:`None` if :pypi:`psutil` is not installed.\n",
    "    \"\"\"\n",
    "    global _process\n",
    "    if _process is None and Process is not None:\n",
    "        _process = Process(os.getpid())\n",
    "    return _process"
   ]
  },
  {
   "cell_type": "markdown",
   "metadata": {},
   "source": []
  },
  {
   "cell_type": "code",
   "execution_count": null,
   "metadata": {},
   "outputs": [],
   "source": [
    "def _process_memory_info(process):\n",
    "    try:\n",
    "        return process.memory_info()\n",
    "    except AttributeError:\n",
    "        return process.get_memory_info()"
   ]
  },
  {
   "cell_type": "markdown",
   "metadata": {},
   "source": []
  },
  {
   "cell_type": "code",
   "execution_count": null,
   "metadata": {},
   "outputs": [],
   "source": [
    "def cry(out=None, sepchr=\"=\", seplen=49):  # pragma: no cover\n",
    "    \"\"\"Return stack-trace of all active threads.\n",
    "\n",
    "    See Also:\n",
    "        Taken from https://gist.github.com/737056.\n",
    "    \"\"\"\n",
    "    import threading\n",
    "\n",
    "    out = WhateverIO() if out is None else out\n",
    "    P = partial(print, file=out)\n",
    "\n",
    "    # get a map of threads by their ID so we can print their names\n",
    "    # during the traceback dump\n",
    "    tmap = {t.ident: t for t in threading.enumerate()}\n",
    "\n",
    "    sep = sepchr * seplen\n",
    "    for tid, frame in sys._current_frames().items():\n",
    "        thread = tmap.get(tid)\n",
    "        if not thread:\n",
    "            # skip old junk (left-overs from a fork)\n",
    "            continue\n",
    "        P(f\"{thread.name}\")\n",
    "        P(sep)\n",
    "        traceback.print_stack(frame, file=out)\n",
    "        P(sep)\n",
    "        P(\"LOCAL VARIABLES\")\n",
    "        P(sep)\n",
    "        pprint(frame.f_locals, stream=out)\n",
    "        P(\"\\n\")\n",
    "    return out.getvalue()"
   ]
  },
  {
   "cell_type": "markdown",
   "metadata": {},
   "source": []
  }
 ],
 "metadata": {
  "language_info": {
   "name": "python"
  }
 },
 "nbformat": 4,
 "nbformat_minor": 2
}