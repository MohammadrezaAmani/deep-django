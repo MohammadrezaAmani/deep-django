{
    "cells": [
        {
            "cell_type": "code",
            "execution_count": null,
            "metadata": {},
            "outputs": [],
            "source": [
                "\"\"\"Object related utilities, including introspection, etc.\"\"\"\n",
                "from functools import reduce\n",
                "\n",
                "__all__ = (\"Bunch\", \"FallbackContext\", \"getitem_property\", \"mro_lookup\")\n"
            ]
        },
        {
            "cell_type": "markdown",
            "metadata": {},
            "source": []
        },
        {
            "cell_type": "code",
            "execution_count": null,
            "metadata": {},
            "outputs": [],
            "source": [
                "class Bunch:\n",
                "    \"\"\"Object that enables you to modify attributes.\"\"\"\n",
                "\n",
                "    def __init__(self, **kwargs):\n",
                "        self.__dict__.update(kwargs)\n"
            ]
        },
        {
            "cell_type": "markdown",
            "metadata": {},
            "source": []
        },
        {
            "cell_type": "code",
            "execution_count": null,
            "metadata": {},
            "outputs": [],
            "source": [
                "def mro_lookup(cls, attr, stop=None, monkey_patched=None):\n",
                "    \"\"\"Return the first node by MRO order that defines an attribute.\n",
                "\n",
                "    Arguments:\n",
                "        cls (Any): Child class to traverse.\n",
                "        attr (str): Name of attribute to find.\n",
                "        stop (Set[Any]): A set of types that if reached will stop\n",
                "            the search.\n",
                "        monkey_patched (Sequence): Use one of the stop classes\n",
                "            if the attributes module origin isn't in this list.\n",
                "            Used to detect monkey patched attributes.\n",
                "\n",
                "    Returns:\n",
                "        Any: The attribute value, or :const:`None` if not found.\n",
                "    \"\"\"\n",
                "    stop = set() if not stop else stop\n",
                "    monkey_patched = [] if not monkey_patched else monkey_patched\n",
                "    for node in cls.mro():\n",
                "        if node in stop:\n",
                "            try:\n",
                "                value = node.__dict__[attr]\n",
                "                module_origin = value.__module__\n",
                "            except (AttributeError, KeyError):\n",
                "                pass\n",
                "            else:\n",
                "                if module_origin not in monkey_patched:\n",
                "                    return node\n",
                "            return\n",
                "        if attr in node.__dict__:\n",
                "            return node\n"
            ]
        },
        {
            "cell_type": "markdown",
            "metadata": {},
            "source": []
        },
        {
            "cell_type": "code",
            "execution_count": null,
            "metadata": {},
            "outputs": [],
            "source": [
                "class FallbackContext:\n",
                "    \"\"\"Context workaround.\n",
                "\n",
                "    The built-in ``@contextmanager`` utility does not work well\n",
                "    when wrapping other contexts, as the traceback is wrong when\n",
                "    the wrapped context raises.\n",
                "\n",
                "    This solves this problem and can be used instead of ``@contextmanager``\n",
                "    in this example::\n",
                "\n",
                "        @contextmanager\n",
                "        def connection_or_default_connection(connection=None):\n",
                "            if connection:\n",
                "                # user already has a connection, shouldn't close\n",
                "                # after use\n",
                "                yield connection\n",
                "            else:\n",
                "                # must've new connection, and also close the connection\n",
                "                # after the block returns\n",
                "                with create_new_connection() as connection:\n",
                "                    yield connection\n",
                "\n",
                "    This wrapper can be used instead for the above like this::\n",
                "\n",
                "        def connection_or_default_connection(connection=None):\n",
                "            return FallbackContext(connection, create_new_connection)\n",
                "    \"\"\"\n",
                "\n",
                "    def __init__(self, provided, fallback, *fb_args, **fb_kwargs):\n",
                "        self.provided = provided\n",
                "        self.fallback = fallback\n",
                "        self.fb_args = fb_args\n",
                "        self.fb_kwargs = fb_kwargs\n",
                "        self._context = None\n",
                "\n",
                "    def __enter__(self):\n",
                "        if self.provided is not None:\n",
                "            return self.provided\n",
                "        context = self._context = self.fallback(\n",
                "            *self.fb_args, **self.fb_kwargs\n",
                "        ).__enter__()\n",
                "        return context\n",
                "\n",
                "    def __exit__(self, *exc_info):\n",
                "        if self._context is not None:\n",
                "            return self._context.__exit__(*exc_info)\n"
            ]
        },
        {
            "cell_type": "markdown",
            "metadata": {},
            "source": []
        },
        {
            "cell_type": "code",
            "execution_count": null,
            "metadata": {},
            "outputs": [],
            "source": [
                "class getitem_property:\n",
                "    \"\"\"Attribute -> dict key descriptor.\n",
                "\n",
                "    The target object must support ``__getitem__``,\n",
                "    and optionally ``__setitem__``.\n",
                "\n",
                "    Example:\n",
                "        >>> from collections import defaultdict\n",
                "\n",
                "        >>> class Me(dict):\n",
                "        ...     deep = defaultdict(dict)\n",
                "        ...\n",
                "        ...     foo = _getitem_property('foo')\n",
                "        ...     deep_thing = _getitem_property('deep.thing')\n"
            ]
        },
        {
            "cell_type": "markdown",
            "metadata": {},
            "source": []
        },
        {
            "cell_type": "code",
            "execution_count": null,
            "metadata": {},
            "outputs": [],
            "source": [
                "        >>> me = Me()\n",
                "        >>> me.foo\n",
                "        None\n",
                "\n",
                "        >>> me.foo = 10\n",
                "        >>> me.foo\n",
                "        10\n",
                "        >>> me['foo']\n",
                "        10\n",
                "\n",
                "        >>> me.deep_thing = 42\n",
                "        >>> me.deep_thing\n",
                "        42\n",
                "        >>> me.deep\n",
                "        defaultdict(<type 'dict'>, {'thing': 42})\n",
                "    \"\"\"\n",
                "\n",
                "    def __init__(self, keypath, doc=None):\n",
                "        path, _, self.key = keypath.rpartition(\".\")\n",
                "        self.path = path.split(\".\") if path else None\n",
                "        self.__doc__ = doc\n",
                "\n",
                "    def _path(self, obj):\n",
                "        return reduce(lambda d, k: d[k], [obj] + self.path) if self.path else obj\n",
                "\n",
                "    def __get__(self, obj, type=None):\n",
                "        if obj is None:\n",
                "            return type\n",
                "        return self._path(obj).get(self.key)\n",
                "\n",
                "    def __set__(self, obj, value):\n",
                "        self._path(obj)[self.key] = value\n",
                "\n"
            ]
        },
        {
            "cell_type": "markdown",
            "metadata": {},
            "source": []
        }
    ],
    "metadata": {
        "language_info": {
            "name": "python"
        }
    },
    "nbformat": 4,
    "nbformat_minor": 2
}