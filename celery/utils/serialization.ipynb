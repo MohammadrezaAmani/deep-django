{
 "cells": [
  {
   "cell_type": "code",
   "execution_count": null,
   "metadata": {},
   "outputs": [],
   "source": [
    "\"\"\"Utilities for safely pickling exceptions.\"\"\"\n",
    "import datetime\n",
    "import numbers\n",
    "import sys\n",
    "from base64 import b64decode as base64decode\n",
    "from base64 import b64encode as base64encode\n",
    "from functools import partial\n",
    "from inspect import getmro\n",
    "from itertools import takewhile\n",
    "\n",
    "from kombu.utils.encoding import bytes_to_str, safe_repr, str_to_bytes\n",
    "\n",
    "try:\n",
    "    import cPickle as pickle\n",
    "except ImportError:\n",
    "    import pickle\n",
    "\n",
    "__all__ = (\n",
    "    \"UnpickleableExceptionWrapper\",\n",
    "    \"subclass_exception\",\n",
    "    \"find_pickleable_exception\",\n",
    "    \"create_exception_cls\",\n",
    "    \"get_pickleable_exception\",\n",
    "    \"get_pickleable_etype\",\n",
    "    \"get_pickled_exception\",\n",
    "    \"strtobool\",\n",
    ")\n",
    "\n",
    "#: List of base classes we probably don't want to reduce to.\n",
    "unwanted_base_classes = (Exception, BaseException, object)\n",
    "\n",
    "STRTOBOOL_DEFAULT_TABLE = {\n",
    "    \"false\": False,\n",
    "    \"no\": False,\n",
    "    \"0\": False,\n",
    "    \"true\": True,\n",
    "    \"yes\": True,\n",
    "    \"1\": True,\n",
    "    \"on\": True,\n",
    "    \"off\": False,\n",
    "}"
   ]
  },
  {
   "cell_type": "markdown",
   "metadata": {},
   "source": []
  },
  {
   "cell_type": "code",
   "execution_count": null,
   "metadata": {},
   "outputs": [],
   "source": [
    "def subclass_exception(name, parent, module):\n",
    "    \"\"\"Create new exception class.\"\"\"\n",
    "    return type(name, (parent,), {\"__module__\": module})"
   ]
  },
  {
   "cell_type": "markdown",
   "metadata": {},
   "source": []
  },
  {
   "cell_type": "code",
   "execution_count": null,
   "metadata": {},
   "outputs": [],
   "source": [
    "def find_pickleable_exception(exc, loads=pickle.loads, dumps=pickle.dumps):\n",
    "    \"\"\"Find first pickleable exception base class.\n",
    "\n",
    "    With an exception instance, iterate over its super classes (by MRO)\n",
    "    and find the first super exception that's pickleable.  It does\n",
    "    not go below :exc:`Exception` (i.e., it skips :exc:`Exception`,\n",
    "    :class:`BaseException` and :class:`object`).  If that happens\n",
    "    you should use :exc:`UnpickleableException` instead.\n",
    "\n",
    "    Arguments:\n",
    "        exc (BaseException): An exception instance.\n",
    "        loads: decoder to use.\n",
    "        dumps: encoder to use\n",
    "\n",
    "    Returns:\n",
    "        Exception: Nearest pickleable parent exception class\n",
    "            (except :exc:`Exception` and parents), or if the exception is\n",
    "            pickleable it will return :const:`None`.\n",
    "    \"\"\"\n",
    "    exc_args = getattr(exc, \"args\", [])\n",
    "    for supercls in itermro(exc.__class__, unwanted_base_classes):\n",
    "        try:\n",
    "            superexc = supercls(*exc_args)\n",
    "            loads(dumps(superexc))\n",
    "        except Exception:  # pylint: disable=broad-except\n",
    "            pass\n",
    "        else:\n",
    "            return superexc"
   ]
  },
  {
   "cell_type": "markdown",
   "metadata": {},
   "source": []
  },
  {
   "cell_type": "code",
   "execution_count": null,
   "metadata": {},
   "outputs": [],
   "source": [
    "def itermro(cls, stop):\n",
    "    return takewhile(lambda sup: sup not in stop, getmro(cls))"
   ]
  },
  {
   "cell_type": "markdown",
   "metadata": {},
   "source": []
  },
  {
   "cell_type": "code",
   "execution_count": null,
   "metadata": {},
   "outputs": [],
   "source": [
    "def create_exception_cls(name, module, parent=None):\n",
    "    \"\"\"Dynamically create an exception class.\"\"\"\n",
    "    if not parent:\n",
    "        parent = Exception\n",
    "    return subclass_exception(name, parent, module)"
   ]
  },
  {
   "cell_type": "markdown",
   "metadata": {},
   "source": []
  },
  {
   "cell_type": "code",
   "execution_count": null,
   "metadata": {},
   "outputs": [],
   "source": [
    "def ensure_serializable(items, encoder):\n",
    "    \"\"\"Ensure items will serialize.\n",
    "\n",
    "    For a given list of arbitrary objects, return the object\n",
    "    or a string representation, safe for serialization.\n",
    "\n",
    "    Arguments:\n",
    "        items (Iterable[Any]): Objects to serialize.\n",
    "        encoder (Callable): Callable function to serialize with.\n",
    "    \"\"\"\n",
    "    safe_exc_args = []\n",
    "    for arg in items:\n",
    "        try:\n",
    "            encoder(arg)\n",
    "            safe_exc_args.append(arg)\n",
    "        except Exception:  # pylint: disable=broad-except\n",
    "            safe_exc_args.append(safe_repr(arg))\n",
    "    return tuple(safe_exc_args)"
   ]
  },
  {
   "cell_type": "markdown",
   "metadata": {},
   "source": []
  },
  {
   "cell_type": "code",
   "execution_count": null,
   "metadata": {},
   "outputs": [],
   "source": [
    "class UnpickleableExceptionWrapper(Exception):\n",
    "    \"\"\"Wraps unpickleable exceptions.\n",
    "\n",
    "    Arguments:\n",
    "        exc_module (str): See :attr:`exc_module`.\n",
    "        exc_cls_name (str): See :attr:`exc_cls_name`.\n",
    "        exc_args (Tuple[Any, ...]): See :attr:`exc_args`.\n",
    "\n",
    "    Example:\n",
    "        >>> def pickle_it(raising_function):\n",
    "        ...     try:\n",
    "        ...         raising_function()\n",
    "        ...     except Exception as e:\n",
    "        ...         exc = UnpickleableExceptionWrapper(\n",
    "        ...             e.__class__.__module__,\n",
    "        ...             e.__class__.__name__,\n",
    "        ...             e.args,\n",
    "        ...         )\n",
    "        ...         pickle.dumps(exc)  # Works fine.\n",
    "    \"\"\"\n",
    "\n",
    "    #: The module of the original exception.\n",
    "    exc_module = None\n",
    "\n",
    "    #: The name of the original exception class.\n",
    "    exc_cls_name = None\n",
    "\n",
    "    #: The arguments for the original exception.\n",
    "    exc_args = None\n",
    "\n",
    "    def __init__(self, exc_module, exc_cls_name, exc_args, text=None):\n",
    "        safe_exc_args = ensure_serializable(\n",
    "            exc_args, lambda v: pickle.loads(pickle.dumps(v))\n",
    "        )\n",
    "        self.exc_module = exc_module\n",
    "        self.exc_cls_name = exc_cls_name\n",
    "        self.exc_args = safe_exc_args\n",
    "        self.text = text\n",
    "        super().__init__(exc_module, exc_cls_name, safe_exc_args, text)\n",
    "\n",
    "    def restore(self):\n",
    "        return create_exception_cls(self.exc_cls_name, self.exc_module)(*self.exc_args)\n",
    "\n",
    "    def __str__(self):\n",
    "        return self.text\n",
    "\n",
    "    @classmethod\n",
    "    def from_exception(cls, exc):\n",
    "        res = cls(\n",
    "            exc.__class__.__module__,\n",
    "            exc.__class__.__name__,\n",
    "            getattr(exc, \"args\", []),\n",
    "            safe_repr(exc),\n",
    "        )\n",
    "        if hasattr(exc, \"__traceback__\"):\n",
    "            res = res.with_traceback(exc.__traceback__)\n",
    "        return res"
   ]
  },
  {
   "cell_type": "markdown",
   "metadata": {},
   "source": []
  },
  {
   "cell_type": "code",
   "execution_count": null,
   "metadata": {},
   "outputs": [],
   "source": [
    "def get_pickleable_exception(exc):\n",
    "    \"\"\"Make sure exception is pickleable.\"\"\"\n",
    "    try:\n",
    "        pickle.loads(pickle.dumps(exc))\n",
    "    except Exception:  # pylint: disable=broad-except\n",
    "        pass\n",
    "    else:\n",
    "        return exc\n",
    "    nearest = find_pickleable_exception(exc)\n",
    "    if nearest:\n",
    "        return nearest\n",
    "    return UnpickleableExceptionWrapper.from_exception(exc)"
   ]
  },
  {
   "cell_type": "markdown",
   "metadata": {},
   "source": []
  },
  {
   "cell_type": "code",
   "execution_count": null,
   "metadata": {},
   "outputs": [],
   "source": [
    "def get_pickleable_etype(cls, loads=pickle.loads, dumps=pickle.dumps):\n",
    "    \"\"\"Get pickleable exception type.\"\"\"\n",
    "    try:\n",
    "        loads(dumps(cls))\n",
    "    except Exception:  # pylint: disable=broad-except\n",
    "        return Exception\n",
    "    else:\n",
    "        return cls"
   ]
  },
  {
   "cell_type": "markdown",
   "metadata": {},
   "source": []
  },
  {
   "cell_type": "code",
   "execution_count": null,
   "metadata": {},
   "outputs": [],
   "source": [
    "def get_pickled_exception(exc):\n",
    "    \"\"\"Reverse of :meth:`get_pickleable_exception`.\"\"\"\n",
    "    if isinstance(exc, UnpickleableExceptionWrapper):\n",
    "        return exc.restore()\n",
    "    return exc"
   ]
  },
  {
   "cell_type": "markdown",
   "metadata": {},
   "source": []
  },
  {
   "cell_type": "code",
   "execution_count": null,
   "metadata": {},
   "outputs": [],
   "source": [
    "def b64encode(s):\n",
    "    return bytes_to_str(base64encode(str_to_bytes(s)))"
   ]
  },
  {
   "cell_type": "markdown",
   "metadata": {},
   "source": []
  },
  {
   "cell_type": "code",
   "execution_count": null,
   "metadata": {},
   "outputs": [],
   "source": [
    "def b64decode(s):\n",
    "    return base64decode(str_to_bytes(s))"
   ]
  },
  {
   "cell_type": "markdown",
   "metadata": {},
   "source": []
  },
  {
   "cell_type": "code",
   "execution_count": null,
   "metadata": {},
   "outputs": [],
   "source": [
    "def strtobool(term, table=None):\n",
    "    \"\"\"Convert common terms for true/false to bool.\n",
    "\n",
    "    Examples (true/false/yes/no/on/off/1/0).\n",
    "    \"\"\"\n",
    "    if table is None:\n",
    "        table = STRTOBOOL_DEFAULT_TABLE\n",
    "    if isinstance(term, str):\n",
    "        try:\n",
    "            return table[term.lower()]\n",
    "        except KeyError:\n",
    "            raise TypeError(f\"Cannot coerce {term!r} to type bool\")\n",
    "    return term"
   ]
  },
  {
   "cell_type": "markdown",
   "metadata": {},
   "source": []
  },
  {
   "cell_type": "code",
   "execution_count": null,
   "metadata": {},
   "outputs": [],
   "source": [
    "def _datetime_to_json(dt):\n",
    "    # See \"Date Time String Format\" in the ECMA-262 specification.\n",
    "    if isinstance(dt, datetime.datetime):\n",
    "        r = dt.isoformat()\n",
    "        if dt.microsecond:\n",
    "            r = r[:23] + r[26:]\n",
    "        if r.endswith(\"+00:00\"):\n",
    "            r = r[:-6] + \"Z\"\n",
    "        return r\n",
    "    elif isinstance(dt, datetime.time):\n",
    "        r = dt.isoformat()\n",
    "        if dt.microsecond:\n",
    "            r = r[:12]\n",
    "        return r\n",
    "    else:\n",
    "        return dt.isoformat()"
   ]
  },
  {
   "cell_type": "markdown",
   "metadata": {},
   "source": []
  },
  {
   "cell_type": "code",
   "execution_count": null,
   "metadata": {},
   "outputs": [],
   "source": [
    "def jsonify(\n",
    "    obj,\n",
    "    builtin_types=(numbers.Real, str),\n",
    "    key=None,\n",
    "    keyfilter=None,\n",
    "    unknown_type_filter=None,\n",
    "):\n",
    "    \"\"\"Transform object making it suitable for json serialization.\"\"\"\n",
    "    from kombu.abstract import Object as KombuDictType\n",
    "\n",
    "    _jsonify = partial(\n",
    "        jsonify,\n",
    "        builtin_types=builtin_types,\n",
    "        key=key,\n",
    "        keyfilter=keyfilter,\n",
    "        unknown_type_filter=unknown_type_filter,\n",
    "    )\n",
    "\n",
    "    if isinstance(obj, KombuDictType):\n",
    "        obj = obj.as_dict(recurse=True)\n",
    "\n",
    "    if obj is None or isinstance(obj, builtin_types):\n",
    "        return obj\n",
    "    elif isinstance(obj, (tuple, list)):\n",
    "        return [_jsonify(v) for v in obj]\n",
    "    elif isinstance(obj, dict):\n",
    "        return {\n",
    "            k: _jsonify(v, key=k)\n",
    "            for k, v in obj.items()\n",
    "            if (keyfilter(k) if keyfilter else 1)\n",
    "        }\n",
    "    elif isinstance(obj, (datetime.date, datetime.time)):\n",
    "        return _datetime_to_json(obj)\n",
    "    elif isinstance(obj, datetime.timedelta):\n",
    "        return str(obj)\n",
    "    else:\n",
    "        if unknown_type_filter is None:\n",
    "            raise ValueError(f\"Unsupported type: {type(obj)!r} {obj!r} (parent: {key})\")\n",
    "        return unknown_type_filter(obj)"
   ]
  },
  {
   "cell_type": "markdown",
   "metadata": {},
   "source": []
  },
  {
   "cell_type": "code",
   "execution_count": null,
   "metadata": {},
   "outputs": [],
   "source": [
    "def raise_with_context(exc):\n",
    "    exc_info = sys.exc_info()\n",
    "    if not exc_info:\n",
    "        raise exc\n",
    "    elif exc_info[1] is exc:\n",
    "        raise\n",
    "    raise exc from exc_info[1]"
   ]
  },
  {
   "cell_type": "markdown",
   "metadata": {},
   "source": []
  }
 ],
 "metadata": {
  "language_info": {
   "name": "python"
  }
 },
 "nbformat": 4,
 "nbformat_minor": 2
}