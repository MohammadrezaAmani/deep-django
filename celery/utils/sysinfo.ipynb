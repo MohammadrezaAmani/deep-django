{
 "cells": [
  {
   "cell_type": "code",
   "execution_count": null,
   "metadata": {},
   "outputs": [],
   "source": [
    "\"\"\"System information utilities.\"\"\"\n",
    "from __future__ import annotations\n",
    "\n",
    "import os\n",
    "from math import ceil\n",
    "\n",
    "from kombu.utils.objects import cached_property\n",
    "\n",
    "__all__ = (\"load_average\", \"df\")"
   ]
  },
  {
   "cell_type": "markdown",
   "metadata": {},
   "source": []
  },
  {
   "cell_type": "code",
   "execution_count": null,
   "metadata": {},
   "outputs": [],
   "source": [
    "if hasattr(os, \"getloadavg\"):\n",
    "\n",
    "    def _load_average() -> tuple[float, ...]:\n",
    "        return tuple(ceil(l * 1e2) / 1e2 for l in os.getloadavg())\n",
    "\n",
    "else:  # pragma: no cover\n",
    "    # Windows doesn't have getloadavg\n",
    "    def _load_average() -> tuple[float, ...]:\n",
    "        return (\n",
    "            0.0,\n",
    "            0.0,\n",
    "            0.0,\n",
    "        )"
   ]
  },
  {
   "cell_type": "markdown",
   "metadata": {},
   "source": []
  },
  {
   "cell_type": "code",
   "execution_count": null,
   "metadata": {},
   "outputs": [],
   "source": [
    "def load_average() -> tuple[float, ...]:\n",
    "    \"\"\"Return system load average as a triple.\"\"\"\n",
    "    return _load_average()"
   ]
  },
  {
   "cell_type": "markdown",
   "metadata": {},
   "source": []
  },
  {
   "cell_type": "code",
   "execution_count": null,
   "metadata": {},
   "outputs": [],
   "source": [
    "class df:\n",
    "    \"\"\"Disk information.\"\"\"\n",
    "\n",
    "    def __init__(self, path: str | bytes | os.PathLike) -> None:\n",
    "        self.path = path\n",
    "\n",
    "    @property\n",
    "    def total_blocks(self) -> float:\n",
    "        return self.stat.f_blocks * self.stat.f_frsize / 1024\n",
    "\n",
    "    @property\n",
    "    def available(self) -> float:\n",
    "        return self.stat.f_bavail * self.stat.f_frsize / 1024\n",
    "\n",
    "    @property\n",
    "    def capacity(self) -> int:\n",
    "        avail = self.stat.f_bavail\n",
    "        used = self.stat.f_blocks - self.stat.f_bfree\n",
    "        return int(ceil(used * 100.0 / (used + avail) + 0.5))\n",
    "\n",
    "    @cached_property\n",
    "    def stat(self) -> os.statvfs_result:\n",
    "        return os.statvfs(os.path.abspath(self.path))"
   ]
  },
  {
   "cell_type": "markdown",
   "metadata": {},
   "source": []
  }
 ],
 "metadata": {
  "language_info": {
   "name": "python"
  }
 },
 "nbformat": 4,
 "nbformat_minor": 2
}