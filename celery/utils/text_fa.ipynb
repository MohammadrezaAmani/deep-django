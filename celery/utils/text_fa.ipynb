{
 "cells": [
  {
   "cell_type": "code",
   "execution_count": null,
   "metadata": {},
   "outputs": [],
   "source": [
    "\"\"\"Text formatting utilities.\"\"\"\n",
    "from __future__ import annotations\n",
    "\n",
    "import io\n",
    "import re\n",
    "from functools import partial\n",
    "from pprint import pformat\n",
    "from re import Match\n",
    "from textwrap import fill\n",
    "from typing import Any, Callable, Pattern\n",
    "\n",
    "__all__ = (\n",
    "    \"abbr\",\n",
    "    \"abbrtask\",\n",
    "    \"dedent\",\n",
    "    \"dedent_initial\",\n",
    "    \"ensure_newlines\",\n",
    "    \"ensure_sep\",\n",
    "    \"fill_paragraphs\",\n",
    "    \"indent\",\n",
    "    \"join\",\n",
    "    \"pluralize\",\n",
    "    \"pretty\",\n",
    "    \"str_to_list\",\n",
    "    \"simple_format\",\n",
    "    \"truncate\",\n",
    ")\n",
    "\n",
    "UNKNOWN_SIMPLE_FORMAT_KEY = \"\"\"\n",
    "Unknown format %{0} in string {1!r}.\n",
    "Possible causes: Did you forget to escape the expand sign (use '%%{0!r}'),\n",
    "or did you escape and the value was expanded twice? (%%N -> %N -> %hostname)?\n",
    "\"\"\".strip()\n",
    "\n",
    "RE_FORMAT = re.compile(r\"%(\\w)\")"
   ]
  },
  {
   "cell_type": "markdown",
   "metadata": {},
   "source": []
  },
  {
   "cell_type": "code",
   "execution_count": null,
   "metadata": {},
   "outputs": [],
   "source": [
    "def str_to_list(s: str) -> list[str]:\n",
    "    \"\"\"Convert string to list.\"\"\"\n",
    "    if isinstance(s, str):\n",
    "        return s.split(\",\")\n",
    "    return s"
   ]
  },
  {
   "cell_type": "markdown",
   "metadata": {},
   "source": []
  },
  {
   "cell_type": "code",
   "execution_count": null,
   "metadata": {},
   "outputs": [],
   "source": [
    "def dedent_initial(s: str, n: int = 4) -> str:\n",
    "    \"\"\"Remove indentation from first line of text.\"\"\"\n",
    "    return s[n:] if s[:n] == \" \" * n else s"
   ]
  },
  {
   "cell_type": "markdown",
   "metadata": {},
   "source": []
  },
  {
   "cell_type": "code",
   "execution_count": null,
   "metadata": {},
   "outputs": [],
   "source": [
    "def dedent(s: str, sep: str = \"\\n\") -> str:\n",
    "    \"\"\"Remove indentation.\"\"\"\n",
    "    return sep.join(dedent_initial(l) for l in s.splitlines())"
   ]
  },
  {
   "cell_type": "markdown",
   "metadata": {},
   "source": []
  },
  {
   "cell_type": "code",
   "execution_count": null,
   "metadata": {},
   "outputs": [],
   "source": [
    "def fill_paragraphs(s: str, width: int, sep: str = \"\\n\") -> str:\n",
    "    \"\"\"Fill paragraphs with newlines (or custom separator).\"\"\"\n",
    "    return sep.join(fill(p, width) for p in s.split(sep))"
   ]
  },
  {
   "cell_type": "markdown",
   "metadata": {},
   "source": []
  },
  {
   "cell_type": "code",
   "execution_count": null,
   "metadata": {},
   "outputs": [],
   "source": [
    "def join(l: list[str], sep: str = \"\\n\") -> str:\n",
    "    \"\"\"Concatenate list of strings.\"\"\"\n",
    "    return sep.join(v for v in l if v)"
   ]
  },
  {
   "cell_type": "markdown",
   "metadata": {},
   "source": []
  },
  {
   "cell_type": "code",
   "execution_count": null,
   "metadata": {},
   "outputs": [],
   "source": [
    "def ensure_sep(sep: str, s: str, n: int = 2) -> str:\n",
    "    \"\"\"Ensure text s ends in separator sep'.\"\"\"\n",
    "    return s + sep * (n - s.count(sep))"
   ]
  },
  {
   "cell_type": "markdown",
   "metadata": {},
   "source": []
  },
  {
   "cell_type": "code",
   "execution_count": null,
   "metadata": {},
   "outputs": [],
   "source": [
    "ensure_newlines = partial(ensure_sep, \"\\n\")"
   ]
  },
  {
   "cell_type": "markdown",
   "metadata": {},
   "source": []
  },
  {
   "cell_type": "code",
   "execution_count": null,
   "metadata": {},
   "outputs": [],
   "source": [
    "def abbr(S: str, max: int, ellipsis: str | bool = \"...\") -> str:\n",
    "    \"\"\"Abbreviate word.\"\"\"\n",
    "    if S is None:\n",
    "        return \"???\"\n",
    "    if len(S) > max:\n",
    "        return (\n",
    "            isinstance(ellipsis, str)\n",
    "            and (S[: max - len(ellipsis)] + ellipsis)\n",
    "            or S[:max]\n",
    "        )\n",
    "    return S"
   ]
  },
  {
   "cell_type": "markdown",
   "metadata": {},
   "source": []
  },
  {
   "cell_type": "code",
   "execution_count": null,
   "metadata": {},
   "outputs": [],
   "source": [
    "def abbrtask(S: str, max: int) -> str:\n",
    "    \"\"\"Abbreviate task name.\"\"\"\n",
    "    if S is None:\n",
    "        return \"???\"\n",
    "    if len(S) > max:\n",
    "        module, _, cls = S.rpartition(\".\")\n",
    "        module = abbr(module, max - len(cls) - 3, False)\n",
    "        return module + \"[.]\" + cls\n",
    "    return S"
   ]
  },
  {
   "cell_type": "markdown",
   "metadata": {},
   "source": []
  },
  {
   "cell_type": "code",
   "execution_count": null,
   "metadata": {},
   "outputs": [],
   "source": [
    "def indent(t: str, indent: int = 0, sep: str = \"\\n\") -> str:\n",
    "    \"\"\"Indent text.\"\"\"\n",
    "    return sep.join(\" \" * indent + p for p in t.split(sep))"
   ]
  },
  {
   "cell_type": "markdown",
   "metadata": {},
   "source": []
  },
  {
   "cell_type": "code",
   "execution_count": null,
   "metadata": {},
   "outputs": [],
   "source": [
    "def truncate(s: str, maxlen: int = 128, suffix: str = \"...\") -> str:\n",
    "    \"\"\"Truncate text to a maximum number of characters.\"\"\"\n",
    "    if maxlen and len(s) >= maxlen:\n",
    "        return s[:maxlen].rsplit(\" \", 1)[0] + suffix\n",
    "    return s"
   ]
  },
  {
   "cell_type": "markdown",
   "metadata": {},
   "source": []
  },
  {
   "cell_type": "code",
   "execution_count": null,
   "metadata": {},
   "outputs": [],
   "source": [
    "def pluralize(n: float, text: str, suffix: str = \"s\") -> str:\n",
    "    \"\"\"Pluralize term when n is greater than one.\"\"\"\n",
    "    if n != 1:\n",
    "        return text + suffix\n",
    "    return text"
   ]
  },
  {
   "cell_type": "markdown",
   "metadata": {},
   "source": []
  },
  {
   "cell_type": "code",
   "execution_count": null,
   "metadata": {},
   "outputs": [],
   "source": [
    "def pretty(\n",
    "    value: str, width: int = 80, nl_width: int = 80, sep: str = \"\\n\", **kw: Any\n",
    ") -> str:\n",
    "    \"\"\"Format value for printing to console.\"\"\"\n",
    "    if isinstance(value, dict):\n",
    "        return f\"{sep} {pformat(value, 4, nl_width)[1:]}\"\n",
    "    elif isinstance(value, tuple):\n",
    "        return \"{}{}{}\".format(\n",
    "            sep,\n",
    "            \" \" * 4,\n",
    "            pformat(value, width=nl_width, **kw),\n",
    "        )\n",
    "    else:\n",
    "        return pformat(value, width=width, **kw)"
   ]
  },
  {
   "cell_type": "markdown",
   "metadata": {},
   "source": []
  },
  {
   "cell_type": "code",
   "execution_count": null,
   "metadata": {},
   "outputs": [],
   "source": [
    "def match_case(s: str, other: str) -> str:\n",
    "    return s.upper() if other.isupper() else s.lower()"
   ]
  },
  {
   "cell_type": "markdown",
   "metadata": {},
   "source": []
  },
  {
   "cell_type": "code",
   "execution_count": null,
   "metadata": {},
   "outputs": [],
   "source": [
    "def simple_format(\n",
    "    s: str,\n",
    "    keys: dict[str, str | Callable],\n",
    "    pattern: Pattern[str] = RE_FORMAT,\n",
    "    expand: str = r\"\\1\",\n",
    ") -> str:\n",
    "    \"\"\"Format string, expanding abbreviations in keys'.\"\"\"\n",
    "    if s:\n",
    "        keys.setdefault(\"%\", \"%\")\n",
    "\n",
    "        def resolve(match: Match) -> str | Any:\n",
    "            key = match.expand(expand)\n",
    "            try:\n",
    "                resolver = keys[key]\n",
    "            except KeyError:\n",
    "                raise ValueError(UNKNOWN_SIMPLE_FORMAT_KEY.format(key, s))\n",
    "            if callable(resolver):\n",
    "                return resolver()\n",
    "            return resolver\n",
    "\n",
    "        return pattern.sub(resolve, s)\n",
    "    return s"
   ]
  },
  {
   "cell_type": "markdown",
   "metadata": {},
   "source": []
  },
  {
   "cell_type": "code",
   "execution_count": null,
   "metadata": {},
   "outputs": [],
   "source": [
    "def remove_repeating_from_task(task_name: str, s: str) -> str:\n",
    "    \"\"\"Given task name, remove repeating module names.\n",
    "\n",
    "    Example:\n",
    "        >>> remove_repeating_from_task(\n",
    "        ...     'tasks.add',\n",
    "        ...     'tasks.add(2, 2), tasks.mul(3), tasks.div(4)')\n",
    "        'tasks.add(2, 2), mul(3), div(4)'\n",
    "    \"\"\"\n",
    "    # This is used by e.g. repr(chain), to remove repeating module names.\n",
    "    #  - extract the module part of the task name\n",
    "    module = str(task_name).rpartition(\".\")[0] + \".\"\n",
    "    return remove_repeating(module, s)"
   ]
  },
  {
   "cell_type": "markdown",
   "metadata": {},
   "source": []
  },
  {
   "cell_type": "code",
   "execution_count": null,
   "metadata": {},
   "outputs": [],
   "source": [
    "def remove_repeating(substr: str, s: str) -> str:\n",
    "    \"\"\"Remove repeating module names from string.\n",
    "\n",
    "    Arguments:\n",
    "        task_name (str): Task name (full path including module),\n",
    "            to use as the basis for removing module names.\n",
    "        s (str): The string we want to work on.\n",
    "\n",
    "    Example:\n",
    "\n",
    "        >>> _shorten_names(\n",
    "        ...    'x.tasks.add',\n",
    "        ...    'x.tasks.add(2, 2) | x.tasks.add(4) | x.tasks.mul(8)',\n",
    "        ... )\n",
    "        'x.tasks.add(2, 2) | add(4) | mul(8)'\n",
    "    \"\"\"\n",
    "    # find the first occurrence of substr in the string.\n",
    "    index = s.find(substr)\n",
    "    if index >= 0:\n",
    "        return \"\".join(\n",
    "            [\n",
    "                # leave the first occurrence of substr untouched.\n",
    "                s[: index + len(substr)],\n",
    "                # strip seen substr from the rest of the string.\n",
    "                s[index + len(substr) :].replace(substr, \"\"),\n",
    "            ]\n",
    "        )\n",
    "    return s"
   ]
  },
  {
   "cell_type": "markdown",
   "metadata": {},
   "source": []
  },
  {
   "cell_type": "code",
   "execution_count": null,
   "metadata": {},
   "outputs": [],
   "source": [
    "StringIO = io.StringIO\n",
    "_SIO_write = StringIO.write\n",
    "_SIO_init = StringIO.__init__"
   ]
  },
  {
   "cell_type": "markdown",
   "metadata": {},
   "source": []
  },
  {
   "cell_type": "code",
   "execution_count": null,
   "metadata": {},
   "outputs": [],
   "source": [
    "class WhateverIO(StringIO):\n",
    "    \"\"\"StringIO that takes bytes or str.\"\"\"\n",
    "\n",
    "    def __init__(self, v: bytes | str | None = None, *a: Any, **kw: Any) -> None:\n",
    "        _SIO_init(self, v.decode() if isinstance(v, bytes) else v, *a, **kw)\n",
    "\n",
    "    def write(self, data: bytes | str) -> int:\n",
    "        return _SIO_write(self, data.decode() if isinstance(data, bytes) else data)"
   ]
  },
  {
   "cell_type": "markdown",
   "metadata": {},
   "source": []
  }
 ],
 "metadata": {
  "language_info": {
   "name": "python"
  }
 },
 "nbformat": 4,
 "nbformat_minor": 2
}