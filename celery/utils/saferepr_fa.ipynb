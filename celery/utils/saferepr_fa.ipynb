{
 "cells": [
  {
   "cell_type": "code",
   "execution_count": null,
   "metadata": {},
   "outputs": [],
   "source": [
    "\"\"\"Streaming, truncating, non-recursive version of :func:`repr`.\n",
    "\n",
    "Differences from regular :func:`repr`:\n",
    "\n",
    "- Sets are represented the Python 3 way: ``{1, 2}`` vs ``set([1, 2])``.\n",
    "- Unicode strings does not have the ``u'`` prefix, even on Python 2.\n",
    "- Empty set formatted as ``set()`` (Python 3), not ``set([])`` (Python 2).\n",
    "- Longs don't have the ``L`` suffix.\n",
    "\n",
    "Very slow with no limits, super quick with limits.\n",
    "\"\"\"\n",
    "import traceback\n",
    "from collections import deque, namedtuple\n",
    "from decimal import Decimal\n",
    "from itertools import chain\n",
    "from numbers import Number\n",
    "from pprint import _recursion\n",
    "from typing import (\n",
    "    Any,\n",
    "    Callable,\n",
    "    Iterator,\n",
    "    List,  # noqa\n",
    "    Optional,\n",
    "    Set,\n",
    ")\n",
    "\n",
    "from .text import truncate\n",
    "\n",
    "__all__ = (\"saferepr\", \"reprstream\")\n",
    "\n",
    "#: Node representing literal text.\n",
    "#:   - .value: is the literal text value\n",
    "#:   - .truncate: specifies if this text can be truncated, for things like\n",
    "#:                LIT_DICT_END this will be False, as we always display\n",
    "#:                the ending brackets, e.g:  [[[1, 2, 3, ...,], ..., ]]\n",
    "#:   - .direction: If +1 the current level is increment by one,\n",
    "#:                 if -1 the current level is decremented by one, and\n",
    "#:                 if 0 the current level is unchanged.\n",
    "_literal = namedtuple(\"_literal\", (\"value\", \"truncate\", \"direction\"))\n",
    "\n",
    "#: Node representing a dictionary key.\n",
    "_key = namedtuple(\"_key\", (\"value\",))\n",
    "\n",
    "#: Node representing quoted text, e.g. a string value.\n",
    "_quoted = namedtuple(\"_quoted\", (\"value\",))"
   ]
  },
  {
   "cell_type": "markdown",
   "metadata": {},
   "source": []
  },
  {
   "cell_type": "code",
   "execution_count": null,
   "metadata": {},
   "outputs": [],
   "source": [
    "#: Recursion protection.\n",
    "_dirty = namedtuple(\"_dirty\", (\"objid\",))\n",
    "\n",
    "#: Types that are repsented as chars.\n",
    "chars_t = (bytes, str)\n",
    "\n",
    "#: Types that are regarded as safe to call repr on.\n",
    "safe_t = (Number,)\n",
    "\n",
    "#: Set types.\n",
    "set_t = (frozenset, set)\n",
    "\n",
    "LIT_DICT_START = _literal(\"{\", False, +1)\n",
    "LIT_DICT_KVSEP = _literal(\": \", True, 0)\n",
    "LIT_DICT_END = _literal(\"}\", False, -1)\n",
    "LIT_LIST_START = _literal(\"[\", False, +1)\n",
    "LIT_LIST_END = _literal(\"]\", False, -1)\n",
    "LIT_LIST_SEP = _literal(\", \", True, 0)\n",
    "LIT_SET_START = _literal(\"{\", False, +1)\n",
    "LIT_SET_END = _literal(\"}\", False, -1)\n",
    "LIT_TUPLE_START = _literal(\"(\", False, +1)\n",
    "LIT_TUPLE_END = _literal(\")\", False, -1)\n",
    "LIT_TUPLE_END_SV = _literal(\",)\", False, -1)"
   ]
  },
  {
   "cell_type": "markdown",
   "metadata": {},
   "source": []
  },
  {
   "cell_type": "code",
   "execution_count": null,
   "metadata": {},
   "outputs": [],
   "source": [
    "def saferepr(o, maxlen=None, maxlevels=3, seen=None):\n",
    "    # type: (Any, int, int, Set) -> str\n",
    "    \"\"\"Safe version of :func:`repr`.\n",
    "\n",
    "    Warning:\n",
    "        Make sure you set the maxlen argument, or it will be very slow\n",
    "        for recursive objects.  With the maxlen set, it's often faster\n",
    "        than built-in repr.\n",
    "    \"\"\"\n",
    "    return \"\".join(_saferepr(o, maxlen=maxlen, maxlevels=maxlevels, seen=seen))"
   ]
  },
  {
   "cell_type": "markdown",
   "metadata": {},
   "source": []
  },
  {
   "cell_type": "code",
   "execution_count": null,
   "metadata": {},
   "outputs": [],
   "source": [
    "def _chaindict(mapping, LIT_DICT_KVSEP=LIT_DICT_KVSEP, LIT_LIST_SEP=LIT_LIST_SEP):\n",
    "    # type: (Dict, _literal, _literal) -> Iterator[Any]\n",
    "    size = len(mapping)\n",
    "    for i, (k, v) in enumerate(mapping.items()):\n",
    "        yield _key(k)\n",
    "        yield LIT_DICT_KVSEP\n",
    "        yield v\n",
    "        if i < (size - 1):\n",
    "            yield LIT_LIST_SEP"
   ]
  },
  {
   "cell_type": "markdown",
   "metadata": {},
   "source": []
  },
  {
   "cell_type": "code",
   "execution_count": null,
   "metadata": {},
   "outputs": [],
   "source": [
    "def _chainlist(it, LIT_LIST_SEP=LIT_LIST_SEP):\n",
    "    # type: (List) -> Iterator[Any]\n",
    "    size = len(it)\n",
    "    for i, v in enumerate(it):\n",
    "        yield v\n",
    "        if i < (size - 1):\n",
    "            yield LIT_LIST_SEP"
   ]
  },
  {
   "cell_type": "markdown",
   "metadata": {},
   "source": []
  },
  {
   "cell_type": "code",
   "execution_count": null,
   "metadata": {},
   "outputs": [],
   "source": [
    "def _repr_empty_set(s):\n",
    "    # type: (Set) -> str\n",
    "    return f\"{type(s).__name__}()\""
   ]
  },
  {
   "cell_type": "markdown",
   "metadata": {},
   "source": []
  },
  {
   "cell_type": "code",
   "execution_count": null,
   "metadata": {},
   "outputs": [],
   "source": [
    "def _safetext(val):\n",
    "    # type: (AnyStr) -> str\n",
    "    if isinstance(val, bytes):\n",
    "        try:\n",
    "            val.encode(\"utf-8\")\n",
    "        except UnicodeDecodeError:\n",
    "            # is bytes with unrepresentable characters, attempt\n",
    "            # to convert back to unicode\n",
    "            return val.decode(\"utf-8\", errors=\"backslashreplace\")\n",
    "    return val"
   ]
  },
  {
   "cell_type": "markdown",
   "metadata": {},
   "source": []
  },
  {
   "cell_type": "code",
   "execution_count": null,
   "metadata": {},
   "outputs": [],
   "source": [
    "def _format_binary_bytes(val, maxlen, ellipsis=\"...\"):\n",
    "    # type: (bytes, int, str) -> str\n",
    "    if maxlen and len(val) > maxlen:\n",
    "        # we don't want to copy all the data, just take what we need.\n",
    "        chunk = memoryview(val)[:maxlen].tobytes()\n",
    "        return _bytes_prefix(f\"'{_repr_binary_bytes(chunk)}{ellipsis}'\")\n",
    "    return _bytes_prefix(f\"'{_repr_binary_bytes(val)}'\")"
   ]
  },
  {
   "cell_type": "markdown",
   "metadata": {},
   "source": []
  },
  {
   "cell_type": "code",
   "execution_count": null,
   "metadata": {},
   "outputs": [],
   "source": [
    "def _bytes_prefix(s):\n",
    "    return \"b\" + s"
   ]
  },
  {
   "cell_type": "markdown",
   "metadata": {},
   "source": []
  },
  {
   "cell_type": "code",
   "execution_count": null,
   "metadata": {},
   "outputs": [],
   "source": [
    "def _repr_binary_bytes(val):\n",
    "    # type: (bytes) -> str\n",
    "    try:\n",
    "        return val.decode(\"utf-8\")\n",
    "    except UnicodeDecodeError:\n",
    "        # possibly not unicode, but binary data so format as hex.\n",
    "        return val.hex()"
   ]
  },
  {
   "cell_type": "markdown",
   "metadata": {},
   "source": []
  },
  {
   "cell_type": "code",
   "execution_count": null,
   "metadata": {},
   "outputs": [],
   "source": [
    "def _format_chars(val, maxlen):\n",
    "    # type: (AnyStr, int) -> str\n",
    "    if isinstance(val, bytes):  # pragma: no cover\n",
    "        return _format_binary_bytes(val, maxlen)\n",
    "    else:\n",
    "        return \"'{}'\".format(truncate(val, maxlen).replace(\"'\", \"\\\\'\"))"
   ]
  },
  {
   "cell_type": "markdown",
   "metadata": {},
   "source": []
  },
  {
   "cell_type": "code",
   "execution_count": null,
   "metadata": {},
   "outputs": [],
   "source": [
    "def _repr(obj):\n",
    "    # type: (Any) -> str\n",
    "    try:\n",
    "        return repr(obj)\n",
    "    except Exception as exc:\n",
    "        stack = \"\\n\".join(traceback.format_stack())\n",
    "        return f\"<Unrepresentable {type(obj)!r}{id(obj):#x}: {exc!r} {stack!r}>\""
   ]
  },
  {
   "cell_type": "markdown",
   "metadata": {},
   "source": []
  },
  {
   "cell_type": "code",
   "execution_count": null,
   "metadata": {},
   "outputs": [],
   "source": [
    "def _saferepr(o, maxlen=None, maxlevels=3, seen=None):\n",
    "    # type: (Any, int, int, Set) -> str\n",
    "    stack = deque([iter([o])])\n",
    "    for token, it in reprstream(stack, seen=seen, maxlevels=maxlevels):\n",
    "        if maxlen is not None and maxlen <= 0:\n",
    "            yield \", ...\"\n",
    "            # move rest back to stack, so that we can include\n",
    "            # dangling parens.\n",
    "            stack.append(it)\n",
    "            break\n",
    "        if isinstance(token, _literal):\n",
    "            val = token.value\n",
    "        elif isinstance(token, _key):\n",
    "            val = saferepr(token.value, maxlen, maxlevels)\n",
    "        elif isinstance(token, _quoted):\n",
    "            val = _format_chars(token.value, maxlen)\n",
    "        else:\n",
    "            val = _safetext(truncate(token, maxlen))\n",
    "        yield val\n",
    "        if maxlen is not None:\n",
    "            maxlen -= len(val)\n",
    "    for rest1 in stack:\n",
    "        # maxlen exceeded, process any dangling parens.\n",
    "        for rest2 in rest1:\n",
    "            if isinstance(rest2, _literal) and not rest2.truncate:\n",
    "                yield rest2.value"
   ]
  },
  {
   "cell_type": "markdown",
   "metadata": {},
   "source": []
  },
  {
   "cell_type": "code",
   "execution_count": null,
   "metadata": {},
   "outputs": [],
   "source": [
    "def _reprseq(val, lit_start, lit_end, builtin_type, chainer):\n",
    "    # type: (Sequence, _literal, _literal, Any, Any) -> Tuple[Any, ...]\n",
    "    if type(val) is builtin_type:\n",
    "        return lit_start, lit_end, chainer(val)\n",
    "    return (\n",
    "        _literal(f\"{type(val).__name__}({lit_start.value}\", False, +1),\n",
    "        _literal(f\"{lit_end.value})\", False, -1),\n",
    "        chainer(val),\n",
    "    )"
   ]
  },
  {
   "cell_type": "markdown",
   "metadata": {},
   "source": []
  },
  {
   "cell_type": "code",
   "execution_count": null,
   "metadata": {},
   "outputs": [],
   "source": [
    "def reprstream(\n",
    "    stack: deque,\n",
    "    seen: Optional[Set] = None,\n",
    "    maxlevels: int = 3,\n",
    "    level: int = 0,\n",
    "    isinstance: Callable = isinstance,\n",
    ") -> Iterator[Any]:\n",
    "    \"\"\"Streaming repr, yielding tokens.\"\"\"\n",
    "    seen = seen or set()\n",
    "    append = stack.append\n",
    "    popleft = stack.popleft\n",
    "    is_in_seen = seen.__contains__\n",
    "    discard_from_seen = seen.discard\n",
    "    add_to_seen = seen.add\n",
    "\n",
    "    while stack:\n",
    "        lit_start = lit_end = None\n",
    "        it = popleft()\n",
    "        for val in it:\n",
    "            orig = val\n",
    "            if isinstance(val, _dirty):\n",
    "                discard_from_seen(val.objid)\n",
    "                continue\n",
    "            elif isinstance(val, _literal):\n",
    "                level += val.direction\n",
    "                yield val, it\n",
    "            elif isinstance(val, _key):\n",
    "                yield val, it\n",
    "            elif isinstance(val, Decimal):\n",
    "                yield _repr(val), it\n",
    "            elif isinstance(val, safe_t):\n",
    "                yield str(val), it\n",
    "            elif isinstance(val, chars_t):\n",
    "                yield _quoted(val), it\n",
    "            elif isinstance(val, range):  # pragma: no cover\n",
    "                yield _repr(val), it\n",
    "            else:\n",
    "                if isinstance(val, set_t):\n",
    "                    if not val:\n",
    "                        yield _repr_empty_set(val), it\n",
    "                        continue\n",
    "                    lit_start, lit_end, val = _reprseq(\n",
    "                        val,\n",
    "                        LIT_SET_START,\n",
    "                        LIT_SET_END,\n",
    "                        set,\n",
    "                        _chainlist,\n",
    "                    )\n",
    "                elif isinstance(val, tuple):\n",
    "                    lit_start, lit_end, val = (\n",
    "                        LIT_TUPLE_START,\n",
    "                        LIT_TUPLE_END_SV if len(val) == 1 else LIT_TUPLE_END,\n",
    "                        _chainlist(val),\n",
    "                    )\n",
    "                elif isinstance(val, dict):\n",
    "                    lit_start, lit_end, val = (\n",
    "                        LIT_DICT_START,\n",
    "                        LIT_DICT_END,\n",
    "                        _chaindict(val),\n",
    "                    )\n",
    "                elif isinstance(val, list):\n",
    "                    lit_start, lit_end, val = (\n",
    "                        LIT_LIST_START,\n",
    "                        LIT_LIST_END,\n",
    "                        _chainlist(val),\n",
    "                    )\n",
    "                else:\n",
    "                    # other type of object\n",
    "                    yield _repr(val), it\n",
    "                    continue\n",
    "\n",
    "                if maxlevels and level >= maxlevels:\n",
    "                    yield f\"{lit_start.value}...{lit_end.value}\", it\n",
    "                    continue\n",
    "\n",
    "                objid = id(orig)\n",
    "                if is_in_seen(objid):\n",
    "                    yield _recursion(orig), it\n",
    "                    continue\n",
    "                add_to_seen(objid)\n",
    "\n",
    "                # Recurse into the new list/tuple/dict/etc by tacking\n",
    "                # the rest of our iterable onto the new it: this way\n",
    "                # it works similar to a linked list.\n",
    "                append(chain([lit_start], val, [_dirty(objid), lit_end], it))\n",
    "                break"
   ]
  },
  {
   "cell_type": "markdown",
   "metadata": {},
   "source": []
  }
 ],
 "metadata": {
  "language_info": {
   "name": "python"
  }
 },
 "nbformat": 4,
 "nbformat_minor": 2
}