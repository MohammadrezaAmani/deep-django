{
 "cells": [
  {
   "cell_type": "code",
   "execution_count": null,
   "metadata": {},
   "outputs": [],
   "source": [
    "\"\"\"Deprecation utilities.\"\"\"\n",
    "import warnings\n",
    "\n",
    "from vine.utils import wraps\n",
    "\n",
    "from celery.exceptions import CDeprecationWarning, CPendingDeprecationWarning\n",
    "\n",
    "__all__ = (\"Callable\", \"Property\", \"warn\")"
   ]
  },
  {
   "cell_type": "markdown",
   "metadata": {},
   "source": []
  },
  {
   "cell_type": "code",
   "execution_count": null,
   "metadata": {},
   "outputs": [],
   "source": [
    "PENDING_DEPRECATION_FMT = \"\"\"\n",
    "    {description} is scheduled for deprecation in \\\n",
    "    version {deprecation} and removal in version v{removal}. \\\n",
    "    {alternative}\n",
    "\"\"\"\n",
    "\n",
    "DEPRECATION_FMT = \"\"\"\n",
    "    {description} is deprecated and scheduled for removal in\n",
    "    version {removal}. {alternative}\n",
    "\"\"\""
   ]
  },
  {
   "cell_type": "markdown",
   "metadata": {},
   "source": []
  },
  {
   "cell_type": "code",
   "execution_count": null,
   "metadata": {},
   "outputs": [],
   "source": [
    "def warn(\n",
    "    description=None, deprecation=None, removal=None, alternative=None, stacklevel=2\n",
    "):\n",
    "    \"\"\"Warn of (pending) deprecation.\"\"\"\n",
    "    ctx = {\n",
    "        \"description\": description,\n",
    "        \"deprecation\": deprecation,\n",
    "        \"removal\": removal,\n",
    "        \"alternative\": alternative,\n",
    "    }\n",
    "    if deprecation is not None:\n",
    "        w = CPendingDeprecationWarning(PENDING_DEPRECATION_FMT.format(**ctx))\n",
    "    else:\n",
    "        w = CDeprecationWarning(DEPRECATION_FMT.format(**ctx))\n",
    "    warnings.warn(w, stacklevel=stacklevel)"
   ]
  },
  {
   "cell_type": "markdown",
   "metadata": {},
   "source": []
  },
  {
   "cell_type": "code",
   "execution_count": null,
   "metadata": {},
   "outputs": [],
   "source": [
    "def Callable(deprecation=None, removal=None, alternative=None, description=None):\n",
    "    \"\"\"Decorator for deprecated functions.\n",
    "\n",
    "    A deprecation warning will be emitted when the function is called.\n",
    "\n",
    "    Arguments:\n",
    "        deprecation (str): Version that marks first deprecation, if this\n",
    "            argument isn't set a ``PendingDeprecationWarning`` will be\n",
    "            emitted instead.\n",
    "        removal (str): Future version when this feature will be removed.\n",
    "        alternative (str): Instructions for an alternative solution (if any).\n",
    "        description (str): Description of what's being deprecated.\n",
    "    \"\"\"\n",
    "\n",
    "    def _inner(fun):\n",
    "        @wraps(fun)\n",
    "        def __inner(*args, **kwargs):\n",
    "            from .imports import qualname\n",
    "\n",
    "            warn(\n",
    "                description=description or qualname(fun),\n",
    "                deprecation=deprecation,\n",
    "                removal=removal,\n",
    "                alternative=alternative,\n",
    "                stacklevel=3,\n",
    "            )\n",
    "            return fun(*args, **kwargs)\n",
    "\n",
    "        return __inner\n",
    "\n",
    "    return _inner"
   ]
  },
  {
   "cell_type": "markdown",
   "metadata": {},
   "source": []
  },
  {
   "cell_type": "code",
   "execution_count": null,
   "metadata": {},
   "outputs": [],
   "source": [
    "def Property(deprecation=None, removal=None, alternative=None, description=None):\n",
    "    \"\"\"Decorator for deprecated properties.\"\"\"\n",
    "\n",
    "    def _inner(fun):\n",
    "        return _deprecated_property(\n",
    "            fun,\n",
    "            deprecation=deprecation,\n",
    "            removal=removal,\n",
    "            alternative=alternative,\n",
    "            description=description or fun.__name__,\n",
    "        )\n",
    "\n",
    "    return _inner"
   ]
  },
  {
   "cell_type": "markdown",
   "metadata": {},
   "source": []
  },
  {
   "cell_type": "code",
   "execution_count": null,
   "metadata": {},
   "outputs": [],
   "source": [
    "class _deprecated_property:\n",
    "    def __init__(self, fget=None, fset=None, fdel=None, doc=None, **depreinfo):\n",
    "        self.__get = fget\n",
    "        self.__set = fset\n",
    "        self.__del = fdel\n",
    "        self.__name__, self.__module__, self.__doc__ = (\n",
    "            fget.__name__,\n",
    "            fget.__module__,\n",
    "            fget.__doc__,\n",
    "        )\n",
    "        self.depreinfo = depreinfo\n",
    "        self.depreinfo.setdefault(\"stacklevel\", 3)\n",
    "\n",
    "    def __get__(self, obj, type=None):\n",
    "        if obj is None:\n",
    "            return self\n",
    "        warn(**self.depreinfo)\n",
    "        return self.__get(obj)\n",
    "\n",
    "    def __set__(self, obj, value):\n",
    "        if obj is None:\n",
    "            return self\n",
    "        if self.__set is None:\n",
    "            raise AttributeError(\"cannot set attribute\")\n",
    "        warn(**self.depreinfo)\n",
    "        self.__set(obj, value)\n",
    "\n",
    "    def __delete__(self, obj):\n",
    "        if obj is None:\n",
    "            return self\n",
    "        if self.__del is None:\n",
    "            raise AttributeError(\"cannot delete attribute\")\n",
    "        warn(**self.depreinfo)\n",
    "        self.__del(obj)\n",
    "\n",
    "    def setter(self, fset):\n",
    "        return self.__class__(self.__get, fset, self.__del, **self.depreinfo)\n",
    "\n",
    "    def deleter(self, fdel):\n",
    "        return self.__class__(self.__get, self.__set, fdel, **self.depreinfo)"
   ]
  },
  {
   "cell_type": "markdown",
   "metadata": {},
   "source": []
  }
 ],
 "metadata": {
  "language_info": {
   "name": "python"
  }
 },
 "nbformat": 4,
 "nbformat_minor": 2
}