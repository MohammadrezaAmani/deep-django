{
 "cells": [
  {
   "cell_type": "code",
   "execution_count": null,
   "metadata": {},
   "outputs": [],
   "source": [
    "\"\"\"Private keys for the security serializer.\"\"\"\n",
    "from cryptography.hazmat.backends import default_backend\n",
    "from cryptography.hazmat.primitives import serialization\n",
    "from cryptography.hazmat.primitives.asymmetric import padding, rsa\n",
    "from kombu.utils.encoding import ensure_bytes\n",
    "\n",
    "from .utils import reraise_errors\n",
    "\n",
    "__all__ = (\"PrivateKey\",)"
   ]
  },
  {
   "cell_type": "markdown",
   "metadata": {},
   "source": []
  },
  {
   "cell_type": "code",
   "execution_count": null,
   "metadata": {},
   "outputs": [],
   "source": [
    "class PrivateKey:\n",
    "    \"\"\"Represents a private key.\"\"\"\n",
    "\n",
    "    def __init__(self, key, password=None):\n",
    "        with reraise_errors(\"Invalid private key: {0!r}\", errors=(ValueError,)):\n",
    "            self._key = serialization.load_pem_private_key(\n",
    "                ensure_bytes(key),\n",
    "                password=ensure_bytes(password),\n",
    "                backend=default_backend(),\n",
    "            )\n",
    "\n",
    "            if not isinstance(self._key, rsa.RSAPrivateKey):\n",
    "                raise ValueError(\"Non-RSA keys are not supported.\")\n",
    "\n",
    "    def sign(self, data, digest):\n",
    "        \"\"\"Sign string containing data.\"\"\"\n",
    "        with reraise_errors(\"Unable to sign data: {0!r}\"):\n",
    "            pad = padding.PSS(\n",
    "                mgf=padding.MGF1(digest), salt_length=padding.PSS.MAX_LENGTH\n",
    "            )\n",
    "\n",
    "            return self._key.sign(ensure_bytes(data), pad, digest)"
   ]
  },
  {
   "cell_type": "markdown",
   "metadata": {},
   "source": []
  }
 ],
 "metadata": {
  "language_info": {
   "name": "python"
  }
 },
 "nbformat": 4,
 "nbformat_minor": 2
}