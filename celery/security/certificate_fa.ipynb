{
 "cells": [
  {
   "cell_type": "code",
   "execution_count": null,
   "metadata": {},
   "outputs": [],
   "source": [
    "\"\"\"X.509 certificates.\"\"\"\n",
    "from __future__ import annotations\n",
    "\n",
    "import datetime\n",
    "import glob\n",
    "import os\n",
    "from typing import TYPE_CHECKING, Iterator\n",
    "\n",
    "from cryptography.hazmat.backends import default_backend\n",
    "from cryptography.hazmat.primitives.asymmetric import padding, rsa\n",
    "from cryptography.x509 import load_pem_x509_certificate\n",
    "from kombu.utils.encoding import bytes_to_str, ensure_bytes\n",
    "\n",
    "from celery.exceptions import SecurityError\n",
    "\n",
    "from .utils import reraise_errors\n",
    "\n",
    "if TYPE_CHECKING:\n",
    "    from cryptography.hazmat.primitives.asymmetric.dsa import DSAPublicKey\n",
    "    from cryptography.hazmat.primitives.asymmetric.ec import EllipticCurvePublicKey\n",
    "    from cryptography.hazmat.primitives.asymmetric.ed448 import Ed448PublicKey\n",
    "    from cryptography.hazmat.primitives.asymmetric.ed25519 import Ed25519PublicKey\n",
    "    from cryptography.hazmat.primitives.asymmetric.rsa import RSAPublicKey\n",
    "    from cryptography.hazmat.primitives.asymmetric.utils import Prehashed\n",
    "    from cryptography.hazmat.primitives.hashes import HashAlgorithm"
   ]
  },
  {
   "cell_type": "markdown",
   "metadata": {},
   "source": []
  },
  {
   "cell_type": "code",
   "execution_count": null,
   "metadata": {},
   "outputs": [],
   "source": [
    "__all__ = (\"Certificate\", \"CertStore\", \"FSCertStore\")"
   ]
  },
  {
   "cell_type": "markdown",
   "metadata": {},
   "source": []
  },
  {
   "cell_type": "code",
   "execution_count": null,
   "metadata": {},
   "outputs": [],
   "source": [
    "class Certificate:\n",
    "    \"\"\"X.509 certificate.\"\"\"\n",
    "\n",
    "    def __init__(self, cert: str) -> None:\n",
    "        with reraise_errors(\"Invalid certificate: {0!r}\", errors=(ValueError,)):\n",
    "            self._cert = load_pem_x509_certificate(\n",
    "                ensure_bytes(cert), backend=default_backend()\n",
    "            )\n",
    "\n",
    "            if not isinstance(self._cert.public_key(), rsa.RSAPublicKey):\n",
    "                raise ValueError(\"Non-RSA certificates are not supported.\")\n",
    "\n",
    "    def has_expired(self) -> bool:\n",
    "        \"\"\"Check if the certificate has expired.\"\"\"\n",
    "        return (\n",
    "            datetime.datetime.now(datetime.timezone.utc) >= self._cert.not_valid_after\n",
    "        )\n",
    "\n",
    "    def get_pubkey(\n",
    "        self,\n",
    "    ) -> (\n",
    "        DSAPublicKey\n",
    "        | EllipticCurvePublicKey\n",
    "        | Ed448PublicKey\n",
    "        | Ed25519PublicKey\n",
    "        | RSAPublicKey\n",
    "    ):\n",
    "        return self._cert.public_key()\n",
    "\n",
    "    def get_serial_number(self) -> int:\n",
    "        \"\"\"Return the serial number in the certificate.\"\"\"\n",
    "        return self._cert.serial_number\n",
    "\n",
    "    def get_issuer(self) -> str:\n",
    "        \"\"\"Return issuer (CA) as a string.\"\"\"\n",
    "        return \" \".join(x.value for x in self._cert.issuer)\n",
    "\n",
    "    def get_id(self) -> str:\n",
    "        \"\"\"Serial number/issuer pair uniquely identifies a certificate.\"\"\"\n",
    "        return f\"{self.get_issuer()} {self.get_serial_number()}\"\n",
    "\n",
    "    def verify(\n",
    "        self, data: bytes, signature: bytes, digest: HashAlgorithm | Prehashed\n",
    "    ) -> None:\n",
    "        \"\"\"Verify signature for string containing data.\"\"\"\n",
    "        with reraise_errors(\"Bad signature: {0!r}\"):\n",
    "            pad = padding.PSS(\n",
    "                mgf=padding.MGF1(digest), salt_length=padding.PSS.MAX_LENGTH\n",
    "            )\n",
    "\n",
    "            self.get_pubkey().verify(signature, ensure_bytes(data), pad, digest)"
   ]
  },
  {
   "cell_type": "markdown",
   "metadata": {},
   "source": []
  },
  {
   "cell_type": "code",
   "execution_count": null,
   "metadata": {},
   "outputs": [],
   "source": [
    "class CertStore:\n",
    "    \"\"\"Base class for certificate stores.\"\"\"\n",
    "\n",
    "    def __init__(self) -> None:\n",
    "        self._certs: dict[str, Certificate] = {}\n",
    "\n",
    "    def itercerts(self) -> Iterator[Certificate]:\n",
    "        \"\"\"Return certificate iterator.\"\"\"\n",
    "        yield from self._certs.values()\n",
    "\n",
    "    def __getitem__(self, id: str) -> Certificate:\n",
    "        \"\"\"Get certificate by id.\"\"\"\n",
    "        try:\n",
    "            return self._certs[bytes_to_str(id)]\n",
    "        except KeyError:\n",
    "            raise SecurityError(f\"Unknown certificate: {id!r}\")\n",
    "\n",
    "    def add_cert(self, cert: Certificate) -> None:\n",
    "        cert_id = bytes_to_str(cert.get_id())\n",
    "        if cert_id in self._certs:\n",
    "            raise SecurityError(f\"Duplicate certificate: {id!r}\")\n",
    "        self._certs[cert_id] = cert"
   ]
  },
  {
   "cell_type": "markdown",
   "metadata": {},
   "source": []
  },
  {
   "cell_type": "code",
   "execution_count": null,
   "metadata": {},
   "outputs": [],
   "source": [
    "class FSCertStore(CertStore):\n",
    "    \"\"\"File system certificate store.\"\"\"\n",
    "\n",
    "    def __init__(self, path: str) -> None:\n",
    "        super().__init__()\n",
    "        if os.path.isdir(path):\n",
    "            path = os.path.join(path, \"*\")\n",
    "        for p in glob.glob(path):\n",
    "            with open(p) as f:\n",
    "                cert = Certificate(f.read())\n",
    "                if cert.has_expired():\n",
    "                    raise SecurityError(f\"Expired certificate: {cert.get_id()!r}\")\n",
    "                self.add_cert(cert)"
   ]
  },
  {
   "cell_type": "markdown",
   "metadata": {},
   "source": []
  }
 ],
 "metadata": {
  "language_info": {
   "name": "python"
  }
 },
 "nbformat": 4,
 "nbformat_minor": 2
}