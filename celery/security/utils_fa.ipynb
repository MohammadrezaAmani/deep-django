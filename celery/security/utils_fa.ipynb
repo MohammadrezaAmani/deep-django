{
 "cells": [
  {
   "cell_type": "code",
   "execution_count": null,
   "metadata": {},
   "outputs": [],
   "source": [
    "\"\"\"Utilities used by the message signing serializer.\"\"\"\n",
    "import sys\n",
    "from contextlib import contextmanager\n",
    "\n",
    "import cryptography.exceptions\n",
    "from cryptography.hazmat.primitives import hashes\n",
    "\n",
    "from celery.exceptions import SecurityError, reraise\n",
    "\n",
    "__all__ = (\n",
    "    \"get_digest_algorithm\",\n",
    "    \"reraise_errors\",\n",
    ")"
   ]
  },
  {
   "cell_type": "markdown",
   "metadata": {},
   "source": []
  },
  {
   "cell_type": "code",
   "execution_count": null,
   "metadata": {},
   "outputs": [],
   "source": [
    "def get_digest_algorithm(digest=\"sha256\"):\n",
    "    \"\"\"Convert string to hash object of cryptography library.\"\"\"\n",
    "    assert digest is not None\n",
    "    return getattr(hashes, digest.upper())()"
   ]
  },
  {
   "cell_type": "markdown",
   "metadata": {},
   "source": []
  },
  {
   "cell_type": "code",
   "execution_count": null,
   "metadata": {},
   "outputs": [],
   "source": [
    "@contextmanager\n",
    "def reraise_errors(msg=\"{0!r}\", errors=None):\n",
    "    \"\"\"Context reraising crypto errors as :exc:`SecurityError`.\"\"\"\n",
    "    errors = (cryptography.exceptions,) if errors is None else errors\n",
    "    try:\n",
    "        yield\n",
    "    except errors as exc:\n",
    "        reraise(SecurityError, SecurityError(msg.format(exc)), sys.exc_info()[2])"
   ]
  },
  {
   "cell_type": "markdown",
   "metadata": {},
   "source": []
  }
 ],
 "metadata": {
  "language_info": {
   "name": "python"
  }
 },
 "nbformat": 4,
 "nbformat_minor": 2
}