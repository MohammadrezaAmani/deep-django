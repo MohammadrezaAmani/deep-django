{
 "cells": [
  {
   "cell_type": "code",
   "execution_count": null,
   "metadata": {},
   "outputs": [],
   "source": [
    "\"\"\"Message Signing Serializer.\"\"\"\n",
    "from kombu.serialization import (\n",
    "    disable_insecure_serializers as _disable_insecure_serializers,\n",
    ")\n",
    "from kombu.serialization import registry\n",
    "\n",
    "from celery.exceptions import ImproperlyConfigured\n",
    "\n",
    "from .serialization import register_auth  # : need cryptography first\n",
    "\n",
    "CRYPTOGRAPHY_NOT_INSTALLED = \"\"\"\\\n",
    "You need to install the cryptography library to use the auth serializer.\n",
    "Please install by:\n",
    "\n",
    "    $ pip install cryptography\n",
    "\"\"\"\n",
    "\n",
    "SECURITY_SETTING_MISSING = \"\"\"\\\n",
    "Sorry, but you have to configure the\n",
    "    * security_key\n",
    "    * security_certificate, and the\n",
    "    * security_cert_store\n",
    "configuration settings to use the auth serializer.\n",
    "\n",
    "Please see the configuration reference for more information.\n",
    "\"\"\"\n",
    "\n",
    "SETTING_MISSING = \"\"\"\\\n",
    "You have to configure a special task serializer\n",
    "for signing and verifying tasks:\n",
    "    * task_serializer = 'auth'\n",
    "\n",
    "You have to accept only tasks which are serialized with 'auth'.\n",
    "There is no point in signing messages if they are not verified.\n",
    "    * accept_content = ['auth']\n",
    "\"\"\"\n",
    "\n",
    "__all__ = (\"setup_security\",)\n",
    "\n",
    "try:\n",
    "    import cryptography  # noqa\n",
    "except ImportError:\n",
    "    raise ImproperlyConfigured(CRYPTOGRAPHY_NOT_INSTALLED)"
   ]
  },
  {
   "cell_type": "markdown",
   "metadata": {},
   "source": []
  },
  {
   "cell_type": "code",
   "execution_count": null,
   "metadata": {},
   "outputs": [],
   "source": [
    "def setup_security(\n",
    "    allowed_serializers=None,\n",
    "    key=None,\n",
    "    key_password=None,\n",
    "    cert=None,\n",
    "    store=None,\n",
    "    digest=None,\n",
    "    serializer=\"json\",\n",
    "    app=None,\n",
    "):\n",
    "    \"\"\"See :meth:`@Celery.setup_security`.\"\"\"\n",
    "    if app is None:\n",
    "        from celery import current_app\n",
    "\n",
    "        app = current_app._get_current_object()\n",
    "\n",
    "    _disable_insecure_serializers(allowed_serializers)\n",
    "\n",
    "    # check conf for sane security settings\n",
    "    conf = app.conf\n",
    "    if conf.task_serializer != \"auth\" or conf.accept_content != [\"auth\"]:\n",
    "        raise ImproperlyConfigured(SETTING_MISSING)\n",
    "\n",
    "    key = key or conf.security_key\n",
    "    key_password = key_password or conf.security_key_password\n",
    "    cert = cert or conf.security_certificate\n",
    "    store = store or conf.security_cert_store\n",
    "    digest = digest or conf.security_digest\n",
    "\n",
    "    if not (key and cert and store):\n",
    "        raise ImproperlyConfigured(SECURITY_SETTING_MISSING)\n",
    "\n",
    "    with open(key) as kf:\n",
    "        with open(cert) as cf:\n",
    "            register_auth(kf.read(), key_password, cf.read(), store, digest, serializer)\n",
    "    registry._set_default_serializer(\"auth\")"
   ]
  },
  {
   "cell_type": "markdown",
   "metadata": {},
   "source": []
  },
  {
   "cell_type": "code",
   "execution_count": null,
   "metadata": {},
   "outputs": [],
   "source": [
    "def disable_untrusted_serializers(whitelist=None):\n",
    "    _disable_insecure_serializers(allowed=whitelist)"
   ]
  },
  {
   "cell_type": "markdown",
   "metadata": {},
   "source": []
  }
 ],
 "metadata": {
  "language_info": {
   "name": "python"
  }
 },
 "nbformat": 4,
 "nbformat_minor": 2
}