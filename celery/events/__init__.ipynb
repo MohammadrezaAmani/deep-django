{
 "cells": [
  {
   "cell_type": "code",
   "execution_count": null,
   "metadata": {},
   "outputs": [],
   "source": [
    "\"\"\"Monitoring Event Receiver+Dispatcher.\n",
    "\n",
    "Events is a stream of messages sent for certain actions occurring\n",
    "in the worker (and clients if :setting:`task_send_sent_event`\n",
    "is enabled), used for monitoring purposes.\n",
    "\"\"\"\n",
    "\n",
    "from .dispatcher import EventDispatcher\n",
    "from .event import Event, event_exchange, get_exchange, group_from\n",
    "from .receiver import EventReceiver\n",
    "\n",
    "__all__ = (\n",
    "    \"Event\",\n",
    "    \"EventDispatcher\",\n",
    "    \"EventReceiver\",\n",
    "    \"event_exchange\",\n",
    "    \"get_exchange\",\n",
    "    \"group_from\",\n",
    ")"
   ]
  },
  {
   "cell_type": "markdown",
   "metadata": {},
   "source": []
  }
 ],
 "metadata": {
  "language_info": {
   "name": "python"
  }
 },
 "nbformat": 4,
 "nbformat_minor": 2
}