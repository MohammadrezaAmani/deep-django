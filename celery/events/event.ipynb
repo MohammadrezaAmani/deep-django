{
 "cells": [
  {
   "cell_type": "code",
   "execution_count": null,
   "metadata": {},
   "outputs": [],
   "source": [
    "\"\"\"Creating events, and event exchange definition.\"\"\"\n",
    "import time\n",
    "from copy import copy\n",
    "\n",
    "from kombu import Exchange\n",
    "\n",
    "__all__ = (\n",
    "    \"Event\",\n",
    "    \"event_exchange\",\n",
    "    \"get_exchange\",\n",
    "    \"group_from\",\n",
    ")\n",
    "\n",
    "EVENT_EXCHANGE_NAME = \"celeryev\"\n",
    "#: Exchange used to send events on.\n",
    "#: Note: Use :func:`get_exchange` instead, as the type of\n",
    "#: exchange will vary depending on the broker connection.\n",
    "event_exchange = Exchange(EVENT_EXCHANGE_NAME, type=\"topic\")"
   ]
  },
  {
   "cell_type": "markdown",
   "metadata": {},
   "source": []
  },
  {
   "cell_type": "code",
   "execution_count": null,
   "metadata": {},
   "outputs": [],
   "source": [
    "def Event(type, _fields=None, __dict__=dict, __now__=time.time, **fields):\n",
    "    \"\"\"Create an event.\n",
    "\n",
    "    Notes:\n",
    "        An event is simply a dictionary: the only required field is ``type``.\n",
    "        A ``timestamp`` field will be set to the current time if not provided.\n",
    "    \"\"\"\n",
    "    event = __dict__(_fields, **fields) if _fields else fields\n",
    "    if \"timestamp\" not in event:\n",
    "        event.update(timestamp=__now__(), type=type)\n",
    "    else:\n",
    "        event[\"type\"] = type\n",
    "    return event"
   ]
  },
  {
   "cell_type": "markdown",
   "metadata": {},
   "source": []
  },
  {
   "cell_type": "code",
   "execution_count": null,
   "metadata": {},
   "outputs": [],
   "source": [
    "def group_from(type):\n",
    "    \"\"\"Get the group part of an event type name.\n",
    "\n",
    "    Example:\n",
    "        >>> group_from('task-sent')\n",
    "        'task'\n",
    "\n",
    "        >>> group_from('custom-my-event')\n",
    "        'custom'\n",
    "    \"\"\"\n",
    "    return type.split(\"-\", 1)[0]"
   ]
  },
  {
   "cell_type": "markdown",
   "metadata": {},
   "source": []
  },
  {
   "cell_type": "code",
   "execution_count": null,
   "metadata": {},
   "outputs": [],
   "source": [
    "def get_exchange(conn, name=EVENT_EXCHANGE_NAME):\n",
    "    \"\"\"Get exchange used for sending events.\n",
    "\n",
    "    Arguments:\n",
    "        conn (kombu.Connection): Connection used for sending/receiving events.\n",
    "        name (str): Name of the exchange. Default is ``celeryev``.\n",
    "\n",
    "    Note:\n",
    "        The event type changes if Redis is used as the transport\n",
    "        (from topic -> fanout).\n",
    "    \"\"\"\n",
    "    ex = copy(event_exchange)\n",
    "    if conn.transport.driver_type == \"redis\":\n",
    "        # quick hack for Issue #436\n",
    "        ex.type = \"fanout\"\n",
    "    if name != ex.name:\n",
    "        ex.name = name\n",
    "    return ex"
   ]
  },
  {
   "cell_type": "markdown",
   "metadata": {},
   "source": []
  }
 ],
 "metadata": {
  "language_info": {
   "name": "python"
  }
 },
 "nbformat": 4,
 "nbformat_minor": 2
}