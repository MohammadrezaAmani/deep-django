{
 "cells": [
  {
   "cell_type": "code",
   "execution_count": null,
   "metadata": {},
   "outputs": [],
   "source": [
    "\"\"\"Utility to dump events to screen.\n",
    "\n",
    "This is a simple program that dumps events to the console\n",
    "as they happen.  Think of it like a `tcpdump` for Celery events.\n",
    "\"\"\"\n",
    "import sys\n",
    "from datetime import datetime\n",
    "\n",
    "from celery.app import app_or_default\n",
    "from celery.utils.functional import LRUCache\n",
    "from celery.utils.time import humanize_seconds\n",
    "\n",
    "__all__ = (\"Dumper\", \"evdump\")\n",
    "\n",
    "TASK_NAMES = LRUCache(limit=0xFFF)\n",
    "\n",
    "HUMAN_TYPES = {\n",
    "    \"worker-offline\": \"shutdown\",\n",
    "    \"worker-online\": \"started\",\n",
    "    \"worker-heartbeat\": \"heartbeat\",\n",
    "}\n",
    "\n",
    "CONNECTION_ERROR = \"\"\"\\\n",
    "-> Cannot connect to %s: %s.\n",
    "Trying again %s\n",
    "\"\"\""
   ]
  },
  {
   "cell_type": "markdown",
   "metadata": {},
   "source": []
  },
  {
   "cell_type": "code",
   "execution_count": null,
   "metadata": {},
   "outputs": [],
   "source": [
    "def humanize_type(type):\n",
    "    try:\n",
    "        return HUMAN_TYPES[type.lower()]\n",
    "    except KeyError:\n",
    "        return type.lower().replace(\"-\", \" \")"
   ]
  },
  {
   "cell_type": "markdown",
   "metadata": {},
   "source": []
  },
  {
   "cell_type": "code",
   "execution_count": null,
   "metadata": {},
   "outputs": [],
   "source": [
    "class Dumper:\n",
    "    \"\"\"Monitor events.\"\"\"\n",
    "\n",
    "    def __init__(self, out=sys.stdout):\n",
    "        self.out = out\n",
    "\n",
    "    def say(self, msg):\n",
    "        print(msg, file=self.out)\n",
    "        # need to flush so that output can be piped.\n",
    "        try:\n",
    "            self.out.flush()\n",
    "        except AttributeError:  # pragma: no cover\n",
    "            pass\n",
    "\n",
    "    def on_event(self, ev):\n",
    "        timestamp = datetime.utcfromtimestamp(ev.pop(\"timestamp\"))\n",
    "        type = ev.pop(\"type\").lower()\n",
    "        hostname = ev.pop(\"hostname\")\n",
    "        if type.startswith(\"task-\"):\n",
    "            uuid = ev.pop(\"uuid\")\n",
    "            if type in (\"task-received\", \"task-sent\"):\n",
    "                task = TASK_NAMES[uuid] = \"{}({}) args={} kwargs={}\".format(\n",
    "                    ev.pop(\"name\"), uuid, ev.pop(\"args\"), ev.pop(\"kwargs\")\n",
    "                )\n",
    "            else:\n",
    "                task = TASK_NAMES.get(uuid, \"\")\n",
    "            return self.format_task_event(hostname, timestamp, type, task, ev)\n",
    "        fields = \", \".join(f\"{key}={ev[key]}\" for key in sorted(ev))\n",
    "        sep = fields and \":\" or \"\"\n",
    "        self.say(f\"{hostname} [{timestamp}] {humanize_type(type)}{sep} {fields}\")\n",
    "\n",
    "    def format_task_event(self, hostname, timestamp, type, task, event):\n",
    "        fields = \", \".join(f\"{key}={event[key]}\" for key in sorted(event))\n",
    "        sep = fields and \":\" or \"\"\n",
    "        self.say(f\"{hostname} [{timestamp}] {humanize_type(type)}{sep} {task} {fields}\")"
   ]
  },
  {
   "cell_type": "markdown",
   "metadata": {},
   "source": []
  },
  {
   "cell_type": "code",
   "execution_count": null,
   "metadata": {},
   "outputs": [],
   "source": [
    "def evdump(app=None, out=sys.stdout):\n",
    "    \"\"\"Start event dump.\"\"\"\n",
    "    app = app_or_default(app)\n",
    "    dumper = Dumper(out=out)\n",
    "    dumper.say(\"-> evdump: starting capture...\")\n",
    "    conn = app.connection_for_read().clone()\n",
    "\n",
    "    def _error_handler(exc, interval):\n",
    "        dumper.say(\n",
    "            CONNECTION_ERROR\n",
    "            % (conn.as_uri(), exc, humanize_seconds(interval, \"in\", \" \"))\n",
    "        )\n",
    "\n",
    "    while 1:\n",
    "        try:\n",
    "            conn.ensure_connection(_error_handler)\n",
    "            recv = app.events.Receiver(conn, handlers={\"*\": dumper.on_event})\n",
    "            recv.capture()\n",
    "        except (KeyboardInterrupt, SystemExit):\n",
    "            return conn and conn.close()\n",
    "        except conn.connection_errors + conn.channel_errors:\n",
    "            dumper.say(\"-> Connection lost, attempting reconnect\")"
   ]
  },
  {
   "cell_type": "markdown",
   "metadata": {},
   "source": []
  },
  {
   "cell_type": "code",
   "execution_count": null,
   "metadata": {},
   "outputs": [],
   "source": [
    "if __name__ == \"__main__\":  # pragma: no cover\n",
    "    evdump()"
   ]
  },
  {
   "cell_type": "markdown",
   "metadata": {},
   "source": []
  }
 ],
 "metadata": {
  "language_info": {
   "name": "python"
  }
 },
 "nbformat": 4,
 "nbformat_minor": 2
}