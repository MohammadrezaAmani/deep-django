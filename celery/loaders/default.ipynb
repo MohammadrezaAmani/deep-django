{
 "cells": [
  {
   "cell_type": "code",
   "execution_count": null,
   "metadata": {},
   "outputs": [],
   "source": [
    "\"\"\"The default loader used when no custom app has been initialized.\"\"\"\n",
    "import os\n",
    "import warnings\n",
    "\n",
    "from celery.exceptions import NotConfigured\n",
    "from celery.utils.collections import DictAttribute\n",
    "from celery.utils.serialization import strtobool\n",
    "\n",
    "from .base import BaseLoader\n",
    "\n",
    "__all__ = (\"Loader\", \"DEFAULT_CONFIG_MODULE\")\n",
    "\n",
    "DEFAULT_CONFIG_MODULE = \"celeryconfig\"\n",
    "\n",
    "#: Warns if configuration file is missing if :envvar:`C_WNOCONF` is set.\n",
    "C_WNOCONF = strtobool(os.environ.get(\"C_WNOCONF\", False))"
   ]
  },
  {
   "cell_type": "markdown",
   "metadata": {},
   "source": []
  },
  {
   "cell_type": "code",
   "execution_count": null,
   "metadata": {},
   "outputs": [],
   "source": [
    "class Loader(BaseLoader):\n",
    "    \"\"\"The loader used by the default app.\"\"\"\n",
    "\n",
    "    def setup_settings(self, settingsdict):\n",
    "        return DictAttribute(settingsdict)\n",
    "\n",
    "    def read_configuration(self, fail_silently=True):\n",
    "        \"\"\"Read configuration from :file:`celeryconfig.py`.\"\"\"\n",
    "        configname = os.environ.get(\"CELERY_CONFIG_MODULE\", DEFAULT_CONFIG_MODULE)\n",
    "        try:\n",
    "            usercfg = self._import_config_module(configname)\n",
    "        except ImportError:\n",
    "            if not fail_silently:\n",
    "                raise\n",
    "            # billiard sets this if forked using execv\n",
    "            if C_WNOCONF and not os.environ.get(\"FORKED_BY_MULTIPROCESSING\"):\n",
    "                warnings.warn(\n",
    "                    NotConfigured(\n",
    "                        \"No {module} module found! Please make sure it exists and \"\n",
    "                        \"is available to Python.\".format(module=configname)\n",
    "                    )\n",
    "                )\n",
    "            return self.setup_settings({})\n",
    "        else:\n",
    "            self.configured = True\n",
    "            return self.setup_settings(usercfg)"
   ]
  },
  {
   "cell_type": "markdown",
   "metadata": {},
   "source": []
  }
 ],
 "metadata": {
  "language_info": {
   "name": "python"
  }
 },
 "nbformat": 4,
 "nbformat_minor": 2
}