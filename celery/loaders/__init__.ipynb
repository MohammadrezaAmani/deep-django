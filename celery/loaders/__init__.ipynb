{
 "cells": [
  {
   "cell_type": "code",
   "execution_count": null,
   "metadata": {},
   "outputs": [],
   "source": [
    "\"\"\"Get loader by name.\n",
    "\n",
    "Loaders define how configuration is read, what happens\n",
    "when workers start, when tasks are executed and so on.\n",
    "\"\"\"\n",
    "from celery.utils.imports import import_from_cwd, symbol_by_name\n",
    "\n",
    "__all__ = (\"get_loader_cls\",)\n",
    "\n",
    "LOADER_ALIASES = {\n",
    "    \"app\": \"celery.loaders.app:AppLoader\",\n",
    "    \"default\": \"celery.loaders.default:Loader\",\n",
    "}"
   ]
  },
  {
   "cell_type": "markdown",
   "metadata": {},
   "source": []
  },
  {
   "cell_type": "code",
   "execution_count": null,
   "metadata": {},
   "outputs": [],
   "source": [
    "def get_loader_cls(loader):\n",
    "    \"\"\"Get loader class by name/alias.\"\"\"\n",
    "    return symbol_by_name(loader, LOADER_ALIASES, imp=import_from_cwd)"
   ]
  },
  {
   "cell_type": "markdown",
   "metadata": {},
   "source": []
  }
 ],
 "metadata": {
  "language_info": {
   "name": "python"
  }
 },
 "nbformat": 4,
 "nbformat_minor": 2
}