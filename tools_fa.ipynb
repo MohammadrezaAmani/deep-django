{
 "cells": [
  {
   "cell_type": "code",
   "execution_count": null,
   "metadata": {},
   "outputs": [],
   "source": [
    "import asyncio\n",
    "import json\n",
    "import os\n",
    "from typing import List\n",
    "\n",
    "import aiofiles\n",
    "\n",
    "PATH = \".\"\n",
    "LANG = \"fa\""
   ]
  },
  {
   "cell_type": "markdown",
   "metadata": {},
   "source": []
  },
  {
   "cell_type": "code",
   "execution_count": null,
   "metadata": {},
   "outputs": [],
   "source": [
    "def source_to_list(code: str) -> List[str]:\n",
    "    \"\"\"Convert a Python script to a list of lines.\"\"\"\n",
    "    return [i + \"\\n\" for i in code.split(\"\\n\")]"
   ]
  },
  {
   "cell_type": "markdown",
   "metadata": {},
   "source": []
  },
  {
   "cell_type": "code",
   "execution_count": null,
   "metadata": {},
   "outputs": [],
   "source": [
    "def to_ipynb(code: str) -> dict:\n",
    "    \"\"\"Convert a Python script to a Jupyter notebook.\"\"\"\n",
    "\n",
    "    cells = []\n",
    "    for code_in_cell in code.split(\"\\n\\n\\n\"):\n",
    "        cells += [\n",
    "            {\n",
    "                \"cell_type\": \"code\",\n",
    "                \"execution_count\": None,\n",
    "                \"metadata\": {},\n",
    "                \"outputs\": [],\n",
    "                \"source\": source_to_list(code_in_cell),\n",
    "            },\n",
    "            {\"cell_type\": \"markdown\", \"metadata\": {}, \"source\": []},\n",
    "        ]\n",
    "    return {\n",
    "        \"cells\": cells,\n",
    "        \"metadata\": {\"language_info\": {\"name\": \"python\"}},\n",
    "        \"nbformat\": 4,\n",
    "        \"nbformat_minor\": 2,\n",
    "    }"
   ]
  },
  {
   "cell_type": "markdown",
   "metadata": {},
   "source": []
  },
  {
   "cell_type": "code",
   "execution_count": null,
   "metadata": {},
   "outputs": [],
   "source": [
    "def load_code(path: str) -> str:\n",
    "    with open(path, \"r\", encoding=\"utf-8\") as f:\n",
    "        return f.read()"
   ]
  },
  {
   "cell_type": "markdown",
   "metadata": {},
   "source": []
  },
  {
   "cell_type": "code",
   "execution_count": null,
   "metadata": {},
   "outputs": [],
   "source": [
    "def to_json(cells: dict) -> str:\n",
    "    return json.dumps(cells, indent=4)"
   ]
  },
  {
   "cell_type": "markdown",
   "metadata": {},
   "source": []
  },
  {
   "cell_type": "code",
   "execution_count": null,
   "metadata": {},
   "outputs": [],
   "source": [
    "async def write_ipynb(path: str, ipynb: str):\n",
    "    async with aiofiles.open(path, mode=\"w\") as f:\n",
    "        await f.write(ipynb)"
   ]
  },
  {
   "cell_type": "markdown",
   "metadata": {},
   "source": []
  },
  {
   "cell_type": "code",
   "execution_count": null,
   "metadata": {},
   "outputs": [],
   "source": [
    "async def do_conversion(path: str):\n",
    "    code = load_code(path)\n",
    "    cells = to_ipynb(code)\n",
    "    ipynb = to_json(cells)\n",
    "    lang = \"_\" + LANG if LANG else \"\"\n",
    "    await write_ipynb(path.replace(\".py\", lang + \".ipynb\"), ipynb)"
   ]
  },
  {
   "cell_type": "markdown",
   "metadata": {},
   "source": []
  },
  {
   "cell_type": "code",
   "execution_count": null,
   "metadata": {},
   "outputs": [],
   "source": [
    "async def main():\n",
    "    for root, dirs, files in os.walk(PATH):\n",
    "        for file in files:\n",
    "            if file.endswith(\".py\"):\n",
    "                await do_conversion(os.path.join(root, file))"
   ]
  },
  {
   "cell_type": "markdown",
   "metadata": {},
   "source": []
  },
  {
   "cell_type": "code",
   "execution_count": null,
   "metadata": {},
   "outputs": [],
   "source": [
    "asyncio.run(main())"
   ]
  },
  {
   "cell_type": "markdown",
   "metadata": {},
   "source": []
  }
 ],
 "metadata": {
  "language_info": {
   "name": "python"
  }
 },
 "nbformat": 4,
 "nbformat_minor": 2
}