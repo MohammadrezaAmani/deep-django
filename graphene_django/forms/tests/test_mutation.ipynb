{
 "cells": [
  {
   "cell_type": "code",
   "execution_count": null,
   "metadata": {},
   "outputs": [],
   "source": [
    "from django import forms\n",
    "from django.core.exceptions import ValidationError\n",
    "from graphene import Field, ObjectType, Schema, String\n",
    "from pytest import raises\n",
    "\n",
    "from graphene_django import DjangoObjectType\n",
    "from graphene_django.tests.forms import PetForm\n",
    "from graphene_django.tests.models import Pet\n",
    "from graphene_django.tests.mutations import PetMutation\n",
    "\n",
    "from ..mutation import DjangoFormMutation, DjangoModelFormMutation"
   ]
  },
  {
   "cell_type": "markdown",
   "metadata": {},
   "source": []
  },
  {
   "cell_type": "code",
   "execution_count": null,
   "metadata": {},
   "outputs": [],
   "source": [
    "class MyForm(forms.Form):\n",
    "    text = forms.CharField()\n",
    "\n",
    "    def clean_text(self):\n",
    "        text = self.cleaned_data[\"text\"]\n",
    "        if text == \"INVALID_INPUT\":\n",
    "            raise ValidationError(\"Invalid input\")\n",
    "        return text\n",
    "\n",
    "    def save(self):\n",
    "        pass"
   ]
  },
  {
   "cell_type": "markdown",
   "metadata": {},
   "source": []
  },
  {
   "cell_type": "code",
   "execution_count": null,
   "metadata": {},
   "outputs": [],
   "source": [
    "def test_needs_form_class():\n",
    "    with raises(Exception) as exc:\n",
    "\n",
    "        class MyMutation(DjangoFormMutation):\n",
    "            pass\n",
    "\n",
    "    assert exc.value.args[0] == \"form_class is required for DjangoFormMutation\""
   ]
  },
  {
   "cell_type": "markdown",
   "metadata": {},
   "source": []
  },
  {
   "cell_type": "code",
   "execution_count": null,
   "metadata": {},
   "outputs": [],
   "source": [
    "def test_has_output_fields():\n",
    "    class MyMutation(DjangoFormMutation):\n",
    "        class Meta:\n",
    "            form_class = MyForm\n",
    "\n",
    "    assert \"errors\" in MyMutation._meta.fields"
   ]
  },
  {
   "cell_type": "markdown",
   "metadata": {},
   "source": []
  },
  {
   "cell_type": "code",
   "execution_count": null,
   "metadata": {},
   "outputs": [],
   "source": [
    "def test_has_input_fields():\n",
    "    class MyMutation(DjangoFormMutation):\n",
    "        class Meta:\n",
    "            form_class = MyForm\n",
    "\n",
    "    assert \"text\" in MyMutation.Input._meta.fields"
   ]
  },
  {
   "cell_type": "markdown",
   "metadata": {},
   "source": []
  },
  {
   "cell_type": "code",
   "execution_count": null,
   "metadata": {},
   "outputs": [],
   "source": [
    "def test_mutation_error_camelcased(graphene_settings):\n",
    "    class ExtraPetForm(PetForm):\n",
    "        test_field = forms.CharField(required=True)\n",
    "\n",
    "    class PetType(DjangoObjectType):\n",
    "        class Meta:\n",
    "            model = Pet\n",
    "            fields = \"__all__\"\n",
    "\n",
    "    class PetMutation(DjangoModelFormMutation):\n",
    "        pet = Field(PetType)\n",
    "\n",
    "        class Meta:\n",
    "            form_class = ExtraPetForm\n",
    "\n",
    "    result = PetMutation.mutate_and_get_payload(None, None)\n",
    "    assert {f.field for f in result.errors} == {\"name\", \"age\", \"testField\"}\n",
    "    graphene_settings.CAMELCASE_ERRORS = False\n",
    "    result = PetMutation.mutate_and_get_payload(None, None)\n",
    "    assert {f.field for f in result.errors} == {\"name\", \"age\", \"test_field\"}"
   ]
  },
  {
   "cell_type": "markdown",
   "metadata": {},
   "source": []
  },
  {
   "cell_type": "code",
   "execution_count": null,
   "metadata": {},
   "outputs": [],
   "source": [
    "class MockQuery(ObjectType):\n",
    "    a = String()"
   ]
  },
  {
   "cell_type": "markdown",
   "metadata": {},
   "source": []
  },
  {
   "cell_type": "code",
   "execution_count": null,
   "metadata": {},
   "outputs": [],
   "source": [
    "def test_form_invalid_form():\n",
    "    class MyMutation(DjangoFormMutation):\n",
    "        class Meta:\n",
    "            form_class = MyForm\n",
    "\n",
    "    class Mutation(ObjectType):\n",
    "        my_mutation = MyMutation.Field()\n",
    "\n",
    "    schema = Schema(query=MockQuery, mutation=Mutation)\n",
    "\n",
    "    result = schema.execute(\n",
    "        \"\"\" mutation MyMutation {\n",
    "            myMutation(input: { text: \"INVALID_INPUT\" }) {\n",
    "                errors {\n",
    "                    field\n",
    "                    messages\n",
    "                }\n",
    "                text\n",
    "            }\n",
    "        }\n",
    "        \"\"\"\n",
    "    )\n",
    "\n",
    "    assert result.errors is None\n",
    "    assert result.data[\"myMutation\"][\"errors\"] == [\n",
    "        {\"field\": \"text\", \"messages\": [\"Invalid input\"]}\n",
    "    ]"
   ]
  },
  {
   "cell_type": "markdown",
   "metadata": {},
   "source": []
  },
  {
   "cell_type": "code",
   "execution_count": null,
   "metadata": {},
   "outputs": [],
   "source": [
    "def test_form_valid_input():\n",
    "    class MyMutation(DjangoFormMutation):\n",
    "        class Meta:\n",
    "            form_class = MyForm\n",
    "\n",
    "    class Mutation(ObjectType):\n",
    "        my_mutation = MyMutation.Field()\n",
    "\n",
    "    schema = Schema(query=MockQuery, mutation=Mutation)\n",
    "\n",
    "    result = schema.execute(\n",
    "        \"\"\" mutation MyMutation {\n",
    "            myMutation(input: { text: \"VALID_INPUT\" }) {\n",
    "                errors {\n",
    "                    field\n",
    "                    messages\n",
    "                }\n",
    "                text\n",
    "            }\n",
    "        }\n",
    "        \"\"\"\n",
    "    )\n",
    "\n",
    "    assert result.errors is None\n",
    "    assert result.data[\"myMutation\"][\"errors\"] == []\n",
    "    assert result.data[\"myMutation\"][\"text\"] == \"VALID_INPUT\""
   ]
  },
  {
   "cell_type": "markdown",
   "metadata": {},
   "source": []
  },
  {
   "cell_type": "code",
   "execution_count": null,
   "metadata": {},
   "outputs": [],
   "source": [
    "def test_default_meta_fields():\n",
    "    assert PetMutation._meta.model is Pet\n",
    "    assert PetMutation._meta.return_field_name == \"pet\"\n",
    "    assert \"pet\" in PetMutation._meta.fields"
   ]
  },
  {
   "cell_type": "markdown",
   "metadata": {},
   "source": []
  },
  {
   "cell_type": "code",
   "execution_count": null,
   "metadata": {},
   "outputs": [],
   "source": [
    "def test_default_input_meta_fields():\n",
    "    assert PetMutation._meta.model is Pet\n",
    "    assert PetMutation._meta.return_field_name == \"pet\"\n",
    "    assert \"name\" in PetMutation.Input._meta.fields\n",
    "    assert \"client_mutation_id\" in PetMutation.Input._meta.fields\n",
    "    assert \"id\" in PetMutation.Input._meta.fields"
   ]
  },
  {
   "cell_type": "markdown",
   "metadata": {},
   "source": []
  },
  {
   "cell_type": "code",
   "execution_count": null,
   "metadata": {},
   "outputs": [],
   "source": [
    "def test_exclude_fields_input_meta_fields():\n",
    "    class PetType(DjangoObjectType):\n",
    "        class Meta:\n",
    "            model = Pet\n",
    "            fields = \"__all__\"\n",
    "\n",
    "    class PetMutation(DjangoModelFormMutation):\n",
    "        pet = Field(PetType)\n",
    "\n",
    "        class Meta:\n",
    "            form_class = PetForm\n",
    "            exclude_fields = [\"id\"]\n",
    "\n",
    "    assert PetMutation._meta.model is Pet\n",
    "    assert PetMutation._meta.return_field_name == \"pet\"\n",
    "    assert \"name\" in PetMutation.Input._meta.fields\n",
    "    assert \"age\" in PetMutation.Input._meta.fields\n",
    "    assert \"client_mutation_id\" in PetMutation.Input._meta.fields\n",
    "    assert \"id\" not in PetMutation.Input._meta.fields"
   ]
  },
  {
   "cell_type": "markdown",
   "metadata": {},
   "source": []
  },
  {
   "cell_type": "code",
   "execution_count": null,
   "metadata": {},
   "outputs": [],
   "source": [
    "def test_custom_return_field_name():\n",
    "    class PetType(DjangoObjectType):\n",
    "        class Meta:\n",
    "            model = Pet\n",
    "            fields = \"__all__\"\n",
    "\n",
    "    class PetMutation(DjangoModelFormMutation):\n",
    "        pet = Field(PetType)\n",
    "\n",
    "        class Meta:\n",
    "            form_class = PetForm\n",
    "            model = Pet\n",
    "            return_field_name = \"animal\"\n",
    "\n",
    "    assert PetMutation._meta.model is Pet\n",
    "    assert PetMutation._meta.return_field_name == \"animal\"\n",
    "    assert \"animal\" in PetMutation._meta.fields"
   ]
  },
  {
   "cell_type": "markdown",
   "metadata": {},
   "source": []
  },
  {
   "cell_type": "code",
   "execution_count": null,
   "metadata": {},
   "outputs": [],
   "source": [
    "def test_model_form_mutation_mutate_existing():\n",
    "    class Mutation(ObjectType):\n",
    "        pet_mutation = PetMutation.Field()\n",
    "\n",
    "    schema = Schema(query=MockQuery, mutation=Mutation)\n",
    "\n",
    "    pet = Pet.objects.create(name=\"Axel\", age=10)\n",
    "\n",
    "    result = schema.execute(\n",
    "        \"\"\" mutation PetMutation($pk: ID!) {\n",
    "            petMutation(input: { id: $pk, name: \"Mia\", age: 10 }) {\n",
    "                pet {\n",
    "                    name\n",
    "                    age\n",
    "                }\n",
    "            }\n",
    "        }\n",
    "        \"\"\",\n",
    "        variable_values={\"pk\": pet.pk},\n",
    "    )\n",
    "\n",
    "    assert result.errors is None\n",
    "    assert result.data[\"petMutation\"][\"pet\"] == {\"name\": \"Mia\", \"age\": 10}\n",
    "\n",
    "    assert Pet.objects.count() == 1\n",
    "    pet.refresh_from_db()\n",
    "    assert pet.name == \"Mia\""
   ]
  },
  {
   "cell_type": "markdown",
   "metadata": {},
   "source": []
  },
  {
   "cell_type": "code",
   "execution_count": null,
   "metadata": {},
   "outputs": [],
   "source": [
    "def test_model_form_mutation_creates_new():\n",
    "    class Mutation(ObjectType):\n",
    "        pet_mutation = PetMutation.Field()\n",
    "\n",
    "    schema = Schema(query=MockQuery, mutation=Mutation)\n",
    "\n",
    "    result = schema.execute(\n",
    "        \"\"\" mutation PetMutation {\n",
    "            petMutation(input: { name: \"Mia\", age: 10 }) {\n",
    "                pet {\n",
    "                    name\n",
    "                    age\n",
    "                }\n",
    "                errors {\n",
    "                    field\n",
    "                    messages\n",
    "                }\n",
    "            }\n",
    "        }\n",
    "        \"\"\"\n",
    "    )\n",
    "    assert result.errors is None\n",
    "    assert result.data[\"petMutation\"][\"pet\"] == {\"name\": \"Mia\", \"age\": 10}\n",
    "\n",
    "    assert Pet.objects.count() == 1\n",
    "    pet = Pet.objects.get()\n",
    "    assert pet.name == \"Mia\"\n",
    "    assert pet.age == 10"
   ]
  },
  {
   "cell_type": "markdown",
   "metadata": {},
   "source": []
  },
  {
   "cell_type": "code",
   "execution_count": null,
   "metadata": {},
   "outputs": [],
   "source": [
    "def test_model_form_mutation_invalid_input():\n",
    "    class Mutation(ObjectType):\n",
    "        pet_mutation = PetMutation.Field()\n",
    "\n",
    "    schema = Schema(query=MockQuery, mutation=Mutation)\n",
    "\n",
    "    result = schema.execute(\n",
    "        \"\"\" mutation PetMutation {\n",
    "            petMutation(input: { name: \"Mia\", age: 99 }) {\n",
    "                pet {\n",
    "                    name\n",
    "                    age\n",
    "                }\n",
    "                errors {\n",
    "                    field\n",
    "                    messages\n",
    "                }\n",
    "            }\n",
    "        }\n",
    "        \"\"\"\n",
    "    )\n",
    "    assert result.errors is None\n",
    "    assert result.data[\"petMutation\"][\"pet\"] is None\n",
    "    assert result.data[\"petMutation\"][\"errors\"] == [\n",
    "        {\"field\": \"age\", \"messages\": [\"Too old\"]}\n",
    "    ]\n",
    "\n",
    "    assert Pet.objects.count() == 0"
   ]
  },
  {
   "cell_type": "markdown",
   "metadata": {},
   "source": []
  },
  {
   "cell_type": "code",
   "execution_count": null,
   "metadata": {},
   "outputs": [],
   "source": [
    "def test_model_form_mutation_mutate_invalid_form():\n",
    "    result = PetMutation.mutate_and_get_payload(None, None)\n",
    "\n",
    "    # A pet was not created\n",
    "    assert Pet.objects.count() == 0\n",
    "\n",
    "    fields_w_error = [e.field for e in result.errors]\n",
    "    assert len(result.errors) == 2\n",
    "    assert result.errors[0].messages == [\"This field is required.\"]\n",
    "    assert result.errors[1].messages == [\"This field is required.\"]\n",
    "    assert \"age\" in fields_w_error\n",
    "    assert \"name\" in fields_w_error"
   ]
  },
  {
   "cell_type": "markdown",
   "metadata": {},
   "source": []
  },
  {
   "cell_type": "code",
   "execution_count": null,
   "metadata": {},
   "outputs": [],
   "source": [
    "def test_model_form_mutation_multiple_creation_valid():\n",
    "    class Mutation(ObjectType):\n",
    "        pet_mutation = PetMutation.Field()\n",
    "\n",
    "    schema = Schema(query=MockQuery, mutation=Mutation)\n",
    "\n",
    "    result = schema.execute(\n",
    "        \"\"\"\n",
    "        mutation PetMutations {\n",
    "            petMutation1: petMutation(input: { name: \"Mia\", age: 10 }) {\n",
    "                pet {\n",
    "                    name\n",
    "                    age\n",
    "                }\n",
    "                errors {\n",
    "                    field\n",
    "                    messages\n",
    "                }\n",
    "            }\n",
    "            petMutation2: petMutation(input: { name: \"Enzo\", age: 0 }) {\n",
    "                pet {\n",
    "                    name\n",
    "                    age\n",
    "                }\n",
    "                errors {\n",
    "                    field\n",
    "                    messages\n",
    "                }\n",
    "            }\n",
    "        }\n",
    "        \"\"\"\n",
    "    )\n",
    "    assert result.errors is None\n",
    "    assert result.data[\"petMutation1\"][\"pet\"] == {\"name\": \"Mia\", \"age\": 10}\n",
    "    assert result.data[\"petMutation2\"][\"pet\"] == {\"name\": \"Enzo\", \"age\": 0}\n",
    "\n",
    "    assert Pet.objects.count() == 2\n",
    "\n",
    "    pet1 = Pet.objects.first()\n",
    "    assert pet1.name == \"Mia\"\n",
    "    assert pet1.age == 10\n",
    "\n",
    "    pet2 = Pet.objects.last()\n",
    "    assert pet2.name == \"Enzo\"\n",
    "    assert pet2.age == 0"
   ]
  },
  {
   "cell_type": "markdown",
   "metadata": {},
   "source": []
  },
  {
   "cell_type": "code",
   "execution_count": null,
   "metadata": {},
   "outputs": [],
   "source": [
    "def test_model_form_mutation_multiple_creation_invalid():\n",
    "    class Mutation(ObjectType):\n",
    "        pet_mutation = PetMutation.Field()\n",
    "\n",
    "    schema = Schema(query=MockQuery, mutation=Mutation)\n",
    "\n",
    "    result = schema.execute(\n",
    "        \"\"\"\n",
    "        mutation PetMutations {\n",
    "            petMutation1: petMutation(input: { name: \"Mia\", age: 99 }) {\n",
    "                pet {\n",
    "                    name\n",
    "                    age\n",
    "                }\n",
    "                errors {\n",
    "                    field\n",
    "                    messages\n",
    "                }\n",
    "            }\n",
    "            petMutation2: petMutation(input: { name: \"Enzo\", age: 0 }) {\n",
    "                pet {\n",
    "                    name\n",
    "                    age\n",
    "                }\n",
    "                errors {\n",
    "                    field\n",
    "                    messages\n",
    "                }\n",
    "            }\n",
    "        }\n",
    "        \"\"\"\n",
    "    )\n",
    "    assert result.errors is None\n",
    "\n",
    "    assert result.data[\"petMutation1\"][\"pet\"] is None\n",
    "    assert result.data[\"petMutation1\"][\"errors\"] == [\n",
    "        {\"field\": \"age\", \"messages\": [\"Too old\"]}\n",
    "    ]\n",
    "\n",
    "    assert result.data[\"petMutation2\"][\"pet\"] == {\"name\": \"Enzo\", \"age\": 0}\n",
    "\n",
    "    assert Pet.objects.count() == 1\n",
    "\n",
    "    pet = Pet.objects.get()\n",
    "    assert pet.name == \"Enzo\"\n",
    "    assert pet.age == 0"
   ]
  },
  {
   "cell_type": "markdown",
   "metadata": {},
   "source": []
  }
 ],
 "metadata": {
  "language_info": {
   "name": "python"
  }
 },
 "nbformat": 4,
 "nbformat_minor": 2
}