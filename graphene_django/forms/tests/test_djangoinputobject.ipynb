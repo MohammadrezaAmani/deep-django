{
 "cells": [
  {
   "cell_type": "code",
   "execution_count": null,
   "metadata": {},
   "outputs": [],
   "source": [
    "import graphene\n",
    "from django import forms\n",
    "from pytest import raises\n",
    "\n",
    "from graphene_django import DjangoObjectType\n",
    "\n",
    "from ...tests.models import CHOICES, Film, Reporter\n",
    "from ..types import DjangoFormInputObjectType\n",
    "\n",
    "# Reporter a_choice CHOICES = ((1, \"this\"), (2, _(\"that\")))\n",
    "THIS = CHOICES[0][0]\n",
    "THIS_ON_CLIENT_CONVERTED = \"A_1\"\n",
    "\n",
    "# Film genre choices=[(\"do\", \"Documentary\"), (\"ac\", \"Action\"), (\"ot\", \"Other\")],\n",
    "DOCUMENTARY = \"do\"\n",
    "DOCUMENTARY_ON_CLIENT_CONVERTED = \"DO\""
   ]
  },
  {
   "cell_type": "markdown",
   "metadata": {},
   "source": []
  },
  {
   "cell_type": "code",
   "execution_count": null,
   "metadata": {},
   "outputs": [],
   "source": [
    "class FilmForm(forms.ModelForm):\n",
    "    class Meta:\n",
    "        model = Film\n",
    "        exclude = ()"
   ]
  },
  {
   "cell_type": "markdown",
   "metadata": {},
   "source": []
  },
  {
   "cell_type": "code",
   "execution_count": null,
   "metadata": {},
   "outputs": [],
   "source": [
    "class ReporterType(DjangoObjectType):\n",
    "    class Meta:\n",
    "        model = Reporter\n",
    "        fields = \"__all__\""
   ]
  },
  {
   "cell_type": "markdown",
   "metadata": {},
   "source": []
  },
  {
   "cell_type": "code",
   "execution_count": null,
   "metadata": {},
   "outputs": [],
   "source": [
    "class ReporterForm(forms.ModelForm):\n",
    "    class Meta:\n",
    "        model = Reporter\n",
    "        exclude = (\"pets\", \"email\", \"fans\")"
   ]
  },
  {
   "cell_type": "markdown",
   "metadata": {},
   "source": []
  },
  {
   "cell_type": "code",
   "execution_count": null,
   "metadata": {},
   "outputs": [],
   "source": [
    "class MyForm(forms.Form):\n",
    "    text_field = forms.CharField()\n",
    "    int_field = forms.IntegerField()"
   ]
  },
  {
   "cell_type": "markdown",
   "metadata": {},
   "source": []
  },
  {
   "cell_type": "code",
   "execution_count": null,
   "metadata": {},
   "outputs": [],
   "source": [
    "def test_needs_form_class():\n",
    "    with raises(Exception) as exc:\n",
    "\n",
    "        class MyInputType(DjangoFormInputObjectType):\n",
    "            pass\n",
    "\n",
    "    assert exc.value.args[0] == \"form_class is required for DjangoFormInputObjectType\""
   ]
  },
  {
   "cell_type": "markdown",
   "metadata": {},
   "source": []
  },
  {
   "cell_type": "code",
   "execution_count": null,
   "metadata": {},
   "outputs": [],
   "source": [
    "def test_type_from_modelform_has_input_fields():\n",
    "    class ReporterInputType(DjangoFormInputObjectType):\n",
    "        class Meta:\n",
    "            form_class = ReporterForm\n",
    "            only_fields = (\"first_name\", \"last_name\", \"a_choice\")\n",
    "\n",
    "    fields = [\"first_name\", \"last_name\", \"a_choice\", \"id\"]\n",
    "    assert all(f in ReporterInputType._meta.fields for f in fields)"
   ]
  },
  {
   "cell_type": "markdown",
   "metadata": {},
   "source": []
  },
  {
   "cell_type": "code",
   "execution_count": null,
   "metadata": {},
   "outputs": [],
   "source": [
    "def test_type_from_form_has_input_fields():\n",
    "    class MyFormInputType(DjangoFormInputObjectType):\n",
    "        class Meta:\n",
    "            form_class = MyForm\n",
    "\n",
    "    fields = [\"text_field\", \"int_field\", \"id\"]\n",
    "    assert all(f in MyFormInputType._meta.fields for f in fields)"
   ]
  },
  {
   "cell_type": "markdown",
   "metadata": {},
   "source": []
  },
  {
   "cell_type": "code",
   "execution_count": null,
   "metadata": {},
   "outputs": [],
   "source": [
    "def test_type_custom_id_field():\n",
    "    class MyFormInputType(DjangoFormInputObjectType):\n",
    "        class Meta:\n",
    "            form_class = MyForm\n",
    "            add_id_field_name = \"pk\"\n",
    "\n",
    "    fields = [\"text_field\", \"int_field\", \"pk\"]\n",
    "    assert all(f in MyFormInputType._meta.fields for f in fields)\n",
    "    assert MyFormInputType._meta.fields[\"pk\"].type is graphene.ID"
   ]
  },
  {
   "cell_type": "markdown",
   "metadata": {},
   "source": []
  },
  {
   "cell_type": "code",
   "execution_count": null,
   "metadata": {},
   "outputs": [],
   "source": [
    "def test_type_custom_id_field_type():\n",
    "    class MyFormInputType(DjangoFormInputObjectType):\n",
    "        class Meta:\n",
    "            form_class = MyForm\n",
    "            add_id_field_name = \"pk\"\n",
    "            add_id_field_type = graphene.String(required=False)\n",
    "\n",
    "    fields = [\"text_field\", \"int_field\", \"pk\"]\n",
    "    assert all(f in MyFormInputType._meta.fields for f in fields)\n",
    "    assert MyFormInputType._meta.fields[\"pk\"].type is graphene.String"
   ]
  },
  {
   "cell_type": "markdown",
   "metadata": {},
   "source": []
  },
  {
   "cell_type": "code",
   "execution_count": null,
   "metadata": {},
   "outputs": [],
   "source": [
    "class MockQuery(graphene.ObjectType):\n",
    "    a = graphene.String()"
   ]
  },
  {
   "cell_type": "markdown",
   "metadata": {},
   "source": []
  },
  {
   "cell_type": "code",
   "execution_count": null,
   "metadata": {},
   "outputs": [],
   "source": [
    "def test_mutation_with_form_djangoforminputtype():\n",
    "    class MyFormInputType(DjangoFormInputObjectType):\n",
    "        class Meta:\n",
    "            form_class = MyForm\n",
    "\n",
    "    class MyFormMutation(graphene.Mutation):\n",
    "        class Arguments:\n",
    "            form_data = MyFormInputType(required=True)\n",
    "\n",
    "        result = graphene.Boolean()\n",
    "\n",
    "        def mutate(_root, _info, form_data):\n",
    "            form = MyForm(data=form_data)\n",
    "            if form.is_valid():\n",
    "                result = form.cleaned_data == {\n",
    "                    \"text_field\": \"text\",\n",
    "                    \"int_field\": 777,\n",
    "                }\n",
    "                return MyFormMutation(result=result)\n",
    "            return MyFormMutation(result=False)\n",
    "\n",
    "    class Mutation(graphene.ObjectType):\n",
    "        myForm_mutation = MyFormMutation.Field()\n",
    "\n",
    "    schema = graphene.Schema(query=MockQuery, mutation=Mutation)\n",
    "\n",
    "    result = schema.execute(\n",
    "        \"\"\" mutation MyFormMutation($formData: MyFormInputType!) {\n",
    "            myFormMutation(formData: $formData) {\n",
    "                result\n",
    "            }\n",
    "        }\n",
    "        \"\"\",\n",
    "        variable_values={\"formData\": {\"textField\": \"text\", \"intField\": 777}},\n",
    "    )\n",
    "    assert result.errors is None\n",
    "    assert result.data == {\"myFormMutation\": {\"result\": True}}"
   ]
  },
  {
   "cell_type": "markdown",
   "metadata": {},
   "source": []
  },
  {
   "cell_type": "code",
   "execution_count": null,
   "metadata": {},
   "outputs": [],
   "source": [
    "def test_mutation_with_modelform_djangoforminputtype():\n",
    "    class ReporterInputType(DjangoFormInputObjectType):\n",
    "        class Meta:\n",
    "            form_class = ReporterForm\n",
    "            object_type = ReporterType\n",
    "            only_fields = (\"first_name\", \"last_name\", \"a_choice\")\n",
    "\n",
    "    class ReporterMutation(graphene.Mutation):\n",
    "        class Arguments:\n",
    "            reporter_data = ReporterInputType(required=True)\n",
    "\n",
    "        result = graphene.Field(ReporterType)\n",
    "\n",
    "        def mutate(_root, _info, reporter_data):\n",
    "            reporter = Reporter.objects.get(pk=reporter_data.id)\n",
    "            form = ReporterForm(data=reporter_data, instance=reporter)\n",
    "            if form.is_valid():\n",
    "                reporter = form.save()\n",
    "                return ReporterMutation(result=reporter)\n",
    "\n",
    "            return ReporterMutation(result=None)\n",
    "\n",
    "    class Mutation(graphene.ObjectType):\n",
    "        report_mutation = ReporterMutation.Field()\n",
    "\n",
    "    schema = graphene.Schema(query=MockQuery, mutation=Mutation)\n",
    "\n",
    "    reporter = Reporter.objects.create(\n",
    "        first_name=\"Bob\", last_name=\"Roberts\", a_choice=THIS\n",
    "    )\n",
    "\n",
    "    result = schema.execute(\n",
    "        \"\"\" mutation ReportMutation($reporterData: ReporterInputType!) {\n",
    "            reportMutation(reporterData: $reporterData) {\n",
    "                result {\n",
    "                    id,\n",
    "                    firstName,\n",
    "                    lastName,\n",
    "                    aChoice\n",
    "                }\n",
    "            }\n",
    "        }\n",
    "        \"\"\",\n",
    "        variable_values={\n",
    "            \"reporterData\": {\n",
    "                \"id\": reporter.pk,\n",
    "                \"firstName\": \"Dave\",\n",
    "                \"lastName\": \"Smith\",\n",
    "                \"aChoice\": THIS_ON_CLIENT_CONVERTED,\n",
    "            }\n",
    "        },\n",
    "    )\n",
    "    assert result.errors is None\n",
    "    assert result.data[\"reportMutation\"][\"result\"] == {\n",
    "        \"id\": \"1\",\n",
    "        \"firstName\": \"Dave\",\n",
    "        \"lastName\": \"Smith\",\n",
    "        \"aChoice\": THIS_ON_CLIENT_CONVERTED,\n",
    "    }\n",
    "    assert Reporter.objects.count() == 1\n",
    "    reporter.refresh_from_db()\n",
    "    assert reporter.first_name == \"Dave\""
   ]
  },
  {
   "cell_type": "markdown",
   "metadata": {},
   "source": []
  },
  {
   "cell_type": "code",
   "execution_count": null,
   "metadata": {},
   "outputs": [],
   "source": [
    "def reporter_enum_convert_mutation_result(\n",
    "    ReporterInputType, choice_val_on_client=THIS_ON_CLIENT_CONVERTED\n",
    "):\n",
    "    class ReporterMutation(graphene.Mutation):\n",
    "        class Arguments:\n",
    "            reporter = ReporterInputType(required=True)\n",
    "\n",
    "        result_str = graphene.String()\n",
    "        result_int = graphene.Int()\n",
    "\n",
    "        def mutate(_root, _info, reporter):\n",
    "            if isinstance(reporter.a_choice, int) or reporter.a_choice.isdigit():\n",
    "                return ReporterMutation(result_int=reporter.a_choice, result_str=None)\n",
    "            return ReporterMutation(result_int=None, result_str=reporter.a_choice)\n",
    "\n",
    "    class Mutation(graphene.ObjectType):\n",
    "        report_mutation = ReporterMutation.Field()\n",
    "\n",
    "    schema = graphene.Schema(query=MockQuery, mutation=Mutation)\n",
    "\n",
    "    return schema.execute(\n",
    "        \"\"\" mutation ReportMutation($reporter: ReporterInputType!) {\n",
    "            reportMutation(reporter: $reporter) {\n",
    "                resultStr,\n",
    "                resultInt\n",
    "            }\n",
    "        }\n",
    "        \"\"\",\n",
    "        variable_values={\"reporter\": {\"aChoice\": choice_val_on_client}},\n",
    "    )"
   ]
  },
  {
   "cell_type": "markdown",
   "metadata": {},
   "source": []
  },
  {
   "cell_type": "code",
   "execution_count": null,
   "metadata": {},
   "outputs": [],
   "source": [
    "def test_enum_not_converted():\n",
    "    class ReporterInputType(DjangoFormInputObjectType):\n",
    "        class Meta:\n",
    "            form_class = ReporterForm\n",
    "            only_fields = (\"a_choice\",)\n",
    "\n",
    "    result = reporter_enum_convert_mutation_result(ReporterInputType)\n",
    "    assert result.errors is None\n",
    "    assert result.data[\"reportMutation\"][\"resultStr\"] == THIS_ON_CLIENT_CONVERTED\n",
    "    assert result.data[\"reportMutation\"][\"resultInt\"] is None\n",
    "    assert ReporterInputType._meta.fields[\"a_choice\"].type is graphene.String"
   ]
  },
  {
   "cell_type": "markdown",
   "metadata": {},
   "source": []
  },
  {
   "cell_type": "code",
   "execution_count": null,
   "metadata": {},
   "outputs": [],
   "source": [
    "def test_enum_is_converted_to_original():\n",
    "    class ReporterInputType(DjangoFormInputObjectType):\n",
    "        class Meta:\n",
    "            form_class = ReporterForm\n",
    "            object_type = ReporterType\n",
    "            only_fields = (\"a_choice\",)\n",
    "\n",
    "    result = reporter_enum_convert_mutation_result(ReporterInputType)\n",
    "    assert result.errors is None\n",
    "    assert result.data[\"reportMutation\"][\"resultInt\"] == THIS\n",
    "    assert result.data[\"reportMutation\"][\"resultStr\"] is None\n",
    "    assert (\n",
    "        ReporterInputType._meta.fields[\"a_choice\"].type.__name__\n",
    "        == \"AChoiceEnumBackConvString\"\n",
    "    )"
   ]
  },
  {
   "cell_type": "markdown",
   "metadata": {},
   "source": []
  },
  {
   "cell_type": "code",
   "execution_count": null,
   "metadata": {},
   "outputs": [],
   "source": [
    "def test_convert_choices_to_enum_is_false_and_field_type_as_in_model():\n",
    "    class ReporterTypeNotConvertChoices(DjangoObjectType):\n",
    "        class Meta:\n",
    "            model = Reporter\n",
    "            convert_choices_to_enum = False\n",
    "            fields = \"__all__\"\n",
    "\n",
    "    class ReporterInputType(DjangoFormInputObjectType):\n",
    "        class Meta:\n",
    "            form_class = ReporterForm\n",
    "            object_type = ReporterTypeNotConvertChoices\n",
    "            only_fields = (\"a_choice\",)\n",
    "\n",
    "    result = reporter_enum_convert_mutation_result(ReporterInputType, THIS)\n",
    "    assert result.errors is None\n",
    "    assert result.data[\"reportMutation\"][\"resultInt\"] == THIS\n",
    "    assert result.data[\"reportMutation\"][\"resultStr\"] is None\n",
    "    assert ReporterInputType._meta.fields[\"a_choice\"].type is graphene.Int"
   ]
  },
  {
   "cell_type": "markdown",
   "metadata": {},
   "source": []
  },
  {
   "cell_type": "code",
   "execution_count": null,
   "metadata": {},
   "outputs": [],
   "source": [
    "def enum_convert_mutation_result_film(FilmInputType):\n",
    "    class FilmMutation(graphene.Mutation):\n",
    "        class Arguments:\n",
    "            film = FilmInputType(required=True)\n",
    "\n",
    "        result = graphene.String()\n",
    "\n",
    "        def mutate(_root, _info, film):\n",
    "            return FilmMutation(result=film.genre)\n",
    "\n",
    "    class Mutation(graphene.ObjectType):\n",
    "        film_mutation = FilmMutation.Field()\n",
    "\n",
    "    schema = graphene.Schema(query=MockQuery, mutation=Mutation)\n",
    "\n",
    "    return schema.execute(\n",
    "        \"\"\" mutation FilmMutation($film: FilmInputType!) {\n",
    "            filmMutation(film: $film) {\n",
    "                result\n",
    "            }\n",
    "        }\n",
    "        \"\"\",\n",
    "        variable_values={\"film\": {\"genre\": DOCUMENTARY_ON_CLIENT_CONVERTED}},\n",
    "    )"
   ]
  },
  {
   "cell_type": "markdown",
   "metadata": {},
   "source": []
  },
  {
   "cell_type": "code",
   "execution_count": null,
   "metadata": {},
   "outputs": [],
   "source": [
    "def test_enum_not_converted_required_non_number():\n",
    "    class FilmInputType(DjangoFormInputObjectType):\n",
    "        class Meta:\n",
    "            form_class = FilmForm\n",
    "            only_fields = (\"genre\",)\n",
    "\n",
    "    result = enum_convert_mutation_result_film(FilmInputType)\n",
    "    assert result.errors is None\n",
    "    assert result.data[\"filmMutation\"][\"result\"] == DOCUMENTARY_ON_CLIENT_CONVERTED"
   ]
  },
  {
   "cell_type": "markdown",
   "metadata": {},
   "source": []
  },
  {
   "cell_type": "code",
   "execution_count": null,
   "metadata": {},
   "outputs": [],
   "source": [
    "def test_enum_is_converted_to_original_required_non_number():\n",
    "    class FilmType(DjangoObjectType):\n",
    "        class Meta:\n",
    "            model = Film\n",
    "            fields = \"__all__\"\n",
    "\n",
    "    class FilmInputType(DjangoFormInputObjectType):\n",
    "        class Meta:\n",
    "            form_class = FilmForm\n",
    "            object_type = FilmType\n",
    "            only_fields = (\"genre\",)\n",
    "\n",
    "    result = enum_convert_mutation_result_film(FilmInputType)\n",
    "    assert result.errors is None\n",
    "    assert result.data[\"filmMutation\"][\"result\"] == DOCUMENTARY"
   ]
  },
  {
   "cell_type": "markdown",
   "metadata": {},
   "source": []
  }
 ],
 "metadata": {
  "language_info": {
   "name": "python"
  }
 },
 "nbformat": 4,
 "nbformat_minor": 2
}