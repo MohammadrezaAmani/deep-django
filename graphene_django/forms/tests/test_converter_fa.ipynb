{
    "cells": [
        {
            "cell_type": "code",
            "execution_count": null,
            "metadata": {},
            "outputs": [],
            "source": [
                "from django import forms\n",
                "from graphene import (\n",
                "    ID,\n",
                "    UUID,\n",
                "    Boolean,\n",
                "    Date,\n",
                "    DateTime,\n",
                "    Decimal,\n",
                "    Float,\n",
                "    Int,\n",
                "    List,\n",
                "    NonNull,\n",
                "    String,\n",
                "    Time,\n",
                ")\n",
                "from pytest import raises\n",
                "\n",
                "from ..converter import convert_form_field\n"
            ]
        },
        {
            "cell_type": "markdown",
            "metadata": {},
            "source": []
        },
        {
            "cell_type": "code",
            "execution_count": null,
            "metadata": {},
            "outputs": [],
            "source": [
                "def assert_conversion(django_field, graphene_field, *args):\n",
                "    field = django_field(*args, help_text=\"Custom Help Text\")\n",
                "    graphene_type = convert_form_field(field)\n",
                "    assert isinstance(graphene_type, graphene_field)\n",
                "    field = graphene_type.Field()\n",
                "    assert field.description == \"Custom Help Text\"\n",
                "    return field\n"
            ]
        },
        {
            "cell_type": "markdown",
            "metadata": {},
            "source": []
        },
        {
            "cell_type": "code",
            "execution_count": null,
            "metadata": {},
            "outputs": [],
            "source": [
                "def test_should_unknown_django_field_raise_exception():\n",
                "    with raises(Exception) as excinfo:\n",
                "        convert_form_field(None)\n",
                "    assert \"Don't know how to convert the Django form field\" in str(excinfo.value)\n"
            ]
        },
        {
            "cell_type": "markdown",
            "metadata": {},
            "source": []
        },
        {
            "cell_type": "code",
            "execution_count": null,
            "metadata": {},
            "outputs": [],
            "source": [
                "def test_should_date_convert_date():\n",
                "    assert_conversion(forms.DateField, Date)\n"
            ]
        },
        {
            "cell_type": "markdown",
            "metadata": {},
            "source": []
        },
        {
            "cell_type": "code",
            "execution_count": null,
            "metadata": {},
            "outputs": [],
            "source": [
                "def test_should_time_convert_time():\n",
                "    assert_conversion(forms.TimeField, Time)\n"
            ]
        },
        {
            "cell_type": "markdown",
            "metadata": {},
            "source": []
        },
        {
            "cell_type": "code",
            "execution_count": null,
            "metadata": {},
            "outputs": [],
            "source": [
                "def test_should_date_time_convert_date_time():\n",
                "    assert_conversion(forms.DateTimeField, DateTime)\n"
            ]
        },
        {
            "cell_type": "markdown",
            "metadata": {},
            "source": []
        },
        {
            "cell_type": "code",
            "execution_count": null,
            "metadata": {},
            "outputs": [],
            "source": [
                "def test_should_char_convert_string():\n",
                "    assert_conversion(forms.CharField, String)\n"
            ]
        },
        {
            "cell_type": "markdown",
            "metadata": {},
            "source": []
        },
        {
            "cell_type": "code",
            "execution_count": null,
            "metadata": {},
            "outputs": [],
            "source": [
                "def test_should_email_convert_string():\n",
                "    assert_conversion(forms.EmailField, String)\n"
            ]
        },
        {
            "cell_type": "markdown",
            "metadata": {},
            "source": []
        },
        {
            "cell_type": "code",
            "execution_count": null,
            "metadata": {},
            "outputs": [],
            "source": [
                "def test_should_slug_convert_string():\n",
                "    assert_conversion(forms.SlugField, String)\n"
            ]
        },
        {
            "cell_type": "markdown",
            "metadata": {},
            "source": []
        },
        {
            "cell_type": "code",
            "execution_count": null,
            "metadata": {},
            "outputs": [],
            "source": [
                "def test_should_url_convert_string():\n",
                "    assert_conversion(forms.URLField, String)\n"
            ]
        },
        {
            "cell_type": "markdown",
            "metadata": {},
            "source": []
        },
        {
            "cell_type": "code",
            "execution_count": null,
            "metadata": {},
            "outputs": [],
            "source": [
                "def test_should_choice_convert_string():\n",
                "    assert_conversion(forms.ChoiceField, String)\n"
            ]
        },
        {
            "cell_type": "markdown",
            "metadata": {},
            "source": []
        },
        {
            "cell_type": "code",
            "execution_count": null,
            "metadata": {},
            "outputs": [],
            "source": [
                "def test_should_base_field_convert_string():\n",
                "    assert_conversion(forms.Field, String)\n"
            ]
        },
        {
            "cell_type": "markdown",
            "metadata": {},
            "source": []
        },
        {
            "cell_type": "code",
            "execution_count": null,
            "metadata": {},
            "outputs": [],
            "source": [
                "def test_should_regex_convert_string():\n",
                "    assert_conversion(forms.RegexField, String, \"[0-9]+\")\n"
            ]
        },
        {
            "cell_type": "markdown",
            "metadata": {},
            "source": []
        },
        {
            "cell_type": "code",
            "execution_count": null,
            "metadata": {},
            "outputs": [],
            "source": [
                "def test_should_uuid_convert_string():\n",
                "    if hasattr(forms, \"UUIDField\"):\n",
                "        assert_conversion(forms.UUIDField, UUID)\n"
            ]
        },
        {
            "cell_type": "markdown",
            "metadata": {},
            "source": []
        },
        {
            "cell_type": "code",
            "execution_count": null,
            "metadata": {},
            "outputs": [],
            "source": [
                "def test_should_integer_convert_int():\n",
                "    assert_conversion(forms.IntegerField, Int)\n"
            ]
        },
        {
            "cell_type": "markdown",
            "metadata": {},
            "source": []
        },
        {
            "cell_type": "code",
            "execution_count": null,
            "metadata": {},
            "outputs": [],
            "source": [
                "def test_should_boolean_convert_boolean():\n",
                "    field = assert_conversion(forms.BooleanField, Boolean)\n",
                "    assert isinstance(field.type, NonNull)\n"
            ]
        },
        {
            "cell_type": "markdown",
            "metadata": {},
            "source": []
        },
        {
            "cell_type": "code",
            "execution_count": null,
            "metadata": {},
            "outputs": [],
            "source": [
                "def test_should_nullboolean_convert_boolean():\n",
                "    field = assert_conversion(forms.NullBooleanField, Boolean)\n",
                "    assert not isinstance(field.type, NonNull)\n"
            ]
        },
        {
            "cell_type": "markdown",
            "metadata": {},
            "source": []
        },
        {
            "cell_type": "code",
            "execution_count": null,
            "metadata": {},
            "outputs": [],
            "source": [
                "def test_should_float_convert_float():\n",
                "    assert_conversion(forms.FloatField, Float)\n"
            ]
        },
        {
            "cell_type": "markdown",
            "metadata": {},
            "source": []
        },
        {
            "cell_type": "code",
            "execution_count": null,
            "metadata": {},
            "outputs": [],
            "source": [
                "def test_should_decimal_convert_decimal():\n",
                "    assert_conversion(forms.DecimalField, Decimal)\n"
            ]
        },
        {
            "cell_type": "markdown",
            "metadata": {},
            "source": []
        },
        {
            "cell_type": "code",
            "execution_count": null,
            "metadata": {},
            "outputs": [],
            "source": [
                "def test_should_multiple_choice_convert_list():\n",
                "    field = forms.MultipleChoiceField()\n",
                "    graphene_type = convert_form_field(field)\n",
                "    assert isinstance(graphene_type, List)\n",
                "    assert graphene_type.of_type == String\n"
            ]
        },
        {
            "cell_type": "markdown",
            "metadata": {},
            "source": []
        },
        {
            "cell_type": "code",
            "execution_count": null,
            "metadata": {},
            "outputs": [],
            "source": [
                "def test_should_model_multiple_choice_convert_connectionorlist():\n",
                "    field = forms.ModelMultipleChoiceField(queryset=None)\n",
                "    graphene_type = convert_form_field(field)\n",
                "    assert isinstance(graphene_type, List)\n",
                "    assert graphene_type.of_type == ID\n"
            ]
        },
        {
            "cell_type": "markdown",
            "metadata": {},
            "source": []
        },
        {
            "cell_type": "code",
            "execution_count": null,
            "metadata": {},
            "outputs": [],
            "source": [
                "def test_should_manytoone_convert_connectionorlist():\n",
                "    field = forms.ModelChoiceField(queryset=None)\n",
                "    graphene_type = convert_form_field(field)\n",
                "    assert isinstance(graphene_type, ID)\n",
                "\n"
            ]
        },
        {
            "cell_type": "markdown",
            "metadata": {},
            "source": []
        }
    ],
    "metadata": {
        "language_info": {
            "name": "python"
        }
    },
    "nbformat": 4,
    "nbformat_minor": 2
}