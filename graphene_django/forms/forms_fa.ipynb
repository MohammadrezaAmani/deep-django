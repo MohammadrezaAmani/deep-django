{
    "cells": [
        {
            "cell_type": "code",
            "execution_count": null,
            "metadata": {},
            "outputs": [],
            "source": [
                "import binascii\n",
                "\n",
                "from django.core.exceptions import ValidationError\n",
                "from django.forms import CharField, Field, MultipleChoiceField\n",
                "from django.utils.translation import gettext_lazy as _\n",
                "from graphql_relay import from_global_id\n"
            ]
        },
        {
            "cell_type": "markdown",
            "metadata": {},
            "source": []
        },
        {
            "cell_type": "code",
            "execution_count": null,
            "metadata": {},
            "outputs": [],
            "source": [
                "class GlobalIDFormField(Field):\n",
                "    default_error_messages = {\"invalid\": _(\"Invalid ID specified.\")}\n",
                "\n",
                "    def clean(self, value):\n",
                "        if not value and not self.required:\n",
                "            return None\n",
                "\n",
                "        try:\n",
                "            _type, _id = from_global_id(value)\n",
                "        except (TypeError, ValueError, UnicodeDecodeError, binascii.Error):\n",
                "            raise ValidationError(self.error_messages[\"invalid\"])\n",
                "\n",
                "        try:\n",
                "            CharField().clean(_id)\n",
                "            CharField().clean(_type)\n",
                "        except ValidationError:\n",
                "            raise ValidationError(self.error_messages[\"invalid\"])\n",
                "\n",
                "        return value\n"
            ]
        },
        {
            "cell_type": "markdown",
            "metadata": {},
            "source": []
        },
        {
            "cell_type": "code",
            "execution_count": null,
            "metadata": {},
            "outputs": [],
            "source": [
                "class GlobalIDMultipleChoiceField(MultipleChoiceField):\n",
                "    default_error_messages = {\n",
                "        \"invalid_choice\": _(\"One of the specified IDs was invalid (%(value)s).\"),\n",
                "        \"invalid_list\": _(\"Enter a list of values.\"),\n",
                "    }\n",
                "\n",
                "    def valid_value(self, value):\n",
                "        # Clean will raise a validation error if there is a problem\n",
                "        GlobalIDFormField().clean(value)\n",
                "        return True\n",
                "\n"
            ]
        },
        {
            "cell_type": "markdown",
            "metadata": {},
            "source": []
        }
    ],
    "metadata": {
        "language_info": {
            "name": "python"
        }
    },
    "nbformat": 4,
    "nbformat_minor": 2
}