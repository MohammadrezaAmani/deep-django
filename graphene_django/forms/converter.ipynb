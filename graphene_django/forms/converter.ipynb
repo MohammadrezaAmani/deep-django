{
 "cells": [
  {
   "cell_type": "code",
   "execution_count": null,
   "metadata": {},
   "outputs": [],
   "source": [
    "from functools import singledispatch\n",
    "\n",
    "from django import forms\n",
    "from django.core.exceptions import ImproperlyConfigured\n",
    "from graphene import (\n",
    "    ID,\n",
    "    UUID,\n",
    "    Boolean,\n",
    "    Date,\n",
    "    DateTime,\n",
    "    Decimal,\n",
    "    Float,\n",
    "    Int,\n",
    "    List,\n",
    "    String,\n",
    "    Time,\n",
    ")\n",
    "\n",
    "from .forms import GlobalIDFormField, GlobalIDMultipleChoiceField"
   ]
  },
  {
   "cell_type": "markdown",
   "metadata": {},
   "source": []
  },
  {
   "cell_type": "code",
   "execution_count": null,
   "metadata": {},
   "outputs": [],
   "source": [
    "def get_form_field_description(field):\n",
    "    return str(field.help_text) if field.help_text else None"
   ]
  },
  {
   "cell_type": "markdown",
   "metadata": {},
   "source": []
  },
  {
   "cell_type": "code",
   "execution_count": null,
   "metadata": {},
   "outputs": [],
   "source": [
    "@singledispatch\n",
    "def convert_form_field(field):\n",
    "    raise ImproperlyConfigured(\n",
    "        f\"Don't know how to convert the Django form field {field} ({field.__class__}) \"\n",
    "        \"to Graphene type\"\n",
    "    )"
   ]
  },
  {
   "cell_type": "markdown",
   "metadata": {},
   "source": []
  },
  {
   "cell_type": "code",
   "execution_count": null,
   "metadata": {},
   "outputs": [],
   "source": [
    "@convert_form_field.register(forms.fields.BaseTemporalField)\n",
    "@convert_form_field.register(forms.CharField)\n",
    "@convert_form_field.register(forms.EmailField)\n",
    "@convert_form_field.register(forms.SlugField)\n",
    "@convert_form_field.register(forms.URLField)\n",
    "@convert_form_field.register(forms.ChoiceField)\n",
    "@convert_form_field.register(forms.RegexField)\n",
    "@convert_form_field.register(forms.Field)\n",
    "def convert_form_field_to_string(field):\n",
    "    return String(\n",
    "        description=get_form_field_description(field), required=field.required\n",
    "    )"
   ]
  },
  {
   "cell_type": "markdown",
   "metadata": {},
   "source": []
  },
  {
   "cell_type": "code",
   "execution_count": null,
   "metadata": {},
   "outputs": [],
   "source": [
    "@convert_form_field.register(forms.UUIDField)\n",
    "def convert_form_field_to_uuid(field):\n",
    "    return UUID(description=get_form_field_description(field), required=field.required)"
   ]
  },
  {
   "cell_type": "markdown",
   "metadata": {},
   "source": []
  },
  {
   "cell_type": "code",
   "execution_count": null,
   "metadata": {},
   "outputs": [],
   "source": [
    "@convert_form_field.register(forms.IntegerField)\n",
    "@convert_form_field.register(forms.NumberInput)\n",
    "def convert_form_field_to_int(field):\n",
    "    return Int(description=get_form_field_description(field), required=field.required)"
   ]
  },
  {
   "cell_type": "markdown",
   "metadata": {},
   "source": []
  },
  {
   "cell_type": "code",
   "execution_count": null,
   "metadata": {},
   "outputs": [],
   "source": [
    "@convert_form_field.register(forms.BooleanField)\n",
    "def convert_form_field_to_boolean(field):\n",
    "    return Boolean(\n",
    "        description=get_form_field_description(field), required=field.required\n",
    "    )"
   ]
  },
  {
   "cell_type": "markdown",
   "metadata": {},
   "source": []
  },
  {
   "cell_type": "code",
   "execution_count": null,
   "metadata": {},
   "outputs": [],
   "source": [
    "@convert_form_field.register(forms.NullBooleanField)\n",
    "def convert_form_field_to_nullboolean(field):\n",
    "    return Boolean(description=get_form_field_description(field))"
   ]
  },
  {
   "cell_type": "markdown",
   "metadata": {},
   "source": []
  },
  {
   "cell_type": "code",
   "execution_count": null,
   "metadata": {},
   "outputs": [],
   "source": [
    "@convert_form_field.register(forms.FloatField)\n",
    "def convert_form_field_to_float(field):\n",
    "    return Float(description=get_form_field_description(field), required=field.required)"
   ]
  },
  {
   "cell_type": "markdown",
   "metadata": {},
   "source": []
  },
  {
   "cell_type": "code",
   "execution_count": null,
   "metadata": {},
   "outputs": [],
   "source": [
    "@convert_form_field.register(forms.DecimalField)\n",
    "def convert_form_field_to_decimal(field):\n",
    "    return Decimal(\n",
    "        description=get_form_field_description(field), required=field.required\n",
    "    )"
   ]
  },
  {
   "cell_type": "markdown",
   "metadata": {},
   "source": []
  },
  {
   "cell_type": "code",
   "execution_count": null,
   "metadata": {},
   "outputs": [],
   "source": [
    "@convert_form_field.register(forms.MultipleChoiceField)\n",
    "def convert_form_field_to_string_list(field):\n",
    "    return List(\n",
    "        String, description=get_form_field_description(field), required=field.required\n",
    "    )"
   ]
  },
  {
   "cell_type": "markdown",
   "metadata": {},
   "source": []
  },
  {
   "cell_type": "code",
   "execution_count": null,
   "metadata": {},
   "outputs": [],
   "source": [
    "@convert_form_field.register(forms.ModelMultipleChoiceField)\n",
    "@convert_form_field.register(GlobalIDMultipleChoiceField)\n",
    "def convert_form_field_to_id_list(field):\n",
    "    return List(ID, required=field.required)"
   ]
  },
  {
   "cell_type": "markdown",
   "metadata": {},
   "source": []
  },
  {
   "cell_type": "code",
   "execution_count": null,
   "metadata": {},
   "outputs": [],
   "source": [
    "@convert_form_field.register(forms.DateField)\n",
    "def convert_form_field_to_date(field):\n",
    "    return Date(description=get_form_field_description(field), required=field.required)"
   ]
  },
  {
   "cell_type": "markdown",
   "metadata": {},
   "source": []
  },
  {
   "cell_type": "code",
   "execution_count": null,
   "metadata": {},
   "outputs": [],
   "source": [
    "@convert_form_field.register(forms.DateTimeField)\n",
    "def convert_form_field_to_datetime(field):\n",
    "    return DateTime(\n",
    "        description=get_form_field_description(field), required=field.required\n",
    "    )"
   ]
  },
  {
   "cell_type": "markdown",
   "metadata": {},
   "source": []
  },
  {
   "cell_type": "code",
   "execution_count": null,
   "metadata": {},
   "outputs": [],
   "source": [
    "@convert_form_field.register(forms.TimeField)\n",
    "def convert_form_field_to_time(field):\n",
    "    return Time(description=get_form_field_description(field), required=field.required)"
   ]
  },
  {
   "cell_type": "markdown",
   "metadata": {},
   "source": []
  },
  {
   "cell_type": "code",
   "execution_count": null,
   "metadata": {},
   "outputs": [],
   "source": [
    "@convert_form_field.register(forms.ModelChoiceField)\n",
    "@convert_form_field.register(GlobalIDFormField)\n",
    "def convert_form_field_to_id(field):\n",
    "    return ID(required=field.required)"
   ]
  },
  {
   "cell_type": "markdown",
   "metadata": {},
   "source": []
  }
 ],
 "metadata": {
  "language_info": {
   "name": "python"
  }
 },
 "nbformat": 4,
 "nbformat_minor": 2
}