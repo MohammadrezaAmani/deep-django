{
 "cells": [
  {
   "cell_type": "code",
   "execution_count": null,
   "metadata": {},
   "outputs": [],
   "source": [
    "from django.db import models\n",
    "from django.utils.translation import gettext_lazy as _\n",
    "\n",
    "CHOICES = ((1, \"this\"), (2, _(\"that\")))"
   ]
  },
  {
   "cell_type": "markdown",
   "metadata": {},
   "source": []
  },
  {
   "cell_type": "code",
   "execution_count": null,
   "metadata": {},
   "outputs": [],
   "source": [
    "class Person(models.Model):\n",
    "    class Meta:\n",
    "        ordering = [\"pk\"]\n",
    "\n",
    "    name = models.CharField(max_length=30)\n",
    "    parent = models.ForeignKey(\n",
    "        \"self\", on_delete=models.CASCADE, null=True, blank=True, related_name=\"children\"\n",
    "    )"
   ]
  },
  {
   "cell_type": "markdown",
   "metadata": {},
   "source": []
  },
  {
   "cell_type": "code",
   "execution_count": null,
   "metadata": {},
   "outputs": [],
   "source": [
    "class Pet(models.Model):\n",
    "    class Meta:\n",
    "        ordering = [\"pk\"]\n",
    "\n",
    "    name = models.CharField(max_length=30)\n",
    "    age = models.PositiveIntegerField()\n",
    "    owner = models.ForeignKey(\n",
    "        \"Person\", on_delete=models.CASCADE, null=True, blank=True, related_name=\"pets\"\n",
    "    )"
   ]
  },
  {
   "cell_type": "markdown",
   "metadata": {},
   "source": []
  },
  {
   "cell_type": "code",
   "execution_count": null,
   "metadata": {},
   "outputs": [],
   "source": [
    "class FilmDetails(models.Model):\n",
    "    location = models.CharField(max_length=30)\n",
    "    film = models.OneToOneField(\n",
    "        \"Film\",\n",
    "        on_delete=models.CASCADE,\n",
    "        related_name=\"details\",\n",
    "        null=True,\n",
    "        blank=True,\n",
    "    )"
   ]
  },
  {
   "cell_type": "markdown",
   "metadata": {},
   "source": []
  },
  {
   "cell_type": "code",
   "execution_count": null,
   "metadata": {},
   "outputs": [],
   "source": [
    "class Film(models.Model):\n",
    "    class Meta:\n",
    "        ordering = [\"pk\"]\n",
    "\n",
    "    genre = models.CharField(\n",
    "        max_length=2,\n",
    "        help_text=\"Genre\",\n",
    "        choices=[(\"do\", \"Documentary\"), (\"ac\", \"Action\"), (\"ot\", \"Other\")],\n",
    "        default=\"ot\",\n",
    "    )\n",
    "    reporters = models.ManyToManyField(\"Reporter\", related_name=\"films\")"
   ]
  },
  {
   "cell_type": "markdown",
   "metadata": {},
   "source": []
  },
  {
   "cell_type": "code",
   "execution_count": null,
   "metadata": {},
   "outputs": [],
   "source": [
    "class DoeReporterManager(models.Manager):\n",
    "    def get_queryset(self):\n",
    "        return super().get_queryset().filter(last_name=\"Doe\")"
   ]
  },
  {
   "cell_type": "markdown",
   "metadata": {},
   "source": []
  },
  {
   "cell_type": "code",
   "execution_count": null,
   "metadata": {},
   "outputs": [],
   "source": [
    "class Reporter(models.Model):\n",
    "    class Meta:\n",
    "        ordering = [\"pk\"]\n",
    "\n",
    "    first_name = models.CharField(max_length=30)\n",
    "    last_name = models.CharField(max_length=30)\n",
    "    email = models.EmailField()\n",
    "    pets = models.ManyToManyField(\"self\")\n",
    "    a_choice = models.IntegerField(choices=CHOICES, null=True, blank=True)\n",
    "    objects = models.Manager()\n",
    "    doe_objects = DoeReporterManager()\n",
    "    fans = models.ManyToManyField(Person)\n",
    "\n",
    "    reporter_type = models.IntegerField(\n",
    "        \"Reporter Type\",\n",
    "        null=True,\n",
    "        blank=True,\n",
    "        choices=[(1, \"Regular\"), (2, \"CNN Reporter\")],\n",
    "    )\n",
    "\n",
    "    def __str__(self):  # __unicode__ on Python 2\n",
    "        return f\"{self.first_name} {self.last_name}\"\n",
    "\n",
    "    def __init__(self, *args, **kwargs):\n",
    "        \"\"\"\n",
    "        Override the init method so that during runtime, Django\n",
    "        can know that this object can be a CNNReporter by casting\n",
    "        it to the proxy model. Otherwise, as far as Django knows,\n",
    "        when a CNNReporter is pulled from the database, it is still\n",
    "        of type Reporter. This was added to test proxy model support.\n",
    "        \"\"\"\n",
    "        super().__init__(*args, **kwargs)\n",
    "        if self.reporter_type == 2:  # quick and dirty way without enums\n",
    "            self.__class__ = CNNReporter\n",
    "\n",
    "    def some_method(self):\n",
    "        return 123"
   ]
  },
  {
   "cell_type": "markdown",
   "metadata": {},
   "source": []
  },
  {
   "cell_type": "code",
   "execution_count": null,
   "metadata": {},
   "outputs": [],
   "source": [
    "class CNNReporterManager(models.Manager):\n",
    "    def get_queryset(self):\n",
    "        return super().get_queryset().filter(reporter_type=2)"
   ]
  },
  {
   "cell_type": "markdown",
   "metadata": {},
   "source": []
  },
  {
   "cell_type": "code",
   "execution_count": null,
   "metadata": {},
   "outputs": [],
   "source": [
    "class CNNReporter(Reporter):\n",
    "    \"\"\"\n",
    "    This class is a proxy model for Reporter, used for testing\n",
    "    proxy model support\n",
    "    \"\"\"\n",
    "\n",
    "    class Meta:\n",
    "        proxy = True\n",
    "\n",
    "    objects = CNNReporterManager()"
   ]
  },
  {
   "cell_type": "markdown",
   "metadata": {},
   "source": []
  },
  {
   "cell_type": "code",
   "execution_count": null,
   "metadata": {},
   "outputs": [],
   "source": [
    "class APNewsReporter(Reporter):\n",
    "    \"\"\"\n",
    "    This class only inherits from Reporter for testing multi table inheritance\n",
    "    similar to what you'd see in django-polymorphic\n",
    "    \"\"\"\n",
    "\n",
    "    alias = models.CharField(max_length=30)\n",
    "    objects = models.Manager()"
   ]
  },
  {
   "cell_type": "markdown",
   "metadata": {},
   "source": []
  },
  {
   "cell_type": "code",
   "execution_count": null,
   "metadata": {},
   "outputs": [],
   "source": [
    "class Article(models.Model):\n",
    "    headline = models.CharField(max_length=100)\n",
    "    pub_date = models.DateField(auto_now_add=True)\n",
    "    pub_date_time = models.DateTimeField(auto_now_add=True)\n",
    "    reporter = models.ForeignKey(\n",
    "        Reporter, on_delete=models.CASCADE, related_name=\"articles\"\n",
    "    )\n",
    "    editor = models.ForeignKey(\n",
    "        Reporter, on_delete=models.CASCADE, related_name=\"edited_articles_+\"\n",
    "    )\n",
    "    lang = models.CharField(\n",
    "        max_length=2,\n",
    "        help_text=\"Language\",\n",
    "        choices=[(\"es\", \"Spanish\"), (\"en\", \"English\")],\n",
    "        default=\"es\",\n",
    "    )\n",
    "    importance = models.IntegerField(\n",
    "        \"Importance\",\n",
    "        null=True,\n",
    "        blank=True,\n",
    "        choices=[(1, \"Very important\"), (2, \"Not as important\")],\n",
    "    )\n",
    "\n",
    "    def __str__(self):  # __unicode__ on Python 2\n",
    "        return self.headline\n",
    "\n",
    "    class Meta:\n",
    "        ordering = (\"headline\",)"
   ]
  },
  {
   "cell_type": "markdown",
   "metadata": {},
   "source": []
  }
 ],
 "metadata": {
  "language_info": {
   "name": "python"
  }
 },
 "nbformat": 4,
 "nbformat_minor": 2
}