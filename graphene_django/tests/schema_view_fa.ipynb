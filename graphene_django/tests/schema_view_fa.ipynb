{
    "cells": [
        {
            "cell_type": "code",
            "execution_count": null,
            "metadata": {},
            "outputs": [],
            "source": [
                "import graphene\n",
                "from graphene import ObjectType, Schema\n",
                "\n",
                "from .mutations import PetFormMutation, PetMutation\n"
            ]
        },
        {
            "cell_type": "markdown",
            "metadata": {},
            "source": []
        },
        {
            "cell_type": "code",
            "execution_count": null,
            "metadata": {},
            "outputs": [],
            "source": [
                "class QueryRoot(ObjectType):\n",
                "    thrower = graphene.String(required=True)\n",
                "    request = graphene.String(required=True)\n",
                "    test = graphene.String(who=graphene.String())\n",
                "\n",
                "    def resolve_thrower(self, info):\n",
                "        raise Exception(\"Throws!\")\n",
                "\n",
                "    def resolve_request(self, info):\n",
                "        return info.context.GET.get(\"q\")\n",
                "\n",
                "    def resolve_test(self, info, who=None):\n",
                "        return \"Hello %s\" % (who or \"World\")\n"
            ]
        },
        {
            "cell_type": "markdown",
            "metadata": {},
            "source": []
        },
        {
            "cell_type": "code",
            "execution_count": null,
            "metadata": {},
            "outputs": [],
            "source": [
                "class MutationRoot(ObjectType):\n",
                "    pet_form_mutation = PetFormMutation.Field()\n",
                "    pet_mutation = PetMutation.Field()\n",
                "    write_test = graphene.Field(QueryRoot)\n",
                "\n",
                "    def resolve_write_test(self, info):\n",
                "        return QueryRoot()\n"
            ]
        },
        {
            "cell_type": "markdown",
            "metadata": {},
            "source": []
        },
        {
            "cell_type": "code",
            "execution_count": null,
            "metadata": {},
            "outputs": [],
            "source": [
                "schema = Schema(query=QueryRoot, mutation=MutationRoot)\n",
                "\n"
            ]
        },
        {
            "cell_type": "markdown",
            "metadata": {},
            "source": []
        }
    ],
    "metadata": {
        "language_info": {
            "name": "python"
        }
    },
    "nbformat": 4,
    "nbformat_minor": 2
}