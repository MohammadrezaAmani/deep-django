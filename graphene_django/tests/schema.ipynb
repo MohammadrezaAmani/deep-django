{
 "cells": [
  {
   "cell_type": "code",
   "execution_count": null,
   "metadata": {},
   "outputs": [],
   "source": [
    "import graphene\n",
    "from graphene import Schema, relay\n",
    "\n",
    "from ..types import DjangoObjectType\n",
    "from .models import Article, Reporter"
   ]
  },
  {
   "cell_type": "markdown",
   "metadata": {},
   "source": []
  },
  {
   "cell_type": "code",
   "execution_count": null,
   "metadata": {},
   "outputs": [],
   "source": [
    "class Character(DjangoObjectType):\n",
    "    class Meta:\n",
    "        model = Reporter\n",
    "        interfaces = (relay.Node,)\n",
    "        fields = \"__all__\"\n",
    "\n",
    "    def get_node(self, info, id):\n",
    "        pass"
   ]
  },
  {
   "cell_type": "markdown",
   "metadata": {},
   "source": []
  },
  {
   "cell_type": "code",
   "execution_count": null,
   "metadata": {},
   "outputs": [],
   "source": [
    "class Human(DjangoObjectType):\n",
    "    raises = graphene.String()\n",
    "\n",
    "    class Meta:\n",
    "        model = Article\n",
    "        interfaces = (relay.Node,)\n",
    "        fields = \"__all__\"\n",
    "\n",
    "    def resolve_raises(self, info):\n",
    "        raise Exception(\"This field should raise exception\")\n",
    "\n",
    "    def get_node(self, info, id):\n",
    "        pass"
   ]
  },
  {
   "cell_type": "markdown",
   "metadata": {},
   "source": []
  },
  {
   "cell_type": "code",
   "execution_count": null,
   "metadata": {},
   "outputs": [],
   "source": [
    "class Query(graphene.ObjectType):\n",
    "    human = graphene.Field(Human)\n",
    "\n",
    "    def resolve_human(self, info):\n",
    "        return Human()"
   ]
  },
  {
   "cell_type": "markdown",
   "metadata": {},
   "source": []
  },
  {
   "cell_type": "code",
   "execution_count": null,
   "metadata": {},
   "outputs": [],
   "source": [
    "schema = Schema(query=Query)"
   ]
  },
  {
   "cell_type": "markdown",
   "metadata": {},
   "source": []
  }
 ],
 "metadata": {
  "language_info": {
   "name": "python"
  }
 },
 "nbformat": 4,
 "nbformat_minor": 2
}