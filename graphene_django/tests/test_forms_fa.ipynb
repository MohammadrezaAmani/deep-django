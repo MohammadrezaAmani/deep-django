{
    "cells": [
        {
            "cell_type": "code",
            "execution_count": null,
            "metadata": {},
            "outputs": [],
            "source": [
                "from django.core.exceptions import ValidationError\n",
                "from pytest import raises\n",
                "\n",
                "from ..forms import GlobalIDFormField, GlobalIDMultipleChoiceField\n",
                "\n",
                "# 'TXlUeXBlOmFiYw==' -> 'MyType', 'abc'\n"
            ]
        },
        {
            "cell_type": "markdown",
            "metadata": {},
            "source": []
        },
        {
            "cell_type": "code",
            "execution_count": null,
            "metadata": {},
            "outputs": [],
            "source": [
                "def test_global_id_valid():\n",
                "    field = GlobalIDFormField()\n",
                "    field.clean(\"TXlUeXBlOmFiYw==\")\n"
            ]
        },
        {
            "cell_type": "markdown",
            "metadata": {},
            "source": []
        },
        {
            "cell_type": "code",
            "execution_count": null,
            "metadata": {},
            "outputs": [],
            "source": [
                "def test_global_id_invalid():\n",
                "    field = GlobalIDFormField()\n",
                "    with raises(ValidationError):\n",
                "        field.clean(\"badvalue\")\n"
            ]
        },
        {
            "cell_type": "markdown",
            "metadata": {},
            "source": []
        },
        {
            "cell_type": "code",
            "execution_count": null,
            "metadata": {},
            "outputs": [],
            "source": [
                "def test_global_id_multiple_valid():\n",
                "    field = GlobalIDMultipleChoiceField()\n",
                "    field.clean([\"TXlUeXBlOmFiYw==\", \"TXlUeXBlOmFiYw==\"])\n"
            ]
        },
        {
            "cell_type": "markdown",
            "metadata": {},
            "source": []
        },
        {
            "cell_type": "code",
            "execution_count": null,
            "metadata": {},
            "outputs": [],
            "source": [
                "def test_global_id_multiple_invalid():\n",
                "    field = GlobalIDMultipleChoiceField()\n",
                "    with raises(ValidationError):\n",
                "        field.clean([\"badvalue\", \"another bad avue\"])\n"
            ]
        },
        {
            "cell_type": "markdown",
            "metadata": {},
            "source": []
        },
        {
            "cell_type": "code",
            "execution_count": null,
            "metadata": {},
            "outputs": [],
            "source": [
                "def test_global_id_none():\n",
                "    field = GlobalIDFormField()\n",
                "    with raises(ValidationError):\n",
                "        field.clean(None)\n"
            ]
        },
        {
            "cell_type": "markdown",
            "metadata": {},
            "source": []
        },
        {
            "cell_type": "code",
            "execution_count": null,
            "metadata": {},
            "outputs": [],
            "source": [
                "def test_global_id_none_optional():\n",
                "    field = GlobalIDFormField(required=False)\n",
                "    field.clean(None)\n",
                "\n"
            ]
        },
        {
            "cell_type": "markdown",
            "metadata": {},
            "source": []
        }
    ],
    "metadata": {
        "language_info": {
            "name": "python"
        }
    },
    "nbformat": 4,
    "nbformat_minor": 2
}