{
 "cells": [
  {
   "cell_type": "code",
   "execution_count": null,
   "metadata": {},
   "outputs": [],
   "source": [
    "from graphene import Field\n",
    "\n",
    "from graphene_django.forms.mutation import DjangoFormMutation, DjangoModelFormMutation\n",
    "\n",
    "from .forms import PetForm\n",
    "from .types import PetType"
   ]
  },
  {
   "cell_type": "markdown",
   "metadata": {},
   "source": []
  },
  {
   "cell_type": "code",
   "execution_count": null,
   "metadata": {},
   "outputs": [],
   "source": [
    "class PetFormMutation(DjangoFormMutation):\n",
    "    class Meta:\n",
    "        form_class = PetForm"
   ]
  },
  {
   "cell_type": "markdown",
   "metadata": {},
   "source": []
  },
  {
   "cell_type": "code",
   "execution_count": null,
   "metadata": {},
   "outputs": [],
   "source": [
    "class PetMutation(DjangoModelFormMutation):\n",
    "    pet = Field(PetType)\n",
    "\n",
    "    class Meta:\n",
    "        form_class = PetForm"
   ]
  },
  {
   "cell_type": "markdown",
   "metadata": {},
   "source": []
  }
 ],
 "metadata": {
  "language_info": {
   "name": "python"
  }
 },
 "nbformat": 4,
 "nbformat_minor": 2
}