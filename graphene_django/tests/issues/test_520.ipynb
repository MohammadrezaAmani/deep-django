{
 "cells": [
  {
   "cell_type": "code",
   "execution_count": null,
   "metadata": {},
   "outputs": [],
   "source": [
    "# https://github.com/graphql-python/graphene-django/issues/520"
   ]
  },
  {
   "cell_type": "markdown",
   "metadata": {},
   "source": []
  },
  {
   "cell_type": "code",
   "execution_count": null,
   "metadata": {},
   "outputs": [],
   "source": [
    "import graphene\n",
    "from django import forms\n",
    "\n",
    "from rest_framework import serializers\n",
    "\n",
    "from ...forms.mutation import DjangoFormMutation\n",
    "from ...rest_framework.models import MyFakeModel\n",
    "from ...rest_framework.mutation import SerializerMutation"
   ]
  },
  {
   "cell_type": "markdown",
   "metadata": {},
   "source": []
  },
  {
   "cell_type": "code",
   "execution_count": null,
   "metadata": {},
   "outputs": [],
   "source": [
    "class MyModelSerializer(serializers.ModelSerializer):\n",
    "    class Meta:\n",
    "        model = MyFakeModel\n",
    "        fields = \"__all__\""
   ]
  },
  {
   "cell_type": "markdown",
   "metadata": {},
   "source": []
  },
  {
   "cell_type": "code",
   "execution_count": null,
   "metadata": {},
   "outputs": [],
   "source": [
    "class MyForm(forms.Form):\n",
    "    text = forms.CharField()"
   ]
  },
  {
   "cell_type": "markdown",
   "metadata": {},
   "source": []
  },
  {
   "cell_type": "code",
   "execution_count": null,
   "metadata": {},
   "outputs": [],
   "source": [
    "def test_can_use_form_and_serializer_mutations():\n",
    "    class MyMutation(SerializerMutation):\n",
    "        class Meta:\n",
    "            serializer_class = MyModelSerializer\n",
    "\n",
    "    class MyFormMutation(DjangoFormMutation):\n",
    "        class Meta:\n",
    "            form_class = MyForm\n",
    "\n",
    "    class Mutation(graphene.ObjectType):\n",
    "        my_mutation = MyMutation.Field()\n",
    "        my_form_mutation = MyFormMutation.Field()\n",
    "\n",
    "    graphene.Schema(mutation=Mutation)"
   ]
  },
  {
   "cell_type": "markdown",
   "metadata": {},
   "source": []
  }
 ],
 "metadata": {
  "language_info": {
   "name": "python"
  }
 },
 "nbformat": 4,
 "nbformat_minor": 2
}