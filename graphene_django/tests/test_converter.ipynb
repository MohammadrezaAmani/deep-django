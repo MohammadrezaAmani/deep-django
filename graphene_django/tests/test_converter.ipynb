{
 "cells": [
  {
   "cell_type": "code",
   "execution_count": null,
   "metadata": {},
   "outputs": [],
   "source": [
    "from collections import namedtuple\n",
    "\n",
    "import graphene\n",
    "import pytest\n",
    "from django.db import models\n",
    "from django.utils.translation import gettext_lazy as _\n",
    "from graphene import NonNull\n",
    "from graphene.relay import ConnectionField, Node\n",
    "from graphene.types.datetime import Date, DateTime, Time\n",
    "from graphene.types.json import JSONString\n",
    "from graphene.types.scalars import BigInt\n",
    "from pytest import raises\n",
    "\n",
    "from ..compat import ArrayField, HStoreField, MissingType, RangeField\n",
    "from ..converter import (\n",
    "    convert_django_field,\n",
    "    convert_django_field_with_choices,\n",
    "    generate_enum_name,\n",
    ")\n",
    "from ..registry import Registry\n",
    "from ..types import DjangoObjectType\n",
    "from .models import Article, Film, FilmDetails, Reporter\n",
    "\n",
    "# from graphene.core.types.custom_scalars import DateTime, Time, JSONString"
   ]
  },
  {
   "cell_type": "markdown",
   "metadata": {},
   "source": []
  },
  {
   "cell_type": "code",
   "execution_count": null,
   "metadata": {},
   "outputs": [],
   "source": [
    "def assert_conversion(django_field, graphene_field, *args, **kwargs):\n",
    "    _kwargs = {**kwargs, \"help_text\": \"Custom Help Text\"}\n",
    "    if \"null\" not in kwargs:\n",
    "        _kwargs[\"null\"] = True\n",
    "    field = django_field(*args, **_kwargs)\n",
    "    graphene_type = convert_django_field(field)\n",
    "    assert isinstance(graphene_type, graphene_field)\n",
    "    field = graphene_type.Field()\n",
    "    assert field.description == \"Custom Help Text\"\n",
    "\n",
    "    _kwargs = kwargs.copy()\n",
    "    if \"null\" not in kwargs:\n",
    "        _kwargs[\"null\"] = False\n",
    "    nonnull_field = django_field(*args, **_kwargs)\n",
    "    if not nonnull_field.null:\n",
    "        nonnull_graphene_type = convert_django_field(nonnull_field)\n",
    "        nonnull_field = nonnull_graphene_type.Field()\n",
    "        assert isinstance(nonnull_field.type, graphene.NonNull)\n",
    "        return nonnull_field\n",
    "    return field"
   ]
  },
  {
   "cell_type": "markdown",
   "metadata": {},
   "source": []
  },
  {
   "cell_type": "code",
   "execution_count": null,
   "metadata": {},
   "outputs": [],
   "source": [
    "def test_should_unknown_django_field_raise_exception():\n",
    "    with raises(Exception) as excinfo:\n",
    "        convert_django_field(None)\n",
    "    assert \"Don't know how to convert the Django field\" in str(excinfo.value)"
   ]
  },
  {
   "cell_type": "markdown",
   "metadata": {},
   "source": []
  },
  {
   "cell_type": "code",
   "execution_count": null,
   "metadata": {},
   "outputs": [],
   "source": [
    "def test_should_date_time_convert_string():\n",
    "    assert_conversion(models.DateTimeField, DateTime)"
   ]
  },
  {
   "cell_type": "markdown",
   "metadata": {},
   "source": []
  },
  {
   "cell_type": "code",
   "execution_count": null,
   "metadata": {},
   "outputs": [],
   "source": [
    "def test_should_date_convert_string():\n",
    "    assert_conversion(models.DateField, Date)"
   ]
  },
  {
   "cell_type": "markdown",
   "metadata": {},
   "source": []
  },
  {
   "cell_type": "code",
   "execution_count": null,
   "metadata": {},
   "outputs": [],
   "source": [
    "def test_should_time_convert_string():\n",
    "    assert_conversion(models.TimeField, Time)"
   ]
  },
  {
   "cell_type": "markdown",
   "metadata": {},
   "source": []
  },
  {
   "cell_type": "code",
   "execution_count": null,
   "metadata": {},
   "outputs": [],
   "source": [
    "def test_should_char_convert_string():\n",
    "    assert_conversion(models.CharField, graphene.String)"
   ]
  },
  {
   "cell_type": "markdown",
   "metadata": {},
   "source": []
  },
  {
   "cell_type": "code",
   "execution_count": null,
   "metadata": {},
   "outputs": [],
   "source": [
    "def test_should_text_convert_string():\n",
    "    assert_conversion(models.TextField, graphene.String)"
   ]
  },
  {
   "cell_type": "markdown",
   "metadata": {},
   "source": []
  },
  {
   "cell_type": "code",
   "execution_count": null,
   "metadata": {},
   "outputs": [],
   "source": [
    "def test_should_email_convert_string():\n",
    "    assert_conversion(models.EmailField, graphene.String)"
   ]
  },
  {
   "cell_type": "markdown",
   "metadata": {},
   "source": []
  },
  {
   "cell_type": "code",
   "execution_count": null,
   "metadata": {},
   "outputs": [],
   "source": [
    "def test_should_slug_convert_string():\n",
    "    assert_conversion(models.SlugField, graphene.String)"
   ]
  },
  {
   "cell_type": "markdown",
   "metadata": {},
   "source": []
  },
  {
   "cell_type": "code",
   "execution_count": null,
   "metadata": {},
   "outputs": [],
   "source": [
    "def test_should_url_convert_string():\n",
    "    assert_conversion(models.URLField, graphene.String)"
   ]
  },
  {
   "cell_type": "markdown",
   "metadata": {},
   "source": []
  },
  {
   "cell_type": "code",
   "execution_count": null,
   "metadata": {},
   "outputs": [],
   "source": [
    "def test_should_ipaddress_convert_string():\n",
    "    assert_conversion(models.GenericIPAddressField, graphene.String)"
   ]
  },
  {
   "cell_type": "markdown",
   "metadata": {},
   "source": []
  },
  {
   "cell_type": "code",
   "execution_count": null,
   "metadata": {},
   "outputs": [],
   "source": [
    "def test_should_file_convert_string():\n",
    "    assert_conversion(models.FileField, graphene.String)"
   ]
  },
  {
   "cell_type": "markdown",
   "metadata": {},
   "source": []
  },
  {
   "cell_type": "code",
   "execution_count": null,
   "metadata": {},
   "outputs": [],
   "source": [
    "def test_should_image_convert_string():\n",
    "    assert_conversion(models.ImageField, graphene.String)"
   ]
  },
  {
   "cell_type": "markdown",
   "metadata": {},
   "source": []
  },
  {
   "cell_type": "code",
   "execution_count": null,
   "metadata": {},
   "outputs": [],
   "source": [
    "def test_should_file_path_field_convert_string():\n",
    "    assert_conversion(models.FilePathField, graphene.String)"
   ]
  },
  {
   "cell_type": "markdown",
   "metadata": {},
   "source": []
  },
  {
   "cell_type": "code",
   "execution_count": null,
   "metadata": {},
   "outputs": [],
   "source": [
    "def test_should_auto_convert_id():\n",
    "    assert_conversion(models.AutoField, graphene.ID, primary_key=True)"
   ]
  },
  {
   "cell_type": "markdown",
   "metadata": {},
   "source": []
  },
  {
   "cell_type": "code",
   "execution_count": null,
   "metadata": {},
   "outputs": [],
   "source": [
    "def test_should_big_auto_convert_id():\n",
    "    assert_conversion(models.BigAutoField, graphene.ID, primary_key=True)"
   ]
  },
  {
   "cell_type": "markdown",
   "metadata": {},
   "source": []
  },
  {
   "cell_type": "code",
   "execution_count": null,
   "metadata": {},
   "outputs": [],
   "source": [
    "def test_should_small_auto_convert_id():\n",
    "    if hasattr(models, \"SmallAutoField\"):\n",
    "        assert_conversion(models.SmallAutoField, graphene.ID, primary_key=True)"
   ]
  },
  {
   "cell_type": "markdown",
   "metadata": {},
   "source": []
  },
  {
   "cell_type": "code",
   "execution_count": null,
   "metadata": {},
   "outputs": [],
   "source": [
    "def test_should_uuid_convert_id():\n",
    "    assert_conversion(models.UUIDField, graphene.UUID)"
   ]
  },
  {
   "cell_type": "markdown",
   "metadata": {},
   "source": []
  },
  {
   "cell_type": "code",
   "execution_count": null,
   "metadata": {},
   "outputs": [],
   "source": [
    "def test_should_auto_convert_duration():\n",
    "    assert_conversion(models.DurationField, graphene.Float)"
   ]
  },
  {
   "cell_type": "markdown",
   "metadata": {},
   "source": []
  },
  {
   "cell_type": "code",
   "execution_count": null,
   "metadata": {},
   "outputs": [],
   "source": [
    "def test_should_positive_integer_convert_int():\n",
    "    assert_conversion(models.PositiveIntegerField, graphene.Int)"
   ]
  },
  {
   "cell_type": "markdown",
   "metadata": {},
   "source": []
  },
  {
   "cell_type": "code",
   "execution_count": null,
   "metadata": {},
   "outputs": [],
   "source": [
    "def test_should_positive_small_convert_int():\n",
    "    assert_conversion(models.PositiveSmallIntegerField, graphene.Int)"
   ]
  },
  {
   "cell_type": "markdown",
   "metadata": {},
   "source": []
  },
  {
   "cell_type": "code",
   "execution_count": null,
   "metadata": {},
   "outputs": [],
   "source": [
    "def test_should_small_integer_convert_int():\n",
    "    assert_conversion(models.SmallIntegerField, graphene.Int)"
   ]
  },
  {
   "cell_type": "markdown",
   "metadata": {},
   "source": []
  },
  {
   "cell_type": "code",
   "execution_count": null,
   "metadata": {},
   "outputs": [],
   "source": [
    "def test_should_big_integer_convert_big_int():\n",
    "    assert_conversion(models.BigIntegerField, BigInt)"
   ]
  },
  {
   "cell_type": "markdown",
   "metadata": {},
   "source": []
  },
  {
   "cell_type": "code",
   "execution_count": null,
   "metadata": {},
   "outputs": [],
   "source": [
    "def test_should_integer_convert_int():\n",
    "    assert_conversion(models.IntegerField, graphene.Int)"
   ]
  },
  {
   "cell_type": "markdown",
   "metadata": {},
   "source": []
  },
  {
   "cell_type": "code",
   "execution_count": null,
   "metadata": {},
   "outputs": [],
   "source": [
    "def test_should_boolean_convert_boolean():\n",
    "    assert_conversion(models.BooleanField, graphene.Boolean, null=True)"
   ]
  },
  {
   "cell_type": "markdown",
   "metadata": {},
   "source": []
  },
  {
   "cell_type": "code",
   "execution_count": null,
   "metadata": {},
   "outputs": [],
   "source": [
    "def test_should_boolean_convert_non_null_boolean():\n",
    "    field = assert_conversion(models.BooleanField, graphene.Boolean, null=False)\n",
    "    assert isinstance(field.type, graphene.NonNull)\n",
    "    assert field.type.of_type == graphene.Boolean"
   ]
  },
  {
   "cell_type": "markdown",
   "metadata": {},
   "source": []
  },
  {
   "cell_type": "code",
   "execution_count": null,
   "metadata": {},
   "outputs": [],
   "source": [
    "def test_should_nullboolean_convert_boolean():\n",
    "    assert_conversion(models.NullBooleanField, graphene.Boolean)"
   ]
  },
  {
   "cell_type": "markdown",
   "metadata": {},
   "source": []
  },
  {
   "cell_type": "code",
   "execution_count": null,
   "metadata": {},
   "outputs": [],
   "source": [
    "def test_field_with_choices_convert_enum():\n",
    "    field = models.CharField(\n",
    "        help_text=\"Language\", choices=((\"es\", \"Spanish\"), (\"en\", \"English\"))\n",
    "    )\n",
    "\n",
    "    class TranslatedModel(models.Model):\n",
    "        language = field\n",
    "\n",
    "        class Meta:\n",
    "            app_label = \"test\"\n",
    "\n",
    "    graphene_type = convert_django_field_with_choices(field).type.of_type\n",
    "    assert graphene_type._meta.name == \"TestTranslatedModelLanguageChoices\"\n",
    "    assert graphene_type._meta.enum.__members__[\"ES\"].value == \"es\"\n",
    "    assert graphene_type._meta.enum.__members__[\"ES\"].description == \"Spanish\"\n",
    "    assert graphene_type._meta.enum.__members__[\"EN\"].value == \"en\"\n",
    "    assert graphene_type._meta.enum.__members__[\"EN\"].description == \"English\""
   ]
  },
  {
   "cell_type": "markdown",
   "metadata": {},
   "source": []
  },
  {
   "cell_type": "code",
   "execution_count": null,
   "metadata": {},
   "outputs": [],
   "source": [
    "def test_field_with_callable_choices_convert_enum():\n",
    "    def get_choices():\n",
    "        return (\"es\", \"Spanish\"), (\"en\", \"English\")\n",
    "\n",
    "    field = models.CharField(help_text=\"Language\", choices=get_choices)\n",
    "\n",
    "    class TranslatedModel(models.Model):\n",
    "        language = field\n",
    "\n",
    "        class Meta:\n",
    "            app_label = \"test\"\n",
    "\n",
    "    graphene_type = convert_django_field_with_choices(field).type.of_type\n",
    "    assert graphene_type._meta.name == \"TestTranslatedModelLanguageChoices\"\n",
    "    assert graphene_type._meta.enum.__members__[\"ES\"].value == \"es\"\n",
    "    assert graphene_type._meta.enum.__members__[\"ES\"].description == \"Spanish\"\n",
    "    assert graphene_type._meta.enum.__members__[\"EN\"].value == \"en\"\n",
    "    assert graphene_type._meta.enum.__members__[\"EN\"].description == \"English\""
   ]
  },
  {
   "cell_type": "markdown",
   "metadata": {},
   "source": []
  },
  {
   "cell_type": "code",
   "execution_count": null,
   "metadata": {},
   "outputs": [],
   "source": [
    "def test_field_with_grouped_choices():\n",
    "    field = models.CharField(\n",
    "        help_text=\"Language\",\n",
    "        choices=((\"Europe\", ((\"es\", \"Spanish\"), (\"en\", \"English\"))),),\n",
    "    )\n",
    "\n",
    "    class GroupedChoicesModel(models.Model):\n",
    "        language = field\n",
    "\n",
    "        class Meta:\n",
    "            app_label = \"test\"\n",
    "\n",
    "    convert_django_field_with_choices(field)"
   ]
  },
  {
   "cell_type": "markdown",
   "metadata": {},
   "source": []
  },
  {
   "cell_type": "code",
   "execution_count": null,
   "metadata": {},
   "outputs": [],
   "source": [
    "def test_field_with_choices_gettext():\n",
    "    field = models.CharField(\n",
    "        help_text=\"Language\", choices=((\"es\", _(\"Spanish\")), (\"en\", _(\"English\")))\n",
    "    )\n",
    "\n",
    "    class TranslatedChoicesModel(models.Model):\n",
    "        language = field\n",
    "\n",
    "        class Meta:\n",
    "            app_label = \"test\"\n",
    "\n",
    "    convert_django_field_with_choices(field)"
   ]
  },
  {
   "cell_type": "markdown",
   "metadata": {},
   "source": []
  },
  {
   "cell_type": "code",
   "execution_count": null,
   "metadata": {},
   "outputs": [],
   "source": [
    "def test_field_with_choices_collision():\n",
    "    field = models.CharField(\n",
    "        help_text=\"Timezone\",\n",
    "        choices=(\n",
    "            (\"Etc/GMT+1+2\", \"Fake choice to produce double collision\"),\n",
    "            (\"Etc/GMT+1\", \"Greenwich Mean Time +1\"),\n",
    "            (\"Etc/GMT-1\", \"Greenwich Mean Time -1\"),\n",
    "        ),\n",
    "    )\n",
    "\n",
    "    class CollisionChoicesModel(models.Model):\n",
    "        timezone = field\n",
    "\n",
    "        class Meta:\n",
    "            app_label = \"test\"\n",
    "\n",
    "    convert_django_field_with_choices(field)"
   ]
  },
  {
   "cell_type": "markdown",
   "metadata": {},
   "source": []
  },
  {
   "cell_type": "code",
   "execution_count": null,
   "metadata": {},
   "outputs": [],
   "source": [
    "def test_field_with_choices_convert_enum_false():\n",
    "    field = models.CharField(\n",
    "        help_text=\"Language\", choices=((\"es\", \"Spanish\"), (\"en\", \"English\"))\n",
    "    )\n",
    "\n",
    "    class TranslatedModel(models.Model):\n",
    "        language = field\n",
    "\n",
    "        class Meta:\n",
    "            app_label = \"test\"\n",
    "\n",
    "    graphene_type = convert_django_field_with_choices(\n",
    "        field, convert_choices_to_enum=False\n",
    "    )\n",
    "    assert isinstance(graphene_type, graphene.String)"
   ]
  },
  {
   "cell_type": "markdown",
   "metadata": {},
   "source": []
  },
  {
   "cell_type": "code",
   "execution_count": null,
   "metadata": {},
   "outputs": [],
   "source": [
    "def test_should_float_convert_float():\n",
    "    assert_conversion(models.FloatField, graphene.Float)"
   ]
  },
  {
   "cell_type": "markdown",
   "metadata": {},
   "source": []
  },
  {
   "cell_type": "code",
   "execution_count": null,
   "metadata": {},
   "outputs": [],
   "source": [
    "def test_should_float_convert_decimal():\n",
    "    assert_conversion(models.DecimalField, graphene.Decimal)"
   ]
  },
  {
   "cell_type": "markdown",
   "metadata": {},
   "source": []
  },
  {
   "cell_type": "code",
   "execution_count": null,
   "metadata": {},
   "outputs": [],
   "source": [
    "def test_should_manytomany_convert_connectionorlist():\n",
    "    registry = Registry()\n",
    "    dynamic_field = convert_django_field(Reporter._meta.local_many_to_many[0], registry)\n",
    "    assert not dynamic_field.get_type()"
   ]
  },
  {
   "cell_type": "markdown",
   "metadata": {},
   "source": []
  },
  {
   "cell_type": "code",
   "execution_count": null,
   "metadata": {},
   "outputs": [],
   "source": [
    "def test_should_manytomany_convert_connectionorlist_list():\n",
    "    class A(DjangoObjectType):\n",
    "        class Meta:\n",
    "            model = Reporter\n",
    "            fields = \"__all__\"\n",
    "\n",
    "    graphene_field = convert_django_field(\n",
    "        Reporter._meta.local_many_to_many[0], A._meta.registry\n",
    "    )\n",
    "    assert isinstance(graphene_field, graphene.Dynamic)\n",
    "    dynamic_field = graphene_field.get_type()\n",
    "    assert isinstance(dynamic_field, graphene.Field)\n",
    "    # A NonNull List of NonNull A ([A!]!)\n",
    "    # https://github.com/graphql-python/graphene-django/issues/448\n",
    "    assert isinstance(dynamic_field.type, NonNull)\n",
    "    assert isinstance(dynamic_field.type.of_type, graphene.List)\n",
    "    assert isinstance(dynamic_field.type.of_type.of_type, NonNull)\n",
    "    assert dynamic_field.type.of_type.of_type.of_type == A"
   ]
  },
  {
   "cell_type": "markdown",
   "metadata": {},
   "source": []
  },
  {
   "cell_type": "code",
   "execution_count": null,
   "metadata": {},
   "outputs": [],
   "source": [
    "def test_should_manytomany_convert_connectionorlist_connection():\n",
    "    class A(DjangoObjectType):\n",
    "        class Meta:\n",
    "            model = Reporter\n",
    "            interfaces = (Node,)\n",
    "            fields = \"__all__\"\n",
    "\n",
    "    graphene_field = convert_django_field(\n",
    "        Reporter._meta.local_many_to_many[0], A._meta.registry\n",
    "    )\n",
    "    assert isinstance(graphene_field, graphene.Dynamic)\n",
    "    dynamic_field = graphene_field.get_type()\n",
    "    assert isinstance(dynamic_field, ConnectionField)\n",
    "    assert dynamic_field.type.of_type == A._meta.connection"
   ]
  },
  {
   "cell_type": "markdown",
   "metadata": {},
   "source": []
  },
  {
   "cell_type": "code",
   "execution_count": null,
   "metadata": {},
   "outputs": [],
   "source": [
    "def test_should_manytoone_convert_connectionorlist():\n",
    "    class A(DjangoObjectType):\n",
    "        class Meta:\n",
    "            model = Article\n",
    "            fields = \"__all__\"\n",
    "\n",
    "    graphene_field = convert_django_field(Reporter.articles.rel, A._meta.registry)\n",
    "    assert isinstance(graphene_field, graphene.Dynamic)\n",
    "    dynamic_field = graphene_field.get_type()\n",
    "    assert isinstance(dynamic_field, graphene.Field)\n",
    "    # a NonNull List of NonNull A ([A!]!)\n",
    "    assert isinstance(dynamic_field.type, NonNull)\n",
    "    assert isinstance(dynamic_field.type.of_type, graphene.List)\n",
    "    assert isinstance(dynamic_field.type.of_type.of_type, NonNull)\n",
    "    assert dynamic_field.type.of_type.of_type.of_type == A"
   ]
  },
  {
   "cell_type": "markdown",
   "metadata": {},
   "source": []
  },
  {
   "cell_type": "code",
   "execution_count": null,
   "metadata": {},
   "outputs": [],
   "source": [
    "def test_should_onetoone_reverse_convert_model():\n",
    "    class A(DjangoObjectType):\n",
    "        class Meta:\n",
    "            model = FilmDetails\n",
    "            fields = \"__all__\"\n",
    "\n",
    "    graphene_field = convert_django_field(Film.details.related, A._meta.registry)\n",
    "    assert isinstance(graphene_field, graphene.Dynamic)\n",
    "    dynamic_field = graphene_field.get_type()\n",
    "    assert isinstance(dynamic_field, graphene.Field)\n",
    "    assert dynamic_field.type == A"
   ]
  },
  {
   "cell_type": "markdown",
   "metadata": {},
   "source": []
  },
  {
   "cell_type": "code",
   "execution_count": null,
   "metadata": {},
   "outputs": [],
   "source": [
    "@pytest.mark.skipif(ArrayField is MissingType, reason=\"ArrayField should exist\")\n",
    "def test_should_postgres_array_convert_list():\n",
    "    field = assert_conversion(\n",
    "        ArrayField, graphene.List, models.CharField(max_length=100)\n",
    "    )\n",
    "    assert isinstance(field.type, graphene.NonNull)\n",
    "    assert isinstance(field.type.of_type, graphene.List)\n",
    "    assert isinstance(field.type.of_type.of_type, graphene.NonNull)\n",
    "    assert field.type.of_type.of_type.of_type == graphene.String\n",
    "\n",
    "    field = assert_conversion(\n",
    "        ArrayField, graphene.List, models.CharField(max_length=100, null=True)\n",
    "    )\n",
    "    assert isinstance(field.type, graphene.NonNull)\n",
    "    assert isinstance(field.type.of_type, graphene.List)\n",
    "    assert field.type.of_type.of_type == graphene.String"
   ]
  },
  {
   "cell_type": "markdown",
   "metadata": {},
   "source": []
  },
  {
   "cell_type": "code",
   "execution_count": null,
   "metadata": {},
   "outputs": [],
   "source": [
    "@pytest.mark.skipif(ArrayField is MissingType, reason=\"ArrayField should exist\")\n",
    "def test_should_postgres_array_multiple_convert_list():\n",
    "    field = assert_conversion(\n",
    "        ArrayField, graphene.List, ArrayField(models.CharField(max_length=100))\n",
    "    )\n",
    "    assert isinstance(field.type, graphene.NonNull)\n",
    "    assert isinstance(field.type.of_type, graphene.List)\n",
    "    assert isinstance(field.type.of_type.of_type, graphene.List)\n",
    "    assert isinstance(field.type.of_type.of_type.of_type, graphene.NonNull)\n",
    "    assert field.type.of_type.of_type.of_type.of_type == graphene.String\n",
    "\n",
    "    field = assert_conversion(\n",
    "        ArrayField,\n",
    "        graphene.List,\n",
    "        ArrayField(models.CharField(max_length=100, null=True)),\n",
    "    )\n",
    "    assert isinstance(field.type, graphene.NonNull)\n",
    "    assert isinstance(field.type.of_type, graphene.List)\n",
    "    assert isinstance(field.type.of_type.of_type, graphene.List)\n",
    "    assert field.type.of_type.of_type.of_type == graphene.String"
   ]
  },
  {
   "cell_type": "markdown",
   "metadata": {},
   "source": []
  },
  {
   "cell_type": "code",
   "execution_count": null,
   "metadata": {},
   "outputs": [],
   "source": [
    "@pytest.mark.skipif(HStoreField is MissingType, reason=\"HStoreField should exist\")\n",
    "def test_should_postgres_hstore_convert_string():\n",
    "    assert_conversion(HStoreField, JSONString)"
   ]
  },
  {
   "cell_type": "markdown",
   "metadata": {},
   "source": []
  },
  {
   "cell_type": "code",
   "execution_count": null,
   "metadata": {},
   "outputs": [],
   "source": [
    "@pytest.mark.skipif(RangeField is MissingType, reason=\"RangeField should exist\")\n",
    "def test_should_postgres_range_convert_list():\n",
    "    from django.contrib.postgres.fields import IntegerRangeField\n",
    "\n",
    "    field = assert_conversion(IntegerRangeField, graphene.List)\n",
    "    assert isinstance(field.type, graphene.NonNull)\n",
    "    assert isinstance(field.type.of_type, graphene.List)\n",
    "    assert isinstance(field.type.of_type.of_type, graphene.NonNull)\n",
    "    assert field.type.of_type.of_type.of_type == graphene.Int"
   ]
  },
  {
   "cell_type": "markdown",
   "metadata": {},
   "source": []
  },
  {
   "cell_type": "code",
   "execution_count": null,
   "metadata": {},
   "outputs": [],
   "source": [
    "def test_generate_enum_name():\n",
    "    MockDjangoModelMeta = namedtuple(\"DjangoMeta\", [\"app_label\", \"object_name\"])\n",
    "\n",
    "    # Simple case\n",
    "    field = graphene.Field(graphene.String, name=\"type\")\n",
    "    model_meta = MockDjangoModelMeta(app_label=\"users\", object_name=\"User\")\n",
    "    assert generate_enum_name(model_meta, field) == \"UsersUserTypeChoices\"\n",
    "\n",
    "    # More complicated multiple work case\n",
    "    field = graphene.Field(graphene.String, name=\"fizz_buzz\")\n",
    "    model_meta = MockDjangoModelMeta(\n",
    "        app_label=\"some_long_app_name\", object_name=\"SomeObject\"\n",
    "    )\n",
    "    assert (\n",
    "        generate_enum_name(model_meta, field)\n",
    "        == \"SomeLongAppNameSomeObjectFizzBuzzChoices\"\n",
    "    )"
   ]
  },
  {
   "cell_type": "markdown",
   "metadata": {},
   "source": []
  },
  {
   "cell_type": "code",
   "execution_count": null,
   "metadata": {},
   "outputs": [],
   "source": [
    "def test_generate_v2_enum_name(graphene_settings):\n",
    "    MockDjangoModelMeta = namedtuple(\"DjangoMeta\", [\"app_label\", \"object_name\"])\n",
    "    graphene_settings.DJANGO_CHOICE_FIELD_ENUM_V2_NAMING = True\n",
    "\n",
    "    # Simple case\n",
    "    field = graphene.Field(graphene.String, name=\"type\")\n",
    "    model_meta = MockDjangoModelMeta(app_label=\"users\", object_name=\"User\")\n",
    "    assert generate_enum_name(model_meta, field) == \"UserType\"\n",
    "\n",
    "    # More complicated multiple work case\n",
    "    field = graphene.Field(graphene.String, name=\"fizz_buzz\")\n",
    "    model_meta = MockDjangoModelMeta(\n",
    "        app_label=\"some_long_app_name\", object_name=\"SomeObject\"\n",
    "    )\n",
    "    assert generate_enum_name(model_meta, field) == \"SomeObjectFizzBuzz\""
   ]
  },
  {
   "cell_type": "markdown",
   "metadata": {},
   "source": []
  },
  {
   "cell_type": "code",
   "execution_count": null,
   "metadata": {},
   "outputs": [],
   "source": [
    "def test_choice_enum_blank_value():\n",
    "    \"\"\"Test that choice fields with blank values work\"\"\"\n",
    "\n",
    "    class ReporterType(DjangoObjectType):\n",
    "        class Meta:\n",
    "            model = Reporter\n",
    "            fields = (\n",
    "                \"first_name\",\n",
    "                \"a_choice\",\n",
    "            )\n",
    "\n",
    "    class Query(graphene.ObjectType):\n",
    "        reporter = graphene.Field(ReporterType)\n",
    "\n",
    "        def resolve_reporter(root, info):\n",
    "            return Reporter.objects.first()\n",
    "\n",
    "    schema = graphene.Schema(query=Query)\n",
    "\n",
    "    # Create model with empty choice option\n",
    "    Reporter.objects.create(\n",
    "        first_name=\"Bridget\", last_name=\"Jones\", email=\"bridget@example.com\"\n",
    "    )\n",
    "\n",
    "    result = schema.execute(\n",
    "        \"\"\"\n",
    "        query {\n",
    "            reporter {\n",
    "                firstName\n",
    "                aChoice\n",
    "            }\n",
    "        }\n",
    "    \"\"\"\n",
    "    )\n",
    "    assert not result.errors\n",
    "    assert result.data == {\n",
    "        \"reporter\": {\"firstName\": \"Bridget\", \"aChoice\": None},\n",
    "    }"
   ]
  },
  {
   "cell_type": "markdown",
   "metadata": {},
   "source": []
  }
 ],
 "metadata": {
  "language_info": {
   "name": "python"
  }
 },
 "nbformat": 4,
 "nbformat_minor": 2
}