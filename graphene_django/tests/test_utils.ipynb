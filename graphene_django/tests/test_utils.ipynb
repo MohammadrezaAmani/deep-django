{
 "cells": [
  {
   "cell_type": "code",
   "execution_count": null,
   "metadata": {},
   "outputs": [],
   "source": [
    "import json\n",
    "from unittest.mock import patch\n",
    "\n",
    "import pytest\n",
    "from django.utils.translation import gettext_lazy\n",
    "\n",
    "from ..utils import GraphQLTestCase, camelize, get_model_fields, get_reverse_fields\n",
    "from ..utils.testing import graphql_query\n",
    "from .models import APNewsReporter, CNNReporter, Film, Reporter"
   ]
  },
  {
   "cell_type": "markdown",
   "metadata": {},
   "source": []
  },
  {
   "cell_type": "code",
   "execution_count": null,
   "metadata": {},
   "outputs": [],
   "source": [
    "def test_get_model_fields_no_duplication():\n",
    "    reporter_fields = get_model_fields(Reporter)\n",
    "    reporter_name_set = {field[0] for field in reporter_fields}\n",
    "    assert len(reporter_fields) == len(reporter_name_set)\n",
    "\n",
    "    film_fields = get_model_fields(Film)\n",
    "    film_name_set = {field[0] for field in film_fields}\n",
    "    assert len(film_fields) == len(film_name_set)"
   ]
  },
  {
   "cell_type": "markdown",
   "metadata": {},
   "source": []
  },
  {
   "cell_type": "code",
   "execution_count": null,
   "metadata": {},
   "outputs": [],
   "source": [
    "def test_get_reverse_fields_includes_proxied_models():\n",
    "    reporter_fields = get_reverse_fields(Reporter, [])\n",
    "    cnn_reporter_fields = get_reverse_fields(CNNReporter, [])\n",
    "    ap_news_reporter_fields = get_reverse_fields(APNewsReporter, [])\n",
    "\n",
    "    assert (\n",
    "        len(list(reporter_fields))\n",
    "        == len(list(cnn_reporter_fields))\n",
    "        == len(list(ap_news_reporter_fields))\n",
    "    )"
   ]
  },
  {
   "cell_type": "markdown",
   "metadata": {},
   "source": []
  },
  {
   "cell_type": "code",
   "execution_count": null,
   "metadata": {},
   "outputs": [],
   "source": [
    "def test_camelize():\n",
    "    assert camelize({}) == {}\n",
    "    assert camelize(\"value_a\") == \"value_a\"\n",
    "    assert camelize({\"value_a\": \"value_b\"}) == {\"valueA\": \"value_b\"}\n",
    "    assert camelize({\"value_a\": [\"value_b\"]}) == {\"valueA\": [\"value_b\"]}\n",
    "    assert camelize({\"value_a\": [\"value_b\"]}) == {\"valueA\": [\"value_b\"]}\n",
    "    assert camelize({\"nested_field\": {\"value_a\": [\"error\"], \"value_b\": [\"error\"]}}) == {\n",
    "        \"nestedField\": {\"valueA\": [\"error\"], \"valueB\": [\"error\"]}\n",
    "    }\n",
    "    assert camelize({\"value_a\": gettext_lazy(\"value_b\")}) == {\"valueA\": \"value_b\"}\n",
    "    assert camelize({\"value_a\": [gettext_lazy(\"value_b\")]}) == {\"valueA\": [\"value_b\"]}\n",
    "    assert camelize(gettext_lazy(\"value_a\")) == \"value_a\"\n",
    "    assert camelize({gettext_lazy(\"value_a\"): gettext_lazy(\"value_b\")}) == {\n",
    "        \"valueA\": \"value_b\"\n",
    "    }\n",
    "    assert camelize({0: {\"field_a\": [\"errors\"]}}) == {0: {\"fieldA\": [\"errors\"]}}"
   ]
  },
  {
   "cell_type": "markdown",
   "metadata": {},
   "source": []
  },
  {
   "cell_type": "code",
   "execution_count": null,
   "metadata": {},
   "outputs": [],
   "source": [
    "@pytest.mark.django_db\n",
    "@patch(\"graphene_django.utils.testing.Client.post\")\n",
    "def test_graphql_test_case_operation_name(post_mock):\n",
    "    \"\"\"\n",
    "    Test that `GraphQLTestCase.query()`'s `operation_name` argument produces an `operationName` field.\n",
    "    \"\"\"\n",
    "\n",
    "    class TestClass(GraphQLTestCase):\n",
    "        GRAPHQL_SCHEMA = True\n",
    "\n",
    "        def runTest(self):\n",
    "            pass\n",
    "\n",
    "    tc = TestClass()\n",
    "    tc._pre_setup()\n",
    "    tc.setUpClass()\n",
    "    tc.query(\"query { }\", operation_name=\"QueryName\")\n",
    "    body = json.loads(post_mock.call_args[0][1])\n",
    "    # `operationName` field from https://graphql.org/learn/serving-over-http/#post-request\n",
    "    assert (\n",
    "        \"operationName\",\n",
    "        \"QueryName\",\n",
    "    ) in body.items(), \"Field 'operationName' is not present in the final request.\""
   ]
  },
  {
   "cell_type": "markdown",
   "metadata": {},
   "source": []
  },
  {
   "cell_type": "code",
   "execution_count": null,
   "metadata": {},
   "outputs": [],
   "source": [
    "@pytest.mark.django_db\n",
    "@patch(\"graphene_django.utils.testing.Client.post\")\n",
    "def test_graphql_query_case_operation_name(post_mock):\n",
    "    graphql_query(\"query { }\", operation_name=\"QueryName\")\n",
    "    body = json.loads(post_mock.call_args[0][1])\n",
    "    # `operationName` field from https://graphql.org/learn/serving-over-http/#post-request\n",
    "    assert (\n",
    "        \"operationName\",\n",
    "        \"QueryName\",\n",
    "    ) in body.items(), \"Field 'operationName' is not present in the final request.\""
   ]
  },
  {
   "cell_type": "markdown",
   "metadata": {},
   "source": []
  },
  {
   "cell_type": "code",
   "execution_count": null,
   "metadata": {},
   "outputs": [],
   "source": [
    "@pytest.fixture\n",
    "def client_query(client):\n",
    "    def func(*args, **kwargs):\n",
    "        return graphql_query(*args, client=client, **kwargs)\n",
    "\n",
    "    return func"
   ]
  },
  {
   "cell_type": "markdown",
   "metadata": {},
   "source": []
  },
  {
   "cell_type": "code",
   "execution_count": null,
   "metadata": {},
   "outputs": [],
   "source": [
    "def test_pytest_fixture_usage(client_query):\n",
    "    response = client_query(\"query { test }\")\n",
    "    content = json.loads(response.content)\n",
    "    assert content == {\"data\": {\"test\": \"Hello World\"}}"
   ]
  },
  {
   "cell_type": "markdown",
   "metadata": {},
   "source": []
  }
 ],
 "metadata": {
  "language_info": {
   "name": "python"
  }
 },
 "nbformat": 4,
 "nbformat_minor": 2
}