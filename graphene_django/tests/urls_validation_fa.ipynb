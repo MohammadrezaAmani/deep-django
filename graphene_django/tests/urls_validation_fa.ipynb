{
    "cells": [
        {
            "cell_type": "code",
            "execution_count": null,
            "metadata": {},
            "outputs": [],
            "source": [
                "from django.urls import path\n",
                "from graphene.validation import DisableIntrospection\n",
                "\n",
                "from ..views import GraphQLView\n",
                "from .schema_view import schema\n"
            ]
        },
        {
            "cell_type": "markdown",
            "metadata": {},
            "source": []
        },
        {
            "cell_type": "code",
            "execution_count": null,
            "metadata": {},
            "outputs": [],
            "source": [
                "class View(GraphQLView):\n",
                "    schema = schema\n"
            ]
        },
        {
            "cell_type": "markdown",
            "metadata": {},
            "source": []
        },
        {
            "cell_type": "code",
            "execution_count": null,
            "metadata": {},
            "outputs": [],
            "source": [
                "class NoIntrospectionView(View):\n",
                "    validation_rules = (DisableIntrospection,)\n"
            ]
        },
        {
            "cell_type": "markdown",
            "metadata": {},
            "source": []
        },
        {
            "cell_type": "code",
            "execution_count": null,
            "metadata": {},
            "outputs": [],
            "source": [
                "class NoIntrospectionViewInherited(NoIntrospectionView):\n",
                "    pass\n"
            ]
        },
        {
            "cell_type": "markdown",
            "metadata": {},
            "source": []
        },
        {
            "cell_type": "code",
            "execution_count": null,
            "metadata": {},
            "outputs": [],
            "source": [
                "urlpatterns = [\n",
                "    path(\"graphql/\", View.as_view()),\n",
                "    path(\"graphql/validation/\", View.as_view(validation_rules=(DisableIntrospection,))),\n",
                "    path(\"graphql/validation/alternative/\", NoIntrospectionView.as_view()),\n",
                "    path(\"graphql/validation/inherited/\", NoIntrospectionViewInherited.as_view()),\n",
                "]\n",
                "\n"
            ]
        },
        {
            "cell_type": "markdown",
            "metadata": {},
            "source": []
        }
    ],
    "metadata": {
        "language_info": {
            "name": "python"
        }
    },
    "nbformat": 4,
    "nbformat_minor": 2
}