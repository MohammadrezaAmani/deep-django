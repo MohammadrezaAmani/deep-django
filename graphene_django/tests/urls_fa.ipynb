{
    "cells": [
        {
            "cell_type": "code",
            "execution_count": null,
            "metadata": {},
            "outputs": [],
            "source": [
                "from django.urls import path\n",
                "\n",
                "from ..views import GraphQLView\n",
                "\n",
                "urlpatterns = [\n",
                "    path(\"graphql/batch\", GraphQLView.as_view(batch=True)),\n",
                "    path(\"graphql\", GraphQLView.as_view(graphiql=True)),\n",
                "]\n",
                "\n"
            ]
        },
        {
            "cell_type": "markdown",
            "metadata": {},
            "source": []
        }
    ],
    "metadata": {
        "language_info": {
            "name": "python"
        }
    },
    "nbformat": 4,
    "nbformat_minor": 2
}