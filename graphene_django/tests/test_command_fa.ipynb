{
    "cells": [
        {
            "cell_type": "code",
            "execution_count": null,
            "metadata": {},
            "outputs": [],
            "source": [
                "from io import StringIO\n",
                "from textwrap import dedent\n",
                "from unittest.mock import mock_open, patch\n",
                "\n",
                "from django.core import management\n",
                "from graphene import ObjectType, Schema, String\n"
            ]
        },
        {
            "cell_type": "markdown",
            "metadata": {},
            "source": []
        },
        {
            "cell_type": "code",
            "execution_count": null,
            "metadata": {},
            "outputs": [],
            "source": [
                "@patch(\"graphene_django.management.commands.graphql_schema.Command.save_json_file\")\n",
                "def test_generate_json_file_on_call_graphql_schema(savefile_mock):\n",
                "    out = StringIO()\n",
                "    management.call_command(\"graphql_schema\", schema=\"\", stdout=out)\n",
                "    assert \"Successfully dumped GraphQL schema to schema.json\" in out.getvalue()\n"
            ]
        },
        {
            "cell_type": "markdown",
            "metadata": {},
            "source": []
        },
        {
            "cell_type": "code",
            "execution_count": null,
            "metadata": {},
            "outputs": [],
            "source": [
                "@patch(\"json.dump\")\n",
                "def test_json_files_are_canonical(dump_mock):\n",
                "    open_mock = mock_open()\n",
                "    with patch(\"graphene_django.management.commands.graphql_schema.open\", open_mock):\n",
                "        management.call_command(\"graphql_schema\", schema=\"\")\n",
                "\n",
                "    open_mock.assert_called_once()\n",
                "\n",
                "    dump_mock.assert_called_once()\n",
                "    assert dump_mock.call_args[1][\n",
                "        \"sort_keys\"\n",
                "    ], \"json.mock() should be used to sort the output\"\n",
                "    assert (\n",
                "        dump_mock.call_args[1][\"indent\"] > 0\n",
                "    ), \"output should be pretty-printed by default\"\n"
            ]
        },
        {
            "cell_type": "markdown",
            "metadata": {},
            "source": []
        },
        {
            "cell_type": "code",
            "execution_count": null,
            "metadata": {},
            "outputs": [],
            "source": [
                "def test_generate_graphql_file_on_call_graphql_schema():\n",
                "    class Query(ObjectType):\n",
                "        hi = String()\n",
                "\n",
                "    mock_schema = Schema(query=Query)\n",
                "\n",
                "    open_mock = mock_open()\n",
                "    with patch(\"graphene_django.management.commands.graphql_schema.open\", open_mock):\n",
                "        management.call_command(\n",
                "            \"graphql_schema\", schema=mock_schema, out=\"schema.graphql\"\n",
                "        )\n",
                "\n",
                "    open_mock.assert_called_once()\n",
                "\n",
                "    handle = open_mock()\n",
                "    handle.write.assert_called_once()\n",
                "\n",
                "    schema_output = handle.write.call_args[0][0]\n",
                "    assert schema_output == dedent(\n",
                "        \"\"\"\\\n",
                "        type Query {\n",
                "          hi: String\n",
                "        }\"\"\"\n",
                "    )\n",
                "\n"
            ]
        },
        {
            "cell_type": "markdown",
            "metadata": {},
            "source": []
        }
    ],
    "metadata": {
        "language_info": {
            "name": "python"
        }
    },
    "nbformat": 4,
    "nbformat_minor": 2
}