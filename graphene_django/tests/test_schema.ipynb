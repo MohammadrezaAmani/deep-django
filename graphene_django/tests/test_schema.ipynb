{
 "cells": [
  {
   "cell_type": "code",
   "execution_count": null,
   "metadata": {},
   "outputs": [],
   "source": [
    "from pytest import raises\n",
    "\n",
    "from ..registry import Registry\n",
    "from ..types import DjangoObjectType\n",
    "from .models import Reporter"
   ]
  },
  {
   "cell_type": "markdown",
   "metadata": {},
   "source": []
  },
  {
   "cell_type": "code",
   "execution_count": null,
   "metadata": {},
   "outputs": [],
   "source": [
    "def test_should_raise_if_no_model():\n",
    "    with raises(Exception) as excinfo:\n",
    "\n",
    "        class Character1(DjangoObjectType):\n",
    "            fields = \"__all__\"\n",
    "\n",
    "    assert \"valid Django Model\" in str(excinfo.value)"
   ]
  },
  {
   "cell_type": "markdown",
   "metadata": {},
   "source": []
  },
  {
   "cell_type": "code",
   "execution_count": null,
   "metadata": {},
   "outputs": [],
   "source": [
    "def test_should_raise_if_model_is_invalid():\n",
    "    with raises(Exception) as excinfo:\n",
    "\n",
    "        class Character2(DjangoObjectType):\n",
    "            class Meta:\n",
    "                model = 1\n",
    "                fields = \"__all__\"\n",
    "\n",
    "    assert \"valid Django Model\" in str(excinfo.value)"
   ]
  },
  {
   "cell_type": "markdown",
   "metadata": {},
   "source": []
  },
  {
   "cell_type": "code",
   "execution_count": null,
   "metadata": {},
   "outputs": [],
   "source": [
    "def test_should_map_fields_correctly():\n",
    "    class ReporterType2(DjangoObjectType):\n",
    "        class Meta:\n",
    "            model = Reporter\n",
    "            registry = Registry()\n",
    "            fields = \"__all__\"\n",
    "\n",
    "    fields = list(ReporterType2._meta.fields.keys())\n",
    "    assert fields[:-3] == [\n",
    "        \"id\",\n",
    "        \"first_name\",\n",
    "        \"last_name\",\n",
    "        \"email\",\n",
    "        \"pets\",\n",
    "        \"a_choice\",\n",
    "        \"fans\",\n",
    "        \"reporter_type\",\n",
    "    ]\n",
    "\n",
    "    assert sorted(fields[-3:]) == [\"apnewsreporter\", \"articles\", \"films\"]"
   ]
  },
  {
   "cell_type": "markdown",
   "metadata": {},
   "source": []
  },
  {
   "cell_type": "code",
   "execution_count": null,
   "metadata": {},
   "outputs": [],
   "source": [
    "def test_should_map_only_few_fields():\n",
    "    class Reporter2(DjangoObjectType):\n",
    "        class Meta:\n",
    "            model = Reporter\n",
    "            fields = (\"id\", \"email\")\n",
    "\n",
    "    assert list(Reporter2._meta.fields.keys()) == [\"id\", \"email\"]"
   ]
  },
  {
   "cell_type": "markdown",
   "metadata": {},
   "source": []
  }
 ],
 "metadata": {
  "language_info": {
   "name": "python"
  }
 },
 "nbformat": 4,
 "nbformat_minor": 2
}