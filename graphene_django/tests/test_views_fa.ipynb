{
    "cells": [
        {
            "cell_type": "code",
            "execution_count": null,
            "metadata": {},
            "outputs": [],
            "source": [
                "import json\n",
                "from unittest.mock import patch\n",
                "\n",
                "import pytest\n",
                "from django.db import connection\n",
                "\n",
                "from .models import Pet\n",
                "\n",
                "try:\n",
                "    from urllib import urlencode\n",
                "except ImportError:\n",
                "    from urllib.parse import urlencode\n"
            ]
        },
        {
            "cell_type": "markdown",
            "metadata": {},
            "source": []
        },
        {
            "cell_type": "code",
            "execution_count": null,
            "metadata": {},
            "outputs": [],
            "source": [
                "def url_string(string=\"/graphql\", **url_params):\n",
                "    if url_params:\n",
                "        string += \"?\" + urlencode(url_params)\n",
                "\n",
                "    return string\n"
            ]
        },
        {
            "cell_type": "markdown",
            "metadata": {},
            "source": []
        },
        {
            "cell_type": "code",
            "execution_count": null,
            "metadata": {},
            "outputs": [],
            "source": [
                "def batch_url_string(**url_params):\n",
                "    return url_string(\"/graphql/batch\", **url_params)\n"
            ]
        },
        {
            "cell_type": "markdown",
            "metadata": {},
            "source": []
        },
        {
            "cell_type": "code",
            "execution_count": null,
            "metadata": {},
            "outputs": [],
            "source": [
                "def response_json(response):\n",
                "    return json.loads(response.content.decode())\n"
            ]
        },
        {
            "cell_type": "markdown",
            "metadata": {},
            "source": []
        },
        {
            "cell_type": "code",
            "execution_count": null,
            "metadata": {},
            "outputs": [],
            "source": [
                "def j(**kwargs):\n",
                "    return json.dumps(kwargs)\n"
            ]
        },
        {
            "cell_type": "markdown",
            "metadata": {},
            "source": []
        },
        {
            "cell_type": "code",
            "execution_count": null,
            "metadata": {},
            "outputs": [],
            "source": [
                "def jl(**kwargs):\n",
                "    return json.dumps([kwargs])\n"
            ]
        },
        {
            "cell_type": "markdown",
            "metadata": {},
            "source": []
        },
        {
            "cell_type": "code",
            "execution_count": null,
            "metadata": {},
            "outputs": [],
            "source": [
                "def test_graphiql_is_enabled(client):\n",
                "    response = client.get(url_string(), HTTP_ACCEPT=\"text/html\")\n",
                "    assert response.status_code == 200\n",
                "    assert response[\"Content-Type\"].split(\";\")[0] == \"text/html\"\n"
            ]
        },
        {
            "cell_type": "markdown",
            "metadata": {},
            "source": []
        },
        {
            "cell_type": "code",
            "execution_count": null,
            "metadata": {},
            "outputs": [],
            "source": [
                "def test_qfactor_graphiql(client):\n",
                "    response = client.get(\n",
                "        url_string(query=\"{test}\"),\n",
                "        HTTP_ACCEPT=\"application/json;q=0.8, text/html;q=0.9\",\n",
                "    )\n",
                "    assert response.status_code == 200\n",
                "    assert response[\"Content-Type\"].split(\";\")[0] == \"text/html\"\n"
            ]
        },
        {
            "cell_type": "markdown",
            "metadata": {},
            "source": []
        },
        {
            "cell_type": "code",
            "execution_count": null,
            "metadata": {},
            "outputs": [],
            "source": [
                "def test_qfactor_json(client):\n",
                "    response = client.get(\n",
                "        url_string(query=\"{test}\"),\n",
                "        HTTP_ACCEPT=\"text/html;q=0.8, application/json;q=0.9\",\n",
                "    )\n",
                "    assert response.status_code == 200\n",
                "    assert response[\"Content-Type\"].split(\";\")[0] == \"application/json\"\n",
                "    assert response_json(response) == {\"data\": {\"test\": \"Hello World\"}}\n"
            ]
        },
        {
            "cell_type": "markdown",
            "metadata": {},
            "source": []
        },
        {
            "cell_type": "code",
            "execution_count": null,
            "metadata": {},
            "outputs": [],
            "source": [
                "def test_allows_get_with_query_param(client):\n",
                "    response = client.get(url_string(query=\"{test}\"))\n",
                "\n",
                "    assert response.status_code == 200\n",
                "    assert response_json(response) == {\"data\": {\"test\": \"Hello World\"}}\n"
            ]
        },
        {
            "cell_type": "markdown",
            "metadata": {},
            "source": []
        },
        {
            "cell_type": "code",
            "execution_count": null,
            "metadata": {},
            "outputs": [],
            "source": [
                "def test_allows_get_with_variable_values(client):\n",
                "    response = client.get(\n",
                "        url_string(\n",
                "            query=\"query helloWho($who: String){ test(who: $who) }\",\n",
                "            variables=json.dumps({\"who\": \"Dolly\"}),\n",
                "        )\n",
                "    )\n",
                "\n",
                "    assert response.status_code == 200\n",
                "    assert response_json(response) == {\"data\": {\"test\": \"Hello Dolly\"}}\n"
            ]
        },
        {
            "cell_type": "markdown",
            "metadata": {},
            "source": []
        },
        {
            "cell_type": "code",
            "execution_count": null,
            "metadata": {},
            "outputs": [],
            "source": [
                "def test_allows_get_with_operation_name(client):\n",
                "    response = client.get(\n",
                "        url_string(\n",
                "            query=\"\"\"\n",
                "        query helloYou { test(who: \"You\"), ...shared }\n",
                "        query helloWorld { test(who: \"World\"), ...shared }\n",
                "        query helloDolly { test(who: \"Dolly\"), ...shared }\n",
                "        fragment shared on QueryRoot {\n",
                "          shared: test(who: \"Everyone\")\n",
                "        }\n",
                "        \"\"\",\n",
                "            operationName=\"helloWorld\",\n",
                "        )\n",
                "    )\n",
                "\n",
                "    assert response.status_code == 200\n",
                "    assert response_json(response) == {\n",
                "        \"data\": {\"test\": \"Hello World\", \"shared\": \"Hello Everyone\"}\n",
                "    }\n"
            ]
        },
        {
            "cell_type": "markdown",
            "metadata": {},
            "source": []
        },
        {
            "cell_type": "code",
            "execution_count": null,
            "metadata": {},
            "outputs": [],
            "source": [
                "def test_reports_validation_errors(client):\n",
                "    response = client.get(url_string(query=\"{ test, unknownOne, unknownTwo }\"))\n",
                "\n",
                "    assert response.status_code == 400\n",
                "    assert response_json(response) == {\n",
                "        \"errors\": [\n",
                "            {\n",
                "                \"message\": \"Cannot query field 'unknownOne' on type 'QueryRoot'.\",\n",
                "                \"locations\": [{\"line\": 1, \"column\": 9}],\n",
                "            },\n",
                "            {\n",
                "                \"message\": \"Cannot query field 'unknownTwo' on type 'QueryRoot'.\",\n",
                "                \"locations\": [{\"line\": 1, \"column\": 21}],\n",
                "            },\n",
                "        ]\n",
                "    }\n"
            ]
        },
        {
            "cell_type": "markdown",
            "metadata": {},
            "source": []
        },
        {
            "cell_type": "code",
            "execution_count": null,
            "metadata": {},
            "outputs": [],
            "source": [
                "def test_errors_when_missing_operation_name(client):\n",
                "    response = client.get(\n",
                "        url_string(\n",
                "            query=\"\"\"\n",
                "        query TestQuery { test }\n",
                "        mutation TestMutation { writeTest { test } }\n",
                "        \"\"\"\n",
                "        )\n",
                "    )\n",
                "\n",
                "    assert response.status_code == 400\n",
                "    assert response_json(response) == {\n",
                "        \"errors\": [\n",
                "            {\n",
                "                \"message\": \"Must provide operation name if query contains multiple operations.\",\n",
                "            }\n",
                "        ]\n",
                "    }\n"
            ]
        },
        {
            "cell_type": "markdown",
            "metadata": {},
            "source": []
        },
        {
            "cell_type": "code",
            "execution_count": null,
            "metadata": {},
            "outputs": [],
            "source": [
                "def test_errors_when_sending_a_mutation_via_get(client):\n",
                "    response = client.get(\n",
                "        url_string(\n",
                "            query=\"\"\"\n",
                "        mutation TestMutation { writeTest { test } }\n",
                "        \"\"\"\n",
                "        )\n",
                "    )\n",
                "    assert response.status_code == 405\n",
                "    assert response_json(response) == {\n",
                "        \"errors\": [\n",
                "            {\"message\": \"Can only perform a mutation operation from a POST request.\"}\n",
                "        ]\n",
                "    }\n"
            ]
        },
        {
            "cell_type": "markdown",
            "metadata": {},
            "source": []
        },
        {
            "cell_type": "code",
            "execution_count": null,
            "metadata": {},
            "outputs": [],
            "source": [
                "def test_errors_when_selecting_a_mutation_within_a_get(client):\n",
                "    response = client.get(\n",
                "        url_string(\n",
                "            query=\"\"\"\n",
                "        query TestQuery { test }\n",
                "        mutation TestMutation { writeTest { test } }\n",
                "        \"\"\",\n",
                "            operationName=\"TestMutation\",\n",
                "        )\n",
                "    )\n",
                "\n",
                "    assert response.status_code == 405\n",
                "    assert response_json(response) == {\n",
                "        \"errors\": [\n",
                "            {\"message\": \"Can only perform a mutation operation from a POST request.\"}\n",
                "        ]\n",
                "    }\n"
            ]
        },
        {
            "cell_type": "markdown",
            "metadata": {},
            "source": []
        },
        {
            "cell_type": "code",
            "execution_count": null,
            "metadata": {},
            "outputs": [],
            "source": [
                "def test_allows_mutation_to_exist_within_a_get(client):\n",
                "    response = client.get(\n",
                "        url_string(\n",
                "            query=\"\"\"\n",
                "        query TestQuery { test }\n",
                "        mutation TestMutation { writeTest { test } }\n",
                "        \"\"\",\n",
                "            operationName=\"TestQuery\",\n",
                "        )\n",
                "    )\n",
                "\n",
                "    assert response.status_code == 200\n",
                "    assert response_json(response) == {\"data\": {\"test\": \"Hello World\"}}\n"
            ]
        },
        {
            "cell_type": "markdown",
            "metadata": {},
            "source": []
        },
        {
            "cell_type": "code",
            "execution_count": null,
            "metadata": {},
            "outputs": [],
            "source": [
                "def test_allows_post_with_json_encoding(client):\n",
                "    response = client.post(url_string(), j(query=\"{test}\"), \"application/json\")\n",
                "\n",
                "    assert response.status_code == 200\n",
                "    assert response_json(response) == {\"data\": {\"test\": \"Hello World\"}}\n"
            ]
        },
        {
            "cell_type": "markdown",
            "metadata": {},
            "source": []
        },
        {
            "cell_type": "code",
            "execution_count": null,
            "metadata": {},
            "outputs": [],
            "source": [
                "def test_batch_allows_post_with_json_encoding(client):\n",
                "    response = client.post(\n",
                "        batch_url_string(), jl(id=1, query=\"{test}\"), \"application/json\"\n",
                "    )\n",
                "\n",
                "    assert response.status_code == 200\n",
                "    assert response_json(response) == [\n",
                "        {\"id\": 1, \"data\": {\"test\": \"Hello World\"}, \"status\": 200}\n",
                "    ]\n"
            ]
        },
        {
            "cell_type": "markdown",
            "metadata": {},
            "source": []
        },
        {
            "cell_type": "code",
            "execution_count": null,
            "metadata": {},
            "outputs": [],
            "source": [
                "def test_batch_fails_if_is_empty(client):\n",
                "    response = client.post(batch_url_string(), \"[]\", \"application/json\")\n",
                "\n",
                "    assert response.status_code == 400\n",
                "    assert response_json(response) == {\n",
                "        \"errors\": [{\"message\": \"Received an empty list in the batch request.\"}]\n",
                "    }\n"
            ]
        },
        {
            "cell_type": "markdown",
            "metadata": {},
            "source": []
        },
        {
            "cell_type": "code",
            "execution_count": null,
            "metadata": {},
            "outputs": [],
            "source": [
                "def test_allows_sending_a_mutation_via_post(client):\n",
                "    response = client.post(\n",
                "        url_string(),\n",
                "        j(query=\"mutation TestMutation { writeTest { test } }\"),\n",
                "        \"application/json\",\n",
                "    )\n",
                "\n",
                "    assert response.status_code == 200\n",
                "    assert response_json(response) == {\"data\": {\"writeTest\": {\"test\": \"Hello World\"}}}\n"
            ]
        },
        {
            "cell_type": "markdown",
            "metadata": {},
            "source": []
        },
        {
            "cell_type": "code",
            "execution_count": null,
            "metadata": {},
            "outputs": [],
            "source": [
                "def test_allows_post_with_url_encoding(client):\n",
                "    response = client.post(\n",
                "        url_string(),\n",
                "        urlencode({\"query\": \"{test}\"}),\n",
                "        \"application/x-www-form-urlencoded\",\n",
                "    )\n",
                "\n",
                "    assert response.status_code == 200\n",
                "    assert response_json(response) == {\"data\": {\"test\": \"Hello World\"}}\n"
            ]
        },
        {
            "cell_type": "markdown",
            "metadata": {},
            "source": []
        },
        {
            "cell_type": "code",
            "execution_count": null,
            "metadata": {},
            "outputs": [],
            "source": [
                "def test_supports_post_json_query_with_string_variables(client):\n",
                "    response = client.post(\n",
                "        url_string(),\n",
                "        j(\n",
                "            query=\"query helloWho($who: String){ test(who: $who) }\",\n",
                "            variables=json.dumps({\"who\": \"Dolly\"}),\n",
                "        ),\n",
                "        \"application/json\",\n",
                "    )\n",
                "\n",
                "    assert response.status_code == 200\n",
                "    assert response_json(response) == {\"data\": {\"test\": \"Hello Dolly\"}}\n"
            ]
        },
        {
            "cell_type": "markdown",
            "metadata": {},
            "source": []
        },
        {
            "cell_type": "code",
            "execution_count": null,
            "metadata": {},
            "outputs": [],
            "source": [
                "def test_batch_supports_post_json_query_with_string_variables(client):\n",
                "    response = client.post(\n",
                "        batch_url_string(),\n",
                "        jl(\n",
                "            id=1,\n",
                "            query=\"query helloWho($who: String){ test(who: $who) }\",\n",
                "            variables=json.dumps({\"who\": \"Dolly\"}),\n",
                "        ),\n",
                "        \"application/json\",\n",
                "    )\n",
                "\n",
                "    assert response.status_code == 200\n",
                "    assert response_json(response) == [\n",
                "        {\"id\": 1, \"data\": {\"test\": \"Hello Dolly\"}, \"status\": 200}\n",
                "    ]\n"
            ]
        },
        {
            "cell_type": "markdown",
            "metadata": {},
            "source": []
        },
        {
            "cell_type": "code",
            "execution_count": null,
            "metadata": {},
            "outputs": [],
            "source": [
                "def test_supports_post_json_query_with_json_variables(client):\n",
                "    response = client.post(\n",
                "        url_string(),\n",
                "        j(\n",
                "            query=\"query helloWho($who: String){ test(who: $who) }\",\n",
                "            variables={\"who\": \"Dolly\"},\n",
                "        ),\n",
                "        \"application/json\",\n",
                "    )\n",
                "\n",
                "    assert response.status_code == 200\n",
                "    assert response_json(response) == {\"data\": {\"test\": \"Hello Dolly\"}}\n"
            ]
        },
        {
            "cell_type": "markdown",
            "metadata": {},
            "source": []
        },
        {
            "cell_type": "code",
            "execution_count": null,
            "metadata": {},
            "outputs": [],
            "source": [
                "def test_batch_supports_post_json_query_with_json_variables(client):\n",
                "    response = client.post(\n",
                "        batch_url_string(),\n",
                "        jl(\n",
                "            id=1,\n",
                "            query=\"query helloWho($who: String){ test(who: $who) }\",\n",
                "            variables={\"who\": \"Dolly\"},\n",
                "        ),\n",
                "        \"application/json\",\n",
                "    )\n",
                "\n",
                "    assert response.status_code == 200\n",
                "    assert response_json(response) == [\n",
                "        {\"id\": 1, \"data\": {\"test\": \"Hello Dolly\"}, \"status\": 200}\n",
                "    ]\n"
            ]
        },
        {
            "cell_type": "markdown",
            "metadata": {},
            "source": []
        },
        {
            "cell_type": "code",
            "execution_count": null,
            "metadata": {},
            "outputs": [],
            "source": [
                "def test_supports_post_url_encoded_query_with_string_variables(client):\n",
                "    response = client.post(\n",
                "        url_string(),\n",
                "        urlencode(\n",
                "            {\n",
                "                \"query\": \"query helloWho($who: String){ test(who: $who) }\",\n",
                "                \"variables\": json.dumps({\"who\": \"Dolly\"}),\n",
                "            }\n",
                "        ),\n",
                "        \"application/x-www-form-urlencoded\",\n",
                "    )\n",
                "\n",
                "    assert response.status_code == 200\n",
                "    assert response_json(response) == {\"data\": {\"test\": \"Hello Dolly\"}}\n"
            ]
        },
        {
            "cell_type": "markdown",
            "metadata": {},
            "source": []
        },
        {
            "cell_type": "code",
            "execution_count": null,
            "metadata": {},
            "outputs": [],
            "source": [
                "def test_supports_post_json_quey_with_get_variable_values(client):\n",
                "    response = client.post(\n",
                "        url_string(variables=json.dumps({\"who\": \"Dolly\"})),\n",
                "        j(query=\"query helloWho($who: String){ test(who: $who) }\"),\n",
                "        \"application/json\",\n",
                "    )\n",
                "\n",
                "    assert response.status_code == 200\n",
                "    assert response_json(response) == {\"data\": {\"test\": \"Hello Dolly\"}}\n"
            ]
        },
        {
            "cell_type": "markdown",
            "metadata": {},
            "source": []
        },
        {
            "cell_type": "code",
            "execution_count": null,
            "metadata": {},
            "outputs": [],
            "source": [
                "def test_post_url_encoded_query_with_get_variable_values(client):\n",
                "    response = client.post(\n",
                "        url_string(variables=json.dumps({\"who\": \"Dolly\"})),\n",
                "        urlencode({\"query\": \"query helloWho($who: String){ test(who: $who) }\"}),\n",
                "        \"application/x-www-form-urlencoded\",\n",
                "    )\n",
                "\n",
                "    assert response.status_code == 200\n",
                "    assert response_json(response) == {\"data\": {\"test\": \"Hello Dolly\"}}\n"
            ]
        },
        {
            "cell_type": "markdown",
            "metadata": {},
            "source": []
        },
        {
            "cell_type": "code",
            "execution_count": null,
            "metadata": {},
            "outputs": [],
            "source": [
                "def test_supports_post_raw_text_query_with_get_variable_values(client):\n",
                "    response = client.post(\n",
                "        url_string(variables=json.dumps({\"who\": \"Dolly\"})),\n",
                "        \"query helloWho($who: String){ test(who: $who) }\",\n",
                "        \"application/graphql\",\n",
                "    )\n",
                "\n",
                "    assert response.status_code == 200\n",
                "    assert response_json(response) == {\"data\": {\"test\": \"Hello Dolly\"}}\n"
            ]
        },
        {
            "cell_type": "markdown",
            "metadata": {},
            "source": []
        },
        {
            "cell_type": "code",
            "execution_count": null,
            "metadata": {},
            "outputs": [],
            "source": [
                "def test_allows_post_with_operation_name(client):\n",
                "    response = client.post(\n",
                "        url_string(),\n",
                "        j(\n",
                "            query=\"\"\"\n",
                "        query helloYou { test(who: \"You\"), ...shared }\n",
                "        query helloWorld { test(who: \"World\"), ...shared }\n",
                "        query helloDolly { test(who: \"Dolly\"), ...shared }\n",
                "        fragment shared on QueryRoot {\n",
                "          shared: test(who: \"Everyone\")\n",
                "        }\n",
                "        \"\"\",\n",
                "            operationName=\"helloWorld\",\n",
                "        ),\n",
                "        \"application/json\",\n",
                "    )\n",
                "\n",
                "    assert response.status_code == 200\n",
                "    assert response_json(response) == {\n",
                "        \"data\": {\"test\": \"Hello World\", \"shared\": \"Hello Everyone\"}\n",
                "    }\n"
            ]
        },
        {
            "cell_type": "markdown",
            "metadata": {},
            "source": []
        },
        {
            "cell_type": "code",
            "execution_count": null,
            "metadata": {},
            "outputs": [],
            "source": [
                "def test_batch_allows_post_with_operation_name(client):\n",
                "    response = client.post(\n",
                "        batch_url_string(),\n",
                "        jl(\n",
                "            id=1,\n",
                "            query=\"\"\"\n",
                "        query helloYou { test(who: \"You\"), ...shared }\n",
                "        query helloWorld { test(who: \"World\"), ...shared }\n",
                "        query helloDolly { test(who: \"Dolly\"), ...shared }\n",
                "        fragment shared on QueryRoot {\n",
                "          shared: test(who: \"Everyone\")\n",
                "        }\n",
                "        \"\"\",\n",
                "            operationName=\"helloWorld\",\n",
                "        ),\n",
                "        \"application/json\",\n",
                "    )\n",
                "\n",
                "    assert response.status_code == 200\n",
                "    assert response_json(response) == [\n",
                "        {\n",
                "            \"id\": 1,\n",
                "            \"data\": {\"test\": \"Hello World\", \"shared\": \"Hello Everyone\"},\n",
                "            \"status\": 200,\n",
                "        }\n",
                "    ]\n"
            ]
        },
        {
            "cell_type": "markdown",
            "metadata": {},
            "source": []
        },
        {
            "cell_type": "code",
            "execution_count": null,
            "metadata": {},
            "outputs": [],
            "source": [
                "def test_allows_post_with_get_operation_name(client):\n",
                "    response = client.post(\n",
                "        url_string(operationName=\"helloWorld\"),\n",
                "        \"\"\"\n",
                "    query helloYou { test(who: \"You\"), ...shared }\n",
                "    query helloWorld { test(who: \"World\"), ...shared }\n",
                "    query helloDolly { test(who: \"Dolly\"), ...shared }\n",
                "    fragment shared on QueryRoot {\n",
                "      shared: test(who: \"Everyone\")\n",
                "    }\n",
                "    \"\"\",\n",
                "        \"application/graphql\",\n",
                "    )\n",
                "\n",
                "    assert response.status_code == 200\n",
                "    assert response_json(response) == {\n",
                "        \"data\": {\"test\": \"Hello World\", \"shared\": \"Hello Everyone\"}\n",
                "    }\n"
            ]
        },
        {
            "cell_type": "markdown",
            "metadata": {},
            "source": []
        },
        {
            "cell_type": "code",
            "execution_count": null,
            "metadata": {},
            "outputs": [],
            "source": [
                "@pytest.mark.urls(\"graphene_django.tests.urls_inherited\")\n",
                "def test_inherited_class_with_attributes_works(client):\n",
                "    inherited_url = \"/graphql/inherited/\"\n",
                "    # Check schema and pretty attributes work\n",
                "    response = client.post(url_string(inherited_url, query=\"{test}\"))\n",
                "    assert response.content.decode() == (\n",
                "        \"{\\n\" '  \"data\": {\\n' '    \"test\": \"Hello World\"\\n' \"  }\\n\" \"}\"\n",
                "    )\n",
                "\n",
                "    # Check graphiql works\n",
                "    response = client.get(url_string(inherited_url), HTTP_ACCEPT=\"text/html\")\n",
                "    assert response.status_code == 200\n"
            ]
        },
        {
            "cell_type": "markdown",
            "metadata": {},
            "source": []
        },
        {
            "cell_type": "code",
            "execution_count": null,
            "metadata": {},
            "outputs": [],
            "source": [
                "@pytest.mark.urls(\"graphene_django.tests.urls_pretty\")\n",
                "def test_supports_pretty_printing(client):\n",
                "    response = client.get(url_string(query=\"{test}\"))\n",
                "\n",
                "    assert response.content.decode() == (\n",
                "        \"{\\n\" '  \"data\": {\\n' '    \"test\": \"Hello World\"\\n' \"  }\\n\" \"}\"\n",
                "    )\n"
            ]
        },
        {
            "cell_type": "markdown",
            "metadata": {},
            "source": []
        },
        {
            "cell_type": "code",
            "execution_count": null,
            "metadata": {},
            "outputs": [],
            "source": [
                "def test_supports_pretty_printing_by_request(client):\n",
                "    response = client.get(url_string(query=\"{test}\", pretty=\"1\"))\n",
                "\n",
                "    assert response.content.decode() == (\n",
                "        \"{\\n\" '  \"data\": {\\n' '    \"test\": \"Hello World\"\\n' \"  }\\n\" \"}\"\n",
                "    )\n"
            ]
        },
        {
            "cell_type": "markdown",
            "metadata": {},
            "source": []
        },
        {
            "cell_type": "code",
            "execution_count": null,
            "metadata": {},
            "outputs": [],
            "source": [
                "def test_handles_field_errors_caught_by_graphql(client):\n",
                "    response = client.get(url_string(query=\"{thrower}\"))\n",
                "    assert response.status_code == 200\n",
                "    assert response_json(response) == {\n",
                "        \"data\": None,\n",
                "        \"errors\": [\n",
                "            {\n",
                "                \"locations\": [{\"column\": 2, \"line\": 1}],\n",
                "                \"path\": [\"thrower\"],\n",
                "                \"message\": \"Throws!\",\n",
                "            }\n",
                "        ],\n",
                "    }\n"
            ]
        },
        {
            "cell_type": "markdown",
            "metadata": {},
            "source": []
        },
        {
            "cell_type": "code",
            "execution_count": null,
            "metadata": {},
            "outputs": [],
            "source": [
                "def test_handles_syntax_errors_caught_by_graphql(client):\n",
                "    response = client.get(url_string(query=\"syntaxerror\"))\n",
                "    assert response.status_code == 400\n",
                "    assert response_json(response) == {\n",
                "        \"errors\": [\n",
                "            {\n",
                "                \"locations\": [{\"column\": 1, \"line\": 1}],\n",
                "                \"message\": \"Syntax Error: Unexpected Name 'syntaxerror'.\",\n",
                "            }\n",
                "        ]\n",
                "    }\n"
            ]
        },
        {
            "cell_type": "markdown",
            "metadata": {},
            "source": []
        },
        {
            "cell_type": "code",
            "execution_count": null,
            "metadata": {},
            "outputs": [],
            "source": [
                "def test_handles_errors_caused_by_a_lack_of_query(client):\n",
                "    response = client.get(url_string())\n",
                "\n",
                "    assert response.status_code == 400\n",
                "    assert response_json(response) == {\n",
                "        \"errors\": [{\"message\": \"Must provide query string.\"}]\n",
                "    }\n"
            ]
        },
        {
            "cell_type": "markdown",
            "metadata": {},
            "source": []
        },
        {
            "cell_type": "code",
            "execution_count": null,
            "metadata": {},
            "outputs": [],
            "source": [
                "def test_handles_not_expected_json_bodies(client):\n",
                "    response = client.post(url_string(), \"[]\", \"application/json\")\n",
                "\n",
                "    assert response.status_code == 400\n",
                "    assert response_json(response) == {\n",
                "        \"errors\": [{\"message\": \"The received data is not a valid JSON query.\"}]\n",
                "    }\n"
            ]
        },
        {
            "cell_type": "markdown",
            "metadata": {},
            "source": []
        },
        {
            "cell_type": "code",
            "execution_count": null,
            "metadata": {},
            "outputs": [],
            "source": [
                "def test_handles_invalid_json_bodies(client):\n",
                "    response = client.post(url_string(), \"[oh}\", \"application/json\")\n",
                "\n",
                "    assert response.status_code == 400\n",
                "    assert response_json(response) == {\n",
                "        \"errors\": [{\"message\": \"POST body sent invalid JSON.\"}]\n",
                "    }\n"
            ]
        },
        {
            "cell_type": "markdown",
            "metadata": {},
            "source": []
        },
        {
            "cell_type": "code",
            "execution_count": null,
            "metadata": {},
            "outputs": [],
            "source": [
                "def test_handles_django_request_error(client, monkeypatch):\n",
                "    def mocked_read(*args):\n",
                "        raise OSError(\"foo-bar\")\n",
                "\n",
                "    monkeypatch.setattr(\"django.http.request.HttpRequest.read\", mocked_read)\n",
                "\n",
                "    valid_json = json.dumps({\"foo\": \"bar\"})\n",
                "    response = client.post(url_string(), valid_json, \"application/json\")\n",
                "\n",
                "    assert response.status_code == 400\n",
                "    assert response_json(response) == {\"errors\": [{\"message\": \"foo-bar\"}]}\n"
            ]
        },
        {
            "cell_type": "markdown",
            "metadata": {},
            "source": []
        },
        {
            "cell_type": "code",
            "execution_count": null,
            "metadata": {},
            "outputs": [],
            "source": [
                "def test_handles_incomplete_json_bodies(client):\n",
                "    response = client.post(url_string(), '{\"query\":', \"application/json\")\n",
                "\n",
                "    assert response.status_code == 400\n",
                "    assert response_json(response) == {\n",
                "        \"errors\": [{\"message\": \"POST body sent invalid JSON.\"}]\n",
                "    }\n"
            ]
        },
        {
            "cell_type": "markdown",
            "metadata": {},
            "source": []
        },
        {
            "cell_type": "code",
            "execution_count": null,
            "metadata": {},
            "outputs": [],
            "source": [
                "def test_handles_plain_post_text(client):\n",
                "    response = client.post(\n",
                "        url_string(variables=json.dumps({\"who\": \"Dolly\"})),\n",
                "        \"query helloWho($who: String){ test(who: $who) }\",\n",
                "        \"text/plain\",\n",
                "    )\n",
                "    assert response.status_code == 400\n",
                "    assert response_json(response) == {\n",
                "        \"errors\": [{\"message\": \"Must provide query string.\"}]\n",
                "    }\n"
            ]
        },
        {
            "cell_type": "markdown",
            "metadata": {},
            "source": []
        },
        {
            "cell_type": "code",
            "execution_count": null,
            "metadata": {},
            "outputs": [],
            "source": [
                "def test_handles_poorly_formed_variables(client):\n",
                "    response = client.get(\n",
                "        url_string(\n",
                "            query=\"query helloWho($who: String){ test(who: $who) }\", variables=\"who:You\"\n",
                "        )\n",
                "    )\n",
                "    assert response.status_code == 400\n",
                "    assert response_json(response) == {\n",
                "        \"errors\": [{\"message\": \"Variables are invalid JSON.\"}]\n",
                "    }\n"
            ]
        },
        {
            "cell_type": "markdown",
            "metadata": {},
            "source": []
        },
        {
            "cell_type": "code",
            "execution_count": null,
            "metadata": {},
            "outputs": [],
            "source": [
                "def test_handles_unsupported_http_methods(client):\n",
                "    response = client.put(url_string(query=\"{test}\"))\n",
                "    assert response.status_code == 405\n",
                "    assert response[\"Allow\"] == \"GET, POST\"\n",
                "    assert response_json(response) == {\n",
                "        \"errors\": [{\"message\": \"GraphQL only supports GET and POST requests.\"}]\n",
                "    }\n"
            ]
        },
        {
            "cell_type": "markdown",
            "metadata": {},
            "source": []
        },
        {
            "cell_type": "code",
            "execution_count": null,
            "metadata": {},
            "outputs": [],
            "source": [
                "def test_passes_request_into_context_request(client):\n",
                "    response = client.get(url_string(query=\"{request}\", q=\"testing\"))\n",
                "\n",
                "    assert response.status_code == 200\n",
                "    assert response_json(response) == {\"data\": {\"request\": \"testing\"}}\n"
            ]
        },
        {
            "cell_type": "markdown",
            "metadata": {},
            "source": []
        },
        {
            "cell_type": "code",
            "execution_count": null,
            "metadata": {},
            "outputs": [],
            "source": [
                "@patch(\"graphene_django.settings.graphene_settings.ATOMIC_MUTATIONS\", False)\n",
                "@patch.dict(\n",
                "    connection.settings_dict, {\"ATOMIC_MUTATIONS\": False, \"ATOMIC_REQUESTS\": True}\n",
                ")\n",
                "def test_form_mutation_multiple_creation_invalid_atomic_request(client):\n",
                "    query = \"\"\"\n",
                "    mutation PetMutations {\n",
                "        petFormMutation1: petFormMutation(input: { name: \"Mia\", age: 99 }) {\n",
                "            errors {\n",
                "                field\n",
                "                messages\n",
                "            }\n",
                "        }\n",
                "        petFormMutation2: petFormMutation(input: { name: \"Enzo\", age: 0 }) {\n",
                "            errors {\n",
                "                field\n",
                "                messages\n",
                "            }\n",
                "        }\n",
                "    }\n",
                "    \"\"\"\n",
                "\n",
                "    response = client.post(url_string(query=query))\n",
                "    content = response_json(response)\n",
                "\n",
                "    assert \"errors\" not in content\n",
                "\n",
                "    assert content[\"data\"][\"petFormMutation1\"][\"errors\"] == [\n",
                "        {\"field\": \"age\", \"messages\": [\"Too old\"]}\n",
                "    ]\n",
                "\n",
                "    assert content[\"data\"][\"petFormMutation2\"][\"errors\"] == []\n",
                "\n",
                "    assert Pet.objects.count() == 0\n"
            ]
        },
        {
            "cell_type": "markdown",
            "metadata": {},
            "source": []
        },
        {
            "cell_type": "code",
            "execution_count": null,
            "metadata": {},
            "outputs": [],
            "source": [
                "@patch(\"graphene_django.settings.graphene_settings.ATOMIC_MUTATIONS\", False)\n",
                "@patch.dict(\n",
                "    connection.settings_dict, {\"ATOMIC_MUTATIONS\": True, \"ATOMIC_REQUESTS\": False}\n",
                ")\n",
                "def test_form_mutation_multiple_creation_invalid_atomic_mutation_1(client):\n",
                "    query = \"\"\"\n",
                "    mutation PetMutations {\n",
                "        petFormMutation1: petFormMutation(input: { name: \"Mia\", age: 99 }) {\n",
                "            errors {\n",
                "                field\n",
                "                messages\n",
                "            }\n",
                "        }\n",
                "        petFormMutation2: petFormMutation(input: { name: \"Enzo\", age: 0 }) {\n",
                "            errors {\n",
                "                field\n",
                "                messages\n",
                "            }\n",
                "        }\n",
                "    }\n",
                "    \"\"\"\n",
                "\n",
                "    response = client.post(url_string(query=query))\n",
                "    content = response_json(response)\n",
                "\n",
                "    assert \"errors\" not in content\n",
                "\n",
                "    assert content[\"data\"][\"petFormMutation1\"][\"errors\"] == [\n",
                "        {\"field\": \"age\", \"messages\": [\"Too old\"]}\n",
                "    ]\n",
                "\n",
                "    assert content[\"data\"][\"petFormMutation2\"][\"errors\"] == []\n",
                "\n",
                "    assert Pet.objects.count() == 0\n"
            ]
        },
        {
            "cell_type": "markdown",
            "metadata": {},
            "source": []
        },
        {
            "cell_type": "code",
            "execution_count": null,
            "metadata": {},
            "outputs": [],
            "source": [
                "@patch(\"graphene_django.settings.graphene_settings.ATOMIC_MUTATIONS\", True)\n",
                "@patch.dict(\n",
                "    connection.settings_dict, {\"ATOMIC_MUTATIONS\": False, \"ATOMIC_REQUESTS\": False}\n",
                ")\n",
                "def test_form_mutation_multiple_creation_invalid_atomic_mutation_2(client):\n",
                "    query = \"\"\"\n",
                "    mutation PetMutations {\n",
                "        petFormMutation1: petFormMutation(input: { name: \"Mia\", age: 99 }) {\n",
                "            errors {\n",
                "                field\n",
                "                messages\n",
                "            }\n",
                "        }\n",
                "        petFormMutation2: petFormMutation(input: { name: \"Enzo\", age: 0 }) {\n",
                "            errors {\n",
                "                field\n",
                "                messages\n",
                "            }\n",
                "        }\n",
                "    }\n",
                "    \"\"\"\n",
                "\n",
                "    response = client.post(url_string(query=query))\n",
                "    content = response_json(response)\n",
                "\n",
                "    assert \"errors\" not in content\n",
                "\n",
                "    assert content[\"data\"][\"petFormMutation1\"][\"errors\"] == [\n",
                "        {\"field\": \"age\", \"messages\": [\"Too old\"]}\n",
                "    ]\n",
                "\n",
                "    assert content[\"data\"][\"petFormMutation2\"][\"errors\"] == []\n",
                "\n",
                "    assert Pet.objects.count() == 0\n"
            ]
        },
        {
            "cell_type": "markdown",
            "metadata": {},
            "source": []
        },
        {
            "cell_type": "code",
            "execution_count": null,
            "metadata": {},
            "outputs": [],
            "source": [
                "@patch(\"graphene_django.settings.graphene_settings.ATOMIC_MUTATIONS\", False)\n",
                "@patch.dict(\n",
                "    connection.settings_dict, {\"ATOMIC_MUTATIONS\": False, \"ATOMIC_REQUESTS\": False}\n",
                ")\n",
                "def test_form_mutation_multiple_creation_invalid_non_atomic(client):\n",
                "    query = \"\"\"\n",
                "    mutation PetMutations {\n",
                "        petFormMutation1: petFormMutation(input: { name: \"Mia\", age: 99 }) {\n",
                "            errors {\n",
                "                field\n",
                "                messages\n",
                "            }\n",
                "        }\n",
                "        petFormMutation2: petFormMutation(input: { name: \"Enzo\", age: 0 }) {\n",
                "            errors {\n",
                "                field\n",
                "                messages\n",
                "            }\n",
                "        }\n",
                "    }\n",
                "    \"\"\"\n",
                "\n",
                "    response = client.post(url_string(query=query))\n",
                "    content = response_json(response)\n",
                "\n",
                "    assert \"errors\" not in content\n",
                "\n",
                "    assert content[\"data\"][\"petFormMutation1\"][\"errors\"] == [\n",
                "        {\"field\": \"age\", \"messages\": [\"Too old\"]}\n",
                "    ]\n",
                "\n",
                "    assert content[\"data\"][\"petFormMutation2\"][\"errors\"] == []\n",
                "\n",
                "    assert Pet.objects.count() == 1\n",
                "\n",
                "    pet = Pet.objects.get()\n",
                "    assert pet.name == \"Enzo\"\n",
                "    assert pet.age == 0\n"
            ]
        },
        {
            "cell_type": "markdown",
            "metadata": {},
            "source": []
        },
        {
            "cell_type": "code",
            "execution_count": null,
            "metadata": {},
            "outputs": [],
            "source": [
                "@patch(\"graphene_django.settings.graphene_settings.ATOMIC_MUTATIONS\", False)\n",
                "@patch.dict(\n",
                "    connection.settings_dict, {\"ATOMIC_MUTATIONS\": False, \"ATOMIC_REQUESTS\": True}\n",
                ")\n",
                "def test_model_form_mutation_multiple_creation_invalid_atomic_request(client):\n",
                "    query = \"\"\"\n",
                "    mutation PetMutations {\n",
                "        petMutation1: petMutation(input: { name: \"Mia\", age: 99 }) {\n",
                "            pet {\n",
                "                name\n",
                "                age\n",
                "            }\n",
                "            errors {\n",
                "                field\n",
                "                messages\n",
                "            }\n",
                "        }\n",
                "        petMutation2: petMutation(input: { name: \"Enzo\", age: 0 }) {\n",
                "            pet {\n",
                "                name\n",
                "                age\n",
                "            }\n",
                "            errors {\n",
                "                field\n",
                "                messages\n",
                "            }\n",
                "        }\n",
                "    }\n",
                "    \"\"\"\n",
                "\n",
                "    response = client.post(url_string(query=query))\n",
                "    content = response_json(response)\n",
                "\n",
                "    assert \"errors\" not in content\n",
                "\n",
                "    assert content[\"data\"][\"petMutation1\"][\"pet\"] is None\n",
                "    assert content[\"data\"][\"petMutation1\"][\"errors\"] == [\n",
                "        {\"field\": \"age\", \"messages\": [\"Too old\"]}\n",
                "    ]\n",
                "\n",
                "    assert content[\"data\"][\"petMutation2\"][\"pet\"] == {\"name\": \"Enzo\", \"age\": 0}\n",
                "\n",
                "    assert Pet.objects.count() == 0\n"
            ]
        },
        {
            "cell_type": "markdown",
            "metadata": {},
            "source": []
        },
        {
            "cell_type": "code",
            "execution_count": null,
            "metadata": {},
            "outputs": [],
            "source": [
                "@patch(\"graphene_django.settings.graphene_settings.ATOMIC_MUTATIONS\", False)\n",
                "@patch.dict(\n",
                "    connection.settings_dict, {\"ATOMIC_MUTATIONS\": False, \"ATOMIC_REQUESTS\": False}\n",
                ")\n",
                "def test_model_form_mutation_multiple_creation_invalid_non_atomic(client):\n",
                "    query = \"\"\"\n",
                "    mutation PetMutations {\n",
                "        petMutation1: petMutation(input: { name: \"Mia\", age: 99 }) {\n",
                "            pet {\n",
                "                name\n",
                "                age\n",
                "            }\n",
                "            errors {\n",
                "                field\n",
                "                messages\n",
                "            }\n",
                "        }\n",
                "        petMutation2: petMutation(input: { name: \"Enzo\", age: 0 }) {\n",
                "            pet {\n",
                "                name\n",
                "                age\n",
                "            }\n",
                "            errors {\n",
                "                field\n",
                "                messages\n",
                "            }\n",
                "        }\n",
                "    }\n",
                "    \"\"\"\n",
                "\n",
                "    response = client.post(url_string(query=query))\n",
                "    content = response_json(response)\n",
                "\n",
                "    assert \"errors\" not in content\n",
                "\n",
                "    assert content[\"data\"][\"petMutation1\"][\"pet\"] is None\n",
                "    assert content[\"data\"][\"petMutation1\"][\"errors\"] == [\n",
                "        {\"field\": \"age\", \"messages\": [\"Too old\"]}\n",
                "    ]\n",
                "\n",
                "    assert content[\"data\"][\"petMutation2\"][\"pet\"] == {\"name\": \"Enzo\", \"age\": 0}\n",
                "\n",
                "    assert Pet.objects.count() == 1\n",
                "\n",
                "    pet = Pet.objects.get()\n",
                "    assert pet.name == \"Enzo\"\n",
                "    assert pet.age == 0\n"
            ]
        },
        {
            "cell_type": "markdown",
            "metadata": {},
            "source": []
        },
        {
            "cell_type": "code",
            "execution_count": null,
            "metadata": {},
            "outputs": [],
            "source": [
                "@patch(\"graphene_django.utils.utils.transaction.set_rollback\")\n",
                "@patch(\"graphene_django.settings.graphene_settings.ATOMIC_MUTATIONS\", False)\n",
                "@patch.dict(\n",
                "    connection.settings_dict, {\"ATOMIC_MUTATIONS\": False, \"ATOMIC_REQUESTS\": True}\n",
                ")\n",
                "def test_query_errors_atomic_request(set_rollback_mock, client):\n",
                "    client.get(url_string(query=\"force error\"))\n",
                "    set_rollback_mock.assert_called_once_with(True)\n"
            ]
        },
        {
            "cell_type": "markdown",
            "metadata": {},
            "source": []
        },
        {
            "cell_type": "code",
            "execution_count": null,
            "metadata": {},
            "outputs": [],
            "source": [
                "@patch(\"graphene_django.utils.utils.transaction.set_rollback\")\n",
                "@patch(\"graphene_django.settings.graphene_settings.ATOMIC_MUTATIONS\", False)\n",
                "@patch.dict(\n",
                "    connection.settings_dict, {\"ATOMIC_MUTATIONS\": False, \"ATOMIC_REQUESTS\": False}\n",
                ")\n",
                "def test_query_errors_non_atomic(set_rollback_mock, client):\n",
                "    client.get(url_string(query=\"force error\"))\n",
                "    set_rollback_mock.assert_not_called()\n"
            ]
        },
        {
            "cell_type": "markdown",
            "metadata": {},
            "source": []
        },
        {
            "cell_type": "code",
            "execution_count": null,
            "metadata": {},
            "outputs": [],
            "source": [
                "VALIDATION_URLS = [\n",
                "    \"/graphql/validation/\",\n",
                "    \"/graphql/validation/alternative/\",\n",
                "    \"/graphql/validation/inherited/\",\n",
                "]\n",
                "\n",
                "QUERY_WITH_TWO_INTROSPECTIONS = \"\"\"\n",
                "query Instrospection {\n",
                "    queryType: __schema {\n",
                "        queryType {name}\n",
                "    }\n",
                "    mutationType: __schema {\n",
                "        mutationType {name}\n",
                "    }\n",
                "}\n",
                "\"\"\"\n",
                "\n",
                "N_INTROSPECTIONS = 2\n",
                "\n",
                "INTROSPECTION_DISALLOWED_ERROR_MESSAGE = \"introspection is disabled\"\n",
                "MAX_VALIDATION_ERRORS_EXCEEDED_MESSAGE = \"too many validation errors\"\n"
            ]
        },
        {
            "cell_type": "markdown",
            "metadata": {},
            "source": []
        },
        {
            "cell_type": "code",
            "execution_count": null,
            "metadata": {},
            "outputs": [],
            "source": [
                "@pytest.mark.urls(\"graphene_django.tests.urls_validation\")\n",
                "def test_allow_introspection(client):\n",
                "    response = client.post(\n",
                "        url_string(\"/graphql/\", query=\"{__schema {queryType {name}}}\")\n",
                "    )\n",
                "    assert response.status_code == 200\n",
                "\n",
                "    assert response_json(response) == {\n",
                "        \"data\": {\"__schema\": {\"queryType\": {\"name\": \"QueryRoot\"}}}\n",
                "    }\n"
            ]
        },
        {
            "cell_type": "markdown",
            "metadata": {},
            "source": []
        },
        {
            "cell_type": "code",
            "execution_count": null,
            "metadata": {},
            "outputs": [],
            "source": [
                "@pytest.mark.parametrize(\"url\", VALIDATION_URLS)\n",
                "@pytest.mark.urls(\"graphene_django.tests.urls_validation\")\n",
                "def test_validation_disallow_introspection(client, url):\n",
                "    response = client.post(url_string(url, query=\"{__schema {queryType {name}}}\"))\n",
                "\n",
                "    assert response.status_code == 400\n",
                "\n",
                "    json_response = response_json(response)\n",
                "    assert \"data\" not in json_response\n",
                "    assert \"errors\" in json_response\n",
                "    assert len(json_response[\"errors\"]) == 1\n",
                "\n",
                "    error_message = json_response[\"errors\"][0][\"message\"]\n",
                "    assert INTROSPECTION_DISALLOWED_ERROR_MESSAGE in error_message\n"
            ]
        },
        {
            "cell_type": "markdown",
            "metadata": {},
            "source": []
        },
        {
            "cell_type": "code",
            "execution_count": null,
            "metadata": {},
            "outputs": [],
            "source": [
                "@pytest.mark.parametrize(\"url\", VALIDATION_URLS)\n",
                "@pytest.mark.urls(\"graphene_django.tests.urls_validation\")\n",
                "@patch(\n",
                "    \"graphene_django.settings.graphene_settings.MAX_VALIDATION_ERRORS\", N_INTROSPECTIONS\n",
                ")\n",
                "def test_within_max_validation_errors(client, url):\n",
                "    response = client.post(url_string(url, query=QUERY_WITH_TWO_INTROSPECTIONS))\n",
                "\n",
                "    assert response.status_code == 400\n",
                "\n",
                "    json_response = response_json(response)\n",
                "    assert \"data\" not in json_response\n",
                "    assert \"errors\" in json_response\n",
                "    assert len(json_response[\"errors\"]) == N_INTROSPECTIONS\n",
                "\n",
                "    error_messages = [error[\"message\"].lower() for error in json_response[\"errors\"]]\n",
                "\n",
                "    n_introspection_error_messages = sum(\n",
                "        INTROSPECTION_DISALLOWED_ERROR_MESSAGE in msg for msg in error_messages\n",
                "    )\n",
                "    assert n_introspection_error_messages == N_INTROSPECTIONS\n",
                "\n",
                "    assert all(\n",
                "        MAX_VALIDATION_ERRORS_EXCEEDED_MESSAGE not in msg for msg in error_messages\n",
                "    )\n"
            ]
        },
        {
            "cell_type": "markdown",
            "metadata": {},
            "source": []
        },
        {
            "cell_type": "code",
            "execution_count": null,
            "metadata": {},
            "outputs": [],
            "source": [
                "@pytest.mark.parametrize(\"url\", VALIDATION_URLS)\n",
                "@pytest.mark.urls(\"graphene_django.tests.urls_validation\")\n",
                "@patch(\"graphene_django.settings.graphene_settings.MAX_VALIDATION_ERRORS\", 1)\n",
                "def test_exceeds_max_validation_errors(client, url):\n",
                "    response = client.post(url_string(url, query=QUERY_WITH_TWO_INTROSPECTIONS))\n",
                "\n",
                "    assert response.status_code == 400\n",
                "\n",
                "    json_response = response_json(response)\n",
                "    assert \"data\" not in json_response\n",
                "    assert \"errors\" in json_response\n",
                "\n",
                "    error_messages = (error[\"message\"].lower() for error in json_response[\"errors\"])\n",
                "    assert any(MAX_VALIDATION_ERRORS_EXCEEDED_MESSAGE in msg for msg in error_messages)\n",
                "\n"
            ]
        },
        {
            "cell_type": "markdown",
            "metadata": {},
            "source": []
        }
    ],
    "metadata": {
        "language_info": {
            "name": "python"
        }
    },
    "nbformat": 4,
    "nbformat_minor": 2
}