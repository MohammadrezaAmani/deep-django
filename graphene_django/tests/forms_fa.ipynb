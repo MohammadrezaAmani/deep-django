{
    "cells": [
        {
            "cell_type": "code",
            "execution_count": null,
            "metadata": {},
            "outputs": [],
            "source": [
                "from django import forms\n",
                "from django.core.exceptions import ValidationError\n",
                "\n",
                "from .models import Pet\n"
            ]
        },
        {
            "cell_type": "markdown",
            "metadata": {},
            "source": []
        },
        {
            "cell_type": "code",
            "execution_count": null,
            "metadata": {},
            "outputs": [],
            "source": [
                "class PetForm(forms.ModelForm):\n",
                "    class Meta:\n",
                "        model = Pet\n",
                "        fields = \"__all__\"\n",
                "\n",
                "    def clean_age(self):\n",
                "        age = self.cleaned_data[\"age\"]\n",
                "        if age >= 99:\n",
                "            raise ValidationError(\"Too old\")\n",
                "        return age\n",
                "\n"
            ]
        },
        {
            "cell_type": "markdown",
            "metadata": {},
            "source": []
        }
    ],
    "metadata": {
        "language_info": {
            "name": "python"
        }
    },
    "nbformat": 4,
    "nbformat_minor": 2
}