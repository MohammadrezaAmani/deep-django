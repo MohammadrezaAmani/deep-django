{
    "cells": [
        {
            "cell_type": "code",
            "execution_count": null,
            "metadata": {},
            "outputs": [],
            "source": [
                "\"\"\"\n",
                "Settings for Graphene are all namespaced in the GRAPHENE setting.\n",
                "For example your project's `settings.py` file might look like this:\n",
                "GRAPHENE = {\n",
                "    'SCHEMA': 'my_app.schema.schema'\n",
                "    'MIDDLEWARE': (\n",
                "        'graphene_django.debug.DjangoDebugMiddleware',\n",
                "    )\n",
                "}\n",
                "This module provides the `graphene_settings` object, that is used to access\n",
                "Graphene settings, checking for user settings first, then falling\n",
                "back to the defaults.\n",
                "\"\"\"\n",
                "\n",
                "import importlib  # Available in Python 3.1+\n",
                "\n",
                "from django.conf import settings\n",
                "from django.test.signals import setting_changed\n",
                "\n",
                "# Copied shamelessly from Django REST Framework\n",
                "\n",
                "DEFAULTS = {\n",
                "    \"SCHEMA\": None,\n",
                "    \"SCHEMA_OUTPUT\": \"schema.json\",\n",
                "    \"SCHEMA_INDENT\": 2,\n",
                "    \"MIDDLEWARE\": (),\n",
                "    # Set to True if the connection fields must have\n",
                "    # either the first or last argument\n",
                "    \"RELAY_CONNECTION_ENFORCE_FIRST_OR_LAST\": False,\n",
                "    # Max items returned in ConnectionFields / FilterConnectionFields\n",
                "    \"RELAY_CONNECTION_MAX_LIMIT\": 100,\n",
                "    \"CAMELCASE_ERRORS\": True,\n",
                "    # Automatically convert Choice fields of Django into Enum fields\n",
                "    \"DJANGO_CHOICE_FIELD_ENUM_CONVERT\": True,\n",
                "    # Set to True to enable v2 naming convention for choice field Enum's\n",
                "    \"DJANGO_CHOICE_FIELD_ENUM_V2_NAMING\": False,\n",
                "    \"DJANGO_CHOICE_FIELD_ENUM_CUSTOM_NAME\": None,\n",
                "    # Use a separate path for handling subscriptions.\n",
                "    \"SUBSCRIPTION_PATH\": None,\n",
                "    # By default GraphiQL headers editor tab is enabled, set to False to hide it\n",
                "    # This sets headerEditorEnabled GraphiQL option, for details go to\n",
                "    # https://github.com/graphql/graphiql/tree/main/packages/graphiql#options\n",
                "    \"GRAPHIQL_HEADER_EDITOR_ENABLED\": True,\n",
                "    \"GRAPHIQL_SHOULD_PERSIST_HEADERS\": False,\n",
                "    \"GRAPHIQL_INPUT_VALUE_DEPRECATION\": False,\n",
                "    \"ATOMIC_MUTATIONS\": False,\n",
                "    \"TESTING_ENDPOINT\": \"/graphql\",\n",
                "    \"MAX_VALIDATION_ERRORS\": None,\n",
                "}\n",
                "\n",
                "if settings.DEBUG:\n",
                "    DEFAULTS[\"MIDDLEWARE\"] += (\"graphene_django.debug.DjangoDebugMiddleware\",)\n",
                "\n",
                "# List of settings that may be in string import notation.\n",
                "IMPORT_STRINGS = (\"MIDDLEWARE\", \"SCHEMA\")\n"
            ]
        },
        {
            "cell_type": "markdown",
            "metadata": {},
            "source": []
        },
        {
            "cell_type": "code",
            "execution_count": null,
            "metadata": {},
            "outputs": [],
            "source": [
                "def perform_import(val, setting_name):\n",
                "    \"\"\"\n",
                "    If the given setting is a string import notation,\n",
                "    then perform the necessary import or imports.\n",
                "    \"\"\"\n",
                "    if val is None:\n",
                "        return None\n",
                "    elif isinstance(val, str):\n",
                "        return import_from_string(val, setting_name)\n",
                "    elif isinstance(val, (list, tuple)):\n",
                "        return [import_from_string(item, setting_name) for item in val]\n",
                "    return val\n"
            ]
        },
        {
            "cell_type": "markdown",
            "metadata": {},
            "source": []
        },
        {
            "cell_type": "code",
            "execution_count": null,
            "metadata": {},
            "outputs": [],
            "source": [
                "def import_from_string(val, setting_name):\n",
                "    \"\"\"\n",
                "    Attempt to import a class from a string representation.\n",
                "    \"\"\"\n",
                "    try:\n",
                "        # Nod to tastypie's use of importlib.\n",
                "        parts = val.split(\".\")\n",
                "        module_path, class_name = \".\".join(parts[:-1]), parts[-1]\n",
                "        module = importlib.import_module(module_path)\n",
                "        return getattr(module, class_name)\n",
                "    except (ImportError, AttributeError) as e:\n",
                "        msg = \"Could not import '{}' for Graphene setting '{}'. {}: {}.\".format(\n",
                "            val,\n",
                "            setting_name,\n",
                "            e.__class__.__name__,\n",
                "            e,\n",
                "        )\n",
                "        raise ImportError(msg)\n"
            ]
        },
        {
            "cell_type": "markdown",
            "metadata": {},
            "source": []
        },
        {
            "cell_type": "code",
            "execution_count": null,
            "metadata": {},
            "outputs": [],
            "source": [
                "class GrapheneSettings:\n",
                "    \"\"\"\n",
                "    A settings object, that allows API settings to be accessed as properties.\n",
                "    For example:\n",
                "        from graphene_django.settings import settings\n",
                "        print(settings.SCHEMA)\n",
                "    Any setting with string import paths will be automatically resolved\n",
                "    and return the class, rather than the string literal.\n",
                "    \"\"\"\n",
                "\n",
                "    def __init__(self, user_settings=None, defaults=None, import_strings=None):\n",
                "        if user_settings:\n",
                "            self._user_settings = user_settings\n",
                "        self.defaults = defaults or DEFAULTS\n",
                "        self.import_strings = import_strings or IMPORT_STRINGS\n",
                "\n",
                "    @property\n",
                "    def user_settings(self):\n",
                "        if not hasattr(self, \"_user_settings\"):\n",
                "            self._user_settings = getattr(settings, \"GRAPHENE\", {})\n",
                "        return self._user_settings\n",
                "\n",
                "    def __getattr__(self, attr):\n",
                "        if attr not in self.defaults:\n",
                "            raise AttributeError(\"Invalid Graphene setting: '%s'\" % attr)\n",
                "\n",
                "        try:\n",
                "            # Check if present in user settings\n",
                "            val = self.user_settings[attr]\n",
                "        except KeyError:\n",
                "            # Fall back to defaults\n",
                "            val = self.defaults[attr]\n",
                "\n",
                "        # Coerce import strings into classes\n",
                "        if attr in self.import_strings:\n",
                "            val = perform_import(val, attr)\n",
                "\n",
                "        # Cache the result\n",
                "        setattr(self, attr, val)\n",
                "        return val\n"
            ]
        },
        {
            "cell_type": "markdown",
            "metadata": {},
            "source": []
        },
        {
            "cell_type": "code",
            "execution_count": null,
            "metadata": {},
            "outputs": [],
            "source": [
                "graphene_settings = GrapheneSettings(None, DEFAULTS, IMPORT_STRINGS)\n"
            ]
        },
        {
            "cell_type": "markdown",
            "metadata": {},
            "source": []
        },
        {
            "cell_type": "code",
            "execution_count": null,
            "metadata": {},
            "outputs": [],
            "source": [
                "def reload_graphene_settings(*args, **kwargs):\n",
                "    global graphene_settings\n",
                "    setting, value = kwargs[\"setting\"], kwargs[\"value\"]\n",
                "    if setting == \"GRAPHENE\":\n",
                "        graphene_settings = GrapheneSettings(value, DEFAULTS, IMPORT_STRINGS)\n"
            ]
        },
        {
            "cell_type": "markdown",
            "metadata": {},
            "source": []
        },
        {
            "cell_type": "code",
            "execution_count": null,
            "metadata": {},
            "outputs": [],
            "source": [
                "setting_changed.connect(reload_graphene_settings)\n",
                "\n"
            ]
        },
        {
            "cell_type": "markdown",
            "metadata": {},
            "source": []
        }
    ],
    "metadata": {
        "language_info": {
            "name": "python"
        }
    },
    "nbformat": 4,
    "nbformat_minor": 2
}