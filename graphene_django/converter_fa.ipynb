{
    "cells": [
        {
            "cell_type": "code",
            "execution_count": null,
            "metadata": {},
            "outputs": [],
            "source": [
                "import inspect\n",
                "from collections.abc import Callable\n",
                "from functools import partial, singledispatch, wraps\n",
                "\n",
                "from django.db import models\n",
                "from django.utils.encoding import force_str\n",
                "from django.utils.functional import Promise\n",
                "from django.utils.module_loading import import_string\n",
                "from graphene import (\n",
                "    ID,\n",
                "    UUID,\n",
                "    Boolean,\n",
                "    Date,\n",
                "    DateTime,\n",
                "    Decimal,\n",
                "    Dynamic,\n",
                "    Enum,\n",
                "    Field,\n",
                "    Float,\n",
                "    Int,\n",
                "    List,\n",
                "    NonNull,\n",
                "    String,\n",
                "    Time,\n",
                ")\n",
                "from graphene.types.json import JSONString\n",
                "from graphene.types.resolver import get_default_resolver\n",
                "from graphene.types.scalars import BigInt\n",
                "from graphene.utils.str_converters import to_camel_case\n",
                "from graphql import GraphQLError\n",
                "\n",
                "try:\n",
                "    from graphql import assert_name\n",
                "except ImportError:\n",
                "    # Support for older versions of graphql\n",
                "    from graphql import assert_valid_name as assert_name\n",
                "\n",
                "from graphql.pyutils import register_description\n",
                "\n",
                "from .compat import ArrayField, HStoreField, RangeField\n",
                "from .fields import DjangoConnectionField, DjangoListField\n",
                "from .settings import graphene_settings\n",
                "from .utils.str_converters import to_const\n"
            ]
        },
        {
            "cell_type": "markdown",
            "metadata": {},
            "source": []
        },
        {
            "cell_type": "code",
            "execution_count": null,
            "metadata": {},
            "outputs": [],
            "source": [
                "class BlankValueField(Field):\n",
                "    def wrap_resolve(self, parent_resolver):\n",
                "        resolver = self.resolver or parent_resolver\n",
                "\n",
                "        # create custom resolver\n",
                "        def blank_field_wrapper(func):\n",
                "            @wraps(func)\n",
                "            def wrapped_resolver(*args, **kwargs):\n",
                "                return_value = func(*args, **kwargs)\n",
                "                if return_value == \"\":\n",
                "                    return None\n",
                "                return return_value\n",
                "\n",
                "            return wrapped_resolver\n",
                "\n",
                "        return blank_field_wrapper(resolver)\n"
            ]
        },
        {
            "cell_type": "markdown",
            "metadata": {},
            "source": []
        },
        {
            "cell_type": "code",
            "execution_count": null,
            "metadata": {},
            "outputs": [],
            "source": [
                "def convert_choice_name(name):\n",
                "    name = to_const(force_str(name))\n",
                "    try:\n",
                "        assert_name(name)\n",
                "    except GraphQLError:\n",
                "        name = \"A_%s\" % name\n",
                "    return name\n"
            ]
        },
        {
            "cell_type": "markdown",
            "metadata": {},
            "source": []
        },
        {
            "cell_type": "code",
            "execution_count": null,
            "metadata": {},
            "outputs": [],
            "source": [
                "def get_choices(choices):\n",
                "    converted_names = []\n",
                "    if isinstance(choices, Callable):\n",
                "        choices = choices()\n",
                "\n",
                "    # In restframework==3.15.0, choices are not passed\n",
                "    # as OrderedDict anymore, so it's safer to check\n",
                "    # for a dict\n",
                "    if isinstance(choices, dict):\n",
                "        choices = choices.items()\n",
                "\n",
                "    for value, help_text in choices:\n",
                "        if isinstance(help_text, (tuple, list)):\n",
                "            yield from get_choices(help_text)\n",
                "        else:\n",
                "            name = convert_choice_name(value)\n",
                "            while name in converted_names:\n",
                "                name += \"_\" + str(len(converted_names))\n",
                "            converted_names.append(name)\n",
                "            description = str(\n",
                "                help_text\n",
                "            )  # TODO: translatable description: https://github.com/graphql-python/graphql-core-next/issues/58\n",
                "            yield name, value, description\n"
            ]
        },
        {
            "cell_type": "markdown",
            "metadata": {},
            "source": []
        },
        {
            "cell_type": "code",
            "execution_count": null,
            "metadata": {},
            "outputs": [],
            "source": [
                "def convert_choices_to_named_enum_with_descriptions(name, choices):\n",
                "    choices = list(get_choices(choices))\n",
                "    named_choices = [(c[0], c[1]) for c in choices]\n",
                "    named_choices_descriptions = {c[0]: c[2] for c in choices}\n",
                "\n",
                "    class EnumWithDescriptionsType:\n",
                "        @property\n",
                "        def description(self):\n",
                "            return str(named_choices_descriptions[self.name])\n",
                "\n",
                "    return_type = Enum(\n",
                "        name,\n",
                "        list(named_choices),\n",
                "        type=EnumWithDescriptionsType,\n",
                "        description=\"An enumeration.\",  # Temporary fix until https://github.com/graphql-python/graphene/pull/1502 is merged\n",
                "    )\n",
                "    return return_type\n"
            ]
        },
        {
            "cell_type": "markdown",
            "metadata": {},
            "source": []
        },
        {
            "cell_type": "code",
            "execution_count": null,
            "metadata": {},
            "outputs": [],
            "source": [
                "def generate_enum_name(django_model_meta, field):\n",
                "    if graphene_settings.DJANGO_CHOICE_FIELD_ENUM_CUSTOM_NAME:\n",
                "        # Try and import custom function\n",
                "        custom_func = import_string(\n",
                "            graphene_settings.DJANGO_CHOICE_FIELD_ENUM_CUSTOM_NAME\n",
                "        )\n",
                "        name = custom_func(field)\n",
                "    elif graphene_settings.DJANGO_CHOICE_FIELD_ENUM_V2_NAMING is True:\n",
                "        name = to_camel_case(f\"{django_model_meta.object_name}_{field.name}\")\n",
                "    else:\n",
                "        name = \"{app_label}{object_name}{field_name}Choices\".format(\n",
                "            app_label=to_camel_case(django_model_meta.app_label.title()),\n",
                "            object_name=django_model_meta.object_name,\n",
                "            field_name=to_camel_case(field.name.title()),\n",
                "        )\n",
                "    return name\n"
            ]
        },
        {
            "cell_type": "markdown",
            "metadata": {},
            "source": []
        },
        {
            "cell_type": "code",
            "execution_count": null,
            "metadata": {},
            "outputs": [],
            "source": [
                "def convert_choice_field_to_enum(field, name=None):\n",
                "    if name is None:\n",
                "        name = generate_enum_name(field.model._meta, field)\n",
                "    choices = field.choices\n",
                "    return convert_choices_to_named_enum_with_descriptions(name, choices)\n"
            ]
        },
        {
            "cell_type": "markdown",
            "metadata": {},
            "source": []
        },
        {
            "cell_type": "code",
            "execution_count": null,
            "metadata": {},
            "outputs": [],
            "source": [
                "def convert_django_field_with_choices(\n",
                "    field, registry=None, convert_choices_to_enum=None\n",
                "):\n",
                "    if registry is not None:\n",
                "        converted = registry.get_converted_field(field)\n",
                "        if converted:\n",
                "            return converted\n",
                "    choices = getattr(field, \"choices\", None)\n",
                "    if convert_choices_to_enum is None:\n",
                "        convert_choices_to_enum = bool(\n",
                "            graphene_settings.DJANGO_CHOICE_FIELD_ENUM_CONVERT\n",
                "        )\n",
                "    if choices and convert_choices_to_enum:\n",
                "        EnumCls = convert_choice_field_to_enum(field)\n",
                "        required = not (field.blank or field.null)\n",
                "\n",
                "        converted = EnumCls(\n",
                "            description=get_django_field_description(field), required=required\n",
                "        ).mount_as(BlankValueField)\n",
                "    else:\n",
                "        converted = convert_django_field(field, registry)\n",
                "    if registry is not None:\n",
                "        registry.register_converted_field(field, converted)\n",
                "    return converted\n"
            ]
        },
        {
            "cell_type": "markdown",
            "metadata": {},
            "source": []
        },
        {
            "cell_type": "code",
            "execution_count": null,
            "metadata": {},
            "outputs": [],
            "source": [
                "def get_django_field_description(field):\n",
                "    return str(field.help_text) if field.help_text else None\n"
            ]
        },
        {
            "cell_type": "markdown",
            "metadata": {},
            "source": []
        },
        {
            "cell_type": "code",
            "execution_count": null,
            "metadata": {},
            "outputs": [],
            "source": [
                "@singledispatch\n",
                "def convert_django_field(field, registry=None):\n",
                "    raise Exception(\n",
                "        f\"Don't know how to convert the Django field {field} ({field.__class__})\"\n",
                "    )\n"
            ]
        },
        {
            "cell_type": "markdown",
            "metadata": {},
            "source": []
        },
        {
            "cell_type": "code",
            "execution_count": null,
            "metadata": {},
            "outputs": [],
            "source": [
                "@convert_django_field.register(models.CharField)\n",
                "@convert_django_field.register(models.TextField)\n",
                "@convert_django_field.register(models.EmailField)\n",
                "@convert_django_field.register(models.SlugField)\n",
                "@convert_django_field.register(models.URLField)\n",
                "@convert_django_field.register(models.GenericIPAddressField)\n",
                "@convert_django_field.register(models.FileField)\n",
                "@convert_django_field.register(models.FilePathField)\n",
                "def convert_field_to_string(field, registry=None):\n",
                "    return String(\n",
                "        description=get_django_field_description(field), required=not field.null\n",
                "    )\n"
            ]
        },
        {
            "cell_type": "markdown",
            "metadata": {},
            "source": []
        },
        {
            "cell_type": "code",
            "execution_count": null,
            "metadata": {},
            "outputs": [],
            "source": [
                "@convert_django_field.register(models.BigAutoField)\n",
                "@convert_django_field.register(models.AutoField)\n",
                "def convert_field_to_id(field, registry=None):\n",
                "    return ID(description=get_django_field_description(field), required=not field.null)\n"
            ]
        },
        {
            "cell_type": "markdown",
            "metadata": {},
            "source": []
        },
        {
            "cell_type": "code",
            "execution_count": null,
            "metadata": {},
            "outputs": [],
            "source": [
                "if hasattr(models, \"SmallAutoField\"):\n",
                "\n",
                "    @convert_django_field.register(models.SmallAutoField)\n",
                "    def convert_field_small_to_id(field, registry=None):\n",
                "        return convert_field_to_id(field, registry)\n"
            ]
        },
        {
            "cell_type": "markdown",
            "metadata": {},
            "source": []
        },
        {
            "cell_type": "code",
            "execution_count": null,
            "metadata": {},
            "outputs": [],
            "source": [
                "@convert_django_field.register(models.UUIDField)\n",
                "def convert_field_to_uuid(field, registry=None):\n",
                "    return UUID(\n",
                "        description=get_django_field_description(field), required=not field.null\n",
                "    )\n"
            ]
        },
        {
            "cell_type": "markdown",
            "metadata": {},
            "source": []
        },
        {
            "cell_type": "code",
            "execution_count": null,
            "metadata": {},
            "outputs": [],
            "source": [
                "@convert_django_field.register(models.BigIntegerField)\n",
                "def convert_big_int_field(field, registry=None):\n",
                "    return BigInt(description=field.help_text, required=not field.null)\n"
            ]
        },
        {
            "cell_type": "markdown",
            "metadata": {},
            "source": []
        },
        {
            "cell_type": "code",
            "execution_count": null,
            "metadata": {},
            "outputs": [],
            "source": [
                "@convert_django_field.register(models.PositiveIntegerField)\n",
                "@convert_django_field.register(models.PositiveSmallIntegerField)\n",
                "@convert_django_field.register(models.SmallIntegerField)\n",
                "@convert_django_field.register(models.IntegerField)\n",
                "def convert_field_to_int(field, registry=None):\n",
                "    return Int(description=get_django_field_description(field), required=not field.null)\n"
            ]
        },
        {
            "cell_type": "markdown",
            "metadata": {},
            "source": []
        },
        {
            "cell_type": "code",
            "execution_count": null,
            "metadata": {},
            "outputs": [],
            "source": [
                "@convert_django_field.register(models.NullBooleanField)\n",
                "@convert_django_field.register(models.BooleanField)\n",
                "def convert_field_to_boolean(field, registry=None):\n",
                "    return Boolean(\n",
                "        description=get_django_field_description(field), required=not field.null\n",
                "    )\n"
            ]
        },
        {
            "cell_type": "markdown",
            "metadata": {},
            "source": []
        },
        {
            "cell_type": "code",
            "execution_count": null,
            "metadata": {},
            "outputs": [],
            "source": [
                "@convert_django_field.register(models.DecimalField)\n",
                "def convert_field_to_decimal(field, registry=None):\n",
                "    return Decimal(\n",
                "        description=get_django_field_description(field), required=not field.null\n",
                "    )\n"
            ]
        },
        {
            "cell_type": "markdown",
            "metadata": {},
            "source": []
        },
        {
            "cell_type": "code",
            "execution_count": null,
            "metadata": {},
            "outputs": [],
            "source": [
                "@convert_django_field.register(models.FloatField)\n",
                "@convert_django_field.register(models.DurationField)\n",
                "def convert_field_to_float(field, registry=None):\n",
                "    return Float(\n",
                "        description=get_django_field_description(field), required=not field.null\n",
                "    )\n"
            ]
        },
        {
            "cell_type": "markdown",
            "metadata": {},
            "source": []
        },
        {
            "cell_type": "code",
            "execution_count": null,
            "metadata": {},
            "outputs": [],
            "source": [
                "@convert_django_field.register(models.DateTimeField)\n",
                "def convert_datetime_to_string(field, registry=None):\n",
                "    return DateTime(\n",
                "        description=get_django_field_description(field), required=not field.null\n",
                "    )\n"
            ]
        },
        {
            "cell_type": "markdown",
            "metadata": {},
            "source": []
        },
        {
            "cell_type": "code",
            "execution_count": null,
            "metadata": {},
            "outputs": [],
            "source": [
                "@convert_django_field.register(models.DateField)\n",
                "def convert_date_to_string(field, registry=None):\n",
                "    return Date(\n",
                "        description=get_django_field_description(field), required=not field.null\n",
                "    )\n"
            ]
        },
        {
            "cell_type": "markdown",
            "metadata": {},
            "source": []
        },
        {
            "cell_type": "code",
            "execution_count": null,
            "metadata": {},
            "outputs": [],
            "source": [
                "@convert_django_field.register(models.TimeField)\n",
                "def convert_time_to_string(field, registry=None):\n",
                "    return Time(\n",
                "        description=get_django_field_description(field), required=not field.null\n",
                "    )\n"
            ]
        },
        {
            "cell_type": "markdown",
            "metadata": {},
            "source": []
        },
        {
            "cell_type": "code",
            "execution_count": null,
            "metadata": {},
            "outputs": [],
            "source": [
                "@convert_django_field.register(models.OneToOneRel)\n",
                "def convert_onetoone_field_to_djangomodel(field, registry=None):\n",
                "    from graphene.utils.str_converters import to_snake_case\n",
                "\n",
                "    from .types import DjangoObjectType\n",
                "\n",
                "    model = field.related_model\n",
                "\n",
                "    def dynamic_type():\n",
                "        _type = registry.get_type_for_model(model)\n",
                "        if not _type:\n",
                "            return\n",
                "\n",
                "        class CustomField(Field):\n",
                "            def wrap_resolve(self, parent_resolver):\n",
                "                \"\"\"\n",
                "                Implements a custom resolver which goes through the `get_node` method to ensure that\n",
                "                it goes through the `get_queryset` method of the DjangoObjectType.\n",
                "                \"\"\"\n",
                "                resolver = super().wrap_resolve(parent_resolver)\n",
                "\n",
                "                # If `get_queryset` was not overridden in the DjangoObjectType\n",
                "                # or if we explicitly bypass the `get_queryset` method,\n",
                "                # we can just return the default resolver.\n",
                "                if (\n",
                "                    _type.get_queryset.__func__\n",
                "                    is DjangoObjectType.get_queryset.__func__\n",
                "                    or getattr(resolver, \"_bypass_get_queryset\", False)\n",
                "                ):\n",
                "                    return resolver\n",
                "\n",
                "                def custom_resolver(root, info, **args):\n",
                "                    # Note: this function is used to resolve 1:1 relation fields\n",
                "\n",
                "                    is_resolver_awaitable = inspect.iscoroutinefunction(resolver)\n",
                "\n",
                "                    if is_resolver_awaitable:\n",
                "                        fk_obj = resolver(root, info, **args)\n",
                "                        # In case the resolver is a custom awaitable resolver that overwrites\n",
                "                        # the default Django resolver\n",
                "                        return fk_obj\n",
                "\n",
                "                    field_name = to_snake_case(info.field_name)\n",
                "                    reversed_field_name = root.__class__._meta.get_field(\n",
                "                        field_name\n",
                "                    ).remote_field.name\n",
                "                    try:\n",
                "                        return _type.get_queryset(\n",
                "                            _type._meta.model.objects.filter(\n",
                "                                **{reversed_field_name: root.pk}\n",
                "                            ),\n",
                "                            info,\n",
                "                        ).get()\n",
                "                    except _type._meta.model.DoesNotExist:\n",
                "                        return None\n",
                "\n",
                "                return custom_resolver\n",
                "\n",
                "        return CustomField(\n",
                "            _type,\n",
                "            required=not field.null,\n",
                "        )\n",
                "\n",
                "    return Dynamic(dynamic_type)\n"
            ]
        },
        {
            "cell_type": "markdown",
            "metadata": {},
            "source": []
        },
        {
            "cell_type": "code",
            "execution_count": null,
            "metadata": {},
            "outputs": [],
            "source": [
                "@convert_django_field.register(models.ManyToManyField)\n",
                "@convert_django_field.register(models.ManyToManyRel)\n",
                "@convert_django_field.register(models.ManyToOneRel)\n",
                "def convert_field_to_list_or_connection(field, registry=None):\n",
                "    model = field.related_model\n",
                "\n",
                "    def dynamic_type():\n",
                "        _type = registry.get_type_for_model(model)\n",
                "        if not _type:\n",
                "            return\n",
                "\n",
                "        if isinstance(field, models.ManyToManyField):\n",
                "            description = get_django_field_description(field)\n",
                "        else:\n",
                "            description = get_django_field_description(field.field)\n",
                "\n",
                "        # If there is a connection, we should transform the field\n",
                "        # into a DjangoConnectionField\n",
                "        if _type._meta.connection:\n",
                "            # Use a DjangoFilterConnectionField if there are\n",
                "            # defined filter_fields or a filterset_class in the\n",
                "            # DjangoObjectType Meta\n",
                "            if _type._meta.filter_fields or _type._meta.filterset_class:\n",
                "                from .filter.fields import DjangoFilterConnectionField\n",
                "\n",
                "                return DjangoFilterConnectionField(\n",
                "                    _type, required=True, description=description\n",
                "                )\n",
                "\n",
                "            return DjangoConnectionField(_type, required=True, description=description)\n",
                "\n",
                "        return DjangoListField(\n",
                "            _type,\n",
                "            required=True,  # A Set is always returned, never None.\n",
                "            description=description,\n",
                "        )\n",
                "\n",
                "    return Dynamic(dynamic_type)\n"
            ]
        },
        {
            "cell_type": "markdown",
            "metadata": {},
            "source": []
        },
        {
            "cell_type": "code",
            "execution_count": null,
            "metadata": {},
            "outputs": [],
            "source": [
                "@convert_django_field.register(models.OneToOneField)\n",
                "@convert_django_field.register(models.ForeignKey)\n",
                "def convert_field_to_djangomodel(field, registry=None):\n",
                "    from graphene.utils.str_converters import to_snake_case\n",
                "\n",
                "    from .types import DjangoObjectType\n",
                "\n",
                "    model = field.related_model\n",
                "\n",
                "    def dynamic_type():\n",
                "        _type = registry.get_type_for_model(model)\n",
                "        if not _type:\n",
                "            return\n",
                "\n",
                "        class CustomField(Field):\n",
                "            def wrap_resolve(self, parent_resolver):\n",
                "                \"\"\"\n",
                "                Implements a custom resolver which goes through the `get_node` method to ensure that\n",
                "                it goes through the `get_queryset` method of the DjangoObjectType.\n",
                "                \"\"\"\n",
                "                resolver = super().wrap_resolve(parent_resolver)\n",
                "\n",
                "                # If `get_queryset` was not overridden in the DjangoObjectType\n",
                "                # or if we explicitly bypass the `get_queryset` method,\n",
                "                # we can just return the default resolver.\n",
                "                if (\n",
                "                    _type.get_queryset.__func__\n",
                "                    is DjangoObjectType.get_queryset.__func__\n",
                "                    or getattr(resolver, \"_bypass_get_queryset\", False)\n",
                "                ):\n",
                "                    return resolver\n",
                "\n",
                "                def custom_resolver(root, info, **args):\n",
                "                    # Note: this function is used to resolve FK or 1:1 fields\n",
                "                    #   it does not differentiate between custom-resolved fields\n",
                "                    #   and default resolved fields.\n",
                "\n",
                "                    # because this is a django foreign key or one-to-one field, the primary-key for\n",
                "                    # this node can be accessed from the root node.\n",
                "                    # ex: article.reporter_id\n",
                "\n",
                "                    # get the name of the id field from the root's model\n",
                "                    field_name = to_snake_case(info.field_name)\n",
                "                    db_field_key = root.__class__._meta.get_field(field_name).attname\n",
                "                    if hasattr(root, db_field_key):\n",
                "                        # get the object's primary-key from root\n",
                "                        object_pk = getattr(root, db_field_key)\n",
                "                    else:\n",
                "                        return None\n",
                "\n",
                "                    is_resolver_awaitable = inspect.iscoroutinefunction(resolver)\n",
                "\n",
                "                    if is_resolver_awaitable:\n",
                "                        fk_obj = resolver(root, info, **args)\n",
                "                        # In case the resolver is a custom awaitable resolver that overwrites\n",
                "                        # the default Django resolver\n",
                "                        return fk_obj\n",
                "\n",
                "                    instance_from_get_node = _type.get_node(info, object_pk)\n",
                "\n",
                "                    if instance_from_get_node is None:\n",
                "                        # no instance to return\n",
                "                        return\n",
                "                    elif (\n",
                "                        isinstance(resolver, partial)\n",
                "                        and resolver.func is get_default_resolver()\n",
                "                    ):\n",
                "                        return instance_from_get_node\n",
                "                    elif resolver is not get_default_resolver():\n",
                "                        # Default resolver is overridden\n",
                "                        # For optimization, add the instance to the resolver\n",
                "                        setattr(root, field_name, instance_from_get_node)\n",
                "                        # Explanation:\n",
                "                        #   previously, _type.get_node` is called which results in at least one hit to the database.\n",
                "                        #   But, if we did not pass the instance to the root, calling the resolver will result in\n",
                "                        #   another call to get the instance which results in at least two database queries in total\n",
                "                        #   to resolve this node only.\n",
                "                        #   That's why the value of the object is set in the root so when the object is accessed\n",
                "                        #   in the resolver (root.field_name) it does not access the database unless queried explicitly.\n",
                "                        fk_obj = resolver(root, info, **args)\n",
                "                        return fk_obj\n",
                "                    else:\n",
                "                        return instance_from_get_node\n",
                "\n",
                "                return custom_resolver\n",
                "\n",
                "        return CustomField(\n",
                "            _type,\n",
                "            description=get_django_field_description(field),\n",
                "            required=not field.null,\n",
                "        )\n",
                "\n",
                "    return Dynamic(dynamic_type)\n"
            ]
        },
        {
            "cell_type": "markdown",
            "metadata": {},
            "source": []
        },
        {
            "cell_type": "code",
            "execution_count": null,
            "metadata": {},
            "outputs": [],
            "source": [
                "@convert_django_field.register(ArrayField)\n",
                "def convert_postgres_array_to_list(field, registry=None):\n",
                "    inner_type = convert_django_field(field.base_field)\n",
                "    if not isinstance(inner_type, (List, NonNull)):\n",
                "        inner_type = (\n",
                "            NonNull(type(inner_type))\n",
                "            if inner_type.kwargs[\"required\"]\n",
                "            else type(inner_type)\n",
                "        )\n",
                "    return List(\n",
                "        inner_type,\n",
                "        description=get_django_field_description(field),\n",
                "        required=not field.null,\n",
                "    )\n"
            ]
        },
        {
            "cell_type": "markdown",
            "metadata": {},
            "source": []
        },
        {
            "cell_type": "code",
            "execution_count": null,
            "metadata": {},
            "outputs": [],
            "source": [
                "@convert_django_field.register(HStoreField)\n",
                "@convert_django_field.register(models.JSONField)\n",
                "def convert_json_field_to_string(field, registry=None):\n",
                "    return JSONString(\n",
                "        description=get_django_field_description(field), required=not field.null\n",
                "    )\n"
            ]
        },
        {
            "cell_type": "markdown",
            "metadata": {},
            "source": []
        },
        {
            "cell_type": "code",
            "execution_count": null,
            "metadata": {},
            "outputs": [],
            "source": [
                "@convert_django_field.register(RangeField)\n",
                "def convert_postgres_range_to_string(field, registry=None):\n",
                "    inner_type = convert_django_field(field.base_field)\n",
                "    if not isinstance(inner_type, (List, NonNull)):\n",
                "        inner_type = (\n",
                "            NonNull(type(inner_type))\n",
                "            if inner_type.kwargs[\"required\"]\n",
                "            else type(inner_type)\n",
                "        )\n",
                "    return List(\n",
                "        inner_type,\n",
                "        description=get_django_field_description(field),\n",
                "        required=not field.null,\n",
                "    )\n"
            ]
        },
        {
            "cell_type": "markdown",
            "metadata": {},
            "source": []
        },
        {
            "cell_type": "code",
            "execution_count": null,
            "metadata": {},
            "outputs": [],
            "source": [
                "# Register Django lazy()-wrapped values as GraphQL description/help_text.\n",
                "# This is needed for using lazy translations, see https://github.com/graphql-python/graphql-core-next/issues/58.\n",
                "register_description(Promise)\n",
                "\n"
            ]
        },
        {
            "cell_type": "markdown",
            "metadata": {},
            "source": []
        }
    ],
    "metadata": {
        "language_info": {
            "name": "python"
        }
    },
    "nbformat": 4,
    "nbformat_minor": 2
}