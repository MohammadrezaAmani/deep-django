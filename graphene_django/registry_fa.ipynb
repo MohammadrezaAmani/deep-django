{
    "cells": [
        {
            "cell_type": "code",
            "execution_count": null,
            "metadata": {},
            "outputs": [],
            "source": [
                "class Registry:\n",
                "    def __init__(self):\n",
                "        self._registry = {}\n",
                "        self._field_registry = {}\n",
                "\n",
                "    def register(self, cls):\n",
                "        from .types import DjangoObjectType\n",
                "\n",
                "        assert issubclass(\n",
                "            cls, DjangoObjectType\n",
                "        ), f'Only DjangoObjectTypes can be registered, received \"{cls.__name__}\"'\n",
                "        assert cls._meta.registry == self, \"Registry for a Model have to match.\"\n",
                "        # assert self.get_type_for_model(cls._meta.model) == cls, (\n",
                "        #     'Multiple DjangoObjectTypes registered for \"{}\"'.format(cls._meta.model)\n",
                "        # )\n",
                "        if not getattr(cls._meta, \"skip_registry\", False):\n",
                "            self._registry[cls._meta.model] = cls\n",
                "\n",
                "    def get_type_for_model(self, model):\n",
                "        return self._registry.get(model)\n",
                "\n",
                "    def register_converted_field(self, field, converted):\n",
                "        self._field_registry[field] = converted\n",
                "\n",
                "    def get_converted_field(self, field):\n",
                "        return self._field_registry.get(field)\n"
            ]
        },
        {
            "cell_type": "markdown",
            "metadata": {},
            "source": []
        },
        {
            "cell_type": "code",
            "execution_count": null,
            "metadata": {},
            "outputs": [],
            "source": [
                "registry = None\n"
            ]
        },
        {
            "cell_type": "markdown",
            "metadata": {},
            "source": []
        },
        {
            "cell_type": "code",
            "execution_count": null,
            "metadata": {},
            "outputs": [],
            "source": [
                "def get_global_registry():\n",
                "    global registry\n",
                "    if not registry:\n",
                "        registry = Registry()\n",
                "    return registry\n"
            ]
        },
        {
            "cell_type": "markdown",
            "metadata": {},
            "source": []
        },
        {
            "cell_type": "code",
            "execution_count": null,
            "metadata": {},
            "outputs": [],
            "source": [
                "def reset_global_registry():\n",
                "    global registry\n",
                "    registry = None\n",
                "\n"
            ]
        },
        {
            "cell_type": "markdown",
            "metadata": {},
            "source": []
        }
    ],
    "metadata": {
        "language_info": {
            "name": "python"
        }
    },
    "nbformat": 4,
    "nbformat_minor": 2
}