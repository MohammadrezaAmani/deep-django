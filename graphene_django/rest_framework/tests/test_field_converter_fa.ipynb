{
    "cells": [
        {
            "cell_type": "code",
            "execution_count": null,
            "metadata": {},
            "outputs": [],
            "source": [
                "import copy\n",
                "\n",
                "import graphene\n",
                "from django.db import models\n",
                "from pytest import raises\n",
                "\n",
                "from rest_framework import serializers\n",
                "\n",
                "from ..serializer_converter import convert_serializer_field\n",
                "from ..types import DictType\n"
            ]
        },
        {
            "cell_type": "markdown",
            "metadata": {},
            "source": []
        },
        {
            "cell_type": "code",
            "execution_count": null,
            "metadata": {},
            "outputs": [],
            "source": [
                "def _get_type(\n",
                "    rest_framework_field, is_input=True, convert_choices_to_enum=True, **kwargs\n",
                "):\n",
                "    # prevents the following error:\n",
                "    # AssertionError: The `source` argument is not meaningful when applied to a `child=` field.\n",
                "    # Remove `source=` from the field declaration.\n",
                "    # since we are reusing the same child in when testing the required attribute\n",
                "\n",
                "    if \"child\" in kwargs:\n",
                "        kwargs[\"child\"] = copy.deepcopy(kwargs[\"child\"])\n",
                "\n",
                "    field = rest_framework_field(**kwargs)\n",
                "\n",
                "    return convert_serializer_field(\n",
                "        field, is_input=is_input, convert_choices_to_enum=convert_choices_to_enum\n",
                "    )\n"
            ]
        },
        {
            "cell_type": "markdown",
            "metadata": {},
            "source": []
        },
        {
            "cell_type": "code",
            "execution_count": null,
            "metadata": {},
            "outputs": [],
            "source": [
                "def assert_conversion(rest_framework_field, graphene_field, **kwargs):\n",
                "    graphene_type = _get_type(\n",
                "        rest_framework_field, help_text=\"Custom Help Text\", **kwargs\n",
                "    )\n",
                "    assert isinstance(graphene_type, graphene_field)\n",
                "\n",
                "    graphene_type_required = _get_type(\n",
                "        rest_framework_field, help_text=\"Custom Help Text\", required=True, **kwargs\n",
                "    )\n",
                "    assert isinstance(graphene_type_required, graphene_field)\n",
                "\n",
                "    return graphene_type\n"
            ]
        },
        {
            "cell_type": "markdown",
            "metadata": {},
            "source": []
        },
        {
            "cell_type": "code",
            "execution_count": null,
            "metadata": {},
            "outputs": [],
            "source": [
                "def test_should_unknown_rest_framework_field_raise_exception():\n",
                "    with raises(Exception) as excinfo:\n",
                "        convert_serializer_field(None)\n",
                "    assert \"Don't know how to convert the serializer field\" in str(excinfo.value)\n"
            ]
        },
        {
            "cell_type": "markdown",
            "metadata": {},
            "source": []
        },
        {
            "cell_type": "code",
            "execution_count": null,
            "metadata": {},
            "outputs": [],
            "source": [
                "def test_should_char_convert_string():\n",
                "    assert_conversion(serializers.CharField, graphene.String)\n"
            ]
        },
        {
            "cell_type": "markdown",
            "metadata": {},
            "source": []
        },
        {
            "cell_type": "code",
            "execution_count": null,
            "metadata": {},
            "outputs": [],
            "source": [
                "def test_should_email_convert_string():\n",
                "    assert_conversion(serializers.EmailField, graphene.String)\n"
            ]
        },
        {
            "cell_type": "markdown",
            "metadata": {},
            "source": []
        },
        {
            "cell_type": "code",
            "execution_count": null,
            "metadata": {},
            "outputs": [],
            "source": [
                "def test_should_slug_convert_string():\n",
                "    assert_conversion(serializers.SlugField, graphene.String)\n"
            ]
        },
        {
            "cell_type": "markdown",
            "metadata": {},
            "source": []
        },
        {
            "cell_type": "code",
            "execution_count": null,
            "metadata": {},
            "outputs": [],
            "source": [
                "def test_should_url_convert_string():\n",
                "    assert_conversion(serializers.URLField, graphene.String)\n"
            ]
        },
        {
            "cell_type": "markdown",
            "metadata": {},
            "source": []
        },
        {
            "cell_type": "code",
            "execution_count": null,
            "metadata": {},
            "outputs": [],
            "source": [
                "def test_should_choice_convert_enum():\n",
                "    field = assert_conversion(\n",
                "        serializers.ChoiceField,\n",
                "        graphene.Enum,\n",
                "        choices=[(\"h\", \"Hello\"), (\"w\", \"World\")],\n",
                "        source=\"word\",\n",
                "    )\n",
                "    assert field._meta.enum.__members__[\"H\"].value == \"h\"\n",
                "    assert field._meta.enum.__members__[\"H\"].description == \"Hello\"\n",
                "    assert field._meta.enum.__members__[\"W\"].value == \"w\"\n",
                "    assert field._meta.enum.__members__[\"W\"].description == \"World\"\n"
            ]
        },
        {
            "cell_type": "markdown",
            "metadata": {},
            "source": []
        },
        {
            "cell_type": "code",
            "execution_count": null,
            "metadata": {},
            "outputs": [],
            "source": [
                "def test_should_choice_convert_string_if_enum_disabled():\n",
                "    assert_conversion(\n",
                "        serializers.ChoiceField,\n",
                "        graphene.String,\n",
                "        choices=[(\"h\", \"Hello\"), (\"w\", \"World\")],\n",
                "        source=\"word\",\n",
                "        convert_choices_to_enum=False,\n",
                "    )\n"
            ]
        },
        {
            "cell_type": "markdown",
            "metadata": {},
            "source": []
        },
        {
            "cell_type": "code",
            "execution_count": null,
            "metadata": {},
            "outputs": [],
            "source": [
                "def test_should_base_field_convert_string():\n",
                "    assert_conversion(serializers.Field, graphene.String)\n"
            ]
        },
        {
            "cell_type": "markdown",
            "metadata": {},
            "source": []
        },
        {
            "cell_type": "code",
            "execution_count": null,
            "metadata": {},
            "outputs": [],
            "source": [
                "def test_should_regex_convert_string():\n",
                "    assert_conversion(serializers.RegexField, graphene.String, regex=\"[0-9]+\")\n"
            ]
        },
        {
            "cell_type": "markdown",
            "metadata": {},
            "source": []
        },
        {
            "cell_type": "code",
            "execution_count": null,
            "metadata": {},
            "outputs": [],
            "source": [
                "def test_should_uuid_convert_string():\n",
                "    if hasattr(serializers, \"UUIDField\"):\n",
                "        assert_conversion(serializers.UUIDField, graphene.String)\n"
            ]
        },
        {
            "cell_type": "markdown",
            "metadata": {},
            "source": []
        },
        {
            "cell_type": "code",
            "execution_count": null,
            "metadata": {},
            "outputs": [],
            "source": [
                "def test_should_model_convert_field():\n",
                "    class MyModelSerializer(serializers.ModelSerializer):\n",
                "        class Meta:\n",
                "            model = None\n",
                "            fields = \"__all__\"\n",
                "\n",
                "    assert_conversion(MyModelSerializer, graphene.Field, is_input=False)\n"
            ]
        },
        {
            "cell_type": "markdown",
            "metadata": {},
            "source": []
        },
        {
            "cell_type": "code",
            "execution_count": null,
            "metadata": {},
            "outputs": [],
            "source": [
                "def test_should_date_time_convert_datetime():\n",
                "    assert_conversion(serializers.DateTimeField, graphene.types.datetime.DateTime)\n"
            ]
        },
        {
            "cell_type": "markdown",
            "metadata": {},
            "source": []
        },
        {
            "cell_type": "code",
            "execution_count": null,
            "metadata": {},
            "outputs": [],
            "source": [
                "def test_should_date_convert_date():\n",
                "    assert_conversion(serializers.DateField, graphene.types.datetime.Date)\n"
            ]
        },
        {
            "cell_type": "markdown",
            "metadata": {},
            "source": []
        },
        {
            "cell_type": "code",
            "execution_count": null,
            "metadata": {},
            "outputs": [],
            "source": [
                "def test_should_time_convert_time():\n",
                "    assert_conversion(serializers.TimeField, graphene.types.datetime.Time)\n"
            ]
        },
        {
            "cell_type": "markdown",
            "metadata": {},
            "source": []
        },
        {
            "cell_type": "code",
            "execution_count": null,
            "metadata": {},
            "outputs": [],
            "source": [
                "def test_should_integer_convert_int():\n",
                "    assert_conversion(serializers.IntegerField, graphene.Int)\n"
            ]
        },
        {
            "cell_type": "markdown",
            "metadata": {},
            "source": []
        },
        {
            "cell_type": "code",
            "execution_count": null,
            "metadata": {},
            "outputs": [],
            "source": [
                "def test_should_boolean_convert_boolean():\n",
                "    assert_conversion(serializers.BooleanField, graphene.Boolean)\n"
            ]
        },
        {
            "cell_type": "markdown",
            "metadata": {},
            "source": []
        },
        {
            "cell_type": "code",
            "execution_count": null,
            "metadata": {},
            "outputs": [],
            "source": [
                "def test_should_float_convert_float():\n",
                "    assert_conversion(serializers.FloatField, graphene.Float)\n"
            ]
        },
        {
            "cell_type": "markdown",
            "metadata": {},
            "source": []
        },
        {
            "cell_type": "code",
            "execution_count": null,
            "metadata": {},
            "outputs": [],
            "source": [
                "def test_should_decimal_convert_decimal():\n",
                "    assert_conversion(\n",
                "        serializers.DecimalField, graphene.Decimal, max_digits=4, decimal_places=2\n",
                "    )\n"
            ]
        },
        {
            "cell_type": "markdown",
            "metadata": {},
            "source": []
        },
        {
            "cell_type": "code",
            "execution_count": null,
            "metadata": {},
            "outputs": [],
            "source": [
                "def test_should_list_convert_to_list():\n",
                "    class StringListField(serializers.ListField):\n",
                "        child = serializers.CharField()\n",
                "\n",
                "    field_a = assert_conversion(\n",
                "        serializers.ListField,\n",
                "        graphene.List,\n",
                "        child=serializers.IntegerField(min_value=0, max_value=100),\n",
                "    )\n",
                "\n",
                "    assert field_a.of_type == graphene.Int\n",
                "\n",
                "    field_b = assert_conversion(StringListField, graphene.List)\n",
                "\n",
                "    assert field_b.of_type == graphene.String\n"
            ]
        },
        {
            "cell_type": "markdown",
            "metadata": {},
            "source": []
        },
        {
            "cell_type": "code",
            "execution_count": null,
            "metadata": {},
            "outputs": [],
            "source": [
                "def test_should_list_serializer_convert_to_list():\n",
                "    class FooModel(models.Model):\n",
                "        pass\n",
                "\n",
                "    class ChildSerializer(serializers.ModelSerializer):\n",
                "        class Meta:\n",
                "            model = FooModel\n",
                "            fields = \"__all__\"\n",
                "\n",
                "    class ParentSerializer(serializers.ModelSerializer):\n",
                "        child = ChildSerializer(many=True)\n",
                "\n",
                "        class Meta:\n",
                "            model = FooModel\n",
                "            fields = \"__all__\"\n",
                "\n",
                "    converted_type = convert_serializer_field(\n",
                "        ParentSerializer().get_fields()[\"child\"], is_input=True\n",
                "    )\n",
                "    assert isinstance(converted_type, graphene.List)\n",
                "\n",
                "    converted_type = convert_serializer_field(\n",
                "        ParentSerializer().get_fields()[\"child\"], is_input=False\n",
                "    )\n",
                "    assert isinstance(converted_type, graphene.List)\n",
                "    assert converted_type.of_type is None\n"
            ]
        },
        {
            "cell_type": "markdown",
            "metadata": {},
            "source": []
        },
        {
            "cell_type": "code",
            "execution_count": null,
            "metadata": {},
            "outputs": [],
            "source": [
                "def test_should_dict_convert_dict():\n",
                "    assert_conversion(serializers.DictField, DictType)\n"
            ]
        },
        {
            "cell_type": "markdown",
            "metadata": {},
            "source": []
        },
        {
            "cell_type": "code",
            "execution_count": null,
            "metadata": {},
            "outputs": [],
            "source": [
                "def test_should_duration_convert_string():\n",
                "    assert_conversion(serializers.DurationField, graphene.String)\n"
            ]
        },
        {
            "cell_type": "markdown",
            "metadata": {},
            "source": []
        },
        {
            "cell_type": "code",
            "execution_count": null,
            "metadata": {},
            "outputs": [],
            "source": [
                "def test_should_file_convert_string():\n",
                "    assert_conversion(serializers.FileField, graphene.String)\n"
            ]
        },
        {
            "cell_type": "markdown",
            "metadata": {},
            "source": []
        },
        {
            "cell_type": "code",
            "execution_count": null,
            "metadata": {},
            "outputs": [],
            "source": [
                "def test_should_filepath_convert_string():\n",
                "    assert_conversion(serializers.FilePathField, graphene.Enum, path=\"/\")\n"
            ]
        },
        {
            "cell_type": "markdown",
            "metadata": {},
            "source": []
        },
        {
            "cell_type": "code",
            "execution_count": null,
            "metadata": {},
            "outputs": [],
            "source": [
                "def test_should_ip_convert_string():\n",
                "    assert_conversion(serializers.IPAddressField, graphene.String)\n"
            ]
        },
        {
            "cell_type": "markdown",
            "metadata": {},
            "source": []
        },
        {
            "cell_type": "code",
            "execution_count": null,
            "metadata": {},
            "outputs": [],
            "source": [
                "def test_should_image_convert_string():\n",
                "    assert_conversion(serializers.ImageField, graphene.String)\n"
            ]
        },
        {
            "cell_type": "markdown",
            "metadata": {},
            "source": []
        },
        {
            "cell_type": "code",
            "execution_count": null,
            "metadata": {},
            "outputs": [],
            "source": [
                "def test_should_json_convert_jsonstring():\n",
                "    assert_conversion(serializers.JSONField, graphene.types.json.JSONString)\n"
            ]
        },
        {
            "cell_type": "markdown",
            "metadata": {},
            "source": []
        },
        {
            "cell_type": "code",
            "execution_count": null,
            "metadata": {},
            "outputs": [],
            "source": [
                "def test_should_multiplechoicefield_convert_to_list_of_enum():\n",
                "    field = assert_conversion(\n",
                "        serializers.MultipleChoiceField, graphene.List, choices=[1, 2, 3]\n",
                "    )\n",
                "\n",
                "    assert issubclass(field.of_type, graphene.Enum)\n",
                "\n"
            ]
        },
        {
            "cell_type": "markdown",
            "metadata": {},
            "source": []
        }
    ],
    "metadata": {
        "language_info": {
            "name": "python"
        }
    },
    "nbformat": 4,
    "nbformat_minor": 2
}