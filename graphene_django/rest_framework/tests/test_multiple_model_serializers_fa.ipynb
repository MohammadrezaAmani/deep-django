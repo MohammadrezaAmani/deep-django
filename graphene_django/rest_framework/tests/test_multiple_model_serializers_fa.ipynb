{
    "cells": [
        {
            "cell_type": "code",
            "execution_count": null,
            "metadata": {},
            "outputs": [],
            "source": [
                "import graphene\n",
                "from django.db import models\n",
                "from graphene import Schema\n",
                "\n",
                "from graphene_django import DjangoObjectType\n",
                "from graphene_django.rest_framework.mutation import SerializerMutation\n",
                "from rest_framework import serializers\n"
            ]
        },
        {
            "cell_type": "markdown",
            "metadata": {},
            "source": []
        },
        {
            "cell_type": "code",
            "execution_count": null,
            "metadata": {},
            "outputs": [],
            "source": [
                "class MyFakeChildModel(models.Model):\n",
                "    name = models.CharField(max_length=50)\n",
                "    created = models.DateTimeField(auto_now_add=True)\n"
            ]
        },
        {
            "cell_type": "markdown",
            "metadata": {},
            "source": []
        },
        {
            "cell_type": "code",
            "execution_count": null,
            "metadata": {},
            "outputs": [],
            "source": [
                "class MyFakeParentModel(models.Model):\n",
                "    name = models.CharField(max_length=50)\n",
                "    created = models.DateTimeField(auto_now_add=True)\n",
                "    child1 = models.OneToOneField(\n",
                "        MyFakeChildModel, related_name=\"parent1\", on_delete=models.CASCADE\n",
                "    )\n",
                "    child2 = models.OneToOneField(\n",
                "        MyFakeChildModel, related_name=\"parent2\", on_delete=models.CASCADE\n",
                "    )\n"
            ]
        },
        {
            "cell_type": "markdown",
            "metadata": {},
            "source": []
        },
        {
            "cell_type": "code",
            "execution_count": null,
            "metadata": {},
            "outputs": [],
            "source": [
                "class ParentType(DjangoObjectType):\n",
                "    class Meta:\n",
                "        model = MyFakeParentModel\n",
                "        interfaces = (graphene.relay.Node,)\n",
                "        fields = \"__all__\"\n"
            ]
        },
        {
            "cell_type": "markdown",
            "metadata": {},
            "source": []
        },
        {
            "cell_type": "code",
            "execution_count": null,
            "metadata": {},
            "outputs": [],
            "source": [
                "class ChildType(DjangoObjectType):\n",
                "    class Meta:\n",
                "        model = MyFakeChildModel\n",
                "        interfaces = (graphene.relay.Node,)\n",
                "        fields = \"__all__\"\n"
            ]
        },
        {
            "cell_type": "markdown",
            "metadata": {},
            "source": []
        },
        {
            "cell_type": "code",
            "execution_count": null,
            "metadata": {},
            "outputs": [],
            "source": [
                "class MyModelChildSerializer(serializers.ModelSerializer):\n",
                "    class Meta:\n",
                "        model = MyFakeChildModel\n",
                "        fields = \"__all__\"\n"
            ]
        },
        {
            "cell_type": "markdown",
            "metadata": {},
            "source": []
        },
        {
            "cell_type": "code",
            "execution_count": null,
            "metadata": {},
            "outputs": [],
            "source": [
                "class MyModelParentSerializer(serializers.ModelSerializer):\n",
                "    child1 = MyModelChildSerializer()\n",
                "    child2 = MyModelChildSerializer()\n",
                "\n",
                "    class Meta:\n",
                "        model = MyFakeParentModel\n",
                "        fields = \"__all__\"\n"
            ]
        },
        {
            "cell_type": "markdown",
            "metadata": {},
            "source": []
        },
        {
            "cell_type": "code",
            "execution_count": null,
            "metadata": {},
            "outputs": [],
            "source": [
                "class MyParentModelMutation(SerializerMutation):\n",
                "    class Meta:\n",
                "        serializer_class = MyModelParentSerializer\n"
            ]
        },
        {
            "cell_type": "markdown",
            "metadata": {},
            "source": []
        },
        {
            "cell_type": "code",
            "execution_count": null,
            "metadata": {},
            "outputs": [],
            "source": [
                "class Mutation(graphene.ObjectType):\n",
                "    createParentWithChild = MyParentModelMutation.Field()\n"
            ]
        },
        {
            "cell_type": "markdown",
            "metadata": {},
            "source": []
        },
        {
            "cell_type": "code",
            "execution_count": null,
            "metadata": {},
            "outputs": [],
            "source": [
                "def test_create_schema():\n",
                "    schema = Schema(mutation=Mutation, types=[ParentType, ChildType])\n",
                "    assert schema\n",
                "\n"
            ]
        },
        {
            "cell_type": "markdown",
            "metadata": {},
            "source": []
        }
    ],
    "metadata": {
        "language_info": {
            "name": "python"
        }
    },
    "nbformat": 4,
    "nbformat_minor": 2
}