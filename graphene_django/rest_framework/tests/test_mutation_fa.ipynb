{
    "cells": [
        {
            "cell_type": "code",
            "execution_count": null,
            "metadata": {},
            "outputs": [],
            "source": [
                "import datetime\n",
                "\n",
                "from graphene import Field, ResolveInfo, String\n",
                "from graphene.types.inputobjecttype import InputObjectType\n",
                "from pytest import raises\n",
                "\n",
                "from rest_framework import serializers\n",
                "\n",
                "from ...types import DjangoObjectType\n",
                "from ..models import (\n",
                "    MyFakeModel,\n",
                "    MyFakeModelWithChoiceField,\n",
                "    MyFakeModelWithDate,\n",
                "    MyFakeModelWithPassword,\n",
                ")\n",
                "from ..mutation import SerializerMutation\n"
            ]
        },
        {
            "cell_type": "markdown",
            "metadata": {},
            "source": []
        },
        {
            "cell_type": "code",
            "execution_count": null,
            "metadata": {},
            "outputs": [],
            "source": [
                "def mock_info():\n",
                "    return ResolveInfo(\n",
                "        None,\n",
                "        None,\n",
                "        None,\n",
                "        None,\n",
                "        path=None,\n",
                "        schema=None,\n",
                "        fragments=None,\n",
                "        root_value=None,\n",
                "        operation=None,\n",
                "        variable_values=None,\n",
                "        context=None,\n",
                "        is_awaitable=None,\n",
                "    )\n"
            ]
        },
        {
            "cell_type": "markdown",
            "metadata": {},
            "source": []
        },
        {
            "cell_type": "code",
            "execution_count": null,
            "metadata": {},
            "outputs": [],
            "source": [
                "class MyModelSerializer(serializers.ModelSerializer):\n",
                "    class Meta:\n",
                "        model = MyFakeModel\n",
                "        fields = \"__all__\"\n"
            ]
        },
        {
            "cell_type": "markdown",
            "metadata": {},
            "source": []
        },
        {
            "cell_type": "code",
            "execution_count": null,
            "metadata": {},
            "outputs": [],
            "source": [
                "class MyModelSerializerWithMethod(serializers.ModelSerializer):\n",
                "    days_since_last_edit = serializers.SerializerMethodField()\n",
                "\n",
                "    class Meta:\n",
                "        model = MyFakeModelWithDate\n",
                "        fields = \"__all__\"\n",
                "\n",
                "    def get_days_since_last_edit(self, obj):\n",
                "        now = datetime.date(2020, 1, 8)\n",
                "        return (now - obj.last_edited).days\n"
            ]
        },
        {
            "cell_type": "markdown",
            "metadata": {},
            "source": []
        },
        {
            "cell_type": "code",
            "execution_count": null,
            "metadata": {},
            "outputs": [],
            "source": [
                "class MyModelMutation(SerializerMutation):\n",
                "    class Meta:\n",
                "        serializer_class = MyModelSerializer\n"
            ]
        },
        {
            "cell_type": "markdown",
            "metadata": {},
            "source": []
        },
        {
            "cell_type": "code",
            "execution_count": null,
            "metadata": {},
            "outputs": [],
            "source": [
                "class MySerializer(serializers.Serializer):\n",
                "    text = serializers.CharField()\n",
                "    model = MyModelSerializer()\n",
                "\n",
                "    def create(self, validated_data):\n",
                "        return validated_data\n"
            ]
        },
        {
            "cell_type": "markdown",
            "metadata": {},
            "source": []
        },
        {
            "cell_type": "code",
            "execution_count": null,
            "metadata": {},
            "outputs": [],
            "source": [
                "def test_needs_serializer_class():\n",
                "    with raises(Exception) as exc:\n",
                "\n",
                "        class MyMutation(SerializerMutation):\n",
                "            pass\n",
                "\n",
                "    assert str(exc.value) == \"serializer_class is required for the SerializerMutation\"\n"
            ]
        },
        {
            "cell_type": "markdown",
            "metadata": {},
            "source": []
        },
        {
            "cell_type": "code",
            "execution_count": null,
            "metadata": {},
            "outputs": [],
            "source": [
                "def test_has_fields():\n",
                "    class MyMutation(SerializerMutation):\n",
                "        class Meta:\n",
                "            serializer_class = MySerializer\n",
                "\n",
                "    assert \"text\" in MyMutation._meta.fields\n",
                "    assert \"model\" in MyMutation._meta.fields\n",
                "    assert \"errors\" in MyMutation._meta.fields\n"
            ]
        },
        {
            "cell_type": "markdown",
            "metadata": {},
            "source": []
        },
        {
            "cell_type": "code",
            "execution_count": null,
            "metadata": {},
            "outputs": [],
            "source": [
                "def test_has_input_fields():\n",
                "    class MyMutation(SerializerMutation):\n",
                "        class Meta:\n",
                "            serializer_class = MySerializer\n",
                "\n",
                "    assert \"text\" in MyMutation.Input._meta.fields\n",
                "    assert \"model\" in MyMutation.Input._meta.fields\n"
            ]
        },
        {
            "cell_type": "markdown",
            "metadata": {},
            "source": []
        },
        {
            "cell_type": "code",
            "execution_count": null,
            "metadata": {},
            "outputs": [],
            "source": [
                "def test_exclude_fields():\n",
                "    class MyMutation(SerializerMutation):\n",
                "        class Meta:\n",
                "            serializer_class = MyModelSerializer\n",
                "            exclude_fields = [\"created\"]\n",
                "\n",
                "    assert \"cool_name\" in MyMutation._meta.fields\n",
                "    assert \"created\" not in MyMutation._meta.fields\n",
                "    assert \"errors\" in MyMutation._meta.fields\n",
                "    assert \"cool_name\" in MyMutation.Input._meta.fields\n",
                "    assert \"created\" not in MyMutation.Input._meta.fields\n"
            ]
        },
        {
            "cell_type": "markdown",
            "metadata": {},
            "source": []
        },
        {
            "cell_type": "code",
            "execution_count": null,
            "metadata": {},
            "outputs": [],
            "source": [
                "def test_model_serializer_optional_fields():\n",
                "    class MyMutation(SerializerMutation):\n",
                "        class Meta:\n",
                "            serializer_class = MyModelSerializer\n",
                "            optional_fields = (\"cool_name\",)\n",
                "\n",
                "    assert \"cool_name\" in MyMutation.Input._meta.fields\n",
                "    assert MyMutation.Input._meta.fields[\"cool_name\"].type == String\n"
            ]
        },
        {
            "cell_type": "markdown",
            "metadata": {},
            "source": []
        },
        {
            "cell_type": "code",
            "execution_count": null,
            "metadata": {},
            "outputs": [],
            "source": [
                "def test_write_only_field():\n",
                "    class WriteOnlyFieldModelSerializer(serializers.ModelSerializer):\n",
                "        password = serializers.CharField(write_only=True)\n",
                "\n",
                "        class Meta:\n",
                "            model = MyFakeModelWithPassword\n",
                "            fields = [\"cool_name\", \"password\"]\n",
                "\n",
                "    class MyMutation(SerializerMutation):\n",
                "        class Meta:\n",
                "            serializer_class = WriteOnlyFieldModelSerializer\n",
                "\n",
                "    result = MyMutation.mutate_and_get_payload(\n",
                "        None, mock_info(), **{\"cool_name\": \"New Narf\", \"password\": \"admin\"}\n",
                "    )\n",
                "\n",
                "    assert hasattr(result, \"cool_name\")\n",
                "    assert not hasattr(\n",
                "        result, \"password\"\n",
                "    ), \"'password' is write_only field and shouldn't be visible\"\n"
            ]
        },
        {
            "cell_type": "markdown",
            "metadata": {},
            "source": []
        },
        {
            "cell_type": "code",
            "execution_count": null,
            "metadata": {},
            "outputs": [],
            "source": [
                "def test_write_only_field_using_extra_kwargs():\n",
                "    class WriteOnlyFieldModelSerializer(serializers.ModelSerializer):\n",
                "        class Meta:\n",
                "            model = MyFakeModelWithPassword\n",
                "            fields = [\"cool_name\", \"password\"]\n",
                "            extra_kwargs = {\"password\": {\"write_only\": True}}\n",
                "\n",
                "    class MyMutation(SerializerMutation):\n",
                "        class Meta:\n",
                "            serializer_class = WriteOnlyFieldModelSerializer\n",
                "\n",
                "    result = MyMutation.mutate_and_get_payload(\n",
                "        None, mock_info(), **{\"cool_name\": \"New Narf\", \"password\": \"admin\"}\n",
                "    )\n",
                "\n",
                "    assert hasattr(result, \"cool_name\")\n",
                "    assert not hasattr(\n",
                "        result, \"password\"\n",
                "    ), \"'password' is write_only field and shouldn't be visible\"\n"
            ]
        },
        {
            "cell_type": "markdown",
            "metadata": {},
            "source": []
        },
        {
            "cell_type": "code",
            "execution_count": null,
            "metadata": {},
            "outputs": [],
            "source": [
                "def test_read_only_fields():\n",
                "    class ReadOnlyFieldModelSerializer(serializers.ModelSerializer):\n",
                "        id = serializers.CharField(read_only=True)\n",
                "        cool_name = serializers.CharField(read_only=True)\n",
                "\n",
                "        class Meta:\n",
                "            model = MyFakeModelWithPassword\n",
                "            lookup_field = \"id\"\n",
                "            fields = [\"id\", \"cool_name\", \"password\"]\n",
                "\n",
                "    class MyMutation(SerializerMutation):\n",
                "        class Meta:\n",
                "            serializer_class = ReadOnlyFieldModelSerializer\n",
                "\n",
                "    assert \"password\" in MyMutation.Input._meta.fields\n",
                "    assert \"id\" in MyMutation.Input._meta.fields\n",
                "    assert (\n",
                "        \"cool_name\" not in MyMutation.Input._meta.fields\n",
                "    ), \"'cool_name' is read_only field and shouldn't be on arguments\"\n"
            ]
        },
        {
            "cell_type": "markdown",
            "metadata": {},
            "source": []
        },
        {
            "cell_type": "code",
            "execution_count": null,
            "metadata": {},
            "outputs": [],
            "source": [
                "def test_hidden_fields():\n",
                "    class SerializerWithHiddenField(serializers.Serializer):\n",
                "        cool_name = serializers.CharField()\n",
                "        user = serializers.HiddenField(default=serializers.CurrentUserDefault())\n",
                "\n",
                "    class MyMutation(SerializerMutation):\n",
                "        class Meta:\n",
                "            serializer_class = SerializerWithHiddenField\n",
                "\n",
                "    assert \"cool_name\" in MyMutation.Input._meta.fields\n",
                "    assert (\n",
                "        \"user\" not in MyMutation.Input._meta.fields\n",
                "    ), \"'user' is hidden field and shouldn't be on arguments\"\n"
            ]
        },
        {
            "cell_type": "markdown",
            "metadata": {},
            "source": []
        },
        {
            "cell_type": "code",
            "execution_count": null,
            "metadata": {},
            "outputs": [],
            "source": [
                "def test_nested_model():\n",
                "    class MyFakeModelGrapheneType(DjangoObjectType):\n",
                "        class Meta:\n",
                "            model = MyFakeModel\n",
                "            fields = \"__all__\"\n",
                "\n",
                "    class MyMutation(SerializerMutation):\n",
                "        class Meta:\n",
                "            serializer_class = MySerializer\n",
                "\n",
                "    model_field = MyMutation._meta.fields[\"model\"]\n",
                "    assert isinstance(model_field, Field)\n",
                "    assert model_field.type == MyFakeModelGrapheneType\n",
                "\n",
                "    model_input = MyMutation.Input._meta.fields[\"model\"]\n",
                "    model_input_type = model_input._type.of_type\n",
                "    assert issubclass(model_input_type, InputObjectType)\n",
                "    assert \"cool_name\" in model_input_type._meta.fields\n",
                "    assert \"created\" in model_input_type._meta.fields\n"
            ]
        },
        {
            "cell_type": "markdown",
            "metadata": {},
            "source": []
        },
        {
            "cell_type": "code",
            "execution_count": null,
            "metadata": {},
            "outputs": [],
            "source": [
                "def test_mutate_and_get_payload_success():\n",
                "    class MyMutation(SerializerMutation):\n",
                "        class Meta:\n",
                "            serializer_class = MySerializer\n",
                "\n",
                "    result = MyMutation.mutate_and_get_payload(\n",
                "        None, mock_info(), **{\"text\": \"value\", \"model\": {\"cool_name\": \"other_value\"}}\n",
                "    )\n",
                "    assert result.errors is None\n"
            ]
        },
        {
            "cell_type": "markdown",
            "metadata": {},
            "source": []
        },
        {
            "cell_type": "code",
            "execution_count": null,
            "metadata": {},
            "outputs": [],
            "source": [
                "def test_model_add_mutate_and_get_payload_success():\n",
                "    result = MyModelMutation.mutate_and_get_payload(\n",
                "        None, mock_info(), **{\"cool_name\": \"Narf\"}\n",
                "    )\n",
                "    assert result.errors is None\n",
                "    assert result.cool_name == \"Narf\"\n",
                "    assert isinstance(result.created, datetime.datetime)\n"
            ]
        },
        {
            "cell_type": "markdown",
            "metadata": {},
            "source": []
        },
        {
            "cell_type": "code",
            "execution_count": null,
            "metadata": {},
            "outputs": [],
            "source": [
                "def test_model_update_mutate_and_get_payload_success():\n",
                "    instance = MyFakeModel.objects.create(cool_name=\"Narf\")\n",
                "    result = MyModelMutation.mutate_and_get_payload(\n",
                "        None, mock_info(), **{\"id\": instance.id, \"cool_name\": \"New Narf\"}\n",
                "    )\n",
                "    assert result.errors is None\n",
                "    assert result.cool_name == \"New Narf\"\n"
            ]
        },
        {
            "cell_type": "markdown",
            "metadata": {},
            "source": []
        },
        {
            "cell_type": "code",
            "execution_count": null,
            "metadata": {},
            "outputs": [],
            "source": [
                "def test_model_partial_update_mutate_and_get_payload_success():\n",
                "    instance = MyFakeModel.objects.create(cool_name=\"Narf\")\n",
                "    result = MyModelMutation.mutate_and_get_payload(\n",
                "        None, mock_info(), **{\"id\": instance.id}\n",
                "    )\n",
                "    assert result.errors is None\n",
                "    assert result.cool_name == \"Narf\"\n"
            ]
        },
        {
            "cell_type": "markdown",
            "metadata": {},
            "source": []
        },
        {
            "cell_type": "code",
            "execution_count": null,
            "metadata": {},
            "outputs": [],
            "source": [
                "def test_model_invalid_update_mutate_and_get_payload_success():\n",
                "    class InvalidModelMutation(SerializerMutation):\n",
                "        class Meta:\n",
                "            serializer_class = MyModelSerializer\n",
                "            model_operations = [\"update\"]\n",
                "\n",
                "    with raises(Exception) as exc:\n",
                "        InvalidModelMutation.mutate_and_get_payload(\n",
                "            None, mock_info(), **{\"cool_name\": \"Narf\"}\n",
                "        )\n",
                "\n",
                "    assert '\"id\" required' in str(exc.value)\n"
            ]
        },
        {
            "cell_type": "markdown",
            "metadata": {},
            "source": []
        },
        {
            "cell_type": "code",
            "execution_count": null,
            "metadata": {},
            "outputs": [],
            "source": [
                "def test_perform_mutate_success():\n",
                "    class MyMethodMutation(SerializerMutation):\n",
                "        class Meta:\n",
                "            serializer_class = MyModelSerializerWithMethod\n",
                "\n",
                "    result = MyMethodMutation.mutate_and_get_payload(\n",
                "        None,\n",
                "        mock_info(),\n",
                "        **{\"cool_name\": \"Narf\", \"last_edited\": datetime.date(2020, 1, 4)},\n",
                "    )\n",
                "\n",
                "    assert result.errors is None\n",
                "    assert result.cool_name == \"Narf\"\n",
                "    assert result.days_since_last_edit == 4\n"
            ]
        },
        {
            "cell_type": "markdown",
            "metadata": {},
            "source": []
        },
        {
            "cell_type": "code",
            "execution_count": null,
            "metadata": {},
            "outputs": [],
            "source": [
                "def test_perform_mutate_success_with_enum_choice_field():\n",
                "    class ListViewChoiceFieldSerializer(serializers.ModelSerializer):\n",
                "        choice_type = serializers.ChoiceField(\n",
                "            choices=[(x.name, x.value) for x in MyFakeModelWithChoiceField.ChoiceType],\n",
                "            required=False,\n",
                "        )\n",
                "\n",
                "        class Meta:\n",
                "            model = MyFakeModelWithChoiceField\n",
                "            fields = \"__all__\"\n",
                "\n",
                "    class SomeCreateSerializerMutation(SerializerMutation):\n",
                "        class Meta:\n",
                "            serializer_class = ListViewChoiceFieldSerializer\n",
                "\n",
                "    choice_type = {\n",
                "        \"choice_type\": SomeCreateSerializerMutation.Input.choice_type.type.get(\"ASDF\")\n",
                "    }\n",
                "    name = MyFakeModelWithChoiceField.ChoiceType.ASDF.name\n",
                "    result = SomeCreateSerializerMutation.mutate_and_get_payload(\n",
                "        None, mock_info(), **choice_type\n",
                "    )\n",
                "    assert result.errors is None\n",
                "    assert result.choice_type == name\n",
                "    kwargs = SomeCreateSerializerMutation.get_serializer_kwargs(\n",
                "        None, mock_info(), **choice_type\n",
                "    )\n",
                "    assert kwargs[\"data\"][\"choice_type\"] == name\n",
                "    assert 1 == MyFakeModelWithChoiceField.objects.count()\n",
                "    item = MyFakeModelWithChoiceField.objects.first()\n",
                "    assert item.choice_type == name\n"
            ]
        },
        {
            "cell_type": "markdown",
            "metadata": {},
            "source": []
        },
        {
            "cell_type": "code",
            "execution_count": null,
            "metadata": {},
            "outputs": [],
            "source": [
                "def test_mutate_and_get_payload_error():\n",
                "    class MyMutation(SerializerMutation):\n",
                "        class Meta:\n",
                "            serializer_class = MySerializer\n",
                "\n",
                "    # missing required fields\n",
                "    result = MyMutation.mutate_and_get_payload(None, mock_info(), **{})\n",
                "    assert len(result.errors) > 0\n"
            ]
        },
        {
            "cell_type": "markdown",
            "metadata": {},
            "source": []
        },
        {
            "cell_type": "code",
            "execution_count": null,
            "metadata": {},
            "outputs": [],
            "source": [
                "def test_model_mutate_and_get_payload_error():\n",
                "    # missing required fields\n",
                "    result = MyModelMutation.mutate_and_get_payload(None, mock_info(), **{})\n",
                "    assert len(result.errors) > 0\n"
            ]
        },
        {
            "cell_type": "markdown",
            "metadata": {},
            "source": []
        },
        {
            "cell_type": "code",
            "execution_count": null,
            "metadata": {},
            "outputs": [],
            "source": [
                "def test_mutation_error_camelcased(graphene_settings):\n",
                "    graphene_settings.CAMELCASE_ERRORS = True\n",
                "    result = MyModelMutation.mutate_and_get_payload(None, mock_info(), **{})\n",
                "    assert result.errors[0].field == \"coolName\"\n"
            ]
        },
        {
            "cell_type": "markdown",
            "metadata": {},
            "source": []
        },
        {
            "cell_type": "code",
            "execution_count": null,
            "metadata": {},
            "outputs": [],
            "source": [
                "def test_invalid_serializer_operations():\n",
                "    with raises(Exception) as exc:\n",
                "\n",
                "        class MyModelMutation(SerializerMutation):\n",
                "            class Meta:\n",
                "                serializer_class = MyModelSerializer\n",
                "                model_operations = [\"Add\"]\n",
                "\n",
                "    assert \"model_operations\" in str(exc.value)\n",
                "\n"
            ]
        },
        {
            "cell_type": "markdown",
            "metadata": {},
            "source": []
        }
    ],
    "metadata": {
        "language_info": {
            "name": "python"
        }
    },
    "nbformat": 4,
    "nbformat_minor": 2
}