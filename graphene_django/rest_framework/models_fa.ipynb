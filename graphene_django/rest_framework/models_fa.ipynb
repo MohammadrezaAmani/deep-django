{
    "cells": [
        {
            "cell_type": "code",
            "execution_count": null,
            "metadata": {},
            "outputs": [],
            "source": [
                "from django.db import models\n"
            ]
        },
        {
            "cell_type": "markdown",
            "metadata": {},
            "source": []
        },
        {
            "cell_type": "code",
            "execution_count": null,
            "metadata": {},
            "outputs": [],
            "source": [
                "class MyFakeModel(models.Model):\n",
                "    cool_name = models.CharField(max_length=50)\n",
                "    created = models.DateTimeField(auto_now_add=True)\n"
            ]
        },
        {
            "cell_type": "markdown",
            "metadata": {},
            "source": []
        },
        {
            "cell_type": "code",
            "execution_count": null,
            "metadata": {},
            "outputs": [],
            "source": [
                "class MyFakeModelWithPassword(models.Model):\n",
                "    cool_name = models.CharField(max_length=50)\n",
                "    password = models.CharField(max_length=50)\n"
            ]
        },
        {
            "cell_type": "markdown",
            "metadata": {},
            "source": []
        },
        {
            "cell_type": "code",
            "execution_count": null,
            "metadata": {},
            "outputs": [],
            "source": [
                "class MyFakeModelWithDate(models.Model):\n",
                "    cool_name = models.CharField(max_length=50)\n",
                "    last_edited = models.DateField()\n"
            ]
        },
        {
            "cell_type": "markdown",
            "metadata": {},
            "source": []
        },
        {
            "cell_type": "code",
            "execution_count": null,
            "metadata": {},
            "outputs": [],
            "source": [
                "class MyFakeModelWithChoiceField(models.Model):\n",
                "    class ChoiceType(models.Choices):\n",
                "        ASDF = \"asdf\"\n",
                "        HI = \"hi\"\n",
                "\n",
                "    choice_type = models.CharField(\n",
                "        max_length=4,\n",
                "        default=ChoiceType.HI.name,\n",
                "    )\n",
                "\n"
            ]
        },
        {
            "cell_type": "markdown",
            "metadata": {},
            "source": []
        }
    ],
    "metadata": {
        "language_info": {
            "name": "python"
        }
    },
    "nbformat": 4,
    "nbformat_minor": 2
}