{
    "cells": [
        {
            "cell_type": "code",
            "execution_count": null,
            "metadata": {},
            "outputs": [],
            "source": [
                "from functools import singledispatch\n",
                "\n",
                "import graphene\n",
                "from django.core.exceptions import ImproperlyConfigured\n",
                "\n",
                "from rest_framework import serializers\n",
                "\n",
                "from ..converter import convert_choices_to_named_enum_with_descriptions\n",
                "from ..registry import get_global_registry\n",
                "from .types import DictType\n"
            ]
        },
        {
            "cell_type": "markdown",
            "metadata": {},
            "source": []
        },
        {
            "cell_type": "code",
            "execution_count": null,
            "metadata": {},
            "outputs": [],
            "source": [
                "@singledispatch\n",
                "def get_graphene_type_from_serializer_field(field):\n",
                "    raise ImproperlyConfigured(\n",
                "        f\"Don't know how to convert the serializer field {field} ({field.__class__}) \"\n",
                "        \"to Graphene type\"\n",
                "    )\n"
            ]
        },
        {
            "cell_type": "markdown",
            "metadata": {},
            "source": []
        },
        {
            "cell_type": "code",
            "execution_count": null,
            "metadata": {},
            "outputs": [],
            "source": [
                "def convert_serializer_field(\n",
                "    field, is_input=True, convert_choices_to_enum=True, force_optional=False\n",
                "):\n",
                "    \"\"\"\n",
                "    Converts a django rest frameworks field to a graphql field\n",
                "    and marks the field as required if we are creating an input type\n",
                "    and the field itself is required\n",
                "    \"\"\"\n",
                "\n",
                "    if isinstance(field, serializers.ChoiceField) and not convert_choices_to_enum:\n",
                "        graphql_type = graphene.String\n",
                "    else:\n",
                "        graphql_type = get_graphene_type_from_serializer_field(field)\n",
                "\n",
                "    args = []\n",
                "    kwargs = {\n",
                "        \"description\": field.help_text,\n",
                "        \"required\": is_input and field.required and not force_optional,\n",
                "    }\n",
                "\n",
                "    # if it is a tuple or a list it means that we are returning\n",
                "    # the graphql type and the child type\n",
                "    if isinstance(graphql_type, (list, tuple)):\n",
                "        kwargs[\"of_type\"] = graphql_type[1]\n",
                "        graphql_type = graphql_type[0]\n",
                "\n",
                "    if isinstance(field, serializers.ModelSerializer):\n",
                "        if is_input:\n",
                "            graphql_type = convert_serializer_to_input_type(field.__class__)\n",
                "        else:\n",
                "            global_registry = get_global_registry()\n",
                "            field_model = field.Meta.model\n",
                "            args = [global_registry.get_type_for_model(field_model)]\n",
                "    elif isinstance(field, serializers.ListSerializer):\n",
                "        field = field.child\n",
                "        if is_input:\n",
                "            kwargs[\"of_type\"] = convert_serializer_to_input_type(field.__class__)\n",
                "        else:\n",
                "            del kwargs[\"of_type\"]\n",
                "            global_registry = get_global_registry()\n",
                "            field_model = field.Meta.model\n",
                "            args = [global_registry.get_type_for_model(field_model)]\n",
                "\n",
                "    return graphql_type(*args, **kwargs)\n"
            ]
        },
        {
            "cell_type": "markdown",
            "metadata": {},
            "source": []
        },
        {
            "cell_type": "code",
            "execution_count": null,
            "metadata": {},
            "outputs": [],
            "source": [
                "def convert_serializer_to_input_type(serializer_class):\n",
                "    cached_type = convert_serializer_to_input_type.cache.get(\n",
                "        serializer_class.__name__, None\n",
                "    )\n",
                "    if cached_type:\n",
                "        return cached_type\n",
                "    serializer = serializer_class()\n",
                "\n",
                "    items = {\n",
                "        name: convert_serializer_field(field)\n",
                "        for name, field in serializer.fields.items()\n",
                "    }\n",
                "    ret_type = type(\n",
                "        f\"{serializer.__class__.__name__}Input\",\n",
                "        (graphene.InputObjectType,),\n",
                "        items,\n",
                "    )\n",
                "    convert_serializer_to_input_type.cache[serializer_class.__name__] = ret_type\n",
                "    return ret_type\n"
            ]
        },
        {
            "cell_type": "markdown",
            "metadata": {},
            "source": []
        },
        {
            "cell_type": "code",
            "execution_count": null,
            "metadata": {},
            "outputs": [],
            "source": [
                "convert_serializer_to_input_type.cache = {}\n"
            ]
        },
        {
            "cell_type": "markdown",
            "metadata": {},
            "source": []
        },
        {
            "cell_type": "code",
            "execution_count": null,
            "metadata": {},
            "outputs": [],
            "source": [
                "@get_graphene_type_from_serializer_field.register(serializers.Field)\n",
                "def convert_serializer_field_to_string(field):\n",
                "    return graphene.String\n"
            ]
        },
        {
            "cell_type": "markdown",
            "metadata": {},
            "source": []
        },
        {
            "cell_type": "code",
            "execution_count": null,
            "metadata": {},
            "outputs": [],
            "source": [
                "@get_graphene_type_from_serializer_field.register(serializers.ModelSerializer)\n",
                "def convert_serializer_to_field(field):\n",
                "    return graphene.Field\n"
            ]
        },
        {
            "cell_type": "markdown",
            "metadata": {},
            "source": []
        },
        {
            "cell_type": "code",
            "execution_count": null,
            "metadata": {},
            "outputs": [],
            "source": [
                "@get_graphene_type_from_serializer_field.register(serializers.ListSerializer)\n",
                "def convert_list_serializer_to_field(field):\n",
                "    child_type = get_graphene_type_from_serializer_field(field.child)\n",
                "    return (graphene.List, child_type)\n"
            ]
        },
        {
            "cell_type": "markdown",
            "metadata": {},
            "source": []
        },
        {
            "cell_type": "code",
            "execution_count": null,
            "metadata": {},
            "outputs": [],
            "source": [
                "@get_graphene_type_from_serializer_field.register(serializers.IntegerField)\n",
                "def convert_serializer_field_to_int(field):\n",
                "    return graphene.Int\n"
            ]
        },
        {
            "cell_type": "markdown",
            "metadata": {},
            "source": []
        },
        {
            "cell_type": "code",
            "execution_count": null,
            "metadata": {},
            "outputs": [],
            "source": [
                "@get_graphene_type_from_serializer_field.register(serializers.BooleanField)\n",
                "def convert_serializer_field_to_bool(field):\n",
                "    return graphene.Boolean\n"
            ]
        },
        {
            "cell_type": "markdown",
            "metadata": {},
            "source": []
        },
        {
            "cell_type": "code",
            "execution_count": null,
            "metadata": {},
            "outputs": [],
            "source": [
                "@get_graphene_type_from_serializer_field.register(serializers.FloatField)\n",
                "def convert_serializer_field_to_float(field):\n",
                "    return graphene.Float\n"
            ]
        },
        {
            "cell_type": "markdown",
            "metadata": {},
            "source": []
        },
        {
            "cell_type": "code",
            "execution_count": null,
            "metadata": {},
            "outputs": [],
            "source": [
                "@get_graphene_type_from_serializer_field.register(serializers.DecimalField)\n",
                "def convert_serializer_field_to_decimal(field):\n",
                "    return graphene.Decimal\n"
            ]
        },
        {
            "cell_type": "markdown",
            "metadata": {},
            "source": []
        },
        {
            "cell_type": "code",
            "execution_count": null,
            "metadata": {},
            "outputs": [],
            "source": [
                "@get_graphene_type_from_serializer_field.register(serializers.DateTimeField)\n",
                "def convert_serializer_field_to_datetime_time(field):\n",
                "    return graphene.types.datetime.DateTime\n"
            ]
        },
        {
            "cell_type": "markdown",
            "metadata": {},
            "source": []
        },
        {
            "cell_type": "code",
            "execution_count": null,
            "metadata": {},
            "outputs": [],
            "source": [
                "@get_graphene_type_from_serializer_field.register(serializers.DateField)\n",
                "def convert_serializer_field_to_date_time(field):\n",
                "    return graphene.types.datetime.Date\n"
            ]
        },
        {
            "cell_type": "markdown",
            "metadata": {},
            "source": []
        },
        {
            "cell_type": "code",
            "execution_count": null,
            "metadata": {},
            "outputs": [],
            "source": [
                "@get_graphene_type_from_serializer_field.register(serializers.TimeField)\n",
                "def convert_serializer_field_to_time(field):\n",
                "    return graphene.types.datetime.Time\n"
            ]
        },
        {
            "cell_type": "markdown",
            "metadata": {},
            "source": []
        },
        {
            "cell_type": "code",
            "execution_count": null,
            "metadata": {},
            "outputs": [],
            "source": [
                "@get_graphene_type_from_serializer_field.register(serializers.ListField)\n",
                "def convert_serializer_field_to_list(field, is_input=True):\n",
                "    child_type = get_graphene_type_from_serializer_field(field.child)\n",
                "    return (graphene.List, child_type)\n"
            ]
        },
        {
            "cell_type": "markdown",
            "metadata": {},
            "source": []
        },
        {
            "cell_type": "code",
            "execution_count": null,
            "metadata": {},
            "outputs": [],
            "source": [
                "@get_graphene_type_from_serializer_field.register(serializers.DictField)\n",
                "def convert_serializer_field_to_dict(field):\n",
                "    return DictType\n"
            ]
        },
        {
            "cell_type": "markdown",
            "metadata": {},
            "source": []
        },
        {
            "cell_type": "code",
            "execution_count": null,
            "metadata": {},
            "outputs": [],
            "source": [
                "@get_graphene_type_from_serializer_field.register(serializers.JSONField)\n",
                "def convert_serializer_field_to_jsonstring(field):\n",
                "    return graphene.types.json.JSONString\n"
            ]
        },
        {
            "cell_type": "markdown",
            "metadata": {},
            "source": []
        },
        {
            "cell_type": "code",
            "execution_count": null,
            "metadata": {},
            "outputs": [],
            "source": [
                "@get_graphene_type_from_serializer_field.register(serializers.MultipleChoiceField)\n",
                "def convert_serializer_field_to_list_of_enum(field):\n",
                "    child_type = convert_serializer_field_to_enum(field)\n",
                "    return (graphene.List, child_type)\n"
            ]
        },
        {
            "cell_type": "markdown",
            "metadata": {},
            "source": []
        },
        {
            "cell_type": "code",
            "execution_count": null,
            "metadata": {},
            "outputs": [],
            "source": [
                "@get_graphene_type_from_serializer_field.register(serializers.ChoiceField)\n",
                "def convert_serializer_field_to_enum(field):\n",
                "    # enums require a name\n",
                "    name = field.field_name or field.source or \"Choices\"\n",
                "    return convert_choices_to_named_enum_with_descriptions(name, field.choices)\n",
                "\n"
            ]
        },
        {
            "cell_type": "markdown",
            "metadata": {},
            "source": []
        }
    ],
    "metadata": {
        "language_info": {
            "name": "python"
        }
    },
    "nbformat": 4,
    "nbformat_minor": 2
}