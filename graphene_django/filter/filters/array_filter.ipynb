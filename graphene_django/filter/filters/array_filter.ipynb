{
 "cells": [
  {
   "cell_type": "code",
   "execution_count": null,
   "metadata": {},
   "outputs": [],
   "source": [
    "from django_filters.constants import EMPTY_VALUES\n",
    "from django_filters.filters import FilterMethod\n",
    "\n",
    "from .typed_filter import TypedFilter"
   ]
  },
  {
   "cell_type": "markdown",
   "metadata": {},
   "source": []
  },
  {
   "cell_type": "code",
   "execution_count": null,
   "metadata": {},
   "outputs": [],
   "source": [
    "class ArrayFilterMethod(FilterMethod):\n",
    "    def __call__(self, qs, value):\n",
    "        if value is None:\n",
    "            return qs\n",
    "        return self.method(qs, self.f.field_name, value)"
   ]
  },
  {
   "cell_type": "markdown",
   "metadata": {},
   "source": []
  },
  {
   "cell_type": "code",
   "execution_count": null,
   "metadata": {},
   "outputs": [],
   "source": [
    "class ArrayFilter(TypedFilter):\n",
    "    \"\"\"\n",
    "    Filter made for PostgreSQL ArrayField.\n",
    "    \"\"\"\n",
    "\n",
    "    @TypedFilter.method.setter\n",
    "    def method(self, value):\n",
    "        \"\"\"\n",
    "        Override method setter so that in case a custom `method` is provided\n",
    "        (see documentation https://django-filter.readthedocs.io/en/stable/ref/filters.html#method),\n",
    "        it doesn't fall back to checking if the value is in `EMPTY_VALUES` (from the `__call__` method\n",
    "        of the `FilterMethod` class) and instead use our ArrayFilterMethod that consider empty lists as values.\n",
    "\n",
    "        Indeed when providing a `method` the `filter` method below is overridden and replaced by `FilterMethod(self)`\n",
    "        which means that the validation of the empty value is made by the `FilterMethod.__call__` method instead.\n",
    "        \"\"\"\n",
    "        TypedFilter.method.fset(self, value)\n",
    "        if value is not None:\n",
    "            self.filter = ArrayFilterMethod(self)\n",
    "\n",
    "    def filter(self, qs, value):\n",
    "        \"\"\"\n",
    "        Override the default filter class to check first whether the list is\n",
    "        empty or not.\n",
    "        This needs to be done as in this case we expect to get the filter applied with\n",
    "        an empty list since it's a valid value but django_filter consider an empty list\n",
    "        to be an empty input value (see `EMPTY_VALUES`) meaning that\n",
    "        the filter does not need to be applied (hence returning the original\n",
    "        queryset).\n",
    "        \"\"\"\n",
    "        if value in EMPTY_VALUES and value != []:\n",
    "            return qs\n",
    "        if self.distinct:\n",
    "            qs = qs.distinct()\n",
    "        lookup = f\"{self.field_name}__{self.lookup_expr}\"\n",
    "        qs = self.get_method(qs)(**{lookup: value})\n",
    "        return qs"
   ]
  },
  {
   "cell_type": "markdown",
   "metadata": {},
   "source": []
  }
 ],
 "metadata": {
  "language_info": {
   "name": "python"
  }
 },
 "nbformat": 4,
 "nbformat_minor": 2
}