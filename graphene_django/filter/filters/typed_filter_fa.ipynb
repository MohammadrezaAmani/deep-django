{
    "cells": [
        {
            "cell_type": "code",
            "execution_count": null,
            "metadata": {},
            "outputs": [],
            "source": [
                "from django_filters import Filter\n",
                "from graphene.types.utils import get_type\n"
            ]
        },
        {
            "cell_type": "markdown",
            "metadata": {},
            "source": []
        },
        {
            "cell_type": "code",
            "execution_count": null,
            "metadata": {},
            "outputs": [],
            "source": [
                "class TypedFilter(Filter):\n",
                "    \"\"\"\n",
                "    Filter class for which the input GraphQL type can explicitly be provided.\n",
                "    If it is not provided, when building the schema, it will try to guess\n",
                "    it from the field.\n",
                "    \"\"\"\n",
                "\n",
                "    def __init__(self, input_type=None, *args, **kwargs):\n",
                "        self._input_type = input_type\n",
                "        super().__init__(*args, **kwargs)\n",
                "\n",
                "    @property\n",
                "    def input_type(self):\n",
                "        input_type = get_type(self._input_type)\n",
                "        if input_type is not None:\n",
                "            if not callable(getattr(input_type, \"get_type\", None)):\n",
                "                raise ValueError(\n",
                "                    \"Wrong `input_type` for {}: it only accepts graphene types, got {}\".format(\n",
                "                        self.__class__.__name__, input_type\n",
                "                    )\n",
                "                )\n",
                "        return input_type\n",
                "\n"
            ]
        },
        {
            "cell_type": "markdown",
            "metadata": {},
            "source": []
        }
    ],
    "metadata": {
        "language_info": {
            "name": "python"
        }
    },
    "nbformat": 4,
    "nbformat_minor": 2
}