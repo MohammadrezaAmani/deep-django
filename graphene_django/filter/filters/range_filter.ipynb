{
 "cells": [
  {
   "cell_type": "code",
   "execution_count": null,
   "metadata": {},
   "outputs": [],
   "source": [
    "from django.core.exceptions import ValidationError\n",
    "from django.forms import Field\n",
    "\n",
    "from .typed_filter import TypedFilter"
   ]
  },
  {
   "cell_type": "markdown",
   "metadata": {},
   "source": []
  },
  {
   "cell_type": "code",
   "execution_count": null,
   "metadata": {},
   "outputs": [],
   "source": [
    "def validate_range(value):\n",
    "    \"\"\"\n",
    "    Validator for range filter input: the list of value must be of length 2.\n",
    "    Note that validators are only run if the value is not empty.\n",
    "    \"\"\"\n",
    "    if len(value) != 2:\n",
    "        raise ValidationError(\n",
    "            \"Invalid range specified: it needs to contain 2 values.\", code=\"invalid\"\n",
    "        )"
   ]
  },
  {
   "cell_type": "markdown",
   "metadata": {},
   "source": []
  },
  {
   "cell_type": "code",
   "execution_count": null,
   "metadata": {},
   "outputs": [],
   "source": [
    "class RangeField(Field):\n",
    "    default_validators = [validate_range]\n",
    "    empty_values = [None]"
   ]
  },
  {
   "cell_type": "markdown",
   "metadata": {},
   "source": []
  },
  {
   "cell_type": "code",
   "execution_count": null,
   "metadata": {},
   "outputs": [],
   "source": [
    "class RangeFilter(TypedFilter):\n",
    "    field_class = RangeField"
   ]
  },
  {
   "cell_type": "markdown",
   "metadata": {},
   "source": []
  }
 ],
 "metadata": {
  "language_info": {
   "name": "python"
  }
 },
 "nbformat": 4,
 "nbformat_minor": 2
}