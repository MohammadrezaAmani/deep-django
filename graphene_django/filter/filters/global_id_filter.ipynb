{
 "cells": [
  {
   "cell_type": "code",
   "execution_count": null,
   "metadata": {},
   "outputs": [],
   "source": [
    "from django_filters import Filter, MultipleChoiceFilter\n",
    "from graphql_relay.node.node import from_global_id\n",
    "\n",
    "from ...forms import GlobalIDFormField, GlobalIDMultipleChoiceField"
   ]
  },
  {
   "cell_type": "markdown",
   "metadata": {},
   "source": []
  },
  {
   "cell_type": "code",
   "execution_count": null,
   "metadata": {},
   "outputs": [],
   "source": [
    "class GlobalIDFilter(Filter):\n",
    "    \"\"\"\n",
    "    Filter for Relay global ID.\n",
    "    \"\"\"\n",
    "\n",
    "    field_class = GlobalIDFormField\n",
    "\n",
    "    def filter(self, qs, value):\n",
    "        \"\"\"Convert the filter value to a primary key before filtering\"\"\"\n",
    "        _id = None\n",
    "        if value is not None:\n",
    "            _, _id = from_global_id(value)\n",
    "        return super().filter(qs, _id)"
   ]
  },
  {
   "cell_type": "markdown",
   "metadata": {},
   "source": []
  },
  {
   "cell_type": "code",
   "execution_count": null,
   "metadata": {},
   "outputs": [],
   "source": [
    "class GlobalIDMultipleChoiceFilter(MultipleChoiceFilter):\n",
    "    field_class = GlobalIDMultipleChoiceField\n",
    "\n",
    "    def filter(self, qs, value):\n",
    "        gids = [from_global_id(v)[1] for v in value]\n",
    "        return super().filter(qs, gids)"
   ]
  },
  {
   "cell_type": "markdown",
   "metadata": {},
   "source": []
  }
 ],
 "metadata": {
  "language_info": {
   "name": "python"
  }
 },
 "nbformat": 4,
 "nbformat_minor": 2
}