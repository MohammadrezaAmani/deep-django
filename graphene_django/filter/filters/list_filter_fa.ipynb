{
    "cells": [
        {
            "cell_type": "code",
            "execution_count": null,
            "metadata": {},
            "outputs": [],
            "source": [
                "from django_filters.filters import FilterMethod\n",
                "\n",
                "from .typed_filter import TypedFilter\n"
            ]
        },
        {
            "cell_type": "markdown",
            "metadata": {},
            "source": []
        },
        {
            "cell_type": "code",
            "execution_count": null,
            "metadata": {},
            "outputs": [],
            "source": [
                "class ListFilterMethod(FilterMethod):\n",
                "    def __call__(self, qs, value):\n",
                "        if value is None:\n",
                "            return qs\n",
                "        return self.method(qs, self.f.field_name, value)\n"
            ]
        },
        {
            "cell_type": "markdown",
            "metadata": {},
            "source": []
        },
        {
            "cell_type": "code",
            "execution_count": null,
            "metadata": {},
            "outputs": [],
            "source": [
                "class ListFilter(TypedFilter):\n",
                "    \"\"\"\n",
                "    Filter that takes a list of value as input.\n",
                "    It is for example used for `__in` filters.\n",
                "    \"\"\"\n",
                "\n",
                "    @TypedFilter.method.setter\n",
                "    def method(self, value):\n",
                "        \"\"\"\n",
                "        Override method setter so that in case a custom `method` is provided\n",
                "        (see documentation https://django-filter.readthedocs.io/en/stable/ref/filters.html#method),\n",
                "        it doesn't fall back to checking if the value is in `EMPTY_VALUES` (from the `__call__` method\n",
                "        of the `FilterMethod` class) and instead use our ListFilterMethod that consider empty lists as values.\n",
                "\n",
                "        Indeed when providing a `method` the `filter` method below is overridden and replaced by `FilterMethod(self)`\n",
                "        which means that the validation of the empty value is made by the `FilterMethod.__call__` method instead.\n",
                "        \"\"\"\n",
                "        TypedFilter.method.fset(self, value)\n",
                "        if value is not None:\n",
                "            self.filter = ListFilterMethod(self)\n",
                "\n",
                "    def filter(self, qs, value):\n",
                "        \"\"\"\n",
                "        Override the default filter class to check first whether the list is\n",
                "        empty or not.\n",
                "        This needs to be done as in this case we expect to get an empty output\n",
                "        (if not an exclude filter) but django_filter consider an empty list\n",
                "        to be an empty input value (see `EMPTY_VALUES`) meaning that\n",
                "        the filter does not need to be applied (hence returning the original\n",
                "        queryset).\n",
                "        \"\"\"\n",
                "        if value is not None and len(value) == 0:\n",
                "            if self.exclude:\n",
                "                return qs\n",
                "            else:\n",
                "                return qs.none()\n",
                "        else:\n",
                "            return super().filter(qs, value)\n",
                "\n"
            ]
        },
        {
            "cell_type": "markdown",
            "metadata": {},
            "source": []
        }
    ],
    "metadata": {
        "language_info": {
            "name": "python"
        }
    },
    "nbformat": 4,
    "nbformat_minor": 2
}