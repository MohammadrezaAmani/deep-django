{
    "cells": [
        {
            "cell_type": "code",
            "execution_count": null,
            "metadata": {},
            "outputs": [],
            "source": [
                "import django_filters\n",
                "from django_filters import OrderingFilter\n",
                "\n",
                "from graphene_django.tests.models import Article, Pet, Reporter\n"
            ]
        },
        {
            "cell_type": "markdown",
            "metadata": {},
            "source": []
        },
        {
            "cell_type": "code",
            "execution_count": null,
            "metadata": {},
            "outputs": [],
            "source": [
                "class ArticleFilter(django_filters.FilterSet):\n",
                "    class Meta:\n",
                "        model = Article\n",
                "        fields = {\n",
                "            \"headline\": [\"exact\", \"icontains\"],\n",
                "            \"pub_date\": [\"gt\", \"lt\", \"exact\"],\n",
                "            \"reporter\": [\"exact\", \"in\"],\n",
                "        }\n",
                "\n",
                "    order_by = OrderingFilter(fields=(\"pub_date\",))\n"
            ]
        },
        {
            "cell_type": "markdown",
            "metadata": {},
            "source": []
        },
        {
            "cell_type": "code",
            "execution_count": null,
            "metadata": {},
            "outputs": [],
            "source": [
                "class ReporterFilter(django_filters.FilterSet):\n",
                "    class Meta:\n",
                "        model = Reporter\n",
                "        fields = [\"first_name\", \"last_name\", \"email\", \"pets\"]\n",
                "\n",
                "    order_by = OrderingFilter(fields=(\"first_name\",))\n"
            ]
        },
        {
            "cell_type": "markdown",
            "metadata": {},
            "source": []
        },
        {
            "cell_type": "code",
            "execution_count": null,
            "metadata": {},
            "outputs": [],
            "source": [
                "class PetFilter(django_filters.FilterSet):\n",
                "    class Meta:\n",
                "        model = Pet\n",
                "        fields = [\"name\"]\n",
                "\n"
            ]
        },
        {
            "cell_type": "markdown",
            "metadata": {},
            "source": []
        }
    ],
    "metadata": {
        "language_info": {
            "name": "python"
        }
    },
    "nbformat": 4,
    "nbformat_minor": 2
}