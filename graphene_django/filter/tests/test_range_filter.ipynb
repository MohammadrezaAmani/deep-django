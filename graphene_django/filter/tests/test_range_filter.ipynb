{
 "cells": [
  {
   "cell_type": "code",
   "execution_count": null,
   "metadata": {},
   "outputs": [],
   "source": [
    "import json\n",
    "\n",
    "import pytest\n",
    "from graphene import ObjectType, Schema\n",
    "from graphene.relay import Node\n",
    "\n",
    "from graphene_django import DjangoObjectType\n",
    "from graphene_django.tests.models import Pet\n",
    "from graphene_django.utils import DJANGO_FILTER_INSTALLED\n",
    "\n",
    "pytestmark = []\n",
    "\n",
    "if DJANGO_FILTER_INSTALLED:\n",
    "    from graphene_django.filter import DjangoFilterConnectionField\n",
    "else:\n",
    "    pytestmark.append(\n",
    "        pytest.mark.skipif(\n",
    "            True, reason=\"django_filters not installed or not compatible\"\n",
    "        )\n",
    "    )"
   ]
  },
  {
   "cell_type": "markdown",
   "metadata": {},
   "source": []
  },
  {
   "cell_type": "code",
   "execution_count": null,
   "metadata": {},
   "outputs": [],
   "source": [
    "class PetNode(DjangoObjectType):\n",
    "    class Meta:\n",
    "        model = Pet\n",
    "        interfaces = (Node,)\n",
    "        fields = \"__all__\"\n",
    "        filter_fields = {\n",
    "            \"name\": [\"exact\", \"in\"],\n",
    "            \"age\": [\"exact\", \"in\", \"range\"],\n",
    "        }"
   ]
  },
  {
   "cell_type": "markdown",
   "metadata": {},
   "source": []
  },
  {
   "cell_type": "code",
   "execution_count": null,
   "metadata": {},
   "outputs": [],
   "source": [
    "class Query(ObjectType):\n",
    "    pets = DjangoFilterConnectionField(PetNode)"
   ]
  },
  {
   "cell_type": "markdown",
   "metadata": {},
   "source": []
  },
  {
   "cell_type": "code",
   "execution_count": null,
   "metadata": {},
   "outputs": [],
   "source": [
    "def test_int_range_filter():\n",
    "    \"\"\"\n",
    "    Test range filter on an integer field.\n",
    "    \"\"\"\n",
    "    Pet.objects.create(name=\"Brutus\", age=12)\n",
    "    Pet.objects.create(name=\"Mimi\", age=8)\n",
    "    Pet.objects.create(name=\"Jojo, the rabbit\", age=3)\n",
    "    Pet.objects.create(name=\"Picotin\", age=5)\n",
    "\n",
    "    schema = Schema(query=Query)\n",
    "\n",
    "    query = \"\"\"\n",
    "    query {\n",
    "        pets (age_Range: [4, 9]) {\n",
    "            edges {\n",
    "                node {\n",
    "                    name\n",
    "                }\n",
    "            }\n",
    "        }\n",
    "    }\n",
    "    \"\"\"\n",
    "    result = schema.execute(query)\n",
    "    assert not result.errors\n",
    "    assert result.data[\"pets\"][\"edges\"] == [\n",
    "        {\"node\": {\"name\": \"Mimi\"}},\n",
    "        {\"node\": {\"name\": \"Picotin\"}},\n",
    "    ]"
   ]
  },
  {
   "cell_type": "markdown",
   "metadata": {},
   "source": []
  },
  {
   "cell_type": "code",
   "execution_count": null,
   "metadata": {},
   "outputs": [],
   "source": [
    "def test_range_filter_with_invalid_input():\n",
    "    \"\"\"\n",
    "    Test range filter used with invalid inputs raise an error.\n",
    "    \"\"\"\n",
    "    Pet.objects.create(name=\"Brutus\", age=12)\n",
    "    Pet.objects.create(name=\"Mimi\", age=8)\n",
    "    Pet.objects.create(name=\"Jojo, the rabbit\", age=3)\n",
    "    Pet.objects.create(name=\"Picotin\", age=5)\n",
    "\n",
    "    schema = Schema(query=Query)\n",
    "\n",
    "    query = \"\"\"\n",
    "    query ($rangeValue: [Int]) {\n",
    "        pets (age_Range: $rangeValue) {\n",
    "            edges {\n",
    "                node {\n",
    "                    name\n",
    "                }\n",
    "            }\n",
    "        }\n",
    "    }\n",
    "    \"\"\"\n",
    "    expected_error = json.dumps(\n",
    "        {\n",
    "            \"age__range\": [\n",
    "                {\n",
    "                    \"message\": \"Invalid range specified: it needs to contain 2 values.\",\n",
    "                    \"code\": \"invalid\",\n",
    "                }\n",
    "            ]\n",
    "        }\n",
    "    )\n",
    "\n",
    "    # Empty list\n",
    "    result = schema.execute(query, variables={\"rangeValue\": []})\n",
    "    assert len(result.errors) == 1\n",
    "    assert result.errors[0].message == expected_error\n",
    "\n",
    "    # Only one item in the list\n",
    "    result = schema.execute(query, variables={\"rangeValue\": [1]})\n",
    "    assert len(result.errors) == 1\n",
    "    assert result.errors[0].message == expected_error\n",
    "\n",
    "    # More than 2 items in the list\n",
    "    result = schema.execute(query, variables={\"rangeValue\": [1, 2, 3]})\n",
    "    assert len(result.errors) == 1\n",
    "    assert result.errors[0].message == expected_error"
   ]
  },
  {
   "cell_type": "markdown",
   "metadata": {},
   "source": []
  }
 ],
 "metadata": {
  "language_info": {
   "name": "python"
  }
 },
 "nbformat": 4,
 "nbformat_minor": 2
}