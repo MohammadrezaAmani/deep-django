{
 "cells": [
  {
   "cell_type": "code",
   "execution_count": null,
   "metadata": {},
   "outputs": [],
   "source": [
    "import pytest\n",
    "\n",
    "from ...compat import ArrayField, MissingType"
   ]
  },
  {
   "cell_type": "markdown",
   "metadata": {},
   "source": []
  },
  {
   "cell_type": "code",
   "execution_count": null,
   "metadata": {},
   "outputs": [],
   "source": [
    "@pytest.mark.skipif(ArrayField is MissingType, reason=\"ArrayField should exist\")\n",
    "def test_array_field_exact_no_match(schema):\n",
    "    \"\"\"\n",
    "    Test exact filter on a array field of string.\n",
    "    \"\"\"\n",
    "\n",
    "    query = \"\"\"\n",
    "    query {\n",
    "        events (tags: [\"concert\", \"music\"]) {\n",
    "            edges {\n",
    "                node {\n",
    "                    name\n",
    "                }\n",
    "            }\n",
    "        }\n",
    "    }\n",
    "    \"\"\"\n",
    "    result = schema.execute(query)\n",
    "    assert not result.errors\n",
    "    assert result.data[\"events\"][\"edges\"] == []"
   ]
  },
  {
   "cell_type": "markdown",
   "metadata": {},
   "source": []
  },
  {
   "cell_type": "code",
   "execution_count": null,
   "metadata": {},
   "outputs": [],
   "source": [
    "@pytest.mark.skipif(ArrayField is MissingType, reason=\"ArrayField should exist\")\n",
    "def test_array_field_exact_match(schema):\n",
    "    \"\"\"\n",
    "    Test exact filter on a array field of string.\n",
    "    \"\"\"\n",
    "\n",
    "    query = \"\"\"\n",
    "    query {\n",
    "        events (tags: [\"movie\", \"music\"]) {\n",
    "            edges {\n",
    "                node {\n",
    "                    name\n",
    "                }\n",
    "            }\n",
    "        }\n",
    "    }\n",
    "    \"\"\"\n",
    "    result = schema.execute(query)\n",
    "    assert not result.errors\n",
    "    assert result.data[\"events\"][\"edges\"] == [\n",
    "        {\"node\": {\"name\": \"Musical\"}},\n",
    "    ]"
   ]
  },
  {
   "cell_type": "markdown",
   "metadata": {},
   "source": []
  },
  {
   "cell_type": "code",
   "execution_count": null,
   "metadata": {},
   "outputs": [],
   "source": [
    "@pytest.mark.skipif(ArrayField is MissingType, reason=\"ArrayField should exist\")\n",
    "def test_array_field_exact_empty_list(schema):\n",
    "    \"\"\"\n",
    "    Test exact filter on a array field of string.\n",
    "    \"\"\"\n",
    "\n",
    "    query = \"\"\"\n",
    "    query {\n",
    "        events (tags: []) {\n",
    "            edges {\n",
    "                node {\n",
    "                    name\n",
    "                }\n",
    "            }\n",
    "        }\n",
    "    }\n",
    "    \"\"\"\n",
    "    result = schema.execute(query)\n",
    "    assert not result.errors\n",
    "    assert result.data[\"events\"][\"edges\"] == [\n",
    "        {\"node\": {\"name\": \"Speech\"}},\n",
    "    ]"
   ]
  },
  {
   "cell_type": "markdown",
   "metadata": {},
   "source": []
  },
  {
   "cell_type": "code",
   "execution_count": null,
   "metadata": {},
   "outputs": [],
   "source": [
    "@pytest.mark.skipif(ArrayField is MissingType, reason=\"ArrayField should exist\")\n",
    "def test_array_field_filter_schema_type(schema):\n",
    "    \"\"\"\n",
    "    Check that the type in the filter is an array field like on the object type.\n",
    "    \"\"\"\n",
    "    schema_str = str(schema)\n",
    "\n",
    "    assert (\n",
    "        '''type EventType implements Node {\n",
    "  \"\"\"The ID of the object\"\"\"\n",
    "  id: ID!\n",
    "  name: String!\n",
    "  tags: [String!]!\n",
    "  tagIds: [Int!]!\n",
    "  randomField: [Boolean!]!\n",
    "}'''\n",
    "        in schema_str\n",
    "    )\n",
    "\n",
    "    filters = {\n",
    "        \"offset\": \"Int\",\n",
    "        \"before\": \"String\",\n",
    "        \"after\": \"String\",\n",
    "        \"first\": \"Int\",\n",
    "        \"last\": \"Int\",\n",
    "        \"name\": \"String\",\n",
    "        \"name_Contains\": \"String\",\n",
    "        \"tags_Contains\": \"[String!]\",\n",
    "        \"tags_Overlap\": \"[String!]\",\n",
    "        \"tags\": \"[String!]\",\n",
    "        \"tags_Len\": \"Int\",\n",
    "        \"tags_Len_In\": \"[Int]\",\n",
    "        \"tagsIds_Contains\": \"[Int!]\",\n",
    "        \"tagsIds_Overlap\": \"[Int!]\",\n",
    "        \"tagsIds\": \"[Int!]\",\n",
    "        \"randomField_Contains\": \"[Boolean!]\",\n",
    "        \"randomField_Overlap\": \"[Boolean!]\",\n",
    "        \"randomField\": \"[Boolean!]\",\n",
    "    }\n",
    "    filters_str = \", \".join(\n",
    "        [f\"{filter_field}: {gql_type}\" for filter_field, gql_type in filters.items()]\n",
    "    )\n",
    "    assert (\n",
    "        f\"type Query {{\\n  events({filters_str}): EventTypeConnection\\n}}\" in schema_str\n",
    "    )"
   ]
  },
  {
   "cell_type": "markdown",
   "metadata": {},
   "source": []
  }
 ],
 "metadata": {
  "language_info": {
   "name": "python"
  }
 },
 "nbformat": 4,
 "nbformat_minor": 2
}