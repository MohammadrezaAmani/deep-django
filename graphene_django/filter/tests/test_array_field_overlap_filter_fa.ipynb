{
    "cells": [
        {
            "cell_type": "code",
            "execution_count": null,
            "metadata": {},
            "outputs": [],
            "source": [
                "import pytest\n",
                "\n",
                "from ...compat import ArrayField, MissingType\n"
            ]
        },
        {
            "cell_type": "markdown",
            "metadata": {},
            "source": []
        },
        {
            "cell_type": "code",
            "execution_count": null,
            "metadata": {},
            "outputs": [],
            "source": [
                "@pytest.mark.skipif(ArrayField is MissingType, reason=\"ArrayField should exist\")\n",
                "def test_array_field_overlap_multiple(schema):\n",
                "    \"\"\"\n",
                "    Test overlap filter on a array field of string.\n",
                "    \"\"\"\n",
                "\n",
                "    query = \"\"\"\n",
                "    query {\n",
                "        events (tags_Overlap: [\"concert\", \"music\"]) {\n",
                "            edges {\n",
                "                node {\n",
                "                    name\n",
                "                }\n",
                "            }\n",
                "        }\n",
                "    }\n",
                "    \"\"\"\n",
                "    result = schema.execute(query)\n",
                "    assert not result.errors\n",
                "    assert result.data[\"events\"][\"edges\"] == [\n",
                "        {\"node\": {\"name\": \"Live Show\"}},\n",
                "        {\"node\": {\"name\": \"Musical\"}},\n",
                "        {\"node\": {\"name\": \"Ballet\"}},\n",
                "    ]\n"
            ]
        },
        {
            "cell_type": "markdown",
            "metadata": {},
            "source": []
        },
        {
            "cell_type": "code",
            "execution_count": null,
            "metadata": {},
            "outputs": [],
            "source": [
                "@pytest.mark.skipif(ArrayField is MissingType, reason=\"ArrayField should exist\")\n",
                "def test_array_field_overlap_one(schema):\n",
                "    \"\"\"\n",
                "    Test overlap filter on a array field of string.\n",
                "    \"\"\"\n",
                "\n",
                "    query = \"\"\"\n",
                "    query {\n",
                "        events (tags_Overlap: [\"music\"]) {\n",
                "            edges {\n",
                "                node {\n",
                "                    name\n",
                "                }\n",
                "            }\n",
                "        }\n",
                "    }\n",
                "    \"\"\"\n",
                "    result = schema.execute(query)\n",
                "    assert not result.errors\n",
                "    assert result.data[\"events\"][\"edges\"] == [\n",
                "        {\"node\": {\"name\": \"Live Show\"}},\n",
                "        {\"node\": {\"name\": \"Musical\"}},\n",
                "    ]\n"
            ]
        },
        {
            "cell_type": "markdown",
            "metadata": {},
            "source": []
        },
        {
            "cell_type": "code",
            "execution_count": null,
            "metadata": {},
            "outputs": [],
            "source": [
                "@pytest.mark.skipif(ArrayField is MissingType, reason=\"ArrayField should exist\")\n",
                "def test_array_field_overlap_empty_list(schema):\n",
                "    \"\"\"\n",
                "    Test overlap filter on a array field of string.\n",
                "    \"\"\"\n",
                "\n",
                "    query = \"\"\"\n",
                "    query {\n",
                "        events (tags_Overlap: []) {\n",
                "            edges {\n",
                "                node {\n",
                "                    name\n",
                "                }\n",
                "            }\n",
                "        }\n",
                "    }\n",
                "    \"\"\"\n",
                "    result = schema.execute(query)\n",
                "    assert not result.errors\n",
                "    assert result.data[\"events\"][\"edges\"] == []\n",
                "\n"
            ]
        },
        {
            "cell_type": "markdown",
            "metadata": {},
            "source": []
        }
    ],
    "metadata": {
        "language_info": {
            "name": "python"
        }
    },
    "nbformat": 4,
    "nbformat_minor": 2
}