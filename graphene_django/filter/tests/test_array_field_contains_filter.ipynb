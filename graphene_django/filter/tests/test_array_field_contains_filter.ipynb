{
 "cells": [
  {
   "cell_type": "code",
   "execution_count": null,
   "metadata": {},
   "outputs": [],
   "source": [
    "import pytest\n",
    "\n",
    "from ...compat import ArrayField, MissingType"
   ]
  },
  {
   "cell_type": "markdown",
   "metadata": {},
   "source": []
  },
  {
   "cell_type": "code",
   "execution_count": null,
   "metadata": {},
   "outputs": [],
   "source": [
    "@pytest.mark.skipif(ArrayField is MissingType, reason=\"ArrayField should exist\")\n",
    "def test_array_field_contains_multiple(schema):\n",
    "    \"\"\"\n",
    "    Test contains filter on a array field of string.\n",
    "    \"\"\"\n",
    "\n",
    "    query = \"\"\"\n",
    "    query {\n",
    "        events (tags_Contains: [\"concert\", \"music\"]) {\n",
    "            edges {\n",
    "                node {\n",
    "                    name\n",
    "                }\n",
    "            }\n",
    "        }\n",
    "    }\n",
    "    \"\"\"\n",
    "    result = schema.execute(query)\n",
    "    assert not result.errors\n",
    "    assert result.data[\"events\"][\"edges\"] == [\n",
    "        {\"node\": {\"name\": \"Live Show\"}},\n",
    "    ]"
   ]
  },
  {
   "cell_type": "markdown",
   "metadata": {},
   "source": []
  },
  {
   "cell_type": "code",
   "execution_count": null,
   "metadata": {},
   "outputs": [],
   "source": [
    "@pytest.mark.skipif(ArrayField is MissingType, reason=\"ArrayField should exist\")\n",
    "def test_array_field_contains_one(schema):\n",
    "    \"\"\"\n",
    "    Test contains filter on a array field of string.\n",
    "    \"\"\"\n",
    "\n",
    "    query = \"\"\"\n",
    "    query {\n",
    "        events (tags_Contains: [\"music\"]) {\n",
    "            edges {\n",
    "                node {\n",
    "                    name\n",
    "                }\n",
    "            }\n",
    "        }\n",
    "    }\n",
    "    \"\"\"\n",
    "    result = schema.execute(query)\n",
    "    assert not result.errors\n",
    "    assert result.data[\"events\"][\"edges\"] == [\n",
    "        {\"node\": {\"name\": \"Live Show\"}},\n",
    "        {\"node\": {\"name\": \"Musical\"}},\n",
    "    ]"
   ]
  },
  {
   "cell_type": "markdown",
   "metadata": {},
   "source": []
  },
  {
   "cell_type": "code",
   "execution_count": null,
   "metadata": {},
   "outputs": [],
   "source": [
    "@pytest.mark.skipif(ArrayField is MissingType, reason=\"ArrayField should exist\")\n",
    "def test_array_field_contains_empty_list(schema):\n",
    "    \"\"\"\n",
    "    Test contains filter on a array field of string.\n",
    "    \"\"\"\n",
    "\n",
    "    query = \"\"\"\n",
    "    query {\n",
    "        events (tags_Contains: []) {\n",
    "            edges {\n",
    "                node {\n",
    "                    name\n",
    "                }\n",
    "            }\n",
    "        }\n",
    "    }\n",
    "    \"\"\"\n",
    "    result = schema.execute(query)\n",
    "    assert not result.errors\n",
    "    assert result.data[\"events\"][\"edges\"] == [\n",
    "        {\"node\": {\"name\": \"Live Show\"}},\n",
    "        {\"node\": {\"name\": \"Musical\"}},\n",
    "        {\"node\": {\"name\": \"Ballet\"}},\n",
    "        {\"node\": {\"name\": \"Speech\"}},\n",
    "    ]"
   ]
  },
  {
   "cell_type": "markdown",
   "metadata": {},
   "source": []
  }
 ],
 "metadata": {
  "language_info": {
   "name": "python"
  }
 },
 "nbformat": 4,
 "nbformat_minor": 2
}