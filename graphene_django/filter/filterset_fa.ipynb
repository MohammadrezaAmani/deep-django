{
    "cells": [
        {
            "cell_type": "code",
            "execution_count": null,
            "metadata": {},
            "outputs": [],
            "source": [
                "import itertools\n",
                "\n",
                "from django.db import models\n",
                "from django_filters.filterset import (\n",
                "    FILTER_FOR_DBFIELD_DEFAULTS,\n",
                "    BaseFilterSet,\n",
                "    FilterSet,\n",
                ")\n",
                "\n",
                "from .filters import GlobalIDFilter, GlobalIDMultipleChoiceFilter\n",
                "\n",
                "GRAPHENE_FILTER_SET_OVERRIDES = {\n",
                "    models.AutoField: {\"filter_class\": GlobalIDFilter},\n",
                "    models.OneToOneField: {\"filter_class\": GlobalIDFilter},\n",
                "    models.ForeignKey: {\"filter_class\": GlobalIDFilter},\n",
                "    models.ManyToManyField: {\"filter_class\": GlobalIDMultipleChoiceFilter},\n",
                "    models.ManyToOneRel: {\"filter_class\": GlobalIDMultipleChoiceFilter},\n",
                "    models.ManyToManyRel: {\"filter_class\": GlobalIDMultipleChoiceFilter},\n",
                "}\n"
            ]
        },
        {
            "cell_type": "markdown",
            "metadata": {},
            "source": []
        },
        {
            "cell_type": "code",
            "execution_count": null,
            "metadata": {},
            "outputs": [],
            "source": [
                "class GrapheneFilterSetMixin(BaseFilterSet):\n",
                "    \"\"\"A django_filters.filterset.BaseFilterSet with default filter overrides\n",
                "    to handle global IDs\"\"\"\n",
                "\n",
                "    FILTER_DEFAULTS = dict(\n",
                "        itertools.chain(\n",
                "            FILTER_FOR_DBFIELD_DEFAULTS.items(), GRAPHENE_FILTER_SET_OVERRIDES.items()\n",
                "        )\n",
                "    )\n"
            ]
        },
        {
            "cell_type": "markdown",
            "metadata": {},
            "source": []
        },
        {
            "cell_type": "code",
            "execution_count": null,
            "metadata": {},
            "outputs": [],
            "source": [
                "def setup_filterset(filterset_class):\n",
                "    \"\"\"Wrap a provided filterset in Graphene-specific functionality\"\"\"\n",
                "    return type(\n",
                "        f\"Graphene{filterset_class.__name__}\",\n",
                "        (filterset_class, GrapheneFilterSetMixin),\n",
                "        {},\n",
                "    )\n"
            ]
        },
        {
            "cell_type": "markdown",
            "metadata": {},
            "source": []
        },
        {
            "cell_type": "code",
            "execution_count": null,
            "metadata": {},
            "outputs": [],
            "source": [
                "def custom_filterset_factory(model, filterset_base_class=FilterSet, **meta):\n",
                "    \"\"\"Create a filterset for the given model using the provided meta data\"\"\"\n",
                "    meta.update({\"model\": model})\n",
                "    meta_class = type(\"Meta\", (object,), meta)\n",
                "    filterset = type(\n",
                "        str(\"%sFilterSet\" % model._meta.object_name),\n",
                "        (filterset_base_class, GrapheneFilterSetMixin),\n",
                "        {\"Meta\": meta_class},\n",
                "    )\n",
                "    return filterset\n",
                "\n"
            ]
        },
        {
            "cell_type": "markdown",
            "metadata": {},
            "source": []
        }
    ],
    "metadata": {
        "language_info": {
            "name": "python"
        }
    },
    "nbformat": 4,
    "nbformat_minor": 2
}