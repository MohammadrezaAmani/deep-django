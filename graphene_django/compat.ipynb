{
 "cells": [
  {
   "cell_type": "code",
   "execution_count": null,
   "metadata": {},
   "outputs": [],
   "source": [
    "import sys\n",
    "from pathlib import PurePath\n",
    "\n",
    "# For backwards compatibility, we import JSONField to have it available for import via\n",
    "# this compat module (https://github.com/graphql-python/graphene-django/issues/1428).\n",
    "# Django's JSONField is available in Django 3.2+ (the minimum version we support)\n",
    "from django.db.models import JSONField"
   ]
  },
  {
   "cell_type": "markdown",
   "metadata": {},
   "source": []
  },
  {
   "cell_type": "code",
   "execution_count": null,
   "metadata": {},
   "outputs": [],
   "source": [
    "class MissingType:\n",
    "    def __init__(self, *args, **kwargs):\n",
    "        pass"
   ]
  },
  {
   "cell_type": "markdown",
   "metadata": {},
   "source": []
  },
  {
   "cell_type": "code",
   "execution_count": null,
   "metadata": {},
   "outputs": [],
   "source": [
    "try:\n",
    "    # Postgres fields are only available in Django with psycopg2 installed\n",
    "    # and we cannot have psycopg2 on PyPy\n",
    "    from django.contrib.postgres.fields import (\n",
    "        ArrayField,\n",
    "        HStoreField,\n",
    "        IntegerRangeField,\n",
    "        RangeField,\n",
    "    )\n",
    "except ImportError:\n",
    "    IntegerRangeField, HStoreField, RangeField = (MissingType,) * 3\n",
    "\n",
    "    # For unit tests we fake ArrayField using JSONFields\n",
    "    if any(\n",
    "        PurePath(sys.argv[0]).match(p)\n",
    "        for p in [\n",
    "            \"**/pytest\",\n",
    "            \"**/py.test\",\n",
    "            \"**/pytest/__main__.py\",\n",
    "        ]\n",
    "    ):\n",
    "\n",
    "        class ArrayField(JSONField):\n",
    "            def __init__(self, *args, **kwargs):\n",
    "                if len(args) > 0:\n",
    "                    self.base_field = args[0]\n",
    "                super().__init__(**kwargs)\n",
    "\n",
    "    else:\n",
    "        ArrayField = MissingType"
   ]
  },
  {
   "cell_type": "markdown",
   "metadata": {},
   "source": []
  }
 ],
 "metadata": {
  "language_info": {
   "name": "python"
  }
 },
 "nbformat": 4,
 "nbformat_minor": 2
}