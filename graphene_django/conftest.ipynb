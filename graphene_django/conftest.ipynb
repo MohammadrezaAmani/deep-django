{
 "cells": [
  {
   "cell_type": "code",
   "execution_count": null,
   "metadata": {},
   "outputs": [],
   "source": [
    "import pytest\n",
    "\n",
    "from graphene_django.settings import graphene_settings as gsettings\n",
    "\n",
    "from .registry import reset_global_registry"
   ]
  },
  {
   "cell_type": "markdown",
   "metadata": {},
   "source": []
  },
  {
   "cell_type": "code",
   "execution_count": null,
   "metadata": {},
   "outputs": [],
   "source": [
    "@pytest.fixture(autouse=True)\n",
    "def reset_registry_fixture(db):\n",
    "    yield None\n",
    "    reset_global_registry()"
   ]
  },
  {
   "cell_type": "markdown",
   "metadata": {},
   "source": []
  },
  {
   "cell_type": "code",
   "execution_count": null,
   "metadata": {},
   "outputs": [],
   "source": [
    "@pytest.fixture()\n",
    "def graphene_settings():\n",
    "    settings = dict(gsettings.__dict__)\n",
    "    yield gsettings\n",
    "    gsettings.__dict__ = settings"
   ]
  },
  {
   "cell_type": "markdown",
   "metadata": {},
   "source": []
  }
 ],
 "metadata": {
  "language_info": {
   "name": "python"
  }
 },
 "nbformat": 4,
 "nbformat_minor": 2
}