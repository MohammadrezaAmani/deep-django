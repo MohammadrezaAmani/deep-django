{
 "cells": [
  {
   "cell_type": "code",
   "execution_count": null,
   "metadata": {},
   "outputs": [],
   "source": [
    "import inspect\n",
    "\n",
    "import django\n",
    "from django.db import connection, models, transaction\n",
    "from django.db.models.manager import Manager\n",
    "from django.utils.encoding import force_str\n",
    "from django.utils.functional import Promise\n",
    "from graphene.utils.str_converters import to_camel_case\n",
    "\n",
    "try:\n",
    "    import django_filters  # noqa\n",
    "\n",
    "    DJANGO_FILTER_INSTALLED = True\n",
    "except ImportError:\n",
    "    DJANGO_FILTER_INSTALLED = False"
   ]
  },
  {
   "cell_type": "markdown",
   "metadata": {},
   "source": []
  },
  {
   "cell_type": "code",
   "execution_count": null,
   "metadata": {},
   "outputs": [],
   "source": [
    "def isiterable(value):\n",
    "    try:\n",
    "        iter(value)\n",
    "    except TypeError:\n",
    "        return False\n",
    "    return True"
   ]
  },
  {
   "cell_type": "markdown",
   "metadata": {},
   "source": []
  },
  {
   "cell_type": "code",
   "execution_count": null,
   "metadata": {},
   "outputs": [],
   "source": [
    "def _camelize_django_str(s):\n",
    "    if isinstance(s, Promise):\n",
    "        s = force_str(s)\n",
    "    return to_camel_case(s) if isinstance(s, str) else s"
   ]
  },
  {
   "cell_type": "markdown",
   "metadata": {},
   "source": []
  },
  {
   "cell_type": "code",
   "execution_count": null,
   "metadata": {},
   "outputs": [],
   "source": [
    "def camelize(data):\n",
    "    if isinstance(data, dict):\n",
    "        return {_camelize_django_str(k): camelize(v) for k, v in data.items()}\n",
    "    if isiterable(data) and not isinstance(data, (str, Promise)):\n",
    "        return [camelize(d) for d in data]\n",
    "    return data"
   ]
  },
  {
   "cell_type": "markdown",
   "metadata": {},
   "source": []
  },
  {
   "cell_type": "code",
   "execution_count": null,
   "metadata": {},
   "outputs": [],
   "source": [
    "def _get_model_ancestry(model):\n",
    "    model_ancestry = [model]\n",
    "\n",
    "    for base in model.__bases__:\n",
    "        if is_valid_django_model(base) and getattr(base, \"_meta\", False):\n",
    "            model_ancestry.append(base)\n",
    "    return model_ancestry"
   ]
  },
  {
   "cell_type": "markdown",
   "metadata": {},
   "source": []
  },
  {
   "cell_type": "code",
   "execution_count": null,
   "metadata": {},
   "outputs": [],
   "source": [
    "def get_reverse_fields(model, local_field_names):\n",
    "    \"\"\"\n",
    "    Searches through the model's ancestry and gets reverse relationships the models\n",
    "    Yields a tuple of (field.name, field)\n",
    "    \"\"\"\n",
    "    model_ancestry = _get_model_ancestry(model)\n",
    "\n",
    "    for _model in model_ancestry:\n",
    "        for name, attr in _model.__dict__.items():\n",
    "            # Don't duplicate any local fields\n",
    "            if name in local_field_names:\n",
    "                continue\n",
    "\n",
    "            # \"rel\" for FK and M2M relations and \"related\" for O2O Relations\n",
    "            related = getattr(attr, \"rel\", None) or getattr(attr, \"related\", None)\n",
    "            if isinstance(related, models.ManyToOneRel):\n",
    "                yield (name, related)\n",
    "            elif isinstance(related, models.ManyToManyRel) and not related.symmetrical:\n",
    "                yield (name, related)"
   ]
  },
  {
   "cell_type": "markdown",
   "metadata": {},
   "source": []
  },
  {
   "cell_type": "code",
   "execution_count": null,
   "metadata": {},
   "outputs": [],
   "source": [
    "def get_local_fields(model):\n",
    "    \"\"\"\n",
    "    Searches through the model's ancestry and gets the fields on the models\n",
    "    Returns a dict of {field.name: field}\n",
    "    \"\"\"\n",
    "    model_ancestry = _get_model_ancestry(model)\n",
    "\n",
    "    local_fields_dict = {}\n",
    "    for _model in model_ancestry:\n",
    "        for field in sorted(\n",
    "            list(_model._meta.fields) + list(_model._meta.local_many_to_many)\n",
    "        ):\n",
    "            if field.name not in local_fields_dict:\n",
    "                local_fields_dict[field.name] = field\n",
    "\n",
    "    return list(local_fields_dict.items())"
   ]
  },
  {
   "cell_type": "markdown",
   "metadata": {},
   "source": []
  },
  {
   "cell_type": "code",
   "execution_count": null,
   "metadata": {},
   "outputs": [],
   "source": [
    "def maybe_queryset(value):\n",
    "    if isinstance(value, Manager):\n",
    "        value = value.get_queryset()\n",
    "    return value"
   ]
  },
  {
   "cell_type": "markdown",
   "metadata": {},
   "source": []
  },
  {
   "cell_type": "code",
   "execution_count": null,
   "metadata": {},
   "outputs": [],
   "source": [
    "def get_model_fields(model):\n",
    "    \"\"\"\n",
    "    Gets all the fields and relationships on the Django model and its ancestry.\n",
    "    Prioritizes local fields and relationships over the reverse relationships of the same name\n",
    "    Returns a tuple of (field.name, field)\n",
    "    \"\"\"\n",
    "    local_fields = get_local_fields(model)\n",
    "    local_field_names = {field[0] for field in local_fields}\n",
    "    reverse_fields = get_reverse_fields(model, local_field_names)\n",
    "    all_fields = local_fields + list(reverse_fields)\n",
    "\n",
    "    return all_fields"
   ]
  },
  {
   "cell_type": "markdown",
   "metadata": {},
   "source": []
  },
  {
   "cell_type": "code",
   "execution_count": null,
   "metadata": {},
   "outputs": [],
   "source": [
    "def is_valid_django_model(model):\n",
    "    return inspect.isclass(model) and issubclass(model, models.Model)"
   ]
  },
  {
   "cell_type": "markdown",
   "metadata": {},
   "source": []
  },
  {
   "cell_type": "code",
   "execution_count": null,
   "metadata": {},
   "outputs": [],
   "source": [
    "def import_single_dispatch():\n",
    "    try:\n",
    "        from functools import singledispatch\n",
    "    except ImportError:\n",
    "        singledispatch = None\n",
    "\n",
    "    if not singledispatch:\n",
    "        try:\n",
    "            from singledispatch import singledispatch\n",
    "        except ImportError:\n",
    "            pass\n",
    "\n",
    "    if not singledispatch:\n",
    "        raise Exception(\n",
    "            \"It seems your python version does not include \"\n",
    "            \"functools.singledispatch. Please install the 'singledispatch' \"\n",
    "            \"package. More information here: \"\n",
    "            \"https://pypi.python.org/pypi/singledispatch\"\n",
    "        )\n",
    "\n",
    "    return singledispatch"
   ]
  },
  {
   "cell_type": "markdown",
   "metadata": {},
   "source": []
  },
  {
   "cell_type": "code",
   "execution_count": null,
   "metadata": {},
   "outputs": [],
   "source": [
    "def set_rollback():\n",
    "    atomic_requests = connection.settings_dict.get(\"ATOMIC_REQUESTS\", False)\n",
    "    if atomic_requests and connection.in_atomic_block:\n",
    "        transaction.set_rollback(True)"
   ]
  },
  {
   "cell_type": "markdown",
   "metadata": {},
   "source": []
  },
  {
   "cell_type": "code",
   "execution_count": null,
   "metadata": {},
   "outputs": [],
   "source": [
    "def bypass_get_queryset(resolver):\n",
    "    \"\"\"\n",
    "    Adds a bypass_get_queryset attribute to the resolver, which is used to\n",
    "    bypass any custom get_queryset method of the DjangoObjectType.\n",
    "    \"\"\"\n",
    "    resolver._bypass_get_queryset = True\n",
    "    return resolver"
   ]
  },
  {
   "cell_type": "markdown",
   "metadata": {},
   "source": []
  },
  {
   "cell_type": "code",
   "execution_count": null,
   "metadata": {},
   "outputs": [],
   "source": [
    "_DJANGO_VERSION_AT_LEAST_4_2 = django.VERSION[0] > 4 or (\n",
    "    django.VERSION[0] >= 4 and django.VERSION[1] >= 2\n",
    ")"
   ]
  },
  {
   "cell_type": "markdown",
   "metadata": {},
   "source": []
  }
 ],
 "metadata": {
  "language_info": {
   "name": "python"
  }
 },
 "nbformat": 4,
 "nbformat_minor": 2
}