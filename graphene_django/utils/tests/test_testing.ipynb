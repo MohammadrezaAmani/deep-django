{
 "cells": [
  {
   "cell_type": "code",
   "execution_count": null,
   "metadata": {},
   "outputs": [],
   "source": [
    "import pytest\n",
    "from django.test import Client\n",
    "\n",
    "from ...settings import graphene_settings\n",
    "from ...tests.test_types import with_local_registry\n",
    "from .. import GraphQLTestCase"
   ]
  },
  {
   "cell_type": "markdown",
   "metadata": {},
   "source": []
  },
  {
   "cell_type": "code",
   "execution_count": null,
   "metadata": {},
   "outputs": [],
   "source": [
    "@with_local_registry\n",
    "def test_graphql_test_case_deprecated_client_getter():\n",
    "    \"\"\"\n",
    "    `GraphQLTestCase._client`' getter should raise pending deprecation warning.\n",
    "    \"\"\"\n",
    "\n",
    "    class TestClass(GraphQLTestCase):\n",
    "        GRAPHQL_SCHEMA = True\n",
    "\n",
    "        def runTest(self):\n",
    "            pass\n",
    "\n",
    "    tc = TestClass()\n",
    "    tc._pre_setup()\n",
    "    tc.setUpClass()\n",
    "\n",
    "    with pytest.warns(PendingDeprecationWarning):\n",
    "        tc._client  # noqa: B018"
   ]
  },
  {
   "cell_type": "markdown",
   "metadata": {},
   "source": []
  },
  {
   "cell_type": "code",
   "execution_count": null,
   "metadata": {},
   "outputs": [],
   "source": [
    "@with_local_registry\n",
    "def test_graphql_test_case_deprecated_client_setter():\n",
    "    \"\"\"\n",
    "    `GraphQLTestCase._client`' setter should raise pending deprecation warning.\n",
    "    \"\"\"\n",
    "\n",
    "    class TestClass(GraphQLTestCase):\n",
    "        GRAPHQL_SCHEMA = True\n",
    "\n",
    "        def runTest(self):\n",
    "            pass\n",
    "\n",
    "    tc = TestClass()\n",
    "    tc._pre_setup()\n",
    "    tc.setUpClass()\n",
    "\n",
    "    with pytest.warns(PendingDeprecationWarning):\n",
    "        tc._client = Client()"
   ]
  },
  {
   "cell_type": "markdown",
   "metadata": {},
   "source": []
  },
  {
   "cell_type": "code",
   "execution_count": null,
   "metadata": {},
   "outputs": [],
   "source": [
    "def test_graphql_test_case_imports_endpoint():\n",
    "    \"\"\"\n",
    "    GraphQLTestCase class should import the default endpoint from settings file\n",
    "    \"\"\"\n",
    "\n",
    "    assert GraphQLTestCase.GRAPHQL_URL == graphene_settings.TESTING_ENDPOINT"
   ]
  },
  {
   "cell_type": "markdown",
   "metadata": {},
   "source": []
  }
 ],
 "metadata": {
  "language_info": {
   "name": "python"
  }
 },
 "nbformat": 4,
 "nbformat_minor": 2
}