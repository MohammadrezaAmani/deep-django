{
 "cells": [
  {
   "cell_type": "code",
   "execution_count": null,
   "metadata": {},
   "outputs": [],
   "source": [
    "# Code obtained from django-debug-toolbar sql panel tracking\n",
    "\n",
    "import json\n",
    "from threading import local\n",
    "from time import time\n",
    "\n",
    "from django.utils.encoding import force_str\n",
    "\n",
    "from .types import DjangoDebugSQL"
   ]
  },
  {
   "cell_type": "markdown",
   "metadata": {},
   "source": []
  },
  {
   "cell_type": "code",
   "execution_count": null,
   "metadata": {},
   "outputs": [],
   "source": [
    "class SQLQueryTriggered(Exception):\n",
    "    \"\"\"Thrown when template panel triggers a query\"\"\""
   ]
  },
  {
   "cell_type": "markdown",
   "metadata": {},
   "source": []
  },
  {
   "cell_type": "code",
   "execution_count": null,
   "metadata": {},
   "outputs": [],
   "source": [
    "class ThreadLocalState(local):\n",
    "    def __init__(self):\n",
    "        self.enabled = True\n",
    "\n",
    "    @property\n",
    "    def Wrapper(self):\n",
    "        if self.enabled:\n",
    "            return NormalCursorWrapper\n",
    "        return ExceptionCursorWrapper\n",
    "\n",
    "    def recording(self, v):\n",
    "        self.enabled = v"
   ]
  },
  {
   "cell_type": "markdown",
   "metadata": {},
   "source": []
  },
  {
   "cell_type": "code",
   "execution_count": null,
   "metadata": {},
   "outputs": [],
   "source": [
    "state = ThreadLocalState()\n",
    "recording = state.recording  # export function"
   ]
  },
  {
   "cell_type": "markdown",
   "metadata": {},
   "source": []
  },
  {
   "cell_type": "code",
   "execution_count": null,
   "metadata": {},
   "outputs": [],
   "source": [
    "def wrap_cursor(connection, panel):\n",
    "    if not hasattr(connection, \"_graphene_cursor\"):\n",
    "        connection._graphene_cursor = connection.cursor\n",
    "\n",
    "        def cursor():\n",
    "            return state.Wrapper(connection._graphene_cursor(), connection, panel)\n",
    "\n",
    "        connection.cursor = cursor\n",
    "        return cursor"
   ]
  },
  {
   "cell_type": "markdown",
   "metadata": {},
   "source": []
  },
  {
   "cell_type": "code",
   "execution_count": null,
   "metadata": {},
   "outputs": [],
   "source": [
    "def unwrap_cursor(connection):\n",
    "    if hasattr(connection, \"_graphene_cursor\"):\n",
    "        previous_cursor = connection._graphene_cursor\n",
    "        connection.cursor = previous_cursor\n",
    "        del connection._graphene_cursor"
   ]
  },
  {
   "cell_type": "markdown",
   "metadata": {},
   "source": []
  },
  {
   "cell_type": "code",
   "execution_count": null,
   "metadata": {},
   "outputs": [],
   "source": [
    "class ExceptionCursorWrapper:\n",
    "    \"\"\"\n",
    "    Wraps a cursor and raises an exception on any operation.\n",
    "    Used in Templates panel.\n",
    "    \"\"\"\n",
    "\n",
    "    def __init__(self, cursor, db, logger):\n",
    "        pass\n",
    "\n",
    "    def __getattr__(self, attr):\n",
    "        raise SQLQueryTriggered()"
   ]
  },
  {
   "cell_type": "markdown",
   "metadata": {},
   "source": []
  },
  {
   "cell_type": "code",
   "execution_count": null,
   "metadata": {},
   "outputs": [],
   "source": [
    "class NormalCursorWrapper:\n",
    "    \"\"\"\n",
    "    Wraps a cursor and logs queries.\n",
    "    \"\"\"\n",
    "\n",
    "    def __init__(self, cursor, db, logger):\n",
    "        self.cursor = cursor\n",
    "        # Instance of a BaseDatabaseWrapper subclass\n",
    "        self.db = db\n",
    "        # logger must implement a ``record`` method\n",
    "        self.logger = logger\n",
    "\n",
    "    def _quote_expr(self, element):\n",
    "        if isinstance(element, str):\n",
    "            return \"'%s'\" % force_str(element).replace(\"'\", \"''\")\n",
    "        else:\n",
    "            return repr(element)\n",
    "\n",
    "    def _quote_params(self, params):\n",
    "        if not params:\n",
    "            return params\n",
    "        if isinstance(params, dict):\n",
    "            return {key: self._quote_expr(value) for key, value in params.items()}\n",
    "        return list(map(self._quote_expr, params))\n",
    "\n",
    "    def _decode(self, param):\n",
    "        try:\n",
    "            return force_str(param, strings_only=True)\n",
    "        except UnicodeDecodeError:\n",
    "            return \"(encoded string)\"\n",
    "\n",
    "    def _record(self, method, sql, params):\n",
    "        start_time = time()\n",
    "        try:\n",
    "            return method(sql, params)\n",
    "        finally:\n",
    "            stop_time = time()\n",
    "            duration = stop_time - start_time\n",
    "            _params = \"\"\n",
    "            try:\n",
    "                _params = json.dumps(list(map(self._decode, params)))\n",
    "            except Exception:\n",
    "                pass  # object not JSON serializable\n",
    "\n",
    "            alias = getattr(self.db, \"alias\", \"default\")\n",
    "            conn = self.db.connection\n",
    "            vendor = getattr(conn, \"vendor\", \"unknown\")\n",
    "\n",
    "            params = {\n",
    "                \"vendor\": vendor,\n",
    "                \"alias\": alias,\n",
    "                \"sql\": self.db.ops.last_executed_query(\n",
    "                    self.cursor, sql, self._quote_params(params)\n",
    "                ),\n",
    "                \"duration\": duration,\n",
    "                \"raw_sql\": sql,\n",
    "                \"params\": _params,\n",
    "                \"start_time\": start_time,\n",
    "                \"stop_time\": stop_time,\n",
    "                \"is_slow\": duration > 10,\n",
    "                \"is_select\": sql.lower().strip().startswith(\"select\"),\n",
    "            }\n",
    "\n",
    "            if vendor == \"postgresql\":\n",
    "                # If an erroneous query was ran on the connection, it might\n",
    "                # be in a state where checking isolation_level raises an\n",
    "                # exception.\n",
    "                try:\n",
    "                    iso_level = conn.isolation_level\n",
    "                except conn.InternalError:\n",
    "                    iso_level = \"unknown\"\n",
    "                params.update(\n",
    "                    {\n",
    "                        \"trans_id\": self.logger.get_transaction_id(alias),\n",
    "                        \"trans_status\": conn.get_transaction_status(),\n",
    "                        \"iso_level\": iso_level,\n",
    "                        \"encoding\": conn.encoding,\n",
    "                    }\n",
    "                )\n",
    "\n",
    "            _sql = DjangoDebugSQL(**params)\n",
    "            # We keep `sql` to maintain backwards compatibility\n",
    "            self.logger.object.sql.append(_sql)\n",
    "\n",
    "    def callproc(self, procname, params=None):\n",
    "        return self._record(self.cursor.callproc, procname, params)\n",
    "\n",
    "    def execute(self, sql, params=None):\n",
    "        return self._record(self.cursor.execute, sql, params)\n",
    "\n",
    "    def executemany(self, sql, param_list):\n",
    "        return self._record(self.cursor.executemany, sql, param_list)\n",
    "\n",
    "    def __getattr__(self, attr):\n",
    "        return getattr(self.cursor, attr)\n",
    "\n",
    "    def __iter__(self):\n",
    "        return iter(self.cursor)\n",
    "\n",
    "    def __enter__(self):\n",
    "        return self\n",
    "\n",
    "    def __exit__(self, type, value, traceback):\n",
    "        self.close()"
   ]
  },
  {
   "cell_type": "markdown",
   "metadata": {},
   "source": []
  }
 ],
 "metadata": {
  "language_info": {
   "name": "python"
  }
 },
 "nbformat": 4,
 "nbformat_minor": 2
}