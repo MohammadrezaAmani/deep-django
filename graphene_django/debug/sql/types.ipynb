{
 "cells": [
  {
   "cell_type": "code",
   "execution_count": null,
   "metadata": {},
   "outputs": [],
   "source": [
    "from graphene import Boolean, Float, ObjectType, String"
   ]
  },
  {
   "cell_type": "markdown",
   "metadata": {},
   "source": []
  },
  {
   "cell_type": "code",
   "execution_count": null,
   "metadata": {},
   "outputs": [],
   "source": [
    "class DjangoDebugSQL(ObjectType):\n",
    "    class Meta:\n",
    "        description = \"Represents a single database query made to a Django managed DB.\"\n",
    "\n",
    "    vendor = String(\n",
    "        required=True,\n",
    "        description=(\n",
    "            \"The type of database being used (e.g. postrgesql, mysql, sqlite).\"\n",
    "        ),\n",
    "    )\n",
    "    alias = String(\n",
    "        required=True, description=\"The Django database alias (e.g. 'default').\"\n",
    "    )\n",
    "    sql = String(description=\"The actual SQL sent to this database.\")\n",
    "    duration = Float(\n",
    "        required=True, description=\"Duration of this database query in seconds.\"\n",
    "    )\n",
    "    raw_sql = String(\n",
    "        required=True, description=\"The raw SQL of this query, without params.\"\n",
    "    )\n",
    "    params = String(\n",
    "        required=True, description=\"JSON encoded database query parameters.\"\n",
    "    )\n",
    "    start_time = Float(required=True, description=\"Start time of this database query.\")\n",
    "    stop_time = Float(required=True, description=\"Stop time of this database query.\")\n",
    "    is_slow = Boolean(\n",
    "        required=True,\n",
    "        description=\"Whether this database query took more than 10 seconds.\",\n",
    "    )\n",
    "    is_select = Boolean(\n",
    "        required=True, description=\"Whether this database query was a SELECT.\"\n",
    "    )\n",
    "\n",
    "    # Postgres\n",
    "    trans_id = String(description=\"Postgres transaction ID if available.\")\n",
    "    trans_status = String(description=\"Postgres transaction status if available.\")\n",
    "    iso_level = String(description=\"Postgres isolation level if available.\")\n",
    "    encoding = String(description=\"Postgres connection encoding if available.\")"
   ]
  },
  {
   "cell_type": "markdown",
   "metadata": {},
   "source": []
  }
 ],
 "metadata": {
  "language_info": {
   "name": "python"
  }
 },
 "nbformat": 4,
 "nbformat_minor": 2
}