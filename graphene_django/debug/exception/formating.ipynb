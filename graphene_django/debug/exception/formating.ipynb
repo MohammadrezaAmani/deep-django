{
 "cells": [
  {
   "cell_type": "code",
   "execution_count": null,
   "metadata": {},
   "outputs": [],
   "source": [
    "import traceback\n",
    "\n",
    "from django.utils.encoding import force_str\n",
    "\n",
    "from .types import DjangoDebugException"
   ]
  },
  {
   "cell_type": "markdown",
   "metadata": {},
   "source": []
  },
  {
   "cell_type": "code",
   "execution_count": null,
   "metadata": {},
   "outputs": [],
   "source": [
    "def wrap_exception(exception):\n",
    "    return DjangoDebugException(\n",
    "        message=force_str(exception),\n",
    "        exc_type=force_str(type(exception)),\n",
    "        stack=\"\".join(\n",
    "            traceback.format_exception(\n",
    "                exception, value=exception, tb=exception.__traceback__\n",
    "            )\n",
    "        ),\n",
    "    )"
   ]
  },
  {
   "cell_type": "markdown",
   "metadata": {},
   "source": []
  }
 ],
 "metadata": {
  "language_info": {
   "name": "python"
  }
 },
 "nbformat": 4,
 "nbformat_minor": 2
}