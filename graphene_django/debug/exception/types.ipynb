{
 "cells": [
  {
   "cell_type": "code",
   "execution_count": null,
   "metadata": {},
   "outputs": [],
   "source": [
    "from graphene import ObjectType, String"
   ]
  },
  {
   "cell_type": "markdown",
   "metadata": {},
   "source": []
  },
  {
   "cell_type": "code",
   "execution_count": null,
   "metadata": {},
   "outputs": [],
   "source": [
    "class DjangoDebugException(ObjectType):\n",
    "    class Meta:\n",
    "        description = \"Represents a single exception raised.\"\n",
    "\n",
    "    exc_type = String(required=True, description=\"The class of the exception\")\n",
    "    message = String(required=True, description=\"The message of the exception\")\n",
    "    stack = String(required=True, description=\"The stack trace\")"
   ]
  },
  {
   "cell_type": "markdown",
   "metadata": {},
   "source": []
  }
 ],
 "metadata": {
  "language_info": {
   "name": "python"
  }
 },
 "nbformat": 4,
 "nbformat_minor": 2
}