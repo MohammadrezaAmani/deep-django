{
    "cells": [
        {
            "cell_type": "code",
            "execution_count": null,
            "metadata": {},
            "outputs": [],
            "source": [
                "from django.db import connections\n",
                "\n",
                "from .exception.formating import wrap_exception\n",
                "from .sql.tracking import unwrap_cursor, wrap_cursor\n",
                "from .types import DjangoDebug\n"
            ]
        },
        {
            "cell_type": "markdown",
            "metadata": {},
            "source": []
        },
        {
            "cell_type": "code",
            "execution_count": null,
            "metadata": {},
            "outputs": [],
            "source": [
                "class DjangoDebugContext:\n",
                "    def __init__(self):\n",
                "        self.debug_result = None\n",
                "        self.results = []\n",
                "        self.object = DjangoDebug(sql=[], exceptions=[])\n",
                "        self.enable_instrumentation()\n",
                "\n",
                "    def get_debug_result(self):\n",
                "        if not self.debug_result:\n",
                "            self.debug_result = self.results\n",
                "            self.results = []\n",
                "        return self.on_resolve_all_results()\n",
                "\n",
                "    def on_resolve_error(self, value):\n",
                "        if hasattr(self, \"object\"):\n",
                "            self.object.exceptions.append(wrap_exception(value))\n",
                "        return value\n",
                "\n",
                "    def on_resolve_all_results(self):\n",
                "        if self.results:\n",
                "            self.debug_result = None\n",
                "            return self.get_debug_result()\n",
                "        self.disable_instrumentation()\n",
                "        return self.object\n",
                "\n",
                "    def add_result(self, result):\n",
                "        if self.debug_result:\n",
                "            self.results.append(result)\n",
                "\n",
                "    def enable_instrumentation(self):\n",
                "        # This is thread-safe because database connections are thread-local.\n",
                "        for connection in connections.all():\n",
                "            wrap_cursor(connection, self)\n",
                "\n",
                "    def disable_instrumentation(self):\n",
                "        for connection in connections.all():\n",
                "            unwrap_cursor(connection)\n"
            ]
        },
        {
            "cell_type": "markdown",
            "metadata": {},
            "source": []
        },
        {
            "cell_type": "code",
            "execution_count": null,
            "metadata": {},
            "outputs": [],
            "source": [
                "class DjangoDebugMiddleware:\n",
                "    def resolve(self, next, root, info, **args):\n",
                "        context = info.context\n",
                "        django_debug = getattr(context, \"django_debug\", None)\n",
                "        if not django_debug:\n",
                "            if context is None:\n",
                "                raise Exception(\"DjangoDebug cannot be executed in None contexts\")\n",
                "            try:\n",
                "                context.django_debug = DjangoDebugContext()\n",
                "            except Exception:\n",
                "                raise Exception(\n",
                "                    \"DjangoDebug need the context to be writable, context received: {}.\".format(\n",
                "                        context.__class__.__name__\n",
                "                    )\n",
                "                )\n",
                "        if info.schema.get_type(\"DjangoDebug\") == info.return_type:\n",
                "            return context.django_debug.get_debug_result()\n",
                "        try:\n",
                "            result = next(root, info, **args)\n",
                "        except Exception as e:\n",
                "            return context.django_debug.on_resolve_error(e)\n",
                "        context.django_debug.add_result(result)\n",
                "        return result\n",
                "\n"
            ]
        },
        {
            "cell_type": "markdown",
            "metadata": {},
            "source": []
        }
    ],
    "metadata": {
        "language_info": {
            "name": "python"
        }
    },
    "nbformat": 4,
    "nbformat_minor": 2
}