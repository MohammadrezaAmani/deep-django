{
 "cells": [
  {
   "cell_type": "code",
   "execution_count": null,
   "metadata": {},
   "outputs": [],
   "source": [
    "from graphene import List, ObjectType\n",
    "\n",
    "from .exception.types import DjangoDebugException\n",
    "from .sql.types import DjangoDebugSQL"
   ]
  },
  {
   "cell_type": "markdown",
   "metadata": {},
   "source": []
  },
  {
   "cell_type": "code",
   "execution_count": null,
   "metadata": {},
   "outputs": [],
   "source": [
    "class DjangoDebug(ObjectType):\n",
    "    class Meta:\n",
    "        description = \"Debugging information for the current query.\"\n",
    "\n",
    "    sql = List(DjangoDebugSQL, description=\"Executed SQL queries for this API query.\")\n",
    "    exceptions = List(\n",
    "        DjangoDebugException, description=\"Raise exceptions for this API query.\"\n",
    "    )"
   ]
  },
  {
   "cell_type": "markdown",
   "metadata": {},
   "source": []
  }
 ],
 "metadata": {
  "language_info": {
   "name": "python"
  }
 },
 "nbformat": 4,
 "nbformat_minor": 2
}