{
 "cells": [
  {
   "cell_type": "code",
   "execution_count": null,
   "metadata": {},
   "outputs": [],
   "source": [
    "from functools import wraps\n",
    "\n",
    "from allauth.core import ratelimit"
   ]
  },
  {
   "cell_type": "markdown",
   "metadata": {},
   "source": []
  },
  {
   "cell_type": "code",
   "execution_count": null,
   "metadata": {},
   "outputs": [],
   "source": [
    "def rate_limit(*, action, **rl_kwargs):\n",
    "    def decorator(function):\n",
    "        @wraps(function)\n",
    "        def wrap(request, *args, **kwargs):\n",
    "            resp = ratelimit.consume_or_429(request, action=action, **rl_kwargs)\n",
    "            if not resp:\n",
    "                resp = function(request, *args, **kwargs)\n",
    "            return resp\n",
    "\n",
    "        return wrap\n",
    "\n",
    "    return decorator"
   ]
  },
  {
   "cell_type": "markdown",
   "metadata": {},
   "source": []
  }
 ],
 "metadata": {
  "language_info": {
   "name": "python"
  }
 },
 "nbformat": 4,
 "nbformat_minor": 2
}