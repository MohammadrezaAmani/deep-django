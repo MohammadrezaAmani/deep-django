{
    "cells": [
        {
            "cell_type": "code",
            "execution_count": null,
            "metadata": {},
            "outputs": [],
            "source": [
                "from contextlib import contextmanager\n",
                "from contextvars import ContextVar\n",
                "\n",
                "_request_var = ContextVar(\"request\", default=None)\n"
            ]
        },
        {
            "cell_type": "markdown",
            "metadata": {},
            "source": []
        },
        {
            "cell_type": "code",
            "execution_count": null,
            "metadata": {},
            "outputs": [],
            "source": [
                "def __getattr__(name):\n",
                "    if name == \"request\":\n",
                "        return _request_var.get()\n",
                "    raise AttributeError(name)\n"
            ]
        },
        {
            "cell_type": "markdown",
            "metadata": {},
            "source": []
        },
        {
            "cell_type": "code",
            "execution_count": null,
            "metadata": {},
            "outputs": [],
            "source": [
                "@contextmanager\n",
                "def request_context(request):\n",
                "    token = _request_var.set(request)\n",
                "    try:\n",
                "        yield\n",
                "    finally:\n",
                "        _request_var.reset(token)\n",
                "\n"
            ]
        },
        {
            "cell_type": "markdown",
            "metadata": {},
            "source": []
        }
    ],
    "metadata": {
        "language_info": {
            "name": "python"
        }
    },
    "nbformat": 4,
    "nbformat_minor": 2
}