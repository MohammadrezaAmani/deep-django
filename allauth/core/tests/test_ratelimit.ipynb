{
 "cells": [
  {
   "cell_type": "code",
   "execution_count": null,
   "metadata": {},
   "outputs": [],
   "source": [
    "import pytest\n",
    "\n",
    "from allauth.core import ratelimit"
   ]
  },
  {
   "cell_type": "markdown",
   "metadata": {},
   "source": []
  },
  {
   "cell_type": "code",
   "execution_count": null,
   "metadata": {},
   "outputs": [],
   "source": [
    "@pytest.mark.parametrize(\n",
    "    \"rate,values\",\n",
    "    [\n",
    "        (\"5/m\", [(5, 60, \"ip\")]),\n",
    "        (\"5/m/user\", [(5, 60, \"user\")]),\n",
    "        (\"2/3.5m/key\", [(2, 210, \"key\")]),\n",
    "        (\"3/5m/user,20/0.5m/ip\", [(3, 300, \"user\"), (20, 30, \"ip\")]),\n",
    "        (\"7/2h\", [(7, 7200, \"ip\")]),\n",
    "        (\"7/0.25d\", [(7, 21600, \"ip\")]),\n",
    "    ],\n",
    ")\n",
    "def test_parse(rate, values):\n",
    "    rates = ratelimit._parse_rates(rate)\n",
    "    assert len(rates) == len(values)\n",
    "    for i, rate in enumerate(rates):\n",
    "        assert rate.amount == values[i][0]\n",
    "        assert rate.duration == values[i][1]\n",
    "        assert rate.per == values[i][2]"
   ]
  },
  {
   "cell_type": "markdown",
   "metadata": {},
   "source": []
  }
 ],
 "metadata": {
  "language_info": {
   "name": "python"
  }
 },
 "nbformat": 4,
 "nbformat_minor": 2
}