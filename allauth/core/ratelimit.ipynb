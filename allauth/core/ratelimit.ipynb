{
 "cells": [
  {
   "cell_type": "code",
   "execution_count": null,
   "metadata": {},
   "outputs": [],
   "source": [
    "import hashlib\n",
    "import time\n",
    "from collections import namedtuple\n",
    "\n",
    "from django.conf import settings\n",
    "from django.core.cache import cache\n",
    "from django.core.exceptions import ImproperlyConfigured\n",
    "from django.shortcuts import render\n",
    "\n",
    "from allauth import app_settings\n",
    "from allauth.utils import import_callable"
   ]
  },
  {
   "cell_type": "markdown",
   "metadata": {},
   "source": []
  },
  {
   "cell_type": "code",
   "execution_count": null,
   "metadata": {},
   "outputs": [],
   "source": [
    "Rate = namedtuple(\"Rate\", \"amount duration per\")"
   ]
  },
  {
   "cell_type": "markdown",
   "metadata": {},
   "source": []
  },
  {
   "cell_type": "code",
   "execution_count": null,
   "metadata": {},
   "outputs": [],
   "source": [
    "def _parse_duration(duration):\n",
    "    if len(duration) == 0:\n",
    "        raise ValueError(duration)\n",
    "    unit = duration[-1]\n",
    "    value = duration[0:-1]\n",
    "    unit_map = {\"s\": 1, \"m\": 60, \"h\": 3600, \"d\": 86400}\n",
    "    if unit not in unit_map:\n",
    "        raise ValueError(\"Invalid duration unit: %s\" % unit)\n",
    "    if len(value) == 0:\n",
    "        value = 1\n",
    "    else:\n",
    "        value = float(value)\n",
    "    return value * unit_map[unit]"
   ]
  },
  {
   "cell_type": "markdown",
   "metadata": {},
   "source": []
  },
  {
   "cell_type": "code",
   "execution_count": null,
   "metadata": {},
   "outputs": [],
   "source": [
    "def _parse_rate(rate):\n",
    "    parts = rate.split(\"/\")\n",
    "    if len(parts) == 2:\n",
    "        amount, duration = parts\n",
    "        per = \"ip\"\n",
    "    elif len(parts) == 3:\n",
    "        amount, duration, per = parts\n",
    "    else:\n",
    "        raise ValueError(rate)\n",
    "    amount = int(amount)\n",
    "    duration = _parse_duration(duration)\n",
    "    return Rate(amount, duration, per)"
   ]
  },
  {
   "cell_type": "markdown",
   "metadata": {},
   "source": []
  },
  {
   "cell_type": "code",
   "execution_count": null,
   "metadata": {},
   "outputs": [],
   "source": [
    "def _parse_rates(rates):\n",
    "    ret = []\n",
    "    if rates:\n",
    "        rates = rates.strip()\n",
    "        if rates:\n",
    "            parts = rates.split(\",\")\n",
    "            for part in parts:\n",
    "                ret.append(_parse_rate(part.strip()))\n",
    "    return ret"
   ]
  },
  {
   "cell_type": "markdown",
   "metadata": {},
   "source": []
  },
  {
   "cell_type": "code",
   "execution_count": null,
   "metadata": {},
   "outputs": [],
   "source": [
    "def _cache_key(request, *, action, rate, key=None, user=None):\n",
    "    from allauth.account.adapter import get_adapter\n",
    "\n",
    "    if rate.per == \"ip\":\n",
    "        source = (\"ip\", get_adapter().get_client_ip(request))\n",
    "    elif rate.per == \"user\":\n",
    "        if user is None:\n",
    "            if not request.user.is_authenticated:\n",
    "                raise ImproperlyConfigured(\n",
    "                    \"ratelimit configured per user but used anonymously\"\n",
    "                )\n",
    "            user = request.user\n",
    "        source = (\"user\", str(user.pk))\n",
    "    elif rate.per == \"key\":\n",
    "        if key is None:\n",
    "            raise ImproperlyConfigured(\n",
    "                \"ratelimit configured per key but no key specified\"\n",
    "            )\n",
    "        key_hash = hashlib.sha256(key.encode(\"utf8\")).hexdigest()\n",
    "        source = (key_hash,)\n",
    "    else:\n",
    "        raise ValueError(rate.per)\n",
    "    keys = [\"allauth\", \"rl\", action, *source]\n",
    "    return \":\".join(keys)"
   ]
  },
  {
   "cell_type": "markdown",
   "metadata": {},
   "source": []
  },
  {
   "cell_type": "code",
   "execution_count": null,
   "metadata": {},
   "outputs": [],
   "source": [
    "def clear(request, *, action, key=None, user=None):\n",
    "    from allauth.account import app_settings\n",
    "\n",
    "    rates = _parse_rates(app_settings.RATE_LIMITS.get(action))\n",
    "    for rate in rates:\n",
    "        cache_key = _cache_key(request, action=action, rate=rate, key=key, user=user)\n",
    "        cache.delete(cache_key)"
   ]
  },
  {
   "cell_type": "markdown",
   "metadata": {},
   "source": []
  },
  {
   "cell_type": "code",
   "execution_count": null,
   "metadata": {},
   "outputs": [],
   "source": [
    "def consume(request, *, action, key=None, user=None):\n",
    "    from allauth.account import app_settings\n",
    "\n",
    "    if not request or request.method == \"GET\":\n",
    "        return True\n",
    "\n",
    "    rates = _parse_rates(app_settings.RATE_LIMITS.get(action))\n",
    "    if not rates:\n",
    "        return True\n",
    "\n",
    "    allowed = True\n",
    "    for rate in rates:\n",
    "        if not _consume_rate(request, action=action, rate=rate, key=key, user=user):\n",
    "            allowed = False\n",
    "    return allowed"
   ]
  },
  {
   "cell_type": "markdown",
   "metadata": {},
   "source": []
  },
  {
   "cell_type": "code",
   "execution_count": null,
   "metadata": {},
   "outputs": [],
   "source": [
    "def _consume_rate(request, *, action, rate, key=None, user=None):\n",
    "    cache_key = _cache_key(request, action=action, rate=rate, key=key, user=user)\n",
    "    history = cache.get(cache_key, [])\n",
    "    now = time.time()\n",
    "    while history and history[-1] <= now - rate.duration:\n",
    "        history.pop()\n",
    "    allowed = len(history) < rate.amount\n",
    "    if allowed:\n",
    "        history.insert(0, now)\n",
    "        cache.set(cache_key, history, rate.duration)\n",
    "    return allowed"
   ]
  },
  {
   "cell_type": "markdown",
   "metadata": {},
   "source": []
  },
  {
   "cell_type": "code",
   "execution_count": null,
   "metadata": {},
   "outputs": [],
   "source": [
    "def _handler429(request):\n",
    "    from allauth.account import app_settings\n",
    "\n",
    "    return render(request, \"429.\" + app_settings.TEMPLATE_EXTENSION, status=429)"
   ]
  },
  {
   "cell_type": "markdown",
   "metadata": {},
   "source": []
  },
  {
   "cell_type": "code",
   "execution_count": null,
   "metadata": {},
   "outputs": [],
   "source": [
    "def consume_or_429(request, *args, **kwargs):\n",
    "    if not consume(request, *args, **kwargs):\n",
    "        if app_settings.HEADLESS_ENABLED and hasattr(request.allauth, \"headless\"):\n",
    "            from allauth.headless.base.response import RateLimitResponse\n",
    "\n",
    "            return RateLimitResponse(request)\n",
    "\n",
    "        try:\n",
    "            handler429 = import_callable(settings.ROOT_URLCONF + \".handler429\")\n",
    "            handler429 = import_callable(handler429)\n",
    "        except (ImportError, AttributeError):\n",
    "            handler429 = _handler429\n",
    "        return handler429(request)"
   ]
  },
  {
   "cell_type": "markdown",
   "metadata": {},
   "source": []
  }
 ],
 "metadata": {
  "language_info": {
   "name": "python"
  }
 },
 "nbformat": 4,
 "nbformat_minor": 2
}