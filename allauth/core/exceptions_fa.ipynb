{
 "cells": [
  {
   "cell_type": "code",
   "execution_count": null,
   "metadata": {},
   "outputs": [],
   "source": [
    "class ImmediateHttpResponse(Exception):\n",
    "    \"\"\"\n",
    "    This exception is used to interrupt the flow of processing to immediately\n",
    "    return a custom HttpResponse.\n",
    "    \"\"\"\n",
    "\n",
    "    def __init__(self, response):\n",
    "        self.response = response"
   ]
  },
  {
   "cell_type": "markdown",
   "metadata": {},
   "source": []
  },
  {
   "cell_type": "code",
   "execution_count": null,
   "metadata": {},
   "outputs": [],
   "source": [
    "class ReauthenticationRequired(Exception):\n",
    "    \"\"\"\n",
    "    The action could not be performed because the user needs to\n",
    "    reauthenticate.\n",
    "    \"\"\"\n",
    "\n",
    "    pass"
   ]
  },
  {
   "cell_type": "markdown",
   "metadata": {},
   "source": []
  }
 ],
 "metadata": {
  "language_info": {
   "name": "python"
  }
 },
 "nbformat": 4,
 "nbformat_minor": 2
}