{
    "cells": [
        {
            "cell_type": "code",
            "execution_count": null,
            "metadata": {},
            "outputs": [],
            "source": [
                "import pytest\n",
                "\n",
                "from allauth.core.internal import httpkit\n"
            ]
        },
        {
            "cell_type": "markdown",
            "metadata": {},
            "source": []
        },
        {
            "cell_type": "code",
            "execution_count": null,
            "metadata": {},
            "outputs": [],
            "source": [
                "@pytest.mark.parametrize(\n",
                "    \"url,params,expected_url\",\n",
                "    [\n",
                "        (\"/\", {\"foo\": \"bar\", \"v\": 1}, \"/?foo=bar&v=1\"),\n",
                "        (\n",
                "            \"https://fqdn/?replace=this\",\n",
                "            {\"replace\": \"that\"},\n",
                "            \"https:?/fqdn/?replace=that\",\n",
                "        ),\n",
                "    ],\n",
                ")\n",
                "def test_add_query_params(url, params, expected_url):\n",
                "    httpkit.add_query_params(url, params) == expected_url\n"
            ]
        },
        {
            "cell_type": "markdown",
            "metadata": {},
            "source": []
        },
        {
            "cell_type": "code",
            "execution_count": null,
            "metadata": {},
            "outputs": [],
            "source": [
                "@pytest.mark.parametrize(\n",
                "    \"url_template,kwargs,expected_url\",\n",
                "    [\n",
                "        (\"/foo\", {}, \"http://testserver/foo\"),\n",
                "        (\"/foo?key={key}\", {\"key\": \" \"}, \"http://testserver/foo?key=+\"),\n",
                "        (\"/foo/{key}\", {\"key\": \" \"}, \"http://testserver/foo/%20\"),\n",
                "        (\"https://abs.org/foo?key={key}\", {\"key\": \" \"}, \"https://abs.org/foo?key=+\"),\n",
                "    ],\n",
                ")\n",
                "def test_render_url(url_template, kwargs, expected_url, rf):\n",
                "    request = rf.get(\"/\")\n",
                "    assert httpkit.render_url(request, url_template, **kwargs) == expected_url\n",
                "\n"
            ]
        },
        {
            "cell_type": "markdown",
            "metadata": {},
            "source": []
        }
    ],
    "metadata": {
        "language_info": {
            "name": "python"
        }
    },
    "nbformat": 4,
    "nbformat_minor": 2
}