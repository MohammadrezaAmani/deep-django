{
    "cells": [
        {
            "cell_type": "code",
            "execution_count": null,
            "metadata": {},
            "outputs": [],
            "source": [
                "from allauth.core import context\n",
                "from django.core.exceptions import ValidationError\n"
            ]
        },
        {
            "cell_type": "markdown",
            "metadata": {},
            "source": []
        },
        {
            "cell_type": "code",
            "execution_count": null,
            "metadata": {},
            "outputs": [],
            "source": [
                "class BaseAdapter:\n",
                "    def __init__(self, request=None):\n",
                "        # Explicitly passing `request` is deprecated, just use:\n",
                "        # `allauth.core.context.request`.\n",
                "        self.request = context.request\n",
                "\n",
                "    def validation_error(self, code, *args):\n",
                "        message = self.error_messages[code]\n",
                "        if args:\n",
                "            message = message % args\n",
                "        exc = ValidationError(message, code=code)\n",
                "        return exc\n",
                "\n"
            ]
        },
        {
            "cell_type": "markdown",
            "metadata": {},
            "source": []
        }
    ],
    "metadata": {
        "language_info": {
            "name": "python"
        }
    },
    "nbformat": 4,
    "nbformat_minor": 2
}