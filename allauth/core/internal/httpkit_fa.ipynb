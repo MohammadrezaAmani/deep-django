{
 "cells": [
  {
   "cell_type": "code",
   "execution_count": null,
   "metadata": {},
   "outputs": [],
   "source": [
    "import json\n",
    "from urllib.parse import parse_qs, quote, urlencode, urlparse, urlunparse\n",
    "\n",
    "from django import shortcuts\n",
    "from django.core.exceptions import ImproperlyConfigured\n",
    "from django.http import QueryDict\n",
    "from django.urls import NoReverseMatch"
   ]
  },
  {
   "cell_type": "markdown",
   "metadata": {},
   "source": []
  },
  {
   "cell_type": "code",
   "execution_count": null,
   "metadata": {},
   "outputs": [],
   "source": [
    "def serialize_request(request):\n",
    "    return json.dumps(\n",
    "        {\n",
    "            \"path\": request.path,\n",
    "            \"path_info\": request.path_info,\n",
    "            \"META\": {k: v for k, v in request.META.items() if isinstance(v, str)},\n",
    "            \"GET\": request.GET.urlencode(),\n",
    "            \"POST\": request.POST.urlencode(),\n",
    "            \"method\": request.method,\n",
    "        }\n",
    "    )"
   ]
  },
  {
   "cell_type": "markdown",
   "metadata": {},
   "source": []
  },
  {
   "cell_type": "code",
   "execution_count": null,
   "metadata": {},
   "outputs": [],
   "source": [
    "def deserialize_request(s, request):\n",
    "    data = json.loads(s)\n",
    "    request.GET = QueryDict(data[\"GET\"])\n",
    "    request.POST = QueryDict(data[\"POST\"])\n",
    "    request.META = data[\"META\"]\n",
    "    request.path = data[\"path\"]\n",
    "    request.path_info = data[\"path_info\"]\n",
    "    request.method = data[\"method\"]\n",
    "    return request"
   ]
  },
  {
   "cell_type": "markdown",
   "metadata": {},
   "source": []
  },
  {
   "cell_type": "code",
   "execution_count": null,
   "metadata": {},
   "outputs": [],
   "source": [
    "def redirect(to):\n",
    "    try:\n",
    "        return shortcuts.redirect(to)\n",
    "    except NoReverseMatch:\n",
    "        return shortcuts.redirect(f\"/{to}\")"
   ]
  },
  {
   "cell_type": "markdown",
   "metadata": {},
   "source": []
  },
  {
   "cell_type": "code",
   "execution_count": null,
   "metadata": {},
   "outputs": [],
   "source": [
    "def add_query_params(url, params):\n",
    "    parsed_url = urlparse(url)\n",
    "    query_params = parse_qs(parsed_url.query)\n",
    "    query_params.update(params)\n",
    "    encoded_query = urlencode(query_params, doseq=True)\n",
    "    new_url = urlunparse(\n",
    "        (\n",
    "            parsed_url.scheme,\n",
    "            parsed_url.netloc,\n",
    "            parsed_url.path,\n",
    "            parsed_url.params,\n",
    "            encoded_query,\n",
    "            parsed_url.fragment,\n",
    "        )\n",
    "    )\n",
    "    return new_url"
   ]
  },
  {
   "cell_type": "markdown",
   "metadata": {},
   "source": []
  },
  {
   "cell_type": "code",
   "execution_count": null,
   "metadata": {},
   "outputs": [],
   "source": [
    "def render_url(request, url_template, **kwargs):\n",
    "    url = url_template\n",
    "    for k, v in kwargs.items():\n",
    "        qi = url.find(\"?\")\n",
    "        ki = url.find(\"{\" + k + \"}\")\n",
    "        if ki < 0:\n",
    "            raise ImproperlyConfigured(url_template)\n",
    "        is_query_param = qi >= 0 and ki > qi\n",
    "        if is_query_param:\n",
    "            qv = urlencode({\"k\": v}).partition(\"k=\")[2]\n",
    "        else:\n",
    "            qv = quote(v)\n",
    "        url = url.replace(\"{\" + k + \"}\", qv)\n",
    "    p = urlparse(url)\n",
    "    if not p.netloc:\n",
    "        url = request.build_absolute_uri(url)\n",
    "    return url"
   ]
  },
  {
   "cell_type": "markdown",
   "metadata": {},
   "source": []
  },
  {
   "cell_type": "code",
   "execution_count": null,
   "metadata": {},
   "outputs": [],
   "source": [
    "def get_frontend_url(request, urlname, **kwargs):\n",
    "    from allauth import app_settings as allauth_settings\n",
    "\n",
    "    if allauth_settings.HEADLESS_ENABLED:\n",
    "        from allauth.headless import app_settings as headless_settings\n",
    "\n",
    "        url = headless_settings.FRONTEND_URLS.get(urlname)\n",
    "        if allauth_settings.HEADLESS_ONLY and not url:\n",
    "            raise ImproperlyConfigured(f\"settings.HEADLESS_FRONTEND_URLS['{urlname}']\")\n",
    "        if url:\n",
    "            return render_url(request, url, **kwargs)\n",
    "    return None"
   ]
  },
  {
   "cell_type": "markdown",
   "metadata": {},
   "source": []
  }
 ],
 "metadata": {
  "language_info": {
   "name": "python"
  }
 },
 "nbformat": 4,
 "nbformat_minor": 2
}