{
    "cells": [
        {
            "cell_type": "code",
            "execution_count": null,
            "metadata": {},
            "outputs": [],
            "source": [
                "from django.apps import apps\n"
            ]
        },
        {
            "cell_type": "markdown",
            "metadata": {},
            "source": []
        },
        {
            "cell_type": "code",
            "execution_count": null,
            "metadata": {},
            "outputs": [],
            "source": [
                "class AppSettings(object):\n",
                "    def __init__(self, prefix):\n",
                "        self.prefix = prefix\n",
                "\n",
                "    def _setting(self, name, dflt):\n",
                "        from allauth.utils import get_setting\n",
                "\n",
                "        return get_setting(self.prefix + name, dflt)\n",
                "\n",
                "    @property\n",
                "    def SITES_ENABLED(self):\n",
                "        return apps.is_installed(\"django.contrib.sites\")\n",
                "\n",
                "    @property\n",
                "    def SOCIALACCOUNT_ENABLED(self):\n",
                "        return apps.is_installed(\"allauth.socialaccount\")\n",
                "\n",
                "    @property\n",
                "    def SOCIALACCOUNT_ONLY(self) -> bool:\n",
                "        from allauth.utils import get_setting\n",
                "\n",
                "        return get_setting(\"SOCIALACCOUNT_ONLY\", False)\n",
                "\n",
                "    @property\n",
                "    def MFA_ENABLED(self):\n",
                "        return apps.is_installed(\"allauth.mfa\")\n",
                "\n",
                "    @property\n",
                "    def USERSESSIONS_ENABLED(self):\n",
                "        return apps.is_installed(\"allauth.usersessions\")\n",
                "\n",
                "    @property\n",
                "    def HEADLESS_ENABLED(self):\n",
                "        return apps.is_installed(\"allauth.headless\")\n",
                "\n",
                "    @property\n",
                "    def HEADLESS_ONLY(self) -> bool:\n",
                "        from allauth.utils import get_setting\n",
                "\n",
                "        return get_setting(\"HEADLESS_ONLY\", False)\n",
                "\n",
                "    @property\n",
                "    def DEFAULT_AUTO_FIELD(self):\n",
                "        return self._setting(\"DEFAULT_AUTO_FIELD\", None)\n"
            ]
        },
        {
            "cell_type": "markdown",
            "metadata": {},
            "source": []
        },
        {
            "cell_type": "code",
            "execution_count": null,
            "metadata": {},
            "outputs": [],
            "source": [
                "_app_settings = AppSettings(\"ALLAUTH_\")\n"
            ]
        },
        {
            "cell_type": "markdown",
            "metadata": {},
            "source": []
        },
        {
            "cell_type": "code",
            "execution_count": null,
            "metadata": {},
            "outputs": [],
            "source": [
                "def __getattr__(name):\n",
                "    # See https://peps.python.org/pep-0562/\n",
                "    return getattr(_app_settings, name)\n",
                "\n"
            ]
        },
        {
            "cell_type": "markdown",
            "metadata": {},
            "source": []
        }
    ],
    "metadata": {
        "language_info": {
            "name": "python"
        }
    },
    "nbformat": 4,
    "nbformat_minor": 2
}