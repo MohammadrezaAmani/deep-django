{
 "cells": [
  {
   "cell_type": "code",
   "execution_count": null,
   "metadata": {},
   "outputs": [],
   "source": [
    "import random\n",
    "import time\n",
    "import uuid\n",
    "from contextlib import contextmanager\n",
    "from unittest.mock import patch\n",
    "\n",
    "from django.contrib.auth import get_user_model\n",
    "\n",
    "import pytest\n",
    "\n",
    "from allauth.account.models import EmailAddress\n",
    "from allauth.account.utils import user_email, user_pk_to_url_str, user_username\n",
    "from allauth.core import context\n",
    "from allauth.socialaccount.internal import statekit\n",
    "from allauth.socialaccount.providers.base.constants import AuthProcess"
   ]
  },
  {
   "cell_type": "markdown",
   "metadata": {},
   "source": []
  },
  {
   "cell_type": "code",
   "execution_count": null,
   "metadata": {},
   "outputs": [],
   "source": [
    "def pytest_collection_modifyitems(config, items):\n",
    "    if config.getoption(\"--ds\") == \"tests.headless_only.settings\":\n",
    "        removed_items = []\n",
    "        for item in items:\n",
    "            if not item.location[0].startswith(\"allauth/headless\"):\n",
    "                removed_items.append(item)\n",
    "        for item in removed_items:\n",
    "            items.remove(item)"
   ]
  },
  {
   "cell_type": "markdown",
   "metadata": {},
   "source": []
  },
  {
   "cell_type": "code",
   "execution_count": null,
   "metadata": {},
   "outputs": [],
   "source": [
    "@pytest.fixture\n",
    "def user(user_factory):\n",
    "    return user_factory()"
   ]
  },
  {
   "cell_type": "markdown",
   "metadata": {},
   "source": []
  },
  {
   "cell_type": "code",
   "execution_count": null,
   "metadata": {},
   "outputs": [],
   "source": [
    "@pytest.fixture\n",
    "def auth_client(client, user):\n",
    "    client.force_login(user)\n",
    "    return client"
   ]
  },
  {
   "cell_type": "markdown",
   "metadata": {},
   "source": []
  },
  {
   "cell_type": "code",
   "execution_count": null,
   "metadata": {},
   "outputs": [],
   "source": [
    "@pytest.fixture\n",
    "def password_factory():\n",
    "    def f():\n",
    "        return str(uuid.uuid4())\n",
    "\n",
    "    return f"
   ]
  },
  {
   "cell_type": "markdown",
   "metadata": {},
   "source": []
  },
  {
   "cell_type": "code",
   "execution_count": null,
   "metadata": {},
   "outputs": [],
   "source": [
    "@pytest.fixture\n",
    "def user_password(password_factory):\n",
    "    return password_factory()"
   ]
  },
  {
   "cell_type": "markdown",
   "metadata": {},
   "source": []
  },
  {
   "cell_type": "code",
   "execution_count": null,
   "metadata": {},
   "outputs": [],
   "source": [
    "@pytest.fixture\n",
    "def user_factory(email_factory, db, user_password):\n",
    "    from allauth.mfa import totp\n",
    "\n",
    "    def factory(\n",
    "        email=None,\n",
    "        username=None,\n",
    "        commit=True,\n",
    "        with_email=True,\n",
    "        email_verified=True,\n",
    "        password=None,\n",
    "        with_emailaddress=True,\n",
    "        with_totp=False,\n",
    "    ):\n",
    "        if not username:\n",
    "            username = uuid.uuid4().hex\n",
    "\n",
    "        if not email and with_email:\n",
    "            email = email_factory(username=username)\n",
    "\n",
    "        User = get_user_model()\n",
    "        user = User()\n",
    "        if password == \"!\":\n",
    "            user.password = password\n",
    "        else:\n",
    "            user.set_password(user_password if password is None else password)\n",
    "        user_username(user, username)\n",
    "        user_email(user, email or \"\")\n",
    "        if commit:\n",
    "            user.save()\n",
    "            if email and with_emailaddress:\n",
    "                EmailAddress.objects.create(\n",
    "                    user=user,\n",
    "                    email=email.lower(),\n",
    "                    verified=email_verified,\n",
    "                    primary=True,\n",
    "                )\n",
    "        if with_totp:\n",
    "            totp.TOTP.activate(user, totp.generate_totp_secret())\n",
    "        return user\n",
    "\n",
    "    return factory"
   ]
  },
  {
   "cell_type": "markdown",
   "metadata": {},
   "source": []
  },
  {
   "cell_type": "code",
   "execution_count": null,
   "metadata": {},
   "outputs": [],
   "source": [
    "@pytest.fixture\n",
    "def email_factory():\n",
    "    def factory(username=None, email=None, mixed_case=False):\n",
    "        if email is None:\n",
    "            if not username:\n",
    "                username = uuid.uuid4().hex\n",
    "            email = f\"{username}@{uuid.uuid4().hex}.org\"\n",
    "        if mixed_case:\n",
    "            email = \"\".join([random.choice([c.upper(), c.lower()]) for c in email])\n",
    "        else:\n",
    "            email = email.lower()\n",
    "        return email\n",
    "\n",
    "    return factory"
   ]
  },
  {
   "cell_type": "markdown",
   "metadata": {},
   "source": []
  },
  {
   "cell_type": "code",
   "execution_count": null,
   "metadata": {},
   "outputs": [],
   "source": [
    "@pytest.fixture\n",
    "def reauthentication_bypass():\n",
    "    @contextmanager\n",
    "    def f():\n",
    "        with patch(\"allauth.account.reauthentication.did_recently_authenticate\") as m:\n",
    "            m.return_value = True\n",
    "            yield\n",
    "\n",
    "    return f"
   ]
  },
  {
   "cell_type": "markdown",
   "metadata": {},
   "source": []
  },
  {
   "cell_type": "code",
   "execution_count": null,
   "metadata": {},
   "outputs": [],
   "source": [
    "@pytest.fixture(autouse=True)\n",
    "def clear_context_request():\n",
    "    context._request_var.set(None)"
   ]
  },
  {
   "cell_type": "markdown",
   "metadata": {},
   "source": []
  },
  {
   "cell_type": "code",
   "execution_count": null,
   "metadata": {},
   "outputs": [],
   "source": [
    "@pytest.fixture\n",
    "def enable_cache(settings):\n",
    "    from django.core.cache import cache\n",
    "\n",
    "    settings.CACHES = {\n",
    "        \"default\": {\n",
    "            \"BACKEND\": \"django.core.cache.backends.locmem.LocMemCache\",\n",
    "        }\n",
    "    }\n",
    "    cache.clear()\n",
    "    yield"
   ]
  },
  {
   "cell_type": "markdown",
   "metadata": {},
   "source": []
  },
  {
   "cell_type": "code",
   "execution_count": null,
   "metadata": {},
   "outputs": [],
   "source": [
    "@pytest.fixture\n",
    "def totp_validation_bypass():\n",
    "    @contextmanager\n",
    "    def f():\n",
    "        with patch(\"allauth.mfa.totp.validate_totp_code\") as m:\n",
    "            m.return_value = True\n",
    "            yield\n",
    "\n",
    "    return f"
   ]
  },
  {
   "cell_type": "markdown",
   "metadata": {},
   "source": []
  },
  {
   "cell_type": "code",
   "execution_count": null,
   "metadata": {},
   "outputs": [],
   "source": [
    "@pytest.fixture\n",
    "def provider_id():\n",
    "    return \"unittest-server\""
   ]
  },
  {
   "cell_type": "markdown",
   "metadata": {},
   "source": []
  },
  {
   "cell_type": "code",
   "execution_count": null,
   "metadata": {},
   "outputs": [],
   "source": [
    "@pytest.fixture\n",
    "def password_reset_key_generator():\n",
    "    def f(user):\n",
    "        from allauth.account import app_settings\n",
    "\n",
    "        token_generator = app_settings.PASSWORD_RESET_TOKEN_GENERATOR()\n",
    "        uid = user_pk_to_url_str(user)\n",
    "        temp_key = token_generator.make_token(user)\n",
    "        key = f\"{uid}-{temp_key}\"\n",
    "        return key\n",
    "\n",
    "    return f"
   ]
  },
  {
   "cell_type": "markdown",
   "metadata": {},
   "source": []
  },
  {
   "cell_type": "code",
   "execution_count": null,
   "metadata": {},
   "outputs": [],
   "source": [
    "@pytest.fixture\n",
    "def google_provider_settings(settings):\n",
    "    gsettings = {\"APPS\": [{\"client_id\": \"client_id\", \"secret\": \"secret\"}]}\n",
    "    settings.SOCIALACCOUNT_PROVIDERS = {\"google\": gsettings}\n",
    "    return gsettings"
   ]
  },
  {
   "cell_type": "markdown",
   "metadata": {},
   "source": []
  },
  {
   "cell_type": "code",
   "execution_count": null,
   "metadata": {},
   "outputs": [],
   "source": [
    "@pytest.fixture\n",
    "def user_with_totp(user):\n",
    "    from allauth.mfa import totp\n",
    "\n",
    "    totp.TOTP.activate(user, totp.generate_totp_secret())\n",
    "    return user"
   ]
  },
  {
   "cell_type": "markdown",
   "metadata": {},
   "source": []
  },
  {
   "cell_type": "code",
   "execution_count": null,
   "metadata": {},
   "outputs": [],
   "source": [
    "@pytest.fixture\n",
    "def user_with_recovery_codes(user_with_totp):\n",
    "    from allauth.mfa import recovery_codes\n",
    "\n",
    "    recovery_codes.RecoveryCodes.activate(user_with_totp)\n",
    "    return user_with_totp"
   ]
  },
  {
   "cell_type": "markdown",
   "metadata": {},
   "source": []
  },
  {
   "cell_type": "code",
   "execution_count": null,
   "metadata": {},
   "outputs": [],
   "source": [
    "@pytest.fixture\n",
    "def sociallogin_setup_state():\n",
    "    def setup(client, process=None, next_url=None, **kwargs):\n",
    "        state_id = \"123\"\n",
    "        session = client.session\n",
    "        state = {\"process\": process or AuthProcess.LOGIN, **kwargs}\n",
    "        if next_url:\n",
    "            state[\"next\"] = next_url\n",
    "        states = {}\n",
    "        states[state_id] = [state, time.time()]\n",
    "        session[statekit.STATES_SESSION_KEY] = states\n",
    "        session.save()\n",
    "        return state_id\n",
    "\n",
    "    return setup"
   ]
  },
  {
   "cell_type": "markdown",
   "metadata": {},
   "source": []
  }
 ],
 "metadata": {
  "language_info": {
   "name": "python"
  }
 },
 "nbformat": 4,
 "nbformat_minor": 2
}