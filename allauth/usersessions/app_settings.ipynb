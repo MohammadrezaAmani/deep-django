{
 "cells": [
  {
   "cell_type": "code",
   "execution_count": null,
   "metadata": {},
   "outputs": [],
   "source": [
    "class AppSettings(object):\n",
    "    def __init__(self, prefix):\n",
    "        self.prefix = prefix\n",
    "\n",
    "    def _setting(self, name, dflt):\n",
    "        from allauth.utils import get_setting\n",
    "\n",
    "        return get_setting(self.prefix + name, dflt)\n",
    "\n",
    "    @property\n",
    "    def ADAPTER(self):\n",
    "        return self._setting(\n",
    "            \"ADAPTER\", \"allauth.usersessions.adapter.DefaultUserSessionsAdapter\"\n",
    "        )\n",
    "\n",
    "    @property\n",
    "    def TRACK_ACTIVITY(self):\n",
    "        \"\"\"Whether or not sessions are to be actively tracked. When tracking is\n",
    "        enabled, the last seen IP address and last seen timestamp will be kept\n",
    "        track of.\n",
    "        \"\"\"\n",
    "        return self._setting(\"TRACK_ACTIVITY\", False)"
   ]
  },
  {
   "cell_type": "markdown",
   "metadata": {},
   "source": []
  },
  {
   "cell_type": "code",
   "execution_count": null,
   "metadata": {},
   "outputs": [],
   "source": [
    "_app_settings = AppSettings(\"USERSESSIONS_\")"
   ]
  },
  {
   "cell_type": "markdown",
   "metadata": {},
   "source": []
  },
  {
   "cell_type": "code",
   "execution_count": null,
   "metadata": {},
   "outputs": [],
   "source": [
    "def __getattr__(name):\n",
    "    # See https://peps.python.org/pep-0562/\n",
    "    return getattr(_app_settings, name)"
   ]
  },
  {
   "cell_type": "markdown",
   "metadata": {},
   "source": []
  }
 ],
 "metadata": {
  "language_info": {
   "name": "python"
  }
 },
 "nbformat": 4,
 "nbformat_minor": 2
}