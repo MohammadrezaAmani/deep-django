{
    "cells": [
        {
            "cell_type": "code",
            "execution_count": null,
            "metadata": {},
            "outputs": [],
            "source": [
                "from importlib import import_module\n",
                "\n",
                "from django.conf import settings\n",
                "from django.contrib.auth import get_user\n",
                "from django.core.exceptions import ImproperlyConfigured\n",
                "from django.db import models\n",
                "from django.http import HttpRequest\n",
                "from django.utils import timezone\n",
                "from django.utils.translation import gettext_lazy as _\n",
                "\n",
                "from allauth import app_settings as allauth_settings\n",
                "from allauth.account.adapter import get_adapter\n",
                "from allauth.core import context\n"
            ]
        },
        {
            "cell_type": "markdown",
            "metadata": {},
            "source": []
        },
        {
            "cell_type": "code",
            "execution_count": null,
            "metadata": {},
            "outputs": [],
            "source": [
                "if not allauth_settings.USERSESSIONS_ENABLED:\n",
                "    raise ImproperlyConfigured(\n",
                "        \"allauth.usersessions not installed, yet its models are imported.\"\n",
                "    )\n"
            ]
        },
        {
            "cell_type": "markdown",
            "metadata": {},
            "source": []
        },
        {
            "cell_type": "code",
            "execution_count": null,
            "metadata": {},
            "outputs": [],
            "source": [
                "class UserSessionManager(models.Manager):\n",
                "    def purge_and_list(self, user):\n",
                "        ret = []\n",
                "        sessions = UserSession.objects.filter(user=user)\n",
                "        for session in sessions.iterator():\n",
                "            if not session.purge():\n",
                "                ret.append(session)\n",
                "        return ret\n",
                "\n",
                "    def create_from_request(self, request):\n",
                "        if not request.user.is_authenticated:\n",
                "            raise ValueError()\n",
                "        if not request.session.session_key:\n",
                "            request.session.save()\n",
                "        ua = request.META.get(\"HTTP_USER_AGENT\", \"\")[\n",
                "            0 : UserSession._meta.get_field(\"user_agent\").max_length\n",
                "        ]\n",
                "        UserSession.objects.update_or_create(\n",
                "            session_key=request.session.session_key,\n",
                "            defaults=dict(\n",
                "                user=request.user,\n",
                "                ip=get_adapter().get_client_ip(request),\n",
                "                user_agent=ua,\n",
                "                last_seen_at=timezone.now(),\n",
                "            ),\n",
                "        )\n"
            ]
        },
        {
            "cell_type": "markdown",
            "metadata": {},
            "source": []
        },
        {
            "cell_type": "code",
            "execution_count": null,
            "metadata": {},
            "outputs": [],
            "source": [
                "class UserSession(models.Model):\n",
                "    objects = UserSessionManager()\n",
                "\n",
                "    user = models.ForeignKey(settings.AUTH_USER_MODEL, on_delete=models.CASCADE)\n",
                "    created_at = models.DateTimeField(default=timezone.now)\n",
                "    ip = models.GenericIPAddressField()\n",
                "    last_seen_at = models.DateTimeField(default=timezone.now)\n",
                "    session_key = models.CharField(\n",
                "        _(\"session key\"), max_length=40, unique=True, editable=False\n",
                "    )\n",
                "    user_agent = models.CharField(max_length=200)\n",
                "    data = models.JSONField(default=dict)\n",
                "\n",
                "    def __str__(self):\n",
                "        return f\"{self.ip} ({self.user_agent})\"\n",
                "\n",
                "    def _session_store(self, *args):\n",
                "        engine = import_module(settings.SESSION_ENGINE)\n",
                "        return engine.SessionStore(*args)\n",
                "\n",
                "    def exists(self):\n",
                "        return self._session_store().exists(self.session_key)\n",
                "\n",
                "    def purge(self):\n",
                "        purge = not self.exists()\n",
                "        if not purge:\n",
                "            # Even if the session still exists, it might be the case that the\n",
                "            # user session hash is out of sync. So, let's see if\n",
                "            # `django.contrib.auth` can find a user...\n",
                "            request = HttpRequest()\n",
                "            request.session = self._session_store(self.session_key)\n",
                "            user = get_user(request)\n",
                "            purge = not user or user.is_anonymous\n",
                "        if purge:\n",
                "            self.delete()\n",
                "            return True\n",
                "        return False\n",
                "\n",
                "    def is_current(self):\n",
                "        return self.session_key == context.request.session.session_key\n",
                "\n",
                "    def end(self):\n",
                "        engine = import_module(settings.SESSION_ENGINE)\n",
                "        store = engine.SessionStore()\n",
                "        store.delete(self.session_key)\n",
                "        self.delete()\n",
                "\n"
            ]
        },
        {
            "cell_type": "markdown",
            "metadata": {},
            "source": []
        }
    ],
    "metadata": {
        "language_info": {
            "name": "python"
        }
    },
    "nbformat": 4,
    "nbformat_minor": 2
}