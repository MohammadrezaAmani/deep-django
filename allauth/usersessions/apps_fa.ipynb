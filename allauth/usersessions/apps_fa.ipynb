{
    "cells": [
        {
            "cell_type": "code",
            "execution_count": null,
            "metadata": {},
            "outputs": [],
            "source": [
                "from allauth import app_settings\n",
                "from django.apps import AppConfig\n",
                "from django.utils.translation import gettext_lazy as _\n"
            ]
        },
        {
            "cell_type": "markdown",
            "metadata": {},
            "source": []
        },
        {
            "cell_type": "code",
            "execution_count": null,
            "metadata": {},
            "outputs": [],
            "source": [
                "class UserSessionsConfig(AppConfig):\n",
                "    name = \"allauth.usersessions\"\n",
                "    verbose_name = _(\"User Sessions\")\n",
                "    default_auto_field = (\n",
                "        app_settings.DEFAULT_AUTO_FIELD or \"django.db.models.BigAutoField\"\n",
                "    )\n",
                "\n",
                "    def ready(self):\n",
                "        from allauth.account.signals import (\n",
                "            password_changed,\n",
                "            password_set,\n",
                "            user_logged_in,\n",
                "        )\n",
                "        from allauth.usersessions import signals\n",
                "\n",
                "        user_logged_in.connect(receiver=signals.on_user_logged_in)\n",
                "        for sig in [password_set, password_changed]:\n",
                "            sig.connect(receiver=signals.on_password_changed)\n",
                "\n"
            ]
        },
        {
            "cell_type": "markdown",
            "metadata": {},
            "source": []
        }
    ],
    "metadata": {
        "language_info": {
            "name": "python"
        }
    },
    "nbformat": 4,
    "nbformat_minor": 2
}