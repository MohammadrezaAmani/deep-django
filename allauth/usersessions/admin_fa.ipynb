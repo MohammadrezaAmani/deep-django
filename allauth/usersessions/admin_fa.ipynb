{
    "cells": [
        {
            "cell_type": "code",
            "execution_count": null,
            "metadata": {},
            "outputs": [],
            "source": [
                "from allauth.usersessions.models import UserSession\n",
                "from django.contrib import admin\n"
            ]
        },
        {
            "cell_type": "markdown",
            "metadata": {},
            "source": []
        },
        {
            "cell_type": "code",
            "execution_count": null,
            "metadata": {},
            "outputs": [],
            "source": [
                "@admin.register(UserSession)\n",
                "class UserSessionAdmin(admin.ModelAdmin):\n",
                "    raw_id_fields = (\"user\",)\n",
                "    list_display = (\"user\", \"created_at\", \"last_seen_at\", \"ip\", \"user_agent\")\n",
                "\n"
            ]
        },
        {
            "cell_type": "markdown",
            "metadata": {},
            "source": []
        }
    ],
    "metadata": {
        "language_info": {
            "name": "python"
        }
    },
    "nbformat": 4,
    "nbformat_minor": 2
}