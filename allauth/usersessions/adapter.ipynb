{
    "cells": [
        {
            "cell_type": "code",
            "execution_count": null,
            "metadata": {},
            "outputs": [],
            "source": [
                "from allauth.core.internal.adapter import BaseAdapter\n",
                "from allauth.usersessions import app_settings\n",
                "from allauth.utils import import_attribute\n"
            ]
        },
        {
            "cell_type": "markdown",
            "metadata": {},
            "source": []
        },
        {
            "cell_type": "code",
            "execution_count": null,
            "metadata": {},
            "outputs": [],
            "source": [
                "class DefaultUserSessionsAdapter(BaseAdapter):\n",
                "    \"\"\"The adapter class allows you to override various functionality of the\n",
                "    ``allauth.usersessions`` app.  To do so, point\n",
                "    ``settings.USERSESSIONS_ADAPTER`` to your own class that derives from\n",
                "    ``DefaultUserSessionsAdapter`` and override the behavior by altering the\n",
                "    implementation of the methods according to your own needs.\n",
                "    \"\"\"\n",
                "\n",
                "    def end_sessions(self, sessions):\n",
                "        for session in sessions:\n",
                "            session.end()\n"
            ]
        },
        {
            "cell_type": "markdown",
            "metadata": {},
            "source": []
        },
        {
            "cell_type": "code",
            "execution_count": null,
            "metadata": {},
            "outputs": [],
            "source": [
                "def get_adapter():\n",
                "    return import_attribute(app_settings.ADAPTER)()\n",
                "\n"
            ]
        },
        {
            "cell_type": "markdown",
            "metadata": {},
            "source": []
        }
    ],
    "metadata": {
        "language_info": {
            "name": "python"
        }
    },
    "nbformat": 4,
    "nbformat_minor": 2
}