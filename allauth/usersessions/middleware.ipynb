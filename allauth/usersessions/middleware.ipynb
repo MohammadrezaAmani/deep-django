{
    "cells": [
        {
            "cell_type": "code",
            "execution_count": null,
            "metadata": {},
            "outputs": [],
            "source": [
                "from allauth.usersessions import app_settings\n",
                "from allauth.usersessions.models import UserSession\n"
            ]
        },
        {
            "cell_type": "markdown",
            "metadata": {},
            "source": []
        },
        {
            "cell_type": "code",
            "execution_count": null,
            "metadata": {},
            "outputs": [],
            "source": [
                "class UserSessionsMiddleware:\n",
                "    def __init__(self, get_response):\n",
                "        self.get_response = get_response\n",
                "\n",
                "    def __call__(self, request):\n",
                "        if (\n",
                "            app_settings.TRACK_ACTIVITY\n",
                "            and hasattr(request, \"session\")\n",
                "            and request.session.session_key\n",
                "            and hasattr(request, \"user\")\n",
                "            and request.user.is_authenticated\n",
                "        ):\n",
                "            UserSession.objects.create_from_request(request)\n",
                "        response = self.get_response(request)\n",
                "        return response\n",
                "\n"
            ]
        },
        {
            "cell_type": "markdown",
            "metadata": {},
            "source": []
        }
    ],
    "metadata": {
        "language_info": {
            "name": "python"
        }
    },
    "nbformat": 4,
    "nbformat_minor": 2
}