{
 "cells": [
  {
   "cell_type": "code",
   "execution_count": null,
   "metadata": {},
   "outputs": [],
   "source": [
    "from allauth.account import app_settings as account_settings\n",
    "from allauth.account.adapter import get_adapter as get_account_adapter\n",
    "from allauth.usersessions import app_settings\n",
    "from allauth.usersessions.forms import ManageUserSessionsForm\n",
    "from allauth.usersessions.models import UserSession\n",
    "from django.contrib import messages\n",
    "from django.contrib.auth.decorators import login_required\n",
    "from django.urls import reverse_lazy\n",
    "from django.utils.decorators import method_decorator\n",
    "from django.views.generic.edit import FormView"
   ]
  },
  {
   "cell_type": "markdown",
   "metadata": {},
   "source": []
  },
  {
   "cell_type": "code",
   "execution_count": null,
   "metadata": {},
   "outputs": [],
   "source": [
    "@method_decorator(login_required, name=\"dispatch\")\n",
    "class ListUserSessionsView(FormView):\n",
    "    template_name = (\n",
    "        \"usersessions/usersession_list.\" + account_settings.TEMPLATE_EXTENSION\n",
    "    )\n",
    "    form_class = ManageUserSessionsForm\n",
    "    success_url = reverse_lazy(\"usersessions_list\")\n",
    "\n",
    "    def get_context_data(self, **kwargs):\n",
    "        ret = super().get_context_data(**kwargs)\n",
    "        sessions = sorted(\n",
    "            UserSession.objects.purge_and_list(self.request.user),\n",
    "            key=lambda s: s.created_at,\n",
    "        )\n",
    "        ret[\"sessions\"] = sessions\n",
    "        ret[\"session_count\"] = len(sessions)\n",
    "        ret[\"show_last_seen_at\"] = app_settings.TRACK_ACTIVITY\n",
    "        return ret\n",
    "\n",
    "    def get_form_kwargs(self):\n",
    "        ret = super().get_form_kwargs()\n",
    "        ret[\"request\"] = self.request\n",
    "        return ret\n",
    "\n",
    "    def form_valid(self, form):\n",
    "        form.save(self.request)\n",
    "        get_account_adapter().add_message(\n",
    "            self.request,\n",
    "            messages.INFO,\n",
    "            \"usersessions/messages/sessions_logged_out.txt\",\n",
    "        )\n",
    "        return super().form_valid(form)"
   ]
  },
  {
   "cell_type": "markdown",
   "metadata": {},
   "source": []
  },
  {
   "cell_type": "code",
   "execution_count": null,
   "metadata": {},
   "outputs": [],
   "source": [
    "list_usersessions = ListUserSessionsView.as_view()"
   ]
  },
  {
   "cell_type": "markdown",
   "metadata": {},
   "source": []
  }
 ],
 "metadata": {
  "language_info": {
   "name": "python"
  }
 },
 "nbformat": 4,
 "nbformat_minor": 2
}