{
 "cells": [
  {
   "cell_type": "code",
   "execution_count": null,
   "metadata": {},
   "outputs": [],
   "source": [
    "from allauth.account.internal import flows\n",
    "from allauth.usersessions.adapter import get_adapter"
   ]
  },
  {
   "cell_type": "markdown",
   "metadata": {},
   "source": []
  },
  {
   "cell_type": "code",
   "execution_count": null,
   "metadata": {},
   "outputs": [],
   "source": [
    "def end_sessions(request, sessions):\n",
    "    has_current = any([session.is_current() for session in sessions])\n",
    "    get_adapter().end_sessions(sessions)\n",
    "    if has_current:\n",
    "        flows.logout.logout(request)"
   ]
  },
  {
   "cell_type": "markdown",
   "metadata": {},
   "source": []
  }
 ],
 "metadata": {
  "language_info": {
   "name": "python"
  }
 },
 "nbformat": 4,
 "nbformat_minor": 2
}