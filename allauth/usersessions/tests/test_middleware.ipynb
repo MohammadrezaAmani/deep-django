{
    "cells": [
        {
            "cell_type": "code",
            "execution_count": null,
            "metadata": {},
            "outputs": [],
            "source": [
                "from unittest.mock import Mock\n",
                "\n",
                "from django.contrib.auth.models import AnonymousUser\n",
                "\n",
                "import pytest\n",
                "\n",
                "from allauth.usersessions.middleware import UserSessionsMiddleware\n",
                "from allauth.usersessions.models import UserSession\n"
            ]
        },
        {
            "cell_type": "markdown",
            "metadata": {},
            "source": []
        },
        {
            "cell_type": "code",
            "execution_count": null,
            "metadata": {},
            "outputs": [],
            "source": [
                "def test_mw_without_request_user(rf, db, settings):\n",
                "    settings.USERSESSIONS_TRACK_ACTIVITY = True\n",
                "    mw = UserSessionsMiddleware(lambda request: None)\n",
                "    request = rf.get(\"/\")\n",
                "    mw(request)\n",
                "    assert UserSession.objects.count() == 0\n"
            ]
        },
        {
            "cell_type": "markdown",
            "metadata": {},
            "source": []
        },
        {
            "cell_type": "code",
            "execution_count": null,
            "metadata": {},
            "outputs": [],
            "source": [
                "@pytest.mark.parametrize(\"track_activity\", [False, True])\n",
                "def test_mw_with_request_user(rf, db, settings, user, track_activity):\n",
                "    settings.USERSESSIONS_TRACK_ACTIVITY = track_activity\n",
                "    mw = UserSessionsMiddleware(lambda request: None)\n",
                "    request = rf.get(\"/\")\n",
                "    request.user = user\n",
                "    request.session = Mock()\n",
                "    request.session.session_key = \"sess-123\"\n",
                "    mw(request)\n",
                "    assert (\n",
                "        UserSession.objects.filter(session_key=\"sess-123\", user=user).exists()\n",
                "        is track_activity\n",
                "    )\n"
            ]
        },
        {
            "cell_type": "markdown",
            "metadata": {},
            "source": []
        },
        {
            "cell_type": "code",
            "execution_count": null,
            "metadata": {},
            "outputs": [],
            "source": [
                "def test_mw_with_anonymous_request_user(rf, db, settings):\n",
                "    settings.USERSESSIONS_TRACK_ACTIVITY = True\n",
                "    mw = UserSessionsMiddleware(lambda request: None)\n",
                "    request = rf.get(\"/\")\n",
                "    request.user = AnonymousUser()\n",
                "    request.session = Mock()\n",
                "    request.session.session_key = \"sess-123\"\n",
                "    mw(request)\n",
                "    assert not UserSession.objects.exists()\n",
                "\n"
            ]
        },
        {
            "cell_type": "markdown",
            "metadata": {},
            "source": []
        }
    ],
    "metadata": {
        "language_info": {
            "name": "python"
        }
    },
    "nbformat": 4,
    "nbformat_minor": 2
}