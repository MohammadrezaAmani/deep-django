{
 "cells": [
  {
   "cell_type": "code",
   "execution_count": null,
   "metadata": {},
   "outputs": [],
   "source": [
    "import pytest\n",
    "\n",
    "from allauth.usersessions.models import UserSession\n",
    "from django.test import Client\n",
    "from django.urls import reverse"
   ]
  },
  {
   "cell_type": "markdown",
   "metadata": {},
   "source": []
  },
  {
   "cell_type": "code",
   "execution_count": null,
   "metadata": {},
   "outputs": [],
   "source": [
    "def test_overall_flow(user, user_password):\n",
    "    firefox = Client(HTTP_USER_AGENT=\"Mozilla Firefox\")\n",
    "    nyxt = Client(HTTP_USER_AGENT=\"Nyxt\")\n",
    "    for client in [firefox, nyxt]:\n",
    "        resp = client.post(\n",
    "            reverse(\"account_login\"),\n",
    "            {\"login\": user.username, \"password\": user_password},\n",
    "        )\n",
    "        assert resp.status_code == 302\n",
    "    assert UserSession.objects.filter(user=user).count() == 2\n",
    "    sessions = list(UserSession.objects.filter(user=user).order_by(\"pk\"))\n",
    "    assert sessions[0].user_agent == \"Mozilla Firefox\"\n",
    "    assert sessions[1].user_agent == \"Nyxt\"\n",
    "    for client in [firefox, nyxt]:\n",
    "        resp = client.get(reverse(\"usersessions_list\"))\n",
    "        assert resp.status_code == 200\n",
    "    resp = firefox.post(reverse(\"usersessions_list\"))\n",
    "    assert resp.status_code == 302\n",
    "    assert UserSession.objects.filter(user=user).count() == 1\n",
    "    assert UserSession.objects.filter(user=user, pk=sessions[0].pk).exists()\n",
    "    assert not UserSession.objects.filter(user=user, pk=sessions[1].pk).exists()\n",
    "    resp = nyxt.get(reverse(\"usersessions_list\"))\n",
    "    assert resp.status_code == 302\n",
    "    assert resp[\"location\"] == reverse(\"account_login\") + \"?next=\" + reverse(\n",
    "        \"usersessions_list\"\n",
    "    )"
   ]
  },
  {
   "cell_type": "markdown",
   "metadata": {},
   "source": []
  },
  {
   "cell_type": "code",
   "execution_count": null,
   "metadata": {},
   "outputs": [],
   "source": [
    "@pytest.mark.parametrize(\"logout_on_passwd_change\", [True, False])\n",
    "def test_change_password_updates_user_session(\n",
    "    settings, logout_on_passwd_change, client, user, user_password, password_factory\n",
    "):\n",
    "    settings.ACCOUNT_LOGOUT_ON_PASSWORD_CHANGE = logout_on_passwd_change\n",
    "    resp = client.post(\n",
    "        reverse(\"account_login\"),\n",
    "        {\"login\": user.username, \"password\": user_password},\n",
    "    )\n",
    "    assert resp.status_code == 302\n",
    "    assert len(UserSession.objects.purge_and_list(user)) == 1\n",
    "\n",
    "    new_password = password_factory()\n",
    "    resp = client.post(\n",
    "        reverse(\"account_change_password\"),\n",
    "        {\n",
    "            \"oldpassword\": user_password,\n",
    "            \"password1\": new_password,\n",
    "            \"password2\": new_password,\n",
    "        },\n",
    "    )\n",
    "    assert len(UserSession.objects.purge_and_list(user)) == (\n",
    "        0 if logout_on_passwd_change else 1\n",
    "    )"
   ]
  },
  {
   "cell_type": "markdown",
   "metadata": {},
   "source": []
  }
 ],
 "metadata": {
  "language_info": {
   "name": "python"
  }
 },
 "nbformat": 4,
 "nbformat_minor": 2
}