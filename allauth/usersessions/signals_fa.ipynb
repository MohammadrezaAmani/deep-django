{
    "cells": [
        {
            "cell_type": "code",
            "execution_count": null,
            "metadata": {},
            "outputs": [],
            "source": [
                "from allauth.account import app_settings\n",
                "\n",
                "from .models import UserSession\n"
            ]
        },
        {
            "cell_type": "markdown",
            "metadata": {},
            "source": []
        },
        {
            "cell_type": "code",
            "execution_count": null,
            "metadata": {},
            "outputs": [],
            "source": [
                "def on_user_logged_in(sender, **kwargs):\n",
                "    request = kwargs[\"request\"]\n",
                "    UserSession.objects.create_from_request(request)\n"
            ]
        },
        {
            "cell_type": "markdown",
            "metadata": {},
            "source": []
        },
        {
            "cell_type": "code",
            "execution_count": null,
            "metadata": {},
            "outputs": [],
            "source": [
                "def on_password_changed(sender, **kwargs):\n",
                "    if not app_settings.LOGOUT_ON_PASSWORD_CHANGE:\n",
                "        request = kwargs[\"request\"]\n",
                "        UserSession.objects.create_from_request(request)\n",
                "\n"
            ]
        },
        {
            "cell_type": "markdown",
            "metadata": {},
            "source": []
        }
    ],
    "metadata": {
        "language_info": {
            "name": "python"
        }
    },
    "nbformat": 4,
    "nbformat_minor": 2
}