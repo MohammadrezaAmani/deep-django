{
 "cells": [
  {
   "cell_type": "code",
   "execution_count": null,
   "metadata": {},
   "outputs": [],
   "source": [
    "from django import forms\n",
    "\n",
    "from allauth.usersessions.internal import flows\n",
    "from allauth.usersessions.models import UserSession"
   ]
  },
  {
   "cell_type": "markdown",
   "metadata": {},
   "source": []
  },
  {
   "cell_type": "code",
   "execution_count": null,
   "metadata": {},
   "outputs": [],
   "source": [
    "class ManageUserSessionsForm(forms.Form):\n",
    "    def __init__(self, *args, **kwargs):\n",
    "        self.request = kwargs.pop(\"request\")\n",
    "        super().__init__(*args, **kwargs)\n",
    "\n",
    "    def save(self, request):\n",
    "        sessions_to_end = []\n",
    "        for session in UserSession.objects.filter(user=request.user):\n",
    "            if session.is_current():\n",
    "                continue\n",
    "            sessions_to_end.append(session)\n",
    "        flows.sessions.end_sessions(request, sessions_to_end)"
   ]
  },
  {
   "cell_type": "markdown",
   "metadata": {},
   "source": []
  }
 ],
 "metadata": {
  "language_info": {
   "name": "python"
  }
 },
 "nbformat": 4,
 "nbformat_minor": 2
}