{
 "cells": [
  {
   "cell_type": "code",
   "execution_count": null,
   "metadata": {},
   "outputs": [],
   "source": [
    "r\"\"\"\n",
    "    _        ___      __    __  .___________. __    __\n",
    " /\\| |/\\    /   \\    |  |  |  | |           ||  |  |  |\n",
    " \\ ` ' /   /  ^  \\   |  |  |  | `---|  |----`|  |__|  |\n",
    "|_     _| /  /_\\  \\  |  |  |  |     |  |     |   __   |\n",
    " / , . \\ /  _____  \\ |  `--'  |     |  |     |  |  |  |\n",
    " \\/|_|\\//__/     \\__\\ \\______/      |__|     |__|  |__|\n",
    "\n",
    "\"\"\"\n",
    "\n",
    "VERSION = (0, 63, 0, \"final\", 0)\n",
    "\n",
    "__title__ = \"django-allauth\"\n",
    "__version_info__ = VERSION\n",
    "__version__ = \".\".join(map(str, VERSION[:3])) + (\n",
    "    \"-{}{}\".format(VERSION[3], VERSION[4] or \"\") if VERSION[3] != \"final\" else \"\"\n",
    ")\n",
    "__author__ = \"Raymond Penners\"\n",
    "__license__ = \"MIT\"\n",
    "__copyright__ = \"Copyright 2010-2024 Raymond Penners and contributors\""
   ]
  },
  {
   "cell_type": "markdown",
   "metadata": {},
   "source": []
  }
 ],
 "metadata": {
  "language_info": {
   "name": "python"
  }
 },
 "nbformat": 4,
 "nbformat_minor": 2
}