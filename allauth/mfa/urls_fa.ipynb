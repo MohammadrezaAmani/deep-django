{
    "cells": [
        {
            "cell_type": "code",
            "execution_count": null,
            "metadata": {},
            "outputs": [],
            "source": [
                "from allauth.mfa import app_settings, views\n",
                "from django.urls import include, path\n",
                "\n",
                "urlpatterns = [\n",
                "    path(\"authenticate/\", views.authenticate, name=\"mfa_authenticate\"),\n",
                "    path(\"reauthenticate/\", views.reauthenticate, name=\"mfa_reauthenticate\"),\n",
                "]\n",
                "\n",
                "if app_settings.SUPPORTED_TYPES:\n",
                "    urlpatterns.append(path(\"\", views.index, name=\"mfa_index\"))\n",
                "\n",
                "if \"totp\" in app_settings.SUPPORTED_TYPES:\n",
                "    urlpatterns.append(\n",
                "        path(\n",
                "            \"totp/\",\n",
                "            include(\n",
                "                [\n",
                "                    path(\"activate/\", views.activate_totp, name=\"mfa_activate_totp\"),\n",
                "                    path(\n",
                "                        \"deactivate/\", views.deactivate_totp, name=\"mfa_deactivate_totp\"\n",
                "                    ),\n",
                "                ]\n",
                "            ),\n",
                "        )\n",
                "    )\n",
                "\n",
                "if \"recovery_codes\" in app_settings.SUPPORTED_TYPES:\n",
                "    urlpatterns.append(\n",
                "        path(\n",
                "            \"recovery-codes/\",\n",
                "            include(\n",
                "                [\n",
                "                    path(\"\", views.view_recovery_codes, name=\"mfa_view_recovery_codes\"),\n",
                "                    path(\n",
                "                        \"generate/\",\n",
                "                        views.generate_recovery_codes,\n",
                "                        name=\"mfa_generate_recovery_codes\",\n",
                "                    ),\n",
                "                    path(\n",
                "                        \"download/\",\n",
                "                        views.download_recovery_codes,\n",
                "                        name=\"mfa_download_recovery_codes\",\n",
                "                    ),\n",
                "                ]\n",
                "            ),\n",
                "        ),\n",
                "    )\n",
                "\n"
            ]
        },
        {
            "cell_type": "markdown",
            "metadata": {},
            "source": []
        }
    ],
    "metadata": {
        "language_info": {
            "name": "python"
        }
    },
    "nbformat": 4,
    "nbformat_minor": 2
}