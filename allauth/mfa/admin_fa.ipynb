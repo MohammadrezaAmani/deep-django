{
 "cells": [
  {
   "cell_type": "code",
   "execution_count": null,
   "metadata": {},
   "outputs": [],
   "source": [
    "from allauth.mfa.models import Authenticator\n",
    "from django.contrib import admin"
   ]
  },
  {
   "cell_type": "markdown",
   "metadata": {},
   "source": []
  },
  {
   "cell_type": "code",
   "execution_count": null,
   "metadata": {},
   "outputs": [],
   "source": [
    "@admin.register(Authenticator)\n",
    "class AuthenticatorAdmin(admin.ModelAdmin):\n",
    "    raw_id_fields = (\"user\",)\n",
    "    list_display = (\"user\", \"type\", \"created_at\", \"last_used_at\")\n",
    "    list_filter = (\"type\", \"created_at\", \"last_used_at\")"
   ]
  },
  {
   "cell_type": "markdown",
   "metadata": {},
   "source": []
  }
 ],
 "metadata": {
  "language_info": {
   "name": "python"
  }
 },
 "nbformat": 4,
 "nbformat_minor": 2
}