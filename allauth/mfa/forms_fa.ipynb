{
    "cells": [
        {
            "cell_type": "code",
            "execution_count": null,
            "metadata": {},
            "outputs": [],
            "source": [
                "from allauth.account.adapter import get_adapter as get_account_adapter\n",
                "from allauth.account.models import EmailAddress\n",
                "from allauth.core import context, ratelimit\n",
                "from allauth.mfa import totp\n",
                "from allauth.mfa.adapter import get_adapter\n",
                "from allauth.mfa.internal import flows\n",
                "from allauth.mfa.models import Authenticator\n",
                "from django import forms\n",
                "from django.utils.translation import gettext_lazy as _\n"
            ]
        },
        {
            "cell_type": "markdown",
            "metadata": {},
            "source": []
        },
        {
            "cell_type": "code",
            "execution_count": null,
            "metadata": {},
            "outputs": [],
            "source": [
                "class BaseAuthenticateForm(forms.Form):\n",
                "    code = forms.CharField(\n",
                "        label=_(\"Code\"),\n",
                "        widget=forms.TextInput(\n",
                "            attrs={\"placeholder\": _(\"Code\"), \"autocomplete\": \"one-time-code\"},\n",
                "        ),\n",
                "    )\n",
                "\n",
                "    def __init__(self, *args, **kwargs):\n",
                "        self.user = kwargs.pop(\"user\")\n",
                "        super().__init__(*args, **kwargs)\n",
                "\n",
                "    def clean_code(self):\n",
                "        key = f\"mfa-auth-user-{str(self.user.pk)}\"\n",
                "        if not ratelimit.consume(\n",
                "            context.request,\n",
                "            action=\"login_failed\",\n",
                "            key=key,\n",
                "        ):\n",
                "            raise get_account_adapter().validation_error(\"too_many_login_attempts\")\n",
                "\n",
                "        code = self.cleaned_data[\"code\"]\n",
                "        for auth in Authenticator.objects.filter(user=self.user):\n",
                "            if auth.wrap().validate_code(code):\n",
                "                self.authenticator = auth\n",
                "                ratelimit.clear(context.request, action=\"login_failed\", key=key)\n",
                "                return code\n",
                "\n",
                "        raise get_adapter().validation_error(\"incorrect_code\")\n"
            ]
        },
        {
            "cell_type": "markdown",
            "metadata": {},
            "source": []
        },
        {
            "cell_type": "code",
            "execution_count": null,
            "metadata": {},
            "outputs": [],
            "source": [
                "class AuthenticateForm(BaseAuthenticateForm):\n",
                "    def save(self):\n",
                "        flows.authentication.post_authentication(context.request, self.authenticator)\n"
            ]
        },
        {
            "cell_type": "markdown",
            "metadata": {},
            "source": []
        },
        {
            "cell_type": "code",
            "execution_count": null,
            "metadata": {},
            "outputs": [],
            "source": [
                "class ReauthenticateForm(BaseAuthenticateForm):\n",
                "    def save(self):\n",
                "        flows.authentication.post_authentication(\n",
                "            context.request, self.authenticator, reauthenticated=True\n",
                "        )\n"
            ]
        },
        {
            "cell_type": "markdown",
            "metadata": {},
            "source": []
        },
        {
            "cell_type": "code",
            "execution_count": null,
            "metadata": {},
            "outputs": [],
            "source": [
                "class ActivateTOTPForm(forms.Form):\n",
                "    code = forms.CharField(\n",
                "        label=_(\"Authenticator code\"),\n",
                "        widget=forms.TextInput(\n",
                "            attrs={\"placeholder\": _(\"Code\"), \"autocomplete\": \"one-time-code\"},\n",
                "        ),\n",
                "    )\n",
                "\n",
                "    def __init__(self, *args, **kwargs):\n",
                "        self.user = kwargs.pop(\"user\")\n",
                "        self.email_verified = not EmailAddress.objects.filter(\n",
                "            user=self.user, verified=False\n",
                "        ).exists()\n",
                "        super().__init__(*args, **kwargs)\n",
                "        self.secret = totp.get_totp_secret(regenerate=not self.is_bound)\n",
                "\n",
                "    def clean_code(self):\n",
                "        try:\n",
                "            code = self.cleaned_data[\"code\"]\n",
                "            if not self.email_verified:\n",
                "                raise get_adapter().validation_error(\"unverified_email\")\n",
                "            if not totp.validate_totp_code(self.secret, code):\n",
                "                raise get_adapter().validation_error(\"incorrect_code\")\n",
                "            return code\n",
                "        except forms.ValidationError as e:\n",
                "            raise e\n"
            ]
        },
        {
            "cell_type": "markdown",
            "metadata": {},
            "source": []
        },
        {
            "cell_type": "code",
            "execution_count": null,
            "metadata": {},
            "outputs": [],
            "source": [
                "class DeactivateTOTPForm(forms.Form):\n",
                "    def __init__(self, *args, **kwargs):\n",
                "        self.authenticator = kwargs.pop(\"authenticator\")\n",
                "        super().__init__(*args, **kwargs)\n",
                "\n",
                "    def clean(self):\n",
                "        cleaned_data = super().clean()\n",
                "        adapter = get_adapter()\n",
                "        if not adapter.can_delete_authenticator(self.authenticator):\n",
                "            raise adapter.validation_error(\"cannot_delete_authenticator\")\n",
                "        return cleaned_data\n"
            ]
        },
        {
            "cell_type": "markdown",
            "metadata": {},
            "source": []
        },
        {
            "cell_type": "code",
            "execution_count": null,
            "metadata": {},
            "outputs": [],
            "source": [
                "class GenerateRecoveryCodesForm(forms.Form):\n",
                "    def __init__(self, *args, **kwargs):\n",
                "        self.user = kwargs.pop(\"user\")\n",
                "        super().__init__(*args, **kwargs)\n",
                "\n",
                "    def clean(self):\n",
                "        cleaned_data = super().clean()\n",
                "        if not flows.recovery_codes.can_generate_recovery_codes(self.user):\n",
                "            raise get_adapter().validation_error(\"cannot_generate_recovery_codes\")\n",
                "        return cleaned_data\n",
                "\n"
            ]
        },
        {
            "cell_type": "markdown",
            "metadata": {},
            "source": []
        }
    ],
    "metadata": {
        "language_info": {
            "name": "python"
        }
    },
    "nbformat": 4,
    "nbformat_minor": 2
}