{
    "cells": [
        {
            "cell_type": "code",
            "execution_count": null,
            "metadata": {},
            "outputs": [],
            "source": [
                "from allauth import app_settings as allauth_settings\n",
                "from allauth.account.stages import LoginStage\n",
                "from allauth.mfa.utils import is_mfa_enabled\n",
                "from django.http import HttpResponseRedirect, HttpResponseServerError\n",
                "from django.urls import NoReverseMatch, reverse\n"
            ]
        },
        {
            "cell_type": "markdown",
            "metadata": {},
            "source": []
        },
        {
            "cell_type": "code",
            "execution_count": null,
            "metadata": {},
            "outputs": [],
            "source": [
                "class AuthenticateStage(LoginStage):\n",
                "    key = \"mfa_authenticate\"\n",
                "\n",
                "    def handle(self):\n",
                "        response, cont = None, True\n",
                "        if is_mfa_enabled(self.login.user):\n",
                "            try:\n",
                "                response = HttpResponseRedirect(reverse(\"mfa_authenticate\"))\n",
                "            except NoReverseMatch:\n",
                "                if allauth_settings.HEADLESS_ONLY:\n",
                "                    # The response we would be rendering here is not actually used.\n",
                "                    response = HttpResponseServerError()\n",
                "                else:\n",
                "                    raise\n",
                "        return response, cont\n",
                "\n"
            ]
        },
        {
            "cell_type": "markdown",
            "metadata": {},
            "source": []
        }
    ],
    "metadata": {
        "language_info": {
            "name": "python"
        }
    },
    "nbformat": 4,
    "nbformat_minor": 2
}