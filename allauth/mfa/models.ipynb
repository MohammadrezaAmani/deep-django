{
 "cells": [
  {
   "cell_type": "code",
   "execution_count": null,
   "metadata": {},
   "outputs": [],
   "source": [
    "from django.conf import settings\n",
    "from django.core.exceptions import ImproperlyConfigured\n",
    "from django.db import models\n",
    "from django.utils import timezone\n",
    "from django.utils.translation import gettext_lazy as _\n",
    "\n",
    "from allauth import app_settings as allauth_settings"
   ]
  },
  {
   "cell_type": "markdown",
   "metadata": {},
   "source": []
  },
  {
   "cell_type": "code",
   "execution_count": null,
   "metadata": {},
   "outputs": [],
   "source": [
    "if not allauth_settings.MFA_ENABLED:\n",
    "    raise ImproperlyConfigured(\n",
    "        \"allauth.mfa not installed, yet its models are imported.\"\n",
    "    )"
   ]
  },
  {
   "cell_type": "markdown",
   "metadata": {},
   "source": []
  },
  {
   "cell_type": "code",
   "execution_count": null,
   "metadata": {},
   "outputs": [],
   "source": [
    "class AuthenticatorManager(models.Manager):\n",
    "    def delete_dangling_recovery_codes(self, user):\n",
    "        deleted_authenticator = None\n",
    "        qs = Authenticator.objects.filter(user=user)\n",
    "        if not qs.exclude(type=Authenticator.Type.RECOVERY_CODES).exists():\n",
    "            deleted_authenticator = qs.first()\n",
    "            qs.delete()\n",
    "        return deleted_authenticator"
   ]
  },
  {
   "cell_type": "markdown",
   "metadata": {},
   "source": []
  },
  {
   "cell_type": "code",
   "execution_count": null,
   "metadata": {},
   "outputs": [],
   "source": [
    "class Authenticator(models.Model):\n",
    "    class Type(models.TextChoices):\n",
    "        RECOVERY_CODES = \"recovery_codes\", _(\"Recovery codes\")\n",
    "        TOTP = \"totp\", _(\"TOTP Authenticator\")\n",
    "\n",
    "    objects = AuthenticatorManager()\n",
    "\n",
    "    user = models.ForeignKey(settings.AUTH_USER_MODEL, on_delete=models.CASCADE)\n",
    "    type = models.CharField(max_length=20, choices=Type.choices)\n",
    "    data = models.JSONField()\n",
    "    created_at = models.DateTimeField(default=timezone.now)\n",
    "    last_used_at = models.DateTimeField(null=True)\n",
    "\n",
    "    class Meta:\n",
    "        unique_together = ((\"user\", \"type\"),)\n",
    "\n",
    "    def __str__(self):\n",
    "        return self.get_type_display()\n",
    "\n",
    "    def wrap(self):\n",
    "        from allauth.mfa.recovery_codes import RecoveryCodes\n",
    "        from allauth.mfa.totp import TOTP\n",
    "\n",
    "        return {\n",
    "            self.Type.TOTP: TOTP,\n",
    "            self.Type.RECOVERY_CODES: RecoveryCodes,\n",
    "        }[\n",
    "            self.type\n",
    "        ](self)\n",
    "\n",
    "    def record_usage(self):\n",
    "        self.last_used_at = timezone.now()\n",
    "        self.save(update_fields=[\"last_used_at\"])"
   ]
  },
  {
   "cell_type": "markdown",
   "metadata": {},
   "source": []
  }
 ],
 "metadata": {
  "language_info": {
   "name": "python"
  }
 },
 "nbformat": 4,
 "nbformat_minor": 2
}