{
    "cells": [
        {
            "cell_type": "code",
            "execution_count": null,
            "metadata": {},
            "outputs": [],
            "source": [
                "import base64\n",
                "import hashlib\n",
                "import hmac\n",
                "import secrets\n",
                "import struct\n",
                "import time\n",
                "from io import BytesIO\n",
                "from urllib.parse import quote\n",
                "\n",
                "import qrcode\n",
                "from qrcode.image.svg import SvgPathImage\n",
                "\n",
                "from allauth.core import context\n",
                "from allauth.mfa import app_settings\n",
                "from allauth.mfa.models import Authenticator\n",
                "from allauth.mfa.utils import decrypt, encrypt\n",
                "from django.core.cache import cache\n",
                "from django.utils.http import urlencode\n",
                "\n",
                "SECRET_SESSION_KEY = \"mfa.totp.secret\"\n"
            ]
        },
        {
            "cell_type": "markdown",
            "metadata": {},
            "source": []
        },
        {
            "cell_type": "code",
            "execution_count": null,
            "metadata": {},
            "outputs": [],
            "source": [
                "def generate_totp_secret(length=20):\n",
                "    random_bytes = secrets.token_bytes(length)\n",
                "    return base64.b32encode(random_bytes).decode(\"utf-8\")\n"
            ]
        },
        {
            "cell_type": "markdown",
            "metadata": {},
            "source": []
        },
        {
            "cell_type": "code",
            "execution_count": null,
            "metadata": {},
            "outputs": [],
            "source": [
                "def get_totp_secret(regenerate=False):\n",
                "    secret = None\n",
                "    if not regenerate:\n",
                "        secret = context.request.session.get(SECRET_SESSION_KEY)\n",
                "    if not secret:\n",
                "        secret = context.request.session[SECRET_SESSION_KEY] = generate_totp_secret()\n",
                "    return secret\n"
            ]
        },
        {
            "cell_type": "markdown",
            "metadata": {},
            "source": []
        },
        {
            "cell_type": "code",
            "execution_count": null,
            "metadata": {},
            "outputs": [],
            "source": [
                "def hotp_counter_from_time():\n",
                "    current_time = int(time.time())  # Get the current Unix timestamp\n",
                "    return current_time // app_settings.TOTP_PERIOD\n"
            ]
        },
        {
            "cell_type": "markdown",
            "metadata": {},
            "source": []
        },
        {
            "cell_type": "code",
            "execution_count": null,
            "metadata": {},
            "outputs": [],
            "source": [
                "def hotp_value(secret, counter):\n",
                "    # Convert the counter to a byte array using big-endian encoding\n",
                "    counter_bytes = struct.pack(\">Q\", counter)\n",
                "    secret_enc = base64.b32decode(secret.encode(\"ascii\"), casefold=True)\n",
                "    # Calculate the HMAC-SHA1 hash using the secret and counter\n",
                "    hmac_result = hmac.new(secret_enc, counter_bytes, hashlib.sha1).digest()\n",
                "    # Get the last 4 bits of the HMAC result to determine the offset\n",
                "    offset = hmac_result[-1] & 0x0F\n",
                "    # Extract an 31-bit slice from the HMAC result starting at the offset + 1 bit\n",
                "    truncated_hash = bytearray(hmac_result[offset : offset + 4])\n",
                "    truncated_hash[0] = truncated_hash[0] & 0x7F\n",
                "    # Convert the truncated hash to an integer value\n",
                "    value = struct.unpack(\">I\", truncated_hash)[0]\n",
                "    # Apply modulo to get a value within the specified number of digits\n",
                "    value %= 10**app_settings.TOTP_DIGITS\n",
                "    return value\n"
            ]
        },
        {
            "cell_type": "markdown",
            "metadata": {},
            "source": []
        },
        {
            "cell_type": "code",
            "execution_count": null,
            "metadata": {},
            "outputs": [],
            "source": [
                "def build_totp_url(label, issuer, secret):\n",
                "    params = {\n",
                "        \"secret\": secret,\n",
                "        # This is the default\n",
                "        # \"algorithm\": \"SHA1\",\n",
                "        \"issuer\": issuer,\n",
                "    }\n",
                "    if app_settings.TOTP_DIGITS != 6:\n",
                "        params[\"digits\"] = app_settings.TOTP_DIGITS\n",
                "    if app_settings.TOTP_PERIOD != 30:\n",
                "        params[\"period\"] = app_settings.TOTP_PERIOD\n",
                "    return f\"otpauth://totp/{quote(label)}?{urlencode(params)}\"\n"
            ]
        },
        {
            "cell_type": "markdown",
            "metadata": {},
            "source": []
        },
        {
            "cell_type": "code",
            "execution_count": null,
            "metadata": {},
            "outputs": [],
            "source": [
                "def build_totp_svg(url):\n",
                "    img = qrcode.make(url, image_factory=SvgPathImage)\n",
                "    buf = BytesIO()\n",
                "    img.save(buf)\n",
                "    return buf.getvalue().decode(\"utf8\")\n"
            ]
        },
        {
            "cell_type": "markdown",
            "metadata": {},
            "source": []
        },
        {
            "cell_type": "code",
            "execution_count": null,
            "metadata": {},
            "outputs": [],
            "source": [
                "def format_hotp_value(value):\n",
                "    return f\"{value:0{app_settings.TOTP_DIGITS}}\"\n"
            ]
        },
        {
            "cell_type": "markdown",
            "metadata": {},
            "source": []
        },
        {
            "cell_type": "code",
            "execution_count": null,
            "metadata": {},
            "outputs": [],
            "source": [
                "def _is_insecure_bypass(code):\n",
                "    return code and app_settings.TOTP_INSECURE_BYPASS_CODE == code\n"
            ]
        },
        {
            "cell_type": "markdown",
            "metadata": {},
            "source": []
        },
        {
            "cell_type": "code",
            "execution_count": null,
            "metadata": {},
            "outputs": [],
            "source": [
                "def validate_totp_code(secret, code):\n",
                "    if _is_insecure_bypass(code):\n",
                "        return True\n",
                "    value = hotp_value(secret, hotp_counter_from_time())\n",
                "    return code == format_hotp_value(value)\n"
            ]
        },
        {
            "cell_type": "markdown",
            "metadata": {},
            "source": []
        },
        {
            "cell_type": "code",
            "execution_count": null,
            "metadata": {},
            "outputs": [],
            "source": [
                "class TOTP:\n",
                "    def __init__(self, instance):\n",
                "        self.instance = instance\n",
                "\n",
                "    @classmethod\n",
                "    def activate(cls, user, secret):\n",
                "        instance = Authenticator(\n",
                "            user=user, type=Authenticator.Type.TOTP, data={\"secret\": encrypt(secret)}\n",
                "        )\n",
                "        instance.save()\n",
                "        return cls(instance)\n",
                "\n",
                "    def deactivate(self):\n",
                "        self.instance.delete()\n",
                "\n",
                "    def validate_code(self, code):\n",
                "        if _is_insecure_bypass(code):\n",
                "            return True\n",
                "        if self._is_code_used(code):\n",
                "            return False\n",
                "\n",
                "        secret = decrypt(self.instance.data[\"secret\"])\n",
                "        valid = validate_totp_code(secret, code)\n",
                "        if valid:\n",
                "            self._mark_code_used(code)\n",
                "        return valid\n",
                "\n",
                "    def _get_used_cache_key(self, code):\n",
                "        return f\"allauth.mfa.totp.used?user={self.instance.user_id}&code={code}\"\n",
                "\n",
                "    def _is_code_used(self, code):\n",
                "        return cache.get(self._get_used_cache_key(code)) == \"y\"\n",
                "\n",
                "    def _mark_code_used(self, code):\n",
                "        cache.set(self._get_used_cache_key(code), \"y\", timeout=app_settings.TOTP_PERIOD)\n",
                "\n"
            ]
        },
        {
            "cell_type": "markdown",
            "metadata": {},
            "source": []
        }
    ],
    "metadata": {
        "language_info": {
            "name": "python"
        }
    },
    "nbformat": 4,
    "nbformat_minor": 2
}