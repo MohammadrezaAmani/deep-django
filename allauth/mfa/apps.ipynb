{
 "cells": [
  {
   "cell_type": "code",
   "execution_count": null,
   "metadata": {},
   "outputs": [],
   "source": [
    "from django.apps import AppConfig\n",
    "from django.utils.translation import gettext_lazy as _\n",
    "\n",
    "from allauth import app_settings"
   ]
  },
  {
   "cell_type": "markdown",
   "metadata": {},
   "source": []
  },
  {
   "cell_type": "code",
   "execution_count": null,
   "metadata": {},
   "outputs": [],
   "source": [
    "class MFAConfig(AppConfig):\n",
    "    name = \"allauth.mfa\"\n",
    "    verbose_name = _(\"MFA\")\n",
    "    default_auto_field = (\n",
    "        app_settings.DEFAULT_AUTO_FIELD or \"django.db.models.BigAutoField\"\n",
    "    )\n",
    "\n",
    "    def ready(self):\n",
    "        from allauth.account import signals as account_signals\n",
    "        from allauth.mfa import signals\n",
    "\n",
    "        account_signals._add_email.connect(signals.on_add_email)"
   ]
  },
  {
   "cell_type": "markdown",
   "metadata": {},
   "source": []
  }
 ],
 "metadata": {
  "language_info": {
   "name": "python"
  }
 },
 "nbformat": 4,
 "nbformat_minor": 2
}