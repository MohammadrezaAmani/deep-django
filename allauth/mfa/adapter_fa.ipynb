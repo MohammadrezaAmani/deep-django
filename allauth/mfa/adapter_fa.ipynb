{
    "cells": [
        {
            "cell_type": "code",
            "execution_count": null,
            "metadata": {},
            "outputs": [],
            "source": [
                "from allauth import app_settings as allauth_settings\n",
                "from allauth.account.adapter import get_adapter as get_account_adapter\n",
                "from allauth.account.utils import user_email, user_username\n",
                "from allauth.core import context\n",
                "from allauth.core.internal.adapter import BaseAdapter\n",
                "from allauth.mfa import app_settings\n",
                "from allauth.mfa.models import Authenticator\n",
                "from allauth.utils import import_attribute\n",
                "from django.utils.translation import gettext_lazy as _\n"
            ]
        },
        {
            "cell_type": "markdown",
            "metadata": {},
            "source": []
        },
        {
            "cell_type": "code",
            "execution_count": null,
            "metadata": {},
            "outputs": [],
            "source": [
                "class DefaultMFAAdapter(BaseAdapter):\n",
                "    \"\"\"The adapter class allows you to override various functionality of the\n",
                "    ``allauth.mfa`` app.  To do so, point ``settings.MFA_ADAPTER`` to your own\n",
                "    class that derives from ``DefaultMFAAdapter`` and override the behavior by\n",
                "    altering the implementation of the methods according to your own needs.\n",
                "    \"\"\"\n",
                "\n",
                "    error_messages = {\n",
                "        \"add_email_blocked\": _(\n",
                "            \"You cannot add an email address to an account protected by two-factor authentication.\"\n",
                "        ),\n",
                "        \"cannot_delete_authenticator\": _(\n",
                "            \"You cannot deactivate two-factor authentication.\"\n",
                "        ),\n",
                "        \"cannot_generate_recovery_codes\": _(\n",
                "            \"You cannot generate recovery codes without having two-factor authentication enabled.\"\n",
                "        ),\n",
                "        \"incorrect_code\": _(\"Incorrect code.\"),\n",
                "        \"unverified_email\": _(\n",
                "            \"You cannot activate two-factor authentication until you have verified your email address.\"\n",
                "        ),\n",
                "    }\n",
                "    \"The error messages that can occur as part of MFA form handling.\"\n",
                "\n",
                "    def get_totp_label(self, user) -> str:\n",
                "        \"\"\"Returns the label used for representing the given user in a TOTP QR\n",
                "        code.\n",
                "        \"\"\"\n",
                "        label = user_email(user)\n",
                "        if not label:\n",
                "            label = user_username(user)\n",
                "        if not label:\n",
                "            label = str(user)\n",
                "        return label\n",
                "\n",
                "    def get_totp_issuer(self) -> str:\n",
                "        \"\"\"Returns the TOTP issuer name that will be contained in the TOTP QR\n",
                "        code.\n",
                "        \"\"\"\n",
                "        issuer = app_settings.TOTP_ISSUER\n",
                "        if not issuer:\n",
                "            if allauth_settings.SITES_ENABLED:\n",
                "                from django.contrib.sites.models import Site\n",
                "\n",
                "                issuer = Site.objects.get_current(context.request).name\n",
                "            else:\n",
                "                issuer = context.request.get_host()\n",
                "        return issuer\n",
                "\n",
                "    def encrypt(self, text: str) -> str:\n",
                "        \"\"\"Secrets such as the TOTP key are stored in the database.  This\n",
                "        hook can be used to encrypt those so that they are not stored in the\n",
                "        clear in the database.\n",
                "        \"\"\"\n",
                "        return text\n",
                "\n",
                "    def decrypt(self, encrypted_text: str) -> str:\n",
                "        \"\"\"Counter part of ``encrypt()``.\"\"\"\n",
                "        text = encrypted_text\n",
                "        return text\n",
                "\n",
                "    def can_delete_authenticator(self, authenticator) -> bool:\n",
                "        return True\n",
                "\n",
                "    def send_notification_mail(self, *args, **kwargs):\n",
                "        return get_account_adapter().send_notification_mail(*args, **kwargs)\n",
                "\n",
                "    def is_mfa_enabled(self, user, types=None) -> bool:\n",
                "        \"\"\"\n",
                "        Returns ``True`` if (and only if) the user has 2FA enabled.\n",
                "        \"\"\"\n",
                "        if user.is_anonymous:\n",
                "            return False\n",
                "        qs = Authenticator.objects.filter(user=user)\n",
                "        if types is not None:\n",
                "            qs = qs.filter(type__in=types)\n",
                "        return qs.exists()\n"
            ]
        },
        {
            "cell_type": "markdown",
            "metadata": {},
            "source": []
        },
        {
            "cell_type": "code",
            "execution_count": null,
            "metadata": {},
            "outputs": [],
            "source": [
                "def get_adapter():\n",
                "    return import_attribute(app_settings.ADAPTER)()\n",
                "\n"
            ]
        },
        {
            "cell_type": "markdown",
            "metadata": {},
            "source": []
        }
    ],
    "metadata": {
        "language_info": {
            "name": "python"
        }
    },
    "nbformat": 4,
    "nbformat_minor": 2
}