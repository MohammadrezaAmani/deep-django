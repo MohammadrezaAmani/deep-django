{
    "cells": [
        {
            "cell_type": "code",
            "execution_count": null,
            "metadata": {},
            "outputs": [],
            "source": [
                "from unittest.mock import ANY, patch\n",
                "\n",
                "import pytest\n",
                "from pytest_django.asserts import assertFormError, assertTemplateUsed\n",
                "\n",
                "import django\n",
                "from allauth.account.authentication import AUTHENTICATION_METHODS_SESSION_KEY\n",
                "from allauth.account.models import EmailAddress\n",
                "from allauth.mfa import app_settings\n",
                "from allauth.mfa.adapter import get_adapter\n",
                "from allauth.mfa.models import Authenticator\n",
                "from django.conf import settings\n",
                "from django.core.cache import cache\n",
                "from django.test import Client\n",
                "from django.urls import reverse\n"
            ]
        },
        {
            "cell_type": "markdown",
            "metadata": {},
            "source": []
        },
        {
            "cell_type": "code",
            "execution_count": null,
            "metadata": {},
            "outputs": [],
            "source": [
                "@pytest.mark.parametrize(\n",
                "    \"url_name\",\n",
                "    (\n",
                "        \"mfa_activate_totp\",\n",
                "        \"mfa_index\",\n",
                "        \"mfa_deactivate_totp\",\n",
                "    ),\n",
                ")\n",
                "def test_login_required_views(client, url_name):\n",
                "    resp = client.get(reverse(url_name))\n",
                "    assert resp.status_code == 302\n",
                "    assert resp[\"location\"].startswith(reverse(\"account_login\"))\n"
            ]
        },
        {
            "cell_type": "markdown",
            "metadata": {},
            "source": []
        },
        {
            "cell_type": "code",
            "execution_count": null,
            "metadata": {},
            "outputs": [],
            "source": [
                "def test_activate_totp_with_incorrect_code(auth_client, reauthentication_bypass):\n",
                "    with reauthentication_bypass():\n",
                "        resp = auth_client.get(reverse(\"mfa_activate_totp\"))\n",
                "        resp = auth_client.post(\n",
                "            reverse(\"mfa_activate_totp\"),\n",
                "            {\n",
                "                \"code\": \"123\",\n",
                "            },\n",
                "        )\n",
                "    assert resp.context[\"form\"].errors == {\n",
                "        \"code\": [get_adapter().error_messages[\"incorrect_code\"]]\n",
                "    }\n"
            ]
        },
        {
            "cell_type": "markdown",
            "metadata": {},
            "source": []
        },
        {
            "cell_type": "code",
            "execution_count": null,
            "metadata": {},
            "outputs": [],
            "source": [
                "def test_activate_totp_with_unverified_email(\n",
                "    auth_client, user, totp_validation_bypass, reauthentication_bypass\n",
                "):\n",
                "    EmailAddress.objects.filter(user=user).update(verified=False)\n",
                "    with reauthentication_bypass():\n",
                "        resp = auth_client.get(reverse(\"mfa_activate_totp\"))\n",
                "        with totp_validation_bypass():\n",
                "            resp = auth_client.post(\n",
                "                reverse(\"mfa_activate_totp\"),\n",
                "                {\n",
                "                    \"code\": \"123\",\n",
                "                },\n",
                "            )\n",
                "    assert resp.context[\"form\"].errors == {\n",
                "        \"code\": [get_adapter().error_messages[\"unverified_email\"]],\n",
                "    }\n"
            ]
        },
        {
            "cell_type": "markdown",
            "metadata": {},
            "source": []
        },
        {
            "cell_type": "code",
            "execution_count": null,
            "metadata": {},
            "outputs": [],
            "source": [
                "def test_activate_totp_success(\n",
                "    auth_client,\n",
                "    totp_validation_bypass,\n",
                "    user,\n",
                "    reauthentication_bypass,\n",
                "    settings,\n",
                "    mailoutbox,\n",
                "):\n",
                "    settings.ACCOUNT_EMAIL_NOTIFICATIONS = True\n",
                "    with reauthentication_bypass():\n",
                "        resp = auth_client.get(reverse(\"mfa_activate_totp\"))\n",
                "        with totp_validation_bypass():\n",
                "            resp = auth_client.post(\n",
                "                reverse(\"mfa_activate_totp\"),\n",
                "                {\n",
                "                    \"code\": \"123\",\n",
                "                },\n",
                "            )\n",
                "    assert resp[\"location\"] == reverse(\"mfa_view_recovery_codes\")\n",
                "    assert Authenticator.objects.filter(\n",
                "        user=user, type=Authenticator.Type.TOTP\n",
                "    ).exists()\n",
                "    assert Authenticator.objects.filter(\n",
                "        user=user, type=Authenticator.Type.RECOVERY_CODES\n",
                "    ).exists()\n",
                "    assert len(mailoutbox) == 1\n",
                "    assert \"Authenticator App Activated\" in mailoutbox[0].subject\n",
                "    assert \"Authenticator app activated.\" in mailoutbox[0].body\n"
            ]
        },
        {
            "cell_type": "markdown",
            "metadata": {},
            "source": []
        },
        {
            "cell_type": "code",
            "execution_count": null,
            "metadata": {},
            "outputs": [],
            "source": [
                "def test_index(auth_client, user_with_totp):\n",
                "    resp = auth_client.get(reverse(\"mfa_index\"))\n",
                "    assert \"authenticators\" in resp.context\n"
            ]
        },
        {
            "cell_type": "markdown",
            "metadata": {},
            "source": []
        },
        {
            "cell_type": "code",
            "execution_count": null,
            "metadata": {},
            "outputs": [],
            "source": [
                "def test_deactivate_totp_success(\n",
                "    auth_client, user_with_totp, user_password, settings, mailoutbox\n",
                "):\n",
                "    settings.ACCOUNT_EMAIL_NOTIFICATIONS = True\n",
                "    resp = auth_client.get(reverse(\"mfa_deactivate_totp\"))\n",
                "    assert resp.status_code == 302\n",
                "    assert resp[\"location\"].startswith(reverse(\"account_reauthenticate\"))\n",
                "    resp = auth_client.post(resp[\"location\"], {\"password\": user_password})\n",
                "    assert resp.status_code == 302\n",
                "    resp = auth_client.post(reverse(\"mfa_deactivate_totp\"))\n",
                "    assert resp.status_code == 302\n",
                "    assert resp[\"location\"] == reverse(\"mfa_index\")\n",
                "    assert len(mailoutbox) == 1\n",
                "    assert \"Authenticator App Deactivated\" in mailoutbox[0].subject\n",
                "    assert \"Authenticator app deactivated.\" in mailoutbox[0].body\n"
            ]
        },
        {
            "cell_type": "markdown",
            "metadata": {},
            "source": []
        },
        {
            "cell_type": "code",
            "execution_count": null,
            "metadata": {},
            "outputs": [],
            "source": [
                "def test_user_without_totp_deactivate_totp(auth_client):\n",
                "    resp = auth_client.get(reverse(\"mfa_deactivate_totp\"))\n",
                "    assert resp.status_code == 404\n"
            ]
        },
        {
            "cell_type": "markdown",
            "metadata": {},
            "source": []
        },
        {
            "cell_type": "code",
            "execution_count": null,
            "metadata": {},
            "outputs": [],
            "source": [
                "def test_user_with_totp_activate_totp(\n",
                "    auth_client, user_with_totp, reauthentication_bypass\n",
                "):\n",
                "    with reauthentication_bypass():\n",
                "        resp = auth_client.get(reverse(\"mfa_activate_totp\"))\n",
                "    assert resp.status_code == 302\n",
                "    assert resp[\"location\"] == reverse(\"mfa_deactivate_totp\")\n"
            ]
        },
        {
            "cell_type": "markdown",
            "metadata": {},
            "source": []
        },
        {
            "cell_type": "code",
            "execution_count": null,
            "metadata": {},
            "outputs": [],
            "source": [
                "def test_totp_login(client, user_with_totp, user_password, totp_validation_bypass):\n",
                "    resp = client.post(\n",
                "        reverse(\"account_login\"),\n",
                "        {\"login\": user_with_totp.username, \"password\": user_password},\n",
                "    )\n",
                "    assert resp.status_code == 302\n",
                "    assert resp[\"location\"] == reverse(\"mfa_authenticate\")\n",
                "    resp = client.get(reverse(\"mfa_authenticate\"))\n",
                "    assert resp.context[\"request\"].user.is_anonymous\n",
                "    resp = client.post(reverse(\"mfa_authenticate\"), {\"code\": \"123\"})\n",
                "    assert resp.context[\"form\"].errors == {\n",
                "        \"code\": [get_adapter().error_messages[\"incorrect_code\"]]\n",
                "    }\n",
                "    with totp_validation_bypass():\n",
                "        resp = client.post(\n",
                "            reverse(\"mfa_authenticate\"),\n",
                "            {\"code\": \"123\"},\n",
                "        )\n",
                "    assert resp.status_code == 302\n",
                "    assert resp[\"location\"] == settings.LOGIN_REDIRECT_URL\n",
                "    assert client.session[AUTHENTICATION_METHODS_SESSION_KEY] == [\n",
                "        {\"method\": \"password\", \"at\": ANY, \"username\": user_with_totp.username},\n",
                "        {\"method\": \"mfa\", \"at\": ANY, \"id\": ANY, \"type\": Authenticator.Type.TOTP},\n",
                "    ]\n"
            ]
        },
        {
            "cell_type": "markdown",
            "metadata": {},
            "source": []
        },
        {
            "cell_type": "code",
            "execution_count": null,
            "metadata": {},
            "outputs": [],
            "source": [
                "def test_download_recovery_codes(auth_client, user_with_recovery_codes, user_password):\n",
                "    resp = auth_client.get(reverse(\"mfa_download_recovery_codes\"))\n",
                "    assert resp[\"location\"].startswith(reverse(\"account_reauthenticate\"))\n",
                "    resp = auth_client.post(resp[\"location\"], {\"password\": user_password})\n",
                "    assert resp.status_code == 302\n",
                "    resp = auth_client.get(resp[\"location\"])\n",
                "    assert resp[\"content-disposition\"] == 'attachment; filename=\"recovery-codes.txt\"'\n"
            ]
        },
        {
            "cell_type": "markdown",
            "metadata": {},
            "source": []
        },
        {
            "cell_type": "code",
            "execution_count": null,
            "metadata": {},
            "outputs": [],
            "source": [
                "def test_view_recovery_codes(auth_client, user_with_recovery_codes, user_password):\n",
                "    resp = auth_client.get(reverse(\"mfa_view_recovery_codes\"))\n",
                "    assert resp[\"location\"].startswith(reverse(\"account_reauthenticate\"))\n",
                "    resp = auth_client.post(resp[\"location\"], {\"password\": user_password})\n",
                "    assert resp.status_code == 302\n",
                "    resp = auth_client.get(resp[\"location\"])\n",
                "    assert len(resp.context[\"unused_codes\"]) == app_settings.RECOVERY_CODE_COUNT\n"
            ]
        },
        {
            "cell_type": "markdown",
            "metadata": {},
            "source": []
        },
        {
            "cell_type": "code",
            "execution_count": null,
            "metadata": {},
            "outputs": [],
            "source": [
                "def test_generate_recovery_codes(\n",
                "    auth_client, user_with_recovery_codes, user_password, settings, mailoutbox\n",
                "):\n",
                "    settings.ACCOUNT_EMAIL_NOTIFICATIONS = True\n",
                "    rc = Authenticator.objects.get(\n",
                "        user=user_with_recovery_codes, type=Authenticator.Type.RECOVERY_CODES\n",
                "    ).wrap()\n",
                "    prev_code = rc.get_unused_codes()[0]\n",
                "\n",
                "    resp = auth_client.get(reverse(\"mfa_generate_recovery_codes\"))\n",
                "    assert resp[\"location\"].startswith(reverse(\"account_reauthenticate\"))\n",
                "    resp = auth_client.post(resp[\"location\"], {\"password\": user_password})\n",
                "    assert resp.status_code == 302\n",
                "    resp = auth_client.post(resp[\"location\"])\n",
                "    assert resp[\"location\"] == reverse(\"mfa_view_recovery_codes\")\n",
                "\n",
                "    rc = Authenticator.objects.get(\n",
                "        user=user_with_recovery_codes, type=Authenticator.Type.RECOVERY_CODES\n",
                "    ).wrap()\n",
                "    assert not rc.validate_code(prev_code)\n",
                "    assert len(mailoutbox) == 1\n",
                "    assert \"New Recovery Codes Generated\" in mailoutbox[0].subject\n",
                "    assert \"A new set of\" in mailoutbox[0].body\n"
            ]
        },
        {
            "cell_type": "markdown",
            "metadata": {},
            "source": []
        },
        {
            "cell_type": "code",
            "execution_count": null,
            "metadata": {},
            "outputs": [],
            "source": [
                "def test_recovery_codes_login(\n",
                "    client, user_with_totp, user_with_recovery_codes, user_password\n",
                "):\n",
                "    resp = client.post(\n",
                "        reverse(\"account_login\"),\n",
                "        {\"login\": user_with_totp.username, \"password\": user_password},\n",
                "    )\n",
                "    assert resp.status_code == 302\n",
                "    assert resp[\"location\"] == reverse(\"mfa_authenticate\")\n",
                "    resp = client.get(reverse(\"mfa_authenticate\"))\n",
                "    assert resp.context[\"request\"].user.is_anonymous\n",
                "    resp = client.post(reverse(\"mfa_authenticate\"), {\"code\": \"123\"})\n",
                "    assert resp.context[\"form\"].errors == {\n",
                "        \"code\": [get_adapter().error_messages[\"incorrect_code\"]]\n",
                "    }\n",
                "    rc = Authenticator.objects.get(\n",
                "        user=user_with_recovery_codes, type=Authenticator.Type.RECOVERY_CODES\n",
                "    )\n",
                "    resp = client.post(\n",
                "        reverse(\"mfa_authenticate\"),\n",
                "        {\"code\": rc.wrap().get_unused_codes()[0]},\n",
                "    )\n",
                "    assert resp.status_code == 302\n",
                "    assert resp[\"location\"] == settings.LOGIN_REDIRECT_URL\n",
                "    assert client.session[AUTHENTICATION_METHODS_SESSION_KEY] == [\n",
                "        {\"method\": \"password\", \"at\": ANY, \"username\": user_with_totp.username},\n",
                "        {\n",
                "            \"method\": \"mfa\",\n",
                "            \"at\": ANY,\n",
                "            \"id\": ANY,\n",
                "            \"type\": Authenticator.Type.RECOVERY_CODES,\n",
                "        },\n",
                "    ]\n"
            ]
        },
        {
            "cell_type": "markdown",
            "metadata": {},
            "source": []
        },
        {
            "cell_type": "code",
            "execution_count": null,
            "metadata": {},
            "outputs": [],
            "source": [
                "def test_add_email_not_allowed(auth_client, user_with_totp):\n",
                "    resp = auth_client.post(\n",
                "        reverse(\"account_email\"),\n",
                "        {\"action_add\": \"\", \"email\": \"change-to@this.org\"},\n",
                "    )\n",
                "    assert resp.status_code == 200\n",
                "    assert resp.context[\"form\"].errors == {\n",
                "        \"email\": [\n",
                "            \"You cannot add an email address to an account protected by two-factor authentication.\"\n",
                "        ]\n",
                "    }\n"
            ]
        },
        {
            "cell_type": "markdown",
            "metadata": {},
            "source": []
        },
        {
            "cell_type": "code",
            "execution_count": null,
            "metadata": {},
            "outputs": [],
            "source": [
                "def test_totp_login_rate_limit(\n",
                "    settings, enable_cache, user_with_totp, user_password, client\n",
                "):\n",
                "    settings.ACCOUNT_LOGIN_ATTEMPTS_LIMIT = 3\n",
                "    resp = client.post(\n",
                "        reverse(\"account_login\"),\n",
                "        {\"login\": user_with_totp.username, \"password\": user_password},\n",
                "    )\n",
                "    assert resp.status_code == 302\n",
                "    assert resp[\"location\"] == reverse(\"mfa_authenticate\")\n",
                "    for i in range(5):\n",
                "        is_locked = i >= 3\n",
                "        resp = client.post(\n",
                "            reverse(\"mfa_authenticate\"),\n",
                "            {\n",
                "                \"code\": \"wrong\",\n",
                "            },\n",
                "        )\n",
                "        if django.VERSION >= (4, 1):\n",
                "            assertFormError(\n",
                "                resp.context[\"form\"],\n",
                "                \"code\",\n",
                "                \"Too many failed login attempts. Try again later.\"\n",
                "                if is_locked\n",
                "                else \"Incorrect code.\",\n",
                "            )\n",
                "        else:\n",
                "            assertFormError(\n",
                "                resp,\n",
                "                \"form\",\n",
                "                \"code\",\n",
                "                \"Too many failed login attempts. Try again later.\"\n",
                "                if is_locked\n",
                "                else \"Incorrect code.\",\n",
                "            )\n"
            ]
        },
        {
            "cell_type": "markdown",
            "metadata": {},
            "source": []
        },
        {
            "cell_type": "code",
            "execution_count": null,
            "metadata": {},
            "outputs": [],
            "source": [
                "def test_cannot_deactivate_totp(auth_client, user_with_totp, user_password):\n",
                "    with patch(\n",
                "        \"allauth.mfa.adapter.DefaultMFAAdapter.can_delete_authenticator\"\n",
                "    ) as cda_mock:\n",
                "        cda_mock.return_value = False\n",
                "        resp = auth_client.get(reverse(\"mfa_deactivate_totp\"))\n",
                "        assert resp.status_code == 302\n",
                "        assert resp[\"location\"].startswith(reverse(\"account_reauthenticate\"))\n",
                "        resp = auth_client.post(resp[\"location\"], {\"password\": user_password})\n",
                "        assert resp.status_code == 302\n",
                "        resp = auth_client.get(reverse(\"mfa_deactivate_totp\"))\n",
                "        # When we GET, the form validation error is already on screen\n",
                "        assert resp.context[\"form\"].errors == {\n",
                "            \"__all__\": [get_adapter().error_messages[\"cannot_delete_authenticator\"]],\n",
                "        }\n",
                "        # And, when we POST anyway, it does not work\n",
                "        resp = auth_client.post(reverse(\"mfa_deactivate_totp\"))\n",
                "        assert resp.status_code == 200\n",
                "        assert resp.context[\"form\"].errors == {\n",
                "            \"__all__\": [get_adapter().error_messages[\"cannot_delete_authenticator\"]],\n",
                "        }\n"
            ]
        },
        {
            "cell_type": "markdown",
            "metadata": {},
            "source": []
        },
        {
            "cell_type": "code",
            "execution_count": null,
            "metadata": {},
            "outputs": [],
            "source": [
                "def test_totp_code_reuse(\n",
                "    user_with_totp, user_password, totp_validation_bypass, enable_cache\n",
                "):\n",
                "    for code, time_lapse, expect_success in [\n",
                "        # First use of code, SUCCESS\n",
                "        (\"123\", False, True),\n",
                "        # Second use, no time elapsed: FAIL\n",
                "        (\"123\", False, False),\n",
                "        # Different code, no time elapsed: SUCCESS\n",
                "        (\"456\", False, True),\n",
                "        # Again, previous code, no time elapsed: FAIL\n",
                "        (\"123\", False, False),\n",
                "        # Previous code, but time elapsed: SUCCESS\n",
                "        (\"123\", True, True),\n",
                "    ]:\n",
                "        if time_lapse:\n",
                "            cache.clear()\n",
                "        client = Client()\n",
                "        resp = client.post(\n",
                "            reverse(\"account_login\"),\n",
                "            {\"login\": user_with_totp.username, \"password\": user_password},\n",
                "        )\n",
                "        assert resp.status_code == 302\n",
                "        assert resp[\"location\"] == reverse(\"mfa_authenticate\")\n",
                "        # Note that this bypass only bypasses the actual code check, not the\n",
                "        # re-use check we're testing here.\n",
                "        with totp_validation_bypass():\n",
                "            resp = client.post(\n",
                "                reverse(\"mfa_authenticate\"),\n",
                "                {\"code\": code},\n",
                "            )\n",
                "        if expect_success:\n",
                "            assert resp.status_code == 302\n",
                "            assert resp[\"location\"] == settings.LOGIN_REDIRECT_URL\n",
                "        else:\n",
                "            assert resp.status_code == 200\n",
                "            assert resp.context[\"form\"].errors == {\n",
                "                \"code\": [get_adapter().error_messages[\"incorrect_code\"]]\n",
                "            }\n"
            ]
        },
        {
            "cell_type": "markdown",
            "metadata": {},
            "source": []
        },
        {
            "cell_type": "code",
            "execution_count": null,
            "metadata": {},
            "outputs": [],
            "source": [
                "def test_generate_recovery_codes_require_other_authenticator(\n",
                "    auth_client, user, settings, reauthentication_bypass\n",
                "):\n",
                "    with reauthentication_bypass():\n",
                "        resp = auth_client.post(reverse(\"mfa_generate_recovery_codes\"))\n",
                "    assert resp.context[\"form\"].errors == {\n",
                "        \"__all__\": [\n",
                "            \"You cannot generate recovery codes without having two-factor authentication enabled.\"\n",
                "        ]\n",
                "    }\n",
                "    assert not Authenticator.objects.filter(user=user).exists()\n"
            ]
        },
        {
            "cell_type": "markdown",
            "metadata": {},
            "source": []
        },
        {
            "cell_type": "code",
            "execution_count": null,
            "metadata": {},
            "outputs": [],
            "source": [
                "def test_reauthentication(auth_client, user_with_recovery_codes):\n",
                "    resp = auth_client.get(reverse(\"mfa_view_recovery_codes\"))\n",
                "    assert resp.status_code == 302\n",
                "    assert resp[\"location\"].startswith(reverse(\"account_reauthenticate\"))\n",
                "    resp = auth_client.get(reverse(\"mfa_reauthenticate\"))\n",
                "    assertTemplateUsed(resp, \"mfa/reauthenticate.html\")\n",
                "    authenticator = Authenticator.objects.get(\n",
                "        user=user_with_recovery_codes, type=Authenticator.Type.RECOVERY_CODES\n",
                "    )\n",
                "    unused_code = authenticator.wrap().get_unused_codes()[0]\n",
                "    resp = auth_client.post(reverse(\"mfa_reauthenticate\"), data={\"code\": unused_code})\n",
                "    assert resp.status_code == 302\n",
                "    resp = auth_client.get(reverse(\"mfa_view_recovery_codes\"))\n",
                "    assert resp.status_code == 200\n",
                "    assertTemplateUsed(resp, \"mfa/recovery_codes/index.html\")\n",
                "    methods = auth_client.session[AUTHENTICATION_METHODS_SESSION_KEY]\n",
                "    assert methods[-1] == {\n",
                "        \"method\": \"mfa\",\n",
                "        \"type\": \"recovery_codes\",\n",
                "        \"id\": authenticator.pk,\n",
                "        \"at\": ANY,\n",
                "        \"reauthenticated\": True,\n",
                "    }\n",
                "\n"
            ]
        },
        {
            "cell_type": "markdown",
            "metadata": {},
            "source": []
        }
    ],
    "metadata": {
        "language_info": {
            "name": "python"
        }
    },
    "nbformat": 4,
    "nbformat_minor": 2
}