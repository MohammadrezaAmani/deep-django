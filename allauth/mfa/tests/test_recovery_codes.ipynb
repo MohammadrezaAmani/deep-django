{
    "cells": [
        {
            "cell_type": "code",
            "execution_count": null,
            "metadata": {},
            "outputs": [],
            "source": [
                "from allauth.mfa import app_settings\n",
                "from allauth.mfa.models import Authenticator\n",
                "from allauth.mfa.recovery_codes import RecoveryCodes\n"
            ]
        },
        {
            "cell_type": "markdown",
            "metadata": {},
            "source": []
        },
        {
            "cell_type": "code",
            "execution_count": null,
            "metadata": {},
            "outputs": [],
            "source": [
                "def test_flow(user):\n",
                "    rc = RecoveryCodes.activate(user)\n",
                "    codes = rc.generate_codes()\n",
                "    assert len(set(codes)) == app_settings.RECOVERY_CODE_COUNT\n",
                "    for i in range(app_settings.RECOVERY_CODE_COUNT):\n",
                "        assert not rc._is_code_used(i)\n",
                "    idx = 3\n",
                "    assert rc.validate_code(codes[idx])\n",
                "    for i in range(app_settings.RECOVERY_CODE_COUNT):\n",
                "        assert rc._is_code_used(i) == (i == idx)\n",
                "    assert not rc.validate_code(codes[idx])\n",
                "\n",
                "    unused_codes = rc.get_unused_codes()\n",
                "    assert codes[idx] not in unused_codes\n",
                "    assert len(unused_codes) == app_settings.RECOVERY_CODE_COUNT - 1\n"
            ]
        },
        {
            "cell_type": "markdown",
            "metadata": {},
            "source": []
        },
        {
            "cell_type": "code",
            "execution_count": null,
            "metadata": {},
            "outputs": [],
            "source": [
                "def test_migrated_codes(db, user):\n",
                "    auth = Authenticator(user=user, data={\"migrated_codes\": [\"abc\", \"def\"]})\n",
                "    rc = RecoveryCodes(auth)\n",
                "    assert rc.generate_codes() == [\"abc\", \"def\"]\n",
                "    assert rc.get_unused_codes() == [\"abc\", \"def\"]\n",
                "    assert not rc.validate_code(\"bad\")\n",
                "    assert rc.validate_code(\"abc\")\n",
                "    auth.refresh_from_db()\n",
                "    rc = RecoveryCodes(auth)\n",
                "    assert rc.generate_codes() == [\"def\"]\n",
                "    assert rc.get_unused_codes() == [\"def\"]\n",
                "    rc.validate_code(\"def\")\n",
                "    assert rc.instance.data[\"migrated_codes\"] == []\n",
                "\n"
            ]
        },
        {
            "cell_type": "markdown",
            "metadata": {},
            "source": []
        }
    ],
    "metadata": {
        "language_info": {
            "name": "python"
        }
    },
    "nbformat": 4,
    "nbformat_minor": 2
}