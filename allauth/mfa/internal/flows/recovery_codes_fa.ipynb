{
    "cells": [
        {
            "cell_type": "code",
            "execution_count": null,
            "metadata": {},
            "outputs": [],
            "source": [
                "from allauth.account.adapter import get_adapter as get_account_adapter\n",
                "from allauth.account.reauthentication import raise_if_reauthentication_required\n",
                "from allauth.mfa import signals\n",
                "from allauth.mfa.models import Authenticator\n",
                "from allauth.mfa.recovery_codes import RecoveryCodes\n",
                "from django.contrib import messages\n"
            ]
        },
        {
            "cell_type": "markdown",
            "metadata": {},
            "source": []
        },
        {
            "cell_type": "code",
            "execution_count": null,
            "metadata": {},
            "outputs": [],
            "source": [
                "def can_generate_recovery_codes(user):\n",
                "    return (\n",
                "        Authenticator.objects.filter(user=user)\n",
                "        .exclude(type=Authenticator.Type.RECOVERY_CODES)\n",
                "        .exists()\n",
                "    )\n"
            ]
        },
        {
            "cell_type": "markdown",
            "metadata": {},
            "source": []
        },
        {
            "cell_type": "code",
            "execution_count": null,
            "metadata": {},
            "outputs": [],
            "source": [
                "def generate_recovery_codes(request):\n",
                "    raise_if_reauthentication_required(request)\n",
                "    Authenticator.objects.filter(\n",
                "        user=request.user, type=Authenticator.Type.RECOVERY_CODES\n",
                "    ).delete()\n",
                "    rc_auth = RecoveryCodes.activate(request.user)\n",
                "    adapter = get_account_adapter(request)\n",
                "    adapter.add_message(\n",
                "        request, messages.SUCCESS, \"mfa/messages/recovery_codes_generated.txt\"\n",
                "    )\n",
                "    signals.authenticator_reset.send(\n",
                "        sender=Authenticator,\n",
                "        request=request,\n",
                "        user=request.user,\n",
                "        authenticator=rc_auth.instance,\n",
                "    )\n",
                "    adapter.send_notification_mail(\"mfa/email/recovery_codes_generated\", request.user)\n",
                "    return rc_auth.instance\n"
            ]
        },
        {
            "cell_type": "markdown",
            "metadata": {},
            "source": []
        },
        {
            "cell_type": "code",
            "execution_count": null,
            "metadata": {},
            "outputs": [],
            "source": [
                "def view_recovery_codes(request):\n",
                "    authenticator = Authenticator.objects.filter(\n",
                "        user=request.user,\n",
                "        type=Authenticator.Type.RECOVERY_CODES,\n",
                "    ).first()\n",
                "    if not authenticator:\n",
                "        return None\n",
                "    raise_if_reauthentication_required(request)\n",
                "    return authenticator\n",
                "\n"
            ]
        },
        {
            "cell_type": "markdown",
            "metadata": {},
            "source": []
        }
    ],
    "metadata": {
        "language_info": {
            "name": "python"
        }
    },
    "nbformat": 4,
    "nbformat_minor": 2
}