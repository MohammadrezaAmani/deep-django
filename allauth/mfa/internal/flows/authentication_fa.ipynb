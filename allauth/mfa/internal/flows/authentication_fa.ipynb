{
 "cells": [
  {
   "cell_type": "code",
   "execution_count": null,
   "metadata": {},
   "outputs": [],
   "source": [
    "from allauth.account.authentication import record_authentication"
   ]
  },
  {
   "cell_type": "markdown",
   "metadata": {},
   "source": []
  },
  {
   "cell_type": "code",
   "execution_count": null,
   "metadata": {},
   "outputs": [],
   "source": [
    "def post_authentication(request, authenticator, reauthenticated=False):\n",
    "    authenticator.record_usage()\n",
    "    extra_data = {\n",
    "        \"id\": authenticator.pk,\n",
    "        \"type\": authenticator.type,\n",
    "    }\n",
    "    if reauthenticated:\n",
    "        extra_data[\"reauthenticated\"] = True\n",
    "    record_authentication(request, \"mfa\", **extra_data)"
   ]
  },
  {
   "cell_type": "markdown",
   "metadata": {},
   "source": []
  }
 ],
 "metadata": {
  "language_info": {
   "name": "python"
  }
 },
 "nbformat": 4,
 "nbformat_minor": 2
}