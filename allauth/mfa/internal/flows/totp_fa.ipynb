{
 "cells": [
  {
   "cell_type": "code",
   "execution_count": null,
   "metadata": {},
   "outputs": [],
   "source": [
    "from allauth.account.adapter import get_adapter as get_account_adapter\n",
    "from allauth.account.reauthentication import raise_if_reauthentication_required\n",
    "from allauth.mfa import app_settings, signals, totp\n",
    "from allauth.mfa.models import Authenticator\n",
    "from allauth.mfa.recovery_codes import RecoveryCodes\n",
    "from django.contrib import messages"
   ]
  },
  {
   "cell_type": "markdown",
   "metadata": {},
   "source": []
  },
  {
   "cell_type": "code",
   "execution_count": null,
   "metadata": {},
   "outputs": [],
   "source": [
    "def activate_totp(request, form):\n",
    "    raise_if_reauthentication_required(request)\n",
    "    totp_auth = totp.TOTP.activate(request.user, form.secret)\n",
    "    if Authenticator.Type.RECOVERY_CODES in app_settings.SUPPORTED_TYPES:\n",
    "        rc_auth = RecoveryCodes.activate(request.user)\n",
    "    else:\n",
    "        rc_auth = None\n",
    "    for auth in [totp_auth, rc_auth]:\n",
    "        if auth:\n",
    "            signals.authenticator_added.send(\n",
    "                sender=Authenticator,\n",
    "                request=request,\n",
    "                user=request.user,\n",
    "                authenticator=auth.instance,\n",
    "            )\n",
    "    adapter = get_account_adapter(request)\n",
    "    adapter.add_message(request, messages.SUCCESS, \"mfa/messages/totp_activated.txt\")\n",
    "    adapter.send_notification_mail(\"mfa/email/totp_activated\", request.user)\n",
    "    return totp_auth"
   ]
  },
  {
   "cell_type": "markdown",
   "metadata": {},
   "source": []
  },
  {
   "cell_type": "code",
   "execution_count": null,
   "metadata": {},
   "outputs": [],
   "source": [
    "def deactivate_totp(request, authenticator):\n",
    "    raise_if_reauthentication_required(request)\n",
    "    authenticator.wrap().deactivate()\n",
    "    rc_auth = Authenticator.objects.delete_dangling_recovery_codes(authenticator.user)\n",
    "    for auth in [authenticator, rc_auth]:\n",
    "        if auth:\n",
    "            signals.authenticator_removed.send(\n",
    "                sender=Authenticator,\n",
    "                request=request,\n",
    "                user=request.user,\n",
    "                authenticator=auth,\n",
    "            )\n",
    "    adapter = get_account_adapter(request)\n",
    "    adapter.add_message(request, messages.SUCCESS, \"mfa/messages/totp_deactivated.txt\")\n",
    "    adapter.send_notification_mail(\"mfa/email/totp_deactivated\", request.user)"
   ]
  },
  {
   "cell_type": "markdown",
   "metadata": {},
   "source": []
  }
 ],
 "metadata": {
  "language_info": {
   "name": "python"
  }
 },
 "nbformat": 4,
 "nbformat_minor": 2
}