{
 "cells": [
  {
   "cell_type": "code",
   "execution_count": null,
   "metadata": {},
   "outputs": [],
   "source": [
    "class AppSettings(object):\n",
    "    def __init__(self, prefix):\n",
    "        self.prefix = prefix\n",
    "\n",
    "    def _setting(self, name, dflt):\n",
    "        from allauth.utils import get_setting\n",
    "\n",
    "        return get_setting(self.prefix + name, dflt)\n",
    "\n",
    "    @property\n",
    "    def ADAPTER(self):\n",
    "        return self._setting(\"ADAPTER\", \"allauth.mfa.adapter.DefaultMFAAdapter\")\n",
    "\n",
    "    @property\n",
    "    def FORMS(self):\n",
    "        return self._setting(\"FORMS\", {})\n",
    "\n",
    "    @property\n",
    "    def RECOVERY_CODE_COUNT(self):\n",
    "        \"\"\"\n",
    "        The number of recovery codes.\n",
    "        \"\"\"\n",
    "        return self._setting(\"RECOVERY_CODE_COUNT\", 10)\n",
    "\n",
    "    @property\n",
    "    def TOTP_PERIOD(self):\n",
    "        \"\"\"\n",
    "        The period that a TOTP code will be valid for, in seconds.\n",
    "        \"\"\"\n",
    "        return self._setting(\"TOTP_PERIOD\", 30)\n",
    "\n",
    "    @property\n",
    "    def TOTP_DIGITS(self):\n",
    "        \"\"\"\n",
    "        The number of digits for TOTP codes\n",
    "        \"\"\"\n",
    "        return self._setting(\"TOTP_DIGITS\", 6)\n",
    "\n",
    "    @property\n",
    "    def TOTP_ISSUER(self):\n",
    "        \"\"\"\n",
    "        The issuer.\n",
    "        \"\"\"\n",
    "        return self._setting(\"TOTP_ISSUER\", \"\")\n",
    "\n",
    "    @property\n",
    "    def TOTP_INSECURE_BYPASS_CODE(self):\n",
    "        \"\"\"\n",
    "        Don't use this on production. Useful for development & E2E tests only.\n",
    "        \"\"\"\n",
    "        from django.conf import settings\n",
    "        from django.core.exceptions import ImproperlyConfigured\n",
    "\n",
    "        code = self._setting(\"TOTP_INSECURE_BYPASS_CODE\", None)\n",
    "        if (not settings.DEBUG) and code:\n",
    "            raise ImproperlyConfigured(\n",
    "                \"MFA_TOTP_INSECURE_BYPASS_CODE is for testing purposes only\"\n",
    "            )\n",
    "        return code\n",
    "\n",
    "    @property\n",
    "    def SUPPORTED_TYPES(self):\n",
    "        dflt = [\"recovery_codes\", \"totp\"]\n",
    "        return self._setting(\"SUPPORTED_TYPES\", dflt)"
   ]
  },
  {
   "cell_type": "markdown",
   "metadata": {},
   "source": []
  },
  {
   "cell_type": "code",
   "execution_count": null,
   "metadata": {},
   "outputs": [],
   "source": [
    "_app_settings = AppSettings(\"MFA_\")"
   ]
  },
  {
   "cell_type": "markdown",
   "metadata": {},
   "source": []
  },
  {
   "cell_type": "code",
   "execution_count": null,
   "metadata": {},
   "outputs": [],
   "source": [
    "def __getattr__(name):\n",
    "    # See https://peps.python.org/pep-0562/\n",
    "    return getattr(_app_settings, name)"
   ]
  },
  {
   "cell_type": "markdown",
   "metadata": {},
   "source": []
  }
 ],
 "metadata": {
  "language_info": {
   "name": "python"
  }
 },
 "nbformat": 4,
 "nbformat_minor": 2
}