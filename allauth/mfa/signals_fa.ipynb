{
 "cells": [
  {
   "cell_type": "code",
   "execution_count": null,
   "metadata": {},
   "outputs": [],
   "source": [
    "from allauth.mfa.adapter import get_adapter\n",
    "from allauth.mfa.utils import is_mfa_enabled\n",
    "from django.dispatch import Signal\n",
    "\n",
    "# Emitted when an authenticator is added.\n",
    "# Arguments: request, user, authenticator\n",
    "authenticator_added = Signal()\n",
    "\n",
    "# Emitted when an authenticator is removed.\n",
    "# Arguments: request, user, authenticator\n",
    "authenticator_removed = Signal()\n",
    "\n",
    "# Emitted when an authenticator is reset (e.g. recovery codes regenerated).\n",
    "# Arguments: request, user, authenticator\n",
    "authenticator_reset = Signal()"
   ]
  },
  {
   "cell_type": "markdown",
   "metadata": {},
   "source": []
  },
  {
   "cell_type": "code",
   "execution_count": null,
   "metadata": {},
   "outputs": [],
   "source": [
    "def on_add_email(sender, email, user, **kwargs):\n",
    "    if is_mfa_enabled(user):\n",
    "        adapter = get_adapter()\n",
    "        raise adapter.validation_error(\"add_email_blocked\")"
   ]
  },
  {
   "cell_type": "markdown",
   "metadata": {},
   "source": []
  }
 ],
 "metadata": {
  "language_info": {
   "name": "python"
  }
 },
 "nbformat": 4,
 "nbformat_minor": 2
}