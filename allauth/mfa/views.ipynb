{
 "cells": [
  {
   "cell_type": "code",
   "execution_count": null,
   "metadata": {},
   "outputs": [],
   "source": [
    "import base64\n",
    "\n",
    "from django.contrib.auth.decorators import login_required\n",
    "from django.http import Http404, HttpResponseRedirect\n",
    "from django.shortcuts import get_object_or_404\n",
    "from django.urls import reverse, reverse_lazy\n",
    "from django.utils.decorators import method_decorator\n",
    "from django.views.generic import TemplateView\n",
    "from django.views.generic.edit import FormView\n",
    "\n",
    "from allauth.account import app_settings as account_settings\n",
    "from allauth.account.decorators import reauthentication_required\n",
    "from allauth.account.stages import LoginStageController\n",
    "from allauth.account.views import BaseReauthenticateView\n",
    "from allauth.mfa import app_settings, totp\n",
    "from allauth.mfa.adapter import get_adapter\n",
    "from allauth.mfa.forms import (\n",
    "    ActivateTOTPForm,\n",
    "    AuthenticateForm,\n",
    "    DeactivateTOTPForm,\n",
    "    GenerateRecoveryCodesForm,\n",
    "    ReauthenticateForm,\n",
    ")\n",
    "from allauth.mfa.internal import flows\n",
    "from allauth.mfa.models import Authenticator\n",
    "from allauth.mfa.stages import AuthenticateStage\n",
    "from allauth.mfa.utils import is_mfa_enabled\n",
    "from allauth.utils import get_form_class"
   ]
  },
  {
   "cell_type": "markdown",
   "metadata": {},
   "source": []
  },
  {
   "cell_type": "code",
   "execution_count": null,
   "metadata": {},
   "outputs": [],
   "source": [
    "class AuthenticateView(FormView):\n",
    "    form_class = AuthenticateForm\n",
    "    template_name = \"mfa/authenticate.\" + account_settings.TEMPLATE_EXTENSION\n",
    "\n",
    "    def dispatch(self, request, *args, **kwargs):\n",
    "        self.stage = LoginStageController.enter(request, AuthenticateStage.key)\n",
    "        if not self.stage or not is_mfa_enabled(\n",
    "            self.stage.login.user, [Authenticator.Type.TOTP]\n",
    "        ):\n",
    "            return HttpResponseRedirect(reverse(\"account_login\"))\n",
    "        return super().dispatch(request, *args, **kwargs)\n",
    "\n",
    "    def get_form_kwargs(self):\n",
    "        ret = super().get_form_kwargs()\n",
    "        ret[\"user\"] = self.stage.login.user\n",
    "        return ret\n",
    "\n",
    "    def get_form_class(self):\n",
    "        return get_form_class(app_settings.FORMS, \"authenticate\", self.form_class)\n",
    "\n",
    "    def form_valid(self, form):\n",
    "        form.save()\n",
    "        return self.stage.exit()"
   ]
  },
  {
   "cell_type": "markdown",
   "metadata": {},
   "source": []
  },
  {
   "cell_type": "code",
   "execution_count": null,
   "metadata": {},
   "outputs": [],
   "source": [
    "authenticate = AuthenticateView.as_view()"
   ]
  },
  {
   "cell_type": "markdown",
   "metadata": {},
   "source": []
  },
  {
   "cell_type": "code",
   "execution_count": null,
   "metadata": {},
   "outputs": [],
   "source": [
    "@method_decorator(login_required, name=\"dispatch\")\n",
    "class ReauthenticateView(BaseReauthenticateView):\n",
    "    form_class = ReauthenticateForm\n",
    "    template_name = \"mfa/reauthenticate.\" + account_settings.TEMPLATE_EXTENSION\n",
    "\n",
    "    def get_form_kwargs(self):\n",
    "        ret = super().get_form_kwargs()\n",
    "        ret[\"user\"] = self.request.user\n",
    "        return ret\n",
    "\n",
    "    def get_form_class(self):\n",
    "        return get_form_class(app_settings.FORMS, \"reauthenticate\", self.form_class)\n",
    "\n",
    "    def form_valid(self, form):\n",
    "        form.save()\n",
    "        return super().form_valid(form)"
   ]
  },
  {
   "cell_type": "markdown",
   "metadata": {},
   "source": []
  },
  {
   "cell_type": "code",
   "execution_count": null,
   "metadata": {},
   "outputs": [],
   "source": [
    "reauthenticate = ReauthenticateView.as_view()"
   ]
  },
  {
   "cell_type": "markdown",
   "metadata": {},
   "source": []
  },
  {
   "cell_type": "code",
   "execution_count": null,
   "metadata": {},
   "outputs": [],
   "source": [
    "@method_decorator(login_required, name=\"dispatch\")\n",
    "class IndexView(TemplateView):\n",
    "    template_name = \"mfa/index.\" + account_settings.TEMPLATE_EXTENSION\n",
    "\n",
    "    def get_context_data(self, **kwargs):\n",
    "        ret = super().get_context_data(**kwargs)\n",
    "        authenticators = {\n",
    "            auth.type: auth.wrap()\n",
    "            for auth in Authenticator.objects.filter(user=self.request.user)\n",
    "        }\n",
    "        ret[\"authenticators\"] = authenticators\n",
    "        ret[\"MFA_SUPPORTED_TYPES\"] = app_settings.SUPPORTED_TYPES\n",
    "        ret[\"is_mfa_enabled\"] = is_mfa_enabled(self.request.user)\n",
    "        return ret"
   ]
  },
  {
   "cell_type": "markdown",
   "metadata": {},
   "source": []
  },
  {
   "cell_type": "code",
   "execution_count": null,
   "metadata": {},
   "outputs": [],
   "source": [
    "index = IndexView.as_view()"
   ]
  },
  {
   "cell_type": "markdown",
   "metadata": {},
   "source": []
  },
  {
   "cell_type": "code",
   "execution_count": null,
   "metadata": {},
   "outputs": [],
   "source": [
    "@method_decorator(reauthentication_required, name=\"dispatch\")\n",
    "class ActivateTOTPView(FormView):\n",
    "    form_class = ActivateTOTPForm\n",
    "    template_name = \"mfa/totp/activate_form.\" + account_settings.TEMPLATE_EXTENSION\n",
    "\n",
    "    def dispatch(self, request, *args, **kwargs):\n",
    "        if is_mfa_enabled(request.user, [Authenticator.Type.TOTP]):\n",
    "            return HttpResponseRedirect(reverse(\"mfa_deactivate_totp\"))\n",
    "        return super().dispatch(request, *args, **kwargs)\n",
    "\n",
    "    def get_context_data(self, **kwargs):\n",
    "        ret = super().get_context_data(**kwargs)\n",
    "        adapter = get_adapter()\n",
    "        totp_url = totp.build_totp_url(\n",
    "            adapter.get_totp_label(self.request.user),\n",
    "            adapter.get_totp_issuer(),\n",
    "            ret[\"form\"].secret,\n",
    "        )\n",
    "        totp_svg = totp.build_totp_svg(totp_url)\n",
    "        base64_data = base64.b64encode(totp_svg.encode(\"utf8\")).decode(\"utf-8\")\n",
    "        totp_data_uri = f\"data:image/svg+xml;base64,{base64_data}\"\n",
    "        ret.update(\n",
    "            {\n",
    "                \"totp_svg\": totp_svg,\n",
    "                \"totp_svg_data_uri\": totp_data_uri,\n",
    "                \"totp_url\": totp_url,\n",
    "            }\n",
    "        )\n",
    "        return ret\n",
    "\n",
    "    def get_form_kwargs(self):\n",
    "        ret = super().get_form_kwargs()\n",
    "        ret[\"user\"] = self.request.user\n",
    "        return ret\n",
    "\n",
    "    def get_form_class(self):\n",
    "        return get_form_class(app_settings.FORMS, \"activate_totp\", self.form_class)\n",
    "\n",
    "    def get_success_url(self):\n",
    "        if Authenticator.Type.RECOVERY_CODES in app_settings.SUPPORTED_TYPES:\n",
    "            return reverse(\"mfa_view_recovery_codes\")\n",
    "        return reverse(\"mfa_index\")\n",
    "\n",
    "    def form_valid(self, form):\n",
    "        flows.totp.activate_totp(self.request, form)\n",
    "        return super().form_valid(form)"
   ]
  },
  {
   "cell_type": "markdown",
   "metadata": {},
   "source": []
  },
  {
   "cell_type": "code",
   "execution_count": null,
   "metadata": {},
   "outputs": [],
   "source": [
    "activate_totp = ActivateTOTPView.as_view()"
   ]
  },
  {
   "cell_type": "markdown",
   "metadata": {},
   "source": []
  },
  {
   "cell_type": "code",
   "execution_count": null,
   "metadata": {},
   "outputs": [],
   "source": [
    "@method_decorator(login_required, name=\"dispatch\")\n",
    "class DeactivateTOTPView(FormView):\n",
    "    form_class = DeactivateTOTPForm\n",
    "    template_name = \"mfa/totp/deactivate_form.\" + account_settings.TEMPLATE_EXTENSION\n",
    "    success_url = reverse_lazy(\"mfa_index\")\n",
    "\n",
    "    def dispatch(self, request, *args, **kwargs):\n",
    "        self.authenticator = get_object_or_404(\n",
    "            Authenticator,\n",
    "            user=self.request.user,\n",
    "            type=Authenticator.Type.TOTP,\n",
    "        )\n",
    "        if not is_mfa_enabled(request.user, [Authenticator.Type.TOTP]):\n",
    "            return HttpResponseRedirect(reverse(\"mfa_activate_totp\"))\n",
    "        return self._dispatch(request, *args, **kwargs)\n",
    "\n",
    "    @method_decorator(reauthentication_required)\n",
    "    def _dispatch(self, request, *args, **kwargs):\n",
    "        \"\"\"There's no point to reauthenticate when MFA is not enabled, so the\n",
    "        `is_mfa_enabled` chheck needs to go first, which is why we cannot slap a\n",
    "        `reauthentication_required` decorator on the `dispatch` directly.\n",
    "        \"\"\"\n",
    "        return super().dispatch(request, *args, **kwargs)\n",
    "\n",
    "    def get_form_kwargs(self):\n",
    "        ret = super().get_form_kwargs()\n",
    "        ret[\"authenticator\"] = self.authenticator\n",
    "        # The deactivation form does not require input, yet, can generate\n",
    "        # validation errors in case deactivation is not allowed. We want to\n",
    "        # immediately present such errors even before the user actually posts\n",
    "        # the form, which is why we put an empty data payload in here.\n",
    "        ret.setdefault(\"data\", {})\n",
    "        return ret\n",
    "\n",
    "    def get_form_class(self):\n",
    "        return get_form_class(app_settings.FORMS, \"deactivate_totp\", self.form_class)\n",
    "\n",
    "    def form_valid(self, form):\n",
    "        flows.totp.deactivate_totp(self.request, self.authenticator)\n",
    "        return super().form_valid(form)"
   ]
  },
  {
   "cell_type": "markdown",
   "metadata": {},
   "source": []
  },
  {
   "cell_type": "code",
   "execution_count": null,
   "metadata": {},
   "outputs": [],
   "source": [
    "deactivate_totp = DeactivateTOTPView.as_view()"
   ]
  },
  {
   "cell_type": "markdown",
   "metadata": {},
   "source": []
  },
  {
   "cell_type": "code",
   "execution_count": null,
   "metadata": {},
   "outputs": [],
   "source": [
    "@method_decorator(reauthentication_required, name=\"dispatch\")\n",
    "class GenerateRecoveryCodesView(FormView):\n",
    "    form_class = GenerateRecoveryCodesForm\n",
    "    template_name = \"mfa/recovery_codes/generate.\" + account_settings.TEMPLATE_EXTENSION\n",
    "    success_url = reverse_lazy(\"mfa_view_recovery_codes\")\n",
    "\n",
    "    def form_valid(self, form):\n",
    "        flows.recovery_codes.generate_recovery_codes(self.request)\n",
    "        return super().form_valid(form)\n",
    "\n",
    "    def get_context_data(self, **kwargs):\n",
    "        ret = super().get_context_data(**kwargs)\n",
    "        unused_codes = []\n",
    "        authenticator = Authenticator.objects.filter(\n",
    "            user=self.request.user, type=Authenticator.Type.RECOVERY_CODES\n",
    "        ).first()\n",
    "        if authenticator:\n",
    "            unused_codes = authenticator.wrap().get_unused_codes()\n",
    "        ret[\"unused_code_count\"] = len(unused_codes)\n",
    "        return ret\n",
    "\n",
    "    def get_form_kwargs(self):\n",
    "        ret = super().get_form_kwargs()\n",
    "        ret[\"user\"] = self.request.user\n",
    "        return ret"
   ]
  },
  {
   "cell_type": "markdown",
   "metadata": {},
   "source": []
  },
  {
   "cell_type": "code",
   "execution_count": null,
   "metadata": {},
   "outputs": [],
   "source": [
    "generate_recovery_codes = GenerateRecoveryCodesView.as_view()"
   ]
  },
  {
   "cell_type": "markdown",
   "metadata": {},
   "source": []
  },
  {
   "cell_type": "code",
   "execution_count": null,
   "metadata": {},
   "outputs": [],
   "source": [
    "class DownloadRecoveryCodesView(TemplateView):\n",
    "    template_name = \"mfa/recovery_codes/download.txt\"\n",
    "    content_type = \"text/plain\"\n",
    "\n",
    "    def dispatch(self, request, *args, **kwargs):\n",
    "        self.authenticator = flows.recovery_codes.view_recovery_codes(self.request)\n",
    "        if not self.authenticator:\n",
    "            raise Http404()\n",
    "        self.unused_codes = self.authenticator.wrap().get_unused_codes()\n",
    "        if not self.unused_codes:\n",
    "            return Http404()\n",
    "        return super().dispatch(request, *args, **kwargs)\n",
    "\n",
    "    def get_context_data(self, **kwargs):\n",
    "        ret = super().get_context_data(**kwargs)\n",
    "        ret[\"unused_codes\"] = self.unused_codes\n",
    "        return ret\n",
    "\n",
    "    def render_to_response(self, context, **response_kwargs):\n",
    "        response = super().render_to_response(context, **response_kwargs)\n",
    "        response[\"Content-Disposition\"] = 'attachment; filename=\"recovery-codes.txt\"'\n",
    "        return response"
   ]
  },
  {
   "cell_type": "markdown",
   "metadata": {},
   "source": []
  },
  {
   "cell_type": "code",
   "execution_count": null,
   "metadata": {},
   "outputs": [],
   "source": [
    "download_recovery_codes = DownloadRecoveryCodesView.as_view()"
   ]
  },
  {
   "cell_type": "markdown",
   "metadata": {},
   "source": []
  },
  {
   "cell_type": "code",
   "execution_count": null,
   "metadata": {},
   "outputs": [],
   "source": [
    "class ViewRecoveryCodesView(TemplateView):\n",
    "    template_name = \"mfa/recovery_codes/index.\" + account_settings.TEMPLATE_EXTENSION\n",
    "\n",
    "    def get_context_data(self, **kwargs):\n",
    "        ret = super().get_context_data(**kwargs)\n",
    "        authenticator = flows.recovery_codes.view_recovery_codes(self.request)\n",
    "        if not authenticator:\n",
    "            raise Http404()\n",
    "        ret.update(\n",
    "            {\n",
    "                \"unused_codes\": authenticator.wrap().get_unused_codes(),\n",
    "                \"total_count\": app_settings.RECOVERY_CODE_COUNT,\n",
    "            }\n",
    "        )\n",
    "        return ret"
   ]
  },
  {
   "cell_type": "markdown",
   "metadata": {},
   "source": []
  },
  {
   "cell_type": "code",
   "execution_count": null,
   "metadata": {},
   "outputs": [],
   "source": [
    "view_recovery_codes = ViewRecoveryCodesView.as_view()"
   ]
  },
  {
   "cell_type": "markdown",
   "metadata": {},
   "source": []
  }
 ],
 "metadata": {
  "language_info": {
   "name": "python"
  }
 },
 "nbformat": 4,
 "nbformat_minor": 2
}