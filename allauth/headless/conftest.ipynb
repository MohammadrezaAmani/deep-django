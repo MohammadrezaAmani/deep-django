{
 "cells": [
  {
   "cell_type": "code",
   "execution_count": null,
   "metadata": {},
   "outputs": [],
   "source": [
    "from django.test.client import Client\n",
    "from django.urls import reverse\n",
    "\n",
    "import pytest"
   ]
  },
  {
   "cell_type": "markdown",
   "metadata": {},
   "source": []
  },
  {
   "cell_type": "code",
   "execution_count": null,
   "metadata": {},
   "outputs": [],
   "source": [
    "@pytest.fixture(params=[\"app\", \"browser\"])\n",
    "def headless_client(request):\n",
    "    return request.param"
   ]
  },
  {
   "cell_type": "markdown",
   "metadata": {},
   "source": []
  },
  {
   "cell_type": "code",
   "execution_count": null,
   "metadata": {},
   "outputs": [],
   "source": [
    "@pytest.fixture\n",
    "def headless_reverse(headless_client):\n",
    "    def rev(viewname, **kwargs):\n",
    "        viewname = viewname.replace(\"headless:\", f\"headless:{headless_client}:\")\n",
    "        return reverse(viewname, **kwargs)\n",
    "\n",
    "    return rev"
   ]
  },
  {
   "cell_type": "markdown",
   "metadata": {},
   "source": []
  },
  {
   "cell_type": "code",
   "execution_count": null,
   "metadata": {},
   "outputs": [],
   "source": [
    "class AppClient(Client):\n",
    "    session_token = None\n",
    "\n",
    "    def generic(self, *args, **kwargs):\n",
    "        if self.session_token:\n",
    "            kwargs[\"HTTP_X_SESSION_TOKEN\"] = self.session_token\n",
    "        resp = super().generic(*args, **kwargs)\n",
    "        if resp[\"content-type\"] == \"application/json\":\n",
    "            data = resp.json()\n",
    "            session_token = data.get(\"meta\", {}).get(\"session_token\")\n",
    "            if session_token:\n",
    "                self.session_token = session_token\n",
    "        return resp\n",
    "\n",
    "    def force_login(self, user):\n",
    "        ret = super().force_login(user)\n",
    "        self.session_token = self.session.session_key\n",
    "        return ret"
   ]
  },
  {
   "cell_type": "markdown",
   "metadata": {},
   "source": []
  },
  {
   "cell_type": "code",
   "execution_count": null,
   "metadata": {},
   "outputs": [],
   "source": [
    "@pytest.fixture\n",
    "def app_client():\n",
    "    return AppClient()"
   ]
  },
  {
   "cell_type": "markdown",
   "metadata": {},
   "source": []
  },
  {
   "cell_type": "code",
   "execution_count": null,
   "metadata": {},
   "outputs": [],
   "source": [
    "@pytest.fixture\n",
    "def client(headless_client):\n",
    "    if headless_client == \"browser\":\n",
    "        return Client()\n",
    "    return AppClient()"
   ]
  },
  {
   "cell_type": "markdown",
   "metadata": {},
   "source": []
  },
  {
   "cell_type": "code",
   "execution_count": null,
   "metadata": {},
   "outputs": [],
   "source": [
    "@pytest.fixture\n",
    "def auth_client(client, user):\n",
    "    client.force_login(user)\n",
    "    return client"
   ]
  },
  {
   "cell_type": "markdown",
   "metadata": {},
   "source": []
  }
 ],
 "metadata": {
  "language_info": {
   "name": "python"
  }
 },
 "nbformat": 4,
 "nbformat_minor": 2
}