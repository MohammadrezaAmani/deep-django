{
    "cells": [
        {
            "cell_type": "code",
            "execution_count": null,
            "metadata": {},
            "outputs": [],
            "source": [
                "from django.urls import include, path\n",
                "\n",
                "from allauth import app_settings as allauth_settings\n",
                "from allauth.headless.account import urls as account_urls\n",
                "from allauth.headless.base import urls as base_urls\n",
                "from allauth.headless.constants import Client\n"
            ]
        },
        {
            "cell_type": "markdown",
            "metadata": {},
            "source": []
        },
        {
            "cell_type": "code",
            "execution_count": null,
            "metadata": {},
            "outputs": [],
            "source": [
                "def build_urlpatterns(client):\n",
                "    patterns = []\n",
                "    patterns.extend(base_urls.build_urlpatterns(client))\n",
                "    patterns.append(\n",
                "        path(\n",
                "            \"\",\n",
                "            include(\n",
                "                (account_urls.build_urlpatterns(client), \"headless\"),\n",
                "                namespace=\"account\",\n",
                "            ),\n",
                "        )\n",
                "    )\n",
                "    if allauth_settings.SOCIALACCOUNT_ENABLED:\n",
                "        from allauth.headless.socialaccount import urls as socialaccount_urls\n",
                "\n",
                "        patterns.append(\n",
                "            path(\n",
                "                \"\",\n",
                "                include(\n",
                "                    (socialaccount_urls.build_urlpatterns(client), \"headless\"),\n",
                "                    namespace=\"socialaccount\",\n",
                "                ),\n",
                "            )\n",
                "        )\n",
                "\n",
                "    if allauth_settings.MFA_ENABLED:\n",
                "        from allauth.headless.mfa import urls as mfa_urls\n",
                "\n",
                "        patterns.append(\n",
                "            path(\n",
                "                \"\",\n",
                "                include(\n",
                "                    (mfa_urls.build_urlpatterns(client), \"headless\"),\n",
                "                    namespace=\"mfa\",\n",
                "                ),\n",
                "            )\n",
                "        )\n",
                "\n",
                "    if allauth_settings.USERSESSIONS_ENABLED:\n",
                "        from allauth.headless.usersessions import urls as usersessions_urls\n",
                "\n",
                "        patterns.append(\n",
                "            path(\n",
                "                \"\",\n",
                "                include(\n",
                "                    (usersessions_urls.build_urlpatterns(client), \"headless\"),\n",
                "                    namespace=\"usersessions\",\n",
                "                ),\n",
                "            )\n",
                "        )\n",
                "\n",
                "    return [path(\"v1/\", include(patterns))]\n"
            ]
        },
        {
            "cell_type": "markdown",
            "metadata": {},
            "source": []
        },
        {
            "cell_type": "code",
            "execution_count": null,
            "metadata": {},
            "outputs": [],
            "source": [
                "app_name = \"headless\"\n",
                "urlpatterns = [\n",
                "    path(\n",
                "        \"browser/\",\n",
                "        include(\n",
                "            (build_urlpatterns(Client.BROWSER), \"headless\"),\n",
                "            namespace=\"browser\",\n",
                "        ),\n",
                "    ),\n",
                "    path(\n",
                "        \"app/\",\n",
                "        include((build_urlpatterns(Client.APP), \"headless\"), namespace=\"app\"),\n",
                "    ),\n",
                "]\n",
                "\n"
            ]
        },
        {
            "cell_type": "markdown",
            "metadata": {},
            "source": []
        }
    ],
    "metadata": {
        "language_info": {
            "name": "python"
        }
    },
    "nbformat": 4,
    "nbformat_minor": 2
}