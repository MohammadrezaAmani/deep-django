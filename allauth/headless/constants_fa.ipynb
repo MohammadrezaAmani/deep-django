{
    "cells": [
        {
            "cell_type": "code",
            "execution_count": null,
            "metadata": {},
            "outputs": [],
            "source": [
                "from enum import Enum\n",
                "\n",
                "from allauth import app_settings as allauth_settings\n",
                "from allauth.account.stages import EmailVerificationStage\n"
            ]
        },
        {
            "cell_type": "markdown",
            "metadata": {},
            "source": []
        },
        {
            "cell_type": "code",
            "execution_count": null,
            "metadata": {},
            "outputs": [],
            "source": [
                "class Client(str, Enum):\n",
                "    APP = \"app\"\n",
                "    BROWSER = \"browser\"\n"
            ]
        },
        {
            "cell_type": "markdown",
            "metadata": {},
            "source": []
        },
        {
            "cell_type": "code",
            "execution_count": null,
            "metadata": {},
            "outputs": [],
            "source": [
                "class Flow(str, Enum):\n",
                "    VERIFY_EMAIL = EmailVerificationStage.key\n",
                "    LOGIN = \"login\"\n",
                "    LOGIN_BY_CODE = \"login_by_code\"\n",
                "    SIGNUP = \"signup\"\n",
                "    PROVIDER_REDIRECT = \"provider_redirect\"\n",
                "    PROVIDER_SIGNUP = \"provider_signup\"\n",
                "    PROVIDER_TOKEN = \"provider_token\"\n",
                "    REAUTHENTICATE = \"reauthenticate\"\n",
                "    MFA_REAUTHENTICATE = \"mfa_reauthenticate\"\n",
                "    if allauth_settings.MFA_ENABLED:\n",
                "        from allauth.mfa.stages import AuthenticateStage\n",
                "\n",
                "        MFA_AUTHENTICATE = AuthenticateStage.key\n",
                "\n"
            ]
        },
        {
            "cell_type": "markdown",
            "metadata": {},
            "source": []
        }
    ],
    "metadata": {
        "language_info": {
            "name": "python"
        }
    },
    "nbformat": 4,
    "nbformat_minor": 2
}