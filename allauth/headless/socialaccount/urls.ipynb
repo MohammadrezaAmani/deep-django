{
 "cells": [
  {
   "cell_type": "code",
   "execution_count": null,
   "metadata": {},
   "outputs": [],
   "source": [
    "from django.urls import include, path\n",
    "\n",
    "from allauth.headless.socialaccount import views"
   ]
  },
  {
   "cell_type": "markdown",
   "metadata": {},
   "source": []
  },
  {
   "cell_type": "code",
   "execution_count": null,
   "metadata": {},
   "outputs": [],
   "source": [
    "def build_urlpatterns(client):\n",
    "    return [\n",
    "        path(\n",
    "            \"account/\",\n",
    "            include(\n",
    "                [\n",
    "                    path(\n",
    "                        \"providers\",\n",
    "                        views.ManageProvidersView.as_api_view(client=client),\n",
    "                        name=\"manage_providers\",\n",
    "                    ),\n",
    "                ]\n",
    "            ),\n",
    "        ),\n",
    "        path(\n",
    "            \"auth/\",\n",
    "            include(\n",
    "                [\n",
    "                    path(\n",
    "                        \"provider/\",\n",
    "                        include(\n",
    "                            [\n",
    "                                path(\n",
    "                                    \"signup\",\n",
    "                                    views.ProviderSignupView.as_api_view(client=client),\n",
    "                                    name=\"provider_signup\",\n",
    "                                ),\n",
    "                                path(\n",
    "                                    \"redirect\",\n",
    "                                    views.RedirectToProviderView.as_api_view(\n",
    "                                        client=client\n",
    "                                    ),\n",
    "                                    name=\"redirect_to_provider\",\n",
    "                                ),\n",
    "                                path(\n",
    "                                    \"token\",\n",
    "                                    views.ProviderTokenView.as_api_view(client=client),\n",
    "                                    name=\"provider_token\",\n",
    "                                ),\n",
    "                            ]\n",
    "                        ),\n",
    "                    )\n",
    "                ]\n",
    "            ),\n",
    "        ),\n",
    "    ]"
   ]
  },
  {
   "cell_type": "markdown",
   "metadata": {},
   "source": []
  }
 ],
 "metadata": {
  "language_info": {
   "name": "python"
  }
 },
 "nbformat": 4,
 "nbformat_minor": 2
}