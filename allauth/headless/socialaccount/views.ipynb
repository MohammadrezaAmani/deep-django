{
    "cells": [
        {
            "cell_type": "code",
            "execution_count": null,
            "metadata": {},
            "outputs": [],
            "source": [
                "from django.core.exceptions import ValidationError\n",
                "\n",
                "from allauth.headless.base.response import AuthenticationResponse\n",
                "from allauth.headless.base.views import APIView, AuthenticatedAPIView\n",
                "from allauth.headless.socialaccount.forms import RedirectToProviderForm\n",
                "from allauth.headless.socialaccount.inputs import (\n",
                "    DeleteProviderAccountInput,\n",
                "    ProviderTokenInput,\n",
                "    SignupInput,\n",
                ")\n",
                "from allauth.headless.socialaccount.internal import complete_login\n",
                "from allauth.headless.socialaccount.response import SocialAccountsResponse\n",
                "from allauth.socialaccount.helpers import render_authentication_error\n",
                "from allauth.socialaccount.internal import flows\n",
                "from allauth.socialaccount.models import SocialAccount\n"
            ]
        },
        {
            "cell_type": "markdown",
            "metadata": {},
            "source": []
        },
        {
            "cell_type": "code",
            "execution_count": null,
            "metadata": {},
            "outputs": [],
            "source": [
                "class ProviderSignupView(APIView):\n",
                "    input_class = SignupInput\n",
                "\n",
                "    def post(self, request, *args, **kwargs):\n",
                "        flows.signup.signup_by_form(self.request, self.sociallogin, self.input)\n",
                "        return AuthenticationResponse(request)\n",
                "\n",
                "    def get_input_kwargs(self):\n",
                "        self.sociallogin = flows.signup.get_pending_signup(self.request)\n",
                "        return {\"sociallogin\": self.sociallogin}\n"
            ]
        },
        {
            "cell_type": "markdown",
            "metadata": {},
            "source": []
        },
        {
            "cell_type": "code",
            "execution_count": null,
            "metadata": {},
            "outputs": [],
            "source": [
                "class RedirectToProviderView(APIView):\n",
                "    handle_json_input = False\n",
                "\n",
                "    def post(self, request, *args, **kwargs):\n",
                "        form = RedirectToProviderForm(request.POST)\n",
                "        if not form.is_valid():\n",
                "            return render_authentication_error(\n",
                "                request,\n",
                "                provider=request.POST.get(\"provider\"),\n",
                "                exception=ValidationError(form.errors),\n",
                "            )\n",
                "        provider = form.cleaned_data[\"provider\"]\n",
                "        next_url = form.cleaned_data[\"callback_url\"]\n",
                "        process = form.cleaned_data[\"process\"]\n",
                "        return provider.redirect(\n",
                "            request,\n",
                "            process,\n",
                "            next_url=next_url,\n",
                "            headless=True,\n",
                "        )\n"
            ]
        },
        {
            "cell_type": "markdown",
            "metadata": {},
            "source": []
        },
        {
            "cell_type": "code",
            "execution_count": null,
            "metadata": {},
            "outputs": [],
            "source": [
                "class ManageProvidersView(AuthenticatedAPIView):\n",
                "    input_class = {\n",
                "        \"DELETE\": DeleteProviderAccountInput,\n",
                "    }\n",
                "\n",
                "    def get(self, request, *args, **kwargs):\n",
                "        return self.respond_provider_accounts(request)\n",
                "\n",
                "    @classmethod\n",
                "    def respond_provider_accounts(self, request):\n",
                "        accounts = SocialAccount.objects.filter(user=request.user)\n",
                "        return SocialAccountsResponse(request, accounts)\n",
                "\n",
                "    def delete(self, request, *args, **kwargs):\n",
                "        flows.connect.disconnect(request, self.input.cleaned_data[\"account\"])\n",
                "        return self.respond_provider_accounts(request)\n",
                "\n",
                "    def get_input_kwargs(self):\n",
                "        return {\"user\": self.request.user}\n"
            ]
        },
        {
            "cell_type": "markdown",
            "metadata": {},
            "source": []
        },
        {
            "cell_type": "code",
            "execution_count": null,
            "metadata": {},
            "outputs": [],
            "source": [
                "class ProviderTokenView(APIView):\n",
                "    input_class = ProviderTokenInput\n",
                "\n",
                "    def post(self, request, *args, **kwargs):\n",
                "        sociallogin = self.input.cleaned_data[\"sociallogin\"]\n",
                "        complete_login(request, sociallogin)\n",
                "        return AuthenticationResponse(self.request)\n",
                "\n"
            ]
        },
        {
            "cell_type": "markdown",
            "metadata": {},
            "source": []
        }
    ],
    "metadata": {
        "language_info": {
            "name": "python"
        }
    },
    "nbformat": 4,
    "nbformat_minor": 2
}