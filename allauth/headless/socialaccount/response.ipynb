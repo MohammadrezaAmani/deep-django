{
    "cells": [
        {
            "cell_type": "code",
            "execution_count": null,
            "metadata": {},
            "outputs": [],
            "source": [
                "from allauth.headless.base.response import APIResponse\n",
                "from allauth.headless.constants import Client, Flow\n",
                "from allauth.socialaccount.adapter import (\n",
                "    get_adapter as get_socialaccount_adapter,\n",
                ")\n",
                "from allauth.socialaccount.internal.flows import signup\n",
                "from allauth.socialaccount.providers.oauth2.provider import OAuth2Provider\n"
            ]
        },
        {
            "cell_type": "markdown",
            "metadata": {},
            "source": []
        },
        {
            "cell_type": "code",
            "execution_count": null,
            "metadata": {},
            "outputs": [],
            "source": [
                "def _provider_data(request, provider):\n",
                "    ret = {\"id\": provider.sub_id, \"name\": provider.name, \"flows\": []}\n",
                "    if provider.supports_redirect:\n",
                "        ret[\"flows\"].append(Flow.PROVIDER_REDIRECT)\n",
                "    if provider.supports_token_authentication:\n",
                "        ret[\"flows\"].append(Flow.PROVIDER_TOKEN)\n",
                "    if isinstance(provider, OAuth2Provider):\n",
                "        ret[\"client_id\"] = provider.app.client_id\n",
                "\n",
                "    return ret\n"
            ]
        },
        {
            "cell_type": "markdown",
            "metadata": {},
            "source": []
        },
        {
            "cell_type": "code",
            "execution_count": null,
            "metadata": {},
            "outputs": [],
            "source": [
                "def provider_flows(request):\n",
                "    flows = []\n",
                "    providers = _list_supported_providers(request)\n",
                "    if providers:\n",
                "        redirect_providers = [p.id for p in providers if p.supports_redirect]\n",
                "        token_providers = [p.id for p in providers if p.supports_token_authentication]\n",
                "        if redirect_providers:\n",
                "            flows.append(\n",
                "                {\n",
                "                    \"id\": Flow.PROVIDER_REDIRECT,\n",
                "                    \"providers\": redirect_providers,\n",
                "                }\n",
                "            )\n",
                "        if token_providers:\n",
                "            flows.append(\n",
                "                {\n",
                "                    \"id\": Flow.PROVIDER_TOKEN,\n",
                "                    \"providers\": token_providers,\n",
                "                }\n",
                "            )\n",
                "        sociallogin = signup.get_pending_signup(request)\n",
                "        if sociallogin:\n",
                "            flows.append(_signup_flow(request, sociallogin))\n",
                "    return flows\n"
            ]
        },
        {
            "cell_type": "markdown",
            "metadata": {},
            "source": []
        },
        {
            "cell_type": "code",
            "execution_count": null,
            "metadata": {},
            "outputs": [],
            "source": [
                "def _signup_flow(request, sociallogin):\n",
                "    provider = sociallogin.account.get_provider()\n",
                "    flow = {\n",
                "        \"id\": Flow.PROVIDER_SIGNUP,\n",
                "        \"provider\": _provider_data(request, provider),\n",
                "        \"is_pending\": True,\n",
                "    }\n",
                "    return flow\n"
            ]
        },
        {
            "cell_type": "markdown",
            "metadata": {},
            "source": []
        },
        {
            "cell_type": "code",
            "execution_count": null,
            "metadata": {},
            "outputs": [],
            "source": [
                "def _is_provider_supported(provider, client):\n",
                "    if client == Client.APP:\n",
                "        return provider.supports_token_authentication\n",
                "    elif client == Client.BROWSER:\n",
                "        return provider.supports_redirect\n",
                "    return False\n"
            ]
        },
        {
            "cell_type": "markdown",
            "metadata": {},
            "source": []
        },
        {
            "cell_type": "code",
            "execution_count": null,
            "metadata": {},
            "outputs": [],
            "source": [
                "def _list_supported_providers(request):\n",
                "    adapter = get_socialaccount_adapter()\n",
                "    providers = adapter.list_providers(request)\n",
                "    providers = [\n",
                "        p\n",
                "        for p in providers\n",
                "        if _is_provider_supported(p, request.allauth.headless.client)\n",
                "    ]\n",
                "    return providers\n"
            ]
        },
        {
            "cell_type": "markdown",
            "metadata": {},
            "source": []
        },
        {
            "cell_type": "code",
            "execution_count": null,
            "metadata": {},
            "outputs": [],
            "source": [
                "def get_config_data(request):\n",
                "    entries = []\n",
                "    data = {\"socialaccount\": {\"providers\": entries}}\n",
                "    providers = _list_supported_providers(request)\n",
                "    providers = sorted(providers, key=lambda p: p.name)\n",
                "    for provider in providers:\n",
                "        entries.append(_provider_data(request, provider))\n",
                "    return data\n"
            ]
        },
        {
            "cell_type": "markdown",
            "metadata": {},
            "source": []
        },
        {
            "cell_type": "code",
            "execution_count": null,
            "metadata": {},
            "outputs": [],
            "source": [
                "class SocialAccountsResponse(APIResponse):\n",
                "    def __init__(self, request, accounts):\n",
                "        data = [\n",
                "            {\n",
                "                \"uid\": account.uid,\n",
                "                \"provider\": _provider_data(request, account.get_provider()),\n",
                "                \"display\": account.get_provider_account().to_str(),\n",
                "            }\n",
                "            for account in accounts\n",
                "        ]\n",
                "        super().__init__(request, data=data)\n",
                "\n"
            ]
        },
        {
            "cell_type": "markdown",
            "metadata": {},
            "source": []
        }
    ],
    "metadata": {
        "language_info": {
            "name": "python"
        }
    },
    "nbformat": 4,
    "nbformat_minor": 2
}