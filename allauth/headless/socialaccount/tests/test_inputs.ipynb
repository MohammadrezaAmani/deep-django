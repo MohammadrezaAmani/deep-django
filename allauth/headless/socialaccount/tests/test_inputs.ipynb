{
    "cells": [
        {
            "cell_type": "code",
            "execution_count": null,
            "metadata": {},
            "outputs": [],
            "source": [
                "import pytest\n",
                "\n",
                "from allauth.headless.socialaccount.inputs import ProviderTokenInput\n"
            ]
        },
        {
            "cell_type": "markdown",
            "metadata": {},
            "source": []
        },
        {
            "cell_type": "code",
            "execution_count": null,
            "metadata": {},
            "outputs": [],
            "source": [
                "@pytest.mark.parametrize(\"client_id\", [\"client1\", \"client2\"])\n",
                "def test_provider_token_multiple_apps(settings, db, client_id):\n",
                "    gsettings = {\n",
                "        \"APPS\": [\n",
                "            {\"client_id\": \"client1\", \"secret\": \"secret\"},\n",
                "            {\"client_id\": \"client2\", \"secret\": \"secret\"},\n",
                "        ]\n",
                "    }\n",
                "    settings.SOCIALACCOUNT_PROVIDERS = {\"google\": gsettings}\n",
                "\n",
                "    inp = ProviderTokenInput(\n",
                "        {\n",
                "            \"provider\": \"google\",\n",
                "            \"process\": \"login\",\n",
                "            \"token\": {\"client_id\": client_id, \"id_token\": \"it\", \"access_token\": \"at\"},\n",
                "        }\n",
                "    )\n",
                "    assert not inp.is_valid()\n",
                "    assert inp.cleaned_data[\"provider\"].app.client_id == client_id\n",
                "    assert inp.errors == {\"token\": [\"Invalid token.\"]}\n"
            ]
        },
        {
            "cell_type": "markdown",
            "metadata": {},
            "source": []
        },
        {
            "cell_type": "code",
            "execution_count": null,
            "metadata": {},
            "outputs": [],
            "source": [
                "def test_provider_token_client_id_required(settings, db):\n",
                "    inp = ProviderTokenInput(\n",
                "        {\n",
                "            \"provider\": \"google\",\n",
                "            \"process\": \"login\",\n",
                "            \"token\": {\"id_token\": \"it\", \"access_token\": \"at\"},\n",
                "        }\n",
                "    )\n",
                "    assert not inp.is_valid()\n",
                "    assert inp.errors == {\"token\": [\"`client_id` required.\"]}\n",
                "\n"
            ]
        },
        {
            "cell_type": "markdown",
            "metadata": {},
            "source": []
        }
    ],
    "metadata": {
        "language_info": {
            "name": "python"
        }
    },
    "nbformat": 4,
    "nbformat_minor": 2
}