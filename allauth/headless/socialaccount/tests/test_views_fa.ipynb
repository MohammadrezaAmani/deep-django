{
    "cells": [
        {
            "cell_type": "code",
            "execution_count": null,
            "metadata": {},
            "outputs": [],
            "source": [
                "from pytest_django.asserts import assertTemplateUsed\n",
                "\n",
                "from allauth.socialaccount.models import SocialAccount\n",
                "from allauth.socialaccount.providers.base.constants import AuthProcess\n",
                "from django.urls import reverse\n"
            ]
        },
        {
            "cell_type": "markdown",
            "metadata": {},
            "source": []
        },
        {
            "cell_type": "code",
            "execution_count": null,
            "metadata": {},
            "outputs": [],
            "source": [
                "def test_bad_redirect(client, headless_reverse, db, settings):\n",
                "    settings.HEADLESS_ONLY = False\n",
                "    resp = client.post(\n",
                "        headless_reverse(\"headless:socialaccount:redirect_to_provider\"),\n",
                "        data={\n",
                "            \"provider\": \"dummy\",\n",
                "            \"callback_url\": \"https://unsafe.org/hack\",\n",
                "            \"process\": AuthProcess.LOGIN,\n",
                "        },\n",
                "    )\n",
                "    assertTemplateUsed(resp, \"socialaccount/authentication_error.html\")\n"
            ]
        },
        {
            "cell_type": "markdown",
            "metadata": {},
            "source": []
        },
        {
            "cell_type": "code",
            "execution_count": null,
            "metadata": {},
            "outputs": [],
            "source": [
                "def test_valid_redirect(client, headless_reverse, db):\n",
                "    resp = client.post(\n",
                "        headless_reverse(\"headless:socialaccount:redirect_to_provider\"),\n",
                "        data={\n",
                "            \"provider\": \"dummy\",\n",
                "            \"callback_url\": \"/\",\n",
                "            \"process\": AuthProcess.LOGIN,\n",
                "        },\n",
                "    )\n",
                "    assert resp.status_code == 302\n"
            ]
        },
        {
            "cell_type": "markdown",
            "metadata": {},
            "source": []
        },
        {
            "cell_type": "code",
            "execution_count": null,
            "metadata": {},
            "outputs": [],
            "source": [
                "def test_manage_providers(auth_client, user, headless_reverse, provider_id):\n",
                "    account_to_del = SocialAccount.objects.create(\n",
                "        user=user, provider=provider_id, uid=\"p123\"\n",
                "    )\n",
                "    account_to_keep = SocialAccount.objects.create(\n",
                "        user=user, provider=provider_id, uid=\"p456\"\n",
                "    )\n",
                "    resp = auth_client.get(\n",
                "        headless_reverse(\"headless:socialaccount:manage_providers\"),\n",
                "    )\n",
                "    data = resp.json()\n",
                "    assert data[\"status\"] == 200\n",
                "    assert len(data[\"data\"]) == 2\n",
                "    resp = auth_client.delete(\n",
                "        headless_reverse(\"headless:socialaccount:manage_providers\"),\n",
                "        data={\"provider\": account_to_del.provider, \"account\": account_to_del.uid},\n",
                "        content_type=\"application/json\",\n",
                "    )\n",
                "    assert resp.status_code == 200\n",
                "    assert resp.json() == {\n",
                "        \"status\": 200,\n",
                "        \"data\": [\n",
                "            {\n",
                "                \"display\": \"Unittest Server\",\n",
                "                \"provider\": {\n",
                "                    \"client_id\": \"Unittest client_id\",\n",
                "                    \"flows\": [\"provider_redirect\"],\n",
                "                    \"id\": provider_id,\n",
                "                    \"name\": \"Unittest Server\",\n",
                "                },\n",
                "                \"uid\": \"p456\",\n",
                "            }\n",
                "        ],\n",
                "    }\n",
                "    assert not SocialAccount.objects.filter(pk=account_to_del.pk).exists()\n",
                "    assert SocialAccount.objects.filter(pk=account_to_keep.pk).exists()\n"
            ]
        },
        {
            "cell_type": "markdown",
            "metadata": {},
            "source": []
        },
        {
            "cell_type": "code",
            "execution_count": null,
            "metadata": {},
            "outputs": [],
            "source": [
                "def test_disconnect_bad_request(auth_client, user, headless_reverse, provider_id):\n",
                "    resp = auth_client.delete(\n",
                "        headless_reverse(\"headless:socialaccount:manage_providers\"),\n",
                "        data={\"provider\": provider_id, \"account\": \"unknown\"},\n",
                "        content_type=\"application/json\",\n",
                "    )\n",
                "    assert resp.status_code == 400\n",
                "    assert resp.json() == {\n",
                "        \"status\": 400,\n",
                "        \"errors\": [{\"code\": \"account_not_found\", \"message\": \"Unknown account.\"}],\n",
                "    }\n"
            ]
        },
        {
            "cell_type": "markdown",
            "metadata": {},
            "source": []
        },
        {
            "cell_type": "code",
            "execution_count": null,
            "metadata": {},
            "outputs": [],
            "source": [
                "def test_invalid_token(client, headless_reverse, db, google_provider_settings):\n",
                "    resp = client.post(\n",
                "        headless_reverse(\"headless:socialaccount:provider_token\"),\n",
                "        data={\n",
                "            \"provider\": \"google\",\n",
                "            \"token\": {\n",
                "                \"id_token\": \"dummy\",\n",
                "                \"client_id\": google_provider_settings[\"APPS\"][0][\"client_id\"],\n",
                "            },\n",
                "            \"process\": AuthProcess.LOGIN,\n",
                "        },\n",
                "        content_type=\"application/json\",\n",
                "    )\n",
                "    assert resp.status_code == 400\n",
                "    data = resp.json()\n",
                "    assert data == {\n",
                "        \"status\": 400,\n",
                "        \"errors\": [\n",
                "            {\"message\": \"Invalid token.\", \"code\": \"invalid_token\", \"param\": \"token\"}\n",
                "        ],\n",
                "    }\n"
            ]
        },
        {
            "cell_type": "markdown",
            "metadata": {},
            "source": []
        },
        {
            "cell_type": "code",
            "execution_count": null,
            "metadata": {},
            "outputs": [],
            "source": [
                "def test_auth_error_no_headless_request(client, db, google_provider_settings, settings):\n",
                "    \"\"\"Authentication errors use the regular \"Third-Party Login Failure\"\n",
                "    template if headless is not used.\n",
                "    \"\"\"\n",
                "    settings.HEADLESS_ONLY = False\n",
                "    resp = client.get(reverse(\"google_callback\"))\n",
                "    assertTemplateUsed(resp, \"socialaccount/authentication_error.html\")\n"
            ]
        },
        {
            "cell_type": "markdown",
            "metadata": {},
            "source": []
        },
        {
            "cell_type": "code",
            "execution_count": null,
            "metadata": {},
            "outputs": [],
            "source": [
                "def test_auth_error_headless_request(\n",
                "    client, db, google_provider_settings, sociallogin_setup_state\n",
                "):\n",
                "    \"\"\"Authentication errors redirect to the next URL with ?error params for\n",
                "    headless requests.\n",
                "    \"\"\"\n",
                "    state = sociallogin_setup_state(client, headless=True, next=\"/foo\")\n",
                "    resp = client.get(reverse(\"google_callback\") + f\"?state={state}\")\n",
                "    assert resp[\"location\"] == \"/foo?error=unknown&error_process=login\"\n"
            ]
        },
        {
            "cell_type": "markdown",
            "metadata": {},
            "source": []
        },
        {
            "cell_type": "code",
            "execution_count": null,
            "metadata": {},
            "outputs": [],
            "source": [
                "def test_auth_error_no_headless_state_request_headless_only(\n",
                "    settings, client, db, google_provider_settings\n",
                "):\n",
                "    \"\"\"Authentication errors redirect to a fallback error URL for headless-only,\n",
                "    in case no next can be recovered from the state.\n",
                "    \"\"\"\n",
                "    settings.HEADLESS_ONLY = True\n",
                "    settings.HEADLESS_FRONTEND_URLS = {\"socialaccount_login_error\": \"/3rdparty/failure\"}\n",
                "    resp = client.get(reverse(\"google_callback\"))\n",
                "    assert (\n",
                "        resp[\"location\"]\n",
                "        == \"http://testserver/3rdparty/failure?error=unknown&error_process=login\"\n",
                "    )\n"
            ]
        },
        {
            "cell_type": "markdown",
            "metadata": {},
            "source": []
        },
        {
            "cell_type": "code",
            "execution_count": null,
            "metadata": {},
            "outputs": [],
            "source": [
                "def test_auth_error_headless_state_request_headless_only(\n",
                "    settings, client, db, google_provider_settings, sociallogin_setup_state\n",
                "):\n",
                "    \"\"\"Authentication errors redirect to a fallback error URL for headless-only,\n",
                "    in case no next can be recovered from the state.\n",
                "    \"\"\"\n",
                "    state = sociallogin_setup_state(client, headless=True, next=\"/foo\")\n",
                "    settings.HEADLESS_ONLY = True\n",
                "    settings.HEADLESS_FRONTEND_URLS = {\"socialaccount_login_error\": \"/3rdparty/failure\"}\n",
                "    resp = client.get(reverse(\"google_callback\") + f\"?state={state}\")\n",
                "    assert resp[\"location\"] == \"/foo?error=unknown&error_process=login\"\n",
                "\n"
            ]
        },
        {
            "cell_type": "markdown",
            "metadata": {},
            "source": []
        }
    ],
    "metadata": {
        "language_info": {
            "name": "python"
        }
    },
    "nbformat": 4,
    "nbformat_minor": 2
}