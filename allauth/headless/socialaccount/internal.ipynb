{
    "cells": [
        {
            "cell_type": "code",
            "execution_count": null,
            "metadata": {},
            "outputs": [],
            "source": [
                "from django.http import HttpResponseRedirect\n",
                "\n",
                "from allauth import app_settings as allauth_settings\n",
                "from allauth.core.exceptions import ImmediateHttpResponse\n",
                "from allauth.core.internal import httpkit\n",
                "from allauth.headless.internal.authkit import AuthenticationStatus\n",
                "from allauth.socialaccount.internal import flows, statekit\n",
                "from allauth.socialaccount.providers.base.constants import (\n",
                "    AuthError,\n",
                "    AuthProcess,\n",
                ")\n"
            ]
        },
        {
            "cell_type": "markdown",
            "metadata": {},
            "source": []
        },
        {
            "cell_type": "code",
            "execution_count": null,
            "metadata": {},
            "outputs": [],
            "source": [
                "def on_authentication_error(\n",
                "    request,\n",
                "    provider,\n",
                "    error=None,\n",
                "    exception=None,\n",
                "    extra_context=None,\n",
                "    state_id=None,\n",
                "):\n",
                "    \"\"\"\n",
                "    Called at a time when it is not clear whether or not this is a headless flow.\n",
                "    \"\"\"\n",
                "    state = None\n",
                "    if extra_context:\n",
                "        state = extra_context.get(\"state\")\n",
                "        if state is None:\n",
                "            state_id = extra_context.get(\"state_id\")\n",
                "            if state_id:\n",
                "                state = statekit.unstash_state(request, state_id)\n",
                "    params = {\"error\": error}\n",
                "    if state is not None:\n",
                "        headless = state.get(\"headless\")\n",
                "        next_url = state.get(\"next\")\n",
                "        params[\"error_process\"] = state[\"process\"]\n",
                "    else:\n",
                "        headless = allauth_settings.HEADLESS_ONLY\n",
                "        next_url = None\n",
                "        params[\"error_process\"] = AuthProcess.LOGIN\n",
                "    if not headless:\n",
                "        return\n",
                "    if not next_url:\n",
                "        next_url = httpkit.get_frontend_url(request, \"socialaccount_login_error\") or \"/\"\n",
                "    next_url = httpkit.add_query_params(next_url, params)\n",
                "    raise ImmediateHttpResponse(HttpResponseRedirect(next_url))\n"
            ]
        },
        {
            "cell_type": "markdown",
            "metadata": {},
            "source": []
        },
        {
            "cell_type": "code",
            "execution_count": null,
            "metadata": {},
            "outputs": [],
            "source": [
                "def complete_login(request, sociallogin):\n",
                "    \"\"\"\n",
                "    Called when `sociallogin.is_headless`.\n",
                "    \"\"\"\n",
                "    flows.login.complete_login(request, sociallogin)\n",
                "    # At this stage, we're either:\n",
                "    # 1) logged in (or in of the login pipeline stages, such as email verification)\n",
                "    # 2) auto signed up -- a pipeline stage, so see 1)\n",
                "    # 3) performing a social signup\n",
                "    # 4) Stopped, due to not being open-for-signup\n",
                "    # It would be good to refactor the above into a more generic social login\n",
                "    # pipeline with clear stages, but for now the /auth endpoint properly responds\n",
                "    # for cases 1-3.\n",
                "    next_url = sociallogin.state.get(\"next\")\n",
                "    status = AuthenticationStatus(request)\n",
                "    if all(\n",
                "        [\n",
                "            not status.is_authenticated,\n",
                "            not status.has_pending_signup,\n",
                "            not status.get_pending_stage(),\n",
                "        ]\n",
                "    ):\n",
                "        next_url = httpkit.add_query_params(\n",
                "            next_url,\n",
                "            {\"error\": AuthError.UNKNOWN, \"error_process\": sociallogin.state[\"process\"]},\n",
                "        )\n",
                "    return HttpResponseRedirect(next_url)\n",
                "\n"
            ]
        },
        {
            "cell_type": "markdown",
            "metadata": {},
            "source": []
        }
    ],
    "metadata": {
        "language_info": {
            "name": "python"
        }
    },
    "nbformat": 4,
    "nbformat_minor": 2
}