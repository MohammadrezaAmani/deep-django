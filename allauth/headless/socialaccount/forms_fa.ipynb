{
 "cells": [
  {
   "cell_type": "code",
   "execution_count": null,
   "metadata": {},
   "outputs": [],
   "source": [
    "from allauth.account.adapter import get_adapter as get_account_adapter\n",
    "from allauth.core import context\n",
    "from allauth.headless.adapter import get_adapter\n",
    "from allauth.socialaccount.adapter import get_adapter as get_socialaccount_adapter\n",
    "from allauth.socialaccount.providers.base.constants import AuthProcess\n",
    "from django import forms"
   ]
  },
  {
   "cell_type": "markdown",
   "metadata": {},
   "source": []
  },
  {
   "cell_type": "code",
   "execution_count": null,
   "metadata": {},
   "outputs": [],
   "source": [
    "class RedirectToProviderForm(forms.Form):\n",
    "    provider = forms.CharField()\n",
    "    callback_url = forms.CharField()\n",
    "    process = forms.ChoiceField(\n",
    "        choices=[\n",
    "            (AuthProcess.LOGIN, AuthProcess.LOGIN),\n",
    "            (AuthProcess.CONNECT, AuthProcess.CONNECT),\n",
    "        ]\n",
    "    )\n",
    "\n",
    "    def clean_callback_url(self):\n",
    "        url = self.cleaned_data[\"callback_url\"]\n",
    "        if not get_account_adapter().is_safe_url(url):\n",
    "            raise get_adapter().validation_error(\"invalid_url\")\n",
    "        return url\n",
    "\n",
    "    def clean_provider(self):\n",
    "        provider_id = self.cleaned_data[\"provider\"]\n",
    "        provider = get_socialaccount_adapter().get_provider(\n",
    "            context.request, provider_id\n",
    "        )\n",
    "        return provider"
   ]
  },
  {
   "cell_type": "markdown",
   "metadata": {},
   "source": []
  }
 ],
 "metadata": {
  "language_info": {
   "name": "python"
  }
 },
 "nbformat": 4,
 "nbformat_minor": 2
}