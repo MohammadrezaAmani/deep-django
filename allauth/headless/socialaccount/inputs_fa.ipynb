{
    "cells": [
        {
            "cell_type": "code",
            "execution_count": null,
            "metadata": {},
            "outputs": [],
            "source": [
                "from allauth.core import context\n",
                "from allauth.headless.adapter import get_adapter\n",
                "from allauth.headless.internal.restkit import inputs\n",
                "from allauth.socialaccount.adapter import get_adapter as get_socialaccount_adapter\n",
                "from allauth.socialaccount.forms import SignupForm\n",
                "from allauth.socialaccount.models import SocialAccount\n",
                "from allauth.socialaccount.providers.base.constants import AuthProcess\n",
                "from django.core.exceptions import ValidationError\n"
            ]
        },
        {
            "cell_type": "markdown",
            "metadata": {},
            "source": []
        },
        {
            "cell_type": "code",
            "execution_count": null,
            "metadata": {},
            "outputs": [],
            "source": [
                "class SignupInput(SignupForm, inputs.Input):\n",
                "    pass\n"
            ]
        },
        {
            "cell_type": "markdown",
            "metadata": {},
            "source": []
        },
        {
            "cell_type": "code",
            "execution_count": null,
            "metadata": {},
            "outputs": [],
            "source": [
                "class DeleteProviderAccountInput(inputs.Input):\n",
                "    provider = inputs.CharField()\n",
                "    account = inputs.CharField()\n",
                "\n",
                "    def __init__(self, *args, **kwargs):\n",
                "        self.user = kwargs.pop(\"user\")\n",
                "        super().__init__(*args, **kwargs)\n",
                "\n",
                "    def clean(self):\n",
                "        cleaned_data = super().clean()\n",
                "        uid = cleaned_data.get(\"account\")\n",
                "        provider_id = cleaned_data.get(\"provider\")\n",
                "        if uid and provider_id:\n",
                "            accounts = SocialAccount.objects.filter(user=self.user)\n",
                "            account = accounts.filter(\n",
                "                uid=uid,\n",
                "                provider=provider_id,\n",
                "            ).first()\n",
                "            if not account:\n",
                "                raise get_adapter().validation_error(\"account_not_found\")\n",
                "            get_socialaccount_adapter().validate_disconnect(account, accounts)\n",
                "            self.cleaned_data[\"account\"] = account\n",
                "        return cleaned_data\n"
            ]
        },
        {
            "cell_type": "markdown",
            "metadata": {},
            "source": []
        },
        {
            "cell_type": "code",
            "execution_count": null,
            "metadata": {},
            "outputs": [],
            "source": [
                "class ProviderTokenInput(inputs.Input):\n",
                "    provider = inputs.CharField()\n",
                "    process = inputs.ChoiceField(\n",
                "        choices=[\n",
                "            (AuthProcess.LOGIN, AuthProcess.LOGIN),\n",
                "            (AuthProcess.CONNECT, AuthProcess.CONNECT),\n",
                "        ]\n",
                "    )\n",
                "    token = inputs.Field()\n",
                "\n",
                "    def clean(self):\n",
                "        cleaned_data = super().clean()\n",
                "        token = self.data.get(\"token\")\n",
                "        adapter = get_adapter()\n",
                "        client_id = None\n",
                "        if not isinstance(token, dict):\n",
                "            self.add_error(\"token\", adapter.validation_error(\"invalid_token\"))\n",
                "            token = None\n",
                "        else:\n",
                "            client_id = token.get(\"client_id\")\n",
                "            if not isinstance(client_id, str):\n",
                "                self.add_error(\"token\", adapter.validation_error(\"client_id_required\"))\n",
                "                client_id = None\n",
                "\n",
                "        provider_id = cleaned_data.get(\"provider\")\n",
                "        provider = None\n",
                "        if provider_id and token and client_id:\n",
                "            provider = get_socialaccount_adapter().get_provider(\n",
                "                context.request, provider_id, client_id=client_id\n",
                "            )\n",
                "            if not provider.supports_token_authentication:\n",
                "                self.add_error(\n",
                "                    \"provider\",\n",
                "                    adapter.validation_error(\"token_authentication_not_supported\"),\n",
                "                )\n",
                "\n",
                "            elif provider.app.client_id != client_id:\n",
                "                self.add_error(\"token\", adapter.validation_error(\"client_id_mismatch\"))\n",
                "            else:\n",
                "                id_token = token.get(\"id_token\")\n",
                "                access_token = token.get(\"access_token\")\n",
                "                if (\n",
                "                    (id_token is not None and not isinstance(id_token, str))\n",
                "                    or (access_token is not None and not isinstance(access_token, str))\n",
                "                    or (not id_token and not access_token)\n",
                "                ):\n",
                "                    self.add_error(\"token\", adapter.validation_error(\"token_required\"))\n",
                "        if not self.errors:\n",
                "            cleaned_data[\"provider\"] = provider\n",
                "            try:\n",
                "                login = provider.verify_token(context.request, token)\n",
                "                login.state[\"process\"] = cleaned_data[\"process\"]\n",
                "                cleaned_data[\"sociallogin\"] = login\n",
                "            except ValidationError as e:\n",
                "                self.add_error(\"token\", e)\n",
                "        return cleaned_data\n",
                "\n"
            ]
        },
        {
            "cell_type": "markdown",
            "metadata": {},
            "source": []
        }
    ],
    "metadata": {
        "language_info": {
            "name": "python"
        }
    },
    "nbformat": 4,
    "nbformat_minor": 2
}