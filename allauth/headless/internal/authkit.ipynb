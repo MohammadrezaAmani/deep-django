{
 "cells": [
  {
   "cell_type": "code",
   "execution_count": null,
   "metadata": {},
   "outputs": [],
   "source": [
    "import typing\n",
    "from contextlib import contextmanager\n",
    "\n",
    "from allauth import app_settings as allauth_settings\n",
    "from allauth.account.stages import LoginStageController\n",
    "from allauth.account.utils import unstash_login\n",
    "from allauth.core.exceptions import ImmediateHttpResponse\n",
    "from allauth.headless import app_settings\n",
    "from allauth.headless.constants import Client\n",
    "from allauth.headless.internal import sessionkit"
   ]
  },
  {
   "cell_type": "markdown",
   "metadata": {},
   "source": []
  },
  {
   "cell_type": "code",
   "execution_count": null,
   "metadata": {},
   "outputs": [],
   "source": [
    "class AuthenticationStatus:\n",
    "    def __init__(self, request):\n",
    "        self.request = request\n",
    "\n",
    "    @property\n",
    "    def is_authenticated(self):\n",
    "        return self.request.user.is_authenticated\n",
    "\n",
    "    def get_pending_stage(self):\n",
    "        stage = None\n",
    "        if not self.is_authenticated:\n",
    "            login = unstash_login(self.request, peek=True)\n",
    "            if login:\n",
    "                ctrl = LoginStageController(self.request, login)\n",
    "                stage = ctrl.get_pending_stage()\n",
    "        return stage\n",
    "\n",
    "    @property\n",
    "    def has_pending_signup(self):\n",
    "        if not allauth_settings.SOCIALACCOUNT_ENABLED:\n",
    "            return False\n",
    "        from allauth.socialaccount.internal import flows\n",
    "\n",
    "        return bool(flows.signup.get_pending_signup(self.request))"
   ]
  },
  {
   "cell_type": "markdown",
   "metadata": {},
   "source": []
  },
  {
   "cell_type": "code",
   "execution_count": null,
   "metadata": {},
   "outputs": [],
   "source": [
    "def purge_request_user_cache(request):\n",
    "    if hasattr(request, \"_cached_user\"):\n",
    "        delattr(request, \"_cached_user\")"
   ]
  },
  {
   "cell_type": "markdown",
   "metadata": {},
   "source": []
  },
  {
   "cell_type": "code",
   "execution_count": null,
   "metadata": {},
   "outputs": [],
   "source": [
    "@contextmanager\n",
    "def authentication_context(request):\n",
    "    from allauth.headless.base.response import UnauthorizedResponse\n",
    "\n",
    "    old_user = request.user\n",
    "    old_session = request.session\n",
    "    try:\n",
    "        request.session = sessionkit.new_session()\n",
    "        purge_request_user_cache(request)\n",
    "\n",
    "        strategy = app_settings.TOKEN_STRATEGY\n",
    "        session_token = strategy.get_session_token(request)\n",
    "        if session_token:\n",
    "            session = strategy.lookup_session(session_token)\n",
    "            if not session:\n",
    "                raise ImmediateHttpResponse(UnauthorizedResponse(request, status=410))\n",
    "            request.session = session\n",
    "            purge_request_user_cache(request)\n",
    "        request.allauth.headless._pre_user = request.user\n",
    "        # request.user is lazy -- force evaluation\n",
    "        request.allauth.headless._pre_user.pk\n",
    "        yield\n",
    "    finally:\n",
    "        if request.session.modified and not request.session.is_empty():\n",
    "            request.session.save()\n",
    "        request.user = old_user\n",
    "        request.session = old_session\n",
    "        # e.g. logging in calls csrf `rotate_token()` -- this prevents setting a new CSRF cookie.\n",
    "        request.META[\"CSRF_COOKIE_NEEDS_UPDATE\"] = False"
   ]
  },
  {
   "cell_type": "markdown",
   "metadata": {},
   "source": []
  },
  {
   "cell_type": "code",
   "execution_count": null,
   "metadata": {},
   "outputs": [],
   "source": [
    "def expose_access_token(request) -> typing.Optional[str]:\n",
    "    \"\"\"\n",
    "    Determines if a new access token needs to be exposed.\n",
    "    \"\"\"\n",
    "    if request.allauth.headless.client != Client.APP:\n",
    "        return\n",
    "    if not request.user.is_authenticated:\n",
    "        return\n",
    "    pre_user = request.allauth.headless._pre_user\n",
    "    if pre_user.is_authenticated and pre_user.pk == request.user.pk:\n",
    "        return\n",
    "    strategy = app_settings.TOKEN_STRATEGY\n",
    "    return strategy.create_access_token(request)"
   ]
  },
  {
   "cell_type": "markdown",
   "metadata": {},
   "source": []
  }
 ],
 "metadata": {
  "language_info": {
   "name": "python"
  }
 },
 "nbformat": 4,
 "nbformat_minor": 2
}