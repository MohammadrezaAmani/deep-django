{
    "cells": [
        {
            "cell_type": "code",
            "execution_count": null,
            "metadata": {},
            "outputs": [],
            "source": [
                "from functools import wraps\n",
                "from types import SimpleNamespace\n",
                "\n",
                "from django.middleware.csrf import get_token\n",
                "from django.views.decorators.csrf import csrf_exempt\n",
                "\n",
                "from allauth.headless.constants import Client\n",
                "from allauth.headless.internal import authkit\n"
            ]
        },
        {
            "cell_type": "markdown",
            "metadata": {},
            "source": []
        },
        {
            "cell_type": "code",
            "execution_count": null,
            "metadata": {},
            "outputs": [],
            "source": [
                "def mark_request_as_headless(request, client):\n",
                "    request.allauth.headless = SimpleNamespace()\n",
                "    request.allauth.headless.client = client\n"
            ]
        },
        {
            "cell_type": "markdown",
            "metadata": {},
            "source": []
        },
        {
            "cell_type": "code",
            "execution_count": null,
            "metadata": {},
            "outputs": [],
            "source": [
                "def app_view(\n",
                "    function=None,\n",
                "):\n",
                "    def decorator(view_func):\n",
                "        @wraps(view_func)\n",
                "        def _wrapper_view(request, *args, **kwargs):\n",
                "            mark_request_as_headless(request, Client.APP)\n",
                "            with authkit.authentication_context(request):\n",
                "                return view_func(request, *args, **kwargs)\n",
                "\n",
                "        return _wrapper_view\n",
                "\n",
                "    ret = decorator\n",
                "    if function:\n",
                "        ret = decorator(function)\n",
                "    return csrf_exempt(ret)\n"
            ]
        },
        {
            "cell_type": "markdown",
            "metadata": {},
            "source": []
        },
        {
            "cell_type": "code",
            "execution_count": null,
            "metadata": {},
            "outputs": [],
            "source": [
                "def browser_view(\n",
                "    function=None,\n",
                "):\n",
                "    def decorator(view_func):\n",
                "        @wraps(view_func)\n",
                "        def _wrapper_view(request, *args, **kwargs):\n",
                "            mark_request_as_headless(request, Client.BROWSER)\n",
                "            # Needed -- so that the CSRF token is set in the response for the\n",
                "            # frontend to pick up.\n",
                "            get_token(request)\n",
                "            return view_func(request, *args, **kwargs)\n",
                "\n",
                "        return _wrapper_view\n",
                "\n",
                "    ret = decorator\n",
                "    if function:\n",
                "        ret = decorator(function)\n",
                "    return ret\n",
                "\n"
            ]
        },
        {
            "cell_type": "markdown",
            "metadata": {},
            "source": []
        }
    ],
    "metadata": {
        "language_info": {
            "name": "python"
        }
    },
    "nbformat": 4,
    "nbformat_minor": 2
}