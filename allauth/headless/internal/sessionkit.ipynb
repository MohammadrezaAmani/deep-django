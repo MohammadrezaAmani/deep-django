{
    "cells": [
        {
            "cell_type": "code",
            "execution_count": null,
            "metadata": {},
            "outputs": [],
            "source": [
                "from importlib import import_module\n",
                "\n",
                "from django.conf import settings\n",
                "\n",
                "from allauth.headless import app_settings\n",
                "from allauth.headless.constants import Client\n"
            ]
        },
        {
            "cell_type": "markdown",
            "metadata": {},
            "source": []
        },
        {
            "cell_type": "code",
            "execution_count": null,
            "metadata": {},
            "outputs": [],
            "source": [
                "def session_store(session_key=None):\n",
                "    engine = import_module(settings.SESSION_ENGINE)\n",
                "    return engine.SessionStore(session_key=session_key)\n"
            ]
        },
        {
            "cell_type": "markdown",
            "metadata": {},
            "source": []
        },
        {
            "cell_type": "code",
            "execution_count": null,
            "metadata": {},
            "outputs": [],
            "source": [
                "def new_session():\n",
                "    return session_store()\n"
            ]
        },
        {
            "cell_type": "markdown",
            "metadata": {},
            "source": []
        },
        {
            "cell_type": "code",
            "execution_count": null,
            "metadata": {},
            "outputs": [],
            "source": [
                "def expose_session_token(request):\n",
                "    if request.allauth.headless.client != Client.APP:\n",
                "        return\n",
                "    strategy = app_settings.TOKEN_STRATEGY\n",
                "    hdr_token = strategy.get_session_token(request)\n",
                "    modified = request.session.modified\n",
                "    empty = request.session.is_empty()\n",
                "    if modified and not empty:\n",
                "        new_token = strategy.create_session_token(request)\n",
                "        if not hdr_token or hdr_token != new_token:\n",
                "            return new_token\n",
                "\n"
            ]
        },
        {
            "cell_type": "markdown",
            "metadata": {},
            "source": []
        }
    ],
    "metadata": {
        "language_info": {
            "name": "python"
        }
    },
    "nbformat": 4,
    "nbformat_minor": 2
}