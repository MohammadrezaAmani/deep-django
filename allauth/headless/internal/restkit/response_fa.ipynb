{
    "cells": [
        {
            "cell_type": "code",
            "execution_count": null,
            "metadata": {},
            "outputs": [],
            "source": [
                "from django.http import JsonResponse\n",
                "from django.utils.cache import add_never_cache_headers\n"
            ]
        },
        {
            "cell_type": "markdown",
            "metadata": {},
            "source": []
        },
        {
            "cell_type": "code",
            "execution_count": null,
            "metadata": {},
            "outputs": [],
            "source": [
                "class APIResponse(JsonResponse):\n",
                "    def __init__(self, request, errors=None, data=None, meta=None, status=200):\n",
                "        d = {\"status\": status}\n",
                "        if data is not None:\n",
                "            d[\"data\"] = data\n",
                "        if meta is not None:\n",
                "            d[\"meta\"] = meta\n",
                "        if errors:\n",
                "            d[\"errors\"] = errors\n",
                "        super().__init__(d, status=status)\n",
                "        add_never_cache_headers(self)\n"
            ]
        },
        {
            "cell_type": "markdown",
            "metadata": {},
            "source": []
        },
        {
            "cell_type": "code",
            "execution_count": null,
            "metadata": {},
            "outputs": [],
            "source": [
                "class ErrorResponse(APIResponse):\n",
                "    def __init__(self, request, input=None, status=400):\n",
                "        errors = []\n",
                "        if input is not None:\n",
                "            for field, error_list in input.errors.items():\n",
                "                error_datas = error_list.get_json_data()\n",
                "                for error_data in error_datas:\n",
                "                    if field != \"__all__\":\n",
                "                        error_data[\"param\"] = field\n",
                "                errors.extend(error_datas)\n",
                "        super().__init__(request, status=status, errors=errors)\n",
                "\n"
            ]
        },
        {
            "cell_type": "markdown",
            "metadata": {},
            "source": []
        }
    ],
    "metadata": {
        "language_info": {
            "name": "python"
        }
    },
    "nbformat": 4,
    "nbformat_minor": 2
}