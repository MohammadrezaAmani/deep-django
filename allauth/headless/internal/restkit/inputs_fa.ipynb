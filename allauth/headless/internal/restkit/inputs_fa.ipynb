{
    "cells": [
        {
            "cell_type": "code",
            "execution_count": null,
            "metadata": {},
            "outputs": [],
            "source": [
                "from django.forms import (\n",
                "    BooleanField,\n",
                "    CharField,\n",
                "    ChoiceField,\n",
                "    EmailField,\n",
                "    Field,\n",
                "    Form,\n",
                "    ModelMultipleChoiceField,\n",
                ")\n",
                "\n",
                "__all__ = [\n",
                "    \"Field\",\n",
                "    \"CharField\",\n",
                "    \"ChoiceField\",\n",
                "    \"EmailField\",\n",
                "    \"BooleanField\",\n",
                "    \"ModelMultipleChoiceField\",\n",
                "]\n"
            ]
        },
        {
            "cell_type": "markdown",
            "metadata": {},
            "source": []
        },
        {
            "cell_type": "code",
            "execution_count": null,
            "metadata": {},
            "outputs": [],
            "source": [
                "class Input(Form):\n",
                "    pass\n",
                "\n"
            ]
        },
        {
            "cell_type": "markdown",
            "metadata": {},
            "source": []
        }
    ],
    "metadata": {
        "language_info": {
            "name": "python"
        }
    },
    "nbformat": 4,
    "nbformat_minor": 2
}