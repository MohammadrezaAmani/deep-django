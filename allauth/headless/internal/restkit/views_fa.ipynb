{
 "cells": [
  {
   "cell_type": "code",
   "execution_count": null,
   "metadata": {},
   "outputs": [],
   "source": [
    "import json\n",
    "\n",
    "from allauth.core.exceptions import ImmediateHttpResponse\n",
    "from allauth.headless.internal.restkit.response import ErrorResponse\n",
    "from django.http import HttpResponseBadRequest\n",
    "from django.views.generic import View"
   ]
  },
  {
   "cell_type": "markdown",
   "metadata": {},
   "source": []
  },
  {
   "cell_type": "code",
   "execution_count": null,
   "metadata": {},
   "outputs": [],
   "source": [
    "class RESTView(View):\n",
    "    input_class = None\n",
    "    handle_json_input = True\n",
    "\n",
    "    def dispatch(self, request, *args, **kwargs):\n",
    "        return self.handle(request, *args, **kwargs)\n",
    "\n",
    "    def handle(self, request, *args, **kwargs):\n",
    "        if self.handle_json_input and request.method != \"GET\":\n",
    "            self.data = self._parse_json(request)\n",
    "            response = self.handle_input(self.data)\n",
    "            if response:\n",
    "                return response\n",
    "        return super().dispatch(request, *args, **kwargs)\n",
    "\n",
    "    def get_input_kwargs(self):\n",
    "        return {}\n",
    "\n",
    "    def handle_input(self, data):\n",
    "        input_class = self.input_class\n",
    "        if isinstance(input_class, dict):\n",
    "            input_class = input_class.get(self.request.method)\n",
    "        if not input_class:\n",
    "            return\n",
    "        input_kwargs = self.get_input_kwargs()\n",
    "        if data is None:\n",
    "            # Make form bound on empty POST\n",
    "            data = {}\n",
    "        self.input = input_class(data=data, **input_kwargs)\n",
    "        if not self.input.is_valid():\n",
    "            return ErrorResponse(self.request, input=self.input)\n",
    "\n",
    "    def _parse_json(self, request):\n",
    "        if request.method == \"GET\" or not request.body:\n",
    "            return\n",
    "        try:\n",
    "            return json.loads(request.body.decode(\"utf8\"))\n",
    "        except (UnicodeDecodeError, json.JSONDecodeError):\n",
    "            raise ImmediateHttpResponse(response=HttpResponseBadRequest())"
   ]
  },
  {
   "cell_type": "markdown",
   "metadata": {},
   "source": []
  }
 ],
 "metadata": {
  "language_info": {
   "name": "python"
  }
 },
 "nbformat": 4,
 "nbformat_minor": 2
}