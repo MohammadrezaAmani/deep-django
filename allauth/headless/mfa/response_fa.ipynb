{
 "cells": [
  {
   "cell_type": "code",
   "execution_count": null,
   "metadata": {},
   "outputs": [],
   "source": [
    "from allauth.headless.base.response import APIResponse\n",
    "from allauth.mfa import app_settings"
   ]
  },
  {
   "cell_type": "markdown",
   "metadata": {},
   "source": []
  },
  {
   "cell_type": "code",
   "execution_count": null,
   "metadata": {},
   "outputs": [],
   "source": [
    "def get_config_data(request):\n",
    "    data = {\"mfa\": {\"supported_types\": app_settings.SUPPORTED_TYPES}}\n",
    "    return data"
   ]
  },
  {
   "cell_type": "markdown",
   "metadata": {},
   "source": []
  },
  {
   "cell_type": "code",
   "execution_count": null,
   "metadata": {},
   "outputs": [],
   "source": [
    "def _authenticator_data(authenticator, sensitive=False):\n",
    "    data = {\n",
    "        \"type\": authenticator.type,\n",
    "        \"created_at\": authenticator.created_at.timestamp(),\n",
    "        \"last_used_at\": authenticator.last_used_at.timestamp()\n",
    "        if authenticator.last_used_at\n",
    "        else None,\n",
    "    }\n",
    "    if authenticator.type == authenticator.Type.TOTP:\n",
    "        pass\n",
    "    elif authenticator.type == authenticator.Type.RECOVERY_CODES:\n",
    "        wrapped = authenticator.wrap()\n",
    "        unused_codes = wrapped.get_unused_codes()\n",
    "        data.update(\n",
    "            {\n",
    "                \"total_code_count\": len(wrapped.generate_codes()),\n",
    "                \"unused_code_count\": len(unused_codes),\n",
    "            }\n",
    "        )\n",
    "        if sensitive:\n",
    "            data[\"unused_codes\"] = unused_codes\n",
    "    return data"
   ]
  },
  {
   "cell_type": "markdown",
   "metadata": {},
   "source": []
  },
  {
   "cell_type": "code",
   "execution_count": null,
   "metadata": {},
   "outputs": [],
   "source": [
    "class AuthenticatorDeletedResponse(APIResponse):\n",
    "    pass"
   ]
  },
  {
   "cell_type": "markdown",
   "metadata": {},
   "source": []
  },
  {
   "cell_type": "code",
   "execution_count": null,
   "metadata": {},
   "outputs": [],
   "source": [
    "class TOTPNotFoundResponse(APIResponse):\n",
    "    def __init__(self, request, secret):\n",
    "        super().__init__(\n",
    "            request,\n",
    "            meta={\n",
    "                \"secret\": secret,\n",
    "            },\n",
    "            status=404,\n",
    "        )"
   ]
  },
  {
   "cell_type": "markdown",
   "metadata": {},
   "source": []
  },
  {
   "cell_type": "code",
   "execution_count": null,
   "metadata": {},
   "outputs": [],
   "source": [
    "class TOTPResponse(APIResponse):\n",
    "    def __init__(self, request, authenticator):\n",
    "        data = _authenticator_data(authenticator)\n",
    "        super().__init__(request, data=data)"
   ]
  },
  {
   "cell_type": "markdown",
   "metadata": {},
   "source": []
  },
  {
   "cell_type": "code",
   "execution_count": null,
   "metadata": {},
   "outputs": [],
   "source": [
    "class AuthenticatorsResponse(APIResponse):\n",
    "    def __init__(self, request, authenticators):\n",
    "        data = [_authenticator_data(authenticator) for authenticator in authenticators]\n",
    "        super().__init__(request, data=data)"
   ]
  },
  {
   "cell_type": "markdown",
   "metadata": {},
   "source": []
  },
  {
   "cell_type": "code",
   "execution_count": null,
   "metadata": {},
   "outputs": [],
   "source": [
    "class RecoveryCodesNotFoundResponse(APIResponse):\n",
    "    def __init__(self, request):\n",
    "        super().__init__(request, status=404)"
   ]
  },
  {
   "cell_type": "markdown",
   "metadata": {},
   "source": []
  },
  {
   "cell_type": "code",
   "execution_count": null,
   "metadata": {},
   "outputs": [],
   "source": [
    "class RecoveryCodesResponse(APIResponse):\n",
    "    def __init__(self, request, authenticator):\n",
    "        data = _authenticator_data(authenticator, sensitive=True)\n",
    "        super().__init__(request, data=data)"
   ]
  },
  {
   "cell_type": "markdown",
   "metadata": {},
   "source": []
  }
 ],
 "metadata": {
  "language_info": {
   "name": "python"
  }
 },
 "nbformat": 4,
 "nbformat_minor": 2
}