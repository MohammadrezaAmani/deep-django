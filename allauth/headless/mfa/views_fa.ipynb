{
 "cells": [
  {
   "cell_type": "code",
   "execution_count": null,
   "metadata": {},
   "outputs": [],
   "source": [
    "from allauth.headless.base.response import AuthenticationResponse\n",
    "from allauth.headless.base.views import AuthenticatedAPIView, AuthenticationStageAPIView\n",
    "from allauth.headless.mfa import response\n",
    "from allauth.headless.mfa.inputs import (\n",
    "    ActivateTOTPInput,\n",
    "    AuthenticateInput,\n",
    "    GenerateRecoveryCodesInput,\n",
    ")\n",
    "from allauth.mfa import totp\n",
    "from allauth.mfa.internal import flows\n",
    "from allauth.mfa.models import Authenticator\n",
    "from allauth.mfa.stages import AuthenticateStage"
   ]
  },
  {
   "cell_type": "markdown",
   "metadata": {},
   "source": []
  },
  {
   "cell_type": "code",
   "execution_count": null,
   "metadata": {},
   "outputs": [],
   "source": [
    "class AuthenticateView(AuthenticationStageAPIView):\n",
    "    input_class = AuthenticateInput\n",
    "    stage_class = AuthenticateStage\n",
    "\n",
    "    def post(self, request, *args, **kwargs):\n",
    "        self.input.save()\n",
    "        return self.respond_next_stage()\n",
    "\n",
    "    def get_input_kwargs(self):\n",
    "        return {\"user\": self.stage.login.user}"
   ]
  },
  {
   "cell_type": "markdown",
   "metadata": {},
   "source": []
  },
  {
   "cell_type": "code",
   "execution_count": null,
   "metadata": {},
   "outputs": [],
   "source": [
    "class ReauthenticateView(AuthenticatedAPIView):\n",
    "    input_class = AuthenticateInput\n",
    "\n",
    "    def post(self, request, *args, **kwargs):\n",
    "        self.input.save()\n",
    "        return AuthenticationResponse(self.request)\n",
    "\n",
    "    def get_input_kwargs(self):\n",
    "        return {\"user\": self.request.user}"
   ]
  },
  {
   "cell_type": "markdown",
   "metadata": {},
   "source": []
  },
  {
   "cell_type": "code",
   "execution_count": null,
   "metadata": {},
   "outputs": [],
   "source": [
    "class AuthenticatorsView(AuthenticatedAPIView):\n",
    "    def get(self, request, *args, **kwargs):\n",
    "        authenticators = Authenticator.objects.filter(user=request.user)\n",
    "        return response.AuthenticatorsResponse(request, authenticators)"
   ]
  },
  {
   "cell_type": "markdown",
   "metadata": {},
   "source": []
  },
  {
   "cell_type": "code",
   "execution_count": null,
   "metadata": {},
   "outputs": [],
   "source": [
    "class ManageTOTPView(AuthenticatedAPIView):\n",
    "    input_class = {\"POST\": ActivateTOTPInput}\n",
    "\n",
    "    def get(self, request, *args, **kwargs):\n",
    "        authenticator = self._get_authenticator()\n",
    "        if not authenticator:\n",
    "            secret = totp.get_totp_secret(regenerate=True)\n",
    "            return response.TOTPNotFoundResponse(request, secret)\n",
    "        return response.TOTPResponse(request, authenticator)\n",
    "\n",
    "    def _get_authenticator(self):\n",
    "        return Authenticator.objects.filter(\n",
    "            type=Authenticator.Type.TOTP, user=self.request.user\n",
    "        ).first()\n",
    "\n",
    "    def get_input_kwargs(self):\n",
    "        return {\"user\": self.request.user}\n",
    "\n",
    "    def post(self, request, *args, **kwargs):\n",
    "        authenticator = flows.totp.activate_totp(request, self.input).instance\n",
    "        return response.TOTPResponse(request, authenticator)\n",
    "\n",
    "    def delete(self, request, *args, **kwargs):\n",
    "        authenticator = self._get_authenticator()\n",
    "        if authenticator:\n",
    "            authenticator = flows.totp.deactivate_totp(request, authenticator)\n",
    "        return response.AuthenticatorDeletedResponse(request)"
   ]
  },
  {
   "cell_type": "markdown",
   "metadata": {},
   "source": []
  },
  {
   "cell_type": "code",
   "execution_count": null,
   "metadata": {},
   "outputs": [],
   "source": [
    "class ManageRecoveryCodesView(AuthenticatedAPIView):\n",
    "    input_class = GenerateRecoveryCodesInput\n",
    "\n",
    "    def get(self, request, *args, **kwargs):\n",
    "        authenticator = flows.recovery_codes.view_recovery_codes(request)\n",
    "        if not authenticator:\n",
    "            return response.RecoveryCodesNotFoundResponse(request)\n",
    "        return response.RecoveryCodesResponse(request, authenticator)\n",
    "\n",
    "    def post(self, request, *args, **kwargs):\n",
    "        authenticator = flows.recovery_codes.generate_recovery_codes(request)\n",
    "        return response.RecoveryCodesResponse(request, authenticator)\n",
    "\n",
    "    def get_input_kwargs(self):\n",
    "        return {\"user\": self.request.user}"
   ]
  },
  {
   "cell_type": "markdown",
   "metadata": {},
   "source": []
  }
 ],
 "metadata": {
  "language_info": {
   "name": "python"
  }
 },
 "nbformat": 4,
 "nbformat_minor": 2
}