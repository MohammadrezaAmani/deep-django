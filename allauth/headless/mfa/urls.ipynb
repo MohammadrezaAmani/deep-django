{
 "cells": [
  {
   "cell_type": "code",
   "execution_count": null,
   "metadata": {},
   "outputs": [],
   "source": [
    "from django.urls import include, path\n",
    "\n",
    "from allauth.headless.mfa import views"
   ]
  },
  {
   "cell_type": "markdown",
   "metadata": {},
   "source": []
  },
  {
   "cell_type": "code",
   "execution_count": null,
   "metadata": {},
   "outputs": [],
   "source": [
    "def build_urlpatterns(client):\n",
    "    return [\n",
    "        path(\n",
    "            \"auth/\",\n",
    "            include(\n",
    "                [\n",
    "                    path(\n",
    "                        \"2fa/authenticate\",\n",
    "                        views.AuthenticateView.as_api_view(client=client),\n",
    "                        name=\"authenticate\",\n",
    "                    ),\n",
    "                    path(\n",
    "                        \"2fa/reauthenticate\",\n",
    "                        views.ReauthenticateView.as_api_view(client=client),\n",
    "                        name=\"reauthenticate\",\n",
    "                    ),\n",
    "                ]\n",
    "            ),\n",
    "        ),\n",
    "        path(\n",
    "            \"account/\",\n",
    "            include(\n",
    "                [\n",
    "                    path(\n",
    "                        \"authenticators\",\n",
    "                        views.AuthenticatorsView.as_api_view(client=client),\n",
    "                        name=\"authenticators\",\n",
    "                    ),\n",
    "                    path(\n",
    "                        \"authenticators/totp\",\n",
    "                        views.ManageTOTPView.as_api_view(client=client),\n",
    "                        name=\"manage_totp\",\n",
    "                    ),\n",
    "                    path(\n",
    "                        \"authenticators/recovery-codes\",\n",
    "                        views.ManageRecoveryCodesView.as_api_view(client=client),\n",
    "                        name=\"manage_recovery_codes\",\n",
    "                    ),\n",
    "                ]\n",
    "            ),\n",
    "        ),\n",
    "    ]"
   ]
  },
  {
   "cell_type": "markdown",
   "metadata": {},
   "source": []
  }
 ],
 "metadata": {
  "language_info": {
   "name": "python"
  }
 },
 "nbformat": 4,
 "nbformat_minor": 2
}