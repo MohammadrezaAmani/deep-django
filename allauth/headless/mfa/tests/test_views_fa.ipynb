{
    "cells": [
        {
            "cell_type": "code",
            "execution_count": null,
            "metadata": {},
            "outputs": [],
            "source": [
                "from allauth.account.models import EmailAddress, get_emailconfirmation_model\n",
                "from allauth.headless.constants import Flow\n",
                "from allauth.mfa.models import Authenticator\n"
            ]
        },
        {
            "cell_type": "markdown",
            "metadata": {},
            "source": []
        },
        {
            "cell_type": "code",
            "execution_count": null,
            "metadata": {},
            "outputs": [],
            "source": [
                "def test_auth_unverified_email_and_mfa(\n",
                "    client,\n",
                "    user_factory,\n",
                "    password_factory,\n",
                "    settings,\n",
                "    totp_validation_bypass,\n",
                "    headless_reverse,\n",
                "    headless_client,\n",
                "):\n",
                "    settings.ACCOUNT_AUTHENTICATION_METHOD = \"email\"\n",
                "    settings.ACCOUNT_EMAIL_VERIFICATION = \"mandatory\"\n",
                "    password = password_factory()\n",
                "    user = user_factory(email_verified=False, password=password, with_totp=True)\n",
                "    resp = client.post(\n",
                "        headless_reverse(\"headless:account:login\"),\n",
                "        data={\n",
                "            \"email\": user.email,\n",
                "            \"password\": password,\n",
                "        },\n",
                "        content_type=\"application/json\",\n",
                "    )\n",
                "    assert resp.status_code == 401\n",
                "    data = resp.json()\n",
                "    assert [f for f in data[\"data\"][\"flows\"] if f[\"id\"] == Flow.VERIFY_EMAIL][0][\n",
                "        \"is_pending\"\n",
                "    ]\n",
                "    emailaddress = EmailAddress.objects.filter(user=user, verified=False).get()\n",
                "    key = get_emailconfirmation_model().create(emailaddress).key\n",
                "    resp = client.post(\n",
                "        headless_reverse(\"headless:account:verify_email\"),\n",
                "        data={\"key\": key},\n",
                "        content_type=\"application/json\",\n",
                "    )\n",
                "    assert resp.status_code == 401\n",
                "    flows = [\n",
                "        {\"id\": \"login\"},\n",
                "        {\"id\": \"login_by_code\"},\n",
                "        {\"id\": \"signup\"},\n",
                "    ]\n",
                "    if headless_client == \"browser\":\n",
                "        flows.append(\n",
                "            {\n",
                "                \"id\": \"provider_redirect\",\n",
                "                \"providers\": [\"dummy\", \"openid_connect\", \"openid_connect\"],\n",
                "            }\n",
                "        )\n",
                "    flows.append(\n",
                "        {\n",
                "            \"id\": \"mfa_authenticate\",\n",
                "            \"is_pending\": True,\n",
                "        }\n",
                "    )\n",
                "\n",
                "    assert resp.json() == {\n",
                "        \"data\": {\"flows\": flows},\n",
                "        \"meta\": {\"is_authenticated\": False},\n",
                "        \"status\": 401,\n",
                "    }\n",
                "    resp = client.post(\n",
                "        headless_reverse(\"headless:mfa:authenticate\"),\n",
                "        data={\"code\": \"bad\"},\n",
                "        content_type=\"application/json\",\n",
                "    )\n",
                "    assert resp.status_code == 400\n",
                "    assert resp.json() == {\n",
                "        \"status\": 400,\n",
                "        \"errors\": [\n",
                "            {\"message\": \"Incorrect code.\", \"code\": \"incorrect_code\", \"param\": \"code\"}\n",
                "        ],\n",
                "    }\n",
                "\n",
                "    with totp_validation_bypass():\n",
                "        resp = client.post(\n",
                "            headless_reverse(\"headless:mfa:authenticate\"),\n",
                "            data={\"code\": \"bad\"},\n",
                "            content_type=\"application/json\",\n",
                "        )\n",
                "    assert resp.status_code == 200\n"
            ]
        },
        {
            "cell_type": "markdown",
            "metadata": {},
            "source": []
        },
        {
            "cell_type": "code",
            "execution_count": null,
            "metadata": {},
            "outputs": [],
            "source": [
                "def test_get_recovery_codes_requires_reauth(\n",
                "    auth_client, user_with_recovery_codes, headless_reverse\n",
                "):\n",
                "    rc = Authenticator.objects.get(\n",
                "        type=Authenticator.Type.RECOVERY_CODES, user=user_with_recovery_codes\n",
                "    )\n",
                "    resp = auth_client.get(headless_reverse(\"headless:mfa:manage_recovery_codes\"))\n",
                "    assert resp.status_code == 401\n",
                "    data = resp.json()\n",
                "    assert data[\"meta\"][\"is_authenticated\"]\n",
                "    resp = auth_client.post(\n",
                "        headless_reverse(\"headless:mfa:reauthenticate\"),\n",
                "        data={\"code\": rc.wrap().get_unused_codes()[0]},\n",
                "        content_type=\"application/json\",\n",
                "    )\n",
                "    assert resp.status_code == 200\n"
            ]
        },
        {
            "cell_type": "markdown",
            "metadata": {},
            "source": []
        },
        {
            "cell_type": "code",
            "execution_count": null,
            "metadata": {},
            "outputs": [],
            "source": [
                "def test_get_recovery_codes(\n",
                "    auth_client,\n",
                "    user_with_recovery_codes,\n",
                "    headless_reverse,\n",
                "    reauthentication_bypass,\n",
                "):\n",
                "    with reauthentication_bypass():\n",
                "        resp = auth_client.get(headless_reverse(\"headless:mfa:manage_recovery_codes\"))\n",
                "    assert resp.status_code == 200\n",
                "    data = resp.json()\n",
                "    assert data[\"data\"][\"type\"] == \"recovery_codes\"\n",
                "    assert len(data[\"data\"][\"unused_codes\"]) == 10\n",
                "\n",
                "    with reauthentication_bypass():\n",
                "        resp = auth_client.get(headless_reverse(\"headless:mfa:authenticators\"))\n",
                "    data = resp.json()\n",
                "    assert len(data[\"data\"]) == 2\n",
                "    rc = [autor for autor in data[\"data\"] if autor[\"type\"] == \"recovery_codes\"][0]\n",
                "    assert \"unused_codes\" not in rc\n"
            ]
        },
        {
            "cell_type": "markdown",
            "metadata": {},
            "source": []
        },
        {
            "cell_type": "code",
            "execution_count": null,
            "metadata": {},
            "outputs": [],
            "source": [
                "def test_generate_recovery_codes(\n",
                "    auth_client,\n",
                "    user_with_totp,\n",
                "    headless_reverse,\n",
                "    reauthentication_bypass,\n",
                "):\n",
                "    with reauthentication_bypass():\n",
                "        resp = auth_client.get(headless_reverse(\"headless:mfa:manage_recovery_codes\"))\n",
                "    assert resp.status_code == 404\n",
                "    with reauthentication_bypass():\n",
                "        resp = auth_client.post(\n",
                "            headless_reverse(\"headless:mfa:manage_recovery_codes\"),\n",
                "            content_type=\"application/json\",\n",
                "        )\n",
                "    assert resp.status_code == 200\n",
                "    data = resp.json()\n",
                "    assert data[\"data\"][\"type\"] == \"recovery_codes\"\n",
                "    assert len(data[\"data\"][\"unused_codes\"]) == 10\n"
            ]
        },
        {
            "cell_type": "markdown",
            "metadata": {},
            "source": []
        },
        {
            "cell_type": "code",
            "execution_count": null,
            "metadata": {},
            "outputs": [],
            "source": [
                "def test_get_totp_not_active(\n",
                "    auth_client,\n",
                "    user,\n",
                "    headless_reverse,\n",
                "):\n",
                "    resp = auth_client.get(headless_reverse(\"headless:mfa:manage_totp\"))\n",
                "    assert resp.status_code == 404\n",
                "    data = resp.json()\n",
                "    assert len(data[\"meta\"][\"secret\"]) == 32\n"
            ]
        },
        {
            "cell_type": "markdown",
            "metadata": {},
            "source": []
        },
        {
            "cell_type": "code",
            "execution_count": null,
            "metadata": {},
            "outputs": [],
            "source": [
                "def test_get_totp(\n",
                "    auth_client,\n",
                "    user_with_totp,\n",
                "    headless_reverse,\n",
                "):\n",
                "    resp = auth_client.get(headless_reverse(\"headless:mfa:manage_totp\"))\n",
                "    assert resp.status_code == 200\n",
                "    data = resp.json()\n",
                "    assert data[\"data\"][\"type\"] == \"totp\"\n",
                "    assert isinstance(data[\"data\"][\"created_at\"], float)\n"
            ]
        },
        {
            "cell_type": "markdown",
            "metadata": {},
            "source": []
        },
        {
            "cell_type": "code",
            "execution_count": null,
            "metadata": {},
            "outputs": [],
            "source": [
                "def test_deactivate_totp(\n",
                "    auth_client,\n",
                "    user_with_totp,\n",
                "    headless_reverse,\n",
                "    reauthentication_bypass,\n",
                "):\n",
                "    with reauthentication_bypass():\n",
                "        resp = auth_client.delete(headless_reverse(\"headless:mfa:manage_totp\"))\n",
                "    assert resp.status_code == 200\n",
                "    assert not Authenticator.objects.filter(user=user_with_totp).exists()\n"
            ]
        },
        {
            "cell_type": "markdown",
            "metadata": {},
            "source": []
        },
        {
            "cell_type": "code",
            "execution_count": null,
            "metadata": {},
            "outputs": [],
            "source": [
                "def test_activate_totp(\n",
                "    auth_client,\n",
                "    user,\n",
                "    headless_reverse,\n",
                "    reauthentication_bypass,\n",
                "    settings,\n",
                "    totp_validation_bypass,\n",
                "):\n",
                "    with reauthentication_bypass():\n",
                "        with totp_validation_bypass():\n",
                "            resp = auth_client.post(\n",
                "                headless_reverse(\"headless:mfa:manage_totp\"),\n",
                "                data={\"code\": \"42\"},\n",
                "                content_type=\"application/json\",\n",
                "            )\n",
                "    assert resp.status_code == 200\n",
                "    assert Authenticator.objects.filter(\n",
                "        user=user, type=Authenticator.Type.TOTP\n",
                "    ).exists()\n",
                "    data = resp.json()\n",
                "    assert data[\"data\"][\"type\"] == \"totp\"\n",
                "    assert isinstance(data[\"data\"][\"created_at\"], float)\n",
                "    assert data[\"data\"][\"last_used_at\"] is None\n",
                "\n"
            ]
        },
        {
            "cell_type": "markdown",
            "metadata": {},
            "source": []
        }
    ],
    "metadata": {
        "language_info": {
            "name": "python"
        }
    },
    "nbformat": 4,
    "nbformat_minor": 2
}