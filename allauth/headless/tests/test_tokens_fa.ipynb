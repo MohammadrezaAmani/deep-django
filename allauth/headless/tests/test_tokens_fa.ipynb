{
 "cells": [
  {
   "cell_type": "code",
   "execution_count": null,
   "metadata": {},
   "outputs": [],
   "source": [
    "from allauth.headless.tokens.sessions import SessionTokenStrategy"
   ]
  },
  {
   "cell_type": "markdown",
   "metadata": {},
   "source": []
  },
  {
   "cell_type": "code",
   "execution_count": null,
   "metadata": {},
   "outputs": [],
   "source": [
    "class DummyAccessTokenStrategy(SessionTokenStrategy):\n",
    "    def create_access_token(self, request):\n",
    "        return f\"at-user-{request.user.pk}\""
   ]
  },
  {
   "cell_type": "markdown",
   "metadata": {},
   "source": []
  },
  {
   "cell_type": "code",
   "execution_count": null,
   "metadata": {},
   "outputs": [],
   "source": [
    "def test_access_token(\n",
    "    client,\n",
    "    user,\n",
    "    user_password,\n",
    "    settings,\n",
    "    headless_reverse,\n",
    "    headless_client,\n",
    "):\n",
    "    settings.HEADLESS_TOKEN_STRATEGY = (\n",
    "        \"allauth.headless.tests.test_tokens.DummyAccessTokenStrategy\"\n",
    "    )\n",
    "    resp = client.post(\n",
    "        headless_reverse(\"headless:account:login\"),\n",
    "        data={\n",
    "            \"username\": user.username,\n",
    "            \"password\": user_password,\n",
    "        },\n",
    "        content_type=\"application/json\",\n",
    "    )\n",
    "    data = resp.json()\n",
    "    assert data[\"status\"] == 200\n",
    "    if headless_client == \"app\":\n",
    "        assert data[\"meta\"][\"access_token\"] == f\"at-user-{user.pk}\"\n",
    "    else:\n",
    "        assert \"access_token\" not in data[\"meta\"]"
   ]
  },
  {
   "cell_type": "markdown",
   "metadata": {},
   "source": []
  }
 ],
 "metadata": {
  "language_info": {
   "name": "python"
  }
 },
 "nbformat": 4,
 "nbformat_minor": 2
}