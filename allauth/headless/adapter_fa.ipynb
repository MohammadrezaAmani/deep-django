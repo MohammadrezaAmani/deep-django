{
 "cells": [
  {
   "cell_type": "code",
   "execution_count": null,
   "metadata": {},
   "outputs": [],
   "source": [
    "from allauth.core.internal.adapter import BaseAdapter\n",
    "from allauth.headless import app_settings\n",
    "from allauth.utils import import_attribute\n",
    "from django.forms.fields import Field"
   ]
  },
  {
   "cell_type": "markdown",
   "metadata": {},
   "source": []
  },
  {
   "cell_type": "code",
   "execution_count": null,
   "metadata": {},
   "outputs": [],
   "source": [
    "class DefaultHeadlessAdapter(BaseAdapter):\n",
    "    \"\"\"The adapter class allows you to override various functionality of the\n",
    "    ``allauth.headless`` app.  To do so, point ``settings.HEADLESS_ADAPTER`` to your own\n",
    "    class that derives from ``DefaultHeadlessAdapter`` and override the behavior by\n",
    "    altering the implementation of the methods according to your own need.\n",
    "    \"\"\"\n",
    "\n",
    "    error_messages = {\n",
    "        # For the following error messages i18n is not an issue as these should not be\n",
    "        # showing up in a UI.\n",
    "        \"account_not_found\": \"Unknown account.\",\n",
    "        \"client_id_required\": \"`client_id` required.\",\n",
    "        \"email_or_username\": \"Pass only one of email or username, not both.\",\n",
    "        \"invalid_token\": \"Invalid token.\",\n",
    "        \"token_authentication_not_supported\": \"Provider does not support token authentication.\",\n",
    "        \"token_required\": \"`id_token` and/or `access_token` required.\",\n",
    "        \"required\": Field.default_error_messages[\"required\"],\n",
    "        \"unknown_email\": \"Unknown email address.\",\n",
    "        \"invalid_url\": \"Invalid URL.\",\n",
    "    }"
   ]
  },
  {
   "cell_type": "markdown",
   "metadata": {},
   "source": []
  },
  {
   "cell_type": "code",
   "execution_count": null,
   "metadata": {},
   "outputs": [],
   "source": [
    "def get_adapter():\n",
    "    return import_attribute(app_settings.ADAPTER)()"
   ]
  },
  {
   "cell_type": "markdown",
   "metadata": {},
   "source": []
  }
 ],
 "metadata": {
  "language_info": {
   "name": "python"
  }
 },
 "nbformat": 4,
 "nbformat_minor": 2
}