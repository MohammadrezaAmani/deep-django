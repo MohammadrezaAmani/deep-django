{
    "cells": [
        {
            "cell_type": "code",
            "execution_count": null,
            "metadata": {},
            "outputs": [],
            "source": [
                "from django.core.exceptions import ImproperlyConfigured\n",
                "from django.core.validators import validate_email\n",
                "\n",
                "from allauth.account import app_settings as account_app_settings\n",
                "from allauth.account.adapter import get_adapter as get_account_adapter\n",
                "from allauth.account.forms import (\n",
                "    AddEmailForm,\n",
                "    BaseSignupForm,\n",
                "    ConfirmLoginCodeForm,\n",
                "    ReauthenticateForm,\n",
                "    RequestLoginCodeForm,\n",
                "    ResetPasswordForm,\n",
                "    UserTokenForm,\n",
                ")\n",
                "from allauth.account.internal import flows\n",
                "from allauth.account.models import EmailAddress, get_emailconfirmation_model\n",
                "from allauth.core import context\n",
                "from allauth.headless.adapter import get_adapter\n",
                "from allauth.headless.internal.restkit import inputs\n"
            ]
        },
        {
            "cell_type": "markdown",
            "metadata": {},
            "source": []
        },
        {
            "cell_type": "code",
            "execution_count": null,
            "metadata": {},
            "outputs": [],
            "source": [
                "class SignupInput(BaseSignupForm, inputs.Input):\n",
                "    password = inputs.CharField()\n",
                "\n",
                "    def clean_password(self):\n",
                "        password = self.cleaned_data[\"password\"]\n",
                "        return get_account_adapter().clean_password(password)\n"
            ]
        },
        {
            "cell_type": "markdown",
            "metadata": {},
            "source": []
        },
        {
            "cell_type": "code",
            "execution_count": null,
            "metadata": {},
            "outputs": [],
            "source": [
                "class LoginInput(inputs.Input):\n",
                "    username = inputs.CharField(required=False)\n",
                "    email = inputs.EmailField(required=False)\n",
                "    password = inputs.CharField()\n",
                "\n",
                "    def clean(self):\n",
                "        cleaned_data = super().clean()\n",
                "        username = None\n",
                "        email = None\n",
                "\n",
                "        if (\n",
                "            account_app_settings.AUTHENTICATION_METHOD\n",
                "            == account_app_settings.AuthenticationMethod.USERNAME\n",
                "        ):\n",
                "            username = cleaned_data.get(\"username\")\n",
                "            missing_field = \"username\"\n",
                "        elif (\n",
                "            account_app_settings.AUTHENTICATION_METHOD\n",
                "            == account_app_settings.AuthenticationMethod.EMAIL\n",
                "        ):\n",
                "            email = cleaned_data.get(\"email\")\n",
                "            missing_field = \"email\"\n",
                "        elif (\n",
                "            account_app_settings.AUTHENTICATION_METHOD\n",
                "            == account_app_settings.AuthenticationMethod.USERNAME_EMAIL\n",
                "        ):\n",
                "            username = cleaned_data.get(\"username\")\n",
                "            email = cleaned_data.get(\"email\")\n",
                "            missing_field = \"email\"\n",
                "            if email and username:\n",
                "                raise get_adapter().validation_error(\"email_or_username\")\n",
                "        else:\n",
                "            raise ImproperlyConfigured(account_app_settings.AUTHENTICATION_METHOD)\n",
                "\n",
                "        if not email and not username:\n",
                "            if not self.errors.get(missing_field):\n",
                "                self.add_error(\n",
                "                    missing_field, get_adapter().validation_error(\"required\")\n",
                "                )\n",
                "\n",
                "        password = cleaned_data.get(\"password\")\n",
                "        if password and (username or email):\n",
                "            credentials = {\"password\": password}\n",
                "            if email:\n",
                "                credentials[\"email\"] = email\n",
                "                auth_method = account_app_settings.AuthenticationMethod.EMAIL\n",
                "            else:\n",
                "                credentials[\"username\"] = username\n",
                "                auth_method = account_app_settings.AuthenticationMethod.USERNAME\n",
                "            self.user = get_account_adapter().authenticate(\n",
                "                context.request, **credentials\n",
                "            )\n",
                "            if not self.user:\n",
                "                error_code = \"%s_password_mismatch\" % auth_method\n",
                "                self.add_error(\n",
                "                    \"password\", get_account_adapter().validation_error(error_code)\n",
                "                )\n",
                "        return cleaned_data\n"
            ]
        },
        {
            "cell_type": "markdown",
            "metadata": {},
            "source": []
        },
        {
            "cell_type": "code",
            "execution_count": null,
            "metadata": {},
            "outputs": [],
            "source": [
                "class VerifyEmailInput(inputs.Input):\n",
                "    key = inputs.CharField()\n",
                "\n",
                "    def clean_key(self):\n",
                "        key = self.cleaned_data[\"key\"]\n",
                "        model = get_emailconfirmation_model()\n",
                "        confirmation = model.from_key(key)\n",
                "        if (\n",
                "            not confirmation\n",
                "            or confirmation.key_expired()\n",
                "            or not confirmation.email_address.can_set_verified()\n",
                "        ):\n",
                "            raise get_account_adapter().validation_error(\"invalid_or_expired_key\")\n",
                "\n",
                "        return confirmation\n"
            ]
        },
        {
            "cell_type": "markdown",
            "metadata": {},
            "source": []
        },
        {
            "cell_type": "code",
            "execution_count": null,
            "metadata": {},
            "outputs": [],
            "source": [
                "class RequestPasswordResetInput(ResetPasswordForm, inputs.Input):\n",
                "    pass\n"
            ]
        },
        {
            "cell_type": "markdown",
            "metadata": {},
            "source": []
        },
        {
            "cell_type": "code",
            "execution_count": null,
            "metadata": {},
            "outputs": [],
            "source": [
                "class ResetPasswordKeyInput(inputs.Input):\n",
                "    key = inputs.CharField()\n",
                "\n",
                "    def __init__(self, *args, **kwargs):\n",
                "        self.user = None\n",
                "        super().__init__(*args, **kwargs)\n",
                "\n",
                "    def clean_key(self):\n",
                "        key = self.cleaned_data[\"key\"]\n",
                "        uidb36, _, subkey = key.partition(\"-\")\n",
                "        token_form = UserTokenForm(data={\"uidb36\": uidb36, \"key\": subkey})\n",
                "        if not token_form.is_valid():\n",
                "            raise get_account_adapter().validation_error(\"invalid_password_reset\")\n",
                "        self.user = token_form.reset_user\n",
                "        return key\n"
            ]
        },
        {
            "cell_type": "markdown",
            "metadata": {},
            "source": []
        },
        {
            "cell_type": "code",
            "execution_count": null,
            "metadata": {},
            "outputs": [],
            "source": [
                "class ResetPasswordInput(ResetPasswordKeyInput):\n",
                "    password = inputs.CharField()\n",
                "\n",
                "    def clean(self):\n",
                "        cleaned_data = super().clean()\n",
                "        password = self.cleaned_data.get(\"password\")\n",
                "        if self.user and password is not None:\n",
                "            get_account_adapter().clean_password(password, user=self.user)\n",
                "        return cleaned_data\n"
            ]
        },
        {
            "cell_type": "markdown",
            "metadata": {},
            "source": []
        },
        {
            "cell_type": "code",
            "execution_count": null,
            "metadata": {},
            "outputs": [],
            "source": [
                "class ChangePasswordInput(inputs.Input):\n",
                "    current_password = inputs.CharField(required=False)\n",
                "    new_password = inputs.CharField()\n",
                "\n",
                "    def __init__(self, *args, **kwargs):\n",
                "        self.user = kwargs.pop(\"user\")\n",
                "        super().__init__(*args, **kwargs)\n",
                "        self.fields[\"current_password\"].required = self.user.has_usable_password()\n",
                "\n",
                "    def clean_current_password(self):\n",
                "        current_password = self.cleaned_data[\"current_password\"]\n",
                "        if current_password:\n",
                "            if not self.user.check_password(current_password):\n",
                "                raise get_account_adapter().validation_error(\"enter_current_password\")\n",
                "        return current_password\n",
                "\n",
                "    def clean_new_password(self):\n",
                "        new_password = self.cleaned_data[\"new_password\"]\n",
                "        adapter = get_account_adapter()\n",
                "        return adapter.clean_password(new_password, user=self.user)\n"
            ]
        },
        {
            "cell_type": "markdown",
            "metadata": {},
            "source": []
        },
        {
            "cell_type": "code",
            "execution_count": null,
            "metadata": {},
            "outputs": [],
            "source": [
                "class AddEmailInput(AddEmailForm, inputs.Input):\n",
                "    pass\n"
            ]
        },
        {
            "cell_type": "markdown",
            "metadata": {},
            "source": []
        },
        {
            "cell_type": "code",
            "execution_count": null,
            "metadata": {},
            "outputs": [],
            "source": [
                "class SelectEmailInput(inputs.Input):\n",
                "    email = inputs.CharField()\n",
                "\n",
                "    def __init__(self, *args, **kwargs):\n",
                "        self.user = kwargs.pop(\"user\")\n",
                "        super().__init__(*args, **kwargs)\n",
                "\n",
                "    def clean_email(self):\n",
                "        email = self.cleaned_data[\"email\"]\n",
                "        validate_email(email)\n",
                "        try:\n",
                "            return EmailAddress.objects.get_for_user(user=self.user, email=email)\n",
                "        except EmailAddress.DoesNotExist:\n",
                "            raise get_adapter().validation_error(\"unknown_email\")\n"
            ]
        },
        {
            "cell_type": "markdown",
            "metadata": {},
            "source": []
        },
        {
            "cell_type": "code",
            "execution_count": null,
            "metadata": {},
            "outputs": [],
            "source": [
                "class DeleteEmailInput(SelectEmailInput):\n",
                "    def clean_email(self):\n",
                "        email = super().clean_email()\n",
                "        if not flows.manage_email.can_delete_email(email):\n",
                "            raise get_account_adapter().validation_error(\"cannot_remove_primary_email\")\n",
                "        return email\n"
            ]
        },
        {
            "cell_type": "markdown",
            "metadata": {},
            "source": []
        },
        {
            "cell_type": "code",
            "execution_count": null,
            "metadata": {},
            "outputs": [],
            "source": [
                "class MarkAsPrimaryEmailInput(SelectEmailInput):\n",
                "    primary = inputs.BooleanField(required=True)\n",
                "\n",
                "    def clean_email(self):\n",
                "        email = super().clean_email()\n",
                "        if not flows.manage_email.can_mark_as_primary(email):\n",
                "            raise get_account_adapter().validation_error(\"unverified_primary_email\")\n",
                "        return email\n"
            ]
        },
        {
            "cell_type": "markdown",
            "metadata": {},
            "source": []
        },
        {
            "cell_type": "code",
            "execution_count": null,
            "metadata": {},
            "outputs": [],
            "source": [
                "class ReauthenticateInput(ReauthenticateForm, inputs.Input):\n",
                "    pass\n"
            ]
        },
        {
            "cell_type": "markdown",
            "metadata": {},
            "source": []
        },
        {
            "cell_type": "code",
            "execution_count": null,
            "metadata": {},
            "outputs": [],
            "source": [
                "class RequestLoginCodeInput(RequestLoginCodeForm, inputs.Input):\n",
                "    pass\n"
            ]
        },
        {
            "cell_type": "markdown",
            "metadata": {},
            "source": []
        },
        {
            "cell_type": "code",
            "execution_count": null,
            "metadata": {},
            "outputs": [],
            "source": [
                "class ConfirmLoginCodeInput(ConfirmLoginCodeForm, inputs.Input):\n",
                "    pass\n",
                "\n"
            ]
        },
        {
            "cell_type": "markdown",
            "metadata": {},
            "source": []
        }
    ],
    "metadata": {
        "language_info": {
            "name": "python"
        }
    },
    "nbformat": 4,
    "nbformat_minor": 2
}