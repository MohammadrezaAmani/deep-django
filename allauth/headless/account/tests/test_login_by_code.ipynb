{
 "cells": [
  {
   "cell_type": "code",
   "execution_count": null,
   "metadata": {},
   "outputs": [],
   "source": [
    "from allauth.headless.constants import Flow"
   ]
  },
  {
   "cell_type": "markdown",
   "metadata": {},
   "source": []
  },
  {
   "cell_type": "code",
   "execution_count": null,
   "metadata": {},
   "outputs": [],
   "source": [
    "def test_login_by_code(headless_reverse, user, client, mailoutbox):\n",
    "    resp = client.post(\n",
    "        headless_reverse(\"headless:account:request_login_code\"),\n",
    "        data={\"email\": user.email},\n",
    "        content_type=\"application/json\",\n",
    "    )\n",
    "    assert resp.status_code == 401\n",
    "    data = resp.json()\n",
    "    assert [f for f in data[\"data\"][\"flows\"] if f[\"id\"] == Flow.LOGIN_BY_CODE][0][\n",
    "        \"is_pending\"\n",
    "    ]\n",
    "    assert len(mailoutbox) == 1\n",
    "    code = [line for line in mailoutbox[0].body.splitlines() if len(line) == 6][0]\n",
    "    resp = client.post(\n",
    "        headless_reverse(\"headless:account:confirm_login_code\"),\n",
    "        data={\"code\": code},\n",
    "        content_type=\"application/json\",\n",
    "    )\n",
    "    assert resp.status_code == 200\n",
    "    data = resp.json()\n",
    "    assert data[\"meta\"][\"is_authenticated\"]"
   ]
  },
  {
   "cell_type": "markdown",
   "metadata": {},
   "source": []
  },
  {
   "cell_type": "code",
   "execution_count": null,
   "metadata": {},
   "outputs": [],
   "source": [
    "def test_login_by_code_rate_limit(\n",
    "    headless_reverse, user, client, mailoutbox, settings, enable_cache\n",
    "):\n",
    "    settings.ACCOUNT_RATE_LIMITS = {\"request_login_code\": \"1/m/ip\"}\n",
    "    for attempt in range(2):\n",
    "        resp = client.post(\n",
    "            headless_reverse(\"headless:account:request_login_code\"),\n",
    "            data={\"email\": user.email},\n",
    "            content_type=\"application/json\",\n",
    "        )\n",
    "        expected_code = 400 if attempt else 401\n",
    "        assert resp.status_code == expected_code\n",
    "        data = resp.json()\n",
    "        assert data[\"status\"] == expected_code\n",
    "        if expected_code == 400:\n",
    "            assert data[\"errors\"] == [\n",
    "                {\n",
    "                    \"code\": \"too_many_login_attempts\",\n",
    "                    \"message\": \"Too many failed login attempts. Try again later.\",\n",
    "                    \"param\": \"email\",\n",
    "                },\n",
    "            ]"
   ]
  },
  {
   "cell_type": "markdown",
   "metadata": {},
   "source": []
  }
 ],
 "metadata": {
  "language_info": {
   "name": "python"
  }
 },
 "nbformat": 4,
 "nbformat_minor": 2
}