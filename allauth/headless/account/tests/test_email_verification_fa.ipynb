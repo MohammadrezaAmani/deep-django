{
    "cells": [
        {
            "cell_type": "code",
            "execution_count": null,
            "metadata": {},
            "outputs": [],
            "source": [
                "from allauth.account.models import EmailAddress, get_emailconfirmation_model\n",
                "from allauth.headless.constants import Flow\n"
            ]
        },
        {
            "cell_type": "markdown",
            "metadata": {},
            "source": []
        },
        {
            "cell_type": "code",
            "execution_count": null,
            "metadata": {},
            "outputs": [],
            "source": [
                "def test_auth_unverified_email(\n",
                "    client, user_factory, password_factory, settings, headless_reverse\n",
                "):\n",
                "    settings.ACCOUNT_AUTHENTICATION_METHOD = \"email\"\n",
                "    settings.ACCOUNT_EMAIL_VERIFICATION = \"mandatory\"\n",
                "    password = password_factory()\n",
                "    user = user_factory(email_verified=False, password=password)\n",
                "    resp = client.post(\n",
                "        headless_reverse(\"headless:account:login\"),\n",
                "        data={\n",
                "            \"email\": user.email,\n",
                "            \"password\": password,\n",
                "        },\n",
                "        content_type=\"application/json\",\n",
                "    )\n",
                "    assert resp.status_code == 401\n",
                "    data = resp.json()\n",
                "    flows = data[\"data\"][\"flows\"]\n",
                "    assert [f for f in flows if f[\"id\"] == Flow.VERIFY_EMAIL][0][\"is_pending\"]\n",
                "    emailaddress = EmailAddress.objects.filter(user=user, verified=False).get()\n",
                "    key = get_emailconfirmation_model().create(emailaddress).key\n",
                "    resp = client.post(\n",
                "        headless_reverse(\"headless:account:verify_email\"),\n",
                "        data={\"key\": key},\n",
                "        content_type=\"application/json\",\n",
                "    )\n",
                "    assert resp.status_code == 200\n"
            ]
        },
        {
            "cell_type": "markdown",
            "metadata": {},
            "source": []
        },
        {
            "cell_type": "code",
            "execution_count": null,
            "metadata": {},
            "outputs": [],
            "source": [
                "def test_verify_email_bad_key(\n",
                "    client, settings, password_factory, user_factory, headless_reverse\n",
                "):\n",
                "    settings.ACCOUNT_AUTHENTICATION_METHOD = \"email\"\n",
                "    settings.ACCOUNT_EMAIL_VERIFICATION = \"mandatory\"\n",
                "    password = password_factory()\n",
                "    user = user_factory(email_verified=False, password=password)\n",
                "    resp = client.post(\n",
                "        headless_reverse(\"headless:account:login\"),\n",
                "        data={\n",
                "            \"email\": user.email,\n",
                "            \"password\": password,\n",
                "        },\n",
                "        content_type=\"application/json\",\n",
                "    )\n",
                "    assert resp.status_code == 401\n",
                "    resp = client.post(\n",
                "        headless_reverse(\"headless:account:verify_email\"),\n",
                "        data={\"key\": \"bad\"},\n",
                "        content_type=\"application/json\",\n",
                "    )\n",
                "    assert resp.status_code == 400\n",
                "    assert resp.json() == {\n",
                "        \"status\": 400,\n",
                "        \"errors\": [\n",
                "            {\n",
                "                \"code\": \"invalid_or_expired_key\",\n",
                "                \"param\": \"key\",\n",
                "                \"message\": \"Invalid or expired key.\",\n",
                "            }\n",
                "        ],\n",
                "    }\n",
                "\n"
            ]
        },
        {
            "cell_type": "markdown",
            "metadata": {},
            "source": []
        }
    ],
    "metadata": {
        "language_info": {
            "name": "python"
        }
    },
    "nbformat": 4,
    "nbformat_minor": 2
}