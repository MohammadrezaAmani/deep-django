{
    "cells": [
        {
            "cell_type": "code",
            "execution_count": null,
            "metadata": {},
            "outputs": [],
            "source": [
                "def test_reauthenticate(\n",
                "    auth_client, user, user_password, headless_reverse, headless_client\n",
                "):\n",
                "    resp = auth_client.get(\n",
                "        headless_reverse(\"headless:account:current_session\"),\n",
                "        content_type=\"application/json\",\n",
                "    )\n",
                "    assert resp.status_code == 200\n",
                "    data = resp.json()\n",
                "    method_count = len(data[\"data\"][\"methods\"])\n",
                "\n",
                "    resp = auth_client.post(\n",
                "        headless_reverse(\"headless:account:reauthenticate\"),\n",
                "        data={\n",
                "            \"password\": user_password,\n",
                "        },\n",
                "        content_type=\"application/json\",\n",
                "    )\n",
                "    assert resp.status_code == 200\n",
                "\n",
                "    resp = auth_client.get(\n",
                "        headless_reverse(\"headless:account:current_session\"),\n",
                "        content_type=\"application/json\",\n",
                "    )\n",
                "    assert resp.status_code == 200\n",
                "    data = resp.json()\n",
                "    assert len(data[\"data\"][\"methods\"]) == method_count + 1\n",
                "    last_method = data[\"data\"][\"methods\"][-1]\n",
                "    assert last_method[\"method\"] == \"password\"\n"
            ]
        },
        {
            "cell_type": "markdown",
            "metadata": {},
            "source": []
        },
        {
            "cell_type": "code",
            "execution_count": null,
            "metadata": {},
            "outputs": [],
            "source": [
                "def test_reauthenticate_rate_limit(\n",
                "    auth_client,\n",
                "    user,\n",
                "    user_password,\n",
                "    headless_reverse,\n",
                "    headless_client,\n",
                "    settings,\n",
                "    enable_cache,\n",
                "):\n",
                "    settings.ACCOUNT_RATE_LIMITS = {\"reauthenticate\": \"1/m/ip\"}\n",
                "    for attempt in range(4):\n",
                "        resp = auth_client.post(\n",
                "            headless_reverse(\"headless:account:reauthenticate\"),\n",
                "            data={\n",
                "                \"password\": user_password,\n",
                "            },\n",
                "            content_type=\"application/json\",\n",
                "        )\n",
                "        expected_status = 429 if attempt else 200\n",
                "        assert resp.status_code == expected_status\n",
                "        assert resp.json()[\"status\"] == expected_status\n",
                "\n"
            ]
        },
        {
            "cell_type": "markdown",
            "metadata": {},
            "source": []
        }
    ],
    "metadata": {
        "language_info": {
            "name": "python"
        }
    },
    "nbformat": 4,
    "nbformat_minor": 2
}