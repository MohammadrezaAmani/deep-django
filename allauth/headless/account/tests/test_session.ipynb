{
    "cells": [
        {
            "cell_type": "code",
            "execution_count": null,
            "metadata": {},
            "outputs": [],
            "source": [
                "from django.test.client import Client\n",
                "from django.urls import reverse\n"
            ]
        },
        {
            "cell_type": "markdown",
            "metadata": {},
            "source": []
        },
        {
            "cell_type": "code",
            "execution_count": null,
            "metadata": {},
            "outputs": [],
            "source": [
                "def test_app_session_gone(db, user):\n",
                "    # intentionally use a vanilla Django test client\n",
                "    client = Client()\n",
                "    # Force login, creates a Django session\n",
                "    client.force_login(user)\n",
                "    # That Django session should not play any role.\n",
                "    resp = client.get(\n",
                "        reverse(\"headless:app:account:current_session\"), HTTP_X_SESSION_TOKEN=\"gone\"\n",
                "    )\n",
                "    assert resp.status_code == 410\n"
            ]
        },
        {
            "cell_type": "markdown",
            "metadata": {},
            "source": []
        },
        {
            "cell_type": "code",
            "execution_count": null,
            "metadata": {},
            "outputs": [],
            "source": [
                "def test_logout(auth_client, headless_reverse):\n",
                "    # That Django session should not play any role.\n",
                "    resp = auth_client.get(headless_reverse(\"headless:account:current_session\"))\n",
                "    assert resp.status_code == 200\n",
                "    resp = auth_client.delete(headless_reverse(\"headless:account:current_session\"))\n",
                "    assert resp.status_code == 401\n",
                "    resp = auth_client.get(headless_reverse(\"headless:account:current_session\"))\n",
                "    assert resp.status_code in [401, 410]\n"
            ]
        },
        {
            "cell_type": "markdown",
            "metadata": {},
            "source": []
        },
        {
            "cell_type": "code",
            "execution_count": null,
            "metadata": {},
            "outputs": [],
            "source": [
                "def test_logout_no_token(app_client, user):\n",
                "    app_client.force_login(user)\n",
                "    resp = app_client.get(reverse(\"headless:app:account:current_session\"))\n",
                "    assert resp.status_code == 200\n",
                "    resp = app_client.delete(reverse(\"headless:app:account:current_session\"))\n",
                "    assert resp.status_code == 401\n",
                "    assert \"session_token\" not in resp.json()[\"meta\"]\n",
                "\n"
            ]
        },
        {
            "cell_type": "markdown",
            "metadata": {},
            "source": []
        }
    ],
    "metadata": {
        "language_info": {
            "name": "python"
        }
    },
    "nbformat": 4,
    "nbformat_minor": 2
}