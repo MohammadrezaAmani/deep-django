{
 "cells": [
  {
   "cell_type": "code",
   "execution_count": null,
   "metadata": {},
   "outputs": [],
   "source": [
    "from allauth.account.models import EmailAddress"
   ]
  },
  {
   "cell_type": "markdown",
   "metadata": {},
   "source": []
  },
  {
   "cell_type": "code",
   "execution_count": null,
   "metadata": {},
   "outputs": [],
   "source": [
    "def test_list_email(auth_client, user, headless_reverse):\n",
    "    resp = auth_client.get(\n",
    "        headless_reverse(\"headless:account:manage_email\"),\n",
    "    )\n",
    "    assert len(resp.json()[\"data\"]) == 1"
   ]
  },
  {
   "cell_type": "markdown",
   "metadata": {},
   "source": []
  },
  {
   "cell_type": "code",
   "execution_count": null,
   "metadata": {},
   "outputs": [],
   "source": [
    "def test_remove_email(auth_client, user, email_factory, headless_reverse):\n",
    "    addr = EmailAddress.objects.create(email=email_factory(), user=user)\n",
    "    assert EmailAddress.objects.filter(user=user).count() == 2\n",
    "    resp = auth_client.delete(\n",
    "        headless_reverse(\"headless:account:manage_email\"),\n",
    "        data={\"email\": addr.email},\n",
    "        content_type=\"application/json\",\n",
    "    )\n",
    "    assert resp.status_code == 200\n",
    "    assert len(resp.json()[\"data\"]) == 1\n",
    "    assert not EmailAddress.objects.filter(pk=addr.pk).exists()"
   ]
  },
  {
   "cell_type": "markdown",
   "metadata": {},
   "source": []
  },
  {
   "cell_type": "code",
   "execution_count": null,
   "metadata": {},
   "outputs": [],
   "source": [
    "def test_add_email(auth_client, user, email_factory, headless_reverse):\n",
    "    new_email = email_factory()\n",
    "    resp = auth_client.post(\n",
    "        headless_reverse(\"headless:account:manage_email\"),\n",
    "        data={\"email\": new_email},\n",
    "        content_type=\"application/json\",\n",
    "    )\n",
    "    assert resp.status_code == 200\n",
    "    assert len(resp.json()[\"data\"]) == 2\n",
    "    assert EmailAddress.objects.filter(email=new_email, verified=False).exists()"
   ]
  },
  {
   "cell_type": "markdown",
   "metadata": {},
   "source": []
  },
  {
   "cell_type": "code",
   "execution_count": null,
   "metadata": {},
   "outputs": [],
   "source": [
    "def test_change_primary(auth_client, user, email_factory, headless_reverse):\n",
    "    addr = EmailAddress.objects.create(\n",
    "        email=email_factory(), user=user, verified=True, primary=False\n",
    "    )\n",
    "    resp = auth_client.patch(\n",
    "        headless_reverse(\"headless:account:manage_email\"),\n",
    "        data={\"email\": addr.email, \"primary\": True},\n",
    "        content_type=\"application/json\",\n",
    "    )\n",
    "    assert resp.status_code == 200\n",
    "    assert len(resp.json()[\"data\"]) == 2\n",
    "    assert EmailAddress.objects.filter(pk=addr.pk, primary=True).exists()"
   ]
  },
  {
   "cell_type": "markdown",
   "metadata": {},
   "source": []
  },
  {
   "cell_type": "code",
   "execution_count": null,
   "metadata": {},
   "outputs": [],
   "source": [
    "def test_resend_verification(\n",
    "    auth_client, user, email_factory, headless_reverse, mailoutbox\n",
    "):\n",
    "    addr = EmailAddress.objects.create(email=email_factory(), user=user, verified=False)\n",
    "    resp = auth_client.put(\n",
    "        headless_reverse(\"headless:account:manage_email\"),\n",
    "        data={\"email\": addr.email},\n",
    "        content_type=\"application/json\",\n",
    "    )\n",
    "    assert resp.status_code == 200\n",
    "    assert len(mailoutbox) == 1"
   ]
  },
  {
   "cell_type": "markdown",
   "metadata": {},
   "source": []
  },
  {
   "cell_type": "code",
   "execution_count": null,
   "metadata": {},
   "outputs": [],
   "source": [
    "def test_email_rate_limit(\n",
    "    auth_client, user, email_factory, headless_reverse, settings, enable_cache\n",
    "):\n",
    "    settings.ACCOUNT_RATE_LIMITS = {\"manage_email\": \"1/m/ip\"}\n",
    "    for attempt in range(2):\n",
    "        new_email = email_factory()\n",
    "        resp = auth_client.post(\n",
    "            headless_reverse(\"headless:account:manage_email\"),\n",
    "            data={\"email\": new_email},\n",
    "            content_type=\"application/json\",\n",
    "        )\n",
    "        expected_status = 200 if attempt == 0 else 429\n",
    "        assert resp.status_code == expected_status\n",
    "        assert resp.json()[\"status\"] == expected_status"
   ]
  },
  {
   "cell_type": "markdown",
   "metadata": {},
   "source": []
  },
  {
   "cell_type": "code",
   "execution_count": null,
   "metadata": {},
   "outputs": [],
   "source": [
    "def test_resend_verification_rate_limit(\n",
    "    auth_client,\n",
    "    user,\n",
    "    email_factory,\n",
    "    headless_reverse,\n",
    "    settings,\n",
    "    enable_cache,\n",
    "    mailoutbox,\n",
    "):\n",
    "    settings.ACCOUNT_RATE_LIMITS = {\"confirm_email\": \"1/m/ip\"}\n",
    "    for attempt in range(2):\n",
    "        addr = EmailAddress.objects.create(\n",
    "            email=email_factory(), user=user, verified=False\n",
    "        )\n",
    "        resp = auth_client.put(\n",
    "            headless_reverse(\"headless:account:manage_email\"),\n",
    "            data={\"email\": addr.email},\n",
    "            content_type=\"application/json\",\n",
    "        )\n",
    "        assert resp.status_code == 403 if attempt else 200\n",
    "        assert len(mailoutbox) == 1"
   ]
  },
  {
   "cell_type": "markdown",
   "metadata": {},
   "source": []
  }
 ],
 "metadata": {
  "language_info": {
   "name": "python"
  }
 },
 "nbformat": 4,
 "nbformat_minor": 2
}