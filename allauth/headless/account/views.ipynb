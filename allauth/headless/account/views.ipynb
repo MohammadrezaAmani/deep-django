{
 "cells": [
  {
   "cell_type": "code",
   "execution_count": null,
   "metadata": {},
   "outputs": [],
   "source": [
    "from django.utils.decorators import method_decorator\n",
    "\n",
    "from allauth.account.adapter import get_adapter as get_account_adapter\n",
    "from allauth.account.internal import flows\n",
    "from allauth.account.internal.flows import password_change, password_reset\n",
    "from allauth.account.models import EmailAddress, Login\n",
    "from allauth.account.stages import EmailVerificationStage, LoginStageController\n",
    "from allauth.account.utils import complete_signup, send_email_confirmation\n",
    "from allauth.core import ratelimit\n",
    "from allauth.core.exceptions import ImmediateHttpResponse\n",
    "from allauth.decorators import rate_limit\n",
    "from allauth.headless.account import response\n",
    "from allauth.headless.account.inputs import (\n",
    "    AddEmailInput,\n",
    "    ChangePasswordInput,\n",
    "    ConfirmLoginCodeInput,\n",
    "    DeleteEmailInput,\n",
    "    LoginInput,\n",
    "    MarkAsPrimaryEmailInput,\n",
    "    ReauthenticateInput,\n",
    "    RequestLoginCodeInput,\n",
    "    RequestPasswordResetInput,\n",
    "    ResetPasswordInput,\n",
    "    ResetPasswordKeyInput,\n",
    "    SelectEmailInput,\n",
    "    SignupInput,\n",
    "    VerifyEmailInput,\n",
    ")\n",
    "from allauth.headless.base.response import APIResponse, AuthenticationResponse\n",
    "from allauth.headless.base.views import APIView, AuthenticatedAPIView\n",
    "from allauth.headless.internal.restkit.response import ErrorResponse"
   ]
  },
  {
   "cell_type": "markdown",
   "metadata": {},
   "source": []
  },
  {
   "cell_type": "code",
   "execution_count": null,
   "metadata": {},
   "outputs": [],
   "source": [
    "class RequestLoginCodeView(APIView):\n",
    "    input_class = RequestLoginCodeInput\n",
    "\n",
    "    def post(self, request, *args, **kwargs):\n",
    "        flows.login_by_code.request_login_code(\n",
    "            self.request, self.input.cleaned_data[\"email\"]\n",
    "        )\n",
    "        return AuthenticationResponse(self.request)"
   ]
  },
  {
   "cell_type": "markdown",
   "metadata": {},
   "source": []
  },
  {
   "cell_type": "code",
   "execution_count": null,
   "metadata": {},
   "outputs": [],
   "source": [
    "class ConfirmLoginCodeView(APIView):\n",
    "    input_class = ConfirmLoginCodeInput\n",
    "\n",
    "    def dispatch(self, request, *args, **kwargs):\n",
    "        self.user, self.pending_login = flows.login_by_code.get_pending_login(\n",
    "            request, peek=True\n",
    "        )\n",
    "        return super().dispatch(request, *args, **kwargs)\n",
    "\n",
    "    def post(self, request, *args, **kwargs):\n",
    "        flows.login_by_code.perform_login_by_code(\n",
    "            self.request, self.user, None, self.pending_login\n",
    "        )\n",
    "        return AuthenticationResponse(request)\n",
    "\n",
    "    def get_input_kwargs(self):\n",
    "        kwargs = super().get_input_kwargs()\n",
    "        kwargs[\"code\"] = self.pending_login.get(\"code\") if self.pending_login else \"\"\n",
    "        return kwargs"
   ]
  },
  {
   "cell_type": "markdown",
   "metadata": {},
   "source": []
  },
  {
   "cell_type": "code",
   "execution_count": null,
   "metadata": {},
   "outputs": [],
   "source": [
    "@method_decorator(rate_limit(action=\"login\"), name=\"handle\")\n",
    "class LoginView(APIView):\n",
    "    input_class = LoginInput\n",
    "\n",
    "    def post(self, request, *args, **kwargs):\n",
    "        credentials = self.input.cleaned_data\n",
    "        user = get_account_adapter().authenticate(self.request, **credentials)\n",
    "        if user:\n",
    "            login = Login(user=user, email=credentials.get(\"email\"))\n",
    "            flows.login.perform_password_login(request, credentials, login)\n",
    "        return AuthenticationResponse(self.request)"
   ]
  },
  {
   "cell_type": "markdown",
   "metadata": {},
   "source": []
  },
  {
   "cell_type": "code",
   "execution_count": null,
   "metadata": {},
   "outputs": [],
   "source": [
    "@method_decorator(rate_limit(action=\"signup\"), name=\"handle\")\n",
    "class SignupView(APIView):\n",
    "    input_class = SignupInput\n",
    "\n",
    "    def post(self, request, *args, **kwargs):\n",
    "        user, resp = self.input.try_save(request)\n",
    "        if not resp:\n",
    "            try:\n",
    "                complete_signup(\n",
    "                    request,\n",
    "                    user,\n",
    "                    email_verification=None,\n",
    "                    success_url=None,\n",
    "                )\n",
    "            except ImmediateHttpResponse:\n",
    "                pass\n",
    "        return AuthenticationResponse(request)"
   ]
  },
  {
   "cell_type": "markdown",
   "metadata": {},
   "source": []
  },
  {
   "cell_type": "code",
   "execution_count": null,
   "metadata": {},
   "outputs": [],
   "source": [
    "class SessionView(AuthenticatedAPIView):\n",
    "    def get(self, request, *args, **kwargs):\n",
    "        return AuthenticationResponse(request)\n",
    "\n",
    "    def delete(self, request, *args, **kwargs):\n",
    "        adapter = get_account_adapter()\n",
    "        adapter.logout(request)\n",
    "        return AuthenticationResponse(request)"
   ]
  },
  {
   "cell_type": "markdown",
   "metadata": {},
   "source": []
  },
  {
   "cell_type": "code",
   "execution_count": null,
   "metadata": {},
   "outputs": [],
   "source": [
    "class VerifyEmailView(APIView):\n",
    "    input_class = VerifyEmailInput\n",
    "\n",
    "    def handle(self, request, *args, **kwargs):\n",
    "        self.stage = LoginStageController.enter(request, EmailVerificationStage.key)\n",
    "        return super().handle(request, *args, **kwargs)\n",
    "\n",
    "    def get(self, request, *args, **kwargs):\n",
    "        key = request.headers.get(\"x-email-verification-key\", \"\")\n",
    "        input = self.input_class({\"key\": key})\n",
    "        if not input.is_valid():\n",
    "            return ErrorResponse(request, input=input)\n",
    "        verification = input.cleaned_data[\"key\"]\n",
    "        return response.VerifyEmailResponse(request, verification, stage=self.stage)\n",
    "\n",
    "    def post(self, request, *args, **kwargs):\n",
    "        confirmation = self.input.cleaned_data[\"key\"]\n",
    "        email_address = confirmation.confirm(request)\n",
    "        if not email_address:\n",
    "            # Should not happen, VerifyInputInput should have verified all\n",
    "            # preconditions.\n",
    "            return APIResponse(status=500)\n",
    "        if self.stage:\n",
    "            # Verifying email as part of login/signup flow, so emit a\n",
    "            # authentication status response.\n",
    "            self.stage.exit()\n",
    "        return AuthenticationResponse(self.request)"
   ]
  },
  {
   "cell_type": "markdown",
   "metadata": {},
   "source": []
  },
  {
   "cell_type": "code",
   "execution_count": null,
   "metadata": {},
   "outputs": [],
   "source": [
    "class RequestPasswordResetView(APIView):\n",
    "    input_class = RequestPasswordResetInput\n",
    "\n",
    "    def post(self, request, *args, **kwargs):\n",
    "        r429 = ratelimit.consume_or_429(\n",
    "            self.request,\n",
    "            action=\"reset_password\",\n",
    "            key=self.input.cleaned_data[\"email\"].lower(),\n",
    "        )\n",
    "        if r429:\n",
    "            return r429\n",
    "        self.input.save(request)\n",
    "        return response.RequestPasswordResponse(request)"
   ]
  },
  {
   "cell_type": "markdown",
   "metadata": {},
   "source": []
  },
  {
   "cell_type": "code",
   "execution_count": null,
   "metadata": {},
   "outputs": [],
   "source": [
    "@method_decorator(rate_limit(action=\"reset_password_from_key\"), name=\"handle\")\n",
    "class ResetPasswordView(APIView):\n",
    "    input_class = ResetPasswordInput\n",
    "\n",
    "    def get(self, request, *args, **kwargs):\n",
    "        key = request.headers.get(\"X-Password-Reset-Key\", \"\")\n",
    "        input = ResetPasswordKeyInput({\"key\": key})\n",
    "        if not input.is_valid():\n",
    "            return ErrorResponse(request, input=input)\n",
    "        return response.PasswordResetKeyResponse(request, input.user)\n",
    "\n",
    "    def post(self, request, *args, **kwargs):\n",
    "        flows.password_reset.reset_password(\n",
    "            self.input.user, self.input.cleaned_data[\"password\"]\n",
    "        )\n",
    "        password_reset.finalize_password_reset(request, self.input.user)\n",
    "        return AuthenticationResponse(self.request)"
   ]
  },
  {
   "cell_type": "markdown",
   "metadata": {},
   "source": []
  },
  {
   "cell_type": "code",
   "execution_count": null,
   "metadata": {},
   "outputs": [],
   "source": [
    "@method_decorator(rate_limit(action=\"change_password\"), name=\"handle\")\n",
    "class ChangePasswordView(AuthenticatedAPIView):\n",
    "    input_class = ChangePasswordInput\n",
    "\n",
    "    def post(self, request, *args, **kwargs):\n",
    "        password_change.change_password(\n",
    "            self.request.user, self.input.cleaned_data[\"new_password\"]\n",
    "        )\n",
    "        is_set = not self.input.cleaned_data.get(\"current_password\")\n",
    "        if is_set:\n",
    "            password_change.finalize_password_set(request, request.user)\n",
    "        else:\n",
    "            password_change.finalize_password_change(request, request.user)\n",
    "        return AuthenticationResponse(request)\n",
    "\n",
    "    def get_input_kwargs(self):\n",
    "        return {\"user\": self.request.user}"
   ]
  },
  {
   "cell_type": "markdown",
   "metadata": {},
   "source": []
  },
  {
   "cell_type": "code",
   "execution_count": null,
   "metadata": {},
   "outputs": [],
   "source": [
    "@method_decorator(rate_limit(action=\"manage_email\"), name=\"handle\")\n",
    "class ManageEmailView(AuthenticatedAPIView):\n",
    "    input_class = {\n",
    "        \"POST\": AddEmailInput,\n",
    "        \"PUT\": SelectEmailInput,\n",
    "        \"DELETE\": DeleteEmailInput,\n",
    "        \"PATCH\": MarkAsPrimaryEmailInput,\n",
    "    }\n",
    "\n",
    "    def get(self, request, *args, **kwargs):\n",
    "        return self._respond_email_list()\n",
    "\n",
    "    def _respond_email_list(self):\n",
    "        addrs = EmailAddress.objects.filter(user=self.request.user)\n",
    "        return response.EmailAddressesResponse(self.request, addrs)\n",
    "\n",
    "    def post(self, request, *args, **kwargs):\n",
    "        flows.manage_email.add_email(request, self.input)\n",
    "        return self._respond_email_list()\n",
    "\n",
    "    def delete(self, request, *args, **kwargs):\n",
    "        addr = self.input.cleaned_data[\"email\"]\n",
    "        flows.manage_email.delete_email(request, addr)\n",
    "        return self._respond_email_list()\n",
    "\n",
    "    def patch(self, request, *args, **kwargs):\n",
    "        addr = self.input.cleaned_data[\"email\"]\n",
    "        flows.manage_email.mark_as_primary(request, addr)\n",
    "        return self._respond_email_list()\n",
    "\n",
    "    def put(self, request, *args, **kwargs):\n",
    "        addr = self.input.cleaned_data[\"email\"]\n",
    "        sent = send_email_confirmation(request, request.user, email=addr.email)\n",
    "        return response.RequestEmailVerificationResponse(\n",
    "            request, verification_sent=sent\n",
    "        )\n",
    "\n",
    "    def get_input_kwargs(self):\n",
    "        return {\"user\": self.request.user}"
   ]
  },
  {
   "cell_type": "markdown",
   "metadata": {},
   "source": []
  },
  {
   "cell_type": "code",
   "execution_count": null,
   "metadata": {},
   "outputs": [],
   "source": [
    "@method_decorator(rate_limit(action=\"reauthenticate\"), name=\"handle\")\n",
    "class ReauthenticateView(AuthenticatedAPIView):\n",
    "    input_class = ReauthenticateInput\n",
    "\n",
    "    def post(self, request, *args, **kwargs):\n",
    "        flows.reauthentication.reauthenticate_by_password(self.request)\n",
    "        return AuthenticationResponse(self.request)\n",
    "\n",
    "    def get_input_kwargs(self):\n",
    "        return {\"user\": self.request.user}"
   ]
  },
  {
   "cell_type": "markdown",
   "metadata": {},
   "source": []
  }
 ],
 "metadata": {
  "language_info": {
   "name": "python"
  }
 },
 "nbformat": 4,
 "nbformat_minor": 2
}