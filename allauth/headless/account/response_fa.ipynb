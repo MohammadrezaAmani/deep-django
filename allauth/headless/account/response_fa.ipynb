{
    "cells": [
        {
            "cell_type": "code",
            "execution_count": null,
            "metadata": {},
            "outputs": [],
            "source": [
                "from allauth.headless.base.response import APIResponse, user_data\n"
            ]
        },
        {
            "cell_type": "markdown",
            "metadata": {},
            "source": []
        },
        {
            "cell_type": "code",
            "execution_count": null,
            "metadata": {},
            "outputs": [],
            "source": [
                "class RequestEmailVerificationResponse(APIResponse):\n",
                "    def __init__(self, request, verification_sent):\n",
                "        super().__init__(request, status=200 if verification_sent else 403)\n"
            ]
        },
        {
            "cell_type": "markdown",
            "metadata": {},
            "source": []
        },
        {
            "cell_type": "code",
            "execution_count": null,
            "metadata": {},
            "outputs": [],
            "source": [
                "class VerifyEmailResponse(APIResponse):\n",
                "    def __init__(self, request, verification, stage):\n",
                "        data = {\n",
                "            \"email\": verification.email_address.email,\n",
                "            \"user\": user_data(verification.email_address.user),\n",
                "        }\n",
                "        meta = {\n",
                "            \"is_authenticating\": stage is not None,\n",
                "        }\n",
                "        super().__init__(request, data=data, meta=meta)\n"
            ]
        },
        {
            "cell_type": "markdown",
            "metadata": {},
            "source": []
        },
        {
            "cell_type": "code",
            "execution_count": null,
            "metadata": {},
            "outputs": [],
            "source": [
                "class EmailAddressesResponse(APIResponse):\n",
                "    def __init__(self, request, email_addresses):\n",
                "        data = [\n",
                "            {\n",
                "                \"email\": addr.email,\n",
                "                \"verified\": addr.verified,\n",
                "                \"primary\": addr.primary,\n",
                "            }\n",
                "            for addr in email_addresses\n",
                "        ]\n",
                "        super().__init__(request, data=data)\n"
            ]
        },
        {
            "cell_type": "markdown",
            "metadata": {},
            "source": []
        },
        {
            "cell_type": "code",
            "execution_count": null,
            "metadata": {},
            "outputs": [],
            "source": [
                "class RequestPasswordResponse(APIResponse):\n",
                "    pass\n"
            ]
        },
        {
            "cell_type": "markdown",
            "metadata": {},
            "source": []
        },
        {
            "cell_type": "code",
            "execution_count": null,
            "metadata": {},
            "outputs": [],
            "source": [
                "class PasswordResetKeyResponse(APIResponse):\n",
                "    def __init__(self, request, user):\n",
                "        data = {\"user\": user_data(user)}\n",
                "        super().__init__(request, data=data)\n",
                "\n"
            ]
        },
        {
            "cell_type": "markdown",
            "metadata": {},
            "source": []
        }
    ],
    "metadata": {
        "language_info": {
            "name": "python"
        }
    },
    "nbformat": 4,
    "nbformat_minor": 2
}