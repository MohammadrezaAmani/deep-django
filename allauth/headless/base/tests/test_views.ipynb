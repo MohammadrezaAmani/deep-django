{
 "cells": [
  {
   "cell_type": "code",
   "execution_count": null,
   "metadata": {},
   "outputs": [],
   "source": [
    "def test_config(db, client, headless_reverse):\n",
    "    resp = client.get(headless_reverse(\"headless:config\"))\n",
    "    assert resp.status_code == 200\n",
    "    data = resp.json()\n",
    "    assert set(data[\"data\"].keys()) == {\n",
    "        \"account\",\n",
    "        \"mfa\",\n",
    "        \"socialaccount\",\n",
    "        \"usersessions\",\n",
    "    }"
   ]
  },
  {
   "cell_type": "markdown",
   "metadata": {},
   "source": []
  }
 ],
 "metadata": {
  "language_info": {
   "name": "python"
  }
 },
 "nbformat": 4,
 "nbformat_minor": 2
}