{
    "cells": [
        {
            "cell_type": "code",
            "execution_count": null,
            "metadata": {},
            "outputs": [],
            "source": [
                "from allauth import app_settings as allauth_settings\n",
                "from allauth.account import app_settings as account_settings\n",
                "from allauth.account.adapter import get_adapter as get_account_adapter\n",
                "from allauth.account.authentication import get_authentication_records\n",
                "from allauth.account.internal import flows\n",
                "from allauth.account.models import EmailAddress\n",
                "from allauth.account.utils import user_display, user_username\n",
                "from allauth.headless.constants import Flow\n",
                "from allauth.headless.internal import authkit, sessionkit\n",
                "from allauth.headless.internal.restkit.response import APIResponse\n"
            ]
        },
        {
            "cell_type": "markdown",
            "metadata": {},
            "source": []
        },
        {
            "cell_type": "code",
            "execution_count": null,
            "metadata": {},
            "outputs": [],
            "source": [
                "class BaseAuthenticationResponse(APIResponse):\n",
                "    def __init__(self, request, user=None, status=None):\n",
                "        data = {}\n",
                "        if user and user.is_authenticated:\n",
                "            data[\"user\"] = user_data(user)\n",
                "            data[\"methods\"] = get_authentication_records(request)\n",
                "            status = status or 200\n",
                "        else:\n",
                "            status = status or 401\n",
                "        if status != 200:\n",
                "            data[\"flows\"] = self._get_flows(request, user)\n",
                "        meta = {\n",
                "            \"is_authenticated\": user and user.is_authenticated,\n",
                "        }\n",
                "        self._add_session_meta(request, meta)\n",
                "        super().__init__(\n",
                "            request,\n",
                "            data=data,\n",
                "            meta=meta,\n",
                "            status=status,\n",
                "        )\n",
                "\n",
                "    def _add_session_meta(self, request, meta):\n",
                "        session_token = sessionkit.expose_session_token(request)\n",
                "        if session_token:\n",
                "            meta[\"session_token\"] = session_token\n",
                "        access_token = authkit.expose_access_token(request)\n",
                "        if access_token:\n",
                "            meta[\"access_token\"] = access_token\n",
                "\n",
                "    def _get_flows(self, request, user):\n",
                "        auth_status = authkit.AuthenticationStatus(request)\n",
                "        ret = []\n",
                "        if user and user.is_authenticated:\n",
                "            ret.extend(\n",
                "                [\n",
                "                    {\"id\": m[\"id\"]}\n",
                "                    for m in get_account_adapter().get_reauthentication_methods(user)\n",
                "                ]\n",
                "            )\n",
                "        else:\n",
                "            ret.append({\"id\": Flow.LOGIN})\n",
                "            if account_settings.LOGIN_BY_CODE_ENABLED:\n",
                "                code_flow = {\"id\": Flow.LOGIN_BY_CODE}\n",
                "                _, data = flows.login_by_code.get_pending_login(request, peek=True)\n",
                "                if data:\n",
                "                    code_flow[\"is_pending\"] = True\n",
                "                ret.append(code_flow)\n",
                "            if get_account_adapter().is_open_for_signup(request):\n",
                "                ret.append({\"id\": Flow.SIGNUP})\n",
                "            if allauth_settings.SOCIALACCOUNT_ENABLED:\n",
                "                from allauth.headless.socialaccount.response import provider_flows\n",
                "\n",
                "                ret.extend(provider_flows(request))\n",
                "        stage_key = None\n",
                "        stage = auth_status.get_pending_stage()\n",
                "        if stage:\n",
                "            stage_key = stage.key\n",
                "        else:\n",
                "            lsk = request.session.get(flows.login.LOGIN_SESSION_KEY)\n",
                "            if isinstance(lsk, str):\n",
                "                stage_key = lsk\n",
                "        if stage_key:\n",
                "            ret.append({\"id\": stage_key, \"is_pending\": True})\n",
                "        return ret\n"
            ]
        },
        {
            "cell_type": "markdown",
            "metadata": {},
            "source": []
        },
        {
            "cell_type": "code",
            "execution_count": null,
            "metadata": {},
            "outputs": [],
            "source": [
                "class AuthenticationResponse(BaseAuthenticationResponse):\n",
                "    def __init__(self, request):\n",
                "        super().__init__(request, user=request.user)\n"
            ]
        },
        {
            "cell_type": "markdown",
            "metadata": {},
            "source": []
        },
        {
            "cell_type": "code",
            "execution_count": null,
            "metadata": {},
            "outputs": [],
            "source": [
                "class ReauthenticationResponse(BaseAuthenticationResponse):\n",
                "    def __init__(self, request):\n",
                "        super().__init__(request, user=request.user, status=401)\n"
            ]
        },
        {
            "cell_type": "markdown",
            "metadata": {},
            "source": []
        },
        {
            "cell_type": "code",
            "execution_count": null,
            "metadata": {},
            "outputs": [],
            "source": [
                "class UnauthorizedResponse(BaseAuthenticationResponse):\n",
                "    def __init__(self, request, status=401):\n",
                "        super().__init__(request, user=None, status=status)\n"
            ]
        },
        {
            "cell_type": "markdown",
            "metadata": {},
            "source": []
        },
        {
            "cell_type": "code",
            "execution_count": null,
            "metadata": {},
            "outputs": [],
            "source": [
                "def user_data(user):\n",
                "    \"\"\"Basic user data, also exposed in partly authenticated scenario's\n",
                "    (e.g. password reset, email verification).\n",
                "    \"\"\"\n",
                "    ret = {\n",
                "        \"id\": user.pk,\n",
                "        \"display\": user_display(user),\n",
                "        \"has_usable_password\": user.has_usable_password(),\n",
                "    }\n",
                "    email = EmailAddress.objects.get_primary_email(user)\n",
                "    if email:\n",
                "        ret[\"email\"] = email\n",
                "    username = user_username(user)\n",
                "    if username:\n",
                "        ret[\"username\"] = username\n",
                "    return ret\n"
            ]
        },
        {
            "cell_type": "markdown",
            "metadata": {},
            "source": []
        },
        {
            "cell_type": "code",
            "execution_count": null,
            "metadata": {},
            "outputs": [],
            "source": [
                "class ConfigResponse(APIResponse):\n",
                "    def __init__(self, request):\n",
                "        data = {\n",
                "            \"account\": {\"authentication_method\": account_settings.AUTHENTICATION_METHOD}\n",
                "        }\n",
                "        if allauth_settings.SOCIALACCOUNT_ENABLED:\n",
                "            from allauth.headless.socialaccount.response import get_config_data\n",
                "\n",
                "            data.update(get_config_data(request))\n",
                "        if allauth_settings.MFA_ENABLED:\n",
                "            from allauth.headless.mfa.response import get_config_data\n",
                "\n",
                "            data.update(get_config_data(request))\n",
                "        if allauth_settings.USERSESSIONS_ENABLED:\n",
                "            from allauth.headless.usersessions.response import get_config_data\n",
                "\n",
                "            data.update(get_config_data(request))\n",
                "        return super().__init__(request, data=data)\n"
            ]
        },
        {
            "cell_type": "markdown",
            "metadata": {},
            "source": []
        },
        {
            "cell_type": "code",
            "execution_count": null,
            "metadata": {},
            "outputs": [],
            "source": [
                "class RateLimitResponse(APIResponse):\n",
                "    def __init__(self, request):\n",
                "        super().__init__(request, status=429)\n",
                "\n"
            ]
        },
        {
            "cell_type": "markdown",
            "metadata": {},
            "source": []
        }
    ],
    "metadata": {
        "language_info": {
            "name": "python"
        }
    },
    "nbformat": 4,
    "nbformat_minor": 2
}