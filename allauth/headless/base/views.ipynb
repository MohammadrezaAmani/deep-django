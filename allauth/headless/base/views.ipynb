{
    "cells": [
        {
            "cell_type": "code",
            "execution_count": null,
            "metadata": {},
            "outputs": [],
            "source": [
                "from django.utils.decorators import classonlymethod\n",
                "\n",
                "from allauth.account.stages import LoginStageController\n",
                "from allauth.core.exceptions import ReauthenticationRequired\n",
                "from allauth.headless.base import response\n",
                "from allauth.headless.constants import Client\n",
                "from allauth.headless.internal import decorators\n",
                "from allauth.headless.internal.restkit.views import RESTView\n"
            ]
        },
        {
            "cell_type": "markdown",
            "metadata": {},
            "source": []
        },
        {
            "cell_type": "code",
            "execution_count": null,
            "metadata": {},
            "outputs": [],
            "source": [
                "class APIView(RESTView):\n",
                "    client = None\n",
                "\n",
                "    @classonlymethod\n",
                "    def as_api_view(cls, **initkwargs):\n",
                "        view_func = cls.as_view(**initkwargs)\n",
                "        if initkwargs[\"client\"] == Client.APP:\n",
                "            view_func = decorators.app_view(view_func)\n",
                "        else:\n",
                "            view_func = decorators.browser_view(view_func)\n",
                "        return view_func\n",
                "\n",
                "    def dispatch(self, request, *args, **kwargs):\n",
                "        try:\n",
                "            return super().dispatch(request, *args, **kwargs)\n",
                "        except ReauthenticationRequired:\n",
                "            return response.ReauthenticationResponse(self.request)\n"
            ]
        },
        {
            "cell_type": "markdown",
            "metadata": {},
            "source": []
        },
        {
            "cell_type": "code",
            "execution_count": null,
            "metadata": {},
            "outputs": [],
            "source": [
                "class AuthenticationStageAPIView(APIView):\n",
                "    stage_class = None\n",
                "\n",
                "    def handle(self, request, *args, **kwargs):\n",
                "        self.stage = LoginStageController.enter(request, self.stage_class.key)\n",
                "        if not self.stage:\n",
                "            return response.UnauthorizedResponse(request)\n",
                "        return super().handle(request, *args, **kwargs)\n",
                "\n",
                "    def respond_stage_error(self):\n",
                "        return response.UnauthorizedResponse(self.request)\n",
                "\n",
                "    def respond_next_stage(self):\n",
                "        self.stage.exit()\n",
                "        return response.AuthenticationResponse(self.request)\n"
            ]
        },
        {
            "cell_type": "markdown",
            "metadata": {},
            "source": []
        },
        {
            "cell_type": "code",
            "execution_count": null,
            "metadata": {},
            "outputs": [],
            "source": [
                "class AuthenticatedAPIView(APIView):\n",
                "    def dispatch(self, request, *args, **kwargs):\n",
                "        if not request.user.is_authenticated:\n",
                "            return response.AuthenticationResponse(request)\n",
                "        return super().dispatch(request, *args, **kwargs)\n"
            ]
        },
        {
            "cell_type": "markdown",
            "metadata": {},
            "source": []
        },
        {
            "cell_type": "code",
            "execution_count": null,
            "metadata": {},
            "outputs": [],
            "source": [
                "class ConfigView(APIView):\n",
                "    def get(self, request, *args, **kwargs):\n",
                "        \"\"\"\n",
                "        The frontend queries (GET) this endpoint, expecting to receive\n",
                "        either a 401 if no user is authenticated, or user information.\n",
                "        \"\"\"\n",
                "        return response.ConfigResponse(request)\n",
                "\n"
            ]
        },
        {
            "cell_type": "markdown",
            "metadata": {},
            "source": []
        }
    ],
    "metadata": {
        "language_info": {
            "name": "python"
        }
    },
    "nbformat": 4,
    "nbformat_minor": 2
}