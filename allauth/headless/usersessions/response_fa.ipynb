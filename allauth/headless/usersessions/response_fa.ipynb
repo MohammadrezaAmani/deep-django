{
    "cells": [
        {
            "cell_type": "code",
            "execution_count": null,
            "metadata": {},
            "outputs": [],
            "source": [
                "from allauth.headless.base.response import APIResponse\n",
                "from allauth.usersessions import app_settings\n"
            ]
        },
        {
            "cell_type": "markdown",
            "metadata": {},
            "source": []
        },
        {
            "cell_type": "code",
            "execution_count": null,
            "metadata": {},
            "outputs": [],
            "source": [
                "class SessionsResponse(APIResponse):\n",
                "    def __init__(self, request, sessions):\n",
                "        super().__init__(request, data=[self._session_data(s) for s in sessions])\n",
                "\n",
                "    def _session_data(self, session):\n",
                "        data = {\n",
                "            \"user_agent\": session.user_agent,\n",
                "            \"ip\": session.ip,\n",
                "            \"created_at\": session.created_at.timestamp(),\n",
                "            \"is_current\": session.is_current(),\n",
                "            \"id\": session.pk,\n",
                "        }\n",
                "        if app_settings.TRACK_ACTIVITY:\n",
                "            data[\"last_seen_at\"] = session.last_seen_at.timestamp()\n",
                "        return data\n"
            ]
        },
        {
            "cell_type": "markdown",
            "metadata": {},
            "source": []
        },
        {
            "cell_type": "code",
            "execution_count": null,
            "metadata": {},
            "outputs": [],
            "source": [
                "def get_config_data(request):\n",
                "    data = {\"usersessions\": {\"track_activity\": app_settings.TRACK_ACTIVITY}}\n",
                "    return data\n",
                "\n"
            ]
        },
        {
            "cell_type": "markdown",
            "metadata": {},
            "source": []
        }
    ],
    "metadata": {
        "language_info": {
            "name": "python"
        }
    },
    "nbformat": 4,
    "nbformat_minor": 2
}