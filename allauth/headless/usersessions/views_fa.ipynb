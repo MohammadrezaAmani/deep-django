{
    "cells": [
        {
            "cell_type": "code",
            "execution_count": null,
            "metadata": {},
            "outputs": [],
            "source": [
                "from allauth.headless.base.response import AuthenticationResponse\n",
                "from allauth.headless.base.views import AuthenticatedAPIView\n",
                "from allauth.headless.usersessions.inputs import SelectSessionsInput\n",
                "from allauth.headless.usersessions.response import SessionsResponse\n",
                "from allauth.usersessions.internal import flows\n",
                "from allauth.usersessions.models import UserSession\n"
            ]
        },
        {
            "cell_type": "markdown",
            "metadata": {},
            "source": []
        },
        {
            "cell_type": "code",
            "execution_count": null,
            "metadata": {},
            "outputs": [],
            "source": [
                "class SessionsView(AuthenticatedAPIView):\n",
                "    input_class = {\"DELETE\": SelectSessionsInput}\n",
                "\n",
                "    def delete(self, request, *args, **kwargs):\n",
                "        sessions = self.input.cleaned_data[\"sessions\"]\n",
                "        flows.sessions.end_sessions(request, sessions)\n",
                "        if self.request.user.is_authenticated:\n",
                "            return self._respond_session_list()\n",
                "        return AuthenticationResponse(request)\n",
                "\n",
                "    def get(self, request, *args, **kwargs):\n",
                "        return self._respond_session_list()\n",
                "\n",
                "    def _respond_session_list(self):\n",
                "        sessions = UserSession.objects.purge_and_list(self.request.user)\n",
                "        return SessionsResponse(self.request, sessions)\n",
                "\n",
                "    def get_input_kwargs(self):\n",
                "        return {\"user\": self.request.user}\n",
                "\n"
            ]
        },
        {
            "cell_type": "markdown",
            "metadata": {},
            "source": []
        }
    ],
    "metadata": {
        "language_info": {
            "name": "python"
        }
    },
    "nbformat": 4,
    "nbformat_minor": 2
}