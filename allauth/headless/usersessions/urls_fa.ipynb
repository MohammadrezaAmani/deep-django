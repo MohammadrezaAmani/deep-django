{
 "cells": [
  {
   "cell_type": "code",
   "execution_count": null,
   "metadata": {},
   "outputs": [],
   "source": [
    "from allauth.headless.usersessions import views\n",
    "from django.urls import include, path"
   ]
  },
  {
   "cell_type": "markdown",
   "metadata": {},
   "source": []
  },
  {
   "cell_type": "code",
   "execution_count": null,
   "metadata": {},
   "outputs": [],
   "source": [
    "def build_urlpatterns(client):\n",
    "    return [\n",
    "        path(\n",
    "            \"auth/\",\n",
    "            include(\n",
    "                [\n",
    "                    path(\n",
    "                        \"sessions\",\n",
    "                        views.SessionsView.as_api_view(client=client),\n",
    "                        name=\"sessions\",\n",
    "                    ),\n",
    "                ]\n",
    "            ),\n",
    "        )\n",
    "    ]"
   ]
  },
  {
   "cell_type": "markdown",
   "metadata": {},
   "source": []
  }
 ],
 "metadata": {
  "language_info": {
   "name": "python"
  }
 },
 "nbformat": 4,
 "nbformat_minor": 2
}