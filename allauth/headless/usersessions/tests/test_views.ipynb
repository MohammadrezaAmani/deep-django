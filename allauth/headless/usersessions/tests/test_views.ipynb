{
    "cells": [
        {
            "cell_type": "code",
            "execution_count": null,
            "metadata": {},
            "outputs": [],
            "source": [
                "from allauth.usersessions.models import UserSession\n"
            ]
        },
        {
            "cell_type": "markdown",
            "metadata": {},
            "source": []
        },
        {
            "cell_type": "code",
            "execution_count": null,
            "metadata": {},
            "outputs": [],
            "source": [
                "def test_flow(client, user, user_password, headless_reverse, settings):\n",
                "    settings.ACCOUNT_AUTHENTICATION_METHOD = \"email\"\n",
                "    resp = client.post(\n",
                "        headless_reverse(\"headless:account:login\"),\n",
                "        data={\n",
                "            \"email\": user.email,\n",
                "            \"password\": user_password,\n",
                "        },\n",
                "        content_type=\"application/json\",\n",
                "    )\n",
                "    assert resp.status_code == 200\n",
                "    resp = client.get(headless_reverse(\"headless:usersessions:sessions\"))\n",
                "    assert resp.status_code == 200\n",
                "    data = resp.json()\n",
                "    assert len(data[\"data\"]) == 1\n",
                "    session_pk = data[\"data\"][0][\"id\"]\n",
                "    assert UserSession.objects.filter(pk=session_pk).exists()\n",
                "    resp = client.delete(\n",
                "        headless_reverse(\"headless:usersessions:sessions\"),\n",
                "        data={\"sessions\": [session_pk]},\n",
                "        content_type=\"application/json\",\n",
                "    )\n",
                "    assert resp.status_code == 401\n",
                "    assert not UserSession.objects.filter(pk=session_pk).exists()\n",
                "\n"
            ]
        },
        {
            "cell_type": "markdown",
            "metadata": {},
            "source": []
        }
    ],
    "metadata": {
        "language_info": {
            "name": "python"
        }
    },
    "nbformat": 4,
    "nbformat_minor": 2
}