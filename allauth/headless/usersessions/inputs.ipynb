{
    "cells": [
        {
            "cell_type": "code",
            "execution_count": null,
            "metadata": {},
            "outputs": [],
            "source": [
                "from allauth.headless.internal.restkit import inputs\n",
                "from allauth.usersessions.models import UserSession\n"
            ]
        },
        {
            "cell_type": "markdown",
            "metadata": {},
            "source": []
        },
        {
            "cell_type": "code",
            "execution_count": null,
            "metadata": {},
            "outputs": [],
            "source": [
                "class SelectSessionsInput(inputs.Input):\n",
                "    sessions = inputs.ModelMultipleChoiceField(queryset=UserSession.objects.none())\n",
                "\n",
                "    def __init__(self, *args, **kwargs):\n",
                "        self.user = kwargs.pop(\"user\")\n",
                "        super().__init__(*args, **kwargs)\n",
                "        self.fields[\"sessions\"].queryset = UserSession.objects.filter(user=self.user)\n",
                "\n"
            ]
        },
        {
            "cell_type": "markdown",
            "metadata": {},
            "source": []
        }
    ],
    "metadata": {
        "language_info": {
            "name": "python"
        }
    },
    "nbformat": 4,
    "nbformat_minor": 2
}