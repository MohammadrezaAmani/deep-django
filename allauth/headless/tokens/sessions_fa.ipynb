{
 "cells": [
  {
   "cell_type": "code",
   "execution_count": null,
   "metadata": {},
   "outputs": [],
   "source": [
    "import typing\n",
    "\n",
    "from allauth.headless.internal import sessionkit\n",
    "from allauth.headless.tokens.base import AbstractTokenStrategy\n",
    "from django.contrib.sessions.backends.base import SessionBase\n",
    "from django.http import HttpRequest"
   ]
  },
  {
   "cell_type": "markdown",
   "metadata": {},
   "source": []
  },
  {
   "cell_type": "code",
   "execution_count": null,
   "metadata": {},
   "outputs": [],
   "source": [
    "class SessionTokenStrategy(AbstractTokenStrategy):\n",
    "    def create_session_token(self, request: HttpRequest) -> typing.Optional[str]:\n",
    "        if not request.session.session_key:\n",
    "            request.session.save()\n",
    "        return request.session.session_key\n",
    "\n",
    "    def lookup_session(self, session_token: str) -> typing.Optional[SessionBase]:\n",
    "        session_key = session_token\n",
    "        if sessionkit.session_store().exists(session_key):\n",
    "            return sessionkit.session_store(session_key)"
   ]
  },
  {
   "cell_type": "markdown",
   "metadata": {},
   "source": []
  }
 ],
 "metadata": {
  "language_info": {
   "name": "python"
  }
 },
 "nbformat": 4,
 "nbformat_minor": 2
}