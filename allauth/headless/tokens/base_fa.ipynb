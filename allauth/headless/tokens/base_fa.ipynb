{
 "cells": [
  {
   "cell_type": "code",
   "execution_count": null,
   "metadata": {},
   "outputs": [],
   "source": [
    "import abc\n",
    "import typing\n",
    "\n",
    "from django.contrib.sessions.backends.base import SessionBase\n",
    "from django.http import HttpRequest"
   ]
  },
  {
   "cell_type": "markdown",
   "metadata": {},
   "source": []
  },
  {
   "cell_type": "code",
   "execution_count": null,
   "metadata": {},
   "outputs": [],
   "source": [
    "class AbstractTokenStrategy(abc.ABC):\n",
    "    def get_session_token(self, request: HttpRequest) -> typing.Optional[str]:\n",
    "        \"\"\"\n",
    "        Returns the session token, if any.\n",
    "        \"\"\"\n",
    "        token = request.headers.get(\"x-session-token\")\n",
    "        return token\n",
    "\n",
    "    def create_access_token(self, request: HttpRequest) -> typing.Optional[str]:\n",
    "        \"\"\"Create an access token.\n",
    "\n",
    "        While session tokens are required to handle the authentication process,\n",
    "        depending on your requirements, a different type of token may be needed\n",
    "        once authenticated.\n",
    "\n",
    "        For example, your app likely needs access to other APIs as well. These\n",
    "        APIs may even be implemented using different technologies, in which case\n",
    "        having a stateless token, possibly a JWT encoding the user ID, might be\n",
    "        a good fit.\n",
    "\n",
    "        We make no assumptions in this regard. If you need access tokens, you\n",
    "        will have to implement a token strategy that returns an access token\n",
    "        here.\n",
    "        \"\"\"\n",
    "        return None\n",
    "\n",
    "    @abc.abstractmethod\n",
    "    def create_session_token(self, request: HttpRequest) -> str:\n",
    "        \"\"\"\n",
    "        Create a session token for the `request.session`.\n",
    "        \"\"\"\n",
    "        ...\n",
    "\n",
    "    @abc.abstractmethod\n",
    "    def lookup_session(self, session_token: str) -> typing.Optional[SessionBase]:\n",
    "        \"\"\"\n",
    "        Looks up the Django session given the session token. Returns `None`\n",
    "        if the session does not / no longer exist.\n",
    "        \"\"\"\n",
    "        ..."
   ]
  },
  {
   "cell_type": "markdown",
   "metadata": {},
   "source": []
  }
 ],
 "metadata": {
  "language_info": {
   "name": "python"
  }
 },
 "nbformat": 4,
 "nbformat_minor": 2
}