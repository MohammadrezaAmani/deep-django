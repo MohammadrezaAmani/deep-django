{
    "cells": [
        {
            "cell_type": "code",
            "execution_count": null,
            "metadata": {},
            "outputs": [],
            "source": [
                "class AppSettings(object):\n",
                "    def __init__(self, prefix):\n",
                "        self.prefix = prefix\n",
                "\n",
                "    def _setting(self, name, dflt):\n",
                "        from allauth.utils import get_setting\n",
                "\n",
                "        return get_setting(self.prefix + name, dflt)\n",
                "\n",
                "    @property\n",
                "    def ADAPTER(self):\n",
                "        return self._setting(\n",
                "            \"ADAPTER\", \"allauth.headless.adapter.DefaultHeadlessAdapter\"\n",
                "        )\n",
                "\n",
                "    @property\n",
                "    def TOKEN_STRATEGY(self):\n",
                "        from allauth.utils import import_attribute\n",
                "\n",
                "        path = self._setting(\n",
                "            \"TOKEN_STRATEGY\", \"allauth.headless.tokens.sessions.SessionTokenStrategy\"\n",
                "        )\n",
                "        cls = import_attribute(path)\n",
                "        return cls()\n",
                "\n",
                "    @property\n",
                "    def FRONTEND_URLS(self):\n",
                "        return self._setting(\"FRONTEND_URLS\", {})\n"
            ]
        },
        {
            "cell_type": "markdown",
            "metadata": {},
            "source": []
        },
        {
            "cell_type": "code",
            "execution_count": null,
            "metadata": {},
            "outputs": [],
            "source": [
                "_app_settings = AppSettings(\"HEADLESS_\")\n"
            ]
        },
        {
            "cell_type": "markdown",
            "metadata": {},
            "source": []
        },
        {
            "cell_type": "code",
            "execution_count": null,
            "metadata": {},
            "outputs": [],
            "source": [
                "def __getattr__(name):\n",
                "    # See https://peps.python.org/pep-0562/\n",
                "    return getattr(_app_settings, name)\n",
                "\n"
            ]
        },
        {
            "cell_type": "markdown",
            "metadata": {},
            "source": []
        }
    ],
    "metadata": {
        "language_info": {
            "name": "python"
        }
    },
    "nbformat": 4,
    "nbformat_minor": 2
}