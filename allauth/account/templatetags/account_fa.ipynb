{
 "cells": [
  {
   "cell_type": "code",
   "execution_count": null,
   "metadata": {},
   "outputs": [],
   "source": [
    "from allauth.account.utils import user_display\n",
    "from django import template\n",
    "\n",
    "register = template.Library()"
   ]
  },
  {
   "cell_type": "markdown",
   "metadata": {},
   "source": []
  },
  {
   "cell_type": "code",
   "execution_count": null,
   "metadata": {},
   "outputs": [],
   "source": [
    "@register.simple_tag(name=\"user_display\")\n",
    "def user_display_tag(user):\n",
    "    \"\"\"\n",
    "    Example usage::\n",
    "\n",
    "        {% user_display user %}\n",
    "\n",
    "    or if you need to use in a {% blocktrans %}::\n",
    "\n",
    "        {% user_display user as user_display %}\n",
    "        {% blocktrans %}\n",
    "        {{ user_display }} has sent you a gift.\n",
    "        {% endblocktrans %}\n",
    "\n",
    "    \"\"\"\n",
    "    return user_display(user)"
   ]
  },
  {
   "cell_type": "markdown",
   "metadata": {},
   "source": []
  }
 ],
 "metadata": {
  "language_info": {
   "name": "python"
  }
 },
 "nbformat": 4,
 "nbformat_minor": 2
}