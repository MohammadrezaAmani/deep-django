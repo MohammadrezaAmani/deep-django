{
 "cells": [
  {
   "cell_type": "code",
   "execution_count": null,
   "metadata": {},
   "outputs": [],
   "source": [
    "from django.core.checks import Critical, Warning, register"
   ]
  },
  {
   "cell_type": "markdown",
   "metadata": {},
   "source": []
  },
  {
   "cell_type": "code",
   "execution_count": null,
   "metadata": {},
   "outputs": [],
   "source": [
    "@register()\n",
    "def adapter_check(app_configs, **kwargs):\n",
    "    from allauth.account.adapter import get_adapter\n",
    "\n",
    "    ret = []\n",
    "    adapter = get_adapter()\n",
    "    if hasattr(adapter, \"get_email_confirmation_redirect_url\"):\n",
    "        ret.append(\n",
    "            Warning(\n",
    "                msg=\"adapter.get_email_confirmation_redirect_url(request) is deprecated, use adapter.get_email_verification_redirect_url(email_address)\"\n",
    "            )\n",
    "        )\n",
    "    return ret"
   ]
  },
  {
   "cell_type": "markdown",
   "metadata": {},
   "source": []
  },
  {
   "cell_type": "code",
   "execution_count": null,
   "metadata": {},
   "outputs": [],
   "source": [
    "@register()\n",
    "def settings_check(app_configs, **kwargs):\n",
    "    from allauth import app_settings as allauth_app_settings\n",
    "    from allauth.account import app_settings\n",
    "\n",
    "    ret = []\n",
    "    if allauth_app_settings.SOCIALACCOUNT_ONLY:\n",
    "        if app_settings.LOGIN_BY_CODE_ENABLED:\n",
    "            ret.append(\n",
    "                Critical(\n",
    "                    msg=\"SOCIALACCOUNT_ONLY does not work with ACCOUNT_LOGIN_BY_CODE_ENABLED\"\n",
    "                )\n",
    "            )\n",
    "        if allauth_app_settings.MFA_ENABLED:\n",
    "            ret.append(\n",
    "                Critical(msg=\"SOCIALACCOUNT_ONLY does not work with 'allauth.mfa'\")\n",
    "            )\n",
    "        if app_settings.EMAIL_VERIFICATION != app_settings.EmailVerificationMethod.NONE:\n",
    "            ret.append(\n",
    "                Critical(\n",
    "                    msg=\"SOCIALACCOUNT_ONLY requires ACCOUNT_EMAIL_VERIFICATION = 'none'\"\n",
    "                )\n",
    "            )\n",
    "    return ret"
   ]
  },
  {
   "cell_type": "markdown",
   "metadata": {},
   "source": []
  }
 ],
 "metadata": {
  "language_info": {
   "name": "python"
  }
 },
 "nbformat": 4,
 "nbformat_minor": 2
}