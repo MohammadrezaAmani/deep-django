{
    "cells": [
        {
            "cell_type": "code",
            "execution_count": null,
            "metadata": {},
            "outputs": [],
            "source": [
                "from functools import wraps\n",
                "\n",
                "from django.contrib.auth import REDIRECT_FIELD_NAME\n",
                "from django.contrib.auth.decorators import login_required\n",
                "from django.shortcuts import render\n",
                "\n",
                "from allauth.account import reauthentication\n",
                "from allauth.account.models import EmailAddress\n",
                "from allauth.account.utils import send_email_confirmation\n",
                "from allauth.core.exceptions import ReauthenticationRequired\n"
            ]
        },
        {
            "cell_type": "markdown",
            "metadata": {},
            "source": []
        },
        {
            "cell_type": "code",
            "execution_count": null,
            "metadata": {},
            "outputs": [],
            "source": [
                "def verified_email_required(\n",
                "    function=None, login_url=None, redirect_field_name=REDIRECT_FIELD_NAME\n",
                "):\n",
                "    \"\"\"\n",
                "    Even when email verification is not mandatory during signup, there\n",
                "    may be circumstances during which you really want to prevent\n",
                "    unverified users to proceed. This decorator ensures the user is\n",
                "    authenticated and has a verified email address. If the former is\n",
                "    not the case then the behavior is identical to that of the\n",
                "    standard `login_required` decorator. If the latter does not hold,\n",
                "    email verification mails are automatically resend and the user is\n",
                "    presented with a page informing them they needs to verify their email\n",
                "    address.\n",
                "    \"\"\"\n",
                "\n",
                "    def decorator(view_func):\n",
                "        @login_required(redirect_field_name=redirect_field_name, login_url=login_url)\n",
                "        def _wrapped_view(request, *args, **kwargs):\n",
                "            if not EmailAddress.objects.filter(\n",
                "                user=request.user, verified=True\n",
                "            ).exists():\n",
                "                send_email_confirmation(request, request.user)\n",
                "                return render(request, \"account/verified_email_required.html\")\n",
                "            return view_func(request, *args, **kwargs)\n",
                "\n",
                "        return _wrapped_view\n",
                "\n",
                "    if function:\n",
                "        return decorator(function)\n",
                "    return decorator\n"
            ]
        },
        {
            "cell_type": "markdown",
            "metadata": {},
            "source": []
        },
        {
            "cell_type": "code",
            "execution_count": null,
            "metadata": {},
            "outputs": [],
            "source": [
                "def reauthentication_required(\n",
                "    function=None,\n",
                "    redirect_field_name=REDIRECT_FIELD_NAME,\n",
                "    allow_get=False,\n",
                "    enabled=None,\n",
                "):\n",
                "    def decorator(view_func):\n",
                "        @wraps(view_func)\n",
                "        def _wrapper_view(request, *args, **kwargs):\n",
                "            pass_method = allow_get and request.method == \"GET\"\n",
                "            ena = (enabled is None) or (\n",
                "                enabled(request) if callable(enabled) else enabled\n",
                "            )\n",
                "            if ena and not pass_method:\n",
                "                if (\n",
                "                    request.user.is_anonymous\n",
                "                    or not reauthentication.did_recently_authenticate(request)\n",
                "                ):\n",
                "                    raise ReauthenticationRequired()\n",
                "            return view_func(request, *args, **kwargs)\n",
                "\n",
                "        return _wrapper_view\n",
                "\n",
                "    if function:\n",
                "        return decorator(function)\n",
                "    return decorator\n",
                "\n"
            ]
        },
        {
            "cell_type": "markdown",
            "metadata": {},
            "source": []
        }
    ],
    "metadata": {
        "language_info": {
            "name": "python"
        }
    },
    "nbformat": 4,
    "nbformat_minor": 2
}