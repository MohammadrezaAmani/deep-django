{
 "cells": [
  {
   "cell_type": "code",
   "execution_count": null,
   "metadata": {},
   "outputs": [],
   "source": [
    "from allauth import app_settings\n",
    "from django.apps import AppConfig\n",
    "from django.conf import settings\n",
    "from django.core.exceptions import ImproperlyConfigured\n",
    "from django.utils.translation import gettext_lazy as _"
   ]
  },
  {
   "cell_type": "markdown",
   "metadata": {},
   "source": []
  },
  {
   "cell_type": "code",
   "execution_count": null,
   "metadata": {},
   "outputs": [],
   "source": [
    "class AccountConfig(AppConfig):\n",
    "    name = \"allauth.account\"\n",
    "    verbose_name = _(\"Accounts\")\n",
    "    default_auto_field = app_settings.DEFAULT_AUTO_FIELD or \"django.db.models.AutoField\"\n",
    "\n",
    "    def ready(self):\n",
    "        from allauth.account import checks  # noqa\n",
    "\n",
    "        required_mw = \"allauth.account.middleware.AccountMiddleware\"\n",
    "        if required_mw not in settings.MIDDLEWARE:\n",
    "            raise ImproperlyConfigured(\n",
    "                f\"{required_mw} must be added to settings.MIDDLEWARE\"\n",
    "            )"
   ]
  },
  {
   "cell_type": "markdown",
   "metadata": {},
   "source": []
  }
 ],
 "metadata": {
  "language_info": {
   "name": "python"
  }
 },
 "nbformat": 4,
 "nbformat_minor": 2
}