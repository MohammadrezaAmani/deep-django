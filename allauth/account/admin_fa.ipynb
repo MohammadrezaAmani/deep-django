{
    "cells": [
        {
            "cell_type": "code",
            "execution_count": null,
            "metadata": {},
            "outputs": [],
            "source": [
                "from django.contrib import admin\n",
                "from django.utils.translation import gettext_lazy as _\n",
                "\n",
                "from . import app_settings\n",
                "from .adapter import get_adapter\n",
                "from .models import EmailAddress, EmailConfirmation\n"
            ]
        },
        {
            "cell_type": "markdown",
            "metadata": {},
            "source": []
        },
        {
            "cell_type": "code",
            "execution_count": null,
            "metadata": {},
            "outputs": [],
            "source": [
                "class EmailAddressAdmin(admin.ModelAdmin):\n",
                "    list_display = (\"email\", \"user\", \"primary\", \"verified\")\n",
                "    list_filter = (\"primary\", \"verified\")\n",
                "    search_fields = []\n",
                "    raw_id_fields = (\"user\",)\n",
                "    actions = [\"make_verified\"]\n",
                "\n",
                "    def get_search_fields(self, request):\n",
                "        base_fields = get_adapter().get_user_search_fields()\n",
                "        return [\"email\"] + list(map(lambda a: \"user__\" + a, base_fields))\n",
                "\n",
                "    def make_verified(self, request, queryset):\n",
                "        queryset.update(verified=True)\n",
                "\n",
                "    make_verified.short_description = _(\"Mark selected email addresses as verified\")\n"
            ]
        },
        {
            "cell_type": "markdown",
            "metadata": {},
            "source": []
        },
        {
            "cell_type": "code",
            "execution_count": null,
            "metadata": {},
            "outputs": [],
            "source": [
                "class EmailConfirmationAdmin(admin.ModelAdmin):\n",
                "    list_display = (\"email_address\", \"created\", \"sent\", \"key\")\n",
                "    list_filter = (\"sent\",)\n",
                "    raw_id_fields = (\"email_address\",)\n"
            ]
        },
        {
            "cell_type": "markdown",
            "metadata": {},
            "source": []
        },
        {
            "cell_type": "code",
            "execution_count": null,
            "metadata": {},
            "outputs": [],
            "source": [
                "if not app_settings.EMAIL_CONFIRMATION_HMAC:\n",
                "    admin.site.register(EmailConfirmation, EmailConfirmationAdmin)\n",
                "admin.site.register(EmailAddress, EmailAddressAdmin)\n",
                "\n"
            ]
        },
        {
            "cell_type": "markdown",
            "metadata": {},
            "source": []
        }
    ],
    "metadata": {
        "language_info": {
            "name": "python"
        }
    },
    "nbformat": 4,
    "nbformat_minor": 2
}