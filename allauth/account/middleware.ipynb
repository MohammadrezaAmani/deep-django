{
 "cells": [
  {
   "cell_type": "code",
   "execution_count": null,
   "metadata": {},
   "outputs": [],
   "source": [
    "import os\n",
    "from types import SimpleNamespace\n",
    "\n",
    "from django.conf import settings\n",
    "from django.http import HttpResponseRedirect\n",
    "from django.urls import NoReverseMatch, reverse\n",
    "from django.utils.decorators import sync_and_async_middleware\n",
    "\n",
    "from asgiref.sync import iscoroutinefunction, sync_to_async\n",
    "\n",
    "from allauth.account.adapter import get_adapter\n",
    "from allauth.account.internal import flows\n",
    "from allauth.account.reauthentication import suspend_request\n",
    "from allauth.core import context\n",
    "from allauth.core.exceptions import (\n",
    "    ImmediateHttpResponse,\n",
    "    ReauthenticationRequired,\n",
    ")"
   ]
  },
  {
   "cell_type": "markdown",
   "metadata": {},
   "source": []
  },
  {
   "cell_type": "code",
   "execution_count": null,
   "metadata": {},
   "outputs": [],
   "source": [
    "@sync_and_async_middleware\n",
    "def AccountMiddleware(get_response):\n",
    "    if iscoroutinefunction(get_response):\n",
    "\n",
    "        async def middleware(request):\n",
    "            request.allauth = SimpleNamespace()\n",
    "            with context.request_context(request):\n",
    "                response = await get_response(request)\n",
    "                if _should_check_dangling_login(request, response):\n",
    "                    await _acheck_dangling_login(request)\n",
    "                return _accounts_redirect(request, response)\n",
    "\n",
    "    else:\n",
    "\n",
    "        def middleware(request):\n",
    "            request.allauth = SimpleNamespace()\n",
    "            with context.request_context(request):\n",
    "                response = get_response(request)\n",
    "                if _should_check_dangling_login(request, response):\n",
    "                    _check_dangling_login(request)\n",
    "                return _accounts_redirect(request, response)\n",
    "\n",
    "    def process_exception(request, exception):\n",
    "        if isinstance(exception, ImmediateHttpResponse):\n",
    "            return exception.response\n",
    "        elif isinstance(exception, ReauthenticationRequired):\n",
    "            redirect_url = reverse(\"account_login\")\n",
    "            methods = get_adapter().get_reauthentication_methods(request.user)\n",
    "            if methods:\n",
    "                redirect_url = methods[0][\"url\"]\n",
    "            return suspend_request(request, redirect_url)\n",
    "\n",
    "    middleware.process_exception = process_exception\n",
    "    return middleware"
   ]
  },
  {
   "cell_type": "markdown",
   "metadata": {},
   "source": []
  },
  {
   "cell_type": "code",
   "execution_count": null,
   "metadata": {},
   "outputs": [],
   "source": [
    "def _should_check_dangling_login(request, response):\n",
    "    sec_fetch_dest = request.headers.get(\"sec-fetch-dest\")\n",
    "    if sec_fetch_dest and sec_fetch_dest != \"document\":\n",
    "        return False\n",
    "    content_type = response.headers.get(\"content-type\")\n",
    "    if content_type:\n",
    "        content_type = content_type.partition(\";\")[0]\n",
    "    if content_type and content_type != \"text/html\":\n",
    "        return False\n",
    "    if request.path.startswith(settings.STATIC_URL) or request.path in [\n",
    "        \"/favicon.ico\",\n",
    "        \"/robots.txt\",\n",
    "        \"/humans.txt\",\n",
    "    ]:\n",
    "        return False\n",
    "    if response.status_code // 100 != 2:\n",
    "        return False\n",
    "    return True"
   ]
  },
  {
   "cell_type": "markdown",
   "metadata": {},
   "source": []
  },
  {
   "cell_type": "code",
   "execution_count": null,
   "metadata": {},
   "outputs": [],
   "source": [
    "def _check_dangling_login(request):\n",
    "    if not getattr(request, \"_account_login_accessed\", False):\n",
    "        if flows.login.LOGIN_SESSION_KEY in request.session:\n",
    "            request.session.pop(flows.login.LOGIN_SESSION_KEY)"
   ]
  },
  {
   "cell_type": "markdown",
   "metadata": {},
   "source": []
  },
  {
   "cell_type": "code",
   "execution_count": null,
   "metadata": {},
   "outputs": [],
   "source": [
    "async def _acheck_dangling_login(request):\n",
    "    await sync_to_async(_check_dangling_login)(request)"
   ]
  },
  {
   "cell_type": "markdown",
   "metadata": {},
   "source": []
  },
  {
   "cell_type": "code",
   "execution_count": null,
   "metadata": {},
   "outputs": [],
   "source": [
    "def _accounts_redirect(request, response):\n",
    "    \"\"\"\n",
    "    URLs should be hackable. Yet, assuming allauth is included like this...\n",
    "\n",
    "        path(\"accounts/\", include(\"allauth.urls\")),\n",
    "\n",
    "    ... and a user would attempt to navigate to /accounts/, a 404 would be\n",
    "    presented. This code catches that 404, and redirects to either the email\n",
    "    management overview or the login page, depending on whether or not the user\n",
    "    is authenticated.\n",
    "    \"\"\"\n",
    "    if response.status_code != 404:\n",
    "        return response\n",
    "    try:\n",
    "        login_path = reverse(\"account_login\")\n",
    "        email_path = reverse(\"account_email\")\n",
    "    except NoReverseMatch:\n",
    "        # Project might have deviated URLs, let's keep out of the way.\n",
    "        return response\n",
    "    prefix = os.path.commonprefix([login_path, email_path])\n",
    "    if len(prefix) <= 1 or prefix != request.path:\n",
    "        return response\n",
    "    # If we have a prefix that is not just '/', and that is what our request is\n",
    "    # pointing to, redirect.\n",
    "    return HttpResponseRedirect(\n",
    "        email_path if request.user.is_authenticated else login_path\n",
    "    )"
   ]
  },
  {
   "cell_type": "markdown",
   "metadata": {},
   "source": []
  }
 ],
 "metadata": {
  "language_info": {
   "name": "python"
  }
 },
 "nbformat": 4,
 "nbformat_minor": 2
}