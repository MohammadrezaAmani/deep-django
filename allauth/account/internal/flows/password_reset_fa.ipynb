{
 "cells": [
  {
   "cell_type": "code",
   "execution_count": null,
   "metadata": {},
   "outputs": [],
   "source": [
    "from urllib.parse import quote\n",
    "\n",
    "from allauth.account import signals\n",
    "from allauth.account.adapter import get_adapter\n",
    "from allauth.core.internal.httpkit import get_frontend_url\n",
    "from allauth.utils import build_absolute_uri\n",
    "from django.contrib import messages\n",
    "from django.urls import reverse"
   ]
  },
  {
   "cell_type": "markdown",
   "metadata": {},
   "source": []
  },
  {
   "cell_type": "code",
   "execution_count": null,
   "metadata": {},
   "outputs": [],
   "source": [
    "def reset_password(user, password):\n",
    "    get_adapter().set_password(user, password)"
   ]
  },
  {
   "cell_type": "markdown",
   "metadata": {},
   "source": []
  },
  {
   "cell_type": "code",
   "execution_count": null,
   "metadata": {},
   "outputs": [],
   "source": [
    "def finalize_password_reset(request, user):\n",
    "    adapter = get_adapter()\n",
    "    if user:\n",
    "        # User successfully reset the password, clear any\n",
    "        # possible cache entries for all email addresses.\n",
    "        for email in user.emailaddress_set.all():\n",
    "            adapter._delete_login_attempts_cached_email(request, email=email.email)\n",
    "\n",
    "    adapter.add_message(\n",
    "        request,\n",
    "        messages.SUCCESS,\n",
    "        \"account/messages/password_changed.txt\",\n",
    "    )\n",
    "    signals.password_reset.send(\n",
    "        sender=user.__class__,\n",
    "        request=request,\n",
    "        user=user,\n",
    "    )\n",
    "    adapter.send_notification_mail(\"account/email/password_reset\", user)"
   ]
  },
  {
   "cell_type": "markdown",
   "metadata": {},
   "source": []
  },
  {
   "cell_type": "code",
   "execution_count": null,
   "metadata": {},
   "outputs": [],
   "source": [
    "def get_reset_password_url(request):\n",
    "    url = get_frontend_url(request, \"account_reset_password\")\n",
    "    if not url:\n",
    "        url = build_absolute_uri(request, reverse(\"account_reset_password\"))\n",
    "    return url"
   ]
  },
  {
   "cell_type": "markdown",
   "metadata": {},
   "source": []
  },
  {
   "cell_type": "code",
   "execution_count": null,
   "metadata": {},
   "outputs": [],
   "source": [
    "def get_reset_password_from_key_url(request, key):\n",
    "    \"\"\"\n",
    "    Method intented to be overriden in case the password reset email\n",
    "    needs to point to your frontend/SPA.\n",
    "    \"\"\"\n",
    "    url = get_frontend_url(request, \"account_reset_password_from_key\", key=key)\n",
    "    if not url:\n",
    "        # We intentionally accept an opaque `key` on the interface here, and not\n",
    "        # implementation details such as a separate `uidb36` and `key. Ideally,\n",
    "        # this should have done on `urls` level as well.\n",
    "        path = reverse(\n",
    "            \"account_reset_password_from_key\", kwargs={\"uidb36\": \"UID\", \"key\": \"KEY\"}\n",
    "        )\n",
    "        path = path.replace(\"UID-KEY\", quote(key))\n",
    "        url = build_absolute_uri(request, path)\n",
    "    return url"
   ]
  },
  {
   "cell_type": "markdown",
   "metadata": {},
   "source": []
  }
 ],
 "metadata": {
  "language_info": {
   "name": "python"
  }
 },
 "nbformat": 4,
 "nbformat_minor": 2
}