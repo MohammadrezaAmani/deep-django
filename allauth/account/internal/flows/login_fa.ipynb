{
 "cells": [
  {
   "cell_type": "code",
   "execution_count": null,
   "metadata": {},
   "outputs": [],
   "source": [
    "from allauth.account.adapter import get_adapter\n",
    "from allauth.account.authentication import record_authentication\n",
    "from allauth.core.exceptions import ImmediateHttpResponse\n",
    "\n",
    "LOGIN_SESSION_KEY = \"account_login\""
   ]
  },
  {
   "cell_type": "markdown",
   "metadata": {},
   "source": []
  },
  {
   "cell_type": "code",
   "execution_count": null,
   "metadata": {},
   "outputs": [],
   "source": [
    "def _get_login_hook_kwargs(login):\n",
    "    \"\"\"\n",
    "    TODO: Just break backwards compatibility and pass only `login` to\n",
    "    `pre/post_login()`.\n",
    "    \"\"\"\n",
    "    return dict(\n",
    "        email_verification=login.email_verification,\n",
    "        redirect_url=login.redirect_url,\n",
    "        signal_kwargs=login.signal_kwargs,\n",
    "        signup=login.signup,\n",
    "        email=login.email,\n",
    "    )"
   ]
  },
  {
   "cell_type": "markdown",
   "metadata": {},
   "source": []
  },
  {
   "cell_type": "code",
   "execution_count": null,
   "metadata": {},
   "outputs": [],
   "source": [
    "def perform_password_login(request, credentials, login):\n",
    "    extra_data = {\n",
    "        field: credentials.get(field)\n",
    "        for field in [\"email\", \"username\"]\n",
    "        if credentials.get(field)\n",
    "    }\n",
    "    record_authentication(request, method=\"password\", **extra_data)\n",
    "    return perform_login(request, login)"
   ]
  },
  {
   "cell_type": "markdown",
   "metadata": {},
   "source": []
  },
  {
   "cell_type": "code",
   "execution_count": null,
   "metadata": {},
   "outputs": [],
   "source": [
    "def perform_login(request, login):\n",
    "    adapter = get_adapter()\n",
    "    hook_kwargs = _get_login_hook_kwargs(login)\n",
    "    response = adapter.pre_login(request, login.user, **hook_kwargs)\n",
    "    if response:\n",
    "        return response\n",
    "    return resume_login(request, login)"
   ]
  },
  {
   "cell_type": "markdown",
   "metadata": {},
   "source": []
  },
  {
   "cell_type": "code",
   "execution_count": null,
   "metadata": {},
   "outputs": [],
   "source": [
    "def resume_login(request, login):\n",
    "    from allauth.account.stages import LoginStageController\n",
    "\n",
    "    adapter = get_adapter()\n",
    "    ctrl = LoginStageController(request, login)\n",
    "    try:\n",
    "        response = ctrl.handle()\n",
    "        if response:\n",
    "            return response\n",
    "        adapter.login(request, login.user)\n",
    "        hook_kwargs = _get_login_hook_kwargs(login)\n",
    "        response = adapter.post_login(request, login.user, **hook_kwargs)\n",
    "        if response:\n",
    "            return response\n",
    "    except ImmediateHttpResponse as e:\n",
    "        response = e.response\n",
    "    return response"
   ]
  },
  {
   "cell_type": "markdown",
   "metadata": {},
   "source": []
  }
 ],
 "metadata": {
  "language_info": {
   "name": "python"
  }
 },
 "nbformat": 4,
 "nbformat_minor": 2
}