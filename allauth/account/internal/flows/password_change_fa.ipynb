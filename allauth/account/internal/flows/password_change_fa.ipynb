{
    "cells": [
        {
            "cell_type": "code",
            "execution_count": null,
            "metadata": {},
            "outputs": [],
            "source": [
                "from allauth.account import app_settings, signals\n",
                "from allauth.account.adapter import get_adapter\n",
                "from allauth.account.internal.flows.logout import logout\n",
                "from django.contrib import messages\n",
                "from django.contrib.auth import update_session_auth_hash\n"
            ]
        },
        {
            "cell_type": "markdown",
            "metadata": {},
            "source": []
        },
        {
            "cell_type": "code",
            "execution_count": null,
            "metadata": {},
            "outputs": [],
            "source": [
                "def change_password(user, password):\n",
                "    get_adapter().set_password(user, password)\n"
            ]
        },
        {
            "cell_type": "markdown",
            "metadata": {},
            "source": []
        },
        {
            "cell_type": "code",
            "execution_count": null,
            "metadata": {},
            "outputs": [],
            "source": [
                "def finalize_password_change(request, user):\n",
                "    logged_out = logout_on_password_change(request, user)\n",
                "    adapter = get_adapter(request)\n",
                "    adapter.add_message(\n",
                "        request,\n",
                "        messages.SUCCESS,\n",
                "        \"account/messages/password_changed.txt\",\n",
                "    )\n",
                "    adapter.send_notification_mail(\"account/email/password_changed\", user)\n",
                "    signals.password_changed.send(\n",
                "        sender=user.__class__,\n",
                "        request=request,\n",
                "        user=user,\n",
                "    )\n",
                "    return logged_out\n"
            ]
        },
        {
            "cell_type": "markdown",
            "metadata": {},
            "source": []
        },
        {
            "cell_type": "code",
            "execution_count": null,
            "metadata": {},
            "outputs": [],
            "source": [
                "def finalize_password_set(request, user):\n",
                "    logged_out = logout_on_password_change(request, user)\n",
                "    adapter = get_adapter(request)\n",
                "    adapter.add_message(request, messages.SUCCESS, \"account/messages/password_set.txt\")\n",
                "    adapter.send_notification_mail(\"account/email/password_set\", user)\n",
                "    signals.password_set.send(\n",
                "        sender=user.__class__,\n",
                "        request=request,\n",
                "        user=user,\n",
                "    )\n",
                "    return logged_out\n"
            ]
        },
        {
            "cell_type": "markdown",
            "metadata": {},
            "source": []
        },
        {
            "cell_type": "code",
            "execution_count": null,
            "metadata": {},
            "outputs": [],
            "source": [
                "def logout_on_password_change(request, user):\n",
                "    # Since it is the default behavior of Django to invalidate all sessions on\n",
                "    # password change, this function actually has to preserve the session when\n",
                "    # logout isn't desired.\n",
                "    logged_out = True\n",
                "    if not app_settings.LOGOUT_ON_PASSWORD_CHANGE:\n",
                "        update_session_auth_hash(request, user)\n",
                "        logged_out = False\n",
                "    else:\n",
                "        logout(request)\n",
                "    return logged_out\n",
                "\n"
            ]
        },
        {
            "cell_type": "markdown",
            "metadata": {},
            "source": []
        }
    ],
    "metadata": {
        "language_info": {
            "name": "python"
        }
    },
    "nbformat": 4,
    "nbformat_minor": 2
}