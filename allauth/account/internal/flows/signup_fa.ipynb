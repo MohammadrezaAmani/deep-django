{
 "cells": [
  {
   "cell_type": "code",
   "execution_count": null,
   "metadata": {},
   "outputs": [],
   "source": [
    "from allauth.account.adapter import get_adapter\n",
    "from allauth.core.internal.httpkit import get_frontend_url\n",
    "from allauth.utils import build_absolute_uri\n",
    "from django.urls import reverse"
   ]
  },
  {
   "cell_type": "markdown",
   "metadata": {},
   "source": []
  },
  {
   "cell_type": "code",
   "execution_count": null,
   "metadata": {},
   "outputs": [],
   "source": [
    "def send_unknown_account_mail(request, email):\n",
    "    signup_url = get_signup_url(request)\n",
    "    context = {\n",
    "        \"request\": request,\n",
    "        \"signup_url\": signup_url,\n",
    "    }\n",
    "    get_adapter().send_mail(\"account/email/unknown_account\", email, context)"
   ]
  },
  {
   "cell_type": "markdown",
   "metadata": {},
   "source": []
  },
  {
   "cell_type": "code",
   "execution_count": null,
   "metadata": {},
   "outputs": [],
   "source": [
    "def get_signup_url(request):\n",
    "    url = get_frontend_url(request, \"account_signup\")\n",
    "    if not url:\n",
    "        url = build_absolute_uri(request, reverse(\"account_signup\"))\n",
    "    return url"
   ]
  },
  {
   "cell_type": "markdown",
   "metadata": {},
   "source": []
  }
 ],
 "metadata": {
  "language_info": {
   "name": "python"
  }
 },
 "nbformat": 4,
 "nbformat_minor": 2
}