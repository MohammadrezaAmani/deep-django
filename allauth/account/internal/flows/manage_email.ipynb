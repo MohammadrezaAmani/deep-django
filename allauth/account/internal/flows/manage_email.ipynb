{
 "cells": [
  {
   "cell_type": "code",
   "execution_count": null,
   "metadata": {},
   "outputs": [],
   "source": [
    "from django.contrib import messages\n",
    "from django.urls import reverse\n",
    "\n",
    "from allauth.account import app_settings, signals\n",
    "from allauth.account.adapter import get_adapter\n",
    "from allauth.account.models import EmailAddress\n",
    "from allauth.account.reauthentication import raise_if_reauthentication_required\n",
    "from allauth.core.internal.httpkit import get_frontend_url\n",
    "from allauth.utils import build_absolute_uri"
   ]
  },
  {
   "cell_type": "markdown",
   "metadata": {},
   "source": []
  },
  {
   "cell_type": "code",
   "execution_count": null,
   "metadata": {},
   "outputs": [],
   "source": [
    "def can_delete_email(email_address):\n",
    "    adapter = get_adapter()\n",
    "    return adapter.can_delete_email(email_address)"
   ]
  },
  {
   "cell_type": "markdown",
   "metadata": {},
   "source": []
  },
  {
   "cell_type": "code",
   "execution_count": null,
   "metadata": {},
   "outputs": [],
   "source": [
    "def delete_email(request, email_address):\n",
    "    if app_settings.REAUTHENTICATION_REQUIRED:\n",
    "        raise_if_reauthentication_required(request)\n",
    "\n",
    "    success = False\n",
    "    adapter = get_adapter()\n",
    "    if not can_delete_email(email_address):\n",
    "        adapter.add_message(\n",
    "            request,\n",
    "            messages.ERROR,\n",
    "            \"account/messages/cannot_delete_primary_email.txt\",\n",
    "            {\"email\": email_address.email},\n",
    "        )\n",
    "    else:\n",
    "        email_address.remove()\n",
    "        signals.email_removed.send(\n",
    "            sender=request.user.__class__,\n",
    "            request=request,\n",
    "            user=request.user,\n",
    "            email_address=email_address,\n",
    "        )\n",
    "        adapter.add_message(\n",
    "            request,\n",
    "            messages.SUCCESS,\n",
    "            \"account/messages/email_deleted.txt\",\n",
    "            {\"email\": email_address.email},\n",
    "        )\n",
    "        adapter.send_notification_mail(\n",
    "            \"account/email/email_deleted\",\n",
    "            request.user,\n",
    "            {\"deleted_email\": email_address.email},\n",
    "        )\n",
    "        success = True\n",
    "    return success"
   ]
  },
  {
   "cell_type": "markdown",
   "metadata": {},
   "source": []
  },
  {
   "cell_type": "code",
   "execution_count": null,
   "metadata": {},
   "outputs": [],
   "source": [
    "def add_email(request, form):\n",
    "    if app_settings.REAUTHENTICATION_REQUIRED:\n",
    "        raise_if_reauthentication_required(request)\n",
    "\n",
    "    email_address = form.save(request)\n",
    "    adapter = get_adapter(request)\n",
    "    adapter.add_message(\n",
    "        request,\n",
    "        messages.INFO,\n",
    "        \"account/messages/email_confirmation_sent.txt\",\n",
    "        {\"email\": form.cleaned_data[\"email\"]},\n",
    "    )\n",
    "    signals.email_added.send(\n",
    "        sender=request.user.__class__,\n",
    "        request=request,\n",
    "        user=request.user,\n",
    "        email_address=email_address,\n",
    "    )"
   ]
  },
  {
   "cell_type": "markdown",
   "metadata": {},
   "source": []
  },
  {
   "cell_type": "code",
   "execution_count": null,
   "metadata": {},
   "outputs": [],
   "source": [
    "def can_mark_as_primary(email_address):\n",
    "    return (\n",
    "        email_address.verified\n",
    "        or not EmailAddress.objects.filter(\n",
    "            user=email_address.user, verified=True\n",
    "        ).exists()\n",
    "    )"
   ]
  },
  {
   "cell_type": "markdown",
   "metadata": {},
   "source": []
  },
  {
   "cell_type": "code",
   "execution_count": null,
   "metadata": {},
   "outputs": [],
   "source": [
    "def mark_as_primary(request, email_address):\n",
    "    from allauth.account.utils import emit_email_changed\n",
    "\n",
    "    if app_settings.REAUTHENTICATION_REQUIRED:\n",
    "        raise_if_reauthentication_required(request)\n",
    "\n",
    "    # Not primary=True -- Slightly different variation, don't\n",
    "    # require verified unless moving from a verified\n",
    "    # address. Ignore constraint if previous primary email\n",
    "    # address is not verified.\n",
    "    success = False\n",
    "    if not can_mark_as_primary(email_address):\n",
    "        get_adapter().add_message(\n",
    "            request,\n",
    "            messages.ERROR,\n",
    "            \"account/messages/unverified_primary_email.txt\",\n",
    "        )\n",
    "    else:\n",
    "        from_email_address = EmailAddress.objects.filter(\n",
    "            user=request.user, primary=True\n",
    "        ).first()\n",
    "        email_address.set_as_primary()\n",
    "        adapter = get_adapter()\n",
    "        adapter.add_message(\n",
    "            request,\n",
    "            messages.SUCCESS,\n",
    "            \"account/messages/primary_email_set.txt\",\n",
    "        )\n",
    "        emit_email_changed(request, from_email_address, email_address)\n",
    "        success = True\n",
    "    return success"
   ]
  },
  {
   "cell_type": "markdown",
   "metadata": {},
   "source": []
  },
  {
   "cell_type": "code",
   "execution_count": null,
   "metadata": {},
   "outputs": [],
   "source": [
    "def verify_email(request, email_address):\n",
    "    \"\"\"\n",
    "    Marks the email address as confirmed on the db\n",
    "    \"\"\"\n",
    "    from allauth.account.models import EmailAddress\n",
    "    from allauth.account.utils import emit_email_changed\n",
    "\n",
    "    from_email_address = (\n",
    "        EmailAddress.objects.filter(user_id=email_address.user_id)\n",
    "        .exclude(pk=email_address.pk)\n",
    "        .first()\n",
    "    )\n",
    "    if not email_address.set_verified(commit=False):\n",
    "        return False\n",
    "    email_address.set_as_primary(conditional=(not app_settings.CHANGE_EMAIL))\n",
    "    email_address.save(update_fields=[\"verified\", \"primary\"])\n",
    "    if app_settings.CHANGE_EMAIL:\n",
    "        for instance in EmailAddress.objects.filter(\n",
    "            user_id=email_address.user_id\n",
    "        ).exclude(pk=email_address.pk):\n",
    "            instance.remove()\n",
    "        emit_email_changed(request, from_email_address, email_address)\n",
    "    return True"
   ]
  },
  {
   "cell_type": "markdown",
   "metadata": {},
   "source": []
  },
  {
   "cell_type": "code",
   "execution_count": null,
   "metadata": {},
   "outputs": [],
   "source": [
    "def get_email_verification_url(request, emailconfirmation):\n",
    "    \"\"\"Constructs the email confirmation (activation) url.\n",
    "\n",
    "    Note that if you have architected your system such that email\n",
    "    confirmations are sent outside of the request context `request`\n",
    "    can be `None` here.\n",
    "    \"\"\"\n",
    "    url = get_frontend_url(request, \"account_confirm_email\", key=emailconfirmation.key)\n",
    "    if not url:\n",
    "        url = reverse(\"account_confirm_email\", args=[emailconfirmation.key])\n",
    "        url = build_absolute_uri(request, url)\n",
    "    return url"
   ]
  },
  {
   "cell_type": "markdown",
   "metadata": {},
   "source": []
  }
 ],
 "metadata": {
  "language_info": {
   "name": "python"
  }
 },
 "nbformat": 4,
 "nbformat_minor": 2
}