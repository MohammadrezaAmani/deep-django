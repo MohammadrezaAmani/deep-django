{
    "cells": [
        {
            "cell_type": "code",
            "execution_count": null,
            "metadata": {},
            "outputs": [],
            "source": [
                "import time\n",
                "\n",
                "from django.contrib import messages\n",
                "from django.contrib.auth import get_user_model\n",
                "\n",
                "from allauth.account import app_settings\n",
                "from allauth.account.adapter import get_adapter\n",
                "from allauth.account.authentication import record_authentication\n",
                "from allauth.account.internal.flows.login import perform_login\n",
                "from allauth.account.internal.flows.signup import send_unknown_account_mail\n",
                "from allauth.account.models import Login\n"
            ]
        },
        {
            "cell_type": "markdown",
            "metadata": {},
            "source": []
        },
        {
            "cell_type": "code",
            "execution_count": null,
            "metadata": {},
            "outputs": [],
            "source": [
                "LOGIN_CODE_SESSION_KEY = \"account_login_code\"\n"
            ]
        },
        {
            "cell_type": "markdown",
            "metadata": {},
            "source": []
        },
        {
            "cell_type": "code",
            "execution_count": null,
            "metadata": {},
            "outputs": [],
            "source": [
                "def request_login_code(request, email):\n",
                "    from allauth.account.utils import filter_users_by_email\n",
                "\n",
                "    adapter = get_adapter()\n",
                "    users = filter_users_by_email(email, is_active=True, prefer_verified=True)\n",
                "    pending_login = {\n",
                "        \"at\": time.time(),\n",
                "        \"email\": email,\n",
                "        \"failed_attempts\": 0,\n",
                "    }\n",
                "    if not users:\n",
                "        send_unknown_account_mail(request, email)\n",
                "    else:\n",
                "        user = users[0]\n",
                "        code = adapter.generate_login_code()\n",
                "        context = {\n",
                "            \"request\": request,\n",
                "            \"code\": code,\n",
                "        }\n",
                "        adapter.send_mail(\"account/email/login_code\", email, context)\n",
                "        pending_login.update(\n",
                "            {\"code\": code, \"user_id\": user._meta.pk.value_to_string(user)}\n",
                "        )\n",
                "\n",
                "    request.session[LOGIN_CODE_SESSION_KEY] = pending_login\n",
                "    adapter.add_message(\n",
                "        request,\n",
                "        messages.SUCCESS,\n",
                "        \"account/messages/login_code_sent.txt\",\n",
                "        {\"email\": email},\n",
                "    )\n"
            ]
        },
        {
            "cell_type": "markdown",
            "metadata": {},
            "source": []
        },
        {
            "cell_type": "code",
            "execution_count": null,
            "metadata": {},
            "outputs": [],
            "source": [
                "def get_pending_login(request, peek=False):\n",
                "    if peek:\n",
                "        data = request.session.get(LOGIN_CODE_SESSION_KEY)\n",
                "    else:\n",
                "        data = request.session.pop(LOGIN_CODE_SESSION_KEY, None)\n",
                "    if not data:\n",
                "        return None, None\n",
                "    if time.time() - data[\"at\"] >= app_settings.LOGIN_BY_CODE_TIMEOUT:\n",
                "        request.session.pop(LOGIN_CODE_SESSION_KEY, None)\n",
                "        return None, None\n",
                "    user_id_str = data.get(\"user_id\")\n",
                "    user = None\n",
                "    if user_id_str:\n",
                "        user_id = get_user_model()._meta.pk.to_python(user_id_str)\n",
                "        user = get_user_model().objects.get(pk=user_id)\n",
                "    return user, data\n"
            ]
        },
        {
            "cell_type": "markdown",
            "metadata": {},
            "source": []
        },
        {
            "cell_type": "code",
            "execution_count": null,
            "metadata": {},
            "outputs": [],
            "source": [
                "def record_invalid_attempt(request, pending_login):\n",
                "    n = pending_login[\"failed_attempts\"]\n",
                "    n += 1\n",
                "    pending_login[\"failed_attempts\"] = n\n",
                "    if n >= app_settings.LOGIN_BY_CODE_MAX_ATTEMPTS:\n",
                "        request.session.pop(LOGIN_CODE_SESSION_KEY, None)\n",
                "        return False\n",
                "    else:\n",
                "        request.session[LOGIN_CODE_SESSION_KEY] = pending_login\n",
                "        return True\n"
            ]
        },
        {
            "cell_type": "markdown",
            "metadata": {},
            "source": []
        },
        {
            "cell_type": "code",
            "execution_count": null,
            "metadata": {},
            "outputs": [],
            "source": [
                "def perform_login_by_code(request, user, redirect_url, pending_login):\n",
                "    request.session.pop(LOGIN_CODE_SESSION_KEY, None)\n",
                "    record_authentication(request, method=\"code\", email=pending_login[\"email\"])\n",
                "    login = Login(\n",
                "        user=user,\n",
                "        redirect_url=redirect_url,\n",
                "        email=pending_login[\"email\"],\n",
                "    )\n",
                "    return perform_login(request, login)\n",
                "\n"
            ]
        },
        {
            "cell_type": "markdown",
            "metadata": {},
            "source": []
        }
    ],
    "metadata": {
        "language_info": {
            "name": "python"
        }
    },
    "nbformat": 4,
    "nbformat_minor": 2
}