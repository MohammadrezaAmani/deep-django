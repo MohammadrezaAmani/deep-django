{
    "cells": [
        {
            "cell_type": "code",
            "execution_count": null,
            "metadata": {},
            "outputs": [],
            "source": [
                "import time\n",
                "\n",
                "from allauth.account import app_settings\n",
                "from allauth.account.adapter import get_adapter\n",
                "from allauth.account.authentication import get_authentication_records\n",
                "from allauth.core.exceptions import ReauthenticationRequired\n",
                "from allauth.core.internal.httpkit import deserialize_request, serialize_request\n",
                "from allauth.utils import import_callable\n",
                "from django.contrib.auth import REDIRECT_FIELD_NAME\n",
                "from django.http import HttpResponseRedirect\n",
                "from django.urls import resolve, reverse\n",
                "from django.utils.http import urlencode\n",
                "\n",
                "STATE_SESSION_KEY = \"account_reauthentication_state\"\n"
            ]
        },
        {
            "cell_type": "markdown",
            "metadata": {},
            "source": []
        },
        {
            "cell_type": "code",
            "execution_count": null,
            "metadata": {},
            "outputs": [],
            "source": [
                "def suspend_request(request, redirect_to):\n",
                "    path = request.get_full_path()\n",
                "    if request.method == \"POST\":\n",
                "        request.session[STATE_SESSION_KEY] = {\"request\": serialize_request(request)}\n",
                "    return HttpResponseRedirect(\n",
                "        redirect_to + \"?\" + urlencode({REDIRECT_FIELD_NAME: path})\n",
                "    )\n"
            ]
        },
        {
            "cell_type": "markdown",
            "metadata": {},
            "source": []
        },
        {
            "cell_type": "code",
            "execution_count": null,
            "metadata": {},
            "outputs": [],
            "source": [
                "def resume_request(request):\n",
                "    from allauth.account.utils import get_next_redirect_url\n",
                "\n",
                "    state = request.session.pop(STATE_SESSION_KEY, None)\n",
                "    if state and \"callback\" in state:\n",
                "        callback = import_callable(state[\"callback\"])\n",
                "        return callback(request, state[\"state\"])\n",
                "\n",
                "    url = get_next_redirect_url(request, REDIRECT_FIELD_NAME)\n",
                "    if not url:\n",
                "        return None\n",
                "    if state and \"request\" in state:\n",
                "        suspended_request = deserialize_request(state[\"request\"], request)\n",
                "        if suspended_request.path == url:\n",
                "            resolved = resolve(suspended_request.path)\n",
                "            return resolved.func(suspended_request, *resolved.args, **resolved.kwargs)\n",
                "    return HttpResponseRedirect(url)\n"
            ]
        },
        {
            "cell_type": "markdown",
            "metadata": {},
            "source": []
        },
        {
            "cell_type": "code",
            "execution_count": null,
            "metadata": {},
            "outputs": [],
            "source": [
                "def reauthenticate_then_callback(request, serialize_state, callback):\n",
                "    # TODO: Currently, ACCOUNT_REAUTHENTICATION_REQUIRED does not play well with\n",
                "    # XHR.\n",
                "    if did_recently_authenticate(request):\n",
                "        return None\n",
                "    request.session[STATE_SESSION_KEY] = {\n",
                "        \"state\": serialize_state(request),\n",
                "        \"callback\": callback,\n",
                "    }\n",
                "    return HttpResponseRedirect(reverse(\"account_reauthenticate\"))\n"
            ]
        },
        {
            "cell_type": "markdown",
            "metadata": {},
            "source": []
        },
        {
            "cell_type": "code",
            "execution_count": null,
            "metadata": {},
            "outputs": [],
            "source": [
                "def raise_if_reauthentication_required(request):\n",
                "    if not did_recently_authenticate(request):\n",
                "        raise ReauthenticationRequired()\n"
            ]
        },
        {
            "cell_type": "markdown",
            "metadata": {},
            "source": []
        },
        {
            "cell_type": "code",
            "execution_count": null,
            "metadata": {},
            "outputs": [],
            "source": [
                "def did_recently_authenticate(request):\n",
                "    if request.user.is_anonymous:\n",
                "        return False\n",
                "    if not get_adapter().get_reauthentication_methods(request.user):\n",
                "        # TODO: This user only has social accounts attached. Now, ideally, you\n",
                "        # would want to reauthenticate over at the social account provider. For\n",
                "        # now, this is not implemented. Although definitely suboptimal, this\n",
                "        # method is currently used for reauthentication checks over at MFA, and,\n",
                "        # users that delegate the security of their account to an external\n",
                "        # provider like Google typically use MFA over there anyway.\n",
                "        return True\n",
                "    methods = get_authentication_records(request)\n",
                "    if not methods:\n",
                "        return False\n",
                "    authenticated_at = methods[-1][\"at\"]\n",
                "    return time.time() - authenticated_at < app_settings.REAUTHENTICATION_TIMEOUT\n",
                "\n"
            ]
        },
        {
            "cell_type": "markdown",
            "metadata": {},
            "source": []
        }
    ],
    "metadata": {
        "language_info": {
            "name": "python"
        }
    },
    "nbformat": 4,
    "nbformat_minor": 2
}