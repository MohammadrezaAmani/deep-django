{
 "cells": [
  {
   "cell_type": "code",
   "execution_count": null,
   "metadata": {},
   "outputs": [],
   "source": [
    "from django.contrib.auth.signals import user_logged_out  # noqa\n",
    "from django.dispatch import Signal"
   ]
  },
  {
   "cell_type": "markdown",
   "metadata": {},
   "source": []
  },
  {
   "cell_type": "code",
   "execution_count": null,
   "metadata": {},
   "outputs": [],
   "source": [
    "# Provides the arguments \"request\", \"user\"\n",
    "user_logged_in = Signal()\n",
    "\n",
    "# Typically followed by `user_logged_in` (unless, email verification kicks in)\n",
    "# Provides the arguments \"request\", \"user\"\n",
    "user_signed_up = Signal()\n",
    "\n",
    "# Provides the arguments \"request\", \"user\"\n",
    "password_set = Signal()\n",
    "# Provides the arguments \"request\", \"user\"\n",
    "password_changed = Signal()\n",
    "# Provides the arguments \"request\", \"user\"\n",
    "password_reset = Signal()\n",
    "\n",
    "# Provides the arguments \"request\", \"email_address\"\n",
    "email_confirmed = Signal()\n",
    "# Provides the arguments \"request\", \"confirmation\", \"signup\"\n",
    "email_confirmation_sent = Signal()\n",
    "\n",
    "# Provides the arguments \"request\", \"user\", \"from_email_address\",\n",
    "# \"to_email_address\"\n",
    "email_changed = Signal()\n",
    "# Provides the arguments \"request\", \"user\", \"email_address\"\n",
    "email_added = Signal()\n",
    "# Provides the arguments \"request\", \"user\", \"email_address\"\n",
    "email_removed = Signal()\n",
    "\n",
    "# Internal/private signal.\n",
    "_add_email = Signal()"
   ]
  },
  {
   "cell_type": "markdown",
   "metadata": {},
   "source": []
  }
 ],
 "metadata": {
  "language_info": {
   "name": "python"
  }
 },
 "nbformat": 4,
 "nbformat_minor": 2
}