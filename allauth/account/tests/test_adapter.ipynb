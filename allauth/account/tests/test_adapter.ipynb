{
    "cells": [
        {
            "cell_type": "code",
            "execution_count": null,
            "metadata": {},
            "outputs": [],
            "source": [
                "from django.http import HttpResponseRedirect\n",
                "from django.urls import reverse\n",
                "\n",
                "from allauth.account.adapter import DefaultAccountAdapter\n",
                "from allauth.core.exceptions import ImmediateHttpResponse\n"
            ]
        },
        {
            "cell_type": "markdown",
            "metadata": {},
            "source": []
        },
        {
            "cell_type": "code",
            "execution_count": null,
            "metadata": {},
            "outputs": [],
            "source": [
                "class PreLoginRedirectAccountAdapter(DefaultAccountAdapter):\n",
                "    def pre_login(self, *args, **kwargs):\n",
                "        raise ImmediateHttpResponse(HttpResponseRedirect(\"/foo\"))\n"
            ]
        },
        {
            "cell_type": "markdown",
            "metadata": {},
            "source": []
        },
        {
            "cell_type": "code",
            "execution_count": null,
            "metadata": {},
            "outputs": [],
            "source": [
                "def test_adapter_pre_login(settings, user, user_password, client):\n",
                "    settings.ACCOUNT_ADAPTER = (\n",
                "        \"allauth.account.tests.test_adapter.PreLoginRedirectAccountAdapter\"\n",
                "    )\n",
                "    resp = client.post(\n",
                "        reverse(\"account_login\"),\n",
                "        {\"login\": user.username, \"password\": user_password},\n",
                "    )\n",
                "    assert resp.status_code == 302\n",
                "    assert resp[\"location\"] == \"/foo\"\n",
                "\n"
            ]
        },
        {
            "cell_type": "markdown",
            "metadata": {},
            "source": []
        }
    ],
    "metadata": {
        "language_info": {
            "name": "python"
        }
    },
    "nbformat": 4,
    "nbformat_minor": 2
}