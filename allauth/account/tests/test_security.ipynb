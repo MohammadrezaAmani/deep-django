{
    "cells": [
        {
            "cell_type": "code",
            "execution_count": null,
            "metadata": {},
            "outputs": [],
            "source": [
                "from allauth.account.forms import ResetPasswordForm\n"
            ]
        },
        {
            "cell_type": "markdown",
            "metadata": {},
            "source": []
        },
        {
            "cell_type": "code",
            "execution_count": null,
            "metadata": {},
            "outputs": [],
            "source": [
                "def test_user_email_unicode_collision(settings, rf, user_factory, mailoutbox):\n",
                "    settings.ACCOUNT_PREVENT_ENUMERATION = False\n",
                "    user_factory(username=\"mike123\", email=\"mike@example.org\")\n",
                "    user_factory(username=\"mike456\", email=\"m\u0131ke@example.org\")\n",
                "    data = {\"email\": \"m\u0131ke@example.org\"}\n",
                "    form = ResetPasswordForm(data)\n",
                "    assert form.is_valid()\n",
                "    form.save(rf.get(\"/\"))\n",
                "    assert len(mailoutbox) == 1\n",
                "    assert mailoutbox[0].to == [\"m\u0131ke@example.org\"]\n"
            ]
        },
        {
            "cell_type": "markdown",
            "metadata": {},
            "source": []
        },
        {
            "cell_type": "code",
            "execution_count": null,
            "metadata": {},
            "outputs": [],
            "source": [
                "def test_user_email_domain_unicode_collision(settings, rf, user_factory, mailoutbox):\n",
                "    settings.ACCOUNT_PREVENT_ENUMERATION = False\n",
                "    user_factory(username=\"mike123\", email=\"mike@ixample.org\")\n",
                "    user_factory(username=\"mike456\", email=\"mike@\u0131xample.org\")\n",
                "    data = {\"email\": \"mike@\u0131xample.org\"}\n",
                "    form = ResetPasswordForm(data)\n",
                "    assert form.is_valid()\n",
                "    form.save(rf.get(\"/\"))\n",
                "    assert len(mailoutbox) == 1\n",
                "    assert mailoutbox[0].to == [\"mike@\u0131xample.org\"]\n"
            ]
        },
        {
            "cell_type": "markdown",
            "metadata": {},
            "source": []
        },
        {
            "cell_type": "code",
            "execution_count": null,
            "metadata": {},
            "outputs": [],
            "source": [
                "def test_user_email_unicode_collision_nonexistent(settings, user_factory):\n",
                "    settings.ACCOUNT_PREVENT_ENUMERATION = False\n",
                "    user_factory(username=\"mike123\", email=\"mike@example.org\")\n",
                "    data = {\"email\": \"m\u0131ke@example.org\"}\n",
                "    form = ResetPasswordForm(data)\n",
                "    assert not form.is_valid()\n"
            ]
        },
        {
            "cell_type": "markdown",
            "metadata": {},
            "source": []
        },
        {
            "cell_type": "code",
            "execution_count": null,
            "metadata": {},
            "outputs": [],
            "source": [
                "def test_user_email_domain_unicode_collision_nonexistent(settings, user_factory):\n",
                "    settings.ACCOUNT_PREVENT_ENUMERATION = False\n",
                "    user_factory(username=\"mike123\", email=\"mike@ixample.org\")\n",
                "    data = {\"email\": \"mike@\u0131xample.org\"}\n",
                "    form = ResetPasswordForm(data)\n",
                "    assert not form.is_valid()\n",
                "\n"
            ]
        },
        {
            "cell_type": "markdown",
            "metadata": {},
            "source": []
        }
    ],
    "metadata": {
        "language_info": {
            "name": "python"
        }
    },
    "nbformat": 4,
    "nbformat_minor": 2
}