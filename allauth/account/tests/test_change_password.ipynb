{
    "cells": [
        {
            "cell_type": "code",
            "execution_count": null,
            "metadata": {},
            "outputs": [],
            "source": [
                "from django.urls import reverse, reverse_lazy\n",
                "\n",
                "import pytest\n"
            ]
        },
        {
            "cell_type": "markdown",
            "metadata": {},
            "source": []
        },
        {
            "cell_type": "code",
            "execution_count": null,
            "metadata": {},
            "outputs": [],
            "source": [
                "def test_change_unusable_password_redirects_to_set(client, user, user_password):\n",
                "    user.set_unusable_password()\n",
                "    user.save()\n",
                "    client.force_login(user)\n",
                "    resp = client.get(reverse(\"account_change_password\"))\n",
                "    assert resp.status_code == 302\n",
                "    assert resp[\"location\"] == reverse(\"account_set_password\")\n"
            ]
        },
        {
            "cell_type": "markdown",
            "metadata": {},
            "source": []
        },
        {
            "cell_type": "code",
            "execution_count": null,
            "metadata": {},
            "outputs": [],
            "source": [
                "def test_set_usable_password_redirects_to_change(auth_client, user):\n",
                "    resp = auth_client.get(reverse(\"account_set_password\"))\n",
                "    assert resp.status_code == 302\n",
                "    assert resp[\"location\"] == reverse(\"account_change_password\")\n"
            ]
        },
        {
            "cell_type": "markdown",
            "metadata": {},
            "source": []
        },
        {
            "cell_type": "code",
            "execution_count": null,
            "metadata": {},
            "outputs": [],
            "source": [
                "@pytest.mark.parametrize(\n",
                "    \"logout,next_url,redirect_chain\",\n",
                "    [\n",
                "        (False, \"\", [(reverse_lazy(\"account_change_password\"), 302)]),\n",
                "        (False, \"/foo\", [(\"/foo\", 302)]),\n",
                "        (\n",
                "            True,\n",
                "            \"\",\n",
                "            [\n",
                "                (reverse_lazy(\"account_change_password\"), 302),\n",
                "                (\n",
                "                    \"/login/?next=/password/change/\",\n",
                "                    302,\n",
                "                ),\n",
                "            ],\n",
                "        ),\n",
                "        (True, \"/foo\", [(\"/foo\", 302)]),\n",
                "    ],\n",
                ")\n",
                "def test_set_password(\n",
                "    client, user, next_url, password_factory, logout, settings, redirect_chain\n",
                "):\n",
                "    settings.ACCOUNT_LOGOUT_ON_PASSWORD_CHANGE = logout\n",
                "    user.set_unusable_password()\n",
                "    user.save()\n",
                "    client.force_login(user)\n",
                "    password = password_factory()\n",
                "    data = {\"password1\": password, \"password2\": password}\n",
                "    if next_url:\n",
                "        data[\"next\"] = next_url\n",
                "    resp = client.post(\n",
                "        reverse(\"account_set_password\"),\n",
                "        data,\n",
                "        follow=True,\n",
                "    )\n",
                "    assert resp.redirect_chain == redirect_chain\n"
            ]
        },
        {
            "cell_type": "markdown",
            "metadata": {},
            "source": []
        },
        {
            "cell_type": "code",
            "execution_count": null,
            "metadata": {},
            "outputs": [],
            "source": [
                "@pytest.mark.parametrize(\n",
                "    \"logout,next_url,redirect_chain\",\n",
                "    [\n",
                "        (False, \"\", [(reverse_lazy(\"account_change_password\"), 302)]),\n",
                "        (False, \"/foo\", [(\"/foo\", 302)]),\n",
                "        (\n",
                "            True,\n",
                "            \"\",\n",
                "            [\n",
                "                (reverse_lazy(\"account_change_password\"), 302),\n",
                "                (\n",
                "                    \"/login/?next=/password/change/\",\n",
                "                    302,\n",
                "                ),\n",
                "            ],\n",
                "        ),\n",
                "        (True, \"/foo\", [(\"/foo\", 302)]),\n",
                "    ],\n",
                ")\n",
                "def test_change_password(\n",
                "    auth_client,\n",
                "    user,\n",
                "    user_password,\n",
                "    next_url,\n",
                "    password_factory,\n",
                "    logout,\n",
                "    settings,\n",
                "    redirect_chain,\n",
                "    mailoutbox,\n",
                "):\n",
                "    settings.ACCOUNT_LOGOUT_ON_PASSWORD_CHANGE = logout\n",
                "    settings.ACCOUNT_EMAIL_NOTIFICATIONS = True\n",
                "    password = password_factory()\n",
                "    data = {\"oldpassword\": user_password, \"password1\": password, \"password2\": password}\n",
                "    if next_url:\n",
                "        data[\"next\"] = next_url\n",
                "    resp = auth_client.post(\n",
                "        reverse(\"account_change_password\"),\n",
                "        data,\n",
                "        follow=True,\n",
                "    )\n",
                "    assert resp.redirect_chain == redirect_chain\n",
                "    assert len(mailoutbox) == 1\n",
                "    assert \"Your password has been changed\" in mailoutbox[0].body\n",
                "\n"
            ]
        },
        {
            "cell_type": "markdown",
            "metadata": {},
            "source": []
        }
    ],
    "metadata": {
        "language_info": {
            "name": "python"
        }
    },
    "nbformat": 4,
    "nbformat_minor": 2
}