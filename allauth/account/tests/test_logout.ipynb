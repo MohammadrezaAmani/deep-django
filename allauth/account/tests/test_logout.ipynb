{
    "cells": [
        {
            "cell_type": "code",
            "execution_count": null,
            "metadata": {},
            "outputs": [],
            "source": [
                "from django.contrib.auth import get_user_model\n",
                "from django.core import validators\n",
                "from django.test.client import Client\n",
                "from django.test.utils import override_settings\n",
                "from django.urls import reverse\n",
                "\n",
                "from allauth.account import app_settings\n",
                "from allauth.account.signals import user_logged_out\n",
                "from allauth.tests import Mock, TestCase\n"
            ]
        },
        {
            "cell_type": "markdown",
            "metadata": {},
            "source": []
        },
        {
            "cell_type": "code",
            "execution_count": null,
            "metadata": {},
            "outputs": [],
            "source": [
                "test_username_validators = [\n",
                "    validators.RegexValidator(regex=r\"^[a-c]+$\", message=\"not abc\", flags=0)\n",
                "]\n"
            ]
        },
        {
            "cell_type": "markdown",
            "metadata": {},
            "source": []
        },
        {
            "cell_type": "code",
            "execution_count": null,
            "metadata": {},
            "outputs": [],
            "source": [
                "@override_settings(\n",
                "    ACCOUNT_DEFAULT_HTTP_PROTOCOL=\"https\",\n",
                "    ACCOUNT_EMAIL_VERIFICATION=app_settings.EmailVerificationMethod.MANDATORY,\n",
                "    ACCOUNT_AUTHENTICATION_METHOD=app_settings.AuthenticationMethod.USERNAME,\n",
                "    ACCOUNT_SIGNUP_FORM_CLASS=None,\n",
                "    ACCOUNT_EMAIL_SUBJECT_PREFIX=None,\n",
                "    LOGIN_REDIRECT_URL=\"/accounts/profile/\",\n",
                "    ACCOUNT_SIGNUP_REDIRECT_URL=\"/accounts/welcome/\",\n",
                "    ACCOUNT_ADAPTER=\"allauth.account.adapter.DefaultAccountAdapter\",\n",
                "    ACCOUNT_USERNAME_REQUIRED=True,\n",
                ")\n",
                "class LogoutTests(TestCase):\n",
                "    @override_settings(ACCOUNT_LOGOUT_ON_GET=True)\n",
                "    def test_logout_view_on_get(self):\n",
                "        c, resp = self._logout_view(\"get\")\n",
                "        self.assertTemplateUsed(resp, \"account/messages/logged_out.txt\")\n",
                "\n",
                "    @override_settings(ACCOUNT_LOGOUT_ON_GET=False)\n",
                "    def test_logout_view_on_post(self):\n",
                "        c, resp = self._logout_view(\"get\")\n",
                "        self.assertTemplateUsed(\n",
                "            resp, \"account/logout.%s\" % app_settings.TEMPLATE_EXTENSION\n",
                "        )\n",
                "\n",
                "        receiver_mock = Mock()\n",
                "        user_logged_out.connect(receiver_mock)\n",
                "\n",
                "        resp = c.post(reverse(\"account_logout\"))\n",
                "\n",
                "        self.assertTemplateUsed(resp, \"account/messages/logged_out.txt\")\n",
                "        receiver_mock.assert_called_once_with(\n",
                "            sender=get_user_model(),\n",
                "            request=resp.wsgi_request,\n",
                "            user=get_user_model().objects.get(username=\"john\"),\n",
                "            signal=user_logged_out,\n",
                "        )\n",
                "\n",
                "        user_logged_out.disconnect(receiver_mock)\n",
                "\n",
                "    def _logout_view(self, method):\n",
                "        c = Client()\n",
                "        user = get_user_model().objects.create(username=\"john\", is_active=True)\n",
                "        user.set_password(\"doe\")\n",
                "        user.save()\n",
                "        c = Client()\n",
                "        c.login(username=\"john\", password=\"doe\")\n",
                "        return c, getattr(c, method)(reverse(\"account_logout\"))\n",
                "\n"
            ]
        },
        {
            "cell_type": "markdown",
            "metadata": {},
            "source": []
        }
    ],
    "metadata": {
        "language_info": {
            "name": "python"
        }
    },
    "nbformat": 4,
    "nbformat_minor": 2
}