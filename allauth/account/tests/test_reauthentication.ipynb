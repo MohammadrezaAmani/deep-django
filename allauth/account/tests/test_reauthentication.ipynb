{
 "cells": [
  {
   "cell_type": "code",
   "execution_count": null,
   "metadata": {},
   "outputs": [],
   "source": [
    "from unittest.mock import ANY\n",
    "\n",
    "from django.urls import reverse\n",
    "\n",
    "import pytest\n",
    "from pytest_django.asserts import assertTemplateUsed\n",
    "\n",
    "from allauth.account.adapter import get_adapter\n",
    "from allauth.account.authentication import AUTHENTICATION_METHODS_SESSION_KEY"
   ]
  },
  {
   "cell_type": "markdown",
   "metadata": {},
   "source": []
  },
  {
   "cell_type": "code",
   "execution_count": null,
   "metadata": {},
   "outputs": [],
   "source": [
    "@pytest.mark.parametrize(\n",
    "    \"with_totp,with_password,expected_method_urlnames\",\n",
    "    [\n",
    "        (False, True, [\"account_reauthenticate\"]),\n",
    "        (True, True, [\"account_reauthenticate\", \"mfa_reauthenticate\"]),\n",
    "        (True, False, [\"mfa_reauthenticate\"]),\n",
    "    ],\n",
    ")\n",
    "def test_user_with_mfa_only(\n",
    "    user_factory, with_totp, with_password, expected_method_urlnames, client\n",
    "):\n",
    "    user = user_factory(with_totp=with_totp, password=None if with_password else \"!\")\n",
    "    assert user.has_usable_password() == with_password\n",
    "    client.force_login(user)\n",
    "    methods = get_adapter().get_reauthentication_methods(user)\n",
    "    assert len(methods) == len(expected_method_urlnames)\n",
    "    assert set([m[\"url\"] for m in methods]) == set(\n",
    "        map(reverse, expected_method_urlnames)\n",
    "    )\n",
    "    for urlname in [\"account_reauthenticate\", \"mfa_reauthenticate\"]:\n",
    "        resp = client.get(reverse(urlname) + \"?next=/foo\")\n",
    "        if urlname in expected_method_urlnames:\n",
    "            assert resp.status_code == 200\n",
    "        else:\n",
    "            assert resp.status_code == 302\n",
    "            assert \"next=%2Ffoo\" in resp[\"location\"]"
   ]
  },
  {
   "cell_type": "markdown",
   "metadata": {},
   "source": []
  },
  {
   "cell_type": "code",
   "execution_count": null,
   "metadata": {},
   "outputs": [],
   "source": [
    "def test_reauthentication(settings, auth_client, user_password):\n",
    "    settings.ACCOUNT_REAUTHENTICATION_REQUIRED = True\n",
    "    resp = auth_client.post(\n",
    "        reverse(\"account_email\"),\n",
    "        {\"action_add\": \"\", \"email\": \"john3@example.org\"},\n",
    "    )\n",
    "    assert resp[\"location\"].startswith(reverse(\"account_reauthenticate\"))\n",
    "    resp = auth_client.get(reverse(\"account_reauthenticate\"))\n",
    "    assertTemplateUsed(resp, \"account/reauthenticate.html\")\n",
    "    resp = auth_client.post(\n",
    "        reverse(\"account_reauthenticate\"), data={\"password\": user_password}\n",
    "    )\n",
    "    assert resp.status_code == 302\n",
    "    resp = auth_client.post(\n",
    "        reverse(\"account_email\"),\n",
    "        {\"action_add\": \"\", \"email\": \"john3@example.org\"},\n",
    "    )\n",
    "    assert resp[\"location\"].startswith(reverse(\"account_email\"))\n",
    "    methods = auth_client.session[AUTHENTICATION_METHODS_SESSION_KEY]\n",
    "    assert methods[-1] == {\"method\": \"password\", \"at\": ANY, \"reauthenticated\": True}"
   ]
  },
  {
   "cell_type": "markdown",
   "metadata": {},
   "source": []
  }
 ],
 "metadata": {
  "language_info": {
   "name": "python"
  }
 },
 "nbformat": 4,
 "nbformat_minor": 2
}