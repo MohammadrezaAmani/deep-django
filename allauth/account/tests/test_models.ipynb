{
 "cells": [
  {
   "cell_type": "code",
   "execution_count": null,
   "metadata": {},
   "outputs": [],
   "source": [
    "import uuid\n",
    "\n",
    "from django.contrib.auth.models import AbstractUser\n",
    "from django.db import models\n",
    "\n",
    "from allauth.account.models import EmailAddress"
   ]
  },
  {
   "cell_type": "markdown",
   "metadata": {},
   "source": []
  },
  {
   "cell_type": "code",
   "execution_count": null,
   "metadata": {},
   "outputs": [],
   "source": [
    "class UUIDUser(AbstractUser):\n",
    "    id = models.UUIDField(primary_key=True, default=uuid.uuid4, editable=False)\n",
    "\n",
    "    class Meta(AbstractUser.Meta):\n",
    "        swappable = \"AUTH_USER_MODEL\""
   ]
  },
  {
   "cell_type": "markdown",
   "metadata": {},
   "source": []
  },
  {
   "cell_type": "code",
   "execution_count": null,
   "metadata": {},
   "outputs": [],
   "source": [
    "def test_add_new_email(rf, user, settings):\n",
    "    settings.ACCOUNT_CHANGE_EMAIL = True\n",
    "    request = rf.get(\"/\")\n",
    "    assert EmailAddress.objects.filter(user=user).count() == 1\n",
    "    new_email = EmailAddress.objects.add_new_email(request, user, \"new@email.org\")\n",
    "    assert not new_email.verified\n",
    "    assert not new_email.primary\n",
    "    assert EmailAddress.objects.filter(user=user).count() == 2\n",
    "    EmailAddress.objects.add_new_email(request, user, \"new2@email.org\")\n",
    "    assert EmailAddress.objects.filter(user=user).count() == 2\n",
    "    new_email.refresh_from_db()\n",
    "    assert new_email.email == \"new2@email.org\""
   ]
  },
  {
   "cell_type": "markdown",
   "metadata": {},
   "source": []
  }
 ],
 "metadata": {
  "language_info": {
   "name": "python"
  }
 },
 "nbformat": 4,
 "nbformat_minor": 2
}