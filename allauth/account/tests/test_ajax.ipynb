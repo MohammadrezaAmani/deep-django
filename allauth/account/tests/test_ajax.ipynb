{
 "cells": [
  {
   "cell_type": "code",
   "execution_count": null,
   "metadata": {},
   "outputs": [],
   "source": [
    "import json\n",
    "\n",
    "from django.conf import settings\n",
    "from django.urls import reverse\n",
    "\n",
    "import pytest\n",
    "from pytest_django.asserts import assertRedirects\n",
    "\n",
    "from allauth.account import app_settings"
   ]
  },
  {
   "cell_type": "markdown",
   "metadata": {},
   "source": []
  },
  {
   "cell_type": "code",
   "execution_count": null,
   "metadata": {},
   "outputs": [],
   "source": [
    "@pytest.mark.parametrize(\n",
    "    \"headers,ajax_expected\",\n",
    "    [\n",
    "        ({}, False),\n",
    "        ({\"HTTP_X_REQUESTED_WITH\": \"XMLHttpRequest\"}, True),\n",
    "        ({\"HTTP_ACCEPT\": \"application/json\"}, True),\n",
    "    ],\n",
    ")\n",
    "def test_ajax_headers(db, client, headers, ajax_expected):\n",
    "    resp = client.post(\n",
    "        reverse(\"account_signup\"),\n",
    "        {\n",
    "            \"username\": \"johndoe\",\n",
    "            \"email\": \"john@example.org\",\n",
    "            \"email2\": \"john@example.org\",\n",
    "            \"password1\": \"johndoe\",\n",
    "            \"password2\": \"johndoe\",\n",
    "        },\n",
    "        **headers,\n",
    "    )\n",
    "    if ajax_expected:\n",
    "        assert resp.status_code == 200\n",
    "        assert resp.json()[\"location\"] == settings.LOGIN_REDIRECT_URL\n",
    "        assert resp.json()[\"location\"] == settings.LOGIN_REDIRECT_URL\n",
    "    else:\n",
    "        assert resp.status_code == 302\n",
    "        assertRedirects(\n",
    "            resp, settings.LOGIN_REDIRECT_URL, fetch_redirect_response=False\n",
    "        )"
   ]
  },
  {
   "cell_type": "markdown",
   "metadata": {},
   "source": []
  },
  {
   "cell_type": "code",
   "execution_count": null,
   "metadata": {},
   "outputs": [],
   "source": [
    "def test_ajax_password_reset(client, user, mailoutbox):\n",
    "    resp = client.post(\n",
    "        reverse(\"account_reset_password\"),\n",
    "        data={\"email\": user.email},\n",
    "        HTTP_X_REQUESTED_WITH=\"XMLHttpRequest\",\n",
    "    )\n",
    "    assert len(mailoutbox) == 1\n",
    "    assert mailoutbox[0].to == [user.email]\n",
    "    assert resp[\"content-type\"] == \"application/json\""
   ]
  },
  {
   "cell_type": "markdown",
   "metadata": {},
   "source": []
  },
  {
   "cell_type": "code",
   "execution_count": null,
   "metadata": {},
   "outputs": [],
   "source": [
    "def test_ajax_login_fail(client, db):\n",
    "    resp = client.post(\n",
    "        reverse(\"account_login\"),\n",
    "        {},\n",
    "        HTTP_X_REQUESTED_WITH=\"XMLHttpRequest\",\n",
    "    )\n",
    "    assert resp.status_code == 400\n",
    "    json.loads(resp.content.decode(\"utf8\"))\n",
    "    # TODO: Actually test something"
   ]
  },
  {
   "cell_type": "markdown",
   "metadata": {},
   "source": []
  },
  {
   "cell_type": "code",
   "execution_count": null,
   "metadata": {},
   "outputs": [],
   "source": [
    "def test_ajax_login_success(settings, user, user_password, client):\n",
    "    settings.ACCOUNT_EMAIL_VERIFICATION = app_settings.EmailVerificationMethod.OPTIONAL\n",
    "    resp = client.post(\n",
    "        reverse(\"account_login\"),\n",
    "        {\"login\": user.username, \"password\": user_password},\n",
    "        HTTP_X_REQUESTED_WITH=\"XMLHttpRequest\",\n",
    "    )\n",
    "    assert resp.status_code == 200\n",
    "    data = json.loads(resp.content.decode(\"utf8\"))\n",
    "    assert data[\"location\"] == \"/accounts/profile/\""
   ]
  },
  {
   "cell_type": "markdown",
   "metadata": {},
   "source": []
  }
 ],
 "metadata": {
  "language_info": {
   "name": "python"
  }
 },
 "nbformat": 4,
 "nbformat_minor": 2
}