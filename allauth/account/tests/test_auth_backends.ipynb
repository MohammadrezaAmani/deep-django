{
    "cells": [
        {
            "cell_type": "code",
            "execution_count": null,
            "metadata": {},
            "outputs": [],
            "source": [
                "from django.contrib.auth import get_user_model\n",
                "from django.test.utils import override_settings\n",
                "\n",
                "from allauth.account import app_settings\n",
                "from allauth.account.auth_backends import AuthenticationBackend\n",
                "from allauth.tests import TestCase\n"
            ]
        },
        {
            "cell_type": "markdown",
            "metadata": {},
            "source": []
        },
        {
            "cell_type": "code",
            "execution_count": null,
            "metadata": {},
            "outputs": [],
            "source": [
                "class AuthenticationBackendTests(TestCase):\n",
                "    def setUp(self):\n",
                "        user = get_user_model().objects.create(\n",
                "            is_active=True, email=\"john@example.com\", username=\"john\"\n",
                "        )\n",
                "        user.set_password(user.username)\n",
                "        user.save()\n",
                "        self.user = user\n",
                "\n",
                "    @override_settings(\n",
                "        ACCOUNT_AUTHENTICATION_METHOD=app_settings.AuthenticationMethod.USERNAME\n",
                "    )  # noqa\n",
                "    def test_auth_by_username(self):\n",
                "        user = self.user\n",
                "        backend = AuthenticationBackend()\n",
                "        self.assertEqual(\n",
                "            backend.authenticate(\n",
                "                request=None, username=user.username, password=user.username\n",
                "            ).pk,\n",
                "            user.pk,\n",
                "        )\n",
                "        self.assertEqual(\n",
                "            backend.authenticate(\n",
                "                request=None, username=user.email, password=user.username\n",
                "            ),\n",
                "            None,\n",
                "        )\n",
                "\n",
                "    @override_settings(\n",
                "        ACCOUNT_AUTHENTICATION_METHOD=app_settings.AuthenticationMethod.EMAIL\n",
                "    )  # noqa\n",
                "    def test_auth_by_email(self):\n",
                "        user = self.user\n",
                "        backend = AuthenticationBackend()\n",
                "        self.assertEqual(\n",
                "            backend.authenticate(\n",
                "                request=None, username=user.email, password=user.username\n",
                "            ).pk,\n",
                "            user.pk,\n",
                "        )\n",
                "        self.assertEqual(\n",
                "            backend.authenticate(\n",
                "                request=None, username=user.username, password=user.username\n",
                "            ),\n",
                "            None,\n",
                "        )\n",
                "\n",
                "    @override_settings(\n",
                "        ACCOUNT_AUTHENTICATION_METHOD=app_settings.AuthenticationMethod.USERNAME_EMAIL\n",
                "    )  # noqa\n",
                "    def test_auth_by_username_or_email(self):\n",
                "        user = self.user\n",
                "        backend = AuthenticationBackend()\n",
                "        self.assertEqual(\n",
                "            backend.authenticate(\n",
                "                request=None, username=user.email, password=user.username\n",
                "            ).pk,\n",
                "            user.pk,\n",
                "        )\n",
                "        self.assertEqual(\n",
                "            backend.authenticate(\n",
                "                request=None, username=user.username, password=user.username\n",
                "            ).pk,\n",
                "            user.pk,\n",
                "        )\n",
                "\n"
            ]
        },
        {
            "cell_type": "markdown",
            "metadata": {},
            "source": []
        }
    ],
    "metadata": {
        "language_info": {
            "name": "python"
        }
    },
    "nbformat": 4,
    "nbformat_minor": 2
}