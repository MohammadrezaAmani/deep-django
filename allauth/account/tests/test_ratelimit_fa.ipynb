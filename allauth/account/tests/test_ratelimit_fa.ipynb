{
 "cells": [
  {
   "cell_type": "code",
   "execution_count": null,
   "metadata": {},
   "outputs": [],
   "source": [
    "from django.urls import reverse"
   ]
  },
  {
   "cell_type": "markdown",
   "metadata": {},
   "source": []
  },
  {
   "cell_type": "code",
   "execution_count": null,
   "metadata": {},
   "outputs": [],
   "source": [
    "def test_case_insensitive_password_reset(settings, enable_cache, user_factory, client):\n",
    "    settings.ACCOUNT_RATE_LIMITS = {\"reset_password\": \"1/m\"}\n",
    "    user_factory(email=\"a@b.com\")\n",
    "    resp = client.post(reverse(\"account_reset_password\"), data={\"email\": \"a@b.com\"})\n",
    "    assert resp.status_code == 302\n",
    "    resp = client.post(reverse(\"account_reset_password\"), data={\"email\": \"A@B.COM\"})\n",
    "    assert resp.status_code == 429"
   ]
  },
  {
   "cell_type": "markdown",
   "metadata": {},
   "source": []
  }
 ],
 "metadata": {
  "language_info": {
   "name": "python"
  }
 },
 "nbformat": 4,
 "nbformat_minor": 2
}