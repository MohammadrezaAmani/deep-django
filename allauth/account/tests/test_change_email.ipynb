{
    "cells": [
        {
            "cell_type": "code",
            "execution_count": null,
            "metadata": {},
            "outputs": [],
            "source": [
                "import json\n",
                "from unittest.mock import patch\n",
                "\n",
                "from django.contrib.auth import get_user_model\n",
                "from django.urls import reverse\n",
                "\n",
                "import pytest\n",
                "from pytest_django.asserts import assertTemplateNotUsed, assertTemplateUsed\n",
                "\n",
                "from allauth.account.app_settings import AuthenticationMethod\n",
                "from allauth.account.models import EmailAddress, EmailConfirmationHMAC\n",
                "from allauth.account.utils import user_email\n"
            ]
        },
        {
            "cell_type": "markdown",
            "metadata": {},
            "source": []
        },
        {
            "cell_type": "code",
            "execution_count": null,
            "metadata": {},
            "outputs": [],
            "source": [
                "def test_ajax_get(auth_client, user):\n",
                "    primary = EmailAddress.objects.filter(user=user).first()\n",
                "    secondary = EmailAddress.objects.create(\n",
                "        email=\"secondary@email.org\", user=user, verified=False, primary=False\n",
                "    )\n",
                "    resp = auth_client.get(\n",
                "        reverse(\"account_email\"), HTTP_X_REQUESTED_WITH=\"XMLHttpRequest\"\n",
                "    )\n",
                "    data = json.loads(resp.content.decode(\"utf8\"))\n",
                "    assert data[\"data\"] == [\n",
                "        {\n",
                "            \"id\": primary.pk,\n",
                "            \"email\": primary.email,\n",
                "            \"primary\": True,\n",
                "            \"verified\": True,\n",
                "        },\n",
                "        {\n",
                "            \"id\": secondary.pk,\n",
                "            \"email\": secondary.email,\n",
                "            \"primary\": False,\n",
                "            \"verified\": False,\n",
                "        },\n",
                "    ]\n"
            ]
        },
        {
            "cell_type": "markdown",
            "metadata": {},
            "source": []
        },
        {
            "cell_type": "code",
            "execution_count": null,
            "metadata": {},
            "outputs": [],
            "source": [
                "def test_ajax_add(auth_client):\n",
                "    resp = auth_client.post(\n",
                "        reverse(\"account_email\"),\n",
                "        {\"action_add\": \"\", \"email\": \"john3@example.org\"},\n",
                "        HTTP_X_REQUESTED_WITH=\"XMLHttpRequest\",\n",
                "    )\n",
                "    data = json.loads(resp.content.decode(\"utf8\"))\n",
                "    assert data[\"location\"] == reverse(\"account_email\")\n"
            ]
        },
        {
            "cell_type": "markdown",
            "metadata": {},
            "source": []
        },
        {
            "cell_type": "code",
            "execution_count": null,
            "metadata": {},
            "outputs": [],
            "source": [
                "def test_ajax_add_invalid(auth_client):\n",
                "    resp = auth_client.post(\n",
                "        reverse(\"account_email\"),\n",
                "        {\"action_add\": \"\", \"email\": \"john3#example.org\"},\n",
                "        HTTP_X_REQUESTED_WITH=\"XMLHttpRequest\",\n",
                "    )\n",
                "    data = json.loads(resp.content.decode(\"utf8\"))\n",
                "    assert \"valid\" in data[\"form\"][\"fields\"][\"email\"][\"errors\"][0]\n"
            ]
        },
        {
            "cell_type": "markdown",
            "metadata": {},
            "source": []
        },
        {
            "cell_type": "code",
            "execution_count": null,
            "metadata": {},
            "outputs": [],
            "source": [
                "def test_ajax_remove_primary(auth_client, user, settings):\n",
                "    settings.ACCOUNT_AUTHENTICATION_METHOD = \"email\"\n",
                "    resp = auth_client.post(\n",
                "        reverse(\"account_email\"),\n",
                "        {\"action_remove\": \"\", \"email\": user.email},\n",
                "        HTTP_X_REQUESTED_WITH=\"XMLHttpRequest\",\n",
                "    )\n",
                "    assertTemplateUsed(resp, \"account/messages/cannot_delete_primary_email.txt\")\n",
                "    data = json.loads(resp.content.decode(\"utf8\"))\n",
                "    assert data[\"location\"] == reverse(\"account_email\")\n"
            ]
        },
        {
            "cell_type": "markdown",
            "metadata": {},
            "source": []
        },
        {
            "cell_type": "code",
            "execution_count": null,
            "metadata": {},
            "outputs": [],
            "source": [
                "def test_remove_secondary(auth_client, user, settings, mailoutbox):\n",
                "    settings.ACCOUNT_EMAIL_NOTIFICATIONS = True\n",
                "\n",
                "    secondary = EmailAddress.objects.create(\n",
                "        email=\"secondary@email.org\", user=user, verified=False, primary=False\n",
                "    )\n",
                "    resp = auth_client.post(\n",
                "        reverse(\"account_email\"),\n",
                "        {\"action_remove\": \"\", \"email\": secondary.email},\n",
                "    )\n",
                "\n",
                "    assert not EmailAddress.objects.filter(pk=secondary.pk).exists()\n",
                "    assertTemplateUsed(resp, \"account/messages/email_deleted.txt\")\n",
                "    assert len(mailoutbox) == 1\n",
                "    assert f\"{secondary.email} has been removed\" in mailoutbox[0].body\n"
            ]
        },
        {
            "cell_type": "markdown",
            "metadata": {},
            "source": []
        },
        {
            "cell_type": "code",
            "execution_count": null,
            "metadata": {},
            "outputs": [],
            "source": [
                "def test_set_primary_unverified(auth_client, user):\n",
                "    secondary = EmailAddress.objects.create(\n",
                "        email=\"secondary@email.org\", user=user, verified=False, primary=False\n",
                "    )\n",
                "    resp = auth_client.post(\n",
                "        reverse(\"account_email\"),\n",
                "        {\"action_primary\": \"\", \"email\": secondary.email},\n",
                "    )\n",
                "    primary = EmailAddress.objects.get(email=user.email)\n",
                "    secondary.refresh_from_db()\n",
                "    assert not secondary.primary\n",
                "    assert primary.primary\n",
                "    assertTemplateUsed(resp, \"account/messages/unverified_primary_email.txt\")\n"
            ]
        },
        {
            "cell_type": "markdown",
            "metadata": {},
            "source": []
        },
        {
            "cell_type": "code",
            "execution_count": null,
            "metadata": {},
            "outputs": [],
            "source": [
                "def test_set_primary(auth_client, user):\n",
                "    primary = EmailAddress.objects.get(email=user.email)\n",
                "    secondary = EmailAddress.objects.create(\n",
                "        email=\"secondary@email.org\", user=user, verified=True, primary=False\n",
                "    )\n",
                "    resp = auth_client.post(\n",
                "        reverse(\"account_email\"),\n",
                "        {\"action_primary\": \"\", \"email\": secondary.email},\n",
                "    )\n",
                "    primary.refresh_from_db()\n",
                "    secondary.refresh_from_db()\n",
                "    assert not primary.primary\n",
                "    assert secondary.primary\n",
                "    assertTemplateUsed(resp, \"account/messages/primary_email_set.txt\")\n"
            ]
        },
        {
            "cell_type": "markdown",
            "metadata": {},
            "source": []
        },
        {
            "cell_type": "code",
            "execution_count": null,
            "metadata": {},
            "outputs": [],
            "source": [
                "def test_verify(auth_client, user):\n",
                "    secondary = EmailAddress.objects.create(\n",
                "        email=\"secondary@email.org\", user=user, verified=False, primary=False\n",
                "    )\n",
                "    resp = auth_client.post(\n",
                "        reverse(\"account_email\"),\n",
                "        {\"action_send\": \"\", \"email\": secondary.email},\n",
                "    )\n",
                "    assertTemplateUsed(resp, \"account/messages/email_confirmation_sent.txt\")\n"
            ]
        },
        {
            "cell_type": "markdown",
            "metadata": {},
            "source": []
        },
        {
            "cell_type": "code",
            "execution_count": null,
            "metadata": {},
            "outputs": [],
            "source": [
                "def test_verify_unknown_email(auth_client, user):\n",
                "    auth_client.post(\n",
                "        reverse(\"account_email\"),\n",
                "        {\"action_send\": \"\", \"email\": \"email@unknown.org\"},\n",
                "    )\n",
                "    # This unknown email address must not be implicitly added.\n",
                "    assert EmailAddress.objects.filter(user=user).count() == 1\n"
            ]
        },
        {
            "cell_type": "markdown",
            "metadata": {},
            "source": []
        },
        {
            "cell_type": "code",
            "execution_count": null,
            "metadata": {},
            "outputs": [],
            "source": [
                "def test_add_with_two_limiter(auth_client, user, settings):\n",
                "    EmailAddress.objects.create(\n",
                "        email=\"secondary@email.org\", user=user, verified=False, primary=False\n",
                "    )\n",
                "    settings.ACCOUNT_MAX_EMAIL_ADDRESSES = 2\n",
                "    resp = auth_client.post(\n",
                "        reverse(\"account_email\"), {\"action_add\": \"\", \"email\": \"john3@example.org\"}\n",
                "    )\n",
                "    assertTemplateNotUsed(resp, \"account/messages/email_confirmation_sent.txt\")\n"
            ]
        },
        {
            "cell_type": "markdown",
            "metadata": {},
            "source": []
        },
        {
            "cell_type": "code",
            "execution_count": null,
            "metadata": {},
            "outputs": [],
            "source": [
                "def test_add_with_none_limiter(auth_client, settings):\n",
                "    settings.ACCOUNT_MAX_EMAIL_ADDRESSES = None\n",
                "    resp = auth_client.post(\n",
                "        reverse(\"account_email\"), {\"action_add\": \"\", \"email\": \"john3@example.org\"}\n",
                "    )\n",
                "    assertTemplateUsed(resp, \"account/messages/email_confirmation_sent.txt\")\n"
            ]
        },
        {
            "cell_type": "markdown",
            "metadata": {},
            "source": []
        },
        {
            "cell_type": "code",
            "execution_count": null,
            "metadata": {},
            "outputs": [],
            "source": [
                "def test_add_with_zero_limiter(auth_client, settings):\n",
                "    settings.ACCOUNT_MAX_EMAIL_ADDRESSES = 0\n",
                "    resp = auth_client.post(\n",
                "        reverse(\"account_email\"), {\"action_add\": \"\", \"email\": \"john3@example.org\"}\n",
                "    )\n",
                "    assertTemplateUsed(resp, \"account/messages/email_confirmation_sent.txt\")\n"
            ]
        },
        {
            "cell_type": "markdown",
            "metadata": {},
            "source": []
        },
        {
            "cell_type": "code",
            "execution_count": null,
            "metadata": {},
            "outputs": [],
            "source": [
                "@pytest.mark.parametrize(\"has_email_field\", [True, False])\n",
                "def test_set_email_as_primary_doesnt_override_existing_changes_on_the_user(\n",
                "    db, has_email_field, settings\n",
                "):\n",
                "    if not has_email_field:\n",
                "        settings.ACCOUNT_USER_MODEL_EMAIL_FIELD = None\n",
                "    user = get_user_model().objects.create(\n",
                "        username=\"@raymond.penners\", first_name=\"Before Update\"\n",
                "    )\n",
                "    email = EmailAddress.objects.create(\n",
                "        user=user,\n",
                "        email=\"raymond.penners@example.com\",\n",
                "        primary=True,\n",
                "        verified=True,\n",
                "    )\n",
                "    updated_first_name = \"Updated\"\n",
                "    get_user_model().objects.filter(id=user.id).update(first_name=updated_first_name)\n",
                "\n",
                "    email.set_as_primary()\n",
                "\n",
                "    user.refresh_from_db()\n",
                "    assert user.first_name == updated_first_name\n"
            ]
        },
        {
            "cell_type": "markdown",
            "metadata": {},
            "source": []
        },
        {
            "cell_type": "code",
            "execution_count": null,
            "metadata": {},
            "outputs": [],
            "source": [
                "def test_delete_email_changes_user_email(user_factory, client, email_factory):\n",
                "    user = user_factory(email_verified=False)\n",
                "    client.force_login(user)\n",
                "    first_email = EmailAddress.objects.get(user=user)\n",
                "    first_email.primary = False\n",
                "    first_email.save()\n",
                "    # other_unverified_email\n",
                "    EmailAddress.objects.create(\n",
                "        user=user, email=email_factory(), verified=False, primary=False\n",
                "    )\n",
                "    other_verified_email = EmailAddress.objects.create(\n",
                "        user=user, email=email_factory(), verified=True, primary=False\n",
                "    )\n",
                "    assert user_email(user) == first_email.email\n",
                "    resp = client.post(\n",
                "        reverse(\"account_email\"),\n",
                "        {\"action_remove\": \"\", \"email\": first_email.email},\n",
                "    )\n",
                "    assert resp.status_code == 302\n",
                "    user.refresh_from_db()\n",
                "    assert user_email(user) == other_verified_email.email\n"
            ]
        },
        {
            "cell_type": "markdown",
            "metadata": {},
            "source": []
        },
        {
            "cell_type": "code",
            "execution_count": null,
            "metadata": {},
            "outputs": [],
            "source": [
                "def test_delete_email_wipes_user_email(user_factory, client):\n",
                "    user = user_factory(email_verified=False)\n",
                "    client.force_login(user)\n",
                "    first_email = EmailAddress.objects.get(user=user)\n",
                "    first_email.primary = False\n",
                "    first_email.save()\n",
                "    assert user_email(user) == first_email.email\n",
                "    resp = client.post(\n",
                "        reverse(\"account_email\"),\n",
                "        {\"action_remove\": \"\", \"email\": first_email.email},\n",
                "    )\n",
                "    assert resp.status_code == 302\n",
                "    user.refresh_from_db()\n",
                "    assert user_email(user) == \"\"\n"
            ]
        },
        {
            "cell_type": "markdown",
            "metadata": {},
            "source": []
        },
        {
            "cell_type": "code",
            "execution_count": null,
            "metadata": {},
            "outputs": [],
            "source": [
                "def test_change_email(user_factory, client, settings, mailoutbox):\n",
                "    settings.ACCOUNT_CHANGE_EMAIL = True\n",
                "    settings.ACCOUNT_EMAIL_CONFIRMATION_HMAC = True\n",
                "    settings.ACCOUNT_EMAIL_NOTIFICATIONS = True\n",
                "\n",
                "    user = user_factory(email_verified=True)\n",
                "    client.force_login(user)\n",
                "    current_email = EmailAddress.objects.get(user=user)\n",
                "    resp = client.post(\n",
                "        reverse(\"account_email\"),\n",
                "        {\"action_add\": \"\", \"email\": \"change-to@this.org\"},\n",
                "    )\n",
                "    assert resp.status_code == 302\n",
                "    assert len(mailoutbox) == 1\n",
                "    assert mailoutbox[0].subject == \"[example.com] Please Confirm Your Email Address\"\n",
                "    new_email = EmailAddress.objects.get(email=\"change-to@this.org\")\n",
                "    key = EmailConfirmationHMAC(new_email).key\n",
                "    with patch(\"allauth.account.signals.email_changed.send\") as email_changed_mock:\n",
                "        resp = client.post(reverse(\"account_confirm_email\", args=[key]))\n",
                "    assert resp.status_code == 302\n",
                "    assert not EmailAddress.objects.filter(pk=current_email.pk).exists()\n",
                "    assert EmailAddress.objects.filter(user=user).count() == 1\n",
                "    new_email.refresh_from_db()\n",
                "    assert new_email.verified\n",
                "    assert new_email.primary\n",
                "    assert email_changed_mock.called\n",
                "    assert len(mailoutbox) == 2\n",
                "    assert mailoutbox[1].subject == \"[example.com] Email Changed\"\n",
                "    assert mailoutbox[1].to == [user.email]\n"
            ]
        },
        {
            "cell_type": "markdown",
            "metadata": {},
            "source": []
        },
        {
            "cell_type": "code",
            "execution_count": null,
            "metadata": {},
            "outputs": [],
            "source": [
                "def test_add(auth_client, user, settings):\n",
                "    resp = auth_client.post(\n",
                "        reverse(\"account_email\"),\n",
                "        {\"action_add\": \"\", \"email\": \"john3@example.org\"},\n",
                "    )\n",
                "    EmailAddress.objects.get(\n",
                "        email=\"john3@example.org\",\n",
                "        user=user,\n",
                "        verified=False,\n",
                "        primary=False,\n",
                "    )\n",
                "    assertTemplateUsed(resp, \"account/messages/email_confirmation_sent.txt\")\n"
            ]
        },
        {
            "cell_type": "markdown",
            "metadata": {},
            "source": []
        },
        {
            "cell_type": "code",
            "execution_count": null,
            "metadata": {},
            "outputs": [],
            "source": [
                "def test_add_with_reauthentication(auth_client, user, user_password, settings):\n",
                "    settings.ACCOUNT_REAUTHENTICATION_REQUIRED = True\n",
                "    resp = auth_client.post(\n",
                "        reverse(\"account_email\"),\n",
                "        {\"action_add\": \"\", \"email\": \"john3@example.org\"},\n",
                "    )\n",
                "    assert not EmailAddress.objects.filter(email=\"john3@example.org\").exists()\n",
                "    assert resp.status_code == 302\n",
                "    assert resp[\"location\"] == reverse(\"account_reauthenticate\") + \"?next=%2Femail%2F\"\n",
                "    resp = auth_client.post(resp[\"location\"], {\"password\": user_password})\n",
                "    assert EmailAddress.objects.filter(email=\"john3@example.org\").exists()\n",
                "    assertTemplateUsed(resp, \"account/messages/email_confirmation_sent.txt\")\n",
                "    assert resp.status_code == 302\n",
                "    assert resp[\"location\"] == reverse(\"account_email\")\n"
            ]
        },
        {
            "cell_type": "markdown",
            "metadata": {},
            "source": []
        },
        {
            "cell_type": "code",
            "execution_count": null,
            "metadata": {},
            "outputs": [],
            "source": [
                "@pytest.mark.parametrize(\n",
                "    \"prevent_enumeration\",\n",
                "    [\n",
                "        False,\n",
                "        True,\n",
                "        \"strict\",\n",
                "    ],\n",
                ")\n",
                "def test_add_not_allowed(\n",
                "    auth_client, user, settings, user_factory, prevent_enumeration\n",
                "):\n",
                "    settings.ACCOUNT_PREVENT_ENUMERATION = prevent_enumeration\n",
                "    email = \"inuse@byotheruser.com\"\n",
                "    user_factory(email=email)\n",
                "    resp = auth_client.post(\n",
                "        reverse(\"account_email\"),\n",
                "        {\"action_add\": \"\", \"email\": email},\n",
                "    )\n",
                "    if prevent_enumeration == \"strict\":\n",
                "        assert resp.status_code == 302\n",
                "        EmailAddress.objects.get(\n",
                "            email=email,\n",
                "            user=user,\n",
                "            verified=False,\n",
                "            primary=False,\n",
                "        )\n",
                "        assertTemplateUsed(resp, \"account/messages/email_confirmation_sent.txt\")\n",
                "    else:\n",
                "        assert resp.status_code == 200\n",
                "        assert resp.context[\"form\"].errors == {\n",
                "            \"email\": [\"A user is already registered with this email address.\"]\n",
                "        }\n"
            ]
        },
        {
            "cell_type": "markdown",
            "metadata": {},
            "source": []
        },
        {
            "cell_type": "code",
            "execution_count": null,
            "metadata": {},
            "outputs": [],
            "source": [
                "@pytest.mark.parametrize(\n",
                "    \"authentication_method,primary_email,secondary_emails,delete_email,success\",\n",
                "    [\n",
                "        (AuthenticationMethod.EMAIL, \"pri@ma.il\", [\"sec@ma.il\"], \"pri@ma.il\", False),\n",
                "        (AuthenticationMethod.EMAIL, \"pri@ma.il\", [\"sec@ma.il\"], \"sec@ma.il\", True),\n",
                "        (AuthenticationMethod.EMAIL, \"pri@ma.il\", [], \"pri@ma.il\", False),\n",
                "        (AuthenticationMethod.USERNAME, \"pri@ma.il\", [\"sec@ma.il\"], \"pri@ma.il\", False),\n",
                "        (AuthenticationMethod.USERNAME, \"pri@ma.il\", [\"sec@ma.il\"], \"sec@ma.il\", True),\n",
                "        (AuthenticationMethod.USERNAME, \"pri@ma.il\", [], \"pri@ma.il\", True),\n",
                "        (\n",
                "            AuthenticationMethod.USERNAME_EMAIL,\n",
                "            \"pri@ma.il\",\n",
                "            [\"sec@ma.il\"],\n",
                "            \"pri@ma.il\",\n",
                "            False,\n",
                "        ),\n",
                "        (\n",
                "            AuthenticationMethod.USERNAME_EMAIL,\n",
                "            \"pri@ma.il\",\n",
                "            [\"sec@ma.il\"],\n",
                "            \"sec@ma.il\",\n",
                "            True,\n",
                "        ),\n",
                "        (AuthenticationMethod.USERNAME_EMAIL, \"pri@ma.il\", [], \"pri@ma.il\", True),\n",
                "    ],\n",
                ")\n",
                "def test_remove_email(\n",
                "    client,\n",
                "    settings,\n",
                "    user_factory,\n",
                "    primary_email,\n",
                "    secondary_emails,\n",
                "    delete_email,\n",
                "    authentication_method,\n",
                "    success,\n",
                "):\n",
                "    settings.ACCOUNT_AUTHENTICATION_METHOD = authentication_method\n",
                "    user = user_factory(email=primary_email)\n",
                "    EmailAddress.objects.bulk_create(\n",
                "        [\n",
                "            EmailAddress(user=user, email=email, primary=False, verified=False)\n",
                "            for email in secondary_emails\n",
                "        ]\n",
                "    )\n",
                "    client.force_login(user)\n",
                "    resp = client.post(\n",
                "        reverse(\"account_email\"),\n",
                "        {\"action_remove\": \"\", \"email\": delete_email},\n",
                "    )\n",
                "    assert EmailAddress.objects.filter(email=delete_email).exists() == (not success)\n",
                "    if not success:\n",
                "        assertTemplateUsed(resp, \"account/messages/cannot_delete_primary_email.txt\")\n"
            ]
        },
        {
            "cell_type": "markdown",
            "metadata": {},
            "source": []
        },
        {
            "cell_type": "code",
            "execution_count": null,
            "metadata": {},
            "outputs": [],
            "source": [
                "@pytest.mark.parametrize(\n",
                "    \"email,did_look_up\",\n",
                "    [\n",
                "        (\"valid@email.org\", True),\n",
                "        (\"not-an-email\", False),\n",
                "    ],\n",
                ")\n",
                "def test_dont_lookup_invalid_email(auth_client, email, did_look_up):\n",
                "    with patch(\"allauth.account.views.EmailAddress.objects.get_for_user\") as gfu_mock:\n",
                "        gfu_mock.side_effect = EmailAddress.DoesNotExist\n",
                "        auth_client.post(\n",
                "            reverse(\"account_email\"),\n",
                "            {\"action_remove\": \"\", \"email\": email},\n",
                "        )\n",
                "        assert gfu_mock.called == did_look_up\n"
            ]
        },
        {
            "cell_type": "markdown",
            "metadata": {},
            "source": []
        },
        {
            "cell_type": "code",
            "execution_count": null,
            "metadata": {},
            "outputs": [],
            "source": [
                "def test_add_requires_reauthentication(settings, auth_client):\n",
                "    settings.ACCOUNT_REAUTHENTICATION_REQUIRED = True\n",
                "    resp = auth_client.post(\n",
                "        reverse(\"account_email\"),\n",
                "        {\"action_add\": \"\", \"email\": \"john3@example.org\"},\n",
                "    )\n",
                "    assert not EmailAddress.objects.filter(email=\"john3@example.org\").exists()\n",
                "    assert resp[\"location\"].startswith(reverse(\"account_reauthenticate\"))\n"
            ]
        },
        {
            "cell_type": "markdown",
            "metadata": {},
            "source": []
        },
        {
            "cell_type": "code",
            "execution_count": null,
            "metadata": {},
            "outputs": [],
            "source": [
                "def test_remove_requires_reauthentication(auth_client, user, settings):\n",
                "    settings.ACCOUNT_REAUTHENTICATION_REQUIRED = True\n",
                "    secondary = EmailAddress.objects.create(\n",
                "        email=\"secondary@email.org\", user=user, verified=False, primary=False\n",
                "    )\n",
                "    resp = auth_client.post(\n",
                "        reverse(\"account_email\"),\n",
                "        {\"action_remove\": \"\", \"email\": secondary.email},\n",
                "    )\n",
                "    assert resp[\"location\"].startswith(reverse(\"account_reauthenticate\"))\n",
                "    assert EmailAddress.objects.filter(pk=secondary.pk).exists()\n"
            ]
        },
        {
            "cell_type": "markdown",
            "metadata": {},
            "source": []
        },
        {
            "cell_type": "code",
            "execution_count": null,
            "metadata": {},
            "outputs": [],
            "source": [
                "def test_set_primary_requires_reauthentication(auth_client, user, settings):\n",
                "    settings.ACCOUNT_REAUTHENTICATION_REQUIRED = True\n",
                "    primary = EmailAddress.objects.get(email=user.email)\n",
                "    secondary = EmailAddress.objects.create(\n",
                "        email=\"secondary@email.org\", user=user, verified=True, primary=False\n",
                "    )\n",
                "    resp = auth_client.post(\n",
                "        reverse(\"account_email\"),\n",
                "        {\"action_primary\": \"\", \"email\": secondary.email},\n",
                "    )\n",
                "    assert resp[\"location\"].startswith(reverse(\"account_reauthenticate\"))\n",
                "    primary.refresh_from_db()\n",
                "    secondary.refresh_from_db()\n",
                "    assert primary.primary\n",
                "    assert not secondary.primary\n",
                "\n"
            ]
        },
        {
            "cell_type": "markdown",
            "metadata": {},
            "source": []
        }
    ],
    "metadata": {
        "language_info": {
            "name": "python"
        }
    },
    "nbformat": 4,
    "nbformat_minor": 2
}