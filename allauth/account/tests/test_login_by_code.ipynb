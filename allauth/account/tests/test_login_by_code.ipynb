{
 "cells": [
  {
   "cell_type": "code",
   "execution_count": null,
   "metadata": {},
   "outputs": [],
   "source": [
    "from unittest.mock import ANY\n",
    "\n",
    "from django.contrib.auth import SESSION_KEY\n",
    "from django.urls import reverse\n",
    "\n",
    "import pytest\n",
    "\n",
    "from allauth.account.authentication import AUTHENTICATION_METHODS_SESSION_KEY\n",
    "from allauth.account.internal.flows.login_by_code import LOGIN_CODE_SESSION_KEY"
   ]
  },
  {
   "cell_type": "markdown",
   "metadata": {},
   "source": []
  },
  {
   "cell_type": "code",
   "execution_count": null,
   "metadata": {},
   "outputs": [],
   "source": [
    "@pytest.fixture\n",
    "def request_login_by_code(mailoutbox):\n",
    "    def f(client, email):\n",
    "        resp = client.get(reverse(\"account_request_login_code\") + \"?next=/foo\")\n",
    "        assert resp.status_code == 200\n",
    "        assert b'value=\"/foo\"' in resp.content\n",
    "        resp = client.post(\n",
    "            reverse(\"account_request_login_code\"), data={\"email\": email, \"next\": \"/foo\"}\n",
    "        )\n",
    "        assert resp.status_code == 302\n",
    "        assert (\n",
    "            resp[\"location\"] == reverse(\"account_confirm_login_code\") + \"?next=%2Ffoo\"\n",
    "        )\n",
    "        assert len(mailoutbox) == 1\n",
    "        code = client.session[LOGIN_CODE_SESSION_KEY][\"code\"]\n",
    "        assert len(code) == 6\n",
    "        assert code in mailoutbox[0].body\n",
    "        return code\n",
    "\n",
    "    return f"
   ]
  },
  {
   "cell_type": "markdown",
   "metadata": {},
   "source": []
  },
  {
   "cell_type": "code",
   "execution_count": null,
   "metadata": {},
   "outputs": [],
   "source": [
    "def test_login_by_code(client, user, request_login_by_code):\n",
    "    code = request_login_by_code(client, user.email)\n",
    "    code_with_ws = \" \" + code[0:3] + \" \" + code[3:]\n",
    "    resp = client.post(\n",
    "        reverse(\"account_confirm_login_code\"),\n",
    "        data={\"code\": code_with_ws, \"next\": \"/foo\"},\n",
    "    )\n",
    "    assert resp.status_code == 302\n",
    "    assert client.session[SESSION_KEY] == str(user.pk)\n",
    "    assert resp[\"location\"] == \"/foo\"\n",
    "    assert client.session[AUTHENTICATION_METHODS_SESSION_KEY][-1] == {\n",
    "        \"method\": \"code\",\n",
    "        \"email\": user.email,\n",
    "        \"at\": ANY,\n",
    "    }"
   ]
  },
  {
   "cell_type": "markdown",
   "metadata": {},
   "source": []
  },
  {
   "cell_type": "code",
   "execution_count": null,
   "metadata": {},
   "outputs": [],
   "source": [
    "def test_login_by_code_max_attempts(client, user, request_login_by_code, settings):\n",
    "    settings.ACCOUNT_LOGIN_BY_CODE_MAX_ATTEMPTS = 2\n",
    "    request_login_by_code(client, user.email)\n",
    "    for i in range(3):\n",
    "        resp = client.post(\n",
    "            reverse(\"account_confirm_login_code\"), data={\"code\": \"wrong\"}\n",
    "        )\n",
    "        if i >= 1:\n",
    "            assert resp.status_code == 302\n",
    "            assert resp[\"location\"] == reverse(\"account_request_login_code\")\n",
    "            assert LOGIN_CODE_SESSION_KEY not in client.session\n",
    "        else:\n",
    "            assert resp.status_code == 200\n",
    "            assert LOGIN_CODE_SESSION_KEY in client.session\n",
    "            assert resp.context[\"form\"].errors == {\"code\": [\"Incorrect code.\"]}"
   ]
  },
  {
   "cell_type": "markdown",
   "metadata": {},
   "source": []
  },
  {
   "cell_type": "code",
   "execution_count": null,
   "metadata": {},
   "outputs": [],
   "source": [
    "def test_login_by_code_unknown_user(mailoutbox, client, db):\n",
    "    resp = client.post(\n",
    "        reverse(\"account_request_login_code\"),\n",
    "        data={\"email\": \"unknown@email.org\"},\n",
    "    )\n",
    "    assert resp.status_code == 302\n",
    "    assert resp[\"location\"] == reverse(\"account_confirm_login_code\")\n",
    "    resp = client.post(reverse(\"account_confirm_login_code\"), data={\"code\": \"123456\"})"
   ]
  },
  {
   "cell_type": "markdown",
   "metadata": {},
   "source": []
  }
 ],
 "metadata": {
  "language_info": {
   "name": "python"
  }
 },
 "nbformat": 4,
 "nbformat_minor": 2
}