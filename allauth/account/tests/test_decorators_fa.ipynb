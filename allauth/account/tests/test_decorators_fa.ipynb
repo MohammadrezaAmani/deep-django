{
    "cells": [
        {
            "cell_type": "code",
            "execution_count": null,
            "metadata": {},
            "outputs": [],
            "source": [
                "from pytest_django.asserts import assertTemplateUsed\n",
                "\n",
                "from allauth.account.decorators import verified_email_required\n",
                "from django.contrib.messages.middleware import MessageMiddleware\n",
                "from django.contrib.sessions.middleware import SessionMiddleware\n"
            ]
        },
        {
            "cell_type": "markdown",
            "metadata": {},
            "source": []
        },
        {
            "cell_type": "code",
            "execution_count": null,
            "metadata": {},
            "outputs": [],
            "source": [
                "def test_verified_email_required(user_factory, rf):\n",
                "    user = user_factory(email_verified=False)\n",
                "\n",
                "    @verified_email_required\n",
                "    def view(request):\n",
                "        assert False\n",
                "\n",
                "    request = rf.get(\"/\")\n",
                "    SessionMiddleware(lambda request: None).process_request(request)\n",
                "    MessageMiddleware(lambda request: None).process_request(request)\n",
                "    request.user = user\n",
                "    view(request)\n",
                "    assertTemplateUsed(\"account/verified_email_required.html\")\n",
                "\n"
            ]
        },
        {
            "cell_type": "markdown",
            "metadata": {},
            "source": []
        }
    ],
    "metadata": {
        "language_info": {
            "name": "python"
        }
    },
    "nbformat": 4,
    "nbformat_minor": 2
}