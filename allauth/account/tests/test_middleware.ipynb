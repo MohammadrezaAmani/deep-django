{
 "cells": [
  {
   "cell_type": "code",
   "execution_count": null,
   "metadata": {},
   "outputs": [],
   "source": [
    "from django.conf import settings\n",
    "from django.http import HttpResponse\n",
    "from django.urls import path\n",
    "\n",
    "import pytest\n",
    "\n",
    "from allauth.account.middleware import AccountMiddleware\n",
    "from allauth.core.exceptions import ImmediateHttpResponse"
   ]
  },
  {
   "cell_type": "markdown",
   "metadata": {},
   "source": []
  },
  {
   "cell_type": "code",
   "execution_count": null,
   "metadata": {},
   "outputs": [],
   "source": [
    "@pytest.mark.parametrize(\n",
    "    \"path,status_code,content_type,sec_fetch_dest, login_removed\",\n",
    "    [\n",
    "        (\"/\", 200, \"text/html\", None, True),\n",
    "        (\"/\", 200, \"text/html\", \"empty\", False),\n",
    "        (\"/\", 200, \"text/html\", \"document\", True),\n",
    "        (\"/\", 200, \"text/html; charset=utf8\", None, True),\n",
    "        (\"/\", 200, \"text/txt\", None, False),\n",
    "        (\"/\", 404, \"text/html\", None, False),\n",
    "        (settings.STATIC_URL, 200, \"text/html\", None, False),\n",
    "        (\"/favicon.ico\", 200, \"image/x-icon\", None, False),\n",
    "        (\"/robots.txt\", 200, \"text/plain\", None, False),\n",
    "        (\"/robots.txt\", 200, \"text/html\", None, False),\n",
    "        (\"/humans.txt\", 200, \"text/plain\", None, False),\n",
    "    ],\n",
    ")\n",
    "def test_remove_dangling_login(\n",
    "    rf, path, status_code, login_removed, content_type, sec_fetch_dest\n",
    "):\n",
    "    request = rf.get(path)\n",
    "    if sec_fetch_dest:\n",
    "        # rf.get(headers=...) is Django 4.2+.\n",
    "        request.META[\"HTTP_SEC_FETCH_DEST\"] = sec_fetch_dest\n",
    "    request.session = {\"account_login\": True}\n",
    "    response = HttpResponse(status=status_code)\n",
    "    response[\"Content-Type\"] = content_type\n",
    "    mw = AccountMiddleware(lambda request: response)\n",
    "    mw(request)\n",
    "    assert (\"account_login\" in request.session) is (not login_removed)"
   ]
  },
  {
   "cell_type": "markdown",
   "metadata": {},
   "source": []
  },
  {
   "cell_type": "code",
   "execution_count": null,
   "metadata": {},
   "outputs": [],
   "source": [
    "def raise_immediate_http_response(request):\n",
    "    response = HttpResponse(content=\"raised-response\")\n",
    "    raise ImmediateHttpResponse(response=response)"
   ]
  },
  {
   "cell_type": "markdown",
   "metadata": {},
   "source": []
  },
  {
   "cell_type": "code",
   "execution_count": null,
   "metadata": {},
   "outputs": [],
   "source": [
    "urlpatterns = [path(\"raise\", raise_immediate_http_response)]"
   ]
  },
  {
   "cell_type": "markdown",
   "metadata": {},
   "source": []
  },
  {
   "cell_type": "code",
   "execution_count": null,
   "metadata": {},
   "outputs": [],
   "source": [
    "def test_immediate_http_response(settings, client):\n",
    "    settings.ROOT_URLCONF = \"allauth.account.tests.test_middleware\"\n",
    "    resp = client.get(\"/raise\")\n",
    "    assert resp.content == b\"raised-response\""
   ]
  },
  {
   "cell_type": "markdown",
   "metadata": {},
   "source": []
  }
 ],
 "metadata": {
  "language_info": {
   "name": "python"
  }
 },
 "nbformat": 4,
 "nbformat_minor": 2
}