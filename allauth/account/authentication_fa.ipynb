{
    "cells": [
        {
            "cell_type": "code",
            "execution_count": null,
            "metadata": {},
            "outputs": [],
            "source": [
                "import time\n",
                "\n",
                "AUTHENTICATION_METHODS_SESSION_KEY = \"account_authentication_methods\"\n"
            ]
        },
        {
            "cell_type": "markdown",
            "metadata": {},
            "source": []
        },
        {
            "cell_type": "code",
            "execution_count": null,
            "metadata": {},
            "outputs": [],
            "source": [
                "def record_authentication(request, method, **extra_data):\n",
                "    \"\"\"Here we keep a log of all authentication methods used within the current\n",
                "    session.  Important to note is that having entries here does not imply that\n",
                "    a user is fully signed in. For example, consider a case where a user\n",
                "    authenticates using a password, but fails to complete the 2FA challenge.\n",
                "    Or, a user successfully signs in into an inactive account or one that still\n",
                "    needs verification. In such cases, ``request.user`` is still anonymous, yet,\n",
                "    we do have an entry here.\n",
                "\n",
                "    Example data::\n",
                "\n",
                "        {'method': 'password',\n",
                "         'at': 1701423602.7184925,\n",
                "         'username': 'john.doe'}\n",
                "\n",
                "        {'method': 'socialaccount',\n",
                "         'at': 1701423567.6368647,\n",
                "         'provider': 'amazon',\n",
                "         'uid': 'amzn1.account.K2LI23KL2LK2'}\n",
                "\n",
                "        {'method': 'mfa',\n",
                "         'at': 1701423602.6392953,\n",
                "         'id': 1,\n",
                "         'type': 'totp'}\n",
                "\n",
                "    \"\"\"\n",
                "    methods = request.session.get(AUTHENTICATION_METHODS_SESSION_KEY, [])\n",
                "    data = {\n",
                "        \"method\": method,\n",
                "        \"at\": time.time(),\n",
                "        **extra_data,\n",
                "    }\n",
                "    methods.append(data)\n",
                "    request.session[AUTHENTICATION_METHODS_SESSION_KEY] = methods\n"
            ]
        },
        {
            "cell_type": "markdown",
            "metadata": {},
            "source": []
        },
        {
            "cell_type": "code",
            "execution_count": null,
            "metadata": {},
            "outputs": [],
            "source": [
                "def get_authentication_records(request):\n",
                "    return request.session.get(AUTHENTICATION_METHODS_SESSION_KEY, [])\n",
                "\n"
            ]
        },
        {
            "cell_type": "markdown",
            "metadata": {},
            "source": []
        }
    ],
    "metadata": {
        "language_info": {
            "name": "python"
        }
    },
    "nbformat": 4,
    "nbformat_minor": 2
}