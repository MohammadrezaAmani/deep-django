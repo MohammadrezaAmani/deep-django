{
    "cells": [
        {
            "cell_type": "code",
            "execution_count": null,
            "metadata": {},
            "outputs": [],
            "source": [
                "from allauth.account.models import EmailAddress\n",
                "from allauth.account.utils import user_email\n",
                "from django.contrib.auth import get_user_model\n",
                "from django.core.management.base import BaseCommand\n",
                "from django.db.models import Count\n"
            ]
        },
        {
            "cell_type": "markdown",
            "metadata": {},
            "source": []
        },
        {
            "cell_type": "code",
            "execution_count": null,
            "metadata": {},
            "outputs": [],
            "source": [
                "class Command(BaseCommand):\n",
                "    def handle(self, *args, **options):\n",
                "        for user in self.get_users_with_multiple_primary_email():\n",
                "            self.unprimary_extra_primary_emails(user)\n",
                "\n",
                "    def get_users_with_multiple_primary_email(self):\n",
                "        user_pks = []\n",
                "        for email_address_dict in (\n",
                "            EmailAddress.objects.filter(primary=True)\n",
                "            .values(\"user\")\n",
                "            .annotate(Count(\"user\"))\n",
                "            .filter(user__count__gt=1)\n",
                "        ):\n",
                "            user_pks.append(email_address_dict[\"user\"])\n",
                "        return get_user_model().objects.filter(pk__in=user_pks)\n",
                "\n",
                "    def unprimary_extra_primary_emails(self, user):\n",
                "        primary_email_addresses = EmailAddress.objects.filter(user=user, primary=True)\n",
                "\n",
                "        for primary_email_address in primary_email_addresses:\n",
                "            if primary_email_address.email == user_email(user):\n",
                "                break\n",
                "        else:\n",
                "            # Didn't find the main email addresses and break the for loop\n",
                "            print(\n",
                "                \"WARNING: Multiple primary without a user.email match for\"\n",
                "                \"user pk %s; (tried: %s, using: %s)\"\n",
                "            ) % (\n",
                "                user.pk,\n",
                "                \", \".join(\n",
                "                    [email_address.email for email_address in primary_email_addresses]\n",
                "                ),\n",
                "                primary_email_address,\n",
                "            )\n",
                "\n",
                "        primary_email_addresses.exclude(pk=primary_email_address.pk).update(\n",
                "            primary=False\n",
                "        )\n",
                "\n"
            ]
        },
        {
            "cell_type": "markdown",
            "metadata": {},
            "source": []
        }
    ],
    "metadata": {
        "language_info": {
            "name": "python"
        }
    },
    "nbformat": 4,
    "nbformat_minor": 2
}