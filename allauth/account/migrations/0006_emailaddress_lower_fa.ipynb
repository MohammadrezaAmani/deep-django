{
    "cells": [
        {
            "cell_type": "code",
            "execution_count": null,
            "metadata": {},
            "outputs": [],
            "source": [
                "from allauth.account import app_settings\n",
                "from django.conf import settings\n",
                "from django.db import migrations\n",
                "from django.db.models.functions import Lower\n"
            ]
        },
        {
            "cell_type": "markdown",
            "metadata": {},
            "source": []
        },
        {
            "cell_type": "code",
            "execution_count": null,
            "metadata": {},
            "outputs": [],
            "source": [
                "def forwards(apps, schema_editor):\n",
                "    EmailAddress = apps.get_model(\"account.EmailAddress\")\n",
                "    User = apps.get_model(settings.AUTH_USER_MODEL)\n",
                "    EmailAddress.objects.all().exclude(email=Lower(\"email\")).update(\n",
                "        email=Lower(\"email\")\n",
                "    )\n",
                "    email_field = app_settings.USER_MODEL_EMAIL_FIELD\n",
                "    if email_field:\n",
                "        User.objects.all().exclude(**{email_field: Lower(email_field)}).update(\n",
                "            **{email_field: Lower(email_field)}\n",
                "        )\n"
            ]
        },
        {
            "cell_type": "markdown",
            "metadata": {},
            "source": []
        },
        {
            "cell_type": "code",
            "execution_count": null,
            "metadata": {},
            "outputs": [],
            "source": [
                "class Migration(migrations.Migration):\n",
                "    dependencies = [\n",
                "        (\"account\", \"0005_emailaddress_idx_upper_email\"),\n",
                "    ]\n",
                "\n",
                "    operations = [migrations.RunPython(forwards)]\n",
                "\n"
            ]
        },
        {
            "cell_type": "markdown",
            "metadata": {},
            "source": []
        }
    ],
    "metadata": {
        "language_info": {
            "name": "python"
        }
    },
    "nbformat": 4,
    "nbformat_minor": 2
}