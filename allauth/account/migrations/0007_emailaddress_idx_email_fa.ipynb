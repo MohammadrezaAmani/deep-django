{
    "cells": [
        {
            "cell_type": "code",
            "execution_count": null,
            "metadata": {},
            "outputs": [],
            "source": [
                "from django.conf import settings\n",
                "from django.db import migrations, models\n",
                "\n",
                "EMAIL_MAX_LENGTH = getattr(settings, \"ACCOUNT_EMAIL_MAX_LENGTH\", 254)\n"
            ]
        },
        {
            "cell_type": "markdown",
            "metadata": {},
            "source": []
        },
        {
            "cell_type": "code",
            "execution_count": null,
            "metadata": {},
            "outputs": [],
            "source": [
                "class Migration(migrations.Migration):\n",
                "    dependencies = [\n",
                "        (\"account\", \"0006_emailaddress_lower\"),\n",
                "    ]\n",
                "\n",
                "    operations = [\n",
                "        migrations.RemoveIndex(\n",
                "            model_name=\"emailaddress\",\n",
                "            name=\"account_emailaddress_upper\",\n",
                "        ),\n",
                "        migrations.AlterField(\n",
                "            model_name=\"emailaddress\",\n",
                "            name=\"email\",\n",
                "            field=models.EmailField(\n",
                "                db_index=True, max_length=EMAIL_MAX_LENGTH, verbose_name=\"email address\"\n",
                "            ),\n",
                "        ),\n",
                "    ]\n",
                "\n"
            ]
        },
        {
            "cell_type": "markdown",
            "metadata": {},
            "source": []
        }
    ],
    "metadata": {
        "language_info": {
            "name": "python"
        }
    },
    "nbformat": 4,
    "nbformat_minor": 2
}