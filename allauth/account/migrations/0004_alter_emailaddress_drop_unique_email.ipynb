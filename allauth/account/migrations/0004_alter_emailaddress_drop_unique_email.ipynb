{
    "cells": [
        {
            "cell_type": "code",
            "execution_count": null,
            "metadata": {},
            "outputs": [],
            "source": [
                "from django.conf import settings\n",
                "from django.db import migrations, models\n"
            ]
        },
        {
            "cell_type": "markdown",
            "metadata": {},
            "source": []
        },
        {
            "cell_type": "code",
            "execution_count": null,
            "metadata": {},
            "outputs": [],
            "source": [
                "EMAIL_MAX_LENGTH = getattr(settings, \"ACCOUNT_EMAIL_MAX_LENGTH\", 254)\n"
            ]
        },
        {
            "cell_type": "markdown",
            "metadata": {},
            "source": []
        },
        {
            "cell_type": "code",
            "execution_count": null,
            "metadata": {},
            "outputs": [],
            "source": [
                "class Migration(migrations.Migration):\n",
                "    dependencies = [\n",
                "        (\"account\", \"0003_alter_emailaddress_create_unique_verified_email\"),\n",
                "    ]\n",
                "\n",
                "    operations = [\n",
                "        migrations.AlterField(\n",
                "            model_name=\"emailaddress\",\n",
                "            name=\"email\",\n",
                "            field=models.EmailField(\n",
                "                max_length=EMAIL_MAX_LENGTH, verbose_name=\"email address\"\n",
                "            ),\n",
                "        ),\n",
                "    ]\n",
                "\n"
            ]
        },
        {
            "cell_type": "markdown",
            "metadata": {},
            "source": []
        }
    ],
    "metadata": {
        "language_info": {
            "name": "python"
        }
    },
    "nbformat": 4,
    "nbformat_minor": 2
}