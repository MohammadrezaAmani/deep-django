{
 "cells": [
  {
   "cell_type": "code",
   "execution_count": null,
   "metadata": {},
   "outputs": [],
   "source": [
    "# -*- coding: utf-8 -*-\n",
    "from __future__ import unicode_literals\n",
    "\n",
    "from django.conf import settings\n",
    "from django.db import migrations, models\n",
    "\n",
    "UNIQUE_EMAIL = getattr(settings, \"ACCOUNT_UNIQUE_EMAIL\", True)\n",
    "EMAIL_MAX_LENGTH = getattr(settings, \"ACCOUNT_EMAIL_MAX_LENGTH\", 254)"
   ]
  },
  {
   "cell_type": "markdown",
   "metadata": {},
   "source": []
  },
  {
   "cell_type": "code",
   "execution_count": null,
   "metadata": {},
   "outputs": [],
   "source": [
    "class Migration(migrations.Migration):\n",
    "    dependencies = [\n",
    "        (\"account\", \"0001_initial\"),\n",
    "    ]\n",
    "\n",
    "    operations = [\n",
    "        migrations.AlterField(\n",
    "            model_name=\"emailaddress\",\n",
    "            name=\"email\",\n",
    "            field=models.EmailField(\n",
    "                unique=UNIQUE_EMAIL,\n",
    "                max_length=EMAIL_MAX_LENGTH,\n",
    "                verbose_name=\"email address\",\n",
    "            ),\n",
    "        ),\n",
    "    ]\n",
    "\n",
    "    if not UNIQUE_EMAIL:\n",
    "        operations += [\n",
    "            migrations.AlterUniqueTogether(\n",
    "                name=\"emailaddress\",\n",
    "                unique_together=set([(\"user\", \"email\")]),\n",
    "            ),\n",
    "        ]"
   ]
  },
  {
   "cell_type": "markdown",
   "metadata": {},
   "source": []
  }
 ],
 "metadata": {
  "language_info": {
   "name": "python"
  }
 },
 "nbformat": 4,
 "nbformat_minor": 2
}