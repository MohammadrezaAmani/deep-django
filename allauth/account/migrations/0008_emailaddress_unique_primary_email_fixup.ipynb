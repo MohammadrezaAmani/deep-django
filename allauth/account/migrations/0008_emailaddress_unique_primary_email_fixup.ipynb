{
 "cells": [
  {
   "cell_type": "code",
   "execution_count": null,
   "metadata": {},
   "outputs": [],
   "source": [
    "from django.conf import settings\n",
    "from django.db import migrations\n",
    "from django.db.models import Count"
   ]
  },
  {
   "cell_type": "markdown",
   "metadata": {},
   "source": []
  },
  {
   "cell_type": "code",
   "execution_count": null,
   "metadata": {},
   "outputs": [],
   "source": [
    "def forwards(apps, schema_editor):\n",
    "    EmailAddress = apps.get_model(\"account.EmailAddress\")\n",
    "    User = apps.get_model(settings.AUTH_USER_MODEL)\n",
    "    user_email_field = getattr(settings, \"ACCOUNT_USER_MODEL_EMAIL_FIELD\", \"email\")\n",
    "\n",
    "    def get_users_with_multiple_primary_email():\n",
    "        user_pks = []\n",
    "        for email_address_dict in (\n",
    "            EmailAddress.objects.filter(primary=True)\n",
    "            .values(\"user\")\n",
    "            .annotate(Count(\"user\"))\n",
    "            .filter(user__count__gt=1)\n",
    "        ):\n",
    "            user_pks.append(email_address_dict[\"user\"])\n",
    "        return User.objects.filter(pk__in=user_pks)\n",
    "\n",
    "    def unset_extra_primary_emails(user):\n",
    "        qs = EmailAddress.objects.filter(user=user, primary=True)\n",
    "        primary_email_addresses = list(qs)\n",
    "        if not primary_email_addresses:\n",
    "            return\n",
    "        primary_email_address = primary_email_addresses[0]\n",
    "        if user_email_field:\n",
    "            for address in primary_email_addresses:\n",
    "                if address.email.lower() == getattr(user, user_email_field, \"\").lower():\n",
    "                    primary_email_address = address\n",
    "                    break\n",
    "        qs.exclude(pk=primary_email_address.pk).update(primary=False)\n",
    "\n",
    "    for user in get_users_with_multiple_primary_email().iterator():\n",
    "        unset_extra_primary_emails(user)"
   ]
  },
  {
   "cell_type": "markdown",
   "metadata": {},
   "source": []
  },
  {
   "cell_type": "code",
   "execution_count": null,
   "metadata": {},
   "outputs": [],
   "source": [
    "class Migration(migrations.Migration):\n",
    "    dependencies = [\n",
    "        (\"account\", \"0007_emailaddress_idx_email\"),\n",
    "    ]\n",
    "\n",
    "    operations = [migrations.RunPython(forwards)]"
   ]
  },
  {
   "cell_type": "markdown",
   "metadata": {},
   "source": []
  }
 ],
 "metadata": {
  "language_info": {
   "name": "python"
  }
 },
 "nbformat": 4,
 "nbformat_minor": 2
}