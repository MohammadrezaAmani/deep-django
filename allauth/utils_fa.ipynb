{
    "cells": [
        {
            "cell_type": "code",
            "execution_count": null,
            "metadata": {},
            "outputs": [],
            "source": [
                "import base64\n",
                "import importlib\n",
                "import json\n",
                "import random\n",
                "import re\n",
                "import string\n",
                "import unicodedata\n",
                "from collections import OrderedDict\n",
                "from urllib.parse import urlsplit\n",
                "\n",
                "from allauth import app_settings\n",
                "from django.conf import settings\n",
                "from django.contrib.auth import get_user_model\n",
                "from django.core.exceptions import (\n",
                "    FieldDoesNotExist,\n",
                "    ImproperlyConfigured,\n",
                "    ValidationError,\n",
                ")\n",
                "from django.core.files.base import ContentFile\n",
                "from django.core.serializers.json import DjangoJSONEncoder\n",
                "from django.core.validators import validate_email\n",
                "from django.db.models import FileField\n",
                "from django.db.models.fields import (\n",
                "    BinaryField,\n",
                "    DateField,\n",
                "    DateTimeField,\n",
                "    EmailField,\n",
                "    TimeField,\n",
                ")\n",
                "from django.utils import dateparse\n",
                "from django.utils.encoding import force_bytes, force_str\n",
                "\n",
                "# Magic number 7: if you run into collisions with this number, then you are\n",
                "# of big enough scale to start investing in a decent user model...\n",
                "MAX_USERNAME_SUFFIX_LENGTH = 7\n",
                "USERNAME_SUFFIX_CHARS = [string.digits] * 4 + [string.ascii_letters] * (\n",
                "    MAX_USERNAME_SUFFIX_LENGTH - 4\n",
                ")\n"
            ]
        },
        {
            "cell_type": "markdown",
            "metadata": {},
            "source": []
        },
        {
            "cell_type": "code",
            "execution_count": null,
            "metadata": {},
            "outputs": [],
            "source": [
                "def _generate_unique_username_base(txts, regex=None):\n",
                "    from .account.adapter import get_adapter\n",
                "\n",
                "    adapter = get_adapter()\n",
                "    username = None\n",
                "    regex = regex or r\"[^\\w\\s@+.-]\"\n",
                "    for txt in txts:\n",
                "        if not txt:\n",
                "            continue\n",
                "        username = unicodedata.normalize(\"NFKD\", force_str(txt))\n",
                "        username = username.encode(\"ascii\", \"ignore\").decode(\"ascii\")\n",
                "        if len(username) == 0:\n",
                "            continue\n",
                "        username = force_str(re.sub(regex, \"\", username).lower())\n",
                "        # Django allows for '@' in usernames in order to accommodate for\n",
                "        # project wanting to use email for username. In allauth we don't\n",
                "        # use this, we already have a proper place for putting email\n",
                "        # addresses (EmailAddress), so let's not use the full email\n",
                "        # address and only take the part leading up to the '@'.\n",
                "        username = username.split(\"@\")[0]\n",
                "        username = username.strip()\n",
                "        username = re.sub(r\"\\s+\", \"_\", username)\n",
                "        # Finally, validating base username without database lookups etc.\n",
                "        try:\n",
                "            username = adapter.clean_username(username, shallow=True)\n",
                "            break\n",
                "        except ValidationError:\n",
                "            pass\n",
                "    return username or \"user\"\n"
            ]
        },
        {
            "cell_type": "markdown",
            "metadata": {},
            "source": []
        },
        {
            "cell_type": "code",
            "execution_count": null,
            "metadata": {},
            "outputs": [],
            "source": [
                "def get_username_max_length():\n",
                "    from .account.app_settings import USER_MODEL_USERNAME_FIELD\n",
                "\n",
                "    if USER_MODEL_USERNAME_FIELD is not None:\n",
                "        User = get_user_model()\n",
                "        max_length = User._meta.get_field(USER_MODEL_USERNAME_FIELD).max_length\n",
                "    else:\n",
                "        max_length = 0\n",
                "    return max_length\n"
            ]
        },
        {
            "cell_type": "markdown",
            "metadata": {},
            "source": []
        },
        {
            "cell_type": "code",
            "execution_count": null,
            "metadata": {},
            "outputs": [],
            "source": [
                "def generate_username_candidate(basename, suffix_length):\n",
                "    max_length = get_username_max_length()\n",
                "    suffix = \"\".join(\n",
                "        random.choice(USERNAME_SUFFIX_CHARS[i]) for i in range(suffix_length)\n",
                "    )\n",
                "    return basename[0 : max_length - len(suffix)] + suffix\n"
            ]
        },
        {
            "cell_type": "markdown",
            "metadata": {},
            "source": []
        },
        {
            "cell_type": "code",
            "execution_count": null,
            "metadata": {},
            "outputs": [],
            "source": [
                "def generate_username_candidates(basename):\n",
                "    from .account.app_settings import USERNAME_MIN_LENGTH\n",
                "\n",
                "    if len(basename) >= USERNAME_MIN_LENGTH:\n",
                "        ret = [basename]\n",
                "    else:\n",
                "        ret = []\n",
                "    min_suffix_length = max(1, USERNAME_MIN_LENGTH - len(basename))\n",
                "    max_suffix_length = min(get_username_max_length(), MAX_USERNAME_SUFFIX_LENGTH)\n",
                "    for suffix_length in range(min_suffix_length, max_suffix_length):\n",
                "        ret.append(generate_username_candidate(basename, suffix_length))\n",
                "    return ret\n"
            ]
        },
        {
            "cell_type": "markdown",
            "metadata": {},
            "source": []
        },
        {
            "cell_type": "code",
            "execution_count": null,
            "metadata": {},
            "outputs": [],
            "source": [
                "def generate_unique_username(txts, regex=None):\n",
                "    from allauth.account.utils import filter_users_by_username\n",
                "\n",
                "    from .account.adapter import get_adapter\n",
                "    from .account.app_settings import USER_MODEL_USERNAME_FIELD\n",
                "\n",
                "    adapter = get_adapter()\n",
                "    basename = _generate_unique_username_base(txts, regex)\n",
                "    candidates = generate_username_candidates(basename)\n",
                "    existing_usernames = filter_users_by_username(*candidates).values_list(\n",
                "        USER_MODEL_USERNAME_FIELD, flat=True\n",
                "    )\n",
                "    existing_usernames = set([n.lower() for n in existing_usernames])\n",
                "    for candidate in candidates:\n",
                "        if candidate.lower() not in existing_usernames:\n",
                "            try:\n",
                "                return adapter.clean_username(candidate, shallow=True)\n",
                "            except ValidationError:\n",
                "                pass\n",
                "    # This really should not happen\n",
                "    raise NotImplementedError(\"Unable to find a unique username\")\n"
            ]
        },
        {
            "cell_type": "markdown",
            "metadata": {},
            "source": []
        },
        {
            "cell_type": "code",
            "execution_count": null,
            "metadata": {},
            "outputs": [],
            "source": [
                "def valid_email_or_none(email):\n",
                "    ret = None\n",
                "    try:\n",
                "        if email:\n",
                "            validate_email(email)\n",
                "            if len(email) <= EmailField().max_length:\n",
                "                ret = email.lower()\n",
                "    except ValidationError:\n",
                "        pass\n",
                "    return ret\n"
            ]
        },
        {
            "cell_type": "markdown",
            "metadata": {},
            "source": []
        },
        {
            "cell_type": "code",
            "execution_count": null,
            "metadata": {},
            "outputs": [],
            "source": [
                "def import_attribute(path):\n",
                "    assert isinstance(path, str)\n",
                "    pkg, attr = path.rsplit(\".\", 1)\n",
                "    ret = getattr(importlib.import_module(pkg), attr)\n",
                "    return ret\n"
            ]
        },
        {
            "cell_type": "markdown",
            "metadata": {},
            "source": []
        },
        {
            "cell_type": "code",
            "execution_count": null,
            "metadata": {},
            "outputs": [],
            "source": [
                "def import_callable(path_or_callable):\n",
                "    if not hasattr(path_or_callable, \"__call__\"):\n",
                "        ret = import_attribute(path_or_callable)\n",
                "    else:\n",
                "        ret = path_or_callable\n",
                "    return ret\n"
            ]
        },
        {
            "cell_type": "markdown",
            "metadata": {},
            "source": []
        },
        {
            "cell_type": "code",
            "execution_count": null,
            "metadata": {},
            "outputs": [],
            "source": [
                "SERIALIZED_DB_FIELD_PREFIX = \"_db_\"\n"
            ]
        },
        {
            "cell_type": "markdown",
            "metadata": {},
            "source": []
        },
        {
            "cell_type": "code",
            "execution_count": null,
            "metadata": {},
            "outputs": [],
            "source": [
                "def serialize_instance(instance):\n",
                "    \"\"\"\n",
                "    Since Django 1.6 items added to the session are no longer pickled,\n",
                "    but JSON encoded by default. We are storing partially complete models\n",
                "    in the session (user, account, token, ...). We cannot use standard\n",
                "    Django serialization, as these are models are not \"complete\" yet.\n",
                "    Serialization will start complaining about missing relations et al.\n",
                "    \"\"\"\n",
                "    data = {}\n",
                "    for k, v in instance.__dict__.items():\n",
                "        if k.startswith(\"_\") or callable(v):\n",
                "            continue\n",
                "        try:\n",
                "            field = instance._meta.get_field(k)\n",
                "            if isinstance(field, BinaryField):\n",
                "                if v is not None:\n",
                "                    v = force_str(base64.b64encode(v))\n",
                "            elif isinstance(field, FileField):\n",
                "                if v and not isinstance(v, str):\n",
                "                    v = {\n",
                "                        \"name\": v.name,\n",
                "                        \"content\": base64.b64encode(v.read()).decode(\"ascii\"),\n",
                "                    }\n",
                "            # Check if the field is serializable. If not, we'll fall back\n",
                "            # to serializing the DB values which should cover most use cases.\n",
                "            try:\n",
                "                json.dumps(v, cls=DjangoJSONEncoder)\n",
                "            except TypeError:\n",
                "                v = field.get_prep_value(v)\n",
                "                k = SERIALIZED_DB_FIELD_PREFIX + k\n",
                "        except FieldDoesNotExist:\n",
                "            pass\n",
                "        data[k] = v\n",
                "    return json.loads(json.dumps(data, cls=DjangoJSONEncoder))\n"
            ]
        },
        {
            "cell_type": "markdown",
            "metadata": {},
            "source": []
        },
        {
            "cell_type": "code",
            "execution_count": null,
            "metadata": {},
            "outputs": [],
            "source": [
                "def deserialize_instance(model, data):\n",
                "    ret = model()\n",
                "    for k, v in data.items():\n",
                "        is_db_value = False\n",
                "        if k.startswith(SERIALIZED_DB_FIELD_PREFIX):\n",
                "            k = k[len(SERIALIZED_DB_FIELD_PREFIX) :]\n",
                "            is_db_value = True\n",
                "        if v is not None:\n",
                "            try:\n",
                "                f = model._meta.get_field(k)\n",
                "                if isinstance(f, DateTimeField):\n",
                "                    v = dateparse.parse_datetime(v)\n",
                "                elif isinstance(f, TimeField):\n",
                "                    v = dateparse.parse_time(v)\n",
                "                elif isinstance(f, DateField):\n",
                "                    v = dateparse.parse_date(v)\n",
                "                elif isinstance(f, BinaryField):\n",
                "                    v = force_bytes(base64.b64decode(force_bytes(v)))\n",
                "                elif isinstance(f, FileField):\n",
                "                    if isinstance(v, dict):\n",
                "                        v = ContentFile(base64.b64decode(v[\"content\"]), name=v[\"name\"])\n",
                "                elif is_db_value:\n",
                "                    try:\n",
                "                        # This is quite an ugly hack, but will cover most\n",
                "                        # use cases...\n",
                "                        # The signature of `from_db_value` changed in Django 3\n",
                "                        # https://docs.djangoproject.com/en/3.0/releases/3.0/#features-removed-in-3-0\n",
                "                        v = f.from_db_value(v, None, None)\n",
                "                    except Exception:\n",
                "                        raise ImproperlyConfigured(\n",
                "                            \"Unable to auto serialize field '{}', custom\"\n",
                "                            \" serialization override required\".format(k)\n",
                "                        )\n",
                "            except FieldDoesNotExist:\n",
                "                pass\n",
                "        setattr(ret, k, v)\n",
                "    return ret\n"
            ]
        },
        {
            "cell_type": "markdown",
            "metadata": {},
            "source": []
        },
        {
            "cell_type": "code",
            "execution_count": null,
            "metadata": {},
            "outputs": [],
            "source": [
                "def set_form_field_order(form, field_order):\n",
                "    \"\"\"\n",
                "    This function is a verbatim copy of django.forms.Form.order_fields() to\n",
                "    support field ordering below Django 1.9.\n",
                "\n",
                "    field_order is a list of field names specifying the order. Append fields\n",
                "    not included in the list in the default order for backward compatibility\n",
                "    with subclasses not overriding field_order. If field_order is None, keep\n",
                "    all fields in the order defined in the class. Ignore unknown fields in\n",
                "    field_order to allow disabling fields in form subclasses without\n",
                "    redefining ordering.\n",
                "    \"\"\"\n",
                "    if field_order is None:\n",
                "        return\n",
                "    fields = OrderedDict()\n",
                "    for key in field_order:\n",
                "        try:\n",
                "            fields[key] = form.fields.pop(key)\n",
                "        except KeyError:  # ignore unknown fields\n",
                "            pass\n",
                "    fields.update(form.fields)  # add remaining fields in original order\n",
                "    form.fields = fields\n"
            ]
        },
        {
            "cell_type": "markdown",
            "metadata": {},
            "source": []
        },
        {
            "cell_type": "code",
            "execution_count": null,
            "metadata": {},
            "outputs": [],
            "source": [
                "def build_absolute_uri(request, location, protocol=None):\n",
                "    \"\"\"request.build_absolute_uri() helper\n",
                "\n",
                "    Like request.build_absolute_uri, but gracefully handling\n",
                "    the case where request is None.\n",
                "    \"\"\"\n",
                "    from .account import app_settings as account_settings\n",
                "\n",
                "    if request is None:\n",
                "        if not app_settings.SITES_ENABLED:\n",
                "            raise ImproperlyConfigured(\n",
                "                \"Passing `request=None` requires `sites` to be enabled.\"\n",
                "            )\n",
                "        from django.contrib.sites.models import Site\n",
                "\n",
                "        site = Site.objects.get_current()\n",
                "        bits = urlsplit(location)\n",
                "        if not (bits.scheme and bits.netloc):\n",
                "            uri = \"{proto}://{domain}{url}\".format(\n",
                "                proto=account_settings.DEFAULT_HTTP_PROTOCOL,\n",
                "                domain=site.domain,\n",
                "                url=location,\n",
                "            )\n",
                "        else:\n",
                "            uri = location\n",
                "    else:\n",
                "        uri = request.build_absolute_uri(location)\n",
                "    # NOTE: We only force a protocol if we are instructed to do so\n",
                "    # (via the `protocol` parameter, or, if the default is set to\n",
                "    # HTTPS. The latter keeps compatibility with the debatable use\n",
                "    # case of running your site under both HTTP and HTTPS, where one\n",
                "    # would want to make sure HTTPS links end up in password reset\n",
                "    # mails even while they were initiated on an HTTP password reset\n",
                "    # form.\n",
                "    if not protocol and account_settings.DEFAULT_HTTP_PROTOCOL == \"https\":\n",
                "        protocol = account_settings.DEFAULT_HTTP_PROTOCOL\n",
                "    # (end NOTE)\n",
                "    if protocol:\n",
                "        uri = protocol + \":\" + uri.partition(\":\")[2]\n",
                "    return uri\n"
            ]
        },
        {
            "cell_type": "markdown",
            "metadata": {},
            "source": []
        },
        {
            "cell_type": "code",
            "execution_count": null,
            "metadata": {},
            "outputs": [],
            "source": [
                "def get_form_class(forms, form_id, default_form):\n",
                "    form_class = forms.get(form_id, default_form)\n",
                "    if isinstance(form_class, str):\n",
                "        form_class = import_attribute(form_class)\n",
                "    return form_class\n"
            ]
        },
        {
            "cell_type": "markdown",
            "metadata": {},
            "source": []
        },
        {
            "cell_type": "code",
            "execution_count": null,
            "metadata": {},
            "outputs": [],
            "source": [
                "def get_request_param(request, param, default=None):\n",
                "    if request is None:\n",
                "        return default\n",
                "    return request.POST.get(param) or request.GET.get(param, default)\n"
            ]
        },
        {
            "cell_type": "markdown",
            "metadata": {},
            "source": []
        },
        {
            "cell_type": "code",
            "execution_count": null,
            "metadata": {},
            "outputs": [],
            "source": [
                "def get_setting(name, dflt):\n",
                "    getter = getattr(\n",
                "        settings,\n",
                "        \"ALLAUTH_SETTING_GETTER\",\n",
                "        lambda name, dflt: getattr(settings, name, dflt),\n",
                "    )\n",
                "    getter = import_callable(getter)\n",
                "    return getter(name, dflt)\n",
                "\n"
            ]
        },
        {
            "cell_type": "markdown",
            "metadata": {},
            "source": []
        }
    ],
    "metadata": {
        "language_info": {
            "name": "python"
        }
    },
    "nbformat": 4,
    "nbformat_minor": 2
}