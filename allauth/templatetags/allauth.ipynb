{
 "cells": [
  {
   "cell_type": "code",
   "execution_count": null,
   "metadata": {},
   "outputs": [],
   "source": [
    "from django import template\n",
    "from django.template.base import FilterExpression, kwarg_re\n",
    "from django.template.loader import render_to_string\n",
    "from django.template.loader_tags import ExtendsNode\n",
    "from django.utils.safestring import mark_safe"
   ]
  },
  {
   "cell_type": "markdown",
   "metadata": {},
   "source": []
  },
  {
   "cell_type": "code",
   "execution_count": null,
   "metadata": {},
   "outputs": [],
   "source": [
    "SLOTS_CONTEXT_KEY = \"slots_context\"\n",
    "LAYOUT_CONTEXT_KEY = \"layout_context\""
   ]
  },
  {
   "cell_type": "markdown",
   "metadata": {},
   "source": []
  },
  {
   "cell_type": "code",
   "execution_count": null,
   "metadata": {},
   "outputs": [],
   "source": [
    "def parse_tag(token, parser):\n",
    "    bits = token.split_contents()\n",
    "    tag_name = bits.pop(0)\n",
    "    args = []\n",
    "    kwargs = {}\n",
    "    for bit in bits:\n",
    "        # Is this a kwarg or an arg?\n",
    "        match = kwarg_re.match(bit)\n",
    "        kwarg_format = match and match.group(1)\n",
    "        if kwarg_format:\n",
    "            key, value = match.groups()\n",
    "            kwargs[key] = FilterExpression(value, parser)\n",
    "        else:\n",
    "            args.append(FilterExpression(bit, parser))\n",
    "\n",
    "    return (tag_name, args, kwargs)"
   ]
  },
  {
   "cell_type": "markdown",
   "metadata": {},
   "source": []
  },
  {
   "cell_type": "code",
   "execution_count": null,
   "metadata": {},
   "outputs": [],
   "source": [
    "register = template.Library()"
   ]
  },
  {
   "cell_type": "markdown",
   "metadata": {},
   "source": []
  },
  {
   "cell_type": "code",
   "execution_count": null,
   "metadata": {},
   "outputs": [],
   "source": [
    "@register.tag(name=\"slot\")\n",
    "def do_slot(parser, token):\n",
    "    nodelist = parser.parse((\"endslot\",))\n",
    "    bits = token.split_contents()\n",
    "    bits.pop(0)\n",
    "    slot_name = bits.pop(0) if bits else \"default\"\n",
    "    parser.delete_first_token()\n",
    "    return SlotNode(slot_name, nodelist)"
   ]
  },
  {
   "cell_type": "markdown",
   "metadata": {},
   "source": []
  },
  {
   "cell_type": "code",
   "execution_count": null,
   "metadata": {},
   "outputs": [],
   "source": [
    "class SlotNode(template.Node):\n",
    "    def __init__(self, name, nodelist):\n",
    "        self.name = name\n",
    "        self.nodelist = nodelist\n",
    "\n",
    "    def render(self, context):\n",
    "        slots = context.render_context.get(SLOTS_CONTEXT_KEY)\n",
    "        with context.push():\n",
    "            if slots is None:\n",
    "                if self.name in context[\"slots\"]:\n",
    "                    return \"\".join(context[\"slots\"][self.name])\n",
    "                return self.nodelist.render(context)\n",
    "            else:\n",
    "                result = self.nodelist.render(context)\n",
    "                slot_list = slots.setdefault(self.name, [])\n",
    "                slot_list.append(result)\n",
    "                return \"\""
   ]
  },
  {
   "cell_type": "markdown",
   "metadata": {},
   "source": []
  },
  {
   "cell_type": "code",
   "execution_count": null,
   "metadata": {},
   "outputs": [],
   "source": [
    "@register.tag(name=\"element\")\n",
    "def do_element(parser, token):\n",
    "    nodelist = parser.parse((\"endelement\",))\n",
    "    tag_name, args, kwargs = parse_tag(token, parser)\n",
    "    usage = f'{{% {tag_name} \"element\" argument=value %}} ... {{% end{tag_name} %}}'\n",
    "    if len(args) > 1:\n",
    "        raise template.TemplateSyntaxError(\"Usage: %s\" % usage)\n",
    "\n",
    "    parser.delete_first_token()\n",
    "    return ElementNode(nodelist, args[0], kwargs)"
   ]
  },
  {
   "cell_type": "markdown",
   "metadata": {},
   "source": []
  },
  {
   "cell_type": "code",
   "execution_count": null,
   "metadata": {},
   "outputs": [],
   "source": [
    "class ElementNode(template.Node):\n",
    "    def __init__(self, nodelist, element, kwargs):\n",
    "        self.element = element\n",
    "        self.kwargs = kwargs\n",
    "        self.nodelist = nodelist\n",
    "\n",
    "    def render(self, context):\n",
    "        from allauth.account.app_settings import TEMPLATE_EXTENSION\n",
    "\n",
    "        slots = {}\n",
    "        extends_context = context.render_context.get(ExtendsNode.context_key)\n",
    "        layout = None\n",
    "        if extends_context:\n",
    "            # Extract layout from the {% extends %} tags\n",
    "            for ec in extends_context:\n",
    "                prefix = \"allauth/layouts/\"\n",
    "                if ec.template_name.startswith(prefix):\n",
    "                    layout = ec.template_name[len(prefix) :].replace(\".html\", \"\")\n",
    "                    break\n",
    "        if not layout:\n",
    "            # In case we're in a {% element %} element, the extends context is\n",
    "            # not there.\n",
    "            layout = context.render_context.get(LAYOUT_CONTEXT_KEY)\n",
    "        if not layout:\n",
    "            # Or, similarly, for {% include %} we also lose the extends context.\n",
    "            layout = context.get(\"page_layout\")\n",
    "        template_names = []\n",
    "        if layout:\n",
    "            template_names.append(f\"allauth/elements/{self.element}__{layout}.html\")\n",
    "        template_names.append(f\"allauth/elements/{self.element}.html\")\n",
    "        with context.render_context.push(\n",
    "            **{SLOTS_CONTEXT_KEY: slots, LAYOUT_CONTEXT_KEY: layout}\n",
    "        ):\n",
    "            slots[\"default\"] = [self.nodelist.render(context)]\n",
    "            attrs = {}\n",
    "            for k, v in self.kwargs.items():\n",
    "                attrs[k] = v.resolve(context)\n",
    "            tags = attrs.get(\"tags\")\n",
    "            if tags:\n",
    "                attrs[\"tags\"] = tags.split(\",\")\n",
    "            return render_to_string(\n",
    "                template_names,\n",
    "                {\n",
    "                    \"attrs\": attrs,\n",
    "                    \"slots\": slots,\n",
    "                    \"origin\": self.origin.template_name.replace(\n",
    "                        f\".{TEMPLATE_EXTENSION}\", \"\"\n",
    "                    ),\n",
    "                },\n",
    "            )"
   ]
  },
  {
   "cell_type": "markdown",
   "metadata": {},
   "source": []
  },
  {
   "cell_type": "code",
   "execution_count": null,
   "metadata": {},
   "outputs": [],
   "source": [
    "@register.tag(name=\"setvar\")\n",
    "def do_setvar(parser, token):\n",
    "    nodelist = parser.parse((\"endsetvar\",))\n",
    "    bits = token.split_contents()\n",
    "    if len(bits) != 2:\n",
    "        tag_name = bits[0]\n",
    "        usage = f'{{% {tag_name} \"setvar\" var %}} ... {{% end{tag_name} %}}'\n",
    "        raise template.TemplateSyntaxError(\"Usage: %s\" % usage)\n",
    "    parser.delete_first_token()\n",
    "    return SetVarNode(nodelist, bits[1])"
   ]
  },
  {
   "cell_type": "markdown",
   "metadata": {},
   "source": []
  },
  {
   "cell_type": "code",
   "execution_count": null,
   "metadata": {},
   "outputs": [],
   "source": [
    "class SetVarNode(template.Node):\n",
    "    def __init__(self, nodelist, var):\n",
    "        self.nodelist = nodelist\n",
    "        self.var = var\n",
    "\n",
    "    def render(self, context):\n",
    "        context[self.var] = mark_safe(self.nodelist.render(context).strip())\n",
    "        return \"\""
   ]
  },
  {
   "cell_type": "markdown",
   "metadata": {},
   "source": []
  }
 ],
 "metadata": {
  "language_info": {
   "name": "python"
  }
 },
 "nbformat": 4,
 "nbformat_minor": 2
}