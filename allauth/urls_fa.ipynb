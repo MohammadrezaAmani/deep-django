{
 "cells": [
  {
   "cell_type": "code",
   "execution_count": null,
   "metadata": {},
   "outputs": [],
   "source": [
    "from importlib import import_module\n",
    "\n",
    "from allauth.socialaccount import providers\n",
    "from django.urls import include, path\n",
    "from django.views.generic.base import RedirectView\n",
    "\n",
    "from . import app_settings"
   ]
  },
  {
   "cell_type": "markdown",
   "metadata": {},
   "source": []
  },
  {
   "cell_type": "code",
   "execution_count": null,
   "metadata": {},
   "outputs": [],
   "source": [
    "def build_provider_urlpatterns():\n",
    "    # Provider urlpatterns, as separate attribute (for reusability).\n",
    "    provider_urlpatterns = []\n",
    "    provider_classes = providers.registry.get_class_list()\n",
    "\n",
    "    # We need to move the OpenID Connect provider to the end. The reason is that\n",
    "    # matches URLs that the builtin providers also match.\n",
    "    #\n",
    "    # NOTE: Only needed if OPENID_CONNECT_URL_PREFIX is blank.\n",
    "    provider_classes = [\n",
    "        cls for cls in provider_classes if cls.id != \"openid_connect\"\n",
    "    ] + [cls for cls in provider_classes if cls.id == \"openid_connect\"]\n",
    "    for provider_class in provider_classes:\n",
    "        prov_mod = import_module(provider_class.get_package() + \".urls\")\n",
    "        prov_urlpatterns = getattr(prov_mod, \"urlpatterns\", None)\n",
    "        if prov_urlpatterns:\n",
    "            provider_urlpatterns += prov_urlpatterns\n",
    "    return provider_urlpatterns"
   ]
  },
  {
   "cell_type": "markdown",
   "metadata": {},
   "source": []
  },
  {
   "cell_type": "code",
   "execution_count": null,
   "metadata": {},
   "outputs": [],
   "source": [
    "urlpatterns = []\n",
    "if not app_settings.HEADLESS_ONLY:\n",
    "    urlpatterns += [path(\"\", include(\"allauth.account.urls\"))]\n",
    "    if app_settings.MFA_ENABLED:\n",
    "        urlpatterns += [path(\"2fa/\", include(\"allauth.mfa.urls\"))]\n",
    "\n",
    "if app_settings.SOCIALACCOUNT_ENABLED and not app_settings.HEADLESS_ONLY:\n",
    "    urlpatterns += [path(\"3rdparty/\", include(\"allauth.socialaccount.urls\"))]\n",
    "\n",
    "    # DEPRECATED! -- deal with legacy URLs\n",
    "    urlpatterns += [\n",
    "        path(\n",
    "            \"social/login/cancelled/\",\n",
    "            RedirectView.as_view(\n",
    "                pattern_name=\"socialaccount_login_cancelled\", permanent=True\n",
    "            ),\n",
    "        ),\n",
    "        path(\n",
    "            \"social/login/error/\",\n",
    "            RedirectView.as_view(\n",
    "                pattern_name=\"socialaccount_login_error\", permanent=True\n",
    "            ),\n",
    "        ),\n",
    "        path(\n",
    "            \"social/signup/\",\n",
    "            RedirectView.as_view(pattern_name=\"socialaccount_signup\", permanent=True),\n",
    "        ),\n",
    "        path(\n",
    "            \"social/connections/\",\n",
    "            RedirectView.as_view(\n",
    "                pattern_name=\"socialaccount_connections\", permanent=True\n",
    "            ),\n",
    "        ),\n",
    "    ]\n",
    "    # (end DEPRECATED)\n",
    "\n",
    "if app_settings.SOCIALACCOUNT_ENABLED:\n",
    "    urlpatterns += build_provider_urlpatterns()\n",
    "\n",
    "if app_settings.USERSESSIONS_ENABLED and not app_settings.HEADLESS_ONLY:\n",
    "    urlpatterns += [path(\"sessions/\", include(\"allauth.usersessions.urls\"))]"
   ]
  },
  {
   "cell_type": "markdown",
   "metadata": {},
   "source": []
  }
 ],
 "metadata": {
  "language_info": {
   "name": "python"
  }
 },
 "nbformat": 4,
 "nbformat_minor": 2
}