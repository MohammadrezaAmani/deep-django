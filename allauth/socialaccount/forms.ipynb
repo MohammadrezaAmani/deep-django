{
 "cells": [
  {
   "cell_type": "code",
   "execution_count": null,
   "metadata": {},
   "outputs": [],
   "source": [
    "from django import forms\n",
    "\n",
    "from allauth.account.forms import BaseSignupForm\n",
    "from allauth.socialaccount.internal import flows\n",
    "\n",
    "from . import app_settings\n",
    "from .adapter import get_adapter\n",
    "from .models import SocialAccount"
   ]
  },
  {
   "cell_type": "markdown",
   "metadata": {},
   "source": []
  },
  {
   "cell_type": "code",
   "execution_count": null,
   "metadata": {},
   "outputs": [],
   "source": [
    "class SignupForm(BaseSignupForm):\n",
    "    def __init__(self, *args, **kwargs):\n",
    "        self.sociallogin = kwargs.pop(\"sociallogin\")\n",
    "        initial = get_adapter().get_signup_form_initial_data(self.sociallogin)\n",
    "        kwargs.update(\n",
    "            {\n",
    "                \"initial\": initial,\n",
    "                \"email_required\": kwargs.get(\n",
    "                    \"email_required\", app_settings.EMAIL_REQUIRED\n",
    "                ),\n",
    "            }\n",
    "        )\n",
    "        super(SignupForm, self).__init__(*args, **kwargs)\n",
    "\n",
    "    def save(self, request):\n",
    "        adapter = get_adapter()\n",
    "        user = adapter.save_user(request, self.sociallogin, form=self)\n",
    "        self.custom_signup(request, user)\n",
    "        return user\n",
    "\n",
    "    def validate_unique_email(self, value):\n",
    "        try:\n",
    "            return super(SignupForm, self).validate_unique_email(value)\n",
    "        except forms.ValidationError:\n",
    "            raise get_adapter().validation_error(\n",
    "                \"email_taken\", self.sociallogin.account.get_provider().name\n",
    "            )"
   ]
  },
  {
   "cell_type": "markdown",
   "metadata": {},
   "source": []
  },
  {
   "cell_type": "code",
   "execution_count": null,
   "metadata": {},
   "outputs": [],
   "source": [
    "class DisconnectForm(forms.Form):\n",
    "    account = forms.ModelChoiceField(\n",
    "        queryset=SocialAccount.objects.none(),\n",
    "        widget=forms.RadioSelect,\n",
    "        required=True,\n",
    "    )\n",
    "\n",
    "    def __init__(self, *args, **kwargs):\n",
    "        self.request = kwargs.pop(\"request\")\n",
    "        self.accounts = SocialAccount.objects.filter(user=self.request.user)\n",
    "        super(DisconnectForm, self).__init__(*args, **kwargs)\n",
    "        self.fields[\"account\"].queryset = self.accounts\n",
    "\n",
    "    def clean(self):\n",
    "        cleaned_data = super(DisconnectForm, self).clean()\n",
    "        account = cleaned_data.get(\"account\")\n",
    "        if account:\n",
    "            flows.connect.validate_disconnect(self.request, account)\n",
    "        return cleaned_data\n",
    "\n",
    "    def save(self):\n",
    "        account = self.cleaned_data[\"account\"]\n",
    "        flows.connect.disconnect(self.request, account)"
   ]
  },
  {
   "cell_type": "markdown",
   "metadata": {},
   "source": []
  }
 ],
 "metadata": {
  "language_info": {
   "name": "python"
  }
 },
 "nbformat": 4,
 "nbformat_minor": 2
}