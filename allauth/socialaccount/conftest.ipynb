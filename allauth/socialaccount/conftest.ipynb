{
    "cells": [
        {
            "cell_type": "code",
            "execution_count": null,
            "metadata": {},
            "outputs": [],
            "source": [
                "import pytest\n",
                "\n",
                "from allauth.account.models import EmailAddress\n",
                "from allauth.socialaccount.models import SocialAccount, SocialLogin\n"
            ]
        },
        {
            "cell_type": "markdown",
            "metadata": {},
            "source": []
        },
        {
            "cell_type": "code",
            "execution_count": null,
            "metadata": {},
            "outputs": [],
            "source": [
                "@pytest.fixture\n",
                "def sociallogin_factory(user_factory):\n",
                "    def factory(\n",
                "        email=None,\n",
                "        username=None,\n",
                "        with_email=True,\n",
                "        provider=\"unittest-server\",\n",
                "        uid=\"123\",\n",
                "        email_verified=True,\n",
                "    ):\n",
                "        user = user_factory(\n",
                "            username=username, email=email, commit=False, with_email=with_email\n",
                "        )\n",
                "        account = SocialAccount(provider=provider, uid=uid)\n",
                "        sociallogin = SocialLogin(user=user, account=account)\n",
                "        if with_email:\n",
                "            sociallogin.email_addresses = [\n",
                "                EmailAddress(email=user.email, verified=email_verified, primary=True)\n",
                "            ]\n",
                "        return sociallogin\n",
                "\n",
                "    return factory\n",
                "\n"
            ]
        },
        {
            "cell_type": "markdown",
            "metadata": {},
            "source": []
        }
    ],
    "metadata": {
        "language_info": {
            "name": "python"
        }
    },
    "nbformat": 4,
    "nbformat_minor": 2
}