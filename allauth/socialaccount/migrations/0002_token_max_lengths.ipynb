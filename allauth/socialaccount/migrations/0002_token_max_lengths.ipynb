{
 "cells": [
  {
   "cell_type": "code",
   "execution_count": null,
   "metadata": {},
   "outputs": [],
   "source": [
    "# -*- coding: utf-8 -*-\n",
    "from __future__ import unicode_literals\n",
    "\n",
    "from django.conf import settings\n",
    "from django.db import migrations, models"
   ]
  },
  {
   "cell_type": "markdown",
   "metadata": {},
   "source": []
  },
  {
   "cell_type": "code",
   "execution_count": null,
   "metadata": {},
   "outputs": [],
   "source": [
    "class Migration(migrations.Migration):\n",
    "    dependencies = [\n",
    "        (\"socialaccount\", \"0001_initial\"),\n",
    "    ]\n",
    "\n",
    "    operations = [\n",
    "        migrations.AlterField(\n",
    "            model_name=\"socialaccount\",\n",
    "            name=\"uid\",\n",
    "            field=models.CharField(\n",
    "                max_length=getattr(settings, \"SOCIALACCOUNT_UID_MAX_LENGTH\", 191),\n",
    "                verbose_name=\"uid\",\n",
    "            ),\n",
    "        ),\n",
    "        migrations.AlterField(\n",
    "            model_name=\"socialapp\",\n",
    "            name=\"client_id\",\n",
    "            field=models.CharField(\n",
    "                help_text=\"App ID, or consumer key\",\n",
    "                max_length=191,\n",
    "                verbose_name=\"client id\",\n",
    "            ),\n",
    "        ),\n",
    "        migrations.AlterField(\n",
    "            model_name=\"socialapp\",\n",
    "            name=\"key\",\n",
    "            field=models.CharField(\n",
    "                help_text=\"Key\", max_length=191, verbose_name=\"key\", blank=True\n",
    "            ),\n",
    "        ),\n",
    "        migrations.AlterField(\n",
    "            model_name=\"socialapp\",\n",
    "            name=\"secret\",\n",
    "            field=models.CharField(\n",
    "                help_text=\"API secret, client secret, or consumer secret\",\n",
    "                max_length=191,\n",
    "                verbose_name=\"secret key\",\n",
    "                blank=True,\n",
    "            ),\n",
    "        ),\n",
    "    ]"
   ]
  },
  {
   "cell_type": "markdown",
   "metadata": {},
   "source": []
  }
 ],
 "metadata": {
  "language_info": {
   "name": "python"
  }
 },
 "nbformat": 4,
 "nbformat_minor": 2
}