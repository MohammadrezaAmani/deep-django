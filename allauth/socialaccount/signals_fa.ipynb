{
 "cells": [
  {
   "cell_type": "code",
   "execution_count": null,
   "metadata": {},
   "outputs": [],
   "source": [
    "from django.dispatch import Signal\n",
    "\n",
    "# Sent after a user successfully authenticates via a social provider,\n",
    "# but before the login is actually processed. This signal is emitted\n",
    "# for social logins, signups and when connecting additional social\n",
    "# accounts to an account.\n",
    "# Provides the arguments \"request\", \"sociallogin\"\n",
    "pre_social_login = Signal()\n",
    "\n",
    "# Sent after a user connects a social account to a their local account.\n",
    "# Provides the arguments \"request\", \"sociallogin\"\n",
    "social_account_added = Signal()\n",
    "\n",
    "# Sent after a user connects an already existing social account to a\n",
    "# their local account. The social account will have an updated token and\n",
    "# refreshed extra_data.\n",
    "# Provides the arguments \"request\", \"sociallogin\"\n",
    "social_account_updated = Signal()\n",
    "\n",
    "# Sent after a user disconnects a social account from their local\n",
    "# account.\n",
    "# Provides the arguments \"request\", \"socialaccount\"\n",
    "social_account_removed = Signal()"
   ]
  },
  {
   "cell_type": "markdown",
   "metadata": {},
   "source": []
  }
 ],
 "metadata": {
  "language_info": {
   "name": "python"
  }
 },
 "nbformat": 4,
 "nbformat_minor": 2
}