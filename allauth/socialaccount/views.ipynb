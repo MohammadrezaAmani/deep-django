{
    "cells": [
        {
            "cell_type": "code",
            "execution_count": null,
            "metadata": {},
            "outputs": [],
            "source": [
                "from django.contrib.auth.decorators import login_required\n",
                "from django.contrib.sites.shortcuts import get_current_site\n",
                "from django.http import HttpResponseRedirect\n",
                "from django.urls import reverse, reverse_lazy\n",
                "from django.utils.decorators import method_decorator\n",
                "from django.views.generic.base import TemplateView\n",
                "from django.views.generic.edit import FormView\n",
                "\n",
                "from allauth.socialaccount.forms import DisconnectForm, SignupForm\n",
                "from allauth.socialaccount.internal import flows\n",
                "from allauth.socialaccount.models import SocialAccount\n",
                "\n",
                "from ..account import app_settings as account_settings\n",
                "from ..account.views import (\n",
                "    AjaxCapableProcessFormViewMixin,\n",
                "    CloseableSignupMixin,\n",
                "    RedirectAuthenticatedUserMixin,\n",
                ")\n",
                "from ..utils import get_form_class\n",
                "from . import app_settings\n",
                "from .adapter import get_adapter\n"
            ]
        },
        {
            "cell_type": "markdown",
            "metadata": {},
            "source": []
        },
        {
            "cell_type": "code",
            "execution_count": null,
            "metadata": {},
            "outputs": [],
            "source": [
                "class SignupView(\n",
                "    RedirectAuthenticatedUserMixin,\n",
                "    CloseableSignupMixin,\n",
                "    AjaxCapableProcessFormViewMixin,\n",
                "    FormView,\n",
                "):\n",
                "    form_class = SignupForm\n",
                "    template_name = \"socialaccount/signup.\" + account_settings.TEMPLATE_EXTENSION\n",
                "\n",
                "    def get_form_class(self):\n",
                "        return get_form_class(app_settings.FORMS, \"signup\", self.form_class)\n",
                "\n",
                "    def dispatch(self, request, *args, **kwargs):\n",
                "        self.sociallogin = flows.signup.get_pending_signup(request)\n",
                "        if not self.sociallogin:\n",
                "            return HttpResponseRedirect(reverse(\"account_login\"))\n",
                "        return super(SignupView, self).dispatch(request, *args, **kwargs)\n",
                "\n",
                "    def is_open(self):\n",
                "        return get_adapter(self.request).is_open_for_signup(\n",
                "            self.request, self.sociallogin\n",
                "        )\n",
                "\n",
                "    def get_form_kwargs(self):\n",
                "        ret = super(SignupView, self).get_form_kwargs()\n",
                "        ret[\"sociallogin\"] = self.sociallogin\n",
                "        return ret\n",
                "\n",
                "    def form_valid(self, form):\n",
                "        return flows.signup.signup_by_form(self.request, self.sociallogin, form)\n",
                "\n",
                "    def get_context_data(self, **kwargs):\n",
                "        ret = super(SignupView, self).get_context_data(**kwargs)\n",
                "        ret.update(\n",
                "            dict(\n",
                "                site=get_current_site(self.request),\n",
                "                account=self.sociallogin.account,\n",
                "            )\n",
                "        )\n",
                "        return ret\n",
                "\n",
                "    def get_authenticated_redirect_url(self):\n",
                "        return reverse(\"socialaccount_connections\")\n"
            ]
        },
        {
            "cell_type": "markdown",
            "metadata": {},
            "source": []
        },
        {
            "cell_type": "code",
            "execution_count": null,
            "metadata": {},
            "outputs": [],
            "source": [
                "signup = SignupView.as_view()\n"
            ]
        },
        {
            "cell_type": "markdown",
            "metadata": {},
            "source": []
        },
        {
            "cell_type": "code",
            "execution_count": null,
            "metadata": {},
            "outputs": [],
            "source": [
                "class LoginCancelledView(TemplateView):\n",
                "    template_name = (\n",
                "        \"socialaccount/login_cancelled.\" + account_settings.TEMPLATE_EXTENSION\n",
                "    )\n"
            ]
        },
        {
            "cell_type": "markdown",
            "metadata": {},
            "source": []
        },
        {
            "cell_type": "code",
            "execution_count": null,
            "metadata": {},
            "outputs": [],
            "source": [
                "login_cancelled = LoginCancelledView.as_view()\n"
            ]
        },
        {
            "cell_type": "markdown",
            "metadata": {},
            "source": []
        },
        {
            "cell_type": "code",
            "execution_count": null,
            "metadata": {},
            "outputs": [],
            "source": [
                "class LoginErrorView(TemplateView):\n",
                "    template_name = (\n",
                "        \"socialaccount/authentication_error.\" + account_settings.TEMPLATE_EXTENSION\n",
                "    )\n"
            ]
        },
        {
            "cell_type": "markdown",
            "metadata": {},
            "source": []
        },
        {
            "cell_type": "code",
            "execution_count": null,
            "metadata": {},
            "outputs": [],
            "source": [
                "login_error = LoginErrorView.as_view()\n"
            ]
        },
        {
            "cell_type": "markdown",
            "metadata": {},
            "source": []
        },
        {
            "cell_type": "code",
            "execution_count": null,
            "metadata": {},
            "outputs": [],
            "source": [
                "@method_decorator(login_required, name=\"dispatch\")\n",
                "class ConnectionsView(AjaxCapableProcessFormViewMixin, FormView):\n",
                "    template_name = \"socialaccount/connections.\" + account_settings.TEMPLATE_EXTENSION\n",
                "    form_class = DisconnectForm\n",
                "    success_url = reverse_lazy(\"socialaccount_connections\")\n",
                "\n",
                "    def get_form_class(self):\n",
                "        return get_form_class(app_settings.FORMS, \"disconnect\", self.form_class)\n",
                "\n",
                "    def get_form_kwargs(self):\n",
                "        kwargs = super(ConnectionsView, self).get_form_kwargs()\n",
                "        kwargs[\"request\"] = self.request\n",
                "        return kwargs\n",
                "\n",
                "    def form_valid(self, form):\n",
                "        form.save()\n",
                "        return super(ConnectionsView, self).form_valid(form)\n",
                "\n",
                "    def get_ajax_data(self):\n",
                "        account_data = []\n",
                "        for account in SocialAccount.objects.filter(user=self.request.user):\n",
                "            provider_account = account.get_provider_account()\n",
                "            account_data.append(\n",
                "                {\n",
                "                    \"id\": account.pk,\n",
                "                    \"provider\": account.provider,\n",
                "                    \"name\": provider_account.to_str(),\n",
                "                }\n",
                "            )\n",
                "        return {\"socialaccounts\": account_data}\n"
            ]
        },
        {
            "cell_type": "markdown",
            "metadata": {},
            "source": []
        },
        {
            "cell_type": "code",
            "execution_count": null,
            "metadata": {},
            "outputs": [],
            "source": [
                "connections = ConnectionsView.as_view()\n",
                "\n"
            ]
        },
        {
            "cell_type": "markdown",
            "metadata": {},
            "source": []
        }
    ],
    "metadata": {
        "language_info": {
            "name": "python"
        }
    },
    "nbformat": 4,
    "nbformat_minor": 2
}