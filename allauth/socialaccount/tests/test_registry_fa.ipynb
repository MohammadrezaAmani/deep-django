{
 "cells": [
  {
   "cell_type": "code",
   "execution_count": null,
   "metadata": {},
   "outputs": [],
   "source": [
    "from allauth.socialaccount import providers\n",
    "from allauth.tests import TestCase\n",
    "from django.apps import AppConfig, apps\n",
    "from django.test.utils import override_settings"
   ]
  },
  {
   "cell_type": "markdown",
   "metadata": {},
   "source": []
  },
  {
   "cell_type": "code",
   "execution_count": null,
   "metadata": {},
   "outputs": [],
   "source": [
    "class CustomFacebookAppConfig(AppConfig):\n",
    "    name = \"allauth.socialaccount.providers.facebook\"\n",
    "    label = \"allauth_facebook\""
   ]
  },
  {
   "cell_type": "markdown",
   "metadata": {},
   "source": []
  },
  {
   "cell_type": "code",
   "execution_count": null,
   "metadata": {},
   "outputs": [],
   "source": [
    "class ProviderRegistryTests(TestCase):\n",
    "    @override_settings(\n",
    "        INSTALLED_APPS=[\n",
    "            \"allauth.socialaccount.providers.facebook\",\n",
    "        ]\n",
    "    )\n",
    "    def test_load_provider_with_default_app_config(self):\n",
    "        registry = providers.ProviderRegistry()\n",
    "        provider_list = registry.get_class_list()\n",
    "\n",
    "        self.assertTrue(registry.loaded)\n",
    "        self.assertEqual(1, len(provider_list))\n",
    "        self.assertTrue(\n",
    "            issubclass(\n",
    "                provider_list[0],\n",
    "                providers.facebook.provider.FacebookProvider,\n",
    "            )\n",
    "        )\n",
    "\n",
    "        app_config_list = list(apps.get_app_configs())\n",
    "        self.assertEqual(1, len(app_config_list))\n",
    "        app_config = app_config_list[0]\n",
    "        self.assertEqual(\"allauth.socialaccount.providers.facebook\", app_config.name)\n",
    "        self.assertEqual(\"facebook\", app_config.label)\n",
    "\n",
    "    @override_settings(\n",
    "        INSTALLED_APPS=[\n",
    "            \"allauth.socialaccount.tests.test_registry.CustomFacebookAppConfig\",\n",
    "        ]\n",
    "    )\n",
    "    def test_load_provider_with_custom_app_config(self):\n",
    "        registry = providers.ProviderRegistry()\n",
    "        provider_list = registry.get_class_list()\n",
    "\n",
    "        self.assertTrue(registry.loaded)\n",
    "        self.assertEqual(1, len(provider_list))\n",
    "        self.assertTrue(\n",
    "            issubclass(\n",
    "                provider_list[0],\n",
    "                providers.facebook.provider.FacebookProvider,\n",
    "            )\n",
    "        )\n",
    "\n",
    "        app_config_list = list(apps.get_app_configs())\n",
    "        self.assertEqual(1, len(app_config_list))\n",
    "        app_config = app_config_list[0]\n",
    "        self.assertEqual(\"allauth.socialaccount.providers.facebook\", app_config.name)\n",
    "        self.assertEqual(\"allauth_facebook\", app_config.label)"
   ]
  },
  {
   "cell_type": "markdown",
   "metadata": {},
   "source": []
  }
 ],
 "metadata": {
  "language_info": {
   "name": "python"
  }
 },
 "nbformat": 4,
 "nbformat_minor": 2
}