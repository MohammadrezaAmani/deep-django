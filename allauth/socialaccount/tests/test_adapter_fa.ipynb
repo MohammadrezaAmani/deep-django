{
 "cells": [
  {
   "cell_type": "code",
   "execution_count": null,
   "metadata": {},
   "outputs": [],
   "source": [
    "from urllib.parse import parse_qs, urlparse\n",
    "\n",
    "from allauth.socialaccount.adapter import DefaultSocialAccountAdapter, get_adapter\n",
    "from allauth.socialaccount.internal import statekit\n",
    "from allauth.socialaccount.models import SocialApp\n",
    "from django.contrib.sites.models import Site\n",
    "from django.urls import reverse"
   ]
  },
  {
   "cell_type": "markdown",
   "metadata": {},
   "source": []
  },
  {
   "cell_type": "code",
   "execution_count": null,
   "metadata": {},
   "outputs": [],
   "source": [
    "class TestSocialAccountAdapter(DefaultSocialAccountAdapter):\n",
    "    def generate_state_param(self, state: dict) -> str:\n",
    "        return f\"prefix-{super().generate_state_param(state)}\""
   ]
  },
  {
   "cell_type": "markdown",
   "metadata": {},
   "source": []
  },
  {
   "cell_type": "code",
   "execution_count": null,
   "metadata": {},
   "outputs": [],
   "source": [
    "def test_generate_state_param(settings, client, db, google_provider_settings):\n",
    "    settings.SOCIALACCOUNT_ADAPTER = (\n",
    "        \"allauth.socialaccount.tests.test_adapter.TestSocialAccountAdapter\"\n",
    "    )\n",
    "    resp = client.post(reverse(\"google_login\"))\n",
    "    parsed = urlparse(resp[\"location\"])\n",
    "    query = parse_qs(parsed.query)\n",
    "    state = query[\"state\"][0]\n",
    "    assert len(state) == len(\"prefix-\") + statekit.STATE_ID_LENGTH\n",
    "    assert state.startswith(\"prefix-\")"
   ]
  },
  {
   "cell_type": "markdown",
   "metadata": {},
   "source": []
  },
  {
   "cell_type": "code",
   "execution_count": null,
   "metadata": {},
   "outputs": [],
   "source": [
    "def test_list_db_based_apps(db, settings):\n",
    "    app = SocialApp.objects.create(\n",
    "        provider=\"saml\", provider_id=\"urn:idp-identity-id\", client_id=\"org-slug\"\n",
    "    )\n",
    "    app.sites.add(Site.objects.get_current())\n",
    "    apps = get_adapter().list_apps(None, provider=\"saml\", client_id=\"org-slug\")\n",
    "    assert app.pk in [a.pk for a in apps]"
   ]
  },
  {
   "cell_type": "markdown",
   "metadata": {},
   "source": []
  },
  {
   "cell_type": "code",
   "execution_count": null,
   "metadata": {},
   "outputs": [],
   "source": [
    "def test_list_settings_based_apps(db, settings):\n",
    "    settings.SOCIALACCOUNT_PROVIDERS = {\n",
    "        \"saml\": {\n",
    "            \"APPS\": [\n",
    "                {\n",
    "                    \"provider_id\": \"urn:idp-entity-id\",\n",
    "                    \"client_id\": \"org-slug\",\n",
    "                }\n",
    "            ]\n",
    "        }\n",
    "    }\n",
    "    apps = get_adapter().list_apps(None, provider=\"saml\", client_id=\"org-slug\")\n",
    "    assert len(apps) == 1\n",
    "    app = apps[0]\n",
    "    assert not app.pk\n",
    "    assert app.client_id == \"org-slug\""
   ]
  },
  {
   "cell_type": "markdown",
   "metadata": {},
   "source": []
  }
 ],
 "metadata": {
  "language_info": {
   "name": "python"
  }
 },
 "nbformat": 4,
 "nbformat_minor": 2
}