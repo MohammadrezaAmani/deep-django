{
 "cells": [
  {
   "cell_type": "code",
   "execution_count": null,
   "metadata": {},
   "outputs": [],
   "source": [
    "from allauth.socialaccount.models import SocialAccount\n",
    "from allauth.tests import TestCase\n",
    "from django.contrib.auth import get_user_model\n",
    "from django.test.utils import override_settings"
   ]
  },
  {
   "cell_type": "markdown",
   "metadata": {},
   "source": []
  },
  {
   "cell_type": "code",
   "execution_count": null,
   "metadata": {},
   "outputs": [],
   "source": [
    "class UtilTests(TestCase):\n",
    "    def test_social_account_str_default(self):\n",
    "        User = get_user_model()\n",
    "        user = User(username=\"test\")\n",
    "        sa = SocialAccount(user=user)\n",
    "        self.assertEqual(\"test\", str(sa))\n",
    "\n",
    "    def socialaccount_str_custom_formatter(socialaccount):\n",
    "        return \"A custom str builder for {}\".format(socialaccount.user)\n",
    "\n",
    "    @override_settings(\n",
    "        SOCIALACCOUNT_SOCIALACCOUNT_STR=socialaccount_str_custom_formatter\n",
    "    )\n",
    "    def test_social_account_str_customized(self):\n",
    "        User = get_user_model()\n",
    "        user = User(username=\"test\")\n",
    "        sa = SocialAccount(user=user)\n",
    "        self.assertEqual(\"A custom str builder for test\", str(sa))"
   ]
  },
  {
   "cell_type": "markdown",
   "metadata": {},
   "source": []
  }
 ],
 "metadata": {
  "language_info": {
   "name": "python"
  }
 },
 "nbformat": 4,
 "nbformat_minor": 2
}