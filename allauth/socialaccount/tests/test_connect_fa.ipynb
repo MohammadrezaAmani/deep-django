{
    "cells": [
        {
            "cell_type": "code",
            "execution_count": null,
            "metadata": {},
            "outputs": [],
            "source": [
                "import pytest\n",
                "from pytest_django.asserts import assertTemplateUsed\n",
                "\n",
                "from allauth.socialaccount.models import SocialAccount\n",
                "from django.urls import reverse\n"
            ]
        },
        {
            "cell_type": "markdown",
            "metadata": {},
            "source": []
        },
        {
            "cell_type": "code",
            "execution_count": null,
            "metadata": {},
            "outputs": [],
            "source": [
                "@pytest.mark.parametrize(\"reauthentication_required\", [False, True])\n",
                "def test_disconnect(auth_client, user, settings, mailoutbox, reauthentication_required):\n",
                "    settings.ACCOUNT_EMAIL_NOTIFICATIONS = True\n",
                "    settings.ACCOUNT_REAUTHENTICATION_REQUIRED = reauthentication_required\n",
                "    account_to_del = SocialAccount.objects.create(\n",
                "        uid=\"123\", provider=\"other-server\", user=user\n",
                "    )\n",
                "    account_to_keep = SocialAccount.objects.create(\n",
                "        uid=\"456\", provider=\"other-server\", user=user\n",
                "    )\n",
                "    resp = auth_client.get(reverse(\"socialaccount_connections\"))\n",
                "    assertTemplateUsed(resp, \"socialaccount/connections.html\")\n",
                "    resp = auth_client.post(\n",
                "        reverse(\"socialaccount_connections\"), {\"account\": account_to_del.pk}\n",
                "    )\n",
                "    if reauthentication_required:\n",
                "        assert SocialAccount.objects.filter(pk=account_to_del.pk).exists()\n",
                "        assert SocialAccount.objects.filter(pk=account_to_keep.pk).exists()\n",
                "    else:\n",
                "        assert not SocialAccount.objects.filter(pk=account_to_del.pk).exists()\n",
                "        assert SocialAccount.objects.filter(pk=account_to_keep.pk).exists()\n",
                "        assert len(mailoutbox) == 1\n",
                "        assert mailoutbox[0].subject == \"[example.com] Third-Party Account Disconnected\"\n"
            ]
        },
        {
            "cell_type": "markdown",
            "metadata": {},
            "source": []
        },
        {
            "cell_type": "code",
            "execution_count": null,
            "metadata": {},
            "outputs": [],
            "source": [
                "def test_connect_with_reauthentication(\n",
                "    auth_client, user, provider_callback_response, settings, user_password\n",
                "):\n",
                "    settings.ACCOUNT_REAUTHENTICATION_REQUIRED = True\n",
                "    resp = provider_callback_response(auth_client, process=\"connect\")\n",
                "    assert not SocialAccount.objects.filter(user=user).exists()\n",
                "    assert resp.status_code == 302\n",
                "    assert resp[\"location\"] == reverse(\"account_reauthenticate\")\n",
                "    resp = auth_client.post(resp[\"location\"], {\"password\": user_password})\n",
                "    assert resp.status_code == 302\n",
                "    assert resp[\"location\"] == reverse(\"socialaccount_connections\")\n",
                "    assert SocialAccount.objects.filter(user=user).exists()\n"
            ]
        },
        {
            "cell_type": "markdown",
            "metadata": {},
            "source": []
        },
        {
            "cell_type": "code",
            "execution_count": null,
            "metadata": {},
            "outputs": [],
            "source": [
                "def test_connect(\n",
                "    auth_client, user, provider_callback_response, settings, user_password, mailoutbox\n",
                "):\n",
                "    settings.ACCOUNT_EMAIL_NOTIFICATIONS = True\n",
                "    settings.ACCOUNT_REAUTHENTICATION_REQUIRED = False\n",
                "    resp = provider_callback_response(auth_client, process=\"connect\")\n",
                "    assert resp.status_code == 302\n",
                "    assert SocialAccount.objects.filter(user=user).exists()\n",
                "    assert resp[\"location\"] == reverse(\"socialaccount_connections\")\n",
                "    assert len(mailoutbox) == 1\n",
                "    assert mailoutbox[0].subject == \"[example.com] Third-Party Account Connected\"\n",
                "\n"
            ]
        },
        {
            "cell_type": "markdown",
            "metadata": {},
            "source": []
        }
    ],
    "metadata": {
        "language_info": {
            "name": "python"
        }
    },
    "nbformat": 4,
    "nbformat_minor": 2
}