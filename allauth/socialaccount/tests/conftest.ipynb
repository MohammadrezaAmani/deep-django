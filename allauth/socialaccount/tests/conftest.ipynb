{
    "cells": [
        {
            "cell_type": "code",
            "execution_count": null,
            "metadata": {},
            "outputs": [],
            "source": [
                "import time\n",
                "\n",
                "from django.urls import reverse\n",
                "\n",
                "import pytest\n",
                "\n",
                "from allauth.socialaccount.internal import statekit\n",
                "from allauth.socialaccount.providers.base.constants import AuthProcess\n",
                "from allauth.tests import MockedResponse, mocked_response\n"
            ]
        },
        {
            "cell_type": "markdown",
            "metadata": {},
            "source": []
        },
        {
            "cell_type": "code",
            "execution_count": null,
            "metadata": {},
            "outputs": [],
            "source": [
                "@pytest.fixture\n",
                "def provider_callback_response():\n",
                "    def f(client, process=AuthProcess.LOGIN):\n",
                "        with mocked_response(\n",
                "            {\n",
                "                \"token_endpoint\": \"/\",\n",
                "                \"userinfo_endpoint\": \"/\",\n",
                "            },\n",
                "            MockedResponse(200, \"access_token=456\", {\"content-type\": \"dummy\"}),\n",
                "            {\n",
                "                \"sub\": \"sub123\",\n",
                "            },\n",
                "        ):\n",
                "            session = client.session\n",
                "            session[statekit.STATES_SESSION_KEY] = {\n",
                "                \"state456\": [{\"process\": process}, time.time()]\n",
                "            }\n",
                "            session.save()\n",
                "\n",
                "            resp = client.post(\n",
                "                reverse(\n",
                "                    \"openid_connect_callback\",\n",
                "                    kwargs={\"provider_id\": \"unittest-server\"},\n",
                "                )\n",
                "                + \"?code=123&state=state456\"\n",
                "            )\n",
                "            return resp\n",
                "\n",
                "    return f\n",
                "\n"
            ]
        },
        {
            "cell_type": "markdown",
            "metadata": {},
            "source": []
        }
    ],
    "metadata": {
        "language_info": {
            "name": "python"
        }
    },
    "nbformat": 4,
    "nbformat_minor": 2
}