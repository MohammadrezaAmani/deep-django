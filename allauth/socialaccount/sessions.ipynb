{
    "cells": [
        {
            "cell_type": "code",
            "execution_count": null,
            "metadata": {},
            "outputs": [],
            "source": [
                "from importlib import import_module\n",
                "from urllib.parse import urlparse\n",
                "\n",
                "from django.conf import settings\n",
                "from django.utils.cache import patch_vary_headers\n"
            ]
        },
        {
            "cell_type": "markdown",
            "metadata": {},
            "source": []
        },
        {
            "cell_type": "code",
            "execution_count": null,
            "metadata": {},
            "outputs": [],
            "source": [
                "engine = import_module(settings.SESSION_ENGINE)\n",
                "SessionStore = engine.SessionStore\n"
            ]
        },
        {
            "cell_type": "markdown",
            "metadata": {},
            "source": []
        },
        {
            "cell_type": "code",
            "execution_count": null,
            "metadata": {},
            "outputs": [],
            "source": [
                "class LoginSession:\n",
                "    \"\"\"Some providers sometimes POST their responses, which due to\n",
                "    CORS/Samesite-cookie rules means that this request cannot access the session\n",
                "    as its session cookie is unavailable.\n",
                "\n",
                "    We work around this by storing the response in a separate, temporary session\n",
                "    and redirecting to a different endpoint that can pick up the flow.\n",
                "    \"\"\"\n",
                "\n",
                "    def __init__(self, request, attribute_name, cookie_name):\n",
                "        \"\"\"\n",
                "        Prepares an provider specific session.\n",
                "        \"\"\"\n",
                "        self.request = request\n",
                "        self.attribute_name = attribute_name\n",
                "        self.cookie_name = cookie_name\n",
                "        self.store = getattr(request, attribute_name, None)\n",
                "        if self.store is None:\n",
                "            session_key = request.COOKIES.get(cookie_name)\n",
                "            self.store = SessionStore(session_key)\n",
                "            setattr(request, attribute_name, self.store)\n",
                "\n",
                "    def save(self, response):\n",
                "        \"\"\"\n",
                "        Save the session and set a cookie.\n",
                "        \"\"\"\n",
                "        patch_vary_headers(response, (\"Cookie\",))\n",
                "        self.store.save()\n",
                "        kwargs = {}\n",
                "        samesite = getattr(settings, \"SESSION_COOKIE_SAMESITE\", None)\n",
                "        if samesite:\n",
                "            kwargs[\"samesite\"] = samesite\n",
                "        response.set_cookie(\n",
                "            self.cookie_name,\n",
                "            self.store.session_key,\n",
                "            max_age=None,\n",
                "            expires=None,\n",
                "            domain=settings.SESSION_COOKIE_DOMAIN,\n",
                "            # The cookie is only needed on this endpoint\n",
                "            path=urlparse(response.url).path,\n",
                "            secure=settings.SESSION_COOKIE_SECURE,\n",
                "            httponly=None,\n",
                "            **kwargs\n",
                "        )\n",
                "\n",
                "    def delete(self):\n",
                "        self.store.delete()\n",
                "\n"
            ]
        },
        {
            "cell_type": "markdown",
            "metadata": {},
            "source": []
        }
    ],
    "metadata": {
        "language_info": {
            "name": "python"
        }
    },
    "nbformat": 4,
    "nbformat_minor": 2
}