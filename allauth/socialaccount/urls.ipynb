{
    "cells": [
        {
            "cell_type": "code",
            "execution_count": null,
            "metadata": {},
            "outputs": [],
            "source": [
                "from django.urls import path\n",
                "\n",
                "from . import views\n"
            ]
        },
        {
            "cell_type": "markdown",
            "metadata": {},
            "source": []
        },
        {
            "cell_type": "code",
            "execution_count": null,
            "metadata": {},
            "outputs": [],
            "source": [
                "urlpatterns = [\n",
                "    path(\n",
                "        \"login/cancelled/\",\n",
                "        views.login_cancelled,\n",
                "        name=\"socialaccount_login_cancelled\",\n",
                "    ),\n",
                "    path(\"login/error/\", views.login_error, name=\"socialaccount_login_error\"),\n",
                "    path(\"signup/\", views.signup, name=\"socialaccount_signup\"),\n",
                "    path(\"\", views.connections, name=\"socialaccount_connections\"),\n",
                "]\n",
                "\n"
            ]
        },
        {
            "cell_type": "markdown",
            "metadata": {},
            "source": []
        }
    ],
    "metadata": {
        "language_info": {
            "name": "python"
        }
    },
    "nbformat": 4,
    "nbformat_minor": 2
}