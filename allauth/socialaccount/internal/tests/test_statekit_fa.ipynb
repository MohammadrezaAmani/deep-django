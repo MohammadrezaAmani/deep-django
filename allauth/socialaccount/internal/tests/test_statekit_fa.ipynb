{
 "cells": [
  {
   "cell_type": "code",
   "execution_count": null,
   "metadata": {},
   "outputs": [],
   "source": [
    "from allauth.socialaccount.internal import statekit"
   ]
  },
  {
   "cell_type": "markdown",
   "metadata": {},
   "source": []
  },
  {
   "cell_type": "code",
   "execution_count": null,
   "metadata": {},
   "outputs": [],
   "source": [
    "def test_get_oldest_state():\n",
    "    states = {\n",
    "        \"new\": [{\"id\": \"new\"}, 300],\n",
    "        \"mid\": [{\"id\": \"mid\"}, 200],\n",
    "        \"old\": [{\"id\": \"old\"}, 100],\n",
    "    }\n",
    "    state_id, state = statekit.get_oldest_state(states)\n",
    "    assert state_id == \"old\"\n",
    "    assert state[\"id\"] == \"old\""
   ]
  },
  {
   "cell_type": "markdown",
   "metadata": {},
   "source": []
  },
  {
   "cell_type": "code",
   "execution_count": null,
   "metadata": {},
   "outputs": [],
   "source": [
    "def test_get_oldest_state_empty():\n",
    "    state_id, state = statekit.get_oldest_state({})\n",
    "    assert state_id is None\n",
    "    assert state is None"
   ]
  },
  {
   "cell_type": "markdown",
   "metadata": {},
   "source": []
  },
  {
   "cell_type": "code",
   "execution_count": null,
   "metadata": {},
   "outputs": [],
   "source": [
    "def test_gc_states():\n",
    "    states = {}\n",
    "    for i in range(statekit.MAX_STATES + 1):\n",
    "        states[f\"state-{i}\"] = [{\"i\": i}, 1000 + i]\n",
    "    assert len(states) == statekit.MAX_STATES + 1\n",
    "    statekit.gc_states(states)\n",
    "    assert len(states) == statekit.MAX_STATES\n",
    "    assert \"state-0\" not in states"
   ]
  },
  {
   "cell_type": "markdown",
   "metadata": {},
   "source": []
  },
  {
   "cell_type": "code",
   "execution_count": null,
   "metadata": {},
   "outputs": [],
   "source": [
    "def test_stashing(rf):\n",
    "    request = rf.get(\"/\")\n",
    "    request.session = {}\n",
    "    state_id = statekit.stash_state(request, {\"foo\": \"bar\"})\n",
    "    state2_id = statekit.stash_state(request, {\"foo2\": \"bar2\"})\n",
    "    state3_id = statekit.stash_state(request, {\"foo3\": \"bar3\"})\n",
    "    state = statekit.unstash_last_state(request)\n",
    "    assert state == {\"foo3\": \"bar3\"}\n",
    "    state = statekit.unstash_state(request, state3_id)\n",
    "    assert state is None\n",
    "    state = statekit.unstash_state(request, state2_id)\n",
    "    assert state == {\"foo2\": \"bar2\"}\n",
    "    state = statekit.unstash_state(request, state2_id)\n",
    "    assert state is None\n",
    "    state = statekit.unstash_state(request, state_id)\n",
    "    assert state == {\"foo\": \"bar\"}\n",
    "    state = statekit.unstash_state(request, state_id)\n",
    "    assert state is None"
   ]
  },
  {
   "cell_type": "markdown",
   "metadata": {},
   "source": []
  }
 ],
 "metadata": {
  "language_info": {
   "name": "python"
  }
 },
 "nbformat": 4,
 "nbformat_minor": 2
}