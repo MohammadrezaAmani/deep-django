{
    "cells": [
        {
            "cell_type": "code",
            "execution_count": null,
            "metadata": {},
            "outputs": [],
            "source": [
                "from allauth import app_settings as allauth_settings\n",
                "from allauth.account import app_settings as account_settings\n",
                "from allauth.account.adapter import get_adapter as get_account_adapter\n",
                "from allauth.account.models import EmailAddress\n",
                "from allauth.account.reauthentication import (\n",
                "    raise_if_reauthentication_required,\n",
                "    reauthenticate_then_callback,\n",
                ")\n",
                "from allauth.socialaccount import signals\n",
                "from allauth.socialaccount.adapter import get_adapter\n",
                "from allauth.socialaccount.models import SocialAccount, SocialLogin\n",
                "from django.contrib import messages\n",
                "from django.http import HttpResponseRedirect\n"
            ]
        },
        {
            "cell_type": "markdown",
            "metadata": {},
            "source": []
        },
        {
            "cell_type": "code",
            "execution_count": null,
            "metadata": {},
            "outputs": [],
            "source": [
                "def validate_disconnect(request, account):\n",
                "    \"\"\"\n",
                "    Validate whether or not the socialaccount account can be\n",
                "    safely disconnected.\n",
                "    \"\"\"\n",
                "    accounts = SocialAccount.objects.filter(user_id=account.user_id)\n",
                "    is_last = not accounts.exclude(pk=account.pk).exists()\n",
                "    adapter = get_adapter()\n",
                "    if is_last:\n",
                "        if allauth_settings.SOCIALACCOUNT_ONLY:\n",
                "            raise adapter.validation_error(\"disconnect_last\")\n",
                "        # No usable password would render the local account unusable\n",
                "        if not account.user.has_usable_password():\n",
                "            raise adapter.validation_error(\"no_password\")\n",
                "        # No email address, no password reset\n",
                "        if (\n",
                "            account_settings.EMAIL_VERIFICATION\n",
                "            == account_settings.EmailVerificationMethod.MANDATORY\n",
                "        ):\n",
                "            if not EmailAddress.objects.filter(\n",
                "                user=account.user, verified=True\n",
                "            ).exists():\n",
                "                raise adapter.validation_error(\"no_verified_email\")\n",
                "    adapter.validate_disconnect(account, accounts)\n"
            ]
        },
        {
            "cell_type": "markdown",
            "metadata": {},
            "source": []
        },
        {
            "cell_type": "code",
            "execution_count": null,
            "metadata": {},
            "outputs": [],
            "source": [
                "def disconnect(request, account):\n",
                "    if account_settings.REAUTHENTICATION_REQUIRED:\n",
                "        raise_if_reauthentication_required(request)\n",
                "\n",
                "    get_account_adapter().add_message(\n",
                "        request,\n",
                "        messages.INFO,\n",
                "        \"socialaccount/messages/account_disconnected.txt\",\n",
                "    )\n",
                "    provider = account.get_provider()\n",
                "    account.delete()\n",
                "    signals.social_account_removed.send(\n",
                "        sender=SocialAccount, request=request, socialaccount=account\n",
                "    )\n",
                "    get_adapter().send_notification_mail(\n",
                "        \"socialaccount/email/account_disconnected\",\n",
                "        request.user,\n",
                "        context={\n",
                "            \"account\": account,\n",
                "            \"provider\": provider,\n",
                "        },\n",
                "    )\n"
            ]
        },
        {
            "cell_type": "markdown",
            "metadata": {},
            "source": []
        },
        {
            "cell_type": "code",
            "execution_count": null,
            "metadata": {},
            "outputs": [],
            "source": [
                "def resume_connect(request, serialized_state):\n",
                "    sociallogin = SocialLogin.deserialize(serialized_state)\n",
                "    return connect(request, sociallogin)\n"
            ]
        },
        {
            "cell_type": "markdown",
            "metadata": {},
            "source": []
        },
        {
            "cell_type": "code",
            "execution_count": null,
            "metadata": {},
            "outputs": [],
            "source": [
                "def connect(request, sociallogin):\n",
                "    if request.user.is_anonymous:\n",
                "        # This should not happen. Simply redirect to the connections\n",
                "        # view (which has a login required)\n",
                "        connect_redirect_url = get_adapter().get_connect_redirect_url(\n",
                "            request, sociallogin.account\n",
                "        )\n",
                "        return HttpResponseRedirect(connect_redirect_url)\n",
                "    if account_settings.REAUTHENTICATION_REQUIRED:\n",
                "        response = reauthenticate_then_callback(\n",
                "            request,\n",
                "            lambda request: sociallogin.serialize(),\n",
                "            \"allauth.socialaccount.internal.flows.connect.resume_connect\",\n",
                "        )\n",
                "        if response:\n",
                "            return response\n",
                "    level = messages.INFO\n",
                "    message = \"socialaccount/messages/account_connected.txt\"\n",
                "    action = None\n",
                "    if sociallogin.is_existing:\n",
                "        if sociallogin.user != request.user:\n",
                "            # Social account of other user. For now, this scenario\n",
                "            # is not supported. Issue is that one cannot simply\n",
                "            # remove the social account from the other user, as\n",
                "            # that may render the account unusable.\n",
                "            level = messages.ERROR\n",
                "            message = \"socialaccount/messages/account_connected_other.txt\"\n",
                "        else:\n",
                "            # This account is already connected -- we give the opportunity\n",
                "            # for customized behaviour through use of a signal.\n",
                "            action = \"updated\"\n",
                "            message = \"socialaccount/messages/account_connected_updated.txt\"\n",
                "    else:\n",
                "        # New account, let's connect\n",
                "        action = \"added\"\n",
                "        sociallogin.connect(request, request.user)\n",
                "    assert request.user.is_authenticated\n",
                "    default_next = get_adapter().get_connect_redirect_url(request, sociallogin.account)\n",
                "    next_url = sociallogin.get_redirect_url(request) or default_next\n",
                "    get_account_adapter(request).add_message(\n",
                "        request,\n",
                "        level,\n",
                "        message,\n",
                "        message_context={\"sociallogin\": sociallogin, \"action\": action},\n",
                "    )\n",
                "    return HttpResponseRedirect(next_url)\n",
                "\n"
            ]
        },
        {
            "cell_type": "markdown",
            "metadata": {},
            "source": []
        }
    ],
    "metadata": {
        "language_info": {
            "name": "python"
        }
    },
    "nbformat": 4,
    "nbformat_minor": 2
}