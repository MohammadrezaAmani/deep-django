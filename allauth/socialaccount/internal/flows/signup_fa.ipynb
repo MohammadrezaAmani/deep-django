{
 "cells": [
  {
   "cell_type": "code",
   "execution_count": null,
   "metadata": {},
   "outputs": [],
   "source": [
    "from allauth import app_settings as allauth_settings\n",
    "from allauth.account import app_settings as account_settings\n",
    "from allauth.account.adapter import get_adapter as get_account_adapter\n",
    "from allauth.account.utils import assess_unique_email, complete_signup, user_username\n",
    "from allauth.socialaccount import app_settings\n",
    "from allauth.socialaccount.adapter import get_adapter\n",
    "from allauth.socialaccount.models import SocialLogin\n",
    "from django.forms import ValidationError\n",
    "from django.http import HttpResponseRedirect, HttpResponseServerError\n",
    "from django.shortcuts import render\n",
    "from django.urls import reverse"
   ]
  },
  {
   "cell_type": "markdown",
   "metadata": {},
   "source": []
  },
  {
   "cell_type": "code",
   "execution_count": null,
   "metadata": {},
   "outputs": [],
   "source": [
    "def get_pending_signup(request):\n",
    "    data = request.session.get(\"socialaccount_sociallogin\")\n",
    "    if data:\n",
    "        return SocialLogin.deserialize(data)"
   ]
  },
  {
   "cell_type": "markdown",
   "metadata": {},
   "source": []
  },
  {
   "cell_type": "code",
   "execution_count": null,
   "metadata": {},
   "outputs": [],
   "source": [
    "def redirect_to_signup(request, sociallogin):\n",
    "    request.session[\"socialaccount_sociallogin\"] = sociallogin.serialize()\n",
    "    if allauth_settings.HEADLESS_ENABLED and allauth_settings.HEADLESS_ONLY:\n",
    "        # Not used/visible\n",
    "        return HttpResponseServerError()\n",
    "    url = reverse(\"socialaccount_signup\")\n",
    "    return HttpResponseRedirect(url)"
   ]
  },
  {
   "cell_type": "markdown",
   "metadata": {},
   "source": []
  },
  {
   "cell_type": "code",
   "execution_count": null,
   "metadata": {},
   "outputs": [],
   "source": [
    "def clear_pending_signup(request):\n",
    "    request.session.pop(\"socialaccount_sociallogin\", None)"
   ]
  },
  {
   "cell_type": "markdown",
   "metadata": {},
   "source": []
  },
  {
   "cell_type": "code",
   "execution_count": null,
   "metadata": {},
   "outputs": [],
   "source": [
    "def signup_by_form(request, sociallogin, form):\n",
    "    clear_pending_signup(request)\n",
    "    user, resp = form.try_save(request)\n",
    "    if not resp:\n",
    "        resp = complete_social_signup(request, sociallogin)\n",
    "    return resp"
   ]
  },
  {
   "cell_type": "markdown",
   "metadata": {},
   "source": []
  },
  {
   "cell_type": "code",
   "execution_count": null,
   "metadata": {},
   "outputs": [],
   "source": [
    "def process_auto_signup(request, sociallogin):\n",
    "    auto_signup = get_adapter().is_auto_signup_allowed(request, sociallogin)\n",
    "    if not auto_signup:\n",
    "        return False, None\n",
    "    email = None\n",
    "    if sociallogin.email_addresses:\n",
    "        email = sociallogin.email_addresses[0].email\n",
    "    # Let's check if auto_signup is really possible...\n",
    "    if email:\n",
    "        assessment = assess_unique_email(email)\n",
    "        if assessment is True:\n",
    "            # Auto signup is fine.\n",
    "            pass\n",
    "        elif assessment is False:\n",
    "            # Oops, another user already has this address.  We cannot simply\n",
    "            # connect this social account to the existing user. Reason is\n",
    "            # that the email address may not be verified, meaning, the user\n",
    "            # may be a hacker that has added your email address to their\n",
    "            # account in the hope that you fall in their trap.  We cannot\n",
    "            # check on 'email_address.verified' either, because\n",
    "            # 'email_address' is not guaranteed to be verified.\n",
    "            auto_signup = False\n",
    "            # TODO: We redirect to signup form -- user will see email\n",
    "            # address conflict only after posting whereas we detected it\n",
    "            # here already.\n",
    "        else:\n",
    "            assert assessment is None\n",
    "            # Prevent enumeration is properly turned on, meaning, we cannot\n",
    "            # show the signup form to allow the user to input another email\n",
    "            # address. Instead, we're going to send the user an email that\n",
    "            # the account already exists, and on the outside make it appear\n",
    "            # as if an email verification mail was sent.\n",
    "            account_adapter = get_account_adapter(request)\n",
    "            account_adapter.send_account_already_exists_mail(email)\n",
    "            resp = account_adapter.respond_email_verification_sent(request, None)\n",
    "            return False, resp\n",
    "    elif app_settings.EMAIL_REQUIRED:\n",
    "        # Nope, email is required and we don't have it yet...\n",
    "        auto_signup = False\n",
    "    return auto_signup, None"
   ]
  },
  {
   "cell_type": "markdown",
   "metadata": {},
   "source": []
  },
  {
   "cell_type": "code",
   "execution_count": null,
   "metadata": {},
   "outputs": [],
   "source": [
    "def process_signup(request, sociallogin):\n",
    "    if not get_adapter().is_open_for_signup(request, sociallogin):\n",
    "        return render(\n",
    "            request,\n",
    "            \"account/signup_closed.\" + account_settings.TEMPLATE_EXTENSION,\n",
    "        )\n",
    "    auto_signup, resp = process_auto_signup(request, sociallogin)\n",
    "    if resp:\n",
    "        return resp\n",
    "    if not auto_signup:\n",
    "        resp = redirect_to_signup(request, sociallogin)\n",
    "    else:\n",
    "        # Ok, auto signup it is, at least the email address is ok.\n",
    "        # We still need to check the username though...\n",
    "        if account_settings.USER_MODEL_USERNAME_FIELD:\n",
    "            username = user_username(sociallogin.user)\n",
    "            try:\n",
    "                get_account_adapter(request).clean_username(username)\n",
    "            except ValidationError:\n",
    "                # This username is no good ...\n",
    "                user_username(sociallogin.user, \"\")\n",
    "        # TODO: This part contains a lot of duplication of logic\n",
    "        # (\"closed\" rendering, create user, send email, in active\n",
    "        # etc..)\n",
    "        get_adapter().save_user(request, sociallogin, form=None)\n",
    "        resp = complete_social_signup(request, sociallogin)\n",
    "    return resp"
   ]
  },
  {
   "cell_type": "markdown",
   "metadata": {},
   "source": []
  },
  {
   "cell_type": "code",
   "execution_count": null,
   "metadata": {},
   "outputs": [],
   "source": [
    "def complete_social_signup(request, sociallogin):\n",
    "    return complete_signup(\n",
    "        request,\n",
    "        sociallogin.user,\n",
    "        app_settings.EMAIL_VERIFICATION,\n",
    "        sociallogin.get_redirect_url(request),\n",
    "        signal_kwargs={\"sociallogin\": sociallogin},\n",
    "    )"
   ]
  },
  {
   "cell_type": "markdown",
   "metadata": {},
   "source": []
  }
 ],
 "metadata": {
  "language_info": {
   "name": "python"
  }
 },
 "nbformat": 4,
 "nbformat_minor": 2
}