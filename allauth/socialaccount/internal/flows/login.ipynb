{
    "cells": [
        {
            "cell_type": "code",
            "execution_count": null,
            "metadata": {},
            "outputs": [],
            "source": [
                "from django.http import HttpResponseRedirect\n",
                "\n",
                "from allauth.account import authentication\n",
                "from allauth.account.adapter import get_adapter as get_account_adapter\n",
                "from allauth.account.utils import perform_login\n",
                "from allauth.core.exceptions import ImmediateHttpResponse\n",
                "from allauth.socialaccount import app_settings, signals\n",
                "from allauth.socialaccount.adapter import get_adapter\n",
                "from allauth.socialaccount.internal.flows.connect import connect\n",
                "from allauth.socialaccount.internal.flows.signup import (\n",
                "    clear_pending_signup,\n",
                "    process_signup,\n",
                ")\n",
                "from allauth.socialaccount.models import SocialLogin\n",
                "from allauth.socialaccount.providers.base import AuthProcess\n"
            ]
        },
        {
            "cell_type": "markdown",
            "metadata": {},
            "source": []
        },
        {
            "cell_type": "code",
            "execution_count": null,
            "metadata": {},
            "outputs": [],
            "source": [
                "def _login(request, sociallogin):\n",
                "    sociallogin._accept_login()\n",
                "    record_authentication(request, sociallogin)\n",
                "    return perform_login(\n",
                "        request,\n",
                "        sociallogin.user,\n",
                "        email_verification=app_settings.EMAIL_VERIFICATION,\n",
                "        redirect_url=sociallogin.get_redirect_url(request),\n",
                "        signal_kwargs={\"sociallogin\": sociallogin},\n",
                "    )\n"
            ]
        },
        {
            "cell_type": "markdown",
            "metadata": {},
            "source": []
        },
        {
            "cell_type": "code",
            "execution_count": null,
            "metadata": {},
            "outputs": [],
            "source": [
                "def complete_login(request, sociallogin):\n",
                "    clear_pending_signup(request)\n",
                "    assert not sociallogin.is_existing\n",
                "    sociallogin.lookup()\n",
                "    try:\n",
                "        get_adapter().pre_social_login(request, sociallogin)\n",
                "        signals.pre_social_login.send(\n",
                "            sender=SocialLogin, request=request, sociallogin=sociallogin\n",
                "        )\n",
                "        process = sociallogin.state.get(\"process\")\n",
                "        if process == AuthProcess.REDIRECT:\n",
                "            return _redirect(request, sociallogin)\n",
                "        elif process == AuthProcess.CONNECT:\n",
                "            return connect(request, sociallogin)\n",
                "        else:\n",
                "            return _authenticate(request, sociallogin)\n",
                "    except ImmediateHttpResponse as e:\n",
                "        return e.response\n"
            ]
        },
        {
            "cell_type": "markdown",
            "metadata": {},
            "source": []
        },
        {
            "cell_type": "code",
            "execution_count": null,
            "metadata": {},
            "outputs": [],
            "source": [
                "def _redirect(request, sociallogin):\n",
                "    next_url = sociallogin.get_redirect_url(request) or \"/\"\n",
                "    return HttpResponseRedirect(next_url)\n"
            ]
        },
        {
            "cell_type": "markdown",
            "metadata": {},
            "source": []
        },
        {
            "cell_type": "code",
            "execution_count": null,
            "metadata": {},
            "outputs": [],
            "source": [
                "def _authenticate(request, sociallogin):\n",
                "    if request.user.is_authenticated:\n",
                "        get_account_adapter(request).logout(request)\n",
                "    if sociallogin.is_existing:\n",
                "        # Login existing user\n",
                "        ret = _login(request, sociallogin)\n",
                "    else:\n",
                "        # New social user\n",
                "        ret = process_signup(request, sociallogin)\n",
                "    return ret\n"
            ]
        },
        {
            "cell_type": "markdown",
            "metadata": {},
            "source": []
        },
        {
            "cell_type": "code",
            "execution_count": null,
            "metadata": {},
            "outputs": [],
            "source": [
                "def record_authentication(request, sociallogin):\n",
                "    authentication.record_authentication(\n",
                "        request,\n",
                "        \"socialaccount\",\n",
                "        **{\n",
                "            \"provider\": sociallogin.account.provider,\n",
                "            \"uid\": sociallogin.account.uid,\n",
                "        }\n",
                "    )\n",
                "\n"
            ]
        },
        {
            "cell_type": "markdown",
            "metadata": {},
            "source": []
        }
    ],
    "metadata": {
        "language_info": {
            "name": "python"
        }
    },
    "nbformat": 4,
    "nbformat_minor": 2
}