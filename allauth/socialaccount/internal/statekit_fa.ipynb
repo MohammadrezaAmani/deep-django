{
    "cells": [
        {
            "cell_type": "code",
            "execution_count": null,
            "metadata": {},
            "outputs": [],
            "source": [
                "import time\n",
                "\n",
                "from allauth.socialaccount.adapter import get_adapter\n",
                "\n",
                "STATE_ID_LENGTH = 16\n",
                "MAX_STATES = 10\n",
                "STATES_SESSION_KEY = \"socialaccount_states\"\n"
            ]
        },
        {
            "cell_type": "markdown",
            "metadata": {},
            "source": []
        },
        {
            "cell_type": "code",
            "execution_count": null,
            "metadata": {},
            "outputs": [],
            "source": [
                "def get_oldest_state(states, rev=False):\n",
                "    oldest_ts = None\n",
                "    oldest_id = None\n",
                "    oldest = None\n",
                "    for state_id, state_ts in states.items():\n",
                "        ts = state_ts[1]\n",
                "        if oldest_ts is None or (\n",
                "            (rev and ts > oldest_ts) or ((not rev) and oldest_ts > ts)\n",
                "        ):\n",
                "            oldest_ts = ts\n",
                "            oldest_id = state_id\n",
                "            oldest = state_ts[0]\n",
                "    return oldest_id, oldest\n"
            ]
        },
        {
            "cell_type": "markdown",
            "metadata": {},
            "source": []
        },
        {
            "cell_type": "code",
            "execution_count": null,
            "metadata": {},
            "outputs": [],
            "source": [
                "def gc_states(states):\n",
                "    if len(states) > MAX_STATES:\n",
                "        oldest_id, oldest = get_oldest_state(states)\n",
                "        if oldest_id:\n",
                "            del states[oldest_id]\n"
            ]
        },
        {
            "cell_type": "markdown",
            "metadata": {},
            "source": []
        },
        {
            "cell_type": "code",
            "execution_count": null,
            "metadata": {},
            "outputs": [],
            "source": [
                "def get_states(request):\n",
                "    states = request.session.get(STATES_SESSION_KEY)\n",
                "    if not isinstance(states, dict):\n",
                "        states = {}\n",
                "    return states\n"
            ]
        },
        {
            "cell_type": "markdown",
            "metadata": {},
            "source": []
        },
        {
            "cell_type": "code",
            "execution_count": null,
            "metadata": {},
            "outputs": [],
            "source": [
                "def stash_state(request, state):\n",
                "    states = get_states(request)\n",
                "    gc_states(states)\n",
                "    state_id = get_adapter().generate_state_param(state)\n",
                "    states[state_id] = (state, time.time())\n",
                "    request.session[STATES_SESSION_KEY] = states\n",
                "    return state_id\n"
            ]
        },
        {
            "cell_type": "markdown",
            "metadata": {},
            "source": []
        },
        {
            "cell_type": "code",
            "execution_count": null,
            "metadata": {},
            "outputs": [],
            "source": [
                "def unstash_state(request, state_id):\n",
                "    state = None\n",
                "    states = get_states(request)\n",
                "    if state_id in states:\n",
                "        state_ts = states.get(state_id)\n",
                "        state = state_ts[0]\n",
                "        del states[state_id]\n",
                "        request.session[STATES_SESSION_KEY] = states\n",
                "    return state\n"
            ]
        },
        {
            "cell_type": "markdown",
            "metadata": {},
            "source": []
        },
        {
            "cell_type": "code",
            "execution_count": null,
            "metadata": {},
            "outputs": [],
            "source": [
                "def unstash_last_state(request):\n",
                "    states = get_states(request)\n",
                "    state_id, state = get_oldest_state(states, rev=True)\n",
                "    if state_id:\n",
                "        unstash_state(request, state_id)\n",
                "    return state\n",
                "\n"
            ]
        },
        {
            "cell_type": "markdown",
            "metadata": {},
            "source": []
        }
    ],
    "metadata": {
        "language_info": {
            "name": "python"
        }
    },
    "nbformat": 4,
    "nbformat_minor": 2
}