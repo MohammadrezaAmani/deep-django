{
 "cells": [
  {
   "cell_type": "code",
   "execution_count": null,
   "metadata": {},
   "outputs": [],
   "source": [
    "import json\n",
    "\n",
    "from cryptography.hazmat.backends import default_backend\n",
    "from cryptography.x509 import load_pem_x509_certificate\n",
    "\n",
    "import jwt\n",
    "from allauth.socialaccount.adapter import get_adapter\n",
    "from allauth.socialaccount.providers.oauth2.client import OAuth2Error"
   ]
  },
  {
   "cell_type": "markdown",
   "metadata": {},
   "source": []
  },
  {
   "cell_type": "code",
   "execution_count": null,
   "metadata": {},
   "outputs": [],
   "source": [
    "def lookup_kid_pem_x509_certificate(keys_data, kid):\n",
    "    \"\"\"\n",
    "    Looks up the key given keys data of the form:\n",
    "\n",
    "        {\"<kid>\": \"-----BEGIN CERTIFICATE-----\\nCERTIFICATE\"}\n",
    "    \"\"\"\n",
    "    key = keys_data.get(kid)\n",
    "    if key:\n",
    "        public_key = load_pem_x509_certificate(\n",
    "            key.encode(\"utf8\"), default_backend()\n",
    "        ).public_key()\n",
    "        return public_key"
   ]
  },
  {
   "cell_type": "markdown",
   "metadata": {},
   "source": []
  },
  {
   "cell_type": "code",
   "execution_count": null,
   "metadata": {},
   "outputs": [],
   "source": [
    "def lookup_kid_jwk(keys_data, kid):\n",
    "    \"\"\"\n",
    "    Looks up the key given keys data of the form:\n",
    "\n",
    "        {\n",
    "          \"keys\": [\n",
    "            {\n",
    "              \"kty\": \"RSA\",\n",
    "              \"kid\": \"W6WcOKB\",\n",
    "              \"use\": \"sig\",\n",
    "              \"alg\": \"RS256\",\n",
    "              \"n\": \"2Zc5d0-zk....\",\n",
    "              \"e\": \"AQAB\"\n",
    "            }]\n",
    "        }\n",
    "    \"\"\"\n",
    "    for d in keys_data[\"keys\"]:\n",
    "        if d[\"kid\"] == kid:\n",
    "            public_key = jwt.algorithms.RSAAlgorithm.from_jwk(json.dumps(d))\n",
    "            return public_key"
   ]
  },
  {
   "cell_type": "markdown",
   "metadata": {},
   "source": []
  },
  {
   "cell_type": "code",
   "execution_count": null,
   "metadata": {},
   "outputs": [],
   "source": [
    "def fetch_key(credential, keys_url, lookup):\n",
    "    header = jwt.get_unverified_header(credential)\n",
    "    # {'alg': 'RS256', 'kid': '0ad1fec78504f447bae65bcf5afaedb65eec9e81', 'typ': 'JWT'}\n",
    "    kid = header[\"kid\"]\n",
    "    alg = header[\"alg\"]\n",
    "    response = get_adapter().get_requests_session().get(keys_url)\n",
    "    response.raise_for_status()\n",
    "    keys_data = response.json()\n",
    "    key = lookup(keys_data, kid)\n",
    "    if not key:\n",
    "        raise OAuth2Error(f\"Invalid 'kid': '{kid}'\")\n",
    "    return alg, key"
   ]
  },
  {
   "cell_type": "markdown",
   "metadata": {},
   "source": []
  },
  {
   "cell_type": "code",
   "execution_count": null,
   "metadata": {},
   "outputs": [],
   "source": [
    "def verify_and_decode(\n",
    "    *, credential, keys_url, issuer, audience, lookup_kid, verify_signature=True\n",
    "):\n",
    "    try:\n",
    "        if verify_signature:\n",
    "            alg, key = fetch_key(credential, keys_url, lookup_kid)\n",
    "            algorithms = [alg]\n",
    "        else:\n",
    "            key = \"\"\n",
    "            algorithms = None\n",
    "        data = jwt.decode(\n",
    "            credential,\n",
    "            key=key,\n",
    "            options={\n",
    "                \"verify_signature\": verify_signature,\n",
    "                \"verify_iss\": True,\n",
    "                \"verify_aud\": True,\n",
    "                \"verify_exp\": True,\n",
    "            },\n",
    "            issuer=issuer,\n",
    "            audience=audience,\n",
    "            algorithms=algorithms,\n",
    "        )\n",
    "        return data\n",
    "    except jwt.PyJWTError as e:\n",
    "        raise OAuth2Error(\"Invalid id_token\") from e"
   ]
  },
  {
   "cell_type": "markdown",
   "metadata": {},
   "source": []
  }
 ],
 "metadata": {
  "language_info": {
   "name": "python"
  }
 },
 "nbformat": 4,
 "nbformat_minor": 2
}