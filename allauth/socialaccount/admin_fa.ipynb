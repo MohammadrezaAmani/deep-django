{
    "cells": [
        {
            "cell_type": "code",
            "execution_count": null,
            "metadata": {},
            "outputs": [],
            "source": [
                "from allauth import app_settings\n",
                "from allauth.account.adapter import get_adapter\n",
                "from allauth.socialaccount import providers\n",
                "from allauth.socialaccount.models import SocialAccount, SocialApp, SocialToken\n",
                "from django import forms\n",
                "from django.contrib import admin\n"
            ]
        },
        {
            "cell_type": "markdown",
            "metadata": {},
            "source": []
        },
        {
            "cell_type": "code",
            "execution_count": null,
            "metadata": {},
            "outputs": [],
            "source": [
                "class SocialAppForm(forms.ModelForm):\n",
                "    class Meta:\n",
                "        model = SocialApp\n",
                "        exclude = []\n",
                "        widgets = {\n",
                "            \"client_id\": forms.TextInput(attrs={\"size\": \"100\"}),\n",
                "            \"key\": forms.TextInput(attrs={\"size\": \"100\"}),\n",
                "            \"secret\": forms.TextInput(attrs={\"size\": \"100\"}),\n",
                "        }\n",
                "\n",
                "    def __init__(self, *args, **kwargs):\n",
                "        super().__init__(*args, **kwargs)\n",
                "        self.fields[\"provider\"] = forms.ChoiceField(\n",
                "            choices=providers.registry.as_choices()\n",
                "        )\n"
            ]
        },
        {
            "cell_type": "markdown",
            "metadata": {},
            "source": []
        },
        {
            "cell_type": "code",
            "execution_count": null,
            "metadata": {},
            "outputs": [],
            "source": [
                "class SocialAppAdmin(admin.ModelAdmin):\n",
                "    form = SocialAppForm\n",
                "    list_display = (\n",
                "        \"name\",\n",
                "        \"provider\",\n",
                "    )\n",
                "    filter_horizontal = (\"sites\",) if app_settings.SITES_ENABLED else ()\n"
            ]
        },
        {
            "cell_type": "markdown",
            "metadata": {},
            "source": []
        },
        {
            "cell_type": "code",
            "execution_count": null,
            "metadata": {},
            "outputs": [],
            "source": [
                "class SocialAccountAdmin(admin.ModelAdmin):\n",
                "    search_fields = []\n",
                "    raw_id_fields = (\"user\",)\n",
                "    list_display = (\"user\", \"uid\", \"provider\")\n",
                "    list_filter = (\"provider\",)\n",
                "\n",
                "    def get_search_fields(self, request):\n",
                "        base_fields = get_adapter().get_user_search_fields()\n",
                "        return list(map(lambda a: \"user__\" + a, base_fields))\n"
            ]
        },
        {
            "cell_type": "markdown",
            "metadata": {},
            "source": []
        },
        {
            "cell_type": "code",
            "execution_count": null,
            "metadata": {},
            "outputs": [],
            "source": [
                "class SocialTokenAdmin(admin.ModelAdmin):\n",
                "    raw_id_fields = (\n",
                "        \"app\",\n",
                "        \"account\",\n",
                "    )\n",
                "    list_display = (\"app\", \"account\", \"truncated_token\", \"expires_at\")\n",
                "    list_filter = (\"app\", \"app__provider\", \"expires_at\")\n",
                "\n",
                "    def truncated_token(self, token):\n",
                "        max_chars = 40\n",
                "        ret = token.token\n",
                "        if len(ret) > max_chars:\n",
                "            ret = ret[0:max_chars] + \"...(truncated)\"\n",
                "        return ret\n",
                "\n",
                "    truncated_token.short_description = \"Token\"\n"
            ]
        },
        {
            "cell_type": "markdown",
            "metadata": {},
            "source": []
        },
        {
            "cell_type": "code",
            "execution_count": null,
            "metadata": {},
            "outputs": [],
            "source": [
                "admin.site.register(SocialApp, SocialAppAdmin)\n",
                "admin.site.register(SocialToken, SocialTokenAdmin)\n",
                "admin.site.register(SocialAccount, SocialAccountAdmin)\n",
                "\n"
            ]
        },
        {
            "cell_type": "markdown",
            "metadata": {},
            "source": []
        }
    ],
    "metadata": {
        "language_info": {
            "name": "python"
        }
    },
    "nbformat": 4,
    "nbformat_minor": 2
}