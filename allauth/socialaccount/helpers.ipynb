{
 "cells": [
  {
   "cell_type": "code",
   "execution_count": null,
   "metadata": {},
   "outputs": [],
   "source": [
    "from django.http import HttpResponseRedirect\n",
    "from django.shortcuts import render\n",
    "from django.urls import reverse\n",
    "\n",
    "from allauth import app_settings as allauth_settings\n",
    "from allauth.account import app_settings as account_settings\n",
    "from allauth.account.utils import user_display\n",
    "from allauth.core.exceptions import ImmediateHttpResponse\n",
    "from allauth.socialaccount import app_settings\n",
    "from allauth.socialaccount.adapter import get_adapter\n",
    "from allauth.socialaccount.internal import flows\n",
    "from allauth.socialaccount.providers.base import AuthError"
   ]
  },
  {
   "cell_type": "markdown",
   "metadata": {},
   "source": []
  },
  {
   "cell_type": "code",
   "execution_count": null,
   "metadata": {},
   "outputs": [],
   "source": [
    "def render_authentication_error(\n",
    "    request,\n",
    "    provider,\n",
    "    error=AuthError.UNKNOWN,\n",
    "    exception=None,\n",
    "    extra_context=None,\n",
    "):\n",
    "    try:\n",
    "        if allauth_settings.HEADLESS_ENABLED:\n",
    "            from allauth.headless.socialaccount import internal\n",
    "\n",
    "            internal.on_authentication_error(\n",
    "                request,\n",
    "                provider=provider,\n",
    "                error=error,\n",
    "                exception=exception,\n",
    "                extra_context=extra_context,\n",
    "            )\n",
    "\n",
    "        if extra_context is None:\n",
    "            extra_context = {}\n",
    "        get_adapter().on_authentication_error(\n",
    "            request,\n",
    "            provider,\n",
    "            error=error,\n",
    "            exception=exception,\n",
    "            extra_context=extra_context,\n",
    "        )\n",
    "    except ImmediateHttpResponse as e:\n",
    "        return e.response\n",
    "    if error == AuthError.CANCELLED:\n",
    "        return HttpResponseRedirect(reverse(\"socialaccount_login_cancelled\"))\n",
    "    context = {\n",
    "        \"auth_error\": {\n",
    "            \"provider\": provider,\n",
    "            \"code\": error,\n",
    "            \"exception\": exception,\n",
    "        }\n",
    "    }\n",
    "    context.update(extra_context)\n",
    "    return render(\n",
    "        request,\n",
    "        \"socialaccount/authentication_error.\" + account_settings.TEMPLATE_EXTENSION,\n",
    "        context,\n",
    "    )"
   ]
  },
  {
   "cell_type": "markdown",
   "metadata": {},
   "source": []
  },
  {
   "cell_type": "code",
   "execution_count": null,
   "metadata": {},
   "outputs": [],
   "source": [
    "def complete_social_login(request, sociallogin):\n",
    "    if sociallogin.is_headless:\n",
    "        from allauth.headless.socialaccount import internal\n",
    "\n",
    "        return internal.complete_login(request, sociallogin)\n",
    "    return flows.login.complete_login(request, sociallogin)"
   ]
  },
  {
   "cell_type": "markdown",
   "metadata": {},
   "source": []
  },
  {
   "cell_type": "code",
   "execution_count": null,
   "metadata": {},
   "outputs": [],
   "source": [
    "def socialaccount_user_display(socialaccount):\n",
    "    func = app_settings.SOCIALACCOUNT_STR\n",
    "    if not func:\n",
    "        return user_display(socialaccount.user)\n",
    "    return func(socialaccount)"
   ]
  },
  {
   "cell_type": "markdown",
   "metadata": {},
   "source": []
  }
 ],
 "metadata": {
  "language_info": {
   "name": "python"
  }
 },
 "nbformat": 4,
 "nbformat_minor": 2
}