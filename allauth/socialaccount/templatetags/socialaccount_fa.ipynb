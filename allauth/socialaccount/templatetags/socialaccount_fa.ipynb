{
    "cells": [
        {
            "cell_type": "code",
            "execution_count": null,
            "metadata": {},
            "outputs": [],
            "source": [
                "from allauth.socialaccount.adapter import get_adapter\n",
                "from allauth.utils import get_request_param\n",
                "from django import template\n",
                "from django.contrib.auth import REDIRECT_FIELD_NAME\n",
                "from django.utils.safestring import mark_safe\n",
                "\n",
                "register = template.Library()\n"
            ]
        },
        {
            "cell_type": "markdown",
            "metadata": {},
            "source": []
        },
        {
            "cell_type": "code",
            "execution_count": null,
            "metadata": {},
            "outputs": [],
            "source": [
                "@register.simple_tag(takes_context=True)\n",
                "def provider_login_url(context, provider, **params):\n",
                "    \"\"\"\n",
                "    {% provider_login_url \"facebook\" next=bla %}\n",
                "    {% provider_login_url \"openid\" openid=\"http://me.yahoo.com\" next=bla %}\n",
                "    \"\"\"\n",
                "    request = context.get(\"request\")\n",
                "    if isinstance(provider, str):\n",
                "        adapter = get_adapter()\n",
                "        provider = adapter.get_provider(request, provider)\n",
                "    query = dict(params)\n",
                "    auth_params = query.get(\"auth_params\", None)\n",
                "    scope = query.get(\"scope\", None)\n",
                "    process = query.get(\"process\", None)\n",
                "    if scope == \"\":\n",
                "        del query[\"scope\"]\n",
                "    if auth_params == \"\":\n",
                "        del query[\"auth_params\"]\n",
                "    if REDIRECT_FIELD_NAME not in query:\n",
                "        next = get_request_param(request, REDIRECT_FIELD_NAME)\n",
                "        if next:\n",
                "            query[REDIRECT_FIELD_NAME] = next\n",
                "        elif process == \"redirect\":\n",
                "            query[REDIRECT_FIELD_NAME] = request.get_full_path()\n",
                "    else:\n",
                "        if not query[REDIRECT_FIELD_NAME]:\n",
                "            del query[REDIRECT_FIELD_NAME]\n",
                "    # get the login url and append query as url parameters\n",
                "    return provider.get_login_url(request, **query)\n"
            ]
        },
        {
            "cell_type": "markdown",
            "metadata": {},
            "source": []
        },
        {
            "cell_type": "code",
            "execution_count": null,
            "metadata": {},
            "outputs": [],
            "source": [
                "@register.simple_tag(takes_context=True)\n",
                "def providers_media_js(context):\n",
                "    request = context[\"request\"]\n",
                "    providers = get_adapter().list_providers(request)\n",
                "    ret = \"\\n\".join(p.media_js(request) for p in providers)\n",
                "    return mark_safe(ret)\n"
            ]
        },
        {
            "cell_type": "markdown",
            "metadata": {},
            "source": []
        },
        {
            "cell_type": "code",
            "execution_count": null,
            "metadata": {},
            "outputs": [],
            "source": [
                "@register.simple_tag\n",
                "def get_social_accounts(user):\n",
                "    \"\"\"\n",
                "    {% get_social_accounts user as accounts %}\n",
                "\n",
                "    Then:\n",
                "        {{accounts.twitter}} -- a list of connected Twitter accounts\n",
                "        {{accounts.twitter.0}} -- the first Twitter account\n",
                "        {% if accounts %} -- if there is at least one social account\n",
                "    \"\"\"\n",
                "    accounts = {}\n",
                "    for account in user.socialaccount_set.all().iterator():\n",
                "        providers = accounts.setdefault(account.provider, [])\n",
                "        providers.append(account)\n",
                "    return accounts\n"
            ]
        },
        {
            "cell_type": "markdown",
            "metadata": {},
            "source": []
        },
        {
            "cell_type": "code",
            "execution_count": null,
            "metadata": {},
            "outputs": [],
            "source": [
                "@register.simple_tag(takes_context=True)\n",
                "def get_providers(context):\n",
                "    \"\"\"\n",
                "    Returns a list of social authentication providers.\n",
                "\n",
                "    Usage: `{% get_providers as socialaccount_providers %}`.\n",
                "\n",
                "    Then within the template context, `socialaccount_providers` will hold\n",
                "    a list of social providers configured for the current site.\n",
                "    \"\"\"\n",
                "    request = context[\"request\"]\n",
                "    adapter = get_adapter()\n",
                "    providers = adapter.list_providers(request)\n",
                "    providers = [\n",
                "        provider\n",
                "        for provider in providers\n",
                "        if (not provider.uses_apps or not provider.app.settings.get(\"hidden\"))\n",
                "    ]\n",
                "    return sorted(providers, key=lambda p: p.name)\n",
                "\n"
            ]
        },
        {
            "cell_type": "markdown",
            "metadata": {},
            "source": []
        }
    ],
    "metadata": {
        "language_info": {
            "name": "python"
        }
    },
    "nbformat": 4,
    "nbformat_minor": 2
}