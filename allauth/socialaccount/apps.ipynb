{
    "cells": [
        {
            "cell_type": "code",
            "execution_count": null,
            "metadata": {},
            "outputs": [],
            "source": [
                "from django.apps import AppConfig\n",
                "from django.utils.translation import gettext_lazy as _\n",
                "\n",
                "from allauth import app_settings\n"
            ]
        },
        {
            "cell_type": "markdown",
            "metadata": {},
            "source": []
        },
        {
            "cell_type": "code",
            "execution_count": null,
            "metadata": {},
            "outputs": [],
            "source": [
                "class SocialAccountConfig(AppConfig):\n",
                "    name = \"allauth.socialaccount\"\n",
                "    verbose_name = _(\"Social Accounts\")\n",
                "    default_auto_field = app_settings.DEFAULT_AUTO_FIELD or \"django.db.models.AutoField\"\n",
                "\n",
                "    def ready(self):\n",
                "        from allauth.socialaccount.providers import registry\n",
                "\n",
                "        registry.load()\n",
                "\n"
            ]
        },
        {
            "cell_type": "markdown",
            "metadata": {},
            "source": []
        }
    ],
    "metadata": {
        "language_info": {
            "name": "python"
        }
    },
    "nbformat": 4,
    "nbformat_minor": 2
}