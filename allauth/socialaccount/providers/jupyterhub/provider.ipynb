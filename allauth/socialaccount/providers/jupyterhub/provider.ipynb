{
    "cells": [
        {
            "cell_type": "code",
            "execution_count": null,
            "metadata": {},
            "outputs": [],
            "source": [
                "from allauth.socialaccount.providers.base import ProviderAccount\n",
                "from allauth.socialaccount.providers.jupyterhub.views import (\n",
                "    JupyterHubOAuth2Adapter,\n",
                ")\n",
                "from allauth.socialaccount.providers.oauth2.provider import OAuth2Provider\n"
            ]
        },
        {
            "cell_type": "markdown",
            "metadata": {},
            "source": []
        },
        {
            "cell_type": "code",
            "execution_count": null,
            "metadata": {},
            "outputs": [],
            "source": [
                "class JupyterHubAccount(ProviderAccount):\n",
                "    def to_str(self):\n",
                "        dflt = super(JupyterHubAccount, self).to_str()\n",
                "        return self.account.extra_data.get(\"name\", dflt)\n"
            ]
        },
        {
            "cell_type": "markdown",
            "metadata": {},
            "source": []
        },
        {
            "cell_type": "code",
            "execution_count": null,
            "metadata": {},
            "outputs": [],
            "source": [
                "class JupyterHubProvider(OAuth2Provider):\n",
                "    id = \"jupyterhub\"\n",
                "    name = \"JupyterHub\"\n",
                "    account_class = JupyterHubAccount\n",
                "    oauth2_adapter_class = JupyterHubOAuth2Adapter\n",
                "\n",
                "    def extract_uid(self, data):\n",
                "        return str(data.get(\"name\"))\n",
                "\n",
                "    def extract_common_fields(self, data):\n",
                "        return dict(name=data.get(\"name\", \"\"))\n"
            ]
        },
        {
            "cell_type": "markdown",
            "metadata": {},
            "source": []
        },
        {
            "cell_type": "code",
            "execution_count": null,
            "metadata": {},
            "outputs": [],
            "source": [
                "provider_classes = [JupyterHubProvider]\n",
                "\n"
            ]
        },
        {
            "cell_type": "markdown",
            "metadata": {},
            "source": []
        }
    ],
    "metadata": {
        "language_info": {
            "name": "python"
        }
    },
    "nbformat": 4,
    "nbformat_minor": 2
}