{
 "cells": [
  {
   "cell_type": "code",
   "execution_count": null,
   "metadata": {},
   "outputs": [],
   "source": [
    "from allauth.socialaccount import app_settings\n",
    "from allauth.socialaccount.adapter import get_adapter\n",
    "from allauth.socialaccount.providers.oauth2.views import (\n",
    "    OAuth2Adapter,\n",
    "    OAuth2CallbackView,\n",
    "    OAuth2LoginView,\n",
    ")"
   ]
  },
  {
   "cell_type": "markdown",
   "metadata": {},
   "source": []
  },
  {
   "cell_type": "code",
   "execution_count": null,
   "metadata": {},
   "outputs": [],
   "source": [
    "class JupyterHubOAuth2Adapter(OAuth2Adapter):\n",
    "    provider_id = \"jupyterhub\"\n",
    "\n",
    "    settings = app_settings.PROVIDERS.get(provider_id, {})\n",
    "    provider_base_url = settings.get(\"API_URL\", \"\")\n",
    "\n",
    "    access_token_url = \"{0}/hub/api/oauth2/token\".format(provider_base_url)\n",
    "    authorize_url = \"{0}/hub/api/oauth2/authorize\".format(provider_base_url)\n",
    "    profile_url = \"{0}/hub/api/user\".format(provider_base_url)\n",
    "\n",
    "    def complete_login(self, request, app, access_token, **kwargs):\n",
    "        headers = {\"Authorization\": \"Bearer {0}\".format(access_token)}\n",
    "\n",
    "        extra_data = (\n",
    "            get_adapter().get_requests_session().get(self.profile_url, headers=headers)\n",
    "        )\n",
    "\n",
    "        user_profile = extra_data.json()\n",
    "\n",
    "        return self.get_provider().sociallogin_from_response(request, user_profile)"
   ]
  },
  {
   "cell_type": "markdown",
   "metadata": {},
   "source": []
  },
  {
   "cell_type": "code",
   "execution_count": null,
   "metadata": {},
   "outputs": [],
   "source": [
    "oauth2_login = OAuth2LoginView.adapter_view(JupyterHubOAuth2Adapter)\n",
    "oauth2_callback = OAuth2CallbackView.adapter_view(JupyterHubOAuth2Adapter)"
   ]
  },
  {
   "cell_type": "markdown",
   "metadata": {},
   "source": []
  }
 ],
 "metadata": {
  "language_info": {
   "name": "python"
  }
 },
 "nbformat": 4,
 "nbformat_minor": 2
}