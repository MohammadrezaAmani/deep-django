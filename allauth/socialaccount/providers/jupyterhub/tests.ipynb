{
    "cells": [
        {
            "cell_type": "code",
            "execution_count": null,
            "metadata": {},
            "outputs": [],
            "source": [
                "from allauth.socialaccount.tests import OAuth2TestsMixin\n",
                "from allauth.tests import MockedResponse, TestCase\n",
                "\n",
                "from .provider import JupyterHubProvider\n"
            ]
        },
        {
            "cell_type": "markdown",
            "metadata": {},
            "source": []
        },
        {
            "cell_type": "code",
            "execution_count": null,
            "metadata": {},
            "outputs": [],
            "source": [
                "class JupyterHubTests(OAuth2TestsMixin, TestCase):\n",
                "    provider_id = JupyterHubProvider.id\n",
                "\n",
                "    def get_mocked_response(self):\n",
                "        return MockedResponse(\n",
                "            200,\n",
                "            \"\"\"\n",
                "        {\n",
                "        \"kind\": \"user\",\n",
                "        \"name\": \"abc\",\n",
                "        \"admin\": false,\n",
                "        \"groups\": [],\n",
                "        \"server\": null,\n",
                "        \"pending\": null,\n",
                "        \"created\": \"2016-12-06T18:30:50.297567Z\",\n",
                "        \"last_activity\": \"2017-02-07T17:29:36.470236Z\",\n",
                "        \"servers\": null}\n",
                "        \"\"\",\n",
                "        )\n",
                "\n"
            ]
        },
        {
            "cell_type": "markdown",
            "metadata": {},
            "source": []
        }
    ],
    "metadata": {
        "language_info": {
            "name": "python"
        }
    },
    "nbformat": 4,
    "nbformat_minor": 2
}