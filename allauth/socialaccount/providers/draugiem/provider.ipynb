{
 "cells": [
  {
   "cell_type": "code",
   "execution_count": null,
   "metadata": {},
   "outputs": [],
   "source": [
    "from django.urls import reverse\n",
    "from django.utils.http import urlencode\n",
    "\n",
    "from allauth.socialaccount.providers.base import Provider, ProviderAccount"
   ]
  },
  {
   "cell_type": "markdown",
   "metadata": {},
   "source": []
  },
  {
   "cell_type": "code",
   "execution_count": null,
   "metadata": {},
   "outputs": [],
   "source": [
    "class DraugiemAccount(ProviderAccount):\n",
    "    def get_avatar_url(self):\n",
    "        ret = None\n",
    "        pic_small_url = self.account.extra_data.get(\"img\")\n",
    "        pic_icon_url = self.account.extra_data.get(\"imgi\")\n",
    "        pic_medium_url = self.account.extra_data.get(\"imgm\")\n",
    "        pic_large_url = self.account.extra_data.get(\"imgl\")\n",
    "        if pic_large_url:\n",
    "            return pic_large_url\n",
    "        elif pic_medium_url:\n",
    "            return pic_medium_url\n",
    "        elif pic_icon_url:\n",
    "            return pic_icon_url\n",
    "        elif pic_small_url:\n",
    "            return pic_small_url\n",
    "        else:\n",
    "            return ret\n",
    "\n",
    "    def to_str(self):\n",
    "        default = super(DraugiemAccount, self).to_str()\n",
    "        name = self.account.extra_data.get(\"name\")\n",
    "        surname = self.account.extra_data.get(\"surnname\")\n",
    "\n",
    "        if name and surname:\n",
    "            return \"%s %s\" % (name, surname)\n",
    "\n",
    "        return default"
   ]
  },
  {
   "cell_type": "markdown",
   "metadata": {},
   "source": []
  },
  {
   "cell_type": "code",
   "execution_count": null,
   "metadata": {},
   "outputs": [],
   "source": [
    "class DraugiemProvider(Provider):\n",
    "    id = \"draugiem\"\n",
    "    name = \"Draugiem\"\n",
    "    account_class = DraugiemAccount\n",
    "\n",
    "    def get_login_url(self, request, **kwargs):\n",
    "        url = reverse(self.id + \"_login\")\n",
    "        if kwargs:\n",
    "            url = url + \"?\" + urlencode(kwargs)\n",
    "        return url\n",
    "\n",
    "    def extract_uid(self, data):\n",
    "        return str(data[\"uid\"])\n",
    "\n",
    "    def extract_common_fields(self, data):\n",
    "        uid = self.extract_uid(data)\n",
    "        user_data = data[\"users\"][uid]\n",
    "        return dict(\n",
    "            first_name=user_data.get(\"name\"),\n",
    "            last_name=user_data.get(\"surname\"),\n",
    "        )\n",
    "\n",
    "    def extract_extra_data(self, data):\n",
    "        uid = self.extract_uid(data)\n",
    "        return data[\"users\"][uid]"
   ]
  },
  {
   "cell_type": "markdown",
   "metadata": {},
   "source": []
  },
  {
   "cell_type": "code",
   "execution_count": null,
   "metadata": {},
   "outputs": [],
   "source": [
    "provider_classes = [DraugiemProvider]"
   ]
  },
  {
   "cell_type": "markdown",
   "metadata": {},
   "source": []
  }
 ],
 "metadata": {
  "language_info": {
   "name": "python"
  }
 },
 "nbformat": 4,
 "nbformat_minor": 2
}