{
 "cells": [
  {
   "cell_type": "code",
   "execution_count": null,
   "metadata": {},
   "outputs": [],
   "source": [
    "import requests\n",
    "from hashlib import md5\n",
    "\n",
    "from django.http import HttpResponseRedirect\n",
    "from django.urls import reverse\n",
    "from django.utils.http import urlencode\n",
    "from django.views.decorators.csrf import csrf_exempt\n",
    "\n",
    "from allauth.socialaccount.adapter import get_adapter\n",
    "from allauth.socialaccount.helpers import (\n",
    "    complete_social_login,\n",
    "    render_authentication_error,\n",
    ")\n",
    "from allauth.socialaccount.models import SocialLogin, SocialToken\n",
    "\n",
    "from ..base import AuthError\n",
    "from .provider import DraugiemProvider"
   ]
  },
  {
   "cell_type": "markdown",
   "metadata": {},
   "source": []
  },
  {
   "cell_type": "code",
   "execution_count": null,
   "metadata": {},
   "outputs": [],
   "source": [
    "class DraugiemApiError(Exception):\n",
    "    pass"
   ]
  },
  {
   "cell_type": "markdown",
   "metadata": {},
   "source": []
  },
  {
   "cell_type": "code",
   "execution_count": null,
   "metadata": {},
   "outputs": [],
   "source": [
    "ACCESS_TOKEN_URL = \"http://api.draugiem.lv/json\"\n",
    "AUTHORIZE_URL = \"http://api.draugiem.lv/authorize\""
   ]
  },
  {
   "cell_type": "markdown",
   "metadata": {},
   "source": []
  },
  {
   "cell_type": "code",
   "execution_count": null,
   "metadata": {},
   "outputs": [],
   "source": [
    "def login(request):\n",
    "    app = get_adapter().get_app(request, DraugiemProvider.id)\n",
    "    redirect_url = request.build_absolute_uri(reverse(callback))\n",
    "    redirect_url_hash = md5((app.secret + redirect_url).encode(\"utf-8\")).hexdigest()\n",
    "    params = {\n",
    "        \"app\": app.client_id,\n",
    "        \"hash\": redirect_url_hash,\n",
    "        \"redirect\": redirect_url,\n",
    "    }\n",
    "    SocialLogin.stash_state(request)\n",
    "    return HttpResponseRedirect(\"%s?%s\" % (AUTHORIZE_URL, urlencode(params)))"
   ]
  },
  {
   "cell_type": "markdown",
   "metadata": {},
   "source": []
  },
  {
   "cell_type": "code",
   "execution_count": null,
   "metadata": {},
   "outputs": [],
   "source": [
    "@csrf_exempt\n",
    "def callback(request):\n",
    "    adapter = get_adapter()\n",
    "    provider = adapter.get_provider(request, DraugiemProvider.id)\n",
    "\n",
    "    if \"dr_auth_status\" not in request.GET:\n",
    "        return render_authentication_error(request, provider, error=AuthError.UNKNOWN)\n",
    "\n",
    "    if request.GET[\"dr_auth_status\"] != \"ok\":\n",
    "        return render_authentication_error(request, provider, error=AuthError.DENIED)\n",
    "\n",
    "    if \"dr_auth_code\" not in request.GET:\n",
    "        return render_authentication_error(request, provider, error=AuthError.UNKNOWN)\n",
    "\n",
    "    ret = None\n",
    "    auth_exception = None\n",
    "    try:\n",
    "        app = provider.app\n",
    "        login = draugiem_complete_login(request, app, request.GET[\"dr_auth_code\"])\n",
    "        login.state = SocialLogin.unstash_state(request)\n",
    "\n",
    "        ret = complete_social_login(request, login)\n",
    "    except (requests.RequestException, DraugiemApiError) as e:\n",
    "        auth_exception = e\n",
    "\n",
    "    if not ret:\n",
    "        ret = render_authentication_error(request, provider, exception=auth_exception)\n",
    "\n",
    "    return ret"
   ]
  },
  {
   "cell_type": "markdown",
   "metadata": {},
   "source": []
  },
  {
   "cell_type": "code",
   "execution_count": null,
   "metadata": {},
   "outputs": [],
   "source": [
    "def draugiem_complete_login(request, app, code):\n",
    "    provider = get_adapter().get_provider(request, DraugiemProvider.id)\n",
    "    response = (\n",
    "        get_adapter()\n",
    "        .get_requests_session()\n",
    "        .get(\n",
    "            ACCESS_TOKEN_URL,\n",
    "            {\"action\": \"authorize\", \"app\": app.secret, \"code\": code},\n",
    "        )\n",
    "    )\n",
    "    response.raise_for_status()\n",
    "    response_json = response.json()\n",
    "\n",
    "    if \"error\" in response_json:\n",
    "        raise DraugiemApiError(response_json[\"error\"])\n",
    "\n",
    "    token = SocialToken(app=app, token=response_json[\"apikey\"])\n",
    "\n",
    "    login = provider.sociallogin_from_response(request, response_json)\n",
    "    login.token = token\n",
    "    return login"
   ]
  },
  {
   "cell_type": "markdown",
   "metadata": {},
   "source": []
  }
 ],
 "metadata": {
  "language_info": {
   "name": "python"
  }
 },
 "nbformat": 4,
 "nbformat_minor": 2
}