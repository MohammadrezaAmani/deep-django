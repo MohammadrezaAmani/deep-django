{
    "cells": [
        {
            "cell_type": "code",
            "execution_count": null,
            "metadata": {},
            "outputs": [],
            "source": [
                "from allauth.socialaccount.providers.oauth2.views import (\n",
                "    OAuth2Adapter,\n",
                "    OAuth2CallbackView,\n",
                "    OAuth2LoginView,\n",
                ")\n",
                "\n",
                "from .client import NotionOAuth2Client\n"
            ]
        },
        {
            "cell_type": "markdown",
            "metadata": {},
            "source": []
        },
        {
            "cell_type": "code",
            "execution_count": null,
            "metadata": {},
            "outputs": [],
            "source": [
                "class NotionOAuth2Adapter(OAuth2Adapter):\n",
                "    provider_id = \"notion\"\n",
                "    basic_auth = True\n",
                "    client_class = NotionOAuth2Client\n",
                "\n",
                "    authorize_url = \"https://api.notion.com/v1/oauth/authorize\"\n",
                "    access_token_url = \"https://api.notion.com/v1/oauth/token\"\n",
                "\n",
                "    def complete_login(self, request, app, token, **kwargs):\n",
                "        return self.get_provider().sociallogin_from_response(\n",
                "            request, kwargs[\"response\"]\n",
                "        )\n"
            ]
        },
        {
            "cell_type": "markdown",
            "metadata": {},
            "source": []
        },
        {
            "cell_type": "code",
            "execution_count": null,
            "metadata": {},
            "outputs": [],
            "source": [
                "oauth2_login = OAuth2LoginView.adapter_view(NotionOAuth2Adapter)\n",
                "oauth2_callback = OAuth2CallbackView.adapter_view(NotionOAuth2Adapter)\n",
                "\n"
            ]
        },
        {
            "cell_type": "markdown",
            "metadata": {},
            "source": []
        }
    ],
    "metadata": {
        "language_info": {
            "name": "python"
        }
    },
    "nbformat": 4,
    "nbformat_minor": 2
}