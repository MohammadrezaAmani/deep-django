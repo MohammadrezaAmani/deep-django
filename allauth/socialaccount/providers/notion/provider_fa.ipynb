{
 "cells": [
  {
   "cell_type": "code",
   "execution_count": null,
   "metadata": {},
   "outputs": [],
   "source": [
    "from allauth.account.models import EmailAddress\n",
    "from allauth.socialaccount.providers.base import ProviderAccount\n",
    "from allauth.socialaccount.providers.notion.views import NotionOAuth2Adapter\n",
    "from allauth.socialaccount.providers.oauth2.provider import OAuth2Provider"
   ]
  },
  {
   "cell_type": "markdown",
   "metadata": {},
   "source": []
  },
  {
   "cell_type": "code",
   "execution_count": null,
   "metadata": {},
   "outputs": [],
   "source": [
    "class NotionAccount(ProviderAccount):\n",
    "    def get_user(self):\n",
    "        return self.account.extra_data[\"owner\"][\"user\"]\n",
    "\n",
    "    def get_name(self):\n",
    "        return self.get_user()[\"name\"]\n",
    "\n",
    "    def get_avatar_url(self):\n",
    "        return self.get_user()[\"avatar_url\"]\n",
    "\n",
    "    def get_workspace_name(self):\n",
    "        return self.account.extra_data[\"workspace_name\"]\n",
    "\n",
    "    def get_workspace_icon(self):\n",
    "        return self.account.extra_data[\"workspace_icon\"]\n",
    "\n",
    "    def to_str(self):\n",
    "        name = self.get_name()\n",
    "        workspace = self.get_workspace_name()\n",
    "        return f\"{name} ({workspace})\""
   ]
  },
  {
   "cell_type": "markdown",
   "metadata": {},
   "source": []
  },
  {
   "cell_type": "code",
   "execution_count": null,
   "metadata": {},
   "outputs": [],
   "source": [
    "class NotionProvider(OAuth2Provider):\n",
    "    id = \"notion\"\n",
    "    name = \"Notion\"\n",
    "    account_class = NotionAccount\n",
    "    oauth2_adapter_class = NotionOAuth2Adapter\n",
    "\n",
    "    def extract_uid(self, data):\n",
    "        \"\"\"\n",
    "        The unique identifier for Notion is a combination of the User ID\n",
    "        and the Workspace ID they have authorized the application with.\n",
    "        \"\"\"\n",
    "        user_id = data[\"owner\"][\"user\"][\"id\"]\n",
    "        workspace_id = data[\"workspace_id\"]\n",
    "        return \"user-%s_workspace-%s\" % (user_id, workspace_id)\n",
    "\n",
    "    def extract_common_fields(self, data):\n",
    "        user = data[\"owner\"][\"user\"]\n",
    "        user[\"email\"] = user[\"person\"][\"email\"]\n",
    "        return user\n",
    "\n",
    "    def extract_email_addresses(self, data):\n",
    "        user = data[\"owner\"][\"user\"]\n",
    "        email = user[\"person\"][\"email\"]\n",
    "        return [EmailAddress(email=email, verified=True, primary=True)]"
   ]
  },
  {
   "cell_type": "markdown",
   "metadata": {},
   "source": []
  },
  {
   "cell_type": "code",
   "execution_count": null,
   "metadata": {},
   "outputs": [],
   "source": [
    "provider_classes = [NotionProvider]"
   ]
  },
  {
   "cell_type": "markdown",
   "metadata": {},
   "source": []
  }
 ],
 "metadata": {
  "language_info": {
   "name": "python"
  }
 },
 "nbformat": 4,
 "nbformat_minor": 2
}