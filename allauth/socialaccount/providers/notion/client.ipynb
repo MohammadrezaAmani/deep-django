{
 "cells": [
  {
   "cell_type": "code",
   "execution_count": null,
   "metadata": {},
   "outputs": [],
   "source": [
    "from requests.auth import HTTPBasicAuth\n",
    "from urllib.parse import parse_qsl\n",
    "\n",
    "from django.utils.http import urlencode\n",
    "\n",
    "from allauth.socialaccount.adapter import get_adapter\n",
    "from allauth.socialaccount.providers.oauth2.client import (\n",
    "    OAuth2Client,\n",
    "    OAuth2Error,\n",
    ")"
   ]
  },
  {
   "cell_type": "markdown",
   "metadata": {},
   "source": []
  },
  {
   "cell_type": "code",
   "execution_count": null,
   "metadata": {},
   "outputs": [],
   "source": [
    "class NotionOAuth2Client(OAuth2Client):\n",
    "    def get_redirect_url(self, authorization_url, scope, extra_params):\n",
    "        scope = self.scope_delimiter.join(set(scope))\n",
    "        params = {\n",
    "            \"client_id\": self.consumer_key,\n",
    "            \"scope\": scope,\n",
    "            \"response_type\": \"code\",\n",
    "            \"owner\": \"user\",\n",
    "        }\n",
    "        if self.state:\n",
    "            params[\"state\"] = self.state\n",
    "        return \"%s?%s\" % (authorization_url, urlencode(params))\n",
    "\n",
    "    def get_access_token(self, code, pkce_code_verifier=None):\n",
    "        resp = (\n",
    "            get_adapter()\n",
    "            .get_requests_session()\n",
    "            .request(\n",
    "                self.access_token_method,\n",
    "                self.access_token_url,\n",
    "                auth=HTTPBasicAuth(self.consumer_key, self.consumer_secret),\n",
    "                json={\"code\": code, \"grant_type\": \"authorization_code\"},\n",
    "                headers=self.headers,\n",
    "            )\n",
    "        )\n",
    "        access_token = None\n",
    "        if resp.status_code in [200, 201]:\n",
    "            try:\n",
    "                access_token = resp.json()\n",
    "            except ValueError:\n",
    "                access_token = dict(parse_qsl(resp.text))\n",
    "        if not access_token or \"access_token\" not in access_token:\n",
    "            raise OAuth2Error(\"Error retrieving access token: %s\" % resp.content)\n",
    "        return access_token"
   ]
  },
  {
   "cell_type": "markdown",
   "metadata": {},
   "source": []
  }
 ],
 "metadata": {
  "language_info": {
   "name": "python"
  }
 },
 "nbformat": 4,
 "nbformat_minor": 2
}