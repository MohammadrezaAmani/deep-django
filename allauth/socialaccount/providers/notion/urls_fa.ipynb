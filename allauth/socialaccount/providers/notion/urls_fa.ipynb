{
    "cells": [
        {
            "cell_type": "code",
            "execution_count": null,
            "metadata": {},
            "outputs": [],
            "source": [
                "from allauth.socialaccount.providers.notion.provider import NotionProvider\n",
                "from allauth.socialaccount.providers.oauth2.urls import default_urlpatterns\n",
                "\n",
                "urlpatterns = default_urlpatterns(NotionProvider)\n",
                "\n"
            ]
        },
        {
            "cell_type": "markdown",
            "metadata": {},
            "source": []
        }
    ],
    "metadata": {
        "language_info": {
            "name": "python"
        }
    },
    "nbformat": 4,
    "nbformat_minor": 2
}