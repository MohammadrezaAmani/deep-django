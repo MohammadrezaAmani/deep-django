{
    "cells": [
        {
            "cell_type": "code",
            "execution_count": null,
            "metadata": {},
            "outputs": [],
            "source": [
                "\"\"\"Views for Drip API.\"\"\"\n",
                "from allauth.socialaccount.adapter import get_adapter\n",
                "from allauth.socialaccount.providers.oauth2.views import (\n",
                "    OAuth2Adapter,\n",
                "    OAuth2CallbackView,\n",
                "    OAuth2LoginView,\n",
                ")\n"
            ]
        },
        {
            "cell_type": "markdown",
            "metadata": {},
            "source": []
        },
        {
            "cell_type": "code",
            "execution_count": null,
            "metadata": {},
            "outputs": [],
            "source": [
                "class DripOAuth2Adapter(OAuth2Adapter):\n",
                "\n",
                "    \"\"\"OAuth2Adapter for Drip API v3.\"\"\"\n",
                "\n",
                "    provider_id = \"drip\"\n",
                "\n",
                "    authorize_url = \"https://www.getdrip.com/oauth/authorize\"\n",
                "    access_token_url = \"https://www.getdrip.com/oauth/token\"\n",
                "    profile_url = \"https://api.getdrip.com/v2/user\"\n",
                "\n",
                "    def complete_login(self, request, app, token, **kwargs):\n",
                "        \"\"\"Complete login, ensuring correct OAuth header.\"\"\"\n",
                "        headers = {\"Authorization\": \"Bearer {0}\".format(token.token)}\n",
                "        response = (\n",
                "            get_adapter().get_requests_session().get(self.profile_url, headers=headers)\n",
                "        )\n",
                "        response.raise_for_status()\n",
                "        extra_data = response.json()[\"users\"][0]\n",
                "        return self.get_provider().sociallogin_from_response(request, extra_data)\n"
            ]
        },
        {
            "cell_type": "markdown",
            "metadata": {},
            "source": []
        },
        {
            "cell_type": "code",
            "execution_count": null,
            "metadata": {},
            "outputs": [],
            "source": [
                "oauth2_login = OAuth2LoginView.adapter_view(DripOAuth2Adapter)\n",
                "oauth2_callback = OAuth2CallbackView.adapter_view(DripOAuth2Adapter)\n",
                "\n"
            ]
        },
        {
            "cell_type": "markdown",
            "metadata": {},
            "source": []
        }
    ],
    "metadata": {
        "language_info": {
            "name": "python"
        }
    },
    "nbformat": 4,
    "nbformat_minor": 2
}