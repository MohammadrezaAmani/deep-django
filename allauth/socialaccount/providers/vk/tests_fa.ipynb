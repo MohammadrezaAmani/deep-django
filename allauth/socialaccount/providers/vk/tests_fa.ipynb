{
 "cells": [
  {
   "cell_type": "code",
   "execution_count": null,
   "metadata": {},
   "outputs": [],
   "source": [
    "from allauth.socialaccount.tests import OAuth2TestsMixin\n",
    "from allauth.tests import MockedResponse, TestCase\n",
    "\n",
    "from .provider import VKProvider"
   ]
  },
  {
   "cell_type": "markdown",
   "metadata": {},
   "source": []
  },
  {
   "cell_type": "code",
   "execution_count": null,
   "metadata": {},
   "outputs": [],
   "source": [
    "class VKTests(OAuth2TestsMixin, TestCase):\n",
    "    provider_id = VKProvider.id\n",
    "\n",
    "    def get_mocked_response(self, verified_email=True):\n",
    "        return MockedResponse(\n",
    "            200,\n",
    "            \"\"\"\n",
    "{\"response\": [{\"last_name\": \"Penners\", \"university_name\": \"\",\n",
    "\"photo\": \"http://vk.com/images/camera_c.gif\", \"sex\": 2,\n",
    "\"photo_medium\": \"http://vk.com/images/camera_b.gif\", \"relation\": \"0\",\n",
    "\"timezone\": 1, \"photo_big\": \"http://vk.com/images/camera_a.gif\",\n",
    "\"id\": 219004864, \"universities\": [], \"city\": \"1430\", \"first_name\": \"Raymond\",\n",
    "\"faculty_name\": \"\", \"online\": 1, \"counters\": {\"videos\": 0, \"online_friends\": 0,\n",
    "\"notes\": 0, \"audios\": 0, \"photos\": 0, \"followers\": 0, \"groups\": 0,\n",
    "\"user_videos\": 0, \"albums\": 0, \"friends\": 0}, \"home_phone\": \"\", \"faculty\": 0,\n",
    "\"nickname\": \"\", \"screen_name\": \"id219004864\", \"has_mobile\": 1,\n",
    "\"country\": \"139\", \"university\": 0, \"graduation\": 0, \"activity\": \"\",\n",
    "\"last_seen\": {\"time\": 1377805189}}]}\n",
    "\"\"\",\n",
    "        )\n",
    "\n",
    "    def get_login_response_json(self, with_refresh_token=True):\n",
    "        return '{\"user_id\": 219004864, \"access_token\":\"testac\"}'"
   ]
  },
  {
   "cell_type": "markdown",
   "metadata": {},
   "source": []
  }
 ],
 "metadata": {
  "language_info": {
   "name": "python"
  }
 },
 "nbformat": 4,
 "nbformat_minor": 2
}