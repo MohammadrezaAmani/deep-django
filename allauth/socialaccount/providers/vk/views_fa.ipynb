{
 "cells": [
  {
   "cell_type": "code",
   "execution_count": null,
   "metadata": {},
   "outputs": [],
   "source": [
    "from allauth.socialaccount.adapter import get_adapter\n",
    "from allauth.socialaccount.providers.oauth2.views import (\n",
    "    OAuth2Adapter,\n",
    "    OAuth2CallbackView,\n",
    "    OAuth2LoginView,\n",
    ")\n",
    "\n",
    "USER_FIELDS = [\n",
    "    \"first_name\",\n",
    "    \"last_name\",\n",
    "    \"nickname\",\n",
    "    \"screen_name\",\n",
    "    \"sex\",\n",
    "    \"bdate\",\n",
    "    \"city\",\n",
    "    \"country\",\n",
    "    \"timezone\",\n",
    "    \"photo\",\n",
    "    \"photo_medium\",\n",
    "    \"photo_big\",\n",
    "    \"photo_max_orig\",\n",
    "    \"has_mobile\",\n",
    "    \"contacts\",\n",
    "    \"education\",\n",
    "    \"online\",\n",
    "    \"counters\",\n",
    "    \"relation\",\n",
    "    \"last_seen\",\n",
    "    \"activity\",\n",
    "    \"universities\",\n",
    "]"
   ]
  },
  {
   "cell_type": "markdown",
   "metadata": {},
   "source": []
  },
  {
   "cell_type": "code",
   "execution_count": null,
   "metadata": {},
   "outputs": [],
   "source": [
    "class VKOAuth2Adapter(OAuth2Adapter):\n",
    "    provider_id = \"vk\"\n",
    "    access_token_url = \"https://oauth.vk.com/access_token\"\n",
    "    authorize_url = \"https://oauth.vk.com/authorize\"\n",
    "    profile_url = \"https://api.vk.com/method/users.get\"\n",
    "\n",
    "    def complete_login(self, request, app, token, **kwargs):\n",
    "        uid = kwargs[\"response\"].get(\"user_id\")\n",
    "        params = {\n",
    "            \"v\": \"5.95\",\n",
    "            \"access_token\": token.token,\n",
    "            \"fields\": \",\".join(USER_FIELDS),\n",
    "        }\n",
    "        if uid:\n",
    "            params[\"user_ids\"] = uid\n",
    "        resp = get_adapter().get_requests_session().get(self.profile_url, params=params)\n",
    "        resp.raise_for_status()\n",
    "        extra_data = resp.json()[\"response\"][0]\n",
    "        email = kwargs[\"response\"].get(\"email\")\n",
    "        if email:\n",
    "            extra_data[\"email\"] = email\n",
    "        return self.get_provider().sociallogin_from_response(request, extra_data)"
   ]
  },
  {
   "cell_type": "markdown",
   "metadata": {},
   "source": []
  },
  {
   "cell_type": "code",
   "execution_count": null,
   "metadata": {},
   "outputs": [],
   "source": [
    "oauth2_login = OAuth2LoginView.adapter_view(VKOAuth2Adapter)\n",
    "oauth2_callback = OAuth2CallbackView.adapter_view(VKOAuth2Adapter)"
   ]
  },
  {
   "cell_type": "markdown",
   "metadata": {},
   "source": []
  }
 ],
 "metadata": {
  "language_info": {
   "name": "python"
  }
 },
 "nbformat": 4,
 "nbformat_minor": 2
}