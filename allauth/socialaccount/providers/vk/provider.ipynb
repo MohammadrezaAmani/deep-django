{
 "cells": [
  {
   "cell_type": "code",
   "execution_count": null,
   "metadata": {},
   "outputs": [],
   "source": [
    "from allauth.socialaccount import app_settings\n",
    "from allauth.socialaccount.providers.base import ProviderAccount\n",
    "from allauth.socialaccount.providers.oauth2.provider import OAuth2Provider\n",
    "from allauth.socialaccount.providers.vk.views import VKOAuth2Adapter"
   ]
  },
  {
   "cell_type": "markdown",
   "metadata": {},
   "source": []
  },
  {
   "cell_type": "code",
   "execution_count": null,
   "metadata": {},
   "outputs": [],
   "source": [
    "class VKAccount(ProviderAccount):\n",
    "    def get_profile_url(self):\n",
    "        return \"https://vk.com/id%s\" % self.account.extra_data.get(\"id\")\n",
    "\n",
    "    def get_avatar_url(self):\n",
    "        ret = None\n",
    "        photo_big_url = self.account.extra_data.get(\"photo_big\")\n",
    "        photo_medium_url = self.account.extra_data.get(\"photo_medium\")\n",
    "        if photo_big_url:\n",
    "            return photo_big_url\n",
    "        elif photo_medium_url:\n",
    "            return photo_medium_url\n",
    "        else:\n",
    "            return ret\n",
    "\n",
    "    def to_str(self):\n",
    "        first_name = self.account.extra_data.get(\"first_name\", \"\")\n",
    "        last_name = self.account.extra_data.get(\"last_name\", \"\")\n",
    "        name = \" \".join([first_name, last_name]).strip()\n",
    "        return name or super(VKAccount, self).to_str()"
   ]
  },
  {
   "cell_type": "markdown",
   "metadata": {},
   "source": []
  },
  {
   "cell_type": "code",
   "execution_count": null,
   "metadata": {},
   "outputs": [],
   "source": [
    "class VKProvider(OAuth2Provider):\n",
    "    id = \"vk\"\n",
    "    name = \"VK\"\n",
    "    account_class = VKAccount\n",
    "    oauth2_adapter_class = VKOAuth2Adapter\n",
    "\n",
    "    def get_default_scope(self):\n",
    "        scope = []\n",
    "        if app_settings.QUERY_EMAIL:\n",
    "            scope.append(\"email\")\n",
    "        return scope\n",
    "\n",
    "    def extract_uid(self, data):\n",
    "        return str(data[\"id\"])\n",
    "\n",
    "    def extract_common_fields(self, data):\n",
    "        return dict(\n",
    "            email=data.get(\"email\"),\n",
    "            last_name=data.get(\"last_name\"),\n",
    "            username=data.get(\"screen_name\"),\n",
    "            first_name=data.get(\"first_name\"),\n",
    "        )"
   ]
  },
  {
   "cell_type": "markdown",
   "metadata": {},
   "source": []
  },
  {
   "cell_type": "code",
   "execution_count": null,
   "metadata": {},
   "outputs": [],
   "source": [
    "provider_classes = [VKProvider]"
   ]
  },
  {
   "cell_type": "markdown",
   "metadata": {},
   "source": []
  }
 ],
 "metadata": {
  "language_info": {
   "name": "python"
  }
 },
 "nbformat": 4,
 "nbformat_minor": 2
}