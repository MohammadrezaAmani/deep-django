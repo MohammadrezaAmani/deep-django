{
 "cells": [
  {
   "cell_type": "code",
   "execution_count": null,
   "metadata": {},
   "outputs": [],
   "source": [
    "from allauth.account import app_settings\n",
    "from allauth.socialaccount.adapter import get_adapter\n",
    "from allauth.socialaccount.providers.oauth2.client import OAuth2Error\n",
    "from allauth.socialaccount.providers.oauth2.views import (\n",
    "    OAuth2Adapter,\n",
    "    OAuth2CallbackView,\n",
    "    OAuth2LoginView,\n",
    ")\n",
    "from allauth.utils import build_absolute_uri\n",
    "from django.urls import reverse\n",
    "\n",
    "from .client import FeishuOAuth2Client"
   ]
  },
  {
   "cell_type": "markdown",
   "metadata": {},
   "source": []
  },
  {
   "cell_type": "code",
   "execution_count": null,
   "metadata": {},
   "outputs": [],
   "source": [
    "class FeishuOAuth2Adapter(OAuth2Adapter):\n",
    "    provider_id = \"feishu\"\n",
    "\n",
    "    authorization_url = \"https://open.feishu.cn/open-apis/authen/v1/index\"\n",
    "    access_token_url = \"https://open.feishu.cn/open-apis/authen/v1/access_token\"\n",
    "    app_access_token_url = (\n",
    "        \"https://open.feishu.cn/open-apis/auth/v3/app_access_token/internal/\"\n",
    "    )\n",
    "    user_info_url = \"https://open.feishu.cn/open-apis/authen/v1/user_info\"\n",
    "\n",
    "    @property\n",
    "    def authorize_url(self):\n",
    "        settings = self.get_provider().get_settings()\n",
    "        url = settings.get(\"AUTHORIZE_URL\", self.authorization_url)\n",
    "        return url\n",
    "\n",
    "    def complete_login(self, request, app, token, **kwargs):\n",
    "        resp = (\n",
    "            get_adapter()\n",
    "            .get_requests_session()\n",
    "            .get(\n",
    "                self.user_info_url,\n",
    "                headers={\n",
    "                    \"Content-Type\": \"application/json\",\n",
    "                    \"Authorization\": \"Bearer \" + token.token,\n",
    "                },\n",
    "            )\n",
    "        )\n",
    "        resp.raise_for_status()\n",
    "        extra_data = resp.json()\n",
    "        if extra_data[\"code\"] != 0:\n",
    "            raise OAuth2Error(\"Error retrieving code: %s\" % resp.content)\n",
    "        extra_data = extra_data[\"data\"]\n",
    "\n",
    "        return self.get_provider().sociallogin_from_response(request, extra_data)\n",
    "\n",
    "    def get_client(self, request, app):\n",
    "        callback_url = reverse(self.provider_id + \"_callback\")\n",
    "        protocol = self.redirect_uri_protocol or app_settings.DEFAULT_HTTP_PROTOCOL\n",
    "        callback_url = build_absolute_uri(request, callback_url, protocol=protocol)\n",
    "        client = FeishuOAuth2Client(\n",
    "            request,\n",
    "            app.client_id,\n",
    "            app.secret,\n",
    "            self.access_token_method,\n",
    "            self.access_token_url,\n",
    "            callback_url,\n",
    "        )\n",
    "        return client"
   ]
  },
  {
   "cell_type": "markdown",
   "metadata": {},
   "source": []
  },
  {
   "cell_type": "code",
   "execution_count": null,
   "metadata": {},
   "outputs": [],
   "source": [
    "oauth2_login = OAuth2LoginView.adapter_view(FeishuOAuth2Adapter)\n",
    "oauth2_callback = OAuth2CallbackView.adapter_view(FeishuOAuth2Adapter)"
   ]
  },
  {
   "cell_type": "markdown",
   "metadata": {},
   "source": []
  }
 ],
 "metadata": {
  "language_info": {
   "name": "python"
  }
 },
 "nbformat": 4,
 "nbformat_minor": 2
}