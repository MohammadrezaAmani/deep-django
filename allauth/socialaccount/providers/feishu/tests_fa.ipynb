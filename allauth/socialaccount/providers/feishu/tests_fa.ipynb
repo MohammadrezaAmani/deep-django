{
 "cells": [
  {
   "cell_type": "code",
   "execution_count": null,
   "metadata": {},
   "outputs": [],
   "source": [
    "# -*- coding: utf-8 -*-\n",
    "\n",
    "from __future__ import unicode_literals\n",
    "\n",
    "from allauth.socialaccount.tests import OAuth2TestsMixin\n",
    "from allauth.tests import MockedResponse, TestCase\n",
    "\n",
    "from .provider import FeishuProvider"
   ]
  },
  {
   "cell_type": "markdown",
   "metadata": {},
   "source": []
  },
  {
   "cell_type": "code",
   "execution_count": null,
   "metadata": {},
   "outputs": [],
   "source": [
    "class FeishuTests(OAuth2TestsMixin, TestCase):\n",
    "    provider_id = FeishuProvider.id\n",
    "\n",
    "    def get_mocked_response(self):\n",
    "        return [\n",
    "            MockedResponse(\n",
    "                0,\n",
    "                \"\"\"\n",
    "                {\"data\": {\"access_token\": \"testac\"}}\n",
    "                \"\"\",\n",
    "            ),\n",
    "            MockedResponse(\n",
    "                0,\n",
    "                \"\"\"\n",
    "                {\n",
    "                    \"code\": 0,\n",
    "                    \"data\": {\n",
    "                        \"access_token\": \"u-6U1SbDiM6XIH2DcTCPyeub\",\n",
    "                        \"avatar_url\": \"www.feishu.cn/avatar/icon\",\n",
    "                        \"avatar_thumb\": \"www.feishu.cn/avatar/icon_thumb\",\n",
    "                        \"avatar_middle\": \"www.feishu.cn/avatar/icon_middle\",\n",
    "                        \"avatar_big\": \"www.feishu.cn/avatar/icon_big\",\n",
    "                        \"expires_in\": 7140,\n",
    "                        \"name\": \"zhangsan\",\n",
    "                        \"en_name\": \"Three Zhang\",\n",
    "                        \"open_id\": \"ou-caecc734c2e3328a62489fe0648c4b98779515d3\",\n",
    "                        \"tenant_key\": \"736588c92lxf175d\",\n",
    "                        \"refresh_expires_in\": 2591940,\n",
    "                        \"refresh_token\": \"ur-t9HHgRCjMqGqIU9v05Zhos\",\n",
    "                        \"token_type\": \"Bearer\"\n",
    "                    }\n",
    "                }\n",
    "                \"\"\",\n",
    "            ),\n",
    "        ]\n",
    "\n",
    "    def get_login_response_json(self, with_refresh_token=True):\n",
    "        return \"\"\"{\"app_access_token\":\"testac\"}\"\"\""
   ]
  },
  {
   "cell_type": "markdown",
   "metadata": {},
   "source": []
  }
 ],
 "metadata": {
  "language_info": {
   "name": "python"
  }
 },
 "nbformat": 4,
 "nbformat_minor": 2
}