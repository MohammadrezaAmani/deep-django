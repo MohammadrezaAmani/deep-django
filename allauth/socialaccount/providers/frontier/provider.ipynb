{
    "cells": [
        {
            "cell_type": "code",
            "execution_count": null,
            "metadata": {},
            "outputs": [],
            "source": [
                "import hashlib\n",
                "from urllib.parse import urlencode\n",
                "\n",
                "from allauth.account.models import EmailAddress\n",
                "from allauth.socialaccount.providers.base import ProviderAccount\n",
                "from allauth.socialaccount.providers.frontier.views import (\n",
                "    FrontierOAuth2Adapter,\n",
                ")\n",
                "from allauth.socialaccount.providers.oauth2.provider import OAuth2Provider\n"
            ]
        },
        {
            "cell_type": "markdown",
            "metadata": {},
            "source": []
        },
        {
            "cell_type": "code",
            "execution_count": null,
            "metadata": {},
            "outputs": [],
            "source": [
                "class FrontierAccount(ProviderAccount):\n",
                "    def get_profile_url(self):\n",
                "        return None\n",
                "\n",
                "    def get_avatar_url(self):\n",
                "        return \"https://www.gravatar.com/avatar/%s?%s\" % (\n",
                "            hashlib.md5(\n",
                "                self.account.extra_data.get(\"email\").lower().encode(\"utf-8\")\n",
                "            ).hexdigest(),\n",
                "            urlencode({\"d\": \"mp\"}),\n",
                "        )\n",
                "\n",
                "    def to_str(self):\n",
                "        dflt = super(FrontierAccount, self).to_str()\n",
                "        full_name = \"%s %s\" % (\n",
                "            self.account.extra_data.get(\"firstname\", dflt),\n",
                "            self.account.extra_data.get(\"lastname\", dflt),\n",
                "        )\n",
                "        return full_name\n"
            ]
        },
        {
            "cell_type": "markdown",
            "metadata": {},
            "source": []
        },
        {
            "cell_type": "code",
            "execution_count": null,
            "metadata": {},
            "outputs": [],
            "source": [
                "class FrontierProvider(OAuth2Provider):\n",
                "    id = \"frontier\"\n",
                "    name = \"Frontier\"\n",
                "    account_class = FrontierAccount\n",
                "    oauth2_adapter_class = FrontierOAuth2Adapter\n",
                "\n",
                "    def get_default_scope(self):\n",
                "        scope = [\"auth\", \"capi\"]\n",
                "        return scope\n",
                "\n",
                "    def extract_uid(self, data):\n",
                "        return str(data[\"customer_id\"])\n",
                "\n",
                "    def extract_common_fields(self, data):\n",
                "        return dict(\n",
                "            email=data.get(\"email\"),\n",
                "            username=data.get(\"email\"),\n",
                "            last_name=data.get(\"lastname\"),\n",
                "            first_name=data.get(\"firstname\"),\n",
                "        )\n",
                "\n",
                "    def extract_email_addresses(self, data):\n",
                "        ret = []\n",
                "        email = data.get(\"email\")\n",
                "        if email:\n",
                "            ret.append(EmailAddress(email=email, verified=True, primary=True))\n",
                "        return ret\n"
            ]
        },
        {
            "cell_type": "markdown",
            "metadata": {},
            "source": []
        },
        {
            "cell_type": "code",
            "execution_count": null,
            "metadata": {},
            "outputs": [],
            "source": [
                "provider_classes = [FrontierProvider]\n",
                "\n"
            ]
        },
        {
            "cell_type": "markdown",
            "metadata": {},
            "source": []
        }
    ],
    "metadata": {
        "language_info": {
            "name": "python"
        }
    },
    "nbformat": 4,
    "nbformat_minor": 2
}