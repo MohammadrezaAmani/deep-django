{
 "cells": [
  {
   "cell_type": "code",
   "execution_count": null,
   "metadata": {},
   "outputs": [],
   "source": [
    "from allauth.socialaccount.providers.base import ProviderAccount\n",
    "from allauth.socialaccount.providers.oauth2.provider import OAuth2Provider\n",
    "from allauth.socialaccount.providers.snapchat.constants import (\n",
    "    PROVIDER_ID,\n",
    "    Scope,\n",
    ")\n",
    "from allauth.socialaccount.providers.snapchat.views import (\n",
    "    SnapchatOAuth2Adapter,\n",
    ")"
   ]
  },
  {
   "cell_type": "markdown",
   "metadata": {},
   "source": []
  },
  {
   "cell_type": "code",
   "execution_count": null,
   "metadata": {},
   "outputs": [],
   "source": [
    "class SnapchatAccount(ProviderAccount):\n",
    "    def to_str(self):\n",
    "        dflt = super(SnapchatAccount, self).to_str()\n",
    "        return \"%s (%s)\" % (\n",
    "            self.account.extra_data.get(\"data\").get(\"me\").get(\"displayName\", \"\"),\n",
    "            dflt,\n",
    "        )"
   ]
  },
  {
   "cell_type": "markdown",
   "metadata": {},
   "source": []
  },
  {
   "cell_type": "code",
   "execution_count": null,
   "metadata": {},
   "outputs": [],
   "source": [
    "class SnapchatProvider(OAuth2Provider):\n",
    "    id = PROVIDER_ID\n",
    "    name = \"Snapchat\"\n",
    "    account_class = SnapchatAccount\n",
    "    oauth2_adapter_class = SnapchatOAuth2Adapter\n",
    "\n",
    "    def get_default_scope(self):\n",
    "        scope = [Scope.EXTERNAL_ID, Scope.DISPLAY_NAME]\n",
    "        return scope\n",
    "\n",
    "    def extract_uid(self, data):\n",
    "        return str(data.get(\"data\").get(\"me\").get(\"externalId\"))\n",
    "\n",
    "    def extract_common_fields(self, data):\n",
    "        user = data.get(\"data\", {}).get(\"me\")\n",
    "        return {\"name\": user.get(\"displayName\")}"
   ]
  },
  {
   "cell_type": "markdown",
   "metadata": {},
   "source": []
  },
  {
   "cell_type": "code",
   "execution_count": null,
   "metadata": {},
   "outputs": [],
   "source": [
    "provider_classes = [SnapchatProvider]"
   ]
  },
  {
   "cell_type": "markdown",
   "metadata": {},
   "source": []
  }
 ],
 "metadata": {
  "language_info": {
   "name": "python"
  }
 },
 "nbformat": 4,
 "nbformat_minor": 2
}