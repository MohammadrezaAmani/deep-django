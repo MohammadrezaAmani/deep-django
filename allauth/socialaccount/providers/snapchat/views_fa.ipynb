{
 "cells": [
  {
   "cell_type": "code",
   "execution_count": null,
   "metadata": {},
   "outputs": [],
   "source": [
    "from allauth.socialaccount import app_settings\n",
    "from allauth.socialaccount.adapter import get_adapter\n",
    "from allauth.socialaccount.providers.oauth2.client import OAuth2Error\n",
    "from allauth.socialaccount.providers.oauth2.views import (\n",
    "    OAuth2Adapter,\n",
    "    OAuth2CallbackView,\n",
    "    OAuth2LoginView,\n",
    ")\n",
    "from allauth.socialaccount.providers.snapchat.constants import PROVIDER_ID, Scope"
   ]
  },
  {
   "cell_type": "markdown",
   "metadata": {},
   "source": []
  },
  {
   "cell_type": "code",
   "execution_count": null,
   "metadata": {},
   "outputs": [],
   "source": [
    "class SnapchatOAuth2Adapter(OAuth2Adapter):\n",
    "    provider_id = PROVIDER_ID\n",
    "\n",
    "    access_token_url = \"https://accounts.snapchat.com/accounts/oauth2/token\"\n",
    "    authorize_url = \"https://accounts.snapchat.com/accounts/oauth2/auth\"\n",
    "    identity_url = \"https://api.snapkit.com/v1/me\"\n",
    "\n",
    "    def complete_login(self, request, app, token, **kwargs):\n",
    "        extra_data = self.get_data(token.token)\n",
    "        return self.get_provider().sociallogin_from_response(request, extra_data)\n",
    "\n",
    "    def get_data(self, token):\n",
    "        settings = app_settings.PROVIDERS.get(self.provider_id, {})\n",
    "        provider_scope = settings.get(\n",
    "            \"SCOPE\",\n",
    "            \"['https://auth.snapchat.com/oauth2/api/user.external_id', 'https://auth.snapchat.com/oauth2/api/user.display_name']\",\n",
    "        )\n",
    "\n",
    "        hed = {\n",
    "            \"Authorization\": \"Bearer \" + token,\n",
    "            \"Content-Type\": \"application/json;charset=UTF-8\",\n",
    "        }\n",
    "        if Scope.BITMOJI in provider_scope:\n",
    "            data = {\"query\": \"{ me { externalId displayName bitmoji { avatar id } } }\"}\n",
    "        else:\n",
    "            data = {\"query\": \"{ me { externalId displayName } }\"}\n",
    "        resp = (\n",
    "            get_adapter()\n",
    "            .get_requests_session()\n",
    "            .post(self.identity_url, headers=hed, json=data)\n",
    "        )\n",
    "        resp.raise_for_status()\n",
    "        resp = resp.json()\n",
    "\n",
    "        if not resp.get(\"data\"):\n",
    "            raise OAuth2Error()\n",
    "\n",
    "        return resp"
   ]
  },
  {
   "cell_type": "markdown",
   "metadata": {},
   "source": []
  },
  {
   "cell_type": "code",
   "execution_count": null,
   "metadata": {},
   "outputs": [],
   "source": [
    "oauth2_login = OAuth2LoginView.adapter_view(SnapchatOAuth2Adapter)\n",
    "oauth2_callback = OAuth2CallbackView.adapter_view(SnapchatOAuth2Adapter)"
   ]
  },
  {
   "cell_type": "markdown",
   "metadata": {},
   "source": []
  }
 ],
 "metadata": {
  "language_info": {
   "name": "python"
  }
 },
 "nbformat": 4,
 "nbformat_minor": 2
}