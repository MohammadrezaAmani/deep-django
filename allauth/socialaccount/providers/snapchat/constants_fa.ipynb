{
    "cells": [
        {
            "cell_type": "code",
            "execution_count": null,
            "metadata": {},
            "outputs": [],
            "source": [
                "PROVIDER_ID = \"snapchat\"\n"
            ]
        },
        {
            "cell_type": "markdown",
            "metadata": {},
            "source": []
        },
        {
            "cell_type": "code",
            "execution_count": null,
            "metadata": {},
            "outputs": [],
            "source": [
                "class Scope(object):\n",
                "    EXTERNAL_ID = \"https://auth.snapchat.com/oauth2/api/user.external_id\"\n",
                "    DISPLAY_NAME = \"https://auth.snapchat.com/oauth2/api/user.display_name\"\n",
                "    BITMOJI = \"https://auth.snapchat.com/oauth2/api/user.bitmoji.avatar\"\n",
                "\n"
            ]
        },
        {
            "cell_type": "markdown",
            "metadata": {},
            "source": []
        }
    ],
    "metadata": {
        "language_info": {
            "name": "python"
        }
    },
    "nbformat": 4,
    "nbformat_minor": 2
}