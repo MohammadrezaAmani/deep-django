{
    "cells": [
        {
            "cell_type": "code",
            "execution_count": null,
            "metadata": {},
            "outputs": [],
            "source": [
                "# -*- coding: utf-8 -*-\n",
                "from allauth.socialaccount.providers.auth0.provider import Auth0Provider\n",
                "from allauth.socialaccount.providers.oauth2.urls import default_urlpatterns\n",
                "\n",
                "urlpatterns = default_urlpatterns(Auth0Provider)\n",
                "\n"
            ]
        },
        {
            "cell_type": "markdown",
            "metadata": {},
            "source": []
        }
    ],
    "metadata": {
        "language_info": {
            "name": "python"
        }
    },
    "nbformat": 4,
    "nbformat_minor": 2
}