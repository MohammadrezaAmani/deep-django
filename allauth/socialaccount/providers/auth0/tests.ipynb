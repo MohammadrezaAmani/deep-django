{
    "cells": [
        {
            "cell_type": "code",
            "execution_count": null,
            "metadata": {},
            "outputs": [],
            "source": [
                "# -*- coding: utf-8 -*-\n",
                "from allauth.socialaccount.providers.auth0.provider import Auth0Provider\n",
                "from allauth.socialaccount.tests import OAuth2TestsMixin\n",
                "from allauth.tests import MockedResponse, TestCase\n"
            ]
        },
        {
            "cell_type": "markdown",
            "metadata": {},
            "source": []
        },
        {
            "cell_type": "code",
            "execution_count": null,
            "metadata": {},
            "outputs": [],
            "source": [
                "class Auth0Tests(OAuth2TestsMixin, TestCase):\n",
                "    provider_id = Auth0Provider.id\n",
                "\n",
                "    def get_mocked_response(self):\n",
                "        return MockedResponse(\n",
                "            200,\n",
                "            \"\"\"\n",
                "            {\n",
                "                \"picture\": \"https://secure.gravatar.com/avatar/123\",\n",
                "                \"email\": \"mr.bob@your.Auth0.server.example.com\",\n",
                "                \"id\": 2,\n",
                "                \"sub\": 2,\n",
                "                \"identities\": [],\n",
                "                \"name\": \"Mr Bob\"\n",
                "            }\n",
                "        \"\"\",\n",
                "        )\n",
                "\n"
            ]
        },
        {
            "cell_type": "markdown",
            "metadata": {},
            "source": []
        }
    ],
    "metadata": {
        "language_info": {
            "name": "python"
        }
    },
    "nbformat": 4,
    "nbformat_minor": 2
}