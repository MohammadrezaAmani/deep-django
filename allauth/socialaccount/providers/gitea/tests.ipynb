{
 "cells": [
  {
   "cell_type": "code",
   "execution_count": null,
   "metadata": {},
   "outputs": [],
   "source": [
    "from allauth.socialaccount.models import SocialAccount\n",
    "from allauth.socialaccount.tests import OAuth2TestsMixin\n",
    "from allauth.tests import MockedResponse, TestCase\n",
    "\n",
    "from .provider import GiteaProvider"
   ]
  },
  {
   "cell_type": "markdown",
   "metadata": {},
   "source": []
  },
  {
   "cell_type": "code",
   "execution_count": null,
   "metadata": {},
   "outputs": [],
   "source": [
    "class GiteaTests(OAuth2TestsMixin, TestCase):\n",
    "    provider_id = GiteaProvider.id\n",
    "\n",
    "    def get_mocked_response(self):\n",
    "        return MockedResponse(\n",
    "            200,\n",
    "            \"\"\"\n",
    "            {\n",
    "                \"id\": 4940,\n",
    "                \"login\": \"giteauser\",\n",
    "                \"full_name\": \"\",\n",
    "                \"email\": \"giteauser@example.com\",\n",
    "                \"avatar_url\": \"https://gitea.com/user/avatar/giteauser/-1\",\n",
    "                \"language\": \"en-US\",\n",
    "                \"is_admin\": true,\n",
    "                \"last_login\": \"2021-08-20T20:07:39Z\",\n",
    "                \"created\": \"2018-05-03T16:04:34Z\",\n",
    "                \"restricted\": false,\n",
    "                \"active\": true,\n",
    "                \"prohibit_login\": false,\n",
    "                \"location\": \"\",\n",
    "                \"website\": \"\",\n",
    "                \"description\": \"\",\n",
    "                \"visibility\": \"public\",\n",
    "                \"followers_count\": 0,\n",
    "                \"following_count\": 0,\n",
    "                \"starred_repos_count\": 0,\n",
    "                \"username\": \"giteauser\"\n",
    "            }\"\"\",\n",
    "        )\n",
    "\n",
    "    def test_account_name_null(self):\n",
    "        \"\"\"String conversion when Gitea responds with empty username\"\"\"\n",
    "        data = \"\"\"{\n",
    "            \"id\": 4940,\n",
    "            \"login\": \"giteauser\",\n",
    "            \"username\": null\n",
    "        }\"\"\"\n",
    "        self.login(MockedResponse(200, data))\n",
    "        socialaccount = SocialAccount.objects.get(uid=\"4940\")\n",
    "        self.assertIsNone(socialaccount.extra_data.get(\"name\"))\n",
    "        account = socialaccount.get_provider_account()\n",
    "        self.assertIsNotNone(account.to_str())\n",
    "        self.assertEqual(account.to_str(), \"giteauser\")"
   ]
  },
  {
   "cell_type": "markdown",
   "metadata": {},
   "source": []
  }
 ],
 "metadata": {
  "language_info": {
   "name": "python"
  }
 },
 "nbformat": 4,
 "nbformat_minor": 2
}