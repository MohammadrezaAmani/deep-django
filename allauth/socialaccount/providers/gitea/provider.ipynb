{
    "cells": [
        {
            "cell_type": "code",
            "execution_count": null,
            "metadata": {},
            "outputs": [],
            "source": [
                "from allauth.socialaccount.providers.base import ProviderAccount\n",
                "from allauth.socialaccount.providers.gitea.views import GiteaOAuth2Adapter\n",
                "from allauth.socialaccount.providers.oauth2.provider import OAuth2Provider\n"
            ]
        },
        {
            "cell_type": "markdown",
            "metadata": {},
            "source": []
        },
        {
            "cell_type": "code",
            "execution_count": null,
            "metadata": {},
            "outputs": [],
            "source": [
                "class GiteaAccount(ProviderAccount):\n",
                "    def get_profile_url(self):\n",
                "        return self.account.extra_data.get(\"html_url\")\n",
                "\n",
                "    def get_avatar_url(self):\n",
                "        return self.account.extra_data.get(\"avatar_url\")\n",
                "\n",
                "    def to_str(self):\n",
                "        dflt = super(GiteaAccount, self).to_str()\n",
                "        return next(\n",
                "            value\n",
                "            for value in (\n",
                "                self.account.extra_data.get(\"username\", None),\n",
                "                self.account.extra_data.get(\"login\", None),\n",
                "                dflt,\n",
                "            )\n",
                "            if value is not None\n",
                "        )\n"
            ]
        },
        {
            "cell_type": "markdown",
            "metadata": {},
            "source": []
        },
        {
            "cell_type": "code",
            "execution_count": null,
            "metadata": {},
            "outputs": [],
            "source": [
                "class GiteaProvider(OAuth2Provider):\n",
                "    id = \"gitea\"\n",
                "    name = \"Gitea\"\n",
                "    account_class = GiteaAccount\n",
                "    oauth2_adapter_class = GiteaOAuth2Adapter\n",
                "\n",
                "    def get_default_scope(self):\n",
                "        scope = []\n",
                "        return scope\n",
                "\n",
                "    def extract_uid(self, data):\n",
                "        return str(data[\"id\"])\n",
                "\n",
                "    def extract_common_fields(self, data):\n",
                "        return dict(\n",
                "            email=data.get(\"email\"),\n",
                "            username=data.get(\"login\"),\n",
                "            name=data.get(\"name\"),\n",
                "        )\n"
            ]
        },
        {
            "cell_type": "markdown",
            "metadata": {},
            "source": []
        },
        {
            "cell_type": "code",
            "execution_count": null,
            "metadata": {},
            "outputs": [],
            "source": [
                "provider_classes = [GiteaProvider]\n",
                "\n"
            ]
        },
        {
            "cell_type": "markdown",
            "metadata": {},
            "source": []
        }
    ],
    "metadata": {
        "language_info": {
            "name": "python"
        }
    },
    "nbformat": 4,
    "nbformat_minor": 2
}