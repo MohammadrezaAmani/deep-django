{
 "cells": [
  {
   "cell_type": "code",
   "execution_count": null,
   "metadata": {},
   "outputs": [],
   "source": [
    "from allauth.socialaccount import app_settings\n",
    "from allauth.socialaccount.adapter import get_adapter\n",
    "from allauth.socialaccount.providers.oauth2.views import (\n",
    "    OAuth2Adapter,\n",
    "    OAuth2CallbackView,\n",
    "    OAuth2LoginView,\n",
    ")"
   ]
  },
  {
   "cell_type": "markdown",
   "metadata": {},
   "source": []
  },
  {
   "cell_type": "code",
   "execution_count": null,
   "metadata": {},
   "outputs": [],
   "source": [
    "class GiteaOAuth2Adapter(OAuth2Adapter):\n",
    "    provider_id = \"gitea\"\n",
    "    settings = app_settings.PROVIDERS.get(provider_id, {})\n",
    "\n",
    "    if \"GITEA_URL\" in settings:\n",
    "        web_url = settings.get(\"GITEA_URL\").rstrip(\"/\")\n",
    "    else:\n",
    "        web_url = \"https://gitea.com\"\n",
    "    api_url = \"{0}/api/v1\".format(web_url)\n",
    "\n",
    "    access_token_url = \"{0}/login/oauth/access_token\".format(web_url)\n",
    "    authorize_url = \"{0}/login/oauth/authorize\".format(web_url)\n",
    "    profile_url = \"{0}/user\".format(api_url)\n",
    "\n",
    "    def complete_login(self, request, app, token, **kwargs):\n",
    "        headers = {\"Authorization\": \"token {}\".format(token.token)}\n",
    "        resp = (\n",
    "            get_adapter().get_requests_session().get(self.profile_url, headers=headers)\n",
    "        )\n",
    "        resp.raise_for_status()\n",
    "        extra_data = resp.json()\n",
    "        return self.get_provider().sociallogin_from_response(request, extra_data)"
   ]
  },
  {
   "cell_type": "markdown",
   "metadata": {},
   "source": []
  },
  {
   "cell_type": "code",
   "execution_count": null,
   "metadata": {},
   "outputs": [],
   "source": [
    "oauth2_login = OAuth2LoginView.adapter_view(GiteaOAuth2Adapter)\n",
    "oauth2_callback = OAuth2CallbackView.adapter_view(GiteaOAuth2Adapter)"
   ]
  },
  {
   "cell_type": "markdown",
   "metadata": {},
   "source": []
  }
 ],
 "metadata": {
  "language_info": {
   "name": "python"
  }
 },
 "nbformat": 4,
 "nbformat_minor": 2
}