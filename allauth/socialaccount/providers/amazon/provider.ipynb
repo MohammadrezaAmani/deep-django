{
    "cells": [
        {
            "cell_type": "code",
            "execution_count": null,
            "metadata": {},
            "outputs": [],
            "source": [
                "from allauth.socialaccount.providers.amazon.views import AmazonOAuth2Adapter\n",
                "from allauth.socialaccount.providers.base import ProviderAccount\n",
                "from allauth.socialaccount.providers.oauth2.provider import OAuth2Provider\n"
            ]
        },
        {
            "cell_type": "markdown",
            "metadata": {},
            "source": []
        },
        {
            "cell_type": "code",
            "execution_count": null,
            "metadata": {},
            "outputs": [],
            "source": [
                "class AmazonAccount(ProviderAccount):\n",
                "    def to_str(self):\n",
                "        return self.account.extra_data.get(\"name\", super(AmazonAccount, self).to_str())\n"
            ]
        },
        {
            "cell_type": "markdown",
            "metadata": {},
            "source": []
        },
        {
            "cell_type": "code",
            "execution_count": null,
            "metadata": {},
            "outputs": [],
            "source": [
                "class AmazonProvider(OAuth2Provider):\n",
                "    id = \"amazon\"\n",
                "    name = \"Amazon\"\n",
                "    account_class = AmazonAccount\n",
                "    oauth2_adapter_class = AmazonOAuth2Adapter\n",
                "\n",
                "    def get_default_scope(self):\n",
                "        return [\"profile\"]\n",
                "\n",
                "    def extract_uid(self, data):\n",
                "        return str(data[\"user_id\"])\n",
                "\n",
                "    def extract_common_fields(self, data):\n",
                "        # Hackish way of splitting the fullname.\n",
                "        # Assumes no middlenames.\n",
                "        name = data.get(\"name\", \"\")\n",
                "        first_name, last_name = name, \"\"\n",
                "        if name and \" \" in name:\n",
                "            first_name, last_name = name.split(\" \", 1)\n",
                "        return dict(\n",
                "            email=data.get(\"email\", \"\"), last_name=last_name, first_name=first_name\n",
                "        )\n"
            ]
        },
        {
            "cell_type": "markdown",
            "metadata": {},
            "source": []
        },
        {
            "cell_type": "code",
            "execution_count": null,
            "metadata": {},
            "outputs": [],
            "source": [
                "provider_classes = [AmazonProvider]\n",
                "\n"
            ]
        },
        {
            "cell_type": "markdown",
            "metadata": {},
            "source": []
        }
    ],
    "metadata": {
        "language_info": {
            "name": "python"
        }
    },
    "nbformat": 4,
    "nbformat_minor": 2
}