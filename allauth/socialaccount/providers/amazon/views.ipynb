{
 "cells": [
  {
   "cell_type": "code",
   "execution_count": null,
   "metadata": {},
   "outputs": [],
   "source": [
    "from allauth.socialaccount.adapter import get_adapter\n",
    "from allauth.socialaccount.providers.oauth2.views import (\n",
    "    OAuth2Adapter,\n",
    "    OAuth2CallbackView,\n",
    "    OAuth2LoginView,\n",
    ")"
   ]
  },
  {
   "cell_type": "markdown",
   "metadata": {},
   "source": []
  },
  {
   "cell_type": "code",
   "execution_count": null,
   "metadata": {},
   "outputs": [],
   "source": [
    "class AmazonOAuth2Adapter(OAuth2Adapter):\n",
    "    provider_id = \"amazon\"\n",
    "    access_token_url = \"https://api.amazon.com/auth/o2/token\"\n",
    "    authorize_url = \"http://www.amazon.com/ap/oa\"\n",
    "    profile_url = \"https://api.amazon.com/user/profile\"\n",
    "\n",
    "    def complete_login(self, request, app, token, **kwargs):\n",
    "        response = (\n",
    "            get_adapter()\n",
    "            .get_requests_session()\n",
    "            .get(self.profile_url, params={\"access_token\": token})\n",
    "        )\n",
    "        extra_data = response.json()\n",
    "        if \"Profile\" in extra_data:\n",
    "            extra_data = {\n",
    "                \"user_id\": extra_data[\"Profile\"][\"CustomerId\"],\n",
    "                \"name\": extra_data[\"Profile\"][\"Name\"],\n",
    "                \"email\": extra_data[\"Profile\"][\"PrimaryEmail\"],\n",
    "            }\n",
    "        return self.get_provider().sociallogin_from_response(request, extra_data)"
   ]
  },
  {
   "cell_type": "markdown",
   "metadata": {},
   "source": []
  },
  {
   "cell_type": "code",
   "execution_count": null,
   "metadata": {},
   "outputs": [],
   "source": [
    "oauth2_login = OAuth2LoginView.adapter_view(AmazonOAuth2Adapter)\n",
    "oauth2_callback = OAuth2CallbackView.adapter_view(AmazonOAuth2Adapter)"
   ]
  },
  {
   "cell_type": "markdown",
   "metadata": {},
   "source": []
  }
 ],
 "metadata": {
  "language_info": {
   "name": "python"
  }
 },
 "nbformat": 4,
 "nbformat_minor": 2
}