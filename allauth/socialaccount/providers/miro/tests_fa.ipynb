{
 "cells": [
  {
   "cell_type": "code",
   "execution_count": null,
   "metadata": {},
   "outputs": [],
   "source": [
    "from allauth.socialaccount.providers.miro.provider import MiroProvider\n",
    "from allauth.socialaccount.tests import OAuth2TestsMixin\n",
    "from allauth.tests import MockedResponse, TestCase"
   ]
  },
  {
   "cell_type": "markdown",
   "metadata": {},
   "source": []
  },
  {
   "cell_type": "code",
   "execution_count": null,
   "metadata": {},
   "outputs": [],
   "source": [
    "class MiroTests(OAuth2TestsMixin, TestCase):\n",
    "    provider_id = MiroProvider.id\n",
    "\n",
    "    def get_mocked_response(self):\n",
    "        return MockedResponse(\n",
    "            200,\n",
    "            \"\"\"{\n",
    "                \"type\" : \"user\",\n",
    "                \"id\" : \"5298357290348572584\",\n",
    "                \"name\" : \"Pavel Oborin\",\n",
    "                \"createdAt\" : \"2017-03-23T09:41:01Z\",\n",
    "                \"role\" : \"developer\",\n",
    "                \"email\" : \"oborin.p@gmail.com\",\n",
    "                \"state\" : \"registered\",\n",
    "                \"picture\" : {\n",
    "                    \"type\" : \"picture\",\n",
    "                    \"id\" : \"Optional[5289752983457238457]\",\n",
    "                    \"imageUrl\" : \"https://r.miro.com/some/image\"\n",
    "                }\n",
    "            }\"\"\",\n",
    "        )"
   ]
  },
  {
   "cell_type": "markdown",
   "metadata": {},
   "source": []
  }
 ],
 "metadata": {
  "language_info": {
   "name": "python"
  }
 },
 "nbformat": 4,
 "nbformat_minor": 2
}