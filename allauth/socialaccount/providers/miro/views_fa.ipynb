{
    "cells": [
        {
            "cell_type": "code",
            "execution_count": null,
            "metadata": {},
            "outputs": [],
            "source": [
                "from allauth.socialaccount.adapter import get_adapter\n",
                "from allauth.socialaccount.providers.oauth2.views import (\n",
                "    OAuth2Adapter,\n",
                "    OAuth2CallbackView,\n",
                "    OAuth2LoginView,\n",
                ")\n"
            ]
        },
        {
            "cell_type": "markdown",
            "metadata": {},
            "source": []
        },
        {
            "cell_type": "code",
            "execution_count": null,
            "metadata": {},
            "outputs": [],
            "source": [
                "class MiroOAuth2Adapter(OAuth2Adapter):\n",
                "    provider_id = \"miro\"\n",
                "    access_token_url = \"https://api.miro.com/v1/oauth/token\"\n",
                "    authorize_url = \"https://miro.com/oauth/authorize\"\n",
                "    profile_url = \"https://api.miro.com/v1/users/me\"\n",
                "\n",
                "    def complete_login(self, request, app, token, response):\n",
                "        headers = {\n",
                "            \"Authorization\": f\"Bearer {token.token}\",\n",
                "            \"Content-Type\": \"application/json\",\n",
                "        }\n",
                "        extra_data = (\n",
                "            get_adapter().get_requests_session().get(self.profile_url, headers=headers)\n",
                "        )\n",
                "        extra_data.raise_for_status()\n",
                "        return self.get_provider().sociallogin_from_response(request, extra_data.json())\n"
            ]
        },
        {
            "cell_type": "markdown",
            "metadata": {},
            "source": []
        },
        {
            "cell_type": "code",
            "execution_count": null,
            "metadata": {},
            "outputs": [],
            "source": [
                "oauth2_login = OAuth2LoginView.adapter_view(MiroOAuth2Adapter)\n",
                "oauth2_callback = OAuth2CallbackView.adapter_view(MiroOAuth2Adapter)\n",
                "\n"
            ]
        },
        {
            "cell_type": "markdown",
            "metadata": {},
            "source": []
        }
    ],
    "metadata": {
        "language_info": {
            "name": "python"
        }
    },
    "nbformat": 4,
    "nbformat_minor": 2
}