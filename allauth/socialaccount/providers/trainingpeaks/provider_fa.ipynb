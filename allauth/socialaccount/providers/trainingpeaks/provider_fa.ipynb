{
 "cells": [
  {
   "cell_type": "code",
   "execution_count": null,
   "metadata": {},
   "outputs": [],
   "source": [
    "from allauth.socialaccount.providers.base import ProviderAccount\n",
    "from allauth.socialaccount.providers.oauth2.provider import OAuth2Provider\n",
    "from allauth.socialaccount.providers.trainingpeaks.views import (\n",
    "    TrainingPeaksOAuth2Adapter,\n",
    ")"
   ]
  },
  {
   "cell_type": "markdown",
   "metadata": {},
   "source": []
  },
  {
   "cell_type": "code",
   "execution_count": null,
   "metadata": {},
   "outputs": [],
   "source": [
    "class TrainingPeaksAccount(ProviderAccount):\n",
    "    def get_profile_url(self):\n",
    "        return \"https://app.trainingpeaks.com\"\n",
    "\n",
    "    def get_avatar_url(self):\n",
    "        return None\n",
    "\n",
    "    def to_str(self):\n",
    "        name = (\n",
    "            self.account.extra_data.get(\"FirstName\")\n",
    "            + \" \"\n",
    "            + self.account.extra_data.get(\"LastName\")\n",
    "        )\n",
    "        if name != \" \":\n",
    "            return name\n",
    "        return super(TrainingPeaksAccount, self).to_str()"
   ]
  },
  {
   "cell_type": "markdown",
   "metadata": {},
   "source": []
  },
  {
   "cell_type": "code",
   "execution_count": null,
   "metadata": {},
   "outputs": [],
   "source": [
    "class TrainingPeaksProvider(OAuth2Provider):\n",
    "    id = \"trainingpeaks\"\n",
    "    name = \"TrainingPeaks\"\n",
    "    account_class = TrainingPeaksAccount\n",
    "    oauth2_adapter_class = TrainingPeaksOAuth2Adapter\n",
    "\n",
    "    def extract_uid(self, data):\n",
    "        return str(data[\"Id\"])\n",
    "\n",
    "    def extract_common_fields(self, data):\n",
    "        extra_common = super(TrainingPeaksProvider, self).extract_common_fields(data)\n",
    "        firstname = data.get(\"FirstName\")\n",
    "        lastname = data.get(\"LastName\")\n",
    "        # fallback username as there is actually no Username in response\n",
    "        username = firstname.strip().lower() + \".\" + lastname.strip().lower()\n",
    "        name = \" \".join(part for part in (firstname, lastname) if part)\n",
    "        extra_common.update(\n",
    "            username=data.get(\"username\", username),\n",
    "            email=data.get(\"Email\"),\n",
    "            first_name=firstname,\n",
    "            last_name=lastname,\n",
    "            name=name.strip(),\n",
    "        )\n",
    "        return extra_common\n",
    "\n",
    "    def get_default_scope(self):\n",
    "        return [\"athlete:profile\"]"
   ]
  },
  {
   "cell_type": "markdown",
   "metadata": {},
   "source": []
  },
  {
   "cell_type": "code",
   "execution_count": null,
   "metadata": {},
   "outputs": [],
   "source": [
    "provider_classes = [TrainingPeaksProvider]"
   ]
  },
  {
   "cell_type": "markdown",
   "metadata": {},
   "source": []
  }
 ],
 "metadata": {
  "language_info": {
   "name": "python"
  }
 },
 "nbformat": 4,
 "nbformat_minor": 2
}