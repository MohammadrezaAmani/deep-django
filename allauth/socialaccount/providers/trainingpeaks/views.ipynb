{
 "cells": [
  {
   "cell_type": "code",
   "execution_count": null,
   "metadata": {},
   "outputs": [],
   "source": [
    "from allauth.socialaccount import app_settings\n",
    "from allauth.socialaccount.adapter import get_adapter\n",
    "from allauth.socialaccount.providers.oauth2.views import (\n",
    "    OAuth2Adapter,\n",
    "    OAuth2CallbackView,\n",
    "    OAuth2LoginView,\n",
    ")"
   ]
  },
  {
   "cell_type": "markdown",
   "metadata": {},
   "source": []
  },
  {
   "cell_type": "code",
   "execution_count": null,
   "metadata": {},
   "outputs": [],
   "source": [
    "class TrainingPeaksOAuth2Adapter(OAuth2Adapter):\n",
    "    # https://github.com/TrainingPeaks/PartnersAPI/wiki/OAuth\n",
    "    provider_id = \"trainingpeaks\"\n",
    "\n",
    "    def get_settings(self):\n",
    "        \"\"\"Provider settings\"\"\"\n",
    "        return app_settings.PROVIDERS.get(self.provider_id, {})\n",
    "\n",
    "    def get_hostname(self):\n",
    "        \"\"\"Return hostname depending on sandbox setting\"\"\"\n",
    "        settings = self.get_settings()\n",
    "        if settings.get(\"USE_PRODUCTION\"):\n",
    "            return \"trainingpeaks.com\"\n",
    "        return \"sandbox.trainingpeaks.com\"\n",
    "\n",
    "    @property\n",
    "    def access_token_url(self):\n",
    "        return \"https://oauth.\" + self.get_hostname() + \"/oauth/token\"\n",
    "\n",
    "    @property\n",
    "    def authorize_url(self):\n",
    "        return \"https://oauth.\" + self.get_hostname() + \"/OAuth/Authorize\"\n",
    "\n",
    "    @property\n",
    "    def profile_url(self):\n",
    "        return \"https://api.\" + self.get_hostname() + \"/v1/athlete/profile\"\n",
    "\n",
    "    @property\n",
    "    def api_hostname(self):\n",
    "        \"\"\"Return https://api.hostname.tld\"\"\"\n",
    "        return \"https://api.\" + self.get_hostname()\n",
    "\n",
    "    # https://oauth.sandbox.trainingpeaks.com/oauth/deauthorize\n",
    "\n",
    "    scope_delimiter = \" \"\n",
    "\n",
    "    def complete_login(self, request, app, token, **kwargs):\n",
    "        headers = {\"Authorization\": \"Bearer {0}\".format(token.token)}\n",
    "        response = (\n",
    "            get_adapter().get_requests_session().get(self.profile_url, headers=headers)\n",
    "        )\n",
    "        response.raise_for_status()\n",
    "        extra_data = response.json()\n",
    "        return self.get_provider().sociallogin_from_response(request, extra_data)"
   ]
  },
  {
   "cell_type": "markdown",
   "metadata": {},
   "source": []
  },
  {
   "cell_type": "code",
   "execution_count": null,
   "metadata": {},
   "outputs": [],
   "source": [
    "oauth2_login = OAuth2LoginView.adapter_view(TrainingPeaksOAuth2Adapter)\n",
    "oauth2_callback = OAuth2CallbackView.adapter_view(TrainingPeaksOAuth2Adapter)"
   ]
  },
  {
   "cell_type": "markdown",
   "metadata": {},
   "source": []
  }
 ],
 "metadata": {
  "language_info": {
   "name": "python"
  }
 },
 "nbformat": 4,
 "nbformat_minor": 2
}