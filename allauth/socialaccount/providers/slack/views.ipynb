{
    "cells": [
        {
            "cell_type": "code",
            "execution_count": null,
            "metadata": {},
            "outputs": [],
            "source": [
                "from allauth.socialaccount.adapter import get_adapter\n",
                "from allauth.socialaccount.providers.oauth2.client import OAuth2Error\n",
                "from allauth.socialaccount.providers.oauth2.views import (\n",
                "    OAuth2Adapter,\n",
                "    OAuth2CallbackView,\n",
                "    OAuth2LoginView,\n",
                ")\n"
            ]
        },
        {
            "cell_type": "markdown",
            "metadata": {},
            "source": []
        },
        {
            "cell_type": "code",
            "execution_count": null,
            "metadata": {},
            "outputs": [],
            "source": [
                "class SlackOAuth2Adapter(OAuth2Adapter):\n",
                "    provider_id = \"slack\"\n",
                "\n",
                "    access_token_url = \"https://slack.com/api/openid.connect.token\"\n",
                "    authorize_url = \"https://slack.com//openid/connect/authorize\"\n",
                "    identity_url = \"https://slack.com/api/openid.connect.userInfo\"\n",
                "\n",
                "    def complete_login(self, request, app, token, **kwargs):\n",
                "        extra_data = self.get_data(token.token)\n",
                "        return self.get_provider().sociallogin_from_response(request, extra_data)\n",
                "\n",
                "    def get_data(self, token):\n",
                "        # Verify the user first\n",
                "        hed = {\"Authorization\": \"Bearer \" + token}\n",
                "        resp = get_adapter().get_requests_session().get(self.identity_url, headers=hed)\n",
                "        resp = resp.json()\n",
                "\n",
                "        if not resp.get(\"ok\"):\n",
                "            raise OAuth2Error()\n",
                "\n",
                "        return resp\n"
            ]
        },
        {
            "cell_type": "markdown",
            "metadata": {},
            "source": []
        },
        {
            "cell_type": "code",
            "execution_count": null,
            "metadata": {},
            "outputs": [],
            "source": [
                "oauth2_login = OAuth2LoginView.adapter_view(SlackOAuth2Adapter)\n",
                "oauth2_callback = OAuth2CallbackView.adapter_view(SlackOAuth2Adapter)\n",
                "\n"
            ]
        },
        {
            "cell_type": "markdown",
            "metadata": {},
            "source": []
        }
    ],
    "metadata": {
        "language_info": {
            "name": "python"
        }
    },
    "nbformat": 4,
    "nbformat_minor": 2
}