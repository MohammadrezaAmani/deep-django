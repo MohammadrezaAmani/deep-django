{
    "cells": [
        {
            "cell_type": "code",
            "execution_count": null,
            "metadata": {},
            "outputs": [],
            "source": [
                "from allauth.socialaccount.providers.base import ProviderAccount\n",
                "from allauth.socialaccount.providers.oauth2.provider import OAuth2Provider\n",
                "from allauth.socialaccount.providers.slack.views import SlackOAuth2Adapter\n"
            ]
        },
        {
            "cell_type": "markdown",
            "metadata": {},
            "source": []
        },
        {
            "cell_type": "code",
            "execution_count": null,
            "metadata": {},
            "outputs": [],
            "source": [
                "class SlackAccount(ProviderAccount):\n",
                "    def get_avatar_url(self):\n",
                "        return self.account.extra_data.get(\"user\").get(\"image_192\", None)\n",
                "\n",
                "    def to_str(self):\n",
                "        dflt = super(SlackAccount, self).to_str()\n",
                "        return \"%s (%s)\" % (\n",
                "            self.account.extra_data.get(\"name\", \"\"),\n",
                "            dflt,\n",
                "        )\n"
            ]
        },
        {
            "cell_type": "markdown",
            "metadata": {},
            "source": []
        },
        {
            "cell_type": "code",
            "execution_count": null,
            "metadata": {},
            "outputs": [],
            "source": [
                "class SlackProvider(OAuth2Provider):\n",
                "    id = \"slack\"\n",
                "    name = \"Slack\"\n",
                "    account_class = SlackAccount\n",
                "    oauth2_adapter_class = SlackOAuth2Adapter\n",
                "\n",
                "    def extract_uid(self, data):\n",
                "        team_id = data.get(\"https://slack.com/team_id\")\n",
                "        user_id = data.get(\"https://slack.com/user_id\")\n",
                "        if not (team_id and user_id):\n",
                "            team_id = data.get(\"team\").get(\"id\")\n",
                "            user_id = data.get(\"user\").get(\"id\")\n",
                "        return \"%s_%s\" % (\n",
                "            str(team_id),\n",
                "            str(user_id),\n",
                "        )\n",
                "\n",
                "    def extract_common_fields(self, data):\n",
                "        user = data.get(\"user\", {})\n",
                "        return {\"name\": user.get(\"name\"), \"email\": user.get(\"email\", None)}\n",
                "\n",
                "    def get_default_scope(self):\n",
                "        return [\"openid\", \"profile\", \"email\"]\n"
            ]
        },
        {
            "cell_type": "markdown",
            "metadata": {},
            "source": []
        },
        {
            "cell_type": "code",
            "execution_count": null,
            "metadata": {},
            "outputs": [],
            "source": [
                "provider_classes = [SlackProvider]\n",
                "\n"
            ]
        },
        {
            "cell_type": "markdown",
            "metadata": {},
            "source": []
        }
    ],
    "metadata": {
        "language_info": {
            "name": "python"
        }
    },
    "nbformat": 4,
    "nbformat_minor": 2
}