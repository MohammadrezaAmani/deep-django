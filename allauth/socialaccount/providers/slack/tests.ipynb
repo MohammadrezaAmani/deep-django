{
    "cells": [
        {
            "cell_type": "code",
            "execution_count": null,
            "metadata": {},
            "outputs": [],
            "source": [
                "from allauth.socialaccount.tests import OAuth2TestsMixin\n",
                "from allauth.tests import MockedResponse, TestCase\n",
                "\n",
                "from .provider import SlackProvider\n"
            ]
        },
        {
            "cell_type": "markdown",
            "metadata": {},
            "source": []
        },
        {
            "cell_type": "code",
            "execution_count": null,
            "metadata": {},
            "outputs": [],
            "source": [
                "class SlackOAuth2Tests(OAuth2TestsMixin, TestCase):\n",
                "    provider_id = SlackProvider.id\n",
                "\n",
                "    def get_mocked_response(self):\n",
                "        return MockedResponse(\n",
                "            200,\n",
                "            \"\"\"{\n",
                "          \"ok\": true,\n",
                "          \"url\": \"https:\\\\/\\\\/myteam.slack.com\\\\/\",\n",
                "          \"team\": {\"name\": \"My Team\", \"id\": \"U0G9QF9C6\"},\n",
                "          \"user\": {\"id\": \"T0G9PQBBK\"},\n",
                "          \"team_id\": \"T12345\",\n",
                "          \"user_id\": \"U12345\"\n",
                "        }\"\"\",\n",
                "        )  # noqa\n",
                "\n"
            ]
        },
        {
            "cell_type": "markdown",
            "metadata": {},
            "source": []
        }
    ],
    "metadata": {
        "language_info": {
            "name": "python"
        }
    },
    "nbformat": 4,
    "nbformat_minor": 2
}