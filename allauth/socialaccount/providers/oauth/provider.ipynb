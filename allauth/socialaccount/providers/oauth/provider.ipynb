{
    "cells": [
        {
            "cell_type": "code",
            "execution_count": null,
            "metadata": {},
            "outputs": [],
            "source": [
                "from urllib.parse import parse_qsl\n",
                "\n",
                "from django.urls import reverse\n",
                "from django.utils.http import urlencode\n",
                "\n",
                "from allauth.socialaccount.providers.base import Provider\n"
            ]
        },
        {
            "cell_type": "markdown",
            "metadata": {},
            "source": []
        },
        {
            "cell_type": "code",
            "execution_count": null,
            "metadata": {},
            "outputs": [],
            "source": [
                "class OAuthProvider(Provider):\n",
                "    def get_login_url(self, request, **kwargs):\n",
                "        url = reverse(self.id + \"_login\")\n",
                "        if kwargs:\n",
                "            url = url + \"?\" + urlencode(kwargs)\n",
                "        return url\n",
                "\n",
                "    def get_auth_params_from_request(self, request, action):\n",
                "        settings = self.get_settings()\n",
                "        ret = dict(settings.get(\"AUTH_PARAMS\", {}))\n",
                "        dynamic_auth_params = request.GET.get(\"auth_params\", None)\n",
                "        if dynamic_auth_params:\n",
                "            ret.update(dict(parse_qsl(dynamic_auth_params)))\n",
                "        return ret\n",
                "\n",
                "    def get_auth_url(self, request, action):\n",
                "        # TODO: This is ugly. Move authorization_url away from the\n",
                "        # adapter into the provider. Hmpf, the line between\n",
                "        # adapter/provider is a bit too thin here.\n",
                "        return None\n",
                "\n",
                "    def get_scope_from_request(self, request):\n",
                "        return self.get_scope()\n",
                "\n",
                "    def get_scope(self):\n",
                "        settings = self.get_settings()\n",
                "        scope = settings.get(\"SCOPE\")\n",
                "        if scope is None:\n",
                "            scope = self.get_default_scope()\n",
                "        return scope\n",
                "\n",
                "    def get_default_scope(self):\n",
                "        return []\n",
                "\n"
            ]
        },
        {
            "cell_type": "markdown",
            "metadata": {},
            "source": []
        }
    ],
    "metadata": {
        "language_info": {
            "name": "python"
        }
    },
    "nbformat": 4,
    "nbformat_minor": 2
}