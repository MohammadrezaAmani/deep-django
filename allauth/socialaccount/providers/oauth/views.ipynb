{
    "cells": [
        {
            "cell_type": "code",
            "execution_count": null,
            "metadata": {},
            "outputs": [],
            "source": [
                "import logging\n",
                "\n",
                "from django.urls import reverse\n",
                "\n",
                "from allauth.socialaccount.adapter import get_adapter\n",
                "from allauth.socialaccount.helpers import (\n",
                "    complete_social_login,\n",
                "    render_authentication_error,\n",
                ")\n",
                "from allauth.socialaccount.models import SocialLogin, SocialToken\n",
                "from allauth.socialaccount.providers.base.constants import (\n",
                "    AuthAction,\n",
                "    AuthError,\n",
                ")\n",
                "from allauth.socialaccount.providers.base.mixins import OAuthLoginMixin\n",
                "from allauth.socialaccount.providers.oauth.client import (\n",
                "    OAuthClient,\n",
                "    OAuthError,\n",
                ")\n"
            ]
        },
        {
            "cell_type": "markdown",
            "metadata": {},
            "source": []
        },
        {
            "cell_type": "code",
            "execution_count": null,
            "metadata": {},
            "outputs": [],
            "source": [
                "logger = logging.getLogger(__name__)\n"
            ]
        },
        {
            "cell_type": "markdown",
            "metadata": {},
            "source": []
        },
        {
            "cell_type": "code",
            "execution_count": null,
            "metadata": {},
            "outputs": [],
            "source": [
                "class OAuthAdapter(object):\n",
                "    def __init__(self, request):\n",
                "        self.request = request\n",
                "\n",
                "    def complete_login(self, request, app):\n",
                "        \"\"\"\n",
                "        Returns a SocialLogin instance\n",
                "        \"\"\"\n",
                "        raise NotImplementedError\n",
                "\n",
                "    def get_provider(self):\n",
                "        adapter = get_adapter(self.request)\n",
                "        app = adapter.get_app(self.request, provider=self.provider_id)\n",
                "        return app.get_provider(self.request)\n"
            ]
        },
        {
            "cell_type": "markdown",
            "metadata": {},
            "source": []
        },
        {
            "cell_type": "code",
            "execution_count": null,
            "metadata": {},
            "outputs": [],
            "source": [
                "class OAuthView(object):\n",
                "    @classmethod\n",
                "    def adapter_view(cls, adapter):\n",
                "        def view(request, *args, **kwargs):\n",
                "            self = cls()\n",
                "            self.request = request\n",
                "            self.adapter = adapter(request)\n",
                "            return self.dispatch(request, *args, **kwargs)\n",
                "\n",
                "        return view\n",
                "\n",
                "    def _get_client(self, request, callback_url):\n",
                "        provider = self.adapter.get_provider()\n",
                "        app = provider.app\n",
                "        scope = \" \".join(provider.get_scope_from_request(request))\n",
                "        parameters = {}\n",
                "        if scope:\n",
                "            parameters[\"scope\"] = scope\n",
                "        client = OAuthClient(\n",
                "            request,\n",
                "            app.client_id,\n",
                "            app.secret,\n",
                "            self.adapter.request_token_url,\n",
                "            self.adapter.access_token_url,\n",
                "            callback_url,\n",
                "            parameters=parameters,\n",
                "            provider=provider,\n",
                "        )\n",
                "        return client\n"
            ]
        },
        {
            "cell_type": "markdown",
            "metadata": {},
            "source": []
        },
        {
            "cell_type": "code",
            "execution_count": null,
            "metadata": {},
            "outputs": [],
            "source": [
                "class OAuthLoginView(OAuthLoginMixin, OAuthView):\n",
                "    def login(self, request, *args, **kwargs):\n",
                "        callback_url = reverse(self.adapter.provider_id + \"_callback\")\n",
                "        SocialLogin.stash_state(request)\n",
                "        action = request.GET.get(\"action\", AuthAction.AUTHENTICATE)\n",
                "        provider = self.adapter.get_provider()\n",
                "        auth_url = provider.get_auth_url(request, action) or self.adapter.authorize_url\n",
                "        auth_params = provider.get_auth_params_from_request(request, action)\n",
                "        client = self._get_client(request, callback_url)\n",
                "        try:\n",
                "            return client.get_redirect(auth_url, auth_params)\n",
                "        except OAuthError as e:\n",
                "            logger.error(\"OAuth authentication error\", exc_info=True)\n",
                "            return render_authentication_error(request, provider, exception=e)\n"
            ]
        },
        {
            "cell_type": "markdown",
            "metadata": {},
            "source": []
        },
        {
            "cell_type": "code",
            "execution_count": null,
            "metadata": {},
            "outputs": [],
            "source": [
                "class OAuthCallbackView(OAuthView):\n",
                "    def dispatch(self, request):\n",
                "        \"\"\"\n",
                "        View to handle final steps of OAuth based authentication where the user\n",
                "        gets redirected back to from the service provider\n",
                "        \"\"\"\n",
                "        provider = self.adapter.get_provider()\n",
                "        login_done_url = reverse(self.adapter.provider_id + \"_callback\")\n",
                "        client = self._get_client(request, login_done_url)\n",
                "        if not client.is_valid():\n",
                "            if \"denied\" in request.GET:\n",
                "                error = AuthError.CANCELLED\n",
                "            else:\n",
                "                error = AuthError.UNKNOWN\n",
                "            return render_authentication_error(\n",
                "                request,\n",
                "                provider,\n",
                "                error=error,\n",
                "                extra_context={\n",
                "                    \"oauth_client\": client,\n",
                "                    \"callback_view\": self,\n",
                "                },\n",
                "            )\n",
                "        app = provider.app\n",
                "        try:\n",
                "            access_token = client.get_access_token()\n",
                "            token = SocialToken(\n",
                "                app=app,\n",
                "                token=access_token[\"oauth_token\"],\n",
                "                # .get() -- e.g. Evernote does not feature a secret\n",
                "                token_secret=access_token.get(\"oauth_token_secret\", \"\"),\n",
                "            )\n",
                "            login = self.adapter.complete_login(\n",
                "                request, app, token, response=access_token\n",
                "            )\n",
                "            login.token = token\n",
                "            login.state = SocialLogin.unstash_state(request)\n",
                "            return complete_social_login(request, login)\n",
                "        except OAuthError as e:\n",
                "            return render_authentication_error(request, provider, exception=e)\n",
                "\n"
            ]
        },
        {
            "cell_type": "markdown",
            "metadata": {},
            "source": []
        }
    ],
    "metadata": {
        "language_info": {
            "name": "python"
        }
    },
    "nbformat": 4,
    "nbformat_minor": 2
}