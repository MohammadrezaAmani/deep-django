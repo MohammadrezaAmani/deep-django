{
    "cells": [
        {
            "cell_type": "code",
            "execution_count": null,
            "metadata": {},
            "outputs": [],
            "source": [
                "import json\n",
                "\n",
                "from allauth.socialaccount.providers.oauth.client import OAuth\n",
                "from allauth.socialaccount.providers.oauth.views import (\n",
                "    OAuthAdapter,\n",
                "    OAuthCallbackView,\n",
                "    OAuthLoginView,\n",
                ")\n",
                "\n",
                "from .provider import VimeoProvider\n"
            ]
        },
        {
            "cell_type": "markdown",
            "metadata": {},
            "source": []
        },
        {
            "cell_type": "code",
            "execution_count": null,
            "metadata": {},
            "outputs": [],
            "source": [
                "class VimeoAPI(OAuth):\n",
                "    url = \"http://vimeo.com/api/rest/v2?method=vimeo.people.getInfo\"\n",
                "\n",
                "    def get_user_info(self):\n",
                "        url = self.url\n",
                "        data = json.loads(self.query(url, params=dict(format=\"json\")))\n",
                "        return data[\"person\"]\n"
            ]
        },
        {
            "cell_type": "markdown",
            "metadata": {},
            "source": []
        },
        {
            "cell_type": "code",
            "execution_count": null,
            "metadata": {},
            "outputs": [],
            "source": [
                "class VimeoOAuthAdapter(OAuthAdapter):\n",
                "    provider_id = VimeoProvider.id\n",
                "    request_token_url = \"https://vimeo.com/oauth/request_token\"\n",
                "    access_token_url = \"https://vimeo.com/oauth/access_token\"\n",
                "    authorize_url = \"https://vimeo.com/oauth/authorize\"\n",
                "\n",
                "    def complete_login(self, request, app, token, response):\n",
                "        client = VimeoAPI(request, app.client_id, app.secret, self.request_token_url)\n",
                "        extra_data = client.get_user_info()\n",
                "        return self.get_provider().sociallogin_from_response(request, extra_data)\n"
            ]
        },
        {
            "cell_type": "markdown",
            "metadata": {},
            "source": []
        },
        {
            "cell_type": "code",
            "execution_count": null,
            "metadata": {},
            "outputs": [],
            "source": [
                "oauth_login = OAuthLoginView.adapter_view(VimeoOAuthAdapter)\n",
                "oauth_callback = OAuthCallbackView.adapter_view(VimeoOAuthAdapter)\n",
                "\n"
            ]
        },
        {
            "cell_type": "markdown",
            "metadata": {},
            "source": []
        }
    ],
    "metadata": {
        "language_info": {
            "name": "python"
        }
    },
    "nbformat": 4,
    "nbformat_minor": 2
}