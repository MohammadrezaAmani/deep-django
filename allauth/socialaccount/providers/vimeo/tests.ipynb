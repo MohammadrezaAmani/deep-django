{
 "cells": [
  {
   "cell_type": "code",
   "execution_count": null,
   "metadata": {},
   "outputs": [],
   "source": [
    "# -*- coding: utf-8 -*-\n",
    "from allauth.socialaccount.tests import OAuthTestsMixin\n",
    "from allauth.tests import MockedResponse, TestCase\n",
    "\n",
    "from .provider import VimeoProvider"
   ]
  },
  {
   "cell_type": "markdown",
   "metadata": {},
   "source": []
  },
  {
   "cell_type": "code",
   "execution_count": null,
   "metadata": {},
   "outputs": [],
   "source": [
    "class VimeoTests(OAuthTestsMixin, TestCase):\n",
    "    provider_id = VimeoProvider.id\n",
    "\n",
    "    def get_mocked_response(self):\n",
    "        return [\n",
    "            MockedResponse(\n",
    "                200,\n",
    "                \"\"\"\n",
    "{\"generated_in\":\"0.0137\",\n",
    " \"stat\":\"ok\",\"person\":{\n",
    " \"created_on\": \"2013-04-08 14:24:47\",\n",
    " \"id\":\"17574504\",\n",
    " \"is_contact\":\"0\",\n",
    " \"is_plus\":\"0\",\"is_pro\":\"0\",\"is_staff\":\"0\",\"is_subscribed_to\":\"0\",\n",
    " \"username\":\"user17574504\",\"display_name\":\"Raymond Penners\",\"location\":\"\",\n",
    " \"url\":[\"\"],\"bio\":\"\",\"number_of_contacts\":\"0\",\"number_of_uploads\":\"0\",\n",
    " \"number_of_likes\":\"0\",\"number_of_videos\":\"0\",\n",
    " \"number_of_videos_appears_in\":\"0\",\"number_of_albums\":\"0\",\n",
    " \"number_of_channels\":\"0\",\"number_of_groups\":\"0\",\n",
    " \"profileurl\":\"http:\\\\/\\\\/vimeo.com\\\\/user17574504\",\n",
    " \"videosurl\":\"http:\\\\/\\\\/vimeo.com\\\\/user17574504\\\\/videos\",\n",
    " \"portraits\":{\"portrait\":[{\"height\":\"30\",\"width\":\"30\",\n",
    " \"_content\":\n",
    " \"http:\\\\/\\\\/a.vimeocdn.com\\\\/images_v6\\\\/portraits\\\\/portrait_30_yellow.png\"},\n",
    " {\"height\":\"75\",\"width\":\"75\",\"_content\":\n",
    " \"http:\\\\/\\\\/a.vimeocdn.com\\\\/images_v6\\\\/portraits\\\\/portrait_75_yellow.png\"},\n",
    " {\"height\":\"100\",\"width\":\"100\",\"_content\":\n",
    " \"http:\\\\/\\\\/a.vimeocdn.com\\\\/images_v6\\\\/portraits\\\\/portrait_100_yellow.png\"},\n",
    " {\"height\":\"300\",\"width\":\"300\",\"_content\":\n",
    " \"http:\\\\/\\\\/a.vimeocdn.com\\\\/images_v6\\\\/portraits\\\\/portrait_300_yellow.png\"}]}}}\n",
    "\"\"\",\n",
    "            )\n",
    "        ]"
   ]
  },
  {
   "cell_type": "markdown",
   "metadata": {},
   "source": []
  }
 ],
 "metadata": {
  "language_info": {
   "name": "python"
  }
 },
 "nbformat": 4,
 "nbformat_minor": 2
}