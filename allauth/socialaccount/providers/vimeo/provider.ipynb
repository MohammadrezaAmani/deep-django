{
 "cells": [
  {
   "cell_type": "code",
   "execution_count": null,
   "metadata": {},
   "outputs": [],
   "source": [
    "from allauth.socialaccount.providers.base import ProviderAccount\n",
    "from allauth.socialaccount.providers.oauth.provider import OAuthProvider"
   ]
  },
  {
   "cell_type": "markdown",
   "metadata": {},
   "source": []
  },
  {
   "cell_type": "code",
   "execution_count": null,
   "metadata": {},
   "outputs": [],
   "source": [
    "class VimeoAccount(ProviderAccount):\n",
    "    pass"
   ]
  },
  {
   "cell_type": "markdown",
   "metadata": {},
   "source": []
  },
  {
   "cell_type": "code",
   "execution_count": null,
   "metadata": {},
   "outputs": [],
   "source": [
    "class VimeoProvider(OAuthProvider):\n",
    "    id = \"vimeo\"\n",
    "    name = \"Vimeo\"\n",
    "    account_class = VimeoAccount\n",
    "\n",
    "    def get_default_scope(self):\n",
    "        scope = []\n",
    "        return scope\n",
    "\n",
    "    def extract_uid(self, data):\n",
    "        return data[\"id\"]\n",
    "\n",
    "    def extract_common_fields(self, data):\n",
    "        return dict(name=data.get(\"display_name\"), username=data.get(\"username\"))"
   ]
  },
  {
   "cell_type": "markdown",
   "metadata": {},
   "source": []
  },
  {
   "cell_type": "code",
   "execution_count": null,
   "metadata": {},
   "outputs": [],
   "source": [
    "provider_classes = [VimeoProvider]"
   ]
  },
  {
   "cell_type": "markdown",
   "metadata": {},
   "source": []
  }
 ],
 "metadata": {
  "language_info": {
   "name": "python"
  }
 },
 "nbformat": 4,
 "nbformat_minor": 2
}