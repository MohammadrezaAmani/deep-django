{
 "cells": [
  {
   "cell_type": "code",
   "execution_count": null,
   "metadata": {},
   "outputs": [],
   "source": [
    "from allauth.socialaccount.adapter import get_adapter\n",
    "from allauth.socialaccount.providers.oauth2.views import (\n",
    "    OAuth2Adapter,\n",
    "    OAuth2CallbackView,\n",
    "    OAuth2LoginView,\n",
    ")"
   ]
  },
  {
   "cell_type": "markdown",
   "metadata": {},
   "source": []
  },
  {
   "cell_type": "code",
   "execution_count": null,
   "metadata": {},
   "outputs": [],
   "source": [
    "class QuestradeOAuth2Adapter(OAuth2Adapter):\n",
    "    provider_id = \"questrade\"\n",
    "    access_token_url = \"https://login.questrade.com/oauth2/token\"\n",
    "    authorize_url = \"https://login.questrade.com/oauth2/authorize\"\n",
    "    supports_state = False\n",
    "\n",
    "    def complete_login(self, request, app, token, **kwargs):\n",
    "        api_server = kwargs.get(\"response\", {}).get(\n",
    "            \"api_server\", \"https://api01.iq.questrade.com/\"\n",
    "        )\n",
    "        resp = (\n",
    "            get_adapter()\n",
    "            .get_requests_session()\n",
    "            .get(\n",
    "                \"{}v1/accounts\".format(api_server),\n",
    "                headers={\"Authorization\": \"Bearer {}\".format(token.token)},\n",
    "            )\n",
    "        )\n",
    "        resp.raise_for_status()\n",
    "        data = resp.json()\n",
    "        data.update(kwargs)\n",
    "        return self.get_provider().sociallogin_from_response(request, data)"
   ]
  },
  {
   "cell_type": "markdown",
   "metadata": {},
   "source": []
  },
  {
   "cell_type": "code",
   "execution_count": null,
   "metadata": {},
   "outputs": [],
   "source": [
    "oauth2_login = OAuth2LoginView.adapter_view(QuestradeOAuth2Adapter)\n",
    "oauth2_callback = OAuth2CallbackView.adapter_view(QuestradeOAuth2Adapter)"
   ]
  },
  {
   "cell_type": "markdown",
   "metadata": {},
   "source": []
  }
 ],
 "metadata": {
  "language_info": {
   "name": "python"
  }
 },
 "nbformat": 4,
 "nbformat_minor": 2
}