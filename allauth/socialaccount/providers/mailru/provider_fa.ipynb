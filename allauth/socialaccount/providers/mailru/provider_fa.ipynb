{
    "cells": [
        {
            "cell_type": "code",
            "execution_count": null,
            "metadata": {},
            "outputs": [],
            "source": [
                "from allauth.socialaccount.providers.base import ProviderAccount\n",
                "from allauth.socialaccount.providers.mailru.views import MailRuOAuth2Adapter\n",
                "from allauth.socialaccount.providers.oauth2.provider import OAuth2Provider\n"
            ]
        },
        {
            "cell_type": "markdown",
            "metadata": {},
            "source": []
        },
        {
            "cell_type": "code",
            "execution_count": null,
            "metadata": {},
            "outputs": [],
            "source": [
                "class MailRuAccount(ProviderAccount):\n",
                "    def get_profile_url(self):\n",
                "        return self.account.extra_data.get(\"link\")\n",
                "\n",
                "    def get_avatar_url(self):\n",
                "        ret = None\n",
                "        if self.account.extra_data.get(\"has_pic\"):\n",
                "            pic_big_url = self.account.extra_data.get(\"pic_big\")\n",
                "            pic_small_url = self.account.extra_data.get(\"pic_small\")\n",
                "            if pic_big_url:\n",
                "                return pic_big_url\n",
                "            elif pic_small_url:\n",
                "                return pic_small_url\n",
                "        else:\n",
                "            return ret\n",
                "\n",
                "    def to_str(self):\n",
                "        dflt = super(MailRuAccount, self).to_str()\n",
                "        return self.account.extra_data.get(\"name\", dflt)\n"
            ]
        },
        {
            "cell_type": "markdown",
            "metadata": {},
            "source": []
        },
        {
            "cell_type": "code",
            "execution_count": null,
            "metadata": {},
            "outputs": [],
            "source": [
                "class MailRuProvider(OAuth2Provider):\n",
                "    id = \"mailru\"\n",
                "    name = \"Mail.RU\"\n",
                "    account_class = MailRuAccount\n",
                "    oauth2_adapter_class = MailRuOAuth2Adapter\n",
                "\n",
                "    def extract_uid(self, data):\n",
                "        return data[\"uid\"]\n",
                "\n",
                "    def extract_common_fields(self, data):\n",
                "        return dict(\n",
                "            email=data.get(\"email\"),\n",
                "            last_name=data.get(\"last_name\"),\n",
                "            username=data.get(\"nick\"),\n",
                "            first_name=data.get(\"first_name\"),\n",
                "        )\n"
            ]
        },
        {
            "cell_type": "markdown",
            "metadata": {},
            "source": []
        },
        {
            "cell_type": "code",
            "execution_count": null,
            "metadata": {},
            "outputs": [],
            "source": [
                "provider_classes = [MailRuProvider]\n",
                "\n"
            ]
        },
        {
            "cell_type": "markdown",
            "metadata": {},
            "source": []
        }
    ],
    "metadata": {
        "language_info": {
            "name": "python"
        }
    },
    "nbformat": 4,
    "nbformat_minor": 2
}