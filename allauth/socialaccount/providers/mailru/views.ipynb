{
 "cells": [
  {
   "cell_type": "code",
   "execution_count": null,
   "metadata": {},
   "outputs": [],
   "source": [
    "from hashlib import md5\n",
    "\n",
    "from allauth.socialaccount.adapter import get_adapter\n",
    "from allauth.socialaccount.providers.oauth2.views import (\n",
    "    OAuth2Adapter,\n",
    "    OAuth2CallbackView,\n",
    "    OAuth2LoginView,\n",
    ")"
   ]
  },
  {
   "cell_type": "markdown",
   "metadata": {},
   "source": []
  },
  {
   "cell_type": "code",
   "execution_count": null,
   "metadata": {},
   "outputs": [],
   "source": [
    "class MailRuOAuth2Adapter(OAuth2Adapter):\n",
    "    provider_id = \"mailru\"\n",
    "    access_token_url = \"https://connect.mail.ru/oauth/token\"\n",
    "    authorize_url = \"https://connect.mail.ru/oauth/authorize\"\n",
    "    profile_url = \"http://www.appsmail.ru/platform/api\"\n",
    "\n",
    "    def complete_login(self, request, app, token, **kwargs):\n",
    "        uid = kwargs[\"response\"][\"x_mailru_vid\"]\n",
    "        data = {\n",
    "            \"method\": \"users.getInfo\",\n",
    "            \"app_id\": app.client_id,\n",
    "            \"secure\": \"1\",\n",
    "            \"uids\": uid,\n",
    "        }\n",
    "        param_list = sorted([item + \"=\" + data[item] for item in data])\n",
    "        data[\"sig\"] = md5(\n",
    "            (\"\".join(param_list) + app.secret).encode(\"utf-8\")\n",
    "        ).hexdigest()\n",
    "        response = (\n",
    "            get_adapter().get_requests_session().get(self.profile_url, params=data)\n",
    "        )\n",
    "        extra_data = response.json()[0]\n",
    "        return self.get_provider().sociallogin_from_response(request, extra_data)"
   ]
  },
  {
   "cell_type": "markdown",
   "metadata": {},
   "source": []
  },
  {
   "cell_type": "code",
   "execution_count": null,
   "metadata": {},
   "outputs": [],
   "source": [
    "oauth2_login = OAuth2LoginView.adapter_view(MailRuOAuth2Adapter)\n",
    "oauth2_callback = OAuth2CallbackView.adapter_view(MailRuOAuth2Adapter)"
   ]
  },
  {
   "cell_type": "markdown",
   "metadata": {},
   "source": []
  }
 ],
 "metadata": {
  "language_info": {
   "name": "python"
  }
 },
 "nbformat": 4,
 "nbformat_minor": 2
}