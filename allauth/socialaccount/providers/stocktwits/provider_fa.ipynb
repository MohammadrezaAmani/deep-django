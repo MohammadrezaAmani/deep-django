{
 "cells": [
  {
   "cell_type": "code",
   "execution_count": null,
   "metadata": {},
   "outputs": [],
   "source": [
    "from allauth.socialaccount.providers.base import ProviderAccount\n",
    "from allauth.socialaccount.providers.oauth2.provider import OAuth2Provider\n",
    "from allauth.socialaccount.providers.stocktwits.views import StocktwitsOAuth2Adapter"
   ]
  },
  {
   "cell_type": "markdown",
   "metadata": {},
   "source": []
  },
  {
   "cell_type": "code",
   "execution_count": null,
   "metadata": {},
   "outputs": [],
   "source": [
    "class StocktwitsAccount(ProviderAccount):\n",
    "    def get_avatar_url(self):\n",
    "        return self.account.extra_data.get(\"user\", {}).get(\"avatar_url_ssl\")\n",
    "\n",
    "    def to_str(self):\n",
    "        dflt = super(StocktwitsAccount, self).to_str()\n",
    "        return self.account.extra_data.get(\"user\", {}).get(\"name\", dflt)"
   ]
  },
  {
   "cell_type": "markdown",
   "metadata": {},
   "source": []
  },
  {
   "cell_type": "code",
   "execution_count": null,
   "metadata": {},
   "outputs": [],
   "source": [
    "class StocktwitsProvider(OAuth2Provider):\n",
    "    id = \"stocktwits\"\n",
    "    name = \"Stocktwits\"\n",
    "    account_class = StocktwitsAccount\n",
    "    oauth2_adapter_class = StocktwitsOAuth2Adapter\n",
    "\n",
    "    def extract_uid(self, data):\n",
    "        return str(data[\"user\"][\"id\"])\n",
    "\n",
    "    def extract_common_fields(self, data):\n",
    "        return dict(\n",
    "            full_name=data.get(\"user\", {}).get(\"name\"),\n",
    "        )"
   ]
  },
  {
   "cell_type": "markdown",
   "metadata": {},
   "source": []
  },
  {
   "cell_type": "code",
   "execution_count": null,
   "metadata": {},
   "outputs": [],
   "source": [
    "provider_classes = [StocktwitsProvider]"
   ]
  },
  {
   "cell_type": "markdown",
   "metadata": {},
   "source": []
  }
 ],
 "metadata": {
  "language_info": {
   "name": "python"
  }
 },
 "nbformat": 4,
 "nbformat_minor": 2
}