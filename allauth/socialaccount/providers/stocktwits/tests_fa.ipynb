{
 "cells": [
  {
   "cell_type": "code",
   "execution_count": null,
   "metadata": {},
   "outputs": [],
   "source": [
    "from allauth.socialaccount.tests import OAuth2TestsMixin\n",
    "from allauth.tests import MockedResponse, TestCase\n",
    "\n",
    "from .provider import StocktwitsProvider"
   ]
  },
  {
   "cell_type": "markdown",
   "metadata": {},
   "source": []
  },
  {
   "cell_type": "code",
   "execution_count": null,
   "metadata": {},
   "outputs": [],
   "source": [
    "class StocktwitsTests(OAuth2TestsMixin, TestCase):\n",
    "    provider_id = StocktwitsProvider.id\n",
    "\n",
    "    def get_mocked_response(self):\n",
    "        return MockedResponse(\n",
    "            200,\n",
    "            \"\"\"\n",
    "{\n",
    "  \"response\": {\n",
    "    \"status\": 200\n",
    "  },\n",
    "  \"user\": {\n",
    "    \"id\": 3,\n",
    "    \"username\": \"zerobeta\",\n",
    "    \"name\": \"Justin Paterno\",\n",
    "    \"avatar_url\": \"http://avatars.stocktwits.com/images/default_avatar_thumb.jpg\",\n",
    "    \"avatar_url_ssl\": \"https://s3.amazonaws.com/st-avatars/images/default_avatar_thumb.jpg\",\n",
    "    \"identity\": \"Official\",\n",
    "    \"classification\": [\n",
    "      \"ir\"\n",
    "    ]\n",
    "  }\n",
    "}\n",
    "\"\"\",\n",
    "        )  # noqa"
   ]
  },
  {
   "cell_type": "markdown",
   "metadata": {},
   "source": []
  }
 ],
 "metadata": {
  "language_info": {
   "name": "python"
  }
 },
 "nbformat": 4,
 "nbformat_minor": 2
}