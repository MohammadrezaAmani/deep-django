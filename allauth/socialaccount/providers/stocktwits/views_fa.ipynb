{
 "cells": [
  {
   "cell_type": "code",
   "execution_count": null,
   "metadata": {},
   "outputs": [],
   "source": [
    "from allauth.socialaccount.adapter import get_adapter\n",
    "from allauth.socialaccount.providers.oauth2.views import (\n",
    "    OAuth2Adapter,\n",
    "    OAuth2CallbackView,\n",
    "    OAuth2LoginView,\n",
    ")"
   ]
  },
  {
   "cell_type": "markdown",
   "metadata": {},
   "source": []
  },
  {
   "cell_type": "code",
   "execution_count": null,
   "metadata": {},
   "outputs": [],
   "source": [
    "class StocktwitsOAuth2Adapter(OAuth2Adapter):\n",
    "    provider_id = \"stocktwits\"\n",
    "    access_token_url = \"https://api.stocktwits.com/api/2/oauth/token\"\n",
    "    authorize_url = \"https://api.stocktwits.com/api/2/oauth/authorize\"\n",
    "    profile_url = \"https://api.stocktwits.com/api/2/streams/user/{user}.json\"\n",
    "    scope_delimiter = \",\"\n",
    "\n",
    "    def complete_login(self, request, app, token, **kwargs):\n",
    "        user_id = kwargs.get(\"response\").get(\"user_id\")\n",
    "        resp = (\n",
    "            get_adapter()\n",
    "            .get_requests_session()\n",
    "            .get(self.profile_url.format(user=user_id))\n",
    "        )\n",
    "        resp.raise_for_status()\n",
    "        extra_data = resp.json()\n",
    "        return self.get_provider().sociallogin_from_response(request, extra_data)"
   ]
  },
  {
   "cell_type": "markdown",
   "metadata": {},
   "source": []
  },
  {
   "cell_type": "code",
   "execution_count": null,
   "metadata": {},
   "outputs": [],
   "source": [
    "oauth2_login = OAuth2LoginView.adapter_view(StocktwitsOAuth2Adapter)\n",
    "oauth2_callback = OAuth2CallbackView.adapter_view(StocktwitsOAuth2Adapter)"
   ]
  },
  {
   "cell_type": "markdown",
   "metadata": {},
   "source": []
  }
 ],
 "metadata": {
  "language_info": {
   "name": "python"
  }
 },
 "nbformat": 4,
 "nbformat_minor": 2
}