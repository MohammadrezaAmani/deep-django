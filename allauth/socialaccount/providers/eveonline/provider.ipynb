{
    "cells": [
        {
            "cell_type": "code",
            "execution_count": null,
            "metadata": {},
            "outputs": [],
            "source": [
                "from allauth.socialaccount.app_settings import STORE_TOKENS\n",
                "from allauth.socialaccount.providers.base import ProviderAccount\n",
                "from allauth.socialaccount.providers.eveonline.views import (\n",
                "    EveOnlineOAuth2Adapter,\n",
                ")\n",
                "from allauth.socialaccount.providers.oauth2.provider import OAuth2Provider\n"
            ]
        },
        {
            "cell_type": "markdown",
            "metadata": {},
            "source": []
        },
        {
            "cell_type": "code",
            "execution_count": null,
            "metadata": {},
            "outputs": [],
            "source": [
                "class EveOnlineAccount(ProviderAccount):\n",
                "    def get_profile_url(self):\n",
                "        return \"https://gate.eveonline.com/Profile/{char_name}\".format(\n",
                "            char_name=self.account.extra_data.get(\"CharacterName\")\n",
                "        )\n",
                "\n",
                "    def get_avatar_url(self):\n",
                "        return (\"https://image.eveonline.com/Character/{char_id}_128.jpg\").format(\n",
                "            char_id=self.account.extra_data.get(\"CharacterID\", 1)\n",
                "        )\n",
                "\n",
                "    def to_str(self):\n",
                "        dflt = super(EveOnlineAccount, self).to_str()\n",
                "        return next(\n",
                "            value\n",
                "            for value in (\n",
                "                self.account.extra_data.get(\"CharacterName\", None),\n",
                "                self.account.extra_data.get(\"CharacterID\", None),\n",
                "                dflt,\n",
                "            )\n",
                "            if value is not None\n",
                "        )\n"
            ]
        },
        {
            "cell_type": "markdown",
            "metadata": {},
            "source": []
        },
        {
            "cell_type": "code",
            "execution_count": null,
            "metadata": {},
            "outputs": [],
            "source": [
                "class EveOnlineProvider(OAuth2Provider):\n",
                "    id = \"eveonline\"\n",
                "    name = \"EVE Online\"\n",
                "    account_class = EveOnlineAccount\n",
                "    oauth2_adapter_class = EveOnlineOAuth2Adapter\n",
                "\n",
                "    def get_default_scope(self):\n",
                "        scopes = []\n",
                "        if STORE_TOKENS:\n",
                "            scopes.append(\"publicData\")\n",
                "        return scopes\n",
                "\n",
                "    def extract_uid(self, data):\n",
                "        return str(data[\"CharacterOwnerHash\"])\n",
                "\n",
                "    def extract_common_fields(self, data):\n",
                "        return dict(name=data.get(\"CharacterName\"))\n"
            ]
        },
        {
            "cell_type": "markdown",
            "metadata": {},
            "source": []
        },
        {
            "cell_type": "code",
            "execution_count": null,
            "metadata": {},
            "outputs": [],
            "source": [
                "provider_classes = [EveOnlineProvider]\n",
                "\n"
            ]
        },
        {
            "cell_type": "markdown",
            "metadata": {},
            "source": []
        }
    ],
    "metadata": {
        "language_info": {
            "name": "python"
        }
    },
    "nbformat": 4,
    "nbformat_minor": 2
}