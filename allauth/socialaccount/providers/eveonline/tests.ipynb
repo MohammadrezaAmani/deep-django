{
 "cells": [
  {
   "cell_type": "code",
   "execution_count": null,
   "metadata": {},
   "outputs": [],
   "source": [
    "from allauth.socialaccount.tests import OAuth2TestsMixin\n",
    "from allauth.tests import MockedResponse, TestCase\n",
    "\n",
    "from .provider import EveOnlineProvider"
   ]
  },
  {
   "cell_type": "markdown",
   "metadata": {},
   "source": []
  },
  {
   "cell_type": "code",
   "execution_count": null,
   "metadata": {},
   "outputs": [],
   "source": [
    "class EveOnlineTests(OAuth2TestsMixin, TestCase):\n",
    "    provider_id = EveOnlineProvider.id\n",
    "\n",
    "    def get_mocked_response(self):\n",
    "        return MockedResponse(\n",
    "            200,\n",
    "            \"\"\"\n",
    "        {\n",
    "            \"CharacterID\": 273042051,\n",
    "            \"CharacterName\": \"CCP illurkall\",\n",
    "            \"ExpiresOn\": \"2014-05-23T15:01:15.182864Z\",\n",
    "            \"Scopes\": \" \",\n",
    "            \"TokenType\": \"Character\",\n",
    "            \"CharacterOwnerHash\": \"XM4D...FoY=\"\n",
    "        }\"\"\",\n",
    "        )"
   ]
  },
  {
   "cell_type": "markdown",
   "metadata": {},
   "source": []
  }
 ],
 "metadata": {
  "language_info": {
   "name": "python"
  }
 },
 "nbformat": 4,
 "nbformat_minor": 2
}