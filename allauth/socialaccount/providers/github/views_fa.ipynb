{
    "cells": [
        {
            "cell_type": "code",
            "execution_count": null,
            "metadata": {},
            "outputs": [],
            "source": [
                "from allauth.socialaccount import app_settings\n",
                "from allauth.socialaccount.adapter import get_adapter\n",
                "from allauth.socialaccount.providers.oauth2.views import (\n",
                "    OAuth2Adapter,\n",
                "    OAuth2CallbackView,\n",
                "    OAuth2LoginView,\n",
                ")\n"
            ]
        },
        {
            "cell_type": "markdown",
            "metadata": {},
            "source": []
        },
        {
            "cell_type": "code",
            "execution_count": null,
            "metadata": {},
            "outputs": [],
            "source": [
                "class GitHubOAuth2Adapter(OAuth2Adapter):\n",
                "    provider_id = \"github\"\n",
                "    settings = app_settings.PROVIDERS.get(provider_id, {})\n",
                "\n",
                "    if \"GITHUB_URL\" in settings:\n",
                "        web_url = settings.get(\"GITHUB_URL\").rstrip(\"/\")\n",
                "        api_url = \"{0}/api/v3\".format(web_url)\n",
                "    else:\n",
                "        web_url = \"https://github.com\"\n",
                "        api_url = \"https://api.github.com\"\n",
                "\n",
                "    access_token_url = \"{0}/login/oauth/access_token\".format(web_url)\n",
                "    authorize_url = \"{0}/login/oauth/authorize\".format(web_url)\n",
                "    profile_url = \"{0}/user\".format(api_url)\n",
                "    emails_url = \"{0}/user/emails\".format(api_url)\n",
                "\n",
                "    def complete_login(self, request, app, token, **kwargs):\n",
                "        headers = {\"Authorization\": \"token {}\".format(token.token)}\n",
                "        resp = (\n",
                "            get_adapter().get_requests_session().get(self.profile_url, headers=headers)\n",
                "        )\n",
                "        resp.raise_for_status()\n",
                "        extra_data = resp.json()\n",
                "        if app_settings.QUERY_EMAIL and not extra_data.get(\"email\"):\n",
                "            emails = self.get_emails(headers)\n",
                "            if emails:\n",
                "                extra_data[\"emails\"] = emails\n",
                "        return self.get_provider().sociallogin_from_response(request, extra_data)\n",
                "\n",
                "    def get_emails(self, headers):\n",
                "        resp = (\n",
                "            get_adapter().get_requests_session().get(self.emails_url, headers=headers)\n",
                "        )\n",
                "        # https://api.github.com/user/emails -- 404 is documented to occur.\n",
                "        if resp.status_code == 404:\n",
                "            return None\n",
                "        resp.raise_for_status()\n",
                "        return resp.json()\n"
            ]
        },
        {
            "cell_type": "markdown",
            "metadata": {},
            "source": []
        },
        {
            "cell_type": "code",
            "execution_count": null,
            "metadata": {},
            "outputs": [],
            "source": [
                "oauth2_login = OAuth2LoginView.adapter_view(GitHubOAuth2Adapter)\n",
                "oauth2_callback = OAuth2CallbackView.adapter_view(GitHubOAuth2Adapter)\n",
                "\n"
            ]
        },
        {
            "cell_type": "markdown",
            "metadata": {},
            "source": []
        }
    ],
    "metadata": {
        "language_info": {
            "name": "python"
        }
    },
    "nbformat": 4,
    "nbformat_minor": 2
}