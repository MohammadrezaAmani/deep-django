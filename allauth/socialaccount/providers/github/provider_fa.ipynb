{
    "cells": [
        {
            "cell_type": "code",
            "execution_count": null,
            "metadata": {},
            "outputs": [],
            "source": [
                "from allauth.account.models import EmailAddress\n",
                "from allauth.socialaccount import app_settings\n",
                "from allauth.socialaccount.providers.base import ProviderAccount\n",
                "from allauth.socialaccount.providers.github.views import GitHubOAuth2Adapter\n",
                "from allauth.socialaccount.providers.oauth2.provider import OAuth2Provider\n"
            ]
        },
        {
            "cell_type": "markdown",
            "metadata": {},
            "source": []
        },
        {
            "cell_type": "code",
            "execution_count": null,
            "metadata": {},
            "outputs": [],
            "source": [
                "class GitHubAccount(ProviderAccount):\n",
                "    def get_profile_url(self):\n",
                "        return self.account.extra_data.get(\"html_url\")\n",
                "\n",
                "    def get_avatar_url(self):\n",
                "        return self.account.extra_data.get(\"avatar_url\")\n",
                "\n",
                "    def to_str(self):\n",
                "        dflt = super(GitHubAccount, self).to_str()\n",
                "        return next(\n",
                "            value\n",
                "            for value in (\n",
                "                self.account.extra_data.get(\"name\", None),\n",
                "                self.account.extra_data.get(\"login\", None),\n",
                "                dflt,\n",
                "            )\n",
                "            if value is not None\n",
                "        )\n"
            ]
        },
        {
            "cell_type": "markdown",
            "metadata": {},
            "source": []
        },
        {
            "cell_type": "code",
            "execution_count": null,
            "metadata": {},
            "outputs": [],
            "source": [
                "class GitHubProvider(OAuth2Provider):\n",
                "    id = \"github\"\n",
                "    name = \"GitHub\"\n",
                "    account_class = GitHubAccount\n",
                "    oauth2_adapter_class = GitHubOAuth2Adapter\n",
                "\n",
                "    def get_default_scope(self):\n",
                "        scope = []\n",
                "        if app_settings.QUERY_EMAIL:\n",
                "            scope.append(\"user:email\")\n",
                "        return scope\n",
                "\n",
                "    def extract_uid(self, data):\n",
                "        return str(data[\"id\"])\n",
                "\n",
                "    def extract_common_fields(self, data):\n",
                "        return dict(\n",
                "            email=data.get(\"email\"),\n",
                "            username=data.get(\"login\"),\n",
                "            name=data.get(\"name\"),\n",
                "        )\n",
                "\n",
                "    def extract_extra_data(self, data):\n",
                "        if \"emails\" in data:\n",
                "            data = dict(data)\n",
                "            data.pop(\"emails\")\n",
                "        return data\n",
                "\n",
                "    def extract_email_addresses(self, data):\n",
                "        ret = []\n",
                "        for email in data.get(\"emails\", []):\n",
                "            ret.append(\n",
                "                EmailAddress(\n",
                "                    email=email[\"email\"],\n",
                "                    primary=email[\"primary\"],\n",
                "                    verified=email[\"verified\"],\n",
                "                )\n",
                "            )\n",
                "        return ret\n"
            ]
        },
        {
            "cell_type": "markdown",
            "metadata": {},
            "source": []
        },
        {
            "cell_type": "code",
            "execution_count": null,
            "metadata": {},
            "outputs": [],
            "source": [
                "provider_classes = [GitHubProvider]\n",
                "\n"
            ]
        },
        {
            "cell_type": "markdown",
            "metadata": {},
            "source": []
        }
    ],
    "metadata": {
        "language_info": {
            "name": "python"
        }
    },
    "nbformat": 4,
    "nbformat_minor": 2
}