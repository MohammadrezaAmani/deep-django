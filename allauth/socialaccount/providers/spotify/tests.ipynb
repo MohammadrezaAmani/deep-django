{
    "cells": [
        {
            "cell_type": "code",
            "execution_count": null,
            "metadata": {},
            "outputs": [],
            "source": [
                "# -*- coding: utf-8 -*-\n",
                "from __future__ import unicode_literals\n",
                "\n",
                "from allauth.socialaccount.tests import OAuth2TestsMixin\n",
                "from allauth.tests import MockedResponse, TestCase\n",
                "\n",
                "from .provider import SpotifyOAuth2Provider\n"
            ]
        },
        {
            "cell_type": "markdown",
            "metadata": {},
            "source": []
        },
        {
            "cell_type": "code",
            "execution_count": null,
            "metadata": {},
            "outputs": [],
            "source": [
                "class SpotifyOAuth2Tests(OAuth2TestsMixin, TestCase):\n",
                "    provider_id = SpotifyOAuth2Provider.id\n",
                "\n",
                "    def get_mocked_response(self):\n",
                "        return MockedResponse(\n",
                "            200,\n",
                "            \"\"\"{\n",
                "          \"birthdate\": \"1937-06-01\",\n",
                "          \"country\": \"SE\",\n",
                "          \"display_name\": \"JM Wizzler\",\n",
                "          \"email\": \"email@example.com\",\n",
                "          \"external_urls\": {\n",
                "            \"spotify\": \"https://open.spotify.com/user/wizzler\"\n",
                "          },\n",
                "          \"followers\" : {\n",
                "            \"href\" : null,\n",
                "            \"total\" : 3829\n",
                "          },\n",
                "          \"href\": \"https://api.spotify.com/v1/users/wizzler\",\n",
                "          \"id\": \"wizzler\",\n",
                "          \"images\": [\n",
                "            {\n",
                "              \"height\": null,\n",
                "              \"url\":\n",
                "              \"https://fbcdn-profile-a.akamaihd.net/hprofile-ak-frc3/t1.0-1/1970403_10152215092574354_1798272330_n.jpg\",\n",
                "              \"width\": null\n",
                "            }\n",
                "          ],\n",
                "          \"product\": \"premium\",\n",
                "          \"type\": \"user\",\n",
                "          \"uri\": \"spotify:user:wizzler\"\n",
                "        }\"\"\",\n",
                "        )  # noqa\n",
                "\n"
            ]
        },
        {
            "cell_type": "markdown",
            "metadata": {},
            "source": []
        }
    ],
    "metadata": {
        "language_info": {
            "name": "python"
        }
    },
    "nbformat": 4,
    "nbformat_minor": 2
}