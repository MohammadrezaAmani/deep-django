{
    "cells": [
        {
            "cell_type": "code",
            "execution_count": null,
            "metadata": {},
            "outputs": [],
            "source": [
                "from allauth.socialaccount import app_settings\n",
                "from allauth.socialaccount.providers.base import ProviderAccount\n",
                "from allauth.socialaccount.providers.oauth2.provider import OAuth2Provider\n",
                "from allauth.socialaccount.providers.spotify.views import SpotifyOAuth2Adapter\n"
            ]
        },
        {
            "cell_type": "markdown",
            "metadata": {},
            "source": []
        },
        {
            "cell_type": "code",
            "execution_count": null,
            "metadata": {},
            "outputs": [],
            "source": [
                "class SpotifyAccount(ProviderAccount):\n",
                "    def get_profile_url(self):\n",
                "        return self.account.extra_data.get(\"external_urls\").get(\"spotify\")\n",
                "\n",
                "    def get_avatar_url(self):\n",
                "        try:\n",
                "            return self.account.extra_data.get(\"images\")[0].get(\"url\")\n",
                "        except IndexError:\n",
                "            return None\n",
                "\n",
                "    def to_str(self):\n",
                "        dflt = super(SpotifyAccount, self).to_str()\n",
                "        return self.account.extra_data.get(\"display_name\", dflt)\n"
            ]
        },
        {
            "cell_type": "markdown",
            "metadata": {},
            "source": []
        },
        {
            "cell_type": "code",
            "execution_count": null,
            "metadata": {},
            "outputs": [],
            "source": [
                "class SpotifyOAuth2Provider(OAuth2Provider):\n",
                "    id = \"spotify\"\n",
                "    name = \"Spotify\"\n",
                "    account_class = SpotifyAccount\n",
                "    oauth2_adapter_class = SpotifyOAuth2Adapter\n",
                "\n",
                "    def extract_uid(self, data):\n",
                "        return data[\"id\"]\n",
                "\n",
                "    def extract_common_fields(self, data):\n",
                "        return dict(name=data.get(\"display_name\"), email=data.get(\"email\"))\n",
                "\n",
                "    def get_default_scope(self):\n",
                "        scope = []\n",
                "        if app_settings.QUERY_EMAIL:\n",
                "            scope.append(\"user-read-email\")\n",
                "        return scope\n"
            ]
        },
        {
            "cell_type": "markdown",
            "metadata": {},
            "source": []
        },
        {
            "cell_type": "code",
            "execution_count": null,
            "metadata": {},
            "outputs": [],
            "source": [
                "provider_classes = [SpotifyOAuth2Provider]\n",
                "\n"
            ]
        },
        {
            "cell_type": "markdown",
            "metadata": {},
            "source": []
        }
    ],
    "metadata": {
        "language_info": {
            "name": "python"
        }
    },
    "nbformat": 4,
    "nbformat_minor": 2
}