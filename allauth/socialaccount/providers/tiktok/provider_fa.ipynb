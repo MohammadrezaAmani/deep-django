{
 "cells": [
  {
   "cell_type": "code",
   "execution_count": null,
   "metadata": {},
   "outputs": [],
   "source": [
    "from allauth.socialaccount.providers.base import ProviderAccount\n",
    "from allauth.socialaccount.providers.oauth2.provider import OAuth2Provider\n",
    "from allauth.socialaccount.providers.tiktok.scope import TikTokScope\n",
    "from allauth.socialaccount.providers.tiktok.views import TikTokOAuth2Adapter"
   ]
  },
  {
   "cell_type": "markdown",
   "metadata": {},
   "source": []
  },
  {
   "cell_type": "code",
   "execution_count": null,
   "metadata": {},
   "outputs": [],
   "source": [
    "class TikTokAccount(ProviderAccount):\n",
    "    def get_username(self):\n",
    "        return self.account.extra_data.get(\"username\")\n",
    "\n",
    "    def get_display_name(self):\n",
    "        return self.account.extra_data.get(\"display_name\")\n",
    "\n",
    "    def get_profile_url(self):\n",
    "        return self.account.extra_data.get(\"profile_deep_link\")\n",
    "\n",
    "    def get_avatar_url(self):\n",
    "        return self.account.extra_data.get(\"avatar_url\")\n",
    "\n",
    "    def to_str(self):\n",
    "        username = self.get_username()\n",
    "        return username or super().to_str()"
   ]
  },
  {
   "cell_type": "markdown",
   "metadata": {},
   "source": []
  },
  {
   "cell_type": "code",
   "execution_count": null,
   "metadata": {},
   "outputs": [],
   "source": [
    "class TikTokProvider(OAuth2Provider):\n",
    "    id = \"tiktok\"\n",
    "    name = \"TikTok\"\n",
    "    account_class = TikTokAccount\n",
    "    oauth2_adapter_class = TikTokOAuth2Adapter\n",
    "    pkce_enabled_default = False\n",
    "\n",
    "    def extract_uid(self, data):\n",
    "        return str(data[\"open_id\"])\n",
    "\n",
    "    def extract_common_fields(self, data):\n",
    "        # TikTok does not provide an email address\n",
    "        return {\n",
    "            \"username\": data.get(\"username\") or data.get(\"display_name\"),\n",
    "            \"name\": data.get(\"display_name\"),\n",
    "        }\n",
    "\n",
    "    def get_default_scope(self):\n",
    "        # Requires LoginKit and Scopes with user.info.basic and user.info.profile enabled\n",
    "        return [TikTokScope.user_info_basic.value, TikTokScope.user_info_profile.value]"
   ]
  },
  {
   "cell_type": "markdown",
   "metadata": {},
   "source": []
  },
  {
   "cell_type": "code",
   "execution_count": null,
   "metadata": {},
   "outputs": [],
   "source": [
    "provider_classes = [TikTokProvider]"
   ]
  },
  {
   "cell_type": "markdown",
   "metadata": {},
   "source": []
  }
 ],
 "metadata": {
  "language_info": {
   "name": "python"
  }
 },
 "nbformat": 4,
 "nbformat_minor": 2
}