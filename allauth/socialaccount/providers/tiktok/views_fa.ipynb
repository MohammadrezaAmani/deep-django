{
 "cells": [
  {
   "cell_type": "code",
   "execution_count": null,
   "metadata": {},
   "outputs": [],
   "source": [
    "from allauth.socialaccount.adapter import get_adapter\n",
    "from allauth.socialaccount.providers.oauth2.views import (\n",
    "    OAuth2Adapter,\n",
    "    OAuth2CallbackView,\n",
    "    OAuth2LoginView,\n",
    ")\n",
    "from allauth.socialaccount.providers.tiktok.client import TikTokOAuth2Client\n",
    "from allauth.socialaccount.providers.tiktok.scope import TikTokScope"
   ]
  },
  {
   "cell_type": "markdown",
   "metadata": {},
   "source": []
  },
  {
   "cell_type": "code",
   "execution_count": null,
   "metadata": {},
   "outputs": [],
   "source": [
    "class TikTokOAuth2Adapter(OAuth2Adapter):\n",
    "    provider_id = \"tiktok\"\n",
    "    access_token_url = \"https://open.tiktokapis.com/v2/oauth/token/\"\n",
    "    authorize_url = \"https://www.tiktok.com/v2/auth/authorize/\"\n",
    "    # https://developers.tiktok.com/doc/tiktok-api-v2-get-user-info/\n",
    "    profile_url = \"https://open.tiktokapis.com/v2/user/info/\"\n",
    "    client_class = TikTokOAuth2Client\n",
    "    scope_delimiter = \",\"\n",
    "\n",
    "    def get_query_fields(self):\n",
    "        fields = []\n",
    "        if TikTokScope.user_info_basic.value in self.get_provider().get_scope():\n",
    "            fields += [\"open_id\", \"display_name\", \"avatar_url\"]\n",
    "        if TikTokScope.user_info_profile.value in self.get_provider().get_scope():\n",
    "            fields += [\"username\", \"profile_deep_link\"]\n",
    "        return \",\".join(fields)\n",
    "\n",
    "    def complete_login(self, request, app, token, **kwargs):\n",
    "        headers = {\n",
    "            \"Authorization\": f\"Bearer {token.token}\",\n",
    "            \"Client-ID\": app.client_id,\n",
    "        }\n",
    "        params = {\"fields\": self.get_query_fields()}\n",
    "        response = (\n",
    "            get_adapter()\n",
    "            .get_requests_session()\n",
    "            .get(self.profile_url, headers=headers, params=params)\n",
    "        )\n",
    "        response.raise_for_status()\n",
    "\n",
    "        data = response.json()\n",
    "\n",
    "        user_info = data.get(\"data\", {}).get(\"user\")\n",
    "        return self.get_provider().sociallogin_from_response(request, user_info)"
   ]
  },
  {
   "cell_type": "markdown",
   "metadata": {},
   "source": []
  },
  {
   "cell_type": "code",
   "execution_count": null,
   "metadata": {},
   "outputs": [],
   "source": [
    "oauth2_login = OAuth2LoginView.adapter_view(TikTokOAuth2Adapter)\n",
    "oauth2_callback = OAuth2CallbackView.adapter_view(TikTokOAuth2Adapter)"
   ]
  },
  {
   "cell_type": "markdown",
   "metadata": {},
   "source": []
  }
 ],
 "metadata": {
  "language_info": {
   "name": "python"
  }
 },
 "nbformat": 4,
 "nbformat_minor": 2
}