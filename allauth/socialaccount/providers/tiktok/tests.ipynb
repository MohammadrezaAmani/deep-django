{
 "cells": [
  {
   "cell_type": "code",
   "execution_count": null,
   "metadata": {},
   "outputs": [],
   "source": [
    "from allauth.socialaccount.tests import OAuth2TestsMixin\n",
    "from allauth.tests import MockedResponse, TestCase\n",
    "\n",
    "from .provider import TikTokProvider"
   ]
  },
  {
   "cell_type": "markdown",
   "metadata": {},
   "source": []
  },
  {
   "cell_type": "code",
   "execution_count": null,
   "metadata": {},
   "outputs": [],
   "source": [
    "class TikTokTests(OAuth2TestsMixin, TestCase):\n",
    "    provider_id = TikTokProvider.id\n",
    "\n",
    "    def get_mocked_response(self):\n",
    "        return MockedResponse(\n",
    "            200,\n",
    "            \"\"\"\n",
    "        {\n",
    "          \"data\": {\n",
    "            \"user\": {\n",
    "                \"open_id\": \"44322889\",\n",
    "                \"username\": \"username123\",\n",
    "                \"display_name\": \"Nice Display Name\",\n",
    "                \"avatar_url\": \"https://example.com/avatar.jpg\",\n",
    "                \"profile_deep_link\": \"https://example.com/profile\"\n",
    "            }\n",
    "          }\n",
    "        }\n",
    "        \"\"\",\n",
    "        )"
   ]
  },
  {
   "cell_type": "markdown",
   "metadata": {},
   "source": []
  }
 ],
 "metadata": {
  "language_info": {
   "name": "python"
  }
 },
 "nbformat": 4,
 "nbformat_minor": 2
}