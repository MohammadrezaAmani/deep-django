{
    "cells": [
        {
            "cell_type": "code",
            "execution_count": null,
            "metadata": {},
            "outputs": [],
            "source": [
                "from allauth.socialaccount.tests import OAuth2TestsMixin\n",
                "from allauth.tests import MockedResponse, TestCase\n",
                "\n",
                "from .provider import DigitalOceanProvider\n"
            ]
        },
        {
            "cell_type": "markdown",
            "metadata": {},
            "source": []
        },
        {
            "cell_type": "code",
            "execution_count": null,
            "metadata": {},
            "outputs": [],
            "source": [
                "class DigitalOceanTests(OAuth2TestsMixin, TestCase):\n",
                "    provider_id = DigitalOceanProvider.id\n",
                "\n",
                "    def get_mocked_response(self):\n",
                "        return MockedResponse(\n",
                "            200,\n",
                "            \"\"\"\n",
                "        {\n",
                "          \"account\": {\n",
                "            \"droplet_limit\": 25,\n",
                "            \"floating_ip_limit\": 5,\n",
                "            \"email\": \"sammy@example.com\",\n",
                "            \"uuid\": \"b6fr89dbf6d9156cace5f3c78dc9851d957381ef\",\n",
                "            \"email_verified\": true,\n",
                "            \"status\": \"active\",\n",
                "            \"status_message\": \"\"\n",
                "          }\n",
                "        }\n",
                "        \"\"\",\n",
                "        )\n",
                "\n",
                "    def get_login_response_json(self, with_refresh_token=True):\n",
                "        return \"\"\"\n",
                "        {\n",
                "          \"access_token\": \"testac\",\n",
                "          \"token_type\": \"bearer\",\n",
                "          \"expires_in\": 2592000,\n",
                "          \"refresh_token\": \"00a3aae641658d\",\n",
                "          \"scope\": \"read write\",\n",
                "          \"info\": {\n",
                "            \"name\": \"Sammy the Shark\",\n",
                "            \"email\":\"sammy@example.com\",\n",
                "            \"uuid\":\"b6fr89dbf6d9156cace5f3c78dc9851d957381ef\"\n",
                "          }\n",
                "        }\"\"\"\n",
                "\n"
            ]
        },
        {
            "cell_type": "markdown",
            "metadata": {},
            "source": []
        }
    ],
    "metadata": {
        "language_info": {
            "name": "python"
        }
    },
    "nbformat": 4,
    "nbformat_minor": 2
}