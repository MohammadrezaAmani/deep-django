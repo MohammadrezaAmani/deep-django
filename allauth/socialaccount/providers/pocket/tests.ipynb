{
 "cells": [
  {
   "cell_type": "code",
   "execution_count": null,
   "metadata": {},
   "outputs": [],
   "source": [
    "from urllib.parse import parse_qs, urlencode, urlparse\n",
    "\n",
    "from django.urls import reverse\n",
    "\n",
    "from allauth.socialaccount.tests import OAuthTestsMixin\n",
    "from allauth.tests import MockedResponse, TestCase, mocked_response\n",
    "\n",
    "from .provider import PocketProvider"
   ]
  },
  {
   "cell_type": "markdown",
   "metadata": {},
   "source": []
  },
  {
   "cell_type": "code",
   "execution_count": null,
   "metadata": {},
   "outputs": [],
   "source": [
    "class PocketOAuthTests(OAuthTestsMixin, TestCase):\n",
    "    provider_id = PocketProvider.id\n",
    "\n",
    "    def get_mocked_response(self):\n",
    "        return []\n",
    "\n",
    "    def get_access_token_response(self):\n",
    "        return MockedResponse(\n",
    "            200,\n",
    "            \"\"\"\n",
    "        {\"access_token\":\"5678defg-5678-defg-5678-defg56\",\n",
    "        \"username\":\"name@example.com\"}\n",
    "        \"\"\",\n",
    "        )\n",
    "\n",
    "    def login(self, resp_mocks, process=\"login\"):\n",
    "        with mocked_response(\n",
    "            MockedResponse(\n",
    "                200,\n",
    "                \"\"\"\n",
    "                {\"code\": \"dcba4321-dcba-4321-dcba-4321dc\"}\n",
    "                \"\"\",\n",
    "                {\"content-type\": \"application/json\"},\n",
    "            )\n",
    "        ):\n",
    "            resp = self.client.post(\n",
    "                reverse(self.provider.id + \"_login\")\n",
    "                + \"?\"\n",
    "                + urlencode(dict(process=process))\n",
    "            )\n",
    "        p = urlparse(resp[\"location\"])\n",
    "        q = parse_qs(p.query)\n",
    "        complete_url = reverse(self.provider.id + \"_callback\")\n",
    "        self.assertGreater(q[\"redirect_uri\"][0].find(complete_url), 0)\n",
    "        with mocked_response(self.get_access_token_response(), *resp_mocks):\n",
    "            resp = self.client.get(complete_url)\n",
    "        return resp"
   ]
  },
  {
   "cell_type": "markdown",
   "metadata": {},
   "source": []
  }
 ],
 "metadata": {
  "language_info": {
   "name": "python"
  }
 },
 "nbformat": 4,
 "nbformat_minor": 2
}