{
 "cells": [
  {
   "cell_type": "code",
   "execution_count": null,
   "metadata": {},
   "outputs": [],
   "source": [
    "from ..oauth.views import OAuthAdapter, OAuthCallbackView, OAuthLoginView\n",
    "from .client import PocketOAuthClient\n",
    "from .provider import PocketProvider"
   ]
  },
  {
   "cell_type": "markdown",
   "metadata": {},
   "source": []
  },
  {
   "cell_type": "code",
   "execution_count": null,
   "metadata": {},
   "outputs": [],
   "source": [
    "class PocketOAuthAdapter(OAuthAdapter):\n",
    "    provider_id = PocketProvider.id\n",
    "    request_token_url = \"https://getpocket.com/v3/oauth/request\"\n",
    "    access_token_url = \"https://getpocket.com/v3/oauth/authorize\"\n",
    "    authorize_url = \"https://getpocket.com/auth/authorize\"\n",
    "\n",
    "    def complete_login(self, request, app, token, response):\n",
    "        return self.get_provider().sociallogin_from_response(request, response)"
   ]
  },
  {
   "cell_type": "markdown",
   "metadata": {},
   "source": []
  },
  {
   "cell_type": "code",
   "execution_count": null,
   "metadata": {},
   "outputs": [],
   "source": [
    "class PocketOAuthLoginView(OAuthLoginView):\n",
    "    def _get_client(self, request, callback_url):\n",
    "        provider = self.adapter.get_provider()\n",
    "        app = provider.app\n",
    "        scope = \" \".join(provider.get_scope_from_request(request))\n",
    "        parameters = {}\n",
    "        if scope:\n",
    "            parameters[\"scope\"] = scope\n",
    "        client = PocketOAuthClient(\n",
    "            request,\n",
    "            app.client_id,\n",
    "            app.secret,\n",
    "            self.adapter.request_token_url,\n",
    "            self.adapter.access_token_url,\n",
    "            callback_url,\n",
    "            parameters=parameters,\n",
    "            provider=provider,\n",
    "        )\n",
    "        return client"
   ]
  },
  {
   "cell_type": "markdown",
   "metadata": {},
   "source": []
  },
  {
   "cell_type": "code",
   "execution_count": null,
   "metadata": {},
   "outputs": [],
   "source": [
    "class PocketOAuthCallbackView(OAuthCallbackView):\n",
    "    def _get_client(self, request, callback_url):\n",
    "        provider = self.adapter.get_provider()\n",
    "        app = provider.app\n",
    "        scope = \" \".join(provider.get_scope_from_request(request))\n",
    "        parameters = {}\n",
    "        if scope:\n",
    "            parameters[\"scope\"] = scope\n",
    "        client = PocketOAuthClient(\n",
    "            request,\n",
    "            app.client_id,\n",
    "            app.secret,\n",
    "            self.adapter.request_token_url,\n",
    "            self.adapter.access_token_url,\n",
    "            callback_url,\n",
    "            parameters=parameters,\n",
    "            provider=provider,\n",
    "        )\n",
    "        return client"
   ]
  },
  {
   "cell_type": "markdown",
   "metadata": {},
   "source": []
  },
  {
   "cell_type": "code",
   "execution_count": null,
   "metadata": {},
   "outputs": [],
   "source": [
    "oauth_login = PocketOAuthLoginView.adapter_view(PocketOAuthAdapter)\n",
    "oauth_callback = PocketOAuthCallbackView.adapter_view(PocketOAuthAdapter)"
   ]
  },
  {
   "cell_type": "markdown",
   "metadata": {},
   "source": []
  }
 ],
 "metadata": {
  "language_info": {
   "name": "python"
  }
 },
 "nbformat": 4,
 "nbformat_minor": 2
}