{
    "cells": [
        {
            "cell_type": "code",
            "execution_count": null,
            "metadata": {},
            "outputs": [],
            "source": [
                "from allauth.account.models import EmailAddress\n",
                "from allauth.socialaccount.providers.base import ProviderAccount\n",
                "from allauth.socialaccount.providers.oauth.provider import OAuthProvider\n"
            ]
        },
        {
            "cell_type": "markdown",
            "metadata": {},
            "source": []
        },
        {
            "cell_type": "code",
            "execution_count": null,
            "metadata": {},
            "outputs": [],
            "source": [
                "class PocketAccount(ProviderAccount):\n",
                "    def to_str(self):\n",
                "        dflt = super(PocketAccount, self).to_str()\n",
                "        return self.account.extra_data.get(\"Display_Name\", dflt)\n"
            ]
        },
        {
            "cell_type": "markdown",
            "metadata": {},
            "source": []
        },
        {
            "cell_type": "code",
            "execution_count": null,
            "metadata": {},
            "outputs": [],
            "source": [
                "class PocketProvider(OAuthProvider):\n",
                "    id = \"pocket\"\n",
                "    name = \"Pocket\"\n",
                "    account_class = PocketAccount\n",
                "\n",
                "    def extract_uid(self, data):\n",
                "        return data[\"username\"]\n",
                "\n",
                "    def extract_common_fields(self, data):\n",
                "        return dict(\n",
                "            email=data[\"username\"],\n",
                "        )\n",
                "\n",
                "    def extract_email_addresses(self, data):\n",
                "        return [\n",
                "            EmailAddress(\n",
                "                email=data[\"username\"],\n",
                "                verified=True,\n",
                "                primary=True,\n",
                "            )\n",
                "        ]\n"
            ]
        },
        {
            "cell_type": "markdown",
            "metadata": {},
            "source": []
        },
        {
            "cell_type": "code",
            "execution_count": null,
            "metadata": {},
            "outputs": [],
            "source": [
                "provider_classes = [PocketProvider]\n",
                "\n"
            ]
        },
        {
            "cell_type": "markdown",
            "metadata": {},
            "source": []
        }
    ],
    "metadata": {
        "language_info": {
            "name": "python"
        }
    },
    "nbformat": 4,
    "nbformat_minor": 2
}