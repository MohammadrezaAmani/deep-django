{
 "cells": [
  {
   "cell_type": "code",
   "execution_count": null,
   "metadata": {},
   "outputs": [],
   "source": [
    "from allauth.socialaccount import app_settings\n",
    "from allauth.socialaccount.adapter import get_adapter\n",
    "from allauth.socialaccount.providers.oauth2.views import (\n",
    "    OAuth2Adapter,\n",
    "    OAuth2CallbackView,\n",
    "    OAuth2LoginView,\n",
    ")"
   ]
  },
  {
   "cell_type": "markdown",
   "metadata": {},
   "source": []
  },
  {
   "cell_type": "code",
   "execution_count": null,
   "metadata": {},
   "outputs": [],
   "source": [
    "class OrcidOAuth2Adapter(OAuth2Adapter):\n",
    "    provider_id = \"orcid\"\n",
    "    # http://support.orcid.org/knowledgebase/articles/335483-the-public-\n",
    "    # client-orcid-api\n",
    "\n",
    "    member_api_default = False\n",
    "    base_domain_default = \"orcid.org\"\n",
    "\n",
    "    settings = app_settings.PROVIDERS.get(provider_id, {})\n",
    "\n",
    "    base_domain = settings.get(\"BASE_DOMAIN\", base_domain_default)\n",
    "    member_api = settings.get(\"MEMBER_API\", member_api_default)\n",
    "\n",
    "    api_domain = \"{0}.{1}\".format(\"api\" if member_api else \"pub\", base_domain)\n",
    "\n",
    "    authorize_url = \"https://{0}/oauth/authorize\".format(base_domain)\n",
    "    access_token_url = \"https://{0}/oauth/token\".format(api_domain)\n",
    "    profile_url = \"https://{0}/v2.1/%s/record\".format(api_domain)\n",
    "\n",
    "    def complete_login(self, request, app, token, **kwargs):\n",
    "        params = {}\n",
    "        if self.member_api:\n",
    "            params[\"access_token\"] = token.token\n",
    "\n",
    "        resp = (\n",
    "            get_adapter()\n",
    "            .get_requests_session()\n",
    "            .get(\n",
    "                self.profile_url % kwargs[\"response\"][\"orcid\"],\n",
    "                params=params,\n",
    "                headers={\"accept\": \"application/orcid+json\"},\n",
    "            )\n",
    "        )\n",
    "        extra_data = resp.json()\n",
    "        return self.get_provider().sociallogin_from_response(request, extra_data)"
   ]
  },
  {
   "cell_type": "markdown",
   "metadata": {},
   "source": []
  },
  {
   "cell_type": "code",
   "execution_count": null,
   "metadata": {},
   "outputs": [],
   "source": [
    "oauth2_login = OAuth2LoginView.adapter_view(OrcidOAuth2Adapter)\n",
    "oauth2_callback = OAuth2CallbackView.adapter_view(OrcidOAuth2Adapter)"
   ]
  },
  {
   "cell_type": "markdown",
   "metadata": {},
   "source": []
  }
 ],
 "metadata": {
  "language_info": {
   "name": "python"
  }
 },
 "nbformat": 4,
 "nbformat_minor": 2
}