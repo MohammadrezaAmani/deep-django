{
    "cells": [
        {
            "cell_type": "code",
            "execution_count": null,
            "metadata": {},
            "outputs": [],
            "source": [
                "from allauth.socialaccount.providers.base import ProviderAccount\n",
                "from allauth.socialaccount.providers.oauth2.provider import OAuth2Provider\n",
                "from allauth.socialaccount.providers.orcid.views import OrcidOAuth2Adapter\n"
            ]
        },
        {
            "cell_type": "markdown",
            "metadata": {},
            "source": []
        },
        {
            "cell_type": "code",
            "execution_count": null,
            "metadata": {},
            "outputs": [],
            "source": [
                "class Scope(object):\n",
                "    USERINFO_PROFILE = \"/authenticate\"\n"
            ]
        },
        {
            "cell_type": "markdown",
            "metadata": {},
            "source": []
        },
        {
            "cell_type": "code",
            "execution_count": null,
            "metadata": {},
            "outputs": [],
            "source": [
                "class OrcidAccount(ProviderAccount):\n",
                "    def get_profile_url(self):\n",
                "        return extract_from_dict(self.account.extra_data, [\"orcid-identifier\", \"uri\"])\n",
                "\n",
                "    def to_str(self):\n",
                "        return self.account.uid\n"
            ]
        },
        {
            "cell_type": "markdown",
            "metadata": {},
            "source": []
        },
        {
            "cell_type": "code",
            "execution_count": null,
            "metadata": {},
            "outputs": [],
            "source": [
                "class OrcidProvider(OAuth2Provider):\n",
                "    id = \"orcid\"\n",
                "    name = \"Orcid.org\"\n",
                "    account_class = OrcidAccount\n",
                "    oauth2_adapter_class = OrcidOAuth2Adapter\n",
                "\n",
                "    def get_default_scope(self):\n",
                "        return [Scope.USERINFO_PROFILE]\n",
                "\n",
                "    def extract_uid(self, data):\n",
                "        return extract_from_dict(data, [\"orcid-identifier\", \"path\"])\n",
                "\n",
                "    def extract_common_fields(self, data):\n",
                "        common_fields = dict(\n",
                "            email=extract_from_dict(data, [\"person\", \"emails\", \"email\", 0, \"email\"]),\n",
                "            last_name=extract_from_dict(\n",
                "                data, [\"person\", \"name\", \"family-name\", \"value\"]\n",
                "            ),\n",
                "            first_name=extract_from_dict(\n",
                "                data, [\"person\", \"name\", \"given-names\", \"value\"]\n",
                "            ),\n",
                "        )\n",
                "        return dict((key, value) for (key, value) in common_fields.items() if value)\n"
            ]
        },
        {
            "cell_type": "markdown",
            "metadata": {},
            "source": []
        },
        {
            "cell_type": "code",
            "execution_count": null,
            "metadata": {},
            "outputs": [],
            "source": [
                "provider_classes = [OrcidProvider]\n"
            ]
        },
        {
            "cell_type": "markdown",
            "metadata": {},
            "source": []
        },
        {
            "cell_type": "code",
            "execution_count": null,
            "metadata": {},
            "outputs": [],
            "source": [
                "def extract_from_dict(data, path):\n",
                "    \"\"\"\n",
                "    Navigate `data`, a multidimensional array (list or dictionary), and returns\n",
                "    the object at `path`.\n",
                "    \"\"\"\n",
                "    value = data\n",
                "    try:\n",
                "        for key in path:\n",
                "            value = value[key]\n",
                "        return value\n",
                "    except (KeyError, IndexError, TypeError):\n",
                "        return \"\"\n",
                "\n"
            ]
        },
        {
            "cell_type": "markdown",
            "metadata": {},
            "source": []
        }
    ],
    "metadata": {
        "language_info": {
            "name": "python"
        }
    },
    "nbformat": 4,
    "nbformat_minor": 2
}