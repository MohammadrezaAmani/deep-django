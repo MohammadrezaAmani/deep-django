{
    "cells": [
        {
            "cell_type": "code",
            "execution_count": null,
            "metadata": {},
            "outputs": [],
            "source": [
                "from allauth.account.models import EmailAddress\n",
                "from allauth.socialaccount import app_settings\n",
                "from allauth.socialaccount.providers.base import ProviderAccount\n",
                "from allauth.socialaccount.providers.oauth2.provider import OAuth2Provider\n",
                "from allauth.socialaccount.providers.yandex.views import YandexOAuth2Adapter\n"
            ]
        },
        {
            "cell_type": "markdown",
            "metadata": {},
            "source": []
        },
        {
            "cell_type": "code",
            "execution_count": null,
            "metadata": {},
            "outputs": [],
            "source": [
                "class YandexAccout(ProviderAccount):\n",
                "    def to_str(self):\n",
                "        first_name = self.account.extra_data.get(\"first_name\", \"\")\n",
                "        last_name = self.account.extra_data.get(\"last_name\", \"\")\n",
                "        name = \" \".join([first_name, last_name]).strip()\n",
                "        return name or super(YandexAccout, self).to_str()\n"
            ]
        },
        {
            "cell_type": "markdown",
            "metadata": {},
            "source": []
        },
        {
            "cell_type": "code",
            "execution_count": null,
            "metadata": {},
            "outputs": [],
            "source": [
                "class YandexProvider(OAuth2Provider):\n",
                "    id = \"yandex\"\n",
                "    name = \"Yandex\"\n",
                "    account_class = YandexAccout\n",
                "    oauth2_adapter_class = YandexOAuth2Adapter\n",
                "\n",
                "    def get_default_scope(self):\n",
                "        scope = [\"login:info\"]\n",
                "        if app_settings.QUERY_EMAIL:\n",
                "            scope.append(\"login:email\")\n",
                "        return scope\n",
                "\n",
                "    def extract_uid(self, data):\n",
                "        return str(data[\"id\"])\n",
                "\n",
                "    def get_user_email(self, data):\n",
                "        email = data.get(\"default_email\")\n",
                "        if not email:\n",
                "            emails = data.get(\"emails\")\n",
                "            email = emails[0] if emails else \"\"\n",
                "        return email\n",
                "\n",
                "    def extract_common_fields(self, data):\n",
                "        email = self.get_user_email(data)\n",
                "        return dict(\n",
                "            email=email,\n",
                "            last_name=data.get(\"last_name\"),\n",
                "            username=data.get(\"display_name\"),\n",
                "            first_name=data.get(\"first_name\"),\n",
                "        )\n",
                "\n",
                "    def extract_email_addresses(self, data):\n",
                "        ret = []\n",
                "        email = self.get_user_email(data)\n",
                "        if email:\n",
                "            ret.append(EmailAddress(email=email, verified=True, primary=True))\n",
                "        return ret\n"
            ]
        },
        {
            "cell_type": "markdown",
            "metadata": {},
            "source": []
        },
        {
            "cell_type": "code",
            "execution_count": null,
            "metadata": {},
            "outputs": [],
            "source": [
                "provider_classes = [YandexProvider]\n",
                "\n"
            ]
        },
        {
            "cell_type": "markdown",
            "metadata": {},
            "source": []
        }
    ],
    "metadata": {
        "language_info": {
            "name": "python"
        }
    },
    "nbformat": 4,
    "nbformat_minor": 2
}