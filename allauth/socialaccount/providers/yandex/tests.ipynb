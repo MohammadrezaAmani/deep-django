{
 "cells": [
  {
   "cell_type": "code",
   "execution_count": null,
   "metadata": {},
   "outputs": [],
   "source": [
    "from allauth.socialaccount.tests import OAuth2TestsMixin\n",
    "from allauth.tests import MockedResponse, TestCase\n",
    "\n",
    "from .provider import YandexProvider"
   ]
  },
  {
   "cell_type": "markdown",
   "metadata": {},
   "source": []
  },
  {
   "cell_type": "code",
   "execution_count": null,
   "metadata": {},
   "outputs": [],
   "source": [
    "class YandexTests(OAuth2TestsMixin, TestCase):\n",
    "    provider_id = YandexProvider.id\n",
    "\n",
    "    yandex_data = \"\"\"\n",
    "        {\n",
    "            \"login\": \"vasya\",\n",
    "                \"old_social_login\": \"uid-mmzxrnry\",\n",
    "                    \"default_email\": \"test@yandex.ru\",\n",
    "                        \"id\": \"1000034426\",\n",
    "                            \"client_id\": \"4760187d81bc4b7799476b42b5103713\",\n",
    "                                \"emails\": [\n",
    "                                    \"test@yandex.ru\",\n",
    "                                    \"other-test@yandex.ru\"\n",
    "                                ],\n",
    "                                \"openid_identities\": [\n",
    "                                    \"http://openid.yandex.ru/vasya/\",\n",
    "                                    \"http://vasya.ya.ru/\"\n",
    "                                ]\n",
    "        }\"\"\"\n",
    "\n",
    "    def get_mocked_response(self, data=None):\n",
    "        if data is None:\n",
    "            data = self.yandex_data\n",
    "        return MockedResponse(200, data)\n",
    "\n",
    "    def get_login_response_json(self, with_refresh_token=True):\n",
    "        return \"\"\"\n",
    "            {\n",
    "                \"access_token\":\"testac\",\n",
    "                \"refresh_token\":\"1:GN686QVt0mmakDd9:A4pYuW9LGk0_UnlrMIWklk\",\n",
    "                \"token_type\":\"bearer\",\n",
    "                \"expires_in\":124234123534\n",
    "            }\"\"\""
   ]
  },
  {
   "cell_type": "markdown",
   "metadata": {},
   "source": []
  }
 ],
 "metadata": {
  "language_info": {
   "name": "python"
  }
 },
 "nbformat": 4,
 "nbformat_minor": 2
}