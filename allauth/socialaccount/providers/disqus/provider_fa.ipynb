{
 "cells": [
  {
   "cell_type": "code",
   "execution_count": null,
   "metadata": {},
   "outputs": [],
   "source": [
    "from allauth.account.models import EmailAddress\n",
    "from allauth.socialaccount.app_settings import QUERY_EMAIL\n",
    "from allauth.socialaccount.providers.base import ProviderAccount\n",
    "from allauth.socialaccount.providers.disqus.views import DisqusOAuth2Adapter\n",
    "from allauth.socialaccount.providers.oauth2.provider import OAuth2Provider"
   ]
  },
  {
   "cell_type": "markdown",
   "metadata": {},
   "source": []
  },
  {
   "cell_type": "code",
   "execution_count": null,
   "metadata": {},
   "outputs": [],
   "source": [
    "class DisqusAccount(ProviderAccount):\n",
    "    def get_profile_url(self):\n",
    "        return self.account.extra_data.get(\"profileUrl\")\n",
    "\n",
    "    def get_avatar_url(self):\n",
    "        return self.account.extra_data.get(\"avatar\", {}).get(\"permalink\")\n",
    "\n",
    "    def to_str(self):\n",
    "        dflt = super(DisqusAccount, self).to_str()\n",
    "        return self.account.extra_data.get(\"name\", dflt)"
   ]
  },
  {
   "cell_type": "markdown",
   "metadata": {},
   "source": []
  },
  {
   "cell_type": "code",
   "execution_count": null,
   "metadata": {},
   "outputs": [],
   "source": [
    "class DisqusProvider(OAuth2Provider):\n",
    "    id = \"disqus\"\n",
    "    name = \"Disqus\"\n",
    "    account_class = DisqusAccount\n",
    "    oauth2_adapter_class = DisqusOAuth2Adapter\n",
    "\n",
    "    def get_default_scope(self):\n",
    "        scope = [\"read\"]\n",
    "        if QUERY_EMAIL:\n",
    "            scope += [\"email\"]\n",
    "        return scope\n",
    "\n",
    "    def extract_uid(self, data):\n",
    "        return str(data[\"id\"])\n",
    "\n",
    "    def extract_common_fields(self, data):\n",
    "        return {\n",
    "            \"username\": data.get(\"username\"),\n",
    "            \"email\": data.get(\"email\"),\n",
    "            \"name\": data.get(\"name\"),\n",
    "        }\n",
    "\n",
    "    def extract_email_addresses(self, data):\n",
    "        ret = []\n",
    "        email = data.get(\"email\")\n",
    "        if email:\n",
    "            ret.append(EmailAddress(email=email, verified=True, primary=True))\n",
    "        return ret"
   ]
  },
  {
   "cell_type": "markdown",
   "metadata": {},
   "source": []
  },
  {
   "cell_type": "code",
   "execution_count": null,
   "metadata": {},
   "outputs": [],
   "source": [
    "provider_classes = [DisqusProvider]"
   ]
  },
  {
   "cell_type": "markdown",
   "metadata": {},
   "source": []
  }
 ],
 "metadata": {
  "language_info": {
   "name": "python"
  }
 },
 "nbformat": 4,
 "nbformat_minor": 2
}