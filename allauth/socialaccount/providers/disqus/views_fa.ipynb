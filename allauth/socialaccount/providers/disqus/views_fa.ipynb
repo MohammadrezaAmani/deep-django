{
    "cells": [
        {
            "cell_type": "code",
            "execution_count": null,
            "metadata": {},
            "outputs": [],
            "source": [
                "from allauth.socialaccount.adapter import get_adapter\n",
                "from allauth.socialaccount.providers.oauth2.views import (\n",
                "    OAuth2Adapter,\n",
                "    OAuth2CallbackView,\n",
                "    OAuth2LoginView,\n",
                ")\n"
            ]
        },
        {
            "cell_type": "markdown",
            "metadata": {},
            "source": []
        },
        {
            "cell_type": "code",
            "execution_count": null,
            "metadata": {},
            "outputs": [],
            "source": [
                "class DisqusOAuth2Adapter(OAuth2Adapter):\n",
                "    provider_id = \"disqus\"\n",
                "    access_token_url = \"https://disqus.com/api/oauth/2.0/access_token/\"\n",
                "    authorize_url = \"https://disqus.com/api/oauth/2.0/authorize/\"\n",
                "    profile_url = \"https://disqus.com/api/3.0/users/details.json\"\n",
                "    scope_delimiter = \",\"\n",
                "\n",
                "    def complete_login(self, request, app, token, **kwargs):\n",
                "        resp = (\n",
                "            get_adapter()\n",
                "            .get_requests_session()\n",
                "            .get(\n",
                "                self.profile_url,\n",
                "                params={\n",
                "                    \"access_token\": token.token,\n",
                "                    \"api_key\": app.client_id,\n",
                "                    \"api_secret\": app.secret,\n",
                "                },\n",
                "            )\n",
                "        )\n",
                "        resp.raise_for_status()\n",
                "\n",
                "        extra_data = resp.json().get(\"response\")\n",
                "\n",
                "        login = self.get_provider().sociallogin_from_response(request, extra_data)\n",
                "        return login\n"
            ]
        },
        {
            "cell_type": "markdown",
            "metadata": {},
            "source": []
        },
        {
            "cell_type": "code",
            "execution_count": null,
            "metadata": {},
            "outputs": [],
            "source": [
                "oauth2_login = OAuth2LoginView.adapter_view(DisqusOAuth2Adapter)\n",
                "oauth2_callback = OAuth2CallbackView.adapter_view(DisqusOAuth2Adapter)\n",
                "\n"
            ]
        },
        {
            "cell_type": "markdown",
            "metadata": {},
            "source": []
        }
    ],
    "metadata": {
        "language_info": {
            "name": "python"
        }
    },
    "nbformat": 4,
    "nbformat_minor": 2
}