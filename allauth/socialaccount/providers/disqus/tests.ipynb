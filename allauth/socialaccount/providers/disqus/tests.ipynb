{
 "cells": [
  {
   "cell_type": "code",
   "execution_count": null,
   "metadata": {},
   "outputs": [],
   "source": [
    "# -*- coding: utf-8 -*-\n",
    "from django.contrib.auth.models import User\n",
    "from django.test.utils import override_settings\n",
    "\n",
    "from allauth.account import app_settings as account_settings\n",
    "from allauth.account.models import EmailAddress\n",
    "from allauth.socialaccount.models import SocialAccount\n",
    "from allauth.socialaccount.tests import OAuth2TestsMixin\n",
    "from allauth.tests import MockedResponse, TestCase\n",
    "\n",
    "from .provider import DisqusProvider"
   ]
  },
  {
   "cell_type": "markdown",
   "metadata": {},
   "source": []
  },
  {
   "cell_type": "code",
   "execution_count": null,
   "metadata": {},
   "outputs": [],
   "source": [
    "@override_settings(\n",
    "    SOCIALACCOUNT_AUTO_SIGNUP=True,\n",
    "    ACCOUNT_SIGNUP_FORM_CLASS=None,\n",
    "    ACCOUNT_EMAIL_VERIFICATION=account_settings.EmailVerificationMethod.MANDATORY,\n",
    ")\n",
    "class DisqusTests(OAuth2TestsMixin, TestCase):\n",
    "    provider_id = DisqusProvider.id\n",
    "\n",
    "    def get_mocked_response(\n",
    "        self, name=\"Raymond Penners\", email=\"raymond.penners@example.com\"\n",
    "    ):\n",
    "        return MockedResponse(\n",
    "            200,\n",
    "            \"\"\"\n",
    "              {\"response\": {\"name\": \"%s\",\n",
    "               \"avatar\": {\n",
    "                \"permalink\": \"https://lh5.googleusercontent.com/photo.jpg\"\n",
    "               },\n",
    "               \"email\": \"%s\",\n",
    "               \"profileUrl\": \"https://plus.google.com/108204268033311374519\",\n",
    "               \"id\": \"108204268033311374519\" }}\n",
    "        \"\"\"\n",
    "            % (name, email),\n",
    "        )\n",
    "\n",
    "    def test_account_connect(self):\n",
    "        email = \"user@example.com\"\n",
    "        user = User.objects.create(username=\"user\", is_active=True, email=email)\n",
    "        user.set_password(\"test\")\n",
    "        user.save()\n",
    "        EmailAddress.objects.create(user=user, email=email, primary=True, verified=True)\n",
    "        self.client.login(username=user.username, password=\"test\")\n",
    "        self.login(self.get_mocked_response(), process=\"connect\")\n",
    "        # Check if we connected...\n",
    "        self.assertTrue(\n",
    "            SocialAccount.objects.filter(user=user, provider=DisqusProvider.id).exists()\n",
    "        )\n",
    "        # For now, we do not pick up any new email addresses on connect\n",
    "        self.assertEqual(EmailAddress.objects.filter(user=user).count(), 1)\n",
    "        self.assertEqual(EmailAddress.objects.filter(user=user, email=email).count(), 1)"
   ]
  },
  {
   "cell_type": "markdown",
   "metadata": {},
   "source": []
  }
 ],
 "metadata": {
  "language_info": {
   "name": "python"
  }
 },
 "nbformat": 4,
 "nbformat_minor": 2
}