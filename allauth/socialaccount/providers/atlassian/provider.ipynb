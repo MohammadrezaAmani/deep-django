{
 "cells": [
  {
   "cell_type": "code",
   "execution_count": null,
   "metadata": {},
   "outputs": [],
   "source": [
    "from allauth.socialaccount.providers.base import ProviderAccount\n",
    "from allauth.socialaccount.providers.oauth2.provider import OAuth2Provider\n",
    "\n",
    "from .views import AtlassianOAuth2Adapter"
   ]
  },
  {
   "cell_type": "markdown",
   "metadata": {},
   "source": []
  },
  {
   "cell_type": "code",
   "execution_count": null,
   "metadata": {},
   "outputs": [],
   "source": [
    "class AtlassianAccount(ProviderAccount):\n",
    "    def get_profile_url(self):\n",
    "        return self.account.extra_data.get(\"picture\")"
   ]
  },
  {
   "cell_type": "markdown",
   "metadata": {},
   "source": []
  },
  {
   "cell_type": "code",
   "execution_count": null,
   "metadata": {},
   "outputs": [],
   "source": [
    "class AtlassianProvider(OAuth2Provider):\n",
    "    id = \"atlassian\"\n",
    "    name = \"Atlassian\"\n",
    "    account_class = AtlassianAccount\n",
    "    oauth2_adapter_class = AtlassianOAuth2Adapter\n",
    "\n",
    "    def extract_uid(self, data):\n",
    "        return data[\"account_id\"]\n",
    "\n",
    "    def extract_common_fields(self, data):\n",
    "        return {\n",
    "            \"email\": data.get(\"email\"),\n",
    "            \"name\": data.get(\"name\"),\n",
    "            \"username\": data.get(\"nickname\"),\n",
    "            \"email_verified\": data.get(\"email_verified\"),\n",
    "        }\n",
    "\n",
    "    def get_default_scope(self):\n",
    "        return [\"read:me\"]\n",
    "\n",
    "    def get_auth_params(self):\n",
    "        params = super().get_auth_params()\n",
    "        params.update({\"audience\": \"api.atlassian.com\", \"prompt\": \"consent\"})\n",
    "        return params"
   ]
  },
  {
   "cell_type": "markdown",
   "metadata": {},
   "source": []
  },
  {
   "cell_type": "code",
   "execution_count": null,
   "metadata": {},
   "outputs": [],
   "source": [
    "provider_classes = [AtlassianProvider]"
   ]
  },
  {
   "cell_type": "markdown",
   "metadata": {},
   "source": []
  }
 ],
 "metadata": {
  "language_info": {
   "name": "python"
  }
 },
 "nbformat": 4,
 "nbformat_minor": 2
}