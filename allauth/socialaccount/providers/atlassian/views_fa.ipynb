{
 "cells": [
  {
   "cell_type": "code",
   "execution_count": null,
   "metadata": {},
   "outputs": [],
   "source": [
    "from allauth.socialaccount.adapter import get_adapter\n",
    "from allauth.socialaccount.providers.oauth2.views import (\n",
    "    OAuth2Adapter,\n",
    "    OAuth2CallbackView,\n",
    "    OAuth2LoginView,\n",
    ")"
   ]
  },
  {
   "cell_type": "markdown",
   "metadata": {},
   "source": []
  },
  {
   "cell_type": "code",
   "execution_count": null,
   "metadata": {},
   "outputs": [],
   "source": [
    "class AtlassianOAuth2Adapter(OAuth2Adapter):\n",
    "    provider_id = \"atlassian\"\n",
    "    access_token_url = \"https://api.atlassian.com/oauth/token\"\n",
    "    authorize_url = \"https://auth.atlassian.com/authorize\"\n",
    "    profile_url = \"https://api.atlassian.com/me\"\n",
    "\n",
    "    def complete_login(self, request, app, access_token, **kwargs):\n",
    "        headers = {\n",
    "            \"Authorization\": f\"Bearer {access_token}\",\n",
    "            \"Accept\": \"application/json\",\n",
    "        }\n",
    "        response = (\n",
    "            get_adapter().get_requests_session().get(self.profile_url, headers=headers)\n",
    "        )\n",
    "        response.raise_for_status()\n",
    "        data = response.json()\n",
    "        return self.get_provider().sociallogin_from_response(request, data)"
   ]
  },
  {
   "cell_type": "markdown",
   "metadata": {},
   "source": []
  },
  {
   "cell_type": "code",
   "execution_count": null,
   "metadata": {},
   "outputs": [],
   "source": [
    "oauth2_login = OAuth2LoginView.adapter_view(AtlassianOAuth2Adapter)\n",
    "oauth2_callback = OAuth2CallbackView.adapter_view(AtlassianOAuth2Adapter)"
   ]
  },
  {
   "cell_type": "markdown",
   "metadata": {},
   "source": []
  }
 ],
 "metadata": {
  "language_info": {
   "name": "python"
  }
 },
 "nbformat": 4,
 "nbformat_minor": 2
}