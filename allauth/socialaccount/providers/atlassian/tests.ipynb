{
 "cells": [
  {
   "cell_type": "code",
   "execution_count": null,
   "metadata": {},
   "outputs": [],
   "source": [
    "from allauth.socialaccount.tests import OAuth2TestsMixin\n",
    "from allauth.tests import MockedResponse, TestCase\n",
    "\n",
    "from .provider import AtlassianProvider"
   ]
  },
  {
   "cell_type": "markdown",
   "metadata": {},
   "source": []
  },
  {
   "cell_type": "code",
   "execution_count": null,
   "metadata": {},
   "outputs": [],
   "source": [
    "class AtlassianTests(OAuth2TestsMixin, TestCase):\n",
    "    provider_id = AtlassianProvider.id\n",
    "\n",
    "    def get_mocked_response(self):\n",
    "        response_data = \"\"\"\n",
    "        {\n",
    "            \"account_type\": \"atlassian\",\n",
    "            \"account_id\": \"112233aa-bb11-cc22-33dd-445566abcabc\",\n",
    "            \"email\": \"mia@example.com\",\n",
    "            \"email_verified\": true,\n",
    "            \"name\": \"Mia Krystof\",\n",
    "            \"picture\": \"https://avatar-management--avatars.us-west-2.prod.public.atl-paas.net/112233aa-bb11-cc22-33dd-445566abcabc/1234abcd-9876-54aa-33aa-1234dfsade9487ds\",\n",
    "            \"account_status\": \"active\",\n",
    "            \"nickname\": \"mkrystof\",\n",
    "            \"zoneinfo\": \"Australia/Sydney\",\n",
    "            \"locale\": \"en-US\",\n",
    "            \"extended_profile\": {\n",
    "                \"job_title\": \"Designer\",\n",
    "                \"organization\": \"mia@example.com\",\n",
    "                \"department\": \"Design team\",\n",
    "                \"location\": \"Sydney\"\n",
    "            }\n",
    "        }\"\"\"\n",
    "        return MockedResponse(200, response_data)"
   ]
  },
  {
   "cell_type": "markdown",
   "metadata": {},
   "source": []
  }
 ],
 "metadata": {
  "language_info": {
   "name": "python"
  }
 },
 "nbformat": 4,
 "nbformat_minor": 2
}