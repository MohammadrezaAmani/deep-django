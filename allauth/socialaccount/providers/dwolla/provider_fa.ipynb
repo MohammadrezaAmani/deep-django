{
    "cells": [
        {
            "cell_type": "code",
            "execution_count": null,
            "metadata": {},
            "outputs": [],
            "source": [
                "\"\"\"Provider for Dwolla\"\"\"\n",
                "\n",
                "from allauth.socialaccount.providers.base import ProviderAccount\n",
                "from allauth.socialaccount.providers.dwolla.views import DwollaOAuth2Adapter\n",
                "from allauth.socialaccount.providers.oauth2.provider import OAuth2Provider\n"
            ]
        },
        {
            "cell_type": "markdown",
            "metadata": {},
            "source": []
        },
        {
            "cell_type": "code",
            "execution_count": null,
            "metadata": {},
            "outputs": [],
            "source": [
                "class DwollaAccount(ProviderAccount):\n",
                "    \"\"\"Dwolla Account\"\"\"\n",
                "\n",
                "    pass\n"
            ]
        },
        {
            "cell_type": "markdown",
            "metadata": {},
            "source": []
        },
        {
            "cell_type": "code",
            "execution_count": null,
            "metadata": {},
            "outputs": [],
            "source": [
                "class DwollaProvider(OAuth2Provider):\n",
                "    \"\"\"Provider for Dwolla\"\"\"\n",
                "\n",
                "    id = \"dwolla\"\n",
                "    name = \"Dwolla\"\n",
                "    account_class = DwollaAccount\n",
                "    oauth2_adapter_class = DwollaOAuth2Adapter\n",
                "\n",
                "    def extract_uid(self, data):\n",
                "        return str(data.get(\"id\", None))\n",
                "\n",
                "    def extract_common_fields(self, data):\n",
                "        return dict(\n",
                "            name=data.get(\"name\"),\n",
                "        )\n"
            ]
        },
        {
            "cell_type": "markdown",
            "metadata": {},
            "source": []
        },
        {
            "cell_type": "code",
            "execution_count": null,
            "metadata": {},
            "outputs": [],
            "source": [
                "provider_classes = [DwollaProvider]\n",
                "\n"
            ]
        },
        {
            "cell_type": "markdown",
            "metadata": {},
            "source": []
        }
    ],
    "metadata": {
        "language_info": {
            "name": "python"
        }
    },
    "nbformat": 4,
    "nbformat_minor": 2
}