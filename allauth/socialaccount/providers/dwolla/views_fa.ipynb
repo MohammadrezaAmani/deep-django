{
 "cells": [
  {
   "cell_type": "code",
   "execution_count": null,
   "metadata": {},
   "outputs": [],
   "source": [
    "from allauth.socialaccount.adapter import get_adapter\n",
    "from allauth.socialaccount.providers.oauth2.views import (\n",
    "    OAuth2Adapter,\n",
    "    OAuth2CallbackView,\n",
    "    OAuth2LoginView,\n",
    ")\n",
    "from django.conf import settings\n",
    "\n",
    "ENVIRONMENTS = {\n",
    "    \"production\": {\n",
    "        \"auth_url\": \"https://www.dwolla.com/oauth/v2/authenticate\",\n",
    "        \"token_url\": \"https://www.dwolla.com/oauth/v2/token\",\n",
    "    },\n",
    "    \"sandbox\": {\n",
    "        \"auth_url\": \"https://uat.dwolla.com/oauth/v2/authenticate\",\n",
    "        \"token_url\": \"https://uat.dwolla.com/oauth/v2/token\",\n",
    "    },\n",
    "}\n",
    "\n",
    "ENV = (\n",
    "    getattr(settings, \"SOCIALACCOUNT_PROVIDERS\", {})\n",
    "    .get(\"dwolla\", {})\n",
    "    .get(\"ENVIRONMENT\", \"production\")\n",
    ")\n",
    "\n",
    "AUTH_URL = ENVIRONMENTS[ENV][\"auth_url\"]\n",
    "TOKEN_URL = ENVIRONMENTS[ENV][\"token_url\"]"
   ]
  },
  {
   "cell_type": "markdown",
   "metadata": {},
   "source": []
  },
  {
   "cell_type": "code",
   "execution_count": null,
   "metadata": {},
   "outputs": [],
   "source": [
    "class DwollaOAuth2Adapter(OAuth2Adapter):\n",
    "    \"\"\"Dwolla Views Adapter\"\"\"\n",
    "\n",
    "    scope_delimiter = \"|\"\n",
    "\n",
    "    provider_id = \"dwolla\"\n",
    "    access_token_url = TOKEN_URL\n",
    "    authorize_url = AUTH_URL\n",
    "\n",
    "    def complete_login(self, request, app, token, response, **kwargs):\n",
    "        resp = (\n",
    "            get_adapter()\n",
    "            .get_requests_session()\n",
    "            .get(\n",
    "                response[\"_links\"][\"account\"][\"href\"],\n",
    "                headers={\n",
    "                    \"authorization\": \"Bearer %s\" % token.token,\n",
    "                    \"accept\": \"application/vnd.dwolla.v1.hal+json\",\n",
    "                },\n",
    "            )\n",
    "        )\n",
    "\n",
    "        extra_data = resp.json()\n",
    "\n",
    "        return self.get_provider().sociallogin_from_response(request, extra_data)"
   ]
  },
  {
   "cell_type": "markdown",
   "metadata": {},
   "source": []
  },
  {
   "cell_type": "code",
   "execution_count": null,
   "metadata": {},
   "outputs": [],
   "source": [
    "oauth2_login = OAuth2LoginView.adapter_view(DwollaOAuth2Adapter)\n",
    "oauth2_callback = OAuth2CallbackView.adapter_view(DwollaOAuth2Adapter)"
   ]
  },
  {
   "cell_type": "markdown",
   "metadata": {},
   "source": []
  }
 ],
 "metadata": {
  "language_info": {
   "name": "python"
  }
 },
 "nbformat": 4,
 "nbformat_minor": 2
}