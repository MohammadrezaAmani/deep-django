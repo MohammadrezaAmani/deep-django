{
 "cells": [
  {
   "cell_type": "code",
   "execution_count": null,
   "metadata": {},
   "outputs": [],
   "source": [
    "from allauth.socialaccount.tests import OAuth2TestsMixin\n",
    "from allauth.tests import MockedResponse, TestCase\n",
    "\n",
    "from .provider import DwollaProvider"
   ]
  },
  {
   "cell_type": "markdown",
   "metadata": {},
   "source": []
  },
  {
   "cell_type": "code",
   "execution_count": null,
   "metadata": {},
   "outputs": [],
   "source": [
    "class DwollaTests(OAuth2TestsMixin, TestCase):\n",
    "    provider_id = DwollaProvider.id\n",
    "\n",
    "    def get_mocked_response(self):\n",
    "        return MockedResponse(\n",
    "            200,\n",
    "            \"\"\"{\n",
    "            \"id\": \"123\",\n",
    "            \"_links\":{\"account\":{\"href\":\"http://localhost\"}},\n",
    "            \"name\":\"John Doe\"\n",
    "        }\"\"\",\n",
    "        )\n",
    "\n",
    "    def get_login_response_json(self, with_refresh_token=True):\n",
    "        rt = \"\"\n",
    "        if with_refresh_token:\n",
    "            rt = ',\"refresh_token\": \"testrf\"'\n",
    "        return (\n",
    "            \"\"\"{\n",
    "            \"uid\":\"weibo\",\n",
    "            \"access_token\":\"testac\",\n",
    "            \"_links\":{\"account\":{\"href\":\"http://localhost\"}}\n",
    "            %s }\"\"\"\n",
    "            % rt\n",
    "        )"
   ]
  },
  {
   "cell_type": "markdown",
   "metadata": {},
   "source": []
  }
 ],
 "metadata": {
  "language_info": {
   "name": "python"
  }
 },
 "nbformat": 4,
 "nbformat_minor": 2
}