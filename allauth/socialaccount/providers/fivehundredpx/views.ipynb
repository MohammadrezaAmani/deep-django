{
    "cells": [
        {
            "cell_type": "code",
            "execution_count": null,
            "metadata": {},
            "outputs": [],
            "source": [
                "import json\n",
                "\n",
                "from allauth.socialaccount.providers.oauth.client import OAuth\n",
                "from allauth.socialaccount.providers.oauth.views import (\n",
                "    OAuthAdapter,\n",
                "    OAuthCallbackView,\n",
                "    OAuthLoginView,\n",
                ")\n",
                "\n",
                "from .provider import FiveHundredPxProvider\n"
            ]
        },
        {
            "cell_type": "markdown",
            "metadata": {},
            "source": []
        },
        {
            "cell_type": "code",
            "execution_count": null,
            "metadata": {},
            "outputs": [],
            "source": [
                "API_BASE = \"https://api.500px.com/v1\"\n"
            ]
        },
        {
            "cell_type": "markdown",
            "metadata": {},
            "source": []
        },
        {
            "cell_type": "code",
            "execution_count": null,
            "metadata": {},
            "outputs": [],
            "source": [
                "class FiveHundredPxAPI(OAuth):\n",
                "    \"\"\"\n",
                "    Verifying 500px credentials\n",
                "    \"\"\"\n",
                "\n",
                "    url = API_BASE + \"/users\"\n",
                "\n",
                "    def get_user_info(self):\n",
                "        return json.loads(self.query(self.url))[\"user\"]\n"
            ]
        },
        {
            "cell_type": "markdown",
            "metadata": {},
            "source": []
        },
        {
            "cell_type": "code",
            "execution_count": null,
            "metadata": {},
            "outputs": [],
            "source": [
                "class FiveHundredPxOAuthAdapter(OAuthAdapter):\n",
                "    provider_id = FiveHundredPxProvider.id\n",
                "    request_token_url = API_BASE + \"/oauth/request_token\"\n",
                "    access_token_url = API_BASE + \"/oauth/access_token\"\n",
                "    authorize_url = API_BASE + \"/oauth/authorize\"\n",
                "\n",
                "    def complete_login(self, request, app, token, response):\n",
                "        client = FiveHundredPxAPI(\n",
                "            request, app.client_id, app.secret, self.request_token_url\n",
                "        )\n",
                "        extra_data = client.get_user_info()\n",
                "        return self.get_provider().sociallogin_from_response(request, extra_data)\n"
            ]
        },
        {
            "cell_type": "markdown",
            "metadata": {},
            "source": []
        },
        {
            "cell_type": "code",
            "execution_count": null,
            "metadata": {},
            "outputs": [],
            "source": [
                "oauth_login = OAuthLoginView.adapter_view(FiveHundredPxOAuthAdapter)\n",
                "oauth_callback = OAuthCallbackView.adapter_view(FiveHundredPxOAuthAdapter)\n",
                "\n"
            ]
        },
        {
            "cell_type": "markdown",
            "metadata": {},
            "source": []
        }
    ],
    "metadata": {
        "language_info": {
            "name": "python"
        }
    },
    "nbformat": 4,
    "nbformat_minor": 2
}