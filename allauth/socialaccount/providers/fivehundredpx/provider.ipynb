{
    "cells": [
        {
            "cell_type": "code",
            "execution_count": null,
            "metadata": {},
            "outputs": [],
            "source": [
                "from allauth.socialaccount.providers.base import ProviderAccount\n",
                "from allauth.socialaccount.providers.oauth.provider import OAuthProvider\n"
            ]
        },
        {
            "cell_type": "markdown",
            "metadata": {},
            "source": []
        },
        {
            "cell_type": "code",
            "execution_count": null,
            "metadata": {},
            "outputs": [],
            "source": [
                "class FiveHundredPxAccount(ProviderAccount):\n",
                "    def get_profile_url(self):\n",
                "        return \"https://500px.com/%s\" % self.account.extra_data.get(\"username\")\n",
                "\n",
                "    def get_avatar_url(self):\n",
                "        return self.account.extra_data.get(\"userpic_url\")\n",
                "\n",
                "    def to_str(self):\n",
                "        dflt = super(FiveHundredPxAccount, self).to_str()\n",
                "        name = self.account.extra_data.get(\"fullname\", dflt)\n",
                "        return name\n"
            ]
        },
        {
            "cell_type": "markdown",
            "metadata": {},
            "source": []
        },
        {
            "cell_type": "code",
            "execution_count": null,
            "metadata": {},
            "outputs": [],
            "source": [
                "class FiveHundredPxProvider(OAuthProvider):\n",
                "    id = \"500px\"\n",
                "    name = \"500px\"\n",
                "    package = \"allauth.socialaccount.providers.fivehundredpx\"\n",
                "    account_class = FiveHundredPxAccount\n",
                "\n",
                "    def get_default_scope(self):\n",
                "        return []\n",
                "\n",
                "    def extract_uid(self, data):\n",
                "        return str(data[\"id\"])\n",
                "\n",
                "    def extract_common_fields(self, data):\n",
                "        return dict(\n",
                "            username=data.get(\"username\"),\n",
                "            email=data.get(\"email\"),\n",
                "            first_name=data.get(\"firstname\"),\n",
                "            last_name=data.get(\"lastname\"),\n",
                "        )\n"
            ]
        },
        {
            "cell_type": "markdown",
            "metadata": {},
            "source": []
        },
        {
            "cell_type": "code",
            "execution_count": null,
            "metadata": {},
            "outputs": [],
            "source": [
                "provider_classes = [FiveHundredPxProvider]\n",
                "\n"
            ]
        },
        {
            "cell_type": "markdown",
            "metadata": {},
            "source": []
        }
    ],
    "metadata": {
        "language_info": {
            "name": "python"
        }
    },
    "nbformat": 4,
    "nbformat_minor": 2
}