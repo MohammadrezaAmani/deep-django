{
 "cells": [
  {
   "cell_type": "code",
   "execution_count": null,
   "metadata": {},
   "outputs": [],
   "source": [
    "import json\n",
    "\n",
    "from allauth.socialaccount.tests import OAuth2TestsMixin\n",
    "from allauth.tests import MockedResponse, TestCase\n",
    "\n",
    "from .provider import DaumProvider"
   ]
  },
  {
   "cell_type": "markdown",
   "metadata": {},
   "source": []
  },
  {
   "cell_type": "code",
   "execution_count": null,
   "metadata": {},
   "outputs": [],
   "source": [
    "class DaumTests(OAuth2TestsMixin, TestCase):\n",
    "    provider_id = DaumProvider.id\n",
    "\n",
    "    def get_mocked_response(self):\n",
    "        result = {}\n",
    "        result[\"userid\"] = \"38DTh\"\n",
    "        result[\"id\"] = 46287445\n",
    "        result[\"nickname\"] = \"xncbf\"\n",
    "        result[\"bigImagePath\"] = \"https://img1.daumcdn.net/thumb/\"\n",
    "        result[\"openProfile\"] = \"https://img1.daumcdn.net/thumb/\"\n",
    "        body = {}\n",
    "        body[\"code\"] = 200\n",
    "        body[\"message\"] = \"OK\"\n",
    "        body[\"result\"] = result\n",
    "        return MockedResponse(200, json.dumps(body))"
   ]
  },
  {
   "cell_type": "markdown",
   "metadata": {},
   "source": []
  }
 ],
 "metadata": {
  "language_info": {
   "name": "python"
  }
 },
 "nbformat": 4,
 "nbformat_minor": 2
}