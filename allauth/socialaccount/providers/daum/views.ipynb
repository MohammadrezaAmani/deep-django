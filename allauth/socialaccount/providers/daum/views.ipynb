{
 "cells": [
  {
   "cell_type": "code",
   "execution_count": null,
   "metadata": {},
   "outputs": [],
   "source": [
    "from allauth.socialaccount.adapter import get_adapter\n",
    "from allauth.socialaccount.providers.oauth2.views import (\n",
    "    OAuth2Adapter,\n",
    "    OAuth2CallbackView,\n",
    "    OAuth2LoginView,\n",
    ")"
   ]
  },
  {
   "cell_type": "markdown",
   "metadata": {},
   "source": []
  },
  {
   "cell_type": "code",
   "execution_count": null,
   "metadata": {},
   "outputs": [],
   "source": [
    "class DaumOAuth2Adapter(OAuth2Adapter):\n",
    "    provider_id = \"Daum\"\n",
    "    access_token_url = \"https://apis.daum.net/oauth2/token\"\n",
    "    authorize_url = \"https://apis.daum.net/oauth2/authorize\"\n",
    "    profile_url = \"https://apis.daum.net/user/v1/show.json\"\n",
    "\n",
    "    def complete_login(self, request, app, token, **kwargs):\n",
    "        resp = (\n",
    "            get_adapter()\n",
    "            .get_requests_session()\n",
    "            .get(self.profile_url, params={\"access_token\": token.token})\n",
    "        )\n",
    "        extra_data = resp.json().get(\"result\")\n",
    "        return self.get_provider().sociallogin_from_response(request, extra_data)"
   ]
  },
  {
   "cell_type": "markdown",
   "metadata": {},
   "source": []
  },
  {
   "cell_type": "code",
   "execution_count": null,
   "metadata": {},
   "outputs": [],
   "source": [
    "oauth2_login = OAuth2LoginView.adapter_view(DaumOAuth2Adapter)\n",
    "oauth2_callback = OAuth2CallbackView.adapter_view(DaumOAuth2Adapter)"
   ]
  },
  {
   "cell_type": "markdown",
   "metadata": {},
   "source": []
  }
 ],
 "metadata": {
  "language_info": {
   "name": "python"
  }
 },
 "nbformat": 4,
 "nbformat_minor": 2
}