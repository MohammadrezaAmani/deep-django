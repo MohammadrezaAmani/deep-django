{
    "cells": [
        {
            "cell_type": "code",
            "execution_count": null,
            "metadata": {},
            "outputs": [],
            "source": [
                "from allauth.socialaccount.providers.base import ProviderAccount\n",
                "from allauth.socialaccount.providers.daum.views import DaumOAuth2Adapter\n",
                "from allauth.socialaccount.providers.oauth2.provider import OAuth2Provider\n"
            ]
        },
        {
            "cell_type": "markdown",
            "metadata": {},
            "source": []
        },
        {
            "cell_type": "code",
            "execution_count": null,
            "metadata": {},
            "outputs": [],
            "source": [
                "class DaumAccount(ProviderAccount):\n",
                "    def get_avatar_url(self):\n",
                "        return self.account.extra_data.get(\"bigImagePath\")\n",
                "\n",
                "    def to_str(self):\n",
                "        return self.account.extra_data.get(\"nickname\", self.account.uid)\n"
            ]
        },
        {
            "cell_type": "markdown",
            "metadata": {},
            "source": []
        },
        {
            "cell_type": "code",
            "execution_count": null,
            "metadata": {},
            "outputs": [],
            "source": [
                "class DaumProvider(OAuth2Provider):\n",
                "    id = \"Daum\"\n",
                "    name = \"Daum\"\n",
                "    account_class = DaumAccount\n",
                "    oauth2_adapter_class = DaumOAuth2Adapter\n",
                "\n",
                "    def extract_uid(self, data):\n",
                "        return str(data.get(\"id\"))\n"
            ]
        },
        {
            "cell_type": "markdown",
            "metadata": {},
            "source": []
        },
        {
            "cell_type": "code",
            "execution_count": null,
            "metadata": {},
            "outputs": [],
            "source": [
                "provider_classes = [DaumProvider]\n",
                "\n"
            ]
        },
        {
            "cell_type": "markdown",
            "metadata": {},
            "source": []
        }
    ],
    "metadata": {
        "language_info": {
            "name": "python"
        }
    },
    "nbformat": 4,
    "nbformat_minor": 2
}