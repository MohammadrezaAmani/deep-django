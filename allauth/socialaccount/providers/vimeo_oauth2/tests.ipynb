{
 "cells": [
  {
   "cell_type": "code",
   "execution_count": null,
   "metadata": {},
   "outputs": [],
   "source": [
    "from allauth.socialaccount.tests import OAuth2TestsMixin\n",
    "from allauth.tests import MockedResponse, TestCase\n",
    "\n",
    "from .provider import VimeoOAuth2Provider"
   ]
  },
  {
   "cell_type": "markdown",
   "metadata": {},
   "source": []
  },
  {
   "cell_type": "code",
   "execution_count": null,
   "metadata": {},
   "outputs": [],
   "source": [
    "class VimeoOAuth2Tests(OAuth2TestsMixin, TestCase):\n",
    "    provider_id = VimeoOAuth2Provider.id\n",
    "\n",
    "    def get_mocked_response(self):\n",
    "        return MockedResponse(\n",
    "            200,\n",
    "            \"\"\"{\n",
    "            \"uri\": \"/users/12345\",\n",
    "            \"name\": \"AllAuth\",\n",
    "            \"link\": \"https://vimeo.com/user12345\",\n",
    "            \"created_time\": \"2012-06-04T00:02:16+00:00\",\n",
    "            \"pictures\": {\n",
    "                \"uri\": null,\n",
    "                \"active\": false,\n",
    "                \"type\": \"default\",\n",
    "                \"sizes\": [{\n",
    "                    \"width\": 30,\n",
    "                    \"height\": 30,\n",
    "                    \"link\": \"https://i.vimeocdn.com/portrait/defaults-blue_30x30.png\"\n",
    "                }],\n",
    "                \"resource_key\": \"1234567890abcdef\"\n",
    "            },\n",
    "            \"resource_key\": \"1234567890abcdef\",\n",
    "            \"account\": \"pro\"\n",
    "        }\"\"\",\n",
    "        )  # noqa"
   ]
  },
  {
   "cell_type": "markdown",
   "metadata": {},
   "source": []
  }
 ],
 "metadata": {
  "language_info": {
   "name": "python"
  }
 },
 "nbformat": 4,
 "nbformat_minor": 2
}