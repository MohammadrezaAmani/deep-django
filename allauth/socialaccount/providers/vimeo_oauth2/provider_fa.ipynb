{
 "cells": [
  {
   "cell_type": "code",
   "execution_count": null,
   "metadata": {},
   "outputs": [],
   "source": [
    "\"\"\"\n",
    "Provider for Patreon\n",
    "\"\"\"\n",
    "from allauth.socialaccount.providers.base import ProviderAccount\n",
    "from allauth.socialaccount.providers.oauth2.provider import OAuth2Provider\n",
    "from allauth.socialaccount.providers.vimeo_oauth2.views import VimeoOAuth2Adapter"
   ]
  },
  {
   "cell_type": "markdown",
   "metadata": {},
   "source": []
  },
  {
   "cell_type": "code",
   "execution_count": null,
   "metadata": {},
   "outputs": [],
   "source": [
    "class VimeoOAuth2Account(ProviderAccount):\n",
    "    pass"
   ]
  },
  {
   "cell_type": "markdown",
   "metadata": {},
   "source": []
  },
  {
   "cell_type": "code",
   "execution_count": null,
   "metadata": {},
   "outputs": [],
   "source": [
    "class VimeoOAuth2Provider(OAuth2Provider):\n",
    "    id = \"vimeo_oauth2\"\n",
    "    name = \"Vimeo\"\n",
    "    account_class = VimeoOAuth2Account\n",
    "    oauth2_adapter_class = VimeoOAuth2Adapter\n",
    "\n",
    "    def get_default_scope(self):\n",
    "        return [\"public\", \"private\"]\n",
    "\n",
    "    def extract_uid(self, data):\n",
    "        return data.get(\"uri\").split(\"/\")[-1]\n",
    "\n",
    "    def extract_common_fields(self, data):\n",
    "        return {\n",
    "            \"fullname\": data.get(\"name\"),\n",
    "        }"
   ]
  },
  {
   "cell_type": "markdown",
   "metadata": {},
   "source": []
  },
  {
   "cell_type": "code",
   "execution_count": null,
   "metadata": {},
   "outputs": [],
   "source": [
    "provider_classes = [VimeoOAuth2Provider]"
   ]
  },
  {
   "cell_type": "markdown",
   "metadata": {},
   "source": []
  }
 ],
 "metadata": {
  "language_info": {
   "name": "python"
  }
 },
 "nbformat": 4,
 "nbformat_minor": 2
}