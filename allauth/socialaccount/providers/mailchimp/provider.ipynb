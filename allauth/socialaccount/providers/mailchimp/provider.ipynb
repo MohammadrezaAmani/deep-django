{
 "cells": [
  {
   "cell_type": "code",
   "execution_count": null,
   "metadata": {},
   "outputs": [],
   "source": [
    "\"\"\"Customise Provider classes for MailChimp API v3.\"\"\"\n",
    "from allauth.socialaccount.providers.base import ProviderAccount\n",
    "from allauth.socialaccount.providers.mailchimp.views import (\n",
    "    MailChimpOAuth2Adapter,\n",
    ")\n",
    "from allauth.socialaccount.providers.oauth2.provider import OAuth2Provider"
   ]
  },
  {
   "cell_type": "markdown",
   "metadata": {},
   "source": []
  },
  {
   "cell_type": "code",
   "execution_count": null,
   "metadata": {},
   "outputs": [],
   "source": [
    "class MailChimpAccount(ProviderAccount):\n",
    "\n",
    "    \"\"\"ProviderAccount subclass for MailChimp.\"\"\"\n",
    "\n",
    "    def get_profile_url(self):\n",
    "        \"\"\"Return base profile url.\"\"\"\n",
    "        return self.account.extra_data[\"api_endpoint\"]\n",
    "\n",
    "    def get_avatar_url(self):\n",
    "        \"\"\"Return avatar url.\"\"\"\n",
    "        return self.account.extra_data[\"login\"][\"avatar\"]"
   ]
  },
  {
   "cell_type": "markdown",
   "metadata": {},
   "source": []
  },
  {
   "cell_type": "code",
   "execution_count": null,
   "metadata": {},
   "outputs": [],
   "source": [
    "class MailChimpProvider(OAuth2Provider):\n",
    "\n",
    "    \"\"\"OAuth2Provider subclass for MailChimp v3.\"\"\"\n",
    "\n",
    "    id = \"mailchimp\"\n",
    "    name = \"MailChimp\"\n",
    "    account_class = MailChimpAccount\n",
    "    oauth2_adapter_class = MailChimpOAuth2Adapter\n",
    "\n",
    "    def extract_uid(self, data):\n",
    "        \"\"\"Extract uid ('user_id') and ensure it's a str.\"\"\"\n",
    "        return str(data[\"user_id\"])\n",
    "\n",
    "    def get_default_scope(self):\n",
    "        \"\"\"Ensure scope is null to fit their API.\"\"\"\n",
    "        return [\"\"]\n",
    "\n",
    "    def extract_common_fields(self, data):\n",
    "        \"\"\"Extract fields from a metadata query.\"\"\"\n",
    "        return dict(\n",
    "            dc=data.get(\"dc\"),\n",
    "            role=data.get(\"role\"),\n",
    "            account_name=data.get(\"accountname\"),\n",
    "            user_id=data.get(\"user_id\"),\n",
    "            login=data.get(\"login\"),\n",
    "            login_url=data.get(\"login_url\"),\n",
    "            api_endpoint=data.get(\"api_endpoint\"),\n",
    "        )"
   ]
  },
  {
   "cell_type": "markdown",
   "metadata": {},
   "source": []
  },
  {
   "cell_type": "code",
   "execution_count": null,
   "metadata": {},
   "outputs": [],
   "source": [
    "provider_classes = [MailChimpProvider]"
   ]
  },
  {
   "cell_type": "markdown",
   "metadata": {},
   "source": []
  }
 ],
 "metadata": {
  "language_info": {
   "name": "python"
  }
 },
 "nbformat": 4,
 "nbformat_minor": 2
}