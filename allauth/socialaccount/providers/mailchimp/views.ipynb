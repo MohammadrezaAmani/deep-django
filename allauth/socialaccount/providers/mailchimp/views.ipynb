{
    "cells": [
        {
            "cell_type": "code",
            "execution_count": null,
            "metadata": {},
            "outputs": [],
            "source": [
                "\"\"\"Views for MailChimp API v3.\"\"\"\n",
                "from allauth.socialaccount.adapter import get_adapter\n",
                "from allauth.socialaccount.providers.oauth2.views import (\n",
                "    OAuth2Adapter,\n",
                "    OAuth2CallbackView,\n",
                "    OAuth2LoginView,\n",
                ")\n"
            ]
        },
        {
            "cell_type": "markdown",
            "metadata": {},
            "source": []
        },
        {
            "cell_type": "code",
            "execution_count": null,
            "metadata": {},
            "outputs": [],
            "source": [
                "class MailChimpOAuth2Adapter(OAuth2Adapter):\n",
                "\n",
                "    \"\"\"OAuth2Adapter for MailChimp API v3.\"\"\"\n",
                "\n",
                "    provider_id = \"mailchimp\"\n",
                "    authorize_url = \"https://login.mailchimp.com/oauth2/authorize\"\n",
                "    access_token_url = \"https://login.mailchimp.com/oauth2/token\"\n",
                "    profile_url = \"https://login.mailchimp.com/oauth2/metadata\"\n",
                "\n",
                "    def complete_login(self, request, app, token, **kwargs):\n",
                "        \"\"\"Complete login, ensuring correct OAuth header.\"\"\"\n",
                "        headers = {\"Authorization\": \"OAuth {0}\".format(token.token)}\n",
                "        metadata = (\n",
                "            get_adapter().get_requests_session().get(self.profile_url, headers=headers)\n",
                "        )\n",
                "        extra_data = metadata.json()\n",
                "        return self.get_provider().sociallogin_from_response(request, extra_data)\n"
            ]
        },
        {
            "cell_type": "markdown",
            "metadata": {},
            "source": []
        },
        {
            "cell_type": "code",
            "execution_count": null,
            "metadata": {},
            "outputs": [],
            "source": [
                "oauth2_login = OAuth2LoginView.adapter_view(MailChimpOAuth2Adapter)\n",
                "oauth2_callback = OAuth2CallbackView.adapter_view(MailChimpOAuth2Adapter)\n",
                "\n"
            ]
        },
        {
            "cell_type": "markdown",
            "metadata": {},
            "source": []
        }
    ],
    "metadata": {
        "language_info": {
            "name": "python"
        }
    },
    "nbformat": 4,
    "nbformat_minor": 2
}