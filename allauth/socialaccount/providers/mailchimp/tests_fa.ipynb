{
    "cells": [
        {
            "cell_type": "code",
            "execution_count": null,
            "metadata": {},
            "outputs": [],
            "source": [
                "\"\"\"Test MailChimp OAuth2 v3 Flow.\"\"\"\n",
                "from allauth.socialaccount.tests import OAuth2TestsMixin\n",
                "from allauth.tests import MockedResponse, TestCase\n",
                "\n",
                "from .provider import MailChimpProvider\n"
            ]
        },
        {
            "cell_type": "markdown",
            "metadata": {},
            "source": []
        },
        {
            "cell_type": "code",
            "execution_count": null,
            "metadata": {},
            "outputs": [],
            "source": [
                "class MailChimpTests(OAuth2TestsMixin, TestCase):\n",
                "\n",
                "    \"\"\"Test Class for MailChimp OAuth2 v3.\"\"\"\n",
                "\n",
                "    provider_id = MailChimpProvider.id\n",
                "\n",
                "    def get_mocked_response(self):\n",
                "        \"\"\"Test authentication with an non-null avatar.\"\"\"\n",
                "        return MockedResponse(\n",
                "            200,\n",
                "            \"\"\"{\n",
                "            \"dc\": \"usX\",\n",
                "            \"role\": \"owner\",\n",
                "            \"accountname\": \"Name can have spaces\",\n",
                "            \"user_id\": \"99999999\",\n",
                "            \"login\": {\n",
                "                \"email\": \"test@example.com\",\n",
                "                \"avatar\": \"http://gallery.mailchimp.com/1a1a/avatar/2a2a.png\",\n",
                "                \"login_id\": \"88888888\",\n",
                "                \"login_name\": \"test@example.com\",\n",
                "                \"login_email\": \"test@example.com\"\n",
                "            },\n",
                "            \"login_url\": \"https://login.mailchimp.com\",\n",
                "            \"api_endpoint\": \"https://usX.api.mailchimp.com\"\n",
                "        }\"\"\",\n",
                "        )\n",
                "\n"
            ]
        },
        {
            "cell_type": "markdown",
            "metadata": {},
            "source": []
        }
    ],
    "metadata": {
        "language_info": {
            "name": "python"
        }
    },
    "nbformat": 4,
    "nbformat_minor": 2
}