{
 "cells": [
  {
   "cell_type": "code",
   "execution_count": null,
   "metadata": {},
   "outputs": [],
   "source": [
    "\"\"\"Register urls for MailChimpProvider\"\"\"\n",
    "from allauth.socialaccount.providers.oauth2.urls import default_urlpatterns\n",
    "\n",
    "from .provider import MailChimpProvider\n",
    "\n",
    "urlpatterns = default_urlpatterns(MailChimpProvider)"
   ]
  },
  {
   "cell_type": "markdown",
   "metadata": {},
   "source": []
  }
 ],
 "metadata": {
  "language_info": {
   "name": "python"
  }
 },
 "nbformat": 4,
 "nbformat_minor": 2
}