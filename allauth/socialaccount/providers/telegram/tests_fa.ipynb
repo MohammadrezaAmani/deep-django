{
 "cells": [
  {
   "cell_type": "code",
   "execution_count": null,
   "metadata": {},
   "outputs": [],
   "source": [
    "import base64\n",
    "import json\n",
    "\n",
    "import pytest\n",
    "from pytest_django.asserts import assertTemplateUsed\n",
    "\n",
    "from allauth.socialaccount.models import SocialAccount\n",
    "from django.urls import reverse"
   ]
  },
  {
   "cell_type": "markdown",
   "metadata": {},
   "source": []
  },
  {
   "cell_type": "code",
   "execution_count": null,
   "metadata": {},
   "outputs": [],
   "source": [
    "@pytest.fixture\n",
    "def telegram_app(settings):\n",
    "    settings.SOCIALACCOUNT_PROVIDERS = {\n",
    "        \"telegram\": {\n",
    "            \"APPS\": [\n",
    "                {\n",
    "                    \"client_id\": \"123\",\n",
    "                }\n",
    "            ]\n",
    "        }\n",
    "    }"
   ]
  },
  {
   "cell_type": "markdown",
   "metadata": {},
   "source": []
  },
  {
   "cell_type": "code",
   "execution_count": null,
   "metadata": {},
   "outputs": [],
   "source": [
    "def test_login(client, db, telegram_app):\n",
    "    resp = client.post(reverse(\"telegram_login\"))\n",
    "    assert resp.status_code == 302\n",
    "    assert resp[\"location\"].startswith(\n",
    "        \"https://oauth.telegram.org/auth?origin=http%3A%2F%2Ftestserver%2F&bot_id=123&request_access=write&embed=0&return_to=http%3A%2F%2Ftestserver%2Ftelegram%2Flogin%2Fcallback%2F%3Fstate%3D\"\n",
    "    )"
   ]
  },
  {
   "cell_type": "markdown",
   "metadata": {},
   "source": []
  },
  {
   "cell_type": "code",
   "execution_count": null,
   "metadata": {},
   "outputs": [],
   "source": [
    "def test_callback_get(client, db, telegram_app):\n",
    "    resp = client.get(reverse(\"telegram_callback\"))\n",
    "    assert resp.status_code == 200\n",
    "    assertTemplateUsed(resp, \"telegram/callback.html\")"
   ]
  },
  {
   "cell_type": "markdown",
   "metadata": {},
   "source": []
  },
  {
   "cell_type": "code",
   "execution_count": null,
   "metadata": {},
   "outputs": [],
   "source": [
    "def test_callback(client, db, telegram_app, sociallogin_setup_state):\n",
    "    state = sociallogin_setup_state(client)\n",
    "    auth_result = (\n",
    "        base64.b64encode(\n",
    "            json.dumps(\n",
    "                {\n",
    "                    \"id\": \"123\",\n",
    "                    \"hash\": \"0744ab643757850e82fa8b4ac35978dca287c81df6a9829032d868c7f90e3b99\",\n",
    "                    \"auth_date\": 2342342342,\n",
    "                }\n",
    "            ).encode(\"utf8\")\n",
    "        )\n",
    "        .decode(\"ascii\")\n",
    "        .replace(\"=\", \"\")\n",
    "    )\n",
    "    post_data = {\n",
    "        \"tgAuthResult\": auth_result,\n",
    "    }\n",
    "    resp = client.post(reverse(\"telegram_callback\") + f\"?state={state}\", post_data)\n",
    "    assert resp.status_code == 302\n",
    "    assert SocialAccount.objects.filter(uid=\"123\").exists()"
   ]
  },
  {
   "cell_type": "markdown",
   "metadata": {},
   "source": []
  }
 ],
 "metadata": {
  "language_info": {
   "name": "python"
  }
 },
 "nbformat": 4,
 "nbformat_minor": 2
}