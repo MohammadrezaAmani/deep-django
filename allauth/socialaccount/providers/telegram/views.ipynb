{
 "cells": [
  {
   "cell_type": "code",
   "execution_count": null,
   "metadata": {},
   "outputs": [],
   "source": [
    "import base64\n",
    "import binascii\n",
    "import hashlib\n",
    "import hmac\n",
    "import json\n",
    "import time\n",
    "\n",
    "from django.shortcuts import render\n",
    "from django.utils.decorators import method_decorator\n",
    "from django.views import View\n",
    "from django.views.decorators.csrf import csrf_exempt\n",
    "\n",
    "from allauth.socialaccount.adapter import get_adapter\n",
    "from allauth.socialaccount.helpers import (\n",
    "    complete_social_login,\n",
    "    render_authentication_error,\n",
    ")\n",
    "from allauth.socialaccount.providers.base.views import BaseLoginView\n",
    "from allauth.socialaccount.providers.telegram.provider import TelegramProvider"
   ]
  },
  {
   "cell_type": "markdown",
   "metadata": {},
   "source": []
  },
  {
   "cell_type": "code",
   "execution_count": null,
   "metadata": {},
   "outputs": [],
   "source": [
    "class LoginView(BaseLoginView):\n",
    "    provider_id = TelegramProvider.id"
   ]
  },
  {
   "cell_type": "markdown",
   "metadata": {},
   "source": []
  },
  {
   "cell_type": "code",
   "execution_count": null,
   "metadata": {},
   "outputs": [],
   "source": [
    "login = LoginView.as_view()"
   ]
  },
  {
   "cell_type": "markdown",
   "metadata": {},
   "source": []
  },
  {
   "cell_type": "code",
   "execution_count": null,
   "metadata": {},
   "outputs": [],
   "source": [
    "@method_decorator(csrf_exempt, name=\"dispatch\")\n",
    "class CallbackView(View):\n",
    "    def get(self, request):\n",
    "        return render(request, \"telegram/callback.html\")\n",
    "\n",
    "    def post(self, request):\n",
    "        adapter = get_adapter()\n",
    "        provider = adapter.get_provider(request, TelegramProvider.id)\n",
    "\n",
    "        state_id = request.GET.get(\"state\")\n",
    "        if not state_id:\n",
    "            return render_authentication_error(\n",
    "                request,\n",
    "                provider=provider,\n",
    "            )\n",
    "\n",
    "        try:\n",
    "            result = request.POST.get(\"tgAuthResult\")\n",
    "            padding = \"=\" * (4 - (len(result) % 4))\n",
    "            data = json.loads(base64.b64decode(result + padding))\n",
    "            if not isinstance(data, dict) or \"hash\" not in data:\n",
    "                raise ValueError(\"Invalid tgAuthResult\")\n",
    "        except (binascii.Error, json.JSONDecodeError, ValueError) as e:\n",
    "            return render_authentication_error(\n",
    "                request,\n",
    "                provider=provider,\n",
    "                exception=e,\n",
    "                extra_context={\"state_id\": state_id},\n",
    "            )\n",
    "        hash = data.pop(\"hash\")\n",
    "        payload = \"\\n\".join(sorted([\"{}={}\".format(k, v) for k, v in data.items()]))\n",
    "        token = provider.app.secret\n",
    "        token_sha256 = hashlib.sha256(token.encode()).digest()\n",
    "        expected_hash = hmac.new(\n",
    "            token_sha256, payload.encode(), hashlib.sha256\n",
    "        ).hexdigest()\n",
    "        auth_date = int(data.pop(\"auth_date\"))\n",
    "        auth_date_validity = provider.get_auth_date_validity()\n",
    "        if hash != expected_hash or time.time() - auth_date > auth_date_validity:\n",
    "            return render_authentication_error(\n",
    "                request,\n",
    "                provider=provider,\n",
    "                extra_context={\"response\": data, \"state_id\": state_id},\n",
    "            )\n",
    "        login = provider.sociallogin_from_response(request, data)\n",
    "        login.state = provider.unstash_redirect_state(request, state_id)\n",
    "        return complete_social_login(request, login)"
   ]
  },
  {
   "cell_type": "markdown",
   "metadata": {},
   "source": []
  },
  {
   "cell_type": "code",
   "execution_count": null,
   "metadata": {},
   "outputs": [],
   "source": [
    "callback = CallbackView.as_view()"
   ]
  },
  {
   "cell_type": "markdown",
   "metadata": {},
   "source": []
  }
 ],
 "metadata": {
  "language_info": {
   "name": "python"
  }
 },
 "nbformat": 4,
 "nbformat_minor": 2
}