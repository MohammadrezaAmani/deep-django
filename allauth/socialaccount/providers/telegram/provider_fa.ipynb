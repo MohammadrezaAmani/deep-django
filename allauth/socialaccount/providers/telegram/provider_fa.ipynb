{
 "cells": [
  {
   "cell_type": "code",
   "execution_count": null,
   "metadata": {},
   "outputs": [],
   "source": [
    "from allauth.socialaccount.providers.base import Provider, ProviderAccount\n",
    "from django.http import HttpResponseRedirect\n",
    "from django.urls import reverse\n",
    "from django.utils.http import urlencode"
   ]
  },
  {
   "cell_type": "markdown",
   "metadata": {},
   "source": []
  },
  {
   "cell_type": "code",
   "execution_count": null,
   "metadata": {},
   "outputs": [],
   "source": [
    "class TelegramAccount(ProviderAccount):\n",
    "    pass"
   ]
  },
  {
   "cell_type": "markdown",
   "metadata": {},
   "source": []
  },
  {
   "cell_type": "code",
   "execution_count": null,
   "metadata": {},
   "outputs": [],
   "source": [
    "class TelegramProvider(Provider):\n",
    "    id = \"telegram\"\n",
    "    name = \"Telegram\"\n",
    "    account_class = TelegramAccount\n",
    "    supports_redirect = True\n",
    "\n",
    "    def get_login_url(self, request, **kwargs):\n",
    "        url = reverse(\"telegram_login\")\n",
    "        if kwargs:\n",
    "            url = url + \"?\" + urlencode(kwargs)\n",
    "        return url\n",
    "\n",
    "    def extract_uid(self, data):\n",
    "        return str(data[\"id\"])\n",
    "\n",
    "    def extract_common_fields(self, data):\n",
    "        ret = {}\n",
    "        if data.get(\"first_name\"):\n",
    "            ret[\"first_name\"] = data.get(\"first_name\")\n",
    "        if data.get(\"last_name\"):\n",
    "            ret[\"last_name\"] = data.get(\"last_name\")\n",
    "        if data.get(\"username\"):\n",
    "            ret[\"username\"] = data.get(\"username\")\n",
    "        return ret\n",
    "\n",
    "    def get_auth_date_validity(self):\n",
    "        auth_date_validity = 30\n",
    "        settings = self.get_settings()\n",
    "        if \"AUTH_PARAMS\" in settings:\n",
    "            auth_date_validity = settings.get(\"AUTH_PARAMS\").get(\n",
    "                \"auth_date_validity\", auth_date_validity\n",
    "            )\n",
    "        auth_date_validity = self.app.settings.get(\n",
    "            \"auth_date_validity\", auth_date_validity\n",
    "        )\n",
    "        return auth_date_validity\n",
    "\n",
    "    def redirect(self, request, process, next_url=None, data=None, **kwargs):\n",
    "        state = self.stash_redirect_state(request, process, next_url, data, **kwargs)\n",
    "        return_to = request.build_absolute_uri(\n",
    "            reverse(\"telegram_callback\") + \"?\" + urlencode({\"state\": state})\n",
    "        )\n",
    "        url = \"https://oauth.telegram.org/auth?\" + urlencode(\n",
    "            {\n",
    "                \"origin\": request.build_absolute_uri(\"/\"),\n",
    "                \"bot_id\": self.app.client_id,\n",
    "                \"request_access\": \"write\",\n",
    "                \"embed\": \"0\",\n",
    "                \"return_to\": return_to,\n",
    "            }\n",
    "        )\n",
    "        return HttpResponseRedirect(url)"
   ]
  },
  {
   "cell_type": "markdown",
   "metadata": {},
   "source": []
  },
  {
   "cell_type": "code",
   "execution_count": null,
   "metadata": {},
   "outputs": [],
   "source": [
    "provider_classes = [TelegramProvider]"
   ]
  },
  {
   "cell_type": "markdown",
   "metadata": {},
   "source": []
  }
 ],
 "metadata": {
  "language_info": {
   "name": "python"
  }
 },
 "nbformat": 4,
 "nbformat_minor": 2
}