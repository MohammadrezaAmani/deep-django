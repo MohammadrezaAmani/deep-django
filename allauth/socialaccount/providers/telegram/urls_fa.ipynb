{
    "cells": [
        {
            "cell_type": "code",
            "execution_count": null,
            "metadata": {},
            "outputs": [],
            "source": [
                "from django.urls import path\n",
                "\n",
                "from . import views\n",
                "\n",
                "urlpatterns = [\n",
                "    path(\"telegram/login/\", views.login, name=\"telegram_login\"),\n",
                "    path(\"telegram/login/callback/\", views.callback, name=\"telegram_callback\"),\n",
                "]\n",
                "\n"
            ]
        },
        {
            "cell_type": "markdown",
            "metadata": {},
            "source": []
        }
    ],
    "metadata": {
        "language_info": {
            "name": "python"
        }
    },
    "nbformat": 4,
    "nbformat_minor": 2
}