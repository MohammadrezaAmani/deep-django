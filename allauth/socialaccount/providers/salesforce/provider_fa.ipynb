{
 "cells": [
  {
   "cell_type": "code",
   "execution_count": null,
   "metadata": {},
   "outputs": [],
   "source": [
    "from allauth.account.models import EmailAddress\n",
    "from allauth.socialaccount import providers\n",
    "from allauth.socialaccount.providers.base import AuthAction, ProviderAccount\n",
    "from allauth.socialaccount.providers.oauth2.provider import OAuth2Provider\n",
    "from allauth.socialaccount.providers.salesforce.views import SalesforceOAuth2Adapter"
   ]
  },
  {
   "cell_type": "markdown",
   "metadata": {},
   "source": []
  },
  {
   "cell_type": "code",
   "execution_count": null,
   "metadata": {},
   "outputs": [],
   "source": [
    "class SalesforceAccount(ProviderAccount):\n",
    "    def get_profile_url(self):\n",
    "        return self.account.extra_data.get(\"link\")\n",
    "\n",
    "    def get_avatar_url(self):\n",
    "        return self.account.extra_data.get(\"picture\")\n",
    "\n",
    "    def to_str(self):\n",
    "        dflt = super(SalesforceAccount, self).to_str()\n",
    "        return self.account.extra_data.get(\"name\", dflt)"
   ]
  },
  {
   "cell_type": "markdown",
   "metadata": {},
   "source": []
  },
  {
   "cell_type": "code",
   "execution_count": null,
   "metadata": {},
   "outputs": [],
   "source": [
    "class SalesforceProvider(OAuth2Provider):\n",
    "    id = \"salesforce\"\n",
    "    name = \"Salesforce\"\n",
    "    package = \"allauth.socialaccount.providers.salesforce\"\n",
    "    account_class = SalesforceAccount\n",
    "    oauth2_adapter_class = SalesforceOAuth2Adapter\n",
    "\n",
    "    def get_default_scope(self):\n",
    "        return [\"id\", \"openid\"]\n",
    "\n",
    "    def get_auth_params_from_request(self, request, action):\n",
    "        ret = super().get_auth_params_from_request(request, action)\n",
    "        if action == AuthAction.REAUTHENTICATE:\n",
    "            ret[\"approval_prompt\"] = \"force\"\n",
    "        return ret\n",
    "\n",
    "    def extract_uid(self, data):\n",
    "        return str(data[\"user_id\"])\n",
    "\n",
    "    def extract_common_fields(self, data):\n",
    "        return dict(\n",
    "            email=data.get(\"email\"),\n",
    "            last_name=data.get(\"family_name\"),\n",
    "            first_name=data.get(\"given_name\"),\n",
    "            username=data.get(\"preferred_username\"),\n",
    "        )\n",
    "\n",
    "    def extract_email_addresses(self, data):\n",
    "        # a salesforce user must have an email, but it might not be verified\n",
    "        email = EmailAddress(\n",
    "            email=data.get(\"email\"),\n",
    "            primary=True,\n",
    "            verified=data.get(\"email_verified\"),\n",
    "        )\n",
    "        return [email]"
   ]
  },
  {
   "cell_type": "markdown",
   "metadata": {},
   "source": []
  },
  {
   "cell_type": "code",
   "execution_count": null,
   "metadata": {},
   "outputs": [],
   "source": [
    "providers.registry.register(SalesforceProvider)"
   ]
  },
  {
   "cell_type": "markdown",
   "metadata": {},
   "source": []
  }
 ],
 "metadata": {
  "language_info": {
   "name": "python"
  }
 },
 "nbformat": 4,
 "nbformat_minor": 2
}