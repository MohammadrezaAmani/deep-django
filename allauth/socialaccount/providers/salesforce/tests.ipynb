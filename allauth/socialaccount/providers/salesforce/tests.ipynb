{
    "cells": [
        {
            "cell_type": "code",
            "execution_count": null,
            "metadata": {},
            "outputs": [],
            "source": [
                "from allauth.socialaccount.tests import OAuth2TestsMixin\n",
                "from allauth.tests import MockedResponse, TestCase\n",
                "\n",
                "from .provider import SalesforceProvider\n"
            ]
        },
        {
            "cell_type": "markdown",
            "metadata": {},
            "source": []
        },
        {
            "cell_type": "code",
            "execution_count": null,
            "metadata": {},
            "outputs": [],
            "source": [
                "class SalesforceTests(OAuth2TestsMixin, TestCase):\n",
                "    provider_id = SalesforceProvider.id\n",
                "\n",
                "    def get_mocked_response(\n",
                "        self,\n",
                "        last_name=\"Penners\",\n",
                "        first_name=\"Raymond\",\n",
                "        name=\"Raymond Penners\",\n",
                "        email=\"raymond.penners@gmail.com\",\n",
                "        verified_email=True,\n",
                "    ):\n",
                "        userinfo = USERINFO_RESPONSE.format(\n",
                "            org_id=\"00Dxx00000000000A0\",\n",
                "            user_id=\"005xx000000aWwRQAU\",\n",
                "            vip=\"https://test.salesforce.com\",\n",
                "            nickname=\"test-ooi2xhmjteep\",\n",
                "            first_name=first_name,\n",
                "            last_name=last_name,\n",
                "            my_domain=\"https://fun.cs46.my.salesforce.com\",\n",
                "            content_domain=\"https://fun--c.cs46.content.force.com\",\n",
                "            verified_email=repr(verified_email).lower(),\n",
                "            email=email,\n",
                "            active=\"true\",\n",
                "            is_app_installed=\"true\",\n",
                "        )\n",
                "        return MockedResponse(200, userinfo)\n"
            ]
        },
        {
            "cell_type": "markdown",
            "metadata": {},
            "source": []
        },
        {
            "cell_type": "code",
            "execution_count": null,
            "metadata": {},
            "outputs": [],
            "source": [
                "USERINFO_RESPONSE = \"\"\"\n",
                "{{\n",
                "    \"sub\": \"{vip}/id/{org_id}/{user_id}\",\n",
                "    \"user_id\": \"{user_id}\",\n",
                "    \"organization_id\": \"{org_id}\",\n",
                "    \"preferred_username\": \"{nickname}@sample_-_dev_workspace.net\",\n",
                "    \"nickname\": \"{nickname}\",\n",
                "    \"name\": \"{first_name} {last_name}\",\n",
                "    \"email\": \"{email}\",\n",
                "    \"email_verified\": {verified_email},\n",
                "    \"given_name\": \"{first_name}\",\n",
                "    \"family_name\": \"{last_name}\",\n",
                "    \"zoneinfo\": \"America/Los_Angeles\",\n",
                "    \"photos\": {{\n",
                "        \"picture\": \"{content_domain}/profilephoto/005/F\",\n",
                "        \"thumbnail\": \"{content_domain}/profilephoto/005/T\"\n",
                "    }},\n",
                "    \"profile\": \"{my_domain}/{user_id}\",\n",
                "    \"picture\": \"{content_domain}/profilephoto/005/F\",\n",
                "    \"address\": {{\"country\": \"US\"}},\n",
                "    \"urls\": {{\"custom_domain\": \"{my_domain}\"}},\n",
                "    \"active\": {active},\n",
                "    \"user_type\": \"STANDARD\",\n",
                "    \"language\": \"en_US\",\n",
                "    \"locale\": \"en_US\",\n",
                "    \"utcOffset\": -28800000,\n",
                "    \"updated_at\": \"2017-10-05T20:39:02.000+0000\",\n",
                "    \"is_app_installed\": {is_app_installed}\n",
                "}}\n",
                "\"\"\"\n",
                "\n"
            ]
        },
        {
            "cell_type": "markdown",
            "metadata": {},
            "source": []
        }
    ],
    "metadata": {
        "language_info": {
            "name": "python"
        }
    },
    "nbformat": 4,
    "nbformat_minor": 2
}