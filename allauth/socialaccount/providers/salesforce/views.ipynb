{
 "cells": [
  {
   "cell_type": "code",
   "execution_count": null,
   "metadata": {},
   "outputs": [],
   "source": [
    "from allauth.socialaccount.adapter import get_adapter\n",
    "from allauth.socialaccount.providers.oauth2.views import (\n",
    "    OAuth2Adapter,\n",
    "    OAuth2CallbackView,\n",
    "    OAuth2LoginView,\n",
    ")"
   ]
  },
  {
   "cell_type": "markdown",
   "metadata": {},
   "source": []
  },
  {
   "cell_type": "code",
   "execution_count": null,
   "metadata": {},
   "outputs": [],
   "source": [
    "class SalesforceOAuth2Adapter(OAuth2Adapter):\n",
    "    provider_id = \"salesforce\"\n",
    "\n",
    "    @property\n",
    "    def base_url(self):\n",
    "        return self.get_provider().app.key\n",
    "\n",
    "    @property\n",
    "    def authorize_url(self):\n",
    "        return \"{}/services/oauth2/authorize\".format(self.base_url)\n",
    "\n",
    "    @property\n",
    "    def access_token_url(self):\n",
    "        return \"{}/services/oauth2/token\".format(self.base_url)\n",
    "\n",
    "    @property\n",
    "    def userinfo_url(self):\n",
    "        return \"{}/services/oauth2/userinfo\".format(self.base_url)\n",
    "\n",
    "    def complete_login(self, request, app, token, **kwargs):\n",
    "        resp = (\n",
    "            get_adapter()\n",
    "            .get_requests_session()\n",
    "            .get(self.userinfo_url, params={\"oauth_token\": token})\n",
    "        )\n",
    "        resp.raise_for_status()\n",
    "        extra_data = resp.json()\n",
    "        return self.get_provider().sociallogin_from_response(request, extra_data)"
   ]
  },
  {
   "cell_type": "markdown",
   "metadata": {},
   "source": []
  },
  {
   "cell_type": "code",
   "execution_count": null,
   "metadata": {},
   "outputs": [],
   "source": [
    "oauth2_login = OAuth2LoginView.adapter_view(SalesforceOAuth2Adapter)\n",
    "oauth2_callback = OAuth2CallbackView.adapter_view(SalesforceOAuth2Adapter)"
   ]
  },
  {
   "cell_type": "markdown",
   "metadata": {},
   "source": []
  }
 ],
 "metadata": {
  "language_info": {
   "name": "python"
  }
 },
 "nbformat": 4,
 "nbformat_minor": 2
}