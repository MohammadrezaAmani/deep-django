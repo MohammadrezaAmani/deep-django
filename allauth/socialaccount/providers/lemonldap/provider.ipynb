{
 "cells": [
  {
   "cell_type": "code",
   "execution_count": null,
   "metadata": {},
   "outputs": [],
   "source": [
    "from allauth.socialaccount.providers.base import ProviderAccount\n",
    "from allauth.socialaccount.providers.lemonldap.views import (\n",
    "    LemonLDAPOAuth2Adapter,\n",
    ")\n",
    "from allauth.socialaccount.providers.oauth2.provider import OAuth2Provider"
   ]
  },
  {
   "cell_type": "markdown",
   "metadata": {},
   "source": []
  },
  {
   "cell_type": "code",
   "execution_count": null,
   "metadata": {},
   "outputs": [],
   "source": [
    "class LemonLDAPAccount(ProviderAccount):\n",
    "    def get_avatar_url(self):\n",
    "        return self.account.extra_data.get(\"picture\")\n",
    "\n",
    "    def to_str(self):\n",
    "        dflt = super(LemonLDAPAccount, self).to_str()\n",
    "        return self.account.extra_data.get(\"name\", dflt)"
   ]
  },
  {
   "cell_type": "markdown",
   "metadata": {},
   "source": []
  },
  {
   "cell_type": "code",
   "execution_count": null,
   "metadata": {},
   "outputs": [],
   "source": [
    "class LemonLDAPProvider(OAuth2Provider):\n",
    "    id = \"lemonldap\"\n",
    "    name = \"LemonLDAP::NG\"\n",
    "    account_class = LemonLDAPAccount\n",
    "    oauth2_adapter_class = LemonLDAPOAuth2Adapter\n",
    "\n",
    "    def get_default_scope(self):\n",
    "        return [\"openid\", \"profile\", \"email\"]\n",
    "\n",
    "    def extract_uid(self, data):\n",
    "        return str(data[\"id\"])\n",
    "\n",
    "    def extract_common_fields(self, data):\n",
    "        return dict(\n",
    "            email=data.get(\"email\"),\n",
    "            username=data.get(\"preferred_username\"),\n",
    "            name=data.get(\"name\"),\n",
    "            picture=data.get(\"picture\"),\n",
    "        )"
   ]
  },
  {
   "cell_type": "markdown",
   "metadata": {},
   "source": []
  },
  {
   "cell_type": "code",
   "execution_count": null,
   "metadata": {},
   "outputs": [],
   "source": [
    "provider_classes = [LemonLDAPProvider]"
   ]
  },
  {
   "cell_type": "markdown",
   "metadata": {},
   "source": []
  }
 ],
 "metadata": {
  "language_info": {
   "name": "python"
  }
 },
 "nbformat": 4,
 "nbformat_minor": 2
}