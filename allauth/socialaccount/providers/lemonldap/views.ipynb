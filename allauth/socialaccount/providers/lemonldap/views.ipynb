{
 "cells": [
  {
   "cell_type": "code",
   "execution_count": null,
   "metadata": {},
   "outputs": [],
   "source": [
    "from allauth.socialaccount import app_settings\n",
    "from allauth.socialaccount.adapter import get_adapter\n",
    "from allauth.socialaccount.providers.oauth2.views import (\n",
    "    OAuth2Adapter,\n",
    "    OAuth2CallbackView,\n",
    "    OAuth2LoginView,\n",
    ")"
   ]
  },
  {
   "cell_type": "markdown",
   "metadata": {},
   "source": []
  },
  {
   "cell_type": "code",
   "execution_count": null,
   "metadata": {},
   "outputs": [],
   "source": [
    "class LemonLDAPOAuth2Adapter(OAuth2Adapter):\n",
    "    provider_id = \"lemonldap\"\n",
    "\n",
    "    settings = app_settings.PROVIDERS.get(provider_id, {})\n",
    "    provider_base_url = settings.get(\"LEMONLDAP_URL\")\n",
    "\n",
    "    access_token_url = \"{0}/oauth2/token\".format(provider_base_url)\n",
    "    authorize_url = \"{0}/oauth2/authorize\".format(provider_base_url)\n",
    "    profile_url = \"{0}/oauth2/userinfo\".format(provider_base_url)\n",
    "\n",
    "    def complete_login(self, request, app, token, response):\n",
    "        response = (\n",
    "            get_adapter()\n",
    "            .get_requests_session()\n",
    "            .post(self.profile_url, headers={\"Authorization\": \"Bearer \" + str(token)})\n",
    "        )\n",
    "        response.raise_for_status()\n",
    "        extra_data = response.json()\n",
    "        extra_data[\"id\"] = extra_data[\"sub\"]\n",
    "        del extra_data[\"sub\"]\n",
    "\n",
    "        return self.get_provider().sociallogin_from_response(request, extra_data)"
   ]
  },
  {
   "cell_type": "markdown",
   "metadata": {},
   "source": []
  },
  {
   "cell_type": "code",
   "execution_count": null,
   "metadata": {},
   "outputs": [],
   "source": [
    "oauth2_login = OAuth2LoginView.adapter_view(LemonLDAPOAuth2Adapter)\n",
    "oauth2_callback = OAuth2CallbackView.adapter_view(LemonLDAPOAuth2Adapter)"
   ]
  },
  {
   "cell_type": "markdown",
   "metadata": {},
   "source": []
  }
 ],
 "metadata": {
  "language_info": {
   "name": "python"
  }
 },
 "nbformat": 4,
 "nbformat_minor": 2
}