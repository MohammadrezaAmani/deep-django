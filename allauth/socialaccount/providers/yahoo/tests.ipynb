{
    "cells": [
        {
            "cell_type": "code",
            "execution_count": null,
            "metadata": {},
            "outputs": [],
            "source": [
                "from allauth.socialaccount.tests import OAuth2TestsMixin\n",
                "from allauth.tests import MockedResponse, TestCase\n",
                "\n",
                "from .provider import YahooProvider\n"
            ]
        },
        {
            "cell_type": "markdown",
            "metadata": {},
            "source": []
        },
        {
            "cell_type": "code",
            "execution_count": null,
            "metadata": {},
            "outputs": [],
            "source": [
                "class YahooTests(OAuth2TestsMixin, TestCase):\n",
                "    provider_id = YahooProvider.id\n",
                "\n",
                "    def get_mocked_response(self):\n",
                "        response_data = \"\"\"\n",
                "        {\n",
                "         \"sub\": \"FSVIDUW3D7FSVIDUW3D72F2F\",\n",
                "         \"name\": \"Jane Doe\",\n",
                "         \"given_name\": \"Jane\",\n",
                "         \"family_name\": \"Doe\",\n",
                "         \"preferred_username\": \"j.doe\",\n",
                "         \"email\": \"janedoe@example.com\",\n",
                "         \"email_verified\": true,\n",
                "         \"picture\": \"http://example.com/janedoe/me.jpg\"\n",
                "        }\n",
                "        \"\"\"  # noqa\n",
                "        return MockedResponse(200, response_data)\n",
                "\n"
            ]
        },
        {
            "cell_type": "markdown",
            "metadata": {},
            "source": []
        }
    ],
    "metadata": {
        "language_info": {
            "name": "python"
        }
    },
    "nbformat": 4,
    "nbformat_minor": 2
}