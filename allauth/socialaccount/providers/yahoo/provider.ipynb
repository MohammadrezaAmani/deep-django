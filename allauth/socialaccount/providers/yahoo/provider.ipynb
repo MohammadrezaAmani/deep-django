{
 "cells": [
  {
   "cell_type": "code",
   "execution_count": null,
   "metadata": {},
   "outputs": [],
   "source": [
    "from allauth.socialaccount.models import EmailAddress\n",
    "from allauth.socialaccount.providers.base import ProviderAccount\n",
    "from allauth.socialaccount.providers.oauth2.provider import OAuth2Provider\n",
    "from allauth.socialaccount.providers.yahoo.views import YahooOAuth2Adapter"
   ]
  },
  {
   "cell_type": "markdown",
   "metadata": {},
   "source": []
  },
  {
   "cell_type": "code",
   "execution_count": null,
   "metadata": {},
   "outputs": [],
   "source": [
    "class YahooAccount(ProviderAccount):\n",
    "    def to_str(self):\n",
    "        name = \"{0} {1}\".format(\n",
    "            self.account.extra_data.get(\"given_name\", \"\"),\n",
    "            self.account.extra_data.get(\"family_name\", \"\"),\n",
    "        )\n",
    "        if name.strip() != \"\":\n",
    "            return name\n",
    "        return super(YahooAccount, self).to_str()"
   ]
  },
  {
   "cell_type": "markdown",
   "metadata": {},
   "source": []
  },
  {
   "cell_type": "code",
   "execution_count": null,
   "metadata": {},
   "outputs": [],
   "source": [
    "class YahooProvider(OAuth2Provider):\n",
    "    id = str(\"yahoo\")\n",
    "    name = \"Yahoo\"\n",
    "    account_class = YahooAccount\n",
    "    oauth2_adapter_class = YahooOAuth2Adapter\n",
    "\n",
    "    def get_default_scope(self):\n",
    "        \"\"\"\n",
    "        Doc on scopes available at\n",
    "        https://developer.yahoo.com/oauth2/guide/yahoo_scopes/\n",
    "        \"\"\"\n",
    "        return [\"profile\", \"email\"]\n",
    "\n",
    "    def extract_uid(self, data):\n",
    "        return data[\"sub\"]\n",
    "\n",
    "    def extract_common_fields(self, data):\n",
    "        return dict(\n",
    "            email=data[\"email\"],\n",
    "            last_name=data[\"family_name\"],\n",
    "            first_name=data[\"given_name\"],\n",
    "        )\n",
    "\n",
    "    def extract_email_addresses(self, data):\n",
    "        ret = []\n",
    "        email = data.get(\"email\")\n",
    "        if email and data.get(\"email_verified\"):\n",
    "            ret.append(EmailAddress(email=email, verified=True, primary=True))\n",
    "        return ret"
   ]
  },
  {
   "cell_type": "markdown",
   "metadata": {},
   "source": []
  },
  {
   "cell_type": "code",
   "execution_count": null,
   "metadata": {},
   "outputs": [],
   "source": [
    "provider_classes = [YahooProvider]"
   ]
  },
  {
   "cell_type": "markdown",
   "metadata": {},
   "source": []
  }
 ],
 "metadata": {
  "language_info": {
   "name": "python"
  }
 },
 "nbformat": 4,
 "nbformat_minor": 2
}