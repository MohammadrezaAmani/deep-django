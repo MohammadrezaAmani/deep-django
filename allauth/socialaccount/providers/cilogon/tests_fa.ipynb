{
 "cells": [
  {
   "cell_type": "code",
   "execution_count": null,
   "metadata": {},
   "outputs": [],
   "source": [
    "from allauth.socialaccount.tests import OAuth2TestsMixin\n",
    "from allauth.tests import MockedResponse, TestCase\n",
    "\n",
    "from .provider import CILogonProvider"
   ]
  },
  {
   "cell_type": "markdown",
   "metadata": {},
   "source": []
  },
  {
   "cell_type": "code",
   "execution_count": null,
   "metadata": {},
   "outputs": [],
   "source": [
    "class CILogonTests(OAuth2TestsMixin, TestCase):\n",
    "    provider_id = CILogonProvider.id\n",
    "\n",
    "    def get_mocked_response(self):\n",
    "        return MockedResponse(\n",
    "            200,\n",
    "            \"\"\"\n",
    "        {\n",
    "            \"email\": \"johndoe@example.edu\",\n",
    "            \"eppn\": \"u1234567@example.edu\",\n",
    "            \"firstname\": \"John\",\n",
    "            \"lastname\": \"Doe\",\n",
    "            \"idp_name\": \"Example University\",\n",
    "            \"sub\": \"http://cilogon.org/serverA/users/1234567\"\n",
    "        }\"\"\",\n",
    "        )"
   ]
  },
  {
   "cell_type": "markdown",
   "metadata": {},
   "source": []
  }
 ],
 "metadata": {
  "language_info": {
   "name": "python"
  }
 },
 "nbformat": 4,
 "nbformat_minor": 2
}