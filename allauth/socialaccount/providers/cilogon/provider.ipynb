{
    "cells": [
        {
            "cell_type": "code",
            "execution_count": null,
            "metadata": {},
            "outputs": [],
            "source": [
                "from allauth.account.models import EmailAddress\n",
                "from allauth.socialaccount.app_settings import QUERY_EMAIL\n",
                "from allauth.socialaccount.providers.base import AuthAction, ProviderAccount\n",
                "from allauth.socialaccount.providers.cilogon.views import CILogonOAuth2Adapter\n",
                "from allauth.socialaccount.providers.oauth2.provider import OAuth2Provider\n"
            ]
        },
        {
            "cell_type": "markdown",
            "metadata": {},
            "source": []
        },
        {
            "cell_type": "code",
            "execution_count": null,
            "metadata": {},
            "outputs": [],
            "source": [
                "class Scope(object):\n",
                "    OPENID = \"openid\"\n",
                "    EMAIL = \"email\"\n",
                "    PROFILE = \"profile\"\n",
                "    USERINFO = \"org.cilogon.userinfo\"\n"
            ]
        },
        {
            "cell_type": "markdown",
            "metadata": {},
            "source": []
        },
        {
            "cell_type": "code",
            "execution_count": null,
            "metadata": {},
            "outputs": [],
            "source": [
                "class CILogonAccount(ProviderAccount):\n",
                "    def to_str(self):\n",
                "        dflt = super(CILogonAccount, self).to_str()\n",
                "        return self.account.extra_data.get(\"name\", dflt)\n"
            ]
        },
        {
            "cell_type": "markdown",
            "metadata": {},
            "source": []
        },
        {
            "cell_type": "code",
            "execution_count": null,
            "metadata": {},
            "outputs": [],
            "source": [
                "class CILogonProvider(OAuth2Provider):\n",
                "    id = \"cilogon\"\n",
                "    name = \"CILogon\"\n",
                "    account_class = CILogonAccount\n",
                "    oauth2_adapter_class = CILogonOAuth2Adapter\n",
                "\n",
                "    def get_default_scope(self):\n",
                "        scope = [Scope.PROFILE, Scope.USERINFO, Scope.OPENID]\n",
                "        if QUERY_EMAIL:\n",
                "            scope.append(Scope.EMAIL)\n",
                "        return scope\n",
                "\n",
                "    def get_auth_params_from_request(self, request, action):\n",
                "        ret = super().get_auth_params_from_request(request, action)\n",
                "        if action == AuthAction.REAUTHENTICATE:\n",
                "            ret[\"prompt\"] = \"select_account consent\"\n",
                "        return ret\n",
                "\n",
                "    def extract_uid(self, data):\n",
                "        return str(data.get(\"sub\"))\n",
                "\n",
                "    def extract_common_fields(self, data):\n",
                "        return dict(\n",
                "            email=data.get(\"email\"),\n",
                "            last_name=data.get(\"family_name\"),\n",
                "            first_name=data.get(\"given_name\"),\n",
                "            eppn=data.get(\"eppn\"),\n",
                "        )\n",
                "\n",
                "    def extract_email_addresses(self, data):\n",
                "        ret = []\n",
                "        email = data.get(\"email\")\n",
                "        if email and data.get(\"verified_email\"):\n",
                "            ret.append(EmailAddress(email=email, verified=True, primary=True))\n",
                "        return ret\n"
            ]
        },
        {
            "cell_type": "markdown",
            "metadata": {},
            "source": []
        },
        {
            "cell_type": "code",
            "execution_count": null,
            "metadata": {},
            "outputs": [],
            "source": [
                "provider_classes = [CILogonProvider]\n",
                "\n"
            ]
        },
        {
            "cell_type": "markdown",
            "metadata": {},
            "source": []
        }
    ],
    "metadata": {
        "language_info": {
            "name": "python"
        }
    },
    "nbformat": 4,
    "nbformat_minor": 2
}