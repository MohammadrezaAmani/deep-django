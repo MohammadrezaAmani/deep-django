{
    "cells": [
        {
            "cell_type": "code",
            "execution_count": null,
            "metadata": {},
            "outputs": [],
            "source": [
                "from allauth.socialaccount import app_settings\n",
                "from allauth.socialaccount.adapter import get_adapter\n",
                "from allauth.socialaccount.app_settings import QUERY_EMAIL\n",
                "from allauth.socialaccount.providers.oauth2.views import (\n",
                "    OAuth2Adapter,\n",
                "    OAuth2CallbackView,\n",
                "    OAuth2LoginView,\n",
                ")\n"
            ]
        },
        {
            "cell_type": "markdown",
            "metadata": {},
            "source": []
        },
        {
            "cell_type": "code",
            "execution_count": null,
            "metadata": {},
            "outputs": [],
            "source": [
                "class LichessOAuth2Adapter(OAuth2Adapter):\n",
                "    provider_id = \"lichess\"\n",
                "\n",
                "    settings = app_settings.PROVIDERS.get(provider_id, {})\n",
                "    provider_base_url = settings.get(\"API_URL\", \"https://lichess.org\")\n",
                "\n",
                "    access_token_url = f\"{provider_base_url}/api/token\"\n",
                "    authorize_url = f\"{provider_base_url}/oauth\"\n",
                "\n",
                "    profile_url = f\"{provider_base_url}/api/account\"\n",
                "    email_address_url = f\"{provider_base_url}/api/account/email\"\n",
                "\n",
                "    def complete_login(self, request, app, token, response):\n",
                "        profile_res = (\n",
                "            get_adapter()\n",
                "            .get_requests_session()\n",
                "            .get(\n",
                "                self.profile_url,\n",
                "                params={\"access_token\": token.token},\n",
                "                headers={\"Authorization\": f\"Bearer {token.token}\"},\n",
                "            )\n",
                "        )\n",
                "\n",
                "        profile_res.raise_for_status()\n",
                "        extra_data = profile_res.json()\n",
                "\n",
                "        user_profile = extra_data[\"result\"] if \"result\" in extra_data else extra_data\n",
                "\n",
                "        # retrieve email address if requested\n",
                "        if QUERY_EMAIL:\n",
                "            email_data = (\n",
                "                get_adapter()\n",
                "                .get_requests_session()\n",
                "                .get(\n",
                "                    self.email_address_url,\n",
                "                    headers={\"Authorization\": f\"Bearer {token.token}\"},\n",
                "                )\n",
                "            )\n",
                "\n",
                "            email_data.raise_for_status()\n",
                "            email_data = email_data.json()\n",
                "\n",
                "            # extract email address from response\n",
                "\n",
                "            email = email_data.get(\"email\", None)\n",
                "\n",
                "            if email:\n",
                "                user_profile[\"email\"] = email\n",
                "\n",
                "        return self.get_provider().sociallogin_from_response(request, user_profile)\n"
            ]
        },
        {
            "cell_type": "markdown",
            "metadata": {},
            "source": []
        },
        {
            "cell_type": "code",
            "execution_count": null,
            "metadata": {},
            "outputs": [],
            "source": [
                "oauth2_login = OAuth2LoginView.adapter_view(LichessOAuth2Adapter)\n",
                "oauth2_callback = OAuth2CallbackView.adapter_view(LichessOAuth2Adapter)\n",
                "\n"
            ]
        },
        {
            "cell_type": "markdown",
            "metadata": {},
            "source": []
        }
    ],
    "metadata": {
        "language_info": {
            "name": "python"
        }
    },
    "nbformat": 4,
    "nbformat_minor": 2
}