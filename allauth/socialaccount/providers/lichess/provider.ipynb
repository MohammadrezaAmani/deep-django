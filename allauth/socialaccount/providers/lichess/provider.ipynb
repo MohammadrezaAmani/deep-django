{
 "cells": [
  {
   "cell_type": "code",
   "execution_count": null,
   "metadata": {},
   "outputs": [],
   "source": [
    "from allauth.account.models import EmailAddress\n",
    "from allauth.socialaccount.app_settings import QUERY_EMAIL\n",
    "from allauth.socialaccount.providers.base import ProviderAccount\n",
    "from allauth.socialaccount.providers.lichess.views import LichessOAuth2Adapter\n",
    "from allauth.socialaccount.providers.oauth2.provider import OAuth2Provider"
   ]
  },
  {
   "cell_type": "markdown",
   "metadata": {},
   "source": []
  },
  {
   "cell_type": "code",
   "execution_count": null,
   "metadata": {},
   "outputs": [],
   "source": [
    "class LichessAccount(ProviderAccount):\n",
    "    def get_profile_url(self):\n",
    "        return self.account.extra_data.get(\"url\")\n",
    "\n",
    "    def get_avatar_url(self):\n",
    "        return self.account.extra_data.get(\"avatar\")\n",
    "\n",
    "    def to_str(self):\n",
    "        dflt = super().to_str()\n",
    "        return self.account.extra_data.get(\"username\", dflt)"
   ]
  },
  {
   "cell_type": "markdown",
   "metadata": {},
   "source": []
  },
  {
   "cell_type": "code",
   "execution_count": null,
   "metadata": {},
   "outputs": [],
   "source": [
    "class LichessProvider(OAuth2Provider):\n",
    "    id = \"lichess\"\n",
    "    name = \"Lichess\"\n",
    "    account_class = LichessAccount\n",
    "    oauth2_adapter_class = LichessOAuth2Adapter\n",
    "    pkce_enabled_default = True\n",
    "\n",
    "    def extract_uid(self, data):\n",
    "        return str(data[\"id\"])\n",
    "\n",
    "    def extract_common_fields(self, data):\n",
    "        first_name = data.get(\"profile\", {}).get(\"firstName\")\n",
    "        last_name = data.get(\"profile\", {}).get(\"lastName\")\n",
    "\n",
    "        return dict(\n",
    "            username=data.get(\"username\"),\n",
    "            email=data.get(\"email\"),\n",
    "            first_name=first_name,\n",
    "            last_name=last_name,\n",
    "        )\n",
    "\n",
    "    def extract_email_addresses(self, data):\n",
    "        ret = []\n",
    "        email = data.get(\"email\")\n",
    "\n",
    "        if email:\n",
    "            ret.append(\n",
    "                EmailAddress(\n",
    "                    email=email,\n",
    "                    primary=True,\n",
    "                )\n",
    "            )\n",
    "        return ret\n",
    "\n",
    "    def get_default_scope(self):\n",
    "        ret = []\n",
    "        if QUERY_EMAIL:\n",
    "            ret.append(\"email:read\")\n",
    "        return ret"
   ]
  },
  {
   "cell_type": "markdown",
   "metadata": {},
   "source": []
  },
  {
   "cell_type": "code",
   "execution_count": null,
   "metadata": {},
   "outputs": [],
   "source": [
    "provider_classes = [LichessProvider]"
   ]
  },
  {
   "cell_type": "markdown",
   "metadata": {},
   "source": []
  }
 ],
 "metadata": {
  "language_info": {
   "name": "python"
  }
 },
 "nbformat": 4,
 "nbformat_minor": 2
}