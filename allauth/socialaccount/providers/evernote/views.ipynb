{
    "cells": [
        {
            "cell_type": "code",
            "execution_count": null,
            "metadata": {},
            "outputs": [],
            "source": [
                "from datetime import datetime\n",
                "\n",
                "from allauth.socialaccount import app_settings\n",
                "from allauth.socialaccount.providers.oauth.views import (\n",
                "    OAuthAdapter,\n",
                "    OAuthCallbackView,\n",
                "    OAuthLoginView,\n",
                ")\n",
                "\n",
                "from .provider import EvernoteProvider\n"
            ]
        },
        {
            "cell_type": "markdown",
            "metadata": {},
            "source": []
        },
        {
            "cell_type": "code",
            "execution_count": null,
            "metadata": {},
            "outputs": [],
            "source": [
                "class EvernoteOAuthAdapter(OAuthAdapter):\n",
                "    provider_id = EvernoteProvider.id\n",
                "    settings = app_settings.PROVIDERS.get(provider_id, {})\n",
                "    request_token_url = \"https://%s/oauth\" % (\n",
                "        settings.get(\"EVERNOTE_HOSTNAME\", \"sandbox.evernote.com\")\n",
                "    )\n",
                "    access_token_url = \"https://%s/oauth\" % (\n",
                "        settings.get(\"EVERNOTE_HOSTNAME\", \"sandbox.evernote.com\")\n",
                "    )\n",
                "    authorize_url = \"https://%s/OAuth.action\" % (\n",
                "        settings.get(\"EVERNOTE_HOSTNAME\", \"sandbox.evernote.com\")\n",
                "    )\n",
                "\n",
                "    def complete_login(self, request, app, token, response):\n",
                "        token.expires_at = datetime.fromtimestamp(\n",
                "            int(response[\"edam_expires\"]) / 1000.0\n",
                "        )\n",
                "        extra_data = response\n",
                "        return self.get_provider().sociallogin_from_response(request, extra_data)\n"
            ]
        },
        {
            "cell_type": "markdown",
            "metadata": {},
            "source": []
        },
        {
            "cell_type": "code",
            "execution_count": null,
            "metadata": {},
            "outputs": [],
            "source": [
                "oauth_login = OAuthLoginView.adapter_view(EvernoteOAuthAdapter)\n",
                "oauth_callback = OAuthCallbackView.adapter_view(EvernoteOAuthAdapter)\n",
                "\n"
            ]
        },
        {
            "cell_type": "markdown",
            "metadata": {},
            "source": []
        }
    ],
    "metadata": {
        "language_info": {
            "name": "python"
        }
    },
    "nbformat": 4,
    "nbformat_minor": 2
}