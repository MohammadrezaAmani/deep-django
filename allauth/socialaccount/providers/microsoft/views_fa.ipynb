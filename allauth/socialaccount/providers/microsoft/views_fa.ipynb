{
 "cells": [
  {
   "cell_type": "code",
   "execution_count": null,
   "metadata": {},
   "outputs": [],
   "source": [
    "import json\n",
    "\n",
    "from allauth.core import context\n",
    "from allauth.socialaccount import app_settings\n",
    "from allauth.socialaccount.adapter import get_adapter\n",
    "from allauth.socialaccount.providers.oauth2.client import OAuth2Error\n",
    "from allauth.socialaccount.providers.oauth2.views import (\n",
    "    OAuth2Adapter,\n",
    "    OAuth2CallbackView,\n",
    "    OAuth2LoginView,\n",
    ")"
   ]
  },
  {
   "cell_type": "markdown",
   "metadata": {},
   "source": []
  },
  {
   "cell_type": "code",
   "execution_count": null,
   "metadata": {},
   "outputs": [],
   "source": [
    "def _check_errors(response):\n",
    "    try:\n",
    "        data = response.json()\n",
    "    except json.decoder.JSONDecodeError:\n",
    "        raise OAuth2Error(\n",
    "            \"Invalid JSON from Microsoft Graph API: {}\".format(response.text)\n",
    "        )\n",
    "\n",
    "    if \"id\" not in data:\n",
    "        error_message = \"Error retrieving Microsoft profile\"\n",
    "        microsoft_error_message = data.get(\"error\", {}).get(\"message\")\n",
    "        if microsoft_error_message:\n",
    "            error_message = \": \".join((error_message, microsoft_error_message))\n",
    "        raise OAuth2Error(error_message)\n",
    "\n",
    "    return data"
   ]
  },
  {
   "cell_type": "markdown",
   "metadata": {},
   "source": []
  },
  {
   "cell_type": "code",
   "execution_count": null,
   "metadata": {},
   "outputs": [],
   "source": [
    "class MicrosoftGraphOAuth2Adapter(OAuth2Adapter):\n",
    "    provider_id = \"microsoft\"\n",
    "\n",
    "    def _build_tenant_url(self, path):\n",
    "        settings = app_settings.PROVIDERS.get(self.provider_id, {})\n",
    "        # Lower case \"tenant\" for backwards compatibility\n",
    "        tenant = settings.get(\"TENANT\", settings.get(\"tenant\", \"common\"))\n",
    "        # Prefer app based tenant setting.\n",
    "        app = get_adapter().get_app(context.request, provider=self.provider_id)\n",
    "        tenant = app.settings.get(\"tenant\", tenant)\n",
    "        return f\"https://login.microsoftonline.com/{tenant}{path}\"\n",
    "\n",
    "    @property\n",
    "    def access_token_url(self):\n",
    "        return self._build_tenant_url(\"/oauth2/v2.0/token\")\n",
    "\n",
    "    @property\n",
    "    def authorize_url(self):\n",
    "        return self._build_tenant_url(\"/oauth2/v2.0/authorize\")\n",
    "\n",
    "    profile_url = \"https://graph.microsoft.com/v1.0/me\"\n",
    "\n",
    "    user_properties = (\n",
    "        \"businessPhones\",\n",
    "        \"displayName\",\n",
    "        \"givenName\",\n",
    "        \"id\",\n",
    "        \"jobTitle\",\n",
    "        \"mail\",\n",
    "        \"mobilePhone\",\n",
    "        \"officeLocation\",\n",
    "        \"preferredLanguage\",\n",
    "        \"surname\",\n",
    "        \"userPrincipalName\",\n",
    "        \"mailNickname\",\n",
    "        \"companyName\",\n",
    "    )\n",
    "    profile_url_params = {\"$select\": \",\".join(user_properties)}\n",
    "\n",
    "    def complete_login(self, request, app, token, **kwargs):\n",
    "        headers = {\"Authorization\": \"Bearer {0}\".format(token.token)}\n",
    "        response = (\n",
    "            get_adapter()\n",
    "            .get_requests_session()\n",
    "            .get(\n",
    "                self.profile_url,\n",
    "                params=self.profile_url_params,\n",
    "                headers=headers,\n",
    "            )\n",
    "        )\n",
    "        extra_data = _check_errors(response)\n",
    "        return self.get_provider().sociallogin_from_response(request, extra_data)"
   ]
  },
  {
   "cell_type": "markdown",
   "metadata": {},
   "source": []
  },
  {
   "cell_type": "code",
   "execution_count": null,
   "metadata": {},
   "outputs": [],
   "source": [
    "oauth2_login = OAuth2LoginView.adapter_view(MicrosoftGraphOAuth2Adapter)\n",
    "oauth2_callback = OAuth2CallbackView.adapter_view(MicrosoftGraphOAuth2Adapter)"
   ]
  },
  {
   "cell_type": "markdown",
   "metadata": {},
   "source": []
  }
 ],
 "metadata": {
  "language_info": {
   "name": "python"
  }
 },
 "nbformat": 4,
 "nbformat_minor": 2
}