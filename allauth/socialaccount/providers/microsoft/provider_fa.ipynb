{
 "cells": [
  {
   "cell_type": "code",
   "execution_count": null,
   "metadata": {},
   "outputs": [],
   "source": [
    "from allauth.socialaccount.providers.base import AuthAction, ProviderAccount\n",
    "from allauth.socialaccount.providers.microsoft.views import MicrosoftGraphOAuth2Adapter\n",
    "from allauth.socialaccount.providers.oauth2.provider import OAuth2Provider"
   ]
  },
  {
   "cell_type": "markdown",
   "metadata": {},
   "source": []
  },
  {
   "cell_type": "code",
   "execution_count": null,
   "metadata": {},
   "outputs": [],
   "source": [
    "class MicrosoftGraphAccount(ProviderAccount):\n",
    "    def get_avatar_url(self):\n",
    "        return self.account.extra_data.get(\"photo\")\n",
    "\n",
    "    def to_str(self):\n",
    "        dflt = super(MicrosoftGraphAccount, self).to_str()\n",
    "        return self.account.extra_data.get(\"displayName\", dflt)"
   ]
  },
  {
   "cell_type": "markdown",
   "metadata": {},
   "source": []
  },
  {
   "cell_type": "code",
   "execution_count": null,
   "metadata": {},
   "outputs": [],
   "source": [
    "class MicrosoftGraphProvider(OAuth2Provider):\n",
    "    id = \"microsoft\"\n",
    "    name = \"Microsoft\"\n",
    "    account_class = MicrosoftGraphAccount\n",
    "    oauth2_adapter_class = MicrosoftGraphOAuth2Adapter\n",
    "\n",
    "    def get_default_scope(self):\n",
    "        \"\"\"\n",
    "        Docs on Scopes and Permissions:\n",
    "        https://docs.microsoft.com/en-us/azure/active-directory/develop/v2-permissions-and-consent#scopes-and-permissions\n",
    "        \"\"\"\n",
    "        return [\"User.Read\"]\n",
    "\n",
    "    def get_auth_params_from_request(self, request, action):\n",
    "        ret = super().get_auth_params_from_request(request, action)\n",
    "        if action == AuthAction.REAUTHENTICATE:\n",
    "            ret[\"prompt\"] = \"select_account\"\n",
    "        return ret\n",
    "\n",
    "    def extract_uid(self, data):\n",
    "        return str(data[\"id\"])\n",
    "\n",
    "    def extract_common_fields(self, data):\n",
    "        return dict(\n",
    "            email=data.get(\"mail\") or data.get(\"userPrincipalName\"),\n",
    "            username=data.get(\"mailNickname\"),\n",
    "            last_name=data.get(\"surname\"),\n",
    "            first_name=data.get(\"givenName\"),\n",
    "        )"
   ]
  },
  {
   "cell_type": "markdown",
   "metadata": {},
   "source": []
  },
  {
   "cell_type": "code",
   "execution_count": null,
   "metadata": {},
   "outputs": [],
   "source": [
    "provider_classes = [MicrosoftGraphProvider]"
   ]
  },
  {
   "cell_type": "markdown",
   "metadata": {},
   "source": []
  }
 ],
 "metadata": {
  "language_info": {
   "name": "python"
  }
 },
 "nbformat": 4,
 "nbformat_minor": 2
}