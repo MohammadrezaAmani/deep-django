{
    "cells": [
        {
            "cell_type": "code",
            "execution_count": null,
            "metadata": {},
            "outputs": [],
            "source": [
                "import json\n",
                "\n",
                "from allauth.socialaccount.providers.oauth2.client import OAuth2Error\n",
                "from allauth.socialaccount.tests import OAuth2TestsMixin\n",
                "from allauth.tests import MockedResponse, TestCase\n",
                "\n",
                "from .provider import MicrosoftGraphProvider\n",
                "from .views import _check_errors\n"
            ]
        },
        {
            "cell_type": "markdown",
            "metadata": {},
            "source": []
        },
        {
            "cell_type": "code",
            "execution_count": null,
            "metadata": {},
            "outputs": [],
            "source": [
                "class MicrosoftGraphTests(OAuth2TestsMixin, TestCase):\n",
                "    provider_id = MicrosoftGraphProvider.id\n",
                "\n",
                "    def get_mocked_response(self):\n",
                "        response_data = \"\"\"\n",
                "        {\n",
                "            \"@odata.context\": \"https://graph.microsoft.com/v1.0/$metadata#users/$entity\",\n",
                "            \"id\": \"16f5a7b6-5a15-4568-aa5a-31bb117e9967\",\n",
                "            \"businessPhones\": [],\n",
                "            \"displayName\": \"Anne Weiler\",\n",
                "            \"givenName\": \"Anne\",\n",
                "            \"jobTitle\": \"Manufacturing Lead\",\n",
                "            \"mail\": \"annew@CIE493742.onmicrosoft.com\",\n",
                "            \"mobilePhone\": \"+1 3528700812\",\n",
                "            \"officeLocation\": null,\n",
                "            \"preferredLanguage\": \"en-US\",\n",
                "            \"surname\": \"Weiler\",\n",
                "            \"userPrincipalName\": \"annew@CIE493742.onmicrosoft.com\",\n",
                "            \"mailNickname\": \"annew\"\n",
                "        }\n",
                "        \"\"\"  # noqa\n",
                "        return MockedResponse(200, response_data)\n",
                "\n",
                "    def test_invalid_data(self):\n",
                "        response = MockedResponse(200, json.dumps({}))\n",
                "        with self.assertRaises(OAuth2Error):\n",
                "            # No id, raises\n",
                "            _check_errors(response)\n",
                "\n",
                "    def test_profile_invalid_response(self):\n",
                "        data = {\n",
                "            \"error\": {\n",
                "                \"code\": \"InvalidAuthenticationToken\",\n",
                "                \"message\": \"Access token validation failure. Invalid audience.\",\n",
                "            }\n",
                "        }\n",
                "        response = MockedResponse(401, json.dumps(data))\n",
                "\n",
                "        with self.assertRaises(OAuth2Error):\n",
                "            # no id, 4xx code, raises with message\n",
                "            _check_errors(response)\n",
                "\n",
                "    def test_invalid_response(self):\n",
                "        response = MockedResponse(200, \"invalid json data\")\n",
                "        with self.assertRaises(OAuth2Error):\n",
                "            # bad json, raises\n",
                "            _check_errors(response)\n",
                "\n"
            ]
        },
        {
            "cell_type": "markdown",
            "metadata": {},
            "source": []
        }
    ],
    "metadata": {
        "language_info": {
            "name": "python"
        }
    },
    "nbformat": 4,
    "nbformat_minor": 2
}