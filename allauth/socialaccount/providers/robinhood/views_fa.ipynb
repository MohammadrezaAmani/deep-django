{
 "cells": [
  {
   "cell_type": "code",
   "execution_count": null,
   "metadata": {},
   "outputs": [],
   "source": [
    "from allauth.socialaccount.adapter import get_adapter\n",
    "from allauth.socialaccount.providers.oauth2.views import (\n",
    "    OAuth2Adapter,\n",
    "    OAuth2CallbackView,\n",
    "    OAuth2LoginView,\n",
    ")"
   ]
  },
  {
   "cell_type": "markdown",
   "metadata": {},
   "source": []
  },
  {
   "cell_type": "code",
   "execution_count": null,
   "metadata": {},
   "outputs": [],
   "source": [
    "class RobinhoodOAuth2Adapter(OAuth2Adapter):\n",
    "    provider_id = \"robinhood\"\n",
    "\n",
    "    @property\n",
    "    def authorize_url(self):\n",
    "        return \"https://www.robinhood.com/oauth2/authorize/\"\n",
    "\n",
    "    @property\n",
    "    def access_token_url(self):\n",
    "        return \"https://api.robinhood.com/oauth2/token/\"\n",
    "\n",
    "    @property\n",
    "    def profile_url(self):\n",
    "        return \"https://api.robinhood.com/user/id/\"\n",
    "\n",
    "    def complete_login(self, request, app, token, **kwargs):\n",
    "        response = (\n",
    "            get_adapter()\n",
    "            .get_requests_session()\n",
    "            .get(\n",
    "                self.profile_url,\n",
    "                headers={\"Authorization\": \"Bearer %s\" % token.token},\n",
    "            )\n",
    "        )\n",
    "        extra_data = response.json()\n",
    "        return self.get_provider().sociallogin_from_response(request, extra_data)"
   ]
  },
  {
   "cell_type": "markdown",
   "metadata": {},
   "source": []
  },
  {
   "cell_type": "code",
   "execution_count": null,
   "metadata": {},
   "outputs": [],
   "source": [
    "oauth2_login = OAuth2LoginView.adapter_view(RobinhoodOAuth2Adapter)\n",
    "oauth2_callback = OAuth2CallbackView.adapter_view(RobinhoodOAuth2Adapter)"
   ]
  },
  {
   "cell_type": "markdown",
   "metadata": {},
   "source": []
  }
 ],
 "metadata": {
  "language_info": {
   "name": "python"
  }
 },
 "nbformat": 4,
 "nbformat_minor": 2
}