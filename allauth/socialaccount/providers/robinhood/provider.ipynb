{
 "cells": [
  {
   "cell_type": "code",
   "execution_count": null,
   "metadata": {},
   "outputs": [],
   "source": [
    "from allauth.socialaccount.providers.base import ProviderAccount\n",
    "from allauth.socialaccount.providers.oauth2.provider import OAuth2Provider\n",
    "from allauth.socialaccount.providers.robinhood.views import (\n",
    "    RobinhoodOAuth2Adapter,\n",
    ")"
   ]
  },
  {
   "cell_type": "markdown",
   "metadata": {},
   "source": []
  },
  {
   "cell_type": "code",
   "execution_count": null,
   "metadata": {},
   "outputs": [],
   "source": [
    "class RobinhoodAccount(ProviderAccount):\n",
    "    def get_avatar_url(self):\n",
    "        return None\n",
    "\n",
    "    def to_str(self):\n",
    "        return self.account.extra_data.get(\n",
    "            \"username\", super(RobinhoodAccount, self).to_str()\n",
    "        )"
   ]
  },
  {
   "cell_type": "markdown",
   "metadata": {},
   "source": []
  },
  {
   "cell_type": "code",
   "execution_count": null,
   "metadata": {},
   "outputs": [],
   "source": [
    "class RobinhoodProvider(OAuth2Provider):\n",
    "    id = \"robinhood\"\n",
    "    name = \"Robinhood\"\n",
    "    account_class = RobinhoodAccount\n",
    "    oauth2_adapter_class = RobinhoodOAuth2Adapter\n",
    "\n",
    "    def get_default_scope(self):\n",
    "        return [\"read\"]\n",
    "\n",
    "    def extract_uid(self, data):\n",
    "        return data[\"id\"]\n",
    "\n",
    "    def extract_common_fields(self, data):\n",
    "        return dict(username=data.get(\"username\"))"
   ]
  },
  {
   "cell_type": "markdown",
   "metadata": {},
   "source": []
  },
  {
   "cell_type": "code",
   "execution_count": null,
   "metadata": {},
   "outputs": [],
   "source": [
    "provider_classes = [RobinhoodProvider]"
   ]
  },
  {
   "cell_type": "markdown",
   "metadata": {},
   "source": []
  }
 ],
 "metadata": {
  "language_info": {
   "name": "python"
  }
 },
 "nbformat": 4,
 "nbformat_minor": 2
}