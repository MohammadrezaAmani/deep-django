{
 "cells": [
  {
   "cell_type": "code",
   "execution_count": null,
   "metadata": {},
   "outputs": [],
   "source": [
    "from allauth.socialaccount.tests import OAuth2TestsMixin\n",
    "from allauth.tests import MockedResponse, TestCase\n",
    "\n",
    "from .provider import MediaWikiProvider"
   ]
  },
  {
   "cell_type": "markdown",
   "metadata": {},
   "source": []
  },
  {
   "cell_type": "code",
   "execution_count": null,
   "metadata": {},
   "outputs": [],
   "source": [
    "class MediaWikiTests(OAuth2TestsMixin, TestCase):\n",
    "    provider_id = MediaWikiProvider.id\n",
    "\n",
    "    def get_mocked_response(self):\n",
    "        return MockedResponse(\n",
    "            200,\n",
    "            \"\"\"\n",
    "                {\n",
    "                    \"iss\": \"https://meta.wikimedia.org\",\n",
    "                    \"sub\": 12345,\n",
    "                    \"aud\": \"1234567890abcdef\",\n",
    "                    \"exp\": 946681300,\n",
    "                    \"iat\": 946681200,\n",
    "                    \"username\": \"John Doe\",\n",
    "                    \"editcount\": 123,\n",
    "                    \"confirmed_email\": true,\n",
    "                    \"blocked\": false,\n",
    "                    \"registered\": \"20000101000000\",\n",
    "                    \"groups\": [\"*\", \"user\", \"autoconfirmed\"],\n",
    "                    \"rights\": [\"read\", \"edit\"],\n",
    "                    \"grants\": [\"basic\"],\n",
    "                    \"email\": \"johndoe@example.com\"\n",
    "                }\n",
    "            \"\"\",\n",
    "        )"
   ]
  },
  {
   "cell_type": "markdown",
   "metadata": {},
   "source": []
  }
 ],
 "metadata": {
  "language_info": {
   "name": "python"
  }
 },
 "nbformat": 4,
 "nbformat_minor": 2
}