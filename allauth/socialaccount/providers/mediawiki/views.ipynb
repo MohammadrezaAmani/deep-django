{
    "cells": [
        {
            "cell_type": "code",
            "execution_count": null,
            "metadata": {},
            "outputs": [],
            "source": [
                "from django.conf import settings\n",
                "\n",
                "from allauth.socialaccount.adapter import get_adapter\n",
                "from allauth.socialaccount.providers.oauth2.views import (\n",
                "    OAuth2Adapter,\n",
                "    OAuth2CallbackView,\n",
                "    OAuth2LoginView,\n",
                ")\n"
            ]
        },
        {
            "cell_type": "markdown",
            "metadata": {},
            "source": []
        },
        {
            "cell_type": "code",
            "execution_count": null,
            "metadata": {},
            "outputs": [],
            "source": [
                "settings = getattr(settings, \"SOCIALACCOUNT_PROVIDERS\", {}).get(\"mediawiki\", {})\n"
            ]
        },
        {
            "cell_type": "markdown",
            "metadata": {},
            "source": []
        },
        {
            "cell_type": "code",
            "execution_count": null,
            "metadata": {},
            "outputs": [],
            "source": [
                "class MediaWikiOAuth2Adapter(OAuth2Adapter):\n",
                "    provider_id = \"mediawiki\"\n",
                "    REST_API = settings.get(\"REST_API\", \"https://meta.wikimedia.org/w/rest.php\")\n",
                "    access_token_url = REST_API + \"/oauth2/access_token\"\n",
                "    authorize_url = REST_API + \"/oauth2/authorize\"\n",
                "    profile_url = REST_API + \"/oauth2/resource/profile\"\n",
                "\n",
                "    def complete_login(self, request, app, token, **kwargs):\n",
                "        resp = (\n",
                "            get_adapter()\n",
                "            .get_requests_session()\n",
                "            .get(\n",
                "                self.profile_url,\n",
                "                headers={\"Authorization\": \"Bearer {token}\".format(token=token.token)},\n",
                "            )\n",
                "        )\n",
                "        resp.raise_for_status()\n",
                "        extra_data = resp.json()\n",
                "        return self.get_provider().sociallogin_from_response(request, extra_data)\n"
            ]
        },
        {
            "cell_type": "markdown",
            "metadata": {},
            "source": []
        },
        {
            "cell_type": "code",
            "execution_count": null,
            "metadata": {},
            "outputs": [],
            "source": [
                "oauth2_login = OAuth2LoginView.adapter_view(MediaWikiOAuth2Adapter)\n",
                "oauth2_callback = OAuth2CallbackView.adapter_view(MediaWikiOAuth2Adapter)\n",
                "\n"
            ]
        },
        {
            "cell_type": "markdown",
            "metadata": {},
            "source": []
        }
    ],
    "metadata": {
        "language_info": {
            "name": "python"
        }
    },
    "nbformat": 4,
    "nbformat_minor": 2
}