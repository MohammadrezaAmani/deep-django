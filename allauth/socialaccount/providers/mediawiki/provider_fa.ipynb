{
 "cells": [
  {
   "cell_type": "code",
   "execution_count": null,
   "metadata": {},
   "outputs": [],
   "source": [
    "from typing import Optional\n",
    "\n",
    "from allauth.account.models import EmailAddress\n",
    "from allauth.socialaccount.providers.base import ProviderAccount\n",
    "from allauth.socialaccount.providers.mediawiki.views import MediaWikiOAuth2Adapter\n",
    "from allauth.socialaccount.providers.oauth2.provider import OAuth2Provider\n",
    "from django.conf import settings\n",
    "\n",
    "settings = getattr(settings, \"SOCIALACCOUNT_PROVIDERS\", {}).get(\"mediawiki\", {})"
   ]
  },
  {
   "cell_type": "markdown",
   "metadata": {},
   "source": []
  },
  {
   "cell_type": "code",
   "execution_count": null,
   "metadata": {},
   "outputs": [],
   "source": [
    "class MediaWikiAccount(ProviderAccount):\n",
    "    def get_profile_url(self):\n",
    "        userpage = settings.get(\n",
    "            \"USERPAGE_TEMPLATE\", \"https://meta.wikimedia.org/wiki/User:{username}\"\n",
    "        )\n",
    "        username = self.account.extra_data.get(\"username\")\n",
    "        if not username:\n",
    "            return None\n",
    "        return userpage.format(username=username.replace(\" \", \"_\"))\n",
    "\n",
    "    def to_str(self):\n",
    "        dflt = super(MediaWikiAccount, self).to_str()\n",
    "        return self.account.extra_data.get(\"username\", dflt)"
   ]
  },
  {
   "cell_type": "markdown",
   "metadata": {},
   "source": []
  },
  {
   "cell_type": "code",
   "execution_count": null,
   "metadata": {},
   "outputs": [],
   "source": [
    "class MediaWikiProvider(OAuth2Provider):\n",
    "    id = \"mediawiki\"\n",
    "    name = \"MediaWiki\"\n",
    "    account_class = MediaWikiAccount\n",
    "    oauth2_adapter_class = MediaWikiOAuth2Adapter\n",
    "\n",
    "    @staticmethod\n",
    "    def _get_email(data: dict) -> Optional[str]:\n",
    "        if data.get(\"confirmed_email\"):\n",
    "            return data.get(\"email\")\n",
    "        return None\n",
    "\n",
    "    def extract_uid(self, data):\n",
    "        return str(data[\"sub\"])\n",
    "\n",
    "    def extract_extra_data(self, data):\n",
    "        return dict(\n",
    "            username=data.get(\"username\"),\n",
    "        )\n",
    "\n",
    "    def extract_common_fields(self, data):\n",
    "        return dict(\n",
    "            email=self._get_email(data),\n",
    "            username=data.get(\"username\"),\n",
    "            name=data.get(\"realname\"),\n",
    "        )\n",
    "\n",
    "    def extract_email_addresses(self, data):\n",
    "        return [EmailAddress(email=self._get_email(data), verified=True, primary=True)]"
   ]
  },
  {
   "cell_type": "markdown",
   "metadata": {},
   "source": []
  },
  {
   "cell_type": "code",
   "execution_count": null,
   "metadata": {},
   "outputs": [],
   "source": [
    "provider_classes = [MediaWikiProvider]"
   ]
  },
  {
   "cell_type": "markdown",
   "metadata": {},
   "source": []
  }
 ],
 "metadata": {
  "language_info": {
   "name": "python"
  }
 },
 "nbformat": 4,
 "nbformat_minor": 2
}