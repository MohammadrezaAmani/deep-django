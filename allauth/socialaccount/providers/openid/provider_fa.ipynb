{
    "cells": [
        {
            "cell_type": "code",
            "execution_count": null,
            "metadata": {},
            "outputs": [],
            "source": [
                "from urllib.parse import urlparse\n",
                "\n",
                "from allauth.socialaccount.providers.base import Provider, ProviderAccount\n",
                "from django.urls import reverse\n",
                "from django.utils.http import urlencode\n",
                "\n",
                "from .utils import (\n",
                "    AXAttribute,\n",
                "    OldAXAttribute,\n",
                "    SRegField,\n",
                "    get_email_from_response,\n",
                "    get_value_from_response,\n",
                ")\n"
            ]
        },
        {
            "cell_type": "markdown",
            "metadata": {},
            "source": []
        },
        {
            "cell_type": "code",
            "execution_count": null,
            "metadata": {},
            "outputs": [],
            "source": [
                "class OpenIDAccount(ProviderAccount):\n",
                "    def get_brand(self):\n",
                "        ret = super(OpenIDAccount, self).get_brand()\n",
                "        domain = urlparse(self.account.uid).netloc\n",
                "        provider_map = {}\n",
                "        for d, p in provider_map.items():\n",
                "            if domain.lower().find(d) >= 0:\n",
                "                ret = p\n",
                "                break\n",
                "        return ret\n",
                "\n",
                "    def to_str(self):\n",
                "        return self.account.uid\n"
            ]
        },
        {
            "cell_type": "markdown",
            "metadata": {},
            "source": []
        },
        {
            "cell_type": "code",
            "execution_count": null,
            "metadata": {},
            "outputs": [],
            "source": [
                "class OpenIDProvider(Provider):\n",
                "    id = \"openid\"\n",
                "    name = \"OpenID\"\n",
                "    account_class = OpenIDAccount\n",
                "    uses_apps = False\n",
                "\n",
                "    def get_login_url(self, request, **kwargs):\n",
                "        url = reverse(\"openid_login\")\n",
                "        if kwargs:\n",
                "            url += \"?\" + urlencode(kwargs)\n",
                "        return url\n",
                "\n",
                "    def get_brands(self):\n",
                "        default_servers = []\n",
                "        return self.get_settings().get(\"SERVERS\", default_servers)\n",
                "\n",
                "    def get_server_settings(self, endpoint):\n",
                "        servers = self.get_settings().get(\"SERVERS\", [])\n",
                "        for server in servers:\n",
                "            if endpoint is not None and endpoint.startswith(server.get(\"openid_url\")):\n",
                "                return server\n",
                "        return {}\n",
                "\n",
                "    def extract_extra_data(self, response):\n",
                "        extra_data = {}\n",
                "        server_settings = self.get_server_settings(response.endpoint.server_url)\n",
                "        extra_attributes = server_settings.get(\"extra_attributes\", [])\n",
                "        for attribute_id, name, _ in extra_attributes:\n",
                "            extra_data[attribute_id] = get_value_from_response(\n",
                "                response, ax_names=[name]\n",
                "            )\n",
                "        return extra_data\n",
                "\n",
                "    def extract_uid(self, response):\n",
                "        return response.identity_url\n",
                "\n",
                "    def extract_common_fields(self, response):\n",
                "        first_name = (\n",
                "            get_value_from_response(\n",
                "                response,\n",
                "                ax_names=[\n",
                "                    AXAttribute.PERSON_FIRST_NAME,\n",
                "                    OldAXAttribute.PERSON_FIRST_NAME,\n",
                "                ],\n",
                "            )\n",
                "            or \"\"\n",
                "        )\n",
                "        last_name = (\n",
                "            get_value_from_response(\n",
                "                response,\n",
                "                ax_names=[\n",
                "                    AXAttribute.PERSON_LAST_NAME,\n",
                "                    OldAXAttribute.PERSON_LAST_NAME,\n",
                "                ],\n",
                "            )\n",
                "            or \"\"\n",
                "        )\n",
                "        name = (\n",
                "            get_value_from_response(\n",
                "                response,\n",
                "                sreg_names=[SRegField.NAME],\n",
                "                ax_names=[AXAttribute.PERSON_NAME, OldAXAttribute.PERSON_NAME],\n",
                "            )\n",
                "            or \"\"\n",
                "        )\n",
                "        return dict(\n",
                "            email=get_email_from_response(response),\n",
                "            first_name=first_name,\n",
                "            last_name=last_name,\n",
                "            name=name,\n",
                "        )\n"
            ]
        },
        {
            "cell_type": "markdown",
            "metadata": {},
            "source": []
        },
        {
            "cell_type": "code",
            "execution_count": null,
            "metadata": {},
            "outputs": [],
            "source": [
                "provider_classes = [OpenIDProvider]\n",
                "\n"
            ]
        },
        {
            "cell_type": "markdown",
            "metadata": {},
            "source": []
        }
    ],
    "metadata": {
        "language_info": {
            "name": "python"
        }
    },
    "nbformat": 4,
    "nbformat_minor": 2
}