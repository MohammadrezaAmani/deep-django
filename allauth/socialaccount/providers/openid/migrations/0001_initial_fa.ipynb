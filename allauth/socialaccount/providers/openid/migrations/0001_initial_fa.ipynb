{
    "cells": [
        {
            "cell_type": "code",
            "execution_count": null,
            "metadata": {},
            "outputs": [],
            "source": [
                "# -*- coding: utf-8 -*-\n",
                "from __future__ import unicode_literals\n",
                "\n",
                "from django.db import migrations, models\n"
            ]
        },
        {
            "cell_type": "markdown",
            "metadata": {},
            "source": []
        },
        {
            "cell_type": "code",
            "execution_count": null,
            "metadata": {},
            "outputs": [],
            "source": [
                "class Migration(migrations.Migration):\n",
                "    dependencies = []\n",
                "\n",
                "    operations = [\n",
                "        migrations.CreateModel(\n",
                "            name=\"OpenIDNonce\",\n",
                "            fields=[\n",
                "                (\n",
                "                    \"id\",\n",
                "                    models.AutoField(\n",
                "                        verbose_name=\"ID\",\n",
                "                        serialize=False,\n",
                "                        auto_created=True,\n",
                "                        primary_key=True,\n",
                "                    ),\n",
                "                ),\n",
                "                (\"server_url\", models.CharField(max_length=255)),\n",
                "                (\"timestamp\", models.IntegerField()),\n",
                "                (\"salt\", models.CharField(max_length=255)),\n",
                "                (\"date_created\", models.DateTimeField(auto_now_add=True)),\n",
                "            ],\n",
                "            options={},\n",
                "            bases=(models.Model,),\n",
                "        ),\n",
                "        migrations.CreateModel(\n",
                "            name=\"OpenIDStore\",\n",
                "            fields=[\n",
                "                (\n",
                "                    \"id\",\n",
                "                    models.AutoField(\n",
                "                        verbose_name=\"ID\",\n",
                "                        serialize=False,\n",
                "                        auto_created=True,\n",
                "                        primary_key=True,\n",
                "                    ),\n",
                "                ),\n",
                "                (\"server_url\", models.CharField(max_length=255)),\n",
                "                (\"handle\", models.CharField(max_length=255)),\n",
                "                (\"secret\", models.TextField()),\n",
                "                (\"issued\", models.IntegerField()),\n",
                "                (\"lifetime\", models.IntegerField()),\n",
                "                (\"assoc_type\", models.TextField()),\n",
                "            ],\n",
                "            options={},\n",
                "            bases=(models.Model,),\n",
                "        ),\n",
                "    ]\n",
                "\n"
            ]
        },
        {
            "cell_type": "markdown",
            "metadata": {},
            "source": []
        }
    ],
    "metadata": {
        "language_info": {
            "name": "python"
        }
    },
    "nbformat": 4,
    "nbformat_minor": 2
}