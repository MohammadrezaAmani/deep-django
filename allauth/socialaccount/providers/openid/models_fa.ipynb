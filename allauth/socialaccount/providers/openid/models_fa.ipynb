{
    "cells": [
        {
            "cell_type": "code",
            "execution_count": null,
            "metadata": {},
            "outputs": [],
            "source": [
                "from django.db import models\n"
            ]
        },
        {
            "cell_type": "markdown",
            "metadata": {},
            "source": []
        },
        {
            "cell_type": "code",
            "execution_count": null,
            "metadata": {},
            "outputs": [],
            "source": [
                "class OpenIDStore(models.Model):\n",
                "    server_url = models.CharField(max_length=255)\n",
                "    handle = models.CharField(max_length=255)\n",
                "    secret = models.TextField()\n",
                "    issued = models.IntegerField()\n",
                "    lifetime = models.IntegerField()\n",
                "    assoc_type = models.TextField()\n",
                "\n",
                "    def __str__(self):\n",
                "        return self.server_url\n"
            ]
        },
        {
            "cell_type": "markdown",
            "metadata": {},
            "source": []
        },
        {
            "cell_type": "code",
            "execution_count": null,
            "metadata": {},
            "outputs": [],
            "source": [
                "class OpenIDNonce(models.Model):\n",
                "    server_url = models.CharField(max_length=255)\n",
                "    timestamp = models.IntegerField()\n",
                "    salt = models.CharField(max_length=255)\n",
                "    date_created = models.DateTimeField(auto_now_add=True)\n",
                "\n",
                "    def __str__(self):\n",
                "        return self.server_url\n",
                "\n"
            ]
        },
        {
            "cell_type": "markdown",
            "metadata": {},
            "source": []
        }
    ],
    "metadata": {
        "language_info": {
            "name": "python"
        }
    },
    "nbformat": 4,
    "nbformat_minor": 2
}