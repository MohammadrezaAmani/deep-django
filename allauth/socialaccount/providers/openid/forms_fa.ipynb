{
    "cells": [
        {
            "cell_type": "code",
            "execution_count": null,
            "metadata": {},
            "outputs": [],
            "source": [
                "from django import forms\n",
                "from django.utils.safestring import mark_safe\n"
            ]
        },
        {
            "cell_type": "markdown",
            "metadata": {},
            "source": []
        },
        {
            "cell_type": "code",
            "execution_count": null,
            "metadata": {},
            "outputs": [],
            "source": [
                "class LoginForm(forms.Form):\n",
                "    openid = forms.URLField(\n",
                "        label=(\"OpenID\"),\n",
                "        help_text=mark_safe(\n",
                "            'Get an <a href=\"http://openidexplained.com/get\">OpenID</a>'\n",
                "        ),\n",
                "    )\n",
                "    next = forms.CharField(widget=forms.HiddenInput, required=False)\n",
                "    process = forms.CharField(widget=forms.HiddenInput, required=False)\n",
                "\n"
            ]
        },
        {
            "cell_type": "markdown",
            "metadata": {},
            "source": []
        }
    ],
    "metadata": {
        "language_info": {
            "name": "python"
        }
    },
    "nbformat": 4,
    "nbformat_minor": 2
}