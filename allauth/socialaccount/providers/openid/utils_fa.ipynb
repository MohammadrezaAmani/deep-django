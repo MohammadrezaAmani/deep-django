{
 "cells": [
  {
   "cell_type": "code",
   "execution_count": null,
   "metadata": {},
   "outputs": [],
   "source": [
    "import base64\n",
    "import pickle\n",
    "from collections import UserDict\n",
    "\n",
    "from openid.association import Association as OIDAssociation\n",
    "from openid.extensions.ax import FetchResponse\n",
    "from openid.extensions.sreg import SRegResponse\n",
    "from openid.store.interface import OpenIDStore as OIDStore\n",
    "\n",
    "from allauth.utils import valid_email_or_none\n",
    "\n",
    "from .models import OpenIDNonce, OpenIDStore"
   ]
  },
  {
   "cell_type": "markdown",
   "metadata": {},
   "source": []
  },
  {
   "cell_type": "code",
   "execution_count": null,
   "metadata": {},
   "outputs": [],
   "source": [
    "class JSONSafeSession(UserDict):\n",
    "    \"\"\"\n",
    "    openid puts e.g. class OpenIDServiceEndpoint in the session.\n",
    "    Django 1.6 no longer pickles stuff, so we'll need to do some\n",
    "    hacking here...\n",
    "    \"\"\"\n",
    "\n",
    "    def __init__(self, session):\n",
    "        UserDict.__init__(self)\n",
    "        self.data = session\n",
    "\n",
    "    def __setitem__(self, key, value):\n",
    "        data = base64.b64encode(pickle.dumps(value)).decode(\"ascii\")\n",
    "        return UserDict.__setitem__(self, key, data)\n",
    "\n",
    "    def __getitem__(self, key):\n",
    "        data = UserDict.__getitem__(self, key)\n",
    "        return pickle.loads(base64.b64decode(data.encode(\"ascii\")))"
   ]
  },
  {
   "cell_type": "markdown",
   "metadata": {},
   "source": []
  },
  {
   "cell_type": "code",
   "execution_count": null,
   "metadata": {},
   "outputs": [],
   "source": [
    "class OldAXAttribute:\n",
    "    PERSON_NAME = \"http://openid.net/schema/namePerson\"\n",
    "    PERSON_FIRST_NAME = \"http://openid.net/schema/namePerson/first\"\n",
    "    PERSON_LAST_NAME = \"http://openid.net/schema/namePerson/last\""
   ]
  },
  {
   "cell_type": "markdown",
   "metadata": {},
   "source": []
  },
  {
   "cell_type": "code",
   "execution_count": null,
   "metadata": {},
   "outputs": [],
   "source": [
    "class AXAttribute:\n",
    "    CONTACT_EMAIL = \"http://axschema.org/contact/email\"\n",
    "    PERSON_NAME = \"http://axschema.org/namePerson\"\n",
    "    PERSON_FIRST_NAME = \"http://axschema.org/namePerson/first\"\n",
    "    PERSON_LAST_NAME = \"http://axschema.org/namePerson/last\""
   ]
  },
  {
   "cell_type": "markdown",
   "metadata": {},
   "source": []
  },
  {
   "cell_type": "code",
   "execution_count": null,
   "metadata": {},
   "outputs": [],
   "source": [
    "AXAttributes = [\n",
    "    AXAttribute.CONTACT_EMAIL,\n",
    "    AXAttribute.PERSON_NAME,\n",
    "    AXAttribute.PERSON_FIRST_NAME,\n",
    "    AXAttribute.PERSON_LAST_NAME,\n",
    "    OldAXAttribute.PERSON_NAME,\n",
    "    OldAXAttribute.PERSON_FIRST_NAME,\n",
    "    OldAXAttribute.PERSON_LAST_NAME,\n",
    "]"
   ]
  },
  {
   "cell_type": "markdown",
   "metadata": {},
   "source": []
  },
  {
   "cell_type": "code",
   "execution_count": null,
   "metadata": {},
   "outputs": [],
   "source": [
    "class SRegField:\n",
    "    EMAIL = \"email\"\n",
    "    NAME = \"fullname\""
   ]
  },
  {
   "cell_type": "markdown",
   "metadata": {},
   "source": []
  },
  {
   "cell_type": "code",
   "execution_count": null,
   "metadata": {},
   "outputs": [],
   "source": [
    "SRegFields = [\n",
    "    SRegField.EMAIL,\n",
    "    SRegField.NAME,\n",
    "]"
   ]
  },
  {
   "cell_type": "markdown",
   "metadata": {},
   "source": []
  },
  {
   "cell_type": "code",
   "execution_count": null,
   "metadata": {},
   "outputs": [],
   "source": [
    "class DBOpenIDStore(OIDStore):\n",
    "    max_nonce_age = 6 * 60 * 60\n",
    "\n",
    "    def storeAssociation(self, server_url, assoc=None):\n",
    "        try:\n",
    "            secret = base64.encodebytes(assoc.secret)\n",
    "        except AttributeError:\n",
    "            # Python 2.x compat\n",
    "            secret = base64.encodestring(assoc.secret)\n",
    "        else:\n",
    "            secret = secret.decode()\n",
    "        OpenIDStore.objects.create(\n",
    "            server_url=server_url,\n",
    "            handle=assoc.handle,\n",
    "            secret=secret,\n",
    "            issued=assoc.issued,\n",
    "            lifetime=assoc.lifetime,\n",
    "            assoc_type=assoc.assoc_type,\n",
    "        )\n",
    "\n",
    "    def getAssociation(self, server_url, handle=None):\n",
    "        stored_assocs = OpenIDStore.objects.filter(server_url=server_url)\n",
    "        if handle:\n",
    "            stored_assocs = stored_assocs.filter(handle=handle)\n",
    "\n",
    "        stored_assocs.order_by(\"-issued\")\n",
    "\n",
    "        if not stored_assocs.exists():\n",
    "            return None\n",
    "\n",
    "        return_val = None\n",
    "\n",
    "        for stored_assoc in stored_assocs:\n",
    "            assoc = OIDAssociation(\n",
    "                stored_assoc.handle,\n",
    "                base64.decodebytes(stored_assoc.secret.encode(\"utf-8\")),\n",
    "                stored_assoc.issued,\n",
    "                stored_assoc.lifetime,\n",
    "                stored_assoc.assoc_type,\n",
    "            )\n",
    "            # See:\n",
    "            # necaris/python3-openid@1abb155c8fc7b508241cbe9d2cae24f18e4a379b\n",
    "            if hasattr(assoc, \"getExpiresIn\"):\n",
    "                expires_in = assoc.getExpiresIn()\n",
    "            else:\n",
    "                expires_in = assoc.expiresIn\n",
    "            if expires_in == 0:\n",
    "                stored_assoc.delete()\n",
    "            else:\n",
    "                if return_val is None:\n",
    "                    return_val = assoc\n",
    "\n",
    "        return return_val\n",
    "\n",
    "    def removeAssociation(self, server_url, handle):\n",
    "        stored_assocs = OpenIDStore.objects.filter(server_url=server_url)\n",
    "        if handle:\n",
    "            stored_assocs = stored_assocs.filter(handle=handle)\n",
    "\n",
    "        stored_assocs.delete()\n",
    "\n",
    "    def useNonce(self, server_url, timestamp, salt):\n",
    "        try:\n",
    "            OpenIDNonce.objects.get(\n",
    "                server_url=server_url, timestamp=timestamp, salt=salt\n",
    "            )\n",
    "        except OpenIDNonce.DoesNotExist:\n",
    "            OpenIDNonce.objects.create(\n",
    "                server_url=server_url, timestamp=timestamp, salt=salt\n",
    "            )\n",
    "            return True\n",
    "\n",
    "        return False"
   ]
  },
  {
   "cell_type": "markdown",
   "metadata": {},
   "source": []
  },
  {
   "cell_type": "code",
   "execution_count": null,
   "metadata": {},
   "outputs": [],
   "source": [
    "def get_email_from_response(response):\n",
    "    email = None\n",
    "    sreg = SRegResponse.fromSuccessResponse(response)\n",
    "    if sreg:\n",
    "        email = valid_email_or_none(sreg.get(SRegField.EMAIL))\n",
    "    if not email:\n",
    "        ax = FetchResponse.fromSuccessResponse(response)\n",
    "        if ax:\n",
    "            try:\n",
    "                values = ax.get(AXAttribute.CONTACT_EMAIL)\n",
    "                if values:\n",
    "                    email = valid_email_or_none(values[0])\n",
    "            except KeyError:\n",
    "                pass\n",
    "    return email"
   ]
  },
  {
   "cell_type": "markdown",
   "metadata": {},
   "source": []
  },
  {
   "cell_type": "code",
   "execution_count": null,
   "metadata": {},
   "outputs": [],
   "source": [
    "def get_value_from_response(response, sreg_names=None, ax_names=None):\n",
    "    value = None\n",
    "    if sreg_names:\n",
    "        sreg = SRegResponse.fromSuccessResponse(response)\n",
    "        if sreg:\n",
    "            for name in sreg_names:\n",
    "                value = sreg.get(name)\n",
    "                if value:\n",
    "                    break\n",
    "\n",
    "    if not value and ax_names:\n",
    "        ax = FetchResponse.fromSuccessResponse(response)\n",
    "        if ax:\n",
    "            for name in ax_names:\n",
    "                try:\n",
    "                    values = ax.get(name)\n",
    "                    if values:\n",
    "                        value = values[0]\n",
    "                except KeyError:\n",
    "                    pass\n",
    "                if value:\n",
    "                    break\n",
    "    return value"
   ]
  },
  {
   "cell_type": "markdown",
   "metadata": {},
   "source": []
  }
 ],
 "metadata": {
  "language_info": {
   "name": "python"
  }
 },
 "nbformat": 4,
 "nbformat_minor": 2
}