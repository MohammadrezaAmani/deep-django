{
    "cells": [
        {
            "cell_type": "code",
            "execution_count": null,
            "metadata": {},
            "outputs": [],
            "source": [
                "from allauth.socialaccount.tests import OAuth2TestsMixin\n",
                "from allauth.tests import MockedResponse, TestCase\n",
                "\n",
                "from .provider import BitlyProvider\n"
            ]
        },
        {
            "cell_type": "markdown",
            "metadata": {},
            "source": []
        },
        {
            "cell_type": "code",
            "execution_count": null,
            "metadata": {},
            "outputs": [],
            "source": [
                "class BitlyTests(OAuth2TestsMixin, TestCase):\n",
                "    provider_id = BitlyProvider.id\n",
                "\n",
                "    def get_mocked_response(self):\n",
                "        return MockedResponse(\n",
                "            200,\n",
                "            \"\"\"{\n",
                "            \"data\": {\n",
                "                \"apiKey\": \"R_f6397a37e765574f2e198dba5bb59522\",\n",
                "                \"custom_short_domain\": null,\n",
                "                \"display_name\": null,\n",
                "                \"full_name\": \"Bitly API Oauth Demo Account\",\n",
                "                \"is_enterprise\": false,\n",
                "                \"login\": \"bitlyapioauthdemo\",\n",
                "                \"member_since\": 1331567982,\n",
                "                \"profile_image\": \"http://bitly.com/u/bitlyapioauthdemo.png\",\n",
                "                \"profile_url\": \"http://bitly.com/u/bitlyapioauthdemo\",\n",
                "                \"share_accounts\": [],\n",
                "                \"tracking_domains\": []\n",
                "            },\n",
                "            \"status_code\": 200,\n",
                "            \"status_txt\": \"OK\"\n",
                "        }\"\"\",\n",
                "        )\n",
                "\n"
            ]
        },
        {
            "cell_type": "markdown",
            "metadata": {},
            "source": []
        }
    ],
    "metadata": {
        "language_info": {
            "name": "python"
        }
    },
    "nbformat": 4,
    "nbformat_minor": 2
}