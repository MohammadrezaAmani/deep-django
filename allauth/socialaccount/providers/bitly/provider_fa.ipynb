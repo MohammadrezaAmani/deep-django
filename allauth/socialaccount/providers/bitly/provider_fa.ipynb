{
 "cells": [
  {
   "cell_type": "code",
   "execution_count": null,
   "metadata": {},
   "outputs": [],
   "source": [
    "from allauth.socialaccount.providers.base import ProviderAccount\n",
    "from allauth.socialaccount.providers.bitly.views import BitlyOAuth2Adapter\n",
    "from allauth.socialaccount.providers.oauth2.provider import OAuth2Provider"
   ]
  },
  {
   "cell_type": "markdown",
   "metadata": {},
   "source": []
  },
  {
   "cell_type": "code",
   "execution_count": null,
   "metadata": {},
   "outputs": [],
   "source": [
    "class BitlyAccount(ProviderAccount):\n",
    "    def get_profile_url(self):\n",
    "        return self.account.extra_data.get(\"profile_url\")\n",
    "\n",
    "    def get_avatar_url(self):\n",
    "        return self.account.extra_data.get(\"profile_image\")\n",
    "\n",
    "    def to_str(self):\n",
    "        dflt = super(BitlyAccount, self).to_str()\n",
    "        return \"%s (%s)\" % (\n",
    "            self.account.extra_data.get(\"full_name\", \"\"),\n",
    "            dflt,\n",
    "        )"
   ]
  },
  {
   "cell_type": "markdown",
   "metadata": {},
   "source": []
  },
  {
   "cell_type": "code",
   "execution_count": null,
   "metadata": {},
   "outputs": [],
   "source": [
    "class BitlyProvider(OAuth2Provider):\n",
    "    id = \"bitly\"\n",
    "    name = \"Bitly\"\n",
    "    account_class = BitlyAccount\n",
    "    oauth2_adapter_class = BitlyOAuth2Adapter\n",
    "\n",
    "    def extract_uid(self, data):\n",
    "        return str(data[\"login\"])\n",
    "\n",
    "    def extract_common_fields(self, data):\n",
    "        return dict(username=data[\"login\"], name=data.get(\"full_name\"))"
   ]
  },
  {
   "cell_type": "markdown",
   "metadata": {},
   "source": []
  },
  {
   "cell_type": "code",
   "execution_count": null,
   "metadata": {},
   "outputs": [],
   "source": [
    "provider_classes = [BitlyProvider]"
   ]
  },
  {
   "cell_type": "markdown",
   "metadata": {},
   "source": []
  }
 ],
 "metadata": {
  "language_info": {
   "name": "python"
  }
 },
 "nbformat": 4,
 "nbformat_minor": 2
}