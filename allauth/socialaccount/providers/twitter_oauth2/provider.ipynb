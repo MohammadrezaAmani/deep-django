{
    "cells": [
        {
            "cell_type": "code",
            "execution_count": null,
            "metadata": {},
            "outputs": [],
            "source": [
                "from allauth.socialaccount.providers.base import ProviderAccount\n",
                "from allauth.socialaccount.providers.oauth2.provider import OAuth2Provider\n",
                "from allauth.socialaccount.providers.twitter_oauth2.views import (\n",
                "    TwitterOAuth2Adapter,\n",
                ")\n"
            ]
        },
        {
            "cell_type": "markdown",
            "metadata": {},
            "source": []
        },
        {
            "cell_type": "code",
            "execution_count": null,
            "metadata": {},
            "outputs": [],
            "source": [
                "class TwitterOAuth2Account(ProviderAccount):\n",
                "    def get_username(self):\n",
                "        return self.account.extra_data.get(\"username\")\n",
                "\n",
                "    def get_profile_url(self):\n",
                "        username = self.get_username()\n",
                "        if username:\n",
                "            return \"https://twitter.com/\" + username\n",
                "        return None\n",
                "\n",
                "    def get_avatar_url(self):\n",
                "        return self.account.extra_data.get(\"profile_image_url\")\n",
                "\n",
                "    def to_str(self):\n",
                "        username = self.get_username()\n",
                "        return username or super(TwitterOAuth2Account, self).to_str()\n"
            ]
        },
        {
            "cell_type": "markdown",
            "metadata": {},
            "source": []
        },
        {
            "cell_type": "code",
            "execution_count": null,
            "metadata": {},
            "outputs": [],
            "source": [
                "class TwitterOAuth2Provider(OAuth2Provider):\n",
                "    id = \"twitter_oauth2\"\n",
                "    name = \"Twitter\"\n",
                "    account_class = TwitterOAuth2Account\n",
                "    oauth2_adapter_class = TwitterOAuth2Adapter\n",
                "    pkce_enabled_default = True\n",
                "\n",
                "    def extract_uid(self, data):\n",
                "        return data[\"id\"]\n",
                "\n",
                "    def extract_common_fields(self, data):\n",
                "        return dict(\n",
                "            name=data[\"name\"],\n",
                "            username=data[\"username\"],\n",
                "        )\n",
                "\n",
                "    def get_fields(self):\n",
                "        settings = self.get_settings()\n",
                "        default_fields = [\n",
                "            \"id\",\n",
                "            \"name\",\n",
                "            \"username\",\n",
                "            \"verified\",\n",
                "            \"profile_image_url\",\n",
                "            \"created_at\",\n",
                "        ]\n",
                "        return settings.get(\"FIELDS\", default_fields)\n",
                "\n",
                "    def get_default_scope(self):\n",
                "        return [\"users.read\", \"tweet.read\"]\n"
            ]
        },
        {
            "cell_type": "markdown",
            "metadata": {},
            "source": []
        },
        {
            "cell_type": "code",
            "execution_count": null,
            "metadata": {},
            "outputs": [],
            "source": [
                "provider_classes = [TwitterOAuth2Provider]\n",
                "\n"
            ]
        },
        {
            "cell_type": "markdown",
            "metadata": {},
            "source": []
        }
    ],
    "metadata": {
        "language_info": {
            "name": "python"
        }
    },
    "nbformat": 4,
    "nbformat_minor": 2
}