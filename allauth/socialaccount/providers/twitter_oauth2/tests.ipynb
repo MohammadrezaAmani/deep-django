{
    "cells": [
        {
            "cell_type": "code",
            "execution_count": null,
            "metadata": {},
            "outputs": [],
            "source": [
                "from allauth.socialaccount.tests import OAuth2TestsMixin\n",
                "from allauth.tests import MockedResponse, TestCase\n",
                "\n",
                "from .provider import TwitterOAuth2Provider\n"
            ]
        },
        {
            "cell_type": "markdown",
            "metadata": {},
            "source": []
        },
        {
            "cell_type": "code",
            "execution_count": null,
            "metadata": {},
            "outputs": [],
            "source": [
                "class TwitterOAuth2Tests(OAuth2TestsMixin, TestCase):\n",
                "    provider_id = TwitterOAuth2Provider.id\n",
                "\n",
                "    def get_mocked_response(self):\n",
                "        return MockedResponse(\n",
                "            200,\n",
                "            \"\"\"{\n",
                "                \"data\": {\n",
                "                    \"created_at\": \"2020-09-02T13:39:14.000Z\",\n",
                "                    \"id\": \"1301152652357595137\",\n",
                "                    \"verified\": false,\n",
                "                    \"username\": \"realllkk520\",\n",
                "                    \"name\": \"realllkk520\",\n",
                "                    \"profile_image_url\": \"https://pbs.twimg.com/profile_images/1537259565632593920/OoRGPbUg_normal.jpg\"\n",
                "                }\n",
                "            }\n",
                "            \"\"\",\n",
                "        )  # noqa\n",
                "\n"
            ]
        },
        {
            "cell_type": "markdown",
            "metadata": {},
            "source": []
        }
    ],
    "metadata": {
        "language_info": {
            "name": "python"
        }
    },
    "nbformat": 4,
    "nbformat_minor": 2
}