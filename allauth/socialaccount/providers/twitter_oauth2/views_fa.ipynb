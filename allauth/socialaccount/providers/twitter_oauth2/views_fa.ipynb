{
    "cells": [
        {
            "cell_type": "code",
            "execution_count": null,
            "metadata": {},
            "outputs": [],
            "source": [
                "from allauth.socialaccount.adapter import get_adapter\n",
                "from allauth.socialaccount.providers.oauth2.views import (\n",
                "    OAuth2Adapter,\n",
                "    OAuth2CallbackView,\n",
                "    OAuth2LoginView,\n",
                ")\n"
            ]
        },
        {
            "cell_type": "markdown",
            "metadata": {},
            "source": []
        },
        {
            "cell_type": "code",
            "execution_count": null,
            "metadata": {},
            "outputs": [],
            "source": [
                "class TwitterOAuth2Adapter(OAuth2Adapter):\n",
                "    provider_id = \"twitter_oauth2\"\n",
                "    access_token_url = \"https://api.twitter.com/2/oauth2/token\"\n",
                "    authorize_url = \"https://twitter.com/i/oauth2/authorize\"\n",
                "    profile_url = \"https://api.twitter.com/2/users/me\"\n",
                "    basic_auth = True\n",
                "\n",
                "    def complete_login(self, request, app, access_token, **kwargs):\n",
                "        extra_data = self.get_user_info(access_token)\n",
                "        return self.get_provider().sociallogin_from_response(request, extra_data)\n",
                "\n",
                "    def get_user_info(self, token):\n",
                "        fields = self.get_provider().get_fields()\n",
                "        headers = {}\n",
                "        headers.update(self.get_provider().get_settings().get(\"HEADERS\", {}))\n",
                "        headers[\"Authorization\"] = \" \".join([\"Bearer\", token.token])\n",
                "\n",
                "        resp = (\n",
                "            get_adapter()\n",
                "            .get_requests_session()\n",
                "            .get(\n",
                "                url=self.profile_url,\n",
                "                params={\"user.fields\": \",\".join(fields)},\n",
                "                headers=headers,\n",
                "            )\n",
                "        )\n",
                "        resp.raise_for_status()\n",
                "        data = resp.json()[\"data\"]\n",
                "        return data\n"
            ]
        },
        {
            "cell_type": "markdown",
            "metadata": {},
            "source": []
        },
        {
            "cell_type": "code",
            "execution_count": null,
            "metadata": {},
            "outputs": [],
            "source": [
                "oauth2_login = OAuth2LoginView.adapter_view(TwitterOAuth2Adapter)\n",
                "oauth2_callback = OAuth2CallbackView.adapter_view(TwitterOAuth2Adapter)\n",
                "\n"
            ]
        },
        {
            "cell_type": "markdown",
            "metadata": {},
            "source": []
        }
    ],
    "metadata": {
        "language_info": {
            "name": "python"
        }
    },
    "nbformat": 4,
    "nbformat_minor": 2
}