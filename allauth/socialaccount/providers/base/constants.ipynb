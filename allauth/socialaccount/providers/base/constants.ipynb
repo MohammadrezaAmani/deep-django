{
 "cells": [
  {
   "cell_type": "code",
   "execution_count": null,
   "metadata": {},
   "outputs": [],
   "source": [
    "class AuthProcess(object):\n",
    "    LOGIN = \"login\"\n",
    "    CONNECT = \"connect\"\n",
    "    REDIRECT = \"redirect\""
   ]
  },
  {
   "cell_type": "markdown",
   "metadata": {},
   "source": []
  },
  {
   "cell_type": "code",
   "execution_count": null,
   "metadata": {},
   "outputs": [],
   "source": [
    "class AuthAction(object):\n",
    "    AUTHENTICATE = \"authenticate\"\n",
    "    REAUTHENTICATE = \"reauthenticate\"\n",
    "    REREQUEST = \"rerequest\""
   ]
  },
  {
   "cell_type": "markdown",
   "metadata": {},
   "source": []
  },
  {
   "cell_type": "code",
   "execution_count": null,
   "metadata": {},
   "outputs": [],
   "source": [
    "class AuthError(object):\n",
    "    UNKNOWN = \"unknown\"\n",
    "    CANCELLED = \"cancelled\"  # Cancelled on request of user\n",
    "    DENIED = \"denied\"  # Denied by server"
   ]
  },
  {
   "cell_type": "markdown",
   "metadata": {},
   "source": []
  }
 ],
 "metadata": {
  "language_info": {
   "name": "python"
  }
 },
 "nbformat": 4,
 "nbformat_minor": 2
}