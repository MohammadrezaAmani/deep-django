{
 "cells": [
  {
   "cell_type": "code",
   "execution_count": null,
   "metadata": {},
   "outputs": [],
   "source": [
    "from django.shortcuts import render\n",
    "\n",
    "from allauth.account import app_settings as account_app_settings\n",
    "from allauth.socialaccount import app_settings"
   ]
  },
  {
   "cell_type": "markdown",
   "metadata": {},
   "source": []
  },
  {
   "cell_type": "code",
   "execution_count": null,
   "metadata": {},
   "outputs": [],
   "source": [
    "def respond_to_login_on_get(request, provider):\n",
    "    if (not app_settings.LOGIN_ON_GET) and request.method == \"GET\":\n",
    "        return render(\n",
    "            request,\n",
    "            \"socialaccount/login.\" + account_app_settings.TEMPLATE_EXTENSION,\n",
    "            {\n",
    "                \"provider\": provider,\n",
    "                \"process\": request.GET.get(\"process\"),\n",
    "            },\n",
    "        )"
   ]
  },
  {
   "cell_type": "markdown",
   "metadata": {},
   "source": []
  }
 ],
 "metadata": {
  "language_info": {
   "name": "python"
  }
 },
 "nbformat": 4,
 "nbformat_minor": 2
}