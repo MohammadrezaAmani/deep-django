{
 "cells": [
  {
   "cell_type": "code",
   "execution_count": null,
   "metadata": {},
   "outputs": [],
   "source": [
    "from allauth.socialaccount.providers.base.utils import respond_to_login_on_get"
   ]
  },
  {
   "cell_type": "markdown",
   "metadata": {},
   "source": []
  },
  {
   "cell_type": "code",
   "execution_count": null,
   "metadata": {},
   "outputs": [],
   "source": [
    "class OAuthLoginMixin:\n",
    "    def dispatch(self, request, *args, **kwargs):\n",
    "        provider = self.adapter.get_provider()\n",
    "        resp = respond_to_login_on_get(request, provider)\n",
    "        if resp:\n",
    "            return resp\n",
    "        return self.login(request, *args, **kwargs)\n",
    "\n",
    "    def login(self, request, *args, **kwargs):\n",
    "        raise NotImplementedError"
   ]
  },
  {
   "cell_type": "markdown",
   "metadata": {},
   "source": []
  }
 ],
 "metadata": {
  "language_info": {
   "name": "python"
  }
 },
 "nbformat": 4,
 "nbformat_minor": 2
}