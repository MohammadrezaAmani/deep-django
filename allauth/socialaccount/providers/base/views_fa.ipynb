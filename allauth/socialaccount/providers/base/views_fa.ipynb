{
    "cells": [
        {
            "cell_type": "code",
            "execution_count": null,
            "metadata": {},
            "outputs": [],
            "source": [
                "from allauth.socialaccount.adapter import get_adapter\n",
                "from allauth.socialaccount.providers.base.utils import respond_to_login_on_get\n",
                "from django.views import View\n"
            ]
        },
        {
            "cell_type": "markdown",
            "metadata": {},
            "source": []
        },
        {
            "cell_type": "code",
            "execution_count": null,
            "metadata": {},
            "outputs": [],
            "source": [
                "class BaseLoginView(View):\n",
                "    provider_id: str  # Set in subclasses\n",
                "\n",
                "    def dispatch(self, request, *args, **kwargs):\n",
                "        provider = self.get_provider()\n",
                "        resp = respond_to_login_on_get(request, provider)\n",
                "        if resp:\n",
                "            return resp\n",
                "        return provider.redirect_from_request(request)\n",
                "\n",
                "    def get_provider(self):\n",
                "        provider = get_adapter().get_provider(self.request, self.provider_id)\n",
                "        return provider\n",
                "\n"
            ]
        },
        {
            "cell_type": "markdown",
            "metadata": {},
            "source": []
        }
    ],
    "metadata": {
        "language_info": {
            "name": "python"
        }
    },
    "nbformat": 4,
    "nbformat_minor": 2
}