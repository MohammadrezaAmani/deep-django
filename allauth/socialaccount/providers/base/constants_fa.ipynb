{
    "cells": [
        {
            "cell_type": "code",
            "execution_count": null,
            "metadata": {},
            "outputs": [],
            "source": [
                "class AuthProcess(object):\n",
                "    LOGIN = \"login\"\n",
                "    CONNECT = \"connect\"\n",
                "    REDIRECT = \"redirect\"\n"
            ]
        },
        {
            "cell_type": "markdown",
            "metadata": {},
            "source": []
        },
        {
            "cell_type": "code",
            "execution_count": null,
            "metadata": {},
            "outputs": [],
            "source": [
                "class AuthAction(object):\n",
                "    AUTHENTICATE = \"authenticate\"\n",
                "    REAUTHENTICATE = \"reauthenticate\"\n",
                "    REREQUEST = \"rerequest\"\n"
            ]
        },
        {
            "cell_type": "markdown",
            "metadata": {},
            "source": []
        },
        {
            "cell_type": "code",
            "execution_count": null,
            "metadata": {},
            "outputs": [],
            "source": [
                "class AuthError(object):\n",
                "    UNKNOWN = \"unknown\"\n",
                "    CANCELLED = \"cancelled\"  # Cancelled on request of user\n",
                "    DENIED = \"denied\"  # Denied by server\n",
                "\n"
            ]
        },
        {
            "cell_type": "markdown",
            "metadata": {},
            "source": []
        }
    ],
    "metadata": {
        "language_info": {
            "name": "python"
        }
    },
    "nbformat": 4,
    "nbformat_minor": 2
}