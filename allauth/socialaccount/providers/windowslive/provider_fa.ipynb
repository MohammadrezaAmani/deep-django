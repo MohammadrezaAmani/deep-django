{
    "cells": [
        {
            "cell_type": "code",
            "execution_count": null,
            "metadata": {},
            "outputs": [],
            "source": [
                "from allauth.socialaccount.providers.base import ProviderAccount\n",
                "from allauth.socialaccount.providers.oauth2.provider import OAuth2Provider\n",
                "from allauth.socialaccount.providers.windowslive.views import WindowsLiveOAuth2Adapter\n"
            ]
        },
        {
            "cell_type": "markdown",
            "metadata": {},
            "source": []
        },
        {
            "cell_type": "code",
            "execution_count": null,
            "metadata": {},
            "outputs": [],
            "source": [
                "class WindowsLiveAccount(ProviderAccount):\n",
                "    def to_str(self):\n",
                "        name = \"{0} {1}\".format(\n",
                "            self.account.extra_data.get(\"first_name\", \"\"),\n",
                "            self.account.extra_data.get(\"last_name\", \"\"),\n",
                "        )\n",
                "        if name.strip() != \"\":\n",
                "            return name\n",
                "        return super(WindowsLiveAccount, self).to_str()\n"
            ]
        },
        {
            "cell_type": "markdown",
            "metadata": {},
            "source": []
        },
        {
            "cell_type": "code",
            "execution_count": null,
            "metadata": {},
            "outputs": [],
            "source": [
                "class WindowsLiveProvider(OAuth2Provider):\n",
                "    id = \"windowslive\"\n",
                "    name = \"Live\"\n",
                "    account_class = WindowsLiveAccount\n",
                "    oauth2_adapter_class = WindowsLiveOAuth2Adapter\n",
                "\n",
                "    def get_default_scope(self):\n",
                "        \"\"\"\n",
                "        Doc on scopes available at\n",
                "        http://msdn.microsoft.com/en-us/library/dn631845.aspx\n",
                "        \"\"\"\n",
                "        return [\"wl.basic\", \"wl.emails\"]\n",
                "\n",
                "    def extract_uid(self, data):\n",
                "        return str(data[\"id\"])\n",
                "\n",
                "    def extract_common_fields(self, data):\n",
                "        try:\n",
                "            email = data.get(\"emails\").get(\"preferred\")\n",
                "        except AttributeError:\n",
                "            email = None\n",
                "\n",
                "        return dict(\n",
                "            email=email,\n",
                "            last_name=data.get(\"last_name\"),\n",
                "            first_name=data.get(\"first_name\"),\n",
                "        )\n"
            ]
        },
        {
            "cell_type": "markdown",
            "metadata": {},
            "source": []
        },
        {
            "cell_type": "code",
            "execution_count": null,
            "metadata": {},
            "outputs": [],
            "source": [
                "provider_classes = [WindowsLiveProvider]\n",
                "\n"
            ]
        },
        {
            "cell_type": "markdown",
            "metadata": {},
            "source": []
        }
    ],
    "metadata": {
        "language_info": {
            "name": "python"
        }
    },
    "nbformat": 4,
    "nbformat_minor": 2
}