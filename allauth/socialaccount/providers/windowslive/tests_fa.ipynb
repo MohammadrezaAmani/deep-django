{
 "cells": [
  {
   "cell_type": "code",
   "execution_count": null,
   "metadata": {},
   "outputs": [],
   "source": [
    "from allauth.socialaccount.tests import OAuth2TestsMixin\n",
    "from allauth.tests import MockedResponse, TestCase\n",
    "\n",
    "from .provider import WindowsLiveProvider"
   ]
  },
  {
   "cell_type": "markdown",
   "metadata": {},
   "source": []
  },
  {
   "cell_type": "code",
   "execution_count": null,
   "metadata": {},
   "outputs": [],
   "source": [
    "class WindowsLiveTests(OAuth2TestsMixin, TestCase):\n",
    "    provider_id = WindowsLiveProvider.id\n",
    "\n",
    "    def get_mocked_response(self):\n",
    "        return MockedResponse(\n",
    "            200,\n",
    "            \"\"\"\n",
    "        {\n",
    "          \"first_name\": \"James\",\n",
    "          \"last_name\": \"Smith\",\n",
    "          \"name\": \"James Smith\",\n",
    "          \"locale\": \"en_US\",\n",
    "          \"gender\": null,\n",
    "          \"emails\": {\n",
    "              \"personal\": null,\n",
    "              \"account\": \"jsmith@example.com\",\n",
    "              \"business\": null,\n",
    "              \"preferred\": \"jsmith@example.com\"\n",
    "              },\n",
    "          \"link\": \"https://profile.live.com/\",\n",
    "          \"updated_time\": \"2014-02-07T00:35:27+0000\",\n",
    "          \"id\": \"83605e110af6ff98\"\n",
    "        }\n",
    "        \"\"\",\n",
    "        )"
   ]
  },
  {
   "cell_type": "markdown",
   "metadata": {},
   "source": []
  }
 ],
 "metadata": {
  "language_info": {
   "name": "python"
  }
 },
 "nbformat": 4,
 "nbformat_minor": 2
}