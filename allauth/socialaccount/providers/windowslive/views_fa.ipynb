{
 "cells": [
  {
   "cell_type": "code",
   "execution_count": null,
   "metadata": {},
   "outputs": [],
   "source": [
    "from allauth.socialaccount.adapter import get_adapter\n",
    "from allauth.socialaccount.providers.oauth2.views import (\n",
    "    OAuth2Adapter,\n",
    "    OAuth2CallbackView,\n",
    "    OAuth2LoginView,\n",
    ")"
   ]
  },
  {
   "cell_type": "markdown",
   "metadata": {},
   "source": []
  },
  {
   "cell_type": "code",
   "execution_count": null,
   "metadata": {},
   "outputs": [],
   "source": [
    "class WindowsLiveOAuth2Adapter(OAuth2Adapter):\n",
    "    provider_id = \"windowslive\"\n",
    "    access_token_url = \"https://login.live.com/oauth20_token.srf\"\n",
    "    authorize_url = \"https://login.live.com/oauth20_authorize.srf\"\n",
    "    profile_url = \"https://apis.live.net/v5.0/me\"\n",
    "\n",
    "    def complete_login(self, request, app, token, **kwargs):\n",
    "        headers = {\"Authorization\": \"Bearer {0}\".format(token.token)}\n",
    "        resp = (\n",
    "            get_adapter().get_requests_session().get(self.profile_url, headers=headers)\n",
    "        )\n",
    "\n",
    "        # example of what's returned (in python format):\n",
    "        # {'first_name': 'James', 'last_name': 'Smith',\n",
    "        #  'name': 'James Smith', 'locale': 'en_US', 'gender': None,\n",
    "        #  'emails': {'personal': None, 'account': 'jsmith@example.com',\n",
    "        #  'business': None, 'preferred': 'jsmith@example.com'},\n",
    "        #  'link': 'https://profile.live.com/',\n",
    "        #  'updated_time': '2014-02-07T00:35:27+0000',\n",
    "        #  'id': '83605e110af6ff98'}\n",
    "\n",
    "        resp.raise_for_status()\n",
    "        extra_data = resp.json()\n",
    "        return self.get_provider().sociallogin_from_response(request, extra_data)"
   ]
  },
  {
   "cell_type": "markdown",
   "metadata": {},
   "source": []
  },
  {
   "cell_type": "code",
   "execution_count": null,
   "metadata": {},
   "outputs": [],
   "source": [
    "oauth2_login = OAuth2LoginView.adapter_view(WindowsLiveOAuth2Adapter)\n",
    "oauth2_callback = OAuth2CallbackView.adapter_view(WindowsLiveOAuth2Adapter)"
   ]
  },
  {
   "cell_type": "markdown",
   "metadata": {},
   "source": []
  }
 ],
 "metadata": {
  "language_info": {
   "name": "python"
  }
 },
 "nbformat": 4,
 "nbformat_minor": 2
}