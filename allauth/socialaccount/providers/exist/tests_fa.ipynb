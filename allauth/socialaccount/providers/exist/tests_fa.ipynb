{
 "cells": [
  {
   "cell_type": "code",
   "execution_count": null,
   "metadata": {},
   "outputs": [],
   "source": [
    "# -*- coding: utf-8 -*-\n",
    "from allauth.socialaccount.providers.exist.provider import ExistProvider\n",
    "from allauth.socialaccount.tests import OAuth2TestsMixin\n",
    "from allauth.tests import MockedResponse, TestCase"
   ]
  },
  {
   "cell_type": "markdown",
   "metadata": {},
   "source": []
  },
  {
   "cell_type": "code",
   "execution_count": null,
   "metadata": {},
   "outputs": [],
   "source": [
    "class ExistTests(OAuth2TestsMixin, TestCase):\n",
    "    provider_id = ExistProvider.id\n",
    "\n",
    "    def get_mocked_response(self):\n",
    "        return MockedResponse(\n",
    "            200,\n",
    "            \"\"\"\n",
    "            {\n",
    "                \"id\": 1,\n",
    "                \"username\": \"josh\",\n",
    "                \"first_name\": \"Josh\",\n",
    "                \"last_name\": \"Sharp\",\n",
    "                \"bio\": \"I made this thing you're using.\",\n",
    "                \"url\": \"http://hellocode.co/\",\n",
    "                \"avatar\": \"https://exist.io/static/media/avatars/josh_2.png\",\n",
    "                \"timezone\": \"Australia/Melbourne\",\n",
    "                \"local_time\": \"2020-07-31T22:33:49.359+10:00\",\n",
    "                \"private\": false,\n",
    "                \"imperial_units\": false,\n",
    "                \"imperial_distance\": false,\n",
    "                \"imperial_weight\": false,\n",
    "                \"imperial_energy\": false,\n",
    "                \"imperial_liquid\": false,\n",
    "                \"imperial_temperature\": false,\n",
    "                \"attributes\": []\n",
    "            }\n",
    "        \"\"\",\n",
    "        )"
   ]
  },
  {
   "cell_type": "markdown",
   "metadata": {},
   "source": []
  }
 ],
 "metadata": {
  "language_info": {
   "name": "python"
  }
 },
 "nbformat": 4,
 "nbformat_minor": 2
}