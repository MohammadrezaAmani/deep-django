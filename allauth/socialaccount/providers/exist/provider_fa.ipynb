{
    "cells": [
        {
            "cell_type": "code",
            "execution_count": null,
            "metadata": {},
            "outputs": [],
            "source": [
                "from allauth.socialaccount.providers.base import ProviderAccount\n",
                "from allauth.socialaccount.providers.exist.views import ExistOAuth2Adapter\n",
                "from allauth.socialaccount.providers.oauth2.provider import OAuth2Provider\n"
            ]
        },
        {
            "cell_type": "markdown",
            "metadata": {},
            "source": []
        },
        {
            "cell_type": "code",
            "execution_count": null,
            "metadata": {},
            "outputs": [],
            "source": [
                "class ExistAccount(ProviderAccount):\n",
                "    def get_profile_url(self):\n",
                "        return \"https://exist.io/api/2/accounts/profile/\"\n",
                "\n",
                "    def get_avatar_url(self):\n",
                "        return self.account.extra_data.get(\"avatar\")\n",
                "\n",
                "    def to_str(self):\n",
                "        name = super().to_str()\n",
                "        return self.account.extra_data.get(\"name\", name)\n"
            ]
        },
        {
            "cell_type": "markdown",
            "metadata": {},
            "source": []
        },
        {
            "cell_type": "code",
            "execution_count": null,
            "metadata": {},
            "outputs": [],
            "source": [
                "class ExistProvider(OAuth2Provider):\n",
                "    id = \"exist\"\n",
                "    name = \"Exist.io\"\n",
                "    account_class = ExistAccount\n",
                "    oauth2_adapter_class = ExistOAuth2Adapter\n",
                "\n",
                "    def extract_uid(self, data):\n",
                "        return data.get(\"username\")\n",
                "\n",
                "    def extract_common_fields(self, data):\n",
                "        extra_common = super().extract_common_fields(data)\n",
                "        extra_common.update(\n",
                "            username=data.get(\"username\"),\n",
                "            first_name=data.get(\"first_name\"),\n",
                "            last_name=data.get(\"last_name\"),\n",
                "            avatar=data.get(\"avatar\"),\n",
                "            timezone=data.get(\"timezone\"),\n",
                "            local_time=data.get(\"local_time\"),\n",
                "        )\n",
                "        return extra_common\n",
                "\n",
                "    def get_default_scope(self):\n",
                "        return [\"mood_read\", \"health_read\", \"productivity_read\"]\n"
            ]
        },
        {
            "cell_type": "markdown",
            "metadata": {},
            "source": []
        },
        {
            "cell_type": "code",
            "execution_count": null,
            "metadata": {},
            "outputs": [],
            "source": [
                "provider_classes = [ExistProvider]\n",
                "\n"
            ]
        },
        {
            "cell_type": "markdown",
            "metadata": {},
            "source": []
        }
    ],
    "metadata": {
        "language_info": {
            "name": "python"
        }
    },
    "nbformat": 4,
    "nbformat_minor": 2
}