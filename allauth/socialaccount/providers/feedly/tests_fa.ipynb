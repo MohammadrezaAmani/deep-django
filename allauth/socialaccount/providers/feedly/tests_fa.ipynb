{
 "cells": [
  {
   "cell_type": "code",
   "execution_count": null,
   "metadata": {},
   "outputs": [],
   "source": [
    "from allauth.socialaccount.tests import OAuth2TestsMixin\n",
    "from allauth.tests import MockedResponse, TestCase\n",
    "\n",
    "from .provider import FeedlyProvider"
   ]
  },
  {
   "cell_type": "markdown",
   "metadata": {},
   "source": []
  },
  {
   "cell_type": "code",
   "execution_count": null,
   "metadata": {},
   "outputs": [],
   "source": [
    "class FeedlyTests(OAuth2TestsMixin, TestCase):\n",
    "    provider_id = FeedlyProvider.id\n",
    "\n",
    "    def get_mocked_response(self):\n",
    "        return MockedResponse(\n",
    "            200,\n",
    "            \"\"\"\n",
    "{\n",
    "  \"id\": \"c805fcbf-3acf-4302-a97e-d82f9d7c897f\",\n",
    "  \"email\": \"jim.smith@example.com\",\n",
    "  \"givenName\": \"Jim\",\n",
    "  \"familyName\": \"Smith\",\n",
    "  \"picture\": \"https://www.google.com/profile_images/1771656873/bigger.jpg\",\n",
    "  \"gender\": \"male\",\n",
    "  \"locale\": \"en\",\n",
    "  \"reader\": \"9080770707070700\",\n",
    "  \"google\": \"115562565652656565656\",\n",
    "  \"twitter\": \"jimsmith\",\n",
    "  \"facebook\": \"\",\n",
    "  \"wave\": \"2013.7\"\n",
    "}\"\"\",\n",
    "        )"
   ]
  },
  {
   "cell_type": "markdown",
   "metadata": {},
   "source": []
  }
 ],
 "metadata": {
  "language_info": {
   "name": "python"
  }
 },
 "nbformat": 4,
 "nbformat_minor": 2
}