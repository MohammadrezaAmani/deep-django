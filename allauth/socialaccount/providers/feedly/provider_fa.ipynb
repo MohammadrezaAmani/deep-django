{
 "cells": [
  {
   "cell_type": "code",
   "execution_count": null,
   "metadata": {},
   "outputs": [],
   "source": [
    "from allauth.socialaccount.providers.base import ProviderAccount\n",
    "from allauth.socialaccount.providers.feedly.views import FeedlyOAuth2Adapter\n",
    "from allauth.socialaccount.providers.oauth2.provider import OAuth2Provider"
   ]
  },
  {
   "cell_type": "markdown",
   "metadata": {},
   "source": []
  },
  {
   "cell_type": "code",
   "execution_count": null,
   "metadata": {},
   "outputs": [],
   "source": [
    "class FeedlyAccount(ProviderAccount):\n",
    "    def get_avatar_url(self):\n",
    "        return self.account.extra_data.get(\"picture\")\n",
    "\n",
    "    def to_str(self):\n",
    "        name = \"{0} {1}\".format(\n",
    "            self.account.extra_data.get(\"givenName\", \"\"),\n",
    "            self.account.extra_data.get(\"familyName\", \"\"),\n",
    "        )\n",
    "        if name.strip() != \"\":\n",
    "            return name\n",
    "        return super(FeedlyAccount, self).to_str()"
   ]
  },
  {
   "cell_type": "markdown",
   "metadata": {},
   "source": []
  },
  {
   "cell_type": "code",
   "execution_count": null,
   "metadata": {},
   "outputs": [],
   "source": [
    "class FeedlyProvider(OAuth2Provider):\n",
    "    id = str(\"feedly\")\n",
    "    name = \"Feedly\"\n",
    "    account_class = FeedlyAccount\n",
    "    oauth2_adapter_class = FeedlyOAuth2Adapter\n",
    "\n",
    "    def get_default_scope(self):\n",
    "        return [\"https://cloud.feedly.com/subscriptions\"]\n",
    "\n",
    "    def extract_uid(self, data):\n",
    "        return str(data[\"id\"])\n",
    "\n",
    "    def extract_common_fields(self, data):\n",
    "        return dict(\n",
    "            email=data.get(\"email\"),\n",
    "            last_name=data.get(\"familyName\"),\n",
    "            first_name=data.get(\"givenName\"),\n",
    "        )"
   ]
  },
  {
   "cell_type": "markdown",
   "metadata": {},
   "source": []
  },
  {
   "cell_type": "code",
   "execution_count": null,
   "metadata": {},
   "outputs": [],
   "source": [
    "provider_classes = [FeedlyProvider]"
   ]
  },
  {
   "cell_type": "markdown",
   "metadata": {},
   "source": []
  }
 ],
 "metadata": {
  "language_info": {
   "name": "python"
  }
 },
 "nbformat": 4,
 "nbformat_minor": 2
}