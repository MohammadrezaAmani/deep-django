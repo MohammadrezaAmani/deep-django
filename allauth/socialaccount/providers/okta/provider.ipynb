{
    "cells": [
        {
            "cell_type": "code",
            "execution_count": null,
            "metadata": {},
            "outputs": [],
            "source": [
                "from allauth.account.models import EmailAddress\n",
                "from allauth.socialaccount.providers.base import ProviderAccount\n",
                "from allauth.socialaccount.providers.oauth2.provider import OAuth2Provider\n",
                "from allauth.socialaccount.providers.okta.views import OktaOAuth2Adapter\n"
            ]
        },
        {
            "cell_type": "markdown",
            "metadata": {},
            "source": []
        },
        {
            "cell_type": "code",
            "execution_count": null,
            "metadata": {},
            "outputs": [],
            "source": [
                "class OktaAccount(ProviderAccount):\n",
                "    def to_str(self):\n",
                "        dflt = super(OktaAccount, self).to_str()\n",
                "        return self.account.extra_data.get(\"name\", dflt)\n"
            ]
        },
        {
            "cell_type": "markdown",
            "metadata": {},
            "source": []
        },
        {
            "cell_type": "code",
            "execution_count": null,
            "metadata": {},
            "outputs": [],
            "source": [
                "class OktaProvider(OAuth2Provider):\n",
                "    id = \"okta\"\n",
                "    name = \"Okta\"\n",
                "    account_class = OktaAccount\n",
                "    oauth2_adapter_class = OktaOAuth2Adapter\n",
                "\n",
                "    def get_default_scope(self):\n",
                "        return [\"openid\", \"profile\", \"email\", \"offline_access\"]\n",
                "\n",
                "    def extract_uid(self, data):\n",
                "        return str(data[\"preferred_username\"])\n",
                "\n",
                "    def extract_extra_data(self, data):\n",
                "        return data\n",
                "\n",
                "    def extract_email_addresses(self, data):\n",
                "        return [\n",
                "            EmailAddress(\n",
                "                email=data[\"email\"], verified=bool(data[\"email_verified\"]), primary=True\n",
                "            )\n",
                "        ]\n",
                "\n",
                "    def extract_common_fields(self, data):\n",
                "        ret = dict(\n",
                "            email=data[\"email\"],\n",
                "            last_name=data[\"family_name\"],\n",
                "            first_name=data[\"given_name\"],\n",
                "        )\n",
                "        preferred_username = data.get(\"preferred_username\")\n",
                "        if preferred_username:\n",
                "            ret[\"username\"] = preferred_username.partition(\"@\")[0]\n",
                "        return ret\n"
            ]
        },
        {
            "cell_type": "markdown",
            "metadata": {},
            "source": []
        },
        {
            "cell_type": "code",
            "execution_count": null,
            "metadata": {},
            "outputs": [],
            "source": [
                "provider_classes = [OktaProvider]\n",
                "\n"
            ]
        },
        {
            "cell_type": "markdown",
            "metadata": {},
            "source": []
        }
    ],
    "metadata": {
        "language_info": {
            "name": "python"
        }
    },
    "nbformat": 4,
    "nbformat_minor": 2
}