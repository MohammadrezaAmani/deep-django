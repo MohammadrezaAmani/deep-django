{
 "cells": [
  {
   "cell_type": "code",
   "execution_count": null,
   "metadata": {},
   "outputs": [],
   "source": [
    "from allauth.socialaccount.tests import OAuth2TestsMixin\n",
    "from allauth.tests import MockedResponse, TestCase\n",
    "\n",
    "from .provider import OktaProvider"
   ]
  },
  {
   "cell_type": "markdown",
   "metadata": {},
   "source": []
  },
  {
   "cell_type": "code",
   "execution_count": null,
   "metadata": {},
   "outputs": [],
   "source": [
    "class OktaTests(OAuth2TestsMixin, TestCase):\n",
    "    provider_id = OktaProvider.id\n",
    "\n",
    "    def get_mocked_response(self):\n",
    "        return MockedResponse(\n",
    "            200,\n",
    "            \"\"\"\n",
    "            {\n",
    "                \"sub\": \"00u33ow83pjQpCQJr1j8\",\n",
    "                \"name\": \"Jon Smith\",\n",
    "                \"locale\": \"AE\",\n",
    "                \"email\": \"jsmith@example.com\",\n",
    "                \"nickname\": \"Jon Smith\",\n",
    "                \"preferred_username\": \"jsmith@example.com\",\n",
    "                \"given_name\": \"Jon\",\n",
    "                \"family_name\": \"Smith\",\n",
    "                \"zoneinfo\": \"America/Los_Angeles\",\n",
    "                \"updated_at\": 1601285210,\n",
    "                \"email_verified\": true\n",
    "            }\n",
    "        \"\"\",\n",
    "        )"
   ]
  },
  {
   "cell_type": "markdown",
   "metadata": {},
   "source": []
  }
 ],
 "metadata": {
  "language_info": {
   "name": "python"
  }
 },
 "nbformat": 4,
 "nbformat_minor": 2
}