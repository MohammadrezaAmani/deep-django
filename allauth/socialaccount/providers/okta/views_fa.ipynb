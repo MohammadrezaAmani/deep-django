{
 "cells": [
  {
   "cell_type": "code",
   "execution_count": null,
   "metadata": {},
   "outputs": [],
   "source": [
    "from allauth.socialaccount import app_settings\n",
    "from allauth.socialaccount.adapter import get_adapter\n",
    "from allauth.socialaccount.providers.oauth2.views import (\n",
    "    OAuth2Adapter,\n",
    "    OAuth2CallbackView,\n",
    "    OAuth2LoginView,\n",
    ")"
   ]
  },
  {
   "cell_type": "markdown",
   "metadata": {},
   "source": []
  },
  {
   "cell_type": "code",
   "execution_count": null,
   "metadata": {},
   "outputs": [],
   "source": [
    "class OktaOAuth2Adapter(OAuth2Adapter):\n",
    "    provider_id = \"okta\"\n",
    "\n",
    "    settings = app_settings.PROVIDERS.get(provider_id, {})\n",
    "    okta_base_url = settings.get(\"OKTA_BASE_URL\")\n",
    "\n",
    "    @property\n",
    "    def access_token_url(self):\n",
    "        return \"https://{}/oauth2/v1/token\".format(self.okta_base_url)\n",
    "\n",
    "    @property\n",
    "    def authorize_url(self):\n",
    "        return \"https://{}/oauth2/v1/authorize\".format(self.okta_base_url)\n",
    "\n",
    "    @property\n",
    "    def userinfo_url(self):\n",
    "        return \"https://{}/oauth2/v1/userinfo\".format(self.okta_base_url)\n",
    "\n",
    "    @property\n",
    "    def access_token_method(self):\n",
    "        return \"POST\"\n",
    "\n",
    "    def complete_login(self, request, app, token, **kwargs):\n",
    "        \"\"\"\n",
    "        Get the user info from userinfo endpoint and return a\n",
    "        A populated instance of the `SocialLogin` model (unsaved)\n",
    "\n",
    "        :param request:\n",
    "        :param app:\n",
    "        :param token:\n",
    "        :param kwargs:\n",
    "        :return:\n",
    "        \"\"\"\n",
    "\n",
    "        resp = (\n",
    "            get_adapter()\n",
    "            .get_requests_session()\n",
    "            .get(\n",
    "                self.userinfo_url,\n",
    "                headers={\"Authorization\": \"Bearer {}\".format(token.token)},\n",
    "            )\n",
    "        )\n",
    "\n",
    "        resp.raise_for_status()\n",
    "        extra_data = resp.json()\n",
    "        login = self.get_provider().sociallogin_from_response(request, extra_data)\n",
    "        return login"
   ]
  },
  {
   "cell_type": "markdown",
   "metadata": {},
   "source": []
  },
  {
   "cell_type": "code",
   "execution_count": null,
   "metadata": {},
   "outputs": [],
   "source": [
    "oauth2_login = OAuth2LoginView.adapter_view(OktaOAuth2Adapter)\n",
    "oauth2_callback = OAuth2CallbackView.adapter_view(OktaOAuth2Adapter)"
   ]
  },
  {
   "cell_type": "markdown",
   "metadata": {},
   "source": []
  }
 ],
 "metadata": {
  "language_info": {
   "name": "python"
  }
 },
 "nbformat": 4,
 "nbformat_minor": 2
}