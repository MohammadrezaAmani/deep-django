{
    "cells": [
        {
            "cell_type": "code",
            "execution_count": null,
            "metadata": {},
            "outputs": [],
            "source": [
                "from django.conf import settings\n"
            ]
        },
        {
            "cell_type": "markdown",
            "metadata": {},
            "source": []
        },
        {
            "cell_type": "code",
            "execution_count": null,
            "metadata": {},
            "outputs": [],
            "source": [
                "_FXA_SETTINGS = getattr(settings, \"SOCIALACCOUNT_PROVIDERS\", {}).get(\"fxa\", {})\n",
                "FXA_OAUTH_ENDPOINT = _FXA_SETTINGS.get(\n",
                "    \"OAUTH_ENDPOINT\", \"https://oauth.accounts.firefox.com/v1\"\n",
                ")\n",
                "FXA_PROFILE_ENDPOINT = _FXA_SETTINGS.get(\n",
                "    \"PROFILE_ENDPOINT\", \"https://profile.accounts.firefox.com/v1\"\n",
                ")\n",
                "PROVIDER_ID = \"fxa\"\n",
                "\n"
            ]
        },
        {
            "cell_type": "markdown",
            "metadata": {},
            "source": []
        }
    ],
    "metadata": {
        "language_info": {
            "name": "python"
        }
    },
    "nbformat": 4,
    "nbformat_minor": 2
}