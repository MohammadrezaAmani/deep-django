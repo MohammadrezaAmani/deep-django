{
    "cells": [
        {
            "cell_type": "code",
            "execution_count": null,
            "metadata": {},
            "outputs": [],
            "source": [
                "from allauth.socialaccount.providers.base import ProviderAccount\n",
                "from allauth.socialaccount.providers.fxa.constants import PROVIDER_ID\n",
                "from allauth.socialaccount.providers.fxa.views import (\n",
                "    FirefoxAccountsOAuth2Adapter,\n",
                ")\n",
                "from allauth.socialaccount.providers.oauth2.provider import OAuth2Provider\n"
            ]
        },
        {
            "cell_type": "markdown",
            "metadata": {},
            "source": []
        },
        {
            "cell_type": "code",
            "execution_count": null,
            "metadata": {},
            "outputs": [],
            "source": [
                "class FirefoxAccountsAccount(ProviderAccount):\n",
                "    def to_str(self):\n",
                "        return self.account.uid\n"
            ]
        },
        {
            "cell_type": "markdown",
            "metadata": {},
            "source": []
        },
        {
            "cell_type": "code",
            "execution_count": null,
            "metadata": {},
            "outputs": [],
            "source": [
                "class FirefoxAccountsProvider(OAuth2Provider):\n",
                "    id = PROVIDER_ID\n",
                "    name = \"Firefox Accounts\"\n",
                "    account_class = FirefoxAccountsAccount\n",
                "    oauth2_adapter_class = FirefoxAccountsOAuth2Adapter\n",
                "\n",
                "    def get_default_scope(self):\n",
                "        return [\"profile\"]\n",
                "\n",
                "    def extract_uid(self, data):\n",
                "        return str(data[\"uid\"])\n",
                "\n",
                "    def extract_common_fields(self, data):\n",
                "        return dict(email=data.get(\"email\"))\n"
            ]
        },
        {
            "cell_type": "markdown",
            "metadata": {},
            "source": []
        },
        {
            "cell_type": "code",
            "execution_count": null,
            "metadata": {},
            "outputs": [],
            "source": [
                "provider_classes = [FirefoxAccountsProvider]\n",
                "\n"
            ]
        },
        {
            "cell_type": "markdown",
            "metadata": {},
            "source": []
        }
    ],
    "metadata": {
        "language_info": {
            "name": "python"
        }
    },
    "nbformat": 4,
    "nbformat_minor": 2
}