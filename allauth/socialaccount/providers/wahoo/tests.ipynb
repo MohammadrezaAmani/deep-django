{
 "cells": [
  {
   "cell_type": "code",
   "execution_count": null,
   "metadata": {},
   "outputs": [],
   "source": [
    "# -*- coding: utf-8 -*-\n",
    "from allauth.socialaccount.providers.wahoo.provider import WahooProvider\n",
    "from allauth.socialaccount.tests import OAuth2TestsMixin\n",
    "from allauth.tests import MockedResponse, TestCase"
   ]
  },
  {
   "cell_type": "markdown",
   "metadata": {},
   "source": []
  },
  {
   "cell_type": "code",
   "execution_count": null,
   "metadata": {},
   "outputs": [],
   "source": [
    "class WahooTests(OAuth2TestsMixin, TestCase):\n",
    "    provider_id = WahooProvider.id\n",
    "\n",
    "    def get_mocked_response(self):\n",
    "        # https://cloud-api.wahooligan.com/#users\n",
    "        return MockedResponse(\n",
    "            200,\n",
    "            \"\"\"\n",
    "            {\n",
    "              \"id\": 60462,\n",
    "              \"height\": \"2.0\",\n",
    "              \"weight\": \"80.0\",\n",
    "              \"first\": \"Bob\",\n",
    "              \"last\": \"Smith\",\n",
    "              \"email\": \"sample@test-domain.com\",\n",
    "              \"birth\": \"1980-10-02\",\n",
    "              \"gender\": 1,\n",
    "              \"created_at\": \"2018-10-23T15:38:23.000Z\",\n",
    "              \"updated_at\": \"2018-10-24T20:46:40.000Z\"\n",
    "            }\n",
    "        \"\"\",\n",
    "        )"
   ]
  },
  {
   "cell_type": "markdown",
   "metadata": {},
   "source": []
  }
 ],
 "metadata": {
  "language_info": {
   "name": "python"
  }
 },
 "nbformat": 4,
 "nbformat_minor": 2
}