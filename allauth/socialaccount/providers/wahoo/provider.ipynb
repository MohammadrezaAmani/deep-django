{
    "cells": [
        {
            "cell_type": "code",
            "execution_count": null,
            "metadata": {},
            "outputs": [],
            "source": [
                "from allauth.account.models import EmailAddress\n",
                "from allauth.socialaccount import app_settings\n",
                "from allauth.socialaccount.providers.base import ProviderAccount\n",
                "from allauth.socialaccount.providers.oauth2.provider import OAuth2Provider\n",
                "from allauth.socialaccount.providers.wahoo.views import WahooOAuth2Adapter\n"
            ]
        },
        {
            "cell_type": "markdown",
            "metadata": {},
            "source": []
        },
        {
            "cell_type": "code",
            "execution_count": null,
            "metadata": {},
            "outputs": [],
            "source": [
                "class WahooAccount(ProviderAccount):\n",
                "    def get_profile_url(self):\n",
                "        return \"https://api.wahooligan.com/v1/user\"\n"
            ]
        },
        {
            "cell_type": "markdown",
            "metadata": {},
            "source": []
        },
        {
            "cell_type": "code",
            "execution_count": null,
            "metadata": {},
            "outputs": [],
            "source": [
                "class WahooProvider(OAuth2Provider):\n",
                "    id = \"wahoo\"\n",
                "    name = \"Wahoo\"\n",
                "    account_class = WahooAccount\n",
                "    oauth2_adapter_class = WahooOAuth2Adapter\n",
                "\n",
                "    def extract_uid(self, data):\n",
                "        return str(data[\"id\"])\n",
                "\n",
                "    def extract_common_fields(self, data):\n",
                "        extra_common = super(WahooProvider, self).extract_common_fields(data)\n",
                "        extra_common.update(\n",
                "            # Additional properties we ignore: gender, created_at, updated_at\n",
                "            height=data.get(\"height\"),\n",
                "            weight=data.get(\"weight\"),\n",
                "            first=data.get(\"first\"),\n",
                "            last=data.get(\"last\"),\n",
                "            birth=data.get(\"birth\"),\n",
                "        )\n",
                "        return extra_common\n",
                "\n",
                "    def extract_email_addresses(self, data):\n",
                "        email = EmailAddress(\n",
                "            email=data.get(\"email\"),\n",
                "            primary=True,\n",
                "            verified=False,\n",
                "        )\n",
                "        return [email]\n",
                "\n",
                "    def get_default_scope(self):\n",
                "        scope = [\"user_read\"]\n",
                "        if app_settings.QUERY_EMAIL:\n",
                "            scope.append(\"email\")\n",
                "        return scope\n"
            ]
        },
        {
            "cell_type": "markdown",
            "metadata": {},
            "source": []
        },
        {
            "cell_type": "code",
            "execution_count": null,
            "metadata": {},
            "outputs": [],
            "source": [
                "provider_classes = [WahooProvider]\n",
                "\n"
            ]
        },
        {
            "cell_type": "markdown",
            "metadata": {},
            "source": []
        }
    ],
    "metadata": {
        "language_info": {
            "name": "python"
        }
    },
    "nbformat": 4,
    "nbformat_minor": 2
}