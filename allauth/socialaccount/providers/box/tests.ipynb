{
    "cells": [
        {
            "cell_type": "code",
            "execution_count": null,
            "metadata": {},
            "outputs": [],
            "source": [
                "# -*- coding: utf-8 -*-\n",
                "from __future__ import unicode_literals\n",
                "\n",
                "from allauth.socialaccount.tests import OAuth2TestsMixin\n",
                "from allauth.tests import MockedResponse, TestCase\n",
                "\n",
                "from .provider import BoxOAuth2Provider\n"
            ]
        },
        {
            "cell_type": "markdown",
            "metadata": {},
            "source": []
        },
        {
            "cell_type": "code",
            "execution_count": null,
            "metadata": {},
            "outputs": [],
            "source": [
                "class BoxOAuth2Tests(OAuth2TestsMixin, TestCase):\n",
                "    provider_id = BoxOAuth2Provider.id\n",
                "\n",
                "    def get_mocked_response(self):\n",
                "        return [\n",
                "            MockedResponse(\n",
                "                200,\n",
                "                \"\"\"{\n",
                "          \"type\": \"user\",\n",
                "          \"id\": \"1185237519\",\n",
                "          \"name\": \"Balls Johnson\",\n",
                "          \"login\": \"balls@example.com\",\n",
                "          \"created_at\": \"2017-02-18T21:16:39-08:00\",\n",
                "          \"modified_at\": \"2017-02-18T21:19:11-08:00\",\n",
                "          \"language\": \"en\",\n",
                "          \"timezone\": \"America/Los_Angeles\",\n",
                "          \"space_amount\": 10737418240,\n",
                "          \"space_used\": 0,\n",
                "          \"max_upload_size\": 2147483648,\n",
                "          \"status\": \"active\",\n",
                "          \"job_title\": \"\",\n",
                "          \"phone\": \"123-345-5555\",\n",
                "          \"address\": \"\",\n",
                "          \"avatar_url\": \"https://app.box.com/api/avatar/large/1185237519\"\n",
                "        }\"\"\",\n",
                "            )\n",
                "        ]\n",
                "\n"
            ]
        },
        {
            "cell_type": "markdown",
            "metadata": {},
            "source": []
        }
    ],
    "metadata": {
        "language_info": {
            "name": "python"
        }
    },
    "nbformat": 4,
    "nbformat_minor": 2
}