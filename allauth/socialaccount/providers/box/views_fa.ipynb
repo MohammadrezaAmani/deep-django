{
 "cells": [
  {
   "cell_type": "code",
   "execution_count": null,
   "metadata": {},
   "outputs": [],
   "source": [
    "from allauth.socialaccount.adapter import get_adapter\n",
    "from allauth.socialaccount.providers.oauth2.views import (\n",
    "    OAuth2Adapter,\n",
    "    OAuth2CallbackView,\n",
    "    OAuth2LoginView,\n",
    ")"
   ]
  },
  {
   "cell_type": "markdown",
   "metadata": {},
   "source": []
  },
  {
   "cell_type": "code",
   "execution_count": null,
   "metadata": {},
   "outputs": [],
   "source": [
    "class BoxOAuth2Adapter(OAuth2Adapter):\n",
    "    provider_id = \"box\"\n",
    "    access_token_url = \"https://api.box.com/oauth2/token\"\n",
    "    authorize_url = \"https://account.box.com/api/oauth2/authorize\"\n",
    "    profile_url = \"https://api.box.com/2.0/users/me\"\n",
    "    redirect_uri_protocol = None\n",
    "\n",
    "    def complete_login(self, request, app, token, **kwargs):\n",
    "        extra_data = (\n",
    "            get_adapter()\n",
    "            .get_requests_session()\n",
    "            .get(self.profile_url, params={\"access_token\": token.token})\n",
    "        )\n",
    "\n",
    "        # This only here because of weird response from the test suite\n",
    "        if isinstance(extra_data, list):\n",
    "            extra_data = extra_data[0]\n",
    "\n",
    "        return self.get_provider().sociallogin_from_response(request, extra_data.json())"
   ]
  },
  {
   "cell_type": "markdown",
   "metadata": {},
   "source": []
  },
  {
   "cell_type": "code",
   "execution_count": null,
   "metadata": {},
   "outputs": [],
   "source": [
    "oauth_login = OAuth2LoginView.adapter_view(BoxOAuth2Adapter)\n",
    "oauth_callback = OAuth2CallbackView.adapter_view(BoxOAuth2Adapter)"
   ]
  },
  {
   "cell_type": "markdown",
   "metadata": {},
   "source": []
  }
 ],
 "metadata": {
  "language_info": {
   "name": "python"
  }
 },
 "nbformat": 4,
 "nbformat_minor": 2
}