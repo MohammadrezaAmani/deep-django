{
    "cells": [
        {
            "cell_type": "code",
            "execution_count": null,
            "metadata": {},
            "outputs": [],
            "source": [
                "from allauth.socialaccount.providers.base import ProviderAccount\n",
                "from allauth.socialaccount.providers.oauth2.provider import OAuth2Provider\n",
                "from allauth.socialaccount.providers.reddit.views import RedditAdapter\n"
            ]
        },
        {
            "cell_type": "markdown",
            "metadata": {},
            "source": []
        },
        {
            "cell_type": "code",
            "execution_count": null,
            "metadata": {},
            "outputs": [],
            "source": [
                "class RedditAccount(ProviderAccount):\n",
                "    def to_str(self):\n",
                "        dflt = super(RedditAccount, self).to_str()\n",
                "        name = self.account.extra_data.get(\"name\", dflt)\n",
                "        return name\n"
            ]
        },
        {
            "cell_type": "markdown",
            "metadata": {},
            "source": []
        },
        {
            "cell_type": "code",
            "execution_count": null,
            "metadata": {},
            "outputs": [],
            "source": [
                "class RedditProvider(OAuth2Provider):\n",
                "    id = \"reddit\"\n",
                "    name = \"Reddit\"\n",
                "    account_class = RedditAccount\n",
                "    oauth2_adapter_class = RedditAdapter\n",
                "\n",
                "    def extract_uid(self, data):\n",
                "        return data[\"name\"]\n",
                "\n",
                "    def extract_common_fields(self, data):\n",
                "        return dict(username=data.get(\"name\"))\n",
                "\n",
                "    def get_default_scope(self):\n",
                "        scope = [\"identity\"]\n",
                "        return scope\n"
            ]
        },
        {
            "cell_type": "markdown",
            "metadata": {},
            "source": []
        },
        {
            "cell_type": "code",
            "execution_count": null,
            "metadata": {},
            "outputs": [],
            "source": [
                "provider_classes = [RedditProvider]\n",
                "\n"
            ]
        },
        {
            "cell_type": "markdown",
            "metadata": {},
            "source": []
        }
    ],
    "metadata": {
        "language_info": {
            "name": "python"
        }
    },
    "nbformat": 4,
    "nbformat_minor": 2
}