{
    "cells": [
        {
            "cell_type": "code",
            "execution_count": null,
            "metadata": {},
            "outputs": [],
            "source": [
                "from allauth.socialaccount.tests import OAuth2TestsMixin\n",
                "from allauth.tests import MockedResponse, TestCase\n",
                "\n",
                "from .provider import RedditProvider\n"
            ]
        },
        {
            "cell_type": "markdown",
            "metadata": {},
            "source": []
        },
        {
            "cell_type": "code",
            "execution_count": null,
            "metadata": {},
            "outputs": [],
            "source": [
                "class RedditTests(OAuth2TestsMixin, TestCase):\n",
                "    provider_id = RedditProvider.id\n",
                "\n",
                "    def get_mocked_response(self):\n",
                "        return [\n",
                "            MockedResponse(\n",
                "                200,\n",
                "                \"\"\"{\n",
                "        \"name\": \"wayward710\"}\"\"\",\n",
                "            )\n",
                "        ]\n",
                "\n"
            ]
        },
        {
            "cell_type": "markdown",
            "metadata": {},
            "source": []
        }
    ],
    "metadata": {
        "language_info": {
            "name": "python"
        }
    },
    "nbformat": 4,
    "nbformat_minor": 2
}