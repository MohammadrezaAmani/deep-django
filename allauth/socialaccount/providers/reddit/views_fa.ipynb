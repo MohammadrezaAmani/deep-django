{
    "cells": [
        {
            "cell_type": "code",
            "execution_count": null,
            "metadata": {},
            "outputs": [],
            "source": [
                "from allauth.socialaccount import app_settings\n",
                "from allauth.socialaccount.adapter import get_adapter\n",
                "from allauth.socialaccount.providers.oauth2.views import (\n",
                "    OAuth2Adapter,\n",
                "    OAuth2CallbackView,\n",
                "    OAuth2LoginView,\n",
                ")\n"
            ]
        },
        {
            "cell_type": "markdown",
            "metadata": {},
            "source": []
        },
        {
            "cell_type": "code",
            "execution_count": null,
            "metadata": {},
            "outputs": [],
            "source": [
                "class RedditAdapter(OAuth2Adapter):\n",
                "    provider_id = \"reddit\"\n",
                "    access_token_url = \"https://www.reddit.com/api/v1/access_token\"\n",
                "    authorize_url = \"https://www.reddit.com/api/v1/authorize\"\n",
                "    profile_url = \"https://oauth.reddit.com/api/v1/me\"\n",
                "    basic_auth = True\n",
                "\n",
                "    settings = app_settings.PROVIDERS.get(provider_id, {})\n",
                "    # Allow custom User Agent to comply with reddit API limits\n",
                "    headers = {\"User-Agent\": settings.get(\"USER_AGENT\", \"django-allauth-header\")}\n",
                "\n",
                "    def complete_login(self, request, app, token, **kwargs):\n",
                "        headers = {\"Authorization\": \"bearer \" + token.token}\n",
                "        headers.update(self.headers)\n",
                "        extra_data = (\n",
                "            get_adapter().get_requests_session().get(self.profile_url, headers=headers)\n",
                "        )\n",
                "\n",
                "        # This only here because of weird response from the test suite\n",
                "        if isinstance(extra_data, list):\n",
                "            extra_data = extra_data[0]\n",
                "\n",
                "        return self.get_provider().sociallogin_from_response(request, extra_data.json())\n"
            ]
        },
        {
            "cell_type": "markdown",
            "metadata": {},
            "source": []
        },
        {
            "cell_type": "code",
            "execution_count": null,
            "metadata": {},
            "outputs": [],
            "source": [
                "oauth2_login = OAuth2LoginView.adapter_view(RedditAdapter)\n",
                "oauth2_callback = OAuth2CallbackView.adapter_view(RedditAdapter)\n",
                "\n"
            ]
        },
        {
            "cell_type": "markdown",
            "metadata": {},
            "source": []
        }
    ],
    "metadata": {
        "language_info": {
            "name": "python"
        }
    },
    "nbformat": 4,
    "nbformat_minor": 2
}