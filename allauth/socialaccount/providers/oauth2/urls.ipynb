{
    "cells": [
        {
            "cell_type": "code",
            "execution_count": null,
            "metadata": {},
            "outputs": [],
            "source": [
                "from django.urls import include, path\n",
                "\n",
                "from allauth.utils import import_attribute\n"
            ]
        },
        {
            "cell_type": "markdown",
            "metadata": {},
            "source": []
        },
        {
            "cell_type": "code",
            "execution_count": null,
            "metadata": {},
            "outputs": [],
            "source": [
                "def default_urlpatterns(provider):\n",
                "    login_view = import_attribute(provider.get_package() + \".views.oauth2_login\")\n",
                "    callback_view = import_attribute(provider.get_package() + \".views.oauth2_callback\")\n",
                "\n",
                "    urlpatterns = [\n",
                "        path(\"login/\", login_view, name=provider.id + \"_login\"),\n",
                "        path(\"login/callback/\", callback_view, name=provider.id + \"_callback\"),\n",
                "    ]\n",
                "\n",
                "    return [path(provider.get_slug() + \"/\", include(urlpatterns))]\n",
                "\n"
            ]
        },
        {
            "cell_type": "markdown",
            "metadata": {},
            "source": []
        }
    ],
    "metadata": {
        "language_info": {
            "name": "python"
        }
    },
    "nbformat": 4,
    "nbformat_minor": 2
}