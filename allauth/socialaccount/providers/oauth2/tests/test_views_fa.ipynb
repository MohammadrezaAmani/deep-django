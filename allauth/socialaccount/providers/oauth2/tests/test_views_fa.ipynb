{
    "cells": [
        {
            "cell_type": "code",
            "execution_count": null,
            "metadata": {},
            "outputs": [],
            "source": [
                "import pytest\n",
                "from pytest_django.asserts import assertTemplateUsed\n",
                "\n",
                "from django.urls import reverse\n"
            ]
        },
        {
            "cell_type": "markdown",
            "metadata": {},
            "source": []
        },
        {
            "cell_type": "code",
            "execution_count": null,
            "metadata": {},
            "outputs": [],
            "source": [
                "@pytest.mark.parametrize(\n",
                "    \"samesite_strict,did_already_redirect,expect_redirect\",\n",
                "    [\n",
                "        (True, False, True),\n",
                "        (True, True, False),\n",
                "        (False, False, False),\n",
                "    ],\n",
                ")\n",
                "def test_samesite_strict(\n",
                "    client,\n",
                "    samesite_strict,\n",
                "    settings,\n",
                "    google_provider_settings,\n",
                "    did_already_redirect,\n",
                "    expect_redirect,\n",
                "    db,\n",
                "):\n",
                "    settings.SESSION_COOKIE_SAMESITE = \"Strict\" if samesite_strict else \"Lax\"\n",
                "    query = \"?state=123\"\n",
                "    resp = client.get(\n",
                "        reverse(\"google_callback\") + query + (\"&_redir\" if did_already_redirect else \"\")\n",
                "    )\n",
                "    if expect_redirect:\n",
                "        assertTemplateUsed(resp, \"socialaccount/login_redirect.html\")\n",
                "        assert (\n",
                "            resp.context[\"redirect_to\"]\n",
                "            == reverse(\"google_callback\") + query + \"&_redir=\"\n",
                "        )\n",
                "    else:\n",
                "        assertTemplateUsed(resp, \"socialaccount/authentication_error.html\")\n",
                "\n"
            ]
        },
        {
            "cell_type": "markdown",
            "metadata": {},
            "source": []
        }
    ],
    "metadata": {
        "language_info": {
            "name": "python"
        }
    },
    "nbformat": 4,
    "nbformat_minor": 2
}