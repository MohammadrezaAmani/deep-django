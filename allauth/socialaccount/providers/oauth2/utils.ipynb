{
 "cells": [
  {
   "cell_type": "code",
   "execution_count": null,
   "metadata": {},
   "outputs": [],
   "source": [
    "import base64\n",
    "import hashlib\n",
    "from secrets import token_urlsafe"
   ]
  },
  {
   "cell_type": "markdown",
   "metadata": {},
   "source": []
  },
  {
   "cell_type": "code",
   "execution_count": null,
   "metadata": {},
   "outputs": [],
   "source": [
    "def generate_code_challenge():\n",
    "    # Create a code verifier with a length of 128 characters\n",
    "    code_verifier = token_urlsafe(96)\n",
    "    hashed_verifier = hashlib.sha256(code_verifier.encode(\"ascii\"))\n",
    "    code_challenge = base64.urlsafe_b64encode(hashed_verifier.digest())\n",
    "    code_challenge_without_padding = code_challenge.rstrip(b\"=\")\n",
    "    return {\n",
    "        \"code_verifier\": code_verifier,\n",
    "        \"code_challenge_method\": \"S256\",\n",
    "        \"code_challenge\": code_challenge_without_padding,\n",
    "    }"
   ]
  },
  {
   "cell_type": "markdown",
   "metadata": {},
   "source": []
  }
 ],
 "metadata": {
  "language_info": {
   "name": "python"
  }
 },
 "nbformat": 4,
 "nbformat_minor": 2
}