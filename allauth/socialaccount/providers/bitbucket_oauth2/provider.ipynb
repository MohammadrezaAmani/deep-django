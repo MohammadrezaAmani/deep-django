{
    "cells": [
        {
            "cell_type": "code",
            "execution_count": null,
            "metadata": {},
            "outputs": [],
            "source": [
                "from allauth.socialaccount.providers.base import ProviderAccount\n",
                "from allauth.socialaccount.providers.bitbucket_oauth2.views import (\n",
                "    BitbucketOAuth2Adapter,\n",
                ")\n",
                "from allauth.socialaccount.providers.oauth2.provider import OAuth2Provider\n"
            ]
        },
        {
            "cell_type": "markdown",
            "metadata": {},
            "source": []
        },
        {
            "cell_type": "code",
            "execution_count": null,
            "metadata": {},
            "outputs": [],
            "source": [
                "class BitbucketOAuth2Account(ProviderAccount):\n",
                "    def get_profile_url(self):\n",
                "        return self.account.extra_data.get(\"links\", {}).get(\"html\", {}).get(\"href\")\n",
                "\n",
                "    def get_avatar_url(self):\n",
                "        return self.account.extra_data.get(\"links\", {}).get(\"avatar\", {}).get(\"href\")\n",
                "\n",
                "    def to_str(self):\n",
                "        dflt = super(BitbucketOAuth2Account, self).to_str()\n",
                "        return self.account.extra_data.get(\"display_name\", dflt)\n"
            ]
        },
        {
            "cell_type": "markdown",
            "metadata": {},
            "source": []
        },
        {
            "cell_type": "code",
            "execution_count": null,
            "metadata": {},
            "outputs": [],
            "source": [
                "class BitbucketOAuth2Provider(OAuth2Provider):\n",
                "    id = \"bitbucket_oauth2\"\n",
                "    name = \"Bitbucket\"\n",
                "    account_class = BitbucketOAuth2Account\n",
                "    oauth2_adapter_class = BitbucketOAuth2Adapter\n",
                "\n",
                "    def extract_uid(self, data):\n",
                "        return data[\"username\"]\n",
                "\n",
                "    def extract_common_fields(self, data):\n",
                "        return dict(\n",
                "            email=data.get(\"email\"),\n",
                "            username=data.get(\"username\"),\n",
                "            name=data.get(\"display_name\"),\n",
                "        )\n"
            ]
        },
        {
            "cell_type": "markdown",
            "metadata": {},
            "source": []
        },
        {
            "cell_type": "code",
            "execution_count": null,
            "metadata": {},
            "outputs": [],
            "source": [
                "provider_classes = [BitbucketOAuth2Provider]\n",
                "\n"
            ]
        },
        {
            "cell_type": "markdown",
            "metadata": {},
            "source": []
        }
    ],
    "metadata": {
        "language_info": {
            "name": "python"
        }
    },
    "nbformat": 4,
    "nbformat_minor": 2
}