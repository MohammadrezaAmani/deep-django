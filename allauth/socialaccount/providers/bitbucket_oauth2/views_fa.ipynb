{
    "cells": [
        {
            "cell_type": "code",
            "execution_count": null,
            "metadata": {},
            "outputs": [],
            "source": [
                "from allauth.socialaccount import app_settings\n",
                "from allauth.socialaccount.adapter import get_adapter\n",
                "from allauth.socialaccount.providers.oauth2.views import (\n",
                "    OAuth2Adapter,\n",
                "    OAuth2CallbackView,\n",
                "    OAuth2LoginView,\n",
                ")\n"
            ]
        },
        {
            "cell_type": "markdown",
            "metadata": {},
            "source": []
        },
        {
            "cell_type": "code",
            "execution_count": null,
            "metadata": {},
            "outputs": [],
            "source": [
                "class BitbucketOAuth2Adapter(OAuth2Adapter):\n",
                "    provider_id = \"bitbucket_oauth2\"\n",
                "    access_token_url = \"https://bitbucket.org/site/oauth2/access_token\"\n",
                "    authorize_url = \"https://bitbucket.org/site/oauth2/authorize\"\n",
                "    profile_url = \"https://api.bitbucket.org/2.0/user\"\n",
                "    emails_url = \"https://api.bitbucket.org/2.0/user/emails\"\n",
                "\n",
                "    def complete_login(self, request, app, token, **kwargs):\n",
                "        resp = (\n",
                "            get_adapter()\n",
                "            .get_requests_session()\n",
                "            .get(self.profile_url, params={\"access_token\": token.token})\n",
                "        )\n",
                "        extra_data = resp.json()\n",
                "        if app_settings.QUERY_EMAIL and not extra_data.get(\"email\"):\n",
                "            extra_data[\"email\"] = self.get_email(token)\n",
                "        return self.get_provider().sociallogin_from_response(request, extra_data)\n",
                "\n",
                "    def get_email(self, token):\n",
                "        \"\"\"Fetches email address from email API endpoint\"\"\"\n",
                "        resp = (\n",
                "            get_adapter()\n",
                "            .get_requests_session()\n",
                "            .get(self.emails_url, params={\"access_token\": token.token})\n",
                "        )\n",
                "        emails = resp.json().get(\"values\", [])\n",
                "        email = \"\"\n",
                "        try:\n",
                "            email = emails[0].get(\"email\")\n",
                "            primary_emails = [e for e in emails if e.get(\"is_primary\", False)]\n",
                "            email = primary_emails[0].get(\"email\")\n",
                "        except (IndexError, TypeError, KeyError):\n",
                "            return \"\"\n",
                "        finally:\n",
                "            return email\n"
            ]
        },
        {
            "cell_type": "markdown",
            "metadata": {},
            "source": []
        },
        {
            "cell_type": "code",
            "execution_count": null,
            "metadata": {},
            "outputs": [],
            "source": [
                "oauth_login = OAuth2LoginView.adapter_view(BitbucketOAuth2Adapter)\n",
                "oauth_callback = OAuth2CallbackView.adapter_view(BitbucketOAuth2Adapter)\n",
                "\n"
            ]
        },
        {
            "cell_type": "markdown",
            "metadata": {},
            "source": []
        }
    ],
    "metadata": {
        "language_info": {
            "name": "python"
        }
    },
    "nbformat": 4,
    "nbformat_minor": 2
}