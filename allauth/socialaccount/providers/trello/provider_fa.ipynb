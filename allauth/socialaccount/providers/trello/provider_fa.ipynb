{
    "cells": [
        {
            "cell_type": "code",
            "execution_count": null,
            "metadata": {},
            "outputs": [],
            "source": [
                "from allauth.socialaccount.providers.base import ProviderAccount\n",
                "from allauth.socialaccount.providers.oauth.provider import OAuthProvider\n"
            ]
        },
        {
            "cell_type": "markdown",
            "metadata": {},
            "source": []
        },
        {
            "cell_type": "code",
            "execution_count": null,
            "metadata": {},
            "outputs": [],
            "source": [
                "class TrelloAccount(ProviderAccount):\n",
                "    def get_profile_url(self):\n",
                "        return None\n",
                "\n",
                "    def get_avatar_url(self):\n",
                "        return None\n"
            ]
        },
        {
            "cell_type": "markdown",
            "metadata": {},
            "source": []
        },
        {
            "cell_type": "code",
            "execution_count": null,
            "metadata": {},
            "outputs": [],
            "source": [
                "class TrelloProvider(OAuthProvider):\n",
                "    id = \"trello\"\n",
                "    name = \"Trello\"\n",
                "    account_class = TrelloAccount\n",
                "\n",
                "    def get_default_scope(self):\n",
                "        return [\"read\"]\n",
                "\n",
                "    def extract_uid(self, data):\n",
                "        return data[\"id\"]\n",
                "\n",
                "    def extract_common_fields(self, data):\n",
                "        return dict(\n",
                "            email=data.get(\"email\"),\n",
                "            username=data.get(\"username\"),\n",
                "            name=data.get(\"name\"),\n",
                "        )\n",
                "\n",
                "    def get_auth_params_from_request(self, request, action):\n",
                "        data = super().get_auth_params_from_request(request, action)\n",
                "        data[\"type\"] = \"web_server\"\n",
                "        data[\"name\"] = self.app.name\n",
                "        # define here for how long it will be, this can be configured on the\n",
                "        # social app\n",
                "        data[\"expiration\"] = \"never\"\n",
                "        return data\n"
            ]
        },
        {
            "cell_type": "markdown",
            "metadata": {},
            "source": []
        },
        {
            "cell_type": "code",
            "execution_count": null,
            "metadata": {},
            "outputs": [],
            "source": [
                "provider_classes = [TrelloProvider]\n",
                "\n"
            ]
        },
        {
            "cell_type": "markdown",
            "metadata": {},
            "source": []
        }
    ],
    "metadata": {
        "language_info": {
            "name": "python"
        }
    },
    "nbformat": 4,
    "nbformat_minor": 2
}