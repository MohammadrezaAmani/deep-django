{
 "cells": [
  {
   "cell_type": "code",
   "execution_count": null,
   "metadata": {},
   "outputs": [],
   "source": [
    "from allauth.socialaccount.tests import OAuthTestsMixin\n",
    "from allauth.tests import MockedResponse, TestCase\n",
    "\n",
    "from .provider import TrelloProvider"
   ]
  },
  {
   "cell_type": "markdown",
   "metadata": {},
   "source": []
  },
  {
   "cell_type": "code",
   "execution_count": null,
   "metadata": {},
   "outputs": [],
   "source": [
    "class TrelloTests(OAuthTestsMixin, TestCase):\n",
    "    provider_id = TrelloProvider.id\n",
    "\n",
    "    def get_mocked_response(self):\n",
    "        return [\n",
    "            MockedResponse(\n",
    "                200,\n",
    "                r\"\"\"\n",
    "{\"id\": \"123\", \"email\": \"raymond.penners@example.com\", \"username\": \"pennersr\", \"name\": \"Raymond\"}\n",
    "        \"\"\",\n",
    "            ),\n",
    "        ]  # noqa"
   ]
  },
  {
   "cell_type": "markdown",
   "metadata": {},
   "source": []
  }
 ],
 "metadata": {
  "language_info": {
   "name": "python"
  }
 },
 "nbformat": 4,
 "nbformat_minor": 2
}