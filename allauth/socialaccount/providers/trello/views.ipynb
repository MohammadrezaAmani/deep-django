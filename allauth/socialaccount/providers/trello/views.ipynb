{
    "cells": [
        {
            "cell_type": "code",
            "execution_count": null,
            "metadata": {},
            "outputs": [],
            "source": [
                "from django.utils.http import urlencode\n",
                "\n",
                "from allauth.socialaccount.adapter import get_adapter\n",
                "from allauth.socialaccount.providers.oauth.views import (\n",
                "    OAuthAdapter,\n",
                "    OAuthCallbackView,\n",
                "    OAuthLoginView,\n",
                ")\n",
                "\n",
                "from .provider import TrelloProvider\n"
            ]
        },
        {
            "cell_type": "markdown",
            "metadata": {},
            "source": []
        },
        {
            "cell_type": "code",
            "execution_count": null,
            "metadata": {},
            "outputs": [],
            "source": [
                "class TrelloOAuthAdapter(OAuthAdapter):\n",
                "    provider_id = TrelloProvider.id\n",
                "    request_token_url = \"https://trello.com/1/OAuthGetRequestToken\"\n",
                "    authorize_url = \"https://trello.com/1/OAuthAuthorizeToken\"\n",
                "    access_token_url = \"https://trello.com/1/OAuthGetAccessToken\"\n",
                "\n",
                "    def complete_login(self, request, app, token, response):\n",
                "        # we need to get the member id and the other information\n",
                "        info_url = \"{base}?{query}\".format(\n",
                "            base=\"https://api.trello.com/1/members/me\",\n",
                "            query=urlencode({\"key\": app.key, \"token\": response.get(\"oauth_token\")}),\n",
                "        )\n",
                "        resp = get_adapter().get_requests_session().get(info_url)\n",
                "        resp.raise_for_status()\n",
                "        extra_data = resp.json()\n",
                "        result = self.get_provider().sociallogin_from_response(request, extra_data)\n",
                "        return result\n"
            ]
        },
        {
            "cell_type": "markdown",
            "metadata": {},
            "source": []
        },
        {
            "cell_type": "code",
            "execution_count": null,
            "metadata": {},
            "outputs": [],
            "source": [
                "oauth_login = OAuthLoginView.adapter_view(TrelloOAuthAdapter)\n",
                "oauth_callback = OAuthCallbackView.adapter_view(TrelloOAuthAdapter)\n",
                "\n"
            ]
        },
        {
            "cell_type": "markdown",
            "metadata": {},
            "source": []
        }
    ],
    "metadata": {
        "language_info": {
            "name": "python"
        }
    },
    "nbformat": 4,
    "nbformat_minor": 2
}