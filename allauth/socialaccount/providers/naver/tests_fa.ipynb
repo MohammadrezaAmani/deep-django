{
 "cells": [
  {
   "cell_type": "code",
   "execution_count": null,
   "metadata": {},
   "outputs": [],
   "source": [
    "from allauth.socialaccount.tests import OAuth2TestsMixin\n",
    "from allauth.tests import MockedResponse, TestCase\n",
    "\n",
    "from .provider import NaverProvider"
   ]
  },
  {
   "cell_type": "markdown",
   "metadata": {},
   "source": []
  },
  {
   "cell_type": "code",
   "execution_count": null,
   "metadata": {},
   "outputs": [],
   "source": [
    "class NaverTests(OAuth2TestsMixin, TestCase):\n",
    "    provider_id = NaverProvider.id\n",
    "\n",
    "    def get_mocked_response(self):\n",
    "        return MockedResponse(\n",
    "            200,\n",
    "            \"\"\"\n",
    "{\n",
    "\"response\":\n",
    "{\n",
    "\"enc_id\": \"46111c25f969116de4e545f13a415bb5383db2a79782da8851db72b2cced3180\",\n",
    "\"nickname\": \"\\ubc31\\ud638\",\n",
    "\"profile_image\":\n",
    "\"https://ssl.pstatic.net/static/pwe/address/nodata_33x33.gif\",\n",
    "\"gender\": \"M\",\n",
    "\"id\": \"7163491\",\n",
    "\"age\": \"20-29\",\n",
    "\"birthday\": \"03-22\",\n",
    "\"email\": \"shlee940322@example.com\",\n",
    "\"name\": \"\\uc774\\uc0c1\\ud601\"\n",
    "},\n",
    "\"message\": \"success\",\n",
    "\"resultcode\": \"00\"\n",
    "}\n",
    "\"\"\",\n",
    "        )"
   ]
  },
  {
   "cell_type": "markdown",
   "metadata": {},
   "source": []
  }
 ],
 "metadata": {
  "language_info": {
   "name": "python"
  }
 },
 "nbformat": 4,
 "nbformat_minor": 2
}