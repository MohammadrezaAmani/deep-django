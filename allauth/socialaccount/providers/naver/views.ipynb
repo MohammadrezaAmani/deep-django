{
    "cells": [
        {
            "cell_type": "code",
            "execution_count": null,
            "metadata": {},
            "outputs": [],
            "source": [
                "from allauth.socialaccount.adapter import get_adapter\n",
                "from allauth.socialaccount.providers.oauth2.views import (\n",
                "    OAuth2Adapter,\n",
                "    OAuth2CallbackView,\n",
                "    OAuth2LoginView,\n",
                ")\n"
            ]
        },
        {
            "cell_type": "markdown",
            "metadata": {},
            "source": []
        },
        {
            "cell_type": "code",
            "execution_count": null,
            "metadata": {},
            "outputs": [],
            "source": [
                "class NaverOAuth2Adapter(OAuth2Adapter):\n",
                "    provider_id = \"naver\"\n",
                "    access_token_url = \"https://nid.naver.com/oauth2.0/token\"\n",
                "    authorize_url = \"https://nid.naver.com/oauth2.0/authorize\"\n",
                "    profile_url = \"https://openapi.naver.com/v1/nid/me\"\n",
                "\n",
                "    def complete_login(self, request, app, token, **kwargs):\n",
                "        headers = {\"Authorization\": \"Bearer {0}\".format(token.token)}\n",
                "        resp = (\n",
                "            get_adapter().get_requests_session().get(self.profile_url, headers=headers)\n",
                "        )\n",
                "        resp.raise_for_status()\n",
                "        extra_data = resp.json().get(\"response\")\n",
                "        return self.get_provider().sociallogin_from_response(request, extra_data)\n"
            ]
        },
        {
            "cell_type": "markdown",
            "metadata": {},
            "source": []
        },
        {
            "cell_type": "code",
            "execution_count": null,
            "metadata": {},
            "outputs": [],
            "source": [
                "oauth2_login = OAuth2LoginView.adapter_view(NaverOAuth2Adapter)\n",
                "oauth2_callback = OAuth2CallbackView.adapter_view(NaverOAuth2Adapter)\n",
                "\n"
            ]
        },
        {
            "cell_type": "markdown",
            "metadata": {},
            "source": []
        }
    ],
    "metadata": {
        "language_info": {
            "name": "python"
        }
    },
    "nbformat": 4,
    "nbformat_minor": 2
}