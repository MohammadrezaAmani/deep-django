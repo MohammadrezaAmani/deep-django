{
    "cells": [
        {
            "cell_type": "code",
            "execution_count": null,
            "metadata": {},
            "outputs": [],
            "source": [
                "from django.conf import settings\n"
            ]
        },
        {
            "cell_type": "markdown",
            "metadata": {},
            "source": []
        },
        {
            "cell_type": "code",
            "execution_count": null,
            "metadata": {},
            "outputs": [],
            "source": [
                "PROVIDER_ID = \"patreon\"\n",
                "API_VERSION = (\n",
                "    getattr(settings, \"SOCIALACCOUNT_PROVIDERS\", {})\n",
                "    .get(\"patreon\", {})\n",
                "    .get(\"VERSION\", \"v1\")\n",
                ")\n",
                "USE_API_V2 = True if API_VERSION == \"v2\" else False\n",
                "API_URL = \"https://www.patreon.com/api/oauth2/\" + (API_VERSION if USE_API_V2 else \"api\")\n",
                "\n"
            ]
        },
        {
            "cell_type": "markdown",
            "metadata": {},
            "source": []
        }
    ],
    "metadata": {
        "language_info": {
            "name": "python"
        }
    },
    "nbformat": 4,
    "nbformat_minor": 2
}