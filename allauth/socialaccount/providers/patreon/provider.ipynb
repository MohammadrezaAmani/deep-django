{
 "cells": [
  {
   "cell_type": "code",
   "execution_count": null,
   "metadata": {},
   "outputs": [],
   "source": [
    "\"\"\"\n",
    "Provider for Patreon\n",
    "\"\"\"\n",
    "from allauth.socialaccount.providers.base import ProviderAccount\n",
    "from allauth.socialaccount.providers.oauth2.provider import OAuth2Provider\n",
    "from allauth.socialaccount.providers.patreon.views import PatreonOAuth2Adapter\n",
    "\n",
    "from .constants import PROVIDER_ID, USE_API_V2"
   ]
  },
  {
   "cell_type": "markdown",
   "metadata": {},
   "source": []
  },
  {
   "cell_type": "code",
   "execution_count": null,
   "metadata": {},
   "outputs": [],
   "source": [
    "class PatreonAccount(ProviderAccount):\n",
    "    def get_avatar_url(self):\n",
    "        return self.account.extra_data.get(\"attributes\").get(\"thumb_url\")"
   ]
  },
  {
   "cell_type": "markdown",
   "metadata": {},
   "source": []
  },
  {
   "cell_type": "code",
   "execution_count": null,
   "metadata": {},
   "outputs": [],
   "source": [
    "class PatreonProvider(OAuth2Provider):\n",
    "    id = PROVIDER_ID\n",
    "    name = \"Patreon\"\n",
    "    account_class = PatreonAccount\n",
    "    oauth2_adapter_class = PatreonOAuth2Adapter\n",
    "\n",
    "    def get_default_scope(self):\n",
    "        if USE_API_V2:\n",
    "            return [\n",
    "                \"identity\",\n",
    "                \"identity[email]\",\n",
    "                \"campaigns\",\n",
    "                \"campaigns.members\",\n",
    "            ]\n",
    "        return [\"pledges-to-me\", \"users\", \"my-campaign\"]\n",
    "\n",
    "    def extract_uid(self, data):\n",
    "        return data.get(\"id\")\n",
    "\n",
    "    def extract_common_fields(self, data):\n",
    "        details = data[\"attributes\"]\n",
    "        return {\n",
    "            \"email\": details.get(\"email\"),\n",
    "            \"fullname\": details.get(\"full_name\"),\n",
    "            \"first_name\": details.get(\"first_name\"),\n",
    "            \"last_name\": details.get(\"last_name\"),\n",
    "        }"
   ]
  },
  {
   "cell_type": "markdown",
   "metadata": {},
   "source": []
  },
  {
   "cell_type": "code",
   "execution_count": null,
   "metadata": {},
   "outputs": [],
   "source": [
    "provider_classes = [PatreonProvider]"
   ]
  },
  {
   "cell_type": "markdown",
   "metadata": {},
   "source": []
  }
 ],
 "metadata": {
  "language_info": {
   "name": "python"
  }
 },
 "nbformat": 4,
 "nbformat_minor": 2
}