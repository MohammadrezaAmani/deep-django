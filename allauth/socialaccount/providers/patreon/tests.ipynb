{
    "cells": [
        {
            "cell_type": "code",
            "execution_count": null,
            "metadata": {},
            "outputs": [],
            "source": [
                "from allauth.socialaccount.tests import OAuth2TestsMixin\n",
                "from allauth.tests import MockedResponse, TestCase\n",
                "\n",
                "from .provider import PatreonProvider\n"
            ]
        },
        {
            "cell_type": "markdown",
            "metadata": {},
            "source": []
        },
        {
            "cell_type": "code",
            "execution_count": null,
            "metadata": {},
            "outputs": [],
            "source": [
                "class PatreonTests(OAuth2TestsMixin, TestCase):\n",
                "    provider_id = PatreonProvider.id\n",
                "\n",
                "    def get_mocked_response(self):\n",
                "        return MockedResponse(\n",
                "            200,\n",
                "            \"\"\"{\n",
                "        \"data\": {\n",
                "            \"relationships\": {\n",
                "                \"pledges\": {\n",
                "                    \"data\": [{\n",
                "                        \"type\": \"pledge\", \"id\": \"123456\"\n",
                "                    }]\n",
                "                }\n",
                "            },\n",
                "            \"attributes\": {\n",
                "                \"last_name\": \"Interwebs\",\n",
                "                \"is_suspended\": false,\n",
                "                \"has_password\": true,\n",
                "                \"full_name\": \"John Interwebs\",\n",
                "                \"is_nuked\": false,\n",
                "                \"first_name\": \"John\",\n",
                "                \"social_connections\": {\n",
                "                    \"spotify\": null,\n",
                "                    \"discord\": null,\n",
                "                    \"twitter\": null,\n",
                "                    \"youtube\": null,\n",
                "                    \"facebook\": null,\n",
                "                    \"deviantart\": null,\n",
                "                    \"twitch\": null\n",
                "                },\n",
                "                \"twitter\": null,\n",
                "                \"is_email_verified\": true,\n",
                "                \"facebook_id\": null,\n",
                "                \"email\": \"john@example.com\",\n",
                "                \"facebook\": null,\n",
                "                \"thumb_url\": \"https://c8.patreon.com/100/123456\",\n",
                "                \"vanity\": null,\n",
                "                \"about\": null,\n",
                "                \"is_deleted\": false,\n",
                "                \"created\": \"2017-05-05T05:16:34+00:00\",\n",
                "                \"url\": \"https://www.patreon.com/user?u=123456\",\n",
                "                \"gender\": 0,\n",
                "                \"youtube\": null,\n",
                "                \"discord_id\": null,\n",
                "                \"image_url\": \"https://c8.patreon.com/400/123456\",\n",
                "                \"twitch\": null\n",
                "            },\n",
                "            \"type\": \"user\",\n",
                "            \"id\": \"123456\"\n",
                "        }\n",
                "        }\"\"\",\n",
                "        )  # noqa\n",
                "\n"
            ]
        },
        {
            "cell_type": "markdown",
            "metadata": {},
            "source": []
        }
    ],
    "metadata": {
        "language_info": {
            "name": "python"
        }
    },
    "nbformat": 4,
    "nbformat_minor": 2
}