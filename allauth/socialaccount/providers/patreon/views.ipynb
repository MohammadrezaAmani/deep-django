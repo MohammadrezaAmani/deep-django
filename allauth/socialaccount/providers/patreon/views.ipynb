{
    "cells": [
        {
            "cell_type": "code",
            "execution_count": null,
            "metadata": {},
            "outputs": [],
            "source": [
                "\"\"\"\n",
                "Views for PatreonProvider\n",
                "https://www.patreon.com/platform/documentation/oauth\n",
                "\"\"\"\n",
                "\n",
                "from allauth.socialaccount.adapter import get_adapter\n",
                "from allauth.socialaccount.providers.oauth2.views import (\n",
                "    OAuth2Adapter,\n",
                "    OAuth2CallbackView,\n",
                "    OAuth2LoginView,\n",
                ")\n",
                "\n",
                "from .constants import API_URL, PROVIDER_ID, USE_API_V2\n"
            ]
        },
        {
            "cell_type": "markdown",
            "metadata": {},
            "source": []
        },
        {
            "cell_type": "code",
            "execution_count": null,
            "metadata": {},
            "outputs": [],
            "source": [
                "class PatreonOAuth2Adapter(OAuth2Adapter):\n",
                "    provider_id = PROVIDER_ID\n",
                "    access_token_url = \"https://www.patreon.com/api/oauth2/token\"\n",
                "    authorize_url = \"https://www.patreon.com/oauth2/authorize\"\n",
                "    profile_url = \"{0}/{1}\".format(\n",
                "        API_URL,\n",
                "        \"identity?include=memberships&fields%5Buser%5D=email,first_name,\"\n",
                "        \"full_name,image_url,last_name,social_connections,\"\n",
                "        \"thumb_url,url,vanity\"\n",
                "        if USE_API_V2\n",
                "        else \"current_user\",\n",
                "    )\n",
                "\n",
                "    def complete_login(self, request, app, token, **kwargs):\n",
                "        resp = (\n",
                "            get_adapter()\n",
                "            .get_requests_session()\n",
                "            .get(\n",
                "                self.profile_url,\n",
                "                headers={\"Authorization\": \"Bearer \" + token.token},\n",
                "            )\n",
                "        )\n",
                "        extra_data = resp.json().get(\"data\")\n",
                "\n",
                "        if USE_API_V2:\n",
                "            # Extract tier/pledge level for Patreon API v2:\n",
                "            try:\n",
                "                member_id = extra_data[\"relationships\"][\"memberships\"][\"data\"][0][\"id\"]\n",
                "                member_url = (\n",
                "                    \"{0}/members/{1}?include=\"\n",
                "                    \"currently_entitled_tiers&fields%5Btier%5D=title\"\n",
                "                ).format(API_URL, member_id)\n",
                "                resp_member = (\n",
                "                    get_adapter()\n",
                "                    .get_requests_session()\n",
                "                    .get(\n",
                "                        member_url,\n",
                "                        headers={\"Authorization\": \"Bearer \" + token.token},\n",
                "                    )\n",
                "                )\n",
                "                pledge_title = resp_member.json()[\"included\"][0][\"attributes\"][\"title\"]\n",
                "                extra_data[\"pledge_level\"] = pledge_title\n",
                "            except (KeyError, IndexError):\n",
                "                extra_data[\"pledge_level\"] = None\n",
                "                pass\n",
                "\n",
                "        return self.get_provider().sociallogin_from_response(request, extra_data)\n"
            ]
        },
        {
            "cell_type": "markdown",
            "metadata": {},
            "source": []
        },
        {
            "cell_type": "code",
            "execution_count": null,
            "metadata": {},
            "outputs": [],
            "source": [
                "oauth2_login = OAuth2LoginView.adapter_view(PatreonOAuth2Adapter)\n",
                "oauth2_callback = OAuth2CallbackView.adapter_view(PatreonOAuth2Adapter)\n",
                "\n"
            ]
        },
        {
            "cell_type": "markdown",
            "metadata": {},
            "source": []
        }
    ],
    "metadata": {
        "language_info": {
            "name": "python"
        }
    },
    "nbformat": 4,
    "nbformat_minor": 2
}