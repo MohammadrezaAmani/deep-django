{
 "cells": [
  {
   "cell_type": "code",
   "execution_count": null,
   "metadata": {},
   "outputs": [],
   "source": [
    "from allauth.socialaccount import app_settings\n",
    "from allauth.socialaccount.adapter import get_adapter\n",
    "from allauth.socialaccount.providers.oauth2.views import (\n",
    "    OAuth2Adapter,\n",
    "    OAuth2CallbackView,\n",
    "    OAuth2LoginView,\n",
    ")"
   ]
  },
  {
   "cell_type": "markdown",
   "metadata": {},
   "source": []
  },
  {
   "cell_type": "code",
   "execution_count": null,
   "metadata": {},
   "outputs": [],
   "source": [
    "class AmazonCognitoOAuth2Adapter(OAuth2Adapter):\n",
    "    provider_id = \"amazon_cognito\"\n",
    "\n",
    "    DOMAIN_KEY_MISSING_ERROR = (\n",
    "        '\"DOMAIN\" key is missing in Amazon Cognito configuration.'\n",
    "    )\n",
    "\n",
    "    @property\n",
    "    def settings(self):\n",
    "        return app_settings.PROVIDERS.get(self.provider_id, {})\n",
    "\n",
    "    @property\n",
    "    def domain(self):\n",
    "        domain = self.settings.get(\"DOMAIN\")\n",
    "\n",
    "        if domain is None:\n",
    "            raise ValueError(self.DOMAIN_KEY_MISSING_ERROR)\n",
    "\n",
    "        return domain\n",
    "\n",
    "    @property\n",
    "    def access_token_url(self):\n",
    "        return \"{}/oauth2/token\".format(self.domain)\n",
    "\n",
    "    @property\n",
    "    def authorize_url(self):\n",
    "        return \"{}/oauth2/authorize\".format(self.domain)\n",
    "\n",
    "    @property\n",
    "    def profile_url(self):\n",
    "        return \"{}/oauth2/userInfo\".format(self.domain)\n",
    "\n",
    "    def complete_login(self, request, app, access_token, **kwargs):\n",
    "        headers = {\n",
    "            \"Authorization\": \"Bearer {}\".format(access_token),\n",
    "        }\n",
    "        extra_data = (\n",
    "            get_adapter().get_requests_session().get(self.profile_url, headers=headers)\n",
    "        )\n",
    "        extra_data.raise_for_status()\n",
    "\n",
    "        return self.get_provider().sociallogin_from_response(request, extra_data.json())"
   ]
  },
  {
   "cell_type": "markdown",
   "metadata": {},
   "source": []
  },
  {
   "cell_type": "code",
   "execution_count": null,
   "metadata": {},
   "outputs": [],
   "source": [
    "oauth2_login = OAuth2LoginView.adapter_view(AmazonCognitoOAuth2Adapter)\n",
    "oauth2_callback = OAuth2CallbackView.adapter_view(AmazonCognitoOAuth2Adapter)"
   ]
  },
  {
   "cell_type": "markdown",
   "metadata": {},
   "source": []
  }
 ],
 "metadata": {
  "language_info": {
   "name": "python"
  }
 },
 "nbformat": 4,
 "nbformat_minor": 2
}