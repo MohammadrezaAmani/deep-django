{
 "cells": [
  {
   "cell_type": "code",
   "execution_count": null,
   "metadata": {},
   "outputs": [],
   "source": [
    "import json\n",
    "\n",
    "import pytest\n",
    "\n",
    "from allauth.account.models import EmailAddress\n",
    "from allauth.socialaccount.models import SocialAccount\n",
    "from allauth.socialaccount.providers.amazon_cognito.provider import (\n",
    "    AmazonCognitoProvider,\n",
    ")\n",
    "from allauth.socialaccount.providers.amazon_cognito.utils import (\n",
    "    convert_to_python_bool_if_value_is_json_string_bool,\n",
    ")\n",
    "from allauth.socialaccount.providers.amazon_cognito.views import (\n",
    "    AmazonCognitoOAuth2Adapter,\n",
    ")\n",
    "from allauth.socialaccount.tests import OAuth2TestsMixin\n",
    "from allauth.tests import MockedResponse, TestCase\n",
    "from django.test import override_settings"
   ]
  },
  {
   "cell_type": "markdown",
   "metadata": {},
   "source": []
  },
  {
   "cell_type": "code",
   "execution_count": null,
   "metadata": {},
   "outputs": [],
   "source": [
    "def _get_mocked_claims():\n",
    "    return {\n",
    "        \"sub\": \"4993b410-8a1b-4c36-b843-a9c1a697e6b7\",\n",
    "        \"given_name\": \"John\",\n",
    "        \"family_name\": \"Doe\",\n",
    "        \"email\": \"jdoe@example.com\",\n",
    "        \"username\": \"johndoe\",\n",
    "    }"
   ]
  },
  {
   "cell_type": "markdown",
   "metadata": {},
   "source": []
  },
  {
   "cell_type": "code",
   "execution_count": null,
   "metadata": {},
   "outputs": [],
   "source": [
    "@override_settings(\n",
    "    SOCIALACCOUNT_PROVIDERS={\n",
    "        \"amazon_cognito\": {\"DOMAIN\": \"https://domain.auth.us-east-1.amazoncognito.com\"}\n",
    "    }\n",
    ")\n",
    "class AmazonCognitoTestCase(OAuth2TestsMixin, TestCase):\n",
    "    provider_id = AmazonCognitoProvider.id\n",
    "\n",
    "    def get_mocked_response(self):\n",
    "        mocked_payload = json.dumps(_get_mocked_claims())\n",
    "\n",
    "        return MockedResponse(status_code=200, content=mocked_payload)\n",
    "\n",
    "    @override_settings(SOCIALACCOUNT_PROVIDERS={\"amazon_cognito\": {}})\n",
    "    def test_oauth2_adapter_raises_if_domain_settings_is_missing(\n",
    "        self,\n",
    "    ):\n",
    "        mocked_response = self.get_mocked_response()\n",
    "\n",
    "        with self.assertRaises(\n",
    "            ValueError,\n",
    "            msg=AmazonCognitoOAuth2Adapter.DOMAIN_KEY_MISSING_ERROR,\n",
    "        ):\n",
    "            self.login(mocked_response)\n",
    "\n",
    "    def test_saves_email_as_verified_if_email_is_verified_in_cognito(\n",
    "        self,\n",
    "    ):\n",
    "        mocked_claims = _get_mocked_claims()\n",
    "        mocked_claims[\"email_verified\"] = True\n",
    "        mocked_payload = json.dumps(mocked_claims)\n",
    "        mocked_response = MockedResponse(status_code=200, content=mocked_payload)\n",
    "\n",
    "        self.login(mocked_response)\n",
    "\n",
    "        user_id = SocialAccount.objects.get(uid=mocked_claims[\"sub\"]).user_id\n",
    "        email_address = EmailAddress.objects.get(user_id=user_id)\n",
    "\n",
    "        self.assertEqual(email_address.email, mocked_claims[\"email\"])\n",
    "        self.assertTrue(email_address.verified)\n",
    "\n",
    "    def test_provider_slug_replaces_underscores_with_hyphens(self):\n",
    "        self.assertTrue(\"_\" not in self.provider.get_slug())"
   ]
  },
  {
   "cell_type": "markdown",
   "metadata": {},
   "source": []
  },
  {
   "cell_type": "code",
   "execution_count": null,
   "metadata": {},
   "outputs": [],
   "source": [
    "@pytest.mark.parametrize(\n",
    "    \"input,output\",\n",
    "    [\n",
    "        (True, True),\n",
    "        (\"true\", True),\n",
    "        (\"false\", False),\n",
    "        (False, False),\n",
    "    ],\n",
    ")\n",
    "def test_convert_bool(input, output):\n",
    "    assert convert_to_python_bool_if_value_is_json_string_bool(input) == output"
   ]
  },
  {
   "cell_type": "markdown",
   "metadata": {},
   "source": []
  }
 ],
 "metadata": {
  "language_info": {
   "name": "python"
  }
 },
 "nbformat": 4,
 "nbformat_minor": 2
}