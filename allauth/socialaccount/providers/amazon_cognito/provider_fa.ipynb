{
 "cells": [
  {
   "cell_type": "code",
   "execution_count": null,
   "metadata": {},
   "outputs": [],
   "source": [
    "from allauth.account.models import EmailAddress\n",
    "from allauth.socialaccount.providers.amazon_cognito.utils import (\n",
    "    convert_to_python_bool_if_value_is_json_string_bool,\n",
    ")\n",
    "from allauth.socialaccount.providers.amazon_cognito.views import (\n",
    "    AmazonCognitoOAuth2Adapter,\n",
    ")\n",
    "from allauth.socialaccount.providers.base import ProviderAccount\n",
    "from allauth.socialaccount.providers.oauth2.provider import OAuth2Provider"
   ]
  },
  {
   "cell_type": "markdown",
   "metadata": {},
   "source": []
  },
  {
   "cell_type": "code",
   "execution_count": null,
   "metadata": {},
   "outputs": [],
   "source": [
    "class AmazonCognitoAccount(ProviderAccount):\n",
    "    def to_str(self):\n",
    "        dflt = super(AmazonCognitoAccount, self).to_str()\n",
    "\n",
    "        return self.account.extra_data.get(\"username\", dflt)\n",
    "\n",
    "    def get_avatar_url(self):\n",
    "        return self.account.extra_data.get(\"picture\")\n",
    "\n",
    "    def get_profile_url(self):\n",
    "        return self.account.extra_data.get(\"profile\")"
   ]
  },
  {
   "cell_type": "markdown",
   "metadata": {},
   "source": []
  },
  {
   "cell_type": "code",
   "execution_count": null,
   "metadata": {},
   "outputs": [],
   "source": [
    "class AmazonCognitoProvider(OAuth2Provider):\n",
    "    id = \"amazon_cognito\"\n",
    "    name = \"Amazon Cognito\"\n",
    "    account_class = AmazonCognitoAccount\n",
    "    oauth2_adapter_class = AmazonCognitoOAuth2Adapter\n",
    "\n",
    "    def extract_uid(self, data):\n",
    "        return str(data[\"sub\"])\n",
    "\n",
    "    def extract_common_fields(self, data):\n",
    "        return {\n",
    "            \"email\": data.get(\"email\"),\n",
    "            \"first_name\": data.get(\"given_name\"),\n",
    "            \"last_name\": data.get(\"family_name\"),\n",
    "        }\n",
    "\n",
    "    def get_default_scope(self):\n",
    "        return [\"openid\", \"profile\", \"email\"]\n",
    "\n",
    "    def extract_email_addresses(self, data):\n",
    "        email = data.get(\"email\")\n",
    "        verified = convert_to_python_bool_if_value_is_json_string_bool(\n",
    "            data.get(\"email_verified\", False)\n",
    "        )\n",
    "\n",
    "        return (\n",
    "            [EmailAddress(email=email, verified=verified, primary=True)]\n",
    "            if email\n",
    "            else []\n",
    "        )\n",
    "\n",
    "    def extract_extra_data(self, data):\n",
    "        return {\n",
    "            \"address\": data.get(\"address\"),\n",
    "            \"birthdate\": data.get(\"birthdate\"),\n",
    "            \"gender\": data.get(\"gender\"),\n",
    "            \"locale\": data.get(\"locale\"),\n",
    "            \"middlename\": data.get(\"middlename\"),\n",
    "            \"nickname\": data.get(\"nickname\"),\n",
    "            \"phone_number\": data.get(\"phone_number\"),\n",
    "            \"phone_number_verified\": convert_to_python_bool_if_value_is_json_string_bool(\n",
    "                data.get(\"phone_number_verified\")\n",
    "            ),\n",
    "            \"picture\": data.get(\"picture\"),\n",
    "            \"preferred_username\": data.get(\"preferred_username\"),\n",
    "            \"profile\": data.get(\"profile\"),\n",
    "            \"website\": data.get(\"website\"),\n",
    "            \"zoneinfo\": data.get(\"zoneinfo\"),\n",
    "        }\n",
    "\n",
    "    @classmethod\n",
    "    def get_slug(cls):\n",
    "        # IMPORTANT: Amazon Cognito does not support `_` characters\n",
    "        #            as part of their redirect URI.\n",
    "        return super(AmazonCognitoProvider, cls).get_slug().replace(\"_\", \"-\")"
   ]
  },
  {
   "cell_type": "markdown",
   "metadata": {},
   "source": []
  },
  {
   "cell_type": "code",
   "execution_count": null,
   "metadata": {},
   "outputs": [],
   "source": [
    "provider_classes = [AmazonCognitoProvider]"
   ]
  },
  {
   "cell_type": "markdown",
   "metadata": {},
   "source": []
  }
 ],
 "metadata": {
  "language_info": {
   "name": "python"
  }
 },
 "nbformat": 4,
 "nbformat_minor": 2
}