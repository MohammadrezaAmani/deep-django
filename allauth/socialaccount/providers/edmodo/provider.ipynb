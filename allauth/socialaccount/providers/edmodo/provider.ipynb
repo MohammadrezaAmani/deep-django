{
 "cells": [
  {
   "cell_type": "code",
   "execution_count": null,
   "metadata": {},
   "outputs": [],
   "source": [
    "from allauth.socialaccount.providers.base import ProviderAccount\n",
    "from allauth.socialaccount.providers.edmodo.views import EdmodoOAuth2Adapter\n",
    "from allauth.socialaccount.providers.oauth2.provider import OAuth2Provider"
   ]
  },
  {
   "cell_type": "markdown",
   "metadata": {},
   "source": []
  },
  {
   "cell_type": "code",
   "execution_count": null,
   "metadata": {},
   "outputs": [],
   "source": [
    "class EdmodoAccount(ProviderAccount):\n",
    "    def get_profile_url(self):\n",
    "        return self.account.extra_data.get(\"profile_url\")\n",
    "\n",
    "    def get_avatar_url(self):\n",
    "        return self.account.extra_data.get(\"avatar_url\")"
   ]
  },
  {
   "cell_type": "markdown",
   "metadata": {},
   "source": []
  },
  {
   "cell_type": "code",
   "execution_count": null,
   "metadata": {},
   "outputs": [],
   "source": [
    "class EdmodoProvider(OAuth2Provider):\n",
    "    id = \"edmodo\"\n",
    "    name = \"Edmodo\"\n",
    "    account_class = EdmodoAccount\n",
    "    oauth2_adapter_class = EdmodoOAuth2Adapter\n",
    "\n",
    "    def get_default_scope(self):\n",
    "        return [\"basic\"]\n",
    "\n",
    "    def extract_uid(self, data):\n",
    "        return str(data[\"id\"])\n",
    "\n",
    "    def extract_common_fields(self, data):\n",
    "        return dict(\n",
    "            first_name=data.get(\"first_name\"),\n",
    "            last_name=data.get(\"last_name\"),\n",
    "            email=data.get(\"email\", \"\"),\n",
    "        )\n",
    "\n",
    "    def extract_extra_data(self, data):\n",
    "        return dict(\n",
    "            user_type=data.get(\"type\"),\n",
    "            profile_url=data.get(\"url\"),\n",
    "            avatar_url=data.get(\"avatars\").get(\"large\"),\n",
    "        )"
   ]
  },
  {
   "cell_type": "markdown",
   "metadata": {},
   "source": []
  },
  {
   "cell_type": "code",
   "execution_count": null,
   "metadata": {},
   "outputs": [],
   "source": [
    "provider_classes = [EdmodoProvider]"
   ]
  },
  {
   "cell_type": "markdown",
   "metadata": {},
   "source": []
  }
 ],
 "metadata": {
  "language_info": {
   "name": "python"
  }
 },
 "nbformat": 4,
 "nbformat_minor": 2
}