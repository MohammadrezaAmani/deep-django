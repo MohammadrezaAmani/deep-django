{
    "cells": [
        {
            "cell_type": "code",
            "execution_count": null,
            "metadata": {},
            "outputs": [],
            "source": [
                "from allauth.socialaccount.tests import OAuth2TestsMixin\n",
                "from allauth.tests import MockedResponse, TestCase\n",
                "\n",
                "from .provider import EdmodoProvider\n"
            ]
        },
        {
            "cell_type": "markdown",
            "metadata": {},
            "source": []
        },
        {
            "cell_type": "code",
            "execution_count": null,
            "metadata": {},
            "outputs": [],
            "source": [
                "class EdmodoTests(OAuth2TestsMixin, TestCase):\n",
                "    provider_id = EdmodoProvider.id\n",
                "\n",
                "    def get_mocked_response(self):\n",
                "        return MockedResponse(\n",
                "            200,\n",
                "            \"\"\"\n",
                "{\n",
                "  \"url\": \"https://api.edmodo.com/users/74721257\",\n",
                "  \"id\": 74721257,\n",
                "  \"type\": \"teacher\",\n",
                "  \"username\": \"getacclaim-teacher1\",\n",
                "  \"user_title\": null,\n",
                "  \"first_name\": \"Edmodo Test\",\n",
                "  \"last_name\": \"Teacher\",\n",
                "  \"time_zone\": \"America/New_York\",\n",
                "  \"utc_offset\": -18000,\n",
                "  \"locale\": \"en\",\n",
                "  \"gender\": null,\n",
                "  \"start_level\": null,\n",
                "  \"end_level\": null,\n",
                "  \"about\": null,\n",
                "  \"premium\": false,\n",
                "  \"school\": {\"url\": \"https://api.edmodo.com/schools/559253\", \"id\": 559253},\n",
                "  \"verified_institution_member\": true,\n",
                "  \"coppa_verified\": false,\n",
                "  \"subjects\": null,\n",
                "  \"avatars\": {\n",
                "    \"small\":\n",
                "    \"https://api.edmodo.com/users/74721257/avatar?type=small&u=670329ncqnf8fxv7tya24byn5\",\n",
                "    \"large\":\n",
                "    \"https://api.edmodo.com/users/74721257/avatar?type=large&u=670329ncqnf8fxv7tya24byn5\"\n",
                "  },\n",
                "  \"email\":\"test@example.com\",\n",
                "  \"sync_enabled\": false\n",
                "}\n",
                "\"\"\",\n",
                "        )  # noqa\n",
                "\n"
            ]
        },
        {
            "cell_type": "markdown",
            "metadata": {},
            "source": []
        }
    ],
    "metadata": {
        "language_info": {
            "name": "python"
        }
    },
    "nbformat": 4,
    "nbformat_minor": 2
}