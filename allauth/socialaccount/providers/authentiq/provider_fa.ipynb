{
 "cells": [
  {
   "cell_type": "code",
   "execution_count": null,
   "metadata": {},
   "outputs": [],
   "source": [
    "from allauth.account.models import EmailAddress\n",
    "from allauth.socialaccount import app_settings\n",
    "from allauth.socialaccount.providers.authentiq.views import AuthentiqOAuth2Adapter\n",
    "from allauth.socialaccount.providers.base import AuthAction, ProviderAccount\n",
    "from allauth.socialaccount.providers.oauth2.provider import OAuth2Provider"
   ]
  },
  {
   "cell_type": "markdown",
   "metadata": {},
   "source": []
  },
  {
   "cell_type": "code",
   "execution_count": null,
   "metadata": {},
   "outputs": [],
   "source": [
    "class Scope(object):\n",
    "    NAME = \"aq:name\"\n",
    "    EMAIL = \"email\"\n",
    "    PHONE = \"phone\"\n",
    "    ADDRESS = \"address\"\n",
    "    LOCATION = \"aq:location\"\n",
    "    PUSH = \"aq:push\""
   ]
  },
  {
   "cell_type": "markdown",
   "metadata": {},
   "source": []
  },
  {
   "cell_type": "code",
   "execution_count": null,
   "metadata": {},
   "outputs": [],
   "source": [
    "IDENTITY_CLAIMS = frozenset(\n",
    "    [\n",
    "        \"sub\",\n",
    "        \"name\",\n",
    "        \"given_name\",\n",
    "        \"family_name\",\n",
    "        \"middle_name\",\n",
    "        \"nickname\",\n",
    "        \"preferred_username\",\n",
    "        \"profile\",\n",
    "        \"picture\",\n",
    "        \"website\",\n",
    "        \"email\",\n",
    "        \"email_verified\",\n",
    "        \"gender\",\n",
    "        \"birthdate\",\n",
    "        \"zoneinfo\",\n",
    "        \"locale\",\n",
    "        \"phone_number\",\n",
    "        \"phone_number_verified\",\n",
    "        \"address\",\n",
    "        \"updated_at\",\n",
    "        \"aq:location\",\n",
    "    ]\n",
    ")"
   ]
  },
  {
   "cell_type": "markdown",
   "metadata": {},
   "source": []
  },
  {
   "cell_type": "code",
   "execution_count": null,
   "metadata": {},
   "outputs": [],
   "source": [
    "class AuthentiqAccount(ProviderAccount):\n",
    "    def get_profile_url(self):\n",
    "        return self.account.extra_data.get(\"profile\")\n",
    "\n",
    "    def get_avatar_url(self):\n",
    "        return self.account.extra_data.get(\"picture\")\n",
    "\n",
    "    def to_str(self):\n",
    "        dflt = super(AuthentiqAccount, self).to_str()\n",
    "        return self.account.extra_data.get(\"name\", dflt)"
   ]
  },
  {
   "cell_type": "markdown",
   "metadata": {},
   "source": []
  },
  {
   "cell_type": "code",
   "execution_count": null,
   "metadata": {},
   "outputs": [],
   "source": [
    "class AuthentiqProvider(OAuth2Provider):\n",
    "    id = \"authentiq\"\n",
    "    name = \"Authentiq\"\n",
    "    account_class = AuthentiqAccount\n",
    "    oauth2_adapter_class = AuthentiqOAuth2Adapter\n",
    "\n",
    "    def get_scope_from_request(self, request):\n",
    "        scope = set(super().get_scope_from_request(request))\n",
    "        scope.add(\"openid\")\n",
    "\n",
    "        if Scope.EMAIL in scope:\n",
    "            modifiers = \"\"\n",
    "            if app_settings.EMAIL_REQUIRED:\n",
    "                modifiers += \"r\"\n",
    "            if app_settings.EMAIL_VERIFICATION:\n",
    "                modifiers += \"s\"\n",
    "            if modifiers:\n",
    "                scope.add(Scope.EMAIL + \"~\" + modifiers)\n",
    "                scope.remove(Scope.EMAIL)\n",
    "        return list(scope)\n",
    "\n",
    "    def get_default_scope(self):\n",
    "        scope = [Scope.NAME, Scope.PUSH]\n",
    "        if app_settings.QUERY_EMAIL:\n",
    "            scope.append(Scope.EMAIL)\n",
    "        return scope\n",
    "\n",
    "    def get_auth_params_from_request(self, request, action):\n",
    "        ret = super().get_auth_params_from_request(request, action)\n",
    "        if action == AuthAction.REAUTHENTICATE:\n",
    "            ret[\"prompt\"] = \"select_account\"\n",
    "        return ret\n",
    "\n",
    "    def extract_uid(self, data):\n",
    "        return str(data[\"sub\"])\n",
    "\n",
    "    def extract_common_fields(self, data):\n",
    "        return dict(\n",
    "            username=data.get(\"preferred_username\", data.get(\"given_name\")),\n",
    "            email=data.get(\"email\"),\n",
    "            name=data.get(\"name\"),\n",
    "            first_name=data.get(\"given_name\"),\n",
    "            last_name=data.get(\"family_name\"),\n",
    "        )\n",
    "\n",
    "    def extract_extra_data(self, data):\n",
    "        return {k: v for k, v in data.items() if k in IDENTITY_CLAIMS}\n",
    "\n",
    "    def extract_email_addresses(self, data):\n",
    "        ret = []\n",
    "        email = data.get(\"email\")\n",
    "        if email and data.get(\"email_verified\"):\n",
    "            ret.append(EmailAddress(email=email, verified=True, primary=True))\n",
    "        return ret"
   ]
  },
  {
   "cell_type": "markdown",
   "metadata": {},
   "source": []
  },
  {
   "cell_type": "code",
   "execution_count": null,
   "metadata": {},
   "outputs": [],
   "source": [
    "provider_classes = [AuthentiqProvider]"
   ]
  },
  {
   "cell_type": "markdown",
   "metadata": {},
   "source": []
  }
 ],
 "metadata": {
  "language_info": {
   "name": "python"
  }
 },
 "nbformat": 4,
 "nbformat_minor": 2
}