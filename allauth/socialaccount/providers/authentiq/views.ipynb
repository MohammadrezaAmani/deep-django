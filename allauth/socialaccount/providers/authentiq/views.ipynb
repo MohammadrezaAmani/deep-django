{
 "cells": [
  {
   "cell_type": "code",
   "execution_count": null,
   "metadata": {},
   "outputs": [],
   "source": [
    "from urllib.parse import urljoin\n",
    "\n",
    "from allauth.socialaccount import app_settings\n",
    "from allauth.socialaccount.adapter import get_adapter\n",
    "from allauth.socialaccount.providers.oauth2.views import (\n",
    "    OAuth2Adapter,\n",
    "    OAuth2CallbackView,\n",
    "    OAuth2LoginView,\n",
    ")"
   ]
  },
  {
   "cell_type": "markdown",
   "metadata": {},
   "source": []
  },
  {
   "cell_type": "code",
   "execution_count": null,
   "metadata": {},
   "outputs": [],
   "source": [
    "class AuthentiqOAuth2Adapter(OAuth2Adapter):\n",
    "    provider_id = \"authentiq\"\n",
    "\n",
    "    settings = app_settings.PROVIDERS.get(provider_id, {})\n",
    "\n",
    "    provider_url = settings.get(\"PROVIDER_URL\", \"https://connect.authentiq.io/\")\n",
    "    if not provider_url.endswith(\"/\"):\n",
    "        provider_url += \"/\"\n",
    "\n",
    "    access_token_url = urljoin(provider_url, \"token\")\n",
    "    authorize_url = urljoin(provider_url, \"authorize\")\n",
    "    profile_url = urljoin(provider_url, \"userinfo\")\n",
    "\n",
    "    def complete_login(self, request, app, token, **kwargs):\n",
    "        auth = {\"Authorization\": \"Bearer \" + token.token}\n",
    "        resp = get_adapter().get_requests_session().get(self.profile_url, headers=auth)\n",
    "        resp.raise_for_status()\n",
    "        extra_data = resp.json()\n",
    "        login = self.get_provider().sociallogin_from_response(request, extra_data)\n",
    "        return login"
   ]
  },
  {
   "cell_type": "markdown",
   "metadata": {},
   "source": []
  },
  {
   "cell_type": "code",
   "execution_count": null,
   "metadata": {},
   "outputs": [],
   "source": [
    "oauth2_login = OAuth2LoginView.adapter_view(AuthentiqOAuth2Adapter)\n",
    "oauth2_callback = OAuth2CallbackView.adapter_view(AuthentiqOAuth2Adapter)"
   ]
  },
  {
   "cell_type": "markdown",
   "metadata": {},
   "source": []
  }
 ],
 "metadata": {
  "language_info": {
   "name": "python"
  }
 },
 "nbformat": 4,
 "nbformat_minor": 2
}