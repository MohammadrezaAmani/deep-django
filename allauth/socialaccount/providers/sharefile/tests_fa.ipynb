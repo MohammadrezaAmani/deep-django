{
 "cells": [
  {
   "cell_type": "code",
   "execution_count": null,
   "metadata": {},
   "outputs": [],
   "source": [
    "from allauth.socialaccount.tests import OAuth2TestsMixin\n",
    "from allauth.tests import MockedResponse, TestCase\n",
    "\n",
    "from .provider import ShareFileProvider"
   ]
  },
  {
   "cell_type": "markdown",
   "metadata": {},
   "source": []
  },
  {
   "cell_type": "code",
   "execution_count": null,
   "metadata": {},
   "outputs": [],
   "source": [
    "class ShareFileTests(OAuth2TestsMixin, TestCase):\n",
    "    provider_id = ShareFileProvider.id\n",
    "\n",
    "    def get_mocked_response(self):\n",
    "        return MockedResponse(\n",
    "            200,\n",
    "            \"\"\"\n",
    "{\n",
    "  \"Id\": \"123\",\n",
    "  \"Email\":\"user.one@domain.com\",\n",
    "  \"FirstName\":\"Name\",\n",
    "  \"LastName\":\"Last Name\",\n",
    "  \"Company\":\"Company\",\n",
    "  \"DefaultZone\":\n",
    "  {\n",
    "    \"Id\":\"zoneid\"\n",
    "  }\n",
    "}         \"\"\",\n",
    "        )"
   ]
  },
  {
   "cell_type": "markdown",
   "metadata": {},
   "source": []
  }
 ],
 "metadata": {
  "language_info": {
   "name": "python"
  }
 },
 "nbformat": 4,
 "nbformat_minor": 2
}