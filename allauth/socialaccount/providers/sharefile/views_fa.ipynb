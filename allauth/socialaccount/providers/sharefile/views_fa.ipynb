{
 "cells": [
  {
   "cell_type": "code",
   "execution_count": null,
   "metadata": {},
   "outputs": [],
   "source": [
    "from allauth.socialaccount import app_settings\n",
    "from allauth.socialaccount.adapter import get_adapter\n",
    "from allauth.socialaccount.providers.oauth2.views import (\n",
    "    OAuth2Adapter,\n",
    "    OAuth2CallbackView,\n",
    "    OAuth2LoginView,\n",
    ")"
   ]
  },
  {
   "cell_type": "markdown",
   "metadata": {},
   "source": []
  },
  {
   "cell_type": "code",
   "execution_count": null,
   "metadata": {},
   "outputs": [],
   "source": [
    "class ShareFileOAuth2Adapter(OAuth2Adapter):\n",
    "    provider_id = \"sharefile\"\n",
    "    settings = app_settings.PROVIDERS.get(provider_id, {})\n",
    "    subdomain = settings.get(\"SUBDOMAIN\", \"secure\")\n",
    "    apicp = settings.get(\"APICP\", \"sharefile.com\")\n",
    "\n",
    "    provider_default_url = settings.get(\"DEFAULT_URL\", \"https://secure.sharefile.com\")\n",
    "    provider_default_api_url = \"https://{}.sf-api.com\".format(subdomain)\n",
    "    provider_api_version = \"v3\"\n",
    "\n",
    "    access_token_url = \"https://{}.{}/oauth/token\".format(subdomain, apicp)\n",
    "    refresh_token_url = \"https://{}.{}/oauth/token\".format(subdomain, apicp)\n",
    "    authorize_url = \"{}/oauth/authorize\".format(provider_default_url)\n",
    "    profile_url = \"{}/sf/{}/Users\".format(\n",
    "        provider_default_api_url, provider_api_version\n",
    "    )\n",
    "\n",
    "    def complete_login(self, request, app, token, response):\n",
    "        headers = {\"Authorization\": \"Bearer {}\".format(token.token)}\n",
    "        extra_data = (\n",
    "            get_adapter()\n",
    "            .get_requests_session()\n",
    "            .get(self.profile_url, headers=headers)\n",
    "            .json()\n",
    "        )\n",
    "        return self.get_provider().sociallogin_from_response(request, extra_data)"
   ]
  },
  {
   "cell_type": "markdown",
   "metadata": {},
   "source": []
  },
  {
   "cell_type": "code",
   "execution_count": null,
   "metadata": {},
   "outputs": [],
   "source": [
    "oauth2_login = OAuth2LoginView.adapter_view(ShareFileOAuth2Adapter)\n",
    "oauth2_callback = OAuth2CallbackView.adapter_view(ShareFileOAuth2Adapter)"
   ]
  },
  {
   "cell_type": "markdown",
   "metadata": {},
   "source": []
  }
 ],
 "metadata": {
  "language_info": {
   "name": "python"
  }
 },
 "nbformat": 4,
 "nbformat_minor": 2
}