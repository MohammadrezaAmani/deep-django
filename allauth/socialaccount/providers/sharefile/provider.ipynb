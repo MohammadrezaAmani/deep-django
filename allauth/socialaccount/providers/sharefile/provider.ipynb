{
    "cells": [
        {
            "cell_type": "code",
            "execution_count": null,
            "metadata": {},
            "outputs": [],
            "source": [
                "from allauth.socialaccount.providers.base import ProviderAccount\n",
                "from allauth.socialaccount.providers.oauth2.provider import OAuth2Provider\n",
                "from allauth.socialaccount.providers.sharefile.views import (\n",
                "    ShareFileOAuth2Adapter,\n",
                ")\n"
            ]
        },
        {
            "cell_type": "markdown",
            "metadata": {},
            "source": []
        },
        {
            "cell_type": "code",
            "execution_count": null,
            "metadata": {},
            "outputs": [],
            "source": [
                "class ShareFileAccount(ProviderAccount):\n",
                "    def to_str(self):\n",
                "        dflt = super(ShareFileAccount, self).to_str()\n",
                "        return self.account.extra_data.get(\"name\", dflt)\n"
            ]
        },
        {
            "cell_type": "markdown",
            "metadata": {},
            "source": []
        },
        {
            "cell_type": "code",
            "execution_count": null,
            "metadata": {},
            "outputs": [],
            "source": [
                "class ShareFileProvider(OAuth2Provider):\n",
                "    id = \"sharefile\"\n",
                "    name = \"ShareFile\"\n",
                "    account_class = ShareFileAccount\n",
                "    oauth2_adapter_class = ShareFileOAuth2Adapter\n",
                "\n",
                "    def extract_uid(self, data):\n",
                "        return str(data.get(\"Id\", \"\"))\n",
                "\n",
                "    def extract_common_fields(self, data):\n",
                "        return dict(\n",
                "            email=data.get(\"Email\", \"\"),\n",
                "            username=data.get(\"Username\", \"\"),\n",
                "            name=data.get(\"FullName\", \"\"),\n",
                "        )\n"
            ]
        },
        {
            "cell_type": "markdown",
            "metadata": {},
            "source": []
        },
        {
            "cell_type": "code",
            "execution_count": null,
            "metadata": {},
            "outputs": [],
            "source": [
                "provider_classes = [ShareFileProvider]\n",
                "\n"
            ]
        },
        {
            "cell_type": "markdown",
            "metadata": {},
            "source": []
        }
    ],
    "metadata": {
        "language_info": {
            "name": "python"
        }
    },
    "nbformat": 4,
    "nbformat_minor": 2
}