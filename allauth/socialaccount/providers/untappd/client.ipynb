{
    "cells": [
        {
            "cell_type": "code",
            "execution_count": null,
            "metadata": {},
            "outputs": [],
            "source": [
                "from allauth.socialaccount import app_settings\n",
                "from allauth.socialaccount.adapter import get_adapter\n",
                "from allauth.socialaccount.providers.oauth2.client import (\n",
                "    OAuth2Client,\n",
                "    OAuth2Error,\n",
                ")\n"
            ]
        },
        {
            "cell_type": "markdown",
            "metadata": {},
            "source": []
        },
        {
            "cell_type": "code",
            "execution_count": null,
            "metadata": {},
            "outputs": [],
            "source": [
                "class UntappdOAuth2Client(OAuth2Client):\n",
                "    \"\"\"\n",
                "    Custom client because Untappd:\n",
                "        * uses redirect_url instead of redirect_uri\n",
                "        * nests access_token inside an extra 'response' object\n",
                "    \"\"\"\n",
                "\n",
                "    def get_access_token(self, code, pkce_code_verifier=None):\n",
                "        from allauth.socialaccount.providers.untappd.provider import (\n",
                "            UntappdProvider,\n",
                "        )\n",
                "\n",
                "        data = {\n",
                "            \"client_id\": self.consumer_key,\n",
                "            \"redirect_url\": self.callback_url,\n",
                "            \"grant_type\": \"authorization_code\",\n",
                "            \"response_type\": \"code\",\n",
                "            \"client_secret\": self.consumer_secret,\n",
                "            \"code\": code,\n",
                "        }\n",
                "        params = None\n",
                "        self._strip_empty_keys(data)\n",
                "        url = self.access_token_url\n",
                "        if self.access_token_method == \"GET\":\n",
                "            params = data\n",
                "            data = None\n",
                "        if data and pkce_code_verifier:\n",
                "            data[\"code_verifier\"] = pkce_code_verifier\n",
                "        # Allow custom User Agent to comply with Untappd API\n",
                "        settings = app_settings.PROVIDERS.get(UntappdProvider.id, {})\n",
                "        headers = {\"User-Agent\": settings.get(\"USER_AGENT\", \"django-allauth\")}\n",
                "        # TODO: Proper exception handling\n",
                "        resp = (\n",
                "            get_adapter()\n",
                "            .get_requests_session()\n",
                "            .request(\n",
                "                self.access_token_method,\n",
                "                url,\n",
                "                params=params,\n",
                "                data=data,\n",
                "                headers=headers,\n",
                "            )\n",
                "        )\n",
                "        access_token = None\n",
                "        if resp.status_code == 200:\n",
                "            access_token = resp.json()[\"response\"]\n",
                "        if not access_token or \"access_token\" not in access_token:\n",
                "            raise OAuth2Error(\"Error retrieving access token: %s\" % resp.content)\n",
                "        return access_token\n",
                "\n"
            ]
        },
        {
            "cell_type": "markdown",
            "metadata": {},
            "source": []
        }
    ],
    "metadata": {
        "language_info": {
            "name": "python"
        }
    },
    "nbformat": 4,
    "nbformat_minor": 2
}