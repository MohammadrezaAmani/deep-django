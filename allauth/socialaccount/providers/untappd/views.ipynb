{
 "cells": [
  {
   "cell_type": "code",
   "execution_count": null,
   "metadata": {},
   "outputs": [],
   "source": [
    "from allauth.socialaccount.adapter import get_adapter\n",
    "from allauth.socialaccount.providers.oauth2.views import (\n",
    "    OAuth2Adapter,\n",
    "    OAuth2CallbackView,\n",
    "    OAuth2LoginView,\n",
    ")\n",
    "\n",
    "from .client import UntappdOAuth2Client"
   ]
  },
  {
   "cell_type": "markdown",
   "metadata": {},
   "source": []
  },
  {
   "cell_type": "code",
   "execution_count": null,
   "metadata": {},
   "outputs": [],
   "source": [
    "class UntappdOAuth2Adapter(OAuth2Adapter):\n",
    "    client_class = UntappdOAuth2Client\n",
    "    provider_id = \"untappd\"\n",
    "    access_token_url = \"https://untappd.com/oauth/authorize/\"\n",
    "    access_token_method = \"GET\"\n",
    "    authorize_url = \"https://untappd.com/oauth/authenticate/\"\n",
    "    user_info_url = \"https://api.untappd.com/v4/user/info/\"\n",
    "\n",
    "    def complete_login(self, request, app, token, **kwargs):\n",
    "        resp = (\n",
    "            get_adapter()\n",
    "            .get_requests_session()\n",
    "            .get(self.user_info_url, params={\"access_token\": token.token})\n",
    "        )\n",
    "        extra_data = resp.json()\n",
    "        # TODO: get and store the email from the user info json\n",
    "        return self.get_provider().sociallogin_from_response(request, extra_data)"
   ]
  },
  {
   "cell_type": "markdown",
   "metadata": {},
   "source": []
  },
  {
   "cell_type": "code",
   "execution_count": null,
   "metadata": {},
   "outputs": [],
   "source": [
    "oauth2_login = OAuth2LoginView.adapter_view(UntappdOAuth2Adapter)\n",
    "oauth2_callback = OAuth2CallbackView.adapter_view(UntappdOAuth2Adapter)"
   ]
  },
  {
   "cell_type": "markdown",
   "metadata": {},
   "source": []
  }
 ],
 "metadata": {
  "language_info": {
   "name": "python"
  }
 },
 "nbformat": 4,
 "nbformat_minor": 2
}