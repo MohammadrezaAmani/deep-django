{
    "cells": [
        {
            "cell_type": "code",
            "execution_count": null,
            "metadata": {},
            "outputs": [],
            "source": [
                "from django.urls import reverse\n",
                "\n",
                "from allauth.account.models import EmailAddress\n",
                "from allauth.socialaccount.providers.base import ProviderAccount\n",
                "from allauth.socialaccount.providers.oauth2.provider import OAuth2Provider\n",
                "from allauth.socialaccount.providers.untappd.views import UntappdOAuth2Adapter\n"
            ]
        },
        {
            "cell_type": "markdown",
            "metadata": {},
            "source": []
        },
        {
            "cell_type": "code",
            "execution_count": null,
            "metadata": {},
            "outputs": [],
            "source": [
                "class UntappdAccount(ProviderAccount):\n",
                "    def get_profile_url(self):\n",
                "        return self.account.extra_data.get(\"untappd_url\")\n",
                "\n",
                "    def get_avatar_url(self):\n",
                "        return self.account.extra_data.get(\"user_avatar\")\n",
                "\n",
                "    def to_str(self):\n",
                "        dflt = super(UntappdAccount, self).to_str()\n",
                "        return self.account.extra_data.get(\"user_name\", dflt)\n"
            ]
        },
        {
            "cell_type": "markdown",
            "metadata": {},
            "source": []
        },
        {
            "cell_type": "code",
            "execution_count": null,
            "metadata": {},
            "outputs": [],
            "source": [
                "class UntappdProvider(OAuth2Provider):\n",
                "    id = \"untappd\"\n",
                "    name = \"Untappd\"\n",
                "    account_class = UntappdAccount\n",
                "    oauth2_adapter_class = UntappdOAuth2Adapter\n",
                "\n",
                "    def get_auth_params_from_request(self, request, action):\n",
                "        params = super().get_auth_params_from_request(request, action)\n",
                "        # Untappd uses redirect_url instead of redirect_uri\n",
                "        params[\"redirect_url\"] = request.build_absolute_uri(\n",
                "            reverse(self.id + \"_callback\")\n",
                "        )\n",
                "        return params\n",
                "\n",
                "    def extract_uid(self, data):\n",
                "        return str(data[\"response\"][\"user\"][\"uid\"])\n",
                "\n",
                "    def extract_common_fields(self, data):\n",
                "        user = data[\"response\"][\"user\"]\n",
                "        return dict(\n",
                "            username=user[\"user_name\"],\n",
                "            name=user[\"first_name\"] + \" \" + user[\"last_name\"],\n",
                "        )\n",
                "\n",
                "    def extract_email_addresses(self, data):\n",
                "        ret = [\n",
                "            EmailAddress(\n",
                "                email=data[\"response\"][\"user\"][\"settings\"][\"email_address\"],\n",
                "                verified=True,\n",
                "                primary=True,\n",
                "            )\n",
                "        ]\n",
                "        return ret\n"
            ]
        },
        {
            "cell_type": "markdown",
            "metadata": {},
            "source": []
        },
        {
            "cell_type": "code",
            "execution_count": null,
            "metadata": {},
            "outputs": [],
            "source": [
                "provider_classes = [UntappdProvider]\n",
                "\n"
            ]
        },
        {
            "cell_type": "markdown",
            "metadata": {},
            "source": []
        }
    ],
    "metadata": {
        "language_info": {
            "name": "python"
        }
    },
    "nbformat": 4,
    "nbformat_minor": 2
}