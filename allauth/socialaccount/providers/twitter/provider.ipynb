{
 "cells": [
  {
   "cell_type": "code",
   "execution_count": null,
   "metadata": {},
   "outputs": [],
   "source": [
    "from allauth.socialaccount.providers.base import AuthAction, ProviderAccount\n",
    "from allauth.socialaccount.providers.oauth.provider import OAuthProvider"
   ]
  },
  {
   "cell_type": "markdown",
   "metadata": {},
   "source": []
  },
  {
   "cell_type": "code",
   "execution_count": null,
   "metadata": {},
   "outputs": [],
   "source": [
    "class TwitterAccount(ProviderAccount):\n",
    "    def get_screen_name(self):\n",
    "        return self.account.extra_data.get(\"screen_name\")\n",
    "\n",
    "    def get_profile_url(self):\n",
    "        ret = None\n",
    "        screen_name = self.get_screen_name()\n",
    "        if screen_name:\n",
    "            ret = \"http://twitter.com/\" + screen_name\n",
    "        return ret\n",
    "\n",
    "    def get_avatar_url(self):\n",
    "        ret = None\n",
    "        profile_image_url = self.account.extra_data.get(\"profile_image_url\")\n",
    "        if profile_image_url:\n",
    "            # Hmm, hack to get our hands on the large image.  Not\n",
    "            # really documented, but seems to work.\n",
    "            ret = profile_image_url.replace(\"_normal\", \"\")\n",
    "        return ret\n",
    "\n",
    "    def to_str(self):\n",
    "        screen_name = self.get_screen_name()\n",
    "        return screen_name or super(TwitterAccount, self).to_str()"
   ]
  },
  {
   "cell_type": "markdown",
   "metadata": {},
   "source": []
  },
  {
   "cell_type": "code",
   "execution_count": null,
   "metadata": {},
   "outputs": [],
   "source": [
    "class TwitterProvider(OAuthProvider):\n",
    "    id = \"twitter\"\n",
    "    name = \"Twitter\"\n",
    "    account_class = TwitterAccount\n",
    "\n",
    "    def get_auth_url(self, request, action):\n",
    "        if action == AuthAction.REAUTHENTICATE:\n",
    "            url = \"https://api.twitter.com/oauth/authorize\"\n",
    "        else:\n",
    "            url = \"https://api.twitter.com/oauth/authenticate\"\n",
    "        return url\n",
    "\n",
    "    def extract_uid(self, data):\n",
    "        return str(data[\"id\"])\n",
    "\n",
    "    def extract_common_fields(self, data):\n",
    "        return dict(\n",
    "            username=data.get(\"screen_name\"),\n",
    "            name=data.get(\"name\"),\n",
    "            email=data.get(\"email\"),\n",
    "        )"
   ]
  },
  {
   "cell_type": "markdown",
   "metadata": {},
   "source": []
  },
  {
   "cell_type": "code",
   "execution_count": null,
   "metadata": {},
   "outputs": [],
   "source": [
    "provider_classes = [TwitterProvider]"
   ]
  },
  {
   "cell_type": "markdown",
   "metadata": {},
   "source": []
  }
 ],
 "metadata": {
  "language_info": {
   "name": "python"
  }
 },
 "nbformat": 4,
 "nbformat_minor": 2
}