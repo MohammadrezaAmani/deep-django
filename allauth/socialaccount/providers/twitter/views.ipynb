{
    "cells": [
        {
            "cell_type": "code",
            "execution_count": null,
            "metadata": {},
            "outputs": [],
            "source": [
                "import json\n",
                "\n",
                "from allauth.socialaccount.app_settings import QUERY_EMAIL\n",
                "from allauth.socialaccount.providers.oauth.client import OAuth\n",
                "from allauth.socialaccount.providers.oauth.views import (\n",
                "    OAuthAdapter,\n",
                "    OAuthCallbackView,\n",
                "    OAuthLoginView,\n",
                ")\n",
                "\n",
                "from .provider import TwitterProvider\n"
            ]
        },
        {
            "cell_type": "markdown",
            "metadata": {},
            "source": []
        },
        {
            "cell_type": "code",
            "execution_count": null,
            "metadata": {},
            "outputs": [],
            "source": [
                "class TwitterAPI(OAuth):\n",
                "    \"\"\"\n",
                "    Verifying twitter credentials\n",
                "    \"\"\"\n",
                "\n",
                "    _base_url = \"https://api.twitter.com/1.1/account/verify_credentials.json\"\n",
                "    url = _base_url + \"?include_email=true\" if QUERY_EMAIL else _base_url\n",
                "\n",
                "    def get_user_info(self):\n",
                "        user = json.loads(self.query(self.url))\n",
                "        return user\n"
            ]
        },
        {
            "cell_type": "markdown",
            "metadata": {},
            "source": []
        },
        {
            "cell_type": "code",
            "execution_count": null,
            "metadata": {},
            "outputs": [],
            "source": [
                "class TwitterOAuthAdapter(OAuthAdapter):\n",
                "    provider_id = TwitterProvider.id\n",
                "    request_token_url = \"https://api.twitter.com/oauth/request_token\"\n",
                "    access_token_url = \"https://api.twitter.com/oauth/access_token\"\n",
                "    # Issue #42 -- this one authenticates over and over again...\n",
                "    # authorize_url = 'https://api.twitter.com/oauth/authorize'\n",
                "    authorize_url = \"https://api.twitter.com/oauth/authenticate\"\n",
                "\n",
                "    def complete_login(self, request, app, token, response):\n",
                "        client = TwitterAPI(request, app.client_id, app.secret, self.request_token_url)\n",
                "        extra_data = client.get_user_info()\n",
                "        return self.get_provider().sociallogin_from_response(request, extra_data)\n"
            ]
        },
        {
            "cell_type": "markdown",
            "metadata": {},
            "source": []
        },
        {
            "cell_type": "code",
            "execution_count": null,
            "metadata": {},
            "outputs": [],
            "source": [
                "oauth_login = OAuthLoginView.adapter_view(TwitterOAuthAdapter)\n",
                "oauth_callback = OAuthCallbackView.adapter_view(TwitterOAuthAdapter)\n",
                "\n"
            ]
        },
        {
            "cell_type": "markdown",
            "metadata": {},
            "source": []
        }
    ],
    "metadata": {
        "language_info": {
            "name": "python"
        }
    },
    "nbformat": 4,
    "nbformat_minor": 2
}