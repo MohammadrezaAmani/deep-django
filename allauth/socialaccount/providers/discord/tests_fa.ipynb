{
    "cells": [
        {
            "cell_type": "code",
            "execution_count": null,
            "metadata": {},
            "outputs": [],
            "source": [
                "from allauth.account.models import EmailAddress\n",
                "from allauth.account.utils import user_email, user_username\n",
                "from allauth.socialaccount.models import SocialAccount\n",
                "from allauth.socialaccount.providers.discord.provider import DiscordProvider\n",
                "from allauth.socialaccount.tests import OAuth2TestsMixin\n",
                "from allauth.tests import MockedResponse, TestCase\n",
                "from django.contrib.auth import get_user_model\n"
            ]
        },
        {
            "cell_type": "markdown",
            "metadata": {},
            "source": []
        },
        {
            "cell_type": "code",
            "execution_count": null,
            "metadata": {},
            "outputs": [],
            "source": [
                "class DiscordTests(OAuth2TestsMixin, TestCase):\n",
                "    provider_id = DiscordProvider.id\n",
                "\n",
                "    def get_mocked_response(self):\n",
                "        return MockedResponse(\n",
                "            200,\n",
                "            \"\"\"{\n",
                "            \"id\": \"80351110224678912\",\n",
                "            \"username\": \"nelly\",\n",
                "            \"discriminator\": \"0\",\n",
                "            \"global_name\": \"Nelly\",\n",
                "            \"avatar\": \"8342729096ea3675442027381ff50dfe\",\n",
                "            \"verified\": true,\n",
                "            \"email\": \"nelly@example.com\"\n",
                "        }\"\"\",\n",
                "        )\n",
                "\n",
                "    def test_display_name(self, multiple_login=False):\n",
                "        email = \"user@example.com\"\n",
                "        user = get_user_model()(is_active=True)\n",
                "        user_email(user, email)\n",
                "        user_username(user, \"user\")\n",
                "        user.set_password(\"test\")\n",
                "        user.save()\n",
                "        EmailAddress.objects.create(user=user, email=email, primary=True, verified=True)\n",
                "        self.client.login(username=user.username, password=\"test\")\n",
                "        self.login(self.get_mocked_response(), process=\"connect\")\n",
                "        if multiple_login:\n",
                "            self.login(\n",
                "                self.get_mocked_response(),\n",
                "                with_refresh_token=False,\n",
                "                process=\"connect\",\n",
                "            )\n",
                "\n",
                "        # get account\n",
                "        sa = SocialAccount.objects.filter(user=user, provider=self.provider.id).get()\n",
                "        # The following lines don't actually test that much, but at least\n",
                "        # we make sure that the code is hit.\n",
                "        provider_account = sa.get_provider_account()\n",
                "        self.assertEqual(provider_account.to_str(), \"Nelly\")\n"
            ]
        },
        {
            "cell_type": "markdown",
            "metadata": {},
            "source": []
        },
        {
            "cell_type": "code",
            "execution_count": null,
            "metadata": {},
            "outputs": [],
            "source": [
                "class OldDiscordTests(DiscordTests, TestCase):\n",
                "    provider_id = DiscordProvider.id\n",
                "\n",
                "    def get_mocked_response(self):\n",
                "        return MockedResponse(\n",
                "            200,\n",
                "            \"\"\"{\n",
                "            \"id\": \"80351110224678912\",\n",
                "            \"username\": \"Nelly\",\n",
                "            \"discriminator\": \"1337\",\n",
                "            \"avatar\": \"8342729096ea3675442027381ff50dfe\",\n",
                "            \"verified\": true,\n",
                "            \"email\": \"nelly@example.com\"\n",
                "        }\"\"\",\n",
                "        )\n",
                "\n",
                "    def test_display_name(self, multiple_login=False):\n",
                "        email = \"user@example.com\"\n",
                "        user = get_user_model()(is_active=True)\n",
                "        user_email(user, email)\n",
                "        user_username(user, \"user\")\n",
                "        user.set_password(\"test\")\n",
                "        user.save()\n",
                "        EmailAddress.objects.create(user=user, email=email, primary=True, verified=True)\n",
                "        self.client.login(username=user.username, password=\"test\")\n",
                "        self.login(self.get_mocked_response(), process=\"connect\")\n",
                "        if multiple_login:\n",
                "            self.login(\n",
                "                self.get_mocked_response(),\n",
                "                with_refresh_token=False,\n",
                "                process=\"connect\",\n",
                "            )\n",
                "\n",
                "        # get account\n",
                "        sa = SocialAccount.objects.filter(user=user, provider=self.provider.id).get()\n",
                "        # The following lines don't actually test that much, but at least\n",
                "        # we make sure that the code is hit.\n",
                "        provider_account = sa.get_provider_account()\n",
                "        self.assertEqual(provider_account.to_str(), \"Nelly#1337\")\n",
                "\n"
            ]
        },
        {
            "cell_type": "markdown",
            "metadata": {},
            "source": []
        }
    ],
    "metadata": {
        "language_info": {
            "name": "python"
        }
    },
    "nbformat": 4,
    "nbformat_minor": 2
}