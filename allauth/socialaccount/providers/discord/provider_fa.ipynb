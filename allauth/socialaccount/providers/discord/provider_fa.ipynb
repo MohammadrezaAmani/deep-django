{
    "cells": [
        {
            "cell_type": "code",
            "execution_count": null,
            "metadata": {},
            "outputs": [],
            "source": [
                "from allauth.account.models import EmailAddress\n",
                "from allauth.socialaccount.providers.base import ProviderAccount\n",
                "from allauth.socialaccount.providers.discord.views import DiscordOAuth2Adapter\n",
                "from allauth.socialaccount.providers.oauth2.provider import OAuth2Provider\n"
            ]
        },
        {
            "cell_type": "markdown",
            "metadata": {},
            "source": []
        },
        {
            "cell_type": "code",
            "execution_count": null,
            "metadata": {},
            "outputs": [],
            "source": [
                "class DiscordAccount(ProviderAccount):\n",
                "    def validate_descriminator(self, discriminator):\n",
                "        if not isinstance(discriminator, str):\n",
                "            return False\n",
                "\n",
                "        # As of 2023-06-22, Discord returns string literal '0' for users\n",
                "        # with no discriminator\n",
                "\n",
                "        return len(discriminator) == 4 if discriminator.isdigit() else False\n",
                "\n",
                "    def is_new_username_system(self):\n",
                "        if not isinstance(self.account.extra_data, dict):\n",
                "            return None\n",
                "\n",
                "        discriminator = self.account.extra_data.get(\"discriminator\")\n",
                "\n",
                "        if self.validate_descriminator(discriminator):\n",
                "            return False\n",
                "\n",
                "        if self.account.extra_data.get(\"global_name\") is not None:\n",
                "            return True\n",
                "\n",
                "        return None\n",
                "\n",
                "    def to_str(self):\n",
                "        fallback = super(DiscordAccount, self).to_str()\n",
                "\n",
                "        # If the extra_data is malformed, exit early\n",
                "        if not isinstance(self.account.extra_data, dict):\n",
                "            return fallback\n",
                "\n",
                "        is_new_system = self.is_new_username_system()\n",
                "\n",
                "        if is_new_system is None:\n",
                "            # We couldn't determine if the username is new or old\n",
                "            #  so we'll just return the username on it's own.\n",
                "            display_name = self.account.extra_data.get(\"username\")\n",
                "        elif is_new_system:\n",
                "            # global_name can be None or even undefined\n",
                "            #  so we'll use the username as a fallback\n",
                "            global_name = self.account.extra_data.get(\"global_name\")\n",
                "            username = self.account.extra_data.get(\"username\")\n",
                "            display_name = global_name or username\n",
                "        else:\n",
                "            # Looks like it's the old username system\n",
                "            #  so we'll just use the username and discriminator\n",
                "            display_name = \"{username}#{discriminator}\".format(\n",
                "                username=self.account.extra_data.get(\"username\"),\n",
                "                discriminator=self.account.extra_data.get(\"discriminator\"),\n",
                "            )\n",
                "\n",
                "        # It's very unlikely but still possible that the display_name is None\n",
                "        # so we'll return or'd against the fallback just incase. We don't want\n",
                "        # to return None as users of the library expect this to be str.\n",
                "        return display_name or fallback\n",
                "\n",
                "    def get_avatar_url(self):\n",
                "        if (\n",
                "            \"id\" in self.account.extra_data.keys()\n",
                "            and \"avatar\" in self.account.extra_data.keys()\n",
                "        ):\n",
                "            return \"https://cdn.discordapp.com/avatars/{id}/{avatar}.png\".format(\n",
                "                **self.account.extra_data\n",
                "            )\n"
            ]
        },
        {
            "cell_type": "markdown",
            "metadata": {},
            "source": []
        },
        {
            "cell_type": "code",
            "execution_count": null,
            "metadata": {},
            "outputs": [],
            "source": [
                "class DiscordProvider(OAuth2Provider):\n",
                "    id = \"discord\"\n",
                "    name = \"Discord\"\n",
                "    account_class = DiscordAccount\n",
                "    oauth2_adapter_class = DiscordOAuth2Adapter\n",
                "\n",
                "    def extract_uid(self, data):\n",
                "        return str(data[\"id\"])\n",
                "\n",
                "    def extract_common_fields(self, data):\n",
                "        return dict(\n",
                "            email=data.get(\"email\"),\n",
                "            username=data.get(\"username\"),\n",
                "            name=data.get(\"username\"),\n",
                "        )\n",
                "\n",
                "    def get_default_scope(self):\n",
                "        return [\"email\", \"identify\"]\n",
                "\n",
                "    def extract_email_addresses(self, data):\n",
                "        ret = []\n",
                "        email = data.get(\"email\")\n",
                "        if email and data.get(\"verified\"):\n",
                "            ret.append(EmailAddress(email=email, verified=True, primary=True))\n",
                "        return ret\n"
            ]
        },
        {
            "cell_type": "markdown",
            "metadata": {},
            "source": []
        },
        {
            "cell_type": "code",
            "execution_count": null,
            "metadata": {},
            "outputs": [],
            "source": [
                "provider_classes = [DiscordProvider]\n",
                "\n"
            ]
        },
        {
            "cell_type": "markdown",
            "metadata": {},
            "source": []
        }
    ],
    "metadata": {
        "language_info": {
            "name": "python"
        }
    },
    "nbformat": 4,
    "nbformat_minor": 2
}