{
 "cells": [
  {
   "cell_type": "code",
   "execution_count": null,
   "metadata": {},
   "outputs": [],
   "source": [
    "from django.test.utils import override_settings\n",
    "\n",
    "from allauth.socialaccount.tests import OAuth2TestsMixin\n",
    "from allauth.tests import MockedResponse, TestCase\n",
    "\n",
    "from .provider import GlobusProvider"
   ]
  },
  {
   "cell_type": "markdown",
   "metadata": {},
   "source": []
  },
  {
   "cell_type": "code",
   "execution_count": null,
   "metadata": {},
   "outputs": [],
   "source": [
    "class GlobusTests(OAuth2TestsMixin, TestCase):\n",
    "    provider_id = GlobusProvider.id\n",
    "\n",
    "    @override_settings(SOCIALACCOUNT_QUERY_EMAIL=True)\n",
    "    def get_mocked_response(self):\n",
    "        return MockedResponse(\n",
    "            200,\n",
    "            \"\"\"\n",
    "        {\n",
    "            \"identity_provider_display_name\": \"University of Gozorpazorp\",\n",
    "            \"sub\": \"a6fc81e-4a6c1-97ac-b4c6-84ff6a8ce662\",\n",
    "            \"preferred_username\": \"morty@ugz.edu\",\n",
    "            \"identity_provider\": \"9a4c8312f-9432-9a7c-1654-6a987c6531fa\",\n",
    "            \"organization\": \"University of Gozorpazorp\",\n",
    "            \"email\": \"morty@ugz.edu\",\n",
    "            \"name\": \"Morty Smith\"\n",
    "        }\n",
    "        \"\"\",\n",
    "        )"
   ]
  },
  {
   "cell_type": "markdown",
   "metadata": {},
   "source": []
  }
 ],
 "metadata": {
  "language_info": {
   "name": "python"
  }
 },
 "nbformat": 4,
 "nbformat_minor": 2
}