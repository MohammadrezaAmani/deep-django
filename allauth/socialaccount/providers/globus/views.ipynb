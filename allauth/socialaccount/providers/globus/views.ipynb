{
    "cells": [
        {
            "cell_type": "code",
            "execution_count": null,
            "metadata": {},
            "outputs": [],
            "source": [
                "from allauth.socialaccount.adapter import get_adapter\n",
                "from allauth.socialaccount.providers.oauth2.views import (\n",
                "    OAuth2Adapter,\n",
                "    OAuth2CallbackView,\n",
                "    OAuth2LoginView,\n",
                ")\n"
            ]
        },
        {
            "cell_type": "markdown",
            "metadata": {},
            "source": []
        },
        {
            "cell_type": "code",
            "execution_count": null,
            "metadata": {},
            "outputs": [],
            "source": [
                "class GlobusOAuth2Adapter(OAuth2Adapter):\n",
                "    provider_id = \"globus\"\n",
                "    provider_default_url = \"https://auth.globus.org/v2/oauth2\"\n",
                "\n",
                "    provider_base_url = \"https://auth.globus.org/v2/oauth2\"\n",
                "\n",
                "    access_token_url = \"{0}/token\".format(provider_base_url)\n",
                "    authorize_url = \"{0}/authorize\".format(provider_base_url)\n",
                "    profile_url = \"{0}/userinfo\".format(provider_base_url)\n",
                "\n",
                "    def complete_login(self, request, app, token, response):\n",
                "        extra_data = (\n",
                "            get_adapter()\n",
                "            .get_requests_session()\n",
                "            .get(\n",
                "                self.profile_url,\n",
                "                params={\"access_token\": token.token},\n",
                "                headers={\n",
                "                    \"Authorization\": \"Bearer \" + token.token,\n",
                "                },\n",
                "            )\n",
                "        )\n",
                "\n",
                "        return self.get_provider().sociallogin_from_response(request, extra_data.json())\n"
            ]
        },
        {
            "cell_type": "markdown",
            "metadata": {},
            "source": []
        },
        {
            "cell_type": "code",
            "execution_count": null,
            "metadata": {},
            "outputs": [],
            "source": [
                "oauth2_login = OAuth2LoginView.adapter_view(GlobusOAuth2Adapter)\n",
                "oauth2_callback = OAuth2CallbackView.adapter_view(GlobusOAuth2Adapter)\n",
                "\n"
            ]
        },
        {
            "cell_type": "markdown",
            "metadata": {},
            "source": []
        }
    ],
    "metadata": {
        "language_info": {
            "name": "python"
        }
    },
    "nbformat": 4,
    "nbformat_minor": 2
}