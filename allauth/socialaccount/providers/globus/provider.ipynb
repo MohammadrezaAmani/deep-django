{
    "cells": [
        {
            "cell_type": "code",
            "execution_count": null,
            "metadata": {},
            "outputs": [],
            "source": [
                "from allauth.socialaccount import app_settings\n",
                "from allauth.socialaccount.providers.base import (\n",
                "    ProviderAccount,\n",
                "    ProviderException,\n",
                ")\n",
                "from allauth.socialaccount.providers.globus.views import GlobusOAuth2Adapter\n",
                "from allauth.socialaccount.providers.oauth2.provider import OAuth2Provider\n"
            ]
        },
        {
            "cell_type": "markdown",
            "metadata": {},
            "source": []
        },
        {
            "cell_type": "code",
            "execution_count": null,
            "metadata": {},
            "outputs": [],
            "source": [
                "class GlobusAccount(ProviderAccount):\n",
                "    def get_profile_url(self):\n",
                "        return self.account.extra_data.get(\"web_url\", \"dflt\")\n",
                "\n",
                "    def get_avatar_url(self):\n",
                "        return self.account.extra_data.get(\"avatar_url\", \"dflt\")\n",
                "\n",
                "    def to_str(self):\n",
                "        dflt = super(GlobusAccount, self).to_str()\n",
                "        return self.account.extra_data.get(\"name\", dflt)\n"
            ]
        },
        {
            "cell_type": "markdown",
            "metadata": {},
            "source": []
        },
        {
            "cell_type": "code",
            "execution_count": null,
            "metadata": {},
            "outputs": [],
            "source": [
                "class GlobusProvider(OAuth2Provider):\n",
                "    id = \"globus\"\n",
                "    name = \"Globus\"\n",
                "    account_class = GlobusAccount\n",
                "    oauth2_adapter_class = GlobusOAuth2Adapter\n",
                "\n",
                "    def extract_uid(self, data):\n",
                "        if \"sub\" not in data:\n",
                "            raise ProviderException(\"Globus OAuth error\", data)\n",
                "        return str(data[\"sub\"])\n",
                "\n",
                "    def extract_common_fields(self, data):\n",
                "        return dict(\n",
                "            email=data.get(\"email\"),\n",
                "            username=data.get(\"preferred_username\"),\n",
                "            name=data.get(\"name\"),\n",
                "        )\n",
                "\n",
                "    def get_default_scope(self):\n",
                "        scope = [\"openid\", \"profile\", \"offline_access\"]\n",
                "        if app_settings.QUERY_EMAIL:\n",
                "            scope.append(\"email\")\n",
                "        return scope\n"
            ]
        },
        {
            "cell_type": "markdown",
            "metadata": {},
            "source": []
        },
        {
            "cell_type": "code",
            "execution_count": null,
            "metadata": {},
            "outputs": [],
            "source": [
                "provider_classes = [GlobusProvider]\n",
                "\n"
            ]
        },
        {
            "cell_type": "markdown",
            "metadata": {},
            "source": []
        }
    ],
    "metadata": {
        "language_info": {
            "name": "python"
        }
    },
    "nbformat": 4,
    "nbformat_minor": 2
}