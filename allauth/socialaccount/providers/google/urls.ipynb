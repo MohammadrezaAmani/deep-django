{
    "cells": [
        {
            "cell_type": "code",
            "execution_count": null,
            "metadata": {},
            "outputs": [],
            "source": [
                "from django.urls import path\n",
                "\n",
                "from allauth.socialaccount.providers.google import views\n",
                "from allauth.socialaccount.providers.oauth2.urls import default_urlpatterns\n",
                "\n",
                "from .provider import GoogleProvider\n"
            ]
        },
        {
            "cell_type": "markdown",
            "metadata": {},
            "source": []
        },
        {
            "cell_type": "code",
            "execution_count": null,
            "metadata": {},
            "outputs": [],
            "source": [
                "urlpatterns = default_urlpatterns(GoogleProvider)\n",
                "\n",
                "urlpatterns += [\n",
                "    path(\n",
                "        \"google/login/token/\",\n",
                "        views.login_by_token,\n",
                "        name=\"google_login_by_token\",\n",
                "    ),\n",
                "]\n",
                "\n"
            ]
        },
        {
            "cell_type": "markdown",
            "metadata": {},
            "source": []
        }
    ],
    "metadata": {
        "language_info": {
            "name": "python"
        }
    },
    "nbformat": 4,
    "nbformat_minor": 2
}