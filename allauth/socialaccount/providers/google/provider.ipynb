{
 "cells": [
  {
   "cell_type": "code",
   "execution_count": null,
   "metadata": {},
   "outputs": [],
   "source": [
    "import requests\n",
    "\n",
    "from allauth.account.models import EmailAddress\n",
    "from allauth.socialaccount.adapter import get_adapter\n",
    "from allauth.socialaccount.app_settings import QUERY_EMAIL\n",
    "from allauth.socialaccount.providers.base import AuthAction, ProviderAccount\n",
    "from allauth.socialaccount.providers.google.views import GoogleOAuth2Adapter\n",
    "from allauth.socialaccount.providers.oauth2.client import OAuth2Error\n",
    "from allauth.socialaccount.providers.oauth2.provider import OAuth2Provider"
   ]
  },
  {
   "cell_type": "markdown",
   "metadata": {},
   "source": []
  },
  {
   "cell_type": "code",
   "execution_count": null,
   "metadata": {},
   "outputs": [],
   "source": [
    "class Scope(object):\n",
    "    EMAIL = \"email\"\n",
    "    PROFILE = \"profile\""
   ]
  },
  {
   "cell_type": "markdown",
   "metadata": {},
   "source": []
  },
  {
   "cell_type": "code",
   "execution_count": null,
   "metadata": {},
   "outputs": [],
   "source": [
    "class GoogleAccount(ProviderAccount):\n",
    "    \"\"\"\n",
    "    The account data can be in two formats. One, originating from\n",
    "    the /v2/userinfo endpoint:\n",
    "\n",
    "        {'email': 'john.doe@gmail.com',\n",
    "         'given_name': 'John',\n",
    "         'id': '12345678901234567890',\n",
    "         'locale': 'en',\n",
    "         'name': 'John',\n",
    "         'picture': 'https://lh3.googleusercontent.com/a/code',\n",
    "         'verified_email': True}\n",
    "\n",
    "    The second, which is the payload of the id_token:\n",
    "\n",
    "        {'at_hash': '-someHASH',\n",
    "         'aud': '123-pqr.apps.googleusercontent.com',\n",
    "         'azp': '123-pqr.apps.googleusercontent.com',\n",
    "         'email': 'john.doe@gmail.com',\n",
    "         'email_verified': True,\n",
    "         'exp': 1707297277,\n",
    "         'given_name': 'John',\n",
    "         'iat': 1707293677,\n",
    "         'iss': 'https://accounts.google.com',\n",
    "         'locale': 'en',\n",
    "         'name': 'John',\n",
    "         'picture': 'https://lh3.googleusercontent.com/a/code',\n",
    "         'sub': '12345678901234567890'}\n",
    "    \"\"\"\n",
    "\n",
    "    def get_profile_url(self):\n",
    "        return self.account.extra_data.get(\"link\")\n",
    "\n",
    "    def get_avatar_url(self):\n",
    "        return self.account.extra_data.get(\"picture\")\n",
    "\n",
    "    def to_str(self):\n",
    "        dflt = super(GoogleAccount, self).to_str()\n",
    "        return self.account.extra_data.get(\"name\", dflt)"
   ]
  },
  {
   "cell_type": "markdown",
   "metadata": {},
   "source": []
  },
  {
   "cell_type": "code",
   "execution_count": null,
   "metadata": {},
   "outputs": [],
   "source": [
    "class GoogleProvider(OAuth2Provider):\n",
    "    id = \"google\"\n",
    "    name = \"Google\"\n",
    "    account_class = GoogleAccount\n",
    "    oauth2_adapter_class = GoogleOAuth2Adapter\n",
    "    supports_token_authentication = True\n",
    "\n",
    "    def get_default_scope(self):\n",
    "        scope = [Scope.PROFILE]\n",
    "        if QUERY_EMAIL:\n",
    "            scope.append(Scope.EMAIL)\n",
    "        return scope\n",
    "\n",
    "    def get_auth_params_from_request(self, request, action):\n",
    "        ret = super().get_auth_params_from_request(request, action)\n",
    "        if action == AuthAction.REAUTHENTICATE:\n",
    "            ret[\"prompt\"] = \"select_account consent\"\n",
    "        return ret\n",
    "\n",
    "    def extract_uid(self, data):\n",
    "        if \"sub\" in data:\n",
    "            return data[\"sub\"]\n",
    "        return data[\"id\"]\n",
    "\n",
    "    def extract_common_fields(self, data):\n",
    "        return dict(\n",
    "            email=data.get(\"email\"),\n",
    "            last_name=data.get(\"family_name\"),\n",
    "            first_name=data.get(\"given_name\"),\n",
    "        )\n",
    "\n",
    "    def extract_email_addresses(self, data):\n",
    "        ret = []\n",
    "        email = data.get(\"email\")\n",
    "        if email:\n",
    "            verified = bool(data.get(\"email_verified\") or data.get(\"verified_email\"))\n",
    "            ret.append(EmailAddress(email=email, verified=verified, primary=True))\n",
    "        return ret\n",
    "\n",
    "    def verify_token(self, request, token):\n",
    "        from allauth.socialaccount.providers.google import views\n",
    "\n",
    "        credential = token.get(\"id_token\")\n",
    "        if not credential:\n",
    "            raise get_adapter().validation_error(\"invalid_token\")\n",
    "        try:\n",
    "            identity_data = views._verify_and_decode(\n",
    "                app=self.app, credential=credential\n",
    "            )\n",
    "        except (OAuth2Error, requests.RequestException) as e:\n",
    "            raise get_adapter().validation_error(\"invalid_token\") from e\n",
    "        login = self.sociallogin_from_response(request, identity_data)\n",
    "        return login"
   ]
  },
  {
   "cell_type": "markdown",
   "metadata": {},
   "source": []
  },
  {
   "cell_type": "code",
   "execution_count": null,
   "metadata": {},
   "outputs": [],
   "source": [
    "provider_classes = [GoogleProvider]"
   ]
  },
  {
   "cell_type": "markdown",
   "metadata": {},
   "source": []
  }
 ],
 "metadata": {
  "language_info": {
   "name": "python"
  }
 },
 "nbformat": 4,
 "nbformat_minor": 2
}