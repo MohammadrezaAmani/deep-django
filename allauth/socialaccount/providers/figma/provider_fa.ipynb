{
 "cells": [
  {
   "cell_type": "code",
   "execution_count": null,
   "metadata": {},
   "outputs": [],
   "source": [
    "from allauth.account.models import EmailAddress\n",
    "from allauth.socialaccount import providers\n",
    "from allauth.socialaccount.providers.base import ProviderAccount\n",
    "from allauth.socialaccount.providers.figma.views import FigmaOAuth2Adapter\n",
    "from allauth.socialaccount.providers.oauth2.provider import OAuth2Provider"
   ]
  },
  {
   "cell_type": "markdown",
   "metadata": {},
   "source": []
  },
  {
   "cell_type": "code",
   "execution_count": null,
   "metadata": {},
   "outputs": [],
   "source": [
    "class FigmaAccount(ProviderAccount):\n",
    "    def to_str(self):\n",
    "        return self.account.extra_data.get(\"handle\", \"\")\n",
    "\n",
    "    def get_avatar_url(self):\n",
    "        return self.account.extra_data.get(\"img_url\", \"\")"
   ]
  },
  {
   "cell_type": "markdown",
   "metadata": {},
   "source": []
  },
  {
   "cell_type": "code",
   "execution_count": null,
   "metadata": {},
   "outputs": [],
   "source": [
    "class FigmaProvider(OAuth2Provider):\n",
    "    id = \"figma\"\n",
    "    name = \"Figma\"\n",
    "    account_class = FigmaAccount\n",
    "    oauth2_adapter_class = FigmaOAuth2Adapter\n",
    "\n",
    "    def extract_uid(self, data):\n",
    "        return str(data[\"id\"])\n",
    "\n",
    "    def extract_common_fields(self, data):\n",
    "        return {\n",
    "            \"email\": data.get(\"email\"),\n",
    "            \"name\": data.get(\"handle\"),\n",
    "        }\n",
    "\n",
    "    def extract_email_addresses(self, data):\n",
    "        email = EmailAddress(\n",
    "            email=data.get(\"email\"),\n",
    "            primary=True,\n",
    "            verified=False,\n",
    "        )\n",
    "        return [email]"
   ]
  },
  {
   "cell_type": "markdown",
   "metadata": {},
   "source": []
  },
  {
   "cell_type": "code",
   "execution_count": null,
   "metadata": {},
   "outputs": [],
   "source": [
    "providers.registry.register(FigmaProvider)"
   ]
  },
  {
   "cell_type": "markdown",
   "metadata": {},
   "source": []
  }
 ],
 "metadata": {
  "language_info": {
   "name": "python"
  }
 },
 "nbformat": 4,
 "nbformat_minor": 2
}