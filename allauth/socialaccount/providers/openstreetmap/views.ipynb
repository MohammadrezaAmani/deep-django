{
 "cells": [
  {
   "cell_type": "code",
   "execution_count": null,
   "metadata": {},
   "outputs": [],
   "source": [
    "from xml.etree import ElementTree\n",
    "from xml.parsers.expat import ExpatError\n",
    "\n",
    "from allauth.socialaccount.providers.oauth.client import OAuth\n",
    "from allauth.socialaccount.providers.oauth.views import (\n",
    "    OAuthAdapter,\n",
    "    OAuthCallbackView,\n",
    "    OAuthLoginView,\n",
    ")\n",
    "\n",
    "from .provider import OpenStreetMapProvider"
   ]
  },
  {
   "cell_type": "markdown",
   "metadata": {},
   "source": []
  },
  {
   "cell_type": "code",
   "execution_count": null,
   "metadata": {},
   "outputs": [],
   "source": [
    "class OpenStreetMapAPI(OAuth):\n",
    "    url = \"https://api.openstreetmap.org/api/0.6/user/details\"\n",
    "\n",
    "    def get_user_info(self):\n",
    "        raw_xml = self.query(self.url)\n",
    "        try:\n",
    "            user_element = ElementTree.fromstring(raw_xml).find(\"user\")\n",
    "            user_info = user_element.attrib\n",
    "            user_avatar = user_element.find(\"img\")\n",
    "            if user_avatar is not None:\n",
    "                user_info.update({\"avatar\": user_avatar.attrib.get(\"href\")})\n",
    "            return user_info\n",
    "        except (ExpatError, KeyError, IndexError):\n",
    "            return None"
   ]
  },
  {
   "cell_type": "markdown",
   "metadata": {},
   "source": []
  },
  {
   "cell_type": "code",
   "execution_count": null,
   "metadata": {},
   "outputs": [],
   "source": [
    "class OpenStreetMapOAuthAdapter(OAuthAdapter):\n",
    "    provider_id = OpenStreetMapProvider.id\n",
    "    request_token_url = \"https://www.openstreetmap.org/oauth/request_token\"\n",
    "    access_token_url = \"https://www.openstreetmap.org/oauth/access_token\"\n",
    "    authorize_url = \"https://www.openstreetmap.org/oauth/authorize\"\n",
    "\n",
    "    def complete_login(self, request, app, token, response):\n",
    "        client = OpenStreetMapAPI(\n",
    "            request, app.client_id, app.secret, self.request_token_url\n",
    "        )\n",
    "        extra_data = client.get_user_info()\n",
    "        return self.get_provider().sociallogin_from_response(request, extra_data)"
   ]
  },
  {
   "cell_type": "markdown",
   "metadata": {},
   "source": []
  },
  {
   "cell_type": "code",
   "execution_count": null,
   "metadata": {},
   "outputs": [],
   "source": [
    "oauth_login = OAuthLoginView.adapter_view(OpenStreetMapOAuthAdapter)\n",
    "oauth_callback = OAuthCallbackView.adapter_view(OpenStreetMapOAuthAdapter)"
   ]
  },
  {
   "cell_type": "markdown",
   "metadata": {},
   "source": []
  }
 ],
 "metadata": {
  "language_info": {
   "name": "python"
  }
 },
 "nbformat": 4,
 "nbformat_minor": 2
}