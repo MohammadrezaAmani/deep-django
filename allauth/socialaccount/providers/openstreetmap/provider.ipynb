{
 "cells": [
  {
   "cell_type": "code",
   "execution_count": null,
   "metadata": {},
   "outputs": [],
   "source": [
    "from allauth.socialaccount.providers.base import ProviderAccount\n",
    "from allauth.socialaccount.providers.oauth.provider import OAuthProvider"
   ]
  },
  {
   "cell_type": "markdown",
   "metadata": {},
   "source": []
  },
  {
   "cell_type": "code",
   "execution_count": null,
   "metadata": {},
   "outputs": [],
   "source": [
    "class OpenStreetMapAccount(ProviderAccount):\n",
    "    def get_profile_url(self):\n",
    "        return (\n",
    "            \"https://www.openstreetmap.org/user/\"\n",
    "            + self.account.extra_data[\"display_name\"]\n",
    "        )\n",
    "\n",
    "    def get_avatar_url(self):\n",
    "        return self.account.extra_data.get(\"avatar\")\n",
    "\n",
    "    def get_username(self):\n",
    "        return self.account.extra_data[\"display_name\"]\n",
    "\n",
    "    def to_str(self):\n",
    "        return self.get_username()"
   ]
  },
  {
   "cell_type": "markdown",
   "metadata": {},
   "source": []
  },
  {
   "cell_type": "code",
   "execution_count": null,
   "metadata": {},
   "outputs": [],
   "source": [
    "class OpenStreetMapProvider(OAuthProvider):\n",
    "    id = \"openstreetmap\"\n",
    "    name = \"OpenStreetMap\"\n",
    "    account_class = OpenStreetMapAccount\n",
    "\n",
    "    def extract_uid(self, data):\n",
    "        return data[\"id\"]\n",
    "\n",
    "    def extract_common_fields(self, data):\n",
    "        return dict(username=data[\"display_name\"])"
   ]
  },
  {
   "cell_type": "markdown",
   "metadata": {},
   "source": []
  },
  {
   "cell_type": "code",
   "execution_count": null,
   "metadata": {},
   "outputs": [],
   "source": [
    "provider_classes = [OpenStreetMapProvider]"
   ]
  },
  {
   "cell_type": "markdown",
   "metadata": {},
   "source": []
  }
 ],
 "metadata": {
  "language_info": {
   "name": "python"
  }
 },
 "nbformat": 4,
 "nbformat_minor": 2
}