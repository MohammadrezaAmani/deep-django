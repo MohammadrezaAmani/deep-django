{
 "cells": [
  {
   "cell_type": "code",
   "execution_count": null,
   "metadata": {},
   "outputs": [],
   "source": [
    "# -*- coding: utf-8 -*-\n",
    "from allauth.socialaccount.tests import OAuthTestsMixin\n",
    "from allauth.tests import MockedResponse, TestCase\n",
    "\n",
    "from .provider import OpenStreetMapProvider"
   ]
  },
  {
   "cell_type": "markdown",
   "metadata": {},
   "source": []
  },
  {
   "cell_type": "code",
   "execution_count": null,
   "metadata": {},
   "outputs": [],
   "source": [
    "class OpenStreetMapTests(OAuthTestsMixin, TestCase):\n",
    "    provider_id = OpenStreetMapProvider.id\n",
    "\n",
    "    def get_mocked_response(self):\n",
    "        return [\n",
    "            MockedResponse(\n",
    "                200,\n",
    "                r\"\"\"<?xml version=\"1.0\" encoding=\"UTF-8\"?>\n",
    "<osm version=\"0.6\" generator=\"OpenStreetMap server\" copyright=\"OpenStreetMap and contributors\" attribution=\"http://www.openstreetmap.org/copyright\" license=\"http://opendatacommons.org/licenses/odbl/1-0/\">\n",
    "<user id=\"1\" display_name=\"Steve\" account_created=\"2005-09-13T15:32:57Z\">\n",
    "  <description></description>\n",
    "  <contributor-terms agreed=\"true\"/>\n",
    "  <img href=\"https://secure.gravatar.com/avatar.jpg\"/>\n",
    "  <roles>\n",
    "  </roles>\n",
    "  <changesets count=\"899\"/>\n",
    "  <traces count=\"21\"/>\n",
    "  <blocks>\n",
    "    <received count=\"0\" active=\"0\"/>\n",
    "  </blocks>\n",
    "</user>\n",
    "</osm>\n",
    "\"\"\",\n",
    "            )\n",
    "        ]  # noqa\n",
    "\n",
    "    def test_login(self):\n",
    "        account = super(OpenStreetMapTests, self).test_login()\n",
    "        osm_account = account.get_provider_account()\n",
    "        self.assertEqual(osm_account.get_username(), \"Steve\")\n",
    "        self.assertEqual(\n",
    "            osm_account.get_avatar_url(),\n",
    "            \"https://secure.gravatar.com/avatar.jpg\",\n",
    "        )\n",
    "        self.assertEqual(\n",
    "            osm_account.get_profile_url(),\n",
    "            \"https://www.openstreetmap.org/user/Steve\",\n",
    "        )"
   ]
  },
  {
   "cell_type": "markdown",
   "metadata": {},
   "source": []
  }
 ],
 "metadata": {
  "language_info": {
   "name": "python"
  }
 },
 "nbformat": 4,
 "nbformat_minor": 2
}