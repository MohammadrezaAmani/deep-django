{
 "cells": [
  {
   "cell_type": "code",
   "execution_count": null,
   "metadata": {},
   "outputs": [],
   "source": [
    "from allauth.socialaccount.adapter import get_adapter\n",
    "from allauth.socialaccount.providers.oauth2.views import (\n",
    "    OAuth2Adapter,\n",
    "    OAuth2CallbackView,\n",
    "    OAuth2LoginView,\n",
    ")"
   ]
  },
  {
   "cell_type": "markdown",
   "metadata": {},
   "source": []
  },
  {
   "cell_type": "code",
   "execution_count": null,
   "metadata": {},
   "outputs": [],
   "source": [
    "class DropboxOAuth2Adapter(OAuth2Adapter):\n",
    "    provider_id = \"dropbox\"\n",
    "    access_token_url = \"https://api.dropbox.com/oauth2/token\"\n",
    "    authorize_url = \"https://www.dropbox.com/oauth2/authorize\"\n",
    "    profile_url = \"https://api.dropbox.com/2/users/get_current_account\"\n",
    "\n",
    "    def complete_login(self, request, app, token, **kwargs):\n",
    "        response = (\n",
    "            get_adapter()\n",
    "            .get_requests_session()\n",
    "            .post(\n",
    "                self.profile_url,\n",
    "                headers={\"Authorization\": \"Bearer %s\" % (token.token,)},\n",
    "            )\n",
    "        )\n",
    "        response.raise_for_status()\n",
    "        return self.get_provider().sociallogin_from_response(request, response.json())"
   ]
  },
  {
   "cell_type": "markdown",
   "metadata": {},
   "source": []
  },
  {
   "cell_type": "code",
   "execution_count": null,
   "metadata": {},
   "outputs": [],
   "source": [
    "oauth_login = OAuth2LoginView.adapter_view(DropboxOAuth2Adapter)\n",
    "oauth_callback = OAuth2CallbackView.adapter_view(DropboxOAuth2Adapter)"
   ]
  },
  {
   "cell_type": "markdown",
   "metadata": {},
   "source": []
  }
 ],
 "metadata": {
  "language_info": {
   "name": "python"
  }
 },
 "nbformat": 4,
 "nbformat_minor": 2
}