{
 "cells": [
  {
   "cell_type": "code",
   "execution_count": null,
   "metadata": {},
   "outputs": [],
   "source": [
    "# -*- coding: utf-8 -*-\n",
    "from __future__ import unicode_literals\n",
    "\n",
    "import json\n",
    "\n",
    "from allauth.socialaccount.tests import OAuth2TestsMixin\n",
    "from allauth.tests import MockedResponse, TestCase\n",
    "\n",
    "from .provider import DropboxOAuth2Provider"
   ]
  },
  {
   "cell_type": "markdown",
   "metadata": {},
   "source": []
  },
  {
   "cell_type": "code",
   "execution_count": null,
   "metadata": {},
   "outputs": [],
   "source": [
    "class DropboxOAuth2Tests(OAuth2TestsMixin, TestCase):\n",
    "    provider_id = DropboxOAuth2Provider.id\n",
    "\n",
    "    def get_mocked_response(self):\n",
    "        payload = {\n",
    "            \"account_id\": \"dbid:ASDFasd3ASdfasdFAsd1AS2ASDF1aS-DfAs\",\n",
    "            \"account_type\": {\".tag\": \"basic\"},\n",
    "            \"country\": \"US\",\n",
    "            \"disabled\": False,\n",
    "            \"email\": \"allauth@example.com\",\n",
    "            \"email_verified\": True,\n",
    "            \"is_paired\": True,\n",
    "            \"locale\": \"en\",\n",
    "            \"name\": {\n",
    "                \"abbreviated_name\": \"AA\",\n",
    "                \"display_name\": \"All Auth\",\n",
    "                \"familiar_name\": \"All\",\n",
    "                \"given_name\": \"All\",\n",
    "                \"surname\": \"Auth\",\n",
    "            },\n",
    "            \"profile_photo_url\": (\n",
    "                \"https://dl-web.dropbox.com/account_photo\"\n",
    "                \"/get/dbid%ASDFasd3ASdfasdFAsd1AS2ASDF1aS\"\n",
    "                \"-DfAs?size=128x128\"\n",
    "            ),\n",
    "            \"referral_link\": \"https://db.tt/ASDfAsDf\",\n",
    "        }\n",
    "        return MockedResponse(200, json.dumps(payload))"
   ]
  },
  {
   "cell_type": "markdown",
   "metadata": {},
   "source": []
  }
 ],
 "metadata": {
  "language_info": {
   "name": "python"
  }
 },
 "nbformat": 4,
 "nbformat_minor": 2
}