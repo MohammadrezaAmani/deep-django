{
 "cells": [
  {
   "cell_type": "code",
   "execution_count": null,
   "metadata": {},
   "outputs": [],
   "source": [
    "\"\"\"Customise Provider classes for Eventbrite API v3.\"\"\"\n",
    "from allauth.account.models import EmailAddress\n",
    "from allauth.socialaccount.providers.base import ProviderAccount\n",
    "from allauth.socialaccount.providers.eventbrite.views import (\n",
    "    EventbriteOAuth2Adapter,\n",
    ")\n",
    "from allauth.socialaccount.providers.oauth2.provider import OAuth2Provider"
   ]
  },
  {
   "cell_type": "markdown",
   "metadata": {},
   "source": []
  },
  {
   "cell_type": "code",
   "execution_count": null,
   "metadata": {},
   "outputs": [],
   "source": [
    "class EventbriteAccount(ProviderAccount):\n",
    "\n",
    "    \"\"\"ProviderAccount subclass for Eventbrite.\"\"\"\n",
    "\n",
    "    def get_avatar_url(self):\n",
    "        \"\"\"Return avatar url.\"\"\"\n",
    "        return self.account.extra_data[\"image_id\"]"
   ]
  },
  {
   "cell_type": "markdown",
   "metadata": {},
   "source": []
  },
  {
   "cell_type": "code",
   "execution_count": null,
   "metadata": {},
   "outputs": [],
   "source": [
    "class EventbriteProvider(OAuth2Provider):\n",
    "\n",
    "    \"\"\"OAuth2Provider subclass for Eventbrite.\"\"\"\n",
    "\n",
    "    id = \"eventbrite\"\n",
    "    name = \"Eventbrite\"\n",
    "    account_class = EventbriteAccount\n",
    "    oauth2_adapter_class = EventbriteOAuth2Adapter\n",
    "\n",
    "    def extract_uid(self, data):\n",
    "        \"\"\"Extract uid ('id') and ensure it's a str.\"\"\"\n",
    "        return str(data[\"id\"])\n",
    "\n",
    "    def get_default_scope(self):\n",
    "        \"\"\"Ensure scope is null to fit their API.\"\"\"\n",
    "        return [\"\"]\n",
    "\n",
    "    def extract_common_fields(self, data):\n",
    "        \"\"\"Extract fields from a basic user query.\"\"\"\n",
    "        email = None\n",
    "        for curr_email in data.get(\"emails\", []):\n",
    "            email = email or curr_email.get(\"email\")\n",
    "            if curr_email.get(\"verified\", False) and curr_email.get(\"primary\", False):\n",
    "                email = curr_email.get(\"email\")\n",
    "\n",
    "        return dict(\n",
    "            email=email,\n",
    "            id=data.get(\"id\"),\n",
    "            name=data.get(\"name\"),\n",
    "            first_name=data.get(\"first_name\"),\n",
    "            last_name=data.get(\"last_name\"),\n",
    "            image_url=data.get(\"image_url\"),\n",
    "        )\n",
    "\n",
    "    def extract_email_addresses(self, data):\n",
    "        addresses = []\n",
    "        for email in data.get(\"emails\", []):\n",
    "            addresses.append(\n",
    "                EmailAddress(\n",
    "                    email=email.get(\"email\"),\n",
    "                    verified=email.get(\"verified\"),\n",
    "                )\n",
    "            )\n",
    "\n",
    "        return addresses"
   ]
  },
  {
   "cell_type": "markdown",
   "metadata": {},
   "source": []
  },
  {
   "cell_type": "code",
   "execution_count": null,
   "metadata": {},
   "outputs": [],
   "source": [
    "provider_classes = [EventbriteProvider]"
   ]
  },
  {
   "cell_type": "markdown",
   "metadata": {},
   "source": []
  }
 ],
 "metadata": {
  "language_info": {
   "name": "python"
  }
 },
 "nbformat": 4,
 "nbformat_minor": 2
}