{
 "cells": [
  {
   "cell_type": "code",
   "execution_count": null,
   "metadata": {},
   "outputs": [],
   "source": [
    "\"\"\"Test Eventbrite OAuth2 v3 Flow.\"\"\"\n",
    "from allauth.socialaccount.tests import OAuth2TestsMixin\n",
    "from allauth.tests import MockedResponse, TestCase\n",
    "\n",
    "from .provider import EventbriteProvider"
   ]
  },
  {
   "cell_type": "markdown",
   "metadata": {},
   "source": []
  },
  {
   "cell_type": "code",
   "execution_count": null,
   "metadata": {},
   "outputs": [],
   "source": [
    "class EventbriteTests(OAuth2TestsMixin, TestCase):\n",
    "\n",
    "    \"\"\"Test Class for Eventbrite OAuth2 v3.\"\"\"\n",
    "\n",
    "    provider_id = EventbriteProvider.id\n",
    "\n",
    "    def get_mocked_response(self):\n",
    "        \"\"\"Test authentication with an non-null image_id\"\"\"\n",
    "        return MockedResponse(\n",
    "            200,\n",
    "            \"\"\"{\n",
    "            \"emails\": [{\n",
    "                \"email\": \"test@example.com\",\n",
    "                \"verified\": true\n",
    "            }],\n",
    "            \"id\": \"999999999\",\n",
    "            \"name\": \"Andrew Godwin\",\n",
    "            \"first_name\": \"Andrew\",\n",
    "            \"last_name\": \"Godwin\",\n",
    "            \"image_id\": \"99999999\"\n",
    "        }\"\"\",\n",
    "        )"
   ]
  },
  {
   "cell_type": "markdown",
   "metadata": {},
   "source": []
  }
 ],
 "metadata": {
  "language_info": {
   "name": "python"
  }
 },
 "nbformat": 4,
 "nbformat_minor": 2
}