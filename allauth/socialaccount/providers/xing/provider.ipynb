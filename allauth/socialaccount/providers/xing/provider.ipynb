{
    "cells": [
        {
            "cell_type": "code",
            "execution_count": null,
            "metadata": {},
            "outputs": [],
            "source": [
                "from allauth.socialaccount.providers.base import ProviderAccount\n",
                "from allauth.socialaccount.providers.oauth.provider import OAuthProvider\n"
            ]
        },
        {
            "cell_type": "markdown",
            "metadata": {},
            "source": []
        },
        {
            "cell_type": "code",
            "execution_count": null,
            "metadata": {},
            "outputs": [],
            "source": [
                "class XingAccount(ProviderAccount):\n",
                "    def get_profile_url(self):\n",
                "        return self.account.extra_data.get(\"permalink\")\n",
                "\n",
                "    def get_avatar_url(self):\n",
                "        return self.account.extra_data.get(\"photo_urls\", {}).get(\"large\")\n",
                "\n",
                "    def to_str(self):\n",
                "        dflt = super(XingAccount, self).to_str()\n",
                "        first_name = self.account.extra_data.get(\"first_name\", \"\")\n",
                "        last_name = self.account.extra_data.get(\"last_name\", \"\")\n",
                "        name = \" \".join([first_name, last_name]).strip()\n",
                "        return name or dflt\n"
            ]
        },
        {
            "cell_type": "markdown",
            "metadata": {},
            "source": []
        },
        {
            "cell_type": "code",
            "execution_count": null,
            "metadata": {},
            "outputs": [],
            "source": [
                "class XingProvider(OAuthProvider):\n",
                "    id = \"xing\"\n",
                "    name = \"Xing\"\n",
                "    account_class = XingAccount\n",
                "\n",
                "    def extract_uid(self, data):\n",
                "        return data[\"id\"]\n",
                "\n",
                "    def extract_common_fields(self, data):\n",
                "        return dict(\n",
                "            email=data.get(\"active_email\"),\n",
                "            username=data.get(\"page_name\"),\n",
                "            first_name=data.get(\"first_name\"),\n",
                "            last_name=data.get(\"last_name\"),\n",
                "        )\n"
            ]
        },
        {
            "cell_type": "markdown",
            "metadata": {},
            "source": []
        },
        {
            "cell_type": "code",
            "execution_count": null,
            "metadata": {},
            "outputs": [],
            "source": [
                "provider_classes = [XingProvider]\n",
                "\n"
            ]
        },
        {
            "cell_type": "markdown",
            "metadata": {},
            "source": []
        }
    ],
    "metadata": {
        "language_info": {
            "name": "python"
        }
    },
    "nbformat": 4,
    "nbformat_minor": 2
}