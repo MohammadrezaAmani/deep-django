{
    "cells": [
        {
            "cell_type": "code",
            "execution_count": null,
            "metadata": {},
            "outputs": [],
            "source": [
                "# -*- coding: utf-8 -*-\n",
                "from __future__ import unicode_literals\n",
                "\n",
                "from allauth.socialaccount.tests import OAuthTestsMixin\n",
                "from allauth.tests import MockedResponse, TestCase\n",
                "\n",
                "from .provider import XingProvider\n"
            ]
        },
        {
            "cell_type": "markdown",
            "metadata": {},
            "source": []
        },
        {
            "cell_type": "code",
            "execution_count": null,
            "metadata": {},
            "outputs": [],
            "source": [
                "class XingTests(OAuthTestsMixin, TestCase):\n",
                "    provider_id = XingProvider.id\n",
                "\n",
                "    def get_mocked_response(self):\n",
                "        return [\n",
                "            MockedResponse(\n",
                "                200,\n",
                "                \"\"\"\n",
                "{\"users\":[{\"id\":\"20493333_1cd028\",\"active_email\":\"raymond.penners@example.com\",\n",
                "\"badges\":[],\"birth_date\":{\"year\":null,\"month\":null,\"day\":null},\n",
                "\"business_address\":{\"street\":null,\"zip_code\":null,\"city\":null,\"province\":null,\n",
                "\"country\":\"NL\",\"email\":null,\"fax\":null,\"phone\":null,\"mobile_phone\":null},\n",
                "\"display_name\":\"Raymond Penners\",\"educational_background\":\n",
                "{\"primary_school_id\":null,\"schools\":[],\"qualifications\":[]},\n",
                "\"employment_status\":\"EMPLOYEE\",\"first_name\":\"Raymond\",\"gender\":\"m\",\n",
                "\"haves\":null,\"instant_messaging_accounts\":{},\"interests\":null,\"languages\":\n",
                "{\"nl\":null},\"last_name\":\"Penners\",\"organisation_member\":null,\n",
                "\"page_name\":\"Raymond_Penners\",\n",
                "\"permalink\":\"https://www.xing.com/profile/Raymond_Penners\",\n",
                "\"photo_urls\":{\"thumb\":\"https://www.xing.com/img/n/nobody_m.30x40.jpg\",\n",
                "\"large\":\"https://www.xing.com/img/n/nobody_m.140x185.jpg\",\"mini_thumb\":\n",
                "\"https://www.xing.com/img/n/nobody_m.18x24.jpg\",\"maxi_thumb\":\n",
                "\"https://www.xing.com/img/n/nobody_m.70x93.jpg\",\"medium_thumb\":\n",
                "\"https://www.xing.com/img/n/nobody_m.57x75.jpg\"},\"premium_services\":[],\n",
                "\"private_address\":{\"street\":null,\"zip_code\":null,\"city\":null,\"province\":null,\n",
                "\"country\":null,\"email\":\"raymond.penners@example.com\",\"fax\":null,\n",
                "\"phone\":null,\"mobile_phone\":null},\"professional_experience\":\n",
                "{\"primary_company\":{\"name\":null,\"url\":null,\"tag\":null,\"title\":null,\n",
                "\"begin_date\":null,\"end_date\":null,\"description\":null,\"industry\":\"OTHERS\",\n",
                "\"company_size\":null,\"career_level\":null},\"non_primary_companies\":[],\n",
                "\"awards\":[]},\"time_zone\":{\"utc_offset\":2.0,\"name\":\"Europe/Berlin\"},\n",
                "\"wants\":null,\"web_profiles\":{}}]}\n",
                "\n",
                "\"\"\",\n",
                "            )\n",
                "        ]\n",
                "\n"
            ]
        },
        {
            "cell_type": "markdown",
            "metadata": {},
            "source": []
        }
    ],
    "metadata": {
        "language_info": {
            "name": "python"
        }
    },
    "nbformat": 4,
    "nbformat_minor": 2
}