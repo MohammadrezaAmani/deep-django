{
 "cells": [
  {
   "cell_type": "code",
   "execution_count": null,
   "metadata": {},
   "outputs": [],
   "source": [
    "import json\n",
    "\n",
    "from allauth.socialaccount.providers.oauth.client import OAuth\n",
    "from allauth.socialaccount.providers.oauth.views import (\n",
    "    OAuthAdapter,\n",
    "    OAuthCallbackView,\n",
    "    OAuthLoginView,\n",
    ")\n",
    "\n",
    "from .provider import XingProvider"
   ]
  },
  {
   "cell_type": "markdown",
   "metadata": {},
   "source": []
  },
  {
   "cell_type": "code",
   "execution_count": null,
   "metadata": {},
   "outputs": [],
   "source": [
    "class XingAPI(OAuth):\n",
    "    url = \"https://api.xing.com/v1/users/me.json\"\n",
    "\n",
    "    def get_user_info(self):\n",
    "        user = json.loads(self.query(self.url))\n",
    "        return user"
   ]
  },
  {
   "cell_type": "markdown",
   "metadata": {},
   "source": []
  },
  {
   "cell_type": "code",
   "execution_count": null,
   "metadata": {},
   "outputs": [],
   "source": [
    "class XingOAuthAdapter(OAuthAdapter):\n",
    "    provider_id = XingProvider.id\n",
    "    request_token_url = \"https://api.xing.com/v1/request_token\"\n",
    "    access_token_url = \"https://api.xing.com/v1/access_token\"\n",
    "    authorize_url = \"https://www.xing.com/v1/authorize\"\n",
    "\n",
    "    def complete_login(self, request, app, token, response):\n",
    "        client = XingAPI(request, app.client_id, app.secret, self.request_token_url)\n",
    "        extra_data = client.get_user_info()[\"users\"][0]\n",
    "        return self.get_provider().sociallogin_from_response(request, extra_data)"
   ]
  },
  {
   "cell_type": "markdown",
   "metadata": {},
   "source": []
  },
  {
   "cell_type": "code",
   "execution_count": null,
   "metadata": {},
   "outputs": [],
   "source": [
    "oauth_login = OAuthLoginView.adapter_view(XingOAuthAdapter)\n",
    "oauth_callback = OAuthCallbackView.adapter_view(XingOAuthAdapter)"
   ]
  },
  {
   "cell_type": "markdown",
   "metadata": {},
   "source": []
  }
 ],
 "metadata": {
  "language_info": {
   "name": "python"
  }
 },
 "nbformat": 4,
 "nbformat_minor": 2
}