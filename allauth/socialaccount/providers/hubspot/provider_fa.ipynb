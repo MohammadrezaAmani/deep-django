{
 "cells": [
  {
   "cell_type": "code",
   "execution_count": null,
   "metadata": {},
   "outputs": [],
   "source": [
    "from allauth.account.models import EmailAddress\n",
    "from allauth.socialaccount.providers.base import ProviderAccount\n",
    "from allauth.socialaccount.providers.hubspot.views import HubspotOAuth2Adapter\n",
    "from allauth.socialaccount.providers.oauth2.provider import OAuth2Provider"
   ]
  },
  {
   "cell_type": "markdown",
   "metadata": {},
   "source": []
  },
  {
   "cell_type": "code",
   "execution_count": null,
   "metadata": {},
   "outputs": [],
   "source": [
    "class HubspotAccount(ProviderAccount):\n",
    "    pass"
   ]
  },
  {
   "cell_type": "markdown",
   "metadata": {},
   "source": []
  },
  {
   "cell_type": "code",
   "execution_count": null,
   "metadata": {},
   "outputs": [],
   "source": [
    "class HubspotProvider(OAuth2Provider):\n",
    "    id = \"hubspot\"\n",
    "    name = \"Hubspot\"\n",
    "    account_class = HubspotAccount\n",
    "    oauth2_adapter_class = HubspotOAuth2Adapter\n",
    "\n",
    "    def get_default_scope(self):\n",
    "        return [\"oauth\"]\n",
    "\n",
    "    def extract_uid(self, data):\n",
    "        return str(data[\"user_id\"])\n",
    "\n",
    "    def extract_common_fields(self, data):\n",
    "        return dict(email=data.get(\"user\"))\n",
    "\n",
    "    def extract_email_addresses(self, data):\n",
    "        ret = []\n",
    "        email = data.get(\"user\")\n",
    "        if email:\n",
    "            ret.append(EmailAddress(email=email, verified=True, primary=True))\n",
    "        return ret"
   ]
  },
  {
   "cell_type": "markdown",
   "metadata": {},
   "source": []
  },
  {
   "cell_type": "code",
   "execution_count": null,
   "metadata": {},
   "outputs": [],
   "source": [
    "provider_classes = [HubspotProvider]"
   ]
  },
  {
   "cell_type": "markdown",
   "metadata": {},
   "source": []
  }
 ],
 "metadata": {
  "language_info": {
   "name": "python"
  }
 },
 "nbformat": 4,
 "nbformat_minor": 2
}