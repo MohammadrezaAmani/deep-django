{
    "cells": [
        {
            "cell_type": "code",
            "execution_count": null,
            "metadata": {},
            "outputs": [],
            "source": [
                "from allauth.socialaccount.tests import OAuth2TestsMixin\n",
                "from allauth.tests import MockedResponse, TestCase\n",
                "\n",
                "from .provider import HubspotProvider\n"
            ]
        },
        {
            "cell_type": "markdown",
            "metadata": {},
            "source": []
        },
        {
            "cell_type": "code",
            "execution_count": null,
            "metadata": {},
            "outputs": [],
            "source": [
                "class HubspotTests(OAuth2TestsMixin, TestCase):\n",
                "    provider_id = HubspotProvider.id\n",
                "\n",
                "    def get_mocked_response(self):\n",
                "        return MockedResponse(\n",
                "            200,\n",
                "            \"\"\"{\n",
                "                    \"token\": \"CNye4dqFMBICAAEYhOKlDZZ_z6IVKI_xMjIUgmFsNQzgBjNE9YBmhAhNOtfN0ak6BAAAAEFCFIIwn2EVRLpvJI9hP4tbIeKHw7ZXSgNldTFSAFoA\",\n",
                "                    \"user\": \"m@acme.com\",\n",
                "                    \"hub_domain\": \"acme.com\",\n",
                "                    \"scopes\": [\"oauth\"],\n",
                "                    \"scope_to_scope_group_pks\": [25, 31],\n",
                "                    \"trial_scopes\": [],\n",
                "                    \"trial_scope_to_scope_group_pks\": [],\n",
                "                    \"hub_id\": 211580,\n",
                "                    \"app_id\": 833572,\n",
                "                    \"expires_in\": 1799,\n",
                "                    \"user_id\": 42607123,\n",
                "                    \"token_type\": \"access\"\n",
                "                }\"\"\",\n",
                "        )\n",
                "\n"
            ]
        },
        {
            "cell_type": "markdown",
            "metadata": {},
            "source": []
        }
    ],
    "metadata": {
        "language_info": {
            "name": "python"
        }
    },
    "nbformat": 4,
    "nbformat_minor": 2
}