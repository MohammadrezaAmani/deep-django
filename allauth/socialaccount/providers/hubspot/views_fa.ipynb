{
 "cells": [
  {
   "cell_type": "code",
   "execution_count": null,
   "metadata": {},
   "outputs": [],
   "source": [
    "\"\"\"Views for Hubspot API.\"\"\"\n",
    "from allauth.socialaccount.adapter import get_adapter\n",
    "from allauth.socialaccount.providers.oauth2.views import (\n",
    "    OAuth2Adapter,\n",
    "    OAuth2CallbackView,\n",
    "    OAuth2LoginView,\n",
    ")"
   ]
  },
  {
   "cell_type": "markdown",
   "metadata": {},
   "source": []
  },
  {
   "cell_type": "code",
   "execution_count": null,
   "metadata": {},
   "outputs": [],
   "source": [
    "class HubspotOAuth2Adapter(OAuth2Adapter):\n",
    "    \"\"\"OAuth2Adapter for Hubspot API v3.\"\"\"\n",
    "\n",
    "    provider_id = \"hubspot\"\n",
    "\n",
    "    authorize_url = \"https://app.hubspot.com/oauth/authorize\"\n",
    "    access_token_url = \"https://api.hubapi.com/oauth/v1/token\"\n",
    "    profile_url = \"https://api.hubapi.com/oauth/v1/access-tokens\"\n",
    "\n",
    "    def complete_login(self, request, app, token, **kwargs):\n",
    "        headers = {\"Content-Type\": \"application/json\"}\n",
    "        response = (\n",
    "            get_adapter()\n",
    "            .get_requests_session()\n",
    "            .get(\"{0}/{1}\".format(self.profile_url, token.token), headers=headers)\n",
    "        )\n",
    "        response.raise_for_status()\n",
    "        extra_data = response.json()\n",
    "        return self.get_provider().sociallogin_from_response(request, extra_data)"
   ]
  },
  {
   "cell_type": "markdown",
   "metadata": {},
   "source": []
  },
  {
   "cell_type": "code",
   "execution_count": null,
   "metadata": {},
   "outputs": [],
   "source": [
    "oauth2_login = OAuth2LoginView.adapter_view(HubspotOAuth2Adapter)\n",
    "oauth2_callback = OAuth2CallbackView.adapter_view(HubspotOAuth2Adapter)"
   ]
  },
  {
   "cell_type": "markdown",
   "metadata": {},
   "source": []
  }
 ],
 "metadata": {
  "language_info": {
   "name": "python"
  }
 },
 "nbformat": 4,
 "nbformat_minor": 2
}