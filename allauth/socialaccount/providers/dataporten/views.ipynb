{
    "cells": [
        {
            "cell_type": "code",
            "execution_count": null,
            "metadata": {},
            "outputs": [],
            "source": [
                "from allauth.socialaccount.adapter import get_adapter\n",
                "from allauth.socialaccount.providers.base import ProviderException\n",
                "from allauth.socialaccount.providers.oauth2.views import (\n",
                "    OAuth2Adapter,\n",
                "    OAuth2CallbackView,\n",
                "    OAuth2LoginView,\n",
                ")\n"
            ]
        },
        {
            "cell_type": "markdown",
            "metadata": {},
            "source": []
        },
        {
            "cell_type": "code",
            "execution_count": null,
            "metadata": {},
            "outputs": [],
            "source": [
                "class DataportenOAuth2Adapter(OAuth2Adapter):\n",
                "    provider_id = \"dataporten\"\n",
                "    access_token_url = \"https://auth.dataporten.no/oauth/token\"\n",
                "    authorize_url = \"https://auth.dataporten.no/oauth/authorization\"\n",
                "    profile_url = \"https://auth.dataporten.no/userinfo\"\n",
                "    groups_url = \"https://groups-api.dataporten.no/groups/\"\n",
                "\n",
                "    def complete_login(self, request, app, token, **kwargs):\n",
                "        \"\"\"\n",
                "        Arguments:\n",
                "            request - The get request to the callback URL\n",
                "                        /accounts/dataporten/login/callback.\n",
                "            app - The corresponding SocialApp model instance\n",
                "            token - A token object with access token given in token.token\n",
                "        Returns:\n",
                "            Should return a dict with user information intended for parsing\n",
                "            by the methods of the DataportenProvider view, i.e.\n",
                "            extract_uid(), extract_extra_data(), and extract_common_fields()\n",
                "        \"\"\"\n",
                "        # The authentication header\n",
                "        headers = {\"Authorization\": \"Bearer \" + token.token}\n",
                "\n",
                "        # Userinfo endpoint, for documentation see:\n",
                "        # https://docs.dataporten.no/docs/oauth-authentication/\n",
                "        userinfo_response = (\n",
                "            get_adapter()\n",
                "            .get_requests_session()\n",
                "            .get(\n",
                "                self.profile_url,\n",
                "                headers=headers,\n",
                "            )\n",
                "        )\n",
                "        # Raise exception for 4xx and 5xx response codes\n",
                "        userinfo_response.raise_for_status()\n",
                "\n",
                "        # The endpoint returns json-data and it needs to be decoded\n",
                "        extra_data = userinfo_response.json()[\"user\"]\n",
                "\n",
                "        # Finally test that the audience property matches the client id\n",
                "        # for validification reasons, as instructed by the Dataporten docs\n",
                "        # if the userinfo-response is used for authentication\n",
                "        if userinfo_response.json()[\"audience\"] != app.client_id:\n",
                "            raise ProviderException(\n",
                "                \"Dataporten returned a user with an audience field \\\n",
                "                 which does not correspond to the client id of the \\\n",
                "                 application.\"\n",
                "            )\n",
                "\n",
                "        return self.get_provider().sociallogin_from_response(\n",
                "            request,\n",
                "            extra_data,\n",
                "        )\n"
            ]
        },
        {
            "cell_type": "markdown",
            "metadata": {},
            "source": []
        },
        {
            "cell_type": "code",
            "execution_count": null,
            "metadata": {},
            "outputs": [],
            "source": [
                "oauth2_login = OAuth2LoginView.adapter_view(DataportenOAuth2Adapter)\n",
                "oauth2_callback = OAuth2CallbackView.adapter_view(DataportenOAuth2Adapter)\n",
                "\n"
            ]
        },
        {
            "cell_type": "markdown",
            "metadata": {},
            "source": []
        }
    ],
    "metadata": {
        "language_info": {
            "name": "python"
        }
    },
    "nbformat": 4,
    "nbformat_minor": 2
}