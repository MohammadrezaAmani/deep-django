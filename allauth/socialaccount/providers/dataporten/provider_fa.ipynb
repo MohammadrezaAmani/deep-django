{
    "cells": [
        {
            "cell_type": "code",
            "execution_count": null,
            "metadata": {},
            "outputs": [],
            "source": [
                "from allauth.socialaccount.providers.base import ProviderAccount\n",
                "from allauth.socialaccount.providers.dataporten.views import DataportenOAuth2Adapter\n",
                "from allauth.socialaccount.providers.oauth2.provider import OAuth2Provider\n"
            ]
        },
        {
            "cell_type": "markdown",
            "metadata": {},
            "source": []
        },
        {
            "cell_type": "code",
            "execution_count": null,
            "metadata": {},
            "outputs": [],
            "source": [
                "class DataportenAccount(ProviderAccount):\n",
                "    def get_avatar_url(self):\n",
                "        \"\"\"\n",
                "        Returns a valid URL to an 128x128 .png photo of the user\n",
                "        \"\"\"\n",
                "        # Documentation for user profile photos can be found here:\n",
                "        # https://docs.dataporten.no/docs/oauth-authentication/\n",
                "        base_url = \"https://api.dataporten.no/userinfo/v1/user/media/\"\n",
                "        return base_url + self.account.extra_data[\"profilephoto\"]\n",
                "\n",
                "    def to_str(self):\n",
                "        \"\"\"\n",
                "        Returns string representation of a social account. Includes the name\n",
                "        of the user.\n",
                "        \"\"\"\n",
                "        dflt = super(DataportenAccount, self).to_str()\n",
                "        return \"%s (%s)\" % (\n",
                "            self.account.extra_data.get(\"name\", \"\"),\n",
                "            dflt,\n",
                "        )\n"
            ]
        },
        {
            "cell_type": "markdown",
            "metadata": {},
            "source": []
        },
        {
            "cell_type": "code",
            "execution_count": null,
            "metadata": {},
            "outputs": [],
            "source": [
                "class DataportenProvider(OAuth2Provider):\n",
                "    id = \"dataporten\"\n",
                "    name = \"Dataporten\"\n",
                "    account_class = DataportenAccount\n",
                "    oauth2_adapter_class = DataportenOAuth2Adapter\n",
                "\n",
                "    def extract_uid(self, data):\n",
                "        \"\"\"\n",
                "        Returns the primary user identifier, an UUID string\n",
                "        See: https://docs.dataporten.no/docs/userid/\n",
                "        \"\"\"\n",
                "        return data[\"userid\"]\n",
                "\n",
                "    def extract_extra_data(self, data):\n",
                "        \"\"\"\n",
                "        Extracts fields from `data` that will be stored in\n",
                "        `SocialAccount`'s `extra_data` JSONField.\n",
                "\n",
                "        All the necessary data extraction has already been done in the\n",
                "        complete_login()-view, so we can just return the data.\n",
                "        PS: This is default behaviour, so we did not really need to define\n",
                "            this function, but it is included for documentation purposes.\n",
                "\n",
                "        Typical return dict:\n",
                "        {\n",
                "            \"userid\": \"76a7a061-3c55-430d-8ee0-6f82ec42501f\",\n",
                "            \"userid_sec\": [\"feide:andreas@uninett.no\"],\n",
                "            \"name\": \"Andreas \\u00c5kre Solberg\",\n",
                "            \"email\": \"andreas.solberg@uninett.no\",\n",
                "            \"profilephoto\": \"p:a3019954-902f-45a3-b4ee-bca7b48ab507\",\n",
                "        }\n",
                "        \"\"\"\n",
                "        return data\n",
                "\n",
                "    def extract_common_fields(self, data):\n",
                "        \"\"\"\n",
                "        This function extracts information from the /userinfo endpoint which\n",
                "        will be consumed by allauth.socialaccount.adapter.populate_user().\n",
                "        Look there to find which key-value pairs that should be saved in the\n",
                "        returned dict.\n",
                "\n",
                "        Typical return dict:\n",
                "        {\n",
                "            \"userid\": \"76a7a061-3c55-430d-8ee0-6f82ec42501f\",\n",
                "            \"userid_sec\": [\"feide:andreas@uninett.no\"],\n",
                "            \"name\": \"Andreas \\u00c5kre Solberg\",\n",
                "            \"email\": \"andreas.solberg@uninett.no\",\n",
                "            \"profilephoto\": \"p:a3019954-902f-45a3-b4ee-bca7b48ab507\",\n",
                "            \"username\": \"andreas\",\n",
                "        }\n",
                "        \"\"\"\n",
                "        # Make shallow copy to prevent possible mutability issues\n",
                "        data = dict(data)\n",
                "\n",
                "        # If a Feide username is available, use it. If not, use the \"username\"\n",
                "        # of the email-address\n",
                "        for userid in data.get(\"userid_sec\"):\n",
                "            usertype, username = userid.split(\":\")\n",
                "            if usertype == \"feide\":\n",
                "                data[\"username\"] = username.split(\"@\")[0]\n",
                "                break\n",
                "        else:\n",
                "            # Only entered if break is not executed above\n",
                "            data[\"username\"] = data.get(\"email\").split(\"@\")[0]\n",
                "\n",
                "        return data\n"
            ]
        },
        {
            "cell_type": "markdown",
            "metadata": {},
            "source": []
        },
        {
            "cell_type": "code",
            "execution_count": null,
            "metadata": {},
            "outputs": [],
            "source": [
                "provider_classes = [DataportenProvider]\n",
                "\n"
            ]
        },
        {
            "cell_type": "markdown",
            "metadata": {},
            "source": []
        }
    ],
    "metadata": {
        "language_info": {
            "name": "python"
        }
    },
    "nbformat": 4,
    "nbformat_minor": 2
}