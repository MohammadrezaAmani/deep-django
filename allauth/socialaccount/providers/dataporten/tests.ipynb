{
 "cells": [
  {
   "cell_type": "code",
   "execution_count": null,
   "metadata": {},
   "outputs": [],
   "source": [
    "from allauth.socialaccount.tests import OAuth2TestsMixin\n",
    "from allauth.tests import MockedResponse, TestCase\n",
    "\n",
    "from .provider import DataportenProvider"
   ]
  },
  {
   "cell_type": "markdown",
   "metadata": {},
   "source": []
  },
  {
   "cell_type": "code",
   "execution_count": null,
   "metadata": {},
   "outputs": [],
   "source": [
    "class DataportenTest(OAuth2TestsMixin, TestCase):\n",
    "    provider_id = DataportenProvider.id\n",
    "\n",
    "    def setUp(self):\n",
    "        super(DataportenTest, self).setUp()\n",
    "        self.mock_data = {\n",
    "            \"userid\": \"76a7a061-3c55-430d-8ee0-6f82ec42501f\",\n",
    "            \"userid_sec\": [\"feide:andreas@uninett.no\"],\n",
    "            \"name\": \"Andreas \\u00c5kre Solberg\",\n",
    "            \"email\": \"andreas.solberg@uninett.no\",\n",
    "            \"profilephoto\": \"p:a3019954-902f-45a3-b4ee-bca7b48ab507\",\n",
    "            \"groups\": [{}],\n",
    "        }\n",
    "\n",
    "    def get_login_response_json(self, with_refresh_token=True):\n",
    "        rt = \"\"\n",
    "        if with_refresh_token:\n",
    "            rt = ',\"refresh_token\": \"testrf\"'\n",
    "        return (\n",
    "            \"\"\"{\n",
    "            \"access_token\":\"testac\",\n",
    "            \"expires_in\":3600,\n",
    "            \"scope\": \"userid profile groups\"\n",
    "            %s\n",
    "        }\"\"\"\n",
    "            % rt\n",
    "        )\n",
    "\n",
    "    def get_mocked_response(self):\n",
    "        return MockedResponse(\n",
    "            status_code=200,\n",
    "            content=\"\"\"{\n",
    "                \"user\": {\n",
    "                    \"userid\": \"76a7a061-3c55-430d-8ee0-6f82ec42501f\",\n",
    "                    \"userid_sec\": [\"feide:andreas@uninett.no\"],\n",
    "                    \"name\": \"Andreas \\u00c5kre Solberg\",\n",
    "                    \"email\": \"andreas.solberg@uninett.no\",\n",
    "                    \"profilephoto\": \"p:a3019954-902f-45a3-b4ee-bca7b48ab507\"\n",
    "                },\n",
    "                \"audience\": \"app123id\"\n",
    "            }\"\"\",\n",
    "            headers={\"content-type\": \"application/json\"},\n",
    "        )\n",
    "\n",
    "    def test_extract_uid(self):\n",
    "        uid = self.provider.extract_uid(self.mock_data)\n",
    "        self.assertEqual(uid, self.mock_data[\"userid\"])\n",
    "\n",
    "    def test_extract_extra_data(self):\n",
    "        # All the processing is done in the complete_login view, and thus\n",
    "        # the data should be returned unaltered\n",
    "        extra_data = self.provider.extract_extra_data(self.mock_data)\n",
    "        self.assertEqual(extra_data, self.mock_data)\n",
    "\n",
    "    def test_extract_common_fields(self):\n",
    "        # The main task of this function is to parse the data in order to\n",
    "        # find the Feide username, and if not, use the email\n",
    "        common_fields = self.provider.extract_common_fields(self.mock_data)\n",
    "        self.assertEqual(common_fields[\"username\"], \"andreas\")\n",
    "\n",
    "        # Test correct behaviour when Feide username is unavailable\n",
    "        new_mock_data = dict(self.mock_data)\n",
    "        new_mock_data[\"userid_sec\"] = []\n",
    "        new_common_fields = self.provider.extract_common_fields(new_mock_data)\n",
    "        self.assertEqual(new_common_fields[\"username\"], \"andreas.solberg\")"
   ]
  },
  {
   "cell_type": "markdown",
   "metadata": {},
   "source": []
  }
 ],
 "metadata": {
  "language_info": {
   "name": "python"
  }
 },
 "nbformat": 4,
 "nbformat_minor": 2
}