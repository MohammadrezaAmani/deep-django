{
    "cells": [
        {
            "cell_type": "code",
            "execution_count": null,
            "metadata": {},
            "outputs": [],
            "source": [
                "from allauth.socialaccount.tests import OAuth2TestsMixin\n",
                "from allauth.tests import MockedResponse, TestCase\n",
                "\n",
                "from .provider import StackExchangeProvider\n"
            ]
        },
        {
            "cell_type": "markdown",
            "metadata": {},
            "source": []
        },
        {
            "cell_type": "code",
            "execution_count": null,
            "metadata": {},
            "outputs": [],
            "source": [
                "class StackExchangeTests(OAuth2TestsMixin, TestCase):\n",
                "    provider_id = StackExchangeProvider.id\n",
                "\n",
                "    def get_mocked_response(self):\n",
                "        return MockedResponse(\n",
                "            200,\n",
                "            \"\"\"\n",
                "        {\n",
                "          \"has_more\": false,\n",
                "           \"items\": [\n",
                "              {\n",
                "                \"is_employee\": false,\n",
                "                 \"last_access_date\": 1356200390,\n",
                "                 \"display_name\": \"pennersr\",\n",
                "                 \"account_id\": 291652,\n",
                "                 \"badge_counts\": {\n",
                "                     \"bronze\": 2,\n",
                "                     \"silver\": 2,\n",
                "                     \"gold\": 0\n",
                "                 },\n",
                "                 \"last_modified_date\": 1356199552,\n",
                "                 \"profile_image\":\n",
                "                 \"http://www.gravatar.com/avatar/053d648486d567d3143d6bad8df8cfeb?d=identicon&r=PG\",\n",
                "                 \"user_type\": \"registered\",\n",
                "                 \"creation_date\": 1296223711,\n",
                "                 \"reputation_change_quarter\": 148,\n",
                "                 \"reputation_change_year\": 378,\n",
                "                 \"reputation\": 504,\n",
                "                 \"link\": \"http://stackoverflow.com/users/593944/pennersr\",\n",
                "                 \"reputation_change_week\": 0,\n",
                "                 \"user_id\": 593944,\n",
                "                 \"reputation_change_month\": 10,\n",
                "                 \"reputation_change_day\": 0\n",
                "              }\n",
                "           ],\n",
                "           \"quota_max\": 10000,\n",
                "           \"quota_remaining\": 9999\n",
                "        }\"\"\",\n",
                "        )  # noqa\n",
                "\n"
            ]
        },
        {
            "cell_type": "markdown",
            "metadata": {},
            "source": []
        }
    ],
    "metadata": {
        "language_info": {
            "name": "python"
        }
    },
    "nbformat": 4,
    "nbformat_minor": 2
}