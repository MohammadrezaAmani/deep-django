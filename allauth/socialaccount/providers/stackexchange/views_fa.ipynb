{
 "cells": [
  {
   "cell_type": "code",
   "execution_count": null,
   "metadata": {},
   "outputs": [],
   "source": [
    "from allauth.socialaccount.adapter import get_adapter\n",
    "from allauth.socialaccount.providers.oauth2.views import (\n",
    "    OAuth2Adapter,\n",
    "    OAuth2CallbackView,\n",
    "    OAuth2LoginView,\n",
    ")"
   ]
  },
  {
   "cell_type": "markdown",
   "metadata": {},
   "source": []
  },
  {
   "cell_type": "code",
   "execution_count": null,
   "metadata": {},
   "outputs": [],
   "source": [
    "class StackExchangeOAuth2Adapter(OAuth2Adapter):\n",
    "    provider_id = \"stackexchange\"\n",
    "    access_token_url = \"https://stackexchange.com/oauth/access_token\"\n",
    "    authorize_url = \"https://stackexchange.com/oauth\"\n",
    "    profile_url = \"https://api.stackexchange.com/2.1/me\"\n",
    "\n",
    "    def complete_login(self, request, app, token, **kwargs):\n",
    "        provider = self.get_provider()\n",
    "        site = provider.get_site()\n",
    "        resp = (\n",
    "            get_adapter()\n",
    "            .get_requests_session()\n",
    "            .get(\n",
    "                self.profile_url,\n",
    "                params={\"access_token\": token.token, \"key\": app.key, \"site\": site},\n",
    "            )\n",
    "        )\n",
    "        resp.raise_for_status()\n",
    "        extra_data = resp.json()[\"items\"][0]\n",
    "        return self.get_provider().sociallogin_from_response(request, extra_data)"
   ]
  },
  {
   "cell_type": "markdown",
   "metadata": {},
   "source": []
  },
  {
   "cell_type": "code",
   "execution_count": null,
   "metadata": {},
   "outputs": [],
   "source": [
    "oauth2_login = OAuth2LoginView.adapter_view(StackExchangeOAuth2Adapter)\n",
    "oauth2_callback = OAuth2CallbackView.adapter_view(StackExchangeOAuth2Adapter)"
   ]
  },
  {
   "cell_type": "markdown",
   "metadata": {},
   "source": []
  }
 ],
 "metadata": {
  "language_info": {
   "name": "python"
  }
 },
 "nbformat": 4,
 "nbformat_minor": 2
}