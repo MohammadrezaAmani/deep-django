{
    "cells": [
        {
            "cell_type": "code",
            "execution_count": null,
            "metadata": {},
            "outputs": [],
            "source": [
                "from allauth.socialaccount.providers.base import ProviderAccount\n",
                "from allauth.socialaccount.providers.oauth2.provider import OAuth2Provider\n",
                "from allauth.socialaccount.providers.stackexchange.views import (\n",
                "    StackExchangeOAuth2Adapter,\n",
                ")\n"
            ]
        },
        {
            "cell_type": "markdown",
            "metadata": {},
            "source": []
        },
        {
            "cell_type": "code",
            "execution_count": null,
            "metadata": {},
            "outputs": [],
            "source": [
                "class StackExchangeAccount(ProviderAccount):\n",
                "    def get_profile_url(self):\n",
                "        return self.account.extra_data.get(\"html_url\")\n",
                "\n",
                "    def get_avatar_url(self):\n",
                "        return self.account.extra_data.get(\"avatar_url\")\n",
                "\n",
                "    def to_str(self):\n",
                "        dflt = super(StackExchangeAccount, self).to_str()\n",
                "        return self.account.extra_data.get(\"name\", dflt)\n"
            ]
        },
        {
            "cell_type": "markdown",
            "metadata": {},
            "source": []
        },
        {
            "cell_type": "code",
            "execution_count": null,
            "metadata": {},
            "outputs": [],
            "source": [
                "class StackExchangeProvider(OAuth2Provider):\n",
                "    id = \"stackexchange\"\n",
                "    name = \"Stack Exchange\"\n",
                "    account_class = StackExchangeAccount\n",
                "    oauth2_adapter_class = StackExchangeOAuth2Adapter\n",
                "\n",
                "    def get_site(self):\n",
                "        settings = self.get_settings()\n",
                "        return settings.get(\"SITE\", \"stackoverflow\")\n",
                "\n",
                "    def extract_uid(self, data):\n",
                "        # `user_id` varies if you use the same account for\n",
                "        # e.g. StackOverflow and ServerFault. Therefore, we pick\n",
                "        # `account_id`.\n",
                "        uid = str(data[\"account_id\"])\n",
                "        return uid\n",
                "\n",
                "    def extract_common_fields(self, data):\n",
                "        return dict(username=data.get(\"display_name\"))\n"
            ]
        },
        {
            "cell_type": "markdown",
            "metadata": {},
            "source": []
        },
        {
            "cell_type": "code",
            "execution_count": null,
            "metadata": {},
            "outputs": [],
            "source": [
                "provider_classes = [StackExchangeProvider]\n",
                "\n"
            ]
        },
        {
            "cell_type": "markdown",
            "metadata": {},
            "source": []
        }
    ],
    "metadata": {
        "language_info": {
            "name": "python"
        }
    },
    "nbformat": 4,
    "nbformat_minor": 2
}