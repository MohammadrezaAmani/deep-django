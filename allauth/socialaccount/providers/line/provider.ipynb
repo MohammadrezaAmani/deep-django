{
    "cells": [
        {
            "cell_type": "code",
            "execution_count": null,
            "metadata": {},
            "outputs": [],
            "source": [
                "from allauth.socialaccount.providers.base import ProviderAccount\n",
                "from allauth.socialaccount.providers.line.views import LineOAuth2Adapter\n",
                "from allauth.socialaccount.providers.oauth2.provider import OAuth2Provider\n"
            ]
        },
        {
            "cell_type": "markdown",
            "metadata": {},
            "source": []
        },
        {
            "cell_type": "code",
            "execution_count": null,
            "metadata": {},
            "outputs": [],
            "source": [
                "class LineAccount(ProviderAccount):\n",
                "    def get_avatar_url(self):\n",
                "        return self.account.extra_data.get(\"pictureUrl\") or self.account.extra_data.get(\n",
                "            \"picture\"\n",
                "        )\n",
                "\n",
                "    def to_str(self):\n",
                "        return self.account.extra_data.get(\"displayName\", self.account.uid)\n"
            ]
        },
        {
            "cell_type": "markdown",
            "metadata": {},
            "source": []
        },
        {
            "cell_type": "code",
            "execution_count": null,
            "metadata": {},
            "outputs": [],
            "source": [
                "class LineProvider(OAuth2Provider):\n",
                "    id = \"line\"\n",
                "    name = \"Line\"\n",
                "    account_class = LineAccount\n",
                "    oauth2_adapter_class = LineOAuth2Adapter\n",
                "\n",
                "    def get_default_scope(self):\n",
                "        return []\n",
                "\n",
                "    def extract_uid(self, data):\n",
                "        return str(data.get(\"userId\") or data.get(\"sub\"))\n",
                "\n",
                "    def extract_common_fields(self, data):\n",
                "        return dict(\n",
                "            email=data.get(\"email\"),\n",
                "            username=data.get(\"email\") or self.extract_uid(data),\n",
                "            first_name=data.get(\"first_name\"),\n",
                "            last_name=data.get(\"last_name\"),\n",
                "            name=data.get(\"name\"),\n",
                "        )\n"
            ]
        },
        {
            "cell_type": "markdown",
            "metadata": {},
            "source": []
        },
        {
            "cell_type": "code",
            "execution_count": null,
            "metadata": {},
            "outputs": [],
            "source": [
                "provider_classes = [LineProvider]\n",
                "\n"
            ]
        },
        {
            "cell_type": "markdown",
            "metadata": {},
            "source": []
        }
    ],
    "metadata": {
        "language_info": {
            "name": "python"
        }
    },
    "nbformat": 4,
    "nbformat_minor": 2
}