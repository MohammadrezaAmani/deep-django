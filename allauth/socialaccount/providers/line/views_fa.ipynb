{
    "cells": [
        {
            "cell_type": "code",
            "execution_count": null,
            "metadata": {},
            "outputs": [],
            "source": [
                "from datetime import timedelta\n",
                "\n",
                "from allauth.socialaccount import app_settings\n",
                "from allauth.socialaccount.adapter import get_adapter\n",
                "from allauth.socialaccount.models import SocialToken\n",
                "from allauth.socialaccount.providers.oauth2.views import (\n",
                "    OAuth2Adapter,\n",
                "    OAuth2CallbackView,\n",
                "    OAuth2LoginView,\n",
                ")\n",
                "from django.utils import timezone\n"
            ]
        },
        {
            "cell_type": "markdown",
            "metadata": {},
            "source": []
        },
        {
            "cell_type": "code",
            "execution_count": null,
            "metadata": {},
            "outputs": [],
            "source": [
                "class LineOAuth2Adapter(OAuth2Adapter):\n",
                "    provider_id = \"line\"\n",
                "    access_token_url = \"https://api.line.me/oauth2/v2.1/token\"\n",
                "    authorize_url = \"https://access.line.me/oauth2/v2.1/authorize\"\n",
                "    profile_url = \"https://api.line.me/v2/profile\"  # https://developers.line.biz/en/reference/line-login/#get-user-profile\n",
                "    id_token_url = \"https://api.line.me/oauth2/v2.1/verify\"  # https://developers.line.biz/en/reference/line-login/#verify-id-token\n",
                "\n",
                "    def parse_token(self, data):\n",
                "        \"\"\"\n",
                "        data: access_token data from line\n",
                "        \"\"\"\n",
                "        settings = app_settings.PROVIDERS.get(self.provider_id, {})\n",
                "        if \"email\" in settings.get(\"SCOPE\", \"\"):\n",
                "            token = SocialToken(token=data[\"id_token\"])\n",
                "        else:\n",
                "            token = SocialToken(token=data[\"access_token\"])\n",
                "        token.token_secret = data.get(\"refresh_token\", \"\")\n",
                "        expires_in = data.get(self.expires_in_key, None)\n",
                "        if expires_in:\n",
                "            token.expires_at = timezone.now() + timedelta(seconds=int(expires_in))\n",
                "\n",
                "        return token\n",
                "\n",
                "    def complete_login(self, request, app, token, **kwargs):\n",
                "        settings = app_settings.PROVIDERS.get(self.provider_id, {})\n",
                "        if \"email\" in settings.get(\"SCOPE\", \"\"):\n",
                "            payload = {\"client_id\": app.client_id, \"id_token\": token.token}\n",
                "            resp = get_adapter().get_requests_session().post(self.id_token_url, payload)\n",
                "        else:\n",
                "            headers = {\"Authorization\": \"Bearer {0}\".format(token.token)}\n",
                "            resp = (\n",
                "                get_adapter()\n",
                "                .get_requests_session()\n",
                "                .get(self.profile_url, headers=headers)\n",
                "            )\n",
                "        resp.raise_for_status()\n",
                "        extra_data = resp.json()\n",
                "        return self.get_provider().sociallogin_from_response(request, extra_data)\n"
            ]
        },
        {
            "cell_type": "markdown",
            "metadata": {},
            "source": []
        },
        {
            "cell_type": "code",
            "execution_count": null,
            "metadata": {},
            "outputs": [],
            "source": [
                "oauth2_login = OAuth2LoginView.adapter_view(LineOAuth2Adapter)\n",
                "oauth2_callback = OAuth2CallbackView.adapter_view(LineOAuth2Adapter)\n",
                "\n"
            ]
        },
        {
            "cell_type": "markdown",
            "metadata": {},
            "source": []
        }
    ],
    "metadata": {
        "language_info": {
            "name": "python"
        }
    },
    "nbformat": 4,
    "nbformat_minor": 2
}