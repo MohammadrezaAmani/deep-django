{
    "cells": [
        {
            "cell_type": "code",
            "execution_count": null,
            "metadata": {},
            "outputs": [],
            "source": [
                "from allauth.socialaccount.providers.base import ProviderAccount\n",
                "from allauth.socialaccount.providers.oauth.provider import OAuthProvider\n"
            ]
        },
        {
            "cell_type": "markdown",
            "metadata": {},
            "source": []
        },
        {
            "cell_type": "code",
            "execution_count": null,
            "metadata": {},
            "outputs": [],
            "source": [
                "class TumblrAccount(ProviderAccount):\n",
                "    def get_profile_url_(self):\n",
                "        return \"http://%s.tumblr.com/\" % self.account.extra_data.get(\"name\")\n",
                "\n",
                "    def to_str(self):\n",
                "        dflt = super(TumblrAccount, self).to_str()\n",
                "        name = self.account.extra_data.get(\"name\", dflt)\n",
                "        return name\n"
            ]
        },
        {
            "cell_type": "markdown",
            "metadata": {},
            "source": []
        },
        {
            "cell_type": "code",
            "execution_count": null,
            "metadata": {},
            "outputs": [],
            "source": [
                "class TumblrProvider(OAuthProvider):\n",
                "    id = \"tumblr\"\n",
                "    name = \"Tumblr\"\n",
                "    account_class = TumblrAccount\n",
                "\n",
                "    def extract_uid(self, data):\n",
                "        return data[\"name\"]\n",
                "\n",
                "    def extract_common_fields(self, data):\n",
                "        return dict(\n",
                "            first_name=data.get(\"name\"),\n",
                "        )\n"
            ]
        },
        {
            "cell_type": "markdown",
            "metadata": {},
            "source": []
        },
        {
            "cell_type": "code",
            "execution_count": null,
            "metadata": {},
            "outputs": [],
            "source": [
                "provider_classes = [TumblrProvider]\n",
                "\n"
            ]
        },
        {
            "cell_type": "markdown",
            "metadata": {},
            "source": []
        }
    ],
    "metadata": {
        "language_info": {
            "name": "python"
        }
    },
    "nbformat": 4,
    "nbformat_minor": 2
}