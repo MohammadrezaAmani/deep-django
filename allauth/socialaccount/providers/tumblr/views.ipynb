{
 "cells": [
  {
   "cell_type": "code",
   "execution_count": null,
   "metadata": {},
   "outputs": [],
   "source": [
    "import json\n",
    "\n",
    "from allauth.socialaccount.providers.oauth.client import OAuth\n",
    "from allauth.socialaccount.providers.oauth.views import (\n",
    "    OAuthAdapter,\n",
    "    OAuthCallbackView,\n",
    "    OAuthLoginView,\n",
    ")\n",
    "\n",
    "from .provider import TumblrProvider"
   ]
  },
  {
   "cell_type": "markdown",
   "metadata": {},
   "source": []
  },
  {
   "cell_type": "code",
   "execution_count": null,
   "metadata": {},
   "outputs": [],
   "source": [
    "class TumblrAPI(OAuth):\n",
    "    url = \"http://api.tumblr.com/v2/user/info\"\n",
    "\n",
    "    def get_user_info(self):\n",
    "        data = json.loads(self.query(self.url))\n",
    "        return data[\"response\"][\"user\"]"
   ]
  },
  {
   "cell_type": "markdown",
   "metadata": {},
   "source": []
  },
  {
   "cell_type": "code",
   "execution_count": null,
   "metadata": {},
   "outputs": [],
   "source": [
    "class TumblrOAuthAdapter(OAuthAdapter):\n",
    "    provider_id = TumblrProvider.id\n",
    "    request_token_url = \"https://www.tumblr.com/oauth/request_token\"\n",
    "    access_token_url = \"https://www.tumblr.com/oauth/access_token\"\n",
    "    authorize_url = \"https://www.tumblr.com/oauth/authorize\"\n",
    "\n",
    "    def complete_login(self, request, app, token, response):\n",
    "        client = TumblrAPI(request, app.client_id, app.secret, self.request_token_url)\n",
    "        extra_data = client.get_user_info()\n",
    "        return self.get_provider().sociallogin_from_response(request, extra_data)"
   ]
  },
  {
   "cell_type": "markdown",
   "metadata": {},
   "source": []
  },
  {
   "cell_type": "code",
   "execution_count": null,
   "metadata": {},
   "outputs": [],
   "source": [
    "oauth_login = OAuthLoginView.adapter_view(TumblrOAuthAdapter)\n",
    "oauth_callback = OAuthCallbackView.adapter_view(TumblrOAuthAdapter)"
   ]
  },
  {
   "cell_type": "markdown",
   "metadata": {},
   "source": []
  }
 ],
 "metadata": {
  "language_info": {
   "name": "python"
  }
 },
 "nbformat": 4,
 "nbformat_minor": 2
}