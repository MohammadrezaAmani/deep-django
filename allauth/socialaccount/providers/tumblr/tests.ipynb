{
    "cells": [
        {
            "cell_type": "code",
            "execution_count": null,
            "metadata": {},
            "outputs": [],
            "source": [
                "# -*- coding: utf-8 -*-\n",
                "from __future__ import unicode_literals\n",
                "\n",
                "from allauth.socialaccount.tests import OAuthTestsMixin\n",
                "from allauth.tests import MockedResponse, TestCase\n",
                "\n",
                "from .provider import TumblrProvider\n"
            ]
        },
        {
            "cell_type": "markdown",
            "metadata": {},
            "source": []
        },
        {
            "cell_type": "code",
            "execution_count": null,
            "metadata": {},
            "outputs": [],
            "source": [
                "class TumblrTests(OAuthTestsMixin, TestCase):\n",
                "    provider_id = TumblrProvider.id\n",
                "\n",
                "    def get_mocked_response(self):\n",
                "        return [\n",
                "            MockedResponse(\n",
                "                200,\n",
                "                \"\"\"\n",
                "{\n",
                "   \"meta\": {\n",
                "      \"status\": 200,\n",
                "      \"msg\": \"OK\"\n",
                "   },\n",
                "   \"response\": {\n",
                "     \"user\": {\n",
                "       \"following\": 263,\n",
                "       \"default_post_format\": \"html\",\n",
                "       \"name\": \"derekg\",\n",
                "       \"likes\": 606,\n",
                "       \"blogs\": [\n",
                "          {\n",
                "           \"name\": \"derekg\",\n",
                "           \"title\": \"Derek Gottfrid\",\n",
                "           \"url\": \"http://derekg.org/\",\n",
                "           \"tweet\": \"auto\",\n",
                "           \"primary\": true,\n",
                "           \"followers\": 33004929\n",
                "          },\n",
                "          {\n",
                "           \"name\": \"ihatehipstrz\",\n",
                "           \"title\": \"I Hate Hipstrz\"\n",
                "           }\n",
                "        ]\n",
                "     }\n",
                "} }\n",
                "\"\"\",\n",
                "            )\n",
                "        ]\n",
                "\n"
            ]
        },
        {
            "cell_type": "markdown",
            "metadata": {},
            "source": []
        }
    ],
    "metadata": {
        "language_info": {
            "name": "python"
        }
    },
    "nbformat": 4,
    "nbformat_minor": 2
}