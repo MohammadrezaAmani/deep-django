{
 "cells": [
  {
   "cell_type": "code",
   "execution_count": null,
   "metadata": {},
   "outputs": [],
   "source": [
    "from allauth.socialaccount import app_settings\n",
    "from allauth.socialaccount.adapter import get_adapter\n",
    "from allauth.socialaccount.providers.oauth2.views import (\n",
    "    OAuth2Adapter,\n",
    "    OAuth2CallbackView,\n",
    "    OAuth2LoginView,\n",
    ")"
   ]
  },
  {
   "cell_type": "markdown",
   "metadata": {},
   "source": []
  },
  {
   "cell_type": "code",
   "execution_count": null,
   "metadata": {},
   "outputs": [],
   "source": [
    "class LinkedInOAuth2Adapter(OAuth2Adapter):\n",
    "    provider_id = \"linkedin_oauth2\"\n",
    "    access_token_url = \"https://www.linkedin.com/oauth/v2/accessToken\"\n",
    "    authorize_url = \"https://www.linkedin.com/oauth/v2/authorization\"\n",
    "    profile_url = \"https://api.linkedin.com/v2/me\"\n",
    "    email_url = \"https://api.linkedin.com/v2/emailAddress?q=members&projection=(elements*(handle~))\"  # noqa\n",
    "    # See:\n",
    "    # http://developer.linkedin.com/forum/unauthorized-invalid-or-expired-token-immediately-after-receiving-oauth2-token?page=1 # noqa\n",
    "    access_token_method = \"GET\"\n",
    "\n",
    "    def complete_login(self, request, app, token, **kwargs):\n",
    "        extra_data = self.get_user_info(token)\n",
    "        return self.get_provider().sociallogin_from_response(request, extra_data)\n",
    "\n",
    "    def get_user_info(self, token):\n",
    "        fields = self.get_provider().get_profile_fields()\n",
    "\n",
    "        headers = {}\n",
    "        headers.update(self.get_provider().get_settings().get(\"HEADERS\", {}))\n",
    "        headers[\"Authorization\"] = \" \".join([\"Bearer\", token.token])\n",
    "\n",
    "        info = {}\n",
    "        if app_settings.QUERY_EMAIL:\n",
    "            resp = (\n",
    "                get_adapter()\n",
    "                .get_requests_session()\n",
    "                .get(self.email_url, headers=headers)\n",
    "            )\n",
    "            # If this response goes wrong, that is not a blocker in order to\n",
    "            # continue.\n",
    "            if resp.ok:\n",
    "                info = resp.json()\n",
    "\n",
    "        url = self.profile_url + \"?projection=(%s)\" % \",\".join(fields)\n",
    "        resp = get_adapter().get_requests_session().get(url, headers=headers)\n",
    "        resp.raise_for_status()\n",
    "        info.update(resp.json())\n",
    "        return info"
   ]
  },
  {
   "cell_type": "markdown",
   "metadata": {},
   "source": []
  },
  {
   "cell_type": "code",
   "execution_count": null,
   "metadata": {},
   "outputs": [],
   "source": [
    "oauth2_login = OAuth2LoginView.adapter_view(LinkedInOAuth2Adapter)\n",
    "oauth2_callback = OAuth2CallbackView.adapter_view(LinkedInOAuth2Adapter)"
   ]
  },
  {
   "cell_type": "markdown",
   "metadata": {},
   "source": []
  }
 ],
 "metadata": {
  "language_info": {
   "name": "python"
  }
 },
 "nbformat": 4,
 "nbformat_minor": 2
}