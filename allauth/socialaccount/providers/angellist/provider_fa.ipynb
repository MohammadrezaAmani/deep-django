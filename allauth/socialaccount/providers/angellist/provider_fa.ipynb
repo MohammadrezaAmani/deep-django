{
 "cells": [
  {
   "cell_type": "code",
   "execution_count": null,
   "metadata": {},
   "outputs": [],
   "source": [
    "from allauth.socialaccount.providers.angellist.views import AngelListOAuth2Adapter\n",
    "from allauth.socialaccount.providers.base import ProviderAccount\n",
    "from allauth.socialaccount.providers.oauth2.provider import OAuth2Provider"
   ]
  },
  {
   "cell_type": "markdown",
   "metadata": {},
   "source": []
  },
  {
   "cell_type": "code",
   "execution_count": null,
   "metadata": {},
   "outputs": [],
   "source": [
    "class AngelListAccount(ProviderAccount):\n",
    "    def get_profile_url(self):\n",
    "        return self.account.extra_data.get(\"angellist_url\")\n",
    "\n",
    "    def get_avatar_url(self):\n",
    "        return self.account.extra_data.get(\"image\")\n",
    "\n",
    "    def to_str(self):\n",
    "        dflt = super(AngelListAccount, self).to_str()\n",
    "        return self.account.extra_data.get(\"name\", dflt)"
   ]
  },
  {
   "cell_type": "markdown",
   "metadata": {},
   "source": []
  },
  {
   "cell_type": "code",
   "execution_count": null,
   "metadata": {},
   "outputs": [],
   "source": [
    "class AngelListProvider(OAuth2Provider):\n",
    "    id = \"angellist\"\n",
    "    name = \"AngelList\"\n",
    "    account_class = AngelListAccount\n",
    "    oauth2_adapter_class = AngelListOAuth2Adapter\n",
    "\n",
    "    def extract_uid(self, data):\n",
    "        return str(data[\"id\"])\n",
    "\n",
    "    def extract_common_fields(self, data):\n",
    "        return dict(\n",
    "            email=data.get(\"email\"),\n",
    "            username=data.get(\"angellist_url\").split(\"/\")[-1],\n",
    "            name=data.get(\"name\"),\n",
    "        )"
   ]
  },
  {
   "cell_type": "markdown",
   "metadata": {},
   "source": []
  },
  {
   "cell_type": "code",
   "execution_count": null,
   "metadata": {},
   "outputs": [],
   "source": [
    "provider_classes = [AngelListProvider]"
   ]
  },
  {
   "cell_type": "markdown",
   "metadata": {},
   "source": []
  }
 ],
 "metadata": {
  "language_info": {
   "name": "python"
  }
 },
 "nbformat": 4,
 "nbformat_minor": 2
}