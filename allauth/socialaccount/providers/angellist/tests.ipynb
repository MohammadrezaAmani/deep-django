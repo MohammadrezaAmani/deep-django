{
    "cells": [
        {
            "cell_type": "code",
            "execution_count": null,
            "metadata": {},
            "outputs": [],
            "source": [
                "from allauth.socialaccount.tests import OAuth2TestsMixin\n",
                "from allauth.tests import MockedResponse, TestCase\n",
                "\n",
                "from .provider import AngelListProvider\n"
            ]
        },
        {
            "cell_type": "markdown",
            "metadata": {},
            "source": []
        },
        {
            "cell_type": "code",
            "execution_count": null,
            "metadata": {},
            "outputs": [],
            "source": [
                "class AngelListTests(OAuth2TestsMixin, TestCase):\n",
                "    provider_id = AngelListProvider.id\n",
                "\n",
                "    def get_mocked_response(self):\n",
                "        return MockedResponse(\n",
                "            200,\n",
                "            \"\"\"\n",
                "{\"name\":\"pennersr\",\"id\":424732,\"bio\":\"\",\"follower_count\":0,\n",
                "\"angellist_url\":\"https://angel.co/dsxtst\",\n",
                "\"image\":\"https://angel.co/images/shared/nopic.png\",\n",
                "\"email\":\"raymond.penners@example.com\",\"blog_url\":null,\n",
                "\"online_bio_url\":null,\"twitter_url\":\"https://twitter.com/dsxtst\",\n",
                "\"facebook_url\":null,\"linkedin_url\":null,\"aboutme_url\":null,\n",
                "\"github_url\":null,\"dribbble_url\":null,\"behance_url\":null,\n",
                "\"what_ive_built\":null,\"locations\":[],\"roles\":[],\"skills\":[],\n",
                "\"investor\":false,\"scopes\":[\"message\",\"talent\",\"dealflow\",\"comment\",\n",
                "\"email\"]}\n",
                "\"\"\",\n",
                "        )\n",
                "\n"
            ]
        },
        {
            "cell_type": "markdown",
            "metadata": {},
            "source": []
        }
    ],
    "metadata": {
        "language_info": {
            "name": "python"
        }
    },
    "nbformat": 4,
    "nbformat_minor": 2
}