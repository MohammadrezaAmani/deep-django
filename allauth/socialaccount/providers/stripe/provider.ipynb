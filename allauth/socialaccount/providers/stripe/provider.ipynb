{
    "cells": [
        {
            "cell_type": "code",
            "execution_count": null,
            "metadata": {},
            "outputs": [],
            "source": [
                "from allauth.socialaccount.providers.base import ProviderAccount\n",
                "from allauth.socialaccount.providers.oauth2.provider import OAuth2Provider\n",
                "from allauth.socialaccount.providers.stripe.views import StripeOAuth2Adapter\n"
            ]
        },
        {
            "cell_type": "markdown",
            "metadata": {},
            "source": []
        },
        {
            "cell_type": "code",
            "execution_count": null,
            "metadata": {},
            "outputs": [],
            "source": [
                "class StripeAccount(ProviderAccount):\n",
                "    def to_str(self):\n",
                "        default = super(StripeAccount, self).to_str()\n",
                "        return self.account.extra_data.get(\"business_name\", default)\n"
            ]
        },
        {
            "cell_type": "markdown",
            "metadata": {},
            "source": []
        },
        {
            "cell_type": "code",
            "execution_count": null,
            "metadata": {},
            "outputs": [],
            "source": [
                "class StripeProvider(OAuth2Provider):\n",
                "    id = \"stripe\"\n",
                "    name = \"Stripe\"\n",
                "    account_class = StripeAccount\n",
                "    oauth2_adapter_class = StripeOAuth2Adapter\n",
                "\n",
                "    def extract_uid(self, data):\n",
                "        return data[\"id\"]\n",
                "\n",
                "    def extract_common_fields(self, data):\n",
                "        return dict(name=data.get(\"display_name\"), email=data.get(\"email\"))\n",
                "\n",
                "    def get_default_scope(self):\n",
                "        return [\"read_only\"]\n"
            ]
        },
        {
            "cell_type": "markdown",
            "metadata": {},
            "source": []
        },
        {
            "cell_type": "code",
            "execution_count": null,
            "metadata": {},
            "outputs": [],
            "source": [
                "provider_classes = [StripeProvider]\n",
                "\n"
            ]
        },
        {
            "cell_type": "markdown",
            "metadata": {},
            "source": []
        }
    ],
    "metadata": {
        "language_info": {
            "name": "python"
        }
    },
    "nbformat": 4,
    "nbformat_minor": 2
}