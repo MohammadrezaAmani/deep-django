{
 "cells": [
  {
   "cell_type": "code",
   "execution_count": null,
   "metadata": {},
   "outputs": [],
   "source": [
    "from allauth.socialaccount.adapter import get_adapter\n",
    "from allauth.socialaccount.providers.oauth2.views import (\n",
    "    OAuth2Adapter,\n",
    "    OAuth2CallbackView,\n",
    "    OAuth2LoginView,\n",
    ")"
   ]
  },
  {
   "cell_type": "markdown",
   "metadata": {},
   "source": []
  },
  {
   "cell_type": "code",
   "execution_count": null,
   "metadata": {},
   "outputs": [],
   "source": [
    "class StripeOAuth2Adapter(OAuth2Adapter):\n",
    "    provider_id = \"stripe\"\n",
    "    access_token_url = \"https://connect.stripe.com/oauth/token\"\n",
    "    authorize_url = \"https://connect.stripe.com/oauth/authorize\"\n",
    "    profile_url = \"https://api.stripe.com/v1/accounts/%s\"\n",
    "\n",
    "    def complete_login(self, request, app, token, response, **kwargs):\n",
    "        headers = {\"Authorization\": \"Bearer {0}\".format(token.token)}\n",
    "        resp = (\n",
    "            get_adapter()\n",
    "            .get_requests_session()\n",
    "            .get(self.profile_url % response.get(\"stripe_user_id\"), headers=headers)\n",
    "        )\n",
    "        extra_data = resp.json()\n",
    "        return self.get_provider().sociallogin_from_response(request, extra_data)"
   ]
  },
  {
   "cell_type": "markdown",
   "metadata": {},
   "source": []
  },
  {
   "cell_type": "code",
   "execution_count": null,
   "metadata": {},
   "outputs": [],
   "source": [
    "oauth2_login = OAuth2LoginView.adapter_view(StripeOAuth2Adapter)\n",
    "oauth2_callback = OAuth2CallbackView.adapter_view(StripeOAuth2Adapter)"
   ]
  },
  {
   "cell_type": "markdown",
   "metadata": {},
   "source": []
  }
 ],
 "metadata": {
  "language_info": {
   "name": "python"
  }
 },
 "nbformat": 4,
 "nbformat_minor": 2
}