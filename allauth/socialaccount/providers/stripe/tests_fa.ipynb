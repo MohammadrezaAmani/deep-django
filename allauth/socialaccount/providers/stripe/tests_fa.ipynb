{
 "cells": [
  {
   "cell_type": "code",
   "execution_count": null,
   "metadata": {},
   "outputs": [],
   "source": [
    "# -*- coding: utf-8 -*-\n",
    "from __future__ import unicode_literals\n",
    "\n",
    "from allauth.socialaccount.tests import OAuth2TestsMixin\n",
    "from allauth.tests import MockedResponse, TestCase\n",
    "\n",
    "from .provider import StripeProvider"
   ]
  },
  {
   "cell_type": "markdown",
   "metadata": {},
   "source": []
  },
  {
   "cell_type": "code",
   "execution_count": null,
   "metadata": {},
   "outputs": [],
   "source": [
    "class StripeTests(OAuth2TestsMixin, TestCase):\n",
    "    provider_id = StripeProvider.id\n",
    "\n",
    "    def get_mocked_response(self):\n",
    "        return MockedResponse(\n",
    "            200,\n",
    "            \"\"\"{\n",
    "          \"id\": \"acct_sometestid\",\n",
    "          \"object\": \"account\",\n",
    "          \"business_logo\": null,\n",
    "          \"business_name\": null,\n",
    "          \"business_url\": \"example.com\",\n",
    "          \"charges_enabled\": true,\n",
    "          \"country\": \"SE\",\n",
    "          \"currencies_supported\": [\n",
    "            \"usd\",\n",
    "            \"eur\",\n",
    "            \"sek\"\n",
    "          ],\n",
    "          \"default_currency\": \"eur\",\n",
    "          \"details_submitted\": true,\n",
    "          \"display_name\": \"Test\",\n",
    "          \"email\": \"test@example.com\",\n",
    "          \"managed\": false,\n",
    "          \"metadata\": {},\n",
    "          \"statement_descriptor\": \"TEST.COM\",\n",
    "          \"support_phone\": \"+460123456789\",\n",
    "          \"timezone\": \"Europe/Stockholm\",\n",
    "          \"transfers_enabled\": true\n",
    "        }\"\"\",\n",
    "        )\n",
    "\n",
    "    def get_login_response_json(self, with_refresh_token=True):\n",
    "        rt = \"\"\n",
    "        if with_refresh_token:\n",
    "            rt = ',\"refresh_token\": \"testrf\"'\n",
    "        return (\n",
    "            \"\"\"{\n",
    "            \"uid\":\"weibo\",\n",
    "            \"access_token\":\"testac\",\n",
    "            \"livemode\": false,\n",
    "            \"token_type\": \"bearer\",\n",
    "            \"stripe_publishable_key\": \"pk_test_someteskey\",\n",
    "            \"stripe_user_id\": \"acct_sometestid\",\n",
    "            \"scope\": \"read_write\"\n",
    "            %s }\"\"\"\n",
    "            % rt\n",
    "        )"
   ]
  },
  {
   "cell_type": "markdown",
   "metadata": {},
   "source": []
  }
 ],
 "metadata": {
  "language_info": {
   "name": "python"
  }
 },
 "nbformat": 4,
 "nbformat_minor": 2
}