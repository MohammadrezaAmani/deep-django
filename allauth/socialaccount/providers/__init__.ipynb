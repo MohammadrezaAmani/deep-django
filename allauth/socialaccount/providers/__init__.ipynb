{
    "cells": [
        {
            "cell_type": "code",
            "execution_count": null,
            "metadata": {},
            "outputs": [],
            "source": [
                "import importlib\n",
                "from collections import OrderedDict\n",
                "\n",
                "from django.apps import apps\n",
                "from django.conf import settings\n",
                "\n",
                "from allauth.utils import import_attribute\n"
            ]
        },
        {
            "cell_type": "markdown",
            "metadata": {},
            "source": []
        },
        {
            "cell_type": "code",
            "execution_count": null,
            "metadata": {},
            "outputs": [],
            "source": [
                "class ProviderRegistry(object):\n",
                "    def __init__(self):\n",
                "        self.provider_map = OrderedDict()\n",
                "        self.loaded = False\n",
                "\n",
                "    def get_class_list(self):\n",
                "        self.load()\n",
                "        return list(self.provider_map.values())\n",
                "\n",
                "    def register(self, cls):\n",
                "        self.provider_map[cls.id] = cls\n",
                "\n",
                "    def get_class(self, id):\n",
                "        return self.provider_map.get(id)\n",
                "\n",
                "    def as_choices(self):\n",
                "        self.load()\n",
                "        for provider_cls in self.provider_map.values():\n",
                "            yield (provider_cls.id, provider_cls.name)\n",
                "\n",
                "    def load(self):\n",
                "        # TODO: Providers register with the provider registry when\n",
                "        # loaded. Here, we build the URLs for all registered providers. So, we\n",
                "        # really need to be sure all providers did register, which is why we're\n",
                "        # forcefully importing the `provider` modules here. The overall\n",
                "        # mechanism is way to magical and depends on the import order et al, so\n",
                "        # all of this really needs to be revisited.\n",
                "        if not self.loaded:\n",
                "            for app_config in apps.get_app_configs():\n",
                "                try:\n",
                "                    provider_module = importlib.import_module(\n",
                "                        app_config.name + \".provider\"\n",
                "                    )\n",
                "                except ImportError:\n",
                "                    pass\n",
                "                else:\n",
                "                    provider_settings = getattr(settings, \"SOCIALACCOUNT_PROVIDERS\", {})\n",
                "                    for cls in getattr(provider_module, \"provider_classes\", []):\n",
                "                        provider_class = provider_settings.get(cls.id, {}).get(\n",
                "                            \"provider_class\"\n",
                "                        )\n",
                "                        if provider_class:\n",
                "                            cls = import_attribute(provider_class)\n",
                "                        self.register(cls)\n",
                "            self.loaded = True\n"
            ]
        },
        {
            "cell_type": "markdown",
            "metadata": {},
            "source": []
        },
        {
            "cell_type": "code",
            "execution_count": null,
            "metadata": {},
            "outputs": [],
            "source": [
                "registry = ProviderRegistry()\n",
                "\n"
            ]
        },
        {
            "cell_type": "markdown",
            "metadata": {},
            "source": []
        }
    ],
    "metadata": {
        "language_info": {
            "name": "python"
        }
    },
    "nbformat": 4,
    "nbformat_minor": 2
}