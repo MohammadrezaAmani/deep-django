{
    "cells": [
        {
            "cell_type": "code",
            "execution_count": null,
            "metadata": {},
            "outputs": [],
            "source": [
                "from allauth.socialaccount.adapter import get_adapter\n",
                "from allauth.socialaccount.providers.oauth2.client import (\n",
                "    OAuth2Client,\n",
                "    OAuth2Error,\n",
                ")\n"
            ]
        },
        {
            "cell_type": "markdown",
            "metadata": {},
            "source": []
        },
        {
            "cell_type": "code",
            "execution_count": null,
            "metadata": {},
            "outputs": [],
            "source": [
                "class DingTalkOAuth2Client(OAuth2Client):\n",
                "    def get_access_token(self, code, pkce_code_verifier=None):\n",
                "        data = {\n",
                "            \"clientId\": self.consumer_key,\n",
                "            \"clientSecret\": self.consumer_secret,\n",
                "            \"code\": code,\n",
                "            \"grantType\": \"authorization_code\",\n",
                "        }\n",
                "        params = None\n",
                "        if pkce_code_verifier:\n",
                "            data[\"code_verifier\"] = pkce_code_verifier\n",
                "        self._strip_empty_keys(data)\n",
                "        url = self.access_token_url\n",
                "        if self.access_token_method == \"GET\":\n",
                "            params = data\n",
                "            data = None\n",
                "        resp = (\n",
                "            get_adapter()\n",
                "            .get_requests_session()\n",
                "            .request(self.access_token_method, url, params=params, json=data)\n",
                "        )\n",
                "        resp.raise_for_status()\n",
                "        access_token = resp.json()\n",
                "        if not access_token or \"accessToken\" not in access_token:\n",
                "            raise OAuth2Error(\"Error retrieving access token: %s\" % resp.content)\n",
                "\n",
                "        access_token[\"access_token\"] = access_token.pop(\"accessToken\")\n",
                "        access_token[\"refresh_token\"] = access_token.pop(\"refreshToken\")\n",
                "        access_token[\"expires_in\"] = access_token.pop(\"expireIn\")\n",
                "        return access_token\n",
                "\n"
            ]
        },
        {
            "cell_type": "markdown",
            "metadata": {},
            "source": []
        }
    ],
    "metadata": {
        "language_info": {
            "name": "python"
        }
    },
    "nbformat": 4,
    "nbformat_minor": 2
}