{
 "cells": [
  {
   "cell_type": "code",
   "execution_count": null,
   "metadata": {},
   "outputs": [],
   "source": [
    "from allauth.socialaccount.providers.base import ProviderAccount\n",
    "from allauth.socialaccount.providers.dingtalk.views import (\n",
    "    DingTalkOAuth2Adapter,\n",
    ")\n",
    "from allauth.socialaccount.providers.oauth2.provider import OAuth2Provider"
   ]
  },
  {
   "cell_type": "markdown",
   "metadata": {},
   "source": []
  },
  {
   "cell_type": "code",
   "execution_count": null,
   "metadata": {},
   "outputs": [],
   "source": [
    "class DingTalkAccount(ProviderAccount):\n",
    "    def get_avatar_url(self):\n",
    "        return self.account.extra_data.get(\"avatarUrl\")\n",
    "\n",
    "    def to_str(self):\n",
    "        return self.account.extra_data.get(\n",
    "            \"nick\", super(DingTalkAccount, self).to_str()\n",
    "        )"
   ]
  },
  {
   "cell_type": "markdown",
   "metadata": {},
   "source": []
  },
  {
   "cell_type": "code",
   "execution_count": null,
   "metadata": {},
   "outputs": [],
   "source": [
    "class DingTalkProvider(OAuth2Provider):\n",
    "    id = \"dingtalk\"\n",
    "    name = \"DingTalk\"\n",
    "    account_class = DingTalkAccount\n",
    "    oauth2_adapter_class = DingTalkOAuth2Adapter\n",
    "\n",
    "    def extract_uid(self, data):\n",
    "        return data[\"openId\"]\n",
    "\n",
    "    def get_default_scope(self):\n",
    "        return [\"openid\", \"corpid\"]\n",
    "\n",
    "    def extract_common_fields(self, data):\n",
    "        return dict(username=data.get(\"nick\"), name=data.get(\"nick\"))"
   ]
  },
  {
   "cell_type": "markdown",
   "metadata": {},
   "source": []
  },
  {
   "cell_type": "code",
   "execution_count": null,
   "metadata": {},
   "outputs": [],
   "source": [
    "provider_classes = [DingTalkProvider]"
   ]
  },
  {
   "cell_type": "markdown",
   "metadata": {},
   "source": []
  }
 ],
 "metadata": {
  "language_info": {
   "name": "python"
  }
 },
 "nbformat": 4,
 "nbformat_minor": 2
}