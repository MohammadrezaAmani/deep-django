{
 "cells": [
  {
   "cell_type": "code",
   "execution_count": null,
   "metadata": {},
   "outputs": [],
   "source": [
    "from allauth.socialaccount.tests import OAuth2TestsMixin\n",
    "from allauth.tests import MockedResponse, TestCase\n",
    "\n",
    "from .provider import DingTalkProvider"
   ]
  },
  {
   "cell_type": "markdown",
   "metadata": {},
   "source": []
  },
  {
   "cell_type": "code",
   "execution_count": null,
   "metadata": {},
   "outputs": [],
   "source": [
    "class DingTalkTests(OAuth2TestsMixin, TestCase):\n",
    "    provider_id = DingTalkProvider.id\n",
    "\n",
    "    def get_mocked_response(self):\n",
    "        return MockedResponse(\n",
    "            200,\n",
    "            \"\"\"{\n",
    "            \"nick\": \"aiden\",\n",
    "            \"unionId\": \"hTaCSb1nM4RXii6jaQvHZqQiEiE\",\n",
    "            \"avatarUrl\": \"https://static-legacy.dingtalk.com/media/lADPDg7mViaksW3NBJPNBJI_1170_1171.jpg\",\n",
    "            \"openId\": \"ELdCPlk0V2LodZHx3n0p5AiEiE\"\n",
    "            }\"\"\",\n",
    "        )\n",
    "\n",
    "    def get_login_response_json(self, with_refresh_token=True):\n",
    "        return \"\"\"{\n",
    "    \"accessToken\": \"testac\",\n",
    "    \"expireIn\": \"3600\",\n",
    "    \"refreshToken\": \"testrf\"\n",
    "}\"\"\""
   ]
  },
  {
   "cell_type": "markdown",
   "metadata": {},
   "source": []
  }
 ],
 "metadata": {
  "language_info": {
   "name": "python"
  }
 },
 "nbformat": 4,
 "nbformat_minor": 2
}