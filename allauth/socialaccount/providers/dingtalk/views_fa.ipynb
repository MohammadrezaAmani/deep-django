{
 "cells": [
  {
   "cell_type": "code",
   "execution_count": null,
   "metadata": {},
   "outputs": [],
   "source": [
    "from allauth.socialaccount.adapter import get_adapter\n",
    "from allauth.socialaccount.providers.oauth2.views import (\n",
    "    OAuth2Adapter,\n",
    "    OAuth2CallbackView,\n",
    "    OAuth2LoginView,\n",
    ")\n",
    "\n",
    "from .client import DingTalkOAuth2Client"
   ]
  },
  {
   "cell_type": "markdown",
   "metadata": {},
   "source": []
  },
  {
   "cell_type": "code",
   "execution_count": null,
   "metadata": {},
   "outputs": [],
   "source": [
    "class DingTalkOAuth2Adapter(OAuth2Adapter):\n",
    "    provider_id = \"dingtalk\"\n",
    "    access_token_url = \"https://api.dingtalk.com/v1.0/oauth2/userAccessToken\"\n",
    "    authorize_url = \"https://login.dingtalk.com/oauth2/auth\"\n",
    "    profile_url = \"https://api.dingtalk.com/v1.0/contact/users/me\"\n",
    "    client_class = DingTalkOAuth2Client\n",
    "\n",
    "    def __init__(self, request):\n",
    "        # dingtalk set \"authCode\" instead of \"code\" in callback url\n",
    "        if \"authCode\" in request.GET:\n",
    "            request.GET._mutable = True\n",
    "            request.GET[\"code\"] = request.GET[\"authCode\"]\n",
    "            request.GET._mutable = False\n",
    "\n",
    "        super(DingTalkOAuth2Adapter, self).__init__(request)\n",
    "\n",
    "    def complete_login(self, request, app, token, **kwargs):\n",
    "        headers = {\"x-acs-dingtalk-access-token\": token.token}\n",
    "        resp = (\n",
    "            get_adapter().get_requests_session().get(self.profile_url, headers=headers)\n",
    "        )\n",
    "        resp.raise_for_status()\n",
    "        extra_data = resp.json()\n",
    "        return self.get_provider().sociallogin_from_response(request, extra_data)"
   ]
  },
  {
   "cell_type": "markdown",
   "metadata": {},
   "source": []
  },
  {
   "cell_type": "code",
   "execution_count": null,
   "metadata": {},
   "outputs": [],
   "source": [
    "oauth2_login = OAuth2LoginView.adapter_view(DingTalkOAuth2Adapter)\n",
    "oauth2_callback = OAuth2CallbackView.adapter_view(DingTalkOAuth2Adapter)"
   ]
  },
  {
   "cell_type": "markdown",
   "metadata": {},
   "source": []
  }
 ],
 "metadata": {
  "language_info": {
   "name": "python"
  }
 },
 "nbformat": 4,
 "nbformat_minor": 2
}