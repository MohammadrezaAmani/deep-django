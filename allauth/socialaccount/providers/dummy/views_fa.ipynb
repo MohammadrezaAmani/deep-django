{
 "cells": [
  {
   "cell_type": "code",
   "execution_count": null,
   "metadata": {},
   "outputs": [],
   "source": [
    "from allauth.socialaccount.adapter import get_adapter\n",
    "from allauth.socialaccount.helpers import (\n",
    "    complete_social_login,\n",
    "    render_authentication_error,\n",
    ")\n",
    "from allauth.socialaccount.models import SocialLogin\n",
    "from allauth.socialaccount.providers.base.constants import AuthError\n",
    "from allauth.socialaccount.providers.base.views import BaseLoginView\n",
    "from allauth.socialaccount.providers.dummy.forms import AuthenticateForm\n",
    "from allauth.socialaccount.providers.dummy.provider import DummyProvider\n",
    "from django.core.exceptions import PermissionDenied\n",
    "from django.urls import reverse\n",
    "from django.utils.http import urlencode\n",
    "from django.views.generic.edit import FormView"
   ]
  },
  {
   "cell_type": "markdown",
   "metadata": {},
   "source": []
  },
  {
   "cell_type": "code",
   "execution_count": null,
   "metadata": {},
   "outputs": [],
   "source": [
    "class LoginView(BaseLoginView):\n",
    "    provider_id = DummyProvider.id"
   ]
  },
  {
   "cell_type": "markdown",
   "metadata": {},
   "source": []
  },
  {
   "cell_type": "code",
   "execution_count": null,
   "metadata": {},
   "outputs": [],
   "source": [
    "login = LoginView.as_view()"
   ]
  },
  {
   "cell_type": "markdown",
   "metadata": {},
   "source": []
  },
  {
   "cell_type": "code",
   "execution_count": null,
   "metadata": {},
   "outputs": [],
   "source": [
    "class AuthenticateView(FormView):\n",
    "    form_class = AuthenticateForm\n",
    "    template_name = \"dummy/authenticate_form.html\"\n",
    "\n",
    "    def dispatch(self, request, *args, **kwargs):\n",
    "        self.state_id = request.GET.get(\"state\")\n",
    "        if not self.state_id:\n",
    "            raise PermissionDenied()\n",
    "        self.provider = get_adapter().get_provider(self.request, DummyProvider.id)\n",
    "        if request.method == \"POST\" and request.POST.get(\"action\") == \"cancel\":\n",
    "            return render_authentication_error(\n",
    "                request,\n",
    "                self.provider,\n",
    "                error=AuthError.CANCELLED,\n",
    "                extra_context={\"state_id\": self.state_id},\n",
    "            )\n",
    "\n",
    "        return super().dispatch(request, *args, **kwargs)\n",
    "\n",
    "    def form_valid(self, form):\n",
    "        login = self.provider.sociallogin_from_response(self.request, form.cleaned_data)\n",
    "        login.state = SocialLogin.unstash_state(self.request)\n",
    "        return complete_social_login(self.request, login)\n",
    "\n",
    "    def get_context_data(self, **kwargs):\n",
    "        ret = super().get_context_data(**kwargs)\n",
    "        ret[\"action_url\"] = (\n",
    "            reverse(\"dummy_authenticate\") + \"?\" + urlencode({\"state\": self.state_id})\n",
    "        )\n",
    "        return ret"
   ]
  },
  {
   "cell_type": "markdown",
   "metadata": {},
   "source": []
  },
  {
   "cell_type": "code",
   "execution_count": null,
   "metadata": {},
   "outputs": [],
   "source": [
    "authenticate = AuthenticateView.as_view()"
   ]
  },
  {
   "cell_type": "markdown",
   "metadata": {},
   "source": []
  }
 ],
 "metadata": {
  "language_info": {
   "name": "python"
  }
 },
 "nbformat": 4,
 "nbformat_minor": 2
}