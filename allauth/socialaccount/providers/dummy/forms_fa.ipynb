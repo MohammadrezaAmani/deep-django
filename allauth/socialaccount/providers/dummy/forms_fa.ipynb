{
 "cells": [
  {
   "cell_type": "code",
   "execution_count": null,
   "metadata": {},
   "outputs": [],
   "source": [
    "from django import forms"
   ]
  },
  {
   "cell_type": "markdown",
   "metadata": {},
   "source": []
  },
  {
   "cell_type": "code",
   "execution_count": null,
   "metadata": {},
   "outputs": [],
   "source": [
    "class AuthenticateForm(forms.Form):\n",
    "    id = forms.IntegerField(label=\"Account ID\")\n",
    "    email = forms.EmailField(required=False)\n",
    "    email_verified = forms.BooleanField(required=False)\n",
    "    username = forms.CharField(required=False)\n",
    "    first_name = forms.CharField(required=False)\n",
    "    last_name = forms.CharField(required=False)"
   ]
  },
  {
   "cell_type": "markdown",
   "metadata": {},
   "source": []
  }
 ],
 "metadata": {
  "language_info": {
   "name": "python"
  }
 },
 "nbformat": 4,
 "nbformat_minor": 2
}