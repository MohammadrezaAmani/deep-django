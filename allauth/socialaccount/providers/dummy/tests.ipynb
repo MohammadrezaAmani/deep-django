{
    "cells": [
        {
            "cell_type": "code",
            "execution_count": null,
            "metadata": {},
            "outputs": [],
            "source": [
                "from django.conf import settings\n",
                "from django.contrib.auth import get_user_model\n",
                "from django.urls import reverse\n"
            ]
        },
        {
            "cell_type": "markdown",
            "metadata": {},
            "source": []
        },
        {
            "cell_type": "code",
            "execution_count": null,
            "metadata": {},
            "outputs": [],
            "source": [
                "def test_login(client, db):\n",
                "    resp = client.post(reverse(\"dummy_login\"))\n",
                "    assert resp.status_code == 302\n",
                "    assert resp[\"location\"].startswith(reverse(\"dummy_authenticate\") + \"?state=\")\n",
                "    resp = client.post(\n",
                "        resp[\"location\"],\n",
                "        {\"id\": \"123\", \"email\": \"a@b.com\", \"email_verified\": True},\n",
                "    )\n",
                "    assert resp.status_code == 302\n",
                "    assert resp[\"location\"] == settings.LOGIN_REDIRECT_URL\n",
                "    get_user_model().objects.filter(email=\"a@b.com\").exists()\n",
                "\n"
            ]
        },
        {
            "cell_type": "markdown",
            "metadata": {},
            "source": []
        }
    ],
    "metadata": {
        "language_info": {
            "name": "python"
        }
    },
    "nbformat": 4,
    "nbformat_minor": 2
}