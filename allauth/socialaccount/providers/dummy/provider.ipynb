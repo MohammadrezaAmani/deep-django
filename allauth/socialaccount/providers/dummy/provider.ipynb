{
 "cells": [
  {
   "cell_type": "code",
   "execution_count": null,
   "metadata": {},
   "outputs": [],
   "source": [
    "from django.http import HttpResponseRedirect\n",
    "from django.urls import reverse\n",
    "from django.utils.http import urlencode\n",
    "\n",
    "from allauth.account.models import EmailAddress\n",
    "from allauth.socialaccount.providers.base import Provider, ProviderAccount"
   ]
  },
  {
   "cell_type": "markdown",
   "metadata": {},
   "source": []
  },
  {
   "cell_type": "code",
   "execution_count": null,
   "metadata": {},
   "outputs": [],
   "source": [
    "class DummyAccount(ProviderAccount):\n",
    "    def to_str(self):\n",
    "        dflt = super().to_str()\n",
    "        first_name = self.account.extra_data.get(\"first_name\") or \"\"\n",
    "        last_name = self.account.extra_data.get(\"last_name\") or \"\"\n",
    "        name = \" \".join([first_name, last_name]).strip() or dflt\n",
    "        return name"
   ]
  },
  {
   "cell_type": "markdown",
   "metadata": {},
   "source": []
  },
  {
   "cell_type": "code",
   "execution_count": null,
   "metadata": {},
   "outputs": [],
   "source": [
    "class DummyProvider(Provider):\n",
    "    id = \"dummy\"\n",
    "    name = \"Dummy\"\n",
    "    account_class = DummyAccount\n",
    "    uses_apps = False\n",
    "    supports_redirect = True\n",
    "\n",
    "    def get_login_url(self, request, **kwargs):\n",
    "        url = reverse(\"dummy_login\")\n",
    "        if kwargs:\n",
    "            url = url + \"?\" + urlencode(kwargs)\n",
    "        return url\n",
    "\n",
    "    def extract_uid(self, data):\n",
    "        return str(data[\"id\"])\n",
    "\n",
    "    def extract_common_fields(self, data):\n",
    "        ret = {}\n",
    "        if data.get(\"first_name\"):\n",
    "            ret[\"first_name\"] = data.get(\"first_name\")\n",
    "        if data.get(\"last_name\"):\n",
    "            ret[\"last_name\"] = data.get(\"last_name\")\n",
    "        if data.get(\"username\"):\n",
    "            ret[\"username\"] = data.get(\"username\")\n",
    "        return ret\n",
    "\n",
    "    def redirect(self, request, process, next_url=None, data=None, **kwargs):\n",
    "        state_id = self.stash_redirect_state(\n",
    "            request,\n",
    "            process,\n",
    "            next_url=next_url,\n",
    "            data=data,\n",
    "            **kwargs,\n",
    "        )\n",
    "        return HttpResponseRedirect(\n",
    "            reverse(\"dummy_authenticate\") + \"?\" + urlencode({\"state\": state_id})\n",
    "        )\n",
    "\n",
    "    def extract_email_addresses(self, data):\n",
    "        addresses = []\n",
    "        email = data.get(\"email\")\n",
    "        if email:\n",
    "            email_verified = data.get(\"email_verified\")\n",
    "            addresses.append(\n",
    "                EmailAddress(\n",
    "                    email=email,\n",
    "                    verified=email_verified,\n",
    "                    primary=True,\n",
    "                )\n",
    "            )\n",
    "        return addresses"
   ]
  },
  {
   "cell_type": "markdown",
   "metadata": {},
   "source": []
  },
  {
   "cell_type": "code",
   "execution_count": null,
   "metadata": {},
   "outputs": [],
   "source": [
    "provider_classes = [DummyProvider]"
   ]
  },
  {
   "cell_type": "markdown",
   "metadata": {},
   "source": []
  }
 ],
 "metadata": {
  "language_info": {
   "name": "python"
  }
 },
 "nbformat": 4,
 "nbformat_minor": 2
}