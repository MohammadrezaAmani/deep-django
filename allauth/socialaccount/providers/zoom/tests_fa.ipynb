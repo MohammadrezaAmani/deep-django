{
    "cells": [
        {
            "cell_type": "code",
            "execution_count": null,
            "metadata": {},
            "outputs": [],
            "source": [
                "from allauth.socialaccount.tests import OAuth2TestsMixin\n",
                "from allauth.tests import MockedResponse, TestCase\n",
                "\n",
                "from .provider import ZoomProvider\n"
            ]
        },
        {
            "cell_type": "markdown",
            "metadata": {},
            "source": []
        },
        {
            "cell_type": "code",
            "execution_count": null,
            "metadata": {},
            "outputs": [],
            "source": [
                "class ZoomTests(OAuth2TestsMixin, TestCase):\n",
                "    provider_id = ZoomProvider.id\n",
                "\n",
                "    def get_mocked_response(self):\n",
                "        return MockedResponse(\n",
                "            200,\n",
                "            \"\"\"\n",
                "{\n",
                "  \"id\": \"KdYKjnimT4KPd8FFgQt9FQ\",\n",
                "  \"first_name\": \"Jane\",\n",
                "  \"last_name\": \"Dev\",\n",
                "  \"email\": \"jane.dev@email.com\",\n",
                "  \"type\": 2,\n",
                "  \"role_name\": \"Owner\",\n",
                "  \"pmi\": 1234567890,\n",
                "  \"use_pmi\": false,\n",
                "  \"vanity_url\": \"https://janedevinc.zoom.us/my/janedev\",\n",
                "  \"personal_meeting_url\": \"https://janedevinc.zoom.us/j/1234567890\",\n",
                "  \"timezone\": \"America/Denver\",\n",
                "  \"verified\": 1,\n",
                "  \"dept\": \"\",\n",
                "  \"created_at\": \"2019-04-05T15:24:32Z\",\n",
                "  \"last_login_time\": \"2019-12-16T18:02:48Z\",\n",
                "  \"last_client_version\": \"4.6.12611.1124(mac)\",\n",
                "  \"pic_url\": \"https://janedev.zoom.us/p/KdYKjnimFR5Td8KKdQt9FQ/19f6430f-...\",\n",
                "  \"host_key\": \"533895\",\n",
                "  \"jid\": \"kdykjnimt4kpd8kkdqt9fq@xmpp.zoom.us\",\n",
                "  \"group_ids\": [],\n",
                "  \"im_group_ids\": [\n",
                "    \"3NXCD9VFTCOUH8LD-QciGw\"\n",
                "  ],\n",
                "  \"account_id\": \"gVcjZnYYRLDbb_MfgHuaxg\",\n",
                "  \"language\": \"en-US\",\n",
                "  \"phone_country\": \"US\",\n",
                "  \"phone_number\": \"+1 1234567891\",\n",
                "  \"status\": \"active\"\n",
                "}\n",
                "\"\"\",\n",
                "        )\n",
                "\n"
            ]
        },
        {
            "cell_type": "markdown",
            "metadata": {},
            "source": []
        }
    ],
    "metadata": {
        "language_info": {
            "name": "python"
        }
    },
    "nbformat": 4,
    "nbformat_minor": 2
}