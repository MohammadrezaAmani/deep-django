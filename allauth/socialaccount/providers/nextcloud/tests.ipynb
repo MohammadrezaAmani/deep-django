{
 "cells": [
  {
   "cell_type": "code",
   "execution_count": null,
   "metadata": {},
   "outputs": [],
   "source": [
    "from django.test.utils import override_settings\n",
    "\n",
    "from allauth.socialaccount.tests import OAuth2TestsMixin\n",
    "from allauth.tests import MockedResponse, TestCase\n",
    "\n",
    "from .provider import NextCloudProvider"
   ]
  },
  {
   "cell_type": "markdown",
   "metadata": {},
   "source": []
  },
  {
   "cell_type": "code",
   "execution_count": null,
   "metadata": {},
   "outputs": [],
   "source": [
    "@override_settings(\n",
    "    SOCIALACCOUNT_PROVIDERS={\"nextcloud\": {\"SERVER\": \"https://nextcloud.example.org\"}}\n",
    ")\n",
    "class NextCloudTests(OAuth2TestsMixin, TestCase):\n",
    "    provider_id = NextCloudProvider.id\n",
    "\n",
    "    def get_login_response_json(self, with_refresh_token=True):\n",
    "        return (\n",
    "            super(NextCloudTests, self)\n",
    "            .get_login_response_json(with_refresh_token=with_refresh_token)\n",
    "            .replace(\"uid\", \"user_id\")\n",
    "        )\n",
    "\n",
    "    def get_mocked_response(self):\n",
    "        return MockedResponse(\n",
    "            200,\n",
    "            \"\"\"<?xml version=\"1.0\"?>\n",
    "<ocs>\n",
    " <meta>\n",
    "  <status>ok</status>\n",
    "  <statuscode>100</statuscode>\n",
    "  <message>OK</message>\n",
    "  <totalitems></totalitems>\n",
    "  <itemsperpage></itemsperpage>\n",
    " </meta>\n",
    " <data>\n",
    "  <enabled>1</enabled>\n",
    "  <id>batman</id>\n",
    "  <storageLocation>/var/www/html/data/batman</storageLocation>\n",
    "  <lastLogin>1553946472000</lastLogin>\n",
    "  <backend>Database</backend>\n",
    "  <subadmin/>\n",
    "  <quota>\n",
    "   <free>1455417655296</free>\n",
    "   <used>467191265</used>\n",
    "   <total>1455884846561</total>\n",
    "   <relative>0.03</relative>\n",
    "   <quota>-3</quota>\n",
    "  </quota>\n",
    "  <email>batman@wayne.com</email>\n",
    "  <displayname>batman</displayname>\n",
    "  <phone>7351857301</phone>\n",
    "  <address>BatCave, Gotham City</address>\n",
    "  <website>https://batman.org</website>\n",
    "  <twitter>@the_batman</twitter>\n",
    "  <groups>\n",
    "   <element>admin</element>\n",
    "  </groups>\n",
    "  <language>fr</language>\n",
    "  <locale>fr_FR</locale>\n",
    "  <backendCapabilities>\n",
    "   <setDisplayName>1</setDisplayName>\n",
    "   <setPassword>1</setPassword>\n",
    "  </backendCapabilities>\n",
    " </data>\n",
    "</ocs>\n",
    "\"\"\",\n",
    "        )"
   ]
  },
  {
   "cell_type": "markdown",
   "metadata": {},
   "source": []
  }
 ],
 "metadata": {
  "language_info": {
   "name": "python"
  }
 },
 "nbformat": 4,
 "nbformat_minor": 2
}