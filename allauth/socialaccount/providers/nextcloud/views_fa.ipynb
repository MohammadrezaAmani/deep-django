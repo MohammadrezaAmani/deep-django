{
 "cells": [
  {
   "cell_type": "code",
   "execution_count": null,
   "metadata": {},
   "outputs": [],
   "source": [
    "import xml.etree.ElementTree as ET\n",
    "\n",
    "from allauth.core import context\n",
    "from allauth.socialaccount import app_settings\n",
    "from allauth.socialaccount.adapter import get_adapter\n",
    "from allauth.socialaccount.providers.oauth2.views import (\n",
    "    OAuth2Adapter,\n",
    "    OAuth2CallbackView,\n",
    "    OAuth2LoginView,\n",
    ")"
   ]
  },
  {
   "cell_type": "markdown",
   "metadata": {},
   "source": []
  },
  {
   "cell_type": "code",
   "execution_count": null,
   "metadata": {},
   "outputs": [],
   "source": [
    "class NextCloudOAuth2Adapter(OAuth2Adapter):\n",
    "    provider_id = \"nextcloud\"\n",
    "\n",
    "    def _build_server_url(self, path):\n",
    "        settings = app_settings.PROVIDERS.get(self.provider_id, {})\n",
    "        server = settings.get(\"SERVER\", \"https://nextcloud.example.org\")\n",
    "        # Prefer app based setting.\n",
    "        app = get_adapter().get_app(context.request, provider=self.provider_id)\n",
    "        server = app.settings.get(\"server\", server)\n",
    "        ret = f\"{server}{path}\"\n",
    "        return ret\n",
    "\n",
    "    @property\n",
    "    def access_token_url(self):\n",
    "        return self._build_server_url(\"/apps/oauth2/api/v1/token\")\n",
    "\n",
    "    @property\n",
    "    def authorize_url(self):\n",
    "        return self._build_server_url(\"/apps/oauth2/authorize\")\n",
    "\n",
    "    @property\n",
    "    def profile_url(self):\n",
    "        return self._build_server_url(\"/ocs/v1.php/cloud/users/\")\n",
    "\n",
    "    def complete_login(self, request, app, token, **kwargs):\n",
    "        extra_data = self.get_user_info(token, kwargs[\"response\"][\"user_id\"])\n",
    "        return self.get_provider().sociallogin_from_response(request, extra_data)\n",
    "\n",
    "    def get_user_info(self, token, user_id):\n",
    "        headers = {\"Authorization\": \"Bearer {0}\".format(token)}\n",
    "        resp = (\n",
    "            get_adapter()\n",
    "            .get_requests_session()\n",
    "            .get(self.profile_url + user_id, headers=headers)\n",
    "        )\n",
    "        resp.raise_for_status()\n",
    "        data = ET.fromstring(resp.content.decode())[1]\n",
    "        return {d.tag: d.text.strip() for d in data if d.text is not None}"
   ]
  },
  {
   "cell_type": "markdown",
   "metadata": {},
   "source": []
  },
  {
   "cell_type": "code",
   "execution_count": null,
   "metadata": {},
   "outputs": [],
   "source": [
    "oauth2_login = OAuth2LoginView.adapter_view(NextCloudOAuth2Adapter)\n",
    "oauth2_callback = OAuth2CallbackView.adapter_view(NextCloudOAuth2Adapter)"
   ]
  },
  {
   "cell_type": "markdown",
   "metadata": {},
   "source": []
  }
 ],
 "metadata": {
  "language_info": {
   "name": "python"
  }
 },
 "nbformat": 4,
 "nbformat_minor": 2
}