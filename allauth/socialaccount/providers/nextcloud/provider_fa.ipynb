{
    "cells": [
        {
            "cell_type": "code",
            "execution_count": null,
            "metadata": {},
            "outputs": [],
            "source": [
                "from allauth.socialaccount.providers.base import ProviderAccount\n",
                "from allauth.socialaccount.providers.nextcloud.views import NextCloudOAuth2Adapter\n",
                "from allauth.socialaccount.providers.oauth2.provider import OAuth2Provider\n"
            ]
        },
        {
            "cell_type": "markdown",
            "metadata": {},
            "source": []
        },
        {
            "cell_type": "code",
            "execution_count": null,
            "metadata": {},
            "outputs": [],
            "source": [
                "class NextCloudAccount(ProviderAccount):\n",
                "    pass\n"
            ]
        },
        {
            "cell_type": "markdown",
            "metadata": {},
            "source": []
        },
        {
            "cell_type": "code",
            "execution_count": null,
            "metadata": {},
            "outputs": [],
            "source": [
                "class NextCloudProvider(OAuth2Provider):\n",
                "    id = \"nextcloud\"\n",
                "    name = \"NextCloud\"\n",
                "    account_class = NextCloudAccount\n",
                "    oauth2_adapter_class = NextCloudOAuth2Adapter\n",
                "\n",
                "    def extract_uid(self, data):\n",
                "        return str(data[\"id\"])\n",
                "\n",
                "    def extract_common_fields(self, data):\n",
                "        return dict(\n",
                "            username=data[\"displayname\"],\n",
                "            email=data[\"email\"],\n",
                "        )\n",
                "\n",
                "    def get_default_scope(self):\n",
                "        scope = [\"read\"]\n",
                "        return scope\n"
            ]
        },
        {
            "cell_type": "markdown",
            "metadata": {},
            "source": []
        },
        {
            "cell_type": "code",
            "execution_count": null,
            "metadata": {},
            "outputs": [],
            "source": [
                "provider_classes = [NextCloudProvider]\n",
                "\n"
            ]
        },
        {
            "cell_type": "markdown",
            "metadata": {},
            "source": []
        }
    ],
    "metadata": {
        "language_info": {
            "name": "python"
        }
    },
    "nbformat": 4,
    "nbformat_minor": 2
}