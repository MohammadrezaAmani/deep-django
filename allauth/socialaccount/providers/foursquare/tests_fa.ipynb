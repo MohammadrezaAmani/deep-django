{
 "cells": [
  {
   "cell_type": "code",
   "execution_count": null,
   "metadata": {},
   "outputs": [],
   "source": [
    "from allauth.socialaccount.tests import OAuth2TestsMixin\n",
    "from allauth.tests import MockedResponse, TestCase\n",
    "\n",
    "from .provider import FoursquareProvider"
   ]
  },
  {
   "cell_type": "markdown",
   "metadata": {},
   "source": []
  },
  {
   "cell_type": "code",
   "execution_count": null,
   "metadata": {},
   "outputs": [],
   "source": [
    "class FoursquareTests(OAuth2TestsMixin, TestCase):\n",
    "    provider_id = FoursquareProvider.id\n",
    "\n",
    "    def get_mocked_response(self):\n",
    "        return MockedResponse(\n",
    "            200,\n",
    "            \"\"\"\n",
    "{\"notifications\": [{\"item\": {\"unreadCount\": 0}, \"type\": \"notificationTray\"}],\n",
    "                                \"meta\": {\"code\": 200},\n",
    " \"response\": {\n",
    " \"user\": {\n",
    "   \"photo\": {\n",
    "     \"prefix\": \"https://irs0.4sqi.net/img/user/\", \"suffix\": \"/blank_boy.png\"},\n",
    "   \"pings\": false,\n",
    "   \"homeCity\": \"Athens, ESYE31\",\n",
    "   \"id\": \"76077726\",\n",
    "   \"badges\": {\"count\": 0, \"items\": []},\n",
    "   \"referralId\": \"u-76077726\",\n",
    "   \"friends\":\n",
    "   {\n",
    "       \"count\": 0,\n",
    "       \"groups\": [{\"count\": 0, \"items\": [], \"type\": \"friends\",\n",
    "\"name\": \"Mutual friends\"}, {\"count\": 0, \"items\": [], \"type\": \"others\",\n",
    "\"name\": \"Other friends\"}]\n",
    "   },\n",
    "   \"createdAt\": 1389624445,\n",
    "   \"tips\": {\"count\": 0},\n",
    "   \"type\": \"user\",\n",
    "   \"bio\": \"\",\n",
    "   \"relationship\": \"self\",\n",
    "   \"lists\":\n",
    "   {\n",
    "       \"count\": 1,\n",
    "       \"groups\": [{\"count\": 1, \"items\": [{\"description\": \"\",\n",
    "\"collaborative\": false, \"url\": \"/user/76077726/list/todos\", \"editable\": false,\n",
    "\"listItems\": {\"count\": 0}, \"id\": \"76077726/todos\", \"followers\": {\"count\": 0},\n",
    "\"user\": {\"gender\": \"male\",\n",
    "\"firstName\": \"\\u03a1\\u03c9\\u03bc\\u03b1\\u03bd\\u03cc\\u03c2\",\n",
    "\"relationship\": \"self\", \"photo\": {\"prefix\": \"https://irs0.4sqi.net/img/user/\",\n",
    "\"suffix\": \"/blank_boy.png\"},\n",
    "\"lastName\": \"\\u03a4\\u03c3\\u03bf\\u03c5\\u03c1\\u03bf\\u03c0\\u03bb\\u03ae\\u03c2\",\n",
    "\"id\": \"76077726\"}, \"public\": false,\n",
    "\"canonicalUrl\": \"https://foursquare.com/user/76077726/list/todos\",\n",
    "\"name\": \"My to-do list\"}], \"type\": \"created\"}, {\"count\": 0, \"items\": [],\n",
    "\"type\": \"followed\"}]\n",
    "   },\n",
    "   \"photos\": {\"count\": 0, \"items\": []},\n",
    "   \"checkinPings\": \"off\",\n",
    "   \"scores\": {\"max\": 0, \"checkinsCount\": 0, \"goal\": 50, \"recent\": 0},\n",
    "   \"checkins\": {\"count\": 0, \"items\": []},\n",
    "   \"firstName\": \"\\u03a1\\u03c9\\u03bc\\u03b1\\u03bd\\u03cc\\u03c2\",\n",
    "   \"gender\": \"male\",\n",
    "   \"contact\": {\"email\": \"romdimtsouroplis@example.com\"},\n",
    "   \"lastName\": \"\\u03a4\\u03c3\\u03bf\\u03c5\\u03c1\\u03bf\\u03c0\\u03bb\\u03ae\\u03c2\",\n",
    "   \"following\": {\"count\": 0, \"groups\": [{\"count\": 0, \"items\": [],\n",
    "\"type\": \"following\", \"name\": \"Mutual following\"}, {\"count\": 0, \"items\": [],\n",
    "\"type\": \"others\", \"name\": \"Other following\"}]},\n",
    "   \"requests\": {\"count\": 0}, \"mayorships\": {\"count\": 0, \"items\": []}}\n",
    "                                    }\n",
    "                                 }\n",
    "\"\"\",\n",
    "        )"
   ]
  },
  {
   "cell_type": "markdown",
   "metadata": {},
   "source": []
  }
 ],
 "metadata": {
  "language_info": {
   "name": "python"
  }
 },
 "nbformat": 4,
 "nbformat_minor": 2
}