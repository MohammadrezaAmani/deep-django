{
 "cells": [
  {
   "cell_type": "code",
   "execution_count": null,
   "metadata": {},
   "outputs": [],
   "source": [
    "from allauth.socialaccount.adapter import get_adapter\n",
    "from allauth.socialaccount.providers.oauth2.views import (\n",
    "    OAuth2Adapter,\n",
    "    OAuth2CallbackView,\n",
    "    OAuth2LoginView,\n",
    ")"
   ]
  },
  {
   "cell_type": "markdown",
   "metadata": {},
   "source": []
  },
  {
   "cell_type": "code",
   "execution_count": null,
   "metadata": {},
   "outputs": [],
   "source": [
    "class FoursquareOAuth2Adapter(OAuth2Adapter):\n",
    "    provider_id = \"foursquare\"\n",
    "    access_token_url = \"https://foursquare.com/oauth2/access_token\"\n",
    "    # Issue ?? -- this one authenticates over and over again...\n",
    "    # authorize_url = 'https://foursquare.com/oauth2/authorize'\n",
    "    authorize_url = \"https://foursquare.com/oauth2/authenticate\"\n",
    "    profile_url = \"https://api.foursquare.com/v2/users/self\"\n",
    "\n",
    "    def complete_login(self, request, app, token, **kwargs):\n",
    "        # Foursquare needs a version number for their API requests as\n",
    "        # documented here\n",
    "        # https://developer.foursquare.com/overview/versioning\n",
    "        resp = (\n",
    "            get_adapter()\n",
    "            .get_requests_session()\n",
    "            .get(\n",
    "                self.profile_url,\n",
    "                params={\"oauth_token\": token.token, \"v\": \"20140116\"},\n",
    "            )\n",
    "        )\n",
    "        extra_data = resp.json()[\"response\"][\"user\"]\n",
    "        return self.get_provider().sociallogin_from_response(request, extra_data)"
   ]
  },
  {
   "cell_type": "markdown",
   "metadata": {},
   "source": []
  },
  {
   "cell_type": "code",
   "execution_count": null,
   "metadata": {},
   "outputs": [],
   "source": [
    "oauth2_login = OAuth2LoginView.adapter_view(FoursquareOAuth2Adapter)\n",
    "oauth2_callback = OAuth2CallbackView.adapter_view(FoursquareOAuth2Adapter)"
   ]
  },
  {
   "cell_type": "markdown",
   "metadata": {},
   "source": []
  }
 ],
 "metadata": {
  "language_info": {
   "name": "python"
  }
 },
 "nbformat": 4,
 "nbformat_minor": 2
}