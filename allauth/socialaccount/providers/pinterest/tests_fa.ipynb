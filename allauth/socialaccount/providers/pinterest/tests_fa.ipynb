{
 "cells": [
  {
   "cell_type": "code",
   "execution_count": null,
   "metadata": {},
   "outputs": [],
   "source": [
    "from allauth.socialaccount.tests import OAuth2TestsMixin\n",
    "from allauth.tests import MockedResponse, TestCase\n",
    "from django.test.utils import override_settings\n",
    "\n",
    "from .provider import PinterestProvider"
   ]
  },
  {
   "cell_type": "markdown",
   "metadata": {},
   "source": []
  },
  {
   "cell_type": "code",
   "execution_count": null,
   "metadata": {},
   "outputs": [],
   "source": [
    "class PinterestTests(OAuth2TestsMixin, TestCase):\n",
    "    provider_id = PinterestProvider.id\n",
    "\n",
    "    def get_mocked_response(self):\n",
    "        return MockedResponse(\n",
    "            200,\n",
    "            \"\"\"\n",
    "            {\n",
    "                \"data\": {\n",
    "                    \"url\": \"https://www.pinterest.com/muravskiyyarosl/\",\n",
    "                    \"first_name\": \"Jane\",\n",
    "                    \"last_name\": \"Doe\",\n",
    "                    \"id\": \"351247977031674143\"\n",
    "                }\n",
    "            }\n",
    "            \"\"\",\n",
    "        )\n",
    "\n",
    "    @override_settings(\n",
    "        SOCIALACCOUNT_AUTO_SIGNUP=False,\n",
    "        SOCIALACCOUNT_PROVIDERS={\n",
    "            \"pinterest\": {\n",
    "                \"API_VERSION\": \"v5\",\n",
    "            }\n",
    "        },\n",
    "    )\n",
    "    def test_login_v5(self):\n",
    "        self.provider_id = PinterestProvider.id\n",
    "        resp = self.login(\n",
    "            MockedResponse(\n",
    "                200,\n",
    "                \"\"\"\n",
    "                {\n",
    "                    \"account_type\": \"BUSINESS\",\n",
    "                    \"profile_image\": \"https://i.pinimg.com/280x280_RS/5c/88/2f/5c882f4b02468fcd6cda2ce569c2c166.jpg\",\n",
    "                    \"website_url\": \"https://sns-sdks.github.io/\",\n",
    "                    \"username\": \"enjoylifebot\"\n",
    "                }\n",
    "                \"\"\",\n",
    "            ),\n",
    "        )\n",
    "        assert resp.status_code == 302"
   ]
  },
  {
   "cell_type": "markdown",
   "metadata": {},
   "source": []
  }
 ],
 "metadata": {
  "language_info": {
   "name": "python"
  }
 },
 "nbformat": 4,
 "nbformat_minor": 2
}