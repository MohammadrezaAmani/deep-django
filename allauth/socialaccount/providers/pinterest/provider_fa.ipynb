{
 "cells": [
  {
   "cell_type": "code",
   "execution_count": null,
   "metadata": {},
   "outputs": [],
   "source": [
    "from allauth.socialaccount.providers.base import ProviderAccount\n",
    "from allauth.socialaccount.providers.oauth2.provider import OAuth2Provider\n",
    "from allauth.socialaccount.providers.pinterest.views import PinterestOAuth2Adapter"
   ]
  },
  {
   "cell_type": "markdown",
   "metadata": {},
   "source": []
  },
  {
   "cell_type": "code",
   "execution_count": null,
   "metadata": {},
   "outputs": [],
   "source": [
    "class PinterestAccount(ProviderAccount):\n",
    "    def get_username(self):\n",
    "        return self.account.extra_data.get(\"username\")\n",
    "\n",
    "    def get_profile_url(self):\n",
    "        # v5 extra_data not same as v1\n",
    "        username = self.get_username()\n",
    "        if username:\n",
    "            return \"https://www.pinterest.com/{}/\".format(username)\n",
    "        return self.account.extra_data.get(\"url\")\n",
    "\n",
    "    def get_avatar_url(self):\n",
    "        return self.account.extra_data.get(\"profile_image\")\n",
    "\n",
    "    def to_str(self):\n",
    "        dflt = super(PinterestAccount, self).to_str()\n",
    "        return self.account.extra_data.get(\"username\", dflt)"
   ]
  },
  {
   "cell_type": "markdown",
   "metadata": {},
   "source": []
  },
  {
   "cell_type": "code",
   "execution_count": null,
   "metadata": {},
   "outputs": [],
   "source": [
    "class PinterestProvider(OAuth2Provider):\n",
    "    id = \"pinterest\"\n",
    "    name = \"Pinterest\"\n",
    "    account_class = PinterestAccount\n",
    "    oauth2_adapter_class = PinterestOAuth2Adapter\n",
    "\n",
    "    @property\n",
    "    def api_version(self):\n",
    "        return self.get_settings().get(\"API_VERSION\", \"v1\")\n",
    "\n",
    "    def get_default_scope(self):\n",
    "        # See: https://developers.pinterest.com/docs/api/overview/#scopes\n",
    "        if self.api_version == \"v5\":\n",
    "            # See: https://developers.pinterest.com/docs/getting-started/scopes/\n",
    "            return [\"user_accounts:read\"]\n",
    "        elif self.api_version == \"v3\":\n",
    "            return [\"read_users\"]\n",
    "        return [\"read_public\"]\n",
    "\n",
    "    def extract_extra_data(self, data):\n",
    "        if self.api_version == \"v5\":\n",
    "            return data\n",
    "        return data.get(\"data\", {})\n",
    "\n",
    "    def extract_uid(self, data):\n",
    "        if self.api_version == \"v5\":\n",
    "            return data[\"username\"]\n",
    "        return str(data[\"data\"][\"id\"])\n",
    "\n",
    "    def extract_common_fields(self, data):\n",
    "        if self.api_version == \"v5\":\n",
    "            return dict(username=data[\"username\"])\n",
    "        return dict(\n",
    "            first_name=data.get(\"data\", {}).get(\"first_name\"),\n",
    "            last_name=data.get(\"data\", {}).get(\"last_name\"),\n",
    "        )"
   ]
  },
  {
   "cell_type": "markdown",
   "metadata": {},
   "source": []
  },
  {
   "cell_type": "code",
   "execution_count": null,
   "metadata": {},
   "outputs": [],
   "source": [
    "provider_classes = [PinterestProvider]"
   ]
  },
  {
   "cell_type": "markdown",
   "metadata": {},
   "source": []
  }
 ],
 "metadata": {
  "language_info": {
   "name": "python"
  }
 },
 "nbformat": 4,
 "nbformat_minor": 2
}