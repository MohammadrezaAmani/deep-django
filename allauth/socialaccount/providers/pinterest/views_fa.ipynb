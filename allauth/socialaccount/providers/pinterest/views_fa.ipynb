{
 "cells": [
  {
   "cell_type": "code",
   "execution_count": null,
   "metadata": {},
   "outputs": [],
   "source": [
    "from allauth.socialaccount import app_settings\n",
    "from allauth.socialaccount.adapter import get_adapter\n",
    "from allauth.socialaccount.providers.oauth2.views import (\n",
    "    OAuth2Adapter,\n",
    "    OAuth2CallbackView,\n",
    "    OAuth2LoginView,\n",
    ")"
   ]
  },
  {
   "cell_type": "markdown",
   "metadata": {},
   "source": []
  },
  {
   "cell_type": "code",
   "execution_count": null,
   "metadata": {},
   "outputs": [],
   "source": [
    "class PinterestOAuth2Adapter(OAuth2Adapter):\n",
    "    provider_id = \"pinterest\"\n",
    "\n",
    "    provider_default_url = \"api.pinterest.com\"\n",
    "    provider_default_api_version = \"v1\"\n",
    "\n",
    "    settings = app_settings.PROVIDERS.get(provider_id, {})\n",
    "\n",
    "    provider_base_url = settings.get(\"PINTEREST_URL\", provider_default_url)\n",
    "    provider_api_version = settings.get(\"API_VERSION\", provider_default_api_version)\n",
    "\n",
    "    authorize_url = \"https://www.pinterest.com/oauth/\"\n",
    "    access_token_url = \"https://{0}/{1}/oauth/token\".format(\n",
    "        provider_base_url, provider_api_version\n",
    "    )\n",
    "    basic_auth = True\n",
    "    if provider_api_version == \"v5\":\n",
    "        profile_url = \"https://{0}/{1}/user_account\".format(\n",
    "            provider_base_url, provider_api_version\n",
    "        )\n",
    "    elif provider_api_version == \"v3\":\n",
    "        profile_url = \"https://{0}/{1}/users/me\".format(\n",
    "            provider_base_url, provider_api_version\n",
    "        )\n",
    "    else:\n",
    "        profile_url = \"https://{0}/{1}/me\".format(\n",
    "            provider_base_url, provider_api_version\n",
    "        )\n",
    "\n",
    "    if provider_api_version == \"v3\":\n",
    "        access_token_method = \"PUT\"\n",
    "\n",
    "    def complete_login(self, request, app, token, **kwargs):\n",
    "        response = (\n",
    "            get_adapter()\n",
    "            .get_requests_session()\n",
    "            .get(self.profile_url, headers={\"Authorization\": \"Bearer \" + token.token})\n",
    "        )\n",
    "        extra_data = response.json()\n",
    "        return self.get_provider().sociallogin_from_response(request, extra_data)"
   ]
  },
  {
   "cell_type": "markdown",
   "metadata": {},
   "source": []
  },
  {
   "cell_type": "code",
   "execution_count": null,
   "metadata": {},
   "outputs": [],
   "source": [
    "oauth2_login = OAuth2LoginView.adapter_view(PinterestOAuth2Adapter)\n",
    "oauth2_callback = OAuth2CallbackView.adapter_view(PinterestOAuth2Adapter)"
   ]
  },
  {
   "cell_type": "markdown",
   "metadata": {},
   "source": []
  }
 ],
 "metadata": {
  "language_info": {
   "name": "python"
  }
 },
 "nbformat": 4,
 "nbformat_minor": 2
}