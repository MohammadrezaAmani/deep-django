{
 "cells": [
  {
   "cell_type": "code",
   "execution_count": null,
   "metadata": {},
   "outputs": [],
   "source": [
    "import json\n",
    "\n",
    "from allauth.socialaccount.models import SocialAccount\n",
    "from allauth.socialaccount.providers.oauth2.client import OAuth2Error\n",
    "from allauth.socialaccount.tests import OAuth2TestsMixin\n",
    "from allauth.tests import MockedResponse, TestCase\n",
    "\n",
    "from .provider import BattleNetProvider\n",
    "from .views import _check_errors"
   ]
  },
  {
   "cell_type": "markdown",
   "metadata": {},
   "source": []
  },
  {
   "cell_type": "code",
   "execution_count": null,
   "metadata": {},
   "outputs": [],
   "source": [
    "class BattleNetTests(OAuth2TestsMixin, TestCase):\n",
    "    provider_id = BattleNetProvider.id\n",
    "    _uid = 123456789\n",
    "    _battletag = \"LuckyDragon#1953\"\n",
    "\n",
    "    def get_mocked_response(self):\n",
    "        data = {\"battletag\": self._battletag, \"id\": self._uid}\n",
    "        return MockedResponse(200, json.dumps(data))\n",
    "\n",
    "    def test_valid_response_no_battletag(self):\n",
    "        data = {\"id\": 12345}\n",
    "        response = MockedResponse(200, json.dumps(data))\n",
    "        self.assertEqual(_check_errors(response), data)\n",
    "\n",
    "    def test_invalid_data(self):\n",
    "        response = MockedResponse(200, json.dumps({}))\n",
    "        with self.assertRaises(OAuth2Error):\n",
    "            # No id, raises\n",
    "            _check_errors(response)\n",
    "\n",
    "    def test_profile_invalid_response(self):\n",
    "        data = {\"code\": 403, \"type\": \"Forbidden\", \"detail\": \"Account Inactive\"}\n",
    "        response = MockedResponse(401, json.dumps(data))\n",
    "\n",
    "        with self.assertRaises(OAuth2Error):\n",
    "            # no id, 4xx code, raises\n",
    "            _check_errors(response)\n",
    "\n",
    "    def test_error_response(self):\n",
    "        body = json.dumps({\"error\": \"invalid_token\"})\n",
    "        response = MockedResponse(400, body)\n",
    "\n",
    "        with self.assertRaises(OAuth2Error):\n",
    "            # no id, 4xx code, raises\n",
    "            _check_errors(response)\n",
    "\n",
    "    def test_service_not_found(self):\n",
    "        response = MockedResponse(596, \"<h1>596 Service Not Found</h1>\")\n",
    "        with self.assertRaises(OAuth2Error):\n",
    "            # bad json, 5xx code, raises\n",
    "            _check_errors(response)\n",
    "\n",
    "    def test_invalid_response(self):\n",
    "        response = MockedResponse(200, \"invalid json data\")\n",
    "        with self.assertRaises(OAuth2Error):\n",
    "            # bad json, raises\n",
    "            _check_errors(response)\n",
    "\n",
    "    def test_extra_data(self):\n",
    "        self.login(self.get_mocked_response())\n",
    "        account = SocialAccount.objects.get(uid=str(self._uid))\n",
    "        self.assertEqual(account.extra_data[\"battletag\"], self._battletag)\n",
    "        self.assertEqual(account.extra_data[\"id\"], self._uid)\n",
    "        self.assertEqual(account.extra_data[\"region\"], \"us\")"
   ]
  },
  {
   "cell_type": "markdown",
   "metadata": {},
   "source": []
  }
 ],
 "metadata": {
  "language_info": {
   "name": "python"
  }
 },
 "nbformat": 4,
 "nbformat_minor": 2
}