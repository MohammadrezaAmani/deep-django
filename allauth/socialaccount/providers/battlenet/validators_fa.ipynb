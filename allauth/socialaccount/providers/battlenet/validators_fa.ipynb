{
 "cells": [
  {
   "cell_type": "code",
   "execution_count": null,
   "metadata": {},
   "outputs": [],
   "source": [
    "from django.core.validators import RegexValidator\n",
    "\n",
    "BattletagUsernameValidator = RegexValidator(r\"^[\\w.]+#\\d+$\")"
   ]
  },
  {
   "cell_type": "markdown",
   "metadata": {},
   "source": []
  }
 ],
 "metadata": {
  "language_info": {
   "name": "python"
  }
 },
 "nbformat": 4,
 "nbformat_minor": 2
}