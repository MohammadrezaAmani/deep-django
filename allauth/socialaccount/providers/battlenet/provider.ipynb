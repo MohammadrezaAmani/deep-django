{
    "cells": [
        {
            "cell_type": "code",
            "execution_count": null,
            "metadata": {},
            "outputs": [],
            "source": [
                "from allauth.socialaccount.providers.base import ProviderAccount\n",
                "from allauth.socialaccount.providers.battlenet.views import (\n",
                "    BattleNetOAuth2Adapter,\n",
                ")\n",
                "from allauth.socialaccount.providers.oauth2.provider import OAuth2Provider\n"
            ]
        },
        {
            "cell_type": "markdown",
            "metadata": {},
            "source": []
        },
        {
            "cell_type": "code",
            "execution_count": null,
            "metadata": {},
            "outputs": [],
            "source": [
                "class BattleNetAccount(ProviderAccount):\n",
                "    def to_str(self):\n",
                "        battletag = self.account.extra_data.get(\"battletag\")\n",
                "        return battletag or super(BattleNetAccount, self).to_str()\n"
            ]
        },
        {
            "cell_type": "markdown",
            "metadata": {},
            "source": []
        },
        {
            "cell_type": "code",
            "execution_count": null,
            "metadata": {},
            "outputs": [],
            "source": [
                "class BattleNetProvider(OAuth2Provider):\n",
                "    id = \"battlenet\"\n",
                "    name = \"Battle.net\"\n",
                "    account_class = BattleNetAccount\n",
                "    oauth2_adapter_class = BattleNetOAuth2Adapter\n",
                "\n",
                "    def extract_uid(self, data):\n",
                "        uid = str(data[\"id\"])\n",
                "        if data.get(\"region\") == \"cn\":\n",
                "            # China is on a different account system. UIDs can clash with US.\n",
                "            return uid + \"-cn\"\n",
                "        return uid\n",
                "\n",
                "    def extract_common_fields(self, data):\n",
                "        return {\"username\": data.get(\"battletag\")}\n",
                "\n",
                "    def get_default_scope(self):\n",
                "        # Optional scopes: \"sc2.profile\", \"wow.profile\"\n",
                "        return []\n"
            ]
        },
        {
            "cell_type": "markdown",
            "metadata": {},
            "source": []
        },
        {
            "cell_type": "code",
            "execution_count": null,
            "metadata": {},
            "outputs": [],
            "source": [
                "provider_classes = [BattleNetProvider]\n",
                "\n"
            ]
        },
        {
            "cell_type": "markdown",
            "metadata": {},
            "source": []
        }
    ],
    "metadata": {
        "language_info": {
            "name": "python"
        }
    },
    "nbformat": 4,
    "nbformat_minor": 2
}