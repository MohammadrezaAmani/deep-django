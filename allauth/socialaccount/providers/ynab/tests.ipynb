{
    "cells": [
        {
            "cell_type": "code",
            "execution_count": null,
            "metadata": {},
            "outputs": [],
            "source": [
                "from requests.exceptions import HTTPError\n",
                "\n",
                "from django.test.client import RequestFactory\n",
                "from django.test.utils import override_settings\n",
                "from django.urls import reverse\n",
                "\n",
                "from allauth.socialaccount.models import SocialToken\n",
                "from allauth.socialaccount.tests import OAuth2TestsMixin\n",
                "from allauth.tests import MockedResponse, TestCase, mocked_response\n",
                "\n",
                "from .provider import YNABProvider\n"
            ]
        },
        {
            "cell_type": "markdown",
            "metadata": {},
            "source": []
        },
        {
            "cell_type": "code",
            "execution_count": null,
            "metadata": {},
            "outputs": [],
            "source": [
                "@override_settings(\n",
                "    SOCIALACCOUNT_AUTO_SIGNUP=True,\n",
                "    ACCOUNT_SIGNUP_FORM_CLASS=None,\n",
                ")\n",
                "# ACCOUNT_EMAIL_VERIFICATION=account_settings\n",
                "# .EmailVerificationMethod.MANDATORY)\n",
                "class YNABTests(OAuth2TestsMixin, TestCase):\n",
                "    provider_id = YNABProvider.id\n",
                "\n",
                "    def get_mocked_response(self):\n",
                "        return MockedResponse(\n",
                "            200,\n",
                "            \"\"\"\n",
                "              {\"data\": {\n",
                "        \"user\":{\n",
                "        \"id\": \"abcd1234xyz5678\"\n",
                "                    }\n",
                "                }\n",
                "              }\n",
                "        \"\"\",\n",
                "        )\n",
                "\n",
                "    def test_ynab_compelete_login_401(self):\n",
                "        from allauth.socialaccount.providers.ynab.views import (\n",
                "            YNABOAuth2Adapter,\n",
                "        )\n",
                "\n",
                "        class LessMockedResponse(MockedResponse):\n",
                "            def raise_for_status(self):\n",
                "                if self.status_code != 200:\n",
                "                    raise HTTPError(None)\n",
                "\n",
                "        request = RequestFactory().get(\n",
                "            reverse(self.provider.id + \"_login\"), dict(process=\"login\")\n",
                "        )\n",
                "\n",
                "        adapter = YNABOAuth2Adapter(request)\n",
                "        app = adapter.get_provider().app\n",
                "        token = SocialToken(token=\"some_token\")\n",
                "        response_with_401 = LessMockedResponse(\n",
                "            401,\n",
                "            \"\"\"\n",
                "            {\"error\": {\n",
                "              \"errors\": [{\n",
                "                \"domain\": \"global\",\n",
                "                \"reason\": \"authError\",\n",
                "                \"message\": \"Invalid Credentials\",\n",
                "                \"locationType\": \"header\",\n",
                "                \"location\": \"Authorization\" } ],\n",
                "              \"code\": 401,\n",
                "              \"message\": \"Invalid Credentials\" }\n",
                "            }\"\"\",\n",
                "        )\n",
                "        with mocked_response(response_with_401):\n",
                "            with self.assertRaises(HTTPError):\n",
                "                adapter.complete_login(request, app, token)\n",
                "\n"
            ]
        },
        {
            "cell_type": "markdown",
            "metadata": {},
            "source": []
        }
    ],
    "metadata": {
        "language_info": {
            "name": "python"
        }
    },
    "nbformat": 4,
    "nbformat_minor": 2
}