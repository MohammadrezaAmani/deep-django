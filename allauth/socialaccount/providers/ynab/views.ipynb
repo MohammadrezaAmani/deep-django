{
 "cells": [
  {
   "cell_type": "code",
   "execution_count": null,
   "metadata": {},
   "outputs": [],
   "source": [
    "from allauth.socialaccount.adapter import get_adapter\n",
    "from allauth.socialaccount.providers.oauth2.views import (\n",
    "    OAuth2Adapter,\n",
    "    OAuth2CallbackView,\n",
    "    OAuth2LoginView,\n",
    ")"
   ]
  },
  {
   "cell_type": "markdown",
   "metadata": {},
   "source": []
  },
  {
   "cell_type": "code",
   "execution_count": null,
   "metadata": {},
   "outputs": [],
   "source": [
    "class YNABOAuth2Adapter(OAuth2Adapter):\n",
    "    provider_id = \"ynab\"\n",
    "    access_token_url = \"https://app.youneedabudget.com/oauth/token\"\n",
    "    authorize_url = \"https://app.youneedabudget.com/oauth/authorize\"\n",
    "    profile_url = \"https://api.youneedabudget.com/v1/user\"\n",
    "\n",
    "    def complete_login(self, request, app, token, **kwargs):\n",
    "        resp = (\n",
    "            get_adapter()\n",
    "            .get_requests_session()\n",
    "            .get(\n",
    "                self.profile_url,\n",
    "                headers={\"Authorization\": \"Bearer {}\".format(token.token)},\n",
    "            )\n",
    "        )\n",
    "        resp.raise_for_status()\n",
    "        extra_data = resp.json()\n",
    "        login = self.get_provider().sociallogin_from_response(request, extra_data)\n",
    "        return login"
   ]
  },
  {
   "cell_type": "markdown",
   "metadata": {},
   "source": []
  },
  {
   "cell_type": "code",
   "execution_count": null,
   "metadata": {},
   "outputs": [],
   "source": [
    "oauth2_login = OAuth2LoginView.adapter_view(YNABOAuth2Adapter)\n",
    "oauth2_callback = OAuth2CallbackView.adapter_view(YNABOAuth2Adapter)"
   ]
  },
  {
   "cell_type": "markdown",
   "metadata": {},
   "source": []
  }
 ],
 "metadata": {
  "language_info": {
   "name": "python"
  }
 },
 "nbformat": 4,
 "nbformat_minor": 2
}