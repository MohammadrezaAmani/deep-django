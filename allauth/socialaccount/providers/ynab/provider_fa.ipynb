{
    "cells": [
        {
            "cell_type": "code",
            "execution_count": null,
            "metadata": {},
            "outputs": [],
            "source": [
                "from allauth.socialaccount.providers.base import AuthAction, ProviderAccount\n",
                "from allauth.socialaccount.providers.oauth2.provider import OAuth2Provider\n",
                "from allauth.socialaccount.providers.ynab.views import YNABOAuth2Adapter\n"
            ]
        },
        {
            "cell_type": "markdown",
            "metadata": {},
            "source": []
        },
        {
            "cell_type": "code",
            "execution_count": null,
            "metadata": {},
            "outputs": [],
            "source": [
                "class Scope(object):\n",
                "    ACCESS = \"read-only\"\n"
            ]
        },
        {
            "cell_type": "markdown",
            "metadata": {},
            "source": []
        },
        {
            "cell_type": "code",
            "execution_count": null,
            "metadata": {},
            "outputs": [],
            "source": [
                "class YNABAccount(ProviderAccount):\n",
                "    pass\n"
            ]
        },
        {
            "cell_type": "markdown",
            "metadata": {},
            "source": []
        },
        {
            "cell_type": "code",
            "execution_count": null,
            "metadata": {},
            "outputs": [],
            "source": [
                "class YNABProvider(OAuth2Provider):\n",
                "    id = \"ynab\"\n",
                "    name = \"YNAB\"\n",
                "    account_class = YNABAccount\n",
                "    oauth2_adapter_class = YNABOAuth2Adapter\n",
                "\n",
                "    def get_default_scope(self):\n",
                "        scope = [Scope.ACCESS]\n",
                "        return scope\n",
                "\n",
                "    def get_auth_params_from_request(self, request, action):\n",
                "        ret = super().get_auth_params_from_request(request, action)\n",
                "        if action == AuthAction.REAUTHENTICATE:\n",
                "            ret[\"prompt\"] = \"select_account consent\"\n",
                "        return ret\n",
                "\n",
                "    def extract_uid(self, data):\n",
                "        return str(data[\"data\"][\"user\"][\"id\"])\n"
            ]
        },
        {
            "cell_type": "markdown",
            "metadata": {},
            "source": []
        },
        {
            "cell_type": "code",
            "execution_count": null,
            "metadata": {},
            "outputs": [],
            "source": [
                "provider_classes = [YNABProvider]\n",
                "\n"
            ]
        },
        {
            "cell_type": "markdown",
            "metadata": {},
            "source": []
        }
    ],
    "metadata": {
        "language_info": {
            "name": "python"
        }
    },
    "nbformat": 4,
    "nbformat_minor": 2
}