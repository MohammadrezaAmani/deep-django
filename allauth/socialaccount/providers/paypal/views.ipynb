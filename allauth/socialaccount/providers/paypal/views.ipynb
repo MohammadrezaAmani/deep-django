{
    "cells": [
        {
            "cell_type": "code",
            "execution_count": null,
            "metadata": {},
            "outputs": [],
            "source": [
                "from allauth.socialaccount.adapter import get_adapter\n",
                "from allauth.socialaccount.providers.oauth2.views import (\n",
                "    OAuth2Adapter,\n",
                "    OAuth2CallbackView,\n",
                "    OAuth2LoginView,\n",
                ")\n"
            ]
        },
        {
            "cell_type": "markdown",
            "metadata": {},
            "source": []
        },
        {
            "cell_type": "code",
            "execution_count": null,
            "metadata": {},
            "outputs": [],
            "source": [
                "class PaypalOAuth2Adapter(OAuth2Adapter):\n",
                "    provider_id = \"paypal\"\n",
                "\n",
                "    @property\n",
                "    def authorize_url(self):\n",
                "        path = \"webapps/auth/protocol/openidconnect/v1/authorize\"\n",
                "        return \"https://www.{0}/{1}\".format(self._get_endpoint(), path)\n",
                "\n",
                "    @property\n",
                "    def access_token_url(self):\n",
                "        path = \"v1/identity/openidconnect/tokenservice\"\n",
                "        return \"https://api.{0}/{1}\".format(self._get_endpoint(), path)\n",
                "\n",
                "    @property\n",
                "    def profile_url(self):\n",
                "        path = \"v1/identity/openidconnect/userinfo\"\n",
                "        return \"https://api.{0}/{1}\".format(self._get_endpoint(), path)\n",
                "\n",
                "    def _get_endpoint(self):\n",
                "        settings = self.get_provider().get_settings()\n",
                "        if settings.get(\"MODE\") == \"live\":\n",
                "            return \"paypal.com\"\n",
                "        else:\n",
                "            return \"sandbox.paypal.com\"\n",
                "\n",
                "    def complete_login(self, request, app, token, **kwargs):\n",
                "        response = (\n",
                "            get_adapter()\n",
                "            .get_requests_session()\n",
                "            .post(\n",
                "                self.profile_url,\n",
                "                params={\"schema\": \"openid\", \"access_token\": token},\n",
                "            )\n",
                "        )\n",
                "        extra_data = response.json()\n",
                "        return self.get_provider().sociallogin_from_response(request, extra_data)\n"
            ]
        },
        {
            "cell_type": "markdown",
            "metadata": {},
            "source": []
        },
        {
            "cell_type": "code",
            "execution_count": null,
            "metadata": {},
            "outputs": [],
            "source": [
                "oauth2_login = OAuth2LoginView.adapter_view(PaypalOAuth2Adapter)\n",
                "oauth2_callback = OAuth2CallbackView.adapter_view(PaypalOAuth2Adapter)\n",
                "\n"
            ]
        },
        {
            "cell_type": "markdown",
            "metadata": {},
            "source": []
        }
    ],
    "metadata": {
        "language_info": {
            "name": "python"
        }
    },
    "nbformat": 4,
    "nbformat_minor": 2
}