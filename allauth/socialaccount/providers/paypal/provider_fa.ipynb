{
    "cells": [
        {
            "cell_type": "code",
            "execution_count": null,
            "metadata": {},
            "outputs": [],
            "source": [
                "from allauth.socialaccount.providers.base import ProviderAccount\n",
                "from allauth.socialaccount.providers.oauth2.provider import OAuth2Provider\n",
                "from allauth.socialaccount.providers.paypal.views import PaypalOAuth2Adapter\n"
            ]
        },
        {
            "cell_type": "markdown",
            "metadata": {},
            "source": []
        },
        {
            "cell_type": "code",
            "execution_count": null,
            "metadata": {},
            "outputs": [],
            "source": [
                "class PaypalAccount(ProviderAccount):\n",
                "    def get_avatar_url(self):\n",
                "        return self.account.extra_data.get(\"picture\")\n",
                "\n",
                "    def to_str(self):\n",
                "        return self.account.extra_data.get(\"name\", super(PaypalAccount, self).to_str())\n"
            ]
        },
        {
            "cell_type": "markdown",
            "metadata": {},
            "source": []
        },
        {
            "cell_type": "code",
            "execution_count": null,
            "metadata": {},
            "outputs": [],
            "source": [
                "class PaypalProvider(OAuth2Provider):\n",
                "    id = \"paypal\"\n",
                "    name = \"Paypal\"\n",
                "    account_class = PaypalAccount\n",
                "    oauth2_adapter_class = PaypalOAuth2Adapter\n",
                "\n",
                "    def get_default_scope(self):\n",
                "        # See: https://developer.paypal.com/docs/integration/direct/identity/attributes/  # noqa\n",
                "        return [\"openid\", \"email\"]\n",
                "\n",
                "    def extract_uid(self, data):\n",
                "        return str(data[\"user_id\"])\n",
                "\n",
                "    def extract_common_fields(self, data):\n",
                "        # See: https://developer.paypal.com/docs/api/#get-user-information\n",
                "        return dict(\n",
                "            first_name=data.get(\"given_name\", \"\"),\n",
                "            last_name=data.get(\"family_name\", \"\"),\n",
                "            email=data.get(\"email\"),\n",
                "        )\n"
            ]
        },
        {
            "cell_type": "markdown",
            "metadata": {},
            "source": []
        },
        {
            "cell_type": "code",
            "execution_count": null,
            "metadata": {},
            "outputs": [],
            "source": [
                "provider_classes = [PaypalProvider]\n",
                "\n"
            ]
        },
        {
            "cell_type": "markdown",
            "metadata": {},
            "source": []
        }
    ],
    "metadata": {
        "language_info": {
            "name": "python"
        }
    },
    "nbformat": 4,
    "nbformat_minor": 2
}