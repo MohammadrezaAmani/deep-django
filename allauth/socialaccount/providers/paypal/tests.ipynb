{
 "cells": [
  {
   "cell_type": "code",
   "execution_count": null,
   "metadata": {},
   "outputs": [],
   "source": [
    "from allauth.socialaccount.tests import OAuth2TestsMixin\n",
    "from allauth.tests import MockedResponse, TestCase\n",
    "\n",
    "from .provider import PaypalProvider"
   ]
  },
  {
   "cell_type": "markdown",
   "metadata": {},
   "source": []
  },
  {
   "cell_type": "code",
   "execution_count": null,
   "metadata": {},
   "outputs": [],
   "source": [
    "class PaypalTests(OAuth2TestsMixin, TestCase):\n",
    "    provider_id = PaypalProvider.id\n",
    "\n",
    "    def get_mocked_response(self):\n",
    "        return MockedResponse(\n",
    "            200,\n",
    "            \"\"\"\n",
    "        {\n",
    "            \"user_id\":\n",
    "            \"https://www.paypal.com/webapps/auth/server/64ghr894040044\",\n",
    "            \"name\": \"Jane Doe\",\n",
    "            \"given_name\": \"Jane\",\n",
    "            \"family_name\": \"Doe\",\n",
    "            \"email\": \"janedoe@example.com\"\n",
    "        }\n",
    "        \"\"\",\n",
    "        )"
   ]
  },
  {
   "cell_type": "markdown",
   "metadata": {},
   "source": []
  }
 ],
 "metadata": {
  "language_info": {
   "name": "python"
  }
 },
 "nbformat": 4,
 "nbformat_minor": 2
}