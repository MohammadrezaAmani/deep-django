{
    "cells": [
        {
            "cell_type": "code",
            "execution_count": null,
            "metadata": {},
            "outputs": [],
            "source": [
                "from allauth.socialaccount.tests import OAuth2TestsMixin\n",
                "from allauth.tests import MockedResponse, TestCase\n",
                "\n",
                "from .provider import SoundCloudProvider\n"
            ]
        },
        {
            "cell_type": "markdown",
            "metadata": {},
            "source": []
        },
        {
            "cell_type": "code",
            "execution_count": null,
            "metadata": {},
            "outputs": [],
            "source": [
                "class SoundCloudTests(OAuth2TestsMixin, TestCase):\n",
                "    provider_id = SoundCloudProvider.id\n",
                "\n",
                "    def get_mocked_response(self):\n",
                "        return MockedResponse(\n",
                "            200,\n",
                "            \"\"\"\n",
                "        {\n",
                "           \"website\": null,\n",
                "            \"myspace_name\": null,\n",
                "            \"public_favorites_count\": 0,\n",
                "            \"followings_count\": 1,\n",
                "            \"full_name\": \"\",\n",
                "            \"id\": 22341947,\n",
                "            \"city\": null,\n",
                "            \"track_count\": 0,\n",
                "            \"playlist_count\": 0,\n",
                "            \"discogs_name\": null,\n",
                "            \"private_tracks_count\": 0,\n",
                "            \"followers_count\": 0,\n",
                "            \"online\": true,\n",
                "            \"username\": \"user187631676\",\n",
                "            \"description\": null,\n",
                "            \"kind\": \"user\",\n",
                "            \"website_title\": null,\n",
                "            \"primary_email_confirmed\": false,\n",
                "            \"permalink_url\": \"http://soundcloud.com/user187631676\",\n",
                "            \"private_playlists_count\": 0,\n",
                "            \"permalink\": \"user187631676\",\n",
                "            \"country\": null,\n",
                "            \"uri\": \"https://api.soundcloud.com/users/22341947\",\n",
                "            \"avatar_url\":\n",
                "            \"https://a1.sndcdn.com/images/default_avatar_large.png?4b4189b\",\n",
                "            \"plan\": \"Free\"\n",
                "        }\"\"\",\n",
                "        )\n",
                "\n"
            ]
        },
        {
            "cell_type": "markdown",
            "metadata": {},
            "source": []
        }
    ],
    "metadata": {
        "language_info": {
            "name": "python"
        }
    },
    "nbformat": 4,
    "nbformat_minor": 2
}