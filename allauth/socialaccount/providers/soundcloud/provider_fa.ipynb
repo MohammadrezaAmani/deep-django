{
 "cells": [
  {
   "cell_type": "code",
   "execution_count": null,
   "metadata": {},
   "outputs": [],
   "source": [
    "from allauth.socialaccount.providers.base import ProviderAccount\n",
    "from allauth.socialaccount.providers.oauth2.provider import OAuth2Provider\n",
    "from allauth.socialaccount.providers.soundcloud.views import SoundCloudOAuth2Adapter"
   ]
  },
  {
   "cell_type": "markdown",
   "metadata": {},
   "source": []
  },
  {
   "cell_type": "code",
   "execution_count": null,
   "metadata": {},
   "outputs": [],
   "source": [
    "class SoundCloudAccount(ProviderAccount):\n",
    "    def get_profile_url(self):\n",
    "        return self.account.extra_data.get(\"permalink_url\")\n",
    "\n",
    "    def get_avatar_url(self):\n",
    "        return self.account.extra_data.get(\"avatar_url\")\n",
    "\n",
    "    def to_str(self):\n",
    "        dflt = super(SoundCloudAccount, self).to_str()\n",
    "        full_name = self.account.extra_data.get(\"full_name\")\n",
    "        username = self.account.extra_data.get(\"username\")\n",
    "        return full_name or username or dflt"
   ]
  },
  {
   "cell_type": "markdown",
   "metadata": {},
   "source": []
  },
  {
   "cell_type": "code",
   "execution_count": null,
   "metadata": {},
   "outputs": [],
   "source": [
    "class SoundCloudProvider(OAuth2Provider):\n",
    "    id = \"soundcloud\"\n",
    "    name = \"SoundCloud\"\n",
    "    account_class = SoundCloudAccount\n",
    "    oauth2_adapter_class = SoundCloudOAuth2Adapter\n",
    "\n",
    "    def extract_uid(self, data):\n",
    "        return str(data[\"id\"])\n",
    "\n",
    "    def extract_common_fields(self, data):\n",
    "        return dict(\n",
    "            name=data.get(\"full_name\"),\n",
    "            username=data.get(\"username\"),\n",
    "            email=data.get(\"email\"),\n",
    "        )"
   ]
  },
  {
   "cell_type": "markdown",
   "metadata": {},
   "source": []
  },
  {
   "cell_type": "code",
   "execution_count": null,
   "metadata": {},
   "outputs": [],
   "source": [
    "provider_classes = [SoundCloudProvider]"
   ]
  },
  {
   "cell_type": "markdown",
   "metadata": {},
   "source": []
  }
 ],
 "metadata": {
  "language_info": {
   "name": "python"
  }
 },
 "nbformat": 4,
 "nbformat_minor": 2
}