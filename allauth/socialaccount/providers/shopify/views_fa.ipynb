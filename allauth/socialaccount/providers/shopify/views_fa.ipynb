{
    "cells": [
        {
            "cell_type": "code",
            "execution_count": null,
            "metadata": {},
            "outputs": [],
            "source": [
                "import re\n",
                "\n",
                "from allauth.core.exceptions import ImmediateHttpResponse\n",
                "from allauth.socialaccount.adapter import get_adapter\n",
                "from allauth.socialaccount.providers.oauth2.views import (\n",
                "    OAuth2Adapter,\n",
                "    OAuth2CallbackView,\n",
                "    OAuth2LoginView,\n",
                ")\n",
                "from django.conf import settings\n",
                "from django.http import HttpResponse, HttpResponseBadRequest\n"
            ]
        },
        {
            "cell_type": "markdown",
            "metadata": {},
            "source": []
        },
        {
            "cell_type": "code",
            "execution_count": null,
            "metadata": {},
            "outputs": [],
            "source": [
                "class ShopifyOAuth2Adapter(OAuth2Adapter):\n",
                "    provider_id = \"shopify\"\n",
                "    scope_delimiter = \",\"\n",
                "\n",
                "    def _shop_domain(self):\n",
                "        shop = self.request.GET.get(\"shop\", \"\")\n",
                "        if \".\" not in shop:\n",
                "            shop = \"{}.myshopify.com\".format(shop)\n",
                "        # Ensure the provided hostname parameter is a valid hostname,\n",
                "        # ends with myshopify.com, and does not contain characters\n",
                "        # other than letters (a-z), numbers (0-9), dots, and hyphens.\n",
                "        if not re.match(r\"^[a-z0-9-]+\\.myshopify\\.com$\", shop):\n",
                "            raise ImmediateHttpResponse(\n",
                "                HttpResponseBadRequest(\"Invalid `shop` parameter\")\n",
                "            )\n",
                "        return shop\n",
                "\n",
                "    def _shop_url(self, path):\n",
                "        shop = self._shop_domain()\n",
                "        return \"https://{}{}\".format(shop, path)\n",
                "\n",
                "    @property\n",
                "    def access_token_url(self):\n",
                "        return self._shop_url(\"/admin/oauth/access_token\")\n",
                "\n",
                "    @property\n",
                "    def authorize_url(self):\n",
                "        return self._shop_url(\"/admin/oauth/authorize\")\n",
                "\n",
                "    @property\n",
                "    def profile_url(self):\n",
                "        return self._shop_url(\"/admin/shop.json\")\n",
                "\n",
                "    def complete_login(self, request, app, token, **kwargs):\n",
                "        headers = {\"X-Shopify-Access-Token\": \"{token}\".format(token=token.token)}\n",
                "        response = (\n",
                "            get_adapter().get_requests_session().get(self.profile_url, headers=headers)\n",
                "        )\n",
                "        extra_data = response.json()\n",
                "        associated_user = kwargs[\"response\"].get(\"associated_user\")\n",
                "        if associated_user:\n",
                "            extra_data[\"associated_user\"] = associated_user\n",
                "        return self.get_provider().sociallogin_from_response(request, extra_data)\n"
            ]
        },
        {
            "cell_type": "markdown",
            "metadata": {},
            "source": []
        },
        {
            "cell_type": "code",
            "execution_count": null,
            "metadata": {},
            "outputs": [],
            "source": [
                "class ShopifyOAuth2LoginView(OAuth2LoginView):\n",
                "    def dispatch(self, request, *args, **kwargs):\n",
                "        is_embedded = (\n",
                "            getattr(settings, \"SOCIALACCOUNT_PROVIDERS\", {})\n",
                "            .get(\"shopify\", {})\n",
                "            .get(\"IS_EMBEDDED\", False)\n",
                "        )\n",
                "        if is_embedded:\n",
                "            # TODO: This bypasses LOGIN_ON_GET, but:\n",
                "            #\n",
                "            #     The Embedded App SDK (EASDK) and backwards compatibility layer\n",
                "            #     are being removed from Shopify on January 1, 2022.\n",
                "            #\n",
                "            # So this needs to be dropped/revisitted anyway.\n",
                "            response = super().login(request, *args, **kwargs)\n",
                "            \"\"\"\n",
                "            Shopify embedded apps (that run within an iFrame) require a JS\n",
                "            (not server) redirect for starting the oauth2 process.\n",
                "\n",
                "            See Also:\n",
                "            https://help.shopify.com/api/sdks/embedded-app-sdk/getting-started#oauth\n",
                "            \"\"\"\n",
                "            js = \"\".join(\n",
                "                (\n",
                "                    \"<!DOCTYPE html><html><head>\" '<script type=\"text/javascript\">',\n",
                "                    'window.top.location.href = \"{url}\";'.format(url=response.url),\n",
                "                    \"</script></head><body></body></html>\",\n",
                "                )\n",
                "            )\n",
                "            response = HttpResponse(content=js)\n",
                "            # Because this view will be within shopify's iframe\n",
                "            response.xframe_options_exempt = True\n",
                "            return response\n",
                "        return super().dispatch(request, *args, **kwargs)\n"
            ]
        },
        {
            "cell_type": "markdown",
            "metadata": {},
            "source": []
        },
        {
            "cell_type": "code",
            "execution_count": null,
            "metadata": {},
            "outputs": [],
            "source": [
                "oauth2_login = ShopifyOAuth2LoginView.adapter_view(ShopifyOAuth2Adapter)\n",
                "oauth2_callback = OAuth2CallbackView.adapter_view(ShopifyOAuth2Adapter)\n",
                "\n"
            ]
        },
        {
            "cell_type": "markdown",
            "metadata": {},
            "source": []
        }
    ],
    "metadata": {
        "language_info": {
            "name": "python"
        }
    },
    "nbformat": 4,
    "nbformat_minor": 2
}