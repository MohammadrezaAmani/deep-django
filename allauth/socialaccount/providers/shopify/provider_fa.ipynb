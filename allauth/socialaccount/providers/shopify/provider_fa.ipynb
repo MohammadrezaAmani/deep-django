{
 "cells": [
  {
   "cell_type": "code",
   "execution_count": null,
   "metadata": {},
   "outputs": [],
   "source": [
    "from allauth.socialaccount.providers.base import ProviderAccount\n",
    "from allauth.socialaccount.providers.oauth2.provider import OAuth2Provider\n",
    "from allauth.socialaccount.providers.shopify.views import ShopifyOAuth2Adapter\n",
    "from django.conf import settings"
   ]
  },
  {
   "cell_type": "markdown",
   "metadata": {},
   "source": []
  },
  {
   "cell_type": "code",
   "execution_count": null,
   "metadata": {},
   "outputs": [],
   "source": [
    "class ShopifyAccount(ProviderAccount):\n",
    "    pass"
   ]
  },
  {
   "cell_type": "markdown",
   "metadata": {},
   "source": []
  },
  {
   "cell_type": "code",
   "execution_count": null,
   "metadata": {},
   "outputs": [],
   "source": [
    "class ShopifyProvider(OAuth2Provider):\n",
    "    id = \"shopify\"\n",
    "    name = \"Shopify\"\n",
    "    account_class = ShopifyAccount\n",
    "    oauth2_adapter_class = ShopifyOAuth2Adapter\n",
    "\n",
    "    @property\n",
    "    def is_per_user(self):\n",
    "        grant_options = (\n",
    "            getattr(settings, \"SOCIALACCOUNT_PROVIDERS\", {})\n",
    "            .get(\"shopify\", {})\n",
    "            .get(\"AUTH_PARAMS\", {})\n",
    "            .get(\"grant_options[]\", \"\")\n",
    "        )\n",
    "        return grant_options.lower().strip() == \"per-user\"\n",
    "\n",
    "    def get_auth_params_from_request(self, request, action):\n",
    "        ret = super().get_auth_params_from_request(request, action)\n",
    "        shop = request.GET.get(\"shop\", None)\n",
    "        if shop:\n",
    "            ret.update({\"shop\": shop})\n",
    "        return ret\n",
    "\n",
    "    def get_default_scope(self):\n",
    "        return [\"read_orders\", \"read_products\"]\n",
    "\n",
    "    def extract_uid(self, data):\n",
    "        if self.is_per_user:\n",
    "            return str(data[\"associated_user\"][\"id\"])\n",
    "        else:\n",
    "            return str(data[\"shop\"][\"id\"])\n",
    "\n",
    "    def extract_common_fields(self, data):\n",
    "        if self.is_per_user:\n",
    "            return dict(\n",
    "                email=data[\"associated_user\"][\"email\"],\n",
    "                first_name=data[\"associated_user\"][\"first_name\"],\n",
    "                last_name=data[\"associated_user\"][\"last_name\"],\n",
    "            )\n",
    "        else:\n",
    "            # See: https://docs.shopify.com/api/shop\n",
    "            # Without online mode, User is only available with Shopify Plus,\n",
    "            # email is the only common field\n",
    "            return dict(email=data[\"shop\"][\"email\"])"
   ]
  },
  {
   "cell_type": "markdown",
   "metadata": {},
   "source": []
  },
  {
   "cell_type": "code",
   "execution_count": null,
   "metadata": {},
   "outputs": [],
   "source": [
    "provider_classes = [ShopifyProvider]"
   ]
  },
  {
   "cell_type": "markdown",
   "metadata": {},
   "source": []
  }
 ],
 "metadata": {
  "language_info": {
   "name": "python"
  }
 },
 "nbformat": 4,
 "nbformat_minor": 2
}