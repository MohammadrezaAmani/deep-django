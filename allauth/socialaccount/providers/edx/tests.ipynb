{
 "cells": [
  {
   "cell_type": "code",
   "execution_count": null,
   "metadata": {},
   "outputs": [],
   "source": [
    "from allauth.socialaccount.tests import OAuth2TestsMixin\n",
    "from allauth.tests import MockedResponse, TestCase\n",
    "\n",
    "from .provider import EdxProvider"
   ]
  },
  {
   "cell_type": "markdown",
   "metadata": {},
   "source": []
  },
  {
   "cell_type": "code",
   "execution_count": null,
   "metadata": {},
   "outputs": [],
   "source": [
    "class EdxTests(OAuth2TestsMixin, TestCase):\n",
    "    provider_id = EdxProvider.id\n",
    "\n",
    "    def get_mocked_response(self):\n",
    "        return MockedResponse(\n",
    "            200,\n",
    "            \"\"\"{\n",
    "\"username\":\"krzysztof\",\n",
    "\"bio\":null,\n",
    "\"requires_parental_consent\":true,\n",
    "\"language_proficiencies\":[\n",
    "\n",
    "],\n",
    "\"name\":\"Krzysztof Hoffmann\",\n",
    "\"country\":null,\n",
    "\"social_links\":[\n",
    "\n",
    "],\n",
    "\"is_active\":true,\n",
    "\"profile_image\":{\n",
    "  \"image_url_small\":\"http://draft.navoica.pl/static/images/profiles/default_30.png\",\n",
    "  \"image_url_full\":\"http://draft.navoica.pl/static/images/profiles/default_500.png\",\n",
    "  \"image_url_large\":\"http://draft.navoica.pl/static/images/profiles/default_120.png\",\n",
    "  \"image_url_medium\":\"http://draft.navoica.pl/static/images/profiles/default_50.png\",\n",
    "  \"has_image\":false\n",
    "},\n",
    "\"extended_profile\":[\n",
    "\n",
    "],\n",
    "\"year_of_birth\":null,\n",
    "\"level_of_education\":null,\n",
    "\"goals\":\"\",\n",
    "\"accomplishments_shared\":false,\n",
    "\"gender\":null,\n",
    "\"date_joined\":\"2019-09-21T07:48:31Z\",\n",
    "\"mailing_address\":\"\",\n",
    "\"email\":\"krzysztof.hoffmann@opi.org.pl\",\n",
    "\"account_privacy\":\"private\"\n",
    "}\"\"\",\n",
    "        )"
   ]
  },
  {
   "cell_type": "markdown",
   "metadata": {},
   "source": []
  }
 ],
 "metadata": {
  "language_info": {
   "name": "python"
  }
 },
 "nbformat": 4,
 "nbformat_minor": 2
}