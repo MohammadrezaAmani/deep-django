{
 "cells": [
  {
   "cell_type": "code",
   "execution_count": null,
   "metadata": {},
   "outputs": [],
   "source": [
    "from allauth.socialaccount import app_settings\n",
    "from allauth.socialaccount.adapter import get_adapter\n",
    "from allauth.socialaccount.providers.oauth2.views import (\n",
    "    OAuth2Adapter,\n",
    "    OAuth2CallbackView,\n",
    "    OAuth2LoginView,\n",
    ")"
   ]
  },
  {
   "cell_type": "markdown",
   "metadata": {},
   "source": []
  },
  {
   "cell_type": "code",
   "execution_count": null,
   "metadata": {},
   "outputs": [],
   "source": [
    "class EdxOAuth2Adapter(OAuth2Adapter):\n",
    "    provider_id = \"edx\"\n",
    "    provider_default_url = \"https://edx.org\"\n",
    "\n",
    "    settings = app_settings.PROVIDERS.get(provider_id, {})\n",
    "    provider_base_url = settings.get(\"EDX_URL\", provider_default_url)\n",
    "\n",
    "    access_token_url = \"{0}/oauth2/access_token\".format(provider_base_url)\n",
    "    authorize_url = \"{0}/oauth2/authorize/\".format(provider_base_url)\n",
    "    profile_url = \"{0}/api/user/v1/me\".format(provider_base_url)\n",
    "    account_url = \"{0}/api/user/v1/accounts/{1}\"\n",
    "    supports_state = False\n",
    "    redirect_uri_protocol = \"https\"\n",
    "\n",
    "    def complete_login(self, request, app, token, **kwargs):\n",
    "        headers = {\"Authorization\": \"Bearer {0}\".format(token.token)}\n",
    "        response = (\n",
    "            get_adapter().get_requests_session().get(self.profile_url, headers=headers)\n",
    "        )\n",
    "        extra_data = response.json()\n",
    "\n",
    "        if extra_data.get(\"email\", None) is None:\n",
    "            response = (\n",
    "                get_adapter()\n",
    "                .get_requests_session()\n",
    "                .get(\n",
    "                    self.account_url.format(\n",
    "                        self.provider_base_url, extra_data[\"username\"]\n",
    "                    ),\n",
    "                    headers=headers,\n",
    "                )\n",
    "            )\n",
    "            extra_data = response.json()\n",
    "\n",
    "        return self.get_provider().sociallogin_from_response(request, extra_data)"
   ]
  },
  {
   "cell_type": "markdown",
   "metadata": {},
   "source": []
  },
  {
   "cell_type": "code",
   "execution_count": null,
   "metadata": {},
   "outputs": [],
   "source": [
    "oauth2_login = OAuth2LoginView.adapter_view(EdxOAuth2Adapter)\n",
    "oauth2_callback = OAuth2CallbackView.adapter_view(EdxOAuth2Adapter)"
   ]
  },
  {
   "cell_type": "markdown",
   "metadata": {},
   "source": []
  }
 ],
 "metadata": {
  "language_info": {
   "name": "python"
  }
 },
 "nbformat": 4,
 "nbformat_minor": 2
}