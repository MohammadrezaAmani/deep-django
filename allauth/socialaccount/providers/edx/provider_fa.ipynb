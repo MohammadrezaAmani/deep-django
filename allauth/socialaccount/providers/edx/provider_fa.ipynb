{
 "cells": [
  {
   "cell_type": "code",
   "execution_count": null,
   "metadata": {},
   "outputs": [],
   "source": [
    "from allauth.socialaccount.providers.base import ProviderAccount\n",
    "from allauth.socialaccount.providers.edx.views import EdxOAuth2Adapter\n",
    "from allauth.socialaccount.providers.oauth2.provider import OAuth2Provider"
   ]
  },
  {
   "cell_type": "markdown",
   "metadata": {},
   "source": []
  },
  {
   "cell_type": "code",
   "execution_count": null,
   "metadata": {},
   "outputs": [],
   "source": [
    "class EdxAccount(ProviderAccount):\n",
    "    def get_profile_url(self):\n",
    "        if self.account.extra_data[\"profile_image\"][\"has_image\"]:\n",
    "            return self.account.extra_data[\"image_url_full\"]"
   ]
  },
  {
   "cell_type": "markdown",
   "metadata": {},
   "source": []
  },
  {
   "cell_type": "code",
   "execution_count": null,
   "metadata": {},
   "outputs": [],
   "source": [
    "class EdxProvider(OAuth2Provider):\n",
    "    id = \"edx\"\n",
    "    name = \"Edx\"\n",
    "    account_class = EdxAccount\n",
    "    oauth2_adapter_class = EdxOAuth2Adapter\n",
    "\n",
    "    def get_default_scope(self):\n",
    "        return [\"profile\"]\n",
    "\n",
    "    def extract_uid(self, data):\n",
    "        \"\"\"Extract uid ('id') and ensure it's a str.\"\"\"\n",
    "        return str(data[\"username\"])\n",
    "\n",
    "    def extract_common_fields(self, data):\n",
    "        return dict(\n",
    "            email=data.get(\"email\"),\n",
    "            username=data.get(\"username\"),\n",
    "            name=data.get(\"name\"),\n",
    "            user_id=data.get(\"user_id\"),\n",
    "        )"
   ]
  },
  {
   "cell_type": "markdown",
   "metadata": {},
   "source": []
  },
  {
   "cell_type": "code",
   "execution_count": null,
   "metadata": {},
   "outputs": [],
   "source": [
    "provider_classes = [EdxProvider]"
   ]
  },
  {
   "cell_type": "markdown",
   "metadata": {},
   "source": []
  }
 ],
 "metadata": {
  "language_info": {
   "name": "python"
  }
 },
 "nbformat": 4,
 "nbformat_minor": 2
}