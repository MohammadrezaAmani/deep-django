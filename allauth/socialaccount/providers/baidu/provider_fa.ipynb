{
    "cells": [
        {
            "cell_type": "code",
            "execution_count": null,
            "metadata": {},
            "outputs": [],
            "source": [
                "from allauth.socialaccount.providers.baidu.views import BaiduOAuth2Adapter\n",
                "from allauth.socialaccount.providers.base import ProviderAccount\n",
                "from allauth.socialaccount.providers.oauth2.provider import OAuth2Provider\n"
            ]
        },
        {
            "cell_type": "markdown",
            "metadata": {},
            "source": []
        },
        {
            "cell_type": "code",
            "execution_count": null,
            "metadata": {},
            "outputs": [],
            "source": [
                "class BaiduAccount(ProviderAccount):\n",
                "    def get_profile_url(self):\n",
                "        return \"http://www.baidu.com/p/\" + self.account.extra_data.get(\"uname\")\n",
                "\n",
                "    def get_avatar_url(self):\n",
                "        return (\n",
                "            \"http://tb.himg.baidu.com/sys/portraitn/item/\"\n",
                "            + self.account.extra_data.get(\"portrait\")\n",
                "        )\n",
                "\n",
                "    def to_str(self):\n",
                "        dflt = super(BaiduAccount, self).to_str()\n",
                "        return self.account.extra_data.get(\"uname\", dflt)\n"
            ]
        },
        {
            "cell_type": "markdown",
            "metadata": {},
            "source": []
        },
        {
            "cell_type": "code",
            "execution_count": null,
            "metadata": {},
            "outputs": [],
            "source": [
                "class BaiduProvider(OAuth2Provider):\n",
                "    id = \"baidu\"\n",
                "    name = \"Baidu\"\n",
                "    account_class = BaiduAccount\n",
                "    oauth2_adapter_class = BaiduOAuth2Adapter\n",
                "\n",
                "    def extract_uid(self, data):\n",
                "        return data[\"uid\"]\n",
                "\n",
                "    def extract_common_fields(self, data):\n",
                "        return dict(username=data.get(\"uid\"), name=data.get(\"uname\"))\n"
            ]
        },
        {
            "cell_type": "markdown",
            "metadata": {},
            "source": []
        },
        {
            "cell_type": "code",
            "execution_count": null,
            "metadata": {},
            "outputs": [],
            "source": [
                "provider_classes = [BaiduProvider]\n",
                "\n"
            ]
        },
        {
            "cell_type": "markdown",
            "metadata": {},
            "source": []
        }
    ],
    "metadata": {
        "language_info": {
            "name": "python"
        }
    },
    "nbformat": 4,
    "nbformat_minor": 2
}