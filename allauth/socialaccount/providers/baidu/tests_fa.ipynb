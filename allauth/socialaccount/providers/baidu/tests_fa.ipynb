{
    "cells": [
        {
            "cell_type": "code",
            "execution_count": null,
            "metadata": {},
            "outputs": [],
            "source": [
                "from allauth.socialaccount.tests import OAuth2TestsMixin\n",
                "from allauth.tests import MockedResponse, TestCase\n",
                "\n",
                "from .provider import BaiduProvider\n"
            ]
        },
        {
            "cell_type": "markdown",
            "metadata": {},
            "source": []
        },
        {
            "cell_type": "code",
            "execution_count": null,
            "metadata": {},
            "outputs": [],
            "source": [
                "class BaiduTests(OAuth2TestsMixin, TestCase):\n",
                "    provider_id = BaiduProvider.id\n",
                "\n",
                "    def get_mocked_response(self):\n",
                "        return MockedResponse(\n",
                "            200,\n",
                "            \"\"\"\n",
                "{\"portrait\": \"78c0e9839de59bbde7859ccf43\",\n",
                "\"uname\": \"\\u90dd\\u56fd\\u715c\", \"uid\": \"3225892368\"}\"\"\",\n",
                "        )\n",
                "\n"
            ]
        },
        {
            "cell_type": "markdown",
            "metadata": {},
            "source": []
        }
    ],
    "metadata": {
        "language_info": {
            "name": "python"
        }
    },
    "nbformat": 4,
    "nbformat_minor": 2
}