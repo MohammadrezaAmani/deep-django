{
    "cells": [
        {
            "cell_type": "code",
            "execution_count": null,
            "metadata": {},
            "outputs": [],
            "source": [
                "# -*- coding: utf-8 -*-\n",
                "from allauth.socialaccount.providers.netiq.provider import NetIQProvider\n",
                "from allauth.socialaccount.tests import OAuth2TestsMixin\n",
                "from allauth.tests import MockedResponse, TestCase\n"
            ]
        },
        {
            "cell_type": "markdown",
            "metadata": {},
            "source": []
        },
        {
            "cell_type": "code",
            "execution_count": null,
            "metadata": {},
            "outputs": [],
            "source": [
                "class NetIQTests(OAuth2TestsMixin, TestCase):\n",
                "    provider_id = NetIQProvider.id\n",
                "\n",
                "    def get_mocked_response(self):\n",
                "        return MockedResponse(\n",
                "            200,\n",
                "            \"\"\"\n",
                "            {\n",
                "                \"sub\": \"d4c094dd899ab0408fb9d4c094dd899a\",\n",
                "                \"acr\": \"secure/name/password/uri\",\n",
                "                \"preferred_username\": \"Mocktest\",\n",
                "                \"email\": \"mocktest@your.netiq.server.example.com\",\n",
                "                \"nickname\": \"Mocktest\",\n",
                "                \"family_name\": \"test\",\n",
                "                \"given_name\": \"Mock\",\n",
                "                \"website\": \"https://www.exanple.com\"\n",
                "            }\n",
                "        \"\"\",\n",
                "        )\n",
                "\n"
            ]
        },
        {
            "cell_type": "markdown",
            "metadata": {},
            "source": []
        }
    ],
    "metadata": {
        "language_info": {
            "name": "python"
        }
    },
    "nbformat": 4,
    "nbformat_minor": 2
}