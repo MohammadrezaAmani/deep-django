{
 "cells": [
  {
   "cell_type": "code",
   "execution_count": null,
   "metadata": {},
   "outputs": [],
   "source": [
    "from allauth.socialaccount.providers.base import ProviderAccount\n",
    "from allauth.socialaccount.providers.netiq.views import NetIQOAuth2Adapter\n",
    "from allauth.socialaccount.providers.oauth2.provider import OAuth2Provider"
   ]
  },
  {
   "cell_type": "markdown",
   "metadata": {},
   "source": []
  },
  {
   "cell_type": "code",
   "execution_count": null,
   "metadata": {},
   "outputs": [],
   "source": [
    "class NetIQAccount(ProviderAccount):\n",
    "    def to_str(self):\n",
    "        dflt = super(NetIQAccount, self).to_str()\n",
    "        return self.account.extra_data.get(\"name\", dflt)"
   ]
  },
  {
   "cell_type": "markdown",
   "metadata": {},
   "source": []
  },
  {
   "cell_type": "code",
   "execution_count": null,
   "metadata": {},
   "outputs": [],
   "source": [
    "class NetIQProvider(OAuth2Provider):\n",
    "    id = \"netiq\"\n",
    "    name = \"NetIQ\"\n",
    "    account_class = NetIQAccount\n",
    "    oauth2_adapter_class = NetIQOAuth2Adapter\n",
    "\n",
    "    def get_default_scope(self):\n",
    "        return [\"openid\", \"profile\", \"email\"]\n",
    "\n",
    "    def extract_uid(self, data):\n",
    "        return str(data[\"preferred_username\"])\n",
    "\n",
    "    def extract_extra_data(self, data):\n",
    "        return data\n",
    "\n",
    "    def extract_common_fields(self, data):\n",
    "        return dict(\n",
    "            email=data[\"email\"],\n",
    "            last_name=data[\"family_name\"],\n",
    "            first_name=data[\"given_name\"],\n",
    "        )"
   ]
  },
  {
   "cell_type": "markdown",
   "metadata": {},
   "source": []
  },
  {
   "cell_type": "code",
   "execution_count": null,
   "metadata": {},
   "outputs": [],
   "source": [
    "provider_classes = [NetIQProvider]"
   ]
  },
  {
   "cell_type": "markdown",
   "metadata": {},
   "source": []
  }
 ],
 "metadata": {
  "language_info": {
   "name": "python"
  }
 },
 "nbformat": 4,
 "nbformat_minor": 2
}