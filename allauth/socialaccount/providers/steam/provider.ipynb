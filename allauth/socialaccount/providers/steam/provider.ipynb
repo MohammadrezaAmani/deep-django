{
 "cells": [
  {
   "cell_type": "code",
   "execution_count": null,
   "metadata": {},
   "outputs": [],
   "source": [
    "from django.conf import settings\n",
    "from django.core.exceptions import ImproperlyConfigured\n",
    "from django.urls import reverse\n",
    "from django.utils.http import urlencode\n",
    "\n",
    "from allauth.socialaccount.adapter import get_adapter\n",
    "from allauth.socialaccount.providers.openid.provider import (\n",
    "    OpenIDAccount,\n",
    "    OpenIDProvider,\n",
    ")"
   ]
  },
  {
   "cell_type": "markdown",
   "metadata": {},
   "source": []
  },
  {
   "cell_type": "code",
   "execution_count": null,
   "metadata": {},
   "outputs": [],
   "source": [
    "if \"allauth.socialaccount.providers.openid\" not in settings.INSTALLED_APPS:\n",
    "    raise ImproperlyConfigured(\n",
    "        \"The steam provider requires 'allauth.socialaccount.providers.openid' to be installed\"\n",
    "    )"
   ]
  },
  {
   "cell_type": "markdown",
   "metadata": {},
   "source": []
  },
  {
   "cell_type": "code",
   "execution_count": null,
   "metadata": {},
   "outputs": [],
   "source": [
    "class SteamAccount(OpenIDAccount):\n",
    "    def to_str(self):\n",
    "        dflt = super(SteamAccount, self).to_str()\n",
    "        return self.account.extra_data.get(\"personaname\", dflt)\n",
    "\n",
    "    def get_profile_url(self):\n",
    "        return self.account.extra_data.get(\"profileurl\")\n",
    "\n",
    "    def get_avatar_url(self):\n",
    "        return (\n",
    "            self.account.extra_data.get(\"avatarfull\")\n",
    "            or self.account.extra_data.get(\"avatarmedium\")\n",
    "            or self.account.extra_data.get(\"avatar\")\n",
    "        )"
   ]
  },
  {
   "cell_type": "markdown",
   "metadata": {},
   "source": []
  },
  {
   "cell_type": "code",
   "execution_count": null,
   "metadata": {},
   "outputs": [],
   "source": [
    "def extract_steam_id(url):\n",
    "    return url.lstrip(\"https://steamcommunity.com/openid/id/\")"
   ]
  },
  {
   "cell_type": "markdown",
   "metadata": {},
   "source": []
  },
  {
   "cell_type": "code",
   "execution_count": null,
   "metadata": {},
   "outputs": [],
   "source": [
    "def request_steam_account_summary(api_key, steam_id):\n",
    "    api_base = \"https://api.steampowered.com/\"\n",
    "    method = \"ISteamUser/GetPlayerSummaries/v0002/\"\n",
    "    params = {\"key\": api_key, \"steamids\": steam_id}\n",
    "\n",
    "    resp = get_adapter().get_requests_session().get(api_base + method, params=params)\n",
    "    resp.raise_for_status()\n",
    "    data = resp.json()\n",
    "\n",
    "    playerlist = data.get(\"response\", {}).get(\"players\", [])\n",
    "    return playerlist[0] if playerlist else {\"steamid\": steam_id}"
   ]
  },
  {
   "cell_type": "markdown",
   "metadata": {},
   "source": []
  },
  {
   "cell_type": "code",
   "execution_count": null,
   "metadata": {},
   "outputs": [],
   "source": [
    "class SteamOpenIDProvider(OpenIDProvider):\n",
    "    id = \"steam\"\n",
    "    name = \"Steam\"\n",
    "    account_class = SteamAccount\n",
    "    uses_apps = True\n",
    "\n",
    "    def __init__(self, request, app=None):\n",
    "        if app is None:\n",
    "            app = get_adapter().get_app(request, self.id)\n",
    "        super().__init__(request, app=app)\n",
    "\n",
    "    def get_login_url(self, request, **kwargs):\n",
    "        url = reverse(\"steam_login\")\n",
    "        if kwargs:\n",
    "            url += \"?\" + urlencode(kwargs)\n",
    "        return url\n",
    "\n",
    "    def sociallogin_from_response(self, request, response):\n",
    "        steam_id = extract_steam_id(response.identity_url)\n",
    "        steam_api_key = self.app.secret\n",
    "        response._extra = request_steam_account_summary(steam_api_key, steam_id)\n",
    "        return super(SteamOpenIDProvider, self).sociallogin_from_response(\n",
    "            request, response\n",
    "        )\n",
    "\n",
    "    def extract_uid(self, response):\n",
    "        return response._extra[\"steamid\"]\n",
    "\n",
    "    def extract_extra_data(self, response):\n",
    "        return response._extra.copy()\n",
    "\n",
    "    def extract_common_fields(self, response):\n",
    "        full_name = response._extra.get(\"realname\", \"\").strip()\n",
    "        if full_name.count(\" \") == 1:\n",
    "            first_name, last_name = full_name.split()\n",
    "        else:\n",
    "            first_name, last_name = full_name, \"\"\n",
    "\n",
    "        username = response._extra.get(\"personaname\", \"\")\n",
    "\n",
    "        return {\n",
    "            \"username\": username or response._extra[\"steamid\"],\n",
    "            \"first_name\": first_name,\n",
    "            \"last_name\": last_name,\n",
    "            \"full_name\": full_name,\n",
    "        }"
   ]
  },
  {
   "cell_type": "markdown",
   "metadata": {},
   "source": []
  },
  {
   "cell_type": "code",
   "execution_count": null,
   "metadata": {},
   "outputs": [],
   "source": [
    "provider_classes = [SteamOpenIDProvider]"
   ]
  },
  {
   "cell_type": "markdown",
   "metadata": {},
   "source": []
  }
 ],
 "metadata": {
  "language_info": {
   "name": "python"
  }
 },
 "nbformat": 4,
 "nbformat_minor": 2
}