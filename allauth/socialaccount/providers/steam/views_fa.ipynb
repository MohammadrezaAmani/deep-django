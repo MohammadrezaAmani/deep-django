{
 "cells": [
  {
   "cell_type": "code",
   "execution_count": null,
   "metadata": {},
   "outputs": [],
   "source": [
    "\"\"\"\n",
    "OpenID Adapter for Steam\n",
    "\n",
    "The Steam login API is simple OpenID but requires extra API calls\n",
    "for basic resources such as usernames.\n",
    "\n",
    "Resources:\n",
    "\n",
    "* Steam Web API Documentation\n",
    "    https://steamcommunity.com/dev\n",
    "\n",
    "* Steam Partner API documentation\n",
    "    https://partner.steamgames.com/doc/features/auth#website\n",
    "\"\"\"\n",
    "from allauth.socialaccount.providers.openid.views import (\n",
    "    OpenIDCallbackView,\n",
    "    OpenIDLoginView,\n",
    ")\n",
    "from django.urls import reverse\n",
    "\n",
    "from .provider import SteamOpenIDProvider\n",
    "\n",
    "STEAM_OPENID_URL = \"https://steamcommunity.com/openid\""
   ]
  },
  {
   "cell_type": "markdown",
   "metadata": {},
   "source": []
  },
  {
   "cell_type": "code",
   "execution_count": null,
   "metadata": {},
   "outputs": [],
   "source": [
    "class SteamOpenIDLoginView(OpenIDLoginView):\n",
    "    provider_class = SteamOpenIDProvider\n",
    "\n",
    "    def get_form(self):\n",
    "        items = dict(list(self.request.GET.items()) + list(self.request.POST.items()))\n",
    "        items[\"openid\"] = STEAM_OPENID_URL\n",
    "        return self.form_class(items)\n",
    "\n",
    "    def get_callback_url(self):\n",
    "        return reverse(steam_callback)"
   ]
  },
  {
   "cell_type": "markdown",
   "metadata": {},
   "source": []
  },
  {
   "cell_type": "code",
   "execution_count": null,
   "metadata": {},
   "outputs": [],
   "source": [
    "class SteamOpenIDCallbackView(OpenIDCallbackView):\n",
    "    provider_class = SteamOpenIDProvider"
   ]
  },
  {
   "cell_type": "markdown",
   "metadata": {},
   "source": []
  },
  {
   "cell_type": "code",
   "execution_count": null,
   "metadata": {},
   "outputs": [],
   "source": [
    "steam_login = SteamOpenIDLoginView.as_view()\n",
    "steam_callback = SteamOpenIDCallbackView.as_view()"
   ]
  },
  {
   "cell_type": "markdown",
   "metadata": {},
   "source": []
  }
 ],
 "metadata": {
  "language_info": {
   "name": "python"
  }
 },
 "nbformat": 4,
 "nbformat_minor": 2
}