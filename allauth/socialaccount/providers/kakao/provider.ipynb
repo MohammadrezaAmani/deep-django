{
 "cells": [
  {
   "cell_type": "code",
   "execution_count": null,
   "metadata": {},
   "outputs": [],
   "source": [
    "from allauth.account.models import EmailAddress\n",
    "from allauth.socialaccount.providers.base import ProviderAccount\n",
    "from allauth.socialaccount.providers.kakao.views import KakaoOAuth2Adapter\n",
    "from allauth.socialaccount.providers.oauth2.provider import OAuth2Provider"
   ]
  },
  {
   "cell_type": "markdown",
   "metadata": {},
   "source": []
  },
  {
   "cell_type": "code",
   "execution_count": null,
   "metadata": {},
   "outputs": [],
   "source": [
    "class KakaoAccount(ProviderAccount):\n",
    "    @property\n",
    "    def properties(self):\n",
    "        return self.account.extra_data.get(\"properties\")\n",
    "\n",
    "    def get_avatar_url(self):\n",
    "        return self.properties.get(\"profile_image\")\n",
    "\n",
    "    def to_str(self):\n",
    "        dflt = super(KakaoAccount, self).to_str()\n",
    "        return self.properties.get(\"nickname\", dflt)"
   ]
  },
  {
   "cell_type": "markdown",
   "metadata": {},
   "source": []
  },
  {
   "cell_type": "code",
   "execution_count": null,
   "metadata": {},
   "outputs": [],
   "source": [
    "class KakaoProvider(OAuth2Provider):\n",
    "    id = \"kakao\"\n",
    "    name = \"Kakao\"\n",
    "    account_class = KakaoAccount\n",
    "    oauth2_adapter_class = KakaoOAuth2Adapter\n",
    "\n",
    "    def extract_uid(self, data):\n",
    "        return str(data[\"id\"])\n",
    "\n",
    "    def extract_common_fields(self, data):\n",
    "        email = data.get(\"kakao_account\", {}).get(\"email\")\n",
    "        nickname = data.get(\"properties\", {}).get(\"nickname\")\n",
    "\n",
    "        return dict(email=email, username=nickname)\n",
    "\n",
    "    def extract_email_addresses(self, data):\n",
    "        ret = []\n",
    "        data = data.get(\"kakao_account\", {})\n",
    "        email = data.get(\"email\")\n",
    "\n",
    "        if email:\n",
    "            verified = data.get(\"is_email_verified\")\n",
    "            # data['is_email_verified'] imply the email address is\n",
    "            # verified\n",
    "            ret.append(EmailAddress(email=email, verified=verified, primary=True))\n",
    "        return ret"
   ]
  },
  {
   "cell_type": "markdown",
   "metadata": {},
   "source": []
  },
  {
   "cell_type": "code",
   "execution_count": null,
   "metadata": {},
   "outputs": [],
   "source": [
    "provider_classes = [KakaoProvider]"
   ]
  },
  {
   "cell_type": "markdown",
   "metadata": {},
   "source": []
  }
 ],
 "metadata": {
  "language_info": {
   "name": "python"
  }
 },
 "nbformat": 4,
 "nbformat_minor": 2
}