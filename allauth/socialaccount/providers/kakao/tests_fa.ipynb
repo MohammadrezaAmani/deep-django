{
    "cells": [
        {
            "cell_type": "code",
            "execution_count": null,
            "metadata": {},
            "outputs": [],
            "source": [
                "from allauth.socialaccount.tests import OAuth2TestsMixin\n",
                "from allauth.tests import MockedResponse, TestCase\n",
                "\n",
                "from .provider import KakaoProvider\n"
            ]
        },
        {
            "cell_type": "markdown",
            "metadata": {},
            "source": []
        },
        {
            "cell_type": "code",
            "execution_count": null,
            "metadata": {},
            "outputs": [],
            "source": [
                "class KakaoTests(OAuth2TestsMixin, TestCase):\n",
                "    provider_id = KakaoProvider.id\n",
                "\n",
                "    kakao_data = \"\"\"\n",
                "        {\n",
                "            \"id\": 123456789,\n",
                "            \"properties\": {\n",
                "                \"nickname\": \"\\uc9c0\\uc724\",\n",
                "                \"thumbnail_image\": \"http://xxx.kakao.co.kr/.../aaa.jpg\",\n",
                "                \"profile_image\": \"http://xxx.kakao.co.kr/.../bbb.jpg\"\n",
                "            },\n",
                "            \"kakao_account\": {\n",
                "                \"has_email\": true,\n",
                "                \"is_email_valid\": true,\n",
                "                \"is_email_verified\": true,\n",
                "                \"email\": \"xxxxxxx@xxxxx.com\",\n",
                "                \"has_age_range\": true,\n",
                "                \"age_range\": \"20~29\",\n",
                "                \"has_birthday\": true,\n",
                "                \"birthday\": \"1130\",\n",
                "                \"has_gender\": true,\n",
                "                \"gender\": \"female\"\n",
                "            }\n",
                "        }\n",
                "    \"\"\"\n",
                "\n",
                "    def get_mocked_response(self, data=None):\n",
                "        if data is None:\n",
                "            data = self.kakao_data\n",
                "        return MockedResponse(200, data)\n",
                "\n"
            ]
        },
        {
            "cell_type": "markdown",
            "metadata": {},
            "source": []
        }
    ],
    "metadata": {
        "language_info": {
            "name": "python"
        }
    },
    "nbformat": 4,
    "nbformat_minor": 2
}