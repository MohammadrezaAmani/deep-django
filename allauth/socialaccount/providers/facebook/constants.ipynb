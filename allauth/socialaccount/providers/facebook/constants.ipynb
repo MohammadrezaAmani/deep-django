{
    "cells": [
        {
            "cell_type": "code",
            "execution_count": null,
            "metadata": {},
            "outputs": [],
            "source": [
                "from django.conf import settings\n"
            ]
        },
        {
            "cell_type": "markdown",
            "metadata": {},
            "source": []
        },
        {
            "cell_type": "code",
            "execution_count": null,
            "metadata": {},
            "outputs": [],
            "source": [
                "PROVIDER_ID = \"facebook\"\n",
                "GRAPH_API_VERSION = (\n",
                "    getattr(settings, \"SOCIALACCOUNT_PROVIDERS\", {})\n",
                "    .get(\"facebook\", {})\n",
                "    .get(\"VERSION\", \"v19.0\")\n",
                ")\n",
                "GRAPH_API_URL = (\n",
                "    getattr(settings, \"SOCIALACCOUNT_PROVIDERS\", {})\n",
                "    .get(\"facebook\", {})\n",
                "    .get(\"GRAPH_API_URL\", \"https://graph.facebook.com/{}\".format(GRAPH_API_VERSION))\n",
                ")\n",
                "\n",
                "NONCE_SESSION_KEY = \"allauth_facebook_nonce\"\n",
                "NONCE_LENGTH = 32\n",
                "\n"
            ]
        },
        {
            "cell_type": "markdown",
            "metadata": {},
            "source": []
        }
    ],
    "metadata": {
        "language_info": {
            "name": "python"
        }
    },
    "nbformat": 4,
    "nbformat_minor": 2
}