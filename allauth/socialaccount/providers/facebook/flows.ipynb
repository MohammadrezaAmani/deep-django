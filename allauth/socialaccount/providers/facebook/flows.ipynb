{
 "cells": [
  {
   "cell_type": "code",
   "execution_count": null,
   "metadata": {},
   "outputs": [],
   "source": [
    "import hashlib\n",
    "import hmac\n",
    "from datetime import timedelta\n",
    "\n",
    "from django.core.cache import cache\n",
    "from django.utils import timezone\n",
    "\n",
    "from allauth.socialaccount.adapter import get_adapter\n",
    "from allauth.socialaccount.models import SocialLogin, SocialToken\n",
    "from allauth.socialaccount.providers.base import Provider\n",
    "from allauth.socialaccount.providers.facebook.constants import GRAPH_API_URL"
   ]
  },
  {
   "cell_type": "markdown",
   "metadata": {},
   "source": []
  },
  {
   "cell_type": "code",
   "execution_count": null,
   "metadata": {},
   "outputs": [],
   "source": [
    "def compute_appsecret_proof(app, token):\n",
    "    # Generate an appsecret_proof parameter to secure the Graph API call\n",
    "    # see https://developers.facebook.com/docs/graph-api/securing-requests\n",
    "    msg = token.token.encode(\"utf-8\")\n",
    "    key = app.secret.encode(\"utf-8\")\n",
    "    appsecret_proof = hmac.new(key, msg, digestmod=hashlib.sha256).hexdigest()\n",
    "    return appsecret_proof"
   ]
  },
  {
   "cell_type": "markdown",
   "metadata": {},
   "source": []
  },
  {
   "cell_type": "code",
   "execution_count": null,
   "metadata": {},
   "outputs": [],
   "source": [
    "def complete_login(request, provider, token):\n",
    "    resp = (\n",
    "        get_adapter()\n",
    "        .get_requests_session()\n",
    "        .get(\n",
    "            GRAPH_API_URL + \"/me\",\n",
    "            params={\n",
    "                \"fields\": \",\".join(provider.get_fields()),\n",
    "                \"access_token\": token.token,\n",
    "                \"appsecret_proof\": compute_appsecret_proof(provider.app, token),\n",
    "            },\n",
    "        )\n",
    "    )\n",
    "    resp.raise_for_status()\n",
    "    extra_data = resp.json()\n",
    "    login = provider.sociallogin_from_response(request, extra_data)\n",
    "    return login"
   ]
  },
  {
   "cell_type": "markdown",
   "metadata": {},
   "source": []
  },
  {
   "cell_type": "code",
   "execution_count": null,
   "metadata": {},
   "outputs": [],
   "source": [
    "def get_app_token(provider):\n",
    "    app = provider.app\n",
    "    cache_key = f\"allauth.facebook.app_token[{app.client_id}]\"\n",
    "    app_token = cache.get(cache_key)\n",
    "    if not app_token:\n",
    "        resp = (\n",
    "            get_adapter()\n",
    "            .get_requests_session()\n",
    "            .get(\n",
    "                GRAPH_API_URL + \"/oauth/access_token\",\n",
    "                params={\n",
    "                    \"client_id\": app.client_id,\n",
    "                    \"client_secret\": app.secret,\n",
    "                    \"grant_type\": \"client_credentials\",\n",
    "                },\n",
    "            )\n",
    "        )\n",
    "        resp.raise_for_status()\n",
    "        data = resp.json()\n",
    "        app_token = data[\"access_token\"]\n",
    "        timeout = provider.get_settings().get(\"APP_TOKEN_CACHE_TIMEOUT\", 300)\n",
    "        cache.set(cache_key, app_token, timeout=timeout)\n",
    "    return app_token"
   ]
  },
  {
   "cell_type": "markdown",
   "metadata": {},
   "source": []
  },
  {
   "cell_type": "code",
   "execution_count": null,
   "metadata": {},
   "outputs": [],
   "source": [
    "def inspect_token(provider, input_token):\n",
    "    app_token = get_app_token(provider)\n",
    "    resp = (\n",
    "        get_adapter()\n",
    "        .get_requests_session()\n",
    "        .get(\n",
    "            GRAPH_API_URL + \"/debug_token\",\n",
    "            params={\"input_token\": input_token, \"access_token\": app_token},\n",
    "        )\n",
    "    )\n",
    "    resp.raise_for_status()\n",
    "    data = resp.json()[\"data\"]\n",
    "    if not data[\"is_valid\"]:\n",
    "        raise get_adapter().validation_error(\"invalid_token\")\n",
    "    if data[\"app_id\"] != provider.app.client_id or not data[\"is_valid\"]:\n",
    "        raise get_adapter().validation_error(\"invalid_token\")"
   ]
  },
  {
   "cell_type": "markdown",
   "metadata": {},
   "source": []
  },
  {
   "cell_type": "code",
   "execution_count": null,
   "metadata": {},
   "outputs": [],
   "source": [
    "def verify_token(\n",
    "    request,\n",
    "    provider: Provider,\n",
    "    access_token: str,\n",
    "    auth_type: str = \"\",\n",
    "    auth_nonce: str = \"\",\n",
    ") -> SocialLogin:\n",
    "    app = provider.app\n",
    "    inspect_token(provider, access_token)\n",
    "    expires_at = None\n",
    "    if auth_type == \"reauthenticate\":\n",
    "        resp = (\n",
    "            get_adapter()\n",
    "            .get_requests_session()\n",
    "            .get(\n",
    "                GRAPH_API_URL + \"/oauth/access_token_info\",\n",
    "                params={\n",
    "                    \"client_id\": app.client_id,\n",
    "                    \"access_token\": access_token,\n",
    "                },\n",
    "            )\n",
    "        )\n",
    "        resp.raise_for_status()\n",
    "        info = resp.json()\n",
    "        ok = auth_nonce and auth_nonce == info.get(\"auth_nonce\")\n",
    "        if not ok:\n",
    "            raise get_adapter().validation_error(\"invalid_token\")\n",
    "\n",
    "    if provider.get_settings().get(\"EXCHANGE_TOKEN\"):\n",
    "        resp = (\n",
    "            get_adapter()\n",
    "            .get_requests_session()\n",
    "            .get(\n",
    "                GRAPH_API_URL + \"/oauth/access_token\",\n",
    "                params={\n",
    "                    \"grant_type\": \"fb_exchange_token\",\n",
    "                    \"client_id\": app.client_id,\n",
    "                    \"client_secret\": app.secret,\n",
    "                    \"fb_exchange_token\": access_token,\n",
    "                },\n",
    "            )\n",
    "        )\n",
    "        resp.raise_for_status()\n",
    "        info = resp.json()\n",
    "        access_token = info[\"access_token\"]\n",
    "        expires_in = info.get(\"expires_in\")\n",
    "        if expires_in:\n",
    "            expires_at = timezone.now() + timedelta(seconds=int(expires_in))\n",
    "\n",
    "    token = SocialToken(app=app, token=access_token, expires_at=expires_at)\n",
    "    login = complete_login(request, provider, token)\n",
    "    login.token = token\n",
    "    return login"
   ]
  },
  {
   "cell_type": "markdown",
   "metadata": {},
   "source": []
  }
 ],
 "metadata": {
  "language_info": {
   "name": "python"
  }
 },
 "nbformat": 4,
 "nbformat_minor": 2
}