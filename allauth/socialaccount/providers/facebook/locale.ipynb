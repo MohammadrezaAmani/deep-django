{
 "cells": [
  {
   "cell_type": "code",
   "execution_count": null,
   "metadata": {},
   "outputs": [],
   "source": [
    "# Default locale mapping for the Facebook JS SDK\n",
    "# The list of supported locales is at\n",
    "# https://www.facebook.com/translations/FacebookLocales.xml\n",
    "import os\n",
    "\n",
    "from django.utils.translation import get_language, to_locale"
   ]
  },
  {
   "cell_type": "markdown",
   "metadata": {},
   "source": []
  },
  {
   "cell_type": "code",
   "execution_count": null,
   "metadata": {},
   "outputs": [],
   "source": [
    "def _build_locale_table(filename_or_file):\n",
    "    \"\"\"\n",
    "    Parses the FacebookLocales.xml file and builds a dict relating every\n",
    "    available language ('en, 'es, 'zh', ...) with a list of available regions\n",
    "    for that language ('en' -> 'US', 'EN') and an (arbitrary) default region.\n",
    "    \"\"\"\n",
    "    # Require the XML parser module only if we want the default mapping\n",
    "    from xml.dom.minidom import parse\n",
    "\n",
    "    dom = parse(filename_or_file)\n",
    "\n",
    "    reps = dom.getElementsByTagName(\"representation\")\n",
    "    locs = map(lambda r: r.childNodes[0].data, reps)\n",
    "\n",
    "    locale_map = {}\n",
    "    for loc in locs:\n",
    "        lang, _, reg = loc.partition(\"_\")\n",
    "        lang_map = locale_map.setdefault(lang, {\"regs\": [], \"default\": reg})\n",
    "        lang_map[\"regs\"].append(reg)\n",
    "\n",
    "    # Default region overrides (arbitrary)\n",
    "    locale_map[\"en\"][\"default\"] = \"US\"\n",
    "    # Special case: Use es_ES for Spain and es_LA for everything else\n",
    "    locale_map[\"es\"][\"default\"] = \"LA\"\n",
    "    locale_map[\"zh\"][\"default\"] = \"CN\"\n",
    "    locale_map[\"fr\"][\"default\"] = \"FR\"\n",
    "    locale_map[\"pt\"][\"default\"] = \"PT\"\n",
    "\n",
    "    return locale_map"
   ]
  },
  {
   "cell_type": "markdown",
   "metadata": {},
   "source": []
  },
  {
   "cell_type": "code",
   "execution_count": null,
   "metadata": {},
   "outputs": [],
   "source": [
    "def get_default_locale_callable():\n",
    "    \"\"\"\n",
    "    Wrapper function so that the default mapping is only built when needed\n",
    "    \"\"\"\n",
    "    exec_dir = os.path.dirname(os.path.realpath(__file__))\n",
    "    xml_path = os.path.join(exec_dir, \"data\", \"FacebookLocales.xml\")\n",
    "\n",
    "    fb_locales = _build_locale_table(xml_path)\n",
    "\n",
    "    def default_locale(request):\n",
    "        \"\"\"\n",
    "        Guess an appropriate FB locale based on the active Django locale.\n",
    "        If the active locale is available, it is returned. Otherwise,\n",
    "        it tries to return another locale with the same language. If there\n",
    "        isn't one available, 'en_US' is returned.\n",
    "        \"\"\"\n",
    "        chosen = \"en_US\"\n",
    "        language = get_language()\n",
    "        if language:\n",
    "            locale = to_locale(language)\n",
    "            lang, _, reg = locale.partition(\"_\")\n",
    "\n",
    "            lang_map = fb_locales.get(lang)\n",
    "            if lang_map is not None:\n",
    "                if reg in lang_map[\"regs\"]:\n",
    "                    chosen = lang + \"_\" + reg\n",
    "                else:\n",
    "                    chosen = lang + \"_\" + lang_map[\"default\"]\n",
    "        return chosen\n",
    "\n",
    "    return default_locale"
   ]
  },
  {
   "cell_type": "markdown",
   "metadata": {},
   "source": []
  }
 ],
 "metadata": {
  "language_info": {
   "name": "python"
  }
 },
 "nbformat": 4,
 "nbformat_minor": 2
}