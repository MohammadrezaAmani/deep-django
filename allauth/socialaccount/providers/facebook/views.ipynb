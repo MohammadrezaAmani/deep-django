{
    "cells": [
        {
            "cell_type": "code",
            "execution_count": null,
            "metadata": {},
            "outputs": [],
            "source": [
                "import logging\n",
                "import requests\n",
                "\n",
                "from django import forms\n",
                "from django.core.exceptions import PermissionDenied\n",
                "from django.views.generic import View\n",
                "\n",
                "from allauth.socialaccount import app_settings\n",
                "from allauth.socialaccount.adapter import get_adapter\n",
                "from allauth.socialaccount.helpers import (\n",
                "    complete_social_login,\n",
                "    render_authentication_error,\n",
                ")\n",
                "from allauth.socialaccount.models import SocialLogin\n",
                "from allauth.socialaccount.providers.facebook import flows\n",
                "from allauth.socialaccount.providers.facebook.constants import (\n",
                "    GRAPH_API_URL,\n",
                "    GRAPH_API_VERSION,\n",
                "    PROVIDER_ID,\n",
                ")\n",
                "from allauth.socialaccount.providers.oauth2.views import (\n",
                "    OAuth2Adapter,\n",
                "    OAuth2CallbackView,\n",
                "    OAuth2LoginView,\n",
                ")\n",
                "\n",
                "from .forms import FacebookConnectForm\n"
            ]
        },
        {
            "cell_type": "markdown",
            "metadata": {},
            "source": []
        },
        {
            "cell_type": "code",
            "execution_count": null,
            "metadata": {},
            "outputs": [],
            "source": [
                "logger = logging.getLogger(__name__)\n"
            ]
        },
        {
            "cell_type": "markdown",
            "metadata": {},
            "source": []
        },
        {
            "cell_type": "code",
            "execution_count": null,
            "metadata": {},
            "outputs": [],
            "source": [
                "class FacebookOAuth2Adapter(OAuth2Adapter):\n",
                "    provider_id = PROVIDER_ID\n",
                "    provider_default_auth_url = \"https://www.facebook.com/{}/dialog/oauth\".format(\n",
                "        GRAPH_API_VERSION\n",
                "    )\n",
                "\n",
                "    settings = app_settings.PROVIDERS.get(provider_id, {})\n",
                "    scope_delimiter = \",\"\n",
                "    authorize_url = settings.get(\"AUTHORIZE_URL\", provider_default_auth_url)\n",
                "    access_token_url = GRAPH_API_URL + \"/oauth/access_token\"\n",
                "    access_token_method = \"GET\"\n",
                "    expires_in_key = \"expires_in\"\n",
                "\n",
                "    def complete_login(self, request, app, access_token, **kwargs):\n",
                "        provider = self.get_provider()\n",
                "        return flows.complete_login(request, provider, access_token)\n"
            ]
        },
        {
            "cell_type": "markdown",
            "metadata": {},
            "source": []
        },
        {
            "cell_type": "code",
            "execution_count": null,
            "metadata": {},
            "outputs": [],
            "source": [
                "oauth2_login = OAuth2LoginView.adapter_view(FacebookOAuth2Adapter)\n",
                "oauth2_callback = OAuth2CallbackView.adapter_view(FacebookOAuth2Adapter)\n"
            ]
        },
        {
            "cell_type": "markdown",
            "metadata": {},
            "source": []
        },
        {
            "cell_type": "code",
            "execution_count": null,
            "metadata": {},
            "outputs": [],
            "source": [
                "class LoginByTokenView(View):\n",
                "    def dispatch(self, request):\n",
                "        self.adapter = get_adapter()\n",
                "        self.provider = self.adapter.get_provider(request, PROVIDER_ID)\n",
                "        try:\n",
                "            return super().dispatch(request)\n",
                "        except (\n",
                "            requests.RequestException,\n",
                "            forms.ValidationError,\n",
                "            PermissionDenied,\n",
                "        ) as exc:\n",
                "            return render_authentication_error(request, self.provider, exception=exc)\n",
                "\n",
                "    def get(self, request):\n",
                "        # If we leave out get().get() it will return a response with a 405, but\n",
                "        # we really want to show an authentication error.\n",
                "        raise PermissionDenied(\"405\")\n",
                "\n",
                "    def post(self, request):\n",
                "        form = FacebookConnectForm(request.POST)\n",
                "        if not form.is_valid():\n",
                "            raise self.adapter.validation_error(\"invalid_token\")\n",
                "        access_token = form.cleaned_data[\"access_token\"]\n",
                "        provider = self.provider\n",
                "        login_options = provider.get_fb_login_options(request)\n",
                "        auth_type = login_options.get(\"auth_type\")\n",
                "        auth_nonce = \"\"\n",
                "        if auth_type == \"reauthenticate\":\n",
                "            auth_nonce = provider.get_nonce(request, pop=True)\n",
                "        login = flows.verify_token(\n",
                "            request, provider, access_token, auth_type, auth_nonce\n",
                "        )\n",
                "        login.state = SocialLogin.state_from_request(request)\n",
                "        ret = complete_social_login(request, login)\n",
                "        return ret\n"
            ]
        },
        {
            "cell_type": "markdown",
            "metadata": {},
            "source": []
        },
        {
            "cell_type": "code",
            "execution_count": null,
            "metadata": {},
            "outputs": [],
            "source": [
                "login_by_token = LoginByTokenView.as_view()\n",
                "\n"
            ]
        },
        {
            "cell_type": "markdown",
            "metadata": {},
            "source": []
        }
    ],
    "metadata": {
        "language_info": {
            "name": "python"
        }
    },
    "nbformat": 4,
    "nbformat_minor": 2
}