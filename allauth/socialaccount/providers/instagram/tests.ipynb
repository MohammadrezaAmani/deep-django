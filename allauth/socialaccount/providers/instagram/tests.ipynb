{
 "cells": [
  {
   "cell_type": "code",
   "execution_count": null,
   "metadata": {},
   "outputs": [],
   "source": [
    "from allauth.socialaccount.tests import OAuth2TestsMixin\n",
    "from allauth.tests import MockedResponse, TestCase\n",
    "\n",
    "from .provider import InstagramProvider"
   ]
  },
  {
   "cell_type": "markdown",
   "metadata": {},
   "source": []
  },
  {
   "cell_type": "code",
   "execution_count": null,
   "metadata": {},
   "outputs": [],
   "source": [
    "class InstagramTests(OAuth2TestsMixin, TestCase):\n",
    "    provider_id = InstagramProvider.id\n",
    "\n",
    "    def get_mocked_response(self):\n",
    "        return MockedResponse(\n",
    "            200,\n",
    "            \"\"\"\n",
    "        {\n",
    "            \"username\": \"georgewhewell\",\n",
    "            \"bio\": \"\",\n",
    "            \"website\": \"\",\n",
    "            \"profile_picture\":\n",
    "            \"http://images.ak.instagram.com/profiles/profile_11428116_75sq_1339547159.jpg\",\n",
    "            \"full_name\": \"georgewhewell\",\n",
    "            \"counts\": {\n",
    "              \"media\": 74,\n",
    "              \"followed_by\": 91,\n",
    "              \"follows\": 104\n",
    "            },\n",
    "            \"id\": \"11428116\"\n",
    "        }\"\"\",\n",
    "        )  # noqa"
   ]
  },
  {
   "cell_type": "markdown",
   "metadata": {},
   "source": []
  }
 ],
 "metadata": {
  "language_info": {
   "name": "python"
  }
 },
 "nbformat": 4,
 "nbformat_minor": 2
}