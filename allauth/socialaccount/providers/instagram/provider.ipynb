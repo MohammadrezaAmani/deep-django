{
 "cells": [
  {
   "cell_type": "code",
   "execution_count": null,
   "metadata": {},
   "outputs": [],
   "source": [
    "from allauth.socialaccount.providers.base import ProviderAccount\n",
    "from allauth.socialaccount.providers.instagram.views import (\n",
    "    InstagramOAuth2Adapter,\n",
    ")\n",
    "from allauth.socialaccount.providers.oauth2.provider import OAuth2Provider"
   ]
  },
  {
   "cell_type": "markdown",
   "metadata": {},
   "source": []
  },
  {
   "cell_type": "code",
   "execution_count": null,
   "metadata": {},
   "outputs": [],
   "source": [
    "class InstagramAccount(ProviderAccount):\n",
    "    PROFILE_URL = \"http://instagram.com/\"\n",
    "\n",
    "    def get_profile_url(self):\n",
    "        return self.PROFILE_URL + self.account.extra_data.get(\"username\")\n",
    "\n",
    "    def to_str(self):\n",
    "        dflt = super(InstagramAccount, self).to_str()\n",
    "        return self.account.extra_data.get(\"username\", dflt)"
   ]
  },
  {
   "cell_type": "markdown",
   "metadata": {},
   "source": []
  },
  {
   "cell_type": "code",
   "execution_count": null,
   "metadata": {},
   "outputs": [],
   "source": [
    "class InstagramProvider(OAuth2Provider):\n",
    "    id = \"instagram\"\n",
    "    name = \"Instagram\"\n",
    "    account_class = InstagramAccount\n",
    "    oauth2_adapter_class = InstagramOAuth2Adapter\n",
    "\n",
    "    def extract_extra_data(self, data):\n",
    "        return data\n",
    "\n",
    "    def get_default_scope(self):\n",
    "        return [\"user_profile\"]\n",
    "\n",
    "    def extract_uid(self, data):\n",
    "        return str(data[\"id\"])\n",
    "\n",
    "    def extract_common_fields(self, data):\n",
    "        return dict(username=data.get(\"username\"))"
   ]
  },
  {
   "cell_type": "markdown",
   "metadata": {},
   "source": []
  },
  {
   "cell_type": "code",
   "execution_count": null,
   "metadata": {},
   "outputs": [],
   "source": [
    "provider_classes = [InstagramProvider]"
   ]
  },
  {
   "cell_type": "markdown",
   "metadata": {},
   "source": []
  }
 ],
 "metadata": {
  "language_info": {
   "name": "python"
  }
 },
 "nbformat": 4,
 "nbformat_minor": 2
}