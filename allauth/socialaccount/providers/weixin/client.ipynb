{
    "cells": [
        {
            "cell_type": "code",
            "execution_count": null,
            "metadata": {},
            "outputs": [],
            "source": [
                "from collections import OrderedDict\n",
                "\n",
                "from django.utils.http import urlencode\n",
                "\n",
                "from allauth.socialaccount.adapter import get_adapter\n",
                "from allauth.socialaccount.providers.oauth2.client import (\n",
                "    OAuth2Client,\n",
                "    OAuth2Error,\n",
                ")\n"
            ]
        },
        {
            "cell_type": "markdown",
            "metadata": {},
            "source": []
        },
        {
            "cell_type": "code",
            "execution_count": null,
            "metadata": {},
            "outputs": [],
            "source": [
                "class WeixinOAuth2Client(OAuth2Client):\n",
                "    def get_redirect_url(self, authorization_url, scope, extra_params):\n",
                "        scope = self.scope_delimiter.join(set(scope))\n",
                "        params = {\n",
                "            \"appid\": self.consumer_key,\n",
                "            \"redirect_uri\": self.callback_url,\n",
                "            \"scope\": scope,\n",
                "            \"response_type\": \"code\",\n",
                "        }\n",
                "        if self.state:\n",
                "            params[\"state\"] = self.state\n",
                "        params.update(extra_params)\n",
                "        sorted_params = OrderedDict()\n",
                "        for param in sorted(params):\n",
                "            sorted_params[param] = params[param]\n",
                "        return \"%s?%s\" % (authorization_url, urlencode(sorted_params))\n",
                "\n",
                "    def get_access_token(self, code, pkce_code_verifier=None):\n",
                "        data = {\n",
                "            \"appid\": self.consumer_key,\n",
                "            \"grant_type\": \"authorization_code\",\n",
                "            \"secret\": self.consumer_secret,\n",
                "            \"code\": code,\n",
                "        }\n",
                "        params = None\n",
                "        self._strip_empty_keys(data)\n",
                "        url = self.access_token_url\n",
                "        if self.access_token_method == \"GET\":\n",
                "            params = data\n",
                "            data = None\n",
                "        if data and pkce_code_verifier:\n",
                "            data[\"code_verifier\"] = pkce_code_verifier\n",
                "        # TODO: Proper exception handling\n",
                "        resp = (\n",
                "            get_adapter()\n",
                "            .get_requests_session()\n",
                "            .request(self.access_token_method, url, params=params, data=data)\n",
                "        )\n",
                "        access_token = None\n",
                "        if resp.status_code == 200:\n",
                "            access_token = resp.json()\n",
                "        if not access_token or \"access_token\" not in access_token:\n",
                "            raise OAuth2Error(\"Error retrieving access token: %s\" % resp.content)\n",
                "        return access_token\n",
                "\n"
            ]
        },
        {
            "cell_type": "markdown",
            "metadata": {},
            "source": []
        }
    ],
    "metadata": {
        "language_info": {
            "name": "python"
        }
    },
    "nbformat": 4,
    "nbformat_minor": 2
}