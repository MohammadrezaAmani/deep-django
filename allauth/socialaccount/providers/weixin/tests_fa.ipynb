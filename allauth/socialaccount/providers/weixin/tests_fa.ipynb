{
 "cells": [
  {
   "cell_type": "code",
   "execution_count": null,
   "metadata": {},
   "outputs": [],
   "source": [
    "# -*- coding: utf-8 -*-\n",
    "from __future__ import unicode_literals\n",
    "\n",
    "from allauth.socialaccount.tests import OAuth2TestsMixin\n",
    "from allauth.tests import MockedResponse, TestCase\n",
    "\n",
    "from .provider import WeixinProvider"
   ]
  },
  {
   "cell_type": "markdown",
   "metadata": {},
   "source": []
  },
  {
   "cell_type": "code",
   "execution_count": null,
   "metadata": {},
   "outputs": [],
   "source": [
    "class WeixinTests(OAuth2TestsMixin, TestCase):\n",
    "    provider_id = WeixinProvider.id\n",
    "\n",
    "    def get_mocked_response(self):\n",
    "        return MockedResponse(\n",
    "            200,\n",
    "            \"\"\"\n",
    "{\"access_token\":\n",
    " \"OezXcEiiBSKSxW0eoylIeO5cPxb4Ks1RpbXGMv9uiV35032zNHGzXcld-EKsSScE3gRZMrUU78skCbp1ShtZnR0dQB8Wr_LUf7FA-H97Lnd2HgQah_GnkQex-vPFsGEwPPcNAV6q1Vz3uRNgL0MUFg\",\n",
    " \"city\": \"Pudong New District\",\n",
    " \"country\": \"CN\",\n",
    " \"expires_in\": 7200,\n",
    " \"headimgurl\":\n",
    " \"http://wx.qlogo.cn/mmopen/VkvLVEpoJiaibYsVyW8GzxHibzlnqSM7iaX09r6TWUJXCNQHibHz37krvN65HR1ibEpgH5K5sukcIzA3r1C4KQ9qyyX9XIUdY9lNOk/0\",\n",
    " \"language\": \"zh_CN\",\n",
    " \"nickname\": \"某某某\",\n",
    " \"openid\": \"ohS-VwAJ9GEXlplngwybJ3Z-ZHrI\",\n",
    " \"privilege\": [],\n",
    " \"province\": \"Shanghai\",\n",
    " \"refresh_token\":\n",
    " \"OezXcEiiBSKSxW0eoylIeO5cPxb4Ks1RpbXGMv9uiV35032zNHGzXcld-EKsSScEbMnnMqVExcSpj7KRAuBA8BU2j2e_FK5dgBe-ro32k7OuHtznwqqBn5QR7LZGo2-P8G7gG0eitjyZ751sFlnTAw\",\n",
    " \"scope\": \"snsapi_login\",\n",
    " \"sex\": 1,\n",
    " \"unionid\": \"ohHrhwKnD9TOunEW0eKTS45vS5Qo\"}\"\"\",\n",
    "        )  # noqa"
   ]
  },
  {
   "cell_type": "markdown",
   "metadata": {},
   "source": []
  }
 ],
 "metadata": {
  "language_info": {
   "name": "python"
  }
 },
 "nbformat": 4,
 "nbformat_minor": 2
}