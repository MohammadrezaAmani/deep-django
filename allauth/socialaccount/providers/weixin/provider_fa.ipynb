{
    "cells": [
        {
            "cell_type": "code",
            "execution_count": null,
            "metadata": {},
            "outputs": [],
            "source": [
                "from allauth.socialaccount.providers.base import ProviderAccount\n",
                "from allauth.socialaccount.providers.oauth2.provider import OAuth2Provider\n",
                "from allauth.socialaccount.providers.weixin.views import WeixinOAuth2Adapter\n"
            ]
        },
        {
            "cell_type": "markdown",
            "metadata": {},
            "source": []
        },
        {
            "cell_type": "code",
            "execution_count": null,
            "metadata": {},
            "outputs": [],
            "source": [
                "class WeixinAccount(ProviderAccount):\n",
                "    def get_avatar_url(self):\n",
                "        return self.account.extra_data.get(\"headimgurl\")\n",
                "\n",
                "    def to_str(self):\n",
                "        return self.account.extra_data.get(\n",
                "            \"nickname\", super(WeixinAccount, self).to_str()\n",
                "        )\n"
            ]
        },
        {
            "cell_type": "markdown",
            "metadata": {},
            "source": []
        },
        {
            "cell_type": "code",
            "execution_count": null,
            "metadata": {},
            "outputs": [],
            "source": [
                "class WeixinProvider(OAuth2Provider):\n",
                "    id = \"weixin\"\n",
                "    name = \"Weixin\"\n",
                "    account_class = WeixinAccount\n",
                "    oauth2_adapter_class = WeixinOAuth2Adapter\n",
                "\n",
                "    def extract_uid(self, data):\n",
                "        return data[\"openid\"]\n",
                "\n",
                "    def get_default_scope(self):\n",
                "        return [\"snsapi_login\"]\n",
                "\n",
                "    def extract_common_fields(self, data):\n",
                "        return dict(username=data.get(\"nickname\"), name=data.get(\"nickname\"))\n"
            ]
        },
        {
            "cell_type": "markdown",
            "metadata": {},
            "source": []
        },
        {
            "cell_type": "code",
            "execution_count": null,
            "metadata": {},
            "outputs": [],
            "source": [
                "provider_classes = [WeixinProvider]\n",
                "\n"
            ]
        },
        {
            "cell_type": "markdown",
            "metadata": {},
            "source": []
        }
    ],
    "metadata": {
        "language_info": {
            "name": "python"
        }
    },
    "nbformat": 4,
    "nbformat_minor": 2
}