{
    "cells": [
        {
            "cell_type": "code",
            "execution_count": null,
            "metadata": {},
            "outputs": [],
            "source": [
                "from allauth.socialaccount.adapter import get_adapter\n",
                "from allauth.socialaccount.providers.oauth2.views import (\n",
                "    OAuth2Adapter,\n",
                "    OAuth2CallbackView,\n",
                "    OAuth2LoginView,\n",
                ")\n",
                "\n",
                "from .client import WeixinOAuth2Client\n"
            ]
        },
        {
            "cell_type": "markdown",
            "metadata": {},
            "source": []
        },
        {
            "cell_type": "code",
            "execution_count": null,
            "metadata": {},
            "outputs": [],
            "source": [
                "class WeixinOAuth2Adapter(OAuth2Adapter):\n",
                "    provider_id = \"weixin\"\n",
                "    access_token_url = \"https://api.weixin.qq.com/sns/oauth2/access_token\"\n",
                "    profile_url = \"https://api.weixin.qq.com/sns/userinfo\"\n",
                "    client_class = WeixinOAuth2Client\n",
                "\n",
                "    @property\n",
                "    def authorize_url(self):\n",
                "        settings = self.get_provider().get_settings()\n",
                "        url = settings.get(\n",
                "            \"AUTHORIZE_URL\", \"https://open.weixin.qq.com/connect/qrconnect\"\n",
                "        )\n",
                "        return url\n",
                "\n",
                "    def complete_login(self, request, app, token, **kwargs):\n",
                "        openid = kwargs.get(\"response\", {}).get(\"openid\")\n",
                "        resp = (\n",
                "            get_adapter()\n",
                "            .get_requests_session()\n",
                "            .get(\n",
                "                self.profile_url,\n",
                "                params={\"access_token\": token.token, \"openid\": openid},\n",
                "            )\n",
                "        )\n",
                "        resp.raise_for_status()\n",
                "        extra_data = resp.json()\n",
                "        nickname = extra_data.get(\"nickname\")\n",
                "        if nickname:\n",
                "            extra_data[\"nickname\"] = nickname.encode(\"raw_unicode_escape\").decode(\n",
                "                \"utf-8\"\n",
                "            )\n",
                "        return self.get_provider().sociallogin_from_response(request, extra_data)\n"
            ]
        },
        {
            "cell_type": "markdown",
            "metadata": {},
            "source": []
        },
        {
            "cell_type": "code",
            "execution_count": null,
            "metadata": {},
            "outputs": [],
            "source": [
                "oauth2_login = OAuth2LoginView.adapter_view(WeixinOAuth2Adapter)\n",
                "oauth2_callback = OAuth2CallbackView.adapter_view(WeixinOAuth2Adapter)\n",
                "\n"
            ]
        },
        {
            "cell_type": "markdown",
            "metadata": {},
            "source": []
        }
    ],
    "metadata": {
        "language_info": {
            "name": "python"
        }
    },
    "nbformat": 4,
    "nbformat_minor": 2
}