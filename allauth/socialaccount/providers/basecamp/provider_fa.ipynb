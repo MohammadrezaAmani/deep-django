{
 "cells": [
  {
   "cell_type": "code",
   "execution_count": null,
   "metadata": {},
   "outputs": [],
   "source": [
    "from allauth.socialaccount.providers.base import ProviderAccount\n",
    "from allauth.socialaccount.providers.basecamp.views import BasecampOAuth2Adapter\n",
    "from allauth.socialaccount.providers.oauth2.provider import OAuth2Provider"
   ]
  },
  {
   "cell_type": "markdown",
   "metadata": {},
   "source": []
  },
  {
   "cell_type": "code",
   "execution_count": null,
   "metadata": {},
   "outputs": [],
   "source": [
    "class BasecampAccount(ProviderAccount):\n",
    "    def get_avatar_url(self):\n",
    "        return None\n",
    "\n",
    "    def to_str(self):\n",
    "        dflt = super(BasecampAccount, self).to_str()\n",
    "        return self.account.extra_data.get(\"name\", dflt)"
   ]
  },
  {
   "cell_type": "markdown",
   "metadata": {},
   "source": []
  },
  {
   "cell_type": "code",
   "execution_count": null,
   "metadata": {},
   "outputs": [],
   "source": [
    "class BasecampProvider(OAuth2Provider):\n",
    "    id = \"basecamp\"\n",
    "    name = \"Basecamp\"\n",
    "    account_class = BasecampAccount\n",
    "    oauth2_adapter_class = BasecampOAuth2Adapter\n",
    "\n",
    "    def get_auth_params_from_request(self, request, action):\n",
    "        data = super().get_auth_params_from_request(request, action)\n",
    "        data[\"type\"] = \"web_server\"\n",
    "        return data\n",
    "\n",
    "    def extract_uid(self, data):\n",
    "        data = data[\"identity\"]\n",
    "        return str(data[\"id\"])\n",
    "\n",
    "    def extract_common_fields(self, data):\n",
    "        data = data[\"identity\"]\n",
    "        return dict(\n",
    "            email=data.get(\"email_address\"),\n",
    "            username=data.get(\"email_address\"),\n",
    "            first_name=data.get(\"first_name\"),\n",
    "            last_name=data.get(\"last_name\"),\n",
    "            name=\"%s %s\" % (data.get(\"first_name\"), data.get(\"last_name\")),\n",
    "        )"
   ]
  },
  {
   "cell_type": "markdown",
   "metadata": {},
   "source": []
  },
  {
   "cell_type": "code",
   "execution_count": null,
   "metadata": {},
   "outputs": [],
   "source": [
    "provider_classes = [BasecampProvider]"
   ]
  },
  {
   "cell_type": "markdown",
   "metadata": {},
   "source": []
  }
 ],
 "metadata": {
  "language_info": {
   "name": "python"
  }
 },
 "nbformat": 4,
 "nbformat_minor": 2
}