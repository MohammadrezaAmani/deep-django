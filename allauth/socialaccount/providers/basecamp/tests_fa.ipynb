{
 "cells": [
  {
   "cell_type": "code",
   "execution_count": null,
   "metadata": {},
   "outputs": [],
   "source": [
    "from allauth.socialaccount.tests import OAuth2TestsMixin\n",
    "from allauth.tests import MockedResponse, TestCase\n",
    "\n",
    "from .provider import BasecampProvider"
   ]
  },
  {
   "cell_type": "markdown",
   "metadata": {},
   "source": []
  },
  {
   "cell_type": "code",
   "execution_count": null,
   "metadata": {},
   "outputs": [],
   "source": [
    "class BasecampTests(OAuth2TestsMixin, TestCase):\n",
    "    provider_id = BasecampProvider.id\n",
    "\n",
    "    def get_mocked_response(self):\n",
    "        return MockedResponse(\n",
    "            200,\n",
    "            \"\"\"\n",
    "        {\n",
    "            \"expires_at\": \"2012-03-22T16:56:48-05:00\",\n",
    "            \"identity\": {\n",
    "                \"id\": 9999999,\n",
    "                \"first_name\": \"Jason Fried\",\n",
    "                \"last_name\": \"Jason Fried\",\n",
    "                \"email_address\": \"jason@example.com\"\n",
    "            },\n",
    "            \"accounts\": [\n",
    "                {\n",
    "                    \"product\": \"bcx\",\n",
    "                    \"id\": 88888888,\n",
    "                    \"name\": \"Wayne Enterprises, Ltd.\",\n",
    "                    \"href\": \"https://basecamp.com/88888888/api/v1\"\n",
    "                },\n",
    "                {\n",
    "                    \"product\": \"bcx\",\n",
    "                    \"id\": 77777777,\n",
    "                    \"name\": \"Veidt, Inc\",\n",
    "                    \"href\": \"https://basecamp.com/77777777/api/v1\"\n",
    "                },\n",
    "                {\n",
    "                    \"product\": \"campfire\",\n",
    "                    \"id\": 44444444,\n",
    "                    \"name\": \"Acme Shipping Co.\",\n",
    "                    \"href\": \"https://acme4444444.campfirenow.com\"\n",
    "                }\n",
    "            ]\n",
    "        }\"\"\",\n",
    "        )"
   ]
  },
  {
   "cell_type": "markdown",
   "metadata": {},
   "source": []
  }
 ],
 "metadata": {
  "language_info": {
   "name": "python"
  }
 },
 "nbformat": 4,
 "nbformat_minor": 2
}