{
    "cells": [
        {
            "cell_type": "code",
            "execution_count": null,
            "metadata": {},
            "outputs": [],
            "source": [
                "from allauth.socialaccount.adapter import get_adapter\n",
                "from allauth.socialaccount.providers.oauth2.views import (\n",
                "    OAuth2Adapter,\n",
                "    OAuth2CallbackView,\n",
                "    OAuth2LoginView,\n",
                ")\n"
            ]
        },
        {
            "cell_type": "markdown",
            "metadata": {},
            "source": []
        },
        {
            "cell_type": "code",
            "execution_count": null,
            "metadata": {},
            "outputs": [],
            "source": [
                "class HubicOAuth2Adapter(OAuth2Adapter):\n",
                "    provider_id = \"hubic\"\n",
                "    access_token_url = \"https://api.hubic.com/oauth/token\"\n",
                "    authorize_url = \"https://api.hubic.com/oauth/auth\"\n",
                "    profile_url = \"https://api.hubic.com/1.0/account\"\n",
                "    redirect_uri_protocol = \"https\"\n",
                "\n",
                "    def complete_login(self, request, app, token, **kwargs):\n",
                "        token_type = kwargs[\"response\"][\"token_type\"]\n",
                "        resp = (\n",
                "            get_adapter()\n",
                "            .get_requests_session()\n",
                "            .get(\n",
                "                self.profile_url,\n",
                "                headers={\"Authorization\": \"%s %s\" % (token_type, token.token)},\n",
                "            )\n",
                "        )\n",
                "        extra_data = resp.json()\n",
                "        return self.get_provider().sociallogin_from_response(request, extra_data)\n"
            ]
        },
        {
            "cell_type": "markdown",
            "metadata": {},
            "source": []
        },
        {
            "cell_type": "code",
            "execution_count": null,
            "metadata": {},
            "outputs": [],
            "source": [
                "oauth2_login = OAuth2LoginView.adapter_view(HubicOAuth2Adapter)\n",
                "oauth2_callback = OAuth2CallbackView.adapter_view(HubicOAuth2Adapter)\n",
                "\n"
            ]
        },
        {
            "cell_type": "markdown",
            "metadata": {},
            "source": []
        }
    ],
    "metadata": {
        "language_info": {
            "name": "python"
        }
    },
    "nbformat": 4,
    "nbformat_minor": 2
}