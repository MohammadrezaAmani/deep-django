{
 "cells": [
  {
   "cell_type": "code",
   "execution_count": null,
   "metadata": {},
   "outputs": [],
   "source": [
    "from allauth.socialaccount.tests import OAuth2TestsMixin\n",
    "from allauth.tests import MockedResponse, TestCase\n",
    "\n",
    "from .provider import HubicProvider"
   ]
  },
  {
   "cell_type": "markdown",
   "metadata": {},
   "source": []
  },
  {
   "cell_type": "code",
   "execution_count": null,
   "metadata": {},
   "outputs": [],
   "source": [
    "class HubicTests(OAuth2TestsMixin, TestCase):\n",
    "    provider_id = HubicProvider.id\n",
    "\n",
    "    def get_mocked_response(self):\n",
    "        return MockedResponse(\n",
    "            200,\n",
    "            \"\"\"\n",
    "{\n",
    "    \"email\": \"user@example.com\",\n",
    "    \"firstname\": \"Test\",\n",
    "    \"activated\": true,\n",
    "    \"creationDate\": \"2014-04-17T17:04:01+02:00\",\n",
    "    \"language\": \"en\",\n",
    "    \"status\": \"ok\",\n",
    "    \"offer\": \"25g\",\n",
    "    \"lastname\": \"User\"\n",
    "}\n",
    "\"\"\",\n",
    "        )\n",
    "\n",
    "    def get_login_response_json(self, with_refresh_token=True):\n",
    "        return '{\\\n",
    "    \"access_token\": \"testac\",\\\n",
    "    \"expires_in\": \"3600\",\\\n",
    "    \"refresh_token\": \"testrf\",\\\n",
    "    \"token_type\": \"Bearer\"\\\n",
    "}'"
   ]
  },
  {
   "cell_type": "markdown",
   "metadata": {},
   "source": []
  }
 ],
 "metadata": {
  "language_info": {
   "name": "python"
  }
 },
 "nbformat": 4,
 "nbformat_minor": 2
}