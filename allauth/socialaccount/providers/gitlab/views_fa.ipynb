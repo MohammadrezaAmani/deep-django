{
 "cells": [
  {
   "cell_type": "code",
   "execution_count": null,
   "metadata": {},
   "outputs": [],
   "source": [
    "from allauth.core import context\n",
    "from allauth.socialaccount import app_settings\n",
    "from allauth.socialaccount.adapter import get_adapter\n",
    "from allauth.socialaccount.providers.oauth2.client import OAuth2Error\n",
    "from allauth.socialaccount.providers.oauth2.views import (\n",
    "    OAuth2Adapter,\n",
    "    OAuth2CallbackView,\n",
    "    OAuth2LoginView,\n",
    ")"
   ]
  },
  {
   "cell_type": "markdown",
   "metadata": {},
   "source": []
  },
  {
   "cell_type": "code",
   "execution_count": null,
   "metadata": {},
   "outputs": [],
   "source": [
    "def _check_errors(response):\n",
    "    #  403 error's are presented as user-facing errors\n",
    "    if response.status_code == 403:\n",
    "        msg = response.content\n",
    "        raise OAuth2Error(\"Invalid data from GitLab API: %r\" % (msg))\n",
    "\n",
    "    try:\n",
    "        data = response.json()\n",
    "    except ValueError:  # JSONDecodeError on py3\n",
    "        raise OAuth2Error(\"Invalid JSON from GitLab API: %r\" % (response.text))\n",
    "\n",
    "    if response.status_code >= 400 or \"error\" in data:\n",
    "        # For errors, we expect the following format:\n",
    "        # {\"error\": \"error_name\", \"error_description\": \"Oops!\"}\n",
    "        # For example, if the token is not valid, we will get:\n",
    "        # {\"message\": \"status_code - message\"}\n",
    "        error = data.get(\"error\", \"\") or response.status_code\n",
    "        desc = data.get(\"error_description\", \"\") or data.get(\"message\", \"\")\n",
    "\n",
    "        raise OAuth2Error(\"GitLab error: %s (%s)\" % (error, desc))\n",
    "\n",
    "    # The expected output from the API follows this format:\n",
    "    # {\"id\": 12345, ...}\n",
    "    if \"id\" not in data:\n",
    "        # If the id is not present, the output is not usable (no UID)\n",
    "        raise OAuth2Error(\"Invalid data from GitLab API: %r\" % (data))\n",
    "\n",
    "    return data"
   ]
  },
  {
   "cell_type": "markdown",
   "metadata": {},
   "source": []
  },
  {
   "cell_type": "code",
   "execution_count": null,
   "metadata": {},
   "outputs": [],
   "source": [
    "class GitLabOAuth2Adapter(OAuth2Adapter):\n",
    "    provider_id = \"gitlab\"\n",
    "    provider_default_url = \"https://gitlab.com\"\n",
    "    provider_api_version = \"v4\"\n",
    "\n",
    "    def _build_url(self, path):\n",
    "        settings = app_settings.PROVIDERS.get(self.provider_id, {})\n",
    "        gitlab_url = settings.get(\"GITLAB_URL\", self.provider_default_url)\n",
    "        # Prefer app based setting.\n",
    "        app = get_adapter().get_app(context.request, provider=self.provider_id)\n",
    "        gitlab_url = app.settings.get(\"gitlab_url\", gitlab_url)\n",
    "        return f\"{gitlab_url}{path}\"\n",
    "\n",
    "    @property\n",
    "    def access_token_url(self):\n",
    "        return self._build_url(\"/oauth/token\")\n",
    "\n",
    "    @property\n",
    "    def authorize_url(self):\n",
    "        return self._build_url(\"/oauth/authorize\")\n",
    "\n",
    "    @property\n",
    "    def profile_url(self):\n",
    "        return self._build_url(f\"/api/{self.provider_api_version}/user\")\n",
    "\n",
    "    def complete_login(self, request, app, token, response):\n",
    "        response = (\n",
    "            get_adapter()\n",
    "            .get_requests_session()\n",
    "            .get(self.profile_url, params={\"access_token\": token.token})\n",
    "        )\n",
    "        data = _check_errors(response)\n",
    "        return self.get_provider().sociallogin_from_response(request, data)"
   ]
  },
  {
   "cell_type": "markdown",
   "metadata": {},
   "source": []
  },
  {
   "cell_type": "code",
   "execution_count": null,
   "metadata": {},
   "outputs": [],
   "source": [
    "oauth2_login = OAuth2LoginView.adapter_view(GitLabOAuth2Adapter)\n",
    "oauth2_callback = OAuth2CallbackView.adapter_view(GitLabOAuth2Adapter)"
   ]
  },
  {
   "cell_type": "markdown",
   "metadata": {},
   "source": []
  }
 ],
 "metadata": {
  "language_info": {
   "name": "python"
  }
 },
 "nbformat": 4,
 "nbformat_minor": 2
}