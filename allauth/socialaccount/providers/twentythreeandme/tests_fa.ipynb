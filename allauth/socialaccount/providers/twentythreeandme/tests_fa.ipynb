{
 "cells": [
  {
   "cell_type": "code",
   "execution_count": null,
   "metadata": {},
   "outputs": [],
   "source": [
    "from allauth.socialaccount.tests import OAuth2TestsMixin\n",
    "from allauth.tests import MockedResponse, TestCase\n",
    "\n",
    "from .provider import TwentyThreeAndMeProvider"
   ]
  },
  {
   "cell_type": "markdown",
   "metadata": {},
   "source": []
  },
  {
   "cell_type": "code",
   "execution_count": null,
   "metadata": {},
   "outputs": [],
   "source": [
    "class TwentyThreeAndMeTests(OAuth2TestsMixin, TestCase):\n",
    "    provider_id = TwentyThreeAndMeProvider.id\n",
    "\n",
    "    def get_mocked_response(self):\n",
    "        return MockedResponse(\n",
    "            200,\n",
    "            \"\"\"\n",
    "        {\n",
    "            \"profiles\": [\n",
    "                {\"id\": \"56c46bdb0902f8e2\", \"genotyped\": false}\n",
    "            ],\n",
    "            \"id\": \"b4b975a5a6a1b80b\"\n",
    "        }\n",
    "        \"\"\",\n",
    "        )\n",
    "\n",
    "    def get_login_response_json(self, with_refresh_token=True):\n",
    "        return \"\"\"\n",
    "        {\n",
    "            \"access_token\":\"testac\",\n",
    "            \"token_type\":\"bearer\",\n",
    "            \"expires_in\": 86400,\n",
    "            \"refresh_token\":\"33c53cd7bb\",\n",
    "            \"scope\":\"basic\"\n",
    "        }\"\"\""
   ]
  },
  {
   "cell_type": "markdown",
   "metadata": {},
   "source": []
  }
 ],
 "metadata": {
  "language_info": {
   "name": "python"
  }
 },
 "nbformat": 4,
 "nbformat_minor": 2
}