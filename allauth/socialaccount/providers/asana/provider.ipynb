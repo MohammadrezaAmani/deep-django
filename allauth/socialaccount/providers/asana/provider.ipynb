{
    "cells": [
        {
            "cell_type": "code",
            "execution_count": null,
            "metadata": {},
            "outputs": [],
            "source": [
                "from allauth.socialaccount.providers.asana.views import AsanaOAuth2Adapter\n",
                "from allauth.socialaccount.providers.base import ProviderAccount\n",
                "from allauth.socialaccount.providers.oauth2.provider import OAuth2Provider\n"
            ]
        },
        {
            "cell_type": "markdown",
            "metadata": {},
            "source": []
        },
        {
            "cell_type": "code",
            "execution_count": null,
            "metadata": {},
            "outputs": [],
            "source": [
                "class AsanaAccount(ProviderAccount):\n",
                "    pass\n"
            ]
        },
        {
            "cell_type": "markdown",
            "metadata": {},
            "source": []
        },
        {
            "cell_type": "code",
            "execution_count": null,
            "metadata": {},
            "outputs": [],
            "source": [
                "class AsanaProvider(OAuth2Provider):\n",
                "    id = \"asana\"\n",
                "    name = \"Asana\"\n",
                "    account_class = AsanaAccount\n",
                "    oauth2_adapter_class = AsanaOAuth2Adapter\n",
                "\n",
                "    def extract_uid(self, data):\n",
                "        return str(data[\"id\"])\n",
                "\n",
                "    def extract_common_fields(self, data):\n",
                "        return dict(email=data.get(\"email\"), name=data.get(\"name\"))\n"
            ]
        },
        {
            "cell_type": "markdown",
            "metadata": {},
            "source": []
        },
        {
            "cell_type": "code",
            "execution_count": null,
            "metadata": {},
            "outputs": [],
            "source": [
                "provider_classes = [AsanaProvider]\n",
                "\n"
            ]
        },
        {
            "cell_type": "markdown",
            "metadata": {},
            "source": []
        }
    ],
    "metadata": {
        "language_info": {
            "name": "python"
        }
    },
    "nbformat": 4,
    "nbformat_minor": 2
}