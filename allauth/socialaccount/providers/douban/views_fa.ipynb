{
 "cells": [
  {
   "cell_type": "code",
   "execution_count": null,
   "metadata": {},
   "outputs": [],
   "source": [
    "from allauth.socialaccount.adapter import get_adapter\n",
    "from allauth.socialaccount.providers.oauth2.views import (\n",
    "    OAuth2Adapter,\n",
    "    OAuth2CallbackView,\n",
    "    OAuth2LoginView,\n",
    ")\n",
    "from django.utils.translation import gettext_lazy as _\n",
    "\n",
    "from ..base import ProviderException"
   ]
  },
  {
   "cell_type": "markdown",
   "metadata": {},
   "source": []
  },
  {
   "cell_type": "code",
   "execution_count": null,
   "metadata": {},
   "outputs": [],
   "source": [
    "class DoubanOAuth2Adapter(OAuth2Adapter):\n",
    "    provider_id = \"douban\"\n",
    "    access_token_url = \"https://www.douban.com/service/auth2/token\"\n",
    "    authorize_url = \"https://www.douban.com/service/auth2/auth\"\n",
    "    profile_url = \"https://api.douban.com/v2/user/~me\"\n",
    "\n",
    "    def complete_login(self, request, app, token, **kwargs):\n",
    "        headers = {\"Authorization\": \"Bearer %s\" % token.token}\n",
    "        resp = (\n",
    "            get_adapter().get_requests_session().get(self.profile_url, headers=headers)\n",
    "        )\n",
    "        extra_data = resp.json()\n",
    "        \"\"\"\n",
    "        Douban may return data like this:\n",
    "\n",
    "            {\n",
    "                'code': 128,\n",
    "                'request': 'GET /v2/user/~me',\n",
    "                'msg': 'user_is_locked:53358092'\n",
    "            }\n",
    "\n",
    "        \"\"\"\n",
    "        if \"id\" not in extra_data:\n",
    "            msg = extra_data.get(\"msg\", _(\"Invalid profile data\"))\n",
    "            raise ProviderException(msg)\n",
    "        return self.get_provider().sociallogin_from_response(request, extra_data)"
   ]
  },
  {
   "cell_type": "markdown",
   "metadata": {},
   "source": []
  },
  {
   "cell_type": "code",
   "execution_count": null,
   "metadata": {},
   "outputs": [],
   "source": [
    "oauth2_login = OAuth2LoginView.adapter_view(DoubanOAuth2Adapter)\n",
    "oauth2_callback = OAuth2CallbackView.adapter_view(DoubanOAuth2Adapter)"
   ]
  },
  {
   "cell_type": "markdown",
   "metadata": {},
   "source": []
  }
 ],
 "metadata": {
  "language_info": {
   "name": "python"
  }
 },
 "nbformat": 4,
 "nbformat_minor": 2
}