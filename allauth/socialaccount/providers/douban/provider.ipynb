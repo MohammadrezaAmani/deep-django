{
 "cells": [
  {
   "cell_type": "code",
   "execution_count": null,
   "metadata": {},
   "outputs": [],
   "source": [
    "from allauth.socialaccount.providers.base import ProviderAccount\n",
    "from allauth.socialaccount.providers.douban.views import DoubanOAuth2Adapter\n",
    "from allauth.socialaccount.providers.oauth2.provider import OAuth2Provider"
   ]
  },
  {
   "cell_type": "markdown",
   "metadata": {},
   "source": []
  },
  {
   "cell_type": "code",
   "execution_count": null,
   "metadata": {},
   "outputs": [],
   "source": [
    "class DoubanAccount(ProviderAccount):\n",
    "    def get_profile_url(self):\n",
    "        return self.account.extra_data.get(\"alt\")\n",
    "\n",
    "    def get_avatar_url(self):\n",
    "        return self.account.extra_data.get(\"large_avatar\")\n",
    "\n",
    "    def to_str(self):\n",
    "        dflt = super(DoubanAccount, self).to_str()\n",
    "        return self.account.extra_data.get(\"name\", dflt)"
   ]
  },
  {
   "cell_type": "markdown",
   "metadata": {},
   "source": []
  },
  {
   "cell_type": "code",
   "execution_count": null,
   "metadata": {},
   "outputs": [],
   "source": [
    "class DoubanProvider(OAuth2Provider):\n",
    "    id = \"douban\"\n",
    "    name = \"Douban\"\n",
    "    account_class = DoubanAccount\n",
    "    oauth2_adapter_class = DoubanOAuth2Adapter\n",
    "\n",
    "    def extract_uid(self, data):\n",
    "        return data[\"id\"]\n",
    "\n",
    "    def extract_common_fields(self, data):\n",
    "        \"\"\"\n",
    "        Extract data from profile json to populate user instance.\n",
    "\n",
    "        In Douban profile API:\n",
    "\n",
    "        - id: a digital string, will never change\n",
    "        - uid: defaults to id, but can be changed once, used in profile\n",
    "          url, like slug\n",
    "        - name: display name, can be changed every 30 days\n",
    "\n",
    "        So we should use `id` as username here, other than `uid`.\n",
    "        Also use `name` as `first_name` for displaying purpose.\n",
    "        \"\"\"\n",
    "        return {\n",
    "            \"username\": data[\"id\"],\n",
    "            \"first_name\": data.get(\"name\", \"\"),\n",
    "        }"
   ]
  },
  {
   "cell_type": "markdown",
   "metadata": {},
   "source": []
  },
  {
   "cell_type": "code",
   "execution_count": null,
   "metadata": {},
   "outputs": [],
   "source": [
    "provider_classes = [DoubanProvider]"
   ]
  },
  {
   "cell_type": "markdown",
   "metadata": {},
   "source": []
  }
 ],
 "metadata": {
  "language_info": {
   "name": "python"
  }
 },
 "nbformat": 4,
 "nbformat_minor": 2
}