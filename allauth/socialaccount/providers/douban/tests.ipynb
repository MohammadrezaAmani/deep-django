{
    "cells": [
        {
            "cell_type": "code",
            "execution_count": null,
            "metadata": {},
            "outputs": [],
            "source": [
                "from allauth.socialaccount.tests import OAuth2TestsMixin\n",
                "from allauth.tests import MockedResponse, TestCase\n",
                "\n",
                "from .provider import DoubanProvider\n"
            ]
        },
        {
            "cell_type": "markdown",
            "metadata": {},
            "source": []
        },
        {
            "cell_type": "code",
            "execution_count": null,
            "metadata": {},
            "outputs": [],
            "source": [
                "class DoubanTests(OAuth2TestsMixin, TestCase):\n",
                "    provider_id = DoubanProvider.id\n",
                "\n",
                "    def get_mocked_response(self):\n",
                "        return MockedResponse(\n",
                "            200,\n",
                "            \"\"\"\n",
                "            {\"name\": \"guoqiao\",\n",
                "             \"created\": \"2009-02-18 01:07:52\",\n",
                "             \"is_suicide\": false,\n",
                "             \"alt\": \"http://www.douban.com/people/qguo/\",\n",
                "             \"avatar\": \"http://img3.douban.com/icon/u3659811-3.jpg\",\n",
                "             \"signature\": \"\",\n",
                "             \"uid\": \"qguo\",\n",
                "             \"is_banned\": false,\n",
                "             \"desc\": \"\\u4e0d\\u662f\\u5f88\\u7231\\u8bfb\\u4e66\",\n",
                "             \"type\": \"user\",\n",
                "             \"id\": \"3659811\",\n",
                "             \"large_avatar\": \"http://img3.douban.com/icon/up3659811-3.jpg\"}\n",
                "\"\"\",\n",
                "        )\n",
                "\n"
            ]
        },
        {
            "cell_type": "markdown",
            "metadata": {},
            "source": []
        }
    ],
    "metadata": {
        "language_info": {
            "name": "python"
        }
    },
    "nbformat": 4,
    "nbformat_minor": 2
}