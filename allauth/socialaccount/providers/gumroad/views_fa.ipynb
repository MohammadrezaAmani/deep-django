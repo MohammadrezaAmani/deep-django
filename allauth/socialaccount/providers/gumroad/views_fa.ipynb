{
    "cells": [
        {
            "cell_type": "code",
            "execution_count": null,
            "metadata": {},
            "outputs": [],
            "source": [
                "from allauth.socialaccount import app_settings\n",
                "from allauth.socialaccount.adapter import get_adapter\n",
                "from allauth.socialaccount.providers.oauth2.views import (\n",
                "    OAuth2Adapter,\n",
                "    OAuth2CallbackView,\n",
                "    OAuth2LoginView,\n",
                ")\n"
            ]
        },
        {
            "cell_type": "markdown",
            "metadata": {},
            "source": []
        },
        {
            "cell_type": "code",
            "execution_count": null,
            "metadata": {},
            "outputs": [],
            "source": [
                "class GumroadOAuth2Adapter(OAuth2Adapter):\n",
                "    provider_id = \"gumroad\"\n",
                "\n",
                "    settings = app_settings.PROVIDERS.get(provider_id, {})\n",
                "    provider_base_url = settings.get(\"GUMROAD_URL\")\n",
                "    access_token_url = \"{0}/oauth/token\".format(provider_base_url)\n",
                "    authorize_url = \"{0}/oauth/authorize\".format(provider_base_url)\n",
                "    profile_url = \"https://api.gumroad.com/v2/user\"\n",
                "\n",
                "    def complete_login(self, request, app, token, response):\n",
                "        resp = (\n",
                "            get_adapter()\n",
                "            .get_requests_session()\n",
                "            .get(self.profile_url, params={\"access_token\": token.token})\n",
                "        )\n",
                "        resp.raise_for_status()\n",
                "        extra_data = resp.json()\n",
                "\n",
                "        return self.get_provider().sociallogin_from_response(\n",
                "            request, extra_data[\"user\"]\n",
                "        )\n"
            ]
        },
        {
            "cell_type": "markdown",
            "metadata": {},
            "source": []
        },
        {
            "cell_type": "code",
            "execution_count": null,
            "metadata": {},
            "outputs": [],
            "source": [
                "oauth2_login = OAuth2LoginView.adapter_view(GumroadOAuth2Adapter)\n",
                "oauth2_callback = OAuth2CallbackView.adapter_view(GumroadOAuth2Adapter)\n",
                "\n"
            ]
        },
        {
            "cell_type": "markdown",
            "metadata": {},
            "source": []
        }
    ],
    "metadata": {
        "language_info": {
            "name": "python"
        }
    },
    "nbformat": 4,
    "nbformat_minor": 2
}