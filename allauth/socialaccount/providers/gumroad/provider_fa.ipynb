{
    "cells": [
        {
            "cell_type": "code",
            "execution_count": null,
            "metadata": {},
            "outputs": [],
            "source": [
                "from allauth.socialaccount.providers.base import ProviderAccount\n",
                "from allauth.socialaccount.providers.gumroad.views import GumroadOAuth2Adapter\n",
                "from allauth.socialaccount.providers.oauth2.provider import OAuth2Provider\n"
            ]
        },
        {
            "cell_type": "markdown",
            "metadata": {},
            "source": []
        },
        {
            "cell_type": "code",
            "execution_count": null,
            "metadata": {},
            "outputs": [],
            "source": [
                "class GumroadAccount(ProviderAccount):\n",
                "    def get_profile_url(self):\n",
                "        return self.account.extra_data.get(\"url\")\n",
                "\n",
                "    def to_str(self):\n",
                "        dflt = super(GumroadAccount, self).to_str()\n",
                "        return self.account.extra_data.get(\"name\", dflt)\n"
            ]
        },
        {
            "cell_type": "markdown",
            "metadata": {},
            "source": []
        },
        {
            "cell_type": "code",
            "execution_count": null,
            "metadata": {},
            "outputs": [],
            "source": [
                "class GumroadProvider(OAuth2Provider):\n",
                "    id = \"gumroad\"\n",
                "    name = \"Gumroad\"\n",
                "    account_class = GumroadAccount\n",
                "    oauth2_adapter_class = GumroadOAuth2Adapter\n",
                "\n",
                "    def get_default_scope(self):\n",
                "        return [\"edit_products\"]\n",
                "\n",
                "    def extract_uid(self, data):\n",
                "        return str(data[\"user_id\"])\n",
                "\n",
                "    def extract_common_fields(self, data):\n",
                "        try:\n",
                "            username = data[\"url\"].split(\"https://gumroad.com/\")[1]\n",
                "        except (KeyError, IndexError, AttributeError):\n",
                "            username = None\n",
                "        return dict(\n",
                "            username=username,\n",
                "            email=data.get(\"email\"),\n",
                "            name=data.get(\"name\"),\n",
                "            twitter_handle=data.get(\"twitter_handle\"),\n",
                "            url=data.get(\"url\"),\n",
                "        )\n"
            ]
        },
        {
            "cell_type": "markdown",
            "metadata": {},
            "source": []
        },
        {
            "cell_type": "code",
            "execution_count": null,
            "metadata": {},
            "outputs": [],
            "source": [
                "provider_classes = [GumroadProvider]\n",
                "\n"
            ]
        },
        {
            "cell_type": "markdown",
            "metadata": {},
            "source": []
        }
    ],
    "metadata": {
        "language_info": {
            "name": "python"
        }
    },
    "nbformat": 4,
    "nbformat_minor": 2
}