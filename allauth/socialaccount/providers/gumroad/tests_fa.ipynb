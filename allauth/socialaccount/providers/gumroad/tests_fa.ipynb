{
 "cells": [
  {
   "cell_type": "code",
   "execution_count": null,
   "metadata": {},
   "outputs": [],
   "source": [
    "# -*- coding: utf-8 -*-\n",
    "from allauth.socialaccount.providers.gumroad.provider import GumroadProvider\n",
    "from allauth.socialaccount.tests import OAuth2TestsMixin\n",
    "from allauth.tests import MockedResponse, TestCase"
   ]
  },
  {
   "cell_type": "markdown",
   "metadata": {},
   "source": []
  },
  {
   "cell_type": "code",
   "execution_count": null,
   "metadata": {},
   "outputs": [],
   "source": [
    "class GumroadTests(OAuth2TestsMixin, TestCase):\n",
    "    provider_id = GumroadProvider.id\n",
    "\n",
    "    def get_mocked_response(self):\n",
    "        return MockedResponse(\n",
    "            200,\n",
    "            \"\"\"{\n",
    "                \"success\": true,\n",
    "                \"user\": {\n",
    "                    \"bio\": \"a sailor, a tailor\",\n",
    "                    \"name\": \"John Smith\",\n",
    "                    \"twitter_handle\": null,\n",
    "                    \"user_id\": \"G_-mnBf9b1j9A7a4ub4nFQ==\",\n",
    "                    \"email\": \"johnsmith@gumroad.com\",\n",
    "                    \"url\": \"https://gumroad.com/sailorjohn\"\n",
    "                }\n",
    "            }\"\"\",\n",
    "        )"
   ]
  },
  {
   "cell_type": "markdown",
   "metadata": {},
   "source": []
  }
 ],
 "metadata": {
  "language_info": {
   "name": "python"
  }
 },
 "nbformat": 4,
 "nbformat_minor": 2
}