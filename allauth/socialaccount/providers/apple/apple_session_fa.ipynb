{
    "cells": [
        {
            "cell_type": "code",
            "execution_count": null,
            "metadata": {},
            "outputs": [],
            "source": [
                "from allauth.socialaccount.sessions import LoginSession\n",
                "\n",
                "APPLE_SESSION_COOKIE_NAME = \"apple-login-session\"\n"
            ]
        },
        {
            "cell_type": "markdown",
            "metadata": {},
            "source": []
        },
        {
            "cell_type": "code",
            "execution_count": null,
            "metadata": {},
            "outputs": [],
            "source": [
                "def get_apple_session(request):\n",
                "    return LoginSession(request, \"apple_login_session\", APPLE_SESSION_COOKIE_NAME)\n",
                "\n"
            ]
        },
        {
            "cell_type": "markdown",
            "metadata": {},
            "source": []
        }
    ],
    "metadata": {
        "language_info": {
            "name": "python"
        }
    },
    "nbformat": 4,
    "nbformat_minor": 2
}