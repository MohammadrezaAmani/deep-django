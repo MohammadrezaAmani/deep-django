{
 "cells": [
  {
   "cell_type": "code",
   "execution_count": null,
   "metadata": {},
   "outputs": [],
   "source": [
    "from allauth.socialaccount.providers.oauth2.urls import default_urlpatterns\n",
    "from django.urls import path\n",
    "\n",
    "from .provider import AppleProvider\n",
    "from .views import oauth2_finish_login\n",
    "\n",
    "urlpatterns = default_urlpatterns(AppleProvider)\n",
    "urlpatterns += [\n",
    "    path(\n",
    "        AppleProvider.get_slug() + \"/login/callback/finish/\",\n",
    "        oauth2_finish_login,\n",
    "        name=\"apple_finish_callback\",\n",
    "    ),\n",
    "]"
   ]
  },
  {
   "cell_type": "markdown",
   "metadata": {},
   "source": []
  }
 ],
 "metadata": {
  "language_info": {
   "name": "python"
  }
 },
 "nbformat": 4,
 "nbformat_minor": 2
}