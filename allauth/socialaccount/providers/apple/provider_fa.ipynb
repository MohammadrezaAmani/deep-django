{
 "cells": [
  {
   "cell_type": "code",
   "execution_count": null,
   "metadata": {},
   "outputs": [],
   "source": [
    "import requests\n",
    "\n",
    "from allauth.account.models import EmailAddress\n",
    "from allauth.socialaccount.adapter import get_adapter\n",
    "from allauth.socialaccount.app_settings import QUERY_EMAIL\n",
    "from allauth.socialaccount.providers.apple.views import AppleOAuth2Adapter\n",
    "from allauth.socialaccount.providers.base import ProviderAccount\n",
    "from allauth.socialaccount.providers.oauth2.client import OAuth2Error\n",
    "from allauth.socialaccount.providers.oauth2.provider import OAuth2Provider"
   ]
  },
  {
   "cell_type": "markdown",
   "metadata": {},
   "source": []
  },
  {
   "cell_type": "code",
   "execution_count": null,
   "metadata": {},
   "outputs": [],
   "source": [
    "class AppleProvider(OAuth2Provider):\n",
    "    id = \"apple\"\n",
    "    name = \"Apple\"\n",
    "    account_class = ProviderAccount\n",
    "    oauth2_adapter_class = AppleOAuth2Adapter\n",
    "    supports_token_authentication = True\n",
    "\n",
    "    def extract_uid(self, data):\n",
    "        return str(data[\"sub\"])\n",
    "\n",
    "    def extract_common_fields(self, data):\n",
    "        fields = {\"email\": data.get(\"email\")}\n",
    "\n",
    "        # If the name was provided\n",
    "        name = data.get(\"name\")\n",
    "        if name:\n",
    "            fields[\"first_name\"] = name.get(\"firstName\", \"\")\n",
    "            fields[\"last_name\"] = name.get(\"lastName\", \"\")\n",
    "\n",
    "        return fields\n",
    "\n",
    "    def extract_email_addresses(self, data):\n",
    "        ret = []\n",
    "        email = data.get(\"email\")\n",
    "        verified = data.get(\"email_verified\")\n",
    "        if isinstance(verified, str):\n",
    "            verified = verified.lower() == \"true\"\n",
    "        if email:\n",
    "            ret.append(\n",
    "                EmailAddress(\n",
    "                    email=email,\n",
    "                    verified=verified,\n",
    "                    primary=True,\n",
    "                )\n",
    "            )\n",
    "        return ret\n",
    "\n",
    "    def get_default_scope(self):\n",
    "        scopes = [\"name\"]\n",
    "        if QUERY_EMAIL:\n",
    "            scopes.append(\"email\")\n",
    "        return scopes\n",
    "\n",
    "    def verify_token(self, request, token):\n",
    "        from allauth.socialaccount.providers.apple.views import AppleOAuth2Adapter\n",
    "\n",
    "        id_token = token.get(\"id_token\")\n",
    "        if not id_token:\n",
    "            raise get_adapter().validation_error(\"invalid_token\")\n",
    "        try:\n",
    "            identity_data = AppleOAuth2Adapter.get_verified_identity_data(\n",
    "                self, id_token\n",
    "            )\n",
    "        except (OAuth2Error, requests.RequestException) as e:\n",
    "            raise get_adapter().validation_error(\"invalid_token\") from e\n",
    "        login = self.sociallogin_from_response(request, identity_data)\n",
    "        return login\n",
    "\n",
    "    def get_auds(self):\n",
    "        return [aud.strip() for aud in self.app.client_id.split(\",\")]"
   ]
  },
  {
   "cell_type": "markdown",
   "metadata": {},
   "source": []
  },
  {
   "cell_type": "code",
   "execution_count": null,
   "metadata": {},
   "outputs": [],
   "source": [
    "provider_classes = [AppleProvider]"
   ]
  },
  {
   "cell_type": "markdown",
   "metadata": {},
   "source": []
  }
 ],
 "metadata": {
  "language_info": {
   "name": "python"
  }
 },
 "nbformat": 4,
 "nbformat_minor": 2
}