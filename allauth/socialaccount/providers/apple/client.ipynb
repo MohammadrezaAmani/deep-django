{
    "cells": [
        {
            "cell_type": "code",
            "execution_count": null,
            "metadata": {},
            "outputs": [],
            "source": [
                "from datetime import datetime, timedelta\n",
                "from urllib.parse import parse_qsl, quote, urlencode\n",
                "\n",
                "from django.core.exceptions import ImproperlyConfigured\n",
                "\n",
                "import jwt\n",
                "\n",
                "from allauth.socialaccount.adapter import get_adapter\n",
                "from allauth.socialaccount.providers.oauth2.client import (\n",
                "    OAuth2Client,\n",
                "    OAuth2Error,\n",
                ")\n"
            ]
        },
        {
            "cell_type": "markdown",
            "metadata": {},
            "source": []
        },
        {
            "cell_type": "code",
            "execution_count": null,
            "metadata": {},
            "outputs": [],
            "source": [
                "def jwt_encode(*args, **kwargs):\n",
                "    resp = jwt.encode(*args, **kwargs)\n",
                "    if isinstance(resp, bytes):\n",
                "        # For PyJWT <2\n",
                "        resp = resp.decode(\"utf-8\")\n",
                "    return resp\n"
            ]
        },
        {
            "cell_type": "markdown",
            "metadata": {},
            "source": []
        },
        {
            "cell_type": "code",
            "execution_count": null,
            "metadata": {},
            "outputs": [],
            "source": [
                "class Scope(object):\n",
                "    EMAIL = \"email\"\n",
                "    NAME = \"name\"\n"
            ]
        },
        {
            "cell_type": "markdown",
            "metadata": {},
            "source": []
        },
        {
            "cell_type": "code",
            "execution_count": null,
            "metadata": {},
            "outputs": [],
            "source": [
                "class AppleOAuth2Client(OAuth2Client):\n",
                "    \"\"\"\n",
                "    Custom client because `Sign In With Apple`:\n",
                "        * requires `response_mode` field in redirect_url\n",
                "        * requires special `client_secret` as JWT\n",
                "    \"\"\"\n",
                "\n",
                "    def generate_client_secret(self):\n",
                "        \"\"\"Create a JWT signed with an apple provided private key\"\"\"\n",
                "        now = datetime.utcnow()\n",
                "        app = get_adapter(self.request).get_app(self.request, \"apple\")\n",
                "        if not app.key:\n",
                "            raise ImproperlyConfigured(\"Apple 'key' missing\")\n",
                "        certificate_key = app.settings.get(\"certificate_key\")\n",
                "        if not certificate_key:\n",
                "            raise ImproperlyConfigured(\"Apple 'certificate_key' missing\")\n",
                "        claims = {\n",
                "            \"iss\": app.key,\n",
                "            \"aud\": \"https://appleid.apple.com\",\n",
                "            \"sub\": self.get_client_id(),\n",
                "            \"iat\": now,\n",
                "            \"exp\": now + timedelta(hours=1),\n",
                "        }\n",
                "        headers = {\"kid\": self.consumer_secret, \"alg\": \"ES256\"}\n",
                "        client_secret = jwt_encode(\n",
                "            payload=claims, key=certificate_key, algorithm=\"ES256\", headers=headers\n",
                "        )\n",
                "        return client_secret\n",
                "\n",
                "    def get_client_id(self):\n",
                "        \"\"\"We support multiple client_ids, but use the first one for api calls\"\"\"\n",
                "        return self.consumer_key.split(\",\")[0]\n",
                "\n",
                "    def get_access_token(self, code, pkce_code_verifier=None):\n",
                "        url = self.access_token_url\n",
                "        client_secret = self.generate_client_secret()\n",
                "        data = {\n",
                "            \"client_id\": self.get_client_id(),\n",
                "            \"code\": code,\n",
                "            \"grant_type\": \"authorization_code\",\n",
                "            \"redirect_uri\": self.callback_url,\n",
                "            \"client_secret\": client_secret,\n",
                "        }\n",
                "        if pkce_code_verifier:\n",
                "            data[\"code_verifier\"] = pkce_code_verifier\n",
                "        self._strip_empty_keys(data)\n",
                "        resp = (\n",
                "            get_adapter()\n",
                "            .get_requests_session()\n",
                "            .request(self.access_token_method, url, data=data, headers=self.headers)\n",
                "        )\n",
                "        access_token = None\n",
                "        if resp.status_code in [200, 201]:\n",
                "            try:\n",
                "                access_token = resp.json()\n",
                "            except ValueError:\n",
                "                access_token = dict(parse_qsl(resp.text))\n",
                "        if not access_token or \"access_token\" not in access_token:\n",
                "            raise OAuth2Error(\"Error retrieving access token: %s\" % resp.content)\n",
                "        return access_token\n",
                "\n",
                "    def get_redirect_url(self, authorization_url, scope, extra_params):\n",
                "        scope = self.scope_delimiter.join(set(scope))\n",
                "        params = {\n",
                "            \"client_id\": self.get_client_id(),\n",
                "            \"redirect_uri\": self.callback_url,\n",
                "            \"response_mode\": \"form_post\",\n",
                "            \"scope\": scope,\n",
                "            \"response_type\": \"code id_token\",\n",
                "        }\n",
                "        if self.state:\n",
                "            params[\"state\"] = self.state\n",
                "        params.update(extra_params)\n",
                "        return \"%s?%s\" % (authorization_url, urlencode(params, quote_via=quote))\n",
                "\n"
            ]
        },
        {
            "cell_type": "markdown",
            "metadata": {},
            "source": []
        }
    ],
    "metadata": {
        "language_info": {
            "name": "python"
        }
    },
    "nbformat": 4,
    "nbformat_minor": 2
}