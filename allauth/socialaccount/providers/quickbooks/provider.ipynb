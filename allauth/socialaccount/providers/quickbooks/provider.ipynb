{
 "cells": [
  {
   "cell_type": "code",
   "execution_count": null,
   "metadata": {},
   "outputs": [],
   "source": [
    "from allauth.socialaccount import app_settings\n",
    "from allauth.socialaccount.providers.base import (\n",
    "    ProviderAccount,\n",
    "    ProviderException,\n",
    ")\n",
    "from allauth.socialaccount.providers.oauth2.provider import OAuth2Provider\n",
    "from allauth.socialaccount.providers.quickbooks.views import (\n",
    "    QuickBooksOAuth2Adapter,\n",
    ")"
   ]
  },
  {
   "cell_type": "markdown",
   "metadata": {},
   "source": []
  },
  {
   "cell_type": "code",
   "execution_count": null,
   "metadata": {},
   "outputs": [],
   "source": [
    "class QuickBooksAccount(ProviderAccount):\n",
    "    def to_str(self):\n",
    "        dflt = super(QuickBooksAccount, self).to_str()\n",
    "        name = self.account.extra_data.get(\"name\", dflt)\n",
    "        first_name = self.account.extra_data.get(\"givenName\", None)\n",
    "        last_name = self.account.extra_data.get(\"familyName\", None)\n",
    "        if first_name and last_name:\n",
    "            name = first_name + \" \" + last_name\n",
    "        return name"
   ]
  },
  {
   "cell_type": "markdown",
   "metadata": {},
   "source": []
  },
  {
   "cell_type": "code",
   "execution_count": null,
   "metadata": {},
   "outputs": [],
   "source": [
    "class QuickBooksOAuth2Provider(OAuth2Provider):\n",
    "    id = \"quickbooks\"\n",
    "    # Name is displayed to ordinary users -- don't include protocol\n",
    "    name = \"QuickBooks\"\n",
    "    account_class = QuickBooksAccount\n",
    "    oauth2_adapter_class = QuickBooksOAuth2Adapter\n",
    "\n",
    "    def extract_uid(self, data):\n",
    "        if \"sub\" not in data:\n",
    "            raise ProviderException(\"QBO error\", data)\n",
    "        return str(data[\"sub\"])\n",
    "\n",
    "    def get_profile_fields(self):\n",
    "        default_fields = [\n",
    "            \"address\",\n",
    "            \"sub\",\n",
    "            \"phoneNumber\",\n",
    "            \"givenName\",\n",
    "            \"familyName\",\n",
    "            \"email\",\n",
    "            \"emailVerified\",\n",
    "        ]\n",
    "        fields = self.get_settings().get(\"PROFILE_FIELDS\", default_fields)\n",
    "        return fields\n",
    "\n",
    "    def get_default_scope(self):\n",
    "        scope = [\n",
    "            \"openid\",\n",
    "            \"com.intuit.quickbooks.accounting\",\n",
    "            \"profile\",\n",
    "            \"phone\",\n",
    "        ]\n",
    "        if app_settings.QUERY_EMAIL:\n",
    "            scope.append(\"email\")\n",
    "        return scope\n",
    "\n",
    "    def extract_common_fields(self, data):\n",
    "        return dict(\n",
    "            email=data.get(\"email\"),\n",
    "            address=data.get(\"address\"),\n",
    "            sub=data.get(\"sub\"),\n",
    "            givenName=data.get(\"givenName\"),\n",
    "            familynName=data.get(\"familyName\"),\n",
    "            emailVerified=data.get(\"emailVerified\"),\n",
    "            phoneNumber=data.get(\"phoneNumber\"),\n",
    "        )"
   ]
  },
  {
   "cell_type": "markdown",
   "metadata": {},
   "source": []
  },
  {
   "cell_type": "code",
   "execution_count": null,
   "metadata": {},
   "outputs": [],
   "source": [
    "provider_classes = [QuickBooksOAuth2Provider]"
   ]
  },
  {
   "cell_type": "markdown",
   "metadata": {},
   "source": []
  }
 ],
 "metadata": {
  "language_info": {
   "name": "python"
  }
 },
 "nbformat": 4,
 "nbformat_minor": 2
}