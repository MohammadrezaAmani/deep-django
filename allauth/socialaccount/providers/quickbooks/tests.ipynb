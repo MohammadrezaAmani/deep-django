{
 "cells": [
  {
   "cell_type": "code",
   "execution_count": null,
   "metadata": {},
   "outputs": [],
   "source": [
    "from allauth.socialaccount.tests import OAuth2TestsMixin\n",
    "from allauth.tests import MockedResponse, TestCase\n",
    "\n",
    "from .provider import QuickBooksOAuth2Provider"
   ]
  },
  {
   "cell_type": "markdown",
   "metadata": {},
   "source": []
  },
  {
   "cell_type": "code",
   "execution_count": null,
   "metadata": {},
   "outputs": [],
   "source": [
    "class QuickBooksOAuth2Tests(OAuth2TestsMixin, TestCase):\n",
    "    provider_id = QuickBooksOAuth2Provider.id\n",
    "\n",
    "    def get_mocked_response(self):\n",
    "        return MockedResponse(\n",
    "            200,\n",
    "            \"\"\"\n",
    "{       \"sub\": \"d8752092-0f2b-4b6e-86ef-6b72f2457a00\",\n",
    "        \"emailVerified\": true,\n",
    "        \"familyName\": \"Mckeeman\",\n",
    "        \"phoneNumber\": \"+1 4156694355\",\n",
    "        \"givenName\": \"Darren\",\n",
    "        \"phoneNumberVerified\": true,\n",
    "        \"email\": \"darren@blocklight.io\"}\n",
    "\"\"\",\n",
    "        )"
   ]
  },
  {
   "cell_type": "markdown",
   "metadata": {},
   "source": []
  }
 ],
 "metadata": {
  "language_info": {
   "name": "python"
  }
 },
 "nbformat": 4,
 "nbformat_minor": 2
}