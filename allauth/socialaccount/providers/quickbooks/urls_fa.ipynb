{
 "cells": [
  {
   "cell_type": "code",
   "execution_count": null,
   "metadata": {},
   "outputs": [],
   "source": [
    "from allauth.socialaccount.providers.oauth2.urls import default_urlpatterns\n",
    "\n",
    "from .provider import QuickBooksOAuth2Provider\n",
    "\n",
    "urlpatterns = default_urlpatterns(QuickBooksOAuth2Provider)"
   ]
  },
  {
   "cell_type": "markdown",
   "metadata": {},
   "source": []
  }
 ],
 "metadata": {
  "language_info": {
   "name": "python"
  }
 },
 "nbformat": 4,
 "nbformat_minor": 2
}