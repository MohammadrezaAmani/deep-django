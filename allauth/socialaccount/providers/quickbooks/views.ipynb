{
    "cells": [
        {
            "cell_type": "code",
            "execution_count": null,
            "metadata": {},
            "outputs": [],
            "source": [
                "from allauth.socialaccount.adapter import get_adapter\n",
                "from allauth.socialaccount.providers.oauth2.views import (\n",
                "    OAuth2Adapter,\n",
                "    OAuth2CallbackView,\n",
                "    OAuth2LoginView,\n",
                ")\n"
            ]
        },
        {
            "cell_type": "markdown",
            "metadata": {},
            "source": []
        },
        {
            "cell_type": "code",
            "execution_count": null,
            "metadata": {},
            "outputs": [],
            "source": [
                "class QuickBooksOAuth2Adapter(OAuth2Adapter):\n",
                "    provider_id = \"quickbooks\"\n",
                "    access_token_url = \"https://oauth.platform.intuit.com/oauth2/v1/tokens/bearer\"\n",
                "    authorize_url = \"https://appcenter.intuit.com/connect/oauth2\"\n",
                "    profile_test = \"https://sandbox-accounts.platform.intuit.com/v1/openid_connect/userinfo\"  # NOQA\n",
                "    profile_url = \"https://accounts.platform.intuit.com/v1/openid_connect/userinfo\"\n",
                "    profile_url_method = \"GET\"\n",
                "    access_token_method = \"POST\"\n",
                "\n",
                "    def complete_login(self, request, app, token, **kwargs):\n",
                "        realm_id = request.GET.get(\"realmId\")\n",
                "        extra_data = self.get_user_info(token)\n",
                "        if realm_id:\n",
                "            extra_data[\"realmId\"] = realm_id\n",
                "        return self.get_provider().sociallogin_from_response(request, extra_data)\n",
                "\n",
                "    def get_user_info(self, token):\n",
                "        auth_header = \"Bearer \" + token.token\n",
                "        headers = {\n",
                "            \"Accept\": \"application/json\",\n",
                "            \"Authorization\": auth_header,\n",
                "            \"accept\": \"application/json\",\n",
                "        }\n",
                "        is_sandbox = self.get_provider().get_settings().get(\"SANDBOX\", False)\n",
                "        url = self.profile_test if is_sandbox else self.profile_url\n",
                "        resp = get_adapter().get_requests_session().get(url, headers=headers)\n",
                "        resp.raise_for_status()\n",
                "        return resp.json()\n"
            ]
        },
        {
            "cell_type": "markdown",
            "metadata": {},
            "source": []
        },
        {
            "cell_type": "code",
            "execution_count": null,
            "metadata": {},
            "outputs": [],
            "source": [
                "oauth2_login = OAuth2LoginView.adapter_view(QuickBooksOAuth2Adapter)\n",
                "oauth2_callback = OAuth2CallbackView.adapter_view(QuickBooksOAuth2Adapter)\n",
                "\n"
            ]
        },
        {
            "cell_type": "markdown",
            "metadata": {},
            "source": []
        }
    ],
    "metadata": {
        "language_info": {
            "name": "python"
        }
    },
    "nbformat": 4,
    "nbformat_minor": 2
}