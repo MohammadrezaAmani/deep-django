{
    "cells": [
        {
            "cell_type": "code",
            "execution_count": null,
            "metadata": {},
            "outputs": [],
            "source": [
                "from allauth.socialaccount.adapter import get_adapter\n",
                "from allauth.socialaccount.providers.oauth2.views import (\n",
                "    OAuth2Adapter,\n",
                "    OAuth2CallbackView,\n",
                "    OAuth2LoginView,\n",
                ")\n"
            ]
        },
        {
            "cell_type": "markdown",
            "metadata": {},
            "source": []
        },
        {
            "cell_type": "code",
            "execution_count": null,
            "metadata": {},
            "outputs": [],
            "source": [
                "class MeetupOAuth2Adapter(OAuth2Adapter):\n",
                "    provider_id = \"meetup\"\n",
                "    access_token_url = \"https://secure.meetup.com/oauth2/access\"\n",
                "    authorize_url = \"https://secure.meetup.com/oauth2/authorize\"\n",
                "    profile_url = \"https://api.meetup.com/2/member/self\"\n",
                "\n",
                "    def complete_login(self, request, app, token, **kwargs):\n",
                "        resp = (\n",
                "            get_adapter()\n",
                "            .get_requests_session()\n",
                "            .get(self.profile_url, params={\"access_token\": token.token})\n",
                "        )\n",
                "        extra_data = resp.json()\n",
                "        return self.get_provider().sociallogin_from_response(request, extra_data)\n"
            ]
        },
        {
            "cell_type": "markdown",
            "metadata": {},
            "source": []
        },
        {
            "cell_type": "code",
            "execution_count": null,
            "metadata": {},
            "outputs": [],
            "source": [
                "oauth2_login = OAuth2LoginView.adapter_view(MeetupOAuth2Adapter)\n",
                "oauth2_callback = OAuth2CallbackView.adapter_view(MeetupOAuth2Adapter)\n",
                "\n"
            ]
        },
        {
            "cell_type": "markdown",
            "metadata": {},
            "source": []
        }
    ],
    "metadata": {
        "language_info": {
            "name": "python"
        }
    },
    "nbformat": 4,
    "nbformat_minor": 2
}