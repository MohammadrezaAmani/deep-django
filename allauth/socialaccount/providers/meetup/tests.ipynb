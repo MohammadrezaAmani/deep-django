{
    "cells": [
        {
            "cell_type": "code",
            "execution_count": null,
            "metadata": {},
            "outputs": [],
            "source": [
                "from allauth.socialaccount.tests import OAuth2TestsMixin\n",
                "from allauth.tests import MockedResponse, TestCase\n",
                "\n",
                "from .provider import MeetupProvider\n"
            ]
        },
        {
            "cell_type": "markdown",
            "metadata": {},
            "source": []
        },
        {
            "cell_type": "code",
            "execution_count": null,
            "metadata": {},
            "outputs": [],
            "source": [
                "class MeetupTests(OAuth2TestsMixin, TestCase):\n",
                "    provider_id = MeetupProvider.id\n",
                "\n",
                "    def get_mocked_response(self):\n",
                "        return MockedResponse(\n",
                "            200,\n",
                "            \"\"\"\n",
                "        {\"id\": 1, \"lang\": \"en_US\", \"city\": \"Bhubaneswar\",\n",
                "        \"photo\": {\n",
                "        \"thumb_link\":\"\",\n",
                "        \"photo_id\": 240057062,\n",
                "        \"highres_link\":\"\",\n",
                "        \"base_url\": \"http://photos2.meetupstatic.com\",\n",
                "        \"type\": \"member\",\n",
                "        \"name\": \"Abhishek Jaiswal\", \"other_services\": {},\n",
                "        \"country\": \"in\", \"topics\": [{\"name\": \"Open Source\",\n",
                "        \"urlkey\": \"opensource\", \"id\": 563}, {\"name\": \"Python\", \"urlkey\":\n",
                "        \"python\", \"id\": 1064}, {\"name\": \"Software Development\", \"urlkey\":\n",
                "        \"softwaredev\", \"id\": 3833}, {\"name\": \"Computer programming\",\n",
                "        \"urlkey\": \"computer-programming\", \"id\": 48471},\n",
                "        {\"name\": \"Python Web Development\",\n",
                "        \"urlkey\": \"python-web-development\", \"id\": 917242},\n",
                "        {\"name\": \"Data Science using Python\",\n",
                "        \"urlkey\": \"data-science-using-python\", \"id\": 1481522}],\n",
                "        \"lon\": 85.83999633789062, \"joined\": 1411642310000,\n",
                "        \"id\": 173662372, \"status\": \"active\",\n",
                "        \"link\": \"http://www.meetup.com/members/173662372\",\n",
                "        \"hometown\": \"Kolkata\", \"lat\": 20.270000457763672,\n",
                "        \"visited\": 1488829924000, \"self\": {\"common\": {}}}}\"\"\",\n",
                "        )\n",
                "\n"
            ]
        },
        {
            "cell_type": "markdown",
            "metadata": {},
            "source": []
        }
    ],
    "metadata": {
        "language_info": {
            "name": "python"
        }
    },
    "nbformat": 4,
    "nbformat_minor": 2
}