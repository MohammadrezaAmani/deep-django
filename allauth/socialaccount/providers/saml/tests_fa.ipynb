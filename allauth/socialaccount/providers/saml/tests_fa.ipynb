{
 "cells": [
  {
   "cell_type": "code",
   "execution_count": null,
   "metadata": {},
   "outputs": [],
   "source": [
    "from unittest.mock import Mock, patch\n",
    "from urllib.parse import parse_qs, urlparse\n",
    "\n",
    "import pytest\n",
    "from pytest_django.asserts import assertTemplateUsed\n",
    "\n",
    "from allauth.account.models import EmailAddress\n",
    "from allauth.socialaccount.adapter import get_adapter\n",
    "from allauth.socialaccount.internal import statekit\n",
    "from allauth.socialaccount.models import SocialAccount\n",
    "from allauth.socialaccount.providers.saml.utils import build_saml_config\n",
    "from django.urls import reverse, reverse_lazy\n",
    "from django.utils.http import urlencode"
   ]
  },
  {
   "cell_type": "markdown",
   "metadata": {},
   "source": []
  },
  {
   "cell_type": "code",
   "execution_count": null,
   "metadata": {},
   "outputs": [],
   "source": [
    "@pytest.mark.parametrize(\n",
    "    \"is_connect,state_kwargs,relay_state, expected_url\",\n",
    "    [\n",
    "        (False, None, None, \"/accounts/profile/\"),\n",
    "        (False, None, \"/foo\", \"/foo\"),\n",
    "        (True, {\"process\": \"connect\"}, None, reverse_lazy(\"socialaccount_connections\")),\n",
    "        (True, {\"process\": \"connect\", \"next_url\": \"/conn\"}, None, \"/conn\"),\n",
    "    ],\n",
    ")\n",
    "def test_acs(\n",
    "    request,\n",
    "    is_connect,\n",
    "    db,\n",
    "    saml_settings,\n",
    "    acs_saml_response,\n",
    "    mocked_signature_validation,\n",
    "    expected_url,\n",
    "    relay_state,\n",
    "    state_kwargs,\n",
    "    sociallogin_setup_state,\n",
    "):\n",
    "    if is_connect:\n",
    "        client = request.getfixturevalue(\"auth_client\")\n",
    "        user = request.getfixturevalue(\"user\")\n",
    "    else:\n",
    "        client = request.getfixturevalue(\"client\")\n",
    "        user = None\n",
    "\n",
    "    if state_kwargs:\n",
    "        assert not relay_state\n",
    "        state_id = sociallogin_setup_state(client, **state_kwargs)\n",
    "        relay_state = urlencode({\"state\": state_id})\n",
    "\n",
    "    data = {\"SAMLResponse\": acs_saml_response}\n",
    "    if relay_state is not None:\n",
    "        data[\"RelayState\"] = relay_state\n",
    "    resp = client.post(\n",
    "        reverse(\"saml_acs\", kwargs={\"organization_slug\": \"org\"}), data=data\n",
    "    )\n",
    "    finish_url = reverse(\"saml_finish_acs\", kwargs={\"organization_slug\": \"org\"})\n",
    "    assert resp.status_code == 302\n",
    "    assert resp[\"location\"] == finish_url\n",
    "    resp = client.get(finish_url)\n",
    "    assert resp[\"location\"] == expected_url\n",
    "    account = SocialAccount.objects.get(\n",
    "        provider=\"urn:dev-123.us.auth0.com\", uid=\"dummysamluid\"\n",
    "    )\n",
    "    assert account.extra_data[\"Role\"] == [\"view-profile\", \"manage-account-links\"]\n",
    "    email = EmailAddress.objects.get(user=account.user)\n",
    "    assert email.email == (user.email if is_connect else \"john.doe@email.org\")"
   ]
  },
  {
   "cell_type": "markdown",
   "metadata": {},
   "source": []
  },
  {
   "cell_type": "code",
   "execution_count": null,
   "metadata": {},
   "outputs": [],
   "source": [
    "def test_acs_error(client, db, saml_settings):\n",
    "    data = {\"SAMLResponse\": \"bad-response\"}\n",
    "    resp = client.post(\n",
    "        reverse(\"saml_acs\", kwargs={\"organization_slug\": \"org\"}), data=data\n",
    "    )\n",
    "    assert resp.status_code == 200\n",
    "    assert \"socialaccount/authentication_error.html\" in (t.name for t in resp.templates)"
   ]
  },
  {
   "cell_type": "markdown",
   "metadata": {},
   "source": []
  },
  {
   "cell_type": "code",
   "execution_count": null,
   "metadata": {},
   "outputs": [],
   "source": [
    "def test_acs_get(client, db, saml_settings):\n",
    "    \"\"\"ACS expects POST\"\"\"\n",
    "    resp = client.get(reverse(\"saml_acs\", kwargs={\"organization_slug\": \"org\"}))\n",
    "    assert resp.status_code == 200\n",
    "    assert \"socialaccount/authentication_error.html\" in (t.name for t in resp.templates)"
   ]
  },
  {
   "cell_type": "markdown",
   "metadata": {},
   "source": []
  },
  {
   "cell_type": "code",
   "execution_count": null,
   "metadata": {},
   "outputs": [],
   "source": [
    "def test_sls_get(client, db, saml_settings):\n",
    "    \"\"\"SLS expects POST\"\"\"\n",
    "    resp = client.get(reverse(\"saml_sls\", kwargs={\"organization_slug\": \"org\"}))\n",
    "    assert resp.status_code == 400"
   ]
  },
  {
   "cell_type": "markdown",
   "metadata": {},
   "source": []
  },
  {
   "cell_type": "code",
   "execution_count": null,
   "metadata": {},
   "outputs": [],
   "source": [
    "def test_login_on_get(client, db, saml_settings):\n",
    "    resp = client.get(reverse(\"saml_login\", kwargs={\"organization_slug\": \"org\"}))\n",
    "    assert resp.status_code == 200\n",
    "    assertTemplateUsed(resp, \"socialaccount/login.html\")"
   ]
  },
  {
   "cell_type": "markdown",
   "metadata": {},
   "source": []
  },
  {
   "cell_type": "code",
   "execution_count": null,
   "metadata": {},
   "outputs": [],
   "source": [
    "def test_login(client, db, saml_settings):\n",
    "    resp = client.post(\n",
    "        reverse(\"saml_login\", kwargs={\"organization_slug\": \"org\"})\n",
    "        + \"?process=connect&next=/foo\"\n",
    "    )\n",
    "    assert resp.status_code == 302\n",
    "    location = resp[\"location\"]\n",
    "    assert location.startswith(\"https://dev-123.us.auth0.com/samlp/456?SAMLRequest=\")\n",
    "    resp_query = parse_qs(urlparse(location).query)\n",
    "    relay_state = resp_query.get(\"RelayState\")[0]\n",
    "    state_id = parse_qs(relay_state)[\"state\"][0]\n",
    "    state = client.session[statekit.STATES_SESSION_KEY][state_id][0]\n",
    "    assert state == {\"process\": \"connect\", \"data\": None, \"next\": \"/foo\"}"
   ]
  },
  {
   "cell_type": "markdown",
   "metadata": {},
   "source": []
  },
  {
   "cell_type": "code",
   "execution_count": null,
   "metadata": {},
   "outputs": [],
   "source": [
    "def test_metadata(\n",
    "    client,\n",
    "    db,\n",
    "    saml_settings,\n",
    "):\n",
    "    resp = client.get(reverse(\"saml_metadata\", kwargs={\"organization_slug\": \"org\"}))\n",
    "    assert resp.status_code == 200\n",
    "    assert resp.content.startswith(\n",
    "        b'<?xml version=\"1.0\"?>\\n<md:EntityDescriptor xmlns:md=\"urn:oasis:names:tc:SAML:2.0:metadata'\n",
    "    )"
   ]
  },
  {
   "cell_type": "markdown",
   "metadata": {},
   "source": []
  },
  {
   "cell_type": "code",
   "execution_count": null,
   "metadata": {},
   "outputs": [],
   "source": [
    "def test_sls(auth_client, db, saml_settings, user_factory, sls_saml_request):\n",
    "    with patch(\"allauth.account.adapter.DefaultAccountAdapter.logout\") as logout_mock:\n",
    "        resp = auth_client.get(\n",
    "            reverse(\"saml_sls\", kwargs={\"organization_slug\": \"org\"})\n",
    "            + \"?\"\n",
    "            + urlencode({\"SAMLRequest\": sls_saml_request})\n",
    "        )\n",
    "        assert logout_mock.call_count == 1\n",
    "    assert resp.status_code == 302\n",
    "    assert resp[\"location\"].startswith(\n",
    "        \"https://dev-123.us.auth0.com/samlp/456?SAMLResponse=\"\n",
    "    )"
   ]
  },
  {
   "cell_type": "markdown",
   "metadata": {},
   "source": []
  },
  {
   "cell_type": "code",
   "execution_count": null,
   "metadata": {},
   "outputs": [],
   "source": [
    "@pytest.mark.parametrize(\n",
    "    \"provider_config\",\n",
    "    [\n",
    "        {\n",
    "            \"idp\": {\n",
    "                \"entity_id\": \"dummy\",\n",
    "                \"sso_url\": \"https://idp.org/sso/\",\n",
    "                \"slo_url\": \"https://idp.saml.org/slo/\",\n",
    "                \"x509cert\": \"cert\",\n",
    "            }\n",
    "        },\n",
    "    ],\n",
    ")\n",
    "def test_build_saml_config_without_metadata_url(rf, provider_config):\n",
    "    request = rf.get(\"/\")\n",
    "    config = build_saml_config(request, provider_config, \"org\")\n",
    "    assert config[\"idp\"][\"entityId\"] == \"dummy\"\n",
    "    assert config[\"idp\"][\"x509cert\"] == \"cert\"\n",
    "    assert config[\"idp\"][\"singleSignOnService\"] == {\"url\": \"https://idp.org/sso/\"}\n",
    "    assert config[\"idp\"][\"singleLogoutService\"] == {\"url\": \"https://idp.saml.org/slo/\"}"
   ]
  },
  {
   "cell_type": "markdown",
   "metadata": {},
   "source": []
  },
  {
   "cell_type": "code",
   "execution_count": null,
   "metadata": {},
   "outputs": [],
   "source": [
    "@pytest.mark.parametrize(\n",
    "    \"provider_config\",\n",
    "    [\n",
    "        {\n",
    "            \"idp\": {\n",
    "                \"entity_id\": \"dummy\",\n",
    "                \"metadata_url\": \"https://idp.org/sso/\",\n",
    "            }\n",
    "        },\n",
    "        {\n",
    "            \"idp\": {\n",
    "                \"entity_id\": \"dummy\",\n",
    "                \"metadata_url\": \"https://idp.org/sso/\",\n",
    "            },\n",
    "            \"sp\": {\"entity_id\": \"dummy-sp-entity-id\"},\n",
    "        },\n",
    "    ],\n",
    ")\n",
    "def test_build_saml_config(rf, provider_config):\n",
    "    request = rf.get(\"/\")\n",
    "    with patch(\n",
    "        \"onelogin.saml2.idp_metadata_parser.OneLogin_Saml2_IdPMetadataParser.parse_remote\"\n",
    "    ) as parse_mock:\n",
    "        parse_mock.return_value = {\n",
    "            \"idp\": {\n",
    "                \"entityId\": \"dummy\",\n",
    "                \"singleSignOnService\": {\"url\": \"https://idp.org/sso/\"},\n",
    "                \"singleLogoutService\": {\"url\": \"https://idp.saml.org/slo/\"},\n",
    "                \"x509cert\": \"cert\",\n",
    "            }\n",
    "        }\n",
    "        config = build_saml_config(request, provider_config, \"org\")\n",
    "\n",
    "    assert config[\"idp\"][\"entityId\"] == \"dummy\"\n",
    "    assert config[\"idp\"][\"x509cert\"] == \"cert\"\n",
    "    assert config[\"idp\"][\"singleSignOnService\"] == {\"url\": \"https://idp.org/sso/\"}\n",
    "    assert config[\"idp\"][\"singleLogoutService\"] == {\"url\": \"https://idp.saml.org/slo/\"}\n",
    "    metadata_url = request.build_absolute_uri(reverse(\"saml_metadata\", args=[\"org\"]))\n",
    "    sp_entity_id = provider_config.get(\"sp\", {}).get(\"entity_id\")\n",
    "    if sp_entity_id:\n",
    "        assert config[\"sp\"][\"entityId\"] == sp_entity_id\n",
    "    else:\n",
    "        assert config[\"sp\"][\"entityId\"] == metadata_url"
   ]
  },
  {
   "cell_type": "markdown",
   "metadata": {},
   "source": []
  },
  {
   "cell_type": "code",
   "execution_count": null,
   "metadata": {},
   "outputs": [],
   "source": [
    "@pytest.mark.parametrize(\n",
    "    \"data, result, uid\",\n",
    "    [\n",
    "        (\n",
    "            {\"urn:oasis:names:tc:SAML:attribute:subject-id\": [\"123\"]},\n",
    "            {\"uid\": \"123\", \"email\": \"nameid@saml.org\"},\n",
    "            \"123\",\n",
    "        ),\n",
    "        ({}, {\"email\": \"nameid@saml.org\"}, \"nameid@saml.org\"),\n",
    "    ],\n",
    ")\n",
    "def test_extract_attributes(db, data, result, uid, settings):\n",
    "    settings.SOCIALACCOUNT_PROVIDERS = {\n",
    "        \"saml\": {\n",
    "            \"APPS\": [\n",
    "                {\n",
    "                    \"client_id\": \"org\",\n",
    "                    \"provider_id\": \"urn:dev-123.us.auth0.com\",\n",
    "                }\n",
    "            ]\n",
    "        }\n",
    "    }\n",
    "    provider = get_adapter().get_provider(request=None, provider=\"saml\")\n",
    "    onelogin_data = Mock()\n",
    "    onelogin_data.get_attributes.return_value = data\n",
    "    onelogin_data.get_nameid.return_value = \"nameid@saml.org\"\n",
    "    onelogin_data.get_nameid_format.return_value = (\n",
    "        \"urn:oasis:names:tc:SAML:1.1:nameid-format:emailAddress\"\n",
    "    )\n",
    "    assert provider._extract(onelogin_data) == result\n",
    "    assert provider.extract_uid(onelogin_data) == uid"
   ]
  },
  {
   "cell_type": "markdown",
   "metadata": {},
   "source": []
  }
 ],
 "metadata": {
  "language_info": {
   "name": "python"
  }
 },
 "nbformat": 4,
 "nbformat_minor": 2
}