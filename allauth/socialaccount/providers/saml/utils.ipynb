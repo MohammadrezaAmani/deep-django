{
    "cells": [
        {
            "cell_type": "code",
            "execution_count": null,
            "metadata": {},
            "outputs": [],
            "source": [
                "from urllib.parse import parse_qsl, urlparse\n",
                "\n",
                "from django.core.cache import cache\n",
                "from django.core.exceptions import ImproperlyConfigured\n",
                "from django.http import Http404\n",
                "from django.urls import reverse\n",
                "from django.utils.http import urlencode\n",
                "\n",
                "from onelogin.saml2.auth import OneLogin_Saml2_Auth\n",
                "from onelogin.saml2.constants import OneLogin_Saml2_Constants\n",
                "from onelogin.saml2.idp_metadata_parser import OneLogin_Saml2_IdPMetadataParser\n",
                "\n",
                "from allauth.socialaccount.adapter import get_adapter\n",
                "from allauth.socialaccount.models import SocialApp\n",
                "from allauth.socialaccount.providers.saml.provider import SAMLProvider\n"
            ]
        },
        {
            "cell_type": "markdown",
            "metadata": {},
            "source": []
        },
        {
            "cell_type": "code",
            "execution_count": null,
            "metadata": {},
            "outputs": [],
            "source": [
                "def get_app_or_404(request, organization_slug):\n",
                "    adapter = get_adapter()\n",
                "    try:\n",
                "        return adapter.get_app(\n",
                "            request, provider=SAMLProvider.id, client_id=organization_slug\n",
                "        )\n",
                "    except SocialApp.DoesNotExist:\n",
                "        raise Http404(f\"no SocialApp found with client_id={organization_slug}\")\n"
            ]
        },
        {
            "cell_type": "markdown",
            "metadata": {},
            "source": []
        },
        {
            "cell_type": "code",
            "execution_count": null,
            "metadata": {},
            "outputs": [],
            "source": [
                "def prepare_django_request(request):\n",
                "    result = {\n",
                "        \"https\": \"on\" if request.is_secure() else \"off\",\n",
                "        \"http_host\": request.META[\"HTTP_HOST\"],\n",
                "        \"script_name\": request.META[\"PATH_INFO\"],\n",
                "        \"get_data\": request.GET.copy(),\n",
                "        # 'lowercase_urlencoding': True,\n",
                "        \"post_data\": request.POST.copy(),\n",
                "    }\n",
                "    return result\n"
            ]
        },
        {
            "cell_type": "markdown",
            "metadata": {},
            "source": []
        },
        {
            "cell_type": "code",
            "execution_count": null,
            "metadata": {},
            "outputs": [],
            "source": [
                "def build_sp_config(request, provider_config, org):\n",
                "    acs_url = request.build_absolute_uri(reverse(\"saml_acs\", args=[org]))\n",
                "    sls_url = request.build_absolute_uri(reverse(\"saml_sls\", args=[org]))\n",
                "    metadata_url = request.build_absolute_uri(reverse(\"saml_metadata\", args=[org]))\n",
                "    # SP entity ID generated with the following precedence:\n",
                "    # 1. Explicitly configured SP via the SocialApp.settings\n",
                "    # 2. Fallback to the SAML metadata urlpattern\n",
                "    _sp_config = provider_config.get(\"sp\", {})\n",
                "    sp_entity_id = _sp_config.get(\"entity_id\")\n",
                "    sp_config = {\n",
                "        \"entityId\": sp_entity_id or metadata_url,\n",
                "        \"assertionConsumerService\": {\n",
                "            \"url\": acs_url,\n",
                "            \"binding\": OneLogin_Saml2_Constants.BINDING_HTTP_POST,\n",
                "        },\n",
                "        \"singleLogoutService\": {\n",
                "            \"url\": sls_url,\n",
                "            \"binding\": OneLogin_Saml2_Constants.BINDING_HTTP_REDIRECT,\n",
                "        },\n",
                "    }\n",
                "    avd = provider_config.get(\"advanced\", {})\n",
                "    if avd.get(\"x509cert\") is not None:\n",
                "        sp_config[\"x509cert\"] = avd[\"x509cert\"]\n",
                "\n",
                "    if avd.get(\"x509cert_new\"):\n",
                "        sp_config[\"x509certNew\"] = avd[\"x509cert_new\"]\n",
                "\n",
                "    if avd.get(\"private_key\") is not None:\n",
                "        sp_config[\"privateKey\"] = avd[\"private_key\"]\n",
                "\n",
                "    if avd.get(\"name_id_format\") is not None:\n",
                "        sp_config[\"NameIDFormat\"] = avd[\"name_id_format\"]\n",
                "\n",
                "    return sp_config\n"
            ]
        },
        {
            "cell_type": "markdown",
            "metadata": {},
            "source": []
        },
        {
            "cell_type": "code",
            "execution_count": null,
            "metadata": {},
            "outputs": [],
            "source": [
                "def fetch_metadata_url_config(idp_config):\n",
                "    metadata_url = idp_config[\"metadata_url\"]\n",
                "    entity_id = idp_config[\"entity_id\"]\n",
                "    cache_key = f\"saml.metadata.{metadata_url}.{entity_id}\"\n",
                "    saml_config = cache.get(cache_key)\n",
                "    if saml_config is None:\n",
                "        saml_config = OneLogin_Saml2_IdPMetadataParser.parse_remote(\n",
                "            metadata_url,\n",
                "            entity_id=entity_id,\n",
                "            timeout=idp_config.get(\"metadata_request_timeout\", 10),\n",
                "        )\n",
                "        cache.set(\n",
                "            cache_key,\n",
                "            saml_config,\n",
                "            idp_config.get(\"metadata_cache_timeout\", 60 * 60 * 4),\n",
                "        )\n",
                "    return saml_config\n"
            ]
        },
        {
            "cell_type": "markdown",
            "metadata": {},
            "source": []
        },
        {
            "cell_type": "code",
            "execution_count": null,
            "metadata": {},
            "outputs": [],
            "source": [
                "def build_saml_config(request, provider_config, org):\n",
                "    avd = provider_config.get(\"advanced\", {})\n",
                "    security_config = {\n",
                "        \"authnRequestsSigned\": avd.get(\"authn_request_signed\", False),\n",
                "        \"digestAlgorithm\": avd.get(\"digest_algorithm\", OneLogin_Saml2_Constants.SHA256),\n",
                "        \"logoutRequestSigned\": avd.get(\"logout_request_signed\", False),\n",
                "        \"logoutResponseSigned\": avd.get(\"logout_response_signed\", False),\n",
                "        \"requestedAuthnContext\": False,\n",
                "        \"signatureAlgorithm\": avd.get(\n",
                "            \"signature_algorithm\", OneLogin_Saml2_Constants.RSA_SHA256\n",
                "        ),\n",
                "        \"signMetadata\": avd.get(\"metadata_signed\", False),\n",
                "        \"wantAssertionsEncrypted\": avd.get(\"want_assertion_encrypted\", False),\n",
                "        \"wantAssertionsSigned\": avd.get(\"want_assertion_signed\", False),\n",
                "        \"wantMessagesSigned\": avd.get(\"want_message_signed\", False),\n",
                "        \"nameIdEncrypted\": avd.get(\"name_id_encrypted\", False),\n",
                "        \"wantNameIdEncrypted\": avd.get(\"want_name_id_encrypted\", False),\n",
                "        \"allowSingleLabelDomains\": avd.get(\"allow_single_label_domains\", False),\n",
                "        \"rejectDeprecatedAlgorithm\": avd.get(\"reject_deprecated_algorithm\", True),\n",
                "        \"wantNameId\": avd.get(\"want_name_id\", False),\n",
                "        \"wantAttributeStatement\": avd.get(\"want_attribute_statement\", True),\n",
                "        \"allowRepeatAttributeName\": avd.get(\"allow_repeat_attribute_name\", True),\n",
                "    }\n",
                "    saml_config = {\n",
                "        \"strict\": avd.get(\"strict\", True),\n",
                "        \"security\": security_config,\n",
                "    }\n",
                "\n",
                "    contact_person = provider_config.get(\"contact_person\")\n",
                "    if contact_person:\n",
                "        saml_config[\"contactPerson\"] = contact_person\n",
                "\n",
                "    organization = provider_config.get(\"organization\")\n",
                "    if organization:\n",
                "        saml_config[\"organization\"] = organization\n",
                "\n",
                "    idp = provider_config.get(\"idp\")\n",
                "    if idp is None:\n",
                "        raise ImproperlyConfigured(\"`idp` missing\")\n",
                "    metadata_url = idp.get(\"metadata_url\")\n",
                "    if metadata_url:\n",
                "        meta_config = fetch_metadata_url_config(idp)\n",
                "        saml_config[\"idp\"] = meta_config[\"idp\"]\n",
                "    else:\n",
                "        saml_config[\"idp\"] = {\n",
                "            \"entityId\": idp[\"entity_id\"],\n",
                "            \"x509cert\": idp[\"x509cert\"],\n",
                "            \"singleSignOnService\": {\"url\": idp[\"sso_url\"]},\n",
                "        }\n",
                "        slo_url = idp.get(\"slo_url\")\n",
                "        if slo_url:\n",
                "            saml_config[\"idp\"][\"singleLogoutService\"] = {\"url\": slo_url}\n",
                "\n",
                "    saml_config[\"sp\"] = build_sp_config(request, provider_config, org)\n",
                "    return saml_config\n"
            ]
        },
        {
            "cell_type": "markdown",
            "metadata": {},
            "source": []
        },
        {
            "cell_type": "code",
            "execution_count": null,
            "metadata": {},
            "outputs": [],
            "source": [
                "def encode_relay_state(state):\n",
                "    params = {\"state\": state}\n",
                "    return urlencode(params)\n"
            ]
        },
        {
            "cell_type": "markdown",
            "metadata": {},
            "source": []
        },
        {
            "cell_type": "code",
            "execution_count": null,
            "metadata": {},
            "outputs": [],
            "source": [
                "def decode_relay_state(relay_state):\n",
                "    \"\"\"According to the spec, RelayState need not be a URL, yet,\n",
                "    ``onelogin.saml2` exposes it as ``return_to -- The target URL the user\n",
                "    should be redirected to after login``. Also, for an IdP initiated login\n",
                "    sometimes a URL is used.\n",
                "    \"\"\"\n",
                "    state_id, next_url = None, None\n",
                "    if relay_state:\n",
                "        parts = urlparse(relay_state)\n",
                "        if parts.scheme or parts.netloc or (parts.path and parts.path.startswith(\"/\")):\n",
                "            next_url = relay_state\n",
                "        else:\n",
                "            params = dict(parse_qsl(relay_state))\n",
                "            state_id = params.get(\"state\")\n",
                "    return state_id, next_url\n"
            ]
        },
        {
            "cell_type": "markdown",
            "metadata": {},
            "source": []
        },
        {
            "cell_type": "code",
            "execution_count": null,
            "metadata": {},
            "outputs": [],
            "source": [
                "def build_auth(request, provider):\n",
                "    req = prepare_django_request(request)\n",
                "    config = build_saml_config(request, provider.app.settings, provider.app.client_id)\n",
                "    auth = OneLogin_Saml2_Auth(req, config)\n",
                "    return auth\n",
                "\n"
            ]
        },
        {
            "cell_type": "markdown",
            "metadata": {},
            "source": []
        }
    ],
    "metadata": {
        "language_info": {
            "name": "python"
        }
    },
    "nbformat": 4,
    "nbformat_minor": 2
}