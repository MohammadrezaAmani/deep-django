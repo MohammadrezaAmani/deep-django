{
    "cells": [
        {
            "cell_type": "code",
            "execution_count": null,
            "metadata": {},
            "outputs": [],
            "source": [
                "import binascii\n",
                "import logging\n",
                "\n",
                "from django.http import HttpResponse, HttpResponseRedirect, JsonResponse\n",
                "from django.urls import reverse\n",
                "from django.utils.decorators import method_decorator\n",
                "from django.views import View\n",
                "from django.views.decorators.csrf import csrf_exempt\n",
                "\n",
                "from onelogin.saml2.auth import OneLogin_Saml2_Settings\n",
                "from onelogin.saml2.errors import OneLogin_Saml2_Error\n",
                "\n",
                "from allauth.account.adapter import get_adapter as get_account_adapter\n",
                "from allauth.socialaccount.helpers import (\n",
                "    complete_social_login,\n",
                "    render_authentication_error,\n",
                ")\n",
                "from allauth.socialaccount.models import SocialLogin\n",
                "from allauth.socialaccount.providers.base.constants import (\n",
                "    AuthError,\n",
                "    AuthProcess,\n",
                ")\n",
                "from allauth.socialaccount.providers.base.views import BaseLoginView\n",
                "from allauth.socialaccount.sessions import LoginSession\n",
                "\n",
                "from .utils import (\n",
                "    build_auth,\n",
                "    build_saml_config,\n",
                "    decode_relay_state,\n",
                "    get_app_or_404,\n",
                ")\n"
            ]
        },
        {
            "cell_type": "markdown",
            "metadata": {},
            "source": []
        },
        {
            "cell_type": "code",
            "execution_count": null,
            "metadata": {},
            "outputs": [],
            "source": [
                "logger = logging.getLogger(__name__)\n"
            ]
        },
        {
            "cell_type": "markdown",
            "metadata": {},
            "source": []
        },
        {
            "cell_type": "code",
            "execution_count": null,
            "metadata": {},
            "outputs": [],
            "source": [
                "class SAMLViewMixin:\n",
                "    def build_auth(self, provider, organization_slug):\n",
                "        return build_auth(self.request, provider)\n",
                "\n",
                "    def get_app(self, organization_slug):\n",
                "        app = get_app_or_404(self.request, organization_slug)\n",
                "        return app\n",
                "\n",
                "    def get_provider(self, organization_slug):\n",
                "        app = self.get_app(organization_slug)\n",
                "        return app.get_provider(self.request)\n"
            ]
        },
        {
            "cell_type": "markdown",
            "metadata": {},
            "source": []
        },
        {
            "cell_type": "code",
            "execution_count": null,
            "metadata": {},
            "outputs": [],
            "source": [
                "@method_decorator(csrf_exempt, name=\"dispatch\")\n",
                "class ACSView(SAMLViewMixin, View):\n",
                "    def dispatch(self, request, organization_slug):\n",
                "        provider = self.get_provider(organization_slug)\n",
                "        auth = self.build_auth(provider, organization_slug)\n",
                "        error_reason = None\n",
                "        errors = []\n",
                "        try:\n",
                "            auth.process_response()\n",
                "        except binascii.Error:\n",
                "            errors = [\"invalid_response\"]\n",
                "            error_reason = \"Invalid response\"\n",
                "        except OneLogin_Saml2_Error as e:\n",
                "            errors = [\"error\"]\n",
                "            error_reason = str(e)\n",
                "        if not errors:\n",
                "            errors = auth.get_errors()\n",
                "        if errors:\n",
                "            # e.g. ['invalid_response']\n",
                "            error_reason = auth.get_last_error_reason() or error_reason\n",
                "            logger.error(\n",
                "                \"Error processing SAML ACS response: %s: %s\"\n",
                "                % (\", \".join(errors), error_reason)\n",
                "            )\n",
                "            return render_authentication_error(\n",
                "                request,\n",
                "                provider,\n",
                "                extra_context={\n",
                "                    \"saml_errors\": errors,\n",
                "                    \"saml_last_error_reason\": error_reason,\n",
                "                },\n",
                "            )\n",
                "        if not auth.is_authenticated():\n",
                "            return render_authentication_error(\n",
                "                request, provider, error=AuthError.CANCELLED\n",
                "            )\n",
                "\n",
                "        login = provider.sociallogin_from_response(request, auth)\n",
                "        state_id, next_url = decode_relay_state(request.POST.get(\"RelayState\"))\n",
                "        acs_session = LoginSession(request, \"saml_acs_session\", \"saml-acs-session\")\n",
                "        acs_session.store.update(\n",
                "            {\n",
                "                \"login\": login.serialize(),\n",
                "                \"state_id\": state_id,\n",
                "                \"next_url\": next_url,\n",
                "            }\n",
                "        )\n",
                "        url = reverse(\n",
                "            \"saml_finish_acs\",\n",
                "            kwargs={\"organization_slug\": organization_slug},\n",
                "        )\n",
                "        response = HttpResponseRedirect(url)\n",
                "        acs_session.save(response)\n",
                "        return response\n"
            ]
        },
        {
            "cell_type": "markdown",
            "metadata": {},
            "source": []
        },
        {
            "cell_type": "code",
            "execution_count": null,
            "metadata": {},
            "outputs": [],
            "source": [
                "acs = ACSView.as_view()\n"
            ]
        },
        {
            "cell_type": "markdown",
            "metadata": {},
            "source": []
        },
        {
            "cell_type": "code",
            "execution_count": null,
            "metadata": {},
            "outputs": [],
            "source": [
                "class FinishACSView(SAMLViewMixin, View):\n",
                "    def dispatch(self, request, organization_slug):\n",
                "        provider = self.get_provider(organization_slug)\n",
                "        acs_session = LoginSession(request, \"saml_acs_session\", \"saml-acs-session\")\n",
                "        serialized_login = acs_session.store.get(\"login\")\n",
                "        state_id = acs_session.store.get(\"state_id\")\n",
                "        if not serialized_login:\n",
                "            logger.error(\"Unable to finish login, SAML ACS session missing\")\n",
                "            return render_authentication_error(\n",
                "                request, provider, extra_context={\"state_id\": state_id}\n",
                "            )\n",
                "        next_url = acs_session.store.get(\"next_url\")\n",
                "        acs_session.delete()\n",
                "        login = SocialLogin.deserialize(serialized_login)\n",
                "        if state_id:\n",
                "            login.state = provider.unstash_redirect_state(request, state_id)\n",
                "        else:\n",
                "            # IdP initiated SSO\n",
                "            login.state[\"process\"] = AuthProcess.LOGIN\n",
                "            if next_url:\n",
                "                login.state[\"next\"] = next_url\n",
                "        return complete_social_login(request, login)\n"
            ]
        },
        {
            "cell_type": "markdown",
            "metadata": {},
            "source": []
        },
        {
            "cell_type": "code",
            "execution_count": null,
            "metadata": {},
            "outputs": [],
            "source": [
                "finish_acs = FinishACSView.as_view()\n"
            ]
        },
        {
            "cell_type": "markdown",
            "metadata": {},
            "source": []
        },
        {
            "cell_type": "code",
            "execution_count": null,
            "metadata": {},
            "outputs": [],
            "source": [
                "@method_decorator(csrf_exempt, name=\"dispatch\")\n",
                "class SLSView(SAMLViewMixin, View):\n",
                "    def dispatch(self, request, organization_slug):\n",
                "        provider = self.get_provider(organization_slug)\n",
                "        auth = self.build_auth(provider, organization_slug)\n",
                "        should_logout = request.user.is_authenticated\n",
                "        account_adapter = get_account_adapter(request)\n",
                "\n",
                "        def force_logout():\n",
                "            account_adapter.logout(request)\n",
                "\n",
                "        redirect_to = None\n",
                "        error_reason = None\n",
                "        try:\n",
                "            redirect_to = auth.process_slo(\n",
                "                delete_session_cb=force_logout, keep_local_session=not should_logout\n",
                "            )\n",
                "        except OneLogin_Saml2_Error as e:\n",
                "            error_reason = str(e)\n",
                "        errors = auth.get_errors()\n",
                "        if errors:\n",
                "            error_reason = auth.get_last_error_reason() or error_reason\n",
                "            logger.error(\n",
                "                \"Error processing SAML SLS response: %s: %s\"\n",
                "                % (\", \".join(errors), error_reason)\n",
                "            )\n",
                "            resp = HttpResponse(error_reason, content_type=\"text/plain\")\n",
                "            resp.status_code = 400\n",
                "            return resp\n",
                "        if not redirect_to:\n",
                "            redirect_to = account_adapter.get_logout_redirect_url(request)\n",
                "        return HttpResponseRedirect(redirect_to)\n"
            ]
        },
        {
            "cell_type": "markdown",
            "metadata": {},
            "source": []
        },
        {
            "cell_type": "code",
            "execution_count": null,
            "metadata": {},
            "outputs": [],
            "source": [
                "sls = SLSView.as_view()\n"
            ]
        },
        {
            "cell_type": "markdown",
            "metadata": {},
            "source": []
        },
        {
            "cell_type": "code",
            "execution_count": null,
            "metadata": {},
            "outputs": [],
            "source": [
                "class MetadataView(SAMLViewMixin, View):\n",
                "    def dispatch(self, request, organization_slug):\n",
                "        provider = self.get_provider(organization_slug)\n",
                "        config = build_saml_config(\n",
                "            self.request, provider.app.settings, organization_slug\n",
                "        )\n",
                "        saml_settings = OneLogin_Saml2_Settings(\n",
                "            settings=config, sp_validation_only=True\n",
                "        )\n",
                "        metadata = saml_settings.get_sp_metadata()\n",
                "        errors = saml_settings.validate_metadata(metadata)\n",
                "\n",
                "        if len(errors) > 0:\n",
                "            resp = JsonResponse({\"errors\": errors})\n",
                "            resp.status_code = 500\n",
                "            return resp\n",
                "\n",
                "        return HttpResponse(content=metadata, content_type=\"text/xml\")\n"
            ]
        },
        {
            "cell_type": "markdown",
            "metadata": {},
            "source": []
        },
        {
            "cell_type": "code",
            "execution_count": null,
            "metadata": {},
            "outputs": [],
            "source": [
                "metadata = MetadataView.as_view()\n"
            ]
        },
        {
            "cell_type": "markdown",
            "metadata": {},
            "source": []
        },
        {
            "cell_type": "code",
            "execution_count": null,
            "metadata": {},
            "outputs": [],
            "source": [
                "class LoginView(SAMLViewMixin, BaseLoginView):\n",
                "    def get_provider(self):\n",
                "        app = self.get_app(self.kwargs[\"organization_slug\"])\n",
                "        return app.get_provider(self.request)\n"
            ]
        },
        {
            "cell_type": "markdown",
            "metadata": {},
            "source": []
        },
        {
            "cell_type": "code",
            "execution_count": null,
            "metadata": {},
            "outputs": [],
            "source": [
                "login = LoginView.as_view()\n",
                "\n"
            ]
        },
        {
            "cell_type": "markdown",
            "metadata": {},
            "source": []
        }
    ],
    "metadata": {
        "language_info": {
            "name": "python"
        }
    },
    "nbformat": 4,
    "nbformat_minor": 2
}