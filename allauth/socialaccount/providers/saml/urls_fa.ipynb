{
    "cells": [
        {
            "cell_type": "code",
            "execution_count": null,
            "metadata": {},
            "outputs": [],
            "source": [
                "from django.urls import include, path, re_path\n",
                "\n",
                "from . import views\n",
                "\n",
                "urlpatterns = [\n",
                "    re_path(\n",
                "        r\"^saml/(?P<organization_slug>[^/]+)/\",\n",
                "        include(\n",
                "            [\n",
                "                path(\n",
                "                    \"acs/\",\n",
                "                    views.acs,\n",
                "                    name=\"saml_acs\",\n",
                "                ),\n",
                "                path(\n",
                "                    \"acs/finish/\",\n",
                "                    views.finish_acs,\n",
                "                    name=\"saml_finish_acs\",\n",
                "                ),\n",
                "                path(\n",
                "                    \"sls/\",\n",
                "                    views.sls,\n",
                "                    name=\"saml_sls\",\n",
                "                ),\n",
                "                path(\n",
                "                    \"metadata/\",\n",
                "                    views.metadata,\n",
                "                    name=\"saml_metadata\",\n",
                "                ),\n",
                "                path(\n",
                "                    \"login/\",\n",
                "                    views.login,\n",
                "                    name=\"saml_login\",\n",
                "                ),\n",
                "            ]\n",
                "        ),\n",
                "    )\n",
                "]\n",
                "\n"
            ]
        },
        {
            "cell_type": "markdown",
            "metadata": {},
            "source": []
        }
    ],
    "metadata": {
        "language_info": {
            "name": "python"
        }
    },
    "nbformat": 4,
    "nbformat_minor": 2
}