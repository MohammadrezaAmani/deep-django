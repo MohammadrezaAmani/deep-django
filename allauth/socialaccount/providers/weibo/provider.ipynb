{
    "cells": [
        {
            "cell_type": "code",
            "execution_count": null,
            "metadata": {},
            "outputs": [],
            "source": [
                "from allauth.socialaccount.providers.base import (\n",
                "    ProviderAccount,\n",
                "    ProviderException,\n",
                ")\n",
                "from allauth.socialaccount.providers.oauth2.provider import OAuth2Provider\n",
                "from allauth.socialaccount.providers.weibo.views import WeiboOAuth2Adapter\n"
            ]
        },
        {
            "cell_type": "markdown",
            "metadata": {},
            "source": []
        },
        {
            "cell_type": "code",
            "execution_count": null,
            "metadata": {},
            "outputs": [],
            "source": [
                "class WeiboAccount(ProviderAccount):\n",
                "    def get_profile_url(self):\n",
                "        # profile_url = \"u/3195025850\"\n",
                "        return \"http://www.weibo.com/\" + self.account.extra_data.get(\"profile_url\")\n",
                "\n",
                "    def get_avatar_url(self):\n",
                "        return self.account.extra_data.get(\"avatar_large\")\n",
                "\n",
                "    def to_str(self):\n",
                "        dflt = super(WeiboAccount, self).to_str()\n",
                "        return self.account.extra_data.get(\"name\", dflt)\n"
            ]
        },
        {
            "cell_type": "markdown",
            "metadata": {},
            "source": []
        },
        {
            "cell_type": "code",
            "execution_count": null,
            "metadata": {},
            "outputs": [],
            "source": [
                "class WeiboProvider(OAuth2Provider):\n",
                "    id = \"weibo\"\n",
                "    name = \"Weibo\"\n",
                "    account_class = WeiboAccount\n",
                "    oauth2_adapter_class = WeiboOAuth2Adapter\n",
                "\n",
                "    def extract_uid(self, data):\n",
                "        ret = data.get(\"idstr\")\n",
                "        if not ret:\n",
                "            raise ProviderException(\"Missing 'idstr'\")\n",
                "        return ret\n",
                "\n",
                "    def extract_common_fields(self, data):\n",
                "        return dict(username=data.get(\"screen_name\"), name=data.get(\"name\"))\n"
            ]
        },
        {
            "cell_type": "markdown",
            "metadata": {},
            "source": []
        },
        {
            "cell_type": "code",
            "execution_count": null,
            "metadata": {},
            "outputs": [],
            "source": [
                "provider_classes = [WeiboProvider]\n",
                "\n"
            ]
        },
        {
            "cell_type": "markdown",
            "metadata": {},
            "source": []
        }
    ],
    "metadata": {
        "language_info": {
            "name": "python"
        }
    },
    "nbformat": 4,
    "nbformat_minor": 2
}