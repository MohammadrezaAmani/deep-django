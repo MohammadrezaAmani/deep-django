{
    "cells": [
        {
            "cell_type": "code",
            "execution_count": null,
            "metadata": {},
            "outputs": [],
            "source": [
                "from allauth.socialaccount.tests import OAuth2TestsMixin\n",
                "from allauth.tests import MockedResponse, TestCase\n",
                "\n",
                "from .provider import WeiboProvider\n"
            ]
        },
        {
            "cell_type": "markdown",
            "metadata": {},
            "source": []
        },
        {
            "cell_type": "code",
            "execution_count": null,
            "metadata": {},
            "outputs": [],
            "source": [
                "class WeiboTests(OAuth2TestsMixin, TestCase):\n",
                "    provider_id = WeiboProvider.id\n",
                "\n",
                "    def get_mocked_response(self):\n",
                "        return MockedResponse(\n",
                "            200,\n",
                "            \"\"\"\n",
                "{\"bi_followers_count\": 0,\n",
                " \"domain\": \"\", \"avatar_large\": \"http://tp3.sinaimg.cn/3195025850/180/0/0\",\n",
                " \"block_word\": 0, \"star\": 0, \"id\": 3195025850, \"city\": \"1\", \"verified\": false,\n",
                " \"follow_me\": false, \"verified_reason\": \"\", \"followers_count\": 6,\n",
                " \"location\": \"\\u5317\\u4eac \\u4e1c\\u57ce\\u533a\", \"mbtype\": 0,\n",
                " \"profile_url\": \"u/3195025850\", \"province\": \"11\", \"statuses_count\": 0,\n",
                " \"description\": \"\", \"friends_count\": 0, \"online_status\": 0, \"mbrank\": 0,\n",
                " \"idstr\": \"3195025850\",\n",
                " \"profile_image_url\": \"http://tp3.sinaimg.cn/3195025850/50/0/0\",\n",
                " \"allow_all_act_msg\": false, \"allow_all_comment\": true, \"geo_enabled\": true,\n",
                " \"name\": \"pennersr\", \"lang\": \"zh-cn\", \"weihao\": \"\", \"remark\": \"\",\n",
                " \"favourites_count\": 0, \"screen_name\": \"pennersr\", \"url\": \"\", \"gender\": \"f\",\n",
                " \"created_at\": \"Tue Feb 19 19:43:39 +0800 2013\", \"verified_type\": -1,\n",
                " \"following\": false}\n",
                "\n",
                "\"\"\",\n",
                "        )\n",
                "\n"
            ]
        },
        {
            "cell_type": "markdown",
            "metadata": {},
            "source": []
        }
    ],
    "metadata": {
        "language_info": {
            "name": "python"
        }
    },
    "nbformat": 4,
    "nbformat_minor": 2
}