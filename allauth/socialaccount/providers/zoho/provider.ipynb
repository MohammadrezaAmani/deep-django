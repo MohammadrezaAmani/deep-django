{
    "cells": [
        {
            "cell_type": "code",
            "execution_count": null,
            "metadata": {},
            "outputs": [],
            "source": [
                "from allauth.account.models import EmailAddress\n",
                "from allauth.socialaccount.providers.base import ProviderAccount\n",
                "from allauth.socialaccount.providers.oauth2.provider import OAuth2Provider\n",
                "from allauth.socialaccount.providers.zoho.views import ZohoOAuth2Adapter\n"
            ]
        },
        {
            "cell_type": "markdown",
            "metadata": {},
            "source": []
        },
        {
            "cell_type": "code",
            "execution_count": null,
            "metadata": {},
            "outputs": [],
            "source": [
                "class ZohoAccount(ProviderAccount):\n",
                "    def to_str(self):\n",
                "        dflt = super(ZohoAccount, self).to_str()\n",
                "        return self.account.extra_data.get(\"Display_Name\", dflt)\n"
            ]
        },
        {
            "cell_type": "markdown",
            "metadata": {},
            "source": []
        },
        {
            "cell_type": "code",
            "execution_count": null,
            "metadata": {},
            "outputs": [],
            "source": [
                "class ZohoProvider(OAuth2Provider):\n",
                "    id = \"zoho\"\n",
                "    name = \"Zoho\"\n",
                "    account_class = ZohoAccount\n",
                "    oauth2_adapter_class = ZohoOAuth2Adapter\n",
                "\n",
                "    def get_default_scope(self):\n",
                "        return [\"aaaserver.profile.READ\"]\n",
                "\n",
                "    def extract_uid(self, data):\n",
                "        return str(data[\"ZUID\"])\n",
                "\n",
                "    def extract_common_fields(self, data):\n",
                "        return dict(\n",
                "            email=data[\"Email\"],\n",
                "            username=data[\"Display_Name\"],\n",
                "            first_name=data[\"First_Name\"],\n",
                "            last_name=data[\"Last_Name\"],\n",
                "        )\n",
                "\n",
                "    def extract_email_addresses(self, data):\n",
                "        ret = []\n",
                "        email = data.get(\"Email\")\n",
                "        if email:\n",
                "            ret.append(\n",
                "                EmailAddress(\n",
                "                    email=email,\n",
                "                    verified=False,\n",
                "                    primary=True,\n",
                "                )\n",
                "            )\n",
                "        return ret\n"
            ]
        },
        {
            "cell_type": "markdown",
            "metadata": {},
            "source": []
        },
        {
            "cell_type": "code",
            "execution_count": null,
            "metadata": {},
            "outputs": [],
            "source": [
                "provider_classes = [ZohoProvider]\n",
                "\n"
            ]
        },
        {
            "cell_type": "markdown",
            "metadata": {},
            "source": []
        }
    ],
    "metadata": {
        "language_info": {
            "name": "python"
        }
    },
    "nbformat": 4,
    "nbformat_minor": 2
}