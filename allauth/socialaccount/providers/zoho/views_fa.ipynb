{
 "cells": [
  {
   "cell_type": "code",
   "execution_count": null,
   "metadata": {},
   "outputs": [],
   "source": [
    "from allauth.socialaccount.adapter import get_adapter\n",
    "from allauth.socialaccount.providers.oauth2.views import (\n",
    "    OAuth2Adapter,\n",
    "    OAuth2CallbackView,\n",
    "    OAuth2LoginView,\n",
    ")"
   ]
  },
  {
   "cell_type": "markdown",
   "metadata": {},
   "source": []
  },
  {
   "cell_type": "code",
   "execution_count": null,
   "metadata": {},
   "outputs": [],
   "source": [
    "class ZohoOAuth2Adapter(OAuth2Adapter):\n",
    "    provider_id = \"zoho\"\n",
    "    access_token_url = \"https://accounts.zoho.com/oauth/v2/token\"\n",
    "    authorize_url = \"https://accounts.zoho.com/oauth/v2/auth\"\n",
    "    profile_url = \"https://accounts.zoho.com/oauth/user/info\"\n",
    "\n",
    "    def complete_login(self, request, app, token, **kwargs):\n",
    "        resp = (\n",
    "            get_adapter()\n",
    "            .get_requests_session()\n",
    "            .get(\n",
    "                self.profile_url,\n",
    "                headers={\"Authorization\": \"Bearer {}\".format(token.token)},\n",
    "            )\n",
    "        )\n",
    "        resp.raise_for_status()\n",
    "        extra_data = resp.json()\n",
    "        return self.get_provider().sociallogin_from_response(request, extra_data)"
   ]
  },
  {
   "cell_type": "markdown",
   "metadata": {},
   "source": []
  },
  {
   "cell_type": "code",
   "execution_count": null,
   "metadata": {},
   "outputs": [],
   "source": [
    "oauth2_login = OAuth2LoginView.adapter_view(ZohoOAuth2Adapter)\n",
    "oauth2_callback = OAuth2CallbackView.adapter_view(ZohoOAuth2Adapter)"
   ]
  },
  {
   "cell_type": "markdown",
   "metadata": {},
   "source": []
  }
 ],
 "metadata": {
  "language_info": {
   "name": "python"
  }
 },
 "nbformat": 4,
 "nbformat_minor": 2
}