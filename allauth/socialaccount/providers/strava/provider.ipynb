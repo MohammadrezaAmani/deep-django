{
    "cells": [
        {
            "cell_type": "code",
            "execution_count": null,
            "metadata": {},
            "outputs": [],
            "source": [
                "from allauth.socialaccount.providers.base import ProviderAccount\n",
                "from allauth.socialaccount.providers.oauth2.provider import OAuth2Provider\n",
                "from allauth.socialaccount.providers.strava.views import StravaOAuth2Adapter\n"
            ]
        },
        {
            "cell_type": "markdown",
            "metadata": {},
            "source": []
        },
        {
            "cell_type": "code",
            "execution_count": null,
            "metadata": {},
            "outputs": [],
            "source": [
                "class StravaAccount(ProviderAccount):\n",
                "    def get_profile_url(self):\n",
                "        id = self.account.extra_data.get(\"id\")\n",
                "        if id:\n",
                "            return \"https://www.strava.com/athletes/{}\".format(id)\n",
                "        return None\n",
                "\n",
                "    def get_avatar_url(self):\n",
                "        avatar = self.account.extra_data.get(\"profile\")\n",
                "        if avatar and avatar != \"avatar/athlete/large.png\":\n",
                "            return avatar\n",
                "        return None\n",
                "\n",
                "    def to_str(self):\n",
                "        name = super(StravaAccount, self).to_str()\n",
                "        return self.account.extra_data.get(\"name\", name)\n"
            ]
        },
        {
            "cell_type": "markdown",
            "metadata": {},
            "source": []
        },
        {
            "cell_type": "code",
            "execution_count": null,
            "metadata": {},
            "outputs": [],
            "source": [
                "class StravaProvider(OAuth2Provider):\n",
                "    id = \"strava\"\n",
                "    name = \"Strava\"\n",
                "    account_class = StravaAccount\n",
                "    oauth2_adapter_class = StravaOAuth2Adapter\n",
                "\n",
                "    def extract_uid(self, data):\n",
                "        return str(data[\"id\"])\n",
                "\n",
                "    def extract_common_fields(self, data):\n",
                "        extra_common = super(StravaProvider, self).extract_common_fields(data)\n",
                "        firstname = data.get(\"firstname\")\n",
                "        lastname = data.get(\"lastname\")\n",
                "        name = \" \".join(part for part in (firstname, lastname) if part)\n",
                "        extra_common.update(\n",
                "            username=data.get(\"username\"),\n",
                "            email=data.get(\"email\"),\n",
                "            first_name=firstname,\n",
                "            last_name=lastname,\n",
                "            name=name.strip(),\n",
                "        )\n",
                "        return extra_common\n",
                "\n",
                "    def get_default_scope(self):\n",
                "        return [\"read,activity:read\"]\n"
            ]
        },
        {
            "cell_type": "markdown",
            "metadata": {},
            "source": []
        },
        {
            "cell_type": "code",
            "execution_count": null,
            "metadata": {},
            "outputs": [],
            "source": [
                "provider_classes = [StravaProvider]\n",
                "\n"
            ]
        },
        {
            "cell_type": "markdown",
            "metadata": {},
            "source": []
        }
    ],
    "metadata": {
        "language_info": {
            "name": "python"
        }
    },
    "nbformat": 4,
    "nbformat_minor": 2
}