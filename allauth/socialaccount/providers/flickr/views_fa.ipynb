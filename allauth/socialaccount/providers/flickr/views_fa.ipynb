{
    "cells": [
        {
            "cell_type": "code",
            "execution_count": null,
            "metadata": {},
            "outputs": [],
            "source": [
                "import json\n",
                "\n",
                "from allauth.socialaccount.providers.oauth.client import OAuth\n",
                "from allauth.socialaccount.providers.oauth.views import (\n",
                "    OAuthAdapter,\n",
                "    OAuthCallbackView,\n",
                "    OAuthLoginView,\n",
                ")\n",
                "from django.utils.http import urlencode\n",
                "\n",
                "from .provider import FlickrProvider\n"
            ]
        },
        {
            "cell_type": "markdown",
            "metadata": {},
            "source": []
        },
        {
            "cell_type": "code",
            "execution_count": null,
            "metadata": {},
            "outputs": [],
            "source": [
                "class FlickrAPI(OAuth):\n",
                "    api_url = \"https://api.flickr.com/services/rest\"\n",
                "\n",
                "    def get_user_info(self):\n",
                "        default_params = {\"nojsoncallback\": \"1\", \"format\": \"json\"}\n",
                "        p = dict({\"method\": \"flickr.test.login\"}, **default_params)\n",
                "        u = json.loads(self.query(self.api_url + \"?\" + urlencode(p)))\n",
                "\n",
                "        p = dict(\n",
                "            {\"method\": \"flickr.people.getInfo\", \"user_id\": u[\"user\"][\"id\"]},\n",
                "            **default_params,\n",
                "        )\n",
                "        user = json.loads(self.query(self.api_url + \"?\" + urlencode(p)))\n",
                "        return user\n"
            ]
        },
        {
            "cell_type": "markdown",
            "metadata": {},
            "source": []
        },
        {
            "cell_type": "code",
            "execution_count": null,
            "metadata": {},
            "outputs": [],
            "source": [
                "class FlickrOAuthAdapter(OAuthAdapter):\n",
                "    provider_id = FlickrProvider.id\n",
                "    request_token_url = \"http://www.flickr.com/services/oauth/request_token\"\n",
                "    access_token_url = \"http://www.flickr.com/services/oauth/access_token\"\n",
                "    authorize_url = \"http://www.flickr.com/services/oauth/authorize\"\n",
                "\n",
                "    def complete_login(self, request, app, token, response):\n",
                "        client = FlickrAPI(request, app.client_id, app.secret, self.request_token_url)\n",
                "        extra_data = client.get_user_info()\n",
                "        return self.get_provider().sociallogin_from_response(request, extra_data)\n"
            ]
        },
        {
            "cell_type": "markdown",
            "metadata": {},
            "source": []
        },
        {
            "cell_type": "code",
            "execution_count": null,
            "metadata": {},
            "outputs": [],
            "source": [
                "oauth_login = OAuthLoginView.adapter_view(FlickrOAuthAdapter)\n",
                "oauth_callback = OAuthCallbackView.adapter_view(FlickrOAuthAdapter)\n",
                "\n"
            ]
        },
        {
            "cell_type": "markdown",
            "metadata": {},
            "source": []
        }
    ],
    "metadata": {
        "language_info": {
            "name": "python"
        }
    },
    "nbformat": 4,
    "nbformat_minor": 2
}