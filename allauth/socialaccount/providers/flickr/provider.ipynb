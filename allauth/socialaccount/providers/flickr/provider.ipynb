{
 "cells": [
  {
   "cell_type": "code",
   "execution_count": null,
   "metadata": {},
   "outputs": [],
   "source": [
    "from allauth.socialaccount.providers.base import ProviderAccount\n",
    "from allauth.socialaccount.providers.oauth.provider import OAuthProvider"
   ]
  },
  {
   "cell_type": "markdown",
   "metadata": {},
   "source": []
  },
  {
   "cell_type": "code",
   "execution_count": null,
   "metadata": {},
   "outputs": [],
   "source": [
    "class FlickrAccount(ProviderAccount):\n",
    "    def get_profile_url(self):\n",
    "        return self.account.extra_data.get(\"person\").get(\"profileurl\").get(\"_content\")\n",
    "\n",
    "    def get_avatar_url(self):\n",
    "        return self.account.extra_data.get(\"picture-url\")\n",
    "\n",
    "    def to_str(self):\n",
    "        dflt = super(FlickrAccount, self).to_str()\n",
    "\n",
    "        # Try to use name if it exists. If there is no name, the Flickr API\n",
    "        # returns an empty string.\n",
    "        name = (\n",
    "            self.account.extra_data.get(\"person\").get(\"realname\").get(\"_content\", None)\n",
    "        )\n",
    "        if name:\n",
    "            return name\n",
    "\n",
    "        # Default to username if name does not exist.\n",
    "        return (\n",
    "            self.account.extra_data.get(\"person\").get(\"username\").get(\"_content\", dflt)\n",
    "        )"
   ]
  },
  {
   "cell_type": "markdown",
   "metadata": {},
   "source": []
  },
  {
   "cell_type": "code",
   "execution_count": null,
   "metadata": {},
   "outputs": [],
   "source": [
    "class FlickrProvider(OAuthProvider):\n",
    "    id = \"flickr\"\n",
    "    name = \"Flickr\"\n",
    "    account_class = FlickrAccount\n",
    "\n",
    "    def get_default_scope(self):\n",
    "        scope = []\n",
    "        return scope\n",
    "\n",
    "    def get_auth_params_from_request(self, request, action):\n",
    "        ret = super().get_auth_params_from_request(request, action)\n",
    "        if \"perms\" not in ret:\n",
    "            ret[\"perms\"] = \"read\"\n",
    "        return ret\n",
    "\n",
    "    def get_profile_fields(self):\n",
    "        default_fields = [\n",
    "            \"id\",\n",
    "            \"first-name\",\n",
    "            \"last-name\",\n",
    "            \"email-address\",\n",
    "            \"picture-url\",\n",
    "            \"public-profile-url\",\n",
    "        ]\n",
    "        fields = self.get_settings().get(\"PROFILE_FIELDS\", default_fields)\n",
    "        return fields\n",
    "\n",
    "    def extract_uid(self, data):\n",
    "        return data[\"person\"][\"nsid\"]\n",
    "\n",
    "    def extract_common_fields(self, data):\n",
    "        person = data.get(\"person\", {})\n",
    "        name = person.get(\"realname\", {}).get(\"_content\")\n",
    "        username = person.get(\"username\", {}).get(\"_content\")\n",
    "        return dict(email=data.get(\"email-address\"), name=name, username=username)"
   ]
  },
  {
   "cell_type": "markdown",
   "metadata": {},
   "source": []
  },
  {
   "cell_type": "code",
   "execution_count": null,
   "metadata": {},
   "outputs": [],
   "source": [
    "provider_classes = [FlickrProvider]"
   ]
  },
  {
   "cell_type": "markdown",
   "metadata": {},
   "source": []
  }
 ],
 "metadata": {
  "language_info": {
   "name": "python"
  }
 },
 "nbformat": 4,
 "nbformat_minor": 2
}