{
    "cells": [
        {
            "cell_type": "code",
            "execution_count": null,
            "metadata": {},
            "outputs": [],
            "source": [
                "from allauth.account.models import EmailAddress\n",
                "from allauth.socialaccount.providers.base import ProviderAccount\n",
                "from allauth.socialaccount.providers.oauth2.provider import OAuth2Provider\n",
                "from allauth.socialaccount.providers.openid_connect.views import (\n",
                "    OpenIDConnectOAuth2Adapter,\n",
                ")\n",
                "from django.urls import reverse\n",
                "from django.utils.http import urlencode\n"
            ]
        },
        {
            "cell_type": "markdown",
            "metadata": {},
            "source": []
        },
        {
            "cell_type": "code",
            "execution_count": null,
            "metadata": {},
            "outputs": [],
            "source": [
                "class OpenIDConnectProviderAccount(ProviderAccount):\n",
                "    def to_str(self):\n",
                "        dflt = super(OpenIDConnectProviderAccount, self).to_str()\n",
                "        return self.account.extra_data.get(\"name\", dflt)\n"
            ]
        },
        {
            "cell_type": "markdown",
            "metadata": {},
            "source": []
        },
        {
            "cell_type": "code",
            "execution_count": null,
            "metadata": {},
            "outputs": [],
            "source": [
                "class OpenIDConnectProvider(OAuth2Provider):\n",
                "    id = \"openid_connect\"\n",
                "    name = \"OpenID Connect\"\n",
                "    account_class = OpenIDConnectProviderAccount\n",
                "    oauth2_adapter_class = OpenIDConnectOAuth2Adapter\n",
                "\n",
                "    def __init__(self, *args, **kwargs):\n",
                "        super().__init__(*args, **kwargs)\n",
                "        self.name = self.app.name\n",
                "\n",
                "    @property\n",
                "    def server_url(self):\n",
                "        url = self.app.settings[\"server_url\"]\n",
                "        return self.wk_server_url(url)\n",
                "\n",
                "    def wk_server_url(self, url):\n",
                "        well_known_uri = \"/.well-known/openid-configuration\"\n",
                "        if not url.endswith(well_known_uri):\n",
                "            url += well_known_uri\n",
                "        return url\n",
                "\n",
                "    def get_login_url(self, request, **kwargs):\n",
                "        url = reverse(\n",
                "            self.app.provider + \"_login\", kwargs={\"provider_id\": self.app.provider_id}\n",
                "        )\n",
                "        if kwargs:\n",
                "            url = url + \"?\" + urlencode(kwargs)\n",
                "        return url\n",
                "\n",
                "    def get_callback_url(self):\n",
                "        return reverse(\n",
                "            self.app.provider + \"_callback\",\n",
                "            kwargs={\"provider_id\": self.app.provider_id},\n",
                "        )\n",
                "\n",
                "    @property\n",
                "    def token_auth_method(self):\n",
                "        return self.app.settings.get(\"token_auth_method\")\n",
                "\n",
                "    def get_default_scope(self):\n",
                "        return [\"openid\", \"profile\", \"email\"]\n",
                "\n",
                "    def extract_uid(self, data):\n",
                "        return str(data[\"sub\"])\n",
                "\n",
                "    def extract_common_fields(self, data):\n",
                "        return dict(\n",
                "            email=data.get(\"email\"),\n",
                "            username=data.get(\"preferred_username\"),\n",
                "            name=data.get(\"name\"),\n",
                "            user_id=data.get(\"user_id\"),\n",
                "            picture=data.get(\"picture\"),\n",
                "        )\n",
                "\n",
                "    def extract_email_addresses(self, data):\n",
                "        addresses = []\n",
                "        email = data.get(\"email\")\n",
                "        if email:\n",
                "            addresses.append(\n",
                "                EmailAddress(\n",
                "                    email=email,\n",
                "                    verified=data.get(\"email_verified\", False),\n",
                "                    primary=True,\n",
                "                )\n",
                "            )\n",
                "        return addresses\n",
                "\n",
                "    def get_oauth2_adapter(self, request):\n",
                "        return self.oauth2_adapter_class(request, self.app.provider_id)\n"
            ]
        },
        {
            "cell_type": "markdown",
            "metadata": {},
            "source": []
        },
        {
            "cell_type": "code",
            "execution_count": null,
            "metadata": {},
            "outputs": [],
            "source": [
                "provider_classes = [OpenIDConnectProvider]\n",
                "\n"
            ]
        },
        {
            "cell_type": "markdown",
            "metadata": {},
            "source": []
        }
    ],
    "metadata": {
        "language_info": {
            "name": "python"
        }
    },
    "nbformat": 4,
    "nbformat_minor": 2
}