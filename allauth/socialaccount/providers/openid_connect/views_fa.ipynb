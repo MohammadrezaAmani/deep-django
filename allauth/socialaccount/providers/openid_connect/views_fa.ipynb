{
 "cells": [
  {
   "cell_type": "code",
   "execution_count": null,
   "metadata": {},
   "outputs": [],
   "source": [
    "from allauth.socialaccount.adapter import get_adapter\n",
    "from allauth.socialaccount.providers.oauth2.views import (\n",
    "    OAuth2Adapter,\n",
    "    OAuth2CallbackView,\n",
    "    OAuth2LoginView,\n",
    ")\n",
    "from allauth.utils import build_absolute_uri\n",
    "from django.urls import reverse"
   ]
  },
  {
   "cell_type": "markdown",
   "metadata": {},
   "source": []
  },
  {
   "cell_type": "code",
   "execution_count": null,
   "metadata": {},
   "outputs": [],
   "source": [
    "class OpenIDConnectOAuth2Adapter(OAuth2Adapter):\n",
    "    def __init__(self, request, provider_id):\n",
    "        self.provider_id = provider_id\n",
    "        super().__init__(request)\n",
    "\n",
    "    @property\n",
    "    def openid_config(self):\n",
    "        if not hasattr(self, \"_openid_config\"):\n",
    "            server_url = self.get_provider().server_url\n",
    "            resp = get_adapter().get_requests_session().get(server_url)\n",
    "            resp.raise_for_status()\n",
    "            self._openid_config = resp.json()\n",
    "        return self._openid_config\n",
    "\n",
    "    @property\n",
    "    def basic_auth(self):\n",
    "        token_auth_method = self.get_provider().app.settings.get(\"token_auth_method\")\n",
    "        if token_auth_method:\n",
    "            return token_auth_method == \"client_secret_basic\"\n",
    "        return \"client_secret_basic\" in self.openid_config.get(\n",
    "            \"token_endpoint_auth_methods_supported\", []\n",
    "        )\n",
    "\n",
    "    @property\n",
    "    def access_token_url(self):\n",
    "        return self.openid_config[\"token_endpoint\"]\n",
    "\n",
    "    @property\n",
    "    def authorize_url(self):\n",
    "        return self.openid_config[\"authorization_endpoint\"]\n",
    "\n",
    "    @property\n",
    "    def profile_url(self):\n",
    "        return self.openid_config[\"userinfo_endpoint\"]\n",
    "\n",
    "    def complete_login(self, request, app, token, response):\n",
    "        response = (\n",
    "            get_adapter()\n",
    "            .get_requests_session()\n",
    "            .get(self.profile_url, headers={\"Authorization\": \"Bearer \" + str(token)})\n",
    "        )\n",
    "        response.raise_for_status()\n",
    "        extra_data = response.json()\n",
    "        return self.get_provider().sociallogin_from_response(request, extra_data)\n",
    "\n",
    "    def get_callback_url(self, request, app):\n",
    "        callback_url = reverse(\n",
    "            \"openid_connect_callback\", kwargs={\"provider_id\": self.provider_id}\n",
    "        )\n",
    "        protocol = self.redirect_uri_protocol\n",
    "        return build_absolute_uri(request, callback_url, protocol)"
   ]
  },
  {
   "cell_type": "markdown",
   "metadata": {},
   "source": []
  },
  {
   "cell_type": "code",
   "execution_count": null,
   "metadata": {},
   "outputs": [],
   "source": [
    "def login(request, provider_id):\n",
    "    view = OAuth2LoginView.adapter_view(\n",
    "        OpenIDConnectOAuth2Adapter(request, provider_id)\n",
    "    )\n",
    "    return view(request)"
   ]
  },
  {
   "cell_type": "markdown",
   "metadata": {},
   "source": []
  },
  {
   "cell_type": "code",
   "execution_count": null,
   "metadata": {},
   "outputs": [],
   "source": [
    "def callback(request, provider_id):\n",
    "    view = OAuth2CallbackView.adapter_view(\n",
    "        OpenIDConnectOAuth2Adapter(request, provider_id)\n",
    "    )\n",
    "    return view(request)"
   ]
  },
  {
   "cell_type": "markdown",
   "metadata": {},
   "source": []
  }
 ],
 "metadata": {
  "language_info": {
   "name": "python"
  }
 },
 "nbformat": 4,
 "nbformat_minor": 2
}