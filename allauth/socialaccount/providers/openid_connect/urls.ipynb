{
    "cells": [
        {
            "cell_type": "code",
            "execution_count": null,
            "metadata": {},
            "outputs": [],
            "source": [
                "from django.urls import include, path, re_path\n",
                "\n",
                "from allauth.socialaccount import app_settings\n",
                "\n",
                "from . import views\n"
            ]
        },
        {
            "cell_type": "markdown",
            "metadata": {},
            "source": []
        },
        {
            "cell_type": "code",
            "execution_count": null,
            "metadata": {},
            "outputs": [],
            "source": [
                "urlpatterns = [\n",
                "    re_path(\n",
                "        r\"^(?P<provider_id>[^/]+)/\",\n",
                "        include(\n",
                "            [\n",
                "                path(\n",
                "                    \"login/\",\n",
                "                    views.login,\n",
                "                    name=\"openid_connect_login\",\n",
                "                ),\n",
                "                path(\n",
                "                    \"login/callback/\",\n",
                "                    views.callback,\n",
                "                    name=\"openid_connect_callback\",\n",
                "                ),\n",
                "            ]\n",
                "        ),\n",
                "    )\n",
                "]\n",
                "\n",
                "if app_settings.OPENID_CONNECT_URL_PREFIX:\n",
                "    urlpatterns = [\n",
                "        path(f\"{app_settings.OPENID_CONNECT_URL_PREFIX}/\", include(urlpatterns))\n",
                "    ]\n",
                "\n"
            ]
        },
        {
            "cell_type": "markdown",
            "metadata": {},
            "source": []
        }
    ],
    "metadata": {
        "language_info": {
            "name": "python"
        }
    },
    "nbformat": 4,
    "nbformat_minor": 2
}