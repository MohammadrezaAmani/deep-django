{
    "cells": [
        {
            "cell_type": "code",
            "execution_count": null,
            "metadata": {},
            "outputs": [],
            "source": [
                "from allauth.socialaccount.providers.base import ProviderAccount\n",
                "from allauth.socialaccount.providers.oauth2.provider import OAuth2Provider\n",
                "from allauth.socialaccount.providers.twitch.views import TwitchOAuth2Adapter\n"
            ]
        },
        {
            "cell_type": "markdown",
            "metadata": {},
            "source": []
        },
        {
            "cell_type": "code",
            "execution_count": null,
            "metadata": {},
            "outputs": [],
            "source": [
                "class TwitchAccount(ProviderAccount):\n",
                "    def get_profile_url(self):\n",
                "        return \"http://twitch.tv/\" + self.account.extra_data.get(\"login\")\n",
                "\n",
                "    def get_avatar_url(self):\n",
                "        # We're using `logo` as a failback for legacy profiles retrieved\n",
                "        # with the old https://api.twitch.tv/kraken/user endpoint.\n",
                "        logo = self.account.extra_data.get(\"logo\")\n",
                "        return self.account.extra_data.get(\"profile_image_url\", logo)\n",
                "\n",
                "    def to_str(self):\n",
                "        dflt = super(TwitchAccount, self).to_str()\n",
                "        return self.account.extra_data.get(\"login\", dflt)\n"
            ]
        },
        {
            "cell_type": "markdown",
            "metadata": {},
            "source": []
        },
        {
            "cell_type": "code",
            "execution_count": null,
            "metadata": {},
            "outputs": [],
            "source": [
                "class TwitchProvider(OAuth2Provider):\n",
                "    id = \"twitch\"\n",
                "    name = \"Twitch\"\n",
                "    account_class = TwitchAccount\n",
                "    oauth2_adapter_class = TwitchOAuth2Adapter\n",
                "\n",
                "    def extract_uid(self, data):\n",
                "        return str(data[\"id\"])\n",
                "\n",
                "    def extract_common_fields(self, data):\n",
                "        return {\n",
                "            \"username\": data.get(\"login\"),\n",
                "            \"name\": data.get(\"display_name\"),\n",
                "            \"email\": data.get(\"email\"),\n",
                "        }\n",
                "\n",
                "    def get_default_scope(self):\n",
                "        return [\"user:read:email\"]\n"
            ]
        },
        {
            "cell_type": "markdown",
            "metadata": {},
            "source": []
        },
        {
            "cell_type": "code",
            "execution_count": null,
            "metadata": {},
            "outputs": [],
            "source": [
                "provider_classes = [TwitchProvider]\n",
                "\n"
            ]
        },
        {
            "cell_type": "markdown",
            "metadata": {},
            "source": []
        }
    ],
    "metadata": {
        "language_info": {
            "name": "python"
        }
    },
    "nbformat": 4,
    "nbformat_minor": 2
}