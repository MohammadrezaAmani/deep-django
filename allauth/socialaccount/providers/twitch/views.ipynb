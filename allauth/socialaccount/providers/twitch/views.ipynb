{
 "cells": [
  {
   "cell_type": "code",
   "execution_count": null,
   "metadata": {},
   "outputs": [],
   "source": [
    "from allauth.socialaccount.adapter import get_adapter\n",
    "from allauth.socialaccount.providers.oauth2.client import OAuth2Error\n",
    "from allauth.socialaccount.providers.oauth2.views import (\n",
    "    OAuth2Adapter,\n",
    "    OAuth2CallbackView,\n",
    "    OAuth2LoginView,\n",
    ")"
   ]
  },
  {
   "cell_type": "markdown",
   "metadata": {},
   "source": []
  },
  {
   "cell_type": "code",
   "execution_count": null,
   "metadata": {},
   "outputs": [],
   "source": [
    "class TwitchOAuth2Adapter(OAuth2Adapter):\n",
    "    provider_id = \"twitch\"\n",
    "    access_token_url = \"https://id.twitch.tv/oauth2/token\"\n",
    "    authorize_url = \"https://id.twitch.tv/oauth2/authorize\"\n",
    "    profile_url = \"https://api.twitch.tv/helix/users\"\n",
    "\n",
    "    def complete_login(self, request, app, token, **kwargs):\n",
    "        headers = {\n",
    "            \"Authorization\": \"Bearer {}\".format(token.token),\n",
    "            \"Client-ID\": app.client_id,\n",
    "        }\n",
    "        response = (\n",
    "            get_adapter().get_requests_session().get(self.profile_url, headers=headers)\n",
    "        )\n",
    "\n",
    "        data = response.json()\n",
    "        if response.status_code >= 400:\n",
    "            error = data.get(\"error\", \"\")\n",
    "            message = data.get(\"message\", \"\")\n",
    "            raise OAuth2Error(\"Twitch API Error: %s (%s)\" % (error, message))\n",
    "\n",
    "        try:\n",
    "            user_info = data.get(\"data\", [])[0]\n",
    "        except IndexError:\n",
    "            raise OAuth2Error(\"Invalid data from Twitch API: %s\" % (data))\n",
    "\n",
    "        if \"id\" not in user_info:\n",
    "            raise OAuth2Error(\"Invalid data from Twitch API: %s\" % (user_info))\n",
    "\n",
    "        return self.get_provider().sociallogin_from_response(request, user_info)"
   ]
  },
  {
   "cell_type": "markdown",
   "metadata": {},
   "source": []
  },
  {
   "cell_type": "code",
   "execution_count": null,
   "metadata": {},
   "outputs": [],
   "source": [
    "oauth2_login = OAuth2LoginView.adapter_view(TwitchOAuth2Adapter)\n",
    "oauth2_callback = OAuth2CallbackView.adapter_view(TwitchOAuth2Adapter)"
   ]
  },
  {
   "cell_type": "markdown",
   "metadata": {},
   "source": []
  }
 ],
 "metadata": {
  "language_info": {
   "name": "python"
  }
 },
 "nbformat": 4,
 "nbformat_minor": 2
}