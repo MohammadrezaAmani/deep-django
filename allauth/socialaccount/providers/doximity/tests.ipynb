{
 "cells": [
  {
   "cell_type": "code",
   "execution_count": null,
   "metadata": {},
   "outputs": [],
   "source": [
    "from allauth.socialaccount.tests import OAuth2TestsMixin\n",
    "from allauth.tests import MockedResponse, TestCase\n",
    "\n",
    "from .provider import DoximityProvider"
   ]
  },
  {
   "cell_type": "markdown",
   "metadata": {},
   "source": []
  },
  {
   "cell_type": "code",
   "execution_count": null,
   "metadata": {},
   "outputs": [],
   "source": [
    "class DoximityTests(OAuth2TestsMixin, TestCase):\n",
    "    provider_id = DoximityProvider.id\n",
    "\n",
    "    def get_mocked_response(self):\n",
    "        return MockedResponse(\n",
    "            200,\n",
    "            \"\"\"\n",
    "        {\n",
    "            \"id\": 41993552342,\n",
    "            \"npi\": 1952635229,\n",
    "            \"firstname\": \"John\",\n",
    "            \"middlename\": \"Henry\",\n",
    "            \"maiden_name\": null,\n",
    "            \"lastname\": \"Smith\",\n",
    "            \"full_name\": \"Ahmed S Belal, MD\",\n",
    "            \"gender\": \"M\",\n",
    "            \"city\": \"San Francisco\",\n",
    "            \"state\": \"CA\",\n",
    "            \"zip\": \"94107\",\n",
    "            \"phone\": \"(650) 200-3901\",\n",
    "            \"fax\": \"888-416-8572\",\n",
    "            \"email\": \"abelalmd@example.com\",\n",
    "            \"address_1\": \"500 3rd St.\",\n",
    "            \"address_2\": \"Suite 510\",\n",
    "            \"lat\": 42.3663926,\n",
    "            \"lon\": -71.051395,\n",
    "            \"additional_locations\": [{\n",
    "                \"address_1\": \"12 Main st\",\n",
    "                \"address_2\": null,\n",
    "                \"city\": \"Cambridge\",\n",
    "                \"state\": \"MA\",\n",
    "                \"phone\": \"555-555-5555\",\n",
    "                \"fax\": null,\n",
    "                \"zip\": \"02138\"\n",
    "            }],\n",
    "            \"credentials\": \"MD\",\n",
    "            \"verified\": true,\n",
    "            \"description\": \"Chief of Cardiology\",\n",
    "            \"medical_school\": \"UCSF School of Medicine\",\n",
    "            \"residencies\": [\"Stanford Medical Center\", \"Mt Sinai Hospital\"],\n",
    "            \"specialty\": \"Cardiology\",\n",
    "            \"specialty_details\": {\n",
    "                \"abbr\": \"Cards\",\n",
    "                \"code\": \"CA00\",\n",
    "                \"credential_id\": 4,\n",
    "                \"name\": \"Cardiology\",\n",
    "                \"id\": \"CA00\"\n",
    "            },\n",
    "            \"hospitals\": [{\n",
    "                \"name\": \"Mills-Peninsula Health Services\",\n",
    "                \"aha_id\": \"6930315\"\n",
    "            }],\n",
    "            \"subspecialties\": [\"General Cardiology\", \"Cardiac Disease\"],\n",
    "            \"profile_photo\": \"https://s3.amazonaws.com/doximity_prod_uploads\\\n",
    "/profile_photos/7969/normal/profile.png\",\n",
    "            \"colleague_count\": 142\n",
    "        }\n",
    "\"\"\",\n",
    "        )"
   ]
  },
  {
   "cell_type": "markdown",
   "metadata": {},
   "source": []
  }
 ],
 "metadata": {
  "language_info": {
   "name": "python"
  }
 },
 "nbformat": 4,
 "nbformat_minor": 2
}