{
 "cells": [
  {
   "cell_type": "code",
   "execution_count": null,
   "metadata": {},
   "outputs": [],
   "source": [
    "from allauth.socialaccount.providers.base import ProviderAccount\n",
    "from allauth.socialaccount.providers.doximity.views import (\n",
    "    DoximityOAuth2Adapter,\n",
    ")\n",
    "from allauth.socialaccount.providers.oauth2.provider import OAuth2Provider"
   ]
  },
  {
   "cell_type": "markdown",
   "metadata": {},
   "source": []
  },
  {
   "cell_type": "code",
   "execution_count": null,
   "metadata": {},
   "outputs": [],
   "source": [
    "class DoximityAccount(ProviderAccount):\n",
    "    def get_profile_url(self):\n",
    "        return None\n",
    "\n",
    "    def get_avatar_url(self):\n",
    "        return self.account.extra_data.get(\"profile_photo\")\n",
    "\n",
    "    def to_str(self):\n",
    "        dflt = super(DoximityAccount, self).to_str()\n",
    "        return self.account.extra_data.get(\"full_name\", dflt)"
   ]
  },
  {
   "cell_type": "markdown",
   "metadata": {},
   "source": []
  },
  {
   "cell_type": "code",
   "execution_count": null,
   "metadata": {},
   "outputs": [],
   "source": [
    "class DoximityProvider(OAuth2Provider):\n",
    "    id = \"doximity\"\n",
    "    name = \"Doximity\"\n",
    "    account_class = DoximityAccount\n",
    "    oauth2_adapter_class = DoximityOAuth2Adapter\n",
    "\n",
    "    def extract_uid(self, data):\n",
    "        return str(data[\"id\"])  # the Doximity id is long\n",
    "\n",
    "    def extract_common_fields(self, data):\n",
    "        return dict(\n",
    "            username=data.get(\"email\"),\n",
    "            first_name=data.get(\"firstname\"),\n",
    "            last_name=data.get(\"lastname\"),\n",
    "            email=data.get(\"email\"),\n",
    "            name=data.get(\"full_name\"),\n",
    "        )\n",
    "\n",
    "    def get_default_scope(self):\n",
    "        return [\"basic\", \"email\"]"
   ]
  },
  {
   "cell_type": "markdown",
   "metadata": {},
   "source": []
  },
  {
   "cell_type": "code",
   "execution_count": null,
   "metadata": {},
   "outputs": [],
   "source": [
    "provider_classes = [DoximityProvider]"
   ]
  },
  {
   "cell_type": "markdown",
   "metadata": {},
   "source": []
  }
 ],
 "metadata": {
  "language_info": {
   "name": "python"
  }
 },
 "nbformat": 4,
 "nbformat_minor": 2
}