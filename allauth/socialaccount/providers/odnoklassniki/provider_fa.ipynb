{
 "cells": [
  {
   "cell_type": "code",
   "execution_count": null,
   "metadata": {},
   "outputs": [],
   "source": [
    "from allauth.socialaccount.providers.base import ProviderAccount\n",
    "from allauth.socialaccount.providers.oauth2.provider import OAuth2Provider\n",
    "from allauth.socialaccount.providers.odnoklassniki.views import (\n",
    "    OdnoklassnikiOAuth2Adapter,\n",
    ")"
   ]
  },
  {
   "cell_type": "markdown",
   "metadata": {},
   "source": []
  },
  {
   "cell_type": "code",
   "execution_count": null,
   "metadata": {},
   "outputs": [],
   "source": [
    "class OdnoklassnikiAccount(ProviderAccount):\n",
    "    def get_profile_url(self):\n",
    "        return \"https://ok.ru/profile/\" + self.account.extra_data[\"uid\"]\n",
    "\n",
    "    def get_avatar_url(self):\n",
    "        ret = None\n",
    "        pic_big_url = self.account.extra_data.get(\"pic1024x768\")\n",
    "        pic_medium_url = self.account.extra_data.get(\"pic640x480\")\n",
    "        pic_small_url = self.account.extra_data.get(\"pic190x190\")\n",
    "        if pic_big_url:\n",
    "            return pic_big_url\n",
    "        elif pic_medium_url:\n",
    "            return pic_medium_url\n",
    "        elif pic_small_url:\n",
    "            return pic_small_url\n",
    "        else:\n",
    "            return ret\n",
    "\n",
    "    def to_str(self):\n",
    "        dflt = super(OdnoklassnikiAccount, self).to_str()\n",
    "        return self.account.extra_data.get(\"name\", dflt)"
   ]
  },
  {
   "cell_type": "markdown",
   "metadata": {},
   "source": []
  },
  {
   "cell_type": "code",
   "execution_count": null,
   "metadata": {},
   "outputs": [],
   "source": [
    "class OdnoklassnikiProvider(OAuth2Provider):\n",
    "    id = \"odnoklassniki\"\n",
    "    name = \"Odnoklassniki\"\n",
    "    account_class = OdnoklassnikiAccount\n",
    "    oauth2_adapter_class = OdnoklassnikiOAuth2Adapter\n",
    "\n",
    "    def extract_uid(self, data):\n",
    "        return data[\"uid\"]\n",
    "\n",
    "    def extract_common_fields(self, data):\n",
    "        return dict(\n",
    "            last_name=data.get(\"last_name\"),\n",
    "            first_name=data.get(\"first_name\"),\n",
    "            email=data.get(\"email\"),\n",
    "        )"
   ]
  },
  {
   "cell_type": "markdown",
   "metadata": {},
   "source": []
  },
  {
   "cell_type": "code",
   "execution_count": null,
   "metadata": {},
   "outputs": [],
   "source": [
    "provider_classes = [OdnoklassnikiProvider]"
   ]
  },
  {
   "cell_type": "markdown",
   "metadata": {},
   "source": []
  }
 ],
 "metadata": {
  "language_info": {
   "name": "python"
  }
 },
 "nbformat": 4,
 "nbformat_minor": 2
}