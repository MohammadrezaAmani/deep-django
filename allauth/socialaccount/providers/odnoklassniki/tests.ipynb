{
    "cells": [
        {
            "cell_type": "code",
            "execution_count": null,
            "metadata": {},
            "outputs": [],
            "source": [
                "from allauth.socialaccount.tests import OAuth2TestsMixin\n",
                "from allauth.tests import MockedResponse, TestCase\n",
                "\n",
                "from .provider import OdnoklassnikiProvider\n"
            ]
        },
        {
            "cell_type": "markdown",
            "metadata": {},
            "source": []
        },
        {
            "cell_type": "code",
            "execution_count": null,
            "metadata": {},
            "outputs": [],
            "source": [
                "class OdnoklassnikiTests(OAuth2TestsMixin, TestCase):\n",
                "    provider_id = OdnoklassnikiProvider.id\n",
                "\n",
                "    def get_mocked_response(self, verified_email=True):\n",
                "        return MockedResponse(\n",
                "            200,\n",
                "            \"\"\"\n",
                "{\"uid\":\"561999209121\",\"birthday\":\"1999-09-09\",\"age\":33,\"first_name\":\"Ivan\",\n",
                "\"last_name\":\"Petrov\",\"name\":\"Ivan Petrov\",\"locale\":\"en\",\"gender\":\"male\",\n",
                "\"has_email\":true,\"location\":{\"city\":\"Moscow\",\"country\":\"RUSSIAN_FEDERATION\",\n",
                "\"countryCode\":\"RU\",\"countryName\":\"Russia\"},\"online\":\"web\",\"pic_1\":\n",
                "\"http://i500.mycdn.me/res/stub_50x50.gif\",\n",
                "\"pic_2\":\"http://usd1.mycdn.me/res/stub_128x96.gif\"}\n",
                "\"\"\",\n",
                "        )\n",
                "\n",
                "    def get_login_response_json(self, with_refresh_token=True):\n",
                "        return '{\"access_token\": \"testac\"}'  # noqa\n",
                "\n"
            ]
        },
        {
            "cell_type": "markdown",
            "metadata": {},
            "source": []
        }
    ],
    "metadata": {
        "language_info": {
            "name": "python"
        }
    },
    "nbformat": 4,
    "nbformat_minor": 2
}