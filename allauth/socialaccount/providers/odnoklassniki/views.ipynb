{
 "cells": [
  {
   "cell_type": "code",
   "execution_count": null,
   "metadata": {},
   "outputs": [],
   "source": [
    "from hashlib import md5\n",
    "\n",
    "from allauth.socialaccount.adapter import get_adapter\n",
    "from allauth.socialaccount.providers.oauth2.views import (\n",
    "    OAuth2Adapter,\n",
    "    OAuth2CallbackView,\n",
    "    OAuth2LoginView,\n",
    ")"
   ]
  },
  {
   "cell_type": "markdown",
   "metadata": {},
   "source": []
  },
  {
   "cell_type": "code",
   "execution_count": null,
   "metadata": {},
   "outputs": [],
   "source": [
    "USER_FIELDS = [\n",
    "    \"age\",\n",
    "    \"birthday\",\n",
    "    \"current_status\",\n",
    "    \"current_status_date\",\n",
    "    \"current_status_id\",\n",
    "    \"email\",\n",
    "    \"first_name\",\n",
    "    \"gender\",\n",
    "    \"has_email\",\n",
    "    \"last_name\",\n",
    "    \"locale\",\n",
    "    \"location\",\n",
    "    \"name\",\n",
    "    \"online\",\n",
    "    \"photo_id\",\n",
    "    \"pic1024x768\",  # big\n",
    "    \"pic190x190\",  # small\n",
    "    \"pic640x480\",  # medium\n",
    "    \"pic_1\",  # aka pic50x50\n",
    "    \"pic_2\",  # aka pic128max\n",
    "    \"uid\",\n",
    "]"
   ]
  },
  {
   "cell_type": "markdown",
   "metadata": {},
   "source": []
  },
  {
   "cell_type": "code",
   "execution_count": null,
   "metadata": {},
   "outputs": [],
   "source": [
    "class OdnoklassnikiOAuth2Adapter(OAuth2Adapter):\n",
    "    provider_id = \"odnoklassniki\"\n",
    "    access_token_url = \"https://api.odnoklassniki.ru/oauth/token.do\"\n",
    "    authorize_url = \"https://www.odnoklassniki.ru/oauth/authorize\"\n",
    "    profile_url = \"https://api.odnoklassniki.ru/fb.do\"\n",
    "    access_token_method = \"POST\"\n",
    "\n",
    "    def complete_login(self, request, app, token, **kwargs):\n",
    "        data = {\n",
    "            \"method\": \"users.getCurrentUser\",\n",
    "            \"access_token\": token.token,\n",
    "            \"fields\": \",\".join(USER_FIELDS),\n",
    "            \"format\": \"JSON\",\n",
    "            \"application_key\": app.key,\n",
    "        }\n",
    "        suffix = md5(\n",
    "            \"{0:s}{1:s}\".format(data[\"access_token\"], app.secret).encode(\"utf-8\")\n",
    "        ).hexdigest()\n",
    "        check_list = sorted(\n",
    "            [\"{0:s}={1:s}\".format(k, v) for k, v in data.items() if k != \"access_token\"]\n",
    "        )\n",
    "        data[\"sig\"] = md5((\"\".join(check_list) + suffix).encode(\"utf-8\")).hexdigest()\n",
    "\n",
    "        response = (\n",
    "            get_adapter().get_requests_session().get(self.profile_url, params=data)\n",
    "        )\n",
    "        extra_data = response.json()\n",
    "        return self.get_provider().sociallogin_from_response(request, extra_data)"
   ]
  },
  {
   "cell_type": "markdown",
   "metadata": {},
   "source": []
  },
  {
   "cell_type": "code",
   "execution_count": null,
   "metadata": {},
   "outputs": [],
   "source": [
    "oauth2_login = OAuth2LoginView.adapter_view(OdnoklassnikiOAuth2Adapter)\n",
    "oauth2_callback = OAuth2CallbackView.adapter_view(OdnoklassnikiOAuth2Adapter)"
   ]
  },
  {
   "cell_type": "markdown",
   "metadata": {},
   "source": []
  }
 ],
 "metadata": {
  "language_info": {
   "name": "python"
  }
 },
 "nbformat": 4,
 "nbformat_minor": 2
}