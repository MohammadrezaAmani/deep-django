{
 "cells": [
  {
   "cell_type": "code",
   "execution_count": null,
   "metadata": {},
   "outputs": [],
   "source": [
    "from allauth.socialaccount.providers.base import ProviderAccount\n",
    "from allauth.socialaccount.providers.coinbase.views import (\n",
    "    CoinbaseOAuth2Adapter,\n",
    ")\n",
    "from allauth.socialaccount.providers.oauth2.provider import OAuth2Provider"
   ]
  },
  {
   "cell_type": "markdown",
   "metadata": {},
   "source": []
  },
  {
   "cell_type": "code",
   "execution_count": null,
   "metadata": {},
   "outputs": [],
   "source": [
    "class CoinbaseAccount(ProviderAccount):\n",
    "    def get_avatar_url(self):\n",
    "        return None\n",
    "\n",
    "    def to_str(self):\n",
    "        return self.account.extra_data.get(\n",
    "            \"name\", super(CoinbaseAccount, self).to_str()\n",
    "        )"
   ]
  },
  {
   "cell_type": "markdown",
   "metadata": {},
   "source": []
  },
  {
   "cell_type": "code",
   "execution_count": null,
   "metadata": {},
   "outputs": [],
   "source": [
    "class CoinbaseProvider(OAuth2Provider):\n",
    "    id = \"coinbase\"\n",
    "    name = \"Coinbase\"\n",
    "    account_class = CoinbaseAccount\n",
    "    oauth2_adapter_class = CoinbaseOAuth2Adapter\n",
    "\n",
    "    def get_default_scope(self):\n",
    "        # See: https://coinbase.com/docs/api/permissions\n",
    "        return [\"wallet:user:email\"]\n",
    "\n",
    "    def extract_uid(self, data):\n",
    "        return str(data[\"id\"])\n",
    "\n",
    "    def extract_common_fields(self, data):\n",
    "        # See: https://coinbase.com/api/doc/1.0/users/index.html\n",
    "        return dict(email=data[\"email\"])"
   ]
  },
  {
   "cell_type": "markdown",
   "metadata": {},
   "source": []
  },
  {
   "cell_type": "code",
   "execution_count": null,
   "metadata": {},
   "outputs": [],
   "source": [
    "provider_classes = [CoinbaseProvider]"
   ]
  },
  {
   "cell_type": "markdown",
   "metadata": {},
   "source": []
  }
 ],
 "metadata": {
  "language_info": {
   "name": "python"
  }
 },
 "nbformat": 4,
 "nbformat_minor": 2
}