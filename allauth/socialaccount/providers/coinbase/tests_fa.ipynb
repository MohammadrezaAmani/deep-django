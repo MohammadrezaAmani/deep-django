{
 "cells": [
  {
   "cell_type": "code",
   "execution_count": null,
   "metadata": {},
   "outputs": [],
   "source": [
    "from allauth.socialaccount.tests import OAuth2TestsMixin\n",
    "from allauth.tests import MockedResponse, TestCase\n",
    "\n",
    "from .provider import CoinbaseProvider"
   ]
  },
  {
   "cell_type": "markdown",
   "metadata": {},
   "source": []
  },
  {
   "cell_type": "code",
   "execution_count": null,
   "metadata": {},
   "outputs": [],
   "source": [
    "class CoinbaseTests(OAuth2TestsMixin, TestCase):\n",
    "    provider_id = CoinbaseProvider.id\n",
    "\n",
    "    def get_mocked_response(self):\n",
    "        return MockedResponse(\n",
    "            200,\n",
    "            \"\"\"{\n",
    "          \"id\": \"9da7a204-544e-5fd1-9a12-61176c5d4cd8\",\n",
    "          \"name\": \"User One\",\n",
    "          \"username\": \"user1\",\n",
    "          \"email\": \"user1@example.com\",\n",
    "          \"profile_location\": null,\n",
    "          \"profile_bio\": null,\n",
    "          \"profile_url\": \"https://coinbase.com/user1\",\n",
    "          \"avatar_url\": \"https://images.coinbase.com/avatar?h=vR%2FY8igBoPwuwGren5JMwvDNGpURAY%2F0nRIOgH%2FY2Qh%2BQ6nomR3qusA%2Bh6o2%0Af9rH&s=128\",\n",
    "          \"resource\": \"user\",\n",
    "          \"resource_path\": \"/v2/user\"\n",
    "            }\"\"\",\n",
    "        )"
   ]
  },
  {
   "cell_type": "markdown",
   "metadata": {},
   "source": []
  }
 ],
 "metadata": {
  "language_info": {
   "name": "python"
  }
 },
 "nbformat": 4,
 "nbformat_minor": 2
}