{
    "cells": [
        {
            "cell_type": "code",
            "execution_count": null,
            "metadata": {},
            "outputs": [],
            "source": [
                "from allauth.socialaccount import app_settings\n",
                "from allauth.socialaccount.adapter import get_adapter\n",
                "from allauth.socialaccount.providers.oauth2.views import (\n",
                "    OAuth2Adapter,\n",
                "    OAuth2CallbackView,\n",
                "    OAuth2LoginView,\n",
                ")\n"
            ]
        },
        {
            "cell_type": "markdown",
            "metadata": {},
            "source": []
        },
        {
            "cell_type": "code",
            "execution_count": null,
            "metadata": {},
            "outputs": [],
            "source": [
                "class AgaveAdapter(OAuth2Adapter):\n",
                "    provider_id = \"agave\"\n",
                "\n",
                "    settings = app_settings.PROVIDERS.get(provider_id, {})\n",
                "    provider_base_url = settings.get(\"API_URL\", \"https://public.agaveapi.co\")\n",
                "\n",
                "    access_token_url = \"{0}/token\".format(provider_base_url)\n",
                "    authorize_url = \"{0}/authorize\".format(provider_base_url)\n",
                "    profile_url = \"{0}/profiles/v2/me\".format(provider_base_url)\n",
                "\n",
                "    def complete_login(self, request, app, token, response):\n",
                "        extra_data = (\n",
                "            get_adapter()\n",
                "            .get_requests_session()\n",
                "            .get(\n",
                "                self.profile_url,\n",
                "                params={\"access_token\": token.token},\n",
                "                headers={\n",
                "                    \"Authorization\": \"Bearer \" + token.token,\n",
                "                },\n",
                "            )\n",
                "        )\n",
                "\n",
                "        user_profile = (\n",
                "            extra_data.json()[\"result\"] if \"result\" in extra_data.json() else {}\n",
                "        )\n",
                "\n",
                "        return self.get_provider().sociallogin_from_response(request, user_profile)\n"
            ]
        },
        {
            "cell_type": "markdown",
            "metadata": {},
            "source": []
        },
        {
            "cell_type": "code",
            "execution_count": null,
            "metadata": {},
            "outputs": [],
            "source": [
                "oauth2_login = OAuth2LoginView.adapter_view(AgaveAdapter)\n",
                "oauth2_callback = OAuth2CallbackView.adapter_view(AgaveAdapter)\n",
                "\n"
            ]
        },
        {
            "cell_type": "markdown",
            "metadata": {},
            "source": []
        }
    ],
    "metadata": {
        "language_info": {
            "name": "python"
        }
    },
    "nbformat": 4,
    "nbformat_minor": 2
}