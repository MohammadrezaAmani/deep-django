{
 "cells": [
  {
   "cell_type": "code",
   "execution_count": null,
   "metadata": {},
   "outputs": [],
   "source": [
    "from allauth.socialaccount.providers.agave.views import AgaveAdapter\n",
    "from allauth.socialaccount.providers.base import ProviderAccount\n",
    "from allauth.socialaccount.providers.oauth2.provider import OAuth2Provider"
   ]
  },
  {
   "cell_type": "markdown",
   "metadata": {},
   "source": []
  },
  {
   "cell_type": "code",
   "execution_count": null,
   "metadata": {},
   "outputs": [],
   "source": [
    "class AgaveAccount(ProviderAccount):\n",
    "    def get_profile_url(self):\n",
    "        return self.account.extra_data.get(\"web_url\", \"dflt\")\n",
    "\n",
    "    def get_avatar_url(self):\n",
    "        return self.account.extra_data.get(\"avatar_url\", \"dflt\")\n",
    "\n",
    "    def to_str(self):\n",
    "        dflt = super(AgaveAccount, self).to_str()\n",
    "        return self.account.extra_data.get(\"name\", dflt)"
   ]
  },
  {
   "cell_type": "markdown",
   "metadata": {},
   "source": []
  },
  {
   "cell_type": "code",
   "execution_count": null,
   "metadata": {},
   "outputs": [],
   "source": [
    "class AgaveProvider(OAuth2Provider):\n",
    "    id = \"agave\"\n",
    "    name = \"Agave\"\n",
    "    account_class = AgaveAccount\n",
    "    oauth2_adapter_class = AgaveAdapter\n",
    "\n",
    "    def extract_uid(self, data):\n",
    "        return str(data.get(\"create_time\"))\n",
    "\n",
    "    def extract_common_fields(self, data):\n",
    "        return dict(\n",
    "            email=data.get(\"email\"),\n",
    "            username=data.get(\"username\", \"\"),\n",
    "            name=(\n",
    "                (data.get(\"first_name\", \"\") + \" \" + data.get(\"last_name\", \"\")).strip()\n",
    "            ),\n",
    "        )\n",
    "\n",
    "    def get_default_scope(self):\n",
    "        scope = [\"PRODUCTION\"]\n",
    "        return scope"
   ]
  },
  {
   "cell_type": "markdown",
   "metadata": {},
   "source": []
  },
  {
   "cell_type": "code",
   "execution_count": null,
   "metadata": {},
   "outputs": [],
   "source": [
    "provider_classes = [AgaveProvider]"
   ]
  },
  {
   "cell_type": "markdown",
   "metadata": {},
   "source": []
  }
 ],
 "metadata": {
  "language_info": {
   "name": "python"
  }
 },
 "nbformat": 4,
 "nbformat_minor": 2
}