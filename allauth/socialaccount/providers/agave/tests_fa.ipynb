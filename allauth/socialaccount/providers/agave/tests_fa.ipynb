{
 "cells": [
  {
   "cell_type": "code",
   "execution_count": null,
   "metadata": {},
   "outputs": [],
   "source": [
    "from allauth.socialaccount.tests import OAuth2TestsMixin\n",
    "from allauth.tests import MockedResponse, TestCase\n",
    "\n",
    "from .provider import AgaveProvider"
   ]
  },
  {
   "cell_type": "markdown",
   "metadata": {},
   "source": []
  },
  {
   "cell_type": "code",
   "execution_count": null,
   "metadata": {},
   "outputs": [],
   "source": [
    "class AgaveTests(OAuth2TestsMixin, TestCase):\n",
    "    provider_id = AgaveProvider.id\n",
    "\n",
    "    def get_mocked_response(self):\n",
    "        return MockedResponse(\n",
    "            200,\n",
    "            \"\"\"\n",
    "        {\n",
    "        \"status\": \"success\",\n",
    "        \"message\": \"User details retrieved successfully.\",\n",
    "        \"version\": \"2.0.0-SNAPSHOT-rc3fad\",\n",
    "        \"result\": {\n",
    "          \"first_name\": \"John\",\n",
    "          \"last_name\": \"Doe\",\n",
    "          \"full_name\": \"John Doe\",\n",
    "          \"email\": \"jon@doe.edu\",\n",
    "          \"phone\": \"\",\n",
    "          \"mobile_phone\": \"\",\n",
    "          \"status\": \"Active\",\n",
    "          \"create_time\": \"20180322043812Z\",\n",
    "          \"username\": \"jdoe\"\n",
    "          }\n",
    "        }\n",
    "        \"\"\",\n",
    "        )"
   ]
  },
  {
   "cell_type": "markdown",
   "metadata": {},
   "source": []
  }
 ],
 "metadata": {
  "language_info": {
   "name": "python"
  }
 },
 "nbformat": 4,
 "nbformat_minor": 2
}