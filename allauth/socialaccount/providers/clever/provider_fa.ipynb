{
    "cells": [
        {
            "cell_type": "code",
            "execution_count": null,
            "metadata": {},
            "outputs": [],
            "source": [
                "from allauth.socialaccount import providers\n",
                "from allauth.socialaccount.providers.base import ProviderAccount\n",
                "from allauth.socialaccount.providers.clever.views import CleverOAuth2Adapter\n",
                "from allauth.socialaccount.providers.oauth2.provider import OAuth2Provider\n"
            ]
        },
        {
            "cell_type": "markdown",
            "metadata": {},
            "source": []
        },
        {
            "cell_type": "code",
            "execution_count": null,
            "metadata": {},
            "outputs": [],
            "source": [
                "class CleverAccount(ProviderAccount):\n",
                "    def get_avatar_url(self):\n",
                "        # return self.account.extra_data.get('user').get('image_192', None)\n",
                "        return None\n",
                "\n",
                "    def to_str(self):\n",
                "        dflt = super(CleverAccount, self).to_str()\n",
                "        return \"%s (%s)\" % (\n",
                "            self.account.extra_data.get(\"name\", \"\"),\n",
                "            dflt,\n",
                "        )\n"
            ]
        },
        {
            "cell_type": "markdown",
            "metadata": {},
            "source": []
        },
        {
            "cell_type": "code",
            "execution_count": null,
            "metadata": {},
            "outputs": [],
            "source": [
                "class CleverProvider(OAuth2Provider):\n",
                "    id = \"clever\"\n",
                "    name = \"Clever\"\n",
                "    account_class = CleverAccount\n",
                "    oauth2_adapter_class = CleverOAuth2Adapter\n",
                "\n",
                "    def extract_uid(self, data):\n",
                "        return data[\"data\"][\"id\"]\n",
                "\n",
                "    def get_user_type(self, data):\n",
                "        return list(data.get(\"data\", {}).get(\"roles\", {}).keys())[0]\n",
                "\n",
                "    def extract_common_fields(self, data):\n",
                "        return dict(\n",
                "            first_name=data.get(\"data\", {}).get(\"name\", {}).get(\"first\", None),\n",
                "            last_name=data.get(\"data\", {}).get(\"name\", {}).get(\"last\", None),\n",
                "            username=data.get(\"data\", {})\n",
                "            .get(\"roles\", {})\n",
                "            .get(self.get_user_type(data), {})\n",
                "            .get(\"credentials\", {})\n",
                "            .get(\"district_username\", None),\n",
                "            email=data.get(\"data\", {}).get(\"email\", None),\n",
                "        )\n",
                "\n",
                "    def get_default_scope(self):\n",
                "        return [\n",
                "            \"read:district_admins\",\n",
                "            \"read:districts\",\n",
                "            \"read:resources\",\n",
                "            \"read:school_admins\",\n",
                "            \"read:schools\",\n",
                "            \"read:sections\",\n",
                "            \"read:student_contacts\",\n",
                "            \"read:students\",\n",
                "            \"read:teachers\",\n",
                "            \"read:user_id\",\n",
                "        ]\n"
            ]
        },
        {
            "cell_type": "markdown",
            "metadata": {},
            "source": []
        },
        {
            "cell_type": "code",
            "execution_count": null,
            "metadata": {},
            "outputs": [],
            "source": [
                "providers.registry.register(CleverProvider)\n",
                "\n"
            ]
        },
        {
            "cell_type": "markdown",
            "metadata": {},
            "source": []
        }
    ],
    "metadata": {
        "language_info": {
            "name": "python"
        }
    },
    "nbformat": 4,
    "nbformat_minor": 2
}