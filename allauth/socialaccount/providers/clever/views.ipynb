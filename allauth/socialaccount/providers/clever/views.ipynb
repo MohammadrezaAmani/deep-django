{
 "cells": [
  {
   "cell_type": "code",
   "execution_count": null,
   "metadata": {},
   "outputs": [],
   "source": [
    "from allauth.socialaccount.adapter import get_adapter\n",
    "from allauth.socialaccount.providers.oauth2.client import OAuth2Error\n",
    "from allauth.socialaccount.providers.oauth2.views import (\n",
    "    OAuth2Adapter,\n",
    "    OAuth2CallbackView,\n",
    "    OAuth2LoginView,\n",
    ")"
   ]
  },
  {
   "cell_type": "markdown",
   "metadata": {},
   "source": []
  },
  {
   "cell_type": "code",
   "execution_count": null,
   "metadata": {},
   "outputs": [],
   "source": [
    "class CleverOAuth2Adapter(OAuth2Adapter):\n",
    "    provider_id = \"clever\"\n",
    "\n",
    "    access_token_url = \"https://clever.com/oauth/tokens\"\n",
    "    authorize_url = \"https://clever.com/oauth/authorize\"\n",
    "    identity_url = \"https://api.clever.com/v3.0/me\"\n",
    "    user_details_url = \"https://api.clever.com/v3.0/users\"\n",
    "\n",
    "    def complete_login(self, request, app, token, **kwargs):\n",
    "        extra_data = self.get_data(token.token)\n",
    "        return self.get_provider().sociallogin_from_response(request, extra_data)\n",
    "\n",
    "    def get_data(self, token):\n",
    "        # Verify the user first\n",
    "        resp = (\n",
    "            get_adapter()\n",
    "            .get_requests_session()\n",
    "            .get(\n",
    "                self.identity_url, headers={\"Authorization\": \"Bearer {}\".format(token)}\n",
    "            )\n",
    "        )\n",
    "        if resp.status_code != 200:\n",
    "            raise OAuth2Error()\n",
    "        resp = resp.json()\n",
    "        user_id = resp[\"data\"][\"id\"]\n",
    "        user_details = (\n",
    "            get_adapter()\n",
    "            .get_requests_session()\n",
    "            .get(\n",
    "                \"{}/{}\".format(self.user_details_url, user_id),\n",
    "                headers={\"Authorization\": \"Bearer {}\".format(token)},\n",
    "            )\n",
    "        )\n",
    "        user_details.raise_for_status()\n",
    "        user_details = user_details.json()\n",
    "        return user_details"
   ]
  },
  {
   "cell_type": "markdown",
   "metadata": {},
   "source": []
  },
  {
   "cell_type": "code",
   "execution_count": null,
   "metadata": {},
   "outputs": [],
   "source": [
    "oauth2_login = OAuth2LoginView.adapter_view(CleverOAuth2Adapter)\n",
    "oauth2_callback = OAuth2CallbackView.adapter_view(CleverOAuth2Adapter)"
   ]
  },
  {
   "cell_type": "markdown",
   "metadata": {},
   "source": []
  }
 ],
 "metadata": {
  "language_info": {
   "name": "python"
  }
 },
 "nbformat": 4,
 "nbformat_minor": 2
}