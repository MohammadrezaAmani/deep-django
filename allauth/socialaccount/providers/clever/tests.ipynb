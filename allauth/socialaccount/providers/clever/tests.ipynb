{
    "cells": [
        {
            "cell_type": "code",
            "execution_count": null,
            "metadata": {},
            "outputs": [],
            "source": [
                "from allauth.socialaccount.tests import OAuth2TestsMixin\n",
                "from allauth.tests import MockedResponse, TestCase\n",
                "\n",
                "from .provider import CleverProvider\n"
            ]
        },
        {
            "cell_type": "markdown",
            "metadata": {},
            "source": []
        },
        {
            "cell_type": "code",
            "execution_count": null,
            "metadata": {},
            "outputs": [],
            "source": [
                "class CleverOAuth2Tests(OAuth2TestsMixin, TestCase):\n",
                "    provider_id = CleverProvider.id\n",
                "\n",
                "    def get_mocked_response(self):\n",
                "        return [\n",
                "            MockedResponse(\n",
                "                200,\n",
                "                \"\"\"{\n",
                "            \"type\": \"user\",\n",
                "            \"data\": {\n",
                "                \"id\": \"62027798269867124d10259e\",\n",
                "                \"district\": \"6202763c8243d2100123dae5\",\n",
                "                \"type\": \"user\",\n",
                "                \"authorized_by\": \"district\"\n",
                "            },\n",
                "            \"links\": [\n",
                "                {\n",
                "                \"rel\": \"self\",\n",
                "                \"uri\": \"/me\"\n",
                "                },\n",
                "                {\n",
                "                \"rel\": \"canonical\",\n",
                "                \"uri\": \"/v3.0/users/62027798269867124d10259e\"\n",
                "                },\n",
                "                {\n",
                "                \"rel\": \"district\",\n",
                "                \"uri\": \"/v3.0/districts/6202763c8243d2100123dae5\"\n",
                "                }\n",
                "            ]\n",
                "        }\"\"\",\n",
                "            ),\n",
                "            MockedResponse(\n",
                "                200,\n",
                "                \"\"\"{\n",
                "                \"data\": {\n",
                "                \"id\": \"62027798269867124d10259e\",\n",
                "                  \"roles\": {\n",
                "                \"district_admin\": {},\n",
                "                \"contact\": {}\n",
                "                }\n",
                "                }\n",
                "                }\"\"\",\n",
                "            ),\n",
                "        ]\n",
                "\n"
            ]
        },
        {
            "cell_type": "markdown",
            "metadata": {},
            "source": []
        }
    ],
    "metadata": {
        "language_info": {
            "name": "python"
        }
    },
    "nbformat": 4,
    "nbformat_minor": 2
}