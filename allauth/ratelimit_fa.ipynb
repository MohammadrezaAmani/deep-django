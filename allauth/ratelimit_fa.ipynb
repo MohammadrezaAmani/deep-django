{
 "cells": [
  {
   "cell_type": "code",
   "execution_count": null,
   "metadata": {},
   "outputs": [],
   "source": [
    "import warnings\n",
    "\n",
    "from allauth.core.ratelimit import clear, consume, consume_or_429\n",
    "\n",
    "__all__ = [\"consume\", \"consume_or_429\", \"clear\"]\n",
    "warnings.warn(\"allauth.ratelimit is deprecated, use allauth.core.ratelimit\")"
   ]
  },
  {
   "cell_type": "markdown",
   "metadata": {},
   "source": []
  }
 ],
 "metadata": {
  "language_info": {
   "name": "python"
  }
 },
 "nbformat": 4,
 "nbformat_minor": 2
}