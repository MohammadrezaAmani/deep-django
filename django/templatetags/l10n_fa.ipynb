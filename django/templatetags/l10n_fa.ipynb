{
    "cells": [
        {
            "cell_type": "code",
            "execution_count": null,
            "metadata": {},
            "outputs": [],
            "source": [
                "from django.template import Library, Node, TemplateSyntaxError\n",
                "from django.utils import formats\n",
                "\n",
                "register = Library()\n"
            ]
        },
        {
            "cell_type": "markdown",
            "metadata": {},
            "source": []
        },
        {
            "cell_type": "code",
            "execution_count": null,
            "metadata": {},
            "outputs": [],
            "source": [
                "@register.filter(is_safe=False)\n",
                "def localize(value):\n",
                "    \"\"\"\n",
                "    Force a value to be rendered as a localized value.\n",
                "    \"\"\"\n",
                "    return str(formats.localize(value, use_l10n=True))\n"
            ]
        },
        {
            "cell_type": "markdown",
            "metadata": {},
            "source": []
        },
        {
            "cell_type": "code",
            "execution_count": null,
            "metadata": {},
            "outputs": [],
            "source": [
                "@register.filter(is_safe=False)\n",
                "def unlocalize(value):\n",
                "    \"\"\"\n",
                "    Force a value to be rendered as a non-localized value.\n",
                "    \"\"\"\n",
                "    return str(formats.localize(value, use_l10n=False))\n"
            ]
        },
        {
            "cell_type": "markdown",
            "metadata": {},
            "source": []
        },
        {
            "cell_type": "code",
            "execution_count": null,
            "metadata": {},
            "outputs": [],
            "source": [
                "class LocalizeNode(Node):\n",
                "    def __init__(self, nodelist, use_l10n):\n",
                "        self.nodelist = nodelist\n",
                "        self.use_l10n = use_l10n\n",
                "\n",
                "    def __repr__(self):\n",
                "        return \"<%s>\" % self.__class__.__name__\n",
                "\n",
                "    def render(self, context):\n",
                "        old_setting = context.use_l10n\n",
                "        context.use_l10n = self.use_l10n\n",
                "        output = self.nodelist.render(context)\n",
                "        context.use_l10n = old_setting\n",
                "        return output\n"
            ]
        },
        {
            "cell_type": "markdown",
            "metadata": {},
            "source": []
        },
        {
            "cell_type": "code",
            "execution_count": null,
            "metadata": {},
            "outputs": [],
            "source": [
                "@register.tag(\"localize\")\n",
                "def localize_tag(parser, token):\n",
                "    \"\"\"\n",
                "    Force or prevents localization of values.\n",
                "\n",
                "    Sample usage::\n",
                "\n",
                "        {% localize off %}\n",
                "            var pi = {{ 3.1415 }};\n",
                "        {% endlocalize %}\n",
                "    \"\"\"\n",
                "    use_l10n = None\n",
                "    bits = list(token.split_contents())\n",
                "    if len(bits) == 1:\n",
                "        use_l10n = True\n",
                "    elif len(bits) > 2 or bits[1] not in (\"on\", \"off\"):\n",
                "        raise TemplateSyntaxError(\"%r argument should be 'on' or 'off'\" % bits[0])\n",
                "    else:\n",
                "        use_l10n = bits[1] == \"on\"\n",
                "    nodelist = parser.parse((\"endlocalize\",))\n",
                "    parser.delete_first_token()\n",
                "    return LocalizeNode(nodelist, use_l10n)\n",
                "\n"
            ]
        },
        {
            "cell_type": "markdown",
            "metadata": {},
            "source": []
        }
    ],
    "metadata": {
        "language_info": {
            "name": "python"
        }
    },
    "nbformat": 4,
    "nbformat_minor": 2
}