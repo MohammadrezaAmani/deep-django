{
    "cells": [
        {
            "cell_type": "code",
            "execution_count": null,
            "metadata": {},
            "outputs": [],
            "source": [
                "import zoneinfo\n",
                "from datetime import datetime\n",
                "from datetime import timezone as datetime_timezone\n",
                "from datetime import tzinfo\n",
                "\n",
                "from django.template import Library, Node, TemplateSyntaxError\n",
                "from django.utils import timezone\n",
                "\n",
                "register = Library()\n"
            ]
        },
        {
            "cell_type": "markdown",
            "metadata": {},
            "source": []
        },
        {
            "cell_type": "code",
            "execution_count": null,
            "metadata": {},
            "outputs": [],
            "source": [
                "# HACK: datetime instances cannot be assigned new attributes. Define a subclass\n",
                "# in order to define new attributes in do_timezone().\n",
                "class datetimeobject(datetime):\n",
                "    pass\n"
            ]
        },
        {
            "cell_type": "markdown",
            "metadata": {},
            "source": []
        },
        {
            "cell_type": "code",
            "execution_count": null,
            "metadata": {},
            "outputs": [],
            "source": [
                "# Template filters\n"
            ]
        },
        {
            "cell_type": "markdown",
            "metadata": {},
            "source": []
        },
        {
            "cell_type": "code",
            "execution_count": null,
            "metadata": {},
            "outputs": [],
            "source": [
                "@register.filter\n",
                "def localtime(value):\n",
                "    \"\"\"\n",
                "    Convert a datetime to local time in the active time zone.\n",
                "\n",
                "    This only makes sense within a {% localtime off %} block.\n",
                "    \"\"\"\n",
                "    return do_timezone(value, timezone.get_current_timezone())\n"
            ]
        },
        {
            "cell_type": "markdown",
            "metadata": {},
            "source": []
        },
        {
            "cell_type": "code",
            "execution_count": null,
            "metadata": {},
            "outputs": [],
            "source": [
                "@register.filter\n",
                "def utc(value):\n",
                "    \"\"\"\n",
                "    Convert a datetime to UTC.\n",
                "    \"\"\"\n",
                "    return do_timezone(value, datetime_timezone.utc)\n"
            ]
        },
        {
            "cell_type": "markdown",
            "metadata": {},
            "source": []
        },
        {
            "cell_type": "code",
            "execution_count": null,
            "metadata": {},
            "outputs": [],
            "source": [
                "@register.filter(\"timezone\")\n",
                "def do_timezone(value, arg):\n",
                "    \"\"\"\n",
                "    Convert a datetime to local time in a given time zone.\n",
                "\n",
                "    The argument must be an instance of a tzinfo subclass or a time zone name.\n",
                "\n",
                "    Naive datetimes are assumed to be in local time in the default time zone.\n",
                "    \"\"\"\n",
                "    if not isinstance(value, datetime):\n",
                "        return \"\"\n",
                "\n",
                "    # Obtain a timezone-aware datetime\n",
                "    try:\n",
                "        if timezone.is_naive(value):\n",
                "            default_timezone = timezone.get_default_timezone()\n",
                "            value = timezone.make_aware(value, default_timezone)\n",
                "    # Filters must never raise exceptionsm, so catch everything.\n",
                "    except Exception:\n",
                "        return \"\"\n",
                "\n",
                "    # Obtain a tzinfo instance\n",
                "    if isinstance(arg, tzinfo):\n",
                "        tz = arg\n",
                "    elif isinstance(arg, str):\n",
                "        try:\n",
                "            tz = zoneinfo.ZoneInfo(arg)\n",
                "        except zoneinfo.ZoneInfoNotFoundError:\n",
                "            return \"\"\n",
                "    else:\n",
                "        return \"\"\n",
                "\n",
                "    result = timezone.localtime(value, tz)\n",
                "\n",
                "    # HACK: the convert_to_local_time flag will prevent\n",
                "    #       automatic conversion of the value to local time.\n",
                "    result = datetimeobject(\n",
                "        result.year,\n",
                "        result.month,\n",
                "        result.day,\n",
                "        result.hour,\n",
                "        result.minute,\n",
                "        result.second,\n",
                "        result.microsecond,\n",
                "        result.tzinfo,\n",
                "    )\n",
                "    result.convert_to_local_time = False\n",
                "    return result\n"
            ]
        },
        {
            "cell_type": "markdown",
            "metadata": {},
            "source": []
        },
        {
            "cell_type": "code",
            "execution_count": null,
            "metadata": {},
            "outputs": [],
            "source": [
                "# Template tags\n"
            ]
        },
        {
            "cell_type": "markdown",
            "metadata": {},
            "source": []
        },
        {
            "cell_type": "code",
            "execution_count": null,
            "metadata": {},
            "outputs": [],
            "source": [
                "class LocalTimeNode(Node):\n",
                "    \"\"\"\n",
                "    Template node class used by ``localtime_tag``.\n",
                "    \"\"\"\n",
                "\n",
                "    def __init__(self, nodelist, use_tz):\n",
                "        self.nodelist = nodelist\n",
                "        self.use_tz = use_tz\n",
                "\n",
                "    def render(self, context):\n",
                "        old_setting = context.use_tz\n",
                "        context.use_tz = self.use_tz\n",
                "        output = self.nodelist.render(context)\n",
                "        context.use_tz = old_setting\n",
                "        return output\n"
            ]
        },
        {
            "cell_type": "markdown",
            "metadata": {},
            "source": []
        },
        {
            "cell_type": "code",
            "execution_count": null,
            "metadata": {},
            "outputs": [],
            "source": [
                "class TimezoneNode(Node):\n",
                "    \"\"\"\n",
                "    Template node class used by ``timezone_tag``.\n",
                "    \"\"\"\n",
                "\n",
                "    def __init__(self, nodelist, tz):\n",
                "        self.nodelist = nodelist\n",
                "        self.tz = tz\n",
                "\n",
                "    def render(self, context):\n",
                "        with timezone.override(self.tz.resolve(context)):\n",
                "            output = self.nodelist.render(context)\n",
                "        return output\n"
            ]
        },
        {
            "cell_type": "markdown",
            "metadata": {},
            "source": []
        },
        {
            "cell_type": "code",
            "execution_count": null,
            "metadata": {},
            "outputs": [],
            "source": [
                "class GetCurrentTimezoneNode(Node):\n",
                "    \"\"\"\n",
                "    Template node class used by ``get_current_timezone_tag``.\n",
                "    \"\"\"\n",
                "\n",
                "    def __init__(self, variable):\n",
                "        self.variable = variable\n",
                "\n",
                "    def render(self, context):\n",
                "        context[self.variable] = timezone.get_current_timezone_name()\n",
                "        return \"\"\n"
            ]
        },
        {
            "cell_type": "markdown",
            "metadata": {},
            "source": []
        },
        {
            "cell_type": "code",
            "execution_count": null,
            "metadata": {},
            "outputs": [],
            "source": [
                "@register.tag(\"localtime\")\n",
                "def localtime_tag(parser, token):\n",
                "    \"\"\"\n",
                "    Force or prevent conversion of datetime objects to local time,\n",
                "    regardless of the value of ``settings.USE_TZ``.\n",
                "\n",
                "    Sample usage::\n",
                "\n",
                "        {% localtime off %}{{ value_in_utc }}{% endlocaltime %}\n",
                "    \"\"\"\n",
                "    bits = token.split_contents()\n",
                "    if len(bits) == 1:\n",
                "        use_tz = True\n",
                "    elif len(bits) > 2 or bits[1] not in (\"on\", \"off\"):\n",
                "        raise TemplateSyntaxError(\"%r argument should be 'on' or 'off'\" % bits[0])\n",
                "    else:\n",
                "        use_tz = bits[1] == \"on\"\n",
                "    nodelist = parser.parse((\"endlocaltime\",))\n",
                "    parser.delete_first_token()\n",
                "    return LocalTimeNode(nodelist, use_tz)\n"
            ]
        },
        {
            "cell_type": "markdown",
            "metadata": {},
            "source": []
        },
        {
            "cell_type": "code",
            "execution_count": null,
            "metadata": {},
            "outputs": [],
            "source": [
                "@register.tag(\"timezone\")\n",
                "def timezone_tag(parser, token):\n",
                "    \"\"\"\n",
                "    Enable a given time zone just for this block.\n",
                "\n",
                "    The ``timezone`` argument must be an instance of a ``tzinfo`` subclass, a\n",
                "    time zone name, or ``None``. If it is ``None``, the default time zone is\n",
                "    used within the block.\n",
                "\n",
                "    Sample usage::\n",
                "\n",
                "        {% timezone \"Europe/Paris\" %}\n",
                "            It is {{ now }} in Paris.\n",
                "        {% endtimezone %}\n",
                "    \"\"\"\n",
                "    bits = token.split_contents()\n",
                "    if len(bits) != 2:\n",
                "        raise TemplateSyntaxError(\"'%s' takes one argument (timezone)\" % bits[0])\n",
                "    tz = parser.compile_filter(bits[1])\n",
                "    nodelist = parser.parse((\"endtimezone\",))\n",
                "    parser.delete_first_token()\n",
                "    return TimezoneNode(nodelist, tz)\n"
            ]
        },
        {
            "cell_type": "markdown",
            "metadata": {},
            "source": []
        },
        {
            "cell_type": "code",
            "execution_count": null,
            "metadata": {},
            "outputs": [],
            "source": [
                "@register.tag(\"get_current_timezone\")\n",
                "def get_current_timezone_tag(parser, token):\n",
                "    \"\"\"\n",
                "    Store the name of the current time zone in the context.\n",
                "\n",
                "    Usage::\n",
                "\n",
                "        {% get_current_timezone as TIME_ZONE %}\n",
                "\n",
                "    This will fetch the currently active time zone and put its name\n",
                "    into the ``TIME_ZONE`` context variable.\n",
                "    \"\"\"\n",
                "    # token.split_contents() isn't useful here because this tag doesn't accept\n",
                "    # variable as arguments.\n",
                "    args = token.contents.split()\n",
                "    if len(args) != 3 or args[1] != \"as\":\n",
                "        raise TemplateSyntaxError(\n",
                "            \"'get_current_timezone' requires 'as variable' (got %r)\" % args\n",
                "        )\n",
                "    return GetCurrentTimezoneNode(args[2])\n",
                "\n"
            ]
        },
        {
            "cell_type": "markdown",
            "metadata": {},
            "source": []
        }
    ],
    "metadata": {
        "language_info": {
            "name": "python"
        }
    },
    "nbformat": 4,
    "nbformat_minor": 2
}