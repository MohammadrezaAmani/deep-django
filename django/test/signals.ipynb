{
    "cells": [
        {
            "cell_type": "code",
            "execution_count": null,
            "metadata": {},
            "outputs": [],
            "source": [
                "import os\n",
                "import time\n",
                "import warnings\n",
                "\n",
                "from asgiref.local import Local\n",
                "\n",
                "from django.apps import apps\n",
                "from django.core.exceptions import ImproperlyConfigured\n",
                "from django.core.signals import setting_changed\n",
                "from django.db import connections, router\n",
                "from django.db.utils import ConnectionRouter\n",
                "from django.dispatch import Signal, receiver\n",
                "from django.utils import timezone\n",
                "from django.utils.formats import FORMAT_SETTINGS, reset_format_cache\n",
                "from django.utils.functional import empty\n",
                "from django.utils.module_loading import import_string\n",
                "\n",
                "template_rendered = Signal()\n",
                "\n",
                "# Most setting_changed receivers are supposed to be added below,\n",
                "# except for cases where the receiver is related to a contrib app.\n",
                "\n",
                "# Settings that may not work well when using 'override_settings' (#19031)\n",
                "COMPLEX_OVERRIDE_SETTINGS = {\"DATABASES\"}\n"
            ]
        },
        {
            "cell_type": "markdown",
            "metadata": {},
            "source": []
        },
        {
            "cell_type": "code",
            "execution_count": null,
            "metadata": {},
            "outputs": [],
            "source": [
                "@receiver(setting_changed)\n",
                "def clear_cache_handlers(*, setting, **kwargs):\n",
                "    if setting == \"CACHES\":\n",
                "        from django.core.cache import caches, close_caches\n",
                "\n",
                "        close_caches()\n",
                "        caches._settings = caches.settings = caches.configure_settings(None)\n",
                "        caches._connections = Local()\n"
            ]
        },
        {
            "cell_type": "markdown",
            "metadata": {},
            "source": []
        },
        {
            "cell_type": "code",
            "execution_count": null,
            "metadata": {},
            "outputs": [],
            "source": [
                "@receiver(setting_changed)\n",
                "def update_installed_apps(*, setting, **kwargs):\n",
                "    if setting == \"INSTALLED_APPS\":\n",
                "        # Rebuild any AppDirectoriesFinder instance.\n",
                "        from django.contrib.staticfiles.finders import get_finder\n",
                "\n",
                "        get_finder.cache_clear()\n",
                "        # Rebuild management commands cache\n",
                "        from django.core.management import get_commands\n",
                "\n",
                "        get_commands.cache_clear()\n",
                "        # Rebuild get_app_template_dirs cache.\n",
                "        from django.template.utils import get_app_template_dirs\n",
                "\n",
                "        get_app_template_dirs.cache_clear()\n",
                "        # Rebuild translations cache.\n",
                "        from django.utils.translation import trans_real\n",
                "\n",
                "        trans_real._translations = {}\n"
            ]
        },
        {
            "cell_type": "markdown",
            "metadata": {},
            "source": []
        },
        {
            "cell_type": "code",
            "execution_count": null,
            "metadata": {},
            "outputs": [],
            "source": [
                "@receiver(setting_changed)\n",
                "def update_connections_time_zone(*, setting, **kwargs):\n",
                "    if setting == \"TIME_ZONE\":\n",
                "        # Reset process time zone\n",
                "        if hasattr(time, \"tzset\"):\n",
                "            if kwargs[\"value\"]:\n",
                "                os.environ[\"TZ\"] = kwargs[\"value\"]\n",
                "            else:\n",
                "                os.environ.pop(\"TZ\", None)\n",
                "            time.tzset()\n",
                "\n",
                "        # Reset local time zone cache\n",
                "        timezone.get_default_timezone.cache_clear()\n",
                "\n",
                "    # Reset the database connections' time zone\n",
                "    if setting in {\"TIME_ZONE\", \"USE_TZ\"}:\n",
                "        for conn in connections.all(initialized_only=True):\n",
                "            try:\n",
                "                del conn.timezone\n",
                "            except AttributeError:\n",
                "                pass\n",
                "            try:\n",
                "                del conn.timezone_name\n",
                "            except AttributeError:\n",
                "                pass\n",
                "            conn.ensure_timezone()\n"
            ]
        },
        {
            "cell_type": "markdown",
            "metadata": {},
            "source": []
        },
        {
            "cell_type": "code",
            "execution_count": null,
            "metadata": {},
            "outputs": [],
            "source": [
                "@receiver(setting_changed)\n",
                "def clear_routers_cache(*, setting, **kwargs):\n",
                "    if setting == \"DATABASE_ROUTERS\":\n",
                "        router.routers = ConnectionRouter().routers\n"
            ]
        },
        {
            "cell_type": "markdown",
            "metadata": {},
            "source": []
        },
        {
            "cell_type": "code",
            "execution_count": null,
            "metadata": {},
            "outputs": [],
            "source": [
                "@receiver(setting_changed)\n",
                "def reset_template_engines(*, setting, **kwargs):\n",
                "    if setting in {\n",
                "        \"TEMPLATES\",\n",
                "        \"DEBUG\",\n",
                "        \"INSTALLED_APPS\",\n",
                "    }:\n",
                "        from django.template import engines\n",
                "\n",
                "        try:\n",
                "            del engines.templates\n",
                "        except AttributeError:\n",
                "            pass\n",
                "        engines._templates = None\n",
                "        engines._engines = {}\n",
                "        from django.template.engine import Engine\n",
                "\n",
                "        Engine.get_default.cache_clear()\n",
                "        from django.forms.renderers import get_default_renderer\n",
                "\n",
                "        get_default_renderer.cache_clear()\n"
            ]
        },
        {
            "cell_type": "markdown",
            "metadata": {},
            "source": []
        },
        {
            "cell_type": "code",
            "execution_count": null,
            "metadata": {},
            "outputs": [],
            "source": [
                "@receiver(setting_changed)\n",
                "def storages_changed(*, setting, **kwargs):\n",
                "    from django.contrib.staticfiles.storage import staticfiles_storage\n",
                "    from django.core.files.storage import default_storage, storages\n",
                "\n",
                "    if setting in (\n",
                "        \"STORAGES\",\n",
                "        \"STATIC_ROOT\",\n",
                "        \"STATIC_URL\",\n",
                "    ):\n",
                "        try:\n",
                "            del storages.backends\n",
                "        except AttributeError:\n",
                "            pass\n",
                "        storages._backends = None\n",
                "        storages._storages = {}\n",
                "\n",
                "        default_storage._wrapped = empty\n",
                "        staticfiles_storage._wrapped = empty\n"
            ]
        },
        {
            "cell_type": "markdown",
            "metadata": {},
            "source": []
        },
        {
            "cell_type": "code",
            "execution_count": null,
            "metadata": {},
            "outputs": [],
            "source": [
                "@receiver(setting_changed)\n",
                "def clear_serializers_cache(*, setting, **kwargs):\n",
                "    if setting == \"SERIALIZATION_MODULES\":\n",
                "        from django.core import serializers\n",
                "\n",
                "        serializers._serializers = {}\n"
            ]
        },
        {
            "cell_type": "markdown",
            "metadata": {},
            "source": []
        },
        {
            "cell_type": "code",
            "execution_count": null,
            "metadata": {},
            "outputs": [],
            "source": [
                "@receiver(setting_changed)\n",
                "def language_changed(*, setting, **kwargs):\n",
                "    if setting in {\"LANGUAGES\", \"LANGUAGE_CODE\", \"LOCALE_PATHS\"}:\n",
                "        from django.utils.translation import trans_real\n",
                "\n",
                "        trans_real._default = None\n",
                "        trans_real._active = Local()\n",
                "    if setting in {\"LANGUAGES\", \"LOCALE_PATHS\"}:\n",
                "        from django.utils.translation import trans_real\n",
                "\n",
                "        trans_real._translations = {}\n",
                "        trans_real.check_for_language.cache_clear()\n"
            ]
        },
        {
            "cell_type": "markdown",
            "metadata": {},
            "source": []
        },
        {
            "cell_type": "code",
            "execution_count": null,
            "metadata": {},
            "outputs": [],
            "source": [
                "@receiver(setting_changed)\n",
                "def localize_settings_changed(*, setting, **kwargs):\n",
                "    if setting in FORMAT_SETTINGS or setting == \"USE_THOUSAND_SEPARATOR\":\n",
                "        reset_format_cache()\n"
            ]
        },
        {
            "cell_type": "markdown",
            "metadata": {},
            "source": []
        },
        {
            "cell_type": "code",
            "execution_count": null,
            "metadata": {},
            "outputs": [],
            "source": [
                "# RemovedInDjango51Warning.\n",
                "@receiver(setting_changed)\n",
                "def file_storage_changed(*, setting, **kwargs):\n",
                "    if setting == \"DEFAULT_FILE_STORAGE\":\n",
                "        from django.conf import DEFAULT_STORAGE_ALIAS\n",
                "        from django.core.files.storage import default_storage, storages\n",
                "\n",
                "        try:\n",
                "            del storages.backends\n",
                "        except AttributeError:\n",
                "            pass\n",
                "        storages._storages[DEFAULT_STORAGE_ALIAS] = import_string(kwargs[\"value\"])()\n",
                "        default_storage._wrapped = empty\n"
            ]
        },
        {
            "cell_type": "markdown",
            "metadata": {},
            "source": []
        },
        {
            "cell_type": "code",
            "execution_count": null,
            "metadata": {},
            "outputs": [],
            "source": [
                "@receiver(setting_changed)\n",
                "def complex_setting_changed(*, enter, setting, **kwargs):\n",
                "    if enter and setting in COMPLEX_OVERRIDE_SETTINGS:\n",
                "        # Considering the current implementation of the signals framework,\n",
                "        # this stacklevel shows the line containing the override_settings call.\n",
                "        warnings.warn(\n",
                "            f\"Overriding setting {setting} can lead to unexpected behavior.\",\n",
                "            stacklevel=5,\n",
                "        )\n"
            ]
        },
        {
            "cell_type": "markdown",
            "metadata": {},
            "source": []
        },
        {
            "cell_type": "code",
            "execution_count": null,
            "metadata": {},
            "outputs": [],
            "source": [
                "@receiver(setting_changed)\n",
                "def root_urlconf_changed(*, setting, **kwargs):\n",
                "    if setting == \"ROOT_URLCONF\":\n",
                "        from django.urls import clear_url_caches, set_urlconf\n",
                "\n",
                "        clear_url_caches()\n",
                "        set_urlconf(None)\n"
            ]
        },
        {
            "cell_type": "markdown",
            "metadata": {},
            "source": []
        },
        {
            "cell_type": "code",
            "execution_count": null,
            "metadata": {},
            "outputs": [],
            "source": [
                "@receiver(setting_changed)\n",
                "def static_storage_changed(*, setting, **kwargs):\n",
                "    if setting in {\n",
                "        \"STATICFILES_STORAGE\",\n",
                "        \"STATIC_ROOT\",\n",
                "        \"STATIC_URL\",\n",
                "    }:\n",
                "        from django.contrib.staticfiles.storage import staticfiles_storage\n",
                "\n",
                "        staticfiles_storage._wrapped = empty\n",
                "\n",
                "    # RemovedInDjango51Warning.\n",
                "    if setting == \"STATICFILES_STORAGE\":\n",
                "        from django.conf import STATICFILES_STORAGE_ALIAS\n",
                "        from django.core.files.storage import storages\n",
                "\n",
                "        try:\n",
                "            del storages.backends\n",
                "        except AttributeError:\n",
                "            pass\n",
                "        storages._storages[STATICFILES_STORAGE_ALIAS] = import_string(kwargs[\"value\"])()\n"
            ]
        },
        {
            "cell_type": "markdown",
            "metadata": {},
            "source": []
        },
        {
            "cell_type": "code",
            "execution_count": null,
            "metadata": {},
            "outputs": [],
            "source": [
                "@receiver(setting_changed)\n",
                "def static_finders_changed(*, setting, **kwargs):\n",
                "    if setting in {\n",
                "        \"STATICFILES_DIRS\",\n",
                "        \"STATIC_ROOT\",\n",
                "    }:\n",
                "        from django.contrib.staticfiles.finders import get_finder\n",
                "\n",
                "        get_finder.cache_clear()\n"
            ]
        },
        {
            "cell_type": "markdown",
            "metadata": {},
            "source": []
        },
        {
            "cell_type": "code",
            "execution_count": null,
            "metadata": {},
            "outputs": [],
            "source": [
                "@receiver(setting_changed)\n",
                "def auth_password_validators_changed(*, setting, **kwargs):\n",
                "    if setting == \"AUTH_PASSWORD_VALIDATORS\":\n",
                "        from django.contrib.auth.password_validation import (\n",
                "            get_default_password_validators,\n",
                "        )\n",
                "\n",
                "        get_default_password_validators.cache_clear()\n"
            ]
        },
        {
            "cell_type": "markdown",
            "metadata": {},
            "source": []
        },
        {
            "cell_type": "code",
            "execution_count": null,
            "metadata": {},
            "outputs": [],
            "source": [
                "@receiver(setting_changed)\n",
                "def user_model_swapped(*, setting, **kwargs):\n",
                "    if setting == \"AUTH_USER_MODEL\":\n",
                "        apps.clear_cache()\n",
                "        try:\n",
                "            from django.contrib.auth import get_user_model\n",
                "\n",
                "            UserModel = get_user_model()\n",
                "        except ImproperlyConfigured:\n",
                "            # Some tests set an invalid AUTH_USER_MODEL.\n",
                "            pass\n",
                "        else:\n",
                "            from django.contrib.auth import backends\n",
                "\n",
                "            backends.UserModel = UserModel\n",
                "\n",
                "            from django.contrib.auth import forms\n",
                "\n",
                "            forms.UserModel = UserModel\n",
                "\n",
                "            from django.contrib.auth.handlers import modwsgi\n",
                "\n",
                "            modwsgi.UserModel = UserModel\n",
                "\n",
                "            from django.contrib.auth.management.commands import changepassword\n",
                "\n",
                "            changepassword.UserModel = UserModel\n",
                "\n",
                "            from django.contrib.auth import views\n",
                "\n",
                "            views.UserModel = UserModel\n",
                "\n"
            ]
        },
        {
            "cell_type": "markdown",
            "metadata": {},
            "source": []
        }
    ],
    "metadata": {
        "language_info": {
            "name": "python"
        }
    },
    "nbformat": 4,
    "nbformat_minor": 2
}