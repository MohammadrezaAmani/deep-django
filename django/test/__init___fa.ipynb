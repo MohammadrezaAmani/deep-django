{
 "cells": [
  {
   "cell_type": "code",
   "execution_count": null,
   "metadata": {},
   "outputs": [],
   "source": [
    "\"\"\"Django Unit Test framework.\"\"\"\n",
    "\n",
    "from django.test.client import AsyncClient, AsyncRequestFactory, Client, RequestFactory\n",
    "from django.test.testcases import (\n",
    "    LiveServerTestCase,\n",
    "    SimpleTestCase,\n",
    "    TestCase,\n",
    "    TransactionTestCase,\n",
    "    skipIfDBFeature,\n",
    "    skipUnlessAnyDBFeature,\n",
    "    skipUnlessDBFeature,\n",
    ")\n",
    "from django.test.utils import (\n",
    "    ignore_warnings,\n",
    "    modify_settings,\n",
    "    override_settings,\n",
    "    override_system_checks,\n",
    "    tag,\n",
    ")\n",
    "\n",
    "__all__ = [\n",
    "    \"AsyncClient\",\n",
    "    \"AsyncRequestFactory\",\n",
    "    \"Client\",\n",
    "    \"RequestFactory\",\n",
    "    \"TestCase\",\n",
    "    \"TransactionTestCase\",\n",
    "    \"SimpleTestCase\",\n",
    "    \"LiveServerTestCase\",\n",
    "    \"skipIfDBFeature\",\n",
    "    \"skipUnlessAnyDBFeature\",\n",
    "    \"skipUnlessDBFeature\",\n",
    "    \"ignore_warnings\",\n",
    "    \"modify_settings\",\n",
    "    \"override_settings\",\n",
    "    \"override_system_checks\",\n",
    "    \"tag\",\n",
    "]"
   ]
  },
  {
   "cell_type": "markdown",
   "metadata": {},
   "source": []
  }
 ],
 "metadata": {
  "language_info": {
   "name": "python"
  }
 },
 "nbformat": 4,
 "nbformat_minor": 2
}