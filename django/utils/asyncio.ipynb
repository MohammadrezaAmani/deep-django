{
    "cells": [
        {
            "cell_type": "code",
            "execution_count": null,
            "metadata": {},
            "outputs": [],
            "source": [
                "import os\n",
                "from asyncio import get_running_loop\n",
                "from functools import wraps\n",
                "\n",
                "from django.core.exceptions import SynchronousOnlyOperation\n"
            ]
        },
        {
            "cell_type": "markdown",
            "metadata": {},
            "source": []
        },
        {
            "cell_type": "code",
            "execution_count": null,
            "metadata": {},
            "outputs": [],
            "source": [
                "def async_unsafe(message):\n",
                "    \"\"\"\n",
                "    Decorator to mark functions as async-unsafe. Someone trying to access\n",
                "    the function while in an async context will get an error message.\n",
                "    \"\"\"\n",
                "\n",
                "    def decorator(func):\n",
                "        @wraps(func)\n",
                "        def inner(*args, **kwargs):\n",
                "            # Detect a running event loop in this thread.\n",
                "            try:\n",
                "                get_running_loop()\n",
                "            except RuntimeError:\n",
                "                pass\n",
                "            else:\n",
                "                if not os.environ.get(\"DJANGO_ALLOW_ASYNC_UNSAFE\"):\n",
                "                    raise SynchronousOnlyOperation(message)\n",
                "            # Pass onward.\n",
                "            return func(*args, **kwargs)\n",
                "\n",
                "        return inner\n",
                "\n",
                "    # If the message is actually a function, then be a no-arguments decorator.\n",
                "    if callable(message):\n",
                "        func = message\n",
                "        message = (\n",
                "            \"You cannot call this from an async context - use a thread or \"\n",
                "            \"sync_to_async.\"\n",
                "        )\n",
                "        return decorator(func)\n",
                "    else:\n",
                "        return decorator\n",
                "\n"
            ]
        },
        {
            "cell_type": "markdown",
            "metadata": {},
            "source": []
        }
    ],
    "metadata": {
        "language_info": {
            "name": "python"
        }
    },
    "nbformat": 4,
    "nbformat_minor": 2
}