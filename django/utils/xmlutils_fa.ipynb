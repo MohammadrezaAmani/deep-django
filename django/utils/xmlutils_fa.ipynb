{
    "cells": [
        {
            "cell_type": "code",
            "execution_count": null,
            "metadata": {},
            "outputs": [],
            "source": [
                "\"\"\"\n",
                "Utilities for XML generation/parsing.\n",
                "\"\"\"\n",
                "\n",
                "import re\n",
                "from xml.sax.saxutils import XMLGenerator\n"
            ]
        },
        {
            "cell_type": "markdown",
            "metadata": {},
            "source": []
        },
        {
            "cell_type": "code",
            "execution_count": null,
            "metadata": {},
            "outputs": [],
            "source": [
                "class UnserializableContentError(ValueError):\n",
                "    pass\n"
            ]
        },
        {
            "cell_type": "markdown",
            "metadata": {},
            "source": []
        },
        {
            "cell_type": "code",
            "execution_count": null,
            "metadata": {},
            "outputs": [],
            "source": [
                "class SimplerXMLGenerator(XMLGenerator):\n",
                "    def addQuickElement(self, name, contents=None, attrs=None):\n",
                "        \"Convenience method for adding an element with no children\"\n",
                "        if attrs is None:\n",
                "            attrs = {}\n",
                "        self.startElement(name, attrs)\n",
                "        if contents is not None:\n",
                "            self.characters(contents)\n",
                "        self.endElement(name)\n",
                "\n",
                "    def characters(self, content):\n",
                "        if content and re.search(r\"[\\x00-\\x08\\x0B-\\x0C\\x0E-\\x1F]\", content):\n",
                "            # Fail loudly when content has control chars (unsupported in XML 1.0)\n",
                "            # See https://www.w3.org/International/questions/qa-controls\n",
                "            raise UnserializableContentError(\n",
                "                \"Control characters are not supported in XML 1.0\"\n",
                "            )\n",
                "        XMLGenerator.characters(self, content)\n",
                "\n",
                "    def startElement(self, name, attrs):\n",
                "        # Sort attrs for a deterministic output.\n",
                "        sorted_attrs = dict(sorted(attrs.items())) if attrs else attrs\n",
                "        super().startElement(name, sorted_attrs)\n",
                "\n"
            ]
        },
        {
            "cell_type": "markdown",
            "metadata": {},
            "source": []
        }
    ],
    "metadata": {
        "language_info": {
            "name": "python"
        }
    },
    "nbformat": 4,
    "nbformat_minor": 2
}