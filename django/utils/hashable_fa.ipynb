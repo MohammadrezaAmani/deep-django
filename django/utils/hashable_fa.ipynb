{
    "cells": [
        {
            "cell_type": "code",
            "execution_count": null,
            "metadata": {},
            "outputs": [],
            "source": [
                "from django.utils.itercompat import is_iterable\n"
            ]
        },
        {
            "cell_type": "markdown",
            "metadata": {},
            "source": []
        },
        {
            "cell_type": "code",
            "execution_count": null,
            "metadata": {},
            "outputs": [],
            "source": [
                "def make_hashable(value):\n",
                "    \"\"\"\n",
                "    Attempt to make value hashable or raise a TypeError if it fails.\n",
                "\n",
                "    The returned value should generate the same hash for equal values.\n",
                "    \"\"\"\n",
                "    if isinstance(value, dict):\n",
                "        return tuple(\n",
                "            [\n",
                "                (key, make_hashable(nested_value))\n",
                "                for key, nested_value in sorted(value.items())\n",
                "            ]\n",
                "        )\n",
                "    # Try hash to avoid converting a hashable iterable (e.g. string, frozenset)\n",
                "    # to a tuple.\n",
                "    try:\n",
                "        hash(value)\n",
                "    except TypeError:\n",
                "        if is_iterable(value):\n",
                "            return tuple(map(make_hashable, value))\n",
                "        # Non-hashable, non-iterable.\n",
                "        raise\n",
                "    return value\n",
                "\n"
            ]
        },
        {
            "cell_type": "markdown",
            "metadata": {},
            "source": []
        }
    ],
    "metadata": {
        "language_info": {
            "name": "python"
        }
    },
    "nbformat": 4,
    "nbformat_minor": 2
}