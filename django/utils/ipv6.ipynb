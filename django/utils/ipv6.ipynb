{
    "cells": [
        {
            "cell_type": "code",
            "execution_count": null,
            "metadata": {},
            "outputs": [],
            "source": [
                "import ipaddress\n",
                "\n",
                "from django.core.exceptions import ValidationError\n",
                "from django.utils.translation import gettext_lazy as _\n"
            ]
        },
        {
            "cell_type": "markdown",
            "metadata": {},
            "source": []
        },
        {
            "cell_type": "code",
            "execution_count": null,
            "metadata": {},
            "outputs": [],
            "source": [
                "def clean_ipv6_address(\n",
                "    ip_str, unpack_ipv4=False, error_message=_(\"This is not a valid IPv6 address.\")\n",
                "):\n",
                "    \"\"\"\n",
                "    Clean an IPv6 address string.\n",
                "\n",
                "    Raise ValidationError if the address is invalid.\n",
                "\n",
                "    Replace the longest continuous zero-sequence with \"::\", remove leading\n",
                "    zeroes, and make sure all hextets are lowercase.\n",
                "\n",
                "    Args:\n",
                "        ip_str: A valid IPv6 address.\n",
                "        unpack_ipv4: if an IPv4-mapped address is found,\n",
                "        return the plain IPv4 address (default=False).\n",
                "        error_message: An error message used in the ValidationError.\n",
                "\n",
                "    Return a compressed IPv6 address or the same value.\n",
                "    \"\"\"\n",
                "    try:\n",
                "        addr = ipaddress.IPv6Address(int(ipaddress.IPv6Address(ip_str)))\n",
                "    except ValueError:\n",
                "        raise ValidationError(error_message, code=\"invalid\")\n",
                "\n",
                "    if unpack_ipv4 and addr.ipv4_mapped:\n",
                "        return str(addr.ipv4_mapped)\n",
                "    elif addr.ipv4_mapped:\n",
                "        return \"::ffff:%s\" % str(addr.ipv4_mapped)\n",
                "\n",
                "    return str(addr)\n"
            ]
        },
        {
            "cell_type": "markdown",
            "metadata": {},
            "source": []
        },
        {
            "cell_type": "code",
            "execution_count": null,
            "metadata": {},
            "outputs": [],
            "source": [
                "def is_valid_ipv6_address(ip_str):\n",
                "    \"\"\"\n",
                "    Return whether or not the `ip_str` string is a valid IPv6 address.\n",
                "    \"\"\"\n",
                "    try:\n",
                "        ipaddress.IPv6Address(ip_str)\n",
                "    except ValueError:\n",
                "        return False\n",
                "    return True\n",
                "\n"
            ]
        },
        {
            "cell_type": "markdown",
            "metadata": {},
            "source": []
        }
    ],
    "metadata": {
        "language_info": {
            "name": "python"
        }
    },
    "nbformat": 4,
    "nbformat_minor": 2
}