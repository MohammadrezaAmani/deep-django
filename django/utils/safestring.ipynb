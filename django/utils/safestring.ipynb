{
 "cells": [
  {
   "cell_type": "code",
   "execution_count": null,
   "metadata": {},
   "outputs": [],
   "source": [
    "\"\"\"\n",
    "Functions for working with \"safe strings\": strings that can be displayed safely\n",
    "without further escaping in HTML. Marking something as a \"safe string\" means\n",
    "that the producer of the string has already turned characters that should not\n",
    "be interpreted by the HTML engine (e.g. '<') into the appropriate entities.\n",
    "\"\"\"\n",
    "\n",
    "from functools import wraps\n",
    "\n",
    "from django.utils.functional import keep_lazy"
   ]
  },
  {
   "cell_type": "markdown",
   "metadata": {},
   "source": []
  },
  {
   "cell_type": "code",
   "execution_count": null,
   "metadata": {},
   "outputs": [],
   "source": [
    "class SafeData:\n",
    "    __slots__ = ()\n",
    "\n",
    "    def __html__(self):\n",
    "        \"\"\"\n",
    "        Return the html representation of a string for interoperability.\n",
    "\n",
    "        This allows other template engines to understand Django's SafeData.\n",
    "        \"\"\"\n",
    "        return self"
   ]
  },
  {
   "cell_type": "markdown",
   "metadata": {},
   "source": []
  },
  {
   "cell_type": "code",
   "execution_count": null,
   "metadata": {},
   "outputs": [],
   "source": [
    "class SafeString(str, SafeData):\n",
    "    \"\"\"\n",
    "    A str subclass that has been specifically marked as \"safe\" for HTML output\n",
    "    purposes.\n",
    "    \"\"\"\n",
    "\n",
    "    __slots__ = ()\n",
    "\n",
    "    def __add__(self, rhs):\n",
    "        \"\"\"\n",
    "        Concatenating a safe string with another safe bytestring or\n",
    "        safe string is safe. Otherwise, the result is no longer safe.\n",
    "        \"\"\"\n",
    "        t = super().__add__(rhs)\n",
    "        if isinstance(rhs, SafeData):\n",
    "            return SafeString(t)\n",
    "        return t\n",
    "\n",
    "    def __str__(self):\n",
    "        return self"
   ]
  },
  {
   "cell_type": "markdown",
   "metadata": {},
   "source": []
  },
  {
   "cell_type": "code",
   "execution_count": null,
   "metadata": {},
   "outputs": [],
   "source": [
    "SafeText = SafeString  # For backwards compatibility since Django 2.0."
   ]
  },
  {
   "cell_type": "markdown",
   "metadata": {},
   "source": []
  },
  {
   "cell_type": "code",
   "execution_count": null,
   "metadata": {},
   "outputs": [],
   "source": [
    "def _safety_decorator(safety_marker, func):\n",
    "    @wraps(func)\n",
    "    def wrapper(*args, **kwargs):\n",
    "        return safety_marker(func(*args, **kwargs))\n",
    "\n",
    "    return wrapper"
   ]
  },
  {
   "cell_type": "markdown",
   "metadata": {},
   "source": []
  },
  {
   "cell_type": "code",
   "execution_count": null,
   "metadata": {},
   "outputs": [],
   "source": [
    "@keep_lazy(SafeString)\n",
    "def mark_safe(s):\n",
    "    \"\"\"\n",
    "    Explicitly mark a string as safe for (HTML) output purposes. The returned\n",
    "    object can be used everywhere a string is appropriate.\n",
    "\n",
    "    If used on a method as a decorator, mark the returned data as safe.\n",
    "\n",
    "    Can be called multiple times on a single string.\n",
    "    \"\"\"\n",
    "    if hasattr(s, \"__html__\"):\n",
    "        return s\n",
    "    if callable(s):\n",
    "        return _safety_decorator(mark_safe, s)\n",
    "    return SafeString(s)"
   ]
  },
  {
   "cell_type": "markdown",
   "metadata": {},
   "source": []
  }
 ],
 "metadata": {
  "language_info": {
   "name": "python"
  }
 },
 "nbformat": 4,
 "nbformat_minor": 2
}