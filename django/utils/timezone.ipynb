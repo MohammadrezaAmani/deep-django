{
    "cells": [
        {
            "cell_type": "code",
            "execution_count": null,
            "metadata": {},
            "outputs": [],
            "source": [
                "\"\"\"\n",
                "Timezone-related classes and functions.\n",
                "\"\"\"\n",
                "\n",
                "import functools\n",
                "import zoneinfo\n",
                "from contextlib import ContextDecorator\n",
                "from datetime import datetime, timedelta, timezone, tzinfo\n",
                "\n",
                "from asgiref.local import Local\n",
                "\n",
                "from django.conf import settings\n",
                "\n",
                "__all__ = [\n",
                "    \"get_fixed_timezone\",\n",
                "    \"get_default_timezone\",\n",
                "    \"get_default_timezone_name\",\n",
                "    \"get_current_timezone\",\n",
                "    \"get_current_timezone_name\",\n",
                "    \"activate\",\n",
                "    \"deactivate\",\n",
                "    \"override\",\n",
                "    \"localtime\",\n",
                "    \"localdate\",\n",
                "    \"now\",\n",
                "    \"is_aware\",\n",
                "    \"is_naive\",\n",
                "    \"make_aware\",\n",
                "    \"make_naive\",\n",
                "]\n"
            ]
        },
        {
            "cell_type": "markdown",
            "metadata": {},
            "source": []
        },
        {
            "cell_type": "code",
            "execution_count": null,
            "metadata": {},
            "outputs": [],
            "source": [
                "def get_fixed_timezone(offset):\n",
                "    \"\"\"Return a tzinfo instance with a fixed offset from UTC.\"\"\"\n",
                "    if isinstance(offset, timedelta):\n",
                "        offset = offset.total_seconds() // 60\n",
                "    sign = \"-\" if offset < 0 else \"+\"\n",
                "    hhmm = \"%02d%02d\" % divmod(abs(offset), 60)\n",
                "    name = sign + hhmm\n",
                "    return timezone(timedelta(minutes=offset), name)\n"
            ]
        },
        {
            "cell_type": "markdown",
            "metadata": {},
            "source": []
        },
        {
            "cell_type": "code",
            "execution_count": null,
            "metadata": {},
            "outputs": [],
            "source": [
                "# In order to avoid accessing settings at compile time,\n",
                "# wrap the logic in a function and cache the result.\n",
                "@functools.lru_cache\n",
                "def get_default_timezone():\n",
                "    \"\"\"\n",
                "    Return the default time zone as a tzinfo instance.\n",
                "\n",
                "    This is the time zone defined by settings.TIME_ZONE.\n",
                "    \"\"\"\n",
                "    return zoneinfo.ZoneInfo(settings.TIME_ZONE)\n"
            ]
        },
        {
            "cell_type": "markdown",
            "metadata": {},
            "source": []
        },
        {
            "cell_type": "code",
            "execution_count": null,
            "metadata": {},
            "outputs": [],
            "source": [
                "# This function exists for consistency with get_current_timezone_name\n",
                "def get_default_timezone_name():\n",
                "    \"\"\"Return the name of the default time zone.\"\"\"\n",
                "    return _get_timezone_name(get_default_timezone())\n"
            ]
        },
        {
            "cell_type": "markdown",
            "metadata": {},
            "source": []
        },
        {
            "cell_type": "code",
            "execution_count": null,
            "metadata": {},
            "outputs": [],
            "source": [
                "_active = Local()\n"
            ]
        },
        {
            "cell_type": "markdown",
            "metadata": {},
            "source": []
        },
        {
            "cell_type": "code",
            "execution_count": null,
            "metadata": {},
            "outputs": [],
            "source": [
                "def get_current_timezone():\n",
                "    \"\"\"Return the currently active time zone as a tzinfo instance.\"\"\"\n",
                "    return getattr(_active, \"value\", get_default_timezone())\n"
            ]
        },
        {
            "cell_type": "markdown",
            "metadata": {},
            "source": []
        },
        {
            "cell_type": "code",
            "execution_count": null,
            "metadata": {},
            "outputs": [],
            "source": [
                "def get_current_timezone_name():\n",
                "    \"\"\"Return the name of the currently active time zone.\"\"\"\n",
                "    return _get_timezone_name(get_current_timezone())\n"
            ]
        },
        {
            "cell_type": "markdown",
            "metadata": {},
            "source": []
        },
        {
            "cell_type": "code",
            "execution_count": null,
            "metadata": {},
            "outputs": [],
            "source": [
                "def _get_timezone_name(timezone):\n",
                "    \"\"\"\n",
                "    Return the offset for fixed offset timezones, or the name of timezone if\n",
                "    not set.\n",
                "    \"\"\"\n",
                "    return timezone.tzname(None) or str(timezone)\n"
            ]
        },
        {
            "cell_type": "markdown",
            "metadata": {},
            "source": []
        },
        {
            "cell_type": "code",
            "execution_count": null,
            "metadata": {},
            "outputs": [],
            "source": [
                "# Timezone selection functions.\n",
                "\n",
                "# These functions don't change os.environ['TZ'] and call time.tzset()\n",
                "# because it isn't thread safe.\n"
            ]
        },
        {
            "cell_type": "markdown",
            "metadata": {},
            "source": []
        },
        {
            "cell_type": "code",
            "execution_count": null,
            "metadata": {},
            "outputs": [],
            "source": [
                "def activate(timezone):\n",
                "    \"\"\"\n",
                "    Set the time zone for the current thread.\n",
                "\n",
                "    The ``timezone`` argument must be an instance of a tzinfo subclass or a\n",
                "    time zone name.\n",
                "    \"\"\"\n",
                "    if isinstance(timezone, tzinfo):\n",
                "        _active.value = timezone\n",
                "    elif isinstance(timezone, str):\n",
                "        _active.value = zoneinfo.ZoneInfo(timezone)\n",
                "    else:\n",
                "        raise ValueError(\"Invalid timezone: %r\" % timezone)\n"
            ]
        },
        {
            "cell_type": "markdown",
            "metadata": {},
            "source": []
        },
        {
            "cell_type": "code",
            "execution_count": null,
            "metadata": {},
            "outputs": [],
            "source": [
                "def deactivate():\n",
                "    \"\"\"\n",
                "    Unset the time zone for the current thread.\n",
                "\n",
                "    Django will then use the time zone defined by settings.TIME_ZONE.\n",
                "    \"\"\"\n",
                "    if hasattr(_active, \"value\"):\n",
                "        del _active.value\n"
            ]
        },
        {
            "cell_type": "markdown",
            "metadata": {},
            "source": []
        },
        {
            "cell_type": "code",
            "execution_count": null,
            "metadata": {},
            "outputs": [],
            "source": [
                "class override(ContextDecorator):\n",
                "    \"\"\"\n",
                "    Temporarily set the time zone for the current thread.\n",
                "\n",
                "    This is a context manager that uses django.utils.timezone.activate()\n",
                "    to set the timezone on entry and restores the previously active timezone\n",
                "    on exit.\n",
                "\n",
                "    The ``timezone`` argument must be an instance of a ``tzinfo`` subclass, a\n",
                "    time zone name, or ``None``. If it is ``None``, Django enables the default\n",
                "    time zone.\n",
                "    \"\"\"\n",
                "\n",
                "    def __init__(self, timezone):\n",
                "        self.timezone = timezone\n",
                "\n",
                "    def __enter__(self):\n",
                "        self.old_timezone = getattr(_active, \"value\", None)\n",
                "        if self.timezone is None:\n",
                "            deactivate()\n",
                "        else:\n",
                "            activate(self.timezone)\n",
                "\n",
                "    def __exit__(self, exc_type, exc_value, traceback):\n",
                "        if self.old_timezone is None:\n",
                "            deactivate()\n",
                "        else:\n",
                "            _active.value = self.old_timezone\n"
            ]
        },
        {
            "cell_type": "markdown",
            "metadata": {},
            "source": []
        },
        {
            "cell_type": "code",
            "execution_count": null,
            "metadata": {},
            "outputs": [],
            "source": [
                "# Templates\n"
            ]
        },
        {
            "cell_type": "markdown",
            "metadata": {},
            "source": []
        },
        {
            "cell_type": "code",
            "execution_count": null,
            "metadata": {},
            "outputs": [],
            "source": [
                "def template_localtime(value, use_tz=None):\n",
                "    \"\"\"\n",
                "    Check if value is a datetime and converts it to local time if necessary.\n",
                "\n",
                "    If use_tz is provided and is not None, that will force the value to\n",
                "    be converted (or not), overriding the value of settings.USE_TZ.\n",
                "\n",
                "    This function is designed for use by the template engine.\n",
                "    \"\"\"\n",
                "    should_convert = (\n",
                "        isinstance(value, datetime)\n",
                "        and (settings.USE_TZ if use_tz is None else use_tz)\n",
                "        and not is_naive(value)\n",
                "        and getattr(value, \"convert_to_local_time\", True)\n",
                "    )\n",
                "    return localtime(value) if should_convert else value\n"
            ]
        },
        {
            "cell_type": "markdown",
            "metadata": {},
            "source": []
        },
        {
            "cell_type": "code",
            "execution_count": null,
            "metadata": {},
            "outputs": [],
            "source": [
                "# Utilities\n"
            ]
        },
        {
            "cell_type": "markdown",
            "metadata": {},
            "source": []
        },
        {
            "cell_type": "code",
            "execution_count": null,
            "metadata": {},
            "outputs": [],
            "source": [
                "def localtime(value=None, timezone=None):\n",
                "    \"\"\"\n",
                "    Convert an aware datetime.datetime to local time.\n",
                "\n",
                "    Only aware datetimes are allowed. When value is omitted, it defaults to\n",
                "    now().\n",
                "\n",
                "    Local time is defined by the current time zone, unless another time zone\n",
                "    is specified.\n",
                "    \"\"\"\n",
                "    if value is None:\n",
                "        value = now()\n",
                "    if timezone is None:\n",
                "        timezone = get_current_timezone()\n",
                "    # Emulate the behavior of astimezone() on Python < 3.6.\n",
                "    if is_naive(value):\n",
                "        raise ValueError(\"localtime() cannot be applied to a naive datetime\")\n",
                "    return value.astimezone(timezone)\n"
            ]
        },
        {
            "cell_type": "markdown",
            "metadata": {},
            "source": []
        },
        {
            "cell_type": "code",
            "execution_count": null,
            "metadata": {},
            "outputs": [],
            "source": [
                "def localdate(value=None, timezone=None):\n",
                "    \"\"\"\n",
                "    Convert an aware datetime to local time and return the value's date.\n",
                "\n",
                "    Only aware datetimes are allowed. When value is omitted, it defaults to\n",
                "    now().\n",
                "\n",
                "    Local time is defined by the current time zone, unless another time zone is\n",
                "    specified.\n",
                "    \"\"\"\n",
                "    return localtime(value, timezone).date()\n"
            ]
        },
        {
            "cell_type": "markdown",
            "metadata": {},
            "source": []
        },
        {
            "cell_type": "code",
            "execution_count": null,
            "metadata": {},
            "outputs": [],
            "source": [
                "def now():\n",
                "    \"\"\"\n",
                "    Return an aware or naive datetime.datetime, depending on settings.USE_TZ.\n",
                "    \"\"\"\n",
                "    return datetime.now(tz=timezone.utc if settings.USE_TZ else None)\n"
            ]
        },
        {
            "cell_type": "markdown",
            "metadata": {},
            "source": []
        },
        {
            "cell_type": "code",
            "execution_count": null,
            "metadata": {},
            "outputs": [],
            "source": [
                "# By design, these four functions don't perform any checks on their arguments.\n",
                "# The caller should ensure that they don't receive an invalid value like None.\n"
            ]
        },
        {
            "cell_type": "markdown",
            "metadata": {},
            "source": []
        },
        {
            "cell_type": "code",
            "execution_count": null,
            "metadata": {},
            "outputs": [],
            "source": [
                "def is_aware(value):\n",
                "    \"\"\"\n",
                "    Determine if a given datetime.datetime is aware.\n",
                "\n",
                "    The concept is defined in Python's docs:\n",
                "    https://docs.python.org/library/datetime.html#datetime.tzinfo\n",
                "\n",
                "    Assuming value.tzinfo is either None or a proper datetime.tzinfo,\n",
                "    value.utcoffset() implements the appropriate logic.\n",
                "    \"\"\"\n",
                "    return value.utcoffset() is not None\n"
            ]
        },
        {
            "cell_type": "markdown",
            "metadata": {},
            "source": []
        },
        {
            "cell_type": "code",
            "execution_count": null,
            "metadata": {},
            "outputs": [],
            "source": [
                "def is_naive(value):\n",
                "    \"\"\"\n",
                "    Determine if a given datetime.datetime is naive.\n",
                "\n",
                "    The concept is defined in Python's docs:\n",
                "    https://docs.python.org/library/datetime.html#datetime.tzinfo\n",
                "\n",
                "    Assuming value.tzinfo is either None or a proper datetime.tzinfo,\n",
                "    value.utcoffset() implements the appropriate logic.\n",
                "    \"\"\"\n",
                "    return value.utcoffset() is None\n"
            ]
        },
        {
            "cell_type": "markdown",
            "metadata": {},
            "source": []
        },
        {
            "cell_type": "code",
            "execution_count": null,
            "metadata": {},
            "outputs": [],
            "source": [
                "def make_aware(value, timezone=None):\n",
                "    \"\"\"Make a naive datetime.datetime in a given time zone aware.\"\"\"\n",
                "    if timezone is None:\n",
                "        timezone = get_current_timezone()\n",
                "    # Check that we won't overwrite the timezone of an aware datetime.\n",
                "    if is_aware(value):\n",
                "        raise ValueError(\"make_aware expects a naive datetime, got %s\" % value)\n",
                "    # This may be wrong around DST changes!\n",
                "    return value.replace(tzinfo=timezone)\n"
            ]
        },
        {
            "cell_type": "markdown",
            "metadata": {},
            "source": []
        },
        {
            "cell_type": "code",
            "execution_count": null,
            "metadata": {},
            "outputs": [],
            "source": [
                "def make_naive(value, timezone=None):\n",
                "    \"\"\"Make an aware datetime.datetime naive in a given time zone.\"\"\"\n",
                "    if timezone is None:\n",
                "        timezone = get_current_timezone()\n",
                "    # Emulate the behavior of astimezone() on Python < 3.6.\n",
                "    if is_naive(value):\n",
                "        raise ValueError(\"make_naive() cannot be applied to a naive datetime\")\n",
                "    return value.astimezone(timezone).replace(tzinfo=None)\n"
            ]
        },
        {
            "cell_type": "markdown",
            "metadata": {},
            "source": []
        },
        {
            "cell_type": "code",
            "execution_count": null,
            "metadata": {},
            "outputs": [],
            "source": [
                "def _datetime_ambiguous_or_imaginary(dt, tz):\n",
                "    return tz.utcoffset(dt.replace(fold=not dt.fold)) != tz.utcoffset(dt)\n",
                "\n"
            ]
        },
        {
            "cell_type": "markdown",
            "metadata": {},
            "source": []
        }
    ],
    "metadata": {
        "language_info": {
            "name": "python"
        }
    },
    "nbformat": 4,
    "nbformat_minor": 2
}