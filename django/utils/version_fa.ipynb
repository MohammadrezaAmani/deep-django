{
 "cells": [
  {
   "cell_type": "code",
   "execution_count": null,
   "metadata": {},
   "outputs": [],
   "source": [
    "import datetime\n",
    "import functools\n",
    "import os\n",
    "import subprocess\n",
    "import sys\n",
    "\n",
    "from django.utils.regex_helper import _lazy_re_compile\n",
    "\n",
    "# Private, stable API for detecting the Python version. PYXY means \"Python X.Y\n",
    "# or later\". So that third-party apps can use these values, each constant\n",
    "# should remain as long as the oldest supported Django version supports that\n",
    "# Python version.\n",
    "PY36 = sys.version_info >= (3, 6)\n",
    "PY37 = sys.version_info >= (3, 7)\n",
    "PY38 = sys.version_info >= (3, 8)\n",
    "PY39 = sys.version_info >= (3, 9)\n",
    "PY310 = sys.version_info >= (3, 10)\n",
    "PY311 = sys.version_info >= (3, 11)\n",
    "PY312 = sys.version_info >= (3, 12)"
   ]
  },
  {
   "cell_type": "markdown",
   "metadata": {},
   "source": []
  },
  {
   "cell_type": "code",
   "execution_count": null,
   "metadata": {},
   "outputs": [],
   "source": [
    "def get_version(version=None):\n",
    "    \"\"\"Return a PEP 440-compliant version number from VERSION.\"\"\"\n",
    "    version = get_complete_version(version)\n",
    "\n",
    "    # Now build the two parts of the version number:\n",
    "    # main = X.Y[.Z]\n",
    "    # sub = .devN - for pre-alpha releases\n",
    "    #     | {a|b|rc}N - for alpha, beta, and rc releases\n",
    "\n",
    "    main = get_main_version(version)\n",
    "\n",
    "    sub = \"\"\n",
    "    if version[3] == \"alpha\" and version[4] == 0:\n",
    "        git_changeset = get_git_changeset()\n",
    "        if git_changeset:\n",
    "            sub = \".dev%s\" % git_changeset\n",
    "\n",
    "    elif version[3] != \"final\":\n",
    "        mapping = {\"alpha\": \"a\", \"beta\": \"b\", \"rc\": \"rc\"}\n",
    "        sub = mapping[version[3]] + str(version[4])\n",
    "\n",
    "    return main + sub"
   ]
  },
  {
   "cell_type": "markdown",
   "metadata": {},
   "source": []
  },
  {
   "cell_type": "code",
   "execution_count": null,
   "metadata": {},
   "outputs": [],
   "source": [
    "def get_main_version(version=None):\n",
    "    \"\"\"Return main version (X.Y[.Z]) from VERSION.\"\"\"\n",
    "    version = get_complete_version(version)\n",
    "    parts = 2 if version[2] == 0 else 3\n",
    "    return \".\".join(str(x) for x in version[:parts])"
   ]
  },
  {
   "cell_type": "markdown",
   "metadata": {},
   "source": []
  },
  {
   "cell_type": "code",
   "execution_count": null,
   "metadata": {},
   "outputs": [],
   "source": [
    "def get_complete_version(version=None):\n",
    "    \"\"\"\n",
    "    Return a tuple of the django version. If version argument is non-empty,\n",
    "    check for correctness of the tuple provided.\n",
    "    \"\"\"\n",
    "    if version is None:\n",
    "        from django import VERSION as version\n",
    "    else:\n",
    "        assert len(version) == 5\n",
    "        assert version[3] in (\"alpha\", \"beta\", \"rc\", \"final\")\n",
    "\n",
    "    return version"
   ]
  },
  {
   "cell_type": "markdown",
   "metadata": {},
   "source": []
  },
  {
   "cell_type": "code",
   "execution_count": null,
   "metadata": {},
   "outputs": [],
   "source": [
    "def get_docs_version(version=None):\n",
    "    version = get_complete_version(version)\n",
    "    if version[3] != \"final\":\n",
    "        return \"dev\"\n",
    "    else:\n",
    "        return \"%d.%d\" % version[:2]"
   ]
  },
  {
   "cell_type": "markdown",
   "metadata": {},
   "source": []
  },
  {
   "cell_type": "code",
   "execution_count": null,
   "metadata": {},
   "outputs": [],
   "source": [
    "@functools.lru_cache\n",
    "def get_git_changeset():\n",
    "    \"\"\"Return a numeric identifier of the latest git changeset.\n",
    "\n",
    "    The result is the UTC timestamp of the changeset in YYYYMMDDHHMMSS format.\n",
    "    This value isn't guaranteed to be unique, but collisions are very unlikely,\n",
    "    so it's sufficient for generating the development version numbers.\n",
    "    \"\"\"\n",
    "    # Repository may not be found if __file__ is undefined, e.g. in a frozen\n",
    "    # module.\n",
    "    if \"__file__\" not in globals():\n",
    "        return None\n",
    "    repo_dir = os.path.dirname(os.path.dirname(os.path.abspath(__file__)))\n",
    "    git_log = subprocess.run(\n",
    "        \"git log --pretty=format:%ct --quiet -1 HEAD\",\n",
    "        capture_output=True,\n",
    "        shell=True,\n",
    "        cwd=repo_dir,\n",
    "        text=True,\n",
    "    )\n",
    "    timestamp = git_log.stdout\n",
    "    tz = datetime.timezone.utc\n",
    "    try:\n",
    "        timestamp = datetime.datetime.fromtimestamp(int(timestamp), tz=tz)\n",
    "    except ValueError:\n",
    "        return None\n",
    "    return timestamp.strftime(\"%Y%m%d%H%M%S\")"
   ]
  },
  {
   "cell_type": "markdown",
   "metadata": {},
   "source": []
  },
  {
   "cell_type": "code",
   "execution_count": null,
   "metadata": {},
   "outputs": [],
   "source": [
    "version_component_re = _lazy_re_compile(r\"(\\d+|[a-z]+|\\.)\")"
   ]
  },
  {
   "cell_type": "markdown",
   "metadata": {},
   "source": []
  },
  {
   "cell_type": "code",
   "execution_count": null,
   "metadata": {},
   "outputs": [],
   "source": [
    "def get_version_tuple(version):\n",
    "    \"\"\"\n",
    "    Return a tuple of version numbers (e.g. (1, 2, 3)) from the version\n",
    "    string (e.g. '1.2.3').\n",
    "    \"\"\"\n",
    "    version_numbers = []\n",
    "    for item in version_component_re.split(version):\n",
    "        if item and item != \".\":\n",
    "            try:\n",
    "                component = int(item)\n",
    "            except ValueError:\n",
    "                break\n",
    "            else:\n",
    "                version_numbers.append(component)\n",
    "    return tuple(version_numbers)"
   ]
  },
  {
   "cell_type": "markdown",
   "metadata": {},
   "source": []
  }
 ],
 "metadata": {
  "language_info": {
   "name": "python"
  }
 },
 "nbformat": 4,
 "nbformat_minor": 2
}