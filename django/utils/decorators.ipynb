{
 "cells": [
  {
   "cell_type": "code",
   "execution_count": null,
   "metadata": {},
   "outputs": [],
   "source": [
    "\"Functions that help with dynamically creating decorators for views.\"\n",
    "\n",
    "from functools import partial, update_wrapper, wraps\n",
    "\n",
    "from asgiref.sync import iscoroutinefunction"
   ]
  },
  {
   "cell_type": "markdown",
   "metadata": {},
   "source": []
  },
  {
   "cell_type": "code",
   "execution_count": null,
   "metadata": {},
   "outputs": [],
   "source": [
    "class classonlymethod(classmethod):\n",
    "    def __get__(self, instance, cls=None):\n",
    "        if instance is not None:\n",
    "            raise AttributeError(\n",
    "                \"This method is available only on the class, not on instances.\"\n",
    "            )\n",
    "        return super().__get__(instance, cls)"
   ]
  },
  {
   "cell_type": "markdown",
   "metadata": {},
   "source": []
  },
  {
   "cell_type": "code",
   "execution_count": null,
   "metadata": {},
   "outputs": [],
   "source": [
    "def _update_method_wrapper(_wrapper, decorator):\n",
    "    # _multi_decorate()'s bound_method isn't available in this scope. Cheat by\n",
    "    # using it on a dummy function.\n",
    "    @decorator\n",
    "    def dummy(*args, **kwargs):\n",
    "        pass\n",
    "\n",
    "    update_wrapper(_wrapper, dummy)"
   ]
  },
  {
   "cell_type": "markdown",
   "metadata": {},
   "source": []
  },
  {
   "cell_type": "code",
   "execution_count": null,
   "metadata": {},
   "outputs": [],
   "source": [
    "def _multi_decorate(decorators, method):\n",
    "    \"\"\"\n",
    "    Decorate `method` with one or more function decorators. `decorators` can be\n",
    "    a single decorator or an iterable of decorators.\n",
    "    \"\"\"\n",
    "    if hasattr(decorators, \"__iter__\"):\n",
    "        # Apply a list/tuple of decorators if 'decorators' is one. Decorator\n",
    "        # functions are applied so that the call order is the same as the\n",
    "        # order in which they appear in the iterable.\n",
    "        decorators = decorators[::-1]\n",
    "    else:\n",
    "        decorators = [decorators]\n",
    "\n",
    "    def _wrapper(self, *args, **kwargs):\n",
    "        # bound_method has the signature that 'decorator' expects i.e. no\n",
    "        # 'self' argument, but it's a closure over self so it can call\n",
    "        # 'func'. Also, wrap method.__get__() in a function because new\n",
    "        # attributes can't be set on bound method objects, only on functions.\n",
    "        bound_method = wraps(method)(partial(method.__get__(self, type(self))))\n",
    "        for dec in decorators:\n",
    "            bound_method = dec(bound_method)\n",
    "        return bound_method(*args, **kwargs)\n",
    "\n",
    "    # Copy any attributes that a decorator adds to the function it decorates.\n",
    "    for dec in decorators:\n",
    "        _update_method_wrapper(_wrapper, dec)\n",
    "    # Preserve any existing attributes of 'method', including the name.\n",
    "    update_wrapper(_wrapper, method)\n",
    "    return _wrapper"
   ]
  },
  {
   "cell_type": "markdown",
   "metadata": {},
   "source": []
  },
  {
   "cell_type": "code",
   "execution_count": null,
   "metadata": {},
   "outputs": [],
   "source": [
    "def method_decorator(decorator, name=\"\"):\n",
    "    \"\"\"\n",
    "    Convert a function decorator into a method decorator\n",
    "    \"\"\"\n",
    "\n",
    "    # 'obj' can be a class or a function. If 'obj' is a function at the time it\n",
    "    # is passed to _dec,  it will eventually be a method of the class it is\n",
    "    # defined on. If 'obj' is a class, the 'name' is required to be the name\n",
    "    # of the method that will be decorated.\n",
    "    def _dec(obj):\n",
    "        if not isinstance(obj, type):\n",
    "            return _multi_decorate(decorator, obj)\n",
    "        if not (name and hasattr(obj, name)):\n",
    "            raise ValueError(\n",
    "                \"The keyword argument `name` must be the name of a method \"\n",
    "                \"of the decorated class: %s. Got '%s' instead.\" % (obj, name)\n",
    "            )\n",
    "        method = getattr(obj, name)\n",
    "        if not callable(method):\n",
    "            raise TypeError(\n",
    "                \"Cannot decorate '%s' as it isn't a callable attribute of \"\n",
    "                \"%s (%s).\" % (name, obj, method)\n",
    "            )\n",
    "        _wrapper = _multi_decorate(decorator, method)\n",
    "        setattr(obj, name, _wrapper)\n",
    "        return obj\n",
    "\n",
    "    # Don't worry about making _dec look similar to a list/tuple as it's rather\n",
    "    # meaningless.\n",
    "    if not hasattr(decorator, \"__iter__\"):\n",
    "        update_wrapper(_dec, decorator)\n",
    "    # Change the name to aid debugging.\n",
    "    obj = decorator if hasattr(decorator, \"__name__\") else decorator.__class__\n",
    "    _dec.__name__ = \"method_decorator(%s)\" % obj.__name__\n",
    "    return _dec"
   ]
  },
  {
   "cell_type": "markdown",
   "metadata": {},
   "source": []
  },
  {
   "cell_type": "code",
   "execution_count": null,
   "metadata": {},
   "outputs": [],
   "source": [
    "def decorator_from_middleware_with_args(middleware_class):\n",
    "    \"\"\"\n",
    "    Like decorator_from_middleware, but return a function\n",
    "    that accepts the arguments to be passed to the middleware_class.\n",
    "    Use like::\n",
    "\n",
    "         cache_page = decorator_from_middleware_with_args(CacheMiddleware)\n",
    "         # ...\n",
    "\n",
    "         @cache_page(3600)\n",
    "         def my_view(request):\n",
    "             # ...\n",
    "    \"\"\"\n",
    "    return make_middleware_decorator(middleware_class)"
   ]
  },
  {
   "cell_type": "markdown",
   "metadata": {},
   "source": []
  },
  {
   "cell_type": "code",
   "execution_count": null,
   "metadata": {},
   "outputs": [],
   "source": [
    "def decorator_from_middleware(middleware_class):\n",
    "    \"\"\"\n",
    "    Given a middleware class (not an instance), return a view decorator. This\n",
    "    lets you use middleware functionality on a per-view basis. The middleware\n",
    "    is created with no params passed.\n",
    "    \"\"\"\n",
    "    return make_middleware_decorator(middleware_class)()"
   ]
  },
  {
   "cell_type": "markdown",
   "metadata": {},
   "source": []
  },
  {
   "cell_type": "code",
   "execution_count": null,
   "metadata": {},
   "outputs": [],
   "source": [
    "def make_middleware_decorator(middleware_class):\n",
    "    def _make_decorator(*m_args, **m_kwargs):\n",
    "        def _decorator(view_func):\n",
    "            middleware = middleware_class(view_func, *m_args, **m_kwargs)\n",
    "\n",
    "            def _pre_process_request(request, *args, **kwargs):\n",
    "                if hasattr(middleware, \"process_request\"):\n",
    "                    result = middleware.process_request(request)\n",
    "                    if result is not None:\n",
    "                        return result\n",
    "                if hasattr(middleware, \"process_view\"):\n",
    "                    result = middleware.process_view(request, view_func, args, kwargs)\n",
    "                    if result is not None:\n",
    "                        return result\n",
    "                return None\n",
    "\n",
    "            def _process_exception(request, exception):\n",
    "                if hasattr(middleware, \"process_exception\"):\n",
    "                    result = middleware.process_exception(request, exception)\n",
    "                    if result is not None:\n",
    "                        return result\n",
    "                raise\n",
    "\n",
    "            def _post_process_request(request, response):\n",
    "                if hasattr(response, \"render\") and callable(response.render):\n",
    "                    if hasattr(middleware, \"process_template_response\"):\n",
    "                        response = middleware.process_template_response(\n",
    "                            request, response\n",
    "                        )\n",
    "                    # Defer running of process_response until after the template\n",
    "                    # has been rendered:\n",
    "                    if hasattr(middleware, \"process_response\"):\n",
    "\n",
    "                        def callback(response):\n",
    "                            return middleware.process_response(request, response)\n",
    "\n",
    "                        response.add_post_render_callback(callback)\n",
    "                else:\n",
    "                    if hasattr(middleware, \"process_response\"):\n",
    "                        return middleware.process_response(request, response)\n",
    "                return response\n",
    "\n",
    "            if iscoroutinefunction(view_func):\n",
    "\n",
    "                async def _view_wrapper(request, *args, **kwargs):\n",
    "                    result = _pre_process_request(request, *args, **kwargs)\n",
    "                    if result is not None:\n",
    "                        return result\n",
    "\n",
    "                    try:\n",
    "                        response = await view_func(request, *args, **kwargs)\n",
    "                    except Exception as e:\n",
    "                        result = _process_exception(request, e)\n",
    "                        if result is not None:\n",
    "                            return result\n",
    "\n",
    "                    return _post_process_request(request, response)\n",
    "\n",
    "            else:\n",
    "\n",
    "                def _view_wrapper(request, *args, **kwargs):\n",
    "                    result = _pre_process_request(request, *args, **kwargs)\n",
    "                    if result is not None:\n",
    "                        return result\n",
    "\n",
    "                    try:\n",
    "                        response = view_func(request, *args, **kwargs)\n",
    "                    except Exception as e:\n",
    "                        result = _process_exception(request, e)\n",
    "                        if result is not None:\n",
    "                            return result\n",
    "\n",
    "                    return _post_process_request(request, response)\n",
    "\n",
    "            return wraps(view_func)(_view_wrapper)\n",
    "\n",
    "        return _decorator\n",
    "\n",
    "    return _make_decorator"
   ]
  },
  {
   "cell_type": "markdown",
   "metadata": {},
   "source": []
  },
  {
   "cell_type": "code",
   "execution_count": null,
   "metadata": {},
   "outputs": [],
   "source": [
    "def sync_and_async_middleware(func):\n",
    "    \"\"\"\n",
    "    Mark a middleware factory as returning a hybrid middleware supporting both\n",
    "    types of request.\n",
    "    \"\"\"\n",
    "    func.sync_capable = True\n",
    "    func.async_capable = True\n",
    "    return func"
   ]
  },
  {
   "cell_type": "markdown",
   "metadata": {},
   "source": []
  },
  {
   "cell_type": "code",
   "execution_count": null,
   "metadata": {},
   "outputs": [],
   "source": [
    "def sync_only_middleware(func):\n",
    "    \"\"\"\n",
    "    Mark a middleware factory as returning a sync middleware.\n",
    "    This is the default.\n",
    "    \"\"\"\n",
    "    func.sync_capable = True\n",
    "    func.async_capable = False\n",
    "    return func"
   ]
  },
  {
   "cell_type": "markdown",
   "metadata": {},
   "source": []
  },
  {
   "cell_type": "code",
   "execution_count": null,
   "metadata": {},
   "outputs": [],
   "source": [
    "def async_only_middleware(func):\n",
    "    \"\"\"Mark a middleware factory as returning an async middleware.\"\"\"\n",
    "    func.sync_capable = False\n",
    "    func.async_capable = True\n",
    "    return func"
   ]
  },
  {
   "cell_type": "markdown",
   "metadata": {},
   "source": []
  }
 ],
 "metadata": {
  "language_info": {
   "name": "python"
  }
 },
 "nbformat": 4,
 "nbformat_minor": 2
}