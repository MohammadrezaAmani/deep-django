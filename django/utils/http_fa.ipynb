{
    "cells": [
        {
            "cell_type": "code",
            "execution_count": null,
            "metadata": {},
            "outputs": [],
            "source": [
                "import base64\n",
                "import datetime\n",
                "import re\n",
                "import unicodedata\n",
                "from binascii import Error as BinasciiError\n",
                "from email.utils import formatdate\n",
                "from urllib.parse import quote, unquote\n",
                "from urllib.parse import urlencode as original_urlencode\n",
                "from urllib.parse import urlparse\n",
                "\n",
                "from django.utils.datastructures import MultiValueDict\n",
                "from django.utils.regex_helper import _lazy_re_compile\n",
                "\n",
                "# Based on RFC 9110 Appendix A.\n",
                "ETAG_MATCH = _lazy_re_compile(\n",
                "    r\"\"\"\n",
                "    \\A(      # start of string and capture group\n",
                "    (?:W/)?  # optional weak indicator\n",
                "    \"        # opening quote\n",
                "    [^\"]*    # any sequence of non-quote characters\n",
                "    \"        # end quote\n",
                "    )\\Z      # end of string and capture group\n",
                "\"\"\",\n",
                "    re.X,\n",
                ")\n",
                "\n",
                "MONTHS = \"jan feb mar apr may jun jul aug sep oct nov dec\".split()\n",
                "__D = r\"(?P<day>[0-9]{2})\"\n",
                "__D2 = r\"(?P<day>[ 0-9][0-9])\"\n",
                "__M = r\"(?P<mon>\\w{3})\"\n",
                "__Y = r\"(?P<year>[0-9]{4})\"\n",
                "__Y2 = r\"(?P<year>[0-9]{2})\"\n",
                "__T = r\"(?P<hour>[0-9]{2}):(?P<min>[0-9]{2}):(?P<sec>[0-9]{2})\"\n",
                "RFC1123_DATE = _lazy_re_compile(r\"^\\w{3}, %s %s %s %s GMT$\" % (__D, __M, __Y, __T))\n",
                "RFC850_DATE = _lazy_re_compile(r\"^\\w{6,9}, %s-%s-%s %s GMT$\" % (__D, __M, __Y2, __T))\n",
                "ASCTIME_DATE = _lazy_re_compile(r\"^\\w{3} %s %s %s %s$\" % (__M, __D2, __T, __Y))\n",
                "\n",
                "RFC3986_GENDELIMS = \":/?#[]@\"\n",
                "RFC3986_SUBDELIMS = \"!$&'()*+,;=\"\n"
            ]
        },
        {
            "cell_type": "markdown",
            "metadata": {},
            "source": []
        },
        {
            "cell_type": "code",
            "execution_count": null,
            "metadata": {},
            "outputs": [],
            "source": [
                "def urlencode(query, doseq=False):\n",
                "    \"\"\"\n",
                "    A version of Python's urllib.parse.urlencode() function that can operate on\n",
                "    MultiValueDict and non-string values.\n",
                "    \"\"\"\n",
                "    if isinstance(query, MultiValueDict):\n",
                "        query = query.lists()\n",
                "    elif hasattr(query, \"items\"):\n",
                "        query = query.items()\n",
                "    query_params = []\n",
                "    for key, value in query:\n",
                "        if value is None:\n",
                "            raise TypeError(\n",
                "                \"Cannot encode None for key '%s' in a query string. Did you \"\n",
                "                \"mean to pass an empty string or omit the value?\" % key\n",
                "            )\n",
                "        elif not doseq or isinstance(value, (str, bytes)):\n",
                "            query_val = value\n",
                "        else:\n",
                "            try:\n",
                "                itr = iter(value)\n",
                "            except TypeError:\n",
                "                query_val = value\n",
                "            else:\n",
                "                # Consume generators and iterators, when doseq=True, to\n",
                "                # work around https://bugs.python.org/issue31706.\n",
                "                query_val = []\n",
                "                for item in itr:\n",
                "                    if item is None:\n",
                "                        raise TypeError(\n",
                "                            \"Cannot encode None for key '%s' in a query \"\n",
                "                            \"string. Did you mean to pass an empty string or \"\n",
                "                            \"omit the value?\" % key\n",
                "                        )\n",
                "                    elif not isinstance(item, bytes):\n",
                "                        item = str(item)\n",
                "                    query_val.append(item)\n",
                "        query_params.append((key, query_val))\n",
                "    return original_urlencode(query_params, doseq)\n"
            ]
        },
        {
            "cell_type": "markdown",
            "metadata": {},
            "source": []
        },
        {
            "cell_type": "code",
            "execution_count": null,
            "metadata": {},
            "outputs": [],
            "source": [
                "def http_date(epoch_seconds=None):\n",
                "    \"\"\"\n",
                "    Format the time to match the RFC 5322 date format as specified by RFC 9110\n",
                "    Section 5.6.7.\n",
                "\n",
                "    `epoch_seconds` is a floating point number expressed in seconds since the\n",
                "    epoch, in UTC - such as that outputted by time.time(). If set to None, it\n",
                "    defaults to the current time.\n",
                "\n",
                "    Output a string in the format 'Wdy, DD Mon YYYY HH:MM:SS GMT'.\n",
                "    \"\"\"\n",
                "    return formatdate(epoch_seconds, usegmt=True)\n"
            ]
        },
        {
            "cell_type": "markdown",
            "metadata": {},
            "source": []
        },
        {
            "cell_type": "code",
            "execution_count": null,
            "metadata": {},
            "outputs": [],
            "source": [
                "def parse_http_date(date):\n",
                "    \"\"\"\n",
                "    Parse a date format as specified by HTTP RFC 9110 Section 5.6.7.\n",
                "\n",
                "    The three formats allowed by the RFC are accepted, even if only the first\n",
                "    one is still in widespread use.\n",
                "\n",
                "    Return an integer expressed in seconds since the epoch, in UTC.\n",
                "    \"\"\"\n",
                "    # email.utils.parsedate() does the job for RFC 1123 dates; unfortunately\n",
                "    # RFC 9110 makes it mandatory to support RFC 850 dates too. So we roll\n",
                "    # our own RFC-compliant parsing.\n",
                "    for regex in RFC1123_DATE, RFC850_DATE, ASCTIME_DATE:\n",
                "        m = regex.match(date)\n",
                "        if m is not None:\n",
                "            break\n",
                "    else:\n",
                "        raise ValueError(\"%r is not in a valid HTTP date format\" % date)\n",
                "    try:\n",
                "        tz = datetime.timezone.utc\n",
                "        year = int(m[\"year\"])\n",
                "        if year < 100:\n",
                "            current_year = datetime.datetime.now(tz=tz).year\n",
                "            current_century = current_year - (current_year % 100)\n",
                "            if year - (current_year % 100) > 50:\n",
                "                # year that appears to be more than 50 years in the future are\n",
                "                # interpreted as representing the past.\n",
                "                year += current_century - 100\n",
                "            else:\n",
                "                year += current_century\n",
                "        month = MONTHS.index(m[\"mon\"].lower()) + 1\n",
                "        day = int(m[\"day\"])\n",
                "        hour = int(m[\"hour\"])\n",
                "        min = int(m[\"min\"])\n",
                "        sec = int(m[\"sec\"])\n",
                "        result = datetime.datetime(year, month, day, hour, min, sec, tzinfo=tz)\n",
                "        return int(result.timestamp())\n",
                "    except Exception as exc:\n",
                "        raise ValueError(\"%r is not a valid date\" % date) from exc\n"
            ]
        },
        {
            "cell_type": "markdown",
            "metadata": {},
            "source": []
        },
        {
            "cell_type": "code",
            "execution_count": null,
            "metadata": {},
            "outputs": [],
            "source": [
                "def parse_http_date_safe(date):\n",
                "    \"\"\"\n",
                "    Same as parse_http_date, but return None if the input is invalid.\n",
                "    \"\"\"\n",
                "    try:\n",
                "        return parse_http_date(date)\n",
                "    except Exception:\n",
                "        pass\n"
            ]
        },
        {
            "cell_type": "markdown",
            "metadata": {},
            "source": []
        },
        {
            "cell_type": "code",
            "execution_count": null,
            "metadata": {},
            "outputs": [],
            "source": [
                "# Base 36 functions: useful for generating compact URLs\n"
            ]
        },
        {
            "cell_type": "markdown",
            "metadata": {},
            "source": []
        },
        {
            "cell_type": "code",
            "execution_count": null,
            "metadata": {},
            "outputs": [],
            "source": [
                "def base36_to_int(s):\n",
                "    \"\"\"\n",
                "    Convert a base 36 string to an int. Raise ValueError if the input won't fit\n",
                "    into an int.\n",
                "    \"\"\"\n",
                "    # To prevent overconsumption of server resources, reject any\n",
                "    # base36 string that is longer than 13 base36 digits (13 digits\n",
                "    # is sufficient to base36-encode any 64-bit integer)\n",
                "    if len(s) > 13:\n",
                "        raise ValueError(\"Base36 input too large\")\n",
                "    return int(s, 36)\n"
            ]
        },
        {
            "cell_type": "markdown",
            "metadata": {},
            "source": []
        },
        {
            "cell_type": "code",
            "execution_count": null,
            "metadata": {},
            "outputs": [],
            "source": [
                "def int_to_base36(i):\n",
                "    \"\"\"Convert an integer to a base36 string.\"\"\"\n",
                "    char_set = \"0123456789abcdefghijklmnopqrstuvwxyz\"\n",
                "    if i < 0:\n",
                "        raise ValueError(\"Negative base36 conversion input.\")\n",
                "    if i < 36:\n",
                "        return char_set[i]\n",
                "    b36 = \"\"\n",
                "    while i != 0:\n",
                "        i, n = divmod(i, 36)\n",
                "        b36 = char_set[n] + b36\n",
                "    return b36\n"
            ]
        },
        {
            "cell_type": "markdown",
            "metadata": {},
            "source": []
        },
        {
            "cell_type": "code",
            "execution_count": null,
            "metadata": {},
            "outputs": [],
            "source": [
                "def urlsafe_base64_encode(s):\n",
                "    \"\"\"\n",
                "    Encode a bytestring to a base64 string for use in URLs. Strip any trailing\n",
                "    equal signs.\n",
                "    \"\"\"\n",
                "    return base64.urlsafe_b64encode(s).rstrip(b\"\\n=\").decode(\"ascii\")\n"
            ]
        },
        {
            "cell_type": "markdown",
            "metadata": {},
            "source": []
        },
        {
            "cell_type": "code",
            "execution_count": null,
            "metadata": {},
            "outputs": [],
            "source": [
                "def urlsafe_base64_decode(s):\n",
                "    \"\"\"\n",
                "    Decode a base64 encoded string. Add back any trailing equal signs that\n",
                "    might have been stripped.\n",
                "    \"\"\"\n",
                "    s = s.encode()\n",
                "    try:\n",
                "        return base64.urlsafe_b64decode(s.ljust(len(s) + len(s) % 4, b\"=\"))\n",
                "    except (LookupError, BinasciiError) as e:\n",
                "        raise ValueError(e)\n"
            ]
        },
        {
            "cell_type": "markdown",
            "metadata": {},
            "source": []
        },
        {
            "cell_type": "code",
            "execution_count": null,
            "metadata": {},
            "outputs": [],
            "source": [
                "def parse_etags(etag_str):\n",
                "    \"\"\"\n",
                "    Parse a string of ETags given in an If-None-Match or If-Match header as\n",
                "    defined by RFC 9110. Return a list of quoted ETags, or ['*'] if all ETags\n",
                "    should be matched.\n",
                "    \"\"\"\n",
                "    if etag_str.strip() == \"*\":\n",
                "        return [\"*\"]\n",
                "    else:\n",
                "        # Parse each ETag individually, and return any that are valid.\n",
                "        etag_matches = (ETAG_MATCH.match(etag.strip()) for etag in etag_str.split(\",\"))\n",
                "        return [match[1] for match in etag_matches if match]\n"
            ]
        },
        {
            "cell_type": "markdown",
            "metadata": {},
            "source": []
        },
        {
            "cell_type": "code",
            "execution_count": null,
            "metadata": {},
            "outputs": [],
            "source": [
                "def quote_etag(etag_str):\n",
                "    \"\"\"\n",
                "    If the provided string is already a quoted ETag, return it. Otherwise, wrap\n",
                "    the string in quotes, making it a strong ETag.\n",
                "    \"\"\"\n",
                "    if ETAG_MATCH.match(etag_str):\n",
                "        return etag_str\n",
                "    else:\n",
                "        return '\"%s\"' % etag_str\n"
            ]
        },
        {
            "cell_type": "markdown",
            "metadata": {},
            "source": []
        },
        {
            "cell_type": "code",
            "execution_count": null,
            "metadata": {},
            "outputs": [],
            "source": [
                "def is_same_domain(host, pattern):\n",
                "    \"\"\"\n",
                "    Return ``True`` if the host is either an exact match or a match\n",
                "    to the wildcard pattern.\n",
                "\n",
                "    Any pattern beginning with a period matches a domain and all of its\n",
                "    subdomains. (e.g. ``.example.com`` matches ``example.com`` and\n",
                "    ``foo.example.com``). Anything else is an exact string match.\n",
                "    \"\"\"\n",
                "    if not pattern:\n",
                "        return False\n",
                "\n",
                "    pattern = pattern.lower()\n",
                "    return (\n",
                "        pattern[0] == \".\"\n",
                "        and (host.endswith(pattern) or host == pattern[1:])\n",
                "        or pattern == host\n",
                "    )\n"
            ]
        },
        {
            "cell_type": "markdown",
            "metadata": {},
            "source": []
        },
        {
            "cell_type": "code",
            "execution_count": null,
            "metadata": {},
            "outputs": [],
            "source": [
                "def url_has_allowed_host_and_scheme(url, allowed_hosts, require_https=False):\n",
                "    \"\"\"\n",
                "    Return ``True`` if the url uses an allowed host and a safe scheme.\n",
                "\n",
                "    Always return ``False`` on an empty url.\n",
                "\n",
                "    If ``require_https`` is ``True``, only 'https' will be considered a valid\n",
                "    scheme, as opposed to 'http' and 'https' with the default, ``False``.\n",
                "\n",
                "    Note: \"True\" doesn't entail that a URL is \"safe\". It may still be e.g.\n",
                "    quoted incorrectly. Ensure to also use django.utils.encoding.iri_to_uri()\n",
                "    on the path component of untrusted URLs.\n",
                "    \"\"\"\n",
                "    if url is not None:\n",
                "        url = url.strip()\n",
                "    if not url:\n",
                "        return False\n",
                "    if allowed_hosts is None:\n",
                "        allowed_hosts = set()\n",
                "    elif isinstance(allowed_hosts, str):\n",
                "        allowed_hosts = {allowed_hosts}\n",
                "    # Chrome treats \\ completely as / in paths but it could be part of some\n",
                "    # basic auth credentials so we need to check both URLs.\n",
                "    return _url_has_allowed_host_and_scheme(\n",
                "        url, allowed_hosts, require_https=require_https\n",
                "    ) and _url_has_allowed_host_and_scheme(\n",
                "        url.replace(\"\\\\\", \"/\"), allowed_hosts, require_https=require_https\n",
                "    )\n"
            ]
        },
        {
            "cell_type": "markdown",
            "metadata": {},
            "source": []
        },
        {
            "cell_type": "code",
            "execution_count": null,
            "metadata": {},
            "outputs": [],
            "source": [
                "def _url_has_allowed_host_and_scheme(url, allowed_hosts, require_https=False):\n",
                "    # Chrome considers any URL with more than two slashes to be absolute, but\n",
                "    # urlparse is not so flexible. Treat any url with three slashes as unsafe.\n",
                "    if url.startswith(\"///\"):\n",
                "        return False\n",
                "    try:\n",
                "        url_info = urlparse(url)\n",
                "    except ValueError:  # e.g. invalid IPv6 addresses\n",
                "        return False\n",
                "    # Forbid URLs like http:///example.com - with a scheme, but without a hostname.\n",
                "    # In that URL, example.com is not the hostname but, a path component. However,\n",
                "    # Chrome will still consider example.com to be the hostname, so we must not\n",
                "    # allow this syntax.\n",
                "    if not url_info.netloc and url_info.scheme:\n",
                "        return False\n",
                "    # Forbid URLs that start with control characters. Some browsers (like\n",
                "    # Chrome) ignore quite a few control characters at the start of a\n",
                "    # URL and might consider the URL as scheme relative.\n",
                "    if unicodedata.category(url[0])[0] == \"C\":\n",
                "        return False\n",
                "    scheme = url_info.scheme\n",
                "    # Consider URLs without a scheme (e.g. //example.com/p) to be http.\n",
                "    if not url_info.scheme and url_info.netloc:\n",
                "        scheme = \"http\"\n",
                "    valid_schemes = [\"https\"] if require_https else [\"http\", \"https\"]\n",
                "    return (not url_info.netloc or url_info.netloc in allowed_hosts) and (\n",
                "        not scheme or scheme in valid_schemes\n",
                "    )\n"
            ]
        },
        {
            "cell_type": "markdown",
            "metadata": {},
            "source": []
        },
        {
            "cell_type": "code",
            "execution_count": null,
            "metadata": {},
            "outputs": [],
            "source": [
                "def escape_leading_slashes(url):\n",
                "    \"\"\"\n",
                "    If redirecting to an absolute path (two leading slashes), a slash must be\n",
                "    escaped to prevent browsers from handling the path as schemaless and\n",
                "    redirecting to another host.\n",
                "    \"\"\"\n",
                "    if url.startswith(\"//\"):\n",
                "        url = \"/%2F{}\".format(url.removeprefix(\"//\"))\n",
                "    return url\n"
            ]
        },
        {
            "cell_type": "markdown",
            "metadata": {},
            "source": []
        },
        {
            "cell_type": "code",
            "execution_count": null,
            "metadata": {},
            "outputs": [],
            "source": [
                "def _parseparam(s):\n",
                "    while s[:1] == \";\":\n",
                "        s = s[1:]\n",
                "        end = s.find(\";\")\n",
                "        while end > 0 and (s.count('\"', 0, end) - s.count('\\\\\"', 0, end)) % 2:\n",
                "            end = s.find(\";\", end + 1)\n",
                "        if end < 0:\n",
                "            end = len(s)\n",
                "        f = s[:end]\n",
                "        yield f.strip()\n",
                "        s = s[end:]\n"
            ]
        },
        {
            "cell_type": "markdown",
            "metadata": {},
            "source": []
        },
        {
            "cell_type": "code",
            "execution_count": null,
            "metadata": {},
            "outputs": [],
            "source": [
                "def parse_header_parameters(line):\n",
                "    \"\"\"\n",
                "    Parse a Content-type like header.\n",
                "    Return the main content-type and a dictionary of options.\n",
                "    \"\"\"\n",
                "    parts = _parseparam(\";\" + line)\n",
                "    key = parts.__next__().lower()\n",
                "    pdict = {}\n",
                "    for p in parts:\n",
                "        i = p.find(\"=\")\n",
                "        if i >= 0:\n",
                "            has_encoding = False\n",
                "            name = p[:i].strip().lower()\n",
                "            if name.endswith(\"*\"):\n",
                "                # Lang/encoding embedded in the value (like \"filename*=UTF-8''file.ext\")\n",
                "                # https://tools.ietf.org/html/rfc2231#section-4\n",
                "                name = name[:-1]\n",
                "                if p.count(\"'\") == 2:\n",
                "                    has_encoding = True\n",
                "            value = p[i + 1 :].strip()\n",
                "            if len(value) >= 2 and value[0] == value[-1] == '\"':\n",
                "                value = value[1:-1]\n",
                "                value = value.replace(\"\\\\\\\\\", \"\\\\\").replace('\\\\\"', '\"')\n",
                "            if has_encoding:\n",
                "                encoding, lang, value = value.split(\"'\")\n",
                "                value = unquote(value, encoding=encoding)\n",
                "            pdict[name] = value\n",
                "    return key, pdict\n"
            ]
        },
        {
            "cell_type": "markdown",
            "metadata": {},
            "source": []
        },
        {
            "cell_type": "code",
            "execution_count": null,
            "metadata": {},
            "outputs": [],
            "source": [
                "def content_disposition_header(as_attachment, filename):\n",
                "    \"\"\"\n",
                "    Construct a Content-Disposition HTTP header value from the given filename\n",
                "    as specified by RFC 6266.\n",
                "    \"\"\"\n",
                "    if filename:\n",
                "        disposition = \"attachment\" if as_attachment else \"inline\"\n",
                "        try:\n",
                "            filename.encode(\"ascii\")\n",
                "            file_expr = 'filename=\"{}\"'.format(\n",
                "                filename.replace(\"\\\\\", \"\\\\\\\\\").replace('\"', r\"\\\"\")\n",
                "            )\n",
                "        except UnicodeEncodeError:\n",
                "            file_expr = \"filename*=utf-8''{}\".format(quote(filename))\n",
                "        return f\"{disposition}; {file_expr}\"\n",
                "    elif as_attachment:\n",
                "        return \"attachment\"\n",
                "    else:\n",
                "        return None\n",
                "\n"
            ]
        },
        {
            "cell_type": "markdown",
            "metadata": {},
            "source": []
        }
    ],
    "metadata": {
        "language_info": {
            "name": "python"
        }
    },
    "nbformat": 4,
    "nbformat_minor": 2
}