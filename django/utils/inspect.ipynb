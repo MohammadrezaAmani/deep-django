{
    "cells": [
        {
            "cell_type": "code",
            "execution_count": null,
            "metadata": {},
            "outputs": [],
            "source": [
                "import functools\n",
                "import inspect\n"
            ]
        },
        {
            "cell_type": "markdown",
            "metadata": {},
            "source": []
        },
        {
            "cell_type": "code",
            "execution_count": null,
            "metadata": {},
            "outputs": [],
            "source": [
                "@functools.lru_cache(maxsize=512)\n",
                "def _get_func_parameters(func, remove_first):\n",
                "    parameters = tuple(inspect.signature(func).parameters.values())\n",
                "    if remove_first:\n",
                "        parameters = parameters[1:]\n",
                "    return parameters\n"
            ]
        },
        {
            "cell_type": "markdown",
            "metadata": {},
            "source": []
        },
        {
            "cell_type": "code",
            "execution_count": null,
            "metadata": {},
            "outputs": [],
            "source": [
                "def _get_callable_parameters(meth_or_func):\n",
                "    is_method = inspect.ismethod(meth_or_func)\n",
                "    func = meth_or_func.__func__ if is_method else meth_or_func\n",
                "    return _get_func_parameters(func, remove_first=is_method)\n"
            ]
        },
        {
            "cell_type": "markdown",
            "metadata": {},
            "source": []
        },
        {
            "cell_type": "code",
            "execution_count": null,
            "metadata": {},
            "outputs": [],
            "source": [
                "def get_func_args(func):\n",
                "    params = _get_callable_parameters(func)\n",
                "    return [\n",
                "        param.name\n",
                "        for param in params\n",
                "        if param.kind == inspect.Parameter.POSITIONAL_OR_KEYWORD\n",
                "    ]\n"
            ]
        },
        {
            "cell_type": "markdown",
            "metadata": {},
            "source": []
        },
        {
            "cell_type": "code",
            "execution_count": null,
            "metadata": {},
            "outputs": [],
            "source": [
                "def get_func_full_args(func):\n",
                "    \"\"\"\n",
                "    Return a list of (argument name, default value) tuples. If the argument\n",
                "    does not have a default value, omit it in the tuple. Arguments such as\n",
                "    *args and **kwargs are also included.\n",
                "    \"\"\"\n",
                "    params = _get_callable_parameters(func)\n",
                "    args = []\n",
                "    for param in params:\n",
                "        name = param.name\n",
                "        # Ignore 'self'\n",
                "        if name == \"self\":\n",
                "            continue\n",
                "        if param.kind == inspect.Parameter.VAR_POSITIONAL:\n",
                "            name = \"*\" + name\n",
                "        elif param.kind == inspect.Parameter.VAR_KEYWORD:\n",
                "            name = \"**\" + name\n",
                "        if param.default != inspect.Parameter.empty:\n",
                "            args.append((name, param.default))\n",
                "        else:\n",
                "            args.append((name,))\n",
                "    return args\n"
            ]
        },
        {
            "cell_type": "markdown",
            "metadata": {},
            "source": []
        },
        {
            "cell_type": "code",
            "execution_count": null,
            "metadata": {},
            "outputs": [],
            "source": [
                "def func_accepts_kwargs(func):\n",
                "    \"\"\"Return True if function 'func' accepts keyword arguments **kwargs.\"\"\"\n",
                "    return any(p for p in _get_callable_parameters(func) if p.kind == p.VAR_KEYWORD)\n"
            ]
        },
        {
            "cell_type": "markdown",
            "metadata": {},
            "source": []
        },
        {
            "cell_type": "code",
            "execution_count": null,
            "metadata": {},
            "outputs": [],
            "source": [
                "def func_accepts_var_args(func):\n",
                "    \"\"\"\n",
                "    Return True if function 'func' accepts positional arguments *args.\n",
                "    \"\"\"\n",
                "    return any(p for p in _get_callable_parameters(func) if p.kind == p.VAR_POSITIONAL)\n"
            ]
        },
        {
            "cell_type": "markdown",
            "metadata": {},
            "source": []
        },
        {
            "cell_type": "code",
            "execution_count": null,
            "metadata": {},
            "outputs": [],
            "source": [
                "def method_has_no_args(meth):\n",
                "    \"\"\"Return True if a method only accepts 'self'.\"\"\"\n",
                "    count = len(\n",
                "        [p for p in _get_callable_parameters(meth) if p.kind == p.POSITIONAL_OR_KEYWORD]\n",
                "    )\n",
                "    return count == 0 if inspect.ismethod(meth) else count == 1\n"
            ]
        },
        {
            "cell_type": "markdown",
            "metadata": {},
            "source": []
        },
        {
            "cell_type": "code",
            "execution_count": null,
            "metadata": {},
            "outputs": [],
            "source": [
                "def func_supports_parameter(func, name):\n",
                "    return any(param.name == name for param in _get_callable_parameters(func))\n",
                "\n"
            ]
        },
        {
            "cell_type": "markdown",
            "metadata": {},
            "source": []
        }
    ],
    "metadata": {
        "language_info": {
            "name": "python"
        }
    },
    "nbformat": 4,
    "nbformat_minor": 2
}