{
 "cells": [
  {
   "cell_type": "code",
   "execution_count": null,
   "metadata": {},
   "outputs": [],
   "source": [
    "from importlib import import_module\n",
    "\n",
    "from django.utils.version import get_docs_version"
   ]
  },
  {
   "cell_type": "markdown",
   "metadata": {},
   "source": []
  },
  {
   "cell_type": "code",
   "execution_count": null,
   "metadata": {},
   "outputs": [],
   "source": [
    "def deconstructible(*args, path=None):\n",
    "    \"\"\"\n",
    "    Class decorator that allows the decorated class to be serialized\n",
    "    by the migrations subsystem.\n",
    "\n",
    "    The `path` kwarg specifies the import path.\n",
    "    \"\"\"\n",
    "\n",
    "    def decorator(klass):\n",
    "        def __new__(cls, *args, **kwargs):\n",
    "            # We capture the arguments to make returning them trivial\n",
    "            obj = super(klass, cls).__new__(cls)\n",
    "            obj._constructor_args = (args, kwargs)\n",
    "            return obj\n",
    "\n",
    "        def deconstruct(obj):\n",
    "            \"\"\"\n",
    "            Return a 3-tuple of class import path, positional arguments,\n",
    "            and keyword arguments.\n",
    "            \"\"\"\n",
    "            # Fallback version\n",
    "            if path and type(obj) is klass:\n",
    "                module_name, _, name = path.rpartition(\".\")\n",
    "            else:\n",
    "                module_name = obj.__module__\n",
    "                name = obj.__class__.__name__\n",
    "            # Make sure it's actually there and not an inner class\n",
    "            module = import_module(module_name)\n",
    "            if not hasattr(module, name):\n",
    "                raise ValueError(\n",
    "                    \"Could not find object %s in %s.\\n\"\n",
    "                    \"Please note that you cannot serialize things like inner \"\n",
    "                    \"classes. Please move the object into the main module \"\n",
    "                    \"body to use migrations.\\n\"\n",
    "                    \"For more information, see \"\n",
    "                    \"https://docs.djangoproject.com/en/%s/topics/migrations/\"\n",
    "                    \"#serializing-values\" % (name, module_name, get_docs_version())\n",
    "                )\n",
    "            return (\n",
    "                (\n",
    "                    path\n",
    "                    if path and type(obj) is klass\n",
    "                    else f\"{obj.__class__.__module__}.{name}\"\n",
    "                ),\n",
    "                obj._constructor_args[0],\n",
    "                obj._constructor_args[1],\n",
    "            )\n",
    "\n",
    "        klass.__new__ = staticmethod(__new__)\n",
    "        klass.deconstruct = deconstruct\n",
    "\n",
    "        return klass\n",
    "\n",
    "    if not args:\n",
    "        return decorator\n",
    "    return decorator(*args)"
   ]
  },
  {
   "cell_type": "markdown",
   "metadata": {},
   "source": []
  }
 ],
 "metadata": {
  "language_info": {
   "name": "python"
  }
 },
 "nbformat": 4,
 "nbformat_minor": 2
}