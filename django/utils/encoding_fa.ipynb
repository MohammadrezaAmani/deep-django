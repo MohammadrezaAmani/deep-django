{
    "cells": [
        {
            "cell_type": "code",
            "execution_count": null,
            "metadata": {},
            "outputs": [],
            "source": [
                "import codecs\n",
                "import datetime\n",
                "import locale\n",
                "from decimal import Decimal\n",
                "from types import NoneType\n",
                "from urllib.parse import quote\n",
                "\n",
                "from django.utils.functional import Promise\n"
            ]
        },
        {
            "cell_type": "markdown",
            "metadata": {},
            "source": []
        },
        {
            "cell_type": "code",
            "execution_count": null,
            "metadata": {},
            "outputs": [],
            "source": [
                "class DjangoUnicodeDecodeError(UnicodeDecodeError):\n",
                "    def __init__(self, obj, *args):\n",
                "        self.obj = obj\n",
                "        super().__init__(*args)\n",
                "\n",
                "    def __str__(self):\n",
                "        return \"%s. You passed in %r (%s)\" % (\n",
                "            super().__str__(),\n",
                "            self.obj,\n",
                "            type(self.obj),\n",
                "        )\n"
            ]
        },
        {
            "cell_type": "markdown",
            "metadata": {},
            "source": []
        },
        {
            "cell_type": "code",
            "execution_count": null,
            "metadata": {},
            "outputs": [],
            "source": [
                "def smart_str(s, encoding=\"utf-8\", strings_only=False, errors=\"strict\"):\n",
                "    \"\"\"\n",
                "    Return a string representing 's'. Treat bytestrings using the 'encoding'\n",
                "    codec.\n",
                "\n",
                "    If strings_only is True, don't convert (some) non-string-like objects.\n",
                "    \"\"\"\n",
                "    if isinstance(s, Promise):\n",
                "        # The input is the result of a gettext_lazy() call.\n",
                "        return s\n",
                "    return force_str(s, encoding, strings_only, errors)\n"
            ]
        },
        {
            "cell_type": "markdown",
            "metadata": {},
            "source": []
        },
        {
            "cell_type": "code",
            "execution_count": null,
            "metadata": {},
            "outputs": [],
            "source": [
                "_PROTECTED_TYPES = (\n",
                "    NoneType,\n",
                "    int,\n",
                "    float,\n",
                "    Decimal,\n",
                "    datetime.datetime,\n",
                "    datetime.date,\n",
                "    datetime.time,\n",
                ")\n"
            ]
        },
        {
            "cell_type": "markdown",
            "metadata": {},
            "source": []
        },
        {
            "cell_type": "code",
            "execution_count": null,
            "metadata": {},
            "outputs": [],
            "source": [
                "def is_protected_type(obj):\n",
                "    \"\"\"Determine if the object instance is of a protected type.\n",
                "\n",
                "    Objects of protected types are preserved as-is when passed to\n",
                "    force_str(strings_only=True).\n",
                "    \"\"\"\n",
                "    return isinstance(obj, _PROTECTED_TYPES)\n"
            ]
        },
        {
            "cell_type": "markdown",
            "metadata": {},
            "source": []
        },
        {
            "cell_type": "code",
            "execution_count": null,
            "metadata": {},
            "outputs": [],
            "source": [
                "def force_str(s, encoding=\"utf-8\", strings_only=False, errors=\"strict\"):\n",
                "    \"\"\"\n",
                "    Similar to smart_str(), except that lazy instances are resolved to\n",
                "    strings, rather than kept as lazy objects.\n",
                "\n",
                "    If strings_only is True, don't convert (some) non-string-like objects.\n",
                "    \"\"\"\n",
                "    # Handle the common case first for performance reasons.\n",
                "    if issubclass(type(s), str):\n",
                "        return s\n",
                "    if strings_only and is_protected_type(s):\n",
                "        return s\n",
                "    try:\n",
                "        if isinstance(s, bytes):\n",
                "            s = str(s, encoding, errors)\n",
                "        else:\n",
                "            s = str(s)\n",
                "    except UnicodeDecodeError as e:\n",
                "        raise DjangoUnicodeDecodeError(s, *e.args)\n",
                "    return s\n"
            ]
        },
        {
            "cell_type": "markdown",
            "metadata": {},
            "source": []
        },
        {
            "cell_type": "code",
            "execution_count": null,
            "metadata": {},
            "outputs": [],
            "source": [
                "def smart_bytes(s, encoding=\"utf-8\", strings_only=False, errors=\"strict\"):\n",
                "    \"\"\"\n",
                "    Return a bytestring version of 's', encoded as specified in 'encoding'.\n",
                "\n",
                "    If strings_only is True, don't convert (some) non-string-like objects.\n",
                "    \"\"\"\n",
                "    if isinstance(s, Promise):\n",
                "        # The input is the result of a gettext_lazy() call.\n",
                "        return s\n",
                "    return force_bytes(s, encoding, strings_only, errors)\n"
            ]
        },
        {
            "cell_type": "markdown",
            "metadata": {},
            "source": []
        },
        {
            "cell_type": "code",
            "execution_count": null,
            "metadata": {},
            "outputs": [],
            "source": [
                "def force_bytes(s, encoding=\"utf-8\", strings_only=False, errors=\"strict\"):\n",
                "    \"\"\"\n",
                "    Similar to smart_bytes, except that lazy instances are resolved to\n",
                "    strings, rather than kept as lazy objects.\n",
                "\n",
                "    If strings_only is True, don't convert (some) non-string-like objects.\n",
                "    \"\"\"\n",
                "    # Handle the common case first for performance reasons.\n",
                "    if isinstance(s, bytes):\n",
                "        if encoding == \"utf-8\":\n",
                "            return s\n",
                "        else:\n",
                "            return s.decode(\"utf-8\", errors).encode(encoding, errors)\n",
                "    if strings_only and is_protected_type(s):\n",
                "        return s\n",
                "    if isinstance(s, memoryview):\n",
                "        return bytes(s)\n",
                "    return str(s).encode(encoding, errors)\n"
            ]
        },
        {
            "cell_type": "markdown",
            "metadata": {},
            "source": []
        },
        {
            "cell_type": "code",
            "execution_count": null,
            "metadata": {},
            "outputs": [],
            "source": [
                "def iri_to_uri(iri):\n",
                "    \"\"\"\n",
                "    Convert an Internationalized Resource Identifier (IRI) portion to a URI\n",
                "    portion that is suitable for inclusion in a URL.\n",
                "\n",
                "    This is the algorithm from RFC 3987 Section 3.1, slightly simplified since\n",
                "    the input is assumed to be a string rather than an arbitrary byte stream.\n",
                "\n",
                "    Take an IRI (string or UTF-8 bytes, e.g. '/I \u2665 Django/' or\n",
                "    b'/I \\xe2\\x99\\xa5 Django/') and return a string containing the encoded\n",
                "    result with ASCII chars only (e.g. '/I%20%E2%99%A5%20Django/').\n",
                "    \"\"\"\n",
                "    # The list of safe characters here is constructed from the \"reserved\" and\n",
                "    # \"unreserved\" characters specified in RFC 3986 Sections 2.2 and 2.3:\n",
                "    #     reserved    = gen-delims / sub-delims\n",
                "    #     gen-delims  = \":\" / \"/\" / \"?\" / \"#\" / \"[\" / \"]\" / \"@\"\n",
                "    #     sub-delims  = \"!\" / \"$\" / \"&\" / \"'\" / \"(\" / \")\"\n",
                "    #                   / \"*\" / \"+\" / \",\" / \";\" / \"=\"\n",
                "    #     unreserved  = ALPHA / DIGIT / \"-\" / \".\" / \"_\" / \"~\"\n",
                "    # Of the unreserved characters, urllib.parse.quote() already considers all\n",
                "    # but the ~ safe.\n",
                "    # The % character is also added to the list of safe characters here, as the\n",
                "    # end of RFC 3987 Section 3.1 specifically mentions that % must not be\n",
                "    # converted.\n",
                "    if iri is None:\n",
                "        return iri\n",
                "    elif isinstance(iri, Promise):\n",
                "        iri = str(iri)\n",
                "    return quote(iri, safe=\"/#%[]=:;$&()+,!?*@'~\")\n"
            ]
        },
        {
            "cell_type": "markdown",
            "metadata": {},
            "source": []
        },
        {
            "cell_type": "code",
            "execution_count": null,
            "metadata": {},
            "outputs": [],
            "source": [
                "# List of byte values that uri_to_iri() decodes from percent encoding.\n",
                "# First, the unreserved characters from RFC 3986:\n",
                "_ascii_ranges = [[45, 46, 95, 126], range(65, 91), range(97, 123)]\n",
                "_hextobyte = {\n",
                "    (fmt % char).encode(): bytes((char,))\n",
                "    for ascii_range in _ascii_ranges\n",
                "    for char in ascii_range\n",
                "    for fmt in [\"%02x\", \"%02X\"]\n",
                "}\n",
                "# And then everything above 128, because bytes \u2265 128 are part of multibyte\n",
                "# Unicode characters.\n",
                "_hexdig = \"0123456789ABCDEFabcdef\"\n",
                "_hextobyte.update(\n",
                "    {(a + b).encode(): bytes.fromhex(a + b) for a in _hexdig[8:] for b in _hexdig}\n",
                ")\n"
            ]
        },
        {
            "cell_type": "markdown",
            "metadata": {},
            "source": []
        },
        {
            "cell_type": "code",
            "execution_count": null,
            "metadata": {},
            "outputs": [],
            "source": [
                "def uri_to_iri(uri):\n",
                "    \"\"\"\n",
                "    Convert a Uniform Resource Identifier(URI) into an Internationalized\n",
                "    Resource Identifier(IRI).\n",
                "\n",
                "    This is the algorithm from RFC 3987 Section 3.2, excluding step 4.\n",
                "\n",
                "    Take an URI in ASCII bytes (e.g. '/I%20%E2%99%A5%20Django/') and return\n",
                "    a string containing the encoded result (e.g. '/I%20\u2665%20Django/').\n",
                "    \"\"\"\n",
                "    if uri is None:\n",
                "        return uri\n",
                "    uri = force_bytes(uri)\n",
                "    # Fast selective unquote: First, split on '%' and then starting with the\n",
                "    # second block, decode the first 2 bytes if they represent a hex code to\n",
                "    # decode. The rest of the block is the part after '%AB', not containing\n",
                "    # any '%'. Add that to the output without further processing.\n",
                "    bits = uri.split(b\"%\")\n",
                "    if len(bits) == 1:\n",
                "        iri = uri\n",
                "    else:\n",
                "        parts = [bits[0]]\n",
                "        append = parts.append\n",
                "        hextobyte = _hextobyte\n",
                "        for item in bits[1:]:\n",
                "            hex = item[:2]\n",
                "            if hex in hextobyte:\n",
                "                append(hextobyte[item[:2]])\n",
                "                append(item[2:])\n",
                "            else:\n",
                "                append(b\"%\")\n",
                "                append(item)\n",
                "        iri = b\"\".join(parts)\n",
                "    return repercent_broken_unicode(iri).decode()\n"
            ]
        },
        {
            "cell_type": "markdown",
            "metadata": {},
            "source": []
        },
        {
            "cell_type": "code",
            "execution_count": null,
            "metadata": {},
            "outputs": [],
            "source": [
                "def escape_uri_path(path):\n",
                "    \"\"\"\n",
                "    Escape the unsafe characters from the path portion of a Uniform Resource\n",
                "    Identifier (URI).\n",
                "    \"\"\"\n",
                "    # These are the \"reserved\" and \"unreserved\" characters specified in RFC\n",
                "    # 3986 Sections 2.2 and 2.3:\n",
                "    #   reserved    = \";\" | \"/\" | \"?\" | \":\" | \"@\" | \"&\" | \"=\" | \"+\" | \"$\" | \",\"\n",
                "    #   unreserved  = alphanum | mark\n",
                "    #   mark        = \"-\" | \"_\" | \".\" | \"!\" | \"~\" | \"*\" | \"'\" | \"(\" | \")\"\n",
                "    # The list of safe characters here is constructed subtracting \";\", \"=\",\n",
                "    # and \"?\" according to RFC 3986 Section 3.3.\n",
                "    # The reason for not subtracting and escaping \"/\" is that we are escaping\n",
                "    # the entire path, not a path segment.\n",
                "    return quote(path, safe=\"/:@&+$,-_.!~*'()\")\n"
            ]
        },
        {
            "cell_type": "markdown",
            "metadata": {},
            "source": []
        },
        {
            "cell_type": "code",
            "execution_count": null,
            "metadata": {},
            "outputs": [],
            "source": [
                "def punycode(domain):\n",
                "    \"\"\"Return the Punycode of the given domain if it's non-ASCII.\"\"\"\n",
                "    return domain.encode(\"idna\").decode(\"ascii\")\n"
            ]
        },
        {
            "cell_type": "markdown",
            "metadata": {},
            "source": []
        },
        {
            "cell_type": "code",
            "execution_count": null,
            "metadata": {},
            "outputs": [],
            "source": [
                "def repercent_broken_unicode(path):\n",
                "    \"\"\"\n",
                "    As per RFC 3987 Section 3.2, step three of converting a URI into an IRI,\n",
                "    repercent-encode any octet produced that is not part of a strictly legal\n",
                "    UTF-8 octet sequence.\n",
                "    \"\"\"\n",
                "    changed_parts = []\n",
                "    while True:\n",
                "        try:\n",
                "            path.decode()\n",
                "        except UnicodeDecodeError as e:\n",
                "            # CVE-2019-14235: A recursion shouldn't be used since the exception\n",
                "            # handling uses massive amounts of memory\n",
                "            repercent = quote(path[e.start : e.end], safe=b\"/#%[]=:;$&()+,!?*@'~\")\n",
                "            changed_parts.append(path[: e.start] + repercent.encode())\n",
                "            path = path[e.end :]\n",
                "        else:\n",
                "            return b\"\".join(changed_parts) + path\n"
            ]
        },
        {
            "cell_type": "markdown",
            "metadata": {},
            "source": []
        },
        {
            "cell_type": "code",
            "execution_count": null,
            "metadata": {},
            "outputs": [],
            "source": [
                "def filepath_to_uri(path):\n",
                "    \"\"\"Convert a file system path to a URI portion that is suitable for\n",
                "    inclusion in a URL.\n",
                "\n",
                "    Encode certain chars that would normally be recognized as special chars\n",
                "    for URIs. Do not encode the ' character, as it is a valid character\n",
                "    within URIs. See the encodeURIComponent() JavaScript function for details.\n",
                "    \"\"\"\n",
                "    if path is None:\n",
                "        return path\n",
                "    # I know about `os.sep` and `os.altsep` but I want to leave\n",
                "    # some flexibility for hardcoding separators.\n",
                "    return quote(str(path).replace(\"\\\\\", \"/\"), safe=\"/~!*()'\")\n"
            ]
        },
        {
            "cell_type": "markdown",
            "metadata": {},
            "source": []
        },
        {
            "cell_type": "code",
            "execution_count": null,
            "metadata": {},
            "outputs": [],
            "source": [
                "def get_system_encoding():\n",
                "    \"\"\"\n",
                "    The encoding for the character type functions. Fallback to 'ascii' if the\n",
                "    #encoding is unsupported by Python or could not be determined. See tickets\n",
                "    #10335 and #5846.\n",
                "    \"\"\"\n",
                "    try:\n",
                "        encoding = locale.getlocale()[1] or \"ascii\"\n",
                "        codecs.lookup(encoding)\n",
                "    except Exception:\n",
                "        encoding = \"ascii\"\n",
                "    return encoding\n"
            ]
        },
        {
            "cell_type": "markdown",
            "metadata": {},
            "source": []
        },
        {
            "cell_type": "code",
            "execution_count": null,
            "metadata": {},
            "outputs": [],
            "source": [
                "DEFAULT_LOCALE_ENCODING = get_system_encoding()\n",
                "\n"
            ]
        },
        {
            "cell_type": "markdown",
            "metadata": {},
            "source": []
        }
    ],
    "metadata": {
        "language_info": {
            "name": "python"
        }
    },
    "nbformat": 4,
    "nbformat_minor": 2
}