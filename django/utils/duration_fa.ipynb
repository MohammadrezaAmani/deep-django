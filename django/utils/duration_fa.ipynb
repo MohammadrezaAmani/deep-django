{
 "cells": [
  {
   "cell_type": "code",
   "execution_count": null,
   "metadata": {},
   "outputs": [],
   "source": [
    "import datetime"
   ]
  },
  {
   "cell_type": "markdown",
   "metadata": {},
   "source": []
  },
  {
   "cell_type": "code",
   "execution_count": null,
   "metadata": {},
   "outputs": [],
   "source": [
    "def _get_duration_components(duration):\n",
    "    days = duration.days\n",
    "    seconds = duration.seconds\n",
    "    microseconds = duration.microseconds\n",
    "\n",
    "    minutes = seconds // 60\n",
    "    seconds %= 60\n",
    "\n",
    "    hours = minutes // 60\n",
    "    minutes %= 60\n",
    "\n",
    "    return days, hours, minutes, seconds, microseconds"
   ]
  },
  {
   "cell_type": "markdown",
   "metadata": {},
   "source": []
  },
  {
   "cell_type": "code",
   "execution_count": null,
   "metadata": {},
   "outputs": [],
   "source": [
    "def duration_string(duration):\n",
    "    \"\"\"Version of str(timedelta) which is not English specific.\"\"\"\n",
    "    days, hours, minutes, seconds, microseconds = _get_duration_components(duration)\n",
    "\n",
    "    string = \"{:02d}:{:02d}:{:02d}\".format(hours, minutes, seconds)\n",
    "    if days:\n",
    "        string = \"{} \".format(days) + string\n",
    "    if microseconds:\n",
    "        string += \".{:06d}\".format(microseconds)\n",
    "\n",
    "    return string"
   ]
  },
  {
   "cell_type": "markdown",
   "metadata": {},
   "source": []
  },
  {
   "cell_type": "code",
   "execution_count": null,
   "metadata": {},
   "outputs": [],
   "source": [
    "def duration_iso_string(duration):\n",
    "    if duration < datetime.timedelta(0):\n",
    "        sign = \"-\"\n",
    "        duration *= -1\n",
    "    else:\n",
    "        sign = \"\"\n",
    "\n",
    "    days, hours, minutes, seconds, microseconds = _get_duration_components(duration)\n",
    "    ms = \".{:06d}\".format(microseconds) if microseconds else \"\"\n",
    "    return \"{}P{}DT{:02d}H{:02d}M{:02d}{}S\".format(\n",
    "        sign, days, hours, minutes, seconds, ms\n",
    "    )"
   ]
  },
  {
   "cell_type": "markdown",
   "metadata": {},
   "source": []
  },
  {
   "cell_type": "code",
   "execution_count": null,
   "metadata": {},
   "outputs": [],
   "source": [
    "def duration_microseconds(delta):\n",
    "    return (24 * 60 * 60 * delta.days + delta.seconds) * 1000000 + delta.microseconds"
   ]
  },
  {
   "cell_type": "markdown",
   "metadata": {},
   "source": []
  }
 ],
 "metadata": {
  "language_info": {
   "name": "python"
  }
 },
 "nbformat": 4,
 "nbformat_minor": 2
}