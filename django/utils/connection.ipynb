{
    "cells": [
        {
            "cell_type": "code",
            "execution_count": null,
            "metadata": {},
            "outputs": [],
            "source": [
                "from asgiref.local import Local\n",
                "\n",
                "from django.conf import settings as django_settings\n",
                "from django.utils.functional import cached_property\n"
            ]
        },
        {
            "cell_type": "markdown",
            "metadata": {},
            "source": []
        },
        {
            "cell_type": "code",
            "execution_count": null,
            "metadata": {},
            "outputs": [],
            "source": [
                "class ConnectionProxy:\n",
                "    \"\"\"Proxy for accessing a connection object's attributes.\"\"\"\n",
                "\n",
                "    def __init__(self, connections, alias):\n",
                "        self.__dict__[\"_connections\"] = connections\n",
                "        self.__dict__[\"_alias\"] = alias\n",
                "\n",
                "    def __getattr__(self, item):\n",
                "        return getattr(self._connections[self._alias], item)\n",
                "\n",
                "    def __setattr__(self, name, value):\n",
                "        return setattr(self._connections[self._alias], name, value)\n",
                "\n",
                "    def __delattr__(self, name):\n",
                "        return delattr(self._connections[self._alias], name)\n",
                "\n",
                "    def __contains__(self, key):\n",
                "        return key in self._connections[self._alias]\n",
                "\n",
                "    def __eq__(self, other):\n",
                "        return self._connections[self._alias] == other\n"
            ]
        },
        {
            "cell_type": "markdown",
            "metadata": {},
            "source": []
        },
        {
            "cell_type": "code",
            "execution_count": null,
            "metadata": {},
            "outputs": [],
            "source": [
                "class ConnectionDoesNotExist(Exception):\n",
                "    pass\n"
            ]
        },
        {
            "cell_type": "markdown",
            "metadata": {},
            "source": []
        },
        {
            "cell_type": "code",
            "execution_count": null,
            "metadata": {},
            "outputs": [],
            "source": [
                "class BaseConnectionHandler:\n",
                "    settings_name = None\n",
                "    exception_class = ConnectionDoesNotExist\n",
                "    thread_critical = False\n",
                "\n",
                "    def __init__(self, settings=None):\n",
                "        self._settings = settings\n",
                "        self._connections = Local(self.thread_critical)\n",
                "\n",
                "    @cached_property\n",
                "    def settings(self):\n",
                "        self._settings = self.configure_settings(self._settings)\n",
                "        return self._settings\n",
                "\n",
                "    def configure_settings(self, settings):\n",
                "        if settings is None:\n",
                "            settings = getattr(django_settings, self.settings_name)\n",
                "        return settings\n",
                "\n",
                "    def create_connection(self, alias):\n",
                "        raise NotImplementedError(\"Subclasses must implement create_connection().\")\n",
                "\n",
                "    def __getitem__(self, alias):\n",
                "        try:\n",
                "            return getattr(self._connections, alias)\n",
                "        except AttributeError:\n",
                "            if alias not in self.settings:\n",
                "                raise self.exception_class(f\"The connection '{alias}' doesn't exist.\")\n",
                "        conn = self.create_connection(alias)\n",
                "        setattr(self._connections, alias, conn)\n",
                "        return conn\n",
                "\n",
                "    def __setitem__(self, key, value):\n",
                "        setattr(self._connections, key, value)\n",
                "\n",
                "    def __delitem__(self, key):\n",
                "        delattr(self._connections, key)\n",
                "\n",
                "    def __iter__(self):\n",
                "        return iter(self.settings)\n",
                "\n",
                "    def all(self, initialized_only=False):\n",
                "        return [\n",
                "            self[alias]\n",
                "            for alias in self\n",
                "            # If initialized_only is True, return only initialized connections.\n",
                "            if not initialized_only or hasattr(self._connections, alias)\n",
                "        ]\n",
                "\n",
                "    def close_all(self):\n",
                "        for conn in self.all(initialized_only=True):\n",
                "            conn.close()\n",
                "\n"
            ]
        },
        {
            "cell_type": "markdown",
            "metadata": {},
            "source": []
        }
    ],
    "metadata": {
        "language_info": {
            "name": "python"
        }
    },
    "nbformat": 4,
    "nbformat_minor": 2
}