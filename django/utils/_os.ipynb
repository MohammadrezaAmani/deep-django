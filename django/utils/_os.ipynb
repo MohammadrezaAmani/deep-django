{
 "cells": [
  {
   "cell_type": "code",
   "execution_count": null,
   "metadata": {},
   "outputs": [],
   "source": [
    "import os\n",
    "import tempfile\n",
    "from os.path import abspath, dirname, join, normcase, sep\n",
    "from pathlib import Path\n",
    "\n",
    "from django.core.exceptions import SuspiciousFileOperation"
   ]
  },
  {
   "cell_type": "markdown",
   "metadata": {},
   "source": []
  },
  {
   "cell_type": "code",
   "execution_count": null,
   "metadata": {},
   "outputs": [],
   "source": [
    "def safe_join(base, *paths):\n",
    "    \"\"\"\n",
    "    Join one or more path components to the base path component intelligently.\n",
    "    Return a normalized, absolute version of the final path.\n",
    "\n",
    "    Raise SuspiciousFileOperation if the final path isn't located inside of the\n",
    "    base path component.\n",
    "    \"\"\"\n",
    "    final_path = abspath(join(base, *paths))\n",
    "    base_path = abspath(base)\n",
    "    # Ensure final_path starts with base_path (using normcase to ensure we\n",
    "    # don't false-negative on case insensitive operating systems like Windows),\n",
    "    # further, one of the following conditions must be true:\n",
    "    #  a) The next character is the path separator (to prevent conditions like\n",
    "    #     safe_join(\"/dir\", \"/../d\"))\n",
    "    #  b) The final path must be the same as the base path.\n",
    "    #  c) The base path must be the most root path (meaning either \"/\" or \"C:\\\\\")\n",
    "    if (\n",
    "        not normcase(final_path).startswith(normcase(base_path + sep))\n",
    "        and normcase(final_path) != normcase(base_path)\n",
    "        and dirname(normcase(base_path)) != normcase(base_path)\n",
    "    ):\n",
    "        raise SuspiciousFileOperation(\n",
    "            \"The joined path ({}) is located outside of the base path \"\n",
    "            \"component ({})\".format(final_path, base_path)\n",
    "        )\n",
    "    return final_path"
   ]
  },
  {
   "cell_type": "markdown",
   "metadata": {},
   "source": []
  },
  {
   "cell_type": "code",
   "execution_count": null,
   "metadata": {},
   "outputs": [],
   "source": [
    "def symlinks_supported():\n",
    "    \"\"\"\n",
    "    Return whether or not creating symlinks are supported in the host platform\n",
    "    and/or if they are allowed to be created (e.g. on Windows it requires admin\n",
    "    permissions).\n",
    "    \"\"\"\n",
    "    with tempfile.TemporaryDirectory() as temp_dir:\n",
    "        original_path = os.path.join(temp_dir, \"original\")\n",
    "        symlink_path = os.path.join(temp_dir, \"symlink\")\n",
    "        os.makedirs(original_path)\n",
    "        try:\n",
    "            os.symlink(original_path, symlink_path)\n",
    "            supported = True\n",
    "        except (OSError, NotImplementedError):\n",
    "            supported = False\n",
    "        return supported"
   ]
  },
  {
   "cell_type": "markdown",
   "metadata": {},
   "source": []
  },
  {
   "cell_type": "code",
   "execution_count": null,
   "metadata": {},
   "outputs": [],
   "source": [
    "def to_path(value):\n",
    "    \"\"\"Convert value to a pathlib.Path instance, if not already a Path.\"\"\"\n",
    "    if isinstance(value, Path):\n",
    "        return value\n",
    "    elif not isinstance(value, str):\n",
    "        raise TypeError(\"Invalid path type: %s\" % type(value).__name__)\n",
    "    return Path(value)"
   ]
  },
  {
   "cell_type": "markdown",
   "metadata": {},
   "source": []
  }
 ],
 "metadata": {
  "language_info": {
   "name": "python"
  }
 },
 "nbformat": 4,
 "nbformat_minor": 2
}