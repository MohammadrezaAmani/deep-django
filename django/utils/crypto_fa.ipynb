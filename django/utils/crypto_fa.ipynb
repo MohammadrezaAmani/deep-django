{
 "cells": [
  {
   "cell_type": "code",
   "execution_count": null,
   "metadata": {},
   "outputs": [],
   "source": [
    "\"\"\"\n",
    "Django's standard crypto functions and utilities.\n",
    "\"\"\"\n",
    "\n",
    "import hashlib\n",
    "import hmac\n",
    "import secrets\n",
    "\n",
    "from django.conf import settings\n",
    "from django.utils.encoding import force_bytes"
   ]
  },
  {
   "cell_type": "markdown",
   "metadata": {},
   "source": []
  },
  {
   "cell_type": "code",
   "execution_count": null,
   "metadata": {},
   "outputs": [],
   "source": [
    "class InvalidAlgorithm(ValueError):\n",
    "    \"\"\"Algorithm is not supported by hashlib.\"\"\"\n",
    "\n",
    "    pass"
   ]
  },
  {
   "cell_type": "markdown",
   "metadata": {},
   "source": []
  },
  {
   "cell_type": "code",
   "execution_count": null,
   "metadata": {},
   "outputs": [],
   "source": [
    "def salted_hmac(key_salt, value, secret=None, *, algorithm=\"sha1\"):\n",
    "    \"\"\"\n",
    "    Return the HMAC of 'value', using a key generated from key_salt and a\n",
    "    secret (which defaults to settings.SECRET_KEY). Default algorithm is SHA1,\n",
    "    but any algorithm name supported by hashlib can be passed.\n",
    "\n",
    "    A different key_salt should be passed in for every application of HMAC.\n",
    "    \"\"\"\n",
    "    if secret is None:\n",
    "        secret = settings.SECRET_KEY\n",
    "\n",
    "    key_salt = force_bytes(key_salt)\n",
    "    secret = force_bytes(secret)\n",
    "    try:\n",
    "        hasher = getattr(hashlib, algorithm)\n",
    "    except AttributeError as e:\n",
    "        raise InvalidAlgorithm(\n",
    "            \"%r is not an algorithm accepted by the hashlib module.\" % algorithm\n",
    "        ) from e\n",
    "    # We need to generate a derived key from our base key.  We can do this by\n",
    "    # passing the key_salt and our base key through a pseudo-random function.\n",
    "    key = hasher(key_salt + secret).digest()\n",
    "    # If len(key_salt + secret) > block size of the hash algorithm, the above\n",
    "    # line is redundant and could be replaced by key = key_salt + secret, since\n",
    "    # the hmac module does the same thing for keys longer than the block size.\n",
    "    # However, we need to ensure that we *always* do this.\n",
    "    return hmac.new(key, msg=force_bytes(value), digestmod=hasher)"
   ]
  },
  {
   "cell_type": "markdown",
   "metadata": {},
   "source": []
  },
  {
   "cell_type": "code",
   "execution_count": null,
   "metadata": {},
   "outputs": [],
   "source": [
    "RANDOM_STRING_CHARS = \"abcdefghijklmnopqrstuvwxyzABCDEFGHIJKLMNOPQRSTUVWXYZ0123456789\""
   ]
  },
  {
   "cell_type": "markdown",
   "metadata": {},
   "source": []
  },
  {
   "cell_type": "code",
   "execution_count": null,
   "metadata": {},
   "outputs": [],
   "source": [
    "def get_random_string(length, allowed_chars=RANDOM_STRING_CHARS):\n",
    "    \"\"\"\n",
    "    Return a securely generated random string.\n",
    "\n",
    "    The bit length of the returned value can be calculated with the formula:\n",
    "        log_2(len(allowed_chars)^length)\n",
    "\n",
    "    For example, with default `allowed_chars` (26+26+10), this gives:\n",
    "      * length: 12, bit length =~ 71 bits\n",
    "      * length: 22, bit length =~ 131 bits\n",
    "    \"\"\"\n",
    "    return \"\".join(secrets.choice(allowed_chars) for i in range(length))"
   ]
  },
  {
   "cell_type": "markdown",
   "metadata": {},
   "source": []
  },
  {
   "cell_type": "code",
   "execution_count": null,
   "metadata": {},
   "outputs": [],
   "source": [
    "def constant_time_compare(val1, val2):\n",
    "    \"\"\"Return True if the two strings are equal, False otherwise.\"\"\"\n",
    "    return secrets.compare_digest(force_bytes(val1), force_bytes(val2))"
   ]
  },
  {
   "cell_type": "markdown",
   "metadata": {},
   "source": []
  },
  {
   "cell_type": "code",
   "execution_count": null,
   "metadata": {},
   "outputs": [],
   "source": [
    "def pbkdf2(password, salt, iterations, dklen=0, digest=None):\n",
    "    \"\"\"Return the hash of password using pbkdf2.\"\"\"\n",
    "    if digest is None:\n",
    "        digest = hashlib.sha256\n",
    "    dklen = dklen or None\n",
    "    password = force_bytes(password)\n",
    "    salt = force_bytes(salt)\n",
    "    return hashlib.pbkdf2_hmac(digest().name, password, salt, iterations, dklen)"
   ]
  },
  {
   "cell_type": "markdown",
   "metadata": {},
   "source": []
  }
 ],
 "metadata": {
  "language_info": {
   "name": "python"
  }
 },
 "nbformat": 4,
 "nbformat_minor": 2
}