{
    "cells": [
        {
            "cell_type": "code",
            "execution_count": null,
            "metadata": {},
            "outputs": [],
            "source": [
                "import inspect\n",
                "import warnings\n",
                "\n",
                "from asgiref.sync import iscoroutinefunction, markcoroutinefunction, sync_to_async\n"
            ]
        },
        {
            "cell_type": "markdown",
            "metadata": {},
            "source": []
        },
        {
            "cell_type": "code",
            "execution_count": null,
            "metadata": {},
            "outputs": [],
            "source": [
                "class RemovedInDjango51Warning(DeprecationWarning):\n",
                "    pass\n"
            ]
        },
        {
            "cell_type": "markdown",
            "metadata": {},
            "source": []
        },
        {
            "cell_type": "code",
            "execution_count": null,
            "metadata": {},
            "outputs": [],
            "source": [
                "class RemovedInDjango60Warning(PendingDeprecationWarning):\n",
                "    pass\n"
            ]
        },
        {
            "cell_type": "markdown",
            "metadata": {},
            "source": []
        },
        {
            "cell_type": "code",
            "execution_count": null,
            "metadata": {},
            "outputs": [],
            "source": [
                "RemovedInNextVersionWarning = RemovedInDjango51Warning\n",
                "RemovedAfterNextVersionWarning = RemovedInDjango60Warning\n"
            ]
        },
        {
            "cell_type": "markdown",
            "metadata": {},
            "source": []
        },
        {
            "cell_type": "code",
            "execution_count": null,
            "metadata": {},
            "outputs": [],
            "source": [
                "class warn_about_renamed_method:\n",
                "    def __init__(\n",
                "        self, class_name, old_method_name, new_method_name, deprecation_warning\n",
                "    ):\n",
                "        self.class_name = class_name\n",
                "        self.old_method_name = old_method_name\n",
                "        self.new_method_name = new_method_name\n",
                "        self.deprecation_warning = deprecation_warning\n",
                "\n",
                "    def __call__(self, f):\n",
                "        def wrapper(*args, **kwargs):\n",
                "            warnings.warn(\n",
                "                \"`%s.%s` is deprecated, use `%s` instead.\"\n",
                "                % (self.class_name, self.old_method_name, self.new_method_name),\n",
                "                self.deprecation_warning,\n",
                "                2,\n",
                "            )\n",
                "            return f(*args, **kwargs)\n",
                "\n",
                "        return wrapper\n"
            ]
        },
        {
            "cell_type": "markdown",
            "metadata": {},
            "source": []
        },
        {
            "cell_type": "code",
            "execution_count": null,
            "metadata": {},
            "outputs": [],
            "source": [
                "class RenameMethodsBase(type):\n",
                "    \"\"\"\n",
                "    Handles the deprecation paths when renaming a method.\n",
                "\n",
                "    It does the following:\n",
                "        1) Define the new method if missing and complain about it.\n",
                "        2) Define the old method if missing.\n",
                "        3) Complain whenever an old method is called.\n",
                "\n",
                "    See #15363 for more details.\n",
                "    \"\"\"\n",
                "\n",
                "    renamed_methods = ()\n",
                "\n",
                "    def __new__(cls, name, bases, attrs):\n",
                "        new_class = super().__new__(cls, name, bases, attrs)\n",
                "\n",
                "        for base in inspect.getmro(new_class):\n",
                "            class_name = base.__name__\n",
                "            for renamed_method in cls.renamed_methods:\n",
                "                old_method_name = renamed_method[0]\n",
                "                old_method = base.__dict__.get(old_method_name)\n",
                "                new_method_name = renamed_method[1]\n",
                "                new_method = base.__dict__.get(new_method_name)\n",
                "                deprecation_warning = renamed_method[2]\n",
                "                wrapper = warn_about_renamed_method(class_name, *renamed_method)\n",
                "\n",
                "                # Define the new method if missing and complain about it\n",
                "                if not new_method and old_method:\n",
                "                    warnings.warn(\n",
                "                        \"`%s.%s` method should be renamed `%s`.\"\n",
                "                        % (class_name, old_method_name, new_method_name),\n",
                "                        deprecation_warning,\n",
                "                        2,\n",
                "                    )\n",
                "                    setattr(base, new_method_name, old_method)\n",
                "                    setattr(base, old_method_name, wrapper(old_method))\n",
                "\n",
                "                # Define the old method as a wrapped call to the new method.\n",
                "                if not old_method and new_method:\n",
                "                    setattr(base, old_method_name, wrapper(new_method))\n",
                "\n",
                "        return new_class\n"
            ]
        },
        {
            "cell_type": "markdown",
            "metadata": {},
            "source": []
        },
        {
            "cell_type": "code",
            "execution_count": null,
            "metadata": {},
            "outputs": [],
            "source": [
                "class DeprecationInstanceCheck(type):\n",
                "    def __instancecheck__(self, instance):\n",
                "        warnings.warn(\n",
                "            \"`%s` is deprecated, use `%s` instead.\" % (self.__name__, self.alternative),\n",
                "            self.deprecation_warning,\n",
                "            2,\n",
                "        )\n",
                "        return super().__instancecheck__(instance)\n"
            ]
        },
        {
            "cell_type": "markdown",
            "metadata": {},
            "source": []
        },
        {
            "cell_type": "code",
            "execution_count": null,
            "metadata": {},
            "outputs": [],
            "source": [
                "class MiddlewareMixin:\n",
                "    sync_capable = True\n",
                "    async_capable = True\n",
                "\n",
                "    def __init__(self, get_response):\n",
                "        if get_response is None:\n",
                "            raise ValueError(\"get_response must be provided.\")\n",
                "        self.get_response = get_response\n",
                "        self._async_check()\n",
                "        super().__init__()\n",
                "\n",
                "    def __repr__(self):\n",
                "        return \"<%s get_response=%s>\" % (\n",
                "            self.__class__.__qualname__,\n",
                "            getattr(\n",
                "                self.get_response,\n",
                "                \"__qualname__\",\n",
                "                self.get_response.__class__.__name__,\n",
                "            ),\n",
                "        )\n",
                "\n",
                "    def _async_check(self):\n",
                "        \"\"\"\n",
                "        If get_response is a coroutine function, turns us into async mode so\n",
                "        a thread is not consumed during a whole request.\n",
                "        \"\"\"\n",
                "        if iscoroutinefunction(self.get_response):\n",
                "            # Mark the class as async-capable, but do the actual switch\n",
                "            # inside __call__ to avoid swapping out dunder methods\n",
                "            markcoroutinefunction(self)\n",
                "\n",
                "    def __call__(self, request):\n",
                "        # Exit out to async mode, if needed\n",
                "        if iscoroutinefunction(self):\n",
                "            return self.__acall__(request)\n",
                "        response = None\n",
                "        if hasattr(self, \"process_request\"):\n",
                "            response = self.process_request(request)\n",
                "        response = response or self.get_response(request)\n",
                "        if hasattr(self, \"process_response\"):\n",
                "            response = self.process_response(request, response)\n",
                "        return response\n",
                "\n",
                "    async def __acall__(self, request):\n",
                "        \"\"\"\n",
                "        Async version of __call__ that is swapped in when an async request\n",
                "        is running.\n",
                "        \"\"\"\n",
                "        response = None\n",
                "        if hasattr(self, \"process_request\"):\n",
                "            response = await sync_to_async(\n",
                "                self.process_request,\n",
                "                thread_sensitive=True,\n",
                "            )(request)\n",
                "        response = response or await self.get_response(request)\n",
                "        if hasattr(self, \"process_response\"):\n",
                "            response = await sync_to_async(\n",
                "                self.process_response,\n",
                "                thread_sensitive=True,\n",
                "            )(request, response)\n",
                "        return response\n",
                "\n"
            ]
        },
        {
            "cell_type": "markdown",
            "metadata": {},
            "source": []
        }
    ],
    "metadata": {
        "language_info": {
            "name": "python"
        }
    },
    "nbformat": 4,
    "nbformat_minor": 2
}