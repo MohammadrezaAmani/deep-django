{
    "cells": [
        {
            "cell_type": "code",
            "execution_count": null,
            "metadata": {},
            "outputs": [],
            "source": [
                "import copy\n",
                "import os\n",
                "import sys\n",
                "from importlib import import_module\n",
                "from importlib.util import find_spec as importlib_find\n"
            ]
        },
        {
            "cell_type": "markdown",
            "metadata": {},
            "source": []
        },
        {
            "cell_type": "code",
            "execution_count": null,
            "metadata": {},
            "outputs": [],
            "source": [
                "def cached_import(module_path, class_name):\n",
                "    # Check whether module is loaded and fully initialized.\n",
                "    if not (\n",
                "        (module := sys.modules.get(module_path))\n",
                "        and (spec := getattr(module, \"__spec__\", None))\n",
                "        and getattr(spec, \"_initializing\", False) is False\n",
                "    ):\n",
                "        module = import_module(module_path)\n",
                "    return getattr(module, class_name)\n"
            ]
        },
        {
            "cell_type": "markdown",
            "metadata": {},
            "source": []
        },
        {
            "cell_type": "code",
            "execution_count": null,
            "metadata": {},
            "outputs": [],
            "source": [
                "def import_string(dotted_path):\n",
                "    \"\"\"\n",
                "    Import a dotted module path and return the attribute/class designated by the\n",
                "    last name in the path. Raise ImportError if the import failed.\n",
                "    \"\"\"\n",
                "    try:\n",
                "        module_path, class_name = dotted_path.rsplit(\".\", 1)\n",
                "    except ValueError as err:\n",
                "        raise ImportError(\"%s doesn't look like a module path\" % dotted_path) from err\n",
                "\n",
                "    try:\n",
                "        return cached_import(module_path, class_name)\n",
                "    except AttributeError as err:\n",
                "        raise ImportError(\n",
                "            'Module \"%s\" does not define a \"%s\" attribute/class'\n",
                "            % (module_path, class_name)\n",
                "        ) from err\n"
            ]
        },
        {
            "cell_type": "markdown",
            "metadata": {},
            "source": []
        },
        {
            "cell_type": "code",
            "execution_count": null,
            "metadata": {},
            "outputs": [],
            "source": [
                "def autodiscover_modules(*args, **kwargs):\n",
                "    \"\"\"\n",
                "    Auto-discover INSTALLED_APPS modules and fail silently when\n",
                "    not present. This forces an import on them to register any admin bits they\n",
                "    may want.\n",
                "\n",
                "    You may provide a register_to keyword parameter as a way to access a\n",
                "    registry. This register_to object must have a _registry instance variable\n",
                "    to access it.\n",
                "    \"\"\"\n",
                "    from django.apps import apps\n",
                "\n",
                "    register_to = kwargs.get(\"register_to\")\n",
                "    for app_config in apps.get_app_configs():\n",
                "        for module_to_search in args:\n",
                "            # Attempt to import the app's module.\n",
                "            try:\n",
                "                if register_to:\n",
                "                    before_import_registry = copy.copy(register_to._registry)\n",
                "\n",
                "                import_module(\"%s.%s\" % (app_config.name, module_to_search))\n",
                "            except Exception:\n",
                "                # Reset the registry to the state before the last import\n",
                "                # as this import will have to reoccur on the next request and\n",
                "                # this could raise NotRegistered and AlreadyRegistered\n",
                "                # exceptions (see #8245).\n",
                "                if register_to:\n",
                "                    register_to._registry = before_import_registry\n",
                "\n",
                "                # Decide whether to bubble up this error. If the app just\n",
                "                # doesn't have the module in question, we can ignore the error\n",
                "                # attempting to import it, otherwise we want it to bubble up.\n",
                "                if module_has_submodule(app_config.module, module_to_search):\n",
                "                    raise\n"
            ]
        },
        {
            "cell_type": "markdown",
            "metadata": {},
            "source": []
        },
        {
            "cell_type": "code",
            "execution_count": null,
            "metadata": {},
            "outputs": [],
            "source": [
                "def module_has_submodule(package, module_name):\n",
                "    \"\"\"See if 'module' is in 'package'.\"\"\"\n",
                "    try:\n",
                "        package_name = package.__name__\n",
                "        package_path = package.__path__\n",
                "    except AttributeError:\n",
                "        # package isn't a package.\n",
                "        return False\n",
                "\n",
                "    full_module_name = package_name + \".\" + module_name\n",
                "    try:\n",
                "        return importlib_find(full_module_name, package_path) is not None\n",
                "    except ModuleNotFoundError:\n",
                "        # When module_name is an invalid dotted path, Python raises\n",
                "        # ModuleNotFoundError.\n",
                "        return False\n"
            ]
        },
        {
            "cell_type": "markdown",
            "metadata": {},
            "source": []
        },
        {
            "cell_type": "code",
            "execution_count": null,
            "metadata": {},
            "outputs": [],
            "source": [
                "def module_dir(module):\n",
                "    \"\"\"\n",
                "    Find the name of the directory that contains a module, if possible.\n",
                "\n",
                "    Raise ValueError otherwise, e.g. for namespace packages that are split\n",
                "    over several directories.\n",
                "    \"\"\"\n",
                "    # Convert to list because __path__ may not support indexing.\n",
                "    paths = list(getattr(module, \"__path__\", []))\n",
                "    if len(paths) == 1:\n",
                "        return paths[0]\n",
                "    else:\n",
                "        filename = getattr(module, \"__file__\", None)\n",
                "        if filename is not None:\n",
                "            return os.path.dirname(filename)\n",
                "    raise ValueError(\"Cannot determine directory containing %s\" % module)\n",
                "\n"
            ]
        },
        {
            "cell_type": "markdown",
            "metadata": {},
            "source": []
        }
    ],
    "metadata": {
        "language_info": {
            "name": "python"
        }
    },
    "nbformat": 4,
    "nbformat_minor": 2
}