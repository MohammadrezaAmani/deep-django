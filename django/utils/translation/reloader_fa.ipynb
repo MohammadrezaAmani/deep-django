{
    "cells": [
        {
            "cell_type": "code",
            "execution_count": null,
            "metadata": {},
            "outputs": [],
            "source": [
                "from pathlib import Path\n",
                "\n",
                "from asgiref.local import Local\n",
                "\n",
                "from django.apps import apps\n",
                "from django.utils.autoreload import is_django_module\n"
            ]
        },
        {
            "cell_type": "markdown",
            "metadata": {},
            "source": []
        },
        {
            "cell_type": "code",
            "execution_count": null,
            "metadata": {},
            "outputs": [],
            "source": [
                "def watch_for_translation_changes(sender, **kwargs):\n",
                "    \"\"\"Register file watchers for .mo files in potential locale paths.\"\"\"\n",
                "    from django.conf import settings\n",
                "\n",
                "    if settings.USE_I18N:\n",
                "        directories = [Path(\"locale\")]\n",
                "        directories.extend(\n",
                "            Path(config.path) / \"locale\"\n",
                "            for config in apps.get_app_configs()\n",
                "            if not is_django_module(config.module)\n",
                "        )\n",
                "        directories.extend(Path(p) for p in settings.LOCALE_PATHS)\n",
                "        for path in directories:\n",
                "            sender.watch_dir(path, \"**/*.mo\")\n"
            ]
        },
        {
            "cell_type": "markdown",
            "metadata": {},
            "source": []
        },
        {
            "cell_type": "code",
            "execution_count": null,
            "metadata": {},
            "outputs": [],
            "source": [
                "def translation_file_changed(sender, file_path, **kwargs):\n",
                "    \"\"\"Clear the internal translations cache if a .mo file is modified.\"\"\"\n",
                "    if file_path.suffix == \".mo\":\n",
                "        import gettext\n",
                "\n",
                "        from django.utils.translation import trans_real\n",
                "\n",
                "        gettext._translations = {}\n",
                "        trans_real._translations = {}\n",
                "        trans_real._default = None\n",
                "        trans_real._active = Local()\n",
                "        return True\n",
                "\n"
            ]
        },
        {
            "cell_type": "markdown",
            "metadata": {},
            "source": []
        }
    ],
    "metadata": {
        "language_info": {
            "name": "python"
        }
    },
    "nbformat": 4,
    "nbformat_minor": 2
}