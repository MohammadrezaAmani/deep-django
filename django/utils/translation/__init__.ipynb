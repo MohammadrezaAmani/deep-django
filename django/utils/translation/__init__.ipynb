{
    "cells": [
        {
            "cell_type": "code",
            "execution_count": null,
            "metadata": {},
            "outputs": [],
            "source": [
                "\"\"\"\n",
                "Internationalization support.\n",
                "\"\"\"\n",
                "\n",
                "from contextlib import ContextDecorator\n",
                "from decimal import ROUND_UP, Decimal\n",
                "\n",
                "from django.utils.autoreload import autoreload_started, file_changed\n",
                "from django.utils.functional import lazy\n",
                "from django.utils.regex_helper import _lazy_re_compile\n",
                "\n",
                "__all__ = [\n",
                "    \"activate\",\n",
                "    \"deactivate\",\n",
                "    \"override\",\n",
                "    \"deactivate_all\",\n",
                "    \"get_language\",\n",
                "    \"get_language_from_request\",\n",
                "    \"get_language_info\",\n",
                "    \"get_language_bidi\",\n",
                "    \"check_for_language\",\n",
                "    \"to_language\",\n",
                "    \"to_locale\",\n",
                "    \"templatize\",\n",
                "    \"gettext\",\n",
                "    \"gettext_lazy\",\n",
                "    \"gettext_noop\",\n",
                "    \"ngettext\",\n",
                "    \"ngettext_lazy\",\n",
                "    \"pgettext\",\n",
                "    \"pgettext_lazy\",\n",
                "    \"npgettext\",\n",
                "    \"npgettext_lazy\",\n",
                "]\n"
            ]
        },
        {
            "cell_type": "markdown",
            "metadata": {},
            "source": []
        },
        {
            "cell_type": "code",
            "execution_count": null,
            "metadata": {},
            "outputs": [],
            "source": [
                "class TranslatorCommentWarning(SyntaxWarning):\n",
                "    pass\n"
            ]
        },
        {
            "cell_type": "markdown",
            "metadata": {},
            "source": []
        },
        {
            "cell_type": "code",
            "execution_count": null,
            "metadata": {},
            "outputs": [],
            "source": [
                "# Here be dragons, so a short explanation of the logic won't hurt:\n",
                "# We are trying to solve two problems: (1) access settings, in particular\n",
                "# settings.USE_I18N, as late as possible, so that modules can be imported\n",
                "# without having to first configure Django, and (2) if some other code creates\n",
                "# a reference to one of these functions, don't break that reference when we\n",
                "# replace the functions with their real counterparts (once we do access the\n",
                "# settings).\n"
            ]
        },
        {
            "cell_type": "markdown",
            "metadata": {},
            "source": []
        },
        {
            "cell_type": "code",
            "execution_count": null,
            "metadata": {},
            "outputs": [],
            "source": [
                "class Trans:\n",
                "    \"\"\"\n",
                "    The purpose of this class is to store the actual translation function upon\n",
                "    receiving the first call to that function. After this is done, changes to\n",
                "    USE_I18N will have no effect to which function is served upon request. If\n",
                "    your tests rely on changing USE_I18N, you can delete all the functions\n",
                "    from _trans.__dict__.\n",
                "\n",
                "    Note that storing the function with setattr will have a noticeable\n",
                "    performance effect, as access to the function goes the normal path,\n",
                "    instead of using __getattr__.\n",
                "    \"\"\"\n",
                "\n",
                "    def __getattr__(self, real_name):\n",
                "        from django.conf import settings\n",
                "\n",
                "        if settings.USE_I18N:\n",
                "            from django.utils.translation import trans_real as trans\n",
                "            from django.utils.translation.reloader import (\n",
                "                translation_file_changed,\n",
                "                watch_for_translation_changes,\n",
                "            )\n",
                "\n",
                "            autoreload_started.connect(\n",
                "                watch_for_translation_changes, dispatch_uid=\"translation_file_changed\"\n",
                "            )\n",
                "            file_changed.connect(\n",
                "                translation_file_changed, dispatch_uid=\"translation_file_changed\"\n",
                "            )\n",
                "        else:\n",
                "            from django.utils.translation import trans_null as trans\n",
                "        setattr(self, real_name, getattr(trans, real_name))\n",
                "        return getattr(trans, real_name)\n"
            ]
        },
        {
            "cell_type": "markdown",
            "metadata": {},
            "source": []
        },
        {
            "cell_type": "code",
            "execution_count": null,
            "metadata": {},
            "outputs": [],
            "source": [
                "_trans = Trans()\n",
                "\n",
                "# The Trans class is no more needed, so remove it from the namespace.\n",
                "del Trans\n"
            ]
        },
        {
            "cell_type": "markdown",
            "metadata": {},
            "source": []
        },
        {
            "cell_type": "code",
            "execution_count": null,
            "metadata": {},
            "outputs": [],
            "source": [
                "def gettext_noop(message):\n",
                "    return _trans.gettext_noop(message)\n"
            ]
        },
        {
            "cell_type": "markdown",
            "metadata": {},
            "source": []
        },
        {
            "cell_type": "code",
            "execution_count": null,
            "metadata": {},
            "outputs": [],
            "source": [
                "def gettext(message):\n",
                "    return _trans.gettext(message)\n"
            ]
        },
        {
            "cell_type": "markdown",
            "metadata": {},
            "source": []
        },
        {
            "cell_type": "code",
            "execution_count": null,
            "metadata": {},
            "outputs": [],
            "source": [
                "def ngettext(singular, plural, number):\n",
                "    return _trans.ngettext(singular, plural, number)\n"
            ]
        },
        {
            "cell_type": "markdown",
            "metadata": {},
            "source": []
        },
        {
            "cell_type": "code",
            "execution_count": null,
            "metadata": {},
            "outputs": [],
            "source": [
                "def pgettext(context, message):\n",
                "    return _trans.pgettext(context, message)\n"
            ]
        },
        {
            "cell_type": "markdown",
            "metadata": {},
            "source": []
        },
        {
            "cell_type": "code",
            "execution_count": null,
            "metadata": {},
            "outputs": [],
            "source": [
                "def npgettext(context, singular, plural, number):\n",
                "    return _trans.npgettext(context, singular, plural, number)\n"
            ]
        },
        {
            "cell_type": "markdown",
            "metadata": {},
            "source": []
        },
        {
            "cell_type": "code",
            "execution_count": null,
            "metadata": {},
            "outputs": [],
            "source": [
                "gettext_lazy = lazy(gettext, str)\n",
                "pgettext_lazy = lazy(pgettext, str)\n"
            ]
        },
        {
            "cell_type": "markdown",
            "metadata": {},
            "source": []
        },
        {
            "cell_type": "code",
            "execution_count": null,
            "metadata": {},
            "outputs": [],
            "source": [
                "def lazy_number(func, resultclass, number=None, **kwargs):\n",
                "    if isinstance(number, int):\n",
                "        kwargs[\"number\"] = number\n",
                "        proxy = lazy(func, resultclass)(**kwargs)\n",
                "    else:\n",
                "        original_kwargs = kwargs.copy()\n",
                "\n",
                "        class NumberAwareString(resultclass):\n",
                "            def __bool__(self):\n",
                "                return bool(kwargs[\"singular\"])\n",
                "\n",
                "            def _get_number_value(self, values):\n",
                "                try:\n",
                "                    return values[number]\n",
                "                except KeyError:\n",
                "                    raise KeyError(\n",
                "                        \"Your dictionary lacks key '%s'. Please provide \"\n",
                "                        \"it, because it is required to determine whether \"\n",
                "                        \"string is singular or plural.\" % number\n",
                "                    )\n",
                "\n",
                "            def _translate(self, number_value):\n",
                "                kwargs[\"number\"] = number_value\n",
                "                return func(**kwargs)\n",
                "\n",
                "            def format(self, *args, **kwargs):\n",
                "                number_value = (\n",
                "                    self._get_number_value(kwargs) if kwargs and number else args[0]\n",
                "                )\n",
                "                return self._translate(number_value).format(*args, **kwargs)\n",
                "\n",
                "            def __mod__(self, rhs):\n",
                "                if isinstance(rhs, dict) and number:\n",
                "                    number_value = self._get_number_value(rhs)\n",
                "                else:\n",
                "                    number_value = rhs\n",
                "                translated = self._translate(number_value)\n",
                "                try:\n",
                "                    translated %= rhs\n",
                "                except TypeError:\n",
                "                    # String doesn't contain a placeholder for the number.\n",
                "                    pass\n",
                "                return translated\n",
                "\n",
                "        proxy = lazy(lambda **kwargs: NumberAwareString(), NumberAwareString)(**kwargs)\n",
                "        proxy.__reduce__ = lambda: (\n",
                "            _lazy_number_unpickle,\n",
                "            (func, resultclass, number, original_kwargs),\n",
                "        )\n",
                "    return proxy\n"
            ]
        },
        {
            "cell_type": "markdown",
            "metadata": {},
            "source": []
        },
        {
            "cell_type": "code",
            "execution_count": null,
            "metadata": {},
            "outputs": [],
            "source": [
                "def _lazy_number_unpickle(func, resultclass, number, kwargs):\n",
                "    return lazy_number(func, resultclass, number=number, **kwargs)\n"
            ]
        },
        {
            "cell_type": "markdown",
            "metadata": {},
            "source": []
        },
        {
            "cell_type": "code",
            "execution_count": null,
            "metadata": {},
            "outputs": [],
            "source": [
                "def ngettext_lazy(singular, plural, number=None):\n",
                "    return lazy_number(ngettext, str, singular=singular, plural=plural, number=number)\n"
            ]
        },
        {
            "cell_type": "markdown",
            "metadata": {},
            "source": []
        },
        {
            "cell_type": "code",
            "execution_count": null,
            "metadata": {},
            "outputs": [],
            "source": [
                "def npgettext_lazy(context, singular, plural, number=None):\n",
                "    return lazy_number(\n",
                "        npgettext, str, context=context, singular=singular, plural=plural, number=number\n",
                "    )\n"
            ]
        },
        {
            "cell_type": "markdown",
            "metadata": {},
            "source": []
        },
        {
            "cell_type": "code",
            "execution_count": null,
            "metadata": {},
            "outputs": [],
            "source": [
                "def activate(language):\n",
                "    return _trans.activate(language)\n"
            ]
        },
        {
            "cell_type": "markdown",
            "metadata": {},
            "source": []
        },
        {
            "cell_type": "code",
            "execution_count": null,
            "metadata": {},
            "outputs": [],
            "source": [
                "def deactivate():\n",
                "    return _trans.deactivate()\n"
            ]
        },
        {
            "cell_type": "markdown",
            "metadata": {},
            "source": []
        },
        {
            "cell_type": "code",
            "execution_count": null,
            "metadata": {},
            "outputs": [],
            "source": [
                "class override(ContextDecorator):\n",
                "    def __init__(self, language, deactivate=False):\n",
                "        self.language = language\n",
                "        self.deactivate = deactivate\n",
                "\n",
                "    def __enter__(self):\n",
                "        self.old_language = get_language()\n",
                "        if self.language is not None:\n",
                "            activate(self.language)\n",
                "        else:\n",
                "            deactivate_all()\n",
                "\n",
                "    def __exit__(self, exc_type, exc_value, traceback):\n",
                "        if self.old_language is None:\n",
                "            deactivate_all()\n",
                "        elif self.deactivate:\n",
                "            deactivate()\n",
                "        else:\n",
                "            activate(self.old_language)\n"
            ]
        },
        {
            "cell_type": "markdown",
            "metadata": {},
            "source": []
        },
        {
            "cell_type": "code",
            "execution_count": null,
            "metadata": {},
            "outputs": [],
            "source": [
                "def get_language():\n",
                "    return _trans.get_language()\n"
            ]
        },
        {
            "cell_type": "markdown",
            "metadata": {},
            "source": []
        },
        {
            "cell_type": "code",
            "execution_count": null,
            "metadata": {},
            "outputs": [],
            "source": [
                "def get_language_bidi():\n",
                "    return _trans.get_language_bidi()\n"
            ]
        },
        {
            "cell_type": "markdown",
            "metadata": {},
            "source": []
        },
        {
            "cell_type": "code",
            "execution_count": null,
            "metadata": {},
            "outputs": [],
            "source": [
                "def check_for_language(lang_code):\n",
                "    return _trans.check_for_language(lang_code)\n"
            ]
        },
        {
            "cell_type": "markdown",
            "metadata": {},
            "source": []
        },
        {
            "cell_type": "code",
            "execution_count": null,
            "metadata": {},
            "outputs": [],
            "source": [
                "def to_language(locale):\n",
                "    \"\"\"Turn a locale name (en_US) into a language name (en-us).\"\"\"\n",
                "    p = locale.find(\"_\")\n",
                "    if p >= 0:\n",
                "        return locale[:p].lower() + \"-\" + locale[p + 1 :].lower()\n",
                "    else:\n",
                "        return locale.lower()\n"
            ]
        },
        {
            "cell_type": "markdown",
            "metadata": {},
            "source": []
        },
        {
            "cell_type": "code",
            "execution_count": null,
            "metadata": {},
            "outputs": [],
            "source": [
                "def to_locale(language):\n",
                "    \"\"\"Turn a language name (en-us) into a locale name (en_US).\"\"\"\n",
                "    lang, _, country = language.lower().partition(\"-\")\n",
                "    if not country:\n",
                "        return language[:3].lower() + language[3:]\n",
                "    # A language with > 2 characters after the dash only has its first\n",
                "    # character after the dash capitalized; e.g. sr-latn becomes sr_Latn.\n",
                "    # A language with 2 characters after the dash has both characters\n",
                "    # capitalized; e.g. en-us becomes en_US.\n",
                "    country, _, tail = country.partition(\"-\")\n",
                "    country = country.title() if len(country) > 2 else country.upper()\n",
                "    if tail:\n",
                "        country += \"-\" + tail\n",
                "    return lang + \"_\" + country\n"
            ]
        },
        {
            "cell_type": "markdown",
            "metadata": {},
            "source": []
        },
        {
            "cell_type": "code",
            "execution_count": null,
            "metadata": {},
            "outputs": [],
            "source": [
                "def get_language_from_request(request, check_path=False):\n",
                "    return _trans.get_language_from_request(request, check_path)\n"
            ]
        },
        {
            "cell_type": "markdown",
            "metadata": {},
            "source": []
        },
        {
            "cell_type": "code",
            "execution_count": null,
            "metadata": {},
            "outputs": [],
            "source": [
                "def get_language_from_path(path):\n",
                "    return _trans.get_language_from_path(path)\n"
            ]
        },
        {
            "cell_type": "markdown",
            "metadata": {},
            "source": []
        },
        {
            "cell_type": "code",
            "execution_count": null,
            "metadata": {},
            "outputs": [],
            "source": [
                "def get_supported_language_variant(lang_code, *, strict=False):\n",
                "    return _trans.get_supported_language_variant(lang_code, strict)\n"
            ]
        },
        {
            "cell_type": "markdown",
            "metadata": {},
            "source": []
        },
        {
            "cell_type": "code",
            "execution_count": null,
            "metadata": {},
            "outputs": [],
            "source": [
                "def templatize(src, **kwargs):\n",
                "    from .template import templatize\n",
                "\n",
                "    return templatize(src, **kwargs)\n"
            ]
        },
        {
            "cell_type": "markdown",
            "metadata": {},
            "source": []
        },
        {
            "cell_type": "code",
            "execution_count": null,
            "metadata": {},
            "outputs": [],
            "source": [
                "def deactivate_all():\n",
                "    return _trans.deactivate_all()\n"
            ]
        },
        {
            "cell_type": "markdown",
            "metadata": {},
            "source": []
        },
        {
            "cell_type": "code",
            "execution_count": null,
            "metadata": {},
            "outputs": [],
            "source": [
                "def get_language_info(lang_code):\n",
                "    from django.conf.locale import LANG_INFO\n",
                "\n",
                "    try:\n",
                "        lang_info = LANG_INFO[lang_code]\n",
                "        if \"fallback\" in lang_info and \"name\" not in lang_info:\n",
                "            info = get_language_info(lang_info[\"fallback\"][0])\n",
                "        else:\n",
                "            info = lang_info\n",
                "    except KeyError:\n",
                "        if \"-\" not in lang_code:\n",
                "            raise KeyError(\"Unknown language code %s.\" % lang_code)\n",
                "        generic_lang_code = lang_code.split(\"-\")[0]\n",
                "        try:\n",
                "            info = LANG_INFO[generic_lang_code]\n",
                "        except KeyError:\n",
                "            raise KeyError(\n",
                "                \"Unknown language code %s and %s.\" % (lang_code, generic_lang_code)\n",
                "            )\n",
                "\n",
                "    if info:\n",
                "        info[\"name_translated\"] = gettext_lazy(info[\"name\"])\n",
                "    return info\n"
            ]
        },
        {
            "cell_type": "markdown",
            "metadata": {},
            "source": []
        },
        {
            "cell_type": "code",
            "execution_count": null,
            "metadata": {},
            "outputs": [],
            "source": [
                "trim_whitespace_re = _lazy_re_compile(r\"\\s*\\n\\s*\")\n"
            ]
        },
        {
            "cell_type": "markdown",
            "metadata": {},
            "source": []
        },
        {
            "cell_type": "code",
            "execution_count": null,
            "metadata": {},
            "outputs": [],
            "source": [
                "def trim_whitespace(s):\n",
                "    return trim_whitespace_re.sub(\" \", s.strip())\n"
            ]
        },
        {
            "cell_type": "markdown",
            "metadata": {},
            "source": []
        },
        {
            "cell_type": "code",
            "execution_count": null,
            "metadata": {},
            "outputs": [],
            "source": [
                "def round_away_from_one(value):\n",
                "    return int(Decimal(value - 1).quantize(Decimal(\"0\"), rounding=ROUND_UP)) + 1\n",
                "\n"
            ]
        },
        {
            "cell_type": "markdown",
            "metadata": {},
            "source": []
        }
    ],
    "metadata": {
        "language_info": {
            "name": "python"
        }
    },
    "nbformat": 4,
    "nbformat_minor": 2
}