{
 "cells": [
  {
   "cell_type": "code",
   "execution_count": null,
   "metadata": {},
   "outputs": [],
   "source": [
    "import functools\n",
    "from importlib import import_module\n",
    "\n",
    "from django.core.exceptions import ViewDoesNotExist\n",
    "from django.utils.module_loading import module_has_submodule"
   ]
  },
  {
   "cell_type": "markdown",
   "metadata": {},
   "source": []
  },
  {
   "cell_type": "code",
   "execution_count": null,
   "metadata": {},
   "outputs": [],
   "source": [
    "@functools.cache\n",
    "def get_callable(lookup_view):\n",
    "    \"\"\"\n",
    "    Return a callable corresponding to lookup_view.\n",
    "    * If lookup_view is already a callable, return it.\n",
    "    * If lookup_view is a string import path that can be resolved to a callable,\n",
    "      import that callable and return it, otherwise raise an exception\n",
    "      (ImportError or ViewDoesNotExist).\n",
    "    \"\"\"\n",
    "    if callable(lookup_view):\n",
    "        return lookup_view\n",
    "\n",
    "    if not isinstance(lookup_view, str):\n",
    "        raise ViewDoesNotExist(\n",
    "            \"'%s' is not a callable or a dot-notation path\" % lookup_view\n",
    "        )\n",
    "\n",
    "    mod_name, func_name = get_mod_func(lookup_view)\n",
    "    if not func_name:  # No '.' in lookup_view\n",
    "        raise ImportError(\n",
    "            \"Could not import '%s'. The path must be fully qualified.\" % lookup_view\n",
    "        )\n",
    "\n",
    "    try:\n",
    "        mod = import_module(mod_name)\n",
    "    except ImportError:\n",
    "        parentmod, submod = get_mod_func(mod_name)\n",
    "        if submod and not module_has_submodule(import_module(parentmod), submod):\n",
    "            raise ViewDoesNotExist(\n",
    "                \"Could not import '%s'. Parent module %s does not exist.\"\n",
    "                % (lookup_view, mod_name)\n",
    "            )\n",
    "        else:\n",
    "            raise\n",
    "    else:\n",
    "        try:\n",
    "            view_func = getattr(mod, func_name)\n",
    "        except AttributeError:\n",
    "            raise ViewDoesNotExist(\n",
    "                \"Could not import '%s'. View does not exist in module %s.\"\n",
    "                % (lookup_view, mod_name)\n",
    "            )\n",
    "        else:\n",
    "            if not callable(view_func):\n",
    "                raise ViewDoesNotExist(\n",
    "                    \"Could not import '%s.%s'. View is not callable.\"\n",
    "                    % (mod_name, func_name)\n",
    "                )\n",
    "            return view_func"
   ]
  },
  {
   "cell_type": "markdown",
   "metadata": {},
   "source": []
  },
  {
   "cell_type": "code",
   "execution_count": null,
   "metadata": {},
   "outputs": [],
   "source": [
    "def get_mod_func(callback):\n",
    "    # Convert 'django.views.news.stories.story_detail' to\n",
    "    # ['django.views.news.stories', 'story_detail']\n",
    "    try:\n",
    "        dot = callback.rindex(\".\")\n",
    "    except ValueError:\n",
    "        return callback, \"\"\n",
    "    return callback[:dot], callback[dot + 1 :]"
   ]
  },
  {
   "cell_type": "markdown",
   "metadata": {},
   "source": []
  }
 ],
 "metadata": {
  "language_info": {
   "name": "python"
  }
 },
 "nbformat": 4,
 "nbformat_minor": 2
}