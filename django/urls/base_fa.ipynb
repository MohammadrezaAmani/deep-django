{
    "cells": [
        {
            "cell_type": "code",
            "execution_count": null,
            "metadata": {},
            "outputs": [],
            "source": [
                "from urllib.parse import unquote, urlsplit, urlunsplit\n",
                "\n",
                "from asgiref.local import Local\n",
                "\n",
                "from django.utils.functional import lazy\n",
                "from django.utils.translation import override\n",
                "\n",
                "from .exceptions import NoReverseMatch, Resolver404\n",
                "from .resolvers import _get_cached_resolver, get_ns_resolver, get_resolver\n",
                "from .utils import get_callable\n",
                "\n",
                "# SCRIPT_NAME prefixes for each thread are stored here. If there's no entry for\n",
                "# the current thread (which is the only one we ever access), it is assumed to\n",
                "# be empty.\n",
                "_prefixes = Local()\n",
                "\n",
                "# Overridden URLconfs for each thread are stored here.\n",
                "_urlconfs = Local()\n"
            ]
        },
        {
            "cell_type": "markdown",
            "metadata": {},
            "source": []
        },
        {
            "cell_type": "code",
            "execution_count": null,
            "metadata": {},
            "outputs": [],
            "source": [
                "def resolve(path, urlconf=None):\n",
                "    if urlconf is None:\n",
                "        urlconf = get_urlconf()\n",
                "    return get_resolver(urlconf).resolve(path)\n"
            ]
        },
        {
            "cell_type": "markdown",
            "metadata": {},
            "source": []
        },
        {
            "cell_type": "code",
            "execution_count": null,
            "metadata": {},
            "outputs": [],
            "source": [
                "def reverse(viewname, urlconf=None, args=None, kwargs=None, current_app=None):\n",
                "    if urlconf is None:\n",
                "        urlconf = get_urlconf()\n",
                "    resolver = get_resolver(urlconf)\n",
                "    args = args or []\n",
                "    kwargs = kwargs or {}\n",
                "\n",
                "    prefix = get_script_prefix()\n",
                "\n",
                "    if not isinstance(viewname, str):\n",
                "        view = viewname\n",
                "    else:\n",
                "        *path, view = viewname.split(\":\")\n",
                "\n",
                "        if current_app:\n",
                "            current_path = current_app.split(\":\")\n",
                "            current_path.reverse()\n",
                "        else:\n",
                "            current_path = None\n",
                "\n",
                "        resolved_path = []\n",
                "        ns_pattern = \"\"\n",
                "        ns_converters = {}\n",
                "        for ns in path:\n",
                "            current_ns = current_path.pop() if current_path else None\n",
                "            # Lookup the name to see if it could be an app identifier.\n",
                "            try:\n",
                "                app_list = resolver.app_dict[ns]\n",
                "                # Yes! Path part matches an app in the current Resolver.\n",
                "                if current_ns and current_ns in app_list:\n",
                "                    # If we are reversing for a particular app, use that\n",
                "                    # namespace.\n",
                "                    ns = current_ns\n",
                "                elif ns not in app_list:\n",
                "                    # The name isn't shared by one of the instances (i.e.,\n",
                "                    # the default) so pick the first instance as the default.\n",
                "                    ns = app_list[0]\n",
                "            except KeyError:\n",
                "                pass\n",
                "\n",
                "            if ns != current_ns:\n",
                "                current_path = None\n",
                "\n",
                "            try:\n",
                "                extra, resolver = resolver.namespace_dict[ns]\n",
                "                resolved_path.append(ns)\n",
                "                ns_pattern += extra\n",
                "                ns_converters.update(resolver.pattern.converters)\n",
                "            except KeyError as key:\n",
                "                if resolved_path:\n",
                "                    raise NoReverseMatch(\n",
                "                        \"%s is not a registered namespace inside '%s'\"\n",
                "                        % (key, \":\".join(resolved_path))\n",
                "                    )\n",
                "                else:\n",
                "                    raise NoReverseMatch(\"%s is not a registered namespace\" % key)\n",
                "        if ns_pattern:\n",
                "            resolver = get_ns_resolver(\n",
                "                ns_pattern, resolver, tuple(ns_converters.items())\n",
                "            )\n",
                "\n",
                "    return resolver._reverse_with_prefix(view, prefix, *args, **kwargs)\n"
            ]
        },
        {
            "cell_type": "markdown",
            "metadata": {},
            "source": []
        },
        {
            "cell_type": "code",
            "execution_count": null,
            "metadata": {},
            "outputs": [],
            "source": [
                "reverse_lazy = lazy(reverse, str)\n"
            ]
        },
        {
            "cell_type": "markdown",
            "metadata": {},
            "source": []
        },
        {
            "cell_type": "code",
            "execution_count": null,
            "metadata": {},
            "outputs": [],
            "source": [
                "def clear_url_caches():\n",
                "    get_callable.cache_clear()\n",
                "    _get_cached_resolver.cache_clear()\n",
                "    get_ns_resolver.cache_clear()\n"
            ]
        },
        {
            "cell_type": "markdown",
            "metadata": {},
            "source": []
        },
        {
            "cell_type": "code",
            "execution_count": null,
            "metadata": {},
            "outputs": [],
            "source": [
                "def set_script_prefix(prefix):\n",
                "    \"\"\"\n",
                "    Set the script prefix for the current thread.\n",
                "    \"\"\"\n",
                "    if not prefix.endswith(\"/\"):\n",
                "        prefix += \"/\"\n",
                "    _prefixes.value = prefix\n"
            ]
        },
        {
            "cell_type": "markdown",
            "metadata": {},
            "source": []
        },
        {
            "cell_type": "code",
            "execution_count": null,
            "metadata": {},
            "outputs": [],
            "source": [
                "def get_script_prefix():\n",
                "    \"\"\"\n",
                "    Return the currently active script prefix. Useful for client code that\n",
                "    wishes to construct their own URLs manually (although accessing the request\n",
                "    instance is normally going to be a lot cleaner).\n",
                "    \"\"\"\n",
                "    return getattr(_prefixes, \"value\", \"/\")\n"
            ]
        },
        {
            "cell_type": "markdown",
            "metadata": {},
            "source": []
        },
        {
            "cell_type": "code",
            "execution_count": null,
            "metadata": {},
            "outputs": [],
            "source": [
                "def clear_script_prefix():\n",
                "    \"\"\"\n",
                "    Unset the script prefix for the current thread.\n",
                "    \"\"\"\n",
                "    try:\n",
                "        del _prefixes.value\n",
                "    except AttributeError:\n",
                "        pass\n"
            ]
        },
        {
            "cell_type": "markdown",
            "metadata": {},
            "source": []
        },
        {
            "cell_type": "code",
            "execution_count": null,
            "metadata": {},
            "outputs": [],
            "source": [
                "def set_urlconf(urlconf_name):\n",
                "    \"\"\"\n",
                "    Set the URLconf for the current thread (overriding the default one in\n",
                "    settings). If urlconf_name is None, revert back to the default.\n",
                "    \"\"\"\n",
                "    if urlconf_name:\n",
                "        _urlconfs.value = urlconf_name\n",
                "    else:\n",
                "        if hasattr(_urlconfs, \"value\"):\n",
                "            del _urlconfs.value\n"
            ]
        },
        {
            "cell_type": "markdown",
            "metadata": {},
            "source": []
        },
        {
            "cell_type": "code",
            "execution_count": null,
            "metadata": {},
            "outputs": [],
            "source": [
                "def get_urlconf(default=None):\n",
                "    \"\"\"\n",
                "    Return the root URLconf to use for the current thread if it has been\n",
                "    changed from the default one.\n",
                "    \"\"\"\n",
                "    return getattr(_urlconfs, \"value\", default)\n"
            ]
        },
        {
            "cell_type": "markdown",
            "metadata": {},
            "source": []
        },
        {
            "cell_type": "code",
            "execution_count": null,
            "metadata": {},
            "outputs": [],
            "source": [
                "def is_valid_path(path, urlconf=None):\n",
                "    \"\"\"\n",
                "    Return the ResolverMatch if the given path resolves against the default URL\n",
                "    resolver, False otherwise. This is a convenience method to make working\n",
                "    with \"is this a match?\" cases easier, avoiding try...except blocks.\n",
                "    \"\"\"\n",
                "    try:\n",
                "        return resolve(path, urlconf)\n",
                "    except Resolver404:\n",
                "        return False\n"
            ]
        },
        {
            "cell_type": "markdown",
            "metadata": {},
            "source": []
        },
        {
            "cell_type": "code",
            "execution_count": null,
            "metadata": {},
            "outputs": [],
            "source": [
                "def translate_url(url, lang_code):\n",
                "    \"\"\"\n",
                "    Given a URL (absolute or relative), try to get its translated version in\n",
                "    the `lang_code` language (either by i18n_patterns or by translated regex).\n",
                "    Return the original URL if no translated version is found.\n",
                "    \"\"\"\n",
                "    parsed = urlsplit(url)\n",
                "    try:\n",
                "        # URL may be encoded.\n",
                "        match = resolve(unquote(parsed.path))\n",
                "    except Resolver404:\n",
                "        pass\n",
                "    else:\n",
                "        to_be_reversed = (\n",
                "            \"%s:%s\" % (match.namespace, match.url_name)\n",
                "            if match.namespace\n",
                "            else match.url_name\n",
                "        )\n",
                "        with override(lang_code):\n",
                "            try:\n",
                "                url = reverse(to_be_reversed, args=match.args, kwargs=match.kwargs)\n",
                "            except NoReverseMatch:\n",
                "                pass\n",
                "            else:\n",
                "                url = urlunsplit(\n",
                "                    (parsed.scheme, parsed.netloc, url, parsed.query, parsed.fragment)\n",
                "                )\n",
                "    return url\n",
                "\n"
            ]
        },
        {
            "cell_type": "markdown",
            "metadata": {},
            "source": []
        }
    ],
    "metadata": {
        "language_info": {
            "name": "python"
        }
    },
    "nbformat": 4,
    "nbformat_minor": 2
}