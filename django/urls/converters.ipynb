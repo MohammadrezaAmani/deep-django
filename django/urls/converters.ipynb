{
 "cells": [
  {
   "cell_type": "code",
   "execution_count": null,
   "metadata": {},
   "outputs": [],
   "source": [
    "import functools\n",
    "import uuid"
   ]
  },
  {
   "cell_type": "markdown",
   "metadata": {},
   "source": []
  },
  {
   "cell_type": "code",
   "execution_count": null,
   "metadata": {},
   "outputs": [],
   "source": [
    "class IntConverter:\n",
    "    regex = \"[0-9]+\"\n",
    "\n",
    "    def to_python(self, value):\n",
    "        return int(value)\n",
    "\n",
    "    def to_url(self, value):\n",
    "        return str(value)"
   ]
  },
  {
   "cell_type": "markdown",
   "metadata": {},
   "source": []
  },
  {
   "cell_type": "code",
   "execution_count": null,
   "metadata": {},
   "outputs": [],
   "source": [
    "class StringConverter:\n",
    "    regex = \"[^/]+\"\n",
    "\n",
    "    def to_python(self, value):\n",
    "        return value\n",
    "\n",
    "    def to_url(self, value):\n",
    "        return value"
   ]
  },
  {
   "cell_type": "markdown",
   "metadata": {},
   "source": []
  },
  {
   "cell_type": "code",
   "execution_count": null,
   "metadata": {},
   "outputs": [],
   "source": [
    "class UUIDConverter:\n",
    "    regex = \"[0-9a-f]{8}-[0-9a-f]{4}-[0-9a-f]{4}-[0-9a-f]{4}-[0-9a-f]{12}\"\n",
    "\n",
    "    def to_python(self, value):\n",
    "        return uuid.UUID(value)\n",
    "\n",
    "    def to_url(self, value):\n",
    "        return str(value)"
   ]
  },
  {
   "cell_type": "markdown",
   "metadata": {},
   "source": []
  },
  {
   "cell_type": "code",
   "execution_count": null,
   "metadata": {},
   "outputs": [],
   "source": [
    "class SlugConverter(StringConverter):\n",
    "    regex = \"[-a-zA-Z0-9_]+\""
   ]
  },
  {
   "cell_type": "markdown",
   "metadata": {},
   "source": []
  },
  {
   "cell_type": "code",
   "execution_count": null,
   "metadata": {},
   "outputs": [],
   "source": [
    "class PathConverter(StringConverter):\n",
    "    regex = \".+\""
   ]
  },
  {
   "cell_type": "markdown",
   "metadata": {},
   "source": []
  },
  {
   "cell_type": "code",
   "execution_count": null,
   "metadata": {},
   "outputs": [],
   "source": [
    "DEFAULT_CONVERTERS = {\n",
    "    \"int\": IntConverter(),\n",
    "    \"path\": PathConverter(),\n",
    "    \"slug\": SlugConverter(),\n",
    "    \"str\": StringConverter(),\n",
    "    \"uuid\": UUIDConverter(),\n",
    "}"
   ]
  },
  {
   "cell_type": "markdown",
   "metadata": {},
   "source": []
  },
  {
   "cell_type": "code",
   "execution_count": null,
   "metadata": {},
   "outputs": [],
   "source": [
    "REGISTERED_CONVERTERS = {}"
   ]
  },
  {
   "cell_type": "markdown",
   "metadata": {},
   "source": []
  },
  {
   "cell_type": "code",
   "execution_count": null,
   "metadata": {},
   "outputs": [],
   "source": [
    "def register_converter(converter, type_name):\n",
    "    REGISTERED_CONVERTERS[type_name] = converter()\n",
    "    get_converters.cache_clear()"
   ]
  },
  {
   "cell_type": "markdown",
   "metadata": {},
   "source": []
  },
  {
   "cell_type": "code",
   "execution_count": null,
   "metadata": {},
   "outputs": [],
   "source": [
    "@functools.cache\n",
    "def get_converters():\n",
    "    return {**DEFAULT_CONVERTERS, **REGISTERED_CONVERTERS}"
   ]
  },
  {
   "cell_type": "markdown",
   "metadata": {},
   "source": []
  },
  {
   "cell_type": "code",
   "execution_count": null,
   "metadata": {},
   "outputs": [],
   "source": [
    "def get_converter(raw_converter):\n",
    "    return get_converters()[raw_converter]"
   ]
  },
  {
   "cell_type": "markdown",
   "metadata": {},
   "source": []
  }
 ],
 "metadata": {
  "language_info": {
   "name": "python"
  }
 },
 "nbformat": 4,
 "nbformat_minor": 2
}