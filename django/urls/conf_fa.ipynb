{
 "cells": [
  {
   "cell_type": "code",
   "execution_count": null,
   "metadata": {},
   "outputs": [],
   "source": [
    "\"\"\"Functions for use in URLsconfs.\"\"\"\n",
    "\n",
    "from functools import partial\n",
    "from importlib import import_module\n",
    "\n",
    "from django.core.exceptions import ImproperlyConfigured\n",
    "\n",
    "from .resolvers import (\n",
    "    LocalePrefixPattern,\n",
    "    RegexPattern,\n",
    "    RoutePattern,\n",
    "    URLPattern,\n",
    "    URLResolver,\n",
    ")"
   ]
  },
  {
   "cell_type": "markdown",
   "metadata": {},
   "source": []
  },
  {
   "cell_type": "code",
   "execution_count": null,
   "metadata": {},
   "outputs": [],
   "source": [
    "def include(arg, namespace=None):\n",
    "    app_name = None\n",
    "    if isinstance(arg, tuple):\n",
    "        # Callable returning a namespace hint.\n",
    "        try:\n",
    "            urlconf_module, app_name = arg\n",
    "        except ValueError:\n",
    "            if namespace:\n",
    "                raise ImproperlyConfigured(\n",
    "                    \"Cannot override the namespace for a dynamic module that \"\n",
    "                    \"provides a namespace.\"\n",
    "                )\n",
    "            raise ImproperlyConfigured(\n",
    "                \"Passing a %d-tuple to include() is not supported. Pass a \"\n",
    "                \"2-tuple containing the list of patterns and app_name, and \"\n",
    "                \"provide the namespace argument to include() instead.\" % len(arg)\n",
    "            )\n",
    "    else:\n",
    "        # No namespace hint - use manually provided namespace.\n",
    "        urlconf_module = arg\n",
    "\n",
    "    if isinstance(urlconf_module, str):\n",
    "        urlconf_module = import_module(urlconf_module)\n",
    "    patterns = getattr(urlconf_module, \"urlpatterns\", urlconf_module)\n",
    "    app_name = getattr(urlconf_module, \"app_name\", app_name)\n",
    "    if namespace and not app_name:\n",
    "        raise ImproperlyConfigured(\n",
    "            \"Specifying a namespace in include() without providing an app_name \"\n",
    "            \"is not supported. Set the app_name attribute in the included \"\n",
    "            \"module, or pass a 2-tuple containing the list of patterns and \"\n",
    "            \"app_name instead.\",\n",
    "        )\n",
    "    namespace = namespace or app_name\n",
    "    # Make sure the patterns can be iterated through (without this, some\n",
    "    # testcases will break).\n",
    "    if isinstance(patterns, (list, tuple)):\n",
    "        for url_pattern in patterns:\n",
    "            pattern = getattr(url_pattern, \"pattern\", None)\n",
    "            if isinstance(pattern, LocalePrefixPattern):\n",
    "                raise ImproperlyConfigured(\n",
    "                    \"Using i18n_patterns in an included URLconf is not allowed.\"\n",
    "                )\n",
    "    return (urlconf_module, app_name, namespace)"
   ]
  },
  {
   "cell_type": "markdown",
   "metadata": {},
   "source": []
  },
  {
   "cell_type": "code",
   "execution_count": null,
   "metadata": {},
   "outputs": [],
   "source": [
    "def _path(route, view, kwargs=None, name=None, Pattern=None):\n",
    "    from django.views import View\n",
    "\n",
    "    if kwargs is not None and not isinstance(kwargs, dict):\n",
    "        raise TypeError(\n",
    "            f\"kwargs argument must be a dict, but got {kwargs.__class__.__name__}.\"\n",
    "        )\n",
    "    if isinstance(view, (list, tuple)):\n",
    "        # For include(...) processing.\n",
    "        pattern = Pattern(route, is_endpoint=False)\n",
    "        urlconf_module, app_name, namespace = view\n",
    "        return URLResolver(\n",
    "            pattern,\n",
    "            urlconf_module,\n",
    "            kwargs,\n",
    "            app_name=app_name,\n",
    "            namespace=namespace,\n",
    "        )\n",
    "    elif callable(view):\n",
    "        pattern = Pattern(route, name=name, is_endpoint=True)\n",
    "        return URLPattern(pattern, view, kwargs, name)\n",
    "    elif isinstance(view, View):\n",
    "        view_cls_name = view.__class__.__name__\n",
    "        raise TypeError(\n",
    "            f\"view must be a callable, pass {view_cls_name}.as_view(), not \"\n",
    "            f\"{view_cls_name}().\"\n",
    "        )\n",
    "    else:\n",
    "        raise TypeError(\n",
    "            \"view must be a callable or a list/tuple in the case of include().\"\n",
    "        )"
   ]
  },
  {
   "cell_type": "markdown",
   "metadata": {},
   "source": []
  },
  {
   "cell_type": "code",
   "execution_count": null,
   "metadata": {},
   "outputs": [],
   "source": [
    "path = partial(_path, Pattern=RoutePattern)\n",
    "re_path = partial(_path, Pattern=RegexPattern)"
   ]
  },
  {
   "cell_type": "markdown",
   "metadata": {},
   "source": []
  }
 ],
 "metadata": {
  "language_info": {
   "name": "python"
  }
 },
 "nbformat": 4,
 "nbformat_minor": 2
}