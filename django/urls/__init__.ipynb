{
 "cells": [
  {
   "cell_type": "code",
   "execution_count": null,
   "metadata": {},
   "outputs": [],
   "source": [
    "from .base import (\n",
    "    clear_script_prefix,\n",
    "    clear_url_caches,\n",
    "    get_script_prefix,\n",
    "    get_urlconf,\n",
    "    is_valid_path,\n",
    "    resolve,\n",
    "    reverse,\n",
    "    reverse_lazy,\n",
    "    set_script_prefix,\n",
    "    set_urlconf,\n",
    "    translate_url,\n",
    ")\n",
    "from .conf import include, path, re_path\n",
    "from .converters import register_converter\n",
    "from .exceptions import NoReverseMatch, Resolver404\n",
    "from .resolvers import (\n",
    "    LocalePrefixPattern,\n",
    "    ResolverMatch,\n",
    "    URLPattern,\n",
    "    URLResolver,\n",
    "    get_ns_resolver,\n",
    "    get_resolver,\n",
    ")\n",
    "from .utils import get_callable, get_mod_func\n",
    "\n",
    "__all__ = [\n",
    "    \"LocalePrefixPattern\",\n",
    "    \"NoReverseMatch\",\n",
    "    \"URLPattern\",\n",
    "    \"URLResolver\",\n",
    "    \"Resolver404\",\n",
    "    \"ResolverMatch\",\n",
    "    \"clear_script_prefix\",\n",
    "    \"clear_url_caches\",\n",
    "    \"get_callable\",\n",
    "    \"get_mod_func\",\n",
    "    \"get_ns_resolver\",\n",
    "    \"get_resolver\",\n",
    "    \"get_script_prefix\",\n",
    "    \"get_urlconf\",\n",
    "    \"include\",\n",
    "    \"is_valid_path\",\n",
    "    \"path\",\n",
    "    \"re_path\",\n",
    "    \"register_converter\",\n",
    "    \"resolve\",\n",
    "    \"reverse\",\n",
    "    \"reverse_lazy\",\n",
    "    \"set_script_prefix\",\n",
    "    \"set_urlconf\",\n",
    "    \"translate_url\",\n",
    "]"
   ]
  },
  {
   "cell_type": "markdown",
   "metadata": {},
   "source": []
  }
 ],
 "metadata": {
  "language_info": {
   "name": "python"
  }
 },
 "nbformat": 4,
 "nbformat_minor": 2
}