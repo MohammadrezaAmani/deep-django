{
 "cells": [
  {
   "cell_type": "code",
   "execution_count": null,
   "metadata": {},
   "outputs": [],
   "source": [
    "\"\"\"\n",
    "Invokes django-admin when the django module is run as a script.\n",
    "\n",
    "Example: python -m django check\n",
    "\"\"\"\n",
    "\n",
    "from django.core import management\n",
    "\n",
    "if __name__ == \"__main__\":\n",
    "    management.execute_from_command_line()"
   ]
  },
  {
   "cell_type": "markdown",
   "metadata": {},
   "source": []
  }
 ],
 "metadata": {
  "language_info": {
   "name": "python"
  }
 },
 "nbformat": 4,
 "nbformat_minor": 2
}