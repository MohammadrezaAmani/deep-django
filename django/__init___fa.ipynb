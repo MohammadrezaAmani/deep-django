{
 "cells": [
  {
   "cell_type": "code",
   "execution_count": null,
   "metadata": {},
   "outputs": [],
   "source": [
    "from django.utils.version import get_version\n",
    "\n",
    "VERSION = (5, 0, 6, \"final\", 0)\n",
    "\n",
    "__version__ = get_version(VERSION)"
   ]
  },
  {
   "cell_type": "markdown",
   "metadata": {},
   "source": []
  },
  {
   "cell_type": "code",
   "execution_count": null,
   "metadata": {},
   "outputs": [],
   "source": [
    "def setup(set_prefix=True):\n",
    "    \"\"\"\n",
    "    Configure the settings (this happens as a side effect of accessing the\n",
    "    first setting), configure logging and populate the app registry.\n",
    "    Set the thread-local urlresolvers script prefix if `set_prefix` is True.\n",
    "    \"\"\"\n",
    "    from django.apps import apps\n",
    "    from django.conf import settings\n",
    "    from django.urls import set_script_prefix\n",
    "    from django.utils.log import configure_logging\n",
    "\n",
    "    configure_logging(settings.LOGGING_CONFIG, settings.LOGGING)\n",
    "    if set_prefix:\n",
    "        set_script_prefix(\n",
    "            \"/\" if settings.FORCE_SCRIPT_NAME is None else settings.FORCE_SCRIPT_NAME\n",
    "        )\n",
    "    apps.populate(settings.INSTALLED_APPS)"
   ]
  },
  {
   "cell_type": "markdown",
   "metadata": {},
   "source": []
  }
 ],
 "metadata": {
  "language_info": {
   "name": "python"
  }
 },
 "nbformat": 4,
 "nbformat_minor": 2
}