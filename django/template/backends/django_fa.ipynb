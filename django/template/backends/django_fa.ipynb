{
    "cells": [
        {
            "cell_type": "code",
            "execution_count": null,
            "metadata": {},
            "outputs": [],
            "source": [
                "from importlib import import_module\n",
                "from pkgutil import walk_packages\n",
                "\n",
                "from django.apps import apps\n",
                "from django.conf import settings\n",
                "from django.template import TemplateDoesNotExist\n",
                "from django.template.context import make_context\n",
                "from django.template.engine import Engine\n",
                "from django.template.library import InvalidTemplateLibrary\n",
                "\n",
                "from .base import BaseEngine\n"
            ]
        },
        {
            "cell_type": "markdown",
            "metadata": {},
            "source": []
        },
        {
            "cell_type": "code",
            "execution_count": null,
            "metadata": {},
            "outputs": [],
            "source": [
                "class DjangoTemplates(BaseEngine):\n",
                "    app_dirname = \"templates\"\n",
                "\n",
                "    def __init__(self, params):\n",
                "        params = params.copy()\n",
                "        options = params.pop(\"OPTIONS\").copy()\n",
                "        options.setdefault(\"autoescape\", True)\n",
                "        options.setdefault(\"debug\", settings.DEBUG)\n",
                "        options.setdefault(\"file_charset\", \"utf-8\")\n",
                "        libraries = options.get(\"libraries\", {})\n",
                "        options[\"libraries\"] = self.get_templatetag_libraries(libraries)\n",
                "        super().__init__(params)\n",
                "        self.engine = Engine(self.dirs, self.app_dirs, **options)\n",
                "\n",
                "    def from_string(self, template_code):\n",
                "        return Template(self.engine.from_string(template_code), self)\n",
                "\n",
                "    def get_template(self, template_name):\n",
                "        try:\n",
                "            return Template(self.engine.get_template(template_name), self)\n",
                "        except TemplateDoesNotExist as exc:\n",
                "            reraise(exc, self)\n",
                "\n",
                "    def get_templatetag_libraries(self, custom_libraries):\n",
                "        \"\"\"\n",
                "        Return a collation of template tag libraries from installed\n",
                "        applications and the supplied custom_libraries argument.\n",
                "        \"\"\"\n",
                "        libraries = get_installed_libraries()\n",
                "        libraries.update(custom_libraries)\n",
                "        return libraries\n"
            ]
        },
        {
            "cell_type": "markdown",
            "metadata": {},
            "source": []
        },
        {
            "cell_type": "code",
            "execution_count": null,
            "metadata": {},
            "outputs": [],
            "source": [
                "class Template:\n",
                "    def __init__(self, template, backend):\n",
                "        self.template = template\n",
                "        self.backend = backend\n",
                "\n",
                "    @property\n",
                "    def origin(self):\n",
                "        return self.template.origin\n",
                "\n",
                "    def render(self, context=None, request=None):\n",
                "        context = make_context(\n",
                "            context, request, autoescape=self.backend.engine.autoescape\n",
                "        )\n",
                "        try:\n",
                "            return self.template.render(context)\n",
                "        except TemplateDoesNotExist as exc:\n",
                "            reraise(exc, self.backend)\n"
            ]
        },
        {
            "cell_type": "markdown",
            "metadata": {},
            "source": []
        },
        {
            "cell_type": "code",
            "execution_count": null,
            "metadata": {},
            "outputs": [],
            "source": [
                "def copy_exception(exc, backend=None):\n",
                "    \"\"\"\n",
                "    Create a new TemplateDoesNotExist. Preserve its declared attributes and\n",
                "    template debug data but discard __traceback__, __context__, and __cause__\n",
                "    to make this object suitable for keeping around (in a cache, for example).\n",
                "    \"\"\"\n",
                "    backend = backend or exc.backend\n",
                "    new = exc.__class__(*exc.args, tried=exc.tried, backend=backend, chain=exc.chain)\n",
                "    if hasattr(exc, \"template_debug\"):\n",
                "        new.template_debug = exc.template_debug\n",
                "    return new\n"
            ]
        },
        {
            "cell_type": "markdown",
            "metadata": {},
            "source": []
        },
        {
            "cell_type": "code",
            "execution_count": null,
            "metadata": {},
            "outputs": [],
            "source": [
                "def reraise(exc, backend):\n",
                "    \"\"\"\n",
                "    Reraise TemplateDoesNotExist while maintaining template debug information.\n",
                "    \"\"\"\n",
                "    new = copy_exception(exc, backend)\n",
                "    raise new from exc\n"
            ]
        },
        {
            "cell_type": "markdown",
            "metadata": {},
            "source": []
        },
        {
            "cell_type": "code",
            "execution_count": null,
            "metadata": {},
            "outputs": [],
            "source": [
                "def get_template_tag_modules():\n",
                "    \"\"\"\n",
                "    Yield (module_name, module_path) pairs for all installed template tag\n",
                "    libraries.\n",
                "    \"\"\"\n",
                "    candidates = [\"django.templatetags\"]\n",
                "    candidates.extend(\n",
                "        f\"{app_config.name}.templatetags\" for app_config in apps.get_app_configs()\n",
                "    )\n",
                "\n",
                "    for candidate in candidates:\n",
                "        try:\n",
                "            pkg = import_module(candidate)\n",
                "        except ImportError:\n",
                "            # No templatetags package defined. This is safe to ignore.\n",
                "            continue\n",
                "\n",
                "        if hasattr(pkg, \"__path__\"):\n",
                "            for name in get_package_libraries(pkg):\n",
                "                yield name.removeprefix(candidate).lstrip(\".\"), name\n"
            ]
        },
        {
            "cell_type": "markdown",
            "metadata": {},
            "source": []
        },
        {
            "cell_type": "code",
            "execution_count": null,
            "metadata": {},
            "outputs": [],
            "source": [
                "def get_installed_libraries():\n",
                "    \"\"\"\n",
                "    Return the built-in template tag libraries and those from installed\n",
                "    applications. Libraries are stored in a dictionary where keys are the\n",
                "    individual module names, not the full module paths. Example:\n",
                "    django.templatetags.i18n is stored as i18n.\n",
                "    \"\"\"\n",
                "    return {\n",
                "        module_name: full_name for module_name, full_name in get_template_tag_modules()\n",
                "    }\n"
            ]
        },
        {
            "cell_type": "markdown",
            "metadata": {},
            "source": []
        },
        {
            "cell_type": "code",
            "execution_count": null,
            "metadata": {},
            "outputs": [],
            "source": [
                "def get_package_libraries(pkg):\n",
                "    \"\"\"\n",
                "    Recursively yield template tag libraries defined in submodules of a\n",
                "    package.\n",
                "    \"\"\"\n",
                "    for entry in walk_packages(pkg.__path__, pkg.__name__ + \".\"):\n",
                "        try:\n",
                "            module = import_module(entry[1])\n",
                "        except ImportError as e:\n",
                "            raise InvalidTemplateLibrary(\n",
                "                \"Invalid template library specified. ImportError raised when \"\n",
                "                \"trying to load '%s': %s\" % (entry[1], e)\n",
                "            ) from e\n",
                "\n",
                "        if hasattr(module, \"register\"):\n",
                "            yield entry[1]\n",
                "\n"
            ]
        },
        {
            "cell_type": "markdown",
            "metadata": {},
            "source": []
        }
    ],
    "metadata": {
        "language_info": {
            "name": "python"
        }
    },
    "nbformat": 4,
    "nbformat_minor": 2
}