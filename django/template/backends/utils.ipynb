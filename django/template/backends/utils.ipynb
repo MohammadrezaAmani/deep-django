{
    "cells": [
        {
            "cell_type": "code",
            "execution_count": null,
            "metadata": {},
            "outputs": [],
            "source": [
                "from django.middleware.csrf import get_token\n",
                "from django.utils.functional import lazy\n",
                "from django.utils.html import format_html\n",
                "from django.utils.safestring import SafeString\n"
            ]
        },
        {
            "cell_type": "markdown",
            "metadata": {},
            "source": []
        },
        {
            "cell_type": "code",
            "execution_count": null,
            "metadata": {},
            "outputs": [],
            "source": [
                "def csrf_input(request):\n",
                "    return format_html(\n",
                "        '<input type=\"hidden\" name=\"csrfmiddlewaretoken\" value=\"{}\">',\n",
                "        get_token(request),\n",
                "    )\n"
            ]
        },
        {
            "cell_type": "markdown",
            "metadata": {},
            "source": []
        },
        {
            "cell_type": "code",
            "execution_count": null,
            "metadata": {},
            "outputs": [],
            "source": [
                "csrf_input_lazy = lazy(csrf_input, SafeString, str)\n",
                "csrf_token_lazy = lazy(get_token, str)\n",
                "\n"
            ]
        },
        {
            "cell_type": "markdown",
            "metadata": {},
            "source": []
        }
    ],
    "metadata": {
        "language_info": {
            "name": "python"
        }
    },
    "nbformat": 4,
    "nbformat_minor": 2
}