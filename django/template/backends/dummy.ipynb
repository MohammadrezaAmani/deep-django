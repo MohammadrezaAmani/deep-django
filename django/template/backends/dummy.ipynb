{
 "cells": [
  {
   "cell_type": "code",
   "execution_count": null,
   "metadata": {},
   "outputs": [],
   "source": [
    "import string\n",
    "\n",
    "from django.core.exceptions import ImproperlyConfigured\n",
    "from django.template import Origin, TemplateDoesNotExist\n",
    "from django.utils.html import conditional_escape\n",
    "\n",
    "from .base import BaseEngine\n",
    "from .utils import csrf_input_lazy, csrf_token_lazy"
   ]
  },
  {
   "cell_type": "markdown",
   "metadata": {},
   "source": []
  },
  {
   "cell_type": "code",
   "execution_count": null,
   "metadata": {},
   "outputs": [],
   "source": [
    "class TemplateStrings(BaseEngine):\n",
    "    app_dirname = \"template_strings\"\n",
    "\n",
    "    def __init__(self, params):\n",
    "        params = params.copy()\n",
    "        options = params.pop(\"OPTIONS\").copy()\n",
    "        if options:\n",
    "            raise ImproperlyConfigured(\"Unknown options: {}\".format(\", \".join(options)))\n",
    "        super().__init__(params)\n",
    "\n",
    "    def from_string(self, template_code):\n",
    "        return Template(template_code)\n",
    "\n",
    "    def get_template(self, template_name):\n",
    "        tried = []\n",
    "        for template_file in self.iter_template_filenames(template_name):\n",
    "            try:\n",
    "                with open(template_file, encoding=\"utf-8\") as fp:\n",
    "                    template_code = fp.read()\n",
    "            except FileNotFoundError:\n",
    "                tried.append(\n",
    "                    (\n",
    "                        Origin(template_file, template_name, self),\n",
    "                        \"Source does not exist\",\n",
    "                    )\n",
    "                )\n",
    "            else:\n",
    "                return Template(template_code)\n",
    "        raise TemplateDoesNotExist(template_name, tried=tried, backend=self)"
   ]
  },
  {
   "cell_type": "markdown",
   "metadata": {},
   "source": []
  },
  {
   "cell_type": "code",
   "execution_count": null,
   "metadata": {},
   "outputs": [],
   "source": [
    "class Template(string.Template):\n",
    "    def render(self, context=None, request=None):\n",
    "        if context is None:\n",
    "            context = {}\n",
    "        else:\n",
    "            context = {k: conditional_escape(v) for k, v in context.items()}\n",
    "        if request is not None:\n",
    "            context[\"csrf_input\"] = csrf_input_lazy(request)\n",
    "            context[\"csrf_token\"] = csrf_token_lazy(request)\n",
    "        return self.safe_substitute(context)"
   ]
  },
  {
   "cell_type": "markdown",
   "metadata": {},
   "source": []
  }
 ],
 "metadata": {
  "language_info": {
   "name": "python"
  }
 },
 "nbformat": 4,
 "nbformat_minor": 2
}