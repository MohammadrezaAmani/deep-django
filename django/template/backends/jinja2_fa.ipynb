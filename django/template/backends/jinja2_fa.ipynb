{
    "cells": [
        {
            "cell_type": "code",
            "execution_count": null,
            "metadata": {},
            "outputs": [],
            "source": [
                "from pathlib import Path\n",
                "\n",
                "import jinja2\n",
                "\n",
                "from django.conf import settings\n",
                "from django.template import TemplateDoesNotExist, TemplateSyntaxError\n",
                "from django.utils.functional import cached_property\n",
                "from django.utils.module_loading import import_string\n",
                "\n",
                "from .base import BaseEngine\n",
                "from .utils import csrf_input_lazy, csrf_token_lazy\n"
            ]
        },
        {
            "cell_type": "markdown",
            "metadata": {},
            "source": []
        },
        {
            "cell_type": "code",
            "execution_count": null,
            "metadata": {},
            "outputs": [],
            "source": [
                "class Jinja2(BaseEngine):\n",
                "    app_dirname = \"jinja2\"\n",
                "\n",
                "    def __init__(self, params):\n",
                "        params = params.copy()\n",
                "        options = params.pop(\"OPTIONS\").copy()\n",
                "        super().__init__(params)\n",
                "\n",
                "        self.context_processors = options.pop(\"context_processors\", [])\n",
                "\n",
                "        environment = options.pop(\"environment\", \"jinja2.Environment\")\n",
                "        environment_cls = import_string(environment)\n",
                "\n",
                "        if \"loader\" not in options:\n",
                "            options[\"loader\"] = jinja2.FileSystemLoader(self.template_dirs)\n",
                "        options.setdefault(\"autoescape\", True)\n",
                "        options.setdefault(\"auto_reload\", settings.DEBUG)\n",
                "        options.setdefault(\n",
                "            \"undefined\", jinja2.DebugUndefined if settings.DEBUG else jinja2.Undefined\n",
                "        )\n",
                "\n",
                "        self.env = environment_cls(**options)\n",
                "\n",
                "    def from_string(self, template_code):\n",
                "        return Template(self.env.from_string(template_code), self)\n",
                "\n",
                "    def get_template(self, template_name):\n",
                "        try:\n",
                "            return Template(self.env.get_template(template_name), self)\n",
                "        except jinja2.TemplateNotFound as exc:\n",
                "            raise TemplateDoesNotExist(exc.name, backend=self) from exc\n",
                "        except jinja2.TemplateSyntaxError as exc:\n",
                "            new = TemplateSyntaxError(exc.args)\n",
                "            new.template_debug = get_exception_info(exc)\n",
                "            raise new from exc\n",
                "\n",
                "    @cached_property\n",
                "    def template_context_processors(self):\n",
                "        return [import_string(path) for path in self.context_processors]\n"
            ]
        },
        {
            "cell_type": "markdown",
            "metadata": {},
            "source": []
        },
        {
            "cell_type": "code",
            "execution_count": null,
            "metadata": {},
            "outputs": [],
            "source": [
                "class Template:\n",
                "    def __init__(self, template, backend):\n",
                "        self.template = template\n",
                "        self.backend = backend\n",
                "        self.origin = Origin(\n",
                "            name=template.filename,\n",
                "            template_name=template.name,\n",
                "        )\n",
                "\n",
                "    def render(self, context=None, request=None):\n",
                "        if context is None:\n",
                "            context = {}\n",
                "        if request is not None:\n",
                "            context[\"request\"] = request\n",
                "            context[\"csrf_input\"] = csrf_input_lazy(request)\n",
                "            context[\"csrf_token\"] = csrf_token_lazy(request)\n",
                "            for context_processor in self.backend.template_context_processors:\n",
                "                context.update(context_processor(request))\n",
                "        try:\n",
                "            return self.template.render(context)\n",
                "        except jinja2.TemplateSyntaxError as exc:\n",
                "            new = TemplateSyntaxError(exc.args)\n",
                "            new.template_debug = get_exception_info(exc)\n",
                "            raise new from exc\n"
            ]
        },
        {
            "cell_type": "markdown",
            "metadata": {},
            "source": []
        },
        {
            "cell_type": "code",
            "execution_count": null,
            "metadata": {},
            "outputs": [],
            "source": [
                "class Origin:\n",
                "    \"\"\"\n",
                "    A container to hold debug information as described in the template API\n",
                "    documentation.\n",
                "    \"\"\"\n",
                "\n",
                "    def __init__(self, name, template_name):\n",
                "        self.name = name\n",
                "        self.template_name = template_name\n"
            ]
        },
        {
            "cell_type": "markdown",
            "metadata": {},
            "source": []
        },
        {
            "cell_type": "code",
            "execution_count": null,
            "metadata": {},
            "outputs": [],
            "source": [
                "def get_exception_info(exception):\n",
                "    \"\"\"\n",
                "    Format exception information for display on the debug page using the\n",
                "    structure described in the template API documentation.\n",
                "    \"\"\"\n",
                "    context_lines = 10\n",
                "    lineno = exception.lineno\n",
                "    source = exception.source\n",
                "    if source is None:\n",
                "        exception_file = Path(exception.filename)\n",
                "        if exception_file.exists():\n",
                "            source = exception_file.read_text()\n",
                "    if source is not None:\n",
                "        lines = list(enumerate(source.strip().split(\"\\n\"), start=1))\n",
                "        during = lines[lineno - 1][1]\n",
                "        total = len(lines)\n",
                "        top = max(0, lineno - context_lines - 1)\n",
                "        bottom = min(total, lineno + context_lines)\n",
                "    else:\n",
                "        during = \"\"\n",
                "        lines = []\n",
                "        total = top = bottom = 0\n",
                "    return {\n",
                "        \"name\": exception.filename,\n",
                "        \"message\": exception.message,\n",
                "        \"source_lines\": lines[top:bottom],\n",
                "        \"line\": lineno,\n",
                "        \"before\": \"\",\n",
                "        \"during\": during,\n",
                "        \"after\": \"\",\n",
                "        \"total\": total,\n",
                "        \"top\": top,\n",
                "        \"bottom\": bottom,\n",
                "    }\n",
                "\n"
            ]
        },
        {
            "cell_type": "markdown",
            "metadata": {},
            "source": []
        }
    ],
    "metadata": {
        "language_info": {
            "name": "python"
        }
    },
    "nbformat": 4,
    "nbformat_minor": 2
}