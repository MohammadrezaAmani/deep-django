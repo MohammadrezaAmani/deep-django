{
    "cells": [
        {
            "cell_type": "code",
            "execution_count": null,
            "metadata": {},
            "outputs": [],
            "source": [
                "\"\"\"\n",
                "Wrapper for loading templates from a plain Python dict.\n",
                "\"\"\"\n",
                "\n",
                "from django.template import Origin, TemplateDoesNotExist\n",
                "\n",
                "from .base import Loader as BaseLoader\n"
            ]
        },
        {
            "cell_type": "markdown",
            "metadata": {},
            "source": []
        },
        {
            "cell_type": "code",
            "execution_count": null,
            "metadata": {},
            "outputs": [],
            "source": [
                "class Loader(BaseLoader):\n",
                "    def __init__(self, engine, templates_dict):\n",
                "        self.templates_dict = templates_dict\n",
                "        super().__init__(engine)\n",
                "\n",
                "    def get_contents(self, origin):\n",
                "        try:\n",
                "            return self.templates_dict[origin.name]\n",
                "        except KeyError:\n",
                "            raise TemplateDoesNotExist(origin)\n",
                "\n",
                "    def get_template_sources(self, template_name):\n",
                "        yield Origin(\n",
                "            name=template_name,\n",
                "            template_name=template_name,\n",
                "            loader=self,\n",
                "        )\n",
                "\n"
            ]
        },
        {
            "cell_type": "markdown",
            "metadata": {},
            "source": []
        }
    ],
    "metadata": {
        "language_info": {
            "name": "python"
        }
    },
    "nbformat": 4,
    "nbformat_minor": 2
}