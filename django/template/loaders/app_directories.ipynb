{
 "cells": [
  {
   "cell_type": "code",
   "execution_count": null,
   "metadata": {},
   "outputs": [],
   "source": [
    "\"\"\"\n",
    "Wrapper for loading templates from \"templates\" directories in INSTALLED_APPS\n",
    "packages.\n",
    "\"\"\"\n",
    "\n",
    "from django.template.utils import get_app_template_dirs\n",
    "\n",
    "from .filesystem import Loader as FilesystemLoader"
   ]
  },
  {
   "cell_type": "markdown",
   "metadata": {},
   "source": []
  },
  {
   "cell_type": "code",
   "execution_count": null,
   "metadata": {},
   "outputs": [],
   "source": [
    "class Loader(FilesystemLoader):\n",
    "    def get_dirs(self):\n",
    "        return get_app_template_dirs(\"templates\")"
   ]
  },
  {
   "cell_type": "markdown",
   "metadata": {},
   "source": []
  }
 ],
 "metadata": {
  "language_info": {
   "name": "python"
  }
 },
 "nbformat": 4,
 "nbformat_minor": 2
}