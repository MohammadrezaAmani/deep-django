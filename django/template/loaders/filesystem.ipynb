{
    "cells": [
        {
            "cell_type": "code",
            "execution_count": null,
            "metadata": {},
            "outputs": [],
            "source": [
                "\"\"\"\n",
                "Wrapper for loading templates from the filesystem.\n",
                "\"\"\"\n",
                "\n",
                "from django.core.exceptions import SuspiciousFileOperation\n",
                "from django.template import Origin, TemplateDoesNotExist\n",
                "from django.utils._os import safe_join\n",
                "\n",
                "from .base import Loader as BaseLoader\n"
            ]
        },
        {
            "cell_type": "markdown",
            "metadata": {},
            "source": []
        },
        {
            "cell_type": "code",
            "execution_count": null,
            "metadata": {},
            "outputs": [],
            "source": [
                "class Loader(BaseLoader):\n",
                "    def __init__(self, engine, dirs=None):\n",
                "        super().__init__(engine)\n",
                "        self.dirs = dirs\n",
                "\n",
                "    def get_dirs(self):\n",
                "        return self.dirs if self.dirs is not None else self.engine.dirs\n",
                "\n",
                "    def get_contents(self, origin):\n",
                "        try:\n",
                "            with open(origin.name, encoding=self.engine.file_charset) as fp:\n",
                "                return fp.read()\n",
                "        except FileNotFoundError:\n",
                "            raise TemplateDoesNotExist(origin)\n",
                "\n",
                "    def get_template_sources(self, template_name):\n",
                "        \"\"\"\n",
                "        Return an Origin object pointing to an absolute path in each directory\n",
                "        in template_dirs. For security reasons, if a path doesn't lie inside\n",
                "        one of the template_dirs it is excluded from the result set.\n",
                "        \"\"\"\n",
                "        for template_dir in self.get_dirs():\n",
                "            try:\n",
                "                name = safe_join(template_dir, template_name)\n",
                "            except SuspiciousFileOperation:\n",
                "                # The joined path was located outside of this template_dir\n",
                "                # (it might be inside another one, so this isn't fatal).\n",
                "                continue\n",
                "\n",
                "            yield Origin(\n",
                "                name=name,\n",
                "                template_name=template_name,\n",
                "                loader=self,\n",
                "            )\n",
                "\n"
            ]
        },
        {
            "cell_type": "markdown",
            "metadata": {},
            "source": []
        }
    ],
    "metadata": {
        "language_info": {
            "name": "python"
        }
    },
    "nbformat": 4,
    "nbformat_minor": 2
}