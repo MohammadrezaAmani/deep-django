{
 "cells": [
  {
   "cell_type": "code",
   "execution_count": null,
   "metadata": {},
   "outputs": [],
   "source": [
    "from django.template import Template, TemplateDoesNotExist"
   ]
  },
  {
   "cell_type": "markdown",
   "metadata": {},
   "source": []
  },
  {
   "cell_type": "code",
   "execution_count": null,
   "metadata": {},
   "outputs": [],
   "source": [
    "class Loader:\n",
    "    def __init__(self, engine):\n",
    "        self.engine = engine\n",
    "\n",
    "    def get_template(self, template_name, skip=None):\n",
    "        \"\"\"\n",
    "        Call self.get_template_sources() and return a Template object for\n",
    "        the first template matching template_name. If skip is provided, ignore\n",
    "        template origins in skip. This is used to avoid recursion during\n",
    "        template extending.\n",
    "        \"\"\"\n",
    "        tried = []\n",
    "\n",
    "        for origin in self.get_template_sources(template_name):\n",
    "            if skip is not None and origin in skip:\n",
    "                tried.append((origin, \"Skipped to avoid recursion\"))\n",
    "                continue\n",
    "\n",
    "            try:\n",
    "                contents = self.get_contents(origin)\n",
    "            except TemplateDoesNotExist:\n",
    "                tried.append((origin, \"Source does not exist\"))\n",
    "                continue\n",
    "            else:\n",
    "                return Template(\n",
    "                    contents,\n",
    "                    origin,\n",
    "                    origin.template_name,\n",
    "                    self.engine,\n",
    "                )\n",
    "\n",
    "        raise TemplateDoesNotExist(template_name, tried=tried)\n",
    "\n",
    "    def get_template_sources(self, template_name):\n",
    "        \"\"\"\n",
    "        An iterator that yields possible matching template paths for a\n",
    "        template name.\n",
    "        \"\"\"\n",
    "        raise NotImplementedError(\n",
    "            \"subclasses of Loader must provide a get_template_sources() method\"\n",
    "        )\n",
    "\n",
    "    def reset(self):\n",
    "        \"\"\"\n",
    "        Reset any state maintained by the loader instance (e.g. cached\n",
    "        templates or cached loader modules).\n",
    "        \"\"\"\n",
    "        pass"
   ]
  },
  {
   "cell_type": "markdown",
   "metadata": {},
   "source": []
  }
 ],
 "metadata": {
  "language_info": {
   "name": "python"
  }
 },
 "nbformat": 4,
 "nbformat_minor": 2
}