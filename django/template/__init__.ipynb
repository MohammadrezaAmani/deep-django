{
    "cells": [
        {
            "cell_type": "code",
            "execution_count": null,
            "metadata": {},
            "outputs": [],
            "source": [
                "\"\"\"\n",
                "Django's support for templates.\n",
                "\n",
                "The django.template namespace contains two independent subsystems:\n",
                "\n",
                "1. Multiple Template Engines: support for pluggable template backends,\n",
                "   built-in backends and backend-independent APIs\n",
                "2. Django Template Language: Django's own template engine, including its\n",
                "   built-in loaders, context processors, tags and filters.\n",
                "\n",
                "Ideally these subsystems would be implemented in distinct packages. However\n",
                "keeping them together made the implementation of Multiple Template Engines\n",
                "less disruptive .\n",
                "\n",
                "Here's a breakdown of which modules belong to which subsystem.\n",
                "\n",
                "Multiple Template Engines:\n",
                "\n",
                "- django.template.backends.*\n",
                "- django.template.loader\n",
                "- django.template.response\n",
                "\n",
                "Django Template Language:\n",
                "\n",
                "- django.template.base\n",
                "- django.template.context\n",
                "- django.template.context_processors\n",
                "- django.template.loaders.*\n",
                "- django.template.debug\n",
                "- django.template.defaultfilters\n",
                "- django.template.defaulttags\n",
                "- django.template.engine\n",
                "- django.template.loader_tags\n",
                "- django.template.smartif\n",
                "\n",
                "Shared:\n",
                "\n",
                "- django.template.utils\n",
                "\n",
                "\"\"\"\n",
                "\n",
                "# Multiple Template Engines\n",
                "\n",
                "from .engine import Engine\n",
                "from .utils import EngineHandler\n",
                "\n",
                "engines = EngineHandler()\n",
                "\n",
                "__all__ = (\"Engine\", \"engines\")\n"
            ]
        },
        {
            "cell_type": "markdown",
            "metadata": {},
            "source": []
        },
        {
            "cell_type": "code",
            "execution_count": null,
            "metadata": {},
            "outputs": [],
            "source": [
                "# Django Template Language\n",
                "\n",
                "# Public exceptions\n",
                "from .base import VariableDoesNotExist  # NOQA isort:skip\n",
                "from .context import Context, ContextPopException, RequestContext  # NOQA isort:skip\n",
                "from .exceptions import TemplateDoesNotExist, TemplateSyntaxError  # NOQA isort:skip\n",
                "\n",
                "# Template parts\n",
                "from .base import (  # NOQA isort:skip\n",
                "    Node,\n",
                "    NodeList,\n",
                "    Origin,\n",
                "    Template,\n",
                "    Variable,\n",
                ")\n",
                "\n",
                "# Library management\n",
                "from .library import Library  # NOQA isort:skip\n",
                "\n",
                "# Import the .autoreload module to trigger the registrations of signals.\n",
                "from . import autoreload  # NOQA isort:skip\n"
            ]
        },
        {
            "cell_type": "markdown",
            "metadata": {},
            "source": []
        },
        {
            "cell_type": "code",
            "execution_count": null,
            "metadata": {},
            "outputs": [],
            "source": [
                "__all__ += (\"Template\", \"Context\", \"RequestContext\")\n",
                "\n"
            ]
        },
        {
            "cell_type": "markdown",
            "metadata": {},
            "source": []
        }
    ],
    "metadata": {
        "language_info": {
            "name": "python"
        }
    },
    "nbformat": 4,
    "nbformat_minor": 2
}