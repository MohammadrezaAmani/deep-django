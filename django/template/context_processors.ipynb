{
 "cells": [
  {
   "cell_type": "code",
   "execution_count": null,
   "metadata": {},
   "outputs": [],
   "source": [
    "\"\"\"\n",
    "A set of request processors that return dictionaries to be merged into a\n",
    "template context. Each function takes the request object as its only parameter\n",
    "and returns a dictionary to add to the context.\n",
    "\n",
    "These are referenced from the 'context_processors' option of the configuration\n",
    "of a DjangoTemplates backend and used by RequestContext.\n",
    "\"\"\"\n",
    "\n",
    "import itertools\n",
    "\n",
    "from django.conf import settings\n",
    "from django.middleware.csrf import get_token\n",
    "from django.utils.functional import SimpleLazyObject, lazy"
   ]
  },
  {
   "cell_type": "markdown",
   "metadata": {},
   "source": []
  },
  {
   "cell_type": "code",
   "execution_count": null,
   "metadata": {},
   "outputs": [],
   "source": [
    "def csrf(request):\n",
    "    \"\"\"\n",
    "    Context processor that provides a CSRF token, or the string 'NOTPROVIDED' if\n",
    "    it has not been provided by either a view decorator or the middleware\n",
    "    \"\"\"\n",
    "\n",
    "    def _get_val():\n",
    "        token = get_token(request)\n",
    "        if token is None:\n",
    "            # In order to be able to provide debugging info in the\n",
    "            # case of misconfiguration, we use a sentinel value\n",
    "            # instead of returning an empty dict.\n",
    "            return \"NOTPROVIDED\"\n",
    "        else:\n",
    "            return token\n",
    "\n",
    "    return {\"csrf_token\": SimpleLazyObject(_get_val)}"
   ]
  },
  {
   "cell_type": "markdown",
   "metadata": {},
   "source": []
  },
  {
   "cell_type": "code",
   "execution_count": null,
   "metadata": {},
   "outputs": [],
   "source": [
    "def debug(request):\n",
    "    \"\"\"\n",
    "    Return context variables helpful for debugging.\n",
    "    \"\"\"\n",
    "    context_extras = {}\n",
    "    if settings.DEBUG and request.META.get(\"REMOTE_ADDR\") in settings.INTERNAL_IPS:\n",
    "        context_extras[\"debug\"] = True\n",
    "        from django.db import connections\n",
    "\n",
    "        # Return a lazy reference that computes connection.queries on access,\n",
    "        # to ensure it contains queries triggered after this function runs.\n",
    "        context_extras[\"sql_queries\"] = lazy(\n",
    "            lambda: list(\n",
    "                itertools.chain.from_iterable(\n",
    "                    connections[x].queries for x in connections\n",
    "                )\n",
    "            ),\n",
    "            list,\n",
    "        )\n",
    "    return context_extras"
   ]
  },
  {
   "cell_type": "markdown",
   "metadata": {},
   "source": []
  },
  {
   "cell_type": "code",
   "execution_count": null,
   "metadata": {},
   "outputs": [],
   "source": [
    "def i18n(request):\n",
    "    from django.utils import translation\n",
    "\n",
    "    return {\n",
    "        \"LANGUAGES\": settings.LANGUAGES,\n",
    "        \"LANGUAGE_CODE\": translation.get_language(),\n",
    "        \"LANGUAGE_BIDI\": translation.get_language_bidi(),\n",
    "    }"
   ]
  },
  {
   "cell_type": "markdown",
   "metadata": {},
   "source": []
  },
  {
   "cell_type": "code",
   "execution_count": null,
   "metadata": {},
   "outputs": [],
   "source": [
    "def tz(request):\n",
    "    from django.utils import timezone\n",
    "\n",
    "    return {\"TIME_ZONE\": timezone.get_current_timezone_name()}"
   ]
  },
  {
   "cell_type": "markdown",
   "metadata": {},
   "source": []
  },
  {
   "cell_type": "code",
   "execution_count": null,
   "metadata": {},
   "outputs": [],
   "source": [
    "def static(request):\n",
    "    \"\"\"\n",
    "    Add static-related context variables to the context.\n",
    "    \"\"\"\n",
    "    return {\"STATIC_URL\": settings.STATIC_URL}"
   ]
  },
  {
   "cell_type": "markdown",
   "metadata": {},
   "source": []
  },
  {
   "cell_type": "code",
   "execution_count": null,
   "metadata": {},
   "outputs": [],
   "source": [
    "def media(request):\n",
    "    \"\"\"\n",
    "    Add media-related context variables to the context.\n",
    "    \"\"\"\n",
    "    return {\"MEDIA_URL\": settings.MEDIA_URL}"
   ]
  },
  {
   "cell_type": "markdown",
   "metadata": {},
   "source": []
  },
  {
   "cell_type": "code",
   "execution_count": null,
   "metadata": {},
   "outputs": [],
   "source": [
    "def request(request):\n",
    "    return {\"request\": request}"
   ]
  },
  {
   "cell_type": "markdown",
   "metadata": {},
   "source": []
  }
 ],
 "metadata": {
  "language_info": {
   "name": "python"
  }
 },
 "nbformat": 4,
 "nbformat_minor": 2
}