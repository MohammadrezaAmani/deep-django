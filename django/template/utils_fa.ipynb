{
 "cells": [
  {
   "cell_type": "code",
   "execution_count": null,
   "metadata": {},
   "outputs": [],
   "source": [
    "import functools\n",
    "from collections import Counter\n",
    "from pathlib import Path\n",
    "\n",
    "from django.apps import apps\n",
    "from django.conf import settings\n",
    "from django.core.exceptions import ImproperlyConfigured\n",
    "from django.utils.functional import cached_property\n",
    "from django.utils.module_loading import import_string"
   ]
  },
  {
   "cell_type": "markdown",
   "metadata": {},
   "source": []
  },
  {
   "cell_type": "code",
   "execution_count": null,
   "metadata": {},
   "outputs": [],
   "source": [
    "class InvalidTemplateEngineError(ImproperlyConfigured):\n",
    "    pass"
   ]
  },
  {
   "cell_type": "markdown",
   "metadata": {},
   "source": []
  },
  {
   "cell_type": "code",
   "execution_count": null,
   "metadata": {},
   "outputs": [],
   "source": [
    "class EngineHandler:\n",
    "    def __init__(self, templates=None):\n",
    "        \"\"\"\n",
    "        templates is an optional list of template engine definitions\n",
    "        (structured like settings.TEMPLATES).\n",
    "        \"\"\"\n",
    "        self._templates = templates\n",
    "        self._engines = {}\n",
    "\n",
    "    @cached_property\n",
    "    def templates(self):\n",
    "        if self._templates is None:\n",
    "            self._templates = settings.TEMPLATES\n",
    "\n",
    "        templates = {}\n",
    "        backend_names = []\n",
    "        for tpl in self._templates:\n",
    "            try:\n",
    "                # This will raise an exception if 'BACKEND' doesn't exist or\n",
    "                # isn't a string containing at least one dot.\n",
    "                default_name = tpl[\"BACKEND\"].rsplit(\".\", 2)[-2]\n",
    "            except Exception:\n",
    "                invalid_backend = tpl.get(\"BACKEND\", \"<not defined>\")\n",
    "                raise ImproperlyConfigured(\n",
    "                    \"Invalid BACKEND for a template engine: {}. Check \"\n",
    "                    \"your TEMPLATES setting.\".format(invalid_backend)\n",
    "                )\n",
    "\n",
    "            tpl = {\n",
    "                \"NAME\": default_name,\n",
    "                \"DIRS\": [],\n",
    "                \"APP_DIRS\": False,\n",
    "                \"OPTIONS\": {},\n",
    "                **tpl,\n",
    "            }\n",
    "\n",
    "            templates[tpl[\"NAME\"]] = tpl\n",
    "            backend_names.append(tpl[\"NAME\"])\n",
    "\n",
    "        counts = Counter(backend_names)\n",
    "        duplicates = [alias for alias, count in counts.most_common() if count > 1]\n",
    "        if duplicates:\n",
    "            raise ImproperlyConfigured(\n",
    "                \"Template engine aliases aren't unique, duplicates: {}. \"\n",
    "                \"Set a unique NAME for each engine in settings.TEMPLATES.\".format(\n",
    "                    \", \".join(duplicates)\n",
    "                )\n",
    "            )\n",
    "\n",
    "        return templates\n",
    "\n",
    "    def __getitem__(self, alias):\n",
    "        try:\n",
    "            return self._engines[alias]\n",
    "        except KeyError:\n",
    "            try:\n",
    "                params = self.templates[alias]\n",
    "            except KeyError:\n",
    "                raise InvalidTemplateEngineError(\n",
    "                    \"Could not find config for '{}' \"\n",
    "                    \"in settings.TEMPLATES\".format(alias)\n",
    "                )\n",
    "\n",
    "            # If importing or initializing the backend raises an exception,\n",
    "            # self._engines[alias] isn't set and this code may get executed\n",
    "            # again, so we must preserve the original params. See #24265.\n",
    "            params = params.copy()\n",
    "            backend = params.pop(\"BACKEND\")\n",
    "            engine_cls = import_string(backend)\n",
    "            engine = engine_cls(params)\n",
    "\n",
    "            self._engines[alias] = engine\n",
    "            return engine\n",
    "\n",
    "    def __iter__(self):\n",
    "        return iter(self.templates)\n",
    "\n",
    "    def all(self):\n",
    "        return [self[alias] for alias in self]"
   ]
  },
  {
   "cell_type": "markdown",
   "metadata": {},
   "source": []
  },
  {
   "cell_type": "code",
   "execution_count": null,
   "metadata": {},
   "outputs": [],
   "source": [
    "@functools.lru_cache\n",
    "def get_app_template_dirs(dirname):\n",
    "    \"\"\"\n",
    "    Return an iterable of paths of directories to load app templates from.\n",
    "\n",
    "    dirname is the name of the subdirectory containing templates inside\n",
    "    installed applications.\n",
    "    \"\"\"\n",
    "    template_dirs = [\n",
    "        Path(app_config.path) / dirname\n",
    "        for app_config in apps.get_app_configs()\n",
    "        if app_config.path and (Path(app_config.path) / dirname).is_dir()\n",
    "    ]\n",
    "    # Immutable return value because it will be cached and shared by callers.\n",
    "    return tuple(template_dirs)"
   ]
  },
  {
   "cell_type": "markdown",
   "metadata": {},
   "source": []
  }
 ],
 "metadata": {
  "language_info": {
   "name": "python"
  }
 },
 "nbformat": 4,
 "nbformat_minor": 2
}