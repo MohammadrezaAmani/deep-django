{
 "cells": [
  {
   "cell_type": "code",
   "execution_count": null,
   "metadata": {},
   "outputs": [],
   "source": [
    "\"\"\"\n",
    "This module contains generic exceptions used by template backends. Although,\n",
    "due to historical reasons, the Django template language also internally uses\n",
    "these exceptions, other exceptions specific to the DTL should not be added\n",
    "here.\n",
    "\"\"\""
   ]
  },
  {
   "cell_type": "markdown",
   "metadata": {},
   "source": []
  },
  {
   "cell_type": "code",
   "execution_count": null,
   "metadata": {},
   "outputs": [],
   "source": [
    "class TemplateDoesNotExist(Exception):\n",
    "    \"\"\"\n",
    "    The exception used when a template does not exist. Optional arguments:\n",
    "\n",
    "    backend\n",
    "        The template backend class used when raising this exception.\n",
    "\n",
    "    tried\n",
    "        A list of sources that were tried when finding the template. This\n",
    "        is formatted as a list of tuples containing (origin, status), where\n",
    "        origin is an Origin object or duck type and status is a string with the\n",
    "        reason the template wasn't found.\n",
    "\n",
    "    chain\n",
    "        A list of intermediate TemplateDoesNotExist exceptions. This is used to\n",
    "        encapsulate multiple exceptions when loading templates from multiple\n",
    "        engines.\n",
    "    \"\"\"\n",
    "\n",
    "    def __init__(self, msg, tried=None, backend=None, chain=None):\n",
    "        self.backend = backend\n",
    "        if tried is None:\n",
    "            tried = []\n",
    "        self.tried = tried\n",
    "        if chain is None:\n",
    "            chain = []\n",
    "        self.chain = chain\n",
    "        super().__init__(msg)"
   ]
  },
  {
   "cell_type": "markdown",
   "metadata": {},
   "source": []
  },
  {
   "cell_type": "code",
   "execution_count": null,
   "metadata": {},
   "outputs": [],
   "source": [
    "class TemplateSyntaxError(Exception):\n",
    "    \"\"\"\n",
    "    The exception used for syntax errors during parsing or rendering.\n",
    "    \"\"\"\n",
    "\n",
    "    pass"
   ]
  },
  {
   "cell_type": "markdown",
   "metadata": {},
   "source": []
  }
 ],
 "metadata": {
  "language_info": {
   "name": "python"
  }
 },
 "nbformat": 4,
 "nbformat_minor": 2
}