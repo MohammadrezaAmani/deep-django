{
    "cells": [
        {
            "cell_type": "code",
            "execution_count": null,
            "metadata": {},
            "outputs": [],
            "source": [
                "from pathlib import Path\n",
                "\n",
                "from django.dispatch import receiver\n",
                "from django.template import engines\n",
                "from django.template.backends.django import DjangoTemplates\n",
                "from django.utils._os import to_path\n",
                "from django.utils.autoreload import autoreload_started, file_changed, is_django_path\n"
            ]
        },
        {
            "cell_type": "markdown",
            "metadata": {},
            "source": []
        },
        {
            "cell_type": "code",
            "execution_count": null,
            "metadata": {},
            "outputs": [],
            "source": [
                "def get_template_directories():\n",
                "    # Iterate through each template backend and find\n",
                "    # any template_loader that has a 'get_dirs' method.\n",
                "    # Collect the directories, filtering out Django templates.\n",
                "    cwd = Path.cwd()\n",
                "    items = set()\n",
                "    for backend in engines.all():\n",
                "        if not isinstance(backend, DjangoTemplates):\n",
                "            continue\n",
                "\n",
                "        items.update(cwd / to_path(dir) for dir in backend.engine.dirs if dir)\n",
                "\n",
                "        for loader in backend.engine.template_loaders:\n",
                "            if not hasattr(loader, \"get_dirs\"):\n",
                "                continue\n",
                "            items.update(\n",
                "                cwd / to_path(directory)\n",
                "                for directory in loader.get_dirs()\n",
                "                if directory and not is_django_path(directory)\n",
                "            )\n",
                "    return items\n"
            ]
        },
        {
            "cell_type": "markdown",
            "metadata": {},
            "source": []
        },
        {
            "cell_type": "code",
            "execution_count": null,
            "metadata": {},
            "outputs": [],
            "source": [
                "def reset_loaders():\n",
                "    from django.forms.renderers import get_default_renderer\n",
                "\n",
                "    for backend in engines.all():\n",
                "        if not isinstance(backend, DjangoTemplates):\n",
                "            continue\n",
                "        for loader in backend.engine.template_loaders:\n",
                "            loader.reset()\n",
                "\n",
                "    backend = getattr(get_default_renderer(), \"engine\", None)\n",
                "    if isinstance(backend, DjangoTemplates):\n",
                "        for loader in backend.engine.template_loaders:\n",
                "            loader.reset()\n"
            ]
        },
        {
            "cell_type": "markdown",
            "metadata": {},
            "source": []
        },
        {
            "cell_type": "code",
            "execution_count": null,
            "metadata": {},
            "outputs": [],
            "source": [
                "@receiver(autoreload_started, dispatch_uid=\"template_loaders_watch_changes\")\n",
                "def watch_for_template_changes(sender, **kwargs):\n",
                "    for directory in get_template_directories():\n",
                "        sender.watch_dir(directory, \"**/*\")\n"
            ]
        },
        {
            "cell_type": "markdown",
            "metadata": {},
            "source": []
        },
        {
            "cell_type": "code",
            "execution_count": null,
            "metadata": {},
            "outputs": [],
            "source": [
                "@receiver(file_changed, dispatch_uid=\"template_loaders_file_changed\")\n",
                "def template_changed(sender, file_path, **kwargs):\n",
                "    if file_path.suffix == \".py\":\n",
                "        return\n",
                "    for template_dir in get_template_directories():\n",
                "        if template_dir in file_path.parents:\n",
                "            reset_loaders()\n",
                "            return True\n",
                "\n"
            ]
        },
        {
            "cell_type": "markdown",
            "metadata": {},
            "source": []
        }
    ],
    "metadata": {
        "language_info": {
            "name": "python"
        }
    },
    "nbformat": 4,
    "nbformat_minor": 2
}