{
 "cells": [
  {
   "cell_type": "code",
   "execution_count": null,
   "metadata": {},
   "outputs": [],
   "source": [
    "from . import engines\n",
    "from .exceptions import TemplateDoesNotExist"
   ]
  },
  {
   "cell_type": "markdown",
   "metadata": {},
   "source": []
  },
  {
   "cell_type": "code",
   "execution_count": null,
   "metadata": {},
   "outputs": [],
   "source": [
    "def get_template(template_name, using=None):\n",
    "    \"\"\"\n",
    "    Load and return a template for the given name.\n",
    "\n",
    "    Raise TemplateDoesNotExist if no such template exists.\n",
    "    \"\"\"\n",
    "    chain = []\n",
    "    engines = _engine_list(using)\n",
    "    for engine in engines:\n",
    "        try:\n",
    "            return engine.get_template(template_name)\n",
    "        except TemplateDoesNotExist as e:\n",
    "            chain.append(e)\n",
    "\n",
    "    raise TemplateDoesNotExist(template_name, chain=chain)"
   ]
  },
  {
   "cell_type": "markdown",
   "metadata": {},
   "source": []
  },
  {
   "cell_type": "code",
   "execution_count": null,
   "metadata": {},
   "outputs": [],
   "source": [
    "def select_template(template_name_list, using=None):\n",
    "    \"\"\"\n",
    "    Load and return a template for one of the given names.\n",
    "\n",
    "    Try names in order and return the first template found.\n",
    "\n",
    "    Raise TemplateDoesNotExist if no such template exists.\n",
    "    \"\"\"\n",
    "    if isinstance(template_name_list, str):\n",
    "        raise TypeError(\n",
    "            \"select_template() takes an iterable of template names but got a \"\n",
    "            \"string: %r. Use get_template() if you want to load a single \"\n",
    "            \"template by name.\" % template_name_list\n",
    "        )\n",
    "\n",
    "    chain = []\n",
    "    engines = _engine_list(using)\n",
    "    for template_name in template_name_list:\n",
    "        for engine in engines:\n",
    "            try:\n",
    "                return engine.get_template(template_name)\n",
    "            except TemplateDoesNotExist as e:\n",
    "                chain.append(e)\n",
    "\n",
    "    if template_name_list:\n",
    "        raise TemplateDoesNotExist(\", \".join(template_name_list), chain=chain)\n",
    "    else:\n",
    "        raise TemplateDoesNotExist(\"No template names provided\")"
   ]
  },
  {
   "cell_type": "markdown",
   "metadata": {},
   "source": []
  },
  {
   "cell_type": "code",
   "execution_count": null,
   "metadata": {},
   "outputs": [],
   "source": [
    "def render_to_string(template_name, context=None, request=None, using=None):\n",
    "    \"\"\"\n",
    "    Load a template and render it with a context. Return a string.\n",
    "\n",
    "    template_name may be a string or a list of strings.\n",
    "    \"\"\"\n",
    "    if isinstance(template_name, (list, tuple)):\n",
    "        template = select_template(template_name, using=using)\n",
    "    else:\n",
    "        template = get_template(template_name, using=using)\n",
    "    return template.render(context, request)"
   ]
  },
  {
   "cell_type": "markdown",
   "metadata": {},
   "source": []
  },
  {
   "cell_type": "code",
   "execution_count": null,
   "metadata": {},
   "outputs": [],
   "source": [
    "def _engine_list(using=None):\n",
    "    return engines.all() if using is None else [engines[using]]"
   ]
  },
  {
   "cell_type": "markdown",
   "metadata": {},
   "source": []
  }
 ],
 "metadata": {
  "language_info": {
   "name": "python"
  }
 },
 "nbformat": 4,
 "nbformat_minor": 2
}