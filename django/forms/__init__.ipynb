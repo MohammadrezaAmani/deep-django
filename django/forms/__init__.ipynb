{
 "cells": [
  {
   "cell_type": "code",
   "execution_count": null,
   "metadata": {},
   "outputs": [],
   "source": [
    "\"\"\"\n",
    "Django validation and HTML form handling.\n",
    "\"\"\"\n",
    "\n",
    "from django.core.exceptions import ValidationError  # NOQA\n",
    "from django.forms.boundfield import *  # NOQA\n",
    "from django.forms.fields import *  # NOQA\n",
    "from django.forms.forms import *  # NOQA\n",
    "from django.forms.formsets import *  # NOQA\n",
    "from django.forms.models import *  # NOQA\n",
    "from django.forms.widgets import *  # NOQA"
   ]
  },
  {
   "cell_type": "markdown",
   "metadata": {},
   "source": []
  }
 ],
 "metadata": {
  "language_info": {
   "name": "python"
  }
 },
 "nbformat": 4,
 "nbformat_minor": 2
}