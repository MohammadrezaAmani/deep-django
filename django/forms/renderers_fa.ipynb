{
 "cells": [
  {
   "cell_type": "code",
   "execution_count": null,
   "metadata": {},
   "outputs": [],
   "source": [
    "import functools\n",
    "import warnings\n",
    "from pathlib import Path\n",
    "\n",
    "from django.conf import settings\n",
    "from django.template.backends.django import DjangoTemplates\n",
    "from django.template.loader import get_template\n",
    "from django.utils.deprecation import RemovedInDjango60Warning\n",
    "from django.utils.functional import cached_property\n",
    "from django.utils.module_loading import import_string"
   ]
  },
  {
   "cell_type": "markdown",
   "metadata": {},
   "source": []
  },
  {
   "cell_type": "code",
   "execution_count": null,
   "metadata": {},
   "outputs": [],
   "source": [
    "@functools.lru_cache\n",
    "def get_default_renderer():\n",
    "    renderer_class = import_string(settings.FORM_RENDERER)\n",
    "    return renderer_class()"
   ]
  },
  {
   "cell_type": "markdown",
   "metadata": {},
   "source": []
  },
  {
   "cell_type": "code",
   "execution_count": null,
   "metadata": {},
   "outputs": [],
   "source": [
    "class BaseRenderer:\n",
    "    form_template_name = \"django/forms/div.html\"\n",
    "    formset_template_name = \"django/forms/formsets/div.html\"\n",
    "    field_template_name = \"django/forms/field.html\"\n",
    "\n",
    "    def get_template(self, template_name):\n",
    "        raise NotImplementedError(\"subclasses must implement get_template()\")\n",
    "\n",
    "    def render(self, template_name, context, request=None):\n",
    "        template = self.get_template(template_name)\n",
    "        return template.render(context, request=request).strip()"
   ]
  },
  {
   "cell_type": "markdown",
   "metadata": {},
   "source": []
  },
  {
   "cell_type": "code",
   "execution_count": null,
   "metadata": {},
   "outputs": [],
   "source": [
    "class EngineMixin:\n",
    "    def get_template(self, template_name):\n",
    "        return self.engine.get_template(template_name)\n",
    "\n",
    "    @cached_property\n",
    "    def engine(self):\n",
    "        return self.backend(\n",
    "            {\n",
    "                \"APP_DIRS\": True,\n",
    "                \"DIRS\": [Path(__file__).parent / self.backend.app_dirname],\n",
    "                \"NAME\": \"djangoforms\",\n",
    "                \"OPTIONS\": {},\n",
    "            }\n",
    "        )"
   ]
  },
  {
   "cell_type": "markdown",
   "metadata": {},
   "source": []
  },
  {
   "cell_type": "code",
   "execution_count": null,
   "metadata": {},
   "outputs": [],
   "source": [
    "class DjangoTemplates(EngineMixin, BaseRenderer):\n",
    "    \"\"\"\n",
    "    Load Django templates from the built-in widget templates in\n",
    "    django/forms/templates and from apps' 'templates' directory.\n",
    "    \"\"\"\n",
    "\n",
    "    backend = DjangoTemplates"
   ]
  },
  {
   "cell_type": "markdown",
   "metadata": {},
   "source": []
  },
  {
   "cell_type": "code",
   "execution_count": null,
   "metadata": {},
   "outputs": [],
   "source": [
    "class Jinja2(EngineMixin, BaseRenderer):\n",
    "    \"\"\"\n",
    "    Load Jinja2 templates from the built-in widget templates in\n",
    "    django/forms/jinja2 and from apps' 'jinja2' directory.\n",
    "    \"\"\"\n",
    "\n",
    "    @cached_property\n",
    "    def backend(self):\n",
    "        from django.template.backends.jinja2 import Jinja2\n",
    "\n",
    "        return Jinja2"
   ]
  },
  {
   "cell_type": "markdown",
   "metadata": {},
   "source": []
  },
  {
   "cell_type": "code",
   "execution_count": null,
   "metadata": {},
   "outputs": [],
   "source": [
    "# RemovedInDjango60Warning.\n",
    "class DjangoDivFormRenderer(DjangoTemplates):\n",
    "    \"\"\"\n",
    "    Load Django templates from django/forms/templates and from apps'\n",
    "    'templates' directory and use the 'div.html' template to render forms and\n",
    "    formsets.\n",
    "    \"\"\"\n",
    "\n",
    "    def __init__(self, *args, **kwargs):\n",
    "        warnings.warn(\n",
    "            \"The DjangoDivFormRenderer transitional form renderer is deprecated. Use \"\n",
    "            \"DjangoTemplates instead.\",\n",
    "            RemovedInDjango60Warning,\n",
    "        )\n",
    "        super().__init__(*args, **kwargs)"
   ]
  },
  {
   "cell_type": "markdown",
   "metadata": {},
   "source": []
  },
  {
   "cell_type": "code",
   "execution_count": null,
   "metadata": {},
   "outputs": [],
   "source": [
    "# RemovedInDjango60Warning.\n",
    "class Jinja2DivFormRenderer(Jinja2):\n",
    "    \"\"\"\n",
    "    Load Jinja2 templates from the built-in widget templates in\n",
    "    django/forms/jinja2 and from apps' 'jinja2' directory.\n",
    "    \"\"\"\n",
    "\n",
    "    def __init__(self, *args, **kwargs):\n",
    "        warnings.warn(\n",
    "            \"The Jinja2DivFormRenderer transitional form renderer is deprecated. Use \"\n",
    "            \"Jinja2 instead.\",\n",
    "            RemovedInDjango60Warning,\n",
    "        )\n",
    "        super().__init__(*args, **kwargs)"
   ]
  },
  {
   "cell_type": "markdown",
   "metadata": {},
   "source": []
  },
  {
   "cell_type": "code",
   "execution_count": null,
   "metadata": {},
   "outputs": [],
   "source": [
    "class TemplatesSetting(BaseRenderer):\n",
    "    \"\"\"\n",
    "    Load templates using template.loader.get_template() which is configured\n",
    "    based on settings.TEMPLATES.\n",
    "    \"\"\"\n",
    "\n",
    "    def get_template(self, template_name):\n",
    "        return get_template(template_name)"
   ]
  },
  {
   "cell_type": "markdown",
   "metadata": {},
   "source": []
  }
 ],
 "metadata": {
  "language_info": {
   "name": "python"
  }
 },
 "nbformat": 4,
 "nbformat_minor": 2
}