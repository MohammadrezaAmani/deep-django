{
 "cells": [
  {
   "cell_type": "code",
   "execution_count": null,
   "metadata": {},
   "outputs": [],
   "source": [
    "import json\n",
    "from collections import UserList\n",
    "\n",
    "from django.conf import settings\n",
    "from django.core.exceptions import ValidationError\n",
    "from django.forms.renderers import get_default_renderer\n",
    "from django.utils import timezone\n",
    "from django.utils.html import escape, format_html_join\n",
    "from django.utils.safestring import mark_safe\n",
    "from django.utils.translation import gettext_lazy as _"
   ]
  },
  {
   "cell_type": "markdown",
   "metadata": {},
   "source": []
  },
  {
   "cell_type": "code",
   "execution_count": null,
   "metadata": {},
   "outputs": [],
   "source": [
    "def pretty_name(name):\n",
    "    \"\"\"Convert 'first_name' to 'First name'.\"\"\"\n",
    "    if not name:\n",
    "        return \"\"\n",
    "    return name.replace(\"_\", \" \").capitalize()"
   ]
  },
  {
   "cell_type": "markdown",
   "metadata": {},
   "source": []
  },
  {
   "cell_type": "code",
   "execution_count": null,
   "metadata": {},
   "outputs": [],
   "source": [
    "def flatatt(attrs):\n",
    "    \"\"\"\n",
    "    Convert a dictionary of attributes to a single string.\n",
    "    The returned string will contain a leading space followed by key=\"value\",\n",
    "    XML-style pairs. In the case of a boolean value, the key will appear\n",
    "    without a value. It is assumed that the keys do not need to be\n",
    "    XML-escaped. If the passed dictionary is empty, then return an empty\n",
    "    string.\n",
    "\n",
    "    The result is passed through 'mark_safe' (by way of 'format_html_join').\n",
    "    \"\"\"\n",
    "    key_value_attrs = []\n",
    "    boolean_attrs = []\n",
    "    for attr, value in attrs.items():\n",
    "        if isinstance(value, bool):\n",
    "            if value:\n",
    "                boolean_attrs.append((attr,))\n",
    "        elif value is not None:\n",
    "            key_value_attrs.append((attr, value))\n",
    "\n",
    "    return format_html_join(\"\", ' {}=\"{}\"', sorted(key_value_attrs)) + format_html_join(\n",
    "        \"\", \" {}\", sorted(boolean_attrs)\n",
    "    )"
   ]
  },
  {
   "cell_type": "markdown",
   "metadata": {},
   "source": []
  },
  {
   "cell_type": "code",
   "execution_count": null,
   "metadata": {},
   "outputs": [],
   "source": [
    "class RenderableMixin:\n",
    "    def get_context(self):\n",
    "        raise NotImplementedError(\n",
    "            \"Subclasses of RenderableMixin must provide a get_context() method.\"\n",
    "        )\n",
    "\n",
    "    def render(self, template_name=None, context=None, renderer=None):\n",
    "        renderer = renderer or self.renderer\n",
    "        template = template_name or self.template_name\n",
    "        context = context or self.get_context()\n",
    "        return mark_safe(renderer.render(template, context))\n",
    "\n",
    "    __str__ = render\n",
    "    __html__ = render"
   ]
  },
  {
   "cell_type": "markdown",
   "metadata": {},
   "source": []
  },
  {
   "cell_type": "code",
   "execution_count": null,
   "metadata": {},
   "outputs": [],
   "source": [
    "class RenderableFieldMixin(RenderableMixin):\n",
    "    def as_field_group(self):\n",
    "        return self.render()\n",
    "\n",
    "    def as_hidden(self):\n",
    "        raise NotImplementedError(\n",
    "            \"Subclasses of RenderableFieldMixin must provide an as_hidden() method.\"\n",
    "        )\n",
    "\n",
    "    def as_widget(self):\n",
    "        raise NotImplementedError(\n",
    "            \"Subclasses of RenderableFieldMixin must provide an as_widget() method.\"\n",
    "        )\n",
    "\n",
    "    def __str__(self):\n",
    "        \"\"\"Render this field as an HTML widget.\"\"\"\n",
    "        if self.field.show_hidden_initial:\n",
    "            return self.as_widget() + self.as_hidden(only_initial=True)\n",
    "        return self.as_widget()\n",
    "\n",
    "    __html__ = __str__"
   ]
  },
  {
   "cell_type": "markdown",
   "metadata": {},
   "source": []
  },
  {
   "cell_type": "code",
   "execution_count": null,
   "metadata": {},
   "outputs": [],
   "source": [
    "class RenderableFormMixin(RenderableMixin):\n",
    "    def as_p(self):\n",
    "        \"\"\"Render as <p> elements.\"\"\"\n",
    "        return self.render(self.template_name_p)\n",
    "\n",
    "    def as_table(self):\n",
    "        \"\"\"Render as <tr> elements excluding the surrounding <table> tag.\"\"\"\n",
    "        return self.render(self.template_name_table)\n",
    "\n",
    "    def as_ul(self):\n",
    "        \"\"\"Render as <li> elements excluding the surrounding <ul> tag.\"\"\"\n",
    "        return self.render(self.template_name_ul)\n",
    "\n",
    "    def as_div(self):\n",
    "        \"\"\"Render as <div> elements.\"\"\"\n",
    "        return self.render(self.template_name_div)"
   ]
  },
  {
   "cell_type": "markdown",
   "metadata": {},
   "source": []
  },
  {
   "cell_type": "code",
   "execution_count": null,
   "metadata": {},
   "outputs": [],
   "source": [
    "class RenderableErrorMixin(RenderableMixin):\n",
    "    def as_json(self, escape_html=False):\n",
    "        return json.dumps(self.get_json_data(escape_html))\n",
    "\n",
    "    def as_text(self):\n",
    "        return self.render(self.template_name_text)\n",
    "\n",
    "    def as_ul(self):\n",
    "        return self.render(self.template_name_ul)"
   ]
  },
  {
   "cell_type": "markdown",
   "metadata": {},
   "source": []
  },
  {
   "cell_type": "code",
   "execution_count": null,
   "metadata": {},
   "outputs": [],
   "source": [
    "class ErrorDict(dict, RenderableErrorMixin):\n",
    "    \"\"\"\n",
    "    A collection of errors that knows how to display itself in various formats.\n",
    "\n",
    "    The dictionary keys are the field names, and the values are the errors.\n",
    "    \"\"\"\n",
    "\n",
    "    template_name = \"django/forms/errors/dict/default.html\"\n",
    "    template_name_text = \"django/forms/errors/dict/text.txt\"\n",
    "    template_name_ul = \"django/forms/errors/dict/ul.html\"\n",
    "\n",
    "    def __init__(self, *args, renderer=None, **kwargs):\n",
    "        super().__init__(*args, **kwargs)\n",
    "        self.renderer = renderer or get_default_renderer()\n",
    "\n",
    "    def as_data(self):\n",
    "        return {f: e.as_data() for f, e in self.items()}\n",
    "\n",
    "    def get_json_data(self, escape_html=False):\n",
    "        return {f: e.get_json_data(escape_html) for f, e in self.items()}\n",
    "\n",
    "    def get_context(self):\n",
    "        return {\n",
    "            \"errors\": self.items(),\n",
    "            \"error_class\": \"errorlist\",\n",
    "        }"
   ]
  },
  {
   "cell_type": "markdown",
   "metadata": {},
   "source": []
  },
  {
   "cell_type": "code",
   "execution_count": null,
   "metadata": {},
   "outputs": [],
   "source": [
    "class ErrorList(UserList, list, RenderableErrorMixin):\n",
    "    \"\"\"\n",
    "    A collection of errors that knows how to display itself in various formats.\n",
    "    \"\"\"\n",
    "\n",
    "    template_name = \"django/forms/errors/list/default.html\"\n",
    "    template_name_text = \"django/forms/errors/list/text.txt\"\n",
    "    template_name_ul = \"django/forms/errors/list/ul.html\"\n",
    "\n",
    "    def __init__(self, initlist=None, error_class=None, renderer=None):\n",
    "        super().__init__(initlist)\n",
    "\n",
    "        if error_class is None:\n",
    "            self.error_class = \"errorlist\"\n",
    "        else:\n",
    "            self.error_class = \"errorlist {}\".format(error_class)\n",
    "        self.renderer = renderer or get_default_renderer()\n",
    "\n",
    "    def as_data(self):\n",
    "        return ValidationError(self.data).error_list\n",
    "\n",
    "    def copy(self):\n",
    "        copy = super().copy()\n",
    "        copy.error_class = self.error_class\n",
    "        return copy\n",
    "\n",
    "    def get_json_data(self, escape_html=False):\n",
    "        errors = []\n",
    "        for error in self.as_data():\n",
    "            message = next(iter(error))\n",
    "            errors.append(\n",
    "                {\n",
    "                    \"message\": escape(message) if escape_html else message,\n",
    "                    \"code\": error.code or \"\",\n",
    "                }\n",
    "            )\n",
    "        return errors\n",
    "\n",
    "    def get_context(self):\n",
    "        return {\n",
    "            \"errors\": self,\n",
    "            \"error_class\": self.error_class,\n",
    "        }\n",
    "\n",
    "    def __repr__(self):\n",
    "        return repr(list(self))\n",
    "\n",
    "    def __contains__(self, item):\n",
    "        return item in list(self)\n",
    "\n",
    "    def __eq__(self, other):\n",
    "        return list(self) == other\n",
    "\n",
    "    def __getitem__(self, i):\n",
    "        error = self.data[i]\n",
    "        if isinstance(error, ValidationError):\n",
    "            return next(iter(error))\n",
    "        return error\n",
    "\n",
    "    def __reduce_ex__(self, *args, **kwargs):\n",
    "        # The `list` reduce function returns an iterator as the fourth element\n",
    "        # that is normally used for repopulating. Since we only inherit from\n",
    "        # `list` for `isinstance` backward compatibility (Refs #17413) we\n",
    "        # nullify this iterator as it would otherwise result in duplicate\n",
    "        # entries. (Refs #23594)\n",
    "        info = super(UserList, self).__reduce_ex__(*args, **kwargs)\n",
    "        return info[:3] + (None, None)"
   ]
  },
  {
   "cell_type": "markdown",
   "metadata": {},
   "source": []
  },
  {
   "cell_type": "code",
   "execution_count": null,
   "metadata": {},
   "outputs": [],
   "source": [
    "# Utilities for time zone support in DateTimeField et al."
   ]
  },
  {
   "cell_type": "markdown",
   "metadata": {},
   "source": []
  },
  {
   "cell_type": "code",
   "execution_count": null,
   "metadata": {},
   "outputs": [],
   "source": [
    "def from_current_timezone(value):\n",
    "    \"\"\"\n",
    "    When time zone support is enabled, convert naive datetimes\n",
    "    entered in the current time zone to aware datetimes.\n",
    "    \"\"\"\n",
    "    if settings.USE_TZ and value is not None and timezone.is_naive(value):\n",
    "        current_timezone = timezone.get_current_timezone()\n",
    "        try:\n",
    "            if timezone._datetime_ambiguous_or_imaginary(value, current_timezone):\n",
    "                raise ValueError(\"Ambiguous or non-existent time.\")\n",
    "            return timezone.make_aware(value, current_timezone)\n",
    "        except Exception as exc:\n",
    "            raise ValidationError(\n",
    "                _(\n",
    "                    \"%(datetime)s couldn’t be interpreted \"\n",
    "                    \"in time zone %(current_timezone)s; it \"\n",
    "                    \"may be ambiguous or it may not exist.\"\n",
    "                ),\n",
    "                code=\"ambiguous_timezone\",\n",
    "                params={\"datetime\": value, \"current_timezone\": current_timezone},\n",
    "            ) from exc\n",
    "    return value"
   ]
  },
  {
   "cell_type": "markdown",
   "metadata": {},
   "source": []
  },
  {
   "cell_type": "code",
   "execution_count": null,
   "metadata": {},
   "outputs": [],
   "source": [
    "def to_current_timezone(value):\n",
    "    \"\"\"\n",
    "    When time zone support is enabled, convert aware datetimes\n",
    "    to naive datetimes in the current time zone for display.\n",
    "    \"\"\"\n",
    "    if settings.USE_TZ and value is not None and timezone.is_aware(value):\n",
    "        return timezone.make_naive(value)\n",
    "    return value"
   ]
  },
  {
   "cell_type": "markdown",
   "metadata": {},
   "source": []
  }
 ],
 "metadata": {
  "language_info": {
   "name": "python"
  }
 },
 "nbformat": 4,
 "nbformat_minor": 2
}