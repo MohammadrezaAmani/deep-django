{
    "cells": [
        {
            "cell_type": "code",
            "execution_count": null,
            "metadata": {},
            "outputs": [],
            "source": [
                "from http import cookies\n",
                "\n",
                "# For backwards compatibility in Django 2.1.\n",
                "SimpleCookie = cookies.SimpleCookie\n"
            ]
        },
        {
            "cell_type": "markdown",
            "metadata": {},
            "source": []
        },
        {
            "cell_type": "code",
            "execution_count": null,
            "metadata": {},
            "outputs": [],
            "source": [
                "def parse_cookie(cookie):\n",
                "    \"\"\"\n",
                "    Return a dictionary parsed from a `Cookie:` header string.\n",
                "    \"\"\"\n",
                "    cookiedict = {}\n",
                "    for chunk in cookie.split(\";\"):\n",
                "        if \"=\" in chunk:\n",
                "            key, val = chunk.split(\"=\", 1)\n",
                "        else:\n",
                "            # Assume an empty name per\n",
                "            # https://bugzilla.mozilla.org/show_bug.cgi?id=169091\n",
                "            key, val = \"\", chunk\n",
                "        key, val = key.strip(), val.strip()\n",
                "        if key or val:\n",
                "            # unquote using Python's algorithm.\n",
                "            cookiedict[key] = cookies._unquote(val)\n",
                "    return cookiedict\n",
                "\n"
            ]
        },
        {
            "cell_type": "markdown",
            "metadata": {},
            "source": []
        }
    ],
    "metadata": {
        "language_info": {
            "name": "python"
        }
    },
    "nbformat": 4,
    "nbformat_minor": 2
}