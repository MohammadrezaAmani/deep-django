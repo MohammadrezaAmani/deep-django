{
 "cells": [
  {
   "cell_type": "code",
   "execution_count": null,
   "metadata": {},
   "outputs": [],
   "source": [
    "from django.http.cookie import SimpleCookie, parse_cookie\n",
    "from django.http.request import (\n",
    "    HttpHeaders,\n",
    "    HttpRequest,\n",
    "    QueryDict,\n",
    "    RawPostDataException,\n",
    "    UnreadablePostError,\n",
    ")\n",
    "from django.http.response import (\n",
    "    BadHeaderError,\n",
    "    FileResponse,\n",
    "    Http404,\n",
    "    HttpResponse,\n",
    "    HttpResponseBadRequest,\n",
    "    HttpResponseBase,\n",
    "    HttpResponseForbidden,\n",
    "    HttpResponseGone,\n",
    "    HttpResponseNotAllowed,\n",
    "    HttpResponseNotFound,\n",
    "    HttpResponseNotModified,\n",
    "    HttpResponsePermanentRedirect,\n",
    "    HttpResponseRedirect,\n",
    "    HttpResponseServerError,\n",
    "    JsonResponse,\n",
    "    StreamingHttpResponse,\n",
    ")\n",
    "\n",
    "__all__ = [\n",
    "    \"SimpleCookie\",\n",
    "    \"parse_cookie\",\n",
    "    \"HttpHeaders\",\n",
    "    \"HttpRequest\",\n",
    "    \"QueryDict\",\n",
    "    \"RawPostDataException\",\n",
    "    \"UnreadablePostError\",\n",
    "    \"HttpResponse\",\n",
    "    \"HttpResponseBase\",\n",
    "    \"StreamingHttpResponse\",\n",
    "    \"HttpResponseRedirect\",\n",
    "    \"HttpResponsePermanentRedirect\",\n",
    "    \"HttpResponseNotModified\",\n",
    "    \"HttpResponseBadRequest\",\n",
    "    \"HttpResponseForbidden\",\n",
    "    \"HttpResponseNotFound\",\n",
    "    \"HttpResponseNotAllowed\",\n",
    "    \"HttpResponseGone\",\n",
    "    \"HttpResponseServerError\",\n",
    "    \"Http404\",\n",
    "    \"BadHeaderError\",\n",
    "    \"JsonResponse\",\n",
    "    \"FileResponse\",\n",
    "]"
   ]
  },
  {
   "cell_type": "markdown",
   "metadata": {},
   "source": []
  }
 ],
 "metadata": {
  "language_info": {
   "name": "python"
  }
 },
 "nbformat": 4,
 "nbformat_minor": 2
}