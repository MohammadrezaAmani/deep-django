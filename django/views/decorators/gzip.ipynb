{
    "cells": [
        {
            "cell_type": "code",
            "execution_count": null,
            "metadata": {},
            "outputs": [],
            "source": [
                "from django.middleware.gzip import GZipMiddleware\n",
                "from django.utils.decorators import decorator_from_middleware\n",
                "\n",
                "gzip_page = decorator_from_middleware(GZipMiddleware)\n",
                "gzip_page.__doc__ = \"Decorator for views that gzips pages if the client supports it.\"\n",
                "\n"
            ]
        },
        {
            "cell_type": "markdown",
            "metadata": {},
            "source": []
        }
    ],
    "metadata": {
        "language_info": {
            "name": "python"
        }
    },
    "nbformat": 4,
    "nbformat_minor": 2
}