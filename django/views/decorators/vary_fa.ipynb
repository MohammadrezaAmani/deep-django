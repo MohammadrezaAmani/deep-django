{
    "cells": [
        {
            "cell_type": "code",
            "execution_count": null,
            "metadata": {},
            "outputs": [],
            "source": [
                "from functools import wraps\n",
                "\n",
                "from asgiref.sync import iscoroutinefunction\n",
                "\n",
                "from django.utils.cache import patch_vary_headers\n"
            ]
        },
        {
            "cell_type": "markdown",
            "metadata": {},
            "source": []
        },
        {
            "cell_type": "code",
            "execution_count": null,
            "metadata": {},
            "outputs": [],
            "source": [
                "def vary_on_headers(*headers):\n",
                "    \"\"\"\n",
                "    A view decorator that adds the specified headers to the Vary header of the\n",
                "    response. Usage:\n",
                "\n",
                "       @vary_on_headers('Cookie', 'Accept-language')\n",
                "       def index(request):\n",
                "           ...\n",
                "\n",
                "    Note that the header names are not case-sensitive.\n",
                "    \"\"\"\n",
                "\n",
                "    def decorator(func):\n",
                "        if iscoroutinefunction(func):\n",
                "\n",
                "            async def _view_wrapper(request, *args, **kwargs):\n",
                "                response = await func(request, *args, **kwargs)\n",
                "                patch_vary_headers(response, headers)\n",
                "                return response\n",
                "\n",
                "        else:\n",
                "\n",
                "            def _view_wrapper(request, *args, **kwargs):\n",
                "                response = func(request, *args, **kwargs)\n",
                "                patch_vary_headers(response, headers)\n",
                "                return response\n",
                "\n",
                "        return wraps(func)(_view_wrapper)\n",
                "\n",
                "    return decorator\n"
            ]
        },
        {
            "cell_type": "markdown",
            "metadata": {},
            "source": []
        },
        {
            "cell_type": "code",
            "execution_count": null,
            "metadata": {},
            "outputs": [],
            "source": [
                "vary_on_cookie = vary_on_headers(\"Cookie\")\n",
                "vary_on_cookie.__doc__ = (\n",
                "    'A view decorator that adds \"Cookie\" to the Vary header of a response. This '\n",
                "    \"indicates that a page's contents depends on cookies.\"\n",
                ")\n",
                "\n"
            ]
        },
        {
            "cell_type": "markdown",
            "metadata": {},
            "source": []
        }
    ],
    "metadata": {
        "language_info": {
            "name": "python"
        }
    },
    "nbformat": 4,
    "nbformat_minor": 2
}