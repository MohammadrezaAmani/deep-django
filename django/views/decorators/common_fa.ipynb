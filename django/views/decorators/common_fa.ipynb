{
 "cells": [
  {
   "cell_type": "code",
   "execution_count": null,
   "metadata": {},
   "outputs": [],
   "source": [
    "from functools import wraps\n",
    "\n",
    "from asgiref.sync import iscoroutinefunction"
   ]
  },
  {
   "cell_type": "markdown",
   "metadata": {},
   "source": []
  },
  {
   "cell_type": "code",
   "execution_count": null,
   "metadata": {},
   "outputs": [],
   "source": [
    "def no_append_slash(view_func):\n",
    "    \"\"\"\n",
    "    Mark a view function as excluded from CommonMiddleware's APPEND_SLASH\n",
    "    redirection.\n",
    "    \"\"\"\n",
    "\n",
    "    # view_func.should_append_slash = False would also work, but decorators are\n",
    "    # nicer if they don't have side effects, so return a new function.\n",
    "\n",
    "    if iscoroutinefunction(view_func):\n",
    "\n",
    "        async def _view_wrapper(request, *args, **kwargs):\n",
    "            return await view_func(request, *args, **kwargs)\n",
    "\n",
    "    else:\n",
    "\n",
    "        def _view_wrapper(request, *args, **kwargs):\n",
    "            return view_func(request, *args, **kwargs)\n",
    "\n",
    "    _view_wrapper.should_append_slash = False\n",
    "\n",
    "    return wraps(view_func)(_view_wrapper)"
   ]
  },
  {
   "cell_type": "markdown",
   "metadata": {},
   "source": []
  }
 ],
 "metadata": {
  "language_info": {
   "name": "python"
  }
 },
 "nbformat": 4,
 "nbformat_minor": 2
}