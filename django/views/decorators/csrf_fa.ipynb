{
    "cells": [
        {
            "cell_type": "code",
            "execution_count": null,
            "metadata": {},
            "outputs": [],
            "source": [
                "from functools import wraps\n",
                "\n",
                "from asgiref.sync import iscoroutinefunction\n",
                "\n",
                "from django.middleware.csrf import CsrfViewMiddleware, get_token\n",
                "from django.utils.decorators import decorator_from_middleware\n",
                "\n",
                "csrf_protect = decorator_from_middleware(CsrfViewMiddleware)\n",
                "csrf_protect.__name__ = \"csrf_protect\"\n",
                "csrf_protect.__doc__ = \"\"\"\n",
                "This decorator adds CSRF protection in exactly the same way as\n",
                "CsrfViewMiddleware, but it can be used on a per view basis.  Using both, or\n",
                "using the decorator multiple times, is harmless and efficient.\n",
                "\"\"\"\n"
            ]
        },
        {
            "cell_type": "markdown",
            "metadata": {},
            "source": []
        },
        {
            "cell_type": "code",
            "execution_count": null,
            "metadata": {},
            "outputs": [],
            "source": [
                "class _EnsureCsrfToken(CsrfViewMiddleware):\n",
                "    # Behave like CsrfViewMiddleware but don't reject requests or log warnings.\n",
                "    def _reject(self, request, reason):\n",
                "        return None\n"
            ]
        },
        {
            "cell_type": "markdown",
            "metadata": {},
            "source": []
        },
        {
            "cell_type": "code",
            "execution_count": null,
            "metadata": {},
            "outputs": [],
            "source": [
                "requires_csrf_token = decorator_from_middleware(_EnsureCsrfToken)\n",
                "requires_csrf_token.__name__ = \"requires_csrf_token\"\n",
                "requires_csrf_token.__doc__ = \"\"\"\n",
                "Use this decorator on views that need a correct csrf_token available to\n",
                "RequestContext, but without the CSRF protection that csrf_protect\n",
                "enforces.\n",
                "\"\"\"\n"
            ]
        },
        {
            "cell_type": "markdown",
            "metadata": {},
            "source": []
        },
        {
            "cell_type": "code",
            "execution_count": null,
            "metadata": {},
            "outputs": [],
            "source": [
                "class _EnsureCsrfCookie(CsrfViewMiddleware):\n",
                "    def _reject(self, request, reason):\n",
                "        return None\n",
                "\n",
                "    def process_view(self, request, callback, callback_args, callback_kwargs):\n",
                "        retval = super().process_view(request, callback, callback_args, callback_kwargs)\n",
                "        # Force process_response to send the cookie\n",
                "        get_token(request)\n",
                "        return retval\n"
            ]
        },
        {
            "cell_type": "markdown",
            "metadata": {},
            "source": []
        },
        {
            "cell_type": "code",
            "execution_count": null,
            "metadata": {},
            "outputs": [],
            "source": [
                "ensure_csrf_cookie = decorator_from_middleware(_EnsureCsrfCookie)\n",
                "ensure_csrf_cookie.__name__ = \"ensure_csrf_cookie\"\n",
                "ensure_csrf_cookie.__doc__ = \"\"\"\n",
                "Use this decorator to ensure that a view sets a CSRF cookie, whether or not it\n",
                "uses the csrf_token template tag, or the CsrfViewMiddleware is used.\n",
                "\"\"\"\n"
            ]
        },
        {
            "cell_type": "markdown",
            "metadata": {},
            "source": []
        },
        {
            "cell_type": "code",
            "execution_count": null,
            "metadata": {},
            "outputs": [],
            "source": [
                "def csrf_exempt(view_func):\n",
                "    \"\"\"Mark a view function as being exempt from the CSRF view protection.\"\"\"\n",
                "\n",
                "    # view_func.csrf_exempt = True would also work, but decorators are nicer\n",
                "    # if they don't have side effects, so return a new function.\n",
                "\n",
                "    if iscoroutinefunction(view_func):\n",
                "\n",
                "        async def _view_wrapper(request, *args, **kwargs):\n",
                "            return await view_func(request, *args, **kwargs)\n",
                "\n",
                "    else:\n",
                "\n",
                "        def _view_wrapper(request, *args, **kwargs):\n",
                "            return view_func(request, *args, **kwargs)\n",
                "\n",
                "    _view_wrapper.csrf_exempt = True\n",
                "\n",
                "    return wraps(view_func)(_view_wrapper)\n",
                "\n"
            ]
        },
        {
            "cell_type": "markdown",
            "metadata": {},
            "source": []
        }
    ],
    "metadata": {
        "language_info": {
            "name": "python"
        }
    },
    "nbformat": 4,
    "nbformat_minor": 2
}