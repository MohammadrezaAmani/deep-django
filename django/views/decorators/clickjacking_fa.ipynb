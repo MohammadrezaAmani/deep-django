{
    "cells": [
        {
            "cell_type": "code",
            "execution_count": null,
            "metadata": {},
            "outputs": [],
            "source": [
                "from functools import wraps\n",
                "\n",
                "from asgiref.sync import iscoroutinefunction\n"
            ]
        },
        {
            "cell_type": "markdown",
            "metadata": {},
            "source": []
        },
        {
            "cell_type": "code",
            "execution_count": null,
            "metadata": {},
            "outputs": [],
            "source": [
                "def xframe_options_deny(view_func):\n",
                "    \"\"\"\n",
                "    Modify a view function so its response has the X-Frame-Options HTTP\n",
                "    header set to 'DENY' as long as the response doesn't already have that\n",
                "    header set. Usage:\n",
                "\n",
                "    @xframe_options_deny\n",
                "    def some_view(request):\n",
                "        ...\n",
                "    \"\"\"\n",
                "\n",
                "    if iscoroutinefunction(view_func):\n",
                "\n",
                "        async def _view_wrapper(*args, **kwargs):\n",
                "            response = await view_func(*args, **kwargs)\n",
                "            if response.get(\"X-Frame-Options\") is None:\n",
                "                response[\"X-Frame-Options\"] = \"DENY\"\n",
                "            return response\n",
                "\n",
                "    else:\n",
                "\n",
                "        def _view_wrapper(*args, **kwargs):\n",
                "            response = view_func(*args, **kwargs)\n",
                "            if response.get(\"X-Frame-Options\") is None:\n",
                "                response[\"X-Frame-Options\"] = \"DENY\"\n",
                "            return response\n",
                "\n",
                "    return wraps(view_func)(_view_wrapper)\n"
            ]
        },
        {
            "cell_type": "markdown",
            "metadata": {},
            "source": []
        },
        {
            "cell_type": "code",
            "execution_count": null,
            "metadata": {},
            "outputs": [],
            "source": [
                "def xframe_options_sameorigin(view_func):\n",
                "    \"\"\"\n",
                "    Modify a view function so its response has the X-Frame-Options HTTP\n",
                "    header set to 'SAMEORIGIN' as long as the response doesn't already have\n",
                "    that header set. Usage:\n",
                "\n",
                "    @xframe_options_sameorigin\n",
                "    def some_view(request):\n",
                "        ...\n",
                "    \"\"\"\n",
                "\n",
                "    if iscoroutinefunction(view_func):\n",
                "\n",
                "        async def _view_wrapper(*args, **kwargs):\n",
                "            response = await view_func(*args, **kwargs)\n",
                "            if response.get(\"X-Frame-Options\") is None:\n",
                "                response[\"X-Frame-Options\"] = \"SAMEORIGIN\"\n",
                "            return response\n",
                "\n",
                "    else:\n",
                "\n",
                "        def _view_wrapper(*args, **kwargs):\n",
                "            response = view_func(*args, **kwargs)\n",
                "            if response.get(\"X-Frame-Options\") is None:\n",
                "                response[\"X-Frame-Options\"] = \"SAMEORIGIN\"\n",
                "            return response\n",
                "\n",
                "    return wraps(view_func)(_view_wrapper)\n"
            ]
        },
        {
            "cell_type": "markdown",
            "metadata": {},
            "source": []
        },
        {
            "cell_type": "code",
            "execution_count": null,
            "metadata": {},
            "outputs": [],
            "source": [
                "def xframe_options_exempt(view_func):\n",
                "    \"\"\"\n",
                "    Modify a view function by setting a response variable that instructs\n",
                "    XFrameOptionsMiddleware to NOT set the X-Frame-Options HTTP header. Usage:\n",
                "\n",
                "    @xframe_options_exempt\n",
                "    def some_view(request):\n",
                "        ...\n",
                "    \"\"\"\n",
                "\n",
                "    if iscoroutinefunction(view_func):\n",
                "\n",
                "        async def _view_wrapper(*args, **kwargs):\n",
                "            response = await view_func(*args, **kwargs)\n",
                "            response.xframe_options_exempt = True\n",
                "            return response\n",
                "\n",
                "    else:\n",
                "\n",
                "        def _view_wrapper(*args, **kwargs):\n",
                "            response = view_func(*args, **kwargs)\n",
                "            response.xframe_options_exempt = True\n",
                "            return response\n",
                "\n",
                "    return wraps(view_func)(_view_wrapper)\n",
                "\n"
            ]
        },
        {
            "cell_type": "markdown",
            "metadata": {},
            "source": []
        }
    ],
    "metadata": {
        "language_info": {
            "name": "python"
        }
    },
    "nbformat": 4,
    "nbformat_minor": 2
}