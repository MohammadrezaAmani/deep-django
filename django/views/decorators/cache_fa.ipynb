{
 "cells": [
  {
   "cell_type": "code",
   "execution_count": null,
   "metadata": {},
   "outputs": [],
   "source": [
    "from functools import wraps\n",
    "\n",
    "from asgiref.sync import iscoroutinefunction\n",
    "\n",
    "from django.middleware.cache import CacheMiddleware\n",
    "from django.utils.cache import add_never_cache_headers, patch_cache_control\n",
    "from django.utils.decorators import decorator_from_middleware_with_args"
   ]
  },
  {
   "cell_type": "markdown",
   "metadata": {},
   "source": []
  },
  {
   "cell_type": "code",
   "execution_count": null,
   "metadata": {},
   "outputs": [],
   "source": [
    "def cache_page(timeout, *, cache=None, key_prefix=None):\n",
    "    \"\"\"\n",
    "    Decorator for views that tries getting the page from the cache and\n",
    "    populates the cache if the page isn't in the cache yet.\n",
    "\n",
    "    The cache is keyed by the URL and some data from the headers.\n",
    "    Additionally there is the key prefix that is used to distinguish different\n",
    "    cache areas in a multi-site setup. You could use the\n",
    "    get_current_site().domain, for example, as that is unique across a Django\n",
    "    project.\n",
    "\n",
    "    Additionally, all headers from the response's Vary header will be taken\n",
    "    into account on caching -- just like the middleware does.\n",
    "    \"\"\"\n",
    "    return decorator_from_middleware_with_args(CacheMiddleware)(\n",
    "        page_timeout=timeout,\n",
    "        cache_alias=cache,\n",
    "        key_prefix=key_prefix,\n",
    "    )"
   ]
  },
  {
   "cell_type": "markdown",
   "metadata": {},
   "source": []
  },
  {
   "cell_type": "code",
   "execution_count": null,
   "metadata": {},
   "outputs": [],
   "source": [
    "def _check_request(request, decorator_name):\n",
    "    # Ensure argument looks like a request.\n",
    "    if not hasattr(request, \"META\"):\n",
    "        raise TypeError(\n",
    "            f\"{decorator_name} didn't receive an HttpRequest. If you are \"\n",
    "            \"decorating a classmethod, be sure to use @method_decorator.\"\n",
    "        )"
   ]
  },
  {
   "cell_type": "markdown",
   "metadata": {},
   "source": []
  },
  {
   "cell_type": "code",
   "execution_count": null,
   "metadata": {},
   "outputs": [],
   "source": [
    "def cache_control(**kwargs):\n",
    "    def _cache_controller(viewfunc):\n",
    "        if iscoroutinefunction(viewfunc):\n",
    "\n",
    "            async def _view_wrapper(request, *args, **kw):\n",
    "                _check_request(request, \"cache_control\")\n",
    "                response = await viewfunc(request, *args, **kw)\n",
    "                patch_cache_control(response, **kwargs)\n",
    "                return response\n",
    "\n",
    "        else:\n",
    "\n",
    "            def _view_wrapper(request, *args, **kw):\n",
    "                _check_request(request, \"cache_control\")\n",
    "                response = viewfunc(request, *args, **kw)\n",
    "                patch_cache_control(response, **kwargs)\n",
    "                return response\n",
    "\n",
    "        return wraps(viewfunc)(_view_wrapper)\n",
    "\n",
    "    return _cache_controller"
   ]
  },
  {
   "cell_type": "markdown",
   "metadata": {},
   "source": []
  },
  {
   "cell_type": "code",
   "execution_count": null,
   "metadata": {},
   "outputs": [],
   "source": [
    "def never_cache(view_func):\n",
    "    \"\"\"\n",
    "    Decorator that adds headers to a response so that it will never be cached.\n",
    "    \"\"\"\n",
    "\n",
    "    if iscoroutinefunction(view_func):\n",
    "\n",
    "        async def _view_wrapper(request, *args, **kwargs):\n",
    "            _check_request(request, \"never_cache\")\n",
    "            response = await view_func(request, *args, **kwargs)\n",
    "            add_never_cache_headers(response)\n",
    "            return response\n",
    "\n",
    "    else:\n",
    "\n",
    "        def _view_wrapper(request, *args, **kwargs):\n",
    "            _check_request(request, \"never_cache\")\n",
    "            response = view_func(request, *args, **kwargs)\n",
    "            add_never_cache_headers(response)\n",
    "            return response\n",
    "\n",
    "    return wraps(view_func)(_view_wrapper)"
   ]
  },
  {
   "cell_type": "markdown",
   "metadata": {},
   "source": []
  }
 ],
 "metadata": {
  "language_info": {
   "name": "python"
  }
 },
 "nbformat": 4,
 "nbformat_minor": 2
}