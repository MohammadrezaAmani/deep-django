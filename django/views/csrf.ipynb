{
    "cells": [
        {
            "cell_type": "code",
            "execution_count": null,
            "metadata": {},
            "outputs": [],
            "source": [
                "from pathlib import Path\n",
                "\n",
                "from django.conf import settings\n",
                "from django.http import HttpResponseForbidden\n",
                "from django.template import Context, Engine, TemplateDoesNotExist, loader\n",
                "from django.utils.translation import gettext as _\n",
                "from django.utils.version import get_docs_version\n",
                "\n",
                "CSRF_FAILURE_TEMPLATE_NAME = \"403_csrf.html\"\n"
            ]
        },
        {
            "cell_type": "markdown",
            "metadata": {},
            "source": []
        },
        {
            "cell_type": "code",
            "execution_count": null,
            "metadata": {},
            "outputs": [],
            "source": [
                "def builtin_template_path(name):\n",
                "    \"\"\"\n",
                "    Return a path to a builtin template.\n",
                "\n",
                "    Avoid calling this function at the module level or in a class-definition\n",
                "    because __file__ may not exist, e.g. in frozen environments.\n",
                "    \"\"\"\n",
                "    return Path(__file__).parent / \"templates\" / name\n"
            ]
        },
        {
            "cell_type": "markdown",
            "metadata": {},
            "source": []
        },
        {
            "cell_type": "code",
            "execution_count": null,
            "metadata": {},
            "outputs": [],
            "source": [
                "def csrf_failure(request, reason=\"\", template_name=CSRF_FAILURE_TEMPLATE_NAME):\n",
                "    \"\"\"\n",
                "    Default view used when request fails CSRF protection\n",
                "    \"\"\"\n",
                "    from django.middleware.csrf import REASON_NO_CSRF_COOKIE, REASON_NO_REFERER\n",
                "\n",
                "    c = {\n",
                "        \"title\": _(\"Forbidden\"),\n",
                "        \"main\": _(\"CSRF verification failed. Request aborted.\"),\n",
                "        \"reason\": reason,\n",
                "        \"no_referer\": reason == REASON_NO_REFERER,\n",
                "        \"no_referer1\": _(\n",
                "            \"You are seeing this message because this HTTPS site requires a \"\n",
                "            \"\u201cReferer header\u201d to be sent by your web browser, but none was \"\n",
                "            \"sent. This header is required for security reasons, to ensure \"\n",
                "            \"that your browser is not being hijacked by third parties.\"\n",
                "        ),\n",
                "        \"no_referer2\": _(\n",
                "            \"If you have configured your browser to disable \u201cReferer\u201d headers, \"\n",
                "            \"please re-enable them, at least for this site, or for HTTPS \"\n",
                "            \"connections, or for \u201csame-origin\u201d requests.\"\n",
                "        ),\n",
                "        \"no_referer3\": _(\n",
                "            'If you are using the <meta name=\"referrer\" '\n",
                "            'content=\"no-referrer\"> tag or including the \u201cReferrer-Policy: '\n",
                "            \"no-referrer\u201d header, please remove them. The CSRF protection \"\n",
                "            \"requires the \u201cReferer\u201d header to do strict referer checking. If \"\n",
                "            \"you\u2019re concerned about privacy, use alternatives like \"\n",
                "            '<a rel=\"noreferrer\" \u2026> for links to third-party sites.'\n",
                "        ),\n",
                "        \"no_cookie\": reason == REASON_NO_CSRF_COOKIE,\n",
                "        \"no_cookie1\": _(\n",
                "            \"You are seeing this message because this site requires a CSRF \"\n",
                "            \"cookie when submitting forms. This cookie is required for \"\n",
                "            \"security reasons, to ensure that your browser is not being \"\n",
                "            \"hijacked by third parties.\"\n",
                "        ),\n",
                "        \"no_cookie2\": _(\n",
                "            \"If you have configured your browser to disable cookies, please \"\n",
                "            \"re-enable them, at least for this site, or for \u201csame-origin\u201d \"\n",
                "            \"requests.\"\n",
                "        ),\n",
                "        \"DEBUG\": settings.DEBUG,\n",
                "        \"docs_version\": get_docs_version(),\n",
                "        \"more\": _(\"More information is available with DEBUG=True.\"),\n",
                "    }\n",
                "    try:\n",
                "        t = loader.get_template(template_name)\n",
                "    except TemplateDoesNotExist:\n",
                "        if template_name == CSRF_FAILURE_TEMPLATE_NAME:\n",
                "            # If the default template doesn't exist, use the fallback template.\n",
                "            with builtin_template_path(\"csrf_403.html\").open(encoding=\"utf-8\") as fh:\n",
                "                t = Engine().from_string(fh.read())\n",
                "            c = Context(c)\n",
                "        else:\n",
                "            # Raise if a developer-specified template doesn't exist.\n",
                "            raise\n",
                "    return HttpResponseForbidden(t.render(c))\n",
                "\n"
            ]
        },
        {
            "cell_type": "markdown",
            "metadata": {},
            "source": []
        }
    ],
    "metadata": {
        "language_info": {
            "name": "python"
        }
    },
    "nbformat": 4,
    "nbformat_minor": 2
}