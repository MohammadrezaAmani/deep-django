{
    "cells": [
        {
            "cell_type": "code",
            "execution_count": null,
            "metadata": {},
            "outputs": [],
            "source": [
                "from urllib.parse import quote\n",
                "\n",
                "from django.http import (\n",
                "    HttpResponseBadRequest,\n",
                "    HttpResponseForbidden,\n",
                "    HttpResponseNotFound,\n",
                "    HttpResponseServerError,\n",
                ")\n",
                "from django.template import Context, Engine, TemplateDoesNotExist, loader\n",
                "from django.views.decorators.csrf import requires_csrf_token\n",
                "\n",
                "ERROR_404_TEMPLATE_NAME = \"404.html\"\n",
                "ERROR_403_TEMPLATE_NAME = \"403.html\"\n",
                "ERROR_400_TEMPLATE_NAME = \"400.html\"\n",
                "ERROR_500_TEMPLATE_NAME = \"500.html\"\n",
                "ERROR_PAGE_TEMPLATE = \"\"\"\n",
                "<!doctype html>\n",
                "<html lang=\"en\">\n",
                "<head>\n",
                "  <title>%(title)s</title>\n",
                "</head>\n",
                "<body>\n",
                "  <h1>%(title)s</h1><p>%(details)s</p>\n",
                "</body>\n",
                "</html>\n",
                "\"\"\"\n"
            ]
        },
        {
            "cell_type": "markdown",
            "metadata": {},
            "source": []
        },
        {
            "cell_type": "code",
            "execution_count": null,
            "metadata": {},
            "outputs": [],
            "source": [
                "# These views can be called when CsrfViewMiddleware.process_view() not run,\n",
                "# therefore need @requires_csrf_token in case the template needs\n",
                "# {% csrf_token %}.\n"
            ]
        },
        {
            "cell_type": "markdown",
            "metadata": {},
            "source": []
        },
        {
            "cell_type": "code",
            "execution_count": null,
            "metadata": {},
            "outputs": [],
            "source": [
                "@requires_csrf_token\n",
                "def page_not_found(request, exception, template_name=ERROR_404_TEMPLATE_NAME):\n",
                "    \"\"\"\n",
                "    Default 404 handler.\n",
                "\n",
                "    Templates: :template:`404.html`\n",
                "    Context:\n",
                "        request_path\n",
                "            The path of the requested URL (e.g., '/app/pages/bad_page/'). It's\n",
                "            quoted to prevent a content injection attack.\n",
                "        exception\n",
                "            The message from the exception which triggered the 404 (if one was\n",
                "            supplied), or the exception class name\n",
                "    \"\"\"\n",
                "    exception_repr = exception.__class__.__name__\n",
                "    # Try to get an \"interesting\" exception message, if any (and not the ugly\n",
                "    # Resolver404 dictionary)\n",
                "    try:\n",
                "        message = exception.args[0]\n",
                "    except (AttributeError, IndexError):\n",
                "        pass\n",
                "    else:\n",
                "        if isinstance(message, str):\n",
                "            exception_repr = message\n",
                "    context = {\n",
                "        \"request_path\": quote(request.path),\n",
                "        \"exception\": exception_repr,\n",
                "    }\n",
                "    try:\n",
                "        template = loader.get_template(template_name)\n",
                "        body = template.render(context, request)\n",
                "    except TemplateDoesNotExist:\n",
                "        if template_name != ERROR_404_TEMPLATE_NAME:\n",
                "            # Reraise if it's a missing custom template.\n",
                "            raise\n",
                "        # Render template (even though there are no substitutions) to allow\n",
                "        # inspecting the context in tests.\n",
                "        template = Engine().from_string(\n",
                "            ERROR_PAGE_TEMPLATE\n",
                "            % {\n",
                "                \"title\": \"Not Found\",\n",
                "                \"details\": \"The requested resource was not found on this server.\",\n",
                "            },\n",
                "        )\n",
                "        body = template.render(Context(context))\n",
                "    return HttpResponseNotFound(body)\n"
            ]
        },
        {
            "cell_type": "markdown",
            "metadata": {},
            "source": []
        },
        {
            "cell_type": "code",
            "execution_count": null,
            "metadata": {},
            "outputs": [],
            "source": [
                "@requires_csrf_token\n",
                "def server_error(request, template_name=ERROR_500_TEMPLATE_NAME):\n",
                "    \"\"\"\n",
                "    500 error handler.\n",
                "\n",
                "    Templates: :template:`500.html`\n",
                "    Context: None\n",
                "    \"\"\"\n",
                "    try:\n",
                "        template = loader.get_template(template_name)\n",
                "    except TemplateDoesNotExist:\n",
                "        if template_name != ERROR_500_TEMPLATE_NAME:\n",
                "            # Reraise if it's a missing custom template.\n",
                "            raise\n",
                "        return HttpResponseServerError(\n",
                "            ERROR_PAGE_TEMPLATE % {\"title\": \"Server Error (500)\", \"details\": \"\"},\n",
                "        )\n",
                "    return HttpResponseServerError(template.render())\n"
            ]
        },
        {
            "cell_type": "markdown",
            "metadata": {},
            "source": []
        },
        {
            "cell_type": "code",
            "execution_count": null,
            "metadata": {},
            "outputs": [],
            "source": [
                "@requires_csrf_token\n",
                "def bad_request(request, exception, template_name=ERROR_400_TEMPLATE_NAME):\n",
                "    \"\"\"\n",
                "    400 error handler.\n",
                "\n",
                "    Templates: :template:`400.html`\n",
                "    Context: None\n",
                "    \"\"\"\n",
                "    try:\n",
                "        template = loader.get_template(template_name)\n",
                "    except TemplateDoesNotExist:\n",
                "        if template_name != ERROR_400_TEMPLATE_NAME:\n",
                "            # Reraise if it's a missing custom template.\n",
                "            raise\n",
                "        return HttpResponseBadRequest(\n",
                "            ERROR_PAGE_TEMPLATE % {\"title\": \"Bad Request (400)\", \"details\": \"\"},\n",
                "        )\n",
                "    # No exception content is passed to the template, to not disclose any\n",
                "    # sensitive information.\n",
                "    return HttpResponseBadRequest(template.render())\n"
            ]
        },
        {
            "cell_type": "markdown",
            "metadata": {},
            "source": []
        },
        {
            "cell_type": "code",
            "execution_count": null,
            "metadata": {},
            "outputs": [],
            "source": [
                "@requires_csrf_token\n",
                "def permission_denied(request, exception, template_name=ERROR_403_TEMPLATE_NAME):\n",
                "    \"\"\"\n",
                "    Permission denied (403) handler.\n",
                "\n",
                "    Templates: :template:`403.html`\n",
                "    Context:\n",
                "        exception\n",
                "            The message from the exception which triggered the 403 (if one was\n",
                "            supplied).\n",
                "\n",
                "    If the template does not exist, an Http403 response containing the text\n",
                "    \"403 Forbidden\" (as per RFC 9110 Section 15.5.4) will be returned.\n",
                "    \"\"\"\n",
                "    try:\n",
                "        template = loader.get_template(template_name)\n",
                "    except TemplateDoesNotExist:\n",
                "        if template_name != ERROR_403_TEMPLATE_NAME:\n",
                "            # Reraise if it's a missing custom template.\n",
                "            raise\n",
                "        return HttpResponseForbidden(\n",
                "            ERROR_PAGE_TEMPLATE % {\"title\": \"403 Forbidden\", \"details\": \"\"},\n",
                "        )\n",
                "    return HttpResponseForbidden(\n",
                "        template.render(request=request, context={\"exception\": str(exception)})\n",
                "    )\n",
                "\n"
            ]
        },
        {
            "cell_type": "markdown",
            "metadata": {},
            "source": []
        }
    ],
    "metadata": {
        "language_info": {
            "name": "python"
        }
    },
    "nbformat": 4,
    "nbformat_minor": 2
}