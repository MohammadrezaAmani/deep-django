{
    "cells": [
        {
            "cell_type": "code",
            "execution_count": null,
            "metadata": {},
            "outputs": [],
            "source": [
                "from django.core.exceptions import ImproperlyConfigured\n",
                "from django.forms import Form\n",
                "from django.forms import models as model_forms\n",
                "from django.http import HttpResponseRedirect\n",
                "from django.views.generic.base import ContextMixin, TemplateResponseMixin, View\n",
                "from django.views.generic.detail import (\n",
                "    BaseDetailView,\n",
                "    SingleObjectMixin,\n",
                "    SingleObjectTemplateResponseMixin,\n",
                ")\n"
            ]
        },
        {
            "cell_type": "markdown",
            "metadata": {},
            "source": []
        },
        {
            "cell_type": "code",
            "execution_count": null,
            "metadata": {},
            "outputs": [],
            "source": [
                "class FormMixin(ContextMixin):\n",
                "    \"\"\"Provide a way to show and handle a form in a request.\"\"\"\n",
                "\n",
                "    initial = {}\n",
                "    form_class = None\n",
                "    success_url = None\n",
                "    prefix = None\n",
                "\n",
                "    def get_initial(self):\n",
                "        \"\"\"Return the initial data to use for forms on this view.\"\"\"\n",
                "        return self.initial.copy()\n",
                "\n",
                "    def get_prefix(self):\n",
                "        \"\"\"Return the prefix to use for forms.\"\"\"\n",
                "        return self.prefix\n",
                "\n",
                "    def get_form_class(self):\n",
                "        \"\"\"Return the form class to use.\"\"\"\n",
                "        return self.form_class\n",
                "\n",
                "    def get_form(self, form_class=None):\n",
                "        \"\"\"Return an instance of the form to be used in this view.\"\"\"\n",
                "        if form_class is None:\n",
                "            form_class = self.get_form_class()\n",
                "        return form_class(**self.get_form_kwargs())\n",
                "\n",
                "    def get_form_kwargs(self):\n",
                "        \"\"\"Return the keyword arguments for instantiating the form.\"\"\"\n",
                "        kwargs = {\n",
                "            \"initial\": self.get_initial(),\n",
                "            \"prefix\": self.get_prefix(),\n",
                "        }\n",
                "\n",
                "        if self.request.method in (\"POST\", \"PUT\"):\n",
                "            kwargs.update(\n",
                "                {\n",
                "                    \"data\": self.request.POST,\n",
                "                    \"files\": self.request.FILES,\n",
                "                }\n",
                "            )\n",
                "        return kwargs\n",
                "\n",
                "    def get_success_url(self):\n",
                "        \"\"\"Return the URL to redirect to after processing a valid form.\"\"\"\n",
                "        if not self.success_url:\n",
                "            raise ImproperlyConfigured(\"No URL to redirect to. Provide a success_url.\")\n",
                "        return str(self.success_url)  # success_url may be lazy\n",
                "\n",
                "    def form_valid(self, form):\n",
                "        \"\"\"If the form is valid, redirect to the supplied URL.\"\"\"\n",
                "        return HttpResponseRedirect(self.get_success_url())\n",
                "\n",
                "    def form_invalid(self, form):\n",
                "        \"\"\"If the form is invalid, render the invalid form.\"\"\"\n",
                "        return self.render_to_response(self.get_context_data(form=form))\n",
                "\n",
                "    def get_context_data(self, **kwargs):\n",
                "        \"\"\"Insert the form into the context dict.\"\"\"\n",
                "        if \"form\" not in kwargs:\n",
                "            kwargs[\"form\"] = self.get_form()\n",
                "        return super().get_context_data(**kwargs)\n"
            ]
        },
        {
            "cell_type": "markdown",
            "metadata": {},
            "source": []
        },
        {
            "cell_type": "code",
            "execution_count": null,
            "metadata": {},
            "outputs": [],
            "source": [
                "class ModelFormMixin(FormMixin, SingleObjectMixin):\n",
                "    \"\"\"Provide a way to show and handle a ModelForm in a request.\"\"\"\n",
                "\n",
                "    fields = None\n",
                "\n",
                "    def get_form_class(self):\n",
                "        \"\"\"Return the form class to use in this view.\"\"\"\n",
                "        if self.fields is not None and self.form_class:\n",
                "            raise ImproperlyConfigured(\n",
                "                \"Specifying both 'fields' and 'form_class' is not permitted.\"\n",
                "            )\n",
                "        if self.form_class:\n",
                "            return self.form_class\n",
                "        else:\n",
                "            if self.model is not None:\n",
                "                # If a model has been explicitly provided, use it\n",
                "                model = self.model\n",
                "            elif getattr(self, \"object\", None) is not None:\n",
                "                # If this view is operating on a single object, use\n",
                "                # the class of that object\n",
                "                model = self.object.__class__\n",
                "            else:\n",
                "                # Try to get a queryset and extract the model class\n",
                "                # from that\n",
                "                model = self.get_queryset().model\n",
                "\n",
                "            if self.fields is None:\n",
                "                raise ImproperlyConfigured(\n",
                "                    \"Using ModelFormMixin (base class of %s) without \"\n",
                "                    \"the 'fields' attribute is prohibited.\" % self.__class__.__name__\n",
                "                )\n",
                "\n",
                "            return model_forms.modelform_factory(model, fields=self.fields)\n",
                "\n",
                "    def get_form_kwargs(self):\n",
                "        \"\"\"Return the keyword arguments for instantiating the form.\"\"\"\n",
                "        kwargs = super().get_form_kwargs()\n",
                "        if hasattr(self, \"object\"):\n",
                "            kwargs.update({\"instance\": self.object})\n",
                "        return kwargs\n",
                "\n",
                "    def get_success_url(self):\n",
                "        \"\"\"Return the URL to redirect to after processing a valid form.\"\"\"\n",
                "        if self.success_url:\n",
                "            url = self.success_url.format(**self.object.__dict__)\n",
                "        else:\n",
                "            try:\n",
                "                url = self.object.get_absolute_url()\n",
                "            except AttributeError:\n",
                "                raise ImproperlyConfigured(\n",
                "                    \"No URL to redirect to.  Either provide a url or define\"\n",
                "                    \" a get_absolute_url method on the Model.\"\n",
                "                )\n",
                "        return url\n",
                "\n",
                "    def form_valid(self, form):\n",
                "        \"\"\"If the form is valid, save the associated model.\"\"\"\n",
                "        self.object = form.save()\n",
                "        return super().form_valid(form)\n"
            ]
        },
        {
            "cell_type": "markdown",
            "metadata": {},
            "source": []
        },
        {
            "cell_type": "code",
            "execution_count": null,
            "metadata": {},
            "outputs": [],
            "source": [
                "class ProcessFormView(View):\n",
                "    \"\"\"Render a form on GET and processes it on POST.\"\"\"\n",
                "\n",
                "    def get(self, request, *args, **kwargs):\n",
                "        \"\"\"Handle GET requests: instantiate a blank version of the form.\"\"\"\n",
                "        return self.render_to_response(self.get_context_data())\n",
                "\n",
                "    def post(self, request, *args, **kwargs):\n",
                "        \"\"\"\n",
                "        Handle POST requests: instantiate a form instance with the passed\n",
                "        POST variables and then check if it's valid.\n",
                "        \"\"\"\n",
                "        form = self.get_form()\n",
                "        if form.is_valid():\n",
                "            return self.form_valid(form)\n",
                "        else:\n",
                "            return self.form_invalid(form)\n",
                "\n",
                "    # PUT is a valid HTTP verb for creating (with a known URL) or editing an\n",
                "    # object, note that browsers only support POST for now.\n",
                "    def put(self, *args, **kwargs):\n",
                "        return self.post(*args, **kwargs)\n"
            ]
        },
        {
            "cell_type": "markdown",
            "metadata": {},
            "source": []
        },
        {
            "cell_type": "code",
            "execution_count": null,
            "metadata": {},
            "outputs": [],
            "source": [
                "class BaseFormView(FormMixin, ProcessFormView):\n",
                "    \"\"\"A base view for displaying a form.\"\"\"\n"
            ]
        },
        {
            "cell_type": "markdown",
            "metadata": {},
            "source": []
        },
        {
            "cell_type": "code",
            "execution_count": null,
            "metadata": {},
            "outputs": [],
            "source": [
                "class FormView(TemplateResponseMixin, BaseFormView):\n",
                "    \"\"\"A view for displaying a form and rendering a template response.\"\"\"\n"
            ]
        },
        {
            "cell_type": "markdown",
            "metadata": {},
            "source": []
        },
        {
            "cell_type": "code",
            "execution_count": null,
            "metadata": {},
            "outputs": [],
            "source": [
                "class BaseCreateView(ModelFormMixin, ProcessFormView):\n",
                "    \"\"\"\n",
                "    Base view for creating a new object instance.\n",
                "\n",
                "    Using this base class requires subclassing to provide a response mixin.\n",
                "    \"\"\"\n",
                "\n",
                "    def get(self, request, *args, **kwargs):\n",
                "        self.object = None\n",
                "        return super().get(request, *args, **kwargs)\n",
                "\n",
                "    def post(self, request, *args, **kwargs):\n",
                "        self.object = None\n",
                "        return super().post(request, *args, **kwargs)\n"
            ]
        },
        {
            "cell_type": "markdown",
            "metadata": {},
            "source": []
        },
        {
            "cell_type": "code",
            "execution_count": null,
            "metadata": {},
            "outputs": [],
            "source": [
                "class CreateView(SingleObjectTemplateResponseMixin, BaseCreateView):\n",
                "    \"\"\"\n",
                "    View for creating a new object, with a response rendered by a template.\n",
                "    \"\"\"\n",
                "\n",
                "    template_name_suffix = \"_form\"\n"
            ]
        },
        {
            "cell_type": "markdown",
            "metadata": {},
            "source": []
        },
        {
            "cell_type": "code",
            "execution_count": null,
            "metadata": {},
            "outputs": [],
            "source": [
                "class BaseUpdateView(ModelFormMixin, ProcessFormView):\n",
                "    \"\"\"\n",
                "    Base view for updating an existing object.\n",
                "\n",
                "    Using this base class requires subclassing to provide a response mixin.\n",
                "    \"\"\"\n",
                "\n",
                "    def get(self, request, *args, **kwargs):\n",
                "        self.object = self.get_object()\n",
                "        return super().get(request, *args, **kwargs)\n",
                "\n",
                "    def post(self, request, *args, **kwargs):\n",
                "        self.object = self.get_object()\n",
                "        return super().post(request, *args, **kwargs)\n"
            ]
        },
        {
            "cell_type": "markdown",
            "metadata": {},
            "source": []
        },
        {
            "cell_type": "code",
            "execution_count": null,
            "metadata": {},
            "outputs": [],
            "source": [
                "class UpdateView(SingleObjectTemplateResponseMixin, BaseUpdateView):\n",
                "    \"\"\"View for updating an object, with a response rendered by a template.\"\"\"\n",
                "\n",
                "    template_name_suffix = \"_form\"\n"
            ]
        },
        {
            "cell_type": "markdown",
            "metadata": {},
            "source": []
        },
        {
            "cell_type": "code",
            "execution_count": null,
            "metadata": {},
            "outputs": [],
            "source": [
                "class DeletionMixin:\n",
                "    \"\"\"Provide the ability to delete objects.\"\"\"\n",
                "\n",
                "    success_url = None\n",
                "\n",
                "    def delete(self, request, *args, **kwargs):\n",
                "        \"\"\"\n",
                "        Call the delete() method on the fetched object and then redirect to the\n",
                "        success URL.\n",
                "        \"\"\"\n",
                "        self.object = self.get_object()\n",
                "        success_url = self.get_success_url()\n",
                "        self.object.delete()\n",
                "        return HttpResponseRedirect(success_url)\n",
                "\n",
                "    # Add support for browsers which only accept GET and POST for now.\n",
                "    def post(self, request, *args, **kwargs):\n",
                "        return self.delete(request, *args, **kwargs)\n",
                "\n",
                "    def get_success_url(self):\n",
                "        if self.success_url:\n",
                "            return self.success_url.format(**self.object.__dict__)\n",
                "        else:\n",
                "            raise ImproperlyConfigured(\"No URL to redirect to. Provide a success_url.\")\n"
            ]
        },
        {
            "cell_type": "markdown",
            "metadata": {},
            "source": []
        },
        {
            "cell_type": "code",
            "execution_count": null,
            "metadata": {},
            "outputs": [],
            "source": [
                "class BaseDeleteView(DeletionMixin, FormMixin, BaseDetailView):\n",
                "    \"\"\"\n",
                "    Base view for deleting an object.\n",
                "\n",
                "    Using this base class requires subclassing to provide a response mixin.\n",
                "    \"\"\"\n",
                "\n",
                "    form_class = Form\n",
                "\n",
                "    def post(self, request, *args, **kwargs):\n",
                "        # Set self.object before the usual form processing flow.\n",
                "        # Inlined because having DeletionMixin as the first base, for\n",
                "        # get_success_url(), makes leveraging super() with ProcessFormView\n",
                "        # overly complex.\n",
                "        self.object = self.get_object()\n",
                "        form = self.get_form()\n",
                "        if form.is_valid():\n",
                "            return self.form_valid(form)\n",
                "        else:\n",
                "            return self.form_invalid(form)\n",
                "\n",
                "    def form_valid(self, form):\n",
                "        success_url = self.get_success_url()\n",
                "        self.object.delete()\n",
                "        return HttpResponseRedirect(success_url)\n"
            ]
        },
        {
            "cell_type": "markdown",
            "metadata": {},
            "source": []
        },
        {
            "cell_type": "code",
            "execution_count": null,
            "metadata": {},
            "outputs": [],
            "source": [
                "class DeleteView(SingleObjectTemplateResponseMixin, BaseDeleteView):\n",
                "    \"\"\"\n",
                "    View for deleting an object retrieved with self.get_object(), with a\n",
                "    response rendered by a template.\n",
                "    \"\"\"\n",
                "\n",
                "    template_name_suffix = \"_confirm_delete\"\n",
                "\n"
            ]
        },
        {
            "cell_type": "markdown",
            "metadata": {},
            "source": []
        }
    ],
    "metadata": {
        "language_info": {
            "name": "python"
        }
    },
    "nbformat": 4,
    "nbformat_minor": 2
}