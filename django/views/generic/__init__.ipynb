{
    "cells": [
        {
            "cell_type": "code",
            "execution_count": null,
            "metadata": {},
            "outputs": [],
            "source": [
                "from django.views.generic.base import RedirectView, TemplateView, View\n",
                "from django.views.generic.dates import (\n",
                "    ArchiveIndexView,\n",
                "    DateDetailView,\n",
                "    DayArchiveView,\n",
                "    MonthArchiveView,\n",
                "    TodayArchiveView,\n",
                "    WeekArchiveView,\n",
                "    YearArchiveView,\n",
                ")\n",
                "from django.views.generic.detail import DetailView\n",
                "from django.views.generic.edit import CreateView, DeleteView, FormView, UpdateView\n",
                "from django.views.generic.list import ListView\n",
                "\n",
                "__all__ = [\n",
                "    \"View\",\n",
                "    \"TemplateView\",\n",
                "    \"RedirectView\",\n",
                "    \"ArchiveIndexView\",\n",
                "    \"YearArchiveView\",\n",
                "    \"MonthArchiveView\",\n",
                "    \"WeekArchiveView\",\n",
                "    \"DayArchiveView\",\n",
                "    \"TodayArchiveView\",\n",
                "    \"DateDetailView\",\n",
                "    \"DetailView\",\n",
                "    \"FormView\",\n",
                "    \"CreateView\",\n",
                "    \"UpdateView\",\n",
                "    \"DeleteView\",\n",
                "    \"ListView\",\n",
                "    \"GenericViewError\",\n",
                "]\n"
            ]
        },
        {
            "cell_type": "markdown",
            "metadata": {},
            "source": []
        },
        {
            "cell_type": "code",
            "execution_count": null,
            "metadata": {},
            "outputs": [],
            "source": [
                "class GenericViewError(Exception):\n",
                "    \"\"\"A problem in a generic view.\"\"\"\n",
                "\n",
                "    pass\n",
                "\n"
            ]
        },
        {
            "cell_type": "markdown",
            "metadata": {},
            "source": []
        }
    ],
    "metadata": {
        "language_info": {
            "name": "python"
        }
    },
    "nbformat": 4,
    "nbformat_minor": 2
}