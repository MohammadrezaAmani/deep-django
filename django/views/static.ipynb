{
 "cells": [
  {
   "cell_type": "code",
   "execution_count": null,
   "metadata": {},
   "outputs": [],
   "source": [
    "\"\"\"\n",
    "Views and functions for serving static files. These are only to be used\n",
    "during development, and SHOULD NOT be used in a production setting.\n",
    "\"\"\"\n",
    "\n",
    "import mimetypes\n",
    "import posixpath\n",
    "from pathlib import Path\n",
    "\n",
    "from django.http import FileResponse, Http404, HttpResponse, HttpResponseNotModified\n",
    "from django.template import Context, Engine, TemplateDoesNotExist, loader\n",
    "from django.utils._os import safe_join\n",
    "from django.utils.http import http_date, parse_http_date\n",
    "from django.utils.translation import gettext as _\n",
    "from django.utils.translation import gettext_lazy"
   ]
  },
  {
   "cell_type": "markdown",
   "metadata": {},
   "source": []
  },
  {
   "cell_type": "code",
   "execution_count": null,
   "metadata": {},
   "outputs": [],
   "source": [
    "def builtin_template_path(name):\n",
    "    \"\"\"\n",
    "    Return a path to a builtin template.\n",
    "\n",
    "    Avoid calling this function at the module level or in a class-definition\n",
    "    because __file__ may not exist, e.g. in frozen environments.\n",
    "    \"\"\"\n",
    "    return Path(__file__).parent / \"templates\" / name"
   ]
  },
  {
   "cell_type": "markdown",
   "metadata": {},
   "source": []
  },
  {
   "cell_type": "code",
   "execution_count": null,
   "metadata": {},
   "outputs": [],
   "source": [
    "def serve(request, path, document_root=None, show_indexes=False):\n",
    "    \"\"\"\n",
    "    Serve static files below a given point in the directory structure.\n",
    "\n",
    "    To use, put a URL pattern such as::\n",
    "\n",
    "        from django.views.static import serve\n",
    "\n",
    "        path('<path:path>', serve, {'document_root': '/path/to/my/files/'})\n",
    "\n",
    "    in your URLconf. You must provide the ``document_root`` param. You may\n",
    "    also set ``show_indexes`` to ``True`` if you'd like to serve a basic index\n",
    "    of the directory.  This index view will use the template hardcoded below,\n",
    "    but if you'd like to override it, you can create a template called\n",
    "    ``static/directory_index.html``.\n",
    "    \"\"\"\n",
    "    path = posixpath.normpath(path).lstrip(\"/\")\n",
    "    fullpath = Path(safe_join(document_root, path))\n",
    "    if fullpath.is_dir():\n",
    "        if show_indexes:\n",
    "            return directory_index(path, fullpath)\n",
    "        raise Http404(_(\"Directory indexes are not allowed here.\"))\n",
    "    if not fullpath.exists():\n",
    "        raise Http404(_(\"“%(path)s” does not exist\") % {\"path\": fullpath})\n",
    "    # Respect the If-Modified-Since header.\n",
    "    statobj = fullpath.stat()\n",
    "    if not was_modified_since(\n",
    "        request.META.get(\"HTTP_IF_MODIFIED_SINCE\"), statobj.st_mtime\n",
    "    ):\n",
    "        return HttpResponseNotModified()\n",
    "    content_type, encoding = mimetypes.guess_type(str(fullpath))\n",
    "    content_type = content_type or \"application/octet-stream\"\n",
    "    response = FileResponse(fullpath.open(\"rb\"), content_type=content_type)\n",
    "    response.headers[\"Last-Modified\"] = http_date(statobj.st_mtime)\n",
    "    if encoding:\n",
    "        response.headers[\"Content-Encoding\"] = encoding\n",
    "    return response"
   ]
  },
  {
   "cell_type": "markdown",
   "metadata": {},
   "source": []
  },
  {
   "cell_type": "code",
   "execution_count": null,
   "metadata": {},
   "outputs": [],
   "source": [
    "# Translatable string for static directory index template title.\n",
    "template_translatable = gettext_lazy(\"Index of %(directory)s\")"
   ]
  },
  {
   "cell_type": "markdown",
   "metadata": {},
   "source": []
  },
  {
   "cell_type": "code",
   "execution_count": null,
   "metadata": {},
   "outputs": [],
   "source": [
    "def directory_index(path, fullpath):\n",
    "    try:\n",
    "        t = loader.select_template(\n",
    "            [\n",
    "                \"static/directory_index.html\",\n",
    "                \"static/directory_index\",\n",
    "            ]\n",
    "        )\n",
    "    except TemplateDoesNotExist:\n",
    "        with builtin_template_path(\"directory_index.html\").open(encoding=\"utf-8\") as fh:\n",
    "            t = Engine(libraries={\"i18n\": \"django.templatetags.i18n\"}).from_string(\n",
    "                fh.read()\n",
    "            )\n",
    "        c = Context()\n",
    "    else:\n",
    "        c = {}\n",
    "    files = []\n",
    "    for f in fullpath.iterdir():\n",
    "        if not f.name.startswith(\".\"):\n",
    "            url = str(f.relative_to(fullpath))\n",
    "            if f.is_dir():\n",
    "                url += \"/\"\n",
    "            files.append(url)\n",
    "    c.update(\n",
    "        {\n",
    "            \"directory\": path + \"/\",\n",
    "            \"file_list\": files,\n",
    "        }\n",
    "    )\n",
    "    return HttpResponse(t.render(c))"
   ]
  },
  {
   "cell_type": "markdown",
   "metadata": {},
   "source": []
  },
  {
   "cell_type": "code",
   "execution_count": null,
   "metadata": {},
   "outputs": [],
   "source": [
    "def was_modified_since(header=None, mtime=0):\n",
    "    \"\"\"\n",
    "    Was something modified since the user last downloaded it?\n",
    "\n",
    "    header\n",
    "      This is the value of the If-Modified-Since header.  If this is None,\n",
    "      I'll just return True.\n",
    "\n",
    "    mtime\n",
    "      This is the modification time of the item we're talking about.\n",
    "    \"\"\"\n",
    "    try:\n",
    "        if header is None:\n",
    "            raise ValueError\n",
    "        header_mtime = parse_http_date(header)\n",
    "        if int(mtime) > header_mtime:\n",
    "            raise ValueError\n",
    "    except (ValueError, OverflowError):\n",
    "        return True\n",
    "    return False"
   ]
  },
  {
   "cell_type": "markdown",
   "metadata": {},
   "source": []
  }
 ],
 "metadata": {
  "language_info": {
   "name": "python"
  }
 },
 "nbformat": 4,
 "nbformat_minor": 2
}