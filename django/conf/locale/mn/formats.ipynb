{
    "cells": [
        {
            "cell_type": "code",
            "execution_count": null,
            "metadata": {},
            "outputs": [],
            "source": [
                "# This file is distributed under the same license as the Django package.\n",
                "#\n",
                "# The *_FORMAT strings use the Django date format syntax,\n",
                "# see https://docs.djangoproject.com/en/dev/ref/templates/builtins/#date\n",
                "DATE_FORMAT = \"d F Y\"\n",
                "TIME_FORMAT = \"g:i A\"\n",
                "# DATETIME_FORMAT =\n",
                "# YEAR_MONTH_FORMAT =\n",
                "# MONTH_DAY_FORMAT =\n",
                "SHORT_DATE_FORMAT = \"j M Y\"\n",
                "# SHORT_DATETIME_FORMAT =\n",
                "# FIRST_DAY_OF_WEEK =\n",
                "\n",
                "# The *_INPUT_FORMATS strings use the Python strftime format syntax,\n",
                "# see https://docs.python.org/library/datetime.html#strftime-strptime-behavior\n",
                "# DATE_INPUT_FORMATS =\n",
                "# TIME_INPUT_FORMATS =\n",
                "# DATETIME_INPUT_FORMATS =\n",
                "# DECIMAL_SEPARATOR =\n",
                "# THOUSAND_SEPARATOR =\n",
                "# NUMBER_GROUPING =\n",
                "\n"
            ]
        },
        {
            "cell_type": "markdown",
            "metadata": {},
            "source": []
        }
    ],
    "metadata": {
        "language_info": {
            "name": "python"
        }
    },
    "nbformat": 4,
    "nbformat_minor": 2
}