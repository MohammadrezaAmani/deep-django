{
    "cells": [
        {
            "cell_type": "code",
            "execution_count": null,
            "metadata": {},
            "outputs": [],
            "source": [
                "# This file is distributed under the same license as the Django package.\n",
                "#\n",
                "# The *_FORMAT strings use the Django date format syntax,\n",
                "# see https://docs.djangoproject.com/en/dev/ref/templates/builtins/#date\n",
                "DATE_FORMAT = \"j F Y\"\n",
                "TIME_FORMAT = \"H:i\"\n",
                "DATETIME_FORMAT = \"j F Y H:i\"\n",
                "YEAR_MONTH_FORMAT = \"F Y\"\n",
                "MONTH_DAY_FORMAT = \"j F\"\n",
                "SHORT_DATE_FORMAT = \"Y-m-d\"\n",
                "SHORT_DATETIME_FORMAT = \"Y-m-d H:i\"\n",
                "FIRST_DAY_OF_WEEK = 1\n",
                "\n",
                "# The *_INPUT_FORMATS strings use the Python strftime format syntax,\n",
                "# see https://docs.python.org/library/datetime.html#strftime-strptime-behavior\n",
                "# Kept ISO formats as they are in first position\n",
                "DATE_INPUT_FORMATS = [\n",
                "    \"%Y-%m-%d\",  # '2006-10-25'\n",
                "    \"%m/%d/%Y\",  # '10/25/2006'\n",
                "    \"%m/%d/%y\",  # '10/25/06'\n",
                "]\n",
                "DATETIME_INPUT_FORMATS = [\n",
                "    \"%Y-%m-%d %H:%M:%S\",  # '2006-10-25 14:30:59'\n",
                "    \"%Y-%m-%d %H:%M:%S.%f\",  # '2006-10-25 14:30:59.000200'\n",
                "    \"%Y-%m-%d %H:%M\",  # '2006-10-25 14:30'\n",
                "    \"%m/%d/%Y %H:%M:%S\",  # '10/25/2006 14:30:59'\n",
                "    \"%m/%d/%Y %H:%M:%S.%f\",  # '10/25/2006 14:30:59.000200'\n",
                "    \"%m/%d/%Y %H:%M\",  # '10/25/2006 14:30'\n",
                "    \"%m/%d/%y %H:%M:%S\",  # '10/25/06 14:30:59'\n",
                "    \"%m/%d/%y %H:%M:%S.%f\",  # '10/25/06 14:30:59.000200'\n",
                "    \"%m/%d/%y %H:%M\",  # '10/25/06 14:30'\n",
                "]\n",
                "DECIMAL_SEPARATOR = \",\"\n",
                "THOUSAND_SEPARATOR = \"\\xa0\"  # non-breaking space\n",
                "NUMBER_GROUPING = 3\n",
                "\n"
            ]
        },
        {
            "cell_type": "markdown",
            "metadata": {},
            "source": []
        }
    ],
    "metadata": {
        "language_info": {
            "name": "python"
        }
    },
    "nbformat": 4,
    "nbformat_minor": 2
}