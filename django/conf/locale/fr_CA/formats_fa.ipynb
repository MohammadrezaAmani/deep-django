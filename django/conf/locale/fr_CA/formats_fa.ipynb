{
 "cells": [
  {
   "cell_type": "code",
   "execution_count": null,
   "metadata": {},
   "outputs": [],
   "source": [
    "# This file is distributed under the same license as the Django package.\n",
    "#\n",
    "# The *_FORMAT strings use the Django date format syntax,\n",
    "# see https://docs.djangoproject.com/en/dev/ref/templates/builtins/#date\n",
    "DATE_FORMAT = \"j F Y\"  # 31 janvier 2024\n",
    "TIME_FORMAT = \"H\\xa0h\\xa0i\"  # 13 h 40\n",
    "DATETIME_FORMAT = \"j F Y, H\\xa0h\\xa0i\"  # 31 janvier 2024, 13 h 40\n",
    "YEAR_MONTH_FORMAT = \"F Y\"\n",
    "MONTH_DAY_FORMAT = \"j F\"\n",
    "SHORT_DATE_FORMAT = \"Y-m-d\"\n",
    "SHORT_DATETIME_FORMAT = \"Y-m-d H\\xa0h\\xa0i\"\n",
    "FIRST_DAY_OF_WEEK = 1  # Lundi\n",
    "\n",
    "# The *_INPUT_FORMATS strings use the Python strftime format syntax,\n",
    "# see https://docs.python.org/library/datetime.html#strftime-strptime-behavior\n",
    "DATE_INPUT_FORMATS = [\n",
    "    \"%Y-%m-%d\",  # '2006-05-15'\n",
    "    \"%y-%m-%d\",  # '06-05-15'\n",
    "]\n",
    "DATETIME_INPUT_FORMATS = [\n",
    "    \"%Y-%m-%d %H:%M:%S\",  # '2006-05-15 14:30:57'\n",
    "    \"%y-%m-%d %H:%M:%S\",  # '06-05-15 14:30:57'\n",
    "    \"%Y-%m-%d %H:%M:%S.%f\",  # '2006-05-15 14:30:57.000200'\n",
    "    \"%y-%m-%d %H:%M:%S.%f\",  # '06-05-15 14:30:57.000200'\n",
    "    \"%Y-%m-%d %H:%M\",  # '2006-05-15 14:30'\n",
    "    \"%y-%m-%d %H:%M\",  # '06-05-15 14:30'\n",
    "]\n",
    "DECIMAL_SEPARATOR = \",\"\n",
    "THOUSAND_SEPARATOR = \"\\xa0\"  # non-breaking space\n",
    "NUMBER_GROUPING = 3"
   ]
  },
  {
   "cell_type": "markdown",
   "metadata": {},
   "source": []
  }
 ],
 "metadata": {
  "language_info": {
   "name": "python"
  }
 },
 "nbformat": 4,
 "nbformat_minor": 2
}