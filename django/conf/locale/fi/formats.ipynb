{
    "cells": [
        {
            "cell_type": "code",
            "execution_count": null,
            "metadata": {},
            "outputs": [],
            "source": [
                "# This file is distributed under the same license as the Django package.\n",
                "#\n",
                "# The *_FORMAT strings use the Django date format syntax,\n",
                "# see https://docs.djangoproject.com/en/dev/ref/templates/builtins/#date\n",
                "DATE_FORMAT = \"j. E Y\"\n",
                "TIME_FORMAT = \"G.i\"\n",
                "DATETIME_FORMAT = r\"j. E Y \\k\\e\\l\\l\\o G.i\"\n",
                "YEAR_MONTH_FORMAT = \"F Y\"\n",
                "MONTH_DAY_FORMAT = \"j. F\"\n",
                "SHORT_DATE_FORMAT = \"j.n.Y\"\n",
                "SHORT_DATETIME_FORMAT = \"j.n.Y G.i\"\n",
                "FIRST_DAY_OF_WEEK = 1  # Monday\n",
                "\n",
                "# The *_INPUT_FORMATS strings use the Python strftime format syntax,\n",
                "# see https://docs.python.org/library/datetime.html#strftime-strptime-behavior\n",
                "DATE_INPUT_FORMATS = [\n",
                "    \"%d.%m.%Y\",  # '20.3.2014'\n",
                "    \"%d.%m.%y\",  # '20.3.14'\n",
                "]\n",
                "DATETIME_INPUT_FORMATS = [\n",
                "    \"%d.%m.%Y %H.%M.%S\",  # '20.3.2014 14.30.59'\n",
                "    \"%d.%m.%Y %H.%M.%S.%f\",  # '20.3.2014 14.30.59.000200'\n",
                "    \"%d.%m.%Y %H.%M\",  # '20.3.2014 14.30'\n",
                "    \"%d.%m.%y %H.%M.%S\",  # '20.3.14 14.30.59'\n",
                "    \"%d.%m.%y %H.%M.%S.%f\",  # '20.3.14 14.30.59.000200'\n",
                "    \"%d.%m.%y %H.%M\",  # '20.3.14 14.30'\n",
                "]\n",
                "TIME_INPUT_FORMATS = [\n",
                "    \"%H.%M.%S\",  # '14.30.59'\n",
                "    \"%H.%M.%S.%f\",  # '14.30.59.000200'\n",
                "    \"%H.%M\",  # '14.30'\n",
                "]\n",
                "\n",
                "DECIMAL_SEPARATOR = \",\"\n",
                "THOUSAND_SEPARATOR = \"\\xa0\"  # Non-breaking space\n",
                "NUMBER_GROUPING = 3\n",
                "\n"
            ]
        },
        {
            "cell_type": "markdown",
            "metadata": {},
            "source": []
        }
    ],
    "metadata": {
        "language_info": {
            "name": "python"
        }
    },
    "nbformat": 4,
    "nbformat_minor": 2
}