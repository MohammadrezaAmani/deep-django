{
 "cells": [
  {
   "cell_type": "code",
   "execution_count": null,
   "metadata": {},
   "outputs": [],
   "source": [
    "# This file is distributed under the same license as the Django package.\n",
    "#\n",
    "# The *_FORMAT strings use the Django date format syntax,\n",
    "# see https://docs.djangoproject.com/en/dev/ref/templates/builtins/#date\n",
    "DATE_FORMAT = r\"Y\\k\\o N j\\a\"\n",
    "TIME_FORMAT = \"H:i\"\n",
    "DATETIME_FORMAT = r\"Y\\k\\o N j\\a, H:i\"\n",
    "YEAR_MONTH_FORMAT = r\"Y\\k\\o F\"\n",
    "MONTH_DAY_FORMAT = r\"F\\r\\e\\n j\\a\"\n",
    "SHORT_DATE_FORMAT = \"Y-m-d\"\n",
    "SHORT_DATETIME_FORMAT = \"Y-m-d H:i\"\n",
    "FIRST_DAY_OF_WEEK = 1  # Astelehena\n",
    "\n",
    "# The *_INPUT_FORMATS strings use the Python strftime format syntax,\n",
    "# see https://docs.python.org/library/datetime.html#strftime-strptime-behavior\n",
    "# DATE_INPUT_FORMATS =\n",
    "# TIME_INPUT_FORMATS =\n",
    "# DATETIME_INPUT_FORMATS =\n",
    "DECIMAL_SEPARATOR = \",\"\n",
    "THOUSAND_SEPARATOR = \".\"\n",
    "NUMBER_GROUPING = 3"
   ]
  },
  {
   "cell_type": "markdown",
   "metadata": {},
   "source": []
  }
 ],
 "metadata": {
  "language_info": {
   "name": "python"
  }
 },
 "nbformat": 4,
 "nbformat_minor": 2
}