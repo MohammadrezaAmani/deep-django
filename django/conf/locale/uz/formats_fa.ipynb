{
    "cells": [
        {
            "cell_type": "code",
            "execution_count": null,
            "metadata": {},
            "outputs": [],
            "source": [
                "# This file is distributed under the same license as the Django package.\n",
                "#\n",
                "# The *_FORMAT strings use the Django date format syntax,\n",
                "# see https://docs.djangoproject.com/en/dev/ref/templates/builtins/#date\n",
                "DATE_FORMAT = r\"j-E, Y-\\y\\i\\l\"\n",
                "TIME_FORMAT = \"G:i\"\n",
                "DATETIME_FORMAT = r\"j-E, Y-\\y\\i\\l G:i\"\n",
                "YEAR_MONTH_FORMAT = r\"F Y-\\y\\i\\l\"\n",
                "MONTH_DAY_FORMAT = \"j-E\"\n",
                "SHORT_DATE_FORMAT = \"d.m.Y\"\n",
                "SHORT_DATETIME_FORMAT = \"d.m.Y H:i\"\n",
                "FIRST_DAY_OF_WEEK = 1  # Monday\n",
                "\n",
                "# The *_INPUT_FORMATS strings use the Python strftime format syntax,\n",
                "# see https://docs.python.org/library/datetime.html#strftime-strptime-behavior\n",
                "DATE_INPUT_FORMATS = [\n",
                "    \"%d.%m.%Y\",  # '25.10.2006'\n",
                "    \"%d-%B, %Y-yil\",  # '25-Oktabr, 2006-yil'\n",
                "]\n",
                "DATETIME_INPUT_FORMATS = [\n",
                "    \"%d.%m.%Y %H:%M:%S\",  # '25.10.2006 14:30:59'\n",
                "    \"%d.%m.%Y %H:%M:%S.%f\",  # '25.10.2006 14:30:59.000200'\n",
                "    \"%d.%m.%Y %H:%M\",  # '25.10.2006 14:30'\n",
                "    \"%d-%B, %Y-yil %H:%M:%S\",  # '25-Oktabr, 2006-yil 14:30:59'\n",
                "    \"%d-%B, %Y-yil %H:%M:%S.%f\",  # '25-Oktabr, 2006-yil 14:30:59.000200'\n",
                "    \"%d-%B, %Y-yil %H:%M\",  # '25-Oktabr, 2006-yil 14:30'\n",
                "]\n",
                "DECIMAL_SEPARATOR = \",\"\n",
                "THOUSAND_SEPARATOR = \"\\xa0\"  # non-breaking space\n",
                "NUMBER_GROUPING = 3\n",
                "\n"
            ]
        },
        {
            "cell_type": "markdown",
            "metadata": {},
            "source": []
        }
    ],
    "metadata": {
        "language_info": {
            "name": "python"
        }
    },
    "nbformat": 4,
    "nbformat_minor": 2
}