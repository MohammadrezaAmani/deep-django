{
 "cells": [
  {
   "cell_type": "code",
   "execution_count": null,
   "metadata": {},
   "outputs": [],
   "source": [
    "# This file is distributed under the same license as the Django package.\n",
    "#\n",
    "# The *_FORMAT strings use the Django date format syntax,\n",
    "# see https://docs.djangoproject.com/en/dev/ref/templates/builtins/#date\n",
    "DATE_FORMAT = \"d F Y\"  # 25 Ottobre 2006\n",
    "TIME_FORMAT = \"H:i\"  # 14:30\n",
    "DATETIME_FORMAT = \"l d F Y H:i\"  # Mercoledì 25 Ottobre 2006 14:30\n",
    "YEAR_MONTH_FORMAT = \"F Y\"  # Ottobre 2006\n",
    "MONTH_DAY_FORMAT = \"j F\"  # 25 Ottobre\n",
    "SHORT_DATE_FORMAT = \"d/m/Y\"  # 25/12/2009\n",
    "SHORT_DATETIME_FORMAT = \"d/m/Y H:i\"  # 25/10/2009 14:30\n",
    "FIRST_DAY_OF_WEEK = 1  # Lunedì\n",
    "\n",
    "# The *_INPUT_FORMATS strings use the Python strftime format syntax,\n",
    "# see https://docs.python.org/library/datetime.html#strftime-strptime-behavior\n",
    "DATE_INPUT_FORMATS = [\n",
    "    \"%d/%m/%Y\",  # '25/10/2006'\n",
    "    \"%Y/%m/%d\",  # '2006/10/25'\n",
    "    \"%d-%m-%Y\",  # '25-10-2006'\n",
    "    \"%Y-%m-%d\",  # '2006-10-25'\n",
    "    \"%d-%m-%y\",  # '25-10-06'\n",
    "    \"%d/%m/%y\",  # '25/10/06'\n",
    "]\n",
    "DATETIME_INPUT_FORMATS = [\n",
    "    \"%d/%m/%Y %H:%M:%S\",  # '25/10/2006 14:30:59'\n",
    "    \"%d/%m/%Y %H:%M:%S.%f\",  # '25/10/2006 14:30:59.000200'\n",
    "    \"%d/%m/%Y %H:%M\",  # '25/10/2006 14:30'\n",
    "    \"%d/%m/%y %H:%M:%S\",  # '25/10/06 14:30:59'\n",
    "    \"%d/%m/%y %H:%M:%S.%f\",  # '25/10/06 14:30:59.000200'\n",
    "    \"%d/%m/%y %H:%M\",  # '25/10/06 14:30'\n",
    "    \"%Y-%m-%d %H:%M:%S\",  # '2006-10-25 14:30:59'\n",
    "    \"%Y-%m-%d %H:%M:%S.%f\",  # '2006-10-25 14:30:59.000200'\n",
    "    \"%Y-%m-%d %H:%M\",  # '2006-10-25 14:30'\n",
    "    \"%d-%m-%Y %H:%M:%S\",  # '25-10-2006 14:30:59'\n",
    "    \"%d-%m-%Y %H:%M:%S.%f\",  # '25-10-2006 14:30:59.000200'\n",
    "    \"%d-%m-%Y %H:%M\",  # '25-10-2006 14:30'\n",
    "    \"%d-%m-%y %H:%M:%S\",  # '25-10-06 14:30:59'\n",
    "    \"%d-%m-%y %H:%M:%S.%f\",  # '25-10-06 14:30:59.000200'\n",
    "    \"%d-%m-%y %H:%M\",  # '25-10-06 14:30'\n",
    "]\n",
    "DECIMAL_SEPARATOR = \",\"\n",
    "THOUSAND_SEPARATOR = \".\"\n",
    "NUMBER_GROUPING = 3"
   ]
  },
  {
   "cell_type": "markdown",
   "metadata": {},
   "source": []
  }
 ],
 "metadata": {
  "language_info": {
   "name": "python"
  }
 },
 "nbformat": 4,
 "nbformat_minor": 2
}