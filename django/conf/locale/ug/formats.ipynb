{
    "cells": [
        {
            "cell_type": "code",
            "execution_count": null,
            "metadata": {},
            "outputs": [],
            "source": [
                "# This file is distributed under the same license as the Django package.\n",
                "#\n",
                "# The *_FORMAT strings use the Django date format syntax,\n",
                "# see https://docs.djangoproject.com/en/dev/ref/templates/builtins/#date\n",
                "DATE_FORMAT = \"j F Y\"\n",
                "TIME_FORMAT = \"G:i\"\n",
                "YEAR_MONTH_FORMAT = \"F Y\"\n",
                "MONTH_DAY_FORMAT = \"j F\"\n",
                "SHORT_DATE_FORMAT = \"Y/m/d\"\n",
                "SHORT_DATETIME_FORMAT = \"Y/m/d G:i\"\n",
                "FIRST_DAY_OF_WEEK = 1\n",
                "DECIMAL_SEPARATOR = \".\"\n",
                "THOUSAND_SEPARATOR = \",\"\n",
                "NUMBER_GROUPING = 3\n",
                "\n"
            ]
        },
        {
            "cell_type": "markdown",
            "metadata": {},
            "source": []
        }
    ],
    "metadata": {
        "language_info": {
            "name": "python"
        }
    },
    "nbformat": 4,
    "nbformat_minor": 2
}