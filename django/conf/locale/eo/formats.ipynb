{
    "cells": [
        {
            "cell_type": "code",
            "execution_count": null,
            "metadata": {},
            "outputs": [],
            "source": [
                "# This file is distributed under the same license as the Django package.\n",
                "#\n",
                "# The *_FORMAT strings use the Django date format syntax,\n",
                "# see https://docs.djangoproject.com/en/dev/ref/templates/builtins/#date\n",
                "DATE_FORMAT = r\"j\\-\\a \\d\\e F Y\"  # '26-a de julio 1887'\n",
                "TIME_FORMAT = \"H:i\"  # '18:59'\n",
                "DATETIME_FORMAT = r\"j\\-\\a \\d\\e F Y\\, \\j\\e H:i\"  # '26-a de julio 1887, je 18:59'\n",
                "YEAR_MONTH_FORMAT = r\"F \\d\\e Y\"  # 'julio de 1887'\n",
                "MONTH_DAY_FORMAT = r\"j\\-\\a \\d\\e F\"  # '26-a de julio'\n",
                "SHORT_DATE_FORMAT = \"Y-m-d\"  # '1887-07-26'\n",
                "SHORT_DATETIME_FORMAT = \"Y-m-d H:i\"  # '1887-07-26 18:59'\n",
                "FIRST_DAY_OF_WEEK = 1  # Monday (lundo)\n",
                "\n",
                "# The *_INPUT_FORMATS strings use the Python strftime format syntax,\n",
                "# see https://docs.python.org/library/datetime.html#strftime-strptime-behavior\n",
                "DATE_INPUT_FORMATS = [\n",
                "    \"%Y-%m-%d\",  # '1887-07-26'\n",
                "    \"%y-%m-%d\",  # '87-07-26'\n",
                "    \"%Y %m %d\",  # '1887 07 26'\n",
                "    \"%Y.%m.%d\",  # '1887.07.26'\n",
                "    \"%d-a de %b %Y\",  # '26-a de jul 1887'\n",
                "    \"%d %b %Y\",  # '26 jul 1887'\n",
                "    \"%d-a de %B %Y\",  # '26-a de julio 1887'\n",
                "    \"%d %B %Y\",  # '26 julio 1887'\n",
                "    \"%d %m %Y\",  # '26 07 1887'\n",
                "    \"%d/%m/%Y\",  # '26/07/1887'\n",
                "]\n",
                "TIME_INPUT_FORMATS = [\n",
                "    \"%H:%M:%S\",  # '18:59:00'\n",
                "    \"%H:%M\",  # '18:59'\n",
                "]\n",
                "DATETIME_INPUT_FORMATS = [\n",
                "    \"%Y-%m-%d %H:%M:%S\",  # '1887-07-26 18:59:00'\n",
                "    \"%Y-%m-%d %H:%M\",  # '1887-07-26 18:59'\n",
                "    \"%Y.%m.%d %H:%M:%S\",  # '1887.07.26 18:59:00'\n",
                "    \"%Y.%m.%d %H:%M\",  # '1887.07.26 18:59'\n",
                "    \"%d/%m/%Y %H:%M:%S\",  # '26/07/1887 18:59:00'\n",
                "    \"%d/%m/%Y %H:%M\",  # '26/07/1887 18:59'\n",
                "    \"%y-%m-%d %H:%M:%S\",  # '87-07-26 18:59:00'\n",
                "    \"%y-%m-%d %H:%M\",  # '87-07-26 18:59'\n",
                "]\n",
                "DECIMAL_SEPARATOR = \",\"\n",
                "THOUSAND_SEPARATOR = \"\\xa0\"  # non-breaking space\n",
                "NUMBER_GROUPING = 3\n",
                "\n"
            ]
        },
        {
            "cell_type": "markdown",
            "metadata": {},
            "source": []
        }
    ],
    "metadata": {
        "language_info": {
            "name": "python"
        }
    },
    "nbformat": 4,
    "nbformat_minor": 2
}