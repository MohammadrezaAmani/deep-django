{
    "cells": [
        {
            "cell_type": "code",
            "execution_count": null,
            "metadata": {},
            "outputs": [],
            "source": [
                "# This file is distributed under the same license as the Django package.\n",
                "#\n",
                "# The *_FORMAT strings use the Django date format syntax,\n",
                "# see https://docs.djangoproject.com/en/dev/ref/templates/builtins/#date\n",
                "DATE_FORMAT = \"d E Y \u0440.\"\n",
                "TIME_FORMAT = \"H:i\"\n",
                "DATETIME_FORMAT = \"d E Y \u0440. H:i\"\n",
                "YEAR_MONTH_FORMAT = \"F Y\"\n",
                "MONTH_DAY_FORMAT = \"d F\"\n",
                "SHORT_DATE_FORMAT = \"d.m.Y\"\n",
                "SHORT_DATETIME_FORMAT = \"d.m.Y H:i\"\n",
                "FIRST_DAY_OF_WEEK = 1  # Monday\n",
                "\n",
                "# The *_INPUT_FORMATS strings use the Python strftime format syntax,\n",
                "# see https://docs.python.org/library/datetime.html#strftime-strptime-behavior\n",
                "DATE_INPUT_FORMATS = [\n",
                "    \"%d.%m.%Y\",  # '25.10.2006'\n",
                "    \"%d %B %Y\",  # '25 October 2006'\n",
                "]\n",
                "TIME_INPUT_FORMATS = [\n",
                "    \"%H:%M:%S\",  # '14:30:59'\n",
                "    \"%H:%M:%S.%f\",  # '14:30:59.000200'\n",
                "    \"%H:%M\",  # '14:30'\n",
                "]\n",
                "DATETIME_INPUT_FORMATS = [\n",
                "    \"%d.%m.%Y %H:%M:%S\",  # '25.10.2006 14:30:59'\n",
                "    \"%d.%m.%Y %H:%M:%S.%f\",  # '25.10.2006 14:30:59.000200'\n",
                "    \"%d.%m.%Y %H:%M\",  # '25.10.2006 14:30'\n",
                "    \"%d %B %Y %H:%M:%S\",  # '25 October 2006 14:30:59'\n",
                "    \"%d %B %Y %H:%M:%S.%f\",  # '25 October 2006 14:30:59.000200'\n",
                "    \"%d %B %Y %H:%M\",  # '25 October 2006 14:30'\n",
                "]\n",
                "DECIMAL_SEPARATOR = \",\"\n",
                "THOUSAND_SEPARATOR = \"\\xa0\"  # non-breaking space\n",
                "NUMBER_GROUPING = 3\n",
                "\n"
            ]
        },
        {
            "cell_type": "markdown",
            "metadata": {},
            "source": []
        }
    ],
    "metadata": {
        "language_info": {
            "name": "python"
        }
    },
    "nbformat": 4,
    "nbformat_minor": 2
}