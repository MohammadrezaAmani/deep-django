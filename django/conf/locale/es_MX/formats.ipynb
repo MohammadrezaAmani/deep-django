{
 "cells": [
  {
   "cell_type": "code",
   "execution_count": null,
   "metadata": {},
   "outputs": [],
   "source": [
    "# This file is distributed under the same license as the Django package.\n",
    "#\n",
    "DATE_FORMAT = r\"j \\d\\e F \\d\\e Y\"\n",
    "TIME_FORMAT = \"H:i\"\n",
    "DATETIME_FORMAT = r\"j \\d\\e F \\d\\e Y \\a \\l\\a\\s H:i\"\n",
    "YEAR_MONTH_FORMAT = r\"F \\d\\e Y\"\n",
    "MONTH_DAY_FORMAT = r\"j \\d\\e F\"\n",
    "SHORT_DATE_FORMAT = \"d/m/Y\"\n",
    "SHORT_DATETIME_FORMAT = \"d/m/Y H:i\"\n",
    "FIRST_DAY_OF_WEEK = 1  # Monday: ISO 8601\n",
    "DATE_INPUT_FORMATS = [\n",
    "    \"%d/%m/%Y\",  # '25/10/2006'\n",
    "    \"%d/%m/%y\",  # '25/10/06'\n",
    "    \"%Y%m%d\",  # '20061025'\n",
    "]\n",
    "DATETIME_INPUT_FORMATS = [\n",
    "    \"%d/%m/%Y %H:%M:%S\",\n",
    "    \"%d/%m/%Y %H:%M:%S.%f\",\n",
    "    \"%d/%m/%Y %H:%M\",\n",
    "    \"%d/%m/%y %H:%M:%S\",\n",
    "    \"%d/%m/%y %H:%M:%S.%f\",\n",
    "    \"%d/%m/%y %H:%M\",\n",
    "]\n",
    "DECIMAL_SEPARATOR = \".\"  # ',' is also official (less common): NOM-008-SCFI-2002\n",
    "THOUSAND_SEPARATOR = \",\"\n",
    "NUMBER_GROUPING = 3"
   ]
  },
  {
   "cell_type": "markdown",
   "metadata": {},
   "source": []
  }
 ],
 "metadata": {
  "language_info": {
   "name": "python"
  }
 },
 "nbformat": 4,
 "nbformat_minor": 2
}