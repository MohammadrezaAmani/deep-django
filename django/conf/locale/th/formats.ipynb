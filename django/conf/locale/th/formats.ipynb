{
    "cells": [
        {
            "cell_type": "code",
            "execution_count": null,
            "metadata": {},
            "outputs": [],
            "source": [
                "# This file is distributed under the same license as the Django package.\n",
                "#\n",
                "# The *_FORMAT strings use the Django date format syntax,\n",
                "# see https://docs.djangoproject.com/en/dev/ref/templates/builtins/#date\n",
                "DATE_FORMAT = \"j F Y\"\n",
                "TIME_FORMAT = \"G:i\"\n",
                "DATETIME_FORMAT = \"j F Y, G:i\"\n",
                "YEAR_MONTH_FORMAT = \"F Y\"\n",
                "MONTH_DAY_FORMAT = \"j F\"\n",
                "SHORT_DATE_FORMAT = \"j M Y\"\n",
                "SHORT_DATETIME_FORMAT = \"j M Y, G:i\"\n",
                "FIRST_DAY_OF_WEEK = 0  # Sunday\n",
                "\n",
                "# The *_INPUT_FORMATS strings use the Python strftime format syntax,\n",
                "# see https://docs.python.org/library/datetime.html#strftime-strptime-behavior\n",
                "DATE_INPUT_FORMATS = [\n",
                "    \"%d/%m/%Y\",  # 25/10/2006\n",
                "    \"%d %b %Y\",  # 25 \u0e15.\u0e04. 2006\n",
                "    \"%d %B %Y\",  # 25 \u0e15\u0e38\u0e25\u0e32\u0e04\u0e21 2006\n",
                "]\n",
                "TIME_INPUT_FORMATS = [\n",
                "    \"%H:%M:%S\",  # 14:30:59\n",
                "    \"%H:%M:%S.%f\",  # 14:30:59.000200\n",
                "    \"%H:%M\",  # 14:30\n",
                "]\n",
                "DATETIME_INPUT_FORMATS = [\n",
                "    \"%d/%m/%Y %H:%M:%S\",  # 25/10/2006 14:30:59\n",
                "    \"%d/%m/%Y %H:%M:%S.%f\",  # 25/10/2006 14:30:59.000200\n",
                "    \"%d/%m/%Y %H:%M\",  # 25/10/2006 14:30\n",
                "]\n",
                "DECIMAL_SEPARATOR = \".\"\n",
                "THOUSAND_SEPARATOR = \",\"\n",
                "NUMBER_GROUPING = 3\n",
                "\n"
            ]
        },
        {
            "cell_type": "markdown",
            "metadata": {},
            "source": []
        }
    ],
    "metadata": {
        "language_info": {
            "name": "python"
        }
    },
    "nbformat": 4,
    "nbformat_minor": 2
}