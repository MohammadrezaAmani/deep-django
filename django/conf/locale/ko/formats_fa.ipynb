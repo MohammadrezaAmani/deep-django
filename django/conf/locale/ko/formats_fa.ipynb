{
    "cells": [
        {
            "cell_type": "code",
            "execution_count": null,
            "metadata": {},
            "outputs": [],
            "source": [
                "# This file is distributed under the same license as the Django package.\n",
                "#\n",
                "# The *_FORMAT strings use the Django date format syntax,\n",
                "# see https://docs.djangoproject.com/en/dev/ref/templates/builtins/#date\n",
                "DATE_FORMAT = \"Y\ub144 n\uc6d4 j\uc77c\"\n",
                "TIME_FORMAT = \"A g:i\"\n",
                "DATETIME_FORMAT = \"Y\ub144 n\uc6d4 j\uc77c g:i A\"\n",
                "YEAR_MONTH_FORMAT = \"Y\ub144 n\uc6d4\"\n",
                "MONTH_DAY_FORMAT = \"n\uc6d4 j\uc77c\"\n",
                "SHORT_DATE_FORMAT = \"Y-n-j.\"\n",
                "SHORT_DATETIME_FORMAT = \"Y-n-j H:i\"\n",
                "# FIRST_DAY_OF_WEEK =\n",
                "\n",
                "# The *_INPUT_FORMATS strings use the Python strftime format syntax,\n",
                "# see https://docs.python.org/library/datetime.html#strftime-strptime-behavior\n",
                "# Kept ISO formats as they are in first position\n",
                "DATE_INPUT_FORMATS = [\n",
                "    \"%Y-%m-%d\",  # '2006-10-25'\n",
                "    \"%m/%d/%Y\",  # '10/25/2006'\n",
                "    \"%m/%d/%y\",  # '10/25/06'\n",
                "    # \"%b %d %Y\",  # 'Oct 25 2006'\n",
                "    # \"%b %d, %Y\",  # 'Oct 25, 2006'\n",
                "    # \"%d %b %Y\",  # '25 Oct 2006'\n",
                "    # \"%d %b, %Y\",  #'25 Oct, 2006'\n",
                "    # \"%B %d %Y\",  # 'October 25 2006'\n",
                "    # \"%B %d, %Y\",  #'October 25, 2006'\n",
                "    # \"%d %B %Y\",  # '25 October 2006'\n",
                "    # \"%d %B, %Y\",  # '25 October, 2006'\n",
                "    \"%Y\ub144 %m\uc6d4 %d\uc77c\",  # '2006\ub144 10\uc6d4 25\uc77c', with localized suffix.\n",
                "]\n",
                "TIME_INPUT_FORMATS = [\n",
                "    \"%H:%M:%S\",  # '14:30:59'\n",
                "    \"%H:%M:%S.%f\",  # '14:30:59.000200'\n",
                "    \"%H:%M\",  # '14:30'\n",
                "    \"%H\uc2dc %M\ubd84 %S\ucd08\",  # '14\uc2dc 30\ubd84 59\ucd08'\n",
                "    \"%H\uc2dc %M\ubd84\",  # '14\uc2dc 30\ubd84'\n",
                "]\n",
                "DATETIME_INPUT_FORMATS = [\n",
                "    \"%Y-%m-%d %H:%M:%S\",  # '2006-10-25 14:30:59'\n",
                "    \"%Y-%m-%d %H:%M:%S.%f\",  # '2006-10-25 14:30:59.000200'\n",
                "    \"%Y-%m-%d %H:%M\",  # '2006-10-25 14:30'\n",
                "    \"%m/%d/%Y %H:%M:%S\",  # '10/25/2006 14:30:59'\n",
                "    \"%m/%d/%Y %H:%M:%S.%f\",  # '10/25/2006 14:30:59.000200'\n",
                "    \"%m/%d/%Y %H:%M\",  # '10/25/2006 14:30'\n",
                "    \"%m/%d/%y %H:%M:%S\",  # '10/25/06 14:30:59'\n",
                "    \"%m/%d/%y %H:%M:%S.%f\",  # '10/25/06 14:30:59.000200'\n",
                "    \"%m/%d/%y %H:%M\",  # '10/25/06 14:30'\n",
                "    \"%Y\ub144 %m\uc6d4 %d\uc77c %H\uc2dc %M\ubd84 %S\ucd08\",  # '2006\ub144 10\uc6d4 25\uc77c 14\uc2dc 30\ubd84 59\ucd08'\n",
                "    \"%Y\ub144 %m\uc6d4 %d\uc77c %H\uc2dc %M\ubd84\",  # '2006\ub144 10\uc6d4 25\uc77c 14\uc2dc 30\ubd84'\n",
                "]\n",
                "\n",
                "DECIMAL_SEPARATOR = \".\"\n",
                "THOUSAND_SEPARATOR = \",\"\n",
                "NUMBER_GROUPING = 3\n",
                "\n"
            ]
        },
        {
            "cell_type": "markdown",
            "metadata": {},
            "source": []
        }
    ],
    "metadata": {
        "language_info": {
            "name": "python"
        }
    },
    "nbformat": 4,
    "nbformat_minor": 2
}