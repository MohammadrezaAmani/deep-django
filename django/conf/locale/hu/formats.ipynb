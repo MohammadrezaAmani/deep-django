{
 "cells": [
  {
   "cell_type": "code",
   "execution_count": null,
   "metadata": {},
   "outputs": [],
   "source": [
    "# This file is distributed under the same license as the Django package.\n",
    "#\n",
    "# The *_FORMAT strings use the Django date format syntax,\n",
    "# see https://docs.djangoproject.com/en/dev/ref/templates/builtins/#date\n",
    "DATE_FORMAT = \"Y. F j.\"\n",
    "TIME_FORMAT = \"H:i\"\n",
    "DATETIME_FORMAT = \"Y. F j. H:i\"\n",
    "YEAR_MONTH_FORMAT = \"Y. F\"\n",
    "MONTH_DAY_FORMAT = \"F j.\"\n",
    "SHORT_DATE_FORMAT = \"Y.m.d.\"\n",
    "SHORT_DATETIME_FORMAT = \"Y.m.d. H:i\"\n",
    "FIRST_DAY_OF_WEEK = 1  # Monday\n",
    "\n",
    "# The *_INPUT_FORMATS strings use the Python strftime format syntax,\n",
    "# see https://docs.python.org/library/datetime.html#strftime-strptime-behavior\n",
    "DATE_INPUT_FORMATS = [\n",
    "    \"%Y.%m.%d.\",  # '2006.10.25.'\n",
    "]\n",
    "TIME_INPUT_FORMATS = [\n",
    "    \"%H:%M:%S\",  # '14:30:59'\n",
    "    \"%H:%M\",  # '14:30'\n",
    "]\n",
    "DATETIME_INPUT_FORMATS = [\n",
    "    \"%Y.%m.%d. %H:%M:%S\",  # '2006.10.25. 14:30:59'\n",
    "    \"%Y.%m.%d. %H:%M:%S.%f\",  # '2006.10.25. 14:30:59.000200'\n",
    "    \"%Y.%m.%d. %H:%M\",  # '2006.10.25. 14:30'\n",
    "]\n",
    "DECIMAL_SEPARATOR = \",\"\n",
    "THOUSAND_SEPARATOR = \" \"  # Non-breaking space\n",
    "NUMBER_GROUPING = 3"
   ]
  },
  {
   "cell_type": "markdown",
   "metadata": {},
   "source": []
  }
 ],
 "metadata": {
  "language_info": {
   "name": "python"
  }
 },
 "nbformat": 4,
 "nbformat_minor": 2
}