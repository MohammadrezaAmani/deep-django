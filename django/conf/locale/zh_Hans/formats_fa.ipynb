{
 "cells": [
  {
   "cell_type": "code",
   "execution_count": null,
   "metadata": {},
   "outputs": [],
   "source": [
    "# This file is distributed under the same license as the Django package.\n",
    "#\n",
    "# The *_FORMAT strings use the Django date format syntax,\n",
    "# see https://docs.djangoproject.com/en/dev/ref/templates/builtins/#date\n",
    "DATE_FORMAT = \"Y年n月j日\"  # 2016年9月5日\n",
    "TIME_FORMAT = \"H:i\"  # 20:45\n",
    "DATETIME_FORMAT = \"Y年n月j日 H:i\"  # 2016年9月5日 20:45\n",
    "YEAR_MONTH_FORMAT = \"Y年n月\"  # 2016年9月\n",
    "MONTH_DAY_FORMAT = \"m月j日\"  # 9月5日\n",
    "SHORT_DATE_FORMAT = \"Y年n月j日\"  # 2016年9月5日\n",
    "SHORT_DATETIME_FORMAT = \"Y年n月j日 H:i\"  # 2016年9月5日 20:45\n",
    "FIRST_DAY_OF_WEEK = 1  # 星期一 (Monday)\n",
    "\n",
    "# The *_INPUT_FORMATS strings use the Python strftime format syntax,\n",
    "# see https://docs.python.org/library/datetime.html#strftime-strptime-behavior\n",
    "DATE_INPUT_FORMATS = [\n",
    "    \"%Y/%m/%d\",  # '2016/09/05'\n",
    "    \"%Y-%m-%d\",  # '2016-09-05'\n",
    "    \"%Y年%n月%j日\",  # '2016年9月5日'\n",
    "]\n",
    "\n",
    "TIME_INPUT_FORMATS = [\n",
    "    \"%H:%M\",  # '20:45'\n",
    "    \"%H:%M:%S\",  # '20:45:29'\n",
    "    \"%H:%M:%S.%f\",  # '20:45:29.000200'\n",
    "]\n",
    "\n",
    "DATETIME_INPUT_FORMATS = [\n",
    "    \"%Y/%m/%d %H:%M\",  # '2016/09/05 20:45'\n",
    "    \"%Y-%m-%d %H:%M\",  # '2016-09-05 20:45'\n",
    "    \"%Y年%n月%j日 %H:%M\",  # '2016年9月5日 14:45'\n",
    "    \"%Y/%m/%d %H:%M:%S\",  # '2016/09/05 20:45:29'\n",
    "    \"%Y-%m-%d %H:%M:%S\",  # '2016-09-05 20:45:29'\n",
    "    \"%Y年%n月%j日 %H:%M:%S\",  # '2016年9月5日 20:45:29'\n",
    "    \"%Y/%m/%d %H:%M:%S.%f\",  # '2016/09/05 20:45:29.000200'\n",
    "    \"%Y-%m-%d %H:%M:%S.%f\",  # '2016-09-05 20:45:29.000200'\n",
    "    \"%Y年%n月%j日 %H:%n:%S.%f\",  # '2016年9月5日 20:45:29.000200'\n",
    "]\n",
    "\n",
    "DECIMAL_SEPARATOR = \".\"\n",
    "THOUSAND_SEPARATOR = \"\"\n",
    "NUMBER_GROUPING = 4"
   ]
  },
  {
   "cell_type": "markdown",
   "metadata": {},
   "source": []
  }
 ],
 "metadata": {
  "language_info": {
   "name": "python"
  }
 },
 "nbformat": 4,
 "nbformat_minor": 2
}