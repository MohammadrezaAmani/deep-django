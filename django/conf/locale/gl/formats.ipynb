{
    "cells": [
        {
            "cell_type": "code",
            "execution_count": null,
            "metadata": {},
            "outputs": [],
            "source": [
                "# This file is distributed under the same license as the Django package.\n",
                "#\n",
                "# The *_FORMAT strings use the Django date format syntax,\n",
                "# see https://docs.djangoproject.com/en/dev/ref/templates/builtins/#date\n",
                "DATE_FORMAT = r\"j \\d\\e F \\d\\e Y\"\n",
                "TIME_FORMAT = \"H:i\"\n",
                "DATETIME_FORMAT = r\"j \\d\\e F \\d\\e Y \\\u00e1\\s H:i\"\n",
                "YEAR_MONTH_FORMAT = r\"F \\d\\e Y\"\n",
                "MONTH_DAY_FORMAT = r\"j \\d\\e F\"\n",
                "SHORT_DATE_FORMAT = \"d-m-Y\"\n",
                "SHORT_DATETIME_FORMAT = \"d-m-Y, H:i\"\n",
                "FIRST_DAY_OF_WEEK = 1  # Monday\n",
                "\n",
                "# The *_INPUT_FORMATS strings use the Python strftime format syntax,\n",
                "# see https://docs.python.org/library/datetime.html#strftime-strptime-behavior\n",
                "# DATE_INPUT_FORMATS =\n",
                "# TIME_INPUT_FORMATS =\n",
                "# DATETIME_INPUT_FORMATS =\n",
                "DECIMAL_SEPARATOR = \",\"\n",
                "THOUSAND_SEPARATOR = \".\"\n",
                "# NUMBER_GROUPING =\n",
                "\n"
            ]
        },
        {
            "cell_type": "markdown",
            "metadata": {},
            "source": []
        }
    ],
    "metadata": {
        "language_info": {
            "name": "python"
        }
    },
    "nbformat": 4,
    "nbformat_minor": 2
}