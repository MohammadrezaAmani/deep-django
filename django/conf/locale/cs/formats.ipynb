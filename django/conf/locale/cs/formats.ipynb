{
 "cells": [
  {
   "cell_type": "code",
   "execution_count": null,
   "metadata": {},
   "outputs": [],
   "source": [
    "# This file is distributed under the same license as the Django package.\n",
    "#\n",
    "# The *_FORMAT strings use the Django date format syntax,\n",
    "# see https://docs.djangoproject.com/en/dev/ref/templates/builtins/#date\n",
    "DATE_FORMAT = \"j. E Y\"\n",
    "TIME_FORMAT = \"G:i\"\n",
    "DATETIME_FORMAT = \"j. E Y G:i\"\n",
    "YEAR_MONTH_FORMAT = \"F Y\"\n",
    "MONTH_DAY_FORMAT = \"j. F\"\n",
    "SHORT_DATE_FORMAT = \"d.m.Y\"\n",
    "SHORT_DATETIME_FORMAT = \"d.m.Y G:i\"\n",
    "FIRST_DAY_OF_WEEK = 1  # Monday\n",
    "\n",
    "# The *_INPUT_FORMATS strings use the Python strftime format syntax,\n",
    "# see https://docs.python.org/library/datetime.html#strftime-strptime-behavior\n",
    "DATE_INPUT_FORMATS = [\n",
    "    \"%d.%m.%Y\",  # '05.01.2006'\n",
    "    \"%d.%m.%y\",  # '05.01.06'\n",
    "    \"%d. %m. %Y\",  # '5. 1. 2006'\n",
    "    \"%d. %m. %y\",  # '5. 1. 06'\n",
    "    # \"%d. %B %Y\",  # '25. October 2006'\n",
    "    # \"%d. %b. %Y\",  # '25. Oct. 2006'\n",
    "]\n",
    "# Kept ISO formats as one is in first position\n",
    "TIME_INPUT_FORMATS = [\n",
    "    \"%H:%M:%S\",  # '04:30:59'\n",
    "    \"%H.%M\",  # '04.30'\n",
    "    \"%H:%M\",  # '04:30'\n",
    "]\n",
    "DATETIME_INPUT_FORMATS = [\n",
    "    \"%d.%m.%Y %H:%M:%S\",  # '05.01.2006 04:30:59'\n",
    "    \"%d.%m.%Y %H:%M:%S.%f\",  # '05.01.2006 04:30:59.000200'\n",
    "    \"%d.%m.%Y %H.%M\",  # '05.01.2006 04.30'\n",
    "    \"%d.%m.%Y %H:%M\",  # '05.01.2006 04:30'\n",
    "    \"%d. %m. %Y %H:%M:%S\",  # '05. 01. 2006 04:30:59'\n",
    "    \"%d. %m. %Y %H:%M:%S.%f\",  # '05. 01. 2006 04:30:59.000200'\n",
    "    \"%d. %m. %Y %H.%M\",  # '05. 01. 2006 04.30'\n",
    "    \"%d. %m. %Y %H:%M\",  # '05. 01. 2006 04:30'\n",
    "    \"%Y-%m-%d %H.%M\",  # '2006-01-05 04.30'\n",
    "]\n",
    "DECIMAL_SEPARATOR = \",\"\n",
    "THOUSAND_SEPARATOR = \"\\xa0\"  # non-breaking space\n",
    "NUMBER_GROUPING = 3"
   ]
  },
  {
   "cell_type": "markdown",
   "metadata": {},
   "source": []
  }
 ],
 "metadata": {
  "language_info": {
   "name": "python"
  }
 },
 "nbformat": 4,
 "nbformat_minor": 2
}