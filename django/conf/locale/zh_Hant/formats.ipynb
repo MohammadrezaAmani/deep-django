{
    "cells": [
        {
            "cell_type": "code",
            "execution_count": null,
            "metadata": {},
            "outputs": [],
            "source": [
                "# This file is distributed under the same license as the Django package.\n",
                "#\n",
                "# The *_FORMAT strings use the Django date format syntax,\n",
                "# see https://docs.djangoproject.com/en/dev/ref/templates/builtins/#date\n",
                "DATE_FORMAT = \"Y\u5e74n\u6708j\u65e5\"  # 2016\u5e749\u67085\u65e5\n",
                "TIME_FORMAT = \"H:i\"  # 20:45\n",
                "DATETIME_FORMAT = \"Y\u5e74n\u6708j\u65e5 H:i\"  # 2016\u5e749\u67085\u65e5 20:45\n",
                "YEAR_MONTH_FORMAT = \"Y\u5e74n\u6708\"  # 2016\u5e749\u6708\n",
                "MONTH_DAY_FORMAT = \"m\u6708j\u65e5\"  # 9\u67085\u65e5\n",
                "SHORT_DATE_FORMAT = \"Y\u5e74n\u6708j\u65e5\"  # 2016\u5e749\u67085\u65e5\n",
                "SHORT_DATETIME_FORMAT = \"Y\u5e74n\u6708j\u65e5 H:i\"  # 2016\u5e749\u67085\u65e5 20:45\n",
                "FIRST_DAY_OF_WEEK = 1  # \u661f\u671f\u4e00 (Monday)\n",
                "\n",
                "# The *_INPUT_FORMATS strings use the Python strftime format syntax,\n",
                "# see https://docs.python.org/library/datetime.html#strftime-strptime-behavior\n",
                "DATE_INPUT_FORMATS = [\n",
                "    \"%Y/%m/%d\",  # '2016/09/05'\n",
                "    \"%Y-%m-%d\",  # '2016-09-05'\n",
                "    \"%Y\u5e74%n\u6708%j\u65e5\",  # '2016\u5e749\u67085\u65e5'\n",
                "]\n",
                "\n",
                "TIME_INPUT_FORMATS = [\n",
                "    \"%H:%M\",  # '20:45'\n",
                "    \"%H:%M:%S\",  # '20:45:29'\n",
                "    \"%H:%M:%S.%f\",  # '20:45:29.000200'\n",
                "]\n",
                "\n",
                "DATETIME_INPUT_FORMATS = [\n",
                "    \"%Y/%m/%d %H:%M\",  # '2016/09/05 20:45'\n",
                "    \"%Y-%m-%d %H:%M\",  # '2016-09-05 20:45'\n",
                "    \"%Y\u5e74%n\u6708%j\u65e5 %H:%M\",  # '2016\u5e749\u67085\u65e5 14:45'\n",
                "    \"%Y/%m/%d %H:%M:%S\",  # '2016/09/05 20:45:29'\n",
                "    \"%Y-%m-%d %H:%M:%S\",  # '2016-09-05 20:45:29'\n",
                "    \"%Y\u5e74%n\u6708%j\u65e5 %H:%M:%S\",  # '2016\u5e749\u67085\u65e5 20:45:29'\n",
                "    \"%Y/%m/%d %H:%M:%S.%f\",  # '2016/09/05 20:45:29.000200'\n",
                "    \"%Y-%m-%d %H:%M:%S.%f\",  # '2016-09-05 20:45:29.000200'\n",
                "    \"%Y\u5e74%n\u6708%j\u65e5 %H:%n:%S.%f\",  # '2016\u5e749\u67085\u65e5 20:45:29.000200'\n",
                "]\n",
                "\n",
                "DECIMAL_SEPARATOR = \".\"\n",
                "THOUSAND_SEPARATOR = \"\"\n",
                "NUMBER_GROUPING = 4\n",
                "\n"
            ]
        },
        {
            "cell_type": "markdown",
            "metadata": {},
            "source": []
        }
    ],
    "metadata": {
        "language_info": {
            "name": "python"
        }
    },
    "nbformat": 4,
    "nbformat_minor": 2
}