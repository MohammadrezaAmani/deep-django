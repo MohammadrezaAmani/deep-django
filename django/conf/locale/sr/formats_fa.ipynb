{
 "cells": [
  {
   "cell_type": "code",
   "execution_count": null,
   "metadata": {},
   "outputs": [],
   "source": [
    "# This file is distributed under the same license as the Django package.\n",
    "#\n",
    "# The *_FORMAT strings use the Django date format syntax,\n",
    "# see https://docs.djangoproject.com/en/dev/ref/templates/builtins/#date\n",
    "DATE_FORMAT = \"j. F Y.\"\n",
    "TIME_FORMAT = \"H:i\"\n",
    "DATETIME_FORMAT = \"j. F Y. H:i\"\n",
    "YEAR_MONTH_FORMAT = \"F Y.\"\n",
    "MONTH_DAY_FORMAT = \"j. F\"\n",
    "SHORT_DATE_FORMAT = \"j.m.Y.\"\n",
    "SHORT_DATETIME_FORMAT = \"j.m.Y. H:i\"\n",
    "FIRST_DAY_OF_WEEK = 1\n",
    "\n",
    "# The *_INPUT_FORMATS strings use the Python strftime format syntax,\n",
    "# see https://docs.python.org/library/datetime.html#strftime-strptime-behavior\n",
    "DATE_INPUT_FORMATS = [\n",
    "    \"%d.%m.%Y.\",  # '25.10.2006.'\n",
    "    \"%d.%m.%y.\",  # '25.10.06.'\n",
    "    \"%d. %m. %Y.\",  # '25. 10. 2006.'\n",
    "    \"%d. %m. %y.\",  # '25. 10. 06.'\n",
    "    # \"%d. %b %y.\",  # '25. Oct 06.'\n",
    "    # \"%d. %B %y.\",  # '25. October 06.'\n",
    "    # \"%d. %b '%y.\",  # '25. Oct '06.'\n",
    "    # \"%d. %B '%y.\",  # '25. October '06.'\n",
    "    # \"%d. %b %Y.\",  # '25. Oct 2006.'\n",
    "    # \"%d. %B %Y.\",  # '25. October 2006.'\n",
    "]\n",
    "DATETIME_INPUT_FORMATS = [\n",
    "    \"%d.%m.%Y. %H:%M:%S\",  # '25.10.2006. 14:30:59'\n",
    "    \"%d.%m.%Y. %H:%M:%S.%f\",  # '25.10.2006. 14:30:59.000200'\n",
    "    \"%d.%m.%Y. %H:%M\",  # '25.10.2006. 14:30'\n",
    "    \"%d.%m.%y. %H:%M:%S\",  # '25.10.06. 14:30:59'\n",
    "    \"%d.%m.%y. %H:%M:%S.%f\",  # '25.10.06. 14:30:59.000200'\n",
    "    \"%d.%m.%y. %H:%M\",  # '25.10.06. 14:30'\n",
    "    \"%d. %m. %Y. %H:%M:%S\",  # '25. 10. 2006. 14:30:59'\n",
    "    \"%d. %m. %Y. %H:%M:%S.%f\",  # '25. 10. 2006. 14:30:59.000200'\n",
    "    \"%d. %m. %Y. %H:%M\",  # '25. 10. 2006. 14:30'\n",
    "    \"%d. %m. %y. %H:%M:%S\",  # '25. 10. 06. 14:30:59'\n",
    "    \"%d. %m. %y. %H:%M:%S.%f\",  # '25. 10. 06. 14:30:59.000200'\n",
    "    \"%d. %m. %y. %H:%M\",  # '25. 10. 06. 14:30'\n",
    "]\n",
    "DECIMAL_SEPARATOR = \",\"\n",
    "THOUSAND_SEPARATOR = \".\"\n",
    "NUMBER_GROUPING = 3"
   ]
  },
  {
   "cell_type": "markdown",
   "metadata": {},
   "source": []
  }
 ],
 "metadata": {
  "language_info": {
   "name": "python"
  }
 },
 "nbformat": 4,
 "nbformat_minor": 2
}