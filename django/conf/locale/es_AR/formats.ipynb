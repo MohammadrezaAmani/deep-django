{
    "cells": [
        {
            "cell_type": "code",
            "execution_count": null,
            "metadata": {},
            "outputs": [],
            "source": [
                "# This file is distributed under the same license as the Django package.\n",
                "#\n",
                "# The *_FORMAT strings use the Django date format syntax,\n",
                "# see https://docs.djangoproject.com/en/dev/ref/templates/builtins/#date\n",
                "DATE_FORMAT = r\"j N Y\"\n",
                "TIME_FORMAT = r\"H:i\"\n",
                "DATETIME_FORMAT = r\"j N Y H:i\"\n",
                "YEAR_MONTH_FORMAT = r\"F Y\"\n",
                "MONTH_DAY_FORMAT = r\"j \\d\\e F\"\n",
                "SHORT_DATE_FORMAT = r\"d/m/Y\"\n",
                "SHORT_DATETIME_FORMAT = r\"d/m/Y H:i\"\n",
                "FIRST_DAY_OF_WEEK = 0  # 0: Sunday, 1: Monday\n",
                "\n",
                "# The *_INPUT_FORMATS strings use the Python strftime format syntax,\n",
                "# see https://docs.python.org/library/datetime.html#strftime-strptime-behavior\n",
                "DATE_INPUT_FORMATS = [\n",
                "    \"%d/%m/%Y\",  # '31/12/2009'\n",
                "    \"%d/%m/%y\",  # '31/12/09'\n",
                "]\n",
                "DATETIME_INPUT_FORMATS = [\n",
                "    \"%d/%m/%Y %H:%M:%S\",\n",
                "    \"%d/%m/%Y %H:%M:%S.%f\",\n",
                "    \"%d/%m/%Y %H:%M\",\n",
                "    \"%d/%m/%y %H:%M:%S\",\n",
                "    \"%d/%m/%y %H:%M:%S.%f\",\n",
                "    \"%d/%m/%y %H:%M\",\n",
                "]\n",
                "DECIMAL_SEPARATOR = \",\"\n",
                "THOUSAND_SEPARATOR = \".\"\n",
                "NUMBER_GROUPING = 3\n",
                "\n"
            ]
        },
        {
            "cell_type": "markdown",
            "metadata": {},
            "source": []
        }
    ],
    "metadata": {
        "language_info": {
            "name": "python"
        }
    },
    "nbformat": 4,
    "nbformat_minor": 2
}