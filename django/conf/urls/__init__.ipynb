{
    "cells": [
        {
            "cell_type": "code",
            "execution_count": null,
            "metadata": {},
            "outputs": [],
            "source": [
                "from django.urls import include\n",
                "from django.views import defaults\n",
                "\n",
                "__all__ = [\"handler400\", \"handler403\", \"handler404\", \"handler500\", \"include\"]\n",
                "\n",
                "handler400 = defaults.bad_request\n",
                "handler403 = defaults.permission_denied\n",
                "handler404 = defaults.page_not_found\n",
                "handler500 = defaults.server_error\n",
                "\n"
            ]
        },
        {
            "cell_type": "markdown",
            "metadata": {},
            "source": []
        }
    ],
    "metadata": {
        "language_info": {
            "name": "python"
        }
    },
    "nbformat": 4,
    "nbformat_minor": 2
}