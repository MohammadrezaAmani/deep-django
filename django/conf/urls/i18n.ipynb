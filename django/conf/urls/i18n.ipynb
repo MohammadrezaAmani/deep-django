{
 "cells": [
  {
   "cell_type": "code",
   "execution_count": null,
   "metadata": {},
   "outputs": [],
   "source": [
    "import functools\n",
    "\n",
    "from django.conf import settings\n",
    "from django.urls import LocalePrefixPattern, URLResolver, get_resolver, path\n",
    "from django.views.i18n import set_language"
   ]
  },
  {
   "cell_type": "markdown",
   "metadata": {},
   "source": []
  },
  {
   "cell_type": "code",
   "execution_count": null,
   "metadata": {},
   "outputs": [],
   "source": [
    "def i18n_patterns(*urls, prefix_default_language=True):\n",
    "    \"\"\"\n",
    "    Add the language code prefix to every URL pattern within this function.\n",
    "    This may only be used in the root URLconf, not in an included URLconf.\n",
    "    \"\"\"\n",
    "    if not settings.USE_I18N:\n",
    "        return list(urls)\n",
    "    return [\n",
    "        URLResolver(\n",
    "            LocalePrefixPattern(prefix_default_language=prefix_default_language),\n",
    "            list(urls),\n",
    "        )\n",
    "    ]"
   ]
  },
  {
   "cell_type": "markdown",
   "metadata": {},
   "source": []
  },
  {
   "cell_type": "code",
   "execution_count": null,
   "metadata": {},
   "outputs": [],
   "source": [
    "@functools.cache\n",
    "def is_language_prefix_patterns_used(urlconf):\n",
    "    \"\"\"\n",
    "    Return a tuple of two booleans: (\n",
    "        `True` if i18n_patterns() (LocalePrefixPattern) is used in the URLconf,\n",
    "        `True` if the default language should be prefixed\n",
    "    )\n",
    "    \"\"\"\n",
    "    for url_pattern in get_resolver(urlconf).url_patterns:\n",
    "        if isinstance(url_pattern.pattern, LocalePrefixPattern):\n",
    "            return True, url_pattern.pattern.prefix_default_language\n",
    "    return False, False"
   ]
  },
  {
   "cell_type": "markdown",
   "metadata": {},
   "source": []
  },
  {
   "cell_type": "code",
   "execution_count": null,
   "metadata": {},
   "outputs": [],
   "source": [
    "urlpatterns = [\n",
    "    path(\"setlang/\", set_language, name=\"set_language\"),\n",
    "]"
   ]
  },
  {
   "cell_type": "markdown",
   "metadata": {},
   "source": []
  }
 ],
 "metadata": {
  "language_info": {
   "name": "python"
  }
 },
 "nbformat": 4,
 "nbformat_minor": 2
}