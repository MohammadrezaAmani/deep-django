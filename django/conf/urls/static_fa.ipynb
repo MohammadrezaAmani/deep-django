{
    "cells": [
        {
            "cell_type": "code",
            "execution_count": null,
            "metadata": {},
            "outputs": [],
            "source": [
                "import re\n",
                "from urllib.parse import urlsplit\n",
                "\n",
                "from django.conf import settings\n",
                "from django.core.exceptions import ImproperlyConfigured\n",
                "from django.urls import re_path\n",
                "from django.views.static import serve\n"
            ]
        },
        {
            "cell_type": "markdown",
            "metadata": {},
            "source": []
        },
        {
            "cell_type": "code",
            "execution_count": null,
            "metadata": {},
            "outputs": [],
            "source": [
                "def static(prefix, view=serve, **kwargs):\n",
                "    \"\"\"\n",
                "    Return a URL pattern for serving files in debug mode.\n",
                "\n",
                "    from django.conf import settings\n",
                "    from django.conf.urls.static import static\n",
                "\n",
                "    urlpatterns = [\n",
                "        # ... the rest of your URLconf goes here ...\n",
                "    ] + static(settings.MEDIA_URL, document_root=settings.MEDIA_ROOT)\n",
                "    \"\"\"\n",
                "    if not prefix:\n",
                "        raise ImproperlyConfigured(\"Empty static prefix not permitted\")\n",
                "    elif not settings.DEBUG or urlsplit(prefix).netloc:\n",
                "        # No-op if not in debug mode or a non-local prefix.\n",
                "        return []\n",
                "    return [\n",
                "        re_path(\n",
                "            r\"^%s(?P<path>.*)$\" % re.escape(prefix.lstrip(\"/\")), view, kwargs=kwargs\n",
                "        ),\n",
                "    ]\n",
                "\n"
            ]
        },
        {
            "cell_type": "markdown",
            "metadata": {},
            "source": []
        }
    ],
    "metadata": {
        "language_info": {
            "name": "python"
        }
    },
    "nbformat": 4,
    "nbformat_minor": 2
}