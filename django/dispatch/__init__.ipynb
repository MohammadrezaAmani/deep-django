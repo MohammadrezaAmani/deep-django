{
 "cells": [
  {
   "cell_type": "code",
   "execution_count": null,
   "metadata": {},
   "outputs": [],
   "source": [
    "\"\"\"Multi-consumer multi-producer dispatching mechanism\n",
    "\n",
    "Originally based on pydispatch (BSD) https://pypi.org/project/PyDispatcher/2.0.1/\n",
    "See license.txt for original license.\n",
    "\n",
    "Heavily modified for Django's purposes.\n",
    "\"\"\"\n",
    "\n",
    "from django.dispatch.dispatcher import Signal, receiver  # NOQA"
   ]
  },
  {
   "cell_type": "markdown",
   "metadata": {},
   "source": []
  }
 ],
 "metadata": {
  "language_info": {
   "name": "python"
  }
 },
 "nbformat": 4,
 "nbformat_minor": 2
}