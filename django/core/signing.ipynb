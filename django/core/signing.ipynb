{
    "cells": [
        {
            "cell_type": "code",
            "execution_count": null,
            "metadata": {},
            "outputs": [],
            "source": [
                "\"\"\"\n",
                "Functions for creating and restoring url-safe signed JSON objects.\n",
                "\n",
                "The format used looks like this:\n",
                "\n",
                ">>> signing.dumps(\"hello\")\n",
                "'ImhlbGxvIg:1QaUZC:YIye-ze3TTx7gtSv422nZA4sgmk'\n",
                "\n",
                "There are two components here, separated by a ':'. The first component is a\n",
                "URLsafe base64 encoded JSON of the object passed to dumps(). The second\n",
                "component is a base64 encoded hmac/SHA-256 hash of \"$first_component:$secret\"\n",
                "\n",
                "signing.loads(s) checks the signature and returns the deserialized object.\n",
                "If the signature fails, a BadSignature exception is raised.\n",
                "\n",
                ">>> signing.loads(\"ImhlbGxvIg:1QaUZC:YIye-ze3TTx7gtSv422nZA4sgmk\")\n",
                "'hello'\n",
                ">>> signing.loads(\"ImhlbGxvIg:1QaUZC:YIye-ze3TTx7gtSv42-modified\")\n",
                "...\n",
                "BadSignature: Signature \"ImhlbGxvIg:1QaUZC:YIye-ze3TTx7gtSv42-modified\" does not match\n",
                "\n",
                "You can optionally compress the JSON prior to base64 encoding it to save\n",
                "space, using the compress=True argument. This checks if compression actually\n",
                "helps and only applies compression if the result is a shorter string:\n",
                "\n",
                ">>> signing.dumps(list(range(1, 20)), compress=True)\n",
                "'.eJwFwcERACAIwLCF-rCiILN47r-GyZVJsNgkxaFxoDgxcOHGxMKD_T7vhAml:1QaUaL:BA0thEZrp4FQVXIXuOvYJtLJSrQ'\n",
                "\n",
                "The fact that the string is compressed is signalled by the prefixed '.' at the\n",
                "start of the base64 JSON.\n",
                "\n",
                "There are 65 url-safe characters: the 64 used by url-safe base64 and the ':'.\n",
                "These functions make use of all of them.\n",
                "\"\"\"\n",
                "\n",
                "import base64\n",
                "import datetime\n",
                "import json\n",
                "import time\n",
                "import warnings\n",
                "import zlib\n",
                "\n",
                "from django.conf import settings\n",
                "from django.utils.crypto import constant_time_compare, salted_hmac\n",
                "from django.utils.deprecation import RemovedInDjango51Warning\n",
                "from django.utils.encoding import force_bytes\n",
                "from django.utils.module_loading import import_string\n",
                "from django.utils.regex_helper import _lazy_re_compile\n",
                "\n",
                "_SEP_UNSAFE = _lazy_re_compile(r\"^[A-z0-9-_=]*$\")\n",
                "BASE62_ALPHABET = \"0123456789ABCDEFGHIJKLMNOPQRSTUVWXYZabcdefghijklmnopqrstuvwxyz\"\n"
            ]
        },
        {
            "cell_type": "markdown",
            "metadata": {},
            "source": []
        },
        {
            "cell_type": "code",
            "execution_count": null,
            "metadata": {},
            "outputs": [],
            "source": [
                "class BadSignature(Exception):\n",
                "    \"\"\"Signature does not match.\"\"\"\n",
                "\n",
                "    pass\n"
            ]
        },
        {
            "cell_type": "markdown",
            "metadata": {},
            "source": []
        },
        {
            "cell_type": "code",
            "execution_count": null,
            "metadata": {},
            "outputs": [],
            "source": [
                "class SignatureExpired(BadSignature):\n",
                "    \"\"\"Signature timestamp is older than required max_age.\"\"\"\n",
                "\n",
                "    pass\n"
            ]
        },
        {
            "cell_type": "markdown",
            "metadata": {},
            "source": []
        },
        {
            "cell_type": "code",
            "execution_count": null,
            "metadata": {},
            "outputs": [],
            "source": [
                "def b62_encode(s):\n",
                "    if s == 0:\n",
                "        return \"0\"\n",
                "    sign = \"-\" if s < 0 else \"\"\n",
                "    s = abs(s)\n",
                "    encoded = \"\"\n",
                "    while s > 0:\n",
                "        s, remainder = divmod(s, 62)\n",
                "        encoded = BASE62_ALPHABET[remainder] + encoded\n",
                "    return sign + encoded\n"
            ]
        },
        {
            "cell_type": "markdown",
            "metadata": {},
            "source": []
        },
        {
            "cell_type": "code",
            "execution_count": null,
            "metadata": {},
            "outputs": [],
            "source": [
                "def b62_decode(s):\n",
                "    if s == \"0\":\n",
                "        return 0\n",
                "    sign = 1\n",
                "    if s[0] == \"-\":\n",
                "        s = s[1:]\n",
                "        sign = -1\n",
                "    decoded = 0\n",
                "    for digit in s:\n",
                "        decoded = decoded * 62 + BASE62_ALPHABET.index(digit)\n",
                "    return sign * decoded\n"
            ]
        },
        {
            "cell_type": "markdown",
            "metadata": {},
            "source": []
        },
        {
            "cell_type": "code",
            "execution_count": null,
            "metadata": {},
            "outputs": [],
            "source": [
                "def b64_encode(s):\n",
                "    return base64.urlsafe_b64encode(s).strip(b\"=\")\n"
            ]
        },
        {
            "cell_type": "markdown",
            "metadata": {},
            "source": []
        },
        {
            "cell_type": "code",
            "execution_count": null,
            "metadata": {},
            "outputs": [],
            "source": [
                "def b64_decode(s):\n",
                "    pad = b\"=\" * (-len(s) % 4)\n",
                "    return base64.urlsafe_b64decode(s + pad)\n"
            ]
        },
        {
            "cell_type": "markdown",
            "metadata": {},
            "source": []
        },
        {
            "cell_type": "code",
            "execution_count": null,
            "metadata": {},
            "outputs": [],
            "source": [
                "def base64_hmac(salt, value, key, algorithm=\"sha1\"):\n",
                "    return b64_encode(\n",
                "        salted_hmac(salt, value, key, algorithm=algorithm).digest()\n",
                "    ).decode()\n"
            ]
        },
        {
            "cell_type": "markdown",
            "metadata": {},
            "source": []
        },
        {
            "cell_type": "code",
            "execution_count": null,
            "metadata": {},
            "outputs": [],
            "source": [
                "def _cookie_signer_key(key):\n",
                "    # SECRET_KEYS items may be str or bytes.\n",
                "    return b\"django.http.cookies\" + force_bytes(key)\n"
            ]
        },
        {
            "cell_type": "markdown",
            "metadata": {},
            "source": []
        },
        {
            "cell_type": "code",
            "execution_count": null,
            "metadata": {},
            "outputs": [],
            "source": [
                "def get_cookie_signer(salt=\"django.core.signing.get_cookie_signer\"):\n",
                "    Signer = import_string(settings.SIGNING_BACKEND)\n",
                "    return Signer(\n",
                "        key=_cookie_signer_key(settings.SECRET_KEY),\n",
                "        fallback_keys=map(_cookie_signer_key, settings.SECRET_KEY_FALLBACKS),\n",
                "        salt=salt,\n",
                "    )\n"
            ]
        },
        {
            "cell_type": "markdown",
            "metadata": {},
            "source": []
        },
        {
            "cell_type": "code",
            "execution_count": null,
            "metadata": {},
            "outputs": [],
            "source": [
                "class JSONSerializer:\n",
                "    \"\"\"\n",
                "    Simple wrapper around json to be used in signing.dumps and\n",
                "    signing.loads.\n",
                "    \"\"\"\n",
                "\n",
                "    def dumps(self, obj):\n",
                "        return json.dumps(obj, separators=(\",\", \":\")).encode(\"latin-1\")\n",
                "\n",
                "    def loads(self, data):\n",
                "        return json.loads(data.decode(\"latin-1\"))\n"
            ]
        },
        {
            "cell_type": "markdown",
            "metadata": {},
            "source": []
        },
        {
            "cell_type": "code",
            "execution_count": null,
            "metadata": {},
            "outputs": [],
            "source": [
                "def dumps(\n",
                "    obj, key=None, salt=\"django.core.signing\", serializer=JSONSerializer, compress=False\n",
                "):\n",
                "    \"\"\"\n",
                "    Return URL-safe, hmac signed base64 compressed JSON string. If key is\n",
                "    None, use settings.SECRET_KEY instead. The hmac algorithm is the default\n",
                "    Signer algorithm.\n",
                "\n",
                "    If compress is True (not the default), check if compressing using zlib can\n",
                "    save some space. Prepend a '.' to signify compression. This is included\n",
                "    in the signature, to protect against zip bombs.\n",
                "\n",
                "    Salt can be used to namespace the hash, so that a signed string is\n",
                "    only valid for a given namespace. Leaving this at the default\n",
                "    value or re-using a salt value across different parts of your\n",
                "    application without good cause is a security risk.\n",
                "\n",
                "    The serializer is expected to return a bytestring.\n",
                "    \"\"\"\n",
                "    return TimestampSigner(key=key, salt=salt).sign_object(\n",
                "        obj, serializer=serializer, compress=compress\n",
                "    )\n"
            ]
        },
        {
            "cell_type": "markdown",
            "metadata": {},
            "source": []
        },
        {
            "cell_type": "code",
            "execution_count": null,
            "metadata": {},
            "outputs": [],
            "source": [
                "def loads(\n",
                "    s,\n",
                "    key=None,\n",
                "    salt=\"django.core.signing\",\n",
                "    serializer=JSONSerializer,\n",
                "    max_age=None,\n",
                "    fallback_keys=None,\n",
                "):\n",
                "    \"\"\"\n",
                "    Reverse of dumps(), raise BadSignature if signature fails.\n",
                "\n",
                "    The serializer is expected to accept a bytestring.\n",
                "    \"\"\"\n",
                "    return TimestampSigner(\n",
                "        key=key, salt=salt, fallback_keys=fallback_keys\n",
                "    ).unsign_object(\n",
                "        s,\n",
                "        serializer=serializer,\n",
                "        max_age=max_age,\n",
                "    )\n"
            ]
        },
        {
            "cell_type": "markdown",
            "metadata": {},
            "source": []
        },
        {
            "cell_type": "code",
            "execution_count": null,
            "metadata": {},
            "outputs": [],
            "source": [
                "class Signer:\n",
                "    # RemovedInDjango51Warning: When the deprecation ends, replace with:\n",
                "    # def __init__(\n",
                "    #   self, *, key=None, sep=\":\", salt=None, algorithm=None, fallback_keys=None\n",
                "    # ):\n",
                "    def __init__(\n",
                "        self,\n",
                "        *args,\n",
                "        key=None,\n",
                "        sep=\":\",\n",
                "        salt=None,\n",
                "        algorithm=None,\n",
                "        fallback_keys=None,\n",
                "    ):\n",
                "        self.key = key or settings.SECRET_KEY\n",
                "        self.fallback_keys = (\n",
                "            fallback_keys\n",
                "            if fallback_keys is not None\n",
                "            else settings.SECRET_KEY_FALLBACKS\n",
                "        )\n",
                "        self.sep = sep\n",
                "        self.salt = salt or \"%s.%s\" % (\n",
                "            self.__class__.__module__,\n",
                "            self.__class__.__name__,\n",
                "        )\n",
                "        self.algorithm = algorithm or \"sha256\"\n",
                "        # RemovedInDjango51Warning.\n",
                "        if args:\n",
                "            warnings.warn(\n",
                "                f\"Passing positional arguments to {self.__class__.__name__} is \"\n",
                "                f\"deprecated.\",\n",
                "                RemovedInDjango51Warning,\n",
                "                stacklevel=2,\n",
                "            )\n",
                "            for arg, attr in zip(\n",
                "                args, [\"key\", \"sep\", \"salt\", \"algorithm\", \"fallback_keys\"]\n",
                "            ):\n",
                "                if arg or attr == \"sep\":\n",
                "                    setattr(self, attr, arg)\n",
                "        if _SEP_UNSAFE.match(self.sep):\n",
                "            raise ValueError(\n",
                "                \"Unsafe Signer separator: %r (cannot be empty or consist of \"\n",
                "                \"only A-z0-9-_=)\" % sep,\n",
                "            )\n",
                "\n",
                "    def signature(self, value, key=None):\n",
                "        key = key or self.key\n",
                "        return base64_hmac(self.salt + \"signer\", value, key, algorithm=self.algorithm)\n",
                "\n",
                "    def sign(self, value):\n",
                "        return \"%s%s%s\" % (value, self.sep, self.signature(value))\n",
                "\n",
                "    def unsign(self, signed_value):\n",
                "        if self.sep not in signed_value:\n",
                "            raise BadSignature('No \"%s\" found in value' % self.sep)\n",
                "        value, sig = signed_value.rsplit(self.sep, 1)\n",
                "        for key in [self.key, *self.fallback_keys]:\n",
                "            if constant_time_compare(sig, self.signature(value, key)):\n",
                "                return value\n",
                "        raise BadSignature('Signature \"%s\" does not match' % sig)\n",
                "\n",
                "    def sign_object(self, obj, serializer=JSONSerializer, compress=False):\n",
                "        \"\"\"\n",
                "        Return URL-safe, hmac signed base64 compressed JSON string.\n",
                "\n",
                "        If compress is True (not the default), check if compressing using zlib\n",
                "        can save some space. Prepend a '.' to signify compression. This is\n",
                "        included in the signature, to protect against zip bombs.\n",
                "\n",
                "        The serializer is expected to return a bytestring.\n",
                "        \"\"\"\n",
                "        data = serializer().dumps(obj)\n",
                "        # Flag for if it's been compressed or not.\n",
                "        is_compressed = False\n",
                "\n",
                "        if compress:\n",
                "            # Avoid zlib dependency unless compress is being used.\n",
                "            compressed = zlib.compress(data)\n",
                "            if len(compressed) < (len(data) - 1):\n",
                "                data = compressed\n",
                "                is_compressed = True\n",
                "        base64d = b64_encode(data).decode()\n",
                "        if is_compressed:\n",
                "            base64d = \".\" + base64d\n",
                "        return self.sign(base64d)\n",
                "\n",
                "    def unsign_object(self, signed_obj, serializer=JSONSerializer, **kwargs):\n",
                "        # Signer.unsign() returns str but base64 and zlib compression operate\n",
                "        # on bytes.\n",
                "        base64d = self.unsign(signed_obj, **kwargs).encode()\n",
                "        decompress = base64d[:1] == b\".\"\n",
                "        if decompress:\n",
                "            # It's compressed; uncompress it first.\n",
                "            base64d = base64d[1:]\n",
                "        data = b64_decode(base64d)\n",
                "        if decompress:\n",
                "            data = zlib.decompress(data)\n",
                "        return serializer().loads(data)\n"
            ]
        },
        {
            "cell_type": "markdown",
            "metadata": {},
            "source": []
        },
        {
            "cell_type": "code",
            "execution_count": null,
            "metadata": {},
            "outputs": [],
            "source": [
                "class TimestampSigner(Signer):\n",
                "    def timestamp(self):\n",
                "        return b62_encode(int(time.time()))\n",
                "\n",
                "    def sign(self, value):\n",
                "        value = \"%s%s%s\" % (value, self.sep, self.timestamp())\n",
                "        return super().sign(value)\n",
                "\n",
                "    def unsign(self, value, max_age=None):\n",
                "        \"\"\"\n",
                "        Retrieve original value and check it wasn't signed more\n",
                "        than max_age seconds ago.\n",
                "        \"\"\"\n",
                "        result = super().unsign(value)\n",
                "        value, timestamp = result.rsplit(self.sep, 1)\n",
                "        timestamp = b62_decode(timestamp)\n",
                "        if max_age is not None:\n",
                "            if isinstance(max_age, datetime.timedelta):\n",
                "                max_age = max_age.total_seconds()\n",
                "            # Check timestamp is not older than max_age\n",
                "            age = time.time() - timestamp\n",
                "            if age > max_age:\n",
                "                raise SignatureExpired(\"Signature age %s > %s seconds\" % (age, max_age))\n",
                "        return value\n",
                "\n"
            ]
        },
        {
            "cell_type": "markdown",
            "metadata": {},
            "source": []
        }
    ],
    "metadata": {
        "language_info": {
            "name": "python"
        }
    },
    "nbformat": 4,
    "nbformat_minor": 2
}