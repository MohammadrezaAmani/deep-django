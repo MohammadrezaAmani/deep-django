{
    "cells": [
        {
            "cell_type": "code",
            "execution_count": null,
            "metadata": {},
            "outputs": [],
            "source": [
                "\"\"\"\n",
                "Utility functions for handling images.\n",
                "\n",
                "Requires Pillow as you might imagine.\n",
                "\"\"\"\n",
                "\n",
                "import struct\n",
                "import zlib\n",
                "\n",
                "from django.core.files import File\n"
            ]
        },
        {
            "cell_type": "markdown",
            "metadata": {},
            "source": []
        },
        {
            "cell_type": "code",
            "execution_count": null,
            "metadata": {},
            "outputs": [],
            "source": [
                "class ImageFile(File):\n",
                "    \"\"\"\n",
                "    A mixin for use alongside django.core.files.base.File, which provides\n",
                "    additional features for dealing with images.\n",
                "    \"\"\"\n",
                "\n",
                "    @property\n",
                "    def width(self):\n",
                "        return self._get_image_dimensions()[0]\n",
                "\n",
                "    @property\n",
                "    def height(self):\n",
                "        return self._get_image_dimensions()[1]\n",
                "\n",
                "    def _get_image_dimensions(self):\n",
                "        if not hasattr(self, \"_dimensions_cache\"):\n",
                "            close = self.closed\n",
                "            self.open()\n",
                "            self._dimensions_cache = get_image_dimensions(self, close=close)\n",
                "        return self._dimensions_cache\n"
            ]
        },
        {
            "cell_type": "markdown",
            "metadata": {},
            "source": []
        },
        {
            "cell_type": "code",
            "execution_count": null,
            "metadata": {},
            "outputs": [],
            "source": [
                "def get_image_dimensions(file_or_path, close=False):\n",
                "    \"\"\"\n",
                "    Return the (width, height) of an image, given an open file or a path.  Set\n",
                "    'close' to True to close the file at the end if it is initially in an open\n",
                "    state.\n",
                "    \"\"\"\n",
                "    from PIL import ImageFile as PillowImageFile\n",
                "\n",
                "    p = PillowImageFile.Parser()\n",
                "    if hasattr(file_or_path, \"read\"):\n",
                "        file = file_or_path\n",
                "        file_pos = file.tell()\n",
                "        file.seek(0)\n",
                "    else:\n",
                "        try:\n",
                "            file = open(file_or_path, \"rb\")\n",
                "        except OSError:\n",
                "            return (None, None)\n",
                "        close = True\n",
                "    try:\n",
                "        # Most of the time Pillow only needs a small chunk to parse the image\n",
                "        # and get the dimensions, but with some TIFF files Pillow needs to\n",
                "        # parse the whole file.\n",
                "        chunk_size = 1024\n",
                "        while 1:\n",
                "            data = file.read(chunk_size)\n",
                "            if not data:\n",
                "                break\n",
                "            try:\n",
                "                p.feed(data)\n",
                "            except zlib.error as e:\n",
                "                # ignore zlib complaining on truncated stream, just feed more\n",
                "                # data to parser (ticket #19457).\n",
                "                if e.args[0].startswith(\"Error -5\"):\n",
                "                    pass\n",
                "                else:\n",
                "                    raise\n",
                "            except struct.error:\n",
                "                # Ignore PIL failing on a too short buffer when reads return\n",
                "                # less bytes than expected. Skip and feed more data to the\n",
                "                # parser (ticket #24544).\n",
                "                pass\n",
                "            except RuntimeError:\n",
                "                # e.g. \"RuntimeError: could not create decoder object\" for\n",
                "                # WebP files. A different chunk_size may work.\n",
                "                pass\n",
                "            if p.image:\n",
                "                return p.image.size\n",
                "            chunk_size *= 2\n",
                "        return (None, None)\n",
                "    finally:\n",
                "        if close:\n",
                "            file.close()\n",
                "        else:\n",
                "            file.seek(file_pos)\n",
                "\n"
            ]
        },
        {
            "cell_type": "markdown",
            "metadata": {},
            "source": []
        }
    ],
    "metadata": {
        "language_info": {
            "name": "python"
        }
    },
    "nbformat": 4,
    "nbformat_minor": 2
}