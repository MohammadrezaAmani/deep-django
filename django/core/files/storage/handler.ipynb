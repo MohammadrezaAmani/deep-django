{
 "cells": [
  {
   "cell_type": "code",
   "execution_count": null,
   "metadata": {},
   "outputs": [],
   "source": [
    "from django.conf import DEFAULT_STORAGE_ALIAS, STATICFILES_STORAGE_ALIAS, settings\n",
    "from django.core.exceptions import ImproperlyConfigured\n",
    "from django.utils.functional import cached_property\n",
    "from django.utils.module_loading import import_string"
   ]
  },
  {
   "cell_type": "markdown",
   "metadata": {},
   "source": []
  },
  {
   "cell_type": "code",
   "execution_count": null,
   "metadata": {},
   "outputs": [],
   "source": [
    "class InvalidStorageError(ImproperlyConfigured):\n",
    "    pass"
   ]
  },
  {
   "cell_type": "markdown",
   "metadata": {},
   "source": []
  },
  {
   "cell_type": "code",
   "execution_count": null,
   "metadata": {},
   "outputs": [],
   "source": [
    "class StorageHandler:\n",
    "    def __init__(self, backends=None):\n",
    "        # backends is an optional dict of storage backend definitions\n",
    "        # (structured like settings.STORAGES).\n",
    "        self._backends = backends\n",
    "        self._storages = {}\n",
    "\n",
    "    @cached_property\n",
    "    def backends(self):\n",
    "        if self._backends is None:\n",
    "            self._backends = settings.STORAGES.copy()\n",
    "            # RemovedInDjango51Warning.\n",
    "            if settings.is_overridden(\"DEFAULT_FILE_STORAGE\"):\n",
    "                self._backends[DEFAULT_STORAGE_ALIAS] = {\n",
    "                    \"BACKEND\": settings.DEFAULT_FILE_STORAGE\n",
    "                }\n",
    "            if settings.is_overridden(\"STATICFILES_STORAGE\"):\n",
    "                self._backends[STATICFILES_STORAGE_ALIAS] = {\n",
    "                    \"BACKEND\": settings.STATICFILES_STORAGE\n",
    "                }\n",
    "        return self._backends\n",
    "\n",
    "    def __getitem__(self, alias):\n",
    "        try:\n",
    "            return self._storages[alias]\n",
    "        except KeyError:\n",
    "            try:\n",
    "                params = self.backends[alias]\n",
    "            except KeyError:\n",
    "                raise InvalidStorageError(\n",
    "                    f\"Could not find config for '{alias}' in settings.STORAGES.\"\n",
    "                )\n",
    "            storage = self.create_storage(params)\n",
    "            self._storages[alias] = storage\n",
    "            return storage\n",
    "\n",
    "    def create_storage(self, params):\n",
    "        params = params.copy()\n",
    "        backend = params.pop(\"BACKEND\")\n",
    "        options = params.pop(\"OPTIONS\", {})\n",
    "        try:\n",
    "            storage_cls = import_string(backend)\n",
    "        except ImportError as e:\n",
    "            raise InvalidStorageError(f\"Could not find backend {backend!r}: {e}\") from e\n",
    "        return storage_cls(**options)"
   ]
  },
  {
   "cell_type": "markdown",
   "metadata": {},
   "source": []
  }
 ],
 "metadata": {
  "language_info": {
   "name": "python"
  }
 },
 "nbformat": 4,
 "nbformat_minor": 2
}