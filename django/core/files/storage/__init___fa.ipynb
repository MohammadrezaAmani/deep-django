{
    "cells": [
        {
            "cell_type": "code",
            "execution_count": null,
            "metadata": {},
            "outputs": [],
            "source": [
                "import warnings\n",
                "\n",
                "from django.conf import DEFAULT_STORAGE_ALIAS, settings\n",
                "from django.utils.deprecation import RemovedInDjango51Warning\n",
                "from django.utils.functional import LazyObject\n",
                "from django.utils.module_loading import import_string\n",
                "\n",
                "from .base import Storage\n",
                "from .filesystem import FileSystemStorage\n",
                "from .handler import InvalidStorageError, StorageHandler\n",
                "from .memory import InMemoryStorage\n",
                "\n",
                "__all__ = (\n",
                "    \"FileSystemStorage\",\n",
                "    \"InMemoryStorage\",\n",
                "    \"Storage\",\n",
                "    \"DefaultStorage\",\n",
                "    \"default_storage\",\n",
                "    \"get_storage_class\",\n",
                "    \"InvalidStorageError\",\n",
                "    \"StorageHandler\",\n",
                "    \"storages\",\n",
                ")\n",
                "\n",
                "GET_STORAGE_CLASS_DEPRECATED_MSG = (\n",
                "    \"django.core.files.storage.get_storage_class is deprecated in favor of \"\n",
                "    \"using django.core.files.storage.storages.\"\n",
                ")\n"
            ]
        },
        {
            "cell_type": "markdown",
            "metadata": {},
            "source": []
        },
        {
            "cell_type": "code",
            "execution_count": null,
            "metadata": {},
            "outputs": [],
            "source": [
                "def get_storage_class(import_path=None):\n",
                "    warnings.warn(\n",
                "        GET_STORAGE_CLASS_DEPRECATED_MSG,\n",
                "        RemovedInDjango51Warning,\n",
                "        stacklevel=2,\n",
                "    )\n",
                "    return import_string(import_path or settings.DEFAULT_FILE_STORAGE)\n"
            ]
        },
        {
            "cell_type": "markdown",
            "metadata": {},
            "source": []
        },
        {
            "cell_type": "code",
            "execution_count": null,
            "metadata": {},
            "outputs": [],
            "source": [
                "class DefaultStorage(LazyObject):\n",
                "    def _setup(self):\n",
                "        self._wrapped = storages[DEFAULT_STORAGE_ALIAS]\n"
            ]
        },
        {
            "cell_type": "markdown",
            "metadata": {},
            "source": []
        },
        {
            "cell_type": "code",
            "execution_count": null,
            "metadata": {},
            "outputs": [],
            "source": [
                "storages = StorageHandler()\n",
                "default_storage = DefaultStorage()\n",
                "\n"
            ]
        },
        {
            "cell_type": "markdown",
            "metadata": {},
            "source": []
        }
    ],
    "metadata": {
        "language_info": {
            "name": "python"
        }
    },
    "nbformat": 4,
    "nbformat_minor": 2
}