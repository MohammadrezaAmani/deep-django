{
 "cells": [
  {
   "cell_type": "code",
   "execution_count": null,
   "metadata": {},
   "outputs": [],
   "source": [
    "class StorageSettingsMixin:\n",
    "    def _clear_cached_properties(self, setting, **kwargs):\n",
    "        \"\"\"Reset setting based property values.\"\"\"\n",
    "        if setting == \"MEDIA_ROOT\":\n",
    "            self.__dict__.pop(\"base_location\", None)\n",
    "            self.__dict__.pop(\"location\", None)\n",
    "        elif setting == \"MEDIA_URL\":\n",
    "            self.__dict__.pop(\"base_url\", None)\n",
    "        elif setting == \"FILE_UPLOAD_PERMISSIONS\":\n",
    "            self.__dict__.pop(\"file_permissions_mode\", None)\n",
    "        elif setting == \"FILE_UPLOAD_DIRECTORY_PERMISSIONS\":\n",
    "            self.__dict__.pop(\"directory_permissions_mode\", None)\n",
    "\n",
    "    def _value_or_setting(self, value, setting):\n",
    "        return setting if value is None else value"
   ]
  },
  {
   "cell_type": "markdown",
   "metadata": {},
   "source": []
  }
 ],
 "metadata": {
  "language_info": {
   "name": "python"
  }
 },
 "nbformat": 4,
 "nbformat_minor": 2
}