{
 "cells": [
  {
   "cell_type": "code",
   "execution_count": null,
   "metadata": {},
   "outputs": [],
   "source": [
    "import os\n",
    "import pathlib\n",
    "\n",
    "from django.core.exceptions import SuspiciousFileOperation"
   ]
  },
  {
   "cell_type": "markdown",
   "metadata": {},
   "source": []
  },
  {
   "cell_type": "code",
   "execution_count": null,
   "metadata": {},
   "outputs": [],
   "source": [
    "def validate_file_name(name, allow_relative_path=False):\n",
    "    # Remove potentially dangerous names\n",
    "    if os.path.basename(name) in {\"\", \".\", \"..\"}:\n",
    "        raise SuspiciousFileOperation(\"Could not derive file name from '%s'\" % name)\n",
    "\n",
    "    if allow_relative_path:\n",
    "        # Use PurePosixPath() because this branch is checked only in\n",
    "        # FileField.generate_filename() where all file paths are expected to be\n",
    "        # Unix style (with forward slashes).\n",
    "        path = pathlib.PurePosixPath(name)\n",
    "        if path.is_absolute() or \"..\" in path.parts:\n",
    "            raise SuspiciousFileOperation(\n",
    "                \"Detected path traversal attempt in '%s'\" % name\n",
    "            )\n",
    "    elif name != os.path.basename(name):\n",
    "        raise SuspiciousFileOperation(\"File name '%s' includes path elements\" % name)\n",
    "\n",
    "    return name"
   ]
  },
  {
   "cell_type": "markdown",
   "metadata": {},
   "source": []
  },
  {
   "cell_type": "code",
   "execution_count": null,
   "metadata": {},
   "outputs": [],
   "source": [
    "class FileProxyMixin:\n",
    "    \"\"\"\n",
    "    A mixin class used to forward file methods to an underlying file\n",
    "    object.  The internal file object has to be called \"file\"::\n",
    "\n",
    "        class FileProxy(FileProxyMixin):\n",
    "            def __init__(self, file):\n",
    "                self.file = file\n",
    "    \"\"\"\n",
    "\n",
    "    encoding = property(lambda self: self.file.encoding)\n",
    "    fileno = property(lambda self: self.file.fileno)\n",
    "    flush = property(lambda self: self.file.flush)\n",
    "    isatty = property(lambda self: self.file.isatty)\n",
    "    newlines = property(lambda self: self.file.newlines)\n",
    "    read = property(lambda self: self.file.read)\n",
    "    readinto = property(lambda self: self.file.readinto)\n",
    "    readline = property(lambda self: self.file.readline)\n",
    "    readlines = property(lambda self: self.file.readlines)\n",
    "    seek = property(lambda self: self.file.seek)\n",
    "    tell = property(lambda self: self.file.tell)\n",
    "    truncate = property(lambda self: self.file.truncate)\n",
    "    write = property(lambda self: self.file.write)\n",
    "    writelines = property(lambda self: self.file.writelines)\n",
    "\n",
    "    @property\n",
    "    def closed(self):\n",
    "        return not self.file or self.file.closed\n",
    "\n",
    "    def readable(self):\n",
    "        if self.closed:\n",
    "            return False\n",
    "        if hasattr(self.file, \"readable\"):\n",
    "            return self.file.readable()\n",
    "        return True\n",
    "\n",
    "    def writable(self):\n",
    "        if self.closed:\n",
    "            return False\n",
    "        if hasattr(self.file, \"writable\"):\n",
    "            return self.file.writable()\n",
    "        return \"w\" in getattr(self.file, \"mode\", \"\")\n",
    "\n",
    "    def seekable(self):\n",
    "        if self.closed:\n",
    "            return False\n",
    "        if hasattr(self.file, \"seekable\"):\n",
    "            return self.file.seekable()\n",
    "        return True\n",
    "\n",
    "    def __iter__(self):\n",
    "        return iter(self.file)"
   ]
  },
  {
   "cell_type": "markdown",
   "metadata": {},
   "source": []
  }
 ],
 "metadata": {
  "language_info": {
   "name": "python"
  }
 },
 "nbformat": 4,
 "nbformat_minor": 2
}