{
    "cells": [
        {
            "cell_type": "code",
            "execution_count": null,
            "metadata": {},
            "outputs": [],
            "source": [
                "from django.conf import settings\n",
                "\n",
                "from .. import Tags, Warning, register\n"
            ]
        },
        {
            "cell_type": "markdown",
            "metadata": {},
            "source": []
        },
        {
            "cell_type": "code",
            "execution_count": null,
            "metadata": {},
            "outputs": [],
            "source": [
                "def add_session_cookie_message(message):\n",
                "    return message + (\n",
                "        \" Using a secure-only session cookie makes it more difficult for \"\n",
                "        \"network traffic sniffers to hijack user sessions.\"\n",
                "    )\n"
            ]
        },
        {
            "cell_type": "markdown",
            "metadata": {},
            "source": []
        },
        {
            "cell_type": "code",
            "execution_count": null,
            "metadata": {},
            "outputs": [],
            "source": [
                "W010 = Warning(\n",
                "    add_session_cookie_message(\n",
                "        \"You have 'django.contrib.sessions' in your INSTALLED_APPS, \"\n",
                "        \"but you have not set SESSION_COOKIE_SECURE to True.\"\n",
                "    ),\n",
                "    id=\"security.W010\",\n",
                ")\n",
                "\n",
                "W011 = Warning(\n",
                "    add_session_cookie_message(\n",
                "        \"You have 'django.contrib.sessions.middleware.SessionMiddleware' \"\n",
                "        \"in your MIDDLEWARE, but you have not set \"\n",
                "        \"SESSION_COOKIE_SECURE to True.\"\n",
                "    ),\n",
                "    id=\"security.W011\",\n",
                ")\n",
                "\n",
                "W012 = Warning(\n",
                "    add_session_cookie_message(\"SESSION_COOKIE_SECURE is not set to True.\"),\n",
                "    id=\"security.W012\",\n",
                ")\n"
            ]
        },
        {
            "cell_type": "markdown",
            "metadata": {},
            "source": []
        },
        {
            "cell_type": "code",
            "execution_count": null,
            "metadata": {},
            "outputs": [],
            "source": [
                "def add_httponly_message(message):\n",
                "    return message + (\n",
                "        \" Using an HttpOnly session cookie makes it more difficult for \"\n",
                "        \"cross-site scripting attacks to hijack user sessions.\"\n",
                "    )\n"
            ]
        },
        {
            "cell_type": "markdown",
            "metadata": {},
            "source": []
        },
        {
            "cell_type": "code",
            "execution_count": null,
            "metadata": {},
            "outputs": [],
            "source": [
                "W013 = Warning(\n",
                "    add_httponly_message(\n",
                "        \"You have 'django.contrib.sessions' in your INSTALLED_APPS, \"\n",
                "        \"but you have not set SESSION_COOKIE_HTTPONLY to True.\",\n",
                "    ),\n",
                "    id=\"security.W013\",\n",
                ")\n",
                "\n",
                "W014 = Warning(\n",
                "    add_httponly_message(\n",
                "        \"You have 'django.contrib.sessions.middleware.SessionMiddleware' \"\n",
                "        \"in your MIDDLEWARE, but you have not set \"\n",
                "        \"SESSION_COOKIE_HTTPONLY to True.\"\n",
                "    ),\n",
                "    id=\"security.W014\",\n",
                ")\n",
                "\n",
                "W015 = Warning(\n",
                "    add_httponly_message(\"SESSION_COOKIE_HTTPONLY is not set to True.\"),\n",
                "    id=\"security.W015\",\n",
                ")\n"
            ]
        },
        {
            "cell_type": "markdown",
            "metadata": {},
            "source": []
        },
        {
            "cell_type": "code",
            "execution_count": null,
            "metadata": {},
            "outputs": [],
            "source": [
                "@register(Tags.security, deploy=True)\n",
                "def check_session_cookie_secure(app_configs, **kwargs):\n",
                "    if settings.SESSION_COOKIE_SECURE is True:\n",
                "        return []\n",
                "    errors = []\n",
                "    if _session_app():\n",
                "        errors.append(W010)\n",
                "    if _session_middleware():\n",
                "        errors.append(W011)\n",
                "    if len(errors) > 1:\n",
                "        errors = [W012]\n",
                "    return errors\n"
            ]
        },
        {
            "cell_type": "markdown",
            "metadata": {},
            "source": []
        },
        {
            "cell_type": "code",
            "execution_count": null,
            "metadata": {},
            "outputs": [],
            "source": [
                "@register(Tags.security, deploy=True)\n",
                "def check_session_cookie_httponly(app_configs, **kwargs):\n",
                "    if settings.SESSION_COOKIE_HTTPONLY is True:\n",
                "        return []\n",
                "    errors = []\n",
                "    if _session_app():\n",
                "        errors.append(W013)\n",
                "    if _session_middleware():\n",
                "        errors.append(W014)\n",
                "    if len(errors) > 1:\n",
                "        errors = [W015]\n",
                "    return errors\n"
            ]
        },
        {
            "cell_type": "markdown",
            "metadata": {},
            "source": []
        },
        {
            "cell_type": "code",
            "execution_count": null,
            "metadata": {},
            "outputs": [],
            "source": [
                "def _session_middleware():\n",
                "    return \"django.contrib.sessions.middleware.SessionMiddleware\" in settings.MIDDLEWARE\n"
            ]
        },
        {
            "cell_type": "markdown",
            "metadata": {},
            "source": []
        },
        {
            "cell_type": "code",
            "execution_count": null,
            "metadata": {},
            "outputs": [],
            "source": [
                "def _session_app():\n",
                "    return \"django.contrib.sessions\" in settings.INSTALLED_APPS\n",
                "\n"
            ]
        },
        {
            "cell_type": "markdown",
            "metadata": {},
            "source": []
        }
    ],
    "metadata": {
        "language_info": {
            "name": "python"
        }
    },
    "nbformat": 4,
    "nbformat_minor": 2
}