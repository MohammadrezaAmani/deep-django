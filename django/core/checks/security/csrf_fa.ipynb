{
    "cells": [
        {
            "cell_type": "code",
            "execution_count": null,
            "metadata": {},
            "outputs": [],
            "source": [
                "import inspect\n",
                "\n",
                "from django.conf import settings\n",
                "\n",
                "from .. import Error, Tags, Warning, register\n",
                "\n",
                "W003 = Warning(\n",
                "    \"You don't appear to be using Django's built-in \"\n",
                "    \"cross-site request forgery protection via the middleware \"\n",
                "    \"('django.middleware.csrf.CsrfViewMiddleware' is not in your \"\n",
                "    \"MIDDLEWARE). Enabling the middleware is the safest approach \"\n",
                "    \"to ensure you don't leave any holes.\",\n",
                "    id=\"security.W003\",\n",
                ")\n",
                "\n",
                "W016 = Warning(\n",
                "    \"You have 'django.middleware.csrf.CsrfViewMiddleware' in your \"\n",
                "    \"MIDDLEWARE, but you have not set CSRF_COOKIE_SECURE to True. \"\n",
                "    \"Using a secure-only CSRF cookie makes it more difficult for network \"\n",
                "    \"traffic sniffers to steal the CSRF token.\",\n",
                "    id=\"security.W016\",\n",
                ")\n"
            ]
        },
        {
            "cell_type": "markdown",
            "metadata": {},
            "source": []
        },
        {
            "cell_type": "code",
            "execution_count": null,
            "metadata": {},
            "outputs": [],
            "source": [
                "def _csrf_middleware():\n",
                "    return \"django.middleware.csrf.CsrfViewMiddleware\" in settings.MIDDLEWARE\n"
            ]
        },
        {
            "cell_type": "markdown",
            "metadata": {},
            "source": []
        },
        {
            "cell_type": "code",
            "execution_count": null,
            "metadata": {},
            "outputs": [],
            "source": [
                "@register(Tags.security, deploy=True)\n",
                "def check_csrf_middleware(app_configs, **kwargs):\n",
                "    passed_check = _csrf_middleware()\n",
                "    return [] if passed_check else [W003]\n"
            ]
        },
        {
            "cell_type": "markdown",
            "metadata": {},
            "source": []
        },
        {
            "cell_type": "code",
            "execution_count": null,
            "metadata": {},
            "outputs": [],
            "source": [
                "@register(Tags.security, deploy=True)\n",
                "def check_csrf_cookie_secure(app_configs, **kwargs):\n",
                "    passed_check = (\n",
                "        settings.CSRF_USE_SESSIONS\n",
                "        or not _csrf_middleware()\n",
                "        or settings.CSRF_COOKIE_SECURE is True\n",
                "    )\n",
                "    return [] if passed_check else [W016]\n"
            ]
        },
        {
            "cell_type": "markdown",
            "metadata": {},
            "source": []
        },
        {
            "cell_type": "code",
            "execution_count": null,
            "metadata": {},
            "outputs": [],
            "source": [
                "@register(Tags.security)\n",
                "def check_csrf_failure_view(app_configs, **kwargs):\n",
                "    from django.middleware.csrf import _get_failure_view\n",
                "\n",
                "    errors = []\n",
                "    try:\n",
                "        view = _get_failure_view()\n",
                "    except ImportError:\n",
                "        msg = (\n",
                "            \"The CSRF failure view '%s' could not be imported.\"\n",
                "            % settings.CSRF_FAILURE_VIEW\n",
                "        )\n",
                "        errors.append(Error(msg, id=\"security.E102\"))\n",
                "    else:\n",
                "        try:\n",
                "            inspect.signature(view).bind(None, reason=None)\n",
                "        except TypeError:\n",
                "            msg = (\n",
                "                \"The CSRF failure view '%s' does not take the correct number of \"\n",
                "                \"arguments.\" % settings.CSRF_FAILURE_VIEW\n",
                "            )\n",
                "            errors.append(Error(msg, id=\"security.E101\"))\n",
                "    return errors\n",
                "\n"
            ]
        },
        {
            "cell_type": "markdown",
            "metadata": {},
            "source": []
        }
    ],
    "metadata": {
        "language_info": {
            "name": "python"
        }
    },
    "nbformat": 4,
    "nbformat_minor": 2
}