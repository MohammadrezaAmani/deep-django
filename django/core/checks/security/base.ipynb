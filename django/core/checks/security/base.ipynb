{
    "cells": [
        {
            "cell_type": "code",
            "execution_count": null,
            "metadata": {},
            "outputs": [],
            "source": [
                "from django.conf import settings\n",
                "from django.core.exceptions import ImproperlyConfigured\n",
                "\n",
                "from .. import Error, Tags, Warning, register\n",
                "\n",
                "CROSS_ORIGIN_OPENER_POLICY_VALUES = {\n",
                "    \"same-origin\",\n",
                "    \"same-origin-allow-popups\",\n",
                "    \"unsafe-none\",\n",
                "}\n",
                "REFERRER_POLICY_VALUES = {\n",
                "    \"no-referrer\",\n",
                "    \"no-referrer-when-downgrade\",\n",
                "    \"origin\",\n",
                "    \"origin-when-cross-origin\",\n",
                "    \"same-origin\",\n",
                "    \"strict-origin\",\n",
                "    \"strict-origin-when-cross-origin\",\n",
                "    \"unsafe-url\",\n",
                "}\n",
                "\n",
                "SECRET_KEY_INSECURE_PREFIX = \"django-insecure-\"\n",
                "SECRET_KEY_MIN_LENGTH = 50\n",
                "SECRET_KEY_MIN_UNIQUE_CHARACTERS = 5\n",
                "\n",
                "SECRET_KEY_WARNING_MSG = (\n",
                "    f\"Your %s has less than {SECRET_KEY_MIN_LENGTH} characters, less than \"\n",
                "    f\"{SECRET_KEY_MIN_UNIQUE_CHARACTERS} unique characters, or it's prefixed \"\n",
                "    f\"with '{SECRET_KEY_INSECURE_PREFIX}' indicating that it was generated \"\n",
                "    f\"automatically by Django. Please generate a long and random value, \"\n",
                "    f\"otherwise many of Django's security-critical features will be \"\n",
                "    f\"vulnerable to attack.\"\n",
                ")\n",
                "\n",
                "W001 = Warning(\n",
                "    \"You do not have 'django.middleware.security.SecurityMiddleware' \"\n",
                "    \"in your MIDDLEWARE so the SECURE_HSTS_SECONDS, \"\n",
                "    \"SECURE_CONTENT_TYPE_NOSNIFF, SECURE_REFERRER_POLICY, \"\n",
                "    \"SECURE_CROSS_ORIGIN_OPENER_POLICY, and SECURE_SSL_REDIRECT settings will \"\n",
                "    \"have no effect.\",\n",
                "    id=\"security.W001\",\n",
                ")\n",
                "\n",
                "W002 = Warning(\n",
                "    \"You do not have \"\n",
                "    \"'django.middleware.clickjacking.XFrameOptionsMiddleware' in your \"\n",
                "    \"MIDDLEWARE, so your pages will not be served with an \"\n",
                "    \"'x-frame-options' header. Unless there is a good reason for your \"\n",
                "    \"site to be served in a frame, you should consider enabling this \"\n",
                "    \"header to help prevent clickjacking attacks.\",\n",
                "    id=\"security.W002\",\n",
                ")\n",
                "\n",
                "W004 = Warning(\n",
                "    \"You have not set a value for the SECURE_HSTS_SECONDS setting. \"\n",
                "    \"If your entire site is served only over SSL, you may want to consider \"\n",
                "    \"setting a value and enabling HTTP Strict Transport Security. \"\n",
                "    \"Be sure to read the documentation first; enabling HSTS carelessly \"\n",
                "    \"can cause serious, irreversible problems.\",\n",
                "    id=\"security.W004\",\n",
                ")\n",
                "\n",
                "W005 = Warning(\n",
                "    \"You have not set the SECURE_HSTS_INCLUDE_SUBDOMAINS setting to True. \"\n",
                "    \"Without this, your site is potentially vulnerable to attack \"\n",
                "    \"via an insecure connection to a subdomain. Only set this to True if \"\n",
                "    \"you are certain that all subdomains of your domain should be served \"\n",
                "    \"exclusively via SSL.\",\n",
                "    id=\"security.W005\",\n",
                ")\n",
                "\n",
                "W006 = Warning(\n",
                "    \"Your SECURE_CONTENT_TYPE_NOSNIFF setting is not set to True, \"\n",
                "    \"so your pages will not be served with an \"\n",
                "    \"'X-Content-Type-Options: nosniff' header. \"\n",
                "    \"You should consider enabling this header to prevent the \"\n",
                "    \"browser from identifying content types incorrectly.\",\n",
                "    id=\"security.W006\",\n",
                ")\n",
                "\n",
                "W008 = Warning(\n",
                "    \"Your SECURE_SSL_REDIRECT setting is not set to True. \"\n",
                "    \"Unless your site should be available over both SSL and non-SSL \"\n",
                "    \"connections, you may want to either set this setting True \"\n",
                "    \"or configure a load balancer or reverse-proxy server \"\n",
                "    \"to redirect all connections to HTTPS.\",\n",
                "    id=\"security.W008\",\n",
                ")\n",
                "\n",
                "W009 = Warning(\n",
                "    SECRET_KEY_WARNING_MSG % \"SECRET_KEY\",\n",
                "    id=\"security.W009\",\n",
                ")\n",
                "\n",
                "W018 = Warning(\n",
                "    \"You should not have DEBUG set to True in deployment.\",\n",
                "    id=\"security.W018\",\n",
                ")\n",
                "\n",
                "W019 = Warning(\n",
                "    \"You have \"\n",
                "    \"'django.middleware.clickjacking.XFrameOptionsMiddleware' in your \"\n",
                "    \"MIDDLEWARE, but X_FRAME_OPTIONS is not set to 'DENY'. \"\n",
                "    \"Unless there is a good reason for your site to serve other parts of \"\n",
                "    \"itself in a frame, you should change it to 'DENY'.\",\n",
                "    id=\"security.W019\",\n",
                ")\n",
                "\n",
                "W020 = Warning(\n",
                "    \"ALLOWED_HOSTS must not be empty in deployment.\",\n",
                "    id=\"security.W020\",\n",
                ")\n",
                "\n",
                "W021 = Warning(\n",
                "    \"You have not set the SECURE_HSTS_PRELOAD setting to True. Without this, \"\n",
                "    \"your site cannot be submitted to the browser preload list.\",\n",
                "    id=\"security.W021\",\n",
                ")\n",
                "\n",
                "W022 = Warning(\n",
                "    \"You have not set the SECURE_REFERRER_POLICY setting. Without this, your \"\n",
                "    \"site will not send a Referrer-Policy header. You should consider \"\n",
                "    \"enabling this header to protect user privacy.\",\n",
                "    id=\"security.W022\",\n",
                ")\n",
                "\n",
                "E023 = Error(\n",
                "    \"You have set the SECURE_REFERRER_POLICY setting to an invalid value.\",\n",
                "    hint=\"Valid values are: {}.\".format(\", \".join(sorted(REFERRER_POLICY_VALUES))),\n",
                "    id=\"security.E023\",\n",
                ")\n",
                "\n",
                "E024 = Error(\n",
                "    \"You have set the SECURE_CROSS_ORIGIN_OPENER_POLICY setting to an invalid \"\n",
                "    \"value.\",\n",
                "    hint=\"Valid values are: {}.\".format(\n",
                "        \", \".join(sorted(CROSS_ORIGIN_OPENER_POLICY_VALUES)),\n",
                "    ),\n",
                "    id=\"security.E024\",\n",
                ")\n",
                "\n",
                "W025 = Warning(SECRET_KEY_WARNING_MSG, id=\"security.W025\")\n"
            ]
        },
        {
            "cell_type": "markdown",
            "metadata": {},
            "source": []
        },
        {
            "cell_type": "code",
            "execution_count": null,
            "metadata": {},
            "outputs": [],
            "source": [
                "def _security_middleware():\n",
                "    return \"django.middleware.security.SecurityMiddleware\" in settings.MIDDLEWARE\n"
            ]
        },
        {
            "cell_type": "markdown",
            "metadata": {},
            "source": []
        },
        {
            "cell_type": "code",
            "execution_count": null,
            "metadata": {},
            "outputs": [],
            "source": [
                "def _xframe_middleware():\n",
                "    return (\n",
                "        \"django.middleware.clickjacking.XFrameOptionsMiddleware\" in settings.MIDDLEWARE\n",
                "    )\n"
            ]
        },
        {
            "cell_type": "markdown",
            "metadata": {},
            "source": []
        },
        {
            "cell_type": "code",
            "execution_count": null,
            "metadata": {},
            "outputs": [],
            "source": [
                "@register(Tags.security, deploy=True)\n",
                "def check_security_middleware(app_configs, **kwargs):\n",
                "    passed_check = _security_middleware()\n",
                "    return [] if passed_check else [W001]\n"
            ]
        },
        {
            "cell_type": "markdown",
            "metadata": {},
            "source": []
        },
        {
            "cell_type": "code",
            "execution_count": null,
            "metadata": {},
            "outputs": [],
            "source": [
                "@register(Tags.security, deploy=True)\n",
                "def check_xframe_options_middleware(app_configs, **kwargs):\n",
                "    passed_check = _xframe_middleware()\n",
                "    return [] if passed_check else [W002]\n"
            ]
        },
        {
            "cell_type": "markdown",
            "metadata": {},
            "source": []
        },
        {
            "cell_type": "code",
            "execution_count": null,
            "metadata": {},
            "outputs": [],
            "source": [
                "@register(Tags.security, deploy=True)\n",
                "def check_sts(app_configs, **kwargs):\n",
                "    passed_check = not _security_middleware() or settings.SECURE_HSTS_SECONDS\n",
                "    return [] if passed_check else [W004]\n"
            ]
        },
        {
            "cell_type": "markdown",
            "metadata": {},
            "source": []
        },
        {
            "cell_type": "code",
            "execution_count": null,
            "metadata": {},
            "outputs": [],
            "source": [
                "@register(Tags.security, deploy=True)\n",
                "def check_sts_include_subdomains(app_configs, **kwargs):\n",
                "    passed_check = (\n",
                "        not _security_middleware()\n",
                "        or not settings.SECURE_HSTS_SECONDS\n",
                "        or settings.SECURE_HSTS_INCLUDE_SUBDOMAINS is True\n",
                "    )\n",
                "    return [] if passed_check else [W005]\n"
            ]
        },
        {
            "cell_type": "markdown",
            "metadata": {},
            "source": []
        },
        {
            "cell_type": "code",
            "execution_count": null,
            "metadata": {},
            "outputs": [],
            "source": [
                "@register(Tags.security, deploy=True)\n",
                "def check_sts_preload(app_configs, **kwargs):\n",
                "    passed_check = (\n",
                "        not _security_middleware()\n",
                "        or not settings.SECURE_HSTS_SECONDS\n",
                "        or settings.SECURE_HSTS_PRELOAD is True\n",
                "    )\n",
                "    return [] if passed_check else [W021]\n"
            ]
        },
        {
            "cell_type": "markdown",
            "metadata": {},
            "source": []
        },
        {
            "cell_type": "code",
            "execution_count": null,
            "metadata": {},
            "outputs": [],
            "source": [
                "@register(Tags.security, deploy=True)\n",
                "def check_content_type_nosniff(app_configs, **kwargs):\n",
                "    passed_check = (\n",
                "        not _security_middleware() or settings.SECURE_CONTENT_TYPE_NOSNIFF is True\n",
                "    )\n",
                "    return [] if passed_check else [W006]\n"
            ]
        },
        {
            "cell_type": "markdown",
            "metadata": {},
            "source": []
        },
        {
            "cell_type": "code",
            "execution_count": null,
            "metadata": {},
            "outputs": [],
            "source": [
                "@register(Tags.security, deploy=True)\n",
                "def check_ssl_redirect(app_configs, **kwargs):\n",
                "    passed_check = not _security_middleware() or settings.SECURE_SSL_REDIRECT is True\n",
                "    return [] if passed_check else [W008]\n"
            ]
        },
        {
            "cell_type": "markdown",
            "metadata": {},
            "source": []
        },
        {
            "cell_type": "code",
            "execution_count": null,
            "metadata": {},
            "outputs": [],
            "source": [
                "def _check_secret_key(secret_key):\n",
                "    return (\n",
                "        len(set(secret_key)) >= SECRET_KEY_MIN_UNIQUE_CHARACTERS\n",
                "        and len(secret_key) >= SECRET_KEY_MIN_LENGTH\n",
                "        and not secret_key.startswith(SECRET_KEY_INSECURE_PREFIX)\n",
                "    )\n"
            ]
        },
        {
            "cell_type": "markdown",
            "metadata": {},
            "source": []
        },
        {
            "cell_type": "code",
            "execution_count": null,
            "metadata": {},
            "outputs": [],
            "source": [
                "@register(Tags.security, deploy=True)\n",
                "def check_secret_key(app_configs, **kwargs):\n",
                "    try:\n",
                "        secret_key = settings.SECRET_KEY\n",
                "    except (ImproperlyConfigured, AttributeError):\n",
                "        passed_check = False\n",
                "    else:\n",
                "        passed_check = _check_secret_key(secret_key)\n",
                "    return [] if passed_check else [W009]\n"
            ]
        },
        {
            "cell_type": "markdown",
            "metadata": {},
            "source": []
        },
        {
            "cell_type": "code",
            "execution_count": null,
            "metadata": {},
            "outputs": [],
            "source": [
                "@register(Tags.security, deploy=True)\n",
                "def check_secret_key_fallbacks(app_configs, **kwargs):\n",
                "    warnings = []\n",
                "    try:\n",
                "        fallbacks = settings.SECRET_KEY_FALLBACKS\n",
                "    except (ImproperlyConfigured, AttributeError):\n",
                "        warnings.append(Warning(W025.msg % \"SECRET_KEY_FALLBACKS\", id=W025.id))\n",
                "    else:\n",
                "        for index, key in enumerate(fallbacks):\n",
                "            if not _check_secret_key(key):\n",
                "                warnings.append(\n",
                "                    Warning(W025.msg % f\"SECRET_KEY_FALLBACKS[{index}]\", id=W025.id)\n",
                "                )\n",
                "    return warnings\n"
            ]
        },
        {
            "cell_type": "markdown",
            "metadata": {},
            "source": []
        },
        {
            "cell_type": "code",
            "execution_count": null,
            "metadata": {},
            "outputs": [],
            "source": [
                "@register(Tags.security, deploy=True)\n",
                "def check_debug(app_configs, **kwargs):\n",
                "    passed_check = not settings.DEBUG\n",
                "    return [] if passed_check else [W018]\n"
            ]
        },
        {
            "cell_type": "markdown",
            "metadata": {},
            "source": []
        },
        {
            "cell_type": "code",
            "execution_count": null,
            "metadata": {},
            "outputs": [],
            "source": [
                "@register(Tags.security, deploy=True)\n",
                "def check_xframe_deny(app_configs, **kwargs):\n",
                "    passed_check = not _xframe_middleware() or settings.X_FRAME_OPTIONS == \"DENY\"\n",
                "    return [] if passed_check else [W019]\n"
            ]
        },
        {
            "cell_type": "markdown",
            "metadata": {},
            "source": []
        },
        {
            "cell_type": "code",
            "execution_count": null,
            "metadata": {},
            "outputs": [],
            "source": [
                "@register(Tags.security, deploy=True)\n",
                "def check_allowed_hosts(app_configs, **kwargs):\n",
                "    return [] if settings.ALLOWED_HOSTS else [W020]\n"
            ]
        },
        {
            "cell_type": "markdown",
            "metadata": {},
            "source": []
        },
        {
            "cell_type": "code",
            "execution_count": null,
            "metadata": {},
            "outputs": [],
            "source": [
                "@register(Tags.security, deploy=True)\n",
                "def check_referrer_policy(app_configs, **kwargs):\n",
                "    if _security_middleware():\n",
                "        if settings.SECURE_REFERRER_POLICY is None:\n",
                "            return [W022]\n",
                "        # Support a comma-separated string or iterable of values to allow fallback.\n",
                "        if isinstance(settings.SECURE_REFERRER_POLICY, str):\n",
                "            values = {v.strip() for v in settings.SECURE_REFERRER_POLICY.split(\",\")}\n",
                "        else:\n",
                "            values = set(settings.SECURE_REFERRER_POLICY)\n",
                "        if not values <= REFERRER_POLICY_VALUES:\n",
                "            return [E023]\n",
                "    return []\n"
            ]
        },
        {
            "cell_type": "markdown",
            "metadata": {},
            "source": []
        },
        {
            "cell_type": "code",
            "execution_count": null,
            "metadata": {},
            "outputs": [],
            "source": [
                "@register(Tags.security, deploy=True)\n",
                "def check_cross_origin_opener_policy(app_configs, **kwargs):\n",
                "    if (\n",
                "        _security_middleware()\n",
                "        and settings.SECURE_CROSS_ORIGIN_OPENER_POLICY is not None\n",
                "        and settings.SECURE_CROSS_ORIGIN_OPENER_POLICY\n",
                "        not in CROSS_ORIGIN_OPENER_POLICY_VALUES\n",
                "    ):\n",
                "        return [E024]\n",
                "    return []\n",
                "\n"
            ]
        },
        {
            "cell_type": "markdown",
            "metadata": {},
            "source": []
        }
    ],
    "metadata": {
        "language_info": {
            "name": "python"
        }
    },
    "nbformat": 4,
    "nbformat_minor": 2
}