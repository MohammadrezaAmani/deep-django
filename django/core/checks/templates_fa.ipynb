{
    "cells": [
        {
            "cell_type": "code",
            "execution_count": null,
            "metadata": {},
            "outputs": [],
            "source": [
                "import copy\n",
                "from collections import defaultdict\n",
                "\n",
                "from django.conf import settings\n",
                "from django.template.backends.django import get_template_tag_modules\n",
                "\n",
                "from . import Error, Tags, Warning, register\n",
                "\n",
                "E001 = Error(\n",
                "    \"You have 'APP_DIRS': True in your TEMPLATES but also specify 'loaders' \"\n",
                "    \"in OPTIONS. Either remove APP_DIRS or remove the 'loaders' option.\",\n",
                "    id=\"templates.E001\",\n",
                ")\n",
                "E002 = Error(\n",
                "    \"'string_if_invalid' in TEMPLATES OPTIONS must be a string but got: {} ({}).\",\n",
                "    id=\"templates.E002\",\n",
                ")\n",
                "W003 = Warning(\n",
                "    \"{} is used for multiple template tag modules: {}\",\n",
                "    id=\"templates.E003\",\n",
                ")\n"
            ]
        },
        {
            "cell_type": "markdown",
            "metadata": {},
            "source": []
        },
        {
            "cell_type": "code",
            "execution_count": null,
            "metadata": {},
            "outputs": [],
            "source": [
                "@register(Tags.templates)\n",
                "def check_setting_app_dirs_loaders(app_configs, **kwargs):\n",
                "    return (\n",
                "        [E001]\n",
                "        if any(\n",
                "            conf.get(\"APP_DIRS\") and \"loaders\" in conf.get(\"OPTIONS\", {})\n",
                "            for conf in settings.TEMPLATES\n",
                "        )\n",
                "        else []\n",
                "    )\n"
            ]
        },
        {
            "cell_type": "markdown",
            "metadata": {},
            "source": []
        },
        {
            "cell_type": "code",
            "execution_count": null,
            "metadata": {},
            "outputs": [],
            "source": [
                "@register(Tags.templates)\n",
                "def check_string_if_invalid_is_string(app_configs, **kwargs):\n",
                "    errors = []\n",
                "    for conf in settings.TEMPLATES:\n",
                "        string_if_invalid = conf.get(\"OPTIONS\", {}).get(\"string_if_invalid\", \"\")\n",
                "        if not isinstance(string_if_invalid, str):\n",
                "            error = copy.copy(E002)\n",
                "            error.msg = error.msg.format(\n",
                "                string_if_invalid, type(string_if_invalid).__name__\n",
                "            )\n",
                "            errors.append(error)\n",
                "    return errors\n"
            ]
        },
        {
            "cell_type": "markdown",
            "metadata": {},
            "source": []
        },
        {
            "cell_type": "code",
            "execution_count": null,
            "metadata": {},
            "outputs": [],
            "source": [
                "@register(Tags.templates)\n",
                "def check_for_template_tags_with_the_same_name(app_configs, **kwargs):\n",
                "    errors = []\n",
                "    libraries = defaultdict(set)\n",
                "\n",
                "    for conf in settings.TEMPLATES:\n",
                "        custom_libraries = conf.get(\"OPTIONS\", {}).get(\"libraries\", {})\n",
                "        for module_name, module_path in custom_libraries.items():\n",
                "            libraries[module_name].add(module_path)\n",
                "\n",
                "    for module_name, module_path in get_template_tag_modules():\n",
                "        libraries[module_name].add(module_path)\n",
                "\n",
                "    for library_name, items in libraries.items():\n",
                "        if len(items) > 1:\n",
                "            errors.append(\n",
                "                Warning(\n",
                "                    W003.msg.format(\n",
                "                        repr(library_name),\n",
                "                        \", \".join(repr(item) for item in sorted(items)),\n",
                "                    ),\n",
                "                    id=W003.id,\n",
                "                )\n",
                "            )\n",
                "\n",
                "    return errors\n",
                "\n"
            ]
        },
        {
            "cell_type": "markdown",
            "metadata": {},
            "source": []
        }
    ],
    "metadata": {
        "language_info": {
            "name": "python"
        }
    },
    "nbformat": 4,
    "nbformat_minor": 2
}