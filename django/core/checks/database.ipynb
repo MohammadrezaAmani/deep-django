{
    "cells": [
        {
            "cell_type": "code",
            "execution_count": null,
            "metadata": {},
            "outputs": [],
            "source": [
                "from django.db import connections\n",
                "\n",
                "from . import Tags, register\n"
            ]
        },
        {
            "cell_type": "markdown",
            "metadata": {},
            "source": []
        },
        {
            "cell_type": "code",
            "execution_count": null,
            "metadata": {},
            "outputs": [],
            "source": [
                "@register(Tags.database)\n",
                "def check_database_backends(databases=None, **kwargs):\n",
                "    if databases is None:\n",
                "        return []\n",
                "    issues = []\n",
                "    for alias in databases:\n",
                "        conn = connections[alias]\n",
                "        issues.extend(conn.validation.check(**kwargs))\n",
                "    return issues\n",
                "\n"
            ]
        },
        {
            "cell_type": "markdown",
            "metadata": {},
            "source": []
        }
    ],
    "metadata": {
        "language_info": {
            "name": "python"
        }
    },
    "nbformat": 4,
    "nbformat_minor": 2
}