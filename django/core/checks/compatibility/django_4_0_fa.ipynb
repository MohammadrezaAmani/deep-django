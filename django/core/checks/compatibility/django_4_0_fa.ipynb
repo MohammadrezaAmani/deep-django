{
    "cells": [
        {
            "cell_type": "code",
            "execution_count": null,
            "metadata": {},
            "outputs": [],
            "source": [
                "from django.conf import settings\n",
                "\n",
                "from .. import Error, Tags, register\n"
            ]
        },
        {
            "cell_type": "markdown",
            "metadata": {},
            "source": []
        },
        {
            "cell_type": "code",
            "execution_count": null,
            "metadata": {},
            "outputs": [],
            "source": [
                "@register(Tags.compatibility)\n",
                "def check_csrf_trusted_origins(app_configs, **kwargs):\n",
                "    errors = []\n",
                "    for origin in settings.CSRF_TRUSTED_ORIGINS:\n",
                "        if \"://\" not in origin:\n",
                "            errors.append(\n",
                "                Error(\n",
                "                    \"As of Django 4.0, the values in the CSRF_TRUSTED_ORIGINS \"\n",
                "                    \"setting must start with a scheme (usually http:// or \"\n",
                "                    \"https://) but found %s. See the release notes for details.\"\n",
                "                    % origin,\n",
                "                    id=\"4_0.E001\",\n",
                "                )\n",
                "            )\n",
                "    return errors\n",
                "\n"
            ]
        },
        {
            "cell_type": "markdown",
            "metadata": {},
            "source": []
        }
    ],
    "metadata": {
        "language_info": {
            "name": "python"
        }
    },
    "nbformat": 4,
    "nbformat_minor": 2
}