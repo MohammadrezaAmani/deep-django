{
 "cells": [
  {
   "cell_type": "code",
   "execution_count": null,
   "metadata": {},
   "outputs": [],
   "source": [
    "import os\n",
    "\n",
    "from . import Error, Tags, register\n",
    "\n",
    "E001 = Error(\n",
    "    \"You should not set the DJANGO_ALLOW_ASYNC_UNSAFE environment variable in \"\n",
    "    \"deployment. This disables async safety protection.\",\n",
    "    id=\"async.E001\",\n",
    ")"
   ]
  },
  {
   "cell_type": "markdown",
   "metadata": {},
   "source": []
  },
  {
   "cell_type": "code",
   "execution_count": null,
   "metadata": {},
   "outputs": [],
   "source": [
    "@register(Tags.async_support, deploy=True)\n",
    "def check_async_unsafe(app_configs, **kwargs):\n",
    "    if os.environ.get(\"DJANGO_ALLOW_ASYNC_UNSAFE\"):\n",
    "        return [E001]\n",
    "    return []"
   ]
  },
  {
   "cell_type": "markdown",
   "metadata": {},
   "source": []
  }
 ],
 "metadata": {
  "language_info": {
   "name": "python"
  }
 },
 "nbformat": 4,
 "nbformat_minor": 2
}