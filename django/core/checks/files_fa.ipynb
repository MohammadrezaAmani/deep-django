{
    "cells": [
        {
            "cell_type": "code",
            "execution_count": null,
            "metadata": {},
            "outputs": [],
            "source": [
                "from pathlib import Path\n",
                "\n",
                "from django.conf import settings\n",
                "\n",
                "from . import Error, Tags, register\n"
            ]
        },
        {
            "cell_type": "markdown",
            "metadata": {},
            "source": []
        },
        {
            "cell_type": "code",
            "execution_count": null,
            "metadata": {},
            "outputs": [],
            "source": [
                "@register(Tags.files)\n",
                "def check_setting_file_upload_temp_dir(app_configs, **kwargs):\n",
                "    setting = getattr(settings, \"FILE_UPLOAD_TEMP_DIR\", None)\n",
                "    if setting and not Path(setting).is_dir():\n",
                "        return [\n",
                "            Error(\n",
                "                f\"The FILE_UPLOAD_TEMP_DIR setting refers to the nonexistent \"\n",
                "                f\"directory '{setting}'.\",\n",
                "                id=\"files.E001\",\n",
                "            ),\n",
                "        ]\n",
                "    return []\n",
                "\n"
            ]
        },
        {
            "cell_type": "markdown",
            "metadata": {},
            "source": []
        }
    ],
    "metadata": {
        "language_info": {
            "name": "python"
        }
    },
    "nbformat": 4,
    "nbformat_minor": 2
}