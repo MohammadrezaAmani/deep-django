{
 "cells": [
  {
   "cell_type": "code",
   "execution_count": null,
   "metadata": {},
   "outputs": [],
   "source": [
    "# Levels\n",
    "DEBUG = 10\n",
    "INFO = 20\n",
    "WARNING = 30\n",
    "ERROR = 40\n",
    "CRITICAL = 50"
   ]
  },
  {
   "cell_type": "markdown",
   "metadata": {},
   "source": []
  },
  {
   "cell_type": "code",
   "execution_count": null,
   "metadata": {},
   "outputs": [],
   "source": [
    "class CheckMessage:\n",
    "    def __init__(self, level, msg, hint=None, obj=None, id=None):\n",
    "        if not isinstance(level, int):\n",
    "            raise TypeError(\"The first argument should be level.\")\n",
    "        self.level = level\n",
    "        self.msg = msg\n",
    "        self.hint = hint\n",
    "        self.obj = obj\n",
    "        self.id = id\n",
    "\n",
    "    def __eq__(self, other):\n",
    "        return isinstance(other, self.__class__) and all(\n",
    "            getattr(self, attr) == getattr(other, attr)\n",
    "            for attr in [\"level\", \"msg\", \"hint\", \"obj\", \"id\"]\n",
    "        )\n",
    "\n",
    "    def __str__(self):\n",
    "        from django.db import models\n",
    "\n",
    "        if self.obj is None:\n",
    "            obj = \"?\"\n",
    "        elif isinstance(self.obj, models.base.ModelBase):\n",
    "            # We need to hardcode ModelBase and Field cases because its __str__\n",
    "            # method doesn't return \"applabel.modellabel\" and cannot be changed.\n",
    "            obj = self.obj._meta.label\n",
    "        else:\n",
    "            obj = str(self.obj)\n",
    "        id = \"(%s) \" % self.id if self.id else \"\"\n",
    "        hint = \"\\n\\tHINT: %s\" % self.hint if self.hint else \"\"\n",
    "        return \"%s: %s%s%s\" % (obj, id, self.msg, hint)\n",
    "\n",
    "    def __repr__(self):\n",
    "        return \"<%s: level=%r, msg=%r, hint=%r, obj=%r, id=%r>\" % (\n",
    "            self.__class__.__name__,\n",
    "            self.level,\n",
    "            self.msg,\n",
    "            self.hint,\n",
    "            self.obj,\n",
    "            self.id,\n",
    "        )\n",
    "\n",
    "    def is_serious(self, level=ERROR):\n",
    "        return self.level >= level\n",
    "\n",
    "    def is_silenced(self):\n",
    "        from django.conf import settings\n",
    "\n",
    "        return self.id in settings.SILENCED_SYSTEM_CHECKS"
   ]
  },
  {
   "cell_type": "markdown",
   "metadata": {},
   "source": []
  },
  {
   "cell_type": "code",
   "execution_count": null,
   "metadata": {},
   "outputs": [],
   "source": [
    "class Debug(CheckMessage):\n",
    "    def __init__(self, *args, **kwargs):\n",
    "        super().__init__(DEBUG, *args, **kwargs)"
   ]
  },
  {
   "cell_type": "markdown",
   "metadata": {},
   "source": []
  },
  {
   "cell_type": "code",
   "execution_count": null,
   "metadata": {},
   "outputs": [],
   "source": [
    "class Info(CheckMessage):\n",
    "    def __init__(self, *args, **kwargs):\n",
    "        super().__init__(INFO, *args, **kwargs)"
   ]
  },
  {
   "cell_type": "markdown",
   "metadata": {},
   "source": []
  },
  {
   "cell_type": "code",
   "execution_count": null,
   "metadata": {},
   "outputs": [],
   "source": [
    "class Warning(CheckMessage):\n",
    "    def __init__(self, *args, **kwargs):\n",
    "        super().__init__(WARNING, *args, **kwargs)"
   ]
  },
  {
   "cell_type": "markdown",
   "metadata": {},
   "source": []
  },
  {
   "cell_type": "code",
   "execution_count": null,
   "metadata": {},
   "outputs": [],
   "source": [
    "class Error(CheckMessage):\n",
    "    def __init__(self, *args, **kwargs):\n",
    "        super().__init__(ERROR, *args, **kwargs)"
   ]
  },
  {
   "cell_type": "markdown",
   "metadata": {},
   "source": []
  },
  {
   "cell_type": "code",
   "execution_count": null,
   "metadata": {},
   "outputs": [],
   "source": [
    "class Critical(CheckMessage):\n",
    "    def __init__(self, *args, **kwargs):\n",
    "        super().__init__(CRITICAL, *args, **kwargs)"
   ]
  },
  {
   "cell_type": "markdown",
   "metadata": {},
   "source": []
  }
 ],
 "metadata": {
  "language_info": {
   "name": "python"
  }
 },
 "nbformat": 4,
 "nbformat_minor": 2
}