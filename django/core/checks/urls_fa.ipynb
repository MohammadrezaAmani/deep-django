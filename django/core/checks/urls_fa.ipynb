{
 "cells": [
  {
   "cell_type": "code",
   "execution_count": null,
   "metadata": {},
   "outputs": [],
   "source": [
    "from collections import Counter\n",
    "\n",
    "from django.conf import settings\n",
    "\n",
    "from . import Error, Tags, Warning, register"
   ]
  },
  {
   "cell_type": "markdown",
   "metadata": {},
   "source": []
  },
  {
   "cell_type": "code",
   "execution_count": null,
   "metadata": {},
   "outputs": [],
   "source": [
    "@register(Tags.urls)\n",
    "def check_url_config(app_configs, **kwargs):\n",
    "    if getattr(settings, \"ROOT_URLCONF\", None):\n",
    "        from django.urls import get_resolver\n",
    "\n",
    "        resolver = get_resolver()\n",
    "        return check_resolver(resolver)\n",
    "    return []"
   ]
  },
  {
   "cell_type": "markdown",
   "metadata": {},
   "source": []
  },
  {
   "cell_type": "code",
   "execution_count": null,
   "metadata": {},
   "outputs": [],
   "source": [
    "def check_resolver(resolver):\n",
    "    \"\"\"\n",
    "    Recursively check the resolver.\n",
    "    \"\"\"\n",
    "    check_method = getattr(resolver, \"check\", None)\n",
    "    if check_method is not None:\n",
    "        return check_method()\n",
    "    elif not hasattr(resolver, \"resolve\"):\n",
    "        return get_warning_for_invalid_pattern(resolver)\n",
    "    else:\n",
    "        return []"
   ]
  },
  {
   "cell_type": "markdown",
   "metadata": {},
   "source": []
  },
  {
   "cell_type": "code",
   "execution_count": null,
   "metadata": {},
   "outputs": [],
   "source": [
    "@register(Tags.urls)\n",
    "def check_url_namespaces_unique(app_configs, **kwargs):\n",
    "    \"\"\"\n",
    "    Warn if URL namespaces used in applications aren't unique.\n",
    "    \"\"\"\n",
    "    if not getattr(settings, \"ROOT_URLCONF\", None):\n",
    "        return []\n",
    "\n",
    "    from django.urls import get_resolver\n",
    "\n",
    "    resolver = get_resolver()\n",
    "    all_namespaces = _load_all_namespaces(resolver)\n",
    "    counter = Counter(all_namespaces)\n",
    "    non_unique_namespaces = [n for n, count in counter.items() if count > 1]\n",
    "    errors = []\n",
    "    for namespace in non_unique_namespaces:\n",
    "        errors.append(\n",
    "            Warning(\n",
    "                \"URL namespace '{}' isn't unique. You may not be able to reverse \"\n",
    "                \"all URLs in this namespace\".format(namespace),\n",
    "                id=\"urls.W005\",\n",
    "            )\n",
    "        )\n",
    "    return errors"
   ]
  },
  {
   "cell_type": "markdown",
   "metadata": {},
   "source": []
  },
  {
   "cell_type": "code",
   "execution_count": null,
   "metadata": {},
   "outputs": [],
   "source": [
    "def _load_all_namespaces(resolver, parents=()):\n",
    "    \"\"\"\n",
    "    Recursively load all namespaces from URL patterns.\n",
    "    \"\"\"\n",
    "    url_patterns = getattr(resolver, \"url_patterns\", [])\n",
    "    namespaces = [\n",
    "        \":\".join(parents + (url.namespace,))\n",
    "        for url in url_patterns\n",
    "        if getattr(url, \"namespace\", None) is not None\n",
    "    ]\n",
    "    for pattern in url_patterns:\n",
    "        namespace = getattr(pattern, \"namespace\", None)\n",
    "        current = parents\n",
    "        if namespace is not None:\n",
    "            current += (namespace,)\n",
    "        namespaces.extend(_load_all_namespaces(pattern, current))\n",
    "    return namespaces"
   ]
  },
  {
   "cell_type": "markdown",
   "metadata": {},
   "source": []
  },
  {
   "cell_type": "code",
   "execution_count": null,
   "metadata": {},
   "outputs": [],
   "source": [
    "def get_warning_for_invalid_pattern(pattern):\n",
    "    \"\"\"\n",
    "    Return a list containing a warning that the pattern is invalid.\n",
    "\n",
    "    describe_pattern() cannot be used here, because we cannot rely on the\n",
    "    urlpattern having regex or name attributes.\n",
    "    \"\"\"\n",
    "    if isinstance(pattern, str):\n",
    "        hint = (\n",
    "            \"Try removing the string '{}'. The list of urlpatterns should not \"\n",
    "            \"have a prefix string as the first element.\".format(pattern)\n",
    "        )\n",
    "    elif isinstance(pattern, tuple):\n",
    "        hint = \"Try using path() instead of a tuple.\"\n",
    "    else:\n",
    "        hint = None\n",
    "\n",
    "    return [\n",
    "        Error(\n",
    "            \"Your URL pattern {!r} is invalid. Ensure that urlpatterns is a list \"\n",
    "            \"of path() and/or re_path() instances.\".format(pattern),\n",
    "            hint=hint,\n",
    "            id=\"urls.E004\",\n",
    "        )\n",
    "    ]"
   ]
  },
  {
   "cell_type": "markdown",
   "metadata": {},
   "source": []
  },
  {
   "cell_type": "code",
   "execution_count": null,
   "metadata": {},
   "outputs": [],
   "source": [
    "@register(Tags.urls)\n",
    "def check_url_settings(app_configs, **kwargs):\n",
    "    errors = []\n",
    "    for name in (\"STATIC_URL\", \"MEDIA_URL\"):\n",
    "        value = getattr(settings, name)\n",
    "        if value and not value.endswith(\"/\"):\n",
    "            errors.append(E006(name))\n",
    "    return errors"
   ]
  },
  {
   "cell_type": "markdown",
   "metadata": {},
   "source": []
  },
  {
   "cell_type": "code",
   "execution_count": null,
   "metadata": {},
   "outputs": [],
   "source": [
    "def E006(name):\n",
    "    return Error(\n",
    "        \"The {} setting must end with a slash.\".format(name),\n",
    "        id=\"urls.E006\",\n",
    "    )"
   ]
  },
  {
   "cell_type": "markdown",
   "metadata": {},
   "source": []
  }
 ],
 "metadata": {
  "language_info": {
   "name": "python"
  }
 },
 "nbformat": 4,
 "nbformat_minor": 2
}