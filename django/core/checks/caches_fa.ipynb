{
    "cells": [
        {
            "cell_type": "code",
            "execution_count": null,
            "metadata": {},
            "outputs": [],
            "source": [
                "import pathlib\n",
                "\n",
                "from django.conf import settings\n",
                "from django.core.cache import DEFAULT_CACHE_ALIAS, caches\n",
                "from django.core.cache.backends.filebased import FileBasedCache\n",
                "\n",
                "from . import Error, Tags, Warning, register\n",
                "\n",
                "E001 = Error(\n",
                "    \"You must define a '%s' cache in your CACHES setting.\" % DEFAULT_CACHE_ALIAS,\n",
                "    id=\"caches.E001\",\n",
                ")\n"
            ]
        },
        {
            "cell_type": "markdown",
            "metadata": {},
            "source": []
        },
        {
            "cell_type": "code",
            "execution_count": null,
            "metadata": {},
            "outputs": [],
            "source": [
                "@register(Tags.caches)\n",
                "def check_default_cache_is_configured(app_configs, **kwargs):\n",
                "    if DEFAULT_CACHE_ALIAS not in settings.CACHES:\n",
                "        return [E001]\n",
                "    return []\n"
            ]
        },
        {
            "cell_type": "markdown",
            "metadata": {},
            "source": []
        },
        {
            "cell_type": "code",
            "execution_count": null,
            "metadata": {},
            "outputs": [],
            "source": [
                "@register(Tags.caches, deploy=True)\n",
                "def check_cache_location_not_exposed(app_configs, **kwargs):\n",
                "    errors = []\n",
                "    for name in (\"MEDIA_ROOT\", \"STATIC_ROOT\", \"STATICFILES_DIRS\"):\n",
                "        setting = getattr(settings, name, None)\n",
                "        if not setting:\n",
                "            continue\n",
                "        if name == \"STATICFILES_DIRS\":\n",
                "            paths = set()\n",
                "            for staticfiles_dir in setting:\n",
                "                if isinstance(staticfiles_dir, (list, tuple)):\n",
                "                    _, staticfiles_dir = staticfiles_dir\n",
                "                paths.add(pathlib.Path(staticfiles_dir).resolve())\n",
                "        else:\n",
                "            paths = {pathlib.Path(setting).resolve()}\n",
                "        for alias in settings.CACHES:\n",
                "            cache = caches[alias]\n",
                "            if not isinstance(cache, FileBasedCache):\n",
                "                continue\n",
                "            cache_path = pathlib.Path(cache._dir).resolve()\n",
                "            if any(path == cache_path for path in paths):\n",
                "                relation = \"matches\"\n",
                "            elif any(path in cache_path.parents for path in paths):\n",
                "                relation = \"is inside\"\n",
                "            elif any(cache_path in path.parents for path in paths):\n",
                "                relation = \"contains\"\n",
                "            else:\n",
                "                continue\n",
                "            errors.append(\n",
                "                Warning(\n",
                "                    f\"Your '{alias}' cache configuration might expose your cache \"\n",
                "                    f\"or lead to corruption of your data because its LOCATION \"\n",
                "                    f\"{relation} {name}.\",\n",
                "                    id=\"caches.W002\",\n",
                "                )\n",
                "            )\n",
                "    return errors\n"
            ]
        },
        {
            "cell_type": "markdown",
            "metadata": {},
            "source": []
        },
        {
            "cell_type": "code",
            "execution_count": null,
            "metadata": {},
            "outputs": [],
            "source": [
                "@register(Tags.caches)\n",
                "def check_file_based_cache_is_absolute(app_configs, **kwargs):\n",
                "    errors = []\n",
                "    for alias, config in settings.CACHES.items():\n",
                "        cache = caches[alias]\n",
                "        if not isinstance(cache, FileBasedCache):\n",
                "            continue\n",
                "        if not pathlib.Path(config[\"LOCATION\"]).is_absolute():\n",
                "            errors.append(\n",
                "                Warning(\n",
                "                    f\"Your '{alias}' cache LOCATION path is relative. Use an \"\n",
                "                    f\"absolute path instead.\",\n",
                "                    id=\"caches.W003\",\n",
                "                )\n",
                "            )\n",
                "    return errors\n",
                "\n"
            ]
        },
        {
            "cell_type": "markdown",
            "metadata": {},
            "source": []
        }
    ],
    "metadata": {
        "language_info": {
            "name": "python"
        }
    },
    "nbformat": 4,
    "nbformat_minor": 2
}