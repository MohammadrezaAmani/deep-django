{
    "cells": [
        {
            "cell_type": "code",
            "execution_count": null,
            "metadata": {},
            "outputs": [],
            "source": [
                "from django.conf import settings\n",
                "from django.utils.translation import get_supported_language_variant\n",
                "from django.utils.translation.trans_real import language_code_re\n",
                "\n",
                "from . import Error, Tags, register\n",
                "\n",
                "E001 = Error(\n",
                "    \"You have provided an invalid value for the LANGUAGE_CODE setting: {!r}.\",\n",
                "    id=\"translation.E001\",\n",
                ")\n",
                "\n",
                "E002 = Error(\n",
                "    \"You have provided an invalid language code in the LANGUAGES setting: {!r}.\",\n",
                "    id=\"translation.E002\",\n",
                ")\n",
                "\n",
                "E003 = Error(\n",
                "    \"You have provided an invalid language code in the LANGUAGES_BIDI setting: {!r}.\",\n",
                "    id=\"translation.E003\",\n",
                ")\n",
                "\n",
                "E004 = Error(\n",
                "    \"You have provided a value for the LANGUAGE_CODE setting that is not in \"\n",
                "    \"the LANGUAGES setting.\",\n",
                "    id=\"translation.E004\",\n",
                ")\n"
            ]
        },
        {
            "cell_type": "markdown",
            "metadata": {},
            "source": []
        },
        {
            "cell_type": "code",
            "execution_count": null,
            "metadata": {},
            "outputs": [],
            "source": [
                "@register(Tags.translation)\n",
                "def check_setting_language_code(app_configs, **kwargs):\n",
                "    \"\"\"Error if LANGUAGE_CODE setting is invalid.\"\"\"\n",
                "    tag = settings.LANGUAGE_CODE\n",
                "    if not isinstance(tag, str) or not language_code_re.match(tag):\n",
                "        return [Error(E001.msg.format(tag), id=E001.id)]\n",
                "    return []\n"
            ]
        },
        {
            "cell_type": "markdown",
            "metadata": {},
            "source": []
        },
        {
            "cell_type": "code",
            "execution_count": null,
            "metadata": {},
            "outputs": [],
            "source": [
                "@register(Tags.translation)\n",
                "def check_setting_languages(app_configs, **kwargs):\n",
                "    \"\"\"Error if LANGUAGES setting is invalid.\"\"\"\n",
                "    return [\n",
                "        Error(E002.msg.format(tag), id=E002.id)\n",
                "        for tag, _ in settings.LANGUAGES\n",
                "        if not isinstance(tag, str) or not language_code_re.match(tag)\n",
                "    ]\n"
            ]
        },
        {
            "cell_type": "markdown",
            "metadata": {},
            "source": []
        },
        {
            "cell_type": "code",
            "execution_count": null,
            "metadata": {},
            "outputs": [],
            "source": [
                "@register(Tags.translation)\n",
                "def check_setting_languages_bidi(app_configs, **kwargs):\n",
                "    \"\"\"Error if LANGUAGES_BIDI setting is invalid.\"\"\"\n",
                "    return [\n",
                "        Error(E003.msg.format(tag), id=E003.id)\n",
                "        for tag in settings.LANGUAGES_BIDI\n",
                "        if not isinstance(tag, str) or not language_code_re.match(tag)\n",
                "    ]\n"
            ]
        },
        {
            "cell_type": "markdown",
            "metadata": {},
            "source": []
        },
        {
            "cell_type": "code",
            "execution_count": null,
            "metadata": {},
            "outputs": [],
            "source": [
                "@register(Tags.translation)\n",
                "def check_language_settings_consistent(app_configs, **kwargs):\n",
                "    \"\"\"Error if language settings are not consistent with each other.\"\"\"\n",
                "    try:\n",
                "        get_supported_language_variant(settings.LANGUAGE_CODE)\n",
                "    except LookupError:\n",
                "        return [E004]\n",
                "    else:\n",
                "        return []\n",
                "\n"
            ]
        },
        {
            "cell_type": "markdown",
            "metadata": {},
            "source": []
        }
    ],
    "metadata": {
        "language_info": {
            "name": "python"
        }
    },
    "nbformat": 4,
    "nbformat_minor": 2
}