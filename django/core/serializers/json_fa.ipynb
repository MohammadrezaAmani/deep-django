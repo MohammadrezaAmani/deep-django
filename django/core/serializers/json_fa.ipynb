{
 "cells": [
  {
   "cell_type": "code",
   "execution_count": null,
   "metadata": {},
   "outputs": [],
   "source": [
    "\"\"\"\n",
    "Serialize data to/from JSON\n",
    "\"\"\"\n",
    "\n",
    "import datetime\n",
    "import decimal\n",
    "import json\n",
    "import uuid\n",
    "\n",
    "from django.core.serializers.base import DeserializationError\n",
    "from django.core.serializers.python import Deserializer as PythonDeserializer\n",
    "from django.core.serializers.python import Serializer as PythonSerializer\n",
    "from django.utils.duration import duration_iso_string\n",
    "from django.utils.functional import Promise\n",
    "from django.utils.timezone import is_aware"
   ]
  },
  {
   "cell_type": "markdown",
   "metadata": {},
   "source": []
  },
  {
   "cell_type": "code",
   "execution_count": null,
   "metadata": {},
   "outputs": [],
   "source": [
    "class Serializer(PythonSerializer):\n",
    "    \"\"\"Convert a queryset to JSON.\"\"\"\n",
    "\n",
    "    internal_use_only = False\n",
    "\n",
    "    def _init_options(self):\n",
    "        self._current = None\n",
    "        self.json_kwargs = self.options.copy()\n",
    "        self.json_kwargs.pop(\"stream\", None)\n",
    "        self.json_kwargs.pop(\"fields\", None)\n",
    "        if self.options.get(\"indent\"):\n",
    "            # Prevent trailing spaces\n",
    "            self.json_kwargs[\"separators\"] = (\",\", \": \")\n",
    "        self.json_kwargs.setdefault(\"cls\", DjangoJSONEncoder)\n",
    "        self.json_kwargs.setdefault(\"ensure_ascii\", False)\n",
    "\n",
    "    def start_serialization(self):\n",
    "        self._init_options()\n",
    "        self.stream.write(\"[\")\n",
    "\n",
    "    def end_serialization(self):\n",
    "        if self.options.get(\"indent\"):\n",
    "            self.stream.write(\"\\n\")\n",
    "        self.stream.write(\"]\")\n",
    "        if self.options.get(\"indent\"):\n",
    "            self.stream.write(\"\\n\")\n",
    "\n",
    "    def end_object(self, obj):\n",
    "        # self._current has the field data\n",
    "        indent = self.options.get(\"indent\")\n",
    "        if not self.first:\n",
    "            self.stream.write(\",\")\n",
    "            if not indent:\n",
    "                self.stream.write(\" \")\n",
    "        if indent:\n",
    "            self.stream.write(\"\\n\")\n",
    "        json.dump(self.get_dump_object(obj), self.stream, **self.json_kwargs)\n",
    "        self._current = None\n",
    "\n",
    "    def getvalue(self):\n",
    "        # Grandparent super\n",
    "        return super(PythonSerializer, self).getvalue()"
   ]
  },
  {
   "cell_type": "markdown",
   "metadata": {},
   "source": []
  },
  {
   "cell_type": "code",
   "execution_count": null,
   "metadata": {},
   "outputs": [],
   "source": [
    "def Deserializer(stream_or_string, **options):\n",
    "    \"\"\"Deserialize a stream or string of JSON data.\"\"\"\n",
    "    if not isinstance(stream_or_string, (bytes, str)):\n",
    "        stream_or_string = stream_or_string.read()\n",
    "    if isinstance(stream_or_string, bytes):\n",
    "        stream_or_string = stream_or_string.decode()\n",
    "    try:\n",
    "        objects = json.loads(stream_or_string)\n",
    "        yield from PythonDeserializer(objects, **options)\n",
    "    except (GeneratorExit, DeserializationError):\n",
    "        raise\n",
    "    except Exception as exc:\n",
    "        raise DeserializationError() from exc"
   ]
  },
  {
   "cell_type": "markdown",
   "metadata": {},
   "source": []
  },
  {
   "cell_type": "code",
   "execution_count": null,
   "metadata": {},
   "outputs": [],
   "source": [
    "class DjangoJSONEncoder(json.JSONEncoder):\n",
    "    \"\"\"\n",
    "    JSONEncoder subclass that knows how to encode date/time, decimal types, and\n",
    "    UUIDs.\n",
    "    \"\"\"\n",
    "\n",
    "    def default(self, o):\n",
    "        # See \"Date Time String Format\" in the ECMA-262 specification.\n",
    "        if isinstance(o, datetime.datetime):\n",
    "            r = o.isoformat()\n",
    "            if o.microsecond:\n",
    "                r = r[:23] + r[26:]\n",
    "            if r.endswith(\"+00:00\"):\n",
    "                r = r.removesuffix(\"+00:00\") + \"Z\"\n",
    "            return r\n",
    "        elif isinstance(o, datetime.date):\n",
    "            return o.isoformat()\n",
    "        elif isinstance(o, datetime.time):\n",
    "            if is_aware(o):\n",
    "                raise ValueError(\"JSON can't represent timezone-aware times.\")\n",
    "            r = o.isoformat()\n",
    "            if o.microsecond:\n",
    "                r = r[:12]\n",
    "            return r\n",
    "        elif isinstance(o, datetime.timedelta):\n",
    "            return duration_iso_string(o)\n",
    "        elif isinstance(o, (decimal.Decimal, uuid.UUID, Promise)):\n",
    "            return str(o)\n",
    "        else:\n",
    "            return super().default(o)"
   ]
  },
  {
   "cell_type": "markdown",
   "metadata": {},
   "source": []
  }
 ],
 "metadata": {
  "language_info": {
   "name": "python"
  }
 },
 "nbformat": 4,
 "nbformat_minor": 2
}