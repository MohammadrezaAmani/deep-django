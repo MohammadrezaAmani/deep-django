{
 "cells": [
  {
   "cell_type": "code",
   "execution_count": null,
   "metadata": {},
   "outputs": [],
   "source": [
    "\"\"\"\n",
    "Interfaces for serializing Django objects.\n",
    "\n",
    "Usage::\n",
    "\n",
    "    from django.core import serializers\n",
    "    json = serializers.serialize(\"json\", some_queryset)\n",
    "    objects = list(serializers.deserialize(\"json\", json))\n",
    "\n",
    "To add your own serializers, use the SERIALIZATION_MODULES setting::\n",
    "\n",
    "    SERIALIZATION_MODULES = {\n",
    "        \"csv\": \"path.to.csv.serializer\",\n",
    "        \"txt\": \"path.to.txt.serializer\",\n",
    "    }\n",
    "\n",
    "\"\"\"\n",
    "\n",
    "import importlib\n",
    "\n",
    "from django.apps import apps\n",
    "from django.conf import settings\n",
    "from django.core.serializers.base import SerializerDoesNotExist\n",
    "\n",
    "# Built-in serializers\n",
    "BUILTIN_SERIALIZERS = {\n",
    "    \"xml\": \"django.core.serializers.xml_serializer\",\n",
    "    \"python\": \"django.core.serializers.python\",\n",
    "    \"json\": \"django.core.serializers.json\",\n",
    "    \"yaml\": \"django.core.serializers.pyyaml\",\n",
    "    \"jsonl\": \"django.core.serializers.jsonl\",\n",
    "}\n",
    "\n",
    "_serializers = {}"
   ]
  },
  {
   "cell_type": "markdown",
   "metadata": {},
   "source": []
  },
  {
   "cell_type": "code",
   "execution_count": null,
   "metadata": {},
   "outputs": [],
   "source": [
    "class BadSerializer:\n",
    "    \"\"\"\n",
    "    Stub serializer to hold exception raised during registration\n",
    "\n",
    "    This allows the serializer registration to cache serializers and if there\n",
    "    is an error raised in the process of creating a serializer it will be\n",
    "    raised and passed along to the caller when the serializer is used.\n",
    "    \"\"\"\n",
    "\n",
    "    internal_use_only = False\n",
    "\n",
    "    def __init__(self, exception):\n",
    "        self.exception = exception\n",
    "\n",
    "    def __call__(self, *args, **kwargs):\n",
    "        raise self.exception"
   ]
  },
  {
   "cell_type": "markdown",
   "metadata": {},
   "source": []
  },
  {
   "cell_type": "code",
   "execution_count": null,
   "metadata": {},
   "outputs": [],
   "source": [
    "def register_serializer(format, serializer_module, serializers=None):\n",
    "    \"\"\"Register a new serializer.\n",
    "\n",
    "    ``serializer_module`` should be the fully qualified module name\n",
    "    for the serializer.\n",
    "\n",
    "    If ``serializers`` is provided, the registration will be added\n",
    "    to the provided dictionary.\n",
    "\n",
    "    If ``serializers`` is not provided, the registration will be made\n",
    "    directly into the global register of serializers. Adding serializers\n",
    "    directly is not a thread-safe operation.\n",
    "    \"\"\"\n",
    "    if serializers is None and not _serializers:\n",
    "        _load_serializers()\n",
    "\n",
    "    try:\n",
    "        module = importlib.import_module(serializer_module)\n",
    "    except ImportError as exc:\n",
    "        bad_serializer = BadSerializer(exc)\n",
    "\n",
    "        module = type(\n",
    "            \"BadSerializerModule\",\n",
    "            (),\n",
    "            {\n",
    "                \"Deserializer\": bad_serializer,\n",
    "                \"Serializer\": bad_serializer,\n",
    "            },\n",
    "        )\n",
    "\n",
    "    if serializers is None:\n",
    "        _serializers[format] = module\n",
    "    else:\n",
    "        serializers[format] = module"
   ]
  },
  {
   "cell_type": "markdown",
   "metadata": {},
   "source": []
  },
  {
   "cell_type": "code",
   "execution_count": null,
   "metadata": {},
   "outputs": [],
   "source": [
    "def unregister_serializer(format):\n",
    "    \"Unregister a given serializer. This is not a thread-safe operation.\"\n",
    "    if not _serializers:\n",
    "        _load_serializers()\n",
    "    if format not in _serializers:\n",
    "        raise SerializerDoesNotExist(format)\n",
    "    del _serializers[format]"
   ]
  },
  {
   "cell_type": "markdown",
   "metadata": {},
   "source": []
  },
  {
   "cell_type": "code",
   "execution_count": null,
   "metadata": {},
   "outputs": [],
   "source": [
    "def get_serializer(format):\n",
    "    if not _serializers:\n",
    "        _load_serializers()\n",
    "    if format not in _serializers:\n",
    "        raise SerializerDoesNotExist(format)\n",
    "    return _serializers[format].Serializer"
   ]
  },
  {
   "cell_type": "markdown",
   "metadata": {},
   "source": []
  },
  {
   "cell_type": "code",
   "execution_count": null,
   "metadata": {},
   "outputs": [],
   "source": [
    "def get_serializer_formats():\n",
    "    if not _serializers:\n",
    "        _load_serializers()\n",
    "    return list(_serializers)"
   ]
  },
  {
   "cell_type": "markdown",
   "metadata": {},
   "source": []
  },
  {
   "cell_type": "code",
   "execution_count": null,
   "metadata": {},
   "outputs": [],
   "source": [
    "def get_public_serializer_formats():\n",
    "    if not _serializers:\n",
    "        _load_serializers()\n",
    "    return [k for k, v in _serializers.items() if not v.Serializer.internal_use_only]"
   ]
  },
  {
   "cell_type": "markdown",
   "metadata": {},
   "source": []
  },
  {
   "cell_type": "code",
   "execution_count": null,
   "metadata": {},
   "outputs": [],
   "source": [
    "def get_deserializer(format):\n",
    "    if not _serializers:\n",
    "        _load_serializers()\n",
    "    if format not in _serializers:\n",
    "        raise SerializerDoesNotExist(format)\n",
    "    return _serializers[format].Deserializer"
   ]
  },
  {
   "cell_type": "markdown",
   "metadata": {},
   "source": []
  },
  {
   "cell_type": "code",
   "execution_count": null,
   "metadata": {},
   "outputs": [],
   "source": [
    "def serialize(format, queryset, **options):\n",
    "    \"\"\"\n",
    "    Serialize a queryset (or any iterator that returns database objects) using\n",
    "    a certain serializer.\n",
    "    \"\"\"\n",
    "    s = get_serializer(format)()\n",
    "    s.serialize(queryset, **options)\n",
    "    return s.getvalue()"
   ]
  },
  {
   "cell_type": "markdown",
   "metadata": {},
   "source": []
  },
  {
   "cell_type": "code",
   "execution_count": null,
   "metadata": {},
   "outputs": [],
   "source": [
    "def deserialize(format, stream_or_string, **options):\n",
    "    \"\"\"\n",
    "    Deserialize a stream or a string. Return an iterator that yields ``(obj,\n",
    "    m2m_relation_dict)``, where ``obj`` is an instantiated -- but *unsaved* --\n",
    "    object, and ``m2m_relation_dict`` is a dictionary of ``{m2m_field_name :\n",
    "    list_of_related_objects}``.\n",
    "    \"\"\"\n",
    "    d = get_deserializer(format)\n",
    "    return d(stream_or_string, **options)"
   ]
  },
  {
   "cell_type": "markdown",
   "metadata": {},
   "source": []
  },
  {
   "cell_type": "code",
   "execution_count": null,
   "metadata": {},
   "outputs": [],
   "source": [
    "def _load_serializers():\n",
    "    \"\"\"\n",
    "    Register built-in and settings-defined serializers. This is done lazily so\n",
    "    that user code has a chance to (e.g.) set up custom settings without\n",
    "    needing to be careful of import order.\n",
    "    \"\"\"\n",
    "    global _serializers\n",
    "    serializers = {}\n",
    "    for format in BUILTIN_SERIALIZERS:\n",
    "        register_serializer(format, BUILTIN_SERIALIZERS[format], serializers)\n",
    "    if hasattr(settings, \"SERIALIZATION_MODULES\"):\n",
    "        for format in settings.SERIALIZATION_MODULES:\n",
    "            register_serializer(\n",
    "                format, settings.SERIALIZATION_MODULES[format], serializers\n",
    "            )\n",
    "    _serializers = serializers"
   ]
  },
  {
   "cell_type": "markdown",
   "metadata": {},
   "source": []
  },
  {
   "cell_type": "code",
   "execution_count": null,
   "metadata": {},
   "outputs": [],
   "source": [
    "def sort_dependencies(app_list, allow_cycles=False):\n",
    "    \"\"\"Sort a list of (app_config, models) pairs into a single list of models.\n",
    "\n",
    "    The single list of models is sorted so that any model with a natural key\n",
    "    is serialized before a normal model, and any model with a natural key\n",
    "    dependency has it's dependencies serialized first.\n",
    "\n",
    "    If allow_cycles is True, return the best-effort ordering that will respect\n",
    "    most of dependencies but ignore some of them to break the cycles.\n",
    "    \"\"\"\n",
    "    # Process the list of models, and get the list of dependencies\n",
    "    model_dependencies = []\n",
    "    models = set()\n",
    "    for app_config, model_list in app_list:\n",
    "        if model_list is None:\n",
    "            model_list = app_config.get_models()\n",
    "\n",
    "        for model in model_list:\n",
    "            models.add(model)\n",
    "            # Add any explicitly defined dependencies\n",
    "            if hasattr(model, \"natural_key\"):\n",
    "                deps = getattr(model.natural_key, \"dependencies\", [])\n",
    "                if deps:\n",
    "                    deps = [apps.get_model(dep) for dep in deps]\n",
    "            else:\n",
    "                deps = []\n",
    "\n",
    "            # Now add a dependency for any FK relation with a model that\n",
    "            # defines a natural key\n",
    "            for field in model._meta.fields:\n",
    "                if field.remote_field:\n",
    "                    rel_model = field.remote_field.model\n",
    "                    if hasattr(rel_model, \"natural_key\") and rel_model != model:\n",
    "                        deps.append(rel_model)\n",
    "            # Also add a dependency for any simple M2M relation with a model\n",
    "            # that defines a natural key.  M2M relations with explicit through\n",
    "            # models don't count as dependencies.\n",
    "            for field in model._meta.many_to_many:\n",
    "                if field.remote_field.through._meta.auto_created:\n",
    "                    rel_model = field.remote_field.model\n",
    "                    if hasattr(rel_model, \"natural_key\") and rel_model != model:\n",
    "                        deps.append(rel_model)\n",
    "            model_dependencies.append((model, deps))\n",
    "\n",
    "    model_dependencies.reverse()\n",
    "    # Now sort the models to ensure that dependencies are met. This\n",
    "    # is done by repeatedly iterating over the input list of models.\n",
    "    # If all the dependencies of a given model are in the final list,\n",
    "    # that model is promoted to the end of the final list. This process\n",
    "    # continues until the input list is empty, or we do a full iteration\n",
    "    # over the input models without promoting a model to the final list.\n",
    "    # If we do a full iteration without a promotion, that means there are\n",
    "    # circular dependencies in the list.\n",
    "    model_list = []\n",
    "    while model_dependencies:\n",
    "        skipped = []\n",
    "        changed = False\n",
    "        while model_dependencies:\n",
    "            model, deps = model_dependencies.pop()\n",
    "\n",
    "            # If all of the models in the dependency list are either already\n",
    "            # on the final model list, or not on the original serialization list,\n",
    "            # then we've found another model with all it's dependencies satisfied.\n",
    "            if all(d not in models or d in model_list for d in deps):\n",
    "                model_list.append(model)\n",
    "                changed = True\n",
    "            else:\n",
    "                skipped.append((model, deps))\n",
    "        if not changed:\n",
    "            if allow_cycles:\n",
    "                # If cycles are allowed, add the last skipped model and ignore\n",
    "                # its dependencies. This could be improved by some graph\n",
    "                # analysis to ignore as few dependencies as possible.\n",
    "                model, _ = skipped.pop()\n",
    "                model_list.append(model)\n",
    "            else:\n",
    "                raise RuntimeError(\n",
    "                    \"Can't resolve dependencies for %s in serialized app list.\"\n",
    "                    % \", \".join(\n",
    "                        model._meta.label\n",
    "                        for model, deps in sorted(\n",
    "                            skipped, key=lambda obj: obj[0].__name__\n",
    "                        )\n",
    "                    ),\n",
    "                )\n",
    "        model_dependencies = skipped\n",
    "\n",
    "    return model_list"
   ]
  },
  {
   "cell_type": "markdown",
   "metadata": {},
   "source": []
  }
 ],
 "metadata": {
  "language_info": {
   "name": "python"
  }
 },
 "nbformat": 4,
 "nbformat_minor": 2
}