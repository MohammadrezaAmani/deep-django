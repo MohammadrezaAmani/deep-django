{
 "cells": [
  {
   "cell_type": "code",
   "execution_count": null,
   "metadata": {},
   "outputs": [],
   "source": [
    "\"\"\"\n",
    "Serialize data to/from JSON Lines\n",
    "\"\"\"\n",
    "\n",
    "import json\n",
    "\n",
    "from django.core.serializers.base import DeserializationError\n",
    "from django.core.serializers.json import DjangoJSONEncoder\n",
    "from django.core.serializers.python import Deserializer as PythonDeserializer\n",
    "from django.core.serializers.python import Serializer as PythonSerializer"
   ]
  },
  {
   "cell_type": "markdown",
   "metadata": {},
   "source": []
  },
  {
   "cell_type": "code",
   "execution_count": null,
   "metadata": {},
   "outputs": [],
   "source": [
    "class Serializer(PythonSerializer):\n",
    "    \"\"\"Convert a queryset to JSON Lines.\"\"\"\n",
    "\n",
    "    internal_use_only = False\n",
    "\n",
    "    def _init_options(self):\n",
    "        self._current = None\n",
    "        self.json_kwargs = self.options.copy()\n",
    "        self.json_kwargs.pop(\"stream\", None)\n",
    "        self.json_kwargs.pop(\"fields\", None)\n",
    "        self.json_kwargs.pop(\"indent\", None)\n",
    "        self.json_kwargs[\"separators\"] = (\",\", \": \")\n",
    "        self.json_kwargs.setdefault(\"cls\", DjangoJSONEncoder)\n",
    "        self.json_kwargs.setdefault(\"ensure_ascii\", False)\n",
    "\n",
    "    def start_serialization(self):\n",
    "        self._init_options()\n",
    "\n",
    "    def end_object(self, obj):\n",
    "        # self._current has the field data\n",
    "        json.dump(self.get_dump_object(obj), self.stream, **self.json_kwargs)\n",
    "        self.stream.write(\"\\n\")\n",
    "        self._current = None\n",
    "\n",
    "    def getvalue(self):\n",
    "        # Grandparent super\n",
    "        return super(PythonSerializer, self).getvalue()"
   ]
  },
  {
   "cell_type": "markdown",
   "metadata": {},
   "source": []
  },
  {
   "cell_type": "code",
   "execution_count": null,
   "metadata": {},
   "outputs": [],
   "source": [
    "def Deserializer(stream_or_string, **options):\n",
    "    \"\"\"Deserialize a stream or string of JSON data.\"\"\"\n",
    "    if isinstance(stream_or_string, bytes):\n",
    "        stream_or_string = stream_or_string.decode()\n",
    "    if isinstance(stream_or_string, (bytes, str)):\n",
    "        stream_or_string = stream_or_string.split(\"\\n\")\n",
    "\n",
    "    for line in stream_or_string:\n",
    "        if not line.strip():\n",
    "            continue\n",
    "        try:\n",
    "            yield from PythonDeserializer([json.loads(line)], **options)\n",
    "        except (GeneratorExit, DeserializationError):\n",
    "            raise\n",
    "        except Exception as exc:\n",
    "            raise DeserializationError() from exc"
   ]
  },
  {
   "cell_type": "markdown",
   "metadata": {},
   "source": []
  }
 ],
 "metadata": {
  "language_info": {
   "name": "python"
  }
 },
 "nbformat": 4,
 "nbformat_minor": 2
}