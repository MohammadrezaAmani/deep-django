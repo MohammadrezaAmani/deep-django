{
 "cells": [
  {
   "cell_type": "code",
   "execution_count": null,
   "metadata": {},
   "outputs": [],
   "source": [
    "\"\"\"\n",
    "YAML serializer.\n",
    "\n",
    "Requires PyYaml (https://pyyaml.org/), but that's checked for in __init__.\n",
    "\"\"\"\n",
    "\n",
    "import collections\n",
    "import decimal\n",
    "from io import StringIO\n",
    "\n",
    "import yaml\n",
    "\n",
    "from django.core.serializers.base import DeserializationError\n",
    "from django.core.serializers.python import Deserializer as PythonDeserializer\n",
    "from django.core.serializers.python import Serializer as PythonSerializer\n",
    "from django.db import models\n",
    "\n",
    "# Use the C (faster) implementation if possible\n",
    "try:\n",
    "    from yaml import CSafeDumper as SafeDumper\n",
    "    from yaml import CSafeLoader as SafeLoader\n",
    "except ImportError:\n",
    "    from yaml import SafeDumper, SafeLoader"
   ]
  },
  {
   "cell_type": "markdown",
   "metadata": {},
   "source": []
  },
  {
   "cell_type": "code",
   "execution_count": null,
   "metadata": {},
   "outputs": [],
   "source": [
    "class DjangoSafeDumper(SafeDumper):\n",
    "    def represent_decimal(self, data):\n",
    "        return self.represent_scalar(\"tag:yaml.org,2002:str\", str(data))\n",
    "\n",
    "    def represent_ordered_dict(self, data):\n",
    "        return self.represent_mapping(\"tag:yaml.org,2002:map\", data.items())"
   ]
  },
  {
   "cell_type": "markdown",
   "metadata": {},
   "source": []
  },
  {
   "cell_type": "code",
   "execution_count": null,
   "metadata": {},
   "outputs": [],
   "source": [
    "DjangoSafeDumper.add_representer(decimal.Decimal, DjangoSafeDumper.represent_decimal)\n",
    "DjangoSafeDumper.add_representer(\n",
    "    collections.OrderedDict, DjangoSafeDumper.represent_ordered_dict\n",
    ")\n",
    "# Workaround to represent dictionaries in insertion order.\n",
    "# See https://github.com/yaml/pyyaml/pull/143.\n",
    "DjangoSafeDumper.add_representer(dict, DjangoSafeDumper.represent_ordered_dict)"
   ]
  },
  {
   "cell_type": "markdown",
   "metadata": {},
   "source": []
  },
  {
   "cell_type": "code",
   "execution_count": null,
   "metadata": {},
   "outputs": [],
   "source": [
    "class Serializer(PythonSerializer):\n",
    "    \"\"\"Convert a queryset to YAML.\"\"\"\n",
    "\n",
    "    internal_use_only = False\n",
    "\n",
    "    def handle_field(self, obj, field):\n",
    "        # A nasty special case: base YAML doesn't support serialization of time\n",
    "        # types (as opposed to dates or datetimes, which it does support). Since\n",
    "        # we want to use the \"safe\" serializer for better interoperability, we\n",
    "        # need to do something with those pesky times. Converting 'em to strings\n",
    "        # isn't perfect, but it's better than a \"!!python/time\" type which would\n",
    "        # halt deserialization under any other language.\n",
    "        if isinstance(field, models.TimeField) and getattr(obj, field.name) is not None:\n",
    "            self._current[field.name] = str(getattr(obj, field.name))\n",
    "        else:\n",
    "            super().handle_field(obj, field)\n",
    "\n",
    "    def end_serialization(self):\n",
    "        self.options.setdefault(\"allow_unicode\", True)\n",
    "        yaml.dump(self.objects, self.stream, Dumper=DjangoSafeDumper, **self.options)\n",
    "\n",
    "    def getvalue(self):\n",
    "        # Grandparent super\n",
    "        return super(PythonSerializer, self).getvalue()"
   ]
  },
  {
   "cell_type": "markdown",
   "metadata": {},
   "source": []
  },
  {
   "cell_type": "code",
   "execution_count": null,
   "metadata": {},
   "outputs": [],
   "source": [
    "def Deserializer(stream_or_string, **options):\n",
    "    \"\"\"Deserialize a stream or string of YAML data.\"\"\"\n",
    "    if isinstance(stream_or_string, bytes):\n",
    "        stream_or_string = stream_or_string.decode()\n",
    "    if isinstance(stream_or_string, str):\n",
    "        stream = StringIO(stream_or_string)\n",
    "    else:\n",
    "        stream = stream_or_string\n",
    "    try:\n",
    "        yield from PythonDeserializer(yaml.load(stream, Loader=SafeLoader), **options)\n",
    "    except (GeneratorExit, DeserializationError):\n",
    "        raise\n",
    "    except Exception as exc:\n",
    "        raise DeserializationError() from exc"
   ]
  },
  {
   "cell_type": "markdown",
   "metadata": {},
   "source": []
  }
 ],
 "metadata": {
  "language_info": {
   "name": "python"
  }
 },
 "nbformat": 4,
 "nbformat_minor": 2
}