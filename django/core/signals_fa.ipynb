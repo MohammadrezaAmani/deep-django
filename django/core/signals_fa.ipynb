{
    "cells": [
        {
            "cell_type": "code",
            "execution_count": null,
            "metadata": {},
            "outputs": [],
            "source": [
                "from django.dispatch import Signal\n",
                "\n",
                "request_started = Signal()\n",
                "request_finished = Signal()\n",
                "got_request_exception = Signal()\n",
                "setting_changed = Signal()\n",
                "\n"
            ]
        },
        {
            "cell_type": "markdown",
            "metadata": {},
            "source": []
        }
    ],
    "metadata": {
        "language_info": {
            "name": "python"
        }
    },
    "nbformat": 4,
    "nbformat_minor": 2
}