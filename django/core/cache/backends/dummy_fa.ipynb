{
 "cells": [
  {
   "cell_type": "code",
   "execution_count": null,
   "metadata": {},
   "outputs": [],
   "source": [
    "\"Dummy cache backend\"\n",
    "\n",
    "from django.core.cache.backends.base import DEFAULT_TIMEOUT, BaseCache"
   ]
  },
  {
   "cell_type": "markdown",
   "metadata": {},
   "source": []
  },
  {
   "cell_type": "code",
   "execution_count": null,
   "metadata": {},
   "outputs": [],
   "source": [
    "class DummyCache(BaseCache):\n",
    "    def __init__(self, host, *args, **kwargs):\n",
    "        super().__init__(*args, **kwargs)\n",
    "\n",
    "    def add(self, key, value, timeout=DEFAULT_TIMEOUT, version=None):\n",
    "        self.make_and_validate_key(key, version=version)\n",
    "        return True\n",
    "\n",
    "    def get(self, key, default=None, version=None):\n",
    "        self.make_and_validate_key(key, version=version)\n",
    "        return default\n",
    "\n",
    "    def set(self, key, value, timeout=DEFAULT_TIMEOUT, version=None):\n",
    "        self.make_and_validate_key(key, version=version)\n",
    "\n",
    "    def touch(self, key, timeout=DEFAULT_TIMEOUT, version=None):\n",
    "        self.make_and_validate_key(key, version=version)\n",
    "        return False\n",
    "\n",
    "    def delete(self, key, version=None):\n",
    "        self.make_and_validate_key(key, version=version)\n",
    "        return False\n",
    "\n",
    "    def has_key(self, key, version=None):\n",
    "        self.make_and_validate_key(key, version=version)\n",
    "        return False\n",
    "\n",
    "    def clear(self):\n",
    "        pass"
   ]
  },
  {
   "cell_type": "markdown",
   "metadata": {},
   "source": []
  }
 ],
 "metadata": {
  "language_info": {
   "name": "python"
  }
 },
 "nbformat": 4,
 "nbformat_minor": 2
}