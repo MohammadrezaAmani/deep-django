{
    "cells": [
        {
            "cell_type": "code",
            "execution_count": null,
            "metadata": {},
            "outputs": [],
            "source": [
                "from hashlib import md5\n",
                "\n",
                "TEMPLATE_FRAGMENT_KEY_TEMPLATE = \"template.cache.%s.%s\"\n"
            ]
        },
        {
            "cell_type": "markdown",
            "metadata": {},
            "source": []
        },
        {
            "cell_type": "code",
            "execution_count": null,
            "metadata": {},
            "outputs": [],
            "source": [
                "def make_template_fragment_key(fragment_name, vary_on=None):\n",
                "    hasher = md5(usedforsecurity=False)\n",
                "    if vary_on is not None:\n",
                "        for arg in vary_on:\n",
                "            hasher.update(str(arg).encode())\n",
                "            hasher.update(b\":\")\n",
                "    return TEMPLATE_FRAGMENT_KEY_TEMPLATE % (fragment_name, hasher.hexdigest())\n",
                "\n"
            ]
        },
        {
            "cell_type": "markdown",
            "metadata": {},
            "source": []
        }
    ],
    "metadata": {
        "language_info": {
            "name": "python"
        }
    },
    "nbformat": 4,
    "nbformat_minor": 2
}