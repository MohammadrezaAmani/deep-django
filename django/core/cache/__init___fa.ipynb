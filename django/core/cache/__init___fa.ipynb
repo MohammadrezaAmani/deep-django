{
    "cells": [
        {
            "cell_type": "code",
            "execution_count": null,
            "metadata": {},
            "outputs": [],
            "source": [
                "\"\"\"\n",
                "Caching framework.\n",
                "\n",
                "This package defines set of cache backends that all conform to a simple API.\n",
                "In a nutshell, a cache is a set of values -- which can be any object that\n",
                "may be pickled -- identified by string keys.  For the complete API, see\n",
                "the abstract BaseCache class in django.core.cache.backends.base.\n",
                "\n",
                "Client code should use the `cache` variable defined here to access the default\n",
                "cache backend and look up non-default cache backends in the `caches` dict-like\n",
                "object.\n",
                "\n",
                "See docs/topics/cache.txt for information on the public API.\n",
                "\"\"\"\n",
                "\n",
                "from django.core import signals\n",
                "from django.core.cache.backends.base import (\n",
                "    BaseCache,\n",
                "    CacheKeyWarning,\n",
                "    InvalidCacheBackendError,\n",
                "    InvalidCacheKey,\n",
                ")\n",
                "from django.utils.connection import BaseConnectionHandler, ConnectionProxy\n",
                "from django.utils.module_loading import import_string\n",
                "\n",
                "__all__ = [\n",
                "    \"cache\",\n",
                "    \"caches\",\n",
                "    \"DEFAULT_CACHE_ALIAS\",\n",
                "    \"InvalidCacheBackendError\",\n",
                "    \"CacheKeyWarning\",\n",
                "    \"BaseCache\",\n",
                "    \"InvalidCacheKey\",\n",
                "]\n",
                "\n",
                "DEFAULT_CACHE_ALIAS = \"default\"\n"
            ]
        },
        {
            "cell_type": "markdown",
            "metadata": {},
            "source": []
        },
        {
            "cell_type": "code",
            "execution_count": null,
            "metadata": {},
            "outputs": [],
            "source": [
                "class CacheHandler(BaseConnectionHandler):\n",
                "    settings_name = \"CACHES\"\n",
                "    exception_class = InvalidCacheBackendError\n",
                "\n",
                "    def create_connection(self, alias):\n",
                "        params = self.settings[alias].copy()\n",
                "        backend = params.pop(\"BACKEND\")\n",
                "        location = params.pop(\"LOCATION\", \"\")\n",
                "        try:\n",
                "            backend_cls = import_string(backend)\n",
                "        except ImportError as e:\n",
                "            raise InvalidCacheBackendError(\n",
                "                \"Could not find backend '%s': %s\" % (backend, e)\n",
                "            ) from e\n",
                "        return backend_cls(location, params)\n"
            ]
        },
        {
            "cell_type": "markdown",
            "metadata": {},
            "source": []
        },
        {
            "cell_type": "code",
            "execution_count": null,
            "metadata": {},
            "outputs": [],
            "source": [
                "caches = CacheHandler()\n",
                "\n",
                "cache = ConnectionProxy(caches, DEFAULT_CACHE_ALIAS)\n"
            ]
        },
        {
            "cell_type": "markdown",
            "metadata": {},
            "source": []
        },
        {
            "cell_type": "code",
            "execution_count": null,
            "metadata": {},
            "outputs": [],
            "source": [
                "def close_caches(**kwargs):\n",
                "    # Some caches need to do a cleanup at the end of a request cycle. If not\n",
                "    # implemented in a particular backend cache.close() is a no-op.\n",
                "    caches.close_all()\n"
            ]
        },
        {
            "cell_type": "markdown",
            "metadata": {},
            "source": []
        },
        {
            "cell_type": "code",
            "execution_count": null,
            "metadata": {},
            "outputs": [],
            "source": [
                "signals.request_finished.connect(close_caches)\n",
                "\n"
            ]
        },
        {
            "cell_type": "markdown",
            "metadata": {},
            "source": []
        }
    ],
    "metadata": {
        "language_info": {
            "name": "python"
        }
    },
    "nbformat": 4,
    "nbformat_minor": 2
}