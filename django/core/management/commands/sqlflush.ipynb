{
 "cells": [
  {
   "cell_type": "code",
   "execution_count": null,
   "metadata": {},
   "outputs": [],
   "source": [
    "from django.core.management.base import BaseCommand\n",
    "from django.core.management.sql import sql_flush\n",
    "from django.db import DEFAULT_DB_ALIAS, connections"
   ]
  },
  {
   "cell_type": "markdown",
   "metadata": {},
   "source": []
  },
  {
   "cell_type": "code",
   "execution_count": null,
   "metadata": {},
   "outputs": [],
   "source": [
    "class Command(BaseCommand):\n",
    "    help = (\n",
    "        \"Returns a list of the SQL statements required to return all tables in \"\n",
    "        \"the database to the state they were in just after they were installed.\"\n",
    "    )\n",
    "\n",
    "    output_transaction = True\n",
    "\n",
    "    def add_arguments(self, parser):\n",
    "        super().add_arguments(parser)\n",
    "        parser.add_argument(\n",
    "            \"--database\",\n",
    "            default=DEFAULT_DB_ALIAS,\n",
    "            help=(\n",
    "                'Nominates a database to print the SQL for. Defaults to the \"default\" '\n",
    "                \"database.\"\n",
    "            ),\n",
    "        )\n",
    "\n",
    "    def handle(self, **options):\n",
    "        sql_statements = sql_flush(self.style, connections[options[\"database\"]])\n",
    "        if not sql_statements and options[\"verbosity\"] >= 1:\n",
    "            self.stderr.write(\"No tables found.\")\n",
    "        return \"\\n\".join(sql_statements)"
   ]
  },
  {
   "cell_type": "markdown",
   "metadata": {},
   "source": []
  }
 ],
 "metadata": {
  "language_info": {
   "name": "python"
  }
 },
 "nbformat": 4,
 "nbformat_minor": 2
}