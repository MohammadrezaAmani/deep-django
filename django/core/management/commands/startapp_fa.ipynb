{
    "cells": [
        {
            "cell_type": "code",
            "execution_count": null,
            "metadata": {},
            "outputs": [],
            "source": [
                "from django.core.management.templates import TemplateCommand\n"
            ]
        },
        {
            "cell_type": "markdown",
            "metadata": {},
            "source": []
        },
        {
            "cell_type": "code",
            "execution_count": null,
            "metadata": {},
            "outputs": [],
            "source": [
                "class Command(TemplateCommand):\n",
                "    help = (\n",
                "        \"Creates a Django app directory structure for the given app name in \"\n",
                "        \"the current directory or optionally in the given directory.\"\n",
                "    )\n",
                "    missing_args_message = \"You must provide an application name.\"\n",
                "\n",
                "    def handle(self, **options):\n",
                "        app_name = options.pop(\"name\")\n",
                "        target = options.pop(\"directory\")\n",
                "        super().handle(\"app\", app_name, target, **options)\n",
                "\n"
            ]
        },
        {
            "cell_type": "markdown",
            "metadata": {},
            "source": []
        }
    ],
    "metadata": {
        "language_info": {
            "name": "python"
        }
    },
    "nbformat": 4,
    "nbformat_minor": 2
}