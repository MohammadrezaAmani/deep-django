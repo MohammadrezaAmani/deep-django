{
 "cells": [
  {
   "cell_type": "code",
   "execution_count": null,
   "metadata": {},
   "outputs": [],
   "source": [
    "from django.core.checks.security.base import SECRET_KEY_INSECURE_PREFIX\n",
    "from django.core.management.templates import TemplateCommand\n",
    "\n",
    "from ..utils import get_random_secret_key"
   ]
  },
  {
   "cell_type": "markdown",
   "metadata": {},
   "source": []
  },
  {
   "cell_type": "code",
   "execution_count": null,
   "metadata": {},
   "outputs": [],
   "source": [
    "class Command(TemplateCommand):\n",
    "    help = (\n",
    "        \"Creates a Django project directory structure for the given project \"\n",
    "        \"name in the current directory or optionally in the given directory.\"\n",
    "    )\n",
    "    missing_args_message = \"You must provide a project name.\"\n",
    "\n",
    "    def handle(self, **options):\n",
    "        project_name = options.pop(\"name\")\n",
    "        target = options.pop(\"directory\")\n",
    "\n",
    "        # Create a random SECRET_KEY to put it in the main settings.\n",
    "        options[\"secret_key\"] = SECRET_KEY_INSECURE_PREFIX + get_random_secret_key()\n",
    "\n",
    "        super().handle(\"project\", project_name, target, **options)"
   ]
  },
  {
   "cell_type": "markdown",
   "metadata": {},
   "source": []
  }
 ],
 "metadata": {
  "language_info": {
   "name": "python"
  }
 },
 "nbformat": 4,
 "nbformat_minor": 2
}