{
 "cells": [
  {
   "cell_type": "code",
   "execution_count": null,
   "metadata": {},
   "outputs": [],
   "source": [
    "import subprocess\n",
    "\n",
    "from django.core.management.base import BaseCommand, CommandError\n",
    "from django.db import DEFAULT_DB_ALIAS, connections"
   ]
  },
  {
   "cell_type": "markdown",
   "metadata": {},
   "source": []
  },
  {
   "cell_type": "code",
   "execution_count": null,
   "metadata": {},
   "outputs": [],
   "source": [
    "class Command(BaseCommand):\n",
    "    help = (\n",
    "        \"Runs the command-line client for specified database, or the \"\n",
    "        \"default database if none is provided.\"\n",
    "    )\n",
    "\n",
    "    requires_system_checks = []\n",
    "\n",
    "    def add_arguments(self, parser):\n",
    "        parser.add_argument(\n",
    "            \"--database\",\n",
    "            default=DEFAULT_DB_ALIAS,\n",
    "            help=(\n",
    "                \"Nominates a database onto which to open a shell. Defaults to the \"\n",
    "                '\"default\" database.'\n",
    "            ),\n",
    "        )\n",
    "        parameters = parser.add_argument_group(\"parameters\", prefix_chars=\"--\")\n",
    "        parameters.add_argument(\"parameters\", nargs=\"*\")\n",
    "\n",
    "    def handle(self, **options):\n",
    "        connection = connections[options[\"database\"]]\n",
    "        try:\n",
    "            connection.client.runshell(options[\"parameters\"])\n",
    "        except FileNotFoundError:\n",
    "            # Note that we're assuming the FileNotFoundError relates to the\n",
    "            # command missing. It could be raised for some other reason, in\n",
    "            # which case this error message would be inaccurate. Still, this\n",
    "            # message catches the common case.\n",
    "            raise CommandError(\n",
    "                \"You appear not to have the %r program installed or on your path.\"\n",
    "                % connection.client.executable_name\n",
    "            )\n",
    "        except subprocess.CalledProcessError as e:\n",
    "            raise CommandError(\n",
    "                '\"%s\" returned non-zero exit status %s.'\n",
    "                % (\n",
    "                    \" \".join(map(str, e.cmd)),\n",
    "                    e.returncode,\n",
    "                ),\n",
    "                returncode=e.returncode,\n",
    "            )"
   ]
  },
  {
   "cell_type": "markdown",
   "metadata": {},
   "source": []
  }
 ],
 "metadata": {
  "language_info": {
   "name": "python"
  }
 },
 "nbformat": 4,
 "nbformat_minor": 2
}