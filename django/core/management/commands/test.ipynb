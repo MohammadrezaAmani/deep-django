{
    "cells": [
        {
            "cell_type": "code",
            "execution_count": null,
            "metadata": {},
            "outputs": [],
            "source": [
                "import sys\n",
                "\n",
                "from django.conf import settings\n",
                "from django.core.management.base import BaseCommand\n",
                "from django.core.management.utils import get_command_line_option\n",
                "from django.test.runner import get_max_test_processes\n",
                "from django.test.utils import NullTimeKeeper, TimeKeeper, get_runner\n"
            ]
        },
        {
            "cell_type": "markdown",
            "metadata": {},
            "source": []
        },
        {
            "cell_type": "code",
            "execution_count": null,
            "metadata": {},
            "outputs": [],
            "source": [
                "class Command(BaseCommand):\n",
                "    help = \"Discover and run tests in the specified modules or the current directory.\"\n",
                "\n",
                "    # DiscoverRunner runs the checks after databases are set up.\n",
                "    requires_system_checks = []\n",
                "    test_runner = None\n",
                "\n",
                "    def run_from_argv(self, argv):\n",
                "        \"\"\"\n",
                "        Pre-parse the command line to extract the value of the --testrunner\n",
                "        option. This allows a test runner to define additional command line\n",
                "        arguments.\n",
                "        \"\"\"\n",
                "        self.test_runner = get_command_line_option(argv, \"--testrunner\")\n",
                "        super().run_from_argv(argv)\n",
                "\n",
                "    def add_arguments(self, parser):\n",
                "        parser.add_argument(\n",
                "            \"args\",\n",
                "            metavar=\"test_label\",\n",
                "            nargs=\"*\",\n",
                "            help=(\n",
                "                \"Module paths to test; can be modulename, modulename.TestCase or \"\n",
                "                \"modulename.TestCase.test_method\"\n",
                "            ),\n",
                "        )\n",
                "        parser.add_argument(\n",
                "            \"--noinput\",\n",
                "            \"--no-input\",\n",
                "            action=\"store_false\",\n",
                "            dest=\"interactive\",\n",
                "            help=\"Tells Django to NOT prompt the user for input of any kind.\",\n",
                "        )\n",
                "        parser.add_argument(\n",
                "            \"--failfast\",\n",
                "            action=\"store_true\",\n",
                "            help=\"Tells Django to stop running the test suite after first failed test.\",\n",
                "        )\n",
                "        parser.add_argument(\n",
                "            \"--testrunner\",\n",
                "            help=\"Tells Django to use specified test runner class instead of \"\n",
                "            \"the one specified by the TEST_RUNNER setting.\",\n",
                "        )\n",
                "\n",
                "        test_runner_class = get_runner(settings, self.test_runner)\n",
                "\n",
                "        if hasattr(test_runner_class, \"add_arguments\"):\n",
                "            test_runner_class.add_arguments(parser)\n",
                "\n",
                "    def handle(self, *test_labels, **options):\n",
                "        TestRunner = get_runner(settings, options[\"testrunner\"])\n",
                "\n",
                "        time_keeper = TimeKeeper() if options.get(\"timing\", False) else NullTimeKeeper()\n",
                "        parallel = options.get(\"parallel\")\n",
                "        if parallel == \"auto\":\n",
                "            options[\"parallel\"] = get_max_test_processes()\n",
                "        test_runner = TestRunner(**options)\n",
                "        with time_keeper.timed(\"Total run\"):\n",
                "            failures = test_runner.run_tests(test_labels)\n",
                "        time_keeper.print_results()\n",
                "        if failures:\n",
                "            sys.exit(1)\n",
                "\n"
            ]
        },
        {
            "cell_type": "markdown",
            "metadata": {},
            "source": []
        }
    ],
    "metadata": {
        "language_info": {
            "name": "python"
        }
    },
    "nbformat": 4,
    "nbformat_minor": 2
}