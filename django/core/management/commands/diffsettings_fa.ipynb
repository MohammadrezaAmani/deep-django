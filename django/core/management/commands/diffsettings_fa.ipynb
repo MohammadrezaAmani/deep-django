{
 "cells": [
  {
   "cell_type": "code",
   "execution_count": null,
   "metadata": {},
   "outputs": [],
   "source": [
    "from django.core.management.base import BaseCommand"
   ]
  },
  {
   "cell_type": "markdown",
   "metadata": {},
   "source": []
  },
  {
   "cell_type": "code",
   "execution_count": null,
   "metadata": {},
   "outputs": [],
   "source": [
    "def module_to_dict(module, omittable=lambda k: k.startswith(\"_\") or not k.isupper()):\n",
    "    \"\"\"Convert a module namespace to a Python dictionary.\"\"\"\n",
    "    return {k: repr(getattr(module, k)) for k in dir(module) if not omittable(k)}"
   ]
  },
  {
   "cell_type": "markdown",
   "metadata": {},
   "source": []
  },
  {
   "cell_type": "code",
   "execution_count": null,
   "metadata": {},
   "outputs": [],
   "source": [
    "class Command(BaseCommand):\n",
    "    help = \"\"\"Displays differences between the current settings.py and Django's\n",
    "    default settings.\"\"\"\n",
    "\n",
    "    requires_system_checks = []\n",
    "\n",
    "    def add_arguments(self, parser):\n",
    "        parser.add_argument(\n",
    "            \"--all\",\n",
    "            action=\"store_true\",\n",
    "            help=(\n",
    "                'Display all settings, regardless of their value. In \"hash\" '\n",
    "                'mode, default values are prefixed by \"###\".'\n",
    "            ),\n",
    "        )\n",
    "        parser.add_argument(\n",
    "            \"--default\",\n",
    "            metavar=\"MODULE\",\n",
    "            help=(\n",
    "                \"The settings module to compare the current settings against. Leave \"\n",
    "                \"empty to compare against Django's default settings.\"\n",
    "            ),\n",
    "        )\n",
    "        parser.add_argument(\n",
    "            \"--output\",\n",
    "            default=\"hash\",\n",
    "            choices=(\"hash\", \"unified\"),\n",
    "            help=(\n",
    "                \"Selects the output format. 'hash' mode displays each changed \"\n",
    "                \"setting, with the settings that don't appear in the defaults \"\n",
    "                \"followed by ###. 'unified' mode prefixes the default setting \"\n",
    "                \"with a minus sign, followed by the changed setting prefixed \"\n",
    "                \"with a plus sign.\"\n",
    "            ),\n",
    "        )\n",
    "\n",
    "    def handle(self, **options):\n",
    "        from django.conf import Settings, global_settings, settings\n",
    "\n",
    "        # Because settings are imported lazily, we need to explicitly load them.\n",
    "        if not settings.configured:\n",
    "            settings._setup()\n",
    "\n",
    "        user_settings = module_to_dict(settings._wrapped)\n",
    "        default = options[\"default\"]\n",
    "        default_settings = module_to_dict(\n",
    "            Settings(default) if default else global_settings\n",
    "        )\n",
    "        output_func = {\n",
    "            \"hash\": self.output_hash,\n",
    "            \"unified\": self.output_unified,\n",
    "        }[options[\"output\"]]\n",
    "        return \"\\n\".join(output_func(user_settings, default_settings, **options))\n",
    "\n",
    "    def output_hash(self, user_settings, default_settings, **options):\n",
    "        # Inspired by Postfix's \"postconf -n\".\n",
    "        output = []\n",
    "        for key in sorted(user_settings):\n",
    "            if key not in default_settings:\n",
    "                output.append(\"%s = %s  ###\" % (key, user_settings[key]))\n",
    "            elif user_settings[key] != default_settings[key]:\n",
    "                output.append(\"%s = %s\" % (key, user_settings[key]))\n",
    "            elif options[\"all\"]:\n",
    "                output.append(\"### %s = %s\" % (key, user_settings[key]))\n",
    "        return output\n",
    "\n",
    "    def output_unified(self, user_settings, default_settings, **options):\n",
    "        output = []\n",
    "        for key in sorted(user_settings):\n",
    "            if key not in default_settings:\n",
    "                output.append(\n",
    "                    self.style.SUCCESS(\"+ %s = %s\" % (key, user_settings[key]))\n",
    "                )\n",
    "            elif user_settings[key] != default_settings[key]:\n",
    "                output.append(\n",
    "                    self.style.ERROR(\"- %s = %s\" % (key, default_settings[key]))\n",
    "                )\n",
    "                output.append(\n",
    "                    self.style.SUCCESS(\"+ %s = %s\" % (key, user_settings[key]))\n",
    "                )\n",
    "            elif options[\"all\"]:\n",
    "                output.append(\"  %s = %s\" % (key, user_settings[key]))\n",
    "        return output"
   ]
  },
  {
   "cell_type": "markdown",
   "metadata": {},
   "source": []
  }
 ],
 "metadata": {
  "language_info": {
   "name": "python"
  }
 },
 "nbformat": 4,
 "nbformat_minor": 2
}