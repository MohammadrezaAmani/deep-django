{
 "cells": [
  {
   "cell_type": "code",
   "execution_count": null,
   "metadata": {},
   "outputs": [],
   "source": [
    "from django.core.management import call_command\n",
    "from django.core.management.base import BaseCommand\n",
    "from django.db import connection"
   ]
  },
  {
   "cell_type": "markdown",
   "metadata": {},
   "source": []
  },
  {
   "cell_type": "code",
   "execution_count": null,
   "metadata": {},
   "outputs": [],
   "source": [
    "class Command(BaseCommand):\n",
    "    help = \"Runs a development server with data from the given fixture(s).\"\n",
    "\n",
    "    requires_system_checks = []\n",
    "\n",
    "    def add_arguments(self, parser):\n",
    "        parser.add_argument(\n",
    "            \"args\",\n",
    "            metavar=\"fixture\",\n",
    "            nargs=\"*\",\n",
    "            help=\"Path(s) to fixtures to load before running the server.\",\n",
    "        )\n",
    "        parser.add_argument(\n",
    "            \"--noinput\",\n",
    "            \"--no-input\",\n",
    "            action=\"store_false\",\n",
    "            dest=\"interactive\",\n",
    "            help=\"Tells Django to NOT prompt the user for input of any kind.\",\n",
    "        )\n",
    "        parser.add_argument(\n",
    "            \"--addrport\",\n",
    "            default=\"\",\n",
    "            help=\"Port number or ipaddr:port to run the server on.\",\n",
    "        )\n",
    "        parser.add_argument(\n",
    "            \"--ipv6\",\n",
    "            \"-6\",\n",
    "            action=\"store_true\",\n",
    "            dest=\"use_ipv6\",\n",
    "            help=\"Tells Django to use an IPv6 address.\",\n",
    "        )\n",
    "\n",
    "    def handle(self, *fixture_labels, **options):\n",
    "        verbosity = options[\"verbosity\"]\n",
    "        interactive = options[\"interactive\"]\n",
    "\n",
    "        # Create a test database.\n",
    "        db_name = connection.creation.create_test_db(\n",
    "            verbosity=verbosity, autoclobber=not interactive, serialize=False\n",
    "        )\n",
    "\n",
    "        # Import the fixture data into the test database.\n",
    "        call_command(\"loaddata\", *fixture_labels, verbosity=verbosity)\n",
    "\n",
    "        # Run the development server. Turn off auto-reloading because it causes\n",
    "        # a strange error -- it causes this handle() method to be called\n",
    "        # multiple times.\n",
    "        shutdown_message = (\n",
    "            \"\\nServer stopped.\\nNote that the test database, %r, has not been \"\n",
    "            \"deleted. You can explore it on your own.\" % db_name\n",
    "        )\n",
    "        use_threading = connection.features.test_db_allows_multiple_connections\n",
    "        call_command(\n",
    "            \"runserver\",\n",
    "            addrport=options[\"addrport\"],\n",
    "            shutdown_message=shutdown_message,\n",
    "            use_reloader=False,\n",
    "            use_ipv6=options[\"use_ipv6\"],\n",
    "            use_threading=use_threading,\n",
    "        )"
   ]
  },
  {
   "cell_type": "markdown",
   "metadata": {},
   "source": []
  }
 ],
 "metadata": {
  "language_info": {
   "name": "python"
  }
 },
 "nbformat": 4,
 "nbformat_minor": 2
}