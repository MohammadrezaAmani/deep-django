{
    "cells": [
        {
            "cell_type": "code",
            "execution_count": null,
            "metadata": {},
            "outputs": [],
            "source": [
                "import socket\n",
                "\n",
                "from django.core.mail import mail_admins, mail_managers, send_mail\n",
                "from django.core.management.base import BaseCommand\n",
                "from django.utils import timezone\n"
            ]
        },
        {
            "cell_type": "markdown",
            "metadata": {},
            "source": []
        },
        {
            "cell_type": "code",
            "execution_count": null,
            "metadata": {},
            "outputs": [],
            "source": [
                "class Command(BaseCommand):\n",
                "    help = \"Sends a test email to the email addresses specified as arguments.\"\n",
                "    missing_args_message = (\n",
                "        \"You must specify some email recipients, or pass the --managers or --admin \"\n",
                "        \"options.\"\n",
                "    )\n",
                "\n",
                "    def add_arguments(self, parser):\n",
                "        parser.add_argument(\n",
                "            \"email\",\n",
                "            nargs=\"*\",\n",
                "            help=\"One or more email addresses to send a test email to.\",\n",
                "        )\n",
                "        parser.add_argument(\n",
                "            \"--managers\",\n",
                "            action=\"store_true\",\n",
                "            help=\"Send a test email to the addresses specified in settings.MANAGERS.\",\n",
                "        )\n",
                "        parser.add_argument(\n",
                "            \"--admins\",\n",
                "            action=\"store_true\",\n",
                "            help=\"Send a test email to the addresses specified in settings.ADMINS.\",\n",
                "        )\n",
                "\n",
                "    def handle(self, *args, **kwargs):\n",
                "        subject = \"Test email from %s on %s\" % (socket.gethostname(), timezone.now())\n",
                "\n",
                "        send_mail(\n",
                "            subject=subject,\n",
                "            message=\"If you're reading this, it was successful.\",\n",
                "            from_email=None,\n",
                "            recipient_list=kwargs[\"email\"],\n",
                "        )\n",
                "\n",
                "        if kwargs[\"managers\"]:\n",
                "            mail_managers(subject, \"This email was sent to the site managers.\")\n",
                "\n",
                "        if kwargs[\"admins\"]:\n",
                "            mail_admins(subject, \"This email was sent to the site admins.\")\n",
                "\n"
            ]
        },
        {
            "cell_type": "markdown",
            "metadata": {},
            "source": []
        }
    ],
    "metadata": {
        "language_info": {
            "name": "python"
        }
    },
    "nbformat": 4,
    "nbformat_minor": 2
}