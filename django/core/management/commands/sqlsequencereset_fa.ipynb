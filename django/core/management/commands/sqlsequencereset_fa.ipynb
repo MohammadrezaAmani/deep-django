{
    "cells": [
        {
            "cell_type": "code",
            "execution_count": null,
            "metadata": {},
            "outputs": [],
            "source": [
                "from django.core.management.base import AppCommand\n",
                "from django.db import DEFAULT_DB_ALIAS, connections\n"
            ]
        },
        {
            "cell_type": "markdown",
            "metadata": {},
            "source": []
        },
        {
            "cell_type": "code",
            "execution_count": null,
            "metadata": {},
            "outputs": [],
            "source": [
                "class Command(AppCommand):\n",
                "    help = (\n",
                "        \"Prints the SQL statements for resetting sequences for the given app name(s).\"\n",
                "    )\n",
                "\n",
                "    output_transaction = True\n",
                "\n",
                "    def add_arguments(self, parser):\n",
                "        super().add_arguments(parser)\n",
                "        parser.add_argument(\n",
                "            \"--database\",\n",
                "            default=DEFAULT_DB_ALIAS,\n",
                "            help=(\n",
                "                'Nominates a database to print the SQL for. Defaults to the \"default\" '\n",
                "                \"database.\"\n",
                "            ),\n",
                "        )\n",
                "\n",
                "    def handle_app_config(self, app_config, **options):\n",
                "        if app_config.models_module is None:\n",
                "            return\n",
                "        connection = connections[options[\"database\"]]\n",
                "        models = app_config.get_models(include_auto_created=True)\n",
                "        statements = connection.ops.sequence_reset_sql(self.style, models)\n",
                "        if not statements and options[\"verbosity\"] >= 1:\n",
                "            self.stderr.write(\"No sequences found.\")\n",
                "        return \"\\n\".join(statements)\n",
                "\n"
            ]
        },
        {
            "cell_type": "markdown",
            "metadata": {},
            "source": []
        }
    ],
    "metadata": {
        "language_info": {
            "name": "python"
        }
    },
    "nbformat": 4,
    "nbformat_minor": 2
}