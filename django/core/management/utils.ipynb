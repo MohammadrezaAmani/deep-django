{
 "cells": [
  {
   "cell_type": "code",
   "execution_count": null,
   "metadata": {},
   "outputs": [],
   "source": [
    "import fnmatch\n",
    "import os\n",
    "import shutil\n",
    "import subprocess\n",
    "from pathlib import Path\n",
    "from subprocess import run\n",
    "\n",
    "from django.apps import apps as installed_apps\n",
    "from django.utils.crypto import get_random_string\n",
    "from django.utils.encoding import DEFAULT_LOCALE_ENCODING\n",
    "\n",
    "from .base import CommandError, CommandParser"
   ]
  },
  {
   "cell_type": "markdown",
   "metadata": {},
   "source": []
  },
  {
   "cell_type": "code",
   "execution_count": null,
   "metadata": {},
   "outputs": [],
   "source": [
    "def popen_wrapper(args, stdout_encoding=\"utf-8\"):\n",
    "    \"\"\"\n",
    "    Friendly wrapper around Popen.\n",
    "\n",
    "    Return stdout output, stderr output, and OS status code.\n",
    "    \"\"\"\n",
    "    try:\n",
    "        p = run(args, capture_output=True, close_fds=os.name != \"nt\")\n",
    "    except OSError as err:\n",
    "        raise CommandError(\"Error executing %s\" % args[0]) from err\n",
    "    return (\n",
    "        p.stdout.decode(stdout_encoding),\n",
    "        p.stderr.decode(DEFAULT_LOCALE_ENCODING, errors=\"replace\"),\n",
    "        p.returncode,\n",
    "    )"
   ]
  },
  {
   "cell_type": "markdown",
   "metadata": {},
   "source": []
  },
  {
   "cell_type": "code",
   "execution_count": null,
   "metadata": {},
   "outputs": [],
   "source": [
    "def handle_extensions(extensions):\n",
    "    \"\"\"\n",
    "    Organize multiple extensions that are separated with commas or passed by\n",
    "    using --extension/-e multiple times.\n",
    "\n",
    "    For example: running 'django-admin makemessages -e js,txt -e xhtml -a'\n",
    "    would result in an extension list: ['.js', '.txt', '.xhtml']\n",
    "\n",
    "    >>> handle_extensions(['.html', 'html,js,py,py,py,.py', 'py,.py'])\n",
    "    {'.html', '.js', '.py'}\n",
    "    >>> handle_extensions(['.html, txt,.tpl'])\n",
    "    {'.html', '.tpl', '.txt'}\n",
    "    \"\"\"\n",
    "    ext_list = []\n",
    "    for ext in extensions:\n",
    "        ext_list.extend(ext.replace(\" \", \"\").split(\",\"))\n",
    "    for i, ext in enumerate(ext_list):\n",
    "        if not ext.startswith(\".\"):\n",
    "            ext_list[i] = \".%s\" % ext_list[i]\n",
    "    return set(ext_list)"
   ]
  },
  {
   "cell_type": "markdown",
   "metadata": {},
   "source": []
  },
  {
   "cell_type": "code",
   "execution_count": null,
   "metadata": {},
   "outputs": [],
   "source": [
    "def find_command(cmd, path=None, pathext=None):\n",
    "    if path is None:\n",
    "        path = os.environ.get(\"PATH\", \"\").split(os.pathsep)\n",
    "    if isinstance(path, str):\n",
    "        path = [path]\n",
    "    # check if there are funny path extensions for executables, e.g. Windows\n",
    "    if pathext is None:\n",
    "        pathext = os.environ.get(\"PATHEXT\", \".COM;.EXE;.BAT;.CMD\").split(os.pathsep)\n",
    "    # don't use extensions if the command ends with one of them\n",
    "    for ext in pathext:\n",
    "        if cmd.endswith(ext):\n",
    "            pathext = [\"\"]\n",
    "            break\n",
    "    # check if we find the command on PATH\n",
    "    for p in path:\n",
    "        f = os.path.join(p, cmd)\n",
    "        if os.path.isfile(f):\n",
    "            return f\n",
    "        for ext in pathext:\n",
    "            fext = f + ext\n",
    "            if os.path.isfile(fext):\n",
    "                return fext\n",
    "    return None"
   ]
  },
  {
   "cell_type": "markdown",
   "metadata": {},
   "source": []
  },
  {
   "cell_type": "code",
   "execution_count": null,
   "metadata": {},
   "outputs": [],
   "source": [
    "def get_random_secret_key():\n",
    "    \"\"\"\n",
    "    Return a 50 character random string usable as a SECRET_KEY setting value.\n",
    "    \"\"\"\n",
    "    chars = \"abcdefghijklmnopqrstuvwxyz0123456789!@#$%^&*(-_=+)\"\n",
    "    return get_random_string(50, chars)"
   ]
  },
  {
   "cell_type": "markdown",
   "metadata": {},
   "source": []
  },
  {
   "cell_type": "code",
   "execution_count": null,
   "metadata": {},
   "outputs": [],
   "source": [
    "def parse_apps_and_model_labels(labels):\n",
    "    \"\"\"\n",
    "    Parse a list of \"app_label.ModelName\" or \"app_label\" strings into actual\n",
    "    objects and return a two-element tuple:\n",
    "        (set of model classes, set of app_configs).\n",
    "    Raise a CommandError if some specified models or apps don't exist.\n",
    "    \"\"\"\n",
    "    apps = set()\n",
    "    models = set()\n",
    "\n",
    "    for label in labels:\n",
    "        if \".\" in label:\n",
    "            try:\n",
    "                model = installed_apps.get_model(label)\n",
    "            except LookupError:\n",
    "                raise CommandError(\"Unknown model: %s\" % label)\n",
    "            models.add(model)\n",
    "        else:\n",
    "            try:\n",
    "                app_config = installed_apps.get_app_config(label)\n",
    "            except LookupError as e:\n",
    "                raise CommandError(str(e))\n",
    "            apps.add(app_config)\n",
    "\n",
    "    return models, apps"
   ]
  },
  {
   "cell_type": "markdown",
   "metadata": {},
   "source": []
  },
  {
   "cell_type": "code",
   "execution_count": null,
   "metadata": {},
   "outputs": [],
   "source": [
    "def get_command_line_option(argv, option):\n",
    "    \"\"\"\n",
    "    Return the value of a command line option (which should include leading\n",
    "    dashes, e.g. '--testrunner') from an argument list. Return None if the\n",
    "    option wasn't passed or if the argument list couldn't be parsed.\n",
    "    \"\"\"\n",
    "    parser = CommandParser(add_help=False, allow_abbrev=False)\n",
    "    parser.add_argument(option, dest=\"value\")\n",
    "    try:\n",
    "        options, _ = parser.parse_known_args(argv[2:])\n",
    "    except CommandError:\n",
    "        return None\n",
    "    else:\n",
    "        return options.value"
   ]
  },
  {
   "cell_type": "markdown",
   "metadata": {},
   "source": []
  },
  {
   "cell_type": "code",
   "execution_count": null,
   "metadata": {},
   "outputs": [],
   "source": [
    "def normalize_path_patterns(patterns):\n",
    "    \"\"\"Normalize an iterable of glob style patterns based on OS.\"\"\"\n",
    "    patterns = [os.path.normcase(p) for p in patterns]\n",
    "    dir_suffixes = {\"%s*\" % path_sep for path_sep in {\"/\", os.sep}}\n",
    "    norm_patterns = []\n",
    "    for pattern in patterns:\n",
    "        for dir_suffix in dir_suffixes:\n",
    "            if pattern.endswith(dir_suffix):\n",
    "                norm_patterns.append(pattern.removesuffix(dir_suffix))\n",
    "                break\n",
    "        else:\n",
    "            norm_patterns.append(pattern)\n",
    "    return norm_patterns"
   ]
  },
  {
   "cell_type": "markdown",
   "metadata": {},
   "source": []
  },
  {
   "cell_type": "code",
   "execution_count": null,
   "metadata": {},
   "outputs": [],
   "source": [
    "def is_ignored_path(path, ignore_patterns):\n",
    "    \"\"\"\n",
    "    Check if the given path should be ignored or not based on matching\n",
    "    one of the glob style `ignore_patterns`.\n",
    "    \"\"\"\n",
    "    path = Path(path)\n",
    "\n",
    "    def ignore(pattern):\n",
    "        return fnmatch.fnmatchcase(path.name, pattern) or fnmatch.fnmatchcase(\n",
    "            str(path), pattern\n",
    "        )\n",
    "\n",
    "    return any(ignore(pattern) for pattern in normalize_path_patterns(ignore_patterns))"
   ]
  },
  {
   "cell_type": "markdown",
   "metadata": {},
   "source": []
  },
  {
   "cell_type": "code",
   "execution_count": null,
   "metadata": {},
   "outputs": [],
   "source": [
    "def find_formatters():\n",
    "    return {\"black_path\": shutil.which(\"black\")}"
   ]
  },
  {
   "cell_type": "markdown",
   "metadata": {},
   "source": []
  },
  {
   "cell_type": "code",
   "execution_count": null,
   "metadata": {},
   "outputs": [],
   "source": [
    "def run_formatters(written_files, black_path=(sentinel := object())):\n",
    "    \"\"\"\n",
    "    Run the black formatter on the specified files.\n",
    "    \"\"\"\n",
    "    # Use a sentinel rather than None, as which() returns None when not found.\n",
    "    if black_path is sentinel:\n",
    "        black_path = shutil.which(\"black\")\n",
    "    if black_path:\n",
    "        subprocess.run(\n",
    "            [black_path, \"--fast\", \"--\", *written_files],\n",
    "            capture_output=True,\n",
    "        )"
   ]
  },
  {
   "cell_type": "markdown",
   "metadata": {},
   "source": []
  }
 ],
 "metadata": {
  "language_info": {
   "name": "python"
  }
 },
 "nbformat": 4,
 "nbformat_minor": 2
}