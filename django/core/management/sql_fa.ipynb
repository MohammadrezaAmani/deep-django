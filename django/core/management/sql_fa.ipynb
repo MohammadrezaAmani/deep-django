{
    "cells": [
        {
            "cell_type": "code",
            "execution_count": null,
            "metadata": {},
            "outputs": [],
            "source": [
                "import sys\n",
                "\n",
                "from django.apps import apps\n",
                "from django.db import models\n"
            ]
        },
        {
            "cell_type": "markdown",
            "metadata": {},
            "source": []
        },
        {
            "cell_type": "code",
            "execution_count": null,
            "metadata": {},
            "outputs": [],
            "source": [
                "def sql_flush(style, connection, reset_sequences=True, allow_cascade=False):\n",
                "    \"\"\"\n",
                "    Return a list of the SQL statements used to flush the database.\n",
                "    \"\"\"\n",
                "    tables = connection.introspection.django_table_names(\n",
                "        only_existing=True, include_views=False\n",
                "    )\n",
                "    return connection.ops.sql_flush(\n",
                "        style,\n",
                "        tables,\n",
                "        reset_sequences=reset_sequences,\n",
                "        allow_cascade=allow_cascade,\n",
                "    )\n"
            ]
        },
        {
            "cell_type": "markdown",
            "metadata": {},
            "source": []
        },
        {
            "cell_type": "code",
            "execution_count": null,
            "metadata": {},
            "outputs": [],
            "source": [
                "def emit_pre_migrate_signal(verbosity, interactive, db, **kwargs):\n",
                "    # Emit the pre_migrate signal for every application.\n",
                "    for app_config in apps.get_app_configs():\n",
                "        if app_config.models_module is None:\n",
                "            continue\n",
                "        if verbosity >= 2:\n",
                "            stdout = kwargs.get(\"stdout\", sys.stdout)\n",
                "            stdout.write(\n",
                "                \"Running pre-migrate handlers for application %s\" % app_config.label\n",
                "            )\n",
                "        models.signals.pre_migrate.send(\n",
                "            sender=app_config,\n",
                "            app_config=app_config,\n",
                "            verbosity=verbosity,\n",
                "            interactive=interactive,\n",
                "            using=db,\n",
                "            **kwargs,\n",
                "        )\n"
            ]
        },
        {
            "cell_type": "markdown",
            "metadata": {},
            "source": []
        },
        {
            "cell_type": "code",
            "execution_count": null,
            "metadata": {},
            "outputs": [],
            "source": [
                "def emit_post_migrate_signal(verbosity, interactive, db, **kwargs):\n",
                "    # Emit the post_migrate signal for every application.\n",
                "    for app_config in apps.get_app_configs():\n",
                "        if app_config.models_module is None:\n",
                "            continue\n",
                "        if verbosity >= 2:\n",
                "            stdout = kwargs.get(\"stdout\", sys.stdout)\n",
                "            stdout.write(\n",
                "                \"Running post-migrate handlers for application %s\" % app_config.label\n",
                "            )\n",
                "        models.signals.post_migrate.send(\n",
                "            sender=app_config,\n",
                "            app_config=app_config,\n",
                "            verbosity=verbosity,\n",
                "            interactive=interactive,\n",
                "            using=db,\n",
                "            **kwargs,\n",
                "        )\n",
                "\n"
            ]
        },
        {
            "cell_type": "markdown",
            "metadata": {},
            "source": []
        }
    ],
    "metadata": {
        "language_info": {
            "name": "python"
        }
    },
    "nbformat": 4,
    "nbformat_minor": 2
}