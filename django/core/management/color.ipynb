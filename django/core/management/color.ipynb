{
 "cells": [
  {
   "cell_type": "code",
   "execution_count": null,
   "metadata": {},
   "outputs": [],
   "source": [
    "\"\"\"\n",
    "Sets up the terminal color scheme.\n",
    "\"\"\"\n",
    "\n",
    "import functools\n",
    "import os\n",
    "import sys\n",
    "\n",
    "from django.utils import termcolors\n",
    "\n",
    "try:\n",
    "    import colorama\n",
    "\n",
    "    # Avoid initializing colorama in non-Windows platforms.\n",
    "    colorama.just_fix_windows_console()\n",
    "except (\n",
    "    AttributeError,  # colorama <= 0.4.6.\n",
    "    ImportError,  # colorama is not installed.\n",
    "    # If just_fix_windows_console() accesses sys.stdout with\n",
    "    # WSGIRestrictedStdout.\n",
    "    OSError,\n",
    "):\n",
    "    HAS_COLORAMA = False\n",
    "else:\n",
    "    HAS_COLORAMA = True"
   ]
  },
  {
   "cell_type": "markdown",
   "metadata": {},
   "source": []
  },
  {
   "cell_type": "code",
   "execution_count": null,
   "metadata": {},
   "outputs": [],
   "source": [
    "def supports_color():\n",
    "    \"\"\"\n",
    "    Return True if the running system's terminal supports color,\n",
    "    and False otherwise.\n",
    "    \"\"\"\n",
    "\n",
    "    def vt_codes_enabled_in_windows_registry():\n",
    "        \"\"\"\n",
    "        Check the Windows Registry to see if VT code handling has been enabled\n",
    "        by default, see https://superuser.com/a/1300251/447564.\n",
    "        \"\"\"\n",
    "        try:\n",
    "            # winreg is only available on Windows.\n",
    "            import winreg\n",
    "        except ImportError:\n",
    "            return False\n",
    "        else:\n",
    "            try:\n",
    "                reg_key = winreg.OpenKey(winreg.HKEY_CURRENT_USER, \"Console\")\n",
    "                reg_key_value, _ = winreg.QueryValueEx(reg_key, \"VirtualTerminalLevel\")\n",
    "            except FileNotFoundError:\n",
    "                return False\n",
    "            else:\n",
    "                return reg_key_value == 1\n",
    "\n",
    "    # isatty is not always implemented, #6223.\n",
    "    is_a_tty = hasattr(sys.stdout, \"isatty\") and sys.stdout.isatty()\n",
    "\n",
    "    return is_a_tty and (\n",
    "        sys.platform != \"win32\"\n",
    "        or (HAS_COLORAMA and getattr(colorama, \"fixed_windows_console\", False))\n",
    "        or \"ANSICON\" in os.environ\n",
    "        or\n",
    "        # Windows Terminal supports VT codes.\n",
    "        \"WT_SESSION\" in os.environ\n",
    "        or\n",
    "        # Microsoft Visual Studio Code's built-in terminal supports colors.\n",
    "        os.environ.get(\"TERM_PROGRAM\") == \"vscode\"\n",
    "        or vt_codes_enabled_in_windows_registry()\n",
    "    )"
   ]
  },
  {
   "cell_type": "markdown",
   "metadata": {},
   "source": []
  },
  {
   "cell_type": "code",
   "execution_count": null,
   "metadata": {},
   "outputs": [],
   "source": [
    "class Style:\n",
    "    pass"
   ]
  },
  {
   "cell_type": "markdown",
   "metadata": {},
   "source": []
  },
  {
   "cell_type": "code",
   "execution_count": null,
   "metadata": {},
   "outputs": [],
   "source": [
    "def make_style(config_string=\"\"):\n",
    "    \"\"\"\n",
    "    Create a Style object from the given config_string.\n",
    "\n",
    "    If config_string is empty django.utils.termcolors.DEFAULT_PALETTE is used.\n",
    "    \"\"\"\n",
    "\n",
    "    style = Style()\n",
    "\n",
    "    color_settings = termcolors.parse_color_setting(config_string)\n",
    "\n",
    "    # The nocolor palette has all available roles.\n",
    "    # Use that palette as the basis for populating\n",
    "    # the palette as defined in the environment.\n",
    "    for role in termcolors.PALETTES[termcolors.NOCOLOR_PALETTE]:\n",
    "        if color_settings:\n",
    "            format = color_settings.get(role, {})\n",
    "            style_func = termcolors.make_style(**format)\n",
    "        else:\n",
    "\n",
    "            def style_func(x):\n",
    "                return x\n",
    "\n",
    "        setattr(style, role, style_func)\n",
    "\n",
    "    # For backwards compatibility,\n",
    "    # set style for ERROR_OUTPUT == ERROR\n",
    "    style.ERROR_OUTPUT = style.ERROR\n",
    "\n",
    "    return style"
   ]
  },
  {
   "cell_type": "markdown",
   "metadata": {},
   "source": []
  },
  {
   "cell_type": "code",
   "execution_count": null,
   "metadata": {},
   "outputs": [],
   "source": [
    "@functools.cache\n",
    "def no_style():\n",
    "    \"\"\"\n",
    "    Return a Style object with no color scheme.\n",
    "    \"\"\"\n",
    "    return make_style(\"nocolor\")"
   ]
  },
  {
   "cell_type": "markdown",
   "metadata": {},
   "source": []
  },
  {
   "cell_type": "code",
   "execution_count": null,
   "metadata": {},
   "outputs": [],
   "source": [
    "def color_style(force_color=False):\n",
    "    \"\"\"\n",
    "    Return a Style object from the Django color scheme.\n",
    "    \"\"\"\n",
    "    if not force_color and not supports_color():\n",
    "        return no_style()\n",
    "    return make_style(os.environ.get(\"DJANGO_COLORS\", \"\"))"
   ]
  },
  {
   "cell_type": "markdown",
   "metadata": {},
   "source": []
  }
 ],
 "metadata": {
  "language_info": {
   "name": "python"
  }
 },
 "nbformat": 4,
 "nbformat_minor": 2
}