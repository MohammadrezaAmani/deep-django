{
 "cells": [
  {
   "cell_type": "code",
   "execution_count": null,
   "metadata": {},
   "outputs": [],
   "source": [
    "\"\"\"\n",
    "Global Django exception and warning classes.\n",
    "\"\"\"\n",
    "\n",
    "import operator\n",
    "\n",
    "from django.utils.hashable import make_hashable"
   ]
  },
  {
   "cell_type": "markdown",
   "metadata": {},
   "source": []
  },
  {
   "cell_type": "code",
   "execution_count": null,
   "metadata": {},
   "outputs": [],
   "source": [
    "class FieldDoesNotExist(Exception):\n",
    "    \"\"\"The requested model field does not exist\"\"\"\n",
    "\n",
    "    pass"
   ]
  },
  {
   "cell_type": "markdown",
   "metadata": {},
   "source": []
  },
  {
   "cell_type": "code",
   "execution_count": null,
   "metadata": {},
   "outputs": [],
   "source": [
    "class AppRegistryNotReady(Exception):\n",
    "    \"\"\"The django.apps registry is not populated yet\"\"\"\n",
    "\n",
    "    pass"
   ]
  },
  {
   "cell_type": "markdown",
   "metadata": {},
   "source": []
  },
  {
   "cell_type": "code",
   "execution_count": null,
   "metadata": {},
   "outputs": [],
   "source": [
    "class ObjectDoesNotExist(Exception):\n",
    "    \"\"\"The requested object does not exist\"\"\"\n",
    "\n",
    "    silent_variable_failure = True"
   ]
  },
  {
   "cell_type": "markdown",
   "metadata": {},
   "source": []
  },
  {
   "cell_type": "code",
   "execution_count": null,
   "metadata": {},
   "outputs": [],
   "source": [
    "class MultipleObjectsReturned(Exception):\n",
    "    \"\"\"The query returned multiple objects when only one was expected.\"\"\"\n",
    "\n",
    "    pass"
   ]
  },
  {
   "cell_type": "markdown",
   "metadata": {},
   "source": []
  },
  {
   "cell_type": "code",
   "execution_count": null,
   "metadata": {},
   "outputs": [],
   "source": [
    "class SuspiciousOperation(Exception):\n",
    "    \"\"\"The user did something suspicious\"\"\""
   ]
  },
  {
   "cell_type": "markdown",
   "metadata": {},
   "source": []
  },
  {
   "cell_type": "code",
   "execution_count": null,
   "metadata": {},
   "outputs": [],
   "source": [
    "class SuspiciousMultipartForm(SuspiciousOperation):\n",
    "    \"\"\"Suspect MIME request in multipart form data\"\"\"\n",
    "\n",
    "    pass"
   ]
  },
  {
   "cell_type": "markdown",
   "metadata": {},
   "source": []
  },
  {
   "cell_type": "code",
   "execution_count": null,
   "metadata": {},
   "outputs": [],
   "source": [
    "class SuspiciousFileOperation(SuspiciousOperation):\n",
    "    \"\"\"A Suspicious filesystem operation was attempted\"\"\"\n",
    "\n",
    "    pass"
   ]
  },
  {
   "cell_type": "markdown",
   "metadata": {},
   "source": []
  },
  {
   "cell_type": "code",
   "execution_count": null,
   "metadata": {},
   "outputs": [],
   "source": [
    "class DisallowedHost(SuspiciousOperation):\n",
    "    \"\"\"HTTP_HOST header contains invalid value\"\"\"\n",
    "\n",
    "    pass"
   ]
  },
  {
   "cell_type": "markdown",
   "metadata": {},
   "source": []
  },
  {
   "cell_type": "code",
   "execution_count": null,
   "metadata": {},
   "outputs": [],
   "source": [
    "class DisallowedRedirect(SuspiciousOperation):\n",
    "    \"\"\"Redirect to scheme not in allowed list\"\"\"\n",
    "\n",
    "    pass"
   ]
  },
  {
   "cell_type": "markdown",
   "metadata": {},
   "source": []
  },
  {
   "cell_type": "code",
   "execution_count": null,
   "metadata": {},
   "outputs": [],
   "source": [
    "class TooManyFieldsSent(SuspiciousOperation):\n",
    "    \"\"\"\n",
    "    The number of fields in a GET or POST request exceeded\n",
    "    settings.DATA_UPLOAD_MAX_NUMBER_FIELDS.\n",
    "    \"\"\"\n",
    "\n",
    "    pass"
   ]
  },
  {
   "cell_type": "markdown",
   "metadata": {},
   "source": []
  },
  {
   "cell_type": "code",
   "execution_count": null,
   "metadata": {},
   "outputs": [],
   "source": [
    "class TooManyFilesSent(SuspiciousOperation):\n",
    "    \"\"\"\n",
    "    The number of fields in a GET or POST request exceeded\n",
    "    settings.DATA_UPLOAD_MAX_NUMBER_FILES.\n",
    "    \"\"\"\n",
    "\n",
    "    pass"
   ]
  },
  {
   "cell_type": "markdown",
   "metadata": {},
   "source": []
  },
  {
   "cell_type": "code",
   "execution_count": null,
   "metadata": {},
   "outputs": [],
   "source": [
    "class RequestDataTooBig(SuspiciousOperation):\n",
    "    \"\"\"\n",
    "    The size of the request (excluding any file uploads) exceeded\n",
    "    settings.DATA_UPLOAD_MAX_MEMORY_SIZE.\n",
    "    \"\"\"\n",
    "\n",
    "    pass"
   ]
  },
  {
   "cell_type": "markdown",
   "metadata": {},
   "source": []
  },
  {
   "cell_type": "code",
   "execution_count": null,
   "metadata": {},
   "outputs": [],
   "source": [
    "class RequestAborted(Exception):\n",
    "    \"\"\"The request was closed before it was completed, or timed out.\"\"\"\n",
    "\n",
    "    pass"
   ]
  },
  {
   "cell_type": "markdown",
   "metadata": {},
   "source": []
  },
  {
   "cell_type": "code",
   "execution_count": null,
   "metadata": {},
   "outputs": [],
   "source": [
    "class BadRequest(Exception):\n",
    "    \"\"\"The request is malformed and cannot be processed.\"\"\"\n",
    "\n",
    "    pass"
   ]
  },
  {
   "cell_type": "markdown",
   "metadata": {},
   "source": []
  },
  {
   "cell_type": "code",
   "execution_count": null,
   "metadata": {},
   "outputs": [],
   "source": [
    "class PermissionDenied(Exception):\n",
    "    \"\"\"The user did not have permission to do that\"\"\"\n",
    "\n",
    "    pass"
   ]
  },
  {
   "cell_type": "markdown",
   "metadata": {},
   "source": []
  },
  {
   "cell_type": "code",
   "execution_count": null,
   "metadata": {},
   "outputs": [],
   "source": [
    "class ViewDoesNotExist(Exception):\n",
    "    \"\"\"The requested view does not exist\"\"\"\n",
    "\n",
    "    pass"
   ]
  },
  {
   "cell_type": "markdown",
   "metadata": {},
   "source": []
  },
  {
   "cell_type": "code",
   "execution_count": null,
   "metadata": {},
   "outputs": [],
   "source": [
    "class MiddlewareNotUsed(Exception):\n",
    "    \"\"\"This middleware is not used in this server configuration\"\"\"\n",
    "\n",
    "    pass"
   ]
  },
  {
   "cell_type": "markdown",
   "metadata": {},
   "source": []
  },
  {
   "cell_type": "code",
   "execution_count": null,
   "metadata": {},
   "outputs": [],
   "source": [
    "class ImproperlyConfigured(Exception):\n",
    "    \"\"\"Django is somehow improperly configured\"\"\"\n",
    "\n",
    "    pass"
   ]
  },
  {
   "cell_type": "markdown",
   "metadata": {},
   "source": []
  },
  {
   "cell_type": "code",
   "execution_count": null,
   "metadata": {},
   "outputs": [],
   "source": [
    "class FieldError(Exception):\n",
    "    \"\"\"Some kind of problem with a model field.\"\"\"\n",
    "\n",
    "    pass"
   ]
  },
  {
   "cell_type": "markdown",
   "metadata": {},
   "source": []
  },
  {
   "cell_type": "code",
   "execution_count": null,
   "metadata": {},
   "outputs": [],
   "source": [
    "NON_FIELD_ERRORS = \"__all__\""
   ]
  },
  {
   "cell_type": "markdown",
   "metadata": {},
   "source": []
  },
  {
   "cell_type": "code",
   "execution_count": null,
   "metadata": {},
   "outputs": [],
   "source": [
    "class ValidationError(Exception):\n",
    "    \"\"\"An error while validating data.\"\"\"\n",
    "\n",
    "    def __init__(self, message, code=None, params=None):\n",
    "        \"\"\"\n",
    "        The `message` argument can be a single error, a list of errors, or a\n",
    "        dictionary that maps field names to lists of errors. What we define as\n",
    "        an \"error\" can be either a simple string or an instance of\n",
    "        ValidationError with its message attribute set, and what we define as\n",
    "        list or dictionary can be an actual `list` or `dict` or an instance\n",
    "        of ValidationError with its `error_list` or `error_dict` attribute set.\n",
    "        \"\"\"\n",
    "        super().__init__(message, code, params)\n",
    "\n",
    "        if isinstance(message, ValidationError):\n",
    "            if hasattr(message, \"error_dict\"):\n",
    "                message = message.error_dict\n",
    "            elif not hasattr(message, \"message\"):\n",
    "                message = message.error_list\n",
    "            else:\n",
    "                message, code, params = message.message, message.code, message.params\n",
    "\n",
    "        if isinstance(message, dict):\n",
    "            self.error_dict = {}\n",
    "            for field, messages in message.items():\n",
    "                if not isinstance(messages, ValidationError):\n",
    "                    messages = ValidationError(messages)\n",
    "                self.error_dict[field] = messages.error_list\n",
    "\n",
    "        elif isinstance(message, list):\n",
    "            self.error_list = []\n",
    "            for message in message:\n",
    "                # Normalize plain strings to instances of ValidationError.\n",
    "                if not isinstance(message, ValidationError):\n",
    "                    message = ValidationError(message)\n",
    "                if hasattr(message, \"error_dict\"):\n",
    "                    self.error_list.extend(sum(message.error_dict.values(), []))\n",
    "                else:\n",
    "                    self.error_list.extend(message.error_list)\n",
    "\n",
    "        else:\n",
    "            self.message = message\n",
    "            self.code = code\n",
    "            self.params = params\n",
    "            self.error_list = [self]\n",
    "\n",
    "    @property\n",
    "    def message_dict(self):\n",
    "        # Trigger an AttributeError if this ValidationError\n",
    "        # doesn't have an error_dict.\n",
    "        getattr(self, \"error_dict\")\n",
    "\n",
    "        return dict(self)\n",
    "\n",
    "    @property\n",
    "    def messages(self):\n",
    "        if hasattr(self, \"error_dict\"):\n",
    "            return sum(dict(self).values(), [])\n",
    "        return list(self)\n",
    "\n",
    "    def update_error_dict(self, error_dict):\n",
    "        if hasattr(self, \"error_dict\"):\n",
    "            for field, error_list in self.error_dict.items():\n",
    "                error_dict.setdefault(field, []).extend(error_list)\n",
    "        else:\n",
    "            error_dict.setdefault(NON_FIELD_ERRORS, []).extend(self.error_list)\n",
    "        return error_dict\n",
    "\n",
    "    def __iter__(self):\n",
    "        if hasattr(self, \"error_dict\"):\n",
    "            for field, errors in self.error_dict.items():\n",
    "                yield field, list(ValidationError(errors))\n",
    "        else:\n",
    "            for error in self.error_list:\n",
    "                message = error.message\n",
    "                if error.params:\n",
    "                    message %= error.params\n",
    "                yield str(message)\n",
    "\n",
    "    def __str__(self):\n",
    "        if hasattr(self, \"error_dict\"):\n",
    "            return repr(dict(self))\n",
    "        return repr(list(self))\n",
    "\n",
    "    def __repr__(self):\n",
    "        return \"ValidationError(%s)\" % self\n",
    "\n",
    "    def __eq__(self, other):\n",
    "        if not isinstance(other, ValidationError):\n",
    "            return NotImplemented\n",
    "        return hash(self) == hash(other)\n",
    "\n",
    "    def __hash__(self):\n",
    "        if hasattr(self, \"message\"):\n",
    "            return hash(\n",
    "                (\n",
    "                    self.message,\n",
    "                    self.code,\n",
    "                    make_hashable(self.params),\n",
    "                )\n",
    "            )\n",
    "        if hasattr(self, \"error_dict\"):\n",
    "            return hash(make_hashable(self.error_dict))\n",
    "        return hash(tuple(sorted(self.error_list, key=operator.attrgetter(\"message\"))))"
   ]
  },
  {
   "cell_type": "markdown",
   "metadata": {},
   "source": []
  },
  {
   "cell_type": "code",
   "execution_count": null,
   "metadata": {},
   "outputs": [],
   "source": [
    "class EmptyResultSet(Exception):\n",
    "    \"\"\"A database query predicate is impossible.\"\"\"\n",
    "\n",
    "    pass"
   ]
  },
  {
   "cell_type": "markdown",
   "metadata": {},
   "source": []
  },
  {
   "cell_type": "code",
   "execution_count": null,
   "metadata": {},
   "outputs": [],
   "source": [
    "class FullResultSet(Exception):\n",
    "    \"\"\"A database query predicate is matches everything.\"\"\"\n",
    "\n",
    "    pass"
   ]
  },
  {
   "cell_type": "markdown",
   "metadata": {},
   "source": []
  },
  {
   "cell_type": "code",
   "execution_count": null,
   "metadata": {},
   "outputs": [],
   "source": [
    "class SynchronousOnlyOperation(Exception):\n",
    "    \"\"\"The user tried to call a sync-only function from an async context.\"\"\"\n",
    "\n",
    "    pass"
   ]
  },
  {
   "cell_type": "markdown",
   "metadata": {},
   "source": []
  }
 ],
 "metadata": {
  "language_info": {
   "name": "python"
  }
 },
 "nbformat": 4,
 "nbformat_minor": 2
}