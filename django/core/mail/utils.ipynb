{
 "cells": [
  {
   "cell_type": "code",
   "execution_count": null,
   "metadata": {},
   "outputs": [],
   "source": [
    "\"\"\"\n",
    "Email message and email sending related helper functions.\n",
    "\"\"\"\n",
    "\n",
    "import socket\n",
    "\n",
    "from django.utils.encoding import punycode"
   ]
  },
  {
   "cell_type": "markdown",
   "metadata": {},
   "source": []
  },
  {
   "cell_type": "code",
   "execution_count": null,
   "metadata": {},
   "outputs": [],
   "source": [
    "# Cache the hostname, but do it lazily: socket.getfqdn() can take a couple of\n",
    "# seconds, which slows down the restart of the server.\n",
    "class CachedDnsName:\n",
    "    def __str__(self):\n",
    "        return self.get_fqdn()\n",
    "\n",
    "    def get_fqdn(self):\n",
    "        if not hasattr(self, \"_fqdn\"):\n",
    "            self._fqdn = punycode(socket.getfqdn())\n",
    "        return self._fqdn"
   ]
  },
  {
   "cell_type": "markdown",
   "metadata": {},
   "source": []
  },
  {
   "cell_type": "code",
   "execution_count": null,
   "metadata": {},
   "outputs": [],
   "source": [
    "DNS_NAME = CachedDnsName()"
   ]
  },
  {
   "cell_type": "markdown",
   "metadata": {},
   "source": []
  }
 ],
 "metadata": {
  "language_info": {
   "name": "python"
  }
 },
 "nbformat": 4,
 "nbformat_minor": 2
}