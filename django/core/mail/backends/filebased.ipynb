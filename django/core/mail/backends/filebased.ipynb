{
 "cells": [
  {
   "cell_type": "code",
   "execution_count": null,
   "metadata": {},
   "outputs": [],
   "source": [
    "\"\"\"Email backend that writes messages to a file.\"\"\"\n",
    "\n",
    "import datetime\n",
    "import os\n",
    "\n",
    "from django.conf import settings\n",
    "from django.core.exceptions import ImproperlyConfigured\n",
    "from django.core.mail.backends.console import EmailBackend as ConsoleEmailBackend"
   ]
  },
  {
   "cell_type": "markdown",
   "metadata": {},
   "source": []
  },
  {
   "cell_type": "code",
   "execution_count": null,
   "metadata": {},
   "outputs": [],
   "source": [
    "class EmailBackend(ConsoleEmailBackend):\n",
    "    def __init__(self, *args, file_path=None, **kwargs):\n",
    "        self._fname = None\n",
    "        if file_path is not None:\n",
    "            self.file_path = file_path\n",
    "        else:\n",
    "            self.file_path = getattr(settings, \"EMAIL_FILE_PATH\", None)\n",
    "        self.file_path = os.path.abspath(self.file_path)\n",
    "        try:\n",
    "            os.makedirs(self.file_path, exist_ok=True)\n",
    "        except FileExistsError:\n",
    "            raise ImproperlyConfigured(\n",
    "                \"Path for saving email messages exists, but is not a directory: %s\"\n",
    "                % self.file_path\n",
    "            )\n",
    "        except OSError as err:\n",
    "            raise ImproperlyConfigured(\n",
    "                \"Could not create directory for saving email messages: %s (%s)\"\n",
    "                % (self.file_path, err)\n",
    "            )\n",
    "        # Make sure that self.file_path is writable.\n",
    "        if not os.access(self.file_path, os.W_OK):\n",
    "            raise ImproperlyConfigured(\n",
    "                \"Could not write to directory: %s\" % self.file_path\n",
    "            )\n",
    "        # Finally, call super().\n",
    "        # Since we're using the console-based backend as a base,\n",
    "        # force the stream to be None, so we don't default to stdout\n",
    "        kwargs[\"stream\"] = None\n",
    "        super().__init__(*args, **kwargs)\n",
    "\n",
    "    def write_message(self, message):\n",
    "        self.stream.write(message.message().as_bytes() + b\"\\n\")\n",
    "        self.stream.write(b\"-\" * 79)\n",
    "        self.stream.write(b\"\\n\")\n",
    "\n",
    "    def _get_filename(self):\n",
    "        \"\"\"Return a unique file name.\"\"\"\n",
    "        if self._fname is None:\n",
    "            timestamp = datetime.datetime.now().strftime(\"%Y%m%d-%H%M%S\")\n",
    "            fname = \"%s-%s.log\" % (timestamp, abs(id(self)))\n",
    "            self._fname = os.path.join(self.file_path, fname)\n",
    "        return self._fname\n",
    "\n",
    "    def open(self):\n",
    "        if self.stream is None:\n",
    "            self.stream = open(self._get_filename(), \"ab\")\n",
    "            return True\n",
    "        return False\n",
    "\n",
    "    def close(self):\n",
    "        try:\n",
    "            if self.stream is not None:\n",
    "                self.stream.close()\n",
    "        finally:\n",
    "            self.stream = None"
   ]
  },
  {
   "cell_type": "markdown",
   "metadata": {},
   "source": []
  }
 ],
 "metadata": {
  "language_info": {
   "name": "python"
  }
 },
 "nbformat": 4,
 "nbformat_minor": 2
}