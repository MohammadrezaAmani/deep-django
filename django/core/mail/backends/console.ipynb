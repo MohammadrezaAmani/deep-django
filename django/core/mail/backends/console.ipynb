{
    "cells": [
        {
            "cell_type": "code",
            "execution_count": null,
            "metadata": {},
            "outputs": [],
            "source": [
                "\"\"\"\n",
                "Email backend that writes messages to console instead of sending them.\n",
                "\"\"\"\n",
                "\n",
                "import sys\n",
                "import threading\n",
                "\n",
                "from django.core.mail.backends.base import BaseEmailBackend\n"
            ]
        },
        {
            "cell_type": "markdown",
            "metadata": {},
            "source": []
        },
        {
            "cell_type": "code",
            "execution_count": null,
            "metadata": {},
            "outputs": [],
            "source": [
                "class EmailBackend(BaseEmailBackend):\n",
                "    def __init__(self, *args, **kwargs):\n",
                "        self.stream = kwargs.pop(\"stream\", sys.stdout)\n",
                "        self._lock = threading.RLock()\n",
                "        super().__init__(*args, **kwargs)\n",
                "\n",
                "    def write_message(self, message):\n",
                "        msg = message.message()\n",
                "        msg_data = msg.as_bytes()\n",
                "        charset = (\n",
                "            msg.get_charset().get_output_charset() if msg.get_charset() else \"utf-8\"\n",
                "        )\n",
                "        msg_data = msg_data.decode(charset)\n",
                "        self.stream.write(\"%s\\n\" % msg_data)\n",
                "        self.stream.write(\"-\" * 79)\n",
                "        self.stream.write(\"\\n\")\n",
                "\n",
                "    def send_messages(self, email_messages):\n",
                "        \"\"\"Write all messages to the stream in a thread-safe way.\"\"\"\n",
                "        if not email_messages:\n",
                "            return\n",
                "        msg_count = 0\n",
                "        with self._lock:\n",
                "            try:\n",
                "                stream_created = self.open()\n",
                "                for message in email_messages:\n",
                "                    self.write_message(message)\n",
                "                    self.stream.flush()  # flush after each message\n",
                "                    msg_count += 1\n",
                "                if stream_created:\n",
                "                    self.close()\n",
                "            except Exception:\n",
                "                if not self.fail_silently:\n",
                "                    raise\n",
                "        return msg_count\n",
                "\n"
            ]
        },
        {
            "cell_type": "markdown",
            "metadata": {},
            "source": []
        }
    ],
    "metadata": {
        "language_info": {
            "name": "python"
        }
    },
    "nbformat": 4,
    "nbformat_minor": 2
}