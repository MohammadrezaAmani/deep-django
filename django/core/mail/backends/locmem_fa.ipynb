{
 "cells": [
  {
   "cell_type": "code",
   "execution_count": null,
   "metadata": {},
   "outputs": [],
   "source": [
    "\"\"\"\n",
    "Backend for test environment.\n",
    "\"\"\"\n",
    "\n",
    "from django.core import mail\n",
    "from django.core.mail.backends.base import BaseEmailBackend"
   ]
  },
  {
   "cell_type": "markdown",
   "metadata": {},
   "source": []
  },
  {
   "cell_type": "code",
   "execution_count": null,
   "metadata": {},
   "outputs": [],
   "source": [
    "class EmailBackend(BaseEmailBackend):\n",
    "    \"\"\"\n",
    "    An email backend for use during test sessions.\n",
    "\n",
    "    The test connection stores email messages in a dummy outbox,\n",
    "    rather than sending them out on the wire.\n",
    "\n",
    "    The dummy outbox is accessible through the outbox instance attribute.\n",
    "    \"\"\"\n",
    "\n",
    "    def __init__(self, *args, **kwargs):\n",
    "        super().__init__(*args, **kwargs)\n",
    "        if not hasattr(mail, \"outbox\"):\n",
    "            mail.outbox = []\n",
    "\n",
    "    def send_messages(self, messages):\n",
    "        \"\"\"Redirect messages to the dummy outbox\"\"\"\n",
    "        msg_count = 0\n",
    "        for message in messages:  # .message() triggers header validation\n",
    "            message.message()\n",
    "            mail.outbox.append(message)\n",
    "            msg_count += 1\n",
    "        return msg_count"
   ]
  },
  {
   "cell_type": "markdown",
   "metadata": {},
   "source": []
  }
 ],
 "metadata": {
  "language_info": {
   "name": "python"
  }
 },
 "nbformat": 4,
 "nbformat_minor": 2
}