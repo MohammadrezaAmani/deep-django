{
    "cells": [
        {
            "cell_type": "code",
            "execution_count": null,
            "metadata": {},
            "outputs": [],
            "source": [
                "\"\"\"Base email backend class.\"\"\"\n"
            ]
        },
        {
            "cell_type": "markdown",
            "metadata": {},
            "source": []
        },
        {
            "cell_type": "code",
            "execution_count": null,
            "metadata": {},
            "outputs": [],
            "source": [
                "class BaseEmailBackend:\n",
                "    \"\"\"\n",
                "    Base class for email backend implementations.\n",
                "\n",
                "    Subclasses must at least overwrite send_messages().\n",
                "\n",
                "    open() and close() can be called indirectly by using a backend object as a\n",
                "    context manager:\n",
                "\n",
                "       with backend as connection:\n",
                "           # do something with connection\n",
                "           pass\n",
                "    \"\"\"\n",
                "\n",
                "    def __init__(self, fail_silently=False, **kwargs):\n",
                "        self.fail_silently = fail_silently\n",
                "\n",
                "    def open(self):\n",
                "        \"\"\"\n",
                "        Open a network connection.\n",
                "\n",
                "        This method can be overwritten by backend implementations to\n",
                "        open a network connection.\n",
                "\n",
                "        It's up to the backend implementation to track the status of\n",
                "        a network connection if it's needed by the backend.\n",
                "\n",
                "        This method can be called by applications to force a single\n",
                "        network connection to be used when sending mails. See the\n",
                "        send_messages() method of the SMTP backend for a reference\n",
                "        implementation.\n",
                "\n",
                "        The default implementation does nothing.\n",
                "        \"\"\"\n",
                "        pass\n",
                "\n",
                "    def close(self):\n",
                "        \"\"\"Close a network connection.\"\"\"\n",
                "        pass\n",
                "\n",
                "    def __enter__(self):\n",
                "        try:\n",
                "            self.open()\n",
                "        except Exception:\n",
                "            self.close()\n",
                "            raise\n",
                "        return self\n",
                "\n",
                "    def __exit__(self, exc_type, exc_value, traceback):\n",
                "        self.close()\n",
                "\n",
                "    def send_messages(self, email_messages):\n",
                "        \"\"\"\n",
                "        Send one or more EmailMessage objects and return the number of email\n",
                "        messages sent.\n",
                "        \"\"\"\n",
                "        raise NotImplementedError(\n",
                "            \"subclasses of BaseEmailBackend must override send_messages() method\"\n",
                "        )\n",
                "\n"
            ]
        },
        {
            "cell_type": "markdown",
            "metadata": {},
            "source": []
        }
    ],
    "metadata": {
        "language_info": {
            "name": "python"
        }
    },
    "nbformat": 4,
    "nbformat_minor": 2
}