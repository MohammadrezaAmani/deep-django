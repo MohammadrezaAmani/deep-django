{
    "cells": [
        {
            "cell_type": "code",
            "execution_count": null,
            "metadata": {},
            "outputs": [],
            "source": [
                "import django\n",
                "from django.core.handlers.asgi import ASGIHandler\n"
            ]
        },
        {
            "cell_type": "markdown",
            "metadata": {},
            "source": []
        },
        {
            "cell_type": "code",
            "execution_count": null,
            "metadata": {},
            "outputs": [],
            "source": [
                "def get_asgi_application():\n",
                "    \"\"\"\n",
                "    The public interface to Django's ASGI support. Return an ASGI 3 callable.\n",
                "\n",
                "    Avoids making django.core.handlers.ASGIHandler a public API, in case the\n",
                "    internal implementation changes or moves in the future.\n",
                "    \"\"\"\n",
                "    django.setup(set_prefix=False)\n",
                "    return ASGIHandler()\n",
                "\n"
            ]
        },
        {
            "cell_type": "markdown",
            "metadata": {},
            "source": []
        }
    ],
    "metadata": {
        "language_info": {
            "name": "python"
        }
    },
    "nbformat": 4,
    "nbformat_minor": 2
}