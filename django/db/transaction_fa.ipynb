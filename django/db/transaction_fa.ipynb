{
 "cells": [
  {
   "cell_type": "code",
   "execution_count": null,
   "metadata": {},
   "outputs": [],
   "source": [
    "from contextlib import ContextDecorator, contextmanager\n",
    "\n",
    "from django.db import (\n",
    "    DEFAULT_DB_ALIAS,\n",
    "    DatabaseError,\n",
    "    Error,\n",
    "    ProgrammingError,\n",
    "    connections,\n",
    ")"
   ]
  },
  {
   "cell_type": "markdown",
   "metadata": {},
   "source": []
  },
  {
   "cell_type": "code",
   "execution_count": null,
   "metadata": {},
   "outputs": [],
   "source": [
    "class TransactionManagementError(ProgrammingError):\n",
    "    \"\"\"Transaction management is used improperly.\"\"\"\n",
    "\n",
    "    pass"
   ]
  },
  {
   "cell_type": "markdown",
   "metadata": {},
   "source": []
  },
  {
   "cell_type": "code",
   "execution_count": null,
   "metadata": {},
   "outputs": [],
   "source": [
    "def get_connection(using=None):\n",
    "    \"\"\"\n",
    "    Get a database connection by name, or the default database connection\n",
    "    if no name is provided. This is a private API.\n",
    "    \"\"\"\n",
    "    if using is None:\n",
    "        using = DEFAULT_DB_ALIAS\n",
    "    return connections[using]"
   ]
  },
  {
   "cell_type": "markdown",
   "metadata": {},
   "source": []
  },
  {
   "cell_type": "code",
   "execution_count": null,
   "metadata": {},
   "outputs": [],
   "source": [
    "def get_autocommit(using=None):\n",
    "    \"\"\"Get the autocommit status of the connection.\"\"\"\n",
    "    return get_connection(using).get_autocommit()"
   ]
  },
  {
   "cell_type": "markdown",
   "metadata": {},
   "source": []
  },
  {
   "cell_type": "code",
   "execution_count": null,
   "metadata": {},
   "outputs": [],
   "source": [
    "def set_autocommit(autocommit, using=None):\n",
    "    \"\"\"Set the autocommit status of the connection.\"\"\"\n",
    "    return get_connection(using).set_autocommit(autocommit)"
   ]
  },
  {
   "cell_type": "markdown",
   "metadata": {},
   "source": []
  },
  {
   "cell_type": "code",
   "execution_count": null,
   "metadata": {},
   "outputs": [],
   "source": [
    "def commit(using=None):\n",
    "    \"\"\"Commit a transaction.\"\"\"\n",
    "    get_connection(using).commit()"
   ]
  },
  {
   "cell_type": "markdown",
   "metadata": {},
   "source": []
  },
  {
   "cell_type": "code",
   "execution_count": null,
   "metadata": {},
   "outputs": [],
   "source": [
    "def rollback(using=None):\n",
    "    \"\"\"Roll back a transaction.\"\"\"\n",
    "    get_connection(using).rollback()"
   ]
  },
  {
   "cell_type": "markdown",
   "metadata": {},
   "source": []
  },
  {
   "cell_type": "code",
   "execution_count": null,
   "metadata": {},
   "outputs": [],
   "source": [
    "def savepoint(using=None):\n",
    "    \"\"\"\n",
    "    Create a savepoint (if supported and required by the backend) inside the\n",
    "    current transaction. Return an identifier for the savepoint that will be\n",
    "    used for the subsequent rollback or commit.\n",
    "    \"\"\"\n",
    "    return get_connection(using).savepoint()"
   ]
  },
  {
   "cell_type": "markdown",
   "metadata": {},
   "source": []
  },
  {
   "cell_type": "code",
   "execution_count": null,
   "metadata": {},
   "outputs": [],
   "source": [
    "def savepoint_rollback(sid, using=None):\n",
    "    \"\"\"\n",
    "    Roll back the most recent savepoint (if one exists). Do nothing if\n",
    "    savepoints are not supported.\n",
    "    \"\"\"\n",
    "    get_connection(using).savepoint_rollback(sid)"
   ]
  },
  {
   "cell_type": "markdown",
   "metadata": {},
   "source": []
  },
  {
   "cell_type": "code",
   "execution_count": null,
   "metadata": {},
   "outputs": [],
   "source": [
    "def savepoint_commit(sid, using=None):\n",
    "    \"\"\"\n",
    "    Commit the most recent savepoint (if one exists). Do nothing if\n",
    "    savepoints are not supported.\n",
    "    \"\"\"\n",
    "    get_connection(using).savepoint_commit(sid)"
   ]
  },
  {
   "cell_type": "markdown",
   "metadata": {},
   "source": []
  },
  {
   "cell_type": "code",
   "execution_count": null,
   "metadata": {},
   "outputs": [],
   "source": [
    "def clean_savepoints(using=None):\n",
    "    \"\"\"\n",
    "    Reset the counter used to generate unique savepoint ids in this thread.\n",
    "    \"\"\"\n",
    "    get_connection(using).clean_savepoints()"
   ]
  },
  {
   "cell_type": "markdown",
   "metadata": {},
   "source": []
  },
  {
   "cell_type": "code",
   "execution_count": null,
   "metadata": {},
   "outputs": [],
   "source": [
    "def get_rollback(using=None):\n",
    "    \"\"\"Get the \"needs rollback\" flag -- for *advanced use* only.\"\"\"\n",
    "    return get_connection(using).get_rollback()"
   ]
  },
  {
   "cell_type": "markdown",
   "metadata": {},
   "source": []
  },
  {
   "cell_type": "code",
   "execution_count": null,
   "metadata": {},
   "outputs": [],
   "source": [
    "def set_rollback(rollback, using=None):\n",
    "    \"\"\"\n",
    "    Set or unset the \"needs rollback\" flag -- for *advanced use* only.\n",
    "\n",
    "    When `rollback` is `True`, trigger a rollback when exiting the innermost\n",
    "    enclosing atomic block that has `savepoint=True` (that's the default). Use\n",
    "    this to force a rollback without raising an exception.\n",
    "\n",
    "    When `rollback` is `False`, prevent such a rollback. Use this only after\n",
    "    rolling back to a known-good state! Otherwise, you break the atomic block\n",
    "    and data corruption may occur.\n",
    "    \"\"\"\n",
    "    return get_connection(using).set_rollback(rollback)"
   ]
  },
  {
   "cell_type": "markdown",
   "metadata": {},
   "source": []
  },
  {
   "cell_type": "code",
   "execution_count": null,
   "metadata": {},
   "outputs": [],
   "source": [
    "@contextmanager\n",
    "def mark_for_rollback_on_error(using=None):\n",
    "    \"\"\"\n",
    "    Internal low-level utility to mark a transaction as \"needs rollback\" when\n",
    "    an exception is raised while not enforcing the enclosed block to be in a\n",
    "    transaction. This is needed by Model.save() and friends to avoid starting a\n",
    "    transaction when in autocommit mode and a single query is executed.\n",
    "\n",
    "    It's equivalent to:\n",
    "\n",
    "        connection = get_connection(using)\n",
    "        if connection.get_autocommit():\n",
    "            yield\n",
    "        else:\n",
    "            with transaction.atomic(using=using, savepoint=False):\n",
    "                yield\n",
    "\n",
    "    but it uses low-level utilities to avoid performance overhead.\n",
    "    \"\"\"\n",
    "    try:\n",
    "        yield\n",
    "    except Exception as exc:\n",
    "        connection = get_connection(using)\n",
    "        if connection.in_atomic_block:\n",
    "            connection.needs_rollback = True\n",
    "            connection.rollback_exc = exc\n",
    "        raise"
   ]
  },
  {
   "cell_type": "markdown",
   "metadata": {},
   "source": []
  },
  {
   "cell_type": "code",
   "execution_count": null,
   "metadata": {},
   "outputs": [],
   "source": [
    "def on_commit(func, using=None, robust=False):\n",
    "    \"\"\"\n",
    "    Register `func` to be called when the current transaction is committed.\n",
    "    If the current transaction is rolled back, `func` will not be called.\n",
    "    \"\"\"\n",
    "    get_connection(using).on_commit(func, robust)"
   ]
  },
  {
   "cell_type": "markdown",
   "metadata": {},
   "source": []
  },
  {
   "cell_type": "code",
   "execution_count": null,
   "metadata": {},
   "outputs": [],
   "source": [
    "#################################\n",
    "# Decorators / context managers #\n",
    "#################################"
   ]
  },
  {
   "cell_type": "markdown",
   "metadata": {},
   "source": []
  },
  {
   "cell_type": "code",
   "execution_count": null,
   "metadata": {},
   "outputs": [],
   "source": [
    "class Atomic(ContextDecorator):\n",
    "    \"\"\"\n",
    "    Guarantee the atomic execution of a given block.\n",
    "\n",
    "    An instance can be used either as a decorator or as a context manager.\n",
    "\n",
    "    When it's used as a decorator, __call__ wraps the execution of the\n",
    "    decorated function in the instance itself, used as a context manager.\n",
    "\n",
    "    When it's used as a context manager, __enter__ creates a transaction or a\n",
    "    savepoint, depending on whether a transaction is already in progress, and\n",
    "    __exit__ commits the transaction or releases the savepoint on normal exit,\n",
    "    and rolls back the transaction or to the savepoint on exceptions.\n",
    "\n",
    "    It's possible to disable the creation of savepoints if the goal is to\n",
    "    ensure that some code runs within a transaction without creating overhead.\n",
    "\n",
    "    A stack of savepoints identifiers is maintained as an attribute of the\n",
    "    connection. None denotes the absence of a savepoint.\n",
    "\n",
    "    This allows reentrancy even if the same AtomicWrapper is reused. For\n",
    "    example, it's possible to define `oa = atomic('other')` and use `@oa` or\n",
    "    `with oa:` multiple times.\n",
    "\n",
    "    Since database connections are thread-local, this is thread-safe.\n",
    "\n",
    "    An atomic block can be tagged as durable. In this case, raise a\n",
    "    RuntimeError if it's nested within another atomic block. This guarantees\n",
    "    that database changes in a durable block are committed to the database when\n",
    "    the block exists without error.\n",
    "\n",
    "    This is a private API.\n",
    "    \"\"\"\n",
    "\n",
    "    def __init__(self, using, savepoint, durable):\n",
    "        self.using = using\n",
    "        self.savepoint = savepoint\n",
    "        self.durable = durable\n",
    "        self._from_testcase = False\n",
    "\n",
    "    def __enter__(self):\n",
    "        connection = get_connection(self.using)\n",
    "\n",
    "        if (\n",
    "            self.durable\n",
    "            and connection.atomic_blocks\n",
    "            and not connection.atomic_blocks[-1]._from_testcase\n",
    "        ):\n",
    "            raise RuntimeError(\n",
    "                \"A durable atomic block cannot be nested within another \"\n",
    "                \"atomic block.\"\n",
    "            )\n",
    "        if not connection.in_atomic_block:\n",
    "            # Reset state when entering an outermost atomic block.\n",
    "            connection.commit_on_exit = True\n",
    "            connection.needs_rollback = False\n",
    "            if not connection.get_autocommit():\n",
    "                # Pretend we're already in an atomic block to bypass the code\n",
    "                # that disables autocommit to enter a transaction, and make a\n",
    "                # note to deal with this case in __exit__.\n",
    "                connection.in_atomic_block = True\n",
    "                connection.commit_on_exit = False\n",
    "\n",
    "        if connection.in_atomic_block:\n",
    "            # We're already in a transaction; create a savepoint, unless we\n",
    "            # were told not to or we're already waiting for a rollback. The\n",
    "            # second condition avoids creating useless savepoints and prevents\n",
    "            # overwriting needs_rollback until the rollback is performed.\n",
    "            if self.savepoint and not connection.needs_rollback:\n",
    "                sid = connection.savepoint()\n",
    "                connection.savepoint_ids.append(sid)\n",
    "            else:\n",
    "                connection.savepoint_ids.append(None)\n",
    "        else:\n",
    "            connection.set_autocommit(\n",
    "                False, force_begin_transaction_with_broken_autocommit=True\n",
    "            )\n",
    "            connection.in_atomic_block = True\n",
    "\n",
    "        if connection.in_atomic_block:\n",
    "            connection.atomic_blocks.append(self)\n",
    "\n",
    "    def __exit__(self, exc_type, exc_value, traceback):\n",
    "        connection = get_connection(self.using)\n",
    "\n",
    "        if connection.in_atomic_block:\n",
    "            connection.atomic_blocks.pop()\n",
    "\n",
    "        if connection.savepoint_ids:\n",
    "            sid = connection.savepoint_ids.pop()\n",
    "        else:\n",
    "            # Prematurely unset this flag to allow using commit or rollback.\n",
    "            connection.in_atomic_block = False\n",
    "\n",
    "        try:\n",
    "            if connection.closed_in_transaction:\n",
    "                # The database will perform a rollback by itself.\n",
    "                # Wait until we exit the outermost block.\n",
    "                pass\n",
    "\n",
    "            elif exc_type is None and not connection.needs_rollback:\n",
    "                if connection.in_atomic_block:\n",
    "                    # Release savepoint if there is one\n",
    "                    if sid is not None:\n",
    "                        try:\n",
    "                            connection.savepoint_commit(sid)\n",
    "                        except DatabaseError:\n",
    "                            try:\n",
    "                                connection.savepoint_rollback(sid)\n",
    "                                # The savepoint won't be reused. Release it to\n",
    "                                # minimize overhead for the database server.\n",
    "                                connection.savepoint_commit(sid)\n",
    "                            except Error:\n",
    "                                # If rolling back to a savepoint fails, mark for\n",
    "                                # rollback at a higher level and avoid shadowing\n",
    "                                # the original exception.\n",
    "                                connection.needs_rollback = True\n",
    "                            raise\n",
    "                else:\n",
    "                    # Commit transaction\n",
    "                    try:\n",
    "                        connection.commit()\n",
    "                    except DatabaseError:\n",
    "                        try:\n",
    "                            connection.rollback()\n",
    "                        except Error:\n",
    "                            # An error during rollback means that something\n",
    "                            # went wrong with the connection. Drop it.\n",
    "                            connection.close()\n",
    "                        raise\n",
    "            else:\n",
    "                # This flag will be set to True again if there isn't a savepoint\n",
    "                # allowing to perform the rollback at this level.\n",
    "                connection.needs_rollback = False\n",
    "                if connection.in_atomic_block:\n",
    "                    # Roll back to savepoint if there is one, mark for rollback\n",
    "                    # otherwise.\n",
    "                    if sid is None:\n",
    "                        connection.needs_rollback = True\n",
    "                    else:\n",
    "                        try:\n",
    "                            connection.savepoint_rollback(sid)\n",
    "                            # The savepoint won't be reused. Release it to\n",
    "                            # minimize overhead for the database server.\n",
    "                            connection.savepoint_commit(sid)\n",
    "                        except Error:\n",
    "                            # If rolling back to a savepoint fails, mark for\n",
    "                            # rollback at a higher level and avoid shadowing\n",
    "                            # the original exception.\n",
    "                            connection.needs_rollback = True\n",
    "                else:\n",
    "                    # Roll back transaction\n",
    "                    try:\n",
    "                        connection.rollback()\n",
    "                    except Error:\n",
    "                        # An error during rollback means that something\n",
    "                        # went wrong with the connection. Drop it.\n",
    "                        connection.close()\n",
    "\n",
    "        finally:\n",
    "            # Outermost block exit when autocommit was enabled.\n",
    "            if not connection.in_atomic_block:\n",
    "                if connection.closed_in_transaction:\n",
    "                    connection.connection = None\n",
    "                else:\n",
    "                    connection.set_autocommit(True)\n",
    "            # Outermost block exit when autocommit was disabled.\n",
    "            elif not connection.savepoint_ids and not connection.commit_on_exit:\n",
    "                if connection.closed_in_transaction:\n",
    "                    connection.connection = None\n",
    "                else:\n",
    "                    connection.in_atomic_block = False"
   ]
  },
  {
   "cell_type": "markdown",
   "metadata": {},
   "source": []
  },
  {
   "cell_type": "code",
   "execution_count": null,
   "metadata": {},
   "outputs": [],
   "source": [
    "def atomic(using=None, savepoint=True, durable=False):\n",
    "    # Bare decorator: @atomic -- although the first argument is called\n",
    "    # `using`, it's actually the function being decorated.\n",
    "    if callable(using):\n",
    "        return Atomic(DEFAULT_DB_ALIAS, savepoint, durable)(using)\n",
    "    # Decorator: @atomic(...) or context manager: with atomic(...): ...\n",
    "    else:\n",
    "        return Atomic(using, savepoint, durable)"
   ]
  },
  {
   "cell_type": "markdown",
   "metadata": {},
   "source": []
  },
  {
   "cell_type": "code",
   "execution_count": null,
   "metadata": {},
   "outputs": [],
   "source": [
    "def _non_atomic_requests(view, using):\n",
    "    try:\n",
    "        view._non_atomic_requests.add(using)\n",
    "    except AttributeError:\n",
    "        view._non_atomic_requests = {using}\n",
    "    return view"
   ]
  },
  {
   "cell_type": "markdown",
   "metadata": {},
   "source": []
  },
  {
   "cell_type": "code",
   "execution_count": null,
   "metadata": {},
   "outputs": [],
   "source": [
    "def non_atomic_requests(using=None):\n",
    "    if callable(using):\n",
    "        return _non_atomic_requests(using, DEFAULT_DB_ALIAS)\n",
    "    else:\n",
    "        if using is None:\n",
    "            using = DEFAULT_DB_ALIAS\n",
    "        return lambda view: _non_atomic_requests(view, using)"
   ]
  },
  {
   "cell_type": "markdown",
   "metadata": {},
   "source": []
  }
 ],
 "metadata": {
  "language_info": {
   "name": "python"
  }
 },
 "nbformat": 4,
 "nbformat_minor": 2
}