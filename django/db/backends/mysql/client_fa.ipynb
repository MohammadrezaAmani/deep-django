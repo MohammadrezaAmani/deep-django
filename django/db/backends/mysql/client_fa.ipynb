{
 "cells": [
  {
   "cell_type": "code",
   "execution_count": null,
   "metadata": {},
   "outputs": [],
   "source": [
    "import signal\n",
    "\n",
    "from django.db.backends.base.client import BaseDatabaseClient"
   ]
  },
  {
   "cell_type": "markdown",
   "metadata": {},
   "source": []
  },
  {
   "cell_type": "code",
   "execution_count": null,
   "metadata": {},
   "outputs": [],
   "source": [
    "class DatabaseClient(BaseDatabaseClient):\n",
    "    executable_name = \"mysql\"\n",
    "\n",
    "    @classmethod\n",
    "    def settings_to_cmd_args_env(cls, settings_dict, parameters):\n",
    "        args = [cls.executable_name]\n",
    "        env = None\n",
    "        database = settings_dict[\"OPTIONS\"].get(\n",
    "            \"database\",\n",
    "            settings_dict[\"OPTIONS\"].get(\"db\", settings_dict[\"NAME\"]),\n",
    "        )\n",
    "        user = settings_dict[\"OPTIONS\"].get(\"user\", settings_dict[\"USER\"])\n",
    "        password = settings_dict[\"OPTIONS\"].get(\n",
    "            \"password\",\n",
    "            settings_dict[\"OPTIONS\"].get(\"passwd\", settings_dict[\"PASSWORD\"]),\n",
    "        )\n",
    "        host = settings_dict[\"OPTIONS\"].get(\"host\", settings_dict[\"HOST\"])\n",
    "        port = settings_dict[\"OPTIONS\"].get(\"port\", settings_dict[\"PORT\"])\n",
    "        server_ca = settings_dict[\"OPTIONS\"].get(\"ssl\", {}).get(\"ca\")\n",
    "        client_cert = settings_dict[\"OPTIONS\"].get(\"ssl\", {}).get(\"cert\")\n",
    "        client_key = settings_dict[\"OPTIONS\"].get(\"ssl\", {}).get(\"key\")\n",
    "        defaults_file = settings_dict[\"OPTIONS\"].get(\"read_default_file\")\n",
    "        charset = settings_dict[\"OPTIONS\"].get(\"charset\")\n",
    "        # Seems to be no good way to set sql_mode with CLI.\n",
    "\n",
    "        if defaults_file:\n",
    "            args += [\"--defaults-file=%s\" % defaults_file]\n",
    "        if user:\n",
    "            args += [\"--user=%s\" % user]\n",
    "        if password:\n",
    "            # The MYSQL_PWD environment variable usage is discouraged per\n",
    "            # MySQL's documentation due to the possibility of exposure through\n",
    "            # `ps` on old Unix flavors but --password suffers from the same\n",
    "            # flaw on even more systems. Usage of an environment variable also\n",
    "            # prevents password exposure if the subprocess.run(check=True) call\n",
    "            # raises a CalledProcessError since the string representation of\n",
    "            # the latter includes all of the provided `args`.\n",
    "            env = {\"MYSQL_PWD\": password}\n",
    "        if host:\n",
    "            if \"/\" in host:\n",
    "                args += [\"--socket=%s\" % host]\n",
    "            else:\n",
    "                args += [\"--host=%s\" % host]\n",
    "        if port:\n",
    "            args += [\"--port=%s\" % port]\n",
    "        if server_ca:\n",
    "            args += [\"--ssl-ca=%s\" % server_ca]\n",
    "        if client_cert:\n",
    "            args += [\"--ssl-cert=%s\" % client_cert]\n",
    "        if client_key:\n",
    "            args += [\"--ssl-key=%s\" % client_key]\n",
    "        if charset:\n",
    "            args += [\"--default-character-set=%s\" % charset]\n",
    "        if database:\n",
    "            args += [database]\n",
    "        args.extend(parameters)\n",
    "        return args, env\n",
    "\n",
    "    def runshell(self, parameters):\n",
    "        sigint_handler = signal.getsignal(signal.SIGINT)\n",
    "        try:\n",
    "            # Allow SIGINT to pass to mysql to abort queries.\n",
    "            signal.signal(signal.SIGINT, signal.SIG_IGN)\n",
    "            super().runshell(parameters)\n",
    "        finally:\n",
    "            # Restore the original SIGINT handler.\n",
    "            signal.signal(signal.SIGINT, sigint_handler)"
   ]
  },
  {
   "cell_type": "markdown",
   "metadata": {},
   "source": []
  }
 ],
 "metadata": {
  "language_info": {
   "name": "python"
  }
 },
 "nbformat": 4,
 "nbformat_minor": 2
}