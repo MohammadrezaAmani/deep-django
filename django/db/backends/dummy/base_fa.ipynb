{
    "cells": [
        {
            "cell_type": "code",
            "execution_count": null,
            "metadata": {},
            "outputs": [],
            "source": [
                "\"\"\"\n",
                "Dummy database backend for Django.\n",
                "\n",
                "Django uses this if the database ENGINE setting is empty (None or empty string).\n",
                "\n",
                "Each of these API functions, except connection.close(), raise\n",
                "ImproperlyConfigured.\n",
                "\"\"\"\n",
                "\n",
                "from django.core.exceptions import ImproperlyConfigured\n",
                "from django.db.backends.base.base import BaseDatabaseWrapper\n",
                "from django.db.backends.base.client import BaseDatabaseClient\n",
                "from django.db.backends.base.creation import BaseDatabaseCreation\n",
                "from django.db.backends.base.introspection import BaseDatabaseIntrospection\n",
                "from django.db.backends.base.operations import BaseDatabaseOperations\n",
                "from django.db.backends.dummy.features import DummyDatabaseFeatures\n"
            ]
        },
        {
            "cell_type": "markdown",
            "metadata": {},
            "source": []
        },
        {
            "cell_type": "code",
            "execution_count": null,
            "metadata": {},
            "outputs": [],
            "source": [
                "def complain(*args, **kwargs):\n",
                "    raise ImproperlyConfigured(\n",
                "        \"settings.DATABASES is improperly configured. \"\n",
                "        \"Please supply the ENGINE value. Check \"\n",
                "        \"settings documentation for more details.\"\n",
                "    )\n"
            ]
        },
        {
            "cell_type": "markdown",
            "metadata": {},
            "source": []
        },
        {
            "cell_type": "code",
            "execution_count": null,
            "metadata": {},
            "outputs": [],
            "source": [
                "def ignore(*args, **kwargs):\n",
                "    pass\n"
            ]
        },
        {
            "cell_type": "markdown",
            "metadata": {},
            "source": []
        },
        {
            "cell_type": "code",
            "execution_count": null,
            "metadata": {},
            "outputs": [],
            "source": [
                "class DatabaseOperations(BaseDatabaseOperations):\n",
                "    quote_name = complain\n"
            ]
        },
        {
            "cell_type": "markdown",
            "metadata": {},
            "source": []
        },
        {
            "cell_type": "code",
            "execution_count": null,
            "metadata": {},
            "outputs": [],
            "source": [
                "class DatabaseClient(BaseDatabaseClient):\n",
                "    runshell = complain\n"
            ]
        },
        {
            "cell_type": "markdown",
            "metadata": {},
            "source": []
        },
        {
            "cell_type": "code",
            "execution_count": null,
            "metadata": {},
            "outputs": [],
            "source": [
                "class DatabaseCreation(BaseDatabaseCreation):\n",
                "    create_test_db = ignore\n",
                "    destroy_test_db = ignore\n"
            ]
        },
        {
            "cell_type": "markdown",
            "metadata": {},
            "source": []
        },
        {
            "cell_type": "code",
            "execution_count": null,
            "metadata": {},
            "outputs": [],
            "source": [
                "class DatabaseIntrospection(BaseDatabaseIntrospection):\n",
                "    get_table_list = complain\n",
                "    get_table_description = complain\n",
                "    get_relations = complain\n",
                "    get_indexes = complain\n"
            ]
        },
        {
            "cell_type": "markdown",
            "metadata": {},
            "source": []
        },
        {
            "cell_type": "code",
            "execution_count": null,
            "metadata": {},
            "outputs": [],
            "source": [
                "class DatabaseWrapper(BaseDatabaseWrapper):\n",
                "    operators = {}\n",
                "    # Override the base class implementations with null\n",
                "    # implementations. Anything that tries to actually\n",
                "    # do something raises complain; anything that tries\n",
                "    # to rollback or undo something raises ignore.\n",
                "    _cursor = complain\n",
                "    ensure_connection = complain\n",
                "    _commit = complain\n",
                "    _rollback = ignore\n",
                "    _close = ignore\n",
                "    _savepoint = ignore\n",
                "    _savepoint_commit = complain\n",
                "    _savepoint_rollback = ignore\n",
                "    _set_autocommit = complain\n",
                "    # Classes instantiated in __init__().\n",
                "    client_class = DatabaseClient\n",
                "    creation_class = DatabaseCreation\n",
                "    features_class = DummyDatabaseFeatures\n",
                "    introspection_class = DatabaseIntrospection\n",
                "    ops_class = DatabaseOperations\n",
                "\n",
                "    def is_usable(self):\n",
                "        return True\n",
                "\n"
            ]
        },
        {
            "cell_type": "markdown",
            "metadata": {},
            "source": []
        }
    ],
    "metadata": {
        "language_info": {
            "name": "python"
        }
    },
    "nbformat": 4,
    "nbformat_minor": 2
}