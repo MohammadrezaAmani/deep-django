{
    "cells": [
        {
            "cell_type": "code",
            "execution_count": null,
            "metadata": {},
            "outputs": [],
            "source": [
                "from django.db.models import DecimalField, DurationField, Func\n"
            ]
        },
        {
            "cell_type": "markdown",
            "metadata": {},
            "source": []
        },
        {
            "cell_type": "code",
            "execution_count": null,
            "metadata": {},
            "outputs": [],
            "source": [
                "class IntervalToSeconds(Func):\n",
                "    function = \"\"\n",
                "    template = \"\"\"\n",
                "    EXTRACT(day from %(expressions)s) * 86400 +\n",
                "    EXTRACT(hour from %(expressions)s) * 3600 +\n",
                "    EXTRACT(minute from %(expressions)s) * 60 +\n",
                "    EXTRACT(second from %(expressions)s)\n",
                "    \"\"\"\n",
                "\n",
                "    def __init__(self, expression, *, output_field=None, **extra):\n",
                "        super().__init__(\n",
                "            expression, output_field=output_field or DecimalField(), **extra\n",
                "        )\n"
            ]
        },
        {
            "cell_type": "markdown",
            "metadata": {},
            "source": []
        },
        {
            "cell_type": "code",
            "execution_count": null,
            "metadata": {},
            "outputs": [],
            "source": [
                "class SecondsToInterval(Func):\n",
                "    function = \"NUMTODSINTERVAL\"\n",
                "    template = \"%(function)s(%(expressions)s, 'SECOND')\"\n",
                "\n",
                "    def __init__(self, expression, *, output_field=None, **extra):\n",
                "        super().__init__(\n",
                "            expression, output_field=output_field or DurationField(), **extra\n",
                "        )\n",
                "\n"
            ]
        },
        {
            "cell_type": "markdown",
            "metadata": {},
            "source": []
        }
    ],
    "metadata": {
        "language_info": {
            "name": "python"
        }
    },
    "nbformat": 4,
    "nbformat_minor": 2
}