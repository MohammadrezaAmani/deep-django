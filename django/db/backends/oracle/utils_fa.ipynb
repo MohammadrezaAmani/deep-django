{
 "cells": [
  {
   "cell_type": "code",
   "execution_count": null,
   "metadata": {},
   "outputs": [],
   "source": [
    "import datetime\n",
    "import decimal\n",
    "\n",
    "from .base import Database"
   ]
  },
  {
   "cell_type": "markdown",
   "metadata": {},
   "source": []
  },
  {
   "cell_type": "code",
   "execution_count": null,
   "metadata": {},
   "outputs": [],
   "source": [
    "class InsertVar:\n",
    "    \"\"\"\n",
    "    A late-binding cursor variable that can be passed to Cursor.execute\n",
    "    as a parameter, in order to receive the id of the row created by an\n",
    "    insert statement.\n",
    "    \"\"\"\n",
    "\n",
    "    types = {\n",
    "        \"AutoField\": int,\n",
    "        \"BigAutoField\": int,\n",
    "        \"SmallAutoField\": int,\n",
    "        \"IntegerField\": int,\n",
    "        \"BigIntegerField\": int,\n",
    "        \"SmallIntegerField\": int,\n",
    "        \"PositiveBigIntegerField\": int,\n",
    "        \"PositiveSmallIntegerField\": int,\n",
    "        \"PositiveIntegerField\": int,\n",
    "        \"BooleanField\": int,\n",
    "        \"FloatField\": Database.NATIVE_FLOAT,\n",
    "        \"DateTimeField\": Database.TIMESTAMP,\n",
    "        \"DateField\": Database.Date,\n",
    "        \"DecimalField\": decimal.Decimal,\n",
    "    }\n",
    "\n",
    "    def __init__(self, field):\n",
    "        internal_type = getattr(field, \"target_field\", field).get_internal_type()\n",
    "        self.db_type = self.types.get(internal_type, str)\n",
    "        self.bound_param = None\n",
    "\n",
    "    def bind_parameter(self, cursor):\n",
    "        self.bound_param = cursor.cursor.var(self.db_type)\n",
    "        return self.bound_param\n",
    "\n",
    "    def get_value(self):\n",
    "        return self.bound_param.getvalue()"
   ]
  },
  {
   "cell_type": "markdown",
   "metadata": {},
   "source": []
  },
  {
   "cell_type": "code",
   "execution_count": null,
   "metadata": {},
   "outputs": [],
   "source": [
    "class Oracle_datetime(datetime.datetime):\n",
    "    \"\"\"\n",
    "    A datetime object, with an additional class attribute\n",
    "    to tell oracledb to save the microseconds too.\n",
    "    \"\"\"\n",
    "\n",
    "    input_size = Database.TIMESTAMP\n",
    "\n",
    "    @classmethod\n",
    "    def from_datetime(cls, dt):\n",
    "        return Oracle_datetime(\n",
    "            dt.year,\n",
    "            dt.month,\n",
    "            dt.day,\n",
    "            dt.hour,\n",
    "            dt.minute,\n",
    "            dt.second,\n",
    "            dt.microsecond,\n",
    "        )"
   ]
  },
  {
   "cell_type": "markdown",
   "metadata": {},
   "source": []
  },
  {
   "cell_type": "code",
   "execution_count": null,
   "metadata": {},
   "outputs": [],
   "source": [
    "class BulkInsertMapper:\n",
    "    BLOB = \"TO_BLOB(%s)\"\n",
    "    DATE = \"TO_DATE(%s)\"\n",
    "    INTERVAL = \"CAST(%s as INTERVAL DAY(9) TO SECOND(6))\"\n",
    "    NCLOB = \"TO_NCLOB(%s)\"\n",
    "    NUMBER = \"TO_NUMBER(%s)\"\n",
    "    TIMESTAMP = \"TO_TIMESTAMP(%s)\"\n",
    "\n",
    "    types = {\n",
    "        \"AutoField\": NUMBER,\n",
    "        \"BigAutoField\": NUMBER,\n",
    "        \"BigIntegerField\": NUMBER,\n",
    "        \"BinaryField\": BLOB,\n",
    "        \"BooleanField\": NUMBER,\n",
    "        \"DateField\": DATE,\n",
    "        \"DateTimeField\": TIMESTAMP,\n",
    "        \"DecimalField\": NUMBER,\n",
    "        \"DurationField\": INTERVAL,\n",
    "        \"FloatField\": NUMBER,\n",
    "        \"IntegerField\": NUMBER,\n",
    "        \"PositiveBigIntegerField\": NUMBER,\n",
    "        \"PositiveIntegerField\": NUMBER,\n",
    "        \"PositiveSmallIntegerField\": NUMBER,\n",
    "        \"SmallAutoField\": NUMBER,\n",
    "        \"SmallIntegerField\": NUMBER,\n",
    "        \"TextField\": NCLOB,\n",
    "        \"TimeField\": TIMESTAMP,\n",
    "    }"
   ]
  },
  {
   "cell_type": "markdown",
   "metadata": {},
   "source": []
  },
  {
   "cell_type": "code",
   "execution_count": null,
   "metadata": {},
   "outputs": [],
   "source": [
    "def dsn(settings_dict):\n",
    "    if settings_dict[\"PORT\"]:\n",
    "        host = settings_dict[\"HOST\"].strip() or \"localhost\"\n",
    "        return Database.makedsn(host, int(settings_dict[\"PORT\"]), settings_dict[\"NAME\"])\n",
    "    return settings_dict[\"NAME\"]"
   ]
  },
  {
   "cell_type": "markdown",
   "metadata": {},
   "source": []
  }
 ],
 "metadata": {
  "language_info": {
   "name": "python"
  }
 },
 "nbformat": 4,
 "nbformat_minor": 2
}