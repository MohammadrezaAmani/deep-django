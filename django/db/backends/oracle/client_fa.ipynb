{
 "cells": [
  {
   "cell_type": "code",
   "execution_count": null,
   "metadata": {},
   "outputs": [],
   "source": [
    "import shutil\n",
    "\n",
    "from django.db.backends.base.client import BaseDatabaseClient"
   ]
  },
  {
   "cell_type": "markdown",
   "metadata": {},
   "source": []
  },
  {
   "cell_type": "code",
   "execution_count": null,
   "metadata": {},
   "outputs": [],
   "source": [
    "class DatabaseClient(BaseDatabaseClient):\n",
    "    executable_name = \"sqlplus\"\n",
    "    wrapper_name = \"rlwrap\"\n",
    "\n",
    "    @staticmethod\n",
    "    def connect_string(settings_dict):\n",
    "        from django.db.backends.oracle.utils import dsn\n",
    "\n",
    "        return '%s/\"%s\"@%s' % (\n",
    "            settings_dict[\"USER\"],\n",
    "            settings_dict[\"PASSWORD\"],\n",
    "            dsn(settings_dict),\n",
    "        )\n",
    "\n",
    "    @classmethod\n",
    "    def settings_to_cmd_args_env(cls, settings_dict, parameters):\n",
    "        args = [cls.executable_name, \"-L\", cls.connect_string(settings_dict)]\n",
    "        wrapper_path = shutil.which(cls.wrapper_name)\n",
    "        if wrapper_path:\n",
    "            args = [wrapper_path, *args]\n",
    "        args.extend(parameters)\n",
    "        return args, None"
   ]
  },
  {
   "cell_type": "markdown",
   "metadata": {},
   "source": []
  }
 ],
 "metadata": {
  "language_info": {
   "name": "python"
  }
 },
 "nbformat": 4,
 "nbformat_minor": 2
}