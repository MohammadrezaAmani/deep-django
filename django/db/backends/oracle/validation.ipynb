{
 "cells": [
  {
   "cell_type": "code",
   "execution_count": null,
   "metadata": {},
   "outputs": [],
   "source": [
    "from django.core import checks\n",
    "from django.db.backends.base.validation import BaseDatabaseValidation"
   ]
  },
  {
   "cell_type": "markdown",
   "metadata": {},
   "source": []
  },
  {
   "cell_type": "code",
   "execution_count": null,
   "metadata": {},
   "outputs": [],
   "source": [
    "class DatabaseValidation(BaseDatabaseValidation):\n",
    "    def check_field_type(self, field, field_type):\n",
    "        \"\"\"Oracle doesn't support a database index on some data types.\"\"\"\n",
    "        errors = []\n",
    "        if field.db_index and field_type.lower() in self.connection._limited_data_types:\n",
    "            errors.append(\n",
    "                checks.Warning(\n",
    "                    \"Oracle does not support a database index on %s columns.\"\n",
    "                    % field_type,\n",
    "                    hint=(\n",
    "                        \"An index won't be created. Silence this warning if \"\n",
    "                        \"you don't care about it.\"\n",
    "                    ),\n",
    "                    obj=field,\n",
    "                    id=\"fields.W162\",\n",
    "                )\n",
    "            )\n",
    "        return errors"
   ]
  },
  {
   "cell_type": "markdown",
   "metadata": {},
   "source": []
  }
 ],
 "metadata": {
  "language_info": {
   "name": "python"
  }
 },
 "nbformat": 4,
 "nbformat_minor": 2
}