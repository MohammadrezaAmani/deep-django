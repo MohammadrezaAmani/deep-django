{
    "cells": [
        {
            "cell_type": "code",
            "execution_count": null,
            "metadata": {},
            "outputs": [],
            "source": [
                "import warnings\n",
                "\n",
                "from django.core.exceptions import ImproperlyConfigured\n",
                "from django.utils.deprecation import RemovedInDjango60Warning\n",
                "\n",
                "try:\n",
                "    import oracledb\n",
                "\n",
                "    is_oracledb = True\n",
                "except ImportError as e:\n",
                "    try:\n",
                "        import cx_Oracle as oracledb  # NOQA\n",
                "\n",
                "        warnings.warn(\n",
                "            \"cx_Oracle is deprecated. Use oracledb instead.\",\n",
                "            RemovedInDjango60Warning,\n",
                "            stacklevel=2,\n",
                "        )\n",
                "        is_oracledb = False\n",
                "    except ImportError:\n",
                "        raise ImproperlyConfigured(f\"Error loading oracledb module: {e}\")\n",
                "\n"
            ]
        },
        {
            "cell_type": "markdown",
            "metadata": {},
            "source": []
        }
    ],
    "metadata": {
        "language_info": {
            "name": "python"
        }
    },
    "nbformat": 4,
    "nbformat_minor": 2
}