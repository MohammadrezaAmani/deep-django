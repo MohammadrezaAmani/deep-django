{
    "cells": [
        {
            "cell_type": "code",
            "execution_count": null,
            "metadata": {},
            "outputs": [],
            "source": [
                "from django.db.backends.base.client import BaseDatabaseClient\n"
            ]
        },
        {
            "cell_type": "markdown",
            "metadata": {},
            "source": []
        },
        {
            "cell_type": "code",
            "execution_count": null,
            "metadata": {},
            "outputs": [],
            "source": [
                "class DatabaseClient(BaseDatabaseClient):\n",
                "    executable_name = \"sqlite3\"\n",
                "\n",
                "    @classmethod\n",
                "    def settings_to_cmd_args_env(cls, settings_dict, parameters):\n",
                "        args = [cls.executable_name, settings_dict[\"NAME\"], *parameters]\n",
                "        return args, None\n",
                "\n"
            ]
        },
        {
            "cell_type": "markdown",
            "metadata": {},
            "source": []
        }
    ],
    "metadata": {
        "language_info": {
            "name": "python"
        }
    },
    "nbformat": 4,
    "nbformat_minor": 2
}