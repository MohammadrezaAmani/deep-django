{
 "cells": [
  {
   "cell_type": "code",
   "execution_count": null,
   "metadata": {},
   "outputs": [],
   "source": [
    "\"\"\"\n",
    "Implementations of SQL functions for SQLite.\n",
    "\"\"\"\n",
    "\n",
    "import functools\n",
    "import random\n",
    "import statistics\n",
    "import zoneinfo\n",
    "from datetime import timedelta\n",
    "from hashlib import md5, sha1, sha224, sha256, sha384, sha512\n",
    "from math import (\n",
    "    acos,\n",
    "    asin,\n",
    "    atan,\n",
    "    atan2,\n",
    "    ceil,\n",
    "    cos,\n",
    "    degrees,\n",
    "    exp,\n",
    "    floor,\n",
    "    fmod,\n",
    "    log,\n",
    "    pi,\n",
    "    radians,\n",
    "    sin,\n",
    "    sqrt,\n",
    "    tan,\n",
    ")\n",
    "from re import search as re_search\n",
    "\n",
    "from django.db.backends.utils import (\n",
    "    split_tzname_delta,\n",
    "    typecast_time,\n",
    "    typecast_timestamp,\n",
    ")\n",
    "from django.utils import timezone\n",
    "from django.utils.duration import duration_microseconds"
   ]
  },
  {
   "cell_type": "markdown",
   "metadata": {},
   "source": []
  },
  {
   "cell_type": "code",
   "execution_count": null,
   "metadata": {},
   "outputs": [],
   "source": [
    "def register(connection):\n",
    "    create_deterministic_function = functools.partial(\n",
    "        connection.create_function,\n",
    "        deterministic=True,\n",
    "    )\n",
    "    create_deterministic_function(\"django_date_extract\", 2, _sqlite_datetime_extract)\n",
    "    create_deterministic_function(\"django_date_trunc\", 4, _sqlite_date_trunc)\n",
    "    create_deterministic_function(\n",
    "        \"django_datetime_cast_date\", 3, _sqlite_datetime_cast_date\n",
    "    )\n",
    "    create_deterministic_function(\n",
    "        \"django_datetime_cast_time\", 3, _sqlite_datetime_cast_time\n",
    "    )\n",
    "    create_deterministic_function(\n",
    "        \"django_datetime_extract\", 4, _sqlite_datetime_extract\n",
    "    )\n",
    "    create_deterministic_function(\"django_datetime_trunc\", 4, _sqlite_datetime_trunc)\n",
    "    create_deterministic_function(\"django_time_extract\", 2, _sqlite_time_extract)\n",
    "    create_deterministic_function(\"django_time_trunc\", 4, _sqlite_time_trunc)\n",
    "    create_deterministic_function(\"django_time_diff\", 2, _sqlite_time_diff)\n",
    "    create_deterministic_function(\"django_timestamp_diff\", 2, _sqlite_timestamp_diff)\n",
    "    create_deterministic_function(\"django_format_dtdelta\", 3, _sqlite_format_dtdelta)\n",
    "    create_deterministic_function(\"regexp\", 2, _sqlite_regexp)\n",
    "    create_deterministic_function(\"BITXOR\", 2, _sqlite_bitxor)\n",
    "    create_deterministic_function(\"COT\", 1, _sqlite_cot)\n",
    "    create_deterministic_function(\"LPAD\", 3, _sqlite_lpad)\n",
    "    create_deterministic_function(\"MD5\", 1, _sqlite_md5)\n",
    "    create_deterministic_function(\"REPEAT\", 2, _sqlite_repeat)\n",
    "    create_deterministic_function(\"REVERSE\", 1, _sqlite_reverse)\n",
    "    create_deterministic_function(\"RPAD\", 3, _sqlite_rpad)\n",
    "    create_deterministic_function(\"SHA1\", 1, _sqlite_sha1)\n",
    "    create_deterministic_function(\"SHA224\", 1, _sqlite_sha224)\n",
    "    create_deterministic_function(\"SHA256\", 1, _sqlite_sha256)\n",
    "    create_deterministic_function(\"SHA384\", 1, _sqlite_sha384)\n",
    "    create_deterministic_function(\"SHA512\", 1, _sqlite_sha512)\n",
    "    create_deterministic_function(\"SIGN\", 1, _sqlite_sign)\n",
    "    # Don't use the built-in RANDOM() function because it returns a value\n",
    "    # in the range [-1 * 2^63, 2^63 - 1] instead of [0, 1).\n",
    "    connection.create_function(\"RAND\", 0, random.random)\n",
    "    connection.create_aggregate(\"STDDEV_POP\", 1, StdDevPop)\n",
    "    connection.create_aggregate(\"STDDEV_SAMP\", 1, StdDevSamp)\n",
    "    connection.create_aggregate(\"VAR_POP\", 1, VarPop)\n",
    "    connection.create_aggregate(\"VAR_SAMP\", 1, VarSamp)\n",
    "    # Some math functions are enabled by default in SQLite 3.35+.\n",
    "    sql = \"select sqlite_compileoption_used('ENABLE_MATH_FUNCTIONS')\"\n",
    "    if not connection.execute(sql).fetchone()[0]:\n",
    "        create_deterministic_function(\"ACOS\", 1, _sqlite_acos)\n",
    "        create_deterministic_function(\"ASIN\", 1, _sqlite_asin)\n",
    "        create_deterministic_function(\"ATAN\", 1, _sqlite_atan)\n",
    "        create_deterministic_function(\"ATAN2\", 2, _sqlite_atan2)\n",
    "        create_deterministic_function(\"CEILING\", 1, _sqlite_ceiling)\n",
    "        create_deterministic_function(\"COS\", 1, _sqlite_cos)\n",
    "        create_deterministic_function(\"DEGREES\", 1, _sqlite_degrees)\n",
    "        create_deterministic_function(\"EXP\", 1, _sqlite_exp)\n",
    "        create_deterministic_function(\"FLOOR\", 1, _sqlite_floor)\n",
    "        create_deterministic_function(\"LN\", 1, _sqlite_ln)\n",
    "        create_deterministic_function(\"LOG\", 2, _sqlite_log)\n",
    "        create_deterministic_function(\"MOD\", 2, _sqlite_mod)\n",
    "        create_deterministic_function(\"PI\", 0, _sqlite_pi)\n",
    "        create_deterministic_function(\"POWER\", 2, _sqlite_power)\n",
    "        create_deterministic_function(\"RADIANS\", 1, _sqlite_radians)\n",
    "        create_deterministic_function(\"SIN\", 1, _sqlite_sin)\n",
    "        create_deterministic_function(\"SQRT\", 1, _sqlite_sqrt)\n",
    "        create_deterministic_function(\"TAN\", 1, _sqlite_tan)"
   ]
  },
  {
   "cell_type": "markdown",
   "metadata": {},
   "source": []
  },
  {
   "cell_type": "code",
   "execution_count": null,
   "metadata": {},
   "outputs": [],
   "source": [
    "def _sqlite_datetime_parse(dt, tzname=None, conn_tzname=None):\n",
    "    if dt is None:\n",
    "        return None\n",
    "    try:\n",
    "        dt = typecast_timestamp(dt)\n",
    "    except (TypeError, ValueError):\n",
    "        return None\n",
    "    if conn_tzname:\n",
    "        dt = dt.replace(tzinfo=zoneinfo.ZoneInfo(conn_tzname))\n",
    "    if tzname is not None and tzname != conn_tzname:\n",
    "        tzname, sign, offset = split_tzname_delta(tzname)\n",
    "        if offset:\n",
    "            hours, minutes = offset.split(\":\")\n",
    "            offset_delta = timedelta(hours=int(hours), minutes=int(minutes))\n",
    "            dt += offset_delta if sign == \"+\" else -offset_delta\n",
    "        dt = timezone.localtime(dt, zoneinfo.ZoneInfo(tzname))\n",
    "    return dt"
   ]
  },
  {
   "cell_type": "markdown",
   "metadata": {},
   "source": []
  },
  {
   "cell_type": "code",
   "execution_count": null,
   "metadata": {},
   "outputs": [],
   "source": [
    "def _sqlite_date_trunc(lookup_type, dt, tzname, conn_tzname):\n",
    "    dt = _sqlite_datetime_parse(dt, tzname, conn_tzname)\n",
    "    if dt is None:\n",
    "        return None\n",
    "    if lookup_type == \"year\":\n",
    "        return f\"{dt.year:04d}-01-01\"\n",
    "    elif lookup_type == \"quarter\":\n",
    "        month_in_quarter = dt.month - (dt.month - 1) % 3\n",
    "        return f\"{dt.year:04d}-{month_in_quarter:02d}-01\"\n",
    "    elif lookup_type == \"month\":\n",
    "        return f\"{dt.year:04d}-{dt.month:02d}-01\"\n",
    "    elif lookup_type == \"week\":\n",
    "        dt -= timedelta(days=dt.weekday())\n",
    "        return f\"{dt.year:04d}-{dt.month:02d}-{dt.day:02d}\"\n",
    "    elif lookup_type == \"day\":\n",
    "        return f\"{dt.year:04d}-{dt.month:02d}-{dt.day:02d}\"\n",
    "    raise ValueError(f\"Unsupported lookup type: {lookup_type!r}\")"
   ]
  },
  {
   "cell_type": "markdown",
   "metadata": {},
   "source": []
  },
  {
   "cell_type": "code",
   "execution_count": null,
   "metadata": {},
   "outputs": [],
   "source": [
    "def _sqlite_time_trunc(lookup_type, dt, tzname, conn_tzname):\n",
    "    if dt is None:\n",
    "        return None\n",
    "    dt_parsed = _sqlite_datetime_parse(dt, tzname, conn_tzname)\n",
    "    if dt_parsed is None:\n",
    "        try:\n",
    "            dt = typecast_time(dt)\n",
    "        except (ValueError, TypeError):\n",
    "            return None\n",
    "    else:\n",
    "        dt = dt_parsed\n",
    "    if lookup_type == \"hour\":\n",
    "        return f\"{dt.hour:02d}:00:00\"\n",
    "    elif lookup_type == \"minute\":\n",
    "        return f\"{dt.hour:02d}:{dt.minute:02d}:00\"\n",
    "    elif lookup_type == \"second\":\n",
    "        return f\"{dt.hour:02d}:{dt.minute:02d}:{dt.second:02d}\"\n",
    "    raise ValueError(f\"Unsupported lookup type: {lookup_type!r}\")"
   ]
  },
  {
   "cell_type": "markdown",
   "metadata": {},
   "source": []
  },
  {
   "cell_type": "code",
   "execution_count": null,
   "metadata": {},
   "outputs": [],
   "source": [
    "def _sqlite_datetime_cast_date(dt, tzname, conn_tzname):\n",
    "    dt = _sqlite_datetime_parse(dt, tzname, conn_tzname)\n",
    "    if dt is None:\n",
    "        return None\n",
    "    return dt.date().isoformat()"
   ]
  },
  {
   "cell_type": "markdown",
   "metadata": {},
   "source": []
  },
  {
   "cell_type": "code",
   "execution_count": null,
   "metadata": {},
   "outputs": [],
   "source": [
    "def _sqlite_datetime_cast_time(dt, tzname, conn_tzname):\n",
    "    dt = _sqlite_datetime_parse(dt, tzname, conn_tzname)\n",
    "    if dt is None:\n",
    "        return None\n",
    "    return dt.time().isoformat()"
   ]
  },
  {
   "cell_type": "markdown",
   "metadata": {},
   "source": []
  },
  {
   "cell_type": "code",
   "execution_count": null,
   "metadata": {},
   "outputs": [],
   "source": [
    "def _sqlite_datetime_extract(lookup_type, dt, tzname=None, conn_tzname=None):\n",
    "    dt = _sqlite_datetime_parse(dt, tzname, conn_tzname)\n",
    "    if dt is None:\n",
    "        return None\n",
    "    if lookup_type == \"week_day\":\n",
    "        return (dt.isoweekday() % 7) + 1\n",
    "    elif lookup_type == \"iso_week_day\":\n",
    "        return dt.isoweekday()\n",
    "    elif lookup_type == \"week\":\n",
    "        return dt.isocalendar().week\n",
    "    elif lookup_type == \"quarter\":\n",
    "        return ceil(dt.month / 3)\n",
    "    elif lookup_type == \"iso_year\":\n",
    "        return dt.isocalendar().year\n",
    "    else:\n",
    "        return getattr(dt, lookup_type)"
   ]
  },
  {
   "cell_type": "markdown",
   "metadata": {},
   "source": []
  },
  {
   "cell_type": "code",
   "execution_count": null,
   "metadata": {},
   "outputs": [],
   "source": [
    "def _sqlite_datetime_trunc(lookup_type, dt, tzname, conn_tzname):\n",
    "    dt = _sqlite_datetime_parse(dt, tzname, conn_tzname)\n",
    "    if dt is None:\n",
    "        return None\n",
    "    if lookup_type == \"year\":\n",
    "        return f\"{dt.year:04d}-01-01 00:00:00\"\n",
    "    elif lookup_type == \"quarter\":\n",
    "        month_in_quarter = dt.month - (dt.month - 1) % 3\n",
    "        return f\"{dt.year:04d}-{month_in_quarter:02d}-01 00:00:00\"\n",
    "    elif lookup_type == \"month\":\n",
    "        return f\"{dt.year:04d}-{dt.month:02d}-01 00:00:00\"\n",
    "    elif lookup_type == \"week\":\n",
    "        dt -= timedelta(days=dt.weekday())\n",
    "        return f\"{dt.year:04d}-{dt.month:02d}-{dt.day:02d} 00:00:00\"\n",
    "    elif lookup_type == \"day\":\n",
    "        return f\"{dt.year:04d}-{dt.month:02d}-{dt.day:02d} 00:00:00\"\n",
    "    elif lookup_type == \"hour\":\n",
    "        return f\"{dt.year:04d}-{dt.month:02d}-{dt.day:02d} {dt.hour:02d}:00:00\"\n",
    "    elif lookup_type == \"minute\":\n",
    "        return (\n",
    "            f\"{dt.year:04d}-{dt.month:02d}-{dt.day:02d} \"\n",
    "            f\"{dt.hour:02d}:{dt.minute:02d}:00\"\n",
    "        )\n",
    "    elif lookup_type == \"second\":\n",
    "        return (\n",
    "            f\"{dt.year:04d}-{dt.month:02d}-{dt.day:02d} \"\n",
    "            f\"{dt.hour:02d}:{dt.minute:02d}:{dt.second:02d}\"\n",
    "        )\n",
    "    raise ValueError(f\"Unsupported lookup type: {lookup_type!r}\")"
   ]
  },
  {
   "cell_type": "markdown",
   "metadata": {},
   "source": []
  },
  {
   "cell_type": "code",
   "execution_count": null,
   "metadata": {},
   "outputs": [],
   "source": [
    "def _sqlite_time_extract(lookup_type, dt):\n",
    "    if dt is None:\n",
    "        return None\n",
    "    try:\n",
    "        dt = typecast_time(dt)\n",
    "    except (ValueError, TypeError):\n",
    "        return None\n",
    "    return getattr(dt, lookup_type)"
   ]
  },
  {
   "cell_type": "markdown",
   "metadata": {},
   "source": []
  },
  {
   "cell_type": "code",
   "execution_count": null,
   "metadata": {},
   "outputs": [],
   "source": [
    "def _sqlite_prepare_dtdelta_param(conn, param):\n",
    "    if conn in [\"+\", \"-\"]:\n",
    "        if isinstance(param, int):\n",
    "            return timedelta(0, 0, param)\n",
    "        else:\n",
    "            return typecast_timestamp(param)\n",
    "    return param"
   ]
  },
  {
   "cell_type": "markdown",
   "metadata": {},
   "source": []
  },
  {
   "cell_type": "code",
   "execution_count": null,
   "metadata": {},
   "outputs": [],
   "source": [
    "def _sqlite_format_dtdelta(connector, lhs, rhs):\n",
    "    \"\"\"\n",
    "    LHS and RHS can be either:\n",
    "    - An integer number of microseconds\n",
    "    - A string representing a datetime\n",
    "    - A scalar value, e.g. float\n",
    "    \"\"\"\n",
    "    if connector is None or lhs is None or rhs is None:\n",
    "        return None\n",
    "    connector = connector.strip()\n",
    "    try:\n",
    "        real_lhs = _sqlite_prepare_dtdelta_param(connector, lhs)\n",
    "        real_rhs = _sqlite_prepare_dtdelta_param(connector, rhs)\n",
    "    except (ValueError, TypeError):\n",
    "        return None\n",
    "    if connector == \"+\":\n",
    "        # typecast_timestamp() returns a date or a datetime without timezone.\n",
    "        # It will be formatted as \"%Y-%m-%d\" or \"%Y-%m-%d %H:%M:%S[.%f]\"\n",
    "        out = str(real_lhs + real_rhs)\n",
    "    elif connector == \"-\":\n",
    "        out = str(real_lhs - real_rhs)\n",
    "    elif connector == \"*\":\n",
    "        out = real_lhs * real_rhs\n",
    "    else:\n",
    "        out = real_lhs / real_rhs\n",
    "    return out"
   ]
  },
  {
   "cell_type": "markdown",
   "metadata": {},
   "source": []
  },
  {
   "cell_type": "code",
   "execution_count": null,
   "metadata": {},
   "outputs": [],
   "source": [
    "def _sqlite_time_diff(lhs, rhs):\n",
    "    if lhs is None or rhs is None:\n",
    "        return None\n",
    "    left = typecast_time(lhs)\n",
    "    right = typecast_time(rhs)\n",
    "    return (\n",
    "        (left.hour * 60 * 60 * 1000000)\n",
    "        + (left.minute * 60 * 1000000)\n",
    "        + (left.second * 1000000)\n",
    "        + (left.microsecond)\n",
    "        - (right.hour * 60 * 60 * 1000000)\n",
    "        - (right.minute * 60 * 1000000)\n",
    "        - (right.second * 1000000)\n",
    "        - (right.microsecond)\n",
    "    )"
   ]
  },
  {
   "cell_type": "markdown",
   "metadata": {},
   "source": []
  },
  {
   "cell_type": "code",
   "execution_count": null,
   "metadata": {},
   "outputs": [],
   "source": [
    "def _sqlite_timestamp_diff(lhs, rhs):\n",
    "    if lhs is None or rhs is None:\n",
    "        return None\n",
    "    left = typecast_timestamp(lhs)\n",
    "    right = typecast_timestamp(rhs)\n",
    "    return duration_microseconds(left - right)"
   ]
  },
  {
   "cell_type": "markdown",
   "metadata": {},
   "source": []
  },
  {
   "cell_type": "code",
   "execution_count": null,
   "metadata": {},
   "outputs": [],
   "source": [
    "def _sqlite_regexp(pattern, string):\n",
    "    if pattern is None or string is None:\n",
    "        return None\n",
    "    if not isinstance(string, str):\n",
    "        string = str(string)\n",
    "    return bool(re_search(pattern, string))"
   ]
  },
  {
   "cell_type": "markdown",
   "metadata": {},
   "source": []
  },
  {
   "cell_type": "code",
   "execution_count": null,
   "metadata": {},
   "outputs": [],
   "source": [
    "def _sqlite_acos(x):\n",
    "    if x is None:\n",
    "        return None\n",
    "    return acos(x)"
   ]
  },
  {
   "cell_type": "markdown",
   "metadata": {},
   "source": []
  },
  {
   "cell_type": "code",
   "execution_count": null,
   "metadata": {},
   "outputs": [],
   "source": [
    "def _sqlite_asin(x):\n",
    "    if x is None:\n",
    "        return None\n",
    "    return asin(x)"
   ]
  },
  {
   "cell_type": "markdown",
   "metadata": {},
   "source": []
  },
  {
   "cell_type": "code",
   "execution_count": null,
   "metadata": {},
   "outputs": [],
   "source": [
    "def _sqlite_atan(x):\n",
    "    if x is None:\n",
    "        return None\n",
    "    return atan(x)"
   ]
  },
  {
   "cell_type": "markdown",
   "metadata": {},
   "source": []
  },
  {
   "cell_type": "code",
   "execution_count": null,
   "metadata": {},
   "outputs": [],
   "source": [
    "def _sqlite_atan2(y, x):\n",
    "    if y is None or x is None:\n",
    "        return None\n",
    "    return atan2(y, x)"
   ]
  },
  {
   "cell_type": "markdown",
   "metadata": {},
   "source": []
  },
  {
   "cell_type": "code",
   "execution_count": null,
   "metadata": {},
   "outputs": [],
   "source": [
    "def _sqlite_bitxor(x, y):\n",
    "    if x is None or y is None:\n",
    "        return None\n",
    "    return x ^ y"
   ]
  },
  {
   "cell_type": "markdown",
   "metadata": {},
   "source": []
  },
  {
   "cell_type": "code",
   "execution_count": null,
   "metadata": {},
   "outputs": [],
   "source": [
    "def _sqlite_ceiling(x):\n",
    "    if x is None:\n",
    "        return None\n",
    "    return ceil(x)"
   ]
  },
  {
   "cell_type": "markdown",
   "metadata": {},
   "source": []
  },
  {
   "cell_type": "code",
   "execution_count": null,
   "metadata": {},
   "outputs": [],
   "source": [
    "def _sqlite_cos(x):\n",
    "    if x is None:\n",
    "        return None\n",
    "    return cos(x)"
   ]
  },
  {
   "cell_type": "markdown",
   "metadata": {},
   "source": []
  },
  {
   "cell_type": "code",
   "execution_count": null,
   "metadata": {},
   "outputs": [],
   "source": [
    "def _sqlite_cot(x):\n",
    "    if x is None:\n",
    "        return None\n",
    "    return 1 / tan(x)"
   ]
  },
  {
   "cell_type": "markdown",
   "metadata": {},
   "source": []
  },
  {
   "cell_type": "code",
   "execution_count": null,
   "metadata": {},
   "outputs": [],
   "source": [
    "def _sqlite_degrees(x):\n",
    "    if x is None:\n",
    "        return None\n",
    "    return degrees(x)"
   ]
  },
  {
   "cell_type": "markdown",
   "metadata": {},
   "source": []
  },
  {
   "cell_type": "code",
   "execution_count": null,
   "metadata": {},
   "outputs": [],
   "source": [
    "def _sqlite_exp(x):\n",
    "    if x is None:\n",
    "        return None\n",
    "    return exp(x)"
   ]
  },
  {
   "cell_type": "markdown",
   "metadata": {},
   "source": []
  },
  {
   "cell_type": "code",
   "execution_count": null,
   "metadata": {},
   "outputs": [],
   "source": [
    "def _sqlite_floor(x):\n",
    "    if x is None:\n",
    "        return None\n",
    "    return floor(x)"
   ]
  },
  {
   "cell_type": "markdown",
   "metadata": {},
   "source": []
  },
  {
   "cell_type": "code",
   "execution_count": null,
   "metadata": {},
   "outputs": [],
   "source": [
    "def _sqlite_ln(x):\n",
    "    if x is None:\n",
    "        return None\n",
    "    return log(x)"
   ]
  },
  {
   "cell_type": "markdown",
   "metadata": {},
   "source": []
  },
  {
   "cell_type": "code",
   "execution_count": null,
   "metadata": {},
   "outputs": [],
   "source": [
    "def _sqlite_log(base, x):\n",
    "    if base is None or x is None:\n",
    "        return None\n",
    "    # Arguments reversed to match SQL standard.\n",
    "    return log(x, base)"
   ]
  },
  {
   "cell_type": "markdown",
   "metadata": {},
   "source": []
  },
  {
   "cell_type": "code",
   "execution_count": null,
   "metadata": {},
   "outputs": [],
   "source": [
    "def _sqlite_lpad(text, length, fill_text):\n",
    "    if text is None or length is None or fill_text is None:\n",
    "        return None\n",
    "    delta = length - len(text)\n",
    "    if delta <= 0:\n",
    "        return text[:length]\n",
    "    return (fill_text * length)[:delta] + text"
   ]
  },
  {
   "cell_type": "markdown",
   "metadata": {},
   "source": []
  },
  {
   "cell_type": "code",
   "execution_count": null,
   "metadata": {},
   "outputs": [],
   "source": [
    "def _sqlite_md5(text):\n",
    "    if text is None:\n",
    "        return None\n",
    "    return md5(text.encode()).hexdigest()"
   ]
  },
  {
   "cell_type": "markdown",
   "metadata": {},
   "source": []
  },
  {
   "cell_type": "code",
   "execution_count": null,
   "metadata": {},
   "outputs": [],
   "source": [
    "def _sqlite_mod(x, y):\n",
    "    if x is None or y is None:\n",
    "        return None\n",
    "    return fmod(x, y)"
   ]
  },
  {
   "cell_type": "markdown",
   "metadata": {},
   "source": []
  },
  {
   "cell_type": "code",
   "execution_count": null,
   "metadata": {},
   "outputs": [],
   "source": [
    "def _sqlite_pi():\n",
    "    return pi"
   ]
  },
  {
   "cell_type": "markdown",
   "metadata": {},
   "source": []
  },
  {
   "cell_type": "code",
   "execution_count": null,
   "metadata": {},
   "outputs": [],
   "source": [
    "def _sqlite_power(x, y):\n",
    "    if x is None or y is None:\n",
    "        return None\n",
    "    return x**y"
   ]
  },
  {
   "cell_type": "markdown",
   "metadata": {},
   "source": []
  },
  {
   "cell_type": "code",
   "execution_count": null,
   "metadata": {},
   "outputs": [],
   "source": [
    "def _sqlite_radians(x):\n",
    "    if x is None:\n",
    "        return None\n",
    "    return radians(x)"
   ]
  },
  {
   "cell_type": "markdown",
   "metadata": {},
   "source": []
  },
  {
   "cell_type": "code",
   "execution_count": null,
   "metadata": {},
   "outputs": [],
   "source": [
    "def _sqlite_repeat(text, count):\n",
    "    if text is None or count is None:\n",
    "        return None\n",
    "    return text * count"
   ]
  },
  {
   "cell_type": "markdown",
   "metadata": {},
   "source": []
  },
  {
   "cell_type": "code",
   "execution_count": null,
   "metadata": {},
   "outputs": [],
   "source": [
    "def _sqlite_reverse(text):\n",
    "    if text is None:\n",
    "        return None\n",
    "    return text[::-1]"
   ]
  },
  {
   "cell_type": "markdown",
   "metadata": {},
   "source": []
  },
  {
   "cell_type": "code",
   "execution_count": null,
   "metadata": {},
   "outputs": [],
   "source": [
    "def _sqlite_rpad(text, length, fill_text):\n",
    "    if text is None or length is None or fill_text is None:\n",
    "        return None\n",
    "    return (text + fill_text * length)[:length]"
   ]
  },
  {
   "cell_type": "markdown",
   "metadata": {},
   "source": []
  },
  {
   "cell_type": "code",
   "execution_count": null,
   "metadata": {},
   "outputs": [],
   "source": [
    "def _sqlite_sha1(text):\n",
    "    if text is None:\n",
    "        return None\n",
    "    return sha1(text.encode()).hexdigest()"
   ]
  },
  {
   "cell_type": "markdown",
   "metadata": {},
   "source": []
  },
  {
   "cell_type": "code",
   "execution_count": null,
   "metadata": {},
   "outputs": [],
   "source": [
    "def _sqlite_sha224(text):\n",
    "    if text is None:\n",
    "        return None\n",
    "    return sha224(text.encode()).hexdigest()"
   ]
  },
  {
   "cell_type": "markdown",
   "metadata": {},
   "source": []
  },
  {
   "cell_type": "code",
   "execution_count": null,
   "metadata": {},
   "outputs": [],
   "source": [
    "def _sqlite_sha256(text):\n",
    "    if text is None:\n",
    "        return None\n",
    "    return sha256(text.encode()).hexdigest()"
   ]
  },
  {
   "cell_type": "markdown",
   "metadata": {},
   "source": []
  },
  {
   "cell_type": "code",
   "execution_count": null,
   "metadata": {},
   "outputs": [],
   "source": [
    "def _sqlite_sha384(text):\n",
    "    if text is None:\n",
    "        return None\n",
    "    return sha384(text.encode()).hexdigest()"
   ]
  },
  {
   "cell_type": "markdown",
   "metadata": {},
   "source": []
  },
  {
   "cell_type": "code",
   "execution_count": null,
   "metadata": {},
   "outputs": [],
   "source": [
    "def _sqlite_sha512(text):\n",
    "    if text is None:\n",
    "        return None\n",
    "    return sha512(text.encode()).hexdigest()"
   ]
  },
  {
   "cell_type": "markdown",
   "metadata": {},
   "source": []
  },
  {
   "cell_type": "code",
   "execution_count": null,
   "metadata": {},
   "outputs": [],
   "source": [
    "def _sqlite_sign(x):\n",
    "    if x is None:\n",
    "        return None\n",
    "    return (x > 0) - (x < 0)"
   ]
  },
  {
   "cell_type": "markdown",
   "metadata": {},
   "source": []
  },
  {
   "cell_type": "code",
   "execution_count": null,
   "metadata": {},
   "outputs": [],
   "source": [
    "def _sqlite_sin(x):\n",
    "    if x is None:\n",
    "        return None\n",
    "    return sin(x)"
   ]
  },
  {
   "cell_type": "markdown",
   "metadata": {},
   "source": []
  },
  {
   "cell_type": "code",
   "execution_count": null,
   "metadata": {},
   "outputs": [],
   "source": [
    "def _sqlite_sqrt(x):\n",
    "    if x is None:\n",
    "        return None\n",
    "    return sqrt(x)"
   ]
  },
  {
   "cell_type": "markdown",
   "metadata": {},
   "source": []
  },
  {
   "cell_type": "code",
   "execution_count": null,
   "metadata": {},
   "outputs": [],
   "source": [
    "def _sqlite_tan(x):\n",
    "    if x is None:\n",
    "        return None\n",
    "    return tan(x)"
   ]
  },
  {
   "cell_type": "markdown",
   "metadata": {},
   "source": []
  },
  {
   "cell_type": "code",
   "execution_count": null,
   "metadata": {},
   "outputs": [],
   "source": [
    "class ListAggregate(list):\n",
    "    step = list.append"
   ]
  },
  {
   "cell_type": "markdown",
   "metadata": {},
   "source": []
  },
  {
   "cell_type": "code",
   "execution_count": null,
   "metadata": {},
   "outputs": [],
   "source": [
    "class StdDevPop(ListAggregate):\n",
    "    finalize = statistics.pstdev"
   ]
  },
  {
   "cell_type": "markdown",
   "metadata": {},
   "source": []
  },
  {
   "cell_type": "code",
   "execution_count": null,
   "metadata": {},
   "outputs": [],
   "source": [
    "class StdDevSamp(ListAggregate):\n",
    "    finalize = statistics.stdev"
   ]
  },
  {
   "cell_type": "markdown",
   "metadata": {},
   "source": []
  },
  {
   "cell_type": "code",
   "execution_count": null,
   "metadata": {},
   "outputs": [],
   "source": [
    "class VarPop(ListAggregate):\n",
    "    finalize = statistics.pvariance"
   ]
  },
  {
   "cell_type": "markdown",
   "metadata": {},
   "source": []
  },
  {
   "cell_type": "code",
   "execution_count": null,
   "metadata": {},
   "outputs": [],
   "source": [
    "class VarSamp(ListAggregate):\n",
    "    finalize = statistics.variance"
   ]
  },
  {
   "cell_type": "markdown",
   "metadata": {},
   "source": []
  }
 ],
 "metadata": {
  "language_info": {
   "name": "python"
  }
 },
 "nbformat": 4,
 "nbformat_minor": 2
}