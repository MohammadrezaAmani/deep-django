{
 "cells": [
  {
   "cell_type": "code",
   "execution_count": null,
   "metadata": {},
   "outputs": [],
   "source": [
    "class BaseDatabaseValidation:\n",
    "    \"\"\"Encapsulate backend-specific validation.\"\"\"\n",
    "\n",
    "    def __init__(self, connection):\n",
    "        self.connection = connection\n",
    "\n",
    "    def check(self, **kwargs):\n",
    "        return []\n",
    "\n",
    "    def check_field(self, field, **kwargs):\n",
    "        errors = []\n",
    "        # Backends may implement a check_field_type() method.\n",
    "        if (\n",
    "            hasattr(self, \"check_field_type\")\n",
    "            and\n",
    "            # Ignore any related fields.\n",
    "            not getattr(field, \"remote_field\", None)\n",
    "        ):\n",
    "            # Ignore fields with unsupported features.\n",
    "            db_supports_all_required_features = all(\n",
    "                getattr(self.connection.features, feature, False)\n",
    "                for feature in field.model._meta.required_db_features\n",
    "            )\n",
    "            if db_supports_all_required_features:\n",
    "                field_type = field.db_type(self.connection)\n",
    "                # Ignore non-concrete fields.\n",
    "                if field_type is not None:\n",
    "                    errors.extend(self.check_field_type(field, field_type))\n",
    "        return errors"
   ]
  },
  {
   "cell_type": "markdown",
   "metadata": {},
   "source": []
  }
 ],
 "metadata": {
  "language_info": {
   "name": "python"
  }
 },
 "nbformat": 4,
 "nbformat_minor": 2
}