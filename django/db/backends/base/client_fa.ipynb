{
    "cells": [
        {
            "cell_type": "code",
            "execution_count": null,
            "metadata": {},
            "outputs": [],
            "source": [
                "import os\n",
                "import subprocess\n"
            ]
        },
        {
            "cell_type": "markdown",
            "metadata": {},
            "source": []
        },
        {
            "cell_type": "code",
            "execution_count": null,
            "metadata": {},
            "outputs": [],
            "source": [
                "class BaseDatabaseClient:\n",
                "    \"\"\"Encapsulate backend-specific methods for opening a client shell.\"\"\"\n",
                "\n",
                "    # This should be a string representing the name of the executable\n",
                "    # (e.g., \"psql\"). Subclasses must override this.\n",
                "    executable_name = None\n",
                "\n",
                "    def __init__(self, connection):\n",
                "        # connection is an instance of BaseDatabaseWrapper.\n",
                "        self.connection = connection\n",
                "\n",
                "    @classmethod\n",
                "    def settings_to_cmd_args_env(cls, settings_dict, parameters):\n",
                "        raise NotImplementedError(\n",
                "            \"subclasses of BaseDatabaseClient must provide a \"\n",
                "            \"settings_to_cmd_args_env() method or override a runshell().\"\n",
                "        )\n",
                "\n",
                "    def runshell(self, parameters):\n",
                "        args, env = self.settings_to_cmd_args_env(\n",
                "            self.connection.settings_dict, parameters\n",
                "        )\n",
                "        env = {**os.environ, **env} if env else None\n",
                "        subprocess.run(args, env=env, check=True)\n",
                "\n"
            ]
        },
        {
            "cell_type": "markdown",
            "metadata": {},
            "source": []
        }
    ],
    "metadata": {
        "language_info": {
            "name": "python"
        }
    },
    "nbformat": 4,
    "nbformat_minor": 2
}