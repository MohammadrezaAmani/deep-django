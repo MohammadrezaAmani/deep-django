{
 "cells": [
  {
   "cell_type": "code",
   "execution_count": null,
   "metadata": {},
   "outputs": [],
   "source": [
    "from django.core import signals\n",
    "from django.db.utils import (\n",
    "    DEFAULT_DB_ALIAS,\n",
    "    DJANGO_VERSION_PICKLE_KEY,\n",
    "    ConnectionHandler,\n",
    "    ConnectionRouter,\n",
    "    DatabaseError,\n",
    "    DataError,\n",
    "    Error,\n",
    "    IntegrityError,\n",
    "    InterfaceError,\n",
    "    InternalError,\n",
    "    NotSupportedError,\n",
    "    OperationalError,\n",
    "    ProgrammingError,\n",
    ")\n",
    "from django.utils.connection import ConnectionProxy\n",
    "\n",
    "__all__ = [\n",
    "    \"connection\",\n",
    "    \"connections\",\n",
    "    \"router\",\n",
    "    \"DatabaseError\",\n",
    "    \"IntegrityError\",\n",
    "    \"InternalError\",\n",
    "    \"ProgrammingError\",\n",
    "    \"DataError\",\n",
    "    \"NotSupportedError\",\n",
    "    \"Error\",\n",
    "    \"InterfaceError\",\n",
    "    \"OperationalError\",\n",
    "    \"DEFAULT_DB_ALIAS\",\n",
    "    \"DJANGO_VERSION_PICKLE_KEY\",\n",
    "]\n",
    "\n",
    "connections = ConnectionHandler()\n",
    "\n",
    "router = ConnectionRouter()\n",
    "\n",
    "# For backwards compatibility. Prefer connections['default'] instead.\n",
    "connection = ConnectionProxy(connections, DEFAULT_DB_ALIAS)"
   ]
  },
  {
   "cell_type": "markdown",
   "metadata": {},
   "source": []
  },
  {
   "cell_type": "code",
   "execution_count": null,
   "metadata": {},
   "outputs": [],
   "source": [
    "# Register an event to reset saved queries when a Django request is started.\n",
    "def reset_queries(**kwargs):\n",
    "    for conn in connections.all(initialized_only=True):\n",
    "        conn.queries_log.clear()"
   ]
  },
  {
   "cell_type": "markdown",
   "metadata": {},
   "source": []
  },
  {
   "cell_type": "code",
   "execution_count": null,
   "metadata": {},
   "outputs": [],
   "source": [
    "signals.request_started.connect(reset_queries)"
   ]
  },
  {
   "cell_type": "markdown",
   "metadata": {},
   "source": []
  },
  {
   "cell_type": "code",
   "execution_count": null,
   "metadata": {},
   "outputs": [],
   "source": [
    "# Register an event to reset transaction state and close connections past\n",
    "# their lifetime.\n",
    "def close_old_connections(**kwargs):\n",
    "    for conn in connections.all(initialized_only=True):\n",
    "        conn.close_if_unusable_or_obsolete()"
   ]
  },
  {
   "cell_type": "markdown",
   "metadata": {},
   "source": []
  },
  {
   "cell_type": "code",
   "execution_count": null,
   "metadata": {},
   "outputs": [],
   "source": [
    "signals.request_started.connect(close_old_connections)\n",
    "signals.request_finished.connect(close_old_connections)"
   ]
  },
  {
   "cell_type": "markdown",
   "metadata": {},
   "source": []
  }
 ],
 "metadata": {
  "language_info": {
   "name": "python"
  }
 },
 "nbformat": 4,
 "nbformat_minor": 2
}