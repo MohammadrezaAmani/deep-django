{
    "cells": [
        {
            "cell_type": "code",
            "execution_count": null,
            "metadata": {},
            "outputs": [],
            "source": [
                "import builtins\n",
                "import collections.abc\n",
                "import datetime\n",
                "import decimal\n",
                "import enum\n",
                "import functools\n",
                "import math\n",
                "import os\n",
                "import pathlib\n",
                "import re\n",
                "import types\n",
                "import uuid\n",
                "\n",
                "from django.conf import SettingsReference\n",
                "from django.db import models\n",
                "from django.db.migrations.operations.base import Operation\n",
                "from django.db.migrations.utils import COMPILED_REGEX_TYPE, RegexObject\n",
                "from django.utils.functional import LazyObject, Promise\n",
                "from django.utils.version import PY311, get_docs_version\n"
            ]
        },
        {
            "cell_type": "markdown",
            "metadata": {},
            "source": []
        },
        {
            "cell_type": "code",
            "execution_count": null,
            "metadata": {},
            "outputs": [],
            "source": [
                "class BaseSerializer:\n",
                "    def __init__(self, value):\n",
                "        self.value = value\n",
                "\n",
                "    def serialize(self):\n",
                "        raise NotImplementedError(\n",
                "            \"Subclasses of BaseSerializer must implement the serialize() method.\"\n",
                "        )\n"
            ]
        },
        {
            "cell_type": "markdown",
            "metadata": {},
            "source": []
        },
        {
            "cell_type": "code",
            "execution_count": null,
            "metadata": {},
            "outputs": [],
            "source": [
                "class BaseSequenceSerializer(BaseSerializer):\n",
                "    def _format(self):\n",
                "        raise NotImplementedError(\n",
                "            \"Subclasses of BaseSequenceSerializer must implement the _format() method.\"\n",
                "        )\n",
                "\n",
                "    def serialize(self):\n",
                "        imports = set()\n",
                "        strings = []\n",
                "        for item in self.value:\n",
                "            item_string, item_imports = serializer_factory(item).serialize()\n",
                "            imports.update(item_imports)\n",
                "            strings.append(item_string)\n",
                "        value = self._format()\n",
                "        return value % (\", \".join(strings)), imports\n"
            ]
        },
        {
            "cell_type": "markdown",
            "metadata": {},
            "source": []
        },
        {
            "cell_type": "code",
            "execution_count": null,
            "metadata": {},
            "outputs": [],
            "source": [
                "class BaseUnorderedSequenceSerializer(BaseSequenceSerializer):\n",
                "    def __init__(self, value):\n",
                "        super().__init__(sorted(value, key=repr))\n"
            ]
        },
        {
            "cell_type": "markdown",
            "metadata": {},
            "source": []
        },
        {
            "cell_type": "code",
            "execution_count": null,
            "metadata": {},
            "outputs": [],
            "source": [
                "class BaseSimpleSerializer(BaseSerializer):\n",
                "    def serialize(self):\n",
                "        return repr(self.value), set()\n"
            ]
        },
        {
            "cell_type": "markdown",
            "metadata": {},
            "source": []
        },
        {
            "cell_type": "code",
            "execution_count": null,
            "metadata": {},
            "outputs": [],
            "source": [
                "class ChoicesSerializer(BaseSerializer):\n",
                "    def serialize(self):\n",
                "        return serializer_factory(self.value.value).serialize()\n"
            ]
        },
        {
            "cell_type": "markdown",
            "metadata": {},
            "source": []
        },
        {
            "cell_type": "code",
            "execution_count": null,
            "metadata": {},
            "outputs": [],
            "source": [
                "class DateTimeSerializer(BaseSerializer):\n",
                "    \"\"\"For datetime.*, except datetime.datetime.\"\"\"\n",
                "\n",
                "    def serialize(self):\n",
                "        return repr(self.value), {\"import datetime\"}\n"
            ]
        },
        {
            "cell_type": "markdown",
            "metadata": {},
            "source": []
        },
        {
            "cell_type": "code",
            "execution_count": null,
            "metadata": {},
            "outputs": [],
            "source": [
                "class DatetimeDatetimeSerializer(BaseSerializer):\n",
                "    \"\"\"For datetime.datetime.\"\"\"\n",
                "\n",
                "    def serialize(self):\n",
                "        if self.value.tzinfo is not None and self.value.tzinfo != datetime.timezone.utc:\n",
                "            self.value = self.value.astimezone(datetime.timezone.utc)\n",
                "        imports = [\"import datetime\"]\n",
                "        return repr(self.value), set(imports)\n"
            ]
        },
        {
            "cell_type": "markdown",
            "metadata": {},
            "source": []
        },
        {
            "cell_type": "code",
            "execution_count": null,
            "metadata": {},
            "outputs": [],
            "source": [
                "class DecimalSerializer(BaseSerializer):\n",
                "    def serialize(self):\n",
                "        return repr(self.value), {\"from decimal import Decimal\"}\n"
            ]
        },
        {
            "cell_type": "markdown",
            "metadata": {},
            "source": []
        },
        {
            "cell_type": "code",
            "execution_count": null,
            "metadata": {},
            "outputs": [],
            "source": [
                "class DeconstructableSerializer(BaseSerializer):\n",
                "    @staticmethod\n",
                "    def serialize_deconstructed(path, args, kwargs):\n",
                "        name, imports = DeconstructableSerializer._serialize_path(path)\n",
                "        strings = []\n",
                "        for arg in args:\n",
                "            arg_string, arg_imports = serializer_factory(arg).serialize()\n",
                "            strings.append(arg_string)\n",
                "            imports.update(arg_imports)\n",
                "        for kw, arg in sorted(kwargs.items()):\n",
                "            arg_string, arg_imports = serializer_factory(arg).serialize()\n",
                "            imports.update(arg_imports)\n",
                "            strings.append(\"%s=%s\" % (kw, arg_string))\n",
                "        return \"%s(%s)\" % (name, \", \".join(strings)), imports\n",
                "\n",
                "    @staticmethod\n",
                "    def _serialize_path(path):\n",
                "        module, name = path.rsplit(\".\", 1)\n",
                "        if module == \"django.db.models\":\n",
                "            imports = {\"from django.db import models\"}\n",
                "            name = \"models.%s\" % name\n",
                "        else:\n",
                "            imports = {\"import %s\" % module}\n",
                "            name = path\n",
                "        return name, imports\n",
                "\n",
                "    def serialize(self):\n",
                "        return self.serialize_deconstructed(*self.value.deconstruct())\n"
            ]
        },
        {
            "cell_type": "markdown",
            "metadata": {},
            "source": []
        },
        {
            "cell_type": "code",
            "execution_count": null,
            "metadata": {},
            "outputs": [],
            "source": [
                "class DictionarySerializer(BaseSerializer):\n",
                "    def serialize(self):\n",
                "        imports = set()\n",
                "        strings = []\n",
                "        for k, v in sorted(self.value.items()):\n",
                "            k_string, k_imports = serializer_factory(k).serialize()\n",
                "            v_string, v_imports = serializer_factory(v).serialize()\n",
                "            imports.update(k_imports)\n",
                "            imports.update(v_imports)\n",
                "            strings.append((k_string, v_string))\n",
                "        return \"{%s}\" % (\", \".join(\"%s: %s\" % (k, v) for k, v in strings)), imports\n"
            ]
        },
        {
            "cell_type": "markdown",
            "metadata": {},
            "source": []
        },
        {
            "cell_type": "code",
            "execution_count": null,
            "metadata": {},
            "outputs": [],
            "source": [
                "class EnumSerializer(BaseSerializer):\n",
                "    def serialize(self):\n",
                "        enum_class = self.value.__class__\n",
                "        module = enum_class.__module__\n",
                "        if issubclass(enum_class, enum.Flag):\n",
                "            if PY311:\n",
                "                members = list(self.value)\n",
                "            else:\n",
                "                members, _ = enum._decompose(enum_class, self.value)\n",
                "                members = reversed(members)\n",
                "        else:\n",
                "            members = (self.value,)\n",
                "        return (\n",
                "            \" | \".join(\n",
                "                [\n",
                "                    f\"{module}.{enum_class.__qualname__}[{item.name!r}]\"\n",
                "                    for item in members\n",
                "                ]\n",
                "            ),\n",
                "            {\"import %s\" % module},\n",
                "        )\n"
            ]
        },
        {
            "cell_type": "markdown",
            "metadata": {},
            "source": []
        },
        {
            "cell_type": "code",
            "execution_count": null,
            "metadata": {},
            "outputs": [],
            "source": [
                "class FloatSerializer(BaseSimpleSerializer):\n",
                "    def serialize(self):\n",
                "        if math.isnan(self.value) or math.isinf(self.value):\n",
                "            return 'float(\"{}\")'.format(self.value), set()\n",
                "        return super().serialize()\n"
            ]
        },
        {
            "cell_type": "markdown",
            "metadata": {},
            "source": []
        },
        {
            "cell_type": "code",
            "execution_count": null,
            "metadata": {},
            "outputs": [],
            "source": [
                "class FrozensetSerializer(BaseUnorderedSequenceSerializer):\n",
                "    def _format(self):\n",
                "        return \"frozenset([%s])\"\n"
            ]
        },
        {
            "cell_type": "markdown",
            "metadata": {},
            "source": []
        },
        {
            "cell_type": "code",
            "execution_count": null,
            "metadata": {},
            "outputs": [],
            "source": [
                "class FunctionTypeSerializer(BaseSerializer):\n",
                "    def serialize(self):\n",
                "        if getattr(self.value, \"__self__\", None) and isinstance(\n",
                "            self.value.__self__, type\n",
                "        ):\n",
                "            klass = self.value.__self__\n",
                "            module = klass.__module__\n",
                "            return \"%s.%s.%s\" % (module, klass.__qualname__, self.value.__name__), {\n",
                "                \"import %s\" % module\n",
                "            }\n",
                "        # Further error checking\n",
                "        if self.value.__name__ == \"<lambda>\":\n",
                "            raise ValueError(\"Cannot serialize function: lambda\")\n",
                "        if self.value.__module__ is None:\n",
                "            raise ValueError(\"Cannot serialize function %r: No module\" % self.value)\n",
                "\n",
                "        module_name = self.value.__module__\n",
                "\n",
                "        if \"<\" not in self.value.__qualname__:  # Qualname can include <locals>\n",
                "            return \"%s.%s\" % (module_name, self.value.__qualname__), {\n",
                "                \"import %s\" % self.value.__module__\n",
                "            }\n",
                "\n",
                "        raise ValueError(\n",
                "            \"Could not find function %s in %s.\\n\" % (self.value.__name__, module_name)\n",
                "        )\n"
            ]
        },
        {
            "cell_type": "markdown",
            "metadata": {},
            "source": []
        },
        {
            "cell_type": "code",
            "execution_count": null,
            "metadata": {},
            "outputs": [],
            "source": [
                "class FunctoolsPartialSerializer(BaseSerializer):\n",
                "    def serialize(self):\n",
                "        # Serialize functools.partial() arguments\n",
                "        func_string, func_imports = serializer_factory(self.value.func).serialize()\n",
                "        args_string, args_imports = serializer_factory(self.value.args).serialize()\n",
                "        keywords_string, keywords_imports = serializer_factory(\n",
                "            self.value.keywords\n",
                "        ).serialize()\n",
                "        # Add any imports needed by arguments\n",
                "        imports = {\"import functools\", *func_imports, *args_imports, *keywords_imports}\n",
                "        return (\n",
                "            \"functools.%s(%s, *%s, **%s)\"\n",
                "            % (\n",
                "                self.value.__class__.__name__,\n",
                "                func_string,\n",
                "                args_string,\n",
                "                keywords_string,\n",
                "            ),\n",
                "            imports,\n",
                "        )\n"
            ]
        },
        {
            "cell_type": "markdown",
            "metadata": {},
            "source": []
        },
        {
            "cell_type": "code",
            "execution_count": null,
            "metadata": {},
            "outputs": [],
            "source": [
                "class IterableSerializer(BaseSerializer):\n",
                "    def serialize(self):\n",
                "        imports = set()\n",
                "        strings = []\n",
                "        for item in self.value:\n",
                "            item_string, item_imports = serializer_factory(item).serialize()\n",
                "            imports.update(item_imports)\n",
                "            strings.append(item_string)\n",
                "        # When len(strings)==0, the empty iterable should be serialized as\n",
                "        # \"()\", not \"(,)\" because (,) is invalid Python syntax.\n",
                "        value = \"(%s)\" if len(strings) != 1 else \"(%s,)\"\n",
                "        return value % (\", \".join(strings)), imports\n"
            ]
        },
        {
            "cell_type": "markdown",
            "metadata": {},
            "source": []
        },
        {
            "cell_type": "code",
            "execution_count": null,
            "metadata": {},
            "outputs": [],
            "source": [
                "class ModelFieldSerializer(DeconstructableSerializer):\n",
                "    def serialize(self):\n",
                "        attr_name, path, args, kwargs = self.value.deconstruct()\n",
                "        return self.serialize_deconstructed(path, args, kwargs)\n"
            ]
        },
        {
            "cell_type": "markdown",
            "metadata": {},
            "source": []
        },
        {
            "cell_type": "code",
            "execution_count": null,
            "metadata": {},
            "outputs": [],
            "source": [
                "class ModelManagerSerializer(DeconstructableSerializer):\n",
                "    def serialize(self):\n",
                "        as_manager, manager_path, qs_path, args, kwargs = self.value.deconstruct()\n",
                "        if as_manager:\n",
                "            name, imports = self._serialize_path(qs_path)\n",
                "            return \"%s.as_manager()\" % name, imports\n",
                "        else:\n",
                "            return self.serialize_deconstructed(manager_path, args, kwargs)\n"
            ]
        },
        {
            "cell_type": "markdown",
            "metadata": {},
            "source": []
        },
        {
            "cell_type": "code",
            "execution_count": null,
            "metadata": {},
            "outputs": [],
            "source": [
                "class OperationSerializer(BaseSerializer):\n",
                "    def serialize(self):\n",
                "        from django.db.migrations.writer import OperationWriter\n",
                "\n",
                "        string, imports = OperationWriter(self.value, indentation=0).serialize()\n",
                "        # Nested operation, trailing comma is handled in upper OperationWriter._write()\n",
                "        return string.rstrip(\",\"), imports\n"
            ]
        },
        {
            "cell_type": "markdown",
            "metadata": {},
            "source": []
        },
        {
            "cell_type": "code",
            "execution_count": null,
            "metadata": {},
            "outputs": [],
            "source": [
                "class PathLikeSerializer(BaseSerializer):\n",
                "    def serialize(self):\n",
                "        return repr(os.fspath(self.value)), {}\n"
            ]
        },
        {
            "cell_type": "markdown",
            "metadata": {},
            "source": []
        },
        {
            "cell_type": "code",
            "execution_count": null,
            "metadata": {},
            "outputs": [],
            "source": [
                "class PathSerializer(BaseSerializer):\n",
                "    def serialize(self):\n",
                "        # Convert concrete paths to pure paths to avoid issues with migrations\n",
                "        # generated on one platform being used on a different platform.\n",
                "        prefix = \"Pure\" if isinstance(self.value, pathlib.Path) else \"\"\n",
                "        return \"pathlib.%s%r\" % (prefix, self.value), {\"import pathlib\"}\n"
            ]
        },
        {
            "cell_type": "markdown",
            "metadata": {},
            "source": []
        },
        {
            "cell_type": "code",
            "execution_count": null,
            "metadata": {},
            "outputs": [],
            "source": [
                "class RegexSerializer(BaseSerializer):\n",
                "    def serialize(self):\n",
                "        regex_pattern, pattern_imports = serializer_factory(\n",
                "            self.value.pattern\n",
                "        ).serialize()\n",
                "        # Turn off default implicit flags (e.g. re.U) because regexes with the\n",
                "        # same implicit and explicit flags aren't equal.\n",
                "        flags = self.value.flags ^ re.compile(\"\").flags\n",
                "        regex_flags, flag_imports = serializer_factory(flags).serialize()\n",
                "        imports = {\"import re\", *pattern_imports, *flag_imports}\n",
                "        args = [regex_pattern]\n",
                "        if flags:\n",
                "            args.append(regex_flags)\n",
                "        return \"re.compile(%s)\" % \", \".join(args), imports\n"
            ]
        },
        {
            "cell_type": "markdown",
            "metadata": {},
            "source": []
        },
        {
            "cell_type": "code",
            "execution_count": null,
            "metadata": {},
            "outputs": [],
            "source": [
                "class SequenceSerializer(BaseSequenceSerializer):\n",
                "    def _format(self):\n",
                "        return \"[%s]\"\n"
            ]
        },
        {
            "cell_type": "markdown",
            "metadata": {},
            "source": []
        },
        {
            "cell_type": "code",
            "execution_count": null,
            "metadata": {},
            "outputs": [],
            "source": [
                "class SetSerializer(BaseUnorderedSequenceSerializer):\n",
                "    def _format(self):\n",
                "        # Serialize as a set literal except when value is empty because {}\n",
                "        # is an empty dict.\n",
                "        return \"{%s}\" if self.value else \"set(%s)\"\n"
            ]
        },
        {
            "cell_type": "markdown",
            "metadata": {},
            "source": []
        },
        {
            "cell_type": "code",
            "execution_count": null,
            "metadata": {},
            "outputs": [],
            "source": [
                "class SettingsReferenceSerializer(BaseSerializer):\n",
                "    def serialize(self):\n",
                "        return \"settings.%s\" % self.value.setting_name, {\n",
                "            \"from django.conf import settings\"\n",
                "        }\n"
            ]
        },
        {
            "cell_type": "markdown",
            "metadata": {},
            "source": []
        },
        {
            "cell_type": "code",
            "execution_count": null,
            "metadata": {},
            "outputs": [],
            "source": [
                "class TupleSerializer(BaseSequenceSerializer):\n",
                "    def _format(self):\n",
                "        # When len(value)==0, the empty tuple should be serialized as \"()\",\n",
                "        # not \"(,)\" because (,) is invalid Python syntax.\n",
                "        return \"(%s)\" if len(self.value) != 1 else \"(%s,)\"\n"
            ]
        },
        {
            "cell_type": "markdown",
            "metadata": {},
            "source": []
        },
        {
            "cell_type": "code",
            "execution_count": null,
            "metadata": {},
            "outputs": [],
            "source": [
                "class TypeSerializer(BaseSerializer):\n",
                "    def serialize(self):\n",
                "        special_cases = [\n",
                "            (models.Model, \"models.Model\", [\"from django.db import models\"]),\n",
                "            (types.NoneType, \"types.NoneType\", [\"import types\"]),\n",
                "        ]\n",
                "        for case, string, imports in special_cases:\n",
                "            if case is self.value:\n",
                "                return string, set(imports)\n",
                "        if hasattr(self.value, \"__module__\"):\n",
                "            module = self.value.__module__\n",
                "            if module == builtins.__name__:\n",
                "                return self.value.__name__, set()\n",
                "            else:\n",
                "                return \"%s.%s\" % (module, self.value.__qualname__), {\n",
                "                    \"import %s\" % module\n",
                "                }\n"
            ]
        },
        {
            "cell_type": "markdown",
            "metadata": {},
            "source": []
        },
        {
            "cell_type": "code",
            "execution_count": null,
            "metadata": {},
            "outputs": [],
            "source": [
                "class UUIDSerializer(BaseSerializer):\n",
                "    def serialize(self):\n",
                "        return \"uuid.%s\" % repr(self.value), {\"import uuid\"}\n"
            ]
        },
        {
            "cell_type": "markdown",
            "metadata": {},
            "source": []
        },
        {
            "cell_type": "code",
            "execution_count": null,
            "metadata": {},
            "outputs": [],
            "source": [
                "class Serializer:\n",
                "    _registry = {\n",
                "        # Some of these are order-dependent.\n",
                "        frozenset: FrozensetSerializer,\n",
                "        list: SequenceSerializer,\n",
                "        set: SetSerializer,\n",
                "        tuple: TupleSerializer,\n",
                "        dict: DictionarySerializer,\n",
                "        models.Choices: ChoicesSerializer,\n",
                "        enum.Enum: EnumSerializer,\n",
                "        datetime.datetime: DatetimeDatetimeSerializer,\n",
                "        (datetime.date, datetime.timedelta, datetime.time): DateTimeSerializer,\n",
                "        SettingsReference: SettingsReferenceSerializer,\n",
                "        float: FloatSerializer,\n",
                "        (bool, int, types.NoneType, bytes, str, range): BaseSimpleSerializer,\n",
                "        decimal.Decimal: DecimalSerializer,\n",
                "        (functools.partial, functools.partialmethod): FunctoolsPartialSerializer,\n",
                "        (\n",
                "            types.FunctionType,\n",
                "            types.BuiltinFunctionType,\n",
                "            types.MethodType,\n",
                "            functools._lru_cache_wrapper,\n",
                "        ): FunctionTypeSerializer,\n",
                "        collections.abc.Iterable: IterableSerializer,\n",
                "        (COMPILED_REGEX_TYPE, RegexObject): RegexSerializer,\n",
                "        uuid.UUID: UUIDSerializer,\n",
                "        pathlib.PurePath: PathSerializer,\n",
                "        os.PathLike: PathLikeSerializer,\n",
                "    }\n",
                "\n",
                "    @classmethod\n",
                "    def register(cls, type_, serializer):\n",
                "        if not issubclass(serializer, BaseSerializer):\n",
                "            raise ValueError(\n",
                "                \"'%s' must inherit from 'BaseSerializer'.\" % serializer.__name__\n",
                "            )\n",
                "        cls._registry[type_] = serializer\n",
                "\n",
                "    @classmethod\n",
                "    def unregister(cls, type_):\n",
                "        cls._registry.pop(type_)\n"
            ]
        },
        {
            "cell_type": "markdown",
            "metadata": {},
            "source": []
        },
        {
            "cell_type": "code",
            "execution_count": null,
            "metadata": {},
            "outputs": [],
            "source": [
                "def serializer_factory(value):\n",
                "    if isinstance(value, Promise):\n",
                "        value = str(value)\n",
                "    elif isinstance(value, LazyObject):\n",
                "        # The unwrapped value is returned as the first item of the arguments\n",
                "        # tuple.\n",
                "        value = value.__reduce__()[1][0]\n",
                "\n",
                "    if isinstance(value, models.Field):\n",
                "        return ModelFieldSerializer(value)\n",
                "    if isinstance(value, models.manager.BaseManager):\n",
                "        return ModelManagerSerializer(value)\n",
                "    if isinstance(value, Operation):\n",
                "        return OperationSerializer(value)\n",
                "    if isinstance(value, type):\n",
                "        return TypeSerializer(value)\n",
                "    # Anything that knows how to deconstruct itself.\n",
                "    if hasattr(value, \"deconstruct\"):\n",
                "        return DeconstructableSerializer(value)\n",
                "    for type_, serializer_cls in Serializer._registry.items():\n",
                "        if isinstance(value, type_):\n",
                "            return serializer_cls(value)\n",
                "    raise ValueError(\n",
                "        \"Cannot serialize: %r\\nThere are some values Django cannot serialize into \"\n",
                "        \"migration files.\\nFor more, see https://docs.djangoproject.com/en/%s/\"\n",
                "        \"topics/migrations/#migration-serializing\" % (value, get_docs_version())\n",
                "    )\n",
                "\n"
            ]
        },
        {
            "cell_type": "markdown",
            "metadata": {},
            "source": []
        }
    ],
    "metadata": {
        "language_info": {
            "name": "python"
        }
    },
    "nbformat": 4,
    "nbformat_minor": 2
}