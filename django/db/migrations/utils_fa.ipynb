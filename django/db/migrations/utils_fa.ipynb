{
 "cells": [
  {
   "cell_type": "code",
   "execution_count": null,
   "metadata": {},
   "outputs": [],
   "source": [
    "import datetime\n",
    "import re\n",
    "from collections import namedtuple\n",
    "\n",
    "from django.db.models.fields.related import RECURSIVE_RELATIONSHIP_CONSTANT\n",
    "\n",
    "FieldReference = namedtuple(\"FieldReference\", \"to through\")\n",
    "\n",
    "COMPILED_REGEX_TYPE = type(re.compile(\"\"))"
   ]
  },
  {
   "cell_type": "markdown",
   "metadata": {},
   "source": []
  },
  {
   "cell_type": "code",
   "execution_count": null,
   "metadata": {},
   "outputs": [],
   "source": [
    "class RegexObject:\n",
    "    def __init__(self, obj):\n",
    "        self.pattern = obj.pattern\n",
    "        self.flags = obj.flags\n",
    "\n",
    "    def __eq__(self, other):\n",
    "        if not isinstance(other, RegexObject):\n",
    "            return NotImplemented\n",
    "        return self.pattern == other.pattern and self.flags == other.flags"
   ]
  },
  {
   "cell_type": "markdown",
   "metadata": {},
   "source": []
  },
  {
   "cell_type": "code",
   "execution_count": null,
   "metadata": {},
   "outputs": [],
   "source": [
    "def get_migration_name_timestamp():\n",
    "    return datetime.datetime.now().strftime(\"%Y%m%d_%H%M\")"
   ]
  },
  {
   "cell_type": "markdown",
   "metadata": {},
   "source": []
  },
  {
   "cell_type": "code",
   "execution_count": null,
   "metadata": {},
   "outputs": [],
   "source": [
    "def resolve_relation(model, app_label=None, model_name=None):\n",
    "    \"\"\"\n",
    "    Turn a model class or model reference string and return a model tuple.\n",
    "\n",
    "    app_label and model_name are used to resolve the scope of recursive and\n",
    "    unscoped model relationship.\n",
    "    \"\"\"\n",
    "    if isinstance(model, str):\n",
    "        if model == RECURSIVE_RELATIONSHIP_CONSTANT:\n",
    "            if app_label is None or model_name is None:\n",
    "                raise TypeError(\n",
    "                    \"app_label and model_name must be provided to resolve \"\n",
    "                    \"recursive relationships.\"\n",
    "                )\n",
    "            return app_label, model_name\n",
    "        if \".\" in model:\n",
    "            app_label, model_name = model.split(\".\", 1)\n",
    "            return app_label, model_name.lower()\n",
    "        if app_label is None:\n",
    "            raise TypeError(\n",
    "                \"app_label must be provided to resolve unscoped model relationships.\"\n",
    "            )\n",
    "        return app_label, model.lower()\n",
    "    return model._meta.app_label, model._meta.model_name"
   ]
  },
  {
   "cell_type": "markdown",
   "metadata": {},
   "source": []
  },
  {
   "cell_type": "code",
   "execution_count": null,
   "metadata": {},
   "outputs": [],
   "source": [
    "def field_references(\n",
    "    model_tuple,\n",
    "    field,\n",
    "    reference_model_tuple,\n",
    "    reference_field_name=None,\n",
    "    reference_field=None,\n",
    "):\n",
    "    \"\"\"\n",
    "    Return either False or a FieldReference if `field` references provided\n",
    "    context.\n",
    "\n",
    "    False positives can be returned if `reference_field_name` is provided\n",
    "    without `reference_field` because of the introspection limitation it\n",
    "    incurs. This should not be an issue when this function is used to determine\n",
    "    whether or not an optimization can take place.\n",
    "    \"\"\"\n",
    "    remote_field = field.remote_field\n",
    "    if not remote_field:\n",
    "        return False\n",
    "    references_to = None\n",
    "    references_through = None\n",
    "    if resolve_relation(remote_field.model, *model_tuple) == reference_model_tuple:\n",
    "        to_fields = getattr(field, \"to_fields\", None)\n",
    "        if (\n",
    "            reference_field_name is None\n",
    "            or\n",
    "            # Unspecified to_field(s).\n",
    "            to_fields is None\n",
    "            or\n",
    "            # Reference to primary key.\n",
    "            (\n",
    "                None in to_fields\n",
    "                and (reference_field is None or reference_field.primary_key)\n",
    "            )\n",
    "            or\n",
    "            # Reference to field.\n",
    "            reference_field_name in to_fields\n",
    "        ):\n",
    "            references_to = (remote_field, to_fields)\n",
    "    through = getattr(remote_field, \"through\", None)\n",
    "    if through and resolve_relation(through, *model_tuple) == reference_model_tuple:\n",
    "        through_fields = remote_field.through_fields\n",
    "        if (\n",
    "            reference_field_name is None\n",
    "            or\n",
    "            # Unspecified through_fields.\n",
    "            through_fields is None\n",
    "            or\n",
    "            # Reference to field.\n",
    "            reference_field_name in through_fields\n",
    "        ):\n",
    "            references_through = (remote_field, through_fields)\n",
    "    if not (references_to or references_through):\n",
    "        return False\n",
    "    return FieldReference(references_to, references_through)"
   ]
  },
  {
   "cell_type": "markdown",
   "metadata": {},
   "source": []
  },
  {
   "cell_type": "code",
   "execution_count": null,
   "metadata": {},
   "outputs": [],
   "source": [
    "def get_references(state, model_tuple, field_tuple=()):\n",
    "    \"\"\"\n",
    "    Generator of (model_state, name, field, reference) referencing\n",
    "    provided context.\n",
    "\n",
    "    If field_tuple is provided only references to this particular field of\n",
    "    model_tuple will be generated.\n",
    "    \"\"\"\n",
    "    for state_model_tuple, model_state in state.models.items():\n",
    "        for name, field in model_state.fields.items():\n",
    "            reference = field_references(\n",
    "                state_model_tuple, field, model_tuple, *field_tuple\n",
    "            )\n",
    "            if reference:\n",
    "                yield model_state, name, field, reference"
   ]
  },
  {
   "cell_type": "markdown",
   "metadata": {},
   "source": []
  },
  {
   "cell_type": "code",
   "execution_count": null,
   "metadata": {},
   "outputs": [],
   "source": [
    "def field_is_referenced(state, model_tuple, field_tuple):\n",
    "    \"\"\"Return whether `field_tuple` is referenced by any state models.\"\"\"\n",
    "    return next(get_references(state, model_tuple, field_tuple), None) is not None"
   ]
  },
  {
   "cell_type": "markdown",
   "metadata": {},
   "source": []
  }
 ],
 "metadata": {
  "language_info": {
   "name": "python"
  }
 },
 "nbformat": 4,
 "nbformat_minor": 2
}