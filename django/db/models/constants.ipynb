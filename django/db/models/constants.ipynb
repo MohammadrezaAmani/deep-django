{
    "cells": [
        {
            "cell_type": "code",
            "execution_count": null,
            "metadata": {},
            "outputs": [],
            "source": [
                "\"\"\"\n",
                "Constants used across the ORM in general.\n",
                "\"\"\"\n",
                "\n",
                "from enum import Enum\n",
                "\n",
                "# Separator used to split filter strings apart.\n",
                "LOOKUP_SEP = \"__\"\n"
            ]
        },
        {
            "cell_type": "markdown",
            "metadata": {},
            "source": []
        },
        {
            "cell_type": "code",
            "execution_count": null,
            "metadata": {},
            "outputs": [],
            "source": [
                "class OnConflict(Enum):\n",
                "    IGNORE = \"ignore\"\n",
                "    UPDATE = \"update\"\n",
                "\n"
            ]
        },
        {
            "cell_type": "markdown",
            "metadata": {},
            "source": []
        }
    ],
    "metadata": {
        "language_info": {
            "name": "python"
        }
    },
    "nbformat": 4,
    "nbformat_minor": 2
}