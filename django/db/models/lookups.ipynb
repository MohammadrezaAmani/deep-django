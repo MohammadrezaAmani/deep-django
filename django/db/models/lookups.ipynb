{
 "cells": [
  {
   "cell_type": "code",
   "execution_count": null,
   "metadata": {},
   "outputs": [],
   "source": [
    "import itertools\n",
    "import math\n",
    "import warnings\n",
    "\n",
    "from django.core.exceptions import EmptyResultSet, FullResultSet\n",
    "from django.db.backends.base.operations import BaseDatabaseOperations\n",
    "from django.db.models.expressions import Case, Expression, Func, Value, When\n",
    "from django.db.models.fields import (\n",
    "    BooleanField,\n",
    "    CharField,\n",
    "    DateTimeField,\n",
    "    Field,\n",
    "    IntegerField,\n",
    "    UUIDField,\n",
    ")\n",
    "from django.db.models.query_utils import RegisterLookupMixin\n",
    "from django.utils.datastructures import OrderedSet\n",
    "from django.utils.deprecation import RemovedInDjango60Warning\n",
    "from django.utils.functional import cached_property\n",
    "from django.utils.hashable import make_hashable"
   ]
  },
  {
   "cell_type": "markdown",
   "metadata": {},
   "source": []
  },
  {
   "cell_type": "code",
   "execution_count": null,
   "metadata": {},
   "outputs": [],
   "source": [
    "class Lookup(Expression):\n",
    "    lookup_name = None\n",
    "    prepare_rhs = True\n",
    "    can_use_none_as_rhs = False\n",
    "\n",
    "    def __init__(self, lhs, rhs):\n",
    "        self.lhs, self.rhs = lhs, rhs\n",
    "        self.rhs = self.get_prep_lookup()\n",
    "        self.lhs = self.get_prep_lhs()\n",
    "        if hasattr(self.lhs, \"get_bilateral_transforms\"):\n",
    "            bilateral_transforms = self.lhs.get_bilateral_transforms()\n",
    "        else:\n",
    "            bilateral_transforms = []\n",
    "        if bilateral_transforms:\n",
    "            # Warn the user as soon as possible if they are trying to apply\n",
    "            # a bilateral transformation on a nested QuerySet: that won't work.\n",
    "            from django.db.models.sql.query import Query  # avoid circular import\n",
    "\n",
    "            if isinstance(rhs, Query):\n",
    "                raise NotImplementedError(\n",
    "                    \"Bilateral transformations on nested querysets are not implemented.\"\n",
    "                )\n",
    "        self.bilateral_transforms = bilateral_transforms\n",
    "\n",
    "    def apply_bilateral_transforms(self, value):\n",
    "        for transform in self.bilateral_transforms:\n",
    "            value = transform(value)\n",
    "        return value\n",
    "\n",
    "    def __repr__(self):\n",
    "        return f\"{self.__class__.__name__}({self.lhs!r}, {self.rhs!r})\"\n",
    "\n",
    "    def batch_process_rhs(self, compiler, connection, rhs=None):\n",
    "        if rhs is None:\n",
    "            rhs = self.rhs\n",
    "        if self.bilateral_transforms:\n",
    "            sqls, sqls_params = [], []\n",
    "            for p in rhs:\n",
    "                value = Value(p, output_field=self.lhs.output_field)\n",
    "                value = self.apply_bilateral_transforms(value)\n",
    "                value = value.resolve_expression(compiler.query)\n",
    "                sql, sql_params = compiler.compile(value)\n",
    "                sqls.append(sql)\n",
    "                sqls_params.extend(sql_params)\n",
    "        else:\n",
    "            _, params = self.get_db_prep_lookup(rhs, connection)\n",
    "            sqls, sqls_params = [\"%s\"] * len(params), params\n",
    "        return sqls, sqls_params\n",
    "\n",
    "    def get_source_expressions(self):\n",
    "        if self.rhs_is_direct_value():\n",
    "            return [self.lhs]\n",
    "        return [self.lhs, self.rhs]\n",
    "\n",
    "    def set_source_expressions(self, new_exprs):\n",
    "        if len(new_exprs) == 1:\n",
    "            self.lhs = new_exprs[0]\n",
    "        else:\n",
    "            self.lhs, self.rhs = new_exprs\n",
    "\n",
    "    def get_prep_lookup(self):\n",
    "        if not self.prepare_rhs or hasattr(self.rhs, \"resolve_expression\"):\n",
    "            return self.rhs\n",
    "        if hasattr(self.lhs, \"output_field\"):\n",
    "            if hasattr(self.lhs.output_field, \"get_prep_value\"):\n",
    "                return self.lhs.output_field.get_prep_value(self.rhs)\n",
    "        elif self.rhs_is_direct_value():\n",
    "            return Value(self.rhs)\n",
    "        return self.rhs\n",
    "\n",
    "    def get_prep_lhs(self):\n",
    "        if hasattr(self.lhs, \"resolve_expression\"):\n",
    "            return self.lhs\n",
    "        return Value(self.lhs)\n",
    "\n",
    "    def get_db_prep_lookup(self, value, connection):\n",
    "        return (\"%s\", [value])\n",
    "\n",
    "    def process_lhs(self, compiler, connection, lhs=None):\n",
    "        lhs = lhs or self.lhs\n",
    "        if hasattr(lhs, \"resolve_expression\"):\n",
    "            lhs = lhs.resolve_expression(compiler.query)\n",
    "        sql, params = compiler.compile(lhs)\n",
    "        if isinstance(lhs, Lookup):\n",
    "            # Wrapped in parentheses to respect operator precedence.\n",
    "            sql = f\"({sql})\"\n",
    "        return sql, params\n",
    "\n",
    "    def process_rhs(self, compiler, connection):\n",
    "        value = self.rhs\n",
    "        if self.bilateral_transforms:\n",
    "            if self.rhs_is_direct_value():\n",
    "                # Do not call get_db_prep_lookup here as the value will be\n",
    "                # transformed before being used for lookup\n",
    "                value = Value(value, output_field=self.lhs.output_field)\n",
    "            value = self.apply_bilateral_transforms(value)\n",
    "            value = value.resolve_expression(compiler.query)\n",
    "        if hasattr(value, \"as_sql\"):\n",
    "            sql, params = compiler.compile(value)\n",
    "            # Ensure expression is wrapped in parentheses to respect operator\n",
    "            # precedence but avoid double wrapping as it can be misinterpreted\n",
    "            # on some backends (e.g. subqueries on SQLite).\n",
    "            if sql and sql[0] != \"(\":\n",
    "                sql = \"(%s)\" % sql\n",
    "            return sql, params\n",
    "        else:\n",
    "            return self.get_db_prep_lookup(value, connection)\n",
    "\n",
    "    def rhs_is_direct_value(self):\n",
    "        return not hasattr(self.rhs, \"as_sql\")\n",
    "\n",
    "    def get_group_by_cols(self):\n",
    "        cols = []\n",
    "        for source in self.get_source_expressions():\n",
    "            cols.extend(source.get_group_by_cols())\n",
    "        return cols\n",
    "\n",
    "    def as_oracle(self, compiler, connection):\n",
    "        # Oracle doesn't allow EXISTS() and filters to be compared to another\n",
    "        # expression unless they're wrapped in a CASE WHEN.\n",
    "        wrapped = False\n",
    "        exprs = []\n",
    "        for expr in (self.lhs, self.rhs):\n",
    "            if connection.ops.conditional_expression_supported_in_where_clause(expr):\n",
    "                expr = Case(When(expr, then=True), default=False)\n",
    "                wrapped = True\n",
    "            exprs.append(expr)\n",
    "        lookup = type(self)(*exprs) if wrapped else self\n",
    "        return lookup.as_sql(compiler, connection)\n",
    "\n",
    "    @cached_property\n",
    "    def output_field(self):\n",
    "        return BooleanField()\n",
    "\n",
    "    @property\n",
    "    def identity(self):\n",
    "        return self.__class__, self.lhs, self.rhs\n",
    "\n",
    "    def __eq__(self, other):\n",
    "        if not isinstance(other, Lookup):\n",
    "            return NotImplemented\n",
    "        return self.identity == other.identity\n",
    "\n",
    "    def __hash__(self):\n",
    "        return hash(make_hashable(self.identity))\n",
    "\n",
    "    def resolve_expression(\n",
    "        self, query=None, allow_joins=True, reuse=None, summarize=False, for_save=False\n",
    "    ):\n",
    "        c = self.copy()\n",
    "        c.is_summary = summarize\n",
    "        c.lhs = self.lhs.resolve_expression(\n",
    "            query, allow_joins, reuse, summarize, for_save\n",
    "        )\n",
    "        if hasattr(self.rhs, \"resolve_expression\"):\n",
    "            c.rhs = self.rhs.resolve_expression(\n",
    "                query, allow_joins, reuse, summarize, for_save\n",
    "            )\n",
    "        return c\n",
    "\n",
    "    def select_format(self, compiler, sql, params):\n",
    "        # Wrap filters with a CASE WHEN expression if a database backend\n",
    "        # (e.g. Oracle) doesn't support boolean expression in SELECT or GROUP\n",
    "        # BY list.\n",
    "        if not compiler.connection.features.supports_boolean_expr_in_select_clause:\n",
    "            sql = f\"CASE WHEN {sql} THEN 1 ELSE 0 END\"\n",
    "        return sql, params\n",
    "\n",
    "    @cached_property\n",
    "    def allowed_default(self):\n",
    "        return self.lhs.allowed_default and self.rhs.allowed_default"
   ]
  },
  {
   "cell_type": "markdown",
   "metadata": {},
   "source": []
  },
  {
   "cell_type": "code",
   "execution_count": null,
   "metadata": {},
   "outputs": [],
   "source": [
    "class Transform(RegisterLookupMixin, Func):\n",
    "    \"\"\"\n",
    "    RegisterLookupMixin() is first so that get_lookup() and get_transform()\n",
    "    first examine self and then check output_field.\n",
    "    \"\"\"\n",
    "\n",
    "    bilateral = False\n",
    "    arity = 1\n",
    "\n",
    "    @property\n",
    "    def lhs(self):\n",
    "        return self.get_source_expressions()[0]\n",
    "\n",
    "    def get_bilateral_transforms(self):\n",
    "        if hasattr(self.lhs, \"get_bilateral_transforms\"):\n",
    "            bilateral_transforms = self.lhs.get_bilateral_transforms()\n",
    "        else:\n",
    "            bilateral_transforms = []\n",
    "        if self.bilateral:\n",
    "            bilateral_transforms.append(self.__class__)\n",
    "        return bilateral_transforms"
   ]
  },
  {
   "cell_type": "markdown",
   "metadata": {},
   "source": []
  },
  {
   "cell_type": "code",
   "execution_count": null,
   "metadata": {},
   "outputs": [],
   "source": [
    "class BuiltinLookup(Lookup):\n",
    "    def process_lhs(self, compiler, connection, lhs=None):\n",
    "        lhs_sql, params = super().process_lhs(compiler, connection, lhs)\n",
    "        field_internal_type = self.lhs.output_field.get_internal_type()\n",
    "        if (\n",
    "            hasattr(connection.ops.__class__, \"field_cast_sql\")\n",
    "            and connection.ops.__class__.field_cast_sql\n",
    "            is not BaseDatabaseOperations.field_cast_sql\n",
    "        ):\n",
    "            warnings.warn(\n",
    "                (\n",
    "                    \"The usage of DatabaseOperations.field_cast_sql() is deprecated. \"\n",
    "                    \"Implement DatabaseOperations.lookup_cast() instead.\"\n",
    "                ),\n",
    "                RemovedInDjango60Warning,\n",
    "            )\n",
    "            db_type = self.lhs.output_field.db_type(connection=connection)\n",
    "            lhs_sql = (\n",
    "                connection.ops.field_cast_sql(db_type, field_internal_type) % lhs_sql\n",
    "            )\n",
    "        lhs_sql = (\n",
    "            connection.ops.lookup_cast(self.lookup_name, field_internal_type) % lhs_sql\n",
    "        )\n",
    "        return lhs_sql, list(params)\n",
    "\n",
    "    def as_sql(self, compiler, connection):\n",
    "        lhs_sql, params = self.process_lhs(compiler, connection)\n",
    "        rhs_sql, rhs_params = self.process_rhs(compiler, connection)\n",
    "        params.extend(rhs_params)\n",
    "        rhs_sql = self.get_rhs_op(connection, rhs_sql)\n",
    "        return \"%s %s\" % (lhs_sql, rhs_sql), params\n",
    "\n",
    "    def get_rhs_op(self, connection, rhs):\n",
    "        return connection.operators[self.lookup_name] % rhs"
   ]
  },
  {
   "cell_type": "markdown",
   "metadata": {},
   "source": []
  },
  {
   "cell_type": "code",
   "execution_count": null,
   "metadata": {},
   "outputs": [],
   "source": [
    "class FieldGetDbPrepValueMixin:\n",
    "    \"\"\"\n",
    "    Some lookups require Field.get_db_prep_value() to be called on their\n",
    "    inputs.\n",
    "    \"\"\"\n",
    "\n",
    "    get_db_prep_lookup_value_is_iterable = False\n",
    "\n",
    "    def get_db_prep_lookup(self, value, connection):\n",
    "        # For relational fields, use the 'target_field' attribute of the\n",
    "        # output_field.\n",
    "        field = getattr(self.lhs.output_field, \"target_field\", None)\n",
    "        get_db_prep_value = (\n",
    "            getattr(field, \"get_db_prep_value\", None)\n",
    "            or self.lhs.output_field.get_db_prep_value\n",
    "        )\n",
    "        return (\n",
    "            \"%s\",\n",
    "            (\n",
    "                [get_db_prep_value(v, connection, prepared=True) for v in value]\n",
    "                if self.get_db_prep_lookup_value_is_iterable\n",
    "                else [get_db_prep_value(value, connection, prepared=True)]\n",
    "            ),\n",
    "        )"
   ]
  },
  {
   "cell_type": "markdown",
   "metadata": {},
   "source": []
  },
  {
   "cell_type": "code",
   "execution_count": null,
   "metadata": {},
   "outputs": [],
   "source": [
    "class FieldGetDbPrepValueIterableMixin(FieldGetDbPrepValueMixin):\n",
    "    \"\"\"\n",
    "    Some lookups require Field.get_db_prep_value() to be called on each value\n",
    "    in an iterable.\n",
    "    \"\"\"\n",
    "\n",
    "    get_db_prep_lookup_value_is_iterable = True\n",
    "\n",
    "    def get_prep_lookup(self):\n",
    "        if hasattr(self.rhs, \"resolve_expression\"):\n",
    "            return self.rhs\n",
    "        prepared_values = []\n",
    "        for rhs_value in self.rhs:\n",
    "            if hasattr(rhs_value, \"resolve_expression\"):\n",
    "                # An expression will be handled by the database but can coexist\n",
    "                # alongside real values.\n",
    "                pass\n",
    "            elif self.prepare_rhs and hasattr(self.lhs.output_field, \"get_prep_value\"):\n",
    "                rhs_value = self.lhs.output_field.get_prep_value(rhs_value)\n",
    "            prepared_values.append(rhs_value)\n",
    "        return prepared_values\n",
    "\n",
    "    def process_rhs(self, compiler, connection):\n",
    "        if self.rhs_is_direct_value():\n",
    "            # rhs should be an iterable of values. Use batch_process_rhs()\n",
    "            # to prepare/transform those values.\n",
    "            return self.batch_process_rhs(compiler, connection)\n",
    "        else:\n",
    "            return super().process_rhs(compiler, connection)\n",
    "\n",
    "    def resolve_expression_parameter(self, compiler, connection, sql, param):\n",
    "        params = [param]\n",
    "        if hasattr(param, \"resolve_expression\"):\n",
    "            param = param.resolve_expression(compiler.query)\n",
    "        if hasattr(param, \"as_sql\"):\n",
    "            sql, params = compiler.compile(param)\n",
    "        return sql, params\n",
    "\n",
    "    def batch_process_rhs(self, compiler, connection, rhs=None):\n",
    "        pre_processed = super().batch_process_rhs(compiler, connection, rhs)\n",
    "        # The params list may contain expressions which compile to a\n",
    "        # sql/param pair. Zip them to get sql and param pairs that refer to the\n",
    "        # same argument and attempt to replace them with the result of\n",
    "        # compiling the param step.\n",
    "        sql, params = zip(\n",
    "            *(\n",
    "                self.resolve_expression_parameter(compiler, connection, sql, param)\n",
    "                for sql, param in zip(*pre_processed)\n",
    "            )\n",
    "        )\n",
    "        params = itertools.chain.from_iterable(params)\n",
    "        return sql, tuple(params)"
   ]
  },
  {
   "cell_type": "markdown",
   "metadata": {},
   "source": []
  },
  {
   "cell_type": "code",
   "execution_count": null,
   "metadata": {},
   "outputs": [],
   "source": [
    "class PostgresOperatorLookup(Lookup):\n",
    "    \"\"\"Lookup defined by operators on PostgreSQL.\"\"\"\n",
    "\n",
    "    postgres_operator = None\n",
    "\n",
    "    def as_postgresql(self, compiler, connection):\n",
    "        lhs, lhs_params = self.process_lhs(compiler, connection)\n",
    "        rhs, rhs_params = self.process_rhs(compiler, connection)\n",
    "        params = tuple(lhs_params) + tuple(rhs_params)\n",
    "        return \"%s %s %s\" % (lhs, self.postgres_operator, rhs), params"
   ]
  },
  {
   "cell_type": "markdown",
   "metadata": {},
   "source": []
  },
  {
   "cell_type": "code",
   "execution_count": null,
   "metadata": {},
   "outputs": [],
   "source": [
    "@Field.register_lookup\n",
    "class Exact(FieldGetDbPrepValueMixin, BuiltinLookup):\n",
    "    lookup_name = \"exact\"\n",
    "\n",
    "    def get_prep_lookup(self):\n",
    "        from django.db.models.sql.query import Query  # avoid circular import\n",
    "\n",
    "        if isinstance(self.rhs, Query):\n",
    "            if self.rhs.has_limit_one():\n",
    "                if not self.rhs.has_select_fields:\n",
    "                    self.rhs.clear_select_clause()\n",
    "                    self.rhs.add_fields([\"pk\"])\n",
    "            else:\n",
    "                raise ValueError(\n",
    "                    \"The QuerySet value for an exact lookup must be limited to \"\n",
    "                    \"one result using slicing.\"\n",
    "                )\n",
    "        return super().get_prep_lookup()\n",
    "\n",
    "    def as_sql(self, compiler, connection):\n",
    "        # Avoid comparison against direct rhs if lhs is a boolean value. That\n",
    "        # turns \"boolfield__exact=True\" into \"WHERE boolean_field\" instead of\n",
    "        # \"WHERE boolean_field = True\" when allowed.\n",
    "        if (\n",
    "            isinstance(self.rhs, bool)\n",
    "            and getattr(self.lhs, \"conditional\", False)\n",
    "            and connection.ops.conditional_expression_supported_in_where_clause(\n",
    "                self.lhs\n",
    "            )\n",
    "        ):\n",
    "            lhs_sql, params = self.process_lhs(compiler, connection)\n",
    "            template = \"%s\" if self.rhs else \"NOT %s\"\n",
    "            return template % lhs_sql, params\n",
    "        return super().as_sql(compiler, connection)"
   ]
  },
  {
   "cell_type": "markdown",
   "metadata": {},
   "source": []
  },
  {
   "cell_type": "code",
   "execution_count": null,
   "metadata": {},
   "outputs": [],
   "source": [
    "@Field.register_lookup\n",
    "class IExact(BuiltinLookup):\n",
    "    lookup_name = \"iexact\"\n",
    "    prepare_rhs = False\n",
    "\n",
    "    def process_rhs(self, qn, connection):\n",
    "        rhs, params = super().process_rhs(qn, connection)\n",
    "        if params:\n",
    "            params[0] = connection.ops.prep_for_iexact_query(params[0])\n",
    "        return rhs, params"
   ]
  },
  {
   "cell_type": "markdown",
   "metadata": {},
   "source": []
  },
  {
   "cell_type": "code",
   "execution_count": null,
   "metadata": {},
   "outputs": [],
   "source": [
    "@Field.register_lookup\n",
    "class GreaterThan(FieldGetDbPrepValueMixin, BuiltinLookup):\n",
    "    lookup_name = \"gt\""
   ]
  },
  {
   "cell_type": "markdown",
   "metadata": {},
   "source": []
  },
  {
   "cell_type": "code",
   "execution_count": null,
   "metadata": {},
   "outputs": [],
   "source": [
    "@Field.register_lookup\n",
    "class GreaterThanOrEqual(FieldGetDbPrepValueMixin, BuiltinLookup):\n",
    "    lookup_name = \"gte\""
   ]
  },
  {
   "cell_type": "markdown",
   "metadata": {},
   "source": []
  },
  {
   "cell_type": "code",
   "execution_count": null,
   "metadata": {},
   "outputs": [],
   "source": [
    "@Field.register_lookup\n",
    "class LessThan(FieldGetDbPrepValueMixin, BuiltinLookup):\n",
    "    lookup_name = \"lt\""
   ]
  },
  {
   "cell_type": "markdown",
   "metadata": {},
   "source": []
  },
  {
   "cell_type": "code",
   "execution_count": null,
   "metadata": {},
   "outputs": [],
   "source": [
    "@Field.register_lookup\n",
    "class LessThanOrEqual(FieldGetDbPrepValueMixin, BuiltinLookup):\n",
    "    lookup_name = \"lte\""
   ]
  },
  {
   "cell_type": "markdown",
   "metadata": {},
   "source": []
  },
  {
   "cell_type": "code",
   "execution_count": null,
   "metadata": {},
   "outputs": [],
   "source": [
    "class IntegerFieldOverflow:\n",
    "    underflow_exception = EmptyResultSet\n",
    "    overflow_exception = EmptyResultSet\n",
    "\n",
    "    def process_rhs(self, compiler, connection):\n",
    "        rhs = self.rhs\n",
    "        if isinstance(rhs, int):\n",
    "            field_internal_type = self.lhs.output_field.get_internal_type()\n",
    "            min_value, max_value = connection.ops.integer_field_range(\n",
    "                field_internal_type\n",
    "            )\n",
    "            if min_value is not None and rhs < min_value:\n",
    "                raise self.underflow_exception\n",
    "            if max_value is not None and rhs > max_value:\n",
    "                raise self.overflow_exception\n",
    "        return super().process_rhs(compiler, connection)"
   ]
  },
  {
   "cell_type": "markdown",
   "metadata": {},
   "source": []
  },
  {
   "cell_type": "code",
   "execution_count": null,
   "metadata": {},
   "outputs": [],
   "source": [
    "class IntegerFieldFloatRounding:\n",
    "    \"\"\"\n",
    "    Allow floats to work as query values for IntegerField. Without this, the\n",
    "    decimal portion of the float would always be discarded.\n",
    "    \"\"\"\n",
    "\n",
    "    def get_prep_lookup(self):\n",
    "        if isinstance(self.rhs, float):\n",
    "            self.rhs = math.ceil(self.rhs)\n",
    "        return super().get_prep_lookup()"
   ]
  },
  {
   "cell_type": "markdown",
   "metadata": {},
   "source": []
  },
  {
   "cell_type": "code",
   "execution_count": null,
   "metadata": {},
   "outputs": [],
   "source": [
    "@IntegerField.register_lookup\n",
    "class IntegerFieldExact(IntegerFieldOverflow, Exact):\n",
    "    pass"
   ]
  },
  {
   "cell_type": "markdown",
   "metadata": {},
   "source": []
  },
  {
   "cell_type": "code",
   "execution_count": null,
   "metadata": {},
   "outputs": [],
   "source": [
    "@IntegerField.register_lookup\n",
    "class IntegerGreaterThan(IntegerFieldOverflow, GreaterThan):\n",
    "    underflow_exception = FullResultSet"
   ]
  },
  {
   "cell_type": "markdown",
   "metadata": {},
   "source": []
  },
  {
   "cell_type": "code",
   "execution_count": null,
   "metadata": {},
   "outputs": [],
   "source": [
    "@IntegerField.register_lookup\n",
    "class IntegerGreaterThanOrEqual(\n",
    "    IntegerFieldOverflow, IntegerFieldFloatRounding, GreaterThanOrEqual\n",
    "):\n",
    "    underflow_exception = FullResultSet"
   ]
  },
  {
   "cell_type": "markdown",
   "metadata": {},
   "source": []
  },
  {
   "cell_type": "code",
   "execution_count": null,
   "metadata": {},
   "outputs": [],
   "source": [
    "@IntegerField.register_lookup\n",
    "class IntegerLessThan(IntegerFieldOverflow, IntegerFieldFloatRounding, LessThan):\n",
    "    overflow_exception = FullResultSet"
   ]
  },
  {
   "cell_type": "markdown",
   "metadata": {},
   "source": []
  },
  {
   "cell_type": "code",
   "execution_count": null,
   "metadata": {},
   "outputs": [],
   "source": [
    "@IntegerField.register_lookup\n",
    "class IntegerLessThanOrEqual(IntegerFieldOverflow, LessThanOrEqual):\n",
    "    overflow_exception = FullResultSet"
   ]
  },
  {
   "cell_type": "markdown",
   "metadata": {},
   "source": []
  },
  {
   "cell_type": "code",
   "execution_count": null,
   "metadata": {},
   "outputs": [],
   "source": [
    "@Field.register_lookup\n",
    "class In(FieldGetDbPrepValueIterableMixin, BuiltinLookup):\n",
    "    lookup_name = \"in\"\n",
    "\n",
    "    def get_prep_lookup(self):\n",
    "        from django.db.models.sql.query import Query  # avoid circular import\n",
    "\n",
    "        if isinstance(self.rhs, Query):\n",
    "            self.rhs.clear_ordering(clear_default=True)\n",
    "            if not self.rhs.has_select_fields:\n",
    "                self.rhs.clear_select_clause()\n",
    "                self.rhs.add_fields([\"pk\"])\n",
    "        return super().get_prep_lookup()\n",
    "\n",
    "    def process_rhs(self, compiler, connection):\n",
    "        db_rhs = getattr(self.rhs, \"_db\", None)\n",
    "        if db_rhs is not None and db_rhs != connection.alias:\n",
    "            raise ValueError(\n",
    "                \"Subqueries aren't allowed across different databases. Force \"\n",
    "                \"the inner query to be evaluated using `list(inner_query)`.\"\n",
    "            )\n",
    "\n",
    "        if self.rhs_is_direct_value():\n",
    "            # Remove None from the list as NULL is never equal to anything.\n",
    "            try:\n",
    "                rhs = OrderedSet(self.rhs)\n",
    "                rhs.discard(None)\n",
    "            except TypeError:  # Unhashable items in self.rhs\n",
    "                rhs = [r for r in self.rhs if r is not None]\n",
    "\n",
    "            if not rhs:\n",
    "                raise EmptyResultSet\n",
    "\n",
    "            # rhs should be an iterable; use batch_process_rhs() to\n",
    "            # prepare/transform those values.\n",
    "            sqls, sqls_params = self.batch_process_rhs(compiler, connection, rhs)\n",
    "            placeholder = \"(\" + \", \".join(sqls) + \")\"\n",
    "            return (placeholder, sqls_params)\n",
    "        return super().process_rhs(compiler, connection)\n",
    "\n",
    "    def get_rhs_op(self, connection, rhs):\n",
    "        return \"IN %s\" % rhs\n",
    "\n",
    "    def as_sql(self, compiler, connection):\n",
    "        max_in_list_size = connection.ops.max_in_list_size()\n",
    "        if (\n",
    "            self.rhs_is_direct_value()\n",
    "            and max_in_list_size\n",
    "            and len(self.rhs) > max_in_list_size\n",
    "        ):\n",
    "            return self.split_parameter_list_as_sql(compiler, connection)\n",
    "        return super().as_sql(compiler, connection)\n",
    "\n",
    "    def split_parameter_list_as_sql(self, compiler, connection):\n",
    "        # This is a special case for databases which limit the number of\n",
    "        # elements which can appear in an 'IN' clause.\n",
    "        max_in_list_size = connection.ops.max_in_list_size()\n",
    "        lhs, lhs_params = self.process_lhs(compiler, connection)\n",
    "        rhs, rhs_params = self.batch_process_rhs(compiler, connection)\n",
    "        in_clause_elements = [\"(\"]\n",
    "        params = []\n",
    "        for offset in range(0, len(rhs_params), max_in_list_size):\n",
    "            if offset > 0:\n",
    "                in_clause_elements.append(\" OR \")\n",
    "            in_clause_elements.append(\"%s IN (\" % lhs)\n",
    "            params.extend(lhs_params)\n",
    "            sqls = rhs[offset : offset + max_in_list_size]\n",
    "            sqls_params = rhs_params[offset : offset + max_in_list_size]\n",
    "            param_group = \", \".join(sqls)\n",
    "            in_clause_elements.append(param_group)\n",
    "            in_clause_elements.append(\")\")\n",
    "            params.extend(sqls_params)\n",
    "        in_clause_elements.append(\")\")\n",
    "        return \"\".join(in_clause_elements), params"
   ]
  },
  {
   "cell_type": "markdown",
   "metadata": {},
   "source": []
  },
  {
   "cell_type": "code",
   "execution_count": null,
   "metadata": {},
   "outputs": [],
   "source": [
    "class PatternLookup(BuiltinLookup):\n",
    "    param_pattern = \"%%%s%%\"\n",
    "    prepare_rhs = False\n",
    "\n",
    "    def get_rhs_op(self, connection, rhs):\n",
    "        # Assume we are in startswith. We need to produce SQL like:\n",
    "        #     col LIKE %s, ['thevalue%']\n",
    "        # For python values we can (and should) do that directly in Python,\n",
    "        # but if the value is for example reference to other column, then\n",
    "        # we need to add the % pattern match to the lookup by something like\n",
    "        #     col LIKE othercol || '%%'\n",
    "        # So, for Python values we don't need any special pattern, but for\n",
    "        # SQL reference values or SQL transformations we need the correct\n",
    "        # pattern added.\n",
    "        if hasattr(self.rhs, \"as_sql\") or self.bilateral_transforms:\n",
    "            pattern = connection.pattern_ops[self.lookup_name].format(\n",
    "                connection.pattern_esc\n",
    "            )\n",
    "            return pattern.format(rhs)\n",
    "        else:\n",
    "            return super().get_rhs_op(connection, rhs)\n",
    "\n",
    "    def process_rhs(self, qn, connection):\n",
    "        rhs, params = super().process_rhs(qn, connection)\n",
    "        if self.rhs_is_direct_value() and params and not self.bilateral_transforms:\n",
    "            params[0] = self.param_pattern % connection.ops.prep_for_like_query(\n",
    "                params[0]\n",
    "            )\n",
    "        return rhs, params"
   ]
  },
  {
   "cell_type": "markdown",
   "metadata": {},
   "source": []
  },
  {
   "cell_type": "code",
   "execution_count": null,
   "metadata": {},
   "outputs": [],
   "source": [
    "@Field.register_lookup\n",
    "class Contains(PatternLookup):\n",
    "    lookup_name = \"contains\""
   ]
  },
  {
   "cell_type": "markdown",
   "metadata": {},
   "source": []
  },
  {
   "cell_type": "code",
   "execution_count": null,
   "metadata": {},
   "outputs": [],
   "source": [
    "@Field.register_lookup\n",
    "class IContains(Contains):\n",
    "    lookup_name = \"icontains\""
   ]
  },
  {
   "cell_type": "markdown",
   "metadata": {},
   "source": []
  },
  {
   "cell_type": "code",
   "execution_count": null,
   "metadata": {},
   "outputs": [],
   "source": [
    "@Field.register_lookup\n",
    "class StartsWith(PatternLookup):\n",
    "    lookup_name = \"startswith\"\n",
    "    param_pattern = \"%s%%\""
   ]
  },
  {
   "cell_type": "markdown",
   "metadata": {},
   "source": []
  },
  {
   "cell_type": "code",
   "execution_count": null,
   "metadata": {},
   "outputs": [],
   "source": [
    "@Field.register_lookup\n",
    "class IStartsWith(StartsWith):\n",
    "    lookup_name = \"istartswith\""
   ]
  },
  {
   "cell_type": "markdown",
   "metadata": {},
   "source": []
  },
  {
   "cell_type": "code",
   "execution_count": null,
   "metadata": {},
   "outputs": [],
   "source": [
    "@Field.register_lookup\n",
    "class EndsWith(PatternLookup):\n",
    "    lookup_name = \"endswith\"\n",
    "    param_pattern = \"%%%s\""
   ]
  },
  {
   "cell_type": "markdown",
   "metadata": {},
   "source": []
  },
  {
   "cell_type": "code",
   "execution_count": null,
   "metadata": {},
   "outputs": [],
   "source": [
    "@Field.register_lookup\n",
    "class IEndsWith(EndsWith):\n",
    "    lookup_name = \"iendswith\""
   ]
  },
  {
   "cell_type": "markdown",
   "metadata": {},
   "source": []
  },
  {
   "cell_type": "code",
   "execution_count": null,
   "metadata": {},
   "outputs": [],
   "source": [
    "@Field.register_lookup\n",
    "class Range(FieldGetDbPrepValueIterableMixin, BuiltinLookup):\n",
    "    lookup_name = \"range\"\n",
    "\n",
    "    def get_rhs_op(self, connection, rhs):\n",
    "        return \"BETWEEN %s AND %s\" % (rhs[0], rhs[1])"
   ]
  },
  {
   "cell_type": "markdown",
   "metadata": {},
   "source": []
  },
  {
   "cell_type": "code",
   "execution_count": null,
   "metadata": {},
   "outputs": [],
   "source": [
    "@Field.register_lookup\n",
    "class IsNull(BuiltinLookup):\n",
    "    lookup_name = \"isnull\"\n",
    "    prepare_rhs = False\n",
    "\n",
    "    def as_sql(self, compiler, connection):\n",
    "        if not isinstance(self.rhs, bool):\n",
    "            raise ValueError(\n",
    "                \"The QuerySet value for an isnull lookup must be True or False.\"\n",
    "            )\n",
    "        if isinstance(self.lhs, Value):\n",
    "            if self.lhs.value is None or (\n",
    "                self.lhs.value == \"\"\n",
    "                and connection.features.interprets_empty_strings_as_nulls\n",
    "            ):\n",
    "                result_exception = FullResultSet if self.rhs else EmptyResultSet\n",
    "            else:\n",
    "                result_exception = EmptyResultSet if self.rhs else FullResultSet\n",
    "            raise result_exception\n",
    "        sql, params = self.process_lhs(compiler, connection)\n",
    "        if self.rhs:\n",
    "            return \"%s IS NULL\" % sql, params\n",
    "        else:\n",
    "            return \"%s IS NOT NULL\" % sql, params"
   ]
  },
  {
   "cell_type": "markdown",
   "metadata": {},
   "source": []
  },
  {
   "cell_type": "code",
   "execution_count": null,
   "metadata": {},
   "outputs": [],
   "source": [
    "@Field.register_lookup\n",
    "class Regex(BuiltinLookup):\n",
    "    lookup_name = \"regex\"\n",
    "    prepare_rhs = False\n",
    "\n",
    "    def as_sql(self, compiler, connection):\n",
    "        if self.lookup_name in connection.operators:\n",
    "            return super().as_sql(compiler, connection)\n",
    "        else:\n",
    "            lhs, lhs_params = self.process_lhs(compiler, connection)\n",
    "            rhs, rhs_params = self.process_rhs(compiler, connection)\n",
    "            sql_template = connection.ops.regex_lookup(self.lookup_name)\n",
    "            return sql_template % (lhs, rhs), lhs_params + rhs_params"
   ]
  },
  {
   "cell_type": "markdown",
   "metadata": {},
   "source": []
  },
  {
   "cell_type": "code",
   "execution_count": null,
   "metadata": {},
   "outputs": [],
   "source": [
    "@Field.register_lookup\n",
    "class IRegex(Regex):\n",
    "    lookup_name = \"iregex\""
   ]
  },
  {
   "cell_type": "markdown",
   "metadata": {},
   "source": []
  },
  {
   "cell_type": "code",
   "execution_count": null,
   "metadata": {},
   "outputs": [],
   "source": [
    "class YearLookup(Lookup):\n",
    "    def year_lookup_bounds(self, connection, year):\n",
    "        from django.db.models.functions import ExtractIsoYear\n",
    "\n",
    "        iso_year = isinstance(self.lhs, ExtractIsoYear)\n",
    "        output_field = self.lhs.lhs.output_field\n",
    "        if isinstance(output_field, DateTimeField):\n",
    "            bounds = connection.ops.year_lookup_bounds_for_datetime_field(\n",
    "                year,\n",
    "                iso_year=iso_year,\n",
    "            )\n",
    "        else:\n",
    "            bounds = connection.ops.year_lookup_bounds_for_date_field(\n",
    "                year,\n",
    "                iso_year=iso_year,\n",
    "            )\n",
    "        return bounds\n",
    "\n",
    "    def as_sql(self, compiler, connection):\n",
    "        # Avoid the extract operation if the rhs is a direct value to allow\n",
    "        # indexes to be used.\n",
    "        if self.rhs_is_direct_value():\n",
    "            # Skip the extract part by directly using the originating field,\n",
    "            # that is self.lhs.lhs.\n",
    "            lhs_sql, params = self.process_lhs(compiler, connection, self.lhs.lhs)\n",
    "            rhs_sql, _ = self.process_rhs(compiler, connection)\n",
    "            rhs_sql = self.get_direct_rhs_sql(connection, rhs_sql)\n",
    "            start, finish = self.year_lookup_bounds(connection, self.rhs)\n",
    "            params.extend(self.get_bound_params(start, finish))\n",
    "            return \"%s %s\" % (lhs_sql, rhs_sql), params\n",
    "        return super().as_sql(compiler, connection)\n",
    "\n",
    "    def get_direct_rhs_sql(self, connection, rhs):\n",
    "        return connection.operators[self.lookup_name] % rhs\n",
    "\n",
    "    def get_bound_params(self, start, finish):\n",
    "        raise NotImplementedError(\n",
    "            \"subclasses of YearLookup must provide a get_bound_params() method\"\n",
    "        )"
   ]
  },
  {
   "cell_type": "markdown",
   "metadata": {},
   "source": []
  },
  {
   "cell_type": "code",
   "execution_count": null,
   "metadata": {},
   "outputs": [],
   "source": [
    "class YearExact(YearLookup, Exact):\n",
    "    def get_direct_rhs_sql(self, connection, rhs):\n",
    "        return \"BETWEEN %s AND %s\"\n",
    "\n",
    "    def get_bound_params(self, start, finish):\n",
    "        return (start, finish)"
   ]
  },
  {
   "cell_type": "markdown",
   "metadata": {},
   "source": []
  },
  {
   "cell_type": "code",
   "execution_count": null,
   "metadata": {},
   "outputs": [],
   "source": [
    "class YearGt(YearLookup, GreaterThan):\n",
    "    def get_bound_params(self, start, finish):\n",
    "        return (finish,)"
   ]
  },
  {
   "cell_type": "markdown",
   "metadata": {},
   "source": []
  },
  {
   "cell_type": "code",
   "execution_count": null,
   "metadata": {},
   "outputs": [],
   "source": [
    "class YearGte(YearLookup, GreaterThanOrEqual):\n",
    "    def get_bound_params(self, start, finish):\n",
    "        return (start,)"
   ]
  },
  {
   "cell_type": "markdown",
   "metadata": {},
   "source": []
  },
  {
   "cell_type": "code",
   "execution_count": null,
   "metadata": {},
   "outputs": [],
   "source": [
    "class YearLt(YearLookup, LessThan):\n",
    "    def get_bound_params(self, start, finish):\n",
    "        return (start,)"
   ]
  },
  {
   "cell_type": "markdown",
   "metadata": {},
   "source": []
  },
  {
   "cell_type": "code",
   "execution_count": null,
   "metadata": {},
   "outputs": [],
   "source": [
    "class YearLte(YearLookup, LessThanOrEqual):\n",
    "    def get_bound_params(self, start, finish):\n",
    "        return (finish,)"
   ]
  },
  {
   "cell_type": "markdown",
   "metadata": {},
   "source": []
  },
  {
   "cell_type": "code",
   "execution_count": null,
   "metadata": {},
   "outputs": [],
   "source": [
    "class UUIDTextMixin:\n",
    "    \"\"\"\n",
    "    Strip hyphens from a value when filtering a UUIDField on backends without\n",
    "    a native datatype for UUID.\n",
    "    \"\"\"\n",
    "\n",
    "    def process_rhs(self, qn, connection):\n",
    "        if not connection.features.has_native_uuid_field:\n",
    "            from django.db.models.functions import Replace\n",
    "\n",
    "            if self.rhs_is_direct_value():\n",
    "                self.rhs = Value(self.rhs)\n",
    "            self.rhs = Replace(\n",
    "                self.rhs, Value(\"-\"), Value(\"\"), output_field=CharField()\n",
    "            )\n",
    "        rhs, params = super().process_rhs(qn, connection)\n",
    "        return rhs, params"
   ]
  },
  {
   "cell_type": "markdown",
   "metadata": {},
   "source": []
  },
  {
   "cell_type": "code",
   "execution_count": null,
   "metadata": {},
   "outputs": [],
   "source": [
    "@UUIDField.register_lookup\n",
    "class UUIDIExact(UUIDTextMixin, IExact):\n",
    "    pass"
   ]
  },
  {
   "cell_type": "markdown",
   "metadata": {},
   "source": []
  },
  {
   "cell_type": "code",
   "execution_count": null,
   "metadata": {},
   "outputs": [],
   "source": [
    "@UUIDField.register_lookup\n",
    "class UUIDContains(UUIDTextMixin, Contains):\n",
    "    pass"
   ]
  },
  {
   "cell_type": "markdown",
   "metadata": {},
   "source": []
  },
  {
   "cell_type": "code",
   "execution_count": null,
   "metadata": {},
   "outputs": [],
   "source": [
    "@UUIDField.register_lookup\n",
    "class UUIDIContains(UUIDTextMixin, IContains):\n",
    "    pass"
   ]
  },
  {
   "cell_type": "markdown",
   "metadata": {},
   "source": []
  },
  {
   "cell_type": "code",
   "execution_count": null,
   "metadata": {},
   "outputs": [],
   "source": [
    "@UUIDField.register_lookup\n",
    "class UUIDStartsWith(UUIDTextMixin, StartsWith):\n",
    "    pass"
   ]
  },
  {
   "cell_type": "markdown",
   "metadata": {},
   "source": []
  },
  {
   "cell_type": "code",
   "execution_count": null,
   "metadata": {},
   "outputs": [],
   "source": [
    "@UUIDField.register_lookup\n",
    "class UUIDIStartsWith(UUIDTextMixin, IStartsWith):\n",
    "    pass"
   ]
  },
  {
   "cell_type": "markdown",
   "metadata": {},
   "source": []
  },
  {
   "cell_type": "code",
   "execution_count": null,
   "metadata": {},
   "outputs": [],
   "source": [
    "@UUIDField.register_lookup\n",
    "class UUIDEndsWith(UUIDTextMixin, EndsWith):\n",
    "    pass"
   ]
  },
  {
   "cell_type": "markdown",
   "metadata": {},
   "source": []
  },
  {
   "cell_type": "code",
   "execution_count": null,
   "metadata": {},
   "outputs": [],
   "source": [
    "@UUIDField.register_lookup\n",
    "class UUIDIEndsWith(UUIDTextMixin, IEndsWith):\n",
    "    pass"
   ]
  },
  {
   "cell_type": "markdown",
   "metadata": {},
   "source": []
  }
 ],
 "metadata": {
  "language_info": {
   "name": "python"
  }
 },
 "nbformat": 4,
 "nbformat_minor": 2
}