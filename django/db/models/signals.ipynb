{
    "cells": [
        {
            "cell_type": "code",
            "execution_count": null,
            "metadata": {},
            "outputs": [],
            "source": [
                "from functools import partial\n",
                "\n",
                "from django.db.models.utils import make_model_tuple\n",
                "from django.dispatch import Signal\n",
                "\n",
                "class_prepared = Signal()\n"
            ]
        },
        {
            "cell_type": "markdown",
            "metadata": {},
            "source": []
        },
        {
            "cell_type": "code",
            "execution_count": null,
            "metadata": {},
            "outputs": [],
            "source": [
                "class ModelSignal(Signal):\n",
                "    \"\"\"\n",
                "    Signal subclass that allows the sender to be lazily specified as a string\n",
                "    of the `app_label.ModelName` form.\n",
                "    \"\"\"\n",
                "\n",
                "    def _lazy_method(self, method, apps, receiver, sender, **kwargs):\n",
                "        from django.db.models.options import Options\n",
                "\n",
                "        # This partial takes a single optional argument named \"sender\".\n",
                "        partial_method = partial(method, receiver, **kwargs)\n",
                "        if isinstance(sender, str):\n",
                "            apps = apps or Options.default_apps\n",
                "            apps.lazy_model_operation(partial_method, make_model_tuple(sender))\n",
                "        else:\n",
                "            return partial_method(sender)\n",
                "\n",
                "    def connect(self, receiver, sender=None, weak=True, dispatch_uid=None, apps=None):\n",
                "        self._lazy_method(\n",
                "            super().connect,\n",
                "            apps,\n",
                "            receiver,\n",
                "            sender,\n",
                "            weak=weak,\n",
                "            dispatch_uid=dispatch_uid,\n",
                "        )\n",
                "\n",
                "    def disconnect(self, receiver=None, sender=None, dispatch_uid=None, apps=None):\n",
                "        return self._lazy_method(\n",
                "            super().disconnect, apps, receiver, sender, dispatch_uid=dispatch_uid\n",
                "        )\n"
            ]
        },
        {
            "cell_type": "markdown",
            "metadata": {},
            "source": []
        },
        {
            "cell_type": "code",
            "execution_count": null,
            "metadata": {},
            "outputs": [],
            "source": [
                "pre_init = ModelSignal(use_caching=True)\n",
                "post_init = ModelSignal(use_caching=True)\n",
                "\n",
                "pre_save = ModelSignal(use_caching=True)\n",
                "post_save = ModelSignal(use_caching=True)\n",
                "\n",
                "pre_delete = ModelSignal(use_caching=True)\n",
                "post_delete = ModelSignal(use_caching=True)\n",
                "\n",
                "m2m_changed = ModelSignal(use_caching=True)\n",
                "\n",
                "pre_migrate = Signal()\n",
                "post_migrate = Signal()\n",
                "\n"
            ]
        },
        {
            "cell_type": "markdown",
            "metadata": {},
            "source": []
        }
    ],
    "metadata": {
        "language_info": {
            "name": "python"
        }
    },
    "nbformat": 4,
    "nbformat_minor": 2
}