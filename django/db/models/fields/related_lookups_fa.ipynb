{
 "cells": [
  {
   "cell_type": "code",
   "execution_count": null,
   "metadata": {},
   "outputs": [],
   "source": [
    "from django.db.models.lookups import (\n",
    "    Exact,\n",
    "    GreaterThan,\n",
    "    GreaterThanOrEqual,\n",
    "    In,\n",
    "    IsNull,\n",
    "    LessThan,\n",
    "    LessThanOrEqual,\n",
    ")"
   ]
  },
  {
   "cell_type": "markdown",
   "metadata": {},
   "source": []
  },
  {
   "cell_type": "code",
   "execution_count": null,
   "metadata": {},
   "outputs": [],
   "source": [
    "class MultiColSource:\n",
    "    contains_aggregate = False\n",
    "    contains_over_clause = False\n",
    "\n",
    "    def __init__(self, alias, targets, sources, field):\n",
    "        self.targets, self.sources, self.field, self.alias = (\n",
    "            targets,\n",
    "            sources,\n",
    "            field,\n",
    "            alias,\n",
    "        )\n",
    "        self.output_field = self.field\n",
    "\n",
    "    def __repr__(self):\n",
    "        return \"{}({}, {})\".format(self.__class__.__name__, self.alias, self.field)\n",
    "\n",
    "    def relabeled_clone(self, relabels):\n",
    "        return self.__class__(\n",
    "            relabels.get(self.alias, self.alias), self.targets, self.sources, self.field\n",
    "        )\n",
    "\n",
    "    def get_lookup(self, lookup):\n",
    "        return self.output_field.get_lookup(lookup)\n",
    "\n",
    "    def resolve_expression(self, *args, **kwargs):\n",
    "        return self"
   ]
  },
  {
   "cell_type": "markdown",
   "metadata": {},
   "source": []
  },
  {
   "cell_type": "code",
   "execution_count": null,
   "metadata": {},
   "outputs": [],
   "source": [
    "def get_normalized_value(value, lhs):\n",
    "    from django.db.models import Model\n",
    "\n",
    "    if isinstance(value, Model):\n",
    "        if value.pk is None:\n",
    "            raise ValueError(\"Model instances passed to related filters must be saved.\")\n",
    "        value_list = []\n",
    "        sources = lhs.output_field.path_infos[-1].target_fields\n",
    "        for source in sources:\n",
    "            while not isinstance(value, source.model) and source.remote_field:\n",
    "                source = source.remote_field.model._meta.get_field(\n",
    "                    source.remote_field.field_name\n",
    "                )\n",
    "            try:\n",
    "                value_list.append(getattr(value, source.attname))\n",
    "            except AttributeError:\n",
    "                # A case like Restaurant.objects.filter(place=restaurant_instance),\n",
    "                # where place is a OneToOneField and the primary key of Restaurant.\n",
    "                return (value.pk,)\n",
    "        return tuple(value_list)\n",
    "    if not isinstance(value, tuple):\n",
    "        return (value,)\n",
    "    return value"
   ]
  },
  {
   "cell_type": "markdown",
   "metadata": {},
   "source": []
  },
  {
   "cell_type": "code",
   "execution_count": null,
   "metadata": {},
   "outputs": [],
   "source": [
    "class RelatedIn(In):\n",
    "    def get_prep_lookup(self):\n",
    "        if not isinstance(self.lhs, MultiColSource):\n",
    "            if self.rhs_is_direct_value():\n",
    "                # If we get here, we are dealing with single-column relations.\n",
    "                self.rhs = [get_normalized_value(val, self.lhs)[0] for val in self.rhs]\n",
    "                # We need to run the related field's get_prep_value(). Consider\n",
    "                # case ForeignKey to IntegerField given value 'abc'. The\n",
    "                # ForeignKey itself doesn't have validation for non-integers,\n",
    "                # so we must run validation using the target field.\n",
    "                if hasattr(self.lhs.output_field, \"path_infos\"):\n",
    "                    # Run the target field's get_prep_value. We can safely\n",
    "                    # assume there is only one as we don't get to the direct\n",
    "                    # value branch otherwise.\n",
    "                    target_field = self.lhs.output_field.path_infos[-1].target_fields[\n",
    "                        -1\n",
    "                    ]\n",
    "                    self.rhs = [target_field.get_prep_value(v) for v in self.rhs]\n",
    "            elif not getattr(self.rhs, \"has_select_fields\", True) and not getattr(\n",
    "                self.lhs.field.target_field, \"primary_key\", False\n",
    "            ):\n",
    "                if (\n",
    "                    getattr(self.lhs.output_field, \"primary_key\", False)\n",
    "                    and self.lhs.output_field.model == self.rhs.model\n",
    "                ):\n",
    "                    # A case like\n",
    "                    # Restaurant.objects.filter(place__in=restaurant_qs), where\n",
    "                    # place is a OneToOneField and the primary key of\n",
    "                    # Restaurant.\n",
    "                    target_field = self.lhs.field.name\n",
    "                else:\n",
    "                    target_field = self.lhs.field.target_field.name\n",
    "                self.rhs.set_values([target_field])\n",
    "        return super().get_prep_lookup()\n",
    "\n",
    "    def as_sql(self, compiler, connection):\n",
    "        if isinstance(self.lhs, MultiColSource):\n",
    "            # For multicolumn lookups we need to build a multicolumn where clause.\n",
    "            # This clause is either a SubqueryConstraint (for values that need\n",
    "            # to be compiled to SQL) or an OR-combined list of\n",
    "            # (col1 = val1 AND col2 = val2 AND ...) clauses.\n",
    "            from django.db.models.sql.where import (\n",
    "                AND,\n",
    "                OR,\n",
    "                SubqueryConstraint,\n",
    "                WhereNode,\n",
    "            )\n",
    "\n",
    "            root_constraint = WhereNode(connector=OR)\n",
    "            if self.rhs_is_direct_value():\n",
    "                values = [get_normalized_value(value, self.lhs) for value in self.rhs]\n",
    "                for value in values:\n",
    "                    value_constraint = WhereNode()\n",
    "                    for source, target, val in zip(\n",
    "                        self.lhs.sources, self.lhs.targets, value\n",
    "                    ):\n",
    "                        lookup_class = target.get_lookup(\"exact\")\n",
    "                        lookup = lookup_class(\n",
    "                            target.get_col(self.lhs.alias, source), val\n",
    "                        )\n",
    "                        value_constraint.add(lookup, AND)\n",
    "                    root_constraint.add(value_constraint, OR)\n",
    "            else:\n",
    "                root_constraint.add(\n",
    "                    SubqueryConstraint(\n",
    "                        self.lhs.alias,\n",
    "                        [target.column for target in self.lhs.targets],\n",
    "                        [source.name for source in self.lhs.sources],\n",
    "                        self.rhs,\n",
    "                    ),\n",
    "                    AND,\n",
    "                )\n",
    "            return root_constraint.as_sql(compiler, connection)\n",
    "        return super().as_sql(compiler, connection)"
   ]
  },
  {
   "cell_type": "markdown",
   "metadata": {},
   "source": []
  },
  {
   "cell_type": "code",
   "execution_count": null,
   "metadata": {},
   "outputs": [],
   "source": [
    "class RelatedLookupMixin:\n",
    "    def get_prep_lookup(self):\n",
    "        if not isinstance(self.lhs, MultiColSource) and not hasattr(\n",
    "            self.rhs, \"resolve_expression\"\n",
    "        ):\n",
    "            # If we get here, we are dealing with single-column relations.\n",
    "            self.rhs = get_normalized_value(self.rhs, self.lhs)[0]\n",
    "            # We need to run the related field's get_prep_value(). Consider case\n",
    "            # ForeignKey to IntegerField given value 'abc'. The ForeignKey itself\n",
    "            # doesn't have validation for non-integers, so we must run validation\n",
    "            # using the target field.\n",
    "            if self.prepare_rhs and hasattr(self.lhs.output_field, \"path_infos\"):\n",
    "                # Get the target field. We can safely assume there is only one\n",
    "                # as we don't get to the direct value branch otherwise.\n",
    "                target_field = self.lhs.output_field.path_infos[-1].target_fields[-1]\n",
    "                self.rhs = target_field.get_prep_value(self.rhs)\n",
    "\n",
    "        return super().get_prep_lookup()\n",
    "\n",
    "    def as_sql(self, compiler, connection):\n",
    "        if isinstance(self.lhs, MultiColSource):\n",
    "            assert self.rhs_is_direct_value()\n",
    "            self.rhs = get_normalized_value(self.rhs, self.lhs)\n",
    "            from django.db.models.sql.where import AND, WhereNode\n",
    "\n",
    "            root_constraint = WhereNode()\n",
    "            for target, source, val in zip(\n",
    "                self.lhs.targets, self.lhs.sources, self.rhs\n",
    "            ):\n",
    "                lookup_class = target.get_lookup(self.lookup_name)\n",
    "                root_constraint.add(\n",
    "                    lookup_class(target.get_col(self.lhs.alias, source), val), AND\n",
    "                )\n",
    "            return root_constraint.as_sql(compiler, connection)\n",
    "        return super().as_sql(compiler, connection)"
   ]
  },
  {
   "cell_type": "markdown",
   "metadata": {},
   "source": []
  },
  {
   "cell_type": "code",
   "execution_count": null,
   "metadata": {},
   "outputs": [],
   "source": [
    "class RelatedExact(RelatedLookupMixin, Exact):\n",
    "    pass"
   ]
  },
  {
   "cell_type": "markdown",
   "metadata": {},
   "source": []
  },
  {
   "cell_type": "code",
   "execution_count": null,
   "metadata": {},
   "outputs": [],
   "source": [
    "class RelatedLessThan(RelatedLookupMixin, LessThan):\n",
    "    pass"
   ]
  },
  {
   "cell_type": "markdown",
   "metadata": {},
   "source": []
  },
  {
   "cell_type": "code",
   "execution_count": null,
   "metadata": {},
   "outputs": [],
   "source": [
    "class RelatedGreaterThan(RelatedLookupMixin, GreaterThan):\n",
    "    pass"
   ]
  },
  {
   "cell_type": "markdown",
   "metadata": {},
   "source": []
  },
  {
   "cell_type": "code",
   "execution_count": null,
   "metadata": {},
   "outputs": [],
   "source": [
    "class RelatedGreaterThanOrEqual(RelatedLookupMixin, GreaterThanOrEqual):\n",
    "    pass"
   ]
  },
  {
   "cell_type": "markdown",
   "metadata": {},
   "source": []
  },
  {
   "cell_type": "code",
   "execution_count": null,
   "metadata": {},
   "outputs": [],
   "source": [
    "class RelatedLessThanOrEqual(RelatedLookupMixin, LessThanOrEqual):\n",
    "    pass"
   ]
  },
  {
   "cell_type": "markdown",
   "metadata": {},
   "source": []
  },
  {
   "cell_type": "code",
   "execution_count": null,
   "metadata": {},
   "outputs": [],
   "source": [
    "class RelatedIsNull(RelatedLookupMixin, IsNull):\n",
    "    pass"
   ]
  },
  {
   "cell_type": "markdown",
   "metadata": {},
   "source": []
  }
 ],
 "metadata": {
  "language_info": {
   "name": "python"
  }
 },
 "nbformat": 4,
 "nbformat_minor": 2
}