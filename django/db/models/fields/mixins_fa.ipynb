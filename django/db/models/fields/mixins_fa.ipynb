{
 "cells": [
  {
   "cell_type": "code",
   "execution_count": null,
   "metadata": {},
   "outputs": [],
   "source": [
    "from django.core import checks\n",
    "\n",
    "NOT_PROVIDED = object()"
   ]
  },
  {
   "cell_type": "markdown",
   "metadata": {},
   "source": []
  },
  {
   "cell_type": "code",
   "execution_count": null,
   "metadata": {},
   "outputs": [],
   "source": [
    "class FieldCacheMixin:\n",
    "    \"\"\"Provide an API for working with the model's fields value cache.\"\"\"\n",
    "\n",
    "    def get_cache_name(self):\n",
    "        raise NotImplementedError\n",
    "\n",
    "    def get_cached_value(self, instance, default=NOT_PROVIDED):\n",
    "        cache_name = self.get_cache_name()\n",
    "        try:\n",
    "            return instance._state.fields_cache[cache_name]\n",
    "        except KeyError:\n",
    "            if default is NOT_PROVIDED:\n",
    "                raise\n",
    "            return default\n",
    "\n",
    "    def is_cached(self, instance):\n",
    "        return self.get_cache_name() in instance._state.fields_cache\n",
    "\n",
    "    def set_cached_value(self, instance, value):\n",
    "        instance._state.fields_cache[self.get_cache_name()] = value\n",
    "\n",
    "    def delete_cached_value(self, instance):\n",
    "        del instance._state.fields_cache[self.get_cache_name()]"
   ]
  },
  {
   "cell_type": "markdown",
   "metadata": {},
   "source": []
  },
  {
   "cell_type": "code",
   "execution_count": null,
   "metadata": {},
   "outputs": [],
   "source": [
    "class CheckFieldDefaultMixin:\n",
    "    _default_hint = (\"<valid default>\", \"<invalid default>\")\n",
    "\n",
    "    def _check_default(self):\n",
    "        if (\n",
    "            self.has_default()\n",
    "            and self.default is not None\n",
    "            and not callable(self.default)\n",
    "        ):\n",
    "            return [\n",
    "                checks.Warning(\n",
    "                    \"%s default should be a callable instead of an instance \"\n",
    "                    \"so that it's not shared between all field instances.\"\n",
    "                    % (self.__class__.__name__,),\n",
    "                    hint=(\n",
    "                        \"Use a callable instead, e.g., use `%s` instead of \"\n",
    "                        \"`%s`.\" % self._default_hint\n",
    "                    ),\n",
    "                    obj=self,\n",
    "                    id=\"fields.E010\",\n",
    "                )\n",
    "            ]\n",
    "        else:\n",
    "            return []\n",
    "\n",
    "    def check(self, **kwargs):\n",
    "        errors = super().check(**kwargs)\n",
    "        errors.extend(self._check_default())\n",
    "        return errors"
   ]
  },
  {
   "cell_type": "markdown",
   "metadata": {},
   "source": []
  }
 ],
 "metadata": {
  "language_info": {
   "name": "python"
  }
 },
 "nbformat": 4,
 "nbformat_minor": 2
}