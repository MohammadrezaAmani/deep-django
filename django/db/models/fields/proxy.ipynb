{
 "cells": [
  {
   "cell_type": "code",
   "execution_count": null,
   "metadata": {},
   "outputs": [],
   "source": [
    "\"\"\"\n",
    "Field-like classes that aren't really fields. It's easier to use objects that\n",
    "have the same attributes as fields sometimes (avoids a lot of special casing).\n",
    "\"\"\"\n",
    "\n",
    "from django.db.models import fields"
   ]
  },
  {
   "cell_type": "markdown",
   "metadata": {},
   "source": []
  },
  {
   "cell_type": "code",
   "execution_count": null,
   "metadata": {},
   "outputs": [],
   "source": [
    "class OrderWrt(fields.IntegerField):\n",
    "    \"\"\"\n",
    "    A proxy for the _order database field that is used when\n",
    "    Meta.order_with_respect_to is specified.\n",
    "    \"\"\"\n",
    "\n",
    "    def __init__(self, *args, **kwargs):\n",
    "        kwargs[\"name\"] = \"_order\"\n",
    "        kwargs[\"editable\"] = False\n",
    "        super().__init__(*args, **kwargs)"
   ]
  },
  {
   "cell_type": "markdown",
   "metadata": {},
   "source": []
  }
 ],
 "metadata": {
  "language_info": {
   "name": "python"
  }
 },
 "nbformat": 4,
 "nbformat_minor": 2
}