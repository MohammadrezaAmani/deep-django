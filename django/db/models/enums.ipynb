{
    "cells": [
        {
            "cell_type": "code",
            "execution_count": null,
            "metadata": {},
            "outputs": [],
            "source": [
                "import enum\n",
                "import warnings\n",
                "\n",
                "from django.utils.deprecation import RemovedInDjango60Warning\n",
                "from django.utils.functional import Promise\n",
                "from django.utils.version import PY311, PY312\n",
                "\n",
                "if PY311:\n",
                "    from enum import EnumType, IntEnum, StrEnum\n",
                "    from enum import property as enum_property\n",
                "else:\n",
                "    from enum import EnumMeta as EnumType\n",
                "    from types import DynamicClassAttribute as enum_property\n",
                "\n",
                "    class ReprEnum(enum.Enum):\n",
                "        def __str__(self):\n",
                "            return str(self.value)\n",
                "\n",
                "    class IntEnum(int, ReprEnum):\n",
                "        pass\n",
                "\n",
                "    class StrEnum(str, ReprEnum):\n",
                "        pass\n"
            ]
        },
        {
            "cell_type": "markdown",
            "metadata": {},
            "source": []
        },
        {
            "cell_type": "code",
            "execution_count": null,
            "metadata": {},
            "outputs": [],
            "source": [
                "__all__ = [\"Choices\", \"IntegerChoices\", \"TextChoices\"]\n"
            ]
        },
        {
            "cell_type": "markdown",
            "metadata": {},
            "source": []
        },
        {
            "cell_type": "code",
            "execution_count": null,
            "metadata": {},
            "outputs": [],
            "source": [
                "class ChoicesType(EnumType):\n",
                "    \"\"\"A metaclass for creating a enum choices.\"\"\"\n",
                "\n",
                "    def __new__(metacls, classname, bases, classdict, **kwds):\n",
                "        labels = []\n",
                "        for key in classdict._member_names:\n",
                "            value = classdict[key]\n",
                "            if (\n",
                "                isinstance(value, (list, tuple))\n",
                "                and len(value) > 1\n",
                "                and isinstance(value[-1], (Promise, str))\n",
                "            ):\n",
                "                *value, label = value\n",
                "                value = tuple(value)\n",
                "            else:\n",
                "                label = key.replace(\"_\", \" \").title()\n",
                "            labels.append(label)\n",
                "            # Use dict.__setitem__() to suppress defenses against double\n",
                "            # assignment in enum's classdict.\n",
                "            dict.__setitem__(classdict, key, value)\n",
                "        cls = super().__new__(metacls, classname, bases, classdict, **kwds)\n",
                "        for member, label in zip(cls.__members__.values(), labels):\n",
                "            member._label_ = label\n",
                "        return enum.unique(cls)\n",
                "\n",
                "    if not PY312:\n",
                "\n",
                "        def __contains__(cls, member):\n",
                "            if not isinstance(member, enum.Enum):\n",
                "                # Allow non-enums to match against member values.\n",
                "                return any(x.value == member for x in cls)\n",
                "            return super().__contains__(member)\n",
                "\n",
                "    @property\n",
                "    def names(cls):\n",
                "        empty = [\"__empty__\"] if hasattr(cls, \"__empty__\") else []\n",
                "        return empty + [member.name for member in cls]\n",
                "\n",
                "    @property\n",
                "    def choices(cls):\n",
                "        empty = [(None, cls.__empty__)] if hasattr(cls, \"__empty__\") else []\n",
                "        return empty + [(member.value, member.label) for member in cls]\n",
                "\n",
                "    @property\n",
                "    def labels(cls):\n",
                "        return [label for _, label in cls.choices]\n",
                "\n",
                "    @property\n",
                "    def values(cls):\n",
                "        return [value for value, _ in cls.choices]\n"
            ]
        },
        {
            "cell_type": "markdown",
            "metadata": {},
            "source": []
        },
        {
            "cell_type": "code",
            "execution_count": null,
            "metadata": {},
            "outputs": [],
            "source": [
                "class Choices(enum.Enum, metaclass=ChoicesType):\n",
                "    \"\"\"Class for creating enumerated choices.\"\"\"\n",
                "\n",
                "    if PY311:\n",
                "        do_not_call_in_templates = enum.nonmember(True)\n",
                "    else:\n",
                "\n",
                "        @property\n",
                "        def do_not_call_in_templates(self):\n",
                "            return True\n",
                "\n",
                "    @enum_property\n",
                "    def label(self):\n",
                "        return self._label_\n",
                "\n",
                "    # A similar format was proposed for Python 3.10.\n",
                "    def __repr__(self):\n",
                "        return f\"{self.__class__.__qualname__}.{self._name_}\"\n"
            ]
        },
        {
            "cell_type": "markdown",
            "metadata": {},
            "source": []
        },
        {
            "cell_type": "code",
            "execution_count": null,
            "metadata": {},
            "outputs": [],
            "source": [
                "class IntegerChoices(Choices, IntEnum):\n",
                "    \"\"\"Class for creating enumerated integer choices.\"\"\"\n",
                "\n",
                "    pass\n"
            ]
        },
        {
            "cell_type": "markdown",
            "metadata": {},
            "source": []
        },
        {
            "cell_type": "code",
            "execution_count": null,
            "metadata": {},
            "outputs": [],
            "source": [
                "class TextChoices(Choices, StrEnum):\n",
                "    \"\"\"Class for creating enumerated string choices.\"\"\"\n",
                "\n",
                "    @staticmethod\n",
                "    def _generate_next_value_(name, start, count, last_values):\n",
                "        return name\n"
            ]
        },
        {
            "cell_type": "markdown",
            "metadata": {},
            "source": []
        },
        {
            "cell_type": "code",
            "execution_count": null,
            "metadata": {},
            "outputs": [],
            "source": [
                "def __getattr__(name):\n",
                "    if name == \"ChoicesMeta\":\n",
                "        warnings.warn(\n",
                "            \"ChoicesMeta is deprecated in favor of ChoicesType.\",\n",
                "            RemovedInDjango60Warning,\n",
                "            stacklevel=2,\n",
                "        )\n",
                "        return ChoicesType\n",
                "    raise AttributeError(f\"module {__name__!r} has no attribute {name!r}\")\n",
                "\n"
            ]
        },
        {
            "cell_type": "markdown",
            "metadata": {},
            "source": []
        }
    ],
    "metadata": {
        "language_info": {
            "name": "python"
        }
    },
    "nbformat": 4,
    "nbformat_minor": 2
}