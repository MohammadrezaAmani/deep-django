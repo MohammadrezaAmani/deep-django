{
    "cells": [
        {
            "cell_type": "code",
            "execution_count": null,
            "metadata": {},
            "outputs": [],
            "source": [
                "\"\"\"\n",
                "Constants specific to the SQL storage portion of the ORM.\n",
                "\"\"\"\n",
                "\n",
                "# Size of each \"chunk\" for get_iterator calls.\n",
                "# Larger values are slightly faster at the expense of more storage space.\n",
                "GET_ITERATOR_CHUNK_SIZE = 100\n",
                "\n",
                "# Namedtuples for sql.* internal use.\n",
                "\n",
                "# How many results to expect from a cursor.execute call\n",
                "MULTI = \"multi\"\n",
                "SINGLE = \"single\"\n",
                "CURSOR = \"cursor\"\n",
                "NO_RESULTS = \"no results\"\n",
                "\n",
                "ORDER_DIR = {\n",
                "    \"ASC\": (\"ASC\", \"DESC\"),\n",
                "    \"DESC\": (\"DESC\", \"ASC\"),\n",
                "}\n",
                "\n",
                "# SQL join types.\n",
                "INNER = \"INNER JOIN\"\n",
                "LOUTER = \"LEFT OUTER JOIN\"\n",
                "\n"
            ]
        },
        {
            "cell_type": "markdown",
            "metadata": {},
            "source": []
        }
    ],
    "metadata": {
        "language_info": {
            "name": "python"
        }
    },
    "nbformat": 4,
    "nbformat_minor": 2
}