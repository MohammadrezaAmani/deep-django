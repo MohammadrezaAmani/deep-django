{
    "cells": [
        {
            "cell_type": "code",
            "execution_count": null,
            "metadata": {},
            "outputs": [],
            "source": [
                "from django.db.models.sql.query import *  # NOQA\n",
                "from django.db.models.sql.query import Query\n",
                "from django.db.models.sql.subqueries import *  # NOQA\n",
                "from django.db.models.sql.where import AND, OR, XOR\n",
                "\n",
                "__all__ = [\"Query\", \"AND\", \"OR\", \"XOR\"]\n",
                "\n"
            ]
        },
        {
            "cell_type": "markdown",
            "metadata": {},
            "source": []
        }
    ],
    "metadata": {
        "language_info": {
            "name": "python"
        }
    },
    "nbformat": 4,
    "nbformat_minor": 2
}