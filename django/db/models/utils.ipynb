{
 "cells": [
  {
   "cell_type": "code",
   "execution_count": null,
   "metadata": {},
   "outputs": [],
   "source": [
    "import functools\n",
    "from collections import namedtuple"
   ]
  },
  {
   "cell_type": "markdown",
   "metadata": {},
   "source": []
  },
  {
   "cell_type": "code",
   "execution_count": null,
   "metadata": {},
   "outputs": [],
   "source": [
    "def make_model_tuple(model):\n",
    "    \"\"\"\n",
    "    Take a model or a string of the form \"app_label.ModelName\" and return a\n",
    "    corresponding (\"app_label\", \"modelname\") tuple. If a tuple is passed in,\n",
    "    assume it's a valid model tuple already and return it unchanged.\n",
    "    \"\"\"\n",
    "    try:\n",
    "        if isinstance(model, tuple):\n",
    "            model_tuple = model\n",
    "        elif isinstance(model, str):\n",
    "            app_label, model_name = model.split(\".\")\n",
    "            model_tuple = app_label, model_name.lower()\n",
    "        else:\n",
    "            model_tuple = model._meta.app_label, model._meta.model_name\n",
    "        assert len(model_tuple) == 2\n",
    "        return model_tuple\n",
    "    except (ValueError, AssertionError):\n",
    "        raise ValueError(\n",
    "            \"Invalid model reference '%s'. String model references \"\n",
    "            \"must be of the form 'app_label.ModelName'.\" % model\n",
    "        )"
   ]
  },
  {
   "cell_type": "markdown",
   "metadata": {},
   "source": []
  },
  {
   "cell_type": "code",
   "execution_count": null,
   "metadata": {},
   "outputs": [],
   "source": [
    "def resolve_callables(mapping):\n",
    "    \"\"\"\n",
    "    Generate key/value pairs for the given mapping where the values are\n",
    "    evaluated if they're callable.\n",
    "    \"\"\"\n",
    "    for k, v in mapping.items():\n",
    "        yield k, v() if callable(v) else v"
   ]
  },
  {
   "cell_type": "markdown",
   "metadata": {},
   "source": []
  },
  {
   "cell_type": "code",
   "execution_count": null,
   "metadata": {},
   "outputs": [],
   "source": [
    "def unpickle_named_row(names, values):\n",
    "    return create_namedtuple_class(*names)(*values)"
   ]
  },
  {
   "cell_type": "markdown",
   "metadata": {},
   "source": []
  },
  {
   "cell_type": "code",
   "execution_count": null,
   "metadata": {},
   "outputs": [],
   "source": [
    "@functools.lru_cache\n",
    "def create_namedtuple_class(*names):\n",
    "    # Cache type() with @lru_cache since it's too slow to be called for every\n",
    "    # QuerySet evaluation.\n",
    "    def __reduce__(self):\n",
    "        return unpickle_named_row, (names, tuple(self))\n",
    "\n",
    "    return type(\n",
    "        \"Row\",\n",
    "        (namedtuple(\"Row\", names),),\n",
    "        {\"__reduce__\": __reduce__, \"__slots__\": ()},\n",
    "    )"
   ]
  },
  {
   "cell_type": "markdown",
   "metadata": {},
   "source": []
  },
  {
   "cell_type": "code",
   "execution_count": null,
   "metadata": {},
   "outputs": [],
   "source": [
    "class AltersData:\n",
    "    \"\"\"\n",
    "    Make subclasses preserve the alters_data attribute on overridden methods.\n",
    "    \"\"\"\n",
    "\n",
    "    def __init_subclass__(cls, **kwargs):\n",
    "        for fn_name, fn in vars(cls).items():\n",
    "            if callable(fn) and not hasattr(fn, \"alters_data\"):\n",
    "                for base in cls.__bases__:\n",
    "                    if base_fn := getattr(base, fn_name, None):\n",
    "                        if hasattr(base_fn, \"alters_data\"):\n",
    "                            fn.alters_data = base_fn.alters_data\n",
    "                        break\n",
    "\n",
    "        super().__init_subclass__(**kwargs)"
   ]
  },
  {
   "cell_type": "markdown",
   "metadata": {},
   "source": []
  }
 ],
 "metadata": {
  "language_info": {
   "name": "python"
  }
 },
 "nbformat": 4,
 "nbformat_minor": 2
}