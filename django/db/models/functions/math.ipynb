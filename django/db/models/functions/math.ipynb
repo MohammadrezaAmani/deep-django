{
 "cells": [
  {
   "cell_type": "code",
   "execution_count": null,
   "metadata": {},
   "outputs": [],
   "source": [
    "import math\n",
    "\n",
    "from django.db.models.expressions import Func, Value\n",
    "from django.db.models.fields import FloatField, IntegerField\n",
    "from django.db.models.functions import Cast\n",
    "from django.db.models.functions.mixins import (\n",
    "    FixDecimalInputMixin,\n",
    "    NumericOutputFieldMixin,\n",
    ")\n",
    "from django.db.models.lookups import Transform"
   ]
  },
  {
   "cell_type": "markdown",
   "metadata": {},
   "source": []
  },
  {
   "cell_type": "code",
   "execution_count": null,
   "metadata": {},
   "outputs": [],
   "source": [
    "class Abs(Transform):\n",
    "    function = \"ABS\"\n",
    "    lookup_name = \"abs\""
   ]
  },
  {
   "cell_type": "markdown",
   "metadata": {},
   "source": []
  },
  {
   "cell_type": "code",
   "execution_count": null,
   "metadata": {},
   "outputs": [],
   "source": [
    "class ACos(NumericOutputFieldMixin, Transform):\n",
    "    function = \"ACOS\"\n",
    "    lookup_name = \"acos\""
   ]
  },
  {
   "cell_type": "markdown",
   "metadata": {},
   "source": []
  },
  {
   "cell_type": "code",
   "execution_count": null,
   "metadata": {},
   "outputs": [],
   "source": [
    "class ASin(NumericOutputFieldMixin, Transform):\n",
    "    function = \"ASIN\"\n",
    "    lookup_name = \"asin\""
   ]
  },
  {
   "cell_type": "markdown",
   "metadata": {},
   "source": []
  },
  {
   "cell_type": "code",
   "execution_count": null,
   "metadata": {},
   "outputs": [],
   "source": [
    "class ATan(NumericOutputFieldMixin, Transform):\n",
    "    function = \"ATAN\"\n",
    "    lookup_name = \"atan\""
   ]
  },
  {
   "cell_type": "markdown",
   "metadata": {},
   "source": []
  },
  {
   "cell_type": "code",
   "execution_count": null,
   "metadata": {},
   "outputs": [],
   "source": [
    "class ATan2(NumericOutputFieldMixin, Func):\n",
    "    function = \"ATAN2\"\n",
    "    arity = 2\n",
    "\n",
    "    def as_sqlite(self, compiler, connection, **extra_context):\n",
    "        if not getattr(\n",
    "            connection.ops, \"spatialite\", False\n",
    "        ) or connection.ops.spatial_version >= (5, 0, 0):\n",
    "            return self.as_sql(compiler, connection)\n",
    "        # This function is usually ATan2(y, x), returning the inverse tangent\n",
    "        # of y / x, but it's ATan2(x, y) on SpatiaLite < 5.0.0.\n",
    "        # Cast integers to float to avoid inconsistent/buggy behavior if the\n",
    "        # arguments are mixed between integer and float or decimal.\n",
    "        # https://www.gaia-gis.it/fossil/libspatialite/tktview?name=0f72cca3a2\n",
    "        clone = self.copy()\n",
    "        clone.set_source_expressions(\n",
    "            [\n",
    "                (\n",
    "                    Cast(expression, FloatField())\n",
    "                    if isinstance(expression.output_field, IntegerField)\n",
    "                    else expression\n",
    "                )\n",
    "                for expression in self.get_source_expressions()[::-1]\n",
    "            ]\n",
    "        )\n",
    "        return clone.as_sql(compiler, connection, **extra_context)"
   ]
  },
  {
   "cell_type": "markdown",
   "metadata": {},
   "source": []
  },
  {
   "cell_type": "code",
   "execution_count": null,
   "metadata": {},
   "outputs": [],
   "source": [
    "class Ceil(Transform):\n",
    "    function = \"CEILING\"\n",
    "    lookup_name = \"ceil\"\n",
    "\n",
    "    def as_oracle(self, compiler, connection, **extra_context):\n",
    "        return super().as_sql(compiler, connection, function=\"CEIL\", **extra_context)"
   ]
  },
  {
   "cell_type": "markdown",
   "metadata": {},
   "source": []
  },
  {
   "cell_type": "code",
   "execution_count": null,
   "metadata": {},
   "outputs": [],
   "source": [
    "class Cos(NumericOutputFieldMixin, Transform):\n",
    "    function = \"COS\"\n",
    "    lookup_name = \"cos\""
   ]
  },
  {
   "cell_type": "markdown",
   "metadata": {},
   "source": []
  },
  {
   "cell_type": "code",
   "execution_count": null,
   "metadata": {},
   "outputs": [],
   "source": [
    "class Cot(NumericOutputFieldMixin, Transform):\n",
    "    function = \"COT\"\n",
    "    lookup_name = \"cot\"\n",
    "\n",
    "    def as_oracle(self, compiler, connection, **extra_context):\n",
    "        return super().as_sql(\n",
    "            compiler, connection, template=\"(1 / TAN(%(expressions)s))\", **extra_context\n",
    "        )"
   ]
  },
  {
   "cell_type": "markdown",
   "metadata": {},
   "source": []
  },
  {
   "cell_type": "code",
   "execution_count": null,
   "metadata": {},
   "outputs": [],
   "source": [
    "class Degrees(NumericOutputFieldMixin, Transform):\n",
    "    function = \"DEGREES\"\n",
    "    lookup_name = \"degrees\"\n",
    "\n",
    "    def as_oracle(self, compiler, connection, **extra_context):\n",
    "        return super().as_sql(\n",
    "            compiler,\n",
    "            connection,\n",
    "            template=\"((%%(expressions)s) * 180 / %s)\" % math.pi,\n",
    "            **extra_context,\n",
    "        )"
   ]
  },
  {
   "cell_type": "markdown",
   "metadata": {},
   "source": []
  },
  {
   "cell_type": "code",
   "execution_count": null,
   "metadata": {},
   "outputs": [],
   "source": [
    "class Exp(NumericOutputFieldMixin, Transform):\n",
    "    function = \"EXP\"\n",
    "    lookup_name = \"exp\""
   ]
  },
  {
   "cell_type": "markdown",
   "metadata": {},
   "source": []
  },
  {
   "cell_type": "code",
   "execution_count": null,
   "metadata": {},
   "outputs": [],
   "source": [
    "class Floor(Transform):\n",
    "    function = \"FLOOR\"\n",
    "    lookup_name = \"floor\""
   ]
  },
  {
   "cell_type": "markdown",
   "metadata": {},
   "source": []
  },
  {
   "cell_type": "code",
   "execution_count": null,
   "metadata": {},
   "outputs": [],
   "source": [
    "class Ln(NumericOutputFieldMixin, Transform):\n",
    "    function = \"LN\"\n",
    "    lookup_name = \"ln\""
   ]
  },
  {
   "cell_type": "markdown",
   "metadata": {},
   "source": []
  },
  {
   "cell_type": "code",
   "execution_count": null,
   "metadata": {},
   "outputs": [],
   "source": [
    "class Log(FixDecimalInputMixin, NumericOutputFieldMixin, Func):\n",
    "    function = \"LOG\"\n",
    "    arity = 2\n",
    "\n",
    "    def as_sqlite(self, compiler, connection, **extra_context):\n",
    "        if not getattr(connection.ops, \"spatialite\", False):\n",
    "            return self.as_sql(compiler, connection)\n",
    "        # This function is usually Log(b, x) returning the logarithm of x to\n",
    "        # the base b, but on SpatiaLite it's Log(x, b).\n",
    "        clone = self.copy()\n",
    "        clone.set_source_expressions(self.get_source_expressions()[::-1])\n",
    "        return clone.as_sql(compiler, connection, **extra_context)"
   ]
  },
  {
   "cell_type": "markdown",
   "metadata": {},
   "source": []
  },
  {
   "cell_type": "code",
   "execution_count": null,
   "metadata": {},
   "outputs": [],
   "source": [
    "class Mod(FixDecimalInputMixin, NumericOutputFieldMixin, Func):\n",
    "    function = \"MOD\"\n",
    "    arity = 2"
   ]
  },
  {
   "cell_type": "markdown",
   "metadata": {},
   "source": []
  },
  {
   "cell_type": "code",
   "execution_count": null,
   "metadata": {},
   "outputs": [],
   "source": [
    "class Pi(NumericOutputFieldMixin, Func):\n",
    "    function = \"PI\"\n",
    "    arity = 0\n",
    "\n",
    "    def as_oracle(self, compiler, connection, **extra_context):\n",
    "        return super().as_sql(\n",
    "            compiler, connection, template=str(math.pi), **extra_context\n",
    "        )"
   ]
  },
  {
   "cell_type": "markdown",
   "metadata": {},
   "source": []
  },
  {
   "cell_type": "code",
   "execution_count": null,
   "metadata": {},
   "outputs": [],
   "source": [
    "class Power(NumericOutputFieldMixin, Func):\n",
    "    function = \"POWER\"\n",
    "    arity = 2"
   ]
  },
  {
   "cell_type": "markdown",
   "metadata": {},
   "source": []
  },
  {
   "cell_type": "code",
   "execution_count": null,
   "metadata": {},
   "outputs": [],
   "source": [
    "class Radians(NumericOutputFieldMixin, Transform):\n",
    "    function = \"RADIANS\"\n",
    "    lookup_name = \"radians\"\n",
    "\n",
    "    def as_oracle(self, compiler, connection, **extra_context):\n",
    "        return super().as_sql(\n",
    "            compiler,\n",
    "            connection,\n",
    "            template=\"((%%(expressions)s) * %s / 180)\" % math.pi,\n",
    "            **extra_context,\n",
    "        )"
   ]
  },
  {
   "cell_type": "markdown",
   "metadata": {},
   "source": []
  },
  {
   "cell_type": "code",
   "execution_count": null,
   "metadata": {},
   "outputs": [],
   "source": [
    "class Random(NumericOutputFieldMixin, Func):\n",
    "    function = \"RANDOM\"\n",
    "    arity = 0\n",
    "\n",
    "    def as_mysql(self, compiler, connection, **extra_context):\n",
    "        return super().as_sql(compiler, connection, function=\"RAND\", **extra_context)\n",
    "\n",
    "    def as_oracle(self, compiler, connection, **extra_context):\n",
    "        return super().as_sql(\n",
    "            compiler, connection, function=\"DBMS_RANDOM.VALUE\", **extra_context\n",
    "        )\n",
    "\n",
    "    def as_sqlite(self, compiler, connection, **extra_context):\n",
    "        return super().as_sql(compiler, connection, function=\"RAND\", **extra_context)\n",
    "\n",
    "    def get_group_by_cols(self):\n",
    "        return []"
   ]
  },
  {
   "cell_type": "markdown",
   "metadata": {},
   "source": []
  },
  {
   "cell_type": "code",
   "execution_count": null,
   "metadata": {},
   "outputs": [],
   "source": [
    "class Round(FixDecimalInputMixin, Transform):\n",
    "    function = \"ROUND\"\n",
    "    lookup_name = \"round\"\n",
    "    arity = None  # Override Transform's arity=1 to enable passing precision.\n",
    "\n",
    "    def __init__(self, expression, precision=0, **extra):\n",
    "        super().__init__(expression, precision, **extra)\n",
    "\n",
    "    def as_sqlite(self, compiler, connection, **extra_context):\n",
    "        precision = self.get_source_expressions()[1]\n",
    "        if isinstance(precision, Value) and precision.value < 0:\n",
    "            raise ValueError(\"SQLite does not support negative precision.\")\n",
    "        return super().as_sqlite(compiler, connection, **extra_context)\n",
    "\n",
    "    def _resolve_output_field(self):\n",
    "        source = self.get_source_expressions()[0]\n",
    "        return source.output_field"
   ]
  },
  {
   "cell_type": "markdown",
   "metadata": {},
   "source": []
  },
  {
   "cell_type": "code",
   "execution_count": null,
   "metadata": {},
   "outputs": [],
   "source": [
    "class Sign(Transform):\n",
    "    function = \"SIGN\"\n",
    "    lookup_name = \"sign\""
   ]
  },
  {
   "cell_type": "markdown",
   "metadata": {},
   "source": []
  },
  {
   "cell_type": "code",
   "execution_count": null,
   "metadata": {},
   "outputs": [],
   "source": [
    "class Sin(NumericOutputFieldMixin, Transform):\n",
    "    function = \"SIN\"\n",
    "    lookup_name = \"sin\""
   ]
  },
  {
   "cell_type": "markdown",
   "metadata": {},
   "source": []
  },
  {
   "cell_type": "code",
   "execution_count": null,
   "metadata": {},
   "outputs": [],
   "source": [
    "class Sqrt(NumericOutputFieldMixin, Transform):\n",
    "    function = \"SQRT\"\n",
    "    lookup_name = \"sqrt\""
   ]
  },
  {
   "cell_type": "markdown",
   "metadata": {},
   "source": []
  },
  {
   "cell_type": "code",
   "execution_count": null,
   "metadata": {},
   "outputs": [],
   "source": [
    "class Tan(NumericOutputFieldMixin, Transform):\n",
    "    function = \"TAN\"\n",
    "    lookup_name = \"tan\""
   ]
  },
  {
   "cell_type": "markdown",
   "metadata": {},
   "source": []
  }
 ],
 "metadata": {
  "language_info": {
   "name": "python"
  }
 },
 "nbformat": 4,
 "nbformat_minor": 2
}