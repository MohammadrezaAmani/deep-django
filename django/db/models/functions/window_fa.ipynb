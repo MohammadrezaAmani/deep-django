{
 "cells": [
  {
   "cell_type": "code",
   "execution_count": null,
   "metadata": {},
   "outputs": [],
   "source": [
    "from django.db.models.expressions import Func\n",
    "from django.db.models.fields import FloatField, IntegerField\n",
    "\n",
    "__all__ = [\n",
    "    \"CumeDist\",\n",
    "    \"DenseRank\",\n",
    "    \"FirstValue\",\n",
    "    \"Lag\",\n",
    "    \"LastValue\",\n",
    "    \"Lead\",\n",
    "    \"NthValue\",\n",
    "    \"Ntile\",\n",
    "    \"PercentRank\",\n",
    "    \"Rank\",\n",
    "    \"RowNumber\",\n",
    "]"
   ]
  },
  {
   "cell_type": "markdown",
   "metadata": {},
   "source": []
  },
  {
   "cell_type": "code",
   "execution_count": null,
   "metadata": {},
   "outputs": [],
   "source": [
    "class CumeDist(Func):\n",
    "    function = \"CUME_DIST\"\n",
    "    output_field = FloatField()\n",
    "    window_compatible = True"
   ]
  },
  {
   "cell_type": "markdown",
   "metadata": {},
   "source": []
  },
  {
   "cell_type": "code",
   "execution_count": null,
   "metadata": {},
   "outputs": [],
   "source": [
    "class DenseRank(Func):\n",
    "    function = \"DENSE_RANK\"\n",
    "    output_field = IntegerField()\n",
    "    window_compatible = True"
   ]
  },
  {
   "cell_type": "markdown",
   "metadata": {},
   "source": []
  },
  {
   "cell_type": "code",
   "execution_count": null,
   "metadata": {},
   "outputs": [],
   "source": [
    "class FirstValue(Func):\n",
    "    arity = 1\n",
    "    function = \"FIRST_VALUE\"\n",
    "    window_compatible = True"
   ]
  },
  {
   "cell_type": "markdown",
   "metadata": {},
   "source": []
  },
  {
   "cell_type": "code",
   "execution_count": null,
   "metadata": {},
   "outputs": [],
   "source": [
    "class LagLeadFunction(Func):\n",
    "    window_compatible = True\n",
    "\n",
    "    def __init__(self, expression, offset=1, default=None, **extra):\n",
    "        if expression is None:\n",
    "            raise ValueError(\n",
    "                \"%s requires a non-null source expression.\" % self.__class__.__name__\n",
    "            )\n",
    "        if offset is None or offset <= 0:\n",
    "            raise ValueError(\n",
    "                \"%s requires a positive integer for the offset.\"\n",
    "                % self.__class__.__name__\n",
    "            )\n",
    "        args = (expression, offset)\n",
    "        if default is not None:\n",
    "            args += (default,)\n",
    "        super().__init__(*args, **extra)\n",
    "\n",
    "    def _resolve_output_field(self):\n",
    "        sources = self.get_source_expressions()\n",
    "        return sources[0].output_field"
   ]
  },
  {
   "cell_type": "markdown",
   "metadata": {},
   "source": []
  },
  {
   "cell_type": "code",
   "execution_count": null,
   "metadata": {},
   "outputs": [],
   "source": [
    "class Lag(LagLeadFunction):\n",
    "    function = \"LAG\""
   ]
  },
  {
   "cell_type": "markdown",
   "metadata": {},
   "source": []
  },
  {
   "cell_type": "code",
   "execution_count": null,
   "metadata": {},
   "outputs": [],
   "source": [
    "class LastValue(Func):\n",
    "    arity = 1\n",
    "    function = \"LAST_VALUE\"\n",
    "    window_compatible = True"
   ]
  },
  {
   "cell_type": "markdown",
   "metadata": {},
   "source": []
  },
  {
   "cell_type": "code",
   "execution_count": null,
   "metadata": {},
   "outputs": [],
   "source": [
    "class Lead(LagLeadFunction):\n",
    "    function = \"LEAD\""
   ]
  },
  {
   "cell_type": "markdown",
   "metadata": {},
   "source": []
  },
  {
   "cell_type": "code",
   "execution_count": null,
   "metadata": {},
   "outputs": [],
   "source": [
    "class NthValue(Func):\n",
    "    function = \"NTH_VALUE\"\n",
    "    window_compatible = True\n",
    "\n",
    "    def __init__(self, expression, nth=1, **extra):\n",
    "        if expression is None:\n",
    "            raise ValueError(\n",
    "                \"%s requires a non-null source expression.\" % self.__class__.__name__\n",
    "            )\n",
    "        if nth is None or nth <= 0:\n",
    "            raise ValueError(\n",
    "                \"%s requires a positive integer as for nth.\" % self.__class__.__name__\n",
    "            )\n",
    "        super().__init__(expression, nth, **extra)\n",
    "\n",
    "    def _resolve_output_field(self):\n",
    "        sources = self.get_source_expressions()\n",
    "        return sources[0].output_field"
   ]
  },
  {
   "cell_type": "markdown",
   "metadata": {},
   "source": []
  },
  {
   "cell_type": "code",
   "execution_count": null,
   "metadata": {},
   "outputs": [],
   "source": [
    "class Ntile(Func):\n",
    "    function = \"NTILE\"\n",
    "    output_field = IntegerField()\n",
    "    window_compatible = True\n",
    "\n",
    "    def __init__(self, num_buckets=1, **extra):\n",
    "        if num_buckets <= 0:\n",
    "            raise ValueError(\"num_buckets must be greater than 0.\")\n",
    "        super().__init__(num_buckets, **extra)"
   ]
  },
  {
   "cell_type": "markdown",
   "metadata": {},
   "source": []
  },
  {
   "cell_type": "code",
   "execution_count": null,
   "metadata": {},
   "outputs": [],
   "source": [
    "class PercentRank(Func):\n",
    "    function = \"PERCENT_RANK\"\n",
    "    output_field = FloatField()\n",
    "    window_compatible = True"
   ]
  },
  {
   "cell_type": "markdown",
   "metadata": {},
   "source": []
  },
  {
   "cell_type": "code",
   "execution_count": null,
   "metadata": {},
   "outputs": [],
   "source": [
    "class Rank(Func):\n",
    "    function = \"RANK\"\n",
    "    output_field = IntegerField()\n",
    "    window_compatible = True"
   ]
  },
  {
   "cell_type": "markdown",
   "metadata": {},
   "source": []
  },
  {
   "cell_type": "code",
   "execution_count": null,
   "metadata": {},
   "outputs": [],
   "source": [
    "class RowNumber(Func):\n",
    "    function = \"ROW_NUMBER\"\n",
    "    output_field = IntegerField()\n",
    "    window_compatible = True"
   ]
  },
  {
   "cell_type": "markdown",
   "metadata": {},
   "source": []
  }
 ],
 "metadata": {
  "language_info": {
   "name": "python"
  }
 },
 "nbformat": 4,
 "nbformat_minor": 2
}