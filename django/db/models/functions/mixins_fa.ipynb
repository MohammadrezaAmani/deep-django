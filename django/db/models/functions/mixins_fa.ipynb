{
 "cells": [
  {
   "cell_type": "code",
   "execution_count": null,
   "metadata": {},
   "outputs": [],
   "source": [
    "import sys\n",
    "\n",
    "from django.db.models.fields import DecimalField, FloatField, IntegerField\n",
    "from django.db.models.functions import Cast"
   ]
  },
  {
   "cell_type": "markdown",
   "metadata": {},
   "source": []
  },
  {
   "cell_type": "code",
   "execution_count": null,
   "metadata": {},
   "outputs": [],
   "source": [
    "class FixDecimalInputMixin:\n",
    "    def as_postgresql(self, compiler, connection, **extra_context):\n",
    "        # Cast FloatField to DecimalField as PostgreSQL doesn't support the\n",
    "        # following function signatures:\n",
    "        # - LOG(double, double)\n",
    "        # - MOD(double, double)\n",
    "        output_field = DecimalField(decimal_places=sys.float_info.dig, max_digits=1000)\n",
    "        clone = self.copy()\n",
    "        clone.set_source_expressions(\n",
    "            [\n",
    "                (\n",
    "                    Cast(expression, output_field)\n",
    "                    if isinstance(expression.output_field, FloatField)\n",
    "                    else expression\n",
    "                )\n",
    "                for expression in self.get_source_expressions()\n",
    "            ]\n",
    "        )\n",
    "        return clone.as_sql(compiler, connection, **extra_context)"
   ]
  },
  {
   "cell_type": "markdown",
   "metadata": {},
   "source": []
  },
  {
   "cell_type": "code",
   "execution_count": null,
   "metadata": {},
   "outputs": [],
   "source": [
    "class FixDurationInputMixin:\n",
    "    def as_mysql(self, compiler, connection, **extra_context):\n",
    "        sql, params = super().as_sql(compiler, connection, **extra_context)\n",
    "        if self.output_field.get_internal_type() == \"DurationField\":\n",
    "            sql = \"CAST(%s AS SIGNED)\" % sql\n",
    "        return sql, params\n",
    "\n",
    "    def as_oracle(self, compiler, connection, **extra_context):\n",
    "        if self.output_field.get_internal_type() == \"DurationField\":\n",
    "            expression = self.get_source_expressions()[0]\n",
    "            options = self._get_repr_options()\n",
    "            from django.db.backends.oracle.functions import (\n",
    "                IntervalToSeconds,\n",
    "                SecondsToInterval,\n",
    "            )\n",
    "\n",
    "            return compiler.compile(\n",
    "                SecondsToInterval(\n",
    "                    self.__class__(IntervalToSeconds(expression), **options)\n",
    "                )\n",
    "            )\n",
    "        return super().as_sql(compiler, connection, **extra_context)"
   ]
  },
  {
   "cell_type": "markdown",
   "metadata": {},
   "source": []
  },
  {
   "cell_type": "code",
   "execution_count": null,
   "metadata": {},
   "outputs": [],
   "source": [
    "class NumericOutputFieldMixin:\n",
    "    def _resolve_output_field(self):\n",
    "        source_fields = self.get_source_fields()\n",
    "        if any(isinstance(s, DecimalField) for s in source_fields):\n",
    "            return DecimalField()\n",
    "        if any(isinstance(s, IntegerField) for s in source_fields):\n",
    "            return FloatField()\n",
    "        return super()._resolve_output_field() if source_fields else FloatField()"
   ]
  },
  {
   "cell_type": "markdown",
   "metadata": {},
   "source": []
  }
 ],
 "metadata": {
  "language_info": {
   "name": "python"
  }
 },
 "nbformat": 4,
 "nbformat_minor": 2
}