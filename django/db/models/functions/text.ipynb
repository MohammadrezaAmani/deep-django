{
 "cells": [
  {
   "cell_type": "code",
   "execution_count": null,
   "metadata": {},
   "outputs": [],
   "source": [
    "from django.db import NotSupportedError\n",
    "from django.db.models.expressions import Func, Value\n",
    "from django.db.models.fields import CharField, IntegerField, TextField\n",
    "from django.db.models.functions import Cast, Coalesce\n",
    "from django.db.models.lookups import Transform"
   ]
  },
  {
   "cell_type": "markdown",
   "metadata": {},
   "source": []
  },
  {
   "cell_type": "code",
   "execution_count": null,
   "metadata": {},
   "outputs": [],
   "source": [
    "class MySQLSHA2Mixin:\n",
    "    def as_mysql(self, compiler, connection, **extra_context):\n",
    "        return super().as_sql(\n",
    "            compiler,\n",
    "            connection,\n",
    "            template=\"SHA2(%%(expressions)s, %s)\" % self.function[3:],\n",
    "            **extra_context,\n",
    "        )"
   ]
  },
  {
   "cell_type": "markdown",
   "metadata": {},
   "source": []
  },
  {
   "cell_type": "code",
   "execution_count": null,
   "metadata": {},
   "outputs": [],
   "source": [
    "class OracleHashMixin:\n",
    "    def as_oracle(self, compiler, connection, **extra_context):\n",
    "        return super().as_sql(\n",
    "            compiler,\n",
    "            connection,\n",
    "            template=(\n",
    "                \"LOWER(RAWTOHEX(STANDARD_HASH(UTL_I18N.STRING_TO_RAW(\"\n",
    "                \"%(expressions)s, 'AL32UTF8'), '%(function)s')))\"\n",
    "            ),\n",
    "            **extra_context,\n",
    "        )"
   ]
  },
  {
   "cell_type": "markdown",
   "metadata": {},
   "source": []
  },
  {
   "cell_type": "code",
   "execution_count": null,
   "metadata": {},
   "outputs": [],
   "source": [
    "class PostgreSQLSHAMixin:\n",
    "    def as_postgresql(self, compiler, connection, **extra_context):\n",
    "        return super().as_sql(\n",
    "            compiler,\n",
    "            connection,\n",
    "            template=\"ENCODE(DIGEST(%(expressions)s, '%(function)s'), 'hex')\",\n",
    "            function=self.function.lower(),\n",
    "            **extra_context,\n",
    "        )"
   ]
  },
  {
   "cell_type": "markdown",
   "metadata": {},
   "source": []
  },
  {
   "cell_type": "code",
   "execution_count": null,
   "metadata": {},
   "outputs": [],
   "source": [
    "class Chr(Transform):\n",
    "    function = \"CHR\"\n",
    "    lookup_name = \"chr\"\n",
    "    output_field = CharField()\n",
    "\n",
    "    def as_mysql(self, compiler, connection, **extra_context):\n",
    "        return super().as_sql(\n",
    "            compiler,\n",
    "            connection,\n",
    "            function=\"CHAR\",\n",
    "            template=\"%(function)s(%(expressions)s USING utf16)\",\n",
    "            **extra_context,\n",
    "        )\n",
    "\n",
    "    def as_oracle(self, compiler, connection, **extra_context):\n",
    "        return super().as_sql(\n",
    "            compiler,\n",
    "            connection,\n",
    "            template=\"%(function)s(%(expressions)s USING NCHAR_CS)\",\n",
    "            **extra_context,\n",
    "        )\n",
    "\n",
    "    def as_sqlite(self, compiler, connection, **extra_context):\n",
    "        return super().as_sql(compiler, connection, function=\"CHAR\", **extra_context)"
   ]
  },
  {
   "cell_type": "markdown",
   "metadata": {},
   "source": []
  },
  {
   "cell_type": "code",
   "execution_count": null,
   "metadata": {},
   "outputs": [],
   "source": [
    "class ConcatPair(Func):\n",
    "    \"\"\"\n",
    "    Concatenate two arguments together. This is used by `Concat` because not\n",
    "    all backend databases support more than two arguments.\n",
    "    \"\"\"\n",
    "\n",
    "    function = \"CONCAT\"\n",
    "\n",
    "    def as_sqlite(self, compiler, connection, **extra_context):\n",
    "        coalesced = self.coalesce()\n",
    "        return super(ConcatPair, coalesced).as_sql(\n",
    "            compiler,\n",
    "            connection,\n",
    "            template=\"%(expressions)s\",\n",
    "            arg_joiner=\" || \",\n",
    "            **extra_context,\n",
    "        )\n",
    "\n",
    "    def as_postgresql(self, compiler, connection, **extra_context):\n",
    "        copy = self.copy()\n",
    "        copy.set_source_expressions(\n",
    "            [\n",
    "                Cast(expression, TextField())\n",
    "                for expression in copy.get_source_expressions()\n",
    "            ]\n",
    "        )\n",
    "        return super(ConcatPair, copy).as_sql(\n",
    "            compiler,\n",
    "            connection,\n",
    "            **extra_context,\n",
    "        )\n",
    "\n",
    "    def as_mysql(self, compiler, connection, **extra_context):\n",
    "        # Use CONCAT_WS with an empty separator so that NULLs are ignored.\n",
    "        return super().as_sql(\n",
    "            compiler,\n",
    "            connection,\n",
    "            function=\"CONCAT_WS\",\n",
    "            template=\"%(function)s('', %(expressions)s)\",\n",
    "            **extra_context,\n",
    "        )\n",
    "\n",
    "    def coalesce(self):\n",
    "        # null on either side results in null for expression, wrap with coalesce\n",
    "        c = self.copy()\n",
    "        c.set_source_expressions(\n",
    "            [\n",
    "                Coalesce(expression, Value(\"\"))\n",
    "                for expression in c.get_source_expressions()\n",
    "            ]\n",
    "        )\n",
    "        return c"
   ]
  },
  {
   "cell_type": "markdown",
   "metadata": {},
   "source": []
  },
  {
   "cell_type": "code",
   "execution_count": null,
   "metadata": {},
   "outputs": [],
   "source": [
    "class Concat(Func):\n",
    "    \"\"\"\n",
    "    Concatenate text fields together. Backends that result in an entire\n",
    "    null expression when any arguments are null will wrap each argument in\n",
    "    coalesce functions to ensure a non-null result.\n",
    "    \"\"\"\n",
    "\n",
    "    function = None\n",
    "    template = \"%(expressions)s\"\n",
    "\n",
    "    def __init__(self, *expressions, **extra):\n",
    "        if len(expressions) < 2:\n",
    "            raise ValueError(\"Concat must take at least two expressions\")\n",
    "        paired = self._paired(expressions)\n",
    "        super().__init__(paired, **extra)\n",
    "\n",
    "    def _paired(self, expressions):\n",
    "        # wrap pairs of expressions in successive concat functions\n",
    "        # exp = [a, b, c, d]\n",
    "        # -> ConcatPair(a, ConcatPair(b, ConcatPair(c, d))))\n",
    "        if len(expressions) == 2:\n",
    "            return ConcatPair(*expressions)\n",
    "        return ConcatPair(expressions[0], self._paired(expressions[1:]))"
   ]
  },
  {
   "cell_type": "markdown",
   "metadata": {},
   "source": []
  },
  {
   "cell_type": "code",
   "execution_count": null,
   "metadata": {},
   "outputs": [],
   "source": [
    "class Left(Func):\n",
    "    function = \"LEFT\"\n",
    "    arity = 2\n",
    "    output_field = CharField()\n",
    "\n",
    "    def __init__(self, expression, length, **extra):\n",
    "        \"\"\"\n",
    "        expression: the name of a field, or an expression returning a string\n",
    "        length: the number of characters to return from the start of the string\n",
    "        \"\"\"\n",
    "        if not hasattr(length, \"resolve_expression\"):\n",
    "            if length < 1:\n",
    "                raise ValueError(\"'length' must be greater than 0.\")\n",
    "        super().__init__(expression, length, **extra)\n",
    "\n",
    "    def get_substr(self):\n",
    "        return Substr(self.source_expressions[0], Value(1), self.source_expressions[1])\n",
    "\n",
    "    def as_oracle(self, compiler, connection, **extra_context):\n",
    "        return self.get_substr().as_oracle(compiler, connection, **extra_context)\n",
    "\n",
    "    def as_sqlite(self, compiler, connection, **extra_context):\n",
    "        return self.get_substr().as_sqlite(compiler, connection, **extra_context)"
   ]
  },
  {
   "cell_type": "markdown",
   "metadata": {},
   "source": []
  },
  {
   "cell_type": "code",
   "execution_count": null,
   "metadata": {},
   "outputs": [],
   "source": [
    "class Length(Transform):\n",
    "    \"\"\"Return the number of characters in the expression.\"\"\"\n",
    "\n",
    "    function = \"LENGTH\"\n",
    "    lookup_name = \"length\"\n",
    "    output_field = IntegerField()\n",
    "\n",
    "    def as_mysql(self, compiler, connection, **extra_context):\n",
    "        return super().as_sql(\n",
    "            compiler, connection, function=\"CHAR_LENGTH\", **extra_context\n",
    "        )"
   ]
  },
  {
   "cell_type": "markdown",
   "metadata": {},
   "source": []
  },
  {
   "cell_type": "code",
   "execution_count": null,
   "metadata": {},
   "outputs": [],
   "source": [
    "class Lower(Transform):\n",
    "    function = \"LOWER\"\n",
    "    lookup_name = \"lower\""
   ]
  },
  {
   "cell_type": "markdown",
   "metadata": {},
   "source": []
  },
  {
   "cell_type": "code",
   "execution_count": null,
   "metadata": {},
   "outputs": [],
   "source": [
    "class LPad(Func):\n",
    "    function = \"LPAD\"\n",
    "    output_field = CharField()\n",
    "\n",
    "    def __init__(self, expression, length, fill_text=Value(\" \"), **extra):\n",
    "        if (\n",
    "            not hasattr(length, \"resolve_expression\")\n",
    "            and length is not None\n",
    "            and length < 0\n",
    "        ):\n",
    "            raise ValueError(\"'length' must be greater or equal to 0.\")\n",
    "        super().__init__(expression, length, fill_text, **extra)"
   ]
  },
  {
   "cell_type": "markdown",
   "metadata": {},
   "source": []
  },
  {
   "cell_type": "code",
   "execution_count": null,
   "metadata": {},
   "outputs": [],
   "source": [
    "class LTrim(Transform):\n",
    "    function = \"LTRIM\"\n",
    "    lookup_name = \"ltrim\""
   ]
  },
  {
   "cell_type": "markdown",
   "metadata": {},
   "source": []
  },
  {
   "cell_type": "code",
   "execution_count": null,
   "metadata": {},
   "outputs": [],
   "source": [
    "class MD5(OracleHashMixin, Transform):\n",
    "    function = \"MD5\"\n",
    "    lookup_name = \"md5\""
   ]
  },
  {
   "cell_type": "markdown",
   "metadata": {},
   "source": []
  },
  {
   "cell_type": "code",
   "execution_count": null,
   "metadata": {},
   "outputs": [],
   "source": [
    "class Ord(Transform):\n",
    "    function = \"ASCII\"\n",
    "    lookup_name = \"ord\"\n",
    "    output_field = IntegerField()\n",
    "\n",
    "    def as_mysql(self, compiler, connection, **extra_context):\n",
    "        return super().as_sql(compiler, connection, function=\"ORD\", **extra_context)\n",
    "\n",
    "    def as_sqlite(self, compiler, connection, **extra_context):\n",
    "        return super().as_sql(compiler, connection, function=\"UNICODE\", **extra_context)"
   ]
  },
  {
   "cell_type": "markdown",
   "metadata": {},
   "source": []
  },
  {
   "cell_type": "code",
   "execution_count": null,
   "metadata": {},
   "outputs": [],
   "source": [
    "class Repeat(Func):\n",
    "    function = \"REPEAT\"\n",
    "    output_field = CharField()\n",
    "\n",
    "    def __init__(self, expression, number, **extra):\n",
    "        if (\n",
    "            not hasattr(number, \"resolve_expression\")\n",
    "            and number is not None\n",
    "            and number < 0\n",
    "        ):\n",
    "            raise ValueError(\"'number' must be greater or equal to 0.\")\n",
    "        super().__init__(expression, number, **extra)\n",
    "\n",
    "    def as_oracle(self, compiler, connection, **extra_context):\n",
    "        expression, number = self.source_expressions\n",
    "        length = None if number is None else Length(expression) * number\n",
    "        rpad = RPad(expression, length, expression)\n",
    "        return rpad.as_sql(compiler, connection, **extra_context)"
   ]
  },
  {
   "cell_type": "markdown",
   "metadata": {},
   "source": []
  },
  {
   "cell_type": "code",
   "execution_count": null,
   "metadata": {},
   "outputs": [],
   "source": [
    "class Replace(Func):\n",
    "    function = \"REPLACE\"\n",
    "\n",
    "    def __init__(self, expression, text, replacement=Value(\"\"), **extra):\n",
    "        super().__init__(expression, text, replacement, **extra)"
   ]
  },
  {
   "cell_type": "markdown",
   "metadata": {},
   "source": []
  },
  {
   "cell_type": "code",
   "execution_count": null,
   "metadata": {},
   "outputs": [],
   "source": [
    "class Reverse(Transform):\n",
    "    function = \"REVERSE\"\n",
    "    lookup_name = \"reverse\"\n",
    "\n",
    "    def as_oracle(self, compiler, connection, **extra_context):\n",
    "        # REVERSE in Oracle is undocumented and doesn't support multi-byte\n",
    "        # strings. Use a special subquery instead.\n",
    "        sql, params = super().as_sql(\n",
    "            compiler,\n",
    "            connection,\n",
    "            template=(\n",
    "                \"(SELECT LISTAGG(s) WITHIN GROUP (ORDER BY n DESC) FROM \"\n",
    "                \"(SELECT LEVEL n, SUBSTR(%(expressions)s, LEVEL, 1) s \"\n",
    "                \"FROM DUAL CONNECT BY LEVEL <= LENGTH(%(expressions)s)) \"\n",
    "                \"GROUP BY %(expressions)s)\"\n",
    "            ),\n",
    "            **extra_context,\n",
    "        )\n",
    "        return sql, params * 3"
   ]
  },
  {
   "cell_type": "markdown",
   "metadata": {},
   "source": []
  },
  {
   "cell_type": "code",
   "execution_count": null,
   "metadata": {},
   "outputs": [],
   "source": [
    "class Right(Left):\n",
    "    function = \"RIGHT\"\n",
    "\n",
    "    def get_substr(self):\n",
    "        return Substr(\n",
    "            self.source_expressions[0],\n",
    "            self.source_expressions[1] * Value(-1),\n",
    "            self.source_expressions[1],\n",
    "        )"
   ]
  },
  {
   "cell_type": "markdown",
   "metadata": {},
   "source": []
  },
  {
   "cell_type": "code",
   "execution_count": null,
   "metadata": {},
   "outputs": [],
   "source": [
    "class RPad(LPad):\n",
    "    function = \"RPAD\""
   ]
  },
  {
   "cell_type": "markdown",
   "metadata": {},
   "source": []
  },
  {
   "cell_type": "code",
   "execution_count": null,
   "metadata": {},
   "outputs": [],
   "source": [
    "class RTrim(Transform):\n",
    "    function = \"RTRIM\"\n",
    "    lookup_name = \"rtrim\""
   ]
  },
  {
   "cell_type": "markdown",
   "metadata": {},
   "source": []
  },
  {
   "cell_type": "code",
   "execution_count": null,
   "metadata": {},
   "outputs": [],
   "source": [
    "class SHA1(OracleHashMixin, PostgreSQLSHAMixin, Transform):\n",
    "    function = \"SHA1\"\n",
    "    lookup_name = \"sha1\""
   ]
  },
  {
   "cell_type": "markdown",
   "metadata": {},
   "source": []
  },
  {
   "cell_type": "code",
   "execution_count": null,
   "metadata": {},
   "outputs": [],
   "source": [
    "class SHA224(MySQLSHA2Mixin, PostgreSQLSHAMixin, Transform):\n",
    "    function = \"SHA224\"\n",
    "    lookup_name = \"sha224\"\n",
    "\n",
    "    def as_oracle(self, compiler, connection, **extra_context):\n",
    "        raise NotSupportedError(\"SHA224 is not supported on Oracle.\")"
   ]
  },
  {
   "cell_type": "markdown",
   "metadata": {},
   "source": []
  },
  {
   "cell_type": "code",
   "execution_count": null,
   "metadata": {},
   "outputs": [],
   "source": [
    "class SHA256(MySQLSHA2Mixin, OracleHashMixin, PostgreSQLSHAMixin, Transform):\n",
    "    function = \"SHA256\"\n",
    "    lookup_name = \"sha256\""
   ]
  },
  {
   "cell_type": "markdown",
   "metadata": {},
   "source": []
  },
  {
   "cell_type": "code",
   "execution_count": null,
   "metadata": {},
   "outputs": [],
   "source": [
    "class SHA384(MySQLSHA2Mixin, OracleHashMixin, PostgreSQLSHAMixin, Transform):\n",
    "    function = \"SHA384\"\n",
    "    lookup_name = \"sha384\""
   ]
  },
  {
   "cell_type": "markdown",
   "metadata": {},
   "source": []
  },
  {
   "cell_type": "code",
   "execution_count": null,
   "metadata": {},
   "outputs": [],
   "source": [
    "class SHA512(MySQLSHA2Mixin, OracleHashMixin, PostgreSQLSHAMixin, Transform):\n",
    "    function = \"SHA512\"\n",
    "    lookup_name = \"sha512\""
   ]
  },
  {
   "cell_type": "markdown",
   "metadata": {},
   "source": []
  },
  {
   "cell_type": "code",
   "execution_count": null,
   "metadata": {},
   "outputs": [],
   "source": [
    "class StrIndex(Func):\n",
    "    \"\"\"\n",
    "    Return a positive integer corresponding to the 1-indexed position of the\n",
    "    first occurrence of a substring inside another string, or 0 if the\n",
    "    substring is not found.\n",
    "    \"\"\"\n",
    "\n",
    "    function = \"INSTR\"\n",
    "    arity = 2\n",
    "    output_field = IntegerField()\n",
    "\n",
    "    def as_postgresql(self, compiler, connection, **extra_context):\n",
    "        return super().as_sql(compiler, connection, function=\"STRPOS\", **extra_context)"
   ]
  },
  {
   "cell_type": "markdown",
   "metadata": {},
   "source": []
  },
  {
   "cell_type": "code",
   "execution_count": null,
   "metadata": {},
   "outputs": [],
   "source": [
    "class Substr(Func):\n",
    "    function = \"SUBSTRING\"\n",
    "    output_field = CharField()\n",
    "\n",
    "    def __init__(self, expression, pos, length=None, **extra):\n",
    "        \"\"\"\n",
    "        expression: the name of a field, or an expression returning a string\n",
    "        pos: an integer > 0, or an expression returning an integer\n",
    "        length: an optional number of characters to return\n",
    "        \"\"\"\n",
    "        if not hasattr(pos, \"resolve_expression\"):\n",
    "            if pos < 1:\n",
    "                raise ValueError(\"'pos' must be greater than 0\")\n",
    "        expressions = [expression, pos]\n",
    "        if length is not None:\n",
    "            expressions.append(length)\n",
    "        super().__init__(*expressions, **extra)\n",
    "\n",
    "    def as_sqlite(self, compiler, connection, **extra_context):\n",
    "        return super().as_sql(compiler, connection, function=\"SUBSTR\", **extra_context)\n",
    "\n",
    "    def as_oracle(self, compiler, connection, **extra_context):\n",
    "        return super().as_sql(compiler, connection, function=\"SUBSTR\", **extra_context)"
   ]
  },
  {
   "cell_type": "markdown",
   "metadata": {},
   "source": []
  },
  {
   "cell_type": "code",
   "execution_count": null,
   "metadata": {},
   "outputs": [],
   "source": [
    "class Trim(Transform):\n",
    "    function = \"TRIM\"\n",
    "    lookup_name = \"trim\""
   ]
  },
  {
   "cell_type": "markdown",
   "metadata": {},
   "source": []
  },
  {
   "cell_type": "code",
   "execution_count": null,
   "metadata": {},
   "outputs": [],
   "source": [
    "class Upper(Transform):\n",
    "    function = \"UPPER\"\n",
    "    lookup_name = \"upper\""
   ]
  },
  {
   "cell_type": "markdown",
   "metadata": {},
   "source": []
  }
 ],
 "metadata": {
  "language_info": {
   "name": "python"
  }
 },
 "nbformat": 4,
 "nbformat_minor": 2
}