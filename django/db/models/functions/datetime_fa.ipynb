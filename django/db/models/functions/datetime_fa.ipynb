{
    "cells": [
        {
            "cell_type": "code",
            "execution_count": null,
            "metadata": {},
            "outputs": [],
            "source": [
                "from datetime import datetime\n",
                "\n",
                "from django.conf import settings\n",
                "from django.db.models.expressions import Func\n",
                "from django.db.models.fields import (\n",
                "    DateField,\n",
                "    DateTimeField,\n",
                "    DurationField,\n",
                "    Field,\n",
                "    IntegerField,\n",
                "    TimeField,\n",
                ")\n",
                "from django.db.models.lookups import (\n",
                "    Transform,\n",
                "    YearExact,\n",
                "    YearGt,\n",
                "    YearGte,\n",
                "    YearLt,\n",
                "    YearLte,\n",
                ")\n",
                "from django.utils import timezone\n"
            ]
        },
        {
            "cell_type": "markdown",
            "metadata": {},
            "source": []
        },
        {
            "cell_type": "code",
            "execution_count": null,
            "metadata": {},
            "outputs": [],
            "source": [
                "class TimezoneMixin:\n",
                "    tzinfo = None\n",
                "\n",
                "    def get_tzname(self):\n",
                "        # Timezone conversions must happen to the input datetime *before*\n",
                "        # applying a function. 2015-12-31 23:00:00 -02:00 is stored in the\n",
                "        # database as 2016-01-01 01:00:00 +00:00. Any results should be\n",
                "        # based on the input datetime not the stored datetime.\n",
                "        tzname = None\n",
                "        if settings.USE_TZ:\n",
                "            if self.tzinfo is None:\n",
                "                tzname = timezone.get_current_timezone_name()\n",
                "            else:\n",
                "                tzname = timezone._get_timezone_name(self.tzinfo)\n",
                "        return tzname\n"
            ]
        },
        {
            "cell_type": "markdown",
            "metadata": {},
            "source": []
        },
        {
            "cell_type": "code",
            "execution_count": null,
            "metadata": {},
            "outputs": [],
            "source": [
                "class Extract(TimezoneMixin, Transform):\n",
                "    lookup_name = None\n",
                "    output_field = IntegerField()\n",
                "\n",
                "    def __init__(self, expression, lookup_name=None, tzinfo=None, **extra):\n",
                "        if self.lookup_name is None:\n",
                "            self.lookup_name = lookup_name\n",
                "        if self.lookup_name is None:\n",
                "            raise ValueError(\"lookup_name must be provided\")\n",
                "        self.tzinfo = tzinfo\n",
                "        super().__init__(expression, **extra)\n",
                "\n",
                "    def as_sql(self, compiler, connection):\n",
                "        sql, params = compiler.compile(self.lhs)\n",
                "        lhs_output_field = self.lhs.output_field\n",
                "        if isinstance(lhs_output_field, DateTimeField):\n",
                "            tzname = self.get_tzname()\n",
                "            sql, params = connection.ops.datetime_extract_sql(\n",
                "                self.lookup_name, sql, tuple(params), tzname\n",
                "            )\n",
                "        elif self.tzinfo is not None:\n",
                "            raise ValueError(\"tzinfo can only be used with DateTimeField.\")\n",
                "        elif isinstance(lhs_output_field, DateField):\n",
                "            sql, params = connection.ops.date_extract_sql(\n",
                "                self.lookup_name, sql, tuple(params)\n",
                "            )\n",
                "        elif isinstance(lhs_output_field, TimeField):\n",
                "            sql, params = connection.ops.time_extract_sql(\n",
                "                self.lookup_name, sql, tuple(params)\n",
                "            )\n",
                "        elif isinstance(lhs_output_field, DurationField):\n",
                "            if not connection.features.has_native_duration_field:\n",
                "                raise ValueError(\n",
                "                    \"Extract requires native DurationField database support.\"\n",
                "                )\n",
                "            sql, params = connection.ops.time_extract_sql(\n",
                "                self.lookup_name, sql, tuple(params)\n",
                "            )\n",
                "        else:\n",
                "            # resolve_expression has already validated the output_field so this\n",
                "            # assert should never be hit.\n",
                "            assert False, \"Tried to Extract from an invalid type.\"\n",
                "        return sql, params\n",
                "\n",
                "    def resolve_expression(\n",
                "        self, query=None, allow_joins=True, reuse=None, summarize=False, for_save=False\n",
                "    ):\n",
                "        copy = super().resolve_expression(\n",
                "            query, allow_joins, reuse, summarize, for_save\n",
                "        )\n",
                "        field = getattr(copy.lhs, \"output_field\", None)\n",
                "        if field is None:\n",
                "            return copy\n",
                "        if not isinstance(field, (DateField, DateTimeField, TimeField, DurationField)):\n",
                "            raise ValueError(\n",
                "                \"Extract input expression must be DateField, DateTimeField, \"\n",
                "                \"TimeField, or DurationField.\"\n",
                "            )\n",
                "        # Passing dates to functions expecting datetimes is most likely a mistake.\n",
                "        if type(field) is DateField and copy.lookup_name in (\n",
                "            \"hour\",\n",
                "            \"minute\",\n",
                "            \"second\",\n",
                "        ):\n",
                "            raise ValueError(\n",
                "                \"Cannot extract time component '%s' from DateField '%s'.\"\n",
                "                % (copy.lookup_name, field.name)\n",
                "            )\n",
                "        if isinstance(field, DurationField) and copy.lookup_name in (\n",
                "            \"year\",\n",
                "            \"iso_year\",\n",
                "            \"month\",\n",
                "            \"week\",\n",
                "            \"week_day\",\n",
                "            \"iso_week_day\",\n",
                "            \"quarter\",\n",
                "        ):\n",
                "            raise ValueError(\n",
                "                \"Cannot extract component '%s' from DurationField '%s'.\"\n",
                "                % (copy.lookup_name, field.name)\n",
                "            )\n",
                "        return copy\n"
            ]
        },
        {
            "cell_type": "markdown",
            "metadata": {},
            "source": []
        },
        {
            "cell_type": "code",
            "execution_count": null,
            "metadata": {},
            "outputs": [],
            "source": [
                "class ExtractYear(Extract):\n",
                "    lookup_name = \"year\"\n"
            ]
        },
        {
            "cell_type": "markdown",
            "metadata": {},
            "source": []
        },
        {
            "cell_type": "code",
            "execution_count": null,
            "metadata": {},
            "outputs": [],
            "source": [
                "class ExtractIsoYear(Extract):\n",
                "    \"\"\"Return the ISO-8601 week-numbering year.\"\"\"\n",
                "\n",
                "    lookup_name = \"iso_year\"\n"
            ]
        },
        {
            "cell_type": "markdown",
            "metadata": {},
            "source": []
        },
        {
            "cell_type": "code",
            "execution_count": null,
            "metadata": {},
            "outputs": [],
            "source": [
                "class ExtractMonth(Extract):\n",
                "    lookup_name = \"month\"\n"
            ]
        },
        {
            "cell_type": "markdown",
            "metadata": {},
            "source": []
        },
        {
            "cell_type": "code",
            "execution_count": null,
            "metadata": {},
            "outputs": [],
            "source": [
                "class ExtractDay(Extract):\n",
                "    lookup_name = \"day\"\n"
            ]
        },
        {
            "cell_type": "markdown",
            "metadata": {},
            "source": []
        },
        {
            "cell_type": "code",
            "execution_count": null,
            "metadata": {},
            "outputs": [],
            "source": [
                "class ExtractWeek(Extract):\n",
                "    \"\"\"\n",
                "    Return 1-52 or 53, based on ISO-8601, i.e., Monday is the first of the\n",
                "    week.\n",
                "    \"\"\"\n",
                "\n",
                "    lookup_name = \"week\"\n"
            ]
        },
        {
            "cell_type": "markdown",
            "metadata": {},
            "source": []
        },
        {
            "cell_type": "code",
            "execution_count": null,
            "metadata": {},
            "outputs": [],
            "source": [
                "class ExtractWeekDay(Extract):\n",
                "    \"\"\"\n",
                "    Return Sunday=1 through Saturday=7.\n",
                "\n",
                "    To replicate this in Python: (mydatetime.isoweekday() % 7) + 1\n",
                "    \"\"\"\n",
                "\n",
                "    lookup_name = \"week_day\"\n"
            ]
        },
        {
            "cell_type": "markdown",
            "metadata": {},
            "source": []
        },
        {
            "cell_type": "code",
            "execution_count": null,
            "metadata": {},
            "outputs": [],
            "source": [
                "class ExtractIsoWeekDay(Extract):\n",
                "    \"\"\"Return Monday=1 through Sunday=7, based on ISO-8601.\"\"\"\n",
                "\n",
                "    lookup_name = \"iso_week_day\"\n"
            ]
        },
        {
            "cell_type": "markdown",
            "metadata": {},
            "source": []
        },
        {
            "cell_type": "code",
            "execution_count": null,
            "metadata": {},
            "outputs": [],
            "source": [
                "class ExtractQuarter(Extract):\n",
                "    lookup_name = \"quarter\"\n"
            ]
        },
        {
            "cell_type": "markdown",
            "metadata": {},
            "source": []
        },
        {
            "cell_type": "code",
            "execution_count": null,
            "metadata": {},
            "outputs": [],
            "source": [
                "class ExtractHour(Extract):\n",
                "    lookup_name = \"hour\"\n"
            ]
        },
        {
            "cell_type": "markdown",
            "metadata": {},
            "source": []
        },
        {
            "cell_type": "code",
            "execution_count": null,
            "metadata": {},
            "outputs": [],
            "source": [
                "class ExtractMinute(Extract):\n",
                "    lookup_name = \"minute\"\n"
            ]
        },
        {
            "cell_type": "markdown",
            "metadata": {},
            "source": []
        },
        {
            "cell_type": "code",
            "execution_count": null,
            "metadata": {},
            "outputs": [],
            "source": [
                "class ExtractSecond(Extract):\n",
                "    lookup_name = \"second\"\n"
            ]
        },
        {
            "cell_type": "markdown",
            "metadata": {},
            "source": []
        },
        {
            "cell_type": "code",
            "execution_count": null,
            "metadata": {},
            "outputs": [],
            "source": [
                "DateField.register_lookup(ExtractYear)\n",
                "DateField.register_lookup(ExtractMonth)\n",
                "DateField.register_lookup(ExtractDay)\n",
                "DateField.register_lookup(ExtractWeekDay)\n",
                "DateField.register_lookup(ExtractIsoWeekDay)\n",
                "DateField.register_lookup(ExtractWeek)\n",
                "DateField.register_lookup(ExtractIsoYear)\n",
                "DateField.register_lookup(ExtractQuarter)\n",
                "\n",
                "TimeField.register_lookup(ExtractHour)\n",
                "TimeField.register_lookup(ExtractMinute)\n",
                "TimeField.register_lookup(ExtractSecond)\n",
                "\n",
                "DateTimeField.register_lookup(ExtractHour)\n",
                "DateTimeField.register_lookup(ExtractMinute)\n",
                "DateTimeField.register_lookup(ExtractSecond)\n",
                "\n",
                "ExtractYear.register_lookup(YearExact)\n",
                "ExtractYear.register_lookup(YearGt)\n",
                "ExtractYear.register_lookup(YearGte)\n",
                "ExtractYear.register_lookup(YearLt)\n",
                "ExtractYear.register_lookup(YearLte)\n",
                "\n",
                "ExtractIsoYear.register_lookup(YearExact)\n",
                "ExtractIsoYear.register_lookup(YearGt)\n",
                "ExtractIsoYear.register_lookup(YearGte)\n",
                "ExtractIsoYear.register_lookup(YearLt)\n",
                "ExtractIsoYear.register_lookup(YearLte)\n"
            ]
        },
        {
            "cell_type": "markdown",
            "metadata": {},
            "source": []
        },
        {
            "cell_type": "code",
            "execution_count": null,
            "metadata": {},
            "outputs": [],
            "source": [
                "class Now(Func):\n",
                "    template = \"CURRENT_TIMESTAMP\"\n",
                "    output_field = DateTimeField()\n",
                "\n",
                "    def as_postgresql(self, compiler, connection, **extra_context):\n",
                "        # PostgreSQL's CURRENT_TIMESTAMP means \"the time at the start of the\n",
                "        # transaction\". Use STATEMENT_TIMESTAMP to be cross-compatible with\n",
                "        # other databases.\n",
                "        return self.as_sql(\n",
                "            compiler, connection, template=\"STATEMENT_TIMESTAMP()\", **extra_context\n",
                "        )\n",
                "\n",
                "    def as_mysql(self, compiler, connection, **extra_context):\n",
                "        return self.as_sql(\n",
                "            compiler, connection, template=\"CURRENT_TIMESTAMP(6)\", **extra_context\n",
                "        )\n",
                "\n",
                "    def as_sqlite(self, compiler, connection, **extra_context):\n",
                "        return self.as_sql(\n",
                "            compiler,\n",
                "            connection,\n",
                "            template=\"STRFTIME('%%%%Y-%%%%m-%%%%d %%%%H:%%%%M:%%%%f', 'NOW')\",\n",
                "            **extra_context,\n",
                "        )\n",
                "\n",
                "    def as_oracle(self, compiler, connection, **extra_context):\n",
                "        return self.as_sql(\n",
                "            compiler, connection, template=\"LOCALTIMESTAMP\", **extra_context\n",
                "        )\n"
            ]
        },
        {
            "cell_type": "markdown",
            "metadata": {},
            "source": []
        },
        {
            "cell_type": "code",
            "execution_count": null,
            "metadata": {},
            "outputs": [],
            "source": [
                "class TruncBase(TimezoneMixin, Transform):\n",
                "    kind = None\n",
                "    tzinfo = None\n",
                "\n",
                "    def __init__(\n",
                "        self,\n",
                "        expression,\n",
                "        output_field=None,\n",
                "        tzinfo=None,\n",
                "        **extra,\n",
                "    ):\n",
                "        self.tzinfo = tzinfo\n",
                "        super().__init__(expression, output_field=output_field, **extra)\n",
                "\n",
                "    def as_sql(self, compiler, connection):\n",
                "        sql, params = compiler.compile(self.lhs)\n",
                "        tzname = None\n",
                "        if isinstance(self.lhs.output_field, DateTimeField):\n",
                "            tzname = self.get_tzname()\n",
                "        elif self.tzinfo is not None:\n",
                "            raise ValueError(\"tzinfo can only be used with DateTimeField.\")\n",
                "        if isinstance(self.output_field, DateTimeField):\n",
                "            sql, params = connection.ops.datetime_trunc_sql(\n",
                "                self.kind, sql, tuple(params), tzname\n",
                "            )\n",
                "        elif isinstance(self.output_field, DateField):\n",
                "            sql, params = connection.ops.date_trunc_sql(\n",
                "                self.kind, sql, tuple(params), tzname\n",
                "            )\n",
                "        elif isinstance(self.output_field, TimeField):\n",
                "            sql, params = connection.ops.time_trunc_sql(\n",
                "                self.kind, sql, tuple(params), tzname\n",
                "            )\n",
                "        else:\n",
                "            raise ValueError(\n",
                "                \"Trunc only valid on DateField, TimeField, or DateTimeField.\"\n",
                "            )\n",
                "        return sql, params\n",
                "\n",
                "    def resolve_expression(\n",
                "        self, query=None, allow_joins=True, reuse=None, summarize=False, for_save=False\n",
                "    ):\n",
                "        copy = super().resolve_expression(\n",
                "            query, allow_joins, reuse, summarize, for_save\n",
                "        )\n",
                "        field = copy.lhs.output_field\n",
                "        # DateTimeField is a subclass of DateField so this works for both.\n",
                "        if not isinstance(field, (DateField, TimeField)):\n",
                "            raise TypeError(\n",
                "                \"%r isn't a DateField, TimeField, or DateTimeField.\" % field.name\n",
                "            )\n",
                "        # If self.output_field was None, then accessing the field will trigger\n",
                "        # the resolver to assign it to self.lhs.output_field.\n",
                "        if not isinstance(copy.output_field, (DateField, DateTimeField, TimeField)):\n",
                "            raise ValueError(\n",
                "                \"output_field must be either DateField, TimeField, or DateTimeField\"\n",
                "            )\n",
                "        # Passing dates or times to functions expecting datetimes is most\n",
                "        # likely a mistake.\n",
                "        class_output_field = (\n",
                "            self.__class__.output_field\n",
                "            if isinstance(self.__class__.output_field, Field)\n",
                "            else None\n",
                "        )\n",
                "        output_field = class_output_field or copy.output_field\n",
                "        has_explicit_output_field = (\n",
                "            class_output_field or field.__class__ is not copy.output_field.__class__\n",
                "        )\n",
                "        if type(field) is DateField and (\n",
                "            isinstance(output_field, DateTimeField)\n",
                "            or copy.kind in (\"hour\", \"minute\", \"second\", \"time\")\n",
                "        ):\n",
                "            raise ValueError(\n",
                "                \"Cannot truncate DateField '%s' to %s.\"\n",
                "                % (\n",
                "                    field.name,\n",
                "                    (\n",
                "                        output_field.__class__.__name__\n",
                "                        if has_explicit_output_field\n",
                "                        else \"DateTimeField\"\n",
                "                    ),\n",
                "                )\n",
                "            )\n",
                "        elif isinstance(field, TimeField) and (\n",
                "            isinstance(output_field, DateTimeField)\n",
                "            or copy.kind in (\"year\", \"quarter\", \"month\", \"week\", \"day\", \"date\")\n",
                "        ):\n",
                "            raise ValueError(\n",
                "                \"Cannot truncate TimeField '%s' to %s.\"\n",
                "                % (\n",
                "                    field.name,\n",
                "                    (\n",
                "                        output_field.__class__.__name__\n",
                "                        if has_explicit_output_field\n",
                "                        else \"DateTimeField\"\n",
                "                    ),\n",
                "                )\n",
                "            )\n",
                "        return copy\n",
                "\n",
                "    def convert_value(self, value, expression, connection):\n",
                "        if isinstance(self.output_field, DateTimeField):\n",
                "            if not settings.USE_TZ:\n",
                "                pass\n",
                "            elif value is not None:\n",
                "                value = value.replace(tzinfo=None)\n",
                "                value = timezone.make_aware(value, self.tzinfo)\n",
                "            elif not connection.features.has_zoneinfo_database:\n",
                "                raise ValueError(\n",
                "                    \"Database returned an invalid datetime value. Are time \"\n",
                "                    \"zone definitions for your database installed?\"\n",
                "                )\n",
                "        elif isinstance(value, datetime):\n",
                "            if value is None:\n",
                "                pass\n",
                "            elif isinstance(self.output_field, DateField):\n",
                "                value = value.date()\n",
                "            elif isinstance(self.output_field, TimeField):\n",
                "                value = value.time()\n",
                "        return value\n"
            ]
        },
        {
            "cell_type": "markdown",
            "metadata": {},
            "source": []
        },
        {
            "cell_type": "code",
            "execution_count": null,
            "metadata": {},
            "outputs": [],
            "source": [
                "class Trunc(TruncBase):\n",
                "    def __init__(\n",
                "        self,\n",
                "        expression,\n",
                "        kind,\n",
                "        output_field=None,\n",
                "        tzinfo=None,\n",
                "        **extra,\n",
                "    ):\n",
                "        self.kind = kind\n",
                "        super().__init__(expression, output_field=output_field, tzinfo=tzinfo, **extra)\n"
            ]
        },
        {
            "cell_type": "markdown",
            "metadata": {},
            "source": []
        },
        {
            "cell_type": "code",
            "execution_count": null,
            "metadata": {},
            "outputs": [],
            "source": [
                "class TruncYear(TruncBase):\n",
                "    kind = \"year\"\n"
            ]
        },
        {
            "cell_type": "markdown",
            "metadata": {},
            "source": []
        },
        {
            "cell_type": "code",
            "execution_count": null,
            "metadata": {},
            "outputs": [],
            "source": [
                "class TruncQuarter(TruncBase):\n",
                "    kind = \"quarter\"\n"
            ]
        },
        {
            "cell_type": "markdown",
            "metadata": {},
            "source": []
        },
        {
            "cell_type": "code",
            "execution_count": null,
            "metadata": {},
            "outputs": [],
            "source": [
                "class TruncMonth(TruncBase):\n",
                "    kind = \"month\"\n"
            ]
        },
        {
            "cell_type": "markdown",
            "metadata": {},
            "source": []
        },
        {
            "cell_type": "code",
            "execution_count": null,
            "metadata": {},
            "outputs": [],
            "source": [
                "class TruncWeek(TruncBase):\n",
                "    \"\"\"Truncate to midnight on the Monday of the week.\"\"\"\n",
                "\n",
                "    kind = \"week\"\n"
            ]
        },
        {
            "cell_type": "markdown",
            "metadata": {},
            "source": []
        },
        {
            "cell_type": "code",
            "execution_count": null,
            "metadata": {},
            "outputs": [],
            "source": [
                "class TruncDay(TruncBase):\n",
                "    kind = \"day\"\n"
            ]
        },
        {
            "cell_type": "markdown",
            "metadata": {},
            "source": []
        },
        {
            "cell_type": "code",
            "execution_count": null,
            "metadata": {},
            "outputs": [],
            "source": [
                "class TruncDate(TruncBase):\n",
                "    kind = \"date\"\n",
                "    lookup_name = \"date\"\n",
                "    output_field = DateField()\n",
                "\n",
                "    def as_sql(self, compiler, connection):\n",
                "        # Cast to date rather than truncate to date.\n",
                "        sql, params = compiler.compile(self.lhs)\n",
                "        tzname = self.get_tzname()\n",
                "        return connection.ops.datetime_cast_date_sql(sql, tuple(params), tzname)\n"
            ]
        },
        {
            "cell_type": "markdown",
            "metadata": {},
            "source": []
        },
        {
            "cell_type": "code",
            "execution_count": null,
            "metadata": {},
            "outputs": [],
            "source": [
                "class TruncTime(TruncBase):\n",
                "    kind = \"time\"\n",
                "    lookup_name = \"time\"\n",
                "    output_field = TimeField()\n",
                "\n",
                "    def as_sql(self, compiler, connection):\n",
                "        # Cast to time rather than truncate to time.\n",
                "        sql, params = compiler.compile(self.lhs)\n",
                "        tzname = self.get_tzname()\n",
                "        return connection.ops.datetime_cast_time_sql(sql, tuple(params), tzname)\n"
            ]
        },
        {
            "cell_type": "markdown",
            "metadata": {},
            "source": []
        },
        {
            "cell_type": "code",
            "execution_count": null,
            "metadata": {},
            "outputs": [],
            "source": [
                "class TruncHour(TruncBase):\n",
                "    kind = \"hour\"\n"
            ]
        },
        {
            "cell_type": "markdown",
            "metadata": {},
            "source": []
        },
        {
            "cell_type": "code",
            "execution_count": null,
            "metadata": {},
            "outputs": [],
            "source": [
                "class TruncMinute(TruncBase):\n",
                "    kind = \"minute\"\n"
            ]
        },
        {
            "cell_type": "markdown",
            "metadata": {},
            "source": []
        },
        {
            "cell_type": "code",
            "execution_count": null,
            "metadata": {},
            "outputs": [],
            "source": [
                "class TruncSecond(TruncBase):\n",
                "    kind = \"second\"\n"
            ]
        },
        {
            "cell_type": "markdown",
            "metadata": {},
            "source": []
        },
        {
            "cell_type": "code",
            "execution_count": null,
            "metadata": {},
            "outputs": [],
            "source": [
                "DateTimeField.register_lookup(TruncDate)\n",
                "DateTimeField.register_lookup(TruncTime)\n",
                "\n"
            ]
        },
        {
            "cell_type": "markdown",
            "metadata": {},
            "source": []
        }
    ],
    "metadata": {
        "language_info": {
            "name": "python"
        }
    },
    "nbformat": 4,
    "nbformat_minor": 2
}