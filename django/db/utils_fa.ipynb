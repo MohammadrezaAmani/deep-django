{
    "cells": [
        {
            "cell_type": "code",
            "execution_count": null,
            "metadata": {},
            "outputs": [],
            "source": [
                "import pkgutil\n",
                "from importlib import import_module\n",
                "\n",
                "from django.conf import settings\n",
                "from django.core.exceptions import ImproperlyConfigured\n",
                "\n",
                "# For backwards compatibility with Django < 3.2\n",
                "from django.utils.connection import ConnectionDoesNotExist  # NOQA: F401\n",
                "from django.utils.connection import BaseConnectionHandler\n",
                "from django.utils.functional import cached_property\n",
                "from django.utils.module_loading import import_string\n",
                "\n",
                "DEFAULT_DB_ALIAS = \"default\"\n",
                "DJANGO_VERSION_PICKLE_KEY = \"_django_version\"\n"
            ]
        },
        {
            "cell_type": "markdown",
            "metadata": {},
            "source": []
        },
        {
            "cell_type": "code",
            "execution_count": null,
            "metadata": {},
            "outputs": [],
            "source": [
                "class Error(Exception):\n",
                "    pass\n"
            ]
        },
        {
            "cell_type": "markdown",
            "metadata": {},
            "source": []
        },
        {
            "cell_type": "code",
            "execution_count": null,
            "metadata": {},
            "outputs": [],
            "source": [
                "class InterfaceError(Error):\n",
                "    pass\n"
            ]
        },
        {
            "cell_type": "markdown",
            "metadata": {},
            "source": []
        },
        {
            "cell_type": "code",
            "execution_count": null,
            "metadata": {},
            "outputs": [],
            "source": [
                "class DatabaseError(Error):\n",
                "    pass\n"
            ]
        },
        {
            "cell_type": "markdown",
            "metadata": {},
            "source": []
        },
        {
            "cell_type": "code",
            "execution_count": null,
            "metadata": {},
            "outputs": [],
            "source": [
                "class DataError(DatabaseError):\n",
                "    pass\n"
            ]
        },
        {
            "cell_type": "markdown",
            "metadata": {},
            "source": []
        },
        {
            "cell_type": "code",
            "execution_count": null,
            "metadata": {},
            "outputs": [],
            "source": [
                "class OperationalError(DatabaseError):\n",
                "    pass\n"
            ]
        },
        {
            "cell_type": "markdown",
            "metadata": {},
            "source": []
        },
        {
            "cell_type": "code",
            "execution_count": null,
            "metadata": {},
            "outputs": [],
            "source": [
                "class IntegrityError(DatabaseError):\n",
                "    pass\n"
            ]
        },
        {
            "cell_type": "markdown",
            "metadata": {},
            "source": []
        },
        {
            "cell_type": "code",
            "execution_count": null,
            "metadata": {},
            "outputs": [],
            "source": [
                "class InternalError(DatabaseError):\n",
                "    pass\n"
            ]
        },
        {
            "cell_type": "markdown",
            "metadata": {},
            "source": []
        },
        {
            "cell_type": "code",
            "execution_count": null,
            "metadata": {},
            "outputs": [],
            "source": [
                "class ProgrammingError(DatabaseError):\n",
                "    pass\n"
            ]
        },
        {
            "cell_type": "markdown",
            "metadata": {},
            "source": []
        },
        {
            "cell_type": "code",
            "execution_count": null,
            "metadata": {},
            "outputs": [],
            "source": [
                "class NotSupportedError(DatabaseError):\n",
                "    pass\n"
            ]
        },
        {
            "cell_type": "markdown",
            "metadata": {},
            "source": []
        },
        {
            "cell_type": "code",
            "execution_count": null,
            "metadata": {},
            "outputs": [],
            "source": [
                "class DatabaseErrorWrapper:\n",
                "    \"\"\"\n",
                "    Context manager and decorator that reraises backend-specific database\n",
                "    exceptions using Django's common wrappers.\n",
                "    \"\"\"\n",
                "\n",
                "    def __init__(self, wrapper):\n",
                "        \"\"\"\n",
                "        wrapper is a database wrapper.\n",
                "\n",
                "        It must have a Database attribute defining PEP-249 exceptions.\n",
                "        \"\"\"\n",
                "        self.wrapper = wrapper\n",
                "\n",
                "    def __enter__(self):\n",
                "        pass\n",
                "\n",
                "    def __exit__(self, exc_type, exc_value, traceback):\n",
                "        if exc_type is None:\n",
                "            return\n",
                "        for dj_exc_type in (\n",
                "            DataError,\n",
                "            OperationalError,\n",
                "            IntegrityError,\n",
                "            InternalError,\n",
                "            ProgrammingError,\n",
                "            NotSupportedError,\n",
                "            DatabaseError,\n",
                "            InterfaceError,\n",
                "            Error,\n",
                "        ):\n",
                "            db_exc_type = getattr(self.wrapper.Database, dj_exc_type.__name__)\n",
                "            if issubclass(exc_type, db_exc_type):\n",
                "                dj_exc_value = dj_exc_type(*exc_value.args)\n",
                "                # Only set the 'errors_occurred' flag for errors that may make\n",
                "                # the connection unusable.\n",
                "                if dj_exc_type not in (DataError, IntegrityError):\n",
                "                    self.wrapper.errors_occurred = True\n",
                "                raise dj_exc_value.with_traceback(traceback) from exc_value\n",
                "\n",
                "    def __call__(self, func):\n",
                "        # Note that we are intentionally not using @wraps here for performance\n",
                "        # reasons. Refs #21109.\n",
                "        def inner(*args, **kwargs):\n",
                "            with self:\n",
                "                return func(*args, **kwargs)\n",
                "\n",
                "        return inner\n"
            ]
        },
        {
            "cell_type": "markdown",
            "metadata": {},
            "source": []
        },
        {
            "cell_type": "code",
            "execution_count": null,
            "metadata": {},
            "outputs": [],
            "source": [
                "def load_backend(backend_name):\n",
                "    \"\"\"\n",
                "    Return a database backend's \"base\" module given a fully qualified database\n",
                "    backend name, or raise an error if it doesn't exist.\n",
                "    \"\"\"\n",
                "    # This backend was renamed in Django 1.9.\n",
                "    if backend_name == \"django.db.backends.postgresql_psycopg2\":\n",
                "        backend_name = \"django.db.backends.postgresql\"\n",
                "\n",
                "    try:\n",
                "        return import_module(\"%s.base\" % backend_name)\n",
                "    except ImportError as e_user:\n",
                "        # The database backend wasn't found. Display a helpful error message\n",
                "        # listing all built-in database backends.\n",
                "        import django.db.backends\n",
                "\n",
                "        builtin_backends = [\n",
                "            name\n",
                "            for _, name, ispkg in pkgutil.iter_modules(django.db.backends.__path__)\n",
                "            if ispkg and name not in {\"base\", \"dummy\"}\n",
                "        ]\n",
                "        if backend_name not in [\"django.db.backends.%s\" % b for b in builtin_backends]:\n",
                "            backend_reprs = map(repr, sorted(builtin_backends))\n",
                "            raise ImproperlyConfigured(\n",
                "                \"%r isn't an available database backend or couldn't be \"\n",
                "                \"imported. Check the above exception. To use one of the \"\n",
                "                \"built-in backends, use 'django.db.backends.XXX', where XXX \"\n",
                "                \"is one of:\\n\"\n",
                "                \"    %s\" % (backend_name, \", \".join(backend_reprs))\n",
                "            ) from e_user\n",
                "        else:\n",
                "            # If there's some other error, this must be an error in Django\n",
                "            raise\n"
            ]
        },
        {
            "cell_type": "markdown",
            "metadata": {},
            "source": []
        },
        {
            "cell_type": "code",
            "execution_count": null,
            "metadata": {},
            "outputs": [],
            "source": [
                "class ConnectionHandler(BaseConnectionHandler):\n",
                "    settings_name = \"DATABASES\"\n",
                "    # Connections needs to still be an actual thread local, as it's truly\n",
                "    # thread-critical. Database backends should use @async_unsafe to protect\n",
                "    # their code from async contexts, but this will give those contexts\n",
                "    # separate connections in case it's needed as well. There's no cleanup\n",
                "    # after async contexts, though, so we don't allow that if we can help it.\n",
                "    thread_critical = True\n",
                "\n",
                "    def configure_settings(self, databases):\n",
                "        databases = super().configure_settings(databases)\n",
                "        if databases == {}:\n",
                "            databases[DEFAULT_DB_ALIAS] = {\"ENGINE\": \"django.db.backends.dummy\"}\n",
                "        elif DEFAULT_DB_ALIAS not in databases:\n",
                "            raise ImproperlyConfigured(\n",
                "                f\"You must define a '{DEFAULT_DB_ALIAS}' database.\"\n",
                "            )\n",
                "        elif databases[DEFAULT_DB_ALIAS] == {}:\n",
                "            databases[DEFAULT_DB_ALIAS][\"ENGINE\"] = \"django.db.backends.dummy\"\n",
                "\n",
                "        # Configure default settings.\n",
                "        for conn in databases.values():\n",
                "            conn.setdefault(\"ATOMIC_REQUESTS\", False)\n",
                "            conn.setdefault(\"AUTOCOMMIT\", True)\n",
                "            conn.setdefault(\"ENGINE\", \"django.db.backends.dummy\")\n",
                "            if conn[\"ENGINE\"] == \"django.db.backends.\" or not conn[\"ENGINE\"]:\n",
                "                conn[\"ENGINE\"] = \"django.db.backends.dummy\"\n",
                "            conn.setdefault(\"CONN_MAX_AGE\", 0)\n",
                "            conn.setdefault(\"CONN_HEALTH_CHECKS\", False)\n",
                "            conn.setdefault(\"OPTIONS\", {})\n",
                "            conn.setdefault(\"TIME_ZONE\", None)\n",
                "            for setting in [\"NAME\", \"USER\", \"PASSWORD\", \"HOST\", \"PORT\"]:\n",
                "                conn.setdefault(setting, \"\")\n",
                "\n",
                "            test_settings = conn.setdefault(\"TEST\", {})\n",
                "            default_test_settings = [\n",
                "                (\"CHARSET\", None),\n",
                "                (\"COLLATION\", None),\n",
                "                (\"MIGRATE\", True),\n",
                "                (\"MIRROR\", None),\n",
                "                (\"NAME\", None),\n",
                "            ]\n",
                "            for key, value in default_test_settings:\n",
                "                test_settings.setdefault(key, value)\n",
                "        return databases\n",
                "\n",
                "    @property\n",
                "    def databases(self):\n",
                "        # Maintained for backward compatibility as some 3rd party packages have\n",
                "        # made use of this private API in the past. It is no longer used within\n",
                "        # Django itself.\n",
                "        return self.settings\n",
                "\n",
                "    def create_connection(self, alias):\n",
                "        db = self.settings[alias]\n",
                "        backend = load_backend(db[\"ENGINE\"])\n",
                "        return backend.DatabaseWrapper(db, alias)\n"
            ]
        },
        {
            "cell_type": "markdown",
            "metadata": {},
            "source": []
        },
        {
            "cell_type": "code",
            "execution_count": null,
            "metadata": {},
            "outputs": [],
            "source": [
                "class ConnectionRouter:\n",
                "    def __init__(self, routers=None):\n",
                "        \"\"\"\n",
                "        If routers is not specified, default to settings.DATABASE_ROUTERS.\n",
                "        \"\"\"\n",
                "        self._routers = routers\n",
                "\n",
                "    @cached_property\n",
                "    def routers(self):\n",
                "        if self._routers is None:\n",
                "            self._routers = settings.DATABASE_ROUTERS\n",
                "        routers = []\n",
                "        for r in self._routers:\n",
                "            if isinstance(r, str):\n",
                "                router = import_string(r)()\n",
                "            else:\n",
                "                router = r\n",
                "            routers.append(router)\n",
                "        return routers\n",
                "\n",
                "    def _router_func(action):\n",
                "        def _route_db(self, model, **hints):\n",
                "            chosen_db = None\n",
                "            for router in self.routers:\n",
                "                try:\n",
                "                    method = getattr(router, action)\n",
                "                except AttributeError:\n",
                "                    # If the router doesn't have a method, skip to the next one.\n",
                "                    pass\n",
                "                else:\n",
                "                    chosen_db = method(model, **hints)\n",
                "                    if chosen_db:\n",
                "                        return chosen_db\n",
                "            instance = hints.get(\"instance\")\n",
                "            if instance is not None and instance._state.db:\n",
                "                return instance._state.db\n",
                "            return DEFAULT_DB_ALIAS\n",
                "\n",
                "        return _route_db\n",
                "\n",
                "    db_for_read = _router_func(\"db_for_read\")\n",
                "    db_for_write = _router_func(\"db_for_write\")\n",
                "\n",
                "    def allow_relation(self, obj1, obj2, **hints):\n",
                "        for router in self.routers:\n",
                "            try:\n",
                "                method = router.allow_relation\n",
                "            except AttributeError:\n",
                "                # If the router doesn't have a method, skip to the next one.\n",
                "                pass\n",
                "            else:\n",
                "                allow = method(obj1, obj2, **hints)\n",
                "                if allow is not None:\n",
                "                    return allow\n",
                "        return obj1._state.db == obj2._state.db\n",
                "\n",
                "    def allow_migrate(self, db, app_label, **hints):\n",
                "        for router in self.routers:\n",
                "            try:\n",
                "                method = router.allow_migrate\n",
                "            except AttributeError:\n",
                "                # If the router doesn't have a method, skip to the next one.\n",
                "                continue\n",
                "\n",
                "            allow = method(db, app_label, **hints)\n",
                "\n",
                "            if allow is not None:\n",
                "                return allow\n",
                "        return True\n",
                "\n",
                "    def allow_migrate_model(self, db, model):\n",
                "        return self.allow_migrate(\n",
                "            db,\n",
                "            model._meta.app_label,\n",
                "            model_name=model._meta.model_name,\n",
                "            model=model,\n",
                "        )\n",
                "\n",
                "    def get_migratable_models(self, app_config, db, include_auto_created=False):\n",
                "        \"\"\"Return app models allowed to be migrated on provided db.\"\"\"\n",
                "        models = app_config.get_models(include_auto_created=include_auto_created)\n",
                "        return [model for model in models if self.allow_migrate_model(db, model)]\n",
                "\n"
            ]
        },
        {
            "cell_type": "markdown",
            "metadata": {},
            "source": []
        }
    ],
    "metadata": {
        "language_info": {
            "name": "python"
        }
    },
    "nbformat": 4,
    "nbformat_minor": 2
}