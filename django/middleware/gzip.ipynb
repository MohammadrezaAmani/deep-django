{
 "cells": [
  {
   "cell_type": "code",
   "execution_count": null,
   "metadata": {},
   "outputs": [],
   "source": [
    "from django.utils.cache import patch_vary_headers\n",
    "from django.utils.deprecation import MiddlewareMixin\n",
    "from django.utils.regex_helper import _lazy_re_compile\n",
    "from django.utils.text import compress_sequence, compress_string\n",
    "\n",
    "re_accepts_gzip = _lazy_re_compile(r\"\\bgzip\\b\")"
   ]
  },
  {
   "cell_type": "markdown",
   "metadata": {},
   "source": []
  },
  {
   "cell_type": "code",
   "execution_count": null,
   "metadata": {},
   "outputs": [],
   "source": [
    "class GZipMiddleware(MiddlewareMixin):\n",
    "    \"\"\"\n",
    "    Compress content if the browser allows gzip compression.\n",
    "    Set the Vary header accordingly, so that caches will base their storage\n",
    "    on the Accept-Encoding header.\n",
    "    \"\"\"\n",
    "\n",
    "    max_random_bytes = 100\n",
    "\n",
    "    def process_response(self, request, response):\n",
    "        # It's not worth attempting to compress really short responses.\n",
    "        if not response.streaming and len(response.content) < 200:\n",
    "            return response\n",
    "\n",
    "        # Avoid gzipping if we've already got a content-encoding.\n",
    "        if response.has_header(\"Content-Encoding\"):\n",
    "            return response\n",
    "\n",
    "        patch_vary_headers(response, (\"Accept-Encoding\",))\n",
    "\n",
    "        ae = request.META.get(\"HTTP_ACCEPT_ENCODING\", \"\")\n",
    "        if not re_accepts_gzip.search(ae):\n",
    "            return response\n",
    "\n",
    "        if response.streaming:\n",
    "            if response.is_async:\n",
    "                # pull to lexical scope to capture fixed reference in case\n",
    "                # streaming_content is set again later.\n",
    "                orignal_iterator = response.streaming_content\n",
    "\n",
    "                async def gzip_wrapper():\n",
    "                    async for chunk in orignal_iterator:\n",
    "                        yield compress_string(\n",
    "                            chunk,\n",
    "                            max_random_bytes=self.max_random_bytes,\n",
    "                        )\n",
    "\n",
    "                response.streaming_content = gzip_wrapper()\n",
    "            else:\n",
    "                response.streaming_content = compress_sequence(\n",
    "                    response.streaming_content,\n",
    "                    max_random_bytes=self.max_random_bytes,\n",
    "                )\n",
    "            # Delete the `Content-Length` header for streaming content, because\n",
    "            # we won't know the compressed size until we stream it.\n",
    "            del response.headers[\"Content-Length\"]\n",
    "        else:\n",
    "            # Return the compressed content only if it's actually shorter.\n",
    "            compressed_content = compress_string(\n",
    "                response.content,\n",
    "                max_random_bytes=self.max_random_bytes,\n",
    "            )\n",
    "            if len(compressed_content) >= len(response.content):\n",
    "                return response\n",
    "            response.content = compressed_content\n",
    "            response.headers[\"Content-Length\"] = str(len(response.content))\n",
    "\n",
    "        # If there is a strong ETag, make it weak to fulfill the requirements\n",
    "        # of RFC 9110 Section 8.8.1 while also allowing conditional request\n",
    "        # matches on ETags.\n",
    "        etag = response.get(\"ETag\")\n",
    "        if etag and etag.startswith('\"'):\n",
    "            response.headers[\"ETag\"] = \"W/\" + etag\n",
    "        response.headers[\"Content-Encoding\"] = \"gzip\"\n",
    "\n",
    "        return response"
   ]
  },
  {
   "cell_type": "markdown",
   "metadata": {},
   "source": []
  }
 ],
 "metadata": {
  "language_info": {
   "name": "python"
  }
 },
 "nbformat": 4,
 "nbformat_minor": 2
}