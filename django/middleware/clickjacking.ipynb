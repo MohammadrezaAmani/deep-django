{
 "cells": [
  {
   "cell_type": "code",
   "execution_count": null,
   "metadata": {},
   "outputs": [],
   "source": [
    "\"\"\"\n",
    "Clickjacking Protection Middleware.\n",
    "\n",
    "This module provides a middleware that implements protection against a\n",
    "malicious site loading resources from your site in a hidden frame.\n",
    "\"\"\"\n",
    "\n",
    "from django.conf import settings\n",
    "from django.utils.deprecation import MiddlewareMixin"
   ]
  },
  {
   "cell_type": "markdown",
   "metadata": {},
   "source": []
  },
  {
   "cell_type": "code",
   "execution_count": null,
   "metadata": {},
   "outputs": [],
   "source": [
    "class XFrameOptionsMiddleware(MiddlewareMixin):\n",
    "    \"\"\"\n",
    "    Set the X-Frame-Options HTTP header in HTTP responses.\n",
    "\n",
    "    Do not set the header if it's already set or if the response contains\n",
    "    a xframe_options_exempt value set to True.\n",
    "\n",
    "    By default, set the X-Frame-Options header to 'DENY', meaning the response\n",
    "    cannot be displayed in a frame, regardless of the site attempting to do so.\n",
    "    To enable the response to be loaded on a frame within the same site, set\n",
    "    X_FRAME_OPTIONS in your project's Django settings to 'SAMEORIGIN'.\n",
    "    \"\"\"\n",
    "\n",
    "    def process_response(self, request, response):\n",
    "        # Don't set it if it's already in the response\n",
    "        if response.get(\"X-Frame-Options\") is not None:\n",
    "            return response\n",
    "\n",
    "        # Don't set it if they used @xframe_options_exempt\n",
    "        if getattr(response, \"xframe_options_exempt\", False):\n",
    "            return response\n",
    "\n",
    "        response.headers[\"X-Frame-Options\"] = self.get_xframe_options_value(\n",
    "            request,\n",
    "            response,\n",
    "        )\n",
    "        return response\n",
    "\n",
    "    def get_xframe_options_value(self, request, response):\n",
    "        \"\"\"\n",
    "        Get the value to set for the X_FRAME_OPTIONS header. Use the value from\n",
    "        the X_FRAME_OPTIONS setting, or 'DENY' if not set.\n",
    "\n",
    "        This method can be overridden if needed, allowing it to vary based on\n",
    "        the request or response.\n",
    "        \"\"\"\n",
    "        return getattr(settings, \"X_FRAME_OPTIONS\", \"DENY\").upper()"
   ]
  },
  {
   "cell_type": "markdown",
   "metadata": {},
   "source": []
  }
 ],
 "metadata": {
  "language_info": {
   "name": "python"
  }
 },
 "nbformat": 4,
 "nbformat_minor": 2
}