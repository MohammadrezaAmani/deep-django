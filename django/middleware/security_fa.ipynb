{
 "cells": [
  {
   "cell_type": "code",
   "execution_count": null,
   "metadata": {},
   "outputs": [],
   "source": [
    "import re\n",
    "\n",
    "from django.conf import settings\n",
    "from django.http import HttpResponsePermanentRedirect\n",
    "from django.utils.deprecation import MiddlewareMixin"
   ]
  },
  {
   "cell_type": "markdown",
   "metadata": {},
   "source": []
  },
  {
   "cell_type": "code",
   "execution_count": null,
   "metadata": {},
   "outputs": [],
   "source": [
    "class SecurityMiddleware(MiddlewareMixin):\n",
    "    def __init__(self, get_response):\n",
    "        super().__init__(get_response)\n",
    "        self.sts_seconds = settings.SECURE_HSTS_SECONDS\n",
    "        self.sts_include_subdomains = settings.SECURE_HSTS_INCLUDE_SUBDOMAINS\n",
    "        self.sts_preload = settings.SECURE_HSTS_PRELOAD\n",
    "        self.content_type_nosniff = settings.SECURE_CONTENT_TYPE_NOSNIFF\n",
    "        self.redirect = settings.SECURE_SSL_REDIRECT\n",
    "        self.redirect_host = settings.SECURE_SSL_HOST\n",
    "        self.redirect_exempt = [re.compile(r) for r in settings.SECURE_REDIRECT_EXEMPT]\n",
    "        self.referrer_policy = settings.SECURE_REFERRER_POLICY\n",
    "        self.cross_origin_opener_policy = settings.SECURE_CROSS_ORIGIN_OPENER_POLICY\n",
    "\n",
    "    def process_request(self, request):\n",
    "        path = request.path.lstrip(\"/\")\n",
    "        if (\n",
    "            self.redirect\n",
    "            and not request.is_secure()\n",
    "            and not any(pattern.search(path) for pattern in self.redirect_exempt)\n",
    "        ):\n",
    "            host = self.redirect_host or request.get_host()\n",
    "            return HttpResponsePermanentRedirect(\n",
    "                \"https://%s%s\" % (host, request.get_full_path())\n",
    "            )\n",
    "\n",
    "    def process_response(self, request, response):\n",
    "        if (\n",
    "            self.sts_seconds\n",
    "            and request.is_secure()\n",
    "            and \"Strict-Transport-Security\" not in response\n",
    "        ):\n",
    "            sts_header = \"max-age=%s\" % self.sts_seconds\n",
    "            if self.sts_include_subdomains:\n",
    "                sts_header += \"; includeSubDomains\"\n",
    "            if self.sts_preload:\n",
    "                sts_header += \"; preload\"\n",
    "            response.headers[\"Strict-Transport-Security\"] = sts_header\n",
    "\n",
    "        if self.content_type_nosniff:\n",
    "            response.headers.setdefault(\"X-Content-Type-Options\", \"nosniff\")\n",
    "\n",
    "        if self.referrer_policy:\n",
    "            # Support a comma-separated string or iterable of values to allow\n",
    "            # fallback.\n",
    "            response.headers.setdefault(\n",
    "                \"Referrer-Policy\",\n",
    "                \",\".join(\n",
    "                    [v.strip() for v in self.referrer_policy.split(\",\")]\n",
    "                    if isinstance(self.referrer_policy, str)\n",
    "                    else self.referrer_policy\n",
    "                ),\n",
    "            )\n",
    "\n",
    "        if self.cross_origin_opener_policy:\n",
    "            response.setdefault(\n",
    "                \"Cross-Origin-Opener-Policy\",\n",
    "                self.cross_origin_opener_policy,\n",
    "            )\n",
    "        return response"
   ]
  },
  {
   "cell_type": "markdown",
   "metadata": {},
   "source": []
  }
 ],
 "metadata": {
  "language_info": {
   "name": "python"
  }
 },
 "nbformat": 4,
 "nbformat_minor": 2
}