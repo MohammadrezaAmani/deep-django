{
    "cells": [
        {
            "cell_type": "code",
            "execution_count": null,
            "metadata": {},
            "outputs": [],
            "source": [
                "from django.utils.cache import cc_delim_re, get_conditional_response, set_response_etag\n",
                "from django.utils.deprecation import MiddlewareMixin\n",
                "from django.utils.http import parse_http_date_safe\n"
            ]
        },
        {
            "cell_type": "markdown",
            "metadata": {},
            "source": []
        },
        {
            "cell_type": "code",
            "execution_count": null,
            "metadata": {},
            "outputs": [],
            "source": [
                "class ConditionalGetMiddleware(MiddlewareMixin):\n",
                "    \"\"\"\n",
                "    Handle conditional GET operations. If the response has an ETag or\n",
                "    Last-Modified header and the request has If-None-Match or If-Modified-Since,\n",
                "    replace the response with HttpNotModified. Add an ETag header if needed.\n",
                "    \"\"\"\n",
                "\n",
                "    def process_response(self, request, response):\n",
                "        # It's too late to prevent an unsafe request with a 412 response, and\n",
                "        # for a HEAD request, the response body is always empty so computing\n",
                "        # an accurate ETag isn't possible.\n",
                "        if request.method != \"GET\":\n",
                "            return response\n",
                "\n",
                "        if self.needs_etag(response) and not response.has_header(\"ETag\"):\n",
                "            set_response_etag(response)\n",
                "\n",
                "        etag = response.get(\"ETag\")\n",
                "        last_modified = response.get(\"Last-Modified\")\n",
                "        last_modified = last_modified and parse_http_date_safe(last_modified)\n",
                "\n",
                "        if etag or last_modified:\n",
                "            return get_conditional_response(\n",
                "                request,\n",
                "                etag=etag,\n",
                "                last_modified=last_modified,\n",
                "                response=response,\n",
                "            )\n",
                "\n",
                "        return response\n",
                "\n",
                "    def needs_etag(self, response):\n",
                "        \"\"\"Return True if an ETag header should be added to response.\"\"\"\n",
                "        cache_control_headers = cc_delim_re.split(response.get(\"Cache-Control\", \"\"))\n",
                "        return all(header.lower() != \"no-store\" for header in cache_control_headers)\n",
                "\n"
            ]
        },
        {
            "cell_type": "markdown",
            "metadata": {},
            "source": []
        }
    ],
    "metadata": {
        "language_info": {
            "name": "python"
        }
    },
    "nbformat": 4,
    "nbformat_minor": 2
}