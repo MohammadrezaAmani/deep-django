{
 "cells": [
  {
   "cell_type": "code",
   "execution_count": null,
   "metadata": {},
   "outputs": [],
   "source": [
    "from django.db import migrations, models"
   ]
  },
  {
   "cell_type": "markdown",
   "metadata": {},
   "source": []
  },
  {
   "cell_type": "code",
   "execution_count": null,
   "metadata": {},
   "outputs": [],
   "source": [
    "class Migration(migrations.Migration):\n",
    "    dependencies = [\n",
    "        (\"sites\", \"0001_initial\"),\n",
    "    ]\n",
    "\n",
    "    operations = [\n",
    "        migrations.CreateModel(\n",
    "            name=\"FlatPage\",\n",
    "            fields=[\n",
    "                (\n",
    "                    \"id\",\n",
    "                    models.AutoField(\n",
    "                        verbose_name=\"ID\",\n",
    "                        serialize=False,\n",
    "                        auto_created=True,\n",
    "                        primary_key=True,\n",
    "                    ),\n",
    "                ),\n",
    "                (\n",
    "                    \"url\",\n",
    "                    models.CharField(max_length=100, verbose_name=\"URL\", db_index=True),\n",
    "                ),\n",
    "                (\"title\", models.CharField(max_length=200, verbose_name=\"title\")),\n",
    "                (\"content\", models.TextField(verbose_name=\"content\", blank=True)),\n",
    "                (\n",
    "                    \"enable_comments\",\n",
    "                    models.BooleanField(default=False, verbose_name=\"enable comments\"),\n",
    "                ),\n",
    "                (\n",
    "                    \"template_name\",\n",
    "                    models.CharField(\n",
    "                        help_text=(\n",
    "                            \"Example: “flatpages/contact_page.html”. If this isn’t \"\n",
    "                            \"provided, the system will use “flatpages/default.html”.\"\n",
    "                        ),\n",
    "                        max_length=70,\n",
    "                        verbose_name=\"template name\",\n",
    "                        blank=True,\n",
    "                    ),\n",
    "                ),\n",
    "                (\n",
    "                    \"registration_required\",\n",
    "                    models.BooleanField(\n",
    "                        default=False,\n",
    "                        help_text=(\n",
    "                            \"If this is checked, only logged-in users will be able to \"\n",
    "                            \"view the page.\"\n",
    "                        ),\n",
    "                        verbose_name=\"registration required\",\n",
    "                    ),\n",
    "                ),\n",
    "                (\n",
    "                    \"sites\",\n",
    "                    models.ManyToManyField(to=\"sites.Site\", verbose_name=\"sites\"),\n",
    "                ),\n",
    "            ],\n",
    "            options={\n",
    "                \"ordering\": [\"url\"],\n",
    "                \"db_table\": \"django_flatpage\",\n",
    "                \"verbose_name\": \"flat page\",\n",
    "                \"verbose_name_plural\": \"flat pages\",\n",
    "            },\n",
    "            bases=(models.Model,),\n",
    "        ),\n",
    "    ]"
   ]
  },
  {
   "cell_type": "markdown",
   "metadata": {},
   "source": []
  }
 ],
 "metadata": {
  "language_info": {
   "name": "python"
  }
 },
 "nbformat": 4,
 "nbformat_minor": 2
}