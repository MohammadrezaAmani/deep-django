{
 "cells": [
  {
   "cell_type": "code",
   "execution_count": null,
   "metadata": {},
   "outputs": [],
   "source": [
    "from django.contrib import admin\n",
    "from django.contrib.flatpages.forms import FlatpageForm\n",
    "from django.contrib.flatpages.models import FlatPage\n",
    "from django.utils.translation import gettext_lazy as _"
   ]
  },
  {
   "cell_type": "markdown",
   "metadata": {},
   "source": []
  },
  {
   "cell_type": "code",
   "execution_count": null,
   "metadata": {},
   "outputs": [],
   "source": [
    "@admin.register(FlatPage)\n",
    "class FlatPageAdmin(admin.ModelAdmin):\n",
    "    form = FlatpageForm\n",
    "    fieldsets = (\n",
    "        (None, {\"fields\": (\"url\", \"title\", \"content\", \"sites\")}),\n",
    "        (\n",
    "            _(\"Advanced options\"),\n",
    "            {\n",
    "                \"classes\": (\"collapse\",),\n",
    "                \"fields\": (\"registration_required\", \"template_name\"),\n",
    "            },\n",
    "        ),\n",
    "    )\n",
    "    list_display = (\"url\", \"title\")\n",
    "    list_filter = (\"sites\", \"registration_required\")\n",
    "    search_fields = (\"url\", \"title\")"
   ]
  },
  {
   "cell_type": "markdown",
   "metadata": {},
   "source": []
  }
 ],
 "metadata": {
  "language_info": {
   "name": "python"
  }
 },
 "nbformat": 4,
 "nbformat_minor": 2
}