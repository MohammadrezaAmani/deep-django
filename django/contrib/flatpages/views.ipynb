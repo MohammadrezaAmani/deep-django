{
    "cells": [
        {
            "cell_type": "code",
            "execution_count": null,
            "metadata": {},
            "outputs": [],
            "source": [
                "from django.conf import settings\n",
                "from django.contrib.flatpages.models import FlatPage\n",
                "from django.contrib.sites.shortcuts import get_current_site\n",
                "from django.http import Http404, HttpResponse, HttpResponsePermanentRedirect\n",
                "from django.shortcuts import get_object_or_404\n",
                "from django.template import loader\n",
                "from django.utils.safestring import mark_safe\n",
                "from django.views.decorators.csrf import csrf_protect\n",
                "\n",
                "DEFAULT_TEMPLATE = \"flatpages/default.html\"\n",
                "\n",
                "# This view is called from FlatpageFallbackMiddleware.process_response\n",
                "# when a 404 is raised, which often means CsrfViewMiddleware.process_view\n",
                "# has not been called even if CsrfViewMiddleware is installed. So we need\n",
                "# to use @csrf_protect, in case the template needs {% csrf_token %}.\n",
                "# However, we can't just wrap this view; if no matching flatpage exists,\n",
                "# or a redirect is required for authentication, the 404 needs to be returned\n",
                "# without any CSRF checks. Therefore, we only\n",
                "# CSRF protect the internal implementation.\n"
            ]
        },
        {
            "cell_type": "markdown",
            "metadata": {},
            "source": []
        },
        {
            "cell_type": "code",
            "execution_count": null,
            "metadata": {},
            "outputs": [],
            "source": [
                "def flatpage(request, url):\n",
                "    \"\"\"\n",
                "    Public interface to the flat page view.\n",
                "\n",
                "    Models: `flatpages.flatpages`\n",
                "    Templates: Uses the template defined by the ``template_name`` field,\n",
                "        or :template:`flatpages/default.html` if template_name is not defined.\n",
                "    Context:\n",
                "        flatpage\n",
                "            `flatpages.flatpages` object\n",
                "    \"\"\"\n",
                "    if not url.startswith(\"/\"):\n",
                "        url = \"/\" + url\n",
                "    site_id = get_current_site(request).id\n",
                "    try:\n",
                "        f = get_object_or_404(FlatPage, url=url, sites=site_id)\n",
                "    except Http404:\n",
                "        if not url.endswith(\"/\") and settings.APPEND_SLASH:\n",
                "            url += \"/\"\n",
                "            f = get_object_or_404(FlatPage, url=url, sites=site_id)\n",
                "            return HttpResponsePermanentRedirect(\"%s/\" % request.path)\n",
                "        else:\n",
                "            raise\n",
                "    return render_flatpage(request, f)\n"
            ]
        },
        {
            "cell_type": "markdown",
            "metadata": {},
            "source": []
        },
        {
            "cell_type": "code",
            "execution_count": null,
            "metadata": {},
            "outputs": [],
            "source": [
                "@csrf_protect\n",
                "def render_flatpage(request, f):\n",
                "    \"\"\"\n",
                "    Internal interface to the flat page view.\n",
                "    \"\"\"\n",
                "    # If registration is required for accessing this page, and the user isn't\n",
                "    # logged in, redirect to the login page.\n",
                "    if f.registration_required and not request.user.is_authenticated:\n",
                "        from django.contrib.auth.views import redirect_to_login\n",
                "\n",
                "        return redirect_to_login(request.path)\n",
                "    if f.template_name:\n",
                "        template = loader.select_template((f.template_name, DEFAULT_TEMPLATE))\n",
                "    else:\n",
                "        template = loader.get_template(DEFAULT_TEMPLATE)\n",
                "\n",
                "    # To avoid having to always use the \"|safe\" filter in flatpage templates,\n",
                "    # mark the title and content as already safe (since they are raw HTML\n",
                "    # content in the first place).\n",
                "    f.title = mark_safe(f.title)\n",
                "    f.content = mark_safe(f.content)\n",
                "\n",
                "    return HttpResponse(template.render({\"flatpage\": f}, request))\n",
                "\n"
            ]
        },
        {
            "cell_type": "markdown",
            "metadata": {},
            "source": []
        }
    ],
    "metadata": {
        "language_info": {
            "name": "python"
        }
    },
    "nbformat": 4,
    "nbformat_minor": 2
}