{
    "cells": [
        {
            "cell_type": "code",
            "execution_count": null,
            "metadata": {},
            "outputs": [],
            "source": [
                "from django.contrib.sites.models import Site\n",
                "from django.db import models\n",
                "from django.urls import NoReverseMatch, get_script_prefix, reverse\n",
                "from django.utils.encoding import iri_to_uri\n",
                "from django.utils.translation import gettext_lazy as _\n"
            ]
        },
        {
            "cell_type": "markdown",
            "metadata": {},
            "source": []
        },
        {
            "cell_type": "code",
            "execution_count": null,
            "metadata": {},
            "outputs": [],
            "source": [
                "class FlatPage(models.Model):\n",
                "    url = models.CharField(_(\"URL\"), max_length=100, db_index=True)\n",
                "    title = models.CharField(_(\"title\"), max_length=200)\n",
                "    content = models.TextField(_(\"content\"), blank=True)\n",
                "    enable_comments = models.BooleanField(_(\"enable comments\"), default=False)\n",
                "    template_name = models.CharField(\n",
                "        _(\"template name\"),\n",
                "        max_length=70,\n",
                "        blank=True,\n",
                "        help_text=_(\n",
                "            \"Example: \u201cflatpages/contact_page.html\u201d. If this isn\u2019t provided, \"\n",
                "            \"the system will use \u201cflatpages/default.html\u201d.\"\n",
                "        ),\n",
                "    )\n",
                "    registration_required = models.BooleanField(\n",
                "        _(\"registration required\"),\n",
                "        help_text=_(\n",
                "            \"If this is checked, only logged-in users will be able to view the page.\"\n",
                "        ),\n",
                "        default=False,\n",
                "    )\n",
                "    sites = models.ManyToManyField(Site, verbose_name=_(\"sites\"))\n",
                "\n",
                "    class Meta:\n",
                "        db_table = \"django_flatpage\"\n",
                "        verbose_name = _(\"flat page\")\n",
                "        verbose_name_plural = _(\"flat pages\")\n",
                "        ordering = [\"url\"]\n",
                "\n",
                "    def __str__(self):\n",
                "        return \"%s -- %s\" % (self.url, self.title)\n",
                "\n",
                "    def get_absolute_url(self):\n",
                "        from .views import flatpage\n",
                "\n",
                "        for url in (self.url.lstrip(\"/\"), self.url):\n",
                "            try:\n",
                "                return reverse(flatpage, kwargs={\"url\": url})\n",
                "            except NoReverseMatch:\n",
                "                pass\n",
                "        # Handle script prefix manually because we bypass reverse()\n",
                "        return iri_to_uri(get_script_prefix().rstrip(\"/\") + self.url)\n",
                "\n"
            ]
        },
        {
            "cell_type": "markdown",
            "metadata": {},
            "source": []
        }
    ],
    "metadata": {
        "language_info": {
            "name": "python"
        }
    },
    "nbformat": 4,
    "nbformat_minor": 2
}