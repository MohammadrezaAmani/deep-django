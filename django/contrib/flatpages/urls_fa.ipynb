{
 "cells": [
  {
   "cell_type": "code",
   "execution_count": null,
   "metadata": {},
   "outputs": [],
   "source": [
    "from django.contrib.flatpages import views\n",
    "from django.urls import path\n",
    "\n",
    "urlpatterns = [\n",
    "    path(\"<path:url>\", views.flatpage, name=\"django.contrib.flatpages.views.flatpage\"),\n",
    "]"
   ]
  },
  {
   "cell_type": "markdown",
   "metadata": {},
   "source": []
  }
 ],
 "metadata": {
  "language_info": {
   "name": "python"
  }
 },
 "nbformat": 4,
 "nbformat_minor": 2
}