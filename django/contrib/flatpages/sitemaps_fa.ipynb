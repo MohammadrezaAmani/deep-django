{
 "cells": [
  {
   "cell_type": "code",
   "execution_count": null,
   "metadata": {},
   "outputs": [],
   "source": [
    "from django.apps import apps as django_apps\n",
    "from django.contrib.sitemaps import Sitemap\n",
    "from django.core.exceptions import ImproperlyConfigured"
   ]
  },
  {
   "cell_type": "markdown",
   "metadata": {},
   "source": []
  },
  {
   "cell_type": "code",
   "execution_count": null,
   "metadata": {},
   "outputs": [],
   "source": [
    "class FlatPageSitemap(Sitemap):\n",
    "    def items(self):\n",
    "        if not django_apps.is_installed(\"django.contrib.sites\"):\n",
    "            raise ImproperlyConfigured(\n",
    "                \"FlatPageSitemap requires django.contrib.sites, which isn't installed.\"\n",
    "            )\n",
    "        Site = django_apps.get_model(\"sites.Site\")\n",
    "        current_site = Site.objects.get_current()\n",
    "        return current_site.flatpage_set.filter(registration_required=False)"
   ]
  },
  {
   "cell_type": "markdown",
   "metadata": {},
   "source": []
  }
 ],
 "metadata": {
  "language_info": {
   "name": "python"
  }
 },
 "nbformat": 4,
 "nbformat_minor": 2
}