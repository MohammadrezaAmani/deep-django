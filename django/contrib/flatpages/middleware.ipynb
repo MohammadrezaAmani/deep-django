{
 "cells": [
  {
   "cell_type": "code",
   "execution_count": null,
   "metadata": {},
   "outputs": [],
   "source": [
    "from django.conf import settings\n",
    "from django.contrib.flatpages.views import flatpage\n",
    "from django.http import Http404\n",
    "from django.utils.deprecation import MiddlewareMixin"
   ]
  },
  {
   "cell_type": "markdown",
   "metadata": {},
   "source": []
  },
  {
   "cell_type": "code",
   "execution_count": null,
   "metadata": {},
   "outputs": [],
   "source": [
    "class FlatpageFallbackMiddleware(MiddlewareMixin):\n",
    "    def process_response(self, request, response):\n",
    "        if response.status_code != 404:\n",
    "            return response  # No need to check for a flatpage for non-404 responses.\n",
    "        try:\n",
    "            return flatpage(request, request.path_info)\n",
    "        # Return the original response if any errors happened. Because this\n",
    "        # is a middleware, we can't assume the errors will be caught elsewhere.\n",
    "        except Http404:\n",
    "            return response\n",
    "        except Exception:\n",
    "            if settings.DEBUG:\n",
    "                raise\n",
    "            return response"
   ]
  },
  {
   "cell_type": "markdown",
   "metadata": {},
   "source": []
  }
 ],
 "metadata": {
  "language_info": {
   "name": "python"
  }
 },
 "nbformat": 4,
 "nbformat_minor": 2
}