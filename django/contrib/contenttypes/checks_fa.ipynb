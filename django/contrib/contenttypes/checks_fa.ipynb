{
    "cells": [
        {
            "cell_type": "code",
            "execution_count": null,
            "metadata": {},
            "outputs": [],
            "source": [
                "from itertools import chain\n",
                "\n",
                "from django.apps import apps\n",
                "from django.core.checks import Error\n"
            ]
        },
        {
            "cell_type": "markdown",
            "metadata": {},
            "source": []
        },
        {
            "cell_type": "code",
            "execution_count": null,
            "metadata": {},
            "outputs": [],
            "source": [
                "def check_generic_foreign_keys(app_configs=None, **kwargs):\n",
                "    from .fields import GenericForeignKey\n",
                "\n",
                "    if app_configs is None:\n",
                "        models = apps.get_models()\n",
                "    else:\n",
                "        models = chain.from_iterable(\n",
                "            app_config.get_models() for app_config in app_configs\n",
                "        )\n",
                "    errors = []\n",
                "    fields = (\n",
                "        obj\n",
                "        for model in models\n",
                "        for obj in vars(model).values()\n",
                "        if isinstance(obj, GenericForeignKey)\n",
                "    )\n",
                "    for field in fields:\n",
                "        errors.extend(field.check())\n",
                "    return errors\n"
            ]
        },
        {
            "cell_type": "markdown",
            "metadata": {},
            "source": []
        },
        {
            "cell_type": "code",
            "execution_count": null,
            "metadata": {},
            "outputs": [],
            "source": [
                "def check_model_name_lengths(app_configs=None, **kwargs):\n",
                "    if app_configs is None:\n",
                "        models = apps.get_models()\n",
                "    else:\n",
                "        models = chain.from_iterable(\n",
                "            app_config.get_models() for app_config in app_configs\n",
                "        )\n",
                "    errors = []\n",
                "    for model in models:\n",
                "        if len(model._meta.model_name) > 100:\n",
                "            errors.append(\n",
                "                Error(\n",
                "                    \"Model names must be at most 100 characters (got %d).\"\n",
                "                    % (len(model._meta.model_name),),\n",
                "                    obj=model,\n",
                "                    id=\"contenttypes.E005\",\n",
                "                )\n",
                "            )\n",
                "    return errors\n",
                "\n"
            ]
        },
        {
            "cell_type": "markdown",
            "metadata": {},
            "source": []
        }
    ],
    "metadata": {
        "language_info": {
            "name": "python"
        }
    },
    "nbformat": 4,
    "nbformat_minor": 2
}