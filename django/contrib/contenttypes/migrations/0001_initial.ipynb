{
    "cells": [
        {
            "cell_type": "code",
            "execution_count": null,
            "metadata": {},
            "outputs": [],
            "source": [
                "import django.contrib.contenttypes.models\n",
                "from django.db import migrations, models\n"
            ]
        },
        {
            "cell_type": "markdown",
            "metadata": {},
            "source": []
        },
        {
            "cell_type": "code",
            "execution_count": null,
            "metadata": {},
            "outputs": [],
            "source": [
                "class Migration(migrations.Migration):\n",
                "    dependencies = []\n",
                "\n",
                "    operations = [\n",
                "        migrations.CreateModel(\n",
                "            name=\"ContentType\",\n",
                "            fields=[\n",
                "                (\n",
                "                    \"id\",\n",
                "                    models.AutoField(\n",
                "                        verbose_name=\"ID\",\n",
                "                        serialize=False,\n",
                "                        auto_created=True,\n",
                "                        primary_key=True,\n",
                "                    ),\n",
                "                ),\n",
                "                (\"name\", models.CharField(max_length=100)),\n",
                "                (\"app_label\", models.CharField(max_length=100)),\n",
                "                (\n",
                "                    \"model\",\n",
                "                    models.CharField(\n",
                "                        max_length=100, verbose_name=\"python model class name\"\n",
                "                    ),\n",
                "                ),\n",
                "            ],\n",
                "            options={\n",
                "                \"ordering\": (\"name\",),\n",
                "                \"db_table\": \"django_content_type\",\n",
                "                \"verbose_name\": \"content type\",\n",
                "                \"verbose_name_plural\": \"content types\",\n",
                "            },\n",
                "            bases=(models.Model,),\n",
                "            managers=[\n",
                "                (\"objects\", django.contrib.contenttypes.models.ContentTypeManager()),\n",
                "            ],\n",
                "        ),\n",
                "        migrations.AlterUniqueTogether(\n",
                "            name=\"contenttype\",\n",
                "            unique_together={(\"app_label\", \"model\")},\n",
                "        ),\n",
                "    ]\n",
                "\n"
            ]
        },
        {
            "cell_type": "markdown",
            "metadata": {},
            "source": []
        }
    ],
    "metadata": {
        "language_info": {
            "name": "python"
        }
    },
    "nbformat": 4,
    "nbformat_minor": 2
}