{
    "cells": [
        {
            "cell_type": "code",
            "execution_count": null,
            "metadata": {},
            "outputs": [],
            "source": [
                "from django.db import migrations, models\n"
            ]
        },
        {
            "cell_type": "markdown",
            "metadata": {},
            "source": []
        },
        {
            "cell_type": "code",
            "execution_count": null,
            "metadata": {},
            "outputs": [],
            "source": [
                "def add_legacy_name(apps, schema_editor):\n",
                "    alias = schema_editor.connection.alias\n",
                "    ContentType = apps.get_model(\"contenttypes\", \"ContentType\")\n",
                "    for ct in ContentType.objects.using(alias):\n",
                "        try:\n",
                "            ct.name = apps.get_model(ct.app_label, ct.model)._meta.object_name\n",
                "        except LookupError:\n",
                "            ct.name = ct.model\n",
                "        ct.save()\n"
            ]
        },
        {
            "cell_type": "markdown",
            "metadata": {},
            "source": []
        },
        {
            "cell_type": "code",
            "execution_count": null,
            "metadata": {},
            "outputs": [],
            "source": [
                "class Migration(migrations.Migration):\n",
                "    dependencies = [\n",
                "        (\"contenttypes\", \"0001_initial\"),\n",
                "    ]\n",
                "\n",
                "    operations = [\n",
                "        migrations.AlterModelOptions(\n",
                "            name=\"contenttype\",\n",
                "            options={\n",
                "                \"verbose_name\": \"content type\",\n",
                "                \"verbose_name_plural\": \"content types\",\n",
                "            },\n",
                "        ),\n",
                "        migrations.AlterField(\n",
                "            model_name=\"contenttype\",\n",
                "            name=\"name\",\n",
                "            field=models.CharField(max_length=100, null=True),\n",
                "        ),\n",
                "        migrations.RunPython(\n",
                "            migrations.RunPython.noop,\n",
                "            add_legacy_name,\n",
                "            hints={\"model_name\": \"contenttype\"},\n",
                "        ),\n",
                "        migrations.RemoveField(\n",
                "            model_name=\"contenttype\",\n",
                "            name=\"name\",\n",
                "        ),\n",
                "    ]\n",
                "\n"
            ]
        },
        {
            "cell_type": "markdown",
            "metadata": {},
            "source": []
        }
    ],
    "metadata": {
        "language_info": {
            "name": "python"
        }
    },
    "nbformat": 4,
    "nbformat_minor": 2
}