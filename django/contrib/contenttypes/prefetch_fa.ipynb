{
 "cells": [
  {
   "cell_type": "code",
   "execution_count": null,
   "metadata": {},
   "outputs": [],
   "source": [
    "from django.db.models import Prefetch\n",
    "from django.db.models.query import ModelIterable, RawQuerySet"
   ]
  },
  {
   "cell_type": "markdown",
   "metadata": {},
   "source": []
  },
  {
   "cell_type": "code",
   "execution_count": null,
   "metadata": {},
   "outputs": [],
   "source": [
    "class GenericPrefetch(Prefetch):\n",
    "    def __init__(self, lookup, querysets, to_attr=None):\n",
    "        for queryset in querysets:\n",
    "            if queryset is not None and (\n",
    "                isinstance(queryset, RawQuerySet)\n",
    "                or (\n",
    "                    hasattr(queryset, \"_iterable_class\")\n",
    "                    and not issubclass(queryset._iterable_class, ModelIterable)\n",
    "                )\n",
    "            ):\n",
    "                raise ValueError(\n",
    "                    \"Prefetch querysets cannot use raw(), values(), and values_list().\"\n",
    "                )\n",
    "        self.querysets = querysets\n",
    "        super().__init__(lookup, to_attr=to_attr)\n",
    "\n",
    "    def __getstate__(self):\n",
    "        obj_dict = self.__dict__.copy()\n",
    "        obj_dict[\"querysets\"] = []\n",
    "        for queryset in self.querysets:\n",
    "            if queryset is not None:\n",
    "                queryset = queryset._chain()\n",
    "                # Prevent the QuerySet from being evaluated\n",
    "                queryset._result_cache = []\n",
    "                queryset._prefetch_done = True\n",
    "                obj_dict[\"querysets\"].append(queryset)\n",
    "        return obj_dict\n",
    "\n",
    "    def get_current_querysets(self, level):\n",
    "        if self.get_current_prefetch_to(level) == self.prefetch_to:\n",
    "            return self.querysets\n",
    "        return None"
   ]
  },
  {
   "cell_type": "markdown",
   "metadata": {},
   "source": []
  }
 ],
 "metadata": {
  "language_info": {
   "name": "python"
  }
 },
 "nbformat": 4,
 "nbformat_minor": 2
}