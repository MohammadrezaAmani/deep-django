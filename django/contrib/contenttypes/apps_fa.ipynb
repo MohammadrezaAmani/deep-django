{
 "cells": [
  {
   "cell_type": "code",
   "execution_count": null,
   "metadata": {},
   "outputs": [],
   "source": [
    "from django.apps import AppConfig\n",
    "from django.contrib.contenttypes.checks import (\n",
    "    check_generic_foreign_keys,\n",
    "    check_model_name_lengths,\n",
    ")\n",
    "from django.core import checks\n",
    "from django.db.models.signals import post_migrate, pre_migrate\n",
    "from django.utils.translation import gettext_lazy as _\n",
    "\n",
    "from .management import create_contenttypes, inject_rename_contenttypes_operations"
   ]
  },
  {
   "cell_type": "markdown",
   "metadata": {},
   "source": []
  },
  {
   "cell_type": "code",
   "execution_count": null,
   "metadata": {},
   "outputs": [],
   "source": [
    "class ContentTypesConfig(AppConfig):\n",
    "    default_auto_field = \"django.db.models.AutoField\"\n",
    "    name = \"django.contrib.contenttypes\"\n",
    "    verbose_name = _(\"Content Types\")\n",
    "\n",
    "    def ready(self):\n",
    "        pre_migrate.connect(inject_rename_contenttypes_operations, sender=self)\n",
    "        post_migrate.connect(create_contenttypes)\n",
    "        checks.register(check_generic_foreign_keys, checks.Tags.models)\n",
    "        checks.register(check_model_name_lengths, checks.Tags.models)"
   ]
  },
  {
   "cell_type": "markdown",
   "metadata": {},
   "source": []
  }
 ],
 "metadata": {
  "language_info": {
   "name": "python"
  }
 },
 "nbformat": 4,
 "nbformat_minor": 2
}