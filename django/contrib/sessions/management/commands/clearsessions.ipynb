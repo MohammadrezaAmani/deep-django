{
    "cells": [
        {
            "cell_type": "code",
            "execution_count": null,
            "metadata": {},
            "outputs": [],
            "source": [
                "from importlib import import_module\n",
                "\n",
                "from django.conf import settings\n",
                "from django.core.management.base import BaseCommand, CommandError\n"
            ]
        },
        {
            "cell_type": "markdown",
            "metadata": {},
            "source": []
        },
        {
            "cell_type": "code",
            "execution_count": null,
            "metadata": {},
            "outputs": [],
            "source": [
                "class Command(BaseCommand):\n",
                "    help = (\n",
                "        \"Can be run as a cronjob or directly to clean out expired sessions \"\n",
                "        \"when the backend supports it.\"\n",
                "    )\n",
                "\n",
                "    def handle(self, **options):\n",
                "        engine = import_module(settings.SESSION_ENGINE)\n",
                "        try:\n",
                "            engine.SessionStore.clear_expired()\n",
                "        except NotImplementedError:\n",
                "            raise CommandError(\n",
                "                \"Session engine '%s' doesn't support clearing expired \"\n",
                "                \"sessions.\" % settings.SESSION_ENGINE\n",
                "            )\n",
                "\n"
            ]
        },
        {
            "cell_type": "markdown",
            "metadata": {},
            "source": []
        }
    ],
    "metadata": {
        "language_info": {
            "name": "python"
        }
    },
    "nbformat": 4,
    "nbformat_minor": 2
}