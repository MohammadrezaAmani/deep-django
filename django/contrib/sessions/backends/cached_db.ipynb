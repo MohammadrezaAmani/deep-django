{
    "cells": [
        {
            "cell_type": "code",
            "execution_count": null,
            "metadata": {},
            "outputs": [],
            "source": [
                "\"\"\"\n",
                "Cached, database-backed sessions.\n",
                "\"\"\"\n",
                "\n",
                "from django.conf import settings\n",
                "from django.contrib.sessions.backends.db import SessionStore as DBStore\n",
                "from django.core.cache import caches\n",
                "\n",
                "KEY_PREFIX = \"django.contrib.sessions.cached_db\"\n"
            ]
        },
        {
            "cell_type": "markdown",
            "metadata": {},
            "source": []
        },
        {
            "cell_type": "code",
            "execution_count": null,
            "metadata": {},
            "outputs": [],
            "source": [
                "class SessionStore(DBStore):\n",
                "    \"\"\"\n",
                "    Implement cached, database backed sessions.\n",
                "    \"\"\"\n",
                "\n",
                "    cache_key_prefix = KEY_PREFIX\n",
                "\n",
                "    def __init__(self, session_key=None):\n",
                "        self._cache = caches[settings.SESSION_CACHE_ALIAS]\n",
                "        super().__init__(session_key)\n",
                "\n",
                "    @property\n",
                "    def cache_key(self):\n",
                "        return self.cache_key_prefix + self._get_or_create_session_key()\n",
                "\n",
                "    def load(self):\n",
                "        try:\n",
                "            data = self._cache.get(self.cache_key)\n",
                "        except Exception:\n",
                "            # Some backends (e.g. memcache) raise an exception on invalid\n",
                "            # cache keys. If this happens, reset the session. See #17810.\n",
                "            data = None\n",
                "\n",
                "        if data is None:\n",
                "            s = self._get_session_from_db()\n",
                "            if s:\n",
                "                data = self.decode(s.session_data)\n",
                "                self._cache.set(\n",
                "                    self.cache_key, data, self.get_expiry_age(expiry=s.expire_date)\n",
                "                )\n",
                "            else:\n",
                "                data = {}\n",
                "        return data\n",
                "\n",
                "    def exists(self, session_key):\n",
                "        return (\n",
                "            session_key\n",
                "            and (self.cache_key_prefix + session_key) in self._cache\n",
                "            or super().exists(session_key)\n",
                "        )\n",
                "\n",
                "    def save(self, must_create=False):\n",
                "        super().save(must_create)\n",
                "        self._cache.set(self.cache_key, self._session, self.get_expiry_age())\n",
                "\n",
                "    def delete(self, session_key=None):\n",
                "        super().delete(session_key)\n",
                "        if session_key is None:\n",
                "            if self.session_key is None:\n",
                "                return\n",
                "            session_key = self.session_key\n",
                "        self._cache.delete(self.cache_key_prefix + session_key)\n",
                "\n",
                "    def flush(self):\n",
                "        \"\"\"\n",
                "        Remove the current session data from the database and regenerate the\n",
                "        key.\n",
                "        \"\"\"\n",
                "        self.clear()\n",
                "        self.delete(self.session_key)\n",
                "        self._session_key = None\n",
                "\n"
            ]
        },
        {
            "cell_type": "markdown",
            "metadata": {},
            "source": []
        }
    ],
    "metadata": {
        "language_info": {
            "name": "python"
        }
    },
    "nbformat": 4,
    "nbformat_minor": 2
}