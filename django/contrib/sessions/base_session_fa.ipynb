{
    "cells": [
        {
            "cell_type": "code",
            "execution_count": null,
            "metadata": {},
            "outputs": [],
            "source": [
                "\"\"\"\n",
                "This module allows importing AbstractBaseSession even\n",
                "when django.contrib.sessions is not in INSTALLED_APPS.\n",
                "\"\"\"\n",
                "\n",
                "from django.db import models\n",
                "from django.utils.translation import gettext_lazy as _\n"
            ]
        },
        {
            "cell_type": "markdown",
            "metadata": {},
            "source": []
        },
        {
            "cell_type": "code",
            "execution_count": null,
            "metadata": {},
            "outputs": [],
            "source": [
                "class BaseSessionManager(models.Manager):\n",
                "    def encode(self, session_dict):\n",
                "        \"\"\"\n",
                "        Return the given session dictionary serialized and encoded as a string.\n",
                "        \"\"\"\n",
                "        session_store_class = self.model.get_session_store_class()\n",
                "        return session_store_class().encode(session_dict)\n",
                "\n",
                "    def save(self, session_key, session_dict, expire_date):\n",
                "        s = self.model(session_key, self.encode(session_dict), expire_date)\n",
                "        if session_dict:\n",
                "            s.save()\n",
                "        else:\n",
                "            s.delete()  # Clear sessions with no data.\n",
                "        return s\n"
            ]
        },
        {
            "cell_type": "markdown",
            "metadata": {},
            "source": []
        },
        {
            "cell_type": "code",
            "execution_count": null,
            "metadata": {},
            "outputs": [],
            "source": [
                "class AbstractBaseSession(models.Model):\n",
                "    session_key = models.CharField(_(\"session key\"), max_length=40, primary_key=True)\n",
                "    session_data = models.TextField(_(\"session data\"))\n",
                "    expire_date = models.DateTimeField(_(\"expire date\"), db_index=True)\n",
                "\n",
                "    objects = BaseSessionManager()\n",
                "\n",
                "    class Meta:\n",
                "        abstract = True\n",
                "        verbose_name = _(\"session\")\n",
                "        verbose_name_plural = _(\"sessions\")\n",
                "\n",
                "    def __str__(self):\n",
                "        return self.session_key\n",
                "\n",
                "    @classmethod\n",
                "    def get_session_store_class(cls):\n",
                "        raise NotImplementedError\n",
                "\n",
                "    def get_decoded(self):\n",
                "        session_store_class = self.get_session_store_class()\n",
                "        return session_store_class().decode(self.session_data)\n",
                "\n"
            ]
        },
        {
            "cell_type": "markdown",
            "metadata": {},
            "source": []
        }
    ],
    "metadata": {
        "language_info": {
            "name": "python"
        }
    },
    "nbformat": 4,
    "nbformat_minor": 2
}