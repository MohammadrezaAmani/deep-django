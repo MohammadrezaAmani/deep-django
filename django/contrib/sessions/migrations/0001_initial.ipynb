{
 "cells": [
  {
   "cell_type": "code",
   "execution_count": null,
   "metadata": {},
   "outputs": [],
   "source": [
    "import django.contrib.sessions.models\n",
    "from django.db import migrations, models"
   ]
  },
  {
   "cell_type": "markdown",
   "metadata": {},
   "source": []
  },
  {
   "cell_type": "code",
   "execution_count": null,
   "metadata": {},
   "outputs": [],
   "source": [
    "class Migration(migrations.Migration):\n",
    "    dependencies = []\n",
    "\n",
    "    operations = [\n",
    "        migrations.CreateModel(\n",
    "            name=\"Session\",\n",
    "            fields=[\n",
    "                (\n",
    "                    \"session_key\",\n",
    "                    models.CharField(\n",
    "                        max_length=40,\n",
    "                        serialize=False,\n",
    "                        verbose_name=\"session key\",\n",
    "                        primary_key=True,\n",
    "                    ),\n",
    "                ),\n",
    "                (\"session_data\", models.TextField(verbose_name=\"session data\")),\n",
    "                (\n",
    "                    \"expire_date\",\n",
    "                    models.DateTimeField(verbose_name=\"expire date\", db_index=True),\n",
    "                ),\n",
    "            ],\n",
    "            options={\n",
    "                \"abstract\": False,\n",
    "                \"db_table\": \"django_session\",\n",
    "                \"verbose_name\": \"session\",\n",
    "                \"verbose_name_plural\": \"sessions\",\n",
    "            },\n",
    "            managers=[\n",
    "                (\"objects\", django.contrib.sessions.models.SessionManager()),\n",
    "            ],\n",
    "        ),\n",
    "    ]"
   ]
  },
  {
   "cell_type": "markdown",
   "metadata": {},
   "source": []
  }
 ],
 "metadata": {
  "language_info": {
   "name": "python"
  }
 },
 "nbformat": 4,
 "nbformat_minor": 2
}