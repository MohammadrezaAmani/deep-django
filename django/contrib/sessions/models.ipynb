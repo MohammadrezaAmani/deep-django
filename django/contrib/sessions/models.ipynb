{
    "cells": [
        {
            "cell_type": "code",
            "execution_count": null,
            "metadata": {},
            "outputs": [],
            "source": [
                "from django.contrib.sessions.base_session import AbstractBaseSession, BaseSessionManager\n"
            ]
        },
        {
            "cell_type": "markdown",
            "metadata": {},
            "source": []
        },
        {
            "cell_type": "code",
            "execution_count": null,
            "metadata": {},
            "outputs": [],
            "source": [
                "class SessionManager(BaseSessionManager):\n",
                "    use_in_migrations = True\n"
            ]
        },
        {
            "cell_type": "markdown",
            "metadata": {},
            "source": []
        },
        {
            "cell_type": "code",
            "execution_count": null,
            "metadata": {},
            "outputs": [],
            "source": [
                "class Session(AbstractBaseSession):\n",
                "    \"\"\"\n",
                "    Django provides full support for anonymous sessions. The session\n",
                "    framework lets you store and retrieve arbitrary data on a\n",
                "    per-site-visitor basis. It stores data on the server side and\n",
                "    abstracts the sending and receiving of cookies. Cookies contain a\n",
                "    session ID -- not the data itself.\n",
                "\n",
                "    The Django sessions framework is entirely cookie-based. It does\n",
                "    not fall back to putting session IDs in URLs. This is an intentional\n",
                "    design decision. Not only does that behavior make URLs ugly, it makes\n",
                "    your site vulnerable to session-ID theft via the \"Referer\" header.\n",
                "\n",
                "    For complete documentation on using Sessions in your code, consult\n",
                "    the sessions documentation that is shipped with Django (also available\n",
                "    on the Django web site).\n",
                "    \"\"\"\n",
                "\n",
                "    objects = SessionManager()\n",
                "\n",
                "    @classmethod\n",
                "    def get_session_store_class(cls):\n",
                "        from django.contrib.sessions.backends.db import SessionStore\n",
                "\n",
                "        return SessionStore\n",
                "\n",
                "    class Meta(AbstractBaseSession.Meta):\n",
                "        db_table = \"django_session\"\n",
                "\n"
            ]
        },
        {
            "cell_type": "markdown",
            "metadata": {},
            "source": []
        }
    ],
    "metadata": {
        "language_info": {
            "name": "python"
        }
    },
    "nbformat": 4,
    "nbformat_minor": 2
}