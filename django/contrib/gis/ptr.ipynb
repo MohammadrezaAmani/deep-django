{
    "cells": [
        {
            "cell_type": "code",
            "execution_count": null,
            "metadata": {},
            "outputs": [],
            "source": [
                "from ctypes import c_void_p\n"
            ]
        },
        {
            "cell_type": "markdown",
            "metadata": {},
            "source": []
        },
        {
            "cell_type": "code",
            "execution_count": null,
            "metadata": {},
            "outputs": [],
            "source": [
                "class CPointerBase:\n",
                "    \"\"\"\n",
                "    Base class for objects that have a pointer access property\n",
                "    that controls access to the underlying C pointer.\n",
                "    \"\"\"\n",
                "\n",
                "    _ptr = None  # Initially the pointer is NULL.\n",
                "    ptr_type = c_void_p\n",
                "    destructor = None\n",
                "    null_ptr_exception_class = AttributeError\n",
                "\n",
                "    @property\n",
                "    def ptr(self):\n",
                "        # Raise an exception if the pointer isn't valid so that NULL pointers\n",
                "        # aren't passed to routines -- that's very bad.\n",
                "        if self._ptr:\n",
                "            return self._ptr\n",
                "        raise self.null_ptr_exception_class(\n",
                "            \"NULL %s pointer encountered.\" % self.__class__.__name__\n",
                "        )\n",
                "\n",
                "    @ptr.setter\n",
                "    def ptr(self, ptr):\n",
                "        # Only allow the pointer to be set with pointers of the compatible\n",
                "        # type or None (NULL).\n",
                "        if not (ptr is None or isinstance(ptr, self.ptr_type)):\n",
                "            raise TypeError(\"Incompatible pointer type: %s.\" % type(ptr))\n",
                "        self._ptr = ptr\n",
                "\n",
                "    def __del__(self):\n",
                "        \"\"\"\n",
                "        Free the memory used by the C++ object.\n",
                "        \"\"\"\n",
                "        if self.destructor and self._ptr:\n",
                "            try:\n",
                "                self.destructor(self.ptr)\n",
                "            except (AttributeError, ImportError, TypeError):\n",
                "                pass  # Some part might already have been garbage collected\n",
                "\n"
            ]
        },
        {
            "cell_type": "markdown",
            "metadata": {},
            "source": []
        }
    ],
    "metadata": {
        "language_info": {
            "name": "python"
        }
    },
    "nbformat": 4,
    "nbformat_minor": 2
}