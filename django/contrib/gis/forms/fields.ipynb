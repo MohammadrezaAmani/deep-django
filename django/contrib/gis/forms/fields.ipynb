{
    "cells": [
        {
            "cell_type": "code",
            "execution_count": null,
            "metadata": {},
            "outputs": [],
            "source": [
                "from django import forms\n",
                "from django.contrib.gis.gdal import GDALException\n",
                "from django.contrib.gis.geos import GEOSException, GEOSGeometry\n",
                "from django.core.exceptions import ValidationError\n",
                "from django.utils.translation import gettext_lazy as _\n",
                "\n",
                "from .widgets import OpenLayersWidget\n"
            ]
        },
        {
            "cell_type": "markdown",
            "metadata": {},
            "source": []
        },
        {
            "cell_type": "code",
            "execution_count": null,
            "metadata": {},
            "outputs": [],
            "source": [
                "class GeometryField(forms.Field):\n",
                "    \"\"\"\n",
                "    This is the basic form field for a Geometry.  Any textual input that is\n",
                "    accepted by GEOSGeometry is accepted by this form.  By default,\n",
                "    this includes WKT, HEXEWKB, WKB (in a buffer), and GeoJSON.\n",
                "    \"\"\"\n",
                "\n",
                "    widget = OpenLayersWidget\n",
                "    geom_type = \"GEOMETRY\"\n",
                "\n",
                "    default_error_messages = {\n",
                "        \"required\": _(\"No geometry value provided.\"),\n",
                "        \"invalid_geom\": _(\"Invalid geometry value.\"),\n",
                "        \"invalid_geom_type\": _(\"Invalid geometry type.\"),\n",
                "        \"transform_error\": _(\n",
                "            \"An error occurred when transforming the geometry \"\n",
                "            \"to the SRID of the geometry form field.\"\n",
                "        ),\n",
                "    }\n",
                "\n",
                "    def __init__(self, *, srid=None, geom_type=None, **kwargs):\n",
                "        self.srid = srid\n",
                "        if geom_type is not None:\n",
                "            self.geom_type = geom_type\n",
                "        super().__init__(**kwargs)\n",
                "        self.widget.attrs[\"geom_type\"] = self.geom_type\n",
                "\n",
                "    def to_python(self, value):\n",
                "        \"\"\"Transform the value to a Geometry object.\"\"\"\n",
                "        if value in self.empty_values:\n",
                "            return None\n",
                "\n",
                "        if not isinstance(value, GEOSGeometry):\n",
                "            if hasattr(self.widget, \"deserialize\"):\n",
                "                try:\n",
                "                    value = self.widget.deserialize(value)\n",
                "                except GDALException:\n",
                "                    value = None\n",
                "            else:\n",
                "                try:\n",
                "                    value = GEOSGeometry(value)\n",
                "                except (GEOSException, ValueError, TypeError):\n",
                "                    value = None\n",
                "            if value is None:\n",
                "                raise ValidationError(\n",
                "                    self.error_messages[\"invalid_geom\"], code=\"invalid_geom\"\n",
                "                )\n",
                "\n",
                "        # Try to set the srid\n",
                "        if not value.srid:\n",
                "            try:\n",
                "                value.srid = self.widget.map_srid\n",
                "            except AttributeError:\n",
                "                if self.srid:\n",
                "                    value.srid = self.srid\n",
                "        return value\n",
                "\n",
                "    def clean(self, value):\n",
                "        \"\"\"\n",
                "        Validate that the input value can be converted to a Geometry object\n",
                "        and return it. Raise a ValidationError if the value cannot be\n",
                "        instantiated as a Geometry.\n",
                "        \"\"\"\n",
                "        geom = super().clean(value)\n",
                "        if geom is None:\n",
                "            return geom\n",
                "\n",
                "        # Ensuring that the geometry is of the correct type (indicated\n",
                "        # using the OGC string label).\n",
                "        if (\n",
                "            str(geom.geom_type).upper() != self.geom_type\n",
                "            and self.geom_type != \"GEOMETRY\"\n",
                "        ):\n",
                "            raise ValidationError(\n",
                "                self.error_messages[\"invalid_geom_type\"], code=\"invalid_geom_type\"\n",
                "            )\n",
                "\n",
                "        # Transforming the geometry if the SRID was set.\n",
                "        if self.srid and self.srid != -1 and self.srid != geom.srid:\n",
                "            try:\n",
                "                geom.transform(self.srid)\n",
                "            except GEOSException:\n",
                "                raise ValidationError(\n",
                "                    self.error_messages[\"transform_error\"], code=\"transform_error\"\n",
                "                )\n",
                "\n",
                "        return geom\n",
                "\n",
                "    def has_changed(self, initial, data):\n",
                "        \"\"\"Compare geographic value of data with its initial value.\"\"\"\n",
                "\n",
                "        try:\n",
                "            data = self.to_python(data)\n",
                "            initial = self.to_python(initial)\n",
                "        except ValidationError:\n",
                "            return True\n",
                "\n",
                "        # Only do a geographic comparison if both values are available\n",
                "        if initial and data:\n",
                "            data.transform(initial.srid)\n",
                "            # If the initial value was not added by the browser, the geometry\n",
                "            # provided may be slightly different, the first time it is saved.\n",
                "            # The comparison is done with a very low tolerance.\n",
                "            return not initial.equals_exact(data, tolerance=0.000001)\n",
                "        else:\n",
                "            # Check for change of state of existence\n",
                "            return bool(initial) != bool(data)\n"
            ]
        },
        {
            "cell_type": "markdown",
            "metadata": {},
            "source": []
        },
        {
            "cell_type": "code",
            "execution_count": null,
            "metadata": {},
            "outputs": [],
            "source": [
                "class GeometryCollectionField(GeometryField):\n",
                "    geom_type = \"GEOMETRYCOLLECTION\"\n"
            ]
        },
        {
            "cell_type": "markdown",
            "metadata": {},
            "source": []
        },
        {
            "cell_type": "code",
            "execution_count": null,
            "metadata": {},
            "outputs": [],
            "source": [
                "class PointField(GeometryField):\n",
                "    geom_type = \"POINT\"\n"
            ]
        },
        {
            "cell_type": "markdown",
            "metadata": {},
            "source": []
        },
        {
            "cell_type": "code",
            "execution_count": null,
            "metadata": {},
            "outputs": [],
            "source": [
                "class MultiPointField(GeometryField):\n",
                "    geom_type = \"MULTIPOINT\"\n"
            ]
        },
        {
            "cell_type": "markdown",
            "metadata": {},
            "source": []
        },
        {
            "cell_type": "code",
            "execution_count": null,
            "metadata": {},
            "outputs": [],
            "source": [
                "class LineStringField(GeometryField):\n",
                "    geom_type = \"LINESTRING\"\n"
            ]
        },
        {
            "cell_type": "markdown",
            "metadata": {},
            "source": []
        },
        {
            "cell_type": "code",
            "execution_count": null,
            "metadata": {},
            "outputs": [],
            "source": [
                "class MultiLineStringField(GeometryField):\n",
                "    geom_type = \"MULTILINESTRING\"\n"
            ]
        },
        {
            "cell_type": "markdown",
            "metadata": {},
            "source": []
        },
        {
            "cell_type": "code",
            "execution_count": null,
            "metadata": {},
            "outputs": [],
            "source": [
                "class PolygonField(GeometryField):\n",
                "    geom_type = \"POLYGON\"\n"
            ]
        },
        {
            "cell_type": "markdown",
            "metadata": {},
            "source": []
        },
        {
            "cell_type": "code",
            "execution_count": null,
            "metadata": {},
            "outputs": [],
            "source": [
                "class MultiPolygonField(GeometryField):\n",
                "    geom_type = \"MULTIPOLYGON\"\n",
                "\n"
            ]
        },
        {
            "cell_type": "markdown",
            "metadata": {},
            "source": []
        }
    ],
    "metadata": {
        "language_info": {
            "name": "python"
        }
    },
    "nbformat": 4,
    "nbformat_minor": 2
}