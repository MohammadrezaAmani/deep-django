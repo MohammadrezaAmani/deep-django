{
    "cells": [
        {
            "cell_type": "code",
            "execution_count": null,
            "metadata": {},
            "outputs": [],
            "source": [
                "from django.forms import *  # NOQA\n",
                "\n",
                "from .fields import (\n",
                "    GeometryField,  # NOQA\n",
                "    )\n",
                "from .widgets import BaseGeometryWidget, OpenLayersWidget, OSMWidget  # NOQA\n",
                "\n"
            ]
        },
        {
            "cell_type": "markdown",
            "metadata": {},
            "source": []
        }
    ],
    "metadata": {
        "language_info": {
            "name": "python"
        }
    },
    "nbformat": 4,
    "nbformat_minor": 2
}