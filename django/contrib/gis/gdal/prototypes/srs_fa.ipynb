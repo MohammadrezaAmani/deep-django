{
 "cells": [
  {
   "cell_type": "code",
   "execution_count": null,
   "metadata": {},
   "outputs": [],
   "source": [
    "from ctypes import POINTER, c_char_p, c_int, c_void_p\n",
    "\n",
    "from django.contrib.gis.gdal.libgdal import GDAL_VERSION, lgdal, std_call\n",
    "from django.contrib.gis.gdal.prototypes.generation import (\n",
    "    const_string_output,\n",
    "    double_output,\n",
    "    int_output,\n",
    "    srs_output,\n",
    "    string_output,\n",
    "    void_output,\n",
    ")"
   ]
  },
  {
   "cell_type": "markdown",
   "metadata": {},
   "source": []
  },
  {
   "cell_type": "code",
   "execution_count": null,
   "metadata": {},
   "outputs": [],
   "source": [
    "# Shortcut generation for routines with known parameters.\n",
    "def srs_double(f):\n",
    "    \"\"\"\n",
    "    Create a function prototype for the OSR routines that take\n",
    "    the OSRSpatialReference object and return a double value.\n",
    "    \"\"\"\n",
    "    return double_output(f, [c_void_p, POINTER(c_int)], errcheck=True)"
   ]
  },
  {
   "cell_type": "markdown",
   "metadata": {},
   "source": []
  },
  {
   "cell_type": "code",
   "execution_count": null,
   "metadata": {},
   "outputs": [],
   "source": [
    "def units_func(f):\n",
    "    \"\"\"\n",
    "    Create a ctypes function prototype for OSR units functions, e.g.,\n",
    "    OSRGetAngularUnits, OSRGetLinearUnits.\n",
    "    \"\"\"\n",
    "    return double_output(f, [c_void_p, POINTER(c_char_p)], strarg=True)"
   ]
  },
  {
   "cell_type": "markdown",
   "metadata": {},
   "source": []
  },
  {
   "cell_type": "code",
   "execution_count": null,
   "metadata": {},
   "outputs": [],
   "source": [
    "# Creation & destruction.\n",
    "clone_srs = srs_output(std_call(\"OSRClone\"), [c_void_p])\n",
    "new_srs = srs_output(std_call(\"OSRNewSpatialReference\"), [c_char_p])\n",
    "release_srs = void_output(lgdal.OSRRelease, [c_void_p], errcheck=False)\n",
    "destroy_srs = void_output(\n",
    "    std_call(\"OSRDestroySpatialReference\"), [c_void_p], errcheck=False\n",
    ")\n",
    "srs_validate = void_output(lgdal.OSRValidate, [c_void_p])\n",
    "\n",
    "if GDAL_VERSION >= (3, 0):\n",
    "    set_axis_strategy = void_output(\n",
    "        lgdal.OSRSetAxisMappingStrategy, [c_void_p, c_int], errcheck=False\n",
    "    )\n",
    "\n",
    "# Getting the semi_major, semi_minor, and flattening functions.\n",
    "semi_major = srs_double(lgdal.OSRGetSemiMajor)\n",
    "semi_minor = srs_double(lgdal.OSRGetSemiMinor)\n",
    "invflattening = srs_double(lgdal.OSRGetInvFlattening)\n",
    "\n",
    "# WKT, PROJ, EPSG, XML importation routines.\n",
    "from_wkt = void_output(lgdal.OSRImportFromWkt, [c_void_p, POINTER(c_char_p)])\n",
    "from_proj = void_output(lgdal.OSRImportFromProj4, [c_void_p, c_char_p])\n",
    "from_epsg = void_output(std_call(\"OSRImportFromEPSG\"), [c_void_p, c_int])\n",
    "from_xml = void_output(lgdal.OSRImportFromXML, [c_void_p, c_char_p])\n",
    "from_user_input = void_output(std_call(\"OSRSetFromUserInput\"), [c_void_p, c_char_p])\n",
    "\n",
    "# Morphing to/from ESRI WKT.\n",
    "morph_to_esri = void_output(lgdal.OSRMorphToESRI, [c_void_p])\n",
    "morph_from_esri = void_output(lgdal.OSRMorphFromESRI, [c_void_p])\n",
    "\n",
    "# Identifying the EPSG\n",
    "identify_epsg = void_output(lgdal.OSRAutoIdentifyEPSG, [c_void_p])\n",
    "\n",
    "# Getting the angular_units, linear_units functions\n",
    "linear_units = units_func(lgdal.OSRGetLinearUnits)\n",
    "angular_units = units_func(lgdal.OSRGetAngularUnits)\n",
    "\n",
    "# For exporting to WKT, PROJ, \"Pretty\" WKT, and XML.\n",
    "to_wkt = string_output(\n",
    "    std_call(\"OSRExportToWkt\"), [c_void_p, POINTER(c_char_p)], decoding=\"utf-8\"\n",
    ")\n",
    "to_proj = string_output(\n",
    "    std_call(\"OSRExportToProj4\"), [c_void_p, POINTER(c_char_p)], decoding=\"ascii\"\n",
    ")\n",
    "to_pretty_wkt = string_output(\n",
    "    std_call(\"OSRExportToPrettyWkt\"),\n",
    "    [c_void_p, POINTER(c_char_p), c_int],\n",
    "    offset=-2,\n",
    "    decoding=\"utf-8\",\n",
    ")\n",
    "\n",
    "to_xml = string_output(\n",
    "    lgdal.OSRExportToXML,\n",
    "    [c_void_p, POINTER(c_char_p), c_char_p],\n",
    "    offset=-2,\n",
    "    decoding=\"utf-8\",\n",
    ")\n",
    "\n",
    "# String attribute retrieval routines.\n",
    "get_attr_value = const_string_output(\n",
    "    std_call(\"OSRGetAttrValue\"), [c_void_p, c_char_p, c_int], decoding=\"utf-8\"\n",
    ")\n",
    "get_auth_name = const_string_output(\n",
    "    lgdal.OSRGetAuthorityName, [c_void_p, c_char_p], decoding=\"ascii\"\n",
    ")\n",
    "get_auth_code = const_string_output(\n",
    "    lgdal.OSRGetAuthorityCode, [c_void_p, c_char_p], decoding=\"ascii\"\n",
    ")\n",
    "\n",
    "# SRS Properties\n",
    "isgeographic = int_output(lgdal.OSRIsGeographic, [c_void_p])\n",
    "islocal = int_output(lgdal.OSRIsLocal, [c_void_p])\n",
    "isprojected = int_output(lgdal.OSRIsProjected, [c_void_p])\n",
    "\n",
    "# Coordinate transformation\n",
    "new_ct = srs_output(std_call(\"OCTNewCoordinateTransformation\"), [c_void_p, c_void_p])\n",
    "destroy_ct = void_output(\n",
    "    std_call(\"OCTDestroyCoordinateTransformation\"), [c_void_p], errcheck=False\n",
    ")"
   ]
  },
  {
   "cell_type": "markdown",
   "metadata": {},
   "source": []
  }
 ],
 "metadata": {
  "language_info": {
   "name": "python"
  }
 },
 "nbformat": 4,
 "nbformat_minor": 2
}