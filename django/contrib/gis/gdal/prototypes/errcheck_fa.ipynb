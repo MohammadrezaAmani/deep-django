{
 "cells": [
  {
   "cell_type": "code",
   "execution_count": null,
   "metadata": {},
   "outputs": [],
   "source": [
    "\"\"\"\n",
    " This module houses the error-checking routines used by the GDAL\n",
    " ctypes prototypes.\n",
    "\"\"\"\n",
    "\n",
    "from ctypes import c_void_p, string_at\n",
    "\n",
    "from django.contrib.gis.gdal.error import GDALException, SRSException, check_err\n",
    "from django.contrib.gis.gdal.libgdal import lgdal"
   ]
  },
  {
   "cell_type": "markdown",
   "metadata": {},
   "source": []
  },
  {
   "cell_type": "code",
   "execution_count": null,
   "metadata": {},
   "outputs": [],
   "source": [
    "# Helper routines for retrieving pointers and/or values from\n",
    "# arguments passed in by reference.\n",
    "def arg_byref(args, offset=-1):\n",
    "    \"Return the pointer argument's by-reference value.\"\n",
    "    return args[offset]._obj.value"
   ]
  },
  {
   "cell_type": "markdown",
   "metadata": {},
   "source": []
  },
  {
   "cell_type": "code",
   "execution_count": null,
   "metadata": {},
   "outputs": [],
   "source": [
    "def ptr_byref(args, offset=-1):\n",
    "    \"Return the pointer argument passed in by-reference.\"\n",
    "    return args[offset]._obj"
   ]
  },
  {
   "cell_type": "markdown",
   "metadata": {},
   "source": []
  },
  {
   "cell_type": "code",
   "execution_count": null,
   "metadata": {},
   "outputs": [],
   "source": [
    "# ### String checking Routines ###\n",
    "def check_const_string(result, func, cargs, offset=None, cpl=False):\n",
    "    \"\"\"\n",
    "    Similar functionality to `check_string`, but does not free the pointer.\n",
    "    \"\"\"\n",
    "    if offset:\n",
    "        check_err(result, cpl=cpl)\n",
    "        ptr = ptr_byref(cargs, offset)\n",
    "        return ptr.value\n",
    "    else:\n",
    "        return result"
   ]
  },
  {
   "cell_type": "markdown",
   "metadata": {},
   "source": []
  },
  {
   "cell_type": "code",
   "execution_count": null,
   "metadata": {},
   "outputs": [],
   "source": [
    "def check_string(result, func, cargs, offset=-1, str_result=False):\n",
    "    \"\"\"\n",
    "    Check the string output returned from the given function, and free\n",
    "    the string pointer allocated by OGR.  The `str_result` keyword\n",
    "    may be used when the result is the string pointer, otherwise\n",
    "    the OGR error code is assumed.  The `offset` keyword may be used\n",
    "    to extract the string pointer passed in by-reference at the given\n",
    "    slice offset in the function arguments.\n",
    "    \"\"\"\n",
    "    if str_result:\n",
    "        # For routines that return a string.\n",
    "        ptr = result\n",
    "        if not ptr:\n",
    "            s = None\n",
    "        else:\n",
    "            s = string_at(result)\n",
    "    else:\n",
    "        # Error-code return specified.\n",
    "        check_err(result)\n",
    "        ptr = ptr_byref(cargs, offset)\n",
    "        # Getting the string value\n",
    "        s = ptr.value\n",
    "    # Correctly freeing the allocated memory behind GDAL pointer\n",
    "    # with the VSIFree routine.\n",
    "    if ptr:\n",
    "        lgdal.VSIFree(ptr)\n",
    "    return s"
   ]
  },
  {
   "cell_type": "markdown",
   "metadata": {},
   "source": []
  },
  {
   "cell_type": "code",
   "execution_count": null,
   "metadata": {},
   "outputs": [],
   "source": [
    "# ### DataSource, Layer error-checking ###"
   ]
  },
  {
   "cell_type": "markdown",
   "metadata": {},
   "source": []
  },
  {
   "cell_type": "code",
   "execution_count": null,
   "metadata": {},
   "outputs": [],
   "source": [
    "# ### Envelope checking ###\n",
    "def check_envelope(result, func, cargs, offset=-1):\n",
    "    \"Check a function that returns an OGR Envelope by reference.\"\n",
    "    return ptr_byref(cargs, offset)"
   ]
  },
  {
   "cell_type": "markdown",
   "metadata": {},
   "source": []
  },
  {
   "cell_type": "code",
   "execution_count": null,
   "metadata": {},
   "outputs": [],
   "source": [
    "# ### Geometry error-checking routines ###\n",
    "def check_geom(result, func, cargs):\n",
    "    \"Check a function that returns a geometry.\"\n",
    "    # OGR_G_Clone may return an integer, even though the\n",
    "    # restype is set to c_void_p\n",
    "    if isinstance(result, int):\n",
    "        result = c_void_p(result)\n",
    "    if not result:\n",
    "        raise GDALException(\n",
    "            'Invalid geometry pointer returned from \"%s\".' % func.__name__\n",
    "        )\n",
    "    return result"
   ]
  },
  {
   "cell_type": "markdown",
   "metadata": {},
   "source": []
  },
  {
   "cell_type": "code",
   "execution_count": null,
   "metadata": {},
   "outputs": [],
   "source": [
    "def check_geom_offset(result, func, cargs, offset=-1):\n",
    "    \"Check the geometry at the given offset in the C parameter list.\"\n",
    "    check_err(result)\n",
    "    geom = ptr_byref(cargs, offset=offset)\n",
    "    return check_geom(geom, func, cargs)"
   ]
  },
  {
   "cell_type": "markdown",
   "metadata": {},
   "source": []
  },
  {
   "cell_type": "code",
   "execution_count": null,
   "metadata": {},
   "outputs": [],
   "source": [
    "# ### Spatial Reference error-checking routines ###\n",
    "def check_srs(result, func, cargs):\n",
    "    if isinstance(result, int):\n",
    "        result = c_void_p(result)\n",
    "    if not result:\n",
    "        raise SRSException(\n",
    "            'Invalid spatial reference pointer returned from \"%s\".' % func.__name__\n",
    "        )\n",
    "    return result"
   ]
  },
  {
   "cell_type": "markdown",
   "metadata": {},
   "source": []
  },
  {
   "cell_type": "code",
   "execution_count": null,
   "metadata": {},
   "outputs": [],
   "source": [
    "# ### Other error-checking routines ###\n",
    "def check_arg_errcode(result, func, cargs, cpl=False):\n",
    "    \"\"\"\n",
    "    The error code is returned in the last argument, by reference.\n",
    "    Check its value with `check_err` before returning the result.\n",
    "    \"\"\"\n",
    "    check_err(arg_byref(cargs), cpl=cpl)\n",
    "    return result"
   ]
  },
  {
   "cell_type": "markdown",
   "metadata": {},
   "source": []
  },
  {
   "cell_type": "code",
   "execution_count": null,
   "metadata": {},
   "outputs": [],
   "source": [
    "def check_errcode(result, func, cargs, cpl=False):\n",
    "    \"\"\"\n",
    "    Check the error code returned (c_int).\n",
    "    \"\"\"\n",
    "    check_err(result, cpl=cpl)"
   ]
  },
  {
   "cell_type": "markdown",
   "metadata": {},
   "source": []
  },
  {
   "cell_type": "code",
   "execution_count": null,
   "metadata": {},
   "outputs": [],
   "source": [
    "def check_pointer(result, func, cargs):\n",
    "    \"Make sure the result pointer is valid.\"\n",
    "    if isinstance(result, int):\n",
    "        result = c_void_p(result)\n",
    "    if result:\n",
    "        return result\n",
    "    else:\n",
    "        raise GDALException('Invalid pointer returned from \"%s\"' % func.__name__)"
   ]
  },
  {
   "cell_type": "markdown",
   "metadata": {},
   "source": []
  },
  {
   "cell_type": "code",
   "execution_count": null,
   "metadata": {},
   "outputs": [],
   "source": [
    "def check_str_arg(result, func, cargs):\n",
    "    \"\"\"\n",
    "    This is for the OSRGet[Angular|Linear]Units functions, which\n",
    "    require that the returned string pointer not be freed.  This\n",
    "    returns both the double and string values.\n",
    "    \"\"\"\n",
    "    dbl = result\n",
    "    ptr = cargs[-1]._obj\n",
    "    return dbl, ptr.value.decode()"
   ]
  },
  {
   "cell_type": "markdown",
   "metadata": {},
   "source": []
  }
 ],
 "metadata": {
  "language_info": {
   "name": "python"
  }
 },
 "nbformat": 4,
 "nbformat_minor": 2
}