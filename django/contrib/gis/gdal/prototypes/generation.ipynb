{
    "cells": [
        {
            "cell_type": "code",
            "execution_count": null,
            "metadata": {},
            "outputs": [],
            "source": [
                "\"\"\"\n",
                " This module contains functions that generate ctypes prototypes for the\n",
                " GDAL routines.\n",
                "\"\"\"\n",
                "\n",
                "from ctypes import POINTER, c_bool, c_char_p, c_double, c_int, c_int64, c_void_p\n",
                "from functools import partial\n",
                "\n",
                "from django.contrib.gis.gdal.prototypes.errcheck import (\n",
                "    check_arg_errcode,\n",
                "    check_const_string,\n",
                "    check_errcode,\n",
                "    check_geom,\n",
                "    check_geom_offset,\n",
                "    check_pointer,\n",
                "    check_srs,\n",
                "    check_str_arg,\n",
                "    check_string,\n",
                ")\n"
            ]
        },
        {
            "cell_type": "markdown",
            "metadata": {},
            "source": []
        },
        {
            "cell_type": "code",
            "execution_count": null,
            "metadata": {},
            "outputs": [],
            "source": [
                "class gdal_char_p(c_char_p):\n",
                "    pass\n"
            ]
        },
        {
            "cell_type": "markdown",
            "metadata": {},
            "source": []
        },
        {
            "cell_type": "code",
            "execution_count": null,
            "metadata": {},
            "outputs": [],
            "source": [
                "def bool_output(func, argtypes, errcheck=None):\n",
                "    \"\"\"Generate a ctypes function that returns a boolean value.\"\"\"\n",
                "    func.argtypes = argtypes\n",
                "    func.restype = c_bool\n",
                "    if errcheck:\n",
                "        func.errcheck = errcheck\n",
                "    return func\n"
            ]
        },
        {
            "cell_type": "markdown",
            "metadata": {},
            "source": []
        },
        {
            "cell_type": "code",
            "execution_count": null,
            "metadata": {},
            "outputs": [],
            "source": [
                "def double_output(func, argtypes, errcheck=False, strarg=False, cpl=False):\n",
                "    \"Generate a ctypes function that returns a double value.\"\n",
                "    func.argtypes = argtypes\n",
                "    func.restype = c_double\n",
                "    if errcheck:\n",
                "        func.errcheck = partial(check_arg_errcode, cpl=cpl)\n",
                "    if strarg:\n",
                "        func.errcheck = check_str_arg\n",
                "    return func\n"
            ]
        },
        {
            "cell_type": "markdown",
            "metadata": {},
            "source": []
        },
        {
            "cell_type": "code",
            "execution_count": null,
            "metadata": {},
            "outputs": [],
            "source": [
                "def geom_output(func, argtypes, offset=None):\n",
                "    \"\"\"\n",
                "    Generate a function that returns a Geometry either by reference\n",
                "    or directly (if the return_geom keyword is set to True).\n",
                "    \"\"\"\n",
                "    # Setting the argument types\n",
                "    func.argtypes = argtypes\n",
                "\n",
                "    if not offset:\n",
                "        # When a geometry pointer is directly returned.\n",
                "        func.restype = c_void_p\n",
                "        func.errcheck = check_geom\n",
                "    else:\n",
                "        # Error code returned, geometry is returned by-reference.\n",
                "        func.restype = c_int\n",
                "\n",
                "        def geomerrcheck(result, func, cargs):\n",
                "            return check_geom_offset(result, func, cargs, offset)\n",
                "\n",
                "        func.errcheck = geomerrcheck\n",
                "\n",
                "    return func\n"
            ]
        },
        {
            "cell_type": "markdown",
            "metadata": {},
            "source": []
        },
        {
            "cell_type": "code",
            "execution_count": null,
            "metadata": {},
            "outputs": [],
            "source": [
                "def int_output(func, argtypes, errcheck=None):\n",
                "    \"Generate a ctypes function that returns an integer value.\"\n",
                "    func.argtypes = argtypes\n",
                "    func.restype = c_int\n",
                "    if errcheck:\n",
                "        func.errcheck = errcheck\n",
                "    return func\n"
            ]
        },
        {
            "cell_type": "markdown",
            "metadata": {},
            "source": []
        },
        {
            "cell_type": "code",
            "execution_count": null,
            "metadata": {},
            "outputs": [],
            "source": [
                "def int64_output(func, argtypes):\n",
                "    \"Generate a ctypes function that returns a 64-bit integer value.\"\n",
                "    func.argtypes = argtypes\n",
                "    func.restype = c_int64\n",
                "    return func\n"
            ]
        },
        {
            "cell_type": "markdown",
            "metadata": {},
            "source": []
        },
        {
            "cell_type": "code",
            "execution_count": null,
            "metadata": {},
            "outputs": [],
            "source": [
                "def srs_output(func, argtypes):\n",
                "    \"\"\"\n",
                "    Generate a ctypes prototype for the given function with\n",
                "    the given C arguments that returns a pointer to an OGR\n",
                "    Spatial Reference System.\n",
                "    \"\"\"\n",
                "    func.argtypes = argtypes\n",
                "    func.restype = c_void_p\n",
                "    func.errcheck = check_srs\n",
                "    return func\n"
            ]
        },
        {
            "cell_type": "markdown",
            "metadata": {},
            "source": []
        },
        {
            "cell_type": "code",
            "execution_count": null,
            "metadata": {},
            "outputs": [],
            "source": [
                "def const_string_output(func, argtypes, offset=None, decoding=None, cpl=False):\n",
                "    func.argtypes = argtypes\n",
                "    if offset:\n",
                "        func.restype = c_int\n",
                "    else:\n",
                "        func.restype = c_char_p\n",
                "\n",
                "    def _check_const(result, func, cargs):\n",
                "        res = check_const_string(result, func, cargs, offset=offset, cpl=cpl)\n",
                "        if res and decoding:\n",
                "            res = res.decode(decoding)\n",
                "        return res\n",
                "\n",
                "    func.errcheck = _check_const\n",
                "\n",
                "    return func\n"
            ]
        },
        {
            "cell_type": "markdown",
            "metadata": {},
            "source": []
        },
        {
            "cell_type": "code",
            "execution_count": null,
            "metadata": {},
            "outputs": [],
            "source": [
                "def string_output(func, argtypes, offset=-1, str_result=False, decoding=None):\n",
                "    \"\"\"\n",
                "    Generate a ctypes prototype for the given function with the\n",
                "    given argument types that returns a string from a GDAL pointer.\n",
                "    The `const` flag indicates whether the allocated pointer should\n",
                "    be freed via the GDAL library routine VSIFree -- but only applies\n",
                "    only when `str_result` is True.\n",
                "    \"\"\"\n",
                "    func.argtypes = argtypes\n",
                "    if str_result:\n",
                "        # Use subclass of c_char_p so the error checking routine\n",
                "        # can free the memory at the pointer's address.\n",
                "        func.restype = gdal_char_p\n",
                "    else:\n",
                "        # Error code is returned\n",
                "        func.restype = c_int\n",
                "\n",
                "    # Dynamically defining our error-checking function with the\n",
                "    # given offset.\n",
                "    def _check_str(result, func, cargs):\n",
                "        res = check_string(result, func, cargs, offset=offset, str_result=str_result)\n",
                "        if res and decoding:\n",
                "            res = res.decode(decoding)\n",
                "        return res\n",
                "\n",
                "    func.errcheck = _check_str\n",
                "    return func\n"
            ]
        },
        {
            "cell_type": "markdown",
            "metadata": {},
            "source": []
        },
        {
            "cell_type": "code",
            "execution_count": null,
            "metadata": {},
            "outputs": [],
            "source": [
                "def void_output(func, argtypes, errcheck=True, cpl=False):\n",
                "    \"\"\"\n",
                "    For functions that don't only return an error code that needs to\n",
                "    be examined.\n",
                "    \"\"\"\n",
                "    if argtypes:\n",
                "        func.argtypes = argtypes\n",
                "    if errcheck:\n",
                "        # `errcheck` keyword may be set to False for routines that\n",
                "        # return void, rather than a status code.\n",
                "        func.restype = c_int\n",
                "        func.errcheck = partial(check_errcode, cpl=cpl)\n",
                "    else:\n",
                "        func.restype = None\n",
                "\n",
                "    return func\n"
            ]
        },
        {
            "cell_type": "markdown",
            "metadata": {},
            "source": []
        },
        {
            "cell_type": "code",
            "execution_count": null,
            "metadata": {},
            "outputs": [],
            "source": [
                "def voidptr_output(func, argtypes, errcheck=True):\n",
                "    \"For functions that return c_void_p.\"\n",
                "    func.argtypes = argtypes\n",
                "    func.restype = c_void_p\n",
                "    if errcheck:\n",
                "        func.errcheck = check_pointer\n",
                "    return func\n"
            ]
        },
        {
            "cell_type": "markdown",
            "metadata": {},
            "source": []
        },
        {
            "cell_type": "code",
            "execution_count": null,
            "metadata": {},
            "outputs": [],
            "source": [
                "def chararray_output(func, argtypes, errcheck=True):\n",
                "    \"\"\"For functions that return a c_char_p array.\"\"\"\n",
                "    func.argtypes = argtypes\n",
                "    func.restype = POINTER(c_char_p)\n",
                "    if errcheck:\n",
                "        func.errcheck = check_pointer\n",
                "    return func\n",
                "\n"
            ]
        },
        {
            "cell_type": "markdown",
            "metadata": {},
            "source": []
        }
    ],
    "metadata": {
        "language_info": {
            "name": "python"
        }
    },
    "nbformat": 4,
    "nbformat_minor": 2
}