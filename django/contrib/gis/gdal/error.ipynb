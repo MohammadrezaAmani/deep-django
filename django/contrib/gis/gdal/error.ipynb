{
 "cells": [
  {
   "cell_type": "code",
   "execution_count": null,
   "metadata": {},
   "outputs": [],
   "source": [
    "\"\"\"\n",
    " This module houses the GDAL & SRS Exception objects, and the\n",
    " check_err() routine which checks the status code returned by\n",
    " GDAL/OGR methods.\n",
    "\"\"\""
   ]
  },
  {
   "cell_type": "markdown",
   "metadata": {},
   "source": []
  },
  {
   "cell_type": "code",
   "execution_count": null,
   "metadata": {},
   "outputs": [],
   "source": [
    "# #### GDAL & SRS Exceptions ####\n",
    "class GDALException(Exception):\n",
    "    pass"
   ]
  },
  {
   "cell_type": "markdown",
   "metadata": {},
   "source": []
  },
  {
   "cell_type": "code",
   "execution_count": null,
   "metadata": {},
   "outputs": [],
   "source": [
    "class SRSException(Exception):\n",
    "    pass"
   ]
  },
  {
   "cell_type": "markdown",
   "metadata": {},
   "source": []
  },
  {
   "cell_type": "code",
   "execution_count": null,
   "metadata": {},
   "outputs": [],
   "source": [
    "# #### GDAL/OGR error checking codes and routine ####\n",
    "\n",
    "# OGR Error Codes\n",
    "OGRERR_DICT = {\n",
    "    1: (GDALException, \"Not enough data.\"),\n",
    "    2: (GDALException, \"Not enough memory.\"),\n",
    "    3: (GDALException, \"Unsupported geometry type.\"),\n",
    "    4: (GDALException, \"Unsupported operation.\"),\n",
    "    5: (GDALException, \"Corrupt data.\"),\n",
    "    6: (GDALException, \"OGR failure.\"),\n",
    "    7: (SRSException, \"Unsupported SRS.\"),\n",
    "    8: (GDALException, \"Invalid handle.\"),\n",
    "}\n",
    "\n",
    "# CPL Error Codes\n",
    "# https://gdal.org/api/cpl.html#cpl-error-h\n",
    "CPLERR_DICT = {\n",
    "    1: (GDALException, \"AppDefined\"),\n",
    "    2: (GDALException, \"OutOfMemory\"),\n",
    "    3: (GDALException, \"FileIO\"),\n",
    "    4: (GDALException, \"OpenFailed\"),\n",
    "    5: (GDALException, \"IllegalArg\"),\n",
    "    6: (GDALException, \"NotSupported\"),\n",
    "    7: (GDALException, \"AssertionFailed\"),\n",
    "    8: (GDALException, \"NoWriteAccess\"),\n",
    "    9: (GDALException, \"UserInterrupt\"),\n",
    "    10: (GDALException, \"ObjectNull\"),\n",
    "}\n",
    "\n",
    "ERR_NONE = 0"
   ]
  },
  {
   "cell_type": "markdown",
   "metadata": {},
   "source": []
  },
  {
   "cell_type": "code",
   "execution_count": null,
   "metadata": {},
   "outputs": [],
   "source": [
    "def check_err(code, cpl=False):\n",
    "    \"\"\"\n",
    "    Check the given CPL/OGRERR and raise an exception where appropriate.\n",
    "    \"\"\"\n",
    "    err_dict = CPLERR_DICT if cpl else OGRERR_DICT\n",
    "\n",
    "    if code == ERR_NONE:\n",
    "        return\n",
    "    elif code in err_dict:\n",
    "        e, msg = err_dict[code]\n",
    "        raise e(msg)\n",
    "    else:\n",
    "        raise GDALException('Unknown error code: \"%s\"' % code)"
   ]
  },
  {
   "cell_type": "markdown",
   "metadata": {},
   "source": []
  }
 ],
 "metadata": {
  "language_info": {
   "name": "python"
  }
 },
 "nbformat": 4,
 "nbformat_minor": 2
}