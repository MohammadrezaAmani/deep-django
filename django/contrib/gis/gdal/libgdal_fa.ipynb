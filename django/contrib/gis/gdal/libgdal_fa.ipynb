{
    "cells": [
        {
            "cell_type": "code",
            "execution_count": null,
            "metadata": {},
            "outputs": [],
            "source": [
                "import logging\n",
                "import os\n",
                "import re\n",
                "from ctypes import CDLL, CFUNCTYPE, c_char_p, c_int\n",
                "from ctypes.util import find_library\n",
                "\n",
                "from django.contrib.gis.gdal.error import GDALException\n",
                "from django.core.exceptions import ImproperlyConfigured\n",
                "\n",
                "logger = logging.getLogger(\"django.contrib.gis\")\n",
                "\n",
                "# Custom library path set?\n",
                "try:\n",
                "    from django.conf import settings\n",
                "\n",
                "    lib_path = settings.GDAL_LIBRARY_PATH\n",
                "except (AttributeError, ImportError, ImproperlyConfigured, OSError):\n",
                "    lib_path = None\n",
                "\n",
                "if lib_path:\n",
                "    lib_names = None\n",
                "elif os.name == \"nt\":\n",
                "    # Windows NT shared libraries\n",
                "    lib_names = [\n",
                "        \"gdal307\",\n",
                "        \"gdal306\",\n",
                "        \"gdal305\",\n",
                "        \"gdal304\",\n",
                "        \"gdal303\",\n",
                "        \"gdal302\",\n",
                "        \"gdal301\",\n",
                "        \"gdal300\",\n",
                "        \"gdal204\",\n",
                "    ]\n",
                "elif os.name == \"posix\":\n",
                "    # *NIX library names.\n",
                "    lib_names = [\n",
                "        \"gdal\",\n",
                "        \"GDAL\",\n",
                "        \"gdal3.7.0\",\n",
                "        \"gdal3.6.0\",\n",
                "        \"gdal3.5.0\",\n",
                "        \"gdal3.4.0\",\n",
                "        \"gdal3.3.0\",\n",
                "        \"gdal3.2.0\",\n",
                "        \"gdal3.1.0\",\n",
                "        \"gdal3.0.0\",\n",
                "        \"gdal2.4.0\",\n",
                "    ]\n",
                "else:\n",
                "    raise ImproperlyConfigured('GDAL is unsupported on OS \"%s\".' % os.name)\n",
                "\n",
                "# Using the ctypes `find_library` utility  to find the\n",
                "# path to the GDAL library from the list of library names.\n",
                "if lib_names:\n",
                "    for lib_name in lib_names:\n",
                "        lib_path = find_library(lib_name)\n",
                "        if lib_path is not None:\n",
                "            break\n",
                "\n",
                "if lib_path is None:\n",
                "    raise ImproperlyConfigured(\n",
                "        'Could not find the GDAL library (tried \"%s\"). Is GDAL installed? '\n",
                "        \"If it is, try setting GDAL_LIBRARY_PATH in your settings.\"\n",
                "        % '\", \"'.join(lib_names)\n",
                "    )\n",
                "\n",
                "# This loads the GDAL/OGR C library\n",
                "lgdal = CDLL(lib_path)\n",
                "\n",
                "# On Windows, the GDAL binaries have some OSR routines exported with\n",
                "# STDCALL, while others are not.  Thus, the library will also need to\n",
                "# be loaded up as WinDLL for said OSR functions that require the\n",
                "# different calling convention.\n",
                "if os.name == \"nt\":\n",
                "    from ctypes import WinDLL\n",
                "\n",
                "    lwingdal = WinDLL(lib_path)\n"
            ]
        },
        {
            "cell_type": "markdown",
            "metadata": {},
            "source": []
        },
        {
            "cell_type": "code",
            "execution_count": null,
            "metadata": {},
            "outputs": [],
            "source": [
                "def std_call(func):\n",
                "    \"\"\"\n",
                "    Return the correct STDCALL function for certain OSR routines on Win32\n",
                "    platforms.\n",
                "    \"\"\"\n",
                "    if os.name == \"nt\":\n",
                "        return lwingdal[func]\n",
                "    else:\n",
                "        return lgdal[func]\n"
            ]
        },
        {
            "cell_type": "markdown",
            "metadata": {},
            "source": []
        },
        {
            "cell_type": "code",
            "execution_count": null,
            "metadata": {},
            "outputs": [],
            "source": [
                "# #### Version-information functions. ####\n",
                "\n",
                "# Return GDAL library version information with the given key.\n",
                "_version_info = std_call(\"GDALVersionInfo\")\n",
                "_version_info.argtypes = [c_char_p]\n",
                "_version_info.restype = c_char_p\n"
            ]
        },
        {
            "cell_type": "markdown",
            "metadata": {},
            "source": []
        },
        {
            "cell_type": "code",
            "execution_count": null,
            "metadata": {},
            "outputs": [],
            "source": [
                "def gdal_version():\n",
                "    \"Return only the GDAL version number information.\"\n",
                "    return _version_info(b\"RELEASE_NAME\")\n"
            ]
        },
        {
            "cell_type": "markdown",
            "metadata": {},
            "source": []
        },
        {
            "cell_type": "code",
            "execution_count": null,
            "metadata": {},
            "outputs": [],
            "source": [
                "def gdal_full_version():\n",
                "    \"Return the full GDAL version information.\"\n",
                "    return _version_info(b\"\")\n"
            ]
        },
        {
            "cell_type": "markdown",
            "metadata": {},
            "source": []
        },
        {
            "cell_type": "code",
            "execution_count": null,
            "metadata": {},
            "outputs": [],
            "source": [
                "def gdal_version_info():\n",
                "    ver = gdal_version()\n",
                "    m = re.match(rb\"^(?P<major>\\d+)\\.(?P<minor>\\d+)(?:\\.(?P<subminor>\\d+))?\", ver)\n",
                "    if not m:\n",
                "        raise GDALException('Could not parse GDAL version string \"%s\"' % ver)\n",
                "    major, minor, subminor = m.groups()\n",
                "    return (int(major), int(minor), subminor and int(subminor))\n"
            ]
        },
        {
            "cell_type": "markdown",
            "metadata": {},
            "source": []
        },
        {
            "cell_type": "code",
            "execution_count": null,
            "metadata": {},
            "outputs": [],
            "source": [
                "GDAL_VERSION = gdal_version_info()\n",
                "\n",
                "# Set library error handling so as errors are logged\n",
                "CPLErrorHandler = CFUNCTYPE(None, c_int, c_int, c_char_p)\n"
            ]
        },
        {
            "cell_type": "markdown",
            "metadata": {},
            "source": []
        },
        {
            "cell_type": "code",
            "execution_count": null,
            "metadata": {},
            "outputs": [],
            "source": [
                "def err_handler(error_class, error_number, message):\n",
                "    logger.error(\"GDAL_ERROR %d: %s\", error_number, message)\n"
            ]
        },
        {
            "cell_type": "markdown",
            "metadata": {},
            "source": []
        },
        {
            "cell_type": "code",
            "execution_count": null,
            "metadata": {},
            "outputs": [],
            "source": [
                "err_handler = CPLErrorHandler(err_handler)\n"
            ]
        },
        {
            "cell_type": "markdown",
            "metadata": {},
            "source": []
        },
        {
            "cell_type": "code",
            "execution_count": null,
            "metadata": {},
            "outputs": [],
            "source": [
                "def function(name, args, restype):\n",
                "    func = std_call(name)\n",
                "    func.argtypes = args\n",
                "    func.restype = restype\n",
                "    return func\n"
            ]
        },
        {
            "cell_type": "markdown",
            "metadata": {},
            "source": []
        },
        {
            "cell_type": "code",
            "execution_count": null,
            "metadata": {},
            "outputs": [],
            "source": [
                "set_error_handler = function(\"CPLSetErrorHandler\", [CPLErrorHandler], CPLErrorHandler)\n",
                "set_error_handler(err_handler)\n",
                "\n"
            ]
        },
        {
            "cell_type": "markdown",
            "metadata": {},
            "source": []
        }
    ],
    "metadata": {
        "language_info": {
            "name": "python"
        }
    },
    "nbformat": 4,
    "nbformat_minor": 2
}