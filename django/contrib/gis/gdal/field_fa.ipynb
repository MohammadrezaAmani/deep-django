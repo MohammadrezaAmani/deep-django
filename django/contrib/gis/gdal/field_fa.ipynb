{
    "cells": [
        {
            "cell_type": "code",
            "execution_count": null,
            "metadata": {},
            "outputs": [],
            "source": [
                "from ctypes import byref, c_int\n",
                "from datetime import date, datetime, time\n",
                "\n",
                "from django.contrib.gis.gdal.base import GDALBase\n",
                "from django.contrib.gis.gdal.error import GDALException\n",
                "from django.contrib.gis.gdal.prototypes import ds as capi\n",
                "from django.utils.encoding import force_str\n"
            ]
        },
        {
            "cell_type": "markdown",
            "metadata": {},
            "source": []
        },
        {
            "cell_type": "code",
            "execution_count": null,
            "metadata": {},
            "outputs": [],
            "source": [
                "# For more information, see the OGR C API source code:\n",
                "#  https://gdal.org/api/vector_c_api.html\n",
                "#\n",
                "# The OGR_Fld_* routines are relevant here.\n",
                "class Field(GDALBase):\n",
                "    \"\"\"\n",
                "    Wrap an OGR Field. Needs to be instantiated from a Feature object.\n",
                "    \"\"\"\n",
                "\n",
                "    def __init__(self, feat, index):\n",
                "        \"\"\"\n",
                "        Initialize on the feature object and the integer index of\n",
                "        the field within the feature.\n",
                "        \"\"\"\n",
                "        # Setting the feature pointer and index.\n",
                "        self._feat = feat\n",
                "        self._index = index\n",
                "\n",
                "        # Getting the pointer for this field.\n",
                "        fld_ptr = capi.get_feat_field_defn(feat.ptr, index)\n",
                "        if not fld_ptr:\n",
                "            raise GDALException(\"Cannot create OGR Field, invalid pointer given.\")\n",
                "        self.ptr = fld_ptr\n",
                "\n",
                "        # Setting the class depending upon the OGR Field Type (OFT)\n",
                "        self.__class__ = OGRFieldTypes[self.type]\n",
                "\n",
                "    def __str__(self):\n",
                "        \"Return the string representation of the Field.\"\n",
                "        return str(self.value).strip()\n",
                "\n",
                "    # #### Field Methods ####\n",
                "    def as_double(self):\n",
                "        \"Retrieve the Field's value as a double (float).\"\n",
                "        return (\n",
                "            capi.get_field_as_double(self._feat.ptr, self._index)\n",
                "            if self.is_set\n",
                "            else None\n",
                "        )\n",
                "\n",
                "    def as_int(self, is_64=False):\n",
                "        \"Retrieve the Field's value as an integer.\"\n",
                "        if is_64:\n",
                "            return (\n",
                "                capi.get_field_as_integer64(self._feat.ptr, self._index)\n",
                "                if self.is_set\n",
                "                else None\n",
                "            )\n",
                "        else:\n",
                "            return (\n",
                "                capi.get_field_as_integer(self._feat.ptr, self._index)\n",
                "                if self.is_set\n",
                "                else None\n",
                "            )\n",
                "\n",
                "    def as_string(self):\n",
                "        \"Retrieve the Field's value as a string.\"\n",
                "        if not self.is_set:\n",
                "            return None\n",
                "        string = capi.get_field_as_string(self._feat.ptr, self._index)\n",
                "        return force_str(string, encoding=self._feat.encoding, strings_only=True)\n",
                "\n",
                "    def as_datetime(self):\n",
                "        \"Retrieve the Field's value as a tuple of date & time components.\"\n",
                "        if not self.is_set:\n",
                "            return None\n",
                "        yy, mm, dd, hh, mn, ss, tz = [c_int() for i in range(7)]\n",
                "        status = capi.get_field_as_datetime(\n",
                "            self._feat.ptr,\n",
                "            self._index,\n",
                "            byref(yy),\n",
                "            byref(mm),\n",
                "            byref(dd),\n",
                "            byref(hh),\n",
                "            byref(mn),\n",
                "            byref(ss),\n",
                "            byref(tz),\n",
                "        )\n",
                "        if status:\n",
                "            return (yy, mm, dd, hh, mn, ss, tz)\n",
                "        else:\n",
                "            raise GDALException(\n",
                "                \"Unable to retrieve date & time information from the field.\"\n",
                "            )\n",
                "\n",
                "    # #### Field Properties ####\n",
                "    @property\n",
                "    def is_set(self):\n",
                "        \"Return True if the value of this field isn't null, False otherwise.\"\n",
                "        return capi.is_field_set(self._feat.ptr, self._index)\n",
                "\n",
                "    @property\n",
                "    def name(self):\n",
                "        \"Return the name of this Field.\"\n",
                "        name = capi.get_field_name(self.ptr)\n",
                "        return force_str(name, encoding=self._feat.encoding, strings_only=True)\n",
                "\n",
                "    @property\n",
                "    def precision(self):\n",
                "        \"Return the precision of this Field.\"\n",
                "        return capi.get_field_precision(self.ptr)\n",
                "\n",
                "    @property\n",
                "    def type(self):\n",
                "        \"Return the OGR type of this Field.\"\n",
                "        return capi.get_field_type(self.ptr)\n",
                "\n",
                "    @property\n",
                "    def type_name(self):\n",
                "        \"Return the OGR field type name for this Field.\"\n",
                "        return capi.get_field_type_name(self.type)\n",
                "\n",
                "    @property\n",
                "    def value(self):\n",
                "        \"Return the value of this Field.\"\n",
                "        # Default is to get the field as a string.\n",
                "        return self.as_string()\n",
                "\n",
                "    @property\n",
                "    def width(self):\n",
                "        \"Return the width of this Field.\"\n",
                "        return capi.get_field_width(self.ptr)\n"
            ]
        },
        {
            "cell_type": "markdown",
            "metadata": {},
            "source": []
        },
        {
            "cell_type": "code",
            "execution_count": null,
            "metadata": {},
            "outputs": [],
            "source": [
                "# ### The Field sub-classes for each OGR Field type. ###\n",
                "class OFTInteger(Field):\n",
                "    _bit64 = False\n",
                "\n",
                "    @property\n",
                "    def value(self):\n",
                "        \"Return an integer contained in this field.\"\n",
                "        return self.as_int(self._bit64)\n",
                "\n",
                "    @property\n",
                "    def type(self):\n",
                "        \"\"\"\n",
                "        GDAL uses OFTReals to represent OFTIntegers in created\n",
                "        shapefiles -- forcing the type here since the underlying field\n",
                "        type may actually be OFTReal.\n",
                "        \"\"\"\n",
                "        return 0\n"
            ]
        },
        {
            "cell_type": "markdown",
            "metadata": {},
            "source": []
        },
        {
            "cell_type": "code",
            "execution_count": null,
            "metadata": {},
            "outputs": [],
            "source": [
                "class OFTReal(Field):\n",
                "    @property\n",
                "    def value(self):\n",
                "        \"Return a float contained in this field.\"\n",
                "        return self.as_double()\n"
            ]
        },
        {
            "cell_type": "markdown",
            "metadata": {},
            "source": []
        },
        {
            "cell_type": "code",
            "execution_count": null,
            "metadata": {},
            "outputs": [],
            "source": [
                "# String & Binary fields, just subclasses\n",
                "class OFTString(Field):\n",
                "    pass\n"
            ]
        },
        {
            "cell_type": "markdown",
            "metadata": {},
            "source": []
        },
        {
            "cell_type": "code",
            "execution_count": null,
            "metadata": {},
            "outputs": [],
            "source": [
                "class OFTWideString(Field):\n",
                "    pass\n"
            ]
        },
        {
            "cell_type": "markdown",
            "metadata": {},
            "source": []
        },
        {
            "cell_type": "code",
            "execution_count": null,
            "metadata": {},
            "outputs": [],
            "source": [
                "class OFTBinary(Field):\n",
                "    pass\n"
            ]
        },
        {
            "cell_type": "markdown",
            "metadata": {},
            "source": []
        },
        {
            "cell_type": "code",
            "execution_count": null,
            "metadata": {},
            "outputs": [],
            "source": [
                "# OFTDate, OFTTime, OFTDateTime fields.\n",
                "class OFTDate(Field):\n",
                "    @property\n",
                "    def value(self):\n",
                "        \"Return a Python `date` object for the OFTDate field.\"\n",
                "        try:\n",
                "            yy, mm, dd, hh, mn, ss, tz = self.as_datetime()\n",
                "            return date(yy.value, mm.value, dd.value)\n",
                "        except (TypeError, ValueError, GDALException):\n",
                "            return None\n"
            ]
        },
        {
            "cell_type": "markdown",
            "metadata": {},
            "source": []
        },
        {
            "cell_type": "code",
            "execution_count": null,
            "metadata": {},
            "outputs": [],
            "source": [
                "class OFTDateTime(Field):\n",
                "    @property\n",
                "    def value(self):\n",
                "        \"Return a Python `datetime` object for this OFTDateTime field.\"\n",
                "        # TODO: Adapt timezone information.\n",
                "        #  See https://lists.osgeo.org/pipermail/gdal-dev/2006-February/007990.html\n",
                "        #  The `tz` variable has values of: 0=unknown, 1=localtime (ambiguous),\n",
                "        #  100=GMT, 104=GMT+1, 80=GMT-5, etc.\n",
                "        try:\n",
                "            yy, mm, dd, hh, mn, ss, tz = self.as_datetime()\n",
                "            return datetime(yy.value, mm.value, dd.value, hh.value, mn.value, ss.value)\n",
                "        except (TypeError, ValueError, GDALException):\n",
                "            return None\n"
            ]
        },
        {
            "cell_type": "markdown",
            "metadata": {},
            "source": []
        },
        {
            "cell_type": "code",
            "execution_count": null,
            "metadata": {},
            "outputs": [],
            "source": [
                "class OFTTime(Field):\n",
                "    @property\n",
                "    def value(self):\n",
                "        \"Return a Python `time` object for this OFTTime field.\"\n",
                "        try:\n",
                "            yy, mm, dd, hh, mn, ss, tz = self.as_datetime()\n",
                "            return time(hh.value, mn.value, ss.value)\n",
                "        except (ValueError, GDALException):\n",
                "            return None\n"
            ]
        },
        {
            "cell_type": "markdown",
            "metadata": {},
            "source": []
        },
        {
            "cell_type": "code",
            "execution_count": null,
            "metadata": {},
            "outputs": [],
            "source": [
                "class OFTInteger64(OFTInteger):\n",
                "    _bit64 = True\n"
            ]
        },
        {
            "cell_type": "markdown",
            "metadata": {},
            "source": []
        },
        {
            "cell_type": "code",
            "execution_count": null,
            "metadata": {},
            "outputs": [],
            "source": [
                "# List fields are also just subclasses\n",
                "class OFTIntegerList(Field):\n",
                "    pass\n"
            ]
        },
        {
            "cell_type": "markdown",
            "metadata": {},
            "source": []
        },
        {
            "cell_type": "code",
            "execution_count": null,
            "metadata": {},
            "outputs": [],
            "source": [
                "class OFTRealList(Field):\n",
                "    pass\n"
            ]
        },
        {
            "cell_type": "markdown",
            "metadata": {},
            "source": []
        },
        {
            "cell_type": "code",
            "execution_count": null,
            "metadata": {},
            "outputs": [],
            "source": [
                "class OFTStringList(Field):\n",
                "    pass\n"
            ]
        },
        {
            "cell_type": "markdown",
            "metadata": {},
            "source": []
        },
        {
            "cell_type": "code",
            "execution_count": null,
            "metadata": {},
            "outputs": [],
            "source": [
                "class OFTWideStringList(Field):\n",
                "    pass\n"
            ]
        },
        {
            "cell_type": "markdown",
            "metadata": {},
            "source": []
        },
        {
            "cell_type": "code",
            "execution_count": null,
            "metadata": {},
            "outputs": [],
            "source": [
                "class OFTInteger64List(Field):\n",
                "    pass\n"
            ]
        },
        {
            "cell_type": "markdown",
            "metadata": {},
            "source": []
        },
        {
            "cell_type": "code",
            "execution_count": null,
            "metadata": {},
            "outputs": [],
            "source": [
                "# Class mapping dictionary for OFT Types and reverse mapping.\n",
                "OGRFieldTypes = {\n",
                "    0: OFTInteger,\n",
                "    1: OFTIntegerList,\n",
                "    2: OFTReal,\n",
                "    3: OFTRealList,\n",
                "    4: OFTString,\n",
                "    5: OFTStringList,\n",
                "    6: OFTWideString,\n",
                "    7: OFTWideStringList,\n",
                "    8: OFTBinary,\n",
                "    9: OFTDate,\n",
                "    10: OFTTime,\n",
                "    11: OFTDateTime,\n",
                "    12: OFTInteger64,\n",
                "    13: OFTInteger64List,\n",
                "}\n",
                "ROGRFieldTypes = {cls: num for num, cls in OGRFieldTypes.items()}\n",
                "\n"
            ]
        },
        {
            "cell_type": "markdown",
            "metadata": {},
            "source": []
        }
    ],
    "metadata": {
        "language_info": {
            "name": "python"
        }
    },
    "nbformat": 4,
    "nbformat_minor": 2
}