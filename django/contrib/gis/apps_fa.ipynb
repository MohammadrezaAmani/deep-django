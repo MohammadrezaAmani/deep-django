{
 "cells": [
  {
   "cell_type": "code",
   "execution_count": null,
   "metadata": {},
   "outputs": [],
   "source": [
    "from django.apps import AppConfig\n",
    "from django.core import serializers\n",
    "from django.utils.translation import gettext_lazy as _"
   ]
  },
  {
   "cell_type": "markdown",
   "metadata": {},
   "source": []
  },
  {
   "cell_type": "code",
   "execution_count": null,
   "metadata": {},
   "outputs": [],
   "source": [
    "class GISConfig(AppConfig):\n",
    "    default_auto_field = \"django.db.models.AutoField\"\n",
    "    name = \"django.contrib.gis\"\n",
    "    verbose_name = _(\"GIS\")\n",
    "\n",
    "    def ready(self):\n",
    "        serializers.BUILTIN_SERIALIZERS.setdefault(\n",
    "            \"geojson\", \"django.contrib.gis.serializers.geojson\"\n",
    "        )"
   ]
  },
  {
   "cell_type": "markdown",
   "metadata": {},
   "source": []
  }
 ],
 "metadata": {
  "language_info": {
   "name": "python"
  }
 },
 "nbformat": 4,
 "nbformat_minor": 2
}