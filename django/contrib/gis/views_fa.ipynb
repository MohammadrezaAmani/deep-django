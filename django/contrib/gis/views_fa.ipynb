{
    "cells": [
        {
            "cell_type": "code",
            "execution_count": null,
            "metadata": {},
            "outputs": [],
            "source": [
                "from django.http import Http404\n",
                "from django.utils.translation import gettext as _\n"
            ]
        },
        {
            "cell_type": "markdown",
            "metadata": {},
            "source": []
        },
        {
            "cell_type": "code",
            "execution_count": null,
            "metadata": {},
            "outputs": [],
            "source": [
                "def feed(request, url, feed_dict=None):\n",
                "    \"\"\"Provided for backwards compatibility.\"\"\"\n",
                "    if not feed_dict:\n",
                "        raise Http404(_(\"No feeds are registered.\"))\n",
                "\n",
                "    slug = url.partition(\"/\")[0]\n",
                "    try:\n",
                "        f = feed_dict[slug]\n",
                "    except KeyError:\n",
                "        raise Http404(_(\"Slug %r isn\u2019t registered.\") % slug)\n",
                "\n",
                "    instance = f()\n",
                "    instance.feed_url = getattr(f, \"feed_url\", None) or request.path\n",
                "    instance.title_template = f.title_template or (\"feeds/%s_title.html\" % slug)\n",
                "    instance.description_template = f.description_template or (\n",
                "        \"feeds/%s_description.html\" % slug\n",
                "    )\n",
                "    return instance(request)\n",
                "\n"
            ]
        },
        {
            "cell_type": "markdown",
            "metadata": {},
            "source": []
        }
    ],
    "metadata": {
        "language_info": {
            "name": "python"
        }
    },
    "nbformat": 4,
    "nbformat_minor": 2
}