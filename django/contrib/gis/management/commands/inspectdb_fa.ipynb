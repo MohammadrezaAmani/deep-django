{
    "cells": [
        {
            "cell_type": "code",
            "execution_count": null,
            "metadata": {},
            "outputs": [],
            "source": [
                "from django.core.management.commands.inspectdb import Command as InspectDBCommand\n"
            ]
        },
        {
            "cell_type": "markdown",
            "metadata": {},
            "source": []
        },
        {
            "cell_type": "code",
            "execution_count": null,
            "metadata": {},
            "outputs": [],
            "source": [
                "class Command(InspectDBCommand):\n",
                "    db_module = \"django.contrib.gis.db\"\n",
                "\n",
                "    def get_field_type(self, connection, table_name, row):\n",
                "        field_type, field_params, field_notes = super().get_field_type(\n",
                "            connection, table_name, row\n",
                "        )\n",
                "        if field_type == \"GeometryField\":\n",
                "            # Getting a more specific field type and any additional parameters\n",
                "            # from the `get_geometry_type` routine for the spatial backend.\n",
                "            field_type, geo_params = connection.introspection.get_geometry_type(\n",
                "                table_name, row\n",
                "            )\n",
                "            field_params.update(geo_params)\n",
                "        return field_type, field_params, field_notes\n",
                "\n"
            ]
        },
        {
            "cell_type": "markdown",
            "metadata": {},
            "source": []
        }
    ],
    "metadata": {
        "language_info": {
            "name": "python"
        }
    },
    "nbformat": 4,
    "nbformat_minor": 2
}