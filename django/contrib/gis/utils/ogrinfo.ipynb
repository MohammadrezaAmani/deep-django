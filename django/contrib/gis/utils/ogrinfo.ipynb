{
    "cells": [
        {
            "cell_type": "code",
            "execution_count": null,
            "metadata": {},
            "outputs": [],
            "source": [
                "\"\"\"\n",
                "This module includes some utility functions for inspecting the layout\n",
                "of a GDAL data source -- the functionality is analogous to the output\n",
                "produced by the `ogrinfo` utility.\n",
                "\"\"\"\n",
                "\n",
                "from django.contrib.gis.gdal import DataSource\n",
                "from django.contrib.gis.gdal.geometries import GEO_CLASSES\n"
            ]
        },
        {
            "cell_type": "markdown",
            "metadata": {},
            "source": []
        },
        {
            "cell_type": "code",
            "execution_count": null,
            "metadata": {},
            "outputs": [],
            "source": [
                "def ogrinfo(data_source, num_features=10):\n",
                "    \"\"\"\n",
                "    Walk the available layers in the supplied `data_source`, displaying\n",
                "    the fields for the first `num_features` features.\n",
                "    \"\"\"\n",
                "\n",
                "    # Checking the parameters.\n",
                "    if isinstance(data_source, str):\n",
                "        data_source = DataSource(data_source)\n",
                "    elif isinstance(data_source, DataSource):\n",
                "        pass\n",
                "    else:\n",
                "        raise Exception(\n",
                "            \"Data source parameter must be a string or a DataSource object.\"\n",
                "        )\n",
                "\n",
                "    for i, layer in enumerate(data_source):\n",
                "        print(\"data source : %s\" % data_source.name)\n",
                "        print(\"==== layer %s\" % i)\n",
                "        print(\"  shape type: %s\" % GEO_CLASSES[layer.geom_type.num].__name__)\n",
                "        print(\"  # features: %s\" % len(layer))\n",
                "        print(\"         srs: %s\" % layer.srs)\n",
                "        extent_tup = layer.extent.tuple\n",
                "        print(\"      extent: %s - %s\" % (extent_tup[0:2], extent_tup[2:4]))\n",
                "        print(\"Displaying the first %s features ====\" % num_features)\n",
                "\n",
                "        width = max(*map(len, layer.fields))\n",
                "        fmt = \" %%%ss: %%s\" % width\n",
                "        for j, feature in enumerate(layer[:num_features]):\n",
                "            print(\"=== Feature %s\" % j)\n",
                "            for fld_name in layer.fields:\n",
                "                type_name = feature[fld_name].type_name\n",
                "                output = fmt % (fld_name, type_name)\n",
                "                val = feature.get(fld_name)\n",
                "                if val:\n",
                "                    if isinstance(val, str):\n",
                "                        val_fmt = ' (\"%s\")'\n",
                "                    else:\n",
                "                        val_fmt = \" (%s)\"\n",
                "                    output += val_fmt % val\n",
                "                else:\n",
                "                    output += \" (None)\"\n",
                "                print(output)\n",
                "\n"
            ]
        },
        {
            "cell_type": "markdown",
            "metadata": {},
            "source": []
        }
    ],
    "metadata": {
        "language_info": {
            "name": "python"
        }
    },
    "nbformat": 4,
    "nbformat_minor": 2
}