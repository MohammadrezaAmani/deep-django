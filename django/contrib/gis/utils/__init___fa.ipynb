{
    "cells": [
        {
            "cell_type": "code",
            "execution_count": null,
            "metadata": {},
            "outputs": [],
            "source": [
                "\"\"\"\n",
                " This module contains useful utilities for GeoDjango.\n",
                "\"\"\"\n",
                "\n",
                "from django.contrib.gis.utils.ogrinfo import ogrinfo\n",
                "from django.contrib.gis.utils.ogrinspect import mapping, ogrinspect\n",
                "from django.contrib.gis.utils.srs import add_srs_entry\n",
                "from django.core.exceptions import ImproperlyConfigured\n",
                "\n",
                "__all__ = [\n",
                "    \"add_srs_entry\",\n",
                "    \"mapping\",\n",
                "    \"ogrinfo\",\n",
                "    \"ogrinspect\",\n",
                "]\n",
                "\n",
                "try:\n",
                "    # LayerMapping requires DJANGO_SETTINGS_MODULE to be set,\n",
                "    # and ImproperlyConfigured is raised if that's not the case.\n",
                "    from django.contrib.gis.utils.layermapping import LayerMapError, LayerMapping\n",
                "\n",
                "    __all__ += [\"LayerMapError\", \"LayerMapping\"]\n",
                "\n",
                "except ImproperlyConfigured:\n",
                "    pass\n",
                "\n"
            ]
        },
        {
            "cell_type": "markdown",
            "metadata": {},
            "source": []
        }
    ],
    "metadata": {
        "language_info": {
            "name": "python"
        }
    },
    "nbformat": 4,
    "nbformat_minor": 2
}