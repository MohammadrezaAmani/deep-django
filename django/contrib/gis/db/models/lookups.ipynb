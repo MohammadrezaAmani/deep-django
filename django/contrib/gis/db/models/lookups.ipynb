{
    "cells": [
        {
            "cell_type": "code",
            "execution_count": null,
            "metadata": {},
            "outputs": [],
            "source": [
                "from django.contrib.gis.db.models.fields import BaseSpatialField\n",
                "from django.contrib.gis.measure import Distance\n",
                "from django.db import NotSupportedError\n",
                "from django.db.models import Expression, Lookup, Transform\n",
                "from django.db.models.sql.query import Query\n",
                "from django.utils.regex_helper import _lazy_re_compile\n"
            ]
        },
        {
            "cell_type": "markdown",
            "metadata": {},
            "source": []
        },
        {
            "cell_type": "code",
            "execution_count": null,
            "metadata": {},
            "outputs": [],
            "source": [
                "class RasterBandTransform(Transform):\n",
                "    def as_sql(self, compiler, connection):\n",
                "        return compiler.compile(self.lhs)\n"
            ]
        },
        {
            "cell_type": "markdown",
            "metadata": {},
            "source": []
        },
        {
            "cell_type": "code",
            "execution_count": null,
            "metadata": {},
            "outputs": [],
            "source": [
                "class GISLookup(Lookup):\n",
                "    sql_template = None\n",
                "    transform_func = None\n",
                "    distance = False\n",
                "    band_rhs = None\n",
                "    band_lhs = None\n",
                "\n",
                "    def __init__(self, lhs, rhs):\n",
                "        rhs, *self.rhs_params = rhs if isinstance(rhs, (list, tuple)) else [rhs]\n",
                "        super().__init__(lhs, rhs)\n",
                "        self.template_params = {}\n",
                "        self.process_rhs_params()\n",
                "\n",
                "    def process_rhs_params(self):\n",
                "        if self.rhs_params:\n",
                "            # Check if a band index was passed in the query argument.\n",
                "            if len(self.rhs_params) == (2 if self.lookup_name == \"relate\" else 1):\n",
                "                self.process_band_indices()\n",
                "            elif len(self.rhs_params) > 1:\n",
                "                raise ValueError(\"Tuple too long for lookup %s.\" % self.lookup_name)\n",
                "        elif isinstance(self.lhs, RasterBandTransform):\n",
                "            self.process_band_indices(only_lhs=True)\n",
                "\n",
                "    def process_band_indices(self, only_lhs=False):\n",
                "        \"\"\"\n",
                "        Extract the lhs band index from the band transform class and the rhs\n",
                "        band index from the input tuple.\n",
                "        \"\"\"\n",
                "        # PostGIS band indices are 1-based, so the band index needs to be\n",
                "        # increased to be consistent with the GDALRaster band indices.\n",
                "        if only_lhs:\n",
                "            self.band_rhs = 1\n",
                "            self.band_lhs = self.lhs.band_index + 1\n",
                "            return\n",
                "\n",
                "        if isinstance(self.lhs, RasterBandTransform):\n",
                "            self.band_lhs = self.lhs.band_index + 1\n",
                "        else:\n",
                "            self.band_lhs = 1\n",
                "\n",
                "        self.band_rhs, *self.rhs_params = self.rhs_params\n",
                "\n",
                "    def get_db_prep_lookup(self, value, connection):\n",
                "        # get_db_prep_lookup is called by process_rhs from super class\n",
                "        return (\"%s\", [connection.ops.Adapter(value)])\n",
                "\n",
                "    def process_rhs(self, compiler, connection):\n",
                "        if isinstance(self.rhs, Query):\n",
                "            # If rhs is some Query, don't touch it.\n",
                "            return super().process_rhs(compiler, connection)\n",
                "        if isinstance(self.rhs, Expression):\n",
                "            self.rhs = self.rhs.resolve_expression(compiler.query)\n",
                "        rhs, rhs_params = super().process_rhs(compiler, connection)\n",
                "        placeholder = connection.ops.get_geom_placeholder(\n",
                "            self.lhs.output_field, self.rhs, compiler\n",
                "        )\n",
                "        return placeholder % rhs, rhs_params\n",
                "\n",
                "    def get_rhs_op(self, connection, rhs):\n",
                "        # Unlike BuiltinLookup, the GIS get_rhs_op() implementation should return\n",
                "        # an object (SpatialOperator) with an as_sql() method to allow for more\n",
                "        # complex computations (where the lhs part can be mixed in).\n",
                "        return connection.ops.gis_operators[self.lookup_name]\n",
                "\n",
                "    def as_sql(self, compiler, connection):\n",
                "        lhs_sql, lhs_params = self.process_lhs(compiler, connection)\n",
                "        rhs_sql, rhs_params = self.process_rhs(compiler, connection)\n",
                "        sql_params = (*lhs_params, *rhs_params)\n",
                "\n",
                "        template_params = {\n",
                "            \"lhs\": lhs_sql,\n",
                "            \"rhs\": rhs_sql,\n",
                "            \"value\": \"%s\",\n",
                "            **self.template_params,\n",
                "        }\n",
                "        rhs_op = self.get_rhs_op(connection, rhs_sql)\n",
                "        return rhs_op.as_sql(connection, self, template_params, sql_params)\n"
            ]
        },
        {
            "cell_type": "markdown",
            "metadata": {},
            "source": []
        },
        {
            "cell_type": "code",
            "execution_count": null,
            "metadata": {},
            "outputs": [],
            "source": [
                "# ------------------\n",
                "# Geometry operators\n",
                "# ------------------\n"
            ]
        },
        {
            "cell_type": "markdown",
            "metadata": {},
            "source": []
        },
        {
            "cell_type": "code",
            "execution_count": null,
            "metadata": {},
            "outputs": [],
            "source": [
                "@BaseSpatialField.register_lookup\n",
                "class OverlapsLeftLookup(GISLookup):\n",
                "    \"\"\"\n",
                "    The overlaps_left operator returns true if A's bounding box overlaps or is to the\n",
                "    left of B's bounding box.\n",
                "    \"\"\"\n",
                "\n",
                "    lookup_name = \"overlaps_left\"\n"
            ]
        },
        {
            "cell_type": "markdown",
            "metadata": {},
            "source": []
        },
        {
            "cell_type": "code",
            "execution_count": null,
            "metadata": {},
            "outputs": [],
            "source": [
                "@BaseSpatialField.register_lookup\n",
                "class OverlapsRightLookup(GISLookup):\n",
                "    \"\"\"\n",
                "    The 'overlaps_right' operator returns true if A's bounding box overlaps or is to the\n",
                "    right of B's bounding box.\n",
                "    \"\"\"\n",
                "\n",
                "    lookup_name = \"overlaps_right\"\n"
            ]
        },
        {
            "cell_type": "markdown",
            "metadata": {},
            "source": []
        },
        {
            "cell_type": "code",
            "execution_count": null,
            "metadata": {},
            "outputs": [],
            "source": [
                "@BaseSpatialField.register_lookup\n",
                "class OverlapsBelowLookup(GISLookup):\n",
                "    \"\"\"\n",
                "    The 'overlaps_below' operator returns true if A's bounding box overlaps or is below\n",
                "    B's bounding box.\n",
                "    \"\"\"\n",
                "\n",
                "    lookup_name = \"overlaps_below\"\n"
            ]
        },
        {
            "cell_type": "markdown",
            "metadata": {},
            "source": []
        },
        {
            "cell_type": "code",
            "execution_count": null,
            "metadata": {},
            "outputs": [],
            "source": [
                "@BaseSpatialField.register_lookup\n",
                "class OverlapsAboveLookup(GISLookup):\n",
                "    \"\"\"\n",
                "    The 'overlaps_above' operator returns true if A's bounding box overlaps or is above\n",
                "    B's bounding box.\n",
                "    \"\"\"\n",
                "\n",
                "    lookup_name = \"overlaps_above\"\n"
            ]
        },
        {
            "cell_type": "markdown",
            "metadata": {},
            "source": []
        },
        {
            "cell_type": "code",
            "execution_count": null,
            "metadata": {},
            "outputs": [],
            "source": [
                "@BaseSpatialField.register_lookup\n",
                "class LeftLookup(GISLookup):\n",
                "    \"\"\"\n",
                "    The 'left' operator returns true if A's bounding box is strictly to the left\n",
                "    of B's bounding box.\n",
                "    \"\"\"\n",
                "\n",
                "    lookup_name = \"left\"\n"
            ]
        },
        {
            "cell_type": "markdown",
            "metadata": {},
            "source": []
        },
        {
            "cell_type": "code",
            "execution_count": null,
            "metadata": {},
            "outputs": [],
            "source": [
                "@BaseSpatialField.register_lookup\n",
                "class RightLookup(GISLookup):\n",
                "    \"\"\"\n",
                "    The 'right' operator returns true if A's bounding box is strictly to the right\n",
                "    of B's bounding box.\n",
                "    \"\"\"\n",
                "\n",
                "    lookup_name = \"right\"\n"
            ]
        },
        {
            "cell_type": "markdown",
            "metadata": {},
            "source": []
        },
        {
            "cell_type": "code",
            "execution_count": null,
            "metadata": {},
            "outputs": [],
            "source": [
                "@BaseSpatialField.register_lookup\n",
                "class StrictlyBelowLookup(GISLookup):\n",
                "    \"\"\"\n",
                "    The 'strictly_below' operator returns true if A's bounding box is strictly below B's\n",
                "    bounding box.\n",
                "    \"\"\"\n",
                "\n",
                "    lookup_name = \"strictly_below\"\n"
            ]
        },
        {
            "cell_type": "markdown",
            "metadata": {},
            "source": []
        },
        {
            "cell_type": "code",
            "execution_count": null,
            "metadata": {},
            "outputs": [],
            "source": [
                "@BaseSpatialField.register_lookup\n",
                "class StrictlyAboveLookup(GISLookup):\n",
                "    \"\"\"\n",
                "    The 'strictly_above' operator returns true if A's bounding box is strictly above B's\n",
                "    bounding box.\n",
                "    \"\"\"\n",
                "\n",
                "    lookup_name = \"strictly_above\"\n"
            ]
        },
        {
            "cell_type": "markdown",
            "metadata": {},
            "source": []
        },
        {
            "cell_type": "code",
            "execution_count": null,
            "metadata": {},
            "outputs": [],
            "source": [
                "@BaseSpatialField.register_lookup\n",
                "class SameAsLookup(GISLookup):\n",
                "    \"\"\"\n",
                "    The \"~=\" operator is the \"same as\" operator. It tests actual geometric\n",
                "    equality of two features. So if A and B are the same feature,\n",
                "    vertex-by-vertex, the operator returns true.\n",
                "    \"\"\"\n",
                "\n",
                "    lookup_name = \"same_as\"\n"
            ]
        },
        {
            "cell_type": "markdown",
            "metadata": {},
            "source": []
        },
        {
            "cell_type": "code",
            "execution_count": null,
            "metadata": {},
            "outputs": [],
            "source": [
                "BaseSpatialField.register_lookup(SameAsLookup, \"exact\")\n"
            ]
        },
        {
            "cell_type": "markdown",
            "metadata": {},
            "source": []
        },
        {
            "cell_type": "code",
            "execution_count": null,
            "metadata": {},
            "outputs": [],
            "source": [
                "@BaseSpatialField.register_lookup\n",
                "class BBContainsLookup(GISLookup):\n",
                "    \"\"\"\n",
                "    The 'bbcontains' operator returns true if A's bounding box completely contains\n",
                "    by B's bounding box.\n",
                "    \"\"\"\n",
                "\n",
                "    lookup_name = \"bbcontains\"\n"
            ]
        },
        {
            "cell_type": "markdown",
            "metadata": {},
            "source": []
        },
        {
            "cell_type": "code",
            "execution_count": null,
            "metadata": {},
            "outputs": [],
            "source": [
                "@BaseSpatialField.register_lookup\n",
                "class BBOverlapsLookup(GISLookup):\n",
                "    \"\"\"\n",
                "    The 'bboverlaps' operator returns true if A's bounding box overlaps B's\n",
                "    bounding box.\n",
                "    \"\"\"\n",
                "\n",
                "    lookup_name = \"bboverlaps\"\n"
            ]
        },
        {
            "cell_type": "markdown",
            "metadata": {},
            "source": []
        },
        {
            "cell_type": "code",
            "execution_count": null,
            "metadata": {},
            "outputs": [],
            "source": [
                "@BaseSpatialField.register_lookup\n",
                "class ContainedLookup(GISLookup):\n",
                "    \"\"\"\n",
                "    The 'contained' operator returns true if A's bounding box is completely contained\n",
                "    by B's bounding box.\n",
                "    \"\"\"\n",
                "\n",
                "    lookup_name = \"contained\"\n"
            ]
        },
        {
            "cell_type": "markdown",
            "metadata": {},
            "source": []
        },
        {
            "cell_type": "code",
            "execution_count": null,
            "metadata": {},
            "outputs": [],
            "source": [
                "# ------------------\n",
                "# Geometry functions\n",
                "# ------------------\n"
            ]
        },
        {
            "cell_type": "markdown",
            "metadata": {},
            "source": []
        },
        {
            "cell_type": "code",
            "execution_count": null,
            "metadata": {},
            "outputs": [],
            "source": [
                "@BaseSpatialField.register_lookup\n",
                "class ContainsLookup(GISLookup):\n",
                "    lookup_name = \"contains\"\n"
            ]
        },
        {
            "cell_type": "markdown",
            "metadata": {},
            "source": []
        },
        {
            "cell_type": "code",
            "execution_count": null,
            "metadata": {},
            "outputs": [],
            "source": [
                "@BaseSpatialField.register_lookup\n",
                "class ContainsProperlyLookup(GISLookup):\n",
                "    lookup_name = \"contains_properly\"\n"
            ]
        },
        {
            "cell_type": "markdown",
            "metadata": {},
            "source": []
        },
        {
            "cell_type": "code",
            "execution_count": null,
            "metadata": {},
            "outputs": [],
            "source": [
                "@BaseSpatialField.register_lookup\n",
                "class CoveredByLookup(GISLookup):\n",
                "    lookup_name = \"coveredby\"\n"
            ]
        },
        {
            "cell_type": "markdown",
            "metadata": {},
            "source": []
        },
        {
            "cell_type": "code",
            "execution_count": null,
            "metadata": {},
            "outputs": [],
            "source": [
                "@BaseSpatialField.register_lookup\n",
                "class CoversLookup(GISLookup):\n",
                "    lookup_name = \"covers\"\n"
            ]
        },
        {
            "cell_type": "markdown",
            "metadata": {},
            "source": []
        },
        {
            "cell_type": "code",
            "execution_count": null,
            "metadata": {},
            "outputs": [],
            "source": [
                "@BaseSpatialField.register_lookup\n",
                "class CrossesLookup(GISLookup):\n",
                "    lookup_name = \"crosses\"\n"
            ]
        },
        {
            "cell_type": "markdown",
            "metadata": {},
            "source": []
        },
        {
            "cell_type": "code",
            "execution_count": null,
            "metadata": {},
            "outputs": [],
            "source": [
                "@BaseSpatialField.register_lookup\n",
                "class DisjointLookup(GISLookup):\n",
                "    lookup_name = \"disjoint\"\n"
            ]
        },
        {
            "cell_type": "markdown",
            "metadata": {},
            "source": []
        },
        {
            "cell_type": "code",
            "execution_count": null,
            "metadata": {},
            "outputs": [],
            "source": [
                "@BaseSpatialField.register_lookup\n",
                "class EqualsLookup(GISLookup):\n",
                "    lookup_name = \"equals\"\n"
            ]
        },
        {
            "cell_type": "markdown",
            "metadata": {},
            "source": []
        },
        {
            "cell_type": "code",
            "execution_count": null,
            "metadata": {},
            "outputs": [],
            "source": [
                "@BaseSpatialField.register_lookup\n",
                "class IntersectsLookup(GISLookup):\n",
                "    lookup_name = \"intersects\"\n"
            ]
        },
        {
            "cell_type": "markdown",
            "metadata": {},
            "source": []
        },
        {
            "cell_type": "code",
            "execution_count": null,
            "metadata": {},
            "outputs": [],
            "source": [
                "@BaseSpatialField.register_lookup\n",
                "class OverlapsLookup(GISLookup):\n",
                "    lookup_name = \"overlaps\"\n"
            ]
        },
        {
            "cell_type": "markdown",
            "metadata": {},
            "source": []
        },
        {
            "cell_type": "code",
            "execution_count": null,
            "metadata": {},
            "outputs": [],
            "source": [
                "@BaseSpatialField.register_lookup\n",
                "class RelateLookup(GISLookup):\n",
                "    lookup_name = \"relate\"\n",
                "    sql_template = \"%(func)s(%(lhs)s, %(rhs)s, %%s)\"\n",
                "    pattern_regex = _lazy_re_compile(r\"^[012TF*]{9}$\")\n",
                "\n",
                "    def process_rhs(self, compiler, connection):\n",
                "        # Check the pattern argument\n",
                "        pattern = self.rhs_params[0]\n",
                "        backend_op = connection.ops.gis_operators[self.lookup_name]\n",
                "        if hasattr(backend_op, \"check_relate_argument\"):\n",
                "            backend_op.check_relate_argument(pattern)\n",
                "        elif not isinstance(pattern, str) or not self.pattern_regex.match(pattern):\n",
                "            raise ValueError('Invalid intersection matrix pattern \"%s\".' % pattern)\n",
                "        sql, params = super().process_rhs(compiler, connection)\n",
                "        return sql, params + [pattern]\n"
            ]
        },
        {
            "cell_type": "markdown",
            "metadata": {},
            "source": []
        },
        {
            "cell_type": "code",
            "execution_count": null,
            "metadata": {},
            "outputs": [],
            "source": [
                "@BaseSpatialField.register_lookup\n",
                "class TouchesLookup(GISLookup):\n",
                "    lookup_name = \"touches\"\n"
            ]
        },
        {
            "cell_type": "markdown",
            "metadata": {},
            "source": []
        },
        {
            "cell_type": "code",
            "execution_count": null,
            "metadata": {},
            "outputs": [],
            "source": [
                "@BaseSpatialField.register_lookup\n",
                "class WithinLookup(GISLookup):\n",
                "    lookup_name = \"within\"\n"
            ]
        },
        {
            "cell_type": "markdown",
            "metadata": {},
            "source": []
        },
        {
            "cell_type": "code",
            "execution_count": null,
            "metadata": {},
            "outputs": [],
            "source": [
                "class DistanceLookupBase(GISLookup):\n",
                "    distance = True\n",
                "    sql_template = \"%(func)s(%(lhs)s, %(rhs)s) %(op)s %(value)s\"\n",
                "\n",
                "    def process_rhs_params(self):\n",
                "        if not 1 <= len(self.rhs_params) <= 3:\n",
                "            raise ValueError(\n",
                "                \"2, 3, or 4-element tuple required for '%s' lookup.\" % self.lookup_name\n",
                "            )\n",
                "        elif len(self.rhs_params) == 3 and self.rhs_params[2] != \"spheroid\":\n",
                "            raise ValueError(\n",
                "                \"For 4-element tuples the last argument must be the 'spheroid' \"\n",
                "                \"directive.\"\n",
                "            )\n",
                "\n",
                "        # Check if the second parameter is a band index.\n",
                "        if len(self.rhs_params) > 1 and self.rhs_params[1] != \"spheroid\":\n",
                "            self.process_band_indices()\n",
                "\n",
                "    def process_distance(self, compiler, connection):\n",
                "        dist_param = self.rhs_params[0]\n",
                "        return (\n",
                "            compiler.compile(dist_param.resolve_expression(compiler.query))\n",
                "            if hasattr(dist_param, \"resolve_expression\")\n",
                "            else (\n",
                "                \"%s\",\n",
                "                connection.ops.get_distance(\n",
                "                    self.lhs.output_field, self.rhs_params, self.lookup_name\n",
                "                ),\n",
                "            )\n",
                "        )\n"
            ]
        },
        {
            "cell_type": "markdown",
            "metadata": {},
            "source": []
        },
        {
            "cell_type": "code",
            "execution_count": null,
            "metadata": {},
            "outputs": [],
            "source": [
                "@BaseSpatialField.register_lookup\n",
                "class DWithinLookup(DistanceLookupBase):\n",
                "    lookup_name = \"dwithin\"\n",
                "    sql_template = \"%(func)s(%(lhs)s, %(rhs)s, %(value)s)\"\n",
                "\n",
                "    def process_distance(self, compiler, connection):\n",
                "        dist_param = self.rhs_params[0]\n",
                "        if (\n",
                "            not connection.features.supports_dwithin_distance_expr\n",
                "            and hasattr(dist_param, \"resolve_expression\")\n",
                "            and not isinstance(dist_param, Distance)\n",
                "        ):\n",
                "            raise NotSupportedError(\n",
                "                \"This backend does not support expressions for specifying \"\n",
                "                \"distance in the dwithin lookup.\"\n",
                "            )\n",
                "        return super().process_distance(compiler, connection)\n",
                "\n",
                "    def process_rhs(self, compiler, connection):\n",
                "        dist_sql, dist_params = self.process_distance(compiler, connection)\n",
                "        self.template_params[\"value\"] = dist_sql\n",
                "        rhs_sql, params = super().process_rhs(compiler, connection)\n",
                "        return rhs_sql, params + dist_params\n"
            ]
        },
        {
            "cell_type": "markdown",
            "metadata": {},
            "source": []
        },
        {
            "cell_type": "code",
            "execution_count": null,
            "metadata": {},
            "outputs": [],
            "source": [
                "class DistanceLookupFromFunction(DistanceLookupBase):\n",
                "    def as_sql(self, compiler, connection):\n",
                "        spheroid = (\n",
                "            len(self.rhs_params) == 2 and self.rhs_params[-1] == \"spheroid\"\n",
                "        ) or None\n",
                "        distance_expr = connection.ops.distance_expr_for_lookup(\n",
                "            self.lhs, self.rhs, spheroid=spheroid\n",
                "        )\n",
                "        sql, params = compiler.compile(distance_expr.resolve_expression(compiler.query))\n",
                "        dist_sql, dist_params = self.process_distance(compiler, connection)\n",
                "        return (\n",
                "            \"%(func)s %(op)s %(dist)s\" % {\"func\": sql, \"op\": self.op, \"dist\": dist_sql},\n",
                "            params + dist_params,\n",
                "        )\n"
            ]
        },
        {
            "cell_type": "markdown",
            "metadata": {},
            "source": []
        },
        {
            "cell_type": "code",
            "execution_count": null,
            "metadata": {},
            "outputs": [],
            "source": [
                "@BaseSpatialField.register_lookup\n",
                "class DistanceGTLookup(DistanceLookupFromFunction):\n",
                "    lookup_name = \"distance_gt\"\n",
                "    op = \">\"\n"
            ]
        },
        {
            "cell_type": "markdown",
            "metadata": {},
            "source": []
        },
        {
            "cell_type": "code",
            "execution_count": null,
            "metadata": {},
            "outputs": [],
            "source": [
                "@BaseSpatialField.register_lookup\n",
                "class DistanceGTELookup(DistanceLookupFromFunction):\n",
                "    lookup_name = \"distance_gte\"\n",
                "    op = \">=\"\n"
            ]
        },
        {
            "cell_type": "markdown",
            "metadata": {},
            "source": []
        },
        {
            "cell_type": "code",
            "execution_count": null,
            "metadata": {},
            "outputs": [],
            "source": [
                "@BaseSpatialField.register_lookup\n",
                "class DistanceLTLookup(DistanceLookupFromFunction):\n",
                "    lookup_name = \"distance_lt\"\n",
                "    op = \"<\"\n"
            ]
        },
        {
            "cell_type": "markdown",
            "metadata": {},
            "source": []
        },
        {
            "cell_type": "code",
            "execution_count": null,
            "metadata": {},
            "outputs": [],
            "source": [
                "@BaseSpatialField.register_lookup\n",
                "class DistanceLTELookup(DistanceLookupFromFunction):\n",
                "    lookup_name = \"distance_lte\"\n",
                "    op = \"<=\"\n",
                "\n"
            ]
        },
        {
            "cell_type": "markdown",
            "metadata": {},
            "source": []
        }
    ],
    "metadata": {
        "language_info": {
            "name": "python"
        }
    },
    "nbformat": 4,
    "nbformat_minor": 2
}