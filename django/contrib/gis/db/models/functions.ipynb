{
    "cells": [
        {
            "cell_type": "code",
            "execution_count": null,
            "metadata": {},
            "outputs": [],
            "source": [
                "from decimal import Decimal\n",
                "\n",
                "from django.contrib.gis.db.models.fields import BaseSpatialField, GeometryField\n",
                "from django.contrib.gis.db.models.sql import AreaField, DistanceField\n",
                "from django.contrib.gis.geos import GEOSGeometry\n",
                "from django.core.exceptions import FieldError\n",
                "from django.db import NotSupportedError\n",
                "from django.db.models import (\n",
                "    BinaryField,\n",
                "    BooleanField,\n",
                "    FloatField,\n",
                "    Func,\n",
                "    IntegerField,\n",
                "    TextField,\n",
                "    Transform,\n",
                "    Value,\n",
                ")\n",
                "from django.db.models.functions import Cast\n",
                "from django.utils.functional import cached_property\n",
                "\n",
                "NUMERIC_TYPES = (int, float, Decimal)\n"
            ]
        },
        {
            "cell_type": "markdown",
            "metadata": {},
            "source": []
        },
        {
            "cell_type": "code",
            "execution_count": null,
            "metadata": {},
            "outputs": [],
            "source": [
                "class GeoFuncMixin:\n",
                "    function = None\n",
                "    geom_param_pos = (0,)\n",
                "\n",
                "    def __init__(self, *expressions, **extra):\n",
                "        super().__init__(*expressions, **extra)\n",
                "\n",
                "        # Ensure that value expressions are geometric.\n",
                "        for pos in self.geom_param_pos:\n",
                "            expr = self.source_expressions[pos]\n",
                "            if not isinstance(expr, Value):\n",
                "                continue\n",
                "            try:\n",
                "                output_field = expr.output_field\n",
                "            except FieldError:\n",
                "                output_field = None\n",
                "            geom = expr.value\n",
                "            if (\n",
                "                not isinstance(geom, GEOSGeometry)\n",
                "                or output_field\n",
                "                and not isinstance(output_field, GeometryField)\n",
                "            ):\n",
                "                raise TypeError(\n",
                "                    \"%s function requires a geometric argument in position %d.\"\n",
                "                    % (self.name, pos + 1)\n",
                "                )\n",
                "            if not geom.srid and not output_field:\n",
                "                raise ValueError(\"SRID is required for all geometries.\")\n",
                "            if not output_field:\n",
                "                self.source_expressions[pos] = Value(\n",
                "                    geom, output_field=GeometryField(srid=geom.srid)\n",
                "                )\n",
                "\n",
                "    @property\n",
                "    def name(self):\n",
                "        return self.__class__.__name__\n",
                "\n",
                "    @cached_property\n",
                "    def geo_field(self):\n",
                "        return self.source_expressions[self.geom_param_pos[0]].field\n",
                "\n",
                "    def as_sql(self, compiler, connection, function=None, **extra_context):\n",
                "        if self.function is None and function is None:\n",
                "            function = connection.ops.spatial_function_name(self.name)\n",
                "        return super().as_sql(compiler, connection, function=function, **extra_context)\n",
                "\n",
                "    def resolve_expression(self, *args, **kwargs):\n",
                "        res = super().resolve_expression(*args, **kwargs)\n",
                "        if not self.geom_param_pos:\n",
                "            return res\n",
                "\n",
                "        # Ensure that expressions are geometric.\n",
                "        source_fields = res.get_source_fields()\n",
                "        for pos in self.geom_param_pos:\n",
                "            field = source_fields[pos]\n",
                "            if not isinstance(field, GeometryField):\n",
                "                raise TypeError(\n",
                "                    \"%s function requires a GeometryField in position %s, got %s.\"\n",
                "                    % (\n",
                "                        self.name,\n",
                "                        pos + 1,\n",
                "                        type(field).__name__,\n",
                "                    )\n",
                "                )\n",
                "\n",
                "        base_srid = res.geo_field.srid\n",
                "        for pos in self.geom_param_pos[1:]:\n",
                "            expr = res.source_expressions[pos]\n",
                "            expr_srid = expr.output_field.srid\n",
                "            if expr_srid != base_srid:\n",
                "                # Automatic SRID conversion so objects are comparable.\n",
                "                res.source_expressions[pos] = Transform(\n",
                "                    expr, base_srid\n",
                "                ).resolve_expression(*args, **kwargs)\n",
                "        return res\n",
                "\n",
                "    def _handle_param(self, value, param_name=\"\", check_types=None):\n",
                "        if not hasattr(value, \"resolve_expression\"):\n",
                "            if check_types and not isinstance(value, check_types):\n",
                "                raise TypeError(\n",
                "                    \"The %s parameter has the wrong type: should be %s.\"\n",
                "                    % (param_name, check_types)\n",
                "                )\n",
                "        return value\n"
            ]
        },
        {
            "cell_type": "markdown",
            "metadata": {},
            "source": []
        },
        {
            "cell_type": "code",
            "execution_count": null,
            "metadata": {},
            "outputs": [],
            "source": [
                "class GeoFunc(GeoFuncMixin, Func):\n",
                "    pass\n"
            ]
        },
        {
            "cell_type": "markdown",
            "metadata": {},
            "source": []
        },
        {
            "cell_type": "code",
            "execution_count": null,
            "metadata": {},
            "outputs": [],
            "source": [
                "class GeomOutputGeoFunc(GeoFunc):\n",
                "    @cached_property\n",
                "    def output_field(self):\n",
                "        return GeometryField(srid=self.geo_field.srid)\n"
            ]
        },
        {
            "cell_type": "markdown",
            "metadata": {},
            "source": []
        },
        {
            "cell_type": "code",
            "execution_count": null,
            "metadata": {},
            "outputs": [],
            "source": [
                "class SQLiteDecimalToFloatMixin:\n",
                "    \"\"\"\n",
                "    By default, Decimal values are converted to str by the SQLite backend, which\n",
                "    is not acceptable by the GIS functions expecting numeric values.\n",
                "    \"\"\"\n",
                "\n",
                "    def as_sqlite(self, compiler, connection, **extra_context):\n",
                "        copy = self.copy()\n",
                "        copy.set_source_expressions(\n",
                "            [\n",
                "                (\n",
                "                    Value(float(expr.value))\n",
                "                    if hasattr(expr, \"value\") and isinstance(expr.value, Decimal)\n",
                "                    else expr\n",
                "                )\n",
                "                for expr in copy.get_source_expressions()\n",
                "            ]\n",
                "        )\n",
                "        return copy.as_sql(compiler, connection, **extra_context)\n"
            ]
        },
        {
            "cell_type": "markdown",
            "metadata": {},
            "source": []
        },
        {
            "cell_type": "code",
            "execution_count": null,
            "metadata": {},
            "outputs": [],
            "source": [
                "class OracleToleranceMixin:\n",
                "    tolerance = 0.05\n",
                "\n",
                "    def as_oracle(self, compiler, connection, **extra_context):\n",
                "        tolerance = Value(\n",
                "            self._handle_param(\n",
                "                self.extra.get(\"tolerance\", self.tolerance),\n",
                "                \"tolerance\",\n",
                "                NUMERIC_TYPES,\n",
                "            )\n",
                "        )\n",
                "        clone = self.copy()\n",
                "        clone.set_source_expressions([*self.get_source_expressions(), tolerance])\n",
                "        return clone.as_sql(compiler, connection, **extra_context)\n"
            ]
        },
        {
            "cell_type": "markdown",
            "metadata": {},
            "source": []
        },
        {
            "cell_type": "code",
            "execution_count": null,
            "metadata": {},
            "outputs": [],
            "source": [
                "class Area(OracleToleranceMixin, GeoFunc):\n",
                "    arity = 1\n",
                "\n",
                "    @cached_property\n",
                "    def output_field(self):\n",
                "        return AreaField(self.geo_field)\n",
                "\n",
                "    def as_sql(self, compiler, connection, **extra_context):\n",
                "        if not connection.features.supports_area_geodetic and self.geo_field.geodetic(\n",
                "            connection\n",
                "        ):\n",
                "            raise NotSupportedError(\n",
                "                \"Area on geodetic coordinate systems not supported.\"\n",
                "            )\n",
                "        return super().as_sql(compiler, connection, **extra_context)\n",
                "\n",
                "    def as_sqlite(self, compiler, connection, **extra_context):\n",
                "        if self.geo_field.geodetic(connection):\n",
                "            extra_context[\"template\"] = \"%(function)s(%(expressions)s, %(spheroid)d)\"\n",
                "            extra_context[\"spheroid\"] = True\n",
                "        return self.as_sql(compiler, connection, **extra_context)\n"
            ]
        },
        {
            "cell_type": "markdown",
            "metadata": {},
            "source": []
        },
        {
            "cell_type": "code",
            "execution_count": null,
            "metadata": {},
            "outputs": [],
            "source": [
                "class Azimuth(GeoFunc):\n",
                "    output_field = FloatField()\n",
                "    arity = 2\n",
                "    geom_param_pos = (0, 1)\n"
            ]
        },
        {
            "cell_type": "markdown",
            "metadata": {},
            "source": []
        },
        {
            "cell_type": "code",
            "execution_count": null,
            "metadata": {},
            "outputs": [],
            "source": [
                "class AsGeoJSON(GeoFunc):\n",
                "    output_field = TextField()\n",
                "\n",
                "    def __init__(self, expression, bbox=False, crs=False, precision=8, **extra):\n",
                "        expressions = [expression]\n",
                "        if precision is not None:\n",
                "            expressions.append(self._handle_param(precision, \"precision\", int))\n",
                "        options = 0\n",
                "        if crs and bbox:\n",
                "            options = 3\n",
                "        elif bbox:\n",
                "            options = 1\n",
                "        elif crs:\n",
                "            options = 2\n",
                "        expressions.append(options)\n",
                "        super().__init__(*expressions, **extra)\n",
                "\n",
                "    def as_oracle(self, compiler, connection, **extra_context):\n",
                "        source_expressions = self.get_source_expressions()\n",
                "        clone = self.copy()\n",
                "        clone.set_source_expressions(source_expressions[:1])\n",
                "        return super(AsGeoJSON, clone).as_sql(compiler, connection, **extra_context)\n"
            ]
        },
        {
            "cell_type": "markdown",
            "metadata": {},
            "source": []
        },
        {
            "cell_type": "code",
            "execution_count": null,
            "metadata": {},
            "outputs": [],
            "source": [
                "class AsGML(GeoFunc):\n",
                "    geom_param_pos = (1,)\n",
                "    output_field = TextField()\n",
                "\n",
                "    def __init__(self, expression, version=2, precision=8, **extra):\n",
                "        expressions = [version, expression]\n",
                "        if precision is not None:\n",
                "            expressions.append(self._handle_param(precision, \"precision\", int))\n",
                "        super().__init__(*expressions, **extra)\n",
                "\n",
                "    def as_oracle(self, compiler, connection, **extra_context):\n",
                "        source_expressions = self.get_source_expressions()\n",
                "        version = source_expressions[0]\n",
                "        clone = self.copy()\n",
                "        clone.set_source_expressions([source_expressions[1]])\n",
                "        extra_context[\"function\"] = (\n",
                "            \"SDO_UTIL.TO_GML311GEOMETRY\"\n",
                "            if version.value == 3\n",
                "            else \"SDO_UTIL.TO_GMLGEOMETRY\"\n",
                "        )\n",
                "        return super(AsGML, clone).as_sql(compiler, connection, **extra_context)\n"
            ]
        },
        {
            "cell_type": "markdown",
            "metadata": {},
            "source": []
        },
        {
            "cell_type": "code",
            "execution_count": null,
            "metadata": {},
            "outputs": [],
            "source": [
                "class AsKML(GeoFunc):\n",
                "    output_field = TextField()\n",
                "\n",
                "    def __init__(self, expression, precision=8, **extra):\n",
                "        expressions = [expression]\n",
                "        if precision is not None:\n",
                "            expressions.append(self._handle_param(precision, \"precision\", int))\n",
                "        super().__init__(*expressions, **extra)\n"
            ]
        },
        {
            "cell_type": "markdown",
            "metadata": {},
            "source": []
        },
        {
            "cell_type": "code",
            "execution_count": null,
            "metadata": {},
            "outputs": [],
            "source": [
                "class AsSVG(GeoFunc):\n",
                "    output_field = TextField()\n",
                "\n",
                "    def __init__(self, expression, relative=False, precision=8, **extra):\n",
                "        relative = (\n",
                "            relative if hasattr(relative, \"resolve_expression\") else int(relative)\n",
                "        )\n",
                "        expressions = [\n",
                "            expression,\n",
                "            relative,\n",
                "            self._handle_param(precision, \"precision\", int),\n",
                "        ]\n",
                "        super().__init__(*expressions, **extra)\n"
            ]
        },
        {
            "cell_type": "markdown",
            "metadata": {},
            "source": []
        },
        {
            "cell_type": "code",
            "execution_count": null,
            "metadata": {},
            "outputs": [],
            "source": [
                "class AsWKB(GeoFunc):\n",
                "    output_field = BinaryField()\n",
                "    arity = 1\n"
            ]
        },
        {
            "cell_type": "markdown",
            "metadata": {},
            "source": []
        },
        {
            "cell_type": "code",
            "execution_count": null,
            "metadata": {},
            "outputs": [],
            "source": [
                "class AsWKT(GeoFunc):\n",
                "    output_field = TextField()\n",
                "    arity = 1\n"
            ]
        },
        {
            "cell_type": "markdown",
            "metadata": {},
            "source": []
        },
        {
            "cell_type": "code",
            "execution_count": null,
            "metadata": {},
            "outputs": [],
            "source": [
                "class BoundingCircle(OracleToleranceMixin, GeomOutputGeoFunc):\n",
                "    def __init__(self, expression, num_seg=48, **extra):\n",
                "        super().__init__(expression, num_seg, **extra)\n",
                "\n",
                "    def as_oracle(self, compiler, connection, **extra_context):\n",
                "        clone = self.copy()\n",
                "        clone.set_source_expressions([self.get_source_expressions()[0]])\n",
                "        return super(BoundingCircle, clone).as_oracle(\n",
                "            compiler, connection, **extra_context\n",
                "        )\n"
            ]
        },
        {
            "cell_type": "markdown",
            "metadata": {},
            "source": []
        },
        {
            "cell_type": "code",
            "execution_count": null,
            "metadata": {},
            "outputs": [],
            "source": [
                "class Centroid(OracleToleranceMixin, GeomOutputGeoFunc):\n",
                "    arity = 1\n"
            ]
        },
        {
            "cell_type": "markdown",
            "metadata": {},
            "source": []
        },
        {
            "cell_type": "code",
            "execution_count": null,
            "metadata": {},
            "outputs": [],
            "source": [
                "class ClosestPoint(GeomOutputGeoFunc):\n",
                "    arity = 2\n",
                "    geom_param_pos = (0, 1)\n"
            ]
        },
        {
            "cell_type": "markdown",
            "metadata": {},
            "source": []
        },
        {
            "cell_type": "code",
            "execution_count": null,
            "metadata": {},
            "outputs": [],
            "source": [
                "class Difference(OracleToleranceMixin, GeomOutputGeoFunc):\n",
                "    arity = 2\n",
                "    geom_param_pos = (0, 1)\n"
            ]
        },
        {
            "cell_type": "markdown",
            "metadata": {},
            "source": []
        },
        {
            "cell_type": "code",
            "execution_count": null,
            "metadata": {},
            "outputs": [],
            "source": [
                "class DistanceResultMixin:\n",
                "    @cached_property\n",
                "    def output_field(self):\n",
                "        return DistanceField(self.geo_field)\n",
                "\n",
                "    def source_is_geography(self):\n",
                "        return self.geo_field.geography and self.geo_field.srid == 4326\n"
            ]
        },
        {
            "cell_type": "markdown",
            "metadata": {},
            "source": []
        },
        {
            "cell_type": "code",
            "execution_count": null,
            "metadata": {},
            "outputs": [],
            "source": [
                "class Distance(DistanceResultMixin, OracleToleranceMixin, GeoFunc):\n",
                "    geom_param_pos = (0, 1)\n",
                "    spheroid = None\n",
                "\n",
                "    def __init__(self, expr1, expr2, spheroid=None, **extra):\n",
                "        expressions = [expr1, expr2]\n",
                "        if spheroid is not None:\n",
                "            self.spheroid = self._handle_param(spheroid, \"spheroid\", bool)\n",
                "        super().__init__(*expressions, **extra)\n",
                "\n",
                "    def as_postgresql(self, compiler, connection, **extra_context):\n",
                "        clone = self.copy()\n",
                "        function = None\n",
                "        expr2 = clone.source_expressions[1]\n",
                "        geography = self.source_is_geography()\n",
                "        if expr2.output_field.geography != geography:\n",
                "            if isinstance(expr2, Value):\n",
                "                expr2.output_field.geography = geography\n",
                "            else:\n",
                "                clone.source_expressions[1] = Cast(\n",
                "                    expr2,\n",
                "                    GeometryField(srid=expr2.output_field.srid, geography=geography),\n",
                "                )\n",
                "\n",
                "        if not geography and self.geo_field.geodetic(connection):\n",
                "            # Geometry fields with geodetic (lon/lat) coordinates need special\n",
                "            # distance functions.\n",
                "            if self.spheroid:\n",
                "                # DistanceSpheroid is more accurate and resource intensive than\n",
                "                # DistanceSphere.\n",
                "                function = connection.ops.spatial_function_name(\"DistanceSpheroid\")\n",
                "                # Replace boolean param by the real spheroid of the base field\n",
                "                clone.source_expressions.append(\n",
                "                    Value(self.geo_field.spheroid(connection))\n",
                "                )\n",
                "            else:\n",
                "                function = connection.ops.spatial_function_name(\"DistanceSphere\")\n",
                "        return super(Distance, clone).as_sql(\n",
                "            compiler, connection, function=function, **extra_context\n",
                "        )\n",
                "\n",
                "    def as_sqlite(self, compiler, connection, **extra_context):\n",
                "        if self.geo_field.geodetic(connection):\n",
                "            # SpatiaLite returns NULL instead of zero on geodetic coordinates\n",
                "            extra_context[\"template\"] = (\n",
                "                \"COALESCE(%(function)s(%(expressions)s, %(spheroid)s), 0)\"\n",
                "            )\n",
                "            extra_context[\"spheroid\"] = int(bool(self.spheroid))\n",
                "        return super().as_sql(compiler, connection, **extra_context)\n"
            ]
        },
        {
            "cell_type": "markdown",
            "metadata": {},
            "source": []
        },
        {
            "cell_type": "code",
            "execution_count": null,
            "metadata": {},
            "outputs": [],
            "source": [
                "class Envelope(GeomOutputGeoFunc):\n",
                "    arity = 1\n"
            ]
        },
        {
            "cell_type": "markdown",
            "metadata": {},
            "source": []
        },
        {
            "cell_type": "code",
            "execution_count": null,
            "metadata": {},
            "outputs": [],
            "source": [
                "class ForcePolygonCW(GeomOutputGeoFunc):\n",
                "    arity = 1\n"
            ]
        },
        {
            "cell_type": "markdown",
            "metadata": {},
            "source": []
        },
        {
            "cell_type": "code",
            "execution_count": null,
            "metadata": {},
            "outputs": [],
            "source": [
                "class FromWKB(GeoFunc):\n",
                "    output_field = GeometryField(srid=0)\n",
                "    arity = 1\n",
                "    geom_param_pos = ()\n"
            ]
        },
        {
            "cell_type": "markdown",
            "metadata": {},
            "source": []
        },
        {
            "cell_type": "code",
            "execution_count": null,
            "metadata": {},
            "outputs": [],
            "source": [
                "class FromWKT(GeoFunc):\n",
                "    output_field = GeometryField(srid=0)\n",
                "    arity = 1\n",
                "    geom_param_pos = ()\n"
            ]
        },
        {
            "cell_type": "markdown",
            "metadata": {},
            "source": []
        },
        {
            "cell_type": "code",
            "execution_count": null,
            "metadata": {},
            "outputs": [],
            "source": [
                "class GeoHash(GeoFunc):\n",
                "    output_field = TextField()\n",
                "\n",
                "    def __init__(self, expression, precision=None, **extra):\n",
                "        expressions = [expression]\n",
                "        if precision is not None:\n",
                "            expressions.append(self._handle_param(precision, \"precision\", int))\n",
                "        super().__init__(*expressions, **extra)\n",
                "\n",
                "    def as_mysql(self, compiler, connection, **extra_context):\n",
                "        clone = self.copy()\n",
                "        # If no precision is provided, set it to the maximum.\n",
                "        if len(clone.source_expressions) < 2:\n",
                "            clone.source_expressions.append(Value(100))\n",
                "        return clone.as_sql(compiler, connection, **extra_context)\n"
            ]
        },
        {
            "cell_type": "markdown",
            "metadata": {},
            "source": []
        },
        {
            "cell_type": "code",
            "execution_count": null,
            "metadata": {},
            "outputs": [],
            "source": [
                "class GeometryDistance(GeoFunc):\n",
                "    output_field = FloatField()\n",
                "    arity = 2\n",
                "    function = \"\"\n",
                "    arg_joiner = \" <-> \"\n",
                "    geom_param_pos = (0, 1)\n"
            ]
        },
        {
            "cell_type": "markdown",
            "metadata": {},
            "source": []
        },
        {
            "cell_type": "code",
            "execution_count": null,
            "metadata": {},
            "outputs": [],
            "source": [
                "class Intersection(OracleToleranceMixin, GeomOutputGeoFunc):\n",
                "    arity = 2\n",
                "    geom_param_pos = (0, 1)\n"
            ]
        },
        {
            "cell_type": "markdown",
            "metadata": {},
            "source": []
        },
        {
            "cell_type": "code",
            "execution_count": null,
            "metadata": {},
            "outputs": [],
            "source": [
                "@BaseSpatialField.register_lookup\n",
                "class IsEmpty(GeoFuncMixin, Transform):\n",
                "    lookup_name = \"isempty\"\n",
                "    output_field = BooleanField()\n"
            ]
        },
        {
            "cell_type": "markdown",
            "metadata": {},
            "source": []
        },
        {
            "cell_type": "code",
            "execution_count": null,
            "metadata": {},
            "outputs": [],
            "source": [
                "@BaseSpatialField.register_lookup\n",
                "class IsValid(OracleToleranceMixin, GeoFuncMixin, Transform):\n",
                "    lookup_name = \"isvalid\"\n",
                "    output_field = BooleanField()\n",
                "\n",
                "    def as_oracle(self, compiler, connection, **extra_context):\n",
                "        sql, params = super().as_oracle(compiler, connection, **extra_context)\n",
                "        return \"CASE %s WHEN 'TRUE' THEN 1 ELSE 0 END\" % sql, params\n"
            ]
        },
        {
            "cell_type": "markdown",
            "metadata": {},
            "source": []
        },
        {
            "cell_type": "code",
            "execution_count": null,
            "metadata": {},
            "outputs": [],
            "source": [
                "class Length(DistanceResultMixin, OracleToleranceMixin, GeoFunc):\n",
                "    def __init__(self, expr1, spheroid=True, **extra):\n",
                "        self.spheroid = spheroid\n",
                "        super().__init__(expr1, **extra)\n",
                "\n",
                "    def as_sql(self, compiler, connection, **extra_context):\n",
                "        if (\n",
                "            self.geo_field.geodetic(connection)\n",
                "            and not connection.features.supports_length_geodetic\n",
                "        ):\n",
                "            raise NotSupportedError(\n",
                "                \"This backend doesn't support Length on geodetic fields\"\n",
                "            )\n",
                "        return super().as_sql(compiler, connection, **extra_context)\n",
                "\n",
                "    def as_postgresql(self, compiler, connection, **extra_context):\n",
                "        clone = self.copy()\n",
                "        function = None\n",
                "        if self.source_is_geography():\n",
                "            clone.source_expressions.append(Value(self.spheroid))\n",
                "        elif self.geo_field.geodetic(connection):\n",
                "            # Geometry fields with geodetic (lon/lat) coordinates need length_spheroid\n",
                "            function = connection.ops.spatial_function_name(\"LengthSpheroid\")\n",
                "            clone.source_expressions.append(Value(self.geo_field.spheroid(connection)))\n",
                "        else:\n",
                "            dim = min(f.dim for f in self.get_source_fields() if f)\n",
                "            if dim > 2:\n",
                "                function = connection.ops.length3d\n",
                "        return super(Length, clone).as_sql(\n",
                "            compiler, connection, function=function, **extra_context\n",
                "        )\n",
                "\n",
                "    def as_sqlite(self, compiler, connection, **extra_context):\n",
                "        function = None\n",
                "        if self.geo_field.geodetic(connection):\n",
                "            function = \"GeodesicLength\" if self.spheroid else \"GreatCircleLength\"\n",
                "        return super().as_sql(compiler, connection, function=function, **extra_context)\n"
            ]
        },
        {
            "cell_type": "markdown",
            "metadata": {},
            "source": []
        },
        {
            "cell_type": "code",
            "execution_count": null,
            "metadata": {},
            "outputs": [],
            "source": [
                "class LineLocatePoint(GeoFunc):\n",
                "    output_field = FloatField()\n",
                "    arity = 2\n",
                "    geom_param_pos = (0, 1)\n"
            ]
        },
        {
            "cell_type": "markdown",
            "metadata": {},
            "source": []
        },
        {
            "cell_type": "code",
            "execution_count": null,
            "metadata": {},
            "outputs": [],
            "source": [
                "class MakeValid(GeomOutputGeoFunc):\n",
                "    pass\n"
            ]
        },
        {
            "cell_type": "markdown",
            "metadata": {},
            "source": []
        },
        {
            "cell_type": "code",
            "execution_count": null,
            "metadata": {},
            "outputs": [],
            "source": [
                "class MemSize(GeoFunc):\n",
                "    output_field = IntegerField()\n",
                "    arity = 1\n"
            ]
        },
        {
            "cell_type": "markdown",
            "metadata": {},
            "source": []
        },
        {
            "cell_type": "code",
            "execution_count": null,
            "metadata": {},
            "outputs": [],
            "source": [
                "class NumGeometries(GeoFunc):\n",
                "    output_field = IntegerField()\n",
                "    arity = 1\n"
            ]
        },
        {
            "cell_type": "markdown",
            "metadata": {},
            "source": []
        },
        {
            "cell_type": "code",
            "execution_count": null,
            "metadata": {},
            "outputs": [],
            "source": [
                "class NumPoints(GeoFunc):\n",
                "    output_field = IntegerField()\n",
                "    arity = 1\n"
            ]
        },
        {
            "cell_type": "markdown",
            "metadata": {},
            "source": []
        },
        {
            "cell_type": "code",
            "execution_count": null,
            "metadata": {},
            "outputs": [],
            "source": [
                "class Perimeter(DistanceResultMixin, OracleToleranceMixin, GeoFunc):\n",
                "    arity = 1\n",
                "\n",
                "    def as_postgresql(self, compiler, connection, **extra_context):\n",
                "        function = None\n",
                "        if self.geo_field.geodetic(connection) and not self.source_is_geography():\n",
                "            raise NotSupportedError(\n",
                "                \"ST_Perimeter cannot use a non-projected non-geography field.\"\n",
                "            )\n",
                "        dim = min(f.dim for f in self.get_source_fields())\n",
                "        if dim > 2:\n",
                "            function = connection.ops.perimeter3d\n",
                "        return super().as_sql(compiler, connection, function=function, **extra_context)\n",
                "\n",
                "    def as_sqlite(self, compiler, connection, **extra_context):\n",
                "        if self.geo_field.geodetic(connection):\n",
                "            raise NotSupportedError(\"Perimeter cannot use a non-projected field.\")\n",
                "        return super().as_sql(compiler, connection, **extra_context)\n"
            ]
        },
        {
            "cell_type": "markdown",
            "metadata": {},
            "source": []
        },
        {
            "cell_type": "code",
            "execution_count": null,
            "metadata": {},
            "outputs": [],
            "source": [
                "class PointOnSurface(OracleToleranceMixin, GeomOutputGeoFunc):\n",
                "    arity = 1\n"
            ]
        },
        {
            "cell_type": "markdown",
            "metadata": {},
            "source": []
        },
        {
            "cell_type": "code",
            "execution_count": null,
            "metadata": {},
            "outputs": [],
            "source": [
                "class Reverse(GeoFunc):\n",
                "    arity = 1\n"
            ]
        },
        {
            "cell_type": "markdown",
            "metadata": {},
            "source": []
        },
        {
            "cell_type": "code",
            "execution_count": null,
            "metadata": {},
            "outputs": [],
            "source": [
                "class Scale(SQLiteDecimalToFloatMixin, GeomOutputGeoFunc):\n",
                "    def __init__(self, expression, x, y, z=0.0, **extra):\n",
                "        expressions = [\n",
                "            expression,\n",
                "            self._handle_param(x, \"x\", NUMERIC_TYPES),\n",
                "            self._handle_param(y, \"y\", NUMERIC_TYPES),\n",
                "        ]\n",
                "        if z != 0.0:\n",
                "            expressions.append(self._handle_param(z, \"z\", NUMERIC_TYPES))\n",
                "        super().__init__(*expressions, **extra)\n"
            ]
        },
        {
            "cell_type": "markdown",
            "metadata": {},
            "source": []
        },
        {
            "cell_type": "code",
            "execution_count": null,
            "metadata": {},
            "outputs": [],
            "source": [
                "class SnapToGrid(SQLiteDecimalToFloatMixin, GeomOutputGeoFunc):\n",
                "    def __init__(self, expression, *args, **extra):\n",
                "        nargs = len(args)\n",
                "        expressions = [expression]\n",
                "        if nargs in (1, 2):\n",
                "            expressions.extend(\n",
                "                [self._handle_param(arg, \"\", NUMERIC_TYPES) for arg in args]\n",
                "            )\n",
                "        elif nargs == 4:\n",
                "            # Reverse origin and size param ordering\n",
                "            expressions += [\n",
                "                *(self._handle_param(arg, \"\", NUMERIC_TYPES) for arg in args[2:]),\n",
                "                *(self._handle_param(arg, \"\", NUMERIC_TYPES) for arg in args[0:2]),\n",
                "            ]\n",
                "        else:\n",
                "            raise ValueError(\"Must provide 1, 2, or 4 arguments to `SnapToGrid`.\")\n",
                "        super().__init__(*expressions, **extra)\n"
            ]
        },
        {
            "cell_type": "markdown",
            "metadata": {},
            "source": []
        },
        {
            "cell_type": "code",
            "execution_count": null,
            "metadata": {},
            "outputs": [],
            "source": [
                "class SymDifference(OracleToleranceMixin, GeomOutputGeoFunc):\n",
                "    arity = 2\n",
                "    geom_param_pos = (0, 1)\n"
            ]
        },
        {
            "cell_type": "markdown",
            "metadata": {},
            "source": []
        },
        {
            "cell_type": "code",
            "execution_count": null,
            "metadata": {},
            "outputs": [],
            "source": [
                "class Transform(GeomOutputGeoFunc):\n",
                "    def __init__(self, expression, srid, **extra):\n",
                "        expressions = [\n",
                "            expression,\n",
                "            self._handle_param(srid, \"srid\", int),\n",
                "        ]\n",
                "        if \"output_field\" not in extra:\n",
                "            extra[\"output_field\"] = GeometryField(srid=srid)\n",
                "        super().__init__(*expressions, **extra)\n"
            ]
        },
        {
            "cell_type": "markdown",
            "metadata": {},
            "source": []
        },
        {
            "cell_type": "code",
            "execution_count": null,
            "metadata": {},
            "outputs": [],
            "source": [
                "class Translate(Scale):\n",
                "    def as_sqlite(self, compiler, connection, **extra_context):\n",
                "        clone = self.copy()\n",
                "        if len(self.source_expressions) < 4:\n",
                "            # Always provide the z parameter for ST_Translate\n",
                "            clone.source_expressions.append(Value(0))\n",
                "        return super(Translate, clone).as_sqlite(compiler, connection, **extra_context)\n"
            ]
        },
        {
            "cell_type": "markdown",
            "metadata": {},
            "source": []
        },
        {
            "cell_type": "code",
            "execution_count": null,
            "metadata": {},
            "outputs": [],
            "source": [
                "class Union(OracleToleranceMixin, GeomOutputGeoFunc):\n",
                "    arity = 2\n",
                "    geom_param_pos = (0, 1)\n",
                "\n"
            ]
        },
        {
            "cell_type": "markdown",
            "metadata": {},
            "source": []
        }
    ],
    "metadata": {
        "language_info": {
            "name": "python"
        }
    },
    "nbformat": 4,
    "nbformat_minor": 2
}