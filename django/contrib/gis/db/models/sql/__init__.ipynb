{
 "cells": [
  {
   "cell_type": "code",
   "execution_count": null,
   "metadata": {},
   "outputs": [],
   "source": [
    "from django.contrib.gis.db.models.sql.conversion import AreaField, DistanceField\n",
    "\n",
    "__all__ = [\n",
    "    \"AreaField\",\n",
    "    \"DistanceField\",\n",
    "]"
   ]
  },
  {
   "cell_type": "markdown",
   "metadata": {},
   "source": []
  }
 ],
 "metadata": {
  "language_info": {
   "name": "python"
  }
 },
 "nbformat": 4,
 "nbformat_minor": 2
}