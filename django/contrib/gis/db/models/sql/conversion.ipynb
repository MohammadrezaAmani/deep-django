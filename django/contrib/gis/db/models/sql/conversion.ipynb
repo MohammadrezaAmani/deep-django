{
 "cells": [
  {
   "cell_type": "code",
   "execution_count": null,
   "metadata": {},
   "outputs": [],
   "source": [
    "\"\"\"\n",
    "This module holds simple classes to convert geospatial values from the\n",
    "database.\n",
    "\"\"\"\n",
    "\n",
    "from decimal import Decimal\n",
    "\n",
    "from django.contrib.gis.measure import Area, Distance\n",
    "from django.db import models"
   ]
  },
  {
   "cell_type": "markdown",
   "metadata": {},
   "source": []
  },
  {
   "cell_type": "code",
   "execution_count": null,
   "metadata": {},
   "outputs": [],
   "source": [
    "class AreaField(models.FloatField):\n",
    "    \"Wrapper for Area values.\"\n",
    "\n",
    "    def __init__(self, geo_field):\n",
    "        super().__init__()\n",
    "        self.geo_field = geo_field\n",
    "\n",
    "    def get_prep_value(self, value):\n",
    "        if not isinstance(value, Area):\n",
    "            raise ValueError(\"AreaField only accepts Area measurement objects.\")\n",
    "        return value\n",
    "\n",
    "    def get_db_prep_value(self, value, connection, prepared=False):\n",
    "        if value is None:\n",
    "            return\n",
    "        area_att = connection.ops.get_area_att_for_field(self.geo_field)\n",
    "        return getattr(value, area_att) if area_att else value\n",
    "\n",
    "    def from_db_value(self, value, expression, connection):\n",
    "        if value is None:\n",
    "            return\n",
    "        # If the database returns a Decimal, convert it to a float as expected\n",
    "        # by the Python geometric objects.\n",
    "        if isinstance(value, Decimal):\n",
    "            value = float(value)\n",
    "        # If the units are known, convert value into area measure.\n",
    "        area_att = connection.ops.get_area_att_for_field(self.geo_field)\n",
    "        return Area(**{area_att: value}) if area_att else value\n",
    "\n",
    "    def get_internal_type(self):\n",
    "        return \"AreaField\""
   ]
  },
  {
   "cell_type": "markdown",
   "metadata": {},
   "source": []
  },
  {
   "cell_type": "code",
   "execution_count": null,
   "metadata": {},
   "outputs": [],
   "source": [
    "class DistanceField(models.FloatField):\n",
    "    \"Wrapper for Distance values.\"\n",
    "\n",
    "    def __init__(self, geo_field):\n",
    "        super().__init__()\n",
    "        self.geo_field = geo_field\n",
    "\n",
    "    def get_prep_value(self, value):\n",
    "        if isinstance(value, Distance):\n",
    "            return value\n",
    "        return super().get_prep_value(value)\n",
    "\n",
    "    def get_db_prep_value(self, value, connection, prepared=False):\n",
    "        if not isinstance(value, Distance):\n",
    "            return value\n",
    "        distance_att = connection.ops.get_distance_att_for_field(self.geo_field)\n",
    "        if not distance_att:\n",
    "            raise ValueError(\n",
    "                \"Distance measure is supplied, but units are unknown for result.\"\n",
    "            )\n",
    "        return getattr(value, distance_att)\n",
    "\n",
    "    def from_db_value(self, value, expression, connection):\n",
    "        if value is None:\n",
    "            return\n",
    "        distance_att = connection.ops.get_distance_att_for_field(self.geo_field)\n",
    "        return Distance(**{distance_att: value}) if distance_att else value\n",
    "\n",
    "    def get_internal_type(self):\n",
    "        return \"DistanceField\""
   ]
  },
  {
   "cell_type": "markdown",
   "metadata": {},
   "source": []
  }
 ],
 "metadata": {
  "language_info": {
   "name": "python"
  }
 },
 "nbformat": 4,
 "nbformat_minor": 2
}