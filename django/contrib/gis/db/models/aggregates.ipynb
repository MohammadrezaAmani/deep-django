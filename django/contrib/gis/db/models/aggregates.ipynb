{
 "cells": [
  {
   "cell_type": "code",
   "execution_count": null,
   "metadata": {},
   "outputs": [],
   "source": [
    "from django.contrib.gis.db.models.fields import (\n",
    "    ExtentField,\n",
    "    GeometryCollectionField,\n",
    "    GeometryField,\n",
    "    LineStringField,\n",
    ")\n",
    "from django.db.models import Aggregate, Func, Value\n",
    "from django.utils.functional import cached_property\n",
    "\n",
    "__all__ = [\"Collect\", \"Extent\", \"Extent3D\", \"MakeLine\", \"Union\"]"
   ]
  },
  {
   "cell_type": "markdown",
   "metadata": {},
   "source": []
  },
  {
   "cell_type": "code",
   "execution_count": null,
   "metadata": {},
   "outputs": [],
   "source": [
    "class GeoAggregate(Aggregate):\n",
    "    function = None\n",
    "    is_extent = False\n",
    "\n",
    "    @cached_property\n",
    "    def output_field(self):\n",
    "        return self.output_field_class(self.source_expressions[0].output_field.srid)\n",
    "\n",
    "    def as_sql(self, compiler, connection, function=None, **extra_context):\n",
    "        # this will be called again in parent, but it's needed now - before\n",
    "        # we get the spatial_aggregate_name\n",
    "        connection.ops.check_expression_support(self)\n",
    "        return super().as_sql(\n",
    "            compiler,\n",
    "            connection,\n",
    "            function=function or connection.ops.spatial_aggregate_name(self.name),\n",
    "            **extra_context,\n",
    "        )\n",
    "\n",
    "    def as_oracle(self, compiler, connection, **extra_context):\n",
    "        if not self.is_extent:\n",
    "            tolerance = self.extra.get(\"tolerance\") or getattr(self, \"tolerance\", 0.05)\n",
    "            clone = self.copy()\n",
    "            source_expressions = self.get_source_expressions()\n",
    "            if self.filter:\n",
    "                source_expressions.pop()\n",
    "            spatial_type_expr = Func(\n",
    "                *source_expressions,\n",
    "                Value(tolerance),\n",
    "                function=\"SDOAGGRTYPE\",\n",
    "                output_field=self.output_field,\n",
    "            )\n",
    "            source_expressions = [spatial_type_expr]\n",
    "            if self.filter:\n",
    "                source_expressions.append(self.filter)\n",
    "            clone.set_source_expressions(source_expressions)\n",
    "            return clone.as_sql(compiler, connection, **extra_context)\n",
    "        return self.as_sql(compiler, connection, **extra_context)\n",
    "\n",
    "    def resolve_expression(\n",
    "        self, query=None, allow_joins=True, reuse=None, summarize=False, for_save=False\n",
    "    ):\n",
    "        c = super().resolve_expression(query, allow_joins, reuse, summarize, for_save)\n",
    "        for field in c.get_source_fields():\n",
    "            if not hasattr(field, \"geom_type\"):\n",
    "                raise ValueError(\n",
    "                    \"Geospatial aggregates only allowed on geometry fields.\"\n",
    "                )\n",
    "        return c"
   ]
  },
  {
   "cell_type": "markdown",
   "metadata": {},
   "source": []
  },
  {
   "cell_type": "code",
   "execution_count": null,
   "metadata": {},
   "outputs": [],
   "source": [
    "class Collect(GeoAggregate):\n",
    "    name = \"Collect\"\n",
    "    output_field_class = GeometryCollectionField"
   ]
  },
  {
   "cell_type": "markdown",
   "metadata": {},
   "source": []
  },
  {
   "cell_type": "code",
   "execution_count": null,
   "metadata": {},
   "outputs": [],
   "source": [
    "class Extent(GeoAggregate):\n",
    "    name = \"Extent\"\n",
    "    is_extent = \"2D\"\n",
    "\n",
    "    def __init__(self, expression, **extra):\n",
    "        super().__init__(expression, output_field=ExtentField(), **extra)\n",
    "\n",
    "    def convert_value(self, value, expression, connection):\n",
    "        return connection.ops.convert_extent(value)"
   ]
  },
  {
   "cell_type": "markdown",
   "metadata": {},
   "source": []
  },
  {
   "cell_type": "code",
   "execution_count": null,
   "metadata": {},
   "outputs": [],
   "source": [
    "class Extent3D(GeoAggregate):\n",
    "    name = \"Extent3D\"\n",
    "    is_extent = \"3D\"\n",
    "\n",
    "    def __init__(self, expression, **extra):\n",
    "        super().__init__(expression, output_field=ExtentField(), **extra)\n",
    "\n",
    "    def convert_value(self, value, expression, connection):\n",
    "        return connection.ops.convert_extent3d(value)"
   ]
  },
  {
   "cell_type": "markdown",
   "metadata": {},
   "source": []
  },
  {
   "cell_type": "code",
   "execution_count": null,
   "metadata": {},
   "outputs": [],
   "source": [
    "class MakeLine(GeoAggregate):\n",
    "    name = \"MakeLine\"\n",
    "    output_field_class = LineStringField"
   ]
  },
  {
   "cell_type": "markdown",
   "metadata": {},
   "source": []
  },
  {
   "cell_type": "code",
   "execution_count": null,
   "metadata": {},
   "outputs": [],
   "source": [
    "class Union(GeoAggregate):\n",
    "    name = \"Union\"\n",
    "    output_field_class = GeometryField"
   ]
  },
  {
   "cell_type": "markdown",
   "metadata": {},
   "source": []
  }
 ],
 "metadata": {
  "language_info": {
   "name": "python"
  }
 },
 "nbformat": 4,
 "nbformat_minor": 2
}