{
    "cells": [
        {
            "cell_type": "code",
            "execution_count": null,
            "metadata": {},
            "outputs": [],
            "source": [
                "from django.contrib.gis.db.backends.base.features import BaseSpatialFeatures\n",
                "from django.db.backends.mysql.features import DatabaseFeatures as MySQLDatabaseFeatures\n",
                "from django.utils.functional import cached_property\n"
            ]
        },
        {
            "cell_type": "markdown",
            "metadata": {},
            "source": []
        },
        {
            "cell_type": "code",
            "execution_count": null,
            "metadata": {},
            "outputs": [],
            "source": [
                "class DatabaseFeatures(BaseSpatialFeatures, MySQLDatabaseFeatures):\n",
                "    empty_intersection_returns_none = False\n",
                "    has_spatialrefsys_table = False\n",
                "    supports_add_srs_entry = False\n",
                "    supports_distance_geodetic = False\n",
                "    supports_length_geodetic = False\n",
                "    supports_area_geodetic = False\n",
                "    supports_transform = False\n",
                "    supports_null_geometries = False\n",
                "    supports_num_points_poly = False\n",
                "    unsupported_geojson_options = {\"crs\"}\n",
                "\n",
                "    @cached_property\n",
                "    def supports_geometry_field_unique_index(self):\n",
                "        # Not supported in MySQL since https://dev.mysql.com/worklog/task/?id=11808\n",
                "        return self.connection.mysql_is_mariadb\n",
                "\n"
            ]
        },
        {
            "cell_type": "markdown",
            "metadata": {},
            "source": []
        }
    ],
    "metadata": {
        "language_info": {
            "name": "python"
        }
    },
    "nbformat": 4,
    "nbformat_minor": 2
}