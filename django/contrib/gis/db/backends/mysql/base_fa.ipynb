{
 "cells": [
  {
   "cell_type": "code",
   "execution_count": null,
   "metadata": {},
   "outputs": [],
   "source": [
    "from django.db.backends.mysql.base import DatabaseWrapper as MySQLDatabaseWrapper\n",
    "\n",
    "from .features import DatabaseFeatures\n",
    "from .introspection import MySQLIntrospection\n",
    "from .operations import MySQLOperations\n",
    "from .schema import MySQLGISSchemaEditor"
   ]
  },
  {
   "cell_type": "markdown",
   "metadata": {},
   "source": []
  },
  {
   "cell_type": "code",
   "execution_count": null,
   "metadata": {},
   "outputs": [],
   "source": [
    "class DatabaseWrapper(MySQLDatabaseWrapper):\n",
    "    SchemaEditorClass = MySQLGISSchemaEditor\n",
    "    # Classes instantiated in __init__().\n",
    "    features_class = DatabaseFeatures\n",
    "    introspection_class = MySQLIntrospection\n",
    "    ops_class = MySQLOperations"
   ]
  },
  {
   "cell_type": "markdown",
   "metadata": {},
   "source": []
  }
 ],
 "metadata": {
  "language_info": {
   "name": "python"
  }
 },
 "nbformat": 4,
 "nbformat_minor": 2
}