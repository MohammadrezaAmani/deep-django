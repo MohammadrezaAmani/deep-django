{
 "cells": [
  {
   "cell_type": "code",
   "execution_count": null,
   "metadata": {},
   "outputs": [],
   "source": [
    "from MySQLdb.constants import FIELD_TYPE\n",
    "\n",
    "from django.contrib.gis.gdal import OGRGeomType\n",
    "from django.db.backends.mysql.introspection import DatabaseIntrospection"
   ]
  },
  {
   "cell_type": "markdown",
   "metadata": {},
   "source": []
  },
  {
   "cell_type": "code",
   "execution_count": null,
   "metadata": {},
   "outputs": [],
   "source": [
    "class MySQLIntrospection(DatabaseIntrospection):\n",
    "    # Updating the data_types_reverse dictionary with the appropriate\n",
    "    # type for Geometry fields.\n",
    "    data_types_reverse = DatabaseIntrospection.data_types_reverse.copy()\n",
    "    data_types_reverse[FIELD_TYPE.GEOMETRY] = \"GeometryField\"\n",
    "\n",
    "    def get_geometry_type(self, table_name, description):\n",
    "        with self.connection.cursor() as cursor:\n",
    "            # In order to get the specific geometry type of the field,\n",
    "            # we introspect on the table definition using `DESCRIBE`.\n",
    "            cursor.execute(\"DESCRIBE %s\" % self.connection.ops.quote_name(table_name))\n",
    "            # Increment over description info until we get to the geometry\n",
    "            # column.\n",
    "            for column, typ, null, key, default, extra in cursor.fetchall():\n",
    "                if column == description.name:\n",
    "                    # Using OGRGeomType to convert from OGC name to Django field.\n",
    "                    # MySQL does not support 3D or SRIDs, so the field params\n",
    "                    # are empty.\n",
    "                    field_type = OGRGeomType(typ).django\n",
    "                    field_params = {}\n",
    "                    break\n",
    "        return field_type, field_params\n",
    "\n",
    "    def supports_spatial_index(self, cursor, table_name):\n",
    "        # Supported with MyISAM, Aria, or InnoDB.\n",
    "        storage_engine = self.get_storage_engine(cursor, table_name)\n",
    "        return storage_engine in (\"MyISAM\", \"Aria\", \"InnoDB\")"
   ]
  },
  {
   "cell_type": "markdown",
   "metadata": {},
   "source": []
  }
 ],
 "metadata": {
  "language_info": {
   "name": "python"
  }
 },
 "nbformat": 4,
 "nbformat_minor": 2
}