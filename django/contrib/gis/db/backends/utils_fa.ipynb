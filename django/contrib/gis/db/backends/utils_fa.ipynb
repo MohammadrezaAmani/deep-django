{
    "cells": [
        {
            "cell_type": "code",
            "execution_count": null,
            "metadata": {},
            "outputs": [],
            "source": [
                "\"\"\"\n",
                "A collection of utility routines and classes used by the spatial\n",
                "backends.\n",
                "\"\"\"\n"
            ]
        },
        {
            "cell_type": "markdown",
            "metadata": {},
            "source": []
        },
        {
            "cell_type": "code",
            "execution_count": null,
            "metadata": {},
            "outputs": [],
            "source": [
                "class SpatialOperator:\n",
                "    \"\"\"\n",
                "    Class encapsulating the behavior specific to a GIS operation (used by lookups).\n",
                "    \"\"\"\n",
                "\n",
                "    sql_template = None\n",
                "\n",
                "    def __init__(self, op=None, func=None):\n",
                "        self.op = op\n",
                "        self.func = func\n",
                "\n",
                "    @property\n",
                "    def default_template(self):\n",
                "        if self.func:\n",
                "            return \"%(func)s(%(lhs)s, %(rhs)s)\"\n",
                "        else:\n",
                "            return \"%(lhs)s %(op)s %(rhs)s\"\n",
                "\n",
                "    def as_sql(self, connection, lookup, template_params, sql_params):\n",
                "        sql_template = self.sql_template or lookup.sql_template or self.default_template\n",
                "        template_params.update({\"op\": self.op, \"func\": self.func})\n",
                "        return sql_template % template_params, sql_params\n",
                "\n"
            ]
        },
        {
            "cell_type": "markdown",
            "metadata": {},
            "source": []
        }
    ],
    "metadata": {
        "language_info": {
            "name": "python"
        }
    },
    "nbformat": 4,
    "nbformat_minor": 2
}