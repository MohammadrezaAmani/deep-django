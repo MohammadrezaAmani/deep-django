{
 "cells": [
  {
   "cell_type": "code",
   "execution_count": null,
   "metadata": {},
   "outputs": [],
   "source": [
    "from django.contrib.gis.db.backends.base.adapter import WKTAdapter\n",
    "from django.db.backends.sqlite3.base import Database"
   ]
  },
  {
   "cell_type": "markdown",
   "metadata": {},
   "source": []
  },
  {
   "cell_type": "code",
   "execution_count": null,
   "metadata": {},
   "outputs": [],
   "source": [
    "class SpatiaLiteAdapter(WKTAdapter):\n",
    "    \"SQLite adapter for geometry objects.\"\n",
    "\n",
    "    def __conform__(self, protocol):\n",
    "        if protocol is Database.PrepareProtocol:\n",
    "            return str(self)"
   ]
  },
  {
   "cell_type": "markdown",
   "metadata": {},
   "source": []
  }
 ],
 "metadata": {
  "language_info": {
   "name": "python"
  }
 },
 "nbformat": 4,
 "nbformat_minor": 2
}