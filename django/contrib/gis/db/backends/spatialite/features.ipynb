{
 "cells": [
  {
   "cell_type": "code",
   "execution_count": null,
   "metadata": {},
   "outputs": [],
   "source": [
    "from django.contrib.gis.db.backends.base.features import BaseSpatialFeatures\n",
    "from django.db.backends.sqlite3.features import (\n",
    "    DatabaseFeatures as SQLiteDatabaseFeatures,\n",
    ")\n",
    "from django.utils.functional import cached_property"
   ]
  },
  {
   "cell_type": "markdown",
   "metadata": {},
   "source": []
  },
  {
   "cell_type": "code",
   "execution_count": null,
   "metadata": {},
   "outputs": [],
   "source": [
    "class DatabaseFeatures(BaseSpatialFeatures, SQLiteDatabaseFeatures):\n",
    "    can_alter_geometry_field = False  # Not implemented\n",
    "    supports_3d_storage = True\n",
    "\n",
    "    @cached_property\n",
    "    def supports_area_geodetic(self):\n",
    "        return bool(self.connection.ops.geom_lib_version())\n",
    "\n",
    "    @cached_property\n",
    "    def django_test_skips(self):\n",
    "        skips = super().django_test_skips\n",
    "        skips.update(\n",
    "            {\n",
    "                \"SpatiaLite doesn't support distance lookups with Distance objects.\": {\n",
    "                    \"gis_tests.geogapp.tests.GeographyTest.test02_distance_lookup\",\n",
    "                },\n",
    "            }\n",
    "        )\n",
    "        return skips"
   ]
  },
  {
   "cell_type": "markdown",
   "metadata": {},
   "source": []
  }
 ],
 "metadata": {
  "language_info": {
   "name": "python"
  }
 },
 "nbformat": 4,
 "nbformat_minor": 2
}