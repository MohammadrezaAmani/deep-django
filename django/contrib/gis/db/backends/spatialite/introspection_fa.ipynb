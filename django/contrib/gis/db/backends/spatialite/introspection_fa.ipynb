{
    "cells": [
        {
            "cell_type": "code",
            "execution_count": null,
            "metadata": {},
            "outputs": [],
            "source": [
                "from django.contrib.gis.gdal import OGRGeomType\n",
                "from django.db.backends.sqlite3.introspection import (\n",
                "    DatabaseIntrospection,\n",
                "    FlexibleFieldLookupDict,\n",
                ")\n"
            ]
        },
        {
            "cell_type": "markdown",
            "metadata": {},
            "source": []
        },
        {
            "cell_type": "code",
            "execution_count": null,
            "metadata": {},
            "outputs": [],
            "source": [
                "class GeoFlexibleFieldLookupDict(FlexibleFieldLookupDict):\n",
                "    \"\"\"\n",
                "    Subclass that includes updates the `base_data_types_reverse` dict\n",
                "    for geometry field types.\n",
                "    \"\"\"\n",
                "\n",
                "    base_data_types_reverse = {\n",
                "        **FlexibleFieldLookupDict.base_data_types_reverse,\n",
                "        \"point\": \"GeometryField\",\n",
                "        \"linestring\": \"GeometryField\",\n",
                "        \"polygon\": \"GeometryField\",\n",
                "        \"multipoint\": \"GeometryField\",\n",
                "        \"multilinestring\": \"GeometryField\",\n",
                "        \"multipolygon\": \"GeometryField\",\n",
                "        \"geometrycollection\": \"GeometryField\",\n",
                "    }\n"
            ]
        },
        {
            "cell_type": "markdown",
            "metadata": {},
            "source": []
        },
        {
            "cell_type": "code",
            "execution_count": null,
            "metadata": {},
            "outputs": [],
            "source": [
                "class SpatiaLiteIntrospection(DatabaseIntrospection):\n",
                "    data_types_reverse = GeoFlexibleFieldLookupDict()\n",
                "\n",
                "    def get_geometry_type(self, table_name, description):\n",
                "        with self.connection.cursor() as cursor:\n",
                "            # Querying the `geometry_columns` table to get additional metadata.\n",
                "            cursor.execute(\n",
                "                \"SELECT coord_dimension, srid, geometry_type \"\n",
                "                \"FROM geometry_columns \"\n",
                "                \"WHERE f_table_name=%s AND f_geometry_column=%s\",\n",
                "                (table_name, description.name),\n",
                "            )\n",
                "            row = cursor.fetchone()\n",
                "            if not row:\n",
                "                raise Exception(\n",
                "                    'Could not find a geometry column for \"%s\".\"%s\"'\n",
                "                    % (table_name, description.name)\n",
                "                )\n",
                "\n",
                "            # OGRGeomType does not require GDAL and makes it easy to convert\n",
                "            # from OGC geom type name to Django field.\n",
                "            ogr_type = row[2]\n",
                "            if isinstance(ogr_type, int) and ogr_type > 1000:\n",
                "                # SpatiaLite uses SFSQL 1.2 offsets 1000 (Z), 2000 (M), and\n",
                "                # 3000 (ZM) to indicate the presence of higher dimensional\n",
                "                # coordinates (M not yet supported by Django).\n",
                "                ogr_type = ogr_type % 1000 + OGRGeomType.wkb25bit\n",
                "            field_type = OGRGeomType(ogr_type).django\n",
                "\n",
                "            # Getting any GeometryField keyword arguments that are not the default.\n",
                "            dim = row[0]\n",
                "            srid = row[1]\n",
                "            field_params = {}\n",
                "            if srid != 4326:\n",
                "                field_params[\"srid\"] = srid\n",
                "            if (isinstance(dim, str) and \"Z\" in dim) or dim == 3:\n",
                "                field_params[\"dim\"] = 3\n",
                "        return field_type, field_params\n",
                "\n",
                "    def get_constraints(self, cursor, table_name):\n",
                "        constraints = super().get_constraints(cursor, table_name)\n",
                "        cursor.execute(\n",
                "            \"SELECT f_geometry_column \"\n",
                "            \"FROM geometry_columns \"\n",
                "            \"WHERE f_table_name=%s AND spatial_index_enabled=1\",\n",
                "            (table_name,),\n",
                "        )\n",
                "        for row in cursor.fetchall():\n",
                "            constraints[\"%s__spatial__index\" % row[0]] = {\n",
                "                \"columns\": [row[0]],\n",
                "                \"primary_key\": False,\n",
                "                \"unique\": False,\n",
                "                \"foreign_key\": None,\n",
                "                \"check\": False,\n",
                "                \"index\": True,\n",
                "            }\n",
                "        return constraints\n",
                "\n"
            ]
        },
        {
            "cell_type": "markdown",
            "metadata": {},
            "source": []
        }
    ],
    "metadata": {
        "language_info": {
            "name": "python"
        }
    },
    "nbformat": 4,
    "nbformat_minor": 2
}