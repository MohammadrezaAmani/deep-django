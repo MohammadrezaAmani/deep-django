{
    "cells": [
        {
            "cell_type": "code",
            "execution_count": null,
            "metadata": {},
            "outputs": [],
            "source": [
                "\"\"\"\n",
                " The GeometryColumns and SpatialRefSys models for the SpatiaLite backend.\n",
                "\"\"\"\n",
                "\n",
                "from django.contrib.gis.db.backends.base.models import SpatialRefSysMixin\n",
                "from django.db import models\n"
            ]
        },
        {
            "cell_type": "markdown",
            "metadata": {},
            "source": []
        },
        {
            "cell_type": "code",
            "execution_count": null,
            "metadata": {},
            "outputs": [],
            "source": [
                "class SpatialiteGeometryColumns(models.Model):\n",
                "    \"\"\"\n",
                "    The 'geometry_columns' table from SpatiaLite.\n",
                "    \"\"\"\n",
                "\n",
                "    f_table_name = models.CharField(max_length=256)\n",
                "    f_geometry_column = models.CharField(max_length=256)\n",
                "    coord_dimension = models.IntegerField()\n",
                "    srid = models.IntegerField(primary_key=True)\n",
                "    spatial_index_enabled = models.IntegerField()\n",
                "    type = models.IntegerField(db_column=\"geometry_type\")\n",
                "\n",
                "    class Meta:\n",
                "        app_label = \"gis\"\n",
                "        db_table = \"geometry_columns\"\n",
                "        managed = False\n",
                "\n",
                "    def __str__(self):\n",
                "        return \"%s.%s - %dD %s field (SRID: %d)\" % (\n",
                "            self.f_table_name,\n",
                "            self.f_geometry_column,\n",
                "            self.coord_dimension,\n",
                "            self.type,\n",
                "            self.srid,\n",
                "        )\n",
                "\n",
                "    @classmethod\n",
                "    def table_name_col(cls):\n",
                "        \"\"\"\n",
                "        Return the name of the metadata column used to store the feature table\n",
                "        name.\n",
                "        \"\"\"\n",
                "        return \"f_table_name\"\n",
                "\n",
                "    @classmethod\n",
                "    def geom_col_name(cls):\n",
                "        \"\"\"\n",
                "        Return the name of the metadata column used to store the feature\n",
                "        geometry column.\n",
                "        \"\"\"\n",
                "        return \"f_geometry_column\"\n"
            ]
        },
        {
            "cell_type": "markdown",
            "metadata": {},
            "source": []
        },
        {
            "cell_type": "code",
            "execution_count": null,
            "metadata": {},
            "outputs": [],
            "source": [
                "class SpatialiteSpatialRefSys(models.Model, SpatialRefSysMixin):\n",
                "    \"\"\"\n",
                "    The 'spatial_ref_sys' table from SpatiaLite.\n",
                "    \"\"\"\n",
                "\n",
                "    srid = models.IntegerField(primary_key=True)\n",
                "    auth_name = models.CharField(max_length=256)\n",
                "    auth_srid = models.IntegerField()\n",
                "    ref_sys_name = models.CharField(max_length=256)\n",
                "    proj4text = models.CharField(max_length=2048)\n",
                "    srtext = models.CharField(max_length=2048)\n",
                "\n",
                "    class Meta:\n",
                "        app_label = \"gis\"\n",
                "        db_table = \"spatial_ref_sys\"\n",
                "        managed = False\n",
                "\n",
                "    @property\n",
                "    def wkt(self):\n",
                "        return self.srtext\n",
                "\n"
            ]
        },
        {
            "cell_type": "markdown",
            "metadata": {},
            "source": []
        }
    ],
    "metadata": {
        "language_info": {
            "name": "python"
        }
    },
    "nbformat": 4,
    "nbformat_minor": 2
}