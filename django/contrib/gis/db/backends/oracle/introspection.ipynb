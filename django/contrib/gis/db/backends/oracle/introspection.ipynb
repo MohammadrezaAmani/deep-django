{
    "cells": [
        {
            "cell_type": "code",
            "execution_count": null,
            "metadata": {},
            "outputs": [],
            "source": [
                "from django.db.backends.oracle.introspection import DatabaseIntrospection\n",
                "from django.db.backends.oracle.oracledb_any import oracledb\n",
                "from django.utils.functional import cached_property\n"
            ]
        },
        {
            "cell_type": "markdown",
            "metadata": {},
            "source": []
        },
        {
            "cell_type": "code",
            "execution_count": null,
            "metadata": {},
            "outputs": [],
            "source": [
                "class OracleIntrospection(DatabaseIntrospection):\n",
                "    # Associating any OBJECTVAR instances with GeometryField. This won't work\n",
                "    # right on Oracle objects that aren't MDSYS.SDO_GEOMETRY, but it is the\n",
                "    # only object type supported within Django anyways.\n",
                "    @cached_property\n",
                "    def data_types_reverse(self):\n",
                "        return {\n",
                "            **super().data_types_reverse,\n",
                "            oracledb.DB_TYPE_OBJECT: \"GeometryField\",\n",
                "        }\n",
                "\n",
                "    def get_geometry_type(self, table_name, description):\n",
                "        with self.connection.cursor() as cursor:\n",
                "            # Querying USER_SDO_GEOM_METADATA to get the SRID and dimension information.\n",
                "            try:\n",
                "                cursor.execute(\n",
                "                    'SELECT \"DIMINFO\", \"SRID\" FROM \"USER_SDO_GEOM_METADATA\" '\n",
                "                    'WHERE \"TABLE_NAME\"=%s AND \"COLUMN_NAME\"=%s',\n",
                "                    (table_name.upper(), description.name.upper()),\n",
                "                )\n",
                "                row = cursor.fetchone()\n",
                "            except Exception as exc:\n",
                "                raise Exception(\n",
                "                    \"Could not find entry in USER_SDO_GEOM_METADATA \"\n",
                "                    'corresponding to \"%s\".\"%s\"' % (table_name, description.name)\n",
                "                ) from exc\n",
                "\n",
                "            # TODO: Research way to find a more specific geometry field type for\n",
                "            # the column's contents.\n",
                "            field_type = \"GeometryField\"\n",
                "\n",
                "            # Getting the field parameters.\n",
                "            field_params = {}\n",
                "            dim, srid = row\n",
                "            if srid != 4326:\n",
                "                field_params[\"srid\"] = srid\n",
                "            # Size of object array (SDO_DIM_ARRAY) is number of dimensions.\n",
                "            dim = dim.size()\n",
                "            if dim != 2:\n",
                "                field_params[\"dim\"] = dim\n",
                "        return field_type, field_params\n",
                "\n"
            ]
        },
        {
            "cell_type": "markdown",
            "metadata": {},
            "source": []
        }
    ],
    "metadata": {
        "language_info": {
            "name": "python"
        }
    },
    "nbformat": 4,
    "nbformat_minor": 2
}