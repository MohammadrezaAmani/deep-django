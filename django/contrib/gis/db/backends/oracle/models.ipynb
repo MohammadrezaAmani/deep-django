{
 "cells": [
  {
   "cell_type": "code",
   "execution_count": null,
   "metadata": {},
   "outputs": [],
   "source": [
    "\"\"\"\n",
    " The GeometryColumns and SpatialRefSys models for the Oracle spatial\n",
    " backend.\n",
    "\n",
    " It should be noted that Oracle Spatial does not have database tables\n",
    " named according to the OGC standard, so the closest analogs are used.\n",
    " For example, the `USER_SDO_GEOM_METADATA` is used for the GeometryColumns\n",
    " model and the `SDO_COORD_REF_SYS` is used for the SpatialRefSys model.\n",
    "\"\"\"\n",
    "\n",
    "from django.contrib.gis.db import models\n",
    "from django.contrib.gis.db.backends.base.models import SpatialRefSysMixin"
   ]
  },
  {
   "cell_type": "markdown",
   "metadata": {},
   "source": []
  },
  {
   "cell_type": "code",
   "execution_count": null,
   "metadata": {},
   "outputs": [],
   "source": [
    "class OracleGeometryColumns(models.Model):\n",
    "    \"Maps to the Oracle USER_SDO_GEOM_METADATA table.\"\n",
    "    table_name = models.CharField(max_length=32)\n",
    "    column_name = models.CharField(max_length=1024)\n",
    "    srid = models.IntegerField(primary_key=True)\n",
    "    # TODO: Add support for `diminfo` column (type MDSYS.SDO_DIM_ARRAY).\n",
    "\n",
    "    class Meta:\n",
    "        app_label = \"gis\"\n",
    "        db_table = \"USER_SDO_GEOM_METADATA\"\n",
    "        managed = False\n",
    "\n",
    "    def __str__(self):\n",
    "        return \"%s - %s (SRID: %s)\" % (self.table_name, self.column_name, self.srid)\n",
    "\n",
    "    @classmethod\n",
    "    def table_name_col(cls):\n",
    "        \"\"\"\n",
    "        Return the name of the metadata column used to store the feature table\n",
    "        name.\n",
    "        \"\"\"\n",
    "        return \"table_name\"\n",
    "\n",
    "    @classmethod\n",
    "    def geom_col_name(cls):\n",
    "        \"\"\"\n",
    "        Return the name of the metadata column used to store the feature\n",
    "        geometry column.\n",
    "        \"\"\"\n",
    "        return \"column_name\""
   ]
  },
  {
   "cell_type": "markdown",
   "metadata": {},
   "source": []
  },
  {
   "cell_type": "code",
   "execution_count": null,
   "metadata": {},
   "outputs": [],
   "source": [
    "class OracleSpatialRefSys(models.Model, SpatialRefSysMixin):\n",
    "    \"Maps to the Oracle MDSYS.CS_SRS table.\"\n",
    "    cs_name = models.CharField(max_length=68)\n",
    "    srid = models.IntegerField(primary_key=True)\n",
    "    auth_srid = models.IntegerField()\n",
    "    auth_name = models.CharField(max_length=256)\n",
    "    wktext = models.CharField(max_length=2046)\n",
    "    # Optional geometry representing the bounds of this coordinate\n",
    "    # system.  By default, all are NULL in the table.\n",
    "    cs_bounds = models.PolygonField(null=True)\n",
    "\n",
    "    class Meta:\n",
    "        app_label = \"gis\"\n",
    "        db_table = \"CS_SRS\"\n",
    "        managed = False\n",
    "\n",
    "    @property\n",
    "    def wkt(self):\n",
    "        return self.wktext"
   ]
  },
  {
   "cell_type": "markdown",
   "metadata": {},
   "source": []
  }
 ],
 "metadata": {
  "language_info": {
   "name": "python"
  }
 },
 "nbformat": 4,
 "nbformat_minor": 2
}