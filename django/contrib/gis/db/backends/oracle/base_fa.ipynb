{
 "cells": [
  {
   "cell_type": "code",
   "execution_count": null,
   "metadata": {},
   "outputs": [],
   "source": [
    "from django.db.backends.oracle.base import DatabaseWrapper as OracleDatabaseWrapper\n",
    "\n",
    "from .features import DatabaseFeatures\n",
    "from .introspection import OracleIntrospection\n",
    "from .operations import OracleOperations\n",
    "from .schema import OracleGISSchemaEditor"
   ]
  },
  {
   "cell_type": "markdown",
   "metadata": {},
   "source": []
  },
  {
   "cell_type": "code",
   "execution_count": null,
   "metadata": {},
   "outputs": [],
   "source": [
    "class DatabaseWrapper(OracleDatabaseWrapper):\n",
    "    SchemaEditorClass = OracleGISSchemaEditor\n",
    "    # Classes instantiated in __init__().\n",
    "    features_class = DatabaseFeatures\n",
    "    introspection_class = OracleIntrospection\n",
    "    ops_class = OracleOperations"
   ]
  },
  {
   "cell_type": "markdown",
   "metadata": {},
   "source": []
  }
 ],
 "metadata": {
  "language_info": {
   "name": "python"
  }
 },
 "nbformat": 4,
 "nbformat_minor": 2
}