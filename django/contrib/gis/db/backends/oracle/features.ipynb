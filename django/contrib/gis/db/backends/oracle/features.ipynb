{
    "cells": [
        {
            "cell_type": "code",
            "execution_count": null,
            "metadata": {},
            "outputs": [],
            "source": [
                "from django.contrib.gis.db.backends.base.features import BaseSpatialFeatures\n",
                "from django.db.backends.oracle.features import (\n",
                "    DatabaseFeatures as OracleDatabaseFeatures,\n",
                ")\n",
                "from django.utils.functional import cached_property\n"
            ]
        },
        {
            "cell_type": "markdown",
            "metadata": {},
            "source": []
        },
        {
            "cell_type": "code",
            "execution_count": null,
            "metadata": {},
            "outputs": [],
            "source": [
                "class DatabaseFeatures(BaseSpatialFeatures, OracleDatabaseFeatures):\n",
                "    supports_add_srs_entry = False\n",
                "    supports_geometry_field_introspection = False\n",
                "    supports_geometry_field_unique_index = False\n",
                "    supports_perimeter_geodetic = True\n",
                "    supports_dwithin_distance_expr = False\n",
                "    supports_tolerance_parameter = True\n",
                "    unsupported_geojson_options = {\"bbox\", \"crs\", \"precision\"}\n",
                "\n",
                "    @cached_property\n",
                "    def django_test_skips(self):\n",
                "        skips = super().django_test_skips\n",
                "        skips.update(\n",
                "            {\n",
                "                \"Oracle doesn't support spatial operators in constraints.\": {\n",
                "                    \"gis_tests.gis_migrations.test_operations.OperationTests.\"\n",
                "                    \"test_add_check_constraint\",\n",
                "                },\n",
                "            }\n",
                "        )\n",
                "        return skips\n",
                "\n"
            ]
        },
        {
            "cell_type": "markdown",
            "metadata": {},
            "source": []
        }
    ],
    "metadata": {
        "language_info": {
            "name": "python"
        }
    },
    "nbformat": 4,
    "nbformat_minor": 2
}