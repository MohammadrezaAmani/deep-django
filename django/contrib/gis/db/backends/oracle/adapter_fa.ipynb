{
 "cells": [
  {
   "cell_type": "code",
   "execution_count": null,
   "metadata": {},
   "outputs": [],
   "source": [
    "from django.contrib.gis.db.backends.base.adapter import WKTAdapter\n",
    "from django.contrib.gis.geos import GeometryCollection, Polygon\n",
    "from django.db.backends.oracle.oracledb_any import oracledb"
   ]
  },
  {
   "cell_type": "markdown",
   "metadata": {},
   "source": []
  },
  {
   "cell_type": "code",
   "execution_count": null,
   "metadata": {},
   "outputs": [],
   "source": [
    "class OracleSpatialAdapter(WKTAdapter):\n",
    "    input_size = oracledb.CLOB\n",
    "\n",
    "    def __init__(self, geom):\n",
    "        \"\"\"\n",
    "        Oracle requires that polygon rings are in proper orientation. This\n",
    "        affects spatial operations and an invalid orientation may cause\n",
    "        failures. Correct orientations are:\n",
    "         * Outer ring - counter clockwise\n",
    "         * Inner ring(s) - clockwise\n",
    "        \"\"\"\n",
    "        if isinstance(geom, Polygon):\n",
    "            if self._polygon_must_be_fixed(geom):\n",
    "                geom = self._fix_polygon(geom)\n",
    "        elif isinstance(geom, GeometryCollection):\n",
    "            if any(\n",
    "                isinstance(g, Polygon) and self._polygon_must_be_fixed(g) for g in geom\n",
    "            ):\n",
    "                geom = self._fix_geometry_collection(geom)\n",
    "\n",
    "        self.wkt = geom.wkt\n",
    "        self.srid = geom.srid\n",
    "\n",
    "    @staticmethod\n",
    "    def _polygon_must_be_fixed(poly):\n",
    "        return not poly.empty and (\n",
    "            not poly.exterior_ring.is_counterclockwise\n",
    "            or any(x.is_counterclockwise for x in poly)\n",
    "        )\n",
    "\n",
    "    @classmethod\n",
    "    def _fix_polygon(cls, poly, clone=True):\n",
    "        \"\"\"Fix single polygon orientation as described in __init__().\"\"\"\n",
    "        if clone:\n",
    "            poly = poly.clone()\n",
    "\n",
    "        if not poly.exterior_ring.is_counterclockwise:\n",
    "            poly.exterior_ring = list(reversed(poly.exterior_ring))\n",
    "\n",
    "        for i in range(1, len(poly)):\n",
    "            if poly[i].is_counterclockwise:\n",
    "                poly[i] = list(reversed(poly[i]))\n",
    "\n",
    "        return poly\n",
    "\n",
    "    @classmethod\n",
    "    def _fix_geometry_collection(cls, coll):\n",
    "        \"\"\"\n",
    "        Fix polygon orientations in geometry collections as described in\n",
    "        __init__().\n",
    "        \"\"\"\n",
    "        coll = coll.clone()\n",
    "        for i, geom in enumerate(coll):\n",
    "            if isinstance(geom, Polygon):\n",
    "                coll[i] = cls._fix_polygon(geom, clone=False)\n",
    "        return coll"
   ]
  },
  {
   "cell_type": "markdown",
   "metadata": {},
   "source": []
  }
 ],
 "metadata": {
  "language_info": {
   "name": "python"
  }
 },
 "nbformat": 4,
 "nbformat_minor": 2
}