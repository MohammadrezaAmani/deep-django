{
 "cells": [
  {
   "cell_type": "code",
   "execution_count": null,
   "metadata": {},
   "outputs": [],
   "source": [
    "\"\"\"\n",
    " This object provides quoting for GEOS geometries into PostgreSQL/PostGIS.\n",
    "\"\"\"\n",
    "\n",
    "from django.contrib.gis.db.backends.postgis.pgraster import to_pgraster\n",
    "from django.contrib.gis.geos import GEOSGeometry\n",
    "from django.db.backends.postgresql.psycopg_any import sql"
   ]
  },
  {
   "cell_type": "markdown",
   "metadata": {},
   "source": []
  },
  {
   "cell_type": "code",
   "execution_count": null,
   "metadata": {},
   "outputs": [],
   "source": [
    "class PostGISAdapter:\n",
    "    def __init__(self, obj, geography=False):\n",
    "        \"\"\"\n",
    "        Initialize on the spatial object.\n",
    "        \"\"\"\n",
    "        self.is_geometry = isinstance(obj, (GEOSGeometry, PostGISAdapter))\n",
    "\n",
    "        # Getting the WKB (in string form, to allow easy pickling of\n",
    "        # the adaptor) and the SRID from the geometry or raster.\n",
    "        if self.is_geometry:\n",
    "            self.ewkb = bytes(obj.ewkb)\n",
    "        else:\n",
    "            self.ewkb = to_pgraster(obj)\n",
    "\n",
    "        self.srid = obj.srid\n",
    "        self.geography = geography\n",
    "\n",
    "    def __conform__(self, proto):\n",
    "        \"\"\"Does the given protocol conform to what Psycopg2 expects?\"\"\"\n",
    "        from psycopg2.extensions import ISQLQuote\n",
    "\n",
    "        if proto == ISQLQuote:\n",
    "            return self\n",
    "        else:\n",
    "            raise Exception(\n",
    "                \"Error implementing psycopg2 protocol. Is psycopg2 installed?\"\n",
    "            )\n",
    "\n",
    "    def __eq__(self, other):\n",
    "        return isinstance(other, PostGISAdapter) and self.ewkb == other.ewkb\n",
    "\n",
    "    def __hash__(self):\n",
    "        return hash(self.ewkb)\n",
    "\n",
    "    def __str__(self):\n",
    "        return self.getquoted().decode()\n",
    "\n",
    "    @classmethod\n",
    "    def _fix_polygon(cls, poly):\n",
    "        return poly\n",
    "\n",
    "    def getquoted(self):\n",
    "        \"\"\"\n",
    "        Return a properly quoted string for use in PostgreSQL/PostGIS.\n",
    "        \"\"\"\n",
    "        if self.is_geometry:\n",
    "            # Psycopg will figure out whether to use E'\\\\000' or '\\000'.\n",
    "            return b\"%s(%s)\" % (\n",
    "                b\"ST_GeogFromWKB\" if self.geography else b\"ST_GeomFromEWKB\",\n",
    "                sql.quote(self.ewkb).encode(),\n",
    "            )\n",
    "        else:\n",
    "            # For rasters, add explicit type cast to WKB string.\n",
    "            return b\"'%s'::raster\" % self.ewkb.hex().encode()"
   ]
  },
  {
   "cell_type": "markdown",
   "metadata": {},
   "source": []
  }
 ],
 "metadata": {
  "language_info": {
   "name": "python"
  }
 },
 "nbformat": 4,
 "nbformat_minor": 2
}