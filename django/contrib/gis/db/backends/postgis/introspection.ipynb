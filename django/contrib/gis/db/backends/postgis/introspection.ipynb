{
    "cells": [
        {
            "cell_type": "code",
            "execution_count": null,
            "metadata": {},
            "outputs": [],
            "source": [
                "from django.contrib.gis.gdal import OGRGeomType\n",
                "from django.db.backends.postgresql.introspection import DatabaseIntrospection\n"
            ]
        },
        {
            "cell_type": "markdown",
            "metadata": {},
            "source": []
        },
        {
            "cell_type": "code",
            "execution_count": null,
            "metadata": {},
            "outputs": [],
            "source": [
                "class PostGISIntrospection(DatabaseIntrospection):\n",
                "    postgis_oid_lookup = {}  # Populated when introspection is performed.\n",
                "\n",
                "    ignored_tables = DatabaseIntrospection.ignored_tables + [\n",
                "        \"geography_columns\",\n",
                "        \"geometry_columns\",\n",
                "        \"raster_columns\",\n",
                "        \"spatial_ref_sys\",\n",
                "        \"raster_overviews\",\n",
                "    ]\n",
                "\n",
                "    def get_field_type(self, data_type, description):\n",
                "        if not self.postgis_oid_lookup:\n",
                "            # Query PostgreSQL's pg_type table to determine the OID integers\n",
                "            # for the PostGIS data types used in reverse lookup (the integers\n",
                "            # may be different across versions). To prevent unnecessary\n",
                "            # requests upon connection initialization, the `data_types_reverse`\n",
                "            # dictionary isn't updated until introspection is performed here.\n",
                "            with self.connection.cursor() as cursor:\n",
                "                cursor.execute(\n",
                "                    \"SELECT oid, typname \"\n",
                "                    \"FROM pg_type \"\n",
                "                    \"WHERE typname IN ('geometry', 'geography')\"\n",
                "                )\n",
                "                self.postgis_oid_lookup = dict(cursor.fetchall())\n",
                "            self.data_types_reverse.update(\n",
                "                (oid, \"GeometryField\") for oid in self.postgis_oid_lookup\n",
                "            )\n",
                "        return super().get_field_type(data_type, description)\n",
                "\n",
                "    def get_geometry_type(self, table_name, description):\n",
                "        \"\"\"\n",
                "        The geometry type OID used by PostGIS does not indicate the particular\n",
                "        type of field that a geometry column is (e.g., whether it's a\n",
                "        PointField or a PolygonField).  Thus, this routine queries the PostGIS\n",
                "        metadata tables to determine the geometry type.\n",
                "        \"\"\"\n",
                "        with self.connection.cursor() as cursor:\n",
                "            cursor.execute(\n",
                "                \"\"\"\n",
                "                SELECT t.coord_dimension, t.srid, t.type FROM (\n",
                "                    SELECT * FROM geometry_columns\n",
                "                    UNION ALL\n",
                "                    SELECT * FROM geography_columns\n",
                "                ) AS t WHERE t.f_table_name = %s AND t.f_geometry_column = %s\n",
                "            \"\"\",\n",
                "                (table_name, description.name),\n",
                "            )\n",
                "            row = cursor.fetchone()\n",
                "            if not row:\n",
                "                raise Exception(\n",
                "                    'Could not find a geometry or geography column for \"%s\".\"%s\"'\n",
                "                    % (table_name, description.name)\n",
                "                )\n",
                "            dim, srid, field_type = row\n",
                "            # OGRGeomType does not require GDAL and makes it easy to convert\n",
                "            # from OGC geom type name to Django field.\n",
                "            field_type = OGRGeomType(field_type).django\n",
                "            # Getting any GeometryField keyword arguments that are not the default.\n",
                "            field_params = {}\n",
                "            if self.postgis_oid_lookup.get(description.type_code) == \"geography\":\n",
                "                field_params[\"geography\"] = True\n",
                "            if srid != 4326:\n",
                "                field_params[\"srid\"] = srid\n",
                "            if dim != 2:\n",
                "                field_params[\"dim\"] = dim\n",
                "        return field_type, field_params\n",
                "\n"
            ]
        },
        {
            "cell_type": "markdown",
            "metadata": {},
            "source": []
        }
    ],
    "metadata": {
        "language_info": {
            "name": "python"
        }
    },
    "nbformat": 4,
    "nbformat_minor": 2
}