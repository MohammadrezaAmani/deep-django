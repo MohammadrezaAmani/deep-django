{
    "cells": [
        {
            "cell_type": "code",
            "execution_count": null,
            "metadata": {},
            "outputs": [],
            "source": [
                "from django.contrib.gis.db.backends.base.features import BaseSpatialFeatures\n",
                "from django.db.backends.postgresql.features import (\n",
                "    DatabaseFeatures as PsycopgDatabaseFeatures,\n",
                ")\n"
            ]
        },
        {
            "cell_type": "markdown",
            "metadata": {},
            "source": []
        },
        {
            "cell_type": "code",
            "execution_count": null,
            "metadata": {},
            "outputs": [],
            "source": [
                "class DatabaseFeatures(BaseSpatialFeatures, PsycopgDatabaseFeatures):\n",
                "    supports_geography = True\n",
                "    supports_3d_storage = True\n",
                "    supports_3d_functions = True\n",
                "    supports_raster = True\n",
                "    supports_empty_geometries = True\n",
                "    empty_intersection_returns_none = False\n",
                "\n"
            ]
        },
        {
            "cell_type": "markdown",
            "metadata": {},
            "source": []
        }
    ],
    "metadata": {
        "language_info": {
            "name": "python"
        }
    },
    "nbformat": 4,
    "nbformat_minor": 2
}