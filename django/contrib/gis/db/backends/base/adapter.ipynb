{
    "cells": [
        {
            "cell_type": "code",
            "execution_count": null,
            "metadata": {},
            "outputs": [],
            "source": [
                "class WKTAdapter:\n",
                "    \"\"\"\n",
                "    An adaptor for Geometries sent to the MySQL and Oracle database backends.\n",
                "    \"\"\"\n",
                "\n",
                "    def __init__(self, geom):\n",
                "        self.wkt = geom.wkt\n",
                "        self.srid = geom.srid\n",
                "\n",
                "    def __eq__(self, other):\n",
                "        return (\n",
                "            isinstance(other, WKTAdapter)\n",
                "            and self.wkt == other.wkt\n",
                "            and self.srid == other.srid\n",
                "        )\n",
                "\n",
                "    def __hash__(self):\n",
                "        return hash((self.wkt, self.srid))\n",
                "\n",
                "    def __str__(self):\n",
                "        return self.wkt\n",
                "\n",
                "    @classmethod\n",
                "    def _fix_polygon(cls, poly):\n",
                "        # Hook for Oracle.\n",
                "        return poly\n",
                "\n"
            ]
        },
        {
            "cell_type": "markdown",
            "metadata": {},
            "source": []
        }
    ],
    "metadata": {
        "language_info": {
            "name": "python"
        }
    },
    "nbformat": 4,
    "nbformat_minor": 2
}