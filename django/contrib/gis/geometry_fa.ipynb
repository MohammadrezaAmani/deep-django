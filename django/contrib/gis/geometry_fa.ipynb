{
    "cells": [
        {
            "cell_type": "code",
            "execution_count": null,
            "metadata": {},
            "outputs": [],
            "source": [
                "import re\n",
                "\n",
                "from django.utils.regex_helper import _lazy_re_compile\n",
                "\n",
                "# Regular expression for recognizing HEXEWKB and WKT.  A prophylactic measure\n",
                "# to prevent potentially malicious input from reaching the underlying C\n",
                "# library. Not a substitute for good web security programming practices.\n",
                "hex_regex = _lazy_re_compile(r\"^[0-9A-F]+$\", re.I)\n",
                "wkt_regex = _lazy_re_compile(\n",
                "    r\"^(SRID=(?P<srid>\\-?[0-9]+);)?\"\n",
                "    r\"(?P<wkt>\"\n",
                "    r\"(?P<type>POINT|LINESTRING|LINEARRING|POLYGON|MULTIPOINT|\"\n",
                "    r\"MULTILINESTRING|MULTIPOLYGON|GEOMETRYCOLLECTION)\"\n",
                "    r\"[ACEGIMLONPSRUTYZ0-9,.+() -]+)$\",\n",
                "    re.I,\n",
                ")\n",
                "json_regex = _lazy_re_compile(r\"^(\\s+)?\\{.*}(\\s+)?$\", re.DOTALL)\n",
                "\n"
            ]
        },
        {
            "cell_type": "markdown",
            "metadata": {},
            "source": []
        }
    ],
    "metadata": {
        "language_info": {
            "name": "python"
        }
    },
    "nbformat": 4,
    "nbformat_minor": 2
}