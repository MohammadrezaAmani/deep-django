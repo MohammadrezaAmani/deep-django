{
 "cells": [
  {
   "cell_type": "code",
   "execution_count": null,
   "metadata": {},
   "outputs": [],
   "source": [
    "import json\n",
    "\n",
    "from django.contrib.gis.gdal import CoordTransform, SpatialReference\n",
    "from django.core.serializers.base import SerializerDoesNotExist\n",
    "from django.core.serializers.json import Serializer as JSONSerializer"
   ]
  },
  {
   "cell_type": "markdown",
   "metadata": {},
   "source": []
  },
  {
   "cell_type": "code",
   "execution_count": null,
   "metadata": {},
   "outputs": [],
   "source": [
    "class Serializer(JSONSerializer):\n",
    "    \"\"\"\n",
    "    Convert a queryset to GeoJSON, http://geojson.org/\n",
    "    \"\"\"\n",
    "\n",
    "    def _init_options(self):\n",
    "        super()._init_options()\n",
    "        self.geometry_field = self.json_kwargs.pop(\"geometry_field\", None)\n",
    "        self.id_field = self.json_kwargs.pop(\"id_field\", None)\n",
    "        self.srid = self.json_kwargs.pop(\"srid\", 4326)\n",
    "        if (\n",
    "            self.selected_fields is not None\n",
    "            and self.geometry_field is not None\n",
    "            and self.geometry_field not in self.selected_fields\n",
    "        ):\n",
    "            self.selected_fields = [*self.selected_fields, self.geometry_field]\n",
    "\n",
    "    def start_serialization(self):\n",
    "        self._init_options()\n",
    "        self._cts = {}  # cache of CoordTransform's\n",
    "        self.stream.write(\n",
    "            '{\"type\": \"FeatureCollection\", '\n",
    "            '\"crs\": {\"type\": \"name\", \"properties\": {\"name\": \"EPSG:%d\"}},'\n",
    "            ' \"features\": [' % self.srid\n",
    "        )\n",
    "\n",
    "    def end_serialization(self):\n",
    "        self.stream.write(\"]}\")\n",
    "\n",
    "    def start_object(self, obj):\n",
    "        super().start_object(obj)\n",
    "        self._geometry = None\n",
    "        if self.geometry_field is None:\n",
    "            # Find the first declared geometry field\n",
    "            for field in obj._meta.fields:\n",
    "                if hasattr(field, \"geom_type\"):\n",
    "                    self.geometry_field = field.name\n",
    "                    break\n",
    "\n",
    "    def get_dump_object(self, obj):\n",
    "        data = {\n",
    "            \"type\": \"Feature\",\n",
    "            \"id\": obj.pk if self.id_field is None else getattr(obj, self.id_field),\n",
    "            \"properties\": self._current,\n",
    "        }\n",
    "        if (\n",
    "            self.selected_fields is None or \"pk\" in self.selected_fields\n",
    "        ) and \"pk\" not in data[\"properties\"]:\n",
    "            data[\"properties\"][\"pk\"] = obj._meta.pk.value_to_string(obj)\n",
    "        if self._geometry:\n",
    "            if self._geometry.srid != self.srid:\n",
    "                # If needed, transform the geometry in the srid of the global\n",
    "                # geojson srid.\n",
    "                if self._geometry.srid not in self._cts:\n",
    "                    srs = SpatialReference(self.srid)\n",
    "                    self._cts[self._geometry.srid] = CoordTransform(\n",
    "                        self._geometry.srs, srs\n",
    "                    )\n",
    "                self._geometry.transform(self._cts[self._geometry.srid])\n",
    "            data[\"geometry\"] = json.loads(self._geometry.geojson)\n",
    "        else:\n",
    "            data[\"geometry\"] = None\n",
    "        return data\n",
    "\n",
    "    def handle_field(self, obj, field):\n",
    "        if field.name == self.geometry_field:\n",
    "            self._geometry = field.value_from_object(obj)\n",
    "        else:\n",
    "            super().handle_field(obj, field)"
   ]
  },
  {
   "cell_type": "markdown",
   "metadata": {},
   "source": []
  },
  {
   "cell_type": "code",
   "execution_count": null,
   "metadata": {},
   "outputs": [],
   "source": [
    "class Deserializer:\n",
    "    def __init__(self, *args, **kwargs):\n",
    "        raise SerializerDoesNotExist(\"geojson is a serialization-only serializer\")"
   ]
  },
  {
   "cell_type": "markdown",
   "metadata": {},
   "source": []
  }
 ],
 "metadata": {
  "language_info": {
   "name": "python"
  }
 },
 "nbformat": 4,
 "nbformat_minor": 2
}