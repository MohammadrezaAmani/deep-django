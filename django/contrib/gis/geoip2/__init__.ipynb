{
    "cells": [
        {
            "cell_type": "code",
            "execution_count": null,
            "metadata": {},
            "outputs": [],
            "source": [
                "\"\"\"\n",
                "This module houses the GeoIP2 object, a wrapper for the MaxMind GeoIP2(R)\n",
                "Python API (https://geoip2.readthedocs.io/). This is an alternative to the\n",
                "Python GeoIP2 interface provided by MaxMind.\n",
                "\n",
                "GeoIP(R) is a registered trademark of MaxMind, Inc.\n",
                "\n",
                "For IP-based geolocation, this module requires the GeoLite2 Country and City\n",
                "datasets, in binary format (CSV will not work!). The datasets may be\n",
                "downloaded from MaxMind at https://dev.maxmind.com/geoip/geoip2/geolite2/.\n",
                "Grab GeoLite2-Country.mmdb.gz and GeoLite2-City.mmdb.gz, and unzip them in the\n",
                "directory corresponding to settings.GEOIP_PATH.\n",
                "\"\"\"\n",
                "\n",
                "__all__ = [\"HAS_GEOIP2\"]\n",
                "\n",
                "try:\n",
                "    import geoip2  # NOQA\n",
                "except ImportError:\n",
                "    HAS_GEOIP2 = False\n",
                "else:\n",
                "    from .base import GeoIP2, GeoIP2Exception\n",
                "\n",
                "    HAS_GEOIP2 = True\n",
                "    __all__ += [\"GeoIP2\", \"GeoIP2Exception\"]\n",
                "\n"
            ]
        },
        {
            "cell_type": "markdown",
            "metadata": {},
            "source": []
        }
    ],
    "metadata": {
        "language_info": {
            "name": "python"
        }
    },
    "nbformat": 4,
    "nbformat_minor": 2
}