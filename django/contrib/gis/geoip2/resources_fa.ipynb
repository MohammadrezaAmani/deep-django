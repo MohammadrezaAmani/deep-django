{
    "cells": [
        {
            "cell_type": "code",
            "execution_count": null,
            "metadata": {},
            "outputs": [],
            "source": [
                "def City(response):\n",
                "    return {\n",
                "        \"city\": response.city.name,\n",
                "        \"continent_code\": response.continent.code,\n",
                "        \"continent_name\": response.continent.name,\n",
                "        \"country_code\": response.country.iso_code,\n",
                "        \"country_name\": response.country.name,\n",
                "        \"dma_code\": response.location.metro_code,\n",
                "        \"is_in_european_union\": response.country.is_in_european_union,\n",
                "        \"latitude\": response.location.latitude,\n",
                "        \"longitude\": response.location.longitude,\n",
                "        \"postal_code\": response.postal.code,\n",
                "        \"region\": response.subdivisions[0].iso_code if response.subdivisions else None,\n",
                "        \"time_zone\": response.location.time_zone,\n",
                "    }\n"
            ]
        },
        {
            "cell_type": "markdown",
            "metadata": {},
            "source": []
        },
        {
            "cell_type": "code",
            "execution_count": null,
            "metadata": {},
            "outputs": [],
            "source": [
                "def Country(response):\n",
                "    return {\n",
                "        \"country_code\": response.country.iso_code,\n",
                "        \"country_name\": response.country.name,\n",
                "    }\n",
                "\n"
            ]
        },
        {
            "cell_type": "markdown",
            "metadata": {},
            "source": []
        }
    ],
    "metadata": {
        "language_info": {
            "name": "python"
        }
    },
    "nbformat": 4,
    "nbformat_minor": 2
}