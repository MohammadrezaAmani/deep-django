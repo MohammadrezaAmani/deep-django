{
 "cells": [
  {
   "cell_type": "code",
   "execution_count": null,
   "metadata": {},
   "outputs": [],
   "source": [
    "from django.apps import apps\n",
    "from django.contrib.gis.db.models import GeometryField\n",
    "from django.contrib.sitemaps import Sitemap\n",
    "from django.db import models\n",
    "from django.urls import reverse"
   ]
  },
  {
   "cell_type": "markdown",
   "metadata": {},
   "source": []
  },
  {
   "cell_type": "code",
   "execution_count": null,
   "metadata": {},
   "outputs": [],
   "source": [
    "class KMLSitemap(Sitemap):\n",
    "    \"\"\"\n",
    "    A minimal hook to produce KML sitemaps.\n",
    "    \"\"\"\n",
    "\n",
    "    geo_format = \"kml\"\n",
    "\n",
    "    def __init__(self, locations=None):\n",
    "        # If no locations specified, then we try to build for\n",
    "        # every model in installed applications.\n",
    "        self.locations = self._build_kml_sources(locations)\n",
    "\n",
    "    def _build_kml_sources(self, sources):\n",
    "        \"\"\"\n",
    "        Go through the given sources and return a 3-tuple of the application\n",
    "        label, module name, and field name of every GeometryField encountered\n",
    "        in the sources.\n",
    "\n",
    "        If no sources are provided, then all models.\n",
    "        \"\"\"\n",
    "        kml_sources = []\n",
    "        if sources is None:\n",
    "            sources = apps.get_models()\n",
    "        for source in sources:\n",
    "            if isinstance(source, models.base.ModelBase):\n",
    "                for field in source._meta.fields:\n",
    "                    if isinstance(field, GeometryField):\n",
    "                        kml_sources.append(\n",
    "                            (\n",
    "                                source._meta.app_label,\n",
    "                                source._meta.model_name,\n",
    "                                field.name,\n",
    "                            )\n",
    "                        )\n",
    "            elif isinstance(source, (list, tuple)):\n",
    "                if len(source) != 3:\n",
    "                    raise ValueError(\n",
    "                        \"Must specify a 3-tuple of (app_label, module_name, \"\n",
    "                        \"field_name).\"\n",
    "                    )\n",
    "                kml_sources.append(source)\n",
    "            else:\n",
    "                raise TypeError(\"KML Sources must be a model or a 3-tuple.\")\n",
    "        return kml_sources\n",
    "\n",
    "    def get_urls(self, page=1, site=None, protocol=None):\n",
    "        \"\"\"\n",
    "        This method is overridden so the appropriate `geo_format` attribute\n",
    "        is placed on each URL element.\n",
    "        \"\"\"\n",
    "        urls = Sitemap.get_urls(self, page=page, site=site, protocol=protocol)\n",
    "        for url in urls:\n",
    "            url[\"geo_format\"] = self.geo_format\n",
    "        return urls\n",
    "\n",
    "    def items(self):\n",
    "        return self.locations\n",
    "\n",
    "    def location(self, obj):\n",
    "        return reverse(\n",
    "            \"django.contrib.gis.sitemaps.views.%s\" % self.geo_format,\n",
    "            kwargs={\n",
    "                \"label\": obj[0],\n",
    "                \"model\": obj[1],\n",
    "                \"field_name\": obj[2],\n",
    "            },\n",
    "        )"
   ]
  },
  {
   "cell_type": "markdown",
   "metadata": {},
   "source": []
  },
  {
   "cell_type": "code",
   "execution_count": null,
   "metadata": {},
   "outputs": [],
   "source": [
    "class KMZSitemap(KMLSitemap):\n",
    "    geo_format = \"kmz\""
   ]
  },
  {
   "cell_type": "markdown",
   "metadata": {},
   "source": []
  }
 ],
 "metadata": {
  "language_info": {
   "name": "python"
  }
 },
 "nbformat": 4,
 "nbformat_minor": 2
}