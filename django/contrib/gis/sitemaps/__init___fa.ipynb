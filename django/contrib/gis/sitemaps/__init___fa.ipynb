{
    "cells": [
        {
            "cell_type": "code",
            "execution_count": null,
            "metadata": {},
            "outputs": [],
            "source": [
                "# Geo-enabled Sitemap classes.\n",
                "from django.contrib.gis.sitemaps.kml import KMLSitemap, KMZSitemap\n",
                "\n",
                "__all__ = [\"KMLSitemap\", \"KMZSitemap\"]\n",
                "\n"
            ]
        },
        {
            "cell_type": "markdown",
            "metadata": {},
            "source": []
        }
    ],
    "metadata": {
        "language_info": {
            "name": "python"
        }
    },
    "nbformat": 4,
    "nbformat_minor": 2
}