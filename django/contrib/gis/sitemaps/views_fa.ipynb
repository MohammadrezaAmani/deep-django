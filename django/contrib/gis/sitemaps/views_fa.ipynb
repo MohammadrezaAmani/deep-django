{
 "cells": [
  {
   "cell_type": "code",
   "execution_count": null,
   "metadata": {},
   "outputs": [],
   "source": [
    "from django.apps import apps\n",
    "from django.contrib.gis.db.models import GeometryField\n",
    "from django.contrib.gis.db.models.functions import AsKML, Transform\n",
    "from django.contrib.gis.shortcuts import render_to_kml, render_to_kmz\n",
    "from django.core.exceptions import FieldDoesNotExist\n",
    "from django.db import DEFAULT_DB_ALIAS, connections\n",
    "from django.http import Http404"
   ]
  },
  {
   "cell_type": "markdown",
   "metadata": {},
   "source": []
  },
  {
   "cell_type": "code",
   "execution_count": null,
   "metadata": {},
   "outputs": [],
   "source": [
    "def kml(request, label, model, field_name=None, compress=False, using=DEFAULT_DB_ALIAS):\n",
    "    \"\"\"\n",
    "    This view generates KML for the given app label, model, and field name.\n",
    "\n",
    "    The field name must be that of a geographic field.\n",
    "    \"\"\"\n",
    "    placemarks = []\n",
    "    try:\n",
    "        klass = apps.get_model(label, model)\n",
    "    except LookupError:\n",
    "        raise Http404(\n",
    "            'You must supply a valid app label and module name.  Got \"%s.%s\"'\n",
    "            % (label, model)\n",
    "        )\n",
    "\n",
    "    if field_name:\n",
    "        try:\n",
    "            field = klass._meta.get_field(field_name)\n",
    "            if not isinstance(field, GeometryField):\n",
    "                raise FieldDoesNotExist\n",
    "        except FieldDoesNotExist:\n",
    "            raise Http404(\"Invalid geometry field.\")\n",
    "\n",
    "    connection = connections[using]\n",
    "\n",
    "    if connection.features.has_AsKML_function:\n",
    "        # Database will take care of transformation.\n",
    "        placemarks = klass._default_manager.using(using).annotate(kml=AsKML(field_name))\n",
    "    else:\n",
    "        # If the database offers no KML method, we use the `kml`\n",
    "        # attribute of the lazy geometry instead.\n",
    "        placemarks = []\n",
    "        if connection.features.has_Transform_function:\n",
    "            qs = klass._default_manager.using(using).annotate(\n",
    "                **{\"%s_4326\" % field_name: Transform(field_name, 4326)}\n",
    "            )\n",
    "            field_name += \"_4326\"\n",
    "        else:\n",
    "            qs = klass._default_manager.using(using).all()\n",
    "        for mod in qs:\n",
    "            mod.kml = getattr(mod, field_name).kml\n",
    "            placemarks.append(mod)\n",
    "\n",
    "    # Getting the render function and rendering to the correct.\n",
    "    if compress:\n",
    "        render = render_to_kmz\n",
    "    else:\n",
    "        render = render_to_kml\n",
    "    return render(\"gis/kml/placemarks.kml\", {\"places\": placemarks})"
   ]
  },
  {
   "cell_type": "markdown",
   "metadata": {},
   "source": []
  },
  {
   "cell_type": "code",
   "execution_count": null,
   "metadata": {},
   "outputs": [],
   "source": [
    "def kmz(request, label, model, field_name=None, using=DEFAULT_DB_ALIAS):\n",
    "    \"\"\"\n",
    "    Return KMZ for the given app label, model, and field name.\n",
    "    \"\"\"\n",
    "    return kml(request, label, model, field_name, compress=True, using=using)"
   ]
  },
  {
   "cell_type": "markdown",
   "metadata": {},
   "source": []
  }
 ],
 "metadata": {
  "language_info": {
   "name": "python"
  }
 },
 "nbformat": 4,
 "nbformat_minor": 2
}