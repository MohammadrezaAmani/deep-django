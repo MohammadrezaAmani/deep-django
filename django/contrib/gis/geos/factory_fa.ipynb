{
 "cells": [
  {
   "cell_type": "code",
   "execution_count": null,
   "metadata": {},
   "outputs": [],
   "source": [
    "from django.contrib.gis.geos.geometry import GEOSGeometry, hex_regex, wkt_regex"
   ]
  },
  {
   "cell_type": "markdown",
   "metadata": {},
   "source": []
  },
  {
   "cell_type": "code",
   "execution_count": null,
   "metadata": {},
   "outputs": [],
   "source": [
    "def fromfile(file_h):\n",
    "    \"\"\"\n",
    "    Given a string file name, returns a GEOSGeometry. The file may contain WKB,\n",
    "    WKT, or HEX.\n",
    "    \"\"\"\n",
    "    # If given a file name, get a real handle.\n",
    "    if isinstance(file_h, str):\n",
    "        with open(file_h, \"rb\") as file_h:\n",
    "            buf = file_h.read()\n",
    "    else:\n",
    "        buf = file_h.read()\n",
    "\n",
    "    # If we get WKB need to wrap in memoryview(), so run through regexes.\n",
    "    if isinstance(buf, bytes):\n",
    "        try:\n",
    "            decoded = buf.decode()\n",
    "        except UnicodeDecodeError:\n",
    "            pass\n",
    "        else:\n",
    "            if wkt_regex.match(decoded) or hex_regex.match(decoded):\n",
    "                return GEOSGeometry(decoded)\n",
    "    else:\n",
    "        return GEOSGeometry(buf)\n",
    "\n",
    "    return GEOSGeometry(memoryview(buf))"
   ]
  },
  {
   "cell_type": "markdown",
   "metadata": {},
   "source": []
  },
  {
   "cell_type": "code",
   "execution_count": null,
   "metadata": {},
   "outputs": [],
   "source": [
    "def fromstr(string, **kwargs):\n",
    "    \"Given a string value, return a GEOSGeometry object.\"\n",
    "    return GEOSGeometry(string, **kwargs)"
   ]
  },
  {
   "cell_type": "markdown",
   "metadata": {},
   "source": []
  }
 ],
 "metadata": {
  "language_info": {
   "name": "python"
  }
 },
 "nbformat": 4,
 "nbformat_minor": 2
}