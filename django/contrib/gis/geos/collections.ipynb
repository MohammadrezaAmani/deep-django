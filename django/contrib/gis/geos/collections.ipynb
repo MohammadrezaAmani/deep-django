{
 "cells": [
  {
   "cell_type": "code",
   "execution_count": null,
   "metadata": {},
   "outputs": [],
   "source": [
    "\"\"\"\n",
    " This module houses the Geometry Collection objects:\n",
    " GeometryCollection, MultiPoint, MultiLineString, and MultiPolygon\n",
    "\"\"\"\n",
    "\n",
    "from django.contrib.gis.geos import prototypes as capi\n",
    "from django.contrib.gis.geos.geometry import GEOSGeometry, LinearGeometryMixin\n",
    "from django.contrib.gis.geos.libgeos import GEOM_PTR\n",
    "from django.contrib.gis.geos.linestring import LinearRing, LineString\n",
    "from django.contrib.gis.geos.point import Point\n",
    "from django.contrib.gis.geos.polygon import Polygon"
   ]
  },
  {
   "cell_type": "markdown",
   "metadata": {},
   "source": []
  },
  {
   "cell_type": "code",
   "execution_count": null,
   "metadata": {},
   "outputs": [],
   "source": [
    "class GeometryCollection(GEOSGeometry):\n",
    "    _typeid = 7\n",
    "\n",
    "    def __init__(self, *args, **kwargs):\n",
    "        \"Initialize a Geometry Collection from a sequence of Geometry objects.\"\n",
    "        # Checking the arguments\n",
    "        if len(args) == 1:\n",
    "            # If only one geometry provided or a list of geometries is provided\n",
    "            #  in the first argument.\n",
    "            if isinstance(args[0], (tuple, list)):\n",
    "                init_geoms = args[0]\n",
    "            else:\n",
    "                init_geoms = args\n",
    "        else:\n",
    "            init_geoms = args\n",
    "\n",
    "        # Ensuring that only the permitted geometries are allowed in this collection\n",
    "        # this is moved to list mixin super class\n",
    "        self._check_allowed(init_geoms)\n",
    "\n",
    "        # Creating the geometry pointer array.\n",
    "        collection = self._create_collection(len(init_geoms), init_geoms)\n",
    "        super().__init__(collection, **kwargs)\n",
    "\n",
    "    def __iter__(self):\n",
    "        \"Iterate over each Geometry in the Collection.\"\n",
    "        for i in range(len(self)):\n",
    "            yield self[i]\n",
    "\n",
    "    def __len__(self):\n",
    "        \"Return the number of geometries in this Collection.\"\n",
    "        return self.num_geom\n",
    "\n",
    "    # ### Methods for compatibility with ListMixin ###\n",
    "    def _create_collection(self, length, items):\n",
    "        # Creating the geometry pointer array.\n",
    "        geoms = (GEOM_PTR * length)(\n",
    "            *[\n",
    "                # this is a little sloppy, but makes life easier\n",
    "                # allow GEOSGeometry types (python wrappers) or pointer types\n",
    "                capi.geom_clone(getattr(g, \"ptr\", g))\n",
    "                for g in items\n",
    "            ]\n",
    "        )\n",
    "        return capi.create_collection(self._typeid, geoms, length)\n",
    "\n",
    "    def _get_single_internal(self, index):\n",
    "        return capi.get_geomn(self.ptr, index)\n",
    "\n",
    "    def _get_single_external(self, index):\n",
    "        \"Return the Geometry from this Collection at the given index (0-based).\"\n",
    "        # Checking the index and returning the corresponding GEOS geometry.\n",
    "        return GEOSGeometry(\n",
    "            capi.geom_clone(self._get_single_internal(index)), srid=self.srid\n",
    "        )\n",
    "\n",
    "    def _set_list(self, length, items):\n",
    "        \"Create a new collection, and destroy the contents of the previous pointer.\"\n",
    "        prev_ptr = self.ptr\n",
    "        srid = self.srid\n",
    "        self.ptr = self._create_collection(length, items)\n",
    "        if srid:\n",
    "            self.srid = srid\n",
    "        capi.destroy_geom(prev_ptr)\n",
    "\n",
    "    _set_single = GEOSGeometry._set_single_rebuild\n",
    "    _assign_extended_slice = GEOSGeometry._assign_extended_slice_rebuild\n",
    "\n",
    "    @property\n",
    "    def kml(self):\n",
    "        \"Return the KML for this Geometry Collection.\"\n",
    "        return \"<MultiGeometry>%s</MultiGeometry>\" % \"\".join(g.kml for g in self)\n",
    "\n",
    "    @property\n",
    "    def tuple(self):\n",
    "        \"Return a tuple of all the coordinates in this Geometry Collection\"\n",
    "        return tuple(g.tuple for g in self)\n",
    "\n",
    "    coords = tuple"
   ]
  },
  {
   "cell_type": "markdown",
   "metadata": {},
   "source": []
  },
  {
   "cell_type": "code",
   "execution_count": null,
   "metadata": {},
   "outputs": [],
   "source": [
    "# MultiPoint, MultiLineString, and MultiPolygon class definitions.\n",
    "class MultiPoint(GeometryCollection):\n",
    "    _allowed = Point\n",
    "    _typeid = 4"
   ]
  },
  {
   "cell_type": "markdown",
   "metadata": {},
   "source": []
  },
  {
   "cell_type": "code",
   "execution_count": null,
   "metadata": {},
   "outputs": [],
   "source": [
    "class MultiLineString(LinearGeometryMixin, GeometryCollection):\n",
    "    _allowed = (LineString, LinearRing)\n",
    "    _typeid = 5"
   ]
  },
  {
   "cell_type": "markdown",
   "metadata": {},
   "source": []
  },
  {
   "cell_type": "code",
   "execution_count": null,
   "metadata": {},
   "outputs": [],
   "source": [
    "class MultiPolygon(GeometryCollection):\n",
    "    _allowed = Polygon\n",
    "    _typeid = 6"
   ]
  },
  {
   "cell_type": "markdown",
   "metadata": {},
   "source": []
  },
  {
   "cell_type": "code",
   "execution_count": null,
   "metadata": {},
   "outputs": [],
   "source": [
    "# Setting the allowed types here since GeometryCollection is defined before\n",
    "# its subclasses.\n",
    "GeometryCollection._allowed = (\n",
    "    Point,\n",
    "    LineString,\n",
    "    LinearRing,\n",
    "    Polygon,\n",
    "    MultiPoint,\n",
    "    MultiLineString,\n",
    "    MultiPolygon,\n",
    ")"
   ]
  },
  {
   "cell_type": "markdown",
   "metadata": {},
   "source": []
  }
 ],
 "metadata": {
  "language_info": {
   "name": "python"
  }
 },
 "nbformat": 4,
 "nbformat_minor": 2
}