{
 "cells": [
  {
   "cell_type": "code",
   "execution_count": null,
   "metadata": {},
   "outputs": [],
   "source": [
    "\"\"\"\n",
    "Module that holds classes for performing I/O operations on GEOS geometry\n",
    "objects.  Specifically, this has Python implementations of WKB/WKT\n",
    "reader and writer classes.\n",
    "\"\"\"\n",
    "\n",
    "from django.contrib.gis.geos.geometry import GEOSGeometry\n",
    "from django.contrib.gis.geos.prototypes.io import (\n",
    "    WKBWriter,\n",
    "    WKTWriter,\n",
    "    _WKBReader,\n",
    "    _WKTReader,\n",
    ")\n",
    "\n",
    "__all__ = [\"WKBWriter\", \"WKTWriter\", \"WKBReader\", \"WKTReader\"]"
   ]
  },
  {
   "cell_type": "markdown",
   "metadata": {},
   "source": []
  },
  {
   "cell_type": "code",
   "execution_count": null,
   "metadata": {},
   "outputs": [],
   "source": [
    "# Public classes for (WKB|WKT)Reader, which return GEOSGeometry\n",
    "class WKBReader(_WKBReader):\n",
    "    def read(self, wkb):\n",
    "        \"Return a GEOSGeometry for the given WKB buffer.\"\n",
    "        return GEOSGeometry(super().read(wkb))"
   ]
  },
  {
   "cell_type": "markdown",
   "metadata": {},
   "source": []
  },
  {
   "cell_type": "code",
   "execution_count": null,
   "metadata": {},
   "outputs": [],
   "source": [
    "class WKTReader(_WKTReader):\n",
    "    def read(self, wkt):\n",
    "        \"Return a GEOSGeometry for the given WKT string.\"\n",
    "        return GEOSGeometry(super().read(wkt))"
   ]
  },
  {
   "cell_type": "markdown",
   "metadata": {},
   "source": []
  }
 ],
 "metadata": {
  "language_info": {
   "name": "python"
  }
 },
 "nbformat": 4,
 "nbformat_minor": 2
}