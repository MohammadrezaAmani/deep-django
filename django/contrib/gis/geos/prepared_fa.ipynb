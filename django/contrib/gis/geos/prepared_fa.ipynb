{
    "cells": [
        {
            "cell_type": "code",
            "execution_count": null,
            "metadata": {},
            "outputs": [],
            "source": [
                "from .base import GEOSBase\n",
                "from .prototypes import prepared as capi\n"
            ]
        },
        {
            "cell_type": "markdown",
            "metadata": {},
            "source": []
        },
        {
            "cell_type": "code",
            "execution_count": null,
            "metadata": {},
            "outputs": [],
            "source": [
                "class PreparedGeometry(GEOSBase):\n",
                "    \"\"\"\n",
                "    A geometry that is prepared for performing certain operations.\n",
                "    At the moment this includes the contains covers, and intersects\n",
                "    operations.\n",
                "    \"\"\"\n",
                "\n",
                "    ptr_type = capi.PREPGEOM_PTR\n",
                "    destructor = capi.prepared_destroy\n",
                "\n",
                "    def __init__(self, geom):\n",
                "        # Keeping a reference to the original geometry object to prevent it\n",
                "        # from being garbage collected which could then crash the prepared one\n",
                "        # See #21662\n",
                "        self._base_geom = geom\n",
                "        from .geometry import GEOSGeometry\n",
                "\n",
                "        if not isinstance(geom, GEOSGeometry):\n",
                "            raise TypeError\n",
                "        self.ptr = capi.geos_prepare(geom.ptr)\n",
                "\n",
                "    def contains(self, other):\n",
                "        return capi.prepared_contains(self.ptr, other.ptr)\n",
                "\n",
                "    def contains_properly(self, other):\n",
                "        return capi.prepared_contains_properly(self.ptr, other.ptr)\n",
                "\n",
                "    def covers(self, other):\n",
                "        return capi.prepared_covers(self.ptr, other.ptr)\n",
                "\n",
                "    def intersects(self, other):\n",
                "        return capi.prepared_intersects(self.ptr, other.ptr)\n",
                "\n",
                "    def crosses(self, other):\n",
                "        return capi.prepared_crosses(self.ptr, other.ptr)\n",
                "\n",
                "    def disjoint(self, other):\n",
                "        return capi.prepared_disjoint(self.ptr, other.ptr)\n",
                "\n",
                "    def overlaps(self, other):\n",
                "        return capi.prepared_overlaps(self.ptr, other.ptr)\n",
                "\n",
                "    def touches(self, other):\n",
                "        return capi.prepared_touches(self.ptr, other.ptr)\n",
                "\n",
                "    def within(self, other):\n",
                "        return capi.prepared_within(self.ptr, other.ptr)\n",
                "\n"
            ]
        },
        {
            "cell_type": "markdown",
            "metadata": {},
            "source": []
        }
    ],
    "metadata": {
        "language_info": {
            "name": "python"
        }
    },
    "nbformat": 4,
    "nbformat_minor": 2
}