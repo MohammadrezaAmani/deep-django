{
 "cells": [
  {
   "cell_type": "code",
   "execution_count": null,
   "metadata": {},
   "outputs": [],
   "source": [
    "\"\"\"\n",
    " This module houses the ctypes initialization procedures, as well\n",
    " as the notice and error handler function callbacks (get called\n",
    " when an error occurs in GEOS).\n",
    "\n",
    " This module also houses GEOS Pointer utilities, including\n",
    " get_pointer_arr(), and GEOM_PTR.\n",
    "\"\"\"\n",
    "\n",
    "import logging\n",
    "import os\n",
    "from ctypes import CDLL, CFUNCTYPE, POINTER, Structure, c_char_p\n",
    "from ctypes.util import find_library\n",
    "\n",
    "from django.core.exceptions import ImproperlyConfigured\n",
    "from django.utils.functional import SimpleLazyObject, cached_property\n",
    "from django.utils.version import get_version_tuple\n",
    "\n",
    "logger = logging.getLogger(\"django.contrib.gis\")"
   ]
  },
  {
   "cell_type": "markdown",
   "metadata": {},
   "source": []
  },
  {
   "cell_type": "code",
   "execution_count": null,
   "metadata": {},
   "outputs": [],
   "source": [
    "def load_geos():\n",
    "    # Custom library path set?\n",
    "    try:\n",
    "        from django.conf import settings\n",
    "\n",
    "        lib_path = settings.GEOS_LIBRARY_PATH\n",
    "    except (AttributeError, ImportError, ImproperlyConfigured, OSError):\n",
    "        lib_path = None\n",
    "\n",
    "    # Setting the appropriate names for the GEOS-C library.\n",
    "    if lib_path:\n",
    "        lib_names = None\n",
    "    elif os.name == \"nt\":\n",
    "        # Windows NT libraries\n",
    "        lib_names = [\"geos_c\", \"libgeos_c-1\"]\n",
    "    elif os.name == \"posix\":\n",
    "        # *NIX libraries\n",
    "        lib_names = [\"geos_c\", \"GEOS\"]\n",
    "    else:\n",
    "        raise ImportError('Unsupported OS \"%s\"' % os.name)\n",
    "\n",
    "    # Using the ctypes `find_library` utility to find the path to the GEOS\n",
    "    # shared library.  This is better than manually specifying each library name\n",
    "    # and extension (e.g., libgeos_c.[so|so.1|dylib].).\n",
    "    if lib_names:\n",
    "        for lib_name in lib_names:\n",
    "            lib_path = find_library(lib_name)\n",
    "            if lib_path is not None:\n",
    "                break\n",
    "\n",
    "    # No GEOS library could be found.\n",
    "    if lib_path is None:\n",
    "        raise ImportError(\n",
    "            'Could not find the GEOS library (tried \"%s\"). '\n",
    "            \"Try setting GEOS_LIBRARY_PATH in your settings.\" % '\", \"'.join(lib_names)\n",
    "        )\n",
    "    # Getting the GEOS C library.  The C interface (CDLL) is used for\n",
    "    # both *NIX and Windows.\n",
    "    # See the GEOS C API source code for more details on the library function calls:\n",
    "    # https://libgeos.org/doxygen/geos__c_8h_source.html\n",
    "    _lgeos = CDLL(lib_path)\n",
    "    # Here we set up the prototypes for the initGEOS_r and finishGEOS_r\n",
    "    # routines.  These functions aren't actually called until they are\n",
    "    # attached to a GEOS context handle -- this actually occurs in\n",
    "    # geos/prototypes/threadsafe.py.\n",
    "    _lgeos.initGEOS_r.restype = CONTEXT_PTR\n",
    "    _lgeos.finishGEOS_r.argtypes = [CONTEXT_PTR]\n",
    "    # Set restype for compatibility across 32 and 64-bit platforms.\n",
    "    _lgeos.GEOSversion.restype = c_char_p\n",
    "    return _lgeos"
   ]
  },
  {
   "cell_type": "markdown",
   "metadata": {},
   "source": []
  },
  {
   "cell_type": "code",
   "execution_count": null,
   "metadata": {},
   "outputs": [],
   "source": [
    "# The notice and error handler C function callback definitions.\n",
    "# Supposed to mimic the GEOS message handler (C below):\n",
    "#  typedef void (*GEOSMessageHandler)(const char *fmt, ...);\n",
    "NOTICEFUNC = CFUNCTYPE(None, c_char_p, c_char_p)"
   ]
  },
  {
   "cell_type": "markdown",
   "metadata": {},
   "source": []
  },
  {
   "cell_type": "code",
   "execution_count": null,
   "metadata": {},
   "outputs": [],
   "source": [
    "def notice_h(fmt, lst):\n",
    "    fmt, lst = fmt.decode(), lst.decode()\n",
    "    try:\n",
    "        warn_msg = fmt % lst\n",
    "    except TypeError:\n",
    "        warn_msg = fmt\n",
    "    logger.warning(\"GEOS_NOTICE: %s\\n\", warn_msg)"
   ]
  },
  {
   "cell_type": "markdown",
   "metadata": {},
   "source": []
  },
  {
   "cell_type": "code",
   "execution_count": null,
   "metadata": {},
   "outputs": [],
   "source": [
    "notice_h = NOTICEFUNC(notice_h)\n",
    "\n",
    "ERRORFUNC = CFUNCTYPE(None, c_char_p, c_char_p)"
   ]
  },
  {
   "cell_type": "markdown",
   "metadata": {},
   "source": []
  },
  {
   "cell_type": "code",
   "execution_count": null,
   "metadata": {},
   "outputs": [],
   "source": [
    "def error_h(fmt, lst):\n",
    "    fmt, lst = fmt.decode(), lst.decode()\n",
    "    try:\n",
    "        err_msg = fmt % lst\n",
    "    except TypeError:\n",
    "        err_msg = fmt\n",
    "    logger.error(\"GEOS_ERROR: %s\\n\", err_msg)"
   ]
  },
  {
   "cell_type": "markdown",
   "metadata": {},
   "source": []
  },
  {
   "cell_type": "code",
   "execution_count": null,
   "metadata": {},
   "outputs": [],
   "source": [
    "error_h = ERRORFUNC(error_h)\n",
    "\n",
    "# #### GEOS Geometry C data structures, and utility functions. ####"
   ]
  },
  {
   "cell_type": "markdown",
   "metadata": {},
   "source": []
  },
  {
   "cell_type": "code",
   "execution_count": null,
   "metadata": {},
   "outputs": [],
   "source": [
    "# Opaque GEOS geometry structures, used for GEOM_PTR and CS_PTR\n",
    "class GEOSGeom_t(Structure):\n",
    "    pass"
   ]
  },
  {
   "cell_type": "markdown",
   "metadata": {},
   "source": []
  },
  {
   "cell_type": "code",
   "execution_count": null,
   "metadata": {},
   "outputs": [],
   "source": [
    "class GEOSPrepGeom_t(Structure):\n",
    "    pass"
   ]
  },
  {
   "cell_type": "markdown",
   "metadata": {},
   "source": []
  },
  {
   "cell_type": "code",
   "execution_count": null,
   "metadata": {},
   "outputs": [],
   "source": [
    "class GEOSCoordSeq_t(Structure):\n",
    "    pass"
   ]
  },
  {
   "cell_type": "markdown",
   "metadata": {},
   "source": []
  },
  {
   "cell_type": "code",
   "execution_count": null,
   "metadata": {},
   "outputs": [],
   "source": [
    "class GEOSContextHandle_t(Structure):\n",
    "    pass"
   ]
  },
  {
   "cell_type": "markdown",
   "metadata": {},
   "source": []
  },
  {
   "cell_type": "code",
   "execution_count": null,
   "metadata": {},
   "outputs": [],
   "source": [
    "# Pointers to opaque GEOS geometry structures.\n",
    "GEOM_PTR = POINTER(GEOSGeom_t)\n",
    "PREPGEOM_PTR = POINTER(GEOSPrepGeom_t)\n",
    "CS_PTR = POINTER(GEOSCoordSeq_t)\n",
    "CONTEXT_PTR = POINTER(GEOSContextHandle_t)"
   ]
  },
  {
   "cell_type": "markdown",
   "metadata": {},
   "source": []
  },
  {
   "cell_type": "code",
   "execution_count": null,
   "metadata": {},
   "outputs": [],
   "source": [
    "lgeos = SimpleLazyObject(load_geos)"
   ]
  },
  {
   "cell_type": "markdown",
   "metadata": {},
   "source": []
  },
  {
   "cell_type": "code",
   "execution_count": null,
   "metadata": {},
   "outputs": [],
   "source": [
    "class GEOSFuncFactory:\n",
    "    \"\"\"\n",
    "    Lazy loading of GEOS functions.\n",
    "    \"\"\"\n",
    "\n",
    "    argtypes = None\n",
    "    restype = None\n",
    "    errcheck = None\n",
    "\n",
    "    def __init__(self, func_name, *, restype=None, errcheck=None, argtypes=None):\n",
    "        self.func_name = func_name\n",
    "        if restype is not None:\n",
    "            self.restype = restype\n",
    "        if errcheck is not None:\n",
    "            self.errcheck = errcheck\n",
    "        if argtypes is not None:\n",
    "            self.argtypes = argtypes\n",
    "\n",
    "    def __call__(self, *args):\n",
    "        return self.func(*args)\n",
    "\n",
    "    @cached_property\n",
    "    def func(self):\n",
    "        from django.contrib.gis.geos.prototypes.threadsafe import GEOSFunc\n",
    "\n",
    "        func = GEOSFunc(self.func_name)\n",
    "        func.argtypes = self.argtypes or []\n",
    "        func.restype = self.restype\n",
    "        if self.errcheck:\n",
    "            func.errcheck = self.errcheck\n",
    "        return func"
   ]
  },
  {
   "cell_type": "markdown",
   "metadata": {},
   "source": []
  },
  {
   "cell_type": "code",
   "execution_count": null,
   "metadata": {},
   "outputs": [],
   "source": [
    "def geos_version():\n",
    "    \"\"\"Return the string version of the GEOS library.\"\"\"\n",
    "    return lgeos.GEOSversion()"
   ]
  },
  {
   "cell_type": "markdown",
   "metadata": {},
   "source": []
  },
  {
   "cell_type": "code",
   "execution_count": null,
   "metadata": {},
   "outputs": [],
   "source": [
    "def geos_version_tuple():\n",
    "    \"\"\"Return the GEOS version as a tuple (major, minor, subminor).\"\"\"\n",
    "    return get_version_tuple(geos_version().decode())"
   ]
  },
  {
   "cell_type": "markdown",
   "metadata": {},
   "source": []
  }
 ],
 "metadata": {
  "language_info": {
   "name": "python"
  }
 },
 "nbformat": 4,
 "nbformat_minor": 2
}