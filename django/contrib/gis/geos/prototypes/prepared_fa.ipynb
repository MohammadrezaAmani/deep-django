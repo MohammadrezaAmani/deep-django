{
 "cells": [
  {
   "cell_type": "code",
   "execution_count": null,
   "metadata": {},
   "outputs": [],
   "source": [
    "from ctypes import c_byte\n",
    "\n",
    "from django.contrib.gis.geos.libgeos import GEOM_PTR, PREPGEOM_PTR, GEOSFuncFactory\n",
    "from django.contrib.gis.geos.prototypes.errcheck import check_predicate\n",
    "\n",
    "# Prepared geometry constructor and destructors.\n",
    "geos_prepare = GEOSFuncFactory(\"GEOSPrepare\", argtypes=[GEOM_PTR], restype=PREPGEOM_PTR)\n",
    "prepared_destroy = GEOSFuncFactory(\"GEOSPreparedGeom_destroy\", argtypes=[PREPGEOM_PTR])"
   ]
  },
  {
   "cell_type": "markdown",
   "metadata": {},
   "source": []
  },
  {
   "cell_type": "code",
   "execution_count": null,
   "metadata": {},
   "outputs": [],
   "source": [
    "# Prepared geometry binary predicate support.\n",
    "class PreparedPredicate(GEOSFuncFactory):\n",
    "    argtypes = [PREPGEOM_PTR, GEOM_PTR]\n",
    "    restype = c_byte\n",
    "    errcheck = staticmethod(check_predicate)"
   ]
  },
  {
   "cell_type": "markdown",
   "metadata": {},
   "source": []
  },
  {
   "cell_type": "code",
   "execution_count": null,
   "metadata": {},
   "outputs": [],
   "source": [
    "prepared_contains = PreparedPredicate(\"GEOSPreparedContains\")\n",
    "prepared_contains_properly = PreparedPredicate(\"GEOSPreparedContainsProperly\")\n",
    "prepared_covers = PreparedPredicate(\"GEOSPreparedCovers\")\n",
    "prepared_crosses = PreparedPredicate(\"GEOSPreparedCrosses\")\n",
    "prepared_disjoint = PreparedPredicate(\"GEOSPreparedDisjoint\")\n",
    "prepared_intersects = PreparedPredicate(\"GEOSPreparedIntersects\")\n",
    "prepared_overlaps = PreparedPredicate(\"GEOSPreparedOverlaps\")\n",
    "prepared_touches = PreparedPredicate(\"GEOSPreparedTouches\")\n",
    "prepared_within = PreparedPredicate(\"GEOSPreparedWithin\")"
   ]
  },
  {
   "cell_type": "markdown",
   "metadata": {},
   "source": []
  }
 ],
 "metadata": {
  "language_info": {
   "name": "python"
  }
 },
 "nbformat": 4,
 "nbformat_minor": 2
}