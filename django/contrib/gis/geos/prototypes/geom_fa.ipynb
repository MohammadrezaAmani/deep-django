{
    "cells": [
        {
            "cell_type": "code",
            "execution_count": null,
            "metadata": {},
            "outputs": [],
            "source": [
                "from ctypes import POINTER, c_char_p, c_int, c_ubyte, c_uint\n",
                "\n",
                "from django.contrib.gis.geos.libgeos import CS_PTR, GEOM_PTR, GEOSFuncFactory\n",
                "from django.contrib.gis.geos.prototypes.errcheck import (\n",
                "    check_geom,\n",
                "    check_minus_one,\n",
                "    check_string,\n",
                ")\n",
                "\n",
                "# This is the return type used by binary output (WKB, HEX) routines.\n",
                "c_uchar_p = POINTER(c_ubyte)\n"
            ]
        },
        {
            "cell_type": "markdown",
            "metadata": {},
            "source": []
        },
        {
            "cell_type": "code",
            "execution_count": null,
            "metadata": {},
            "outputs": [],
            "source": [
                "# We create a simple subclass of c_char_p here because when the response\n",
                "# type is set to c_char_p, you get a _Python_ string and there's no way\n",
                "# to access the string's address inside the error checking function.\n",
                "# In other words, you can't free the memory allocated inside GEOS.  Previously,\n",
                "# the return type would just be omitted and the integer address would be\n",
                "# used -- but this allows us to be specific in the function definition and\n",
                "# keeps the reference so it may be free'd.\n",
                "class geos_char_p(c_char_p):\n",
                "    pass\n"
            ]
        },
        {
            "cell_type": "markdown",
            "metadata": {},
            "source": []
        },
        {
            "cell_type": "code",
            "execution_count": null,
            "metadata": {},
            "outputs": [],
            "source": [
                "# ### ctypes factory classes ###\n",
                "class GeomOutput(GEOSFuncFactory):\n",
                "    \"For GEOS routines that return a geometry.\"\n",
                "    restype = GEOM_PTR\n",
                "    errcheck = staticmethod(check_geom)\n"
            ]
        },
        {
            "cell_type": "markdown",
            "metadata": {},
            "source": []
        },
        {
            "cell_type": "code",
            "execution_count": null,
            "metadata": {},
            "outputs": [],
            "source": [
                "class IntFromGeom(GEOSFuncFactory):\n",
                "    \"Argument is a geometry, return type is an integer.\"\n",
                "    argtypes = [GEOM_PTR]\n",
                "    restype = c_int\n",
                "    errcheck = staticmethod(check_minus_one)\n"
            ]
        },
        {
            "cell_type": "markdown",
            "metadata": {},
            "source": []
        },
        {
            "cell_type": "code",
            "execution_count": null,
            "metadata": {},
            "outputs": [],
            "source": [
                "class StringFromGeom(GEOSFuncFactory):\n",
                "    \"Argument is a Geometry, return type is a string.\"\n",
                "    argtypes = [GEOM_PTR]\n",
                "    restype = geos_char_p\n",
                "    errcheck = staticmethod(check_string)\n"
            ]
        },
        {
            "cell_type": "markdown",
            "metadata": {},
            "source": []
        },
        {
            "cell_type": "code",
            "execution_count": null,
            "metadata": {},
            "outputs": [],
            "source": [
                "# ### ctypes prototypes ###\n",
                "\n",
                "# The GEOS geometry type, typeid, num_coordinates and number of geometries\n",
                "geos_makevalid = GeomOutput(\"GEOSMakeValid\", argtypes=[GEOM_PTR])\n",
                "geos_normalize = IntFromGeom(\"GEOSNormalize\")\n",
                "geos_type = StringFromGeom(\"GEOSGeomType\")\n",
                "geos_typeid = IntFromGeom(\"GEOSGeomTypeId\")\n",
                "get_dims = GEOSFuncFactory(\"GEOSGeom_getDimensions\", argtypes=[GEOM_PTR], restype=c_int)\n",
                "get_num_coords = IntFromGeom(\"GEOSGetNumCoordinates\")\n",
                "get_num_geoms = IntFromGeom(\"GEOSGetNumGeometries\")\n",
                "\n",
                "# Geometry creation factories\n",
                "create_point = GeomOutput(\"GEOSGeom_createPoint\", argtypes=[CS_PTR])\n",
                "create_linestring = GeomOutput(\"GEOSGeom_createLineString\", argtypes=[CS_PTR])\n",
                "create_linearring = GeomOutput(\"GEOSGeom_createLinearRing\", argtypes=[CS_PTR])\n",
                "\n",
                "# Polygon and collection creation routines need argument types defined\n",
                "# for compatibility with some platforms, e.g. macOS ARM64. With argtypes\n",
                "# defined, arrays are automatically cast and byref() calls are not needed.\n",
                "create_polygon = GeomOutput(\n",
                "    \"GEOSGeom_createPolygon\",\n",
                "    argtypes=[GEOM_PTR, POINTER(GEOM_PTR), c_uint],\n",
                ")\n",
                "create_empty_polygon = GeomOutput(\"GEOSGeom_createEmptyPolygon\", argtypes=[])\n",
                "create_collection = GeomOutput(\n",
                "    \"GEOSGeom_createCollection\",\n",
                "    argtypes=[c_int, POINTER(GEOM_PTR), c_uint],\n",
                ")\n",
                "\n",
                "# Ring routines\n",
                "get_extring = GeomOutput(\"GEOSGetExteriorRing\", argtypes=[GEOM_PTR])\n",
                "get_intring = GeomOutput(\"GEOSGetInteriorRingN\", argtypes=[GEOM_PTR, c_int])\n",
                "get_nrings = IntFromGeom(\"GEOSGetNumInteriorRings\")\n",
                "\n",
                "# Collection Routines\n",
                "get_geomn = GeomOutput(\"GEOSGetGeometryN\", argtypes=[GEOM_PTR, c_int])\n",
                "\n",
                "# Cloning\n",
                "geom_clone = GEOSFuncFactory(\"GEOSGeom_clone\", argtypes=[GEOM_PTR], restype=GEOM_PTR)\n",
                "\n",
                "# Destruction routine.\n",
                "destroy_geom = GEOSFuncFactory(\"GEOSGeom_destroy\", argtypes=[GEOM_PTR])\n",
                "\n",
                "# SRID routines\n",
                "geos_get_srid = GEOSFuncFactory(\"GEOSGetSRID\", argtypes=[GEOM_PTR], restype=c_int)\n",
                "geos_set_srid = GEOSFuncFactory(\"GEOSSetSRID\", argtypes=[GEOM_PTR, c_int])\n",
                "\n"
            ]
        },
        {
            "cell_type": "markdown",
            "metadata": {},
            "source": []
        }
    ],
    "metadata": {
        "language_info": {
            "name": "python"
        }
    },
    "nbformat": 4,
    "nbformat_minor": 2
}