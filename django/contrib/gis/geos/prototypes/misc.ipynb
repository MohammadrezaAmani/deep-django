{
 "cells": [
  {
   "cell_type": "code",
   "execution_count": null,
   "metadata": {},
   "outputs": [],
   "source": [
    "\"\"\"\n",
    " This module is for the miscellaneous GEOS routines, particularly the\n",
    " ones that return the area, distance, and length.\n",
    "\"\"\"\n",
    "\n",
    "from ctypes import POINTER, c_double, c_int\n",
    "\n",
    "from django.contrib.gis.geos.libgeos import GEOM_PTR, GEOSFuncFactory\n",
    "from django.contrib.gis.geos.prototypes.errcheck import check_dbl, check_string\n",
    "from django.contrib.gis.geos.prototypes.geom import geos_char_p\n",
    "\n",
    "__all__ = [\"geos_area\", \"geos_distance\", \"geos_length\", \"geos_isvalidreason\"]"
   ]
  },
  {
   "cell_type": "markdown",
   "metadata": {},
   "source": []
  },
  {
   "cell_type": "code",
   "execution_count": null,
   "metadata": {},
   "outputs": [],
   "source": [
    "class DblFromGeom(GEOSFuncFactory):\n",
    "    \"\"\"\n",
    "    Argument is a Geometry, return type is double that is passed\n",
    "    in by reference as the last argument.\n",
    "    \"\"\"\n",
    "\n",
    "    restype = c_int  # Status code returned\n",
    "    errcheck = staticmethod(check_dbl)"
   ]
  },
  {
   "cell_type": "markdown",
   "metadata": {},
   "source": []
  },
  {
   "cell_type": "code",
   "execution_count": null,
   "metadata": {},
   "outputs": [],
   "source": [
    "# ### ctypes prototypes ###\n",
    "\n",
    "# Area, distance, and length prototypes.\n",
    "geos_area = DblFromGeom(\"GEOSArea\", argtypes=[GEOM_PTR, POINTER(c_double)])\n",
    "geos_distance = DblFromGeom(\n",
    "    \"GEOSDistance\", argtypes=[GEOM_PTR, GEOM_PTR, POINTER(c_double)]\n",
    ")\n",
    "geos_length = DblFromGeom(\"GEOSLength\", argtypes=[GEOM_PTR, POINTER(c_double)])\n",
    "geos_isvalidreason = GEOSFuncFactory(\n",
    "    \"GEOSisValidReason\", restype=geos_char_p, errcheck=check_string, argtypes=[GEOM_PTR]\n",
    ")"
   ]
  },
  {
   "cell_type": "markdown",
   "metadata": {},
   "source": []
  }
 ],
 "metadata": {
  "language_info": {
   "name": "python"
  }
 },
 "nbformat": 4,
 "nbformat_minor": 2
}