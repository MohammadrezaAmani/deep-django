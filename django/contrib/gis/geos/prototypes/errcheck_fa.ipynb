{
    "cells": [
        {
            "cell_type": "code",
            "execution_count": null,
            "metadata": {},
            "outputs": [],
            "source": [
                "\"\"\"\n",
                " Error checking functions for GEOS ctypes prototype functions.\n",
                "\"\"\"\n",
                "\n",
                "from ctypes import c_void_p, string_at\n",
                "\n",
                "from django.contrib.gis.geos.error import GEOSException\n",
                "from django.contrib.gis.geos.libgeos import GEOSFuncFactory\n",
                "\n",
                "# Getting the `free` routine used to free the memory allocated for\n",
                "# string pointers returned by GEOS.\n",
                "free = GEOSFuncFactory(\"GEOSFree\")\n",
                "free.argtypes = [c_void_p]\n"
            ]
        },
        {
            "cell_type": "markdown",
            "metadata": {},
            "source": []
        },
        {
            "cell_type": "code",
            "execution_count": null,
            "metadata": {},
            "outputs": [],
            "source": [
                "def last_arg_byref(args):\n",
                "    \"Return the last C argument's value by reference.\"\n",
                "    return args[-1]._obj.value\n"
            ]
        },
        {
            "cell_type": "markdown",
            "metadata": {},
            "source": []
        },
        {
            "cell_type": "code",
            "execution_count": null,
            "metadata": {},
            "outputs": [],
            "source": [
                "def check_dbl(result, func, cargs):\n",
                "    \"Check the status code and returns the double value passed in by reference.\"\n",
                "    # Checking the status code\n",
                "    if result != 1:\n",
                "        return None\n",
                "    # Double passed in by reference, return its value.\n",
                "    return last_arg_byref(cargs)\n"
            ]
        },
        {
            "cell_type": "markdown",
            "metadata": {},
            "source": []
        },
        {
            "cell_type": "code",
            "execution_count": null,
            "metadata": {},
            "outputs": [],
            "source": [
                "def check_geom(result, func, cargs):\n",
                "    \"Error checking on routines that return Geometries.\"\n",
                "    if not result:\n",
                "        raise GEOSException(\n",
                "            'Error encountered checking Geometry returned from GEOS C function \"%s\".'\n",
                "            % func.__name__\n",
                "        )\n",
                "    return result\n"
            ]
        },
        {
            "cell_type": "markdown",
            "metadata": {},
            "source": []
        },
        {
            "cell_type": "code",
            "execution_count": null,
            "metadata": {},
            "outputs": [],
            "source": [
                "def check_minus_one(result, func, cargs):\n",
                "    \"Error checking on routines that should not return -1.\"\n",
                "    if result == -1:\n",
                "        raise GEOSException(\n",
                "            'Error encountered in GEOS C function \"%s\".' % func.__name__\n",
                "        )\n",
                "    else:\n",
                "        return result\n"
            ]
        },
        {
            "cell_type": "markdown",
            "metadata": {},
            "source": []
        },
        {
            "cell_type": "code",
            "execution_count": null,
            "metadata": {},
            "outputs": [],
            "source": [
                "def check_predicate(result, func, cargs):\n",
                "    \"Error checking for unary/binary predicate functions.\"\n",
                "    if result == 1:\n",
                "        return True\n",
                "    elif result == 0:\n",
                "        return False\n",
                "    else:\n",
                "        raise GEOSException(\n",
                "            'Error encountered on GEOS C predicate function \"%s\".' % func.__name__\n",
                "        )\n"
            ]
        },
        {
            "cell_type": "markdown",
            "metadata": {},
            "source": []
        },
        {
            "cell_type": "code",
            "execution_count": null,
            "metadata": {},
            "outputs": [],
            "source": [
                "def check_sized_string(result, func, cargs):\n",
                "    \"\"\"\n",
                "    Error checking for routines that return explicitly sized strings.\n",
                "\n",
                "    This frees the memory allocated by GEOS at the result pointer.\n",
                "    \"\"\"\n",
                "    if not result:\n",
                "        raise GEOSException(\n",
                "            'Invalid string pointer returned by GEOS C function \"%s\"' % func.__name__\n",
                "        )\n",
                "    # A c_size_t object is passed in by reference for the second\n",
                "    # argument on these routines, and its needed to determine the\n",
                "    # correct size.\n",
                "    s = string_at(result, last_arg_byref(cargs))\n",
                "    # Freeing the memory allocated within GEOS\n",
                "    free(result)\n",
                "    return s\n"
            ]
        },
        {
            "cell_type": "markdown",
            "metadata": {},
            "source": []
        },
        {
            "cell_type": "code",
            "execution_count": null,
            "metadata": {},
            "outputs": [],
            "source": [
                "def check_string(result, func, cargs):\n",
                "    \"\"\"\n",
                "    Error checking for routines that return strings.\n",
                "\n",
                "    This frees the memory allocated by GEOS at the result pointer.\n",
                "    \"\"\"\n",
                "    if not result:\n",
                "        raise GEOSException(\n",
                "            'Error encountered checking string return value in GEOS C function \"%s\".'\n",
                "            % func.__name__\n",
                "        )\n",
                "    # Getting the string value at the pointer address.\n",
                "    s = string_at(result)\n",
                "    # Freeing the memory allocated within GEOS\n",
                "    free(result)\n",
                "    return s\n",
                "\n"
            ]
        },
        {
            "cell_type": "markdown",
            "metadata": {},
            "source": []
        }
    ],
    "metadata": {
        "language_info": {
            "name": "python"
        }
    },
    "nbformat": 4,
    "nbformat_minor": 2
}