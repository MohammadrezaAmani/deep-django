{
 "cells": [
  {
   "cell_type": "code",
   "execution_count": null,
   "metadata": {},
   "outputs": [],
   "source": [
    "import threading\n",
    "from ctypes import POINTER, Structure, byref, c_byte, c_char_p, c_int, c_size_t\n",
    "\n",
    "from django.contrib.gis.geos.base import GEOSBase\n",
    "from django.contrib.gis.geos.libgeos import (\n",
    "    GEOM_PTR,\n",
    "    GEOSFuncFactory,\n",
    "    geos_version_tuple,\n",
    ")\n",
    "from django.contrib.gis.geos.prototypes.errcheck import (\n",
    "    check_geom,\n",
    "    check_sized_string,\n",
    "    check_string,\n",
    ")\n",
    "from django.contrib.gis.geos.prototypes.geom import c_uchar_p, geos_char_p\n",
    "from django.utils.encoding import force_bytes\n",
    "from django.utils.functional import SimpleLazyObject"
   ]
  },
  {
   "cell_type": "markdown",
   "metadata": {},
   "source": []
  },
  {
   "cell_type": "code",
   "execution_count": null,
   "metadata": {},
   "outputs": [],
   "source": [
    "# ### The WKB/WKT Reader/Writer structures and pointers ###\n",
    "class WKTReader_st(Structure):\n",
    "    pass"
   ]
  },
  {
   "cell_type": "markdown",
   "metadata": {},
   "source": []
  },
  {
   "cell_type": "code",
   "execution_count": null,
   "metadata": {},
   "outputs": [],
   "source": [
    "class WKTWriter_st(Structure):\n",
    "    pass"
   ]
  },
  {
   "cell_type": "markdown",
   "metadata": {},
   "source": []
  },
  {
   "cell_type": "code",
   "execution_count": null,
   "metadata": {},
   "outputs": [],
   "source": [
    "class WKBReader_st(Structure):\n",
    "    pass"
   ]
  },
  {
   "cell_type": "markdown",
   "metadata": {},
   "source": []
  },
  {
   "cell_type": "code",
   "execution_count": null,
   "metadata": {},
   "outputs": [],
   "source": [
    "class WKBWriter_st(Structure):\n",
    "    pass"
   ]
  },
  {
   "cell_type": "markdown",
   "metadata": {},
   "source": []
  },
  {
   "cell_type": "code",
   "execution_count": null,
   "metadata": {},
   "outputs": [],
   "source": [
    "WKT_READ_PTR = POINTER(WKTReader_st)\n",
    "WKT_WRITE_PTR = POINTER(WKTWriter_st)\n",
    "WKB_READ_PTR = POINTER(WKBReader_st)\n",
    "WKB_WRITE_PTR = POINTER(WKBReader_st)\n",
    "\n",
    "# WKTReader routines\n",
    "wkt_reader_create = GEOSFuncFactory(\"GEOSWKTReader_create\", restype=WKT_READ_PTR)\n",
    "wkt_reader_destroy = GEOSFuncFactory(\"GEOSWKTReader_destroy\", argtypes=[WKT_READ_PTR])\n",
    "\n",
    "wkt_reader_read = GEOSFuncFactory(\n",
    "    \"GEOSWKTReader_read\",\n",
    "    argtypes=[WKT_READ_PTR, c_char_p],\n",
    "    restype=GEOM_PTR,\n",
    "    errcheck=check_geom,\n",
    ")\n",
    "# WKTWriter routines\n",
    "wkt_writer_create = GEOSFuncFactory(\"GEOSWKTWriter_create\", restype=WKT_WRITE_PTR)\n",
    "wkt_writer_destroy = GEOSFuncFactory(\"GEOSWKTWriter_destroy\", argtypes=[WKT_WRITE_PTR])\n",
    "\n",
    "wkt_writer_write = GEOSFuncFactory(\n",
    "    \"GEOSWKTWriter_write\",\n",
    "    argtypes=[WKT_WRITE_PTR, GEOM_PTR],\n",
    "    restype=geos_char_p,\n",
    "    errcheck=check_string,\n",
    ")\n",
    "\n",
    "wkt_writer_get_outdim = GEOSFuncFactory(\n",
    "    \"GEOSWKTWriter_getOutputDimension\", argtypes=[WKT_WRITE_PTR], restype=c_int\n",
    ")\n",
    "wkt_writer_set_outdim = GEOSFuncFactory(\n",
    "    \"GEOSWKTWriter_setOutputDimension\", argtypes=[WKT_WRITE_PTR, c_int]\n",
    ")\n",
    "\n",
    "wkt_writer_set_trim = GEOSFuncFactory(\n",
    "    \"GEOSWKTWriter_setTrim\", argtypes=[WKT_WRITE_PTR, c_byte]\n",
    ")\n",
    "wkt_writer_set_precision = GEOSFuncFactory(\n",
    "    \"GEOSWKTWriter_setRoundingPrecision\", argtypes=[WKT_WRITE_PTR, c_int]\n",
    ")\n",
    "\n",
    "# WKBReader routines\n",
    "wkb_reader_create = GEOSFuncFactory(\"GEOSWKBReader_create\", restype=WKB_READ_PTR)\n",
    "wkb_reader_destroy = GEOSFuncFactory(\"GEOSWKBReader_destroy\", argtypes=[WKB_READ_PTR])"
   ]
  },
  {
   "cell_type": "markdown",
   "metadata": {},
   "source": []
  },
  {
   "cell_type": "code",
   "execution_count": null,
   "metadata": {},
   "outputs": [],
   "source": [
    "class WKBReadFunc(GEOSFuncFactory):\n",
    "    # Although the function definitions take `const unsigned char *`\n",
    "    # as their parameter, we use c_char_p here so the function may\n",
    "    # take Python strings directly as parameters.  Inside Python there\n",
    "    # is not a difference between signed and unsigned characters, so\n",
    "    # it is not a problem.\n",
    "    argtypes = [WKB_READ_PTR, c_char_p, c_size_t]\n",
    "    restype = GEOM_PTR\n",
    "    errcheck = staticmethod(check_geom)"
   ]
  },
  {
   "cell_type": "markdown",
   "metadata": {},
   "source": []
  },
  {
   "cell_type": "code",
   "execution_count": null,
   "metadata": {},
   "outputs": [],
   "source": [
    "wkb_reader_read = WKBReadFunc(\"GEOSWKBReader_read\")\n",
    "wkb_reader_read_hex = WKBReadFunc(\"GEOSWKBReader_readHEX\")\n",
    "\n",
    "# WKBWriter routines\n",
    "wkb_writer_create = GEOSFuncFactory(\"GEOSWKBWriter_create\", restype=WKB_WRITE_PTR)\n",
    "wkb_writer_destroy = GEOSFuncFactory(\"GEOSWKBWriter_destroy\", argtypes=[WKB_WRITE_PTR])"
   ]
  },
  {
   "cell_type": "markdown",
   "metadata": {},
   "source": []
  },
  {
   "cell_type": "code",
   "execution_count": null,
   "metadata": {},
   "outputs": [],
   "source": [
    "# WKB Writing prototypes.\n",
    "class WKBWriteFunc(GEOSFuncFactory):\n",
    "    argtypes = [WKB_WRITE_PTR, GEOM_PTR, POINTER(c_size_t)]\n",
    "    restype = c_uchar_p\n",
    "    errcheck = staticmethod(check_sized_string)"
   ]
  },
  {
   "cell_type": "markdown",
   "metadata": {},
   "source": []
  },
  {
   "cell_type": "code",
   "execution_count": null,
   "metadata": {},
   "outputs": [],
   "source": [
    "wkb_writer_write = WKBWriteFunc(\"GEOSWKBWriter_write\")\n",
    "wkb_writer_write_hex = WKBWriteFunc(\"GEOSWKBWriter_writeHEX\")"
   ]
  },
  {
   "cell_type": "markdown",
   "metadata": {},
   "source": []
  },
  {
   "cell_type": "code",
   "execution_count": null,
   "metadata": {},
   "outputs": [],
   "source": [
    "# WKBWriter property getter/setter prototypes.\n",
    "class WKBWriterGet(GEOSFuncFactory):\n",
    "    argtypes = [WKB_WRITE_PTR]\n",
    "    restype = c_int"
   ]
  },
  {
   "cell_type": "markdown",
   "metadata": {},
   "source": []
  },
  {
   "cell_type": "code",
   "execution_count": null,
   "metadata": {},
   "outputs": [],
   "source": [
    "class WKBWriterSet(GEOSFuncFactory):\n",
    "    argtypes = [WKB_WRITE_PTR, c_int]"
   ]
  },
  {
   "cell_type": "markdown",
   "metadata": {},
   "source": []
  },
  {
   "cell_type": "code",
   "execution_count": null,
   "metadata": {},
   "outputs": [],
   "source": [
    "wkb_writer_get_byteorder = WKBWriterGet(\"GEOSWKBWriter_getByteOrder\")\n",
    "wkb_writer_set_byteorder = WKBWriterSet(\"GEOSWKBWriter_setByteOrder\")\n",
    "wkb_writer_get_outdim = WKBWriterGet(\"GEOSWKBWriter_getOutputDimension\")\n",
    "wkb_writer_set_outdim = WKBWriterSet(\"GEOSWKBWriter_setOutputDimension\")\n",
    "wkb_writer_get_include_srid = WKBWriterGet(\n",
    "    \"GEOSWKBWriter_getIncludeSRID\", restype=c_byte\n",
    ")\n",
    "wkb_writer_set_include_srid = WKBWriterSet(\n",
    "    \"GEOSWKBWriter_setIncludeSRID\", argtypes=[WKB_WRITE_PTR, c_byte]\n",
    ")"
   ]
  },
  {
   "cell_type": "markdown",
   "metadata": {},
   "source": []
  },
  {
   "cell_type": "code",
   "execution_count": null,
   "metadata": {},
   "outputs": [],
   "source": [
    "# ### Base I/O Class ###\n",
    "class IOBase(GEOSBase):\n",
    "    \"Base class for GEOS I/O objects.\"\n",
    "\n",
    "    def __init__(self):\n",
    "        # Getting the pointer with the constructor.\n",
    "        self.ptr = self._constructor()\n",
    "        # Loading the real destructor function at this point as doing it in\n",
    "        # __del__ is too late (import error).\n",
    "        self.destructor.func"
   ]
  },
  {
   "cell_type": "markdown",
   "metadata": {},
   "source": []
  },
  {
   "cell_type": "code",
   "execution_count": null,
   "metadata": {},
   "outputs": [],
   "source": [
    "# ### Base WKB/WKT Reading and Writing objects ###"
   ]
  },
  {
   "cell_type": "markdown",
   "metadata": {},
   "source": []
  },
  {
   "cell_type": "code",
   "execution_count": null,
   "metadata": {},
   "outputs": [],
   "source": [
    "# Non-public WKB/WKT reader classes for internal use because\n",
    "# their `read` methods return _pointers_ instead of GEOSGeometry\n",
    "# objects.\n",
    "class _WKTReader(IOBase):\n",
    "    _constructor = wkt_reader_create\n",
    "    ptr_type = WKT_READ_PTR\n",
    "    destructor = wkt_reader_destroy\n",
    "\n",
    "    def read(self, wkt):\n",
    "        if not isinstance(wkt, (bytes, str)):\n",
    "            raise TypeError\n",
    "        return wkt_reader_read(self.ptr, force_bytes(wkt))"
   ]
  },
  {
   "cell_type": "markdown",
   "metadata": {},
   "source": []
  },
  {
   "cell_type": "code",
   "execution_count": null,
   "metadata": {},
   "outputs": [],
   "source": [
    "class _WKBReader(IOBase):\n",
    "    _constructor = wkb_reader_create\n",
    "    ptr_type = WKB_READ_PTR\n",
    "    destructor = wkb_reader_destroy\n",
    "\n",
    "    def read(self, wkb):\n",
    "        \"Return a _pointer_ to C GEOS Geometry object from the given WKB.\"\n",
    "        if isinstance(wkb, memoryview):\n",
    "            wkb_s = bytes(wkb)\n",
    "            return wkb_reader_read(self.ptr, wkb_s, len(wkb_s))\n",
    "        elif isinstance(wkb, bytes):\n",
    "            return wkb_reader_read_hex(self.ptr, wkb, len(wkb))\n",
    "        elif isinstance(wkb, str):\n",
    "            wkb_s = wkb.encode()\n",
    "            return wkb_reader_read_hex(self.ptr, wkb_s, len(wkb_s))\n",
    "        else:\n",
    "            raise TypeError"
   ]
  },
  {
   "cell_type": "markdown",
   "metadata": {},
   "source": []
  },
  {
   "cell_type": "code",
   "execution_count": null,
   "metadata": {},
   "outputs": [],
   "source": [
    "def default_trim_value():\n",
    "    \"\"\"\n",
    "    GEOS changed the default value in 3.12.0. Can be replaced by True when\n",
    "    3.12.0 becomes the minimum supported version.\n",
    "    \"\"\"\n",
    "    return geos_version_tuple() >= (3, 12)"
   ]
  },
  {
   "cell_type": "markdown",
   "metadata": {},
   "source": []
  },
  {
   "cell_type": "code",
   "execution_count": null,
   "metadata": {},
   "outputs": [],
   "source": [
    "DEFAULT_TRIM_VALUE = SimpleLazyObject(default_trim_value)"
   ]
  },
  {
   "cell_type": "markdown",
   "metadata": {},
   "source": []
  },
  {
   "cell_type": "code",
   "execution_count": null,
   "metadata": {},
   "outputs": [],
   "source": [
    "# ### WKB/WKT Writer Classes ###\n",
    "class WKTWriter(IOBase):\n",
    "    _constructor = wkt_writer_create\n",
    "    ptr_type = WKT_WRITE_PTR\n",
    "    destructor = wkt_writer_destroy\n",
    "    _precision = None\n",
    "\n",
    "    def __init__(self, dim=2, trim=False, precision=None):\n",
    "        super().__init__()\n",
    "        self._trim = DEFAULT_TRIM_VALUE\n",
    "        self.trim = trim\n",
    "        if precision is not None:\n",
    "            self.precision = precision\n",
    "        self.outdim = dim\n",
    "\n",
    "    def write(self, geom):\n",
    "        \"Return the WKT representation of the given geometry.\"\n",
    "        return wkt_writer_write(self.ptr, geom.ptr)\n",
    "\n",
    "    @property\n",
    "    def outdim(self):\n",
    "        return wkt_writer_get_outdim(self.ptr)\n",
    "\n",
    "    @outdim.setter\n",
    "    def outdim(self, new_dim):\n",
    "        if new_dim not in (2, 3):\n",
    "            raise ValueError(\"WKT output dimension must be 2 or 3\")\n",
    "        wkt_writer_set_outdim(self.ptr, new_dim)\n",
    "\n",
    "    @property\n",
    "    def trim(self):\n",
    "        return self._trim\n",
    "\n",
    "    @trim.setter\n",
    "    def trim(self, flag):\n",
    "        if bool(flag) != self._trim:\n",
    "            self._trim = bool(flag)\n",
    "            wkt_writer_set_trim(self.ptr, self._trim)\n",
    "\n",
    "    @property\n",
    "    def precision(self):\n",
    "        return self._precision\n",
    "\n",
    "    @precision.setter\n",
    "    def precision(self, precision):\n",
    "        if (not isinstance(precision, int) or precision < 0) and precision is not None:\n",
    "            raise AttributeError(\n",
    "                \"WKT output rounding precision must be non-negative integer or None.\"\n",
    "            )\n",
    "        if precision != self._precision:\n",
    "            self._precision = precision\n",
    "            wkt_writer_set_precision(self.ptr, -1 if precision is None else precision)"
   ]
  },
  {
   "cell_type": "markdown",
   "metadata": {},
   "source": []
  },
  {
   "cell_type": "code",
   "execution_count": null,
   "metadata": {},
   "outputs": [],
   "source": [
    "class WKBWriter(IOBase):\n",
    "    _constructor = wkb_writer_create\n",
    "    ptr_type = WKB_WRITE_PTR\n",
    "    destructor = wkb_writer_destroy\n",
    "    geos_version = geos_version_tuple()\n",
    "\n",
    "    def __init__(self, dim=2):\n",
    "        super().__init__()\n",
    "        self.outdim = dim\n",
    "\n",
    "    def _handle_empty_point(self, geom):\n",
    "        from django.contrib.gis.geos import Point\n",
    "\n",
    "        if isinstance(geom, Point) and geom.empty:\n",
    "            if self.srid:\n",
    "                # PostGIS uses POINT(NaN NaN) for WKB representation of empty\n",
    "                # points. Use it for EWKB as it's a PostGIS specific format.\n",
    "                # https://trac.osgeo.org/postgis/ticket/3181\n",
    "                geom = Point(float(\"NaN\"), float(\"NaN\"), srid=geom.srid)\n",
    "            else:\n",
    "                raise ValueError(\"Empty point is not representable in WKB.\")\n",
    "        return geom\n",
    "\n",
    "    def write(self, geom):\n",
    "        \"Return the WKB representation of the given geometry.\"\n",
    "        geom = self._handle_empty_point(geom)\n",
    "        wkb = wkb_writer_write(self.ptr, geom.ptr, byref(c_size_t()))\n",
    "        return memoryview(wkb)\n",
    "\n",
    "    def write_hex(self, geom):\n",
    "        \"Return the HEXEWKB representation of the given geometry.\"\n",
    "        geom = self._handle_empty_point(geom)\n",
    "        wkb = wkb_writer_write_hex(self.ptr, geom.ptr, byref(c_size_t()))\n",
    "        return wkb\n",
    "\n",
    "    # ### WKBWriter Properties ###\n",
    "\n",
    "    # Property for getting/setting the byteorder.\n",
    "    def _get_byteorder(self):\n",
    "        return wkb_writer_get_byteorder(self.ptr)\n",
    "\n",
    "    def _set_byteorder(self, order):\n",
    "        if order not in (0, 1):\n",
    "            raise ValueError(\n",
    "                \"Byte order parameter must be 0 (Big Endian) or 1 (Little Endian).\"\n",
    "            )\n",
    "        wkb_writer_set_byteorder(self.ptr, order)\n",
    "\n",
    "    byteorder = property(_get_byteorder, _set_byteorder)\n",
    "\n",
    "    # Property for getting/setting the output dimension.\n",
    "    @property\n",
    "    def outdim(self):\n",
    "        return wkb_writer_get_outdim(self.ptr)\n",
    "\n",
    "    @outdim.setter\n",
    "    def outdim(self, new_dim):\n",
    "        if new_dim not in (2, 3):\n",
    "            raise ValueError(\"WKB output dimension must be 2 or 3\")\n",
    "        wkb_writer_set_outdim(self.ptr, new_dim)\n",
    "\n",
    "    # Property for getting/setting the include srid flag.\n",
    "    @property\n",
    "    def srid(self):\n",
    "        return bool(wkb_writer_get_include_srid(self.ptr))\n",
    "\n",
    "    @srid.setter\n",
    "    def srid(self, include):\n",
    "        wkb_writer_set_include_srid(self.ptr, bool(include))"
   ]
  },
  {
   "cell_type": "markdown",
   "metadata": {},
   "source": []
  },
  {
   "cell_type": "code",
   "execution_count": null,
   "metadata": {},
   "outputs": [],
   "source": [
    "# `ThreadLocalIO` object holds instances of the WKT and WKB reader/writer\n",
    "# objects that are local to the thread.  The `GEOSGeometry` internals\n",
    "# access these instances by calling the module-level functions, defined\n",
    "# below.\n",
    "class ThreadLocalIO(threading.local):\n",
    "    wkt_r = None\n",
    "    wkt_w = None\n",
    "    wkb_r = None\n",
    "    wkb_w = None\n",
    "    ewkb_w = None"
   ]
  },
  {
   "cell_type": "markdown",
   "metadata": {},
   "source": []
  },
  {
   "cell_type": "code",
   "execution_count": null,
   "metadata": {},
   "outputs": [],
   "source": [
    "thread_context = ThreadLocalIO()"
   ]
  },
  {
   "cell_type": "markdown",
   "metadata": {},
   "source": []
  },
  {
   "cell_type": "code",
   "execution_count": null,
   "metadata": {},
   "outputs": [],
   "source": [
    "# These module-level routines return the I/O object that is local to the\n",
    "# thread. If the I/O object does not exist yet it will be initialized.\n",
    "def wkt_r():\n",
    "    thread_context.wkt_r = thread_context.wkt_r or _WKTReader()\n",
    "    return thread_context.wkt_r"
   ]
  },
  {
   "cell_type": "markdown",
   "metadata": {},
   "source": []
  },
  {
   "cell_type": "code",
   "execution_count": null,
   "metadata": {},
   "outputs": [],
   "source": [
    "def wkt_w(dim=2, trim=False, precision=None):\n",
    "    if not thread_context.wkt_w:\n",
    "        thread_context.wkt_w = WKTWriter(dim=dim, trim=trim, precision=precision)\n",
    "    else:\n",
    "        thread_context.wkt_w.outdim = dim\n",
    "        thread_context.wkt_w.trim = trim\n",
    "        thread_context.wkt_w.precision = precision\n",
    "    return thread_context.wkt_w"
   ]
  },
  {
   "cell_type": "markdown",
   "metadata": {},
   "source": []
  },
  {
   "cell_type": "code",
   "execution_count": null,
   "metadata": {},
   "outputs": [],
   "source": [
    "def wkb_r():\n",
    "    thread_context.wkb_r = thread_context.wkb_r or _WKBReader()\n",
    "    return thread_context.wkb_r"
   ]
  },
  {
   "cell_type": "markdown",
   "metadata": {},
   "source": []
  },
  {
   "cell_type": "code",
   "execution_count": null,
   "metadata": {},
   "outputs": [],
   "source": [
    "def wkb_w(dim=2):\n",
    "    if not thread_context.wkb_w:\n",
    "        thread_context.wkb_w = WKBWriter(dim=dim)\n",
    "    else:\n",
    "        thread_context.wkb_w.outdim = dim\n",
    "    return thread_context.wkb_w"
   ]
  },
  {
   "cell_type": "markdown",
   "metadata": {},
   "source": []
  },
  {
   "cell_type": "code",
   "execution_count": null,
   "metadata": {},
   "outputs": [],
   "source": [
    "def ewkb_w(dim=2):\n",
    "    if not thread_context.ewkb_w:\n",
    "        thread_context.ewkb_w = WKBWriter(dim=dim)\n",
    "        thread_context.ewkb_w.srid = True\n",
    "    else:\n",
    "        thread_context.ewkb_w.outdim = dim\n",
    "    return thread_context.ewkb_w"
   ]
  },
  {
   "cell_type": "markdown",
   "metadata": {},
   "source": []
  }
 ],
 "metadata": {
  "language_info": {
   "name": "python"
  }
 },
 "nbformat": 4,
 "nbformat_minor": 2
}