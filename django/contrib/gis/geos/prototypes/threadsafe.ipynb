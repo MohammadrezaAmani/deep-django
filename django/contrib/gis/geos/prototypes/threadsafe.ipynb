{
    "cells": [
        {
            "cell_type": "code",
            "execution_count": null,
            "metadata": {},
            "outputs": [],
            "source": [
                "import threading\n",
                "\n",
                "from django.contrib.gis.geos.base import GEOSBase\n",
                "from django.contrib.gis.geos.libgeos import CONTEXT_PTR, error_h, lgeos, notice_h\n"
            ]
        },
        {
            "cell_type": "markdown",
            "metadata": {},
            "source": []
        },
        {
            "cell_type": "code",
            "execution_count": null,
            "metadata": {},
            "outputs": [],
            "source": [
                "class GEOSContextHandle(GEOSBase):\n",
                "    \"\"\"Represent a GEOS context handle.\"\"\"\n",
                "\n",
                "    ptr_type = CONTEXT_PTR\n",
                "    destructor = lgeos.finishGEOS_r\n",
                "\n",
                "    def __init__(self):\n",
                "        # Initializing the context handler for this thread with\n",
                "        # the notice and error handler.\n",
                "        self.ptr = lgeos.initGEOS_r(notice_h, error_h)\n"
            ]
        },
        {
            "cell_type": "markdown",
            "metadata": {},
            "source": []
        },
        {
            "cell_type": "code",
            "execution_count": null,
            "metadata": {},
            "outputs": [],
            "source": [
                "# Defining a thread-local object and creating an instance\n",
                "# to hold a reference to GEOSContextHandle for this thread.\n",
                "class GEOSContext(threading.local):\n",
                "    handle = None\n"
            ]
        },
        {
            "cell_type": "markdown",
            "metadata": {},
            "source": []
        },
        {
            "cell_type": "code",
            "execution_count": null,
            "metadata": {},
            "outputs": [],
            "source": [
                "thread_context = GEOSContext()\n"
            ]
        },
        {
            "cell_type": "markdown",
            "metadata": {},
            "source": []
        },
        {
            "cell_type": "code",
            "execution_count": null,
            "metadata": {},
            "outputs": [],
            "source": [
                "class GEOSFunc:\n",
                "    \"\"\"\n",
                "    Serve as a wrapper for GEOS C Functions. Use thread-safe function\n",
                "    variants when available.\n",
                "    \"\"\"\n",
                "\n",
                "    def __init__(self, func_name):\n",
                "        # GEOS thread-safe function signatures end with '_r' and take an\n",
                "        # additional context handle parameter.\n",
                "        self.cfunc = getattr(lgeos, func_name + \"_r\")\n",
                "        # Create a reference to thread_context so it's not garbage-collected\n",
                "        # before an attempt to call this object.\n",
                "        self.thread_context = thread_context\n",
                "\n",
                "    def __call__(self, *args):\n",
                "        # Create a context handle if one doesn't exist for this thread.\n",
                "        self.thread_context.handle = self.thread_context.handle or GEOSContextHandle()\n",
                "        # Call the threaded GEOS routine with the pointer of the context handle\n",
                "        # as the first argument.\n",
                "        return self.cfunc(self.thread_context.handle.ptr, *args)\n",
                "\n",
                "    def __str__(self):\n",
                "        return self.cfunc.__name__\n",
                "\n",
                "    # argtypes property\n",
                "    def _get_argtypes(self):\n",
                "        return self.cfunc.argtypes\n",
                "\n",
                "    def _set_argtypes(self, argtypes):\n",
                "        self.cfunc.argtypes = [CONTEXT_PTR, *argtypes]\n",
                "\n",
                "    argtypes = property(_get_argtypes, _set_argtypes)\n",
                "\n",
                "    # restype property\n",
                "    def _get_restype(self):\n",
                "        return self.cfunc.restype\n",
                "\n",
                "    def _set_restype(self, restype):\n",
                "        self.cfunc.restype = restype\n",
                "\n",
                "    restype = property(_get_restype, _set_restype)\n",
                "\n",
                "    # errcheck property\n",
                "    def _get_errcheck(self):\n",
                "        return self.cfunc.errcheck\n",
                "\n",
                "    def _set_errcheck(self, errcheck):\n",
                "        self.cfunc.errcheck = errcheck\n",
                "\n",
                "    errcheck = property(_get_errcheck, _set_errcheck)\n",
                "\n"
            ]
        },
        {
            "cell_type": "markdown",
            "metadata": {},
            "source": []
        }
    ],
    "metadata": {
        "language_info": {
            "name": "python"
        }
    },
    "nbformat": 4,
    "nbformat_minor": 2
}