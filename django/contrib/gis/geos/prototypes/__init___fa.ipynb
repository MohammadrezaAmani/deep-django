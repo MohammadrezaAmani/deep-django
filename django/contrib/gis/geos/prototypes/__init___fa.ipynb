{
    "cells": [
        {
            "cell_type": "code",
            "execution_count": null,
            "metadata": {},
            "outputs": [],
            "source": [
                "\"\"\"\n",
                " This module contains all of the GEOS ctypes function prototypes. Each\n",
                " prototype handles the interaction between the GEOS library and Python\n",
                " via ctypes.\n",
                "\"\"\"\n",
                "\n",
                "from django.contrib.gis.geos.prototypes.coordseq import (\n",
                "    create_cs,  # NOQA\n",
                "    )\n",
                "from django.contrib.gis.geos.prototypes.geom import (\n",
                "    create_collection,  # NOQA\n",
                "    )\n",
                "from django.contrib.gis.geos.prototypes.misc import *  # NOQA\n",
                "from django.contrib.gis.geos.prototypes.predicates import (  # NOQA\n",
                "    geos_contains,\n",
                "    geos_covers,\n",
                "    geos_crosses,\n",
                "    geos_disjoint,\n",
                "    geos_equals,\n",
                "    geos_equalsexact,\n",
                "    geos_equalsidentical,\n",
                "    geos_hasz,\n",
                "    geos_intersects,\n",
                "    geos_isclosed,\n",
                "    geos_isempty,\n",
                "    geos_isring,\n",
                "    geos_issimple,\n",
                "    geos_isvalid,\n",
                "    geos_overlaps,\n",
                "    geos_relatepattern,\n",
                "    geos_touches,\n",
                "    geos_within,\n",
                ")\n",
                "from django.contrib.gis.geos.prototypes.topology import *  # NOQA\n",
                "\n"
            ]
        },
        {
            "cell_type": "markdown",
            "metadata": {},
            "source": []
        }
    ],
    "metadata": {
        "language_info": {
            "name": "python"
        }
    },
    "nbformat": 4,
    "nbformat_minor": 2
}