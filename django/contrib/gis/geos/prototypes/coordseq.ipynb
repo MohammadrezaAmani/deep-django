{
 "cells": [
  {
   "cell_type": "code",
   "execution_count": null,
   "metadata": {},
   "outputs": [],
   "source": [
    "from ctypes import POINTER, c_byte, c_double, c_int, c_uint\n",
    "\n",
    "from django.contrib.gis.geos.libgeos import CS_PTR, GEOM_PTR, GEOSFuncFactory\n",
    "from django.contrib.gis.geos.prototypes.errcheck import GEOSException, last_arg_byref"
   ]
  },
  {
   "cell_type": "markdown",
   "metadata": {},
   "source": []
  },
  {
   "cell_type": "code",
   "execution_count": null,
   "metadata": {},
   "outputs": [],
   "source": [
    "# ## Error-checking routines specific to coordinate sequences. ##\n",
    "def check_cs_op(result, func, cargs):\n",
    "    \"Check the status code of a coordinate sequence operation.\"\n",
    "    if result == 0:\n",
    "        raise GEOSException(\"Could not set value on coordinate sequence\")\n",
    "    else:\n",
    "        return result"
   ]
  },
  {
   "cell_type": "markdown",
   "metadata": {},
   "source": []
  },
  {
   "cell_type": "code",
   "execution_count": null,
   "metadata": {},
   "outputs": [],
   "source": [
    "def check_cs_get(result, func, cargs):\n",
    "    \"Check the coordinate sequence retrieval.\"\n",
    "    check_cs_op(result, func, cargs)\n",
    "    # Object in by reference, return its value.\n",
    "    return last_arg_byref(cargs)"
   ]
  },
  {
   "cell_type": "markdown",
   "metadata": {},
   "source": []
  },
  {
   "cell_type": "code",
   "execution_count": null,
   "metadata": {},
   "outputs": [],
   "source": [
    "# ## Coordinate sequence prototype factory classes. ##\n",
    "class CsInt(GEOSFuncFactory):\n",
    "    \"For coordinate sequence routines that return an integer.\"\n",
    "    argtypes = [CS_PTR, POINTER(c_uint)]\n",
    "    restype = c_int\n",
    "    errcheck = staticmethod(check_cs_get)"
   ]
  },
  {
   "cell_type": "markdown",
   "metadata": {},
   "source": []
  },
  {
   "cell_type": "code",
   "execution_count": null,
   "metadata": {},
   "outputs": [],
   "source": [
    "class CsOperation(GEOSFuncFactory):\n",
    "    \"For coordinate sequence operations.\"\n",
    "    restype = c_int\n",
    "\n",
    "    def __init__(self, *args, ordinate=False, get=False, **kwargs):\n",
    "        if get:\n",
    "            # Get routines have double parameter passed-in by reference.\n",
    "            errcheck = check_cs_get\n",
    "            dbl_param = POINTER(c_double)\n",
    "        else:\n",
    "            errcheck = check_cs_op\n",
    "            dbl_param = c_double\n",
    "\n",
    "        if ordinate:\n",
    "            # Get/Set ordinate routines have an extra uint parameter.\n",
    "            argtypes = [CS_PTR, c_uint, c_uint, dbl_param]\n",
    "        else:\n",
    "            argtypes = [CS_PTR, c_uint, dbl_param]\n",
    "\n",
    "        super().__init__(\n",
    "            *args, **{**kwargs, \"errcheck\": errcheck, \"argtypes\": argtypes}\n",
    "        )"
   ]
  },
  {
   "cell_type": "markdown",
   "metadata": {},
   "source": []
  },
  {
   "cell_type": "code",
   "execution_count": null,
   "metadata": {},
   "outputs": [],
   "source": [
    "class CsOutput(GEOSFuncFactory):\n",
    "    restype = CS_PTR\n",
    "\n",
    "    @staticmethod\n",
    "    def errcheck(result, func, cargs):\n",
    "        if not result:\n",
    "            raise GEOSException(\n",
    "                \"Error encountered checking Coordinate Sequence returned from GEOS \"\n",
    "                'C function \"%s\".' % func.__name__\n",
    "            )\n",
    "        return result"
   ]
  },
  {
   "cell_type": "markdown",
   "metadata": {},
   "source": []
  },
  {
   "cell_type": "code",
   "execution_count": null,
   "metadata": {},
   "outputs": [],
   "source": [
    "# ## Coordinate Sequence ctypes prototypes ##\n",
    "\n",
    "# Coordinate Sequence constructors & cloning.\n",
    "cs_clone = CsOutput(\"GEOSCoordSeq_clone\", argtypes=[CS_PTR])\n",
    "create_cs = CsOutput(\"GEOSCoordSeq_create\", argtypes=[c_uint, c_uint])\n",
    "get_cs = CsOutput(\"GEOSGeom_getCoordSeq\", argtypes=[GEOM_PTR])\n",
    "\n",
    "# Getting, setting ordinate\n",
    "cs_getordinate = CsOperation(\"GEOSCoordSeq_getOrdinate\", ordinate=True, get=True)\n",
    "cs_setordinate = CsOperation(\"GEOSCoordSeq_setOrdinate\", ordinate=True)\n",
    "\n",
    "# For getting, x, y, z\n",
    "cs_getx = CsOperation(\"GEOSCoordSeq_getX\", get=True)\n",
    "cs_gety = CsOperation(\"GEOSCoordSeq_getY\", get=True)\n",
    "cs_getz = CsOperation(\"GEOSCoordSeq_getZ\", get=True)\n",
    "\n",
    "# For setting, x, y, z\n",
    "cs_setx = CsOperation(\"GEOSCoordSeq_setX\")\n",
    "cs_sety = CsOperation(\"GEOSCoordSeq_setY\")\n",
    "cs_setz = CsOperation(\"GEOSCoordSeq_setZ\")\n",
    "\n",
    "# These routines return size & dimensions.\n",
    "cs_getsize = CsInt(\"GEOSCoordSeq_getSize\")\n",
    "cs_getdims = CsInt(\"GEOSCoordSeq_getDimensions\")\n",
    "\n",
    "cs_is_ccw = GEOSFuncFactory(\n",
    "    \"GEOSCoordSeq_isCCW\", restype=c_int, argtypes=[CS_PTR, POINTER(c_byte)]\n",
    ")"
   ]
  },
  {
   "cell_type": "markdown",
   "metadata": {},
   "source": []
  }
 ],
 "metadata": {
  "language_info": {
   "name": "python"
  }
 },
 "nbformat": 4,
 "nbformat_minor": 2
}