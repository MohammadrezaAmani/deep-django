{
 "cells": [
  {
   "cell_type": "code",
   "execution_count": null,
   "metadata": {},
   "outputs": [],
   "source": [
    "\"\"\"\n",
    " This module houses the GEOS ctypes prototype functions for the\n",
    " unary and binary predicate operations on geometries.\n",
    "\"\"\"\n",
    "\n",
    "from ctypes import c_byte, c_char_p, c_double\n",
    "\n",
    "from django.contrib.gis.geos.libgeos import GEOM_PTR, GEOSFuncFactory\n",
    "from django.contrib.gis.geos.prototypes.errcheck import check_predicate"
   ]
  },
  {
   "cell_type": "markdown",
   "metadata": {},
   "source": []
  },
  {
   "cell_type": "code",
   "execution_count": null,
   "metadata": {},
   "outputs": [],
   "source": [
    "# ## Binary & unary predicate factories ##\n",
    "class UnaryPredicate(GEOSFuncFactory):\n",
    "    \"For GEOS unary predicate functions.\"\n",
    "    argtypes = [GEOM_PTR]\n",
    "    restype = c_byte\n",
    "    errcheck = staticmethod(check_predicate)"
   ]
  },
  {
   "cell_type": "markdown",
   "metadata": {},
   "source": []
  },
  {
   "cell_type": "code",
   "execution_count": null,
   "metadata": {},
   "outputs": [],
   "source": [
    "class BinaryPredicate(UnaryPredicate):\n",
    "    \"For GEOS binary predicate functions.\"\n",
    "    argtypes = [GEOM_PTR, GEOM_PTR]"
   ]
  },
  {
   "cell_type": "markdown",
   "metadata": {},
   "source": []
  },
  {
   "cell_type": "code",
   "execution_count": null,
   "metadata": {},
   "outputs": [],
   "source": [
    "# ## Unary Predicates ##\n",
    "geos_hasz = UnaryPredicate(\"GEOSHasZ\")\n",
    "geos_isclosed = UnaryPredicate(\"GEOSisClosed\")\n",
    "geos_isempty = UnaryPredicate(\"GEOSisEmpty\")\n",
    "geos_isring = UnaryPredicate(\"GEOSisRing\")\n",
    "geos_issimple = UnaryPredicate(\"GEOSisSimple\")\n",
    "geos_isvalid = UnaryPredicate(\"GEOSisValid\")\n",
    "\n",
    "# ## Binary Predicates ##\n",
    "geos_contains = BinaryPredicate(\"GEOSContains\")\n",
    "geos_covers = BinaryPredicate(\"GEOSCovers\")\n",
    "geos_crosses = BinaryPredicate(\"GEOSCrosses\")\n",
    "geos_disjoint = BinaryPredicate(\"GEOSDisjoint\")\n",
    "geos_equals = BinaryPredicate(\"GEOSEquals\")\n",
    "geos_equalsexact = BinaryPredicate(\n",
    "    \"GEOSEqualsExact\", argtypes=[GEOM_PTR, GEOM_PTR, c_double]\n",
    ")\n",
    "geos_equalsidentical = BinaryPredicate(\"GEOSEqualsIdentical\")\n",
    "geos_intersects = BinaryPredicate(\"GEOSIntersects\")\n",
    "geos_overlaps = BinaryPredicate(\"GEOSOverlaps\")\n",
    "geos_relatepattern = BinaryPredicate(\n",
    "    \"GEOSRelatePattern\", argtypes=[GEOM_PTR, GEOM_PTR, c_char_p]\n",
    ")\n",
    "geos_touches = BinaryPredicate(\"GEOSTouches\")\n",
    "geos_within = BinaryPredicate(\"GEOSWithin\")"
   ]
  },
  {
   "cell_type": "markdown",
   "metadata": {},
   "source": []
  }
 ],
 "metadata": {
  "language_info": {
   "name": "python"
  }
 },
 "nbformat": 4,
 "nbformat_minor": 2
}