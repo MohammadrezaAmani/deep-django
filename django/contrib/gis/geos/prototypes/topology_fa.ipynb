{
    "cells": [
        {
            "cell_type": "code",
            "execution_count": null,
            "metadata": {},
            "outputs": [],
            "source": [
                "\"\"\"\n",
                " This module houses the GEOS ctypes prototype functions for the\n",
                " topological operations on geometries.\n",
                "\"\"\"\n",
                "\n",
                "from ctypes import c_double, c_int\n",
                "\n",
                "from django.contrib.gis.geos.libgeos import GEOM_PTR, GEOSFuncFactory\n",
                "from django.contrib.gis.geos.prototypes.errcheck import (\n",
                "    check_geom,\n",
                "    check_minus_one,\n",
                "    check_string,\n",
                ")\n",
                "from django.contrib.gis.geos.prototypes.geom import geos_char_p\n"
            ]
        },
        {
            "cell_type": "markdown",
            "metadata": {},
            "source": []
        },
        {
            "cell_type": "code",
            "execution_count": null,
            "metadata": {},
            "outputs": [],
            "source": [
                "class Topology(GEOSFuncFactory):\n",
                "    \"For GEOS unary topology functions.\"\n",
                "    argtypes = [GEOM_PTR]\n",
                "    restype = GEOM_PTR\n",
                "    errcheck = staticmethod(check_geom)\n"
            ]
        },
        {
            "cell_type": "markdown",
            "metadata": {},
            "source": []
        },
        {
            "cell_type": "code",
            "execution_count": null,
            "metadata": {},
            "outputs": [],
            "source": [
                "# Topology Routines\n",
                "geos_boundary = Topology(\"GEOSBoundary\")\n",
                "geos_buffer = Topology(\"GEOSBuffer\", argtypes=[GEOM_PTR, c_double, c_int])\n",
                "geos_bufferwithstyle = Topology(\n",
                "    \"GEOSBufferWithStyle\", argtypes=[GEOM_PTR, c_double, c_int, c_int, c_int, c_double]\n",
                ")\n",
                "geos_centroid = Topology(\"GEOSGetCentroid\")\n",
                "geos_convexhull = Topology(\"GEOSConvexHull\")\n",
                "geos_difference = Topology(\"GEOSDifference\", argtypes=[GEOM_PTR, GEOM_PTR])\n",
                "geos_envelope = Topology(\"GEOSEnvelope\")\n",
                "geos_intersection = Topology(\"GEOSIntersection\", argtypes=[GEOM_PTR, GEOM_PTR])\n",
                "geos_linemerge = Topology(\"GEOSLineMerge\")\n",
                "geos_pointonsurface = Topology(\"GEOSPointOnSurface\")\n",
                "geos_preservesimplify = Topology(\n",
                "    \"GEOSTopologyPreserveSimplify\", argtypes=[GEOM_PTR, c_double]\n",
                ")\n",
                "geos_simplify = Topology(\"GEOSSimplify\", argtypes=[GEOM_PTR, c_double])\n",
                "geos_symdifference = Topology(\"GEOSSymDifference\", argtypes=[GEOM_PTR, GEOM_PTR])\n",
                "geos_union = Topology(\"GEOSUnion\", argtypes=[GEOM_PTR, GEOM_PTR])\n",
                "\n",
                "geos_unary_union = GEOSFuncFactory(\n",
                "    \"GEOSUnaryUnion\", argtypes=[GEOM_PTR], restype=GEOM_PTR\n",
                ")\n",
                "\n",
                "# GEOSRelate returns a string, not a geometry.\n",
                "geos_relate = GEOSFuncFactory(\n",
                "    \"GEOSRelate\",\n",
                "    argtypes=[GEOM_PTR, GEOM_PTR],\n",
                "    restype=geos_char_p,\n",
                "    errcheck=check_string,\n",
                ")\n",
                "\n",
                "# Linear referencing routines\n",
                "geos_project = GEOSFuncFactory(\n",
                "    \"GEOSProject\",\n",
                "    argtypes=[GEOM_PTR, GEOM_PTR],\n",
                "    restype=c_double,\n",
                "    errcheck=check_minus_one,\n",
                ")\n",
                "geos_interpolate = Topology(\"GEOSInterpolate\", argtypes=[GEOM_PTR, c_double])\n",
                "\n",
                "geos_project_normalized = GEOSFuncFactory(\n",
                "    \"GEOSProjectNormalized\",\n",
                "    argtypes=[GEOM_PTR, GEOM_PTR],\n",
                "    restype=c_double,\n",
                "    errcheck=check_minus_one,\n",
                ")\n",
                "geos_interpolate_normalized = Topology(\n",
                "    \"GEOSInterpolateNormalized\", argtypes=[GEOM_PTR, c_double]\n",
                ")\n",
                "\n"
            ]
        },
        {
            "cell_type": "markdown",
            "metadata": {},
            "source": []
        }
    ],
    "metadata": {
        "language_info": {
            "name": "python"
        }
    },
    "nbformat": 4,
    "nbformat_minor": 2
}