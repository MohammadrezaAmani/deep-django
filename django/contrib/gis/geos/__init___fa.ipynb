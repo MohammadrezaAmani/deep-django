{
    "cells": [
        {
            "cell_type": "code",
            "execution_count": null,
            "metadata": {},
            "outputs": [],
            "source": [
                "\"\"\"\n",
                "The GeoDjango GEOS module.  Please consult the GeoDjango documentation\n",
                "for more details: https://docs.djangoproject.com/en/dev/ref/contrib/gis/geos/\n",
                "\"\"\"\n",
                "\n",
                "from .collections import (\n",
                "    MultiLineString,  # NOQA\n",
                "    )\n",
                "from .error import GEOSException  # NOQA\n",
                "from .factory import fromfile, fromstr  # NOQA\n",
                "from .geometry import GEOSGeometry, hex_regex, wkt_regex  # NOQA\n",
                "from .io import WKBReader, WKBWriter, WKTReader, WKTWriter  # NOQA\n",
                "from .libgeos import geos_version  # NOQA\n",
                "from .linestring import LinearRing, LineString  # NOQA\n",
                "from .point import Point  # NOQA\n",
                "from .polygon import Polygon  # NOQA\n",
                "\n"
            ]
        },
        {
            "cell_type": "markdown",
            "metadata": {},
            "source": []
        }
    ],
    "metadata": {
        "language_info": {
            "name": "python"
        }
    },
    "nbformat": 4,
    "nbformat_minor": 2
}