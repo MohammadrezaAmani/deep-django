{
    "cells": [
        {
            "cell_type": "code",
            "execution_count": null,
            "metadata": {},
            "outputs": [],
            "source": [
                "from django.contrib.admin import (\n",
                "    HORIZONTAL,\n",
                "    VERTICAL,\n",
                "    AdminSite,\n",
                "    ModelAdmin,\n",
                "    StackedInline,\n",
                "    TabularInline,\n",
                "    action,\n",
                "    autodiscover,\n",
                "    display,\n",
                "    register,\n",
                "    site,\n",
                ")\n",
                "from django.contrib.gis.admin.options import GISModelAdmin\n",
                "\n",
                "__all__ = [\n",
                "    \"HORIZONTAL\",\n",
                "    \"VERTICAL\",\n",
                "    \"AdminSite\",\n",
                "    \"ModelAdmin\",\n",
                "    \"StackedInline\",\n",
                "    \"TabularInline\",\n",
                "    \"action\",\n",
                "    \"autodiscover\",\n",
                "    \"display\",\n",
                "    \"register\",\n",
                "    \"site\",\n",
                "    \"GISModelAdmin\",\n",
                "]\n",
                "\n"
            ]
        },
        {
            "cell_type": "markdown",
            "metadata": {},
            "source": []
        }
    ],
    "metadata": {
        "language_info": {
            "name": "python"
        }
    },
    "nbformat": 4,
    "nbformat_minor": 2
}