{
    "cells": [
        {
            "cell_type": "code",
            "execution_count": null,
            "metadata": {},
            "outputs": [],
            "source": [
                "from django.contrib.admin import ModelAdmin\n",
                "from django.contrib.gis.db import models\n",
                "from django.contrib.gis.forms import OSMWidget\n"
            ]
        },
        {
            "cell_type": "markdown",
            "metadata": {},
            "source": []
        },
        {
            "cell_type": "code",
            "execution_count": null,
            "metadata": {},
            "outputs": [],
            "source": [
                "class GeoModelAdminMixin:\n",
                "    gis_widget = OSMWidget\n",
                "    gis_widget_kwargs = {}\n",
                "\n",
                "    def formfield_for_dbfield(self, db_field, request, **kwargs):\n",
                "        if isinstance(db_field, models.GeometryField) and (\n",
                "            db_field.dim < 3 or self.gis_widget.supports_3d\n",
                "        ):\n",
                "            kwargs[\"widget\"] = self.gis_widget(**self.gis_widget_kwargs)\n",
                "            return db_field.formfield(**kwargs)\n",
                "        else:\n",
                "            return super().formfield_for_dbfield(db_field, request, **kwargs)\n"
            ]
        },
        {
            "cell_type": "markdown",
            "metadata": {},
            "source": []
        },
        {
            "cell_type": "code",
            "execution_count": null,
            "metadata": {},
            "outputs": [],
            "source": [
                "class GISModelAdmin(GeoModelAdminMixin, ModelAdmin):\n",
                "    pass\n",
                "\n"
            ]
        },
        {
            "cell_type": "markdown",
            "metadata": {},
            "source": []
        }
    ],
    "metadata": {
        "language_info": {
            "name": "python"
        }
    },
    "nbformat": 4,
    "nbformat_minor": 2
}