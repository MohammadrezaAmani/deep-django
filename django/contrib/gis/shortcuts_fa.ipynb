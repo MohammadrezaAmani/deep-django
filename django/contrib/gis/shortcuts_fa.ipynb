{
 "cells": [
  {
   "cell_type": "code",
   "execution_count": null,
   "metadata": {},
   "outputs": [],
   "source": [
    "import zipfile\n",
    "from io import BytesIO\n",
    "\n",
    "from django.conf import settings\n",
    "from django.http import HttpResponse\n",
    "from django.template import loader\n",
    "\n",
    "# NumPy supported?\n",
    "try:\n",
    "    import numpy\n",
    "except ImportError:\n",
    "    numpy = False"
   ]
  },
  {
   "cell_type": "markdown",
   "metadata": {},
   "source": []
  },
  {
   "cell_type": "code",
   "execution_count": null,
   "metadata": {},
   "outputs": [],
   "source": [
    "def compress_kml(kml):\n",
    "    \"Return compressed KMZ from the given KML string.\"\n",
    "    kmz = BytesIO()\n",
    "    with zipfile.ZipFile(kmz, \"a\", zipfile.ZIP_DEFLATED) as zf:\n",
    "        zf.writestr(\"doc.kml\", kml.encode(settings.DEFAULT_CHARSET))\n",
    "    kmz.seek(0)\n",
    "    return kmz.read()"
   ]
  },
  {
   "cell_type": "markdown",
   "metadata": {},
   "source": []
  },
  {
   "cell_type": "code",
   "execution_count": null,
   "metadata": {},
   "outputs": [],
   "source": [
    "def render_to_kml(*args, **kwargs):\n",
    "    \"Render the response as KML (using the correct MIME type).\"\n",
    "    return HttpResponse(\n",
    "        loader.render_to_string(*args, **kwargs),\n",
    "        content_type=\"application/vnd.google-earth.kml+xml\",\n",
    "    )"
   ]
  },
  {
   "cell_type": "markdown",
   "metadata": {},
   "source": []
  },
  {
   "cell_type": "code",
   "execution_count": null,
   "metadata": {},
   "outputs": [],
   "source": [
    "def render_to_kmz(*args, **kwargs):\n",
    "    \"\"\"\n",
    "    Compress the KML content and return as KMZ (using the correct\n",
    "    MIME type).\n",
    "    \"\"\"\n",
    "    return HttpResponse(\n",
    "        compress_kml(loader.render_to_string(*args, **kwargs)),\n",
    "        content_type=\"application/vnd.google-earth.kmz\",\n",
    "    )"
   ]
  },
  {
   "cell_type": "markdown",
   "metadata": {},
   "source": []
  }
 ],
 "metadata": {
  "language_info": {
   "name": "python"
  }
 },
 "nbformat": 4,
 "nbformat_minor": 2
}