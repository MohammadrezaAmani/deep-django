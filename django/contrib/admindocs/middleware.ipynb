{
    "cells": [
        {
            "cell_type": "code",
            "execution_count": null,
            "metadata": {},
            "outputs": [],
            "source": [
                "from django.conf import settings\n",
                "from django.core.exceptions import ImproperlyConfigured\n",
                "from django.http import HttpResponse\n",
                "from django.utils.deprecation import MiddlewareMixin\n",
                "\n",
                "from .utils import get_view_name\n"
            ]
        },
        {
            "cell_type": "markdown",
            "metadata": {},
            "source": []
        },
        {
            "cell_type": "code",
            "execution_count": null,
            "metadata": {},
            "outputs": [],
            "source": [
                "class XViewMiddleware(MiddlewareMixin):\n",
                "    \"\"\"\n",
                "    Add an X-View header to internal HEAD requests.\n",
                "    \"\"\"\n",
                "\n",
                "    def process_view(self, request, view_func, view_args, view_kwargs):\n",
                "        \"\"\"\n",
                "        If the request method is HEAD and either the IP is internal or the\n",
                "        user is a logged-in staff member, return a response with an x-view\n",
                "        header indicating the view function. This is used to lookup the view\n",
                "        function for an arbitrary page.\n",
                "        \"\"\"\n",
                "        if not hasattr(request, \"user\"):\n",
                "            raise ImproperlyConfigured(\n",
                "                \"The XView middleware requires authentication middleware to \"\n",
                "                \"be installed. Edit your MIDDLEWARE setting to insert \"\n",
                "                \"'django.contrib.auth.middleware.AuthenticationMiddleware'.\"\n",
                "            )\n",
                "        if request.method == \"HEAD\" and (\n",
                "            request.META.get(\"REMOTE_ADDR\") in settings.INTERNAL_IPS\n",
                "            or (request.user.is_active and request.user.is_staff)\n",
                "        ):\n",
                "            response = HttpResponse()\n",
                "            response.headers[\"X-View\"] = get_view_name(view_func)\n",
                "            return response\n",
                "\n"
            ]
        },
        {
            "cell_type": "markdown",
            "metadata": {},
            "source": []
        }
    ],
    "metadata": {
        "language_info": {
            "name": "python"
        }
    },
    "nbformat": 4,
    "nbformat_minor": 2
}