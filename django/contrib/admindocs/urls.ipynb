{
    "cells": [
        {
            "cell_type": "code",
            "execution_count": null,
            "metadata": {},
            "outputs": [],
            "source": [
                "from django.contrib.admindocs import views\n",
                "from django.urls import path, re_path\n",
                "\n",
                "urlpatterns = [\n",
                "    path(\n",
                "        \"\",\n",
                "        views.BaseAdminDocsView.as_view(template_name=\"admin_doc/index.html\"),\n",
                "        name=\"django-admindocs-docroot\",\n",
                "    ),\n",
                "    path(\n",
                "        \"bookmarklets/\",\n",
                "        views.BookmarkletsView.as_view(),\n",
                "        name=\"django-admindocs-bookmarklets\",\n",
                "    ),\n",
                "    path(\n",
                "        \"tags/\",\n",
                "        views.TemplateTagIndexView.as_view(),\n",
                "        name=\"django-admindocs-tags\",\n",
                "    ),\n",
                "    path(\n",
                "        \"filters/\",\n",
                "        views.TemplateFilterIndexView.as_view(),\n",
                "        name=\"django-admindocs-filters\",\n",
                "    ),\n",
                "    path(\n",
                "        \"views/\",\n",
                "        views.ViewIndexView.as_view(),\n",
                "        name=\"django-admindocs-views-index\",\n",
                "    ),\n",
                "    path(\n",
                "        \"views/<view>/\",\n",
                "        views.ViewDetailView.as_view(),\n",
                "        name=\"django-admindocs-views-detail\",\n",
                "    ),\n",
                "    path(\n",
                "        \"models/\",\n",
                "        views.ModelIndexView.as_view(),\n",
                "        name=\"django-admindocs-models-index\",\n",
                "    ),\n",
                "    re_path(\n",
                "        r\"^models/(?P<app_label>[^.]+)\\.(?P<model_name>[^/]+)/$\",\n",
                "        views.ModelDetailView.as_view(),\n",
                "        name=\"django-admindocs-models-detail\",\n",
                "    ),\n",
                "    path(\n",
                "        \"templates/<path:template>/\",\n",
                "        views.TemplateDetailView.as_view(),\n",
                "        name=\"django-admindocs-templates\",\n",
                "    ),\n",
                "]\n",
                "\n"
            ]
        },
        {
            "cell_type": "markdown",
            "metadata": {},
            "source": []
        }
    ],
    "metadata": {
        "language_info": {
            "name": "python"
        }
    },
    "nbformat": 4,
    "nbformat_minor": 2
}