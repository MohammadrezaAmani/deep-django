{
 "cells": [
  {
   "cell_type": "code",
   "execution_count": null,
   "metadata": {},
   "outputs": [],
   "source": [
    "\"Misc. utility functions/classes for admin documentation generator.\"\n",
    "\n",
    "import re\n",
    "from email.errors import HeaderParseError\n",
    "from email.parser import HeaderParser\n",
    "from inspect import cleandoc\n",
    "\n",
    "from django.urls import reverse\n",
    "from django.utils.regex_helper import _lazy_re_compile\n",
    "from django.utils.safestring import mark_safe\n",
    "\n",
    "try:\n",
    "    import docutils.core\n",
    "    import docutils.nodes\n",
    "    import docutils.parsers.rst.roles\n",
    "except ImportError:\n",
    "    docutils_is_available = False\n",
    "else:\n",
    "    docutils_is_available = True"
   ]
  },
  {
   "cell_type": "markdown",
   "metadata": {},
   "source": []
  },
  {
   "cell_type": "code",
   "execution_count": null,
   "metadata": {},
   "outputs": [],
   "source": [
    "def get_view_name(view_func):\n",
    "    if hasattr(view_func, \"view_class\"):\n",
    "        klass = view_func.view_class\n",
    "        return f\"{klass.__module__}.{klass.__qualname__}\"\n",
    "    mod_name = view_func.__module__\n",
    "    view_name = getattr(view_func, \"__qualname__\", view_func.__class__.__name__)\n",
    "    return mod_name + \".\" + view_name"
   ]
  },
  {
   "cell_type": "markdown",
   "metadata": {},
   "source": []
  },
  {
   "cell_type": "code",
   "execution_count": null,
   "metadata": {},
   "outputs": [],
   "source": [
    "def parse_docstring(docstring):\n",
    "    \"\"\"\n",
    "    Parse out the parts of a docstring.  Return (title, body, metadata).\n",
    "    \"\"\"\n",
    "    if not docstring:\n",
    "        return \"\", \"\", {}\n",
    "    docstring = cleandoc(docstring)\n",
    "    parts = re.split(r\"\\n{2,}\", docstring)\n",
    "    title = parts[0]\n",
    "    if len(parts) == 1:\n",
    "        body = \"\"\n",
    "        metadata = {}\n",
    "    else:\n",
    "        parser = HeaderParser()\n",
    "        try:\n",
    "            metadata = parser.parsestr(parts[-1])\n",
    "        except HeaderParseError:\n",
    "            metadata = {}\n",
    "            body = \"\\n\\n\".join(parts[1:])\n",
    "        else:\n",
    "            metadata = dict(metadata.items())\n",
    "            if metadata:\n",
    "                body = \"\\n\\n\".join(parts[1:-1])\n",
    "            else:\n",
    "                body = \"\\n\\n\".join(parts[1:])\n",
    "    return title, body, metadata"
   ]
  },
  {
   "cell_type": "markdown",
   "metadata": {},
   "source": []
  },
  {
   "cell_type": "code",
   "execution_count": null,
   "metadata": {},
   "outputs": [],
   "source": [
    "def parse_rst(text, default_reference_context, thing_being_parsed=None):\n",
    "    \"\"\"\n",
    "    Convert the string from reST to an XHTML fragment.\n",
    "    \"\"\"\n",
    "    overrides = {\n",
    "        \"doctitle_xform\": True,\n",
    "        \"initial_header_level\": 3,\n",
    "        \"default_reference_context\": default_reference_context,\n",
    "        \"link_base\": reverse(\"django-admindocs-docroot\").rstrip(\"/\"),\n",
    "        \"raw_enabled\": False,\n",
    "        \"file_insertion_enabled\": False,\n",
    "    }\n",
    "    thing_being_parsed = thing_being_parsed and \"<%s>\" % thing_being_parsed\n",
    "    # Wrap ``text`` in some reST that sets the default role to ``cmsreference``,\n",
    "    # then restores it.\n",
    "    source = \"\"\"\n",
    ".. default-role:: cmsreference\n",
    "\n",
    "%s\n",
    "\n",
    ".. default-role::\n",
    "\"\"\"\n",
    "    parts = docutils.core.publish_parts(\n",
    "        source % text,\n",
    "        source_path=thing_being_parsed,\n",
    "        destination_path=None,\n",
    "        writer_name=\"html\",\n",
    "        settings_overrides=overrides,\n",
    "    )\n",
    "    return mark_safe(parts[\"fragment\"])"
   ]
  },
  {
   "cell_type": "markdown",
   "metadata": {},
   "source": []
  },
  {
   "cell_type": "code",
   "execution_count": null,
   "metadata": {},
   "outputs": [],
   "source": [
    "#\n",
    "# reST roles\n",
    "#\n",
    "ROLES = {\n",
    "    \"model\": \"%s/models/%s/\",\n",
    "    \"view\": \"%s/views/%s/\",\n",
    "    \"template\": \"%s/templates/%s/\",\n",
    "    \"filter\": \"%s/filters/#%s\",\n",
    "    \"tag\": \"%s/tags/#%s\",\n",
    "}"
   ]
  },
  {
   "cell_type": "markdown",
   "metadata": {},
   "source": []
  },
  {
   "cell_type": "code",
   "execution_count": null,
   "metadata": {},
   "outputs": [],
   "source": [
    "def create_reference_role(rolename, urlbase):\n",
    "    # Views and template names are case-sensitive.\n",
    "    is_case_sensitive = rolename in [\"template\", \"view\"]\n",
    "\n",
    "    def _role(name, rawtext, text, lineno, inliner, options=None, content=None):\n",
    "        if options is None:\n",
    "            options = {}\n",
    "        node = docutils.nodes.reference(\n",
    "            rawtext,\n",
    "            text,\n",
    "            refuri=(\n",
    "                urlbase\n",
    "                % (\n",
    "                    inliner.document.settings.link_base,\n",
    "                    text if is_case_sensitive else text.lower(),\n",
    "                )\n",
    "            ),\n",
    "            **options,\n",
    "        )\n",
    "        return [node], []\n",
    "\n",
    "    docutils.parsers.rst.roles.register_canonical_role(rolename, _role)"
   ]
  },
  {
   "cell_type": "markdown",
   "metadata": {},
   "source": []
  },
  {
   "cell_type": "code",
   "execution_count": null,
   "metadata": {},
   "outputs": [],
   "source": [
    "def default_reference_role(\n",
    "    name, rawtext, text, lineno, inliner, options=None, content=None\n",
    "):\n",
    "    if options is None:\n",
    "        options = {}\n",
    "    context = inliner.document.settings.default_reference_context\n",
    "    node = docutils.nodes.reference(\n",
    "        rawtext,\n",
    "        text,\n",
    "        refuri=(\n",
    "            ROLES[context]\n",
    "            % (\n",
    "                inliner.document.settings.link_base,\n",
    "                text.lower(),\n",
    "            )\n",
    "        ),\n",
    "        **options,\n",
    "    )\n",
    "    return [node], []"
   ]
  },
  {
   "cell_type": "markdown",
   "metadata": {},
   "source": []
  },
  {
   "cell_type": "code",
   "execution_count": null,
   "metadata": {},
   "outputs": [],
   "source": [
    "if docutils_is_available:\n",
    "    docutils.parsers.rst.roles.register_canonical_role(\n",
    "        \"cmsreference\", default_reference_role\n",
    "    )\n",
    "\n",
    "    for name, urlbase in ROLES.items():\n",
    "        create_reference_role(name, urlbase)\n",
    "\n",
    "# Match the beginning of a named, unnamed, or non-capturing groups.\n",
    "named_group_matcher = _lazy_re_compile(r\"\\(\\?P(<\\w+>)\")\n",
    "unnamed_group_matcher = _lazy_re_compile(r\"\\(\")\n",
    "non_capturing_group_matcher = _lazy_re_compile(r\"\\(\\?\\:\")"
   ]
  },
  {
   "cell_type": "markdown",
   "metadata": {},
   "source": []
  },
  {
   "cell_type": "code",
   "execution_count": null,
   "metadata": {},
   "outputs": [],
   "source": [
    "def replace_metacharacters(pattern):\n",
    "    \"\"\"Remove unescaped metacharacters from the pattern.\"\"\"\n",
    "    return re.sub(\n",
    "        r\"((?:^|(?<!\\\\))(?:\\\\\\\\)*)(\\\\?)([?*+^$]|\\\\[bBAZ])\",\n",
    "        lambda m: m[1] + m[3] if m[2] else m[1],\n",
    "        pattern,\n",
    "    )"
   ]
  },
  {
   "cell_type": "markdown",
   "metadata": {},
   "source": []
  },
  {
   "cell_type": "code",
   "execution_count": null,
   "metadata": {},
   "outputs": [],
   "source": [
    "def _get_group_start_end(start, end, pattern):\n",
    "    # Handle nested parentheses, e.g. '^(?P<a>(x|y))/b' or '^b/((x|y)\\w+)$'.\n",
    "    unmatched_open_brackets, prev_char = 1, None\n",
    "    for idx, val in enumerate(pattern[end:]):\n",
    "        # Check for unescaped `(` and `)`. They mark the start and end of a\n",
    "        # nested group.\n",
    "        if val == \"(\" and prev_char != \"\\\\\":\n",
    "            unmatched_open_brackets += 1\n",
    "        elif val == \")\" and prev_char != \"\\\\\":\n",
    "            unmatched_open_brackets -= 1\n",
    "        prev_char = val\n",
    "        # If brackets are balanced, the end of the string for the current named\n",
    "        # capture group pattern has been reached.\n",
    "        if unmatched_open_brackets == 0:\n",
    "            return start, end + idx + 1"
   ]
  },
  {
   "cell_type": "markdown",
   "metadata": {},
   "source": []
  },
  {
   "cell_type": "code",
   "execution_count": null,
   "metadata": {},
   "outputs": [],
   "source": [
    "def _find_groups(pattern, group_matcher):\n",
    "    prev_end = None\n",
    "    for match in group_matcher.finditer(pattern):\n",
    "        if indices := _get_group_start_end(match.start(0), match.end(0), pattern):\n",
    "            start, end = indices\n",
    "            if prev_end and start > prev_end or not prev_end:\n",
    "                yield start, end, match\n",
    "            prev_end = end"
   ]
  },
  {
   "cell_type": "markdown",
   "metadata": {},
   "source": []
  },
  {
   "cell_type": "code",
   "execution_count": null,
   "metadata": {},
   "outputs": [],
   "source": [
    "def replace_named_groups(pattern):\n",
    "    r\"\"\"\n",
    "    Find named groups in `pattern` and replace them with the group name. E.g.,\n",
    "    1. ^(?P<a>\\w+)/b/(\\w+)$ ==> ^<a>/b/(\\w+)$\n",
    "    2. ^(?P<a>\\w+)/b/(?P<c>\\w+)/$ ==> ^<a>/b/<c>/$\n",
    "    3. ^(?P<a>\\w+)/b/(\\w+) ==> ^<a>/b/(\\w+)\n",
    "    4. ^(?P<a>\\w+)/b/(?P<c>\\w+) ==> ^<a>/b/<c>\n",
    "    \"\"\"\n",
    "    group_pattern_and_name = [\n",
    "        (pattern[start:end], match[1])\n",
    "        for start, end, match in _find_groups(pattern, named_group_matcher)\n",
    "    ]\n",
    "    for group_pattern, group_name in group_pattern_and_name:\n",
    "        pattern = pattern.replace(group_pattern, group_name)\n",
    "    return pattern"
   ]
  },
  {
   "cell_type": "markdown",
   "metadata": {},
   "source": []
  },
  {
   "cell_type": "code",
   "execution_count": null,
   "metadata": {},
   "outputs": [],
   "source": [
    "def replace_unnamed_groups(pattern):\n",
    "    r\"\"\"\n",
    "    Find unnamed groups in `pattern` and replace them with '<var>'. E.g.,\n",
    "    1. ^(?P<a>\\w+)/b/(\\w+)$ ==> ^(?P<a>\\w+)/b/<var>$\n",
    "    2. ^(?P<a>\\w+)/b/((x|y)\\w+)$ ==> ^(?P<a>\\w+)/b/<var>$\n",
    "    3. ^(?P<a>\\w+)/b/(\\w+) ==> ^(?P<a>\\w+)/b/<var>\n",
    "    4. ^(?P<a>\\w+)/b/((x|y)\\w+) ==> ^(?P<a>\\w+)/b/<var>\n",
    "    \"\"\"\n",
    "    final_pattern, prev_end = \"\", None\n",
    "    for start, end, _ in _find_groups(pattern, unnamed_group_matcher):\n",
    "        if prev_end:\n",
    "            final_pattern += pattern[prev_end:start]\n",
    "        final_pattern += pattern[:start] + \"<var>\"\n",
    "        prev_end = end\n",
    "    return final_pattern + pattern[prev_end:]"
   ]
  },
  {
   "cell_type": "markdown",
   "metadata": {},
   "source": []
  },
  {
   "cell_type": "code",
   "execution_count": null,
   "metadata": {},
   "outputs": [],
   "source": [
    "def remove_non_capturing_groups(pattern):\n",
    "    r\"\"\"\n",
    "    Find non-capturing groups in the given `pattern` and remove them, e.g.\n",
    "    1. (?P<a>\\w+)/b/(?:\\w+)c(?:\\w+) => (?P<a>\\\\w+)/b/c\n",
    "    2. ^(?:\\w+(?:\\w+))a => ^a\n",
    "    3. ^a(?:\\w+)/b(?:\\w+) => ^a/b\n",
    "    \"\"\"\n",
    "    group_start_end_indices = _find_groups(pattern, non_capturing_group_matcher)\n",
    "    final_pattern, prev_end = \"\", None\n",
    "    for start, end, _ in group_start_end_indices:\n",
    "        final_pattern += pattern[prev_end:start]\n",
    "        prev_end = end\n",
    "    return final_pattern + pattern[prev_end:]"
   ]
  },
  {
   "cell_type": "markdown",
   "metadata": {},
   "source": []
  }
 ],
 "metadata": {
  "language_info": {
   "name": "python"
  }
 },
 "nbformat": 4,
 "nbformat_minor": 2
}