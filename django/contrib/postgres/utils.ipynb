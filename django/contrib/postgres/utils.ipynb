{
 "cells": [
  {
   "cell_type": "code",
   "execution_count": null,
   "metadata": {},
   "outputs": [],
   "source": [
    "from django.core.exceptions import ValidationError\n",
    "from django.utils.functional import SimpleLazyObject\n",
    "from django.utils.text import format_lazy"
   ]
  },
  {
   "cell_type": "markdown",
   "metadata": {},
   "source": []
  },
  {
   "cell_type": "code",
   "execution_count": null,
   "metadata": {},
   "outputs": [],
   "source": [
    "def prefix_validation_error(error, prefix, code, params):\n",
    "    \"\"\"\n",
    "    Prefix a validation error message while maintaining the existing\n",
    "    validation data structure.\n",
    "    \"\"\"\n",
    "    if error.error_list == [error]:\n",
    "        error_params = error.params or {}\n",
    "        return ValidationError(\n",
    "            # We can't simply concatenate messages since they might require\n",
    "            # their associated parameters to be expressed correctly which\n",
    "            # is not something `format_lazy` does. For example, proxied\n",
    "            # ngettext calls require a count parameter and are converted\n",
    "            # to an empty string if they are missing it.\n",
    "            message=format_lazy(\n",
    "                \"{} {}\",\n",
    "                SimpleLazyObject(lambda: prefix % params),\n",
    "                SimpleLazyObject(lambda: error.message % error_params),\n",
    "            ),\n",
    "            code=code,\n",
    "            params={**error_params, **params},\n",
    "        )\n",
    "    return ValidationError(\n",
    "        [prefix_validation_error(e, prefix, code, params) for e in error.error_list]\n",
    "    )"
   ]
  },
  {
   "cell_type": "markdown",
   "metadata": {},
   "source": []
  }
 ],
 "metadata": {
  "language_info": {
   "name": "python"
  }
 },
 "nbformat": 4,
 "nbformat_minor": 2
}