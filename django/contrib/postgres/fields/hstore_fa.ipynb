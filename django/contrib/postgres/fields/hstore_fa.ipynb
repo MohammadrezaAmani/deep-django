{
    "cells": [
        {
            "cell_type": "code",
            "execution_count": null,
            "metadata": {},
            "outputs": [],
            "source": [
                "import json\n",
                "\n",
                "from django.contrib.postgres import forms, lookups\n",
                "from django.contrib.postgres.fields.array import ArrayField\n",
                "from django.core import exceptions\n",
                "from django.db.models import Field, TextField, Transform\n",
                "from django.db.models.fields.mixins import CheckFieldDefaultMixin\n",
                "from django.utils.translation import gettext_lazy as _\n",
                "\n",
                "__all__ = [\"HStoreField\"]\n"
            ]
        },
        {
            "cell_type": "markdown",
            "metadata": {},
            "source": []
        },
        {
            "cell_type": "code",
            "execution_count": null,
            "metadata": {},
            "outputs": [],
            "source": [
                "class HStoreField(CheckFieldDefaultMixin, Field):\n",
                "    empty_strings_allowed = False\n",
                "    description = _(\"Map of strings to strings/nulls\")\n",
                "    default_error_messages = {\n",
                "        \"not_a_string\": _(\"The value of \u201c%(key)s\u201d is not a string or null.\"),\n",
                "    }\n",
                "    _default_hint = (\"dict\", \"{}\")\n",
                "\n",
                "    def db_type(self, connection):\n",
                "        return \"hstore\"\n",
                "\n",
                "    def get_transform(self, name):\n",
                "        transform = super().get_transform(name)\n",
                "        if transform:\n",
                "            return transform\n",
                "        return KeyTransformFactory(name)\n",
                "\n",
                "    def validate(self, value, model_instance):\n",
                "        super().validate(value, model_instance)\n",
                "        for key, val in value.items():\n",
                "            if not isinstance(val, str) and val is not None:\n",
                "                raise exceptions.ValidationError(\n",
                "                    self.error_messages[\"not_a_string\"],\n",
                "                    code=\"not_a_string\",\n",
                "                    params={\"key\": key},\n",
                "                )\n",
                "\n",
                "    def to_python(self, value):\n",
                "        if isinstance(value, str):\n",
                "            value = json.loads(value)\n",
                "        return value\n",
                "\n",
                "    def value_to_string(self, obj):\n",
                "        return json.dumps(self.value_from_object(obj))\n",
                "\n",
                "    def formfield(self, **kwargs):\n",
                "        return super().formfield(\n",
                "            **{\n",
                "                \"form_class\": forms.HStoreField,\n",
                "                **kwargs,\n",
                "            }\n",
                "        )\n",
                "\n",
                "    def get_prep_value(self, value):\n",
                "        value = super().get_prep_value(value)\n",
                "\n",
                "        if isinstance(value, dict):\n",
                "            prep_value = {}\n",
                "            for key, val in value.items():\n",
                "                key = str(key)\n",
                "                if val is not None:\n",
                "                    val = str(val)\n",
                "                prep_value[key] = val\n",
                "            value = prep_value\n",
                "\n",
                "        if isinstance(value, list):\n",
                "            value = [str(item) for item in value]\n",
                "\n",
                "        return value\n"
            ]
        },
        {
            "cell_type": "markdown",
            "metadata": {},
            "source": []
        },
        {
            "cell_type": "code",
            "execution_count": null,
            "metadata": {},
            "outputs": [],
            "source": [
                "HStoreField.register_lookup(lookups.DataContains)\n",
                "HStoreField.register_lookup(lookups.ContainedBy)\n",
                "HStoreField.register_lookup(lookups.HasKey)\n",
                "HStoreField.register_lookup(lookups.HasKeys)\n",
                "HStoreField.register_lookup(lookups.HasAnyKeys)\n"
            ]
        },
        {
            "cell_type": "markdown",
            "metadata": {},
            "source": []
        },
        {
            "cell_type": "code",
            "execution_count": null,
            "metadata": {},
            "outputs": [],
            "source": [
                "class KeyTransform(Transform):\n",
                "    output_field = TextField()\n",
                "\n",
                "    def __init__(self, key_name, *args, **kwargs):\n",
                "        super().__init__(*args, **kwargs)\n",
                "        self.key_name = key_name\n",
                "\n",
                "    def as_sql(self, compiler, connection):\n",
                "        lhs, params = compiler.compile(self.lhs)\n",
                "        return \"(%s -> %%s)\" % lhs, tuple(params) + (self.key_name,)\n"
            ]
        },
        {
            "cell_type": "markdown",
            "metadata": {},
            "source": []
        },
        {
            "cell_type": "code",
            "execution_count": null,
            "metadata": {},
            "outputs": [],
            "source": [
                "class KeyTransformFactory:\n",
                "    def __init__(self, key_name):\n",
                "        self.key_name = key_name\n",
                "\n",
                "    def __call__(self, *args, **kwargs):\n",
                "        return KeyTransform(self.key_name, *args, **kwargs)\n"
            ]
        },
        {
            "cell_type": "markdown",
            "metadata": {},
            "source": []
        },
        {
            "cell_type": "code",
            "execution_count": null,
            "metadata": {},
            "outputs": [],
            "source": [
                "@HStoreField.register_lookup\n",
                "class KeysTransform(Transform):\n",
                "    lookup_name = \"keys\"\n",
                "    function = \"akeys\"\n",
                "    output_field = ArrayField(TextField())\n"
            ]
        },
        {
            "cell_type": "markdown",
            "metadata": {},
            "source": []
        },
        {
            "cell_type": "code",
            "execution_count": null,
            "metadata": {},
            "outputs": [],
            "source": [
                "@HStoreField.register_lookup\n",
                "class ValuesTransform(Transform):\n",
                "    lookup_name = \"values\"\n",
                "    function = \"avals\"\n",
                "    output_field = ArrayField(TextField())\n",
                "\n"
            ]
        },
        {
            "cell_type": "markdown",
            "metadata": {},
            "source": []
        }
    ],
    "metadata": {
        "language_info": {
            "name": "python"
        }
    },
    "nbformat": 4,
    "nbformat_minor": 2
}