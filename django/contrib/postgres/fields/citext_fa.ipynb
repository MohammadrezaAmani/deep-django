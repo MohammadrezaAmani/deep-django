{
 "cells": [
  {
   "cell_type": "code",
   "execution_count": null,
   "metadata": {},
   "outputs": [],
   "source": [
    "import warnings\n",
    "\n",
    "from django.db.models import CharField, EmailField, TextField\n",
    "from django.test.utils import ignore_warnings\n",
    "from django.utils.deprecation import RemovedInDjango51Warning\n",
    "\n",
    "__all__ = [\"CICharField\", \"CIEmailField\", \"CIText\", \"CITextField\"]"
   ]
  },
  {
   "cell_type": "markdown",
   "metadata": {},
   "source": []
  },
  {
   "cell_type": "code",
   "execution_count": null,
   "metadata": {},
   "outputs": [],
   "source": [
    "# RemovedInDjango51Warning.\n",
    "class CIText:\n",
    "    def __init__(self, *args, **kwargs):\n",
    "        warnings.warn(\n",
    "            \"django.contrib.postgres.fields.CIText mixin is deprecated.\",\n",
    "            RemovedInDjango51Warning,\n",
    "            stacklevel=2,\n",
    "        )\n",
    "        super().__init__(*args, **kwargs)\n",
    "\n",
    "    def get_internal_type(self):\n",
    "        return \"CI\" + super().get_internal_type()\n",
    "\n",
    "    def db_type(self, connection):\n",
    "        return \"citext\""
   ]
  },
  {
   "cell_type": "markdown",
   "metadata": {},
   "source": []
  },
  {
   "cell_type": "code",
   "execution_count": null,
   "metadata": {},
   "outputs": [],
   "source": [
    "class CICharField(CIText, CharField):\n",
    "    system_check_deprecated_details = {\n",
    "        \"msg\": (\n",
    "            \"django.contrib.postgres.fields.CICharField is deprecated. Support for it \"\n",
    "            \"(except in historical migrations) will be removed in Django 5.1.\"\n",
    "        ),\n",
    "        \"hint\": (\n",
    "            'Use CharField(db_collation=\"…\") with a case-insensitive non-deterministic '\n",
    "            \"collation instead.\"\n",
    "        ),\n",
    "        \"id\": \"fields.W905\",\n",
    "    }\n",
    "\n",
    "    def __init__(self, *args, **kwargs):\n",
    "        with ignore_warnings(category=RemovedInDjango51Warning):\n",
    "            super().__init__(*args, **kwargs)"
   ]
  },
  {
   "cell_type": "markdown",
   "metadata": {},
   "source": []
  },
  {
   "cell_type": "code",
   "execution_count": null,
   "metadata": {},
   "outputs": [],
   "source": [
    "class CIEmailField(CIText, EmailField):\n",
    "    system_check_deprecated_details = {\n",
    "        \"msg\": (\n",
    "            \"django.contrib.postgres.fields.CIEmailField is deprecated. Support for it \"\n",
    "            \"(except in historical migrations) will be removed in Django 5.1.\"\n",
    "        ),\n",
    "        \"hint\": (\n",
    "            'Use EmailField(db_collation=\"…\") with a case-insensitive '\n",
    "            \"non-deterministic collation instead.\"\n",
    "        ),\n",
    "        \"id\": \"fields.W906\",\n",
    "    }\n",
    "\n",
    "    def __init__(self, *args, **kwargs):\n",
    "        with ignore_warnings(category=RemovedInDjango51Warning):\n",
    "            super().__init__(*args, **kwargs)"
   ]
  },
  {
   "cell_type": "markdown",
   "metadata": {},
   "source": []
  },
  {
   "cell_type": "code",
   "execution_count": null,
   "metadata": {},
   "outputs": [],
   "source": [
    "class CITextField(CIText, TextField):\n",
    "    system_check_deprecated_details = {\n",
    "        \"msg\": (\n",
    "            \"django.contrib.postgres.fields.CITextField is deprecated. Support for it \"\n",
    "            \"(except in historical migrations) will be removed in Django 5.1.\"\n",
    "        ),\n",
    "        \"hint\": (\n",
    "            'Use TextField(db_collation=\"…\") with a case-insensitive non-deterministic '\n",
    "            \"collation instead.\"\n",
    "        ),\n",
    "        \"id\": \"fields.W907\",\n",
    "    }\n",
    "\n",
    "    def __init__(self, *args, **kwargs):\n",
    "        with ignore_warnings(category=RemovedInDjango51Warning):\n",
    "            super().__init__(*args, **kwargs)"
   ]
  },
  {
   "cell_type": "markdown",
   "metadata": {},
   "source": []
  }
 ],
 "metadata": {
  "language_info": {
   "name": "python"
  }
 },
 "nbformat": 4,
 "nbformat_minor": 2
}