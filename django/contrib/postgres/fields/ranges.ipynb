{
 "cells": [
  {
   "cell_type": "code",
   "execution_count": null,
   "metadata": {},
   "outputs": [],
   "source": [
    "import datetime\n",
    "import json\n",
    "\n",
    "from django.contrib.postgres import forms, lookups\n",
    "from django.db import models\n",
    "from django.db.backends.postgresql.psycopg_any import (\n",
    "    DateRange,\n",
    "    DateTimeTZRange,\n",
    "    NumericRange,\n",
    "    Range,\n",
    ")\n",
    "from django.db.models.functions import Cast\n",
    "from django.db.models.lookups import PostgresOperatorLookup\n",
    "\n",
    "from .utils import AttributeSetter\n",
    "\n",
    "__all__ = [\n",
    "    \"RangeField\",\n",
    "    \"IntegerRangeField\",\n",
    "    \"BigIntegerRangeField\",\n",
    "    \"DecimalRangeField\",\n",
    "    \"DateTimeRangeField\",\n",
    "    \"DateRangeField\",\n",
    "    \"RangeBoundary\",\n",
    "    \"RangeOperators\",\n",
    "]"
   ]
  },
  {
   "cell_type": "markdown",
   "metadata": {},
   "source": []
  },
  {
   "cell_type": "code",
   "execution_count": null,
   "metadata": {},
   "outputs": [],
   "source": [
    "class RangeBoundary(models.Expression):\n",
    "    \"\"\"A class that represents range boundaries.\"\"\"\n",
    "\n",
    "    def __init__(self, inclusive_lower=True, inclusive_upper=False):\n",
    "        self.lower = \"[\" if inclusive_lower else \"(\"\n",
    "        self.upper = \"]\" if inclusive_upper else \")\"\n",
    "\n",
    "    def as_sql(self, compiler, connection):\n",
    "        return \"'%s%s'\" % (self.lower, self.upper), []"
   ]
  },
  {
   "cell_type": "markdown",
   "metadata": {},
   "source": []
  },
  {
   "cell_type": "code",
   "execution_count": null,
   "metadata": {},
   "outputs": [],
   "source": [
    "class RangeOperators:\n",
    "    # https://www.postgresql.org/docs/current/functions-range.html#RANGE-OPERATORS-TABLE\n",
    "    EQUAL = \"=\"\n",
    "    NOT_EQUAL = \"<>\"\n",
    "    CONTAINS = \"@>\"\n",
    "    CONTAINED_BY = \"<@\"\n",
    "    OVERLAPS = \"&&\"\n",
    "    FULLY_LT = \"<<\"\n",
    "    FULLY_GT = \">>\"\n",
    "    NOT_LT = \"&>\"\n",
    "    NOT_GT = \"&<\"\n",
    "    ADJACENT_TO = \"-|-\""
   ]
  },
  {
   "cell_type": "markdown",
   "metadata": {},
   "source": []
  },
  {
   "cell_type": "code",
   "execution_count": null,
   "metadata": {},
   "outputs": [],
   "source": [
    "class RangeField(models.Field):\n",
    "    empty_strings_allowed = False\n",
    "\n",
    "    def __init__(self, *args, **kwargs):\n",
    "        if \"default_bounds\" in kwargs:\n",
    "            raise TypeError(\n",
    "                f\"Cannot use 'default_bounds' with {self.__class__.__name__}.\"\n",
    "            )\n",
    "        # Initializing base_field here ensures that its model matches the model\n",
    "        # for self.\n",
    "        if hasattr(self, \"base_field\"):\n",
    "            self.base_field = self.base_field()\n",
    "        super().__init__(*args, **kwargs)\n",
    "\n",
    "    @property\n",
    "    def model(self):\n",
    "        try:\n",
    "            return self.__dict__[\"model\"]\n",
    "        except KeyError:\n",
    "            raise AttributeError(\n",
    "                \"'%s' object has no attribute 'model'\" % self.__class__.__name__\n",
    "            )\n",
    "\n",
    "    @model.setter\n",
    "    def model(self, model):\n",
    "        self.__dict__[\"model\"] = model\n",
    "        self.base_field.model = model\n",
    "\n",
    "    @classmethod\n",
    "    def _choices_is_value(cls, value):\n",
    "        return isinstance(value, (list, tuple)) or super()._choices_is_value(value)\n",
    "\n",
    "    def get_placeholder(self, value, compiler, connection):\n",
    "        return \"%s::{}\".format(self.db_type(connection))\n",
    "\n",
    "    def get_prep_value(self, value):\n",
    "        if value is None:\n",
    "            return None\n",
    "        elif isinstance(value, Range):\n",
    "            return value\n",
    "        elif isinstance(value, (list, tuple)):\n",
    "            return self.range_type(value[0], value[1])\n",
    "        return value\n",
    "\n",
    "    def to_python(self, value):\n",
    "        if isinstance(value, str):\n",
    "            # Assume we're deserializing\n",
    "            vals = json.loads(value)\n",
    "            for end in (\"lower\", \"upper\"):\n",
    "                if end in vals:\n",
    "                    vals[end] = self.base_field.to_python(vals[end])\n",
    "            value = self.range_type(**vals)\n",
    "        elif isinstance(value, (list, tuple)):\n",
    "            value = self.range_type(value[0], value[1])\n",
    "        return value\n",
    "\n",
    "    def set_attributes_from_name(self, name):\n",
    "        super().set_attributes_from_name(name)\n",
    "        self.base_field.set_attributes_from_name(name)\n",
    "\n",
    "    def value_to_string(self, obj):\n",
    "        value = self.value_from_object(obj)\n",
    "        if value is None:\n",
    "            return None\n",
    "        if value.isempty:\n",
    "            return json.dumps({\"empty\": True})\n",
    "        base_field = self.base_field\n",
    "        result = {\"bounds\": value._bounds}\n",
    "        for end in (\"lower\", \"upper\"):\n",
    "            val = getattr(value, end)\n",
    "            if val is None:\n",
    "                result[end] = None\n",
    "            else:\n",
    "                obj = AttributeSetter(base_field.attname, val)\n",
    "                result[end] = base_field.value_to_string(obj)\n",
    "        return json.dumps(result)\n",
    "\n",
    "    def formfield(self, **kwargs):\n",
    "        kwargs.setdefault(\"form_class\", self.form_field)\n",
    "        return super().formfield(**kwargs)"
   ]
  },
  {
   "cell_type": "markdown",
   "metadata": {},
   "source": []
  },
  {
   "cell_type": "code",
   "execution_count": null,
   "metadata": {},
   "outputs": [],
   "source": [
    "CANONICAL_RANGE_BOUNDS = \"[)\""
   ]
  },
  {
   "cell_type": "markdown",
   "metadata": {},
   "source": []
  },
  {
   "cell_type": "code",
   "execution_count": null,
   "metadata": {},
   "outputs": [],
   "source": [
    "class ContinuousRangeField(RangeField):\n",
    "    \"\"\"\n",
    "    Continuous range field. It allows specifying default bounds for list and\n",
    "    tuple inputs.\n",
    "    \"\"\"\n",
    "\n",
    "    def __init__(self, *args, default_bounds=CANONICAL_RANGE_BOUNDS, **kwargs):\n",
    "        if default_bounds not in (\"[)\", \"(]\", \"()\", \"[]\"):\n",
    "            raise ValueError(\"default_bounds must be one of '[)', '(]', '()', or '[]'.\")\n",
    "        self.default_bounds = default_bounds\n",
    "        super().__init__(*args, **kwargs)\n",
    "\n",
    "    def get_prep_value(self, value):\n",
    "        if isinstance(value, (list, tuple)):\n",
    "            return self.range_type(value[0], value[1], self.default_bounds)\n",
    "        return super().get_prep_value(value)\n",
    "\n",
    "    def formfield(self, **kwargs):\n",
    "        kwargs.setdefault(\"default_bounds\", self.default_bounds)\n",
    "        return super().formfield(**kwargs)\n",
    "\n",
    "    def deconstruct(self):\n",
    "        name, path, args, kwargs = super().deconstruct()\n",
    "        if self.default_bounds and self.default_bounds != CANONICAL_RANGE_BOUNDS:\n",
    "            kwargs[\"default_bounds\"] = self.default_bounds\n",
    "        return name, path, args, kwargs"
   ]
  },
  {
   "cell_type": "markdown",
   "metadata": {},
   "source": []
  },
  {
   "cell_type": "code",
   "execution_count": null,
   "metadata": {},
   "outputs": [],
   "source": [
    "class IntegerRangeField(RangeField):\n",
    "    base_field = models.IntegerField\n",
    "    range_type = NumericRange\n",
    "    form_field = forms.IntegerRangeField\n",
    "\n",
    "    def db_type(self, connection):\n",
    "        return \"int4range\""
   ]
  },
  {
   "cell_type": "markdown",
   "metadata": {},
   "source": []
  },
  {
   "cell_type": "code",
   "execution_count": null,
   "metadata": {},
   "outputs": [],
   "source": [
    "class BigIntegerRangeField(RangeField):\n",
    "    base_field = models.BigIntegerField\n",
    "    range_type = NumericRange\n",
    "    form_field = forms.IntegerRangeField\n",
    "\n",
    "    def db_type(self, connection):\n",
    "        return \"int8range\""
   ]
  },
  {
   "cell_type": "markdown",
   "metadata": {},
   "source": []
  },
  {
   "cell_type": "code",
   "execution_count": null,
   "metadata": {},
   "outputs": [],
   "source": [
    "class DecimalRangeField(ContinuousRangeField):\n",
    "    base_field = models.DecimalField\n",
    "    range_type = NumericRange\n",
    "    form_field = forms.DecimalRangeField\n",
    "\n",
    "    def db_type(self, connection):\n",
    "        return \"numrange\""
   ]
  },
  {
   "cell_type": "markdown",
   "metadata": {},
   "source": []
  },
  {
   "cell_type": "code",
   "execution_count": null,
   "metadata": {},
   "outputs": [],
   "source": [
    "class DateTimeRangeField(ContinuousRangeField):\n",
    "    base_field = models.DateTimeField\n",
    "    range_type = DateTimeTZRange\n",
    "    form_field = forms.DateTimeRangeField\n",
    "\n",
    "    def db_type(self, connection):\n",
    "        return \"tstzrange\""
   ]
  },
  {
   "cell_type": "markdown",
   "metadata": {},
   "source": []
  },
  {
   "cell_type": "code",
   "execution_count": null,
   "metadata": {},
   "outputs": [],
   "source": [
    "class DateRangeField(RangeField):\n",
    "    base_field = models.DateField\n",
    "    range_type = DateRange\n",
    "    form_field = forms.DateRangeField\n",
    "\n",
    "    def db_type(self, connection):\n",
    "        return \"daterange\""
   ]
  },
  {
   "cell_type": "markdown",
   "metadata": {},
   "source": []
  },
  {
   "cell_type": "code",
   "execution_count": null,
   "metadata": {},
   "outputs": [],
   "source": [
    "class RangeContains(lookups.DataContains):\n",
    "    def get_prep_lookup(self):\n",
    "        if not isinstance(self.rhs, (list, tuple, Range)):\n",
    "            return Cast(self.rhs, self.lhs.field.base_field)\n",
    "        return super().get_prep_lookup()"
   ]
  },
  {
   "cell_type": "markdown",
   "metadata": {},
   "source": []
  },
  {
   "cell_type": "code",
   "execution_count": null,
   "metadata": {},
   "outputs": [],
   "source": [
    "RangeField.register_lookup(RangeContains)\n",
    "RangeField.register_lookup(lookups.ContainedBy)\n",
    "RangeField.register_lookup(lookups.Overlap)"
   ]
  },
  {
   "cell_type": "markdown",
   "metadata": {},
   "source": []
  },
  {
   "cell_type": "code",
   "execution_count": null,
   "metadata": {},
   "outputs": [],
   "source": [
    "class DateTimeRangeContains(PostgresOperatorLookup):\n",
    "    \"\"\"\n",
    "    Lookup for Date/DateTimeRange containment to cast the rhs to the correct\n",
    "    type.\n",
    "    \"\"\"\n",
    "\n",
    "    lookup_name = \"contains\"\n",
    "    postgres_operator = RangeOperators.CONTAINS\n",
    "\n",
    "    def process_rhs(self, compiler, connection):\n",
    "        # Transform rhs value for db lookup.\n",
    "        if isinstance(self.rhs, datetime.date):\n",
    "            value = models.Value(self.rhs)\n",
    "            self.rhs = value.resolve_expression(compiler.query)\n",
    "        return super().process_rhs(compiler, connection)\n",
    "\n",
    "    def as_postgresql(self, compiler, connection):\n",
    "        sql, params = super().as_postgresql(compiler, connection)\n",
    "        # Cast the rhs if needed.\n",
    "        cast_sql = \"\"\n",
    "        if (\n",
    "            isinstance(self.rhs, models.Expression)\n",
    "            and self.rhs._output_field_or_none\n",
    "            and\n",
    "            # Skip cast if rhs has a matching range type.\n",
    "            not isinstance(\n",
    "                self.rhs._output_field_or_none, self.lhs.output_field.__class__\n",
    "            )\n",
    "        ):\n",
    "            cast_internal_type = self.lhs.output_field.base_field.get_internal_type()\n",
    "            cast_sql = \"::{}\".format(connection.data_types.get(cast_internal_type))\n",
    "        return \"%s%s\" % (sql, cast_sql), params"
   ]
  },
  {
   "cell_type": "markdown",
   "metadata": {},
   "source": []
  },
  {
   "cell_type": "code",
   "execution_count": null,
   "metadata": {},
   "outputs": [],
   "source": [
    "DateRangeField.register_lookup(DateTimeRangeContains)\n",
    "DateTimeRangeField.register_lookup(DateTimeRangeContains)"
   ]
  },
  {
   "cell_type": "markdown",
   "metadata": {},
   "source": []
  },
  {
   "cell_type": "code",
   "execution_count": null,
   "metadata": {},
   "outputs": [],
   "source": [
    "class RangeContainedBy(PostgresOperatorLookup):\n",
    "    lookup_name = \"contained_by\"\n",
    "    type_mapping = {\n",
    "        \"smallint\": \"int4range\",\n",
    "        \"integer\": \"int4range\",\n",
    "        \"bigint\": \"int8range\",\n",
    "        \"double precision\": \"numrange\",\n",
    "        \"numeric\": \"numrange\",\n",
    "        \"date\": \"daterange\",\n",
    "        \"timestamp with time zone\": \"tstzrange\",\n",
    "    }\n",
    "    postgres_operator = RangeOperators.CONTAINED_BY\n",
    "\n",
    "    def process_rhs(self, compiler, connection):\n",
    "        rhs, rhs_params = super().process_rhs(compiler, connection)\n",
    "        # Ignore precision for DecimalFields.\n",
    "        db_type = self.lhs.output_field.cast_db_type(connection).split(\"(\")[0]\n",
    "        cast_type = self.type_mapping[db_type]\n",
    "        return \"%s::%s\" % (rhs, cast_type), rhs_params\n",
    "\n",
    "    def process_lhs(self, compiler, connection):\n",
    "        lhs, lhs_params = super().process_lhs(compiler, connection)\n",
    "        if isinstance(self.lhs.output_field, models.FloatField):\n",
    "            lhs = \"%s::numeric\" % lhs\n",
    "        elif isinstance(self.lhs.output_field, models.SmallIntegerField):\n",
    "            lhs = \"%s::integer\" % lhs\n",
    "        return lhs, lhs_params\n",
    "\n",
    "    def get_prep_lookup(self):\n",
    "        return RangeField().get_prep_value(self.rhs)"
   ]
  },
  {
   "cell_type": "markdown",
   "metadata": {},
   "source": []
  },
  {
   "cell_type": "code",
   "execution_count": null,
   "metadata": {},
   "outputs": [],
   "source": [
    "models.DateField.register_lookup(RangeContainedBy)\n",
    "models.DateTimeField.register_lookup(RangeContainedBy)\n",
    "models.IntegerField.register_lookup(RangeContainedBy)\n",
    "models.FloatField.register_lookup(RangeContainedBy)\n",
    "models.DecimalField.register_lookup(RangeContainedBy)"
   ]
  },
  {
   "cell_type": "markdown",
   "metadata": {},
   "source": []
  },
  {
   "cell_type": "code",
   "execution_count": null,
   "metadata": {},
   "outputs": [],
   "source": [
    "@RangeField.register_lookup\n",
    "class FullyLessThan(PostgresOperatorLookup):\n",
    "    lookup_name = \"fully_lt\"\n",
    "    postgres_operator = RangeOperators.FULLY_LT"
   ]
  },
  {
   "cell_type": "markdown",
   "metadata": {},
   "source": []
  },
  {
   "cell_type": "code",
   "execution_count": null,
   "metadata": {},
   "outputs": [],
   "source": [
    "@RangeField.register_lookup\n",
    "class FullGreaterThan(PostgresOperatorLookup):\n",
    "    lookup_name = \"fully_gt\"\n",
    "    postgres_operator = RangeOperators.FULLY_GT"
   ]
  },
  {
   "cell_type": "markdown",
   "metadata": {},
   "source": []
  },
  {
   "cell_type": "code",
   "execution_count": null,
   "metadata": {},
   "outputs": [],
   "source": [
    "@RangeField.register_lookup\n",
    "class NotLessThan(PostgresOperatorLookup):\n",
    "    lookup_name = \"not_lt\"\n",
    "    postgres_operator = RangeOperators.NOT_LT"
   ]
  },
  {
   "cell_type": "markdown",
   "metadata": {},
   "source": []
  },
  {
   "cell_type": "code",
   "execution_count": null,
   "metadata": {},
   "outputs": [],
   "source": [
    "@RangeField.register_lookup\n",
    "class NotGreaterThan(PostgresOperatorLookup):\n",
    "    lookup_name = \"not_gt\"\n",
    "    postgres_operator = RangeOperators.NOT_GT"
   ]
  },
  {
   "cell_type": "markdown",
   "metadata": {},
   "source": []
  },
  {
   "cell_type": "code",
   "execution_count": null,
   "metadata": {},
   "outputs": [],
   "source": [
    "@RangeField.register_lookup\n",
    "class AdjacentToLookup(PostgresOperatorLookup):\n",
    "    lookup_name = \"adjacent_to\"\n",
    "    postgres_operator = RangeOperators.ADJACENT_TO"
   ]
  },
  {
   "cell_type": "markdown",
   "metadata": {},
   "source": []
  },
  {
   "cell_type": "code",
   "execution_count": null,
   "metadata": {},
   "outputs": [],
   "source": [
    "@RangeField.register_lookup\n",
    "class RangeStartsWith(models.Transform):\n",
    "    lookup_name = \"startswith\"\n",
    "    function = \"lower\"\n",
    "\n",
    "    @property\n",
    "    def output_field(self):\n",
    "        return self.lhs.output_field.base_field"
   ]
  },
  {
   "cell_type": "markdown",
   "metadata": {},
   "source": []
  },
  {
   "cell_type": "code",
   "execution_count": null,
   "metadata": {},
   "outputs": [],
   "source": [
    "@RangeField.register_lookup\n",
    "class RangeEndsWith(models.Transform):\n",
    "    lookup_name = \"endswith\"\n",
    "    function = \"upper\"\n",
    "\n",
    "    @property\n",
    "    def output_field(self):\n",
    "        return self.lhs.output_field.base_field"
   ]
  },
  {
   "cell_type": "markdown",
   "metadata": {},
   "source": []
  },
  {
   "cell_type": "code",
   "execution_count": null,
   "metadata": {},
   "outputs": [],
   "source": [
    "@RangeField.register_lookup\n",
    "class IsEmpty(models.Transform):\n",
    "    lookup_name = \"isempty\"\n",
    "    function = \"isempty\"\n",
    "    output_field = models.BooleanField()"
   ]
  },
  {
   "cell_type": "markdown",
   "metadata": {},
   "source": []
  },
  {
   "cell_type": "code",
   "execution_count": null,
   "metadata": {},
   "outputs": [],
   "source": [
    "@RangeField.register_lookup\n",
    "class LowerInclusive(models.Transform):\n",
    "    lookup_name = \"lower_inc\"\n",
    "    function = \"LOWER_INC\"\n",
    "    output_field = models.BooleanField()"
   ]
  },
  {
   "cell_type": "markdown",
   "metadata": {},
   "source": []
  },
  {
   "cell_type": "code",
   "execution_count": null,
   "metadata": {},
   "outputs": [],
   "source": [
    "@RangeField.register_lookup\n",
    "class LowerInfinite(models.Transform):\n",
    "    lookup_name = \"lower_inf\"\n",
    "    function = \"LOWER_INF\"\n",
    "    output_field = models.BooleanField()"
   ]
  },
  {
   "cell_type": "markdown",
   "metadata": {},
   "source": []
  },
  {
   "cell_type": "code",
   "execution_count": null,
   "metadata": {},
   "outputs": [],
   "source": [
    "@RangeField.register_lookup\n",
    "class UpperInclusive(models.Transform):\n",
    "    lookup_name = \"upper_inc\"\n",
    "    function = \"UPPER_INC\"\n",
    "    output_field = models.BooleanField()"
   ]
  },
  {
   "cell_type": "markdown",
   "metadata": {},
   "source": []
  },
  {
   "cell_type": "code",
   "execution_count": null,
   "metadata": {},
   "outputs": [],
   "source": [
    "@RangeField.register_lookup\n",
    "class UpperInfinite(models.Transform):\n",
    "    lookup_name = \"upper_inf\"\n",
    "    function = \"UPPER_INF\"\n",
    "    output_field = models.BooleanField()"
   ]
  },
  {
   "cell_type": "markdown",
   "metadata": {},
   "source": []
  }
 ],
 "metadata": {
  "language_info": {
   "name": "python"
  }
 },
 "nbformat": 4,
 "nbformat_minor": 2
}