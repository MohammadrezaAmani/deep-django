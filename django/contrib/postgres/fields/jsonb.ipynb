{
 "cells": [
  {
   "cell_type": "code",
   "execution_count": null,
   "metadata": {},
   "outputs": [],
   "source": [
    "from django.db.models import JSONField as BuiltinJSONField\n",
    "\n",
    "__all__ = [\"JSONField\"]"
   ]
  },
  {
   "cell_type": "markdown",
   "metadata": {},
   "source": []
  },
  {
   "cell_type": "code",
   "execution_count": null,
   "metadata": {},
   "outputs": [],
   "source": [
    "class JSONField(BuiltinJSONField):\n",
    "    system_check_removed_details = {\n",
    "        \"msg\": (\n",
    "            \"django.contrib.postgres.fields.JSONField is removed except for \"\n",
    "            \"support in historical migrations.\"\n",
    "        ),\n",
    "        \"hint\": \"Use django.db.models.JSONField instead.\",\n",
    "        \"id\": \"fields.E904\",\n",
    "    }"
   ]
  },
  {
   "cell_type": "markdown",
   "metadata": {},
   "source": []
  }
 ],
 "metadata": {
  "language_info": {
   "name": "python"
  }
 },
 "nbformat": 4,
 "nbformat_minor": 2
}