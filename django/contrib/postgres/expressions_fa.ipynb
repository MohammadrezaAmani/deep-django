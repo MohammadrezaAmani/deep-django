{
 "cells": [
  {
   "cell_type": "code",
   "execution_count": null,
   "metadata": {},
   "outputs": [],
   "source": [
    "from django.contrib.postgres.fields import ArrayField\n",
    "from django.db.models import Subquery\n",
    "from django.utils.functional import cached_property"
   ]
  },
  {
   "cell_type": "markdown",
   "metadata": {},
   "source": []
  },
  {
   "cell_type": "code",
   "execution_count": null,
   "metadata": {},
   "outputs": [],
   "source": [
    "class ArraySubquery(Subquery):\n",
    "    template = \"ARRAY(%(subquery)s)\"\n",
    "\n",
    "    def __init__(self, queryset, **kwargs):\n",
    "        super().__init__(queryset, **kwargs)\n",
    "\n",
    "    @cached_property\n",
    "    def output_field(self):\n",
    "        return ArrayField(self.query.output_field)"
   ]
  },
  {
   "cell_type": "markdown",
   "metadata": {},
   "source": []
  }
 ],
 "metadata": {
  "language_info": {
   "name": "python"
  }
 },
 "nbformat": 4,
 "nbformat_minor": 2
}