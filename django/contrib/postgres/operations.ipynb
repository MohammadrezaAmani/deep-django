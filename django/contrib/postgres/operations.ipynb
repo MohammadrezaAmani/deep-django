{
 "cells": [
  {
   "cell_type": "code",
   "execution_count": null,
   "metadata": {},
   "outputs": [],
   "source": [
    "from django.contrib.postgres.signals import (\n",
    "    get_citext_oids,\n",
    "    get_hstore_oids,\n",
    "    register_type_handlers,\n",
    ")\n",
    "from django.db import NotSupportedError, router\n",
    "from django.db.migrations import AddConstraint, AddIndex, RemoveIndex\n",
    "from django.db.migrations.operations.base import Operation\n",
    "from django.db.models.constraints import CheckConstraint"
   ]
  },
  {
   "cell_type": "markdown",
   "metadata": {},
   "source": []
  },
  {
   "cell_type": "code",
   "execution_count": null,
   "metadata": {},
   "outputs": [],
   "source": [
    "class CreateExtension(Operation):\n",
    "    reversible = True\n",
    "\n",
    "    def __init__(self, name):\n",
    "        self.name = name\n",
    "\n",
    "    def state_forwards(self, app_label, state):\n",
    "        pass\n",
    "\n",
    "    def database_forwards(self, app_label, schema_editor, from_state, to_state):\n",
    "        if schema_editor.connection.vendor != \"postgresql\" or not router.allow_migrate(\n",
    "            schema_editor.connection.alias, app_label\n",
    "        ):\n",
    "            return\n",
    "        if not self.extension_exists(schema_editor, self.name):\n",
    "            schema_editor.execute(\n",
    "                \"CREATE EXTENSION IF NOT EXISTS %s\"\n",
    "                % schema_editor.quote_name(self.name)\n",
    "            )\n",
    "        # Clear cached, stale oids.\n",
    "        get_hstore_oids.cache_clear()\n",
    "        get_citext_oids.cache_clear()\n",
    "        # Registering new type handlers cannot be done before the extension is\n",
    "        # installed, otherwise a subsequent data migration would use the same\n",
    "        # connection.\n",
    "        register_type_handlers(schema_editor.connection)\n",
    "        if hasattr(schema_editor.connection, \"register_geometry_adapters\"):\n",
    "            schema_editor.connection.register_geometry_adapters(\n",
    "                schema_editor.connection.connection, True\n",
    "            )\n",
    "\n",
    "    def database_backwards(self, app_label, schema_editor, from_state, to_state):\n",
    "        if not router.allow_migrate(schema_editor.connection.alias, app_label):\n",
    "            return\n",
    "        if self.extension_exists(schema_editor, self.name):\n",
    "            schema_editor.execute(\n",
    "                \"DROP EXTENSION IF EXISTS %s\" % schema_editor.quote_name(self.name)\n",
    "            )\n",
    "        # Clear cached, stale oids.\n",
    "        get_hstore_oids.cache_clear()\n",
    "        get_citext_oids.cache_clear()\n",
    "\n",
    "    def extension_exists(self, schema_editor, extension):\n",
    "        with schema_editor.connection.cursor() as cursor:\n",
    "            cursor.execute(\n",
    "                \"SELECT 1 FROM pg_extension WHERE extname = %s\",\n",
    "                [extension],\n",
    "            )\n",
    "            return bool(cursor.fetchone())\n",
    "\n",
    "    def describe(self):\n",
    "        return \"Creates extension %s\" % self.name\n",
    "\n",
    "    @property\n",
    "    def migration_name_fragment(self):\n",
    "        return \"create_extension_%s\" % self.name"
   ]
  },
  {
   "cell_type": "markdown",
   "metadata": {},
   "source": []
  },
  {
   "cell_type": "code",
   "execution_count": null,
   "metadata": {},
   "outputs": [],
   "source": [
    "class BloomExtension(CreateExtension):\n",
    "    def __init__(self):\n",
    "        self.name = \"bloom\""
   ]
  },
  {
   "cell_type": "markdown",
   "metadata": {},
   "source": []
  },
  {
   "cell_type": "code",
   "execution_count": null,
   "metadata": {},
   "outputs": [],
   "source": [
    "class BtreeGinExtension(CreateExtension):\n",
    "    def __init__(self):\n",
    "        self.name = \"btree_gin\""
   ]
  },
  {
   "cell_type": "markdown",
   "metadata": {},
   "source": []
  },
  {
   "cell_type": "code",
   "execution_count": null,
   "metadata": {},
   "outputs": [],
   "source": [
    "class BtreeGistExtension(CreateExtension):\n",
    "    def __init__(self):\n",
    "        self.name = \"btree_gist\""
   ]
  },
  {
   "cell_type": "markdown",
   "metadata": {},
   "source": []
  },
  {
   "cell_type": "code",
   "execution_count": null,
   "metadata": {},
   "outputs": [],
   "source": [
    "class CITextExtension(CreateExtension):\n",
    "    def __init__(self):\n",
    "        self.name = \"citext\""
   ]
  },
  {
   "cell_type": "markdown",
   "metadata": {},
   "source": []
  },
  {
   "cell_type": "code",
   "execution_count": null,
   "metadata": {},
   "outputs": [],
   "source": [
    "class CryptoExtension(CreateExtension):\n",
    "    def __init__(self):\n",
    "        self.name = \"pgcrypto\""
   ]
  },
  {
   "cell_type": "markdown",
   "metadata": {},
   "source": []
  },
  {
   "cell_type": "code",
   "execution_count": null,
   "metadata": {},
   "outputs": [],
   "source": [
    "class HStoreExtension(CreateExtension):\n",
    "    def __init__(self):\n",
    "        self.name = \"hstore\""
   ]
  },
  {
   "cell_type": "markdown",
   "metadata": {},
   "source": []
  },
  {
   "cell_type": "code",
   "execution_count": null,
   "metadata": {},
   "outputs": [],
   "source": [
    "class TrigramExtension(CreateExtension):\n",
    "    def __init__(self):\n",
    "        self.name = \"pg_trgm\""
   ]
  },
  {
   "cell_type": "markdown",
   "metadata": {},
   "source": []
  },
  {
   "cell_type": "code",
   "execution_count": null,
   "metadata": {},
   "outputs": [],
   "source": [
    "class UnaccentExtension(CreateExtension):\n",
    "    def __init__(self):\n",
    "        self.name = \"unaccent\""
   ]
  },
  {
   "cell_type": "markdown",
   "metadata": {},
   "source": []
  },
  {
   "cell_type": "code",
   "execution_count": null,
   "metadata": {},
   "outputs": [],
   "source": [
    "class NotInTransactionMixin:\n",
    "    def _ensure_not_in_transaction(self, schema_editor):\n",
    "        if schema_editor.connection.in_atomic_block:\n",
    "            raise NotSupportedError(\n",
    "                \"The %s operation cannot be executed inside a transaction \"\n",
    "                \"(set atomic = False on the migration).\" % self.__class__.__name__\n",
    "            )"
   ]
  },
  {
   "cell_type": "markdown",
   "metadata": {},
   "source": []
  },
  {
   "cell_type": "code",
   "execution_count": null,
   "metadata": {},
   "outputs": [],
   "source": [
    "class AddIndexConcurrently(NotInTransactionMixin, AddIndex):\n",
    "    \"\"\"Create an index using PostgreSQL's CREATE INDEX CONCURRENTLY syntax.\"\"\"\n",
    "\n",
    "    atomic = False\n",
    "\n",
    "    def describe(self):\n",
    "        return \"Concurrently create index %s on field(s) %s of model %s\" % (\n",
    "            self.index.name,\n",
    "            \", \".join(self.index.fields),\n",
    "            self.model_name,\n",
    "        )\n",
    "\n",
    "    def database_forwards(self, app_label, schema_editor, from_state, to_state):\n",
    "        self._ensure_not_in_transaction(schema_editor)\n",
    "        model = to_state.apps.get_model(app_label, self.model_name)\n",
    "        if self.allow_migrate_model(schema_editor.connection.alias, model):\n",
    "            schema_editor.add_index(model, self.index, concurrently=True)\n",
    "\n",
    "    def database_backwards(self, app_label, schema_editor, from_state, to_state):\n",
    "        self._ensure_not_in_transaction(schema_editor)\n",
    "        model = from_state.apps.get_model(app_label, self.model_name)\n",
    "        if self.allow_migrate_model(schema_editor.connection.alias, model):\n",
    "            schema_editor.remove_index(model, self.index, concurrently=True)"
   ]
  },
  {
   "cell_type": "markdown",
   "metadata": {},
   "source": []
  },
  {
   "cell_type": "code",
   "execution_count": null,
   "metadata": {},
   "outputs": [],
   "source": [
    "class RemoveIndexConcurrently(NotInTransactionMixin, RemoveIndex):\n",
    "    \"\"\"Remove an index using PostgreSQL's DROP INDEX CONCURRENTLY syntax.\"\"\"\n",
    "\n",
    "    atomic = False\n",
    "\n",
    "    def describe(self):\n",
    "        return \"Concurrently remove index %s from %s\" % (self.name, self.model_name)\n",
    "\n",
    "    def database_forwards(self, app_label, schema_editor, from_state, to_state):\n",
    "        self._ensure_not_in_transaction(schema_editor)\n",
    "        model = from_state.apps.get_model(app_label, self.model_name)\n",
    "        if self.allow_migrate_model(schema_editor.connection.alias, model):\n",
    "            from_model_state = from_state.models[app_label, self.model_name_lower]\n",
    "            index = from_model_state.get_index_by_name(self.name)\n",
    "            schema_editor.remove_index(model, index, concurrently=True)\n",
    "\n",
    "    def database_backwards(self, app_label, schema_editor, from_state, to_state):\n",
    "        self._ensure_not_in_transaction(schema_editor)\n",
    "        model = to_state.apps.get_model(app_label, self.model_name)\n",
    "        if self.allow_migrate_model(schema_editor.connection.alias, model):\n",
    "            to_model_state = to_state.models[app_label, self.model_name_lower]\n",
    "            index = to_model_state.get_index_by_name(self.name)\n",
    "            schema_editor.add_index(model, index, concurrently=True)"
   ]
  },
  {
   "cell_type": "markdown",
   "metadata": {},
   "source": []
  },
  {
   "cell_type": "code",
   "execution_count": null,
   "metadata": {},
   "outputs": [],
   "source": [
    "class CollationOperation(Operation):\n",
    "    def __init__(self, name, locale, *, provider=\"libc\", deterministic=True):\n",
    "        self.name = name\n",
    "        self.locale = locale\n",
    "        self.provider = provider\n",
    "        self.deterministic = deterministic\n",
    "\n",
    "    def state_forwards(self, app_label, state):\n",
    "        pass\n",
    "\n",
    "    def deconstruct(self):\n",
    "        kwargs = {\"name\": self.name, \"locale\": self.locale}\n",
    "        if self.provider and self.provider != \"libc\":\n",
    "            kwargs[\"provider\"] = self.provider\n",
    "        if self.deterministic is False:\n",
    "            kwargs[\"deterministic\"] = self.deterministic\n",
    "        return (\n",
    "            self.__class__.__qualname__,\n",
    "            [],\n",
    "            kwargs,\n",
    "        )\n",
    "\n",
    "    def create_collation(self, schema_editor):\n",
    "        args = {\"locale\": schema_editor.quote_name(self.locale)}\n",
    "        if self.provider != \"libc\":\n",
    "            args[\"provider\"] = schema_editor.quote_name(self.provider)\n",
    "        if self.deterministic is False:\n",
    "            args[\"deterministic\"] = \"false\"\n",
    "        schema_editor.execute(\n",
    "            \"CREATE COLLATION %(name)s (%(args)s)\"\n",
    "            % {\n",
    "                \"name\": schema_editor.quote_name(self.name),\n",
    "                \"args\": \", \".join(\n",
    "                    f\"{option}={value}\" for option, value in args.items()\n",
    "                ),\n",
    "            }\n",
    "        )\n",
    "\n",
    "    def remove_collation(self, schema_editor):\n",
    "        schema_editor.execute(\n",
    "            \"DROP COLLATION %s\" % schema_editor.quote_name(self.name),\n",
    "        )"
   ]
  },
  {
   "cell_type": "markdown",
   "metadata": {},
   "source": []
  },
  {
   "cell_type": "code",
   "execution_count": null,
   "metadata": {},
   "outputs": [],
   "source": [
    "class CreateCollation(CollationOperation):\n",
    "    \"\"\"Create a collation.\"\"\"\n",
    "\n",
    "    def database_forwards(self, app_label, schema_editor, from_state, to_state):\n",
    "        if schema_editor.connection.vendor != \"postgresql\" or not router.allow_migrate(\n",
    "            schema_editor.connection.alias, app_label\n",
    "        ):\n",
    "            return\n",
    "        self.create_collation(schema_editor)\n",
    "\n",
    "    def database_backwards(self, app_label, schema_editor, from_state, to_state):\n",
    "        if not router.allow_migrate(schema_editor.connection.alias, app_label):\n",
    "            return\n",
    "        self.remove_collation(schema_editor)\n",
    "\n",
    "    def describe(self):\n",
    "        return f\"Create collation {self.name}\"\n",
    "\n",
    "    @property\n",
    "    def migration_name_fragment(self):\n",
    "        return \"create_collation_%s\" % self.name.lower()"
   ]
  },
  {
   "cell_type": "markdown",
   "metadata": {},
   "source": []
  },
  {
   "cell_type": "code",
   "execution_count": null,
   "metadata": {},
   "outputs": [],
   "source": [
    "class RemoveCollation(CollationOperation):\n",
    "    \"\"\"Remove a collation.\"\"\"\n",
    "\n",
    "    def database_forwards(self, app_label, schema_editor, from_state, to_state):\n",
    "        if schema_editor.connection.vendor != \"postgresql\" or not router.allow_migrate(\n",
    "            schema_editor.connection.alias, app_label\n",
    "        ):\n",
    "            return\n",
    "        self.remove_collation(schema_editor)\n",
    "\n",
    "    def database_backwards(self, app_label, schema_editor, from_state, to_state):\n",
    "        if not router.allow_migrate(schema_editor.connection.alias, app_label):\n",
    "            return\n",
    "        self.create_collation(schema_editor)\n",
    "\n",
    "    def describe(self):\n",
    "        return f\"Remove collation {self.name}\"\n",
    "\n",
    "    @property\n",
    "    def migration_name_fragment(self):\n",
    "        return \"remove_collation_%s\" % self.name.lower()"
   ]
  },
  {
   "cell_type": "markdown",
   "metadata": {},
   "source": []
  },
  {
   "cell_type": "code",
   "execution_count": null,
   "metadata": {},
   "outputs": [],
   "source": [
    "class AddConstraintNotValid(AddConstraint):\n",
    "    \"\"\"\n",
    "    Add a table constraint without enforcing validation, using PostgreSQL's\n",
    "    NOT VALID syntax.\n",
    "    \"\"\"\n",
    "\n",
    "    def __init__(self, model_name, constraint):\n",
    "        if not isinstance(constraint, CheckConstraint):\n",
    "            raise TypeError(\n",
    "                \"AddConstraintNotValid.constraint must be a check constraint.\"\n",
    "            )\n",
    "        super().__init__(model_name, constraint)\n",
    "\n",
    "    def describe(self):\n",
    "        return \"Create not valid constraint %s on model %s\" % (\n",
    "            self.constraint.name,\n",
    "            self.model_name,\n",
    "        )\n",
    "\n",
    "    def database_forwards(self, app_label, schema_editor, from_state, to_state):\n",
    "        model = from_state.apps.get_model(app_label, self.model_name)\n",
    "        if self.allow_migrate_model(schema_editor.connection.alias, model):\n",
    "            constraint_sql = self.constraint.create_sql(model, schema_editor)\n",
    "            if constraint_sql:\n",
    "                # Constraint.create_sql returns interpolated SQL which makes\n",
    "                # params=None a necessity to avoid escaping attempts on\n",
    "                # execution.\n",
    "                schema_editor.execute(str(constraint_sql) + \" NOT VALID\", params=None)\n",
    "\n",
    "    @property\n",
    "    def migration_name_fragment(self):\n",
    "        return super().migration_name_fragment + \"_not_valid\""
   ]
  },
  {
   "cell_type": "markdown",
   "metadata": {},
   "source": []
  },
  {
   "cell_type": "code",
   "execution_count": null,
   "metadata": {},
   "outputs": [],
   "source": [
    "class ValidateConstraint(Operation):\n",
    "    \"\"\"Validate a table NOT VALID constraint.\"\"\"\n",
    "\n",
    "    def __init__(self, model_name, name):\n",
    "        self.model_name = model_name\n",
    "        self.name = name\n",
    "\n",
    "    def describe(self):\n",
    "        return \"Validate constraint %s on model %s\" % (self.name, self.model_name)\n",
    "\n",
    "    def database_forwards(self, app_label, schema_editor, from_state, to_state):\n",
    "        model = from_state.apps.get_model(app_label, self.model_name)\n",
    "        if self.allow_migrate_model(schema_editor.connection.alias, model):\n",
    "            schema_editor.execute(\n",
    "                \"ALTER TABLE %s VALIDATE CONSTRAINT %s\"\n",
    "                % (\n",
    "                    schema_editor.quote_name(model._meta.db_table),\n",
    "                    schema_editor.quote_name(self.name),\n",
    "                )\n",
    "            )\n",
    "\n",
    "    def database_backwards(self, app_label, schema_editor, from_state, to_state):\n",
    "        # PostgreSQL does not provide a way to make a constraint invalid.\n",
    "        pass\n",
    "\n",
    "    def state_forwards(self, app_label, state):\n",
    "        pass\n",
    "\n",
    "    @property\n",
    "    def migration_name_fragment(self):\n",
    "        return \"%s_validate_%s\" % (self.model_name.lower(), self.name.lower())\n",
    "\n",
    "    def deconstruct(self):\n",
    "        return (\n",
    "            self.__class__.__name__,\n",
    "            [],\n",
    "            {\n",
    "                \"model_name\": self.model_name,\n",
    "                \"name\": self.name,\n",
    "            },\n",
    "        )"
   ]
  },
  {
   "cell_type": "markdown",
   "metadata": {},
   "source": []
  }
 ],
 "metadata": {
  "language_info": {
   "name": "python"
  }
 },
 "nbformat": 4,
 "nbformat_minor": 2
}