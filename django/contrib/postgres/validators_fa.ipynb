{
    "cells": [
        {
            "cell_type": "code",
            "execution_count": null,
            "metadata": {},
            "outputs": [],
            "source": [
                "from django.core.exceptions import ValidationError\n",
                "from django.core.validators import (\n",
                "    MaxLengthValidator,\n",
                "    MaxValueValidator,\n",
                "    MinLengthValidator,\n",
                "    MinValueValidator,\n",
                ")\n",
                "from django.utils.deconstruct import deconstructible\n",
                "from django.utils.translation import gettext_lazy as _\n",
                "from django.utils.translation import ngettext_lazy\n"
            ]
        },
        {
            "cell_type": "markdown",
            "metadata": {},
            "source": []
        },
        {
            "cell_type": "code",
            "execution_count": null,
            "metadata": {},
            "outputs": [],
            "source": [
                "class ArrayMaxLengthValidator(MaxLengthValidator):\n",
                "    message = ngettext_lazy(\n",
                "        \"List contains %(show_value)d item, it should contain no more than \"\n",
                "        \"%(limit_value)d.\",\n",
                "        \"List contains %(show_value)d items, it should contain no more than \"\n",
                "        \"%(limit_value)d.\",\n",
                "        \"show_value\",\n",
                "    )\n"
            ]
        },
        {
            "cell_type": "markdown",
            "metadata": {},
            "source": []
        },
        {
            "cell_type": "code",
            "execution_count": null,
            "metadata": {},
            "outputs": [],
            "source": [
                "class ArrayMinLengthValidator(MinLengthValidator):\n",
                "    message = ngettext_lazy(\n",
                "        \"List contains %(show_value)d item, it should contain no fewer than \"\n",
                "        \"%(limit_value)d.\",\n",
                "        \"List contains %(show_value)d items, it should contain no fewer than \"\n",
                "        \"%(limit_value)d.\",\n",
                "        \"show_value\",\n",
                "    )\n"
            ]
        },
        {
            "cell_type": "markdown",
            "metadata": {},
            "source": []
        },
        {
            "cell_type": "code",
            "execution_count": null,
            "metadata": {},
            "outputs": [],
            "source": [
                "@deconstructible\n",
                "class KeysValidator:\n",
                "    \"\"\"A validator designed for HStore to require/restrict keys.\"\"\"\n",
                "\n",
                "    messages = {\n",
                "        \"missing_keys\": _(\"Some keys were missing: %(keys)s\"),\n",
                "        \"extra_keys\": _(\"Some unknown keys were provided: %(keys)s\"),\n",
                "    }\n",
                "    strict = False\n",
                "\n",
                "    def __init__(self, keys, strict=False, messages=None):\n",
                "        self.keys = set(keys)\n",
                "        self.strict = strict\n",
                "        if messages is not None:\n",
                "            self.messages = {**self.messages, **messages}\n",
                "\n",
                "    def __call__(self, value):\n",
                "        keys = set(value)\n",
                "        missing_keys = self.keys - keys\n",
                "        if missing_keys:\n",
                "            raise ValidationError(\n",
                "                self.messages[\"missing_keys\"],\n",
                "                code=\"missing_keys\",\n",
                "                params={\"keys\": \", \".join(missing_keys)},\n",
                "            )\n",
                "        if self.strict:\n",
                "            extra_keys = keys - self.keys\n",
                "            if extra_keys:\n",
                "                raise ValidationError(\n",
                "                    self.messages[\"extra_keys\"],\n",
                "                    code=\"extra_keys\",\n",
                "                    params={\"keys\": \", \".join(extra_keys)},\n",
                "                )\n",
                "\n",
                "    def __eq__(self, other):\n",
                "        return (\n",
                "            isinstance(other, self.__class__)\n",
                "            and self.keys == other.keys\n",
                "            and self.messages == other.messages\n",
                "            and self.strict == other.strict\n",
                "        )\n"
            ]
        },
        {
            "cell_type": "markdown",
            "metadata": {},
            "source": []
        },
        {
            "cell_type": "code",
            "execution_count": null,
            "metadata": {},
            "outputs": [],
            "source": [
                "class RangeMaxValueValidator(MaxValueValidator):\n",
                "    def compare(self, a, b):\n",
                "        return a.upper is None or a.upper > b\n",
                "\n",
                "    message = _(\n",
                "        \"Ensure that the upper bound of the range is not greater than %(limit_value)s.\"\n",
                "    )\n"
            ]
        },
        {
            "cell_type": "markdown",
            "metadata": {},
            "source": []
        },
        {
            "cell_type": "code",
            "execution_count": null,
            "metadata": {},
            "outputs": [],
            "source": [
                "class RangeMinValueValidator(MinValueValidator):\n",
                "    def compare(self, a, b):\n",
                "        return a.lower is None or a.lower < b\n",
                "\n",
                "    message = _(\n",
                "        \"Ensure that the lower bound of the range is not less than %(limit_value)s.\"\n",
                "    )\n",
                "\n"
            ]
        },
        {
            "cell_type": "markdown",
            "metadata": {},
            "source": []
        }
    ],
    "metadata": {
        "language_info": {
            "name": "python"
        }
    },
    "nbformat": 4,
    "nbformat_minor": 2
}