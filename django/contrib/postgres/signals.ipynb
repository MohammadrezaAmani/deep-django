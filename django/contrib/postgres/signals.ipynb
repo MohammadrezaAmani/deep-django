{
 "cells": [
  {
   "cell_type": "code",
   "execution_count": null,
   "metadata": {},
   "outputs": [],
   "source": [
    "import functools\n",
    "\n",
    "from django.db import connections\n",
    "from django.db.backends.base.base import NO_DB_ALIAS\n",
    "from django.db.backends.postgresql.psycopg_any import is_psycopg3"
   ]
  },
  {
   "cell_type": "markdown",
   "metadata": {},
   "source": []
  },
  {
   "cell_type": "code",
   "execution_count": null,
   "metadata": {},
   "outputs": [],
   "source": [
    "def get_type_oids(connection_alias, type_name):\n",
    "    with connections[connection_alias].cursor() as cursor:\n",
    "        cursor.execute(\n",
    "            \"SELECT oid, typarray FROM pg_type WHERE typname = %s\", (type_name,)\n",
    "        )\n",
    "        oids = []\n",
    "        array_oids = []\n",
    "        for row in cursor:\n",
    "            oids.append(row[0])\n",
    "            array_oids.append(row[1])\n",
    "        return tuple(oids), tuple(array_oids)"
   ]
  },
  {
   "cell_type": "markdown",
   "metadata": {},
   "source": []
  },
  {
   "cell_type": "code",
   "execution_count": null,
   "metadata": {},
   "outputs": [],
   "source": [
    "@functools.lru_cache\n",
    "def get_hstore_oids(connection_alias):\n",
    "    \"\"\"Return hstore and hstore array OIDs.\"\"\"\n",
    "    return get_type_oids(connection_alias, \"hstore\")"
   ]
  },
  {
   "cell_type": "markdown",
   "metadata": {},
   "source": []
  },
  {
   "cell_type": "code",
   "execution_count": null,
   "metadata": {},
   "outputs": [],
   "source": [
    "@functools.lru_cache\n",
    "def get_citext_oids(connection_alias):\n",
    "    \"\"\"Return citext and citext array OIDs.\"\"\"\n",
    "    return get_type_oids(connection_alias, \"citext\")"
   ]
  },
  {
   "cell_type": "markdown",
   "metadata": {},
   "source": []
  },
  {
   "cell_type": "code",
   "execution_count": null,
   "metadata": {},
   "outputs": [],
   "source": [
    "if is_psycopg3:\n",
    "    from psycopg.types import TypeInfo, hstore\n",
    "\n",
    "    def register_type_handlers(connection, **kwargs):\n",
    "        if connection.vendor != \"postgresql\" or connection.alias == NO_DB_ALIAS:\n",
    "            return\n",
    "\n",
    "        oids, array_oids = get_hstore_oids(connection.alias)\n",
    "        for oid, array_oid in zip(oids, array_oids):\n",
    "            ti = TypeInfo(\"hstore\", oid, array_oid)\n",
    "            hstore.register_hstore(ti, connection.connection)\n",
    "\n",
    "        _, citext_oids = get_citext_oids(connection.alias)\n",
    "        for array_oid in citext_oids:\n",
    "            ti = TypeInfo(\"citext\", 0, array_oid)\n",
    "            ti.register(connection.connection)\n",
    "\n",
    "else:\n",
    "    import psycopg2\n",
    "    from psycopg2.extras import register_hstore\n",
    "\n",
    "    def register_type_handlers(connection, **kwargs):\n",
    "        if connection.vendor != \"postgresql\" or connection.alias == NO_DB_ALIAS:\n",
    "            return\n",
    "\n",
    "        oids, array_oids = get_hstore_oids(connection.alias)\n",
    "        # Don't register handlers when hstore is not available on the database.\n",
    "        #\n",
    "        # If someone tries to create an hstore field it will error there. This is\n",
    "        # necessary as someone may be using PSQL without extensions installed but\n",
    "        # be using other features of contrib.postgres.\n",
    "        #\n",
    "        # This is also needed in order to create the connection in order to install\n",
    "        # the hstore extension.\n",
    "        if oids:\n",
    "            register_hstore(\n",
    "                connection.connection, globally=True, oid=oids, array_oid=array_oids\n",
    "            )\n",
    "\n",
    "        oids, citext_oids = get_citext_oids(connection.alias)\n",
    "        # Don't register handlers when citext is not available on the database.\n",
    "        #\n",
    "        # The same comments in the above call to register_hstore() also apply here.\n",
    "        if oids:\n",
    "            array_type = psycopg2.extensions.new_array_type(\n",
    "                citext_oids, \"citext[]\", psycopg2.STRING\n",
    "            )\n",
    "            psycopg2.extensions.register_type(array_type, None)"
   ]
  },
  {
   "cell_type": "markdown",
   "metadata": {},
   "source": []
  }
 ],
 "metadata": {
  "language_info": {
   "name": "python"
  }
 },
 "nbformat": 4,
 "nbformat_minor": 2
}