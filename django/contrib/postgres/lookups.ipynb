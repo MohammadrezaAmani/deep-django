{
    "cells": [
        {
            "cell_type": "code",
            "execution_count": null,
            "metadata": {},
            "outputs": [],
            "source": [
                "from django.db.models import Transform\n",
                "from django.db.models.lookups import PostgresOperatorLookup\n",
                "from django.db.models.sql.query import Query\n",
                "\n",
                "from .search import SearchVector, SearchVectorExact, SearchVectorField\n"
            ]
        },
        {
            "cell_type": "markdown",
            "metadata": {},
            "source": []
        },
        {
            "cell_type": "code",
            "execution_count": null,
            "metadata": {},
            "outputs": [],
            "source": [
                "class DataContains(PostgresOperatorLookup):\n",
                "    lookup_name = \"contains\"\n",
                "    postgres_operator = \"@>\"\n"
            ]
        },
        {
            "cell_type": "markdown",
            "metadata": {},
            "source": []
        },
        {
            "cell_type": "code",
            "execution_count": null,
            "metadata": {},
            "outputs": [],
            "source": [
                "class ContainedBy(PostgresOperatorLookup):\n",
                "    lookup_name = \"contained_by\"\n",
                "    postgres_operator = \"<@\"\n"
            ]
        },
        {
            "cell_type": "markdown",
            "metadata": {},
            "source": []
        },
        {
            "cell_type": "code",
            "execution_count": null,
            "metadata": {},
            "outputs": [],
            "source": [
                "class Overlap(PostgresOperatorLookup):\n",
                "    lookup_name = \"overlap\"\n",
                "    postgres_operator = \"&&\"\n",
                "\n",
                "    def get_prep_lookup(self):\n",
                "        from .expressions import ArraySubquery\n",
                "\n",
                "        if isinstance(self.rhs, Query):\n",
                "            self.rhs = ArraySubquery(self.rhs)\n",
                "        return super().get_prep_lookup()\n"
            ]
        },
        {
            "cell_type": "markdown",
            "metadata": {},
            "source": []
        },
        {
            "cell_type": "code",
            "execution_count": null,
            "metadata": {},
            "outputs": [],
            "source": [
                "class HasKey(PostgresOperatorLookup):\n",
                "    lookup_name = \"has_key\"\n",
                "    postgres_operator = \"?\"\n",
                "    prepare_rhs = False\n"
            ]
        },
        {
            "cell_type": "markdown",
            "metadata": {},
            "source": []
        },
        {
            "cell_type": "code",
            "execution_count": null,
            "metadata": {},
            "outputs": [],
            "source": [
                "class HasKeys(PostgresOperatorLookup):\n",
                "    lookup_name = \"has_keys\"\n",
                "    postgres_operator = \"?&\"\n",
                "\n",
                "    def get_prep_lookup(self):\n",
                "        return [str(item) for item in self.rhs]\n"
            ]
        },
        {
            "cell_type": "markdown",
            "metadata": {},
            "source": []
        },
        {
            "cell_type": "code",
            "execution_count": null,
            "metadata": {},
            "outputs": [],
            "source": [
                "class HasAnyKeys(HasKeys):\n",
                "    lookup_name = \"has_any_keys\"\n",
                "    postgres_operator = \"?|\"\n"
            ]
        },
        {
            "cell_type": "markdown",
            "metadata": {},
            "source": []
        },
        {
            "cell_type": "code",
            "execution_count": null,
            "metadata": {},
            "outputs": [],
            "source": [
                "class Unaccent(Transform):\n",
                "    bilateral = True\n",
                "    lookup_name = \"unaccent\"\n",
                "    function = \"UNACCENT\"\n"
            ]
        },
        {
            "cell_type": "markdown",
            "metadata": {},
            "source": []
        },
        {
            "cell_type": "code",
            "execution_count": null,
            "metadata": {},
            "outputs": [],
            "source": [
                "class SearchLookup(SearchVectorExact):\n",
                "    lookup_name = \"search\"\n",
                "\n",
                "    def process_lhs(self, qn, connection):\n",
                "        if not isinstance(self.lhs.output_field, SearchVectorField):\n",
                "            config = getattr(self.rhs, \"config\", None)\n",
                "            self.lhs = SearchVector(self.lhs, config=config)\n",
                "        lhs, lhs_params = super().process_lhs(qn, connection)\n",
                "        return lhs, lhs_params\n"
            ]
        },
        {
            "cell_type": "markdown",
            "metadata": {},
            "source": []
        },
        {
            "cell_type": "code",
            "execution_count": null,
            "metadata": {},
            "outputs": [],
            "source": [
                "class TrigramSimilar(PostgresOperatorLookup):\n",
                "    lookup_name = \"trigram_similar\"\n",
                "    postgres_operator = \"%%\"\n"
            ]
        },
        {
            "cell_type": "markdown",
            "metadata": {},
            "source": []
        },
        {
            "cell_type": "code",
            "execution_count": null,
            "metadata": {},
            "outputs": [],
            "source": [
                "class TrigramWordSimilar(PostgresOperatorLookup):\n",
                "    lookup_name = \"trigram_word_similar\"\n",
                "    postgres_operator = \"%%>\"\n"
            ]
        },
        {
            "cell_type": "markdown",
            "metadata": {},
            "source": []
        },
        {
            "cell_type": "code",
            "execution_count": null,
            "metadata": {},
            "outputs": [],
            "source": [
                "class TrigramStrictWordSimilar(PostgresOperatorLookup):\n",
                "    lookup_name = \"trigram_strict_word_similar\"\n",
                "    postgres_operator = \"%%>>\"\n",
                "\n"
            ]
        },
        {
            "cell_type": "markdown",
            "metadata": {},
            "source": []
        }
    ],
    "metadata": {
        "language_info": {
            "name": "python"
        }
    },
    "nbformat": 4,
    "nbformat_minor": 2
}