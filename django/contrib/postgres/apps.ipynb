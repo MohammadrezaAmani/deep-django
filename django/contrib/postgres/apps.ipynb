{
 "cells": [
  {
   "cell_type": "code",
   "execution_count": null,
   "metadata": {},
   "outputs": [],
   "source": [
    "from django.apps import AppConfig\n",
    "from django.core.signals import setting_changed\n",
    "from django.db import connections\n",
    "from django.db.backends.postgresql.psycopg_any import RANGE_TYPES\n",
    "from django.db.backends.signals import connection_created\n",
    "from django.db.migrations.writer import MigrationWriter\n",
    "from django.db.models import CharField, OrderBy, TextField\n",
    "from django.db.models.functions import Collate\n",
    "from django.db.models.indexes import IndexExpression\n",
    "from django.utils.translation import gettext_lazy as _\n",
    "\n",
    "from .indexes import OpClass\n",
    "from .lookups import (\n",
    "    SearchLookup,\n",
    "    TrigramSimilar,\n",
    "    TrigramStrictWordSimilar,\n",
    "    TrigramWordSimilar,\n",
    "    Unaccent,\n",
    ")\n",
    "from .serializers import RangeSerializer\n",
    "from .signals import register_type_handlers"
   ]
  },
  {
   "cell_type": "markdown",
   "metadata": {},
   "source": []
  },
  {
   "cell_type": "code",
   "execution_count": null,
   "metadata": {},
   "outputs": [],
   "source": [
    "def uninstall_if_needed(setting, value, enter, **kwargs):\n",
    "    \"\"\"\n",
    "    Undo the effects of PostgresConfig.ready() when django.contrib.postgres\n",
    "    is \"uninstalled\" by override_settings().\n",
    "    \"\"\"\n",
    "    if (\n",
    "        not enter\n",
    "        and setting == \"INSTALLED_APPS\"\n",
    "        and \"django.contrib.postgres\" not in set(value)\n",
    "    ):\n",
    "        connection_created.disconnect(register_type_handlers)\n",
    "        CharField._unregister_lookup(Unaccent)\n",
    "        TextField._unregister_lookup(Unaccent)\n",
    "        CharField._unregister_lookup(SearchLookup)\n",
    "        TextField._unregister_lookup(SearchLookup)\n",
    "        CharField._unregister_lookup(TrigramSimilar)\n",
    "        TextField._unregister_lookup(TrigramSimilar)\n",
    "        CharField._unregister_lookup(TrigramWordSimilar)\n",
    "        TextField._unregister_lookup(TrigramWordSimilar)\n",
    "        CharField._unregister_lookup(TrigramStrictWordSimilar)\n",
    "        TextField._unregister_lookup(TrigramStrictWordSimilar)\n",
    "        # Disconnect this receiver until the next time this app is installed\n",
    "        # and ready() connects it again to prevent unnecessary processing on\n",
    "        # each setting change.\n",
    "        setting_changed.disconnect(uninstall_if_needed)\n",
    "        MigrationWriter.unregister_serializer(RANGE_TYPES)"
   ]
  },
  {
   "cell_type": "markdown",
   "metadata": {},
   "source": []
  },
  {
   "cell_type": "code",
   "execution_count": null,
   "metadata": {},
   "outputs": [],
   "source": [
    "class PostgresConfig(AppConfig):\n",
    "    name = \"django.contrib.postgres\"\n",
    "    verbose_name = _(\"PostgreSQL extensions\")\n",
    "\n",
    "    def ready(self):\n",
    "        setting_changed.connect(uninstall_if_needed)\n",
    "        # Connections may already exist before we are called.\n",
    "        for conn in connections.all(initialized_only=True):\n",
    "            if conn.vendor == \"postgresql\":\n",
    "                conn.introspection.data_types_reverse.update(\n",
    "                    {\n",
    "                        3904: \"django.contrib.postgres.fields.IntegerRangeField\",\n",
    "                        3906: \"django.contrib.postgres.fields.DecimalRangeField\",\n",
    "                        3910: \"django.contrib.postgres.fields.DateTimeRangeField\",\n",
    "                        3912: \"django.contrib.postgres.fields.DateRangeField\",\n",
    "                        3926: \"django.contrib.postgres.fields.BigIntegerRangeField\",\n",
    "                    }\n",
    "                )\n",
    "                if conn.connection is not None:\n",
    "                    register_type_handlers(conn)\n",
    "        connection_created.connect(register_type_handlers)\n",
    "        CharField.register_lookup(Unaccent)\n",
    "        TextField.register_lookup(Unaccent)\n",
    "        CharField.register_lookup(SearchLookup)\n",
    "        TextField.register_lookup(SearchLookup)\n",
    "        CharField.register_lookup(TrigramSimilar)\n",
    "        TextField.register_lookup(TrigramSimilar)\n",
    "        CharField.register_lookup(TrigramWordSimilar)\n",
    "        TextField.register_lookup(TrigramWordSimilar)\n",
    "        CharField.register_lookup(TrigramStrictWordSimilar)\n",
    "        TextField.register_lookup(TrigramStrictWordSimilar)\n",
    "        MigrationWriter.register_serializer(RANGE_TYPES, RangeSerializer)\n",
    "        IndexExpression.register_wrappers(OrderBy, OpClass, Collate)"
   ]
  },
  {
   "cell_type": "markdown",
   "metadata": {},
   "source": []
  }
 ],
 "metadata": {
  "language_info": {
   "name": "python"
  }
 },
 "nbformat": 4,
 "nbformat_minor": 2
}