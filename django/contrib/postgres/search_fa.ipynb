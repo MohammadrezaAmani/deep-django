{
 "cells": [
  {
   "cell_type": "code",
   "execution_count": null,
   "metadata": {},
   "outputs": [],
   "source": [
    "from django.db.models import (\n",
    "    CharField,\n",
    "    Expression,\n",
    "    Field,\n",
    "    FloatField,\n",
    "    Func,\n",
    "    Lookup,\n",
    "    TextField,\n",
    "    Value,\n",
    ")\n",
    "from django.db.models.expressions import CombinedExpression, register_combinable_fields\n",
    "from django.db.models.functions import Cast, Coalesce"
   ]
  },
  {
   "cell_type": "markdown",
   "metadata": {},
   "source": []
  },
  {
   "cell_type": "code",
   "execution_count": null,
   "metadata": {},
   "outputs": [],
   "source": [
    "class SearchVectorExact(Lookup):\n",
    "    lookup_name = \"exact\"\n",
    "\n",
    "    def process_rhs(self, qn, connection):\n",
    "        if not isinstance(self.rhs, (SearchQuery, CombinedSearchQuery)):\n",
    "            config = getattr(self.lhs, \"config\", None)\n",
    "            self.rhs = SearchQuery(self.rhs, config=config)\n",
    "        rhs, rhs_params = super().process_rhs(qn, connection)\n",
    "        return rhs, rhs_params\n",
    "\n",
    "    def as_sql(self, qn, connection):\n",
    "        lhs, lhs_params = self.process_lhs(qn, connection)\n",
    "        rhs, rhs_params = self.process_rhs(qn, connection)\n",
    "        params = lhs_params + rhs_params\n",
    "        return \"%s @@ %s\" % (lhs, rhs), params"
   ]
  },
  {
   "cell_type": "markdown",
   "metadata": {},
   "source": []
  },
  {
   "cell_type": "code",
   "execution_count": null,
   "metadata": {},
   "outputs": [],
   "source": [
    "class SearchVectorField(Field):\n",
    "    def db_type(self, connection):\n",
    "        return \"tsvector\""
   ]
  },
  {
   "cell_type": "markdown",
   "metadata": {},
   "source": []
  },
  {
   "cell_type": "code",
   "execution_count": null,
   "metadata": {},
   "outputs": [],
   "source": [
    "class SearchQueryField(Field):\n",
    "    def db_type(self, connection):\n",
    "        return \"tsquery\""
   ]
  },
  {
   "cell_type": "markdown",
   "metadata": {},
   "source": []
  },
  {
   "cell_type": "code",
   "execution_count": null,
   "metadata": {},
   "outputs": [],
   "source": [
    "class _Float4Field(Field):\n",
    "    def db_type(self, connection):\n",
    "        return \"float4\""
   ]
  },
  {
   "cell_type": "markdown",
   "metadata": {},
   "source": []
  },
  {
   "cell_type": "code",
   "execution_count": null,
   "metadata": {},
   "outputs": [],
   "source": [
    "class SearchConfig(Expression):\n",
    "    def __init__(self, config):\n",
    "        super().__init__()\n",
    "        if not hasattr(config, \"resolve_expression\"):\n",
    "            config = Value(config)\n",
    "        self.config = config\n",
    "\n",
    "    @classmethod\n",
    "    def from_parameter(cls, config):\n",
    "        if config is None or isinstance(config, cls):\n",
    "            return config\n",
    "        return cls(config)\n",
    "\n",
    "    def get_source_expressions(self):\n",
    "        return [self.config]\n",
    "\n",
    "    def set_source_expressions(self, exprs):\n",
    "        (self.config,) = exprs\n",
    "\n",
    "    def as_sql(self, compiler, connection):\n",
    "        sql, params = compiler.compile(self.config)\n",
    "        return \"%s::regconfig\" % sql, params"
   ]
  },
  {
   "cell_type": "markdown",
   "metadata": {},
   "source": []
  },
  {
   "cell_type": "code",
   "execution_count": null,
   "metadata": {},
   "outputs": [],
   "source": [
    "class SearchVectorCombinable:\n",
    "    ADD = \"||\"\n",
    "\n",
    "    def _combine(self, other, connector, reversed):\n",
    "        if not isinstance(other, SearchVectorCombinable):\n",
    "            raise TypeError(\n",
    "                \"SearchVector can only be combined with other SearchVector \"\n",
    "                \"instances, got %s.\" % type(other).__name__\n",
    "            )\n",
    "        if reversed:\n",
    "            return CombinedSearchVector(other, connector, self, self.config)\n",
    "        return CombinedSearchVector(self, connector, other, self.config)"
   ]
  },
  {
   "cell_type": "markdown",
   "metadata": {},
   "source": []
  },
  {
   "cell_type": "code",
   "execution_count": null,
   "metadata": {},
   "outputs": [],
   "source": [
    "register_combinable_fields(\n",
    "    SearchVectorField, SearchVectorCombinable.ADD, SearchVectorField, SearchVectorField\n",
    ")"
   ]
  },
  {
   "cell_type": "markdown",
   "metadata": {},
   "source": []
  },
  {
   "cell_type": "code",
   "execution_count": null,
   "metadata": {},
   "outputs": [],
   "source": [
    "class SearchVector(SearchVectorCombinable, Func):\n",
    "    function = \"to_tsvector\"\n",
    "    arg_joiner = \" || ' ' || \"\n",
    "    output_field = SearchVectorField()\n",
    "\n",
    "    def __init__(self, *expressions, config=None, weight=None):\n",
    "        super().__init__(*expressions)\n",
    "        self.config = SearchConfig.from_parameter(config)\n",
    "        if weight is not None and not hasattr(weight, \"resolve_expression\"):\n",
    "            weight = Value(weight)\n",
    "        self.weight = weight\n",
    "\n",
    "    def resolve_expression(\n",
    "        self, query=None, allow_joins=True, reuse=None, summarize=False, for_save=False\n",
    "    ):\n",
    "        resolved = super().resolve_expression(\n",
    "            query, allow_joins, reuse, summarize, for_save\n",
    "        )\n",
    "        if self.config:\n",
    "            resolved.config = self.config.resolve_expression(\n",
    "                query, allow_joins, reuse, summarize, for_save\n",
    "            )\n",
    "        return resolved\n",
    "\n",
    "    def as_sql(self, compiler, connection, function=None, template=None):\n",
    "        clone = self.copy()\n",
    "        clone.set_source_expressions(\n",
    "            [\n",
    "                Coalesce(\n",
    "                    (\n",
    "                        expression\n",
    "                        if isinstance(expression.output_field, (CharField, TextField))\n",
    "                        else Cast(expression, TextField())\n",
    "                    ),\n",
    "                    Value(\"\"),\n",
    "                )\n",
    "                for expression in clone.get_source_expressions()\n",
    "            ]\n",
    "        )\n",
    "        config_sql = None\n",
    "        config_params = []\n",
    "        if template is None:\n",
    "            if clone.config:\n",
    "                config_sql, config_params = compiler.compile(clone.config)\n",
    "                template = \"%(function)s(%(config)s, %(expressions)s)\"\n",
    "            else:\n",
    "                template = clone.template\n",
    "        sql, params = super(SearchVector, clone).as_sql(\n",
    "            compiler,\n",
    "            connection,\n",
    "            function=function,\n",
    "            template=template,\n",
    "            config=config_sql,\n",
    "        )\n",
    "        extra_params = []\n",
    "        if clone.weight:\n",
    "            weight_sql, extra_params = compiler.compile(clone.weight)\n",
    "            sql = \"setweight({}, {})\".format(sql, weight_sql)\n",
    "\n",
    "        return sql, config_params + params + extra_params"
   ]
  },
  {
   "cell_type": "markdown",
   "metadata": {},
   "source": []
  },
  {
   "cell_type": "code",
   "execution_count": null,
   "metadata": {},
   "outputs": [],
   "source": [
    "class CombinedSearchVector(SearchVectorCombinable, CombinedExpression):\n",
    "    def __init__(self, lhs, connector, rhs, config, output_field=None):\n",
    "        self.config = config\n",
    "        super().__init__(lhs, connector, rhs, output_field)"
   ]
  },
  {
   "cell_type": "markdown",
   "metadata": {},
   "source": []
  },
  {
   "cell_type": "code",
   "execution_count": null,
   "metadata": {},
   "outputs": [],
   "source": [
    "class SearchQueryCombinable:\n",
    "    BITAND = \"&&\"\n",
    "    BITOR = \"||\"\n",
    "\n",
    "    def _combine(self, other, connector, reversed):\n",
    "        if not isinstance(other, SearchQueryCombinable):\n",
    "            raise TypeError(\n",
    "                \"SearchQuery can only be combined with other SearchQuery \"\n",
    "                \"instances, got %s.\" % type(other).__name__\n",
    "            )\n",
    "        if reversed:\n",
    "            return CombinedSearchQuery(other, connector, self, self.config)\n",
    "        return CombinedSearchQuery(self, connector, other, self.config)\n",
    "\n",
    "    # On Combinable, these are not implemented to reduce confusion with Q. In\n",
    "    # this case we are actually (ab)using them to do logical combination so\n",
    "    # it's consistent with other usage in Django.\n",
    "    def __or__(self, other):\n",
    "        return self._combine(other, self.BITOR, False)\n",
    "\n",
    "    def __ror__(self, other):\n",
    "        return self._combine(other, self.BITOR, True)\n",
    "\n",
    "    def __and__(self, other):\n",
    "        return self._combine(other, self.BITAND, False)\n",
    "\n",
    "    def __rand__(self, other):\n",
    "        return self._combine(other, self.BITAND, True)"
   ]
  },
  {
   "cell_type": "markdown",
   "metadata": {},
   "source": []
  },
  {
   "cell_type": "code",
   "execution_count": null,
   "metadata": {},
   "outputs": [],
   "source": [
    "class SearchQuery(SearchQueryCombinable, Func):\n",
    "    output_field = SearchQueryField()\n",
    "    SEARCH_TYPES = {\n",
    "        \"plain\": \"plainto_tsquery\",\n",
    "        \"phrase\": \"phraseto_tsquery\",\n",
    "        \"raw\": \"to_tsquery\",\n",
    "        \"websearch\": \"websearch_to_tsquery\",\n",
    "    }\n",
    "\n",
    "    def __init__(\n",
    "        self,\n",
    "        value,\n",
    "        output_field=None,\n",
    "        *,\n",
    "        config=None,\n",
    "        invert=False,\n",
    "        search_type=\"plain\",\n",
    "    ):\n",
    "        self.function = self.SEARCH_TYPES.get(search_type)\n",
    "        if self.function is None:\n",
    "            raise ValueError(\"Unknown search_type argument '%s'.\" % search_type)\n",
    "        if not hasattr(value, \"resolve_expression\"):\n",
    "            value = Value(value)\n",
    "        expressions = (value,)\n",
    "        self.config = SearchConfig.from_parameter(config)\n",
    "        if self.config is not None:\n",
    "            expressions = (self.config,) + expressions\n",
    "        self.invert = invert\n",
    "        super().__init__(*expressions, output_field=output_field)\n",
    "\n",
    "    def as_sql(self, compiler, connection, function=None, template=None):\n",
    "        sql, params = super().as_sql(compiler, connection, function, template)\n",
    "        if self.invert:\n",
    "            sql = \"!!(%s)\" % sql\n",
    "        return sql, params\n",
    "\n",
    "    def __invert__(self):\n",
    "        clone = self.copy()\n",
    "        clone.invert = not self.invert\n",
    "        return clone\n",
    "\n",
    "    def __str__(self):\n",
    "        result = super().__str__()\n",
    "        return (\"~%s\" % result) if self.invert else result"
   ]
  },
  {
   "cell_type": "markdown",
   "metadata": {},
   "source": []
  },
  {
   "cell_type": "code",
   "execution_count": null,
   "metadata": {},
   "outputs": [],
   "source": [
    "class CombinedSearchQuery(SearchQueryCombinable, CombinedExpression):\n",
    "    def __init__(self, lhs, connector, rhs, config, output_field=None):\n",
    "        self.config = config\n",
    "        super().__init__(lhs, connector, rhs, output_field)\n",
    "\n",
    "    def __str__(self):\n",
    "        return \"(%s)\" % super().__str__()"
   ]
  },
  {
   "cell_type": "markdown",
   "metadata": {},
   "source": []
  },
  {
   "cell_type": "code",
   "execution_count": null,
   "metadata": {},
   "outputs": [],
   "source": [
    "class SearchRank(Func):\n",
    "    function = \"ts_rank\"\n",
    "    output_field = FloatField()\n",
    "\n",
    "    def __init__(\n",
    "        self,\n",
    "        vector,\n",
    "        query,\n",
    "        weights=None,\n",
    "        normalization=None,\n",
    "        cover_density=False,\n",
    "    ):\n",
    "        from .fields.array import ArrayField\n",
    "\n",
    "        if not hasattr(vector, \"resolve_expression\"):\n",
    "            vector = SearchVector(vector)\n",
    "        if not hasattr(query, \"resolve_expression\"):\n",
    "            query = SearchQuery(query)\n",
    "        expressions = (vector, query)\n",
    "        if weights is not None:\n",
    "            if not hasattr(weights, \"resolve_expression\"):\n",
    "                weights = Value(weights)\n",
    "            weights = Cast(weights, ArrayField(_Float4Field()))\n",
    "            expressions = (weights,) + expressions\n",
    "        if normalization is not None:\n",
    "            if not hasattr(normalization, \"resolve_expression\"):\n",
    "                normalization = Value(normalization)\n",
    "            expressions += (normalization,)\n",
    "        if cover_density:\n",
    "            self.function = \"ts_rank_cd\"\n",
    "        super().__init__(*expressions)"
   ]
  },
  {
   "cell_type": "markdown",
   "metadata": {},
   "source": []
  },
  {
   "cell_type": "code",
   "execution_count": null,
   "metadata": {},
   "outputs": [],
   "source": [
    "class SearchHeadline(Func):\n",
    "    function = \"ts_headline\"\n",
    "    template = \"%(function)s(%(expressions)s%(options)s)\"\n",
    "    output_field = TextField()\n",
    "\n",
    "    def __init__(\n",
    "        self,\n",
    "        expression,\n",
    "        query,\n",
    "        *,\n",
    "        config=None,\n",
    "        start_sel=None,\n",
    "        stop_sel=None,\n",
    "        max_words=None,\n",
    "        min_words=None,\n",
    "        short_word=None,\n",
    "        highlight_all=None,\n",
    "        max_fragments=None,\n",
    "        fragment_delimiter=None,\n",
    "    ):\n",
    "        if not hasattr(query, \"resolve_expression\"):\n",
    "            query = SearchQuery(query)\n",
    "        options = {\n",
    "            \"StartSel\": start_sel,\n",
    "            \"StopSel\": stop_sel,\n",
    "            \"MaxWords\": max_words,\n",
    "            \"MinWords\": min_words,\n",
    "            \"ShortWord\": short_word,\n",
    "            \"HighlightAll\": highlight_all,\n",
    "            \"MaxFragments\": max_fragments,\n",
    "            \"FragmentDelimiter\": fragment_delimiter,\n",
    "        }\n",
    "        self.options = {\n",
    "            option: value for option, value in options.items() if value is not None\n",
    "        }\n",
    "        expressions = (expression, query)\n",
    "        if config is not None:\n",
    "            config = SearchConfig.from_parameter(config)\n",
    "            expressions = (config,) + expressions\n",
    "        super().__init__(*expressions)\n",
    "\n",
    "    def as_sql(self, compiler, connection, function=None, template=None):\n",
    "        options_sql = \"\"\n",
    "        options_params = []\n",
    "        if self.options:\n",
    "            options_params.append(\n",
    "                \", \".join(\n",
    "                    connection.ops.compose_sql(f\"{option}=%s\", [value])\n",
    "                    for option, value in self.options.items()\n",
    "                )\n",
    "            )\n",
    "            options_sql = \", %s\"\n",
    "        sql, params = super().as_sql(\n",
    "            compiler,\n",
    "            connection,\n",
    "            function=function,\n",
    "            template=template,\n",
    "            options=options_sql,\n",
    "        )\n",
    "        return sql, params + options_params"
   ]
  },
  {
   "cell_type": "markdown",
   "metadata": {},
   "source": []
  },
  {
   "cell_type": "code",
   "execution_count": null,
   "metadata": {},
   "outputs": [],
   "source": [
    "SearchVectorField.register_lookup(SearchVectorExact)"
   ]
  },
  {
   "cell_type": "markdown",
   "metadata": {},
   "source": []
  },
  {
   "cell_type": "code",
   "execution_count": null,
   "metadata": {},
   "outputs": [],
   "source": [
    "class TrigramBase(Func):\n",
    "    output_field = FloatField()\n",
    "\n",
    "    def __init__(self, expression, string, **extra):\n",
    "        if not hasattr(string, \"resolve_expression\"):\n",
    "            string = Value(string)\n",
    "        super().__init__(expression, string, **extra)"
   ]
  },
  {
   "cell_type": "markdown",
   "metadata": {},
   "source": []
  },
  {
   "cell_type": "code",
   "execution_count": null,
   "metadata": {},
   "outputs": [],
   "source": [
    "class TrigramWordBase(Func):\n",
    "    output_field = FloatField()\n",
    "\n",
    "    def __init__(self, string, expression, **extra):\n",
    "        if not hasattr(string, \"resolve_expression\"):\n",
    "            string = Value(string)\n",
    "        super().__init__(string, expression, **extra)"
   ]
  },
  {
   "cell_type": "markdown",
   "metadata": {},
   "source": []
  },
  {
   "cell_type": "code",
   "execution_count": null,
   "metadata": {},
   "outputs": [],
   "source": [
    "class TrigramSimilarity(TrigramBase):\n",
    "    function = \"SIMILARITY\""
   ]
  },
  {
   "cell_type": "markdown",
   "metadata": {},
   "source": []
  },
  {
   "cell_type": "code",
   "execution_count": null,
   "metadata": {},
   "outputs": [],
   "source": [
    "class TrigramDistance(TrigramBase):\n",
    "    function = \"\"\n",
    "    arg_joiner = \" <-> \""
   ]
  },
  {
   "cell_type": "markdown",
   "metadata": {},
   "source": []
  },
  {
   "cell_type": "code",
   "execution_count": null,
   "metadata": {},
   "outputs": [],
   "source": [
    "class TrigramWordDistance(TrigramWordBase):\n",
    "    function = \"\"\n",
    "    arg_joiner = \" <<-> \""
   ]
  },
  {
   "cell_type": "markdown",
   "metadata": {},
   "source": []
  },
  {
   "cell_type": "code",
   "execution_count": null,
   "metadata": {},
   "outputs": [],
   "source": [
    "class TrigramStrictWordDistance(TrigramWordBase):\n",
    "    function = \"\"\n",
    "    arg_joiner = \" <<<-> \""
   ]
  },
  {
   "cell_type": "markdown",
   "metadata": {},
   "source": []
  },
  {
   "cell_type": "code",
   "execution_count": null,
   "metadata": {},
   "outputs": [],
   "source": [
    "class TrigramWordSimilarity(TrigramWordBase):\n",
    "    function = \"WORD_SIMILARITY\""
   ]
  },
  {
   "cell_type": "markdown",
   "metadata": {},
   "source": []
  },
  {
   "cell_type": "code",
   "execution_count": null,
   "metadata": {},
   "outputs": [],
   "source": [
    "class TrigramStrictWordSimilarity(TrigramWordBase):\n",
    "    function = \"STRICT_WORD_SIMILARITY\""
   ]
  },
  {
   "cell_type": "markdown",
   "metadata": {},
   "source": []
  }
 ],
 "metadata": {
  "language_info": {
   "name": "python"
  }
 },
 "nbformat": 4,
 "nbformat_minor": 2
}