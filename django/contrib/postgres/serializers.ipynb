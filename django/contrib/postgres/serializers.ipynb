{
    "cells": [
        {
            "cell_type": "code",
            "execution_count": null,
            "metadata": {},
            "outputs": [],
            "source": [
                "from django.db.migrations.serializer import BaseSerializer\n"
            ]
        },
        {
            "cell_type": "markdown",
            "metadata": {},
            "source": []
        },
        {
            "cell_type": "code",
            "execution_count": null,
            "metadata": {},
            "outputs": [],
            "source": [
                "class RangeSerializer(BaseSerializer):\n",
                "    def serialize(self):\n",
                "        module = self.value.__class__.__module__\n",
                "        # Ranges are implemented in psycopg2._range but the public import\n",
                "        # location is psycopg2.extras.\n",
                "        module = \"psycopg2.extras\" if module == \"psycopg2._range\" else module\n",
                "        return \"%s.%r\" % (module, self.value), {\"import %s\" % module}\n",
                "\n"
            ]
        },
        {
            "cell_type": "markdown",
            "metadata": {},
            "source": []
        }
    ],
    "metadata": {
        "language_info": {
            "name": "python"
        }
    },
    "nbformat": 4,
    "nbformat_minor": 2
}