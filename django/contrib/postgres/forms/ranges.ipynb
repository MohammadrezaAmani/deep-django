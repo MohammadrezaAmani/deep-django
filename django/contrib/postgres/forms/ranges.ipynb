{
    "cells": [
        {
            "cell_type": "code",
            "execution_count": null,
            "metadata": {},
            "outputs": [],
            "source": [
                "from django import forms\n",
                "from django.core import exceptions\n",
                "from django.db.backends.postgresql.psycopg_any import (\n",
                "    DateRange,\n",
                "    DateTimeTZRange,\n",
                "    NumericRange,\n",
                ")\n",
                "from django.forms.widgets import HiddenInput, MultiWidget\n",
                "from django.utils.translation import gettext_lazy as _\n",
                "\n",
                "__all__ = [\n",
                "    \"BaseRangeField\",\n",
                "    \"IntegerRangeField\",\n",
                "    \"DecimalRangeField\",\n",
                "    \"DateTimeRangeField\",\n",
                "    \"DateRangeField\",\n",
                "    \"HiddenRangeWidget\",\n",
                "    \"RangeWidget\",\n",
                "]\n"
            ]
        },
        {
            "cell_type": "markdown",
            "metadata": {},
            "source": []
        },
        {
            "cell_type": "code",
            "execution_count": null,
            "metadata": {},
            "outputs": [],
            "source": [
                "class RangeWidget(MultiWidget):\n",
                "    def __init__(self, base_widget, attrs=None):\n",
                "        widgets = (base_widget, base_widget)\n",
                "        super().__init__(widgets, attrs)\n",
                "\n",
                "    def decompress(self, value):\n",
                "        if value:\n",
                "            return (value.lower, value.upper)\n",
                "        return (None, None)\n"
            ]
        },
        {
            "cell_type": "markdown",
            "metadata": {},
            "source": []
        },
        {
            "cell_type": "code",
            "execution_count": null,
            "metadata": {},
            "outputs": [],
            "source": [
                "class HiddenRangeWidget(RangeWidget):\n",
                "    \"\"\"A widget that splits input into two <input type=\"hidden\"> inputs.\"\"\"\n",
                "\n",
                "    def __init__(self, attrs=None):\n",
                "        super().__init__(HiddenInput, attrs)\n"
            ]
        },
        {
            "cell_type": "markdown",
            "metadata": {},
            "source": []
        },
        {
            "cell_type": "code",
            "execution_count": null,
            "metadata": {},
            "outputs": [],
            "source": [
                "class BaseRangeField(forms.MultiValueField):\n",
                "    default_error_messages = {\n",
                "        \"invalid\": _(\"Enter two valid values.\"),\n",
                "        \"bound_ordering\": _(\n",
                "            \"The start of the range must not exceed the end of the range.\"\n",
                "        ),\n",
                "    }\n",
                "    hidden_widget = HiddenRangeWidget\n",
                "\n",
                "    def __init__(self, **kwargs):\n",
                "        if \"widget\" not in kwargs:\n",
                "            kwargs[\"widget\"] = RangeWidget(self.base_field.widget)\n",
                "        if \"fields\" not in kwargs:\n",
                "            kwargs[\"fields\"] = [\n",
                "                self.base_field(required=False),\n",
                "                self.base_field(required=False),\n",
                "            ]\n",
                "        kwargs.setdefault(\"required\", False)\n",
                "        kwargs.setdefault(\"require_all_fields\", False)\n",
                "        self.range_kwargs = {}\n",
                "        if default_bounds := kwargs.pop(\"default_bounds\", None):\n",
                "            self.range_kwargs = {\"bounds\": default_bounds}\n",
                "        super().__init__(**kwargs)\n",
                "\n",
                "    def prepare_value(self, value):\n",
                "        lower_base, upper_base = self.fields\n",
                "        if isinstance(value, self.range_type):\n",
                "            return [\n",
                "                lower_base.prepare_value(value.lower),\n",
                "                upper_base.prepare_value(value.upper),\n",
                "            ]\n",
                "        if value is None:\n",
                "            return [\n",
                "                lower_base.prepare_value(None),\n",
                "                upper_base.prepare_value(None),\n",
                "            ]\n",
                "        return value\n",
                "\n",
                "    def compress(self, values):\n",
                "        if not values:\n",
                "            return None\n",
                "        lower, upper = values\n",
                "        if lower is not None and upper is not None and lower > upper:\n",
                "            raise exceptions.ValidationError(\n",
                "                self.error_messages[\"bound_ordering\"],\n",
                "                code=\"bound_ordering\",\n",
                "            )\n",
                "        try:\n",
                "            range_value = self.range_type(lower, upper, **self.range_kwargs)\n",
                "        except TypeError:\n",
                "            raise exceptions.ValidationError(\n",
                "                self.error_messages[\"invalid\"],\n",
                "                code=\"invalid\",\n",
                "            )\n",
                "        else:\n",
                "            return range_value\n"
            ]
        },
        {
            "cell_type": "markdown",
            "metadata": {},
            "source": []
        },
        {
            "cell_type": "code",
            "execution_count": null,
            "metadata": {},
            "outputs": [],
            "source": [
                "class IntegerRangeField(BaseRangeField):\n",
                "    default_error_messages = {\"invalid\": _(\"Enter two whole numbers.\")}\n",
                "    base_field = forms.IntegerField\n",
                "    range_type = NumericRange\n"
            ]
        },
        {
            "cell_type": "markdown",
            "metadata": {},
            "source": []
        },
        {
            "cell_type": "code",
            "execution_count": null,
            "metadata": {},
            "outputs": [],
            "source": [
                "class DecimalRangeField(BaseRangeField):\n",
                "    default_error_messages = {\"invalid\": _(\"Enter two numbers.\")}\n",
                "    base_field = forms.DecimalField\n",
                "    range_type = NumericRange\n"
            ]
        },
        {
            "cell_type": "markdown",
            "metadata": {},
            "source": []
        },
        {
            "cell_type": "code",
            "execution_count": null,
            "metadata": {},
            "outputs": [],
            "source": [
                "class DateTimeRangeField(BaseRangeField):\n",
                "    default_error_messages = {\"invalid\": _(\"Enter two valid date/times.\")}\n",
                "    base_field = forms.DateTimeField\n",
                "    range_type = DateTimeTZRange\n"
            ]
        },
        {
            "cell_type": "markdown",
            "metadata": {},
            "source": []
        },
        {
            "cell_type": "code",
            "execution_count": null,
            "metadata": {},
            "outputs": [],
            "source": [
                "class DateRangeField(BaseRangeField):\n",
                "    default_error_messages = {\"invalid\": _(\"Enter two valid dates.\")}\n",
                "    base_field = forms.DateField\n",
                "    range_type = DateRange\n",
                "\n"
            ]
        },
        {
            "cell_type": "markdown",
            "metadata": {},
            "source": []
        }
    ],
    "metadata": {
        "language_info": {
            "name": "python"
        }
    },
    "nbformat": 4,
    "nbformat_minor": 2
}