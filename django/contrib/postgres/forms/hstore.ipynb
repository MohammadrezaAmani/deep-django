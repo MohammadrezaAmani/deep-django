{
    "cells": [
        {
            "cell_type": "code",
            "execution_count": null,
            "metadata": {},
            "outputs": [],
            "source": [
                "import json\n",
                "\n",
                "from django import forms\n",
                "from django.core.exceptions import ValidationError\n",
                "from django.utils.translation import gettext_lazy as _\n",
                "\n",
                "__all__ = [\"HStoreField\"]\n"
            ]
        },
        {
            "cell_type": "markdown",
            "metadata": {},
            "source": []
        },
        {
            "cell_type": "code",
            "execution_count": null,
            "metadata": {},
            "outputs": [],
            "source": [
                "class HStoreField(forms.CharField):\n",
                "    \"\"\"\n",
                "    A field for HStore data which accepts dictionary JSON input.\n",
                "    \"\"\"\n",
                "\n",
                "    widget = forms.Textarea\n",
                "    default_error_messages = {\n",
                "        \"invalid_json\": _(\"Could not load JSON data.\"),\n",
                "        \"invalid_format\": _(\"Input must be a JSON dictionary.\"),\n",
                "    }\n",
                "\n",
                "    def prepare_value(self, value):\n",
                "        if isinstance(value, dict):\n",
                "            return json.dumps(value)\n",
                "        return value\n",
                "\n",
                "    def to_python(self, value):\n",
                "        if not value:\n",
                "            return {}\n",
                "        if not isinstance(value, dict):\n",
                "            try:\n",
                "                value = json.loads(value)\n",
                "            except json.JSONDecodeError:\n",
                "                raise ValidationError(\n",
                "                    self.error_messages[\"invalid_json\"],\n",
                "                    code=\"invalid_json\",\n",
                "                )\n",
                "\n",
                "        if not isinstance(value, dict):\n",
                "            raise ValidationError(\n",
                "                self.error_messages[\"invalid_format\"],\n",
                "                code=\"invalid_format\",\n",
                "            )\n",
                "\n",
                "        # Cast everything to strings for ease.\n",
                "        for key, val in value.items():\n",
                "            if val is not None:\n",
                "                val = str(val)\n",
                "            value[key] = val\n",
                "        return value\n",
                "\n",
                "    def has_changed(self, initial, data):\n",
                "        \"\"\"\n",
                "        Return True if data differs from initial.\n",
                "        \"\"\"\n",
                "        # For purposes of seeing whether something has changed, None is\n",
                "        # the same as an empty dict, if the data or initial value we get\n",
                "        # is None, replace it w/ {}.\n",
                "        initial_value = self.to_python(initial)\n",
                "        return super().has_changed(initial_value, data)\n",
                "\n"
            ]
        },
        {
            "cell_type": "markdown",
            "metadata": {},
            "source": []
        }
    ],
    "metadata": {
        "language_info": {
            "name": "python"
        }
    },
    "nbformat": 4,
    "nbformat_minor": 2
}