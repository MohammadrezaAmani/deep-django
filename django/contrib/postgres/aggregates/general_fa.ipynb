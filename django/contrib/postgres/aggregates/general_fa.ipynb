{
    "cells": [
        {
            "cell_type": "code",
            "execution_count": null,
            "metadata": {},
            "outputs": [],
            "source": [
                "import json\n",
                "import warnings\n",
                "\n",
                "from django.contrib.postgres.fields import ArrayField\n",
                "from django.db.models import Aggregate, BooleanField, JSONField, TextField, Value\n",
                "from django.utils.deprecation import RemovedInDjango51Warning\n",
                "\n",
                "from .mixins import OrderableAggMixin\n",
                "\n",
                "__all__ = [\n",
                "    \"ArrayAgg\",\n",
                "    \"BitAnd\",\n",
                "    \"BitOr\",\n",
                "    \"BitXor\",\n",
                "    \"BoolAnd\",\n",
                "    \"BoolOr\",\n",
                "    \"JSONBAgg\",\n",
                "    \"StringAgg\",\n",
                "]\n"
            ]
        },
        {
            "cell_type": "markdown",
            "metadata": {},
            "source": []
        },
        {
            "cell_type": "code",
            "execution_count": null,
            "metadata": {},
            "outputs": [],
            "source": [
                "class ArrayAgg(OrderableAggMixin, Aggregate):\n",
                "    function = \"ARRAY_AGG\"\n",
                "    template = \"%(function)s(%(distinct)s%(expressions)s %(ordering)s)\"\n",
                "    allow_distinct = True\n",
                "\n",
                "    @property\n",
                "    def output_field(self):\n",
                "        return ArrayField(self.source_expressions[0].output_field)\n"
            ]
        },
        {
            "cell_type": "markdown",
            "metadata": {},
            "source": []
        },
        {
            "cell_type": "code",
            "execution_count": null,
            "metadata": {},
            "outputs": [],
            "source": [
                "class BitAnd(Aggregate):\n",
                "    function = \"BIT_AND\"\n"
            ]
        },
        {
            "cell_type": "markdown",
            "metadata": {},
            "source": []
        },
        {
            "cell_type": "code",
            "execution_count": null,
            "metadata": {},
            "outputs": [],
            "source": [
                "class BitOr(Aggregate):\n",
                "    function = \"BIT_OR\"\n"
            ]
        },
        {
            "cell_type": "markdown",
            "metadata": {},
            "source": []
        },
        {
            "cell_type": "code",
            "execution_count": null,
            "metadata": {},
            "outputs": [],
            "source": [
                "class BitXor(Aggregate):\n",
                "    function = \"BIT_XOR\"\n"
            ]
        },
        {
            "cell_type": "markdown",
            "metadata": {},
            "source": []
        },
        {
            "cell_type": "code",
            "execution_count": null,
            "metadata": {},
            "outputs": [],
            "source": [
                "class BoolAnd(Aggregate):\n",
                "    function = \"BOOL_AND\"\n",
                "    output_field = BooleanField()\n"
            ]
        },
        {
            "cell_type": "markdown",
            "metadata": {},
            "source": []
        },
        {
            "cell_type": "code",
            "execution_count": null,
            "metadata": {},
            "outputs": [],
            "source": [
                "class BoolOr(Aggregate):\n",
                "    function = \"BOOL_OR\"\n",
                "    output_field = BooleanField()\n"
            ]
        },
        {
            "cell_type": "markdown",
            "metadata": {},
            "source": []
        },
        {
            "cell_type": "code",
            "execution_count": null,
            "metadata": {},
            "outputs": [],
            "source": [
                "class JSONBAgg(OrderableAggMixin, Aggregate):\n",
                "    function = \"JSONB_AGG\"\n",
                "    template = \"%(function)s(%(distinct)s%(expressions)s %(ordering)s)\"\n",
                "    allow_distinct = True\n",
                "    output_field = JSONField()\n",
                "\n",
                "    # RemovedInDjango51Warning: When the deprecation ends, remove __init__().\n",
                "    def __init__(self, *expressions, default=None, **extra):\n",
                "        super().__init__(*expressions, default=default, **extra)\n",
                "        if (\n",
                "            isinstance(default, Value)\n",
                "            and isinstance(default.value, str)\n",
                "            and not isinstance(default.output_field, JSONField)\n",
                "        ):\n",
                "            value = default.value\n",
                "            try:\n",
                "                decoded = json.loads(value)\n",
                "            except json.JSONDecodeError:\n",
                "                warnings.warn(\n",
                "                    \"Passing a Value() with an output_field that isn't a JSONField as \"\n",
                "                    \"JSONBAgg(default) is deprecated. Pass default=\"\n",
                "                    f\"Value({value!r}, output_field=JSONField()) instead.\",\n",
                "                    stacklevel=2,\n",
                "                    category=RemovedInDjango51Warning,\n",
                "                )\n",
                "                self.default.output_field = self.output_field\n",
                "            else:\n",
                "                self.default = Value(decoded, self.output_field)\n",
                "                warnings.warn(\n",
                "                    \"Passing an encoded JSON string as JSONBAgg(default) is \"\n",
                "                    f\"deprecated. Pass default={decoded!r} instead.\",\n",
                "                    stacklevel=2,\n",
                "                    category=RemovedInDjango51Warning,\n",
                "                )\n"
            ]
        },
        {
            "cell_type": "markdown",
            "metadata": {},
            "source": []
        },
        {
            "cell_type": "code",
            "execution_count": null,
            "metadata": {},
            "outputs": [],
            "source": [
                "class StringAgg(OrderableAggMixin, Aggregate):\n",
                "    function = \"STRING_AGG\"\n",
                "    template = \"%(function)s(%(distinct)s%(expressions)s %(ordering)s)\"\n",
                "    allow_distinct = True\n",
                "    output_field = TextField()\n",
                "\n",
                "    def __init__(self, expression, delimiter, **extra):\n",
                "        delimiter_expr = Value(str(delimiter))\n",
                "        super().__init__(expression, delimiter_expr, **extra)\n",
                "\n"
            ]
        },
        {
            "cell_type": "markdown",
            "metadata": {},
            "source": []
        }
    ],
    "metadata": {
        "language_info": {
            "name": "python"
        }
    },
    "nbformat": 4,
    "nbformat_minor": 2
}