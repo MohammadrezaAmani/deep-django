{
    "cells": [
        {
            "cell_type": "code",
            "execution_count": null,
            "metadata": {},
            "outputs": [],
            "source": [
                "from django.db.models.expressions import OrderByList\n"
            ]
        },
        {
            "cell_type": "markdown",
            "metadata": {},
            "source": []
        },
        {
            "cell_type": "code",
            "execution_count": null,
            "metadata": {},
            "outputs": [],
            "source": [
                "class OrderableAggMixin:\n",
                "    def __init__(self, *expressions, ordering=(), **extra):\n",
                "        if isinstance(ordering, (list, tuple)):\n",
                "            self.order_by = OrderByList(*ordering)\n",
                "        else:\n",
                "            self.order_by = OrderByList(ordering)\n",
                "        super().__init__(*expressions, **extra)\n",
                "\n",
                "    def resolve_expression(self, *args, **kwargs):\n",
                "        self.order_by = self.order_by.resolve_expression(*args, **kwargs)\n",
                "        return super().resolve_expression(*args, **kwargs)\n",
                "\n",
                "    def get_source_expressions(self):\n",
                "        if self.order_by.source_expressions:\n",
                "            return super().get_source_expressions() + [self.order_by]\n",
                "        return super().get_source_expressions()\n",
                "\n",
                "    def set_source_expressions(self, exprs):\n",
                "        if isinstance(exprs[-1], OrderByList):\n",
                "            *exprs, self.order_by = exprs\n",
                "        return super().set_source_expressions(exprs)\n",
                "\n",
                "    def as_sql(self, compiler, connection):\n",
                "        order_by_sql, order_by_params = compiler.compile(self.order_by)\n",
                "        sql, sql_params = super().as_sql(compiler, connection, ordering=order_by_sql)\n",
                "        return sql, (*sql_params, *order_by_params)\n",
                "\n"
            ]
        },
        {
            "cell_type": "markdown",
            "metadata": {},
            "source": []
        }
    ],
    "metadata": {
        "language_info": {
            "name": "python"
        }
    },
    "nbformat": 4,
    "nbformat_minor": 2
}