{
    "cells": [
        {
            "cell_type": "code",
            "execution_count": null,
            "metadata": {},
            "outputs": [],
            "source": [
                "from django.db.models import Aggregate, FloatField, IntegerField\n",
                "\n",
                "__all__ = [\n",
                "    \"CovarPop\",\n",
                "    \"Corr\",\n",
                "    \"RegrAvgX\",\n",
                "    \"RegrAvgY\",\n",
                "    \"RegrCount\",\n",
                "    \"RegrIntercept\",\n",
                "    \"RegrR2\",\n",
                "    \"RegrSlope\",\n",
                "    \"RegrSXX\",\n",
                "    \"RegrSXY\",\n",
                "    \"RegrSYY\",\n",
                "    \"StatAggregate\",\n",
                "]\n"
            ]
        },
        {
            "cell_type": "markdown",
            "metadata": {},
            "source": []
        },
        {
            "cell_type": "code",
            "execution_count": null,
            "metadata": {},
            "outputs": [],
            "source": [
                "class StatAggregate(Aggregate):\n",
                "    output_field = FloatField()\n",
                "\n",
                "    def __init__(self, y, x, output_field=None, filter=None, default=None):\n",
                "        if not x or not y:\n",
                "            raise ValueError(\"Both y and x must be provided.\")\n",
                "        super().__init__(\n",
                "            y, x, output_field=output_field, filter=filter, default=default\n",
                "        )\n"
            ]
        },
        {
            "cell_type": "markdown",
            "metadata": {},
            "source": []
        },
        {
            "cell_type": "code",
            "execution_count": null,
            "metadata": {},
            "outputs": [],
            "source": [
                "class Corr(StatAggregate):\n",
                "    function = \"CORR\"\n"
            ]
        },
        {
            "cell_type": "markdown",
            "metadata": {},
            "source": []
        },
        {
            "cell_type": "code",
            "execution_count": null,
            "metadata": {},
            "outputs": [],
            "source": [
                "class CovarPop(StatAggregate):\n",
                "    def __init__(self, y, x, sample=False, filter=None, default=None):\n",
                "        self.function = \"COVAR_SAMP\" if sample else \"COVAR_POP\"\n",
                "        super().__init__(y, x, filter=filter, default=default)\n"
            ]
        },
        {
            "cell_type": "markdown",
            "metadata": {},
            "source": []
        },
        {
            "cell_type": "code",
            "execution_count": null,
            "metadata": {},
            "outputs": [],
            "source": [
                "class RegrAvgX(StatAggregate):\n",
                "    function = \"REGR_AVGX\"\n"
            ]
        },
        {
            "cell_type": "markdown",
            "metadata": {},
            "source": []
        },
        {
            "cell_type": "code",
            "execution_count": null,
            "metadata": {},
            "outputs": [],
            "source": [
                "class RegrAvgY(StatAggregate):\n",
                "    function = \"REGR_AVGY\"\n"
            ]
        },
        {
            "cell_type": "markdown",
            "metadata": {},
            "source": []
        },
        {
            "cell_type": "code",
            "execution_count": null,
            "metadata": {},
            "outputs": [],
            "source": [
                "class RegrCount(StatAggregate):\n",
                "    function = \"REGR_COUNT\"\n",
                "    output_field = IntegerField()\n",
                "    empty_result_set_value = 0\n"
            ]
        },
        {
            "cell_type": "markdown",
            "metadata": {},
            "source": []
        },
        {
            "cell_type": "code",
            "execution_count": null,
            "metadata": {},
            "outputs": [],
            "source": [
                "class RegrIntercept(StatAggregate):\n",
                "    function = \"REGR_INTERCEPT\"\n"
            ]
        },
        {
            "cell_type": "markdown",
            "metadata": {},
            "source": []
        },
        {
            "cell_type": "code",
            "execution_count": null,
            "metadata": {},
            "outputs": [],
            "source": [
                "class RegrR2(StatAggregate):\n",
                "    function = \"REGR_R2\"\n"
            ]
        },
        {
            "cell_type": "markdown",
            "metadata": {},
            "source": []
        },
        {
            "cell_type": "code",
            "execution_count": null,
            "metadata": {},
            "outputs": [],
            "source": [
                "class RegrSlope(StatAggregate):\n",
                "    function = \"REGR_SLOPE\"\n"
            ]
        },
        {
            "cell_type": "markdown",
            "metadata": {},
            "source": []
        },
        {
            "cell_type": "code",
            "execution_count": null,
            "metadata": {},
            "outputs": [],
            "source": [
                "class RegrSXX(StatAggregate):\n",
                "    function = \"REGR_SXX\"\n"
            ]
        },
        {
            "cell_type": "markdown",
            "metadata": {},
            "source": []
        },
        {
            "cell_type": "code",
            "execution_count": null,
            "metadata": {},
            "outputs": [],
            "source": [
                "class RegrSXY(StatAggregate):\n",
                "    function = \"REGR_SXY\"\n"
            ]
        },
        {
            "cell_type": "markdown",
            "metadata": {},
            "source": []
        },
        {
            "cell_type": "code",
            "execution_count": null,
            "metadata": {},
            "outputs": [],
            "source": [
                "class RegrSYY(StatAggregate):\n",
                "    function = \"REGR_SYY\"\n",
                "\n"
            ]
        },
        {
            "cell_type": "markdown",
            "metadata": {},
            "source": []
        }
    ],
    "metadata": {
        "language_info": {
            "name": "python"
        }
    },
    "nbformat": 4,
    "nbformat_minor": 2
}