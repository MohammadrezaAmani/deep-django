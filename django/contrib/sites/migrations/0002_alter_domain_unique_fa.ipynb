{
    "cells": [
        {
            "cell_type": "code",
            "execution_count": null,
            "metadata": {},
            "outputs": [],
            "source": [
                "import django.contrib.sites.models\n",
                "from django.db import migrations, models\n"
            ]
        },
        {
            "cell_type": "markdown",
            "metadata": {},
            "source": []
        },
        {
            "cell_type": "code",
            "execution_count": null,
            "metadata": {},
            "outputs": [],
            "source": [
                "class Migration(migrations.Migration):\n",
                "    dependencies = [\n",
                "        (\"sites\", \"0001_initial\"),\n",
                "    ]\n",
                "\n",
                "    operations = [\n",
                "        migrations.AlterField(\n",
                "            model_name=\"site\",\n",
                "            name=\"domain\",\n",
                "            field=models.CharField(\n",
                "                max_length=100,\n",
                "                unique=True,\n",
                "                validators=[django.contrib.sites.models._simple_domain_name_validator],\n",
                "                verbose_name=\"domain name\",\n",
                "            ),\n",
                "        ),\n",
                "    ]\n",
                "\n"
            ]
        },
        {
            "cell_type": "markdown",
            "metadata": {},
            "source": []
        }
    ],
    "metadata": {
        "language_info": {
            "name": "python"
        }
    },
    "nbformat": 4,
    "nbformat_minor": 2
}