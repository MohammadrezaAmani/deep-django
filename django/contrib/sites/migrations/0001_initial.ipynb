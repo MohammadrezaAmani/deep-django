{
    "cells": [
        {
            "cell_type": "code",
            "execution_count": null,
            "metadata": {},
            "outputs": [],
            "source": [
                "import django.contrib.sites.models\n",
                "from django.contrib.sites.models import _simple_domain_name_validator\n",
                "from django.db import migrations, models\n"
            ]
        },
        {
            "cell_type": "markdown",
            "metadata": {},
            "source": []
        },
        {
            "cell_type": "code",
            "execution_count": null,
            "metadata": {},
            "outputs": [],
            "source": [
                "class Migration(migrations.Migration):\n",
                "    dependencies = []\n",
                "\n",
                "    operations = [\n",
                "        migrations.CreateModel(\n",
                "            name=\"Site\",\n",
                "            fields=[\n",
                "                (\n",
                "                    \"id\",\n",
                "                    models.AutoField(\n",
                "                        verbose_name=\"ID\",\n",
                "                        serialize=False,\n",
                "                        auto_created=True,\n",
                "                        primary_key=True,\n",
                "                    ),\n",
                "                ),\n",
                "                (\n",
                "                    \"domain\",\n",
                "                    models.CharField(\n",
                "                        max_length=100,\n",
                "                        verbose_name=\"domain name\",\n",
                "                        validators=[_simple_domain_name_validator],\n",
                "                    ),\n",
                "                ),\n",
                "                (\"name\", models.CharField(max_length=50, verbose_name=\"display name\")),\n",
                "            ],\n",
                "            options={\n",
                "                \"ordering\": [\"domain\"],\n",
                "                \"db_table\": \"django_site\",\n",
                "                \"verbose_name\": \"site\",\n",
                "                \"verbose_name_plural\": \"sites\",\n",
                "            },\n",
                "            bases=(models.Model,),\n",
                "            managers=[\n",
                "                (\"objects\", django.contrib.sites.models.SiteManager()),\n",
                "            ],\n",
                "        ),\n",
                "    ]\n",
                "\n"
            ]
        },
        {
            "cell_type": "markdown",
            "metadata": {},
            "source": []
        }
    ],
    "metadata": {
        "language_info": {
            "name": "python"
        }
    },
    "nbformat": 4,
    "nbformat_minor": 2
}