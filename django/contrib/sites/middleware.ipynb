{
 "cells": [
  {
   "cell_type": "code",
   "execution_count": null,
   "metadata": {},
   "outputs": [],
   "source": [
    "from django.utils.deprecation import MiddlewareMixin\n",
    "\n",
    "from .shortcuts import get_current_site"
   ]
  },
  {
   "cell_type": "markdown",
   "metadata": {},
   "source": []
  },
  {
   "cell_type": "code",
   "execution_count": null,
   "metadata": {},
   "outputs": [],
   "source": [
    "class CurrentSiteMiddleware(MiddlewareMixin):\n",
    "    \"\"\"\n",
    "    Middleware that sets `site` attribute to request object.\n",
    "    \"\"\"\n",
    "\n",
    "    def process_request(self, request):\n",
    "        request.site = get_current_site(request)"
   ]
  },
  {
   "cell_type": "markdown",
   "metadata": {},
   "source": []
  }
 ],
 "metadata": {
  "language_info": {
   "name": "python"
  }
 },
 "nbformat": 4,
 "nbformat_minor": 2
}