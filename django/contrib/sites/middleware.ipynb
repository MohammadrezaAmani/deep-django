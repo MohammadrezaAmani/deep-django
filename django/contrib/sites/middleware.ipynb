{
    "cells": [
        {
            "cell_type": "code",
            "execution_count": null,
            "metadata": {},
            "outputs": [],
            "source": [
                "from django.utils.deprecation import MiddlewareMixin\n",
                "\n",
                "from .shortcuts import get_current_site\n"
            ]
        },
        {
            "cell_type": "markdown",
            "metadata": {},
            "source": []
        },
        {
            "cell_type": "code",
            "execution_count": null,
            "metadata": {},
            "outputs": [],
            "source": [
                "class CurrentSiteMiddleware(MiddlewareMixin):\n",
                "    \"\"\"\n",
                "    Middleware that sets `site` attribute to request object.\n",
                "    \"\"\"\n",
                "\n",
                "    def process_request(self, request):\n",
                "        request.site = get_current_site(request)\n",
                "\n"
            ]
        },
        {
            "cell_type": "markdown",
            "metadata": {},
            "source": []
        }
    ],
    "metadata": {
        "language_info": {
            "name": "python"
        }
    },
    "nbformat": 4,
    "nbformat_minor": 2
}