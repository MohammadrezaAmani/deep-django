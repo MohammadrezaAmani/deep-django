{
 "cells": [
  {
   "cell_type": "code",
   "execution_count": null,
   "metadata": {},
   "outputs": [],
   "source": [
    "class RequestSite:\n",
    "    \"\"\"\n",
    "    A class that shares the primary interface of Site (i.e., it has ``domain``\n",
    "    and ``name`` attributes) but gets its data from an HttpRequest object\n",
    "    rather than from a database.\n",
    "\n",
    "    The save() and delete() methods raise NotImplementedError.\n",
    "    \"\"\"\n",
    "\n",
    "    def __init__(self, request):\n",
    "        self.domain = self.name = request.get_host()\n",
    "\n",
    "    def __str__(self):\n",
    "        return self.domain\n",
    "\n",
    "    def save(self, force_insert=False, force_update=False):\n",
    "        raise NotImplementedError(\"RequestSite cannot be saved.\")\n",
    "\n",
    "    def delete(self):\n",
    "        raise NotImplementedError(\"RequestSite cannot be deleted.\")"
   ]
  },
  {
   "cell_type": "markdown",
   "metadata": {},
   "source": []
  }
 ],
 "metadata": {
  "language_info": {
   "name": "python"
  }
 },
 "nbformat": 4,
 "nbformat_minor": 2
}