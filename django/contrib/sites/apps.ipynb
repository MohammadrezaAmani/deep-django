{
 "cells": [
  {
   "cell_type": "code",
   "execution_count": null,
   "metadata": {},
   "outputs": [],
   "source": [
    "from django.apps import AppConfig\n",
    "from django.contrib.sites.checks import check_site_id\n",
    "from django.core import checks\n",
    "from django.db.models.signals import post_migrate\n",
    "from django.utils.translation import gettext_lazy as _\n",
    "\n",
    "from .management import create_default_site"
   ]
  },
  {
   "cell_type": "markdown",
   "metadata": {},
   "source": []
  },
  {
   "cell_type": "code",
   "execution_count": null,
   "metadata": {},
   "outputs": [],
   "source": [
    "class SitesConfig(AppConfig):\n",
    "    default_auto_field = \"django.db.models.AutoField\"\n",
    "    name = \"django.contrib.sites\"\n",
    "    verbose_name = _(\"Sites\")\n",
    "\n",
    "    def ready(self):\n",
    "        post_migrate.connect(create_default_site, sender=self)\n",
    "        checks.register(check_site_id, checks.Tags.sites)"
   ]
  },
  {
   "cell_type": "markdown",
   "metadata": {},
   "source": []
  }
 ],
 "metadata": {
  "language_info": {
   "name": "python"
  }
 },
 "nbformat": 4,
 "nbformat_minor": 2
}