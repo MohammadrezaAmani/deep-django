{
    "cells": [
        {
            "cell_type": "code",
            "execution_count": null,
            "metadata": {},
            "outputs": [],
            "source": [
                "from django.conf import settings\n",
                "from django.core import checks\n",
                "from django.core.exceptions import FieldDoesNotExist\n",
                "from django.db import models\n"
            ]
        },
        {
            "cell_type": "markdown",
            "metadata": {},
            "source": []
        },
        {
            "cell_type": "code",
            "execution_count": null,
            "metadata": {},
            "outputs": [],
            "source": [
                "class CurrentSiteManager(models.Manager):\n",
                "    \"Use this to limit objects to those associated with the current site.\"\n",
                "\n",
                "    use_in_migrations = True\n",
                "\n",
                "    def __init__(self, field_name=None):\n",
                "        super().__init__()\n",
                "        self.__field_name = field_name\n",
                "\n",
                "    def check(self, **kwargs):\n",
                "        errors = super().check(**kwargs)\n",
                "        errors.extend(self._check_field_name())\n",
                "        return errors\n",
                "\n",
                "    def _check_field_name(self):\n",
                "        field_name = self._get_field_name()\n",
                "        try:\n",
                "            field = self.model._meta.get_field(field_name)\n",
                "        except FieldDoesNotExist:\n",
                "            return [\n",
                "                checks.Error(\n",
                "                    \"CurrentSiteManager could not find a field named '%s'.\"\n",
                "                    % field_name,\n",
                "                    obj=self,\n",
                "                    id=\"sites.E001\",\n",
                "                )\n",
                "            ]\n",
                "\n",
                "        if not field.many_to_many and not isinstance(field, (models.ForeignKey)):\n",
                "            return [\n",
                "                checks.Error(\n",
                "                    \"CurrentSiteManager cannot use '%s.%s' as it is not a foreign key \"\n",
                "                    \"or a many-to-many field.\"\n",
                "                    % (self.model._meta.object_name, field_name),\n",
                "                    obj=self,\n",
                "                    id=\"sites.E002\",\n",
                "                )\n",
                "            ]\n",
                "\n",
                "        return []\n",
                "\n",
                "    def _get_field_name(self):\n",
                "        \"\"\"Return self.__field_name or 'site' or 'sites'.\"\"\"\n",
                "\n",
                "        if not self.__field_name:\n",
                "            try:\n",
                "                self.model._meta.get_field(\"site\")\n",
                "            except FieldDoesNotExist:\n",
                "                self.__field_name = \"sites\"\n",
                "            else:\n",
                "                self.__field_name = \"site\"\n",
                "        return self.__field_name\n",
                "\n",
                "    def get_queryset(self):\n",
                "        return (\n",
                "            super()\n",
                "            .get_queryset()\n",
                "            .filter(**{self._get_field_name() + \"__id\": settings.SITE_ID})\n",
                "        )\n",
                "\n"
            ]
        },
        {
            "cell_type": "markdown",
            "metadata": {},
            "source": []
        }
    ],
    "metadata": {
        "language_info": {
            "name": "python"
        }
    },
    "nbformat": 4,
    "nbformat_minor": 2
}