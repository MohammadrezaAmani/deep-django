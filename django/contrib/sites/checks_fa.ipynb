{
    "cells": [
        {
            "cell_type": "code",
            "execution_count": null,
            "metadata": {},
            "outputs": [],
            "source": [
                "from types import NoneType\n",
                "\n",
                "from django.conf import settings\n",
                "from django.core.checks import Error\n"
            ]
        },
        {
            "cell_type": "markdown",
            "metadata": {},
            "source": []
        },
        {
            "cell_type": "code",
            "execution_count": null,
            "metadata": {},
            "outputs": [],
            "source": [
                "def check_site_id(app_configs, **kwargs):\n",
                "    if hasattr(settings, \"SITE_ID\") and not isinstance(\n",
                "        settings.SITE_ID, (NoneType, int)\n",
                "    ):\n",
                "        return [\n",
                "            Error(\"The SITE_ID setting must be an integer\", id=\"sites.E101\"),\n",
                "        ]\n",
                "    return []\n",
                "\n"
            ]
        },
        {
            "cell_type": "markdown",
            "metadata": {},
            "source": []
        }
    ],
    "metadata": {
        "language_info": {
            "name": "python"
        }
    },
    "nbformat": 4,
    "nbformat_minor": 2
}