{
 "cells": [
  {
   "cell_type": "code",
   "execution_count": null,
   "metadata": {},
   "outputs": [],
   "source": [
    "import string\n",
    "\n",
    "from django.core.exceptions import ImproperlyConfigured, ValidationError\n",
    "from django.db import models\n",
    "from django.db.models.signals import pre_delete, pre_save\n",
    "from django.http.request import split_domain_port\n",
    "from django.utils.translation import gettext_lazy as _\n",
    "\n",
    "SITE_CACHE = {}"
   ]
  },
  {
   "cell_type": "markdown",
   "metadata": {},
   "source": []
  },
  {
   "cell_type": "code",
   "execution_count": null,
   "metadata": {},
   "outputs": [],
   "source": [
    "def _simple_domain_name_validator(value):\n",
    "    \"\"\"\n",
    "    Validate that the given value contains no whitespaces to prevent common\n",
    "    typos.\n",
    "    \"\"\"\n",
    "    checks = ((s in value) for s in string.whitespace)\n",
    "    if any(checks):\n",
    "        raise ValidationError(\n",
    "            _(\"The domain name cannot contain any spaces or tabs.\"),\n",
    "            code=\"invalid\",\n",
    "        )"
   ]
  },
  {
   "cell_type": "markdown",
   "metadata": {},
   "source": []
  },
  {
   "cell_type": "code",
   "execution_count": null,
   "metadata": {},
   "outputs": [],
   "source": [
    "class SiteManager(models.Manager):\n",
    "    use_in_migrations = True\n",
    "\n",
    "    def _get_site_by_id(self, site_id):\n",
    "        if site_id not in SITE_CACHE:\n",
    "            site = self.get(pk=site_id)\n",
    "            SITE_CACHE[site_id] = site\n",
    "        return SITE_CACHE[site_id]\n",
    "\n",
    "    def _get_site_by_request(self, request):\n",
    "        host = request.get_host()\n",
    "        try:\n",
    "            # First attempt to look up the site by host with or without port.\n",
    "            if host not in SITE_CACHE:\n",
    "                SITE_CACHE[host] = self.get(domain__iexact=host)\n",
    "            return SITE_CACHE[host]\n",
    "        except Site.DoesNotExist:\n",
    "            # Fallback to looking up site after stripping port from the host.\n",
    "            domain, port = split_domain_port(host)\n",
    "            if domain not in SITE_CACHE:\n",
    "                SITE_CACHE[domain] = self.get(domain__iexact=domain)\n",
    "            return SITE_CACHE[domain]\n",
    "\n",
    "    def get_current(self, request=None):\n",
    "        \"\"\"\n",
    "        Return the current Site based on the SITE_ID in the project's settings.\n",
    "        If SITE_ID isn't defined, return the site with domain matching\n",
    "        request.get_host(). The ``Site`` object is cached the first time it's\n",
    "        retrieved from the database.\n",
    "        \"\"\"\n",
    "        from django.conf import settings\n",
    "\n",
    "        if getattr(settings, \"SITE_ID\", \"\"):\n",
    "            site_id = settings.SITE_ID\n",
    "            return self._get_site_by_id(site_id)\n",
    "        elif request:\n",
    "            return self._get_site_by_request(request)\n",
    "\n",
    "        raise ImproperlyConfigured(\n",
    "            'You\\'re using the Django \"sites framework\" without having '\n",
    "            \"set the SITE_ID setting. Create a site in your database and \"\n",
    "            \"set the SITE_ID setting or pass a request to \"\n",
    "            \"Site.objects.get_current() to fix this error.\"\n",
    "        )\n",
    "\n",
    "    def clear_cache(self):\n",
    "        \"\"\"Clear the ``Site`` object cache.\"\"\"\n",
    "        global SITE_CACHE\n",
    "        SITE_CACHE = {}\n",
    "\n",
    "    def get_by_natural_key(self, domain):\n",
    "        return self.get(domain=domain)"
   ]
  },
  {
   "cell_type": "markdown",
   "metadata": {},
   "source": []
  },
  {
   "cell_type": "code",
   "execution_count": null,
   "metadata": {},
   "outputs": [],
   "source": [
    "class Site(models.Model):\n",
    "    domain = models.CharField(\n",
    "        _(\"domain name\"),\n",
    "        max_length=100,\n",
    "        validators=[_simple_domain_name_validator],\n",
    "        unique=True,\n",
    "    )\n",
    "    name = models.CharField(_(\"display name\"), max_length=50)\n",
    "\n",
    "    objects = SiteManager()\n",
    "\n",
    "    class Meta:\n",
    "        db_table = \"django_site\"\n",
    "        verbose_name = _(\"site\")\n",
    "        verbose_name_plural = _(\"sites\")\n",
    "        ordering = [\"domain\"]\n",
    "\n",
    "    def __str__(self):\n",
    "        return self.domain\n",
    "\n",
    "    def natural_key(self):\n",
    "        return (self.domain,)"
   ]
  },
  {
   "cell_type": "markdown",
   "metadata": {},
   "source": []
  },
  {
   "cell_type": "code",
   "execution_count": null,
   "metadata": {},
   "outputs": [],
   "source": [
    "def clear_site_cache(sender, **kwargs):\n",
    "    \"\"\"\n",
    "    Clear the cache (if primed) each time a site is saved or deleted.\n",
    "    \"\"\"\n",
    "    instance = kwargs[\"instance\"]\n",
    "    using = kwargs[\"using\"]\n",
    "    try:\n",
    "        del SITE_CACHE[instance.pk]\n",
    "    except KeyError:\n",
    "        pass\n",
    "    try:\n",
    "        del SITE_CACHE[Site.objects.using(using).get(pk=instance.pk).domain]\n",
    "    except (KeyError, Site.DoesNotExist):\n",
    "        pass"
   ]
  },
  {
   "cell_type": "markdown",
   "metadata": {},
   "source": []
  },
  {
   "cell_type": "code",
   "execution_count": null,
   "metadata": {},
   "outputs": [],
   "source": [
    "pre_save.connect(clear_site_cache, sender=Site)\n",
    "pre_delete.connect(clear_site_cache, sender=Site)"
   ]
  },
  {
   "cell_type": "markdown",
   "metadata": {},
   "source": []
  }
 ],
 "metadata": {
  "language_info": {
   "name": "python"
  }
 },
 "nbformat": 4,
 "nbformat_minor": 2
}