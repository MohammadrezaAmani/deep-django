{
    "cells": [
        {
            "cell_type": "code",
            "execution_count": null,
            "metadata": {},
            "outputs": [],
            "source": [
                "from django.apps import apps\n",
                "\n",
                "from .requests import RequestSite\n"
            ]
        },
        {
            "cell_type": "markdown",
            "metadata": {},
            "source": []
        },
        {
            "cell_type": "code",
            "execution_count": null,
            "metadata": {},
            "outputs": [],
            "source": [
                "def get_current_site(request):\n",
                "    \"\"\"\n",
                "    Check if contrib.sites is installed and return either the current\n",
                "    ``Site`` object or a ``RequestSite`` object based on the request.\n",
                "    \"\"\"\n",
                "    # Import is inside the function because its point is to avoid importing the\n",
                "    # Site models when django.contrib.sites isn't installed.\n",
                "    if apps.is_installed(\"django.contrib.sites\"):\n",
                "        from .models import Site\n",
                "\n",
                "        return Site.objects.get_current(request)\n",
                "    else:\n",
                "        return RequestSite(request)\n",
                "\n"
            ]
        },
        {
            "cell_type": "markdown",
            "metadata": {},
            "source": []
        }
    ],
    "metadata": {
        "language_info": {
            "name": "python"
        }
    },
    "nbformat": 4,
    "nbformat_minor": 2
}