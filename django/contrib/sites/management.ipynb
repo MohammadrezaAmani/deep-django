{
 "cells": [
  {
   "cell_type": "code",
   "execution_count": null,
   "metadata": {},
   "outputs": [],
   "source": [
    "\"\"\"\n",
    "Creates the default Site object.\n",
    "\"\"\"\n",
    "\n",
    "from django.apps import apps as global_apps\n",
    "from django.conf import settings\n",
    "from django.core.management.color import no_style\n",
    "from django.db import DEFAULT_DB_ALIAS, connections, router"
   ]
  },
  {
   "cell_type": "markdown",
   "metadata": {},
   "source": []
  },
  {
   "cell_type": "code",
   "execution_count": null,
   "metadata": {},
   "outputs": [],
   "source": [
    "def create_default_site(\n",
    "    app_config,\n",
    "    verbosity=2,\n",
    "    interactive=True,\n",
    "    using=DEFAULT_DB_ALIAS,\n",
    "    apps=global_apps,\n",
    "    **kwargs,\n",
    "):\n",
    "    try:\n",
    "        Site = apps.get_model(\"sites\", \"Site\")\n",
    "    except LookupError:\n",
    "        return\n",
    "\n",
    "    if not router.allow_migrate_model(using, Site):\n",
    "        return\n",
    "\n",
    "    if not Site.objects.using(using).exists():\n",
    "        # The default settings set SITE_ID = 1, and some tests in Django's test\n",
    "        # suite rely on this value. However, if database sequences are reused\n",
    "        # (e.g. in the test suite after flush/syncdb), it isn't guaranteed that\n",
    "        # the next id will be 1, so we coerce it. See #15573 and #16353. This\n",
    "        # can also crop up outside of tests - see #15346.\n",
    "        if verbosity >= 2:\n",
    "            print(\"Creating example.com Site object\")\n",
    "        Site(\n",
    "            pk=getattr(settings, \"SITE_ID\", 1), domain=\"example.com\", name=\"example.com\"\n",
    "        ).save(using=using)\n",
    "\n",
    "        # We set an explicit pk instead of relying on auto-incrementation,\n",
    "        # so we need to reset the database sequence. See #17415.\n",
    "        sequence_sql = connections[using].ops.sequence_reset_sql(no_style(), [Site])\n",
    "        if sequence_sql:\n",
    "            if verbosity >= 2:\n",
    "                print(\"Resetting sequence\")\n",
    "            with connections[using].cursor() as cursor:\n",
    "                for command in sequence_sql:\n",
    "                    cursor.execute(command)"
   ]
  },
  {
   "cell_type": "markdown",
   "metadata": {},
   "source": []
  }
 ],
 "metadata": {
  "language_info": {
   "name": "python"
  }
 },
 "nbformat": 4,
 "nbformat_minor": 2
}