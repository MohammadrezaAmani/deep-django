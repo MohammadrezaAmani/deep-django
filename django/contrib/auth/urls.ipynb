{
    "cells": [
        {
            "cell_type": "code",
            "execution_count": null,
            "metadata": {},
            "outputs": [],
            "source": [
                "# The views used below are normally mapped in the AdminSite instance.\n",
                "# This URLs file is used to provide a reliable view deployment for test purposes.\n",
                "# It is also provided as a convenience to those who want to deploy these URLs\n",
                "# elsewhere.\n",
                "\n",
                "from django.contrib.auth import views\n",
                "from django.urls import path\n",
                "\n",
                "urlpatterns = [\n",
                "    path(\"login/\", views.LoginView.as_view(), name=\"login\"),\n",
                "    path(\"logout/\", views.LogoutView.as_view(), name=\"logout\"),\n",
                "    path(\n",
                "        \"password_change/\", views.PasswordChangeView.as_view(), name=\"password_change\"\n",
                "    ),\n",
                "    path(\n",
                "        \"password_change/done/\",\n",
                "        views.PasswordChangeDoneView.as_view(),\n",
                "        name=\"password_change_done\",\n",
                "    ),\n",
                "    path(\"password_reset/\", views.PasswordResetView.as_view(), name=\"password_reset\"),\n",
                "    path(\n",
                "        \"password_reset/done/\",\n",
                "        views.PasswordResetDoneView.as_view(),\n",
                "        name=\"password_reset_done\",\n",
                "    ),\n",
                "    path(\n",
                "        \"reset/<uidb64>/<token>/\",\n",
                "        views.PasswordResetConfirmView.as_view(),\n",
                "        name=\"password_reset_confirm\",\n",
                "    ),\n",
                "    path(\n",
                "        \"reset/done/\",\n",
                "        views.PasswordResetCompleteView.as_view(),\n",
                "        name=\"password_reset_complete\",\n",
                "    ),\n",
                "]\n",
                "\n"
            ]
        },
        {
            "cell_type": "markdown",
            "metadata": {},
            "source": []
        }
    ],
    "metadata": {
        "language_info": {
            "name": "python"
        }
    },
    "nbformat": 4,
    "nbformat_minor": 2
}