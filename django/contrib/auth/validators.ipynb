{
    "cells": [
        {
            "cell_type": "code",
            "execution_count": null,
            "metadata": {},
            "outputs": [],
            "source": [
                "import re\n",
                "\n",
                "from django.core import validators\n",
                "from django.utils.deconstruct import deconstructible\n",
                "from django.utils.translation import gettext_lazy as _\n"
            ]
        },
        {
            "cell_type": "markdown",
            "metadata": {},
            "source": []
        },
        {
            "cell_type": "code",
            "execution_count": null,
            "metadata": {},
            "outputs": [],
            "source": [
                "@deconstructible\n",
                "class ASCIIUsernameValidator(validators.RegexValidator):\n",
                "    regex = r\"^[\\w.@+-]+\\Z\"\n",
                "    message = _(\n",
                "        \"Enter a valid username. This value may contain only unaccented lowercase a-z \"\n",
                "        \"and uppercase A-Z letters, numbers, and @/./+/-/_ characters.\"\n",
                "    )\n",
                "    flags = re.ASCII\n"
            ]
        },
        {
            "cell_type": "markdown",
            "metadata": {},
            "source": []
        },
        {
            "cell_type": "code",
            "execution_count": null,
            "metadata": {},
            "outputs": [],
            "source": [
                "@deconstructible\n",
                "class UnicodeUsernameValidator(validators.RegexValidator):\n",
                "    regex = r\"^[\\w.@+-]+\\Z\"\n",
                "    message = _(\n",
                "        \"Enter a valid username. This value may contain only letters, \"\n",
                "        \"numbers, and @/./+/-/_ characters.\"\n",
                "    )\n",
                "    flags = 0\n",
                "\n"
            ]
        },
        {
            "cell_type": "markdown",
            "metadata": {},
            "source": []
        }
    ],
    "metadata": {
        "language_info": {
            "name": "python"
        }
    },
    "nbformat": 4,
    "nbformat_minor": 2
}