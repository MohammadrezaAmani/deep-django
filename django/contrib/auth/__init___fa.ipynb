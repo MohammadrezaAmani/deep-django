{
    "cells": [
        {
            "cell_type": "code",
            "execution_count": null,
            "metadata": {},
            "outputs": [],
            "source": [
                "import inspect\n",
                "import re\n",
                "\n",
                "from asgiref.sync import sync_to_async\n",
                "\n",
                "from django.apps import apps as django_apps\n",
                "from django.conf import settings\n",
                "from django.core.exceptions import ImproperlyConfigured, PermissionDenied\n",
                "from django.middleware.csrf import rotate_token\n",
                "from django.utils.crypto import constant_time_compare\n",
                "from django.utils.module_loading import import_string\n",
                "from django.views.decorators.debug import sensitive_variables\n",
                "\n",
                "from .signals import user_logged_in, user_logged_out, user_login_failed\n",
                "\n",
                "SESSION_KEY = \"_auth_user_id\"\n",
                "BACKEND_SESSION_KEY = \"_auth_user_backend\"\n",
                "HASH_SESSION_KEY = \"_auth_user_hash\"\n",
                "REDIRECT_FIELD_NAME = \"next\"\n"
            ]
        },
        {
            "cell_type": "markdown",
            "metadata": {},
            "source": []
        },
        {
            "cell_type": "code",
            "execution_count": null,
            "metadata": {},
            "outputs": [],
            "source": [
                "def load_backend(path):\n",
                "    return import_string(path)()\n"
            ]
        },
        {
            "cell_type": "markdown",
            "metadata": {},
            "source": []
        },
        {
            "cell_type": "code",
            "execution_count": null,
            "metadata": {},
            "outputs": [],
            "source": [
                "def _get_backends(return_tuples=False):\n",
                "    backends = []\n",
                "    for backend_path in settings.AUTHENTICATION_BACKENDS:\n",
                "        backend = load_backend(backend_path)\n",
                "        backends.append((backend, backend_path) if return_tuples else backend)\n",
                "    if not backends:\n",
                "        raise ImproperlyConfigured(\n",
                "            \"No authentication backends have been defined. Does \"\n",
                "            \"AUTHENTICATION_BACKENDS contain anything?\"\n",
                "        )\n",
                "    return backends\n"
            ]
        },
        {
            "cell_type": "markdown",
            "metadata": {},
            "source": []
        },
        {
            "cell_type": "code",
            "execution_count": null,
            "metadata": {},
            "outputs": [],
            "source": [
                "def get_backends():\n",
                "    return _get_backends(return_tuples=False)\n"
            ]
        },
        {
            "cell_type": "markdown",
            "metadata": {},
            "source": []
        },
        {
            "cell_type": "code",
            "execution_count": null,
            "metadata": {},
            "outputs": [],
            "source": [
                "@sensitive_variables(\"credentials\")\n",
                "def _clean_credentials(credentials):\n",
                "    \"\"\"\n",
                "    Clean a dictionary of credentials of potentially sensitive info before\n",
                "    sending to less secure functions.\n",
                "\n",
                "    Not comprehensive - intended for user_login_failed signal\n",
                "    \"\"\"\n",
                "    SENSITIVE_CREDENTIALS = re.compile(\"api|token|key|secret|password|signature\", re.I)\n",
                "    CLEANSED_SUBSTITUTE = \"********************\"\n",
                "    for key in credentials:\n",
                "        if SENSITIVE_CREDENTIALS.search(key):\n",
                "            credentials[key] = CLEANSED_SUBSTITUTE\n",
                "    return credentials\n"
            ]
        },
        {
            "cell_type": "markdown",
            "metadata": {},
            "source": []
        },
        {
            "cell_type": "code",
            "execution_count": null,
            "metadata": {},
            "outputs": [],
            "source": [
                "def _get_user_session_key(request):\n",
                "    # This value in the session is always serialized to a string, so we need\n",
                "    # to convert it back to Python whenever we access it.\n",
                "    return get_user_model()._meta.pk.to_python(request.session[SESSION_KEY])\n"
            ]
        },
        {
            "cell_type": "markdown",
            "metadata": {},
            "source": []
        },
        {
            "cell_type": "code",
            "execution_count": null,
            "metadata": {},
            "outputs": [],
            "source": [
                "@sensitive_variables(\"credentials\")\n",
                "def authenticate(request=None, **credentials):\n",
                "    \"\"\"\n",
                "    If the given credentials are valid, return a User object.\n",
                "    \"\"\"\n",
                "    for backend, backend_path in _get_backends(return_tuples=True):\n",
                "        backend_signature = inspect.signature(backend.authenticate)\n",
                "        try:\n",
                "            backend_signature.bind(request, **credentials)\n",
                "        except TypeError:\n",
                "            # This backend doesn't accept these credentials as arguments. Try\n",
                "            # the next one.\n",
                "            continue\n",
                "        try:\n",
                "            user = backend.authenticate(request, **credentials)\n",
                "        except PermissionDenied:\n",
                "            # This backend says to stop in our tracks - this user should not be\n",
                "            # allowed in at all.\n",
                "            break\n",
                "        if user is None:\n",
                "            continue\n",
                "        # Annotate the user object with the path of the backend.\n",
                "        user.backend = backend_path\n",
                "        return user\n",
                "\n",
                "    # The credentials supplied are invalid to all backends, fire signal\n",
                "    user_login_failed.send(\n",
                "        sender=__name__, credentials=_clean_credentials(credentials), request=request\n",
                "    )\n"
            ]
        },
        {
            "cell_type": "markdown",
            "metadata": {},
            "source": []
        },
        {
            "cell_type": "code",
            "execution_count": null,
            "metadata": {},
            "outputs": [],
            "source": [
                "@sensitive_variables(\"credentials\")\n",
                "async def aauthenticate(request=None, **credentials):\n",
                "    \"\"\"See authenticate().\"\"\"\n",
                "    return await sync_to_async(authenticate)(request, **credentials)\n"
            ]
        },
        {
            "cell_type": "markdown",
            "metadata": {},
            "source": []
        },
        {
            "cell_type": "code",
            "execution_count": null,
            "metadata": {},
            "outputs": [],
            "source": [
                "def login(request, user, backend=None):\n",
                "    \"\"\"\n",
                "    Persist a user id and a backend in the request. This way a user doesn't\n",
                "    have to reauthenticate on every request. Note that data set during\n",
                "    the anonymous session is retained when the user logs in.\n",
                "    \"\"\"\n",
                "    session_auth_hash = \"\"\n",
                "    if user is None:\n",
                "        user = request.user\n",
                "    if hasattr(user, \"get_session_auth_hash\"):\n",
                "        session_auth_hash = user.get_session_auth_hash()\n",
                "\n",
                "    if SESSION_KEY in request.session:\n",
                "        if _get_user_session_key(request) != user.pk or (\n",
                "            session_auth_hash\n",
                "            and not constant_time_compare(\n",
                "                request.session.get(HASH_SESSION_KEY, \"\"), session_auth_hash\n",
                "            )\n",
                "        ):\n",
                "            # To avoid reusing another user's session, create a new, empty\n",
                "            # session if the existing session corresponds to a different\n",
                "            # authenticated user.\n",
                "            request.session.flush()\n",
                "    else:\n",
                "        request.session.cycle_key()\n",
                "\n",
                "    try:\n",
                "        backend = backend or user.backend\n",
                "    except AttributeError:\n",
                "        backends = _get_backends(return_tuples=True)\n",
                "        if len(backends) == 1:\n",
                "            _, backend = backends[0]\n",
                "        else:\n",
                "            raise ValueError(\n",
                "                \"You have multiple authentication backends configured and \"\n",
                "                \"therefore must provide the `backend` argument or set the \"\n",
                "                \"`backend` attribute on the user.\"\n",
                "            )\n",
                "    else:\n",
                "        if not isinstance(backend, str):\n",
                "            raise TypeError(\n",
                "                \"backend must be a dotted import path string (got %r).\" % backend\n",
                "            )\n",
                "\n",
                "    request.session[SESSION_KEY] = user._meta.pk.value_to_string(user)\n",
                "    request.session[BACKEND_SESSION_KEY] = backend\n",
                "    request.session[HASH_SESSION_KEY] = session_auth_hash\n",
                "    if hasattr(request, \"user\"):\n",
                "        request.user = user\n",
                "    rotate_token(request)\n",
                "    user_logged_in.send(sender=user.__class__, request=request, user=user)\n"
            ]
        },
        {
            "cell_type": "markdown",
            "metadata": {},
            "source": []
        },
        {
            "cell_type": "code",
            "execution_count": null,
            "metadata": {},
            "outputs": [],
            "source": [
                "async def alogin(request, user, backend=None):\n",
                "    \"\"\"See login().\"\"\"\n",
                "    return await sync_to_async(login)(request, user, backend)\n"
            ]
        },
        {
            "cell_type": "markdown",
            "metadata": {},
            "source": []
        },
        {
            "cell_type": "code",
            "execution_count": null,
            "metadata": {},
            "outputs": [],
            "source": [
                "def logout(request):\n",
                "    \"\"\"\n",
                "    Remove the authenticated user's ID from the request and flush their session\n",
                "    data.\n",
                "    \"\"\"\n",
                "    # Dispatch the signal before the user is logged out so the receivers have a\n",
                "    # chance to find out *who* logged out.\n",
                "    user = getattr(request, \"user\", None)\n",
                "    if not getattr(user, \"is_authenticated\", True):\n",
                "        user = None\n",
                "    user_logged_out.send(sender=user.__class__, request=request, user=user)\n",
                "    request.session.flush()\n",
                "    if hasattr(request, \"user\"):\n",
                "        from django.contrib.auth.models import AnonymousUser\n",
                "\n",
                "        request.user = AnonymousUser()\n"
            ]
        },
        {
            "cell_type": "markdown",
            "metadata": {},
            "source": []
        },
        {
            "cell_type": "code",
            "execution_count": null,
            "metadata": {},
            "outputs": [],
            "source": [
                "async def alogout(request):\n",
                "    \"\"\"See logout().\"\"\"\n",
                "    return await sync_to_async(logout)(request)\n"
            ]
        },
        {
            "cell_type": "markdown",
            "metadata": {},
            "source": []
        },
        {
            "cell_type": "code",
            "execution_count": null,
            "metadata": {},
            "outputs": [],
            "source": [
                "def get_user_model():\n",
                "    \"\"\"\n",
                "    Return the User model that is active in this project.\n",
                "    \"\"\"\n",
                "    try:\n",
                "        return django_apps.get_model(settings.AUTH_USER_MODEL, require_ready=False)\n",
                "    except ValueError:\n",
                "        raise ImproperlyConfigured(\n",
                "            \"AUTH_USER_MODEL must be of the form 'app_label.model_name'\"\n",
                "        )\n",
                "    except LookupError:\n",
                "        raise ImproperlyConfigured(\n",
                "            \"AUTH_USER_MODEL refers to model '%s' that has not been installed\"\n",
                "            % settings.AUTH_USER_MODEL\n",
                "        )\n"
            ]
        },
        {
            "cell_type": "markdown",
            "metadata": {},
            "source": []
        },
        {
            "cell_type": "code",
            "execution_count": null,
            "metadata": {},
            "outputs": [],
            "source": [
                "def get_user(request):\n",
                "    \"\"\"\n",
                "    Return the user model instance associated with the given request session.\n",
                "    If no user is retrieved, return an instance of `AnonymousUser`.\n",
                "    \"\"\"\n",
                "    from .models import AnonymousUser\n",
                "\n",
                "    user = None\n",
                "    try:\n",
                "        user_id = _get_user_session_key(request)\n",
                "        backend_path = request.session[BACKEND_SESSION_KEY]\n",
                "    except KeyError:\n",
                "        pass\n",
                "    else:\n",
                "        if backend_path in settings.AUTHENTICATION_BACKENDS:\n",
                "            backend = load_backend(backend_path)\n",
                "            user = backend.get_user(user_id)\n",
                "            # Verify the session\n",
                "            if hasattr(user, \"get_session_auth_hash\"):\n",
                "                session_hash = request.session.get(HASH_SESSION_KEY)\n",
                "                if not session_hash:\n",
                "                    session_hash_verified = False\n",
                "                else:\n",
                "                    session_auth_hash = user.get_session_auth_hash()\n",
                "                    session_hash_verified = constant_time_compare(\n",
                "                        session_hash, session_auth_hash\n",
                "                    )\n",
                "                if not session_hash_verified:\n",
                "                    # If the current secret does not verify the session, try\n",
                "                    # with the fallback secrets and stop when a matching one is\n",
                "                    # found.\n",
                "                    if session_hash and any(\n",
                "                        constant_time_compare(session_hash, fallback_auth_hash)\n",
                "                        for fallback_auth_hash in user.get_session_auth_fallback_hash()\n",
                "                    ):\n",
                "                        request.session.cycle_key()\n",
                "                        request.session[HASH_SESSION_KEY] = session_auth_hash\n",
                "                    else:\n",
                "                        request.session.flush()\n",
                "                        user = None\n",
                "\n",
                "    return user or AnonymousUser()\n"
            ]
        },
        {
            "cell_type": "markdown",
            "metadata": {},
            "source": []
        },
        {
            "cell_type": "code",
            "execution_count": null,
            "metadata": {},
            "outputs": [],
            "source": [
                "async def aget_user(request):\n",
                "    \"\"\"See get_user().\"\"\"\n",
                "    return await sync_to_async(get_user)(request)\n"
            ]
        },
        {
            "cell_type": "markdown",
            "metadata": {},
            "source": []
        },
        {
            "cell_type": "code",
            "execution_count": null,
            "metadata": {},
            "outputs": [],
            "source": [
                "def get_permission_codename(action, opts):\n",
                "    \"\"\"\n",
                "    Return the codename of the permission for the specified action.\n",
                "    \"\"\"\n",
                "    return \"%s_%s\" % (action, opts.model_name)\n"
            ]
        },
        {
            "cell_type": "markdown",
            "metadata": {},
            "source": []
        },
        {
            "cell_type": "code",
            "execution_count": null,
            "metadata": {},
            "outputs": [],
            "source": [
                "def update_session_auth_hash(request, user):\n",
                "    \"\"\"\n",
                "    Updating a user's password logs out all sessions for the user.\n",
                "\n",
                "    Take the current request and the updated user object from which the new\n",
                "    session hash will be derived and update the session hash appropriately to\n",
                "    prevent a password change from logging out the session from which the\n",
                "    password was changed.\n",
                "    \"\"\"\n",
                "    request.session.cycle_key()\n",
                "    if hasattr(user, \"get_session_auth_hash\") and request.user == user:\n",
                "        request.session[HASH_SESSION_KEY] = user.get_session_auth_hash()\n"
            ]
        },
        {
            "cell_type": "markdown",
            "metadata": {},
            "source": []
        },
        {
            "cell_type": "code",
            "execution_count": null,
            "metadata": {},
            "outputs": [],
            "source": [
                "async def aupdate_session_auth_hash(request, user):\n",
                "    \"\"\"See update_session_auth_hash().\"\"\"\n",
                "    return await sync_to_async(update_session_auth_hash)(request, user)\n",
                "\n"
            ]
        },
        {
            "cell_type": "markdown",
            "metadata": {},
            "source": []
        }
    ],
    "metadata": {
        "language_info": {
            "name": "python"
        }
    },
    "nbformat": 4,
    "nbformat_minor": 2
}