{
    "cells": [
        {
            "cell_type": "code",
            "execution_count": null,
            "metadata": {},
            "outputs": [],
            "source": [
                "# PermWrapper and PermLookupDict proxy the permissions system into objects that\n",
                "# the template system can understand.\n"
            ]
        },
        {
            "cell_type": "markdown",
            "metadata": {},
            "source": []
        },
        {
            "cell_type": "code",
            "execution_count": null,
            "metadata": {},
            "outputs": [],
            "source": [
                "class PermLookupDict:\n",
                "    def __init__(self, user, app_label):\n",
                "        self.user, self.app_label = user, app_label\n",
                "\n",
                "    def __repr__(self):\n",
                "        return str(self.user.get_all_permissions())\n",
                "\n",
                "    def __getitem__(self, perm_name):\n",
                "        return self.user.has_perm(\"%s.%s\" % (self.app_label, perm_name))\n",
                "\n",
                "    def __iter__(self):\n",
                "        # To fix 'item in perms.someapp' and __getitem__ interaction we need to\n",
                "        # define __iter__. See #18979 for details.\n",
                "        raise TypeError(\"PermLookupDict is not iterable.\")\n",
                "\n",
                "    def __bool__(self):\n",
                "        return self.user.has_module_perms(self.app_label)\n"
            ]
        },
        {
            "cell_type": "markdown",
            "metadata": {},
            "source": []
        },
        {
            "cell_type": "code",
            "execution_count": null,
            "metadata": {},
            "outputs": [],
            "source": [
                "class PermWrapper:\n",
                "    def __init__(self, user):\n",
                "        self.user = user\n",
                "\n",
                "    def __repr__(self):\n",
                "        return f\"{self.__class__.__qualname__}({self.user!r})\"\n",
                "\n",
                "    def __getitem__(self, app_label):\n",
                "        return PermLookupDict(self.user, app_label)\n",
                "\n",
                "    def __iter__(self):\n",
                "        # I am large, I contain multitudes.\n",
                "        raise TypeError(\"PermWrapper is not iterable.\")\n",
                "\n",
                "    def __contains__(self, perm_name):\n",
                "        \"\"\"\n",
                "        Lookup by \"someapp\" or \"someapp.someperm\" in perms.\n",
                "        \"\"\"\n",
                "        if \".\" not in perm_name:\n",
                "            # The name refers to module.\n",
                "            return bool(self[perm_name])\n",
                "        app_label, perm_name = perm_name.split(\".\", 1)\n",
                "        return self[app_label][perm_name]\n"
            ]
        },
        {
            "cell_type": "markdown",
            "metadata": {},
            "source": []
        },
        {
            "cell_type": "code",
            "execution_count": null,
            "metadata": {},
            "outputs": [],
            "source": [
                "def auth(request):\n",
                "    \"\"\"\n",
                "    Return context variables required by apps that use Django's authentication\n",
                "    system.\n",
                "\n",
                "    If there is no 'user' attribute in the request, use AnonymousUser (from\n",
                "    django.contrib.auth).\n",
                "    \"\"\"\n",
                "    if hasattr(request, \"user\"):\n",
                "        user = request.user\n",
                "    else:\n",
                "        from django.contrib.auth.models import AnonymousUser\n",
                "\n",
                "        user = AnonymousUser()\n",
                "\n",
                "    return {\n",
                "        \"user\": user,\n",
                "        \"perms\": PermWrapper(user),\n",
                "    }\n",
                "\n"
            ]
        },
        {
            "cell_type": "markdown",
            "metadata": {},
            "source": []
        }
    ],
    "metadata": {
        "language_info": {
            "name": "python"
        }
    },
    "nbformat": 4,
    "nbformat_minor": 2
}