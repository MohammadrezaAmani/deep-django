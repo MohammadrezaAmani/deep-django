{
 "cells": [
  {
   "cell_type": "code",
   "execution_count": null,
   "metadata": {},
   "outputs": [],
   "source": [
    "from django import db\n",
    "from django.contrib import auth\n",
    "\n",
    "UserModel = auth.get_user_model()"
   ]
  },
  {
   "cell_type": "markdown",
   "metadata": {},
   "source": []
  },
  {
   "cell_type": "code",
   "execution_count": null,
   "metadata": {},
   "outputs": [],
   "source": [
    "def check_password(environ, username, password):\n",
    "    \"\"\"\n",
    "    Authenticate against Django's auth database.\n",
    "\n",
    "    mod_wsgi docs specify None, True, False as return value depending\n",
    "    on whether the user exists and authenticates.\n",
    "    \"\"\"\n",
    "    # db connection state is managed similarly to the wsgi handler\n",
    "    # as mod_wsgi may call these functions outside of a request/response cycle\n",
    "    db.reset_queries()\n",
    "    try:\n",
    "        try:\n",
    "            user = UserModel._default_manager.get_by_natural_key(username)\n",
    "        except UserModel.DoesNotExist:\n",
    "            return None\n",
    "        if not user.is_active:\n",
    "            return None\n",
    "        return user.check_password(password)\n",
    "    finally:\n",
    "        db.close_old_connections()"
   ]
  },
  {
   "cell_type": "markdown",
   "metadata": {},
   "source": []
  },
  {
   "cell_type": "code",
   "execution_count": null,
   "metadata": {},
   "outputs": [],
   "source": [
    "def groups_for_user(environ, username):\n",
    "    \"\"\"\n",
    "    Authorize a user based on groups\n",
    "    \"\"\"\n",
    "    db.reset_queries()\n",
    "    try:\n",
    "        try:\n",
    "            user = UserModel._default_manager.get_by_natural_key(username)\n",
    "        except UserModel.DoesNotExist:\n",
    "            return []\n",
    "        if not user.is_active:\n",
    "            return []\n",
    "        return [group.name.encode() for group in user.groups.all()]\n",
    "    finally:\n",
    "        db.close_old_connections()"
   ]
  },
  {
   "cell_type": "markdown",
   "metadata": {},
   "source": []
  }
 ],
 "metadata": {
  "language_info": {
   "name": "python"
  }
 },
 "nbformat": 4,
 "nbformat_minor": 2
}