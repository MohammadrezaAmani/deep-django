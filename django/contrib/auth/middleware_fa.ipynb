{
    "cells": [
        {
            "cell_type": "code",
            "execution_count": null,
            "metadata": {},
            "outputs": [],
            "source": [
                "from functools import partial\n",
                "\n",
                "from django.contrib import auth\n",
                "from django.contrib.auth import load_backend\n",
                "from django.contrib.auth.backends import RemoteUserBackend\n",
                "from django.core.exceptions import ImproperlyConfigured\n",
                "from django.utils.deprecation import MiddlewareMixin\n",
                "from django.utils.functional import SimpleLazyObject\n"
            ]
        },
        {
            "cell_type": "markdown",
            "metadata": {},
            "source": []
        },
        {
            "cell_type": "code",
            "execution_count": null,
            "metadata": {},
            "outputs": [],
            "source": [
                "def get_user(request):\n",
                "    if not hasattr(request, \"_cached_user\"):\n",
                "        request._cached_user = auth.get_user(request)\n",
                "    return request._cached_user\n"
            ]
        },
        {
            "cell_type": "markdown",
            "metadata": {},
            "source": []
        },
        {
            "cell_type": "code",
            "execution_count": null,
            "metadata": {},
            "outputs": [],
            "source": [
                "async def auser(request):\n",
                "    if not hasattr(request, \"_acached_user\"):\n",
                "        request._acached_user = await auth.aget_user(request)\n",
                "    return request._acached_user\n"
            ]
        },
        {
            "cell_type": "markdown",
            "metadata": {},
            "source": []
        },
        {
            "cell_type": "code",
            "execution_count": null,
            "metadata": {},
            "outputs": [],
            "source": [
                "class AuthenticationMiddleware(MiddlewareMixin):\n",
                "    def process_request(self, request):\n",
                "        if not hasattr(request, \"session\"):\n",
                "            raise ImproperlyConfigured(\n",
                "                \"The Django authentication middleware requires session \"\n",
                "                \"middleware to be installed. Edit your MIDDLEWARE setting to \"\n",
                "                \"insert \"\n",
                "                \"'django.contrib.sessions.middleware.SessionMiddleware' before \"\n",
                "                \"'django.contrib.auth.middleware.AuthenticationMiddleware'.\"\n",
                "            )\n",
                "        request.user = SimpleLazyObject(lambda: get_user(request))\n",
                "        request.auser = partial(auser, request)\n"
            ]
        },
        {
            "cell_type": "markdown",
            "metadata": {},
            "source": []
        },
        {
            "cell_type": "code",
            "execution_count": null,
            "metadata": {},
            "outputs": [],
            "source": [
                "class RemoteUserMiddleware(MiddlewareMixin):\n",
                "    \"\"\"\n",
                "    Middleware for utilizing web-server-provided authentication.\n",
                "\n",
                "    If request.user is not authenticated, then this middleware attempts to\n",
                "    authenticate the username passed in the ``REMOTE_USER`` request header.\n",
                "    If authentication is successful, the user is automatically logged in to\n",
                "    persist the user in the session.\n",
                "\n",
                "    The header used is configurable and defaults to ``REMOTE_USER``.  Subclass\n",
                "    this class and change the ``header`` attribute if you need to use a\n",
                "    different header.\n",
                "    \"\"\"\n",
                "\n",
                "    # Name of request header to grab username from.  This will be the key as\n",
                "    # used in the request.META dictionary, i.e. the normalization of headers to\n",
                "    # all uppercase and the addition of \"HTTP_\" prefix apply.\n",
                "    header = \"REMOTE_USER\"\n",
                "    force_logout_if_no_header = True\n",
                "\n",
                "    def process_request(self, request):\n",
                "        # AuthenticationMiddleware is required so that request.user exists.\n",
                "        if not hasattr(request, \"user\"):\n",
                "            raise ImproperlyConfigured(\n",
                "                \"The Django remote user auth middleware requires the\"\n",
                "                \" authentication middleware to be installed.  Edit your\"\n",
                "                \" MIDDLEWARE setting to insert\"\n",
                "                \" 'django.contrib.auth.middleware.AuthenticationMiddleware'\"\n",
                "                \" before the RemoteUserMiddleware class.\"\n",
                "            )\n",
                "        try:\n",
                "            username = request.META[self.header]\n",
                "        except KeyError:\n",
                "            # If specified header doesn't exist then remove any existing\n",
                "            # authenticated remote-user, or return (leaving request.user set to\n",
                "            # AnonymousUser by the AuthenticationMiddleware).\n",
                "            if self.force_logout_if_no_header and request.user.is_authenticated:\n",
                "                self._remove_invalid_user(request)\n",
                "            return\n",
                "        # If the user is already authenticated and that user is the user we are\n",
                "        # getting passed in the headers, then the correct user is already\n",
                "        # persisted in the session and we don't need to continue.\n",
                "        if request.user.is_authenticated:\n",
                "            if request.user.get_username() == self.clean_username(username, request):\n",
                "                return\n",
                "            else:\n",
                "                # An authenticated user is associated with the request, but\n",
                "                # it does not match the authorized user in the header.\n",
                "                self._remove_invalid_user(request)\n",
                "\n",
                "        # We are seeing this user for the first time in this session, attempt\n",
                "        # to authenticate the user.\n",
                "        user = auth.authenticate(request, remote_user=username)\n",
                "        if user:\n",
                "            # User is valid.  Set request.user and persist user in the session\n",
                "            # by logging the user in.\n",
                "            request.user = user\n",
                "            auth.login(request, user)\n",
                "\n",
                "    def clean_username(self, username, request):\n",
                "        \"\"\"\n",
                "        Allow the backend to clean the username, if the backend defines a\n",
                "        clean_username method.\n",
                "        \"\"\"\n",
                "        backend_str = request.session[auth.BACKEND_SESSION_KEY]\n",
                "        backend = auth.load_backend(backend_str)\n",
                "        try:\n",
                "            username = backend.clean_username(username)\n",
                "        except AttributeError:  # Backend has no clean_username method.\n",
                "            pass\n",
                "        return username\n",
                "\n",
                "    def _remove_invalid_user(self, request):\n",
                "        \"\"\"\n",
                "        Remove the current authenticated user in the request which is invalid\n",
                "        but only if the user is authenticated via the RemoteUserBackend.\n",
                "        \"\"\"\n",
                "        try:\n",
                "            stored_backend = load_backend(\n",
                "                request.session.get(auth.BACKEND_SESSION_KEY, \"\")\n",
                "            )\n",
                "        except ImportError:\n",
                "            # backend failed to load\n",
                "            auth.logout(request)\n",
                "        else:\n",
                "            if isinstance(stored_backend, RemoteUserBackend):\n",
                "                auth.logout(request)\n"
            ]
        },
        {
            "cell_type": "markdown",
            "metadata": {},
            "source": []
        },
        {
            "cell_type": "code",
            "execution_count": null,
            "metadata": {},
            "outputs": [],
            "source": [
                "class PersistentRemoteUserMiddleware(RemoteUserMiddleware):\n",
                "    \"\"\"\n",
                "    Middleware for web-server provided authentication on logon pages.\n",
                "\n",
                "    Like RemoteUserMiddleware but keeps the user authenticated even if\n",
                "    the header (``REMOTE_USER``) is not found in the request. Useful\n",
                "    for setups when the external authentication via ``REMOTE_USER``\n",
                "    is only expected to happen on some \"logon\" URL and the rest of\n",
                "    the application wants to use Django's authentication mechanism.\n",
                "    \"\"\"\n",
                "\n",
                "    force_logout_if_no_header = False\n",
                "\n"
            ]
        },
        {
            "cell_type": "markdown",
            "metadata": {},
            "source": []
        }
    ],
    "metadata": {
        "language_info": {
            "name": "python"
        }
    },
    "nbformat": 4,
    "nbformat_minor": 2
}