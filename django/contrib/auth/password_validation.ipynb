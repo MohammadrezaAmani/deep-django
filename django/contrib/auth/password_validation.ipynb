{
 "cells": [
  {
   "cell_type": "code",
   "execution_count": null,
   "metadata": {},
   "outputs": [],
   "source": [
    "import functools\n",
    "import gzip\n",
    "import re\n",
    "from difflib import SequenceMatcher\n",
    "from pathlib import Path\n",
    "\n",
    "from django.conf import settings\n",
    "from django.core.exceptions import (\n",
    "    FieldDoesNotExist,\n",
    "    ImproperlyConfigured,\n",
    "    ValidationError,\n",
    ")\n",
    "from django.utils.functional import cached_property, lazy\n",
    "from django.utils.html import format_html, format_html_join\n",
    "from django.utils.module_loading import import_string\n",
    "from django.utils.translation import gettext as _\n",
    "from django.utils.translation import ngettext"
   ]
  },
  {
   "cell_type": "markdown",
   "metadata": {},
   "source": []
  },
  {
   "cell_type": "code",
   "execution_count": null,
   "metadata": {},
   "outputs": [],
   "source": [
    "@functools.cache\n",
    "def get_default_password_validators():\n",
    "    return get_password_validators(settings.AUTH_PASSWORD_VALIDATORS)"
   ]
  },
  {
   "cell_type": "markdown",
   "metadata": {},
   "source": []
  },
  {
   "cell_type": "code",
   "execution_count": null,
   "metadata": {},
   "outputs": [],
   "source": [
    "def get_password_validators(validator_config):\n",
    "    validators = []\n",
    "    for validator in validator_config:\n",
    "        try:\n",
    "            klass = import_string(validator[\"NAME\"])\n",
    "        except ImportError:\n",
    "            msg = (\n",
    "                \"The module in NAME could not be imported: %s. Check your \"\n",
    "                \"AUTH_PASSWORD_VALIDATORS setting.\"\n",
    "            )\n",
    "            raise ImproperlyConfigured(msg % validator[\"NAME\"])\n",
    "        validators.append(klass(**validator.get(\"OPTIONS\", {})))\n",
    "\n",
    "    return validators"
   ]
  },
  {
   "cell_type": "markdown",
   "metadata": {},
   "source": []
  },
  {
   "cell_type": "code",
   "execution_count": null,
   "metadata": {},
   "outputs": [],
   "source": [
    "def validate_password(password, user=None, password_validators=None):\n",
    "    \"\"\"\n",
    "    Validate that the password meets all validator requirements.\n",
    "\n",
    "    If the password is valid, return ``None``.\n",
    "    If the password is invalid, raise ValidationError with all error messages.\n",
    "    \"\"\"\n",
    "    errors = []\n",
    "    if password_validators is None:\n",
    "        password_validators = get_default_password_validators()\n",
    "    for validator in password_validators:\n",
    "        try:\n",
    "            validator.validate(password, user)\n",
    "        except ValidationError as error:\n",
    "            errors.append(error)\n",
    "    if errors:\n",
    "        raise ValidationError(errors)"
   ]
  },
  {
   "cell_type": "markdown",
   "metadata": {},
   "source": []
  },
  {
   "cell_type": "code",
   "execution_count": null,
   "metadata": {},
   "outputs": [],
   "source": [
    "def password_changed(password, user=None, password_validators=None):\n",
    "    \"\"\"\n",
    "    Inform all validators that have implemented a password_changed() method\n",
    "    that the password has been changed.\n",
    "    \"\"\"\n",
    "    if password_validators is None:\n",
    "        password_validators = get_default_password_validators()\n",
    "    for validator in password_validators:\n",
    "        password_changed = getattr(validator, \"password_changed\", lambda *a: None)\n",
    "        password_changed(password, user)"
   ]
  },
  {
   "cell_type": "markdown",
   "metadata": {},
   "source": []
  },
  {
   "cell_type": "code",
   "execution_count": null,
   "metadata": {},
   "outputs": [],
   "source": [
    "def password_validators_help_texts(password_validators=None):\n",
    "    \"\"\"\n",
    "    Return a list of all help texts of all configured validators.\n",
    "    \"\"\"\n",
    "    help_texts = []\n",
    "    if password_validators is None:\n",
    "        password_validators = get_default_password_validators()\n",
    "    for validator in password_validators:\n",
    "        help_texts.append(validator.get_help_text())\n",
    "    return help_texts"
   ]
  },
  {
   "cell_type": "markdown",
   "metadata": {},
   "source": []
  },
  {
   "cell_type": "code",
   "execution_count": null,
   "metadata": {},
   "outputs": [],
   "source": [
    "def _password_validators_help_text_html(password_validators=None):\n",
    "    \"\"\"\n",
    "    Return an HTML string with all help texts of all configured validators\n",
    "    in an <ul>.\n",
    "    \"\"\"\n",
    "    help_texts = password_validators_help_texts(password_validators)\n",
    "    help_items = format_html_join(\n",
    "        \"\", \"<li>{}</li>\", ((help_text,) for help_text in help_texts)\n",
    "    )\n",
    "    return format_html(\"<ul>{}</ul>\", help_items) if help_items else \"\""
   ]
  },
  {
   "cell_type": "markdown",
   "metadata": {},
   "source": []
  },
  {
   "cell_type": "code",
   "execution_count": null,
   "metadata": {},
   "outputs": [],
   "source": [
    "password_validators_help_text_html = lazy(_password_validators_help_text_html, str)"
   ]
  },
  {
   "cell_type": "markdown",
   "metadata": {},
   "source": []
  },
  {
   "cell_type": "code",
   "execution_count": null,
   "metadata": {},
   "outputs": [],
   "source": [
    "class MinimumLengthValidator:\n",
    "    \"\"\"\n",
    "    Validate that the password is of a minimum length.\n",
    "    \"\"\"\n",
    "\n",
    "    def __init__(self, min_length=8):\n",
    "        self.min_length = min_length\n",
    "\n",
    "    def validate(self, password, user=None):\n",
    "        if len(password) < self.min_length:\n",
    "            raise ValidationError(\n",
    "                ngettext(\n",
    "                    \"This password is too short. It must contain at least \"\n",
    "                    \"%(min_length)d character.\",\n",
    "                    \"This password is too short. It must contain at least \"\n",
    "                    \"%(min_length)d characters.\",\n",
    "                    self.min_length,\n",
    "                ),\n",
    "                code=\"password_too_short\",\n",
    "                params={\"min_length\": self.min_length},\n",
    "            )\n",
    "\n",
    "    def get_help_text(self):\n",
    "        return ngettext(\n",
    "            \"Your password must contain at least %(min_length)d character.\",\n",
    "            \"Your password must contain at least %(min_length)d characters.\",\n",
    "            self.min_length,\n",
    "        ) % {\"min_length\": self.min_length}"
   ]
  },
  {
   "cell_type": "markdown",
   "metadata": {},
   "source": []
  },
  {
   "cell_type": "code",
   "execution_count": null,
   "metadata": {},
   "outputs": [],
   "source": [
    "def exceeds_maximum_length_ratio(password, max_similarity, value):\n",
    "    \"\"\"\n",
    "    Test that value is within a reasonable range of password.\n",
    "\n",
    "    The following ratio calculations are based on testing SequenceMatcher like\n",
    "    this:\n",
    "\n",
    "    for i in range(0,6):\n",
    "      print(10**i, SequenceMatcher(a='A', b='A'*(10**i)).quick_ratio())\n",
    "\n",
    "    which yields:\n",
    "\n",
    "    1 1.0\n",
    "    10 0.18181818181818182\n",
    "    100 0.019801980198019802\n",
    "    1000 0.001998001998001998\n",
    "    10000 0.00019998000199980003\n",
    "    100000 1.999980000199998e-05\n",
    "\n",
    "    This means a length_ratio of 10 should never yield a similarity higher than\n",
    "    0.2, for 100 this is down to 0.02 and for 1000 it is 0.002. This can be\n",
    "    calculated via 2 / length_ratio. As a result we avoid the potentially\n",
    "    expensive sequence matching.\n",
    "    \"\"\"\n",
    "    pwd_len = len(password)\n",
    "    length_bound_similarity = max_similarity / 2 * pwd_len\n",
    "    value_len = len(value)\n",
    "    return pwd_len >= 10 * value_len and value_len < length_bound_similarity"
   ]
  },
  {
   "cell_type": "markdown",
   "metadata": {},
   "source": []
  },
  {
   "cell_type": "code",
   "execution_count": null,
   "metadata": {},
   "outputs": [],
   "source": [
    "class UserAttributeSimilarityValidator:\n",
    "    \"\"\"\n",
    "    Validate that the password is sufficiently different from the user's\n",
    "    attributes.\n",
    "\n",
    "    If no specific attributes are provided, look at a sensible list of\n",
    "    defaults. Attributes that don't exist are ignored. Comparison is made to\n",
    "    not only the full attribute value, but also its components, so that, for\n",
    "    example, a password is validated against either part of an email address,\n",
    "    as well as the full address.\n",
    "    \"\"\"\n",
    "\n",
    "    DEFAULT_USER_ATTRIBUTES = (\"username\", \"first_name\", \"last_name\", \"email\")\n",
    "\n",
    "    def __init__(self, user_attributes=DEFAULT_USER_ATTRIBUTES, max_similarity=0.7):\n",
    "        self.user_attributes = user_attributes\n",
    "        if max_similarity < 0.1:\n",
    "            raise ValueError(\"max_similarity must be at least 0.1\")\n",
    "        self.max_similarity = max_similarity\n",
    "\n",
    "    def validate(self, password, user=None):\n",
    "        if not user:\n",
    "            return\n",
    "\n",
    "        password = password.lower()\n",
    "        for attribute_name in self.user_attributes:\n",
    "            value = getattr(user, attribute_name, None)\n",
    "            if not value or not isinstance(value, str):\n",
    "                continue\n",
    "            value_lower = value.lower()\n",
    "            value_parts = re.split(r\"\\W+\", value_lower) + [value_lower]\n",
    "            for value_part in value_parts:\n",
    "                if exceeds_maximum_length_ratio(\n",
    "                    password, self.max_similarity, value_part\n",
    "                ):\n",
    "                    continue\n",
    "                if (\n",
    "                    SequenceMatcher(a=password, b=value_part).quick_ratio()\n",
    "                    >= self.max_similarity\n",
    "                ):\n",
    "                    try:\n",
    "                        verbose_name = str(\n",
    "                            user._meta.get_field(attribute_name).verbose_name\n",
    "                        )\n",
    "                    except FieldDoesNotExist:\n",
    "                        verbose_name = attribute_name\n",
    "                    raise ValidationError(\n",
    "                        _(\"The password is too similar to the %(verbose_name)s.\"),\n",
    "                        code=\"password_too_similar\",\n",
    "                        params={\"verbose_name\": verbose_name},\n",
    "                    )\n",
    "\n",
    "    def get_help_text(self):\n",
    "        return _(\n",
    "            \"Your password can’t be too similar to your other personal information.\"\n",
    "        )"
   ]
  },
  {
   "cell_type": "markdown",
   "metadata": {},
   "source": []
  },
  {
   "cell_type": "code",
   "execution_count": null,
   "metadata": {},
   "outputs": [],
   "source": [
    "class CommonPasswordValidator:\n",
    "    \"\"\"\n",
    "    Validate that the password is not a common password.\n",
    "\n",
    "    The password is rejected if it occurs in a provided list of passwords,\n",
    "    which may be gzipped. The list Django ships with contains 20000 common\n",
    "    passwords (lowercased and deduplicated), created by Royce Williams:\n",
    "    https://gist.github.com/roycewilliams/226886fd01572964e1431ac8afc999ce\n",
    "    The password list must be lowercased to match the comparison in validate().\n",
    "    \"\"\"\n",
    "\n",
    "    @cached_property\n",
    "    def DEFAULT_PASSWORD_LIST_PATH(self):\n",
    "        return Path(__file__).resolve().parent / \"common-passwords.txt.gz\"\n",
    "\n",
    "    def __init__(self, password_list_path=DEFAULT_PASSWORD_LIST_PATH):\n",
    "        if password_list_path is CommonPasswordValidator.DEFAULT_PASSWORD_LIST_PATH:\n",
    "            password_list_path = self.DEFAULT_PASSWORD_LIST_PATH\n",
    "        try:\n",
    "            with gzip.open(password_list_path, \"rt\", encoding=\"utf-8\") as f:\n",
    "                self.passwords = {x.strip() for x in f}\n",
    "        except OSError:\n",
    "            with open(password_list_path) as f:\n",
    "                self.passwords = {x.strip() for x in f}\n",
    "\n",
    "    def validate(self, password, user=None):\n",
    "        if password.lower().strip() in self.passwords:\n",
    "            raise ValidationError(\n",
    "                _(\"This password is too common.\"),\n",
    "                code=\"password_too_common\",\n",
    "            )\n",
    "\n",
    "    def get_help_text(self):\n",
    "        return _(\"Your password can’t be a commonly used password.\")"
   ]
  },
  {
   "cell_type": "markdown",
   "metadata": {},
   "source": []
  },
  {
   "cell_type": "code",
   "execution_count": null,
   "metadata": {},
   "outputs": [],
   "source": [
    "class NumericPasswordValidator:\n",
    "    \"\"\"\n",
    "    Validate that the password is not entirely numeric.\n",
    "    \"\"\"\n",
    "\n",
    "    def validate(self, password, user=None):\n",
    "        if password.isdigit():\n",
    "            raise ValidationError(\n",
    "                _(\"This password is entirely numeric.\"),\n",
    "                code=\"password_entirely_numeric\",\n",
    "            )\n",
    "\n",
    "    def get_help_text(self):\n",
    "        return _(\"Your password can’t be entirely numeric.\")"
   ]
  },
  {
   "cell_type": "markdown",
   "metadata": {},
   "source": []
  }
 ],
 "metadata": {
  "language_info": {
   "name": "python"
  }
 },
 "nbformat": 4,
 "nbformat_minor": 2
}