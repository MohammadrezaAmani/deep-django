{
 "cells": [
  {
   "cell_type": "code",
   "execution_count": null,
   "metadata": {},
   "outputs": [],
   "source": [
    "import sys\n",
    "\n",
    "from django.core.management.color import color_style\n",
    "from django.db import IntegrityError, migrations, transaction\n",
    "from django.db.models import Q\n",
    "\n",
    "WARNING = \"\"\"\n",
    "    A problem arose migrating proxy model permissions for {old} to {new}.\n",
    "\n",
    "      Permission(s) for {new} already existed.\n",
    "      Codenames Q: {query}\n",
    "\n",
    "    Ensure to audit ALL permissions for {old} and {new}.\n",
    "\"\"\""
   ]
  },
  {
   "cell_type": "markdown",
   "metadata": {},
   "source": []
  },
  {
   "cell_type": "code",
   "execution_count": null,
   "metadata": {},
   "outputs": [],
   "source": [
    "def update_proxy_model_permissions(apps, schema_editor, reverse=False):\n",
    "    \"\"\"\n",
    "    Update the content_type of proxy model permissions to use the ContentType\n",
    "    of the proxy model.\n",
    "    \"\"\"\n",
    "    style = color_style()\n",
    "    Permission = apps.get_model(\"auth\", \"Permission\")\n",
    "    ContentType = apps.get_model(\"contenttypes\", \"ContentType\")\n",
    "    alias = schema_editor.connection.alias\n",
    "    for Model in apps.get_models():\n",
    "        opts = Model._meta\n",
    "        if not opts.proxy:\n",
    "            continue\n",
    "        proxy_default_permissions_codenames = [\n",
    "            \"%s_%s\" % (action, opts.model_name) for action in opts.default_permissions\n",
    "        ]\n",
    "        permissions_query = Q(codename__in=proxy_default_permissions_codenames)\n",
    "        for codename, name in opts.permissions:\n",
    "            permissions_query |= Q(codename=codename, name=name)\n",
    "        content_type_manager = ContentType.objects.db_manager(alias)\n",
    "        concrete_content_type = content_type_manager.get_for_model(\n",
    "            Model, for_concrete_model=True\n",
    "        )\n",
    "        proxy_content_type = content_type_manager.get_for_model(\n",
    "            Model, for_concrete_model=False\n",
    "        )\n",
    "        old_content_type = proxy_content_type if reverse else concrete_content_type\n",
    "        new_content_type = concrete_content_type if reverse else proxy_content_type\n",
    "        try:\n",
    "            with transaction.atomic(using=alias):\n",
    "                Permission.objects.using(alias).filter(\n",
    "                    permissions_query,\n",
    "                    content_type=old_content_type,\n",
    "                ).update(content_type=new_content_type)\n",
    "        except IntegrityError:\n",
    "            old = \"{}_{}\".format(old_content_type.app_label, old_content_type.model)\n",
    "            new = \"{}_{}\".format(new_content_type.app_label, new_content_type.model)\n",
    "            sys.stdout.write(\n",
    "                style.WARNING(WARNING.format(old=old, new=new, query=permissions_query))\n",
    "            )"
   ]
  },
  {
   "cell_type": "markdown",
   "metadata": {},
   "source": []
  },
  {
   "cell_type": "code",
   "execution_count": null,
   "metadata": {},
   "outputs": [],
   "source": [
    "def revert_proxy_model_permissions(apps, schema_editor):\n",
    "    \"\"\"\n",
    "    Update the content_type of proxy model permissions to use the ContentType\n",
    "    of the concrete model.\n",
    "    \"\"\"\n",
    "    update_proxy_model_permissions(apps, schema_editor, reverse=True)"
   ]
  },
  {
   "cell_type": "markdown",
   "metadata": {},
   "source": []
  },
  {
   "cell_type": "code",
   "execution_count": null,
   "metadata": {},
   "outputs": [],
   "source": [
    "class Migration(migrations.Migration):\n",
    "    dependencies = [\n",
    "        (\"auth\", \"0010_alter_group_name_max_length\"),\n",
    "        (\"contenttypes\", \"0002_remove_content_type_name\"),\n",
    "    ]\n",
    "    operations = [\n",
    "        migrations.RunPython(\n",
    "            update_proxy_model_permissions, revert_proxy_model_permissions\n",
    "        ),\n",
    "    ]"
   ]
  },
  {
   "cell_type": "markdown",
   "metadata": {},
   "source": []
  }
 ],
 "metadata": {
  "language_info": {
   "name": "python"
  }
 },
 "nbformat": 4,
 "nbformat_minor": 2
}