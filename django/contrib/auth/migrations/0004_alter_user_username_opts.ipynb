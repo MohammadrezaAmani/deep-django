{
    "cells": [
        {
            "cell_type": "code",
            "execution_count": null,
            "metadata": {},
            "outputs": [],
            "source": [
                "from django.contrib.auth import validators\n",
                "from django.db import migrations, models\n"
            ]
        },
        {
            "cell_type": "markdown",
            "metadata": {},
            "source": []
        },
        {
            "cell_type": "code",
            "execution_count": null,
            "metadata": {},
            "outputs": [],
            "source": [
                "class Migration(migrations.Migration):\n",
                "    dependencies = [\n",
                "        (\"auth\", \"0003_alter_user_email_max_length\"),\n",
                "    ]\n",
                "\n",
                "    # No database changes; modifies validators and error_messages (#13147).\n",
                "    operations = [\n",
                "        migrations.AlterField(\n",
                "            model_name=\"user\",\n",
                "            name=\"username\",\n",
                "            field=models.CharField(\n",
                "                error_messages={\"unique\": \"A user with that username already exists.\"},\n",
                "                max_length=30,\n",
                "                validators=[validators.UnicodeUsernameValidator()],\n",
                "                help_text=(\n",
                "                    \"Required. 30 characters or fewer. Letters, digits and @/./+/-/_ \"\n",
                "                    \"only.\"\n",
                "                ),\n",
                "                unique=True,\n",
                "                verbose_name=\"username\",\n",
                "            ),\n",
                "        ),\n",
                "    ]\n",
                "\n"
            ]
        },
        {
            "cell_type": "markdown",
            "metadata": {},
            "source": []
        }
    ],
    "metadata": {
        "language_info": {
            "name": "python"
        }
    },
    "nbformat": 4,
    "nbformat_minor": 2
}