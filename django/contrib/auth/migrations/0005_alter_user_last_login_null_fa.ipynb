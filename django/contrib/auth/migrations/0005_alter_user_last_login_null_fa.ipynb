{
 "cells": [
  {
   "cell_type": "code",
   "execution_count": null,
   "metadata": {},
   "outputs": [],
   "source": [
    "from django.db import migrations, models"
   ]
  },
  {
   "cell_type": "markdown",
   "metadata": {},
   "source": []
  },
  {
   "cell_type": "code",
   "execution_count": null,
   "metadata": {},
   "outputs": [],
   "source": [
    "class Migration(migrations.Migration):\n",
    "    dependencies = [\n",
    "        (\"auth\", \"0004_alter_user_username_opts\"),\n",
    "    ]\n",
    "\n",
    "    operations = [\n",
    "        migrations.AlterField(\n",
    "            model_name=\"user\",\n",
    "            name=\"last_login\",\n",
    "            field=models.DateTimeField(\n",
    "                null=True, verbose_name=\"last login\", blank=True\n",
    "            ),\n",
    "        ),\n",
    "    ]"
   ]
  },
  {
   "cell_type": "markdown",
   "metadata": {},
   "source": []
  }
 ],
 "metadata": {
  "language_info": {
   "name": "python"
  }
 },
 "nbformat": 4,
 "nbformat_minor": 2
}