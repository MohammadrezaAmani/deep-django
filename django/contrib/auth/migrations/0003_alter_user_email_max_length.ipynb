{
    "cells": [
        {
            "cell_type": "code",
            "execution_count": null,
            "metadata": {},
            "outputs": [],
            "source": [
                "from django.db import migrations, models\n"
            ]
        },
        {
            "cell_type": "markdown",
            "metadata": {},
            "source": []
        },
        {
            "cell_type": "code",
            "execution_count": null,
            "metadata": {},
            "outputs": [],
            "source": [
                "class Migration(migrations.Migration):\n",
                "    dependencies = [\n",
                "        (\"auth\", \"0002_alter_permission_name_max_length\"),\n",
                "    ]\n",
                "\n",
                "    operations = [\n",
                "        migrations.AlterField(\n",
                "            model_name=\"user\",\n",
                "            name=\"email\",\n",
                "            field=models.EmailField(\n",
                "                max_length=254, verbose_name=\"email address\", blank=True\n",
                "            ),\n",
                "        ),\n",
                "    ]\n",
                "\n"
            ]
        },
        {
            "cell_type": "markdown",
            "metadata": {},
            "source": []
        }
    ],
    "metadata": {
        "language_info": {
            "name": "python"
        }
    },
    "nbformat": 4,
    "nbformat_minor": 2
}