{
    "cells": [
        {
            "cell_type": "code",
            "execution_count": null,
            "metadata": {},
            "outputs": [],
            "source": [
                "from django.contrib.auth import validators\n",
                "from django.db import migrations, models\n"
            ]
        },
        {
            "cell_type": "markdown",
            "metadata": {},
            "source": []
        },
        {
            "cell_type": "code",
            "execution_count": null,
            "metadata": {},
            "outputs": [],
            "source": [
                "class Migration(migrations.Migration):\n",
                "    dependencies = [\n",
                "        (\"auth\", \"0007_alter_validators_add_error_messages\"),\n",
                "    ]\n",
                "\n",
                "    operations = [\n",
                "        migrations.AlterField(\n",
                "            model_name=\"user\",\n",
                "            name=\"username\",\n",
                "            field=models.CharField(\n",
                "                error_messages={\"unique\": \"A user with that username already exists.\"},\n",
                "                help_text=(\n",
                "                    \"Required. 150 characters or fewer. Letters, digits and @/./+/-/_ \"\n",
                "                    \"only.\"\n",
                "                ),\n",
                "                max_length=150,\n",
                "                unique=True,\n",
                "                validators=[validators.UnicodeUsernameValidator()],\n",
                "                verbose_name=\"username\",\n",
                "            ),\n",
                "        ),\n",
                "    ]\n",
                "\n"
            ]
        },
        {
            "cell_type": "markdown",
            "metadata": {},
            "source": []
        }
    ],
    "metadata": {
        "language_info": {
            "name": "python"
        }
    },
    "nbformat": 4,
    "nbformat_minor": 2
}