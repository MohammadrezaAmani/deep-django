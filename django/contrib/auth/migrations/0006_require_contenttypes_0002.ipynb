{
 "cells": [
  {
   "cell_type": "code",
   "execution_count": null,
   "metadata": {},
   "outputs": [],
   "source": [
    "from django.db import migrations"
   ]
  },
  {
   "cell_type": "markdown",
   "metadata": {},
   "source": []
  },
  {
   "cell_type": "code",
   "execution_count": null,
   "metadata": {},
   "outputs": [],
   "source": [
    "class Migration(migrations.Migration):\n",
    "    dependencies = [\n",
    "        (\"auth\", \"0005_alter_user_last_login_null\"),\n",
    "        (\"contenttypes\", \"0002_remove_content_type_name\"),\n",
    "    ]\n",
    "\n",
    "    operations = [\n",
    "        # Ensure the contenttypes migration is applied before sending\n",
    "        # post_migrate signals (which create ContentTypes).\n",
    "    ]"
   ]
  },
  {
   "cell_type": "markdown",
   "metadata": {},
   "source": []
  }
 ],
 "metadata": {
  "language_info": {
   "name": "python"
  }
 },
 "nbformat": 4,
 "nbformat_minor": 2
}