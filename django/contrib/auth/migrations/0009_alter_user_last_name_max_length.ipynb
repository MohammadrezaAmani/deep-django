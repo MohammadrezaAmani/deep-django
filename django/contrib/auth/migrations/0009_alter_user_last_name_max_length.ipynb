{
 "cells": [
  {
   "cell_type": "code",
   "execution_count": null,
   "metadata": {},
   "outputs": [],
   "source": [
    "from django.db import migrations, models"
   ]
  },
  {
   "cell_type": "markdown",
   "metadata": {},
   "source": []
  },
  {
   "cell_type": "code",
   "execution_count": null,
   "metadata": {},
   "outputs": [],
   "source": [
    "class Migration(migrations.Migration):\n",
    "    dependencies = [\n",
    "        (\"auth\", \"0008_alter_user_username_max_length\"),\n",
    "    ]\n",
    "\n",
    "    operations = [\n",
    "        migrations.AlterField(\n",
    "            model_name=\"user\",\n",
    "            name=\"last_name\",\n",
    "            field=models.CharField(\n",
    "                blank=True, max_length=150, verbose_name=\"last name\"\n",
    "            ),\n",
    "        ),\n",
    "    ]"
   ]
  },
  {
   "cell_type": "markdown",
   "metadata": {},
   "source": []
  }
 ],
 "metadata": {
  "language_info": {
   "name": "python"
  }
 },
 "nbformat": 4,
 "nbformat_minor": 2
}