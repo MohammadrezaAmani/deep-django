{
 "cells": [
  {
   "cell_type": "code",
   "execution_count": null,
   "metadata": {},
   "outputs": [],
   "source": [
    "from django.apps import AppConfig\n",
    "from django.core import checks\n",
    "from django.db.models.query_utils import DeferredAttribute\n",
    "from django.db.models.signals import post_migrate\n",
    "from django.utils.translation import gettext_lazy as _\n",
    "\n",
    "from . import get_user_model\n",
    "from .checks import check_models_permissions, check_user_model\n",
    "from .management import create_permissions\n",
    "from .signals import user_logged_in"
   ]
  },
  {
   "cell_type": "markdown",
   "metadata": {},
   "source": []
  },
  {
   "cell_type": "code",
   "execution_count": null,
   "metadata": {},
   "outputs": [],
   "source": [
    "class AuthConfig(AppConfig):\n",
    "    default_auto_field = \"django.db.models.AutoField\"\n",
    "    name = \"django.contrib.auth\"\n",
    "    verbose_name = _(\"Authentication and Authorization\")\n",
    "\n",
    "    def ready(self):\n",
    "        post_migrate.connect(\n",
    "            create_permissions,\n",
    "            dispatch_uid=\"django.contrib.auth.management.create_permissions\",\n",
    "        )\n",
    "        last_login_field = getattr(get_user_model(), \"last_login\", None)\n",
    "        # Register the handler only if UserModel.last_login is a field.\n",
    "        if isinstance(last_login_field, DeferredAttribute):\n",
    "            from .models import update_last_login\n",
    "\n",
    "            user_logged_in.connect(update_last_login, dispatch_uid=\"update_last_login\")\n",
    "        checks.register(check_user_model, checks.Tags.models)\n",
    "        checks.register(check_models_permissions, checks.Tags.models)"
   ]
  },
  {
   "cell_type": "markdown",
   "metadata": {},
   "source": []
  }
 ],
 "metadata": {
  "language_info": {
   "name": "python"
  }
 },
 "nbformat": 4,
 "nbformat_minor": 2
}