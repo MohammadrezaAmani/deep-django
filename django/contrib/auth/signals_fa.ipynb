{
 "cells": [
  {
   "cell_type": "code",
   "execution_count": null,
   "metadata": {},
   "outputs": [],
   "source": [
    "from django.dispatch import Signal\n",
    "\n",
    "user_logged_in = Signal()\n",
    "user_login_failed = Signal()\n",
    "user_logged_out = Signal()"
   ]
  },
  {
   "cell_type": "markdown",
   "metadata": {},
   "source": []
  }
 ],
 "metadata": {
  "language_info": {
   "name": "python"
  }
 },
 "nbformat": 4,
 "nbformat_minor": 2
}