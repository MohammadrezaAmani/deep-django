{
    "cells": [
        {
            "cell_type": "code",
            "execution_count": null,
            "metadata": {},
            "outputs": [],
            "source": [
                "from functools import wraps\n",
                "from urllib.parse import urlparse\n",
                "\n",
                "from django.conf import settings\n",
                "from django.contrib.auth import REDIRECT_FIELD_NAME\n",
                "from django.core.exceptions import PermissionDenied\n",
                "from django.shortcuts import resolve_url\n"
            ]
        },
        {
            "cell_type": "markdown",
            "metadata": {},
            "source": []
        },
        {
            "cell_type": "code",
            "execution_count": null,
            "metadata": {},
            "outputs": [],
            "source": [
                "def user_passes_test(\n",
                "    test_func, login_url=None, redirect_field_name=REDIRECT_FIELD_NAME\n",
                "):\n",
                "    \"\"\"\n",
                "    Decorator for views that checks that the user passes the given test,\n",
                "    redirecting to the log-in page if necessary. The test should be a callable\n",
                "    that takes the user object and returns True if the user passes.\n",
                "    \"\"\"\n",
                "\n",
                "    def decorator(view_func):\n",
                "        @wraps(view_func)\n",
                "        def _wrapper_view(request, *args, **kwargs):\n",
                "            if test_func(request.user):\n",
                "                return view_func(request, *args, **kwargs)\n",
                "            path = request.build_absolute_uri()\n",
                "            resolved_login_url = resolve_url(login_url or settings.LOGIN_URL)\n",
                "            # If the login url is the same scheme and net location then just\n",
                "            # use the path as the \"next\" url.\n",
                "            login_scheme, login_netloc = urlparse(resolved_login_url)[:2]\n",
                "            current_scheme, current_netloc = urlparse(path)[:2]\n",
                "            if (not login_scheme or login_scheme == current_scheme) and (\n",
                "                not login_netloc or login_netloc == current_netloc\n",
                "            ):\n",
                "                path = request.get_full_path()\n",
                "            from django.contrib.auth.views import redirect_to_login\n",
                "\n",
                "            return redirect_to_login(path, resolved_login_url, redirect_field_name)\n",
                "\n",
                "        return _wrapper_view\n",
                "\n",
                "    return decorator\n"
            ]
        },
        {
            "cell_type": "markdown",
            "metadata": {},
            "source": []
        },
        {
            "cell_type": "code",
            "execution_count": null,
            "metadata": {},
            "outputs": [],
            "source": [
                "def login_required(\n",
                "    function=None, redirect_field_name=REDIRECT_FIELD_NAME, login_url=None\n",
                "):\n",
                "    \"\"\"\n",
                "    Decorator for views that checks that the user is logged in, redirecting\n",
                "    to the log-in page if necessary.\n",
                "    \"\"\"\n",
                "    actual_decorator = user_passes_test(\n",
                "        lambda u: u.is_authenticated,\n",
                "        login_url=login_url,\n",
                "        redirect_field_name=redirect_field_name,\n",
                "    )\n",
                "    if function:\n",
                "        return actual_decorator(function)\n",
                "    return actual_decorator\n"
            ]
        },
        {
            "cell_type": "markdown",
            "metadata": {},
            "source": []
        },
        {
            "cell_type": "code",
            "execution_count": null,
            "metadata": {},
            "outputs": [],
            "source": [
                "def permission_required(perm, login_url=None, raise_exception=False):\n",
                "    \"\"\"\n",
                "    Decorator for views that checks whether a user has a particular permission\n",
                "    enabled, redirecting to the log-in page if necessary.\n",
                "    If the raise_exception parameter is given the PermissionDenied exception\n",
                "    is raised.\n",
                "    \"\"\"\n",
                "\n",
                "    def check_perms(user):\n",
                "        if isinstance(perm, str):\n",
                "            perms = (perm,)\n",
                "        else:\n",
                "            perms = perm\n",
                "        # First check if the user has the permission (even anon users)\n",
                "        if user.has_perms(perms):\n",
                "            return True\n",
                "        # In case the 403 handler should be called raise the exception\n",
                "        if raise_exception:\n",
                "            raise PermissionDenied\n",
                "        # As the last resort, show the login form\n",
                "        return False\n",
                "\n",
                "    return user_passes_test(check_perms, login_url=login_url)\n",
                "\n"
            ]
        },
        {
            "cell_type": "markdown",
            "metadata": {},
            "source": []
        }
    ],
    "metadata": {
        "language_info": {
            "name": "python"
        }
    },
    "nbformat": 4,
    "nbformat_minor": 2
}