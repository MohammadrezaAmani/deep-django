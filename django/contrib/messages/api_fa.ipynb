{
    "cells": [
        {
            "cell_type": "code",
            "execution_count": null,
            "metadata": {},
            "outputs": [],
            "source": [
                "from django.contrib.messages import constants\n",
                "from django.contrib.messages.storage import default_storage\n",
                "\n",
                "__all__ = (\n",
                "    \"add_message\",\n",
                "    \"get_messages\",\n",
                "    \"get_level\",\n",
                "    \"set_level\",\n",
                "    \"debug\",\n",
                "    \"info\",\n",
                "    \"success\",\n",
                "    \"warning\",\n",
                "    \"error\",\n",
                "    \"MessageFailure\",\n",
                ")\n"
            ]
        },
        {
            "cell_type": "markdown",
            "metadata": {},
            "source": []
        },
        {
            "cell_type": "code",
            "execution_count": null,
            "metadata": {},
            "outputs": [],
            "source": [
                "class MessageFailure(Exception):\n",
                "    pass\n"
            ]
        },
        {
            "cell_type": "markdown",
            "metadata": {},
            "source": []
        },
        {
            "cell_type": "code",
            "execution_count": null,
            "metadata": {},
            "outputs": [],
            "source": [
                "def add_message(request, level, message, extra_tags=\"\", fail_silently=False):\n",
                "    \"\"\"\n",
                "    Attempt to add a message to the request using the 'messages' app.\n",
                "    \"\"\"\n",
                "    try:\n",
                "        messages = request._messages\n",
                "    except AttributeError:\n",
                "        if not hasattr(request, \"META\"):\n",
                "            raise TypeError(\n",
                "                \"add_message() argument must be an HttpRequest object, not \"\n",
                "                \"'%s'.\" % request.__class__.__name__\n",
                "            )\n",
                "        if not fail_silently:\n",
                "            raise MessageFailure(\n",
                "                \"You cannot add messages without installing \"\n",
                "                \"django.contrib.messages.middleware.MessageMiddleware\"\n",
                "            )\n",
                "    else:\n",
                "        return messages.add(level, message, extra_tags)\n"
            ]
        },
        {
            "cell_type": "markdown",
            "metadata": {},
            "source": []
        },
        {
            "cell_type": "code",
            "execution_count": null,
            "metadata": {},
            "outputs": [],
            "source": [
                "def get_messages(request):\n",
                "    \"\"\"\n",
                "    Return the message storage on the request if it exists, otherwise return\n",
                "    an empty list.\n",
                "    \"\"\"\n",
                "    return getattr(request, \"_messages\", [])\n"
            ]
        },
        {
            "cell_type": "markdown",
            "metadata": {},
            "source": []
        },
        {
            "cell_type": "code",
            "execution_count": null,
            "metadata": {},
            "outputs": [],
            "source": [
                "def get_level(request):\n",
                "    \"\"\"\n",
                "    Return the minimum level of messages to be recorded.\n",
                "\n",
                "    The default level is the ``MESSAGE_LEVEL`` setting. If this is not found,\n",
                "    use the ``INFO`` level.\n",
                "    \"\"\"\n",
                "    storage = getattr(request, \"_messages\", default_storage(request))\n",
                "    return storage.level\n"
            ]
        },
        {
            "cell_type": "markdown",
            "metadata": {},
            "source": []
        },
        {
            "cell_type": "code",
            "execution_count": null,
            "metadata": {},
            "outputs": [],
            "source": [
                "def set_level(request, level):\n",
                "    \"\"\"\n",
                "    Set the minimum level of messages to be recorded, and return ``True`` if\n",
                "    the level was recorded successfully.\n",
                "\n",
                "    If set to ``None``, use the default level (see the get_level() function).\n",
                "    \"\"\"\n",
                "    if not hasattr(request, \"_messages\"):\n",
                "        return False\n",
                "    request._messages.level = level\n",
                "    return True\n"
            ]
        },
        {
            "cell_type": "markdown",
            "metadata": {},
            "source": []
        },
        {
            "cell_type": "code",
            "execution_count": null,
            "metadata": {},
            "outputs": [],
            "source": [
                "def debug(request, message, extra_tags=\"\", fail_silently=False):\n",
                "    \"\"\"Add a message with the ``DEBUG`` level.\"\"\"\n",
                "    add_message(\n",
                "        request,\n",
                "        constants.DEBUG,\n",
                "        message,\n",
                "        extra_tags=extra_tags,\n",
                "        fail_silently=fail_silently,\n",
                "    )\n"
            ]
        },
        {
            "cell_type": "markdown",
            "metadata": {},
            "source": []
        },
        {
            "cell_type": "code",
            "execution_count": null,
            "metadata": {},
            "outputs": [],
            "source": [
                "def info(request, message, extra_tags=\"\", fail_silently=False):\n",
                "    \"\"\"Add a message with the ``INFO`` level.\"\"\"\n",
                "    add_message(\n",
                "        request,\n",
                "        constants.INFO,\n",
                "        message,\n",
                "        extra_tags=extra_tags,\n",
                "        fail_silently=fail_silently,\n",
                "    )\n"
            ]
        },
        {
            "cell_type": "markdown",
            "metadata": {},
            "source": []
        },
        {
            "cell_type": "code",
            "execution_count": null,
            "metadata": {},
            "outputs": [],
            "source": [
                "def success(request, message, extra_tags=\"\", fail_silently=False):\n",
                "    \"\"\"Add a message with the ``SUCCESS`` level.\"\"\"\n",
                "    add_message(\n",
                "        request,\n",
                "        constants.SUCCESS,\n",
                "        message,\n",
                "        extra_tags=extra_tags,\n",
                "        fail_silently=fail_silently,\n",
                "    )\n"
            ]
        },
        {
            "cell_type": "markdown",
            "metadata": {},
            "source": []
        },
        {
            "cell_type": "code",
            "execution_count": null,
            "metadata": {},
            "outputs": [],
            "source": [
                "def warning(request, message, extra_tags=\"\", fail_silently=False):\n",
                "    \"\"\"Add a message with the ``WARNING`` level.\"\"\"\n",
                "    add_message(\n",
                "        request,\n",
                "        constants.WARNING,\n",
                "        message,\n",
                "        extra_tags=extra_tags,\n",
                "        fail_silently=fail_silently,\n",
                "    )\n"
            ]
        },
        {
            "cell_type": "markdown",
            "metadata": {},
            "source": []
        },
        {
            "cell_type": "code",
            "execution_count": null,
            "metadata": {},
            "outputs": [],
            "source": [
                "def error(request, message, extra_tags=\"\", fail_silently=False):\n",
                "    \"\"\"Add a message with the ``ERROR`` level.\"\"\"\n",
                "    add_message(\n",
                "        request,\n",
                "        constants.ERROR,\n",
                "        message,\n",
                "        extra_tags=extra_tags,\n",
                "        fail_silently=fail_silently,\n",
                "    )\n",
                "\n"
            ]
        },
        {
            "cell_type": "markdown",
            "metadata": {},
            "source": []
        }
    ],
    "metadata": {
        "language_info": {
            "name": "python"
        }
    },
    "nbformat": 4,
    "nbformat_minor": 2
}