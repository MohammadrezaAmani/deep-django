{
 "cells": [
  {
   "cell_type": "code",
   "execution_count": null,
   "metadata": {},
   "outputs": [],
   "source": [
    "from django.contrib.messages.storage.base import BaseStorage\n",
    "from django.contrib.messages.storage.cookie import CookieStorage\n",
    "from django.contrib.messages.storage.session import SessionStorage"
   ]
  },
  {
   "cell_type": "markdown",
   "metadata": {},
   "source": []
  },
  {
   "cell_type": "code",
   "execution_count": null,
   "metadata": {},
   "outputs": [],
   "source": [
    "class FallbackStorage(BaseStorage):\n",
    "    \"\"\"\n",
    "    Try to store all messages in the first backend. Store any unstored\n",
    "    messages in each subsequent backend.\n",
    "    \"\"\"\n",
    "\n",
    "    storage_classes = (CookieStorage, SessionStorage)\n",
    "\n",
    "    def __init__(self, *args, **kwargs):\n",
    "        super().__init__(*args, **kwargs)\n",
    "        self.storages = [\n",
    "            storage_class(*args, **kwargs) for storage_class in self.storage_classes\n",
    "        ]\n",
    "        self._used_storages = set()\n",
    "\n",
    "    def _get(self, *args, **kwargs):\n",
    "        \"\"\"\n",
    "        Get a single list of messages from all storage backends.\n",
    "        \"\"\"\n",
    "        all_messages = []\n",
    "        for storage in self.storages:\n",
    "            messages, all_retrieved = storage._get()\n",
    "            # If the backend hasn't been used, no more retrieval is necessary.\n",
    "            if messages is None:\n",
    "                break\n",
    "            if messages:\n",
    "                self._used_storages.add(storage)\n",
    "            all_messages.extend(messages)\n",
    "            # If this storage class contained all the messages, no further\n",
    "            # retrieval is necessary\n",
    "            if all_retrieved:\n",
    "                break\n",
    "        return all_messages, all_retrieved\n",
    "\n",
    "    def _store(self, messages, response, *args, **kwargs):\n",
    "        \"\"\"\n",
    "        Store the messages and return any unstored messages after trying all\n",
    "        backends.\n",
    "\n",
    "        For each storage backend, any messages not stored are passed on to the\n",
    "        next backend.\n",
    "        \"\"\"\n",
    "        for storage in self.storages:\n",
    "            if messages:\n",
    "                messages = storage._store(messages, response, remove_oldest=False)\n",
    "            # Even if there are no more messages, continue iterating to ensure\n",
    "            # storages which contained messages are flushed.\n",
    "            elif storage in self._used_storages:\n",
    "                storage._store([], response)\n",
    "                self._used_storages.remove(storage)\n",
    "        return messages"
   ]
  },
  {
   "cell_type": "markdown",
   "metadata": {},
   "source": []
  }
 ],
 "metadata": {
  "language_info": {
   "name": "python"
  }
 },
 "nbformat": 4,
 "nbformat_minor": 2
}