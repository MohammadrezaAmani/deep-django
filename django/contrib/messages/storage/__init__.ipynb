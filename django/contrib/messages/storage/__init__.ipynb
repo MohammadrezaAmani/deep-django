{
    "cells": [
        {
            "cell_type": "code",
            "execution_count": null,
            "metadata": {},
            "outputs": [],
            "source": [
                "from django.conf import settings\n",
                "from django.utils.module_loading import import_string\n"
            ]
        },
        {
            "cell_type": "markdown",
            "metadata": {},
            "source": []
        },
        {
            "cell_type": "code",
            "execution_count": null,
            "metadata": {},
            "outputs": [],
            "source": [
                "def default_storage(request):\n",
                "    \"\"\"\n",
                "    Callable with the same interface as the storage classes.\n",
                "\n",
                "    This isn't just default_storage = import_string(settings.MESSAGE_STORAGE)\n",
                "    to avoid accessing the settings at the module level.\n",
                "    \"\"\"\n",
                "    return import_string(settings.MESSAGE_STORAGE)(request)\n",
                "\n"
            ]
        },
        {
            "cell_type": "markdown",
            "metadata": {},
            "source": []
        }
    ],
    "metadata": {
        "language_info": {
            "name": "python"
        }
    },
    "nbformat": 4,
    "nbformat_minor": 2
}