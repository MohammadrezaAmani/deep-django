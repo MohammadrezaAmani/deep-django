{
 "cells": [
  {
   "cell_type": "code",
   "execution_count": null,
   "metadata": {},
   "outputs": [],
   "source": [
    "import json\n",
    "\n",
    "from django.contrib.messages.storage.base import BaseStorage\n",
    "from django.contrib.messages.storage.cookie import MessageDecoder, MessageEncoder\n",
    "from django.core.exceptions import ImproperlyConfigured"
   ]
  },
  {
   "cell_type": "markdown",
   "metadata": {},
   "source": []
  },
  {
   "cell_type": "code",
   "execution_count": null,
   "metadata": {},
   "outputs": [],
   "source": [
    "class SessionStorage(BaseStorage):\n",
    "    \"\"\"\n",
    "    Store messages in the session (that is, django.contrib.sessions).\n",
    "    \"\"\"\n",
    "\n",
    "    session_key = \"_messages\"\n",
    "\n",
    "    def __init__(self, request, *args, **kwargs):\n",
    "        if not hasattr(request, \"session\"):\n",
    "            raise ImproperlyConfigured(\n",
    "                \"The session-based temporary message storage requires session \"\n",
    "                \"middleware to be installed, and come before the message \"\n",
    "                \"middleware in the MIDDLEWARE list.\"\n",
    "            )\n",
    "        super().__init__(request, *args, **kwargs)\n",
    "\n",
    "    def _get(self, *args, **kwargs):\n",
    "        \"\"\"\n",
    "        Retrieve a list of messages from the request's session. This storage\n",
    "        always stores everything it is given, so return True for the\n",
    "        all_retrieved flag.\n",
    "        \"\"\"\n",
    "        return (\n",
    "            self.deserialize_messages(self.request.session.get(self.session_key)),\n",
    "            True,\n",
    "        )\n",
    "\n",
    "    def _store(self, messages, response, *args, **kwargs):\n",
    "        \"\"\"\n",
    "        Store a list of messages to the request's session.\n",
    "        \"\"\"\n",
    "        if messages:\n",
    "            self.request.session[self.session_key] = self.serialize_messages(messages)\n",
    "        else:\n",
    "            self.request.session.pop(self.session_key, None)\n",
    "        return []\n",
    "\n",
    "    def serialize_messages(self, messages):\n",
    "        encoder = MessageEncoder()\n",
    "        return encoder.encode(messages)\n",
    "\n",
    "    def deserialize_messages(self, data):\n",
    "        if data and isinstance(data, str):\n",
    "            return json.loads(data, cls=MessageDecoder)\n",
    "        return data"
   ]
  },
  {
   "cell_type": "markdown",
   "metadata": {},
   "source": []
  }
 ],
 "metadata": {
  "language_info": {
   "name": "python"
  }
 },
 "nbformat": 4,
 "nbformat_minor": 2
}