{
 "cells": [
  {
   "cell_type": "code",
   "execution_count": null,
   "metadata": {},
   "outputs": [],
   "source": [
    "DEBUG = 10\n",
    "INFO = 20\n",
    "SUCCESS = 25\n",
    "WARNING = 30\n",
    "ERROR = 40\n",
    "\n",
    "DEFAULT_TAGS = {\n",
    "    DEBUG: \"debug\",\n",
    "    INFO: \"info\",\n",
    "    SUCCESS: \"success\",\n",
    "    WARNING: \"warning\",\n",
    "    ERROR: \"error\",\n",
    "}\n",
    "\n",
    "DEFAULT_LEVELS = {\n",
    "    \"DEBUG\": DEBUG,\n",
    "    \"INFO\": INFO,\n",
    "    \"SUCCESS\": SUCCESS,\n",
    "    \"WARNING\": WARNING,\n",
    "    \"ERROR\": ERROR,\n",
    "}"
   ]
  },
  {
   "cell_type": "markdown",
   "metadata": {},
   "source": []
  }
 ],
 "metadata": {
  "language_info": {
   "name": "python"
  }
 },
 "nbformat": 4,
 "nbformat_minor": 2
}