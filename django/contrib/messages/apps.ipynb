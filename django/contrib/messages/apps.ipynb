{
    "cells": [
        {
            "cell_type": "code",
            "execution_count": null,
            "metadata": {},
            "outputs": [],
            "source": [
                "from django.apps import AppConfig\n",
                "from django.contrib.messages.storage import base\n",
                "from django.contrib.messages.utils import get_level_tags\n",
                "from django.core.signals import setting_changed\n",
                "from django.utils.functional import SimpleLazyObject\n",
                "from django.utils.translation import gettext_lazy as _\n"
            ]
        },
        {
            "cell_type": "markdown",
            "metadata": {},
            "source": []
        },
        {
            "cell_type": "code",
            "execution_count": null,
            "metadata": {},
            "outputs": [],
            "source": [
                "def update_level_tags(setting, **kwargs):\n",
                "    if setting == \"MESSAGE_TAGS\":\n",
                "        base.LEVEL_TAGS = SimpleLazyObject(get_level_tags)\n"
            ]
        },
        {
            "cell_type": "markdown",
            "metadata": {},
            "source": []
        },
        {
            "cell_type": "code",
            "execution_count": null,
            "metadata": {},
            "outputs": [],
            "source": [
                "class MessagesConfig(AppConfig):\n",
                "    name = \"django.contrib.messages\"\n",
                "    verbose_name = _(\"Messages\")\n",
                "\n",
                "    def ready(self):\n",
                "        setting_changed.connect(update_level_tags)\n",
                "\n"
            ]
        },
        {
            "cell_type": "markdown",
            "metadata": {},
            "source": []
        }
    ],
    "metadata": {
        "language_info": {
            "name": "python"
        }
    },
    "nbformat": 4,
    "nbformat_minor": 2
}