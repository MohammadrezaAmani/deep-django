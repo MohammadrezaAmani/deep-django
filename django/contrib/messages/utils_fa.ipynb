{
 "cells": [
  {
   "cell_type": "code",
   "execution_count": null,
   "metadata": {},
   "outputs": [],
   "source": [
    "from django.conf import settings\n",
    "from django.contrib.messages import constants"
   ]
  },
  {
   "cell_type": "markdown",
   "metadata": {},
   "source": []
  },
  {
   "cell_type": "code",
   "execution_count": null,
   "metadata": {},
   "outputs": [],
   "source": [
    "def get_level_tags():\n",
    "    \"\"\"\n",
    "    Return the message level tags.\n",
    "    \"\"\"\n",
    "    return {\n",
    "        **constants.DEFAULT_TAGS,\n",
    "        **getattr(settings, \"MESSAGE_TAGS\", {}),\n",
    "    }"
   ]
  },
  {
   "cell_type": "markdown",
   "metadata": {},
   "source": []
  }
 ],
 "metadata": {
  "language_info": {
   "name": "python"
  }
 },
 "nbformat": 4,
 "nbformat_minor": 2
}