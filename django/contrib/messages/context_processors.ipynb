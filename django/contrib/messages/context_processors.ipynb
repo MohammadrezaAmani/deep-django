{
 "cells": [
  {
   "cell_type": "code",
   "execution_count": null,
   "metadata": {},
   "outputs": [],
   "source": [
    "from django.contrib.messages.api import get_messages\n",
    "from django.contrib.messages.constants import DEFAULT_LEVELS"
   ]
  },
  {
   "cell_type": "markdown",
   "metadata": {},
   "source": []
  },
  {
   "cell_type": "code",
   "execution_count": null,
   "metadata": {},
   "outputs": [],
   "source": [
    "def messages(request):\n",
    "    \"\"\"\n",
    "    Return a lazy 'messages' context variable as well as\n",
    "    'DEFAULT_MESSAGE_LEVELS'.\n",
    "    \"\"\"\n",
    "    return {\n",
    "        \"messages\": get_messages(request),\n",
    "        \"DEFAULT_MESSAGE_LEVELS\": DEFAULT_LEVELS,\n",
    "    }"
   ]
  },
  {
   "cell_type": "markdown",
   "metadata": {},
   "source": []
  }
 ],
 "metadata": {
  "language_info": {
   "name": "python"
  }
 },
 "nbformat": 4,
 "nbformat_minor": 2
}