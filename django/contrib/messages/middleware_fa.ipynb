{
    "cells": [
        {
            "cell_type": "code",
            "execution_count": null,
            "metadata": {},
            "outputs": [],
            "source": [
                "from django.conf import settings\n",
                "from django.contrib.messages.storage import default_storage\n",
                "from django.utils.deprecation import MiddlewareMixin\n"
            ]
        },
        {
            "cell_type": "markdown",
            "metadata": {},
            "source": []
        },
        {
            "cell_type": "code",
            "execution_count": null,
            "metadata": {},
            "outputs": [],
            "source": [
                "class MessageMiddleware(MiddlewareMixin):\n",
                "    \"\"\"\n",
                "    Middleware that handles temporary messages.\n",
                "    \"\"\"\n",
                "\n",
                "    def process_request(self, request):\n",
                "        request._messages = default_storage(request)\n",
                "\n",
                "    def process_response(self, request, response):\n",
                "        \"\"\"\n",
                "        Update the storage backend (i.e., save the messages).\n",
                "\n",
                "        Raise ValueError if not all messages could be stored and DEBUG is True.\n",
                "        \"\"\"\n",
                "        # A higher middleware layer may return a request which does not contain\n",
                "        # messages storage, so make no assumption that it will be there.\n",
                "        if hasattr(request, \"_messages\"):\n",
                "            unstored_messages = request._messages.update(response)\n",
                "            if unstored_messages and settings.DEBUG:\n",
                "                raise ValueError(\"Not all temporary messages could be stored.\")\n",
                "        return response\n",
                "\n"
            ]
        },
        {
            "cell_type": "markdown",
            "metadata": {},
            "source": []
        }
    ],
    "metadata": {
        "language_info": {
            "name": "python"
        }
    },
    "nbformat": 4,
    "nbformat_minor": 2
}