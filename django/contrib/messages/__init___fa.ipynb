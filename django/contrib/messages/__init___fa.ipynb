{
 "cells": [
  {
   "cell_type": "code",
   "execution_count": null,
   "metadata": {},
   "outputs": [],
   "source": [
    "from django.contrib.messages.api import *  # NOQA\n",
    "from django.contrib.messages.constants import *  # NOQA\n",
    "from django.contrib.messages.storage.base import Message  # NOQA"
   ]
  },
  {
   "cell_type": "markdown",
   "metadata": {},
   "source": []
  }
 ],
 "metadata": {
  "language_info": {
   "name": "python"
  }
 },
 "nbformat": 4,
 "nbformat_minor": 2
}