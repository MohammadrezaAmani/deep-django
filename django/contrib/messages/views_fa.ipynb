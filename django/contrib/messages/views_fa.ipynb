{
 "cells": [
  {
   "cell_type": "code",
   "execution_count": null,
   "metadata": {},
   "outputs": [],
   "source": [
    "from django.contrib import messages"
   ]
  },
  {
   "cell_type": "markdown",
   "metadata": {},
   "source": []
  },
  {
   "cell_type": "code",
   "execution_count": null,
   "metadata": {},
   "outputs": [],
   "source": [
    "class SuccessMessageMixin:\n",
    "    \"\"\"\n",
    "    Add a success message on successful form submission.\n",
    "    \"\"\"\n",
    "\n",
    "    success_message = \"\"\n",
    "\n",
    "    def form_valid(self, form):\n",
    "        response = super().form_valid(form)\n",
    "        success_message = self.get_success_message(form.cleaned_data)\n",
    "        if success_message:\n",
    "            messages.success(self.request, success_message)\n",
    "        return response\n",
    "\n",
    "    def get_success_message(self, cleaned_data):\n",
    "        return self.success_message % cleaned_data"
   ]
  },
  {
   "cell_type": "markdown",
   "metadata": {},
   "source": []
  }
 ],
 "metadata": {
  "language_info": {
   "name": "python"
  }
 },
 "nbformat": 4,
 "nbformat_minor": 2
}