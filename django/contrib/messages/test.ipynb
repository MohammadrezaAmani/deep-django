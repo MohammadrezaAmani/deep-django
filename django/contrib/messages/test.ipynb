{
 "cells": [
  {
   "cell_type": "code",
   "execution_count": null,
   "metadata": {},
   "outputs": [],
   "source": [
    "from .api import get_messages"
   ]
  },
  {
   "cell_type": "markdown",
   "metadata": {},
   "source": []
  },
  {
   "cell_type": "code",
   "execution_count": null,
   "metadata": {},
   "outputs": [],
   "source": [
    "class MessagesTestMixin:\n",
    "    def assertMessages(self, response, expected_messages, *, ordered=True):\n",
    "        request_messages = list(get_messages(response.wsgi_request))\n",
    "        assertion = self.assertEqual if ordered else self.assertCountEqual\n",
    "        assertion(request_messages, expected_messages)"
   ]
  },
  {
   "cell_type": "markdown",
   "metadata": {},
   "source": []
  }
 ],
 "metadata": {
  "language_info": {
   "name": "python"
  }
 },
 "nbformat": 4,
 "nbformat_minor": 2
}