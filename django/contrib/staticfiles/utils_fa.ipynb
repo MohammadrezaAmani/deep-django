{
    "cells": [
        {
            "cell_type": "code",
            "execution_count": null,
            "metadata": {},
            "outputs": [],
            "source": [
                "import fnmatch\n",
                "import os\n",
                "\n",
                "from django.conf import settings\n",
                "from django.core.exceptions import ImproperlyConfigured\n"
            ]
        },
        {
            "cell_type": "markdown",
            "metadata": {},
            "source": []
        },
        {
            "cell_type": "code",
            "execution_count": null,
            "metadata": {},
            "outputs": [],
            "source": [
                "def matches_patterns(path, patterns):\n",
                "    \"\"\"\n",
                "    Return True or False depending on whether the ``path`` should be\n",
                "    ignored (if it matches any pattern in ``ignore_patterns``).\n",
                "    \"\"\"\n",
                "    return any(fnmatch.fnmatchcase(path, pattern) for pattern in patterns)\n"
            ]
        },
        {
            "cell_type": "markdown",
            "metadata": {},
            "source": []
        },
        {
            "cell_type": "code",
            "execution_count": null,
            "metadata": {},
            "outputs": [],
            "source": [
                "def get_files(storage, ignore_patterns=None, location=\"\"):\n",
                "    \"\"\"\n",
                "    Recursively walk the storage directories yielding the paths\n",
                "    of all files that should be copied.\n",
                "    \"\"\"\n",
                "    if ignore_patterns is None:\n",
                "        ignore_patterns = []\n",
                "    directories, files = storage.listdir(location)\n",
                "    for fn in files:\n",
                "        # Match only the basename.\n",
                "        if matches_patterns(fn, ignore_patterns):\n",
                "            continue\n",
                "        if location:\n",
                "            fn = os.path.join(location, fn)\n",
                "            # Match the full file path.\n",
                "            if matches_patterns(fn, ignore_patterns):\n",
                "                continue\n",
                "        yield fn\n",
                "    for dir in directories:\n",
                "        if matches_patterns(dir, ignore_patterns):\n",
                "            continue\n",
                "        if location:\n",
                "            dir = os.path.join(location, dir)\n",
                "        yield from get_files(storage, ignore_patterns, dir)\n"
            ]
        },
        {
            "cell_type": "markdown",
            "metadata": {},
            "source": []
        },
        {
            "cell_type": "code",
            "execution_count": null,
            "metadata": {},
            "outputs": [],
            "source": [
                "def check_settings(base_url=None):\n",
                "    \"\"\"\n",
                "    Check if the staticfiles settings have sane values.\n",
                "    \"\"\"\n",
                "    if base_url is None:\n",
                "        base_url = settings.STATIC_URL\n",
                "    if not base_url:\n",
                "        raise ImproperlyConfigured(\n",
                "            \"You're using the staticfiles app \"\n",
                "            \"without having set the required STATIC_URL setting.\"\n",
                "        )\n",
                "    if settings.MEDIA_URL == base_url:\n",
                "        raise ImproperlyConfigured(\n",
                "            \"The MEDIA_URL and STATIC_URL settings must have different values\"\n",
                "        )\n",
                "    if (\n",
                "        settings.DEBUG\n",
                "        and settings.MEDIA_URL\n",
                "        and settings.STATIC_URL\n",
                "        and settings.MEDIA_URL.startswith(settings.STATIC_URL)\n",
                "    ):\n",
                "        raise ImproperlyConfigured(\n",
                "            \"runserver can't serve media if MEDIA_URL is within STATIC_URL.\"\n",
                "        )\n",
                "    if (settings.MEDIA_ROOT and settings.STATIC_ROOT) and (\n",
                "        settings.MEDIA_ROOT == settings.STATIC_ROOT\n",
                "    ):\n",
                "        raise ImproperlyConfigured(\n",
                "            \"The MEDIA_ROOT and STATIC_ROOT settings must have different values\"\n",
                "        )\n",
                "\n"
            ]
        },
        {
            "cell_type": "markdown",
            "metadata": {},
            "source": []
        }
    ],
    "metadata": {
        "language_info": {
            "name": "python"
        }
    },
    "nbformat": 4,
    "nbformat_minor": 2
}