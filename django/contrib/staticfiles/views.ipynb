{
    "cells": [
        {
            "cell_type": "code",
            "execution_count": null,
            "metadata": {},
            "outputs": [],
            "source": [
                "\"\"\"\n",
                "Views and functions for serving static files. These are only to be used during\n",
                "development, and SHOULD NOT be used in a production setting.\n",
                "\n",
                "\"\"\"\n",
                "\n",
                "import os\n",
                "import posixpath\n",
                "\n",
                "from django.conf import settings\n",
                "from django.contrib.staticfiles import finders\n",
                "from django.http import Http404\n",
                "from django.views import static\n"
            ]
        },
        {
            "cell_type": "markdown",
            "metadata": {},
            "source": []
        },
        {
            "cell_type": "code",
            "execution_count": null,
            "metadata": {},
            "outputs": [],
            "source": [
                "def serve(request, path, insecure=False, **kwargs):\n",
                "    \"\"\"\n",
                "    Serve static files below a given point in the directory structure or\n",
                "    from locations inferred from the staticfiles finders.\n",
                "\n",
                "    To use, put a URL pattern such as::\n",
                "\n",
                "        from django.contrib.staticfiles import views\n",
                "\n",
                "        path('<path:path>', views.serve)\n",
                "\n",
                "    in your URLconf.\n",
                "\n",
                "    It uses the django.views.static.serve() view to serve the found files.\n",
                "    \"\"\"\n",
                "    if not settings.DEBUG and not insecure:\n",
                "        raise Http404\n",
                "    normalized_path = posixpath.normpath(path).lstrip(\"/\")\n",
                "    absolute_path = finders.find(normalized_path)\n",
                "    if not absolute_path:\n",
                "        if path.endswith(\"/\") or path == \"\":\n",
                "            raise Http404(\"Directory indexes are not allowed here.\")\n",
                "        raise Http404(\"'%s' could not be found\" % path)\n",
                "    document_root, path = os.path.split(absolute_path)\n",
                "    return static.serve(request, path, document_root=document_root, **kwargs)\n",
                "\n"
            ]
        },
        {
            "cell_type": "markdown",
            "metadata": {},
            "source": []
        }
    ],
    "metadata": {
        "language_info": {
            "name": "python"
        }
    },
    "nbformat": 4,
    "nbformat_minor": 2
}