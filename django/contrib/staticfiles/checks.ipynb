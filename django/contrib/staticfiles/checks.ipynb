{
    "cells": [
        {
            "cell_type": "code",
            "execution_count": null,
            "metadata": {},
            "outputs": [],
            "source": [
                "from django.conf import STATICFILES_STORAGE_ALIAS, settings\n",
                "from django.contrib.staticfiles.finders import get_finders\n",
                "from django.core.checks import Error\n",
                "\n",
                "E005 = Error(\n",
                "    f\"The STORAGES setting must define a '{STATICFILES_STORAGE_ALIAS}' storage.\",\n",
                "    id=\"staticfiles.E005\",\n",
                ")\n"
            ]
        },
        {
            "cell_type": "markdown",
            "metadata": {},
            "source": []
        },
        {
            "cell_type": "code",
            "execution_count": null,
            "metadata": {},
            "outputs": [],
            "source": [
                "def check_finders(app_configs=None, **kwargs):\n",
                "    \"\"\"Check all registered staticfiles finders.\"\"\"\n",
                "    errors = []\n",
                "    for finder in get_finders():\n",
                "        try:\n",
                "            finder_errors = finder.check()\n",
                "        except NotImplementedError:\n",
                "            pass\n",
                "        else:\n",
                "            errors.extend(finder_errors)\n",
                "    return errors\n"
            ]
        },
        {
            "cell_type": "markdown",
            "metadata": {},
            "source": []
        },
        {
            "cell_type": "code",
            "execution_count": null,
            "metadata": {},
            "outputs": [],
            "source": [
                "def check_storages(app_configs=None, **kwargs):\n",
                "    \"\"\"Ensure staticfiles is defined in STORAGES setting.\"\"\"\n",
                "    errors = []\n",
                "    if STATICFILES_STORAGE_ALIAS not in settings.STORAGES:\n",
                "        errors.append(E005)\n",
                "    return errors\n",
                "\n"
            ]
        },
        {
            "cell_type": "markdown",
            "metadata": {},
            "source": []
        }
    ],
    "metadata": {
        "language_info": {
            "name": "python"
        }
    },
    "nbformat": 4,
    "nbformat_minor": 2
}