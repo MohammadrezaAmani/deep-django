{
 "cells": [
  {
   "cell_type": "code",
   "execution_count": null,
   "metadata": {},
   "outputs": [],
   "source": [
    "from django.apps import AppConfig\n",
    "from django.contrib.staticfiles.checks import check_finders, check_storages\n",
    "from django.core import checks\n",
    "from django.utils.translation import gettext_lazy as _"
   ]
  },
  {
   "cell_type": "markdown",
   "metadata": {},
   "source": []
  },
  {
   "cell_type": "code",
   "execution_count": null,
   "metadata": {},
   "outputs": [],
   "source": [
    "class StaticFilesConfig(AppConfig):\n",
    "    name = \"django.contrib.staticfiles\"\n",
    "    verbose_name = _(\"Static Files\")\n",
    "    ignore_patterns = [\"CVS\", \".*\", \"*~\"]\n",
    "\n",
    "    def ready(self):\n",
    "        checks.register(check_finders, checks.Tags.staticfiles)\n",
    "        checks.register(check_storages, checks.Tags.staticfiles)"
   ]
  },
  {
   "cell_type": "markdown",
   "metadata": {},
   "source": []
  }
 ],
 "metadata": {
  "language_info": {
   "name": "python"
  }
 },
 "nbformat": 4,
 "nbformat_minor": 2
}