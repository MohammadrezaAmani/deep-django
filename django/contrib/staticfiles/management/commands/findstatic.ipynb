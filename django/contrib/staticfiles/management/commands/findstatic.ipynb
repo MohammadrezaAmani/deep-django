{
 "cells": [
  {
   "cell_type": "code",
   "execution_count": null,
   "metadata": {},
   "outputs": [],
   "source": [
    "import os\n",
    "\n",
    "from django.contrib.staticfiles import finders\n",
    "from django.core.management.base import LabelCommand"
   ]
  },
  {
   "cell_type": "markdown",
   "metadata": {},
   "source": []
  },
  {
   "cell_type": "code",
   "execution_count": null,
   "metadata": {},
   "outputs": [],
   "source": [
    "class Command(LabelCommand):\n",
    "    help = \"Finds the absolute paths for the given static file(s).\"\n",
    "    label = \"staticfile\"\n",
    "\n",
    "    def add_arguments(self, parser):\n",
    "        super().add_arguments(parser)\n",
    "        parser.add_argument(\n",
    "            \"--first\",\n",
    "            action=\"store_false\",\n",
    "            dest=\"all\",\n",
    "            help=\"Only return the first match for each static file.\",\n",
    "        )\n",
    "\n",
    "    def handle_label(self, path, **options):\n",
    "        verbosity = options[\"verbosity\"]\n",
    "        result = finders.find(path, all=options[\"all\"])\n",
    "        if verbosity >= 2:\n",
    "            searched_locations = (\n",
    "                \"\\nLooking in the following locations:\\n  %s\"\n",
    "                % \"\\n  \".join([str(loc) for loc in finders.searched_locations])\n",
    "            )\n",
    "        else:\n",
    "            searched_locations = \"\"\n",
    "        if result:\n",
    "            if not isinstance(result, (list, tuple)):\n",
    "                result = [result]\n",
    "            result = (os.path.realpath(path) for path in result)\n",
    "            if verbosity >= 1:\n",
    "                file_list = \"\\n  \".join(result)\n",
    "                return \"Found '%s' here:\\n  %s%s\" % (\n",
    "                    path,\n",
    "                    file_list,\n",
    "                    searched_locations,\n",
    "                )\n",
    "            else:\n",
    "                return \"\\n\".join(result)\n",
    "        else:\n",
    "            message = [\"No matching file found for '%s'.\" % path]\n",
    "            if verbosity >= 2:\n",
    "                message.append(searched_locations)\n",
    "            if verbosity >= 1:\n",
    "                self.stderr.write(\"\\n\".join(message))"
   ]
  },
  {
   "cell_type": "markdown",
   "metadata": {},
   "source": []
  }
 ],
 "metadata": {
  "language_info": {
   "name": "python"
  }
 },
 "nbformat": 4,
 "nbformat_minor": 2
}