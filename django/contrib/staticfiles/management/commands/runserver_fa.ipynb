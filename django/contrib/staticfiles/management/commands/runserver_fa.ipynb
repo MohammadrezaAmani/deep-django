{
 "cells": [
  {
   "cell_type": "code",
   "execution_count": null,
   "metadata": {},
   "outputs": [],
   "source": [
    "from django.conf import settings\n",
    "from django.contrib.staticfiles.handlers import StaticFilesHandler\n",
    "from django.core.management.commands.runserver import Command as RunserverCommand"
   ]
  },
  {
   "cell_type": "markdown",
   "metadata": {},
   "source": []
  },
  {
   "cell_type": "code",
   "execution_count": null,
   "metadata": {},
   "outputs": [],
   "source": [
    "class Command(RunserverCommand):\n",
    "    help = (\n",
    "        \"Starts a lightweight web server for development and also serves static files.\"\n",
    "    )\n",
    "\n",
    "    def add_arguments(self, parser):\n",
    "        super().add_arguments(parser)\n",
    "        parser.add_argument(\n",
    "            \"--nostatic\",\n",
    "            action=\"store_false\",\n",
    "            dest=\"use_static_handler\",\n",
    "            help=\"Tells Django to NOT automatically serve static files at STATIC_URL.\",\n",
    "        )\n",
    "        parser.add_argument(\n",
    "            \"--insecure\",\n",
    "            action=\"store_true\",\n",
    "            dest=\"insecure_serving\",\n",
    "            help=\"Allows serving static files even if DEBUG is False.\",\n",
    "        )\n",
    "\n",
    "    def get_handler(self, *args, **options):\n",
    "        \"\"\"\n",
    "        Return the static files serving handler wrapping the default handler,\n",
    "        if static files should be served. Otherwise return the default handler.\n",
    "        \"\"\"\n",
    "        handler = super().get_handler(*args, **options)\n",
    "        use_static_handler = options[\"use_static_handler\"]\n",
    "        insecure_serving = options[\"insecure_serving\"]\n",
    "        if use_static_handler and (settings.DEBUG or insecure_serving):\n",
    "            return StaticFilesHandler(handler)\n",
    "        return handler"
   ]
  },
  {
   "cell_type": "markdown",
   "metadata": {},
   "source": []
  }
 ],
 "metadata": {
  "language_info": {
   "name": "python"
  }
 },
 "nbformat": 4,
 "nbformat_minor": 2
}