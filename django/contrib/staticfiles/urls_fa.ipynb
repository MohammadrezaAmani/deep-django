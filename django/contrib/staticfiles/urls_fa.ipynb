{
    "cells": [
        {
            "cell_type": "code",
            "execution_count": null,
            "metadata": {},
            "outputs": [],
            "source": [
                "from django.conf import settings\n",
                "from django.conf.urls.static import static\n",
                "from django.contrib.staticfiles.views import serve\n",
                "\n",
                "urlpatterns = []\n"
            ]
        },
        {
            "cell_type": "markdown",
            "metadata": {},
            "source": []
        },
        {
            "cell_type": "code",
            "execution_count": null,
            "metadata": {},
            "outputs": [],
            "source": [
                "def staticfiles_urlpatterns(prefix=None):\n",
                "    \"\"\"\n",
                "    Helper function to return a URL pattern for serving static files.\n",
                "    \"\"\"\n",
                "    if prefix is None:\n",
                "        prefix = settings.STATIC_URL\n",
                "    return static(prefix, view=serve)\n"
            ]
        },
        {
            "cell_type": "markdown",
            "metadata": {},
            "source": []
        },
        {
            "cell_type": "code",
            "execution_count": null,
            "metadata": {},
            "outputs": [],
            "source": [
                "# Only append if urlpatterns are empty\n",
                "if settings.DEBUG and not urlpatterns:\n",
                "    urlpatterns += staticfiles_urlpatterns()\n",
                "\n"
            ]
        },
        {
            "cell_type": "markdown",
            "metadata": {},
            "source": []
        }
    ],
    "metadata": {
        "language_info": {
            "name": "python"
        }
    },
    "nbformat": 4,
    "nbformat_minor": 2
}