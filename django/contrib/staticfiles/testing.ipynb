{
 "cells": [
  {
   "cell_type": "code",
   "execution_count": null,
   "metadata": {},
   "outputs": [],
   "source": [
    "from django.contrib.staticfiles.handlers import StaticFilesHandler\n",
    "from django.test import LiveServerTestCase"
   ]
  },
  {
   "cell_type": "markdown",
   "metadata": {},
   "source": []
  },
  {
   "cell_type": "code",
   "execution_count": null,
   "metadata": {},
   "outputs": [],
   "source": [
    "class StaticLiveServerTestCase(LiveServerTestCase):\n",
    "    \"\"\"\n",
    "    Extend django.test.LiveServerTestCase to transparently overlay at test\n",
    "    execution-time the assets provided by the staticfiles app finders. This\n",
    "    means you don't need to run collectstatic before or as a part of your tests\n",
    "    setup.\n",
    "    \"\"\"\n",
    "\n",
    "    static_handler = StaticFilesHandler"
   ]
  },
  {
   "cell_type": "markdown",
   "metadata": {},
   "source": []
  }
 ],
 "metadata": {
  "language_info": {
   "name": "python"
  }
 },
 "nbformat": 4,
 "nbformat_minor": 2
}