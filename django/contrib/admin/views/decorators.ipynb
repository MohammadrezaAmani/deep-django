{
    "cells": [
        {
            "cell_type": "code",
            "execution_count": null,
            "metadata": {},
            "outputs": [],
            "source": [
                "from django.contrib.auth import REDIRECT_FIELD_NAME\n",
                "from django.contrib.auth.decorators import user_passes_test\n"
            ]
        },
        {
            "cell_type": "markdown",
            "metadata": {},
            "source": []
        },
        {
            "cell_type": "code",
            "execution_count": null,
            "metadata": {},
            "outputs": [],
            "source": [
                "def staff_member_required(\n",
                "    view_func=None, redirect_field_name=REDIRECT_FIELD_NAME, login_url=\"admin:login\"\n",
                "):\n",
                "    \"\"\"\n",
                "    Decorator for views that checks that the user is logged in and is a staff\n",
                "    member, redirecting to the login page if necessary.\n",
                "    \"\"\"\n",
                "    actual_decorator = user_passes_test(\n",
                "        lambda u: u.is_active and u.is_staff,\n",
                "        login_url=login_url,\n",
                "        redirect_field_name=redirect_field_name,\n",
                "    )\n",
                "    if view_func:\n",
                "        return actual_decorator(view_func)\n",
                "    return actual_decorator\n",
                "\n"
            ]
        },
        {
            "cell_type": "markdown",
            "metadata": {},
            "source": []
        }
    ],
    "metadata": {
        "language_info": {
            "name": "python"
        }
    },
    "nbformat": 4,
    "nbformat_minor": 2
}