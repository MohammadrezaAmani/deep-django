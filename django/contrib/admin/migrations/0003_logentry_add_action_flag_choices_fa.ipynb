{
 "cells": [
  {
   "cell_type": "code",
   "execution_count": null,
   "metadata": {},
   "outputs": [],
   "source": [
    "from django.db import migrations, models"
   ]
  },
  {
   "cell_type": "markdown",
   "metadata": {},
   "source": []
  },
  {
   "cell_type": "code",
   "execution_count": null,
   "metadata": {},
   "outputs": [],
   "source": [
    "class Migration(migrations.Migration):\n",
    "    dependencies = [\n",
    "        (\"admin\", \"0002_logentry_remove_auto_add\"),\n",
    "    ]\n",
    "\n",
    "    # No database changes; adds choices to action_flag.\n",
    "    operations = [\n",
    "        migrations.AlterField(\n",
    "            model_name=\"logentry\",\n",
    "            name=\"action_flag\",\n",
    "            field=models.PositiveSmallIntegerField(\n",
    "                choices=[(1, \"Addition\"), (2, \"Change\"), (3, \"Deletion\")],\n",
    "                verbose_name=\"action flag\",\n",
    "            ),\n",
    "        ),\n",
    "    ]"
   ]
  },
  {
   "cell_type": "markdown",
   "metadata": {},
   "source": []
  }
 ],
 "metadata": {
  "language_info": {
   "name": "python"
  }
 },
 "nbformat": 4,
 "nbformat_minor": 2
}