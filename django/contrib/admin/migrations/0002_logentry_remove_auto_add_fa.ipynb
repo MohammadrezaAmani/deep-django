{
 "cells": [
  {
   "cell_type": "code",
   "execution_count": null,
   "metadata": {},
   "outputs": [],
   "source": [
    "from django.db import migrations, models\n",
    "from django.utils import timezone"
   ]
  },
  {
   "cell_type": "markdown",
   "metadata": {},
   "source": []
  },
  {
   "cell_type": "code",
   "execution_count": null,
   "metadata": {},
   "outputs": [],
   "source": [
    "class Migration(migrations.Migration):\n",
    "    dependencies = [\n",
    "        (\"admin\", \"0001_initial\"),\n",
    "    ]\n",
    "\n",
    "    # No database changes; removes auto_add and adds default/editable.\n",
    "    operations = [\n",
    "        migrations.AlterField(\n",
    "            model_name=\"logentry\",\n",
    "            name=\"action_time\",\n",
    "            field=models.DateTimeField(\n",
    "                verbose_name=\"action time\",\n",
    "                default=timezone.now,\n",
    "                editable=False,\n",
    "            ),\n",
    "        ),\n",
    "    ]"
   ]
  },
  {
   "cell_type": "markdown",
   "metadata": {},
   "source": []
  }
 ],
 "metadata": {
  "language_info": {
   "name": "python"
  }
 },
 "nbformat": 4,
 "nbformat_minor": 2
}