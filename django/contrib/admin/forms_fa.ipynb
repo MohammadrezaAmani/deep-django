{
 "cells": [
  {
   "cell_type": "code",
   "execution_count": null,
   "metadata": {},
   "outputs": [],
   "source": [
    "from django.contrib.auth.forms import AuthenticationForm, PasswordChangeForm\n",
    "from django.core.exceptions import ValidationError\n",
    "from django.utils.translation import gettext_lazy as _"
   ]
  },
  {
   "cell_type": "markdown",
   "metadata": {},
   "source": []
  },
  {
   "cell_type": "code",
   "execution_count": null,
   "metadata": {},
   "outputs": [],
   "source": [
    "class AdminAuthenticationForm(AuthenticationForm):\n",
    "    \"\"\"\n",
    "    A custom authentication form used in the admin app.\n",
    "    \"\"\"\n",
    "\n",
    "    error_messages = {\n",
    "        **AuthenticationForm.error_messages,\n",
    "        \"invalid_login\": _(\n",
    "            \"Please enter the correct %(username)s and password for a staff \"\n",
    "            \"account. Note that both fields may be case-sensitive.\"\n",
    "        ),\n",
    "    }\n",
    "    required_css_class = \"required\"\n",
    "\n",
    "    def confirm_login_allowed(self, user):\n",
    "        super().confirm_login_allowed(user)\n",
    "        if not user.is_staff:\n",
    "            raise ValidationError(\n",
    "                self.error_messages[\"invalid_login\"],\n",
    "                code=\"invalid_login\",\n",
    "                params={\"username\": self.username_field.verbose_name},\n",
    "            )"
   ]
  },
  {
   "cell_type": "markdown",
   "metadata": {},
   "source": []
  },
  {
   "cell_type": "code",
   "execution_count": null,
   "metadata": {},
   "outputs": [],
   "source": [
    "class AdminPasswordChangeForm(PasswordChangeForm):\n",
    "    required_css_class = \"required\""
   ]
  },
  {
   "cell_type": "markdown",
   "metadata": {},
   "source": []
  }
 ],
 "metadata": {
  "language_info": {
   "name": "python"
  }
 },
 "nbformat": 4,
 "nbformat_minor": 2
}