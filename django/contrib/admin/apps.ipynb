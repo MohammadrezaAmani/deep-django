{
    "cells": [
        {
            "cell_type": "code",
            "execution_count": null,
            "metadata": {},
            "outputs": [],
            "source": [
                "from django.apps import AppConfig\n",
                "from django.contrib.admin.checks import check_admin_app, check_dependencies\n",
                "from django.core import checks\n",
                "from django.utils.translation import gettext_lazy as _\n"
            ]
        },
        {
            "cell_type": "markdown",
            "metadata": {},
            "source": []
        },
        {
            "cell_type": "code",
            "execution_count": null,
            "metadata": {},
            "outputs": [],
            "source": [
                "class SimpleAdminConfig(AppConfig):\n",
                "    \"\"\"Simple AppConfig which does not do automatic discovery.\"\"\"\n",
                "\n",
                "    default_auto_field = \"django.db.models.AutoField\"\n",
                "    default_site = \"django.contrib.admin.sites.AdminSite\"\n",
                "    name = \"django.contrib.admin\"\n",
                "    verbose_name = _(\"Administration\")\n",
                "\n",
                "    def ready(self):\n",
                "        checks.register(check_dependencies, checks.Tags.admin)\n",
                "        checks.register(check_admin_app, checks.Tags.admin)\n"
            ]
        },
        {
            "cell_type": "markdown",
            "metadata": {},
            "source": []
        },
        {
            "cell_type": "code",
            "execution_count": null,
            "metadata": {},
            "outputs": [],
            "source": [
                "class AdminConfig(SimpleAdminConfig):\n",
                "    \"\"\"The default AppConfig for admin which does autodiscovery.\"\"\"\n",
                "\n",
                "    default = True\n",
                "\n",
                "    def ready(self):\n",
                "        super().ready()\n",
                "        self.module.autodiscover()\n",
                "\n"
            ]
        },
        {
            "cell_type": "markdown",
            "metadata": {},
            "source": []
        }
    ],
    "metadata": {
        "language_info": {
            "name": "python"
        }
    },
    "nbformat": 4,
    "nbformat_minor": 2
}