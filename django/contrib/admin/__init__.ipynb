{
    "cells": [
        {
            "cell_type": "code",
            "execution_count": null,
            "metadata": {},
            "outputs": [],
            "source": [
                "from django.contrib.admin.decorators import action, display, register\n",
                "from django.contrib.admin.filters import (\n",
                "    AllValuesFieldListFilter,\n",
                "    BooleanFieldListFilter,\n",
                "    ChoicesFieldListFilter,\n",
                "    DateFieldListFilter,\n",
                "    EmptyFieldListFilter,\n",
                "    FieldListFilter,\n",
                "    ListFilter,\n",
                "    RelatedFieldListFilter,\n",
                "    RelatedOnlyFieldListFilter,\n",
                "    SimpleListFilter,\n",
                ")\n",
                "from django.contrib.admin.options import (\n",
                "    HORIZONTAL,\n",
                "    VERTICAL,\n",
                "    ModelAdmin,\n",
                "    ShowFacets,\n",
                "    StackedInline,\n",
                "    TabularInline,\n",
                ")\n",
                "from django.contrib.admin.sites import AdminSite, site\n",
                "from django.utils.module_loading import autodiscover_modules\n",
                "\n",
                "__all__ = [\n",
                "    \"action\",\n",
                "    \"display\",\n",
                "    \"register\",\n",
                "    \"ModelAdmin\",\n",
                "    \"HORIZONTAL\",\n",
                "    \"VERTICAL\",\n",
                "    \"StackedInline\",\n",
                "    \"TabularInline\",\n",
                "    \"AdminSite\",\n",
                "    \"site\",\n",
                "    \"ListFilter\",\n",
                "    \"SimpleListFilter\",\n",
                "    \"FieldListFilter\",\n",
                "    \"BooleanFieldListFilter\",\n",
                "    \"RelatedFieldListFilter\",\n",
                "    \"ChoicesFieldListFilter\",\n",
                "    \"DateFieldListFilter\",\n",
                "    \"AllValuesFieldListFilter\",\n",
                "    \"EmptyFieldListFilter\",\n",
                "    \"RelatedOnlyFieldListFilter\",\n",
                "    \"ShowFacets\",\n",
                "    \"autodiscover\",\n",
                "]\n"
            ]
        },
        {
            "cell_type": "markdown",
            "metadata": {},
            "source": []
        },
        {
            "cell_type": "code",
            "execution_count": null,
            "metadata": {},
            "outputs": [],
            "source": [
                "def autodiscover():\n",
                "    autodiscover_modules(\"admin\", register_to=site)\n",
                "\n"
            ]
        },
        {
            "cell_type": "markdown",
            "metadata": {},
            "source": []
        }
    ],
    "metadata": {
        "language_info": {
            "name": "python"
        }
    },
    "nbformat": 4,
    "nbformat_minor": 2
}