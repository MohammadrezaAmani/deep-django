{
 "cells": [
  {
   "cell_type": "code",
   "execution_count": null,
   "metadata": {},
   "outputs": [],
   "source": [
    "from urllib.parse import parse_qsl, unquote, urlparse, urlunparse\n",
    "\n",
    "from django import template\n",
    "from django.contrib.admin.utils import quote\n",
    "from django.urls import Resolver404, get_script_prefix, resolve\n",
    "from django.utils.http import urlencode\n",
    "\n",
    "register = template.Library()"
   ]
  },
  {
   "cell_type": "markdown",
   "metadata": {},
   "source": []
  },
  {
   "cell_type": "code",
   "execution_count": null,
   "metadata": {},
   "outputs": [],
   "source": [
    "@register.filter\n",
    "def admin_urlname(value, arg):\n",
    "    return \"admin:%s_%s_%s\" % (value.app_label, value.model_name, arg)"
   ]
  },
  {
   "cell_type": "markdown",
   "metadata": {},
   "source": []
  },
  {
   "cell_type": "code",
   "execution_count": null,
   "metadata": {},
   "outputs": [],
   "source": [
    "@register.filter\n",
    "def admin_urlquote(value):\n",
    "    return quote(value)"
   ]
  },
  {
   "cell_type": "markdown",
   "metadata": {},
   "source": []
  },
  {
   "cell_type": "code",
   "execution_count": null,
   "metadata": {},
   "outputs": [],
   "source": [
    "@register.simple_tag(takes_context=True)\n",
    "def add_preserved_filters(context, url, popup=False, to_field=None):\n",
    "    opts = context.get(\"opts\")\n",
    "    preserved_filters = context.get(\"preserved_filters\")\n",
    "    preserved_qsl = context.get(\"preserved_qsl\")\n",
    "\n",
    "    parsed_url = list(urlparse(url))\n",
    "    parsed_qs = dict(parse_qsl(parsed_url[4]))\n",
    "    merged_qs = {}\n",
    "\n",
    "    if preserved_qsl:\n",
    "        merged_qs.update(preserved_qsl)\n",
    "\n",
    "    if opts and preserved_filters:\n",
    "        preserved_filters = dict(parse_qsl(preserved_filters))\n",
    "\n",
    "        match_url = \"/%s\" % unquote(url).partition(get_script_prefix())[2]\n",
    "        try:\n",
    "            match = resolve(match_url)\n",
    "        except Resolver404:\n",
    "            pass\n",
    "        else:\n",
    "            current_url = \"%s:%s\" % (match.app_name, match.url_name)\n",
    "            changelist_url = \"admin:%s_%s_changelist\" % (\n",
    "                opts.app_label,\n",
    "                opts.model_name,\n",
    "            )\n",
    "            if (\n",
    "                changelist_url == current_url\n",
    "                and \"_changelist_filters\" in preserved_filters\n",
    "            ):\n",
    "                preserved_filters = dict(\n",
    "                    parse_qsl(preserved_filters[\"_changelist_filters\"])\n",
    "                )\n",
    "\n",
    "        merged_qs.update(preserved_filters)\n",
    "\n",
    "    if popup:\n",
    "        from django.contrib.admin.options import IS_POPUP_VAR\n",
    "\n",
    "        merged_qs[IS_POPUP_VAR] = 1\n",
    "    if to_field:\n",
    "        from django.contrib.admin.options import TO_FIELD_VAR\n",
    "\n",
    "        merged_qs[TO_FIELD_VAR] = to_field\n",
    "\n",
    "    merged_qs.update(parsed_qs)\n",
    "\n",
    "    parsed_url[4] = urlencode(merged_qs)\n",
    "    return urlunparse(parsed_url)"
   ]
  },
  {
   "cell_type": "markdown",
   "metadata": {},
   "source": []
  }
 ],
 "metadata": {
  "language_info": {
   "name": "python"
  }
 },
 "nbformat": 4,
 "nbformat_minor": 2
}