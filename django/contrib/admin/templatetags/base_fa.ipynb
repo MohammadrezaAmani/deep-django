{
    "cells": [
        {
            "cell_type": "code",
            "execution_count": null,
            "metadata": {},
            "outputs": [],
            "source": [
                "from inspect import getfullargspec\n",
                "\n",
                "from django.template.library import InclusionNode, parse_bits\n"
            ]
        },
        {
            "cell_type": "markdown",
            "metadata": {},
            "source": []
        },
        {
            "cell_type": "code",
            "execution_count": null,
            "metadata": {},
            "outputs": [],
            "source": [
                "class InclusionAdminNode(InclusionNode):\n",
                "    \"\"\"\n",
                "    Template tag that allows its template to be overridden per model, per app,\n",
                "    or globally.\n",
                "    \"\"\"\n",
                "\n",
                "    def __init__(self, parser, token, func, template_name, takes_context=True):\n",
                "        self.template_name = template_name\n",
                "        params, varargs, varkw, defaults, kwonly, kwonly_defaults, _ = getfullargspec(\n",
                "            func\n",
                "        )\n",
                "        bits = token.split_contents()\n",
                "        args, kwargs = parse_bits(\n",
                "            parser,\n",
                "            bits[1:],\n",
                "            params,\n",
                "            varargs,\n",
                "            varkw,\n",
                "            defaults,\n",
                "            kwonly,\n",
                "            kwonly_defaults,\n",
                "            takes_context,\n",
                "            bits[0],\n",
                "        )\n",
                "        super().__init__(func, takes_context, args, kwargs, filename=None)\n",
                "\n",
                "    def render(self, context):\n",
                "        opts = context[\"opts\"]\n",
                "        app_label = opts.app_label.lower()\n",
                "        object_name = opts.object_name.lower()\n",
                "        # Load template for this render call. (Setting self.filename isn't\n",
                "        # thread-safe.)\n",
                "        context.render_context[self] = context.template.engine.select_template(\n",
                "            [\n",
                "                \"admin/%s/%s/%s\" % (app_label, object_name, self.template_name),\n",
                "                \"admin/%s/%s\" % (app_label, self.template_name),\n",
                "                \"admin/%s\" % self.template_name,\n",
                "            ]\n",
                "        )\n",
                "        return super().render(context)\n",
                "\n"
            ]
        },
        {
            "cell_type": "markdown",
            "metadata": {},
            "source": []
        }
    ],
    "metadata": {
        "language_info": {
            "name": "python"
        }
    },
    "nbformat": 4,
    "nbformat_minor": 2
}