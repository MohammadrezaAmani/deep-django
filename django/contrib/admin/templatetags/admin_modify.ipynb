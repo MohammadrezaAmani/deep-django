{
 "cells": [
  {
   "cell_type": "code",
   "execution_count": null,
   "metadata": {},
   "outputs": [],
   "source": [
    "import json\n",
    "\n",
    "from django import template\n",
    "from django.template.context import Context\n",
    "\n",
    "from .base import InclusionAdminNode\n",
    "\n",
    "register = template.Library()"
   ]
  },
  {
   "cell_type": "markdown",
   "metadata": {},
   "source": []
  },
  {
   "cell_type": "code",
   "execution_count": null,
   "metadata": {},
   "outputs": [],
   "source": [
    "def prepopulated_fields_js(context):\n",
    "    \"\"\"\n",
    "    Create a list of prepopulated_fields that should render JavaScript for\n",
    "    the prepopulated fields for both the admin form and inlines.\n",
    "    \"\"\"\n",
    "    prepopulated_fields = []\n",
    "    if \"adminform\" in context:\n",
    "        prepopulated_fields.extend(context[\"adminform\"].prepopulated_fields)\n",
    "    if \"inline_admin_formsets\" in context:\n",
    "        for inline_admin_formset in context[\"inline_admin_formsets\"]:\n",
    "            for inline_admin_form in inline_admin_formset:\n",
    "                if inline_admin_form.original is None:\n",
    "                    prepopulated_fields.extend(inline_admin_form.prepopulated_fields)\n",
    "\n",
    "    prepopulated_fields_json = []\n",
    "    for field in prepopulated_fields:\n",
    "        prepopulated_fields_json.append(\n",
    "            {\n",
    "                \"id\": \"#%s\" % field[\"field\"].auto_id,\n",
    "                \"name\": field[\"field\"].name,\n",
    "                \"dependency_ids\": [\n",
    "                    \"#%s\" % dependency.auto_id for dependency in field[\"dependencies\"]\n",
    "                ],\n",
    "                \"dependency_list\": [\n",
    "                    dependency.name for dependency in field[\"dependencies\"]\n",
    "                ],\n",
    "                \"maxLength\": field[\"field\"].field.max_length or 50,\n",
    "                \"allowUnicode\": getattr(field[\"field\"].field, \"allow_unicode\", False),\n",
    "            }\n",
    "        )\n",
    "\n",
    "    context.update(\n",
    "        {\n",
    "            \"prepopulated_fields\": prepopulated_fields,\n",
    "            \"prepopulated_fields_json\": json.dumps(prepopulated_fields_json),\n",
    "        }\n",
    "    )\n",
    "    return context"
   ]
  },
  {
   "cell_type": "markdown",
   "metadata": {},
   "source": []
  },
  {
   "cell_type": "code",
   "execution_count": null,
   "metadata": {},
   "outputs": [],
   "source": [
    "@register.tag(name=\"prepopulated_fields_js\")\n",
    "def prepopulated_fields_js_tag(parser, token):\n",
    "    return InclusionAdminNode(\n",
    "        parser,\n",
    "        token,\n",
    "        func=prepopulated_fields_js,\n",
    "        template_name=\"prepopulated_fields_js.html\",\n",
    "    )"
   ]
  },
  {
   "cell_type": "markdown",
   "metadata": {},
   "source": []
  },
  {
   "cell_type": "code",
   "execution_count": null,
   "metadata": {},
   "outputs": [],
   "source": [
    "def submit_row(context):\n",
    "    \"\"\"\n",
    "    Display the row of buttons for delete and save.\n",
    "    \"\"\"\n",
    "    add = context[\"add\"]\n",
    "    change = context[\"change\"]\n",
    "    is_popup = context[\"is_popup\"]\n",
    "    save_as = context[\"save_as\"]\n",
    "    show_save = context.get(\"show_save\", True)\n",
    "    show_save_and_add_another = context.get(\"show_save_and_add_another\", True)\n",
    "    show_save_and_continue = context.get(\"show_save_and_continue\", True)\n",
    "    has_add_permission = context[\"has_add_permission\"]\n",
    "    has_change_permission = context[\"has_change_permission\"]\n",
    "    has_view_permission = context[\"has_view_permission\"]\n",
    "    has_editable_inline_admin_formsets = context[\"has_editable_inline_admin_formsets\"]\n",
    "    can_save = (\n",
    "        (has_change_permission and change)\n",
    "        or (has_add_permission and add)\n",
    "        or has_editable_inline_admin_formsets\n",
    "    )\n",
    "    can_save_and_add_another = (\n",
    "        has_add_permission\n",
    "        and not is_popup\n",
    "        and (not save_as or add)\n",
    "        and can_save\n",
    "        and show_save_and_add_another\n",
    "    )\n",
    "    can_save_and_continue = (\n",
    "        not is_popup and can_save and has_view_permission and show_save_and_continue\n",
    "    )\n",
    "    can_change = has_change_permission or has_editable_inline_admin_formsets\n",
    "    ctx = Context(context)\n",
    "    ctx.update(\n",
    "        {\n",
    "            \"can_change\": can_change,\n",
    "            \"show_delete_link\": (\n",
    "                not is_popup\n",
    "                and context[\"has_delete_permission\"]\n",
    "                and change\n",
    "                and context.get(\"show_delete\", True)\n",
    "            ),\n",
    "            \"show_save_as_new\": not is_popup\n",
    "            and has_add_permission\n",
    "            and change\n",
    "            and save_as,\n",
    "            \"show_save_and_add_another\": can_save_and_add_another,\n",
    "            \"show_save_and_continue\": can_save_and_continue,\n",
    "            \"show_save\": show_save and can_save,\n",
    "            \"show_close\": not (show_save and can_save),\n",
    "        }\n",
    "    )\n",
    "    return ctx"
   ]
  },
  {
   "cell_type": "markdown",
   "metadata": {},
   "source": []
  },
  {
   "cell_type": "code",
   "execution_count": null,
   "metadata": {},
   "outputs": [],
   "source": [
    "@register.tag(name=\"submit_row\")\n",
    "def submit_row_tag(parser, token):\n",
    "    return InclusionAdminNode(\n",
    "        parser, token, func=submit_row, template_name=\"submit_line.html\"\n",
    "    )"
   ]
  },
  {
   "cell_type": "markdown",
   "metadata": {},
   "source": []
  },
  {
   "cell_type": "code",
   "execution_count": null,
   "metadata": {},
   "outputs": [],
   "source": [
    "@register.tag(name=\"change_form_object_tools\")\n",
    "def change_form_object_tools_tag(parser, token):\n",
    "    \"\"\"Display the row of change form object tools.\"\"\"\n",
    "    return InclusionAdminNode(\n",
    "        parser,\n",
    "        token,\n",
    "        func=lambda context: context,\n",
    "        template_name=\"change_form_object_tools.html\",\n",
    "    )"
   ]
  },
  {
   "cell_type": "markdown",
   "metadata": {},
   "source": []
  },
  {
   "cell_type": "code",
   "execution_count": null,
   "metadata": {},
   "outputs": [],
   "source": [
    "@register.filter\n",
    "def cell_count(inline_admin_form):\n",
    "    \"\"\"Return the number of cells used in a tabular inline.\"\"\"\n",
    "    count = 1  # Hidden cell with hidden 'id' field\n",
    "    for fieldset in inline_admin_form:\n",
    "        # Count all visible fields.\n",
    "        for line in fieldset:\n",
    "            for field in line:\n",
    "                try:\n",
    "                    is_hidden = field.field.is_hidden\n",
    "                except AttributeError:\n",
    "                    is_hidden = field.field[\"is_hidden\"]\n",
    "                if not is_hidden:\n",
    "                    count += 1\n",
    "    if inline_admin_form.formset.can_delete:\n",
    "        # Delete checkbox\n",
    "        count += 1\n",
    "    return count"
   ]
  },
  {
   "cell_type": "markdown",
   "metadata": {},
   "source": []
  }
 ],
 "metadata": {
  "language_info": {
   "name": "python"
  }
 },
 "nbformat": 4,
 "nbformat_minor": 2
}