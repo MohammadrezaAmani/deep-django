{
 "cells": [
  {
   "cell_type": "code",
   "execution_count": null,
   "metadata": {},
   "outputs": [],
   "source": [
    "from django import template\n",
    "\n",
    "register = template.Library()"
   ]
  },
  {
   "cell_type": "markdown",
   "metadata": {},
   "source": []
  },
  {
   "cell_type": "code",
   "execution_count": null,
   "metadata": {},
   "outputs": [],
   "source": [
    "class AdminLogNode(template.Node):\n",
    "    def __init__(self, limit, varname, user):\n",
    "        self.limit = limit\n",
    "        self.varname = varname\n",
    "        self.user = user\n",
    "\n",
    "    def __repr__(self):\n",
    "        return \"<GetAdminLog Node>\"\n",
    "\n",
    "    def render(self, context):\n",
    "        entries = context[\"log_entries\"]\n",
    "        if self.user is not None:\n",
    "            user_id = self.user\n",
    "            if not user_id.isdigit():\n",
    "                user_id = context[self.user].pk\n",
    "            entries = entries.filter(user__pk=user_id)\n",
    "        context[self.varname] = entries[: int(self.limit)]\n",
    "        return \"\""
   ]
  },
  {
   "cell_type": "markdown",
   "metadata": {},
   "source": []
  },
  {
   "cell_type": "code",
   "execution_count": null,
   "metadata": {},
   "outputs": [],
   "source": [
    "@register.tag\n",
    "def get_admin_log(parser, token):\n",
    "    \"\"\"\n",
    "    Populate a template variable with the admin log for the given criteria.\n",
    "\n",
    "    Usage::\n",
    "\n",
    "        {% get_admin_log [limit] as [varname] for_user [context_var_with_user_obj] %}\n",
    "\n",
    "    Examples::\n",
    "\n",
    "        {% get_admin_log 10 as admin_log for_user 23 %}\n",
    "        {% get_admin_log 10 as admin_log for_user user %}\n",
    "        {% get_admin_log 10 as admin_log %}\n",
    "\n",
    "    Note that ``context_var_containing_user_obj`` can be a hard-coded integer\n",
    "    (user ID) or the name of a template context variable containing the user\n",
    "    object whose ID you want.\n",
    "    \"\"\"\n",
    "    tokens = token.contents.split()\n",
    "    if len(tokens) < 4:\n",
    "        raise template.TemplateSyntaxError(\n",
    "            \"'get_admin_log' statements require two arguments\"\n",
    "        )\n",
    "    if not tokens[1].isdigit():\n",
    "        raise template.TemplateSyntaxError(\n",
    "            \"First argument to 'get_admin_log' must be an integer\"\n",
    "        )\n",
    "    if tokens[2] != \"as\":\n",
    "        raise template.TemplateSyntaxError(\n",
    "            \"Second argument to 'get_admin_log' must be 'as'\"\n",
    "        )\n",
    "    if len(tokens) > 4:\n",
    "        if tokens[4] != \"for_user\":\n",
    "            raise template.TemplateSyntaxError(\n",
    "                \"Fourth argument to 'get_admin_log' must be 'for_user'\"\n",
    "            )\n",
    "    return AdminLogNode(\n",
    "        limit=tokens[1],\n",
    "        varname=tokens[3],\n",
    "        user=(tokens[5] if len(tokens) > 5 else None),\n",
    "    )"
   ]
  },
  {
   "cell_type": "markdown",
   "metadata": {},
   "source": []
  }
 ],
 "metadata": {
  "language_info": {
   "name": "python"
  }
 },
 "nbformat": 4,
 "nbformat_minor": 2
}