{
    "cells": [
        {
            "cell_type": "code",
            "execution_count": null,
            "metadata": {},
            "outputs": [],
            "source": [
                "from django.db import migrations, models\n"
            ]
        },
        {
            "cell_type": "markdown",
            "metadata": {},
            "source": []
        },
        {
            "cell_type": "code",
            "execution_count": null,
            "metadata": {},
            "outputs": [],
            "source": [
                "class Migration(migrations.Migration):\n",
                "    dependencies = [\n",
                "        (\"sites\", \"0001_initial\"),\n",
                "    ]\n",
                "\n",
                "    operations = [\n",
                "        migrations.CreateModel(\n",
                "            name=\"Redirect\",\n",
                "            fields=[\n",
                "                (\n",
                "                    \"id\",\n",
                "                    models.AutoField(\n",
                "                        verbose_name=\"ID\",\n",
                "                        serialize=False,\n",
                "                        auto_created=True,\n",
                "                        primary_key=True,\n",
                "                    ),\n",
                "                ),\n",
                "                (\n",
                "                    \"site\",\n",
                "                    models.ForeignKey(\n",
                "                        to=\"sites.Site\",\n",
                "                        on_delete=models.CASCADE,\n",
                "                        verbose_name=\"site\",\n",
                "                    ),\n",
                "                ),\n",
                "                (\n",
                "                    \"old_path\",\n",
                "                    models.CharField(\n",
                "                        help_text=(\n",
                "                            \"This should be an absolute path, excluding the domain \"\n",
                "                            \"name. Example: \u201c/events/search/\u201d.\"\n",
                "                        ),\n",
                "                        max_length=200,\n",
                "                        verbose_name=\"redirect from\",\n",
                "                        db_index=True,\n",
                "                    ),\n",
                "                ),\n",
                "                (\n",
                "                    \"new_path\",\n",
                "                    models.CharField(\n",
                "                        help_text=(\n",
                "                            \"This can be either an absolute path (as above) or a full \"\n",
                "                            \"URL starting with \u201chttp://\u201d.\"\n",
                "                        ),\n",
                "                        max_length=200,\n",
                "                        verbose_name=\"redirect to\",\n",
                "                        blank=True,\n",
                "                    ),\n",
                "                ),\n",
                "            ],\n",
                "            options={\n",
                "                \"ordering\": [\"old_path\"],\n",
                "                \"unique_together\": {(\"site\", \"old_path\")},\n",
                "                \"db_table\": \"django_redirect\",\n",
                "                \"verbose_name\": \"redirect\",\n",
                "                \"verbose_name_plural\": \"redirects\",\n",
                "            },\n",
                "            bases=(models.Model,),\n",
                "        ),\n",
                "    ]\n",
                "\n"
            ]
        },
        {
            "cell_type": "markdown",
            "metadata": {},
            "source": []
        }
    ],
    "metadata": {
        "language_info": {
            "name": "python"
        }
    },
    "nbformat": 4,
    "nbformat_minor": 2
}