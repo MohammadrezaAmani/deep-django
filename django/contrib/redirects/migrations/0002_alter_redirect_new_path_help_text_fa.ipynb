{
 "cells": [
  {
   "cell_type": "code",
   "execution_count": null,
   "metadata": {},
   "outputs": [],
   "source": [
    "from django.db import migrations, models"
   ]
  },
  {
   "cell_type": "markdown",
   "metadata": {},
   "source": []
  },
  {
   "cell_type": "code",
   "execution_count": null,
   "metadata": {},
   "outputs": [],
   "source": [
    "class Migration(migrations.Migration):\n",
    "    dependencies = [\n",
    "        (\"redirects\", \"0001_initial\"),\n",
    "    ]\n",
    "\n",
    "    operations = [\n",
    "        migrations.AlterField(\n",
    "            model_name=\"redirect\",\n",
    "            name=\"new_path\",\n",
    "            field=models.CharField(\n",
    "                blank=True,\n",
    "                help_text=(\n",
    "                    \"This can be either an absolute path (as above) or a full \"\n",
    "                    \"URL starting with a scheme such as “https://”.\"\n",
    "                ),\n",
    "                max_length=200,\n",
    "                verbose_name=\"redirect to\",\n",
    "            ),\n",
    "        ),\n",
    "    ]"
   ]
  },
  {
   "cell_type": "markdown",
   "metadata": {},
   "source": []
  }
 ],
 "metadata": {
  "language_info": {
   "name": "python"
  }
 },
 "nbformat": 4,
 "nbformat_minor": 2
}