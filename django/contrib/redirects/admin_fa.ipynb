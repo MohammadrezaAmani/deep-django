{
    "cells": [
        {
            "cell_type": "code",
            "execution_count": null,
            "metadata": {},
            "outputs": [],
            "source": [
                "from django.contrib import admin\n",
                "from django.contrib.redirects.models import Redirect\n"
            ]
        },
        {
            "cell_type": "markdown",
            "metadata": {},
            "source": []
        },
        {
            "cell_type": "code",
            "execution_count": null,
            "metadata": {},
            "outputs": [],
            "source": [
                "@admin.register(Redirect)\n",
                "class RedirectAdmin(admin.ModelAdmin):\n",
                "    list_display = (\"old_path\", \"new_path\")\n",
                "    list_filter = (\"site\",)\n",
                "    search_fields = (\"old_path\", \"new_path\")\n",
                "    radio_fields = {\"site\": admin.VERTICAL}\n",
                "\n"
            ]
        },
        {
            "cell_type": "markdown",
            "metadata": {},
            "source": []
        }
    ],
    "metadata": {
        "language_info": {
            "name": "python"
        }
    },
    "nbformat": 4,
    "nbformat_minor": 2
}