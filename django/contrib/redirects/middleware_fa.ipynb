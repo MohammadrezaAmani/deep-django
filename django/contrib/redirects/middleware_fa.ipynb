{
 "cells": [
  {
   "cell_type": "code",
   "execution_count": null,
   "metadata": {},
   "outputs": [],
   "source": [
    "from django.apps import apps\n",
    "from django.conf import settings\n",
    "from django.contrib.redirects.models import Redirect\n",
    "from django.contrib.sites.shortcuts import get_current_site\n",
    "from django.core.exceptions import ImproperlyConfigured\n",
    "from django.http import HttpResponseGone, HttpResponsePermanentRedirect\n",
    "from django.utils.deprecation import MiddlewareMixin"
   ]
  },
  {
   "cell_type": "markdown",
   "metadata": {},
   "source": []
  },
  {
   "cell_type": "code",
   "execution_count": null,
   "metadata": {},
   "outputs": [],
   "source": [
    "class RedirectFallbackMiddleware(MiddlewareMixin):\n",
    "    # Defined as class-level attributes to be subclassing-friendly.\n",
    "    response_gone_class = HttpResponseGone\n",
    "    response_redirect_class = HttpResponsePermanentRedirect\n",
    "\n",
    "    def __init__(self, get_response):\n",
    "        if not apps.is_installed(\"django.contrib.sites\"):\n",
    "            raise ImproperlyConfigured(\n",
    "                \"You cannot use RedirectFallbackMiddleware when \"\n",
    "                \"django.contrib.sites is not installed.\"\n",
    "            )\n",
    "        super().__init__(get_response)\n",
    "\n",
    "    def process_response(self, request, response):\n",
    "        # No need to check for a redirect for non-404 responses.\n",
    "        if response.status_code != 404:\n",
    "            return response\n",
    "\n",
    "        full_path = request.get_full_path()\n",
    "        current_site = get_current_site(request)\n",
    "\n",
    "        r = None\n",
    "        try:\n",
    "            r = Redirect.objects.get(site=current_site, old_path=full_path)\n",
    "        except Redirect.DoesNotExist:\n",
    "            pass\n",
    "        if r is None and settings.APPEND_SLASH and not request.path.endswith(\"/\"):\n",
    "            try:\n",
    "                r = Redirect.objects.get(\n",
    "                    site=current_site,\n",
    "                    old_path=request.get_full_path(force_append_slash=True),\n",
    "                )\n",
    "            except Redirect.DoesNotExist:\n",
    "                pass\n",
    "        if r is not None:\n",
    "            if r.new_path == \"\":\n",
    "                return self.response_gone_class()\n",
    "            return self.response_redirect_class(r.new_path)\n",
    "\n",
    "        # No redirect was found. Return the response.\n",
    "        return response"
   ]
  },
  {
   "cell_type": "markdown",
   "metadata": {},
   "source": []
  }
 ],
 "metadata": {
  "language_info": {
   "name": "python"
  }
 },
 "nbformat": 4,
 "nbformat_minor": 2
}