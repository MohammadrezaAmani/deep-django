{
 "cells": [
  {
   "cell_type": "code",
   "execution_count": null,
   "metadata": {},
   "outputs": [],
   "source": [
    "from django.contrib.sites.models import Site\n",
    "from django.db import models\n",
    "from django.utils.translation import gettext_lazy as _"
   ]
  },
  {
   "cell_type": "markdown",
   "metadata": {},
   "source": []
  },
  {
   "cell_type": "code",
   "execution_count": null,
   "metadata": {},
   "outputs": [],
   "source": [
    "class Redirect(models.Model):\n",
    "    site = models.ForeignKey(Site, models.CASCADE, verbose_name=_(\"site\"))\n",
    "    old_path = models.CharField(\n",
    "        _(\"redirect from\"),\n",
    "        max_length=200,\n",
    "        db_index=True,\n",
    "        help_text=_(\n",
    "            \"This should be an absolute path, excluding the domain name. Example: \"\n",
    "            \"“/events/search/”.\"\n",
    "        ),\n",
    "    )\n",
    "    new_path = models.CharField(\n",
    "        _(\"redirect to\"),\n",
    "        max_length=200,\n",
    "        blank=True,\n",
    "        help_text=_(\n",
    "            \"This can be either an absolute path (as above) or a full URL \"\n",
    "            \"starting with a scheme such as “https://”.\"\n",
    "        ),\n",
    "    )\n",
    "\n",
    "    class Meta:\n",
    "        verbose_name = _(\"redirect\")\n",
    "        verbose_name_plural = _(\"redirects\")\n",
    "        db_table = \"django_redirect\"\n",
    "        unique_together = [[\"site\", \"old_path\"]]\n",
    "        ordering = [\"old_path\"]\n",
    "\n",
    "    def __str__(self):\n",
    "        return \"%s ---> %s\" % (self.old_path, self.new_path)"
   ]
  },
  {
   "cell_type": "markdown",
   "metadata": {},
   "source": []
  }
 ],
 "metadata": {
  "language_info": {
   "name": "python"
  }
 },
 "nbformat": 4,
 "nbformat_minor": 2
}