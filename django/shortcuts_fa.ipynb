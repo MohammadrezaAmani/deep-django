{
 "cells": [
  {
   "cell_type": "code",
   "execution_count": null,
   "metadata": {},
   "outputs": [],
   "source": [
    "\"\"\"\n",
    "This module collects helper functions and classes that \"span\" multiple levels\n",
    "of MVC. In other words, these functions/classes introduce controlled coupling\n",
    "for convenience's sake.\n",
    "\"\"\"\n",
    "\n",
    "from django.http import (\n",
    "    Http404,\n",
    "    HttpResponse,\n",
    "    HttpResponsePermanentRedirect,\n",
    "    HttpResponseRedirect,\n",
    ")\n",
    "from django.template import loader\n",
    "from django.urls import NoReverseMatch, reverse\n",
    "from django.utils.functional import Promise"
   ]
  },
  {
   "cell_type": "markdown",
   "metadata": {},
   "source": []
  },
  {
   "cell_type": "code",
   "execution_count": null,
   "metadata": {},
   "outputs": [],
   "source": [
    "def render(\n",
    "    request, template_name, context=None, content_type=None, status=None, using=None\n",
    "):\n",
    "    \"\"\"\n",
    "    Return an HttpResponse whose content is filled with the result of calling\n",
    "    django.template.loader.render_to_string() with the passed arguments.\n",
    "    \"\"\"\n",
    "    content = loader.render_to_string(template_name, context, request, using=using)\n",
    "    return HttpResponse(content, content_type, status)"
   ]
  },
  {
   "cell_type": "markdown",
   "metadata": {},
   "source": []
  },
  {
   "cell_type": "code",
   "execution_count": null,
   "metadata": {},
   "outputs": [],
   "source": [
    "def redirect(to, *args, permanent=False, **kwargs):\n",
    "    \"\"\"\n",
    "    Return an HttpResponseRedirect to the appropriate URL for the arguments\n",
    "    passed.\n",
    "\n",
    "    The arguments could be:\n",
    "\n",
    "        * A model: the model's `get_absolute_url()` function will be called.\n",
    "\n",
    "        * A view name, possibly with arguments: `urls.reverse()` will be used\n",
    "          to reverse-resolve the name.\n",
    "\n",
    "        * A URL, which will be used as-is for the redirect location.\n",
    "\n",
    "    Issues a temporary redirect by default; pass permanent=True to issue a\n",
    "    permanent redirect.\n",
    "    \"\"\"\n",
    "    redirect_class = (\n",
    "        HttpResponsePermanentRedirect if permanent else HttpResponseRedirect\n",
    "    )\n",
    "    return redirect_class(resolve_url(to, *args, **kwargs))"
   ]
  },
  {
   "cell_type": "markdown",
   "metadata": {},
   "source": []
  },
  {
   "cell_type": "code",
   "execution_count": null,
   "metadata": {},
   "outputs": [],
   "source": [
    "def _get_queryset(klass):\n",
    "    \"\"\"\n",
    "    Return a QuerySet or a Manager.\n",
    "    Duck typing in action: any class with a `get()` method (for\n",
    "    get_object_or_404) or a `filter()` method (for get_list_or_404) might do\n",
    "    the job.\n",
    "    \"\"\"\n",
    "    # If it is a model class or anything else with ._default_manager\n",
    "    if hasattr(klass, \"_default_manager\"):\n",
    "        return klass._default_manager.all()\n",
    "    return klass"
   ]
  },
  {
   "cell_type": "markdown",
   "metadata": {},
   "source": []
  },
  {
   "cell_type": "code",
   "execution_count": null,
   "metadata": {},
   "outputs": [],
   "source": [
    "def get_object_or_404(klass, *args, **kwargs):\n",
    "    \"\"\"\n",
    "    Use get() to return an object, or raise an Http404 exception if the object\n",
    "    does not exist.\n",
    "\n",
    "    klass may be a Model, Manager, or QuerySet object. All other passed\n",
    "    arguments and keyword arguments are used in the get() query.\n",
    "\n",
    "    Like with QuerySet.get(), MultipleObjectsReturned is raised if more than\n",
    "    one object is found.\n",
    "    \"\"\"\n",
    "    queryset = _get_queryset(klass)\n",
    "    if not hasattr(queryset, \"get\"):\n",
    "        klass__name = (\n",
    "            klass.__name__ if isinstance(klass, type) else klass.__class__.__name__\n",
    "        )\n",
    "        raise ValueError(\n",
    "            \"First argument to get_object_or_404() must be a Model, Manager, \"\n",
    "            \"or QuerySet, not '%s'.\" % klass__name\n",
    "        )\n",
    "    try:\n",
    "        return queryset.get(*args, **kwargs)\n",
    "    except queryset.model.DoesNotExist:\n",
    "        raise Http404(\n",
    "            \"No %s matches the given query.\" % queryset.model._meta.object_name\n",
    "        )"
   ]
  },
  {
   "cell_type": "markdown",
   "metadata": {},
   "source": []
  },
  {
   "cell_type": "code",
   "execution_count": null,
   "metadata": {},
   "outputs": [],
   "source": [
    "async def aget_object_or_404(klass, *args, **kwargs):\n",
    "    \"\"\"See get_object_or_404().\"\"\"\n",
    "    queryset = _get_queryset(klass)\n",
    "    if not hasattr(queryset, \"aget\"):\n",
    "        klass__name = (\n",
    "            klass.__name__ if isinstance(klass, type) else klass.__class__.__name__\n",
    "        )\n",
    "        raise ValueError(\n",
    "            \"First argument to aget_object_or_404() must be a Model, Manager, or \"\n",
    "            f\"QuerySet, not '{klass__name}'.\"\n",
    "        )\n",
    "    try:\n",
    "        return await queryset.aget(*args, **kwargs)\n",
    "    except queryset.model.DoesNotExist:\n",
    "        raise Http404(f\"No {queryset.model._meta.object_name} matches the given query.\")"
   ]
  },
  {
   "cell_type": "markdown",
   "metadata": {},
   "source": []
  },
  {
   "cell_type": "code",
   "execution_count": null,
   "metadata": {},
   "outputs": [],
   "source": [
    "def get_list_or_404(klass, *args, **kwargs):\n",
    "    \"\"\"\n",
    "    Use filter() to return a list of objects, or raise an Http404 exception if\n",
    "    the list is empty.\n",
    "\n",
    "    klass may be a Model, Manager, or QuerySet object. All other passed\n",
    "    arguments and keyword arguments are used in the filter() query.\n",
    "    \"\"\"\n",
    "    queryset = _get_queryset(klass)\n",
    "    if not hasattr(queryset, \"filter\"):\n",
    "        klass__name = (\n",
    "            klass.__name__ if isinstance(klass, type) else klass.__class__.__name__\n",
    "        )\n",
    "        raise ValueError(\n",
    "            \"First argument to get_list_or_404() must be a Model, Manager, or \"\n",
    "            \"QuerySet, not '%s'.\" % klass__name\n",
    "        )\n",
    "    obj_list = list(queryset.filter(*args, **kwargs))\n",
    "    if not obj_list:\n",
    "        raise Http404(\n",
    "            \"No %s matches the given query.\" % queryset.model._meta.object_name\n",
    "        )\n",
    "    return obj_list"
   ]
  },
  {
   "cell_type": "markdown",
   "metadata": {},
   "source": []
  },
  {
   "cell_type": "code",
   "execution_count": null,
   "metadata": {},
   "outputs": [],
   "source": [
    "async def aget_list_or_404(klass, *args, **kwargs):\n",
    "    \"\"\"See get_list_or_404().\"\"\"\n",
    "    queryset = _get_queryset(klass)\n",
    "    if not hasattr(queryset, \"filter\"):\n",
    "        klass__name = (\n",
    "            klass.__name__ if isinstance(klass, type) else klass.__class__.__name__\n",
    "        )\n",
    "        raise ValueError(\n",
    "            \"First argument to aget_list_or_404() must be a Model, Manager, or \"\n",
    "            f\"QuerySet, not '{klass__name}'.\"\n",
    "        )\n",
    "    obj_list = [obj async for obj in queryset.filter(*args, **kwargs)]\n",
    "    if not obj_list:\n",
    "        raise Http404(f\"No {queryset.model._meta.object_name} matches the given query.\")\n",
    "    return obj_list"
   ]
  },
  {
   "cell_type": "markdown",
   "metadata": {},
   "source": []
  },
  {
   "cell_type": "code",
   "execution_count": null,
   "metadata": {},
   "outputs": [],
   "source": [
    "def resolve_url(to, *args, **kwargs):\n",
    "    \"\"\"\n",
    "    Return a URL appropriate for the arguments passed.\n",
    "\n",
    "    The arguments could be:\n",
    "\n",
    "        * A model: the model's `get_absolute_url()` function will be called.\n",
    "\n",
    "        * A view name, possibly with arguments: `urls.reverse()` will be used\n",
    "          to reverse-resolve the name.\n",
    "\n",
    "        * A URL, which will be returned as-is.\n",
    "    \"\"\"\n",
    "    # If it's a model, use get_absolute_url()\n",
    "    if hasattr(to, \"get_absolute_url\"):\n",
    "        return to.get_absolute_url()\n",
    "\n",
    "    if isinstance(to, Promise):\n",
    "        # Expand the lazy instance, as it can cause issues when it is passed\n",
    "        # further to some Python functions like urlparse.\n",
    "        to = str(to)\n",
    "\n",
    "    # Handle relative URLs\n",
    "    if isinstance(to, str) and to.startswith((\"./\", \"../\")):\n",
    "        return to\n",
    "\n",
    "    # Next try a reverse URL resolution.\n",
    "    try:\n",
    "        return reverse(to, args=args, kwargs=kwargs)\n",
    "    except NoReverseMatch:\n",
    "        # If this is a callable, re-raise.\n",
    "        if callable(to):\n",
    "            raise\n",
    "        # If this doesn't \"feel\" like a URL, re-raise.\n",
    "        if \"/\" not in to and \".\" not in to:\n",
    "            raise\n",
    "\n",
    "    # Finally, fall back and assume it's a URL\n",
    "    return to"
   ]
  },
  {
   "cell_type": "markdown",
   "metadata": {},
   "source": []
  }
 ],
 "metadata": {
  "language_info": {
   "name": "python"
  }
 },
 "nbformat": 4,
 "nbformat_minor": 2
}