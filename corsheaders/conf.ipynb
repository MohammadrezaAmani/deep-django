{
    "cells": [
        {
            "cell_type": "code",
            "execution_count": null,
            "metadata": {},
            "outputs": [],
            "source": [
                "from __future__ import annotations\n",
                "\n",
                "from typing import cast\n",
                "from typing import List\n",
                "from typing import Pattern\n",
                "from typing import Sequence\n",
                "from typing import Tuple\n",
                "from typing import Union\n",
                "\n",
                "from django.conf import settings\n",
                "\n",
                "from corsheaders.defaults import default_headers\n",
                "from corsheaders.defaults import default_methods\n"
            ]
        },
        {
            "cell_type": "markdown",
            "metadata": {},
            "source": []
        },
        {
            "cell_type": "code",
            "execution_count": null,
            "metadata": {},
            "outputs": [],
            "source": [
                "class Settings:\n",
                "    \"\"\"\n",
                "    Shadow Django's settings with a little logic\n",
                "    \"\"\"\n",
                "\n",
                "    @property\n",
                "    def CORS_ALLOW_HEADERS(self) -> Sequence[str]:\n",
                "        return getattr(settings, \"CORS_ALLOW_HEADERS\", default_headers)\n",
                "\n",
                "    @property\n",
                "    def CORS_ALLOW_METHODS(self) -> Sequence[str]:\n",
                "        return getattr(settings, \"CORS_ALLOW_METHODS\", default_methods)\n",
                "\n",
                "    @property\n",
                "    def CORS_ALLOW_CREDENTIALS(self) -> bool:\n",
                "        return getattr(settings, \"CORS_ALLOW_CREDENTIALS\", False)\n",
                "\n",
                "    @property\n",
                "    def CORS_ALLOW_PRIVATE_NETWORK(self) -> bool:\n",
                "        return getattr(settings, \"CORS_ALLOW_PRIVATE_NETWORK\", False)\n",
                "\n",
                "    @property\n",
                "    def CORS_PREFLIGHT_MAX_AGE(self) -> int:\n",
                "        return getattr(settings, \"CORS_PREFLIGHT_MAX_AGE\", 86400)\n",
                "\n",
                "    @property\n",
                "    def CORS_ALLOW_ALL_ORIGINS(self) -> bool:\n",
                "        return getattr(\n",
                "            settings,\n",
                "            \"CORS_ALLOW_ALL_ORIGINS\",\n",
                "            getattr(settings, \"CORS_ORIGIN_ALLOW_ALL\", False),\n",
                "        )\n",
                "\n",
                "    @property\n",
                "    def CORS_ALLOWED_ORIGINS(self) -> list[str] | tuple[str]:\n",
                "        value = getattr(\n",
                "            settings,\n",
                "            \"CORS_ALLOWED_ORIGINS\",\n",
                "            getattr(settings, \"CORS_ORIGIN_WHITELIST\", ()),\n",
                "        )\n",
                "        return cast(Union[List[str], Tuple[str]], value)\n",
                "\n",
                "    @property\n",
                "    def CORS_ALLOWED_ORIGIN_REGEXES(self) -> Sequence[str | Pattern[str]]:\n",
                "        return getattr(\n",
                "            settings,\n",
                "            \"CORS_ALLOWED_ORIGIN_REGEXES\",\n",
                "            getattr(settings, \"CORS_ORIGIN_REGEX_WHITELIST\", ()),\n",
                "        )\n",
                "\n",
                "    @property\n",
                "    def CORS_EXPOSE_HEADERS(self) -> Sequence[str]:\n",
                "        return getattr(settings, \"CORS_EXPOSE_HEADERS\", ())\n",
                "\n",
                "    @property\n",
                "    def CORS_URLS_REGEX(self) -> str | Pattern[str]:\n",
                "        return getattr(settings, \"CORS_URLS_REGEX\", r\"^.*$\")\n"
            ]
        },
        {
            "cell_type": "markdown",
            "metadata": {},
            "source": []
        },
        {
            "cell_type": "code",
            "execution_count": null,
            "metadata": {},
            "outputs": [],
            "source": [
                "conf = Settings()\n",
                "\n"
            ]
        },
        {
            "cell_type": "markdown",
            "metadata": {},
            "source": []
        }
    ],
    "metadata": {
        "language_info": {
            "name": "python"
        }
    },
    "nbformat": 4,
    "nbformat_minor": 2
}