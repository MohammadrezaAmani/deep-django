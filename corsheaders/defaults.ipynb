{
 "cells": [
  {
   "cell_type": "code",
   "execution_count": null,
   "metadata": {},
   "outputs": [],
   "source": [
    "from __future__ import annotations\n",
    "\n",
    "# Kept here for backwards compatibility\n",
    "\n",
    "default_headers = (\n",
    "    \"accept\",\n",
    "    \"authorization\",\n",
    "    \"content-type\",\n",
    "    \"user-agent\",\n",
    "    \"x-csrftoken\",\n",
    "    \"x-requested-with\",\n",
    ")\n",
    "\n",
    "default_methods = (\n",
    "    \"DELETE\",\n",
    "    \"GET\",\n",
    "    \"OPTIONS\",\n",
    "    \"PATCH\",\n",
    "    \"POST\",\n",
    "    \"PUT\",\n",
    ")"
   ]
  },
  {
   "cell_type": "markdown",
   "metadata": {},
   "source": []
  }
 ],
 "metadata": {
  "language_info": {
   "name": "python"
  }
 },
 "nbformat": 4,
 "nbformat_minor": 2
}