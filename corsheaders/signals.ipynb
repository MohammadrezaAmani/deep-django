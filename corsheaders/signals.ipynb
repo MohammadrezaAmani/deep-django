{
    "cells": [
        {
            "cell_type": "code",
            "execution_count": null,
            "metadata": {},
            "outputs": [],
            "source": [
                "from __future__ import annotations\n",
                "\n",
                "from django.dispatch import Signal\n",
                "\n",
                "# If any attached handler returns Truthy, CORS will be allowed for the request.\n",
                "# This can be used to build custom logic into the request handling when the\n",
                "# configuration doesn't work.\n",
                "check_request_enabled = Signal()\n",
                "\n"
            ]
        },
        {
            "cell_type": "markdown",
            "metadata": {},
            "source": []
        }
    ],
    "metadata": {
        "language_info": {
            "name": "python"
        }
    },
    "nbformat": 4,
    "nbformat_minor": 2
}