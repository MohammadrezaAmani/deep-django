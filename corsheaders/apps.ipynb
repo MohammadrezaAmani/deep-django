{
 "cells": [
  {
   "cell_type": "code",
   "execution_count": null,
   "metadata": {},
   "outputs": [],
   "source": [
    "from __future__ import annotations\n",
    "\n",
    "from django.apps import AppConfig\n",
    "from django.core.checks import register\n",
    "from django.core.checks import Tags\n",
    "\n",
    "from corsheaders.checks import check_settings"
   ]
  },
  {
   "cell_type": "markdown",
   "metadata": {},
   "source": []
  },
  {
   "cell_type": "code",
   "execution_count": null,
   "metadata": {},
   "outputs": [],
   "source": [
    "class CorsHeadersAppConfig(AppConfig):\n",
    "    name = \"corsheaders\"\n",
    "    verbose_name = \"django-cors-headers\"\n",
    "\n",
    "    def ready(self) -> None:\n",
    "        register(Tags.security)(check_settings)"
   ]
  },
  {
   "cell_type": "markdown",
   "metadata": {},
   "source": []
  }
 ],
 "metadata": {
  "language_info": {
   "name": "python"
  }
 },
 "nbformat": 4,
 "nbformat_minor": 2
}