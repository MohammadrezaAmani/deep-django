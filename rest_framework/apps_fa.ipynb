{
 "cells": [
  {
   "cell_type": "code",
   "execution_count": null,
   "metadata": {},
   "outputs": [],
   "source": [
    "from django.apps import AppConfig"
   ]
  },
  {
   "cell_type": "markdown",
   "metadata": {},
   "source": []
  },
  {
   "cell_type": "code",
   "execution_count": null,
   "metadata": {},
   "outputs": [],
   "source": [
    "class RestFrameworkConfig(AppConfig):\n",
    "    name = \"rest_framework\"\n",
    "    verbose_name = \"Django REST framework\"\n",
    "\n",
    "    def ready(self):\n",
    "        # Add System checks\n",
    "        from .checks import pagination_system_check  # NOQA"
   ]
  },
  {
   "cell_type": "markdown",
   "metadata": {},
   "source": []
  }
 ],
 "metadata": {
  "language_info": {
   "name": "python"
  }
 },
 "nbformat": 4,
 "nbformat_minor": 2
}