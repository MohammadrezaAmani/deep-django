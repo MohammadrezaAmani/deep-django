{
 "cells": [
  {
   "cell_type": "code",
   "execution_count": null,
   "metadata": {},
   "outputs": [],
   "source": [
    "\"\"\"\n",
    "Provides a set of pluggable permission policies.\n",
    "\"\"\"\n",
    "from django.http import Http404\n",
    "from rest_framework import exceptions\n",
    "\n",
    "SAFE_METHODS = (\"GET\", \"HEAD\", \"OPTIONS\")"
   ]
  },
  {
   "cell_type": "markdown",
   "metadata": {},
   "source": []
  },
  {
   "cell_type": "code",
   "execution_count": null,
   "metadata": {},
   "outputs": [],
   "source": [
    "class OperationHolderMixin:\n",
    "    def __and__(self, other):\n",
    "        return OperandHolder(AND, self, other)\n",
    "\n",
    "    def __or__(self, other):\n",
    "        return OperandHolder(OR, self, other)\n",
    "\n",
    "    def __rand__(self, other):\n",
    "        return OperandHolder(AND, other, self)\n",
    "\n",
    "    def __ror__(self, other):\n",
    "        return OperandHolder(OR, other, self)\n",
    "\n",
    "    def __invert__(self):\n",
    "        return SingleOperandHolder(NOT, self)"
   ]
  },
  {
   "cell_type": "markdown",
   "metadata": {},
   "source": []
  },
  {
   "cell_type": "code",
   "execution_count": null,
   "metadata": {},
   "outputs": [],
   "source": [
    "class SingleOperandHolder(OperationHolderMixin):\n",
    "    def __init__(self, operator_class, op1_class):\n",
    "        self.operator_class = operator_class\n",
    "        self.op1_class = op1_class\n",
    "\n",
    "    def __call__(self, *args, **kwargs):\n",
    "        op1 = self.op1_class(*args, **kwargs)\n",
    "        return self.operator_class(op1)"
   ]
  },
  {
   "cell_type": "markdown",
   "metadata": {},
   "source": []
  },
  {
   "cell_type": "code",
   "execution_count": null,
   "metadata": {},
   "outputs": [],
   "source": [
    "class OperandHolder(OperationHolderMixin):\n",
    "    def __init__(self, operator_class, op1_class, op2_class):\n",
    "        self.operator_class = operator_class\n",
    "        self.op1_class = op1_class\n",
    "        self.op2_class = op2_class\n",
    "\n",
    "    def __call__(self, *args, **kwargs):\n",
    "        op1 = self.op1_class(*args, **kwargs)\n",
    "        op2 = self.op2_class(*args, **kwargs)\n",
    "        return self.operator_class(op1, op2)\n",
    "\n",
    "    def __eq__(self, other):\n",
    "        return (\n",
    "            isinstance(other, OperandHolder)\n",
    "            and self.operator_class == other.operator_class\n",
    "            and self.op1_class == other.op1_class\n",
    "            and self.op2_class == other.op2_class\n",
    "        )"
   ]
  },
  {
   "cell_type": "markdown",
   "metadata": {},
   "source": []
  },
  {
   "cell_type": "code",
   "execution_count": null,
   "metadata": {},
   "outputs": [],
   "source": [
    "class AND:\n",
    "    def __init__(self, op1, op2):\n",
    "        self.op1 = op1\n",
    "        self.op2 = op2\n",
    "\n",
    "    def has_permission(self, request, view):\n",
    "        return self.op1.has_permission(request, view) and self.op2.has_permission(\n",
    "            request, view\n",
    "        )\n",
    "\n",
    "    def has_object_permission(self, request, view, obj):\n",
    "        return self.op1.has_object_permission(\n",
    "            request, view, obj\n",
    "        ) and self.op2.has_object_permission(request, view, obj)"
   ]
  },
  {
   "cell_type": "markdown",
   "metadata": {},
   "source": []
  },
  {
   "cell_type": "code",
   "execution_count": null,
   "metadata": {},
   "outputs": [],
   "source": [
    "class OR:\n",
    "    def __init__(self, op1, op2):\n",
    "        self.op1 = op1\n",
    "        self.op2 = op2\n",
    "\n",
    "    def has_permission(self, request, view):\n",
    "        return self.op1.has_permission(request, view) or self.op2.has_permission(\n",
    "            request, view\n",
    "        )\n",
    "\n",
    "    def has_object_permission(self, request, view, obj):\n",
    "        return (\n",
    "            self.op1.has_permission(request, view)\n",
    "            and self.op1.has_object_permission(request, view, obj)\n",
    "        ) or (\n",
    "            self.op2.has_permission(request, view)\n",
    "            and self.op2.has_object_permission(request, view, obj)\n",
    "        )"
   ]
  },
  {
   "cell_type": "markdown",
   "metadata": {},
   "source": []
  },
  {
   "cell_type": "code",
   "execution_count": null,
   "metadata": {},
   "outputs": [],
   "source": [
    "class NOT:\n",
    "    def __init__(self, op1):\n",
    "        self.op1 = op1\n",
    "\n",
    "    def has_permission(self, request, view):\n",
    "        return not self.op1.has_permission(request, view)\n",
    "\n",
    "    def has_object_permission(self, request, view, obj):\n",
    "        return not self.op1.has_object_permission(request, view, obj)"
   ]
  },
  {
   "cell_type": "markdown",
   "metadata": {},
   "source": []
  },
  {
   "cell_type": "code",
   "execution_count": null,
   "metadata": {},
   "outputs": [],
   "source": [
    "class BasePermissionMetaclass(OperationHolderMixin, type):\n",
    "    pass"
   ]
  },
  {
   "cell_type": "markdown",
   "metadata": {},
   "source": []
  },
  {
   "cell_type": "code",
   "execution_count": null,
   "metadata": {},
   "outputs": [],
   "source": [
    "class BasePermission(metaclass=BasePermissionMetaclass):\n",
    "    \"\"\"\n",
    "    A base class from which all permission classes should inherit.\n",
    "    \"\"\"\n",
    "\n",
    "    def has_permission(self, request, view):\n",
    "        \"\"\"\n",
    "        Return `True` if permission is granted, `False` otherwise.\n",
    "        \"\"\"\n",
    "        return True\n",
    "\n",
    "    def has_object_permission(self, request, view, obj):\n",
    "        \"\"\"\n",
    "        Return `True` if permission is granted, `False` otherwise.\n",
    "        \"\"\"\n",
    "        return True"
   ]
  },
  {
   "cell_type": "markdown",
   "metadata": {},
   "source": []
  },
  {
   "cell_type": "code",
   "execution_count": null,
   "metadata": {},
   "outputs": [],
   "source": [
    "class AllowAny(BasePermission):\n",
    "    \"\"\"\n",
    "    Allow any access.\n",
    "    This isn't strictly required, since you could use an empty\n",
    "    permission_classes list, but it's useful because it makes the intention\n",
    "    more explicit.\n",
    "    \"\"\"\n",
    "\n",
    "    def has_permission(self, request, view):\n",
    "        return True"
   ]
  },
  {
   "cell_type": "markdown",
   "metadata": {},
   "source": []
  },
  {
   "cell_type": "code",
   "execution_count": null,
   "metadata": {},
   "outputs": [],
   "source": [
    "class IsAuthenticated(BasePermission):\n",
    "    \"\"\"\n",
    "    Allows access only to authenticated users.\n",
    "    \"\"\"\n",
    "\n",
    "    def has_permission(self, request, view):\n",
    "        return bool(request.user and request.user.is_authenticated)"
   ]
  },
  {
   "cell_type": "markdown",
   "metadata": {},
   "source": []
  },
  {
   "cell_type": "code",
   "execution_count": null,
   "metadata": {},
   "outputs": [],
   "source": [
    "class IsAdminUser(BasePermission):\n",
    "    \"\"\"\n",
    "    Allows access only to admin users.\n",
    "    \"\"\"\n",
    "\n",
    "    def has_permission(self, request, view):\n",
    "        return bool(request.user and request.user.is_staff)"
   ]
  },
  {
   "cell_type": "markdown",
   "metadata": {},
   "source": []
  },
  {
   "cell_type": "code",
   "execution_count": null,
   "metadata": {},
   "outputs": [],
   "source": [
    "class IsAuthenticatedOrReadOnly(BasePermission):\n",
    "    \"\"\"\n",
    "    The request is authenticated as a user, or is a read-only request.\n",
    "    \"\"\"\n",
    "\n",
    "    def has_permission(self, request, view):\n",
    "        return bool(\n",
    "            request.method in SAFE_METHODS\n",
    "            or request.user\n",
    "            and request.user.is_authenticated\n",
    "        )"
   ]
  },
  {
   "cell_type": "markdown",
   "metadata": {},
   "source": []
  },
  {
   "cell_type": "code",
   "execution_count": null,
   "metadata": {},
   "outputs": [],
   "source": [
    "class DjangoModelPermissions(BasePermission):\n",
    "    \"\"\"\n",
    "    The request is authenticated using `django.contrib.auth` permissions.\n",
    "    See: https://docs.djangoproject.com/en/dev/topics/auth/#permissions\n",
    "\n",
    "    It ensures that the user is authenticated, and has the appropriate\n",
    "    `add`/`change`/`delete` permissions on the model.\n",
    "\n",
    "    This permission can only be applied against view classes that\n",
    "    provide a `.queryset` attribute.\n",
    "    \"\"\"\n",
    "\n",
    "    # Map methods into required permission codes.\n",
    "    # Override this if you need to also provide 'view' permissions,\n",
    "    # or if you want to provide custom permission codes.\n",
    "    perms_map = {\n",
    "        \"GET\": [],\n",
    "        \"OPTIONS\": [],\n",
    "        \"HEAD\": [],\n",
    "        \"POST\": [\"%(app_label)s.add_%(model_name)s\"],\n",
    "        \"PUT\": [\"%(app_label)s.change_%(model_name)s\"],\n",
    "        \"PATCH\": [\"%(app_label)s.change_%(model_name)s\"],\n",
    "        \"DELETE\": [\"%(app_label)s.delete_%(model_name)s\"],\n",
    "    }\n",
    "\n",
    "    authenticated_users_only = True\n",
    "\n",
    "    def get_required_permissions(self, method, model_cls):\n",
    "        \"\"\"\n",
    "        Given a model and an HTTP method, return the list of permission\n",
    "        codes that the user is required to have.\n",
    "        \"\"\"\n",
    "        kwargs = {\n",
    "            \"app_label\": model_cls._meta.app_label,\n",
    "            \"model_name\": model_cls._meta.model_name,\n",
    "        }\n",
    "\n",
    "        if method not in self.perms_map:\n",
    "            raise exceptions.MethodNotAllowed(method)\n",
    "\n",
    "        return [perm % kwargs for perm in self.perms_map[method]]\n",
    "\n",
    "    def _queryset(self, view):\n",
    "        assert (\n",
    "            hasattr(view, \"get_queryset\") or getattr(view, \"queryset\", None) is not None\n",
    "        ), (\n",
    "            \"Cannot apply {} on a view that does not set \"\n",
    "            \"`.queryset` or have a `.get_queryset()` method.\"\n",
    "        ).format(\n",
    "            self.__class__.__name__\n",
    "        )\n",
    "\n",
    "        if hasattr(view, \"get_queryset\"):\n",
    "            queryset = view.get_queryset()\n",
    "            assert queryset is not None, \"{}.get_queryset() returned None\".format(\n",
    "                view.__class__.__name__\n",
    "            )\n",
    "            return queryset\n",
    "        return view.queryset\n",
    "\n",
    "    def has_permission(self, request, view):\n",
    "        if not request.user or (\n",
    "            not request.user.is_authenticated and self.authenticated_users_only\n",
    "        ):\n",
    "            return False\n",
    "\n",
    "        # Workaround to ensure DjangoModelPermissions are not applied\n",
    "        # to the root view when using DefaultRouter.\n",
    "        if getattr(view, \"_ignore_model_permissions\", False):\n",
    "            return True\n",
    "\n",
    "        queryset = self._queryset(view)\n",
    "        perms = self.get_required_permissions(request.method, queryset.model)\n",
    "\n",
    "        return request.user.has_perms(perms)"
   ]
  },
  {
   "cell_type": "markdown",
   "metadata": {},
   "source": []
  },
  {
   "cell_type": "code",
   "execution_count": null,
   "metadata": {},
   "outputs": [],
   "source": [
    "class DjangoModelPermissionsOrAnonReadOnly(DjangoModelPermissions):\n",
    "    \"\"\"\n",
    "    Similar to DjangoModelPermissions, except that anonymous users are\n",
    "    allowed read-only access.\n",
    "    \"\"\"\n",
    "\n",
    "    authenticated_users_only = False"
   ]
  },
  {
   "cell_type": "markdown",
   "metadata": {},
   "source": []
  },
  {
   "cell_type": "code",
   "execution_count": null,
   "metadata": {},
   "outputs": [],
   "source": [
    "class DjangoObjectPermissions(DjangoModelPermissions):\n",
    "    \"\"\"\n",
    "    The request is authenticated using Django's object-level permissions.\n",
    "    It requires an object-permissions-enabled backend, such as Django Guardian.\n",
    "\n",
    "    It ensures that the user is authenticated, and has the appropriate\n",
    "    `add`/`change`/`delete` permissions on the object using .has_perms.\n",
    "\n",
    "    This permission can only be applied against view classes that\n",
    "    provide a `.queryset` attribute.\n",
    "    \"\"\"\n",
    "\n",
    "    perms_map = {\n",
    "        \"GET\": [],\n",
    "        \"OPTIONS\": [],\n",
    "        \"HEAD\": [],\n",
    "        \"POST\": [\"%(app_label)s.add_%(model_name)s\"],\n",
    "        \"PUT\": [\"%(app_label)s.change_%(model_name)s\"],\n",
    "        \"PATCH\": [\"%(app_label)s.change_%(model_name)s\"],\n",
    "        \"DELETE\": [\"%(app_label)s.delete_%(model_name)s\"],\n",
    "    }\n",
    "\n",
    "    def get_required_object_permissions(self, method, model_cls):\n",
    "        kwargs = {\n",
    "            \"app_label\": model_cls._meta.app_label,\n",
    "            \"model_name\": model_cls._meta.model_name,\n",
    "        }\n",
    "\n",
    "        if method not in self.perms_map:\n",
    "            raise exceptions.MethodNotAllowed(method)\n",
    "\n",
    "        return [perm % kwargs for perm in self.perms_map[method]]\n",
    "\n",
    "    def has_object_permission(self, request, view, obj):\n",
    "        # authentication checks have already executed via has_permission\n",
    "        queryset = self._queryset(view)\n",
    "        model_cls = queryset.model\n",
    "        user = request.user\n",
    "\n",
    "        perms = self.get_required_object_permissions(request.method, model_cls)\n",
    "\n",
    "        if not user.has_perms(perms, obj):\n",
    "            # If the user does not have permissions we need to determine if\n",
    "            # they have read permissions to see 403, or not, and simply see\n",
    "            # a 404 response.\n",
    "\n",
    "            if request.method in SAFE_METHODS:\n",
    "                # Read permissions already checked and failed, no need\n",
    "                # to make another lookup.\n",
    "                raise Http404\n",
    "\n",
    "            read_perms = self.get_required_object_permissions(\"GET\", model_cls)\n",
    "            if not user.has_perms(read_perms, obj):\n",
    "                raise Http404\n",
    "\n",
    "            # Has read permissions.\n",
    "            return False\n",
    "\n",
    "        return True"
   ]
  },
  {
   "cell_type": "markdown",
   "metadata": {},
   "source": []
  }
 ],
 "metadata": {
  "language_info": {
   "name": "python"
  }
 },
 "nbformat": 4,
 "nbformat_minor": 2
}