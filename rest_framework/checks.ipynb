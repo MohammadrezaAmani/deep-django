{
    "cells": [
        {
            "cell_type": "code",
            "execution_count": null,
            "metadata": {},
            "outputs": [],
            "source": [
                "from django.core.checks import Tags, Warning, register\n"
            ]
        },
        {
            "cell_type": "markdown",
            "metadata": {},
            "source": []
        },
        {
            "cell_type": "code",
            "execution_count": null,
            "metadata": {},
            "outputs": [],
            "source": [
                "@register(Tags.compatibility)\n",
                "def pagination_system_check(app_configs, **kwargs):\n",
                "    errors = []\n",
                "    # Use of default page size setting requires a default Paginator class\n",
                "    from rest_framework.settings import api_settings\n",
                "    if api_settings.PAGE_SIZE and not api_settings.DEFAULT_PAGINATION_CLASS:\n",
                "        errors.append(\n",
                "            Warning(\n",
                "                \"You have specified a default PAGE_SIZE pagination rest_framework setting, \"\n",
                "                \"without specifying also a DEFAULT_PAGINATION_CLASS.\",\n",
                "                hint=\"The default for DEFAULT_PAGINATION_CLASS is None. \"\n",
                "                     \"In previous versions this was PageNumberPagination. \"\n",
                "                     \"If you wish to define PAGE_SIZE globally whilst defining \"\n",
                "                     \"pagination_class on a per-view basis you may silence this check.\",\n",
                "                id=\"rest_framework.W001\"\n",
                "            )\n",
                "        )\n",
                "    return errors\n",
                "\n"
            ]
        },
        {
            "cell_type": "markdown",
            "metadata": {},
            "source": []
        }
    ],
    "metadata": {
        "language_info": {
            "name": "python"
        }
    },
    "nbformat": 4,
    "nbformat_minor": 2
}