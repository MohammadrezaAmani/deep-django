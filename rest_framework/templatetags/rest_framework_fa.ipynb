{
    "cells": [
        {
            "cell_type": "code",
            "execution_count": null,
            "metadata": {},
            "outputs": [],
            "source": [
                "import re\n",
                "\n",
                "from django import template\n",
                "from django.template import loader\n",
                "from django.urls import NoReverseMatch, reverse\n",
                "from django.utils.encoding import iri_to_uri\n",
                "from django.utils.html import escape, format_html, smart_urlquote\n",
                "from django.utils.safestring import mark_safe\n",
                "from rest_framework.compat import apply_markdown, pygments_highlight\n",
                "from rest_framework.renderers import HTMLFormRenderer\n",
                "from rest_framework.utils.urls import replace_query_param\n",
                "\n",
                "register = template.Library()\n",
                "\n",
                "# Regex for adding classes to html snippets\n",
                "class_re = re.compile(r'(?<=class=[\"\\'])(.*)(?=[\"\\'])')\n"
            ]
        },
        {
            "cell_type": "markdown",
            "metadata": {},
            "source": []
        },
        {
            "cell_type": "code",
            "execution_count": null,
            "metadata": {},
            "outputs": [],
            "source": [
                "@register.tag(name=\"code\")\n",
                "def highlight_code(parser, token):\n",
                "    code = token.split_contents()[-1]\n",
                "    nodelist = parser.parse((\"endcode\",))\n",
                "    parser.delete_first_token()\n",
                "    return CodeNode(code, nodelist)\n"
            ]
        },
        {
            "cell_type": "markdown",
            "metadata": {},
            "source": []
        },
        {
            "cell_type": "code",
            "execution_count": null,
            "metadata": {},
            "outputs": [],
            "source": [
                "class CodeNode(template.Node):\n",
                "    style = \"emacs\"\n",
                "\n",
                "    def __init__(self, lang, code):\n",
                "        self.lang = lang\n",
                "        self.nodelist = code\n",
                "\n",
                "    def render(self, context):\n",
                "        text = self.nodelist.render(context)\n",
                "        return pygments_highlight(text, self.lang, self.style)\n"
            ]
        },
        {
            "cell_type": "markdown",
            "metadata": {},
            "source": []
        },
        {
            "cell_type": "code",
            "execution_count": null,
            "metadata": {},
            "outputs": [],
            "source": [
                "@register.filter()\n",
                "def with_location(fields, location):\n",
                "    return [field for field in fields if field.location == location]\n"
            ]
        },
        {
            "cell_type": "markdown",
            "metadata": {},
            "source": []
        },
        {
            "cell_type": "code",
            "execution_count": null,
            "metadata": {},
            "outputs": [],
            "source": [
                "@register.simple_tag\n",
                "def form_for_link(link):\n",
                "    import coreschema\n",
                "\n",
                "    properties = {\n",
                "        field.name: field.schema or coreschema.String() for field in link.fields\n",
                "    }\n",
                "    required = [field.name for field in link.fields if field.required]\n",
                "    schema = coreschema.Object(properties=properties, required=required)\n",
                "    return mark_safe(coreschema.render_to_form(schema))\n"
            ]
        },
        {
            "cell_type": "markdown",
            "metadata": {},
            "source": []
        },
        {
            "cell_type": "code",
            "execution_count": null,
            "metadata": {},
            "outputs": [],
            "source": [
                "@register.simple_tag\n",
                "def render_markdown(markdown_text):\n",
                "    if apply_markdown is None:\n",
                "        return markdown_text\n",
                "    return mark_safe(apply_markdown(markdown_text))\n"
            ]
        },
        {
            "cell_type": "markdown",
            "metadata": {},
            "source": []
        },
        {
            "cell_type": "code",
            "execution_count": null,
            "metadata": {},
            "outputs": [],
            "source": [
                "@register.simple_tag\n",
                "def get_pagination_html(pager):\n",
                "    return pager.to_html()\n"
            ]
        },
        {
            "cell_type": "markdown",
            "metadata": {},
            "source": []
        },
        {
            "cell_type": "code",
            "execution_count": null,
            "metadata": {},
            "outputs": [],
            "source": [
                "@register.simple_tag\n",
                "def render_form(serializer, template_pack=None):\n",
                "    style = {\"template_pack\": template_pack} if template_pack else {}\n",
                "    renderer = HTMLFormRenderer()\n",
                "    return renderer.render(serializer.data, None, {\"style\": style})\n"
            ]
        },
        {
            "cell_type": "markdown",
            "metadata": {},
            "source": []
        },
        {
            "cell_type": "code",
            "execution_count": null,
            "metadata": {},
            "outputs": [],
            "source": [
                "@register.simple_tag\n",
                "def render_field(field, style):\n",
                "    renderer = style.get(\"renderer\", HTMLFormRenderer())\n",
                "    return renderer.render_field(field, style)\n"
            ]
        },
        {
            "cell_type": "markdown",
            "metadata": {},
            "source": []
        },
        {
            "cell_type": "code",
            "execution_count": null,
            "metadata": {},
            "outputs": [],
            "source": [
                "@register.simple_tag\n",
                "def optional_login(request):\n",
                "    \"\"\"\n",
                "    Include a login snippet if REST framework's login view is in the URLconf.\n",
                "    \"\"\"\n",
                "    try:\n",
                "        login_url = reverse(\"rest_framework:login\")\n",
                "    except NoReverseMatch:\n",
                "        return \"\"\n",
                "\n",
                "    snippet = \"<li><a href='{href}?next={next}'>Log in</a></li>\"\n",
                "    snippet = format_html(snippet, href=login_url, next=escape(request.path))\n",
                "\n",
                "    return mark_safe(snippet)\n"
            ]
        },
        {
            "cell_type": "markdown",
            "metadata": {},
            "source": []
        },
        {
            "cell_type": "code",
            "execution_count": null,
            "metadata": {},
            "outputs": [],
            "source": [
                "@register.simple_tag\n",
                "def optional_docs_login(request):\n",
                "    \"\"\"\n",
                "    Include a login snippet if REST framework's login view is in the URLconf.\n",
                "    \"\"\"\n",
                "    try:\n",
                "        login_url = reverse(\"rest_framework:login\")\n",
                "    except NoReverseMatch:\n",
                "        return \"log in\"\n",
                "\n",
                "    snippet = \"<a href='{href}?next={next}'>log in</a>\"\n",
                "    snippet = format_html(snippet, href=login_url, next=escape(request.path))\n",
                "\n",
                "    return mark_safe(snippet)\n"
            ]
        },
        {
            "cell_type": "markdown",
            "metadata": {},
            "source": []
        },
        {
            "cell_type": "code",
            "execution_count": null,
            "metadata": {},
            "outputs": [],
            "source": [
                "@register.simple_tag\n",
                "def optional_logout(request, user, csrf_token):\n",
                "    \"\"\"\n",
                "    Include a logout snippet if REST framework's logout view is in the URLconf.\n",
                "    \"\"\"\n",
                "    try:\n",
                "        logout_url = reverse(\"rest_framework:logout\")\n",
                "    except NoReverseMatch:\n",
                "        snippet = format_html('<li class=\"navbar-text\">{user}</li>', user=escape(user))\n",
                "        return mark_safe(snippet)\n",
                "\n",
                "    snippet = \"\"\"<li class=\"dropdown\">\n",
                "        <a href=\"#\" class=\"dropdown-toggle\" data-toggle=\"dropdown\">\n",
                "            {user}\n",
                "            <b class=\"caret\"></b>\n",
                "        </a>\n",
                "        <ul class=\"dropdown-menu\">\n",
                "            <form id=\"logoutForm\" method=\"post\" action=\"{href}?next={next}\">\n",
                "                <input type=\"hidden\" name=\"csrfmiddlewaretoken\" value=\"{csrf_token}\">\n",
                "            </form>\n",
                "            <li>\n",
                "                <a href=\"#\" onclick='document.getElementById(\"logoutForm\").submit()'>Log out</a>\n",
                "            </li>\n",
                "        </ul>\n",
                "    </li>\"\"\"\n",
                "    snippet = format_html(\n",
                "        snippet,\n",
                "        user=escape(user),\n",
                "        href=logout_url,\n",
                "        next=escape(request.path),\n",
                "        csrf_token=csrf_token,\n",
                "    )\n",
                "    return mark_safe(snippet)\n"
            ]
        },
        {
            "cell_type": "markdown",
            "metadata": {},
            "source": []
        },
        {
            "cell_type": "code",
            "execution_count": null,
            "metadata": {},
            "outputs": [],
            "source": [
                "@register.simple_tag\n",
                "def add_query_param(request, key, val):\n",
                "    \"\"\"\n",
                "    Add a query parameter to the current request url, and return the new url.\n",
                "    \"\"\"\n",
                "    iri = request.get_full_path()\n",
                "    uri = iri_to_uri(iri)\n",
                "    return escape(replace_query_param(uri, key, val))\n"
            ]
        },
        {
            "cell_type": "markdown",
            "metadata": {},
            "source": []
        },
        {
            "cell_type": "code",
            "execution_count": null,
            "metadata": {},
            "outputs": [],
            "source": [
                "@register.filter\n",
                "def as_string(value):\n",
                "    if value is None:\n",
                "        return \"\"\n",
                "    return \"%s\" % value\n"
            ]
        },
        {
            "cell_type": "markdown",
            "metadata": {},
            "source": []
        },
        {
            "cell_type": "code",
            "execution_count": null,
            "metadata": {},
            "outputs": [],
            "source": [
                "@register.filter\n",
                "def as_list_of_strings(value):\n",
                "    return [\"\" if (item is None) else (\"%s\" % item) for item in value]\n"
            ]
        },
        {
            "cell_type": "markdown",
            "metadata": {},
            "source": []
        },
        {
            "cell_type": "code",
            "execution_count": null,
            "metadata": {},
            "outputs": [],
            "source": [
                "@register.filter\n",
                "def add_class(value, css_class):\n",
                "    \"\"\"\n",
                "    https://stackoverflow.com/questions/4124220/django-adding-css-classes-when-rendering-form-fields-in-a-template\n",
                "\n",
                "    Inserts classes into template variables that contain HTML tags,\n",
                "    useful for modifying forms without needing to change the Form objects.\n",
                "\n",
                "    Usage:\n",
                "\n",
                "        {{ field.label_tag|add_class:\"control-label\" }}\n",
                "\n",
                "    In the case of REST Framework, the filter is used to add Bootstrap-specific\n",
                "    classes to the forms.\n",
                "    \"\"\"\n",
                "    html = str(value)\n",
                "    match = class_re.search(html)\n",
                "    if match:\n",
                "        m = re.search(\n",
                "            r\"^%s$|^%s\\s|\\s%s\\s|\\s%s$\" % (css_class, css_class, css_class, css_class),\n",
                "            match.group(1),\n",
                "        )\n",
                "        if not m:\n",
                "            return mark_safe(class_re.sub(match.group(1) + \" \" + css_class, html))\n",
                "    else:\n",
                "        return mark_safe(html.replace(\">\", ' class=\"%s\">' % css_class, 1))\n",
                "    return value\n"
            ]
        },
        {
            "cell_type": "markdown",
            "metadata": {},
            "source": []
        },
        {
            "cell_type": "code",
            "execution_count": null,
            "metadata": {},
            "outputs": [],
            "source": [
                "@register.filter\n",
                "def format_value(value):\n",
                "    if getattr(value, \"is_hyperlink\", False):\n",
                "        name = str(value.obj)\n",
                "        return mark_safe(\"<a href=%s>%s</a>\" % (value, escape(name)))\n",
                "    if value is None or isinstance(value, bool):\n",
                "        return mark_safe(\n",
                "            \"<code>%s</code>\" % {True: \"true\", False: \"false\", None: \"null\"}[value]\n",
                "        )\n",
                "    elif isinstance(value, list):\n",
                "        if any(isinstance(item, (list, dict)) for item in value):\n",
                "            template = loader.get_template(\"rest_framework/admin/list_value.html\")\n",
                "        else:\n",
                "            template = loader.get_template(\n",
                "                \"rest_framework/admin/simple_list_value.html\"\n",
                "            )\n",
                "        context = {\"value\": value}\n",
                "        return template.render(context)\n",
                "    elif isinstance(value, dict):\n",
                "        template = loader.get_template(\"rest_framework/admin/dict_value.html\")\n",
                "        context = {\"value\": value}\n",
                "        return template.render(context)\n",
                "    elif isinstance(value, str):\n",
                "        if (\n",
                "            value.startswith(\"http:\")\n",
                "            or value.startswith(\"https:\")\n",
                "            or value.startswith(\"/\")\n",
                "        ) and not re.search(r\"\\s\", value):\n",
                "            return mark_safe(\n",
                "                '<a href=\"{value}\">{value}</a>'.format(value=escape(value))\n",
                "            )\n",
                "        elif \"@\" in value and not re.search(r\"\\s\", value):\n",
                "            return mark_safe(\n",
                "                '<a href=\"mailto:{value}\">{value}</a>'.format(value=escape(value))\n",
                "            )\n",
                "        elif \"\\n\" in value:\n",
                "            return mark_safe(\"<pre>%s</pre>\" % escape(value))\n",
                "    return str(value)\n"
            ]
        },
        {
            "cell_type": "markdown",
            "metadata": {},
            "source": []
        },
        {
            "cell_type": "code",
            "execution_count": null,
            "metadata": {},
            "outputs": [],
            "source": [
                "@register.filter\n",
                "def items(value):\n",
                "    \"\"\"\n",
                "    Simple filter to return the items of the dict. Useful when the dict may\n",
                "    have a key 'items' which is resolved first in Django template dot-notation\n",
                "    lookup.  See issue #4931\n",
                "    Also see: https://stackoverflow.com/questions/15416662/django-template-loop-over-dictionary-items-with-items-as-key\n",
                "    \"\"\"\n",
                "    if value is None:\n",
                "        # `{% for k, v in value.items %}` doesn't raise when value is None or\n",
                "        # not in the context, so neither should `{% for k, v in value|items %}`\n",
                "        return []\n",
                "    return value.items()\n"
            ]
        },
        {
            "cell_type": "markdown",
            "metadata": {},
            "source": []
        },
        {
            "cell_type": "code",
            "execution_count": null,
            "metadata": {},
            "outputs": [],
            "source": [
                "@register.filter\n",
                "def data(value):\n",
                "    \"\"\"\n",
                "    Simple filter to access `data` attribute of object,\n",
                "    specifically coreapi.Document.\n",
                "\n",
                "    As per `items` filter above, allows accessing `document.data` when\n",
                "    Document contains Link keyed-at \"data\".\n",
                "\n",
                "    See issue #5395\n",
                "    \"\"\"\n",
                "    return value.data\n"
            ]
        },
        {
            "cell_type": "markdown",
            "metadata": {},
            "source": []
        },
        {
            "cell_type": "code",
            "execution_count": null,
            "metadata": {},
            "outputs": [],
            "source": [
                "@register.filter\n",
                "def schema_links(section, sec_key=None):\n",
                "    \"\"\"\n",
                "    Recursively find every link in a schema, even nested.\n",
                "    \"\"\"\n",
                "    NESTED_FORMAT = \"%s > %s\"  # this format is used in docs/js/api.js:normalizeKeys\n",
                "    links = section.links\n",
                "    if section.data:\n",
                "        data = section.data.items()\n",
                "        for sub_section_key, sub_section in data:\n",
                "            new_links = schema_links(sub_section, sec_key=sub_section_key)\n",
                "            links.update(new_links)\n",
                "\n",
                "    if sec_key is not None:\n",
                "        new_links = {}\n",
                "        for link_key, link in links.items():\n",
                "            new_key = NESTED_FORMAT % (sec_key, link_key)\n",
                "            new_links.update({new_key: link})\n",
                "        return new_links\n",
                "\n",
                "    return links\n"
            ]
        },
        {
            "cell_type": "markdown",
            "metadata": {},
            "source": []
        },
        {
            "cell_type": "code",
            "execution_count": null,
            "metadata": {},
            "outputs": [],
            "source": [
                "@register.filter\n",
                "def add_nested_class(value):\n",
                "    if isinstance(value, dict):\n",
                "        return \"class=nested\"\n",
                "    if isinstance(value, list) and any(\n",
                "        isinstance(item, (list, dict)) for item in value\n",
                "    ):\n",
                "        return \"class=nested\"\n",
                "    return \"\"\n"
            ]
        },
        {
            "cell_type": "markdown",
            "metadata": {},
            "source": []
        },
        {
            "cell_type": "code",
            "execution_count": null,
            "metadata": {},
            "outputs": [],
            "source": [
                "# Bunch of stuff cloned from urlize\n",
                "TRAILING_PUNCTUATION = [\".\", \",\", \":\", \";\", \".)\", '\"', \"']\", \"'}\", \"'\"]\n",
                "WRAPPING_PUNCTUATION = [\n",
                "    (\"(\", \")\"),\n",
                "    (\"<\", \">\"),\n",
                "    (\"[\", \"]\"),\n",
                "    (\"&lt;\", \"&gt;\"),\n",
                "    ('\"', '\"'),\n",
                "    (\"'\", \"'\"),\n",
                "]\n",
                "word_split_re = re.compile(r\"(\\s+)\")\n",
                "simple_url_re = re.compile(r\"^https?://\\[?\\w\", re.IGNORECASE)\n",
                "simple_url_2_re = re.compile(\n",
                "    r\"^www\\.|^(?!http)\\w[^@]+\\.(com|edu|gov|int|mil|net|org)$\", re.IGNORECASE\n",
                ")\n",
                "simple_email_re = re.compile(r\"^\\S+@\\S+\\.\\S+$\")\n"
            ]
        },
        {
            "cell_type": "markdown",
            "metadata": {},
            "source": []
        },
        {
            "cell_type": "code",
            "execution_count": null,
            "metadata": {},
            "outputs": [],
            "source": [
                "def smart_urlquote_wrapper(matched_url):\n",
                "    \"\"\"\n",
                "    Simple wrapper for smart_urlquote. ValueError(\"Invalid IPv6 URL\") can\n",
                "    be raised here, see issue #1386\n",
                "    \"\"\"\n",
                "    try:\n",
                "        return smart_urlquote(matched_url)\n",
                "    except ValueError:\n",
                "        return None\n"
            ]
        },
        {
            "cell_type": "markdown",
            "metadata": {},
            "source": []
        },
        {
            "cell_type": "code",
            "execution_count": null,
            "metadata": {},
            "outputs": [],
            "source": [
                "@register.filter\n",
                "def break_long_headers(header):\n",
                "    \"\"\"\n",
                "    Breaks headers longer than 160 characters (~page length)\n",
                "    when possible (are comma separated)\n",
                "    \"\"\"\n",
                "    if len(header) > 160 and \",\" in header:\n",
                "        header = mark_safe(\"<br> \" + \", <br>\".join(header.split(\",\")))\n",
                "    return header\n",
                "\n"
            ]
        },
        {
            "cell_type": "markdown",
            "metadata": {},
            "source": []
        }
    ],
    "metadata": {
        "language_info": {
            "name": "python"
        }
    },
    "nbformat": 4,
    "nbformat_minor": 2
}