{
 "cells": [
  {
   "cell_type": "code",
   "execution_count": null,
   "metadata": {},
   "outputs": [],
   "source": [
    "\"\"\"\n",
    "Provide urlresolver functions that return fully qualified URLs or view names\n",
    "\"\"\"\n",
    "from django.urls import NoReverseMatch\n",
    "from django.urls import reverse as django_reverse\n",
    "from django.utils.functional import lazy\n",
    "\n",
    "from rest_framework.settings import api_settings\n",
    "from rest_framework.utils.urls import replace_query_param"
   ]
  },
  {
   "cell_type": "markdown",
   "metadata": {},
   "source": []
  },
  {
   "cell_type": "code",
   "execution_count": null,
   "metadata": {},
   "outputs": [],
   "source": [
    "def preserve_builtin_query_params(url, request=None):\n",
    "    \"\"\"\n",
    "    Given an incoming request, and an outgoing URL representation,\n",
    "    append the value of any built-in query parameters.\n",
    "    \"\"\"\n",
    "    if request is None:\n",
    "        return url\n",
    "\n",
    "    overrides = [\n",
    "        api_settings.URL_FORMAT_OVERRIDE,\n",
    "    ]\n",
    "\n",
    "    for param in overrides:\n",
    "        if param and (param in request.GET):\n",
    "            value = request.GET[param]\n",
    "            url = replace_query_param(url, param, value)\n",
    "\n",
    "    return url"
   ]
  },
  {
   "cell_type": "markdown",
   "metadata": {},
   "source": []
  },
  {
   "cell_type": "code",
   "execution_count": null,
   "metadata": {},
   "outputs": [],
   "source": [
    "def reverse(viewname, args=None, kwargs=None, request=None, format=None, **extra):\n",
    "    \"\"\"\n",
    "    If versioning is being used then we pass any `reverse` calls through\n",
    "    to the versioning scheme instance, so that the resulting URL\n",
    "    can be modified if needed.\n",
    "    \"\"\"\n",
    "    scheme = getattr(request, \"versioning_scheme\", None)\n",
    "    if scheme is not None:\n",
    "        try:\n",
    "            url = scheme.reverse(viewname, args, kwargs, request, format, **extra)\n",
    "        except NoReverseMatch:\n",
    "            # In case the versioning scheme reversal fails, fallback to the\n",
    "            # default implementation\n",
    "            url = _reverse(viewname, args, kwargs, request, format, **extra)\n",
    "    else:\n",
    "        url = _reverse(viewname, args, kwargs, request, format, **extra)\n",
    "\n",
    "    return preserve_builtin_query_params(url, request)"
   ]
  },
  {
   "cell_type": "markdown",
   "metadata": {},
   "source": []
  },
  {
   "cell_type": "code",
   "execution_count": null,
   "metadata": {},
   "outputs": [],
   "source": [
    "def _reverse(viewname, args=None, kwargs=None, request=None, format=None, **extra):\n",
    "    \"\"\"\n",
    "    Same as `django.urls.reverse`, but optionally takes a request\n",
    "    and returns a fully qualified URL, using the request to get the base URL.\n",
    "    \"\"\"\n",
    "    if format is not None:\n",
    "        kwargs = kwargs or {}\n",
    "        kwargs[\"format\"] = format\n",
    "    url = django_reverse(viewname, args=args, kwargs=kwargs, **extra)\n",
    "    if request:\n",
    "        return request.build_absolute_uri(url)\n",
    "    return url"
   ]
  },
  {
   "cell_type": "markdown",
   "metadata": {},
   "source": []
  },
  {
   "cell_type": "code",
   "execution_count": null,
   "metadata": {},
   "outputs": [],
   "source": [
    "reverse_lazy = lazy(reverse, str)"
   ]
  },
  {
   "cell_type": "markdown",
   "metadata": {},
   "source": []
  }
 ],
 "metadata": {
  "language_info": {
   "name": "python"
  }
 },
 "nbformat": 4,
 "nbformat_minor": 2
}