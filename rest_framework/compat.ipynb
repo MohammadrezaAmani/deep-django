{
    "cells": [
        {
            "cell_type": "code",
            "execution_count": null,
            "metadata": {},
            "outputs": [],
            "source": [
                "\"\"\"\n",
                "The `compat` module provides support for backwards compatibility with older\n",
                "versions of Django/Python, and compatibility wrappers around optional packages.\n",
                "\"\"\"\n",
                "import django\n",
                "from django.views.generic import View\n"
            ]
        },
        {
            "cell_type": "markdown",
            "metadata": {},
            "source": []
        },
        {
            "cell_type": "code",
            "execution_count": null,
            "metadata": {},
            "outputs": [],
            "source": [
                "def unicode_http_header(value):\n",
                "    # Coerce HTTP header value to unicode.\n",
                "    if isinstance(value, bytes):\n",
                "        return value.decode('iso-8859-1')\n",
                "    return value\n"
            ]
        },
        {
            "cell_type": "markdown",
            "metadata": {},
            "source": []
        },
        {
            "cell_type": "code",
            "execution_count": null,
            "metadata": {},
            "outputs": [],
            "source": [
                "# django.contrib.postgres requires psycopg2\n",
                "try:\n",
                "    from django.contrib.postgres import fields as postgres_fields\n",
                "except ImportError:\n",
                "    postgres_fields = None\n"
            ]
        },
        {
            "cell_type": "markdown",
            "metadata": {},
            "source": []
        },
        {
            "cell_type": "code",
            "execution_count": null,
            "metadata": {},
            "outputs": [],
            "source": [
                "# coreapi is required for CoreAPI schema generation\n",
                "try:\n",
                "    import coreapi\n",
                "except ImportError:\n",
                "    coreapi = None\n",
                "\n",
                "# uritemplate is required for OpenAPI and CoreAPI schema generation\n",
                "try:\n",
                "    import uritemplate\n",
                "except ImportError:\n",
                "    uritemplate = None\n"
            ]
        },
        {
            "cell_type": "markdown",
            "metadata": {},
            "source": []
        },
        {
            "cell_type": "code",
            "execution_count": null,
            "metadata": {},
            "outputs": [],
            "source": [
                "# coreschema is optional\n",
                "try:\n",
                "    import coreschema\n",
                "except ImportError:\n",
                "    coreschema = None\n"
            ]
        },
        {
            "cell_type": "markdown",
            "metadata": {},
            "source": []
        },
        {
            "cell_type": "code",
            "execution_count": null,
            "metadata": {},
            "outputs": [],
            "source": [
                "# pyyaml is optional\n",
                "try:\n",
                "    import yaml\n",
                "except ImportError:\n",
                "    yaml = None\n",
                "\n",
                "# inflection is optional\n",
                "try:\n",
                "    import inflection\n",
                "except ImportError:\n",
                "    inflection = None\n"
            ]
        },
        {
            "cell_type": "markdown",
            "metadata": {},
            "source": []
        },
        {
            "cell_type": "code",
            "execution_count": null,
            "metadata": {},
            "outputs": [],
            "source": [
                "# requests is optional\n",
                "try:\n",
                "    import requests\n",
                "except ImportError:\n",
                "    requests = None\n"
            ]
        },
        {
            "cell_type": "markdown",
            "metadata": {},
            "source": []
        },
        {
            "cell_type": "code",
            "execution_count": null,
            "metadata": {},
            "outputs": [],
            "source": [
                "# PATCH method is not implemented by Django\n",
                "if 'patch' not in View.http_method_names:\n",
                "    View.http_method_names = View.http_method_names + ['patch']\n"
            ]
        },
        {
            "cell_type": "markdown",
            "metadata": {},
            "source": []
        },
        {
            "cell_type": "code",
            "execution_count": null,
            "metadata": {},
            "outputs": [],
            "source": [
                "# Markdown is optional (version 3.0+ required)\n",
                "try:\n",
                "    import markdown\n",
                "\n",
                "    HEADERID_EXT_PATH = 'markdown.extensions.toc'\n",
                "    LEVEL_PARAM = 'baselevel'\n",
                "\n",
                "    def apply_markdown(text):\n",
                "        \"\"\"\n",
                "        Simple wrapper around :func:`markdown.markdown` to set the base level\n",
                "        of '#' style headers to <h2>.\n",
                "        \"\"\"\n",
                "        extensions = [HEADERID_EXT_PATH]\n",
                "        extension_configs = {\n",
                "            HEADERID_EXT_PATH: {\n",
                "                LEVEL_PARAM: '2'\n",
                "            }\n",
                "        }\n",
                "        md = markdown.Markdown(\n",
                "            extensions=extensions, extension_configs=extension_configs\n",
                "        )\n",
                "        md_filter_add_syntax_highlight(md)\n",
                "        return md.convert(text)\n",
                "except ImportError:\n",
                "    apply_markdown = None\n",
                "    markdown = None\n"
            ]
        },
        {
            "cell_type": "markdown",
            "metadata": {},
            "source": []
        },
        {
            "cell_type": "code",
            "execution_count": null,
            "metadata": {},
            "outputs": [],
            "source": [
                "try:\n",
                "    import pygments\n",
                "    from pygments.formatters import HtmlFormatter\n",
                "    from pygments.lexers import TextLexer, get_lexer_by_name\n",
                "\n",
                "    def pygments_highlight(text, lang, style):\n",
                "        lexer = get_lexer_by_name(lang, stripall=False)\n",
                "        formatter = HtmlFormatter(nowrap=True, style=style)\n",
                "        return pygments.highlight(text, lexer, formatter)\n",
                "\n",
                "    def pygments_css(style):\n",
                "        formatter = HtmlFormatter(style=style)\n",
                "        return formatter.get_style_defs('.highlight')\n",
                "\n",
                "except ImportError:\n",
                "    pygments = None\n",
                "\n",
                "    def pygments_highlight(text, lang, style):\n",
                "        return text\n",
                "\n",
                "    def pygments_css(style):\n",
                "        return None\n",
                "\n",
                "if markdown is not None and pygments is not None:\n",
                "    # starting from this blogpost and modified to support current markdown extensions API\n",
                "    # https://zerokspot.com/weblog/2008/06/18/syntax-highlighting-in-markdown-with-pygments/\n",
                "\n",
                "    import re\n",
                "\n",
                "    from markdown.preprocessors import Preprocessor\n",
                "\n",
                "    class CodeBlockPreprocessor(Preprocessor):\n",
                "        pattern = re.compile(\n",
                "            r'^\\s*``` *([^\\n]+)\\n(.+?)^\\s*```', re.M | re.S)\n",
                "\n",
                "        formatter = HtmlFormatter()\n",
                "\n",
                "        def run(self, lines):\n",
                "            def repl(m):\n",
                "                try:\n",
                "                    lexer = get_lexer_by_name(m.group(1))\n",
                "                except (ValueError, NameError):\n",
                "                    lexer = TextLexer()\n",
                "                code = m.group(2).replace('\\t', '    ')\n",
                "                code = pygments.highlight(code, lexer, self.formatter)\n",
                "                code = code.replace('\\n\\n', '\\n&nbsp;\\n').replace('\\n', '<br />').replace('\\\\@', '@')\n",
                "                return '\\n\\n%s\\n\\n' % code\n",
                "            ret = self.pattern.sub(repl, \"\\n\".join(lines))\n",
                "            return ret.split(\"\\n\")\n",
                "\n",
                "    def md_filter_add_syntax_highlight(md):\n",
                "        md.preprocessors.register(CodeBlockPreprocessor(), 'highlight', 40)\n",
                "        return True\n",
                "else:\n",
                "    def md_filter_add_syntax_highlight(md):\n",
                "        return False\n"
            ]
        },
        {
            "cell_type": "markdown",
            "metadata": {},
            "source": []
        },
        {
            "cell_type": "code",
            "execution_count": null,
            "metadata": {},
            "outputs": [],
            "source": [
                "if django.VERSION >= (4, 2):\n",
                "    # Django 4.2+: use the stock parse_header_parameters function\n",
                "    # Note: Django 4.1 also has an implementation of parse_header_parameters\n",
                "    #       which is slightly different from the one in 4.2, it needs\n",
                "    #       the compatibility shim as well.\n",
                "    from django.utils.http import parse_header_parameters\n",
                "else:\n",
                "    # Django <= 4.1: create a compatibility shim for parse_header_parameters\n",
                "    from django.http.multipartparser import parse_header\n",
                "\n",
                "    def parse_header_parameters(line):\n",
                "        # parse_header works with bytes, but parse_header_parameters\n",
                "        # works with strings. Call encode to convert the line to bytes.\n",
                "        main_value_pair, params = parse_header(line.encode())\n",
                "        return main_value_pair, {\n",
                "            # parse_header will convert *some* values to string.\n",
                "            # parse_header_parameters converts *all* values to string.\n",
                "            # Make sure all values are converted by calling decode on\n",
                "            # any remaining non-string values.\n",
                "            k: v if isinstance(v, str) else v.decode()\n",
                "            for k, v in params.items()\n",
                "        }\n"
            ]
        },
        {
            "cell_type": "markdown",
            "metadata": {},
            "source": []
        },
        {
            "cell_type": "code",
            "execution_count": null,
            "metadata": {},
            "outputs": [],
            "source": [
                "if django.VERSION >= (5, 1):\n",
                "    # Django 5.1+: use the stock ip_address_validators function\n",
                "    # Note: Before Django 5.1, ip_address_validators returns a tuple containing\n",
                "    #       1) the list of validators and 2) the error message. Starting from\n",
                "    #       Django 5.1 ip_address_validators only returns the list of validators\n",
                "    from django.core.validators import ip_address_validators\n",
                "else:\n",
                "    # Django <= 5.1: create a compatibility shim for ip_address_validators\n",
                "    from django.core.validators import \\\n",
                "        ip_address_validators as _ip_address_validators\n",
                "\n",
                "    def ip_address_validators(protocol, unpack_ipv4):\n",
                "        return _ip_address_validators(protocol, unpack_ipv4)[0]\n"
            ]
        },
        {
            "cell_type": "markdown",
            "metadata": {},
            "source": []
        },
        {
            "cell_type": "code",
            "execution_count": null,
            "metadata": {},
            "outputs": [],
            "source": [
                "# `separators` argument to `json.dumps()` differs between 2.x and 3.x\n",
                "# See: https://bugs.python.org/issue22767\n",
                "SHORT_SEPARATORS = (',', ':')\n",
                "LONG_SEPARATORS = (', ', ': ')\n",
                "INDENT_SEPARATORS = (',', ': ')\n",
                "\n"
            ]
        },
        {
            "cell_type": "markdown",
            "metadata": {},
            "source": []
        }
    ],
    "metadata": {
        "language_info": {
            "name": "python"
        }
    },
    "nbformat": 4,
    "nbformat_minor": 2
}