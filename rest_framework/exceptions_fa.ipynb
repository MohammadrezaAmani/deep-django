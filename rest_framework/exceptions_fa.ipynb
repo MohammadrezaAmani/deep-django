{
 "cells": [
  {
   "cell_type": "code",
   "execution_count": null,
   "metadata": {},
   "outputs": [],
   "source": [
    "\"\"\"\n",
    "Handled exceptions raised by REST framework.\n",
    "\n",
    "In addition, Django's built in 403 and 404 exceptions are handled.\n",
    "(`django.http.Http404` and `django.core.exceptions.PermissionDenied`)\n",
    "\"\"\"\n",
    "import math\n",
    "\n",
    "from django.http import JsonResponse\n",
    "from django.utils.encoding import force_str\n",
    "from django.utils.translation import gettext_lazy as _\n",
    "from django.utils.translation import ngettext\n",
    "from rest_framework import status\n",
    "from rest_framework.utils.serializer_helpers import ReturnDict, ReturnList"
   ]
  },
  {
   "cell_type": "markdown",
   "metadata": {},
   "source": []
  },
  {
   "cell_type": "code",
   "execution_count": null,
   "metadata": {},
   "outputs": [],
   "source": [
    "def _get_error_details(data, default_code=None):\n",
    "    \"\"\"\n",
    "    Descend into a nested data structure, forcing any\n",
    "    lazy translation strings or strings into `ErrorDetail`.\n",
    "    \"\"\"\n",
    "    if isinstance(data, (list, tuple)):\n",
    "        ret = [_get_error_details(item, default_code) for item in data]\n",
    "        if isinstance(data, ReturnList):\n",
    "            return ReturnList(ret, serializer=data.serializer)\n",
    "        return ret\n",
    "    elif isinstance(data, dict):\n",
    "        ret = {\n",
    "            key: _get_error_details(value, default_code) for key, value in data.items()\n",
    "        }\n",
    "        if isinstance(data, ReturnDict):\n",
    "            return ReturnDict(ret, serializer=data.serializer)\n",
    "        return ret\n",
    "\n",
    "    text = force_str(data)\n",
    "    code = getattr(data, \"code\", default_code)\n",
    "    return ErrorDetail(text, code)"
   ]
  },
  {
   "cell_type": "markdown",
   "metadata": {},
   "source": []
  },
  {
   "cell_type": "code",
   "execution_count": null,
   "metadata": {},
   "outputs": [],
   "source": [
    "def _get_codes(detail):\n",
    "    if isinstance(detail, list):\n",
    "        return [_get_codes(item) for item in detail]\n",
    "    elif isinstance(detail, dict):\n",
    "        return {key: _get_codes(value) for key, value in detail.items()}\n",
    "    return detail.code"
   ]
  },
  {
   "cell_type": "markdown",
   "metadata": {},
   "source": []
  },
  {
   "cell_type": "code",
   "execution_count": null,
   "metadata": {},
   "outputs": [],
   "source": [
    "def _get_full_details(detail):\n",
    "    if isinstance(detail, list):\n",
    "        return [_get_full_details(item) for item in detail]\n",
    "    elif isinstance(detail, dict):\n",
    "        return {key: _get_full_details(value) for key, value in detail.items()}\n",
    "    return {\"message\": detail, \"code\": detail.code}"
   ]
  },
  {
   "cell_type": "markdown",
   "metadata": {},
   "source": []
  },
  {
   "cell_type": "code",
   "execution_count": null,
   "metadata": {},
   "outputs": [],
   "source": [
    "class ErrorDetail(str):\n",
    "    \"\"\"\n",
    "    A string-like object that can additionally have a code.\n",
    "    \"\"\"\n",
    "\n",
    "    code = None\n",
    "\n",
    "    def __new__(cls, string, code=None):\n",
    "        self = super().__new__(cls, string)\n",
    "        self.code = code\n",
    "        return self\n",
    "\n",
    "    def __eq__(self, other):\n",
    "        result = super().__eq__(other)\n",
    "        if result is NotImplemented:\n",
    "            return NotImplemented\n",
    "        try:\n",
    "            return result and self.code == other.code\n",
    "        except AttributeError:\n",
    "            return result\n",
    "\n",
    "    def __ne__(self, other):\n",
    "        result = self.__eq__(other)\n",
    "        if result is NotImplemented:\n",
    "            return NotImplemented\n",
    "        return not result\n",
    "\n",
    "    def __repr__(self):\n",
    "        return \"ErrorDetail(string=%r, code=%r)\" % (\n",
    "            str(self),\n",
    "            self.code,\n",
    "        )\n",
    "\n",
    "    def __hash__(self):\n",
    "        return hash(str(self))"
   ]
  },
  {
   "cell_type": "markdown",
   "metadata": {},
   "source": []
  },
  {
   "cell_type": "code",
   "execution_count": null,
   "metadata": {},
   "outputs": [],
   "source": [
    "class APIException(Exception):\n",
    "    \"\"\"\n",
    "    Base class for REST framework exceptions.\n",
    "    Subclasses should provide `.status_code` and `.default_detail` properties.\n",
    "    \"\"\"\n",
    "\n",
    "    status_code = status.HTTP_500_INTERNAL_SERVER_ERROR\n",
    "    default_detail = _(\"A server error occurred.\")\n",
    "    default_code = \"error\"\n",
    "\n",
    "    def __init__(self, detail=None, code=None):\n",
    "        if detail is None:\n",
    "            detail = self.default_detail\n",
    "        if code is None:\n",
    "            code = self.default_code\n",
    "\n",
    "        self.detail = _get_error_details(detail, code)\n",
    "\n",
    "    def __str__(self):\n",
    "        return str(self.detail)\n",
    "\n",
    "    def get_codes(self):\n",
    "        \"\"\"\n",
    "        Return only the code part of the error details.\n",
    "\n",
    "        Eg. {\"name\": [\"required\"]}\n",
    "        \"\"\"\n",
    "        return _get_codes(self.detail)\n",
    "\n",
    "    def get_full_details(self):\n",
    "        \"\"\"\n",
    "        Return both the message & code parts of the error details.\n",
    "\n",
    "        Eg. {\"name\": [{\"message\": \"This field is required.\", \"code\": \"required\"}]}\n",
    "        \"\"\"\n",
    "        return _get_full_details(self.detail)"
   ]
  },
  {
   "cell_type": "markdown",
   "metadata": {},
   "source": []
  },
  {
   "cell_type": "code",
   "execution_count": null,
   "metadata": {},
   "outputs": [],
   "source": [
    "# The recommended style for using `ValidationError` is to keep it namespaced\n",
    "# under `serializers`, in order to minimize potential confusion with Django's\n",
    "# built in `ValidationError`. For example:\n",
    "#\n",
    "# from rest_framework import serializers\n",
    "# raise serializers.ValidationError('Value was invalid')"
   ]
  },
  {
   "cell_type": "markdown",
   "metadata": {},
   "source": []
  },
  {
   "cell_type": "code",
   "execution_count": null,
   "metadata": {},
   "outputs": [],
   "source": [
    "class ValidationError(APIException):\n",
    "    status_code = status.HTTP_400_BAD_REQUEST\n",
    "    default_detail = _(\"Invalid input.\")\n",
    "    default_code = \"invalid\"\n",
    "\n",
    "    def __init__(self, detail=None, code=None):\n",
    "        if detail is None:\n",
    "            detail = self.default_detail\n",
    "        if code is None:\n",
    "            code = self.default_code\n",
    "\n",
    "        # For validation failures, we may collect many errors together,\n",
    "        # so the details should always be coerced to a list if not already.\n",
    "        if isinstance(detail, tuple):\n",
    "            detail = list(detail)\n",
    "        elif not isinstance(detail, dict) and not isinstance(detail, list):\n",
    "            detail = [detail]\n",
    "\n",
    "        self.detail = _get_error_details(detail, code)"
   ]
  },
  {
   "cell_type": "markdown",
   "metadata": {},
   "source": []
  },
  {
   "cell_type": "code",
   "execution_count": null,
   "metadata": {},
   "outputs": [],
   "source": [
    "class ParseError(APIException):\n",
    "    status_code = status.HTTP_400_BAD_REQUEST\n",
    "    default_detail = _(\"Malformed request.\")\n",
    "    default_code = \"parse_error\""
   ]
  },
  {
   "cell_type": "markdown",
   "metadata": {},
   "source": []
  },
  {
   "cell_type": "code",
   "execution_count": null,
   "metadata": {},
   "outputs": [],
   "source": [
    "class AuthenticationFailed(APIException):\n",
    "    status_code = status.HTTP_401_UNAUTHORIZED\n",
    "    default_detail = _(\"Incorrect authentication credentials.\")\n",
    "    default_code = \"authentication_failed\""
   ]
  },
  {
   "cell_type": "markdown",
   "metadata": {},
   "source": []
  },
  {
   "cell_type": "code",
   "execution_count": null,
   "metadata": {},
   "outputs": [],
   "source": [
    "class NotAuthenticated(APIException):\n",
    "    status_code = status.HTTP_401_UNAUTHORIZED\n",
    "    default_detail = _(\"Authentication credentials were not provided.\")\n",
    "    default_code = \"not_authenticated\""
   ]
  },
  {
   "cell_type": "markdown",
   "metadata": {},
   "source": []
  },
  {
   "cell_type": "code",
   "execution_count": null,
   "metadata": {},
   "outputs": [],
   "source": [
    "class PermissionDenied(APIException):\n",
    "    status_code = status.HTTP_403_FORBIDDEN\n",
    "    default_detail = _(\"You do not have permission to perform this action.\")\n",
    "    default_code = \"permission_denied\""
   ]
  },
  {
   "cell_type": "markdown",
   "metadata": {},
   "source": []
  },
  {
   "cell_type": "code",
   "execution_count": null,
   "metadata": {},
   "outputs": [],
   "source": [
    "class NotFound(APIException):\n",
    "    status_code = status.HTTP_404_NOT_FOUND\n",
    "    default_detail = _(\"Not found.\")\n",
    "    default_code = \"not_found\""
   ]
  },
  {
   "cell_type": "markdown",
   "metadata": {},
   "source": []
  },
  {
   "cell_type": "code",
   "execution_count": null,
   "metadata": {},
   "outputs": [],
   "source": [
    "class MethodNotAllowed(APIException):\n",
    "    status_code = status.HTTP_405_METHOD_NOT_ALLOWED\n",
    "    default_detail = _('Method \"{method}\" not allowed.')\n",
    "    default_code = \"method_not_allowed\"\n",
    "\n",
    "    def __init__(self, method, detail=None, code=None):\n",
    "        if detail is None:\n",
    "            detail = force_str(self.default_detail).format(method=method)\n",
    "        super().__init__(detail, code)"
   ]
  },
  {
   "cell_type": "markdown",
   "metadata": {},
   "source": []
  },
  {
   "cell_type": "code",
   "execution_count": null,
   "metadata": {},
   "outputs": [],
   "source": [
    "class NotAcceptable(APIException):\n",
    "    status_code = status.HTTP_406_NOT_ACCEPTABLE\n",
    "    default_detail = _(\"Could not satisfy the request Accept header.\")\n",
    "    default_code = \"not_acceptable\"\n",
    "\n",
    "    def __init__(self, detail=None, code=None, available_renderers=None):\n",
    "        self.available_renderers = available_renderers\n",
    "        super().__init__(detail, code)"
   ]
  },
  {
   "cell_type": "markdown",
   "metadata": {},
   "source": []
  },
  {
   "cell_type": "code",
   "execution_count": null,
   "metadata": {},
   "outputs": [],
   "source": [
    "class UnsupportedMediaType(APIException):\n",
    "    status_code = status.HTTP_415_UNSUPPORTED_MEDIA_TYPE\n",
    "    default_detail = _('Unsupported media type \"{media_type}\" in request.')\n",
    "    default_code = \"unsupported_media_type\"\n",
    "\n",
    "    def __init__(self, media_type, detail=None, code=None):\n",
    "        if detail is None:\n",
    "            detail = force_str(self.default_detail).format(media_type=media_type)\n",
    "        super().__init__(detail, code)"
   ]
  },
  {
   "cell_type": "markdown",
   "metadata": {},
   "source": []
  },
  {
   "cell_type": "code",
   "execution_count": null,
   "metadata": {},
   "outputs": [],
   "source": [
    "class Throttled(APIException):\n",
    "    status_code = status.HTTP_429_TOO_MANY_REQUESTS\n",
    "    default_detail = _(\"Request was throttled.\")\n",
    "    extra_detail_singular = _(\"Expected available in {wait} second.\")\n",
    "    extra_detail_plural = _(\"Expected available in {wait} seconds.\")\n",
    "    default_code = \"throttled\"\n",
    "\n",
    "    def __init__(self, wait=None, detail=None, code=None):\n",
    "        if detail is None:\n",
    "            detail = force_str(self.default_detail)\n",
    "        if wait is not None:\n",
    "            wait = math.ceil(wait)\n",
    "            detail = \" \".join(\n",
    "                (\n",
    "                    detail,\n",
    "                    force_str(\n",
    "                        ngettext(\n",
    "                            self.extra_detail_singular.format(wait=wait),\n",
    "                            self.extra_detail_plural.format(wait=wait),\n",
    "                            wait,\n",
    "                        )\n",
    "                    ),\n",
    "                )\n",
    "            )\n",
    "        self.wait = wait\n",
    "        super().__init__(detail, code)"
   ]
  },
  {
   "cell_type": "markdown",
   "metadata": {},
   "source": []
  },
  {
   "cell_type": "code",
   "execution_count": null,
   "metadata": {},
   "outputs": [],
   "source": [
    "def server_error(request, *args, **kwargs):\n",
    "    \"\"\"\n",
    "    Generic 500 error handler.\n",
    "    \"\"\"\n",
    "    data = {\"error\": \"Server Error (500)\"}\n",
    "    return JsonResponse(data, status=status.HTTP_500_INTERNAL_SERVER_ERROR)"
   ]
  },
  {
   "cell_type": "markdown",
   "metadata": {},
   "source": []
  },
  {
   "cell_type": "code",
   "execution_count": null,
   "metadata": {},
   "outputs": [],
   "source": [
    "def bad_request(request, exception, *args, **kwargs):\n",
    "    \"\"\"\n",
    "    Generic 400 error handler.\n",
    "    \"\"\"\n",
    "    data = {\"error\": \"Bad Request (400)\"}\n",
    "    return JsonResponse(data, status=status.HTTP_400_BAD_REQUEST)"
   ]
  },
  {
   "cell_type": "markdown",
   "metadata": {},
   "source": []
  }
 ],
 "metadata": {
  "language_info": {
   "name": "python"
  }
 },
 "nbformat": 4,
 "nbformat_minor": 2
}