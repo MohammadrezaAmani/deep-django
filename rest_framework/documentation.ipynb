{
 "cells": [
  {
   "cell_type": "code",
   "execution_count": null,
   "metadata": {},
   "outputs": [],
   "source": [
    "from django.urls import include, path\n",
    "\n",
    "from rest_framework.renderers import (\n",
    "    CoreJSONRenderer,\n",
    "    DocumentationRenderer,\n",
    "    SchemaJSRenderer,\n",
    ")\n",
    "from rest_framework.schemas import SchemaGenerator, get_schema_view\n",
    "from rest_framework.settings import api_settings"
   ]
  },
  {
   "cell_type": "markdown",
   "metadata": {},
   "source": []
  },
  {
   "cell_type": "code",
   "execution_count": null,
   "metadata": {},
   "outputs": [],
   "source": [
    "def get_docs_view(\n",
    "    title=None,\n",
    "    description=None,\n",
    "    schema_url=None,\n",
    "    urlconf=None,\n",
    "    public=True,\n",
    "    patterns=None,\n",
    "    generator_class=SchemaGenerator,\n",
    "    authentication_classes=api_settings.DEFAULT_AUTHENTICATION_CLASSES,\n",
    "    permission_classes=api_settings.DEFAULT_PERMISSION_CLASSES,\n",
    "    renderer_classes=None,\n",
    "):\n",
    "    if renderer_classes is None:\n",
    "        renderer_classes = [DocumentationRenderer, CoreJSONRenderer]\n",
    "\n",
    "    return get_schema_view(\n",
    "        title=title,\n",
    "        url=schema_url,\n",
    "        urlconf=urlconf,\n",
    "        description=description,\n",
    "        renderer_classes=renderer_classes,\n",
    "        public=public,\n",
    "        patterns=patterns,\n",
    "        generator_class=generator_class,\n",
    "        authentication_classes=authentication_classes,\n",
    "        permission_classes=permission_classes,\n",
    "    )"
   ]
  },
  {
   "cell_type": "markdown",
   "metadata": {},
   "source": []
  },
  {
   "cell_type": "code",
   "execution_count": null,
   "metadata": {},
   "outputs": [],
   "source": [
    "def get_schemajs_view(\n",
    "    title=None,\n",
    "    description=None,\n",
    "    schema_url=None,\n",
    "    urlconf=None,\n",
    "    public=True,\n",
    "    patterns=None,\n",
    "    generator_class=SchemaGenerator,\n",
    "    authentication_classes=api_settings.DEFAULT_AUTHENTICATION_CLASSES,\n",
    "    permission_classes=api_settings.DEFAULT_PERMISSION_CLASSES,\n",
    "):\n",
    "    renderer_classes = [SchemaJSRenderer]\n",
    "\n",
    "    return get_schema_view(\n",
    "        title=title,\n",
    "        url=schema_url,\n",
    "        urlconf=urlconf,\n",
    "        description=description,\n",
    "        renderer_classes=renderer_classes,\n",
    "        public=public,\n",
    "        patterns=patterns,\n",
    "        generator_class=generator_class,\n",
    "        authentication_classes=authentication_classes,\n",
    "        permission_classes=permission_classes,\n",
    "    )"
   ]
  },
  {
   "cell_type": "markdown",
   "metadata": {},
   "source": []
  },
  {
   "cell_type": "code",
   "execution_count": null,
   "metadata": {},
   "outputs": [],
   "source": [
    "def include_docs_urls(\n",
    "    title=None,\n",
    "    description=None,\n",
    "    schema_url=None,\n",
    "    urlconf=None,\n",
    "    public=True,\n",
    "    patterns=None,\n",
    "    generator_class=SchemaGenerator,\n",
    "    authentication_classes=api_settings.DEFAULT_AUTHENTICATION_CLASSES,\n",
    "    permission_classes=api_settings.DEFAULT_PERMISSION_CLASSES,\n",
    "    renderer_classes=None,\n",
    "):\n",
    "    docs_view = get_docs_view(\n",
    "        title=title,\n",
    "        description=description,\n",
    "        schema_url=schema_url,\n",
    "        urlconf=urlconf,\n",
    "        public=public,\n",
    "        patterns=patterns,\n",
    "        generator_class=generator_class,\n",
    "        authentication_classes=authentication_classes,\n",
    "        renderer_classes=renderer_classes,\n",
    "        permission_classes=permission_classes,\n",
    "    )\n",
    "    schema_js_view = get_schemajs_view(\n",
    "        title=title,\n",
    "        description=description,\n",
    "        schema_url=schema_url,\n",
    "        urlconf=urlconf,\n",
    "        public=public,\n",
    "        patterns=patterns,\n",
    "        generator_class=generator_class,\n",
    "        authentication_classes=authentication_classes,\n",
    "        permission_classes=permission_classes,\n",
    "    )\n",
    "    urls = [\n",
    "        path(\"\", docs_view, name=\"docs-index\"),\n",
    "        path(\"schema.js\", schema_js_view, name=\"schema-js\"),\n",
    "    ]\n",
    "    return include((urls, \"api-docs\"), namespace=\"api-docs\")"
   ]
  },
  {
   "cell_type": "markdown",
   "metadata": {},
   "source": []
  }
 ],
 "metadata": {
  "language_info": {
   "name": "python"
  }
 },
 "nbformat": 4,
 "nbformat_minor": 2
}