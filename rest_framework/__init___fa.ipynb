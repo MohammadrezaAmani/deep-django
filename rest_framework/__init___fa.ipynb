{
    "cells": [
        {
            "cell_type": "code",
            "execution_count": null,
            "metadata": {},
            "outputs": [],
            "source": [
                "r\"\"\"\n",
                "______ _____ _____ _____    __\n",
                "| ___ \\  ___/  ___|_   _|  / _|                                           | |\n",
                "| |_/ / |__ \\ `--.  | |   | |_ _ __ __ _ _ __ ___   _____      _____  _ __| |__\n",
                "|    /|  __| `--. \\ | |   |  _| '__/ _` | '_ ` _ \\ / _ \\ \\ /\\ / / _ \\| '__| |/ /\n",
                "| |\\ \\| |___/\\__/ / | |   | | | | | (_| | | | | | |  __/\\ V  V / (_) | |  |   <\n",
                "\\_| \\_\\____/\\____/  \\_/   |_| |_|  \\__,_|_| |_| |_|\\___| \\_/\\_/ \\___/|_|  |_|\\_|\n",
                "\"\"\"\n",
                "\n",
                "import django\n",
                "\n",
                "__title__ = \"Django REST framework\"\n",
                "__version__ = \"3.15.1\"\n",
                "__author__ = \"Tom Christie\"\n",
                "__license__ = \"BSD 3-Clause\"\n",
                "__copyright__ = \"Copyright 2011-2023 Encode OSS Ltd\"\n",
                "\n",
                "# Version synonym\n",
                "VERSION = __version__\n",
                "\n",
                "# Header encoding (see RFC5987)\n",
                "HTTP_HEADER_ENCODING = \"iso-8859-1\"\n",
                "\n",
                "# Default datetime input and output formats\n",
                "ISO_8601 = \"iso-8601\"\n"
            ]
        },
        {
            "cell_type": "markdown",
            "metadata": {},
            "source": []
        },
        {
            "cell_type": "code",
            "execution_count": null,
            "metadata": {},
            "outputs": [],
            "source": [
                "if django.VERSION < (3, 2):\n",
                "    default_app_config = \"rest_framework.apps.RestFrameworkConfig\"\n"
            ]
        },
        {
            "cell_type": "markdown",
            "metadata": {},
            "source": []
        },
        {
            "cell_type": "code",
            "execution_count": null,
            "metadata": {},
            "outputs": [],
            "source": [
                "class RemovedInDRF315Warning(DeprecationWarning):\n",
                "    pass\n"
            ]
        },
        {
            "cell_type": "markdown",
            "metadata": {},
            "source": []
        },
        {
            "cell_type": "code",
            "execution_count": null,
            "metadata": {},
            "outputs": [],
            "source": [
                "class RemovedInDRF317Warning(PendingDeprecationWarning):\n",
                "    pass\n",
                "\n"
            ]
        },
        {
            "cell_type": "markdown",
            "metadata": {},
            "source": []
        }
    ],
    "metadata": {
        "language_info": {
            "name": "python"
        }
    },
    "nbformat": 4,
    "nbformat_minor": 2
}