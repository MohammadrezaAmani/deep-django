{
    "cells": [
        {
            "cell_type": "code",
            "execution_count": null,
            "metadata": {},
            "outputs": [],
            "source": [
                "\"\"\"\n",
                "Helper functions for creating user-friendly representations\n",
                "of serializer classes and serializer fields.\n",
                "\"\"\"\n",
                "import re\n",
                "\n",
                "from django.db import models\n",
                "from django.utils.encoding import force_str\n",
                "from django.utils.functional import Promise\n"
            ]
        },
        {
            "cell_type": "markdown",
            "metadata": {},
            "source": []
        },
        {
            "cell_type": "code",
            "execution_count": null,
            "metadata": {},
            "outputs": [],
            "source": [
                "def manager_repr(value):\n",
                "    model = value.model\n",
                "    opts = model._meta\n",
                "    names_and_managers = [(manager.name, manager) for manager in opts.managers]\n",
                "    for manager_name, manager_instance in names_and_managers:\n",
                "        if manager_instance == value:\n",
                "            return \"%s.%s.all()\" % (model._meta.object_name, manager_name)\n",
                "    return repr(value)\n"
            ]
        },
        {
            "cell_type": "markdown",
            "metadata": {},
            "source": []
        },
        {
            "cell_type": "code",
            "execution_count": null,
            "metadata": {},
            "outputs": [],
            "source": [
                "def smart_repr(value):\n",
                "    if isinstance(value, models.Manager):\n",
                "        return manager_repr(value)\n",
                "\n",
                "    if isinstance(value, Promise):\n",
                "        value = force_str(value, strings_only=True)\n",
                "\n",
                "    value = repr(value)\n",
                "\n",
                "    # Representations like u'help text'\n",
                "    # should simply be presented as 'help text'\n",
                "    if value.startswith(\"u'\") and value.endswith(\"'\"):\n",
                "        return value[1:]\n",
                "\n",
                "    # Representations like\n",
                "    # <django.core.validators.RegexValidator object at 0x1047af050>\n",
                "    # Should be presented as\n",
                "    # <django.core.validators.RegexValidator object>\n",
                "    return re.sub(\" at 0x[0-9A-Fa-f]{4,32}>\", \">\", value)\n"
            ]
        },
        {
            "cell_type": "markdown",
            "metadata": {},
            "source": []
        },
        {
            "cell_type": "code",
            "execution_count": null,
            "metadata": {},
            "outputs": [],
            "source": [
                "def field_repr(field, force_many=False):\n",
                "    kwargs = field._kwargs\n",
                "    if force_many:\n",
                "        kwargs = kwargs.copy()\n",
                "        kwargs[\"many\"] = True\n",
                "        kwargs.pop(\"child\", None)\n",
                "\n",
                "    arg_string = \", \".join([smart_repr(val) for val in field._args])\n",
                "    kwarg_string = \", \".join(\n",
                "        [\"%s=%s\" % (key, smart_repr(val)) for key, val in sorted(kwargs.items())]\n",
                "    )\n",
                "    if arg_string and kwarg_string:\n",
                "        arg_string += \", \"\n",
                "\n",
                "    if force_many:\n",
                "        class_name = force_many.__class__.__name__\n",
                "    else:\n",
                "        class_name = field.__class__.__name__\n",
                "\n",
                "    return \"%s(%s%s)\" % (class_name, arg_string, kwarg_string)\n"
            ]
        },
        {
            "cell_type": "markdown",
            "metadata": {},
            "source": []
        },
        {
            "cell_type": "code",
            "execution_count": null,
            "metadata": {},
            "outputs": [],
            "source": [
                "def serializer_repr(serializer, indent, force_many=None):\n",
                "    ret = field_repr(serializer, force_many) + \":\"\n",
                "    indent_str = \"    \" * indent\n",
                "\n",
                "    if force_many:\n",
                "        fields = force_many.fields\n",
                "    else:\n",
                "        fields = serializer.fields\n",
                "\n",
                "    for field_name, field in fields.items():\n",
                "        ret += \"\\n\" + indent_str + field_name + \" = \"\n",
                "        if hasattr(field, \"fields\"):\n",
                "            ret += serializer_repr(field, indent + 1)\n",
                "        elif hasattr(field, \"child\"):\n",
                "            ret += list_repr(field, indent + 1)\n",
                "        elif hasattr(field, \"child_relation\"):\n",
                "            ret += field_repr(field.child_relation, force_many=field.child_relation)\n",
                "        else:\n",
                "            ret += field_repr(field)\n",
                "\n",
                "    if serializer.validators:\n",
                "        ret += \"\\n\" + indent_str + \"class Meta:\"\n",
                "        ret += (\n",
                "            \"\\n\" + indent_str + \"    validators = \" + smart_repr(serializer.validators)\n",
                "        )\n",
                "\n",
                "    return ret\n"
            ]
        },
        {
            "cell_type": "markdown",
            "metadata": {},
            "source": []
        },
        {
            "cell_type": "code",
            "execution_count": null,
            "metadata": {},
            "outputs": [],
            "source": [
                "def list_repr(serializer, indent):\n",
                "    child = serializer.child\n",
                "    if hasattr(child, \"fields\"):\n",
                "        return serializer_repr(serializer, indent, force_many=child)\n",
                "    return field_repr(serializer)\n",
                "\n"
            ]
        },
        {
            "cell_type": "markdown",
            "metadata": {},
            "source": []
        }
    ],
    "metadata": {
        "language_info": {
            "name": "python"
        }
    },
    "nbformat": 4,
    "nbformat_minor": 2
}