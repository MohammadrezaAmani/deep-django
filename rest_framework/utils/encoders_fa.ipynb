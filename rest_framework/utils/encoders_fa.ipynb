{
 "cells": [
  {
   "cell_type": "code",
   "execution_count": null,
   "metadata": {},
   "outputs": [],
   "source": [
    "\"\"\"\n",
    "Helper classes for parsers.\n",
    "\"\"\"\n",
    "\n",
    "import contextlib\n",
    "import datetime\n",
    "import decimal\n",
    "import json  # noqa\n",
    "import uuid\n",
    "\n",
    "from django.db.models.query import QuerySet\n",
    "from django.utils import timezone\n",
    "from django.utils.encoding import force_str\n",
    "from django.utils.functional import Promise\n",
    "from rest_framework.compat import coreapi"
   ]
  },
  {
   "cell_type": "markdown",
   "metadata": {},
   "source": []
  },
  {
   "cell_type": "code",
   "execution_count": null,
   "metadata": {},
   "outputs": [],
   "source": [
    "class JSONEncoder(json.JSONEncoder):\n",
    "    \"\"\"\n",
    "    JSONEncoder subclass that knows how to encode date/time/timedelta,\n",
    "    decimal types, generators and other basic python objects.\n",
    "    \"\"\"\n",
    "\n",
    "    def default(self, obj):\n",
    "        # For Date Time string spec, see ECMA 262\n",
    "        # https://ecma-international.org/ecma-262/5.1/#sec-15.9.1.15\n",
    "        if isinstance(obj, Promise):\n",
    "            return force_str(obj)\n",
    "        elif isinstance(obj, datetime.datetime):\n",
    "            representation = obj.isoformat()\n",
    "            if representation.endswith(\"+00:00\"):\n",
    "                representation = representation[:-6] + \"Z\"\n",
    "            return representation\n",
    "        elif isinstance(obj, datetime.date):\n",
    "            return obj.isoformat()\n",
    "        elif isinstance(obj, datetime.time):\n",
    "            if timezone and timezone.is_aware(obj):\n",
    "                raise ValueError(\"JSON can't represent timezone-aware times.\")\n",
    "            representation = obj.isoformat()\n",
    "            return representation\n",
    "        elif isinstance(obj, datetime.timedelta):\n",
    "            return str(obj.total_seconds())\n",
    "        elif isinstance(obj, decimal.Decimal):\n",
    "            # Serializers will coerce decimals to strings by default.\n",
    "            return float(obj)\n",
    "        elif isinstance(obj, uuid.UUID):\n",
    "            return str(obj)\n",
    "        elif isinstance(obj, QuerySet):\n",
    "            return tuple(obj)\n",
    "        elif isinstance(obj, bytes):\n",
    "            # Best-effort for binary blobs. See #4187.\n",
    "            return obj.decode()\n",
    "        elif hasattr(obj, \"tolist\"):\n",
    "            # Numpy arrays and array scalars.\n",
    "            return obj.tolist()\n",
    "        elif (coreapi is not None) and isinstance(\n",
    "            obj, (coreapi.Document, coreapi.Error)\n",
    "        ):\n",
    "            raise RuntimeError(\n",
    "                \"Cannot return a coreapi object from a JSON view. \"\n",
    "                \"You should be using a schema renderer instead for this view.\"\n",
    "            )\n",
    "        elif hasattr(obj, \"__getitem__\"):\n",
    "            cls = list if isinstance(obj, (list, tuple)) else dict\n",
    "            with contextlib.suppress(Exception):\n",
    "                return cls(obj)\n",
    "        elif hasattr(obj, \"__iter__\"):\n",
    "            return tuple(item for item in obj)\n",
    "        return super().default(obj)"
   ]
  },
  {
   "cell_type": "markdown",
   "metadata": {},
   "source": []
  },
  {
   "cell_type": "code",
   "execution_count": null,
   "metadata": {},
   "outputs": [],
   "source": [
    "class CustomScalar:\n",
    "    \"\"\"\n",
    "    CustomScalar that knows how to encode timedelta that renderer\n",
    "    can understand.\n",
    "    \"\"\"\n",
    "\n",
    "    @classmethod\n",
    "    def represent_timedelta(cls, dumper, data):\n",
    "        value = str(data.total_seconds())\n",
    "        return dumper.represent_scalar(\"tag:yaml.org,2002:str\", value)"
   ]
  },
  {
   "cell_type": "markdown",
   "metadata": {},
   "source": []
  }
 ],
 "metadata": {
  "language_info": {
   "name": "python"
  }
 },
 "nbformat": 4,
 "nbformat_minor": 2
}