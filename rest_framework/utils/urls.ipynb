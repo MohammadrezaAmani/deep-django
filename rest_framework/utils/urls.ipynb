{
 "cells": [
  {
   "cell_type": "code",
   "execution_count": null,
   "metadata": {},
   "outputs": [],
   "source": [
    "from urllib import parse\n",
    "\n",
    "from django.utils.encoding import force_str"
   ]
  },
  {
   "cell_type": "markdown",
   "metadata": {},
   "source": []
  },
  {
   "cell_type": "code",
   "execution_count": null,
   "metadata": {},
   "outputs": [],
   "source": [
    "def replace_query_param(url, key, val):\n",
    "    \"\"\"\n",
    "    Given a URL and a key/val pair, set or replace an item in the query\n",
    "    parameters of the URL, and return the new URL.\n",
    "    \"\"\"\n",
    "    (scheme, netloc, path, query, fragment) = parse.urlsplit(force_str(url))\n",
    "    query_dict = parse.parse_qs(query, keep_blank_values=True)\n",
    "    query_dict[force_str(key)] = [force_str(val)]\n",
    "    query = parse.urlencode(sorted(query_dict.items()), doseq=True)\n",
    "    return parse.urlunsplit((scheme, netloc, path, query, fragment))"
   ]
  },
  {
   "cell_type": "markdown",
   "metadata": {},
   "source": []
  },
  {
   "cell_type": "code",
   "execution_count": null,
   "metadata": {},
   "outputs": [],
   "source": [
    "def remove_query_param(url, key):\n",
    "    \"\"\"\n",
    "    Given a URL and a key/val pair, remove an item in the query\n",
    "    parameters of the URL, and return the new URL.\n",
    "    \"\"\"\n",
    "    (scheme, netloc, path, query, fragment) = parse.urlsplit(force_str(url))\n",
    "    query_dict = parse.parse_qs(query, keep_blank_values=True)\n",
    "    query_dict.pop(key, None)\n",
    "    query = parse.urlencode(sorted(query_dict.items()), doseq=True)\n",
    "    return parse.urlunsplit((scheme, netloc, path, query, fragment))"
   ]
  },
  {
   "cell_type": "markdown",
   "metadata": {},
   "source": []
  }
 ],
 "metadata": {
  "language_info": {
   "name": "python"
  }
 },
 "nbformat": 4,
 "nbformat_minor": 2
}