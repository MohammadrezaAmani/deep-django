{
    "cells": [
        {
            "cell_type": "code",
            "execution_count": null,
            "metadata": {},
            "outputs": [],
            "source": [
                "\"\"\"\n",
                "Wrapper for the builtin json module that ensures compliance with the JSON spec.\n",
                "\n",
                "REST framework should always import this wrapper module in order to maintain\n",
                "spec-compliant encoding/decoding. Support for non-standard features should be\n",
                "handled by users at the renderer and parser layer.\n",
                "\"\"\"\n",
                "import functools\n",
                "import json  # noqa\n"
            ]
        },
        {
            "cell_type": "markdown",
            "metadata": {},
            "source": []
        },
        {
            "cell_type": "code",
            "execution_count": null,
            "metadata": {},
            "outputs": [],
            "source": [
                "def strict_constant(o):\n",
                "    raise ValueError(\"Out of range float values are not JSON compliant: \" + repr(o))\n"
            ]
        },
        {
            "cell_type": "markdown",
            "metadata": {},
            "source": []
        },
        {
            "cell_type": "code",
            "execution_count": null,
            "metadata": {},
            "outputs": [],
            "source": [
                "@functools.wraps(json.dump)\n",
                "def dump(*args, **kwargs):\n",
                "    kwargs.setdefault(\"allow_nan\", False)\n",
                "    return json.dump(*args, **kwargs)\n"
            ]
        },
        {
            "cell_type": "markdown",
            "metadata": {},
            "source": []
        },
        {
            "cell_type": "code",
            "execution_count": null,
            "metadata": {},
            "outputs": [],
            "source": [
                "@functools.wraps(json.dumps)\n",
                "def dumps(*args, **kwargs):\n",
                "    kwargs.setdefault(\"allow_nan\", False)\n",
                "    return json.dumps(*args, **kwargs)\n"
            ]
        },
        {
            "cell_type": "markdown",
            "metadata": {},
            "source": []
        },
        {
            "cell_type": "code",
            "execution_count": null,
            "metadata": {},
            "outputs": [],
            "source": [
                "@functools.wraps(json.load)\n",
                "def load(*args, **kwargs):\n",
                "    kwargs.setdefault(\"parse_constant\", strict_constant)\n",
                "    return json.load(*args, **kwargs)\n"
            ]
        },
        {
            "cell_type": "markdown",
            "metadata": {},
            "source": []
        },
        {
            "cell_type": "code",
            "execution_count": null,
            "metadata": {},
            "outputs": [],
            "source": [
                "@functools.wraps(json.loads)\n",
                "def loads(*args, **kwargs):\n",
                "    kwargs.setdefault(\"parse_constant\", strict_constant)\n",
                "    return json.loads(*args, **kwargs)\n",
                "\n"
            ]
        },
        {
            "cell_type": "markdown",
            "metadata": {},
            "source": []
        }
    ],
    "metadata": {
        "language_info": {
            "name": "python"
        }
    },
    "nbformat": 4,
    "nbformat_minor": 2
}