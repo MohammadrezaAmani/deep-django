{
    "cells": [
        {
            "cell_type": "code",
            "execution_count": null,
            "metadata": {},
            "outputs": [],
            "source": [
                "from django.urls import get_script_prefix, resolve\n"
            ]
        },
        {
            "cell_type": "markdown",
            "metadata": {},
            "source": []
        },
        {
            "cell_type": "code",
            "execution_count": null,
            "metadata": {},
            "outputs": [],
            "source": [
                "def get_breadcrumbs(url, request=None):\n",
                "    \"\"\"\n",
                "    Given a url returns a list of breadcrumbs, which are each a\n",
                "    tuple of (name, url).\n",
                "    \"\"\"\n",
                "    from rest_framework.reverse import preserve_builtin_query_params\n",
                "    from rest_framework.views import APIView\n",
                "\n",
                "    def breadcrumbs_recursive(url, breadcrumbs_list, prefix, seen):\n",
                "        \"\"\"\n",
                "        Add tuples of (name, url) to the breadcrumbs list,\n",
                "        progressively chomping off parts of the url.\n",
                "        \"\"\"\n",
                "        try:\n",
                "            (view, unused_args, unused_kwargs) = resolve(url)\n",
                "        except Exception:\n",
                "            pass\n",
                "        else:\n",
                "            # Check if this is a REST framework view,\n",
                "            # and if so add it to the breadcrumbs\n",
                "            cls = getattr(view, \"cls\", None)\n",
                "            initkwargs = getattr(view, \"initkwargs\", {})\n",
                "            if cls is not None and issubclass(cls, APIView):\n",
                "                # Don't list the same view twice in a row.\n",
                "                # Probably an optional trailing slash.\n",
                "                if not seen or seen[-1] != view:\n",
                "                    c = cls(**initkwargs)\n",
                "                    name = c.get_view_name()\n",
                "                    insert_url = preserve_builtin_query_params(prefix + url, request)\n",
                "                    breadcrumbs_list.insert(0, (name, insert_url))\n",
                "                    seen.append(view)\n",
                "\n",
                "        if url == \"\":\n",
                "            # All done\n",
                "            return breadcrumbs_list\n",
                "\n",
                "        elif url.endswith(\"/\"):\n",
                "            # Drop trailing slash off the end and continue to try to\n",
                "            # resolve more breadcrumbs\n",
                "            url = url.rstrip(\"/\")\n",
                "            return breadcrumbs_recursive(url, breadcrumbs_list, prefix, seen)\n",
                "\n",
                "        # Drop trailing non-slash off the end and continue to try to\n",
                "        # resolve more breadcrumbs\n",
                "        url = url[: url.rfind(\"/\") + 1]\n",
                "        return breadcrumbs_recursive(url, breadcrumbs_list, prefix, seen)\n",
                "\n",
                "    prefix = get_script_prefix().rstrip(\"/\")\n",
                "    url = url[len(prefix) :]\n",
                "    return breadcrumbs_recursive(url, [], prefix, [])\n",
                "\n"
            ]
        },
        {
            "cell_type": "markdown",
            "metadata": {},
            "source": []
        }
    ],
    "metadata": {
        "language_info": {
            "name": "python"
        }
    },
    "nbformat": 4,
    "nbformat_minor": 2
}