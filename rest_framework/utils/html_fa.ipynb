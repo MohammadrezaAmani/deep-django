{
    "cells": [
        {
            "cell_type": "code",
            "execution_count": null,
            "metadata": {},
            "outputs": [],
            "source": [
                "\"\"\"\n",
                "Helpers for dealing with HTML input.\n",
                "\"\"\"\n",
                "import re\n",
                "\n",
                "from django.utils.datastructures import MultiValueDict\n"
            ]
        },
        {
            "cell_type": "markdown",
            "metadata": {},
            "source": []
        },
        {
            "cell_type": "code",
            "execution_count": null,
            "metadata": {},
            "outputs": [],
            "source": [
                "def is_html_input(dictionary):\n",
                "    # MultiDict type datastructures are used to represent HTML form input,\n",
                "    # which may have more than one value for each key.\n",
                "    return hasattr(dictionary, \"getlist\")\n"
            ]
        },
        {
            "cell_type": "markdown",
            "metadata": {},
            "source": []
        },
        {
            "cell_type": "code",
            "execution_count": null,
            "metadata": {},
            "outputs": [],
            "source": [
                "def parse_html_list(dictionary, prefix=\"\", default=None):\n",
                "    \"\"\"\n",
                "    Used to support list values in HTML forms.\n",
                "    Supports lists of primitives and/or dictionaries.\n",
                "\n",
                "    * List of primitives.\n",
                "\n",
                "    {\n",
                "        '[0]': 'abc',\n",
                "        '[1]': 'def',\n",
                "        '[2]': 'hij'\n",
                "    }\n",
                "        -->\n",
                "    [\n",
                "        'abc',\n",
                "        'def',\n",
                "        'hij'\n",
                "    ]\n",
                "\n",
                "    * List of dictionaries.\n",
                "\n",
                "    {\n",
                "        '[0]foo': 'abc',\n",
                "        '[0]bar': 'def',\n",
                "        '[1]foo': 'hij',\n",
                "        '[1]bar': 'klm',\n",
                "    }\n",
                "        -->\n",
                "    [\n",
                "        {'foo': 'abc', 'bar': 'def'},\n",
                "        {'foo': 'hij', 'bar': 'klm'}\n",
                "    ]\n",
                "\n",
                "    :returns a list of objects, or the value specified in ``default`` if the list is empty\n",
                "    \"\"\"\n",
                "    ret = {}\n",
                "    regex = re.compile(r\"^%s\\[([0-9]+)\\](.*)$\" % re.escape(prefix))\n",
                "    for field, value in dictionary.items():\n",
                "        match = regex.match(field)\n",
                "        if not match:\n",
                "            continue\n",
                "        index, key = match.groups()\n",
                "        index = int(index)\n",
                "        if not key:\n",
                "            ret[index] = value\n",
                "        elif isinstance(ret.get(index), dict):\n",
                "            ret[index][key] = value\n",
                "        else:\n",
                "            ret[index] = MultiValueDict({key: [value]})\n",
                "\n",
                "    # return the items of the ``ret`` dict, sorted by key, or ``default`` if the dict is empty\n",
                "    return [ret[item] for item in sorted(ret)] if ret else default\n"
            ]
        },
        {
            "cell_type": "markdown",
            "metadata": {},
            "source": []
        },
        {
            "cell_type": "code",
            "execution_count": null,
            "metadata": {},
            "outputs": [],
            "source": [
                "def parse_html_dict(dictionary, prefix=\"\"):\n",
                "    \"\"\"\n",
                "    Used to support dictionary values in HTML forms.\n",
                "\n",
                "    {\n",
                "        'profile.username': 'example',\n",
                "        'profile.email': 'example@example.com',\n",
                "    }\n",
                "        -->\n",
                "    {\n",
                "        'profile': {\n",
                "            'username': 'example',\n",
                "            'email': 'example@example.com'\n",
                "        }\n",
                "    }\n",
                "    \"\"\"\n",
                "    ret = MultiValueDict()\n",
                "    regex = re.compile(r\"^%s\\.(.+)$\" % re.escape(prefix))\n",
                "    for field in dictionary:\n",
                "        match = regex.match(field)\n",
                "        if not match:\n",
                "            continue\n",
                "        key = match.groups()[0]\n",
                "        value = dictionary.getlist(field)\n",
                "        ret.setlist(key, value)\n",
                "\n",
                "    return ret\n",
                "\n"
            ]
        },
        {
            "cell_type": "markdown",
            "metadata": {},
            "source": []
        }
    ],
    "metadata": {
        "language_info": {
            "name": "python"
        }
    },
    "nbformat": 4,
    "nbformat_minor": 2
}