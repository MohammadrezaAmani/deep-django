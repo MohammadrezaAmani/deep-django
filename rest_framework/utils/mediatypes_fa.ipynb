{
    "cells": [
        {
            "cell_type": "code",
            "execution_count": null,
            "metadata": {},
            "outputs": [],
            "source": [
                "\"\"\"\n",
                "Handling of media types, as found in HTTP Content-Type and Accept headers.\n",
                "\n",
                "See https://www.w3.org/Protocols/rfc2616/rfc2616-sec3.html#sec3.7\n",
                "\"\"\"\n",
                "from rest_framework.compat import parse_header_parameters\n"
            ]
        },
        {
            "cell_type": "markdown",
            "metadata": {},
            "source": []
        },
        {
            "cell_type": "code",
            "execution_count": null,
            "metadata": {},
            "outputs": [],
            "source": [
                "def media_type_matches(lhs, rhs):\n",
                "    \"\"\"\n",
                "    Returns ``True`` if the media type in the first argument <= the\n",
                "    media type in the second argument.  The media types are strings\n",
                "    as described by the HTTP spec.\n",
                "\n",
                "    Valid media type strings include:\n",
                "\n",
                "    'application/json; indent=4'\n",
                "    'application/json'\n",
                "    'text/*'\n",
                "    '*/*'\n",
                "    \"\"\"\n",
                "    lhs = _MediaType(lhs)\n",
                "    rhs = _MediaType(rhs)\n",
                "    return lhs.match(rhs)\n"
            ]
        },
        {
            "cell_type": "markdown",
            "metadata": {},
            "source": []
        },
        {
            "cell_type": "code",
            "execution_count": null,
            "metadata": {},
            "outputs": [],
            "source": [
                "def order_by_precedence(media_type_lst):\n",
                "    \"\"\"\n",
                "    Returns a list of sets of media type strings, ordered by precedence.\n",
                "    Precedence is determined by how specific a media type is:\n",
                "\n",
                "    3. 'type/subtype; param=val'\n",
                "    2. 'type/subtype'\n",
                "    1. 'type/*'\n",
                "    0. '*/*'\n",
                "    \"\"\"\n",
                "    ret = [set(), set(), set(), set()]\n",
                "    for media_type in media_type_lst:\n",
                "        precedence = _MediaType(media_type).precedence\n",
                "        ret[3 - precedence].add(media_type)\n",
                "    return [media_types for media_types in ret if media_types]\n"
            ]
        },
        {
            "cell_type": "markdown",
            "metadata": {},
            "source": []
        },
        {
            "cell_type": "code",
            "execution_count": null,
            "metadata": {},
            "outputs": [],
            "source": [
                "class _MediaType:\n",
                "    def __init__(self, media_type_str):\n",
                "        self.orig = \"\" if (media_type_str is None) else media_type_str\n",
                "        self.full_type, self.params = parse_header_parameters(self.orig)\n",
                "        self.main_type, sep, self.sub_type = self.full_type.partition(\"/\")\n",
                "\n",
                "    def match(self, other):\n",
                "        \"\"\"Return true if this MediaType satisfies the given MediaType.\"\"\"\n",
                "        for key in self.params:\n",
                "            if key != \"q\" and other.params.get(key, None) != self.params.get(key, None):\n",
                "                return False\n",
                "\n",
                "        if (\n",
                "            self.sub_type != \"*\"\n",
                "            and other.sub_type != \"*\"\n",
                "            and other.sub_type != self.sub_type\n",
                "        ):\n",
                "            return False\n",
                "\n",
                "        if (\n",
                "            self.main_type != \"*\"\n",
                "            and other.main_type != \"*\"\n",
                "            and other.main_type != self.main_type\n",
                "        ):\n",
                "            return False\n",
                "\n",
                "        return True\n",
                "\n",
                "    @property\n",
                "    def precedence(self):\n",
                "        \"\"\"\n",
                "        Return a precedence level from 0-3 for the media type given how specific it is.\n",
                "        \"\"\"\n",
                "        if self.main_type == \"*\":\n",
                "            return 0\n",
                "        elif self.sub_type == \"*\":\n",
                "            return 1\n",
                "        elif not self.params or list(self.params) == [\"q\"]:\n",
                "            return 2\n",
                "        return 3\n",
                "\n",
                "    def __str__(self):\n",
                "        ret = \"%s/%s\" % (self.main_type, self.sub_type)\n",
                "        for key, val in self.params.items():\n",
                "            ret += \"; %s=%s\" % (key, val)\n",
                "        return ret\n",
                "\n"
            ]
        },
        {
            "cell_type": "markdown",
            "metadata": {},
            "source": []
        }
    ],
    "metadata": {
        "language_info": {
            "name": "python"
        }
    },
    "nbformat": 4,
    "nbformat_minor": 2
}