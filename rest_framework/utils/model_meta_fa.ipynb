{
 "cells": [
  {
   "cell_type": "code",
   "execution_count": null,
   "metadata": {},
   "outputs": [],
   "source": [
    "\"\"\"\n",
    "Helper function for returning the field information that is associated\n",
    "with a model class. This includes returning all the forward and reverse\n",
    "relationships and their associated metadata.\n",
    "\n",
    "Usage: `get_field_info(model)` returns a `FieldInfo` instance.\n",
    "\"\"\"\n",
    "from collections import namedtuple\n",
    "\n",
    "FieldInfo = namedtuple(\n",
    "    \"FieldInfo\",\n",
    "    [\n",
    "        \"pk\",  # Model field instance\n",
    "        \"fields\",  # Dict of field name -> model field instance\n",
    "        \"forward_relations\",  # Dict of field name -> RelationInfo\n",
    "        \"reverse_relations\",  # Dict of field name -> RelationInfo\n",
    "        \"fields_and_pk\",  # Shortcut for 'pk' + 'fields'\n",
    "        \"relations\",  # Shortcut for 'forward_relations' + 'reverse_relations'\n",
    "    ],\n",
    ")\n",
    "\n",
    "RelationInfo = namedtuple(\n",
    "    \"RelationInfo\",\n",
    "    [\n",
    "        \"model_field\",\n",
    "        \"related_model\",\n",
    "        \"to_many\",\n",
    "        \"to_field\",\n",
    "        \"has_through_model\",\n",
    "        \"reverse\",\n",
    "    ],\n",
    ")"
   ]
  },
  {
   "cell_type": "markdown",
   "metadata": {},
   "source": []
  },
  {
   "cell_type": "code",
   "execution_count": null,
   "metadata": {},
   "outputs": [],
   "source": [
    "def get_field_info(model):\n",
    "    \"\"\"\n",
    "    Given a model class, returns a `FieldInfo` instance, which is a\n",
    "    `namedtuple`, containing metadata about the various field types on the model\n",
    "    including information about their relationships.\n",
    "    \"\"\"\n",
    "    opts = model._meta.concrete_model._meta\n",
    "\n",
    "    pk = _get_pk(opts)\n",
    "    fields = _get_fields(opts)\n",
    "    forward_relations = _get_forward_relationships(opts)\n",
    "    reverse_relations = _get_reverse_relationships(opts)\n",
    "    fields_and_pk = _merge_fields_and_pk(pk, fields)\n",
    "    relationships = _merge_relationships(forward_relations, reverse_relations)\n",
    "\n",
    "    return FieldInfo(\n",
    "        pk, fields, forward_relations, reverse_relations, fields_and_pk, relationships\n",
    "    )"
   ]
  },
  {
   "cell_type": "markdown",
   "metadata": {},
   "source": []
  },
  {
   "cell_type": "code",
   "execution_count": null,
   "metadata": {},
   "outputs": [],
   "source": [
    "def _get_pk(opts):\n",
    "    pk = opts.pk\n",
    "    rel = pk.remote_field\n",
    "\n",
    "    while rel and rel.parent_link:\n",
    "        # If model is a child via multi-table inheritance, use parent's pk.\n",
    "        pk = pk.remote_field.model._meta.pk\n",
    "        rel = pk.remote_field\n",
    "\n",
    "    return pk"
   ]
  },
  {
   "cell_type": "markdown",
   "metadata": {},
   "source": []
  },
  {
   "cell_type": "code",
   "execution_count": null,
   "metadata": {},
   "outputs": [],
   "source": [
    "def _get_fields(opts):\n",
    "    fields = {}\n",
    "    for field in [\n",
    "        field for field in opts.fields if field.serialize and not field.remote_field\n",
    "    ]:\n",
    "        fields[field.name] = field\n",
    "\n",
    "    return fields"
   ]
  },
  {
   "cell_type": "markdown",
   "metadata": {},
   "source": []
  },
  {
   "cell_type": "code",
   "execution_count": null,
   "metadata": {},
   "outputs": [],
   "source": [
    "def _get_to_field(field):\n",
    "    return getattr(field, \"to_fields\", None) and field.to_fields[0]"
   ]
  },
  {
   "cell_type": "markdown",
   "metadata": {},
   "source": []
  },
  {
   "cell_type": "code",
   "execution_count": null,
   "metadata": {},
   "outputs": [],
   "source": [
    "def _get_forward_relationships(opts):\n",
    "    \"\"\"\n",
    "    Returns a dict of field names to `RelationInfo`.\n",
    "    \"\"\"\n",
    "    forward_relations = {}\n",
    "    for field in [\n",
    "        field for field in opts.fields if field.serialize and field.remote_field\n",
    "    ]:\n",
    "        forward_relations[field.name] = RelationInfo(\n",
    "            model_field=field,\n",
    "            related_model=field.remote_field.model,\n",
    "            to_many=False,\n",
    "            to_field=_get_to_field(field),\n",
    "            has_through_model=False,\n",
    "            reverse=False,\n",
    "        )\n",
    "\n",
    "    # Deal with forward many-to-many relationships.\n",
    "    for field in [field for field in opts.many_to_many if field.serialize]:\n",
    "        forward_relations[field.name] = RelationInfo(\n",
    "            model_field=field,\n",
    "            related_model=field.remote_field.model,\n",
    "            to_many=True,\n",
    "            # manytomany do not have to_fields\n",
    "            to_field=None,\n",
    "            has_through_model=(not field.remote_field.through._meta.auto_created),\n",
    "            reverse=False,\n",
    "        )\n",
    "\n",
    "    return forward_relations"
   ]
  },
  {
   "cell_type": "markdown",
   "metadata": {},
   "source": []
  },
  {
   "cell_type": "code",
   "execution_count": null,
   "metadata": {},
   "outputs": [],
   "source": [
    "def _get_reverse_relationships(opts):\n",
    "    \"\"\"\n",
    "    Returns a dict of field names to `RelationInfo`.\n",
    "    \"\"\"\n",
    "    reverse_relations = {}\n",
    "    all_related_objects = [r for r in opts.related_objects if not r.field.many_to_many]\n",
    "    for relation in all_related_objects:\n",
    "        accessor_name = relation.get_accessor_name()\n",
    "        reverse_relations[accessor_name] = RelationInfo(\n",
    "            model_field=None,\n",
    "            related_model=relation.related_model,\n",
    "            to_many=relation.field.remote_field.multiple,\n",
    "            to_field=_get_to_field(relation.field),\n",
    "            has_through_model=False,\n",
    "            reverse=True,\n",
    "        )\n",
    "\n",
    "    # Deal with reverse many-to-many relationships.\n",
    "    all_related_many_to_many_objects = [\n",
    "        r for r in opts.related_objects if r.field.many_to_many\n",
    "    ]\n",
    "    for relation in all_related_many_to_many_objects:\n",
    "        accessor_name = relation.get_accessor_name()\n",
    "        reverse_relations[accessor_name] = RelationInfo(\n",
    "            model_field=None,\n",
    "            related_model=relation.related_model,\n",
    "            to_many=True,\n",
    "            # manytomany do not have to_fields\n",
    "            to_field=None,\n",
    "            has_through_model=(\n",
    "                (getattr(relation.field.remote_field, \"through\", None) is not None)\n",
    "                and not relation.field.remote_field.through._meta.auto_created\n",
    "            ),\n",
    "            reverse=True,\n",
    "        )\n",
    "\n",
    "    return reverse_relations"
   ]
  },
  {
   "cell_type": "markdown",
   "metadata": {},
   "source": []
  },
  {
   "cell_type": "code",
   "execution_count": null,
   "metadata": {},
   "outputs": [],
   "source": [
    "def _merge_fields_and_pk(pk, fields):\n",
    "    fields_and_pk = {\"pk\": pk, pk.name: pk}\n",
    "    fields_and_pk.update(fields)\n",
    "\n",
    "    return fields_and_pk"
   ]
  },
  {
   "cell_type": "markdown",
   "metadata": {},
   "source": []
  },
  {
   "cell_type": "code",
   "execution_count": null,
   "metadata": {},
   "outputs": [],
   "source": [
    "def _merge_relationships(forward_relations, reverse_relations):\n",
    "    return {**forward_relations, **reverse_relations}"
   ]
  },
  {
   "cell_type": "markdown",
   "metadata": {},
   "source": []
  },
  {
   "cell_type": "code",
   "execution_count": null,
   "metadata": {},
   "outputs": [],
   "source": [
    "def is_abstract_model(model):\n",
    "    \"\"\"\n",
    "    Given a model class, returns a boolean True if it is abstract and False if it is not.\n",
    "    \"\"\"\n",
    "    return (\n",
    "        hasattr(model, \"_meta\")\n",
    "        and hasattr(model._meta, \"abstract\")\n",
    "        and model._meta.abstract\n",
    "    )"
   ]
  },
  {
   "cell_type": "markdown",
   "metadata": {},
   "source": []
  }
 ],
 "metadata": {
  "language_info": {
   "name": "python"
  }
 },
 "nbformat": 4,
 "nbformat_minor": 2
}