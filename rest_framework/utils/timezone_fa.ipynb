{
    "cells": [
        {
            "cell_type": "code",
            "execution_count": null,
            "metadata": {},
            "outputs": [],
            "source": [
                "from datetime import datetime, timezone, tzinfo\n"
            ]
        },
        {
            "cell_type": "markdown",
            "metadata": {},
            "source": []
        },
        {
            "cell_type": "code",
            "execution_count": null,
            "metadata": {},
            "outputs": [],
            "source": [
                "def datetime_exists(dt):\n",
                "    \"\"\"Check if a datetime exists. Taken from: https://pytz-deprecation-shim.readthedocs.io/en/latest/migration.html\"\"\"\n",
                "    # There are no non-existent times in UTC, and comparisons between\n",
                "    # aware time zones always compare absolute times; if a datetime is\n",
                "    # not equal to the same datetime represented in UTC, it is imaginary.\n",
                "    return dt.astimezone(timezone.utc) == dt\n"
            ]
        },
        {
            "cell_type": "markdown",
            "metadata": {},
            "source": []
        },
        {
            "cell_type": "code",
            "execution_count": null,
            "metadata": {},
            "outputs": [],
            "source": [
                "def datetime_ambiguous(dt: datetime):\n",
                "    \"\"\"Check whether a datetime is ambiguous. Taken from: https://pytz-deprecation-shim.readthedocs.io/en/latest/migration.html\"\"\"\n",
                "    # If a datetime exists and its UTC offset changes in response to\n",
                "    # changing `fold`, it is ambiguous in the zone specified.\n",
                "    return datetime_exists(dt) and (\n",
                "        dt.replace(fold=not dt.fold).utcoffset() != dt.utcoffset()\n",
                "    )\n"
            ]
        },
        {
            "cell_type": "markdown",
            "metadata": {},
            "source": []
        },
        {
            "cell_type": "code",
            "execution_count": null,
            "metadata": {},
            "outputs": [],
            "source": [
                "def valid_datetime(dt):\n",
                "    \"\"\"Returns True if the datetime is not ambiguous or imaginary, False otherwise.\"\"\"\n",
                "    if isinstance(dt.tzinfo, tzinfo) and not datetime_ambiguous(dt):\n",
                "        return True\n",
                "    return False\n",
                "\n"
            ]
        },
        {
            "cell_type": "markdown",
            "metadata": {},
            "source": []
        }
    ],
    "metadata": {
        "language_info": {
            "name": "python"
        }
    },
    "nbformat": 4,
    "nbformat_minor": 2
}