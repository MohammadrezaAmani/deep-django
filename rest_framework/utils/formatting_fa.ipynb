{
    "cells": [
        {
            "cell_type": "code",
            "execution_count": null,
            "metadata": {},
            "outputs": [],
            "source": [
                "\"\"\"\n",
                "Utility functions to return a formatted name and description for a given view.\n",
                "\"\"\"\n",
                "import re\n",
                "\n",
                "from django.utils.encoding import force_str\n",
                "from django.utils.html import escape\n",
                "from django.utils.safestring import mark_safe\n",
                "from rest_framework.compat import apply_markdown\n"
            ]
        },
        {
            "cell_type": "markdown",
            "metadata": {},
            "source": []
        },
        {
            "cell_type": "code",
            "execution_count": null,
            "metadata": {},
            "outputs": [],
            "source": [
                "def remove_trailing_string(content, trailing):\n",
                "    \"\"\"\n",
                "    Strip trailing component `trailing` from `content` if it exists.\n",
                "    Used when generating names from view classes.\n",
                "    \"\"\"\n",
                "    if content.endswith(trailing) and content != trailing:\n",
                "        return content[: -len(trailing)]\n",
                "    return content\n"
            ]
        },
        {
            "cell_type": "markdown",
            "metadata": {},
            "source": []
        },
        {
            "cell_type": "code",
            "execution_count": null,
            "metadata": {},
            "outputs": [],
            "source": [
                "def dedent(content):\n",
                "    \"\"\"\n",
                "    Remove leading indent from a block of text.\n",
                "    Used when generating descriptions from docstrings.\n",
                "\n",
                "    Note that python's `textwrap.dedent` doesn't quite cut it,\n",
                "    as it fails to dedent multiline docstrings that include\n",
                "    unindented text on the initial line.\n",
                "    \"\"\"\n",
                "    content = force_str(content)\n",
                "    lines = [line for line in content.splitlines()[1:] if line.lstrip()]\n",
                "\n",
                "    # unindent the content if needed\n",
                "    if lines:\n",
                "        whitespace_counts = min([len(line) - len(line.lstrip(\" \")) for line in lines])\n",
                "        tab_counts = min([len(line) - len(line.lstrip(\"\\t\")) for line in lines])\n",
                "        if whitespace_counts:\n",
                "            whitespace_pattern = \"^\" + (\" \" * whitespace_counts)\n",
                "            content = re.sub(re.compile(whitespace_pattern, re.MULTILINE), \"\", content)\n",
                "        elif tab_counts:\n",
                "            whitespace_pattern = \"^\" + (\"\\t\" * tab_counts)\n",
                "            content = re.sub(re.compile(whitespace_pattern, re.MULTILINE), \"\", content)\n",
                "    return content.strip()\n"
            ]
        },
        {
            "cell_type": "markdown",
            "metadata": {},
            "source": []
        },
        {
            "cell_type": "code",
            "execution_count": null,
            "metadata": {},
            "outputs": [],
            "source": [
                "def camelcase_to_spaces(content):\n",
                "    \"\"\"\n",
                "    Translate 'CamelCaseNames' to 'Camel Case Names'.\n",
                "    Used when generating names from view classes.\n",
                "    \"\"\"\n",
                "    camelcase_boundary = \"(((?<=[a-z])[A-Z])|([A-Z](?![A-Z]|$)))\"\n",
                "    content = re.sub(camelcase_boundary, \" \\\\1\", content).strip()\n",
                "    return \" \".join(content.split(\"_\")).title()\n"
            ]
        },
        {
            "cell_type": "markdown",
            "metadata": {},
            "source": []
        },
        {
            "cell_type": "code",
            "execution_count": null,
            "metadata": {},
            "outputs": [],
            "source": [
                "def markup_description(description):\n",
                "    \"\"\"\n",
                "    Apply HTML markup to the given description.\n",
                "    \"\"\"\n",
                "    if apply_markdown:\n",
                "        description = apply_markdown(description)\n",
                "    else:\n",
                "        description = escape(description).replace(\"\\n\", \"<br />\")\n",
                "        description = \"<p>\" + description + \"</p>\"\n",
                "    return mark_safe(description)\n"
            ]
        },
        {
            "cell_type": "markdown",
            "metadata": {},
            "source": []
        },
        {
            "cell_type": "code",
            "execution_count": null,
            "metadata": {},
            "outputs": [],
            "source": [
                "class lazy_format:\n",
                "    \"\"\"\n",
                "    Delay formatting until it's actually needed.\n",
                "\n",
                "    Useful when the format string or one of the arguments is lazy.\n",
                "\n",
                "    Not using Django's lazy because it is too slow.\n",
                "    \"\"\"\n",
                "\n",
                "    __slots__ = (\"format_string\", \"args\", \"kwargs\", \"result\")\n",
                "\n",
                "    def __init__(self, format_string, *args, **kwargs):\n",
                "        self.result = None\n",
                "        self.format_string = format_string\n",
                "        self.args = args\n",
                "        self.kwargs = kwargs\n",
                "\n",
                "    def __str__(self):\n",
                "        if self.result is None:\n",
                "            self.result = self.format_string.format(*self.args, **self.kwargs)\n",
                "            self.format_string, self.args, self.kwargs = None, None, None\n",
                "        return self.result\n",
                "\n",
                "    def __mod__(self, value):\n",
                "        return str(self) % value\n",
                "\n"
            ]
        },
        {
            "cell_type": "markdown",
            "metadata": {},
            "source": []
        }
    ],
    "metadata": {
        "language_info": {
            "name": "python"
        }
    },
    "nbformat": 4,
    "nbformat_minor": 2
}