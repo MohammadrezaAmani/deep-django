{
 "cells": [
  {
   "cell_type": "code",
   "execution_count": null,
   "metadata": {},
   "outputs": [],
   "source": [
    "\"\"\"\n",
    "Helper functions that convert strftime formats into more readable representations.\n",
    "\"\"\"\n",
    "from rest_framework import ISO_8601"
   ]
  },
  {
   "cell_type": "markdown",
   "metadata": {},
   "source": []
  },
  {
   "cell_type": "code",
   "execution_count": null,
   "metadata": {},
   "outputs": [],
   "source": [
    "def datetime_formats(formats):\n",
    "    format = \", \".join(formats).replace(\n",
    "        ISO_8601, \"YYYY-MM-DDThh:mm[:ss[.uuuuuu]][+HH:MM|-HH:MM|Z]\"\n",
    "    )\n",
    "    return humanize_strptime(format)"
   ]
  },
  {
   "cell_type": "markdown",
   "metadata": {},
   "source": []
  },
  {
   "cell_type": "code",
   "execution_count": null,
   "metadata": {},
   "outputs": [],
   "source": [
    "def date_formats(formats):\n",
    "    format = \", \".join(formats).replace(ISO_8601, \"YYYY-MM-DD\")\n",
    "    return humanize_strptime(format)"
   ]
  },
  {
   "cell_type": "markdown",
   "metadata": {},
   "source": []
  },
  {
   "cell_type": "code",
   "execution_count": null,
   "metadata": {},
   "outputs": [],
   "source": [
    "def time_formats(formats):\n",
    "    format = \", \".join(formats).replace(ISO_8601, \"hh:mm[:ss[.uuuuuu]]\")\n",
    "    return humanize_strptime(format)"
   ]
  },
  {
   "cell_type": "markdown",
   "metadata": {},
   "source": []
  },
  {
   "cell_type": "code",
   "execution_count": null,
   "metadata": {},
   "outputs": [],
   "source": [
    "def humanize_strptime(format_string):\n",
    "    # Note that we're missing some of the locale specific mappings that\n",
    "    # don't really make sense.\n",
    "    mapping = {\n",
    "        \"%Y\": \"YYYY\",\n",
    "        \"%y\": \"YY\",\n",
    "        \"%m\": \"MM\",\n",
    "        \"%b\": \"[Jan-Dec]\",\n",
    "        \"%B\": \"[January-December]\",\n",
    "        \"%d\": \"DD\",\n",
    "        \"%H\": \"hh\",\n",
    "        \"%I\": \"hh\",  # Requires '%p' to differentiate from '%H'.\n",
    "        \"%M\": \"mm\",\n",
    "        \"%S\": \"ss\",\n",
    "        \"%f\": \"uuuuuu\",\n",
    "        \"%a\": \"[Mon-Sun]\",\n",
    "        \"%A\": \"[Monday-Sunday]\",\n",
    "        \"%p\": \"[AM|PM]\",\n",
    "        \"%z\": \"[+HHMM|-HHMM]\",\n",
    "    }\n",
    "    for key, val in mapping.items():\n",
    "        format_string = format_string.replace(key, val)\n",
    "    return format_string"
   ]
  },
  {
   "cell_type": "markdown",
   "metadata": {},
   "source": []
  }
 ],
 "metadata": {
  "language_info": {
   "name": "python"
  }
 },
 "nbformat": 4,
 "nbformat_minor": 2
}