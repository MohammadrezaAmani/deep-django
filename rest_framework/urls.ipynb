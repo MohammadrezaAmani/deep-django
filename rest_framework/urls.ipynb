{
 "cells": [
  {
   "cell_type": "code",
   "execution_count": null,
   "metadata": {},
   "outputs": [],
   "source": [
    "\"\"\"\n",
    "Login and logout views for the browsable API.\n",
    "\n",
    "Add these to your root URLconf if you're using the browsable API and\n",
    "your API requires authentication:\n",
    "\n",
    "    urlpatterns = [\n",
    "        ...\n",
    "        path('auth/', include('rest_framework.urls'))\n",
    "    ]\n",
    "\n",
    "You should make sure your authentication settings include `SessionAuthentication`.\n",
    "\"\"\"\n",
    "from django.contrib.auth import views\n",
    "from django.urls import path\n",
    "\n",
    "app_name = \"rest_framework\"\n",
    "urlpatterns = [\n",
    "    path(\n",
    "        \"login/\",\n",
    "        views.LoginView.as_view(template_name=\"rest_framework/login.html\"),\n",
    "        name=\"login\",\n",
    "    ),\n",
    "    path(\"logout/\", views.LogoutView.as_view(), name=\"logout\"),\n",
    "]"
   ]
  },
  {
   "cell_type": "markdown",
   "metadata": {},
   "source": []
  }
 ],
 "metadata": {
  "language_info": {
   "name": "python"
  }
 },
 "nbformat": 4,
 "nbformat_minor": 2
}