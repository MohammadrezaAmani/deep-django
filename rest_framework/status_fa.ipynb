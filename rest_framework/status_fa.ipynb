{
 "cells": [
  {
   "cell_type": "code",
   "execution_count": null,
   "metadata": {},
   "outputs": [],
   "source": [
    "\"\"\"\n",
    "Descriptive HTTP status codes, for code readability.\n",
    "\n",
    "See RFC 2616 - https://www.w3.org/Protocols/rfc2616/rfc2616-sec10.html\n",
    "And RFC 6585 - https://tools.ietf.org/html/rfc6585\n",
    "And RFC 4918 - https://tools.ietf.org/html/rfc4918\n",
    "\"\"\""
   ]
  },
  {
   "cell_type": "markdown",
   "metadata": {},
   "source": []
  },
  {
   "cell_type": "code",
   "execution_count": null,
   "metadata": {},
   "outputs": [],
   "source": [
    "def is_informational(code):\n",
    "    return 100 <= code <= 199"
   ]
  },
  {
   "cell_type": "markdown",
   "metadata": {},
   "source": []
  },
  {
   "cell_type": "code",
   "execution_count": null,
   "metadata": {},
   "outputs": [],
   "source": [
    "def is_success(code):\n",
    "    return 200 <= code <= 299"
   ]
  },
  {
   "cell_type": "markdown",
   "metadata": {},
   "source": []
  },
  {
   "cell_type": "code",
   "execution_count": null,
   "metadata": {},
   "outputs": [],
   "source": [
    "def is_redirect(code):\n",
    "    return 300 <= code <= 399"
   ]
  },
  {
   "cell_type": "markdown",
   "metadata": {},
   "source": []
  },
  {
   "cell_type": "code",
   "execution_count": null,
   "metadata": {},
   "outputs": [],
   "source": [
    "def is_client_error(code):\n",
    "    return 400 <= code <= 499"
   ]
  },
  {
   "cell_type": "markdown",
   "metadata": {},
   "source": []
  },
  {
   "cell_type": "code",
   "execution_count": null,
   "metadata": {},
   "outputs": [],
   "source": [
    "def is_server_error(code):\n",
    "    return 500 <= code <= 599"
   ]
  },
  {
   "cell_type": "markdown",
   "metadata": {},
   "source": []
  },
  {
   "cell_type": "code",
   "execution_count": null,
   "metadata": {},
   "outputs": [],
   "source": [
    "HTTP_100_CONTINUE = 100\n",
    "HTTP_101_SWITCHING_PROTOCOLS = 101\n",
    "HTTP_102_PROCESSING = 102\n",
    "HTTP_103_EARLY_HINTS = 103\n",
    "HTTP_200_OK = 200\n",
    "HTTP_201_CREATED = 201\n",
    "HTTP_202_ACCEPTED = 202\n",
    "HTTP_203_NON_AUTHORITATIVE_INFORMATION = 203\n",
    "HTTP_204_NO_CONTENT = 204\n",
    "HTTP_205_RESET_CONTENT = 205\n",
    "HTTP_206_PARTIAL_CONTENT = 206\n",
    "HTTP_207_MULTI_STATUS = 207\n",
    "HTTP_208_ALREADY_REPORTED = 208\n",
    "HTTP_226_IM_USED = 226\n",
    "HTTP_300_MULTIPLE_CHOICES = 300\n",
    "HTTP_301_MOVED_PERMANENTLY = 301\n",
    "HTTP_302_FOUND = 302\n",
    "HTTP_303_SEE_OTHER = 303\n",
    "HTTP_304_NOT_MODIFIED = 304\n",
    "HTTP_305_USE_PROXY = 305\n",
    "HTTP_306_RESERVED = 306\n",
    "HTTP_307_TEMPORARY_REDIRECT = 307\n",
    "HTTP_308_PERMANENT_REDIRECT = 308\n",
    "HTTP_400_BAD_REQUEST = 400\n",
    "HTTP_401_UNAUTHORIZED = 401\n",
    "HTTP_402_PAYMENT_REQUIRED = 402\n",
    "HTTP_403_FORBIDDEN = 403\n",
    "HTTP_404_NOT_FOUND = 404\n",
    "HTTP_405_METHOD_NOT_ALLOWED = 405\n",
    "HTTP_406_NOT_ACCEPTABLE = 406\n",
    "HTTP_407_PROXY_AUTHENTICATION_REQUIRED = 407\n",
    "HTTP_408_REQUEST_TIMEOUT = 408\n",
    "HTTP_409_CONFLICT = 409\n",
    "HTTP_410_GONE = 410\n",
    "HTTP_411_LENGTH_REQUIRED = 411\n",
    "HTTP_412_PRECONDITION_FAILED = 412\n",
    "HTTP_413_REQUEST_ENTITY_TOO_LARGE = 413\n",
    "HTTP_414_REQUEST_URI_TOO_LONG = 414\n",
    "HTTP_415_UNSUPPORTED_MEDIA_TYPE = 415\n",
    "HTTP_416_REQUESTED_RANGE_NOT_SATISFIABLE = 416\n",
    "HTTP_417_EXPECTATION_FAILED = 417\n",
    "HTTP_418_IM_A_TEAPOT = 418\n",
    "HTTP_421_MISDIRECTED_REQUEST = 421\n",
    "HTTP_422_UNPROCESSABLE_ENTITY = 422\n",
    "HTTP_423_LOCKED = 423\n",
    "HTTP_424_FAILED_DEPENDENCY = 424\n",
    "HTTP_425_TOO_EARLY = 425\n",
    "HTTP_426_UPGRADE_REQUIRED = 426\n",
    "HTTP_428_PRECONDITION_REQUIRED = 428\n",
    "HTTP_429_TOO_MANY_REQUESTS = 429\n",
    "HTTP_431_REQUEST_HEADER_FIELDS_TOO_LARGE = 431\n",
    "HTTP_451_UNAVAILABLE_FOR_LEGAL_REASONS = 451\n",
    "HTTP_500_INTERNAL_SERVER_ERROR = 500\n",
    "HTTP_501_NOT_IMPLEMENTED = 501\n",
    "HTTP_502_BAD_GATEWAY = 502\n",
    "HTTP_503_SERVICE_UNAVAILABLE = 503\n",
    "HTTP_504_GATEWAY_TIMEOUT = 504\n",
    "HTTP_505_HTTP_VERSION_NOT_SUPPORTED = 505\n",
    "HTTP_506_VARIANT_ALSO_NEGOTIATES = 506\n",
    "HTTP_507_INSUFFICIENT_STORAGE = 507\n",
    "HTTP_508_LOOP_DETECTED = 508\n",
    "HTTP_509_BANDWIDTH_LIMIT_EXCEEDED = 509\n",
    "HTTP_510_NOT_EXTENDED = 510\n",
    "HTTP_511_NETWORK_AUTHENTICATION_REQUIRED = 511"
   ]
  },
  {
   "cell_type": "markdown",
   "metadata": {},
   "source": []
  }
 ],
 "metadata": {
  "language_info": {
   "name": "python"
  }
 },
 "nbformat": 4,
 "nbformat_minor": 2
}