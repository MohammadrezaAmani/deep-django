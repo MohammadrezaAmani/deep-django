{
    "cells": [
        {
            "cell_type": "code",
            "execution_count": null,
            "metadata": {},
            "outputs": [],
            "source": [
                "\"\"\"\n",
                "Basic building blocks for generic class based views.\n",
                "\n",
                "We don't bind behaviour to http method handlers yet,\n",
                "which allows mixin classes to be composed in interesting ways.\n",
                "\"\"\"\n",
                "from rest_framework import status\n",
                "from rest_framework.response import Response\n",
                "from rest_framework.settings import api_settings\n"
            ]
        },
        {
            "cell_type": "markdown",
            "metadata": {},
            "source": []
        },
        {
            "cell_type": "code",
            "execution_count": null,
            "metadata": {},
            "outputs": [],
            "source": [
                "class CreateModelMixin:\n",
                "    \"\"\"\n",
                "    Create a model instance.\n",
                "    \"\"\"\n",
                "    def create(self, request, *args, **kwargs):\n",
                "        serializer = self.get_serializer(data=request.data)\n",
                "        serializer.is_valid(raise_exception=True)\n",
                "        self.perform_create(serializer)\n",
                "        headers = self.get_success_headers(serializer.data)\n",
                "        return Response(serializer.data, status=status.HTTP_201_CREATED, headers=headers)\n",
                "\n",
                "    def perform_create(self, serializer):\n",
                "        serializer.save()\n",
                "\n",
                "    def get_success_headers(self, data):\n",
                "        try:\n",
                "            return {'Location': str(data[api_settings.URL_FIELD_NAME])}\n",
                "        except (TypeError, KeyError):\n",
                "            return {}\n"
            ]
        },
        {
            "cell_type": "markdown",
            "metadata": {},
            "source": []
        },
        {
            "cell_type": "code",
            "execution_count": null,
            "metadata": {},
            "outputs": [],
            "source": [
                "class ListModelMixin:\n",
                "    \"\"\"\n",
                "    List a queryset.\n",
                "    \"\"\"\n",
                "    def list(self, request, *args, **kwargs):\n",
                "        queryset = self.filter_queryset(self.get_queryset())\n",
                "\n",
                "        page = self.paginate_queryset(queryset)\n",
                "        if page is not None:\n",
                "            serializer = self.get_serializer(page, many=True)\n",
                "            return self.get_paginated_response(serializer.data)\n",
                "\n",
                "        serializer = self.get_serializer(queryset, many=True)\n",
                "        return Response(serializer.data)\n"
            ]
        },
        {
            "cell_type": "markdown",
            "metadata": {},
            "source": []
        },
        {
            "cell_type": "code",
            "execution_count": null,
            "metadata": {},
            "outputs": [],
            "source": [
                "class RetrieveModelMixin:\n",
                "    \"\"\"\n",
                "    Retrieve a model instance.\n",
                "    \"\"\"\n",
                "    def retrieve(self, request, *args, **kwargs):\n",
                "        instance = self.get_object()\n",
                "        serializer = self.get_serializer(instance)\n",
                "        return Response(serializer.data)\n"
            ]
        },
        {
            "cell_type": "markdown",
            "metadata": {},
            "source": []
        },
        {
            "cell_type": "code",
            "execution_count": null,
            "metadata": {},
            "outputs": [],
            "source": [
                "class UpdateModelMixin:\n",
                "    \"\"\"\n",
                "    Update a model instance.\n",
                "    \"\"\"\n",
                "    def update(self, request, *args, **kwargs):\n",
                "        partial = kwargs.pop('partial', False)\n",
                "        instance = self.get_object()\n",
                "        serializer = self.get_serializer(instance, data=request.data, partial=partial)\n",
                "        serializer.is_valid(raise_exception=True)\n",
                "        self.perform_update(serializer)\n",
                "\n",
                "        if getattr(instance, '_prefetched_objects_cache', None):\n",
                "            # If 'prefetch_related' has been applied to a queryset, we need to\n",
                "            # forcibly invalidate the prefetch cache on the instance.\n",
                "            instance._prefetched_objects_cache = {}\n",
                "\n",
                "        return Response(serializer.data)\n",
                "\n",
                "    def perform_update(self, serializer):\n",
                "        serializer.save()\n",
                "\n",
                "    def partial_update(self, request, *args, **kwargs):\n",
                "        kwargs['partial'] = True\n",
                "        return self.update(request, *args, **kwargs)\n"
            ]
        },
        {
            "cell_type": "markdown",
            "metadata": {},
            "source": []
        },
        {
            "cell_type": "code",
            "execution_count": null,
            "metadata": {},
            "outputs": [],
            "source": [
                "class DestroyModelMixin:\n",
                "    \"\"\"\n",
                "    Destroy a model instance.\n",
                "    \"\"\"\n",
                "    def destroy(self, request, *args, **kwargs):\n",
                "        instance = self.get_object()\n",
                "        self.perform_destroy(instance)\n",
                "        return Response(status=status.HTTP_204_NO_CONTENT)\n",
                "\n",
                "    def perform_destroy(self, instance):\n",
                "        instance.delete()\n",
                "\n"
            ]
        },
        {
            "cell_type": "markdown",
            "metadata": {},
            "source": []
        }
    ],
    "metadata": {
        "language_info": {
            "name": "python"
        }
    },
    "nbformat": 4,
    "nbformat_minor": 2
}