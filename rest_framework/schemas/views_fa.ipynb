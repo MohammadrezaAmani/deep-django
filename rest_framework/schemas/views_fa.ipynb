{
    "cells": [
        {
            "cell_type": "code",
            "execution_count": null,
            "metadata": {},
            "outputs": [],
            "source": [
                "\"\"\"\n",
                "views.py        # Houses `SchemaView`, `APIView` subclass.\n",
                "\n",
                "See schemas.__init__.py for package overview.\n",
                "\"\"\"\n",
                "from rest_framework import exceptions, renderers\n",
                "from rest_framework.response import Response\n",
                "from rest_framework.schemas import coreapi\n",
                "from rest_framework.settings import api_settings\n",
                "from rest_framework.views import APIView\n"
            ]
        },
        {
            "cell_type": "markdown",
            "metadata": {},
            "source": []
        },
        {
            "cell_type": "code",
            "execution_count": null,
            "metadata": {},
            "outputs": [],
            "source": [
                "class SchemaView(APIView):\n",
                "    _ignore_model_permissions = True\n",
                "    schema = None  # exclude from schema\n",
                "    renderer_classes = None\n",
                "    schema_generator = None\n",
                "    public = False\n",
                "\n",
                "    def __init__(self, *args, **kwargs):\n",
                "        super().__init__(*args, **kwargs)\n",
                "        if self.renderer_classes is None:\n",
                "            if coreapi.is_enabled():\n",
                "                self.renderer_classes = [\n",
                "                    renderers.CoreAPIOpenAPIRenderer,\n",
                "                    renderers.CoreJSONRenderer,\n",
                "                ]\n",
                "            else:\n",
                "                self.renderer_classes = [\n",
                "                    renderers.OpenAPIRenderer,\n",
                "                    renderers.JSONOpenAPIRenderer,\n",
                "                ]\n",
                "            if renderers.BrowsableAPIRenderer in api_settings.DEFAULT_RENDERER_CLASSES:\n",
                "                self.renderer_classes += [renderers.BrowsableAPIRenderer]\n",
                "\n",
                "    def get(self, request, *args, **kwargs):\n",
                "        schema = self.schema_generator.get_schema(request, self.public)\n",
                "        if schema is None:\n",
                "            raise exceptions.PermissionDenied()\n",
                "        return Response(schema)\n",
                "\n",
                "    def handle_exception(self, exc):\n",
                "        # Schema renderers do not render exceptions, so re-perform content\n",
                "        # negotiation with default renderers.\n",
                "        self.renderer_classes = api_settings.DEFAULT_RENDERER_CLASSES\n",
                "        neg = self.perform_content_negotiation(self.request, force=True)\n",
                "        self.request.accepted_renderer, self.request.accepted_media_type = neg\n",
                "        return super().handle_exception(exc)\n",
                "\n"
            ]
        },
        {
            "cell_type": "markdown",
            "metadata": {},
            "source": []
        }
    ],
    "metadata": {
        "language_info": {
            "name": "python"
        }
    },
    "nbformat": 4,
    "nbformat_minor": 2
}