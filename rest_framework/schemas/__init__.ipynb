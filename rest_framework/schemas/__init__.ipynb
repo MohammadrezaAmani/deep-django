{
 "cells": [
  {
   "cell_type": "code",
   "execution_count": null,
   "metadata": {},
   "outputs": [],
   "source": [
    "\"\"\"\n",
    "rest_framework.schemas\n",
    "\n",
    "schemas:\n",
    "    __init__.py\n",
    "    generators.py   # Top-down schema generation\n",
    "    inspectors.py   # Per-endpoint view introspection\n",
    "    utils.py        # Shared helper functions\n",
    "    views.py        # Houses `SchemaView`, `APIView` subclass.\n",
    "\n",
    "We expose a minimal \"public\" API directly from `schemas`. This covers the\n",
    "basic use-cases:\n",
    "\n",
    "    from rest_framework.schemas import (\n",
    "        AutoSchema,\n",
    "        ManualSchema,\n",
    "        get_schema_view,\n",
    "        SchemaGenerator,\n",
    "    )\n",
    "\n",
    "Other access should target the submodules directly\n",
    "\"\"\"\n",
    "from rest_framework.settings import api_settings\n",
    "\n",
    "from . import coreapi, openapi\n",
    "from .coreapi import AutoSchema, ManualSchema, SchemaGenerator  # noqa\n",
    "from .inspectors import DefaultSchema  # noqa"
   ]
  },
  {
   "cell_type": "markdown",
   "metadata": {},
   "source": []
  },
  {
   "cell_type": "code",
   "execution_count": null,
   "metadata": {},
   "outputs": [],
   "source": [
    "def get_schema_view(\n",
    "    title=None,\n",
    "    url=None,\n",
    "    description=None,\n",
    "    urlconf=None,\n",
    "    renderer_classes=None,\n",
    "    public=False,\n",
    "    patterns=None,\n",
    "    generator_class=None,\n",
    "    authentication_classes=api_settings.DEFAULT_AUTHENTICATION_CLASSES,\n",
    "    permission_classes=api_settings.DEFAULT_PERMISSION_CLASSES,\n",
    "    version=None,\n",
    "):\n",
    "    \"\"\"\n",
    "    Return a schema view.\n",
    "    \"\"\"\n",
    "    if generator_class is None:\n",
    "        if coreapi.is_enabled():\n",
    "            generator_class = coreapi.SchemaGenerator\n",
    "        else:\n",
    "            generator_class = openapi.SchemaGenerator\n",
    "\n",
    "    generator = generator_class(\n",
    "        title=title,\n",
    "        url=url,\n",
    "        description=description,\n",
    "        urlconf=urlconf,\n",
    "        patterns=patterns,\n",
    "        version=version,\n",
    "    )\n",
    "\n",
    "    # Avoid import cycle on APIView\n",
    "    from .views import SchemaView\n",
    "\n",
    "    return SchemaView.as_view(\n",
    "        renderer_classes=renderer_classes,\n",
    "        schema_generator=generator,\n",
    "        public=public,\n",
    "        authentication_classes=authentication_classes,\n",
    "        permission_classes=permission_classes,\n",
    "    )"
   ]
  },
  {
   "cell_type": "markdown",
   "metadata": {},
   "source": []
  }
 ],
 "metadata": {
  "language_info": {
   "name": "python"
  }
 },
 "nbformat": 4,
 "nbformat_minor": 2
}