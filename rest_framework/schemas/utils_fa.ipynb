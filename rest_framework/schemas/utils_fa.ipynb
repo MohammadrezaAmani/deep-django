{
 "cells": [
  {
   "cell_type": "code",
   "execution_count": null,
   "metadata": {},
   "outputs": [],
   "source": [
    "\"\"\"\n",
    "utils.py        # Shared helper functions\n",
    "\n",
    "See schemas.__init__.py for package overview.\n",
    "\"\"\"\n",
    "from django.db import models\n",
    "from django.utils.translation import gettext_lazy as _\n",
    "from rest_framework.mixins import RetrieveModelMixin"
   ]
  },
  {
   "cell_type": "markdown",
   "metadata": {},
   "source": []
  },
  {
   "cell_type": "code",
   "execution_count": null,
   "metadata": {},
   "outputs": [],
   "source": [
    "def is_list_view(path, method, view):\n",
    "    \"\"\"\n",
    "    Return True if the given path/method appears to represent a list view.\n",
    "    \"\"\"\n",
    "    if hasattr(view, \"action\"):\n",
    "        # Viewsets have an explicitly defined action, which we can inspect.\n",
    "        return view.action == \"list\"\n",
    "\n",
    "    if method.lower() != \"get\":\n",
    "        return False\n",
    "    if isinstance(view, RetrieveModelMixin):\n",
    "        return False\n",
    "    path_components = path.strip(\"/\").split(\"/\")\n",
    "    if path_components and \"{\" in path_components[-1]:\n",
    "        return False\n",
    "    return True"
   ]
  },
  {
   "cell_type": "markdown",
   "metadata": {},
   "source": []
  },
  {
   "cell_type": "code",
   "execution_count": null,
   "metadata": {},
   "outputs": [],
   "source": [
    "def get_pk_description(model, model_field):\n",
    "    if isinstance(model_field, models.AutoField):\n",
    "        value_type = _(\"unique integer value\")\n",
    "    elif isinstance(model_field, models.UUIDField):\n",
    "        value_type = _(\"UUID string\")\n",
    "    else:\n",
    "        value_type = _(\"unique value\")\n",
    "\n",
    "    return _(\"A {value_type} identifying this {name}.\").format(\n",
    "        value_type=value_type,\n",
    "        name=model._meta.verbose_name,\n",
    "    )"
   ]
  },
  {
   "cell_type": "markdown",
   "metadata": {},
   "source": []
  }
 ],
 "metadata": {
  "language_info": {
   "name": "python"
  }
 },
 "nbformat": 4,
 "nbformat_minor": 2
}