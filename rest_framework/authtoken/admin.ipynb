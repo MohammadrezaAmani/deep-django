{
    "cells": [
        {
            "cell_type": "code",
            "execution_count": null,
            "metadata": {},
            "outputs": [],
            "source": [
                "from django.contrib import admin\n",
                "from django.contrib.admin.utils import quote\n",
                "from django.contrib.admin.views.main import ChangeList\n",
                "from django.contrib.auth import get_user_model\n",
                "from django.core.exceptions import ValidationError\n",
                "from django.urls import reverse\n",
                "from django.utils.translation import gettext_lazy as _\n",
                "\n",
                "from rest_framework.authtoken.models import Token, TokenProxy\n",
                "\n",
                "User = get_user_model()\n"
            ]
        },
        {
            "cell_type": "markdown",
            "metadata": {},
            "source": []
        },
        {
            "cell_type": "code",
            "execution_count": null,
            "metadata": {},
            "outputs": [],
            "source": [
                "class TokenChangeList(ChangeList):\n",
                "    \"\"\"Map to matching User id\"\"\"\n",
                "    def url_for_result(self, result):\n",
                "        pk = result.user.pk\n",
                "        return reverse('admin:%s_%s_change' % (self.opts.app_label,\n",
                "                                               self.opts.model_name),\n",
                "                       args=(quote(pk),),\n",
                "                       current_app=self.model_admin.admin_site.name)\n"
            ]
        },
        {
            "cell_type": "markdown",
            "metadata": {},
            "source": []
        },
        {
            "cell_type": "code",
            "execution_count": null,
            "metadata": {},
            "outputs": [],
            "source": [
                "class TokenAdmin(admin.ModelAdmin):\n",
                "    list_display = ('key', 'user', 'created')\n",
                "    fields = ('user',)\n",
                "    search_fields = ('user__username',)\n",
                "    search_help_text = _('Username')\n",
                "    ordering = ('-created',)\n",
                "    actions = None  # Actions not compatible with mapped IDs.\n",
                "\n",
                "    def get_changelist(self, request, **kwargs):\n",
                "        return TokenChangeList\n",
                "\n",
                "    def get_object(self, request, object_id, from_field=None):\n",
                "        \"\"\"\n",
                "        Map from User ID to matching Token.\n",
                "        \"\"\"\n",
                "        queryset = self.get_queryset(request)\n",
                "        field = User._meta.pk\n",
                "        try:\n",
                "            object_id = field.to_python(object_id)\n",
                "            user = User.objects.get(**{field.name: object_id})\n",
                "            return queryset.get(user=user)\n",
                "        except (queryset.model.DoesNotExist, User.DoesNotExist, ValidationError, ValueError):\n",
                "            return None\n",
                "\n",
                "    def delete_model(self, request, obj):\n",
                "        # Map back to actual Token, since delete() uses pk.\n",
                "        token = Token.objects.get(key=obj.key)\n",
                "        return super().delete_model(request, token)\n"
            ]
        },
        {
            "cell_type": "markdown",
            "metadata": {},
            "source": []
        },
        {
            "cell_type": "code",
            "execution_count": null,
            "metadata": {},
            "outputs": [],
            "source": [
                "admin.site.register(TokenProxy, TokenAdmin)\n",
                "\n"
            ]
        },
        {
            "cell_type": "markdown",
            "metadata": {},
            "source": []
        }
    ],
    "metadata": {
        "language_info": {
            "name": "python"
        }
    },
    "nbformat": 4,
    "nbformat_minor": 2
}