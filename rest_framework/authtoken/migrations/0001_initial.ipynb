{
    "cells": [
        {
            "cell_type": "code",
            "execution_count": null,
            "metadata": {},
            "outputs": [],
            "source": [
                "from django.conf import settings\n",
                "from django.db import migrations, models\n"
            ]
        },
        {
            "cell_type": "markdown",
            "metadata": {},
            "source": []
        },
        {
            "cell_type": "code",
            "execution_count": null,
            "metadata": {},
            "outputs": [],
            "source": [
                "class Migration(migrations.Migration):\n",
                "\n",
                "    dependencies = [\n",
                "        migrations.swappable_dependency(settings.AUTH_USER_MODEL),\n",
                "    ]\n",
                "\n",
                "    operations = [\n",
                "        migrations.CreateModel(\n",
                "            name='Token',\n",
                "            fields=[\n",
                "                ('key', models.CharField(primary_key=True, serialize=False, max_length=40)),\n",
                "                ('created', models.DateTimeField(auto_now_add=True)),\n",
                "                ('user', models.OneToOneField(to=settings.AUTH_USER_MODEL, related_name='auth_token', on_delete=models.CASCADE)),\n",
                "            ],\n",
                "            options={\n",
                "            },\n",
                "            bases=(models.Model,),\n",
                "        ),\n",
                "    ]\n",
                "\n"
            ]
        },
        {
            "cell_type": "markdown",
            "metadata": {},
            "source": []
        }
    ],
    "metadata": {
        "language_info": {
            "name": "python"
        }
    },
    "nbformat": 4,
    "nbformat_minor": 2
}