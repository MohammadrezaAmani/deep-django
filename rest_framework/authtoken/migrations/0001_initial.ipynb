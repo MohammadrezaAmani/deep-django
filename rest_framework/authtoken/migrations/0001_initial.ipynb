{
 "cells": [
  {
   "cell_type": "code",
   "execution_count": null,
   "metadata": {},
   "outputs": [],
   "source": [
    "from django.conf import settings\n",
    "from django.db import migrations, models"
   ]
  },
  {
   "cell_type": "markdown",
   "metadata": {},
   "source": []
  },
  {
   "cell_type": "code",
   "execution_count": null,
   "metadata": {},
   "outputs": [],
   "source": [
    "class Migration(migrations.Migration):\n",
    "    dependencies = [\n",
    "        migrations.swappable_dependency(settings.AUTH_USER_MODEL),\n",
    "    ]\n",
    "\n",
    "    operations = [\n",
    "        migrations.CreateModel(\n",
    "            name=\"Token\",\n",
    "            fields=[\n",
    "                (\n",
    "                    \"key\",\n",
    "                    models.CharField(primary_key=True, serialize=False, max_length=40),\n",
    "                ),\n",
    "                (\"created\", models.DateTimeField(auto_now_add=True)),\n",
    "                (\n",
    "                    \"user\",\n",
    "                    models.OneToOneField(\n",
    "                        to=settings.AUTH_USER_MODEL,\n",
    "                        related_name=\"auth_token\",\n",
    "                        on_delete=models.CASCADE,\n",
    "                    ),\n",
    "                ),\n",
    "            ],\n",
    "            options={},\n",
    "            bases=(models.Model,),\n",
    "        ),\n",
    "    ]"
   ]
  },
  {
   "cell_type": "markdown",
   "metadata": {},
   "source": []
  }
 ],
 "metadata": {
  "language_info": {
   "name": "python"
  }
 },
 "nbformat": 4,
 "nbformat_minor": 2
}