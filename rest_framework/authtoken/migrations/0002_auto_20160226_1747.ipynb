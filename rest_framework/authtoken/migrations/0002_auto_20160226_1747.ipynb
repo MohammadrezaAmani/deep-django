{
 "cells": [
  {
   "cell_type": "code",
   "execution_count": null,
   "metadata": {},
   "outputs": [],
   "source": [
    "from django.conf import settings\n",
    "from django.db import migrations, models"
   ]
  },
  {
   "cell_type": "markdown",
   "metadata": {},
   "source": []
  },
  {
   "cell_type": "code",
   "execution_count": null,
   "metadata": {},
   "outputs": [],
   "source": [
    "class Migration(migrations.Migration):\n",
    "    dependencies = [\n",
    "        (\"authtoken\", \"0001_initial\"),\n",
    "    ]\n",
    "\n",
    "    operations = [\n",
    "        migrations.AlterModelOptions(\n",
    "            name=\"token\",\n",
    "            options={\"verbose_name_plural\": \"Tokens\", \"verbose_name\": \"Token\"},\n",
    "        ),\n",
    "        migrations.AlterField(\n",
    "            model_name=\"token\",\n",
    "            name=\"created\",\n",
    "            field=models.DateTimeField(verbose_name=\"Created\", auto_now_add=True),\n",
    "        ),\n",
    "        migrations.AlterField(\n",
    "            model_name=\"token\",\n",
    "            name=\"key\",\n",
    "            field=models.CharField(\n",
    "                verbose_name=\"Key\", max_length=40, primary_key=True, serialize=False\n",
    "            ),\n",
    "        ),\n",
    "        migrations.AlterField(\n",
    "            model_name=\"token\",\n",
    "            name=\"user\",\n",
    "            field=models.OneToOneField(\n",
    "                to=settings.AUTH_USER_MODEL,\n",
    "                verbose_name=\"User\",\n",
    "                related_name=\"auth_token\",\n",
    "                on_delete=models.CASCADE,\n",
    "            ),\n",
    "        ),\n",
    "    ]"
   ]
  },
  {
   "cell_type": "markdown",
   "metadata": {},
   "source": []
  }
 ],
 "metadata": {
  "language_info": {
   "name": "python"
  }
 },
 "nbformat": 4,
 "nbformat_minor": 2
}