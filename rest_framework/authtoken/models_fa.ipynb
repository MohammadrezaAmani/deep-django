{
 "cells": [
  {
   "cell_type": "code",
   "execution_count": null,
   "metadata": {},
   "outputs": [],
   "source": [
    "import binascii\n",
    "import os\n",
    "\n",
    "from django.conf import settings\n",
    "from django.db import models\n",
    "from django.utils.translation import gettext_lazy as _"
   ]
  },
  {
   "cell_type": "markdown",
   "metadata": {},
   "source": []
  },
  {
   "cell_type": "code",
   "execution_count": null,
   "metadata": {},
   "outputs": [],
   "source": [
    "class Token(models.Model):\n",
    "    \"\"\"\n",
    "    The default authorization token model.\n",
    "    \"\"\"\n",
    "\n",
    "    key = models.CharField(_(\"Key\"), max_length=40, primary_key=True)\n",
    "    user = models.OneToOneField(\n",
    "        settings.AUTH_USER_MODEL,\n",
    "        related_name=\"auth_token\",\n",
    "        on_delete=models.CASCADE,\n",
    "        verbose_name=_(\"User\"),\n",
    "    )\n",
    "    created = models.DateTimeField(_(\"Created\"), auto_now_add=True)\n",
    "\n",
    "    class Meta:\n",
    "        # Work around for a bug in Django:\n",
    "        # https://code.djangoproject.com/ticket/19422\n",
    "        #\n",
    "        # Also see corresponding ticket:\n",
    "        # https://github.com/encode/django-rest-framework/issues/705\n",
    "        abstract = \"rest_framework.authtoken\" not in settings.INSTALLED_APPS\n",
    "        verbose_name = _(\"Token\")\n",
    "        verbose_name_plural = _(\"Tokens\")\n",
    "\n",
    "    def save(self, *args, **kwargs):\n",
    "        if not self.key:\n",
    "            self.key = self.generate_key()\n",
    "        return super().save(*args, **kwargs)\n",
    "\n",
    "    @classmethod\n",
    "    def generate_key(cls):\n",
    "        return binascii.hexlify(os.urandom(20)).decode()\n",
    "\n",
    "    def __str__(self):\n",
    "        return self.key"
   ]
  },
  {
   "cell_type": "markdown",
   "metadata": {},
   "source": []
  },
  {
   "cell_type": "code",
   "execution_count": null,
   "metadata": {},
   "outputs": [],
   "source": [
    "class TokenProxy(Token):\n",
    "    \"\"\"\n",
    "    Proxy mapping pk to user pk for use in admin.\n",
    "    \"\"\"\n",
    "\n",
    "    @property\n",
    "    def pk(self):\n",
    "        return self.user_id\n",
    "\n",
    "    class Meta:\n",
    "        proxy = \"rest_framework.authtoken\" in settings.INSTALLED_APPS\n",
    "        abstract = \"rest_framework.authtoken\" not in settings.INSTALLED_APPS\n",
    "        verbose_name = _(\"Token\")\n",
    "        verbose_name_plural = _(\"Tokens\")"
   ]
  },
  {
   "cell_type": "markdown",
   "metadata": {},
   "source": []
  }
 ],
 "metadata": {
  "language_info": {
   "name": "python"
  }
 },
 "nbformat": 4,
 "nbformat_minor": 2
}