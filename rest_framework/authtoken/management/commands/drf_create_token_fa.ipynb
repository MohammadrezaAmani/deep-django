{
 "cells": [
  {
   "cell_type": "code",
   "execution_count": null,
   "metadata": {},
   "outputs": [],
   "source": [
    "from django.contrib.auth import get_user_model\n",
    "from django.core.management.base import BaseCommand, CommandError\n",
    "from rest_framework.authtoken.models import Token\n",
    "\n",
    "UserModel = get_user_model()"
   ]
  },
  {
   "cell_type": "markdown",
   "metadata": {},
   "source": []
  },
  {
   "cell_type": "code",
   "execution_count": null,
   "metadata": {},
   "outputs": [],
   "source": [
    "class Command(BaseCommand):\n",
    "    help = \"Create DRF Token for a given user\"\n",
    "\n",
    "    def create_user_token(self, username, reset_token):\n",
    "        user = UserModel._default_manager.get_by_natural_key(username)\n",
    "\n",
    "        if reset_token:\n",
    "            Token.objects.filter(user=user).delete()\n",
    "\n",
    "        token = Token.objects.get_or_create(user=user)\n",
    "        return token[0]\n",
    "\n",
    "    def add_arguments(self, parser):\n",
    "        parser.add_argument(\"username\", type=str)\n",
    "\n",
    "        parser.add_argument(\n",
    "            \"-r\",\n",
    "            \"--reset\",\n",
    "            action=\"store_true\",\n",
    "            dest=\"reset_token\",\n",
    "            default=False,\n",
    "            help=\"Reset existing User token and create a new one\",\n",
    "        )\n",
    "\n",
    "    def handle(self, *args, **options):\n",
    "        username = options[\"username\"]\n",
    "        reset_token = options[\"reset_token\"]\n",
    "\n",
    "        try:\n",
    "            token = self.create_user_token(username, reset_token)\n",
    "        except UserModel.DoesNotExist:\n",
    "            raise CommandError(\n",
    "                \"Cannot create the Token: user {} does not exist\".format(username)\n",
    "            )\n",
    "        self.stdout.write(\"Generated token {} for user {}\".format(token.key, username))"
   ]
  },
  {
   "cell_type": "markdown",
   "metadata": {},
   "source": []
  }
 ],
 "metadata": {
  "language_info": {
   "name": "python"
  }
 },
 "nbformat": 4,
 "nbformat_minor": 2
}