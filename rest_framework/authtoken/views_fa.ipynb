{
    "cells": [
        {
            "cell_type": "code",
            "execution_count": null,
            "metadata": {},
            "outputs": [],
            "source": [
                "from rest_framework import parsers, renderers\n",
                "from rest_framework.authtoken.models import Token\n",
                "from rest_framework.authtoken.serializers import AuthTokenSerializer\n",
                "from rest_framework.compat import coreapi, coreschema\n",
                "from rest_framework.response import Response\n",
                "from rest_framework.schemas import ManualSchema\n",
                "from rest_framework.schemas import coreapi as coreapi_schema\n",
                "from rest_framework.views import APIView\n"
            ]
        },
        {
            "cell_type": "markdown",
            "metadata": {},
            "source": []
        },
        {
            "cell_type": "code",
            "execution_count": null,
            "metadata": {},
            "outputs": [],
            "source": [
                "class ObtainAuthToken(APIView):\n",
                "    throttle_classes = ()\n",
                "    permission_classes = ()\n",
                "    parser_classes = (\n",
                "        parsers.FormParser,\n",
                "        parsers.MultiPartParser,\n",
                "        parsers.JSONParser,\n",
                "    )\n",
                "    renderer_classes = (renderers.JSONRenderer,)\n",
                "    serializer_class = AuthTokenSerializer\n",
                "\n",
                "    if coreapi_schema.is_enabled():\n",
                "        schema = ManualSchema(\n",
                "            fields=[\n",
                "                coreapi.Field(\n",
                "                    name=\"username\",\n",
                "                    required=True,\n",
                "                    location=\"form\",\n",
                "                    schema=coreschema.String(\n",
                "                        title=\"Username\",\n",
                "                        description=\"Valid username for authentication\",\n",
                "                    ),\n",
                "                ),\n",
                "                coreapi.Field(\n",
                "                    name=\"password\",\n",
                "                    required=True,\n",
                "                    location=\"form\",\n",
                "                    schema=coreschema.String(\n",
                "                        title=\"Password\",\n",
                "                        description=\"Valid password for authentication\",\n",
                "                    ),\n",
                "                ),\n",
                "            ],\n",
                "            encoding=\"application/json\",\n",
                "        )\n",
                "\n",
                "    def get_serializer_context(self):\n",
                "        return {\"request\": self.request, \"format\": self.format_kwarg, \"view\": self}\n",
                "\n",
                "    def get_serializer(self, *args, **kwargs):\n",
                "        kwargs[\"context\"] = self.get_serializer_context()\n",
                "        return self.serializer_class(*args, **kwargs)\n",
                "\n",
                "    def post(self, request, *args, **kwargs):\n",
                "        serializer = self.get_serializer(data=request.data)\n",
                "        serializer.is_valid(raise_exception=True)\n",
                "        user = serializer.validated_data[\"user\"]\n",
                "        token, created = Token.objects.get_or_create(user=user)\n",
                "        return Response({\"token\": token.key})\n"
            ]
        },
        {
            "cell_type": "markdown",
            "metadata": {},
            "source": []
        },
        {
            "cell_type": "code",
            "execution_count": null,
            "metadata": {},
            "outputs": [],
            "source": [
                "obtain_auth_token = ObtainAuthToken.as_view()\n",
                "\n"
            ]
        },
        {
            "cell_type": "markdown",
            "metadata": {},
            "source": []
        }
    ],
    "metadata": {
        "language_info": {
            "name": "python"
        }
    },
    "nbformat": 4,
    "nbformat_minor": 2
}