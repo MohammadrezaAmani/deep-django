{
    "cells": [
        {
            "cell_type": "code",
            "execution_count": null,
            "metadata": {},
            "outputs": [],
            "source": [
                "from django.contrib.auth import authenticate\n",
                "from django.utils.translation import gettext_lazy as _\n",
                "from rest_framework import serializers\n"
            ]
        },
        {
            "cell_type": "markdown",
            "metadata": {},
            "source": []
        },
        {
            "cell_type": "code",
            "execution_count": null,
            "metadata": {},
            "outputs": [],
            "source": [
                "class AuthTokenSerializer(serializers.Serializer):\n",
                "    username = serializers.CharField(label=_(\"Username\"), write_only=True)\n",
                "    password = serializers.CharField(\n",
                "        label=_(\"Password\"),\n",
                "        style={\"input_type\": \"password\"},\n",
                "        trim_whitespace=False,\n",
                "        write_only=True,\n",
                "    )\n",
                "    token = serializers.CharField(label=_(\"Token\"), read_only=True)\n",
                "\n",
                "    def validate(self, attrs):\n",
                "        username = attrs.get(\"username\")\n",
                "        password = attrs.get(\"password\")\n",
                "\n",
                "        if username and password:\n",
                "            user = authenticate(\n",
                "                request=self.context.get(\"request\"),\n",
                "                username=username,\n",
                "                password=password,\n",
                "            )\n",
                "\n",
                "            # The authenticate call simply returns None for is_active=False\n",
                "            # users. (Assuming the default ModelBackend authentication\n",
                "            # backend.)\n",
                "            if not user:\n",
                "                msg = _(\"Unable to log in with provided credentials.\")\n",
                "                raise serializers.ValidationError(msg, code=\"authorization\")\n",
                "        else:\n",
                "            msg = _('Must include \"username\" and \"password\".')\n",
                "            raise serializers.ValidationError(msg, code=\"authorization\")\n",
                "\n",
                "        attrs[\"user\"] = user\n",
                "        return attrs\n",
                "\n"
            ]
        },
        {
            "cell_type": "markdown",
            "metadata": {},
            "source": []
        }
    ],
    "metadata": {
        "language_info": {
            "name": "python"
        }
    },
    "nbformat": 4,
    "nbformat_minor": 2
}