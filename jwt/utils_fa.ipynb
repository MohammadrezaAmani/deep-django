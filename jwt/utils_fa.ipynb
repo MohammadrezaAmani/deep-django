{
    "cells": [
        {
            "cell_type": "code",
            "execution_count": null,
            "metadata": {},
            "outputs": [],
            "source": [
                "import base64\n",
                "import binascii\n",
                "import re\n",
                "from typing import Union\n",
                "\n",
                "try:\n",
                "    from cryptography.hazmat.primitives.asymmetric.ec import EllipticCurve\n",
                "    from cryptography.hazmat.primitives.asymmetric.utils import (\n",
                "        decode_dss_signature,\n",
                "        encode_dss_signature,\n",
                "    )\n",
                "except ModuleNotFoundError:\n",
                "    pass\n"
            ]
        },
        {
            "cell_type": "markdown",
            "metadata": {},
            "source": []
        },
        {
            "cell_type": "code",
            "execution_count": null,
            "metadata": {},
            "outputs": [],
            "source": [
                "def force_bytes(value: Union[bytes, str]) -> bytes:\n",
                "    if isinstance(value, str):\n",
                "        return value.encode(\"utf-8\")\n",
                "    elif isinstance(value, bytes):\n",
                "        return value\n",
                "    else:\n",
                "        raise TypeError(\"Expected a string value\")\n"
            ]
        },
        {
            "cell_type": "markdown",
            "metadata": {},
            "source": []
        },
        {
            "cell_type": "code",
            "execution_count": null,
            "metadata": {},
            "outputs": [],
            "source": [
                "def base64url_decode(input: Union[bytes, str]) -> bytes:\n",
                "    input_bytes = force_bytes(input)\n",
                "\n",
                "    rem = len(input_bytes) % 4\n",
                "\n",
                "    if rem > 0:\n",
                "        input_bytes += b\"=\" * (4 - rem)\n",
                "\n",
                "    return base64.urlsafe_b64decode(input_bytes)\n"
            ]
        },
        {
            "cell_type": "markdown",
            "metadata": {},
            "source": []
        },
        {
            "cell_type": "code",
            "execution_count": null,
            "metadata": {},
            "outputs": [],
            "source": [
                "def base64url_encode(input: bytes) -> bytes:\n",
                "    return base64.urlsafe_b64encode(input).replace(b\"=\", b\"\")\n"
            ]
        },
        {
            "cell_type": "markdown",
            "metadata": {},
            "source": []
        },
        {
            "cell_type": "code",
            "execution_count": null,
            "metadata": {},
            "outputs": [],
            "source": [
                "def to_base64url_uint(val: int) -> bytes:\n",
                "    if val < 0:\n",
                "        raise ValueError(\"Must be a positive integer\")\n",
                "\n",
                "    int_bytes = bytes_from_int(val)\n",
                "\n",
                "    if len(int_bytes) == 0:\n",
                "        int_bytes = b\"\\x00\"\n",
                "\n",
                "    return base64url_encode(int_bytes)\n"
            ]
        },
        {
            "cell_type": "markdown",
            "metadata": {},
            "source": []
        },
        {
            "cell_type": "code",
            "execution_count": null,
            "metadata": {},
            "outputs": [],
            "source": [
                "def from_base64url_uint(val: Union[bytes, str]) -> int:\n",
                "    data = base64url_decode(force_bytes(val))\n",
                "    return int.from_bytes(data, byteorder=\"big\")\n"
            ]
        },
        {
            "cell_type": "markdown",
            "metadata": {},
            "source": []
        },
        {
            "cell_type": "code",
            "execution_count": null,
            "metadata": {},
            "outputs": [],
            "source": [
                "def number_to_bytes(num: int, num_bytes: int) -> bytes:\n",
                "    padded_hex = \"%0*x\" % (2 * num_bytes, num)\n",
                "    return binascii.a2b_hex(padded_hex.encode(\"ascii\"))\n"
            ]
        },
        {
            "cell_type": "markdown",
            "metadata": {},
            "source": []
        },
        {
            "cell_type": "code",
            "execution_count": null,
            "metadata": {},
            "outputs": [],
            "source": [
                "def bytes_to_number(string: bytes) -> int:\n",
                "    return int(binascii.b2a_hex(string), 16)\n"
            ]
        },
        {
            "cell_type": "markdown",
            "metadata": {},
            "source": []
        },
        {
            "cell_type": "code",
            "execution_count": null,
            "metadata": {},
            "outputs": [],
            "source": [
                "def bytes_from_int(val: int) -> bytes:\n",
                "    remaining = val\n",
                "    byte_length = 0\n",
                "\n",
                "    while remaining != 0:\n",
                "        remaining >>= 8\n",
                "        byte_length += 1\n",
                "\n",
                "    return val.to_bytes(byte_length, \"big\", signed=False)\n"
            ]
        },
        {
            "cell_type": "markdown",
            "metadata": {},
            "source": []
        },
        {
            "cell_type": "code",
            "execution_count": null,
            "metadata": {},
            "outputs": [],
            "source": [
                "def der_to_raw_signature(der_sig: bytes, curve: \"EllipticCurve\") -> bytes:\n",
                "    num_bits = curve.key_size\n",
                "    num_bytes = (num_bits + 7) // 8\n",
                "\n",
                "    r, s = decode_dss_signature(der_sig)\n",
                "\n",
                "    return number_to_bytes(r, num_bytes) + number_to_bytes(s, num_bytes)\n"
            ]
        },
        {
            "cell_type": "markdown",
            "metadata": {},
            "source": []
        },
        {
            "cell_type": "code",
            "execution_count": null,
            "metadata": {},
            "outputs": [],
            "source": [
                "def raw_to_der_signature(raw_sig: bytes, curve: \"EllipticCurve\") -> bytes:\n",
                "    num_bits = curve.key_size\n",
                "    num_bytes = (num_bits + 7) // 8\n",
                "\n",
                "    if len(raw_sig) != 2 * num_bytes:\n",
                "        raise ValueError(\"Invalid signature\")\n",
                "\n",
                "    r = bytes_to_number(raw_sig[:num_bytes])\n",
                "    s = bytes_to_number(raw_sig[num_bytes:])\n",
                "\n",
                "    return bytes(encode_dss_signature(r, s))\n"
            ]
        },
        {
            "cell_type": "markdown",
            "metadata": {},
            "source": []
        },
        {
            "cell_type": "code",
            "execution_count": null,
            "metadata": {},
            "outputs": [],
            "source": [
                "# Based on https://github.com/hynek/pem/blob/7ad94db26b0bc21d10953f5dbad3acfdfacf57aa/src/pem/_core.py#L224-L252\n",
                "_PEMS = {\n",
                "    b\"CERTIFICATE\",\n",
                "    b\"TRUSTED CERTIFICATE\",\n",
                "    b\"PRIVATE KEY\",\n",
                "    b\"PUBLIC KEY\",\n",
                "    b\"ENCRYPTED PRIVATE KEY\",\n",
                "    b\"OPENSSH PRIVATE KEY\",\n",
                "    b\"DSA PRIVATE KEY\",\n",
                "    b\"RSA PRIVATE KEY\",\n",
                "    b\"RSA PUBLIC KEY\",\n",
                "    b\"EC PRIVATE KEY\",\n",
                "    b\"DH PARAMETERS\",\n",
                "    b\"NEW CERTIFICATE REQUEST\",\n",
                "    b\"CERTIFICATE REQUEST\",\n",
                "    b\"SSH2 PUBLIC KEY\",\n",
                "    b\"SSH2 ENCRYPTED PRIVATE KEY\",\n",
                "    b\"X509 CRL\",\n",
                "}\n",
                "\n",
                "_PEM_RE = re.compile(\n",
                "    b\"----[- ]BEGIN (\"\n",
                "    + b\"|\".join(_PEMS)\n",
                "    + b\"\"\")[- ]----\\r?\n",
                ".+?\\r?\n",
                "----[- ]END \\\\1[- ]----\\r?\\n?\"\"\",\n",
                "    re.DOTALL,\n",
                ")\n"
            ]
        },
        {
            "cell_type": "markdown",
            "metadata": {},
            "source": []
        },
        {
            "cell_type": "code",
            "execution_count": null,
            "metadata": {},
            "outputs": [],
            "source": [
                "def is_pem_format(key: bytes) -> bool:\n",
                "    return bool(_PEM_RE.search(key))\n"
            ]
        },
        {
            "cell_type": "markdown",
            "metadata": {},
            "source": []
        },
        {
            "cell_type": "code",
            "execution_count": null,
            "metadata": {},
            "outputs": [],
            "source": [
                "# Based on https://github.com/pyca/cryptography/blob/bcb70852d577b3f490f015378c75cba74986297b/src/cryptography/hazmat/primitives/serialization/ssh.py#L40-L46\n",
                "_CERT_SUFFIX = b\"-cert-v01@openssh.com\"\n",
                "_SSH_PUBKEY_RC = re.compile(rb\"\\A(\\S+)[ \\t]+(\\S+)\")\n",
                "_SSH_KEY_FORMATS = [\n",
                "    b\"ssh-ed25519\",\n",
                "    b\"ssh-rsa\",\n",
                "    b\"ssh-dss\",\n",
                "    b\"ecdsa-sha2-nistp256\",\n",
                "    b\"ecdsa-sha2-nistp384\",\n",
                "    b\"ecdsa-sha2-nistp521\",\n",
                "]\n"
            ]
        },
        {
            "cell_type": "markdown",
            "metadata": {},
            "source": []
        },
        {
            "cell_type": "code",
            "execution_count": null,
            "metadata": {},
            "outputs": [],
            "source": [
                "def is_ssh_key(key: bytes) -> bool:\n",
                "    if any(string_value in key for string_value in _SSH_KEY_FORMATS):\n",
                "        return True\n",
                "\n",
                "    ssh_pubkey_match = _SSH_PUBKEY_RC.match(key)\n",
                "    if ssh_pubkey_match:\n",
                "        key_type = ssh_pubkey_match.group(1)\n",
                "        if _CERT_SUFFIX == key_type[-len(_CERT_SUFFIX) :]:\n",
                "            return True\n",
                "\n",
                "    return False\n",
                "\n"
            ]
        },
        {
            "cell_type": "markdown",
            "metadata": {},
            "source": []
        }
    ],
    "metadata": {
        "language_info": {
            "name": "python"
        }
    },
    "nbformat": 4,
    "nbformat_minor": 2
}