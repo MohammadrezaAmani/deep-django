{
 "cells": [
  {
   "cell_type": "code",
   "execution_count": null,
   "metadata": {},
   "outputs": [],
   "source": [
    "import time\n",
    "from typing import Optional\n",
    "\n",
    "from .api_jwk import PyJWKSet, PyJWTSetWithTimestamp"
   ]
  },
  {
   "cell_type": "markdown",
   "metadata": {},
   "source": []
  },
  {
   "cell_type": "code",
   "execution_count": null,
   "metadata": {},
   "outputs": [],
   "source": [
    "class JWKSetCache:\n",
    "    def __init__(self, lifespan: int) -> None:\n",
    "        self.jwk_set_with_timestamp: Optional[PyJWTSetWithTimestamp] = None\n",
    "        self.lifespan = lifespan\n",
    "\n",
    "    def put(self, jwk_set: PyJWKSet) -> None:\n",
    "        if jwk_set is not None:\n",
    "            self.jwk_set_with_timestamp = PyJWTSetWithTimestamp(jwk_set)\n",
    "        else:\n",
    "            # clear cache\n",
    "            self.jwk_set_with_timestamp = None\n",
    "\n",
    "    def get(self) -> Optional[PyJWKSet]:\n",
    "        if self.jwk_set_with_timestamp is None or self.is_expired():\n",
    "            return None\n",
    "\n",
    "        return self.jwk_set_with_timestamp.get_jwk_set()\n",
    "\n",
    "    def is_expired(self) -> bool:\n",
    "        return (\n",
    "            self.jwk_set_with_timestamp is not None\n",
    "            and self.lifespan > -1\n",
    "            and time.monotonic()\n",
    "            > self.jwk_set_with_timestamp.get_timestamp() + self.lifespan\n",
    "        )"
   ]
  },
  {
   "cell_type": "markdown",
   "metadata": {},
   "source": []
  }
 ],
 "metadata": {
  "language_info": {
   "name": "python"
  }
 },
 "nbformat": 4,
 "nbformat_minor": 2
}