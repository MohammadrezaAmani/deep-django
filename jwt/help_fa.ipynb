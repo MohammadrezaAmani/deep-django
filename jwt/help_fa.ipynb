{
 "cells": [
  {
   "cell_type": "code",
   "execution_count": null,
   "metadata": {},
   "outputs": [],
   "source": [
    "import json\n",
    "import platform\n",
    "import sys\n",
    "from typing import Dict\n",
    "\n",
    "from . import __version__ as pyjwt_version\n",
    "\n",
    "try:\n",
    "    import cryptography\n",
    "\n",
    "    cryptography_version = cryptography.__version__\n",
    "except ModuleNotFoundError:\n",
    "    cryptography_version = \"\""
   ]
  },
  {
   "cell_type": "markdown",
   "metadata": {},
   "source": []
  },
  {
   "cell_type": "code",
   "execution_count": null,
   "metadata": {},
   "outputs": [],
   "source": [
    "def info() -> Dict[str, Dict[str, str]]:\n",
    "    \"\"\"\n",
    "    Generate information for a bug report.\n",
    "    Based on the requests package help utility module.\n",
    "    \"\"\"\n",
    "    try:\n",
    "        platform_info = {\n",
    "            \"system\": platform.system(),\n",
    "            \"release\": platform.release(),\n",
    "        }\n",
    "    except OSError:\n",
    "        platform_info = {\"system\": \"Unknown\", \"release\": \"Unknown\"}\n",
    "\n",
    "    implementation = platform.python_implementation()\n",
    "\n",
    "    if implementation == \"CPython\":\n",
    "        implementation_version = platform.python_version()\n",
    "    elif implementation == \"PyPy\":\n",
    "        pypy_version_info = sys.pypy_version_info  # type: ignore[attr-defined]\n",
    "        implementation_version = (\n",
    "            f\"{pypy_version_info.major}.\"\n",
    "            f\"{pypy_version_info.minor}.\"\n",
    "            f\"{pypy_version_info.micro}\"\n",
    "        )\n",
    "        if pypy_version_info.releaselevel != \"final\":\n",
    "            implementation_version = \"\".join(\n",
    "                [implementation_version, pypy_version_info.releaselevel]\n",
    "            )\n",
    "    else:\n",
    "        implementation_version = \"Unknown\"\n",
    "\n",
    "    return {\n",
    "        \"platform\": platform_info,\n",
    "        \"implementation\": {\n",
    "            \"name\": implementation,\n",
    "            \"version\": implementation_version,\n",
    "        },\n",
    "        \"cryptography\": {\"version\": cryptography_version},\n",
    "        \"pyjwt\": {\"version\": pyjwt_version},\n",
    "    }"
   ]
  },
  {
   "cell_type": "markdown",
   "metadata": {},
   "source": []
  },
  {
   "cell_type": "code",
   "execution_count": null,
   "metadata": {},
   "outputs": [],
   "source": [
    "def main() -> None:\n",
    "    \"\"\"Pretty-print the bug information as JSON.\"\"\"\n",
    "    print(json.dumps(info(), sort_keys=True, indent=2))"
   ]
  },
  {
   "cell_type": "markdown",
   "metadata": {},
   "source": []
  },
  {
   "cell_type": "code",
   "execution_count": null,
   "metadata": {},
   "outputs": [],
   "source": [
    "if __name__ == \"__main__\":\n",
    "    main()"
   ]
  },
  {
   "cell_type": "markdown",
   "metadata": {},
   "source": []
  }
 ],
 "metadata": {
  "language_info": {
   "name": "python"
  }
 },
 "nbformat": 4,
 "nbformat_minor": 2
}